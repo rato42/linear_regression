{
  "cells": [
    {
      "cell_type": "markdown",
      "metadata": {
        "id": "view-in-github"
      },
      "source": [
        "<a href=\"https://colab.research.google.com/github/rato42/linear_regression/blob/unstable-yeah-sure/CLASSBASED_new_linear_regression.ipynb\" target=\"_parent\"><img src=\"https://colab.research.google.com/assets/colab-badge.svg\" alt=\"Open In Colab\"/></a>"
      ]
    },
    {
      "cell_type": "markdown",
      "metadata": {
        "id": "EwX1y9X8yfED"
      },
      "source": [
        "# Imports\n"
      ]
    },
    {
      "cell_type": "code",
      "execution_count": 1,
      "metadata": {
        "colab": {
          "base_uri": "https://localhost:8080/"
        },
        "id": "sOJUZR18gkp5",
        "outputId": "dd4a2f5c-7c6d-4675-937c-4e5202e40ef1"
      },
      "outputs": [
        {
          "name": "stdout",
          "output_type": "stream",
          "text": [
            "Running outside Colab (VS Code/local)\n"
          ]
        }
      ],
      "source": [
        "import sys\n",
        "\n",
        "# Detect Colab environment\n",
        "IN_COLAB = \"google.colab\" in sys.modules\n",
        "\n",
        "if IN_COLAB:\n",
        "    from google.colab import drive, auth\n",
        "    from googleapiclient.discovery import build\n",
        "    from googleapiclient.http import MediaIoBaseDownload\n",
        "    !pip install pwlf\n",
        "\n",
        "    import pwlf\n",
        "\n",
        "    auth.authenticate_user()\n",
        "    drive.mount(\"/content/drive\")\n",
        "else:\n",
        "    import pwlf\n",
        "    from oauth2client.service_account import ServiceAccountCredentials\n",
        "\n",
        "    print(\"Running outside Colab (VS Code/local)\")\n",
        "\n",
        "try:\n",
        "    import gspread\n",
        "except ModuleNotFoundError:\n",
        "    if IN_COLAB and \"google.colab\" in str(get_ipython()):\n",
        "        %pip install gspread\n",
        "    import gspread\n",
        "\n",
        "from gspread_dataframe import set_with_dataframe"
      ]
    },
    {
      "cell_type": "code",
      "execution_count": 2,
      "metadata": {
        "id": "uc_HtA6xvVE2"
      },
      "outputs": [],
      "source": [
        "\n",
        "import os\n",
        "\n",
        "import time\n",
        "\n",
        "import math\n",
        "import scipy.stats as stats\n",
        "import pandas as pd\n",
        "import numpy as np\n",
        "\n",
        "from statsmodels.genmod.generalized_estimating_equations import GEE\n",
        "from statsmodels.genmod.families import Poisson\n",
        "from statsmodels.genmod.cov_struct import Autoregressive\n",
        "from sklearn.linear_model import Ridge\n",
        "import statsmodels.api as sm\n",
        "\n",
        "from openpyxl import load_workbook\n",
        "from openpyxl.styles import Alignment\n",
        "\n",
        "from scipy.stats import linregress, ttest_ind, ttest_rel, ttest_1samp\n",
        "import matplotlib.pyplot as plt\n",
        "import re\n",
        "from openpyxl.drawing.image import Image\n",
        "from matplotlib.font_manager import FontProperties\n",
        "from io import BytesIO\n",
        "import statsmodels.formula.api as smf\n",
        "import statsmodels.api as sm\n",
        "\n",
        "import numpy as np\n",
        "import plotly.graph_objects as go\n",
        "\n",
        "\n",
        "from datetime import datetime, timedelta\n",
        "\n",
        "from statsmodels.stats.stattools import durbin_watson\n",
        "from statsmodels.stats.diagnostic import acorr_ljungbox\n",
        "from statsmodels.tools.tools import add_constant\n",
        "from statsmodels.tsa.arima.model import ARIMA\n",
        "from statsmodels.graphics.tsaplots import plot_acf, plot_pacf\n",
        "from statsmodels.tsa.statespace.sarimax import SARIMAX\n",
        "\n",
        "from sklearn.preprocessing import StandardScaler\n",
        "from sklearn.model_selection import train_test_split\n",
        "from sklearn.metrics import r2_score, mean_squared_error\n",
        "from sklearn.pipeline import Pipeline\n",
        "from sklearn.base import BaseEstimator, TransformerMixin\n",
        "from sklearn.preprocessing import FunctionTransformer\n",
        "\n",
        "from dateutil.relativedelta import relativedelta\n",
        "\n",
        "from sklearn import set_config\n",
        "set_config(display=\"diagram\")\n",
        "\n",
        "import logging\n",
        "from typing import Dict, Any\n",
        "\n",
        "import io"
      ]
    },
    {
      "cell_type": "markdown",
      "metadata": {
        "id": "M6pmUGm9ycJ_"
      },
      "source": [
        "# LOAD --- data from gsheet if colab or local\n"
      ]
    },
    {
      "cell_type": "code",
      "execution_count": 3,
      "metadata": {
        "id": "r6jsbsBZvWHp"
      },
      "outputs": [],
      "source": [
        "dados_brutos = None\n",
        "output_wksheet = None\n",
        "\n",
        "input_path = \"https://docs.google.com/spreadsheets/d/1m3eEaxWT4Unb8jBZWKjiLivavfA0x3PT1F1Rz1eXwVE/edit?gid=0\"\n",
        "output_path = \"https://docs.google.com/spreadsheets/d/1RzC3DfKNUwYA-qfUN0i53hUwRkWGMBOCoYQqdqG4MQY/edit?gid=0\"\n",
        "\n",
        "local_input_path = (\n",
        "    #\"D:\\\\CodeStuff\\\\Stats\\\\colab_linear_regression\\\\linear_regression\\\\input\\\\input.csv\" ### poa\n",
        "    #\"D:\\\\CodeStuff\\\\Stats\\\\colab_linear_regression\\\\linear_regression\\\\input\\\\input_backup_com_aps_total_RS.xlsx\" ### rs\n",
        "    #\"D:\\\\CodeStuff\\\\Stats\\\\colab_linear_regression\\\\linear_regression\\\\input\\\\input_backup_com_aps_total.xlsx\"\n",
        "    #\"D:\\\\CodeStuff\\\\Stats\\\\colab_linear_regression\\\\linear_regression\\\\input\\\\input_backup_com_aps_total_RS_percentual.xlsx\"\n",
        "    #\"D:\\\\CodeStuff\\\\Stats\\\\colab_linear_regression\\\\linear_regression\\\\input\\\\input_IR_1000_poa.xlsx\"\n",
        "    #\"D:\\\\CodeStuff\\\\Stats\\\\colab_linear_regression\\\\linear_regression\\\\input\\\\input_IR_1000_brasil.xlsx\"\n",
        "    #\"D:\\\\CodeStuff\\\\Stats\\\\colab_linear_regression\\\\linear_regression\\\\input\\\\regions_IR_1000.xlsx\"\n",
        "    \"D:\\\\CodeStuff\\\\Stats\\\\colab_linear_regression\\\\linear_regression\\\\input\\\\raw_regions_joined.xlsx\"\n",
        ")\n",
        "\n",
        "output_wksheet = None\n",
        "\n",
        "if IN_COLAB:\n",
        "    import gspread\n",
        "    from google.auth import default\n",
        "\n",
        "    auth.authenticate_user()\n",
        "    creds, _ = default()\n",
        "    gc = gspread.authorize(creds)\n",
        "    workbook = gc.open_by_url(input_path)\n",
        "    worksheets = workbook.worksheets()\n",
        "    output_wksheet = gc.open_by_url(output_path)\n",
        "    dados_brutos = worksheets[0].get_all_values()\n",
        "else:\n",
        "    try:\n",
        "        dados_brutos = pd.read_csv(local_input_path, header=None).values.tolist()\n",
        "    except:\n",
        "        dados_brutos = pd.read_excel(local_input_path, header=None).values.tolist()"
      ]
    },
    {
      "cell_type": "markdown",
      "metadata": {
        "id": "wNrVpR84NIXY"
      },
      "source": [
        "# TODO LIST"
      ]
    },
    {
      "cell_type": "markdown",
      "metadata": {},
      "source": [
        "PROMPT\n",
        "im doing a ITS. here is the structure\n",
        "data is monthly, from 2016 to 2024\n",
        "A PraisWinsten regression\n",
        "\n",
        "the following dummies:\n",
        "Pandemia_Step [2020 - 2022] - binary\n",
        "Pandemia_Trend [2020 - 2022] - increase by 1 by period\n",
        "PosPandemia_Step [2022 - 2024] - binary\n",
        "PosPandemia_Trend [2022 - 2024] - increase by 1 by period\n",
        "Lockdown 2020 [03/2020 - 05/2020] - pulse, binary\n",
        "Locdown 2021 [04/2021 - 05/2021] - pulse, binary"
      ]
    },
    {
      "cell_type": "code",
      "execution_count": 4,
      "metadata": {},
      "outputs": [],
      "source": [
        "#Parte 1 – Análise geral com grupo controle\n",
        "#\n",
        "#    ITS com controle (como já falamos)\n",
        "#\n",
        "#    Mostra que saúde mental cresceu mais que os atendimentos gerais\n",
        "#\n",
        "#    Mostra os efeitos da pandemia nesse comportamento\n",
        "#\n",
        "#Parte 2 – Análise dos subgrupos (sem controle)\n",
        "#\n",
        "#    ITS separado para cada diagnóstico (ex: CID-10 F32, F41, etc.)\n",
        "#\n",
        "#    Sem grupo controle, mas comparando antes/depois da pandemia\n",
        "#\n",
        "#    Pode usar o mesmo modelo (Prais-Winsten com step + trend)"
      ]
    },
    {
      "cell_type": "code",
      "execution_count": 5,
      "metadata": {},
      "outputs": [],
      "source": [
        "#Omnibus Test: The high value (41.163) and the p-value (< 0.0001) \n",
        "# suggest that the residuals deviate from normality, which might indicate some model specification issues.\n",
        "#\n",
        "#Jarque-Bera Test: Similarly, this test suggests non-normality in the residuals."
      ]
    },
    {
      "cell_type": "code",
      "execution_count": 6,
      "metadata": {},
      "outputs": [
        {
          "data": {
            "text/plain": [
              "'\\nimport statsmodels.api as sm\\n\\n# model with step\\nmod_full = sm.OLS(y, X_full).fit()\\n\\n# model without step\\nmod_reduced = sm.OLS(y, X_reduced).fit()\\n\\n# compare using F-test\\nf_test_result = mod_full.compare_f_test(mod_reduced)\\n'"
            ]
          },
          "execution_count": 6,
          "metadata": {},
          "output_type": "execute_result"
        }
      ],
      "source": [
        "### to test if step is necessary\n",
        "\n",
        "'''\n",
        "import statsmodels.api as sm\n",
        "\n",
        "# model with step\n",
        "mod_full = sm.OLS(y, X_full).fit()\n",
        "\n",
        "# model without step\n",
        "mod_reduced = sm.OLS(y, X_reduced).fit()\n",
        "\n",
        "# compare using F-test\n",
        "f_test_result = mod_full.compare_f_test(mod_reduced)\n",
        "'''"
      ]
    },
    {
      "cell_type": "code",
      "execution_count": 7,
      "metadata": {
        "id": "5yCwGqXBNIXY"
      },
      "outputs": [],
      "source": [
        "# TODO: Adicionar dummy de interação para comparar SM e outros atendimentos\n",
        "\n",
        "# TODO: Orthogonalise pospand trend (so to not have colinearity with months)\n",
        "\n",
        "# TODO: analisar overfitting\n",
        "\n",
        "# TODO: taxa. a população se mantem estavel? os serviços de saude se mantem estaveis?\n",
        "\n",
        "# https://chatgpt.com/canvas/shared/68084b682c548191a92db280344e5474"
      ]
    },
    {
      "cell_type": "markdown",
      "metadata": {
        "id": "gGzVKl7DNIXZ"
      },
      "source": [
        "--- Low HIGH COMPLEXITY\n",
        "\n",
        "- [x] Data Quality & Exploration  \n",
        "  - [x] Plot the raw time series and annotate intervention points.  \n",
        "  - [x] Check for missing values, outliers, or data entry errors.  \n",
        "  - [x] Verify your date index is consistent (e.g., monthly frequency).  \n",
        "\n",
        "- [x] Descriptive Statistics  \n",
        "  - [x] Compute summary statistics (mean, variance) before and after the pandemic.  \n",
        "  - [x] Calculate and plot moving averages to smooth trends.  \n",
        "\n",
        "- [x] Dummy Variable Audit  \n",
        "  - [x] Confirm each dummy is coded 0/1 for the correct periods.  \n",
        "  - [x] Review naming consistency and placement in the DataFrame.  \n",
        "\n",
        "- [x] Basic Model Fit  \n",
        "  - [x] Fit the current segmented regression (consults ~ time + level_dummy + slope_dummy + month_dummies + lockdown_outliers).  \n",
        "  - [x] Inspect R², coefficient signs, and p-values to sanity-check effects.  Export this to a readeable format\n",
        "\n",
        "--- MEDIUM COMPLEXITY\n",
        "\n",
        "- [ ] Residual Diagnostics  \n",
        "  - [X] Plot residuals vs. fitted values to check heteroscedasticity.  \n",
        "  - [ ] Examine ACF/PACF of residuals:  \n",
        "    - [X] First using OLS (to confirm the need for AR structure).  \n",
        "    - [X] Then using Prais-Winsten (to assess remaining autocorrelation).  \n",
        "\n",
        "- [ ] Autocorrelation & Robust SE  \n",
        "  - [ ] If autocorrelation exists, adjust standard errors (e.g., Newey-West) or fit an autoregressive error structure (e.g., AR(1)).  \n",
        "  - [ ] Since you’re using Prais-Winsten, this step may be partially addressed — verify with residuals.  \n",
        "\n",
        "- [ ] Seasonality & Trend Flexibility  \n",
        "  - [ ] Test alternative seasonal structures (e.g., Fourier terms) instead of month dummies.  \n",
        "  - [ ] Consider adding a quadratic or spline-based time trend.  \n",
        "\n",
        "- [ ] Outlier Handling  \n",
        "  - [ ] Justify and potentially consolidate lockdown outlier dummies (pulse vs. step).  \n",
        "  - [ ] Compare models with and without these outlier dummies (use AIC/BIC).  \n",
        "\n",
        "- [ ] Multicollinearity Check  \n",
        "  - [ ] Compute Variance Inflation Factors (VIFs) for covariates.  \n",
        "\n",
        "--- HIGH COMPLEXITY\n",
        "\n",
        "- [ ] Adicionar dummy de interação para comparar SM e outros atendimentos\n",
        "\n",
        "- [ ] Time-Series Cross-Validation  \n",
        "  - [ ] Implement rolling-origin evaluation to assess predictive performance.  \n",
        "  - [ ] Compare cross-validated errors (e.g., RMSE) across model specs to detect overfitting.  \n",
        "\n",
        "- [ ] Model Comparison & Selection  \n",
        "  - [ ] Use information criteria (AIC/BIC) to compare alternative models.  \n",
        "  - [ ] Evaluate nested models (e.g., with/without slope change) via likelihood ratio tests.  \n",
        "\n",
        "- [ ] Advanced Interrupted Time Series Methods  \n",
        "  - [ ] Explore Bayesian ITS or segmented regression with autoregressive integrated moving average (ARIMA) errors.  \n",
        "  - [x] Consider structural break tests (e.g., Chow test) for formal change-point detection.  \n",
        "\n",
        "- [ ] Sensitivity & Robustness  \n",
        "  - [ ] Run sensitivity analyses using different intervention start/end dates.  \n",
        "  - [ ] Test robustness to alternative outlier definitions or lag structures.  \n",
        "\n",
        "- [ ] Forecasting & Counterfactuals  \n",
        "  - [ ] Generate counterfactual predictions for the post-pandemic period.  \n",
        "  - [ ] Visualize observed vs. counterfactual to illustrate intervention impact."
      ]
    },
    {
      "cell_type": "markdown",
      "metadata": {
        "id": "SAATuGWcyPmG"
      },
      "source": [
        "# ARGS --- Define Args\n"
      ]
    },
    {
      "cell_type": "code",
      "execution_count": 8,
      "metadata": {
        "id": "N43j0vRL3QsP"
      },
      "outputs": [
        {
          "name": "stderr",
          "output_type": "stream",
          "text": [
            "c:\\Users\\Lucas\\AppData\\Local\\Programs\\Python\\Python312\\Lib\\site-packages\\statsmodels\\genmod\\cov_struct.py:796: FutureWarning: grid=True will become default in a future version\n",
            "  warnings.warn(\n"
          ]
        }
      ],
      "source": [
        "### ARGS\n",
        "\n",
        "INDEPENDENT_VAR = \"periodo\"  ### Y\n",
        "DEPENDENT_VAR = \"valores\"  ### X\n",
        "DATE_NAME = \"date\"\n",
        "GROUP_COL_NAME = \"regiao\"\n",
        "LOCAL_OUTPUT_PATH = \"D:\\\\CodeStuff\\\\Stats\\\\colab_linear_regression\\\\linear_regression\\\\output\\\\output.xlsx\"\n",
        "\n",
        "\n",
        "MAIN_SERIE = '_Grand Total'\n",
        "CONTROL_SERIE = '__Atendimentos na APS (exceto saúde mental)'\n",
        "\n",
        "MOVING_WINDOW = 12\n",
        "PLOT_MEDIA_MOVEL = False\n",
        "\n",
        "\n",
        "\n",
        "\n",
        "######### DUMMIES ##########\n",
        "\n",
        "MEDIA_MOVEL_AS_FEATURE = False\n",
        "MEDIA_MOVEL_AS_DEPENDENT = False\n",
        "\n",
        "INCLUDE_FOURIER_TERMS = True\n",
        "N_HARMONICS = 1\n",
        "FOURIER_PERIOD = 12\n",
        "INCLUDE_MONTH_DUMMIES = False\n",
        "INCLUDE_QUARTER_DUMMIES = False\n",
        "\n",
        "PRE_START_DATE = \"2016-01-01\"  ### data inicial para o modelo, se for menor que a data do dataframe, o modelo vai dar erro\n",
        "\n",
        "### as quedas do primeiro lockdown nao são tão claras e a recuperação e queda parecem ser mais graduais\n",
        "CHOQUE_INICIAL_START_DATE= \"2020-03-01\"\n",
        "CHOQUE_INICIAL_END_DATE = \"2020-07-01\"#\"2020-08-01\" #month based\n",
        "\n",
        "### abril e maio tiveram quedas bem identificaveis nos atendimentos em todas variavieis\n",
        "SECONDLOCKDOWN_START_DATE = \"2021-04-01\"\n",
        "SECONDLOCKDOWN_END_DATE = '2021-05-01' #month based  #'2021-04-01'#quarter_based #\n",
        "\n",
        "PANDEMIA_START_DATE = \"2020-04-01\"\n",
        "PANDEMIA_END_DATE = \"2022-03-01\" #\"2021-02-01\" \n",
        "\n",
        "\n",
        "\n",
        "\n",
        "PANDEMIA2_START_DATE = \"2021-03-01\"\n",
        "PANDEMIA2_END_DATE = \"2022-03-01\" \n",
        "\n",
        "POS_PANDEMIA_START_DATE = \"2022-04-01\"\n",
        "END_DATE = \"2024-12-01\"#\"2024-12-01\"  ### data final para o modelo, se for maior que a data do dataframe, o modelo vai dar erro\n",
        "\n",
        "\n",
        "\n",
        "\n",
        "OMNICRON_START_DATE = \"2022-01-01\"\n",
        "OMNICRON_END_DATE = \"2022-02-01\"  ### data final para o modelo, se for maior que a data do dataframe, o modelo vai dar erro\n",
        "\n",
        "'''\n",
        "DUMMY_ARGS =        {\n",
        "        'Choque_Inicial': {\"start_date\": CHOQUE_INICIAL_START_DATE, \"end_date\": CHOQUE_INICIAL_END_DATE},\n",
        "        'Lockdown_2021': {\"start_date\": SECONDLOCKDOWN_START_DATE, \"end_date\": SECONDLOCKDOWN_END_DATE},\n",
        "        #'Enchentes_2024': {\"start_date\": \"2024-05-01\", \"end_date\": \"2024-05-01\"},\n",
        "        'Step_PosPandemia': {\"start_date\": POS_PANDEMIA_START_DATE, \"end_date\": END_DATE,'exclude_ranges': POS_PANDEMIA_EXCLUDE_RANGES, 'plot':False, 'step': True,},\n",
        "        'Trend_PosPandemia' : {\"start_date\": POS_PANDEMIA_START_DATE, \"end_date\": END_DATE,'exclude_ranges': POS_PANDEMIA_EXCLUDE_RANGES, 'plot': True, 'add_time_trend': True, 'keep_period_index': False, 'step': False},\n",
        "        }\n",
        "'''\n",
        "\n",
        "POS_PANDEMIA_EXCLUDE_RANGES = [\n",
        "    #(CHOQUE_INICIAL_START_DATE, CHOQUE_INICIAL_END_DATE),\n",
        "    #(SECONDLOCKDOWN_START_DATE, SECONDLOCKDOWN_END_DATE),\n",
        "    #(\"2024-05-01\", \"2024-05-01\"),\n",
        "                               ]\n",
        "\n",
        "PANDEMIA_EXCLUDE_RANGES = [\n",
        "    #(CHOQUE_INICIAL_START_DATE, CHOQUE_INICIAL_END_DATE),\n",
        "    #(SECONDLOCKDOWN_START_DATE, SECONDLOCKDOWN_END_DATE),\n",
        "    #(OMNICRON_START_DATE, OMNICRON_END_DATE),\n",
        "]\n",
        "\n",
        "TESTE_REMOVE_OUTLIER_START = \"2019-10-01\"\n",
        "TESTE_REMOVE_OUTLIER_END = \"2019-12-01\"  ### data final para o modelo, se for maior que a data do dataframe, o modelo vai dar erro\n",
        "PREPANDEMIA_EXCLUDE_RANGES = [\n",
        "    #(TESTE_REMOVE_OUTLIER_START, TESTE_REMOVE_OUTLIER_END),\n",
        "]\n",
        "\n",
        "TREND_KEEP_PERIOD_INDEX = False  ### se True, o modelo vai manter o index do periodo, se False, o modelo vai usar o index do dataframe original (sem os dummies)\n",
        "\n",
        "DUMMY_ARGS =        {\n",
        "        \n",
        "        \n",
        "        #'PrePandemia_Step': {\"start_date\": PRE_START_DATE, \"end_date\": PANDEMIA_START_DATE, 'exclude_ranges': PANDEMIA_EXCLUDE_RANGES,},\n",
        "        #'PrePandemia_Trend' : {\"start_date\": PRE_START_DATE, \"end_date\": PANDEMIA_START_DATE,'exclude_ranges': PREPANDEMIA_EXCLUDE_RANGES, 'add_time_trend': True, 'keep_period_index': False},\n",
        "        \n",
        "        'Pandemia_Step': {\"start_date\": PANDEMIA_START_DATE, \"end_date\": PANDEMIA_END_DATE, 'exclude_ranges': PANDEMIA_EXCLUDE_RANGES,},\n",
        "        'Pandemia_Trend' : {\"start_date\": PANDEMIA_START_DATE, \"end_date\": PANDEMIA_END_DATE,'exclude_ranges': PANDEMIA_EXCLUDE_RANGES, 'add_time_trend': True, 'keep_period_index': TREND_KEEP_PERIOD_INDEX},\n",
        "        \n",
        "        #'Pandemia2_Step': {\"start_date\": PANDEMIA2_START_DATE, \"end_date\": PANDEMIA2_END_DATE, 'exclude_ranges': PANDEMIA_EXCLUDE_RANGES,},\n",
        "        #'Pandemia2_Trend' : {\"start_date\": PANDEMIA2_START_DATE, \"end_date\": PANDEMIA2_END_DATE,'exclude_ranges': PANDEMIA_EXCLUDE_RANGES, 'add_time_trend': True, 'keep_period_index': TREND_KEEP_PERIOD_INDEX},\n",
        "\n",
        "        'PosPandemia_Step': {\"start_date\": POS_PANDEMIA_START_DATE, \"end_date\": END_DATE,'exclude_ranges': POS_PANDEMIA_EXCLUDE_RANGES, 'plot':False, 'step': True,},\n",
        "        'PosPandemia_Trend' : {\"start_date\": POS_PANDEMIA_START_DATE, \"end_date\": END_DATE,'exclude_ranges': POS_PANDEMIA_EXCLUDE_RANGES, 'plot': True, 'add_time_trend': True, 'keep_period_index': TREND_KEEP_PERIOD_INDEX, 'step': False},\n",
        "        \n",
        "        ### Pulse Outliers\n",
        "        #'teste_remove_outlier': {\"start_date\": TESTE_REMOVE_OUTLIER_START, \"end_date\": TESTE_REMOVE_OUTLIER_END,},\n",
        "        #'Lockdown_2020_Step': {\"start_date\": CHOQUE_INICIAL_START_DATE, \"end_date\": CHOQUE_INICIAL_END_DATE},\n",
        "        #'Lockdown_2021_Step': {\"start_date\": SECONDLOCKDOWN_START_DATE, \"end_date\": SECONDLOCKDOWN_END_DATE},\n",
        "        #'Omnicron_2022': {\"start_date\": OMNICRON_START_DATE, \"end_date\": OMNICRON_END_DATE},\n",
        "        #'Enchentes_2024': {\"start_date\": \"2024-05-01\", \"end_date\": \"2024-05-01\"},\n",
        "        }\n",
        "\n",
        "\n",
        "\n",
        "##############################\n",
        "\n",
        "\n",
        "PREPROCESSOR_ARGS = {\n",
        "    'DateRange': [2016, 2024],\n",
        "    'FrequencyDateGroup' : 'M',\n",
        "    'DummyArgs' : DUMMY_ARGS,\n",
        "}\n",
        "\n",
        "\n",
        "\n",
        "###### PROCESSING ######\n",
        "def build_model_formula(dependant_var, independant_var=False, dummy_names=[], include_interactions=False, exclude_main_effects=False):\n",
        "    \"\"\"\n",
        "    Builds the regression formula dynamically.\n",
        "\n",
        "    Parameters:\n",
        "    -----------\n",
        "    dependant_var : str\n",
        "        The dependent variable (Y).\n",
        "    independant_var : str or bool\n",
        "        The independent variable (X). If False, it will be excluded.\n",
        "    dummy_names : list\n",
        "        List of dummy variable names to include in the formula.\n",
        "    include_interactions : bool\n",
        "        Whether to include interaction terms between C(regiao) and other variables.\n",
        "    exclude_main_effects : bool\n",
        "        Whether to exclude the main effects when interactions are included.\n",
        "\n",
        "    Returns:\n",
        "    --------\n",
        "    str\n",
        "        The regression formula.\n",
        "    \"\"\"\n",
        "    base_model_formula = f\"{dependant_var} ~ \"\n",
        "    \n",
        "    # Add independent variable if not excluded\n",
        "    if independant_var and not exclude_main_effects:\n",
        "        base_model_formula += f\"{independant_var} + \"\n",
        "\n",
        "    # Add group variable if not excluded\n",
        "    #if not exclude_main_effects:\n",
        "    #    base_model_formula += f\"C({GROUP_COL_NAME}) + \"\n",
        "\n",
        "    model_formula = base_model_formula\n",
        "\n",
        "    # Add dummy variables\n",
        "    if dummy_names and not exclude_main_effects:\n",
        "        for i, dummy in enumerate(dummy_names):\n",
        "            model_formula += dummy\n",
        "            if i != len(dummy_names) - 1:  # Add '+' if not the last element\n",
        "                model_formula += \" + \"\n",
        "\n",
        "    # Add interaction terms if enabled\n",
        "    if include_interactions:\n",
        "        interaction_terms = [f\"C({GROUP_COL_NAME}) * {dummy}\" for dummy in dummy_names]\n",
        "        model_formula += \" + \" + \" + \".join(interaction_terms)\n",
        "\n",
        "    return model_formula.strip(\" + \"), base_model_formula.strip(\" + \")\n",
        "\n",
        "def build_dummy_names(dummies_args, include_month_dummies, include_quarter_dummies, include_fourier_terms=False, n_harmonics=1):\n",
        "    \"\"\"\n",
        "    Builds the list of dummy variable names dynamically.\n",
        "\n",
        "    Parameters:\n",
        "    -----------\n",
        "    dummies_args : dict\n",
        "        Dictionary of dummy variable configurations.\n",
        "    include_month_dummies : bool\n",
        "        Whether to include month dummies.\n",
        "    include_quarter_dummies : bool\n",
        "        Whether to include quarter dummies.\n",
        "    include_fourier_terms : bool\n",
        "        Whether to include Fourier terms for seasonality.\n",
        "    n_harmonics : int\n",
        "        Number of Fourier harmonics to include.\n",
        "\n",
        "    Returns:\n",
        "    --------\n",
        "    list\n",
        "        List of dummy variable names.\n",
        "    \"\"\"\n",
        "    dummy_names = []\n",
        "\n",
        "    # Add dummy variables from dummies_args\n",
        "    for dummy_name in dummies_args.keys():\n",
        "        dummy_names.append(dummy_name)\n",
        "\n",
        "    # Add Fourier terms if enabled\n",
        "    if include_fourier_terms:\n",
        "        for k in range(1, n_harmonics + 1):\n",
        "            dummy_names.append(f\"cos{k}\")\n",
        "            dummy_names.append(f\"sin{k}\")\n",
        "\n",
        "    # Add month dummies if enabled\n",
        "    if include_month_dummies:\n",
        "        for i in range(1, 12):\n",
        "            dummy_names.append(\"month_\" + str(i + 1))\n",
        "\n",
        "    # Add quarter dummies if enabled\n",
        "    if include_quarter_dummies:\n",
        "        for i in range(1, 4):\n",
        "            dummy_names.append(\"quarter_\" + str(i + 1))\n",
        "\n",
        "    return dummy_names\n",
        "\n",
        "\n",
        "DUMMY_NAMES = build_dummy_names(\n",
        "          DUMMY_ARGS,\n",
        "          INCLUDE_MONTH_DUMMIES,\n",
        "          INCLUDE_QUARTER_DUMMIES,\n",
        "          include_fourier_terms=INCLUDE_FOURIER_TERMS,\n",
        "          n_harmonics=N_HARMONICS,\n",
        "          )\n",
        "\n",
        "MODEL_FORMULA, BASE_MODEL_FORMULA = build_model_formula(DEPENDENT_VAR,\n",
        "                                                        INDEPENDENT_VAR,\n",
        "                                                        dummy_names = DUMMY_NAMES,\n",
        "                                                        include_interactions=False,\n",
        "                                                        exclude_main_effects=False,\n",
        "                                                        )\n",
        "\n",
        "\n",
        "\n",
        "\n",
        "\n",
        "\n",
        "PROCESSOR_ARGS = {\n",
        "    \"formula\": MODEL_FORMULA,#\"valores ~ periodo\",  # Example formula\n",
        "    \"model\":  smf.glsar,#smf.ols,# # Use OLS as the regression model for testing\n",
        "    \"find_best_rho\": True,#True,  # Disable best rho search for simplicity\n",
        "    \"rho\": None,\n",
        "    \"cov_type\": \"HAC\",  # Use nonrobust covariance for testing\n",
        "    \"cov_kwargs\": {'maxlags': 4},  # No additional covariance arguments\n",
        "    \"iterative_fit\": True,  # Enable iterative fitting if needed\n",
        "    \"max_iterations\": 10,  # Set maximum iterations for iterative fitting\n",
        "    \"find_best_rho_args\": {\n",
        "        \"start\": -1.00,\n",
        "        \"stop\": 1.01,\n",
        "        \"step\": 0.01,\n",
        "        \"criterio\": \"aic\"\n",
        "    },\n",
        "}\n",
        "\n",
        "GEE_PROCESSOR_ARGS = {\n",
        "    'formula': \"\"\"\n",
        "valores ~ \n",
        "C(regiao) +                       \n",
        "C(regiao):periodo +               \n",
        "C(regiao):Pandemia_Step +         \n",
        "C(regiao):Pandemia_Trend +        \n",
        "C(regiao):PosPandemia_Step +      \n",
        "C(regiao):PosPandemia_Trend +     \n",
        "C(regiao):cos1 + C(regiao):sin1   \n",
        "\"\"\",\n",
        "    \"family\": Poisson(),  # Use Poisson family for count data\n",
        "    \"cov_struct\": Autoregressive(),  # Use autoregressive covariance structure\n",
        "    \"groups\": GROUP_COL_NAME,\n",
        "}\n",
        "\n",
        "\n"
      ]
    },
    {
      "cell_type": "code",
      "execution_count": 9,
      "metadata": {},
      "outputs": [
        {
          "data": {
            "text/plain": [
              "('valores ~ periodo + Pandemia_Step + Pandemia_Trend + PosPandemia_Step + PosPandemia_Trend + cos1 + sin1',\n",
              " 'valores ~ periodo')"
            ]
          },
          "execution_count": 9,
          "metadata": {},
          "output_type": "execute_result"
        }
      ],
      "source": [
        "MODEL_FORMULA, BASE_MODEL_FORMULA\n",
        "#DUMMY_NAMES"
      ]
    },
    {
      "cell_type": "markdown",
      "metadata": {
        "id": "3lst0tSSyWi0"
      },
      "source": [
        "# Define Preprocessors\n"
      ]
    },
    {
      "cell_type": "code",
      "execution_count": 10,
      "metadata": {
        "id": "FAqiSa3R-k3r"
      },
      "outputs": [],
      "source": [
        "def BuildDataDF(data):\n",
        "    string_dates = data[0][1:]  # Store original string dates\n",
        "\n",
        "    # Converter as strings de datas em objetos datetime\n",
        "    #date_list = [datetime.strptime(date, \"%d/%m/%Y\") for date in string_dates]\n",
        "    date_list = [\n",
        "    date if isinstance(date, datetime) else datetime.strptime(date, \"%d/%m/%Y\")\n",
        "    for date in string_dates\n",
        "    ]\n",
        "\n",
        "    # Extrair os nomes das variáveis\n",
        "    variavel = [row[0] for row in data[1:]]\n",
        "\n",
        "    # Extrair os dados (sem agrupamento)\n",
        "    dados = [row[1:] for row in data[1:]]\n",
        "    dados = np.array(dados, dtype=float)  # Converter para tipo object para evitar warning\n",
        "\n",
        "    # Criar o DataFrame with DatetimeIndex\n",
        "    df = pd.DataFrame(data=dados, index=variavel, columns=pd.DatetimeIndex(date_list))\n",
        "\n",
        "    return df\n",
        "\n",
        "class DateFilterTransformer(BaseEstimator, TransformerMixin):\n",
        "    def __init__(\n",
        "        self, periodos_inclusivos=None, periodos_exclusivos=None, date_col=DATE_NAME\n",
        "    ):\n",
        "        self.periodos_inclusivos = periodos_inclusivos\n",
        "        self.periodos_exclusivos = periodos_exclusivos\n",
        "        self.date_col = date_col\n",
        "\n",
        "    def get_date_range(self, Y1, Y2=None, M1=None, M2=None, D1=None, D2=None):\n",
        "        Y2 = Y2 or Y1\n",
        "        M1 = M1 or 1\n",
        "        M2 = M2 or 12\n",
        "        D1 = D1 or 1\n",
        "        D2 = D2 or 31\n",
        "        start_date = datetime(Y1, M1, D1)\n",
        "        end_date = datetime(Y2, M2, D2)\n",
        "        return pd.date_range(start=start_date, end=end_date, freq=\"D\")\n",
        "\n",
        "    def fit(self, X, y=None):\n",
        "        return self\n",
        "\n",
        "    def transform(self, X):\n",
        "        X = X.copy()\n",
        "\n",
        "        # Convert date column if it's not datetime yet\n",
        "        if not pd.api.types.is_datetime64_any_dtype(X[self.date_col]):\n",
        "            X[self.date_col] = pd.to_datetime(X[self.date_col], errors=\"coerce\")\n",
        "\n",
        "        if self.periodos_inclusivos:\n",
        "            valid_dates = self.get_date_range(*self.periodos_inclusivos)\n",
        "            return X[X[self.date_col].isin(valid_dates)].reset_index(drop=True)\n",
        "\n",
        "        elif self.periodos_exclusivos:\n",
        "            invalid_dates = self.get_date_range(*self.periodos_exclusivos)\n",
        "            return X[~X[self.date_col].isin(invalid_dates)].reset_index(drop=True)\n",
        "\n",
        "        return X\n",
        "\n",
        "class MeltTransformer(BaseEstimator, TransformerMixin):\n",
        "    def __init__(\n",
        "        self,\n",
        "        var_name=GROUP_COL_NAME,\n",
        "        value_name=DEPENDENT_VAR,\n",
        "        date_name=DATE_NAME,\n",
        "        y_name=INDEPENDENT_VAR,\n",
        "        total_suffix=\"_total\",\n",
        "        total_column_name=\"total_atd\",\n",
        "    ):\n",
        "        self.var_name = var_name\n",
        "        self.value_name = value_name\n",
        "        self.date_name = date_name\n",
        "        self.y_name = y_name\n",
        "        self.total_suffix = total_suffix\n",
        "        self.total_column_name = total_column_name\n",
        "\n",
        "    def fit(self, X, y=None):\n",
        "        # Nothing to learn, so just return self\n",
        "        return self\n",
        "\n",
        "    def transform(self, X):\n",
        "        # Separate rows with the `_total` suffix\n",
        "        reserved_rows = X[X.index.str.endswith(self.total_suffix)]\n",
        "        remaining_rows = X[~X.index.str.endswith(self.total_suffix)]\n",
        "\n",
        "        # Transpose and reset index for the remaining rows\n",
        "        df_long = remaining_rows.T.reset_index()\n",
        "\n",
        "        # Rename index to date_name\n",
        "        df_long = df_long.rename(columns={\"index\": self.date_name})\n",
        "\n",
        "        # Melt the DataFrame\n",
        "        df_long = pd.melt(\n",
        "            df_long,\n",
        "            id_vars=[self.date_name],\n",
        "            var_name=self.var_name,\n",
        "            value_name=self.value_name,\n",
        "        )\n",
        "\n",
        "        # Sort by category and date\n",
        "        df_final = df_long.sort_values([self.var_name, self.date_name]).reset_index(\n",
        "            drop=True\n",
        "        )\n",
        "\n",
        "        # Add the `total_atd` column\n",
        "        reserved_rows = reserved_rows.T.reset_index().rename(columns={\"index\": self.date_name})\n",
        "        reserved_rows_long = pd.melt(\n",
        "            reserved_rows,\n",
        "            id_vars=[self.date_name],\n",
        "            var_name=self.var_name,\n",
        "            value_name=self.total_column_name,\n",
        "        )\n",
        "\n",
        "        # Remove the `_total` suffix from the var_name in reserved_rows_long\n",
        "        reserved_rows_long[self.var_name] = reserved_rows_long[self.var_name].str.replace(\n",
        "            self.total_suffix, \"\", regex=False\n",
        "        )\n",
        "\n",
        "        # Merge the `total_atd` column into the final DataFrame\n",
        "        df_final = df_final.merge(\n",
        "            reserved_rows_long,\n",
        "            on=[self.date_name, self.var_name],\n",
        "            how=\"left\",\n",
        "        )\n",
        "\n",
        "        return df_final\n",
        "\n",
        "class PeriodIndexAdder(BaseEstimator, TransformerMixin):\n",
        "    def __init__(self, group_col=GROUP_COL_NAME, new_col=INDEPENDENT_VAR):\n",
        "        self.group_col = group_col\n",
        "        self.new_col = new_col\n",
        "        self.period_date_mapping = {}  # Dictionary to store period-date equivalences\n",
        "\n",
        "    def fit(self, X, y=None):\n",
        "        return self\n",
        "\n",
        "    def transform(self, X):\n",
        "        X = X.copy()\n",
        "        X[self.new_col] = X.groupby(self.group_col).cumcount() + 1\n",
        "\n",
        "        #Store the mapping of periods to dates\n",
        "        self.period_date_mapping = dict(zip(X[DATE_NAME], X[self.new_col]))\n",
        "        #for group, group_data in X.groupby(self.group_col):\n",
        "        #    self.period_date_mapping[group] = dict(zip(group_data[DATE_NAME], group_data[self.new_col]))\n",
        "\n",
        "        return X\n",
        "\n",
        "class DataFrameSorter(BaseEstimator, TransformerMixin):\n",
        "    \"\"\"\n",
        "    Sorts a DataFrame by a specified column.\n",
        "\n",
        "    Parameters:\n",
        "    -----------\n",
        "    sort_by : str\n",
        "        Name of the column to sort by.\n",
        "    ascending : bool, default=True\n",
        "        Whether to sort in ascending order.\n",
        "    \"\"\"\n",
        "\n",
        "    def __init__(self, sort_by, ascending=True):\n",
        "        self.sort_by = sort_by\n",
        "        self.ascending = ascending\n",
        "\n",
        "    def fit(self, X, y=None):\n",
        "        return self\n",
        "\n",
        "    def transform(self, X):\n",
        "        X = X.copy()\n",
        "        if self.sort_by not in X.columns:\n",
        "            raise ValueError(f\"Column '{self.sort_by}' not found in DataFrame.\")\n",
        "        return X.sort_values(by=self.sort_by, ascending=self.ascending).reset_index(drop=True)\n",
        "\n",
        "class MonthlyDummyAdder(BaseEstimator, TransformerMixin):\n",
        "    \"\"\"\n",
        "    Adds dummy variables for each month to control for seasonality, leaving December as the baseline.\n",
        "\n",
        "    Parameters:\n",
        "    -----------\n",
        "    date_column : str\n",
        "        Name of the column containing dates (must be datetime).\n",
        "    \"\"\"\n",
        "\n",
        "    def __init__(self, date_column=DATE_NAME):\n",
        "        self.date_column = date_column\n",
        "\n",
        "    def fit(self, X, y=None):\n",
        "        return self\n",
        "\n",
        "    def transform(self, X):\n",
        "        X = X.copy()\n",
        "        X[self.date_column] = pd.to_datetime(X[self.date_column])  # Ensure dates are in datetime format\n",
        "\n",
        "        # Extract month from the date column\n",
        "        X['month'] = X[self.date_column].dt.month\n",
        "\n",
        "        # Create dummy variables for each month, excluding December as the baseline\n",
        "        month_dummies = pd.get_dummies(X['month'], prefix=\"month\", drop_first=True).astype(int)\n",
        "\n",
        "\n",
        "\n",
        "        # Concatenate the dummy variables with the original DataFrame\n",
        "        X = pd.concat([X, month_dummies], axis=1)\n",
        "\n",
        "        # Drop the temporary 'month' column\n",
        "        X.drop(columns=['month'], inplace=True)\n",
        "\n",
        "        return X\n",
        "\n",
        "class QuarterlyDummyAdder(BaseEstimator, TransformerMixin):\n",
        "    \"\"\"\n",
        "    Adds dummy variables for each quarter to control for seasonality, leaving Q4 as the baseline.\n",
        "\n",
        "    Parameters:\n",
        "    -----------\n",
        "    date_column : str\n",
        "        Name of the column containing dates (must be datetime).\n",
        "    \"\"\"\n",
        "\n",
        "    def __init__(self, date_column=DATE_NAME):\n",
        "        self.date_column = date_column\n",
        "\n",
        "    def fit(self, X, y=None):\n",
        "        return self\n",
        "\n",
        "    def transform(self, X):\n",
        "        X = X.copy()\n",
        "        X[self.date_column] = pd.to_datetime(X[self.date_column])  # Ensure dates are in datetime format\n",
        "\n",
        "        # Extract quarter from the date column\n",
        "        X['quarter'] = X[self.date_column].dt.quarter\n",
        "\n",
        "        # Create dummy variables for each quarter, excluding Q4 as the baseline\n",
        "        quarter_dummies = pd.get_dummies(X['quarter'], prefix=\"quarter\", drop_first=True).astype(int)\n",
        "\n",
        "        # Concatenate the dummy variables with the original DataFrame\n",
        "        X = pd.concat([X, quarter_dummies], axis=1)\n",
        "\n",
        "        # Drop the temporary 'quarter' column\n",
        "        X.drop(columns=['quarter'], inplace=True)\n",
        "\n",
        "        return X\n",
        "\n",
        "class MultiDummyAdder(BaseEstimator, TransformerMixin):\n",
        "    \"\"\"\n",
        "    Adds multiple dummy variables based on date ranges or custom conditions.\n",
        "    Allows each dummy to be binary or a local time trend via its own config.\n",
        "\n",
        "    Parameters:\n",
        "    -----------\n",
        "    dummy_config : dict\n",
        "        Dictionary defining dummy variables. Example:\n",
        "        {\n",
        "            'Pandemia': {\n",
        "                'start_date': '2020-01-01',\n",
        "                'end_date': '2020-12-31',\n",
        "                'add_time_trend': True,\n",
        "                'exclude_ranges': [\n",
        "                    ('2020-04-01', '2020-05-01'),\n",
        "                    ('2020-07-01', '2020-08-01')\n",
        "                ]  # Optional\n",
        "            }\n",
        "        }\n",
        "    date_column : str\n",
        "        Name of the column containing dates (must be datetime).\n",
        "    \"\"\"\n",
        "\n",
        "    def __init__(self, dummy_config, date_column=DATE_NAME):\n",
        "        self.dummy_config = dummy_config\n",
        "        self.date_column = date_column\n",
        "\n",
        "    def fit(self, X, y=None):\n",
        "        return self\n",
        "\n",
        "    def transform(self, X):\n",
        "        X = X.copy()\n",
        "        X[self.date_column] = pd.to_datetime(X[self.date_column])\n",
        "        X = X.sort_values(self.date_column).reset_index(drop=True)\n",
        "\n",
        "        for dummy_name, config in self.dummy_config.items():\n",
        "            start_date = pd.to_datetime(config.get(\"start_date\"))\n",
        "            end_date = pd.to_datetime(config.get(\"end_date\"))\n",
        "            use_trend = config.get(\"add_time_trend\", False)\n",
        "            keep_index = config.get(\"keep_period_index\", False)\n",
        "            exclude_ranges = config.get(\"exclude_ranges\", [])  # List of ranges to exclude\n",
        "\n",
        "            if not start_date:\n",
        "                raise ValueError(f\"Missing 'start_date' for dummy '{dummy_name}'.\")\n",
        "\n",
        "            # Create the initial mask for the date range\n",
        "            if end_date is not None:\n",
        "                mask = (X[self.date_column] >= start_date) & (X[self.date_column] <= end_date)\n",
        "            else:\n",
        "                mask = X[self.date_column] >= start_date\n",
        "\n",
        "            # Exclude multiple ranges within the period\n",
        "            for excl_start, excl_end in exclude_ranges:\n",
        "                excl_start = pd.to_datetime(excl_start)\n",
        "                excl_end = pd.to_datetime(excl_end)\n",
        "                mask &= ~((X[self.date_column] >= excl_start) & (X[self.date_column] <= excl_end))\n",
        "\n",
        "            # Apply trend or binary dummy logic\n",
        "            if use_trend:\n",
        "                if keep_index:\n",
        "                    # Global period multiplied by the dummy\n",
        "                    X[dummy_name] = 0\n",
        "                    X.loc[mask, dummy_name] = X.loc[mask, INDEPENDENT_VAR]\n",
        "                else:\n",
        "                    start_periodo = X.loc[mask, INDEPENDENT_VAR].min()\n",
        "                    X[dummy_name] = 0\n",
        "                    X.loc[mask, dummy_name] = (X.loc[mask, INDEPENDENT_VAR] - start_periodo + 1).clip(lower=0)\n",
        "            else:\n",
        "                X[dummy_name] = mask.astype(int)\n",
        "\n",
        "        return X\n",
        "\n",
        "class FrequencyGroupingTransformer(BaseEstimator, TransformerMixin):\n",
        "    \"\"\"\n",
        "    ## only datetime supported groupings\n",
        "    Transformer for grouping data by standard datetime frequencies.\n",
        "\n",
        "    This transformer takes a DataFrame with datetime columns and groups\n",
        "    the data by a specified frequency (e.g., 'Q' for quarterly, 'M' for monthly).\n",
        "\n",
        "    ARGS:\n",
        "        frequency (str): The frequency to group by. Defaults to 'Q' (quarterly).\n",
        "                        Supported frequencies are those accepted by pd.Grouper (e.g., 'Q', 'M', 'Y').\n",
        "    \"\"\"\n",
        "\n",
        "    def __init__(self, frequency=\"Q\"):  # Default to quarterly grouping\n",
        "        self.frequency = frequency\n",
        "\n",
        "    def fit(self, X, y=None):\n",
        "        \"\"\"\n",
        "        This transformer does not require fitting.\n",
        "\n",
        "        ARGS:\n",
        "            X (pd.DataFrame): The input DataFrame.\n",
        "            y (Any, optional): Ignored. Defaults to None.\n",
        "\n",
        "        Returns:\n",
        "            self: Returns the transformer instance.\n",
        "        \"\"\"\n",
        "        return self\n",
        "\n",
        "    def transform(self, X):\n",
        "        \"\"\"\n",
        "        Groups the data by the specified frequency and sums the values.\n",
        "\n",
        "        ARGS:\n",
        "            X (pd.DataFrame): The input DataFrame with datetime columns.\n",
        "\n",
        "        Returns:\n",
        "            pd.DataFrame: The grouped DataFrame with summed values.\n",
        "                          Columns are datetime objects representing the end of each group.\n",
        "        \"\"\"\n",
        "        if self.frequency == None or self.frequency == 'M':\n",
        "            return X\n",
        "        if not isinstance(X, pd.DataFrame):\n",
        "            raise TypeError(\"Input must be a pandas DataFrame.\")\n",
        "\n",
        "\n",
        "\n",
        "        # Convert columns to datetime if they are not already\n",
        "        if not isinstance(X.columns[0], pd.Timestamp):\n",
        "            X.columns = pd.to_datetime(X.columns, errors=\"coerce\")\n",
        "\n",
        "        # Group by the specified frequency using pd.Grouper\n",
        "        grouped_df = X.T.groupby(pd.Grouper(freq=self.frequency)).sum().T\n",
        "\n",
        "        return grouped_df\n",
        "\n",
        "\n",
        "\n",
        "\n",
        "\n"
      ]
    },
    {
      "cell_type": "code",
      "execution_count": 11,
      "metadata": {},
      "outputs": [],
      "source": [
        "class MovingAverageTransformer(BaseEstimator, TransformerMixin):\n",
        "    def __init__(self, group_col=GROUP_COL_NAME, date_col=DATE_NAME, value_col=DEPENDENT_VAR, window=3, prefix='ma', center=False):\n",
        "        \"\"\"\n",
        "        window: tamanho da janela\n",
        "        prefix: prefixo para o nome da nova coluna\n",
        "        center: se True, a janela será centralizada\n",
        "        \"\"\"\n",
        "        self.window = window\n",
        "        self.prefix = prefix\n",
        "        self.center = center\n",
        "        self.value_col = value_col\n",
        "        self.group_col = group_col\n",
        "        self.date_col = date_col\n",
        "\n",
        "    def fit(self, X, y=None):\n",
        "        return self\n",
        "\n",
        "    def transform(self, X):\n",
        "        X = X.copy()\n",
        "\n",
        "        def rolling_mean_by_group(group):\n",
        "            group = group.sort_values(by=self.date_col)  # Sort by date within group\n",
        "            new_col = f\"{self.prefix}_{self.window}_{self.value_col}\"\n",
        "            group[new_col] = group[self.value_col].rolling(window=self.window, center=self.center, min_periods=1).mean()\n",
        "            return group\n",
        "\n",
        "        # Apply the rolling mean and reset the index to preserve the original structure\n",
        "        X = X.groupby(self.group_col, group_keys=False).apply(rolling_mean_by_group)\n",
        "\n",
        "        return X"
      ]
    },
    {
      "cell_type": "code",
      "execution_count": 12,
      "metadata": {},
      "outputs": [],
      "source": [
        "class FourierSeasonalityAdder(BaseEstimator, TransformerMixin):\n",
        "    \"\"\"\n",
        "    Adds sine and cosine Fourier terms for seasonality based on the month of the date.\n",
        "\n",
        "    Parameters:\n",
        "    -----------\n",
        "    date_column : str\n",
        "        Name of the column containing dates (must be datetime).\n",
        "    n_harmonics : int\n",
        "        Number of Fourier harmonics to add (default is 1).\n",
        "    \"\"\"\n",
        "\n",
        "    def __init__(self, date_column=DATE_NAME, n_harmonics=1):\n",
        "        self.date_column = date_column\n",
        "        self.n_harmonics = n_harmonics\n",
        "\n",
        "    def fit(self, X, y=None):\n",
        "        return self\n",
        "\n",
        "    def transform(self, X):\n",
        "        X = X.copy()\n",
        "        X[self.date_column] = pd.to_datetime(X[self.date_column])  # Ensure dates are in datetime format\n",
        "\n",
        "        # Extract time (month number starting from 1)\n",
        "        X['month'] = X[self.date_column].dt.month\n",
        "\n",
        "        # Add Fourier terms\n",
        "        for k in range(1, self.n_harmonics + 1):\n",
        "            X[f'cos{k}'] = np.cos(2 * np.pi * k * (X['month'] - 1) / 12)  # Month to 0-based\n",
        "            X[f'sin{k}'] = np.sin(2 * np.pi * k * (X['month'] - 1) / 12)  # Month to 0-based\n",
        "\n",
        "        #X.drop(columns=['month'], inplace=True)\n",
        "\n",
        "        return X"
      ]
    },
    {
      "cell_type": "code",
      "execution_count": 13,
      "metadata": {},
      "outputs": [],
      "source": [
        "from statsmodels.tsa.deterministic import Fourier\n",
        "\n",
        "class FourierSeasonalityAdder(BaseEstimator, TransformerMixin):\n",
        "    def __init__(self, date_column=DATE_NAME, period=12, order=1):\n",
        "        \"\"\"\n",
        "        Parameters:\n",
        "        -----------\n",
        "        date_column : str\n",
        "            Name of the column containing dates (must be datetime).\n",
        "        period : int\n",
        "            The period of the seasonality (e.g., 12 for monthly data).\n",
        "        order : int\n",
        "            The number of Fourier harmonics to include.\n",
        "        \"\"\"\n",
        "        self.date_column = date_column\n",
        "        self.period = period\n",
        "        self.order = order\n",
        "        self.fourier = Fourier(period=self.period, order=self.order)\n",
        "\n",
        "    def fit(self, X, y=None):\n",
        "        return self\n",
        "\n",
        "    def transform(self, X):\n",
        "        X = X.copy()\n",
        "\n",
        "        # Ensure the date column is in datetime format\n",
        "        X[self.date_column] = pd.to_datetime(X[self.date_column])\n",
        "\n",
        "        # Ensure unique index\n",
        "        if not X.index.is_unique:\n",
        "            X = X.reset_index(drop=True)\n",
        "\n",
        "        # Generate Fourier terms\n",
        "        fourier_terms = self.fourier.in_sample(X[self.date_column])\n",
        "\n",
        "        # Rename Fourier columns to use sin1, cos1, etc.\n",
        "        renamed_columns = {col: f\"sin{int(i/2)+1}\" if i % 2 else f\"cos{int(i/2)+1}\" \n",
        "                           for i, col in enumerate(fourier_terms.columns)}\n",
        "        fourier_terms.rename(columns=renamed_columns, inplace=True)\n",
        "\n",
        "        # Concatenate Fourier terms with the original DataFrame\n",
        "        X = pd.concat([X.reset_index(drop=True), fourier_terms.reset_index(drop=True)], axis=1)\n",
        "\n",
        "        # Debugging: Check the range of Fourier terms\n",
        "        for column in fourier_terms.columns:\n",
        "            min_value = fourier_terms[column].min()\n",
        "            max_value = fourier_terms[column].max()\n",
        "            if min_value < -1 or max_value > 1:\n",
        "                print(f\"Warning: {column} is out of range [-1, 1]. Min: {min_value}, Max: {max_value}\")\n",
        "            else:\n",
        "                print(f\"{column} is within the correct range [-1, 1]. Min: {min_value}, Max: {max_value}\")\n",
        "\n",
        "        return X"
      ]
    },
    {
      "cell_type": "markdown",
      "metadata": {
        "id": "YiUiAyVdNIXb"
      },
      "source": [
        "# EXEC --- Instantiate Pipe and get RegressionDF"
      ]
    },
    {
      "cell_type": "code",
      "execution_count": 14,
      "metadata": {
        "colab": {
          "base_uri": "https://localhost:8080/",
          "height": 1000
        },
        "id": "tpmKA11jNIXb",
        "outputId": "6b948497-1205-4055-c42b-0427affcff4e"
      },
      "outputs": [
        {
          "name": "stdout",
          "output_type": "stream",
          "text": [
            "cos1 is within the correct range [-1, 1]. Min: -1.0, Max: 1.0\n",
            "sin1 is within the correct range [-1, 1]. Min: -1.0, Max: 1.0\n"
          ]
        },
        {
          "data": {
            "application/vnd.microsoft.datawrangler.viewer.v0+json": {
              "columns": [
                {
                  "name": "index",
                  "rawType": "int64",
                  "type": "integer"
                },
                {
                  "name": "date",
                  "rawType": "datetime64[ns]",
                  "type": "datetime"
                },
                {
                  "name": "regiao",
                  "rawType": "object",
                  "type": "string"
                },
                {
                  "name": "valores",
                  "rawType": "float64",
                  "type": "float"
                },
                {
                  "name": "total_atd",
                  "rawType": "float64",
                  "type": "float"
                },
                {
                  "name": "periodo",
                  "rawType": "int64",
                  "type": "integer"
                },
                {
                  "name": "Pandemia_Step",
                  "rawType": "int64",
                  "type": "integer"
                },
                {
                  "name": "Pandemia_Trend",
                  "rawType": "int64",
                  "type": "integer"
                },
                {
                  "name": "PosPandemia_Step",
                  "rawType": "int64",
                  "type": "integer"
                },
                {
                  "name": "PosPandemia_Trend",
                  "rawType": "int64",
                  "type": "integer"
                },
                {
                  "name": "cos1",
                  "rawType": "float64",
                  "type": "float"
                },
                {
                  "name": "sin1",
                  "rawType": "float64",
                  "type": "float"
                },
                {
                  "name": "offset",
                  "rawType": "float64",
                  "type": "float"
                },
                {
                  "name": "isSaudeMental",
                  "rawType": "int64",
                  "type": "integer"
                }
              ],
              "conversionMethod": "pd.DataFrame",
              "ref": "0c74b359-05aa-4dae-9ce8-42b0bf512ce8",
              "rows": [
                [
                  "0",
                  "2024-12-01 00:00:00",
                  "sul",
                  "169359.0",
                  "5537357.0",
                  "108",
                  "0",
                  "0",
                  "1",
                  "33",
                  "-0.5000000000000182",
                  "0.8660254037844282",
                  "8.619272590092182",
                  "0"
                ],
                [
                  "1",
                  "2022-07-01 00:00:00",
                  "sul",
                  "147159.0",
                  "5670166.0",
                  "79",
                  "0",
                  "0",
                  "1",
                  "4",
                  "-1.0",
                  "4.41306134138659e-15",
                  "8.642973673189182",
                  "0"
                ],
                [
                  "2",
                  "2022-11-01 00:00:00",
                  "sul",
                  "160759.0",
                  "6053194.0",
                  "83",
                  "0",
                  "0",
                  "1",
                  "8",
                  "0.8660254037844304",
                  "0.5000000000000144",
                  "8.70834134560112",
                  "0"
                ],
                [
                  "3",
                  "2022-10-01 00:00:00",
                  "sul",
                  "165405.0",
                  "5938846.0",
                  "82",
                  "0",
                  "0",
                  "1",
                  "7",
                  "-0.8660254037844386",
                  "0.5",
                  "8.68927011738837",
                  "0"
                ],
                [
                  "4",
                  "2022-09-01 00:00:00",
                  "sul",
                  "168925.0",
                  "5776479.0",
                  "81",
                  "0",
                  "0",
                  "1",
                  "6",
                  "1.1757847233087767e-14",
                  "-1.0",
                  "8.661549606497093",
                  "0"
                ],
                [
                  "5",
                  "2018-04-01 00:00:00",
                  "sul",
                  "97726.0",
                  "3954977.0",
                  "28",
                  "0",
                  "0",
                  "0",
                  "0",
                  "-0.499999999999997",
                  "-0.8660254037844404",
                  "8.28273006476133",
                  "0"
                ],
                [
                  "6",
                  "2018-05-01 00:00:00",
                  "sul",
                  "94476.0",
                  "3950949.0",
                  "29",
                  "0",
                  "0",
                  "0",
                  "0",
                  "-0.8660254037844359",
                  "0.5000000000000047",
                  "8.281711082203556",
                  "0"
                ],
                [
                  "7",
                  "2018-06-01 00:00:00",
                  "sul",
                  "88737.0",
                  "3629643.0",
                  "30",
                  "0",
                  "0",
                  "0",
                  "0",
                  "0.5",
                  "0.8660254037844386",
                  "8.196889575315065",
                  "0"
                ],
                [
                  "8",
                  "2022-08-01 00:00:00",
                  "sul",
                  "177835.0",
                  "6446181.0",
                  "80",
                  "0",
                  "0",
                  "1",
                  "5",
                  "-9.772415167715292e-16",
                  "1.0",
                  "8.771243141410267",
                  "0"
                ],
                [
                  "9",
                  "2022-06-01 00:00:00",
                  "sul",
                  "140293.0",
                  "5884884.0",
                  "78",
                  "0",
                  "0",
                  "1",
                  "3",
                  "1.0",
                  "1.322804237270118e-14",
                  "8.680142308370119",
                  "0"
                ],
                [
                  "10",
                  "2022-02-01 00:00:00",
                  "sul",
                  "112740.0",
                  "4736730.0",
                  "74",
                  "1",
                  "23",
                  "0",
                  "0",
                  "-0.49999999999998684",
                  "-0.8660254037844463",
                  "8.463102303199236",
                  "0"
                ],
                [
                  "11",
                  "2018-07-01 00:00:00",
                  "sul",
                  "94076.0",
                  "3895748.0",
                  "31",
                  "0",
                  "0",
                  "0",
                  "0",
                  "-0.8660254037844396",
                  "0.4999999999999983",
                  "8.267640980945627",
                  "0"
                ],
                [
                  "12",
                  "2018-08-01 00:00:00",
                  "sul",
                  "102565.0",
                  "4238054.0",
                  "32",
                  "0",
                  "0",
                  "0",
                  "0",
                  "0.500000000000006",
                  "0.8660254037844353",
                  "8.351859480606436",
                  "0"
                ],
                [
                  "13",
                  "2018-09-01 00:00:00",
                  "sul",
                  "91000.0",
                  "3627309.0",
                  "33",
                  "0",
                  "0",
                  "0",
                  "0",
                  "0.8660254037844379",
                  "-0.5000000000000012",
                  "8.196246330029584",
                  "0"
                ],
                [
                  "14",
                  "2022-05-01 00:00:00",
                  "sul",
                  "146829.0",
                  "6291774.0",
                  "77",
                  "0",
                  "0",
                  "1",
                  "2",
                  "-1.0",
                  "-2.447436656384941e-15",
                  "8.74699834490625",
                  "0"
                ],
                [
                  "15",
                  "2022-04-01 00:00:00",
                  "sul",
                  "128826.0",
                  "5072770.0",
                  "76",
                  "0",
                  "0",
                  "1",
                  "1",
                  "-2.942866201773178e-15",
                  "-1.0",
                  "8.531642298474628",
                  "0"
                ],
                [
                  "16",
                  "2022-03-01 00:00:00",
                  "sul",
                  "153126.0",
                  "5665257.0",
                  "75",
                  "1",
                  "24",
                  "0",
                  "0",
                  "0.4999999999999775",
                  "0.8660254037844516",
                  "8.642107538717289",
                  "0"
                ],
                [
                  "17",
                  "2018-10-01 00:00:00",
                  "sul",
                  "109284.0",
                  "4475717.0",
                  "34",
                  "0",
                  "0",
                  "0",
                  "0",
                  "-0.5000000000000056",
                  "0.8660254037844355",
                  "8.406421841338235",
                  "0"
                ],
                [
                  "18",
                  "2018-03-01 00:00:00",
                  "sul",
                  "93063.0",
                  "3799601.0",
                  "27",
                  "0",
                  "0",
                  "0",
                  "0",
                  "-0.8660254037844394",
                  "0.4999999999999987",
                  "8.242651340201592",
                  "0"
                ],
                [
                  "19",
                  "2018-02-01 00:00:00",
                  "sul",
                  "82272.0",
                  "3127761.0",
                  "26",
                  "0",
                  "0",
                  "0",
                  "0",
                  "-0.8660254037844349",
                  "-0.5000000000000063",
                  "8.048072692096449",
                  "0"
                ],
                [
                  "20",
                  "2022-12-01 00:00:00",
                  "sul",
                  "139769.0",
                  "5379526.0",
                  "84",
                  "0",
                  "0",
                  "1",
                  "9",
                  "-1.0",
                  "-1.0287652093474354e-14",
                  "8.590355545185217",
                  "0"
                ],
                [
                  "21",
                  "2023-01-01 00:00:00",
                  "sul",
                  "165088.0",
                  "5569906.0",
                  "85",
                  "0",
                  "0",
                  "1",
                  "10",
                  "-1.5677954951632475e-14",
                  "1.0",
                  "8.625133456656844",
                  "0"
                ],
                [
                  "22",
                  "2023-08-01 00:00:00",
                  "sul",
                  "232746.0",
                  "7448532.0",
                  "92",
                  "0",
                  "0",
                  "1",
                  "17",
                  "-2.3518170388721888e-14",
                  "1.0",
                  "8.915772244977433",
                  "0"
                ],
                [
                  "23",
                  "2023-07-01 00:00:00",
                  "sul",
                  "190714.0",
                  "6265292.0",
                  "91",
                  "0",
                  "0",
                  "1",
                  "16",
                  "-0.8660254037844392",
                  "0.49999999999999917",
                  "8.742780474384507",
                  "0"
                ],
                [
                  "24",
                  "2017-06-01 00:00:00",
                  "sul",
                  "64161.0",
                  "2617493.0",
                  "18",
                  "0",
                  "0",
                  "0",
                  "0",
                  "1.0",
                  "-6.189806365883577e-19",
                  "7.86997226843357",
                  "0"
                ],
                [
                  "25",
                  "2017-07-01 00:00:00",
                  "sul",
                  "66071.0",
                  "2747312.0",
                  "19",
                  "0",
                  "0",
                  "0",
                  "0",
                  "-1.0",
                  "-3.674559378078648e-15",
                  "7.918378258094948",
                  "0"
                ],
                [
                  "26",
                  "2023-06-01 00:00:00",
                  "sul",
                  "182741.0",
                  "6324614.0",
                  "90",
                  "0",
                  "0",
                  "1",
                  "15",
                  "0.5000000000000131",
                  "0.866025403784431",
                  "8.752204284065472",
                  "0"
                ],
                [
                  "27",
                  "2017-08-01 00:00:00",
                  "sul",
                  "78334.0",
                  "3130846.0",
                  "20",
                  "0",
                  "0",
                  "0",
                  "0",
                  "0.866025403784437",
                  "0.5000000000000028",
                  "8.049058534553039",
                  "0"
                ],
                [
                  "28",
                  "2017-09-01 00:00:00",
                  "sul",
                  "85556.0",
                  "3499119.0",
                  "21",
                  "0",
                  "0",
                  "0",
                  "0",
                  "0.8660254037844373",
                  "-0.5000000000000023",
                  "8.160266501506433",
                  "0"
                ],
                [
                  "29",
                  "2023-05-01 00:00:00",
                  "sul",
                  "201638.0",
                  "7376729.0",
                  "89",
                  "0",
                  "0",
                  "1",
                  "14",
                  "-0.8660254037844318",
                  "-0.5000000000000119",
                  "8.906085594409065",
                  "0"
                ],
                [
                  "30",
                  "2023-04-01 00:00:00",
                  "sul",
                  "168862.0",
                  "6141997.0",
                  "88",
                  "0",
                  "0",
                  "1",
                  "13",
                  "-0.4999999999999979",
                  "-0.8660254037844398",
                  "8.7229052125604",
                  "0"
                ],
                [
                  "31",
                  "2017-10-01 00:00:00",
                  "sul",
                  "96570.0",
                  "3766109.0",
                  "22",
                  "0",
                  "0",
                  "0",
                  "0",
                  "-0.8660254037844392",
                  "0.49999999999999917",
                  "8.233797651974035",
                  "0"
                ],
                [
                  "32",
                  "2023-03-01 00:00:00",
                  "sul",
                  "215241.0",
                  "7277040.0",
                  "87",
                  "0",
                  "0",
                  "1",
                  "12",
                  "-0.5000000000000225",
                  "0.8660254037844257",
                  "8.892479465102626",
                  "0"
                ],
                [
                  "33",
                  "2017-11-01 00:00:00",
                  "sul",
                  "93940.0",
                  "3728902.0",
                  "23",
                  "0",
                  "0",
                  "0",
                  "0",
                  "1.0",
                  "4.892397390223529e-16",
                  "8.223869099329326",
                  "0"
                ],
                [
                  "34",
                  "2023-02-01 00:00:00",
                  "sul",
                  "158309.0",
                  "5147652.0",
                  "86",
                  "0",
                  "0",
                  "1",
                  "11",
                  "-0.5000000000000165",
                  "-0.866025403784429",
                  "8.546295967363498",
                  "0"
                ],
                [
                  "35",
                  "2017-12-01 00:00:00",
                  "sul",
                  "75661.0",
                  "2883017.0",
                  "24",
                  "0",
                  "0",
                  "0",
                  "0",
                  "-1.0",
                  "-4.164418097737589e-15",
                  "7.966592594256467",
                  "0"
                ],
                [
                  "36",
                  "2018-01-01 00:00:00",
                  "sul",
                  "84754.0",
                  "3323595.0",
                  "25",
                  "0",
                  "0",
                  "0",
                  "0",
                  "0.5000000000000004",
                  "0.8660254037844384",
                  "8.108802307396868",
                  "0"
                ],
                [
                  "37",
                  "2018-11-01 00:00:00",
                  "sul",
                  "92193.0",
                  "3724671.0",
                  "35",
                  "0",
                  "0",
                  "0",
                  "0",
                  "1.0",
                  "8.819313895770708e-15",
                  "8.222733804765378",
                  "0"
                ],
                [
                  "38",
                  "2018-12-01 00:00:00",
                  "sul",
                  "69332.0",
                  "2857177.0",
                  "36",
                  "0",
                  "0",
                  "0",
                  "0",
                  "-0.5000000000000026",
                  "-0.8660254037844372",
                  "7.957589353409414",
                  "0"
                ],
                [
                  "39",
                  "2023-09-01 00:00:00",
                  "sul",
                  "198259.0",
                  "6122598.0",
                  "93",
                  "0",
                  "0",
                  "1",
                  "18",
                  "5.877066674634119e-15",
                  "-1.0",
                  "8.7197417952315",
                  "0"
                ],
                [
                  "40",
                  "2020-02-01 00:00:00",
                  "sul",
                  "92376.0",
                  "3255998.0",
                  "50",
                  "0",
                  "0",
                  "0",
                  "0",
                  "1.567919291290565e-14",
                  "-1.0",
                  "8.088254112871628",
                  "0"
                ],
                [
                  "41",
                  "2021-03-01 00:00:00",
                  "sul",
                  "118299.0",
                  "4561456.0",
                  "63",
                  "1",
                  "12",
                  "0",
                  "0",
                  "-0.5000000000000081",
                  "0.866025403784434",
                  "8.425397149789209",
                  "0"
                ],
                [
                  "42",
                  "2019-11-01 00:00:00",
                  "sul",
                  "103886.0",
                  "3826879.0",
                  "47",
                  "0",
                  "0",
                  "0",
                  "0",
                  "1.0",
                  "2.9385333373170594e-15",
                  "8.249804867470935",
                  "0"
                ],
                [
                  "43",
                  "2021-02-01 00:00:00",
                  "sul",
                  "102694.0",
                  "3836443.0",
                  "62",
                  "1",
                  "11",
                  "0",
                  "0",
                  "-0.49999999999998174",
                  "-0.8660254037844491",
                  "8.252300914215548",
                  "0"
                ],
                [
                  "44",
                  "2019-12-01 00:00:00",
                  "sul",
                  "82891.0",
                  "2987363.0",
                  "48",
                  "0",
                  "0",
                  "0",
                  "0",
                  "-1.0",
                  "4.917156615687063e-16",
                  "8.002146337447682",
                  "0"
                ],
                [
                  "45",
                  "2021-01-01 00:00:00",
                  "sul",
                  "99299.0",
                  "3712563.0",
                  "61",
                  "1",
                  "10",
                  "0",
                  "0",
                  "0.4999999999999911",
                  "0.8660254037844438",
                  "8.219477752663941",
                  "0"
                ],
                [
                  "46",
                  "2020-12-01 00:00:00",
                  "sul",
                  "95030.0",
                  "3561154.0",
                  "60",
                  "1",
                  "9",
                  "0",
                  "0",
                  "-0.4999999999999894",
                  "0.8660254037844448",
                  "8.17783992862182",
                  "0"
                ],
                [
                  "47",
                  "2020-01-01 00:00:00",
                  "sul",
                  "97985.0",
                  "3417744.0",
                  "49",
                  "0",
                  "0",
                  "0",
                  "0",
                  "1.0",
                  "1.0288890054747531e-14",
                  "8.136735963269635",
                  "0"
                ],
                [
                  "48",
                  "2020-11-01 00:00:00",
                  "sul",
                  "113099.0",
                  "4298672.0",
                  "59",
                  "1",
                  "8",
                  "0",
                  "0",
                  "0.8660254037844499",
                  "-0.49999999999998046",
                  "8.36606141677232",
                  "0"
                ],
                [
                  "49",
                  "2022-01-01 00:00:00",
                  "sul",
                  "101061.0",
                  "5251388.0",
                  "73",
                  "1",
                  "22",
                  "0",
                  "0",
                  "0.866025403784445",
                  "0.49999999999998895",
                  "8.566247701595564",
                  "0"
                ]
              ],
              "shape": {
                "columns": 13,
                "rows": 540
              }
            },
            "text/html": [
              "<div>\n",
              "<style scoped>\n",
              "    .dataframe tbody tr th:only-of-type {\n",
              "        vertical-align: middle;\n",
              "    }\n",
              "\n",
              "    .dataframe tbody tr th {\n",
              "        vertical-align: top;\n",
              "    }\n",
              "\n",
              "    .dataframe thead th {\n",
              "        text-align: right;\n",
              "    }\n",
              "</style>\n",
              "<table border=\"1\" class=\"dataframe\">\n",
              "  <thead>\n",
              "    <tr style=\"text-align: right;\">\n",
              "      <th></th>\n",
              "      <th>date</th>\n",
              "      <th>regiao</th>\n",
              "      <th>valores</th>\n",
              "      <th>total_atd</th>\n",
              "      <th>periodo</th>\n",
              "      <th>Pandemia_Step</th>\n",
              "      <th>Pandemia_Trend</th>\n",
              "      <th>PosPandemia_Step</th>\n",
              "      <th>PosPandemia_Trend</th>\n",
              "      <th>cos1</th>\n",
              "      <th>sin1</th>\n",
              "      <th>offset</th>\n",
              "      <th>isSaudeMental</th>\n",
              "    </tr>\n",
              "  </thead>\n",
              "  <tbody>\n",
              "    <tr>\n",
              "      <th>0</th>\n",
              "      <td>2024-12-01</td>\n",
              "      <td>sul</td>\n",
              "      <td>169359.0</td>\n",
              "      <td>5537357.0</td>\n",
              "      <td>108</td>\n",
              "      <td>0</td>\n",
              "      <td>0</td>\n",
              "      <td>1</td>\n",
              "      <td>33</td>\n",
              "      <td>-5.000000e-01</td>\n",
              "      <td>8.660254e-01</td>\n",
              "      <td>8.619273</td>\n",
              "      <td>0</td>\n",
              "    </tr>\n",
              "    <tr>\n",
              "      <th>1</th>\n",
              "      <td>2022-07-01</td>\n",
              "      <td>sul</td>\n",
              "      <td>147159.0</td>\n",
              "      <td>5670166.0</td>\n",
              "      <td>79</td>\n",
              "      <td>0</td>\n",
              "      <td>0</td>\n",
              "      <td>1</td>\n",
              "      <td>4</td>\n",
              "      <td>-1.000000e+00</td>\n",
              "      <td>4.413061e-15</td>\n",
              "      <td>8.642974</td>\n",
              "      <td>0</td>\n",
              "    </tr>\n",
              "    <tr>\n",
              "      <th>2</th>\n",
              "      <td>2022-11-01</td>\n",
              "      <td>sul</td>\n",
              "      <td>160759.0</td>\n",
              "      <td>6053194.0</td>\n",
              "      <td>83</td>\n",
              "      <td>0</td>\n",
              "      <td>0</td>\n",
              "      <td>1</td>\n",
              "      <td>8</td>\n",
              "      <td>8.660254e-01</td>\n",
              "      <td>5.000000e-01</td>\n",
              "      <td>8.708341</td>\n",
              "      <td>0</td>\n",
              "    </tr>\n",
              "    <tr>\n",
              "      <th>3</th>\n",
              "      <td>2022-10-01</td>\n",
              "      <td>sul</td>\n",
              "      <td>165405.0</td>\n",
              "      <td>5938846.0</td>\n",
              "      <td>82</td>\n",
              "      <td>0</td>\n",
              "      <td>0</td>\n",
              "      <td>1</td>\n",
              "      <td>7</td>\n",
              "      <td>-8.660254e-01</td>\n",
              "      <td>5.000000e-01</td>\n",
              "      <td>8.689270</td>\n",
              "      <td>0</td>\n",
              "    </tr>\n",
              "    <tr>\n",
              "      <th>4</th>\n",
              "      <td>2022-09-01</td>\n",
              "      <td>sul</td>\n",
              "      <td>168925.0</td>\n",
              "      <td>5776479.0</td>\n",
              "      <td>81</td>\n",
              "      <td>0</td>\n",
              "      <td>0</td>\n",
              "      <td>1</td>\n",
              "      <td>6</td>\n",
              "      <td>1.175785e-14</td>\n",
              "      <td>-1.000000e+00</td>\n",
              "      <td>8.661550</td>\n",
              "      <td>0</td>\n",
              "    </tr>\n",
              "    <tr>\n",
              "      <th>...</th>\n",
              "      <td>...</td>\n",
              "      <td>...</td>\n",
              "      <td>...</td>\n",
              "      <td>...</td>\n",
              "      <td>...</td>\n",
              "      <td>...</td>\n",
              "      <td>...</td>\n",
              "      <td>...</td>\n",
              "      <td>...</td>\n",
              "      <td>...</td>\n",
              "      <td>...</td>\n",
              "      <td>...</td>\n",
              "      <td>...</td>\n",
              "    </tr>\n",
              "    <tr>\n",
              "      <th>535</th>\n",
              "      <td>2021-10-01</td>\n",
              "      <td>centro_oeste</td>\n",
              "      <td>44161.0</td>\n",
              "      <td>1577021.0</td>\n",
              "      <td>70</td>\n",
              "      <td>1</td>\n",
              "      <td>19</td>\n",
              "      <td>0</td>\n",
              "      <td>0</td>\n",
              "      <td>-5.000000e-01</td>\n",
              "      <td>8.660254e-01</td>\n",
              "      <td>7.363293</td>\n",
              "      <td>0</td>\n",
              "    </tr>\n",
              "    <tr>\n",
              "      <th>536</th>\n",
              "      <td>2019-03-01</td>\n",
              "      <td>centro_oeste</td>\n",
              "      <td>25015.0</td>\n",
              "      <td>1177864.0</td>\n",
              "      <td>39</td>\n",
              "      <td>0</td>\n",
              "      <td>0</td>\n",
              "      <td>0</td>\n",
              "      <td>0</td>\n",
              "      <td>5.000000e-01</td>\n",
              "      <td>8.660254e-01</td>\n",
              "      <td>7.071458</td>\n",
              "      <td>0</td>\n",
              "    </tr>\n",
              "    <tr>\n",
              "      <th>537</th>\n",
              "      <td>2023-04-01</td>\n",
              "      <td>centro_oeste</td>\n",
              "      <td>56631.0</td>\n",
              "      <td>2186160.0</td>\n",
              "      <td>88</td>\n",
              "      <td>0</td>\n",
              "      <td>0</td>\n",
              "      <td>1</td>\n",
              "      <td>13</td>\n",
              "      <td>1.000000e+00</td>\n",
              "      <td>1.420776e-14</td>\n",
              "      <td>7.689902</td>\n",
              "      <td>0</td>\n",
              "    </tr>\n",
              "    <tr>\n",
              "      <th>538</th>\n",
              "      <td>2021-11-01</td>\n",
              "      <td>centro_oeste</td>\n",
              "      <td>45613.0</td>\n",
              "      <td>1641417.0</td>\n",
              "      <td>71</td>\n",
              "      <td>1</td>\n",
              "      <td>20</td>\n",
              "      <td>0</td>\n",
              "      <td>0</td>\n",
              "      <td>8.660254e-01</td>\n",
              "      <td>-5.000000e-01</td>\n",
              "      <td>7.403315</td>\n",
              "      <td>0</td>\n",
              "    </tr>\n",
              "    <tr>\n",
              "      <th>539</th>\n",
              "      <td>2016-01-01</td>\n",
              "      <td>centro_oeste</td>\n",
              "      <td>5311.0</td>\n",
              "      <td>485404.0</td>\n",
              "      <td>1</td>\n",
              "      <td>0</td>\n",
              "      <td>0</td>\n",
              "      <td>0</td>\n",
              "      <td>0</td>\n",
              "      <td>0.000000e+00</td>\n",
              "      <td>1.000000e+00</td>\n",
              "      <td>6.184982</td>\n",
              "      <td>0</td>\n",
              "    </tr>\n",
              "  </tbody>\n",
              "</table>\n",
              "<p>540 rows × 13 columns</p>\n",
              "</div>"
            ],
            "text/plain": [
              "          date        regiao   valores  total_atd  periodo  Pandemia_Step  \\\n",
              "0   2024-12-01           sul  169359.0  5537357.0      108              0   \n",
              "1   2022-07-01           sul  147159.0  5670166.0       79              0   \n",
              "2   2022-11-01           sul  160759.0  6053194.0       83              0   \n",
              "3   2022-10-01           sul  165405.0  5938846.0       82              0   \n",
              "4   2022-09-01           sul  168925.0  5776479.0       81              0   \n",
              "..         ...           ...       ...        ...      ...            ...   \n",
              "535 2021-10-01  centro_oeste   44161.0  1577021.0       70              1   \n",
              "536 2019-03-01  centro_oeste   25015.0  1177864.0       39              0   \n",
              "537 2023-04-01  centro_oeste   56631.0  2186160.0       88              0   \n",
              "538 2021-11-01  centro_oeste   45613.0  1641417.0       71              1   \n",
              "539 2016-01-01  centro_oeste    5311.0   485404.0        1              0   \n",
              "\n",
              "     Pandemia_Trend  PosPandemia_Step  PosPandemia_Trend          cos1  \\\n",
              "0                 0                 1                 33 -5.000000e-01   \n",
              "1                 0                 1                  4 -1.000000e+00   \n",
              "2                 0                 1                  8  8.660254e-01   \n",
              "3                 0                 1                  7 -8.660254e-01   \n",
              "4                 0                 1                  6  1.175785e-14   \n",
              "..              ...               ...                ...           ...   \n",
              "535              19                 0                  0 -5.000000e-01   \n",
              "536               0                 0                  0  5.000000e-01   \n",
              "537               0                 1                 13  1.000000e+00   \n",
              "538              20                 0                  0  8.660254e-01   \n",
              "539               0                 0                  0  0.000000e+00   \n",
              "\n",
              "             sin1    offset  isSaudeMental  \n",
              "0    8.660254e-01  8.619273              0  \n",
              "1    4.413061e-15  8.642974              0  \n",
              "2    5.000000e-01  8.708341              0  \n",
              "3    5.000000e-01  8.689270              0  \n",
              "4   -1.000000e+00  8.661550              0  \n",
              "..            ...       ...            ...  \n",
              "535  8.660254e-01  7.363293              0  \n",
              "536  8.660254e-01  7.071458              0  \n",
              "537  1.420776e-14  7.689902              0  \n",
              "538 -5.000000e-01  7.403315              0  \n",
              "539  1.000000e+00  6.184982              0  \n",
              "\n",
              "[540 rows x 13 columns]"
            ]
          },
          "execution_count": 14,
          "metadata": {},
          "output_type": "execute_result"
        }
      ],
      "source": [
        "\n",
        "pipe = Pipeline(\n",
        "    [\n",
        "        (\"grouping\", FrequencyGroupingTransformer(frequency=PREPROCESSOR_ARGS['FrequencyDateGroup'])),\n",
        "        (\"melt\", MeltTransformer()),\n",
        "        (\"date_filter\", DateFilterTransformer(periodos_inclusivos=PREPROCESSOR_ARGS['DateRange'])),\n",
        "        (\"period_index_adder\", PeriodIndexAdder()),\n",
        "        (\"dummy_adder\", MultiDummyAdder(dummy_config=PREPROCESSOR_ARGS['DummyArgs'])),\n",
        "        #(\"monthly_dummy_adder\", MonthlyDummyAdder()),\n",
        "        #(\"quarterly_dummy_adder\", QuarterlyDummyAdder()),\n",
        "        ('fourier_seasonality', FourierSeasonalityAdder(period = FOURIER_PERIOD,order=N_HARMONICS)),\n",
        "        #('moving_average', MovingAverageTransformer(window=MOVING_WINDOW, prefix='ma', center=True)),\n",
        "        (\"sorter\", DataFrameSorter(sort_by=GROUP_COL_NAME, ascending=False)),\n",
        "\n",
        "\n",
        "    ]\n",
        ")\n",
        "\n",
        "\n",
        "RawDataDF = BuildDataDF(dados_brutos)\n",
        "RegressionDF = pipe.fit_transform(RawDataDF)\n",
        "RegressionDF[\"offset\"] = np.log(RegressionDF[\"total_atd\"] / 1000)\n",
        "\n",
        "RegressionDF['isSaudeMental'] = (RegressionDF[GROUP_COL_NAME] == MAIN_SERIE).astype(int)\n",
        "ControlRegressionDF = RegressionDF[\n",
        "    RegressionDF[GROUP_COL_NAME].isin([MAIN_SERIE, CONTROL_SERIE])\n",
        "].copy()\n",
        "\n",
        "RegressionDF\n"
      ]
    },
    {
      "cell_type": "code",
      "execution_count": 15,
      "metadata": {},
      "outputs": [
        {
          "name": "stdout",
          "output_type": "stream",
          "text": [
            "            sin(1,12)     cos(1,12)\n",
            "date                               \n",
            "2024-12-01   0.000000  1.000000e+00\n",
            "2022-07-01   0.500000  8.660254e-01\n",
            "2022-11-01   0.866025  5.000000e-01\n",
            "2022-10-01   1.000000  6.123234e-17\n",
            "2022-09-01   0.866025 -5.000000e-01\n",
            "...               ...           ...\n",
            "2021-10-01  -0.500000 -8.660254e-01\n",
            "2019-03-01  -0.866025 -5.000000e-01\n",
            "2023-04-01  -1.000000  1.473909e-15\n",
            "2021-11-01  -0.866025  5.000000e-01\n",
            "2016-01-01  -0.500000  8.660254e-01\n",
            "\n",
            "[540 rows x 2 columns]\n",
            "sin(1,12) is within the correct range [-1, 1]. Min: -1.0, Max: 1.0\n",
            "cos(1,12) is within the correct range [-1, 1]. Min: -1.0, Max: 1.0\n"
          ]
        }
      ],
      "source": [
        "from statsmodels.tsa.deterministic import Fourier\n",
        "import pandas as pd\n",
        "\n",
        "# Example data\n",
        "index = RegressionDF[DATE_NAME]\n",
        "fourier = Fourier(period=12, order=1)  # Fourier terms for seasonality\n",
        "\n",
        "# Generate Fourier terms\n",
        "fourier_terms = fourier.in_sample(index)\n",
        "print(fourier_terms)\n",
        "\n",
        "for column in fourier_terms.columns:\n",
        "    min_value = fourier_terms[column].min()\n",
        "    max_value = fourier_terms[column].max()\n",
        "    \n",
        "    if min_value < -1 or max_value > 1:\n",
        "        print(f\"Warning: {column} is out of range [-1, 1]. Min: {min_value}, Max: {max_value}\")\n",
        "    else:\n",
        "        print(f\"{column} is within the correct range [-1, 1]. Min: {min_value}, Max: {max_value}\")"
      ]
    },
    {
      "cell_type": "markdown",
      "metadata": {
        "id": "_lLzpByrMa6g"
      },
      "source": [
        "# Media movel "
      ]
    },
    {
      "cell_type": "code",
      "execution_count": 16,
      "metadata": {
        "colab": {
          "base_uri": "https://localhost:8080/",
          "height": 1000
        },
        "id": "-DDe_bMWNIXb",
        "outputId": "3cca2b7a-d7ce-4e0a-abb7-4b6a9cb36edd"
      },
      "outputs": [],
      "source": [
        "import matplotlib.pyplot as plt\n",
        "\n",
        "\n",
        "\n",
        "moving_avg_pipe = Pipeline([\n",
        "    ('moving_average', MovingAverageTransformer(window=MOVING_WINDOW, prefix='ma', center=True)),\n",
        "    ]\n",
        "    )\n",
        "\n",
        "def plot_moving_average(df, column, ma_column=None, title='Moving Average Plot', date_column='date'):\n",
        "    \"\"\"\n",
        "    Plota a série temporal original junto com a média móvel.\n",
        "\n",
        "    df: DataFrame contendo os dados\n",
        "    column: nome da coluna original\n",
        "    ma_column: nome da coluna da média móvel (se None, assume padrão de 'ma_{window}_{column}')\n",
        "    title: título do gráfico\n",
        "    date_column: nome da coluna de data\n",
        "    \"\"\"\n",
        "    if ma_column is None:\n",
        "        ma_column = [col for col in df.columns if col.startswith('ma_') and col.endswith(column)]\n",
        "        if ma_column:\n",
        "            ma_column = ma_column[0]\n",
        "        else:\n",
        "            raise ValueError(\"Média móvel não encontrada. Verifique o nome da coluna.\")\n",
        "\n",
        "    df[date_column] = pd.to_datetime(df[date_column])  # Ensure datetime format\n",
        "\n",
        "    plt.figure(figsize=(12, 5))\n",
        "    plt.plot(df[date_column], df[column], label='Original', color='lightgray')\n",
        "    plt.plot(df[date_column], df[ma_column], label=f'{ma_column}', color='blue')\n",
        "    plt.title(title)\n",
        "    plt.xlabel('Data')\n",
        "    plt.ylabel(column)\n",
        "    plt.legend()\n",
        "    plt.grid(True)\n",
        "    plt.tight_layout()\n",
        "    plt.show()\n",
        "\n",
        "if PLOT_MEDIA_MOVEL:\n",
        "    for var in RegressionDF[GROUP_COL_NAME].unique():\n",
        "        var_df = RegressionDF[RegressionDF[GROUP_COL_NAME] == var]\n",
        "        #var_df = var_df.sort_values(by = INDEPENDENT_VAR, ascending=False)\n",
        "        #print(var_df)\n",
        "        #var_df = moving_avg_pipe.fit_transform(var_df)\n",
        "\n",
        "\n",
        "        plot_moving_average(var_df, column=DEPENDENT_VAR, ma_column=f'ma_{MOVING_WINDOW}_valores', title=f'Moving Average Plot for {var}')\n",
        "\n"
      ]
    },
    {
      "cell_type": "markdown",
      "metadata": {
        "id": "NPO_tituNIXb"
      },
      "source": [
        "# Get Period Date Map and Dummies Period Indexes"
      ]
    },
    {
      "cell_type": "code",
      "execution_count": 17,
      "metadata": {},
      "outputs": [],
      "source": [
        "PERIOD_DATE_MAP = pipe.named_steps['period_index_adder'].period_date_mapping"
      ]
    },
    {
      "cell_type": "code",
      "execution_count": 18,
      "metadata": {},
      "outputs": [],
      "source": [
        "def find_idx_from_date(target_date, args, period_date_map=PERIOD_DATE_MAP):\n",
        "    \"\"\"\n",
        "    Finds the 'periodo' (index) corresponding to a given datetime in the PERIOD_DATE_MAP.\n",
        "\n",
        "    Args:\n",
        "        target_date (str or datetime): The target date to search for (e.g., '2020-01-01').\n",
        "        period_date_map (dict): The PERIOD_DATE_MAP containing period-to-date mappings.\n",
        "\n",
        "    Returns:\n",
        "        int: The 'periodo' (index) corresponding to the target date, or None if not found.\n",
        "    \"\"\"\n",
        "    # Ensure the target_date is a datetime object and normalize to quarter-end\n",
        "    if isinstance(target_date, str):\n",
        "        target_date = pd.to_datetime(target_date)\n",
        "    if args['FrequencyDateGroup'] == 'Q' or args['FrequencyDateGroup'] == 'QE':\n",
        "        target_date = target_date + pd.offsets.QuarterEnd(0)\n",
        "\n",
        "    # Iterate through the PERIOD_DATE_MAP to find the matching period\n",
        "    for date, period in period_date_map.items():\n",
        "        if isinstance(date, str):\n",
        "            date = pd.to_datetime(date)\n",
        "        if args['FrequencyDateGroup'] == 'Q' or args['FrequencyDateGroup'] == 'QE':\n",
        "            date = date + pd.offsets.QuarterEnd(0) # Normalize to quarter-end\n",
        "        if date == target_date:\n",
        "            return period - 1\n",
        "\n",
        "    return None\n",
        "\n",
        "\n",
        "def find_date_from_idx(target_idx, args, period_date_map=PERIOD_DATE_MAP):\n",
        "    \"\"\"\n",
        "    Finds the date corresponding to a given 'periodo' (index) in the PERIOD_DATE_MAP.\n",
        "\n",
        "    Args:\n",
        "        target_idx (int): The target index to search for (e.g., 1, 2, 3).\n",
        "        period_date_map (dict): The PERIOD_DATE_MAP containing period-to-date mappings.\n",
        "\n",
        "    Returns:\n",
        "        datetime or None: The date corresponding to the target index, or None if not found.\n",
        "    \"\"\"\n",
        "    # Iterate through the PERIOD_DATE_MAP to find the matching index\n",
        "    for date, period in period_date_map.items():\n",
        "        if period == target_idx:\n",
        "            date = pd.to_datetime(date) if isinstance(date, str) else date\n",
        "            date = date + pd.offsets.QuarterEnd(0) if args['FrequencyDateGroup'] == 'Q' or args['FrequencyDateGroup'] == 'QE' else date\n",
        "            return date\n",
        "    return None"
      ]
    },
    {
      "cell_type": "code",
      "execution_count": 19,
      "metadata": {},
      "outputs": [
        {
          "name": "stdout",
          "output_type": "stream",
          "text": [
            "Pandemia_Step {'start_date': '2020-04-01', 'end_date': '2022-03-01', 'exclude_ranges': []}\n",
            "Pandemia_Trend {'start_date': '2020-04-01', 'end_date': '2022-03-01', 'exclude_ranges': [], 'add_time_trend': True, 'keep_period_index': False}\n",
            "PosPandemia_Step {'start_date': '2022-04-01', 'end_date': '2024-12-01', 'exclude_ranges': [], 'plot': False, 'step': True}\n",
            "PosPandemia_Trend {'start_date': '2022-04-01', 'end_date': '2024-12-01', 'exclude_ranges': [], 'plot': True, 'add_time_trend': True, 'keep_period_index': False, 'step': False}\n"
          ]
        },
        {
          "data": {
            "text/plain": [
              "{'Pandemia_Step': {'start_index': 51, 'end_index': 74},\n",
              " 'Pandemia_Trend': {'start_index': 51, 'end_index': 74},\n",
              " 'PosPandemia_Step': {'start_index': 75, 'end_index': 107},\n",
              " 'PosPandemia_Trend': {'start_index': 75, 'end_index': 107}}"
            ]
          },
          "execution_count": 19,
          "metadata": {},
          "output_type": "execute_result"
        }
      ],
      "source": [
        "DummyIndexes = {}\n",
        "\n",
        "# Iterate over DUMMY_ARGS to calculate and store indexes\n",
        "for dummy_name, config in DUMMY_ARGS.items():\n",
        "    start_date = config.get(\"start_date\")\n",
        "    end_date = config.get(\"end_date\")\n",
        "\n",
        "    print(dummy_name, config)\n",
        "    # Calculate indexes using find_idx_from_date\n",
        "    start_idx = find_idx_from_date(start_date, PREPROCESSOR_ARGS, PERIOD_DATE_MAP) if start_date else None\n",
        "    end_idx = find_idx_from_date(end_date, PREPROCESSOR_ARGS, PERIOD_DATE_MAP) if end_date else None\n",
        "\n",
        "    # Store the indexes in the table\n",
        "    DummyIndexes[dummy_name] = {\n",
        "        \"start_index\": start_idx,\n",
        "        \"end_index\": end_idx\n",
        "    }\n",
        "DummyIndexes"
      ]
    },
    {
      "cell_type": "markdown",
      "metadata": {
        "id": "r5VoKUSkNIXc"
      },
      "source": [
        "# Exploration\n"
      ]
    },
    {
      "cell_type": "code",
      "execution_count": 20,
      "metadata": {
        "colab": {
          "base_uri": "https://localhost:8080/"
        },
        "id": "FrrmqovhNIXc",
        "outputId": "cf6e41a5-4664-4203-b687-0b34fc159bc6"
      },
      "outputs": [],
      "source": [
        "from statsmodels.api import OLS\n",
        "from statsmodels.tools.tools import add_constant\n",
        "import pandas as pd\n",
        "from scipy.stats import f\n",
        "main_regrdf = RegressionDF.copy()\n",
        "def chow_test(data, split_point, dependent_var, independent_vars):\n",
        "    \"\"\"\n",
        "    Realiza o teste de Chow para verificar mudanças estruturais em um modelo de regressão.\n",
        "\n",
        "    Args:\n",
        "        data (pd.DataFrame): DataFrame contendo os dados.\n",
        "        split_point (int): Ponto de divisão para o teste de Chow.\n",
        "        dependent_var (str): Nome da variável dependente.\n",
        "        independent_vars (list): Lista de nomes das variáveis independentes.\n",
        "\n",
        "    Returns:\n",
        "        dict: Resultados do teste de Chow contendo os valores F e p.\n",
        "    \"\"\"\n",
        "    # Dividir os dados em dois subconjuntos\n",
        "    data1 = data[data['periodo'] <= split_point]\n",
        "    data2 = data[data['periodo'] > split_point]\n",
        "\n",
        "    # Ajustar os modelos para cada subconjunto\n",
        "    X1 = add_constant(data1[independent_vars])\n",
        "    y1 = data1[dependent_var]\n",
        "    model1 = OLS(y1, X1).fit()\n",
        "\n",
        "    X2 = add_constant(data2[independent_vars])\n",
        "    y2 = data2[dependent_var]\n",
        "    model2 = OLS(y2, X2).fit()\n",
        "\n",
        "    # Ajustar o modelo para o conjunto completo\n",
        "    X_full = add_constant(data[independent_vars])\n",
        "    y_full = data[dependent_var]\n",
        "    model_full = OLS(y_full, X_full).fit()\n",
        "\n",
        "    # Calcular os graus de liberdade\n",
        "    k = len(independent_vars) + 1  # Número de parâmetros (incluindo o intercepto)\n",
        "    n1 = len(data1)\n",
        "    n2 = len(data2)\n",
        "    n = n1 + n2\n",
        "\n",
        "    # Calcular a soma dos quadrados dos resíduos\n",
        "    RSS1 = model1.ssr\n",
        "    RSS2 = model2.ssr\n",
        "    RSS_full = model_full.ssr\n",
        "\n",
        "    # Calcular o valor F\n",
        "    F = ((RSS_full - (RSS1 + RSS2)) / k) / ((RSS1 + RSS2) / (n - 2 * k))\n",
        "\n",
        "    # Calcular o p-valor\n",
        "    p_value = 1 - f.cdf(F, k, n - 2 * k)\n",
        "\n",
        "    return {\"F-statistic\": F, \"p-value\": p_value}\n",
        "\n",
        "\n",
        "if False:\n",
        "    chow_results = {}\n",
        "    split_point = find_idx_from_date(POS_PANDEMIA_START_DATE, PREPROCESSOR_ARGS)  # Exemplo: ponto de divisão para o teste de Chow\n",
        "    dependent_var = DEPENDENT_VAR\n",
        "    independent_vars = [INDEPENDENT_VAR] #+ [key for key in DUMMY_ARGS.keys()]\n",
        "    for variable in main_regrdf[GROUP_COL_NAME].unique():\n",
        "        variable_data = main_regrdf[main_regrdf[GROUP_COL_NAME] == variable]\n",
        "        result = chow_test(variable_data, split_point, dependent_var, independent_vars)\n",
        "        chow_results[variable] = result\n",
        "    # Converter os resultados em um DataFrame para visualização\n",
        "    chow_results_df = pd.DataFrame(chow_results).T\n",
        "    chow_results_df.columns = [\"F-statistic\", \"p-value\"]\n",
        "    chow_results_df['p-value'] = chow_results_df['p-value'].round(8)\n",
        "    print(chow_results_df)"
      ]
    },
    {
      "cell_type": "code",
      "execution_count": 21,
      "metadata": {
        "colab": {
          "base_uri": "https://localhost:8080/"
        },
        "id": "lyS4l0t8NIXc",
        "outputId": "87c30dda-28b3-48d9-8f50-7f23fa6ec0f4"
      },
      "outputs": [
        {
          "name": "stdout",
          "output_type": "stream",
          "text": [
            "[  1.          63.99999919 108.        ]\n",
            "2016-01-01 00:00:00\n",
            "2021-04-01 00:00:00\n",
            "2024-12-01 00:00:00\n"
          ]
        }
      ],
      "source": [
        "### TODO: make the knots per variable\n",
        "### TODO: remove the bumps/step_dummies before testing\n",
        "\n",
        "pwmodel = pwlf.PiecewiseLinFit(main_regrdf[INDEPENDENT_VAR].values,main_regrdf[DEPENDENT_VAR].values)\n",
        "knots = pwmodel.fit(2)\n",
        "print(knots)\n",
        "for knot in knots:\n",
        "    print(find_date_from_idx(np.round(knot), PREPROCESSOR_ARGS, PERIOD_DATE_MAP))"
      ]
    },
    {
      "cell_type": "code",
      "execution_count": 22,
      "metadata": {
        "colab": {
          "base_uri": "https://localhost:8080/",
          "height": 651
        },
        "id": "WJ_UKYslNIXc",
        "outputId": "ad4e0f72-aee3-43a3-e425-f46be70f892b"
      },
      "outputs": [
        {
          "data": {
            "application/vnd.microsoft.datawrangler.viewer.v0+json": {
              "columns": [
                {
                  "name": "index",
                  "rawType": "object",
                  "type": "string"
                },
                {
                  "name": "Heteroscedasticity (Breusch-Pagan)",
                  "rawType": "float64",
                  "type": "float"
                },
                {
                  "name": "Normality (Shapiro-Wilk)",
                  "rawType": "float64",
                  "type": "float"
                },
                {
                  "name": "Normality (Jarque-Bera)",
                  "rawType": "float64",
                  "type": "float"
                },
                {
                  "name": "Normality (D'Agostino)",
                  "rawType": "float64",
                  "type": "float"
                },
                {
                  "name": "Autocorrelation (Durbin-Watson)",
                  "rawType": "float64",
                  "type": "float"
                },
                {
                  "name": "Autocorrelation (Ljung-Box)",
                  "rawType": "float64",
                  "type": "float"
                }
              ],
              "conversionMethod": "pd.DataFrame",
              "ref": "f9fa20ff-25c2-484d-b94e-5f5b2c1cdffb",
              "rows": [
                [
                  "sul",
                  "0.0004662002642368153",
                  "0.6845717773512947",
                  "0.9808254577482376",
                  "0.963878816256518",
                  "0.7808207254853822",
                  "2.938326253110387e-29"
                ],
                [
                  "sudeste",
                  "0.0003531012401376093",
                  "0.6118416324221663",
                  "0.5707753842746393",
                  "0.4412762081072451",
                  "0.8411187446487575",
                  "3.012149016988058e-21"
                ],
                [
                  "norte",
                  "1.1271345698384289e-05",
                  "0.1101229530842921",
                  "0.21602767157746036",
                  "0.1717865914604294",
                  "0.44095063553246155",
                  "3.852604639893864e-67"
                ],
                [
                  "nordeste",
                  "2.5526214232653565e-05",
                  "0.02453075944930454",
                  "0.19604903178861638",
                  "0.17936932214963608",
                  "0.6390582821648737",
                  "2.8851191995781258e-58"
                ],
                [
                  "centro_oeste",
                  "3.637066817837027e-05",
                  "0.38524581199391755",
                  "0.3452647180891133",
                  "0.276026431659178",
                  "1.009153116389558",
                  "1.365626836024909e-11"
                ]
              ],
              "shape": {
                "columns": 6,
                "rows": 5
              }
            },
            "text/html": [
              "<div>\n",
              "<style scoped>\n",
              "    .dataframe tbody tr th:only-of-type {\n",
              "        vertical-align: middle;\n",
              "    }\n",
              "\n",
              "    .dataframe tbody tr th {\n",
              "        vertical-align: top;\n",
              "    }\n",
              "\n",
              "    .dataframe thead th {\n",
              "        text-align: right;\n",
              "    }\n",
              "</style>\n",
              "<table border=\"1\" class=\"dataframe\">\n",
              "  <thead>\n",
              "    <tr style=\"text-align: right;\">\n",
              "      <th></th>\n",
              "      <th>Heteroscedasticity (Breusch-Pagan)</th>\n",
              "      <th>Normality (Shapiro-Wilk)</th>\n",
              "      <th>Normality (Jarque-Bera)</th>\n",
              "      <th>Normality (D'Agostino)</th>\n",
              "      <th>Autocorrelation (Durbin-Watson)</th>\n",
              "      <th>Autocorrelation (Ljung-Box)</th>\n",
              "    </tr>\n",
              "  </thead>\n",
              "  <tbody>\n",
              "    <tr>\n",
              "      <th>sul</th>\n",
              "      <td>0.000466</td>\n",
              "      <td>0.684572</td>\n",
              "      <td>0.980825</td>\n",
              "      <td>0.963879</td>\n",
              "      <td>0.780821</td>\n",
              "      <td>2.938326e-29</td>\n",
              "    </tr>\n",
              "    <tr>\n",
              "      <th>sudeste</th>\n",
              "      <td>0.000353</td>\n",
              "      <td>0.611842</td>\n",
              "      <td>0.570775</td>\n",
              "      <td>0.441276</td>\n",
              "      <td>0.841119</td>\n",
              "      <td>3.012149e-21</td>\n",
              "    </tr>\n",
              "    <tr>\n",
              "      <th>norte</th>\n",
              "      <td>0.000011</td>\n",
              "      <td>0.110123</td>\n",
              "      <td>0.216028</td>\n",
              "      <td>0.171787</td>\n",
              "      <td>0.440951</td>\n",
              "      <td>3.852605e-67</td>\n",
              "    </tr>\n",
              "    <tr>\n",
              "      <th>nordeste</th>\n",
              "      <td>0.000026</td>\n",
              "      <td>0.024531</td>\n",
              "      <td>0.196049</td>\n",
              "      <td>0.179369</td>\n",
              "      <td>0.639058</td>\n",
              "      <td>2.885119e-58</td>\n",
              "    </tr>\n",
              "    <tr>\n",
              "      <th>centro_oeste</th>\n",
              "      <td>0.000036</td>\n",
              "      <td>0.385246</td>\n",
              "      <td>0.345265</td>\n",
              "      <td>0.276026</td>\n",
              "      <td>1.009153</td>\n",
              "      <td>1.365627e-11</td>\n",
              "    </tr>\n",
              "  </tbody>\n",
              "</table>\n",
              "</div>"
            ],
            "text/plain": [
              "              Heteroscedasticity (Breusch-Pagan)  Normality (Shapiro-Wilk)  \\\n",
              "sul                                     0.000466                  0.684572   \n",
              "sudeste                                 0.000353                  0.611842   \n",
              "norte                                   0.000011                  0.110123   \n",
              "nordeste                                0.000026                  0.024531   \n",
              "centro_oeste                            0.000036                  0.385246   \n",
              "\n",
              "              Normality (Jarque-Bera)  Normality (D'Agostino)  \\\n",
              "sul                          0.980825                0.963879   \n",
              "sudeste                      0.570775                0.441276   \n",
              "norte                        0.216028                0.171787   \n",
              "nordeste                     0.196049                0.179369   \n",
              "centro_oeste                 0.345265                0.276026   \n",
              "\n",
              "              Autocorrelation (Durbin-Watson)  Autocorrelation (Ljung-Box)  \n",
              "sul                                  0.780821                 2.938326e-29  \n",
              "sudeste                              0.841119                 3.012149e-21  \n",
              "norte                                0.440951                 3.852605e-67  \n",
              "nordeste                             0.639058                 2.885119e-58  \n",
              "centro_oeste                         1.009153                 1.365627e-11  "
            ]
          },
          "execution_count": 22,
          "metadata": {},
          "output_type": "execute_result"
        }
      ],
      "source": [
        "import pandas as pd\n",
        "import numpy as np\n",
        "from statsmodels.stats.diagnostic import het_breuschpagan, acorr_ljungbox\n",
        "from statsmodels.stats.stattools import durbin_watson\n",
        "from scipy.stats import shapiro, normaltest, jarque_bera\n",
        "import statsmodels.api as sm\n",
        "\n",
        "def analyze_time_series(df: pd.DataFrame, variable_col: str, date_col: str, value_col: str):\n",
        "    \"\"\"\n",
        "    Analyzes a melted DataFrame for heteroscedasticity, distribution, and autocorrelation.\n",
        "\n",
        "    Parameters:\n",
        "        df (pd.DataFrame): Melted DataFrame with columns for variable, date, and value.\n",
        "        variable_col (str): Column name for the variable identifier.\n",
        "        date_col (str): Column name for the date.\n",
        "        value_col (str): Column name for the value.\n",
        "\n",
        "    Returns:\n",
        "        dict: A dictionary with analysis results for each variable.\n",
        "    \"\"\"\n",
        "    results = {}\n",
        "\n",
        "    for variable in df[variable_col].unique():\n",
        "        # Filter data for the current variable\n",
        "        variable_data = df[df[variable_col] == variable].sort_values(by=date_col)\n",
        "        y = variable_data[value_col].values\n",
        "        x = np.arange(len(y))  # Time index as independent variable\n",
        "\n",
        "        # Add constant for regression\n",
        "        X = sm.add_constant(x)\n",
        "\n",
        "        # Fit OLS model\n",
        "        model = sm.OLS(y, X).fit()\n",
        "\n",
        "        # Heteroscedasticity tests\n",
        "        bp_test = het_breuschpagan(model.resid, X)\n",
        "        bp_pvalue = bp_test[1]\n",
        "\n",
        "        # Normality tests\n",
        "        shapiro_test = shapiro(model.resid)\n",
        "        shapiro_pvalue = shapiro_test.pvalue\n",
        "\n",
        "        jb_test = jarque_bera(model.resid)\n",
        "        jb_pvalue = jb_test[1]\n",
        "\n",
        "        dagostino_test = normaltest(model.resid)\n",
        "        dagostino_pvalue = dagostino_test.pvalue\n",
        "\n",
        "        # Autocorrelation tests\n",
        "        dw_stat = durbin_watson(model.resid)\n",
        "        ljungbox_test = acorr_ljungbox(model.resid, lags=[10], return_df=True)\n",
        "        ljungbox_pvalue = ljungbox_test['lb_pvalue'].iloc[0]\n",
        "\n",
        "        # Store results\n",
        "        results[variable] = {\n",
        "            \"Heteroscedasticity (Breusch-Pagan)\": bp_pvalue,\n",
        "            \"Normality (Shapiro-Wilk)\": shapiro_pvalue,\n",
        "            \"Normality (Jarque-Bera)\": jb_pvalue,\n",
        "            \"Normality (D'Agostino)\": dagostino_pvalue,\n",
        "            \"Autocorrelation (Durbin-Watson)\": dw_stat,\n",
        "            \"Autocorrelation (Ljung-Box)\": ljungbox_pvalue,\n",
        "        }\n",
        "\n",
        "    return results\n",
        "\n",
        "explorationresults = analyze_time_series(main_regrdf, GROUP_COL_NAME, DATE_NAME, DEPENDENT_VAR)\n",
        "explorationresultsDF = pd.DataFrame(explorationresults).T\n",
        "explorationresultsDF"
      ]
    },
    {
      "cell_type": "markdown",
      "metadata": {},
      "source": [
        "# Define GEE Processor"
      ]
    },
    {
      "cell_type": "code",
      "execution_count": 23,
      "metadata": {},
      "outputs": [],
      "source": [
        "class VariableProcessor:\n",
        "    def __init__(\n",
        "        self,\n",
        "        df,\n",
        "        processor_args,\n",
        "        processor,\n",
        "        evaluate = False,\n",
        "        test_size=0.2,\n",
        "        random_state=42,\n",
        "\n",
        "    ):\n",
        "        self.df = df\n",
        "        self.results = {}\n",
        "        self.processor_args = processor_args\n",
        "        self.processor = processor\n",
        "        self.evaluate = evaluate\n",
        "        self.evaluation_results = {}\n",
        "        self.test_size = test_size\n",
        "        self.random_state = random_state\n",
        "\n",
        "\n",
        "    def process_variables(self):\n",
        "        # Process each variable in the DataFrame\n",
        "        for variable in self.df[GROUP_COL_NAME].unique():\n",
        "            variable_data = self.df[self.df[GROUP_COL_NAME] == variable].sort_values(by=DATE_NAME)\n",
        "            variable_data = variable_data.reset_index(drop=True)\n",
        "\n",
        "            processor = self.processor(data=variable_data, **self.processor_args)\n",
        "            processor.fit()\n",
        "            \n",
        "            self.results[variable] = processor.results\n",
        "\n",
        "            # Split into train and test\n",
        "            if self.evaluate:\n",
        "                train_data, test_data = train_test_split(\n",
        "                    variable_data, test_size=self.test_size, random_state=self.random_state, shuffle=False\n",
        "                )\n",
        "\n",
        "                # Store results for train and test\n",
        "                train_predictions = processor.results.predict(train_data)\n",
        "                test_predictions = processor.results.predict(test_data)\n",
        "\n",
        "                # Calculate metrics\n",
        "                train_r2 = r2_score(train_data[DEPENDENT_VAR], train_predictions)\n",
        "                test_r2 = r2_score(test_data[DEPENDENT_VAR], test_predictions)\n",
        "                #n_train = len(train_data)\n",
        "                #n_test = len(test_data)\n",
        "                #p = len(processor.results.params) - 1\n",
        "                train_mse = mean_squared_error(train_data[DEPENDENT_VAR], train_predictions)\n",
        "                test_mse = mean_squared_error(test_data[DEPENDENT_VAR], test_predictions)\n",
        "\n",
        "                evaluation_value = train_r2 - test_r2\n",
        "                #evaluation_value_adj = train_r2_adj - test_r2_adj\n",
        "\n",
        "\n",
        "                self.evaluation_results[variable] = {\n",
        "                    #'Absolute Diff': absolute_difference,\n",
        "                    'TrainMSE - TestMSE': train_mse - test_mse,\n",
        "                    \"Evaluation Value (r_train² - r_test²)\": evaluation_value,\n",
        "                    \"Overfitting Risk\": \"High\" if evaluation_value > 0.1 else \"Low\",\n",
        "                    \"Train R2\": train_r2,\n",
        "                    \"Test R2\": test_r2,\n",
        "                    #\"Evaluation Value (r_train_adj² - r_test_adj²)\": evaluation_value_adj,\n",
        "                    #\"Overfitting Risk (adj_r2)\": \"High\" if evaluation_value_adj > 0.1 else \"Low\",\n",
        "                    #\"Adj Train R2\": train_r2_adj,\n",
        "                    #\"Adj Test R2\": test_r2_adj,\n",
        "                    \"Train MSE\": train_mse,\n",
        "                    \"Test MSE\": test_mse,\n",
        "                    \"Processor Results\": processor.results,\n",
        "                    'splitted_data': {'train_data': train_data, 'test_data': test_data},\n",
        "                }\n",
        "\n",
        "        self.evaluation_results = pd.DataFrame(self.evaluation_results).T\n",
        "\n",
        "        return self.results, self.evaluation_results"
      ]
    },
    {
      "cell_type": "code",
      "execution_count": 24,
      "metadata": {},
      "outputs": [],
      "source": [
        "class GEEProcessor:\n",
        "    def __init__(self, data, formula, family=None, cov_struct=None, groups=None):\n",
        "        self.data = data\n",
        "        self.family = family\n",
        "        self.cov_struct = cov_struct\n",
        "        self.formula = formula\n",
        "        self.groups = groups\n",
        "        \n",
        "        self.results = None\n",
        "\n",
        "\n",
        "\n",
        "    def fit(self, **kwargs):\n",
        "        \n",
        "        # Fit the GEE model using the specified formula and data\n",
        "        #model = GEE(endog=self.Y, exog=self.X, family=self.family, groups = self.groups, cov_struct=self.cov_struct)\n",
        "        model = GEE.from_formula(formula = self.formula,\n",
        "                                 data=self.data,\n",
        "                                 family=self.family,\n",
        "                                 groups=len(self.data[GROUP_COL_NAME]),\n",
        "                                 cov_struct=self.cov_struct,\n",
        "                                 offset = self.data['offset'])\n",
        "        self.results = model.fit(**kwargs)  # Fit the model and store the results"
      ]
    },
    {
      "cell_type": "code",
      "execution_count": 27,
      "metadata": {},
      "outputs": [],
      "source": [
        "\n",
        "variable_processor = VariableProcessor(\n",
        "    df=ControlRegressionDF,\n",
        "    processor_args=GEE_PROCESSOR_ARGS,\n",
        "    processor=GEEProcessor,\n",
        "    evaluate=False,\n",
        ")\n",
        "\n",
        "variable_processor.process_variables()\n",
        "results = variable_processor.results\n",
        "\n",
        "\n",
        "\n"
      ]
    },
    {
      "cell_type": "code",
      "execution_count": 28,
      "metadata": {},
      "outputs": [],
      "source": [
        "for var, result in results.items():\n",
        "    print(var)"
      ]
    },
    {
      "cell_type": "code",
      "execution_count": 26,
      "metadata": {},
      "outputs": [
        {
          "ename": "ValueError",
          "evalue": "'groups' and 'endog' should have the same size",
          "output_type": "error",
          "traceback": [
            "\u001b[1;31m---------------------------------------------------------------------------\u001b[0m",
            "\u001b[1;31mValueError\u001b[0m                                Traceback (most recent call last)",
            "Cell \u001b[1;32mIn[26], line 2\u001b[0m\n\u001b[0;32m      1\u001b[0m processor \u001b[38;5;241m=\u001b[39m GEEProcessor(data \u001b[38;5;241m=\u001b[39m RegressionDF, \u001b[38;5;241m*\u001b[39m\u001b[38;5;241m*\u001b[39mGEE_PROCESSOR_ARGS)\n\u001b[1;32m----> 2\u001b[0m \u001b[43mprocessor\u001b[49m\u001b[38;5;241;43m.\u001b[39;49m\u001b[43mfit\u001b[49m\u001b[43m(\u001b[49m\u001b[43mmaxiter\u001b[49m\u001b[38;5;241;43m=\u001b[39;49m\u001b[38;5;241;43m100\u001b[39;49m\u001b[43m)\u001b[49m\n\u001b[0;32m      3\u001b[0m result \u001b[38;5;241m=\u001b[39m processor\u001b[38;5;241m.\u001b[39mresults\n\u001b[0;32m      4\u001b[0m \u001b[38;5;28mprint\u001b[39m(result\u001b[38;5;241m.\u001b[39msummary())\n",
            "Cell \u001b[1;32mIn[24], line 17\u001b[0m, in \u001b[0;36mGEEProcessor.fit\u001b[1;34m(self, **kwargs)\u001b[0m\n\u001b[0;32m     13\u001b[0m \u001b[38;5;28;01mdef\u001b[39;00m \u001b[38;5;21mfit\u001b[39m(\u001b[38;5;28mself\u001b[39m, \u001b[38;5;241m*\u001b[39m\u001b[38;5;241m*\u001b[39mkwargs):\n\u001b[0;32m     14\u001b[0m     \n\u001b[0;32m     15\u001b[0m     \u001b[38;5;66;03m# Fit the GEE model using the specified formula and data\u001b[39;00m\n\u001b[0;32m     16\u001b[0m     \u001b[38;5;66;03m#model = GEE(endog=self.Y, exog=self.X, family=self.family, groups = self.groups, cov_struct=self.cov_struct)\u001b[39;00m\n\u001b[1;32m---> 17\u001b[0m     model \u001b[38;5;241m=\u001b[39m \u001b[43mGEE\u001b[49m\u001b[38;5;241;43m.\u001b[39;49m\u001b[43mfrom_formula\u001b[49m\u001b[43m(\u001b[49m\u001b[43mformula\u001b[49m\u001b[43m \u001b[49m\u001b[38;5;241;43m=\u001b[39;49m\u001b[43m \u001b[49m\u001b[38;5;28;43mself\u001b[39;49m\u001b[38;5;241;43m.\u001b[39;49m\u001b[43mformula\u001b[49m\u001b[43m,\u001b[49m\n\u001b[0;32m     18\u001b[0m \u001b[43m                             \u001b[49m\u001b[43mdata\u001b[49m\u001b[38;5;241;43m=\u001b[39;49m\u001b[38;5;28;43mself\u001b[39;49m\u001b[38;5;241;43m.\u001b[39;49m\u001b[43mdata\u001b[49m\u001b[43m,\u001b[49m\n\u001b[0;32m     19\u001b[0m \u001b[43m                             \u001b[49m\u001b[43mfamily\u001b[49m\u001b[38;5;241;43m=\u001b[39;49m\u001b[38;5;28;43mself\u001b[39;49m\u001b[38;5;241;43m.\u001b[39;49m\u001b[43mfamily\u001b[49m\u001b[43m,\u001b[49m\n\u001b[0;32m     20\u001b[0m \u001b[43m                             \u001b[49m\u001b[43mgroups\u001b[49m\u001b[38;5;241;43m=\u001b[39;49m\u001b[38;5;28;43mlen\u001b[39;49m\u001b[43m(\u001b[49m\u001b[38;5;28;43mself\u001b[39;49m\u001b[38;5;241;43m.\u001b[39;49m\u001b[43mdata\u001b[49m\u001b[43m[\u001b[49m\u001b[43mGROUP_COL_NAME\u001b[49m\u001b[43m]\u001b[49m\u001b[43m)\u001b[49m\u001b[43m,\u001b[49m\n\u001b[0;32m     21\u001b[0m \u001b[43m                             \u001b[49m\u001b[43mcov_struct\u001b[49m\u001b[38;5;241;43m=\u001b[39;49m\u001b[38;5;28;43mself\u001b[39;49m\u001b[38;5;241;43m.\u001b[39;49m\u001b[43mcov_struct\u001b[49m\u001b[43m,\u001b[49m\n\u001b[0;32m     22\u001b[0m \u001b[43m                             \u001b[49m\u001b[43moffset\u001b[49m\u001b[43m \u001b[49m\u001b[38;5;241;43m=\u001b[39;49m\u001b[43m \u001b[49m\u001b[38;5;28;43mself\u001b[39;49m\u001b[38;5;241;43m.\u001b[39;49m\u001b[43mdata\u001b[49m\u001b[43m[\u001b[49m\u001b[38;5;124;43m'\u001b[39;49m\u001b[38;5;124;43moffset\u001b[39;49m\u001b[38;5;124;43m'\u001b[39;49m\u001b[43m]\u001b[49m\u001b[43m)\u001b[49m\n\u001b[0;32m     23\u001b[0m     \u001b[38;5;28mself\u001b[39m\u001b[38;5;241m.\u001b[39mresults \u001b[38;5;241m=\u001b[39m model\u001b[38;5;241m.\u001b[39mfit(\u001b[38;5;241m*\u001b[39m\u001b[38;5;241m*\u001b[39mkwargs)\n",
            "File \u001b[1;32mc:\\Users\\Lucas\\AppData\\Local\\Programs\\Python\\Python312\\Lib\\site-packages\\statsmodels\\genmod\\generalized_estimating_equations.py:759\u001b[0m, in \u001b[0;36mGEE.from_formula\u001b[1;34m(cls, formula, groups, data, subset, time, offset, exposure, *args, **kwargs)\u001b[0m\n\u001b[0;32m    756\u001b[0m     family \u001b[38;5;241m=\u001b[39m kwargs[\u001b[38;5;124m\"\u001b[39m\u001b[38;5;124mfamily\u001b[39m\u001b[38;5;124m\"\u001b[39m]\n\u001b[0;32m    757\u001b[0m     \u001b[38;5;28;01mdel\u001b[39;00m kwargs[\u001b[38;5;124m\"\u001b[39m\u001b[38;5;124mfamily\u001b[39m\u001b[38;5;124m\"\u001b[39m]\n\u001b[1;32m--> 759\u001b[0m model \u001b[38;5;241m=\u001b[39m \u001b[38;5;28;43msuper\u001b[39;49m\u001b[43m(\u001b[49m\u001b[43m)\u001b[49m\u001b[38;5;241;43m.\u001b[39;49m\u001b[43mfrom_formula\u001b[49m\u001b[43m(\u001b[49m\u001b[43mformula\u001b[49m\u001b[43m,\u001b[49m\u001b[43m \u001b[49m\u001b[43mdata\u001b[49m\u001b[38;5;241;43m=\u001b[39;49m\u001b[43mdata\u001b[49m\u001b[43m,\u001b[49m\u001b[43m \u001b[49m\u001b[43msubset\u001b[49m\u001b[38;5;241;43m=\u001b[39;49m\u001b[43msubset\u001b[49m\u001b[43m,\u001b[49m\n\u001b[0;32m    760\u001b[0m \u001b[43m                             \u001b[49m\u001b[43mgroups\u001b[49m\u001b[38;5;241;43m=\u001b[39;49m\u001b[43mgroups\u001b[49m\u001b[43m,\u001b[49m\u001b[43m \u001b[49m\u001b[43mtime\u001b[49m\u001b[38;5;241;43m=\u001b[39;49m\u001b[43mtime\u001b[49m\u001b[43m,\u001b[49m\n\u001b[0;32m    761\u001b[0m \u001b[43m                             \u001b[49m\u001b[43moffset\u001b[49m\u001b[38;5;241;43m=\u001b[39;49m\u001b[43moffset\u001b[49m\u001b[43m,\u001b[49m\n\u001b[0;32m    762\u001b[0m \u001b[43m                             \u001b[49m\u001b[43mexposure\u001b[49m\u001b[38;5;241;43m=\u001b[39;49m\u001b[43mexposure\u001b[49m\u001b[43m,\u001b[49m\n\u001b[0;32m    763\u001b[0m \u001b[43m                             \u001b[49m\u001b[43mfamily\u001b[49m\u001b[38;5;241;43m=\u001b[39;49m\u001b[43mfamily\u001b[49m\u001b[43m,\u001b[49m\n\u001b[0;32m    764\u001b[0m \u001b[43m                             \u001b[49m\u001b[38;5;241;43m*\u001b[39;49m\u001b[43margs\u001b[49m\u001b[43m,\u001b[49m\u001b[43m \u001b[49m\u001b[38;5;241;43m*\u001b[39;49m\u001b[38;5;241;43m*\u001b[39;49m\u001b[43mkwargs\u001b[49m\u001b[43m)\u001b[49m\n\u001b[0;32m    766\u001b[0m \u001b[38;5;28;01mif\u001b[39;00m dep_data_names \u001b[38;5;129;01mis\u001b[39;00m \u001b[38;5;129;01mnot\u001b[39;00m \u001b[38;5;28;01mNone\u001b[39;00m:\n\u001b[0;32m    767\u001b[0m     model\u001b[38;5;241m.\u001b[39m_dep_data_names \u001b[38;5;241m=\u001b[39m dep_data_names\n",
            "File \u001b[1;32mc:\\Users\\Lucas\\AppData\\Local\\Programs\\Python\\Python312\\Lib\\site-packages\\statsmodels\\base\\model.py:229\u001b[0m, in \u001b[0;36mModel.from_formula\u001b[1;34m(cls, formula, data, subset, drop_cols, *args, **kwargs)\u001b[0m\n\u001b[0;32m    223\u001b[0m         design_info \u001b[38;5;241m=\u001b[39m design_info\u001b[38;5;241m.\u001b[39msubset(cols)\n\u001b[0;32m    225\u001b[0m kwargs\u001b[38;5;241m.\u001b[39mupdate({\u001b[38;5;124m'\u001b[39m\u001b[38;5;124mmissing_idx\u001b[39m\u001b[38;5;124m'\u001b[39m: missing_idx,\n\u001b[0;32m    226\u001b[0m                \u001b[38;5;124m'\u001b[39m\u001b[38;5;124mmissing\u001b[39m\u001b[38;5;124m'\u001b[39m: missing,\n\u001b[0;32m    227\u001b[0m                \u001b[38;5;124m'\u001b[39m\u001b[38;5;124mformula\u001b[39m\u001b[38;5;124m'\u001b[39m: formula,  \u001b[38;5;66;03m# attach formula for unpckling\u001b[39;00m\n\u001b[0;32m    228\u001b[0m                \u001b[38;5;124m'\u001b[39m\u001b[38;5;124mdesign_info\u001b[39m\u001b[38;5;124m'\u001b[39m: design_info})\n\u001b[1;32m--> 229\u001b[0m mod \u001b[38;5;241m=\u001b[39m \u001b[38;5;28;43mcls\u001b[39;49m\u001b[43m(\u001b[49m\u001b[43mendog\u001b[49m\u001b[43m,\u001b[49m\u001b[43m \u001b[49m\u001b[43mexog\u001b[49m\u001b[43m,\u001b[49m\u001b[43m \u001b[49m\u001b[38;5;241;43m*\u001b[39;49m\u001b[43margs\u001b[49m\u001b[43m,\u001b[49m\u001b[43m \u001b[49m\u001b[38;5;241;43m*\u001b[39;49m\u001b[38;5;241;43m*\u001b[39;49m\u001b[43mkwargs\u001b[49m\u001b[43m)\u001b[49m\n\u001b[0;32m    230\u001b[0m mod\u001b[38;5;241m.\u001b[39mformula \u001b[38;5;241m=\u001b[39m formula\n\u001b[0;32m    231\u001b[0m \u001b[38;5;66;03m# since we got a dataframe, attach the original\u001b[39;00m\n",
            "File \u001b[1;32mc:\\Users\\Lucas\\AppData\\Local\\Programs\\Python\\Python312\\Lib\\site-packages\\statsmodels\\genmod\\generalized_estimating_equations.py:543\u001b[0m, in \u001b[0;36mGEE.__init__\u001b[1;34m(self, endog, exog, groups, time, family, cov_struct, missing, offset, exposure, dep_data, constraint, update_dep, weights, **kwargs)\u001b[0m\n\u001b[0;32m    532\u001b[0m \u001b[38;5;66;03m# Pass groups, time, offset, and dep_data so they are\u001b[39;00m\n\u001b[0;32m    533\u001b[0m \u001b[38;5;66;03m# processed for missing data along with endog and exog.\u001b[39;00m\n\u001b[0;32m    534\u001b[0m \u001b[38;5;66;03m# Calling super creates self.exog, self.endog, etc. as\u001b[39;00m\n\u001b[0;32m    535\u001b[0m \u001b[38;5;66;03m# ndarrays and the original exog, endog, etc. are\u001b[39;00m\n\u001b[0;32m    536\u001b[0m \u001b[38;5;66;03m# self.data.endog, etc.\u001b[39;00m\n\u001b[0;32m    537\u001b[0m \u001b[38;5;28msuper\u001b[39m()\u001b[38;5;241m.\u001b[39m\u001b[38;5;21m__init__\u001b[39m(endog, exog, groups\u001b[38;5;241m=\u001b[39mgroups,\n\u001b[0;32m    538\u001b[0m                  time\u001b[38;5;241m=\u001b[39mtime, offset\u001b[38;5;241m=\u001b[39moffset,\n\u001b[0;32m    539\u001b[0m                  exposure\u001b[38;5;241m=\u001b[39mexposure, weights\u001b[38;5;241m=\u001b[39mweights,\n\u001b[0;32m    540\u001b[0m                  dep_data\u001b[38;5;241m=\u001b[39mdep_data, missing\u001b[38;5;241m=\u001b[39mmissing,\n\u001b[0;32m    541\u001b[0m                  family\u001b[38;5;241m=\u001b[39mfamily, \u001b[38;5;241m*\u001b[39m\u001b[38;5;241m*\u001b[39mkwargs)\n\u001b[1;32m--> 543\u001b[0m \u001b[43m_check_args\u001b[49m\u001b[43m(\u001b[49m\n\u001b[0;32m    544\u001b[0m \u001b[43m    \u001b[49m\u001b[38;5;28;43mself\u001b[39;49m\u001b[38;5;241;43m.\u001b[39;49m\u001b[43mendog\u001b[49m\u001b[43m,\u001b[49m\n\u001b[0;32m    545\u001b[0m \u001b[43m    \u001b[49m\u001b[38;5;28;43mself\u001b[39;49m\u001b[38;5;241;43m.\u001b[39;49m\u001b[43mexog\u001b[49m\u001b[43m,\u001b[49m\n\u001b[0;32m    546\u001b[0m \u001b[43m    \u001b[49m\u001b[38;5;28;43mself\u001b[39;49m\u001b[38;5;241;43m.\u001b[39;49m\u001b[43mgroups\u001b[49m\u001b[43m,\u001b[49m\n\u001b[0;32m    547\u001b[0m \u001b[43m    \u001b[49m\u001b[38;5;28;43mself\u001b[39;49m\u001b[38;5;241;43m.\u001b[39;49m\u001b[43mtime\u001b[49m\u001b[43m,\u001b[49m\n\u001b[0;32m    548\u001b[0m \u001b[43m    \u001b[49m\u001b[38;5;28;43mgetattr\u001b[39;49m\u001b[43m(\u001b[49m\u001b[38;5;28;43mself\u001b[39;49m\u001b[43m,\u001b[49m\u001b[43m \u001b[49m\u001b[38;5;124;43m\"\u001b[39;49m\u001b[38;5;124;43moffset\u001b[39;49m\u001b[38;5;124;43m\"\u001b[39;49m\u001b[43m,\u001b[49m\u001b[43m \u001b[49m\u001b[38;5;28;43;01mNone\u001b[39;49;00m\u001b[43m)\u001b[49m\u001b[43m,\u001b[49m\n\u001b[0;32m    549\u001b[0m \u001b[43m    \u001b[49m\u001b[38;5;28;43mgetattr\u001b[39;49m\u001b[43m(\u001b[49m\u001b[38;5;28;43mself\u001b[39;49m\u001b[43m,\u001b[49m\u001b[43m \u001b[49m\u001b[38;5;124;43m\"\u001b[39;49m\u001b[38;5;124;43mexposure\u001b[39;49m\u001b[38;5;124;43m\"\u001b[39;49m\u001b[43m,\u001b[49m\u001b[43m \u001b[49m\u001b[38;5;28;43;01mNone\u001b[39;49;00m\u001b[43m)\u001b[49m\u001b[43m,\u001b[49m\n\u001b[0;32m    550\u001b[0m \u001b[43m\u001b[49m\u001b[43m)\u001b[49m\n\u001b[0;32m    552\u001b[0m \u001b[38;5;28mself\u001b[39m\u001b[38;5;241m.\u001b[39m_init_keys\u001b[38;5;241m.\u001b[39mextend([\u001b[38;5;124m\"\u001b[39m\u001b[38;5;124mupdate_dep\u001b[39m\u001b[38;5;124m\"\u001b[39m, \u001b[38;5;124m\"\u001b[39m\u001b[38;5;124mconstraint\u001b[39m\u001b[38;5;124m\"\u001b[39m, \u001b[38;5;124m\"\u001b[39m\u001b[38;5;124mfamily\u001b[39m\u001b[38;5;124m\"\u001b[39m,\n\u001b[0;32m    553\u001b[0m                         \u001b[38;5;124m\"\u001b[39m\u001b[38;5;124mcov_struct\u001b[39m\u001b[38;5;124m\"\u001b[39m])\n\u001b[0;32m    554\u001b[0m \u001b[38;5;66;03m# remove keys added by super that are not supported\u001b[39;00m\n",
            "File \u001b[1;32mc:\\Users\\Lucas\\AppData\\Local\\Programs\\Python\\Python312\\Lib\\site-packages\\statsmodels\\genmod\\generalized_estimating_equations.py:470\u001b[0m, in \u001b[0;36m_check_args\u001b[1;34m(endog, exog, groups, time, offset, exposure)\u001b[0m\n\u001b[0;32m    466\u001b[0m     \u001b[38;5;28;01mraise\u001b[39;00m \u001b[38;5;167;01mValueError\u001b[39;00m(\u001b[38;5;124m\"\u001b[39m\u001b[38;5;124mLeading dimension of \u001b[39m\u001b[38;5;124m'\u001b[39m\u001b[38;5;124mexog\u001b[39m\u001b[38;5;124m'\u001b[39m\u001b[38;5;124m should match \u001b[39m\u001b[38;5;124m\"\u001b[39m\n\u001b[0;32m    467\u001b[0m                      \u001b[38;5;124m\"\u001b[39m\u001b[38;5;124mlength of \u001b[39m\u001b[38;5;124m'\u001b[39m\u001b[38;5;124mendog\u001b[39m\u001b[38;5;124m'\u001b[39m\u001b[38;5;124m\"\u001b[39m)\n\u001b[0;32m    469\u001b[0m \u001b[38;5;28;01mif\u001b[39;00m groups\u001b[38;5;241m.\u001b[39msize \u001b[38;5;241m!=\u001b[39m endog\u001b[38;5;241m.\u001b[39msize:\n\u001b[1;32m--> 470\u001b[0m     \u001b[38;5;28;01mraise\u001b[39;00m \u001b[38;5;167;01mValueError\u001b[39;00m(\u001b[38;5;124m\"\u001b[39m\u001b[38;5;124m'\u001b[39m\u001b[38;5;124mgroups\u001b[39m\u001b[38;5;124m'\u001b[39m\u001b[38;5;124m and \u001b[39m\u001b[38;5;124m'\u001b[39m\u001b[38;5;124mendog\u001b[39m\u001b[38;5;124m'\u001b[39m\u001b[38;5;124m should have the same size\u001b[39m\u001b[38;5;124m\"\u001b[39m)\n\u001b[0;32m    472\u001b[0m \u001b[38;5;28;01mif\u001b[39;00m time \u001b[38;5;129;01mis\u001b[39;00m \u001b[38;5;129;01mnot\u001b[39;00m \u001b[38;5;28;01mNone\u001b[39;00m \u001b[38;5;129;01mand\u001b[39;00m (time\u001b[38;5;241m.\u001b[39msize \u001b[38;5;241m!=\u001b[39m endog\u001b[38;5;241m.\u001b[39msize):\n\u001b[0;32m    473\u001b[0m     \u001b[38;5;28;01mraise\u001b[39;00m \u001b[38;5;167;01mValueError\u001b[39;00m(\u001b[38;5;124m\"\u001b[39m\u001b[38;5;124m'\u001b[39m\u001b[38;5;124mtime\u001b[39m\u001b[38;5;124m'\u001b[39m\u001b[38;5;124m and \u001b[39m\u001b[38;5;124m'\u001b[39m\u001b[38;5;124mendog\u001b[39m\u001b[38;5;124m'\u001b[39m\u001b[38;5;124m should have the same size\u001b[39m\u001b[38;5;124m\"\u001b[39m)\n",
            "\u001b[1;31mValueError\u001b[0m: 'groups' and 'endog' should have the same size"
          ]
        }
      ],
      "source": [
        "processor = GEEProcessor(data = RegressionDF, **GEE_PROCESSOR_ARGS)\n",
        "processor.fit(maxiter=100)\n",
        "result = processor.results\n",
        "print(result.summary())"
      ]
    },
    {
      "cell_type": "code",
      "execution_count": null,
      "metadata": {},
      "outputs": [
        {
          "data": {
            "text/plain": [
              "'\\nfor variable in RegressionDF[GROUP_COL_NAME].unique():\\n    variable_data = RegressionDF[RegressionDF[GROUP_COL_NAME] == variable].sort_values(by=DATE_NAME)\\n    variable_data = variable_data.reset_index(drop=True)\\n    processor = GEEProcessor(data = variable_data, **GEE_PROCESSOR_ARGS)\\n    processor.fit(maxiter=100)\\n    result = processor.results\\n    print(result.summary())\\n'"
            ]
          },
          "execution_count": 27,
          "metadata": {},
          "output_type": "execute_result"
        }
      ],
      "source": [
        "'''\n",
        "for variable in RegressionDF[GROUP_COL_NAME].unique():\n",
        "    variable_data = RegressionDF[RegressionDF[GROUP_COL_NAME] == variable].sort_values(by=DATE_NAME)\n",
        "    variable_data = variable_data.reset_index(drop=True)\n",
        "    processor = GEEProcessor(data = variable_data, **GEE_PROCESSOR_ARGS)\n",
        "    processor.fit(maxiter=100)\n",
        "    result = processor.results\n",
        "    print(result.summary())\n",
        "'''"
      ]
    },
    {
      "cell_type": "code",
      "execution_count": null,
      "metadata": {},
      "outputs": [
        {
          "data": {
            "text/plain": [
              "<seaborn.axisgrid.FacetGrid at 0x16f5c79a2a0>"
            ]
          },
          "execution_count": 28,
          "metadata": {},
          "output_type": "execute_result"
        },
        {
          "data": {
            "image/png": "[encoded data removed]",
            "text/plain": [
              "<Figure size 1579.5x400 with 3 Axes>"
            ]
          },
          "metadata": {},
          "output_type": "display_data"
        }
      ],
      "source": [
        "import seaborn as sns\n",
        "df = RegressionDF.copy()\n",
        "# Criar uma coluna combinando período e fase da pandemia\n",
        "df[\"fase\"] = np.where(\n",
        "    df[\"periodo\"] < 24, \"Pré-Pandemia\",\n",
        "    np.where(df[\"periodo\"] < 36, \"Pandemia\", \"Pós-Pandemia\")\n",
        ")\n",
        "\n",
        "# Plotar tendências\n",
        "sns.lmplot(\n",
        "    data=df,\n",
        "    x=\"periodo\",\n",
        "    y=\"valores\",\n",
        "    hue=\"regiao\",\n",
        "    col=\"fase\",  # Separa por fase\n",
        "    lowess=True,  # Suaviza as curvas\n",
        "    height=4,\n",
        "    aspect=1.2\n",
        ")"
      ]
    },
    {
      "cell_type": "code",
      "execution_count": null,
      "metadata": {},
      "outputs": [
        {
          "ename": "NotImplementedError",
          "evalue": "offset and exposure not supported",
          "output_type": "error",
          "traceback": [
            "\u001b[1;31m---------------------------------------------------------------------------\u001b[0m",
            "\u001b[1;31mNotImplementedError\u001b[0m                       Traceback (most recent call last)",
            "Cell \u001b[1;32mIn[29], line 2\u001b[0m\n\u001b[0;32m      1\u001b[0m \u001b[38;5;66;03m# Efeito médio da pandemia em cada região\u001b[39;00m\n\u001b[1;32m----> 2\u001b[0m marginal_effects \u001b[38;5;241m=\u001b[39m \u001b[43mresult\u001b[49m\u001b[38;5;241;43m.\u001b[39;49m\u001b[43mget_margeff\u001b[49m\u001b[43m(\u001b[49m\u001b[43mat\u001b[49m\u001b[38;5;241;43m=\u001b[39;49m\u001b[38;5;124;43m\"\u001b[39;49m\u001b[38;5;124;43moverall\u001b[39;49m\u001b[38;5;124;43m\"\u001b[39;49m\u001b[43m,\u001b[49m\u001b[43m \u001b[49m\u001b[43mdummy\u001b[49m\u001b[38;5;241;43m=\u001b[39;49m\u001b[38;5;28;43;01mTrue\u001b[39;49;00m\u001b[43m)\u001b[49m\n\u001b[0;32m      3\u001b[0m \u001b[38;5;28mprint\u001b[39m(marginal_effects\u001b[38;5;241m.\u001b[39msummary())\n",
            "File \u001b[1;32mc:\\Users\\Lucas\\AppData\\Local\\Programs\\Python\\Python312\\Lib\\site-packages\\statsmodels\\genmod\\generalized_estimating_equations.py:2183\u001b[0m, in \u001b[0;36mGEEResults.get_margeff\u001b[1;34m(self, at, method, atexog, dummy, count)\u001b[0m\n\u001b[0;32m   2179\u001b[0m \u001b[38;5;28;01mif\u001b[39;00m \u001b[38;5;28mself\u001b[39m\u001b[38;5;241m.\u001b[39mmodel\u001b[38;5;241m.\u001b[39mconstraint \u001b[38;5;129;01mis\u001b[39;00m \u001b[38;5;129;01mnot\u001b[39;00m \u001b[38;5;28;01mNone\u001b[39;00m:\n\u001b[0;32m   2180\u001b[0m     warnings\u001b[38;5;241m.\u001b[39mwarn(\u001b[38;5;124m\"\u001b[39m\u001b[38;5;124mmarginal effects ignore constraints\u001b[39m\u001b[38;5;124m\"\u001b[39m,\n\u001b[0;32m   2181\u001b[0m                   ValueWarning)\n\u001b[1;32m-> 2183\u001b[0m \u001b[38;5;28;01mreturn\u001b[39;00m \u001b[43mGEEMargins\u001b[49m\u001b[43m(\u001b[49m\u001b[38;5;28;43mself\u001b[39;49m\u001b[43m,\u001b[49m\u001b[43m \u001b[49m\u001b[43m(\u001b[49m\u001b[43mat\u001b[49m\u001b[43m,\u001b[49m\u001b[43m \u001b[49m\u001b[43mmethod\u001b[49m\u001b[43m,\u001b[49m\u001b[43m \u001b[49m\u001b[43matexog\u001b[49m\u001b[43m,\u001b[49m\u001b[43m \u001b[49m\u001b[43mdummy\u001b[49m\u001b[43m,\u001b[49m\u001b[43m \u001b[49m\u001b[43mcount\u001b[49m\u001b[43m)\u001b[49m\u001b[43m)\u001b[49m\n",
            "File \u001b[1;32mc:\\Users\\Lucas\\AppData\\Local\\Programs\\Python\\Python312\\Lib\\site-packages\\statsmodels\\genmod\\generalized_estimating_equations.py:3027\u001b[0m, in \u001b[0;36mGEEMargins.__init__\u001b[1;34m(self, results, args, kwargs)\u001b[0m\n\u001b[0;32m   3025\u001b[0m \u001b[38;5;28mself\u001b[39m\u001b[38;5;241m.\u001b[39m_cache \u001b[38;5;241m=\u001b[39m {}\n\u001b[0;32m   3026\u001b[0m \u001b[38;5;28mself\u001b[39m\u001b[38;5;241m.\u001b[39mresults \u001b[38;5;241m=\u001b[39m results\n\u001b[1;32m-> 3027\u001b[0m \u001b[38;5;28;43mself\u001b[39;49m\u001b[38;5;241;43m.\u001b[39;49m\u001b[43mget_margeff\u001b[49m\u001b[43m(\u001b[49m\u001b[38;5;241;43m*\u001b[39;49m\u001b[43margs\u001b[49m\u001b[43m,\u001b[49m\u001b[43m \u001b[49m\u001b[38;5;241;43m*\u001b[39;49m\u001b[38;5;241;43m*\u001b[39;49m\u001b[43mkwargs\u001b[49m\u001b[43m)\u001b[49m\n",
            "File \u001b[1;32mc:\\Users\\Lucas\\AppData\\Local\\Programs\\Python\\Python312\\Lib\\site-packages\\statsmodels\\genmod\\generalized_estimating_equations.py:3215\u001b[0m, in \u001b[0;36mGEEMargins.get_margeff\u001b[1;34m(self, at, method, atexog, dummy, count)\u001b[0m\n\u001b[0;32m   3212\u001b[0m     \u001b[38;5;28mself\u001b[39m\u001b[38;5;241m.\u001b[39mmargeff \u001b[38;5;241m=\u001b[39m effects[:, effects_idx]\n\u001b[0;32m   3213\u001b[0m \u001b[38;5;28;01melse\u001b[39;00m:\n\u001b[0;32m   3214\u001b[0m     \u001b[38;5;66;03m# Set standard error of the marginal effects by Delta method.\u001b[39;00m\n\u001b[1;32m-> 3215\u001b[0m     margeff_cov, margeff_se \u001b[38;5;241m=\u001b[39m \u001b[43mmargeff_cov_with_se\u001b[49m\u001b[43m(\u001b[49m\n\u001b[0;32m   3216\u001b[0m \u001b[43m        \u001b[49m\u001b[43mmodel\u001b[49m\u001b[43m,\u001b[49m\u001b[43m \u001b[49m\u001b[43mparams\u001b[49m\u001b[43m,\u001b[49m\u001b[43m \u001b[49m\u001b[43mexog\u001b[49m\u001b[43m,\u001b[49m\u001b[43m \u001b[49m\u001b[43mresults\u001b[49m\u001b[38;5;241;43m.\u001b[39;49m\u001b[43mcov_params\u001b[49m\u001b[43m(\u001b[49m\u001b[43m)\u001b[49m\u001b[43m,\u001b[49m\u001b[43m \u001b[49m\u001b[43mat\u001b[49m\u001b[43m,\u001b[49m\n\u001b[0;32m   3217\u001b[0m \u001b[43m        \u001b[49m\u001b[43mmodel\u001b[49m\u001b[38;5;241;43m.\u001b[39;49m\u001b[43m_derivative_exog\u001b[49m\u001b[43m,\u001b[49m\u001b[43m \u001b[49m\u001b[43mdummy_idx\u001b[49m\u001b[43m,\u001b[49m\u001b[43m \u001b[49m\u001b[43mcount_idx\u001b[49m\u001b[43m,\u001b[49m\n\u001b[0;32m   3218\u001b[0m \u001b[43m        \u001b[49m\u001b[43mmethod\u001b[49m\u001b[43m,\u001b[49m\u001b[43m \u001b[49m\u001b[38;5;241;43m1\u001b[39;49m\u001b[43m)\u001b[49m\n\u001b[0;32m   3220\u001b[0m     \u001b[38;5;66;03m# do not care about at constant\u001b[39;00m\n\u001b[0;32m   3221\u001b[0m     \u001b[38;5;28mself\u001b[39m\u001b[38;5;241m.\u001b[39mmargeff_cov \u001b[38;5;241m=\u001b[39m margeff_cov[effects_idx][:, effects_idx]\n",
            "File \u001b[1;32mc:\\Users\\Lucas\\AppData\\Local\\Programs\\Python\\Python312\\Lib\\site-packages\\statsmodels\\discrete\\discrete_margins.py:340\u001b[0m, in \u001b[0;36mmargeff_cov_with_se\u001b[1;34m(model, params, exog, cov_params, at, derivative, dummy_ind, count_ind, method, J)\u001b[0m\n\u001b[0;32m    332\u001b[0m \u001b[38;5;28;01mdef\u001b[39;00m \u001b[38;5;21mmargeff_cov_with_se\u001b[39m(model, params, exog, cov_params, at, derivative,\n\u001b[0;32m    333\u001b[0m                         dummy_ind, count_ind, method, J):\n\u001b[0;32m    334\u001b[0m \u001b[38;5;250m    \u001b[39m\u001b[38;5;124;03m\"\"\"\u001b[39;00m\n\u001b[0;32m    335\u001b[0m \u001b[38;5;124;03m    See margeff_cov_params.\u001b[39;00m\n\u001b[0;32m    336\u001b[0m \n\u001b[0;32m    337\u001b[0m \u001b[38;5;124;03m    Same function but returns both the covariance of the marginal effects\u001b[39;00m\n\u001b[0;32m    338\u001b[0m \u001b[38;5;124;03m    and their standard errors.\u001b[39;00m\n\u001b[0;32m    339\u001b[0m \u001b[38;5;124;03m    \"\"\"\u001b[39;00m\n\u001b[1;32m--> 340\u001b[0m     cov_me \u001b[38;5;241m=\u001b[39m \u001b[43mmargeff_cov_params\u001b[49m\u001b[43m(\u001b[49m\u001b[43mmodel\u001b[49m\u001b[43m,\u001b[49m\u001b[43m \u001b[49m\u001b[43mparams\u001b[49m\u001b[43m,\u001b[49m\u001b[43m \u001b[49m\u001b[43mexog\u001b[49m\u001b[43m,\u001b[49m\u001b[43m \u001b[49m\u001b[43mcov_params\u001b[49m\u001b[43m,\u001b[49m\u001b[43m \u001b[49m\u001b[43mat\u001b[49m\u001b[43m,\u001b[49m\n\u001b[0;32m    341\u001b[0m \u001b[43m                                              \u001b[49m\u001b[43mderivative\u001b[49m\u001b[43m,\u001b[49m\u001b[43m \u001b[49m\u001b[43mdummy_ind\u001b[49m\u001b[43m,\u001b[49m\n\u001b[0;32m    342\u001b[0m \u001b[43m                                              \u001b[49m\u001b[43mcount_ind\u001b[49m\u001b[43m,\u001b[49m\u001b[43m \u001b[49m\u001b[43mmethod\u001b[49m\u001b[43m,\u001b[49m\u001b[43m \u001b[49m\u001b[43mJ\u001b[49m\u001b[43m)\u001b[49m\n\u001b[0;32m    343\u001b[0m     \u001b[38;5;28;01mreturn\u001b[39;00m cov_me, np\u001b[38;5;241m.\u001b[39msqrt(np\u001b[38;5;241m.\u001b[39mdiag(cov_me))\n",
            "File \u001b[1;32mc:\\Users\\Lucas\\AppData\\Local\\Programs\\Python\\Python312\\Lib\\site-packages\\statsmodels\\discrete\\discrete_margins.py:321\u001b[0m, in \u001b[0;36mmargeff_cov_params\u001b[1;34m(model, params, exog, cov_params, at, derivative, dummy_ind, count_ind, method, J)\u001b[0m\n\u001b[0;32m    319\u001b[0m     jacobian_mat \u001b[38;5;241m=\u001b[39m jacobian_mat\u001b[38;5;241m.\u001b[39msqueeze()  \u001b[38;5;66;03m# exog was 2d row vector\u001b[39;00m\n\u001b[0;32m    320\u001b[0m \u001b[38;5;28;01mif\u001b[39;00m dummy_ind \u001b[38;5;129;01mis\u001b[39;00m \u001b[38;5;129;01mnot\u001b[39;00m \u001b[38;5;28;01mNone\u001b[39;00m:\n\u001b[1;32m--> 321\u001b[0m     jacobian_mat \u001b[38;5;241m=\u001b[39m \u001b[43m_margeff_cov_params_dummy\u001b[49m\u001b[43m(\u001b[49m\u001b[43mmodel\u001b[49m\u001b[43m,\u001b[49m\u001b[43m \u001b[49m\u001b[43mjacobian_mat\u001b[49m\u001b[43m,\u001b[49m\n\u001b[0;32m    322\u001b[0m \u001b[43m                        \u001b[49m\u001b[43mparams\u001b[49m\u001b[43m,\u001b[49m\u001b[43m \u001b[49m\u001b[43mexog\u001b[49m\u001b[43m,\u001b[49m\u001b[43m \u001b[49m\u001b[43mdummy_ind\u001b[49m\u001b[43m,\u001b[49m\u001b[43m \u001b[49m\u001b[43mmethod\u001b[49m\u001b[43m,\u001b[49m\u001b[43m \u001b[49m\u001b[43mJ\u001b[49m\u001b[43m)\u001b[49m\n\u001b[0;32m    323\u001b[0m \u001b[38;5;28;01mif\u001b[39;00m count_ind \u001b[38;5;129;01mis\u001b[39;00m \u001b[38;5;129;01mnot\u001b[39;00m \u001b[38;5;28;01mNone\u001b[39;00m:\n\u001b[0;32m    324\u001b[0m     jacobian_mat \u001b[38;5;241m=\u001b[39m _margeff_cov_params_count(model, jacobian_mat,\n\u001b[0;32m    325\u001b[0m                         params, exog, count_ind, method, J)\n",
            "File \u001b[1;32mc:\\Users\\Lucas\\AppData\\Local\\Programs\\Python\\Python312\\Lib\\site-packages\\statsmodels\\discrete\\discrete_margins.py:210\u001b[0m, in \u001b[0;36m_margeff_cov_params_dummy\u001b[1;34m(model, cov_margins, params, exog, dummy_ind, method, J)\u001b[0m\n\u001b[0;32m    208\u001b[0m exog0[:,i] \u001b[38;5;241m=\u001b[39m \u001b[38;5;241m0\u001b[39m\n\u001b[0;32m    209\u001b[0m exog1[:,i] \u001b[38;5;241m=\u001b[39m \u001b[38;5;241m1\u001b[39m\n\u001b[1;32m--> 210\u001b[0m dfdb0 \u001b[38;5;241m=\u001b[39m \u001b[43mmodel\u001b[49m\u001b[38;5;241;43m.\u001b[39;49m\u001b[43m_derivative_predict\u001b[49m\u001b[43m(\u001b[49m\u001b[43mparams\u001b[49m\u001b[43m,\u001b[49m\u001b[43m \u001b[49m\u001b[43mexog0\u001b[49m\u001b[43m,\u001b[49m\u001b[43m \u001b[49m\u001b[43mmethod\u001b[49m\u001b[43m)\u001b[49m\n\u001b[0;32m    211\u001b[0m dfdb1 \u001b[38;5;241m=\u001b[39m model\u001b[38;5;241m.\u001b[39m_derivative_predict(params, exog1, method)\n\u001b[0;32m    212\u001b[0m dfdb \u001b[38;5;241m=\u001b[39m (dfdb1 \u001b[38;5;241m-\u001b[39m dfdb0)\n",
            "File \u001b[1;32mc:\\Users\\Lucas\\AppData\\Local\\Programs\\Python\\Python312\\Lib\\site-packages\\statsmodels\\genmod\\generalized_linear_model.py:701\u001b[0m, in \u001b[0;36mGLM._derivative_predict\u001b[1;34m(self, params, exog, transform, offset, exposure)\u001b[0m\n\u001b[0;32m    698\u001b[0m     exog \u001b[38;5;241m=\u001b[39m \u001b[38;5;28mself\u001b[39m\u001b[38;5;241m.\u001b[39mexog\n\u001b[0;32m    699\u001b[0m \u001b[38;5;28;01mif\u001b[39;00m (offset \u001b[38;5;129;01mis\u001b[39;00m \u001b[38;5;129;01mnot\u001b[39;00m \u001b[38;5;28;01mNone\u001b[39;00m) \u001b[38;5;129;01mor\u001b[39;00m (exposure \u001b[38;5;129;01mis\u001b[39;00m \u001b[38;5;129;01mnot\u001b[39;00m \u001b[38;5;28;01mNone\u001b[39;00m) \u001b[38;5;129;01mor\u001b[39;00m (\n\u001b[0;32m    700\u001b[0m         \u001b[38;5;28mgetattr\u001b[39m(\u001b[38;5;28mself\u001b[39m, \u001b[38;5;124m'\u001b[39m\u001b[38;5;124moffset\u001b[39m\u001b[38;5;124m'\u001b[39m, \u001b[38;5;28;01mNone\u001b[39;00m) \u001b[38;5;129;01mis\u001b[39;00m \u001b[38;5;129;01mnot\u001b[39;00m \u001b[38;5;28;01mNone\u001b[39;00m):\n\u001b[1;32m--> 701\u001b[0m     \u001b[38;5;28;01mraise\u001b[39;00m \u001b[38;5;167;01mNotImplementedError\u001b[39;00m(\u001b[38;5;124m\"\u001b[39m\u001b[38;5;124moffset and exposure not supported\u001b[39m\u001b[38;5;124m\"\u001b[39m)\n\u001b[0;32m    703\u001b[0m lin_pred \u001b[38;5;241m=\u001b[39m \u001b[38;5;28mself\u001b[39m\u001b[38;5;241m.\u001b[39mpredict(params, exog\u001b[38;5;241m=\u001b[39mexog, which\u001b[38;5;241m=\u001b[39m\u001b[38;5;124m\"\u001b[39m\u001b[38;5;124mlinear\u001b[39m\u001b[38;5;124m\"\u001b[39m)\n\u001b[0;32m    704\u001b[0m idl \u001b[38;5;241m=\u001b[39m \u001b[38;5;28mself\u001b[39m\u001b[38;5;241m.\u001b[39mfamily\u001b[38;5;241m.\u001b[39mlink\u001b[38;5;241m.\u001b[39minverse_deriv(lin_pred)\n",
            "\u001b[1;31mNotImplementedError\u001b[0m: offset and exposure not supported"
          ]
        }
      ],
      "source": [
        "# Efeito médio da pandemia em cada região\n",
        "marginal_effects = result.get_margeff(at=\"overall\", dummy=True)\n",
        "print(marginal_effects.summary())"
      ]
    },
    {
      "cell_type": "code",
      "execution_count": null,
      "metadata": {},
      "outputs": [],
      "source": [
        "'''\n",
        "results = variable_processor.results\n",
        "for variable, result in results.items():\n",
        "    print(f\"Results for {variable}:\")\n",
        "    print(result.summary())\n",
        "'''"
      ]
    },
    {
      "cell_type": "code",
      "execution_count": null,
      "metadata": {},
      "outputs": [
        {
          "name": "stdout",
          "output_type": "stream",
          "text": [
            "                                                 IRR   CI Lower   CI Upper\n",
            "Intercept                                  11.177361  11.177361  11.177361\n",
            "C(regiao)[T.nordeste]                       0.496758   0.496758   0.496758\n",
            "C(regiao)[T.norte]                          0.486813   0.486813   0.486813\n",
            "C(regiao)[T.sudeste]                        1.019342   1.019342   1.019342\n",
            "C(regiao)[T.sul]                            2.112572   2.112572   2.112572\n",
            "C(regiao)[centro_oeste]:periodo             1.017493   1.017493   1.017493\n",
            "C(regiao)[nordeste]:periodo                 1.019710   1.019710   1.019710\n",
            "C(regiao)[norte]:periodo                    1.016965   1.016965   1.016965\n",
            "C(regiao)[sudeste]:periodo                  1.016226   1.016226   1.016226\n",
            "C(regiao)[sul]:periodo                      1.002377   1.002377   1.002377\n",
            "C(regiao)[centro_oeste]:Pandemia_Step       0.989679   0.989679   0.989679\n",
            "C(regiao)[nordeste]:Pandemia_Step           1.274288   1.274288   1.274288\n",
            "C(regiao)[norte]:Pandemia_Step              0.943097   0.943097   0.943097\n",
            "C(regiao)[sudeste]:Pandemia_Step            1.096448   1.096448   1.096448\n",
            "C(regiao)[sul]:Pandemia_Step                1.159857   1.159857   1.159857\n",
            "C(regiao)[centro_oeste]:Pandemia_Trend      0.979315   0.979315   0.979315\n",
            "C(regiao)[nordeste]:Pandemia_Trend          0.984897   0.984897   0.984897\n",
            "C(regiao)[norte]:Pandemia_Trend             0.991439   0.991439   0.991439\n",
            "C(regiao)[sudeste]:Pandemia_Trend           0.982360   0.982360   0.982360\n",
            "C(regiao)[sul]:Pandemia_Trend               0.988413   0.988413   0.988413\n",
            "C(regiao)[centro_oeste]:PosPandemia_Step    0.651513   0.651513   0.651513\n",
            "C(regiao)[nordeste]:PosPandemia_Step        0.936685   0.936685   0.936685\n",
            "C(regiao)[norte]:PosPandemia_Step           0.789730   0.789730   0.789730\n",
            "C(regiao)[sudeste]:PosPandemia_Step         0.716956   0.716956   0.716956\n",
            "C(regiao)[sul]:PosPandemia_Step             0.941827   0.941827   0.941827\n",
            "C(regiao)[centro_oeste]:PosPandemia_Trend   0.986550   0.986550   0.986550\n",
            "C(regiao)[nordeste]:PosPandemia_Trend       0.994232   0.994232   0.994232\n",
            "C(regiao)[norte]:PosPandemia_Trend          0.999274   0.999274   0.999274\n",
            "C(regiao)[sudeste]:PosPandemia_Trend        0.990174   0.990174   0.990174\n",
            "C(regiao)[sul]:PosPandemia_Trend            1.002593   1.002593   1.002593\n",
            "C(regiao)[centro_oeste]:cos1                1.007406   1.007406   1.007406\n",
            "C(regiao)[nordeste]:cos1                    0.987324   0.987324   0.987324\n",
            "C(regiao)[norte]:cos1                       0.981967   0.981967   0.981967\n",
            "C(regiao)[sudeste]:cos1                     1.014084   1.014084   1.014084\n",
            "C(regiao)[sul]:cos1                         1.006177   1.006177   1.006177\n",
            "C(regiao)[centro_oeste]:sin1                0.995478   0.995478   0.995478\n",
            "C(regiao)[nordeste]:sin1                    0.985933   0.985933   0.985933\n",
            "C(regiao)[norte]:sin1                       0.997298   0.997298   0.997298\n",
            "C(regiao)[sudeste]:sin1                     0.996761   0.996761   0.996761\n",
            "C(regiao)[sul]:sin1                         0.997497   0.997497   0.997497\n"
          ]
        }
      ],
      "source": [
        "# IRRs and confidence intervals\n",
        "params = result.params\n",
        "conf = result.conf_int()\n",
        "\n",
        "irr = np.exp(params)\n",
        "irr_ci_lower = np.exp(conf[0])\n",
        "irr_ci_upper = np.exp(conf[1])\n",
        "\n",
        "irr_table = pd.DataFrame({\n",
        "\t'IRR': irr,\n",
        "\t'CI Lower': irr_ci_lower,\n",
        "\t'CI Upper': irr_ci_upper\n",
        "})\n",
        "\n",
        "print(irr_table)"
      ]
    },
    {
      "cell_type": "markdown",
      "metadata": {
        "id": "K8HZg-VlNIXd"
      },
      "source": [
        "# Define Exporter"
      ]
    },
    {
      "cell_type": "code",
      "execution_count": null,
      "metadata": {
        "id": "BF1tmE8pNIXd"
      },
      "outputs": [],
      "source": [
        "def export_results(results, output_path, processor_args, preprocessor_args, output_gsheet = None):\n",
        "    \"\"\"\n",
        "    Exports the regression results and metadata to an Excel file.\n",
        "\n",
        "    Args:\n",
        "        results (dict): Dictionary containing regression results.\n",
        "        output_path (str): Path to the output Excel file.\n",
        "        processor_args (dict): Dictionary containing processor arguments.\n",
        "        preprocessor_args (dict): Dictionary containing preprocessor arguments.\n",
        "    \"\"\"\n",
        "    def extract_durbin_watson_from_summary(result):\n",
        "        summary_text = result.summary().as_text()\n",
        "        for line in summary_text.split('\\n'):\n",
        "            if \"Durbin-Watson\" in line:\n",
        "                return float(line.split()[-1])  # Extract the last value in the line\n",
        "        return None  # Return None if not found\n",
        "\n",
        "\n",
        "    def try_create_worksheet(output_gsheet, title: str) -> None:\n",
        "        if output_gsheet:\n",
        "            try:\n",
        "                output_gsheet.worksheet(title)\n",
        "            except gspread.exceptions.WorksheetNotFound:\n",
        "                output_gsheet.add_worksheet(title=title, rows=\"100\", cols=\"20\")\n",
        "\n",
        "\n",
        "    stats_data = []\n",
        "    coefficients_data = []\n",
        "\n",
        "    for variable, result in results.items():\n",
        "        # Extract coefficients\n",
        "        coefficients = result.params\n",
        "        coef_row = {\"Variable\": variable}\n",
        "        for coef_name, coef_value in coefficients.items():\n",
        "            coef_row[f\"{coef_name}__Value\"] = round(coef_value, 7)\n",
        "            coef_row[f\"{coef_name}__Value_%_intercept\"] = coef_value/result.params['Intercept']*100\n",
        "            coef_row[f\"{coef_name}__P-Value\"] = round(result.pvalues.get(coef_name, np.nan), 7)\n",
        "            coef_row[f\"{coef_name}__Std Err\"] = round(result.bse.get(coef_name, np.nan), 7)\n",
        "            coef_row[f\"{coef_name}__Significant\"] = result.pvalues.get(coef_name, np.nan) < 0.05  # At 5% significance\n",
        "        coefficients_data.append(coef_row)\n",
        "\n",
        "        # Extract other statistics\n",
        "        stats_data.append({\n",
        "            \"Variable\": variable,\n",
        "            \"R-Squared\": round(result.rsquared, 7),\n",
        "            \"Adjusted R-Squared\": round(result.rsquared_adj, 7),\n",
        "            \"Durbin-Watson\": round(extract_durbin_watson_from_summary(result), 7),\n",
        "            \"AIC\": round(result.aic, 7),\n",
        "            \"BIC\": round(result.bic, 7),\n",
        "            \"Number of Observations\": result.nobs,\n",
        "            \"F-Value\": round(result.fvalue, 7) if result.fvalue is not None else np.nan,\n",
        "            \"F P-Value\": round(result.f_pvalue, 7) if result.f_pvalue is not None else np.nan,\n",
        "            \"Log-Likelihood\": round(result.llf, 7),\n",
        "            \"Condition Number\": round(result.condition_number, 7) if result.condition_number is not None else np.nan\n",
        "        })\n",
        "\n",
        "    # Convert to DataFrames\n",
        "    coefficients_df = pd.DataFrame(coefficients_data).set_index(\"Variable\")\n",
        "    stats_df = pd.DataFrame(stats_data).set_index(\"Variable\")\n",
        "\n",
        "    # Prepare metadata\n",
        "    metadata = {\n",
        "        \"Processor Args\": [str(processor_args)],\n",
        "        \"Preprocessor Args\": [str(preprocessor_args)]\n",
        "    }\n",
        "    metadata_df = pd.DataFrame(metadata)\n",
        "\n",
        "    # Write to gsheet\n",
        "    if output_gsheet is not None:\n",
        "        for title, clean_df, include_index in [\n",
        "            (\"Coefficients\", coefficients_df, True),\n",
        "            (\"Statistics\", stats_df, True),\n",
        "            (\"Metadata\", metadata_df, False)\n",
        "        ]:\n",
        "            try_create_worksheet(title=title, output_gsheet=output_gsheet)\n",
        "            ws = output_gsheet.worksheet(title)\n",
        "            ws.clear()\n",
        "            set_with_dataframe(ws, clean_df, include_index=include_index)\n",
        "    # Write to Excel\n",
        "    else:\n",
        "       file_exists = os.path.exists(output_path)\n",
        "\n",
        "               # Attempt to open file and catch PermissionError if the file is open elsewhere\n",
        "       if file_exists:\n",
        "           while True:\n",
        "               try:\n",
        "                   with pd.ExcelWriter(output_path) as writer:\n",
        "                       # Write coefficients to one sheet\n",
        "                       coefficients_df.to_excel(writer, sheet_name=\"Coefficients\")\n",
        "\n",
        "                       # Write other stats to another sheet\n",
        "                       stats_df.to_excel(writer, sheet_name=\"Statistics\")\n",
        "\n",
        "                       # Write metadata to another sheet\n",
        "                       metadata_df.to_excel(writer, sheet_name=\"Metadata\", index=False)\n",
        "                   # Load the workbook to apply formatting\n",
        "                   workbook = load_workbook(output_path)\n",
        "                   if \"Residuals\" not in workbook.sheetnames:\n",
        "                       workbook.create_sheet(\"Residuals\")\n",
        "                       residuals_sheet = workbook[\"Residuals\"]\n",
        "\n",
        "                   # Plot residuals for each variable and add them to the Residuals sheet\n",
        "                   for idx, (variable, result) in enumerate(results.items(), start=1):\n",
        "                       # Create a plot of residuals\n",
        "                       plt.figure(figsize=(6, 4))\n",
        "                       plt.scatter(range(len(result.resid)), result.resid, alpha=0.7)\n",
        "                       plt.axhline(0, color=\"red\", linestyle=\"--\", linewidth=1)\n",
        "                       plt.title(f\"Residuals for {variable}\")\n",
        "                       plt.xlabel(\"Observation\")\n",
        "                       plt.ylabel(\"Residuals\")\n",
        "                       plt.tight_layout()\n",
        "\n",
        "                       # Save the plot to a BytesIO object\n",
        "                       img_data = BytesIO()\n",
        "                       plt.savefig(img_data, format=\"png\")\n",
        "                       plt.close()\n",
        "                       img_data.seek(0)\n",
        "\n",
        "                       # Add the image to the Excel sheet\n",
        "                       img = Image(img_data)\n",
        "                       img.anchor = f\"A{idx * 20}\"  # Adjust the position of the image\n",
        "                       residuals_sheet.add_image(img)\n",
        "\n",
        "                   for sheet_name in [\"Coefficients\", \"Statistics\", \"Metadata\"]:\n",
        "                       if sheet_name in workbook.sheetnames:\n",
        "                           sheet = workbook[sheet_name]\n",
        "\n",
        "                           # Enable text wrapping and adjust row heights\n",
        "                           for row in sheet.iter_rows():\n",
        "                               for cell in row:\n",
        "                                   cell.alignment = Alignment(wrap_text=True)  # Enable text wrapping\n",
        "                               # Adjust row height\n",
        "                               sheet.row_dimensions[row[0].row].height = 25  # Set row height to 25 (adjust as needed)\n",
        "\n",
        "                   # Save the formatted workbook\n",
        "                   workbook.save(output_path)\n",
        "                   break  # Exit the loop if writing succeeds\n",
        "               except PermissionError:\n",
        "                   #logger.warning(f\"File '{output_path}' is currently open. Please close the file and press Enter to try again.\")\n",
        "                   input(\"Press Enter after closing the file...\")\n",
        "                   time.sleep(5)  # Optional: wait before retrying\n"
      ]
    },
    {
      "cell_type": "markdown",
      "metadata": {
        "id": "AKBeUI39NIXf"
      },
      "source": [
        "# Export Results"
      ]
    },
    {
      "cell_type": "code",
      "execution_count": null,
      "metadata": {
        "id": "IbPhBA4YNIXg"
      },
      "outputs": [
        {
          "ename": "AttributeError",
          "evalue": "'GEEResults' object has no attribute 'items'",
          "output_type": "error",
          "traceback": [
            "\u001b[1;31m---------------------------------------------------------------------------\u001b[0m",
            "\u001b[1;31mAttributeError\u001b[0m                            Traceback (most recent call last)",
            "Cell \u001b[1;32mIn[327], line 1\u001b[0m\n\u001b[1;32m----> 1\u001b[0m \u001b[43mexport_results\u001b[49m\u001b[43m(\u001b[49m\u001b[43mresults\u001b[49m\u001b[43m,\u001b[49m\n\u001b[0;32m      2\u001b[0m \u001b[43m    \u001b[49m\u001b[43moutput_path\u001b[49m\u001b[43m \u001b[49m\u001b[38;5;241;43m=\u001b[39;49m\u001b[43m \u001b[49m\u001b[43mLOCAL_OUTPUT_PATH\u001b[49m\u001b[43m,\u001b[49m\n\u001b[0;32m      3\u001b[0m \u001b[43m    \u001b[49m\u001b[43mprocessor_args\u001b[49m\u001b[43m \u001b[49m\u001b[38;5;241;43m=\u001b[39;49m\u001b[43m \u001b[49m\u001b[43mPROCESSOR_ARGS\u001b[49m\u001b[43m,\u001b[49m\n\u001b[0;32m      4\u001b[0m \u001b[43m    \u001b[49m\u001b[43mpreprocessor_args\u001b[49m\u001b[38;5;241;43m=\u001b[39;49m\u001b[43mPREPROCESSOR_ARGS\u001b[49m\u001b[43m,\u001b[49m\n\u001b[0;32m      5\u001b[0m \u001b[43m    \u001b[49m\u001b[43moutput_gsheet\u001b[49m\u001b[38;5;241;43m=\u001b[39;49m\u001b[43moutput_wksheet\u001b[49m\u001b[43m,\u001b[49m\n\u001b[0;32m      6\u001b[0m \u001b[43m)\u001b[49m\n",
            "Cell \u001b[1;32mIn[326], line 30\u001b[0m, in \u001b[0;36mexport_results\u001b[1;34m(results, output_path, processor_args, preprocessor_args, output_gsheet)\u001b[0m\n\u001b[0;32m     27\u001b[0m stats_data \u001b[38;5;241m=\u001b[39m []\n\u001b[0;32m     28\u001b[0m coefficients_data \u001b[38;5;241m=\u001b[39m []\n\u001b[1;32m---> 30\u001b[0m \u001b[38;5;28;01mfor\u001b[39;00m variable, result \u001b[38;5;129;01min\u001b[39;00m \u001b[43mresults\u001b[49m\u001b[38;5;241;43m.\u001b[39;49m\u001b[43mitems\u001b[49m():\n\u001b[0;32m     31\u001b[0m     \u001b[38;5;66;03m# Extract coefficients\u001b[39;00m\n\u001b[0;32m     32\u001b[0m     coefficients \u001b[38;5;241m=\u001b[39m result\u001b[38;5;241m.\u001b[39mparams\n\u001b[0;32m     33\u001b[0m     coef_row \u001b[38;5;241m=\u001b[39m {\u001b[38;5;124m\"\u001b[39m\u001b[38;5;124mVariable\u001b[39m\u001b[38;5;124m\"\u001b[39m: variable}\n",
            "File \u001b[1;32mc:\\Users\\Lucas\\AppData\\Local\\Programs\\Python\\Python312\\Lib\\site-packages\\statsmodels\\base\\wrapper.py:34\u001b[0m, in \u001b[0;36mResultsWrapper.__getattribute__\u001b[1;34m(self, attr)\u001b[0m\n\u001b[0;32m     31\u001b[0m \u001b[38;5;28;01mexcept\u001b[39;00m \u001b[38;5;167;01mAttributeError\u001b[39;00m:\n\u001b[0;32m     32\u001b[0m     \u001b[38;5;28;01mpass\u001b[39;00m\n\u001b[1;32m---> 34\u001b[0m obj \u001b[38;5;241m=\u001b[39m \u001b[38;5;28;43mgetattr\u001b[39;49m\u001b[43m(\u001b[49m\u001b[43mresults\u001b[49m\u001b[43m,\u001b[49m\u001b[43m \u001b[49m\u001b[43mattr\u001b[49m\u001b[43m)\u001b[49m\n\u001b[0;32m     35\u001b[0m data \u001b[38;5;241m=\u001b[39m results\u001b[38;5;241m.\u001b[39mmodel\u001b[38;5;241m.\u001b[39mdata\n\u001b[0;32m     36\u001b[0m how \u001b[38;5;241m=\u001b[39m \u001b[38;5;28mself\u001b[39m\u001b[38;5;241m.\u001b[39m_wrap_attrs\u001b[38;5;241m.\u001b[39mget(attr)\n",
            "\u001b[1;31mAttributeError\u001b[0m: 'GEEResults' object has no attribute 'items'"
          ]
        }
      ],
      "source": [
        "export_results(results,\n",
        "    output_path = LOCAL_OUTPUT_PATH,\n",
        "    processor_args = PROCESSOR_ARGS,\n",
        "    preprocessor_args=PREPROCESSOR_ARGS,\n",
        "    output_gsheet=output_wksheet,\n",
        ")"
      ]
    },
    {
      "cell_type": "markdown",
      "metadata": {
        "id": "zH9i6dotzLe5"
      },
      "source": [
        "# Define Hover Graph Func\n"
      ]
    },
    {
      "cell_type": "code",
      "execution_count": null,
      "metadata": {},
      "outputs": [],
      "source": [
        "def plot_with_all_dummies(\n",
        "    variable: str,\n",
        "    variable_df,\n",
        "    results_obj,\n",
        "    exclude_coeffs_by_prefix=None,\n",
        "    plot_individual_effects=False,\n",
        "    line_events=None, # Dict[str, Tuple[start, end, color, show_line]]\n",
        "    slope_coef_str=None \n",
        "):\n",
        "\n",
        "    regression_stats = results_obj.params\n",
        "    variable_df = variable_df.sort_values(by=DATE_NAME).reset_index(drop=True)\n",
        "    dates = variable_df[DATE_NAME].values\n",
        "    real_series = variable_df[DEPENDENT_VAR].values\n",
        "\n",
        "    slope_name = slope_coef_str if slope_coef_str else INDEPENDENT_VAR\n",
        "    intercept = regression_stats.get(\"Intercept\", 0)\n",
        "    slope = regression_stats.get(slope_name, 0)\n",
        "    t = np.arange(len(dates)) + 1\n",
        "    baseline = (intercept + slope * t).astype(float)\n",
        "    full_pred = baseline.copy()\n",
        "\n",
        "    fig = go.Figure()\n",
        "\n",
        "    fig.add_trace(go.Scatter(\n",
        "        x=dates,\n",
        "        y=real_series,\n",
        "        mode='markers',\n",
        "        name='Real',\n",
        "        marker=dict(color='black')\n",
        "    ))\n",
        "\n",
        "    fig.add_trace(go.Scatter(\n",
        "        x=dates,\n",
        "        y=baseline,\n",
        "        mode='lines',\n",
        "        name='Baseline',\n",
        "        line=dict(dash='dot', color='black')\n",
        "    ))\n",
        "\n",
        "    for dummy_name, coef in regression_stats.items():\n",
        "        if dummy_name in {\"Intercept\", INDEPENDENT_VAR}:\n",
        "            continue\n",
        "        if slope_coef_str and dummy_name == slope_coef_str:\n",
        "            continue\n",
        "\n",
        "        if exclude_coeffs_by_prefix and any(dummy_name.startswith(prefix) for prefix in exclude_coeffs_by_prefix):\n",
        "            continue\n",
        "\n",
        "        if dummy_name in variable_df.columns:\n",
        "            dummy_ts = variable_df[dummy_name].values\n",
        "            dummy_effect = coef * dummy_ts\n",
        "            full_pred += dummy_effect\n",
        "\n",
        "            if plot_individual_effects:\n",
        "                fig.add_trace(go.Scatter(\n",
        "                    x=dates,\n",
        "                    y=dummy_effect,\n",
        "                    mode='lines',\n",
        "                    name=f'Effect: {dummy_name}',\n",
        "                    line=dict(dash='dash')\n",
        "                ))\n",
        "\n",
        "    if line_events:\n",
        "        for line_dummy_name, (event_start_date, event_end_date, fillcolor, show_line) in line_events.items():\n",
        "            if fillcolor:\n",
        "                # Sombra para eventos tipo \"pulse\"\n",
        "                fig.add_shape(\n",
        "                    type=\"rect\",\n",
        "                    x0=event_start_date,\n",
        "                    x1=event_end_date,\n",
        "                    y0=0,\n",
        "                    y1=1,\n",
        "                    xref=\"x\",\n",
        "                    yref=\"paper\",\n",
        "                    fillcolor=fillcolor,\n",
        "                    opacity=0.3,\n",
        "                    layer=\"below\",\n",
        "                    line_width=0,\n",
        "                )\n",
        "        \n",
        "            if show_line:\n",
        "                # Linha e anotação para eventos como Pandemia e Pós-Pandemia\n",
        "                fig.add_shape(\n",
        "                    type=\"line\",\n",
        "                    x0=event_start_date,\n",
        "                    x1=event_start_date,\n",
        "                    y0=min(real_series),\n",
        "                    y1=max(real_series),\n",
        "                    line=dict(color=\"black\", dash=\"dash\")\n",
        "                )\n",
        "        \n",
        "                # Anotação deslocada no eixo x\n",
        "                fig.add_annotation(\n",
        "                    x=event_start_date,\n",
        "                    y=max(real_series),\n",
        "                    text=f\"{line_dummy_name}\",\n",
        "                    showarrow=True,\n",
        "                    arrowhead=2,\n",
        "                    ax=30,  # deslocamento lateral\n",
        "                    ay=-40\n",
        "                )\n",
        "\n",
        "    fig.add_trace(go.Scatter(\n",
        "        x=dates,\n",
        "        y=full_pred,\n",
        "        mode='lines',\n",
        "        name='Full model',\n",
        "        line=dict(color='purple')\n",
        "    ))\n",
        "\n",
        "    fig.update_layout(\n",
        "        title=variable,\n",
        "        xaxis_title=\"Time\",\n",
        "        yaxis_title=\"Value\",\n",
        "        legend_title=\"Legend\"\n",
        "    )\n",
        "\n",
        "    fig.show()\n"
      ]
    },
    {
      "cell_type": "markdown",
      "metadata": {
        "id": "deLbYC8XNIX5"
      },
      "source": [
        "# EXEC --- Plot Graph"
      ]
    },
    {
      "cell_type": "code",
      "execution_count": null,
      "metadata": {
        "colab": {
          "base_uri": "https://localhost:8080/",
          "height": 1000
        },
        "id": "5rCs4_ohNIX6",
        "outputId": "73d22374-2176-4616-a44b-3072f8ea7e90"
      },
      "outputs": [
        {
          "data": {
            "application/vnd.plotly.v1+json": {
              "config": {
                "plotlyServerURL": "https://plot.ly"
              },
              "data": [
                {
                  "marker": {
                    "color": "black"
                  },
                  "mode": "markers",
                  "name": "Real",
                  "type": "scatter",
                  "x": [
                    "2016-01-01T00:00:00.000000000",
                    "2016-02-01T00:00:00.000000000",
                    "2016-03-01T00:00:00.000000000",
                    "2016-04-01T00:00:00.000000000",
                    "2016-05-01T00:00:00.000000000",
                    "2016-06-01T00:00:00.000000000",
                    "2016-07-01T00:00:00.000000000",
                    "2016-08-01T00:00:00.000000000",
                    "2016-09-01T00:00:00.000000000",
                    "2016-10-01T00:00:00.000000000",
                    "2016-11-01T00:00:00.000000000",
                    "2016-12-01T00:00:00.000000000",
                    "2017-01-01T00:00:00.000000000",
                    "2017-02-01T00:00:00.000000000",
                    "2017-03-01T00:00:00.000000000",
                    "2017-04-01T00:00:00.000000000",
                    "2017-05-01T00:00:00.000000000",
                    "2017-06-01T00:00:00.000000000",
                    "2017-07-01T00:00:00.000000000",
                    "2017-08-01T00:00:00.000000000",
                    "2017-09-01T00:00:00.000000000",
                    "2017-10-01T00:00:00.000000000",
                    "2017-11-01T00:00:00.000000000",
                    "2017-12-01T00:00:00.000000000",
                    "2018-01-01T00:00:00.000000000",
                    "2018-02-01T00:00:00.000000000",
                    "2018-03-01T00:00:00.000000000",
                    "2018-04-01T00:00:00.000000000",
                    "2018-05-01T00:00:00.000000000",
                    "2018-06-01T00:00:00.000000000",
                    "2018-07-01T00:00:00.000000000",
                    "2018-08-01T00:00:00.000000000",
                    "2018-09-01T00:00:00.000000000",
                    "2018-10-01T00:00:00.000000000",
                    "2018-11-01T00:00:00.000000000",
                    "2018-12-01T00:00:00.000000000",
                    "2019-01-01T00:00:00.000000000",
                    "2019-02-01T00:00:00.000000000",
                    "2019-03-01T00:00:00.000000000",
                    "2019-04-01T00:00:00.000000000",
                    "2019-05-01T00:00:00.000000000",
                    "2019-06-01T00:00:00.000000000",
                    "2019-07-01T00:00:00.000000000",
                    "2019-08-01T00:00:00.000000000",
                    "2019-09-01T00:00:00.000000000",
                    "2019-10-01T00:00:00.000000000",
                    "2019-11-01T00:00:00.000000000",
                    "2019-12-01T00:00:00.000000000",
                    "2020-01-01T00:00:00.000000000",
                    "2020-02-01T00:00:00.000000000",
                    "2020-03-01T00:00:00.000000000",
                    "2020-04-01T00:00:00.000000000",
                    "2020-05-01T00:00:00.000000000",
                    "2020-06-01T00:00:00.000000000",
                    "2020-07-01T00:00:00.000000000",
                    "2020-08-01T00:00:00.000000000",
                    "2020-09-01T00:00:00.000000000",
                    "2020-10-01T00:00:00.000000000",
                    "2020-11-01T00:00:00.000000000",
                    "2020-12-01T00:00:00.000000000",
                    "2021-01-01T00:00:00.000000000",
                    "2021-02-01T00:00:00.000000000",
                    "2021-03-01T00:00:00.000000000",
                    "2021-04-01T00:00:00.000000000",
                    "2021-05-01T00:00:00.000000000",
                    "2021-06-01T00:00:00.000000000",
                    "2021-07-01T00:00:00.000000000",
                    "2021-08-01T00:00:00.000000000",
                    "2021-09-01T00:00:00.000000000",
                    "2021-10-01T00:00:00.000000000",
                    "2021-11-01T00:00:00.000000000",
                    "2021-12-01T00:00:00.000000000",
                    "2022-01-01T00:00:00.000000000",
                    "2022-02-01T00:00:00.000000000",
                    "2022-03-01T00:00:00.000000000",
                    "2022-04-01T00:00:00.000000000",
                    "2022-05-01T00:00:00.000000000",
                    "2022-06-01T00:00:00.000000000",
                    "2022-07-01T00:00:00.000000000",
                    "2022-08-01T00:00:00.000000000",
                    "2022-09-01T00:00:00.000000000",
                    "2022-10-01T00:00:00.000000000",
                    "2022-11-01T00:00:00.000000000",
                    "2022-12-01T00:00:00.000000000",
                    "2023-01-01T00:00:00.000000000",
                    "2023-02-01T00:00:00.000000000",
                    "2023-03-01T00:00:00.000000000",
                    "2023-04-01T00:00:00.000000000",
                    "2023-05-01T00:00:00.000000000",
                    "2023-06-01T00:00:00.000000000",
                    "2023-07-01T00:00:00.000000000",
                    "2023-08-01T00:00:00.000000000",
                    "2023-09-01T00:00:00.000000000",
                    "2023-10-01T00:00:00.000000000",
                    "2023-11-01T00:00:00.000000000",
                    "2023-12-01T00:00:00.000000000",
                    "2024-01-01T00:00:00.000000000",
                    "2024-02-01T00:00:00.000000000",
                    "2024-03-01T00:00:00.000000000",
                    "2024-04-01T00:00:00.000000000",
                    "2024-05-01T00:00:00.000000000",
                    "2024-06-01T00:00:00.000000000",
                    "2024-07-01T00:00:00.000000000",
                    "2024-08-01T00:00:00.000000000",
                    "2024-09-01T00:00:00.000000000",
                    "2024-10-01T00:00:00.000000000",
                    "2024-11-01T00:00:00.000000000",
                    "2024-12-01T00:00:00.000000000"
                  ],
                  "y": [
                    25.57479951815984,
                    25.69775483763651,
                    23.40469896313021,
                    24.76606536112418,
                    23.14092247260091,
                    23.79706439962597,
                    24.80762096243373,
                    24.20263573535679,
                    23.99507762829562,
                    24.23427302296435,
                    25.53078861346945,
                    26.27798300821268,
                    25.39442465666438,
                    25.15462353056528,
                    24.38589964391444,
                    24.74215726344188,
                    24.07882258503543,
                    24.51238647056554,
                    24.04932530415184,
                    25.02007444633176,
                    24.45072602560816,
                    25.64184945257824,
                    25.1924024820175,
                    26.24368846940549,
                    25.50070029591451,
                    26.30380006656519,
                    24.49283490555982,
                    24.70962536571009,
                    23.91222969468854,
                    24.44785892166254,
                    24.14837920727932,
                    24.20096582063372,
                    25.08746842356138,
                    24.41709339531521,
                    24.75198480617482,
                    24.26591002237523,
                    23.66318386164116,
                    24.29381106665907,
                    25.45077339245917,
                    26.50941630302111,
                    26.08760234612531,
                    25.87331744078664,
                    26.08847157317199,
                    27.24377924276961,
                    26.92697257692269,
                    25.99479263022284,
                    27.14640311334641,
                    27.74721384712872,
                    28.66949660360752,
                    28.37102479792678,
                    27.31581057065054,
                    33.41441237693909,
                    32.9045579959939,
                    32.14069032006051,
                    29.39625123295836,
                    28.9414914311864,
                    31.06145517246267,
                    28.71262817982725,
                    26.31021859774367,
                    26.68517003196155,
                    26.74675150293746,
                    26.76802444347538,
                    25.93448232318803,
                    28.16755479169375,
                    24.88650030399723,
                    25.4806262603608,
                    27.34981174204792,
                    28.52206873014849,
                    29.00829210138901,
                    26.99152288108517,
                    27.17418185393509,
                    27.21122738302884,
                    19.24462637306556,
                    23.80122996244245,
                    27.02895914518971,
                    25.39559254608429,
                    23.33666148847686,
                    23.83955231742886,
                    25.95320842458581,
                    27.58765228590386,
                    29.24359285301652,
                    27.85137045143114,
                    26.55771481964728,
                    25.98165711997674,
                    29.63927937024431,
                    30.75363291846458,
                    29.57809768807097,
                    27.49301245181331,
                    27.33433748210081,
                    28.89362101782022,
                    30.43976242448078,
                    31.24723099800068,
                    32.38151516725416,
                    31.23968975721148,
                    31.03032549558447,
                    31.03455801276937,
                    31.55290014872558,
                    30.86859258223221,
                    28.13369122147646,
                    27.66132592526588,
                    28.33850140526887,
                    30.39549902693914,
                    30.23744178977174,
                    30.6081192701497,
                    30.24891983788465,
                    29.80464192639871,
                    30.33010893862979,
                    30.58480787856012
                  ]
                },
                {
                  "line": {
                    "color": "black",
                    "dash": "dot"
                  },
                  "mode": "lines",
                  "name": "Baseline",
                  "type": "scatter",
                  "x": [
                    "2016-01-01T00:00:00.000000000",
                    "2016-02-01T00:00:00.000000000",
                    "2016-03-01T00:00:00.000000000",
                    "2016-04-01T00:00:00.000000000",
                    "2016-05-01T00:00:00.000000000",
                    "2016-06-01T00:00:00.000000000",
                    "2016-07-01T00:00:00.000000000",
                    "2016-08-01T00:00:00.000000000",
                    "2016-09-01T00:00:00.000000000",
                    "2016-10-01T00:00:00.000000000",
                    "2016-11-01T00:00:00.000000000",
                    "2016-12-01T00:00:00.000000000",
                    "2017-01-01T00:00:00.000000000",
                    "2017-02-01T00:00:00.000000000",
                    "2017-03-01T00:00:00.000000000",
                    "2017-04-01T00:00:00.000000000",
                    "2017-05-01T00:00:00.000000000",
                    "2017-06-01T00:00:00.000000000",
                    "2017-07-01T00:00:00.000000000",
                    "2017-08-01T00:00:00.000000000",
                    "2017-09-01T00:00:00.000000000",
                    "2017-10-01T00:00:00.000000000",
                    "2017-11-01T00:00:00.000000000",
                    "2017-12-01T00:00:00.000000000",
                    "2018-01-01T00:00:00.000000000",
                    "2018-02-01T00:00:00.000000000",
                    "2018-03-01T00:00:00.000000000",
                    "2018-04-01T00:00:00.000000000",
                    "2018-05-01T00:00:00.000000000",
                    "2018-06-01T00:00:00.000000000",
                    "2018-07-01T00:00:00.000000000",
                    "2018-08-01T00:00:00.000000000",
                    "2018-09-01T00:00:00.000000000",
                    "2018-10-01T00:00:00.000000000",
                    "2018-11-01T00:00:00.000000000",
                    "2018-12-01T00:00:00.000000000",
                    "2019-01-01T00:00:00.000000000",
                    "2019-02-01T00:00:00.000000000",
                    "2019-03-01T00:00:00.000000000",
                    "2019-04-01T00:00:00.000000000",
                    "2019-05-01T00:00:00.000000000",
                    "2019-06-01T00:00:00.000000000",
                    "2019-07-01T00:00:00.000000000",
                    "2019-08-01T00:00:00.000000000",
                    "2019-09-01T00:00:00.000000000",
                    "2019-10-01T00:00:00.000000000",
                    "2019-11-01T00:00:00.000000000",
                    "2019-12-01T00:00:00.000000000",
                    "2020-01-01T00:00:00.000000000",
                    "2020-02-01T00:00:00.000000000",
                    "2020-03-01T00:00:00.000000000",
                    "2020-04-01T00:00:00.000000000",
                    "2020-05-01T00:00:00.000000000",
                    "2020-06-01T00:00:00.000000000",
                    "2020-07-01T00:00:00.000000000",
                    "2020-08-01T00:00:00.000000000",
                    "2020-09-01T00:00:00.000000000",
                    "2020-10-01T00:00:00.000000000",
                    "2020-11-01T00:00:00.000000000",
                    "2020-12-01T00:00:00.000000000",
                    "2021-01-01T00:00:00.000000000",
                    "2021-02-01T00:00:00.000000000",
                    "2021-03-01T00:00:00.000000000",
                    "2021-04-01T00:00:00.000000000",
                    "2021-05-01T00:00:00.000000000",
                    "2021-06-01T00:00:00.000000000",
                    "2021-07-01T00:00:00.000000000",
                    "2021-08-01T00:00:00.000000000",
                    "2021-09-01T00:00:00.000000000",
                    "2021-10-01T00:00:00.000000000",
                    "2021-11-01T00:00:00.000000000",
                    "2021-12-01T00:00:00.000000000",
                    "2022-01-01T00:00:00.000000000",
                    "2022-02-01T00:00:00.000000000",
                    "2022-03-01T00:00:00.000000000",
                    "2022-04-01T00:00:00.000000000",
                    "2022-05-01T00:00:00.000000000",
                    "2022-06-01T00:00:00.000000000",
                    "2022-07-01T00:00:00.000000000",
                    "2022-08-01T00:00:00.000000000",
                    "2022-09-01T00:00:00.000000000",
                    "2022-10-01T00:00:00.000000000",
                    "2022-11-01T00:00:00.000000000",
                    "2022-12-01T00:00:00.000000000",
                    "2023-01-01T00:00:00.000000000",
                    "2023-02-01T00:00:00.000000000",
                    "2023-03-01T00:00:00.000000000",
                    "2023-04-01T00:00:00.000000000",
                    "2023-05-01T00:00:00.000000000",
                    "2023-06-01T00:00:00.000000000",
                    "2023-07-01T00:00:00.000000000",
                    "2023-08-01T00:00:00.000000000",
                    "2023-09-01T00:00:00.000000000",
                    "2023-10-01T00:00:00.000000000",
                    "2023-11-01T00:00:00.000000000",
                    "2023-12-01T00:00:00.000000000",
                    "2024-01-01T00:00:00.000000000",
                    "2024-02-01T00:00:00.000000000",
                    "2024-03-01T00:00:00.000000000",
                    "2024-04-01T00:00:00.000000000",
                    "2024-05-01T00:00:00.000000000",
                    "2024-06-01T00:00:00.000000000",
                    "2024-07-01T00:00:00.000000000",
                    "2024-08-01T00:00:00.000000000",
                    "2024-09-01T00:00:00.000000000",
                    "2024-10-01T00:00:00.000000000",
                    "2024-11-01T00:00:00.000000000",
                    "2024-12-01T00:00:00.000000000"
                  ],
                  "y": [
                    23.75237844632564,
                    23.805995989686696,
                    23.85961353304775,
                    23.913231076408806,
                    23.96684861976986,
                    24.020466163130912,
                    24.07408370649197,
                    24.127701249853022,
                    24.18131879321408,
                    24.23493633657513,
                    24.288553879936185,
                    24.34217142329724,
                    24.395788966658294,
                    24.44940651001935,
                    24.503024053380404,
                    24.556641596741457,
                    24.610259140102514,
                    24.663876683463567,
                    24.717494226824623,
                    24.771111770185676,
                    24.82472931354673,
                    24.878346856907786,
                    24.93196440026884,
                    24.985581943629896,
                    25.03919948699095,
                    25.092817030352002,
                    25.14643457371306,
                    25.20005211707411,
                    25.25366966043517,
                    25.30728720379622,
                    25.360904747157278,
                    25.41452229051833,
                    25.468139833879384,
                    25.52175737724044,
                    25.575374920601494,
                    25.628992463962547,
                    25.682610007323603,
                    25.736227550684657,
                    25.789845094045713,
                    25.843462637406766,
                    25.897080180767823,
                    25.950697724128876,
                    26.00431526748993,
                    26.057932810850986,
                    26.11155035421204,
                    26.16516789757309,
                    26.21878544093415,
                    26.2724029842952,
                    26.326020527656258,
                    26.37963807101731,
                    26.433255614378368,
                    26.48687315773942,
                    26.540490701100474,
                    26.59410824446153,
                    26.647725787822583,
                    26.701343331183637,
                    26.754960874544693,
                    26.808578417905746,
                    26.862195961266803,
                    26.915813504627856,
                    26.969431047988913,
                    27.023048591349966,
                    27.07666613471102,
                    27.130283678072075,
                    27.18390122143313,
                    27.23751876479418,
                    27.291136308155238,
                    27.34475385151629,
                    27.398371394877348,
                    27.4519889382384,
                    27.505606481599457,
                    27.55922402496051,
                    27.612841568321564,
                    27.66645911168262,
                    27.720076655043673,
                    27.773694198404726,
                    27.827311741765783,
                    27.88092928512684,
                    27.934546828487893,
                    27.988164371848946,
                    28.041781915210002,
                    28.095399458571055,
                    28.14901700193211,
                    28.202634545293165,
                    28.256252088654218,
                    28.30986963201527,
                    28.363487175376328,
                    28.417104718737384,
                    28.470722262098437,
                    28.52433980545949,
                    28.577957348820547,
                    28.6315748921816,
                    28.685192435542653,
                    28.73880997890371,
                    28.792427522264763,
                    28.846045065625816,
                    28.899662608986873,
                    28.95328015234793,
                    29.006897695708982,
                    29.060515239070035,
                    29.114132782431092,
                    29.167750325792145,
                    29.221367869153198,
                    29.274985412514255,
                    29.328602955875308,
                    29.382220499236364,
                    29.435838042597418,
                    29.489455585958474
                  ]
                },
                {
                  "line": {
                    "color": "purple"
                  },
                  "mode": "lines",
                  "name": "Full model",
                  "type": "scatter",
                  "x": [
                    "2016-01-01T00:00:00.000000000",
                    "2016-02-01T00:00:00.000000000",
                    "2016-03-01T00:00:00.000000000",
                    "2016-04-01T00:00:00.000000000",
                    "2016-05-01T00:00:00.000000000",
                    "2016-06-01T00:00:00.000000000",
                    "2016-07-01T00:00:00.000000000",
                    "2016-08-01T00:00:00.000000000",
                    "2016-09-01T00:00:00.000000000",
                    "2016-10-01T00:00:00.000000000",
                    "2016-11-01T00:00:00.000000000",
                    "2016-12-01T00:00:00.000000000",
                    "2017-01-01T00:00:00.000000000",
                    "2017-02-01T00:00:00.000000000",
                    "2017-03-01T00:00:00.000000000",
                    "2017-04-01T00:00:00.000000000",
                    "2017-05-01T00:00:00.000000000",
                    "2017-06-01T00:00:00.000000000",
                    "2017-07-01T00:00:00.000000000",
                    "2017-08-01T00:00:00.000000000",
                    "2017-09-01T00:00:00.000000000",
                    "2017-10-01T00:00:00.000000000",
                    "2017-11-01T00:00:00.000000000",
                    "2017-12-01T00:00:00.000000000",
                    "2018-01-01T00:00:00.000000000",
                    "2018-02-01T00:00:00.000000000",
                    "2018-03-01T00:00:00.000000000",
                    "2018-04-01T00:00:00.000000000",
                    "2018-05-01T00:00:00.000000000",
                    "2018-06-01T00:00:00.000000000",
                    "2018-07-01T00:00:00.000000000",
                    "2018-08-01T00:00:00.000000000",
                    "2018-09-01T00:00:00.000000000",
                    "2018-10-01T00:00:00.000000000",
                    "2018-11-01T00:00:00.000000000",
                    "2018-12-01T00:00:00.000000000",
                    "2019-01-01T00:00:00.000000000",
                    "2019-02-01T00:00:00.000000000",
                    "2019-03-01T00:00:00.000000000",
                    "2019-04-01T00:00:00.000000000",
                    "2019-05-01T00:00:00.000000000",
                    "2019-06-01T00:00:00.000000000",
                    "2019-07-01T00:00:00.000000000",
                    "2019-08-01T00:00:00.000000000",
                    "2019-09-01T00:00:00.000000000",
                    "2019-10-01T00:00:00.000000000",
                    "2019-11-01T00:00:00.000000000",
                    "2019-12-01T00:00:00.000000000",
                    "2020-01-01T00:00:00.000000000",
                    "2020-02-01T00:00:00.000000000",
                    "2020-03-01T00:00:00.000000000",
                    "2020-04-01T00:00:00.000000000",
                    "2020-05-01T00:00:00.000000000",
                    "2020-06-01T00:00:00.000000000",
                    "2020-07-01T00:00:00.000000000",
                    "2020-08-01T00:00:00.000000000",
                    "2020-09-01T00:00:00.000000000",
                    "2020-10-01T00:00:00.000000000",
                    "2020-11-01T00:00:00.000000000",
                    "2020-12-01T00:00:00.000000000",
                    "2021-01-01T00:00:00.000000000",
                    "2021-02-01T00:00:00.000000000",
                    "2021-03-01T00:00:00.000000000",
                    "2021-04-01T00:00:00.000000000",
                    "2021-05-01T00:00:00.000000000",
                    "2021-06-01T00:00:00.000000000",
                    "2021-07-01T00:00:00.000000000",
                    "2021-08-01T00:00:00.000000000",
                    "2021-09-01T00:00:00.000000000",
                    "2021-10-01T00:00:00.000000000",
                    "2021-11-01T00:00:00.000000000",
                    "2021-12-01T00:00:00.000000000",
                    "2022-01-01T00:00:00.000000000",
                    "2022-02-01T00:00:00.000000000",
                    "2022-03-01T00:00:00.000000000",
                    "2022-04-01T00:00:00.000000000",
                    "2022-05-01T00:00:00.000000000",
                    "2022-06-01T00:00:00.000000000",
                    "2022-07-01T00:00:00.000000000",
                    "2022-08-01T00:00:00.000000000",
                    "2022-09-01T00:00:00.000000000",
                    "2022-10-01T00:00:00.000000000",
                    "2022-11-01T00:00:00.000000000",
                    "2022-12-01T00:00:00.000000000",
                    "2023-01-01T00:00:00.000000000",
                    "2023-02-01T00:00:00.000000000",
                    "2023-03-01T00:00:00.000000000",
                    "2023-04-01T00:00:00.000000000",
                    "2023-05-01T00:00:00.000000000",
                    "2023-06-01T00:00:00.000000000",
                    "2023-07-01T00:00:00.000000000",
                    "2023-08-01T00:00:00.000000000",
                    "2023-09-01T00:00:00.000000000",
                    "2023-10-01T00:00:00.000000000",
                    "2023-11-01T00:00:00.000000000",
                    "2023-12-01T00:00:00.000000000",
                    "2024-01-01T00:00:00.000000000",
                    "2024-02-01T00:00:00.000000000",
                    "2024-03-01T00:00:00.000000000",
                    "2024-04-01T00:00:00.000000000",
                    "2024-05-01T00:00:00.000000000",
                    "2024-06-01T00:00:00.000000000",
                    "2024-07-01T00:00:00.000000000",
                    "2024-08-01T00:00:00.000000000",
                    "2024-09-01T00:00:00.000000000",
                    "2024-10-01T00:00:00.000000000",
                    "2024-11-01T00:00:00.000000000",
                    "2024-12-01T00:00:00.000000000"
                  ],
                  "y": [
                    23.43870734875554,
                    23.824579802825244,
                    23.997135906489323,
                    24.244268032797176,
                    24.098580296497794,
                    24.03904997626946,
                    24.211606079933542,
                    24.02938619879704,
                    23.867647695643978,
                    24.25352014971368,
                    24.42028555666412,
                    24.24385637224126,
                    24.02554468788433,
                    24.43204065120109,
                    24.189352955810303,
                    24.71999720444507,
                    24.747781513544084,
                    24.827232291167185,
                    24.849225903552558,
                    24.789695583324225,
                    24.9622516869883,
                    24.896930670046334,
                    24.61829330269874,
                    25.224094545675925,
                    24.668955208216985,
                    25.42385398674037,
                    25.28395694715463,
                    25.21863593021266,
                    25.188629103787537,
                    25.325871016934773,
                    25.20479856057715,
                    25.65303489256436,
                    25.31203364729926,
                    25.504391518422178,
                    25.419268734021372,
                    25.61162660514428,
                    25.82013238076518,
                    25.71886169186639,
                    25.72480453739807,
                    26.174499593795133,
                    26.0346025542094,
                    25.933331865310613,
                    25.634070988715965,
                    26.2212884185546,
                    25.95544416763192,
                    26.496204853961455,
                    26.153744884286514,
                    26.510915586341223,
                    26.01234943008616,
                    26.398221884155856,
                    26.277149427798246,
                    31.083063054667132,
                    30.962651509021512,
                    30.724766358805375,
                    29.92165739113597,
                    30.040976401856657,
                    29.88461518425422,
                    29.385059375278484,
                    29.34559702187058,
                    29.107711871654438,
                    28.806578859486933,
                    28.643850703613204,
                    28.267560697103285,
                    28.104832541229563,
                    27.53177030134409,
                    27.658338733188263,
                    26.992752138960444,
                    26.770917755597974,
                    26.4537339765768,
                    26.48777805407864,
                    25.91471581419315,
                    25.94875989169499,
                    25.284632021876995,
                    25.409741729311342,
                    25.033451722801424,
                    25.870796214208468,
                    25.718776519763928,
                    26.231266646736696,
                    26.327877493214626,
                    26.591737079264917,
                    26.885120159118415,
                    27.17213630070063,
                    26.800187817348622,
                    27.31267794432137,
                    27.3182231608668,
                    27.817920171414663,
                    27.52112868240507,
                    28.033618809377842,
                    28.33279258594497,
                    28.358139569949234,
                    28.490700088383992,
                    28.97448846334177,
                    29.05373345100142,
                    29.427483250212326,
                    28.906437231314115,
                    29.3586016752962,
                    29.323480845046205,
                    29.800021300062138,
                    29.627378096370563,
                    30.50889454779701,
                    30.293052251025127,
                    30.70168363164048,
                    30.653522683553362,
                    31.062154064168695,
                    30.922927486149078,
                    31.497781491039355,
                    31.37446354860981,
                    31.602373462703277
                  ]
                }
              ],
              "layout": {
                "annotations": [
                  {
                    "arrowhead": 2,
                    "ax": 30,
                    "ay": -40,
                    "showarrow": true,
                    "text": "Pandemia",
                    "x": "2020-04-01",
                    "y": 33.41441237693909
                  },
                  {
                    "arrowhead": 2,
                    "ax": 30,
                    "ay": -40,
                    "showarrow": true,
                    "text": "Pos Pandemia",
                    "x": "2022-04-01",
                    "y": 33.41441237693909
                  }
                ],
                "legend": {
                  "title": {
                    "text": "Legend"
                  }
                },
                "shapes": [
                  {
                    "line": {
                      "color": "black",
                      "dash": "dash"
                    },
                    "type": "line",
                    "x0": "2020-04-01",
                    "x1": "2020-04-01",
                    "y0": 19.24462637306556,
                    "y1": 33.41441237693909
                  },
                  {
                    "line": {
                      "color": "black",
                      "dash": "dash"
                    },
                    "type": "line",
                    "x0": "2022-04-01",
                    "x1": "2022-04-01",
                    "y0": 19.24462637306556,
                    "y1": 33.41441237693909
                  }
                ],
                "template": {
                  "data": {
                    "bar": [
                      {
                        "error_x": {
                          "color": "#2a3f5f"
                        },
                        "error_y": {
                          "color": "#2a3f5f"
                        },
                        "marker": {
                          "line": {
                            "color": "#E5ECF6",
                            "width": 0.5
                          },
                          "pattern": {
                            "fillmode": "overlay",
                            "size": 10,
                            "solidity": 0.2
                          }
                        },
                        "type": "bar"
                      }
                    ],
                    "barpolar": [
                      {
                        "marker": {
                          "line": {
                            "color": "#E5ECF6",
                            "width": 0.5
                          },
                          "pattern": {
                            "fillmode": "overlay",
                            "size": 10,
                            "solidity": 0.2
                          }
                        },
                        "type": "barpolar"
                      }
                    ],
                    "carpet": [
                      {
                        "aaxis": {
                          "endlinecolor": "#2a3f5f",
                          "gridcolor": "white",
                          "linecolor": "white",
                          "minorgridcolor": "white",
                          "startlinecolor": "#2a3f5f"
                        },
                        "baxis": {
                          "endlinecolor": "#2a3f5f",
                          "gridcolor": "white",
                          "linecolor": "white",
                          "minorgridcolor": "white",
                          "startlinecolor": "#2a3f5f"
                        },
                        "type": "carpet"
                      }
                    ],
                    "choropleth": [
                      {
                        "colorbar": {
                          "outlinewidth": 0,
                          "ticks": ""
                        },
                        "type": "choropleth"
                      }
                    ],
                    "contour": [
                      {
                        "colorbar": {
                          "outlinewidth": 0,
                          "ticks": ""
                        },
                        "colorscale": [
                          [
                            0,
                            "#0d0887"
                          ],
                          [
                            0.1111111111111111,
                            "#46039f"
                          ],
                          [
                            0.2222222222222222,
                            "#7201a8"
                          ],
                          [
                            0.3333333333333333,
                            "#9c179e"
                          ],
                          [
                            0.4444444444444444,
                            "#bd3786"
                          ],
                          [
                            0.5555555555555556,
                            "#d8576b"
                          ],
                          [
                            0.6666666666666666,
                            "#ed7953"
                          ],
                          [
                            0.7777777777777778,
                            "#fb9f3a"
                          ],
                          [
                            0.8888888888888888,
                            "#fdca26"
                          ],
                          [
                            1,
                            "#f0f921"
                          ]
                        ],
                        "type": "contour"
                      }
                    ],
                    "contourcarpet": [
                      {
                        "colorbar": {
                          "outlinewidth": 0,
                          "ticks": ""
                        },
                        "type": "contourcarpet"
                      }
                    ],
                    "heatmap": [
                      {
                        "colorbar": {
                          "outlinewidth": 0,
                          "ticks": ""
                        },
                        "colorscale": [
                          [
                            0,
                            "#0d0887"
                          ],
                          [
                            0.1111111111111111,
                            "#46039f"
                          ],
                          [
                            0.2222222222222222,
                            "#7201a8"
                          ],
                          [
                            0.3333333333333333,
                            "#9c179e"
                          ],
                          [
                            0.4444444444444444,
                            "#bd3786"
                          ],
                          [
                            0.5555555555555556,
                            "#d8576b"
                          ],
                          [
                            0.6666666666666666,
                            "#ed7953"
                          ],
                          [
                            0.7777777777777778,
                            "#fb9f3a"
                          ],
                          [
                            0.8888888888888888,
                            "#fdca26"
                          ],
                          [
                            1,
                            "#f0f921"
                          ]
                        ],
                        "type": "heatmap"
                      }
                    ],
                    "heatmapgl": [
                      {
                        "colorbar": {
                          "outlinewidth": 0,
                          "ticks": ""
                        },
                        "colorscale": [
                          [
                            0,
                            "#0d0887"
                          ],
                          [
                            0.1111111111111111,
                            "#46039f"
                          ],
                          [
                            0.2222222222222222,
                            "#7201a8"
                          ],
                          [
                            0.3333333333333333,
                            "#9c179e"
                          ],
                          [
                            0.4444444444444444,
                            "#bd3786"
                          ],
                          [
                            0.5555555555555556,
                            "#d8576b"
                          ],
                          [
                            0.6666666666666666,
                            "#ed7953"
                          ],
                          [
                            0.7777777777777778,
                            "#fb9f3a"
                          ],
                          [
                            0.8888888888888888,
                            "#fdca26"
                          ],
                          [
                            1,
                            "#f0f921"
                          ]
                        ],
                        "type": "heatmapgl"
                      }
                    ],
                    "histogram": [
                      {
                        "marker": {
                          "pattern": {
                            "fillmode": "overlay",
                            "size": 10,
                            "solidity": 0.2
                          }
                        },
                        "type": "histogram"
                      }
                    ],
                    "histogram2d": [
                      {
                        "colorbar": {
                          "outlinewidth": 0,
                          "ticks": ""
                        },
                        "colorscale": [
                          [
                            0,
                            "#0d0887"
                          ],
                          [
                            0.1111111111111111,
                            "#46039f"
                          ],
                          [
                            0.2222222222222222,
                            "#7201a8"
                          ],
                          [
                            0.3333333333333333,
                            "#9c179e"
                          ],
                          [
                            0.4444444444444444,
                            "#bd3786"
                          ],
                          [
                            0.5555555555555556,
                            "#d8576b"
                          ],
                          [
                            0.6666666666666666,
                            "#ed7953"
                          ],
                          [
                            0.7777777777777778,
                            "#fb9f3a"
                          ],
                          [
                            0.8888888888888888,
                            "#fdca26"
                          ],
                          [
                            1,
                            "#f0f921"
                          ]
                        ],
                        "type": "histogram2d"
                      }
                    ],
                    "histogram2dcontour": [
                      {
                        "colorbar": {
                          "outlinewidth": 0,
                          "ticks": ""
                        },
                        "colorscale": [
                          [
                            0,
                            "#0d0887"
                          ],
                          [
                            0.1111111111111111,
                            "#46039f"
                          ],
                          [
                            0.2222222222222222,
                            "#7201a8"
                          ],
                          [
                            0.3333333333333333,
                            "#9c179e"
                          ],
                          [
                            0.4444444444444444,
                            "#bd3786"
                          ],
                          [
                            0.5555555555555556,
                            "#d8576b"
                          ],
                          [
                            0.6666666666666666,
                            "#ed7953"
                          ],
                          [
                            0.7777777777777778,
                            "#fb9f3a"
                          ],
                          [
                            0.8888888888888888,
                            "#fdca26"
                          ],
                          [
                            1,
                            "#f0f921"
                          ]
                        ],
                        "type": "histogram2dcontour"
                      }
                    ],
                    "mesh3d": [
                      {
                        "colorbar": {
                          "outlinewidth": 0,
                          "ticks": ""
                        },
                        "type": "mesh3d"
                      }
                    ],
                    "parcoords": [
                      {
                        "line": {
                          "colorbar": {
                            "outlinewidth": 0,
                            "ticks": ""
                          }
                        },
                        "type": "parcoords"
                      }
                    ],
                    "pie": [
                      {
                        "automargin": true,
                        "type": "pie"
                      }
                    ],
                    "scatter": [
                      {
                        "fillpattern": {
                          "fillmode": "overlay",
                          "size": 10,
                          "solidity": 0.2
                        },
                        "type": "scatter"
                      }
                    ],
                    "scatter3d": [
                      {
                        "line": {
                          "colorbar": {
                            "outlinewidth": 0,
                            "ticks": ""
                          }
                        },
                        "marker": {
                          "colorbar": {
                            "outlinewidth": 0,
                            "ticks": ""
                          }
                        },
                        "type": "scatter3d"
                      }
                    ],
                    "scattercarpet": [
                      {
                        "marker": {
                          "colorbar": {
                            "outlinewidth": 0,
                            "ticks": ""
                          }
                        },
                        "type": "scattercarpet"
                      }
                    ],
                    "scattergeo": [
                      {
                        "marker": {
                          "colorbar": {
                            "outlinewidth": 0,
                            "ticks": ""
                          }
                        },
                        "type": "scattergeo"
                      }
                    ],
                    "scattergl": [
                      {
                        "marker": {
                          "colorbar": {
                            "outlinewidth": 0,
                            "ticks": ""
                          }
                        },
                        "type": "scattergl"
                      }
                    ],
                    "scattermapbox": [
                      {
                        "marker": {
                          "colorbar": {
                            "outlinewidth": 0,
                            "ticks": ""
                          }
                        },
                        "type": "scattermapbox"
                      }
                    ],
                    "scatterpolar": [
                      {
                        "marker": {
                          "colorbar": {
                            "outlinewidth": 0,
                            "ticks": ""
                          }
                        },
                        "type": "scatterpolar"
                      }
                    ],
                    "scatterpolargl": [
                      {
                        "marker": {
                          "colorbar": {
                            "outlinewidth": 0,
                            "ticks": ""
                          }
                        },
                        "type": "scatterpolargl"
                      }
                    ],
                    "scatterternary": [
                      {
                        "marker": {
                          "colorbar": {
                            "outlinewidth": 0,
                            "ticks": ""
                          }
                        },
                        "type": "scatterternary"
                      }
                    ],
                    "surface": [
                      {
                        "colorbar": {
                          "outlinewidth": 0,
                          "ticks": ""
                        },
                        "colorscale": [
                          [
                            0,
                            "#0d0887"
                          ],
                          [
                            0.1111111111111111,
                            "#46039f"
                          ],
                          [
                            0.2222222222222222,
                            "#7201a8"
                          ],
                          [
                            0.3333333333333333,
                            "#9c179e"
                          ],
                          [
                            0.4444444444444444,
                            "#bd3786"
                          ],
                          [
                            0.5555555555555556,
                            "#d8576b"
                          ],
                          [
                            0.6666666666666666,
                            "#ed7953"
                          ],
                          [
                            0.7777777777777778,
                            "#fb9f3a"
                          ],
                          [
                            0.8888888888888888,
                            "#fdca26"
                          ],
                          [
                            1,
                            "#f0f921"
                          ]
                        ],
                        "type": "surface"
                      }
                    ],
                    "table": [
                      {
                        "cells": {
                          "fill": {
                            "color": "#EBF0F8"
                          },
                          "line": {
                            "color": "white"
                          }
                        },
                        "header": {
                          "fill": {
                            "color": "#C8D4E3"
                          },
                          "line": {
                            "color": "white"
                          }
                        },
                        "type": "table"
                      }
                    ]
                  },
                  "layout": {
                    "annotationdefaults": {
                      "arrowcolor": "#2a3f5f",
                      "arrowhead": 0,
                      "arrowwidth": 1
                    },
                    "autotypenumbers": "strict",
                    "coloraxis": {
                      "colorbar": {
                        "outlinewidth": 0,
                        "ticks": ""
                      }
                    },
                    "colorscale": {
                      "diverging": [
                        [
                          0,
                          "#8e0152"
                        ],
                        [
                          0.1,
                          "#c51b7d"
                        ],
                        [
                          0.2,
                          "#de77ae"
                        ],
                        [
                          0.3,
                          "#f1b6da"
                        ],
                        [
                          0.4,
                          "#fde0ef"
                        ],
                        [
                          0.5,
                          "#f7f7f7"
                        ],
                        [
                          0.6,
                          "#e6f5d0"
                        ],
                        [
                          0.7,
                          "#b8e186"
                        ],
                        [
                          0.8,
                          "#7fbc41"
                        ],
                        [
                          0.9,
                          "#4d9221"
                        ],
                        [
                          1,
                          "#276419"
                        ]
                      ],
                      "sequential": [
                        [
                          0,
                          "#0d0887"
                        ],
                        [
                          0.1111111111111111,
                          "#46039f"
                        ],
                        [
                          0.2222222222222222,
                          "#7201a8"
                        ],
                        [
                          0.3333333333333333,
                          "#9c179e"
                        ],
                        [
                          0.4444444444444444,
                          "#bd3786"
                        ],
                        [
                          0.5555555555555556,
                          "#d8576b"
                        ],
                        [
                          0.6666666666666666,
                          "#ed7953"
                        ],
                        [
                          0.7777777777777778,
                          "#fb9f3a"
                        ],
                        [
                          0.8888888888888888,
                          "#fdca26"
                        ],
                        [
                          1,
                          "#f0f921"
                        ]
                      ],
                      "sequentialminus": [
                        [
                          0,
                          "#0d0887"
                        ],
                        [
                          0.1111111111111111,
                          "#46039f"
                        ],
                        [
                          0.2222222222222222,
                          "#7201a8"
                        ],
                        [
                          0.3333333333333333,
                          "#9c179e"
                        ],
                        [
                          0.4444444444444444,
                          "#bd3786"
                        ],
                        [
                          0.5555555555555556,
                          "#d8576b"
                        ],
                        [
                          0.6666666666666666,
                          "#ed7953"
                        ],
                        [
                          0.7777777777777778,
                          "#fb9f3a"
                        ],
                        [
                          0.8888888888888888,
                          "#fdca26"
                        ],
                        [
                          1,
                          "#f0f921"
                        ]
                      ]
                    },
                    "colorway": [
                      "#636efa",
                      "#EF553B",
                      "#00cc96",
                      "#ab63fa",
                      "#FFA15A",
                      "#19d3f3",
                      "#FF6692",
                      "#B6E880",
                      "#FF97FF",
                      "#FECB52"
                    ],
                    "font": {
                      "color": "#2a3f5f"
                    },
                    "geo": {
                      "bgcolor": "white",
                      "lakecolor": "white",
                      "landcolor": "#E5ECF6",
                      "showlakes": true,
                      "showland": true,
                      "subunitcolor": "white"
                    },
                    "hoverlabel": {
                      "align": "left"
                    },
                    "hovermode": "closest",
                    "mapbox": {
                      "style": "light"
                    },
                    "paper_bgcolor": "white",
                    "plot_bgcolor": "#E5ECF6",
                    "polar": {
                      "angularaxis": {
                        "gridcolor": "white",
                        "linecolor": "white",
                        "ticks": ""
                      },
                      "bgcolor": "#E5ECF6",
                      "radialaxis": {
                        "gridcolor": "white",
                        "linecolor": "white",
                        "ticks": ""
                      }
                    },
                    "scene": {
                      "xaxis": {
                        "backgroundcolor": "#E5ECF6",
                        "gridcolor": "white",
                        "gridwidth": 2,
                        "linecolor": "white",
                        "showbackground": true,
                        "ticks": "",
                        "zerolinecolor": "white"
                      },
                      "yaxis": {
                        "backgroundcolor": "#E5ECF6",
                        "gridcolor": "white",
                        "gridwidth": 2,
                        "linecolor": "white",
                        "showbackground": true,
                        "ticks": "",
                        "zerolinecolor": "white"
                      },
                      "zaxis": {
                        "backgroundcolor": "#E5ECF6",
                        "gridcolor": "white",
                        "gridwidth": 2,
                        "linecolor": "white",
                        "showbackground": true,
                        "ticks": "",
                        "zerolinecolor": "white"
                      }
                    },
                    "shapedefaults": {
                      "line": {
                        "color": "#2a3f5f"
                      }
                    },
                    "ternary": {
                      "aaxis": {
                        "gridcolor": "white",
                        "linecolor": "white",
                        "ticks": ""
                      },
                      "baxis": {
                        "gridcolor": "white",
                        "linecolor": "white",
                        "ticks": ""
                      },
                      "bgcolor": "#E5ECF6",
                      "caxis": {
                        "gridcolor": "white",
                        "linecolor": "white",
                        "ticks": ""
                      }
                    },
                    "title": {
                      "x": 0.05
                    },
                    "xaxis": {
                      "automargin": true,
                      "gridcolor": "white",
                      "linecolor": "white",
                      "ticks": "",
                      "title": {
                        "standoff": 15
                      },
                      "zerolinecolor": "white",
                      "zerolinewidth": 2
                    },
                    "yaxis": {
                      "automargin": true,
                      "gridcolor": "white",
                      "linecolor": "white",
                      "ticks": "",
                      "title": {
                        "standoff": 15
                      },
                      "zerolinecolor": "white",
                      "zerolinewidth": 2
                    }
                  }
                },
                "title": {
                  "text": "sul"
                },
                "xaxis": {
                  "title": {
                    "text": "Time"
                  }
                },
                "yaxis": {
                  "title": {
                    "text": "Value"
                  }
                }
              }
            }
          },
          "metadata": {},
          "output_type": "display_data"
        },
        {
          "data": {
            "application/vnd.plotly.v1+json": {
              "config": {
                "plotlyServerURL": "https://plot.ly"
              },
              "data": [
                {
                  "marker": {
                    "color": "black"
                  },
                  "mode": "markers",
                  "name": "Real",
                  "type": "scatter",
                  "x": [
                    "2016-01-01T00:00:00.000000000",
                    "2016-02-01T00:00:00.000000000",
                    "2016-03-01T00:00:00.000000000",
                    "2016-04-01T00:00:00.000000000",
                    "2016-05-01T00:00:00.000000000",
                    "2016-06-01T00:00:00.000000000",
                    "2016-07-01T00:00:00.000000000",
                    "2016-08-01T00:00:00.000000000",
                    "2016-09-01T00:00:00.000000000",
                    "2016-10-01T00:00:00.000000000",
                    "2016-11-01T00:00:00.000000000",
                    "2016-12-01T00:00:00.000000000",
                    "2017-01-01T00:00:00.000000000",
                    "2017-02-01T00:00:00.000000000",
                    "2017-03-01T00:00:00.000000000",
                    "2017-04-01T00:00:00.000000000",
                    "2017-05-01T00:00:00.000000000",
                    "2017-06-01T00:00:00.000000000",
                    "2017-07-01T00:00:00.000000000",
                    "2017-08-01T00:00:00.000000000",
                    "2017-09-01T00:00:00.000000000",
                    "2017-10-01T00:00:00.000000000",
                    "2017-11-01T00:00:00.000000000",
                    "2017-12-01T00:00:00.000000000",
                    "2018-01-01T00:00:00.000000000",
                    "2018-02-01T00:00:00.000000000",
                    "2018-03-01T00:00:00.000000000",
                    "2018-04-01T00:00:00.000000000",
                    "2018-05-01T00:00:00.000000000",
                    "2018-06-01T00:00:00.000000000",
                    "2018-07-01T00:00:00.000000000",
                    "2018-08-01T00:00:00.000000000",
                    "2018-09-01T00:00:00.000000000",
                    "2018-10-01T00:00:00.000000000",
                    "2018-11-01T00:00:00.000000000",
                    "2018-12-01T00:00:00.000000000",
                    "2019-01-01T00:00:00.000000000",
                    "2019-02-01T00:00:00.000000000",
                    "2019-03-01T00:00:00.000000000",
                    "2019-04-01T00:00:00.000000000",
                    "2019-05-01T00:00:00.000000000",
                    "2019-06-01T00:00:00.000000000",
                    "2019-07-01T00:00:00.000000000",
                    "2019-08-01T00:00:00.000000000",
                    "2019-09-01T00:00:00.000000000",
                    "2019-10-01T00:00:00.000000000",
                    "2019-11-01T00:00:00.000000000",
                    "2019-12-01T00:00:00.000000000",
                    "2020-01-01T00:00:00.000000000",
                    "2020-02-01T00:00:00.000000000",
                    "2020-03-01T00:00:00.000000000",
                    "2020-04-01T00:00:00.000000000",
                    "2020-05-01T00:00:00.000000000",
                    "2020-06-01T00:00:00.000000000",
                    "2020-07-01T00:00:00.000000000",
                    "2020-08-01T00:00:00.000000000",
                    "2020-09-01T00:00:00.000000000",
                    "2020-10-01T00:00:00.000000000",
                    "2020-11-01T00:00:00.000000000",
                    "2020-12-01T00:00:00.000000000",
                    "2021-01-01T00:00:00.000000000",
                    "2021-02-01T00:00:00.000000000",
                    "2021-03-01T00:00:00.000000000",
                    "2021-04-01T00:00:00.000000000",
                    "2021-05-01T00:00:00.000000000",
                    "2021-06-01T00:00:00.000000000",
                    "2021-07-01T00:00:00.000000000",
                    "2021-08-01T00:00:00.000000000",
                    "2021-09-01T00:00:00.000000000",
                    "2021-10-01T00:00:00.000000000",
                    "2021-11-01T00:00:00.000000000",
                    "2021-12-01T00:00:00.000000000",
                    "2022-01-01T00:00:00.000000000",
                    "2022-02-01T00:00:00.000000000",
                    "2022-03-01T00:00:00.000000000",
                    "2022-04-01T00:00:00.000000000",
                    "2022-05-01T00:00:00.000000000",
                    "2022-06-01T00:00:00.000000000",
                    "2022-07-01T00:00:00.000000000",
                    "2022-08-01T00:00:00.000000000",
                    "2022-09-01T00:00:00.000000000",
                    "2022-10-01T00:00:00.000000000",
                    "2022-11-01T00:00:00.000000000",
                    "2022-12-01T00:00:00.000000000",
                    "2023-01-01T00:00:00.000000000",
                    "2023-02-01T00:00:00.000000000",
                    "2023-03-01T00:00:00.000000000",
                    "2023-04-01T00:00:00.000000000",
                    "2023-05-01T00:00:00.000000000",
                    "2023-06-01T00:00:00.000000000",
                    "2023-07-01T00:00:00.000000000",
                    "2023-08-01T00:00:00.000000000",
                    "2023-09-01T00:00:00.000000000",
                    "2023-10-01T00:00:00.000000000",
                    "2023-11-01T00:00:00.000000000",
                    "2023-12-01T00:00:00.000000000",
                    "2024-01-01T00:00:00.000000000",
                    "2024-02-01T00:00:00.000000000",
                    "2024-03-01T00:00:00.000000000",
                    "2024-04-01T00:00:00.000000000",
                    "2024-05-01T00:00:00.000000000",
                    "2024-06-01T00:00:00.000000000",
                    "2024-07-01T00:00:00.000000000",
                    "2024-08-01T00:00:00.000000000",
                    "2024-09-01T00:00:00.000000000",
                    "2024-10-01T00:00:00.000000000",
                    "2024-11-01T00:00:00.000000000",
                    "2024-12-01T00:00:00.000000000"
                  ],
                  "y": [
                    16.21476353922419,
                    11.50081305717404,
                    10.74775003398551,
                    10.96721406951991,
                    11.30103385568393,
                    11.50675837651441,
                    11.24098207612927,
                    10.99509605189297,
                    12.14665085054689,
                    12.60059643011841,
                    13.00051514493001,
                    14.3646053101693,
                    14.23616468867614,
                    14.76148735758716,
                    14.76188696749204,
                    15.14359134501428,
                    14.41020960786623,
                    15.45102450408731,
                    15.36138150781766,
                    15.58814298124823,
                    17.06505228557409,
                    18.06155750906033,
                    17.84190947812578,
                    18.05480018412292,
                    17.66984509464858,
                    18.18518730872556,
                    17.95045378577926,
                    18.72909079918519,
                    18.08135020838474,
                    19.56274308315385,
                    18.8856404157346,
                    19.79311460853184,
                    19.75988756269921,
                    20.33716367344779,
                    20.63169704718812,
                    20.21829717908362,
                    19.64045317824733,
                    20.27488278756325,
                    20.42430459809838,
                    19.63190214919149,
                    19.97401196430323,
                    20.77808414973822,
                    22.08271127151851,
                    24.09753919330329,
                    24.50879652856174,
                    24.61146428133453,
                    24.58628536464395,
                    24.81857492401945,
                    24.28588082691289,
                    25.16391699328533,
                    25.16449319005751,
                    31.586773731311,
                    30.04770398432218,
                    28.70785063666342,
                    26.89334084734408,
                    27.74223470570267,
                    28.79176363441885,
                    28.10866990685818,
                    27.53772506425007,
                    27.09318190041782,
                    25.65523646839251,
                    27.27636216803361,
                    26.2061040320222,
                    28.22230211244873,
                    26.45031579131651,
                    26.57161578031634,
                    28.13149961384647,
                    29.40814456535118,
                    30.03777349027119,
                    29.98090772016616,
                    29.08297268614871,
                    27.12568154008039,
                    20.50091788014112,
                    27.46122565051776,
                    28.6866289662284,
                    28.65669234181554,
                    27.09992907510253,
                    25.45315785729112,
                    25.48703224608595,
                    26.94913417637992,
                    29.74795136807938,
                    29.17274461050485,
                    28.43675667261734,
                    28.67752865677373,
                    29.80827743003414,
                    30.71403873939195,
                    29.41020297275323,
                    29.08985624468322,
                    29.7212127795134,
                    30.51921502187427,
                    31.19524540609261,
                    32.40851061232789,
                    33.15369701414679,
                    32.60872485606843,
                    32.36564873933189,
                    32.43238065832724,
                    32.22385739421809,
                    30.75951211608506,
                    28.15716133364882,
                    29.06898657189423,
                    30.5624130123724,
                    31.57533744315084,
                    32.59123306696037,
                    33.70667079457516,
                    33.54226283422123,
                    33.40932597857896,
                    33.45113347693,
                    32.50169407996058
                  ]
                },
                {
                  "line": {
                    "color": "black",
                    "dash": "dot"
                  },
                  "mode": "lines",
                  "name": "Baseline",
                  "type": "scatter",
                  "x": [
                    "2016-01-01T00:00:00.000000000",
                    "2016-02-01T00:00:00.000000000",
                    "2016-03-01T00:00:00.000000000",
                    "2016-04-01T00:00:00.000000000",
                    "2016-05-01T00:00:00.000000000",
                    "2016-06-01T00:00:00.000000000",
                    "2016-07-01T00:00:00.000000000",
                    "2016-08-01T00:00:00.000000000",
                    "2016-09-01T00:00:00.000000000",
                    "2016-10-01T00:00:00.000000000",
                    "2016-11-01T00:00:00.000000000",
                    "2016-12-01T00:00:00.000000000",
                    "2017-01-01T00:00:00.000000000",
                    "2017-02-01T00:00:00.000000000",
                    "2017-03-01T00:00:00.000000000",
                    "2017-04-01T00:00:00.000000000",
                    "2017-05-01T00:00:00.000000000",
                    "2017-06-01T00:00:00.000000000",
                    "2017-07-01T00:00:00.000000000",
                    "2017-08-01T00:00:00.000000000",
                    "2017-09-01T00:00:00.000000000",
                    "2017-10-01T00:00:00.000000000",
                    "2017-11-01T00:00:00.000000000",
                    "2017-12-01T00:00:00.000000000",
                    "2018-01-01T00:00:00.000000000",
                    "2018-02-01T00:00:00.000000000",
                    "2018-03-01T00:00:00.000000000",
                    "2018-04-01T00:00:00.000000000",
                    "2018-05-01T00:00:00.000000000",
                    "2018-06-01T00:00:00.000000000",
                    "2018-07-01T00:00:00.000000000",
                    "2018-08-01T00:00:00.000000000",
                    "2018-09-01T00:00:00.000000000",
                    "2018-10-01T00:00:00.000000000",
                    "2018-11-01T00:00:00.000000000",
                    "2018-12-01T00:00:00.000000000",
                    "2019-01-01T00:00:00.000000000",
                    "2019-02-01T00:00:00.000000000",
                    "2019-03-01T00:00:00.000000000",
                    "2019-04-01T00:00:00.000000000",
                    "2019-05-01T00:00:00.000000000",
                    "2019-06-01T00:00:00.000000000",
                    "2019-07-01T00:00:00.000000000",
                    "2019-08-01T00:00:00.000000000",
                    "2019-09-01T00:00:00.000000000",
                    "2019-10-01T00:00:00.000000000",
                    "2019-11-01T00:00:00.000000000",
                    "2019-12-01T00:00:00.000000000",
                    "2020-01-01T00:00:00.000000000",
                    "2020-02-01T00:00:00.000000000",
                    "2020-03-01T00:00:00.000000000",
                    "2020-04-01T00:00:00.000000000",
                    "2020-05-01T00:00:00.000000000",
                    "2020-06-01T00:00:00.000000000",
                    "2020-07-01T00:00:00.000000000",
                    "2020-08-01T00:00:00.000000000",
                    "2020-09-01T00:00:00.000000000",
                    "2020-10-01T00:00:00.000000000",
                    "2020-11-01T00:00:00.000000000",
                    "2020-12-01T00:00:00.000000000",
                    "2021-01-01T00:00:00.000000000",
                    "2021-02-01T00:00:00.000000000",
                    "2021-03-01T00:00:00.000000000",
                    "2021-04-01T00:00:00.000000000",
                    "2021-05-01T00:00:00.000000000",
                    "2021-06-01T00:00:00.000000000",
                    "2021-07-01T00:00:00.000000000",
                    "2021-08-01T00:00:00.000000000",
                    "2021-09-01T00:00:00.000000000",
                    "2021-10-01T00:00:00.000000000",
                    "2021-11-01T00:00:00.000000000",
                    "2021-12-01T00:00:00.000000000",
                    "2022-01-01T00:00:00.000000000",
                    "2022-02-01T00:00:00.000000000",
                    "2022-03-01T00:00:00.000000000",
                    "2022-04-01T00:00:00.000000000",
                    "2022-05-01T00:00:00.000000000",
                    "2022-06-01T00:00:00.000000000",
                    "2022-07-01T00:00:00.000000000",
                    "2022-08-01T00:00:00.000000000",
                    "2022-09-01T00:00:00.000000000",
                    "2022-10-01T00:00:00.000000000",
                    "2022-11-01T00:00:00.000000000",
                    "2022-12-01T00:00:00.000000000",
                    "2023-01-01T00:00:00.000000000",
                    "2023-02-01T00:00:00.000000000",
                    "2023-03-01T00:00:00.000000000",
                    "2023-04-01T00:00:00.000000000",
                    "2023-05-01T00:00:00.000000000",
                    "2023-06-01T00:00:00.000000000",
                    "2023-07-01T00:00:00.000000000",
                    "2023-08-01T00:00:00.000000000",
                    "2023-09-01T00:00:00.000000000",
                    "2023-10-01T00:00:00.000000000",
                    "2023-11-01T00:00:00.000000000",
                    "2023-12-01T00:00:00.000000000",
                    "2024-01-01T00:00:00.000000000",
                    "2024-02-01T00:00:00.000000000",
                    "2024-03-01T00:00:00.000000000",
                    "2024-04-01T00:00:00.000000000",
                    "2024-05-01T00:00:00.000000000",
                    "2024-06-01T00:00:00.000000000",
                    "2024-07-01T00:00:00.000000000",
                    "2024-08-01T00:00:00.000000000",
                    "2024-09-01T00:00:00.000000000",
                    "2024-10-01T00:00:00.000000000",
                    "2024-11-01T00:00:00.000000000",
                    "2024-12-01T00:00:00.000000000"
                  ],
                  "y": [
                    9.928368856498206,
                    10.229460593061063,
                    10.530552329623918,
                    10.831644066186772,
                    11.132735802749629,
                    11.433827539312484,
                    11.734919275875338,
                    12.036011012438195,
                    12.33710274900105,
                    12.638194485563904,
                    12.93928622212676,
                    13.240377958689615,
                    13.54146969525247,
                    13.842561431815327,
                    14.143653168378181,
                    14.444744904941036,
                    14.745836641503892,
                    15.046928378066747,
                    15.348020114629602,
                    15.649111851192458,
                    15.950203587755313,
                    16.251295324318168,
                    16.552387060881024,
                    16.853478797443877,
                    17.154570534006734,
                    17.45566227056959,
                    17.756754007132443,
                    18.057845743695303,
                    18.358937480258156,
                    18.66002921682101,
                    18.96112095338387,
                    19.262212689946722,
                    19.563304426509575,
                    19.864396163072435,
                    20.165487899635288,
                    20.46657963619814,
                    20.767671372761,
                    21.068763109323854,
                    21.369854845886707,
                    21.670946582449567,
                    21.97203831901242,
                    22.273130055575272,
                    22.574221792138133,
                    22.875313528700985,
                    23.17640526526384,
                    23.4774970018267,
                    23.77858873838955,
                    24.079680474952404,
                    24.380772211515264,
                    24.681863948078117,
                    24.982955684640974,
                    25.28404742120383,
                    25.585139157766683,
                    25.886230894329536,
                    26.187322630892396,
                    26.48841436745525,
                    26.789506104018102,
                    27.090597840580962,
                    27.391689577143815,
                    27.692781313706668,
                    27.993873050269528,
                    28.29496478683238,
                    28.596056523395234,
                    28.897148259958094,
                    29.198239996520947,
                    29.4993317330838,
                    29.80042346964666,
                    30.101515206209513,
                    30.402606942772366,
                    30.703698679335226,
                    31.00479041589808,
                    31.30588215246093,
                    31.60697388902379,
                    31.908065625586644,
                    32.2091573621495,
                    32.51024909871236,
                    32.81134083527521,
                    33.11243257183806,
                    33.41352430840092,
                    33.714616044963776,
                    34.01570778152663,
                    34.31679951808949,
                    34.61789125465234,
                    34.918982991215195,
                    35.220074727778055,
                    35.52116646434091,
                    35.82225820090376,
                    36.12334993746662,
                    36.424441674029474,
                    36.72553341059233,
                    37.02662514715519,
                    37.32771688371804,
                    37.62880862028089,
                    37.92990035684375,
                    38.230992093406606,
                    38.53208382996946,
                    38.83317556653232,
                    39.13426730309517,
                    39.43535903965803,
                    39.736450776220885,
                    40.03754251278374,
                    40.3386342493466,
                    40.63972598590945,
                    40.9408177224723,
                    41.24190945903516,
                    41.543001195598016,
                    41.84409293216087,
                    42.14518466872372
                  ]
                },
                {
                  "line": {
                    "color": "purple"
                  },
                  "mode": "lines",
                  "name": "Full model",
                  "type": "scatter",
                  "x": [
                    "2016-01-01T00:00:00.000000000",
                    "2016-02-01T00:00:00.000000000",
                    "2016-03-01T00:00:00.000000000",
                    "2016-04-01T00:00:00.000000000",
                    "2016-05-01T00:00:00.000000000",
                    "2016-06-01T00:00:00.000000000",
                    "2016-07-01T00:00:00.000000000",
                    "2016-08-01T00:00:00.000000000",
                    "2016-09-01T00:00:00.000000000",
                    "2016-10-01T00:00:00.000000000",
                    "2016-11-01T00:00:00.000000000",
                    "2016-12-01T00:00:00.000000000",
                    "2017-01-01T00:00:00.000000000",
                    "2017-02-01T00:00:00.000000000",
                    "2017-03-01T00:00:00.000000000",
                    "2017-04-01T00:00:00.000000000",
                    "2017-05-01T00:00:00.000000000",
                    "2017-06-01T00:00:00.000000000",
                    "2017-07-01T00:00:00.000000000",
                    "2017-08-01T00:00:00.000000000",
                    "2017-09-01T00:00:00.000000000",
                    "2017-10-01T00:00:00.000000000",
                    "2017-11-01T00:00:00.000000000",
                    "2017-12-01T00:00:00.000000000",
                    "2018-01-01T00:00:00.000000000",
                    "2018-02-01T00:00:00.000000000",
                    "2018-03-01T00:00:00.000000000",
                    "2018-04-01T00:00:00.000000000",
                    "2018-05-01T00:00:00.000000000",
                    "2018-06-01T00:00:00.000000000",
                    "2018-07-01T00:00:00.000000000",
                    "2018-08-01T00:00:00.000000000",
                    "2018-09-01T00:00:00.000000000",
                    "2018-10-01T00:00:00.000000000",
                    "2018-11-01T00:00:00.000000000",
                    "2018-12-01T00:00:00.000000000",
                    "2019-01-01T00:00:00.000000000",
                    "2019-02-01T00:00:00.000000000",
                    "2019-03-01T00:00:00.000000000",
                    "2019-04-01T00:00:00.000000000",
                    "2019-05-01T00:00:00.000000000",
                    "2019-06-01T00:00:00.000000000",
                    "2019-07-01T00:00:00.000000000",
                    "2019-08-01T00:00:00.000000000",
                    "2019-09-01T00:00:00.000000000",
                    "2019-10-01T00:00:00.000000000",
                    "2019-11-01T00:00:00.000000000",
                    "2019-12-01T00:00:00.000000000",
                    "2020-01-01T00:00:00.000000000",
                    "2020-02-01T00:00:00.000000000",
                    "2020-03-01T00:00:00.000000000",
                    "2020-04-01T00:00:00.000000000",
                    "2020-05-01T00:00:00.000000000",
                    "2020-06-01T00:00:00.000000000",
                    "2020-07-01T00:00:00.000000000",
                    "2020-08-01T00:00:00.000000000",
                    "2020-09-01T00:00:00.000000000",
                    "2020-10-01T00:00:00.000000000",
                    "2020-11-01T00:00:00.000000000",
                    "2020-12-01T00:00:00.000000000",
                    "2021-01-01T00:00:00.000000000",
                    "2021-02-01T00:00:00.000000000",
                    "2021-03-01T00:00:00.000000000",
                    "2021-04-01T00:00:00.000000000",
                    "2021-05-01T00:00:00.000000000",
                    "2021-06-01T00:00:00.000000000",
                    "2021-07-01T00:00:00.000000000",
                    "2021-08-01T00:00:00.000000000",
                    "2021-09-01T00:00:00.000000000",
                    "2021-10-01T00:00:00.000000000",
                    "2021-11-01T00:00:00.000000000",
                    "2021-12-01T00:00:00.000000000",
                    "2022-01-01T00:00:00.000000000",
                    "2022-02-01T00:00:00.000000000",
                    "2022-03-01T00:00:00.000000000",
                    "2022-04-01T00:00:00.000000000",
                    "2022-05-01T00:00:00.000000000",
                    "2022-06-01T00:00:00.000000000",
                    "2022-07-01T00:00:00.000000000",
                    "2022-08-01T00:00:00.000000000",
                    "2022-09-01T00:00:00.000000000",
                    "2022-10-01T00:00:00.000000000",
                    "2022-11-01T00:00:00.000000000",
                    "2022-12-01T00:00:00.000000000",
                    "2023-01-01T00:00:00.000000000",
                    "2023-02-01T00:00:00.000000000",
                    "2023-03-01T00:00:00.000000000",
                    "2023-04-01T00:00:00.000000000",
                    "2023-05-01T00:00:00.000000000",
                    "2023-06-01T00:00:00.000000000",
                    "2023-07-01T00:00:00.000000000",
                    "2023-08-01T00:00:00.000000000",
                    "2023-09-01T00:00:00.000000000",
                    "2023-10-01T00:00:00.000000000",
                    "2023-11-01T00:00:00.000000000",
                    "2023-12-01T00:00:00.000000000",
                    "2024-01-01T00:00:00.000000000",
                    "2024-02-01T00:00:00.000000000",
                    "2024-03-01T00:00:00.000000000",
                    "2024-04-01T00:00:00.000000000",
                    "2024-05-01T00:00:00.000000000",
                    "2024-06-01T00:00:00.000000000",
                    "2024-07-01T00:00:00.000000000",
                    "2024-08-01T00:00:00.000000000",
                    "2024-09-01T00:00:00.000000000",
                    "2024-10-01T00:00:00.000000000",
                    "2024-11-01T00:00:00.000000000",
                    "2024-12-01T00:00:00.000000000"
                  ],
                  "y": [
                    10.057510111310949,
                    10.31632678951773,
                    9.99360910794466,
                    11.186532304334516,
                    11.261877057562367,
                    11.681892290491636,
                    11.917329083530646,
                    12.390899250585939,
                    12.466244003813792,
                    12.993082723711648,
                    12.402343000447505,
                    13.488442709868767,
                    13.723879502907778,
                    13.951745396116143,
                    14.01486673768924,
                    14.531611101397703,
                    14.208893419824637,
                    15.133794574523417,
                    15.477161369442335,
                    15.735978047649128,
                    16.07934484256805,
                    16.499360075497318,
                    16.423600630192077,
                    16.853123973320077,
                    17.02578410331779,
                    17.810550508717334,
                    17.487478003020467,
                    18.144711940151968,
                    18.089661476146173,
                    18.90809396800016,
                    19.143530761039184,
                    19.510277441125872,
                    19.29402842239759,
                    20.15327463357254,
                    20.03670146894635,
                    20.82146787434588,
                    20.30359917031244,
                    21.177947073624665,
                    21.24106841519777,
                    21.75781277890623,
                    21.435095097333164,
                    22.272775231451472,
                    22.445435361449196,
                    22.874958704577182,
                    22.907129261151855,
                    23.564363198283367,
                    23.960998546044866,
                    24.18886443925322,
                    24.25198578082633,
                    24.76873014453479,
                    24.854169253952037,
                    29.330067139261534,
                    29.00638079580468,
                    29.026778686058577,
                    29.048241048683867,
                    28.920250041860704,
                    28.166089139569394,
                    28.594643820813612,
                    28.61610618343891,
                    28.48811517661573,
                    27.806825293555114,
                    28.45174225019255,
                    27.785554059269217,
                    28.23567481757006,
                    27.96790388557143,
                    28.085617152595216,
                    27.805105005791546,
                    27.869549719972724,
                    26.869684543834484,
                    27.65348228735025,
                    27.319701587703992,
                    27.371405087080113,
                    26.43754967858952,
                    27.15533765445764,
                    26.629639036957336,
                    27.40824861866937,
                    27.21885960279608,
                    27.764072755904213,
                    27.737491081298085,
                    28.14221466098319,
                    28.37356067187871,
                    28.4331355454817,
                    28.353285318032988,
                    29.05969702586362,
                    29.183113034879277,
                    29.437838930942597,
                    29.56125493995826,
                    29.922804322990178,
                    29.939396845037248,
                    30.05524195422223,
                    30.26427019727363,
                    30.433383859301205,
                    30.049198645091344,
                    31.057230038227118,
                    30.427340550170307,
                    31.080128881034554,
                    31.000278653585873,
                    31.458270786113534,
                    31.83010637043215,
                    31.94595147961714,
                    31.897052037166848,
                    32.2145545962715,
                    32.5863901805901,
                    32.84111607665342,
                    32.51284627390181,
                    33.2192579817324,
                    33.289405437905465,
                    33.45851909993304
                  ]
                }
              ],
              "layout": {
                "annotations": [
                  {
                    "arrowhead": 2,
                    "ax": 30,
                    "ay": -40,
                    "showarrow": true,
                    "text": "Pandemia",
                    "x": "2020-04-01",
                    "y": 33.70667079457516
                  },
                  {
                    "arrowhead": 2,
                    "ax": 30,
                    "ay": -40,
                    "showarrow": true,
                    "text": "Pos Pandemia",
                    "x": "2022-04-01",
                    "y": 33.70667079457516
                  }
                ],
                "legend": {
                  "title": {
                    "text": "Legend"
                  }
                },
                "shapes": [
                  {
                    "line": {
                      "color": "black",
                      "dash": "dash"
                    },
                    "type": "line",
                    "x0": "2020-04-01",
                    "x1": "2020-04-01",
                    "y0": 10.74775003398551,
                    "y1": 33.70667079457516
                  },
                  {
                    "line": {
                      "color": "black",
                      "dash": "dash"
                    },
                    "type": "line",
                    "x0": "2022-04-01",
                    "x1": "2022-04-01",
                    "y0": 10.74775003398551,
                    "y1": 33.70667079457516
                  }
                ],
                "template": {
                  "data": {
                    "bar": [
                      {
                        "error_x": {
                          "color": "#2a3f5f"
                        },
                        "error_y": {
                          "color": "#2a3f5f"
                        },
                        "marker": {
                          "line": {
                            "color": "#E5ECF6",
                            "width": 0.5
                          },
                          "pattern": {
                            "fillmode": "overlay",
                            "size": 10,
                            "solidity": 0.2
                          }
                        },
                        "type": "bar"
                      }
                    ],
                    "barpolar": [
                      {
                        "marker": {
                          "line": {
                            "color": "#E5ECF6",
                            "width": 0.5
                          },
                          "pattern": {
                            "fillmode": "overlay",
                            "size": 10,
                            "solidity": 0.2
                          }
                        },
                        "type": "barpolar"
                      }
                    ],
                    "carpet": [
                      {
                        "aaxis": {
                          "endlinecolor": "#2a3f5f",
                          "gridcolor": "white",
                          "linecolor": "white",
                          "minorgridcolor": "white",
                          "startlinecolor": "#2a3f5f"
                        },
                        "baxis": {
                          "endlinecolor": "#2a3f5f",
                          "gridcolor": "white",
                          "linecolor": "white",
                          "minorgridcolor": "white",
                          "startlinecolor": "#2a3f5f"
                        },
                        "type": "carpet"
                      }
                    ],
                    "choropleth": [
                      {
                        "colorbar": {
                          "outlinewidth": 0,
                          "ticks": ""
                        },
                        "type": "choropleth"
                      }
                    ],
                    "contour": [
                      {
                        "colorbar": {
                          "outlinewidth": 0,
                          "ticks": ""
                        },
                        "colorscale": [
                          [
                            0,
                            "#0d0887"
                          ],
                          [
                            0.1111111111111111,
                            "#46039f"
                          ],
                          [
                            0.2222222222222222,
                            "#7201a8"
                          ],
                          [
                            0.3333333333333333,
                            "#9c179e"
                          ],
                          [
                            0.4444444444444444,
                            "#bd3786"
                          ],
                          [
                            0.5555555555555556,
                            "#d8576b"
                          ],
                          [
                            0.6666666666666666,
                            "#ed7953"
                          ],
                          [
                            0.7777777777777778,
                            "#fb9f3a"
                          ],
                          [
                            0.8888888888888888,
                            "#fdca26"
                          ],
                          [
                            1,
                            "#f0f921"
                          ]
                        ],
                        "type": "contour"
                      }
                    ],
                    "contourcarpet": [
                      {
                        "colorbar": {
                          "outlinewidth": 0,
                          "ticks": ""
                        },
                        "type": "contourcarpet"
                      }
                    ],
                    "heatmap": [
                      {
                        "colorbar": {
                          "outlinewidth": 0,
                          "ticks": ""
                        },
                        "colorscale": [
                          [
                            0,
                            "#0d0887"
                          ],
                          [
                            0.1111111111111111,
                            "#46039f"
                          ],
                          [
                            0.2222222222222222,
                            "#7201a8"
                          ],
                          [
                            0.3333333333333333,
                            "#9c179e"
                          ],
                          [
                            0.4444444444444444,
                            "#bd3786"
                          ],
                          [
                            0.5555555555555556,
                            "#d8576b"
                          ],
                          [
                            0.6666666666666666,
                            "#ed7953"
                          ],
                          [
                            0.7777777777777778,
                            "#fb9f3a"
                          ],
                          [
                            0.8888888888888888,
                            "#fdca26"
                          ],
                          [
                            1,
                            "#f0f921"
                          ]
                        ],
                        "type": "heatmap"
                      }
                    ],
                    "heatmapgl": [
                      {
                        "colorbar": {
                          "outlinewidth": 0,
                          "ticks": ""
                        },
                        "colorscale": [
                          [
                            0,
                            "#0d0887"
                          ],
                          [
                            0.1111111111111111,
                            "#46039f"
                          ],
                          [
                            0.2222222222222222,
                            "#7201a8"
                          ],
                          [
                            0.3333333333333333,
                            "#9c179e"
                          ],
                          [
                            0.4444444444444444,
                            "#bd3786"
                          ],
                          [
                            0.5555555555555556,
                            "#d8576b"
                          ],
                          [
                            0.6666666666666666,
                            "#ed7953"
                          ],
                          [
                            0.7777777777777778,
                            "#fb9f3a"
                          ],
                          [
                            0.8888888888888888,
                            "#fdca26"
                          ],
                          [
                            1,
                            "#f0f921"
                          ]
                        ],
                        "type": "heatmapgl"
                      }
                    ],
                    "histogram": [
                      {
                        "marker": {
                          "pattern": {
                            "fillmode": "overlay",
                            "size": 10,
                            "solidity": 0.2
                          }
                        },
                        "type": "histogram"
                      }
                    ],
                    "histogram2d": [
                      {
                        "colorbar": {
                          "outlinewidth": 0,
                          "ticks": ""
                        },
                        "colorscale": [
                          [
                            0,
                            "#0d0887"
                          ],
                          [
                            0.1111111111111111,
                            "#46039f"
                          ],
                          [
                            0.2222222222222222,
                            "#7201a8"
                          ],
                          [
                            0.3333333333333333,
                            "#9c179e"
                          ],
                          [
                            0.4444444444444444,
                            "#bd3786"
                          ],
                          [
                            0.5555555555555556,
                            "#d8576b"
                          ],
                          [
                            0.6666666666666666,
                            "#ed7953"
                          ],
                          [
                            0.7777777777777778,
                            "#fb9f3a"
                          ],
                          [
                            0.8888888888888888,
                            "#fdca26"
                          ],
                          [
                            1,
                            "#f0f921"
                          ]
                        ],
                        "type": "histogram2d"
                      }
                    ],
                    "histogram2dcontour": [
                      {
                        "colorbar": {
                          "outlinewidth": 0,
                          "ticks": ""
                        },
                        "colorscale": [
                          [
                            0,
                            "#0d0887"
                          ],
                          [
                            0.1111111111111111,
                            "#46039f"
                          ],
                          [
                            0.2222222222222222,
                            "#7201a8"
                          ],
                          [
                            0.3333333333333333,
                            "#9c179e"
                          ],
                          [
                            0.4444444444444444,
                            "#bd3786"
                          ],
                          [
                            0.5555555555555556,
                            "#d8576b"
                          ],
                          [
                            0.6666666666666666,
                            "#ed7953"
                          ],
                          [
                            0.7777777777777778,
                            "#fb9f3a"
                          ],
                          [
                            0.8888888888888888,
                            "#fdca26"
                          ],
                          [
                            1,
                            "#f0f921"
                          ]
                        ],
                        "type": "histogram2dcontour"
                      }
                    ],
                    "mesh3d": [
                      {
                        "colorbar": {
                          "outlinewidth": 0,
                          "ticks": ""
                        },
                        "type": "mesh3d"
                      }
                    ],
                    "parcoords": [
                      {
                        "line": {
                          "colorbar": {
                            "outlinewidth": 0,
                            "ticks": ""
                          }
                        },
                        "type": "parcoords"
                      }
                    ],
                    "pie": [
                      {
                        "automargin": true,
                        "type": "pie"
                      }
                    ],
                    "scatter": [
                      {
                        "fillpattern": {
                          "fillmode": "overlay",
                          "size": 10,
                          "solidity": 0.2
                        },
                        "type": "scatter"
                      }
                    ],
                    "scatter3d": [
                      {
                        "line": {
                          "colorbar": {
                            "outlinewidth": 0,
                            "ticks": ""
                          }
                        },
                        "marker": {
                          "colorbar": {
                            "outlinewidth": 0,
                            "ticks": ""
                          }
                        },
                        "type": "scatter3d"
                      }
                    ],
                    "scattercarpet": [
                      {
                        "marker": {
                          "colorbar": {
                            "outlinewidth": 0,
                            "ticks": ""
                          }
                        },
                        "type": "scattercarpet"
                      }
                    ],
                    "scattergeo": [
                      {
                        "marker": {
                          "colorbar": {
                            "outlinewidth": 0,
                            "ticks": ""
                          }
                        },
                        "type": "scattergeo"
                      }
                    ],
                    "scattergl": [
                      {
                        "marker": {
                          "colorbar": {
                            "outlinewidth": 0,
                            "ticks": ""
                          }
                        },
                        "type": "scattergl"
                      }
                    ],
                    "scattermapbox": [
                      {
                        "marker": {
                          "colorbar": {
                            "outlinewidth": 0,
                            "ticks": ""
                          }
                        },
                        "type": "scattermapbox"
                      }
                    ],
                    "scatterpolar": [
                      {
                        "marker": {
                          "colorbar": {
                            "outlinewidth": 0,
                            "ticks": ""
                          }
                        },
                        "type": "scatterpolar"
                      }
                    ],
                    "scatterpolargl": [
                      {
                        "marker": {
                          "colorbar": {
                            "outlinewidth": 0,
                            "ticks": ""
                          }
                        },
                        "type": "scatterpolargl"
                      }
                    ],
                    "scatterternary": [
                      {
                        "marker": {
                          "colorbar": {
                            "outlinewidth": 0,
                            "ticks": ""
                          }
                        },
                        "type": "scatterternary"
                      }
                    ],
                    "surface": [
                      {
                        "colorbar": {
                          "outlinewidth": 0,
                          "ticks": ""
                        },
                        "colorscale": [
                          [
                            0,
                            "#0d0887"
                          ],
                          [
                            0.1111111111111111,
                            "#46039f"
                          ],
                          [
                            0.2222222222222222,
                            "#7201a8"
                          ],
                          [
                            0.3333333333333333,
                            "#9c179e"
                          ],
                          [
                            0.4444444444444444,
                            "#bd3786"
                          ],
                          [
                            0.5555555555555556,
                            "#d8576b"
                          ],
                          [
                            0.6666666666666666,
                            "#ed7953"
                          ],
                          [
                            0.7777777777777778,
                            "#fb9f3a"
                          ],
                          [
                            0.8888888888888888,
                            "#fdca26"
                          ],
                          [
                            1,
                            "#f0f921"
                          ]
                        ],
                        "type": "surface"
                      }
                    ],
                    "table": [
                      {
                        "cells": {
                          "fill": {
                            "color": "#EBF0F8"
                          },
                          "line": {
                            "color": "white"
                          }
                        },
                        "header": {
                          "fill": {
                            "color": "#C8D4E3"
                          },
                          "line": {
                            "color": "white"
                          }
                        },
                        "type": "table"
                      }
                    ]
                  },
                  "layout": {
                    "annotationdefaults": {
                      "arrowcolor": "#2a3f5f",
                      "arrowhead": 0,
                      "arrowwidth": 1
                    },
                    "autotypenumbers": "strict",
                    "coloraxis": {
                      "colorbar": {
                        "outlinewidth": 0,
                        "ticks": ""
                      }
                    },
                    "colorscale": {
                      "diverging": [
                        [
                          0,
                          "#8e0152"
                        ],
                        [
                          0.1,
                          "#c51b7d"
                        ],
                        [
                          0.2,
                          "#de77ae"
                        ],
                        [
                          0.3,
                          "#f1b6da"
                        ],
                        [
                          0.4,
                          "#fde0ef"
                        ],
                        [
                          0.5,
                          "#f7f7f7"
                        ],
                        [
                          0.6,
                          "#e6f5d0"
                        ],
                        [
                          0.7,
                          "#b8e186"
                        ],
                        [
                          0.8,
                          "#7fbc41"
                        ],
                        [
                          0.9,
                          "#4d9221"
                        ],
                        [
                          1,
                          "#276419"
                        ]
                      ],
                      "sequential": [
                        [
                          0,
                          "#0d0887"
                        ],
                        [
                          0.1111111111111111,
                          "#46039f"
                        ],
                        [
                          0.2222222222222222,
                          "#7201a8"
                        ],
                        [
                          0.3333333333333333,
                          "#9c179e"
                        ],
                        [
                          0.4444444444444444,
                          "#bd3786"
                        ],
                        [
                          0.5555555555555556,
                          "#d8576b"
                        ],
                        [
                          0.6666666666666666,
                          "#ed7953"
                        ],
                        [
                          0.7777777777777778,
                          "#fb9f3a"
                        ],
                        [
                          0.8888888888888888,
                          "#fdca26"
                        ],
                        [
                          1,
                          "#f0f921"
                        ]
                      ],
                      "sequentialminus": [
                        [
                          0,
                          "#0d0887"
                        ],
                        [
                          0.1111111111111111,
                          "#46039f"
                        ],
                        [
                          0.2222222222222222,
                          "#7201a8"
                        ],
                        [
                          0.3333333333333333,
                          "#9c179e"
                        ],
                        [
                          0.4444444444444444,
                          "#bd3786"
                        ],
                        [
                          0.5555555555555556,
                          "#d8576b"
                        ],
                        [
                          0.6666666666666666,
                          "#ed7953"
                        ],
                        [
                          0.7777777777777778,
                          "#fb9f3a"
                        ],
                        [
                          0.8888888888888888,
                          "#fdca26"
                        ],
                        [
                          1,
                          "#f0f921"
                        ]
                      ]
                    },
                    "colorway": [
                      "#636efa",
                      "#EF553B",
                      "#00cc96",
                      "#ab63fa",
                      "#FFA15A",
                      "#19d3f3",
                      "#FF6692",
                      "#B6E880",
                      "#FF97FF",
                      "#FECB52"
                    ],
                    "font": {
                      "color": "#2a3f5f"
                    },
                    "geo": {
                      "bgcolor": "white",
                      "lakecolor": "white",
                      "landcolor": "#E5ECF6",
                      "showlakes": true,
                      "showland": true,
                      "subunitcolor": "white"
                    },
                    "hoverlabel": {
                      "align": "left"
                    },
                    "hovermode": "closest",
                    "mapbox": {
                      "style": "light"
                    },
                    "paper_bgcolor": "white",
                    "plot_bgcolor": "#E5ECF6",
                    "polar": {
                      "angularaxis": {
                        "gridcolor": "white",
                        "linecolor": "white",
                        "ticks": ""
                      },
                      "bgcolor": "#E5ECF6",
                      "radialaxis": {
                        "gridcolor": "white",
                        "linecolor": "white",
                        "ticks": ""
                      }
                    },
                    "scene": {
                      "xaxis": {
                        "backgroundcolor": "#E5ECF6",
                        "gridcolor": "white",
                        "gridwidth": 2,
                        "linecolor": "white",
                        "showbackground": true,
                        "ticks": "",
                        "zerolinecolor": "white"
                      },
                      "yaxis": {
                        "backgroundcolor": "#E5ECF6",
                        "gridcolor": "white",
                        "gridwidth": 2,
                        "linecolor": "white",
                        "showbackground": true,
                        "ticks": "",
                        "zerolinecolor": "white"
                      },
                      "zaxis": {
                        "backgroundcolor": "#E5ECF6",
                        "gridcolor": "white",
                        "gridwidth": 2,
                        "linecolor": "white",
                        "showbackground": true,
                        "ticks": "",
                        "zerolinecolor": "white"
                      }
                    },
                    "shapedefaults": {
                      "line": {
                        "color": "#2a3f5f"
                      }
                    },
                    "ternary": {
                      "aaxis": {
                        "gridcolor": "white",
                        "linecolor": "white",
                        "ticks": ""
                      },
                      "baxis": {
                        "gridcolor": "white",
                        "linecolor": "white",
                        "ticks": ""
                      },
                      "bgcolor": "#E5ECF6",
                      "caxis": {
                        "gridcolor": "white",
                        "linecolor": "white",
                        "ticks": ""
                      }
                    },
                    "title": {
                      "x": 0.05
                    },
                    "xaxis": {
                      "automargin": true,
                      "gridcolor": "white",
                      "linecolor": "white",
                      "ticks": "",
                      "title": {
                        "standoff": 15
                      },
                      "zerolinecolor": "white",
                      "zerolinewidth": 2
                    },
                    "yaxis": {
                      "automargin": true,
                      "gridcolor": "white",
                      "linecolor": "white",
                      "ticks": "",
                      "title": {
                        "standoff": 15
                      },
                      "zerolinecolor": "white",
                      "zerolinewidth": 2
                    }
                  }
                },
                "title": {
                  "text": "sudeste"
                },
                "xaxis": {
                  "title": {
                    "text": "Time"
                  }
                },
                "yaxis": {
                  "title": {
                    "text": "Value"
                  }
                }
              }
            }
          },
          "metadata": {},
          "output_type": "display_data"
        },
        {
          "data": {
            "application/vnd.plotly.v1+json": {
              "config": {
                "plotlyServerURL": "https://plot.ly"
              },
              "data": [
                {
                  "marker": {
                    "color": "black"
                  },
                  "mode": "markers",
                  "name": "Real",
                  "type": "scatter",
                  "x": [
                    "2016-01-01T00:00:00.000000000",
                    "2016-02-01T00:00:00.000000000",
                    "2016-03-01T00:00:00.000000000",
                    "2016-04-01T00:00:00.000000000",
                    "2016-05-01T00:00:00.000000000",
                    "2016-06-01T00:00:00.000000000",
                    "2016-07-01T00:00:00.000000000",
                    "2016-08-01T00:00:00.000000000",
                    "2016-09-01T00:00:00.000000000",
                    "2016-10-01T00:00:00.000000000",
                    "2016-11-01T00:00:00.000000000",
                    "2016-12-01T00:00:00.000000000",
                    "2017-01-01T00:00:00.000000000",
                    "2017-02-01T00:00:00.000000000",
                    "2017-03-01T00:00:00.000000000",
                    "2017-04-01T00:00:00.000000000",
                    "2017-05-01T00:00:00.000000000",
                    "2017-06-01T00:00:00.000000000",
                    "2017-07-01T00:00:00.000000000",
                    "2017-08-01T00:00:00.000000000",
                    "2017-09-01T00:00:00.000000000",
                    "2017-10-01T00:00:00.000000000",
                    "2017-11-01T00:00:00.000000000",
                    "2017-12-01T00:00:00.000000000",
                    "2018-01-01T00:00:00.000000000",
                    "2018-02-01T00:00:00.000000000",
                    "2018-03-01T00:00:00.000000000",
                    "2018-04-01T00:00:00.000000000",
                    "2018-05-01T00:00:00.000000000",
                    "2018-06-01T00:00:00.000000000",
                    "2018-07-01T00:00:00.000000000",
                    "2018-08-01T00:00:00.000000000",
                    "2018-09-01T00:00:00.000000000",
                    "2018-10-01T00:00:00.000000000",
                    "2018-11-01T00:00:00.000000000",
                    "2018-12-01T00:00:00.000000000",
                    "2019-01-01T00:00:00.000000000",
                    "2019-02-01T00:00:00.000000000",
                    "2019-03-01T00:00:00.000000000",
                    "2019-04-01T00:00:00.000000000",
                    "2019-05-01T00:00:00.000000000",
                    "2019-06-01T00:00:00.000000000",
                    "2019-07-01T00:00:00.000000000",
                    "2019-08-01T00:00:00.000000000",
                    "2019-09-01T00:00:00.000000000",
                    "2019-10-01T00:00:00.000000000",
                    "2019-11-01T00:00:00.000000000",
                    "2019-12-01T00:00:00.000000000",
                    "2020-01-01T00:00:00.000000000",
                    "2020-02-01T00:00:00.000000000",
                    "2020-03-01T00:00:00.000000000",
                    "2020-04-01T00:00:00.000000000",
                    "2020-05-01T00:00:00.000000000",
                    "2020-06-01T00:00:00.000000000",
                    "2020-07-01T00:00:00.000000000",
                    "2020-08-01T00:00:00.000000000",
                    "2020-09-01T00:00:00.000000000",
                    "2020-10-01T00:00:00.000000000",
                    "2020-11-01T00:00:00.000000000",
                    "2020-12-01T00:00:00.000000000",
                    "2021-01-01T00:00:00.000000000",
                    "2021-02-01T00:00:00.000000000",
                    "2021-03-01T00:00:00.000000000",
                    "2021-04-01T00:00:00.000000000",
                    "2021-05-01T00:00:00.000000000",
                    "2021-06-01T00:00:00.000000000",
                    "2021-07-01T00:00:00.000000000",
                    "2021-08-01T00:00:00.000000000",
                    "2021-09-01T00:00:00.000000000",
                    "2021-10-01T00:00:00.000000000",
                    "2021-11-01T00:00:00.000000000",
                    "2021-12-01T00:00:00.000000000",
                    "2022-01-01T00:00:00.000000000",
                    "2022-02-01T00:00:00.000000000",
                    "2022-03-01T00:00:00.000000000",
                    "2022-04-01T00:00:00.000000000",
                    "2022-05-01T00:00:00.000000000",
                    "2022-06-01T00:00:00.000000000",
                    "2022-07-01T00:00:00.000000000",
                    "2022-08-01T00:00:00.000000000",
                    "2022-09-01T00:00:00.000000000",
                    "2022-10-01T00:00:00.000000000",
                    "2022-11-01T00:00:00.000000000",
                    "2022-12-01T00:00:00.000000000",
                    "2023-01-01T00:00:00.000000000",
                    "2023-02-01T00:00:00.000000000",
                    "2023-03-01T00:00:00.000000000",
                    "2023-04-01T00:00:00.000000000",
                    "2023-05-01T00:00:00.000000000",
                    "2023-06-01T00:00:00.000000000",
                    "2023-07-01T00:00:00.000000000",
                    "2023-08-01T00:00:00.000000000",
                    "2023-09-01T00:00:00.000000000",
                    "2023-10-01T00:00:00.000000000",
                    "2023-11-01T00:00:00.000000000",
                    "2023-12-01T00:00:00.000000000",
                    "2024-01-01T00:00:00.000000000",
                    "2024-02-01T00:00:00.000000000",
                    "2024-03-01T00:00:00.000000000",
                    "2024-04-01T00:00:00.000000000",
                    "2024-05-01T00:00:00.000000000",
                    "2024-06-01T00:00:00.000000000",
                    "2024-07-01T00:00:00.000000000",
                    "2024-08-01T00:00:00.000000000",
                    "2024-09-01T00:00:00.000000000",
                    "2024-10-01T00:00:00.000000000",
                    "2024-11-01T00:00:00.000000000",
                    "2024-12-01T00:00:00.000000000"
                  ],
                  "y": [
                    5.946742295242025,
                    6.282080560599972,
                    5.749588998456467,
                    5.270734376769087,
                    5.774105374287252,
                    5.853646140297892,
                    5.820463368075251,
                    6.022456617897244,
                    6.074463563669807,
                    6.282226041604931,
                    5.648787204446263,
                    6.793883749100293,
                    5.6674780538125,
                    5.52117598003852,
                    5.789346006569311,
                    6.354995019331746,
                    6.566993159655165,
                    6.999759364234214,
                    7.363053505434842,
                    8.049273495070526,
                    8.412000579738152,
                    8.525509463499244,
                    8.634763390824384,
                    9.01394386959536,
                    8.426878377532496,
                    9.050068807384093,
                    8.67128636295594,
                    9.003563032092885,
                    8.946915263045474,
                    9.85363419072711,
                    10.18498462071654,
                    10.93943397939202,
                    11.12393624794146,
                    10.51460142528347,
                    10.53826304293151,
                    10.1086444204282,
                    9.362107703378983,
                    10.23760184618283,
                    9.994076723847575,
                    9.876069967851242,
                    10.5031117700733,
                    10.76431043835404,
                    11.15787009671675,
                    11.68303432636565,
                    11.57504450893173,
                    11.43590140042548,
                    11.3218819269249,
                    11.69453110301163,
                    11.44348074407114,
                    11.72749793708963,
                    12.48112114080995,
                    16.41169791383895,
                    14.93699256292307,
                    13.08196440700497,
                    12.38522172659647,
                    11.47179472172888,
                    11.72590457436471,
                    13.00458165652481,
                    13.08146777987525,
                    11.88752844942424,
                    10.94626999393923,
                    11.71584489933529,
                    12.21625000482322,
                    12.91208232066572,
                    12.92277955011887,
                    13.45435025955578,
                    14.21854183359691,
                    14.74692173650176,
                    16.0327135580898,
                    15.77560104485153,
                    15.35410940716806,
                    13.64475848939895,
                    11.4248020008585,
                    15.58832484499557,
                    16.44608981712346,
                    16.283862121541,
                    16.5680328466483,
                    15.49311605699172,
                    13.98745438109564,
                    16.2882985055335,
                    18.76634942281161,
                    17.57714366590432,
                    16.83442569398649,
                    16.26427375562621,
                    17.60421342430499,
                    17.96585094150507,
                    17.06535563678213,
                    17.44833545703531,
                    18.6659136437238,
                    18.79174383617419,
                    19.40603602429905,
                    20.64930826562128,
                    21.72522583191797,
                    21.74317528453239,
                    21.09626470929183,
                    20.74673632862094,
                    21.55884686022729,
                    22.14956484877846,
                    21.59064330970126,
                    21.54963233907448,
                    23.13370927442053,
                    23.51791938386824,
                    23.99369979141201,
                    24.44329735907107,
                    25.49793225231075,
                    26.3312160374557,
                    24.64300250591354,
                    24.77775239021014
                  ]
                },
                {
                  "line": {
                    "color": "black",
                    "dash": "dot"
                  },
                  "mode": "lines",
                  "name": "Baseline",
                  "type": "scatter",
                  "x": [
                    "2016-01-01T00:00:00.000000000",
                    "2016-02-01T00:00:00.000000000",
                    "2016-03-01T00:00:00.000000000",
                    "2016-04-01T00:00:00.000000000",
                    "2016-05-01T00:00:00.000000000",
                    "2016-06-01T00:00:00.000000000",
                    "2016-07-01T00:00:00.000000000",
                    "2016-08-01T00:00:00.000000000",
                    "2016-09-01T00:00:00.000000000",
                    "2016-10-01T00:00:00.000000000",
                    "2016-11-01T00:00:00.000000000",
                    "2016-12-01T00:00:00.000000000",
                    "2017-01-01T00:00:00.000000000",
                    "2017-02-01T00:00:00.000000000",
                    "2017-03-01T00:00:00.000000000",
                    "2017-04-01T00:00:00.000000000",
                    "2017-05-01T00:00:00.000000000",
                    "2017-06-01T00:00:00.000000000",
                    "2017-07-01T00:00:00.000000000",
                    "2017-08-01T00:00:00.000000000",
                    "2017-09-01T00:00:00.000000000",
                    "2017-10-01T00:00:00.000000000",
                    "2017-11-01T00:00:00.000000000",
                    "2017-12-01T00:00:00.000000000",
                    "2018-01-01T00:00:00.000000000",
                    "2018-02-01T00:00:00.000000000",
                    "2018-03-01T00:00:00.000000000",
                    "2018-04-01T00:00:00.000000000",
                    "2018-05-01T00:00:00.000000000",
                    "2018-06-01T00:00:00.000000000",
                    "2018-07-01T00:00:00.000000000",
                    "2018-08-01T00:00:00.000000000",
                    "2018-09-01T00:00:00.000000000",
                    "2018-10-01T00:00:00.000000000",
                    "2018-11-01T00:00:00.000000000",
                    "2018-12-01T00:00:00.000000000",
                    "2019-01-01T00:00:00.000000000",
                    "2019-02-01T00:00:00.000000000",
                    "2019-03-01T00:00:00.000000000",
                    "2019-04-01T00:00:00.000000000",
                    "2019-05-01T00:00:00.000000000",
                    "2019-06-01T00:00:00.000000000",
                    "2019-07-01T00:00:00.000000000",
                    "2019-08-01T00:00:00.000000000",
                    "2019-09-01T00:00:00.000000000",
                    "2019-10-01T00:00:00.000000000",
                    "2019-11-01T00:00:00.000000000",
                    "2019-12-01T00:00:00.000000000",
                    "2020-01-01T00:00:00.000000000",
                    "2020-02-01T00:00:00.000000000",
                    "2020-03-01T00:00:00.000000000",
                    "2020-04-01T00:00:00.000000000",
                    "2020-05-01T00:00:00.000000000",
                    "2020-06-01T00:00:00.000000000",
                    "2020-07-01T00:00:00.000000000",
                    "2020-08-01T00:00:00.000000000",
                    "2020-09-01T00:00:00.000000000",
                    "2020-10-01T00:00:00.000000000",
                    "2020-11-01T00:00:00.000000000",
                    "2020-12-01T00:00:00.000000000",
                    "2021-01-01T00:00:00.000000000",
                    "2021-02-01T00:00:00.000000000",
                    "2021-03-01T00:00:00.000000000",
                    "2021-04-01T00:00:00.000000000",
                    "2021-05-01T00:00:00.000000000",
                    "2021-06-01T00:00:00.000000000",
                    "2021-07-01T00:00:00.000000000",
                    "2021-08-01T00:00:00.000000000",
                    "2021-09-01T00:00:00.000000000",
                    "2021-10-01T00:00:00.000000000",
                    "2021-11-01T00:00:00.000000000",
                    "2021-12-01T00:00:00.000000000",
                    "2022-01-01T00:00:00.000000000",
                    "2022-02-01T00:00:00.000000000",
                    "2022-03-01T00:00:00.000000000",
                    "2022-04-01T00:00:00.000000000",
                    "2022-05-01T00:00:00.000000000",
                    "2022-06-01T00:00:00.000000000",
                    "2022-07-01T00:00:00.000000000",
                    "2022-08-01T00:00:00.000000000",
                    "2022-09-01T00:00:00.000000000",
                    "2022-10-01T00:00:00.000000000",
                    "2022-11-01T00:00:00.000000000",
                    "2022-12-01T00:00:00.000000000",
                    "2023-01-01T00:00:00.000000000",
                    "2023-02-01T00:00:00.000000000",
                    "2023-03-01T00:00:00.000000000",
                    "2023-04-01T00:00:00.000000000",
                    "2023-05-01T00:00:00.000000000",
                    "2023-06-01T00:00:00.000000000",
                    "2023-07-01T00:00:00.000000000",
                    "2023-08-01T00:00:00.000000000",
                    "2023-09-01T00:00:00.000000000",
                    "2023-10-01T00:00:00.000000000",
                    "2023-11-01T00:00:00.000000000",
                    "2023-12-01T00:00:00.000000000",
                    "2024-01-01T00:00:00.000000000",
                    "2024-02-01T00:00:00.000000000",
                    "2024-03-01T00:00:00.000000000",
                    "2024-04-01T00:00:00.000000000",
                    "2024-05-01T00:00:00.000000000",
                    "2024-06-01T00:00:00.000000000",
                    "2024-07-01T00:00:00.000000000",
                    "2024-08-01T00:00:00.000000000",
                    "2024-09-01T00:00:00.000000000",
                    "2024-10-01T00:00:00.000000000",
                    "2024-11-01T00:00:00.000000000",
                    "2024-12-01T00:00:00.000000000"
                  ],
                  "y": [
                    5.232687843520027,
                    5.35952287322694,
                    5.486357902933853,
                    5.613192932640766,
                    5.740027962347678,
                    5.8668629920545925,
                    5.993698021761505,
                    6.120533051468418,
                    6.247368081175331,
                    6.374203110882244,
                    6.5010381405891575,
                    6.627873170296071,
                    6.754708200002984,
                    6.881543229709897,
                    7.00837825941681,
                    7.1352132891237225,
                    7.262048318830637,
                    7.388883348537549,
                    7.515718378244462,
                    7.642553407951375,
                    7.7693884376582885,
                    7.896223467365202,
                    8.023058497072114,
                    8.149893526779028,
                    8.27672855648594,
                    8.403563586192854,
                    8.530398615899767,
                    8.65723364560668,
                    8.784068675313593,
                    8.910903705020505,
                    9.03773873472742,
                    9.164573764434333,
                    9.291408794141246,
                    9.418243823848158,
                    9.545078853555072,
                    9.671913883261986,
                    9.798748912968898,
                    9.92558394267581,
                    10.052418972382725,
                    10.179254002089637,
                    10.30608903179655,
                    10.432924061503464,
                    10.559759091210378,
                    10.68659412091729,
                    10.813429150624202,
                    10.940264180331116,
                    11.06709921003803,
                    11.193934239744943,
                    11.320769269451855,
                    11.447604299158769,
                    11.574439328865681,
                    11.701274358572594,
                    11.828109388279508,
                    11.954944417986422,
                    12.081779447693334,
                    12.208614477400246,
                    12.33544950710716,
                    12.462284536814074,
                    12.589119566520985,
                    12.715954596227899,
                    12.842789625934813,
                    12.969624655641725,
                    13.096459685348638,
                    13.223294715055552,
                    13.350129744762464,
                    13.476964774469378,
                    13.60379980417629,
                    13.730634833883204,
                    13.857469863590117,
                    13.98430489329703,
                    14.111139923003943,
                    14.237974952710857,
                    14.36480998241777,
                    14.491645012124684,
                    14.618480041831596,
                    14.745315071538508,
                    14.872150101245422,
                    14.998985130952335,
                    15.125820160659249,
                    15.252655190366161,
                    15.379490220073075,
                    15.506325249779987,
                    15.633160279486901,
                    15.759995309193814,
                    15.886830338900728,
                    16.01366536860764,
                    16.14050039831455,
                    16.267335428021468,
                    16.39417045772838,
                    16.521005487435293,
                    16.647840517142207,
                    16.774675546849117,
                    16.90151057655603,
                    17.028345606262945,
                    17.155180635969856,
                    17.282015665676774,
                    17.408850695383684,
                    17.535685725090595,
                    17.662520754797512,
                    17.789355784504423,
                    17.916190814211337,
                    18.04302584391825,
                    18.16986087362516,
                    18.296695903332076,
                    18.42353093303899,
                    18.5503659627459,
                    18.677200992452814,
                    18.80403602215973
                  ]
                },
                {
                  "line": {
                    "color": "purple"
                  },
                  "mode": "lines",
                  "name": "Full model",
                  "type": "scatter",
                  "x": [
                    "2016-01-01T00:00:00.000000000",
                    "2016-02-01T00:00:00.000000000",
                    "2016-03-01T00:00:00.000000000",
                    "2016-04-01T00:00:00.000000000",
                    "2016-05-01T00:00:00.000000000",
                    "2016-06-01T00:00:00.000000000",
                    "2016-07-01T00:00:00.000000000",
                    "2016-08-01T00:00:00.000000000",
                    "2016-09-01T00:00:00.000000000",
                    "2016-10-01T00:00:00.000000000",
                    "2016-11-01T00:00:00.000000000",
                    "2016-12-01T00:00:00.000000000",
                    "2017-01-01T00:00:00.000000000",
                    "2017-02-01T00:00:00.000000000",
                    "2017-03-01T00:00:00.000000000",
                    "2017-04-01T00:00:00.000000000",
                    "2017-05-01T00:00:00.000000000",
                    "2017-06-01T00:00:00.000000000",
                    "2017-07-01T00:00:00.000000000",
                    "2017-08-01T00:00:00.000000000",
                    "2017-09-01T00:00:00.000000000",
                    "2017-10-01T00:00:00.000000000",
                    "2017-11-01T00:00:00.000000000",
                    "2017-12-01T00:00:00.000000000",
                    "2018-01-01T00:00:00.000000000",
                    "2018-02-01T00:00:00.000000000",
                    "2018-03-01T00:00:00.000000000",
                    "2018-04-01T00:00:00.000000000",
                    "2018-05-01T00:00:00.000000000",
                    "2018-06-01T00:00:00.000000000",
                    "2018-07-01T00:00:00.000000000",
                    "2018-08-01T00:00:00.000000000",
                    "2018-09-01T00:00:00.000000000",
                    "2018-10-01T00:00:00.000000000",
                    "2018-11-01T00:00:00.000000000",
                    "2018-12-01T00:00:00.000000000",
                    "2019-01-01T00:00:00.000000000",
                    "2019-02-01T00:00:00.000000000",
                    "2019-03-01T00:00:00.000000000",
                    "2019-04-01T00:00:00.000000000",
                    "2019-05-01T00:00:00.000000000",
                    "2019-06-01T00:00:00.000000000",
                    "2019-07-01T00:00:00.000000000",
                    "2019-08-01T00:00:00.000000000",
                    "2019-09-01T00:00:00.000000000",
                    "2019-10-01T00:00:00.000000000",
                    "2019-11-01T00:00:00.000000000",
                    "2019-12-01T00:00:00.000000000",
                    "2020-01-01T00:00:00.000000000",
                    "2020-02-01T00:00:00.000000000",
                    "2020-03-01T00:00:00.000000000",
                    "2020-04-01T00:00:00.000000000",
                    "2020-05-01T00:00:00.000000000",
                    "2020-06-01T00:00:00.000000000",
                    "2020-07-01T00:00:00.000000000",
                    "2020-08-01T00:00:00.000000000",
                    "2020-09-01T00:00:00.000000000",
                    "2020-10-01T00:00:00.000000000",
                    "2020-11-01T00:00:00.000000000",
                    "2020-12-01T00:00:00.000000000",
                    "2021-01-01T00:00:00.000000000",
                    "2021-02-01T00:00:00.000000000",
                    "2021-03-01T00:00:00.000000000",
                    "2021-04-01T00:00:00.000000000",
                    "2021-05-01T00:00:00.000000000",
                    "2021-06-01T00:00:00.000000000",
                    "2021-07-01T00:00:00.000000000",
                    "2021-08-01T00:00:00.000000000",
                    "2021-09-01T00:00:00.000000000",
                    "2021-10-01T00:00:00.000000000",
                    "2021-11-01T00:00:00.000000000",
                    "2021-12-01T00:00:00.000000000",
                    "2022-01-01T00:00:00.000000000",
                    "2022-02-01T00:00:00.000000000",
                    "2022-03-01T00:00:00.000000000",
                    "2022-04-01T00:00:00.000000000",
                    "2022-05-01T00:00:00.000000000",
                    "2022-06-01T00:00:00.000000000",
                    "2022-07-01T00:00:00.000000000",
                    "2022-08-01T00:00:00.000000000",
                    "2022-09-01T00:00:00.000000000",
                    "2022-10-01T00:00:00.000000000",
                    "2022-11-01T00:00:00.000000000",
                    "2022-12-01T00:00:00.000000000",
                    "2023-01-01T00:00:00.000000000",
                    "2023-02-01T00:00:00.000000000",
                    "2023-03-01T00:00:00.000000000",
                    "2023-04-01T00:00:00.000000000",
                    "2023-05-01T00:00:00.000000000",
                    "2023-06-01T00:00:00.000000000",
                    "2023-07-01T00:00:00.000000000",
                    "2023-08-01T00:00:00.000000000",
                    "2023-09-01T00:00:00.000000000",
                    "2023-10-01T00:00:00.000000000",
                    "2023-11-01T00:00:00.000000000",
                    "2023-12-01T00:00:00.000000000",
                    "2024-01-01T00:00:00.000000000",
                    "2024-02-01T00:00:00.000000000",
                    "2024-03-01T00:00:00.000000000",
                    "2024-04-01T00:00:00.000000000",
                    "2024-05-01T00:00:00.000000000",
                    "2024-06-01T00:00:00.000000000",
                    "2024-07-01T00:00:00.000000000",
                    "2024-08-01T00:00:00.000000000",
                    "2024-09-01T00:00:00.000000000",
                    "2024-10-01T00:00:00.000000000",
                    "2024-11-01T00:00:00.000000000",
                    "2024-12-01T00:00:00.000000000"
                  ],
                  "y": [
                    5.1645969075614,
                    5.534286408017083,
                    5.511806167792441,
                    5.545874930299931,
                    5.707096012319201,
                    5.793122343251555,
                    5.960766071733027,
                    6.1631757225684565,
                    6.214436131146853,
                    6.306885108541409,
                    6.334765190686358,
                    6.619382585408726,
                    6.780156464861571,
                    6.814225227369062,
                    7.033826524275398,
                    7.061472640320685,
                    7.22911636880216,
                    7.563646883327692,
                    7.447627442285834,
                    7.817316942741519,
                    7.869638390027603,
                    7.822482818562162,
                    8.12330844944143,
                    8.324657061569171,
                    8.14232651790393,
                    8.578327120982998,
                    8.63064856826908,
                    8.648743060719339,
                    8.649666636731583,
                    8.902413120133161,
                    8.87146578482462,
                    9.339337299224477,
                    9.223317858182622,
                    9.593007358638298,
                    9.410676814973064,
                    9.604595880921151,
                    9.898998865338214,
                    9.858265940334975,
                    10.152668924752042,
                    10.354017536879779,
                    10.27315708176807,
                    10.359183412700427,
                    10.393486141307578,
                    10.894736808302337,
                    10.745338214665576,
                    10.931773595443772,
                    10.93269717145602,
                    11.120193590941904,
                    11.42101922182117,
                    11.37386365035573,
                    11.541507378837201,
                    13.838489678614838,
                    13.897884165048813,
                    14.124165437526852,
                    13.833585651814117,
                    13.919255475714708,
                    13.972227315686478,
                    14.231887740759424,
                    13.974239905075171,
                    13.987175979890177,
                    14.011411480394006,
                    14.089597619124705,
                    14.048583055712847,
                    14.310023314121025,
                    14.254095519359616,
                    14.347194889439862,
                    14.056615103727125,
                    14.135862281165517,
                    14.253636982486558,
                    14.454917192672436,
                    14.232428342918325,
                    14.27545549571888,
                    14.136258918362845,
                    14.529260343310106,
                    14.205301405002466,
                    14.636031602525467,
                    14.912126374783579,
                    15.24217178526856,
                    15.751857509770318,
                    15.97881209584305,
                    16.25490686810116,
                    16.584952278586147,
                    16.926297114759958,
                    17.321592589160634,
                    17.53137625879537,
                    18.17623695549692,
                    18.30423659400768,
                    18.599123018562526,
                    18.84228584079216,
                    19.276935911683516,
                    19.545546998771744,
                    20.007153575795808,
                    20.45158923638187,
                    20.861797942132082,
                    20.9546385947127,
                    21.284684005197697,
                    21.527846827427332,
                    21.95607425185649,
                    22.390958288847514,
                    22.63388714497748,
                    23.137150223017027,
                    23.30527739163627,
                    23.57388847872449,
                    23.976667638295062,
                    24.245278725383297,
                    24.89013942208484,
                    25.018139060595615,
                    25.313025485150447
                  ]
                }
              ],
              "layout": {
                "annotations": [
                  {
                    "arrowhead": 2,
                    "ax": 30,
                    "ay": -40,
                    "showarrow": true,
                    "text": "Pandemia",
                    "x": "2020-04-01",
                    "y": 26.3312160374557
                  },
                  {
                    "arrowhead": 2,
                    "ax": 30,
                    "ay": -40,
                    "showarrow": true,
                    "text": "Pos Pandemia",
                    "x": "2022-04-01",
                    "y": 26.3312160374557
                  }
                ],
                "legend": {
                  "title": {
                    "text": "Legend"
                  }
                },
                "shapes": [
                  {
                    "line": {
                      "color": "black",
                      "dash": "dash"
                    },
                    "type": "line",
                    "x0": "2020-04-01",
                    "x1": "2020-04-01",
                    "y0": 5.270734376769087,
                    "y1": 26.3312160374557
                  },
                  {
                    "line": {
                      "color": "black",
                      "dash": "dash"
                    },
                    "type": "line",
                    "x0": "2022-04-01",
                    "x1": "2022-04-01",
                    "y0": 5.270734376769087,
                    "y1": 26.3312160374557
                  }
                ],
                "template": {
                  "data": {
                    "bar": [
                      {
                        "error_x": {
                          "color": "#2a3f5f"
                        },
                        "error_y": {
                          "color": "#2a3f5f"
                        },
                        "marker": {
                          "line": {
                            "color": "#E5ECF6",
                            "width": 0.5
                          },
                          "pattern": {
                            "fillmode": "overlay",
                            "size": 10,
                            "solidity": 0.2
                          }
                        },
                        "type": "bar"
                      }
                    ],
                    "barpolar": [
                      {
                        "marker": {
                          "line": {
                            "color": "#E5ECF6",
                            "width": 0.5
                          },
                          "pattern": {
                            "fillmode": "overlay",
                            "size": 10,
                            "solidity": 0.2
                          }
                        },
                        "type": "barpolar"
                      }
                    ],
                    "carpet": [
                      {
                        "aaxis": {
                          "endlinecolor": "#2a3f5f",
                          "gridcolor": "white",
                          "linecolor": "white",
                          "minorgridcolor": "white",
                          "startlinecolor": "#2a3f5f"
                        },
                        "baxis": {
                          "endlinecolor": "#2a3f5f",
                          "gridcolor": "white",
                          "linecolor": "white",
                          "minorgridcolor": "white",
                          "startlinecolor": "#2a3f5f"
                        },
                        "type": "carpet"
                      }
                    ],
                    "choropleth": [
                      {
                        "colorbar": {
                          "outlinewidth": 0,
                          "ticks": ""
                        },
                        "type": "choropleth"
                      }
                    ],
                    "contour": [
                      {
                        "colorbar": {
                          "outlinewidth": 0,
                          "ticks": ""
                        },
                        "colorscale": [
                          [
                            0,
                            "#0d0887"
                          ],
                          [
                            0.1111111111111111,
                            "#46039f"
                          ],
                          [
                            0.2222222222222222,
                            "#7201a8"
                          ],
                          [
                            0.3333333333333333,
                            "#9c179e"
                          ],
                          [
                            0.4444444444444444,
                            "#bd3786"
                          ],
                          [
                            0.5555555555555556,
                            "#d8576b"
                          ],
                          [
                            0.6666666666666666,
                            "#ed7953"
                          ],
                          [
                            0.7777777777777778,
                            "#fb9f3a"
                          ],
                          [
                            0.8888888888888888,
                            "#fdca26"
                          ],
                          [
                            1,
                            "#f0f921"
                          ]
                        ],
                        "type": "contour"
                      }
                    ],
                    "contourcarpet": [
                      {
                        "colorbar": {
                          "outlinewidth": 0,
                          "ticks": ""
                        },
                        "type": "contourcarpet"
                      }
                    ],
                    "heatmap": [
                      {
                        "colorbar": {
                          "outlinewidth": 0,
                          "ticks": ""
                        },
                        "colorscale": [
                          [
                            0,
                            "#0d0887"
                          ],
                          [
                            0.1111111111111111,
                            "#46039f"
                          ],
                          [
                            0.2222222222222222,
                            "#7201a8"
                          ],
                          [
                            0.3333333333333333,
                            "#9c179e"
                          ],
                          [
                            0.4444444444444444,
                            "#bd3786"
                          ],
                          [
                            0.5555555555555556,
                            "#d8576b"
                          ],
                          [
                            0.6666666666666666,
                            "#ed7953"
                          ],
                          [
                            0.7777777777777778,
                            "#fb9f3a"
                          ],
                          [
                            0.8888888888888888,
                            "#fdca26"
                          ],
                          [
                            1,
                            "#f0f921"
                          ]
                        ],
                        "type": "heatmap"
                      }
                    ],
                    "heatmapgl": [
                      {
                        "colorbar": {
                          "outlinewidth": 0,
                          "ticks": ""
                        },
                        "colorscale": [
                          [
                            0,
                            "#0d0887"
                          ],
                          [
                            0.1111111111111111,
                            "#46039f"
                          ],
                          [
                            0.2222222222222222,
                            "#7201a8"
                          ],
                          [
                            0.3333333333333333,
                            "#9c179e"
                          ],
                          [
                            0.4444444444444444,
                            "#bd3786"
                          ],
                          [
                            0.5555555555555556,
                            "#d8576b"
                          ],
                          [
                            0.6666666666666666,
                            "#ed7953"
                          ],
                          [
                            0.7777777777777778,
                            "#fb9f3a"
                          ],
                          [
                            0.8888888888888888,
                            "#fdca26"
                          ],
                          [
                            1,
                            "#f0f921"
                          ]
                        ],
                        "type": "heatmapgl"
                      }
                    ],
                    "histogram": [
                      {
                        "marker": {
                          "pattern": {
                            "fillmode": "overlay",
                            "size": 10,
                            "solidity": 0.2
                          }
                        },
                        "type": "histogram"
                      }
                    ],
                    "histogram2d": [
                      {
                        "colorbar": {
                          "outlinewidth": 0,
                          "ticks": ""
                        },
                        "colorscale": [
                          [
                            0,
                            "#0d0887"
                          ],
                          [
                            0.1111111111111111,
                            "#46039f"
                          ],
                          [
                            0.2222222222222222,
                            "#7201a8"
                          ],
                          [
                            0.3333333333333333,
                            "#9c179e"
                          ],
                          [
                            0.4444444444444444,
                            "#bd3786"
                          ],
                          [
                            0.5555555555555556,
                            "#d8576b"
                          ],
                          [
                            0.6666666666666666,
                            "#ed7953"
                          ],
                          [
                            0.7777777777777778,
                            "#fb9f3a"
                          ],
                          [
                            0.8888888888888888,
                            "#fdca26"
                          ],
                          [
                            1,
                            "#f0f921"
                          ]
                        ],
                        "type": "histogram2d"
                      }
                    ],
                    "histogram2dcontour": [
                      {
                        "colorbar": {
                          "outlinewidth": 0,
                          "ticks": ""
                        },
                        "colorscale": [
                          [
                            0,
                            "#0d0887"
                          ],
                          [
                            0.1111111111111111,
                            "#46039f"
                          ],
                          [
                            0.2222222222222222,
                            "#7201a8"
                          ],
                          [
                            0.3333333333333333,
                            "#9c179e"
                          ],
                          [
                            0.4444444444444444,
                            "#bd3786"
                          ],
                          [
                            0.5555555555555556,
                            "#d8576b"
                          ],
                          [
                            0.6666666666666666,
                            "#ed7953"
                          ],
                          [
                            0.7777777777777778,
                            "#fb9f3a"
                          ],
                          [
                            0.8888888888888888,
                            "#fdca26"
                          ],
                          [
                            1,
                            "#f0f921"
                          ]
                        ],
                        "type": "histogram2dcontour"
                      }
                    ],
                    "mesh3d": [
                      {
                        "colorbar": {
                          "outlinewidth": 0,
                          "ticks": ""
                        },
                        "type": "mesh3d"
                      }
                    ],
                    "parcoords": [
                      {
                        "line": {
                          "colorbar": {
                            "outlinewidth": 0,
                            "ticks": ""
                          }
                        },
                        "type": "parcoords"
                      }
                    ],
                    "pie": [
                      {
                        "automargin": true,
                        "type": "pie"
                      }
                    ],
                    "scatter": [
                      {
                        "fillpattern": {
                          "fillmode": "overlay",
                          "size": 10,
                          "solidity": 0.2
                        },
                        "type": "scatter"
                      }
                    ],
                    "scatter3d": [
                      {
                        "line": {
                          "colorbar": {
                            "outlinewidth": 0,
                            "ticks": ""
                          }
                        },
                        "marker": {
                          "colorbar": {
                            "outlinewidth": 0,
                            "ticks": ""
                          }
                        },
                        "type": "scatter3d"
                      }
                    ],
                    "scattercarpet": [
                      {
                        "marker": {
                          "colorbar": {
                            "outlinewidth": 0,
                            "ticks": ""
                          }
                        },
                        "type": "scattercarpet"
                      }
                    ],
                    "scattergeo": [
                      {
                        "marker": {
                          "colorbar": {
                            "outlinewidth": 0,
                            "ticks": ""
                          }
                        },
                        "type": "scattergeo"
                      }
                    ],
                    "scattergl": [
                      {
                        "marker": {
                          "colorbar": {
                            "outlinewidth": 0,
                            "ticks": ""
                          }
                        },
                        "type": "scattergl"
                      }
                    ],
                    "scattermapbox": [
                      {
                        "marker": {
                          "colorbar": {
                            "outlinewidth": 0,
                            "ticks": ""
                          }
                        },
                        "type": "scattermapbox"
                      }
                    ],
                    "scatterpolar": [
                      {
                        "marker": {
                          "colorbar": {
                            "outlinewidth": 0,
                            "ticks": ""
                          }
                        },
                        "type": "scatterpolar"
                      }
                    ],
                    "scatterpolargl": [
                      {
                        "marker": {
                          "colorbar": {
                            "outlinewidth": 0,
                            "ticks": ""
                          }
                        },
                        "type": "scatterpolargl"
                      }
                    ],
                    "scatterternary": [
                      {
                        "marker": {
                          "colorbar": {
                            "outlinewidth": 0,
                            "ticks": ""
                          }
                        },
                        "type": "scatterternary"
                      }
                    ],
                    "surface": [
                      {
                        "colorbar": {
                          "outlinewidth": 0,
                          "ticks": ""
                        },
                        "colorscale": [
                          [
                            0,
                            "#0d0887"
                          ],
                          [
                            0.1111111111111111,
                            "#46039f"
                          ],
                          [
                            0.2222222222222222,
                            "#7201a8"
                          ],
                          [
                            0.3333333333333333,
                            "#9c179e"
                          ],
                          [
                            0.4444444444444444,
                            "#bd3786"
                          ],
                          [
                            0.5555555555555556,
                            "#d8576b"
                          ],
                          [
                            0.6666666666666666,
                            "#ed7953"
                          ],
                          [
                            0.7777777777777778,
                            "#fb9f3a"
                          ],
                          [
                            0.8888888888888888,
                            "#fdca26"
                          ],
                          [
                            1,
                            "#f0f921"
                          ]
                        ],
                        "type": "surface"
                      }
                    ],
                    "table": [
                      {
                        "cells": {
                          "fill": {
                            "color": "#EBF0F8"
                          },
                          "line": {
                            "color": "white"
                          }
                        },
                        "header": {
                          "fill": {
                            "color": "#C8D4E3"
                          },
                          "line": {
                            "color": "white"
                          }
                        },
                        "type": "table"
                      }
                    ]
                  },
                  "layout": {
                    "annotationdefaults": {
                      "arrowcolor": "#2a3f5f",
                      "arrowhead": 0,
                      "arrowwidth": 1
                    },
                    "autotypenumbers": "strict",
                    "coloraxis": {
                      "colorbar": {
                        "outlinewidth": 0,
                        "ticks": ""
                      }
                    },
                    "colorscale": {
                      "diverging": [
                        [
                          0,
                          "#8e0152"
                        ],
                        [
                          0.1,
                          "#c51b7d"
                        ],
                        [
                          0.2,
                          "#de77ae"
                        ],
                        [
                          0.3,
                          "#f1b6da"
                        ],
                        [
                          0.4,
                          "#fde0ef"
                        ],
                        [
                          0.5,
                          "#f7f7f7"
                        ],
                        [
                          0.6,
                          "#e6f5d0"
                        ],
                        [
                          0.7,
                          "#b8e186"
                        ],
                        [
                          0.8,
                          "#7fbc41"
                        ],
                        [
                          0.9,
                          "#4d9221"
                        ],
                        [
                          1,
                          "#276419"
                        ]
                      ],
                      "sequential": [
                        [
                          0,
                          "#0d0887"
                        ],
                        [
                          0.1111111111111111,
                          "#46039f"
                        ],
                        [
                          0.2222222222222222,
                          "#7201a8"
                        ],
                        [
                          0.3333333333333333,
                          "#9c179e"
                        ],
                        [
                          0.4444444444444444,
                          "#bd3786"
                        ],
                        [
                          0.5555555555555556,
                          "#d8576b"
                        ],
                        [
                          0.6666666666666666,
                          "#ed7953"
                        ],
                        [
                          0.7777777777777778,
                          "#fb9f3a"
                        ],
                        [
                          0.8888888888888888,
                          "#fdca26"
                        ],
                        [
                          1,
                          "#f0f921"
                        ]
                      ],
                      "sequentialminus": [
                        [
                          0,
                          "#0d0887"
                        ],
                        [
                          0.1111111111111111,
                          "#46039f"
                        ],
                        [
                          0.2222222222222222,
                          "#7201a8"
                        ],
                        [
                          0.3333333333333333,
                          "#9c179e"
                        ],
                        [
                          0.4444444444444444,
                          "#bd3786"
                        ],
                        [
                          0.5555555555555556,
                          "#d8576b"
                        ],
                        [
                          0.6666666666666666,
                          "#ed7953"
                        ],
                        [
                          0.7777777777777778,
                          "#fb9f3a"
                        ],
                        [
                          0.8888888888888888,
                          "#fdca26"
                        ],
                        [
                          1,
                          "#f0f921"
                        ]
                      ]
                    },
                    "colorway": [
                      "#636efa",
                      "#EF553B",
                      "#00cc96",
                      "#ab63fa",
                      "#FFA15A",
                      "#19d3f3",
                      "#FF6692",
                      "#B6E880",
                      "#FF97FF",
                      "#FECB52"
                    ],
                    "font": {
                      "color": "#2a3f5f"
                    },
                    "geo": {
                      "bgcolor": "white",
                      "lakecolor": "white",
                      "landcolor": "#E5ECF6",
                      "showlakes": true,
                      "showland": true,
                      "subunitcolor": "white"
                    },
                    "hoverlabel": {
                      "align": "left"
                    },
                    "hovermode": "closest",
                    "mapbox": {
                      "style": "light"
                    },
                    "paper_bgcolor": "white",
                    "plot_bgcolor": "#E5ECF6",
                    "polar": {
                      "angularaxis": {
                        "gridcolor": "white",
                        "linecolor": "white",
                        "ticks": ""
                      },
                      "bgcolor": "#E5ECF6",
                      "radialaxis": {
                        "gridcolor": "white",
                        "linecolor": "white",
                        "ticks": ""
                      }
                    },
                    "scene": {
                      "xaxis": {
                        "backgroundcolor": "#E5ECF6",
                        "gridcolor": "white",
                        "gridwidth": 2,
                        "linecolor": "white",
                        "showbackground": true,
                        "ticks": "",
                        "zerolinecolor": "white"
                      },
                      "yaxis": {
                        "backgroundcolor": "#E5ECF6",
                        "gridcolor": "white",
                        "gridwidth": 2,
                        "linecolor": "white",
                        "showbackground": true,
                        "ticks": "",
                        "zerolinecolor": "white"
                      },
                      "zaxis": {
                        "backgroundcolor": "#E5ECF6",
                        "gridcolor": "white",
                        "gridwidth": 2,
                        "linecolor": "white",
                        "showbackground": true,
                        "ticks": "",
                        "zerolinecolor": "white"
                      }
                    },
                    "shapedefaults": {
                      "line": {
                        "color": "#2a3f5f"
                      }
                    },
                    "ternary": {
                      "aaxis": {
                        "gridcolor": "white",
                        "linecolor": "white",
                        "ticks": ""
                      },
                      "baxis": {
                        "gridcolor": "white",
                        "linecolor": "white",
                        "ticks": ""
                      },
                      "bgcolor": "#E5ECF6",
                      "caxis": {
                        "gridcolor": "white",
                        "linecolor": "white",
                        "ticks": ""
                      }
                    },
                    "title": {
                      "x": 0.05
                    },
                    "xaxis": {
                      "automargin": true,
                      "gridcolor": "white",
                      "linecolor": "white",
                      "ticks": "",
                      "title": {
                        "standoff": 15
                      },
                      "zerolinecolor": "white",
                      "zerolinewidth": 2
                    },
                    "yaxis": {
                      "automargin": true,
                      "gridcolor": "white",
                      "linecolor": "white",
                      "ticks": "",
                      "title": {
                        "standoff": 15
                      },
                      "zerolinecolor": "white",
                      "zerolinewidth": 2
                    }
                  }
                },
                "title": {
                  "text": "norte"
                },
                "xaxis": {
                  "title": {
                    "text": "Time"
                  }
                },
                "yaxis": {
                  "title": {
                    "text": "Value"
                  }
                }
              }
            }
          },
          "metadata": {},
          "output_type": "display_data"
        },
        {
          "data": {
            "application/vnd.plotly.v1+json": {
              "config": {
                "plotlyServerURL": "https://plot.ly"
              },
              "data": [
                {
                  "marker": {
                    "color": "black"
                  },
                  "mode": "markers",
                  "name": "Real",
                  "type": "scatter",
                  "x": [
                    "2016-01-01T00:00:00.000000000",
                    "2016-02-01T00:00:00.000000000",
                    "2016-03-01T00:00:00.000000000",
                    "2016-04-01T00:00:00.000000000",
                    "2016-05-01T00:00:00.000000000",
                    "2016-06-01T00:00:00.000000000",
                    "2016-07-01T00:00:00.000000000",
                    "2016-08-01T00:00:00.000000000",
                    "2016-09-01T00:00:00.000000000",
                    "2016-10-01T00:00:00.000000000",
                    "2016-11-01T00:00:00.000000000",
                    "2016-12-01T00:00:00.000000000",
                    "2017-01-01T00:00:00.000000000",
                    "2017-02-01T00:00:00.000000000",
                    "2017-03-01T00:00:00.000000000",
                    "2017-04-01T00:00:00.000000000",
                    "2017-05-01T00:00:00.000000000",
                    "2017-06-01T00:00:00.000000000",
                    "2017-07-01T00:00:00.000000000",
                    "2017-08-01T00:00:00.000000000",
                    "2017-09-01T00:00:00.000000000",
                    "2017-10-01T00:00:00.000000000",
                    "2017-11-01T00:00:00.000000000",
                    "2017-12-01T00:00:00.000000000",
                    "2018-01-01T00:00:00.000000000",
                    "2018-02-01T00:00:00.000000000",
                    "2018-03-01T00:00:00.000000000",
                    "2018-04-01T00:00:00.000000000",
                    "2018-05-01T00:00:00.000000000",
                    "2018-06-01T00:00:00.000000000",
                    "2018-07-01T00:00:00.000000000",
                    "2018-08-01T00:00:00.000000000",
                    "2018-09-01T00:00:00.000000000",
                    "2018-10-01T00:00:00.000000000",
                    "2018-11-01T00:00:00.000000000",
                    "2018-12-01T00:00:00.000000000",
                    "2019-01-01T00:00:00.000000000",
                    "2019-02-01T00:00:00.000000000",
                    "2019-03-01T00:00:00.000000000",
                    "2019-04-01T00:00:00.000000000",
                    "2019-05-01T00:00:00.000000000",
                    "2019-06-01T00:00:00.000000000",
                    "2019-07-01T00:00:00.000000000",
                    "2019-08-01T00:00:00.000000000",
                    "2019-09-01T00:00:00.000000000",
                    "2019-10-01T00:00:00.000000000",
                    "2019-11-01T00:00:00.000000000",
                    "2019-12-01T00:00:00.000000000",
                    "2020-01-01T00:00:00.000000000",
                    "2020-02-01T00:00:00.000000000",
                    "2020-03-01T00:00:00.000000000",
                    "2020-04-01T00:00:00.000000000",
                    "2020-05-01T00:00:00.000000000",
                    "2020-06-01T00:00:00.000000000",
                    "2020-07-01T00:00:00.000000000",
                    "2020-08-01T00:00:00.000000000",
                    "2020-09-01T00:00:00.000000000",
                    "2020-10-01T00:00:00.000000000",
                    "2020-11-01T00:00:00.000000000",
                    "2020-12-01T00:00:00.000000000",
                    "2021-01-01T00:00:00.000000000",
                    "2021-02-01T00:00:00.000000000",
                    "2021-03-01T00:00:00.000000000",
                    "2021-04-01T00:00:00.000000000",
                    "2021-05-01T00:00:00.000000000",
                    "2021-06-01T00:00:00.000000000",
                    "2021-07-01T00:00:00.000000000",
                    "2021-08-01T00:00:00.000000000",
                    "2021-09-01T00:00:00.000000000",
                    "2021-10-01T00:00:00.000000000",
                    "2021-11-01T00:00:00.000000000",
                    "2021-12-01T00:00:00.000000000",
                    "2022-01-01T00:00:00.000000000",
                    "2022-02-01T00:00:00.000000000",
                    "2022-03-01T00:00:00.000000000",
                    "2022-04-01T00:00:00.000000000",
                    "2022-05-01T00:00:00.000000000",
                    "2022-06-01T00:00:00.000000000",
                    "2022-07-01T00:00:00.000000000",
                    "2022-08-01T00:00:00.000000000",
                    "2022-09-01T00:00:00.000000000",
                    "2022-10-01T00:00:00.000000000",
                    "2022-11-01T00:00:00.000000000",
                    "2022-12-01T00:00:00.000000000",
                    "2023-01-01T00:00:00.000000000",
                    "2023-02-01T00:00:00.000000000",
                    "2023-03-01T00:00:00.000000000",
                    "2023-04-01T00:00:00.000000000",
                    "2023-05-01T00:00:00.000000000",
                    "2023-06-01T00:00:00.000000000",
                    "2023-07-01T00:00:00.000000000",
                    "2023-08-01T00:00:00.000000000",
                    "2023-09-01T00:00:00.000000000",
                    "2023-10-01T00:00:00.000000000",
                    "2023-11-01T00:00:00.000000000",
                    "2023-12-01T00:00:00.000000000",
                    "2024-01-01T00:00:00.000000000",
                    "2024-02-01T00:00:00.000000000",
                    "2024-03-01T00:00:00.000000000",
                    "2024-04-01T00:00:00.000000000",
                    "2024-05-01T00:00:00.000000000",
                    "2024-06-01T00:00:00.000000000",
                    "2024-07-01T00:00:00.000000000",
                    "2024-08-01T00:00:00.000000000",
                    "2024-09-01T00:00:00.000000000",
                    "2024-10-01T00:00:00.000000000",
                    "2024-11-01T00:00:00.000000000",
                    "2024-12-01T00:00:00.000000000"
                  ],
                  "y": [
                    5.766457016415087,
                    5.516293322003957,
                    5.290365071949884,
                    5.603113142030877,
                    5.913417330779171,
                    6.170016808023145,
                    6.382247363127151,
                    6.481325584572769,
                    6.821882839663747,
                    7.182647347457138,
                    6.817950343562167,
                    8.169502968393399,
                    8.024569825948522,
                    6.930884629122515,
                    6.855759813516739,
                    6.915325136100731,
                    7.130363360733383,
                    7.799731339936104,
                    7.447395767956693,
                    7.912965509091176,
                    8.33124730818472,
                    8.767716996603022,
                    9.345974525965527,
                    10.25139212736242,
                    9.934924627615038,
                    10.36457227376237,
                    9.772812014353818,
                    9.794934171336442,
                    10.08804980967626,
                    10.94782138526698,
                    10.92295321873162,
                    11.08207170709641,
                    11.16207792951598,
                    11.21728151311601,
                    11.44841758265281,
                    12.23968505718936,
                    11.1290525301474,
                    11.19383990872161,
                    11.31259930357125,
                    10.28780295517633,
                    10.61307207281938,
                    11.40448641127023,
                    11.8984777090336,
                    12.55488209719218,
                    12.68474830051435,
                    13.06987892868546,
                    13.66554629540173,
                    15.2019319711563,
                    15.39650703464915,
                    15.42349443918599,
                    16.5184843319494,
                    22.83469258555841,
                    20.55225631690818,
                    19.43021795609856,
                    18.9408721181185,
                    19.02654126400163,
                    19.44903571485636,
                    18.63271189435737,
                    20.23060527123095,
                    22.00142104792553,
                    21.34479492970059,
                    19.84545040685421,
                    18.72317724093399,
                    18.92996766962941,
                    17.41273445499207,
                    19.04877270887256,
                    20.3711097764054,
                    21.13383084286374,
                    22.44708190676561,
                    21.569638132883,
                    21.15671818389749,
                    21.69527840326278,
                    18.18297035157528,
                    22.34628289387481,
                    22.42361165999409,
                    21.18838751273135,
                    21.64215794487427,
                    21.82567997639082,
                    21.98314718586636,
                    23.16219990823173,
                    26.40619947424684,
                    25.66454025643942,
                    24.5182172226167,
                    25.33609619639925,
                    28.41111643713134,
                    28.59386320226569,
                    25.77494573881397,
                    24.66280835239894,
                    28.66725433465402,
                    28.0828537141462,
                    28.5678802835419,
                    28.21496190543768,
                    31.0406552221982,
                    30.60476671347408,
                    30.34966970119551,
                    30.34913261078706,
                    34.30808238984768,
                    32.66218148909552,
                    29.40533652619916,
                    28.88171848548566,
                    32.56295122808777,
                    33.63656738396111,
                    34.07413152142058,
                    32.92455961680162,
                    33.47998116355968,
                    33.60305643924929,
                    33.46483801883145,
                    33.17171435314598
                  ]
                },
                {
                  "line": {
                    "color": "black",
                    "dash": "dot"
                  },
                  "mode": "lines",
                  "name": "Baseline",
                  "type": "scatter",
                  "x": [
                    "2016-01-01T00:00:00.000000000",
                    "2016-02-01T00:00:00.000000000",
                    "2016-03-01T00:00:00.000000000",
                    "2016-04-01T00:00:00.000000000",
                    "2016-05-01T00:00:00.000000000",
                    "2016-06-01T00:00:00.000000000",
                    "2016-07-01T00:00:00.000000000",
                    "2016-08-01T00:00:00.000000000",
                    "2016-09-01T00:00:00.000000000",
                    "2016-10-01T00:00:00.000000000",
                    "2016-11-01T00:00:00.000000000",
                    "2016-12-01T00:00:00.000000000",
                    "2017-01-01T00:00:00.000000000",
                    "2017-02-01T00:00:00.000000000",
                    "2017-03-01T00:00:00.000000000",
                    "2017-04-01T00:00:00.000000000",
                    "2017-05-01T00:00:00.000000000",
                    "2017-06-01T00:00:00.000000000",
                    "2017-07-01T00:00:00.000000000",
                    "2017-08-01T00:00:00.000000000",
                    "2017-09-01T00:00:00.000000000",
                    "2017-10-01T00:00:00.000000000",
                    "2017-11-01T00:00:00.000000000",
                    "2017-12-01T00:00:00.000000000",
                    "2018-01-01T00:00:00.000000000",
                    "2018-02-01T00:00:00.000000000",
                    "2018-03-01T00:00:00.000000000",
                    "2018-04-01T00:00:00.000000000",
                    "2018-05-01T00:00:00.000000000",
                    "2018-06-01T00:00:00.000000000",
                    "2018-07-01T00:00:00.000000000",
                    "2018-08-01T00:00:00.000000000",
                    "2018-09-01T00:00:00.000000000",
                    "2018-10-01T00:00:00.000000000",
                    "2018-11-01T00:00:00.000000000",
                    "2018-12-01T00:00:00.000000000",
                    "2019-01-01T00:00:00.000000000",
                    "2019-02-01T00:00:00.000000000",
                    "2019-03-01T00:00:00.000000000",
                    "2019-04-01T00:00:00.000000000",
                    "2019-05-01T00:00:00.000000000",
                    "2019-06-01T00:00:00.000000000",
                    "2019-07-01T00:00:00.000000000",
                    "2019-08-01T00:00:00.000000000",
                    "2019-09-01T00:00:00.000000000",
                    "2019-10-01T00:00:00.000000000",
                    "2019-11-01T00:00:00.000000000",
                    "2019-12-01T00:00:00.000000000",
                    "2020-01-01T00:00:00.000000000",
                    "2020-02-01T00:00:00.000000000",
                    "2020-03-01T00:00:00.000000000",
                    "2020-04-01T00:00:00.000000000",
                    "2020-05-01T00:00:00.000000000",
                    "2020-06-01T00:00:00.000000000",
                    "2020-07-01T00:00:00.000000000",
                    "2020-08-01T00:00:00.000000000",
                    "2020-09-01T00:00:00.000000000",
                    "2020-10-01T00:00:00.000000000",
                    "2020-11-01T00:00:00.000000000",
                    "2020-12-01T00:00:00.000000000",
                    "2021-01-01T00:00:00.000000000",
                    "2021-02-01T00:00:00.000000000",
                    "2021-03-01T00:00:00.000000000",
                    "2021-04-01T00:00:00.000000000",
                    "2021-05-01T00:00:00.000000000",
                    "2021-06-01T00:00:00.000000000",
                    "2021-07-01T00:00:00.000000000",
                    "2021-08-01T00:00:00.000000000",
                    "2021-09-01T00:00:00.000000000",
                    "2021-10-01T00:00:00.000000000",
                    "2021-11-01T00:00:00.000000000",
                    "2021-12-01T00:00:00.000000000",
                    "2022-01-01T00:00:00.000000000",
                    "2022-02-01T00:00:00.000000000",
                    "2022-03-01T00:00:00.000000000",
                    "2022-04-01T00:00:00.000000000",
                    "2022-05-01T00:00:00.000000000",
                    "2022-06-01T00:00:00.000000000",
                    "2022-07-01T00:00:00.000000000",
                    "2022-08-01T00:00:00.000000000",
                    "2022-09-01T00:00:00.000000000",
                    "2022-10-01T00:00:00.000000000",
                    "2022-11-01T00:00:00.000000000",
                    "2022-12-01T00:00:00.000000000",
                    "2023-01-01T00:00:00.000000000",
                    "2023-02-01T00:00:00.000000000",
                    "2023-03-01T00:00:00.000000000",
                    "2023-04-01T00:00:00.000000000",
                    "2023-05-01T00:00:00.000000000",
                    "2023-06-01T00:00:00.000000000",
                    "2023-07-01T00:00:00.000000000",
                    "2023-08-01T00:00:00.000000000",
                    "2023-09-01T00:00:00.000000000",
                    "2023-10-01T00:00:00.000000000",
                    "2023-11-01T00:00:00.000000000",
                    "2023-12-01T00:00:00.000000000",
                    "2024-01-01T00:00:00.000000000",
                    "2024-02-01T00:00:00.000000000",
                    "2024-03-01T00:00:00.000000000",
                    "2024-04-01T00:00:00.000000000",
                    "2024-05-01T00:00:00.000000000",
                    "2024-06-01T00:00:00.000000000",
                    "2024-07-01T00:00:00.000000000",
                    "2024-08-01T00:00:00.000000000",
                    "2024-09-01T00:00:00.000000000",
                    "2024-10-01T00:00:00.000000000",
                    "2024-11-01T00:00:00.000000000",
                    "2024-12-01T00:00:00.000000000"
                  ],
                  "y": [
                    4.975173785452886,
                    5.160636668237617,
                    5.346099551022347,
                    5.5315624338070775,
                    5.7170253165918075,
                    5.902488199376538,
                    6.087951082161268,
                    6.273413964945998,
                    6.458876847730729,
                    6.64433973051546,
                    6.82980261330019,
                    7.01526549608492,
                    7.20072837886965,
                    7.386191261654381,
                    7.571654144439112,
                    7.757117027223842,
                    7.942579910008572,
                    8.128042792793302,
                    8.313505675578034,
                    8.498968558362764,
                    8.684431441147494,
                    8.869894323932225,
                    9.055357206716955,
                    9.240820089501685,
                    9.426282972286415,
                    9.611745855071145,
                    9.797208737855875,
                    9.982671620640605,
                    10.168134503425337,
                    10.353597386210067,
                    10.539060268994799,
                    10.724523151779529,
                    10.909986034564259,
                    11.095448917348989,
                    11.280911800133719,
                    11.466374682918449,
                    11.651837565703179,
                    11.83730044848791,
                    12.02276333127264,
                    12.208226214057373,
                    12.393689096842103,
                    12.579151979626833,
                    12.764614862411563,
                    12.950077745196293,
                    13.135540627981023,
                    13.321003510765753,
                    13.506466393550483,
                    13.691929276335213,
                    13.877392159119946,
                    14.062855041904676,
                    14.248317924689406,
                    14.433780807474136,
                    14.619243690258866,
                    14.804706573043596,
                    14.990169455828326,
                    15.175632338613056,
                    15.361095221397786,
                    15.54655810418252,
                    15.73202098696725,
                    15.91748386975198,
                    16.10294675253671,
                    16.28840963532144,
                    16.47387251810617,
                    16.6593354008909,
                    16.84479828367563,
                    17.03026116646036,
                    17.215724049245093,
                    17.401186932029823,
                    17.586649814814553,
                    17.772112697599283,
                    17.957575580384013,
                    18.143038463168743,
                    18.328501345953473,
                    18.513964228738203,
                    18.699427111522933,
                    18.884889994307667,
                    19.070352877092397,
                    19.255815759877127,
                    19.441278642661857,
                    19.626741525446587,
                    19.812204408231317,
                    19.997667291016047,
                    20.183130173800777,
                    20.368593056585507,
                    20.55405593937024,
                    20.73951882215497,
                    20.9249817049397,
                    21.11044458772443,
                    21.29590747050916,
                    21.48137035329389,
                    21.66683323607862,
                    21.85229611886335,
                    22.03775900164808,
                    22.22322188443281,
                    22.40868476721754,
                    22.59414765000227,
                    22.779610532787004,
                    22.965073415571734,
                    23.150536298356464,
                    23.335999181141194,
                    23.521462063925924,
                    23.706924946710654,
                    23.892387829495384,
                    24.077850712280114,
                    24.263313595064844,
                    24.448776477849577,
                    24.634239360634307,
                    24.819702243419037
                  ]
                },
                {
                  "line": {
                    "color": "purple"
                  },
                  "mode": "lines",
                  "name": "Full model",
                  "type": "scatter",
                  "x": [
                    "2016-01-01T00:00:00.000000000",
                    "2016-02-01T00:00:00.000000000",
                    "2016-03-01T00:00:00.000000000",
                    "2016-04-01T00:00:00.000000000",
                    "2016-05-01T00:00:00.000000000",
                    "2016-06-01T00:00:00.000000000",
                    "2016-07-01T00:00:00.000000000",
                    "2016-08-01T00:00:00.000000000",
                    "2016-09-01T00:00:00.000000000",
                    "2016-10-01T00:00:00.000000000",
                    "2016-11-01T00:00:00.000000000",
                    "2016-12-01T00:00:00.000000000",
                    "2017-01-01T00:00:00.000000000",
                    "2017-02-01T00:00:00.000000000",
                    "2017-03-01T00:00:00.000000000",
                    "2017-04-01T00:00:00.000000000",
                    "2017-05-01T00:00:00.000000000",
                    "2017-06-01T00:00:00.000000000",
                    "2017-07-01T00:00:00.000000000",
                    "2017-08-01T00:00:00.000000000",
                    "2017-09-01T00:00:00.000000000",
                    "2017-10-01T00:00:00.000000000",
                    "2017-11-01T00:00:00.000000000",
                    "2017-12-01T00:00:00.000000000",
                    "2018-01-01T00:00:00.000000000",
                    "2018-02-01T00:00:00.000000000",
                    "2018-03-01T00:00:00.000000000",
                    "2018-04-01T00:00:00.000000000",
                    "2018-05-01T00:00:00.000000000",
                    "2018-06-01T00:00:00.000000000",
                    "2018-07-01T00:00:00.000000000",
                    "2018-08-01T00:00:00.000000000",
                    "2018-09-01T00:00:00.000000000",
                    "2018-10-01T00:00:00.000000000",
                    "2018-11-01T00:00:00.000000000",
                    "2018-12-01T00:00:00.000000000",
                    "2019-01-01T00:00:00.000000000",
                    "2019-02-01T00:00:00.000000000",
                    "2019-03-01T00:00:00.000000000",
                    "2019-04-01T00:00:00.000000000",
                    "2019-05-01T00:00:00.000000000",
                    "2019-06-01T00:00:00.000000000",
                    "2019-07-01T00:00:00.000000000",
                    "2019-08-01T00:00:00.000000000",
                    "2019-09-01T00:00:00.000000000",
                    "2019-10-01T00:00:00.000000000",
                    "2019-11-01T00:00:00.000000000",
                    "2019-12-01T00:00:00.000000000",
                    "2020-01-01T00:00:00.000000000",
                    "2020-02-01T00:00:00.000000000",
                    "2020-03-01T00:00:00.000000000",
                    "2020-04-01T00:00:00.000000000",
                    "2020-05-01T00:00:00.000000000",
                    "2020-06-01T00:00:00.000000000",
                    "2020-07-01T00:00:00.000000000",
                    "2020-08-01T00:00:00.000000000",
                    "2020-09-01T00:00:00.000000000",
                    "2020-10-01T00:00:00.000000000",
                    "2020-11-01T00:00:00.000000000",
                    "2020-12-01T00:00:00.000000000",
                    "2021-01-01T00:00:00.000000000",
                    "2021-02-01T00:00:00.000000000",
                    "2021-03-01T00:00:00.000000000",
                    "2021-04-01T00:00:00.000000000",
                    "2021-05-01T00:00:00.000000000",
                    "2021-06-01T00:00:00.000000000",
                    "2021-07-01T00:00:00.000000000",
                    "2021-08-01T00:00:00.000000000",
                    "2021-09-01T00:00:00.000000000",
                    "2021-10-01T00:00:00.000000000",
                    "2021-11-01T00:00:00.000000000",
                    "2021-12-01T00:00:00.000000000",
                    "2022-01-01T00:00:00.000000000",
                    "2022-02-01T00:00:00.000000000",
                    "2022-03-01T00:00:00.000000000",
                    "2022-04-01T00:00:00.000000000",
                    "2022-05-01T00:00:00.000000000",
                    "2022-06-01T00:00:00.000000000",
                    "2022-07-01T00:00:00.000000000",
                    "2022-08-01T00:00:00.000000000",
                    "2022-09-01T00:00:00.000000000",
                    "2022-10-01T00:00:00.000000000",
                    "2022-11-01T00:00:00.000000000",
                    "2022-12-01T00:00:00.000000000",
                    "2023-01-01T00:00:00.000000000",
                    "2023-02-01T00:00:00.000000000",
                    "2023-03-01T00:00:00.000000000",
                    "2023-04-01T00:00:00.000000000",
                    "2023-05-01T00:00:00.000000000",
                    "2023-06-01T00:00:00.000000000",
                    "2023-07-01T00:00:00.000000000",
                    "2023-08-01T00:00:00.000000000",
                    "2023-09-01T00:00:00.000000000",
                    "2023-10-01T00:00:00.000000000",
                    "2023-11-01T00:00:00.000000000",
                    "2023-12-01T00:00:00.000000000",
                    "2024-01-01T00:00:00.000000000",
                    "2024-02-01T00:00:00.000000000",
                    "2024-03-01T00:00:00.000000000",
                    "2024-04-01T00:00:00.000000000",
                    "2024-05-01T00:00:00.000000000",
                    "2024-06-01T00:00:00.000000000",
                    "2024-07-01T00:00:00.000000000",
                    "2024-08-01T00:00:00.000000000",
                    "2024-09-01T00:00:00.000000000",
                    "2024-10-01T00:00:00.000000000",
                    "2024-11-01T00:00:00.000000000",
                    "2024-12-01T00:00:00.000000000"
                  ],
                  "y": [
                    4.771135292530504,
                    5.135958213197045,
                    5.142061058099965,
                    5.415049521885253,
                    5.858216683554202,
                    5.958666879313752,
                    6.229142449123663,
                    6.248735509905426,
                    6.011994945162187,
                    6.527826818593637,
                    7.153503157924134,
                    7.088945548467744,
                    6.996689885947267,
                    7.442369941591593,
                    7.895354689063055,
                    7.6406041153020166,
                    8.189451262469955,
                    8.011529880871482,
                    8.45469704254043,
                    8.474290103322193,
                    8.825622808109884,
                    8.926073003869439,
                    8.85131871379457,
                    9.124307177579864,
                    9.673154324747799,
                    9.495232943149329,
                    9.59317024493349,
                    9.957993165600033,
                    9.770753906418571,
                    10.328918931169495,
                    10.680251635957195,
                    10.699844696738957,
                    11.05117740152665,
                    11.151627597286202,
                    11.076873307211343,
                    11.666385233025608,
                    11.975538110327122,
                    11.893479128425124,
                    12.163954698235035,
                    12.091713302135545,
                    12.18965060391972,
                    12.635330659564051,
                    12.367234265404795,
                    13.097937558181469,
                    13.27673199494342,
                    13.521014060872911,
                    13.75333774601187,
                    13.575416364413385,
                    13.673353666197563,
                    14.210714854889847,
                    14.389509291651798,
                    19.903529792930904,
                    19.90463058680146,
                    19.706846284932556,
                    19.485898576862937,
                    19.918520695844443,
                    19.799080634977948,
                    20.136719157298476,
                    20.44665962655491,
                    20.25655911132911,
                    20.48967038842298,
                    20.450578825962097,
                    20.609510342453625,
                    20.622569517114712,
                    20.035597041454334,
                    20.742409471145347,
                    20.15543699548497,
                    20.862249425175982,
                    21.04585939670809,
                    20.929938642084625,
                    20.983190173077162,
                    21.10192933323725,
                    21.285539304769355,
                    21.221769287267886,
                    21.328550066637437,
                    22.051827840855644,
                    22.727677419871725,
                    23.03296565190961,
                    23.53627696289995,
                    23.6690269269121,
                    24.42170569809073,
                    24.650164737966076,
                    24.70256620357263,
                    25.458764280994288,
                    26.038904784147192,
                    26.319514561144523,
                    26.319765289629068,
                    27.075963367050765,
                    27.57927467804109,
                    27.712024642053247,
                    27.743622271601165,
                    28.428789728200243,
                    29.196473764097554,
                    29.23738927122845,
                    29.36082135765762,
                    30.045988814256695,
                    30.81367285015402,
                    31.02727994914395,
                    31.171362547798463,
                    31.979711362342126,
                    32.32519195071147,
                    32.73616016824836,
                    33.2394714792387,
                    33.5447597112766,
                    33.59716117688314,
                    34.18082098627908,
                    34.16291731026523,
                    35.0702776642851
                  ]
                }
              ],
              "layout": {
                "annotations": [
                  {
                    "arrowhead": 2,
                    "ax": 30,
                    "ay": -40,
                    "showarrow": true,
                    "text": "Pandemia",
                    "x": "2020-04-01",
                    "y": 34.30808238984768
                  },
                  {
                    "arrowhead": 2,
                    "ax": 30,
                    "ay": -40,
                    "showarrow": true,
                    "text": "Pos Pandemia",
                    "x": "2022-04-01",
                    "y": 34.30808238984768
                  }
                ],
                "legend": {
                  "title": {
                    "text": "Legend"
                  }
                },
                "shapes": [
                  {
                    "line": {
                      "color": "black",
                      "dash": "dash"
                    },
                    "type": "line",
                    "x0": "2020-04-01",
                    "x1": "2020-04-01",
                    "y0": 5.290365071949884,
                    "y1": 34.30808238984768
                  },
                  {
                    "line": {
                      "color": "black",
                      "dash": "dash"
                    },
                    "type": "line",
                    "x0": "2022-04-01",
                    "x1": "2022-04-01",
                    "y0": 5.290365071949884,
                    "y1": 34.30808238984768
                  }
                ],
                "template": {
                  "data": {
                    "bar": [
                      {
                        "error_x": {
                          "color": "#2a3f5f"
                        },
                        "error_y": {
                          "color": "#2a3f5f"
                        },
                        "marker": {
                          "line": {
                            "color": "#E5ECF6",
                            "width": 0.5
                          },
                          "pattern": {
                            "fillmode": "overlay",
                            "size": 10,
                            "solidity": 0.2
                          }
                        },
                        "type": "bar"
                      }
                    ],
                    "barpolar": [
                      {
                        "marker": {
                          "line": {
                            "color": "#E5ECF6",
                            "width": 0.5
                          },
                          "pattern": {
                            "fillmode": "overlay",
                            "size": 10,
                            "solidity": 0.2
                          }
                        },
                        "type": "barpolar"
                      }
                    ],
                    "carpet": [
                      {
                        "aaxis": {
                          "endlinecolor": "#2a3f5f",
                          "gridcolor": "white",
                          "linecolor": "white",
                          "minorgridcolor": "white",
                          "startlinecolor": "#2a3f5f"
                        },
                        "baxis": {
                          "endlinecolor": "#2a3f5f",
                          "gridcolor": "white",
                          "linecolor": "white",
                          "minorgridcolor": "white",
                          "startlinecolor": "#2a3f5f"
                        },
                        "type": "carpet"
                      }
                    ],
                    "choropleth": [
                      {
                        "colorbar": {
                          "outlinewidth": 0,
                          "ticks": ""
                        },
                        "type": "choropleth"
                      }
                    ],
                    "contour": [
                      {
                        "colorbar": {
                          "outlinewidth": 0,
                          "ticks": ""
                        },
                        "colorscale": [
                          [
                            0,
                            "#0d0887"
                          ],
                          [
                            0.1111111111111111,
                            "#46039f"
                          ],
                          [
                            0.2222222222222222,
                            "#7201a8"
                          ],
                          [
                            0.3333333333333333,
                            "#9c179e"
                          ],
                          [
                            0.4444444444444444,
                            "#bd3786"
                          ],
                          [
                            0.5555555555555556,
                            "#d8576b"
                          ],
                          [
                            0.6666666666666666,
                            "#ed7953"
                          ],
                          [
                            0.7777777777777778,
                            "#fb9f3a"
                          ],
                          [
                            0.8888888888888888,
                            "#fdca26"
                          ],
                          [
                            1,
                            "#f0f921"
                          ]
                        ],
                        "type": "contour"
                      }
                    ],
                    "contourcarpet": [
                      {
                        "colorbar": {
                          "outlinewidth": 0,
                          "ticks": ""
                        },
                        "type": "contourcarpet"
                      }
                    ],
                    "heatmap": [
                      {
                        "colorbar": {
                          "outlinewidth": 0,
                          "ticks": ""
                        },
                        "colorscale": [
                          [
                            0,
                            "#0d0887"
                          ],
                          [
                            0.1111111111111111,
                            "#46039f"
                          ],
                          [
                            0.2222222222222222,
                            "#7201a8"
                          ],
                          [
                            0.3333333333333333,
                            "#9c179e"
                          ],
                          [
                            0.4444444444444444,
                            "#bd3786"
                          ],
                          [
                            0.5555555555555556,
                            "#d8576b"
                          ],
                          [
                            0.6666666666666666,
                            "#ed7953"
                          ],
                          [
                            0.7777777777777778,
                            "#fb9f3a"
                          ],
                          [
                            0.8888888888888888,
                            "#fdca26"
                          ],
                          [
                            1,
                            "#f0f921"
                          ]
                        ],
                        "type": "heatmap"
                      }
                    ],
                    "heatmapgl": [
                      {
                        "colorbar": {
                          "outlinewidth": 0,
                          "ticks": ""
                        },
                        "colorscale": [
                          [
                            0,
                            "#0d0887"
                          ],
                          [
                            0.1111111111111111,
                            "#46039f"
                          ],
                          [
                            0.2222222222222222,
                            "#7201a8"
                          ],
                          [
                            0.3333333333333333,
                            "#9c179e"
                          ],
                          [
                            0.4444444444444444,
                            "#bd3786"
                          ],
                          [
                            0.5555555555555556,
                            "#d8576b"
                          ],
                          [
                            0.6666666666666666,
                            "#ed7953"
                          ],
                          [
                            0.7777777777777778,
                            "#fb9f3a"
                          ],
                          [
                            0.8888888888888888,
                            "#fdca26"
                          ],
                          [
                            1,
                            "#f0f921"
                          ]
                        ],
                        "type": "heatmapgl"
                      }
                    ],
                    "histogram": [
                      {
                        "marker": {
                          "pattern": {
                            "fillmode": "overlay",
                            "size": 10,
                            "solidity": 0.2
                          }
                        },
                        "type": "histogram"
                      }
                    ],
                    "histogram2d": [
                      {
                        "colorbar": {
                          "outlinewidth": 0,
                          "ticks": ""
                        },
                        "colorscale": [
                          [
                            0,
                            "#0d0887"
                          ],
                          [
                            0.1111111111111111,
                            "#46039f"
                          ],
                          [
                            0.2222222222222222,
                            "#7201a8"
                          ],
                          [
                            0.3333333333333333,
                            "#9c179e"
                          ],
                          [
                            0.4444444444444444,
                            "#bd3786"
                          ],
                          [
                            0.5555555555555556,
                            "#d8576b"
                          ],
                          [
                            0.6666666666666666,
                            "#ed7953"
                          ],
                          [
                            0.7777777777777778,
                            "#fb9f3a"
                          ],
                          [
                            0.8888888888888888,
                            "#fdca26"
                          ],
                          [
                            1,
                            "#f0f921"
                          ]
                        ],
                        "type": "histogram2d"
                      }
                    ],
                    "histogram2dcontour": [
                      {
                        "colorbar": {
                          "outlinewidth": 0,
                          "ticks": ""
                        },
                        "colorscale": [
                          [
                            0,
                            "#0d0887"
                          ],
                          [
                            0.1111111111111111,
                            "#46039f"
                          ],
                          [
                            0.2222222222222222,
                            "#7201a8"
                          ],
                          [
                            0.3333333333333333,
                            "#9c179e"
                          ],
                          [
                            0.4444444444444444,
                            "#bd3786"
                          ],
                          [
                            0.5555555555555556,
                            "#d8576b"
                          ],
                          [
                            0.6666666666666666,
                            "#ed7953"
                          ],
                          [
                            0.7777777777777778,
                            "#fb9f3a"
                          ],
                          [
                            0.8888888888888888,
                            "#fdca26"
                          ],
                          [
                            1,
                            "#f0f921"
                          ]
                        ],
                        "type": "histogram2dcontour"
                      }
                    ],
                    "mesh3d": [
                      {
                        "colorbar": {
                          "outlinewidth": 0,
                          "ticks": ""
                        },
                        "type": "mesh3d"
                      }
                    ],
                    "parcoords": [
                      {
                        "line": {
                          "colorbar": {
                            "outlinewidth": 0,
                            "ticks": ""
                          }
                        },
                        "type": "parcoords"
                      }
                    ],
                    "pie": [
                      {
                        "automargin": true,
                        "type": "pie"
                      }
                    ],
                    "scatter": [
                      {
                        "fillpattern": {
                          "fillmode": "overlay",
                          "size": 10,
                          "solidity": 0.2
                        },
                        "type": "scatter"
                      }
                    ],
                    "scatter3d": [
                      {
                        "line": {
                          "colorbar": {
                            "outlinewidth": 0,
                            "ticks": ""
                          }
                        },
                        "marker": {
                          "colorbar": {
                            "outlinewidth": 0,
                            "ticks": ""
                          }
                        },
                        "type": "scatter3d"
                      }
                    ],
                    "scattercarpet": [
                      {
                        "marker": {
                          "colorbar": {
                            "outlinewidth": 0,
                            "ticks": ""
                          }
                        },
                        "type": "scattercarpet"
                      }
                    ],
                    "scattergeo": [
                      {
                        "marker": {
                          "colorbar": {
                            "outlinewidth": 0,
                            "ticks": ""
                          }
                        },
                        "type": "scattergeo"
                      }
                    ],
                    "scattergl": [
                      {
                        "marker": {
                          "colorbar": {
                            "outlinewidth": 0,
                            "ticks": ""
                          }
                        },
                        "type": "scattergl"
                      }
                    ],
                    "scattermapbox": [
                      {
                        "marker": {
                          "colorbar": {
                            "outlinewidth": 0,
                            "ticks": ""
                          }
                        },
                        "type": "scattermapbox"
                      }
                    ],
                    "scatterpolar": [
                      {
                        "marker": {
                          "colorbar": {
                            "outlinewidth": 0,
                            "ticks": ""
                          }
                        },
                        "type": "scatterpolar"
                      }
                    ],
                    "scatterpolargl": [
                      {
                        "marker": {
                          "colorbar": {
                            "outlinewidth": 0,
                            "ticks": ""
                          }
                        },
                        "type": "scatterpolargl"
                      }
                    ],
                    "scatterternary": [
                      {
                        "marker": {
                          "colorbar": {
                            "outlinewidth": 0,
                            "ticks": ""
                          }
                        },
                        "type": "scatterternary"
                      }
                    ],
                    "surface": [
                      {
                        "colorbar": {
                          "outlinewidth": 0,
                          "ticks": ""
                        },
                        "colorscale": [
                          [
                            0,
                            "#0d0887"
                          ],
                          [
                            0.1111111111111111,
                            "#46039f"
                          ],
                          [
                            0.2222222222222222,
                            "#7201a8"
                          ],
                          [
                            0.3333333333333333,
                            "#9c179e"
                          ],
                          [
                            0.4444444444444444,
                            "#bd3786"
                          ],
                          [
                            0.5555555555555556,
                            "#d8576b"
                          ],
                          [
                            0.6666666666666666,
                            "#ed7953"
                          ],
                          [
                            0.7777777777777778,
                            "#fb9f3a"
                          ],
                          [
                            0.8888888888888888,
                            "#fdca26"
                          ],
                          [
                            1,
                            "#f0f921"
                          ]
                        ],
                        "type": "surface"
                      }
                    ],
                    "table": [
                      {
                        "cells": {
                          "fill": {
                            "color": "#EBF0F8"
                          },
                          "line": {
                            "color": "white"
                          }
                        },
                        "header": {
                          "fill": {
                            "color": "#C8D4E3"
                          },
                          "line": {
                            "color": "white"
                          }
                        },
                        "type": "table"
                      }
                    ]
                  },
                  "layout": {
                    "annotationdefaults": {
                      "arrowcolor": "#2a3f5f",
                      "arrowhead": 0,
                      "arrowwidth": 1
                    },
                    "autotypenumbers": "strict",
                    "coloraxis": {
                      "colorbar": {
                        "outlinewidth": 0,
                        "ticks": ""
                      }
                    },
                    "colorscale": {
                      "diverging": [
                        [
                          0,
                          "#8e0152"
                        ],
                        [
                          0.1,
                          "#c51b7d"
                        ],
                        [
                          0.2,
                          "#de77ae"
                        ],
                        [
                          0.3,
                          "#f1b6da"
                        ],
                        [
                          0.4,
                          "#fde0ef"
                        ],
                        [
                          0.5,
                          "#f7f7f7"
                        ],
                        [
                          0.6,
                          "#e6f5d0"
                        ],
                        [
                          0.7,
                          "#b8e186"
                        ],
                        [
                          0.8,
                          "#7fbc41"
                        ],
                        [
                          0.9,
                          "#4d9221"
                        ],
                        [
                          1,
                          "#276419"
                        ]
                      ],
                      "sequential": [
                        [
                          0,
                          "#0d0887"
                        ],
                        [
                          0.1111111111111111,
                          "#46039f"
                        ],
                        [
                          0.2222222222222222,
                          "#7201a8"
                        ],
                        [
                          0.3333333333333333,
                          "#9c179e"
                        ],
                        [
                          0.4444444444444444,
                          "#bd3786"
                        ],
                        [
                          0.5555555555555556,
                          "#d8576b"
                        ],
                        [
                          0.6666666666666666,
                          "#ed7953"
                        ],
                        [
                          0.7777777777777778,
                          "#fb9f3a"
                        ],
                        [
                          0.8888888888888888,
                          "#fdca26"
                        ],
                        [
                          1,
                          "#f0f921"
                        ]
                      ],
                      "sequentialminus": [
                        [
                          0,
                          "#0d0887"
                        ],
                        [
                          0.1111111111111111,
                          "#46039f"
                        ],
                        [
                          0.2222222222222222,
                          "#7201a8"
                        ],
                        [
                          0.3333333333333333,
                          "#9c179e"
                        ],
                        [
                          0.4444444444444444,
                          "#bd3786"
                        ],
                        [
                          0.5555555555555556,
                          "#d8576b"
                        ],
                        [
                          0.6666666666666666,
                          "#ed7953"
                        ],
                        [
                          0.7777777777777778,
                          "#fb9f3a"
                        ],
                        [
                          0.8888888888888888,
                          "#fdca26"
                        ],
                        [
                          1,
                          "#f0f921"
                        ]
                      ]
                    },
                    "colorway": [
                      "#636efa",
                      "#EF553B",
                      "#00cc96",
                      "#ab63fa",
                      "#FFA15A",
                      "#19d3f3",
                      "#FF6692",
                      "#B6E880",
                      "#FF97FF",
                      "#FECB52"
                    ],
                    "font": {
                      "color": "#2a3f5f"
                    },
                    "geo": {
                      "bgcolor": "white",
                      "lakecolor": "white",
                      "landcolor": "#E5ECF6",
                      "showlakes": true,
                      "showland": true,
                      "subunitcolor": "white"
                    },
                    "hoverlabel": {
                      "align": "left"
                    },
                    "hovermode": "closest",
                    "mapbox": {
                      "style": "light"
                    },
                    "paper_bgcolor": "white",
                    "plot_bgcolor": "#E5ECF6",
                    "polar": {
                      "angularaxis": {
                        "gridcolor": "white",
                        "linecolor": "white",
                        "ticks": ""
                      },
                      "bgcolor": "#E5ECF6",
                      "radialaxis": {
                        "gridcolor": "white",
                        "linecolor": "white",
                        "ticks": ""
                      }
                    },
                    "scene": {
                      "xaxis": {
                        "backgroundcolor": "#E5ECF6",
                        "gridcolor": "white",
                        "gridwidth": 2,
                        "linecolor": "white",
                        "showbackground": true,
                        "ticks": "",
                        "zerolinecolor": "white"
                      },
                      "yaxis": {
                        "backgroundcolor": "#E5ECF6",
                        "gridcolor": "white",
                        "gridwidth": 2,
                        "linecolor": "white",
                        "showbackground": true,
                        "ticks": "",
                        "zerolinecolor": "white"
                      },
                      "zaxis": {
                        "backgroundcolor": "#E5ECF6",
                        "gridcolor": "white",
                        "gridwidth": 2,
                        "linecolor": "white",
                        "showbackground": true,
                        "ticks": "",
                        "zerolinecolor": "white"
                      }
                    },
                    "shapedefaults": {
                      "line": {
                        "color": "#2a3f5f"
                      }
                    },
                    "ternary": {
                      "aaxis": {
                        "gridcolor": "white",
                        "linecolor": "white",
                        "ticks": ""
                      },
                      "baxis": {
                        "gridcolor": "white",
                        "linecolor": "white",
                        "ticks": ""
                      },
                      "bgcolor": "#E5ECF6",
                      "caxis": {
                        "gridcolor": "white",
                        "linecolor": "white",
                        "ticks": ""
                      }
                    },
                    "title": {
                      "x": 0.05
                    },
                    "xaxis": {
                      "automargin": true,
                      "gridcolor": "white",
                      "linecolor": "white",
                      "ticks": "",
                      "title": {
                        "standoff": 15
                      },
                      "zerolinecolor": "white",
                      "zerolinewidth": 2
                    },
                    "yaxis": {
                      "automargin": true,
                      "gridcolor": "white",
                      "linecolor": "white",
                      "ticks": "",
                      "title": {
                        "standoff": 15
                      },
                      "zerolinecolor": "white",
                      "zerolinewidth": 2
                    }
                  }
                },
                "title": {
                  "text": "nordeste"
                },
                "xaxis": {
                  "title": {
                    "text": "Time"
                  }
                },
                "yaxis": {
                  "title": {
                    "text": "Value"
                  }
                }
              }
            }
          },
          "metadata": {},
          "output_type": "display_data"
        },
        {
          "data": {
            "application/vnd.plotly.v1+json": {
              "config": {
                "plotlyServerURL": "https://plot.ly"
              },
              "data": [
                {
                  "marker": {
                    "color": "black"
                  },
                  "mode": "markers",
                  "name": "Real",
                  "type": "scatter",
                  "x": [
                    "2016-01-01T00:00:00.000000000",
                    "2016-02-01T00:00:00.000000000",
                    "2016-03-01T00:00:00.000000000",
                    "2016-04-01T00:00:00.000000000",
                    "2016-05-01T00:00:00.000000000",
                    "2016-06-01T00:00:00.000000000",
                    "2016-07-01T00:00:00.000000000",
                    "2016-08-01T00:00:00.000000000",
                    "2016-09-01T00:00:00.000000000",
                    "2016-10-01T00:00:00.000000000",
                    "2016-11-01T00:00:00.000000000",
                    "2016-12-01T00:00:00.000000000",
                    "2017-01-01T00:00:00.000000000",
                    "2017-02-01T00:00:00.000000000",
                    "2017-03-01T00:00:00.000000000",
                    "2017-04-01T00:00:00.000000000",
                    "2017-05-01T00:00:00.000000000",
                    "2017-06-01T00:00:00.000000000",
                    "2017-07-01T00:00:00.000000000",
                    "2017-08-01T00:00:00.000000000",
                    "2017-09-01T00:00:00.000000000",
                    "2017-10-01T00:00:00.000000000",
                    "2017-11-01T00:00:00.000000000",
                    "2017-12-01T00:00:00.000000000",
                    "2018-01-01T00:00:00.000000000",
                    "2018-02-01T00:00:00.000000000",
                    "2018-03-01T00:00:00.000000000",
                    "2018-04-01T00:00:00.000000000",
                    "2018-05-01T00:00:00.000000000",
                    "2018-06-01T00:00:00.000000000",
                    "2018-07-01T00:00:00.000000000",
                    "2018-08-01T00:00:00.000000000",
                    "2018-09-01T00:00:00.000000000",
                    "2018-10-01T00:00:00.000000000",
                    "2018-11-01T00:00:00.000000000",
                    "2018-12-01T00:00:00.000000000",
                    "2019-01-01T00:00:00.000000000",
                    "2019-02-01T00:00:00.000000000",
                    "2019-03-01T00:00:00.000000000",
                    "2019-04-01T00:00:00.000000000",
                    "2019-05-01T00:00:00.000000000",
                    "2019-06-01T00:00:00.000000000",
                    "2019-07-01T00:00:00.000000000",
                    "2019-08-01T00:00:00.000000000",
                    "2019-09-01T00:00:00.000000000",
                    "2019-10-01T00:00:00.000000000",
                    "2019-11-01T00:00:00.000000000",
                    "2019-12-01T00:00:00.000000000",
                    "2020-01-01T00:00:00.000000000",
                    "2020-02-01T00:00:00.000000000",
                    "2020-03-01T00:00:00.000000000",
                    "2020-04-01T00:00:00.000000000",
                    "2020-05-01T00:00:00.000000000",
                    "2020-06-01T00:00:00.000000000",
                    "2020-07-01T00:00:00.000000000",
                    "2020-08-01T00:00:00.000000000",
                    "2020-09-01T00:00:00.000000000",
                    "2020-10-01T00:00:00.000000000",
                    "2020-11-01T00:00:00.000000000",
                    "2020-12-01T00:00:00.000000000",
                    "2021-01-01T00:00:00.000000000",
                    "2021-02-01T00:00:00.000000000",
                    "2021-03-01T00:00:00.000000000",
                    "2021-04-01T00:00:00.000000000",
                    "2021-05-01T00:00:00.000000000",
                    "2021-06-01T00:00:00.000000000",
                    "2021-07-01T00:00:00.000000000",
                    "2021-08-01T00:00:00.000000000",
                    "2021-09-01T00:00:00.000000000",
                    "2021-10-01T00:00:00.000000000",
                    "2021-11-01T00:00:00.000000000",
                    "2021-12-01T00:00:00.000000000",
                    "2022-01-01T00:00:00.000000000",
                    "2022-02-01T00:00:00.000000000",
                    "2022-03-01T00:00:00.000000000",
                    "2022-04-01T00:00:00.000000000",
                    "2022-05-01T00:00:00.000000000",
                    "2022-06-01T00:00:00.000000000",
                    "2022-07-01T00:00:00.000000000",
                    "2022-08-01T00:00:00.000000000",
                    "2022-09-01T00:00:00.000000000",
                    "2022-10-01T00:00:00.000000000",
                    "2022-11-01T00:00:00.000000000",
                    "2022-12-01T00:00:00.000000000",
                    "2023-01-01T00:00:00.000000000",
                    "2023-02-01T00:00:00.000000000",
                    "2023-03-01T00:00:00.000000000",
                    "2023-04-01T00:00:00.000000000",
                    "2023-05-01T00:00:00.000000000",
                    "2023-06-01T00:00:00.000000000",
                    "2023-07-01T00:00:00.000000000",
                    "2023-08-01T00:00:00.000000000",
                    "2023-09-01T00:00:00.000000000",
                    "2023-10-01T00:00:00.000000000",
                    "2023-11-01T00:00:00.000000000",
                    "2023-12-01T00:00:00.000000000",
                    "2024-01-01T00:00:00.000000000",
                    "2024-02-01T00:00:00.000000000",
                    "2024-03-01T00:00:00.000000000",
                    "2024-04-01T00:00:00.000000000",
                    "2024-05-01T00:00:00.000000000",
                    "2024-06-01T00:00:00.000000000",
                    "2024-07-01T00:00:00.000000000",
                    "2024-08-01T00:00:00.000000000",
                    "2024-09-01T00:00:00.000000000",
                    "2024-10-01T00:00:00.000000000",
                    "2024-11-01T00:00:00.000000000",
                    "2024-12-01T00:00:00.000000000"
                  ],
                  "y": [
                    10.94140138935814,
                    11.15328950088905,
                    10.14758905562931,
                    10.44308980880159,
                    11.55083735896341,
                    11.95685296106196,
                    12.22283066210064,
                    12.05385659207865,
                    10.92216140369311,
                    12.10845663283263,
                    11.24456421169504,
                    11.47609852316225,
                    12.88323659257188,
                    13.1032856582817,
                    12.35336781907575,
                    12.88020271632866,
                    14.02622164361937,
                    14.72402408326935,
                    15.17299867199811,
                    16.74351799113445,
                    17.50080948783229,
                    18.55172512275677,
                    19.24970574031138,
                    19.01800430755296,
                    19.46595158061714,
                    20.15976295663337,
                    19.5755937946631,
                    18.94855506346339,
                    20.15326630623844,
                    22.43869993161474,
                    21.94833973527101,
                    22.20288933340647,
                    22.33010321743537,
                    22.09873934296177,
                    21.76821746001558,
                    21.6373515217586,
                    21.07423466406934,
                    21.67552708464263,
                    21.23759619107129,
                    19.9316636438358,
                    20.26943065317726,
                    21.23602606289089,
                    22.34085351006278,
                    24.30922820401304,
                    25.43228198261206,
                    25.11819516735495,
                    24.29750404133376,
                    24.97149009377163,
                    24.83673242467998,
                    24.13781817688348,
                    24.75752642998163,
                    30.65261778875609,
                    29.30167085828554,
                    27.19349012046812,
                    24.08971083654086,
                    23.74104219612153,
                    25.8040271595818,
                    26.77968851033053,
                    25.87867843836617,
                    24.1074706164223,
                    24.6740191716648,
                    25.34405108032609,
                    23.35680721884366,
                    25.01121970058513,
                    23.26195543586848,
                    25.29701485722184,
                    25.65159011900602,
                    27.5704057061705,
                    29.16117018095997,
                    28.00279767992944,
                    27.78879468166834,
                    25.40002259684501,
                    17.6181428963025,
                    23.84813931821445,
                    27.54613705762121,
                    27.30054765177304,
                    26.64035116454286,
                    22.90007569717366,
                    25.18426091216629,
                    29.10503793407317,
                    30.62601226921732,
                    28.648598238113,
                    27.25442111769045,
                    24.65804742760372,
                    29.3767082567674,
                    29.35335345089645,
                    27.47523146145193,
                    25.90432539246899,
                    27.49724158978332,
                    29.25956921751495,
                    29.95301692636741,
                    31.23975800511491,
                    32.12580544542293,
                    30.65647757713436,
                    30.30209761429681,
                    29.42344365830787,
                    29.99583327226321,
                    26.68997418777363,
                    25.75569553899327,
                    25.50803046568807,
                    26.94564098238045,
                    29.69432691172647,
                    30.674832310813,
                    30.99861280198531,
                    30.82455520280518,
                    31.49914319582232,
                    29.98598044981697,
                    29.58332957744388
                  ]
                },
                {
                  "line": {
                    "color": "black",
                    "dash": "dot"
                  },
                  "mode": "lines",
                  "name": "Baseline",
                  "type": "scatter",
                  "x": [
                    "2016-01-01T00:00:00.000000000",
                    "2016-02-01T00:00:00.000000000",
                    "2016-03-01T00:00:00.000000000",
                    "2016-04-01T00:00:00.000000000",
                    "2016-05-01T00:00:00.000000000",
                    "2016-06-01T00:00:00.000000000",
                    "2016-07-01T00:00:00.000000000",
                    "2016-08-01T00:00:00.000000000",
                    "2016-09-01T00:00:00.000000000",
                    "2016-10-01T00:00:00.000000000",
                    "2016-11-01T00:00:00.000000000",
                    "2016-12-01T00:00:00.000000000",
                    "2017-01-01T00:00:00.000000000",
                    "2017-02-01T00:00:00.000000000",
                    "2017-03-01T00:00:00.000000000",
                    "2017-04-01T00:00:00.000000000",
                    "2017-05-01T00:00:00.000000000",
                    "2017-06-01T00:00:00.000000000",
                    "2017-07-01T00:00:00.000000000",
                    "2017-08-01T00:00:00.000000000",
                    "2017-09-01T00:00:00.000000000",
                    "2017-10-01T00:00:00.000000000",
                    "2017-11-01T00:00:00.000000000",
                    "2017-12-01T00:00:00.000000000",
                    "2018-01-01T00:00:00.000000000",
                    "2018-02-01T00:00:00.000000000",
                    "2018-03-01T00:00:00.000000000",
                    "2018-04-01T00:00:00.000000000",
                    "2018-05-01T00:00:00.000000000",
                    "2018-06-01T00:00:00.000000000",
                    "2018-07-01T00:00:00.000000000",
                    "2018-08-01T00:00:00.000000000",
                    "2018-09-01T00:00:00.000000000",
                    "2018-10-01T00:00:00.000000000",
                    "2018-11-01T00:00:00.000000000",
                    "2018-12-01T00:00:00.000000000",
                    "2019-01-01T00:00:00.000000000",
                    "2019-02-01T00:00:00.000000000",
                    "2019-03-01T00:00:00.000000000",
                    "2019-04-01T00:00:00.000000000",
                    "2019-05-01T00:00:00.000000000",
                    "2019-06-01T00:00:00.000000000",
                    "2019-07-01T00:00:00.000000000",
                    "2019-08-01T00:00:00.000000000",
                    "2019-09-01T00:00:00.000000000",
                    "2019-10-01T00:00:00.000000000",
                    "2019-11-01T00:00:00.000000000",
                    "2019-12-01T00:00:00.000000000",
                    "2020-01-01T00:00:00.000000000",
                    "2020-02-01T00:00:00.000000000",
                    "2020-03-01T00:00:00.000000000",
                    "2020-04-01T00:00:00.000000000",
                    "2020-05-01T00:00:00.000000000",
                    "2020-06-01T00:00:00.000000000",
                    "2020-07-01T00:00:00.000000000",
                    "2020-08-01T00:00:00.000000000",
                    "2020-09-01T00:00:00.000000000",
                    "2020-10-01T00:00:00.000000000",
                    "2020-11-01T00:00:00.000000000",
                    "2020-12-01T00:00:00.000000000",
                    "2021-01-01T00:00:00.000000000",
                    "2021-02-01T00:00:00.000000000",
                    "2021-03-01T00:00:00.000000000",
                    "2021-04-01T00:00:00.000000000",
                    "2021-05-01T00:00:00.000000000",
                    "2021-06-01T00:00:00.000000000",
                    "2021-07-01T00:00:00.000000000",
                    "2021-08-01T00:00:00.000000000",
                    "2021-09-01T00:00:00.000000000",
                    "2021-10-01T00:00:00.000000000",
                    "2021-11-01T00:00:00.000000000",
                    "2021-12-01T00:00:00.000000000",
                    "2022-01-01T00:00:00.000000000",
                    "2022-02-01T00:00:00.000000000",
                    "2022-03-01T00:00:00.000000000",
                    "2022-04-01T00:00:00.000000000",
                    "2022-05-01T00:00:00.000000000",
                    "2022-06-01T00:00:00.000000000",
                    "2022-07-01T00:00:00.000000000",
                    "2022-08-01T00:00:00.000000000",
                    "2022-09-01T00:00:00.000000000",
                    "2022-10-01T00:00:00.000000000",
                    "2022-11-01T00:00:00.000000000",
                    "2022-12-01T00:00:00.000000000",
                    "2023-01-01T00:00:00.000000000",
                    "2023-02-01T00:00:00.000000000",
                    "2023-03-01T00:00:00.000000000",
                    "2023-04-01T00:00:00.000000000",
                    "2023-05-01T00:00:00.000000000",
                    "2023-06-01T00:00:00.000000000",
                    "2023-07-01T00:00:00.000000000",
                    "2023-08-01T00:00:00.000000000",
                    "2023-09-01T00:00:00.000000000",
                    "2023-10-01T00:00:00.000000000",
                    "2023-11-01T00:00:00.000000000",
                    "2023-12-01T00:00:00.000000000",
                    "2024-01-01T00:00:00.000000000",
                    "2024-02-01T00:00:00.000000000",
                    "2024-03-01T00:00:00.000000000",
                    "2024-04-01T00:00:00.000000000",
                    "2024-05-01T00:00:00.000000000",
                    "2024-06-01T00:00:00.000000000",
                    "2024-07-01T00:00:00.000000000",
                    "2024-08-01T00:00:00.000000000",
                    "2024-09-01T00:00:00.000000000",
                    "2024-10-01T00:00:00.000000000",
                    "2024-11-01T00:00:00.000000000",
                    "2024-12-01T00:00:00.000000000"
                  ],
                  "y": [
                    10.29843334493975,
                    10.597220417946378,
                    10.896007490953007,
                    11.194794563959634,
                    11.493581636966262,
                    11.792368709972889,
                    12.091155782979516,
                    12.389942855986144,
                    12.688729928992771,
                    12.9875170019994,
                    13.286304075006028,
                    13.585091148012655,
                    13.883878221019282,
                    14.18266529402591,
                    14.481452367032539,
                    14.780239440039164,
                    15.079026513045793,
                    15.37781358605242,
                    15.676600659059048,
                    15.975387732065675,
                    16.274174805072303,
                    16.57296187807893,
                    16.871748951085557,
                    17.170536024092186,
                    17.469323097098815,
                    17.76811017010544,
                    18.066897243112066,
                    18.365684316118696,
                    18.664471389125325,
                    18.963258462131954,
                    19.26204553513858,
                    19.560832608145205,
                    19.859619681151834,
                    20.158406754158463,
                    20.45719382716509,
                    20.755980900171718,
                    21.054767973178343,
                    21.353555046184972,
                    21.6523421191916,
                    21.951129192198227,
                    22.249916265204853,
                    22.54870333821148,
                    22.84749041121811,
                    23.14627748422474,
                    23.445064557231365,
                    23.74385163023799,
                    24.04263870324462,
                    24.34142577625125,
                    24.64021284925788,
                    24.938999922264504,
                    25.23778699527113,
                    25.53657406827776,
                    25.835361141284388,
                    26.134148214291013,
                    26.432935287297642,
                    26.731722360304268,
                    27.030509433310897,
                    27.329296506317526,
                    27.62808357932415,
                    27.92687065233078,
                    28.225657725337406,
                    28.524444798344035,
                    28.82323187135066,
                    29.12201894435729,
                    29.42080601736392,
                    29.719593090370545,
                    30.018380163377174,
                    30.3171672363838,
                    30.61595430939043,
                    30.914741382397054,
                    31.213528455403683,
                    31.512315528410312,
                    31.811102601416938,
                    32.10988967442357,
                    32.40867674743019,
                    32.70746382043682,
                    33.00625089344345,
                    33.30503796645007,
                    33.60382503945671,
                    33.90261211246333,
                    34.20139918546996,
                    34.50018625847659,
                    34.79897333148321,
                    35.09776040448985,
                    35.39654747749647,
                    35.6953345505031,
                    35.99412162350973,
                    36.29290869651635,
                    36.59169576952298,
                    36.89048284252961,
                    37.18926991553624,
                    37.488056988542866,
                    37.78684406154949,
                    38.08563113455612,
                    38.384418207562746,
                    38.683205280569375,
                    38.981992353576004,
                    39.280779426582626,
                    39.579566499589255,
                    39.878353572595884,
                    40.177140645602506,
                    40.47592771860914,
                    40.774714791615764,
                    41.07350186462239,
                    41.37228893762902,
                    41.671076010635645,
                    41.96986308364228,
                    42.2686501566489
                  ]
                },
                {
                  "line": {
                    "color": "purple"
                  },
                  "mode": "lines",
                  "name": "Full model",
                  "type": "scatter",
                  "x": [
                    "2016-01-01T00:00:00.000000000",
                    "2016-02-01T00:00:00.000000000",
                    "2016-03-01T00:00:00.000000000",
                    "2016-04-01T00:00:00.000000000",
                    "2016-05-01T00:00:00.000000000",
                    "2016-06-01T00:00:00.000000000",
                    "2016-07-01T00:00:00.000000000",
                    "2016-08-01T00:00:00.000000000",
                    "2016-09-01T00:00:00.000000000",
                    "2016-10-01T00:00:00.000000000",
                    "2016-11-01T00:00:00.000000000",
                    "2016-12-01T00:00:00.000000000",
                    "2017-01-01T00:00:00.000000000",
                    "2017-02-01T00:00:00.000000000",
                    "2017-03-01T00:00:00.000000000",
                    "2017-04-01T00:00:00.000000000",
                    "2017-05-01T00:00:00.000000000",
                    "2017-06-01T00:00:00.000000000",
                    "2017-07-01T00:00:00.000000000",
                    "2017-08-01T00:00:00.000000000",
                    "2017-09-01T00:00:00.000000000",
                    "2017-10-01T00:00:00.000000000",
                    "2017-11-01T00:00:00.000000000",
                    "2017-12-01T00:00:00.000000000",
                    "2018-01-01T00:00:00.000000000",
                    "2018-02-01T00:00:00.000000000",
                    "2018-03-01T00:00:00.000000000",
                    "2018-04-01T00:00:00.000000000",
                    "2018-05-01T00:00:00.000000000",
                    "2018-06-01T00:00:00.000000000",
                    "2018-07-01T00:00:00.000000000",
                    "2018-08-01T00:00:00.000000000",
                    "2018-09-01T00:00:00.000000000",
                    "2018-10-01T00:00:00.000000000",
                    "2018-11-01T00:00:00.000000000",
                    "2018-12-01T00:00:00.000000000",
                    "2019-01-01T00:00:00.000000000",
                    "2019-02-01T00:00:00.000000000",
                    "2019-03-01T00:00:00.000000000",
                    "2019-04-01T00:00:00.000000000",
                    "2019-05-01T00:00:00.000000000",
                    "2019-06-01T00:00:00.000000000",
                    "2019-07-01T00:00:00.000000000",
                    "2019-08-01T00:00:00.000000000",
                    "2019-09-01T00:00:00.000000000",
                    "2019-10-01T00:00:00.000000000",
                    "2019-11-01T00:00:00.000000000",
                    "2019-12-01T00:00:00.000000000",
                    "2020-01-01T00:00:00.000000000",
                    "2020-02-01T00:00:00.000000000",
                    "2020-03-01T00:00:00.000000000",
                    "2020-04-01T00:00:00.000000000",
                    "2020-05-01T00:00:00.000000000",
                    "2020-06-01T00:00:00.000000000",
                    "2020-07-01T00:00:00.000000000",
                    "2020-08-01T00:00:00.000000000",
                    "2020-09-01T00:00:00.000000000",
                    "2020-10-01T00:00:00.000000000",
                    "2020-11-01T00:00:00.000000000",
                    "2020-12-01T00:00:00.000000000",
                    "2021-01-01T00:00:00.000000000",
                    "2021-02-01T00:00:00.000000000",
                    "2021-03-01T00:00:00.000000000",
                    "2021-04-01T00:00:00.000000000",
                    "2021-05-01T00:00:00.000000000",
                    "2021-06-01T00:00:00.000000000",
                    "2021-07-01T00:00:00.000000000",
                    "2021-08-01T00:00:00.000000000",
                    "2021-09-01T00:00:00.000000000",
                    "2021-10-01T00:00:00.000000000",
                    "2021-11-01T00:00:00.000000000",
                    "2021-12-01T00:00:00.000000000",
                    "2022-01-01T00:00:00.000000000",
                    "2022-02-01T00:00:00.000000000",
                    "2022-03-01T00:00:00.000000000",
                    "2022-04-01T00:00:00.000000000",
                    "2022-05-01T00:00:00.000000000",
                    "2022-06-01T00:00:00.000000000",
                    "2022-07-01T00:00:00.000000000",
                    "2022-08-01T00:00:00.000000000",
                    "2022-09-01T00:00:00.000000000",
                    "2022-10-01T00:00:00.000000000",
                    "2022-11-01T00:00:00.000000000",
                    "2022-12-01T00:00:00.000000000",
                    "2023-01-01T00:00:00.000000000",
                    "2023-02-01T00:00:00.000000000",
                    "2023-03-01T00:00:00.000000000",
                    "2023-04-01T00:00:00.000000000",
                    "2023-05-01T00:00:00.000000000",
                    "2023-06-01T00:00:00.000000000",
                    "2023-07-01T00:00:00.000000000",
                    "2023-08-01T00:00:00.000000000",
                    "2023-09-01T00:00:00.000000000",
                    "2023-10-01T00:00:00.000000000",
                    "2023-11-01T00:00:00.000000000",
                    "2023-12-01T00:00:00.000000000",
                    "2024-01-01T00:00:00.000000000",
                    "2024-02-01T00:00:00.000000000",
                    "2024-03-01T00:00:00.000000000",
                    "2024-04-01T00:00:00.000000000",
                    "2024-05-01T00:00:00.000000000",
                    "2024-06-01T00:00:00.000000000",
                    "2024-07-01T00:00:00.000000000",
                    "2024-08-01T00:00:00.000000000",
                    "2024-09-01T00:00:00.000000000",
                    "2024-10-01T00:00:00.000000000",
                    "2024-11-01T00:00:00.000000000",
                    "2024-12-01T00:00:00.000000000"
                  ],
                  "y": [
                    10.416903704742968,
                    10.47215986669826,
                    11.014477850756224,
                    11.3406950988817,
                    11.300248468183241,
                    11.891154774125534,
                    12.070315799305572,
                    12.488728920138788,
                    12.667889945318828,
                    13.133417536921465,
                    13.26602728123528,
                    13.798701110566425,
                    14.012585233669494,
                    14.11162756808365,
                    14.264195943076675,
                    14.993849402592934,
                    15.058186529371847,
                    15.306775860110163,
                    15.655760675385102,
                    15.850327180817557,
                    16.253334821398354,
                    16.671747942231576,
                    16.990219310888776,
                    17.099498298149925,
                    17.448483113424867,
                    17.981720132659213,
                    18.19560425576228,
                    18.511584851040755,
                    18.644194595354577,
                    19.109158997054017,
                    19.380515894941798,
                    19.774442570698977,
                    19.64236325719597,
                    20.25719281831111,
                    20.57566418696831,
                    20.684943174229456,
                    21.0344911794076,
                    21.567165008738744,
                    21.770812478994824,
                    21.826068640950105,
                    22.03265984124899,
                    22.647489402364126,
                    22.976197423868324,
                    23.245063548377388,
                    23.424224573557424,
                    23.889752165160058,
                    24.16110906304784,
                    24.55503573880502,
                    24.619936055487134,
                    24.881330635556544,
                    25.020530571315266,
                    27.99919073900463,
                    27.9602814114319,
                    27.936777564111573,
                    27.501528436028988,
                    27.494062422957146,
                    27.38832502074745,
                    27.14041136812316,
                    27.10150204055042,
                    26.921542842369504,
                    26.964789246580757,
                    26.63528305207568,
                    26.52898245996277,
                    26.349023261781852,
                    26.392269665993116,
                    26.06276347148804,
                    26.095773222852287,
                    25.980073502824222,
                    25.47378664879939,
                    25.476875451666086,
                    25.21145011367841,
                    25.407553922236573,
                    24.90126706821174,
                    24.85033304577258,
                    24.950734061677,
                    26.27864155921644,
                    26.246305074171698,
                    26.46575159908262,
                    26.846769815184143,
                    26.787644168029153,
                    26.951724123266324,
                    26.974754207895337,
                    27.206788617575878,
                    27.28327833760756,
                    27.28823354696997,
                    27.537779642013902,
                    27.71579122638861,
                    27.805649385654565,
                    28.109039684368906,
                    27.992759425520756,
                    28.36354098877527,
                    28.585931243729,
                    28.628278946028622,
                    28.84043254813535,
                    28.733796444014015,
                    28.75626333873982,
                    28.815241373408107,
                    29.234611258546927,
                    29.069742677814446,
                    29.265265947552532,
                    29.636047510807042,
                    29.573790077264746,
                    29.890548815213407,
                    30.112939070167123,
                    29.83324659103351,
                    30.028769860771593,
                    30.06382464026703,
                    30.507117780578703
                  ]
                }
              ],
              "layout": {
                "annotations": [
                  {
                    "arrowhead": 2,
                    "ax": 30,
                    "ay": -40,
                    "showarrow": true,
                    "text": "Pandemia",
                    "x": "2020-04-01",
                    "y": 32.12580544542293
                  },
                  {
                    "arrowhead": 2,
                    "ax": 30,
                    "ay": -40,
                    "showarrow": true,
                    "text": "Pos Pandemia",
                    "x": "2022-04-01",
                    "y": 32.12580544542293
                  }
                ],
                "legend": {
                  "title": {
                    "text": "Legend"
                  }
                },
                "shapes": [
                  {
                    "line": {
                      "color": "black",
                      "dash": "dash"
                    },
                    "type": "line",
                    "x0": "2020-04-01",
                    "x1": "2020-04-01",
                    "y0": 10.14758905562931,
                    "y1": 32.12580544542293
                  },
                  {
                    "line": {
                      "color": "black",
                      "dash": "dash"
                    },
                    "type": "line",
                    "x0": "2022-04-01",
                    "x1": "2022-04-01",
                    "y0": 10.14758905562931,
                    "y1": 32.12580544542293
                  }
                ],
                "template": {
                  "data": {
                    "bar": [
                      {
                        "error_x": {
                          "color": "#2a3f5f"
                        },
                        "error_y": {
                          "color": "#2a3f5f"
                        },
                        "marker": {
                          "line": {
                            "color": "#E5ECF6",
                            "width": 0.5
                          },
                          "pattern": {
                            "fillmode": "overlay",
                            "size": 10,
                            "solidity": 0.2
                          }
                        },
                        "type": "bar"
                      }
                    ],
                    "barpolar": [
                      {
                        "marker": {
                          "line": {
                            "color": "#E5ECF6",
                            "width": 0.5
                          },
                          "pattern": {
                            "fillmode": "overlay",
                            "size": 10,
                            "solidity": 0.2
                          }
                        },
                        "type": "barpolar"
                      }
                    ],
                    "carpet": [
                      {
                        "aaxis": {
                          "endlinecolor": "#2a3f5f",
                          "gridcolor": "white",
                          "linecolor": "white",
                          "minorgridcolor": "white",
                          "startlinecolor": "#2a3f5f"
                        },
                        "baxis": {
                          "endlinecolor": "#2a3f5f",
                          "gridcolor": "white",
                          "linecolor": "white",
                          "minorgridcolor": "white",
                          "startlinecolor": "#2a3f5f"
                        },
                        "type": "carpet"
                      }
                    ],
                    "choropleth": [
                      {
                        "colorbar": {
                          "outlinewidth": 0,
                          "ticks": ""
                        },
                        "type": "choropleth"
                      }
                    ],
                    "contour": [
                      {
                        "colorbar": {
                          "outlinewidth": 0,
                          "ticks": ""
                        },
                        "colorscale": [
                          [
                            0,
                            "#0d0887"
                          ],
                          [
                            0.1111111111111111,
                            "#46039f"
                          ],
                          [
                            0.2222222222222222,
                            "#7201a8"
                          ],
                          [
                            0.3333333333333333,
                            "#9c179e"
                          ],
                          [
                            0.4444444444444444,
                            "#bd3786"
                          ],
                          [
                            0.5555555555555556,
                            "#d8576b"
                          ],
                          [
                            0.6666666666666666,
                            "#ed7953"
                          ],
                          [
                            0.7777777777777778,
                            "#fb9f3a"
                          ],
                          [
                            0.8888888888888888,
                            "#fdca26"
                          ],
                          [
                            1,
                            "#f0f921"
                          ]
                        ],
                        "type": "contour"
                      }
                    ],
                    "contourcarpet": [
                      {
                        "colorbar": {
                          "outlinewidth": 0,
                          "ticks": ""
                        },
                        "type": "contourcarpet"
                      }
                    ],
                    "heatmap": [
                      {
                        "colorbar": {
                          "outlinewidth": 0,
                          "ticks": ""
                        },
                        "colorscale": [
                          [
                            0,
                            "#0d0887"
                          ],
                          [
                            0.1111111111111111,
                            "#46039f"
                          ],
                          [
                            0.2222222222222222,
                            "#7201a8"
                          ],
                          [
                            0.3333333333333333,
                            "#9c179e"
                          ],
                          [
                            0.4444444444444444,
                            "#bd3786"
                          ],
                          [
                            0.5555555555555556,
                            "#d8576b"
                          ],
                          [
                            0.6666666666666666,
                            "#ed7953"
                          ],
                          [
                            0.7777777777777778,
                            "#fb9f3a"
                          ],
                          [
                            0.8888888888888888,
                            "#fdca26"
                          ],
                          [
                            1,
                            "#f0f921"
                          ]
                        ],
                        "type": "heatmap"
                      }
                    ],
                    "heatmapgl": [
                      {
                        "colorbar": {
                          "outlinewidth": 0,
                          "ticks": ""
                        },
                        "colorscale": [
                          [
                            0,
                            "#0d0887"
                          ],
                          [
                            0.1111111111111111,
                            "#46039f"
                          ],
                          [
                            0.2222222222222222,
                            "#7201a8"
                          ],
                          [
                            0.3333333333333333,
                            "#9c179e"
                          ],
                          [
                            0.4444444444444444,
                            "#bd3786"
                          ],
                          [
                            0.5555555555555556,
                            "#d8576b"
                          ],
                          [
                            0.6666666666666666,
                            "#ed7953"
                          ],
                          [
                            0.7777777777777778,
                            "#fb9f3a"
                          ],
                          [
                            0.8888888888888888,
                            "#fdca26"
                          ],
                          [
                            1,
                            "#f0f921"
                          ]
                        ],
                        "type": "heatmapgl"
                      }
                    ],
                    "histogram": [
                      {
                        "marker": {
                          "pattern": {
                            "fillmode": "overlay",
                            "size": 10,
                            "solidity": 0.2
                          }
                        },
                        "type": "histogram"
                      }
                    ],
                    "histogram2d": [
                      {
                        "colorbar": {
                          "outlinewidth": 0,
                          "ticks": ""
                        },
                        "colorscale": [
                          [
                            0,
                            "#0d0887"
                          ],
                          [
                            0.1111111111111111,
                            "#46039f"
                          ],
                          [
                            0.2222222222222222,
                            "#7201a8"
                          ],
                          [
                            0.3333333333333333,
                            "#9c179e"
                          ],
                          [
                            0.4444444444444444,
                            "#bd3786"
                          ],
                          [
                            0.5555555555555556,
                            "#d8576b"
                          ],
                          [
                            0.6666666666666666,
                            "#ed7953"
                          ],
                          [
                            0.7777777777777778,
                            "#fb9f3a"
                          ],
                          [
                            0.8888888888888888,
                            "#fdca26"
                          ],
                          [
                            1,
                            "#f0f921"
                          ]
                        ],
                        "type": "histogram2d"
                      }
                    ],
                    "histogram2dcontour": [
                      {
                        "colorbar": {
                          "outlinewidth": 0,
                          "ticks": ""
                        },
                        "colorscale": [
                          [
                            0,
                            "#0d0887"
                          ],
                          [
                            0.1111111111111111,
                            "#46039f"
                          ],
                          [
                            0.2222222222222222,
                            "#7201a8"
                          ],
                          [
                            0.3333333333333333,
                            "#9c179e"
                          ],
                          [
                            0.4444444444444444,
                            "#bd3786"
                          ],
                          [
                            0.5555555555555556,
                            "#d8576b"
                          ],
                          [
                            0.6666666666666666,
                            "#ed7953"
                          ],
                          [
                            0.7777777777777778,
                            "#fb9f3a"
                          ],
                          [
                            0.8888888888888888,
                            "#fdca26"
                          ],
                          [
                            1,
                            "#f0f921"
                          ]
                        ],
                        "type": "histogram2dcontour"
                      }
                    ],
                    "mesh3d": [
                      {
                        "colorbar": {
                          "outlinewidth": 0,
                          "ticks": ""
                        },
                        "type": "mesh3d"
                      }
                    ],
                    "parcoords": [
                      {
                        "line": {
                          "colorbar": {
                            "outlinewidth": 0,
                            "ticks": ""
                          }
                        },
                        "type": "parcoords"
                      }
                    ],
                    "pie": [
                      {
                        "automargin": true,
                        "type": "pie"
                      }
                    ],
                    "scatter": [
                      {
                        "fillpattern": {
                          "fillmode": "overlay",
                          "size": 10,
                          "solidity": 0.2
                        },
                        "type": "scatter"
                      }
                    ],
                    "scatter3d": [
                      {
                        "line": {
                          "colorbar": {
                            "outlinewidth": 0,
                            "ticks": ""
                          }
                        },
                        "marker": {
                          "colorbar": {
                            "outlinewidth": 0,
                            "ticks": ""
                          }
                        },
                        "type": "scatter3d"
                      }
                    ],
                    "scattercarpet": [
                      {
                        "marker": {
                          "colorbar": {
                            "outlinewidth": 0,
                            "ticks": ""
                          }
                        },
                        "type": "scattercarpet"
                      }
                    ],
                    "scattergeo": [
                      {
                        "marker": {
                          "colorbar": {
                            "outlinewidth": 0,
                            "ticks": ""
                          }
                        },
                        "type": "scattergeo"
                      }
                    ],
                    "scattergl": [
                      {
                        "marker": {
                          "colorbar": {
                            "outlinewidth": 0,
                            "ticks": ""
                          }
                        },
                        "type": "scattergl"
                      }
                    ],
                    "scattermapbox": [
                      {
                        "marker": {
                          "colorbar": {
                            "outlinewidth": 0,
                            "ticks": ""
                          }
                        },
                        "type": "scattermapbox"
                      }
                    ],
                    "scatterpolar": [
                      {
                        "marker": {
                          "colorbar": {
                            "outlinewidth": 0,
                            "ticks": ""
                          }
                        },
                        "type": "scatterpolar"
                      }
                    ],
                    "scatterpolargl": [
                      {
                        "marker": {
                          "colorbar": {
                            "outlinewidth": 0,
                            "ticks": ""
                          }
                        },
                        "type": "scatterpolargl"
                      }
                    ],
                    "scatterternary": [
                      {
                        "marker": {
                          "colorbar": {
                            "outlinewidth": 0,
                            "ticks": ""
                          }
                        },
                        "type": "scatterternary"
                      }
                    ],
                    "surface": [
                      {
                        "colorbar": {
                          "outlinewidth": 0,
                          "ticks": ""
                        },
                        "colorscale": [
                          [
                            0,
                            "#0d0887"
                          ],
                          [
                            0.1111111111111111,
                            "#46039f"
                          ],
                          [
                            0.2222222222222222,
                            "#7201a8"
                          ],
                          [
                            0.3333333333333333,
                            "#9c179e"
                          ],
                          [
                            0.4444444444444444,
                            "#bd3786"
                          ],
                          [
                            0.5555555555555556,
                            "#d8576b"
                          ],
                          [
                            0.6666666666666666,
                            "#ed7953"
                          ],
                          [
                            0.7777777777777778,
                            "#fb9f3a"
                          ],
                          [
                            0.8888888888888888,
                            "#fdca26"
                          ],
                          [
                            1,
                            "#f0f921"
                          ]
                        ],
                        "type": "surface"
                      }
                    ],
                    "table": [
                      {
                        "cells": {
                          "fill": {
                            "color": "#EBF0F8"
                          },
                          "line": {
                            "color": "white"
                          }
                        },
                        "header": {
                          "fill": {
                            "color": "#C8D4E3"
                          },
                          "line": {
                            "color": "white"
                          }
                        },
                        "type": "table"
                      }
                    ]
                  },
                  "layout": {
                    "annotationdefaults": {
                      "arrowcolor": "#2a3f5f",
                      "arrowhead": 0,
                      "arrowwidth": 1
                    },
                    "autotypenumbers": "strict",
                    "coloraxis": {
                      "colorbar": {
                        "outlinewidth": 0,
                        "ticks": ""
                      }
                    },
                    "colorscale": {
                      "diverging": [
                        [
                          0,
                          "#8e0152"
                        ],
                        [
                          0.1,
                          "#c51b7d"
                        ],
                        [
                          0.2,
                          "#de77ae"
                        ],
                        [
                          0.3,
                          "#f1b6da"
                        ],
                        [
                          0.4,
                          "#fde0ef"
                        ],
                        [
                          0.5,
                          "#f7f7f7"
                        ],
                        [
                          0.6,
                          "#e6f5d0"
                        ],
                        [
                          0.7,
                          "#b8e186"
                        ],
                        [
                          0.8,
                          "#7fbc41"
                        ],
                        [
                          0.9,
                          "#4d9221"
                        ],
                        [
                          1,
                          "#276419"
                        ]
                      ],
                      "sequential": [
                        [
                          0,
                          "#0d0887"
                        ],
                        [
                          0.1111111111111111,
                          "#46039f"
                        ],
                        [
                          0.2222222222222222,
                          "#7201a8"
                        ],
                        [
                          0.3333333333333333,
                          "#9c179e"
                        ],
                        [
                          0.4444444444444444,
                          "#bd3786"
                        ],
                        [
                          0.5555555555555556,
                          "#d8576b"
                        ],
                        [
                          0.6666666666666666,
                          "#ed7953"
                        ],
                        [
                          0.7777777777777778,
                          "#fb9f3a"
                        ],
                        [
                          0.8888888888888888,
                          "#fdca26"
                        ],
                        [
                          1,
                          "#f0f921"
                        ]
                      ],
                      "sequentialminus": [
                        [
                          0,
                          "#0d0887"
                        ],
                        [
                          0.1111111111111111,
                          "#46039f"
                        ],
                        [
                          0.2222222222222222,
                          "#7201a8"
                        ],
                        [
                          0.3333333333333333,
                          "#9c179e"
                        ],
                        [
                          0.4444444444444444,
                          "#bd3786"
                        ],
                        [
                          0.5555555555555556,
                          "#d8576b"
                        ],
                        [
                          0.6666666666666666,
                          "#ed7953"
                        ],
                        [
                          0.7777777777777778,
                          "#fb9f3a"
                        ],
                        [
                          0.8888888888888888,
                          "#fdca26"
                        ],
                        [
                          1,
                          "#f0f921"
                        ]
                      ]
                    },
                    "colorway": [
                      "#636efa",
                      "#EF553B",
                      "#00cc96",
                      "#ab63fa",
                      "#FFA15A",
                      "#19d3f3",
                      "#FF6692",
                      "#B6E880",
                      "#FF97FF",
                      "#FECB52"
                    ],
                    "font": {
                      "color": "#2a3f5f"
                    },
                    "geo": {
                      "bgcolor": "white",
                      "lakecolor": "white",
                      "landcolor": "#E5ECF6",
                      "showlakes": true,
                      "showland": true,
                      "subunitcolor": "white"
                    },
                    "hoverlabel": {
                      "align": "left"
                    },
                    "hovermode": "closest",
                    "mapbox": {
                      "style": "light"
                    },
                    "paper_bgcolor": "white",
                    "plot_bgcolor": "#E5ECF6",
                    "polar": {
                      "angularaxis": {
                        "gridcolor": "white",
                        "linecolor": "white",
                        "ticks": ""
                      },
                      "bgcolor": "#E5ECF6",
                      "radialaxis": {
                        "gridcolor": "white",
                        "linecolor": "white",
                        "ticks": ""
                      }
                    },
                    "scene": {
                      "xaxis": {
                        "backgroundcolor": "#E5ECF6",
                        "gridcolor": "white",
                        "gridwidth": 2,
                        "linecolor": "white",
                        "showbackground": true,
                        "ticks": "",
                        "zerolinecolor": "white"
                      },
                      "yaxis": {
                        "backgroundcolor": "#E5ECF6",
                        "gridcolor": "white",
                        "gridwidth": 2,
                        "linecolor": "white",
                        "showbackground": true,
                        "ticks": "",
                        "zerolinecolor": "white"
                      },
                      "zaxis": {
                        "backgroundcolor": "#E5ECF6",
                        "gridcolor": "white",
                        "gridwidth": 2,
                        "linecolor": "white",
                        "showbackground": true,
                        "ticks": "",
                        "zerolinecolor": "white"
                      }
                    },
                    "shapedefaults": {
                      "line": {
                        "color": "#2a3f5f"
                      }
                    },
                    "ternary": {
                      "aaxis": {
                        "gridcolor": "white",
                        "linecolor": "white",
                        "ticks": ""
                      },
                      "baxis": {
                        "gridcolor": "white",
                        "linecolor": "white",
                        "ticks": ""
                      },
                      "bgcolor": "#E5ECF6",
                      "caxis": {
                        "gridcolor": "white",
                        "linecolor": "white",
                        "ticks": ""
                      }
                    },
                    "title": {
                      "x": 0.05
                    },
                    "xaxis": {
                      "automargin": true,
                      "gridcolor": "white",
                      "linecolor": "white",
                      "ticks": "",
                      "title": {
                        "standoff": 15
                      },
                      "zerolinecolor": "white",
                      "zerolinewidth": 2
                    },
                    "yaxis": {
                      "automargin": true,
                      "gridcolor": "white",
                      "linecolor": "white",
                      "ticks": "",
                      "title": {
                        "standoff": 15
                      },
                      "zerolinecolor": "white",
                      "zerolinewidth": 2
                    }
                  }
                },
                "title": {
                  "text": "centro_oeste"
                },
                "xaxis": {
                  "title": {
                    "text": "Time"
                  }
                },
                "yaxis": {
                  "title": {
                    "text": "Value"
                  }
                }
              }
            }
          },
          "metadata": {},
          "output_type": "display_data"
        },
        {
          "data": {
            "application/vnd.plotly.v1+json": {
              "config": {
                "plotlyServerURL": "https://plot.ly"
              },
              "data": [
                {
                  "marker": {
                    "color": "black"
                  },
                  "mode": "markers",
                  "name": "Real",
                  "type": "scatter",
                  "x": [
                    "2016-01-01T00:00:00.000000000",
                    "2016-02-01T00:00:00.000000000",
                    "2016-03-01T00:00:00.000000000",
                    "2016-04-01T00:00:00.000000000",
                    "2016-05-01T00:00:00.000000000",
                    "2016-06-01T00:00:00.000000000",
                    "2016-07-01T00:00:00.000000000",
                    "2016-08-01T00:00:00.000000000",
                    "2016-09-01T00:00:00.000000000",
                    "2016-10-01T00:00:00.000000000",
                    "2016-11-01T00:00:00.000000000",
                    "2016-12-01T00:00:00.000000000",
                    "2017-01-01T00:00:00.000000000",
                    "2017-02-01T00:00:00.000000000",
                    "2017-03-01T00:00:00.000000000",
                    "2017-04-01T00:00:00.000000000",
                    "2017-05-01T00:00:00.000000000",
                    "2017-06-01T00:00:00.000000000",
                    "2017-07-01T00:00:00.000000000",
                    "2017-08-01T00:00:00.000000000",
                    "2017-09-01T00:00:00.000000000",
                    "2017-10-01T00:00:00.000000000",
                    "2017-11-01T00:00:00.000000000",
                    "2017-12-01T00:00:00.000000000",
                    "2018-01-01T00:00:00.000000000",
                    "2018-02-01T00:00:00.000000000",
                    "2018-03-01T00:00:00.000000000",
                    "2018-04-01T00:00:00.000000000",
                    "2018-05-01T00:00:00.000000000",
                    "2018-06-01T00:00:00.000000000",
                    "2018-07-01T00:00:00.000000000",
                    "2018-08-01T00:00:00.000000000",
                    "2018-09-01T00:00:00.000000000",
                    "2018-10-01T00:00:00.000000000",
                    "2018-11-01T00:00:00.000000000",
                    "2018-12-01T00:00:00.000000000",
                    "2019-01-01T00:00:00.000000000",
                    "2019-02-01T00:00:00.000000000",
                    "2019-03-01T00:00:00.000000000",
                    "2019-04-01T00:00:00.000000000",
                    "2019-05-01T00:00:00.000000000",
                    "2019-06-01T00:00:00.000000000",
                    "2019-07-01T00:00:00.000000000",
                    "2019-08-01T00:00:00.000000000",
                    "2019-09-01T00:00:00.000000000",
                    "2019-10-01T00:00:00.000000000",
                    "2019-11-01T00:00:00.000000000",
                    "2019-12-01T00:00:00.000000000",
                    "2020-01-01T00:00:00.000000000",
                    "2020-02-01T00:00:00.000000000",
                    "2020-03-01T00:00:00.000000000",
                    "2020-04-01T00:00:00.000000000",
                    "2020-05-01T00:00:00.000000000",
                    "2020-06-01T00:00:00.000000000",
                    "2020-07-01T00:00:00.000000000",
                    "2020-08-01T00:00:00.000000000",
                    "2020-09-01T00:00:00.000000000",
                    "2020-10-01T00:00:00.000000000",
                    "2020-11-01T00:00:00.000000000",
                    "2020-12-01T00:00:00.000000000",
                    "2021-01-01T00:00:00.000000000",
                    "2021-02-01T00:00:00.000000000",
                    "2021-03-01T00:00:00.000000000",
                    "2021-04-01T00:00:00.000000000",
                    "2021-05-01T00:00:00.000000000",
                    "2021-06-01T00:00:00.000000000",
                    "2021-07-01T00:00:00.000000000",
                    "2021-08-01T00:00:00.000000000",
                    "2021-09-01T00:00:00.000000000",
                    "2021-10-01T00:00:00.000000000",
                    "2021-11-01T00:00:00.000000000",
                    "2021-12-01T00:00:00.000000000",
                    "2022-01-01T00:00:00.000000000",
                    "2022-02-01T00:00:00.000000000",
                    "2022-03-01T00:00:00.000000000",
                    "2022-04-01T00:00:00.000000000",
                    "2022-05-01T00:00:00.000000000",
                    "2022-06-01T00:00:00.000000000",
                    "2022-07-01T00:00:00.000000000",
                    "2022-08-01T00:00:00.000000000",
                    "2022-09-01T00:00:00.000000000",
                    "2022-10-01T00:00:00.000000000",
                    "2022-11-01T00:00:00.000000000",
                    "2022-12-01T00:00:00.000000000",
                    "2023-01-01T00:00:00.000000000",
                    "2023-02-01T00:00:00.000000000",
                    "2023-03-01T00:00:00.000000000",
                    "2023-04-01T00:00:00.000000000",
                    "2023-05-01T00:00:00.000000000",
                    "2023-06-01T00:00:00.000000000",
                    "2023-07-01T00:00:00.000000000",
                    "2023-08-01T00:00:00.000000000",
                    "2023-09-01T00:00:00.000000000",
                    "2023-10-01T00:00:00.000000000",
                    "2023-11-01T00:00:00.000000000",
                    "2023-12-01T00:00:00.000000000",
                    "2024-01-01T00:00:00.000000000",
                    "2024-02-01T00:00:00.000000000",
                    "2024-03-01T00:00:00.000000000",
                    "2024-04-01T00:00:00.000000000",
                    "2024-05-01T00:00:00.000000000",
                    "2024-06-01T00:00:00.000000000",
                    "2024-07-01T00:00:00.000000000",
                    "2024-08-01T00:00:00.000000000",
                    "2024-09-01T00:00:00.000000000",
                    "2024-10-01T00:00:00.000000000",
                    "2024-11-01T00:00:00.000000000",
                    "2024-12-01T00:00:00.000000000"
                  ],
                  "y": [
                    13.491333507280263,
                    12.124306579825205,
                    11.411492827787312,
                    11.492224440694576,
                    11.701410385907677,
                    12.249352739691794,
                    12.56412920101406,
                    12.383132434206999,
                    12.91299528305369,
                    13.405705350250694,
                    13.704459760086426,
                    15.229921390327647,
                    14.118751936001305,
                    13.66692261599855,
                    13.595790478688976,
                    14.088462366107436,
                    13.558489111766301,
                    14.499502173522849,
                    14.322621294924698,
                    14.880335295777416,
                    15.899822277068907,
                    16.830491830823902,
                    16.826766372294138,
                    17.619794655417227,
                    16.87053411847006,
                    17.55021440409405,
                    16.87111187683952,
                    17.079568099894924,
                    16.849241324863495,
                    18.185498943737976,
                    17.781336510017898,
                    18.184054252662456,
                    18.528432957162202,
                    18.809953366681736,
                    18.931695030918835,
                    18.767265184773798,
                    17.5176211263095,
                    18.111987080711273,
                    19.117295660812978,
                    18.36959981997113,
                    18.55053543667368,
                    19.280303074341717,
                    19.963337889755348,
                    21.377673637841006,
                    21.372801357517076,
                    21.401995696464677,
                    21.792718000341456,
                    22.702188875815867,
                    22.434110259324033,
                    22.794440600026245,
                    23.13017004603683,
                    29.61341644766306,
                    27.984817304290043,
                    26.78920706592315,
                    24.73251368707704,
                    24.87299891704095,
                    25.94946930780557,
                    25.396592316724615,
                    25.130832616294782,
                    25.39158093668865,
                    24.433467109907447,
                    24.799845312692558,
                    23.68427453585575,
                    25.048406069920432,
                    23.157465827293702,
                    24.007072687577196,
                    25.400401130010685,
                    26.545137963892543,
                    27.562781466718555,
                    26.742580559278423,
                    26.27204653293438,
                    25.356316252283634,
                    19.272148218264114,
                    24.873580864721994,
                    26.451798691272167,
                    25.702799031052,
                    24.756384487644606,
                    23.93998708412234,
                    24.540505733093376,
                    26.105625142352466,
                    28.75304504122353,
                    27.83063498255684,
                    26.78379709085502,
                    26.747333493339685,
                    29.233691212191097,
                    29.949854981909972,
                    28.256342010204616,
                    27.25784981574385,
                    28.71085074304191,
                    29.374168157961616,
                    30.188317709881826,
                    30.943710777062105,
                    32.32330351676946,
                    31.58874078898992,
                    31.306379228123475,
                    31.295097118475084,
                    32.233346333158345,
                    30.837761193563477,
                    28.299900983147932,
                    28.42021515196115,
                    30.291790219323662,
                    31.58879663001754,
                    32.305180691058,
                    32.582705205154134,
                    32.6182269544765,
                    32.57653368640277,
                    32.44703520981015,
                    32.06729048932365
                  ]
                },
                {
                  "line": {
                    "color": "black",
                    "dash": "dot"
                  },
                  "mode": "lines",
                  "name": "Baseline",
                  "type": "scatter",
                  "x": [
                    "2016-01-01T00:00:00.000000000",
                    "2016-02-01T00:00:00.000000000",
                    "2016-03-01T00:00:00.000000000",
                    "2016-04-01T00:00:00.000000000",
                    "2016-05-01T00:00:00.000000000",
                    "2016-06-01T00:00:00.000000000",
                    "2016-07-01T00:00:00.000000000",
                    "2016-08-01T00:00:00.000000000",
                    "2016-09-01T00:00:00.000000000",
                    "2016-10-01T00:00:00.000000000",
                    "2016-11-01T00:00:00.000000000",
                    "2016-12-01T00:00:00.000000000",
                    "2017-01-01T00:00:00.000000000",
                    "2017-02-01T00:00:00.000000000",
                    "2017-03-01T00:00:00.000000000",
                    "2017-04-01T00:00:00.000000000",
                    "2017-05-01T00:00:00.000000000",
                    "2017-06-01T00:00:00.000000000",
                    "2017-07-01T00:00:00.000000000",
                    "2017-08-01T00:00:00.000000000",
                    "2017-09-01T00:00:00.000000000",
                    "2017-10-01T00:00:00.000000000",
                    "2017-11-01T00:00:00.000000000",
                    "2017-12-01T00:00:00.000000000",
                    "2018-01-01T00:00:00.000000000",
                    "2018-02-01T00:00:00.000000000",
                    "2018-03-01T00:00:00.000000000",
                    "2018-04-01T00:00:00.000000000",
                    "2018-05-01T00:00:00.000000000",
                    "2018-06-01T00:00:00.000000000",
                    "2018-07-01T00:00:00.000000000",
                    "2018-08-01T00:00:00.000000000",
                    "2018-09-01T00:00:00.000000000",
                    "2018-10-01T00:00:00.000000000",
                    "2018-11-01T00:00:00.000000000",
                    "2018-12-01T00:00:00.000000000",
                    "2019-01-01T00:00:00.000000000",
                    "2019-02-01T00:00:00.000000000",
                    "2019-03-01T00:00:00.000000000",
                    "2019-04-01T00:00:00.000000000",
                    "2019-05-01T00:00:00.000000000",
                    "2019-06-01T00:00:00.000000000",
                    "2019-07-01T00:00:00.000000000",
                    "2019-08-01T00:00:00.000000000",
                    "2019-09-01T00:00:00.000000000",
                    "2019-10-01T00:00:00.000000000",
                    "2019-11-01T00:00:00.000000000",
                    "2019-12-01T00:00:00.000000000",
                    "2020-01-01T00:00:00.000000000",
                    "2020-02-01T00:00:00.000000000",
                    "2020-03-01T00:00:00.000000000",
                    "2020-04-01T00:00:00.000000000",
                    "2020-05-01T00:00:00.000000000",
                    "2020-06-01T00:00:00.000000000",
                    "2020-07-01T00:00:00.000000000",
                    "2020-08-01T00:00:00.000000000",
                    "2020-09-01T00:00:00.000000000",
                    "2020-10-01T00:00:00.000000000",
                    "2020-11-01T00:00:00.000000000",
                    "2020-12-01T00:00:00.000000000",
                    "2021-01-01T00:00:00.000000000",
                    "2021-02-01T00:00:00.000000000",
                    "2021-03-01T00:00:00.000000000",
                    "2021-04-01T00:00:00.000000000",
                    "2021-05-01T00:00:00.000000000",
                    "2021-06-01T00:00:00.000000000",
                    "2021-07-01T00:00:00.000000000",
                    "2021-08-01T00:00:00.000000000",
                    "2021-09-01T00:00:00.000000000",
                    "2021-10-01T00:00:00.000000000",
                    "2021-11-01T00:00:00.000000000",
                    "2021-12-01T00:00:00.000000000",
                    "2022-01-01T00:00:00.000000000",
                    "2022-02-01T00:00:00.000000000",
                    "2022-03-01T00:00:00.000000000",
                    "2022-04-01T00:00:00.000000000",
                    "2022-05-01T00:00:00.000000000",
                    "2022-06-01T00:00:00.000000000",
                    "2022-07-01T00:00:00.000000000",
                    "2022-08-01T00:00:00.000000000",
                    "2022-09-01T00:00:00.000000000",
                    "2022-10-01T00:00:00.000000000",
                    "2022-11-01T00:00:00.000000000",
                    "2022-12-01T00:00:00.000000000",
                    "2023-01-01T00:00:00.000000000",
                    "2023-02-01T00:00:00.000000000",
                    "2023-03-01T00:00:00.000000000",
                    "2023-04-01T00:00:00.000000000",
                    "2023-05-01T00:00:00.000000000",
                    "2023-06-01T00:00:00.000000000",
                    "2023-07-01T00:00:00.000000000",
                    "2023-08-01T00:00:00.000000000",
                    "2023-09-01T00:00:00.000000000",
                    "2023-10-01T00:00:00.000000000",
                    "2023-11-01T00:00:00.000000000",
                    "2023-12-01T00:00:00.000000000",
                    "2024-01-01T00:00:00.000000000",
                    "2024-02-01T00:00:00.000000000",
                    "2024-03-01T00:00:00.000000000",
                    "2024-04-01T00:00:00.000000000",
                    "2024-05-01T00:00:00.000000000",
                    "2024-06-01T00:00:00.000000000",
                    "2024-07-01T00:00:00.000000000",
                    "2024-08-01T00:00:00.000000000",
                    "2024-09-01T00:00:00.000000000",
                    "2024-10-01T00:00:00.000000000",
                    "2024-11-01T00:00:00.000000000",
                    "2024-12-01T00:00:00.000000000"
                  ],
                  "y": [
                    11.052640847990634,
                    11.273757434588711,
                    11.494874021186789,
                    11.715990607784867,
                    11.937107194382945,
                    12.158223780981022,
                    12.379340367579099,
                    12.600456954177176,
                    12.821573540775253,
                    13.04269012737333,
                    13.263806713971409,
                    13.484923300569486,
                    13.706039887167563,
                    13.92715647376564,
                    14.148273060363717,
                    14.369389646961796,
                    14.590506233559873,
                    14.81162282015795,
                    15.032739406756027,
                    15.253855993354104,
                    15.474972579952183,
                    15.696089166550259,
                    15.917205753148338,
                    16.138322339746416,
                    16.35943892634449,
                    16.580555512942567,
                    16.801672099540646,
                    17.022788686138725,
                    17.2439052727368,
                    17.46502185933488,
                    17.686138445932954,
                    17.907255032531033,
                    18.128371619129112,
                    18.349488205727187,
                    18.570604792325266,
                    18.79172137892334,
                    19.01283796552142,
                    19.2339545521195,
                    19.455071138717575,
                    19.67618772531565,
                    19.89730431191373,
                    20.118420898511808,
                    20.339537485109886,
                    20.560654071707962,
                    20.781770658306037,
                    21.002887244904116,
                    21.224003831502195,
                    21.445120418100274,
                    21.66623700469835,
                    21.887353591296424,
                    22.108470177894503,
                    22.329586764492582,
                    22.550703351090657,
                    22.771819937688733,
                    22.99293652428681,
                    23.21405311088489,
                    23.43516969748297,
                    23.656286284081045,
                    23.87740287067912,
                    24.0985194572772,
                    24.319636043875278,
                    24.540752630473357,
                    24.761869217071432,
                    24.982985803669507,
                    25.204102390267586,
                    25.425218976865665,
                    25.64633556346374,
                    25.86745215006182,
                    26.088568736659894,
                    26.309685323257973,
                    26.530801909856052,
                    26.751918496454127,
                    26.973035083052203,
                    27.19415166965028,
                    27.41526825624836,
                    27.63638484284644,
                    27.85750142944452,
                    28.07861801604259,
                    28.29973460264067,
                    28.520851189238748,
                    28.741967775836827,
                    28.9630843624349,
                    29.184200949032977,
                    29.405317535631056,
                    29.626434122229135,
                    29.847550708827214,
                    30.068667295425286,
                    30.289783882023364,
                    30.510900468621443,
                    30.732017055219522,
                    30.9531336418176,
                    31.174250228415673,
                    31.39536681501375,
                    31.61648340161183,
                    31.83759998820991,
                    32.05871657480799,
                    32.27983316140606,
                    32.50094974800414,
                    32.72206633460222,
                    32.9431829212003,
                    33.16429950779837,
                    33.38541609439645,
                    33.606532680994526,
                    33.827649267592605,
                    34.048765854190684,
                    34.269882440788756,
                    34.490999027386835,
                    34.71211561398491
                  ]
                },
                {
                  "line": {
                    "color": "purple"
                  },
                  "mode": "lines",
                  "name": "Full model",
                  "type": "scatter",
                  "x": [
                    "2016-01-01T00:00:00.000000000",
                    "2016-02-01T00:00:00.000000000",
                    "2016-03-01T00:00:00.000000000",
                    "2016-04-01T00:00:00.000000000",
                    "2016-05-01T00:00:00.000000000",
                    "2016-06-01T00:00:00.000000000",
                    "2016-07-01T00:00:00.000000000",
                    "2016-08-01T00:00:00.000000000",
                    "2016-09-01T00:00:00.000000000",
                    "2016-10-01T00:00:00.000000000",
                    "2016-11-01T00:00:00.000000000",
                    "2016-12-01T00:00:00.000000000",
                    "2017-01-01T00:00:00.000000000",
                    "2017-02-01T00:00:00.000000000",
                    "2017-03-01T00:00:00.000000000",
                    "2017-04-01T00:00:00.000000000",
                    "2017-05-01T00:00:00.000000000",
                    "2017-06-01T00:00:00.000000000",
                    "2017-07-01T00:00:00.000000000",
                    "2017-08-01T00:00:00.000000000",
                    "2017-09-01T00:00:00.000000000",
                    "2017-10-01T00:00:00.000000000",
                    "2017-11-01T00:00:00.000000000",
                    "2017-12-01T00:00:00.000000000",
                    "2018-01-01T00:00:00.000000000",
                    "2018-02-01T00:00:00.000000000",
                    "2018-03-01T00:00:00.000000000",
                    "2018-04-01T00:00:00.000000000",
                    "2018-05-01T00:00:00.000000000",
                    "2018-06-01T00:00:00.000000000",
                    "2018-07-01T00:00:00.000000000",
                    "2018-08-01T00:00:00.000000000",
                    "2018-09-01T00:00:00.000000000",
                    "2018-10-01T00:00:00.000000000",
                    "2018-11-01T00:00:00.000000000",
                    "2018-12-01T00:00:00.000000000",
                    "2019-01-01T00:00:00.000000000",
                    "2019-02-01T00:00:00.000000000",
                    "2019-03-01T00:00:00.000000000",
                    "2019-04-01T00:00:00.000000000",
                    "2019-05-01T00:00:00.000000000",
                    "2019-06-01T00:00:00.000000000",
                    "2019-07-01T00:00:00.000000000",
                    "2019-08-01T00:00:00.000000000",
                    "2019-09-01T00:00:00.000000000",
                    "2019-10-01T00:00:00.000000000",
                    "2019-11-01T00:00:00.000000000",
                    "2019-12-01T00:00:00.000000000",
                    "2020-01-01T00:00:00.000000000",
                    "2020-02-01T00:00:00.000000000",
                    "2020-03-01T00:00:00.000000000",
                    "2020-04-01T00:00:00.000000000",
                    "2020-05-01T00:00:00.000000000",
                    "2020-06-01T00:00:00.000000000",
                    "2020-07-01T00:00:00.000000000",
                    "2020-08-01T00:00:00.000000000",
                    "2020-09-01T00:00:00.000000000",
                    "2020-10-01T00:00:00.000000000",
                    "2020-11-01T00:00:00.000000000",
                    "2020-12-01T00:00:00.000000000",
                    "2021-01-01T00:00:00.000000000",
                    "2021-02-01T00:00:00.000000000",
                    "2021-03-01T00:00:00.000000000",
                    "2021-04-01T00:00:00.000000000",
                    "2021-05-01T00:00:00.000000000",
                    "2021-06-01T00:00:00.000000000",
                    "2021-07-01T00:00:00.000000000",
                    "2021-08-01T00:00:00.000000000",
                    "2021-09-01T00:00:00.000000000",
                    "2021-10-01T00:00:00.000000000",
                    "2021-11-01T00:00:00.000000000",
                    "2021-12-01T00:00:00.000000000",
                    "2022-01-01T00:00:00.000000000",
                    "2022-02-01T00:00:00.000000000",
                    "2022-03-01T00:00:00.000000000",
                    "2022-04-01T00:00:00.000000000",
                    "2022-05-01T00:00:00.000000000",
                    "2022-06-01T00:00:00.000000000",
                    "2022-07-01T00:00:00.000000000",
                    "2022-08-01T00:00:00.000000000",
                    "2022-09-01T00:00:00.000000000",
                    "2022-10-01T00:00:00.000000000",
                    "2022-11-01T00:00:00.000000000",
                    "2022-12-01T00:00:00.000000000",
                    "2023-01-01T00:00:00.000000000",
                    "2023-02-01T00:00:00.000000000",
                    "2023-03-01T00:00:00.000000000",
                    "2023-04-01T00:00:00.000000000",
                    "2023-05-01T00:00:00.000000000",
                    "2023-06-01T00:00:00.000000000",
                    "2023-07-01T00:00:00.000000000",
                    "2023-08-01T00:00:00.000000000",
                    "2023-09-01T00:00:00.000000000",
                    "2023-10-01T00:00:00.000000000",
                    "2023-11-01T00:00:00.000000000",
                    "2023-12-01T00:00:00.000000000",
                    "2024-01-01T00:00:00.000000000",
                    "2024-02-01T00:00:00.000000000",
                    "2024-03-01T00:00:00.000000000",
                    "2024-04-01T00:00:00.000000000",
                    "2024-05-01T00:00:00.000000000",
                    "2024-06-01T00:00:00.000000000",
                    "2024-07-01T00:00:00.000000000",
                    "2024-08-01T00:00:00.000000000",
                    "2024-09-01T00:00:00.000000000",
                    "2024-10-01T00:00:00.000000000",
                    "2024-11-01T00:00:00.000000000",
                    "2024-12-01T00:00:00.000000000"
                  ],
                  "y": [
                    11.036898965664323,
                    11.37922414942278,
                    11.479132138860477,
                    11.791491937209184,
                    11.682534417765954,
                    12.281622904337324,
                    12.4788224535506,
                    12.705923669011245,
                    12.805831658448941,
                    13.128156512897956,
                    13.08882329857559,
                    13.570389686094112,
                    13.531056471771745,
                    14.002657803189956,
                    13.893700283746726,
                    14.492788770318098,
                    14.574764351233561,
                    14.887124149582267,
                    14.998857313270918,
                    15.359322708188175,
                    15.441090486467074,
                    15.81948828990656,
                    16.016687839119836,
                    16.269495993007105,
                    16.34369704401818,
                    16.630179488753985,
                    16.901154185512148,
                    17.128255400972797,
                    17.06892185734098,
                    17.514645835146297,
                    17.511155030537132,
                    18.03842868579172,
                    17.873798842512123,
                    18.424989535151504,
                    18.554862909998956,
                    18.915120502279642,
                    18.821904865162725,
                    19.319420937644125,
                    19.554553224689073,
                    19.751689054739966,
                    19.99678639788523,
                    20.241820021868108,
                    20.439019571081385,
                    20.64612045723259,
                    20.766028775979734,
                    21.108353959738185,
                    21.049020416106384,
                    21.576294071360962,
                    21.632354911213234,
                    22.018527244557113,
                    21.853897401277514,
                    26.8037049350273,
                    26.69516537371328,
                    26.59652714933718,
                    26.171865463266336,
                    26.472989369214798,
                    26.08220977662907,
                    26.25803705362029,
                    25.897015043807734,
                    26.078826949661522,
                    25.884821002822875,
                    25.909581901803072,
                    25.558524948090835,
                    25.796009177780995,
                    25.546330907105972,
                    25.545214452473274,
                    25.510450038704125,
                    25.37596940461483,
                    25.06673948947837,
                    25.232601710369273,
                    25.056735974689435,
                    25.09332204792058,
                    24.728249393761462,
                    24.94200940858436,
                    24.47941498468185,
                    25.479797580158728,
                    25.41823840841293,
                    26.020915480546606,
                    26.12420425291004,
                    26.524123050434067,
                    26.452428407401687,
                    26.991465803277066,
                    27.11289478679931,
                    27.42089822561964,
                    27.359339053873857,
                    27.906173386984882,
                    27.92420357646025,
                    28.391448548350102,
                    28.393529052862615,
                    28.902601063328234,
                    28.894753899190718,
                    29.397841280793774,
                    29.521130382466655,
                    29.847274032445803,
                    29.8493545369583,
                    30.332549193811037,
                    30.509820916355917,
                    30.891599502721142,
                    30.819904859688755,
                    31.35894225556415,
                    31.59559520738419,
                    31.844217416929375,
                    31.806404867382106,
                    32.309492248985165,
                    32.45092156181684,
                    32.78480235425008,
                    32.76100550514968,
                    33.27007751561531
                  ]
                }
              ],
              "layout": {
                "annotations": [
                  {
                    "arrowhead": 2,
                    "ax": 30,
                    "ay": -40,
                    "showarrow": true,
                    "text": "Pandemia",
                    "x": "2020-04-01",
                    "y": 32.6182269544765
                  },
                  {
                    "arrowhead": 2,
                    "ax": 30,
                    "ay": -40,
                    "showarrow": true,
                    "text": "Pos Pandemia",
                    "x": "2022-04-01",
                    "y": 32.6182269544765
                  }
                ],
                "legend": {
                  "title": {
                    "text": "Legend"
                  }
                },
                "shapes": [
                  {
                    "line": {
                      "color": "black",
                      "dash": "dash"
                    },
                    "type": "line",
                    "x0": "2020-04-01",
                    "x1": "2020-04-01",
                    "y0": 11.411492827787312,
                    "y1": 32.6182269544765
                  },
                  {
                    "line": {
                      "color": "black",
                      "dash": "dash"
                    },
                    "type": "line",
                    "x0": "2022-04-01",
                    "x1": "2022-04-01",
                    "y0": 11.411492827787312,
                    "y1": 32.6182269544765
                  }
                ],
                "template": {
                  "data": {
                    "bar": [
                      {
                        "error_x": {
                          "color": "#2a3f5f"
                        },
                        "error_y": {
                          "color": "#2a3f5f"
                        },
                        "marker": {
                          "line": {
                            "color": "#E5ECF6",
                            "width": 0.5
                          },
                          "pattern": {
                            "fillmode": "overlay",
                            "size": 10,
                            "solidity": 0.2
                          }
                        },
                        "type": "bar"
                      }
                    ],
                    "barpolar": [
                      {
                        "marker": {
                          "line": {
                            "color": "#E5ECF6",
                            "width": 0.5
                          },
                          "pattern": {
                            "fillmode": "overlay",
                            "size": 10,
                            "solidity": 0.2
                          }
                        },
                        "type": "barpolar"
                      }
                    ],
                    "carpet": [
                      {
                        "aaxis": {
                          "endlinecolor": "#2a3f5f",
                          "gridcolor": "white",
                          "linecolor": "white",
                          "minorgridcolor": "white",
                          "startlinecolor": "#2a3f5f"
                        },
                        "baxis": {
                          "endlinecolor": "#2a3f5f",
                          "gridcolor": "white",
                          "linecolor": "white",
                          "minorgridcolor": "white",
                          "startlinecolor": "#2a3f5f"
                        },
                        "type": "carpet"
                      }
                    ],
                    "choropleth": [
                      {
                        "colorbar": {
                          "outlinewidth": 0,
                          "ticks": ""
                        },
                        "type": "choropleth"
                      }
                    ],
                    "contour": [
                      {
                        "colorbar": {
                          "outlinewidth": 0,
                          "ticks": ""
                        },
                        "colorscale": [
                          [
                            0,
                            "#0d0887"
                          ],
                          [
                            0.1111111111111111,
                            "#46039f"
                          ],
                          [
                            0.2222222222222222,
                            "#7201a8"
                          ],
                          [
                            0.3333333333333333,
                            "#9c179e"
                          ],
                          [
                            0.4444444444444444,
                            "#bd3786"
                          ],
                          [
                            0.5555555555555556,
                            "#d8576b"
                          ],
                          [
                            0.6666666666666666,
                            "#ed7953"
                          ],
                          [
                            0.7777777777777778,
                            "#fb9f3a"
                          ],
                          [
                            0.8888888888888888,
                            "#fdca26"
                          ],
                          [
                            1,
                            "#f0f921"
                          ]
                        ],
                        "type": "contour"
                      }
                    ],
                    "contourcarpet": [
                      {
                        "colorbar": {
                          "outlinewidth": 0,
                          "ticks": ""
                        },
                        "type": "contourcarpet"
                      }
                    ],
                    "heatmap": [
                      {
                        "colorbar": {
                          "outlinewidth": 0,
                          "ticks": ""
                        },
                        "colorscale": [
                          [
                            0,
                            "#0d0887"
                          ],
                          [
                            0.1111111111111111,
                            "#46039f"
                          ],
                          [
                            0.2222222222222222,
                            "#7201a8"
                          ],
                          [
                            0.3333333333333333,
                            "#9c179e"
                          ],
                          [
                            0.4444444444444444,
                            "#bd3786"
                          ],
                          [
                            0.5555555555555556,
                            "#d8576b"
                          ],
                          [
                            0.6666666666666666,
                            "#ed7953"
                          ],
                          [
                            0.7777777777777778,
                            "#fb9f3a"
                          ],
                          [
                            0.8888888888888888,
                            "#fdca26"
                          ],
                          [
                            1,
                            "#f0f921"
                          ]
                        ],
                        "type": "heatmap"
                      }
                    ],
                    "heatmapgl": [
                      {
                        "colorbar": {
                          "outlinewidth": 0,
                          "ticks": ""
                        },
                        "colorscale": [
                          [
                            0,
                            "#0d0887"
                          ],
                          [
                            0.1111111111111111,
                            "#46039f"
                          ],
                          [
                            0.2222222222222222,
                            "#7201a8"
                          ],
                          [
                            0.3333333333333333,
                            "#9c179e"
                          ],
                          [
                            0.4444444444444444,
                            "#bd3786"
                          ],
                          [
                            0.5555555555555556,
                            "#d8576b"
                          ],
                          [
                            0.6666666666666666,
                            "#ed7953"
                          ],
                          [
                            0.7777777777777778,
                            "#fb9f3a"
                          ],
                          [
                            0.8888888888888888,
                            "#fdca26"
                          ],
                          [
                            1,
                            "#f0f921"
                          ]
                        ],
                        "type": "heatmapgl"
                      }
                    ],
                    "histogram": [
                      {
                        "marker": {
                          "pattern": {
                            "fillmode": "overlay",
                            "size": 10,
                            "solidity": 0.2
                          }
                        },
                        "type": "histogram"
                      }
                    ],
                    "histogram2d": [
                      {
                        "colorbar": {
                          "outlinewidth": 0,
                          "ticks": ""
                        },
                        "colorscale": [
                          [
                            0,
                            "#0d0887"
                          ],
                          [
                            0.1111111111111111,
                            "#46039f"
                          ],
                          [
                            0.2222222222222222,
                            "#7201a8"
                          ],
                          [
                            0.3333333333333333,
                            "#9c179e"
                          ],
                          [
                            0.4444444444444444,
                            "#bd3786"
                          ],
                          [
                            0.5555555555555556,
                            "#d8576b"
                          ],
                          [
                            0.6666666666666666,
                            "#ed7953"
                          ],
                          [
                            0.7777777777777778,
                            "#fb9f3a"
                          ],
                          [
                            0.8888888888888888,
                            "#fdca26"
                          ],
                          [
                            1,
                            "#f0f921"
                          ]
                        ],
                        "type": "histogram2d"
                      }
                    ],
                    "histogram2dcontour": [
                      {
                        "colorbar": {
                          "outlinewidth": 0,
                          "ticks": ""
                        },
                        "colorscale": [
                          [
                            0,
                            "#0d0887"
                          ],
                          [
                            0.1111111111111111,
                            "#46039f"
                          ],
                          [
                            0.2222222222222222,
                            "#7201a8"
                          ],
                          [
                            0.3333333333333333,
                            "#9c179e"
                          ],
                          [
                            0.4444444444444444,
                            "#bd3786"
                          ],
                          [
                            0.5555555555555556,
                            "#d8576b"
                          ],
                          [
                            0.6666666666666666,
                            "#ed7953"
                          ],
                          [
                            0.7777777777777778,
                            "#fb9f3a"
                          ],
                          [
                            0.8888888888888888,
                            "#fdca26"
                          ],
                          [
                            1,
                            "#f0f921"
                          ]
                        ],
                        "type": "histogram2dcontour"
                      }
                    ],
                    "mesh3d": [
                      {
                        "colorbar": {
                          "outlinewidth": 0,
                          "ticks": ""
                        },
                        "type": "mesh3d"
                      }
                    ],
                    "parcoords": [
                      {
                        "line": {
                          "colorbar": {
                            "outlinewidth": 0,
                            "ticks": ""
                          }
                        },
                        "type": "parcoords"
                      }
                    ],
                    "pie": [
                      {
                        "automargin": true,
                        "type": "pie"
                      }
                    ],
                    "scatter": [
                      {
                        "fillpattern": {
                          "fillmode": "overlay",
                          "size": 10,
                          "solidity": 0.2
                        },
                        "type": "scatter"
                      }
                    ],
                    "scatter3d": [
                      {
                        "line": {
                          "colorbar": {
                            "outlinewidth": 0,
                            "ticks": ""
                          }
                        },
                        "marker": {
                          "colorbar": {
                            "outlinewidth": 0,
                            "ticks": ""
                          }
                        },
                        "type": "scatter3d"
                      }
                    ],
                    "scattercarpet": [
                      {
                        "marker": {
                          "colorbar": {
                            "outlinewidth": 0,
                            "ticks": ""
                          }
                        },
                        "type": "scattercarpet"
                      }
                    ],
                    "scattergeo": [
                      {
                        "marker": {
                          "colorbar": {
                            "outlinewidth": 0,
                            "ticks": ""
                          }
                        },
                        "type": "scattergeo"
                      }
                    ],
                    "scattergl": [
                      {
                        "marker": {
                          "colorbar": {
                            "outlinewidth": 0,
                            "ticks": ""
                          }
                        },
                        "type": "scattergl"
                      }
                    ],
                    "scattermapbox": [
                      {
                        "marker": {
                          "colorbar": {
                            "outlinewidth": 0,
                            "ticks": ""
                          }
                        },
                        "type": "scattermapbox"
                      }
                    ],
                    "scatterpolar": [
                      {
                        "marker": {
                          "colorbar": {
                            "outlinewidth": 0,
                            "ticks": ""
                          }
                        },
                        "type": "scatterpolar"
                      }
                    ],
                    "scatterpolargl": [
                      {
                        "marker": {
                          "colorbar": {
                            "outlinewidth": 0,
                            "ticks": ""
                          }
                        },
                        "type": "scatterpolargl"
                      }
                    ],
                    "scatterternary": [
                      {
                        "marker": {
                          "colorbar": {
                            "outlinewidth": 0,
                            "ticks": ""
                          }
                        },
                        "type": "scatterternary"
                      }
                    ],
                    "surface": [
                      {
                        "colorbar": {
                          "outlinewidth": 0,
                          "ticks": ""
                        },
                        "colorscale": [
                          [
                            0,
                            "#0d0887"
                          ],
                          [
                            0.1111111111111111,
                            "#46039f"
                          ],
                          [
                            0.2222222222222222,
                            "#7201a8"
                          ],
                          [
                            0.3333333333333333,
                            "#9c179e"
                          ],
                          [
                            0.4444444444444444,
                            "#bd3786"
                          ],
                          [
                            0.5555555555555556,
                            "#d8576b"
                          ],
                          [
                            0.6666666666666666,
                            "#ed7953"
                          ],
                          [
                            0.7777777777777778,
                            "#fb9f3a"
                          ],
                          [
                            0.8888888888888888,
                            "#fdca26"
                          ],
                          [
                            1,
                            "#f0f921"
                          ]
                        ],
                        "type": "surface"
                      }
                    ],
                    "table": [
                      {
                        "cells": {
                          "fill": {
                            "color": "#EBF0F8"
                          },
                          "line": {
                            "color": "white"
                          }
                        },
                        "header": {
                          "fill": {
                            "color": "#C8D4E3"
                          },
                          "line": {
                            "color": "white"
                          }
                        },
                        "type": "table"
                      }
                    ]
                  },
                  "layout": {
                    "annotationdefaults": {
                      "arrowcolor": "#2a3f5f",
                      "arrowhead": 0,
                      "arrowwidth": 1
                    },
                    "autotypenumbers": "strict",
                    "coloraxis": {
                      "colorbar": {
                        "outlinewidth": 0,
                        "ticks": ""
                      }
                    },
                    "colorscale": {
                      "diverging": [
                        [
                          0,
                          "#8e0152"
                        ],
                        [
                          0.1,
                          "#c51b7d"
                        ],
                        [
                          0.2,
                          "#de77ae"
                        ],
                        [
                          0.3,
                          "#f1b6da"
                        ],
                        [
                          0.4,
                          "#fde0ef"
                        ],
                        [
                          0.5,
                          "#f7f7f7"
                        ],
                        [
                          0.6,
                          "#e6f5d0"
                        ],
                        [
                          0.7,
                          "#b8e186"
                        ],
                        [
                          0.8,
                          "#7fbc41"
                        ],
                        [
                          0.9,
                          "#4d9221"
                        ],
                        [
                          1,
                          "#276419"
                        ]
                      ],
                      "sequential": [
                        [
                          0,
                          "#0d0887"
                        ],
                        [
                          0.1111111111111111,
                          "#46039f"
                        ],
                        [
                          0.2222222222222222,
                          "#7201a8"
                        ],
                        [
                          0.3333333333333333,
                          "#9c179e"
                        ],
                        [
                          0.4444444444444444,
                          "#bd3786"
                        ],
                        [
                          0.5555555555555556,
                          "#d8576b"
                        ],
                        [
                          0.6666666666666666,
                          "#ed7953"
                        ],
                        [
                          0.7777777777777778,
                          "#fb9f3a"
                        ],
                        [
                          0.8888888888888888,
                          "#fdca26"
                        ],
                        [
                          1,
                          "#f0f921"
                        ]
                      ],
                      "sequentialminus": [
                        [
                          0,
                          "#0d0887"
                        ],
                        [
                          0.1111111111111111,
                          "#46039f"
                        ],
                        [
                          0.2222222222222222,
                          "#7201a8"
                        ],
                        [
                          0.3333333333333333,
                          "#9c179e"
                        ],
                        [
                          0.4444444444444444,
                          "#bd3786"
                        ],
                        [
                          0.5555555555555556,
                          "#d8576b"
                        ],
                        [
                          0.6666666666666666,
                          "#ed7953"
                        ],
                        [
                          0.7777777777777778,
                          "#fb9f3a"
                        ],
                        [
                          0.8888888888888888,
                          "#fdca26"
                        ],
                        [
                          1,
                          "#f0f921"
                        ]
                      ]
                    },
                    "colorway": [
                      "#636efa",
                      "#EF553B",
                      "#00cc96",
                      "#ab63fa",
                      "#FFA15A",
                      "#19d3f3",
                      "#FF6692",
                      "#B6E880",
                      "#FF97FF",
                      "#FECB52"
                    ],
                    "font": {
                      "color": "#2a3f5f"
                    },
                    "geo": {
                      "bgcolor": "white",
                      "lakecolor": "white",
                      "landcolor": "#E5ECF6",
                      "showlakes": true,
                      "showland": true,
                      "subunitcolor": "white"
                    },
                    "hoverlabel": {
                      "align": "left"
                    },
                    "hovermode": "closest",
                    "mapbox": {
                      "style": "light"
                    },
                    "paper_bgcolor": "white",
                    "plot_bgcolor": "#E5ECF6",
                    "polar": {
                      "angularaxis": {
                        "gridcolor": "white",
                        "linecolor": "white",
                        "ticks": ""
                      },
                      "bgcolor": "#E5ECF6",
                      "radialaxis": {
                        "gridcolor": "white",
                        "linecolor": "white",
                        "ticks": ""
                      }
                    },
                    "scene": {
                      "xaxis": {
                        "backgroundcolor": "#E5ECF6",
                        "gridcolor": "white",
                        "gridwidth": 2,
                        "linecolor": "white",
                        "showbackground": true,
                        "ticks": "",
                        "zerolinecolor": "white"
                      },
                      "yaxis": {
                        "backgroundcolor": "#E5ECF6",
                        "gridcolor": "white",
                        "gridwidth": 2,
                        "linecolor": "white",
                        "showbackground": true,
                        "ticks": "",
                        "zerolinecolor": "white"
                      },
                      "zaxis": {
                        "backgroundcolor": "#E5ECF6",
                        "gridcolor": "white",
                        "gridwidth": 2,
                        "linecolor": "white",
                        "showbackground": true,
                        "ticks": "",
                        "zerolinecolor": "white"
                      }
                    },
                    "shapedefaults": {
                      "line": {
                        "color": "#2a3f5f"
                      }
                    },
                    "ternary": {
                      "aaxis": {
                        "gridcolor": "white",
                        "linecolor": "white",
                        "ticks": ""
                      },
                      "baxis": {
                        "gridcolor": "white",
                        "linecolor": "white",
                        "ticks": ""
                      },
                      "bgcolor": "#E5ECF6",
                      "caxis": {
                        "gridcolor": "white",
                        "linecolor": "white",
                        "ticks": ""
                      }
                    },
                    "title": {
                      "x": 0.05
                    },
                    "xaxis": {
                      "automargin": true,
                      "gridcolor": "white",
                      "linecolor": "white",
                      "ticks": "",
                      "title": {
                        "standoff": 15
                      },
                      "zerolinecolor": "white",
                      "zerolinewidth": 2
                    },
                    "yaxis": {
                      "automargin": true,
                      "gridcolor": "white",
                      "linecolor": "white",
                      "ticks": "",
                      "title": {
                        "standoff": 15
                      },
                      "zerolinecolor": "white",
                      "zerolinewidth": 2
                    }
                  }
                },
                "title": {
                  "text": "brasil"
                },
                "xaxis": {
                  "title": {
                    "text": "Time"
                  }
                },
                "yaxis": {
                  "title": {
                    "text": "Value"
                  }
                }
              }
            }
          },
          "metadata": {},
          "output_type": "display_data"
        }
      ],
      "source": [
        "for variable in results:\n",
        "    variable_result = results[variable]\n",
        "    variable_df = RegressionDF[RegressionDF[GROUP_COL_NAME] == variable]\n",
        "    plot_with_all_dummies(variable,\n",
        "                            variable_df,\n",
        "                            variable_result,\n",
        "                            exclude_coeffs_by_prefix=[\n",
        "                                \"month_\",\n",
        "                                'quarter_',\n",
        "                                #'sin','cos'\n",
        "                                ],\n",
        "                            line_events = {\n",
        "                                #'Choque_Inicial':        [CHOQUE_INICIAL_START_DATE, CHOQUE_INICIAL_END_DATE, \"rgba(0, 0, 0, 0.25)\", False],\n",
        "                                #'Lockdown_2021':         [SECONDLOCKDOWN_START_DATE, SECONDLOCKDOWN_END_DATE, \"rgba(0, 0, 0, 0.25)\", False],\n",
        "                                'Pandemia':         [PANDEMIA_START_DATE, PANDEMIA_END_DATE, None, True],\n",
        "                                'Pos Pandemia':      [POS_PANDEMIA_START_DATE, END_DATE, None, True]\n",
        "                            },\n",
        "                            #slope_coef_str='PrePandemia_Trend'\n",
        "\n",
        "\n",
        "\n",
        "                            )\n"
      ]
    }
  ],
  "metadata": {
    "colab": {
      "collapsed_sections": [
        "K8HZg-VlNIXd",
        "WcYnNsL4NIXl",
        "2IiKsqpaNIXu"
      ],
      "provenance": [],
      "toc_visible": true
    },
    "kernelspec": {
      "display_name": "Python 3",
      "name": "python3"
    },
    "language_info": {
      "codemirror_mode": {
        "name": "ipython",
        "version": 3
      },
      "file_extension": ".py",
      "mimetype": "text/x-python",
      "name": "python",
      "nbconvert_exporter": "python",
      "pygments_lexer": "ipython3",
      "version": "3.12.5"
    }
  },
  "nbformat": 4,
  "nbformat_minor": 0
}
