{
  "cells": [
    {
      "cell_type": "markdown",
      "metadata": {
        "id": "view-in-github"
      },
      "source": [
        "<a href=\"https://colab.research.google.com/github/rato42/linear_regression/blob/unstable-yeah-sure/CLASSBASED_new_linear_regression.ipynb\" target=\"_parent\"><img src=\"https://colab.research.google.com/assets/colab-badge.svg\" alt=\"Open In Colab\"/></a>"
      ]
    },
    {
      "cell_type": "markdown",
      "metadata": {
        "id": "EwX1y9X8yfED"
      },
      "source": [
        "# Imports\n"
      ]
    },
    {
      "cell_type": "code",
      "execution_count": 3064,
      "metadata": {
        "colab": {
          "base_uri": "https://localhost:8080/"
        },
        "id": "sOJUZR18gkp5",
        "outputId": "dd4a2f5c-7c6d-4675-937c-4e5202e40ef1"
      },
      "outputs": [
        {
          "name": "stdout",
          "output_type": "stream",
          "text": [
            "Running outside Colab (VS Code/local)\n"
          ]
        }
      ],
      "source": [
        "import sys\n",
        "\n",
        "# Detect Colab environment\n",
        "IN_COLAB = \"google.colab\" in sys.modules\n",
        "\n",
        "if IN_COLAB:\n",
        "    from google.colab import drive, auth\n",
        "    from googleapiclient.discovery import build\n",
        "    from googleapiclient.http import MediaIoBaseDownload\n",
        "    !pip install pwlf\n",
        "\n",
        "    import pwlf\n",
        "\n",
        "    auth.authenticate_user()\n",
        "    drive.mount(\"/content/drive\")\n",
        "else:\n",
        "    import pwlf\n",
        "    from oauth2client.service_account import ServiceAccountCredentials\n",
        "\n",
        "    print(\"Running outside Colab (VS Code/local)\")\n",
        "\n",
        "try:\n",
        "    import gspread\n",
        "except ModuleNotFoundError:\n",
        "    if IN_COLAB and \"google.colab\" in str(get_ipython()):\n",
        "        %pip install gspread\n",
        "    import gspread\n",
        "\n",
        "from gspread_dataframe import set_with_dataframe"
      ]
    },
    {
      "cell_type": "code",
      "execution_count": 3065,
      "metadata": {
        "id": "uc_HtA6xvVE2"
      },
      "outputs": [],
      "source": [
        "\n",
        "import os\n",
        "\n",
        "import time\n",
        "\n",
        "import math\n",
        "import scipy.stats as stats\n",
        "import pandas as pd\n",
        "import numpy as np\n",
        "\n",
        "from statsmodels.genmod.generalized_estimating_equations import GEE\n",
        "from statsmodels.genmod.families import Poisson\n",
        "from statsmodels.genmod.cov_struct import Autoregressive\n",
        "\n",
        "\n",
        "from sklearn.linear_model import Ridge\n",
        "import statsmodels.api as sm\n",
        "import copy\n",
        "\n",
        "from openpyxl import load_workbook\n",
        "from openpyxl.styles import Alignment\n",
        "\n",
        "from scipy.stats import linregress, ttest_ind, ttest_rel, ttest_1samp\n",
        "import matplotlib.pyplot as plt\n",
        "import re\n",
        "from openpyxl.drawing.image import Image\n",
        "from matplotlib.font_manager import FontProperties\n",
        "from io import BytesIO\n",
        "import statsmodels.formula.api as smf\n",
        "import statsmodels.api as sm\n",
        "\n",
        "import numpy as np\n",
        "import plotly.graph_objects as go\n",
        "\n",
        "\n",
        "from datetime import datetime, timedelta\n",
        "\n",
        "from statsmodels.stats.stattools import durbin_watson\n",
        "from statsmodels.stats.diagnostic import acorr_ljungbox\n",
        "from statsmodels.tools.tools import add_constant\n",
        "from statsmodels.tsa.arima.model import ARIMA\n",
        "from statsmodels.graphics.tsaplots import plot_acf, plot_pacf\n",
        "from statsmodels.tsa.statespace.sarimax import SARIMAX\n",
        "\n",
        "from sklearn.preprocessing import StandardScaler\n",
        "from sklearn.model_selection import train_test_split\n",
        "from sklearn.metrics import r2_score, mean_squared_error\n",
        "from sklearn.pipeline import Pipeline\n",
        "from sklearn.base import BaseEstimator, TransformerMixin\n",
        "from sklearn.preprocessing import FunctionTransformer\n",
        "from statsmodels.genmod.families import Gamma\n",
        "from dateutil.relativedelta import relativedelta\n",
        "\n",
        "from sklearn import set_config\n",
        "set_config(display=\"diagram\")\n",
        "\n",
        "import logging\n",
        "from typing import Dict, Any\n",
        "\n",
        "import io"
      ]
    },
    {
      "cell_type": "markdown",
      "metadata": {
        "id": "M6pmUGm9ycJ_"
      },
      "source": [
        "# LOAD --- data from gsheet if colab or local\n"
      ]
    },
    {
      "cell_type": "code",
      "execution_count": 3066,
      "metadata": {
        "id": "r6jsbsBZvWHp"
      },
      "outputs": [],
      "source": [
        "dados_brutos = None\n",
        "output_wksheet = None\n",
        "\n",
        "input_path = \"https://docs.google.com/spreadsheets/d/1m3eEaxWT4Unb8jBZWKjiLivavfA0x3PT1F1Rz1eXwVE/edit?gid=0\"\n",
        "output_path = \"https://docs.google.com/spreadsheets/d/1RzC3DfKNUwYA-qfUN0i53hUwRkWGMBOCoYQqdqG4MQY/edit?gid=0\"\n",
        "\n",
        "local_input_path = (\n",
        "    #\"D:\\\\CodeStuff\\\\Stats\\\\colab_linear_regression\\\\linear_regression\\\\input\\\\input.csv\" ### poa\n",
        "    #\"D:\\\\CodeStuff\\\\Stats\\\\colab_linear_regression\\\\linear_regression\\\\input\\\\input_backup_com_aps_total_RS.xlsx\" ### rs\n",
        "    #\"D:\\\\CodeStuff\\\\Stats\\\\colab_linear_regression\\\\linear_regression\\\\input\\\\input_backup_com_aps_total.xlsx\"\n",
        "    #\"D:\\\\CodeStuff\\\\Stats\\\\colab_linear_regression\\\\linear_regression\\\\input\\\\input_backup_com_aps_total_RS_percentual.xlsx\"\n",
        "    #\"D:\\\\CodeStuff\\\\Stats\\\\colab_linear_regression\\\\linear_regression\\\\input\\\\input_IR_1000_poa.xlsx\"\n",
        "    #\"D:\\\\CodeStuff\\\\Stats\\\\colab_linear_regression\\\\linear_regression\\\\input\\\\input_IR_1000_brasil.xlsx\"\n",
        "    #\"D:\\\\CodeStuff\\\\Stats\\\\colab_linear_regression\\\\linear_regression\\\\input\\\\regions_IR_1000.xlsx\"\n",
        "    \"D:\\\\CodeStuff\\\\Stats\\\\colab_linear_regression\\\\linear_regression\\\\input\\\\raw_regions_joined.xlsx\"\n",
        ")\n",
        "\n",
        "output_wksheet = None\n",
        "\n",
        "if IN_COLAB:\n",
        "    import gspread\n",
        "    from google.auth import default\n",
        "\n",
        "    auth.authenticate_user()\n",
        "    creds, _ = default()\n",
        "    gc = gspread.authorize(creds)\n",
        "    workbook = gc.open_by_url(input_path)\n",
        "    worksheets = workbook.worksheets()\n",
        "    output_wksheet = gc.open_by_url(output_path)\n",
        "    dados_brutos = worksheets[0].get_all_values()\n",
        "else:\n",
        "    try:\n",
        "        dados_brutos = pd.read_csv(local_input_path, header=None).values.tolist()\n",
        "    except:\n",
        "        dados_brutos = pd.read_excel(local_input_path, header=None).values.tolist()"
      ]
    },
    {
      "cell_type": "markdown",
      "metadata": {
        "id": "wNrVpR84NIXY"
      },
      "source": [
        "# TODO LIST"
      ]
    },
    {
      "cell_type": "markdown",
      "metadata": {},
      "source": [
        "PROMPT\n",
        "im doing a ITS. here is the structure\n",
        "data is monthly, from 2016 to 2024\n",
        "A PraisWinsten regression\n",
        "\n",
        "the following dummies:\n",
        "Pandemia_Step [2020 - 2022] - binary\n",
        "Pandemia_Trend [2020 - 2022] - increase by 1 by period\n",
        "PosPandemia_Step [2022 - 2024] - binary\n",
        "PosPandemia_Trend [2022 - 2024] - increase by 1 by period\n",
        "Lockdown 2020 [03/2020 - 05/2020] - pulse, binary\n",
        "Locdown 2021 [04/2021 - 05/2021] - pulse, binary"
      ]
    },
    {
      "cell_type": "code",
      "execution_count": 3067,
      "metadata": {},
      "outputs": [],
      "source": [
        "#Parte 1 – Análise geral com grupo controle\n",
        "#\n",
        "#    ITS com controle (como já falamos)\n",
        "#\n",
        "#    Mostra que saúde mental cresceu mais que os atendimentos gerais\n",
        "#\n",
        "#    Mostra os efeitos da pandemia nesse comportamento\n",
        "#\n",
        "#Parte 2 – Análise dos subgrupos (sem controle)\n",
        "#\n",
        "#    ITS separado para cada diagnóstico (ex: CID-10 F32, F41, etc.)\n",
        "#\n",
        "#    Sem grupo controle, mas comparando antes/depois da pandemia\n",
        "#\n",
        "#    Pode usar o mesmo modelo (Prais-Winsten com step + trend)"
      ]
    },
    {
      "cell_type": "code",
      "execution_count": 3068,
      "metadata": {},
      "outputs": [],
      "source": [
        "#Omnibus Test: The high value (41.163) and the p-value (< 0.0001) \n",
        "# suggest that the residuals deviate from normality, which might indicate some model specification issues.\n",
        "#\n",
        "#Jarque-Bera Test: Similarly, this test suggests non-normality in the residuals."
      ]
    },
    {
      "cell_type": "code",
      "execution_count": 3069,
      "metadata": {},
      "outputs": [
        {
          "data": {
            "text/plain": [
              "'\\nimport statsmodels.api as sm\\n\\n# model with step\\nmod_full = sm.OLS(y, X_full).fit()\\n\\n# model without step\\nmod_reduced = sm.OLS(y, X_reduced).fit()\\n\\n# compare using F-test\\nf_test_result = mod_full.compare_f_test(mod_reduced)\\n'"
            ]
          },
          "execution_count": 3069,
          "metadata": {},
          "output_type": "execute_result"
        }
      ],
      "source": [
        "### to test if step is necessary\n",
        "\n",
        "'''\n",
        "import statsmodels.api as sm\n",
        "\n",
        "# model with step\n",
        "mod_full = sm.OLS(y, X_full).fit()\n",
        "\n",
        "# model without step\n",
        "mod_reduced = sm.OLS(y, X_reduced).fit()\n",
        "\n",
        "# compare using F-test\n",
        "f_test_result = mod_full.compare_f_test(mod_reduced)\n",
        "'''"
      ]
    },
    {
      "cell_type": "code",
      "execution_count": 3070,
      "metadata": {
        "id": "5yCwGqXBNIXY"
      },
      "outputs": [],
      "source": [
        "# TODO: Adicionar dummy de interação para comparar SM e outros atendimentos\n",
        "\n",
        "# TODO: Orthogonalise pospand trend (so to not have colinearity with months)\n",
        "\n",
        "# TODO: analisar overfitting\n",
        "\n",
        "# TODO: taxa. a população se mantem estavel? os serviços de saude se mantem estaveis?\n",
        "\n",
        "# https://chatgpt.com/canvas/shared/68084b682c548191a92db280344e5474"
      ]
    },
    {
      "cell_type": "markdown",
      "metadata": {
        "id": "gGzVKl7DNIXZ"
      },
      "source": [
        "--- Low HIGH COMPLEXITY\n",
        "\n",
        "- [x] Data Quality & Exploration  \n",
        "  - [x] Plot the raw time series and annotate intervention points.  \n",
        "  - [x] Check for missing values, outliers, or data entry errors.  \n",
        "  - [x] Verify your date index is consistent (e.g., monthly frequency).  \n",
        "\n",
        "- [x] Descriptive Statistics  \n",
        "  - [x] Compute summary statistics (mean, variance) before and after the pandemic.  \n",
        "  - [x] Calculate and plot moving averages to smooth trends.  \n",
        "\n",
        "- [x] Dummy Variable Audit  \n",
        "  - [x] Confirm each dummy is coded 0/1 for the correct periods.  \n",
        "  - [x] Review naming consistency and placement in the DataFrame.  \n",
        "\n",
        "- [x] Basic Model Fit  \n",
        "  - [x] Fit the current segmented regression (consults ~ time + level_dummy + slope_dummy + month_dummies + lockdown_outliers).  \n",
        "  - [x] Inspect R², coefficient signs, and p-values to sanity-check effects.  Export this to a readeable format\n",
        "\n",
        "--- MEDIUM COMPLEXITY\n",
        "\n",
        "- [ ] Residual Diagnostics  \n",
        "  - [X] Plot residuals vs. fitted values to check heteroscedasticity.  \n",
        "  - [ ] Examine ACF/PACF of residuals:  \n",
        "    - [X] First using OLS (to confirm the need for AR structure).  \n",
        "    - [X] Then using Prais-Winsten (to assess remaining autocorrelation).  \n",
        "\n",
        "- [ ] Autocorrelation & Robust SE  \n",
        "  - [ ] If autocorrelation exists, adjust standard errors (e.g., Newey-West) or fit an autoregressive error structure (e.g., AR(1)).  \n",
        "  - [ ] Since you’re using Prais-Winsten, this step may be partially addressed — verify with residuals.  \n",
        "\n",
        "- [ ] Seasonality & Trend Flexibility  \n",
        "  - [ ] Test alternative seasonal structures (e.g., Fourier terms) instead of month dummies.  \n",
        "  - [ ] Consider adding a quadratic or spline-based time trend.  \n",
        "\n",
        "- [ ] Outlier Handling  \n",
        "  - [ ] Justify and potentially consolidate lockdown outlier dummies (pulse vs. step).  \n",
        "  - [ ] Compare models with and without these outlier dummies (use AIC/BIC).  \n",
        "\n",
        "- [ ] Multicollinearity Check  \n",
        "  - [ ] Compute Variance Inflation Factors (VIFs) for covariates.  \n",
        "\n",
        "--- HIGH COMPLEXITY\n",
        "\n",
        "- [ ] Adicionar dummy de interação para comparar SM e outros atendimentos\n",
        "\n",
        "- [ ] Time-Series Cross-Validation  \n",
        "  - [ ] Implement rolling-origin evaluation to assess predictive performance.  \n",
        "  - [ ] Compare cross-validated errors (e.g., RMSE) across model specs to detect overfitting.  \n",
        "\n",
        "- [ ] Model Comparison & Selection  \n",
        "  - [ ] Use information criteria (AIC/BIC) to compare alternative models.  \n",
        "  - [ ] Evaluate nested models (e.g., with/without slope change) via likelihood ratio tests.  \n",
        "\n",
        "- [ ] Advanced Interrupted Time Series Methods  \n",
        "  - [ ] Explore Bayesian ITS or segmented regression with autoregressive integrated moving average (ARIMA) errors.  \n",
        "  - [x] Consider structural break tests (e.g., Chow test) for formal change-point detection.  \n",
        "\n",
        "- [ ] Sensitivity & Robustness  \n",
        "  - [ ] Run sensitivity analyses using different intervention start/end dates.  \n",
        "  - [ ] Test robustness to alternative outlier definitions or lag structures.  \n",
        "\n",
        "- [ ] Forecasting & Counterfactuals  \n",
        "  - [ ] Generate counterfactual predictions for the post-pandemic period.  \n",
        "  - [ ] Visualize observed vs. counterfactual to illustrate intervention impact."
      ]
    },
    {
      "cell_type": "code",
      "execution_count": 3071,
      "metadata": {},
      "outputs": [],
      "source": [
        "def build_model_formula(dependant_var, independant_var=False, dummy_names=[]):\n",
        "    \"\"\"\n",
        "    Builds the regression formula dynamically.\n",
        "\n",
        "    Parameters:\n",
        "    -----------\n",
        "    dependant_var : str\n",
        "        The dependent variable (Y).\n",
        "    independant_var : str or bool\n",
        "        The independent variable (X). If False, it will be excluded.\n",
        "    dummy_names : list\n",
        "        List of dummy variable names to include in the formula.\n",
        "\n",
        "    Returns:\n",
        "    --------\n",
        "    str\n",
        "        The regression formula.\n",
        "    \"\"\"\n",
        "    base_model_formula = f\"{dependant_var} ~ \"\n",
        "    if independant_var:\n",
        "        base_model_formula += f\"{independant_var} + \"\n",
        "\n",
        "    # Add dummy variables (including Fourier terms if present)\n",
        "    model_formula = base_model_formula\n",
        "    if dummy_names:\n",
        "        for i, dummy in enumerate(dummy_names):\n",
        "            model_formula += dummy\n",
        "            if i != len(dummy_names) - 1:  # Add '+' if not the last element\n",
        "                model_formula += \" + \"\n",
        "\n",
        "    return model_formula.strip(\" + \"), base_model_formula.strip(\" + \")\n",
        "\n",
        "\n",
        "def build_dummy_names(dummies_args, include_month_dummies, include_quarter_dummies, include_fourier_terms=False, n_harmonics=1):\n",
        "    \"\"\"\n",
        "    Builds the list of dummy variable names dynamically.\n",
        "\n",
        "    Parameters:\n",
        "    -----------\n",
        "    dummies_args : dict\n",
        "        Dictionary of dummy variable configurations.\n",
        "    include_month_dummies : bool\n",
        "        Whether to include month dummies.\n",
        "    include_quarter_dummies : bool\n",
        "        Whether to include quarter dummies.\n",
        "    include_fourier_terms : bool\n",
        "        Whether to include Fourier terms for seasonality.\n",
        "    n_harmonics : int\n",
        "        Number of Fourier harmonics to include.\n",
        "\n",
        "    Returns:\n",
        "    --------\n",
        "    list\n",
        "        List of dummy variable names.\n",
        "    \"\"\"\n",
        "    dummy_names = []\n",
        "\n",
        "    # Add dummy variables from dummies_args\n",
        "    for dummy_name in dummies_args.keys():\n",
        "        dummy_names.append(dummy_name)\n",
        "\n",
        "    # Add Fourier terms if enabled\n",
        "    if include_fourier_terms:\n",
        "        for k in range(1, n_harmonics + 1):\n",
        "            dummy_names.append(f\"cos{k}\")\n",
        "            dummy_names.append(f\"sin{k}\")\n",
        "\n",
        "    # Add month dummies if enabled\n",
        "    if include_month_dummies:\n",
        "        for i in range(1, 12):\n",
        "            dummy_names.append(\"month_\" + str(i + 1))\n",
        "\n",
        "    # Add quarter dummies if enabled\n",
        "    if include_quarter_dummies:\n",
        "        for i in range(1, 4):\n",
        "            dummy_names.append(\"quarter_\" + str(i + 1))\n",
        "\n",
        "    return dummy_names\n"
      ]
    },
    {
      "cell_type": "markdown",
      "metadata": {
        "id": "SAATuGWcyPmG"
      },
      "source": [
        "# ARGS --- Define Args\n"
      ]
    },
    {
      "cell_type": "code",
      "execution_count": 3072,
      "metadata": {
        "id": "N43j0vRL3QsP"
      },
      "outputs": [],
      "source": [
        "### ARGS\n",
        "\n",
        "MODEL_DEF = 'GLSAR'\n",
        "RAW_ATD_VAR = 'mental_health_visits'\n",
        "RAW_TOTAL_ATD_VAR = 'total_atd'\n",
        "IR_VAR = 'IR'\n",
        "IR_SCALE = 1000\n",
        "DATE_NAME = \"date\"\n",
        "GROUP_COL_NAME = \"regiao\"\n",
        "LOCAL_OUTPUT_PATH = \"D:\\\\CodeStuff\\\\Stats\\\\colab_linear_regression\\\\linear_regression\\\\output\\\\output.xlsx\"\n",
        "\n",
        "\n",
        "MAIN_SERIE = '_Grand Total'\n",
        "CONTROL_SERIE = '__Atendimentos na APS (exceto saúde mental)'\n",
        "\n",
        "MOVING_WINDOW = 12\n",
        "PLOT_MEDIA_MOVEL = False\n",
        "\n",
        "\n",
        "### model vars\n",
        "INDEPENDENT_VAR = \"periodo\"  ### Y\n",
        "DEPENDENT_VAR = RAW_ATD_VAR if (MODEL_DEF == \"GEE\" or MODEL_DEF == \"GLM\") else IR_VAR\n",
        "\n",
        "\n",
        "######### DUMMIES ##########\n",
        "\n",
        "MEDIA_MOVEL_AS_FEATURE = False\n",
        "MEDIA_MOVEL_AS_DEPENDENT = False\n",
        "\n",
        "INCLUDE_FOURIER_TERMS = True\n",
        "N_HARMONICS = 1\n",
        "FOURIER_PERIOD = 12\n",
        "INCLUDE_MONTH_DUMMIES = False\n",
        "INCLUDE_QUARTER_DUMMIES = False\n",
        "\n",
        "PRE_START_DATE = \"2016-01-01\"  ### data inicial para o modelo, se for menor que a data do dataframe, o modelo vai dar erro\n",
        "\n",
        "### as quedas do primeiro lockdown nao são tão claras e a recuperação e queda parecem ser mais graduais\n",
        "CHOQUE_INICIAL_START_DATE= \"2020-03-01\"\n",
        "CHOQUE_INICIAL_END_DATE = \"2020-07-01\"#\"2020-08-01\" #month based\n",
        "\n",
        "### abril e maio tiveram quedas bem identificaveis nos atendimentos em todas variavieis\n",
        "SECONDLOCKDOWN_START_DATE = \"2021-04-01\"\n",
        "SECONDLOCKDOWN_END_DATE = '2021-05-01' #month based  #'2021-04-01'#quarter_based #\n",
        "\n",
        "PANDEMIA_START_DATE = \"2020-04-01\"\n",
        "PANDEMIA_END_DATE = \"2022-03-01\" #\"2021-02-01\" #\n",
        "\n",
        "\n",
        "\n",
        "\n",
        "PANDEMIA2_START_DATE = \"2021-03-01\"\n",
        "PANDEMIA2_END_DATE = \"2022-03-01\" \n",
        "\n",
        "POS_PANDEMIA_START_DATE = \"2022-04-01\"\n",
        "END_DATE = \"2024-12-01\"#\"2024-12-01\"  ### data final para o modelo, se for maior que a data do dataframe, o modelo vai dar erro\n",
        "\n",
        "\n",
        "\n",
        "\n",
        "OMNICRON_START_DATE = \"2022-01-01\"\n",
        "OMNICRON_END_DATE = \"2022-02-01\"  ### data final para o modelo, se for maior que a data do dataframe, o modelo vai dar erro\n",
        "\n",
        "'''\n",
        "DUMMY_ARGS =        {\n",
        "        'Choque_Inicial': {\"start_date\": CHOQUE_INICIAL_START_DATE, \"end_date\": CHOQUE_INICIAL_END_DATE},\n",
        "        'Lockdown_2021': {\"start_date\": SECONDLOCKDOWN_START_DATE, \"end_date\": SECONDLOCKDOWN_END_DATE},\n",
        "        #'Enchentes_2024': {\"start_date\": \"2024-05-01\", \"end_date\": \"2024-05-01\"},\n",
        "        'Step_PosPandemia': {\"start_date\": POS_PANDEMIA_START_DATE, \"end_date\": END_DATE,'exclude_ranges': POS_PANDEMIA_EXCLUDE_RANGES, 'plot':False, 'step': True,},\n",
        "        'Trend_PosPandemia' : {\"start_date\": POS_PANDEMIA_START_DATE, \"end_date\": END_DATE,'exclude_ranges': POS_PANDEMIA_EXCLUDE_RANGES, 'plot': True, 'add_time_trend': True, 'keep_period_index': False, 'step': False},\n",
        "        }\n",
        "'''\n",
        "\n",
        "POS_PANDEMIA_EXCLUDE_RANGES = [\n",
        "    #(CHOQUE_INICIAL_START_DATE, CHOQUE_INICIAL_END_DATE),\n",
        "    #(SECONDLOCKDOWN_START_DATE, SECONDLOCKDOWN_END_DATE),\n",
        "    #(\"2024-05-01\", \"2024-05-01\"),\n",
        "                               ]\n",
        "\n",
        "PANDEMIA_EXCLUDE_RANGES = [\n",
        "    #(CHOQUE_INICIAL_START_DATE, CHOQUE_INICIAL_END_DATE),\n",
        "    #(SECONDLOCKDOWN_START_DATE, SECONDLOCKDOWN_END_DATE),\n",
        "    #(OMNICRON_START_DATE, OMNICRON_END_DATE),\n",
        "]\n",
        "\n",
        "TESTE_REMOVE_OUTLIER_START = \"2019-10-01\"\n",
        "TESTE_REMOVE_OUTLIER_END = \"2019-12-01\"  ### data final para o modelo, se for maior que a data do dataframe, o modelo vai dar erro\n",
        "PREPANDEMIA_EXCLUDE_RANGES = [\n",
        "    #(TESTE_REMOVE_OUTLIER_START, TESTE_REMOVE_OUTLIER_END),\n",
        "]\n",
        "\n",
        "TREND_KEEP_PERIOD_INDEX = False  ### se True, o modelo vai manter o index do periodo, se False, o modelo vai usar o index do dataframe original (sem os dummies)\n",
        "\n",
        "DUMMY_ARGS =        {\n",
        "        \n",
        "        \n",
        "        #'PrePandemia_Step': {\"start_date\": PRE_START_DATE, \"end_date\": PANDEMIA_START_DATE, 'exclude_ranges': PANDEMIA_EXCLUDE_RANGES,},\n",
        "        #'PrePandemia_Trend' : {\"start_date\": PRE_START_DATE, \"end_date\": PANDEMIA_START_DATE,'exclude_ranges': PREPANDEMIA_EXCLUDE_RANGES, 'add_time_trend': True, 'keep_period_index': False},\n",
        "        \n",
        "        'Pandemia_Step': {\"start_date\": PANDEMIA_START_DATE, \"end_date\": PANDEMIA_END_DATE, 'exclude_ranges': PANDEMIA_EXCLUDE_RANGES,},\n",
        "        'Pandemia_Trend' : {\"start_date\": PANDEMIA_START_DATE, \"end_date\": PANDEMIA_END_DATE,'exclude_ranges': PANDEMIA_EXCLUDE_RANGES, 'add_time_trend': True, 'keep_period_index': TREND_KEEP_PERIOD_INDEX},\n",
        "        \n",
        "        #'Pandemia2_Step': {\"start_date\": PANDEMIA2_START_DATE, \"end_date\": PANDEMIA2_END_DATE, 'exclude_ranges': PANDEMIA_EXCLUDE_RANGES,},\n",
        "        #'Pandemia2_Trend' : {\"start_date\": PANDEMIA2_START_DATE, \"end_date\": PANDEMIA2_END_DATE,'exclude_ranges': PANDEMIA_EXCLUDE_RANGES, 'add_time_trend': True, 'keep_period_index': TREND_KEEP_PERIOD_INDEX},\n",
        "\n",
        "        'PosPandemia_Step': {\"start_date\": POS_PANDEMIA_START_DATE, \"end_date\": END_DATE,'exclude_ranges': POS_PANDEMIA_EXCLUDE_RANGES, 'plot':False, 'step': True,},\n",
        "        'PosPandemia_Trend' : {\"start_date\": POS_PANDEMIA_START_DATE, \"end_date\": END_DATE,'exclude_ranges': POS_PANDEMIA_EXCLUDE_RANGES, 'plot': True, 'add_time_trend': True, 'keep_period_index': TREND_KEEP_PERIOD_INDEX, 'step': False},\n",
        "        \n",
        "        ### Pulse Outliers\n",
        "        #'teste_remove_outlier': {\"start_date\": TESTE_REMOVE_OUTLIER_START, \"end_date\": TESTE_REMOVE_OUTLIER_END,},\n",
        "        #'Lockdown_2020_Step': {\"start_date\": CHOQUE_INICIAL_START_DATE, \"end_date\": CHOQUE_INICIAL_END_DATE},\n",
        "        #'Lockdown_2021_Step': {\"start_date\": SECONDLOCKDOWN_START_DATE, \"end_date\": SECONDLOCKDOWN_END_DATE},\n",
        "        #'Omnicron_2022': {\"start_date\": OMNICRON_START_DATE, \"end_date\": OMNICRON_END_DATE},\n",
        "        #'Enchentes_2024': {\"start_date\": \"2024-05-01\", \"end_date\": \"2024-05-01\"},\n",
        "        }\n",
        "\n",
        "\n",
        "\n",
        "##############################\n",
        "\n",
        "\n",
        "PREPROCESSOR_ARGS = {\n",
        "    'DateRange': [2016, 2024],\n",
        "    'FrequencyDateGroup' : 'M',\n",
        "    'DummyArgs' : DUMMY_ARGS,\n",
        "    'melt_total_atd': True,\n",
        "    'ExtractIR': True,\n",
        "}\n",
        "\n",
        "\n",
        "\n",
        "###### PROCESSING ######\n",
        "\n",
        "\n",
        "DUMMY_NAMES = build_dummy_names(\n",
        "          DUMMY_ARGS,\n",
        "          INCLUDE_MONTH_DUMMIES,\n",
        "          INCLUDE_QUARTER_DUMMIES,\n",
        "          include_fourier_terms=INCLUDE_FOURIER_TERMS,\n",
        "          n_harmonics=N_HARMONICS,\n",
        "          )\n",
        "\n",
        "MODEL_FORMULA, BASE_MODEL_FORMULA = build_model_formula(DEPENDENT_VAR,\n",
        "                                                        INDEPENDENT_VAR,\n",
        "                                                        dummy_names = DUMMY_NAMES,\n",
        "\n",
        "                                                        )\n",
        "\n"
      ]
    },
    {
      "cell_type": "code",
      "execution_count": 3073,
      "metadata": {},
      "outputs": [
        {
          "data": {
            "text/plain": [
              "('IR ~ periodo + Pandemia_Step + Pandemia_Trend + PosPandemia_Step + PosPandemia_Trend + cos1 + sin1',\n",
              " 'IR ~ periodo')"
            ]
          },
          "execution_count": 3073,
          "metadata": {},
          "output_type": "execute_result"
        }
      ],
      "source": [
        "MODEL_FORMULA, BASE_MODEL_FORMULA\n"
      ]
    },
    {
      "cell_type": "markdown",
      "metadata": {},
      "source": [
        "# Processor ARGS\n"
      ]
    },
    {
      "cell_type": "code",
      "execution_count": null,
      "metadata": {},
      "outputs": [
        {
          "name": "stderr",
          "output_type": "stream",
          "text": [
            "c:\\Users\\Lucas\\AppData\\Local\\Programs\\Python\\Python312\\Lib\\site-packages\\statsmodels\\genmod\\families\\family.py:1367: ValueWarning:\n",
            "\n",
            "Negative binomial dispersion parameter alpha not set. Using default value alpha=1.0.\n",
            "\n",
            "c:\\Users\\Lucas\\AppData\\Local\\Programs\\Python\\Python312\\Lib\\site-packages\\statsmodels\\genmod\\cov_struct.py:796: FutureWarning:\n",
            "\n",
            "grid=True will become default in a future version\n",
            "\n",
            "c:\\Users\\Lucas\\AppData\\Local\\Programs\\Python\\Python312\\Lib\\site-packages\\statsmodels\\genmod\\families\\family.py:1367: ValueWarning:\n",
            "\n",
            "Negative binomial dispersion parameter alpha not set. Using default value alpha=1.0.\n",
            "\n"
          ]
        }
      ],
      "source": [
        "GLSAR_PROCESSOR_ARGS = {\n",
        "    \"formula\": MODEL_FORMULA,#\"valores ~ periodo\",  # Example formula\n",
        "    \"rho\": 'define per variable',\n",
        "    \"fit_args\":{\n",
        "            'max_iter' : 100,\n",
        "            \"cov_type\": \"HAC\",  # Use nonrobust covariance for testing\n",
        "            \"cov_kwds\": {'maxlags': 4},  # No additional covariance arguments\n",
        "    }\n",
        "\n",
        "}\n",
        "\n",
        "FIND_BEST_RHO_ARGS = {\n",
        "        \"start\": -1.00,\n",
        "        \"stop\": 1.01,\n",
        "        \"step\": 0.01,\n",
        "        \"criterio\": \"aic\",\n",
        "    }\n",
        "GEE_PROCESSOR_ARGS = {\n",
        "    'formula': MODEL_FORMULA,\n",
        "    \"family\": sm.families.NegativeBinomial(),#Poisson(),  # Use Poisson family for count data\n",
        "    \"cov_struct\": Autoregressive(),  # Use autoregressive covariance structure\n",
        "    #\"structure\": 'ar1',\n",
        "    \"groups\": 'define per variable',\n",
        "    \"offset\": 'define per variable',\n",
        "    #'max_iter' : 100,\n",
        "}\n",
        "\n",
        "GLM_PROCESSOR_ARGS = {\n",
        "    'formula': MODEL_FORMULA,\n",
        "    \"family\": sm.families.NegativeBinomial(),  # Use Poisson family for count data\n",
        "    'cov_type': 'HC1',\n",
        "    #\"groups\": 'define per variable',\n",
        "    \"offset\": 'define per variable',\n",
        "    \"fit_args\":{\n",
        "            'max_iter' : 100,\n",
        "            \"cov_type\": \"HAC\",  # Use nonrobust covariance for testing\n",
        "            \"cov_kwds\": {'maxlags': 4},  # No additional covariance arguments\n",
        "    }\n",
        "    #'max_iter' : 100,\n",
        "}\n",
        "    \n",
        "\n",
        "OLS_PROCESSOR_ARGS = {\n",
        "    'formula': MODEL_FORMULA,\n",
        "}\n",
        "\n",
        "\n",
        "SARIMAX_PROCESSOR_ARGS = {\n",
        "    \n",
        "}"
      ]
    },
    {
      "cell_type": "markdown",
      "metadata": {
        "id": "3lst0tSSyWi0"
      },
      "source": [
        "# Define Preprocessors\n"
      ]
    },
    {
      "cell_type": "code",
      "execution_count": 3075,
      "metadata": {
        "id": "FAqiSa3R-k3r"
      },
      "outputs": [],
      "source": [
        "def BuildDataDF(data):\n",
        "    string_dates = data[0][1:]  # Store original string dates\n",
        "\n",
        "    # Converter as strings de datas em objetos datetime\n",
        "    #date_list = [datetime.strptime(date, \"%d/%m/%Y\") for date in string_dates]\n",
        "    date_list = [\n",
        "    date if isinstance(date, datetime) else datetime.strptime(date, \"%d/%m/%Y\")\n",
        "    for date in string_dates\n",
        "    ]\n",
        "\n",
        "    # Extrair os nomes das variáveis\n",
        "    variavel = [row[0] for row in data[1:]]\n",
        "\n",
        "    # Extrair os dados (sem agrupamento)\n",
        "    dados = [row[1:] for row in data[1:]]\n",
        "    dados = np.array(dados, dtype=float)  # Converter para tipo object para evitar warning\n",
        "\n",
        "    # Criar o DataFrame with DatetimeIndex\n",
        "    df = pd.DataFrame(data=dados, index=variavel, columns=pd.DatetimeIndex(date_list))\n",
        "\n",
        "    return df\n",
        "\n",
        "class DateFilterTransformer(BaseEstimator, TransformerMixin):\n",
        "    def __init__(\n",
        "        self, periodos_inclusivos=None, periodos_exclusivos=None, date_col=DATE_NAME\n",
        "    ):\n",
        "        self.periodos_inclusivos = periodos_inclusivos\n",
        "        self.periodos_exclusivos = periodos_exclusivos\n",
        "        self.date_col = date_col\n",
        "\n",
        "    def get_date_range(self, Y1, Y2=None, M1=None, M2=None, D1=None, D2=None):\n",
        "        Y2 = Y2 or Y1\n",
        "        M1 = M1 or 1\n",
        "        M2 = M2 or 12\n",
        "        D1 = D1 or 1\n",
        "        D2 = D2 or 31\n",
        "        start_date = datetime(Y1, M1, D1)\n",
        "        end_date = datetime(Y2, M2, D2)\n",
        "        return pd.date_range(start=start_date, end=end_date, freq=\"D\")\n",
        "\n",
        "    def fit(self, X, y=None):\n",
        "        return self\n",
        "\n",
        "    def transform(self, X):\n",
        "        X = X.copy()\n",
        "\n",
        "        # Convert date column if it's not datetime yet\n",
        "        if not pd.api.types.is_datetime64_any_dtype(X[self.date_col]):\n",
        "            X[self.date_col] = pd.to_datetime(X[self.date_col], errors=\"coerce\")\n",
        "\n",
        "        if self.periodos_inclusivos:\n",
        "            valid_dates = self.get_date_range(*self.periodos_inclusivos)\n",
        "            return X[X[self.date_col].isin(valid_dates)].reset_index(drop=True)\n",
        "\n",
        "        elif self.periodos_exclusivos:\n",
        "            invalid_dates = self.get_date_range(*self.periodos_exclusivos)\n",
        "            return X[~X[self.date_col].isin(invalid_dates)].reset_index(drop=True)\n",
        "\n",
        "        return X\n",
        "\n",
        "class MeltTransformer(BaseEstimator, TransformerMixin):\n",
        "    def __init__(\n",
        "        self,\n",
        "        var_name=GROUP_COL_NAME,\n",
        "        value_name=RAW_ATD_VAR,\n",
        "        date_name=DATE_NAME,\n",
        "        y_name=INDEPENDENT_VAR,\n",
        "        perform_IR=False,\n",
        "        total_suffix=\"_total\",\n",
        "        total_column_name=RAW_TOTAL_ATD_VAR,\n",
        "    ):\n",
        "        self.var_name = var_name\n",
        "        self.value_name = value_name\n",
        "        self.date_name = date_name\n",
        "        self.y_name = y_name\n",
        "        self.perform_IR = perform_IR\n",
        "        self.total_suffix = total_suffix\n",
        "        self.total_column_name = total_column_name\n",
        "\n",
        "    def fit(self, X, y=None):\n",
        "        # Nothing to learn, so just return self\n",
        "        return self\n",
        "\n",
        "    def transform(self, X):\n",
        "        # Separate rows with the `_total` suffix\n",
        "        if self.perform_IR:\n",
        "            reserved_rows = X[X.index.str.endswith(self.total_suffix)]\n",
        "            remaining_rows = X[~X.index.str.endswith(self.total_suffix)]\n",
        "\n",
        "            # Transpose and reset index for the remaining rows\n",
        "            df_long = remaining_rows.T.reset_index()\n",
        "\n",
        "            # Rename index to date_name\n",
        "            df_long = df_long.rename(columns={\"index\": self.date_name})\n",
        "\n",
        "            # Melt the DataFrame\n",
        "            df_long = pd.melt(\n",
        "                df_long,\n",
        "                id_vars=[self.date_name],\n",
        "                var_name=self.var_name,\n",
        "                value_name=self.value_name,\n",
        "            )\n",
        "\n",
        "            # Sort by category and date\n",
        "            df_final = df_long.sort_values([self.var_name, self.date_name]).reset_index(\n",
        "                drop=True\n",
        "            )\n",
        "\n",
        "            # Add the `total_atd` column\n",
        "            reserved_rows = reserved_rows.T.reset_index().rename(columns={\"index\": self.date_name})\n",
        "            reserved_rows_long = pd.melt(\n",
        "                reserved_rows,\n",
        "                id_vars=[self.date_name],\n",
        "                var_name=self.var_name,\n",
        "                value_name=self.total_column_name,\n",
        "            )\n",
        "\n",
        "            # Remove the `_total` suffix from the var_name in reserved_rows_long\n",
        "            reserved_rows_long[self.var_name] = reserved_rows_long[self.var_name].str.replace(\n",
        "                self.total_suffix, \"\", regex=False\n",
        "            )\n",
        "\n",
        "            # Merge the `total_atd` column into the final DataFrame\n",
        "            df_final = df_final.merge(\n",
        "                reserved_rows_long,\n",
        "                on=[self.date_name, self.var_name],\n",
        "                how=\"left\",\n",
        "            )\n",
        "        else:\n",
        "                        # Transpose and reset index for the remaining rows\n",
        "            df_long = X.T.reset_index()\n",
        "\n",
        "            # Rename index to date_name\n",
        "            df_long = df_long.rename(columns={\"index\": self.date_name})\n",
        "\n",
        "            # Melt the DataFrame\n",
        "            df_long = pd.melt(\n",
        "                df_long,\n",
        "                id_vars=[self.date_name],\n",
        "                var_name=self.var_name,\n",
        "                value_name=self.value_name,\n",
        "            )\n",
        "\n",
        "            # Sort by category and date\n",
        "            df_final = df_long.sort_values([self.var_name, self.date_name]).reset_index(\n",
        "                drop=True\n",
        "            )\n",
        "\n",
        "\n",
        "        return df_final\n",
        "\n",
        "class PeriodIndexAdder(BaseEstimator, TransformerMixin):\n",
        "    def __init__(self, group_col=GROUP_COL_NAME, new_col=INDEPENDENT_VAR):\n",
        "        self.group_col = group_col\n",
        "        self.new_col = new_col\n",
        "        self.period_date_mapping = {}  # Dictionary to store period-date equivalences\n",
        "\n",
        "    def fit(self, X, y=None):\n",
        "        return self\n",
        "\n",
        "    def transform(self, X):\n",
        "        X = X.copy()\n",
        "        X[self.new_col] = X.groupby(self.group_col).cumcount() + 1\n",
        "\n",
        "        #Store the mapping of periods to dates\n",
        "        self.period_date_mapping = dict(zip(X[DATE_NAME], X[self.new_col]))\n",
        "        #for group, group_data in X.groupby(self.group_col):\n",
        "        #    self.period_date_mapping[group] = dict(zip(group_data[DATE_NAME], group_data[self.new_col]))\n",
        "\n",
        "        return X\n",
        "\n",
        "class DataFrameSorter(BaseEstimator, TransformerMixin):\n",
        "    \"\"\"\n",
        "    Sorts a DataFrame by a specified column.\n",
        "\n",
        "    Parameters:\n",
        "    -----------\n",
        "    sort_by : str\n",
        "        Name of the column to sort by.\n",
        "    ascending : bool, default=True\n",
        "        Whether to sort in ascending order.\n",
        "    \"\"\"\n",
        "\n",
        "    def __init__(self, sort_by, ascending=True):\n",
        "        self.sort_by = sort_by\n",
        "        self.ascending = ascending\n",
        "\n",
        "    def fit(self, X, y=None):\n",
        "        return self\n",
        "\n",
        "    def transform(self, X):\n",
        "        X = X.copy()\n",
        "        if self.sort_by not in X.columns:\n",
        "            raise ValueError(f\"Column '{self.sort_by}' not found in DataFrame.\")\n",
        "        return X.sort_values(by=self.sort_by, ascending=self.ascending).reset_index(drop=True)\n",
        "\n",
        "class MonthlyDummyAdder(BaseEstimator, TransformerMixin):\n",
        "    \"\"\"\n",
        "    Adds dummy variables for each month to control for seasonality, leaving December as the baseline.\n",
        "\n",
        "    Parameters:\n",
        "    -----------\n",
        "    date_column : str\n",
        "        Name of the column containing dates (must be datetime).\n",
        "    \"\"\"\n",
        "\n",
        "    def __init__(self, date_column=DATE_NAME):\n",
        "        self.date_column = date_column\n",
        "\n",
        "    def fit(self, X, y=None):\n",
        "        return self\n",
        "\n",
        "    def transform(self, X):\n",
        "        X = X.copy()\n",
        "        X[self.date_column] = pd.to_datetime(X[self.date_column])  # Ensure dates are in datetime format\n",
        "\n",
        "        # Extract month from the date column\n",
        "        X['month'] = X[self.date_column].dt.month\n",
        "\n",
        "        # Create dummy variables for each month, excluding December as the baseline\n",
        "        month_dummies = pd.get_dummies(X['month'], prefix=\"month\", drop_first=True).astype(int)\n",
        "\n",
        "\n",
        "\n",
        "        # Concatenate the dummy variables with the original DataFrame\n",
        "        X = pd.concat([X, month_dummies], axis=1)\n",
        "\n",
        "        # Drop the temporary 'month' column\n",
        "        X.drop(columns=['month'], inplace=True)\n",
        "\n",
        "        return X\n",
        "\n",
        "class QuarterlyDummyAdder(BaseEstimator, TransformerMixin):\n",
        "    \"\"\"\n",
        "    Adds dummy variables for each quarter to control for seasonality, leaving Q4 as the baseline.\n",
        "\n",
        "    Parameters:\n",
        "    -----------\n",
        "    date_column : str\n",
        "        Name of the column containing dates (must be datetime).\n",
        "    \"\"\"\n",
        "\n",
        "    def __init__(self, date_column=DATE_NAME):\n",
        "        self.date_column = date_column\n",
        "\n",
        "    def fit(self, X, y=None):\n",
        "        return self\n",
        "\n",
        "    def transform(self, X):\n",
        "        X = X.copy()\n",
        "        X[self.date_column] = pd.to_datetime(X[self.date_column])  # Ensure dates are in datetime format\n",
        "\n",
        "        # Extract quarter from the date column\n",
        "        X['quarter'] = X[self.date_column].dt.quarter\n",
        "\n",
        "        # Create dummy variables for each quarter, excluding Q4 as the baseline\n",
        "        quarter_dummies = pd.get_dummies(X['quarter'], prefix=\"quarter\", drop_first=True).astype(int)\n",
        "\n",
        "        # Concatenate the dummy variables with the original DataFrame\n",
        "        X = pd.concat([X, quarter_dummies], axis=1)\n",
        "\n",
        "        # Drop the temporary 'quarter' column\n",
        "        X.drop(columns=['quarter'], inplace=True)\n",
        "\n",
        "        return X\n",
        "\n",
        "class MultiDummyAdder(BaseEstimator, TransformerMixin):\n",
        "    \"\"\"\n",
        "    Adds multiple dummy variables based on date ranges or custom conditions.\n",
        "    Allows each dummy to be binary or a local time trend via its own config.\n",
        "\n",
        "    Parameters:\n",
        "    -----------\n",
        "    dummy_config : dict\n",
        "        Dictionary defining dummy variables. Example:\n",
        "        {\n",
        "            'Pandemia': {\n",
        "                'start_date': '2020-01-01',\n",
        "                'end_date': '2020-12-31',\n",
        "                'add_time_trend': True,\n",
        "                'exclude_ranges': [\n",
        "                    ('2020-04-01', '2020-05-01'),\n",
        "                    ('2020-07-01', '2020-08-01')\n",
        "                ]  # Optional\n",
        "            }\n",
        "        }\n",
        "    date_column : str\n",
        "        Name of the column containing dates (must be datetime).\n",
        "    \"\"\"\n",
        "\n",
        "    def __init__(self, dummy_config, date_column=DATE_NAME):\n",
        "        self.dummy_config = dummy_config\n",
        "        self.date_column = date_column\n",
        "\n",
        "    def fit(self, X, y=None):\n",
        "        return self\n",
        "\n",
        "    def transform(self, X):\n",
        "        X = X.copy()\n",
        "        X[self.date_column] = pd.to_datetime(X[self.date_column])\n",
        "        X = X.sort_values(self.date_column).reset_index(drop=True)\n",
        "\n",
        "        for dummy_name, config in self.dummy_config.items():\n",
        "            start_date = pd.to_datetime(config.get(\"start_date\"))\n",
        "            end_date = pd.to_datetime(config.get(\"end_date\"))\n",
        "            use_trend = config.get(\"add_time_trend\", False)\n",
        "            keep_index = config.get(\"keep_period_index\", False)\n",
        "            exclude_ranges = config.get(\"exclude_ranges\", [])  # List of ranges to exclude\n",
        "\n",
        "            if not start_date:\n",
        "                raise ValueError(f\"Missing 'start_date' for dummy '{dummy_name}'.\")\n",
        "\n",
        "            # Create the initial mask for the date range\n",
        "            if end_date is not None:\n",
        "                mask = (X[self.date_column] >= start_date) & (X[self.date_column] <= end_date)\n",
        "            else:\n",
        "                mask = X[self.date_column] >= start_date\n",
        "\n",
        "            # Exclude multiple ranges within the period\n",
        "            for excl_start, excl_end in exclude_ranges:\n",
        "                excl_start = pd.to_datetime(excl_start)\n",
        "                excl_end = pd.to_datetime(excl_end)\n",
        "                mask &= ~((X[self.date_column] >= excl_start) & (X[self.date_column] <= excl_end))\n",
        "\n",
        "            # Apply trend or binary dummy logic\n",
        "            if use_trend:\n",
        "                if keep_index:\n",
        "                    # Global period multiplied by the dummy\n",
        "                    X[dummy_name] = 0\n",
        "                    X.loc[mask, dummy_name] = X.loc[mask, INDEPENDENT_VAR]\n",
        "                else:\n",
        "                    start_periodo = X.loc[mask, INDEPENDENT_VAR].min()\n",
        "                    X[dummy_name] = 0\n",
        "                    X.loc[mask, dummy_name] = (X.loc[mask, INDEPENDENT_VAR] - start_periodo + 1).clip(lower=0)\n",
        "            else:\n",
        "                X[dummy_name] = mask.astype(int)\n",
        "\n",
        "        return X\n",
        "\n",
        "class FrequencyGroupingTransformer(BaseEstimator, TransformerMixin):\n",
        "    \"\"\"\n",
        "    ## only datetime supported groupings\n",
        "    Transformer for grouping data by standard datetime frequencies.\n",
        "\n",
        "    This transformer takes a DataFrame with datetime columns and groups\n",
        "    the data by a specified frequency (e.g., 'Q' for quarterly, 'M' for monthly).\n",
        "\n",
        "    ARGS:\n",
        "        frequency (str): The frequency to group by. Defaults to 'Q' (quarterly).\n",
        "                        Supported frequencies are those accepted by pd.Grouper (e.g., 'Q', 'M', 'Y').\n",
        "    \"\"\"\n",
        "\n",
        "    def __init__(self, frequency=\"Q\"):  # Default to quarterly grouping\n",
        "        self.frequency = frequency\n",
        "\n",
        "    def fit(self, X, y=None):\n",
        "        \"\"\"\n",
        "        This transformer does not require fitting.\n",
        "\n",
        "        ARGS:\n",
        "            X (pd.DataFrame): The input DataFrame.\n",
        "            y (Any, optional): Ignored. Defaults to None.\n",
        "\n",
        "        Returns:\n",
        "            self: Returns the transformer instance.\n",
        "        \"\"\"\n",
        "        return self\n",
        "\n",
        "    def transform(self, X):\n",
        "        \"\"\"\n",
        "        Groups the data by the specified frequency and sums the values.\n",
        "\n",
        "        ARGS:\n",
        "            X (pd.DataFrame): The input DataFrame with datetime columns.\n",
        "\n",
        "        Returns:\n",
        "            pd.DataFrame: The grouped DataFrame with summed values.\n",
        "                          Columns are datetime objects representing the end of each group.\n",
        "        \"\"\"\n",
        "        if self.frequency == None or self.frequency == 'M':\n",
        "            return X\n",
        "        if not isinstance(X, pd.DataFrame):\n",
        "            raise TypeError(\"Input must be a pandas DataFrame.\")\n",
        "\n",
        "\n",
        "\n",
        "        # Convert columns to datetime if they are not already\n",
        "        if not isinstance(X.columns[0], pd.Timestamp):\n",
        "            X.columns = pd.to_datetime(X.columns, errors=\"coerce\")\n",
        "\n",
        "        # Group by the specified frequency using pd.Grouper\n",
        "        grouped_df = X.T.groupby(pd.Grouper(freq=self.frequency)).sum().T\n",
        "\n",
        "        return grouped_df\n",
        "\n",
        "\n",
        "\n",
        "\n",
        "\n"
      ]
    },
    {
      "cell_type": "code",
      "execution_count": 3076,
      "metadata": {},
      "outputs": [],
      "source": [
        "class MovingAverageTransformer(BaseEstimator, TransformerMixin):\n",
        "    def __init__(self, group_col=GROUP_COL_NAME, date_col=DATE_NAME, value_col=DEPENDENT_VAR, window=3, prefix='ma', center=False):\n",
        "        \"\"\"\n",
        "        window: tamanho da janela\n",
        "        prefix: prefixo para o nome da nova coluna\n",
        "        center: se True, a janela será centralizada\n",
        "        \"\"\"\n",
        "        self.window = window\n",
        "        self.prefix = prefix\n",
        "        self.center = center\n",
        "        self.value_col = value_col\n",
        "        self.group_col = group_col\n",
        "        self.date_col = date_col\n",
        "\n",
        "    def fit(self, X, y=None):\n",
        "        return self\n",
        "\n",
        "    def transform(self, X):\n",
        "        X = X.copy()\n",
        "\n",
        "        def rolling_mean_by_group(group):\n",
        "            group = group.sort_values(by=self.date_col)  # Sort by date within group\n",
        "            new_col = f\"{self.prefix}_{self.window}_{self.value_col}\"\n",
        "            group[new_col] = group[self.value_col].rolling(window=self.window, center=self.center, min_periods=1).mean()\n",
        "            return group\n",
        "\n",
        "        # Apply the rolling mean and reset the index to preserve the original structure\n",
        "        X = X.groupby(self.group_col, group_keys=False).apply(rolling_mean_by_group)\n",
        "\n",
        "        return X"
      ]
    },
    {
      "cell_type": "code",
      "execution_count": 3077,
      "metadata": {},
      "outputs": [],
      "source": [
        "from statsmodels.tsa.deterministic import Fourier\n",
        "\n",
        "class FourierSeasonalityAdder(BaseEstimator, TransformerMixin):\n",
        "    def __init__(self, date_column=DATE_NAME, period=12, order=1):\n",
        "        \"\"\"\n",
        "        Parameters:\n",
        "        -----------\n",
        "        date_column : str\n",
        "            Name of the column containing dates (must be datetime).\n",
        "        period : int\n",
        "            The period of the seasonality (e.g., 12 for monthly data).\n",
        "        order : int\n",
        "            The number of Fourier harmonics to include.\n",
        "        \"\"\"\n",
        "        self.date_column = date_column\n",
        "        self.period = period\n",
        "        self.order = order\n",
        "        self.fourier = Fourier(period=self.period, order=self.order)\n",
        "\n",
        "    def fit(self, X, y=None):\n",
        "        return self\n",
        "\n",
        "    def transform(self, X):\n",
        "        X = X.copy()\n",
        "\n",
        "        # Ensure the date column is in datetime format\n",
        "        X[self.date_column] = pd.to_datetime(X[self.date_column])\n",
        "\n",
        "        # Ensure unique index\n",
        "        if not X.index.is_unique:\n",
        "            X = X.reset_index(drop=True)\n",
        "\n",
        "        # Generate Fourier terms\n",
        "        fourier_terms = self.fourier.in_sample(X[self.date_column])\n",
        "\n",
        "        # Rename Fourier columns to use sin1, cos1, etc.\n",
        "        renamed_columns = {col: f\"sin{int(i/2)+1}\" if i % 2 else f\"cos{int(i/2)+1}\" \n",
        "                           for i, col in enumerate(fourier_terms.columns)}\n",
        "        fourier_terms.rename(columns=renamed_columns, inplace=True)\n",
        "\n",
        "        # Concatenate Fourier terms with the original DataFrame\n",
        "        X = pd.concat([X.reset_index(drop=True), fourier_terms.reset_index(drop=True)], axis=1)\n",
        "\n",
        "        # Debugging: Check the range of Fourier terms\n",
        "        for column in fourier_terms.columns:\n",
        "            min_value = fourier_terms[column].min()\n",
        "            max_value = fourier_terms[column].max()\n",
        "            if min_value < -1 or max_value > 1:\n",
        "                print(f\"Warning: {column} is out of range [-1, 1]. Min: {min_value}, Max: {max_value}\")\n",
        "            else:\n",
        "                print(f\"{column} is within the correct range [-1, 1]. Min: {min_value}, Max: {max_value}\")\n",
        "\n",
        "        return X"
      ]
    },
    {
      "cell_type": "markdown",
      "metadata": {
        "id": "YiUiAyVdNIXb"
      },
      "source": [
        "# EXEC --- Instantiate Pipe and get RegressionDF"
      ]
    },
    {
      "cell_type": "code",
      "execution_count": 3078,
      "metadata": {
        "colab": {
          "base_uri": "https://localhost:8080/",
          "height": 1000
        },
        "id": "tpmKA11jNIXb",
        "outputId": "6b948497-1205-4055-c42b-0427affcff4e"
      },
      "outputs": [
        {
          "name": "stdout",
          "output_type": "stream",
          "text": [
            "cos1 is within the correct range [-1, 1]. Min: -1.0, Max: 1.0\n",
            "sin1 is within the correct range [-1, 1]. Min: -1.0, Max: 1.0\n"
          ]
        },
        {
          "data": {
            "application/vnd.microsoft.datawrangler.viewer.v0+json": {
              "columns": [
                {
                  "name": "index",
                  "rawType": "int64",
                  "type": "integer"
                },
                {
                  "name": "date",
                  "rawType": "datetime64[ns]",
                  "type": "datetime"
                },
                {
                  "name": "regiao",
                  "rawType": "object",
                  "type": "string"
                },
                {
                  "name": "mental_health_visits",
                  "rawType": "float64",
                  "type": "float"
                },
                {
                  "name": "total_atd",
                  "rawType": "float64",
                  "type": "float"
                },
                {
                  "name": "periodo",
                  "rawType": "int64",
                  "type": "integer"
                },
                {
                  "name": "Pandemia_Step",
                  "rawType": "int64",
                  "type": "integer"
                },
                {
                  "name": "Pandemia_Trend",
                  "rawType": "int64",
                  "type": "integer"
                },
                {
                  "name": "PosPandemia_Step",
                  "rawType": "int64",
                  "type": "integer"
                },
                {
                  "name": "PosPandemia_Trend",
                  "rawType": "int64",
                  "type": "integer"
                },
                {
                  "name": "cos1",
                  "rawType": "float64",
                  "type": "float"
                },
                {
                  "name": "sin1",
                  "rawType": "float64",
                  "type": "float"
                },
                {
                  "name": "IR",
                  "rawType": "float64",
                  "type": "float"
                },
                {
                  "name": "offset",
                  "rawType": "float64",
                  "type": "float"
                }
              ],
              "conversionMethod": "pd.DataFrame",
              "ref": "419c10ba-c618-4bd3-b41d-fe8bda9f1257",
              "rows": [
                [
                  "0",
                  "2024-12-01 00:00:00",
                  "sul",
                  "169359.0",
                  "5537357.0",
                  "108",
                  "0",
                  "0",
                  "1",
                  "33",
                  "-0.5000000000000182",
                  "0.8660254037844282",
                  "30.584807878560117",
                  "8.619272590092182"
                ],
                [
                  "1",
                  "2022-07-01 00:00:00",
                  "sul",
                  "147159.0",
                  "5670166.0",
                  "79",
                  "0",
                  "0",
                  "1",
                  "4",
                  "-1.0",
                  "4.41306134138659e-15",
                  "25.953208424585807",
                  "8.642973673189182"
                ],
                [
                  "2",
                  "2022-11-01 00:00:00",
                  "sul",
                  "160759.0",
                  "6053194.0",
                  "83",
                  "0",
                  "0",
                  "1",
                  "8",
                  "0.8660254037844304",
                  "0.5000000000000144",
                  "26.55771481964728",
                  "8.70834134560112"
                ],
                [
                  "3",
                  "2022-10-01 00:00:00",
                  "sul",
                  "165405.0",
                  "5938846.0",
                  "82",
                  "0",
                  "0",
                  "1",
                  "7",
                  "-0.8660254037844386",
                  "0.5",
                  "27.851370451431137",
                  "8.68927011738837"
                ],
                [
                  "4",
                  "2022-09-01 00:00:00",
                  "sul",
                  "168925.0",
                  "5776479.0",
                  "81",
                  "0",
                  "0",
                  "1",
                  "6",
                  "1.1757847233087767e-14",
                  "-1.0",
                  "29.243592853016516",
                  "8.661549606497093"
                ],
                [
                  "5",
                  "2018-04-01 00:00:00",
                  "sul",
                  "97726.0",
                  "3954977.0",
                  "28",
                  "0",
                  "0",
                  "0",
                  "0",
                  "-0.499999999999997",
                  "-0.8660254037844404",
                  "24.70962536571009",
                  "8.28273006476133"
                ],
                [
                  "6",
                  "2018-05-01 00:00:00",
                  "sul",
                  "94476.0",
                  "3950949.0",
                  "29",
                  "0",
                  "0",
                  "0",
                  "0",
                  "-0.8660254037844359",
                  "0.5000000000000047",
                  "23.91222969468854",
                  "8.281711082203556"
                ],
                [
                  "7",
                  "2018-06-01 00:00:00",
                  "sul",
                  "88737.0",
                  "3629643.0",
                  "30",
                  "0",
                  "0",
                  "0",
                  "0",
                  "0.5",
                  "0.8660254037844386",
                  "24.447858921662544",
                  "8.196889575315065"
                ],
                [
                  "8",
                  "2022-08-01 00:00:00",
                  "sul",
                  "177835.0",
                  "6446181.0",
                  "80",
                  "0",
                  "0",
                  "1",
                  "5",
                  "-9.772415167715292e-16",
                  "1.0",
                  "27.587652285903857",
                  "8.771243141410267"
                ],
                [
                  "9",
                  "2022-06-01 00:00:00",
                  "sul",
                  "140293.0",
                  "5884884.0",
                  "78",
                  "0",
                  "0",
                  "1",
                  "3",
                  "1.0",
                  "1.322804237270118e-14",
                  "23.839552317428858",
                  "8.680142308370119"
                ],
                [
                  "10",
                  "2022-02-01 00:00:00",
                  "sul",
                  "112740.0",
                  "4736730.0",
                  "74",
                  "1",
                  "23",
                  "0",
                  "0",
                  "-0.49999999999998684",
                  "-0.8660254037844463",
                  "23.801229962442445",
                  "8.463102303199236"
                ],
                [
                  "11",
                  "2018-07-01 00:00:00",
                  "sul",
                  "94076.0",
                  "3895748.0",
                  "31",
                  "0",
                  "0",
                  "0",
                  "0",
                  "-0.8660254037844396",
                  "0.4999999999999983",
                  "24.14837920727932",
                  "8.267640980945627"
                ],
                [
                  "12",
                  "2018-08-01 00:00:00",
                  "sul",
                  "102565.0",
                  "4238054.0",
                  "32",
                  "0",
                  "0",
                  "0",
                  "0",
                  "0.500000000000006",
                  "0.8660254037844353",
                  "24.200965820633716",
                  "8.351859480606436"
                ],
                [
                  "13",
                  "2018-09-01 00:00:00",
                  "sul",
                  "91000.0",
                  "3627309.0",
                  "33",
                  "0",
                  "0",
                  "0",
                  "0",
                  "0.8660254037844379",
                  "-0.5000000000000012",
                  "25.08746842356138",
                  "8.196246330029584"
                ],
                [
                  "14",
                  "2022-05-01 00:00:00",
                  "sul",
                  "146829.0",
                  "6291774.0",
                  "77",
                  "0",
                  "0",
                  "1",
                  "2",
                  "-1.0",
                  "-2.447436656384941e-15",
                  "23.336661488476857",
                  "8.74699834490625"
                ],
                [
                  "15",
                  "2022-04-01 00:00:00",
                  "sul",
                  "128826.0",
                  "5072770.0",
                  "76",
                  "0",
                  "0",
                  "1",
                  "1",
                  "-2.942866201773178e-15",
                  "-1.0",
                  "25.39559254608429",
                  "8.531642298474628"
                ],
                [
                  "16",
                  "2022-03-01 00:00:00",
                  "sul",
                  "153126.0",
                  "5665257.0",
                  "75",
                  "1",
                  "24",
                  "0",
                  "0",
                  "0.4999999999999775",
                  "0.8660254037844516",
                  "27.028959145189706",
                  "8.642107538717289"
                ],
                [
                  "17",
                  "2018-10-01 00:00:00",
                  "sul",
                  "109284.0",
                  "4475717.0",
                  "34",
                  "0",
                  "0",
                  "0",
                  "0",
                  "-0.5000000000000056",
                  "0.8660254037844355",
                  "24.41709339531521",
                  "8.406421841338235"
                ],
                [
                  "18",
                  "2018-03-01 00:00:00",
                  "sul",
                  "93063.0",
                  "3799601.0",
                  "27",
                  "0",
                  "0",
                  "0",
                  "0",
                  "-0.8660254037844394",
                  "0.4999999999999987",
                  "24.49283490555982",
                  "8.242651340201592"
                ],
                [
                  "19",
                  "2018-02-01 00:00:00",
                  "sul",
                  "82272.0",
                  "3127761.0",
                  "26",
                  "0",
                  "0",
                  "0",
                  "0",
                  "-0.8660254037844349",
                  "-0.5000000000000063",
                  "26.303800066565188",
                  "8.048072692096449"
                ],
                [
                  "20",
                  "2022-12-01 00:00:00",
                  "sul",
                  "139769.0",
                  "5379526.0",
                  "84",
                  "0",
                  "0",
                  "1",
                  "9",
                  "-1.0",
                  "-1.0287652093474354e-14",
                  "25.98165711997674",
                  "8.590355545185217"
                ],
                [
                  "21",
                  "2023-01-01 00:00:00",
                  "sul",
                  "165088.0",
                  "5569906.0",
                  "85",
                  "0",
                  "0",
                  "1",
                  "10",
                  "-1.5677954951632475e-14",
                  "1.0",
                  "29.63927937024431",
                  "8.625133456656844"
                ],
                [
                  "22",
                  "2023-08-01 00:00:00",
                  "sul",
                  "232746.0",
                  "7448532.0",
                  "92",
                  "0",
                  "0",
                  "1",
                  "17",
                  "-2.3518170388721888e-14",
                  "1.0",
                  "31.247230998000678",
                  "8.915772244977433"
                ],
                [
                  "23",
                  "2023-07-01 00:00:00",
                  "sul",
                  "190714.0",
                  "6265292.0",
                  "91",
                  "0",
                  "0",
                  "1",
                  "16",
                  "-0.8660254037844392",
                  "0.49999999999999917",
                  "30.439762424480776",
                  "8.742780474384507"
                ],
                [
                  "24",
                  "2017-06-01 00:00:00",
                  "sul",
                  "64161.0",
                  "2617493.0",
                  "18",
                  "0",
                  "0",
                  "0",
                  "0",
                  "1.0",
                  "-6.189806365883577e-19",
                  "24.512386470565538",
                  "7.86997226843357"
                ],
                [
                  "25",
                  "2017-07-01 00:00:00",
                  "sul",
                  "66071.0",
                  "2747312.0",
                  "19",
                  "0",
                  "0",
                  "0",
                  "0",
                  "-1.0",
                  "-3.674559378078648e-15",
                  "24.04932530415184",
                  "7.918378258094948"
                ],
                [
                  "26",
                  "2023-06-01 00:00:00",
                  "sul",
                  "182741.0",
                  "6324614.0",
                  "90",
                  "0",
                  "0",
                  "1",
                  "15",
                  "0.5000000000000131",
                  "0.866025403784431",
                  "28.89362101782022",
                  "8.752204284065472"
                ],
                [
                  "27",
                  "2017-08-01 00:00:00",
                  "sul",
                  "78334.0",
                  "3130846.0",
                  "20",
                  "0",
                  "0",
                  "0",
                  "0",
                  "0.866025403784437",
                  "0.5000000000000028",
                  "25.02007444633176",
                  "8.049058534553039"
                ],
                [
                  "28",
                  "2017-09-01 00:00:00",
                  "sul",
                  "85556.0",
                  "3499119.0",
                  "21",
                  "0",
                  "0",
                  "0",
                  "0",
                  "0.8660254037844373",
                  "-0.5000000000000023",
                  "24.450726025608162",
                  "8.160266501506433"
                ],
                [
                  "29",
                  "2023-05-01 00:00:00",
                  "sul",
                  "201638.0",
                  "7376729.0",
                  "89",
                  "0",
                  "0",
                  "1",
                  "14",
                  "-0.8660254037844318",
                  "-0.5000000000000119",
                  "27.334337482100807",
                  "8.906085594409065"
                ],
                [
                  "30",
                  "2023-04-01 00:00:00",
                  "sul",
                  "168862.0",
                  "6141997.0",
                  "88",
                  "0",
                  "0",
                  "1",
                  "13",
                  "-0.4999999999999979",
                  "-0.8660254037844398",
                  "27.49301245181331",
                  "8.7229052125604"
                ],
                [
                  "31",
                  "2017-10-01 00:00:00",
                  "sul",
                  "96570.0",
                  "3766109.0",
                  "22",
                  "0",
                  "0",
                  "0",
                  "0",
                  "-0.8660254037844392",
                  "0.49999999999999917",
                  "25.641849452578242",
                  "8.233797651974035"
                ],
                [
                  "32",
                  "2023-03-01 00:00:00",
                  "sul",
                  "215241.0",
                  "7277040.0",
                  "87",
                  "0",
                  "0",
                  "1",
                  "12",
                  "-0.5000000000000225",
                  "0.8660254037844257",
                  "29.578097688070972",
                  "8.892479465102626"
                ],
                [
                  "33",
                  "2017-11-01 00:00:00",
                  "sul",
                  "93940.0",
                  "3728902.0",
                  "23",
                  "0",
                  "0",
                  "0",
                  "0",
                  "1.0",
                  "4.892397390223529e-16",
                  "25.192402482017496",
                  "8.223869099329326"
                ],
                [
                  "34",
                  "2023-02-01 00:00:00",
                  "sul",
                  "158309.0",
                  "5147652.0",
                  "86",
                  "0",
                  "0",
                  "1",
                  "11",
                  "-0.5000000000000165",
                  "-0.866025403784429",
                  "30.753632918464575",
                  "8.546295967363498"
                ],
                [
                  "35",
                  "2017-12-01 00:00:00",
                  "sul",
                  "75661.0",
                  "2883017.0",
                  "24",
                  "0",
                  "0",
                  "0",
                  "0",
                  "-1.0",
                  "-4.164418097737589e-15",
                  "26.243688469405487",
                  "7.966592594256467"
                ],
                [
                  "36",
                  "2018-01-01 00:00:00",
                  "sul",
                  "84754.0",
                  "3323595.0",
                  "25",
                  "0",
                  "0",
                  "0",
                  "0",
                  "0.5000000000000004",
                  "0.8660254037844384",
                  "25.500700295914513",
                  "8.108802307396868"
                ],
                [
                  "37",
                  "2018-11-01 00:00:00",
                  "sul",
                  "92193.0",
                  "3724671.0",
                  "35",
                  "0",
                  "0",
                  "0",
                  "0",
                  "1.0",
                  "8.819313895770708e-15",
                  "24.751984806174825",
                  "8.222733804765378"
                ],
                [
                  "38",
                  "2018-12-01 00:00:00",
                  "sul",
                  "69332.0",
                  "2857177.0",
                  "36",
                  "0",
                  "0",
                  "0",
                  "0",
                  "-0.5000000000000026",
                  "-0.8660254037844372",
                  "24.26591002237523",
                  "7.957589353409414"
                ],
                [
                  "39",
                  "2023-09-01 00:00:00",
                  "sul",
                  "198259.0",
                  "6122598.0",
                  "93",
                  "0",
                  "0",
                  "1",
                  "18",
                  "5.877066674634119e-15",
                  "-1.0",
                  "32.381515167254165",
                  "8.7197417952315"
                ],
                [
                  "40",
                  "2020-02-01 00:00:00",
                  "sul",
                  "92376.0",
                  "3255998.0",
                  "50",
                  "0",
                  "0",
                  "0",
                  "0",
                  "1.567919291290565e-14",
                  "-1.0",
                  "28.37102479792678",
                  "8.088254112871628"
                ],
                [
                  "41",
                  "2021-03-01 00:00:00",
                  "sul",
                  "118299.0",
                  "4561456.0",
                  "63",
                  "1",
                  "12",
                  "0",
                  "0",
                  "-0.5000000000000081",
                  "0.866025403784434",
                  "25.934482323188032",
                  "8.425397149789209"
                ],
                [
                  "42",
                  "2019-11-01 00:00:00",
                  "sul",
                  "103886.0",
                  "3826879.0",
                  "47",
                  "0",
                  "0",
                  "0",
                  "0",
                  "1.0",
                  "2.9385333373170594e-15",
                  "27.146403113346413",
                  "8.249804867470935"
                ],
                [
                  "43",
                  "2021-02-01 00:00:00",
                  "sul",
                  "102694.0",
                  "3836443.0",
                  "62",
                  "1",
                  "11",
                  "0",
                  "0",
                  "-0.49999999999998174",
                  "-0.8660254037844491",
                  "26.768024443475376",
                  "8.252300914215548"
                ],
                [
                  "44",
                  "2019-12-01 00:00:00",
                  "sul",
                  "82891.0",
                  "2987363.0",
                  "48",
                  "0",
                  "0",
                  "0",
                  "0",
                  "-1.0",
                  "4.917156615687063e-16",
                  "27.74721384712872",
                  "8.002146337447682"
                ],
                [
                  "45",
                  "2021-01-01 00:00:00",
                  "sul",
                  "99299.0",
                  "3712563.0",
                  "61",
                  "1",
                  "10",
                  "0",
                  "0",
                  "0.4999999999999911",
                  "0.8660254037844438",
                  "26.746751502937457",
                  "8.219477752663941"
                ],
                [
                  "46",
                  "2020-12-01 00:00:00",
                  "sul",
                  "95030.0",
                  "3561154.0",
                  "60",
                  "1",
                  "9",
                  "0",
                  "0",
                  "-0.4999999999999894",
                  "0.8660254037844448",
                  "26.685170031961547",
                  "8.17783992862182"
                ],
                [
                  "47",
                  "2020-01-01 00:00:00",
                  "sul",
                  "97985.0",
                  "3417744.0",
                  "49",
                  "0",
                  "0",
                  "0",
                  "0",
                  "1.0",
                  "1.0288890054747531e-14",
                  "28.669496603607524",
                  "8.136735963269635"
                ],
                [
                  "48",
                  "2020-11-01 00:00:00",
                  "sul",
                  "113099.0",
                  "4298672.0",
                  "59",
                  "1",
                  "8",
                  "0",
                  "0",
                  "0.8660254037844499",
                  "-0.49999999999998046",
                  "26.310218597743674",
                  "8.36606141677232"
                ],
                [
                  "49",
                  "2022-01-01 00:00:00",
                  "sul",
                  "101061.0",
                  "5251388.0",
                  "73",
                  "1",
                  "22",
                  "0",
                  "0",
                  "0.866025403784445",
                  "0.49999999999998895",
                  "19.244626373065557",
                  "8.566247701595564"
                ]
              ],
              "shape": {
                "columns": 13,
                "rows": 540
              }
            },
            "text/html": [
              "<div>\n",
              "<style scoped>\n",
              "    .dataframe tbody tr th:only-of-type {\n",
              "        vertical-align: middle;\n",
              "    }\n",
              "\n",
              "    .dataframe tbody tr th {\n",
              "        vertical-align: top;\n",
              "    }\n",
              "\n",
              "    .dataframe thead th {\n",
              "        text-align: right;\n",
              "    }\n",
              "</style>\n",
              "<table border=\"1\" class=\"dataframe\">\n",
              "  <thead>\n",
              "    <tr style=\"text-align: right;\">\n",
              "      <th></th>\n",
              "      <th>date</th>\n",
              "      <th>regiao</th>\n",
              "      <th>mental_health_visits</th>\n",
              "      <th>total_atd</th>\n",
              "      <th>periodo</th>\n",
              "      <th>Pandemia_Step</th>\n",
              "      <th>Pandemia_Trend</th>\n",
              "      <th>PosPandemia_Step</th>\n",
              "      <th>PosPandemia_Trend</th>\n",
              "      <th>cos1</th>\n",
              "      <th>sin1</th>\n",
              "      <th>IR</th>\n",
              "      <th>offset</th>\n",
              "    </tr>\n",
              "  </thead>\n",
              "  <tbody>\n",
              "    <tr>\n",
              "      <th>0</th>\n",
              "      <td>2024-12-01</td>\n",
              "      <td>sul</td>\n",
              "      <td>169359.0</td>\n",
              "      <td>5537357.0</td>\n",
              "      <td>108</td>\n",
              "      <td>0</td>\n",
              "      <td>0</td>\n",
              "      <td>1</td>\n",
              "      <td>33</td>\n",
              "      <td>-5.000000e-01</td>\n",
              "      <td>8.660254e-01</td>\n",
              "      <td>30.584808</td>\n",
              "      <td>8.619273</td>\n",
              "    </tr>\n",
              "    <tr>\n",
              "      <th>1</th>\n",
              "      <td>2022-07-01</td>\n",
              "      <td>sul</td>\n",
              "      <td>147159.0</td>\n",
              "      <td>5670166.0</td>\n",
              "      <td>79</td>\n",
              "      <td>0</td>\n",
              "      <td>0</td>\n",
              "      <td>1</td>\n",
              "      <td>4</td>\n",
              "      <td>-1.000000e+00</td>\n",
              "      <td>4.413061e-15</td>\n",
              "      <td>25.953208</td>\n",
              "      <td>8.642974</td>\n",
              "    </tr>\n",
              "    <tr>\n",
              "      <th>2</th>\n",
              "      <td>2022-11-01</td>\n",
              "      <td>sul</td>\n",
              "      <td>160759.0</td>\n",
              "      <td>6053194.0</td>\n",
              "      <td>83</td>\n",
              "      <td>0</td>\n",
              "      <td>0</td>\n",
              "      <td>1</td>\n",
              "      <td>8</td>\n",
              "      <td>8.660254e-01</td>\n",
              "      <td>5.000000e-01</td>\n",
              "      <td>26.557715</td>\n",
              "      <td>8.708341</td>\n",
              "    </tr>\n",
              "    <tr>\n",
              "      <th>3</th>\n",
              "      <td>2022-10-01</td>\n",
              "      <td>sul</td>\n",
              "      <td>165405.0</td>\n",
              "      <td>5938846.0</td>\n",
              "      <td>82</td>\n",
              "      <td>0</td>\n",
              "      <td>0</td>\n",
              "      <td>1</td>\n",
              "      <td>7</td>\n",
              "      <td>-8.660254e-01</td>\n",
              "      <td>5.000000e-01</td>\n",
              "      <td>27.851370</td>\n",
              "      <td>8.689270</td>\n",
              "    </tr>\n",
              "    <tr>\n",
              "      <th>4</th>\n",
              "      <td>2022-09-01</td>\n",
              "      <td>sul</td>\n",
              "      <td>168925.0</td>\n",
              "      <td>5776479.0</td>\n",
              "      <td>81</td>\n",
              "      <td>0</td>\n",
              "      <td>0</td>\n",
              "      <td>1</td>\n",
              "      <td>6</td>\n",
              "      <td>1.175785e-14</td>\n",
              "      <td>-1.000000e+00</td>\n",
              "      <td>29.243593</td>\n",
              "      <td>8.661550</td>\n",
              "    </tr>\n",
              "    <tr>\n",
              "      <th>...</th>\n",
              "      <td>...</td>\n",
              "      <td>...</td>\n",
              "      <td>...</td>\n",
              "      <td>...</td>\n",
              "      <td>...</td>\n",
              "      <td>...</td>\n",
              "      <td>...</td>\n",
              "      <td>...</td>\n",
              "      <td>...</td>\n",
              "      <td>...</td>\n",
              "      <td>...</td>\n",
              "      <td>...</td>\n",
              "      <td>...</td>\n",
              "    </tr>\n",
              "    <tr>\n",
              "      <th>535</th>\n",
              "      <td>2021-10-01</td>\n",
              "      <td>centro_oeste</td>\n",
              "      <td>44161.0</td>\n",
              "      <td>1577021.0</td>\n",
              "      <td>70</td>\n",
              "      <td>1</td>\n",
              "      <td>19</td>\n",
              "      <td>0</td>\n",
              "      <td>0</td>\n",
              "      <td>-5.000000e-01</td>\n",
              "      <td>8.660254e-01</td>\n",
              "      <td>28.002798</td>\n",
              "      <td>7.363293</td>\n",
              "    </tr>\n",
              "    <tr>\n",
              "      <th>536</th>\n",
              "      <td>2019-03-01</td>\n",
              "      <td>centro_oeste</td>\n",
              "      <td>25015.0</td>\n",
              "      <td>1177864.0</td>\n",
              "      <td>39</td>\n",
              "      <td>0</td>\n",
              "      <td>0</td>\n",
              "      <td>0</td>\n",
              "      <td>0</td>\n",
              "      <td>5.000000e-01</td>\n",
              "      <td>8.660254e-01</td>\n",
              "      <td>21.237596</td>\n",
              "      <td>7.071458</td>\n",
              "    </tr>\n",
              "    <tr>\n",
              "      <th>537</th>\n",
              "      <td>2023-04-01</td>\n",
              "      <td>centro_oeste</td>\n",
              "      <td>56631.0</td>\n",
              "      <td>2186160.0</td>\n",
              "      <td>88</td>\n",
              "      <td>0</td>\n",
              "      <td>0</td>\n",
              "      <td>1</td>\n",
              "      <td>13</td>\n",
              "      <td>1.000000e+00</td>\n",
              "      <td>1.420776e-14</td>\n",
              "      <td>25.904325</td>\n",
              "      <td>7.689902</td>\n",
              "    </tr>\n",
              "    <tr>\n",
              "      <th>538</th>\n",
              "      <td>2021-11-01</td>\n",
              "      <td>centro_oeste</td>\n",
              "      <td>45613.0</td>\n",
              "      <td>1641417.0</td>\n",
              "      <td>71</td>\n",
              "      <td>1</td>\n",
              "      <td>20</td>\n",
              "      <td>0</td>\n",
              "      <td>0</td>\n",
              "      <td>8.660254e-01</td>\n",
              "      <td>-5.000000e-01</td>\n",
              "      <td>27.788795</td>\n",
              "      <td>7.403315</td>\n",
              "    </tr>\n",
              "    <tr>\n",
              "      <th>539</th>\n",
              "      <td>2016-01-01</td>\n",
              "      <td>centro_oeste</td>\n",
              "      <td>5311.0</td>\n",
              "      <td>485404.0</td>\n",
              "      <td>1</td>\n",
              "      <td>0</td>\n",
              "      <td>0</td>\n",
              "      <td>0</td>\n",
              "      <td>0</td>\n",
              "      <td>0.000000e+00</td>\n",
              "      <td>1.000000e+00</td>\n",
              "      <td>10.941401</td>\n",
              "      <td>6.184982</td>\n",
              "    </tr>\n",
              "  </tbody>\n",
              "</table>\n",
              "<p>540 rows × 13 columns</p>\n",
              "</div>"
            ],
            "text/plain": [
              "          date        regiao  mental_health_visits  total_atd  periodo  \\\n",
              "0   2024-12-01           sul              169359.0  5537357.0      108   \n",
              "1   2022-07-01           sul              147159.0  5670166.0       79   \n",
              "2   2022-11-01           sul              160759.0  6053194.0       83   \n",
              "3   2022-10-01           sul              165405.0  5938846.0       82   \n",
              "4   2022-09-01           sul              168925.0  5776479.0       81   \n",
              "..         ...           ...                   ...        ...      ...   \n",
              "535 2021-10-01  centro_oeste               44161.0  1577021.0       70   \n",
              "536 2019-03-01  centro_oeste               25015.0  1177864.0       39   \n",
              "537 2023-04-01  centro_oeste               56631.0  2186160.0       88   \n",
              "538 2021-11-01  centro_oeste               45613.0  1641417.0       71   \n",
              "539 2016-01-01  centro_oeste                5311.0   485404.0        1   \n",
              "\n",
              "     Pandemia_Step  Pandemia_Trend  PosPandemia_Step  PosPandemia_Trend  \\\n",
              "0                0               0                 1                 33   \n",
              "1                0               0                 1                  4   \n",
              "2                0               0                 1                  8   \n",
              "3                0               0                 1                  7   \n",
              "4                0               0                 1                  6   \n",
              "..             ...             ...               ...                ...   \n",
              "535              1              19                 0                  0   \n",
              "536              0               0                 0                  0   \n",
              "537              0               0                 1                 13   \n",
              "538              1              20                 0                  0   \n",
              "539              0               0                 0                  0   \n",
              "\n",
              "             cos1          sin1         IR    offset  \n",
              "0   -5.000000e-01  8.660254e-01  30.584808  8.619273  \n",
              "1   -1.000000e+00  4.413061e-15  25.953208  8.642974  \n",
              "2    8.660254e-01  5.000000e-01  26.557715  8.708341  \n",
              "3   -8.660254e-01  5.000000e-01  27.851370  8.689270  \n",
              "4    1.175785e-14 -1.000000e+00  29.243593  8.661550  \n",
              "..            ...           ...        ...       ...  \n",
              "535 -5.000000e-01  8.660254e-01  28.002798  7.363293  \n",
              "536  5.000000e-01  8.660254e-01  21.237596  7.071458  \n",
              "537  1.000000e+00  1.420776e-14  25.904325  7.689902  \n",
              "538  8.660254e-01 -5.000000e-01  27.788795  7.403315  \n",
              "539  0.000000e+00  1.000000e+00  10.941401  6.184982  \n",
              "\n",
              "[540 rows x 13 columns]"
            ]
          },
          "execution_count": 3078,
          "metadata": {},
          "output_type": "execute_result"
        }
      ],
      "source": [
        "\n",
        "pipe = Pipeline(\n",
        "    [\n",
        "        (\"grouping\", FrequencyGroupingTransformer(frequency=PREPROCESSOR_ARGS['FrequencyDateGroup'])),\n",
        "        (\"melt\", MeltTransformer(perform_IR=PREPROCESSOR_ARGS['melt_total_atd'])),\n",
        "        (\"date_filter\", DateFilterTransformer(periodos_inclusivos=PREPROCESSOR_ARGS['DateRange'])),\n",
        "        (\"period_index_adder\", PeriodIndexAdder()),\n",
        "        (\"dummy_adder\", MultiDummyAdder(dummy_config=PREPROCESSOR_ARGS['DummyArgs'])),\n",
        "        #(\"monthly_dummy_adder\", MonthlyDummyAdder()),\n",
        "        #(\"quarterly_dummy_adder\", QuarterlyDummyAdder()),\n",
        "        ('fourier_seasonality', FourierSeasonalityAdder(period = FOURIER_PERIOD,order=N_HARMONICS)),\n",
        "        #('moving_average', MovingAverageTransformer(window=MOVING_WINDOW, prefix='ma', center=True)),\n",
        "        (\"sorter\", DataFrameSorter(sort_by=GROUP_COL_NAME, ascending=False)),\n",
        "\n",
        "\n",
        "    ]\n",
        ")\n",
        "\n",
        "\n",
        "RawDataDF = BuildDataDF(dados_brutos)\n",
        "RegressionDF = pipe.fit_transform(RawDataDF)\n",
        "\n",
        "if PREPROCESSOR_ARGS['ExtractIR']:\n",
        "    RegressionDF[IR_VAR] =  RegressionDF[RAW_ATD_VAR]/RegressionDF[RAW_TOTAL_ATD_VAR] * IR_SCALE\n",
        "\n",
        "if RegressionDF[RAW_TOTAL_ATD_VAR] is not None:\n",
        "    RegressionDF[\"offset\"] = np.log(RegressionDF[\"total_atd\"] / IR_SCALE)\n",
        "\n",
        "\n",
        "\n",
        "\n",
        "\n",
        "RegressionDF\n"
      ]
    },
    {
      "cell_type": "code",
      "execution_count": 3079,
      "metadata": {},
      "outputs": [
        {
          "data": {
            "text/plain": [
              "{'formula': 'IR ~ periodo + Pandemia_Step + Pandemia_Trend + PosPandemia_Step + PosPandemia_Trend + cos1 + sin1',\n",
              " 'family': <statsmodels.genmod.families.family.NegativeBinomial at 0x29d332565d0>,\n",
              " 'cov_struct': <statsmodels.genmod.cov_struct.Autoregressive at 0x29d3485a870>,\n",
              " 'groups': 'define per variable',\n",
              " 'offset': 'define per variable'}"
            ]
          },
          "execution_count": 3079,
          "metadata": {},
          "output_type": "execute_result"
        }
      ],
      "source": [
        "GEE_PROCESSOR_ARGS"
      ]
    },
    {
      "cell_type": "markdown",
      "metadata": {},
      "source": [
        "# Exploração pressupostos"
      ]
    },
    {
      "cell_type": "code",
      "execution_count": 3080,
      "metadata": {},
      "outputs": [
        {
          "name": "stdout",
          "output_type": "stream",
          "text": [
            "=== Mean-Variance Check by Region ===\n",
            "\n",
            "Region: sul\n",
            "Mean: 26.92\n",
            "Variance: 6.97\n",
            "Variance/Mean Ratio: 0.26\n",
            "\n",
            "Region: sudeste\n",
            "Mean: 23.88\n",
            "Variance: 45.71\n",
            "Variance/Mean Ratio: 1.91\n",
            "\n",
            "Region: norte\n",
            "Mean: 13.25\n",
            "Variance: 30.92\n",
            "Variance/Mean Ratio: 2.33\n",
            "\n",
            "Region: nordeste\n",
            "Mean: 17.85\n",
            "Variance: 78.98\n",
            "Variance/Mean Ratio: 4.42\n",
            "\n",
            "Region: centro_oeste\n",
            "Mean: 22.97\n",
            "Variance: 37.62\n",
            "Variance/Mean Ratio: 1.64\n"
          ]
        }
      ],
      "source": [
        "print(\"=== Mean-Variance Check by Region ===\")\n",
        "for region in RegressionDF[GROUP_COL_NAME].unique():\n",
        "    region_df = RegressionDF[RegressionDF[GROUP_COL_NAME] == region]\n",
        "    print(f\"\\nRegion: {region}\")\n",
        "    print(f\"Mean: {region_df[DEPENDENT_VAR].mean():.2f}\")\n",
        "    print(f\"Variance: {region_df[DEPENDENT_VAR].var():.2f}\")\n",
        "    print(f\"Variance/Mean Ratio: {region_df[DEPENDENT_VAR].var()/region_df[DEPENDENT_VAR].mean():.2f}\")"
      ]
    },
    {
      "cell_type": "code",
      "execution_count": 3081,
      "metadata": {},
      "outputs": [
        {
          "name": "stdout",
          "output_type": "stream",
          "text": [
            "\n",
            "=== Mean-Variance by Region: Pre-Intervention vs Intervention ===\n",
            "\n",
            "Region: sul\n",
            "  PRE-INTERVENTION:\n",
            "  N observations: 51\n",
            "  Mean: 25.25\n",
            "  Variance: 1.60\n",
            "  Dispersion ratio: 0.06\n",
            "  INTERVENTION:\n",
            "  N observations: 57\n",
            "  Mean: 28.41\n",
            "  Variance: 7.08\n",
            "  Dispersion ratio: 0.25\n",
            "\n",
            "Region: sudeste\n",
            "  PRE-INTERVENTION:\n",
            "  N observations: 51\n",
            "  Mean: 17.79\n",
            "  Variance: 18.65\n",
            "  Dispersion ratio: 1.05\n",
            "  INTERVENTION:\n",
            "  N observations: 57\n",
            "  Mean: 29.33\n",
            "  Variance: 6.63\n",
            "  Dispersion ratio: 0.23\n",
            "\n",
            "Region: norte\n",
            "  PRE-INTERVENTION:\n",
            "  N observations: 51\n",
            "  Mean: 8.65\n",
            "  Variance: 4.98\n",
            "  Dispersion ratio: 0.58\n",
            "  INTERVENTION:\n",
            "  N observations: 57\n",
            "  Mean: 17.36\n",
            "  Variance: 18.15\n",
            "  Dispersion ratio: 1.05\n",
            "\n",
            "Region: nordeste\n",
            "  PRE-INTERVENTION:\n",
            "  N observations: 51\n",
            "  Mean: 9.67\n",
            "  Variance: 8.24\n",
            "  Dispersion ratio: 0.85\n",
            "  INTERVENTION:\n",
            "  N observations: 57\n",
            "  Mean: 25.17\n",
            "  Variance: 27.99\n",
            "  Dispersion ratio: 1.11\n",
            "\n",
            "Region: centro_oeste\n",
            "  PRE-INTERVENTION:\n",
            "  N observations: 51\n",
            "  Mean: 18.05\n",
            "  Variance: 24.98\n",
            "  Dispersion ratio: 1.38\n",
            "  INTERVENTION:\n",
            "  N observations: 57\n",
            "  Mean: 27.37\n",
            "  Variance: 7.85\n",
            "  Dispersion ratio: 0.29\n"
          ]
        }
      ],
      "source": [
        "print(\"\\n=== Mean-Variance by Region: Pre-Intervention vs Intervention ===\")\n",
        "\n",
        "for region in RegressionDF[GROUP_COL_NAME].unique():\n",
        "    # Pre-intervention subset (both pandemic indicators = 0)\n",
        "    pre_subset = RegressionDF[(RegressionDF[GROUP_COL_NAME] == region) & \n",
        "                            (RegressionDF['Pandemia_Step'] == 0) &\n",
        "                            (RegressionDF['PosPandemia_Step'] == 0)]\n",
        "    \n",
        "    # Intervention subset (all other cases)\n",
        "    int_subset = RegressionDF[(RegressionDF[GROUP_COL_NAME] == region) & \n",
        "                            ((RegressionDF['Pandemia_Step'] != 0) |\n",
        "                             (RegressionDF['PosPandemia_Step'] != 0))]\n",
        "    \n",
        "    print(f\"\\nRegion: {region}\")\n",
        "    \n",
        "    # Pre-intervention stats\n",
        "    if len(pre_subset) > 0:\n",
        "        print(\"  PRE-INTERVENTION:\")\n",
        "        print(f\"  N observations: {len(pre_subset)}\")\n",
        "        print(f\"  Mean: {pre_subset[DEPENDENT_VAR].mean():.2f}\")\n",
        "        print(f\"  Variance: {pre_subset[DEPENDENT_VAR].var():.2f}\")\n",
        "        print(f\"  Dispersion ratio: {pre_subset[DEPENDENT_VAR].var()/pre_subset[DEPENDENT_VAR].mean():.2f}\")\n",
        "    else:\n",
        "        print(\"  No pre-intervention data for this region\")\n",
        "    \n",
        "    # Intervention stats\n",
        "    if len(int_subset) > 0:\n",
        "        print(\"  INTERVENTION:\")\n",
        "        print(f\"  N observations: {len(int_subset)}\")\n",
        "        print(f\"  Mean: {int_subset[DEPENDENT_VAR].mean():.2f}\")\n",
        "        print(f\"  Variance: {int_subset[DEPENDENT_VAR].var():.2f}\")\n",
        "        print(f\"  Dispersion ratio: {int_subset[DEPENDENT_VAR].var()/int_subset[DEPENDENT_VAR].mean():.2f}\")\n",
        "    else:\n",
        "        print(\"  No intervention data for this region\")"
      ]
    },
    {
      "cell_type": "code",
      "execution_count": 3082,
      "metadata": {},
      "outputs": [
        {
          "data": {
            "text/plain": [
              "Text(0.5, 1.0, 'Mental Health Visits by Region (Log Scale)')"
            ]
          },
          "execution_count": 3082,
          "metadata": {},
          "output_type": "execute_result"
        },
        {
          "data": {
            "image/png": "[encoded data removed]",
            "text/plain": [
              "<Figure size 640x480 with 1 Axes>"
            ]
          },
          "metadata": {},
          "output_type": "display_data"
        }
      ],
      "source": [
        "plt.boxplot([RegressionDF[RegressionDF['regiao']==r][DEPENDENT_VAR] \n",
        "            for r in RegressionDF['regiao'].unique()])\n",
        "plt.yscale('log')  # Log-scale due to huge range\n",
        "plt.xticks(ticks=range(1,6), labels=RegressionDF['regiao'].unique())\n",
        "plt.title(\"Mental Health Visits by Region (Log Scale)\")"
      ]
    },
    {
      "cell_type": "code",
      "execution_count": 3083,
      "metadata": {},
      "outputs": [
        {
          "name": "stdout",
          "output_type": "stream",
          "text": [
            "\n",
            "=== By Region and Time Period ===\n",
            "\n",
            "Region sul | Period 1:\n",
            "Mean: 25.57\n",
            "Variance: nan\n",
            "\n",
            "Region sul | Period 2:\n",
            "Mean: 25.70\n",
            "Variance: nan\n",
            "\n",
            "Region sul | Period 3:\n",
            "Mean: 23.40\n",
            "Variance: nan\n",
            "\n",
            "Region sul | Period 4:\n",
            "Mean: 24.77\n",
            "Variance: nan\n",
            "\n",
            "Region sul | Period 5:\n",
            "Mean: 23.14\n",
            "Variance: nan\n",
            "\n",
            "Region sul | Period 6:\n",
            "Mean: 23.80\n",
            "Variance: nan\n",
            "\n",
            "Region sul | Period 7:\n",
            "Mean: 24.81\n",
            "Variance: nan\n",
            "\n",
            "Region sul | Period 8:\n",
            "Mean: 24.20\n",
            "Variance: nan\n",
            "\n",
            "Region sul | Period 9:\n",
            "Mean: 24.00\n",
            "Variance: nan\n",
            "\n",
            "Region sul | Period 10:\n",
            "Mean: 24.23\n",
            "Variance: nan\n",
            "\n",
            "Region sul | Period 11:\n",
            "Mean: 25.53\n",
            "Variance: nan\n",
            "\n",
            "Region sul | Period 12:\n",
            "Mean: 26.28\n",
            "Variance: nan\n",
            "\n",
            "Region sul | Period 13:\n",
            "Mean: 25.39\n",
            "Variance: nan\n",
            "\n",
            "Region sul | Period 14:\n",
            "Mean: 25.15\n",
            "Variance: nan\n",
            "\n",
            "Region sul | Period 15:\n",
            "Mean: 24.39\n",
            "Variance: nan\n",
            "\n",
            "Region sul | Period 16:\n",
            "Mean: 24.74\n",
            "Variance: nan\n",
            "\n",
            "Region sul | Period 17:\n",
            "Mean: 24.08\n",
            "Variance: nan\n",
            "\n",
            "Region sul | Period 18:\n",
            "Mean: 24.51\n",
            "Variance: nan\n",
            "\n",
            "Region sul | Period 19:\n",
            "Mean: 24.05\n",
            "Variance: nan\n",
            "\n",
            "Region sul | Period 20:\n",
            "Mean: 25.02\n",
            "Variance: nan\n",
            "\n",
            "Region sul | Period 21:\n",
            "Mean: 24.45\n",
            "Variance: nan\n",
            "\n",
            "Region sul | Period 22:\n",
            "Mean: 25.64\n",
            "Variance: nan\n",
            "\n",
            "Region sul | Period 23:\n",
            "Mean: 25.19\n",
            "Variance: nan\n",
            "\n",
            "Region sul | Period 24:\n",
            "Mean: 26.24\n",
            "Variance: nan\n",
            "\n",
            "Region sul | Period 25:\n",
            "Mean: 25.50\n",
            "Variance: nan\n",
            "\n",
            "Region sul | Period 26:\n",
            "Mean: 26.30\n",
            "Variance: nan\n",
            "\n",
            "Region sul | Period 27:\n",
            "Mean: 24.49\n",
            "Variance: nan\n",
            "\n",
            "Region sul | Period 28:\n",
            "Mean: 24.71\n",
            "Variance: nan\n",
            "\n",
            "Region sul | Period 29:\n",
            "Mean: 23.91\n",
            "Variance: nan\n",
            "\n",
            "Region sul | Period 30:\n",
            "Mean: 24.45\n",
            "Variance: nan\n",
            "\n",
            "Region sul | Period 31:\n",
            "Mean: 24.15\n",
            "Variance: nan\n",
            "\n",
            "Region sul | Period 32:\n",
            "Mean: 24.20\n",
            "Variance: nan\n",
            "\n",
            "Region sul | Period 33:\n",
            "Mean: 25.09\n",
            "Variance: nan\n",
            "\n",
            "Region sul | Period 34:\n",
            "Mean: 24.42\n",
            "Variance: nan\n",
            "\n",
            "Region sul | Period 35:\n",
            "Mean: 24.75\n",
            "Variance: nan\n",
            "\n",
            "Region sul | Period 36:\n",
            "Mean: 24.27\n",
            "Variance: nan\n",
            "\n",
            "Region sul | Period 37:\n",
            "Mean: 23.66\n",
            "Variance: nan\n",
            "\n",
            "Region sul | Period 38:\n",
            "Mean: 24.29\n",
            "Variance: nan\n",
            "\n",
            "Region sul | Period 39:\n",
            "Mean: 25.45\n",
            "Variance: nan\n",
            "\n",
            "Region sul | Period 40:\n",
            "Mean: 26.51\n",
            "Variance: nan\n",
            "\n",
            "Region sul | Period 41:\n",
            "Mean: 26.09\n",
            "Variance: nan\n",
            "\n",
            "Region sul | Period 42:\n",
            "Mean: 25.87\n",
            "Variance: nan\n",
            "\n",
            "Region sul | Period 43:\n",
            "Mean: 26.09\n",
            "Variance: nan\n",
            "\n",
            "Region sul | Period 44:\n",
            "Mean: 27.24\n",
            "Variance: nan\n",
            "\n",
            "Region sul | Period 45:\n",
            "Mean: 26.93\n",
            "Variance: nan\n",
            "\n",
            "Region sul | Period 46:\n",
            "Mean: 25.99\n",
            "Variance: nan\n",
            "\n",
            "Region sul | Period 47:\n",
            "Mean: 27.15\n",
            "Variance: nan\n",
            "\n",
            "Region sul | Period 48:\n",
            "Mean: 27.75\n",
            "Variance: nan\n",
            "\n",
            "Region sul | Period 49:\n",
            "Mean: 28.67\n",
            "Variance: nan\n",
            "\n",
            "Region sul | Period 50:\n",
            "Mean: 28.37\n",
            "Variance: nan\n",
            "\n",
            "Region sul | Period 51:\n",
            "Mean: 27.32\n",
            "Variance: nan\n",
            "\n",
            "Region sul | Period 52:\n",
            "Mean: 33.41\n",
            "Variance: nan\n",
            "\n",
            "Region sul | Period 53:\n",
            "Mean: 32.90\n",
            "Variance: nan\n",
            "\n",
            "Region sul | Period 54:\n",
            "Mean: 32.14\n",
            "Variance: nan\n",
            "\n",
            "Region sul | Period 55:\n",
            "Mean: 29.40\n",
            "Variance: nan\n",
            "\n",
            "Region sul | Period 56:\n",
            "Mean: 28.94\n",
            "Variance: nan\n",
            "\n",
            "Region sul | Period 57:\n",
            "Mean: 31.06\n",
            "Variance: nan\n",
            "\n",
            "Region sul | Period 58:\n",
            "Mean: 28.71\n",
            "Variance: nan\n",
            "\n",
            "Region sul | Period 59:\n",
            "Mean: 26.31\n",
            "Variance: nan\n",
            "\n",
            "Region sul | Period 60:\n",
            "Mean: 26.69\n",
            "Variance: nan\n",
            "\n",
            "Region sul | Period 61:\n",
            "Mean: 26.75\n",
            "Variance: nan\n",
            "\n",
            "Region sul | Period 62:\n",
            "Mean: 26.77\n",
            "Variance: nan\n",
            "\n",
            "Region sul | Period 63:\n",
            "Mean: 25.93\n",
            "Variance: nan\n",
            "\n",
            "Region sul | Period 64:\n",
            "Mean: 28.17\n",
            "Variance: nan\n",
            "\n",
            "Region sul | Period 65:\n",
            "Mean: 24.89\n",
            "Variance: nan\n",
            "\n",
            "Region sul | Period 66:\n",
            "Mean: 25.48\n",
            "Variance: nan\n",
            "\n",
            "Region sul | Period 67:\n",
            "Mean: 27.35\n",
            "Variance: nan\n",
            "\n",
            "Region sul | Period 68:\n",
            "Mean: 28.52\n",
            "Variance: nan\n",
            "\n",
            "Region sul | Period 69:\n",
            "Mean: 29.01\n",
            "Variance: nan\n",
            "\n",
            "Region sul | Period 70:\n",
            "Mean: 26.99\n",
            "Variance: nan\n",
            "\n",
            "Region sul | Period 71:\n",
            "Mean: 27.17\n",
            "Variance: nan\n",
            "\n",
            "Region sul | Period 72:\n",
            "Mean: 27.21\n",
            "Variance: nan\n",
            "\n",
            "Region sul | Period 73:\n",
            "Mean: 19.24\n",
            "Variance: nan\n",
            "\n",
            "Region sul | Period 74:\n",
            "Mean: 23.80\n",
            "Variance: nan\n",
            "\n",
            "Region sul | Period 75:\n",
            "Mean: 27.03\n",
            "Variance: nan\n",
            "\n",
            "Region sul | Period 76:\n",
            "Mean: 25.40\n",
            "Variance: nan\n",
            "\n",
            "Region sul | Period 77:\n",
            "Mean: 23.34\n",
            "Variance: nan\n",
            "\n",
            "Region sul | Period 78:\n",
            "Mean: 23.84\n",
            "Variance: nan\n",
            "\n",
            "Region sul | Period 79:\n",
            "Mean: 25.95\n",
            "Variance: nan\n",
            "\n",
            "Region sul | Period 80:\n",
            "Mean: 27.59\n",
            "Variance: nan\n",
            "\n",
            "Region sul | Period 81:\n",
            "Mean: 29.24\n",
            "Variance: nan\n",
            "\n",
            "Region sul | Period 82:\n",
            "Mean: 27.85\n",
            "Variance: nan\n",
            "\n",
            "Region sul | Period 83:\n",
            "Mean: 26.56\n",
            "Variance: nan\n",
            "\n",
            "Region sul | Period 84:\n",
            "Mean: 25.98\n",
            "Variance: nan\n",
            "\n",
            "Region sul | Period 85:\n",
            "Mean: 29.64\n",
            "Variance: nan\n",
            "\n",
            "Region sul | Period 86:\n",
            "Mean: 30.75\n",
            "Variance: nan\n",
            "\n",
            "Region sul | Period 87:\n",
            "Mean: 29.58\n",
            "Variance: nan\n",
            "\n",
            "Region sul | Period 88:\n",
            "Mean: 27.49\n",
            "Variance: nan\n",
            "\n",
            "Region sul | Period 89:\n",
            "Mean: 27.33\n",
            "Variance: nan\n",
            "\n",
            "Region sul | Period 90:\n",
            "Mean: 28.89\n",
            "Variance: nan\n",
            "\n",
            "Region sul | Period 91:\n",
            "Mean: 30.44\n",
            "Variance: nan\n",
            "\n",
            "Region sul | Period 92:\n",
            "Mean: 31.25\n",
            "Variance: nan\n",
            "\n",
            "Region sul | Period 93:\n",
            "Mean: 32.38\n",
            "Variance: nan\n",
            "\n",
            "Region sul | Period 94:\n",
            "Mean: 31.24\n",
            "Variance: nan\n",
            "\n",
            "Region sul | Period 95:\n",
            "Mean: 31.03\n",
            "Variance: nan\n",
            "\n",
            "Region sul | Period 96:\n",
            "Mean: 31.03\n",
            "Variance: nan\n",
            "\n",
            "Region sul | Period 97:\n",
            "Mean: 31.55\n",
            "Variance: nan\n",
            "\n",
            "Region sul | Period 98:\n",
            "Mean: 30.87\n",
            "Variance: nan\n",
            "\n",
            "Region sul | Period 99:\n",
            "Mean: 28.13\n",
            "Variance: nan\n",
            "\n",
            "Region sul | Period 100:\n",
            "Mean: 27.66\n",
            "Variance: nan\n",
            "\n",
            "Region sul | Period 101:\n",
            "Mean: 28.34\n",
            "Variance: nan\n",
            "\n",
            "Region sul | Period 102:\n",
            "Mean: 30.40\n",
            "Variance: nan\n",
            "\n",
            "Region sul | Period 103:\n",
            "Mean: 30.24\n",
            "Variance: nan\n",
            "\n",
            "Region sul | Period 104:\n",
            "Mean: 30.61\n",
            "Variance: nan\n",
            "\n",
            "Region sul | Period 105:\n",
            "Mean: 30.25\n",
            "Variance: nan\n",
            "\n",
            "Region sul | Period 106:\n",
            "Mean: 29.80\n",
            "Variance: nan\n",
            "\n",
            "Region sul | Period 107:\n",
            "Mean: 30.33\n",
            "Variance: nan\n",
            "\n",
            "Region sul | Period 108:\n",
            "Mean: 30.58\n",
            "Variance: nan\n",
            "\n",
            "Region sudeste | Period 1:\n",
            "Mean: 16.21\n",
            "Variance: nan\n",
            "\n",
            "Region sudeste | Period 2:\n",
            "Mean: 11.50\n",
            "Variance: nan\n",
            "\n",
            "Region sudeste | Period 3:\n",
            "Mean: 10.75\n",
            "Variance: nan\n",
            "\n",
            "Region sudeste | Period 4:\n",
            "Mean: 10.97\n",
            "Variance: nan\n",
            "\n",
            "Region sudeste | Period 5:\n",
            "Mean: 11.30\n",
            "Variance: nan\n",
            "\n",
            "Region sudeste | Period 6:\n",
            "Mean: 11.51\n",
            "Variance: nan\n",
            "\n",
            "Region sudeste | Period 7:\n",
            "Mean: 11.24\n",
            "Variance: nan\n",
            "\n",
            "Region sudeste | Period 8:\n",
            "Mean: 11.00\n",
            "Variance: nan\n",
            "\n",
            "Region sudeste | Period 9:\n",
            "Mean: 12.15\n",
            "Variance: nan\n",
            "\n",
            "Region sudeste | Period 10:\n",
            "Mean: 12.60\n",
            "Variance: nan\n",
            "\n",
            "Region sudeste | Period 11:\n",
            "Mean: 13.00\n",
            "Variance: nan\n",
            "\n",
            "Region sudeste | Period 12:\n",
            "Mean: 14.36\n",
            "Variance: nan\n",
            "\n",
            "Region sudeste | Period 13:\n",
            "Mean: 14.24\n",
            "Variance: nan\n",
            "\n",
            "Region sudeste | Period 14:\n",
            "Mean: 14.76\n",
            "Variance: nan\n",
            "\n",
            "Region sudeste | Period 15:\n",
            "Mean: 14.76\n",
            "Variance: nan\n",
            "\n",
            "Region sudeste | Period 16:\n",
            "Mean: 15.14\n",
            "Variance: nan\n",
            "\n",
            "Region sudeste | Period 17:\n",
            "Mean: 14.41\n",
            "Variance: nan\n",
            "\n",
            "Region sudeste | Period 18:\n",
            "Mean: 15.45\n",
            "Variance: nan\n",
            "\n",
            "Region sudeste | Period 19:\n",
            "Mean: 15.36\n",
            "Variance: nan\n",
            "\n",
            "Region sudeste | Period 20:\n",
            "Mean: 15.59\n",
            "Variance: nan\n",
            "\n",
            "Region sudeste | Period 21:\n",
            "Mean: 17.07\n",
            "Variance: nan\n",
            "\n",
            "Region sudeste | Period 22:\n",
            "Mean: 18.06\n",
            "Variance: nan\n",
            "\n",
            "Region sudeste | Period 23:\n",
            "Mean: 17.84\n",
            "Variance: nan\n",
            "\n",
            "Region sudeste | Period 24:\n",
            "Mean: 18.05\n",
            "Variance: nan\n",
            "\n",
            "Region sudeste | Period 25:\n",
            "Mean: 17.67\n",
            "Variance: nan\n",
            "\n",
            "Region sudeste | Period 26:\n",
            "Mean: 18.19\n",
            "Variance: nan\n",
            "\n",
            "Region sudeste | Period 27:\n",
            "Mean: 17.95\n",
            "Variance: nan\n",
            "\n",
            "Region sudeste | Period 28:\n",
            "Mean: 18.73\n",
            "Variance: nan\n",
            "\n",
            "Region sudeste | Period 29:\n",
            "Mean: 18.08\n",
            "Variance: nan\n",
            "\n",
            "Region sudeste | Period 30:\n",
            "Mean: 19.56\n",
            "Variance: nan\n",
            "\n",
            "Region sudeste | Period 31:\n",
            "Mean: 18.89\n",
            "Variance: nan\n",
            "\n",
            "Region sudeste | Period 32:\n",
            "Mean: 19.79\n",
            "Variance: nan\n",
            "\n",
            "Region sudeste | Period 33:\n",
            "Mean: 19.76\n",
            "Variance: nan\n",
            "\n",
            "Region sudeste | Period 34:\n",
            "Mean: 20.34\n",
            "Variance: nan\n",
            "\n",
            "Region sudeste | Period 35:\n",
            "Mean: 20.63\n",
            "Variance: nan\n",
            "\n",
            "Region sudeste | Period 36:\n",
            "Mean: 20.22\n",
            "Variance: nan\n",
            "\n",
            "Region sudeste | Period 37:\n",
            "Mean: 19.64\n",
            "Variance: nan\n",
            "\n",
            "Region sudeste | Period 38:\n",
            "Mean: 20.27\n",
            "Variance: nan\n",
            "\n",
            "Region sudeste | Period 39:\n",
            "Mean: 20.42\n",
            "Variance: nan\n",
            "\n",
            "Region sudeste | Period 40:\n",
            "Mean: 19.63\n",
            "Variance: nan\n",
            "\n",
            "Region sudeste | Period 41:\n",
            "Mean: 19.97\n",
            "Variance: nan\n",
            "\n",
            "Region sudeste | Period 42:\n",
            "Mean: 20.78\n",
            "Variance: nan\n",
            "\n",
            "Region sudeste | Period 43:\n",
            "Mean: 22.08\n",
            "Variance: nan\n",
            "\n",
            "Region sudeste | Period 44:\n",
            "Mean: 24.10\n",
            "Variance: nan\n",
            "\n",
            "Region sudeste | Period 45:\n",
            "Mean: 24.51\n",
            "Variance: nan\n",
            "\n",
            "Region sudeste | Period 46:\n",
            "Mean: 24.61\n",
            "Variance: nan\n",
            "\n",
            "Region sudeste | Period 47:\n",
            "Mean: 24.59\n",
            "Variance: nan\n",
            "\n",
            "Region sudeste | Period 48:\n",
            "Mean: 24.82\n",
            "Variance: nan\n",
            "\n",
            "Region sudeste | Period 49:\n",
            "Mean: 24.29\n",
            "Variance: nan\n",
            "\n",
            "Region sudeste | Period 50:\n",
            "Mean: 25.16\n",
            "Variance: nan\n",
            "\n",
            "Region sudeste | Period 51:\n",
            "Mean: 25.16\n",
            "Variance: nan\n",
            "\n",
            "Region sudeste | Period 52:\n",
            "Mean: 31.59\n",
            "Variance: nan\n",
            "\n",
            "Region sudeste | Period 53:\n",
            "Mean: 30.05\n",
            "Variance: nan\n",
            "\n",
            "Region sudeste | Period 54:\n",
            "Mean: 28.71\n",
            "Variance: nan\n",
            "\n",
            "Region sudeste | Period 55:\n",
            "Mean: 26.89\n",
            "Variance: nan\n",
            "\n",
            "Region sudeste | Period 56:\n",
            "Mean: 27.74\n",
            "Variance: nan\n",
            "\n",
            "Region sudeste | Period 57:\n",
            "Mean: 28.79\n",
            "Variance: nan\n",
            "\n",
            "Region sudeste | Period 58:\n",
            "Mean: 28.11\n",
            "Variance: nan\n",
            "\n",
            "Region sudeste | Period 59:\n",
            "Mean: 27.54\n",
            "Variance: nan\n",
            "\n",
            "Region sudeste | Period 60:\n",
            "Mean: 27.09\n",
            "Variance: nan\n",
            "\n",
            "Region sudeste | Period 61:\n",
            "Mean: 25.66\n",
            "Variance: nan\n",
            "\n",
            "Region sudeste | Period 62:\n",
            "Mean: 27.28\n",
            "Variance: nan\n",
            "\n",
            "Region sudeste | Period 63:\n",
            "Mean: 26.21\n",
            "Variance: nan\n",
            "\n",
            "Region sudeste | Period 64:\n",
            "Mean: 28.22\n",
            "Variance: nan\n",
            "\n",
            "Region sudeste | Period 65:\n",
            "Mean: 26.45\n",
            "Variance: nan\n",
            "\n",
            "Region sudeste | Period 66:\n",
            "Mean: 26.57\n",
            "Variance: nan\n",
            "\n",
            "Region sudeste | Period 67:\n",
            "Mean: 28.13\n",
            "Variance: nan\n",
            "\n",
            "Region sudeste | Period 68:\n",
            "Mean: 29.41\n",
            "Variance: nan\n",
            "\n",
            "Region sudeste | Period 69:\n",
            "Mean: 30.04\n",
            "Variance: nan\n",
            "\n",
            "Region sudeste | Period 70:\n",
            "Mean: 29.98\n",
            "Variance: nan\n",
            "\n",
            "Region sudeste | Period 71:\n",
            "Mean: 29.08\n",
            "Variance: nan\n",
            "\n",
            "Region sudeste | Period 72:\n",
            "Mean: 27.13\n",
            "Variance: nan\n",
            "\n",
            "Region sudeste | Period 73:\n",
            "Mean: 20.50\n",
            "Variance: nan\n",
            "\n",
            "Region sudeste | Period 74:\n",
            "Mean: 27.46\n",
            "Variance: nan\n",
            "\n",
            "Region sudeste | Period 75:\n",
            "Mean: 28.69\n",
            "Variance: nan\n",
            "\n",
            "Region sudeste | Period 76:\n",
            "Mean: 28.66\n",
            "Variance: nan\n",
            "\n",
            "Region sudeste | Period 77:\n",
            "Mean: 27.10\n",
            "Variance: nan\n",
            "\n",
            "Region sudeste | Period 78:\n",
            "Mean: 25.45\n",
            "Variance: nan\n",
            "\n",
            "Region sudeste | Period 79:\n",
            "Mean: 25.49\n",
            "Variance: nan\n",
            "\n",
            "Region sudeste | Period 80:\n",
            "Mean: 26.95\n",
            "Variance: nan\n",
            "\n",
            "Region sudeste | Period 81:\n",
            "Mean: 29.75\n",
            "Variance: nan\n",
            "\n",
            "Region sudeste | Period 82:\n",
            "Mean: 29.17\n",
            "Variance: nan\n",
            "\n",
            "Region sudeste | Period 83:\n",
            "Mean: 28.44\n",
            "Variance: nan\n",
            "\n",
            "Region sudeste | Period 84:\n",
            "Mean: 28.68\n",
            "Variance: nan\n",
            "\n",
            "Region sudeste | Period 85:\n",
            "Mean: 29.81\n",
            "Variance: nan\n",
            "\n",
            "Region sudeste | Period 86:\n",
            "Mean: 30.71\n",
            "Variance: nan\n",
            "\n",
            "Region sudeste | Period 87:\n",
            "Mean: 29.41\n",
            "Variance: nan\n",
            "\n",
            "Region sudeste | Period 88:\n",
            "Mean: 29.09\n",
            "Variance: nan\n",
            "\n",
            "Region sudeste | Period 89:\n",
            "Mean: 29.72\n",
            "Variance: nan\n",
            "\n",
            "Region sudeste | Period 90:\n",
            "Mean: 30.52\n",
            "Variance: nan\n",
            "\n",
            "Region sudeste | Period 91:\n",
            "Mean: 31.20\n",
            "Variance: nan\n",
            "\n",
            "Region sudeste | Period 92:\n",
            "Mean: 32.41\n",
            "Variance: nan\n",
            "\n",
            "Region sudeste | Period 93:\n",
            "Mean: 33.15\n",
            "Variance: nan\n",
            "\n",
            "Region sudeste | Period 94:\n",
            "Mean: 32.61\n",
            "Variance: nan\n",
            "\n",
            "Region sudeste | Period 95:\n",
            "Mean: 32.37\n",
            "Variance: nan\n",
            "\n",
            "Region sudeste | Period 96:\n",
            "Mean: 32.43\n",
            "Variance: nan\n",
            "\n",
            "Region sudeste | Period 97:\n",
            "Mean: 32.22\n",
            "Variance: nan\n",
            "\n",
            "Region sudeste | Period 98:\n",
            "Mean: 30.76\n",
            "Variance: nan\n",
            "\n",
            "Region sudeste | Period 99:\n",
            "Mean: 28.16\n",
            "Variance: nan\n",
            "\n",
            "Region sudeste | Period 100:\n",
            "Mean: 29.07\n",
            "Variance: nan\n",
            "\n",
            "Region sudeste | Period 101:\n",
            "Mean: 30.56\n",
            "Variance: nan\n",
            "\n",
            "Region sudeste | Period 102:\n",
            "Mean: 31.58\n",
            "Variance: nan\n",
            "\n",
            "Region sudeste | Period 103:\n",
            "Mean: 32.59\n",
            "Variance: nan\n",
            "\n",
            "Region sudeste | Period 104:\n",
            "Mean: 33.71\n",
            "Variance: nan\n",
            "\n",
            "Region sudeste | Period 105:\n",
            "Mean: 33.54\n",
            "Variance: nan\n",
            "\n",
            "Region sudeste | Period 106:\n",
            "Mean: 33.41\n",
            "Variance: nan\n",
            "\n",
            "Region sudeste | Period 107:\n",
            "Mean: 33.45\n",
            "Variance: nan\n",
            "\n",
            "Region sudeste | Period 108:\n",
            "Mean: 32.50\n",
            "Variance: nan\n",
            "\n",
            "Region norte | Period 1:\n",
            "Mean: 5.95\n",
            "Variance: nan\n",
            "\n",
            "Region norte | Period 2:\n",
            "Mean: 6.28\n",
            "Variance: nan\n",
            "\n",
            "Region norte | Period 3:\n",
            "Mean: 5.75\n",
            "Variance: nan\n",
            "\n",
            "Region norte | Period 4:\n",
            "Mean: 5.27\n",
            "Variance: nan\n",
            "\n",
            "Region norte | Period 5:\n",
            "Mean: 5.77\n",
            "Variance: nan\n",
            "\n",
            "Region norte | Period 6:\n",
            "Mean: 5.85\n",
            "Variance: nan\n",
            "\n",
            "Region norte | Period 7:\n",
            "Mean: 5.82\n",
            "Variance: nan\n",
            "\n",
            "Region norte | Period 8:\n",
            "Mean: 6.02\n",
            "Variance: nan\n",
            "\n",
            "Region norte | Period 9:\n",
            "Mean: 6.07\n",
            "Variance: nan\n",
            "\n",
            "Region norte | Period 10:\n",
            "Mean: 6.28\n",
            "Variance: nan\n",
            "\n",
            "Region norte | Period 11:\n",
            "Mean: 5.65\n",
            "Variance: nan\n",
            "\n",
            "Region norte | Period 12:\n",
            "Mean: 6.79\n",
            "Variance: nan\n",
            "\n",
            "Region norte | Period 13:\n",
            "Mean: 5.67\n",
            "Variance: nan\n",
            "\n",
            "Region norte | Period 14:\n",
            "Mean: 5.52\n",
            "Variance: nan\n",
            "\n",
            "Region norte | Period 15:\n",
            "Mean: 5.79\n",
            "Variance: nan\n",
            "\n",
            "Region norte | Period 16:\n",
            "Mean: 6.35\n",
            "Variance: nan\n",
            "\n",
            "Region norte | Period 17:\n",
            "Mean: 6.57\n",
            "Variance: nan\n",
            "\n",
            "Region norte | Period 18:\n",
            "Mean: 7.00\n",
            "Variance: nan\n",
            "\n",
            "Region norte | Period 19:\n",
            "Mean: 7.36\n",
            "Variance: nan\n",
            "\n",
            "Region norte | Period 20:\n",
            "Mean: 8.05\n",
            "Variance: nan\n",
            "\n",
            "Region norte | Period 21:\n",
            "Mean: 8.41\n",
            "Variance: nan\n",
            "\n",
            "Region norte | Period 22:\n",
            "Mean: 8.53\n",
            "Variance: nan\n",
            "\n",
            "Region norte | Period 23:\n",
            "Mean: 8.63\n",
            "Variance: nan\n",
            "\n",
            "Region norte | Period 24:\n",
            "Mean: 9.01\n",
            "Variance: nan\n",
            "\n",
            "Region norte | Period 25:\n",
            "Mean: 8.43\n",
            "Variance: nan\n",
            "\n",
            "Region norte | Period 26:\n",
            "Mean: 9.05\n",
            "Variance: nan\n",
            "\n",
            "Region norte | Period 27:\n",
            "Mean: 8.67\n",
            "Variance: nan\n",
            "\n",
            "Region norte | Period 28:\n",
            "Mean: 9.00\n",
            "Variance: nan\n",
            "\n",
            "Region norte | Period 29:\n",
            "Mean: 8.95\n",
            "Variance: nan\n",
            "\n",
            "Region norte | Period 30:\n",
            "Mean: 9.85\n",
            "Variance: nan\n",
            "\n",
            "Region norte | Period 31:\n",
            "Mean: 10.18\n",
            "Variance: nan\n",
            "\n",
            "Region norte | Period 32:\n",
            "Mean: 10.94\n",
            "Variance: nan\n",
            "\n",
            "Region norte | Period 33:\n",
            "Mean: 11.12\n",
            "Variance: nan\n",
            "\n",
            "Region norte | Period 34:\n",
            "Mean: 10.51\n",
            "Variance: nan\n",
            "\n",
            "Region norte | Period 35:\n",
            "Mean: 10.54\n",
            "Variance: nan\n",
            "\n",
            "Region norte | Period 36:\n",
            "Mean: 10.11\n",
            "Variance: nan\n",
            "\n",
            "Region norte | Period 37:\n",
            "Mean: 9.36\n",
            "Variance: nan\n",
            "\n",
            "Region norte | Period 38:\n",
            "Mean: 10.24\n",
            "Variance: nan\n",
            "\n",
            "Region norte | Period 39:\n",
            "Mean: 9.99\n",
            "Variance: nan\n",
            "\n",
            "Region norte | Period 40:\n",
            "Mean: 9.88\n",
            "Variance: nan\n",
            "\n",
            "Region norte | Period 41:\n",
            "Mean: 10.50\n",
            "Variance: nan\n",
            "\n",
            "Region norte | Period 42:\n",
            "Mean: 10.76\n",
            "Variance: nan\n",
            "\n",
            "Region norte | Period 43:\n",
            "Mean: 11.16\n",
            "Variance: nan\n",
            "\n",
            "Region norte | Period 44:\n",
            "Mean: 11.68\n",
            "Variance: nan\n",
            "\n",
            "Region norte | Period 45:\n",
            "Mean: 11.58\n",
            "Variance: nan\n",
            "\n",
            "Region norte | Period 46:\n",
            "Mean: 11.44\n",
            "Variance: nan\n",
            "\n",
            "Region norte | Period 47:\n",
            "Mean: 11.32\n",
            "Variance: nan\n",
            "\n",
            "Region norte | Period 48:\n",
            "Mean: 11.69\n",
            "Variance: nan\n",
            "\n",
            "Region norte | Period 49:\n",
            "Mean: 11.44\n",
            "Variance: nan\n",
            "\n",
            "Region norte | Period 50:\n",
            "Mean: 11.73\n",
            "Variance: nan\n",
            "\n",
            "Region norte | Period 51:\n",
            "Mean: 12.48\n",
            "Variance: nan\n",
            "\n",
            "Region norte | Period 52:\n",
            "Mean: 16.41\n",
            "Variance: nan\n",
            "\n",
            "Region norte | Period 53:\n",
            "Mean: 14.94\n",
            "Variance: nan\n",
            "\n",
            "Region norte | Period 54:\n",
            "Mean: 13.08\n",
            "Variance: nan\n",
            "\n",
            "Region norte | Period 55:\n",
            "Mean: 12.39\n",
            "Variance: nan\n",
            "\n",
            "Region norte | Period 56:\n",
            "Mean: 11.47\n",
            "Variance: nan\n",
            "\n",
            "Region norte | Period 57:\n",
            "Mean: 11.73\n",
            "Variance: nan\n",
            "\n",
            "Region norte | Period 58:\n",
            "Mean: 13.00\n",
            "Variance: nan\n",
            "\n",
            "Region norte | Period 59:\n",
            "Mean: 13.08\n",
            "Variance: nan\n",
            "\n",
            "Region norte | Period 60:\n",
            "Mean: 11.89\n",
            "Variance: nan\n",
            "\n",
            "Region norte | Period 61:\n",
            "Mean: 10.95\n",
            "Variance: nan\n",
            "\n",
            "Region norte | Period 62:\n",
            "Mean: 11.72\n",
            "Variance: nan\n",
            "\n",
            "Region norte | Period 63:\n",
            "Mean: 12.22\n",
            "Variance: nan\n",
            "\n",
            "Region norte | Period 64:\n",
            "Mean: 12.91\n",
            "Variance: nan\n",
            "\n",
            "Region norte | Period 65:\n",
            "Mean: 12.92\n",
            "Variance: nan\n",
            "\n",
            "Region norte | Period 66:\n",
            "Mean: 13.45\n",
            "Variance: nan\n",
            "\n",
            "Region norte | Period 67:\n",
            "Mean: 14.22\n",
            "Variance: nan\n",
            "\n",
            "Region norte | Period 68:\n",
            "Mean: 14.75\n",
            "Variance: nan\n",
            "\n",
            "Region norte | Period 69:\n",
            "Mean: 16.03\n",
            "Variance: nan\n",
            "\n",
            "Region norte | Period 70:\n",
            "Mean: 15.78\n",
            "Variance: nan\n",
            "\n",
            "Region norte | Period 71:\n",
            "Mean: 15.35\n",
            "Variance: nan\n",
            "\n",
            "Region norte | Period 72:\n",
            "Mean: 13.64\n",
            "Variance: nan\n",
            "\n",
            "Region norte | Period 73:\n",
            "Mean: 11.42\n",
            "Variance: nan\n",
            "\n",
            "Region norte | Period 74:\n",
            "Mean: 15.59\n",
            "Variance: nan\n",
            "\n",
            "Region norte | Period 75:\n",
            "Mean: 16.45\n",
            "Variance: nan\n",
            "\n",
            "Region norte | Period 76:\n",
            "Mean: 16.28\n",
            "Variance: nan\n",
            "\n",
            "Region norte | Period 77:\n",
            "Mean: 16.57\n",
            "Variance: nan\n",
            "\n",
            "Region norte | Period 78:\n",
            "Mean: 15.49\n",
            "Variance: nan\n",
            "\n",
            "Region norte | Period 79:\n",
            "Mean: 13.99\n",
            "Variance: nan\n",
            "\n",
            "Region norte | Period 80:\n",
            "Mean: 16.29\n",
            "Variance: nan\n",
            "\n",
            "Region norte | Period 81:\n",
            "Mean: 18.77\n",
            "Variance: nan\n",
            "\n",
            "Region norte | Period 82:\n",
            "Mean: 17.58\n",
            "Variance: nan\n",
            "\n",
            "Region norte | Period 83:\n",
            "Mean: 16.83\n",
            "Variance: nan\n",
            "\n",
            "Region norte | Period 84:\n",
            "Mean: 16.26\n",
            "Variance: nan\n",
            "\n",
            "Region norte | Period 85:\n",
            "Mean: 17.60\n",
            "Variance: nan\n",
            "\n",
            "Region norte | Period 86:\n",
            "Mean: 17.97\n",
            "Variance: nan\n",
            "\n",
            "Region norte | Period 87:\n",
            "Mean: 17.07\n",
            "Variance: nan\n",
            "\n",
            "Region norte | Period 88:\n",
            "Mean: 17.45\n",
            "Variance: nan\n",
            "\n",
            "Region norte | Period 89:\n",
            "Mean: 18.67\n",
            "Variance: nan\n",
            "\n",
            "Region norte | Period 90:\n",
            "Mean: 18.79\n",
            "Variance: nan\n",
            "\n",
            "Region norte | Period 91:\n",
            "Mean: 19.41\n",
            "Variance: nan\n",
            "\n",
            "Region norte | Period 92:\n",
            "Mean: 20.65\n",
            "Variance: nan\n",
            "\n",
            "Region norte | Period 93:\n",
            "Mean: 21.73\n",
            "Variance: nan\n",
            "\n",
            "Region norte | Period 94:\n",
            "Mean: 21.74\n",
            "Variance: nan\n",
            "\n",
            "Region norte | Period 95:\n",
            "Mean: 21.10\n",
            "Variance: nan\n",
            "\n",
            "Region norte | Period 96:\n",
            "Mean: 20.75\n",
            "Variance: nan\n",
            "\n",
            "Region norte | Period 97:\n",
            "Mean: 21.56\n",
            "Variance: nan\n",
            "\n",
            "Region norte | Period 98:\n",
            "Mean: 22.15\n",
            "Variance: nan\n",
            "\n",
            "Region norte | Period 99:\n",
            "Mean: 21.59\n",
            "Variance: nan\n",
            "\n",
            "Region norte | Period 100:\n",
            "Mean: 21.55\n",
            "Variance: nan\n",
            "\n",
            "Region norte | Period 101:\n",
            "Mean: 23.13\n",
            "Variance: nan\n",
            "\n",
            "Region norte | Period 102:\n",
            "Mean: 23.52\n",
            "Variance: nan\n",
            "\n",
            "Region norte | Period 103:\n",
            "Mean: 23.99\n",
            "Variance: nan\n",
            "\n",
            "Region norte | Period 104:\n",
            "Mean: 24.44\n",
            "Variance: nan\n",
            "\n",
            "Region norte | Period 105:\n",
            "Mean: 25.50\n",
            "Variance: nan\n",
            "\n",
            "Region norte | Period 106:\n",
            "Mean: 26.33\n",
            "Variance: nan\n",
            "\n",
            "Region norte | Period 107:\n",
            "Mean: 24.64\n",
            "Variance: nan\n",
            "\n",
            "Region norte | Period 108:\n",
            "Mean: 24.78\n",
            "Variance: nan\n",
            "\n",
            "Region nordeste | Period 1:\n",
            "Mean: 5.77\n",
            "Variance: nan\n",
            "\n",
            "Region nordeste | Period 2:\n",
            "Mean: 5.52\n",
            "Variance: nan\n",
            "\n",
            "Region nordeste | Period 3:\n",
            "Mean: 5.29\n",
            "Variance: nan\n",
            "\n",
            "Region nordeste | Period 4:\n",
            "Mean: 5.60\n",
            "Variance: nan\n",
            "\n",
            "Region nordeste | Period 5:\n",
            "Mean: 5.91\n",
            "Variance: nan\n",
            "\n",
            "Region nordeste | Period 6:\n",
            "Mean: 6.17\n",
            "Variance: nan\n",
            "\n",
            "Region nordeste | Period 7:\n",
            "Mean: 6.38\n",
            "Variance: nan\n",
            "\n",
            "Region nordeste | Period 8:\n",
            "Mean: 6.48\n",
            "Variance: nan\n",
            "\n",
            "Region nordeste | Period 9:\n",
            "Mean: 6.82\n",
            "Variance: nan\n",
            "\n",
            "Region nordeste | Period 10:\n",
            "Mean: 7.18\n",
            "Variance: nan\n",
            "\n",
            "Region nordeste | Period 11:\n",
            "Mean: 6.82\n",
            "Variance: nan\n",
            "\n",
            "Region nordeste | Period 12:\n",
            "Mean: 8.17\n",
            "Variance: nan\n",
            "\n",
            "Region nordeste | Period 13:\n",
            "Mean: 8.02\n",
            "Variance: nan\n",
            "\n",
            "Region nordeste | Period 14:\n",
            "Mean: 6.93\n",
            "Variance: nan\n",
            "\n",
            "Region nordeste | Period 15:\n",
            "Mean: 6.86\n",
            "Variance: nan\n",
            "\n",
            "Region nordeste | Period 16:\n",
            "Mean: 6.92\n",
            "Variance: nan\n",
            "\n",
            "Region nordeste | Period 17:\n",
            "Mean: 7.13\n",
            "Variance: nan\n",
            "\n",
            "Region nordeste | Period 18:\n",
            "Mean: 7.80\n",
            "Variance: nan\n",
            "\n",
            "Region nordeste | Period 19:\n",
            "Mean: 7.45\n",
            "Variance: nan\n",
            "\n",
            "Region nordeste | Period 20:\n",
            "Mean: 7.91\n",
            "Variance: nan\n",
            "\n",
            "Region nordeste | Period 21:\n",
            "Mean: 8.33\n",
            "Variance: nan\n",
            "\n",
            "Region nordeste | Period 22:\n",
            "Mean: 8.77\n",
            "Variance: nan\n",
            "\n",
            "Region nordeste | Period 23:\n",
            "Mean: 9.35\n",
            "Variance: nan\n",
            "\n",
            "Region nordeste | Period 24:\n",
            "Mean: 10.25\n",
            "Variance: nan\n",
            "\n",
            "Region nordeste | Period 25:\n",
            "Mean: 9.93\n",
            "Variance: nan\n",
            "\n",
            "Region nordeste | Period 26:\n",
            "Mean: 10.36\n",
            "Variance: nan\n",
            "\n",
            "Region nordeste | Period 27:\n",
            "Mean: 9.77\n",
            "Variance: nan\n",
            "\n",
            "Region nordeste | Period 28:\n",
            "Mean: 9.79\n",
            "Variance: nan\n",
            "\n",
            "Region nordeste | Period 29:\n",
            "Mean: 10.09\n",
            "Variance: nan\n",
            "\n",
            "Region nordeste | Period 30:\n",
            "Mean: 10.95\n",
            "Variance: nan\n",
            "\n",
            "Region nordeste | Period 31:\n",
            "Mean: 10.92\n",
            "Variance: nan\n",
            "\n",
            "Region nordeste | Period 32:\n",
            "Mean: 11.08\n",
            "Variance: nan\n",
            "\n",
            "Region nordeste | Period 33:\n",
            "Mean: 11.16\n",
            "Variance: nan\n",
            "\n",
            "Region nordeste | Period 34:\n",
            "Mean: 11.22\n",
            "Variance: nan\n",
            "\n",
            "Region nordeste | Period 35:\n",
            "Mean: 11.45\n",
            "Variance: nan\n",
            "\n",
            "Region nordeste | Period 36:\n",
            "Mean: 12.24\n",
            "Variance: nan\n",
            "\n",
            "Region nordeste | Period 37:\n",
            "Mean: 11.13\n",
            "Variance: nan\n",
            "\n",
            "Region nordeste | Period 38:\n",
            "Mean: 11.19\n",
            "Variance: nan\n",
            "\n",
            "Region nordeste | Period 39:\n",
            "Mean: 11.31\n",
            "Variance: nan\n",
            "\n",
            "Region nordeste | Period 40:\n",
            "Mean: 10.29\n",
            "Variance: nan\n",
            "\n",
            "Region nordeste | Period 41:\n",
            "Mean: 10.61\n",
            "Variance: nan\n",
            "\n",
            "Region nordeste | Period 42:\n",
            "Mean: 11.40\n",
            "Variance: nan\n",
            "\n",
            "Region nordeste | Period 43:\n",
            "Mean: 11.90\n",
            "Variance: nan\n",
            "\n",
            "Region nordeste | Period 44:\n",
            "Mean: 12.55\n",
            "Variance: nan\n",
            "\n",
            "Region nordeste | Period 45:\n",
            "Mean: 12.68\n",
            "Variance: nan\n",
            "\n",
            "Region nordeste | Period 46:\n",
            "Mean: 13.07\n",
            "Variance: nan\n",
            "\n",
            "Region nordeste | Period 47:\n",
            "Mean: 13.67\n",
            "Variance: nan\n",
            "\n",
            "Region nordeste | Period 48:\n",
            "Mean: 15.20\n",
            "Variance: nan\n",
            "\n",
            "Region nordeste | Period 49:\n",
            "Mean: 15.40\n",
            "Variance: nan\n",
            "\n",
            "Region nordeste | Period 50:\n",
            "Mean: 15.42\n",
            "Variance: nan\n",
            "\n",
            "Region nordeste | Period 51:\n",
            "Mean: 16.52\n",
            "Variance: nan\n",
            "\n",
            "Region nordeste | Period 52:\n",
            "Mean: 22.83\n",
            "Variance: nan\n",
            "\n",
            "Region nordeste | Period 53:\n",
            "Mean: 20.55\n",
            "Variance: nan\n",
            "\n",
            "Region nordeste | Period 54:\n",
            "Mean: 19.43\n",
            "Variance: nan\n",
            "\n",
            "Region nordeste | Period 55:\n",
            "Mean: 18.94\n",
            "Variance: nan\n",
            "\n",
            "Region nordeste | Period 56:\n",
            "Mean: 19.03\n",
            "Variance: nan\n",
            "\n",
            "Region nordeste | Period 57:\n",
            "Mean: 19.45\n",
            "Variance: nan\n",
            "\n",
            "Region nordeste | Period 58:\n",
            "Mean: 18.63\n",
            "Variance: nan\n",
            "\n",
            "Region nordeste | Period 59:\n",
            "Mean: 20.23\n",
            "Variance: nan\n",
            "\n",
            "Region nordeste | Period 60:\n",
            "Mean: 22.00\n",
            "Variance: nan\n",
            "\n",
            "Region nordeste | Period 61:\n",
            "Mean: 21.34\n",
            "Variance: nan\n",
            "\n",
            "Region nordeste | Period 62:\n",
            "Mean: 19.85\n",
            "Variance: nan\n",
            "\n",
            "Region nordeste | Period 63:\n",
            "Mean: 18.72\n",
            "Variance: nan\n",
            "\n",
            "Region nordeste | Period 64:\n",
            "Mean: 18.93\n",
            "Variance: nan\n",
            "\n",
            "Region nordeste | Period 65:\n",
            "Mean: 17.41\n",
            "Variance: nan\n",
            "\n",
            "Region nordeste | Period 66:\n",
            "Mean: 19.05\n",
            "Variance: nan\n",
            "\n",
            "Region nordeste | Period 67:\n",
            "Mean: 20.37\n",
            "Variance: nan\n",
            "\n",
            "Region nordeste | Period 68:\n",
            "Mean: 21.13\n",
            "Variance: nan\n",
            "\n",
            "Region nordeste | Period 69:\n",
            "Mean: 22.45\n",
            "Variance: nan\n",
            "\n",
            "Region nordeste | Period 70:\n",
            "Mean: 21.57\n",
            "Variance: nan\n",
            "\n",
            "Region nordeste | Period 71:\n",
            "Mean: 21.16\n",
            "Variance: nan\n",
            "\n",
            "Region nordeste | Period 72:\n",
            "Mean: 21.70\n",
            "Variance: nan\n",
            "\n",
            "Region nordeste | Period 73:\n",
            "Mean: 18.18\n",
            "Variance: nan\n",
            "\n",
            "Region nordeste | Period 74:\n",
            "Mean: 22.35\n",
            "Variance: nan\n",
            "\n",
            "Region nordeste | Period 75:\n",
            "Mean: 22.42\n",
            "Variance: nan\n",
            "\n",
            "Region nordeste | Period 76:\n",
            "Mean: 21.19\n",
            "Variance: nan\n",
            "\n",
            "Region nordeste | Period 77:\n",
            "Mean: 21.64\n",
            "Variance: nan\n",
            "\n",
            "Region nordeste | Period 78:\n",
            "Mean: 21.83\n",
            "Variance: nan\n",
            "\n",
            "Region nordeste | Period 79:\n",
            "Mean: 21.98\n",
            "Variance: nan\n",
            "\n",
            "Region nordeste | Period 80:\n",
            "Mean: 23.16\n",
            "Variance: nan\n",
            "\n",
            "Region nordeste | Period 81:\n",
            "Mean: 26.41\n",
            "Variance: nan\n",
            "\n",
            "Region nordeste | Period 82:\n",
            "Mean: 25.66\n",
            "Variance: nan\n",
            "\n",
            "Region nordeste | Period 83:\n",
            "Mean: 24.52\n",
            "Variance: nan\n",
            "\n",
            "Region nordeste | Period 84:\n",
            "Mean: 25.34\n",
            "Variance: nan\n",
            "\n",
            "Region nordeste | Period 85:\n",
            "Mean: 28.41\n",
            "Variance: nan\n",
            "\n",
            "Region nordeste | Period 86:\n",
            "Mean: 28.59\n",
            "Variance: nan\n",
            "\n",
            "Region nordeste | Period 87:\n",
            "Mean: 25.77\n",
            "Variance: nan\n",
            "\n",
            "Region nordeste | Period 88:\n",
            "Mean: 24.66\n",
            "Variance: nan\n",
            "\n",
            "Region nordeste | Period 89:\n",
            "Mean: 28.67\n",
            "Variance: nan\n",
            "\n",
            "Region nordeste | Period 90:\n",
            "Mean: 28.08\n",
            "Variance: nan\n",
            "\n",
            "Region nordeste | Period 91:\n",
            "Mean: 28.57\n",
            "Variance: nan\n",
            "\n",
            "Region nordeste | Period 92:\n",
            "Mean: 28.21\n",
            "Variance: nan\n",
            "\n",
            "Region nordeste | Period 93:\n",
            "Mean: 31.04\n",
            "Variance: nan\n",
            "\n",
            "Region nordeste | Period 94:\n",
            "Mean: 30.60\n",
            "Variance: nan\n",
            "\n",
            "Region nordeste | Period 95:\n",
            "Mean: 30.35\n",
            "Variance: nan\n",
            "\n",
            "Region nordeste | Period 96:\n",
            "Mean: 30.35\n",
            "Variance: nan\n",
            "\n",
            "Region nordeste | Period 97:\n",
            "Mean: 34.31\n",
            "Variance: nan\n",
            "\n",
            "Region nordeste | Period 98:\n",
            "Mean: 32.66\n",
            "Variance: nan\n",
            "\n",
            "Region nordeste | Period 99:\n",
            "Mean: 29.41\n",
            "Variance: nan\n",
            "\n",
            "Region nordeste | Period 100:\n",
            "Mean: 28.88\n",
            "Variance: nan\n",
            "\n",
            "Region nordeste | Period 101:\n",
            "Mean: 32.56\n",
            "Variance: nan\n",
            "\n",
            "Region nordeste | Period 102:\n",
            "Mean: 33.64\n",
            "Variance: nan\n",
            "\n",
            "Region nordeste | Period 103:\n",
            "Mean: 34.07\n",
            "Variance: nan\n",
            "\n",
            "Region nordeste | Period 104:\n",
            "Mean: 32.92\n",
            "Variance: nan\n",
            "\n",
            "Region nordeste | Period 105:\n",
            "Mean: 33.48\n",
            "Variance: nan\n",
            "\n",
            "Region nordeste | Period 106:\n",
            "Mean: 33.60\n",
            "Variance: nan\n",
            "\n",
            "Region nordeste | Period 107:\n",
            "Mean: 33.46\n",
            "Variance: nan\n",
            "\n",
            "Region nordeste | Period 108:\n",
            "Mean: 33.17\n",
            "Variance: nan\n",
            "\n",
            "Region centro_oeste | Period 1:\n",
            "Mean: 10.94\n",
            "Variance: nan\n",
            "\n",
            "Region centro_oeste | Period 2:\n",
            "Mean: 11.15\n",
            "Variance: nan\n",
            "\n",
            "Region centro_oeste | Period 3:\n",
            "Mean: 10.15\n",
            "Variance: nan\n",
            "\n",
            "Region centro_oeste | Period 4:\n",
            "Mean: 10.44\n",
            "Variance: nan\n",
            "\n",
            "Region centro_oeste | Period 5:\n",
            "Mean: 11.55\n",
            "Variance: nan\n",
            "\n",
            "Region centro_oeste | Period 6:\n",
            "Mean: 11.96\n",
            "Variance: nan\n",
            "\n",
            "Region centro_oeste | Period 7:\n",
            "Mean: 12.22\n",
            "Variance: nan\n",
            "\n",
            "Region centro_oeste | Period 8:\n",
            "Mean: 12.05\n",
            "Variance: nan\n",
            "\n",
            "Region centro_oeste | Period 9:\n",
            "Mean: 10.92\n",
            "Variance: nan\n",
            "\n",
            "Region centro_oeste | Period 10:\n",
            "Mean: 12.11\n",
            "Variance: nan\n",
            "\n",
            "Region centro_oeste | Period 11:\n",
            "Mean: 11.24\n",
            "Variance: nan\n",
            "\n",
            "Region centro_oeste | Period 12:\n",
            "Mean: 11.48\n",
            "Variance: nan\n",
            "\n",
            "Region centro_oeste | Period 13:\n",
            "Mean: 12.88\n",
            "Variance: nan\n",
            "\n",
            "Region centro_oeste | Period 14:\n",
            "Mean: 13.10\n",
            "Variance: nan\n",
            "\n",
            "Region centro_oeste | Period 15:\n",
            "Mean: 12.35\n",
            "Variance: nan\n",
            "\n",
            "Region centro_oeste | Period 16:\n",
            "Mean: 12.88\n",
            "Variance: nan\n",
            "\n",
            "Region centro_oeste | Period 17:\n",
            "Mean: 14.03\n",
            "Variance: nan\n",
            "\n",
            "Region centro_oeste | Period 18:\n",
            "Mean: 14.72\n",
            "Variance: nan\n",
            "\n",
            "Region centro_oeste | Period 19:\n",
            "Mean: 15.17\n",
            "Variance: nan\n",
            "\n",
            "Region centro_oeste | Period 20:\n",
            "Mean: 16.74\n",
            "Variance: nan\n",
            "\n",
            "Region centro_oeste | Period 21:\n",
            "Mean: 17.50\n",
            "Variance: nan\n",
            "\n",
            "Region centro_oeste | Period 22:\n",
            "Mean: 18.55\n",
            "Variance: nan\n",
            "\n",
            "Region centro_oeste | Period 23:\n",
            "Mean: 19.25\n",
            "Variance: nan\n",
            "\n",
            "Region centro_oeste | Period 24:\n",
            "Mean: 19.02\n",
            "Variance: nan\n",
            "\n",
            "Region centro_oeste | Period 25:\n",
            "Mean: 19.47\n",
            "Variance: nan\n",
            "\n",
            "Region centro_oeste | Period 26:\n",
            "Mean: 20.16\n",
            "Variance: nan\n",
            "\n",
            "Region centro_oeste | Period 27:\n",
            "Mean: 19.58\n",
            "Variance: nan\n",
            "\n",
            "Region centro_oeste | Period 28:\n",
            "Mean: 18.95\n",
            "Variance: nan\n",
            "\n",
            "Region centro_oeste | Period 29:\n",
            "Mean: 20.15\n",
            "Variance: nan\n",
            "\n",
            "Region centro_oeste | Period 30:\n",
            "Mean: 22.44\n",
            "Variance: nan\n",
            "\n",
            "Region centro_oeste | Period 31:\n",
            "Mean: 21.95\n",
            "Variance: nan\n",
            "\n",
            "Region centro_oeste | Period 32:\n",
            "Mean: 22.20\n",
            "Variance: nan\n",
            "\n",
            "Region centro_oeste | Period 33:\n",
            "Mean: 22.33\n",
            "Variance: nan\n",
            "\n",
            "Region centro_oeste | Period 34:\n",
            "Mean: 22.10\n",
            "Variance: nan\n",
            "\n",
            "Region centro_oeste | Period 35:\n",
            "Mean: 21.77\n",
            "Variance: nan\n",
            "\n",
            "Region centro_oeste | Period 36:\n",
            "Mean: 21.64\n",
            "Variance: nan\n",
            "\n",
            "Region centro_oeste | Period 37:\n",
            "Mean: 21.07\n",
            "Variance: nan\n",
            "\n",
            "Region centro_oeste | Period 38:\n",
            "Mean: 21.68\n",
            "Variance: nan\n",
            "\n",
            "Region centro_oeste | Period 39:\n",
            "Mean: 21.24\n",
            "Variance: nan\n",
            "\n",
            "Region centro_oeste | Period 40:\n",
            "Mean: 19.93\n",
            "Variance: nan\n",
            "\n",
            "Region centro_oeste | Period 41:\n",
            "Mean: 20.27\n",
            "Variance: nan\n",
            "\n",
            "Region centro_oeste | Period 42:\n",
            "Mean: 21.24\n",
            "Variance: nan\n",
            "\n",
            "Region centro_oeste | Period 43:\n",
            "Mean: 22.34\n",
            "Variance: nan\n",
            "\n",
            "Region centro_oeste | Period 44:\n",
            "Mean: 24.31\n",
            "Variance: nan\n",
            "\n",
            "Region centro_oeste | Period 45:\n",
            "Mean: 25.43\n",
            "Variance: nan\n",
            "\n",
            "Region centro_oeste | Period 46:\n",
            "Mean: 25.12\n",
            "Variance: nan\n",
            "\n",
            "Region centro_oeste | Period 47:\n",
            "Mean: 24.30\n",
            "Variance: nan\n",
            "\n",
            "Region centro_oeste | Period 48:\n",
            "Mean: 24.97\n",
            "Variance: nan\n",
            "\n",
            "Region centro_oeste | Period 49:\n",
            "Mean: 24.84\n",
            "Variance: nan\n",
            "\n",
            "Region centro_oeste | Period 50:\n",
            "Mean: 24.14\n",
            "Variance: nan\n",
            "\n",
            "Region centro_oeste | Period 51:\n",
            "Mean: 24.76\n",
            "Variance: nan\n",
            "\n",
            "Region centro_oeste | Period 52:\n",
            "Mean: 30.65\n",
            "Variance: nan\n",
            "\n",
            "Region centro_oeste | Period 53:\n",
            "Mean: 29.30\n",
            "Variance: nan\n",
            "\n",
            "Region centro_oeste | Period 54:\n",
            "Mean: 27.19\n",
            "Variance: nan\n",
            "\n",
            "Region centro_oeste | Period 55:\n",
            "Mean: 24.09\n",
            "Variance: nan\n",
            "\n",
            "Region centro_oeste | Period 56:\n",
            "Mean: 23.74\n",
            "Variance: nan\n",
            "\n",
            "Region centro_oeste | Period 57:\n",
            "Mean: 25.80\n",
            "Variance: nan\n",
            "\n",
            "Region centro_oeste | Period 58:\n",
            "Mean: 26.78\n",
            "Variance: nan\n",
            "\n",
            "Region centro_oeste | Period 59:\n",
            "Mean: 25.88\n",
            "Variance: nan\n",
            "\n",
            "Region centro_oeste | Period 60:\n",
            "Mean: 24.11\n",
            "Variance: nan\n",
            "\n",
            "Region centro_oeste | Period 61:\n",
            "Mean: 24.67\n",
            "Variance: nan\n",
            "\n",
            "Region centro_oeste | Period 62:\n",
            "Mean: 25.34\n",
            "Variance: nan\n",
            "\n",
            "Region centro_oeste | Period 63:\n",
            "Mean: 23.36\n",
            "Variance: nan\n",
            "\n",
            "Region centro_oeste | Period 64:\n",
            "Mean: 25.01\n",
            "Variance: nan\n",
            "\n",
            "Region centro_oeste | Period 65:\n",
            "Mean: 23.26\n",
            "Variance: nan\n",
            "\n",
            "Region centro_oeste | Period 66:\n",
            "Mean: 25.30\n",
            "Variance: nan\n",
            "\n",
            "Region centro_oeste | Period 67:\n",
            "Mean: 25.65\n",
            "Variance: nan\n",
            "\n",
            "Region centro_oeste | Period 68:\n",
            "Mean: 27.57\n",
            "Variance: nan\n",
            "\n",
            "Region centro_oeste | Period 69:\n",
            "Mean: 29.16\n",
            "Variance: nan\n",
            "\n",
            "Region centro_oeste | Period 70:\n",
            "Mean: 28.00\n",
            "Variance: nan\n",
            "\n",
            "Region centro_oeste | Period 71:\n",
            "Mean: 27.79\n",
            "Variance: nan\n",
            "\n",
            "Region centro_oeste | Period 72:\n",
            "Mean: 25.40\n",
            "Variance: nan\n",
            "\n",
            "Region centro_oeste | Period 73:\n",
            "Mean: 17.62\n",
            "Variance: nan\n",
            "\n",
            "Region centro_oeste | Period 74:\n",
            "Mean: 23.85\n",
            "Variance: nan\n",
            "\n",
            "Region centro_oeste | Period 75:\n",
            "Mean: 27.55\n",
            "Variance: nan\n",
            "\n",
            "Region centro_oeste | Period 76:\n",
            "Mean: 27.30\n",
            "Variance: nan\n",
            "\n",
            "Region centro_oeste | Period 77:\n",
            "Mean: 26.64\n",
            "Variance: nan\n",
            "\n",
            "Region centro_oeste | Period 78:\n",
            "Mean: 22.90\n",
            "Variance: nan\n",
            "\n",
            "Region centro_oeste | Period 79:\n",
            "Mean: 25.18\n",
            "Variance: nan\n",
            "\n",
            "Region centro_oeste | Period 80:\n",
            "Mean: 29.11\n",
            "Variance: nan\n",
            "\n",
            "Region centro_oeste | Period 81:\n",
            "Mean: 30.63\n",
            "Variance: nan\n",
            "\n",
            "Region centro_oeste | Period 82:\n",
            "Mean: 28.65\n",
            "Variance: nan\n",
            "\n",
            "Region centro_oeste | Period 83:\n",
            "Mean: 27.25\n",
            "Variance: nan\n",
            "\n",
            "Region centro_oeste | Period 84:\n",
            "Mean: 24.66\n",
            "Variance: nan\n",
            "\n",
            "Region centro_oeste | Period 85:\n",
            "Mean: 29.38\n",
            "Variance: nan\n",
            "\n",
            "Region centro_oeste | Period 86:\n",
            "Mean: 29.35\n",
            "Variance: nan\n",
            "\n",
            "Region centro_oeste | Period 87:\n",
            "Mean: 27.48\n",
            "Variance: nan\n",
            "\n",
            "Region centro_oeste | Period 88:\n",
            "Mean: 25.90\n",
            "Variance: nan\n",
            "\n",
            "Region centro_oeste | Period 89:\n",
            "Mean: 27.50\n",
            "Variance: nan\n",
            "\n",
            "Region centro_oeste | Period 90:\n",
            "Mean: 29.26\n",
            "Variance: nan\n",
            "\n",
            "Region centro_oeste | Period 91:\n",
            "Mean: 29.95\n",
            "Variance: nan\n",
            "\n",
            "Region centro_oeste | Period 92:\n",
            "Mean: 31.24\n",
            "Variance: nan\n",
            "\n",
            "Region centro_oeste | Period 93:\n",
            "Mean: 32.13\n",
            "Variance: nan\n",
            "\n",
            "Region centro_oeste | Period 94:\n",
            "Mean: 30.66\n",
            "Variance: nan\n",
            "\n",
            "Region centro_oeste | Period 95:\n",
            "Mean: 30.30\n",
            "Variance: nan\n",
            "\n",
            "Region centro_oeste | Period 96:\n",
            "Mean: 29.42\n",
            "Variance: nan\n",
            "\n",
            "Region centro_oeste | Period 97:\n",
            "Mean: 30.00\n",
            "Variance: nan\n",
            "\n",
            "Region centro_oeste | Period 98:\n",
            "Mean: 26.69\n",
            "Variance: nan\n",
            "\n",
            "Region centro_oeste | Period 99:\n",
            "Mean: 25.76\n",
            "Variance: nan\n",
            "\n",
            "Region centro_oeste | Period 100:\n",
            "Mean: 25.51\n",
            "Variance: nan\n",
            "\n",
            "Region centro_oeste | Period 101:\n",
            "Mean: 26.95\n",
            "Variance: nan\n",
            "\n",
            "Region centro_oeste | Period 102:\n",
            "Mean: 29.69\n",
            "Variance: nan\n",
            "\n",
            "Region centro_oeste | Period 103:\n",
            "Mean: 30.67\n",
            "Variance: nan\n",
            "\n",
            "Region centro_oeste | Period 104:\n",
            "Mean: 31.00\n",
            "Variance: nan\n",
            "\n",
            "Region centro_oeste | Period 105:\n",
            "Mean: 30.82\n",
            "Variance: nan\n",
            "\n",
            "Region centro_oeste | Period 106:\n",
            "Mean: 31.50\n",
            "Variance: nan\n",
            "\n",
            "Region centro_oeste | Period 107:\n",
            "Mean: 29.99\n",
            "Variance: nan\n",
            "\n",
            "Region centro_oeste | Period 108:\n",
            "Mean: 29.58\n",
            "Variance: nan\n"
          ]
        }
      ],
      "source": [
        "print(\"\\n=== By Region and Time Period ===\")\n",
        "for region in RegressionDF[GROUP_COL_NAME].unique():\n",
        "    for period in sorted(RegressionDF['periodo'].unique()):\n",
        "        subset = RegressionDF[(RegressionDF[GROUP_COL_NAME] == region) & \n",
        "                 (RegressionDF['periodo'] == period)]\n",
        "        if len(subset) > 0:  # Check if data exists\n",
        "            print(f\"\\nRegion {region} | Period {period}:\")\n",
        "            print(f\"Mean: {subset[DEPENDENT_VAR].mean():.2f}\")\n",
        "            print(f\"Variance: {subset[DEPENDENT_VAR].var():.2f}\")"
      ]
    },
    {
      "cell_type": "markdown",
      "metadata": {},
      "source": [
        "# Exploração Pré intervenção\n"
      ]
    },
    {
      "cell_type": "code",
      "execution_count": 3084,
      "metadata": {},
      "outputs": [
        {
          "name": "stdout",
          "output_type": "stream",
          "text": [
            "Analisando variável: sul\n",
            "Analisando variável: sudeste\n",
            "Analisando variável: norte\n",
            "Analisando variável: nordeste\n",
            "Analisando variável: centro_oeste\n"
          ]
        },
        {
          "data": {
            "application/vnd.microsoft.datawrangler.viewer.v0+json": {
              "columns": [
                {
                  "name": "Variable",
                  "rawType": "object",
                  "type": "string"
                },
                {
                  "name": "ADF Statistic",
                  "rawType": "float64",
                  "type": "float"
                },
                {
                  "name": "ADF p-value",
                  "rawType": "float64",
                  "type": "float"
                },
                {
                  "name": "ADF Stationary",
                  "rawType": "bool",
                  "type": "boolean"
                },
                {
                  "name": "ACF",
                  "rawType": "object",
                  "type": "string"
                },
                {
                  "name": "PACF",
                  "rawType": "object",
                  "type": "string"
                },
                {
                  "name": "Breusch-Pagan LM Statistic",
                  "rawType": "float64",
                  "type": "float"
                },
                {
                  "name": "Breusch-Pagan p-value",
                  "rawType": "float64",
                  "type": "float"
                },
                {
                  "name": "Heteroscedasticity",
                  "rawType": "bool",
                  "type": "boolean"
                },
                {
                  "name": "Shapiro-Wilk p-value",
                  "rawType": "float64",
                  "type": "float"
                },
                {
                  "name": "Jarque-Bera p-value",
                  "rawType": "float64",
                  "type": "float"
                },
                {
                  "name": "D'Agostino p-value",
                  "rawType": "float64",
                  "type": "float"
                },
                {
                  "name": "Normality",
                  "rawType": "bool",
                  "type": "boolean"
                },
                {
                  "name": "Durbin-Watson Statistic",
                  "rawType": "float64",
                  "type": "float"
                },
                {
                  "name": "No Autocorrelation",
                  "rawType": "bool",
                  "type": "boolean"
                }
              ],
              "conversionMethod": "pd.DataFrame",
              "ref": "8a252fe9-12a2-4b9d-994f-9d66957ff97a",
              "rows": [
                [
                  "sul",
                  "-4.519611760161475",
                  "0.00018120265112527467",
                  "True",
                  "Plotted",
                  "Plotted",
                  "0.22013337304234437",
                  "0.6389383135999801",
                  "False",
                  "0.016349934400640122",
                  "0.07016893653574409",
                  "0.054859878393971474",
                  "False",
                  "1.1898209992184863",
                  "False"
                ],
                [
                  "sudeste",
                  "-8.634555106570344",
                  "5.6366620994263896e-14",
                  "True",
                  "Plotted",
                  "Plotted",
                  "5.859897451728389",
                  "0.015489696452250632",
                  "True",
                  "0.0364429594399839",
                  "0.4868620215930881",
                  "0.34205059991372844",
                  "False",
                  "2.4934938910102318",
                  "True"
                ],
                [
                  "norte",
                  "-5.63822179517542",
                  "1.0510570752509354e-06",
                  "True",
                  "Plotted",
                  "Plotted",
                  "0.2571263786563882",
                  "0.6121012802516563",
                  "False",
                  "0.0010548141657109708",
                  "0.1098550112959505",
                  "8.613814883454637e-08",
                  "False",
                  "1.8635212219946307",
                  "True"
                ],
                [
                  "nordeste",
                  "-1.0929713007963522",
                  "0.717866714267632",
                  "False",
                  "Plotted",
                  "Plotted",
                  "0.6087739787123903",
                  "0.435249802581962",
                  "False",
                  "0.02586763669159078",
                  "0.21459554242242154",
                  "0.1296489866447159",
                  "False",
                  "0.6977909314768607",
                  "False"
                ],
                [
                  "centro_oeste",
                  "-6.85259553049517",
                  "1.679431683327699e-09",
                  "True",
                  "Plotted",
                  "Plotted",
                  "18.12158050313771",
                  "2.0723933726898156e-05",
                  "True",
                  "0.001001596740057611",
                  "0.12736147058343486",
                  "2.87424759975685e-06",
                  "False",
                  "1.932850603604774",
                  "True"
                ]
              ],
              "shape": {
                "columns": 14,
                "rows": 5
              }
            },
            "text/html": [
              "<div>\n",
              "<style scoped>\n",
              "    .dataframe tbody tr th:only-of-type {\n",
              "        vertical-align: middle;\n",
              "    }\n",
              "\n",
              "    .dataframe tbody tr th {\n",
              "        vertical-align: top;\n",
              "    }\n",
              "\n",
              "    .dataframe thead th {\n",
              "        text-align: right;\n",
              "    }\n",
              "</style>\n",
              "<table border=\"1\" class=\"dataframe\">\n",
              "  <thead>\n",
              "    <tr style=\"text-align: right;\">\n",
              "      <th></th>\n",
              "      <th>ADF Statistic</th>\n",
              "      <th>ADF p-value</th>\n",
              "      <th>ADF Stationary</th>\n",
              "      <th>ACF</th>\n",
              "      <th>PACF</th>\n",
              "      <th>Breusch-Pagan LM Statistic</th>\n",
              "      <th>Breusch-Pagan p-value</th>\n",
              "      <th>Heteroscedasticity</th>\n",
              "      <th>Shapiro-Wilk p-value</th>\n",
              "      <th>Jarque-Bera p-value</th>\n",
              "      <th>D'Agostino p-value</th>\n",
              "      <th>Normality</th>\n",
              "      <th>Durbin-Watson Statistic</th>\n",
              "      <th>No Autocorrelation</th>\n",
              "    </tr>\n",
              "    <tr>\n",
              "      <th>Variable</th>\n",
              "      <th></th>\n",
              "      <th></th>\n",
              "      <th></th>\n",
              "      <th></th>\n",
              "      <th></th>\n",
              "      <th></th>\n",
              "      <th></th>\n",
              "      <th></th>\n",
              "      <th></th>\n",
              "      <th></th>\n",
              "      <th></th>\n",
              "      <th></th>\n",
              "      <th></th>\n",
              "      <th></th>\n",
              "    </tr>\n",
              "  </thead>\n",
              "  <tbody>\n",
              "    <tr>\n",
              "      <th>sul</th>\n",
              "      <td>-4.519612</td>\n",
              "      <td>1.812027e-04</td>\n",
              "      <td>True</td>\n",
              "      <td>Plotted</td>\n",
              "      <td>Plotted</td>\n",
              "      <td>0.220133</td>\n",
              "      <td>0.638938</td>\n",
              "      <td>False</td>\n",
              "      <td>0.016350</td>\n",
              "      <td>0.070169</td>\n",
              "      <td>5.485988e-02</td>\n",
              "      <td>False</td>\n",
              "      <td>1.189821</td>\n",
              "      <td>False</td>\n",
              "    </tr>\n",
              "    <tr>\n",
              "      <th>sudeste</th>\n",
              "      <td>-8.634555</td>\n",
              "      <td>5.636662e-14</td>\n",
              "      <td>True</td>\n",
              "      <td>Plotted</td>\n",
              "      <td>Plotted</td>\n",
              "      <td>5.859897</td>\n",
              "      <td>0.015490</td>\n",
              "      <td>True</td>\n",
              "      <td>0.036443</td>\n",
              "      <td>0.486862</td>\n",
              "      <td>3.420506e-01</td>\n",
              "      <td>False</td>\n",
              "      <td>2.493494</td>\n",
              "      <td>True</td>\n",
              "    </tr>\n",
              "    <tr>\n",
              "      <th>norte</th>\n",
              "      <td>-5.638222</td>\n",
              "      <td>1.051057e-06</td>\n",
              "      <td>True</td>\n",
              "      <td>Plotted</td>\n",
              "      <td>Plotted</td>\n",
              "      <td>0.257126</td>\n",
              "      <td>0.612101</td>\n",
              "      <td>False</td>\n",
              "      <td>0.001055</td>\n",
              "      <td>0.109855</td>\n",
              "      <td>8.613815e-08</td>\n",
              "      <td>False</td>\n",
              "      <td>1.863521</td>\n",
              "      <td>True</td>\n",
              "    </tr>\n",
              "    <tr>\n",
              "      <th>nordeste</th>\n",
              "      <td>-1.092971</td>\n",
              "      <td>7.178667e-01</td>\n",
              "      <td>False</td>\n",
              "      <td>Plotted</td>\n",
              "      <td>Plotted</td>\n",
              "      <td>0.608774</td>\n",
              "      <td>0.435250</td>\n",
              "      <td>False</td>\n",
              "      <td>0.025868</td>\n",
              "      <td>0.214596</td>\n",
              "      <td>1.296490e-01</td>\n",
              "      <td>False</td>\n",
              "      <td>0.697791</td>\n",
              "      <td>False</td>\n",
              "    </tr>\n",
              "    <tr>\n",
              "      <th>centro_oeste</th>\n",
              "      <td>-6.852596</td>\n",
              "      <td>1.679432e-09</td>\n",
              "      <td>True</td>\n",
              "      <td>Plotted</td>\n",
              "      <td>Plotted</td>\n",
              "      <td>18.121581</td>\n",
              "      <td>0.000021</td>\n",
              "      <td>True</td>\n",
              "      <td>0.001002</td>\n",
              "      <td>0.127361</td>\n",
              "      <td>2.874248e-06</td>\n",
              "      <td>False</td>\n",
              "      <td>1.932851</td>\n",
              "      <td>True</td>\n",
              "    </tr>\n",
              "  </tbody>\n",
              "</table>\n",
              "</div>"
            ],
            "text/plain": [
              "              ADF Statistic   ADF p-value  ADF Stationary      ACF     PACF  \\\n",
              "Variable                                                                      \n",
              "sul               -4.519612  1.812027e-04            True  Plotted  Plotted   \n",
              "sudeste           -8.634555  5.636662e-14            True  Plotted  Plotted   \n",
              "norte             -5.638222  1.051057e-06            True  Plotted  Plotted   \n",
              "nordeste          -1.092971  7.178667e-01           False  Plotted  Plotted   \n",
              "centro_oeste      -6.852596  1.679432e-09            True  Plotted  Plotted   \n",
              "\n",
              "              Breusch-Pagan LM Statistic  Breusch-Pagan p-value  \\\n",
              "Variable                                                          \n",
              "sul                             0.220133               0.638938   \n",
              "sudeste                         5.859897               0.015490   \n",
              "norte                           0.257126               0.612101   \n",
              "nordeste                        0.608774               0.435250   \n",
              "centro_oeste                   18.121581               0.000021   \n",
              "\n",
              "              Heteroscedasticity  Shapiro-Wilk p-value  Jarque-Bera p-value  \\\n",
              "Variable                                                                      \n",
              "sul                        False              0.016350             0.070169   \n",
              "sudeste                     True              0.036443             0.486862   \n",
              "norte                      False              0.001055             0.109855   \n",
              "nordeste                   False              0.025868             0.214596   \n",
              "centro_oeste                True              0.001002             0.127361   \n",
              "\n",
              "              D'Agostino p-value  Normality  Durbin-Watson Statistic  \\\n",
              "Variable                                                               \n",
              "sul                 5.485988e-02      False                 1.189821   \n",
              "sudeste             3.420506e-01      False                 2.493494   \n",
              "norte               8.613815e-08      False                 1.863521   \n",
              "nordeste            1.296490e-01      False                 0.697791   \n",
              "centro_oeste        2.874248e-06      False                 1.932851   \n",
              "\n",
              "              No Autocorrelation  \n",
              "Variable                          \n",
              "sul                        False  \n",
              "sudeste                     True  \n",
              "norte                       True  \n",
              "nordeste                   False  \n",
              "centro_oeste                True  "
            ]
          },
          "execution_count": 3084,
          "metadata": {},
          "output_type": "execute_result"
        }
      ],
      "source": [
        "def run_pre_intervention_diagnostics(data, date_col, dependent_var, intervention_start_date):\n",
        "    \"\"\"\n",
        "    Realiza testes diagnósticos no período pré-intervenção.\n",
        "\n",
        "    Args:\n",
        "        data (pd.DataFrame): DataFrame contendo os dados.\n",
        "        date_col (str): Nome da coluna de datas.\n",
        "        dependent_var (str): Nome da variável dependente.\n",
        "        intervention_start_date (str): Data de início da intervenção (formato 'YYYY-MM-DD').\n",
        "\n",
        "    Returns:\n",
        "        dict: Resultados dos testes diagnósticos.\n",
        "    \"\"\"\n",
        "    import pandas as pd\n",
        "    import matplotlib.pyplot as plt\n",
        "    from statsmodels.tsa.stattools import adfuller\n",
        "    from statsmodels.graphics.tsaplots import plot_acf, plot_pacf\n",
        "    from statsmodels.stats.diagnostic import het_breuschpagan\n",
        "    from statsmodels.stats.stattools import durbin_watson\n",
        "    from scipy.stats import shapiro, jarque_bera, normaltest\n",
        "    import statsmodels.api as sm\n",
        "\n",
        "    # Filtrar o período pré-intervenção\n",
        "    pre_intervention_df = data[data[date_col] < pd.to_datetime(intervention_start_date)]\n",
        "\n",
        "    # Inicializar resultados\n",
        "    results = {}\n",
        "\n",
        "    # 1. Teste de Estacionariedade (ADF)\n",
        "    y = pre_intervention_df[dependent_var]\n",
        "    adf_result = adfuller(y)\n",
        "    results['ADF Statistic'] = adf_result[0]\n",
        "    results['ADF p-value'] = adf_result[1]\n",
        "    results['ADF Stationary'] = adf_result[1] < 0.05\n",
        "\n",
        "    # 2. Diagnóstico de Autocorrelação (ACF e PACF)\n",
        "    results['ACF'] = \"Plotted\"\n",
        "    results['PACF'] = \"Plotted\"\n",
        "\n",
        "    # 3. Teste de Heterocedasticidade (Breusch-Pagan)\n",
        "    X = sm.add_constant(pre_intervention_df.index)  # Índice como variável independente\n",
        "    model = sm.OLS(y, X).fit()\n",
        "    bp_test = het_breuschpagan(model.resid, X)\n",
        "    results['Breusch-Pagan LM Statistic'] = bp_test[0]\n",
        "    results['Breusch-Pagan p-value'] = bp_test[1]\n",
        "    results['Heteroscedasticity'] = bp_test[1] < 0.05\n",
        "\n",
        "    # 4. Testes de Normalidade dos Resíduos\n",
        "    shapiro_test = shapiro(model.resid)\n",
        "    jb_test = jarque_bera(model.resid)\n",
        "    dagostino_test = normaltest(model.resid)\n",
        "    results['Shapiro-Wilk p-value'] = shapiro_test.pvalue\n",
        "    results['Jarque-Bera p-value'] = jb_test[1]\n",
        "    results['D\\'Agostino p-value'] = dagostino_test.pvalue\n",
        "    results['Normality'] = all(p > 0.05 for p in [shapiro_test.pvalue, jb_test[1], dagostino_test.pvalue])\n",
        "\n",
        "    # 5. Teste de Autocorrelação (Durbin-Watson)\n",
        "    dw_stat = durbin_watson(model.resid)\n",
        "    results['Durbin-Watson Statistic'] = dw_stat\n",
        "    results['No Autocorrelation'] = 1.5 < dw_stat < 2.5\n",
        "\n",
        "    return results\n",
        "\n",
        "\n",
        "# Consolidar os resultados em um DataFrame\n",
        "diagnostics_results = []\n",
        "\n",
        "for variable in RegressionDF[GROUP_COL_NAME].unique():\n",
        "    print(f\"Analisando variável: {variable}\")\n",
        "    variable_df = RegressionDF[RegressionDF[GROUP_COL_NAME] == variable].copy()\n",
        "    diagnostics = run_pre_intervention_diagnostics(\n",
        "        data=variable_df,\n",
        "        date_col=DATE_NAME,\n",
        "        dependent_var=DEPENDENT_VAR,\n",
        "        intervention_start_date=PANDEMIA_START_DATE\n",
        "    )\n",
        "    diagnostics['Variable'] = variable  # Adicionar o nome da variável ao resultado\n",
        "    diagnostics_results.append(diagnostics)\n",
        "\n",
        "# Criar um DataFrame com os resultados\n",
        "diagnostics_df = pd.DataFrame(diagnostics_results)\n",
        "diagnostics_df.set_index('Variable', inplace=True)\n",
        "\n",
        "# Exibir o DataFrame\n",
        "diagnostics_df\n"
      ]
    },
    {
      "cell_type": "markdown",
      "metadata": {
        "id": "_lLzpByrMa6g"
      },
      "source": [
        "# Media movel "
      ]
    },
    {
      "cell_type": "code",
      "execution_count": 3085,
      "metadata": {
        "colab": {
          "base_uri": "https://localhost:8080/",
          "height": 1000
        },
        "id": "-DDe_bMWNIXb",
        "outputId": "3cca2b7a-d7ce-4e0a-abb7-4b6a9cb36edd"
      },
      "outputs": [],
      "source": [
        "import matplotlib.pyplot as plt\n",
        "\n",
        "\n",
        "\n",
        "moving_avg_pipe = Pipeline([\n",
        "    ('moving_average', MovingAverageTransformer(window=MOVING_WINDOW, prefix='ma', center=True)),\n",
        "    ]\n",
        "    )\n",
        "\n",
        "def plot_moving_average(df, column, ma_column=None, title='Moving Average Plot', date_column='date'):\n",
        "    \"\"\"\n",
        "    Plota a série temporal original junto com a média móvel.\n",
        "\n",
        "    df: DataFrame contendo os dados\n",
        "    column: nome da coluna original\n",
        "    ma_column: nome da coluna da média móvel (se None, assume padrão de 'ma_{window}_{column}')\n",
        "    title: título do gráfico\n",
        "    date_column: nome da coluna de data\n",
        "    \"\"\"\n",
        "    if ma_column is None:\n",
        "        ma_column = [col for col in df.columns if col.startswith('ma_') and col.endswith(column)]\n",
        "        if ma_column:\n",
        "            ma_column = ma_column[0]\n",
        "        else:\n",
        "            raise ValueError(\"Média móvel não encontrada. Verifique o nome da coluna.\")\n",
        "\n",
        "    df[date_column] = pd.to_datetime(df[date_column])  # Ensure datetime format\n",
        "\n",
        "    plt.figure(figsize=(12, 5))\n",
        "    plt.plot(df[date_column], df[column], label='Original', color='lightgray')\n",
        "    plt.plot(df[date_column], df[ma_column], label=f'{ma_column}', color='blue')\n",
        "    plt.title(title)\n",
        "    plt.xlabel('Data')\n",
        "    plt.ylabel(column)\n",
        "    plt.legend()\n",
        "    plt.grid(True)\n",
        "    plt.tight_layout()\n",
        "    plt.show()\n",
        "\n",
        "if PLOT_MEDIA_MOVEL:\n",
        "    for var in RegressionDF[GROUP_COL_NAME].unique():\n",
        "        var_df = RegressionDF[RegressionDF[GROUP_COL_NAME] == var]\n",
        "        #var_df = var_df.sort_values(by = INDEPENDENT_VAR, ascending=False)\n",
        "        #print(var_df)\n",
        "        #var_df = moving_avg_pipe.fit_transform(var_df)\n",
        "\n",
        "\n",
        "        plot_moving_average(var_df, column=DEPENDENT_VAR, ma_column=f'ma_{MOVING_WINDOW}_valores', title=f'Moving Average Plot for {var}')\n",
        "\n"
      ]
    },
    {
      "cell_type": "markdown",
      "metadata": {
        "id": "NPO_tituNIXb"
      },
      "source": [
        "# Get Period Date Map and Dummies Period Indexes"
      ]
    },
    {
      "cell_type": "code",
      "execution_count": 3086,
      "metadata": {},
      "outputs": [],
      "source": [
        "PERIOD_DATE_MAP = pipe.named_steps['period_index_adder'].period_date_mapping"
      ]
    },
    {
      "cell_type": "code",
      "execution_count": 3087,
      "metadata": {},
      "outputs": [],
      "source": [
        "def find_idx_from_date(target_date, args, period_date_map=PERIOD_DATE_MAP):\n",
        "    \"\"\"\n",
        "    Finds the 'periodo' (index) corresponding to a given datetime in the PERIOD_DATE_MAP.\n",
        "\n",
        "    Args:\n",
        "        target_date (str or datetime): The target date to search for (e.g., '2020-01-01').\n",
        "        period_date_map (dict): The PERIOD_DATE_MAP containing period-to-date mappings.\n",
        "\n",
        "    Returns:\n",
        "        int: The 'periodo' (index) corresponding to the target date, or None if not found.\n",
        "    \"\"\"\n",
        "    # Ensure the target_date is a datetime object and normalize to quarter-end\n",
        "    if isinstance(target_date, str):\n",
        "        target_date = pd.to_datetime(target_date)\n",
        "    if args['FrequencyDateGroup'] == 'Q' or args['FrequencyDateGroup'] == 'QE':\n",
        "        target_date = target_date + pd.offsets.QuarterEnd(0)\n",
        "\n",
        "    # Iterate through the PERIOD_DATE_MAP to find the matching period\n",
        "    for date, period in period_date_map.items():\n",
        "        if isinstance(date, str):\n",
        "            date = pd.to_datetime(date)\n",
        "        if args['FrequencyDateGroup'] == 'Q' or args['FrequencyDateGroup'] == 'QE':\n",
        "            date = date + pd.offsets.QuarterEnd(0) # Normalize to quarter-end\n",
        "        if date == target_date:\n",
        "            return period - 1\n",
        "\n",
        "    return None\n",
        "\n",
        "\n",
        "def find_date_from_idx(target_idx, args, period_date_map=PERIOD_DATE_MAP):\n",
        "    \"\"\"\n",
        "    Finds the date corresponding to a given 'periodo' (index) in the PERIOD_DATE_MAP.\n",
        "\n",
        "    Args:\n",
        "        target_idx (int): The target index to search for (e.g., 1, 2, 3).\n",
        "        period_date_map (dict): The PERIOD_DATE_MAP containing period-to-date mappings.\n",
        "\n",
        "    Returns:\n",
        "        datetime or None: The date corresponding to the target index, or None if not found.\n",
        "    \"\"\"\n",
        "    # Iterate through the PERIOD_DATE_MAP to find the matching index\n",
        "    for date, period in period_date_map.items():\n",
        "        if period == target_idx:\n",
        "            date = pd.to_datetime(date) if isinstance(date, str) else date\n",
        "            date = date + pd.offsets.QuarterEnd(0) if args['FrequencyDateGroup'] == 'Q' or args['FrequencyDateGroup'] == 'QE' else date\n",
        "            return date\n",
        "    return None"
      ]
    },
    {
      "cell_type": "code",
      "execution_count": 3088,
      "metadata": {},
      "outputs": [
        {
          "name": "stdout",
          "output_type": "stream",
          "text": [
            "Pandemia_Step {'start_date': '2020-04-01', 'end_date': '2022-03-01', 'exclude_ranges': []}\n",
            "Pandemia_Trend {'start_date': '2020-04-01', 'end_date': '2022-03-01', 'exclude_ranges': [], 'add_time_trend': True, 'keep_period_index': False}\n",
            "PosPandemia_Step {'start_date': '2022-04-01', 'end_date': '2024-12-01', 'exclude_ranges': [], 'plot': False, 'step': True}\n",
            "PosPandemia_Trend {'start_date': '2022-04-01', 'end_date': '2024-12-01', 'exclude_ranges': [], 'plot': True, 'add_time_trend': True, 'keep_period_index': False, 'step': False}\n"
          ]
        },
        {
          "data": {
            "text/plain": [
              "{'Pandemia_Step': {'start_index': 51, 'end_index': 74},\n",
              " 'Pandemia_Trend': {'start_index': 51, 'end_index': 74},\n",
              " 'PosPandemia_Step': {'start_index': 75, 'end_index': 107},\n",
              " 'PosPandemia_Trend': {'start_index': 75, 'end_index': 107}}"
            ]
          },
          "execution_count": 3088,
          "metadata": {},
          "output_type": "execute_result"
        }
      ],
      "source": [
        "DummyIndexes = {}\n",
        "\n",
        "# Iterate over DUMMY_ARGS to calculate and store indexes\n",
        "for dummy_name, config in DUMMY_ARGS.items():\n",
        "    start_date = config.get(\"start_date\")\n",
        "    end_date = config.get(\"end_date\")\n",
        "\n",
        "    print(dummy_name, config)\n",
        "    # Calculate indexes using find_idx_from_date\n",
        "    start_idx = find_idx_from_date(start_date, PREPROCESSOR_ARGS, PERIOD_DATE_MAP) if start_date else None\n",
        "    end_idx = find_idx_from_date(end_date, PREPROCESSOR_ARGS, PERIOD_DATE_MAP) if end_date else None\n",
        "\n",
        "    # Store the indexes in the table\n",
        "    DummyIndexes[dummy_name] = {\n",
        "        \"start_index\": start_idx,\n",
        "        \"end_index\": end_idx\n",
        "    }\n",
        "DummyIndexes"
      ]
    },
    {
      "cell_type": "markdown",
      "metadata": {
        "id": "r5VoKUSkNIXc"
      },
      "source": [
        "# OLD TRASH Exploration\n"
      ]
    },
    {
      "cell_type": "code",
      "execution_count": 3089,
      "metadata": {
        "colab": {
          "base_uri": "https://localhost:8080/"
        },
        "id": "FrrmqovhNIXc",
        "outputId": "cf6e41a5-4664-4203-b687-0b34fc159bc6"
      },
      "outputs": [],
      "source": [
        "from statsmodels.api import OLS\n",
        "from statsmodels.tools.tools import add_constant\n",
        "import pandas as pd\n",
        "from scipy.stats import f\n",
        "main_regrdf = RegressionDF.copy()\n",
        "def chow_test(data, split_point, dependent_var, independent_vars):\n",
        "    \"\"\"\n",
        "    Realiza o teste de Chow para verificar mudanças estruturais em um modelo de regressão.\n",
        "\n",
        "    Args:\n",
        "        data (pd.DataFrame): DataFrame contendo os dados.\n",
        "        split_point (int): Ponto de divisão para o teste de Chow.\n",
        "        dependent_var (str): Nome da variável dependente.\n",
        "        independent_vars (list): Lista de nomes das variáveis independentes.\n",
        "\n",
        "    Returns:\n",
        "        dict: Resultados do teste de Chow contendo os valores F e p.\n",
        "    \"\"\"\n",
        "    # Dividir os dados em dois subconjuntos\n",
        "    data1 = data[data['periodo'] <= split_point]\n",
        "    data2 = data[data['periodo'] > split_point]\n",
        "\n",
        "    # Ajustar os modelos para cada subconjunto\n",
        "    X1 = add_constant(data1[independent_vars])\n",
        "    y1 = data1[dependent_var]\n",
        "    model1 = OLS(y1, X1).fit()\n",
        "\n",
        "    X2 = add_constant(data2[independent_vars])\n",
        "    y2 = data2[dependent_var]\n",
        "    model2 = OLS(y2, X2).fit()\n",
        "\n",
        "    # Ajustar o modelo para o conjunto completo\n",
        "    X_full = add_constant(data[independent_vars])\n",
        "    y_full = data[dependent_var]\n",
        "    model_full = OLS(y_full, X_full).fit()\n",
        "\n",
        "    # Calcular os graus de liberdade\n",
        "    k = len(independent_vars) + 1  # Número de parâmetros (incluindo o intercepto)\n",
        "    n1 = len(data1)\n",
        "    n2 = len(data2)\n",
        "    n = n1 + n2\n",
        "\n",
        "    # Calcular a soma dos quadrados dos resíduos\n",
        "    RSS1 = model1.ssr\n",
        "    RSS2 = model2.ssr\n",
        "    RSS_full = model_full.ssr\n",
        "\n",
        "    # Calcular o valor F\n",
        "    F = ((RSS_full - (RSS1 + RSS2)) / k) / ((RSS1 + RSS2) / (n - 2 * k))\n",
        "\n",
        "    # Calcular o p-valor\n",
        "    p_value = 1 - f.cdf(F, k, n - 2 * k)\n",
        "\n",
        "    return {\"F-statistic\": F, \"p-value\": p_value}\n",
        "\n",
        "\n",
        "if False:\n",
        "    chow_results = {}\n",
        "    split_point = find_idx_from_date(POS_PANDEMIA_START_DATE, PREPROCESSOR_ARGS)  # Exemplo: ponto de divisão para o teste de Chow\n",
        "    dependent_var = DEPENDENT_VAR\n",
        "    independent_vars = [INDEPENDENT_VAR] #+ [key for key in DUMMY_ARGS.keys()]\n",
        "    for variable in main_regrdf[GROUP_COL_NAME].unique():\n",
        "        variable_data = main_regrdf[main_regrdf[GROUP_COL_NAME] == variable]\n",
        "        result = chow_test(variable_data, split_point, dependent_var, independent_vars)\n",
        "        chow_results[variable] = result\n",
        "    # Converter os resultados em um DataFrame para visualização\n",
        "    chow_results_df = pd.DataFrame(chow_results).T\n",
        "    chow_results_df.columns = [\"F-statistic\", \"p-value\"]\n",
        "    chow_results_df['p-value'] = chow_results_df['p-value'].round(8)\n",
        "    print(chow_results_df)"
      ]
    },
    {
      "cell_type": "code",
      "execution_count": 3090,
      "metadata": {
        "colab": {
          "base_uri": "https://localhost:8080/"
        },
        "id": "lyS4l0t8NIXc",
        "outputId": "87c30dda-28b3-48d9-8f50-7f23fa6ec0f4"
      },
      "outputs": [
        {
          "name": "stdout",
          "output_type": "stream",
          "text": [
            "[  1.          51.99999947 108.        ]\n",
            "2016-01-01 00:00:00\n",
            "2020-04-01 00:00:00\n",
            "2024-12-01 00:00:00\n"
          ]
        }
      ],
      "source": [
        "### TODO: make the knots per variable\n",
        "### TODO: remove the bumps/step_dummies before testing\n",
        "\n",
        "pwmodel = pwlf.PiecewiseLinFit(main_regrdf[INDEPENDENT_VAR].values,main_regrdf[DEPENDENT_VAR].values)\n",
        "knots = pwmodel.fit(2)\n",
        "print(knots)\n",
        "for knot in knots:\n",
        "    print(find_date_from_idx(np.round(knot), PREPROCESSOR_ARGS, PERIOD_DATE_MAP))"
      ]
    },
    {
      "cell_type": "code",
      "execution_count": 3091,
      "metadata": {
        "colab": {
          "base_uri": "https://localhost:8080/",
          "height": 651
        },
        "id": "WJ_UKYslNIXc",
        "outputId": "ad4e0f72-aee3-43a3-e425-f46be70f892b"
      },
      "outputs": [
        {
          "name": "stdout",
          "output_type": "stream",
          "text": [
            "              Heteroscedasticity (Breusch-Pagan)  Normality (Shapiro-Wilk)  \\\n",
            "sul                                     0.164576                  0.000018   \n",
            "sudeste                                 0.750972                  0.011323   \n",
            "norte                                   0.000316                  0.303066   \n",
            "nordeste                                0.224652                  0.533839   \n",
            "centro_oeste                            0.616810                  0.162942   \n",
            "\n",
            "              Normality (Jarque-Bera)  Normality (D'Agostino)  \\\n",
            "sul                      3.832472e-17                0.000152   \n",
            "sudeste                  9.731833e-05                0.003396   \n",
            "norte                    1.520846e-01                0.175068   \n",
            "nordeste                 8.921544e-01                0.782065   \n",
            "centro_oeste             6.499785e-01                0.505295   \n",
            "\n",
            "              Autocorrelation (Durbin-Watson)  Autocorrelation (Ljung-Box)  \n",
            "sul                                  0.662502                 1.694655e-19  \n",
            "sudeste                              0.473111                 1.677197e-41  \n",
            "norte                                0.406020                 5.485827e-37  \n",
            "nordeste                             0.591856                 2.022385e-28  \n",
            "centro_oeste                         0.446845                 3.788040e-40  \n"
          ]
        }
      ],
      "source": [
        "import pandas as pd\n",
        "import numpy as np\n",
        "from statsmodels.stats.diagnostic import het_breuschpagan, acorr_ljungbox\n",
        "from statsmodels.stats.stattools import durbin_watson\n",
        "from scipy.stats import shapiro, normaltest, jarque_bera\n",
        "import statsmodels.api as sm\n",
        "\n",
        "def analyze_time_series(df: pd.DataFrame, variable_col: str, date_col: str, value_col: str):\n",
        "    \"\"\"\n",
        "    Analyzes a melted DataFrame for heteroscedasticity, distribution, and autocorrelation.\n",
        "\n",
        "    Parameters:\n",
        "        df (pd.DataFrame): Melted DataFrame with columns for variable, date, and value.\n",
        "        variable_col (str): Column name for the variable identifier.\n",
        "        date_col (str): Column name for the date.\n",
        "        value_col (str): Column name for the value.\n",
        "\n",
        "    Returns:\n",
        "        dict: A dictionary with analysis results for each variable.\n",
        "    \"\"\"\n",
        "    results = {}\n",
        "\n",
        "    for variable in df[variable_col].unique():\n",
        "        # Filter data for the current variable\n",
        "        variable_data = df[df[variable_col] == variable].sort_values(by=date_col)\n",
        "        y = variable_data[value_col].values\n",
        "        x = np.arange(len(y))  # Time index as independent variable\n",
        "\n",
        "        # Add constant for regression\n",
        "        X = sm.add_constant(x)\n",
        "\n",
        "        # Fit OLS model\n",
        "        model = sm.OLS(y, X).fit()\n",
        "\n",
        "        # Heteroscedasticity tests\n",
        "        bp_test = het_breuschpagan(model.resid, X)\n",
        "        bp_pvalue = bp_test[1]\n",
        "\n",
        "        # Normality tests\n",
        "        shapiro_test = shapiro(model.resid)\n",
        "        shapiro_pvalue = shapiro_test.pvalue\n",
        "\n",
        "        jb_test = jarque_bera(model.resid)\n",
        "        jb_pvalue = jb_test[1]\n",
        "\n",
        "        dagostino_test = normaltest(model.resid)\n",
        "        dagostino_pvalue = dagostino_test.pvalue\n",
        "\n",
        "        # Autocorrelation tests\n",
        "        dw_stat = durbin_watson(model.resid)\n",
        "        ljungbox_test = acorr_ljungbox(model.resid, lags=[10], return_df=True)\n",
        "        ljungbox_pvalue = ljungbox_test['lb_pvalue'].iloc[0]\n",
        "\n",
        "        # Store results\n",
        "        results[variable] = {\n",
        "            \"Heteroscedasticity (Breusch-Pagan)\": bp_pvalue,\n",
        "            \"Normality (Shapiro-Wilk)\": shapiro_pvalue,\n",
        "            \"Normality (Jarque-Bera)\": jb_pvalue,\n",
        "            \"Normality (D'Agostino)\": dagostino_pvalue,\n",
        "            \"Autocorrelation (Durbin-Watson)\": dw_stat,\n",
        "            \"Autocorrelation (Ljung-Box)\": ljungbox_pvalue,\n",
        "        }\n",
        "\n",
        "    return results\n",
        "\n",
        "explorationresults = analyze_time_series(main_regrdf, GROUP_COL_NAME, DATE_NAME, DEPENDENT_VAR)\n",
        "explorationresultsDF = pd.DataFrame(explorationresults).T\n",
        "print(explorationresultsDF)"
      ]
    },
    {
      "cell_type": "markdown",
      "metadata": {
        "id": "K8HZg-VlNIXd"
      },
      "source": [
        "# Define Exporter"
      ]
    },
    {
      "cell_type": "code",
      "execution_count": 3092,
      "metadata": {
        "id": "BF1tmE8pNIXd"
      },
      "outputs": [],
      "source": [
        "def export_results(results, output_path, processor_args, preprocessor_args, output_gsheet = None):\n",
        "    \"\"\"\n",
        "    Exports the regression results and metadata to an Excel file.\n",
        "\n",
        "    Args:\n",
        "        results (dict): Dictionary containing regression results.\n",
        "        output_path (str): Path to the output Excel file.\n",
        "        processor_args (dict): Dictionary containing processor arguments.\n",
        "        preprocessor_args (dict): Dictionary containing preprocessor arguments.\n",
        "    \"\"\"\n",
        "    def extract_durbin_watson_from_summary(result):\n",
        "        summary_text = result.summary().as_text()\n",
        "        for line in summary_text.split('\\n'):\n",
        "            if \"Durbin-Watson\" in line:\n",
        "                return float(line.split()[-1])  # Extract the last value in the line\n",
        "        return None  # Return None if not found\n",
        "\n",
        "\n",
        "    def try_create_worksheet(output_gsheet, title: str) -> None:\n",
        "        if output_gsheet:\n",
        "            try:\n",
        "                output_gsheet.worksheet(title)\n",
        "            except gspread.exceptions.WorksheetNotFound:\n",
        "                output_gsheet.add_worksheet(title=title, rows=\"100\", cols=\"20\")\n",
        "\n",
        "\n",
        "    stats_data = []\n",
        "    coefficients_data = []\n",
        "\n",
        "    for variable, result in results.items():\n",
        "        # Extract coefficients\n",
        "        coefficients = result.params\n",
        "        coef_row = {\"Variable\": variable}\n",
        "        for coef_name, coef_value in coefficients.items():\n",
        "            coef_row[f\"{coef_name}__Value\"] = round(coef_value, 7)\n",
        "            coef_row[f\"{coef_name}__Value_%_intercept\"] = coef_value/result.params['Intercept']*100\n",
        "            coef_row[f\"{coef_name}__P-Value\"] = round(result.pvalues.get(coef_name, np.nan), 7)\n",
        "            coef_row[f\"{coef_name}__Std Err\"] = round(result.bse.get(coef_name, np.nan), 7)\n",
        "            coef_row[f\"{coef_name}__Significant\"] = result.pvalues.get(coef_name, np.nan) < 0.05  # At 5% significance\n",
        "        coefficients_data.append(coef_row)\n",
        "\n",
        "        # Extract other statistics\n",
        "        stats_data.append({\n",
        "            \"Variable\": variable,\n",
        "            \"R-Squared\": round(result.rsquared, 7),\n",
        "            \"Adjusted R-Squared\": round(result.rsquared_adj, 7),\n",
        "            \"Durbin-Watson\": round(extract_durbin_watson_from_summary(result), 7),\n",
        "            \"AIC\": round(result.aic, 7),\n",
        "            \"BIC\": round(result.bic, 7),\n",
        "            \"Number of Observations\": result.nobs,\n",
        "            \"F-Value\": round(result.fvalue, 7) if result.fvalue is not None else np.nan,\n",
        "            \"F P-Value\": round(result.f_pvalue, 7) if result.f_pvalue is not None else np.nan,\n",
        "            \"Log-Likelihood\": round(result.llf, 7),\n",
        "            \"Condition Number\": round(result.condition_number, 7) if result.condition_number is not None else np.nan\n",
        "        })\n",
        "\n",
        "    # Convert to DataFrames\n",
        "    coefficients_df = pd.DataFrame(coefficients_data).set_index(\"Variable\")\n",
        "    stats_df = pd.DataFrame(stats_data).set_index(\"Variable\")\n",
        "\n",
        "    # Prepare metadata\n",
        "    metadata = {\n",
        "        \"Processor Args\": [str(processor_args)],\n",
        "        \"Preprocessor Args\": [str(preprocessor_args)]\n",
        "    }\n",
        "    metadata_df = pd.DataFrame(metadata)\n",
        "\n",
        "    # Write to gsheet\n",
        "    if output_gsheet is not None:\n",
        "        for title, clean_df, include_index in [\n",
        "            (\"Coefficients\", coefficients_df, True),\n",
        "            (\"Statistics\", stats_df, True),\n",
        "            (\"Metadata\", metadata_df, False)\n",
        "        ]:\n",
        "            try_create_worksheet(title=title, output_gsheet=output_gsheet)\n",
        "            ws = output_gsheet.worksheet(title)\n",
        "            ws.clear()\n",
        "            set_with_dataframe(ws, clean_df, include_index=include_index)\n",
        "    # Write to Excel\n",
        "    else:\n",
        "       file_exists = os.path.exists(output_path)\n",
        "\n",
        "               # Attempt to open file and catch PermissionError if the file is open elsewhere\n",
        "       if file_exists:\n",
        "           while True:\n",
        "               try:\n",
        "                   with pd.ExcelWriter(output_path) as writer:\n",
        "                       # Write coefficients to one sheet\n",
        "                       coefficients_df.to_excel(writer, sheet_name=\"Coefficients\")\n",
        "\n",
        "                       # Write other stats to another sheet\n",
        "                       stats_df.to_excel(writer, sheet_name=\"Statistics\")\n",
        "\n",
        "                       # Write metadata to another sheet\n",
        "                       metadata_df.to_excel(writer, sheet_name=\"Metadata\", index=False)\n",
        "                   # Load the workbook to apply formatting\n",
        "                   workbook = load_workbook(output_path)\n",
        "                   if \"Residuals\" not in workbook.sheetnames:\n",
        "                       workbook.create_sheet(\"Residuals\")\n",
        "                       residuals_sheet = workbook[\"Residuals\"]\n",
        "\n",
        "                   # Plot residuals for each variable and add them to the Residuals sheet\n",
        "                   for idx, (variable, result) in enumerate(results.items(), start=1):\n",
        "                       # Create a plot of residuals\n",
        "                       plt.figure(figsize=(6, 4))\n",
        "                       plt.scatter(range(len(result.resid)), result.resid, alpha=0.7)\n",
        "                       plt.axhline(0, color=\"red\", linestyle=\"--\", linewidth=1)\n",
        "                       plt.title(f\"Residuals for {variable}\")\n",
        "                       plt.xlabel(\"Observation\")\n",
        "                       plt.ylabel(\"Residuals\")\n",
        "                       plt.tight_layout()\n",
        "\n",
        "                       # Save the plot to a BytesIO object\n",
        "                       img_data = BytesIO()\n",
        "                       plt.savefig(img_data, format=\"png\")\n",
        "                       plt.close()\n",
        "                       img_data.seek(0)\n",
        "\n",
        "                       # Add the image to the Excel sheet\n",
        "                       img = Image(img_data)\n",
        "                       img.anchor = f\"A{idx * 20}\"  # Adjust the position of the image\n",
        "                       residuals_sheet.add_image(img)\n",
        "\n",
        "                   for sheet_name in [\"Coefficients\", \"Statistics\", \"Metadata\"]:\n",
        "                       if sheet_name in workbook.sheetnames:\n",
        "                           sheet = workbook[sheet_name]\n",
        "\n",
        "                           # Enable text wrapping and adjust row heights\n",
        "                           for row in sheet.iter_rows():\n",
        "                               for cell in row:\n",
        "                                   cell.alignment = Alignment(wrap_text=True)  # Enable text wrapping\n",
        "                               # Adjust row height\n",
        "                               sheet.row_dimensions[row[0].row].height = 25  # Set row height to 25 (adjust as needed)\n",
        "\n",
        "                   # Save the formatted workbook\n",
        "                   workbook.save(output_path)\n",
        "                   break  # Exit the loop if writing succeeds\n",
        "               except PermissionError:\n",
        "                   #logger.warning(f\"File '{output_path}' is currently open. Please close the file and press Enter to try again.\")\n",
        "                   input(\"Press Enter after closing the file...\")\n",
        "                   time.sleep(5)  # Optional: wait before retrying\n"
      ]
    },
    {
      "cell_type": "markdown",
      "metadata": {},
      "source": [
        "# Define Group Iterator"
      ]
    },
    {
      "cell_type": "code",
      "execution_count": 3093,
      "metadata": {},
      "outputs": [],
      "source": [
        "def find_best_Rho(processor_class, variable_data, variable_processor_args, fit_args):\n",
        "            best_rho = 1.0\n",
        "            best_criterion_value = np.inf\n",
        "            test_variable_processor_args = copy.deepcopy(variable_processor_args)\n",
        "            test_variable_processor_args['rho'] = None  # Set rho to None for testing\n",
        "            result = None\n",
        "\n",
        "            for rho in np.arange(\n",
        "                FIND_BEST_RHO_ARGS['start'],\n",
        "                FIND_BEST_RHO_ARGS['stop'],\n",
        "                FIND_BEST_RHO_ARGS['step']\n",
        "            ):\n",
        "                test_variable_processor_args['rho'] = rho\n",
        "                test_processor = processor_class(data=variable_data, **test_variable_processor_args)\n",
        "                if hasattr(test_processor, \"iterative_fit\"):\n",
        "                    test_results = test_processor.iterative_fit(**fit_args)\n",
        "                else:\n",
        "                    test_results = test_processor.fit(**fit_args)\n",
        "                test_results = test_processor.iterative_fit(**fit_args)\n",
        "                criterion_value = getattr(test_results, FIND_BEST_RHO_ARGS['criterio'])\n",
        "                if criterion_value < best_criterion_value:\n",
        "                    best_criterion_value = criterion_value\n",
        "                    best_rho = rho\n",
        "                    result = test_results\n",
        "            return result\n",
        "            "
      ]
    },
    {
      "cell_type": "code",
      "execution_count": 3094,
      "metadata": {},
      "outputs": [],
      "source": [
        "def process_groups_with_processor(dataframe, group_col, date_col, processor_class, processor_args):\n",
        "    \"\"\"\n",
        "    Processes variables in a DataFrame using a specified processor class and arguments.\n",
        "\n",
        "    Args:\n",
        "        dataframe (pd.DataFrame): The input DataFrame containing the data.\n",
        "        group_col (str): The column name used to group the data.\n",
        "        date_col (str): The column name containing the date information.\n",
        "        processor_class (class): The processor class to be used (e.g., GEEProcessor).\n",
        "        processor_args (dict): Arguments to be passed to the processor class.\n",
        "        max_iter (int): Maximum number of iterations for the processor's fit method.\n",
        "\n",
        "    Returns:\n",
        "        dict: A dictionary containing the results for each variable.\n",
        "    \"\"\"\n",
        "\n",
        "\n",
        "    results = {}\n",
        "    for variable in dataframe[group_col].unique():\n",
        "        variable_data = dataframe[dataframe[group_col] == variable].sort_values(by=date_col)\n",
        "        variable_data = variable_data.reset_index(drop=True)\n",
        "        variable_processor_args = copy.deepcopy(processor_args)\n",
        "        fit_args = {}\n",
        "        if 'fit_args' in variable_processor_args:\n",
        "            fit_args = variable_processor_args['fit_args']\n",
        "            del variable_processor_args['fit_args']\n",
        "\n",
        "        #print(variable_processor_args)\n",
        "        \n",
        "        if 'groups' in variable_processor_args and variable_processor_args['groups'] == 'define per variable':\n",
        "            variable_processor_args['groups'] = np.arange(len(variable_data))\n",
        "\n",
        "        if 'offset' in variable_processor_args and variable_processor_args['offset'] == 'define per variable':\n",
        "            variable_processor_args['offset'] = variable_data['offset']\n",
        "\n",
        "        if 'rho' in variable_processor_args and variable_processor_args['rho'] == 'define per variable':\n",
        "            result = find_best_Rho(processor_class, variable_data, variable_processor_args, fit_args=fit_args)\n",
        "        else:  \n",
        "            # Instantiate the processor with the provided arguments\n",
        "            processor = processor_class(data=variable_data, **variable_processor_args)\n",
        "            if hasattr(processor, \"iterative_fit\"):\n",
        "                result = processor.fit(**fit_args)\n",
        "            else:\n",
        "                result = processor.fit(**fit_args)\n",
        "        \n",
        "        # Store the results\n",
        "        results[variable] = result\n",
        "        \n",
        "        # Print the summary\n",
        "        print(f\"Results for {variable}:\")\n",
        "        print(result.summary())\n",
        "    \n",
        "    return results"
      ]
    },
    {
      "cell_type": "markdown",
      "metadata": {
        "id": "053Sj2c1NIXe"
      },
      "source": [
        "# EXEC --- Instantiate Processor and Process/Export"
      ]
    },
    {
      "cell_type": "code",
      "execution_count": 3095,
      "metadata": {},
      "outputs": [
        {
          "name": "stdout",
          "output_type": "stream",
          "text": [
            "Results for sul:\n",
            "                           GLSAR Regression Results                           \n",
            "==============================================================================\n",
            "Dep. Variable:                     IR   R-squared:                       0.412\n",
            "Model:                          GLSAR   Adj. R-squared:                  0.371\n",
            "Method:                 Least Squares   F-statistic:                     13.33\n",
            "Date:                seg, 28 abr 2025   Prob (F-statistic):           5.23e-12\n",
            "Time:                        00:12:19   Log-Likelihood:                -180.64\n",
            "No. Observations:                 107   AIC:                             377.3\n",
            "Df Residuals:                      99   BIC:                             398.7\n",
            "Df Model:                           7                                         \n",
            "Covariance Type:                  HAC                                         \n",
            "=====================================================================================\n",
            "                        coef    std err          z      P>|z|      [0.025      0.975]\n",
            "-------------------------------------------------------------------------------------\n",
            "Intercept            23.7958      0.439     54.231      0.000      22.936      24.656\n",
            "periodo               0.0516      0.018      2.844      0.004       0.016       0.087\n",
            "Pandemia_Step         4.9064      1.221      4.017      0.000       2.513       7.300\n",
            "Pandemia_Trend       -0.3112      0.095     -3.281      0.001      -0.497      -0.125\n",
            "PosPandemia_Step     -2.0929      1.510     -1.386      0.166      -5.052       0.866\n",
            "PosPandemia_Trend     0.1339      0.055      2.413      0.016       0.025       0.243\n",
            "cos1                  0.0386      0.128      0.302      0.762      -0.212       0.289\n",
            "sin1                 -0.2380      0.089     -2.664      0.008      -0.413      -0.063\n",
            "==============================================================================\n",
            "Omnibus:                       46.174   Durbin-Watson:                   1.825\n",
            "Prob(Omnibus):                  0.000   Jarque-Bera (JB):              215.677\n",
            "Skew:                          -1.326   Prob(JB):                     1.47e-47\n",
            "Kurtosis:                       9.430   Cond. No.                         422.\n",
            "==============================================================================\n",
            "\n",
            "Notes:\n",
            "[1] Standard Errors are heteroscedasticity and autocorrelation robust (HAC) using 4 lags and without small sample correction\n",
            "Results for sudeste:\n",
            "                           GLSAR Regression Results                           \n",
            "==============================================================================\n",
            "Dep. Variable:                     IR   R-squared:                       0.902\n",
            "Model:                          GLSAR   Adj. R-squared:                  0.895\n",
            "Method:                 Least Squares   F-statistic:                     197.8\n",
            "Date:                seg, 28 abr 2025   Prob (F-statistic):           3.04e-55\n",
            "Time:                        00:12:22   Log-Likelihood:                -168.26\n",
            "No. Observations:                 107   AIC:                             352.5\n",
            "Df Residuals:                      99   BIC:                             373.9\n",
            "Df Model:                           7                                         \n",
            "Covariance Type:                  HAC                                         \n",
            "=====================================================================================\n",
            "                        coef    std err          z      P>|z|      [0.025      0.975]\n",
            "-------------------------------------------------------------------------------------\n",
            "Intercept             9.7359      0.477     20.420      0.000       8.801      10.670\n",
            "periodo               0.2988      0.017     17.554      0.000       0.265       0.332\n",
            "Pandemia_Step         4.3011      1.101      3.906      0.000       2.143       6.459\n",
            "Pandemia_Trend       -0.3986      0.075     -5.291      0.000      -0.546      -0.251\n",
            "PosPandemia_Step     -4.9499      1.052     -4.705      0.000      -7.012      -2.888\n",
            "PosPandemia_Trend    -0.1106      0.036     -3.043      0.002      -0.182      -0.039\n",
            "cos1                  0.0482      0.110      0.438      0.661      -0.167       0.264\n",
            "sin1                 -0.1571      0.092     -1.701      0.089      -0.338       0.024\n",
            "==============================================================================\n",
            "Omnibus:                       53.630   Durbin-Watson:                   1.663\n",
            "Prob(Omnibus):                  0.000   Jarque-Bera (JB):              318.280\n",
            "Skew:                          -1.491   Prob(JB):                     7.70e-70\n",
            "Kurtosis:                      10.906   Cond. No.                         432.\n",
            "==============================================================================\n",
            "\n",
            "Notes:\n",
            "[1] Standard Errors are heteroscedasticity and autocorrelation robust (HAC) using 4 lags and without small sample correction\n",
            "Results for norte:\n",
            "                           GLSAR Regression Results                           \n",
            "==============================================================================\n",
            "Dep. Variable:                     IR   R-squared:                       0.856\n",
            "Model:                          GLSAR   Adj. R-squared:                  0.846\n",
            "Method:                 Least Squares   F-statistic:                     195.9\n",
            "Date:                seg, 28 abr 2025   Prob (F-statistic):           4.78e-55\n",
            "Time:                        00:12:25   Log-Likelihood:                -128.71\n",
            "No. Observations:                 107   AIC:                             273.4\n",
            "Df Residuals:                      99   BIC:                             294.8\n",
            "Df Model:                           7                                         \n",
            "Covariance Type:                  HAC                                         \n",
            "=====================================================================================\n",
            "                        coef    std err          z      P>|z|      [0.025      0.975]\n",
            "-------------------------------------------------------------------------------------\n",
            "Intercept             5.0362      0.424     11.891      0.000       4.206       5.866\n",
            "periodo               0.1308      0.015      8.929      0.000       0.102       0.159\n",
            "Pandemia_Step         2.0240      1.292      1.567      0.117      -0.508       4.556\n",
            "Pandemia_Trend       -0.1064      0.080     -1.337      0.181      -0.262       0.050\n",
            "PosPandemia_Step     -0.4341      0.911     -0.476      0.634      -2.220       1.352\n",
            "PosPandemia_Trend     0.1993      0.031      6.464      0.000       0.139       0.260\n",
            "cos1                 -0.1532      0.075     -2.035      0.042      -0.301      -0.006\n",
            "sin1                 -0.0722      0.067     -1.082      0.279      -0.203       0.059\n",
            "==============================================================================\n",
            "Omnibus:                        9.426   Durbin-Watson:                   1.618\n",
            "Prob(Omnibus):                  0.009   Jarque-Bera (JB):               16.220\n",
            "Skew:                           0.317   Prob(JB):                     0.000301\n",
            "Kurtosis:                       4.799   Cond. No.                         410.\n",
            "==============================================================================\n",
            "\n",
            "Notes:\n",
            "[1] Standard Errors are heteroscedasticity and autocorrelation robust (HAC) using 4 lags and without small sample correction\n",
            "Results for nordeste:\n",
            "                           GLSAR Regression Results                           \n",
            "==============================================================================\n",
            "Dep. Variable:                     IR   R-squared:                       0.953\n",
            "Model:                          GLSAR   Adj. R-squared:                  0.950\n",
            "Method:                 Least Squares   F-statistic:                     559.3\n",
            "Date:                seg, 28 abr 2025   Prob (F-statistic):           1.36e-76\n",
            "Time:                        00:12:28   Log-Likelihood:                -159.85\n",
            "No. Observations:                 107   AIC:                             335.7\n",
            "Df Residuals:                      99   BIC:                             357.1\n",
            "Df Model:                           7                                         \n",
            "Covariance Type:                  HAC                                         \n",
            "=====================================================================================\n",
            "                        coef    std err          z      P>|z|      [0.025      0.975]\n",
            "-------------------------------------------------------------------------------------\n",
            "Intercept             4.7139      0.356     13.251      0.000       4.017       5.411\n",
            "periodo               0.1880      0.017     11.024      0.000       0.155       0.221\n",
            "Pandemia_Step         5.1867      0.781      6.642      0.000       3.656       6.717\n",
            "Pandemia_Trend       -0.1095      0.062     -1.761      0.078      -0.231       0.012\n",
            "PosPandemia_Step      2.9800      1.214      2.455      0.014       0.601       5.359\n",
            "PosPandemia_Trend     0.2100      0.041      5.148      0.000       0.130       0.290\n",
            "cos1                 -0.1536      0.105     -1.464      0.143      -0.359       0.052\n",
            "sin1                 -0.1402      0.083     -1.688      0.091      -0.303       0.023\n",
            "==============================================================================\n",
            "Omnibus:                       10.313   Durbin-Watson:                   1.752\n",
            "Prob(Omnibus):                  0.006   Jarque-Bera (JB):               16.146\n",
            "Skew:                           0.413   Prob(JB):                     0.000312\n",
            "Kurtosis:                       4.714   Cond. No.                         437.\n",
            "==============================================================================\n",
            "\n",
            "Notes:\n",
            "[1] Standard Errors are heteroscedasticity and autocorrelation robust (HAC) using 4 lags and without small sample correction\n",
            "Results for centro_oeste:\n",
            "                           GLSAR Regression Results                           \n",
            "==============================================================================\n",
            "Dep. Variable:                     IR   R-squared:                       0.662\n",
            "Model:                          GLSAR   Adj. R-squared:                  0.638\n",
            "Method:                 Least Squares   F-statistic:                     48.94\n",
            "Date:                seg, 28 abr 2025   Prob (F-statistic):           2.18e-29\n",
            "Time:                        00:12:31   Log-Likelihood:                -199.67\n",
            "No. Observations:                 107   AIC:                             415.3\n",
            "Df Residuals:                      99   BIC:                             436.7\n",
            "Df Model:                           7                                         \n",
            "Covariance Type:                  HAC                                         \n",
            "=====================================================================================\n",
            "                        coef    std err          z      P>|z|      [0.025      0.975]\n",
            "-------------------------------------------------------------------------------------\n",
            "Intercept            10.0433      0.886     11.338      0.000       8.307      11.780\n",
            "periodo               0.2980      0.028     10.511      0.000       0.242       0.354\n",
            "Pandemia_Step         3.0323      1.839      1.649      0.099      -0.571       6.636\n",
            "Pandemia_Trend       -0.4421      0.111     -3.970      0.000      -0.660      -0.224\n",
            "PosPandemia_Step     -6.2762      1.627     -3.856      0.000      -9.466      -3.086\n",
            "PosPandemia_Trend    -0.1671      0.057     -2.938      0.003      -0.279      -0.056\n",
            "cos1                  0.0779      0.143      0.543      0.587      -0.203       0.359\n",
            "sin1                 -0.0043      0.120     -0.036      0.972      -0.240       0.231\n",
            "==============================================================================\n",
            "Omnibus:                       32.727   Durbin-Watson:                   1.675\n",
            "Prob(Omnibus):                  0.000   Jarque-Bera (JB):              109.901\n",
            "Skew:                          -0.985   Prob(JB):                     1.37e-24\n",
            "Kurtosis:                       7.558   Cond. No.                         414.\n",
            "==============================================================================\n",
            "\n",
            "Notes:\n",
            "[1] Standard Errors are heteroscedasticity and autocorrelation robust (HAC) using 4 lags and without small sample correction\n"
          ]
        }
      ],
      "source": [
        "### GEE processing\n",
        "\n",
        "\n",
        "\n",
        "if MODEL_DEF == 'GEE':\n",
        "    results = process_groups_with_processor(\n",
        "        dataframe=RegressionDF,\n",
        "        group_col=GROUP_COL_NAME,\n",
        "        date_col=DATE_NAME,\n",
        "        processor_class=GEE.from_formula,\n",
        "        processor_args=GEE_PROCESSOR_ARGS,\n",
        "\n",
        "    )\n",
        "elif MODEL_DEF == 'GLM':\n",
        "    results = process_groups_with_processor(\n",
        "        dataframe=RegressionDF,\n",
        "        group_col=GROUP_COL_NAME,\n",
        "        date_col=DATE_NAME,\n",
        "        processor_class=smf.glm,#GEE.from_formula,\n",
        "        processor_args=GLM_PROCESSOR_ARGS,\n",
        "\n",
        "    )\n",
        "\n",
        "\n",
        "elif MODEL_DEF == \"GLSAR\":\n",
        "    results = process_groups_with_processor(\n",
        "        dataframe=RegressionDF,\n",
        "        group_col=GROUP_COL_NAME,\n",
        "        date_col=DATE_NAME,\n",
        "        processor_class=smf.glsar,\n",
        "        processor_args=GLSAR_PROCESSOR_ARGS,\n",
        "    )\n",
        "else:\n",
        "    results = process_groups_with_processor(\n",
        "        dataframe=RegressionDF,\n",
        "        group_col=GROUP_COL_NAME,\n",
        "        date_col=DATE_NAME,\n",
        "        processor_class = smf.ols,\n",
        "        processor_args = OLS_PROCESSOR_ARGS,       \n",
        "    )\n"
      ]
    },
    {
      "cell_type": "markdown",
      "metadata": {},
      "source": [
        "# Diagnostico do Modelo"
      ]
    },
    {
      "cell_type": "code",
      "execution_count": 3096,
      "metadata": {},
      "outputs": [
        {
          "data": {
            "text/plain": [
              "'\\n# Exemplo de uso:\\n\\n\\nprint(diagnostics_df)\\n'"
            ]
          },
          "execution_count": 3096,
          "metadata": {},
          "output_type": "execute_result"
        }
      ],
      "source": [
        "def test_glsar_diagnostics(results, dataframe, group_col, dependent_var, independent_var):\n",
        "    diagnostics = {}\n",
        "\n",
        "    for variable, result in results.items():\n",
        "        # Filtrar os dados para a variável atual\n",
        "        variable_data = dataframe[dataframe[group_col] == variable].sort_values(by=DATE_NAME)\n",
        "        y = variable_data[dependent_var].values\n",
        "        X = variable_data[[independent_var]].values\n",
        "\n",
        "        # Heterocedasticidade (Breusch-Pagan)\n",
        "        # Acessar a matriz de covariáveis corretamente para GLSAR\n",
        "        exog = getattr(result.model.data, 'orig_exog', result.model.data.exog)\n",
        "        bp_test = het_breuschpagan(result.resid, exog)\n",
        "        bp_pvalue = bp_test[1]\n",
        "\n",
        "        # Autocorrelação (Durbin-Watson e Ljung-Box)\n",
        "        dw_stat = durbin_watson(result.resid)\n",
        "        ljungbox_test = acorr_ljungbox(result.resid, lags=[10], return_df=True)\n",
        "        ljungbox_pvalue = ljungbox_test['lb_pvalue'].iloc[0]\n",
        "\n",
        "\n",
        "\n",
        "        # Armazenar os resultados (sem overdispersion para GLSAR)\n",
        "        diagnostics[variable] = {\n",
        "            \"Heteroscedasticity (Breusch-Pagan)\": bp_pvalue,\n",
        "            \"Autocorrelation (Durbin-Watson)\": dw_stat,\n",
        "            \"Autocorrelation (Ljung-Box)\": ljungbox_pvalue\n",
        "        }\n",
        "\n",
        "    return pd.DataFrame(diagnostics).T\n",
        "'''\n",
        "# Exemplo de uso:\n",
        "\n",
        "\n",
        "print(diagnostics_df)\n",
        "'''"
      ]
    },
    {
      "cell_type": "code",
      "execution_count": 3097,
      "metadata": {},
      "outputs": [],
      "source": [
        "from statsmodels.stats.diagnostic import het_breuschpagan, acorr_ljungbox\n",
        "from statsmodels.stats.stattools import durbin_watson\n",
        "from scipy.stats import chi2\n",
        "\n",
        "#### GLM\n",
        "def test_model_diagnostics(results, dataframe, group_col, dependent_var, independent_var):\n",
        "    diagnostics = {}\n",
        "\n",
        "    for variable, result in results.items():\n",
        "        # Filtrar os dados para a variável atual\n",
        "        variable_data = dataframe[dataframe[group_col] == variable].sort_values(by=DATE_NAME)\n",
        "        y = variable_data[dependent_var].values\n",
        "        X = variable_data[[independent_var]].values\n",
        "\n",
        "        # Heterocedasticidade (Breusch-Pagan) - Usar resid_response\n",
        "        bp_test = het_breuschpagan(result.resid_response, result.model.exog)\n",
        "        bp_pvalue = bp_test[1]\n",
        "\n",
        "        # Overdispersão (Teste Qui-Quadrado) - Já usa resid_pearson corretamente\n",
        "        pearson_chi2 = sum((result.resid_pearson) ** 2)\n",
        "        overdispersion_pvalue = 1 - chi2.cdf(pearson_chi2, df=result.df_resid)\n",
        "\n",
        "        # Autocorrelação (Durbin-Watson e Ljung-Box) - Usar resid_response\n",
        "        dw_stat = durbin_watson(result.resid_response)\n",
        "        ljungbox_test = acorr_ljungbox(result.resid_response, lags=[10], return_df=True)\n",
        "        ljungbox_pvalue = ljungbox_test['lb_pvalue'].iloc[0]\n",
        "\n",
        "        irrs = np.exp(result.params)\n",
        "        conf_int = np.exp(result.conf_int())\n",
        "\n",
        "        plot_acf(result.resid_pearson, lags=12, title = f'Autocorrelation for: {variable}')\n",
        "        # Armazenar os resultados\n",
        "        diagnostics[variable] = {\n",
        "            \"Heteroscedasticity (Breusch-Pagan)\": bp_pvalue,\n",
        "            \"Overdispersion (Pearson Chi2)\": overdispersion_pvalue,\n",
        "            \"Autocorrelation (Durbin-Watson)\": dw_stat,\n",
        "            \"Autocorrelation (Ljung-Box)\": ljungbox_pvalue,\n",
        "            'IRR': irrs,\n",
        "            \"CI Lower\": conf_int[0], \"CI Upper\": conf_int[1]\n",
        "            \n",
        "        }\n",
        "\n",
        "    return pd.DataFrame(diagnostics)\n"
      ]
    },
    {
      "cell_type": "code",
      "execution_count": 3098,
      "metadata": {},
      "outputs": [
        {
          "data": {
            "application/vnd.microsoft.datawrangler.viewer.v0+json": {
              "columns": [
                {
                  "name": "index",
                  "rawType": "object",
                  "type": "string"
                },
                {
                  "name": "Heteroscedasticity (Breusch-Pagan)",
                  "rawType": "float64",
                  "type": "float"
                },
                {
                  "name": "Autocorrelation (Durbin-Watson)",
                  "rawType": "float64",
                  "type": "float"
                },
                {
                  "name": "Autocorrelation (Ljung-Box)",
                  "rawType": "float64",
                  "type": "float"
                }
              ],
              "conversionMethod": "pd.DataFrame",
              "ref": "c3c80daa-5925-4e18-9f3c-590c584d8429",
              "rows": [
                [
                  "sul",
                  "0.00959653957107104",
                  "0.908972212691398",
                  "9.077531460883909e-09"
                ],
                [
                  "sudeste",
                  "0.09336325430140104",
                  "0.9082817799455652",
                  "3.399917179418784e-05"
                ],
                [
                  "norte",
                  "7.3245787433921405e-06",
                  "0.6954931473669725",
                  "1.5581383034279774e-10"
                ],
                [
                  "nordeste",
                  "0.042618637030752714",
                  "1.0980239332436526",
                  "0.0005820592091750039"
                ],
                [
                  "centro_oeste",
                  "0.035757836878790715",
                  "0.780504868258352",
                  "5.4372022456060604e-08"
                ]
              ],
              "shape": {
                "columns": 3,
                "rows": 5
              }
            },
            "text/html": [
              "<div>\n",
              "<style scoped>\n",
              "    .dataframe tbody tr th:only-of-type {\n",
              "        vertical-align: middle;\n",
              "    }\n",
              "\n",
              "    .dataframe tbody tr th {\n",
              "        vertical-align: top;\n",
              "    }\n",
              "\n",
              "    .dataframe thead th {\n",
              "        text-align: right;\n",
              "    }\n",
              "</style>\n",
              "<table border=\"1\" class=\"dataframe\">\n",
              "  <thead>\n",
              "    <tr style=\"text-align: right;\">\n",
              "      <th></th>\n",
              "      <th>Heteroscedasticity (Breusch-Pagan)</th>\n",
              "      <th>Autocorrelation (Durbin-Watson)</th>\n",
              "      <th>Autocorrelation (Ljung-Box)</th>\n",
              "    </tr>\n",
              "  </thead>\n",
              "  <tbody>\n",
              "    <tr>\n",
              "      <th>sul</th>\n",
              "      <td>0.009597</td>\n",
              "      <td>0.908972</td>\n",
              "      <td>9.077531e-09</td>\n",
              "    </tr>\n",
              "    <tr>\n",
              "      <th>sudeste</th>\n",
              "      <td>0.093363</td>\n",
              "      <td>0.908282</td>\n",
              "      <td>3.399917e-05</td>\n",
              "    </tr>\n",
              "    <tr>\n",
              "      <th>norte</th>\n",
              "      <td>0.000007</td>\n",
              "      <td>0.695493</td>\n",
              "      <td>1.558138e-10</td>\n",
              "    </tr>\n",
              "    <tr>\n",
              "      <th>nordeste</th>\n",
              "      <td>0.042619</td>\n",
              "      <td>1.098024</td>\n",
              "      <td>5.820592e-04</td>\n",
              "    </tr>\n",
              "    <tr>\n",
              "      <th>centro_oeste</th>\n",
              "      <td>0.035758</td>\n",
              "      <td>0.780505</td>\n",
              "      <td>5.437202e-08</td>\n",
              "    </tr>\n",
              "  </tbody>\n",
              "</table>\n",
              "</div>"
            ],
            "text/plain": [
              "              Heteroscedasticity (Breusch-Pagan)  \\\n",
              "sul                                     0.009597   \n",
              "sudeste                                 0.093363   \n",
              "norte                                   0.000007   \n",
              "nordeste                                0.042619   \n",
              "centro_oeste                            0.035758   \n",
              "\n",
              "              Autocorrelation (Durbin-Watson)  Autocorrelation (Ljung-Box)  \n",
              "sul                                  0.908972                 9.077531e-09  \n",
              "sudeste                              0.908282                 3.399917e-05  \n",
              "norte                                0.695493                 1.558138e-10  \n",
              "nordeste                             1.098024                 5.820592e-04  \n",
              "centro_oeste                         0.780505                 5.437202e-08  "
            ]
          },
          "execution_count": 3098,
          "metadata": {},
          "output_type": "execute_result"
        }
      ],
      "source": [
        "if MODEL_DEF == 'GEE' or MODEL_DEF == \"GLM\":\n",
        "    diagnostics_df = test_model_diagnostics(\n",
        "    results=results,\n",
        "    dataframe=RegressionDF,\n",
        "    group_col=GROUP_COL_NAME,\n",
        "    dependent_var=DEPENDENT_VAR,\n",
        "    independent_var=INDEPENDENT_VAR\n",
        ")\n",
        "else:\n",
        "    diagnostics_df = test_glsar_diagnostics(\n",
        "    results=results, \n",
        "    dataframe=RegressionDF,\n",
        "    group_col=GROUP_COL_NAME,\n",
        "    dependent_var=DEPENDENT_VAR,\n",
        "    independent_var=INDEPENDENT_VAR\n",
        ")\n",
        "    \n",
        "diagnostics_df\n",
        "    "
      ]
    },
    {
      "cell_type": "markdown",
      "metadata": {
        "id": "AKBeUI39NIXf"
      },
      "source": [
        "# Export Results"
      ]
    },
    {
      "cell_type": "code",
      "execution_count": 3099,
      "metadata": {
        "id": "IbPhBA4YNIXg"
      },
      "outputs": [],
      "source": [
        "if MODEL_DEF == 'GLSAR':\n",
        "    export_results(results,\n",
        "        output_path = LOCAL_OUTPUT_PATH,\n",
        "        processor_args = GLSAR_PROCESSOR_ARGS,\n",
        "        preprocessor_args=PREPROCESSOR_ARGS,\n",
        "        output_gsheet=output_wksheet,\n",
        "    )"
      ]
    },
    {
      "cell_type": "markdown",
      "metadata": {
        "id": "zH9i6dotzLe5"
      },
      "source": [
        "# Define Hover Graph Func\n"
      ]
    },
    {
      "cell_type": "code",
      "execution_count": 3100,
      "metadata": {},
      "outputs": [],
      "source": [
        "def plot_with_all_dummies(\n",
        "    variable: str,\n",
        "    variable_df,\n",
        "    results_obj,\n",
        "    exclude_coeffs_by_prefix=None,\n",
        "    plot_individual_effects=False,\n",
        "    line_events=None, # Dict[str, Tuple[start, end, color, show_line]]\n",
        "    slope_coef_str=None,\n",
        "    real_serie_key=DEPENDENT_VAR,\n",
        "    exponentite_coefs=False\n",
        "):\n",
        "\n",
        "    regression_stats = results_obj.params\n",
        "    variable_df = variable_df.sort_values(by=DATE_NAME).reset_index(drop=True)\n",
        "    dates = variable_df[DATE_NAME].values\n",
        "    real_series = variable_df[real_serie_key].values\n",
        "\n",
        "    slope_name = slope_coef_str if slope_coef_str else INDEPENDENT_VAR\n",
        "    intercept = regression_stats.get(\"Intercept\", 0)\n",
        "    slope = regression_stats.get(slope_name, 0)\n",
        "    t = np.arange(len(dates)) + 1\n",
        "\n",
        "\n",
        "    #if exponentite_coefs:\n",
        "        #slope = np.exp(slope) #if slope > 0 else slope\n",
        "        #intercept = np.exp(intercept) if intercept > 0 else intercept\n",
        "    baseline_log = (intercept + slope * t).astype(float)\n",
        "    full_pred = baseline_log.copy()\n",
        "\n",
        "    fig = go.Figure()\n",
        "\n",
        "    baseline = np.exp(baseline_log) if exponentite_coefs else baseline_log\n",
        "    fig.add_trace(go.Scatter(\n",
        "        x=dates,\n",
        "        y=baseline,\n",
        "        mode='lines',\n",
        "        name='Baseline',\n",
        "        line=dict(dash='dot', color='black')\n",
        "    ))\n",
        "\n",
        "    fig.add_trace(go.Scatter(\n",
        "        x=dates,\n",
        "        y=real_series,\n",
        "        mode='markers',\n",
        "        name='Real',\n",
        "        marker=dict(color='black')\n",
        "    ))\n",
        "\n",
        "\n",
        "\n",
        "    for dummy_name, coef in regression_stats.items():\n",
        "        if dummy_name in {\"Intercept\", INDEPENDENT_VAR}:\n",
        "            continue\n",
        "        if slope_coef_str and dummy_name == slope_coef_str:\n",
        "            continue\n",
        "\n",
        "        if exclude_coeffs_by_prefix and any(dummy_name.startswith(prefix) for prefix in exclude_coeffs_by_prefix):\n",
        "            continue\n",
        "\n",
        "        if dummy_name in variable_df.columns:\n",
        "            dummy_ts = variable_df[dummy_name].values\n",
        "            dummy_effect = coef * dummy_ts\n",
        "            full_pred += dummy_effect\n",
        "\n",
        "            if plot_individual_effects:\n",
        "                fig.add_trace(go.Scatter(\n",
        "                    x=dates,\n",
        "                    y=dummy_effect,\n",
        "                    mode='lines',\n",
        "                    name=f'Effect: {dummy_name}',\n",
        "                    line=dict(dash='dash')\n",
        "                ))\n",
        "\n",
        "    if line_events:\n",
        "        for line_dummy_name, (event_start_date, event_end_date, fillcolor, show_line) in line_events.items():\n",
        "            if fillcolor:\n",
        "                # Sombra para eventos tipo \"pulse\"\n",
        "                fig.add_shape(\n",
        "                    type=\"rect\",\n",
        "                    x0=event_start_date,\n",
        "                    x1=event_end_date,\n",
        "                    y0=0,\n",
        "                    y1=1,\n",
        "                    xref=\"x\",\n",
        "                    yref=\"paper\",\n",
        "                    fillcolor=fillcolor,\n",
        "                    opacity=0.3,\n",
        "                    layer=\"below\",\n",
        "                    line_width=0,\n",
        "                )\n",
        "        \n",
        "            if show_line:\n",
        "                # Linha e anotação para eventos como Pandemia e Pós-Pandemia\n",
        "                fig.add_shape(\n",
        "                    type=\"line\",\n",
        "                    x0=event_start_date,\n",
        "                    x1=event_start_date,\n",
        "                    y0=min(real_series),\n",
        "                    y1=max(real_series),\n",
        "                    line=dict(color=\"black\", dash=\"dash\")\n",
        "                )\n",
        "        \n",
        "                # Anotação deslocada no eixo x\n",
        "                fig.add_annotation(\n",
        "                    x=event_start_date,\n",
        "                    y=max(real_series),\n",
        "                    text=f\"{line_dummy_name}\",\n",
        "                    showarrow=True,\n",
        "                    arrowhead=2,\n",
        "                    ax=30,  # deslocamento lateral\n",
        "                    ay=-40\n",
        "                )\n",
        "\n",
        "    full_pred = np.exp(full_pred) if exponentite_coefs else full_pred\n",
        "    fig.add_trace(go.Scatter(\n",
        "        x=dates,\n",
        "        y=full_pred,\n",
        "        mode='lines',\n",
        "        name='Full model',\n",
        "        line=dict(color='purple')\n",
        "    ))\n",
        "\n",
        "\n",
        "\n",
        "    fig.update_layout(\n",
        "        title=variable,\n",
        "        xaxis_title=\"Time\",\n",
        "        yaxis_title=\"Value\",\n",
        "        legend_title=\"Legend\"\n",
        "    )\n",
        "\n",
        "    fig.show()\n"
      ]
    },
    {
      "cell_type": "markdown",
      "metadata": {
        "id": "deLbYC8XNIX5"
      },
      "source": [
        "# EXEC --- Plot Graph"
      ]
    },
    {
      "cell_type": "code",
      "execution_count": 3101,
      "metadata": {
        "colab": {
          "base_uri": "https://localhost:8080/",
          "height": 1000
        },
        "id": "5rCs4_ohNIX6",
        "outputId": "73d22374-2176-4616-a44b-3072f8ea7e90"
      },
      "outputs": [
        {
          "data": {
            "application/vnd.plotly.v1+json": {
              "config": {
                "plotlyServerURL": "https://plot.ly"
              },
              "data": [
                {
                  "line": {
                    "color": "black",
                    "dash": "dot"
                  },
                  "mode": "lines",
                  "name": "Baseline",
                  "type": "scatter",
                  "x": [
                    "2016-01-01T00:00:00.000000000",
                    "2016-02-01T00:00:00.000000000",
                    "2016-03-01T00:00:00.000000000",
                    "2016-04-01T00:00:00.000000000",
                    "2016-05-01T00:00:00.000000000",
                    "2016-06-01T00:00:00.000000000",
                    "2016-07-01T00:00:00.000000000",
                    "2016-08-01T00:00:00.000000000",
                    "2016-09-01T00:00:00.000000000",
                    "2016-10-01T00:00:00.000000000",
                    "2016-11-01T00:00:00.000000000",
                    "2016-12-01T00:00:00.000000000",
                    "2017-01-01T00:00:00.000000000",
                    "2017-02-01T00:00:00.000000000",
                    "2017-03-01T00:00:00.000000000",
                    "2017-04-01T00:00:00.000000000",
                    "2017-05-01T00:00:00.000000000",
                    "2017-06-01T00:00:00.000000000",
                    "2017-07-01T00:00:00.000000000",
                    "2017-08-01T00:00:00.000000000",
                    "2017-09-01T00:00:00.000000000",
                    "2017-10-01T00:00:00.000000000",
                    "2017-11-01T00:00:00.000000000",
                    "2017-12-01T00:00:00.000000000",
                    "2018-01-01T00:00:00.000000000",
                    "2018-02-01T00:00:00.000000000",
                    "2018-03-01T00:00:00.000000000",
                    "2018-04-01T00:00:00.000000000",
                    "2018-05-01T00:00:00.000000000",
                    "2018-06-01T00:00:00.000000000",
                    "2018-07-01T00:00:00.000000000",
                    "2018-08-01T00:00:00.000000000",
                    "2018-09-01T00:00:00.000000000",
                    "2018-10-01T00:00:00.000000000",
                    "2018-11-01T00:00:00.000000000",
                    "2018-12-01T00:00:00.000000000",
                    "2019-01-01T00:00:00.000000000",
                    "2019-02-01T00:00:00.000000000",
                    "2019-03-01T00:00:00.000000000",
                    "2019-04-01T00:00:00.000000000",
                    "2019-05-01T00:00:00.000000000",
                    "2019-06-01T00:00:00.000000000",
                    "2019-07-01T00:00:00.000000000",
                    "2019-08-01T00:00:00.000000000",
                    "2019-09-01T00:00:00.000000000",
                    "2019-10-01T00:00:00.000000000",
                    "2019-11-01T00:00:00.000000000",
                    "2019-12-01T00:00:00.000000000",
                    "2020-01-01T00:00:00.000000000",
                    "2020-02-01T00:00:00.000000000",
                    "2020-03-01T00:00:00.000000000",
                    "2020-04-01T00:00:00.000000000",
                    "2020-05-01T00:00:00.000000000",
                    "2020-06-01T00:00:00.000000000",
                    "2020-07-01T00:00:00.000000000",
                    "2020-08-01T00:00:00.000000000",
                    "2020-09-01T00:00:00.000000000",
                    "2020-10-01T00:00:00.000000000",
                    "2020-11-01T00:00:00.000000000",
                    "2020-12-01T00:00:00.000000000",
                    "2021-01-01T00:00:00.000000000",
                    "2021-02-01T00:00:00.000000000",
                    "2021-03-01T00:00:00.000000000",
                    "2021-04-01T00:00:00.000000000",
                    "2021-05-01T00:00:00.000000000",
                    "2021-06-01T00:00:00.000000000",
                    "2021-07-01T00:00:00.000000000",
                    "2021-08-01T00:00:00.000000000",
                    "2021-09-01T00:00:00.000000000",
                    "2021-10-01T00:00:00.000000000",
                    "2021-11-01T00:00:00.000000000",
                    "2021-12-01T00:00:00.000000000",
                    "2022-01-01T00:00:00.000000000",
                    "2022-02-01T00:00:00.000000000",
                    "2022-03-01T00:00:00.000000000",
                    "2022-04-01T00:00:00.000000000",
                    "2022-05-01T00:00:00.000000000",
                    "2022-06-01T00:00:00.000000000",
                    "2022-07-01T00:00:00.000000000",
                    "2022-08-01T00:00:00.000000000",
                    "2022-09-01T00:00:00.000000000",
                    "2022-10-01T00:00:00.000000000",
                    "2022-11-01T00:00:00.000000000",
                    "2022-12-01T00:00:00.000000000",
                    "2023-01-01T00:00:00.000000000",
                    "2023-02-01T00:00:00.000000000",
                    "2023-03-01T00:00:00.000000000",
                    "2023-04-01T00:00:00.000000000",
                    "2023-05-01T00:00:00.000000000",
                    "2023-06-01T00:00:00.000000000",
                    "2023-07-01T00:00:00.000000000",
                    "2023-08-01T00:00:00.000000000",
                    "2023-09-01T00:00:00.000000000",
                    "2023-10-01T00:00:00.000000000",
                    "2023-11-01T00:00:00.000000000",
                    "2023-12-01T00:00:00.000000000",
                    "2024-01-01T00:00:00.000000000",
                    "2024-02-01T00:00:00.000000000",
                    "2024-03-01T00:00:00.000000000",
                    "2024-04-01T00:00:00.000000000",
                    "2024-05-01T00:00:00.000000000",
                    "2024-06-01T00:00:00.000000000",
                    "2024-07-01T00:00:00.000000000",
                    "2024-08-01T00:00:00.000000000",
                    "2024-09-01T00:00:00.000000000",
                    "2024-10-01T00:00:00.000000000",
                    "2024-11-01T00:00:00.000000000",
                    "2024-12-01T00:00:00.000000000"
                  ],
                  "y": [
                    23.847328455814388,
                    23.89890255922765,
                    23.95047666264091,
                    24.002050766054168,
                    24.053624869467427,
                    24.10519897288069,
                    24.15677307629395,
                    24.208347179707207,
                    24.259921283120466,
                    24.31149538653373,
                    24.363069489946987,
                    24.414643593360246,
                    24.466217696773505,
                    24.517791800186767,
                    24.569365903600026,
                    24.620940007013285,
                    24.672514110426544,
                    24.724088213839806,
                    24.775662317253065,
                    24.827236420666324,
                    24.878810524079583,
                    24.930384627492845,
                    24.981958730906104,
                    25.033532834319363,
                    25.085106937732622,
                    25.136681041145884,
                    25.188255144559143,
                    25.239829247972402,
                    25.29140335138566,
                    25.342977454798923,
                    25.394551558212182,
                    25.44612566162544,
                    25.4976997650387,
                    25.549273868451962,
                    25.60084797186522,
                    25.65242207527848,
                    25.70399617869174,
                    25.755570282105,
                    25.80714438551826,
                    25.85871848893152,
                    25.91029259234478,
                    25.96186669575804,
                    26.0134407991713,
                    26.065014902584558,
                    26.116589005997817,
                    26.16816310941108,
                    26.219737212824338,
                    26.271311316237597,
                    26.32288541965086,
                    26.374459523064118,
                    26.426033626477377,
                    26.477607729890636,
                    26.529181833303895,
                    26.580755936717157,
                    26.632330040130416,
                    26.683904143543675,
                    26.735478246956937,
                    26.787052350370196,
                    26.838626453783455,
                    26.890200557196714,
                    26.941774660609976,
                    26.993348764023235,
                    27.044922867436494,
                    27.096496970849753,
                    27.148071074263015,
                    27.199645177676274,
                    27.251219281089533,
                    27.30279338450279,
                    27.354367487916054,
                    27.405941591329313,
                    27.457515694742572,
                    27.50908979815583,
                    27.560663901569093,
                    27.612238004982352,
                    27.66381210839561,
                    27.71538621180887,
                    27.766960315222132,
                    27.81853441863539,
                    27.87010852204865,
                    27.921682625461912,
                    27.97325672887517,
                    28.02483083228843,
                    28.07640493570169,
                    28.127979039114948,
                    28.17955314252821,
                    28.23112724594147,
                    28.282701349354728,
                    28.33427545276799,
                    28.38584955618125,
                    28.437423659594508,
                    28.488997763007767,
                    28.540571866421026,
                    28.592145969834288,
                    28.643720073247547,
                    28.695294176660806,
                    28.746868280074068,
                    28.798442383487327,
                    28.850016486900586,
                    28.901590590313845,
                    28.953164693727103,
                    29.004738797140366,
                    29.056312900553625,
                    29.107887003966884,
                    29.159461107380146,
                    29.211035210793405,
                    29.262609314206664,
                    29.314183417619923,
                    29.365757521033185
                  ]
                },
                {
                  "marker": {
                    "color": "black"
                  },
                  "mode": "markers",
                  "name": "Real",
                  "type": "scatter",
                  "x": [
                    "2016-01-01T00:00:00.000000000",
                    "2016-02-01T00:00:00.000000000",
                    "2016-03-01T00:00:00.000000000",
                    "2016-04-01T00:00:00.000000000",
                    "2016-05-01T00:00:00.000000000",
                    "2016-06-01T00:00:00.000000000",
                    "2016-07-01T00:00:00.000000000",
                    "2016-08-01T00:00:00.000000000",
                    "2016-09-01T00:00:00.000000000",
                    "2016-10-01T00:00:00.000000000",
                    "2016-11-01T00:00:00.000000000",
                    "2016-12-01T00:00:00.000000000",
                    "2017-01-01T00:00:00.000000000",
                    "2017-02-01T00:00:00.000000000",
                    "2017-03-01T00:00:00.000000000",
                    "2017-04-01T00:00:00.000000000",
                    "2017-05-01T00:00:00.000000000",
                    "2017-06-01T00:00:00.000000000",
                    "2017-07-01T00:00:00.000000000",
                    "2017-08-01T00:00:00.000000000",
                    "2017-09-01T00:00:00.000000000",
                    "2017-10-01T00:00:00.000000000",
                    "2017-11-01T00:00:00.000000000",
                    "2017-12-01T00:00:00.000000000",
                    "2018-01-01T00:00:00.000000000",
                    "2018-02-01T00:00:00.000000000",
                    "2018-03-01T00:00:00.000000000",
                    "2018-04-01T00:00:00.000000000",
                    "2018-05-01T00:00:00.000000000",
                    "2018-06-01T00:00:00.000000000",
                    "2018-07-01T00:00:00.000000000",
                    "2018-08-01T00:00:00.000000000",
                    "2018-09-01T00:00:00.000000000",
                    "2018-10-01T00:00:00.000000000",
                    "2018-11-01T00:00:00.000000000",
                    "2018-12-01T00:00:00.000000000",
                    "2019-01-01T00:00:00.000000000",
                    "2019-02-01T00:00:00.000000000",
                    "2019-03-01T00:00:00.000000000",
                    "2019-04-01T00:00:00.000000000",
                    "2019-05-01T00:00:00.000000000",
                    "2019-06-01T00:00:00.000000000",
                    "2019-07-01T00:00:00.000000000",
                    "2019-08-01T00:00:00.000000000",
                    "2019-09-01T00:00:00.000000000",
                    "2019-10-01T00:00:00.000000000",
                    "2019-11-01T00:00:00.000000000",
                    "2019-12-01T00:00:00.000000000",
                    "2020-01-01T00:00:00.000000000",
                    "2020-02-01T00:00:00.000000000",
                    "2020-03-01T00:00:00.000000000",
                    "2020-04-01T00:00:00.000000000",
                    "2020-05-01T00:00:00.000000000",
                    "2020-06-01T00:00:00.000000000",
                    "2020-07-01T00:00:00.000000000",
                    "2020-08-01T00:00:00.000000000",
                    "2020-09-01T00:00:00.000000000",
                    "2020-10-01T00:00:00.000000000",
                    "2020-11-01T00:00:00.000000000",
                    "2020-12-01T00:00:00.000000000",
                    "2021-01-01T00:00:00.000000000",
                    "2021-02-01T00:00:00.000000000",
                    "2021-03-01T00:00:00.000000000",
                    "2021-04-01T00:00:00.000000000",
                    "2021-05-01T00:00:00.000000000",
                    "2021-06-01T00:00:00.000000000",
                    "2021-07-01T00:00:00.000000000",
                    "2021-08-01T00:00:00.000000000",
                    "2021-09-01T00:00:00.000000000",
                    "2021-10-01T00:00:00.000000000",
                    "2021-11-01T00:00:00.000000000",
                    "2021-12-01T00:00:00.000000000",
                    "2022-01-01T00:00:00.000000000",
                    "2022-02-01T00:00:00.000000000",
                    "2022-03-01T00:00:00.000000000",
                    "2022-04-01T00:00:00.000000000",
                    "2022-05-01T00:00:00.000000000",
                    "2022-06-01T00:00:00.000000000",
                    "2022-07-01T00:00:00.000000000",
                    "2022-08-01T00:00:00.000000000",
                    "2022-09-01T00:00:00.000000000",
                    "2022-10-01T00:00:00.000000000",
                    "2022-11-01T00:00:00.000000000",
                    "2022-12-01T00:00:00.000000000",
                    "2023-01-01T00:00:00.000000000",
                    "2023-02-01T00:00:00.000000000",
                    "2023-03-01T00:00:00.000000000",
                    "2023-04-01T00:00:00.000000000",
                    "2023-05-01T00:00:00.000000000",
                    "2023-06-01T00:00:00.000000000",
                    "2023-07-01T00:00:00.000000000",
                    "2023-08-01T00:00:00.000000000",
                    "2023-09-01T00:00:00.000000000",
                    "2023-10-01T00:00:00.000000000",
                    "2023-11-01T00:00:00.000000000",
                    "2023-12-01T00:00:00.000000000",
                    "2024-01-01T00:00:00.000000000",
                    "2024-02-01T00:00:00.000000000",
                    "2024-03-01T00:00:00.000000000",
                    "2024-04-01T00:00:00.000000000",
                    "2024-05-01T00:00:00.000000000",
                    "2024-06-01T00:00:00.000000000",
                    "2024-07-01T00:00:00.000000000",
                    "2024-08-01T00:00:00.000000000",
                    "2024-09-01T00:00:00.000000000",
                    "2024-10-01T00:00:00.000000000",
                    "2024-11-01T00:00:00.000000000",
                    "2024-12-01T00:00:00.000000000"
                  ],
                  "y": [
                    25.574799518159836,
                    25.69775483763651,
                    23.40469896313021,
                    24.766065361124184,
                    23.140922472600913,
                    23.79706439962597,
                    24.807620962433727,
                    24.202635735356793,
                    23.995077628295622,
                    24.23427302296435,
                    25.53078861346945,
                    26.27798300821268,
                    25.394424656664377,
                    25.154623530565278,
                    24.385899643914442,
                    24.74215726344188,
                    24.07882258503543,
                    24.512386470565538,
                    24.04932530415184,
                    25.02007444633176,
                    24.450726025608162,
                    25.641849452578242,
                    25.192402482017496,
                    26.243688469405487,
                    25.500700295914513,
                    26.303800066565188,
                    24.49283490555982,
                    24.70962536571009,
                    23.91222969468854,
                    24.447858921662544,
                    24.14837920727932,
                    24.200965820633716,
                    25.08746842356138,
                    24.41709339531521,
                    24.751984806174825,
                    24.26591002237523,
                    23.663183861641162,
                    24.293811066659075,
                    25.450773392459165,
                    26.509416303021112,
                    26.08760234612531,
                    25.873317440786643,
                    26.08847157317199,
                    27.24377924276961,
                    26.92697257692269,
                    25.994792630222836,
                    27.146403113346413,
                    27.74721384712872,
                    28.669496603607524,
                    28.37102479792678,
                    27.315810570650537,
                    33.41441237693909,
                    32.904557995993905,
                    32.14069032006051,
                    29.396251232958356,
                    28.941491431186403,
                    31.061455172462672,
                    28.712628179827252,
                    26.310218597743674,
                    26.685170031961547,
                    26.746751502937457,
                    26.768024443475376,
                    25.934482323188032,
                    28.16755479169375,
                    24.88650030399723,
                    25.480626260360797,
                    27.349811742047923,
                    28.522068730148494,
                    29.00829210138901,
                    26.991522881085174,
                    27.174181853935092,
                    27.21122738302884,
                    19.244626373065557,
                    23.801229962442445,
                    27.028959145189706,
                    25.39559254608429,
                    23.336661488476857,
                    23.839552317428858,
                    25.953208424585807,
                    27.587652285903857,
                    29.243592853016516,
                    27.851370451431137,
                    26.55771481964728,
                    25.98165711997674,
                    29.63927937024431,
                    30.753632918464575,
                    29.578097688070972,
                    27.49301245181331,
                    27.334337482100807,
                    28.89362101782022,
                    30.439762424480776,
                    31.247230998000678,
                    32.381515167254165,
                    31.239689757211476,
                    31.030325495584474,
                    31.03455801276937,
                    31.552900148725577,
                    30.868592582232207,
                    28.133691221476457,
                    27.66132592526588,
                    28.338501405268868,
                    30.395499026939138,
                    30.23744178977174,
                    30.608119270149704,
                    30.24891983788465,
                    29.804641926398713,
                    30.33010893862979,
                    30.584807878560117
                  ]
                },
                {
                  "line": {
                    "color": "purple"
                  },
                  "mode": "lines",
                  "name": "Full model",
                  "type": "scatter",
                  "x": [
                    "2016-01-01T00:00:00.000000000",
                    "2016-02-01T00:00:00.000000000",
                    "2016-03-01T00:00:00.000000000",
                    "2016-04-01T00:00:00.000000000",
                    "2016-05-01T00:00:00.000000000",
                    "2016-06-01T00:00:00.000000000",
                    "2016-07-01T00:00:00.000000000",
                    "2016-08-01T00:00:00.000000000",
                    "2016-09-01T00:00:00.000000000",
                    "2016-10-01T00:00:00.000000000",
                    "2016-11-01T00:00:00.000000000",
                    "2016-12-01T00:00:00.000000000",
                    "2017-01-01T00:00:00.000000000",
                    "2017-02-01T00:00:00.000000000",
                    "2017-03-01T00:00:00.000000000",
                    "2017-04-01T00:00:00.000000000",
                    "2017-05-01T00:00:00.000000000",
                    "2017-06-01T00:00:00.000000000",
                    "2017-07-01T00:00:00.000000000",
                    "2017-08-01T00:00:00.000000000",
                    "2017-09-01T00:00:00.000000000",
                    "2017-10-01T00:00:00.000000000",
                    "2017-11-01T00:00:00.000000000",
                    "2017-12-01T00:00:00.000000000",
                    "2018-01-01T00:00:00.000000000",
                    "2018-02-01T00:00:00.000000000",
                    "2018-03-01T00:00:00.000000000",
                    "2018-04-01T00:00:00.000000000",
                    "2018-05-01T00:00:00.000000000",
                    "2018-06-01T00:00:00.000000000",
                    "2018-07-01T00:00:00.000000000",
                    "2018-08-01T00:00:00.000000000",
                    "2018-09-01T00:00:00.000000000",
                    "2018-10-01T00:00:00.000000000",
                    "2018-11-01T00:00:00.000000000",
                    "2018-12-01T00:00:00.000000000",
                    "2019-01-01T00:00:00.000000000",
                    "2019-02-01T00:00:00.000000000",
                    "2019-03-01T00:00:00.000000000",
                    "2019-04-01T00:00:00.000000000",
                    "2019-05-01T00:00:00.000000000",
                    "2019-06-01T00:00:00.000000000",
                    "2019-07-01T00:00:00.000000000",
                    "2019-08-01T00:00:00.000000000",
                    "2019-09-01T00:00:00.000000000",
                    "2019-10-01T00:00:00.000000000",
                    "2019-11-01T00:00:00.000000000",
                    "2019-12-01T00:00:00.000000000",
                    "2020-01-01T00:00:00.000000000",
                    "2020-02-01T00:00:00.000000000",
                    "2020-03-01T00:00:00.000000000",
                    "2020-04-01T00:00:00.000000000",
                    "2020-05-01T00:00:00.000000000",
                    "2020-06-01T00:00:00.000000000",
                    "2020-07-01T00:00:00.000000000",
                    "2020-08-01T00:00:00.000000000",
                    "2020-09-01T00:00:00.000000000",
                    "2020-10-01T00:00:00.000000000",
                    "2020-11-01T00:00:00.000000000",
                    "2020-12-01T00:00:00.000000000",
                    "2021-01-01T00:00:00.000000000",
                    "2021-02-01T00:00:00.000000000",
                    "2021-03-01T00:00:00.000000000",
                    "2021-04-01T00:00:00.000000000",
                    "2021-05-01T00:00:00.000000000",
                    "2021-06-01T00:00:00.000000000",
                    "2021-07-01T00:00:00.000000000",
                    "2021-08-01T00:00:00.000000000",
                    "2021-09-01T00:00:00.000000000",
                    "2021-10-01T00:00:00.000000000",
                    "2021-11-01T00:00:00.000000000",
                    "2021-12-01T00:00:00.000000000",
                    "2022-01-01T00:00:00.000000000",
                    "2022-02-01T00:00:00.000000000",
                    "2022-03-01T00:00:00.000000000",
                    "2022-04-01T00:00:00.000000000",
                    "2022-05-01T00:00:00.000000000",
                    "2022-06-01T00:00:00.000000000",
                    "2022-07-01T00:00:00.000000000",
                    "2022-08-01T00:00:00.000000000",
                    "2022-09-01T00:00:00.000000000",
                    "2022-10-01T00:00:00.000000000",
                    "2022-11-01T00:00:00.000000000",
                    "2022-12-01T00:00:00.000000000",
                    "2023-01-01T00:00:00.000000000",
                    "2023-02-01T00:00:00.000000000",
                    "2023-03-01T00:00:00.000000000",
                    "2023-04-01T00:00:00.000000000",
                    "2023-05-01T00:00:00.000000000",
                    "2023-06-01T00:00:00.000000000",
                    "2023-07-01T00:00:00.000000000",
                    "2023-08-01T00:00:00.000000000",
                    "2023-09-01T00:00:00.000000000",
                    "2023-10-01T00:00:00.000000000",
                    "2023-11-01T00:00:00.000000000",
                    "2023-12-01T00:00:00.000000000",
                    "2024-01-01T00:00:00.000000000",
                    "2024-02-01T00:00:00.000000000",
                    "2024-03-01T00:00:00.000000000",
                    "2024-04-01T00:00:00.000000000",
                    "2024-05-01T00:00:00.000000000",
                    "2024-06-01T00:00:00.000000000",
                    "2024-07-01T00:00:00.000000000",
                    "2024-08-01T00:00:00.000000000",
                    "2024-09-01T00:00:00.000000000",
                    "2024-10-01T00:00:00.000000000",
                    "2024-11-01T00:00:00.000000000",
                    "2024-12-01T00:00:00.000000000"
                  ],
                  "y": [
                    23.847328455814388,
                    23.89890255922765,
                    23.95047666264091,
                    24.002050766054168,
                    24.053624869467427,
                    24.10519897288069,
                    24.15677307629395,
                    24.208347179707207,
                    24.259921283120466,
                    24.31149538653373,
                    24.363069489946987,
                    24.414643593360246,
                    24.466217696773505,
                    24.517791800186767,
                    24.569365903600026,
                    24.620940007013285,
                    24.672514110426544,
                    24.724088213839806,
                    24.775662317253065,
                    24.827236420666324,
                    24.878810524079583,
                    24.930384627492845,
                    24.981958730906104,
                    25.033532834319363,
                    25.085106937732622,
                    25.136681041145884,
                    25.188255144559143,
                    25.239829247972402,
                    25.29140335138566,
                    25.342977454798923,
                    25.394551558212182,
                    25.44612566162544,
                    25.4976997650387,
                    25.549273868451962,
                    25.60084797186522,
                    25.65242207527848,
                    25.70399617869174,
                    25.755570282105,
                    25.80714438551826,
                    25.85871848893152,
                    25.91029259234478,
                    25.96186669575804,
                    26.0134407991713,
                    26.065014902584558,
                    26.116589005997817,
                    26.16816310941108,
                    26.219737212824338,
                    26.271311316237597,
                    26.32288541965086,
                    26.374459523064118,
                    26.426033626477377,
                    31.07287683082686,
                    30.813285312716694,
                    30.553693794606527,
                    30.294102276496357,
                    30.034510758386187,
                    29.774919240276024,
                    29.515327722165853,
                    29.255736204055683,
                    28.996144685945517,
                    28.73655316783535,
                    28.47696164972518,
                    28.21737013161501,
                    27.957778613504843,
                    27.698187095394672,
                    27.438595577284502,
                    27.179004059174332,
                    26.919412541064165,
                    26.659821022954002,
                    26.400229504843832,
                    26.140637986733665,
                    25.881046468623495,
                    25.621454950513325,
                    25.361863432403155,
                    25.102271914292988,
                    25.756293906728313,
                    25.941723794294475,
                    26.127153681860637,
                    26.312583569426796,
                    26.498013456992958,
                    26.683443344559116,
                    26.868873232125274,
                    27.054303119691433,
                    27.239733007257595,
                    27.425162894823757,
                    27.610592782389915,
                    27.796022669956074,
                    27.981452557522235,
                    28.166882445088397,
                    28.352312332654556,
                    28.537742220220714,
                    28.723172107786873,
                    28.908601995353035,
                    29.094031882919197,
                    29.279461770485355,
                    29.464891658051517,
                    29.650321545617675,
                    29.835751433183834,
                    30.021181320749996,
                    30.206611208316154,
                    30.392041095882316,
                    30.577470983448475,
                    30.762900871014633,
                    30.948330758580795,
                    31.133760646146953,
                    31.319190533713115,
                    31.504620421279274,
                    31.690050308845436
                  ]
                }
              ],
              "layout": {
                "annotations": [
                  {
                    "arrowhead": 2,
                    "ax": 30,
                    "ay": -40,
                    "showarrow": true,
                    "text": "Pandemia",
                    "x": "2020-04-01",
                    "y": 33.41441237693909
                  },
                  {
                    "arrowhead": 2,
                    "ax": 30,
                    "ay": -40,
                    "showarrow": true,
                    "text": "Pos Pandemia",
                    "x": "2022-04-01",
                    "y": 33.41441237693909
                  }
                ],
                "legend": {
                  "title": {
                    "text": "Legend"
                  }
                },
                "shapes": [
                  {
                    "line": {
                      "color": "black",
                      "dash": "dash"
                    },
                    "type": "line",
                    "x0": "2020-04-01",
                    "x1": "2020-04-01",
                    "y0": 19.244626373065557,
                    "y1": 33.41441237693909
                  },
                  {
                    "line": {
                      "color": "black",
                      "dash": "dash"
                    },
                    "type": "line",
                    "x0": "2022-04-01",
                    "x1": "2022-04-01",
                    "y0": 19.244626373065557,
                    "y1": 33.41441237693909
                  }
                ],
                "template": {
                  "data": {
                    "bar": [
                      {
                        "error_x": {
                          "color": "#2a3f5f"
                        },
                        "error_y": {
                          "color": "#2a3f5f"
                        },
                        "marker": {
                          "line": {
                            "color": "#E5ECF6",
                            "width": 0.5
                          },
                          "pattern": {
                            "fillmode": "overlay",
                            "size": 10,
                            "solidity": 0.2
                          }
                        },
                        "type": "bar"
                      }
                    ],
                    "barpolar": [
                      {
                        "marker": {
                          "line": {
                            "color": "#E5ECF6",
                            "width": 0.5
                          },
                          "pattern": {
                            "fillmode": "overlay",
                            "size": 10,
                            "solidity": 0.2
                          }
                        },
                        "type": "barpolar"
                      }
                    ],
                    "carpet": [
                      {
                        "aaxis": {
                          "endlinecolor": "#2a3f5f",
                          "gridcolor": "white",
                          "linecolor": "white",
                          "minorgridcolor": "white",
                          "startlinecolor": "#2a3f5f"
                        },
                        "baxis": {
                          "endlinecolor": "#2a3f5f",
                          "gridcolor": "white",
                          "linecolor": "white",
                          "minorgridcolor": "white",
                          "startlinecolor": "#2a3f5f"
                        },
                        "type": "carpet"
                      }
                    ],
                    "choropleth": [
                      {
                        "colorbar": {
                          "outlinewidth": 0,
                          "ticks": ""
                        },
                        "type": "choropleth"
                      }
                    ],
                    "contour": [
                      {
                        "colorbar": {
                          "outlinewidth": 0,
                          "ticks": ""
                        },
                        "colorscale": [
                          [
                            0,
                            "#0d0887"
                          ],
                          [
                            0.1111111111111111,
                            "#46039f"
                          ],
                          [
                            0.2222222222222222,
                            "#7201a8"
                          ],
                          [
                            0.3333333333333333,
                            "#9c179e"
                          ],
                          [
                            0.4444444444444444,
                            "#bd3786"
                          ],
                          [
                            0.5555555555555556,
                            "#d8576b"
                          ],
                          [
                            0.6666666666666666,
                            "#ed7953"
                          ],
                          [
                            0.7777777777777778,
                            "#fb9f3a"
                          ],
                          [
                            0.8888888888888888,
                            "#fdca26"
                          ],
                          [
                            1,
                            "#f0f921"
                          ]
                        ],
                        "type": "contour"
                      }
                    ],
                    "contourcarpet": [
                      {
                        "colorbar": {
                          "outlinewidth": 0,
                          "ticks": ""
                        },
                        "type": "contourcarpet"
                      }
                    ],
                    "heatmap": [
                      {
                        "colorbar": {
                          "outlinewidth": 0,
                          "ticks": ""
                        },
                        "colorscale": [
                          [
                            0,
                            "#0d0887"
                          ],
                          [
                            0.1111111111111111,
                            "#46039f"
                          ],
                          [
                            0.2222222222222222,
                            "#7201a8"
                          ],
                          [
                            0.3333333333333333,
                            "#9c179e"
                          ],
                          [
                            0.4444444444444444,
                            "#bd3786"
                          ],
                          [
                            0.5555555555555556,
                            "#d8576b"
                          ],
                          [
                            0.6666666666666666,
                            "#ed7953"
                          ],
                          [
                            0.7777777777777778,
                            "#fb9f3a"
                          ],
                          [
                            0.8888888888888888,
                            "#fdca26"
                          ],
                          [
                            1,
                            "#f0f921"
                          ]
                        ],
                        "type": "heatmap"
                      }
                    ],
                    "heatmapgl": [
                      {
                        "colorbar": {
                          "outlinewidth": 0,
                          "ticks": ""
                        },
                        "colorscale": [
                          [
                            0,
                            "#0d0887"
                          ],
                          [
                            0.1111111111111111,
                            "#46039f"
                          ],
                          [
                            0.2222222222222222,
                            "#7201a8"
                          ],
                          [
                            0.3333333333333333,
                            "#9c179e"
                          ],
                          [
                            0.4444444444444444,
                            "#bd3786"
                          ],
                          [
                            0.5555555555555556,
                            "#d8576b"
                          ],
                          [
                            0.6666666666666666,
                            "#ed7953"
                          ],
                          [
                            0.7777777777777778,
                            "#fb9f3a"
                          ],
                          [
                            0.8888888888888888,
                            "#fdca26"
                          ],
                          [
                            1,
                            "#f0f921"
                          ]
                        ],
                        "type": "heatmapgl"
                      }
                    ],
                    "histogram": [
                      {
                        "marker": {
                          "pattern": {
                            "fillmode": "overlay",
                            "size": 10,
                            "solidity": 0.2
                          }
                        },
                        "type": "histogram"
                      }
                    ],
                    "histogram2d": [
                      {
                        "colorbar": {
                          "outlinewidth": 0,
                          "ticks": ""
                        },
                        "colorscale": [
                          [
                            0,
                            "#0d0887"
                          ],
                          [
                            0.1111111111111111,
                            "#46039f"
                          ],
                          [
                            0.2222222222222222,
                            "#7201a8"
                          ],
                          [
                            0.3333333333333333,
                            "#9c179e"
                          ],
                          [
                            0.4444444444444444,
                            "#bd3786"
                          ],
                          [
                            0.5555555555555556,
                            "#d8576b"
                          ],
                          [
                            0.6666666666666666,
                            "#ed7953"
                          ],
                          [
                            0.7777777777777778,
                            "#fb9f3a"
                          ],
                          [
                            0.8888888888888888,
                            "#fdca26"
                          ],
                          [
                            1,
                            "#f0f921"
                          ]
                        ],
                        "type": "histogram2d"
                      }
                    ],
                    "histogram2dcontour": [
                      {
                        "colorbar": {
                          "outlinewidth": 0,
                          "ticks": ""
                        },
                        "colorscale": [
                          [
                            0,
                            "#0d0887"
                          ],
                          [
                            0.1111111111111111,
                            "#46039f"
                          ],
                          [
                            0.2222222222222222,
                            "#7201a8"
                          ],
                          [
                            0.3333333333333333,
                            "#9c179e"
                          ],
                          [
                            0.4444444444444444,
                            "#bd3786"
                          ],
                          [
                            0.5555555555555556,
                            "#d8576b"
                          ],
                          [
                            0.6666666666666666,
                            "#ed7953"
                          ],
                          [
                            0.7777777777777778,
                            "#fb9f3a"
                          ],
                          [
                            0.8888888888888888,
                            "#fdca26"
                          ],
                          [
                            1,
                            "#f0f921"
                          ]
                        ],
                        "type": "histogram2dcontour"
                      }
                    ],
                    "mesh3d": [
                      {
                        "colorbar": {
                          "outlinewidth": 0,
                          "ticks": ""
                        },
                        "type": "mesh3d"
                      }
                    ],
                    "parcoords": [
                      {
                        "line": {
                          "colorbar": {
                            "outlinewidth": 0,
                            "ticks": ""
                          }
                        },
                        "type": "parcoords"
                      }
                    ],
                    "pie": [
                      {
                        "automargin": true,
                        "type": "pie"
                      }
                    ],
                    "scatter": [
                      {
                        "fillpattern": {
                          "fillmode": "overlay",
                          "size": 10,
                          "solidity": 0.2
                        },
                        "type": "scatter"
                      }
                    ],
                    "scatter3d": [
                      {
                        "line": {
                          "colorbar": {
                            "outlinewidth": 0,
                            "ticks": ""
                          }
                        },
                        "marker": {
                          "colorbar": {
                            "outlinewidth": 0,
                            "ticks": ""
                          }
                        },
                        "type": "scatter3d"
                      }
                    ],
                    "scattercarpet": [
                      {
                        "marker": {
                          "colorbar": {
                            "outlinewidth": 0,
                            "ticks": ""
                          }
                        },
                        "type": "scattercarpet"
                      }
                    ],
                    "scattergeo": [
                      {
                        "marker": {
                          "colorbar": {
                            "outlinewidth": 0,
                            "ticks": ""
                          }
                        },
                        "type": "scattergeo"
                      }
                    ],
                    "scattergl": [
                      {
                        "marker": {
                          "colorbar": {
                            "outlinewidth": 0,
                            "ticks": ""
                          }
                        },
                        "type": "scattergl"
                      }
                    ],
                    "scattermapbox": [
                      {
                        "marker": {
                          "colorbar": {
                            "outlinewidth": 0,
                            "ticks": ""
                          }
                        },
                        "type": "scattermapbox"
                      }
                    ],
                    "scatterpolar": [
                      {
                        "marker": {
                          "colorbar": {
                            "outlinewidth": 0,
                            "ticks": ""
                          }
                        },
                        "type": "scatterpolar"
                      }
                    ],
                    "scatterpolargl": [
                      {
                        "marker": {
                          "colorbar": {
                            "outlinewidth": 0,
                            "ticks": ""
                          }
                        },
                        "type": "scatterpolargl"
                      }
                    ],
                    "scatterternary": [
                      {
                        "marker": {
                          "colorbar": {
                            "outlinewidth": 0,
                            "ticks": ""
                          }
                        },
                        "type": "scatterternary"
                      }
                    ],
                    "surface": [
                      {
                        "colorbar": {
                          "outlinewidth": 0,
                          "ticks": ""
                        },
                        "colorscale": [
                          [
                            0,
                            "#0d0887"
                          ],
                          [
                            0.1111111111111111,
                            "#46039f"
                          ],
                          [
                            0.2222222222222222,
                            "#7201a8"
                          ],
                          [
                            0.3333333333333333,
                            "#9c179e"
                          ],
                          [
                            0.4444444444444444,
                            "#bd3786"
                          ],
                          [
                            0.5555555555555556,
                            "#d8576b"
                          ],
                          [
                            0.6666666666666666,
                            "#ed7953"
                          ],
                          [
                            0.7777777777777778,
                            "#fb9f3a"
                          ],
                          [
                            0.8888888888888888,
                            "#fdca26"
                          ],
                          [
                            1,
                            "#f0f921"
                          ]
                        ],
                        "type": "surface"
                      }
                    ],
                    "table": [
                      {
                        "cells": {
                          "fill": {
                            "color": "#EBF0F8"
                          },
                          "line": {
                            "color": "white"
                          }
                        },
                        "header": {
                          "fill": {
                            "color": "#C8D4E3"
                          },
                          "line": {
                            "color": "white"
                          }
                        },
                        "type": "table"
                      }
                    ]
                  },
                  "layout": {
                    "annotationdefaults": {
                      "arrowcolor": "#2a3f5f",
                      "arrowhead": 0,
                      "arrowwidth": 1
                    },
                    "autotypenumbers": "strict",
                    "coloraxis": {
                      "colorbar": {
                        "outlinewidth": 0,
                        "ticks": ""
                      }
                    },
                    "colorscale": {
                      "diverging": [
                        [
                          0,
                          "#8e0152"
                        ],
                        [
                          0.1,
                          "#c51b7d"
                        ],
                        [
                          0.2,
                          "#de77ae"
                        ],
                        [
                          0.3,
                          "#f1b6da"
                        ],
                        [
                          0.4,
                          "#fde0ef"
                        ],
                        [
                          0.5,
                          "#f7f7f7"
                        ],
                        [
                          0.6,
                          "#e6f5d0"
                        ],
                        [
                          0.7,
                          "#b8e186"
                        ],
                        [
                          0.8,
                          "#7fbc41"
                        ],
                        [
                          0.9,
                          "#4d9221"
                        ],
                        [
                          1,
                          "#276419"
                        ]
                      ],
                      "sequential": [
                        [
                          0,
                          "#0d0887"
                        ],
                        [
                          0.1111111111111111,
                          "#46039f"
                        ],
                        [
                          0.2222222222222222,
                          "#7201a8"
                        ],
                        [
                          0.3333333333333333,
                          "#9c179e"
                        ],
                        [
                          0.4444444444444444,
                          "#bd3786"
                        ],
                        [
                          0.5555555555555556,
                          "#d8576b"
                        ],
                        [
                          0.6666666666666666,
                          "#ed7953"
                        ],
                        [
                          0.7777777777777778,
                          "#fb9f3a"
                        ],
                        [
                          0.8888888888888888,
                          "#fdca26"
                        ],
                        [
                          1,
                          "#f0f921"
                        ]
                      ],
                      "sequentialminus": [
                        [
                          0,
                          "#0d0887"
                        ],
                        [
                          0.1111111111111111,
                          "#46039f"
                        ],
                        [
                          0.2222222222222222,
                          "#7201a8"
                        ],
                        [
                          0.3333333333333333,
                          "#9c179e"
                        ],
                        [
                          0.4444444444444444,
                          "#bd3786"
                        ],
                        [
                          0.5555555555555556,
                          "#d8576b"
                        ],
                        [
                          0.6666666666666666,
                          "#ed7953"
                        ],
                        [
                          0.7777777777777778,
                          "#fb9f3a"
                        ],
                        [
                          0.8888888888888888,
                          "#fdca26"
                        ],
                        [
                          1,
                          "#f0f921"
                        ]
                      ]
                    },
                    "colorway": [
                      "#636efa",
                      "#EF553B",
                      "#00cc96",
                      "#ab63fa",
                      "#FFA15A",
                      "#19d3f3",
                      "#FF6692",
                      "#B6E880",
                      "#FF97FF",
                      "#FECB52"
                    ],
                    "font": {
                      "color": "#2a3f5f"
                    },
                    "geo": {
                      "bgcolor": "white",
                      "lakecolor": "white",
                      "landcolor": "#E5ECF6",
                      "showlakes": true,
                      "showland": true,
                      "subunitcolor": "white"
                    },
                    "hoverlabel": {
                      "align": "left"
                    },
                    "hovermode": "closest",
                    "mapbox": {
                      "style": "light"
                    },
                    "paper_bgcolor": "white",
                    "plot_bgcolor": "#E5ECF6",
                    "polar": {
                      "angularaxis": {
                        "gridcolor": "white",
                        "linecolor": "white",
                        "ticks": ""
                      },
                      "bgcolor": "#E5ECF6",
                      "radialaxis": {
                        "gridcolor": "white",
                        "linecolor": "white",
                        "ticks": ""
                      }
                    },
                    "scene": {
                      "xaxis": {
                        "backgroundcolor": "#E5ECF6",
                        "gridcolor": "white",
                        "gridwidth": 2,
                        "linecolor": "white",
                        "showbackground": true,
                        "ticks": "",
                        "zerolinecolor": "white"
                      },
                      "yaxis": {
                        "backgroundcolor": "#E5ECF6",
                        "gridcolor": "white",
                        "gridwidth": 2,
                        "linecolor": "white",
                        "showbackground": true,
                        "ticks": "",
                        "zerolinecolor": "white"
                      },
                      "zaxis": {
                        "backgroundcolor": "#E5ECF6",
                        "gridcolor": "white",
                        "gridwidth": 2,
                        "linecolor": "white",
                        "showbackground": true,
                        "ticks": "",
                        "zerolinecolor": "white"
                      }
                    },
                    "shapedefaults": {
                      "line": {
                        "color": "#2a3f5f"
                      }
                    },
                    "ternary": {
                      "aaxis": {
                        "gridcolor": "white",
                        "linecolor": "white",
                        "ticks": ""
                      },
                      "baxis": {
                        "gridcolor": "white",
                        "linecolor": "white",
                        "ticks": ""
                      },
                      "bgcolor": "#E5ECF6",
                      "caxis": {
                        "gridcolor": "white",
                        "linecolor": "white",
                        "ticks": ""
                      }
                    },
                    "title": {
                      "x": 0.05
                    },
                    "xaxis": {
                      "automargin": true,
                      "gridcolor": "white",
                      "linecolor": "white",
                      "ticks": "",
                      "title": {
                        "standoff": 15
                      },
                      "zerolinecolor": "white",
                      "zerolinewidth": 2
                    },
                    "yaxis": {
                      "automargin": true,
                      "gridcolor": "white",
                      "linecolor": "white",
                      "ticks": "",
                      "title": {
                        "standoff": 15
                      },
                      "zerolinecolor": "white",
                      "zerolinewidth": 2
                    }
                  }
                },
                "title": {
                  "text": "sul"
                },
                "xaxis": {
                  "title": {
                    "text": "Time"
                  }
                },
                "yaxis": {
                  "title": {
                    "text": "Value"
                  }
                }
              }
            }
          },
          "metadata": {},
          "output_type": "display_data"
        },
        {
          "data": {
            "application/vnd.plotly.v1+json": {
              "config": {
                "plotlyServerURL": "https://plot.ly"
              },
              "data": [
                {
                  "line": {
                    "color": "black",
                    "dash": "dot"
                  },
                  "mode": "lines",
                  "name": "Baseline",
                  "type": "scatter",
                  "x": [
                    "2016-01-01T00:00:00.000000000",
                    "2016-02-01T00:00:00.000000000",
                    "2016-03-01T00:00:00.000000000",
                    "2016-04-01T00:00:00.000000000",
                    "2016-05-01T00:00:00.000000000",
                    "2016-06-01T00:00:00.000000000",
                    "2016-07-01T00:00:00.000000000",
                    "2016-08-01T00:00:00.000000000",
                    "2016-09-01T00:00:00.000000000",
                    "2016-10-01T00:00:00.000000000",
                    "2016-11-01T00:00:00.000000000",
                    "2016-12-01T00:00:00.000000000",
                    "2017-01-01T00:00:00.000000000",
                    "2017-02-01T00:00:00.000000000",
                    "2017-03-01T00:00:00.000000000",
                    "2017-04-01T00:00:00.000000000",
                    "2017-05-01T00:00:00.000000000",
                    "2017-06-01T00:00:00.000000000",
                    "2017-07-01T00:00:00.000000000",
                    "2017-08-01T00:00:00.000000000",
                    "2017-09-01T00:00:00.000000000",
                    "2017-10-01T00:00:00.000000000",
                    "2017-11-01T00:00:00.000000000",
                    "2017-12-01T00:00:00.000000000",
                    "2018-01-01T00:00:00.000000000",
                    "2018-02-01T00:00:00.000000000",
                    "2018-03-01T00:00:00.000000000",
                    "2018-04-01T00:00:00.000000000",
                    "2018-05-01T00:00:00.000000000",
                    "2018-06-01T00:00:00.000000000",
                    "2018-07-01T00:00:00.000000000",
                    "2018-08-01T00:00:00.000000000",
                    "2018-09-01T00:00:00.000000000",
                    "2018-10-01T00:00:00.000000000",
                    "2018-11-01T00:00:00.000000000",
                    "2018-12-01T00:00:00.000000000",
                    "2019-01-01T00:00:00.000000000",
                    "2019-02-01T00:00:00.000000000",
                    "2019-03-01T00:00:00.000000000",
                    "2019-04-01T00:00:00.000000000",
                    "2019-05-01T00:00:00.000000000",
                    "2019-06-01T00:00:00.000000000",
                    "2019-07-01T00:00:00.000000000",
                    "2019-08-01T00:00:00.000000000",
                    "2019-09-01T00:00:00.000000000",
                    "2019-10-01T00:00:00.000000000",
                    "2019-11-01T00:00:00.000000000",
                    "2019-12-01T00:00:00.000000000",
                    "2020-01-01T00:00:00.000000000",
                    "2020-02-01T00:00:00.000000000",
                    "2020-03-01T00:00:00.000000000",
                    "2020-04-01T00:00:00.000000000",
                    "2020-05-01T00:00:00.000000000",
                    "2020-06-01T00:00:00.000000000",
                    "2020-07-01T00:00:00.000000000",
                    "2020-08-01T00:00:00.000000000",
                    "2020-09-01T00:00:00.000000000",
                    "2020-10-01T00:00:00.000000000",
                    "2020-11-01T00:00:00.000000000",
                    "2020-12-01T00:00:00.000000000",
                    "2021-01-01T00:00:00.000000000",
                    "2021-02-01T00:00:00.000000000",
                    "2021-03-01T00:00:00.000000000",
                    "2021-04-01T00:00:00.000000000",
                    "2021-05-01T00:00:00.000000000",
                    "2021-06-01T00:00:00.000000000",
                    "2021-07-01T00:00:00.000000000",
                    "2021-08-01T00:00:00.000000000",
                    "2021-09-01T00:00:00.000000000",
                    "2021-10-01T00:00:00.000000000",
                    "2021-11-01T00:00:00.000000000",
                    "2021-12-01T00:00:00.000000000",
                    "2022-01-01T00:00:00.000000000",
                    "2022-02-01T00:00:00.000000000",
                    "2022-03-01T00:00:00.000000000",
                    "2022-04-01T00:00:00.000000000",
                    "2022-05-01T00:00:00.000000000",
                    "2022-06-01T00:00:00.000000000",
                    "2022-07-01T00:00:00.000000000",
                    "2022-08-01T00:00:00.000000000",
                    "2022-09-01T00:00:00.000000000",
                    "2022-10-01T00:00:00.000000000",
                    "2022-11-01T00:00:00.000000000",
                    "2022-12-01T00:00:00.000000000",
                    "2023-01-01T00:00:00.000000000",
                    "2023-02-01T00:00:00.000000000",
                    "2023-03-01T00:00:00.000000000",
                    "2023-04-01T00:00:00.000000000",
                    "2023-05-01T00:00:00.000000000",
                    "2023-06-01T00:00:00.000000000",
                    "2023-07-01T00:00:00.000000000",
                    "2023-08-01T00:00:00.000000000",
                    "2023-09-01T00:00:00.000000000",
                    "2023-10-01T00:00:00.000000000",
                    "2023-11-01T00:00:00.000000000",
                    "2023-12-01T00:00:00.000000000",
                    "2024-01-01T00:00:00.000000000",
                    "2024-02-01T00:00:00.000000000",
                    "2024-03-01T00:00:00.000000000",
                    "2024-04-01T00:00:00.000000000",
                    "2024-05-01T00:00:00.000000000",
                    "2024-06-01T00:00:00.000000000",
                    "2024-07-01T00:00:00.000000000",
                    "2024-08-01T00:00:00.000000000",
                    "2024-09-01T00:00:00.000000000",
                    "2024-10-01T00:00:00.000000000",
                    "2024-11-01T00:00:00.000000000",
                    "2024-12-01T00:00:00.000000000"
                  ],
                  "y": [
                    10.034715332666797,
                    10.33349897030116,
                    10.632282607935522,
                    10.931066245569886,
                    11.229849883204247,
                    11.52863352083861,
                    11.827417158472972,
                    12.126200796107335,
                    12.424984433741697,
                    12.72376807137606,
                    13.022551709010422,
                    13.321335346644783,
                    13.620118984279147,
                    13.91890262191351,
                    14.217686259547872,
                    14.516469897182233,
                    14.815253534816597,
                    15.11403717245096,
                    15.412820810085321,
                    15.711604447719683,
                    16.010388085354045,
                    16.30917172298841,
                    16.60795536062277,
                    16.906738998257133,
                    17.205522635891494,
                    17.504306273525856,
                    17.80308991116022,
                    18.101873548794583,
                    18.400657186428944,
                    18.69944082406331,
                    18.99822446169767,
                    19.297008099332032,
                    19.595791736966394,
                    19.894575374600755,
                    20.19335901223512,
                    20.492142649869482,
                    20.790926287503844,
                    21.08970992513821,
                    21.388493562772567,
                    21.687277200406932,
                    21.986060838041293,
                    22.284844475675655,
                    22.58362811331002,
                    22.88241175094438,
                    23.181195388578743,
                    23.47997902621311,
                    23.778762663847466,
                    24.07754630148183,
                    24.376329939116193,
                    24.675113576750555,
                    24.97389721438492,
                    25.272680852019278,
                    25.571464489653643,
                    25.870248127288008,
                    26.169031764922366,
                    26.46781540255673,
                    26.76659904019109,
                    27.065382677825454,
                    27.36416631545982,
                    27.662949953094177,
                    27.961733590728542,
                    28.260517228362907,
                    28.559300865997265,
                    28.85808450363163,
                    29.15686814126599,
                    29.455651778900354,
                    29.75443541653472,
                    30.053219054169077,
                    30.352002691803442,
                    30.6507863294378,
                    30.949569967072165,
                    31.24835360470653,
                    31.547137242340888,
                    31.845920879975253,
                    32.14470451760962,
                    32.443488155243976,
                    32.74227179287834,
                    33.0410554305127,
                    33.339839068147064,
                    33.63862270578143,
                    33.93740634341579,
                    34.23618998105015,
                    34.53497361868451,
                    34.833757256318876,
                    35.13254089395324,
                    35.4313245315876,
                    35.730108169221964,
                    36.02889180685633,
                    36.32767544449069,
                    36.62645908212505,
                    36.92524271975941,
                    37.224026357393775,
                    37.52280999502814,
                    37.8215936326625,
                    38.12037727029686,
                    38.41916090793122,
                    38.71794454556559,
                    39.01672818319995,
                    39.31551182083431,
                    39.614295458468675,
                    39.91307909610304,
                    40.2118627337374,
                    40.51064637137176,
                    40.80943000900612,
                    41.108213646640486,
                    41.40699728427485,
                    41.70578092190921,
                    42.004564559543574
                  ]
                },
                {
                  "marker": {
                    "color": "black"
                  },
                  "mode": "markers",
                  "name": "Real",
                  "type": "scatter",
                  "x": [
                    "2016-01-01T00:00:00.000000000",
                    "2016-02-01T00:00:00.000000000",
                    "2016-03-01T00:00:00.000000000",
                    "2016-04-01T00:00:00.000000000",
                    "2016-05-01T00:00:00.000000000",
                    "2016-06-01T00:00:00.000000000",
                    "2016-07-01T00:00:00.000000000",
                    "2016-08-01T00:00:00.000000000",
                    "2016-09-01T00:00:00.000000000",
                    "2016-10-01T00:00:00.000000000",
                    "2016-11-01T00:00:00.000000000",
                    "2016-12-01T00:00:00.000000000",
                    "2017-01-01T00:00:00.000000000",
                    "2017-02-01T00:00:00.000000000",
                    "2017-03-01T00:00:00.000000000",
                    "2017-04-01T00:00:00.000000000",
                    "2017-05-01T00:00:00.000000000",
                    "2017-06-01T00:00:00.000000000",
                    "2017-07-01T00:00:00.000000000",
                    "2017-08-01T00:00:00.000000000",
                    "2017-09-01T00:00:00.000000000",
                    "2017-10-01T00:00:00.000000000",
                    "2017-11-01T00:00:00.000000000",
                    "2017-12-01T00:00:00.000000000",
                    "2018-01-01T00:00:00.000000000",
                    "2018-02-01T00:00:00.000000000",
                    "2018-03-01T00:00:00.000000000",
                    "2018-04-01T00:00:00.000000000",
                    "2018-05-01T00:00:00.000000000",
                    "2018-06-01T00:00:00.000000000",
                    "2018-07-01T00:00:00.000000000",
                    "2018-08-01T00:00:00.000000000",
                    "2018-09-01T00:00:00.000000000",
                    "2018-10-01T00:00:00.000000000",
                    "2018-11-01T00:00:00.000000000",
                    "2018-12-01T00:00:00.000000000",
                    "2019-01-01T00:00:00.000000000",
                    "2019-02-01T00:00:00.000000000",
                    "2019-03-01T00:00:00.000000000",
                    "2019-04-01T00:00:00.000000000",
                    "2019-05-01T00:00:00.000000000",
                    "2019-06-01T00:00:00.000000000",
                    "2019-07-01T00:00:00.000000000",
                    "2019-08-01T00:00:00.000000000",
                    "2019-09-01T00:00:00.000000000",
                    "2019-10-01T00:00:00.000000000",
                    "2019-11-01T00:00:00.000000000",
                    "2019-12-01T00:00:00.000000000",
                    "2020-01-01T00:00:00.000000000",
                    "2020-02-01T00:00:00.000000000",
                    "2020-03-01T00:00:00.000000000",
                    "2020-04-01T00:00:00.000000000",
                    "2020-05-01T00:00:00.000000000",
                    "2020-06-01T00:00:00.000000000",
                    "2020-07-01T00:00:00.000000000",
                    "2020-08-01T00:00:00.000000000",
                    "2020-09-01T00:00:00.000000000",
                    "2020-10-01T00:00:00.000000000",
                    "2020-11-01T00:00:00.000000000",
                    "2020-12-01T00:00:00.000000000",
                    "2021-01-01T00:00:00.000000000",
                    "2021-02-01T00:00:00.000000000",
                    "2021-03-01T00:00:00.000000000",
                    "2021-04-01T00:00:00.000000000",
                    "2021-05-01T00:00:00.000000000",
                    "2021-06-01T00:00:00.000000000",
                    "2021-07-01T00:00:00.000000000",
                    "2021-08-01T00:00:00.000000000",
                    "2021-09-01T00:00:00.000000000",
                    "2021-10-01T00:00:00.000000000",
                    "2021-11-01T00:00:00.000000000",
                    "2021-12-01T00:00:00.000000000",
                    "2022-01-01T00:00:00.000000000",
                    "2022-02-01T00:00:00.000000000",
                    "2022-03-01T00:00:00.000000000",
                    "2022-04-01T00:00:00.000000000",
                    "2022-05-01T00:00:00.000000000",
                    "2022-06-01T00:00:00.000000000",
                    "2022-07-01T00:00:00.000000000",
                    "2022-08-01T00:00:00.000000000",
                    "2022-09-01T00:00:00.000000000",
                    "2022-10-01T00:00:00.000000000",
                    "2022-11-01T00:00:00.000000000",
                    "2022-12-01T00:00:00.000000000",
                    "2023-01-01T00:00:00.000000000",
                    "2023-02-01T00:00:00.000000000",
                    "2023-03-01T00:00:00.000000000",
                    "2023-04-01T00:00:00.000000000",
                    "2023-05-01T00:00:00.000000000",
                    "2023-06-01T00:00:00.000000000",
                    "2023-07-01T00:00:00.000000000",
                    "2023-08-01T00:00:00.000000000",
                    "2023-09-01T00:00:00.000000000",
                    "2023-10-01T00:00:00.000000000",
                    "2023-11-01T00:00:00.000000000",
                    "2023-12-01T00:00:00.000000000",
                    "2024-01-01T00:00:00.000000000",
                    "2024-02-01T00:00:00.000000000",
                    "2024-03-01T00:00:00.000000000",
                    "2024-04-01T00:00:00.000000000",
                    "2024-05-01T00:00:00.000000000",
                    "2024-06-01T00:00:00.000000000",
                    "2024-07-01T00:00:00.000000000",
                    "2024-08-01T00:00:00.000000000",
                    "2024-09-01T00:00:00.000000000",
                    "2024-10-01T00:00:00.000000000",
                    "2024-11-01T00:00:00.000000000",
                    "2024-12-01T00:00:00.000000000"
                  ],
                  "y": [
                    16.214763539224194,
                    11.50081305717404,
                    10.747750033985515,
                    10.967214069519914,
                    11.301033855683935,
                    11.50675837651441,
                    11.240982076129269,
                    10.99509605189297,
                    12.14665085054689,
                    12.600596430118408,
                    13.000515144930015,
                    14.364605310169305,
                    14.236164688676144,
                    14.761487357587162,
                    14.761886967492044,
                    15.14359134501428,
                    14.410209607866232,
                    15.451024504087313,
                    15.36138150781766,
                    15.588142981248229,
                    17.065052285574094,
                    18.06155750906033,
                    17.841909478125782,
                    18.05480018412292,
                    17.669845094648576,
                    18.185187308725563,
                    17.950453785779263,
                    18.729090799185194,
                    18.081350208384745,
                    19.56274308315385,
                    18.885640415734603,
                    19.793114608531845,
                    19.759887562699213,
                    20.337163673447794,
                    20.63169704718812,
                    20.218297179083624,
                    19.640453178247334,
                    20.274882787563254,
                    20.424304598098384,
                    19.631902149191486,
                    19.974011964303227,
                    20.77808414973822,
                    22.082711271518505,
                    24.09753919330329,
                    24.508796528561742,
                    24.61146428133453,
                    24.586285364643953,
                    24.81857492401945,
                    24.285880826912887,
                    25.163916993285326,
                    25.164493190057506,
                    31.586773731311002,
                    30.04770398432218,
                    28.70785063666342,
                    26.893340847344078,
                    27.74223470570267,
                    28.791763634418853,
                    28.10866990685818,
                    27.537725064250072,
                    27.093181900417818,
                    25.655236468392513,
                    27.276362168033607,
                    26.2061040320222,
                    28.22230211244873,
                    26.450315791316513,
                    26.571615780316336,
                    28.131499613846472,
                    29.40814456535118,
                    30.03777349027119,
                    29.98090772016616,
                    29.082972686148715,
                    27.125681540080386,
                    20.50091788014112,
                    27.461225650517765,
                    28.686628966228405,
                    28.656692341815543,
                    27.09992907510253,
                    25.453157857291124,
                    25.487032246085946,
                    26.949134176379925,
                    29.74795136807938,
                    29.17274461050485,
                    28.436756672617342,
                    28.67752865677373,
                    29.80827743003414,
                    30.714038739391953,
                    29.41020297275323,
                    29.089856244683215,
                    29.721212779513397,
                    30.519215021874267,
                    31.195245406092614,
                    32.408510612327895,
                    33.153697014146786,
                    32.608724856068434,
                    32.36564873933189,
                    32.43238065832724,
                    32.223857394218086,
                    30.759512116085055,
                    28.157161333648816,
                    29.068986571894232,
                    30.5624130123724,
                    31.575337443150843,
                    32.59123306696037,
                    33.70667079457516,
                    33.542262834221226,
                    33.40932597857896,
                    33.451133476929996,
                    32.50169407996058
                  ]
                },
                {
                  "line": {
                    "color": "purple"
                  },
                  "mode": "lines",
                  "name": "Full model",
                  "type": "scatter",
                  "x": [
                    "2016-01-01T00:00:00.000000000",
                    "2016-02-01T00:00:00.000000000",
                    "2016-03-01T00:00:00.000000000",
                    "2016-04-01T00:00:00.000000000",
                    "2016-05-01T00:00:00.000000000",
                    "2016-06-01T00:00:00.000000000",
                    "2016-07-01T00:00:00.000000000",
                    "2016-08-01T00:00:00.000000000",
                    "2016-09-01T00:00:00.000000000",
                    "2016-10-01T00:00:00.000000000",
                    "2016-11-01T00:00:00.000000000",
                    "2016-12-01T00:00:00.000000000",
                    "2017-01-01T00:00:00.000000000",
                    "2017-02-01T00:00:00.000000000",
                    "2017-03-01T00:00:00.000000000",
                    "2017-04-01T00:00:00.000000000",
                    "2017-05-01T00:00:00.000000000",
                    "2017-06-01T00:00:00.000000000",
                    "2017-07-01T00:00:00.000000000",
                    "2017-08-01T00:00:00.000000000",
                    "2017-09-01T00:00:00.000000000",
                    "2017-10-01T00:00:00.000000000",
                    "2017-11-01T00:00:00.000000000",
                    "2017-12-01T00:00:00.000000000",
                    "2018-01-01T00:00:00.000000000",
                    "2018-02-01T00:00:00.000000000",
                    "2018-03-01T00:00:00.000000000",
                    "2018-04-01T00:00:00.000000000",
                    "2018-05-01T00:00:00.000000000",
                    "2018-06-01T00:00:00.000000000",
                    "2018-07-01T00:00:00.000000000",
                    "2018-08-01T00:00:00.000000000",
                    "2018-09-01T00:00:00.000000000",
                    "2018-10-01T00:00:00.000000000",
                    "2018-11-01T00:00:00.000000000",
                    "2018-12-01T00:00:00.000000000",
                    "2019-01-01T00:00:00.000000000",
                    "2019-02-01T00:00:00.000000000",
                    "2019-03-01T00:00:00.000000000",
                    "2019-04-01T00:00:00.000000000",
                    "2019-05-01T00:00:00.000000000",
                    "2019-06-01T00:00:00.000000000",
                    "2019-07-01T00:00:00.000000000",
                    "2019-08-01T00:00:00.000000000",
                    "2019-09-01T00:00:00.000000000",
                    "2019-10-01T00:00:00.000000000",
                    "2019-11-01T00:00:00.000000000",
                    "2019-12-01T00:00:00.000000000",
                    "2020-01-01T00:00:00.000000000",
                    "2020-02-01T00:00:00.000000000",
                    "2020-03-01T00:00:00.000000000",
                    "2020-04-01T00:00:00.000000000",
                    "2020-05-01T00:00:00.000000000",
                    "2020-06-01T00:00:00.000000000",
                    "2020-07-01T00:00:00.000000000",
                    "2020-08-01T00:00:00.000000000",
                    "2020-09-01T00:00:00.000000000",
                    "2020-10-01T00:00:00.000000000",
                    "2020-11-01T00:00:00.000000000",
                    "2020-12-01T00:00:00.000000000",
                    "2021-01-01T00:00:00.000000000",
                    "2021-02-01T00:00:00.000000000",
                    "2021-03-01T00:00:00.000000000",
                    "2021-04-01T00:00:00.000000000",
                    "2021-05-01T00:00:00.000000000",
                    "2021-06-01T00:00:00.000000000",
                    "2021-07-01T00:00:00.000000000",
                    "2021-08-01T00:00:00.000000000",
                    "2021-09-01T00:00:00.000000000",
                    "2021-10-01T00:00:00.000000000",
                    "2021-11-01T00:00:00.000000000",
                    "2021-12-01T00:00:00.000000000",
                    "2022-01-01T00:00:00.000000000",
                    "2022-02-01T00:00:00.000000000",
                    "2022-03-01T00:00:00.000000000",
                    "2022-04-01T00:00:00.000000000",
                    "2022-05-01T00:00:00.000000000",
                    "2022-06-01T00:00:00.000000000",
                    "2022-07-01T00:00:00.000000000",
                    "2022-08-01T00:00:00.000000000",
                    "2022-09-01T00:00:00.000000000",
                    "2022-10-01T00:00:00.000000000",
                    "2022-11-01T00:00:00.000000000",
                    "2022-12-01T00:00:00.000000000",
                    "2023-01-01T00:00:00.000000000",
                    "2023-02-01T00:00:00.000000000",
                    "2023-03-01T00:00:00.000000000",
                    "2023-04-01T00:00:00.000000000",
                    "2023-05-01T00:00:00.000000000",
                    "2023-06-01T00:00:00.000000000",
                    "2023-07-01T00:00:00.000000000",
                    "2023-08-01T00:00:00.000000000",
                    "2023-09-01T00:00:00.000000000",
                    "2023-10-01T00:00:00.000000000",
                    "2023-11-01T00:00:00.000000000",
                    "2023-12-01T00:00:00.000000000",
                    "2024-01-01T00:00:00.000000000",
                    "2024-02-01T00:00:00.000000000",
                    "2024-03-01T00:00:00.000000000",
                    "2024-04-01T00:00:00.000000000",
                    "2024-05-01T00:00:00.000000000",
                    "2024-06-01T00:00:00.000000000",
                    "2024-07-01T00:00:00.000000000",
                    "2024-08-01T00:00:00.000000000",
                    "2024-09-01T00:00:00.000000000",
                    "2024-10-01T00:00:00.000000000",
                    "2024-11-01T00:00:00.000000000",
                    "2024-12-01T00:00:00.000000000"
                  ],
                  "y": [
                    10.034715332666797,
                    10.33349897030116,
                    10.632282607935522,
                    10.931066245569886,
                    11.229849883204247,
                    11.52863352083861,
                    11.827417158472972,
                    12.126200796107335,
                    12.424984433741697,
                    12.72376807137606,
                    13.022551709010422,
                    13.321335346644783,
                    13.620118984279147,
                    13.91890262191351,
                    14.217686259547872,
                    14.516469897182233,
                    14.815253534816597,
                    15.11403717245096,
                    15.412820810085321,
                    15.711604447719683,
                    16.010388085354045,
                    16.30917172298841,
                    16.60795536062277,
                    16.906738998257133,
                    17.205522635891494,
                    17.504306273525856,
                    17.80308991116022,
                    18.101873548794583,
                    18.400657186428944,
                    18.69944082406331,
                    18.99822446169767,
                    19.297008099332032,
                    19.595791736966394,
                    19.894575374600755,
                    20.19335901223512,
                    20.492142649869482,
                    20.790926287503844,
                    21.08970992513821,
                    21.388493562772567,
                    21.687277200406932,
                    21.986060838041293,
                    22.284844475675655,
                    22.58362811331002,
                    22.88241175094438,
                    23.181195388578743,
                    23.47997902621311,
                    23.778762663847466,
                    24.07754630148183,
                    24.376329939116193,
                    24.675113576750555,
                    24.97389721438492,
                    29.175237036373257,
                    29.07543574291128,
                    28.975634449449306,
                    28.875833155987323,
                    28.776031862525347,
                    28.676230569063364,
                    28.576429275601388,
                    28.476627982139412,
                    28.37682668867743,
                    28.277025395215453,
                    28.177224101753477,
                    28.077422808291495,
                    27.977621514829522,
                    27.877820221367536,
                    27.778018927905563,
                    27.678217634443584,
                    27.578416340981605,
                    27.478615047519625,
                    27.378813754057646,
                    27.279012460595666,
                    27.179211167133694,
                    27.079409873671707,
                    26.979608580209735,
                    26.87980728674776,
                    27.38293106654373,
                    27.571065335589427,
                    27.75919960463512,
                    27.947333873680822,
                    28.135468142726523,
                    28.323602411772214,
                    28.511736680817915,
                    28.69987094986361,
                    28.888005218909306,
                    29.076139487955007,
                    29.2642737570007,
                    29.452408026046403,
                    29.6405422950921,
                    29.828676564137794,
                    30.016810833183495,
                    30.20494510222919,
                    30.393079371274887,
                    30.581213640320588,
                    30.76934790936628,
                    30.95748217841198,
                    31.145616447457673,
                    31.333750716503374,
                    31.52188498554907,
                    31.710019254594766,
                    31.898153523640467,
                    32.086287792686164,
                    32.27442206173186,
                    32.46255633077756,
                    32.65069059982325,
                    32.838824868868954,
                    33.02695913791465,
                    33.21509340696035,
                    33.40322767600605
                  ]
                }
              ],
              "layout": {
                "annotations": [
                  {
                    "arrowhead": 2,
                    "ax": 30,
                    "ay": -40,
                    "showarrow": true,
                    "text": "Pandemia",
                    "x": "2020-04-01",
                    "y": 33.70667079457516
                  },
                  {
                    "arrowhead": 2,
                    "ax": 30,
                    "ay": -40,
                    "showarrow": true,
                    "text": "Pos Pandemia",
                    "x": "2022-04-01",
                    "y": 33.70667079457516
                  }
                ],
                "legend": {
                  "title": {
                    "text": "Legend"
                  }
                },
                "shapes": [
                  {
                    "line": {
                      "color": "black",
                      "dash": "dash"
                    },
                    "type": "line",
                    "x0": "2020-04-01",
                    "x1": "2020-04-01",
                    "y0": 10.747750033985515,
                    "y1": 33.70667079457516
                  },
                  {
                    "line": {
                      "color": "black",
                      "dash": "dash"
                    },
                    "type": "line",
                    "x0": "2022-04-01",
                    "x1": "2022-04-01",
                    "y0": 10.747750033985515,
                    "y1": 33.70667079457516
                  }
                ],
                "template": {
                  "data": {
                    "bar": [
                      {
                        "error_x": {
                          "color": "#2a3f5f"
                        },
                        "error_y": {
                          "color": "#2a3f5f"
                        },
                        "marker": {
                          "line": {
                            "color": "#E5ECF6",
                            "width": 0.5
                          },
                          "pattern": {
                            "fillmode": "overlay",
                            "size": 10,
                            "solidity": 0.2
                          }
                        },
                        "type": "bar"
                      }
                    ],
                    "barpolar": [
                      {
                        "marker": {
                          "line": {
                            "color": "#E5ECF6",
                            "width": 0.5
                          },
                          "pattern": {
                            "fillmode": "overlay",
                            "size": 10,
                            "solidity": 0.2
                          }
                        },
                        "type": "barpolar"
                      }
                    ],
                    "carpet": [
                      {
                        "aaxis": {
                          "endlinecolor": "#2a3f5f",
                          "gridcolor": "white",
                          "linecolor": "white",
                          "minorgridcolor": "white",
                          "startlinecolor": "#2a3f5f"
                        },
                        "baxis": {
                          "endlinecolor": "#2a3f5f",
                          "gridcolor": "white",
                          "linecolor": "white",
                          "minorgridcolor": "white",
                          "startlinecolor": "#2a3f5f"
                        },
                        "type": "carpet"
                      }
                    ],
                    "choropleth": [
                      {
                        "colorbar": {
                          "outlinewidth": 0,
                          "ticks": ""
                        },
                        "type": "choropleth"
                      }
                    ],
                    "contour": [
                      {
                        "colorbar": {
                          "outlinewidth": 0,
                          "ticks": ""
                        },
                        "colorscale": [
                          [
                            0,
                            "#0d0887"
                          ],
                          [
                            0.1111111111111111,
                            "#46039f"
                          ],
                          [
                            0.2222222222222222,
                            "#7201a8"
                          ],
                          [
                            0.3333333333333333,
                            "#9c179e"
                          ],
                          [
                            0.4444444444444444,
                            "#bd3786"
                          ],
                          [
                            0.5555555555555556,
                            "#d8576b"
                          ],
                          [
                            0.6666666666666666,
                            "#ed7953"
                          ],
                          [
                            0.7777777777777778,
                            "#fb9f3a"
                          ],
                          [
                            0.8888888888888888,
                            "#fdca26"
                          ],
                          [
                            1,
                            "#f0f921"
                          ]
                        ],
                        "type": "contour"
                      }
                    ],
                    "contourcarpet": [
                      {
                        "colorbar": {
                          "outlinewidth": 0,
                          "ticks": ""
                        },
                        "type": "contourcarpet"
                      }
                    ],
                    "heatmap": [
                      {
                        "colorbar": {
                          "outlinewidth": 0,
                          "ticks": ""
                        },
                        "colorscale": [
                          [
                            0,
                            "#0d0887"
                          ],
                          [
                            0.1111111111111111,
                            "#46039f"
                          ],
                          [
                            0.2222222222222222,
                            "#7201a8"
                          ],
                          [
                            0.3333333333333333,
                            "#9c179e"
                          ],
                          [
                            0.4444444444444444,
                            "#bd3786"
                          ],
                          [
                            0.5555555555555556,
                            "#d8576b"
                          ],
                          [
                            0.6666666666666666,
                            "#ed7953"
                          ],
                          [
                            0.7777777777777778,
                            "#fb9f3a"
                          ],
                          [
                            0.8888888888888888,
                            "#fdca26"
                          ],
                          [
                            1,
                            "#f0f921"
                          ]
                        ],
                        "type": "heatmap"
                      }
                    ],
                    "heatmapgl": [
                      {
                        "colorbar": {
                          "outlinewidth": 0,
                          "ticks": ""
                        },
                        "colorscale": [
                          [
                            0,
                            "#0d0887"
                          ],
                          [
                            0.1111111111111111,
                            "#46039f"
                          ],
                          [
                            0.2222222222222222,
                            "#7201a8"
                          ],
                          [
                            0.3333333333333333,
                            "#9c179e"
                          ],
                          [
                            0.4444444444444444,
                            "#bd3786"
                          ],
                          [
                            0.5555555555555556,
                            "#d8576b"
                          ],
                          [
                            0.6666666666666666,
                            "#ed7953"
                          ],
                          [
                            0.7777777777777778,
                            "#fb9f3a"
                          ],
                          [
                            0.8888888888888888,
                            "#fdca26"
                          ],
                          [
                            1,
                            "#f0f921"
                          ]
                        ],
                        "type": "heatmapgl"
                      }
                    ],
                    "histogram": [
                      {
                        "marker": {
                          "pattern": {
                            "fillmode": "overlay",
                            "size": 10,
                            "solidity": 0.2
                          }
                        },
                        "type": "histogram"
                      }
                    ],
                    "histogram2d": [
                      {
                        "colorbar": {
                          "outlinewidth": 0,
                          "ticks": ""
                        },
                        "colorscale": [
                          [
                            0,
                            "#0d0887"
                          ],
                          [
                            0.1111111111111111,
                            "#46039f"
                          ],
                          [
                            0.2222222222222222,
                            "#7201a8"
                          ],
                          [
                            0.3333333333333333,
                            "#9c179e"
                          ],
                          [
                            0.4444444444444444,
                            "#bd3786"
                          ],
                          [
                            0.5555555555555556,
                            "#d8576b"
                          ],
                          [
                            0.6666666666666666,
                            "#ed7953"
                          ],
                          [
                            0.7777777777777778,
                            "#fb9f3a"
                          ],
                          [
                            0.8888888888888888,
                            "#fdca26"
                          ],
                          [
                            1,
                            "#f0f921"
                          ]
                        ],
                        "type": "histogram2d"
                      }
                    ],
                    "histogram2dcontour": [
                      {
                        "colorbar": {
                          "outlinewidth": 0,
                          "ticks": ""
                        },
                        "colorscale": [
                          [
                            0,
                            "#0d0887"
                          ],
                          [
                            0.1111111111111111,
                            "#46039f"
                          ],
                          [
                            0.2222222222222222,
                            "#7201a8"
                          ],
                          [
                            0.3333333333333333,
                            "#9c179e"
                          ],
                          [
                            0.4444444444444444,
                            "#bd3786"
                          ],
                          [
                            0.5555555555555556,
                            "#d8576b"
                          ],
                          [
                            0.6666666666666666,
                            "#ed7953"
                          ],
                          [
                            0.7777777777777778,
                            "#fb9f3a"
                          ],
                          [
                            0.8888888888888888,
                            "#fdca26"
                          ],
                          [
                            1,
                            "#f0f921"
                          ]
                        ],
                        "type": "histogram2dcontour"
                      }
                    ],
                    "mesh3d": [
                      {
                        "colorbar": {
                          "outlinewidth": 0,
                          "ticks": ""
                        },
                        "type": "mesh3d"
                      }
                    ],
                    "parcoords": [
                      {
                        "line": {
                          "colorbar": {
                            "outlinewidth": 0,
                            "ticks": ""
                          }
                        },
                        "type": "parcoords"
                      }
                    ],
                    "pie": [
                      {
                        "automargin": true,
                        "type": "pie"
                      }
                    ],
                    "scatter": [
                      {
                        "fillpattern": {
                          "fillmode": "overlay",
                          "size": 10,
                          "solidity": 0.2
                        },
                        "type": "scatter"
                      }
                    ],
                    "scatter3d": [
                      {
                        "line": {
                          "colorbar": {
                            "outlinewidth": 0,
                            "ticks": ""
                          }
                        },
                        "marker": {
                          "colorbar": {
                            "outlinewidth": 0,
                            "ticks": ""
                          }
                        },
                        "type": "scatter3d"
                      }
                    ],
                    "scattercarpet": [
                      {
                        "marker": {
                          "colorbar": {
                            "outlinewidth": 0,
                            "ticks": ""
                          }
                        },
                        "type": "scattercarpet"
                      }
                    ],
                    "scattergeo": [
                      {
                        "marker": {
                          "colorbar": {
                            "outlinewidth": 0,
                            "ticks": ""
                          }
                        },
                        "type": "scattergeo"
                      }
                    ],
                    "scattergl": [
                      {
                        "marker": {
                          "colorbar": {
                            "outlinewidth": 0,
                            "ticks": ""
                          }
                        },
                        "type": "scattergl"
                      }
                    ],
                    "scattermapbox": [
                      {
                        "marker": {
                          "colorbar": {
                            "outlinewidth": 0,
                            "ticks": ""
                          }
                        },
                        "type": "scattermapbox"
                      }
                    ],
                    "scatterpolar": [
                      {
                        "marker": {
                          "colorbar": {
                            "outlinewidth": 0,
                            "ticks": ""
                          }
                        },
                        "type": "scatterpolar"
                      }
                    ],
                    "scatterpolargl": [
                      {
                        "marker": {
                          "colorbar": {
                            "outlinewidth": 0,
                            "ticks": ""
                          }
                        },
                        "type": "scatterpolargl"
                      }
                    ],
                    "scatterternary": [
                      {
                        "marker": {
                          "colorbar": {
                            "outlinewidth": 0,
                            "ticks": ""
                          }
                        },
                        "type": "scatterternary"
                      }
                    ],
                    "surface": [
                      {
                        "colorbar": {
                          "outlinewidth": 0,
                          "ticks": ""
                        },
                        "colorscale": [
                          [
                            0,
                            "#0d0887"
                          ],
                          [
                            0.1111111111111111,
                            "#46039f"
                          ],
                          [
                            0.2222222222222222,
                            "#7201a8"
                          ],
                          [
                            0.3333333333333333,
                            "#9c179e"
                          ],
                          [
                            0.4444444444444444,
                            "#bd3786"
                          ],
                          [
                            0.5555555555555556,
                            "#d8576b"
                          ],
                          [
                            0.6666666666666666,
                            "#ed7953"
                          ],
                          [
                            0.7777777777777778,
                            "#fb9f3a"
                          ],
                          [
                            0.8888888888888888,
                            "#fdca26"
                          ],
                          [
                            1,
                            "#f0f921"
                          ]
                        ],
                        "type": "surface"
                      }
                    ],
                    "table": [
                      {
                        "cells": {
                          "fill": {
                            "color": "#EBF0F8"
                          },
                          "line": {
                            "color": "white"
                          }
                        },
                        "header": {
                          "fill": {
                            "color": "#C8D4E3"
                          },
                          "line": {
                            "color": "white"
                          }
                        },
                        "type": "table"
                      }
                    ]
                  },
                  "layout": {
                    "annotationdefaults": {
                      "arrowcolor": "#2a3f5f",
                      "arrowhead": 0,
                      "arrowwidth": 1
                    },
                    "autotypenumbers": "strict",
                    "coloraxis": {
                      "colorbar": {
                        "outlinewidth": 0,
                        "ticks": ""
                      }
                    },
                    "colorscale": {
                      "diverging": [
                        [
                          0,
                          "#8e0152"
                        ],
                        [
                          0.1,
                          "#c51b7d"
                        ],
                        [
                          0.2,
                          "#de77ae"
                        ],
                        [
                          0.3,
                          "#f1b6da"
                        ],
                        [
                          0.4,
                          "#fde0ef"
                        ],
                        [
                          0.5,
                          "#f7f7f7"
                        ],
                        [
                          0.6,
                          "#e6f5d0"
                        ],
                        [
                          0.7,
                          "#b8e186"
                        ],
                        [
                          0.8,
                          "#7fbc41"
                        ],
                        [
                          0.9,
                          "#4d9221"
                        ],
                        [
                          1,
                          "#276419"
                        ]
                      ],
                      "sequential": [
                        [
                          0,
                          "#0d0887"
                        ],
                        [
                          0.1111111111111111,
                          "#46039f"
                        ],
                        [
                          0.2222222222222222,
                          "#7201a8"
                        ],
                        [
                          0.3333333333333333,
                          "#9c179e"
                        ],
                        [
                          0.4444444444444444,
                          "#bd3786"
                        ],
                        [
                          0.5555555555555556,
                          "#d8576b"
                        ],
                        [
                          0.6666666666666666,
                          "#ed7953"
                        ],
                        [
                          0.7777777777777778,
                          "#fb9f3a"
                        ],
                        [
                          0.8888888888888888,
                          "#fdca26"
                        ],
                        [
                          1,
                          "#f0f921"
                        ]
                      ],
                      "sequentialminus": [
                        [
                          0,
                          "#0d0887"
                        ],
                        [
                          0.1111111111111111,
                          "#46039f"
                        ],
                        [
                          0.2222222222222222,
                          "#7201a8"
                        ],
                        [
                          0.3333333333333333,
                          "#9c179e"
                        ],
                        [
                          0.4444444444444444,
                          "#bd3786"
                        ],
                        [
                          0.5555555555555556,
                          "#d8576b"
                        ],
                        [
                          0.6666666666666666,
                          "#ed7953"
                        ],
                        [
                          0.7777777777777778,
                          "#fb9f3a"
                        ],
                        [
                          0.8888888888888888,
                          "#fdca26"
                        ],
                        [
                          1,
                          "#f0f921"
                        ]
                      ]
                    },
                    "colorway": [
                      "#636efa",
                      "#EF553B",
                      "#00cc96",
                      "#ab63fa",
                      "#FFA15A",
                      "#19d3f3",
                      "#FF6692",
                      "#B6E880",
                      "#FF97FF",
                      "#FECB52"
                    ],
                    "font": {
                      "color": "#2a3f5f"
                    },
                    "geo": {
                      "bgcolor": "white",
                      "lakecolor": "white",
                      "landcolor": "#E5ECF6",
                      "showlakes": true,
                      "showland": true,
                      "subunitcolor": "white"
                    },
                    "hoverlabel": {
                      "align": "left"
                    },
                    "hovermode": "closest",
                    "mapbox": {
                      "style": "light"
                    },
                    "paper_bgcolor": "white",
                    "plot_bgcolor": "#E5ECF6",
                    "polar": {
                      "angularaxis": {
                        "gridcolor": "white",
                        "linecolor": "white",
                        "ticks": ""
                      },
                      "bgcolor": "#E5ECF6",
                      "radialaxis": {
                        "gridcolor": "white",
                        "linecolor": "white",
                        "ticks": ""
                      }
                    },
                    "scene": {
                      "xaxis": {
                        "backgroundcolor": "#E5ECF6",
                        "gridcolor": "white",
                        "gridwidth": 2,
                        "linecolor": "white",
                        "showbackground": true,
                        "ticks": "",
                        "zerolinecolor": "white"
                      },
                      "yaxis": {
                        "backgroundcolor": "#E5ECF6",
                        "gridcolor": "white",
                        "gridwidth": 2,
                        "linecolor": "white",
                        "showbackground": true,
                        "ticks": "",
                        "zerolinecolor": "white"
                      },
                      "zaxis": {
                        "backgroundcolor": "#E5ECF6",
                        "gridcolor": "white",
                        "gridwidth": 2,
                        "linecolor": "white",
                        "showbackground": true,
                        "ticks": "",
                        "zerolinecolor": "white"
                      }
                    },
                    "shapedefaults": {
                      "line": {
                        "color": "#2a3f5f"
                      }
                    },
                    "ternary": {
                      "aaxis": {
                        "gridcolor": "white",
                        "linecolor": "white",
                        "ticks": ""
                      },
                      "baxis": {
                        "gridcolor": "white",
                        "linecolor": "white",
                        "ticks": ""
                      },
                      "bgcolor": "#E5ECF6",
                      "caxis": {
                        "gridcolor": "white",
                        "linecolor": "white",
                        "ticks": ""
                      }
                    },
                    "title": {
                      "x": 0.05
                    },
                    "xaxis": {
                      "automargin": true,
                      "gridcolor": "white",
                      "linecolor": "white",
                      "ticks": "",
                      "title": {
                        "standoff": 15
                      },
                      "zerolinecolor": "white",
                      "zerolinewidth": 2
                    },
                    "yaxis": {
                      "automargin": true,
                      "gridcolor": "white",
                      "linecolor": "white",
                      "ticks": "",
                      "title": {
                        "standoff": 15
                      },
                      "zerolinecolor": "white",
                      "zerolinewidth": 2
                    }
                  }
                },
                "title": {
                  "text": "sudeste"
                },
                "xaxis": {
                  "title": {
                    "text": "Time"
                  }
                },
                "yaxis": {
                  "title": {
                    "text": "Value"
                  }
                }
              }
            }
          },
          "metadata": {},
          "output_type": "display_data"
        },
        {
          "data": {
            "application/vnd.plotly.v1+json": {
              "config": {
                "plotlyServerURL": "https://plot.ly"
              },
              "data": [
                {
                  "line": {
                    "color": "black",
                    "dash": "dot"
                  },
                  "mode": "lines",
                  "name": "Baseline",
                  "type": "scatter",
                  "x": [
                    "2016-01-01T00:00:00.000000000",
                    "2016-02-01T00:00:00.000000000",
                    "2016-03-01T00:00:00.000000000",
                    "2016-04-01T00:00:00.000000000",
                    "2016-05-01T00:00:00.000000000",
                    "2016-06-01T00:00:00.000000000",
                    "2016-07-01T00:00:00.000000000",
                    "2016-08-01T00:00:00.000000000",
                    "2016-09-01T00:00:00.000000000",
                    "2016-10-01T00:00:00.000000000",
                    "2016-11-01T00:00:00.000000000",
                    "2016-12-01T00:00:00.000000000",
                    "2017-01-01T00:00:00.000000000",
                    "2017-02-01T00:00:00.000000000",
                    "2017-03-01T00:00:00.000000000",
                    "2017-04-01T00:00:00.000000000",
                    "2017-05-01T00:00:00.000000000",
                    "2017-06-01T00:00:00.000000000",
                    "2017-07-01T00:00:00.000000000",
                    "2017-08-01T00:00:00.000000000",
                    "2017-09-01T00:00:00.000000000",
                    "2017-10-01T00:00:00.000000000",
                    "2017-11-01T00:00:00.000000000",
                    "2017-12-01T00:00:00.000000000",
                    "2018-01-01T00:00:00.000000000",
                    "2018-02-01T00:00:00.000000000",
                    "2018-03-01T00:00:00.000000000",
                    "2018-04-01T00:00:00.000000000",
                    "2018-05-01T00:00:00.000000000",
                    "2018-06-01T00:00:00.000000000",
                    "2018-07-01T00:00:00.000000000",
                    "2018-08-01T00:00:00.000000000",
                    "2018-09-01T00:00:00.000000000",
                    "2018-10-01T00:00:00.000000000",
                    "2018-11-01T00:00:00.000000000",
                    "2018-12-01T00:00:00.000000000",
                    "2019-01-01T00:00:00.000000000",
                    "2019-02-01T00:00:00.000000000",
                    "2019-03-01T00:00:00.000000000",
                    "2019-04-01T00:00:00.000000000",
                    "2019-05-01T00:00:00.000000000",
                    "2019-06-01T00:00:00.000000000",
                    "2019-07-01T00:00:00.000000000",
                    "2019-08-01T00:00:00.000000000",
                    "2019-09-01T00:00:00.000000000",
                    "2019-10-01T00:00:00.000000000",
                    "2019-11-01T00:00:00.000000000",
                    "2019-12-01T00:00:00.000000000",
                    "2020-01-01T00:00:00.000000000",
                    "2020-02-01T00:00:00.000000000",
                    "2020-03-01T00:00:00.000000000",
                    "2020-04-01T00:00:00.000000000",
                    "2020-05-01T00:00:00.000000000",
                    "2020-06-01T00:00:00.000000000",
                    "2020-07-01T00:00:00.000000000",
                    "2020-08-01T00:00:00.000000000",
                    "2020-09-01T00:00:00.000000000",
                    "2020-10-01T00:00:00.000000000",
                    "2020-11-01T00:00:00.000000000",
                    "2020-12-01T00:00:00.000000000",
                    "2021-01-01T00:00:00.000000000",
                    "2021-02-01T00:00:00.000000000",
                    "2021-03-01T00:00:00.000000000",
                    "2021-04-01T00:00:00.000000000",
                    "2021-05-01T00:00:00.000000000",
                    "2021-06-01T00:00:00.000000000",
                    "2021-07-01T00:00:00.000000000",
                    "2021-08-01T00:00:00.000000000",
                    "2021-09-01T00:00:00.000000000",
                    "2021-10-01T00:00:00.000000000",
                    "2021-11-01T00:00:00.000000000",
                    "2021-12-01T00:00:00.000000000",
                    "2022-01-01T00:00:00.000000000",
                    "2022-02-01T00:00:00.000000000",
                    "2022-03-01T00:00:00.000000000",
                    "2022-04-01T00:00:00.000000000",
                    "2022-05-01T00:00:00.000000000",
                    "2022-06-01T00:00:00.000000000",
                    "2022-07-01T00:00:00.000000000",
                    "2022-08-01T00:00:00.000000000",
                    "2022-09-01T00:00:00.000000000",
                    "2022-10-01T00:00:00.000000000",
                    "2022-11-01T00:00:00.000000000",
                    "2022-12-01T00:00:00.000000000",
                    "2023-01-01T00:00:00.000000000",
                    "2023-02-01T00:00:00.000000000",
                    "2023-03-01T00:00:00.000000000",
                    "2023-04-01T00:00:00.000000000",
                    "2023-05-01T00:00:00.000000000",
                    "2023-06-01T00:00:00.000000000",
                    "2023-07-01T00:00:00.000000000",
                    "2023-08-01T00:00:00.000000000",
                    "2023-09-01T00:00:00.000000000",
                    "2023-10-01T00:00:00.000000000",
                    "2023-11-01T00:00:00.000000000",
                    "2023-12-01T00:00:00.000000000",
                    "2024-01-01T00:00:00.000000000",
                    "2024-02-01T00:00:00.000000000",
                    "2024-03-01T00:00:00.000000000",
                    "2024-04-01T00:00:00.000000000",
                    "2024-05-01T00:00:00.000000000",
                    "2024-06-01T00:00:00.000000000",
                    "2024-07-01T00:00:00.000000000",
                    "2024-08-01T00:00:00.000000000",
                    "2024-09-01T00:00:00.000000000",
                    "2024-10-01T00:00:00.000000000",
                    "2024-11-01T00:00:00.000000000",
                    "2024-12-01T00:00:00.000000000"
                  ],
                  "y": [
                    5.166968530843931,
                    5.297733037406922,
                    5.428497543969913,
                    5.559262050532904,
                    5.690026557095894,
                    5.820791063658885,
                    5.951555570221876,
                    6.082320076784867,
                    6.213084583347857,
                    6.343849089910848,
                    6.474613596473839,
                    6.605378103036831,
                    6.7361426095998205,
                    6.866907116162812,
                    6.997671622725802,
                    7.128436129288794,
                    7.2592006358517835,
                    7.389965142414775,
                    7.520729648977765,
                    7.651494155540757,
                    7.782258662103747,
                    7.913023168666738,
                    8.043787675229728,
                    8.17455218179272,
                    8.30531668835571,
                    8.436081194918701,
                    8.566845701481693,
                    8.697610208044683,
                    8.828374714607673,
                    8.959139221170664,
                    9.089903727733656,
                    9.220668234296646,
                    9.351432740859636,
                    9.482197247422627,
                    9.61296175398562,
                    9.743726260548609,
                    9.874490767111599,
                    10.00525527367459,
                    10.136019780237582,
                    10.266784286800572,
                    10.397548793363562,
                    10.528313299926554,
                    10.659077806489545,
                    10.789842313052535,
                    10.920606819615525,
                    11.051371326178517,
                    11.182135832741508,
                    11.312900339304498,
                    11.44366484586749,
                    11.574429352430482,
                    11.705193858993471,
                    11.835958365556461,
                    11.966722872119453,
                    12.097487378682445,
                    12.228251885245434,
                    12.359016391808424,
                    12.489780898371416,
                    12.620545404934408,
                    12.751309911497398,
                    12.882074418060387,
                    13.012838924623379,
                    13.14360343118637,
                    13.27436793774936,
                    13.40513244431235,
                    13.535896950875344,
                    13.666661457438334,
                    13.797425964001324,
                    13.928190470564314,
                    14.058954977127307,
                    14.189719483690297,
                    14.320483990253287,
                    14.451248496816277,
                    14.58201300337927,
                    14.71277750994226,
                    14.84354201650525,
                    14.97430652306824,
                    15.105071029631233,
                    15.235835536194223,
                    15.366600042757213,
                    15.497364549320203,
                    15.628129055883196,
                    15.758893562446186,
                    15.889658069009176,
                    16.020422575572166,
                    16.15118708213516,
                    16.28195158869815,
                    16.41271609526114,
                    16.54348060182413,
                    16.674245108387122,
                    16.805009614950112,
                    16.935774121513102,
                    17.066538628076092,
                    17.197303134639085,
                    17.328067641202075,
                    17.458832147765065,
                    17.58959665432806,
                    17.72036116089105,
                    17.85112566745404,
                    17.98189017401703,
                    18.11265468058002,
                    18.24341918714301,
                    18.374183693706,
                    18.50494820026899,
                    18.635712706831985,
                    18.766477213394975,
                    18.897241719957965,
                    19.028006226520954,
                    19.158770733083948
                  ]
                },
                {
                  "marker": {
                    "color": "black"
                  },
                  "mode": "markers",
                  "name": "Real",
                  "type": "scatter",
                  "x": [
                    "2016-01-01T00:00:00.000000000",
                    "2016-02-01T00:00:00.000000000",
                    "2016-03-01T00:00:00.000000000",
                    "2016-04-01T00:00:00.000000000",
                    "2016-05-01T00:00:00.000000000",
                    "2016-06-01T00:00:00.000000000",
                    "2016-07-01T00:00:00.000000000",
                    "2016-08-01T00:00:00.000000000",
                    "2016-09-01T00:00:00.000000000",
                    "2016-10-01T00:00:00.000000000",
                    "2016-11-01T00:00:00.000000000",
                    "2016-12-01T00:00:00.000000000",
                    "2017-01-01T00:00:00.000000000",
                    "2017-02-01T00:00:00.000000000",
                    "2017-03-01T00:00:00.000000000",
                    "2017-04-01T00:00:00.000000000",
                    "2017-05-01T00:00:00.000000000",
                    "2017-06-01T00:00:00.000000000",
                    "2017-07-01T00:00:00.000000000",
                    "2017-08-01T00:00:00.000000000",
                    "2017-09-01T00:00:00.000000000",
                    "2017-10-01T00:00:00.000000000",
                    "2017-11-01T00:00:00.000000000",
                    "2017-12-01T00:00:00.000000000",
                    "2018-01-01T00:00:00.000000000",
                    "2018-02-01T00:00:00.000000000",
                    "2018-03-01T00:00:00.000000000",
                    "2018-04-01T00:00:00.000000000",
                    "2018-05-01T00:00:00.000000000",
                    "2018-06-01T00:00:00.000000000",
                    "2018-07-01T00:00:00.000000000",
                    "2018-08-01T00:00:00.000000000",
                    "2018-09-01T00:00:00.000000000",
                    "2018-10-01T00:00:00.000000000",
                    "2018-11-01T00:00:00.000000000",
                    "2018-12-01T00:00:00.000000000",
                    "2019-01-01T00:00:00.000000000",
                    "2019-02-01T00:00:00.000000000",
                    "2019-03-01T00:00:00.000000000",
                    "2019-04-01T00:00:00.000000000",
                    "2019-05-01T00:00:00.000000000",
                    "2019-06-01T00:00:00.000000000",
                    "2019-07-01T00:00:00.000000000",
                    "2019-08-01T00:00:00.000000000",
                    "2019-09-01T00:00:00.000000000",
                    "2019-10-01T00:00:00.000000000",
                    "2019-11-01T00:00:00.000000000",
                    "2019-12-01T00:00:00.000000000",
                    "2020-01-01T00:00:00.000000000",
                    "2020-02-01T00:00:00.000000000",
                    "2020-03-01T00:00:00.000000000",
                    "2020-04-01T00:00:00.000000000",
                    "2020-05-01T00:00:00.000000000",
                    "2020-06-01T00:00:00.000000000",
                    "2020-07-01T00:00:00.000000000",
                    "2020-08-01T00:00:00.000000000",
                    "2020-09-01T00:00:00.000000000",
                    "2020-10-01T00:00:00.000000000",
                    "2020-11-01T00:00:00.000000000",
                    "2020-12-01T00:00:00.000000000",
                    "2021-01-01T00:00:00.000000000",
                    "2021-02-01T00:00:00.000000000",
                    "2021-03-01T00:00:00.000000000",
                    "2021-04-01T00:00:00.000000000",
                    "2021-05-01T00:00:00.000000000",
                    "2021-06-01T00:00:00.000000000",
                    "2021-07-01T00:00:00.000000000",
                    "2021-08-01T00:00:00.000000000",
                    "2021-09-01T00:00:00.000000000",
                    "2021-10-01T00:00:00.000000000",
                    "2021-11-01T00:00:00.000000000",
                    "2021-12-01T00:00:00.000000000",
                    "2022-01-01T00:00:00.000000000",
                    "2022-02-01T00:00:00.000000000",
                    "2022-03-01T00:00:00.000000000",
                    "2022-04-01T00:00:00.000000000",
                    "2022-05-01T00:00:00.000000000",
                    "2022-06-01T00:00:00.000000000",
                    "2022-07-01T00:00:00.000000000",
                    "2022-08-01T00:00:00.000000000",
                    "2022-09-01T00:00:00.000000000",
                    "2022-10-01T00:00:00.000000000",
                    "2022-11-01T00:00:00.000000000",
                    "2022-12-01T00:00:00.000000000",
                    "2023-01-01T00:00:00.000000000",
                    "2023-02-01T00:00:00.000000000",
                    "2023-03-01T00:00:00.000000000",
                    "2023-04-01T00:00:00.000000000",
                    "2023-05-01T00:00:00.000000000",
                    "2023-06-01T00:00:00.000000000",
                    "2023-07-01T00:00:00.000000000",
                    "2023-08-01T00:00:00.000000000",
                    "2023-09-01T00:00:00.000000000",
                    "2023-10-01T00:00:00.000000000",
                    "2023-11-01T00:00:00.000000000",
                    "2023-12-01T00:00:00.000000000",
                    "2024-01-01T00:00:00.000000000",
                    "2024-02-01T00:00:00.000000000",
                    "2024-03-01T00:00:00.000000000",
                    "2024-04-01T00:00:00.000000000",
                    "2024-05-01T00:00:00.000000000",
                    "2024-06-01T00:00:00.000000000",
                    "2024-07-01T00:00:00.000000000",
                    "2024-08-01T00:00:00.000000000",
                    "2024-09-01T00:00:00.000000000",
                    "2024-10-01T00:00:00.000000000",
                    "2024-11-01T00:00:00.000000000",
                    "2024-12-01T00:00:00.000000000"
                  ],
                  "y": [
                    5.946742295242025,
                    6.282080560599972,
                    5.749588998456467,
                    5.270734376769087,
                    5.774105374287252,
                    5.853646140297892,
                    5.820463368075251,
                    6.022456617897244,
                    6.074463563669807,
                    6.282226041604931,
                    5.648787204446263,
                    6.793883749100293,
                    5.6674780538125,
                    5.52117598003852,
                    5.7893460065693105,
                    6.354995019331746,
                    6.566993159655165,
                    6.999759364234214,
                    7.363053505434842,
                    8.049273495070526,
                    8.412000579738152,
                    8.525509463499244,
                    8.634763390824384,
                    9.01394386959536,
                    8.426878377532496,
                    9.050068807384093,
                    8.67128636295594,
                    9.003563032092885,
                    8.946915263045474,
                    9.85363419072711,
                    10.184984620716545,
                    10.939433979392021,
                    11.123936247941456,
                    10.514601425283466,
                    10.538263042931515,
                    10.108644420428197,
                    9.362107703378983,
                    10.23760184618283,
                    9.994076723847575,
                    9.876069967851242,
                    10.503111770073302,
                    10.764310438354041,
                    11.157870096716753,
                    11.683034326365648,
                    11.57504450893173,
                    11.435901400425482,
                    11.321881926924895,
                    11.694531103011634,
                    11.44348074407114,
                    11.72749793708963,
                    12.481121140809947,
                    16.411697913838953,
                    14.93699256292307,
                    13.08196440700497,
                    12.38522172659647,
                    11.47179472172888,
                    11.725904574364707,
                    13.00458165652481,
                    13.081467779875249,
                    11.887528449424241,
                    10.946269993939234,
                    11.715844899335291,
                    12.21625000482322,
                    12.912082320665718,
                    12.922779550118872,
                    13.454350259555776,
                    14.218541833596905,
                    14.74692173650176,
                    16.032713558089803,
                    15.775601044851532,
                    15.354109407168055,
                    13.644758489398951,
                    11.424802000858497,
                    15.58832484499557,
                    16.446089817123465,
                    16.283862121540995,
                    16.568032846648297,
                    15.493116056991719,
                    13.987454381095636,
                    16.288298505533497,
                    18.766349422811608,
                    17.577143665904316,
                    16.83442569398649,
                    16.26427375562621,
                    17.604213424304994,
                    17.965850941505067,
                    17.065355636782126,
                    17.448335457035313,
                    18.665913643723805,
                    18.79174383617419,
                    19.406036024299052,
                    20.649308265621283,
                    21.725225831917967,
                    21.74317528453239,
                    21.09626470929183,
                    20.746736328620944,
                    21.558846860227295,
                    22.14956484877846,
                    21.590643309701264,
                    21.54963233907448,
                    23.133709274420532,
                    23.517919383868236,
                    23.993699791412013,
                    24.443297359071074,
                    25.49793225231075,
                    26.331216037455697,
                    24.643002505913536,
                    24.777752390210143
                  ]
                },
                {
                  "line": {
                    "color": "purple"
                  },
                  "mode": "lines",
                  "name": "Full model",
                  "type": "scatter",
                  "x": [
                    "2016-01-01T00:00:00.000000000",
                    "2016-02-01T00:00:00.000000000",
                    "2016-03-01T00:00:00.000000000",
                    "2016-04-01T00:00:00.000000000",
                    "2016-05-01T00:00:00.000000000",
                    "2016-06-01T00:00:00.000000000",
                    "2016-07-01T00:00:00.000000000",
                    "2016-08-01T00:00:00.000000000",
                    "2016-09-01T00:00:00.000000000",
                    "2016-10-01T00:00:00.000000000",
                    "2016-11-01T00:00:00.000000000",
                    "2016-12-01T00:00:00.000000000",
                    "2017-01-01T00:00:00.000000000",
                    "2017-02-01T00:00:00.000000000",
                    "2017-03-01T00:00:00.000000000",
                    "2017-04-01T00:00:00.000000000",
                    "2017-05-01T00:00:00.000000000",
                    "2017-06-01T00:00:00.000000000",
                    "2017-07-01T00:00:00.000000000",
                    "2017-08-01T00:00:00.000000000",
                    "2017-09-01T00:00:00.000000000",
                    "2017-10-01T00:00:00.000000000",
                    "2017-11-01T00:00:00.000000000",
                    "2017-12-01T00:00:00.000000000",
                    "2018-01-01T00:00:00.000000000",
                    "2018-02-01T00:00:00.000000000",
                    "2018-03-01T00:00:00.000000000",
                    "2018-04-01T00:00:00.000000000",
                    "2018-05-01T00:00:00.000000000",
                    "2018-06-01T00:00:00.000000000",
                    "2018-07-01T00:00:00.000000000",
                    "2018-08-01T00:00:00.000000000",
                    "2018-09-01T00:00:00.000000000",
                    "2018-10-01T00:00:00.000000000",
                    "2018-11-01T00:00:00.000000000",
                    "2018-12-01T00:00:00.000000000",
                    "2019-01-01T00:00:00.000000000",
                    "2019-02-01T00:00:00.000000000",
                    "2019-03-01T00:00:00.000000000",
                    "2019-04-01T00:00:00.000000000",
                    "2019-05-01T00:00:00.000000000",
                    "2019-06-01T00:00:00.000000000",
                    "2019-07-01T00:00:00.000000000",
                    "2019-08-01T00:00:00.000000000",
                    "2019-09-01T00:00:00.000000000",
                    "2019-10-01T00:00:00.000000000",
                    "2019-11-01T00:00:00.000000000",
                    "2019-12-01T00:00:00.000000000",
                    "2020-01-01T00:00:00.000000000",
                    "2020-02-01T00:00:00.000000000",
                    "2020-03-01T00:00:00.000000000",
                    "2020-04-01T00:00:00.000000000",
                    "2020-05-01T00:00:00.000000000",
                    "2020-06-01T00:00:00.000000000",
                    "2020-07-01T00:00:00.000000000",
                    "2020-08-01T00:00:00.000000000",
                    "2020-09-01T00:00:00.000000000",
                    "2020-10-01T00:00:00.000000000",
                    "2020-11-01T00:00:00.000000000",
                    "2020-12-01T00:00:00.000000000",
                    "2021-01-01T00:00:00.000000000",
                    "2021-02-01T00:00:00.000000000",
                    "2021-03-01T00:00:00.000000000",
                    "2021-04-01T00:00:00.000000000",
                    "2021-05-01T00:00:00.000000000",
                    "2021-06-01T00:00:00.000000000",
                    "2021-07-01T00:00:00.000000000",
                    "2021-08-01T00:00:00.000000000",
                    "2021-09-01T00:00:00.000000000",
                    "2021-10-01T00:00:00.000000000",
                    "2021-11-01T00:00:00.000000000",
                    "2021-12-01T00:00:00.000000000",
                    "2022-01-01T00:00:00.000000000",
                    "2022-02-01T00:00:00.000000000",
                    "2022-03-01T00:00:00.000000000",
                    "2022-04-01T00:00:00.000000000",
                    "2022-05-01T00:00:00.000000000",
                    "2022-06-01T00:00:00.000000000",
                    "2022-07-01T00:00:00.000000000",
                    "2022-08-01T00:00:00.000000000",
                    "2022-09-01T00:00:00.000000000",
                    "2022-10-01T00:00:00.000000000",
                    "2022-11-01T00:00:00.000000000",
                    "2022-12-01T00:00:00.000000000",
                    "2023-01-01T00:00:00.000000000",
                    "2023-02-01T00:00:00.000000000",
                    "2023-03-01T00:00:00.000000000",
                    "2023-04-01T00:00:00.000000000",
                    "2023-05-01T00:00:00.000000000",
                    "2023-06-01T00:00:00.000000000",
                    "2023-07-01T00:00:00.000000000",
                    "2023-08-01T00:00:00.000000000",
                    "2023-09-01T00:00:00.000000000",
                    "2023-10-01T00:00:00.000000000",
                    "2023-11-01T00:00:00.000000000",
                    "2023-12-01T00:00:00.000000000",
                    "2024-01-01T00:00:00.000000000",
                    "2024-02-01T00:00:00.000000000",
                    "2024-03-01T00:00:00.000000000",
                    "2024-04-01T00:00:00.000000000",
                    "2024-05-01T00:00:00.000000000",
                    "2024-06-01T00:00:00.000000000",
                    "2024-07-01T00:00:00.000000000",
                    "2024-08-01T00:00:00.000000000",
                    "2024-09-01T00:00:00.000000000",
                    "2024-10-01T00:00:00.000000000",
                    "2024-11-01T00:00:00.000000000",
                    "2024-12-01T00:00:00.000000000"
                  ],
                  "y": [
                    5.166968530843931,
                    5.297733037406922,
                    5.428497543969913,
                    5.559262050532904,
                    5.690026557095894,
                    5.820791063658885,
                    5.951555570221876,
                    6.082320076784867,
                    6.213084583347857,
                    6.343849089910848,
                    6.474613596473839,
                    6.605378103036831,
                    6.7361426095998205,
                    6.866907116162812,
                    6.997671622725802,
                    7.128436129288794,
                    7.2592006358517835,
                    7.389965142414775,
                    7.520729648977765,
                    7.651494155540757,
                    7.782258662103747,
                    7.913023168666738,
                    8.043787675229728,
                    8.17455218179272,
                    8.30531668835571,
                    8.436081194918701,
                    8.566845701481693,
                    8.697610208044683,
                    8.828374714607673,
                    8.959139221170664,
                    9.089903727733656,
                    9.220668234296646,
                    9.351432740859636,
                    9.482197247422627,
                    9.61296175398562,
                    9.743726260548609,
                    9.874490767111599,
                    10.00525527367459,
                    10.136019780237582,
                    10.266784286800572,
                    10.397548793363562,
                    10.528313299926554,
                    10.659077806489545,
                    10.789842313052535,
                    10.920606819615525,
                    11.051371326178517,
                    11.182135832741508,
                    11.312900339304498,
                    11.44366484586749,
                    11.574429352430482,
                    11.705193858993471,
                    13.753607420513053,
                    13.777986960824066,
                    13.802366501135083,
                    13.826746041446096,
                    13.851125581757112,
                    13.875505122068125,
                    13.899884662379142,
                    13.924264202690155,
                    13.948643743001169,
                    13.973023283312182,
                    13.997402823623199,
                    14.021782363934213,
                    14.046161904245226,
                    14.070541444556245,
                    14.094920984867258,
                    14.119300525178271,
                    14.143680065489285,
                    14.168059605800302,
                    14.192439146111315,
                    14.216818686422329,
                    14.241198226733342,
                    14.265577767044359,
                    14.289957307355373,
                    14.314336847666386,
                    14.73957477088255,
                    15.069674879198054,
                    15.399774987513556,
                    15.729875095829058,
                    16.05997520414456,
                    16.390075312460066,
                    16.72017542077557,
                    17.050275529091067,
                    17.38037563740657,
                    17.710475745722075,
                    18.040575854037577,
                    18.37067596235308,
                    18.70077607066858,
                    19.030876178984087,
                    19.36097628729959,
                    19.69107639561509,
                    20.021176503930594,
                    20.351276612246096,
                    20.681376720561598,
                    21.0114768288771,
                    21.341576937192606,
                    21.67167704550811,
                    22.00177715382361,
                    22.33187726213911,
                    22.661977370454615,
                    22.992077478770117,
                    23.32217758708562,
                    23.65227769540112,
                    23.982377803716627,
                    24.31247791203213,
                    24.64257802034763,
                    24.972678128663134,
                    25.302778236978636
                  ]
                }
              ],
              "layout": {
                "annotations": [
                  {
                    "arrowhead": 2,
                    "ax": 30,
                    "ay": -40,
                    "showarrow": true,
                    "text": "Pandemia",
                    "x": "2020-04-01",
                    "y": 26.331216037455697
                  },
                  {
                    "arrowhead": 2,
                    "ax": 30,
                    "ay": -40,
                    "showarrow": true,
                    "text": "Pos Pandemia",
                    "x": "2022-04-01",
                    "y": 26.331216037455697
                  }
                ],
                "legend": {
                  "title": {
                    "text": "Legend"
                  }
                },
                "shapes": [
                  {
                    "line": {
                      "color": "black",
                      "dash": "dash"
                    },
                    "type": "line",
                    "x0": "2020-04-01",
                    "x1": "2020-04-01",
                    "y0": 5.270734376769087,
                    "y1": 26.331216037455697
                  },
                  {
                    "line": {
                      "color": "black",
                      "dash": "dash"
                    },
                    "type": "line",
                    "x0": "2022-04-01",
                    "x1": "2022-04-01",
                    "y0": 5.270734376769087,
                    "y1": 26.331216037455697
                  }
                ],
                "template": {
                  "data": {
                    "bar": [
                      {
                        "error_x": {
                          "color": "#2a3f5f"
                        },
                        "error_y": {
                          "color": "#2a3f5f"
                        },
                        "marker": {
                          "line": {
                            "color": "#E5ECF6",
                            "width": 0.5
                          },
                          "pattern": {
                            "fillmode": "overlay",
                            "size": 10,
                            "solidity": 0.2
                          }
                        },
                        "type": "bar"
                      }
                    ],
                    "barpolar": [
                      {
                        "marker": {
                          "line": {
                            "color": "#E5ECF6",
                            "width": 0.5
                          },
                          "pattern": {
                            "fillmode": "overlay",
                            "size": 10,
                            "solidity": 0.2
                          }
                        },
                        "type": "barpolar"
                      }
                    ],
                    "carpet": [
                      {
                        "aaxis": {
                          "endlinecolor": "#2a3f5f",
                          "gridcolor": "white",
                          "linecolor": "white",
                          "minorgridcolor": "white",
                          "startlinecolor": "#2a3f5f"
                        },
                        "baxis": {
                          "endlinecolor": "#2a3f5f",
                          "gridcolor": "white",
                          "linecolor": "white",
                          "minorgridcolor": "white",
                          "startlinecolor": "#2a3f5f"
                        },
                        "type": "carpet"
                      }
                    ],
                    "choropleth": [
                      {
                        "colorbar": {
                          "outlinewidth": 0,
                          "ticks": ""
                        },
                        "type": "choropleth"
                      }
                    ],
                    "contour": [
                      {
                        "colorbar": {
                          "outlinewidth": 0,
                          "ticks": ""
                        },
                        "colorscale": [
                          [
                            0,
                            "#0d0887"
                          ],
                          [
                            0.1111111111111111,
                            "#46039f"
                          ],
                          [
                            0.2222222222222222,
                            "#7201a8"
                          ],
                          [
                            0.3333333333333333,
                            "#9c179e"
                          ],
                          [
                            0.4444444444444444,
                            "#bd3786"
                          ],
                          [
                            0.5555555555555556,
                            "#d8576b"
                          ],
                          [
                            0.6666666666666666,
                            "#ed7953"
                          ],
                          [
                            0.7777777777777778,
                            "#fb9f3a"
                          ],
                          [
                            0.8888888888888888,
                            "#fdca26"
                          ],
                          [
                            1,
                            "#f0f921"
                          ]
                        ],
                        "type": "contour"
                      }
                    ],
                    "contourcarpet": [
                      {
                        "colorbar": {
                          "outlinewidth": 0,
                          "ticks": ""
                        },
                        "type": "contourcarpet"
                      }
                    ],
                    "heatmap": [
                      {
                        "colorbar": {
                          "outlinewidth": 0,
                          "ticks": ""
                        },
                        "colorscale": [
                          [
                            0,
                            "#0d0887"
                          ],
                          [
                            0.1111111111111111,
                            "#46039f"
                          ],
                          [
                            0.2222222222222222,
                            "#7201a8"
                          ],
                          [
                            0.3333333333333333,
                            "#9c179e"
                          ],
                          [
                            0.4444444444444444,
                            "#bd3786"
                          ],
                          [
                            0.5555555555555556,
                            "#d8576b"
                          ],
                          [
                            0.6666666666666666,
                            "#ed7953"
                          ],
                          [
                            0.7777777777777778,
                            "#fb9f3a"
                          ],
                          [
                            0.8888888888888888,
                            "#fdca26"
                          ],
                          [
                            1,
                            "#f0f921"
                          ]
                        ],
                        "type": "heatmap"
                      }
                    ],
                    "heatmapgl": [
                      {
                        "colorbar": {
                          "outlinewidth": 0,
                          "ticks": ""
                        },
                        "colorscale": [
                          [
                            0,
                            "#0d0887"
                          ],
                          [
                            0.1111111111111111,
                            "#46039f"
                          ],
                          [
                            0.2222222222222222,
                            "#7201a8"
                          ],
                          [
                            0.3333333333333333,
                            "#9c179e"
                          ],
                          [
                            0.4444444444444444,
                            "#bd3786"
                          ],
                          [
                            0.5555555555555556,
                            "#d8576b"
                          ],
                          [
                            0.6666666666666666,
                            "#ed7953"
                          ],
                          [
                            0.7777777777777778,
                            "#fb9f3a"
                          ],
                          [
                            0.8888888888888888,
                            "#fdca26"
                          ],
                          [
                            1,
                            "#f0f921"
                          ]
                        ],
                        "type": "heatmapgl"
                      }
                    ],
                    "histogram": [
                      {
                        "marker": {
                          "pattern": {
                            "fillmode": "overlay",
                            "size": 10,
                            "solidity": 0.2
                          }
                        },
                        "type": "histogram"
                      }
                    ],
                    "histogram2d": [
                      {
                        "colorbar": {
                          "outlinewidth": 0,
                          "ticks": ""
                        },
                        "colorscale": [
                          [
                            0,
                            "#0d0887"
                          ],
                          [
                            0.1111111111111111,
                            "#46039f"
                          ],
                          [
                            0.2222222222222222,
                            "#7201a8"
                          ],
                          [
                            0.3333333333333333,
                            "#9c179e"
                          ],
                          [
                            0.4444444444444444,
                            "#bd3786"
                          ],
                          [
                            0.5555555555555556,
                            "#d8576b"
                          ],
                          [
                            0.6666666666666666,
                            "#ed7953"
                          ],
                          [
                            0.7777777777777778,
                            "#fb9f3a"
                          ],
                          [
                            0.8888888888888888,
                            "#fdca26"
                          ],
                          [
                            1,
                            "#f0f921"
                          ]
                        ],
                        "type": "histogram2d"
                      }
                    ],
                    "histogram2dcontour": [
                      {
                        "colorbar": {
                          "outlinewidth": 0,
                          "ticks": ""
                        },
                        "colorscale": [
                          [
                            0,
                            "#0d0887"
                          ],
                          [
                            0.1111111111111111,
                            "#46039f"
                          ],
                          [
                            0.2222222222222222,
                            "#7201a8"
                          ],
                          [
                            0.3333333333333333,
                            "#9c179e"
                          ],
                          [
                            0.4444444444444444,
                            "#bd3786"
                          ],
                          [
                            0.5555555555555556,
                            "#d8576b"
                          ],
                          [
                            0.6666666666666666,
                            "#ed7953"
                          ],
                          [
                            0.7777777777777778,
                            "#fb9f3a"
                          ],
                          [
                            0.8888888888888888,
                            "#fdca26"
                          ],
                          [
                            1,
                            "#f0f921"
                          ]
                        ],
                        "type": "histogram2dcontour"
                      }
                    ],
                    "mesh3d": [
                      {
                        "colorbar": {
                          "outlinewidth": 0,
                          "ticks": ""
                        },
                        "type": "mesh3d"
                      }
                    ],
                    "parcoords": [
                      {
                        "line": {
                          "colorbar": {
                            "outlinewidth": 0,
                            "ticks": ""
                          }
                        },
                        "type": "parcoords"
                      }
                    ],
                    "pie": [
                      {
                        "automargin": true,
                        "type": "pie"
                      }
                    ],
                    "scatter": [
                      {
                        "fillpattern": {
                          "fillmode": "overlay",
                          "size": 10,
                          "solidity": 0.2
                        },
                        "type": "scatter"
                      }
                    ],
                    "scatter3d": [
                      {
                        "line": {
                          "colorbar": {
                            "outlinewidth": 0,
                            "ticks": ""
                          }
                        },
                        "marker": {
                          "colorbar": {
                            "outlinewidth": 0,
                            "ticks": ""
                          }
                        },
                        "type": "scatter3d"
                      }
                    ],
                    "scattercarpet": [
                      {
                        "marker": {
                          "colorbar": {
                            "outlinewidth": 0,
                            "ticks": ""
                          }
                        },
                        "type": "scattercarpet"
                      }
                    ],
                    "scattergeo": [
                      {
                        "marker": {
                          "colorbar": {
                            "outlinewidth": 0,
                            "ticks": ""
                          }
                        },
                        "type": "scattergeo"
                      }
                    ],
                    "scattergl": [
                      {
                        "marker": {
                          "colorbar": {
                            "outlinewidth": 0,
                            "ticks": ""
                          }
                        },
                        "type": "scattergl"
                      }
                    ],
                    "scattermapbox": [
                      {
                        "marker": {
                          "colorbar": {
                            "outlinewidth": 0,
                            "ticks": ""
                          }
                        },
                        "type": "scattermapbox"
                      }
                    ],
                    "scatterpolar": [
                      {
                        "marker": {
                          "colorbar": {
                            "outlinewidth": 0,
                            "ticks": ""
                          }
                        },
                        "type": "scatterpolar"
                      }
                    ],
                    "scatterpolargl": [
                      {
                        "marker": {
                          "colorbar": {
                            "outlinewidth": 0,
                            "ticks": ""
                          }
                        },
                        "type": "scatterpolargl"
                      }
                    ],
                    "scatterternary": [
                      {
                        "marker": {
                          "colorbar": {
                            "outlinewidth": 0,
                            "ticks": ""
                          }
                        },
                        "type": "scatterternary"
                      }
                    ],
                    "surface": [
                      {
                        "colorbar": {
                          "outlinewidth": 0,
                          "ticks": ""
                        },
                        "colorscale": [
                          [
                            0,
                            "#0d0887"
                          ],
                          [
                            0.1111111111111111,
                            "#46039f"
                          ],
                          [
                            0.2222222222222222,
                            "#7201a8"
                          ],
                          [
                            0.3333333333333333,
                            "#9c179e"
                          ],
                          [
                            0.4444444444444444,
                            "#bd3786"
                          ],
                          [
                            0.5555555555555556,
                            "#d8576b"
                          ],
                          [
                            0.6666666666666666,
                            "#ed7953"
                          ],
                          [
                            0.7777777777777778,
                            "#fb9f3a"
                          ],
                          [
                            0.8888888888888888,
                            "#fdca26"
                          ],
                          [
                            1,
                            "#f0f921"
                          ]
                        ],
                        "type": "surface"
                      }
                    ],
                    "table": [
                      {
                        "cells": {
                          "fill": {
                            "color": "#EBF0F8"
                          },
                          "line": {
                            "color": "white"
                          }
                        },
                        "header": {
                          "fill": {
                            "color": "#C8D4E3"
                          },
                          "line": {
                            "color": "white"
                          }
                        },
                        "type": "table"
                      }
                    ]
                  },
                  "layout": {
                    "annotationdefaults": {
                      "arrowcolor": "#2a3f5f",
                      "arrowhead": 0,
                      "arrowwidth": 1
                    },
                    "autotypenumbers": "strict",
                    "coloraxis": {
                      "colorbar": {
                        "outlinewidth": 0,
                        "ticks": ""
                      }
                    },
                    "colorscale": {
                      "diverging": [
                        [
                          0,
                          "#8e0152"
                        ],
                        [
                          0.1,
                          "#c51b7d"
                        ],
                        [
                          0.2,
                          "#de77ae"
                        ],
                        [
                          0.3,
                          "#f1b6da"
                        ],
                        [
                          0.4,
                          "#fde0ef"
                        ],
                        [
                          0.5,
                          "#f7f7f7"
                        ],
                        [
                          0.6,
                          "#e6f5d0"
                        ],
                        [
                          0.7,
                          "#b8e186"
                        ],
                        [
                          0.8,
                          "#7fbc41"
                        ],
                        [
                          0.9,
                          "#4d9221"
                        ],
                        [
                          1,
                          "#276419"
                        ]
                      ],
                      "sequential": [
                        [
                          0,
                          "#0d0887"
                        ],
                        [
                          0.1111111111111111,
                          "#46039f"
                        ],
                        [
                          0.2222222222222222,
                          "#7201a8"
                        ],
                        [
                          0.3333333333333333,
                          "#9c179e"
                        ],
                        [
                          0.4444444444444444,
                          "#bd3786"
                        ],
                        [
                          0.5555555555555556,
                          "#d8576b"
                        ],
                        [
                          0.6666666666666666,
                          "#ed7953"
                        ],
                        [
                          0.7777777777777778,
                          "#fb9f3a"
                        ],
                        [
                          0.8888888888888888,
                          "#fdca26"
                        ],
                        [
                          1,
                          "#f0f921"
                        ]
                      ],
                      "sequentialminus": [
                        [
                          0,
                          "#0d0887"
                        ],
                        [
                          0.1111111111111111,
                          "#46039f"
                        ],
                        [
                          0.2222222222222222,
                          "#7201a8"
                        ],
                        [
                          0.3333333333333333,
                          "#9c179e"
                        ],
                        [
                          0.4444444444444444,
                          "#bd3786"
                        ],
                        [
                          0.5555555555555556,
                          "#d8576b"
                        ],
                        [
                          0.6666666666666666,
                          "#ed7953"
                        ],
                        [
                          0.7777777777777778,
                          "#fb9f3a"
                        ],
                        [
                          0.8888888888888888,
                          "#fdca26"
                        ],
                        [
                          1,
                          "#f0f921"
                        ]
                      ]
                    },
                    "colorway": [
                      "#636efa",
                      "#EF553B",
                      "#00cc96",
                      "#ab63fa",
                      "#FFA15A",
                      "#19d3f3",
                      "#FF6692",
                      "#B6E880",
                      "#FF97FF",
                      "#FECB52"
                    ],
                    "font": {
                      "color": "#2a3f5f"
                    },
                    "geo": {
                      "bgcolor": "white",
                      "lakecolor": "white",
                      "landcolor": "#E5ECF6",
                      "showlakes": true,
                      "showland": true,
                      "subunitcolor": "white"
                    },
                    "hoverlabel": {
                      "align": "left"
                    },
                    "hovermode": "closest",
                    "mapbox": {
                      "style": "light"
                    },
                    "paper_bgcolor": "white",
                    "plot_bgcolor": "#E5ECF6",
                    "polar": {
                      "angularaxis": {
                        "gridcolor": "white",
                        "linecolor": "white",
                        "ticks": ""
                      },
                      "bgcolor": "#E5ECF6",
                      "radialaxis": {
                        "gridcolor": "white",
                        "linecolor": "white",
                        "ticks": ""
                      }
                    },
                    "scene": {
                      "xaxis": {
                        "backgroundcolor": "#E5ECF6",
                        "gridcolor": "white",
                        "gridwidth": 2,
                        "linecolor": "white",
                        "showbackground": true,
                        "ticks": "",
                        "zerolinecolor": "white"
                      },
                      "yaxis": {
                        "backgroundcolor": "#E5ECF6",
                        "gridcolor": "white",
                        "gridwidth": 2,
                        "linecolor": "white",
                        "showbackground": true,
                        "ticks": "",
                        "zerolinecolor": "white"
                      },
                      "zaxis": {
                        "backgroundcolor": "#E5ECF6",
                        "gridcolor": "white",
                        "gridwidth": 2,
                        "linecolor": "white",
                        "showbackground": true,
                        "ticks": "",
                        "zerolinecolor": "white"
                      }
                    },
                    "shapedefaults": {
                      "line": {
                        "color": "#2a3f5f"
                      }
                    },
                    "ternary": {
                      "aaxis": {
                        "gridcolor": "white",
                        "linecolor": "white",
                        "ticks": ""
                      },
                      "baxis": {
                        "gridcolor": "white",
                        "linecolor": "white",
                        "ticks": ""
                      },
                      "bgcolor": "#E5ECF6",
                      "caxis": {
                        "gridcolor": "white",
                        "linecolor": "white",
                        "ticks": ""
                      }
                    },
                    "title": {
                      "x": 0.05
                    },
                    "xaxis": {
                      "automargin": true,
                      "gridcolor": "white",
                      "linecolor": "white",
                      "ticks": "",
                      "title": {
                        "standoff": 15
                      },
                      "zerolinecolor": "white",
                      "zerolinewidth": 2
                    },
                    "yaxis": {
                      "automargin": true,
                      "gridcolor": "white",
                      "linecolor": "white",
                      "ticks": "",
                      "title": {
                        "standoff": 15
                      },
                      "zerolinecolor": "white",
                      "zerolinewidth": 2
                    }
                  }
                },
                "title": {
                  "text": "norte"
                },
                "xaxis": {
                  "title": {
                    "text": "Time"
                  }
                },
                "yaxis": {
                  "title": {
                    "text": "Value"
                  }
                }
              }
            }
          },
          "metadata": {},
          "output_type": "display_data"
        },
        {
          "data": {
            "application/vnd.plotly.v1+json": {
              "config": {
                "plotlyServerURL": "https://plot.ly"
              },
              "data": [
                {
                  "line": {
                    "color": "black",
                    "dash": "dot"
                  },
                  "mode": "lines",
                  "name": "Baseline",
                  "type": "scatter",
                  "x": [
                    "2016-01-01T00:00:00.000000000",
                    "2016-02-01T00:00:00.000000000",
                    "2016-03-01T00:00:00.000000000",
                    "2016-04-01T00:00:00.000000000",
                    "2016-05-01T00:00:00.000000000",
                    "2016-06-01T00:00:00.000000000",
                    "2016-07-01T00:00:00.000000000",
                    "2016-08-01T00:00:00.000000000",
                    "2016-09-01T00:00:00.000000000",
                    "2016-10-01T00:00:00.000000000",
                    "2016-11-01T00:00:00.000000000",
                    "2016-12-01T00:00:00.000000000",
                    "2017-01-01T00:00:00.000000000",
                    "2017-02-01T00:00:00.000000000",
                    "2017-03-01T00:00:00.000000000",
                    "2017-04-01T00:00:00.000000000",
                    "2017-05-01T00:00:00.000000000",
                    "2017-06-01T00:00:00.000000000",
                    "2017-07-01T00:00:00.000000000",
                    "2017-08-01T00:00:00.000000000",
                    "2017-09-01T00:00:00.000000000",
                    "2017-10-01T00:00:00.000000000",
                    "2017-11-01T00:00:00.000000000",
                    "2017-12-01T00:00:00.000000000",
                    "2018-01-01T00:00:00.000000000",
                    "2018-02-01T00:00:00.000000000",
                    "2018-03-01T00:00:00.000000000",
                    "2018-04-01T00:00:00.000000000",
                    "2018-05-01T00:00:00.000000000",
                    "2018-06-01T00:00:00.000000000",
                    "2018-07-01T00:00:00.000000000",
                    "2018-08-01T00:00:00.000000000",
                    "2018-09-01T00:00:00.000000000",
                    "2018-10-01T00:00:00.000000000",
                    "2018-11-01T00:00:00.000000000",
                    "2018-12-01T00:00:00.000000000",
                    "2019-01-01T00:00:00.000000000",
                    "2019-02-01T00:00:00.000000000",
                    "2019-03-01T00:00:00.000000000",
                    "2019-04-01T00:00:00.000000000",
                    "2019-05-01T00:00:00.000000000",
                    "2019-06-01T00:00:00.000000000",
                    "2019-07-01T00:00:00.000000000",
                    "2019-08-01T00:00:00.000000000",
                    "2019-09-01T00:00:00.000000000",
                    "2019-10-01T00:00:00.000000000",
                    "2019-11-01T00:00:00.000000000",
                    "2019-12-01T00:00:00.000000000",
                    "2020-01-01T00:00:00.000000000",
                    "2020-02-01T00:00:00.000000000",
                    "2020-03-01T00:00:00.000000000",
                    "2020-04-01T00:00:00.000000000",
                    "2020-05-01T00:00:00.000000000",
                    "2020-06-01T00:00:00.000000000",
                    "2020-07-01T00:00:00.000000000",
                    "2020-08-01T00:00:00.000000000",
                    "2020-09-01T00:00:00.000000000",
                    "2020-10-01T00:00:00.000000000",
                    "2020-11-01T00:00:00.000000000",
                    "2020-12-01T00:00:00.000000000",
                    "2021-01-01T00:00:00.000000000",
                    "2021-02-01T00:00:00.000000000",
                    "2021-03-01T00:00:00.000000000",
                    "2021-04-01T00:00:00.000000000",
                    "2021-05-01T00:00:00.000000000",
                    "2021-06-01T00:00:00.000000000",
                    "2021-07-01T00:00:00.000000000",
                    "2021-08-01T00:00:00.000000000",
                    "2021-09-01T00:00:00.000000000",
                    "2021-10-01T00:00:00.000000000",
                    "2021-11-01T00:00:00.000000000",
                    "2021-12-01T00:00:00.000000000",
                    "2022-01-01T00:00:00.000000000",
                    "2022-02-01T00:00:00.000000000",
                    "2022-03-01T00:00:00.000000000",
                    "2022-04-01T00:00:00.000000000",
                    "2022-05-01T00:00:00.000000000",
                    "2022-06-01T00:00:00.000000000",
                    "2022-07-01T00:00:00.000000000",
                    "2022-08-01T00:00:00.000000000",
                    "2022-09-01T00:00:00.000000000",
                    "2022-10-01T00:00:00.000000000",
                    "2022-11-01T00:00:00.000000000",
                    "2022-12-01T00:00:00.000000000",
                    "2023-01-01T00:00:00.000000000",
                    "2023-02-01T00:00:00.000000000",
                    "2023-03-01T00:00:00.000000000",
                    "2023-04-01T00:00:00.000000000",
                    "2023-05-01T00:00:00.000000000",
                    "2023-06-01T00:00:00.000000000",
                    "2023-07-01T00:00:00.000000000",
                    "2023-08-01T00:00:00.000000000",
                    "2023-09-01T00:00:00.000000000",
                    "2023-10-01T00:00:00.000000000",
                    "2023-11-01T00:00:00.000000000",
                    "2023-12-01T00:00:00.000000000",
                    "2024-01-01T00:00:00.000000000",
                    "2024-02-01T00:00:00.000000000",
                    "2024-03-01T00:00:00.000000000",
                    "2024-04-01T00:00:00.000000000",
                    "2024-05-01T00:00:00.000000000",
                    "2024-06-01T00:00:00.000000000",
                    "2024-07-01T00:00:00.000000000",
                    "2024-08-01T00:00:00.000000000",
                    "2024-09-01T00:00:00.000000000",
                    "2024-10-01T00:00:00.000000000",
                    "2024-11-01T00:00:00.000000000",
                    "2024-12-01T00:00:00.000000000"
                  ],
                  "y": [
                    4.9018090122264155,
                    5.089760994660439,
                    5.277712977094464,
                    5.465664959528489,
                    5.653616941962514,
                    5.841568924396538,
                    6.029520906830562,
                    6.217472889264587,
                    6.405424871698612,
                    6.593376854132636,
                    6.781328836566661,
                    6.969280819000685,
                    7.157232801434709,
                    7.345184783868734,
                    7.533136766302759,
                    7.721088748736783,
                    7.9090407311708075,
                    8.096992713604832,
                    8.284944696038856,
                    8.472896678472882,
                    8.660848660906906,
                    8.84880064334093,
                    9.036752625774955,
                    9.22470460820898,
                    9.412656590643003,
                    9.600608573077029,
                    9.788560555511053,
                    9.976512537945077,
                    10.164464520379102,
                    10.352416502813128,
                    10.54036848524715,
                    10.728320467681176,
                    10.916272450115201,
                    11.104224432549223,
                    11.292176414983249,
                    11.480128397417275,
                    11.668080379851299,
                    11.856032362285323,
                    12.043984344719348,
                    12.231936327153372,
                    12.419888309587396,
                    12.607840292021422,
                    12.795792274455444,
                    12.98374425688947,
                    13.171696239323495,
                    13.35964822175752,
                    13.547600204191543,
                    13.735552186625569,
                    13.923504169059594,
                    14.111456151493616,
                    14.299408133927642,
                    14.487360116361668,
                    14.67531209879569,
                    14.863264081229715,
                    15.051216063663741,
                    15.239168046097763,
                    15.427120028531789,
                    15.615072010965815,
                    15.803023993399837,
                    15.990975975833862,
                    16.178927958267888,
                    16.36687994070191,
                    16.554831923135936,
                    16.74278390556996,
                    16.930735888003984,
                    17.11868787043801,
                    17.306639852872035,
                    17.494591835306057,
                    17.682543817740083,
                    17.87049580017411,
                    18.058447782608134,
                    18.246399765042156,
                    18.43435174747618,
                    18.622303729910207,
                    18.81025571234423,
                    18.998207694778255,
                    19.18615967721228,
                    19.374111659646303,
                    19.56206364208033,
                    19.750015624514354,
                    19.937967606948376,
                    20.125919589382402,
                    20.313871571816428,
                    20.50182355425045,
                    20.689775536684476,
                    20.877727519118498,
                    21.065679501552523,
                    21.25363148398655,
                    21.44158346642057,
                    21.629535448854597,
                    21.817487431288622,
                    22.005439413722648,
                    22.19339139615667,
                    22.381343378590696,
                    22.56929536102472,
                    22.757247343458744,
                    22.94519932589277,
                    23.133151308326795,
                    23.321103290760817,
                    23.509055273194843,
                    23.69700725562887,
                    23.88495923806289,
                    24.072911220496916,
                    24.260863202930942,
                    24.448815185364964,
                    24.63676716779899,
                    24.824719150233015,
                    25.012671132667037
                  ]
                },
                {
                  "marker": {
                    "color": "black"
                  },
                  "mode": "markers",
                  "name": "Real",
                  "type": "scatter",
                  "x": [
                    "2016-01-01T00:00:00.000000000",
                    "2016-02-01T00:00:00.000000000",
                    "2016-03-01T00:00:00.000000000",
                    "2016-04-01T00:00:00.000000000",
                    "2016-05-01T00:00:00.000000000",
                    "2016-06-01T00:00:00.000000000",
                    "2016-07-01T00:00:00.000000000",
                    "2016-08-01T00:00:00.000000000",
                    "2016-09-01T00:00:00.000000000",
                    "2016-10-01T00:00:00.000000000",
                    "2016-11-01T00:00:00.000000000",
                    "2016-12-01T00:00:00.000000000",
                    "2017-01-01T00:00:00.000000000",
                    "2017-02-01T00:00:00.000000000",
                    "2017-03-01T00:00:00.000000000",
                    "2017-04-01T00:00:00.000000000",
                    "2017-05-01T00:00:00.000000000",
                    "2017-06-01T00:00:00.000000000",
                    "2017-07-01T00:00:00.000000000",
                    "2017-08-01T00:00:00.000000000",
                    "2017-09-01T00:00:00.000000000",
                    "2017-10-01T00:00:00.000000000",
                    "2017-11-01T00:00:00.000000000",
                    "2017-12-01T00:00:00.000000000",
                    "2018-01-01T00:00:00.000000000",
                    "2018-02-01T00:00:00.000000000",
                    "2018-03-01T00:00:00.000000000",
                    "2018-04-01T00:00:00.000000000",
                    "2018-05-01T00:00:00.000000000",
                    "2018-06-01T00:00:00.000000000",
                    "2018-07-01T00:00:00.000000000",
                    "2018-08-01T00:00:00.000000000",
                    "2018-09-01T00:00:00.000000000",
                    "2018-10-01T00:00:00.000000000",
                    "2018-11-01T00:00:00.000000000",
                    "2018-12-01T00:00:00.000000000",
                    "2019-01-01T00:00:00.000000000",
                    "2019-02-01T00:00:00.000000000",
                    "2019-03-01T00:00:00.000000000",
                    "2019-04-01T00:00:00.000000000",
                    "2019-05-01T00:00:00.000000000",
                    "2019-06-01T00:00:00.000000000",
                    "2019-07-01T00:00:00.000000000",
                    "2019-08-01T00:00:00.000000000",
                    "2019-09-01T00:00:00.000000000",
                    "2019-10-01T00:00:00.000000000",
                    "2019-11-01T00:00:00.000000000",
                    "2019-12-01T00:00:00.000000000",
                    "2020-01-01T00:00:00.000000000",
                    "2020-02-01T00:00:00.000000000",
                    "2020-03-01T00:00:00.000000000",
                    "2020-04-01T00:00:00.000000000",
                    "2020-05-01T00:00:00.000000000",
                    "2020-06-01T00:00:00.000000000",
                    "2020-07-01T00:00:00.000000000",
                    "2020-08-01T00:00:00.000000000",
                    "2020-09-01T00:00:00.000000000",
                    "2020-10-01T00:00:00.000000000",
                    "2020-11-01T00:00:00.000000000",
                    "2020-12-01T00:00:00.000000000",
                    "2021-01-01T00:00:00.000000000",
                    "2021-02-01T00:00:00.000000000",
                    "2021-03-01T00:00:00.000000000",
                    "2021-04-01T00:00:00.000000000",
                    "2021-05-01T00:00:00.000000000",
                    "2021-06-01T00:00:00.000000000",
                    "2021-07-01T00:00:00.000000000",
                    "2021-08-01T00:00:00.000000000",
                    "2021-09-01T00:00:00.000000000",
                    "2021-10-01T00:00:00.000000000",
                    "2021-11-01T00:00:00.000000000",
                    "2021-12-01T00:00:00.000000000",
                    "2022-01-01T00:00:00.000000000",
                    "2022-02-01T00:00:00.000000000",
                    "2022-03-01T00:00:00.000000000",
                    "2022-04-01T00:00:00.000000000",
                    "2022-05-01T00:00:00.000000000",
                    "2022-06-01T00:00:00.000000000",
                    "2022-07-01T00:00:00.000000000",
                    "2022-08-01T00:00:00.000000000",
                    "2022-09-01T00:00:00.000000000",
                    "2022-10-01T00:00:00.000000000",
                    "2022-11-01T00:00:00.000000000",
                    "2022-12-01T00:00:00.000000000",
                    "2023-01-01T00:00:00.000000000",
                    "2023-02-01T00:00:00.000000000",
                    "2023-03-01T00:00:00.000000000",
                    "2023-04-01T00:00:00.000000000",
                    "2023-05-01T00:00:00.000000000",
                    "2023-06-01T00:00:00.000000000",
                    "2023-07-01T00:00:00.000000000",
                    "2023-08-01T00:00:00.000000000",
                    "2023-09-01T00:00:00.000000000",
                    "2023-10-01T00:00:00.000000000",
                    "2023-11-01T00:00:00.000000000",
                    "2023-12-01T00:00:00.000000000",
                    "2024-01-01T00:00:00.000000000",
                    "2024-02-01T00:00:00.000000000",
                    "2024-03-01T00:00:00.000000000",
                    "2024-04-01T00:00:00.000000000",
                    "2024-05-01T00:00:00.000000000",
                    "2024-06-01T00:00:00.000000000",
                    "2024-07-01T00:00:00.000000000",
                    "2024-08-01T00:00:00.000000000",
                    "2024-09-01T00:00:00.000000000",
                    "2024-10-01T00:00:00.000000000",
                    "2024-11-01T00:00:00.000000000",
                    "2024-12-01T00:00:00.000000000"
                  ],
                  "y": [
                    5.766457016415087,
                    5.516293322003957,
                    5.290365071949884,
                    5.603113142030877,
                    5.913417330779171,
                    6.170016808023145,
                    6.382247363127151,
                    6.481325584572769,
                    6.821882839663747,
                    7.182647347457138,
                    6.817950343562167,
                    8.169502968393399,
                    8.024569825948522,
                    6.930884629122515,
                    6.855759813516739,
                    6.915325136100731,
                    7.130363360733383,
                    7.799731339936104,
                    7.447395767956693,
                    7.912965509091176,
                    8.33124730818472,
                    8.767716996603022,
                    9.345974525965527,
                    10.25139212736242,
                    9.934924627615038,
                    10.364572273762366,
                    9.772812014353818,
                    9.794934171336442,
                    10.088049809676264,
                    10.947821385266975,
                    10.922953218731625,
                    11.082071707096409,
                    11.162077929515979,
                    11.217281513116008,
                    11.44841758265281,
                    12.239685057189362,
                    11.129052530147401,
                    11.193839908721614,
                    11.312599303571249,
                    10.28780295517633,
                    10.61307207281938,
                    11.40448641127023,
                    11.898477709033605,
                    12.554882097192177,
                    12.684748300514352,
                    13.069878928685462,
                    13.665546295401732,
                    15.201931971156297,
                    15.396507034649154,
                    15.42349443918599,
                    16.518484331949395,
                    22.83469258555841,
                    20.55225631690818,
                    19.430217956098563,
                    18.940872118118495,
                    19.02654126400163,
                    19.449035714856365,
                    18.632711894357367,
                    20.230605271230953,
                    22.001421047925533,
                    21.34479492970059,
                    19.845450406854205,
                    18.72317724093399,
                    18.92996766962941,
                    17.41273445499207,
                    19.04877270887256,
                    20.371109776405405,
                    21.133830842863738,
                    22.447081906765614,
                    21.569638132883004,
                    21.156718183897492,
                    21.695278403262776,
                    18.18297035157528,
                    22.34628289387481,
                    22.42361165999409,
                    21.188387512731346,
                    21.64215794487427,
                    21.825679976390816,
                    21.98314718586636,
                    23.162199908231734,
                    26.406199474246844,
                    25.664540256439423,
                    24.518217222616702,
                    25.33609619639925,
                    28.411116437131337,
                    28.59386320226569,
                    25.77494573881397,
                    24.662808352398937,
                    28.667254334654018,
                    28.0828537141462,
                    28.567880283541903,
                    28.21496190543768,
                    31.0406552221982,
                    30.604766713474078,
                    30.34966970119551,
                    30.349132610787063,
                    34.30808238984768,
                    32.66218148909552,
                    29.40533652619916,
                    28.881718485485656,
                    32.56295122808777,
                    33.636567383961115,
                    34.074131521420576,
                    32.924559616801616,
                    33.47998116355968,
                    33.603056439249286,
                    33.46483801883145,
                    33.17171435314598
                  ]
                },
                {
                  "line": {
                    "color": "purple"
                  },
                  "mode": "lines",
                  "name": "Full model",
                  "type": "scatter",
                  "x": [
                    "2016-01-01T00:00:00.000000000",
                    "2016-02-01T00:00:00.000000000",
                    "2016-03-01T00:00:00.000000000",
                    "2016-04-01T00:00:00.000000000",
                    "2016-05-01T00:00:00.000000000",
                    "2016-06-01T00:00:00.000000000",
                    "2016-07-01T00:00:00.000000000",
                    "2016-08-01T00:00:00.000000000",
                    "2016-09-01T00:00:00.000000000",
                    "2016-10-01T00:00:00.000000000",
                    "2016-11-01T00:00:00.000000000",
                    "2016-12-01T00:00:00.000000000",
                    "2017-01-01T00:00:00.000000000",
                    "2017-02-01T00:00:00.000000000",
                    "2017-03-01T00:00:00.000000000",
                    "2017-04-01T00:00:00.000000000",
                    "2017-05-01T00:00:00.000000000",
                    "2017-06-01T00:00:00.000000000",
                    "2017-07-01T00:00:00.000000000",
                    "2017-08-01T00:00:00.000000000",
                    "2017-09-01T00:00:00.000000000",
                    "2017-10-01T00:00:00.000000000",
                    "2017-11-01T00:00:00.000000000",
                    "2017-12-01T00:00:00.000000000",
                    "2018-01-01T00:00:00.000000000",
                    "2018-02-01T00:00:00.000000000",
                    "2018-03-01T00:00:00.000000000",
                    "2018-04-01T00:00:00.000000000",
                    "2018-05-01T00:00:00.000000000",
                    "2018-06-01T00:00:00.000000000",
                    "2018-07-01T00:00:00.000000000",
                    "2018-08-01T00:00:00.000000000",
                    "2018-09-01T00:00:00.000000000",
                    "2018-10-01T00:00:00.000000000",
                    "2018-11-01T00:00:00.000000000",
                    "2018-12-01T00:00:00.000000000",
                    "2019-01-01T00:00:00.000000000",
                    "2019-02-01T00:00:00.000000000",
                    "2019-03-01T00:00:00.000000000",
                    "2019-04-01T00:00:00.000000000",
                    "2019-05-01T00:00:00.000000000",
                    "2019-06-01T00:00:00.000000000",
                    "2019-07-01T00:00:00.000000000",
                    "2019-08-01T00:00:00.000000000",
                    "2019-09-01T00:00:00.000000000",
                    "2019-10-01T00:00:00.000000000",
                    "2019-11-01T00:00:00.000000000",
                    "2019-12-01T00:00:00.000000000",
                    "2020-01-01T00:00:00.000000000",
                    "2020-02-01T00:00:00.000000000",
                    "2020-03-01T00:00:00.000000000",
                    "2020-04-01T00:00:00.000000000",
                    "2020-05-01T00:00:00.000000000",
                    "2020-06-01T00:00:00.000000000",
                    "2020-07-01T00:00:00.000000000",
                    "2020-08-01T00:00:00.000000000",
                    "2020-09-01T00:00:00.000000000",
                    "2020-10-01T00:00:00.000000000",
                    "2020-11-01T00:00:00.000000000",
                    "2020-12-01T00:00:00.000000000",
                    "2021-01-01T00:00:00.000000000",
                    "2021-02-01T00:00:00.000000000",
                    "2021-03-01T00:00:00.000000000",
                    "2021-04-01T00:00:00.000000000",
                    "2021-05-01T00:00:00.000000000",
                    "2021-06-01T00:00:00.000000000",
                    "2021-07-01T00:00:00.000000000",
                    "2021-08-01T00:00:00.000000000",
                    "2021-09-01T00:00:00.000000000",
                    "2021-10-01T00:00:00.000000000",
                    "2021-11-01T00:00:00.000000000",
                    "2021-12-01T00:00:00.000000000",
                    "2022-01-01T00:00:00.000000000",
                    "2022-02-01T00:00:00.000000000",
                    "2022-03-01T00:00:00.000000000",
                    "2022-04-01T00:00:00.000000000",
                    "2022-05-01T00:00:00.000000000",
                    "2022-06-01T00:00:00.000000000",
                    "2022-07-01T00:00:00.000000000",
                    "2022-08-01T00:00:00.000000000",
                    "2022-09-01T00:00:00.000000000",
                    "2022-10-01T00:00:00.000000000",
                    "2022-11-01T00:00:00.000000000",
                    "2022-12-01T00:00:00.000000000",
                    "2023-01-01T00:00:00.000000000",
                    "2023-02-01T00:00:00.000000000",
                    "2023-03-01T00:00:00.000000000",
                    "2023-04-01T00:00:00.000000000",
                    "2023-05-01T00:00:00.000000000",
                    "2023-06-01T00:00:00.000000000",
                    "2023-07-01T00:00:00.000000000",
                    "2023-08-01T00:00:00.000000000",
                    "2023-09-01T00:00:00.000000000",
                    "2023-10-01T00:00:00.000000000",
                    "2023-11-01T00:00:00.000000000",
                    "2023-12-01T00:00:00.000000000",
                    "2024-01-01T00:00:00.000000000",
                    "2024-02-01T00:00:00.000000000",
                    "2024-03-01T00:00:00.000000000",
                    "2024-04-01T00:00:00.000000000",
                    "2024-05-01T00:00:00.000000000",
                    "2024-06-01T00:00:00.000000000",
                    "2024-07-01T00:00:00.000000000",
                    "2024-08-01T00:00:00.000000000",
                    "2024-09-01T00:00:00.000000000",
                    "2024-10-01T00:00:00.000000000",
                    "2024-11-01T00:00:00.000000000",
                    "2024-12-01T00:00:00.000000000"
                  ],
                  "y": [
                    4.9018090122264155,
                    5.089760994660439,
                    5.277712977094464,
                    5.465664959528489,
                    5.653616941962514,
                    5.841568924396538,
                    6.029520906830562,
                    6.217472889264587,
                    6.405424871698612,
                    6.593376854132636,
                    6.781328836566661,
                    6.969280819000685,
                    7.157232801434709,
                    7.345184783868734,
                    7.533136766302759,
                    7.721088748736783,
                    7.9090407311708075,
                    8.096992713604832,
                    8.284944696038856,
                    8.472896678472882,
                    8.660848660906906,
                    8.84880064334093,
                    9.036752625774955,
                    9.22470460820898,
                    9.412656590643003,
                    9.600608573077029,
                    9.788560555511053,
                    9.976512537945077,
                    10.164464520379102,
                    10.352416502813128,
                    10.54036848524715,
                    10.728320467681176,
                    10.916272450115201,
                    11.104224432549223,
                    11.292176414983249,
                    11.480128397417275,
                    11.668080379851299,
                    11.856032362285323,
                    12.043984344719348,
                    12.231936327153372,
                    12.419888309587396,
                    12.607840292021422,
                    12.795792274455444,
                    12.98374425688947,
                    13.171696239323495,
                    13.35964822175752,
                    13.547600204191543,
                    13.735552186625569,
                    13.923504169059594,
                    14.111456151493616,
                    14.299408133927642,
                    19.564562382341613,
                    19.643038775553407,
                    19.7215151687652,
                    19.799991561977,
                    19.878467955188793,
                    19.95694434840059,
                    20.035420741612388,
                    20.11389713482418,
                    20.192373528035976,
                    20.270849921247773,
                    20.349326314459567,
                    20.427802707671365,
                    20.506279100883162,
                    20.584755494094956,
                    20.66323188730675,
                    20.741708280518548,
                    20.820184673730342,
                    20.89866106694214,
                    20.977137460153937,
                    21.05561385336573,
                    21.134090246577525,
                    21.212566639789323,
                    21.29104303300112,
                    21.369519426212914,
                    22.18823298147121,
                    22.58618814562772,
                    22.984143309784223,
                    23.38209847394073,
                    23.780053638097236,
                    24.178008802253743,
                    24.57596396641025,
                    24.973919130566756,
                    25.371874294723263,
                    25.76982945887977,
                    26.167784623036273,
                    26.565739787192783,
                    26.96369495134929,
                    27.361650115505793,
                    27.759605279662303,
                    28.15756044381881,
                    28.555515607975316,
                    28.95347077213182,
                    29.35142593628833,
                    29.749381100444836,
                    30.14733626460134,
                    30.54529142875785,
                    30.943246592914356,
                    31.34120175707086,
                    31.73915692122737,
                    32.137112085383876,
                    32.535067249540376,
                    32.93302241369689,
                    33.330977577853396,
                    33.7289327420099,
                    34.12688790616641,
                    34.524843070322916,
                    34.922798234479416
                  ]
                }
              ],
              "layout": {
                "annotations": [
                  {
                    "arrowhead": 2,
                    "ax": 30,
                    "ay": -40,
                    "showarrow": true,
                    "text": "Pandemia",
                    "x": "2020-04-01",
                    "y": 34.30808238984768
                  },
                  {
                    "arrowhead": 2,
                    "ax": 30,
                    "ay": -40,
                    "showarrow": true,
                    "text": "Pos Pandemia",
                    "x": "2022-04-01",
                    "y": 34.30808238984768
                  }
                ],
                "legend": {
                  "title": {
                    "text": "Legend"
                  }
                },
                "shapes": [
                  {
                    "line": {
                      "color": "black",
                      "dash": "dash"
                    },
                    "type": "line",
                    "x0": "2020-04-01",
                    "x1": "2020-04-01",
                    "y0": 5.290365071949884,
                    "y1": 34.30808238984768
                  },
                  {
                    "line": {
                      "color": "black",
                      "dash": "dash"
                    },
                    "type": "line",
                    "x0": "2022-04-01",
                    "x1": "2022-04-01",
                    "y0": 5.290365071949884,
                    "y1": 34.30808238984768
                  }
                ],
                "template": {
                  "data": {
                    "bar": [
                      {
                        "error_x": {
                          "color": "#2a3f5f"
                        },
                        "error_y": {
                          "color": "#2a3f5f"
                        },
                        "marker": {
                          "line": {
                            "color": "#E5ECF6",
                            "width": 0.5
                          },
                          "pattern": {
                            "fillmode": "overlay",
                            "size": 10,
                            "solidity": 0.2
                          }
                        },
                        "type": "bar"
                      }
                    ],
                    "barpolar": [
                      {
                        "marker": {
                          "line": {
                            "color": "#E5ECF6",
                            "width": 0.5
                          },
                          "pattern": {
                            "fillmode": "overlay",
                            "size": 10,
                            "solidity": 0.2
                          }
                        },
                        "type": "barpolar"
                      }
                    ],
                    "carpet": [
                      {
                        "aaxis": {
                          "endlinecolor": "#2a3f5f",
                          "gridcolor": "white",
                          "linecolor": "white",
                          "minorgridcolor": "white",
                          "startlinecolor": "#2a3f5f"
                        },
                        "baxis": {
                          "endlinecolor": "#2a3f5f",
                          "gridcolor": "white",
                          "linecolor": "white",
                          "minorgridcolor": "white",
                          "startlinecolor": "#2a3f5f"
                        },
                        "type": "carpet"
                      }
                    ],
                    "choropleth": [
                      {
                        "colorbar": {
                          "outlinewidth": 0,
                          "ticks": ""
                        },
                        "type": "choropleth"
                      }
                    ],
                    "contour": [
                      {
                        "colorbar": {
                          "outlinewidth": 0,
                          "ticks": ""
                        },
                        "colorscale": [
                          [
                            0,
                            "#0d0887"
                          ],
                          [
                            0.1111111111111111,
                            "#46039f"
                          ],
                          [
                            0.2222222222222222,
                            "#7201a8"
                          ],
                          [
                            0.3333333333333333,
                            "#9c179e"
                          ],
                          [
                            0.4444444444444444,
                            "#bd3786"
                          ],
                          [
                            0.5555555555555556,
                            "#d8576b"
                          ],
                          [
                            0.6666666666666666,
                            "#ed7953"
                          ],
                          [
                            0.7777777777777778,
                            "#fb9f3a"
                          ],
                          [
                            0.8888888888888888,
                            "#fdca26"
                          ],
                          [
                            1,
                            "#f0f921"
                          ]
                        ],
                        "type": "contour"
                      }
                    ],
                    "contourcarpet": [
                      {
                        "colorbar": {
                          "outlinewidth": 0,
                          "ticks": ""
                        },
                        "type": "contourcarpet"
                      }
                    ],
                    "heatmap": [
                      {
                        "colorbar": {
                          "outlinewidth": 0,
                          "ticks": ""
                        },
                        "colorscale": [
                          [
                            0,
                            "#0d0887"
                          ],
                          [
                            0.1111111111111111,
                            "#46039f"
                          ],
                          [
                            0.2222222222222222,
                            "#7201a8"
                          ],
                          [
                            0.3333333333333333,
                            "#9c179e"
                          ],
                          [
                            0.4444444444444444,
                            "#bd3786"
                          ],
                          [
                            0.5555555555555556,
                            "#d8576b"
                          ],
                          [
                            0.6666666666666666,
                            "#ed7953"
                          ],
                          [
                            0.7777777777777778,
                            "#fb9f3a"
                          ],
                          [
                            0.8888888888888888,
                            "#fdca26"
                          ],
                          [
                            1,
                            "#f0f921"
                          ]
                        ],
                        "type": "heatmap"
                      }
                    ],
                    "heatmapgl": [
                      {
                        "colorbar": {
                          "outlinewidth": 0,
                          "ticks": ""
                        },
                        "colorscale": [
                          [
                            0,
                            "#0d0887"
                          ],
                          [
                            0.1111111111111111,
                            "#46039f"
                          ],
                          [
                            0.2222222222222222,
                            "#7201a8"
                          ],
                          [
                            0.3333333333333333,
                            "#9c179e"
                          ],
                          [
                            0.4444444444444444,
                            "#bd3786"
                          ],
                          [
                            0.5555555555555556,
                            "#d8576b"
                          ],
                          [
                            0.6666666666666666,
                            "#ed7953"
                          ],
                          [
                            0.7777777777777778,
                            "#fb9f3a"
                          ],
                          [
                            0.8888888888888888,
                            "#fdca26"
                          ],
                          [
                            1,
                            "#f0f921"
                          ]
                        ],
                        "type": "heatmapgl"
                      }
                    ],
                    "histogram": [
                      {
                        "marker": {
                          "pattern": {
                            "fillmode": "overlay",
                            "size": 10,
                            "solidity": 0.2
                          }
                        },
                        "type": "histogram"
                      }
                    ],
                    "histogram2d": [
                      {
                        "colorbar": {
                          "outlinewidth": 0,
                          "ticks": ""
                        },
                        "colorscale": [
                          [
                            0,
                            "#0d0887"
                          ],
                          [
                            0.1111111111111111,
                            "#46039f"
                          ],
                          [
                            0.2222222222222222,
                            "#7201a8"
                          ],
                          [
                            0.3333333333333333,
                            "#9c179e"
                          ],
                          [
                            0.4444444444444444,
                            "#bd3786"
                          ],
                          [
                            0.5555555555555556,
                            "#d8576b"
                          ],
                          [
                            0.6666666666666666,
                            "#ed7953"
                          ],
                          [
                            0.7777777777777778,
                            "#fb9f3a"
                          ],
                          [
                            0.8888888888888888,
                            "#fdca26"
                          ],
                          [
                            1,
                            "#f0f921"
                          ]
                        ],
                        "type": "histogram2d"
                      }
                    ],
                    "histogram2dcontour": [
                      {
                        "colorbar": {
                          "outlinewidth": 0,
                          "ticks": ""
                        },
                        "colorscale": [
                          [
                            0,
                            "#0d0887"
                          ],
                          [
                            0.1111111111111111,
                            "#46039f"
                          ],
                          [
                            0.2222222222222222,
                            "#7201a8"
                          ],
                          [
                            0.3333333333333333,
                            "#9c179e"
                          ],
                          [
                            0.4444444444444444,
                            "#bd3786"
                          ],
                          [
                            0.5555555555555556,
                            "#d8576b"
                          ],
                          [
                            0.6666666666666666,
                            "#ed7953"
                          ],
                          [
                            0.7777777777777778,
                            "#fb9f3a"
                          ],
                          [
                            0.8888888888888888,
                            "#fdca26"
                          ],
                          [
                            1,
                            "#f0f921"
                          ]
                        ],
                        "type": "histogram2dcontour"
                      }
                    ],
                    "mesh3d": [
                      {
                        "colorbar": {
                          "outlinewidth": 0,
                          "ticks": ""
                        },
                        "type": "mesh3d"
                      }
                    ],
                    "parcoords": [
                      {
                        "line": {
                          "colorbar": {
                            "outlinewidth": 0,
                            "ticks": ""
                          }
                        },
                        "type": "parcoords"
                      }
                    ],
                    "pie": [
                      {
                        "automargin": true,
                        "type": "pie"
                      }
                    ],
                    "scatter": [
                      {
                        "fillpattern": {
                          "fillmode": "overlay",
                          "size": 10,
                          "solidity": 0.2
                        },
                        "type": "scatter"
                      }
                    ],
                    "scatter3d": [
                      {
                        "line": {
                          "colorbar": {
                            "outlinewidth": 0,
                            "ticks": ""
                          }
                        },
                        "marker": {
                          "colorbar": {
                            "outlinewidth": 0,
                            "ticks": ""
                          }
                        },
                        "type": "scatter3d"
                      }
                    ],
                    "scattercarpet": [
                      {
                        "marker": {
                          "colorbar": {
                            "outlinewidth": 0,
                            "ticks": ""
                          }
                        },
                        "type": "scattercarpet"
                      }
                    ],
                    "scattergeo": [
                      {
                        "marker": {
                          "colorbar": {
                            "outlinewidth": 0,
                            "ticks": ""
                          }
                        },
                        "type": "scattergeo"
                      }
                    ],
                    "scattergl": [
                      {
                        "marker": {
                          "colorbar": {
                            "outlinewidth": 0,
                            "ticks": ""
                          }
                        },
                        "type": "scattergl"
                      }
                    ],
                    "scattermapbox": [
                      {
                        "marker": {
                          "colorbar": {
                            "outlinewidth": 0,
                            "ticks": ""
                          }
                        },
                        "type": "scattermapbox"
                      }
                    ],
                    "scatterpolar": [
                      {
                        "marker": {
                          "colorbar": {
                            "outlinewidth": 0,
                            "ticks": ""
                          }
                        },
                        "type": "scatterpolar"
                      }
                    ],
                    "scatterpolargl": [
                      {
                        "marker": {
                          "colorbar": {
                            "outlinewidth": 0,
                            "ticks": ""
                          }
                        },
                        "type": "scatterpolargl"
                      }
                    ],
                    "scatterternary": [
                      {
                        "marker": {
                          "colorbar": {
                            "outlinewidth": 0,
                            "ticks": ""
                          }
                        },
                        "type": "scatterternary"
                      }
                    ],
                    "surface": [
                      {
                        "colorbar": {
                          "outlinewidth": 0,
                          "ticks": ""
                        },
                        "colorscale": [
                          [
                            0,
                            "#0d0887"
                          ],
                          [
                            0.1111111111111111,
                            "#46039f"
                          ],
                          [
                            0.2222222222222222,
                            "#7201a8"
                          ],
                          [
                            0.3333333333333333,
                            "#9c179e"
                          ],
                          [
                            0.4444444444444444,
                            "#bd3786"
                          ],
                          [
                            0.5555555555555556,
                            "#d8576b"
                          ],
                          [
                            0.6666666666666666,
                            "#ed7953"
                          ],
                          [
                            0.7777777777777778,
                            "#fb9f3a"
                          ],
                          [
                            0.8888888888888888,
                            "#fdca26"
                          ],
                          [
                            1,
                            "#f0f921"
                          ]
                        ],
                        "type": "surface"
                      }
                    ],
                    "table": [
                      {
                        "cells": {
                          "fill": {
                            "color": "#EBF0F8"
                          },
                          "line": {
                            "color": "white"
                          }
                        },
                        "header": {
                          "fill": {
                            "color": "#C8D4E3"
                          },
                          "line": {
                            "color": "white"
                          }
                        },
                        "type": "table"
                      }
                    ]
                  },
                  "layout": {
                    "annotationdefaults": {
                      "arrowcolor": "#2a3f5f",
                      "arrowhead": 0,
                      "arrowwidth": 1
                    },
                    "autotypenumbers": "strict",
                    "coloraxis": {
                      "colorbar": {
                        "outlinewidth": 0,
                        "ticks": ""
                      }
                    },
                    "colorscale": {
                      "diverging": [
                        [
                          0,
                          "#8e0152"
                        ],
                        [
                          0.1,
                          "#c51b7d"
                        ],
                        [
                          0.2,
                          "#de77ae"
                        ],
                        [
                          0.3,
                          "#f1b6da"
                        ],
                        [
                          0.4,
                          "#fde0ef"
                        ],
                        [
                          0.5,
                          "#f7f7f7"
                        ],
                        [
                          0.6,
                          "#e6f5d0"
                        ],
                        [
                          0.7,
                          "#b8e186"
                        ],
                        [
                          0.8,
                          "#7fbc41"
                        ],
                        [
                          0.9,
                          "#4d9221"
                        ],
                        [
                          1,
                          "#276419"
                        ]
                      ],
                      "sequential": [
                        [
                          0,
                          "#0d0887"
                        ],
                        [
                          0.1111111111111111,
                          "#46039f"
                        ],
                        [
                          0.2222222222222222,
                          "#7201a8"
                        ],
                        [
                          0.3333333333333333,
                          "#9c179e"
                        ],
                        [
                          0.4444444444444444,
                          "#bd3786"
                        ],
                        [
                          0.5555555555555556,
                          "#d8576b"
                        ],
                        [
                          0.6666666666666666,
                          "#ed7953"
                        ],
                        [
                          0.7777777777777778,
                          "#fb9f3a"
                        ],
                        [
                          0.8888888888888888,
                          "#fdca26"
                        ],
                        [
                          1,
                          "#f0f921"
                        ]
                      ],
                      "sequentialminus": [
                        [
                          0,
                          "#0d0887"
                        ],
                        [
                          0.1111111111111111,
                          "#46039f"
                        ],
                        [
                          0.2222222222222222,
                          "#7201a8"
                        ],
                        [
                          0.3333333333333333,
                          "#9c179e"
                        ],
                        [
                          0.4444444444444444,
                          "#bd3786"
                        ],
                        [
                          0.5555555555555556,
                          "#d8576b"
                        ],
                        [
                          0.6666666666666666,
                          "#ed7953"
                        ],
                        [
                          0.7777777777777778,
                          "#fb9f3a"
                        ],
                        [
                          0.8888888888888888,
                          "#fdca26"
                        ],
                        [
                          1,
                          "#f0f921"
                        ]
                      ]
                    },
                    "colorway": [
                      "#636efa",
                      "#EF553B",
                      "#00cc96",
                      "#ab63fa",
                      "#FFA15A",
                      "#19d3f3",
                      "#FF6692",
                      "#B6E880",
                      "#FF97FF",
                      "#FECB52"
                    ],
                    "font": {
                      "color": "#2a3f5f"
                    },
                    "geo": {
                      "bgcolor": "white",
                      "lakecolor": "white",
                      "landcolor": "#E5ECF6",
                      "showlakes": true,
                      "showland": true,
                      "subunitcolor": "white"
                    },
                    "hoverlabel": {
                      "align": "left"
                    },
                    "hovermode": "closest",
                    "mapbox": {
                      "style": "light"
                    },
                    "paper_bgcolor": "white",
                    "plot_bgcolor": "#E5ECF6",
                    "polar": {
                      "angularaxis": {
                        "gridcolor": "white",
                        "linecolor": "white",
                        "ticks": ""
                      },
                      "bgcolor": "#E5ECF6",
                      "radialaxis": {
                        "gridcolor": "white",
                        "linecolor": "white",
                        "ticks": ""
                      }
                    },
                    "scene": {
                      "xaxis": {
                        "backgroundcolor": "#E5ECF6",
                        "gridcolor": "white",
                        "gridwidth": 2,
                        "linecolor": "white",
                        "showbackground": true,
                        "ticks": "",
                        "zerolinecolor": "white"
                      },
                      "yaxis": {
                        "backgroundcolor": "#E5ECF6",
                        "gridcolor": "white",
                        "gridwidth": 2,
                        "linecolor": "white",
                        "showbackground": true,
                        "ticks": "",
                        "zerolinecolor": "white"
                      },
                      "zaxis": {
                        "backgroundcolor": "#E5ECF6",
                        "gridcolor": "white",
                        "gridwidth": 2,
                        "linecolor": "white",
                        "showbackground": true,
                        "ticks": "",
                        "zerolinecolor": "white"
                      }
                    },
                    "shapedefaults": {
                      "line": {
                        "color": "#2a3f5f"
                      }
                    },
                    "ternary": {
                      "aaxis": {
                        "gridcolor": "white",
                        "linecolor": "white",
                        "ticks": ""
                      },
                      "baxis": {
                        "gridcolor": "white",
                        "linecolor": "white",
                        "ticks": ""
                      },
                      "bgcolor": "#E5ECF6",
                      "caxis": {
                        "gridcolor": "white",
                        "linecolor": "white",
                        "ticks": ""
                      }
                    },
                    "title": {
                      "x": 0.05
                    },
                    "xaxis": {
                      "automargin": true,
                      "gridcolor": "white",
                      "linecolor": "white",
                      "ticks": "",
                      "title": {
                        "standoff": 15
                      },
                      "zerolinecolor": "white",
                      "zerolinewidth": 2
                    },
                    "yaxis": {
                      "automargin": true,
                      "gridcolor": "white",
                      "linecolor": "white",
                      "ticks": "",
                      "title": {
                        "standoff": 15
                      },
                      "zerolinecolor": "white",
                      "zerolinewidth": 2
                    }
                  }
                },
                "title": {
                  "text": "nordeste"
                },
                "xaxis": {
                  "title": {
                    "text": "Time"
                  }
                },
                "yaxis": {
                  "title": {
                    "text": "Value"
                  }
                }
              }
            }
          },
          "metadata": {},
          "output_type": "display_data"
        },
        {
          "data": {
            "application/vnd.plotly.v1+json": {
              "config": {
                "plotlyServerURL": "https://plot.ly"
              },
              "data": [
                {
                  "line": {
                    "color": "black",
                    "dash": "dot"
                  },
                  "mode": "lines",
                  "name": "Baseline",
                  "type": "scatter",
                  "x": [
                    "2016-01-01T00:00:00.000000000",
                    "2016-02-01T00:00:00.000000000",
                    "2016-03-01T00:00:00.000000000",
                    "2016-04-01T00:00:00.000000000",
                    "2016-05-01T00:00:00.000000000",
                    "2016-06-01T00:00:00.000000000",
                    "2016-07-01T00:00:00.000000000",
                    "2016-08-01T00:00:00.000000000",
                    "2016-09-01T00:00:00.000000000",
                    "2016-10-01T00:00:00.000000000",
                    "2016-11-01T00:00:00.000000000",
                    "2016-12-01T00:00:00.000000000",
                    "2017-01-01T00:00:00.000000000",
                    "2017-02-01T00:00:00.000000000",
                    "2017-03-01T00:00:00.000000000",
                    "2017-04-01T00:00:00.000000000",
                    "2017-05-01T00:00:00.000000000",
                    "2017-06-01T00:00:00.000000000",
                    "2017-07-01T00:00:00.000000000",
                    "2017-08-01T00:00:00.000000000",
                    "2017-09-01T00:00:00.000000000",
                    "2017-10-01T00:00:00.000000000",
                    "2017-11-01T00:00:00.000000000",
                    "2017-12-01T00:00:00.000000000",
                    "2018-01-01T00:00:00.000000000",
                    "2018-02-01T00:00:00.000000000",
                    "2018-03-01T00:00:00.000000000",
                    "2018-04-01T00:00:00.000000000",
                    "2018-05-01T00:00:00.000000000",
                    "2018-06-01T00:00:00.000000000",
                    "2018-07-01T00:00:00.000000000",
                    "2018-08-01T00:00:00.000000000",
                    "2018-09-01T00:00:00.000000000",
                    "2018-10-01T00:00:00.000000000",
                    "2018-11-01T00:00:00.000000000",
                    "2018-12-01T00:00:00.000000000",
                    "2019-01-01T00:00:00.000000000",
                    "2019-02-01T00:00:00.000000000",
                    "2019-03-01T00:00:00.000000000",
                    "2019-04-01T00:00:00.000000000",
                    "2019-05-01T00:00:00.000000000",
                    "2019-06-01T00:00:00.000000000",
                    "2019-07-01T00:00:00.000000000",
                    "2019-08-01T00:00:00.000000000",
                    "2019-09-01T00:00:00.000000000",
                    "2019-10-01T00:00:00.000000000",
                    "2019-11-01T00:00:00.000000000",
                    "2019-12-01T00:00:00.000000000",
                    "2020-01-01T00:00:00.000000000",
                    "2020-02-01T00:00:00.000000000",
                    "2020-03-01T00:00:00.000000000",
                    "2020-04-01T00:00:00.000000000",
                    "2020-05-01T00:00:00.000000000",
                    "2020-06-01T00:00:00.000000000",
                    "2020-07-01T00:00:00.000000000",
                    "2020-08-01T00:00:00.000000000",
                    "2020-09-01T00:00:00.000000000",
                    "2020-10-01T00:00:00.000000000",
                    "2020-11-01T00:00:00.000000000",
                    "2020-12-01T00:00:00.000000000",
                    "2021-01-01T00:00:00.000000000",
                    "2021-02-01T00:00:00.000000000",
                    "2021-03-01T00:00:00.000000000",
                    "2021-04-01T00:00:00.000000000",
                    "2021-05-01T00:00:00.000000000",
                    "2021-06-01T00:00:00.000000000",
                    "2021-07-01T00:00:00.000000000",
                    "2021-08-01T00:00:00.000000000",
                    "2021-09-01T00:00:00.000000000",
                    "2021-10-01T00:00:00.000000000",
                    "2021-11-01T00:00:00.000000000",
                    "2021-12-01T00:00:00.000000000",
                    "2022-01-01T00:00:00.000000000",
                    "2022-02-01T00:00:00.000000000",
                    "2022-03-01T00:00:00.000000000",
                    "2022-04-01T00:00:00.000000000",
                    "2022-05-01T00:00:00.000000000",
                    "2022-06-01T00:00:00.000000000",
                    "2022-07-01T00:00:00.000000000",
                    "2022-08-01T00:00:00.000000000",
                    "2022-09-01T00:00:00.000000000",
                    "2022-10-01T00:00:00.000000000",
                    "2022-11-01T00:00:00.000000000",
                    "2022-12-01T00:00:00.000000000",
                    "2023-01-01T00:00:00.000000000",
                    "2023-02-01T00:00:00.000000000",
                    "2023-03-01T00:00:00.000000000",
                    "2023-04-01T00:00:00.000000000",
                    "2023-05-01T00:00:00.000000000",
                    "2023-06-01T00:00:00.000000000",
                    "2023-07-01T00:00:00.000000000",
                    "2023-08-01T00:00:00.000000000",
                    "2023-09-01T00:00:00.000000000",
                    "2023-10-01T00:00:00.000000000",
                    "2023-11-01T00:00:00.000000000",
                    "2023-12-01T00:00:00.000000000",
                    "2024-01-01T00:00:00.000000000",
                    "2024-02-01T00:00:00.000000000",
                    "2024-03-01T00:00:00.000000000",
                    "2024-04-01T00:00:00.000000000",
                    "2024-05-01T00:00:00.000000000",
                    "2024-06-01T00:00:00.000000000",
                    "2024-07-01T00:00:00.000000000",
                    "2024-08-01T00:00:00.000000000",
                    "2024-09-01T00:00:00.000000000",
                    "2024-10-01T00:00:00.000000000",
                    "2024-11-01T00:00:00.000000000",
                    "2024-12-01T00:00:00.000000000"
                  ],
                  "y": [
                    10.341304344136692,
                    10.639326092343168,
                    10.937347840549645,
                    11.235369588756122,
                    11.533391336962598,
                    11.831413085169075,
                    12.129434833375552,
                    12.427456581582028,
                    12.725478329788505,
                    13.023500077994981,
                    13.321521826201458,
                    13.619543574407935,
                    13.917565322614411,
                    14.215587070820888,
                    14.513608819027365,
                    14.811630567233841,
                    15.109652315440318,
                    15.407674063646795,
                    15.705695811853271,
                    16.003717560059748,
                    16.301739308266225,
                    16.5997610564727,
                    16.897782804679178,
                    17.195804552885654,
                    17.49382630109213,
                    17.791848049298608,
                    18.089869797505084,
                    18.38789154571156,
                    18.685913293918038,
                    18.983935042124514,
                    19.28195679033099,
                    19.579978538537468,
                    19.878000286743944,
                    20.17602203495042,
                    20.474043783156898,
                    20.772065531363374,
                    21.07008727956985,
                    21.368109027776327,
                    21.666130775982804,
                    21.96415252418928,
                    22.262174272395757,
                    22.560196020602234,
                    22.85821776880871,
                    23.156239517015187,
                    23.454261265221664,
                    23.75228301342814,
                    24.050304761634617,
                    24.348326509841094,
                    24.64634825804757,
                    24.944370006254047,
                    25.242391754460524,
                    25.540413502667,
                    25.838435250873477,
                    26.136456999079954,
                    26.43447874728643,
                    26.732500495492907,
                    27.030522243699384,
                    27.32854399190586,
                    27.626565740112337,
                    27.924587488318814,
                    28.22260923652529,
                    28.520630984731767,
                    28.818652732938244,
                    29.11667448114472,
                    29.414696229351197,
                    29.712717977557674,
                    30.01073972576415,
                    30.308761473970627,
                    30.606783222177103,
                    30.90480497038358,
                    31.202826718590057,
                    31.500848466796533,
                    31.79887021500301,
                    32.09689196320949,
                    32.39491371141597,
                    32.69293545962244,
                    32.99095720782891,
                    33.28897895603539,
                    33.58700070424187,
                    33.88502245244835,
                    34.18304420065482,
                    34.4810659488613,
                    34.77908769706778,
                    35.07710944527425,
                    35.375131193480726,
                    35.673152941687206,
                    35.97117468989369,
                    36.26919643810016,
                    36.56721818630663,
                    36.86523993451311,
                    37.16326168271959,
                    37.461283430926066,
                    37.75930517913254,
                    38.05732692733902,
                    38.3553486755455,
                    38.65337042375197,
                    38.951392171958446,
                    39.249413920164926,
                    39.547435668371406,
                    39.84545741657788,
                    40.14347916478435,
                    40.44150091299083,
                    40.73952266119731,
                    41.037544409403786,
                    41.33556615761026,
                    41.63358790581674,
                    41.93160965402322,
                    42.22963140222969
                  ]
                },
                {
                  "marker": {
                    "color": "black"
                  },
                  "mode": "markers",
                  "name": "Real",
                  "type": "scatter",
                  "x": [
                    "2016-01-01T00:00:00.000000000",
                    "2016-02-01T00:00:00.000000000",
                    "2016-03-01T00:00:00.000000000",
                    "2016-04-01T00:00:00.000000000",
                    "2016-05-01T00:00:00.000000000",
                    "2016-06-01T00:00:00.000000000",
                    "2016-07-01T00:00:00.000000000",
                    "2016-08-01T00:00:00.000000000",
                    "2016-09-01T00:00:00.000000000",
                    "2016-10-01T00:00:00.000000000",
                    "2016-11-01T00:00:00.000000000",
                    "2016-12-01T00:00:00.000000000",
                    "2017-01-01T00:00:00.000000000",
                    "2017-02-01T00:00:00.000000000",
                    "2017-03-01T00:00:00.000000000",
                    "2017-04-01T00:00:00.000000000",
                    "2017-05-01T00:00:00.000000000",
                    "2017-06-01T00:00:00.000000000",
                    "2017-07-01T00:00:00.000000000",
                    "2017-08-01T00:00:00.000000000",
                    "2017-09-01T00:00:00.000000000",
                    "2017-10-01T00:00:00.000000000",
                    "2017-11-01T00:00:00.000000000",
                    "2017-12-01T00:00:00.000000000",
                    "2018-01-01T00:00:00.000000000",
                    "2018-02-01T00:00:00.000000000",
                    "2018-03-01T00:00:00.000000000",
                    "2018-04-01T00:00:00.000000000",
                    "2018-05-01T00:00:00.000000000",
                    "2018-06-01T00:00:00.000000000",
                    "2018-07-01T00:00:00.000000000",
                    "2018-08-01T00:00:00.000000000",
                    "2018-09-01T00:00:00.000000000",
                    "2018-10-01T00:00:00.000000000",
                    "2018-11-01T00:00:00.000000000",
                    "2018-12-01T00:00:00.000000000",
                    "2019-01-01T00:00:00.000000000",
                    "2019-02-01T00:00:00.000000000",
                    "2019-03-01T00:00:00.000000000",
                    "2019-04-01T00:00:00.000000000",
                    "2019-05-01T00:00:00.000000000",
                    "2019-06-01T00:00:00.000000000",
                    "2019-07-01T00:00:00.000000000",
                    "2019-08-01T00:00:00.000000000",
                    "2019-09-01T00:00:00.000000000",
                    "2019-10-01T00:00:00.000000000",
                    "2019-11-01T00:00:00.000000000",
                    "2019-12-01T00:00:00.000000000",
                    "2020-01-01T00:00:00.000000000",
                    "2020-02-01T00:00:00.000000000",
                    "2020-03-01T00:00:00.000000000",
                    "2020-04-01T00:00:00.000000000",
                    "2020-05-01T00:00:00.000000000",
                    "2020-06-01T00:00:00.000000000",
                    "2020-07-01T00:00:00.000000000",
                    "2020-08-01T00:00:00.000000000",
                    "2020-09-01T00:00:00.000000000",
                    "2020-10-01T00:00:00.000000000",
                    "2020-11-01T00:00:00.000000000",
                    "2020-12-01T00:00:00.000000000",
                    "2021-01-01T00:00:00.000000000",
                    "2021-02-01T00:00:00.000000000",
                    "2021-03-01T00:00:00.000000000",
                    "2021-04-01T00:00:00.000000000",
                    "2021-05-01T00:00:00.000000000",
                    "2021-06-01T00:00:00.000000000",
                    "2021-07-01T00:00:00.000000000",
                    "2021-08-01T00:00:00.000000000",
                    "2021-09-01T00:00:00.000000000",
                    "2021-10-01T00:00:00.000000000",
                    "2021-11-01T00:00:00.000000000",
                    "2021-12-01T00:00:00.000000000",
                    "2022-01-01T00:00:00.000000000",
                    "2022-02-01T00:00:00.000000000",
                    "2022-03-01T00:00:00.000000000",
                    "2022-04-01T00:00:00.000000000",
                    "2022-05-01T00:00:00.000000000",
                    "2022-06-01T00:00:00.000000000",
                    "2022-07-01T00:00:00.000000000",
                    "2022-08-01T00:00:00.000000000",
                    "2022-09-01T00:00:00.000000000",
                    "2022-10-01T00:00:00.000000000",
                    "2022-11-01T00:00:00.000000000",
                    "2022-12-01T00:00:00.000000000",
                    "2023-01-01T00:00:00.000000000",
                    "2023-02-01T00:00:00.000000000",
                    "2023-03-01T00:00:00.000000000",
                    "2023-04-01T00:00:00.000000000",
                    "2023-05-01T00:00:00.000000000",
                    "2023-06-01T00:00:00.000000000",
                    "2023-07-01T00:00:00.000000000",
                    "2023-08-01T00:00:00.000000000",
                    "2023-09-01T00:00:00.000000000",
                    "2023-10-01T00:00:00.000000000",
                    "2023-11-01T00:00:00.000000000",
                    "2023-12-01T00:00:00.000000000",
                    "2024-01-01T00:00:00.000000000",
                    "2024-02-01T00:00:00.000000000",
                    "2024-03-01T00:00:00.000000000",
                    "2024-04-01T00:00:00.000000000",
                    "2024-05-01T00:00:00.000000000",
                    "2024-06-01T00:00:00.000000000",
                    "2024-07-01T00:00:00.000000000",
                    "2024-08-01T00:00:00.000000000",
                    "2024-09-01T00:00:00.000000000",
                    "2024-10-01T00:00:00.000000000",
                    "2024-11-01T00:00:00.000000000",
                    "2024-12-01T00:00:00.000000000"
                  ],
                  "y": [
                    10.941401389358143,
                    11.153289500889054,
                    10.147589055629307,
                    10.443089808801592,
                    11.550837358963411,
                    11.956852961061964,
                    12.222830662100645,
                    12.053856592078645,
                    10.922161403693112,
                    12.108456632832628,
                    11.24456421169504,
                    11.476098523162246,
                    12.883236592571883,
                    13.103285658281703,
                    12.353367819075748,
                    12.88020271632866,
                    14.026221643619367,
                    14.724024083269354,
                    15.172998671998114,
                    16.743517991134446,
                    17.50080948783229,
                    18.551725122756768,
                    19.24970574031138,
                    19.018004307552964,
                    19.46595158061714,
                    20.15976295663337,
                    19.575593794663096,
                    18.94855506346339,
                    20.153266306238436,
                    22.438699931614742,
                    21.94833973527101,
                    22.202889333406468,
                    22.330103217435365,
                    22.098739342961768,
                    21.768217460015585,
                    21.637351521758603,
                    21.07423466406934,
                    21.675527084642635,
                    21.237596191071294,
                    19.931663643835805,
                    20.26943065317726,
                    21.23602606289089,
                    22.340853510062782,
                    24.309228204013042,
                    25.432281982612057,
                    25.118195167354948,
                    24.297504041333756,
                    24.971490093771628,
                    24.836732424679976,
                    24.137818176883478,
                    24.75752642998163,
                    30.65261778875609,
                    29.301670858285537,
                    27.193490120468116,
                    24.089710836540856,
                    23.74104219612153,
                    25.804027159581796,
                    26.77968851033053,
                    25.878678438366165,
                    24.107470616422297,
                    24.6740191716648,
                    25.344051080326093,
                    23.35680721884366,
                    25.011219700585134,
                    23.26195543586848,
                    25.29701485722184,
                    25.651590119006016,
                    27.5704057061705,
                    29.16117018095997,
                    28.002797679929436,
                    27.78879468166834,
                    25.400022596845012,
                    17.618142896302498,
                    23.848139318214447,
                    27.546137057621213,
                    27.30054765177304,
                    26.640351164542864,
                    22.90007569717366,
                    25.184260912166287,
                    29.105037934073167,
                    30.626012269217316,
                    28.648598238113003,
                    27.254421117690452,
                    24.65804742760372,
                    29.3767082567674,
                    29.353353450896446,
                    27.475231461451934,
                    25.904325392468987,
                    27.497241589783318,
                    29.259569217514947,
                    29.95301692636741,
                    31.239758005114915,
                    32.125805445422934,
                    30.656477577134357,
                    30.30209761429681,
                    29.42344365830787,
                    29.995833272263205,
                    26.689974187773625,
                    25.755695538993272,
                    25.50803046568807,
                    26.94564098238045,
                    29.694326911726467,
                    30.674832310812995,
                    30.998612801985313,
                    30.824555202805175,
                    31.499143195822324,
                    29.985980449816974,
                    29.58332957744388
                  ]
                },
                {
                  "line": {
                    "color": "purple"
                  },
                  "mode": "lines",
                  "name": "Full model",
                  "type": "scatter",
                  "x": [
                    "2016-01-01T00:00:00.000000000",
                    "2016-02-01T00:00:00.000000000",
                    "2016-03-01T00:00:00.000000000",
                    "2016-04-01T00:00:00.000000000",
                    "2016-05-01T00:00:00.000000000",
                    "2016-06-01T00:00:00.000000000",
                    "2016-07-01T00:00:00.000000000",
                    "2016-08-01T00:00:00.000000000",
                    "2016-09-01T00:00:00.000000000",
                    "2016-10-01T00:00:00.000000000",
                    "2016-11-01T00:00:00.000000000",
                    "2016-12-01T00:00:00.000000000",
                    "2017-01-01T00:00:00.000000000",
                    "2017-02-01T00:00:00.000000000",
                    "2017-03-01T00:00:00.000000000",
                    "2017-04-01T00:00:00.000000000",
                    "2017-05-01T00:00:00.000000000",
                    "2017-06-01T00:00:00.000000000",
                    "2017-07-01T00:00:00.000000000",
                    "2017-08-01T00:00:00.000000000",
                    "2017-09-01T00:00:00.000000000",
                    "2017-10-01T00:00:00.000000000",
                    "2017-11-01T00:00:00.000000000",
                    "2017-12-01T00:00:00.000000000",
                    "2018-01-01T00:00:00.000000000",
                    "2018-02-01T00:00:00.000000000",
                    "2018-03-01T00:00:00.000000000",
                    "2018-04-01T00:00:00.000000000",
                    "2018-05-01T00:00:00.000000000",
                    "2018-06-01T00:00:00.000000000",
                    "2018-07-01T00:00:00.000000000",
                    "2018-08-01T00:00:00.000000000",
                    "2018-09-01T00:00:00.000000000",
                    "2018-10-01T00:00:00.000000000",
                    "2018-11-01T00:00:00.000000000",
                    "2018-12-01T00:00:00.000000000",
                    "2019-01-01T00:00:00.000000000",
                    "2019-02-01T00:00:00.000000000",
                    "2019-03-01T00:00:00.000000000",
                    "2019-04-01T00:00:00.000000000",
                    "2019-05-01T00:00:00.000000000",
                    "2019-06-01T00:00:00.000000000",
                    "2019-07-01T00:00:00.000000000",
                    "2019-08-01T00:00:00.000000000",
                    "2019-09-01T00:00:00.000000000",
                    "2019-10-01T00:00:00.000000000",
                    "2019-11-01T00:00:00.000000000",
                    "2019-12-01T00:00:00.000000000",
                    "2020-01-01T00:00:00.000000000",
                    "2020-02-01T00:00:00.000000000",
                    "2020-03-01T00:00:00.000000000",
                    "2020-04-01T00:00:00.000000000",
                    "2020-05-01T00:00:00.000000000",
                    "2020-06-01T00:00:00.000000000",
                    "2020-07-01T00:00:00.000000000",
                    "2020-08-01T00:00:00.000000000",
                    "2020-09-01T00:00:00.000000000",
                    "2020-10-01T00:00:00.000000000",
                    "2020-11-01T00:00:00.000000000",
                    "2020-12-01T00:00:00.000000000",
                    "2021-01-01T00:00:00.000000000",
                    "2021-02-01T00:00:00.000000000",
                    "2021-03-01T00:00:00.000000000",
                    "2021-04-01T00:00:00.000000000",
                    "2021-05-01T00:00:00.000000000",
                    "2021-06-01T00:00:00.000000000",
                    "2021-07-01T00:00:00.000000000",
                    "2021-08-01T00:00:00.000000000",
                    "2021-09-01T00:00:00.000000000",
                    "2021-10-01T00:00:00.000000000",
                    "2021-11-01T00:00:00.000000000",
                    "2021-12-01T00:00:00.000000000",
                    "2022-01-01T00:00:00.000000000",
                    "2022-02-01T00:00:00.000000000",
                    "2022-03-01T00:00:00.000000000",
                    "2022-04-01T00:00:00.000000000",
                    "2022-05-01T00:00:00.000000000",
                    "2022-06-01T00:00:00.000000000",
                    "2022-07-01T00:00:00.000000000",
                    "2022-08-01T00:00:00.000000000",
                    "2022-09-01T00:00:00.000000000",
                    "2022-10-01T00:00:00.000000000",
                    "2022-11-01T00:00:00.000000000",
                    "2022-12-01T00:00:00.000000000",
                    "2023-01-01T00:00:00.000000000",
                    "2023-02-01T00:00:00.000000000",
                    "2023-03-01T00:00:00.000000000",
                    "2023-04-01T00:00:00.000000000",
                    "2023-05-01T00:00:00.000000000",
                    "2023-06-01T00:00:00.000000000",
                    "2023-07-01T00:00:00.000000000",
                    "2023-08-01T00:00:00.000000000",
                    "2023-09-01T00:00:00.000000000",
                    "2023-10-01T00:00:00.000000000",
                    "2023-11-01T00:00:00.000000000",
                    "2023-12-01T00:00:00.000000000",
                    "2024-01-01T00:00:00.000000000",
                    "2024-02-01T00:00:00.000000000",
                    "2024-03-01T00:00:00.000000000",
                    "2024-04-01T00:00:00.000000000",
                    "2024-05-01T00:00:00.000000000",
                    "2024-06-01T00:00:00.000000000",
                    "2024-07-01T00:00:00.000000000",
                    "2024-08-01T00:00:00.000000000",
                    "2024-09-01T00:00:00.000000000",
                    "2024-10-01T00:00:00.000000000",
                    "2024-11-01T00:00:00.000000000",
                    "2024-12-01T00:00:00.000000000"
                  ],
                  "y": [
                    10.341304344136692,
                    10.639326092343168,
                    10.937347840549645,
                    11.235369588756122,
                    11.533391336962598,
                    11.831413085169075,
                    12.129434833375552,
                    12.427456581582028,
                    12.725478329788505,
                    13.023500077994981,
                    13.321521826201458,
                    13.619543574407935,
                    13.917565322614411,
                    14.215587070820888,
                    14.513608819027365,
                    14.811630567233841,
                    15.109652315440318,
                    15.407674063646795,
                    15.705695811853271,
                    16.003717560059748,
                    16.301739308266225,
                    16.5997610564727,
                    16.897782804679178,
                    17.195804552885654,
                    17.49382630109213,
                    17.791848049298608,
                    18.089869797505084,
                    18.38789154571156,
                    18.685913293918038,
                    18.983935042124514,
                    19.28195679033099,
                    19.579978538537468,
                    19.878000286743944,
                    20.17602203495042,
                    20.474043783156898,
                    20.772065531363374,
                    21.07008727956985,
                    21.368109027776327,
                    21.666130775982804,
                    21.96415252418928,
                    22.262174272395757,
                    22.560196020602234,
                    22.85821776880871,
                    23.156239517015187,
                    23.454261265221664,
                    23.75228301342814,
                    24.050304761634617,
                    24.348326509841094,
                    24.64634825804757,
                    24.944370006254047,
                    25.242391754460524,
                    28.130537636952315,
                    27.986410896130604,
                    27.842284155308903,
                    27.698157414487195,
                    27.55403067366549,
                    27.409903932843783,
                    27.265777192022078,
                    27.12165045120037,
                    26.97752371037867,
                    26.833396969556958,
                    26.689270228735257,
                    26.54514348791355,
                    26.401016747091845,
                    26.256890006270137,
                    26.112763265448436,
                    25.968636524626724,
                    25.824509783805023,
                    25.680383042983316,
                    25.53625630216161,
                    25.392129561339903,
                    25.248002820518202,
                    25.10387607969649,
                    24.959749338874786,
                    24.81562259805309,
                    26.249630284408678,
                    26.38053858922795,
                    26.511446894047225,
                    26.642355198866504,
                    26.773263503685772,
                    26.90417180850504,
                    27.03508011332432,
                    27.165988418143595,
                    27.296896722962863,
                    27.427805027782135,
                    27.55871333260141,
                    27.689621637420686,
                    27.820529942239958,
                    27.951438247059226,
                    28.082346551878505,
                    28.21325485669778,
                    28.34416316151705,
                    28.47507146633632,
                    28.605979771155596,
                    28.736888075974875,
                    28.867796380794143,
                    28.99870468561341,
                    29.12961299043269,
                    29.260521295251966,
                    29.391429600071234,
                    29.522337904890506,
                    29.65324620970978,
                    29.784154514529057,
                    29.91506281934833,
                    30.045971124167597,
                    30.176879428986872,
                    30.30778773380615,
                    30.438696038625423
                  ]
                }
              ],
              "layout": {
                "annotations": [
                  {
                    "arrowhead": 2,
                    "ax": 30,
                    "ay": -40,
                    "showarrow": true,
                    "text": "Pandemia",
                    "x": "2020-04-01",
                    "y": 32.125805445422934
                  },
                  {
                    "arrowhead": 2,
                    "ax": 30,
                    "ay": -40,
                    "showarrow": true,
                    "text": "Pos Pandemia",
                    "x": "2022-04-01",
                    "y": 32.125805445422934
                  }
                ],
                "legend": {
                  "title": {
                    "text": "Legend"
                  }
                },
                "shapes": [
                  {
                    "line": {
                      "color": "black",
                      "dash": "dash"
                    },
                    "type": "line",
                    "x0": "2020-04-01",
                    "x1": "2020-04-01",
                    "y0": 10.147589055629307,
                    "y1": 32.125805445422934
                  },
                  {
                    "line": {
                      "color": "black",
                      "dash": "dash"
                    },
                    "type": "line",
                    "x0": "2022-04-01",
                    "x1": "2022-04-01",
                    "y0": 10.147589055629307,
                    "y1": 32.125805445422934
                  }
                ],
                "template": {
                  "data": {
                    "bar": [
                      {
                        "error_x": {
                          "color": "#2a3f5f"
                        },
                        "error_y": {
                          "color": "#2a3f5f"
                        },
                        "marker": {
                          "line": {
                            "color": "#E5ECF6",
                            "width": 0.5
                          },
                          "pattern": {
                            "fillmode": "overlay",
                            "size": 10,
                            "solidity": 0.2
                          }
                        },
                        "type": "bar"
                      }
                    ],
                    "barpolar": [
                      {
                        "marker": {
                          "line": {
                            "color": "#E5ECF6",
                            "width": 0.5
                          },
                          "pattern": {
                            "fillmode": "overlay",
                            "size": 10,
                            "solidity": 0.2
                          }
                        },
                        "type": "barpolar"
                      }
                    ],
                    "carpet": [
                      {
                        "aaxis": {
                          "endlinecolor": "#2a3f5f",
                          "gridcolor": "white",
                          "linecolor": "white",
                          "minorgridcolor": "white",
                          "startlinecolor": "#2a3f5f"
                        },
                        "baxis": {
                          "endlinecolor": "#2a3f5f",
                          "gridcolor": "white",
                          "linecolor": "white",
                          "minorgridcolor": "white",
                          "startlinecolor": "#2a3f5f"
                        },
                        "type": "carpet"
                      }
                    ],
                    "choropleth": [
                      {
                        "colorbar": {
                          "outlinewidth": 0,
                          "ticks": ""
                        },
                        "type": "choropleth"
                      }
                    ],
                    "contour": [
                      {
                        "colorbar": {
                          "outlinewidth": 0,
                          "ticks": ""
                        },
                        "colorscale": [
                          [
                            0,
                            "#0d0887"
                          ],
                          [
                            0.1111111111111111,
                            "#46039f"
                          ],
                          [
                            0.2222222222222222,
                            "#7201a8"
                          ],
                          [
                            0.3333333333333333,
                            "#9c179e"
                          ],
                          [
                            0.4444444444444444,
                            "#bd3786"
                          ],
                          [
                            0.5555555555555556,
                            "#d8576b"
                          ],
                          [
                            0.6666666666666666,
                            "#ed7953"
                          ],
                          [
                            0.7777777777777778,
                            "#fb9f3a"
                          ],
                          [
                            0.8888888888888888,
                            "#fdca26"
                          ],
                          [
                            1,
                            "#f0f921"
                          ]
                        ],
                        "type": "contour"
                      }
                    ],
                    "contourcarpet": [
                      {
                        "colorbar": {
                          "outlinewidth": 0,
                          "ticks": ""
                        },
                        "type": "contourcarpet"
                      }
                    ],
                    "heatmap": [
                      {
                        "colorbar": {
                          "outlinewidth": 0,
                          "ticks": ""
                        },
                        "colorscale": [
                          [
                            0,
                            "#0d0887"
                          ],
                          [
                            0.1111111111111111,
                            "#46039f"
                          ],
                          [
                            0.2222222222222222,
                            "#7201a8"
                          ],
                          [
                            0.3333333333333333,
                            "#9c179e"
                          ],
                          [
                            0.4444444444444444,
                            "#bd3786"
                          ],
                          [
                            0.5555555555555556,
                            "#d8576b"
                          ],
                          [
                            0.6666666666666666,
                            "#ed7953"
                          ],
                          [
                            0.7777777777777778,
                            "#fb9f3a"
                          ],
                          [
                            0.8888888888888888,
                            "#fdca26"
                          ],
                          [
                            1,
                            "#f0f921"
                          ]
                        ],
                        "type": "heatmap"
                      }
                    ],
                    "heatmapgl": [
                      {
                        "colorbar": {
                          "outlinewidth": 0,
                          "ticks": ""
                        },
                        "colorscale": [
                          [
                            0,
                            "#0d0887"
                          ],
                          [
                            0.1111111111111111,
                            "#46039f"
                          ],
                          [
                            0.2222222222222222,
                            "#7201a8"
                          ],
                          [
                            0.3333333333333333,
                            "#9c179e"
                          ],
                          [
                            0.4444444444444444,
                            "#bd3786"
                          ],
                          [
                            0.5555555555555556,
                            "#d8576b"
                          ],
                          [
                            0.6666666666666666,
                            "#ed7953"
                          ],
                          [
                            0.7777777777777778,
                            "#fb9f3a"
                          ],
                          [
                            0.8888888888888888,
                            "#fdca26"
                          ],
                          [
                            1,
                            "#f0f921"
                          ]
                        ],
                        "type": "heatmapgl"
                      }
                    ],
                    "histogram": [
                      {
                        "marker": {
                          "pattern": {
                            "fillmode": "overlay",
                            "size": 10,
                            "solidity": 0.2
                          }
                        },
                        "type": "histogram"
                      }
                    ],
                    "histogram2d": [
                      {
                        "colorbar": {
                          "outlinewidth": 0,
                          "ticks": ""
                        },
                        "colorscale": [
                          [
                            0,
                            "#0d0887"
                          ],
                          [
                            0.1111111111111111,
                            "#46039f"
                          ],
                          [
                            0.2222222222222222,
                            "#7201a8"
                          ],
                          [
                            0.3333333333333333,
                            "#9c179e"
                          ],
                          [
                            0.4444444444444444,
                            "#bd3786"
                          ],
                          [
                            0.5555555555555556,
                            "#d8576b"
                          ],
                          [
                            0.6666666666666666,
                            "#ed7953"
                          ],
                          [
                            0.7777777777777778,
                            "#fb9f3a"
                          ],
                          [
                            0.8888888888888888,
                            "#fdca26"
                          ],
                          [
                            1,
                            "#f0f921"
                          ]
                        ],
                        "type": "histogram2d"
                      }
                    ],
                    "histogram2dcontour": [
                      {
                        "colorbar": {
                          "outlinewidth": 0,
                          "ticks": ""
                        },
                        "colorscale": [
                          [
                            0,
                            "#0d0887"
                          ],
                          [
                            0.1111111111111111,
                            "#46039f"
                          ],
                          [
                            0.2222222222222222,
                            "#7201a8"
                          ],
                          [
                            0.3333333333333333,
                            "#9c179e"
                          ],
                          [
                            0.4444444444444444,
                            "#bd3786"
                          ],
                          [
                            0.5555555555555556,
                            "#d8576b"
                          ],
                          [
                            0.6666666666666666,
                            "#ed7953"
                          ],
                          [
                            0.7777777777777778,
                            "#fb9f3a"
                          ],
                          [
                            0.8888888888888888,
                            "#fdca26"
                          ],
                          [
                            1,
                            "#f0f921"
                          ]
                        ],
                        "type": "histogram2dcontour"
                      }
                    ],
                    "mesh3d": [
                      {
                        "colorbar": {
                          "outlinewidth": 0,
                          "ticks": ""
                        },
                        "type": "mesh3d"
                      }
                    ],
                    "parcoords": [
                      {
                        "line": {
                          "colorbar": {
                            "outlinewidth": 0,
                            "ticks": ""
                          }
                        },
                        "type": "parcoords"
                      }
                    ],
                    "pie": [
                      {
                        "automargin": true,
                        "type": "pie"
                      }
                    ],
                    "scatter": [
                      {
                        "fillpattern": {
                          "fillmode": "overlay",
                          "size": 10,
                          "solidity": 0.2
                        },
                        "type": "scatter"
                      }
                    ],
                    "scatter3d": [
                      {
                        "line": {
                          "colorbar": {
                            "outlinewidth": 0,
                            "ticks": ""
                          }
                        },
                        "marker": {
                          "colorbar": {
                            "outlinewidth": 0,
                            "ticks": ""
                          }
                        },
                        "type": "scatter3d"
                      }
                    ],
                    "scattercarpet": [
                      {
                        "marker": {
                          "colorbar": {
                            "outlinewidth": 0,
                            "ticks": ""
                          }
                        },
                        "type": "scattercarpet"
                      }
                    ],
                    "scattergeo": [
                      {
                        "marker": {
                          "colorbar": {
                            "outlinewidth": 0,
                            "ticks": ""
                          }
                        },
                        "type": "scattergeo"
                      }
                    ],
                    "scattergl": [
                      {
                        "marker": {
                          "colorbar": {
                            "outlinewidth": 0,
                            "ticks": ""
                          }
                        },
                        "type": "scattergl"
                      }
                    ],
                    "scattermapbox": [
                      {
                        "marker": {
                          "colorbar": {
                            "outlinewidth": 0,
                            "ticks": ""
                          }
                        },
                        "type": "scattermapbox"
                      }
                    ],
                    "scatterpolar": [
                      {
                        "marker": {
                          "colorbar": {
                            "outlinewidth": 0,
                            "ticks": ""
                          }
                        },
                        "type": "scatterpolar"
                      }
                    ],
                    "scatterpolargl": [
                      {
                        "marker": {
                          "colorbar": {
                            "outlinewidth": 0,
                            "ticks": ""
                          }
                        },
                        "type": "scatterpolargl"
                      }
                    ],
                    "scatterternary": [
                      {
                        "marker": {
                          "colorbar": {
                            "outlinewidth": 0,
                            "ticks": ""
                          }
                        },
                        "type": "scatterternary"
                      }
                    ],
                    "surface": [
                      {
                        "colorbar": {
                          "outlinewidth": 0,
                          "ticks": ""
                        },
                        "colorscale": [
                          [
                            0,
                            "#0d0887"
                          ],
                          [
                            0.1111111111111111,
                            "#46039f"
                          ],
                          [
                            0.2222222222222222,
                            "#7201a8"
                          ],
                          [
                            0.3333333333333333,
                            "#9c179e"
                          ],
                          [
                            0.4444444444444444,
                            "#bd3786"
                          ],
                          [
                            0.5555555555555556,
                            "#d8576b"
                          ],
                          [
                            0.6666666666666666,
                            "#ed7953"
                          ],
                          [
                            0.7777777777777778,
                            "#fb9f3a"
                          ],
                          [
                            0.8888888888888888,
                            "#fdca26"
                          ],
                          [
                            1,
                            "#f0f921"
                          ]
                        ],
                        "type": "surface"
                      }
                    ],
                    "table": [
                      {
                        "cells": {
                          "fill": {
                            "color": "#EBF0F8"
                          },
                          "line": {
                            "color": "white"
                          }
                        },
                        "header": {
                          "fill": {
                            "color": "#C8D4E3"
                          },
                          "line": {
                            "color": "white"
                          }
                        },
                        "type": "table"
                      }
                    ]
                  },
                  "layout": {
                    "annotationdefaults": {
                      "arrowcolor": "#2a3f5f",
                      "arrowhead": 0,
                      "arrowwidth": 1
                    },
                    "autotypenumbers": "strict",
                    "coloraxis": {
                      "colorbar": {
                        "outlinewidth": 0,
                        "ticks": ""
                      }
                    },
                    "colorscale": {
                      "diverging": [
                        [
                          0,
                          "#8e0152"
                        ],
                        [
                          0.1,
                          "#c51b7d"
                        ],
                        [
                          0.2,
                          "#de77ae"
                        ],
                        [
                          0.3,
                          "#f1b6da"
                        ],
                        [
                          0.4,
                          "#fde0ef"
                        ],
                        [
                          0.5,
                          "#f7f7f7"
                        ],
                        [
                          0.6,
                          "#e6f5d0"
                        ],
                        [
                          0.7,
                          "#b8e186"
                        ],
                        [
                          0.8,
                          "#7fbc41"
                        ],
                        [
                          0.9,
                          "#4d9221"
                        ],
                        [
                          1,
                          "#276419"
                        ]
                      ],
                      "sequential": [
                        [
                          0,
                          "#0d0887"
                        ],
                        [
                          0.1111111111111111,
                          "#46039f"
                        ],
                        [
                          0.2222222222222222,
                          "#7201a8"
                        ],
                        [
                          0.3333333333333333,
                          "#9c179e"
                        ],
                        [
                          0.4444444444444444,
                          "#bd3786"
                        ],
                        [
                          0.5555555555555556,
                          "#d8576b"
                        ],
                        [
                          0.6666666666666666,
                          "#ed7953"
                        ],
                        [
                          0.7777777777777778,
                          "#fb9f3a"
                        ],
                        [
                          0.8888888888888888,
                          "#fdca26"
                        ],
                        [
                          1,
                          "#f0f921"
                        ]
                      ],
                      "sequentialminus": [
                        [
                          0,
                          "#0d0887"
                        ],
                        [
                          0.1111111111111111,
                          "#46039f"
                        ],
                        [
                          0.2222222222222222,
                          "#7201a8"
                        ],
                        [
                          0.3333333333333333,
                          "#9c179e"
                        ],
                        [
                          0.4444444444444444,
                          "#bd3786"
                        ],
                        [
                          0.5555555555555556,
                          "#d8576b"
                        ],
                        [
                          0.6666666666666666,
                          "#ed7953"
                        ],
                        [
                          0.7777777777777778,
                          "#fb9f3a"
                        ],
                        [
                          0.8888888888888888,
                          "#fdca26"
                        ],
                        [
                          1,
                          "#f0f921"
                        ]
                      ]
                    },
                    "colorway": [
                      "#636efa",
                      "#EF553B",
                      "#00cc96",
                      "#ab63fa",
                      "#FFA15A",
                      "#19d3f3",
                      "#FF6692",
                      "#B6E880",
                      "#FF97FF",
                      "#FECB52"
                    ],
                    "font": {
                      "color": "#2a3f5f"
                    },
                    "geo": {
                      "bgcolor": "white",
                      "lakecolor": "white",
                      "landcolor": "#E5ECF6",
                      "showlakes": true,
                      "showland": true,
                      "subunitcolor": "white"
                    },
                    "hoverlabel": {
                      "align": "left"
                    },
                    "hovermode": "closest",
                    "mapbox": {
                      "style": "light"
                    },
                    "paper_bgcolor": "white",
                    "plot_bgcolor": "#E5ECF6",
                    "polar": {
                      "angularaxis": {
                        "gridcolor": "white",
                        "linecolor": "white",
                        "ticks": ""
                      },
                      "bgcolor": "#E5ECF6",
                      "radialaxis": {
                        "gridcolor": "white",
                        "linecolor": "white",
                        "ticks": ""
                      }
                    },
                    "scene": {
                      "xaxis": {
                        "backgroundcolor": "#E5ECF6",
                        "gridcolor": "white",
                        "gridwidth": 2,
                        "linecolor": "white",
                        "showbackground": true,
                        "ticks": "",
                        "zerolinecolor": "white"
                      },
                      "yaxis": {
                        "backgroundcolor": "#E5ECF6",
                        "gridcolor": "white",
                        "gridwidth": 2,
                        "linecolor": "white",
                        "showbackground": true,
                        "ticks": "",
                        "zerolinecolor": "white"
                      },
                      "zaxis": {
                        "backgroundcolor": "#E5ECF6",
                        "gridcolor": "white",
                        "gridwidth": 2,
                        "linecolor": "white",
                        "showbackground": true,
                        "ticks": "",
                        "zerolinecolor": "white"
                      }
                    },
                    "shapedefaults": {
                      "line": {
                        "color": "#2a3f5f"
                      }
                    },
                    "ternary": {
                      "aaxis": {
                        "gridcolor": "white",
                        "linecolor": "white",
                        "ticks": ""
                      },
                      "baxis": {
                        "gridcolor": "white",
                        "linecolor": "white",
                        "ticks": ""
                      },
                      "bgcolor": "#E5ECF6",
                      "caxis": {
                        "gridcolor": "white",
                        "linecolor": "white",
                        "ticks": ""
                      }
                    },
                    "title": {
                      "x": 0.05
                    },
                    "xaxis": {
                      "automargin": true,
                      "gridcolor": "white",
                      "linecolor": "white",
                      "ticks": "",
                      "title": {
                        "standoff": 15
                      },
                      "zerolinecolor": "white",
                      "zerolinewidth": 2
                    },
                    "yaxis": {
                      "automargin": true,
                      "gridcolor": "white",
                      "linecolor": "white",
                      "ticks": "",
                      "title": {
                        "standoff": 15
                      },
                      "zerolinecolor": "white",
                      "zerolinewidth": 2
                    }
                  }
                },
                "title": {
                  "text": "centro_oeste"
                },
                "xaxis": {
                  "title": {
                    "text": "Time"
                  }
                },
                "yaxis": {
                  "title": {
                    "text": "Value"
                  }
                }
              }
            }
          },
          "metadata": {},
          "output_type": "display_data"
        }
      ],
      "source": [
        "for variable in results:\n",
        "    variable_result = results[variable]\n",
        "    variable_df = RegressionDF[RegressionDF[GROUP_COL_NAME] == variable]\n",
        "    plot_with_all_dummies(variable,\n",
        "                            variable_df,\n",
        "                            variable_result,\n",
        "                            exclude_coeffs_by_prefix=[\n",
        "                                \"month_\",\n",
        "                                'quarter_',\n",
        "                                'sin','cos'\n",
        "                                ],\n",
        "                            line_events = {\n",
        "                                #'Choque_Inicial':        [CHOQUE_INICIAL_START_DATE, CHOQUE_INICIAL_END_DATE, \"rgba(0, 0, 0, 0.25)\", False],\n",
        "                                #'Lockdown_2021':         [SECONDLOCKDOWN_START_DATE, SECONDLOCKDOWN_END_DATE, \"rgba(0, 0, 0, 0.25)\", False],\n",
        "                                'Pandemia':         [PANDEMIA_START_DATE, PANDEMIA_END_DATE, None, True],\n",
        "                                'Pos Pandemia':      [POS_PANDEMIA_START_DATE, END_DATE, None, True]\n",
        "                            },\n",
        "                            real_serie_key=IR_VAR,\n",
        "                            exponentite_coefs=MODEL_DEF == \"GEE\" or MODEL_DEF == \"GLM\",\n",
        "                            #slope_coef_str='PrePandemia_Trend'\n",
        "\n",
        "\n",
        "\n",
        "                            )\n"
      ]
    }
  ],
  "metadata": {
    "colab": {
      "collapsed_sections": [
        "K8HZg-VlNIXd",
        "WcYnNsL4NIXl",
        "2IiKsqpaNIXu"
      ],
      "provenance": [],
      "toc_visible": true
    },
    "kernelspec": {
      "display_name": "Python 3",
      "name": "python3"
    },
    "language_info": {
      "codemirror_mode": {
        "name": "ipython",
        "version": 3
      },
      "file_extension": ".py",
      "mimetype": "text/x-python",
      "name": "python",
      "nbconvert_exporter": "python",
      "pygments_lexer": "ipython3",
      "version": "3.12.5"
    }
  },
  "nbformat": 4,
  "nbformat_minor": 0
}
