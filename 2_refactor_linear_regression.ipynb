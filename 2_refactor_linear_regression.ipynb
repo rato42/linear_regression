{
  "cells": [
    {
      "cell_type": "markdown",
      "metadata": {
        "id": "view-in-github"
      },
      "source": [
        "<a href=\"https://colab.research.google.com/github/rato42/linear_regression/blob/unstable-yeah-sure/CLASSBASED_new_linear_regression.ipynb\" target=\"_parent\"><img src=\"https://colab.research.google.com/assets/colab-badge.svg\" alt=\"Open In Colab\"/></a>"
      ]
    },
    {
      "cell_type": "markdown",
      "metadata": {
        "id": "EwX1y9X8yfED"
      },
      "source": [
        "# Imports\n"
      ]
    },
    {
      "cell_type": "code",
      "execution_count": 223,
      "metadata": {
        "colab": {
          "base_uri": "https://localhost:8080/"
        },
        "id": "sOJUZR18gkp5",
        "outputId": "dd4a2f5c-7c6d-4675-937c-4e5202e40ef1"
      },
      "outputs": [
        {
          "name": "stdout",
          "output_type": "stream",
          "text": [
            "Running outside Colab (VS Code/local)\n"
          ]
        }
      ],
      "source": [
        "import sys\n",
        "\n",
        "# Detect Colab environment\n",
        "IN_COLAB = \"google.colab\" in sys.modules\n",
        "\n",
        "if IN_COLAB:\n",
        "    from google.colab import drive, auth\n",
        "    from googleapiclient.discovery import build\n",
        "    from googleapiclient.http import MediaIoBaseDownload\n",
        "    !pip install pwlf\n",
        "\n",
        "    import pwlf\n",
        "\n",
        "    auth.authenticate_user()\n",
        "    drive.mount(\"/content/drive\")\n",
        "else:\n",
        "    import pwlf\n",
        "    from oauth2client.service_account import ServiceAccountCredentials\n",
        "\n",
        "    print(\"Running outside Colab (VS Code/local)\")\n",
        "\n",
        "try:\n",
        "    import gspread\n",
        "except ModuleNotFoundError:\n",
        "    if IN_COLAB and \"google.colab\" in str(get_ipython()):\n",
        "        %pip install gspread\n",
        "    import gspread\n",
        "\n",
        "from gspread_dataframe import set_with_dataframe"
      ]
    },
    {
      "cell_type": "code",
      "execution_count": 224,
      "metadata": {
        "id": "uc_HtA6xvVE2"
      },
      "outputs": [],
      "source": [
        "\n",
        "import os\n",
        "\n",
        "import time\n",
        "\n",
        "import math\n",
        "import scipy.stats as stats\n",
        "import pandas as pd\n",
        "import numpy as np\n",
        "\n",
        "\n",
        "from sklearn.linear_model import Ridge\n",
        "import statsmodels.api as sm\n",
        "\n",
        "from openpyxl import load_workbook\n",
        "from openpyxl.styles import Alignment\n",
        "\n",
        "from scipy.stats import linregress, ttest_ind, ttest_rel, ttest_1samp\n",
        "import matplotlib.pyplot as plt\n",
        "import re\n",
        "from openpyxl.drawing.image import Image\n",
        "from matplotlib.font_manager import FontProperties\n",
        "from io import BytesIO\n",
        "import statsmodels.formula.api as smf\n",
        "import statsmodels.api as sm\n",
        "\n",
        "import numpy as np\n",
        "import plotly.graph_objects as go\n",
        "\n",
        "\n",
        "from datetime import datetime, timedelta\n",
        "\n",
        "from statsmodels.stats.stattools import durbin_watson\n",
        "from statsmodels.stats.diagnostic import acorr_ljungbox\n",
        "from statsmodels.tools.tools import add_constant\n",
        "from statsmodels.tsa.arima.model import ARIMA\n",
        "from statsmodels.graphics.tsaplots import plot_acf, plot_pacf\n",
        "from statsmodels.tsa.statespace.sarimax import SARIMAX\n",
        "\n",
        "from sklearn.preprocessing import StandardScaler\n",
        "from sklearn.model_selection import train_test_split\n",
        "from sklearn.metrics import r2_score, mean_squared_error\n",
        "from sklearn.pipeline import Pipeline\n",
        "from sklearn.base import BaseEstimator, TransformerMixin\n",
        "from sklearn.preprocessing import FunctionTransformer\n",
        "\n",
        "from dateutil.relativedelta import relativedelta\n",
        "\n",
        "from sklearn import set_config\n",
        "set_config(display=\"diagram\")\n",
        "\n",
        "import logging\n",
        "from typing import Dict, Any\n",
        "\n",
        "import io"
      ]
    },
    {
      "cell_type": "markdown",
      "metadata": {
        "id": "M6pmUGm9ycJ_"
      },
      "source": [
        "# LOAD --- data from gsheet if colab or local\n"
      ]
    },
    {
      "cell_type": "code",
      "execution_count": 225,
      "metadata": {
        "id": "r6jsbsBZvWHp"
      },
      "outputs": [],
      "source": [
        "dados_brutos = None\n",
        "output_wksheet = None\n",
        "\n",
        "input_path = \"https://docs.google.com/spreadsheets/d/1m3eEaxWT4Unb8jBZWKjiLivavfA0x3PT1F1Rz1eXwVE/edit?gid=0\"\n",
        "output_path = \"https://docs.google.com/spreadsheets/d/1RzC3DfKNUwYA-qfUN0i53hUwRkWGMBOCoYQqdqG4MQY/edit?gid=0\"\n",
        "\n",
        "local_input_path = (\n",
        "    #\"D:\\\\CodeStuff\\\\Stats\\\\colab_linear_regression\\\\linear_regression\\\\input\\\\input.csv\" ### poa\n",
        "    #\"D:\\\\CodeStuff\\\\Stats\\\\colab_linear_regression\\\\linear_regression\\\\input\\\\input_backup_com_aps_total_RS.xlsx\" ### rs\n",
        "    #\"D:\\\\CodeStuff\\\\Stats\\\\colab_linear_regression\\\\linear_regression\\\\input\\\\input_backup_com_aps_total.xlsx\"\n",
        "    #\"D:\\\\CodeStuff\\\\Stats\\\\colab_linear_regression\\\\linear_regression\\\\input\\\\input_backup_com_aps_total_RS_percentual.xlsx\"\n",
        "    #\"D:\\\\CodeStuff\\\\Stats\\\\colab_linear_regression\\\\linear_regression\\\\input\\\\input_IR_1000_poa.xlsx\"\n",
        "    \"D:\\\\CodeStuff\\\\Stats\\\\colab_linear_regression\\\\linear_regression\\\\input\\\\input_IR_1000_brasil.xlsx\"\n",
        ")\n",
        "\n",
        "output_wksheet = None\n",
        "\n",
        "if IN_COLAB:\n",
        "    import gspread\n",
        "    from google.auth import default\n",
        "\n",
        "    auth.authenticate_user()\n",
        "    creds, _ = default()\n",
        "    gc = gspread.authorize(creds)\n",
        "    workbook = gc.open_by_url(input_path)\n",
        "    worksheets = workbook.worksheets()\n",
        "    output_wksheet = gc.open_by_url(output_path)\n",
        "    dados_brutos = worksheets[0].get_all_values()\n",
        "else:\n",
        "    try:\n",
        "        dados_brutos = pd.read_csv(local_input_path, header=None).values.tolist()\n",
        "    except:\n",
        "        dados_brutos = pd.read_excel(local_input_path, header=None).values.tolist()"
      ]
    },
    {
      "cell_type": "markdown",
      "metadata": {
        "id": "wNrVpR84NIXY"
      },
      "source": [
        "# TODO LIST"
      ]
    },
    {
      "cell_type": "markdown",
      "metadata": {},
      "source": [
        "PROMPT\n",
        "im doing a ITS. here is the structure\n",
        "data is monthly, from 2016 to 2024\n",
        "A PraisWinsten regression\n",
        "\n",
        "the following dummies:\n",
        "Pandemia_Step [2020 - 2022] - binary\n",
        "Pandemia_Trend [2020 - 2022] - increase by 1 by period\n",
        "PosPandemia_Step [2022 - 2024] - binary\n",
        "PosPandemia_Trend [2022 - 2024] - increase by 1 by period\n",
        "Lockdown 2020 [03/2020 - 05/2020] - pulse, binary\n",
        "Locdown 2021 [04/2021 - 05/2021] - pulse, binary"
      ]
    },
    {
      "cell_type": "code",
      "execution_count": 226,
      "metadata": {},
      "outputs": [],
      "source": [
        "#Parte 1 – Análise geral com grupo controle\n",
        "#\n",
        "#    ITS com controle (como já falamos)\n",
        "#\n",
        "#    Mostra que saúde mental cresceu mais que os atendimentos gerais\n",
        "#\n",
        "#    Mostra os efeitos da pandemia nesse comportamento\n",
        "#\n",
        "#Parte 2 – Análise dos subgrupos (sem controle)\n",
        "#\n",
        "#    ITS separado para cada diagnóstico (ex: CID-10 F32, F41, etc.)\n",
        "#\n",
        "#    Sem grupo controle, mas comparando antes/depois da pandemia\n",
        "#\n",
        "#    Pode usar o mesmo modelo (Prais-Winsten com step + trend)"
      ]
    },
    {
      "cell_type": "code",
      "execution_count": 227,
      "metadata": {},
      "outputs": [],
      "source": [
        "#Omnibus Test: The high value (41.163) and the p-value (< 0.0001) \n",
        "# suggest that the residuals deviate from normality, which might indicate some model specification issues.\n",
        "#\n",
        "#Jarque-Bera Test: Similarly, this test suggests non-normality in the residuals."
      ]
    },
    {
      "cell_type": "code",
      "execution_count": 228,
      "metadata": {},
      "outputs": [
        {
          "data": {
            "text/plain": [
              "'\\nimport statsmodels.api as sm\\n\\n# model with step\\nmod_full = sm.OLS(y, X_full).fit()\\n\\n# model without step\\nmod_reduced = sm.OLS(y, X_reduced).fit()\\n\\n# compare using F-test\\nf_test_result = mod_full.compare_f_test(mod_reduced)\\n'"
            ]
          },
          "execution_count": 228,
          "metadata": {},
          "output_type": "execute_result"
        }
      ],
      "source": [
        "### to test if step is necessary\n",
        "\n",
        "'''\n",
        "import statsmodels.api as sm\n",
        "\n",
        "# model with step\n",
        "mod_full = sm.OLS(y, X_full).fit()\n",
        "\n",
        "# model without step\n",
        "mod_reduced = sm.OLS(y, X_reduced).fit()\n",
        "\n",
        "# compare using F-test\n",
        "f_test_result = mod_full.compare_f_test(mod_reduced)\n",
        "'''"
      ]
    },
    {
      "cell_type": "code",
      "execution_count": 229,
      "metadata": {
        "id": "5yCwGqXBNIXY"
      },
      "outputs": [],
      "source": [
        "# TODO: Adicionar dummy de interação para comparar SM e outros atendimentos\n",
        "\n",
        "# TODO: Orthogonalise pospand trend (so to not have colinearity with months)\n",
        "\n",
        "# TODO: analisar overfitting\n",
        "\n",
        "# TODO: taxa. a população se mantem estavel? os serviços de saude se mantem estaveis?\n",
        "\n",
        "# https://chatgpt.com/canvas/shared/68084b682c548191a92db280344e5474"
      ]
    },
    {
      "cell_type": "markdown",
      "metadata": {
        "id": "gGzVKl7DNIXZ"
      },
      "source": [
        "--- Low HIGH COMPLEXITY\n",
        "\n",
        "- [x] Data Quality & Exploration  \n",
        "  - [x] Plot the raw time series and annotate intervention points.  \n",
        "  - [x] Check for missing values, outliers, or data entry errors.  \n",
        "  - [x] Verify your date index is consistent (e.g., monthly frequency).  \n",
        "\n",
        "- [x] Descriptive Statistics  \n",
        "  - [x] Compute summary statistics (mean, variance) before and after the pandemic.  \n",
        "  - [x] Calculate and plot moving averages to smooth trends.  \n",
        "\n",
        "- [x] Dummy Variable Audit  \n",
        "  - [x] Confirm each dummy is coded 0/1 for the correct periods.  \n",
        "  - [x] Review naming consistency and placement in the DataFrame.  \n",
        "\n",
        "- [x] Basic Model Fit  \n",
        "  - [x] Fit the current segmented regression (consults ~ time + level_dummy + slope_dummy + month_dummies + lockdown_outliers).  \n",
        "  - [x] Inspect R², coefficient signs, and p-values to sanity-check effects.  Export this to a readeable format\n",
        "\n",
        "--- MEDIUM COMPLEXITY\n",
        "\n",
        "- [ ] Residual Diagnostics  \n",
        "  - [X] Plot residuals vs. fitted values to check heteroscedasticity.  \n",
        "  - [ ] Examine ACF/PACF of residuals:  \n",
        "    - [X] First using OLS (to confirm the need for AR structure).  \n",
        "    - [X] Then using Prais-Winsten (to assess remaining autocorrelation).  \n",
        "\n",
        "- [ ] Autocorrelation & Robust SE  \n",
        "  - [ ] If autocorrelation exists, adjust standard errors (e.g., Newey-West) or fit an autoregressive error structure (e.g., AR(1)).  \n",
        "  - [ ] Since you’re using Prais-Winsten, this step may be partially addressed — verify with residuals.  \n",
        "\n",
        "- [ ] Seasonality & Trend Flexibility  \n",
        "  - [ ] Test alternative seasonal structures (e.g., Fourier terms) instead of month dummies.  \n",
        "  - [ ] Consider adding a quadratic or spline-based time trend.  \n",
        "\n",
        "- [ ] Outlier Handling  \n",
        "  - [ ] Justify and potentially consolidate lockdown outlier dummies (pulse vs. step).  \n",
        "  - [ ] Compare models with and without these outlier dummies (use AIC/BIC).  \n",
        "\n",
        "- [ ] Multicollinearity Check  \n",
        "  - [ ] Compute Variance Inflation Factors (VIFs) for covariates.  \n",
        "\n",
        "--- HIGH COMPLEXITY\n",
        "\n",
        "- [ ] Adicionar dummy de interação para comparar SM e outros atendimentos\n",
        "\n",
        "- [ ] Time-Series Cross-Validation  \n",
        "  - [ ] Implement rolling-origin evaluation to assess predictive performance.  \n",
        "  - [ ] Compare cross-validated errors (e.g., RMSE) across model specs to detect overfitting.  \n",
        "\n",
        "- [ ] Model Comparison & Selection  \n",
        "  - [ ] Use information criteria (AIC/BIC) to compare alternative models.  \n",
        "  - [ ] Evaluate nested models (e.g., with/without slope change) via likelihood ratio tests.  \n",
        "\n",
        "- [ ] Advanced Interrupted Time Series Methods  \n",
        "  - [ ] Explore Bayesian ITS or segmented regression with autoregressive integrated moving average (ARIMA) errors.  \n",
        "  - [x] Consider structural break tests (e.g., Chow test) for formal change-point detection.  \n",
        "\n",
        "- [ ] Sensitivity & Robustness  \n",
        "  - [ ] Run sensitivity analyses using different intervention start/end dates.  \n",
        "  - [ ] Test robustness to alternative outlier definitions or lag structures.  \n",
        "\n",
        "- [ ] Forecasting & Counterfactuals  \n",
        "  - [ ] Generate counterfactual predictions for the post-pandemic period.  \n",
        "  - [ ] Visualize observed vs. counterfactual to illustrate intervention impact."
      ]
    },
    {
      "cell_type": "markdown",
      "metadata": {
        "id": "SAATuGWcyPmG"
      },
      "source": [
        "# ARGS --- Define Args\n"
      ]
    },
    {
      "cell_type": "code",
      "execution_count": null,
      "metadata": {
        "id": "HET-jWP8Wi4P"
      },
      "outputs": [],
      "source": []
    },
    {
      "cell_type": "code",
      "execution_count": 230,
      "metadata": {
        "id": "N43j0vRL3QsP"
      },
      "outputs": [],
      "source": [
        "### ARGS\n",
        "\n",
        "INDEPENDENT_VAR = \"periodo\"  ### Y\n",
        "DEPENDENT_VAR = \"valores\"  ### X\n",
        "DATE_NAME = \"date\"\n",
        "VARIABLE_COLUMN_NAME = \"variavel\"\n",
        "LOCAL_OUTPUT_PATH = \"D:\\\\CodeStuff\\\\Stats\\\\colab_linear_regression\\\\linear_regression\\\\output\\\\output.xlsx\"\n",
        "\n",
        "\n",
        "MAIN_SERIE = '_Grand Total'\n",
        "CONTROL_SERIE = '__Atendimentos na APS (exceto saúde mental)'\n",
        "\n",
        "MOVING_WINDOW = 12\n",
        "PLOT_MEDIA_MOVEL = False\n",
        "\n",
        "######### DUMMIES ##########\n",
        "\n",
        "MEDIA_MOVEL_AS_FEATURE = False\n",
        "MEDIA_MOVEL_AS_DEPENDENT = False\n",
        "INCLUDE_MONTH_DUMMIES = True\n",
        "INCLUDE_QUARTER_DUMMIES = False\n",
        "\n",
        "PRE_START_DATE = \"2016-01-01\"  ### data inicial para o modelo, se for menor que a data do dataframe, o modelo vai dar erro\n",
        "\n",
        "### as quedas do primeiro lockdown nao são tão claras e a recuperação e queda parecem ser mais graduais\n",
        "CHOQUE_INICIAL_START_DATE= \"2020-03-01\"\n",
        "CHOQUE_INICIAL_END_DATE = \"2020-07-01\"#\"2020-08-01\" #month based\n",
        "\n",
        "### abril e maio tiveram quedas bem identificaveis nos atendimentos em todas variavieis\n",
        "SECONDLOCKDOWN_START_DATE = \"2021-04-01\"\n",
        "SECONDLOCKDOWN_END_DATE = '2021-05-01' #month based  #'2021-04-01'#quarter_based #\n",
        "\n",
        "PANDEMIA_START_DATE = \"2020-03-01\"\n",
        "PANDEMIA_END_DATE = \"2021-02-01\" \n",
        "\n",
        "\n",
        "\n",
        "\n",
        "PANDEMIA2_START_DATE = \"2021-03-01\"\n",
        "PANDEMIA2_END_DATE = \"2022-03-01\" \n",
        "\n",
        "POS_PANDEMIA_START_DATE = \"2022-04-01\"\n",
        "END_DATE = \"2024-12-01\"#\"2024-12-01\"  ### data final para o modelo, se for maior que a data do dataframe, o modelo vai dar erro\n",
        "\n",
        "\n",
        "\n",
        "\n",
        "OMNICRON_START_DATE = \"2022-01-01\"\n",
        "OMNICRON_END_DATE = \"2022-02-01\"  ### data final para o modelo, se for maior que a data do dataframe, o modelo vai dar erro\n",
        "\n",
        "'''\n",
        "DUMMY_ARGS =        {\n",
        "        'Choque_Inicial': {\"start_date\": CHOQUE_INICIAL_START_DATE, \"end_date\": CHOQUE_INICIAL_END_DATE},\n",
        "        'Lockdown_2021': {\"start_date\": SECONDLOCKDOWN_START_DATE, \"end_date\": SECONDLOCKDOWN_END_DATE},\n",
        "        #'Enchentes_2024': {\"start_date\": \"2024-05-01\", \"end_date\": \"2024-05-01\"},\n",
        "        'Step_PosPandemia': {\"start_date\": POS_PANDEMIA_START_DATE, \"end_date\": END_DATE,'exclude_ranges': POS_PANDEMIA_EXCLUDE_RANGES, 'plot':False, 'step': True,},\n",
        "        'Trend_PosPandemia' : {\"start_date\": POS_PANDEMIA_START_DATE, \"end_date\": END_DATE,'exclude_ranges': POS_PANDEMIA_EXCLUDE_RANGES, 'plot': True, 'add_time_trend': True, 'keep_period_index': False, 'step': False},\n",
        "        }\n",
        "'''\n",
        "\n",
        "POS_PANDEMIA_EXCLUDE_RANGES = [\n",
        "    #(CHOQUE_INICIAL_START_DATE, CHOQUE_INICIAL_END_DATE),\n",
        "    #(SECONDLOCKDOWN_START_DATE, SECONDLOCKDOWN_END_DATE),\n",
        "    #(\"2024-05-01\", \"2024-05-01\"),\n",
        "                               ]\n",
        "\n",
        "PANDEMIA_EXCLUDE_RANGES = [\n",
        "    #(CHOQUE_INICIAL_START_DATE, CHOQUE_INICIAL_END_DATE),\n",
        "    #(SECONDLOCKDOWN_START_DATE, SECONDLOCKDOWN_END_DATE),\n",
        "    #(OMNICRON_START_DATE, OMNICRON_END_DATE),\n",
        "]\n",
        "\n",
        "TESTE_REMOVE_OUTLIER_START = \"2019-10-01\"\n",
        "TESTE_REMOVE_OUTLIER_END = \"2019-12-01\"  ### data final para o modelo, se for maior que a data do dataframe, o modelo vai dar erro\n",
        "PREPANDEMIA_EXCLUDE_RANGES = [\n",
        "    #(TESTE_REMOVE_OUTLIER_START, TESTE_REMOVE_OUTLIER_END),\n",
        "]\n",
        "\n",
        "TREND_KEEP_PERIOD_INDEX = True  ### se True, o modelo vai manter o index do periodo, se False, o modelo vai usar o index do dataframe original (sem os dummies)\n",
        "\n",
        "DUMMY_ARGS =        {\n",
        "        \n",
        "        \n",
        "        #'PrePandemia_Step': {\"start_date\": PRE_START_DATE, \"end_date\": PANDEMIA_START_DATE, 'exclude_ranges': PANDEMIA_EXCLUDE_RANGES,},\n",
        "        #'PrePandemia_Trend' : {\"start_date\": PRE_START_DATE, \"end_date\": PANDEMIA_START_DATE,'exclude_ranges': PREPANDEMIA_EXCLUDE_RANGES, 'add_time_trend': True, 'keep_period_index': False},\n",
        "        \n",
        "        'Pandemia_Step': {\"start_date\": PANDEMIA_START_DATE, \"end_date\": PANDEMIA_END_DATE, 'exclude_ranges': PANDEMIA_EXCLUDE_RANGES,},\n",
        "        'Pandemia_Trend' : {\"start_date\": PANDEMIA_START_DATE, \"end_date\": PANDEMIA_END_DATE,'exclude_ranges': PANDEMIA_EXCLUDE_RANGES, 'add_time_trend': True, 'keep_period_index': TREND_KEEP_PERIOD_INDEX},\n",
        "        \n",
        "        'Pandemia2_Step': {\"start_date\": PANDEMIA2_START_DATE, \"end_date\": PANDEMIA2_END_DATE, 'exclude_ranges': PANDEMIA_EXCLUDE_RANGES,},\n",
        "        'Pandemia2_Trend' : {\"start_date\": PANDEMIA2_START_DATE, \"end_date\": PANDEMIA2_END_DATE,'exclude_ranges': PANDEMIA_EXCLUDE_RANGES, 'add_time_trend': True, 'keep_period_index': TREND_KEEP_PERIOD_INDEX},\n",
        "\n",
        "        'PosPandemia_Step': {\"start_date\": POS_PANDEMIA_START_DATE, \"end_date\": END_DATE,'exclude_ranges': POS_PANDEMIA_EXCLUDE_RANGES, 'plot':False, 'step': True,},\n",
        "        'PosPandemia_Trend' : {\"start_date\": POS_PANDEMIA_START_DATE, \"end_date\": END_DATE,'exclude_ranges': POS_PANDEMIA_EXCLUDE_RANGES, 'plot': True, 'add_time_trend': True, 'keep_period_index': TREND_KEEP_PERIOD_INDEX, 'step': False},\n",
        "        \n",
        "        ### Pulse Outliers\n",
        "        #'teste_remove_outlier': {\"start_date\": TESTE_REMOVE_OUTLIER_START, \"end_date\": TESTE_REMOVE_OUTLIER_END,},\n",
        "        #'Lockdown_2020_Step': {\"start_date\": CHOQUE_INICIAL_START_DATE, \"end_date\": CHOQUE_INICIAL_END_DATE},\n",
        "        #'Lockdown_2021_Step': {\"start_date\": SECONDLOCKDOWN_START_DATE, \"end_date\": SECONDLOCKDOWN_END_DATE},\n",
        "        #'Omnicron_2022': {\"start_date\": OMNICRON_START_DATE, \"end_date\": OMNICRON_END_DATE},\n",
        "        #'Enchentes_2024': {\"start_date\": \"2024-05-01\", \"end_date\": \"2024-05-01\"},\n",
        "        }\n",
        "\n",
        "\n",
        "\n",
        "##############################\n",
        "\n",
        "\n",
        "PREPROCESSOR_ARGS = {\n",
        "    'DateRange': [2016, 2024],\n",
        "    'FrequencyDateGroup' : 'M',\n",
        "    'DummyArgs' : DUMMY_ARGS,\n",
        "}\n",
        "\n",
        "\n",
        "\n",
        "###### PROCESSING ######\n",
        "def build_model_formula(dependant_var, independant_var= False, dummy_names=[]):\n",
        "    base_model_formula =  dependant_var + \" ~ \" \n",
        "    if independant_var:\n",
        "        base_model_formula += independant_var  + ' +'\n",
        "\n",
        "\n",
        "\n",
        "\n",
        "    model_formula = base_model_formula\n",
        "    if dummy_names:\n",
        "        for i, dummy in enumerate(dummy_names):\n",
        "            model_formula += dummy\n",
        "            if i != len(dummy_names) - 1:  # Check if it's not the last element\n",
        "                model_formula += \" + \"\n",
        "\n",
        "    return model_formula, base_model_formula\n",
        "\n",
        "def build_dummy_names(dummies_args, include_month_dummies, include_quarter_dummies):\n",
        "    dummy_names = []\n",
        "    for dummy_name in dummies_args.keys():\n",
        "        dummy_names.append(dummy_name)\n",
        "\n",
        "\n",
        "    if include_month_dummies:\n",
        "        for i in range(1, 12):\n",
        "            dummy_names.append(\"month_\" + str(i+1))\n",
        "\n",
        "\n",
        "    if include_quarter_dummies:\n",
        "        for i in range(1, 4):\n",
        "            dummy_names.append(\"quarter_\" + str(i+1))\n",
        "\n",
        "\n",
        "    return dummy_names\n",
        "\n",
        "\n",
        "MODEL_FORMULA, BASE_MODEL_FORMULA = build_model_formula(DEPENDENT_VAR,\n",
        "                                                        INDEPENDENT_VAR,\n",
        "                                                        dummy_names = build_dummy_names(DUMMY_ARGS, INCLUDE_MONTH_DUMMIES, INCLUDE_QUARTER_DUMMIES),\n",
        "                                                        )\n",
        "\n",
        "\n",
        "\n",
        "\n",
        "\n",
        "\n",
        "PROCESSOR_ARGS = {\n",
        "    \"formula\": MODEL_FORMULA,#\"valores ~ periodo\",  # Example formula\n",
        "    \"model\":  smf.glsar,#smf.ols,# # Use OLS as the regression model for testing\n",
        "    \"find_best_rho\": True,#True,  # Disable best rho search for simplicity\n",
        "    \"rho\": None,\n",
        "    \"cov_type\": \"HAC\",  # Use nonrobust covariance for testing\n",
        "    \"cov_kwargs\": {'maxlags': 4},  # No additional covariance arguments\n",
        "    \"iterative_fit\": True,  # Enable iterative fitting if needed\n",
        "    \"max_iterations\": 10,  # Set maximum iterations for iterative fitting\n",
        "    \"find_best_rho_args\": {\n",
        "        \"start\": -1.00,\n",
        "        \"stop\": 1.01,\n",
        "        \"step\": 0.01,\n",
        "        \"criterio\": \"aic\"\n",
        "    },\n",
        "}\n",
        "\n",
        "\n",
        "SARIMAX_PROCESSOR_ARGS = {\n",
        "\t\"order\": (1, 1, 1),  # ARIMA(p, d, q)\n",
        "\t\"seasonal_order\": (0, 0, 0, 0), \n",
        "    'dummy_args' : DUMMY_ARGS,\n",
        "}\n"
      ]
    },
    {
      "cell_type": "code",
      "execution_count": 231,
      "metadata": {},
      "outputs": [
        {
          "data": {
            "text/plain": [
              "('valores ~ periodo +Pandemia_Step + Pandemia_Trend + Pandemia2_Step + Pandemia2_Trend + PosPandemia_Step + PosPandemia_Trend + month_2 + month_3 + month_4 + month_5 + month_6 + month_7 + month_8 + month_9 + month_10 + month_11 + month_12',\n",
              " 'valores ~ periodo +')"
            ]
          },
          "execution_count": 231,
          "metadata": {},
          "output_type": "execute_result"
        }
      ],
      "source": [
        "MODEL_FORMULA, BASE_MODEL_FORMULA"
      ]
    },
    {
      "cell_type": "markdown",
      "metadata": {
        "id": "3lst0tSSyWi0"
      },
      "source": [
        "# Define Preprocessors\n"
      ]
    },
    {
      "cell_type": "code",
      "execution_count": 232,
      "metadata": {
        "id": "FAqiSa3R-k3r"
      },
      "outputs": [],
      "source": [
        "def BuildDataDF(data):\n",
        "    string_dates = data[0][1:]  # Store original string dates\n",
        "\n",
        "    # Converter as strings de datas em objetos datetime\n",
        "    #date_list = [datetime.strptime(date, \"%d/%m/%Y\") for date in string_dates]\n",
        "    date_list = [\n",
        "    date if isinstance(date, datetime) else datetime.strptime(date, \"%d/%m/%Y\")\n",
        "    for date in string_dates\n",
        "    ]\n",
        "\n",
        "    # Extrair os nomes das variáveis\n",
        "    variavel = [row[0] for row in data[1:]]\n",
        "\n",
        "    # Extrair os dados (sem agrupamento)\n",
        "    dados = [row[1:] for row in data[1:]]\n",
        "    dados = np.array(dados, dtype=float)  # Converter para tipo object para evitar warning\n",
        "\n",
        "    # Criar o DataFrame with DatetimeIndex\n",
        "    df = pd.DataFrame(data=dados, index=variavel, columns=pd.DatetimeIndex(date_list))\n",
        "\n",
        "    return df\n",
        "\n",
        "class DateFilterTransformer(BaseEstimator, TransformerMixin):\n",
        "    def __init__(\n",
        "        self, periodos_inclusivos=None, periodos_exclusivos=None, date_col=DATE_NAME\n",
        "    ):\n",
        "        self.periodos_inclusivos = periodos_inclusivos\n",
        "        self.periodos_exclusivos = periodos_exclusivos\n",
        "        self.date_col = date_col\n",
        "\n",
        "    def get_date_range(self, Y1, Y2=None, M1=None, M2=None, D1=None, D2=None):\n",
        "        Y2 = Y2 or Y1\n",
        "        M1 = M1 or 1\n",
        "        M2 = M2 or 12\n",
        "        D1 = D1 or 1\n",
        "        D2 = D2 or 31\n",
        "        start_date = datetime(Y1, M1, D1)\n",
        "        end_date = datetime(Y2, M2, D2)\n",
        "        return pd.date_range(start=start_date, end=end_date, freq=\"D\")\n",
        "\n",
        "    def fit(self, X, y=None):\n",
        "        return self\n",
        "\n",
        "    def transform(self, X):\n",
        "        X = X.copy()\n",
        "\n",
        "        # Convert date column if it's not datetime yet\n",
        "        if not pd.api.types.is_datetime64_any_dtype(X[self.date_col]):\n",
        "            X[self.date_col] = pd.to_datetime(X[self.date_col], errors=\"coerce\")\n",
        "\n",
        "        if self.periodos_inclusivos:\n",
        "            valid_dates = self.get_date_range(*self.periodos_inclusivos)\n",
        "            return X[X[self.date_col].isin(valid_dates)].reset_index(drop=True)\n",
        "\n",
        "        elif self.periodos_exclusivos:\n",
        "            invalid_dates = self.get_date_range(*self.periodos_exclusivos)\n",
        "            return X[~X[self.date_col].isin(invalid_dates)].reset_index(drop=True)\n",
        "\n",
        "        return X\n",
        "\n",
        "class MeltTransformer(BaseEstimator, TransformerMixin):\n",
        "    def __init__(\n",
        "        self,\n",
        "        var_name=VARIABLE_COLUMN_NAME,\n",
        "        value_name=DEPENDENT_VAR,\n",
        "        date_name=DATE_NAME,\n",
        "        y_name=INDEPENDENT_VAR,\n",
        "    ):\n",
        "        self.var_name = var_name\n",
        "        self.value_name = value_name\n",
        "        self.date_name = date_name\n",
        "        self.y_name = y_name\n",
        "\n",
        "    def fit(self, X, y=None):\n",
        "        # Nothing to learn, so just return self\n",
        "        return self\n",
        "\n",
        "    def transform(self, X):\n",
        "        # Transpose and reset index\n",
        "        df_long = X.T.reset_index()\n",
        "\n",
        "        # Rename index to date_name\n",
        "        df_long = df_long.rename(columns={\"index\": self.date_name})\n",
        "\n",
        "        # Melt the DataFrame\n",
        "        df_long = pd.melt(\n",
        "            df_long,\n",
        "            id_vars=[self.date_name],\n",
        "            var_name=self.var_name,\n",
        "            value_name=self.value_name,\n",
        "        )\n",
        "\n",
        "        # Sort by category and date\n",
        "        df_final = df_long.sort_values([self.var_name, self.date_name]).reset_index(\n",
        "            drop=True\n",
        "        )\n",
        "\n",
        "        return df_final\n",
        "\n",
        "class PeriodIndexAdder(BaseEstimator, TransformerMixin):\n",
        "    def __init__(self, group_col=VARIABLE_COLUMN_NAME, new_col=INDEPENDENT_VAR):\n",
        "        self.group_col = group_col\n",
        "        self.new_col = new_col\n",
        "        self.period_date_mapping = {}  # Dictionary to store period-date equivalences\n",
        "\n",
        "    def fit(self, X, y=None):\n",
        "        return self\n",
        "\n",
        "    def transform(self, X):\n",
        "        X = X.copy()\n",
        "        X[self.new_col] = X.groupby(self.group_col).cumcount() + 1\n",
        "\n",
        "        #Store the mapping of periods to dates\n",
        "        self.period_date_mapping = dict(zip(X[DATE_NAME], X[self.new_col]))\n",
        "        #for group, group_data in X.groupby(self.group_col):\n",
        "        #    self.period_date_mapping[group] = dict(zip(group_data[DATE_NAME], group_data[self.new_col]))\n",
        "\n",
        "        return X\n",
        "\n",
        "class DataFrameSorter(BaseEstimator, TransformerMixin):\n",
        "    \"\"\"\n",
        "    Sorts a DataFrame by a specified column.\n",
        "\n",
        "    Parameters:\n",
        "    -----------\n",
        "    sort_by : str\n",
        "        Name of the column to sort by.\n",
        "    ascending : bool, default=True\n",
        "        Whether to sort in ascending order.\n",
        "    \"\"\"\n",
        "\n",
        "    def __init__(self, sort_by, ascending=True):\n",
        "        self.sort_by = sort_by\n",
        "        self.ascending = ascending\n",
        "\n",
        "    def fit(self, X, y=None):\n",
        "        return self\n",
        "\n",
        "    def transform(self, X):\n",
        "        X = X.copy()\n",
        "        if self.sort_by not in X.columns:\n",
        "            raise ValueError(f\"Column '{self.sort_by}' not found in DataFrame.\")\n",
        "        return X.sort_values(by=self.sort_by, ascending=self.ascending).reset_index(drop=True)\n",
        "\n",
        "class MonthlyDummyAdder(BaseEstimator, TransformerMixin):\n",
        "    \"\"\"\n",
        "    Adds dummy variables for each month to control for seasonality, leaving December as the baseline.\n",
        "\n",
        "    Parameters:\n",
        "    -----------\n",
        "    date_column : str\n",
        "        Name of the column containing dates (must be datetime).\n",
        "    \"\"\"\n",
        "\n",
        "    def __init__(self, date_column=DATE_NAME):\n",
        "        self.date_column = date_column\n",
        "\n",
        "    def fit(self, X, y=None):\n",
        "        return self\n",
        "\n",
        "    def transform(self, X):\n",
        "        X = X.copy()\n",
        "        X[self.date_column] = pd.to_datetime(X[self.date_column])  # Ensure dates are in datetime format\n",
        "\n",
        "        # Extract month from the date column\n",
        "        X['month'] = X[self.date_column].dt.month\n",
        "\n",
        "        # Create dummy variables for each month, excluding December as the baseline\n",
        "        month_dummies = pd.get_dummies(X['month'], prefix=\"month\", drop_first=True).astype(int)\n",
        "\n",
        "\n",
        "\n",
        "        # Concatenate the dummy variables with the original DataFrame\n",
        "        X = pd.concat([X, month_dummies], axis=1)\n",
        "\n",
        "        # Drop the temporary 'month' column\n",
        "        X.drop(columns=['month'], inplace=True)\n",
        "\n",
        "        return X\n",
        "\n",
        "class QuarterlyDummyAdder(BaseEstimator, TransformerMixin):\n",
        "    \"\"\"\n",
        "    Adds dummy variables for each quarter to control for seasonality, leaving Q4 as the baseline.\n",
        "\n",
        "    Parameters:\n",
        "    -----------\n",
        "    date_column : str\n",
        "        Name of the column containing dates (must be datetime).\n",
        "    \"\"\"\n",
        "\n",
        "    def __init__(self, date_column=DATE_NAME):\n",
        "        self.date_column = date_column\n",
        "\n",
        "    def fit(self, X, y=None):\n",
        "        return self\n",
        "\n",
        "    def transform(self, X):\n",
        "        X = X.copy()\n",
        "        X[self.date_column] = pd.to_datetime(X[self.date_column])  # Ensure dates are in datetime format\n",
        "\n",
        "        # Extract quarter from the date column\n",
        "        X['quarter'] = X[self.date_column].dt.quarter\n",
        "\n",
        "        # Create dummy variables for each quarter, excluding Q4 as the baseline\n",
        "        quarter_dummies = pd.get_dummies(X['quarter'], prefix=\"quarter\", drop_first=True).astype(int)\n",
        "\n",
        "        # Concatenate the dummy variables with the original DataFrame\n",
        "        X = pd.concat([X, quarter_dummies], axis=1)\n",
        "\n",
        "        # Drop the temporary 'quarter' column\n",
        "        X.drop(columns=['quarter'], inplace=True)\n",
        "\n",
        "        return X\n",
        "\n",
        "class MultiDummyAdder(BaseEstimator, TransformerMixin):\n",
        "    \"\"\"\n",
        "    Adds multiple dummy variables based on date ranges or custom conditions.\n",
        "    Allows each dummy to be binary or a local time trend via its own config.\n",
        "\n",
        "    Parameters:\n",
        "    -----------\n",
        "    dummy_config : dict\n",
        "        Dictionary defining dummy variables. Example:\n",
        "        {\n",
        "            'Pandemia': {\n",
        "                'start_date': '2020-01-01',\n",
        "                'end_date': '2020-12-31',\n",
        "                'add_time_trend': True,\n",
        "                'exclude_ranges': [\n",
        "                    ('2020-04-01', '2020-05-01'),\n",
        "                    ('2020-07-01', '2020-08-01')\n",
        "                ]  # Optional\n",
        "            }\n",
        "        }\n",
        "    date_column : str\n",
        "        Name of the column containing dates (must be datetime).\n",
        "    \"\"\"\n",
        "\n",
        "    def __init__(self, dummy_config, date_column=DATE_NAME):\n",
        "        self.dummy_config = dummy_config\n",
        "        self.date_column = date_column\n",
        "\n",
        "    def fit(self, X, y=None):\n",
        "        return self\n",
        "\n",
        "    def transform(self, X):\n",
        "        X = X.copy()\n",
        "        X[self.date_column] = pd.to_datetime(X[self.date_column])\n",
        "        X = X.sort_values(self.date_column).reset_index(drop=True)\n",
        "\n",
        "        for dummy_name, config in self.dummy_config.items():\n",
        "            start_date = pd.to_datetime(config.get(\"start_date\"))\n",
        "            end_date = pd.to_datetime(config.get(\"end_date\"))\n",
        "            use_trend = config.get(\"add_time_trend\", False)\n",
        "            keep_index = config.get(\"keep_period_index\", False)\n",
        "            exclude_ranges = config.get(\"exclude_ranges\", [])  # List of ranges to exclude\n",
        "\n",
        "            if not start_date:\n",
        "                raise ValueError(f\"Missing 'start_date' for dummy '{dummy_name}'.\")\n",
        "\n",
        "            # Create the initial mask for the date range\n",
        "            if end_date is not None:\n",
        "                mask = (X[self.date_column] >= start_date) & (X[self.date_column] <= end_date)\n",
        "            else:\n",
        "                mask = X[self.date_column] >= start_date\n",
        "\n",
        "            # Exclude multiple ranges within the period\n",
        "            for excl_start, excl_end in exclude_ranges:\n",
        "                excl_start = pd.to_datetime(excl_start)\n",
        "                excl_end = pd.to_datetime(excl_end)\n",
        "                mask &= ~((X[self.date_column] >= excl_start) & (X[self.date_column] <= excl_end))\n",
        "\n",
        "            # Apply trend or binary dummy logic\n",
        "            if use_trend:\n",
        "                if keep_index:\n",
        "                    # Global period multiplied by the dummy\n",
        "                    X[dummy_name] = 0\n",
        "                    X.loc[mask, dummy_name] = X.loc[mask, INDEPENDENT_VAR]\n",
        "                else:\n",
        "                    start_periodo = X.loc[mask, INDEPENDENT_VAR].min()\n",
        "                    X[dummy_name] = 0\n",
        "                    X.loc[mask, dummy_name] = (X.loc[mask, INDEPENDENT_VAR] - start_periodo + 1).clip(lower=0)\n",
        "            else:\n",
        "                X[dummy_name] = mask.astype(int)\n",
        "\n",
        "        return X\n",
        "\n",
        "class FrequencyGroupingTransformer(BaseEstimator, TransformerMixin):\n",
        "    \"\"\"\n",
        "    ## only datetime supported groupings\n",
        "    Transformer for grouping data by standard datetime frequencies.\n",
        "\n",
        "    This transformer takes a DataFrame with datetime columns and groups\n",
        "    the data by a specified frequency (e.g., 'Q' for quarterly, 'M' for monthly).\n",
        "\n",
        "    ARGS:\n",
        "        frequency (str): The frequency to group by. Defaults to 'Q' (quarterly).\n",
        "                        Supported frequencies are those accepted by pd.Grouper (e.g., 'Q', 'M', 'Y').\n",
        "    \"\"\"\n",
        "\n",
        "    def __init__(self, frequency=\"Q\"):  # Default to quarterly grouping\n",
        "        self.frequency = frequency\n",
        "\n",
        "    def fit(self, X, y=None):\n",
        "        \"\"\"\n",
        "        This transformer does not require fitting.\n",
        "\n",
        "        ARGS:\n",
        "            X (pd.DataFrame): The input DataFrame.\n",
        "            y (Any, optional): Ignored. Defaults to None.\n",
        "\n",
        "        Returns:\n",
        "            self: Returns the transformer instance.\n",
        "        \"\"\"\n",
        "        return self\n",
        "\n",
        "    def transform(self, X):\n",
        "        \"\"\"\n",
        "        Groups the data by the specified frequency and sums the values.\n",
        "\n",
        "        ARGS:\n",
        "            X (pd.DataFrame): The input DataFrame with datetime columns.\n",
        "\n",
        "        Returns:\n",
        "            pd.DataFrame: The grouped DataFrame with summed values.\n",
        "                          Columns are datetime objects representing the end of each group.\n",
        "        \"\"\"\n",
        "        if self.frequency == None or self.frequency == 'M':\n",
        "            return X\n",
        "        if not isinstance(X, pd.DataFrame):\n",
        "            raise TypeError(\"Input must be a pandas DataFrame.\")\n",
        "\n",
        "\n",
        "\n",
        "        # Convert columns to datetime if they are not already\n",
        "        if not isinstance(X.columns[0], pd.Timestamp):\n",
        "            X.columns = pd.to_datetime(X.columns, errors=\"coerce\")\n",
        "\n",
        "        # Group by the specified frequency using pd.Grouper\n",
        "        grouped_df = X.T.groupby(pd.Grouper(freq=self.frequency)).sum().T\n",
        "\n",
        "        return grouped_df\n",
        "\n",
        "\n",
        "\n",
        "\n",
        "\n"
      ]
    },
    {
      "cell_type": "code",
      "execution_count": 233,
      "metadata": {
        "id": "4RNhsa5ENIXa"
      },
      "outputs": [],
      "source": [
        "\n",
        "class MovingAverageTransformer(BaseEstimator, TransformerMixin):\n",
        "  def __init__(self, group_col = VARIABLE_COLUMN_NAME, date_col = DATE_NAME, value_col = DEPENDENT_VAR, window=3, prefix='ma', center=False):\n",
        "    \"\"\"\n",
        "    window: tamanho da janela\n",
        "    prefix: prefixo para o nome da nova coluna\n",
        "    center: se True, a janela será centralizada\n",
        "    \"\"\"\n",
        "    self.window = window\n",
        "    self.prefix = prefix\n",
        "    self.center = center\n",
        "    self.value_col = value_col\n",
        "    self.group_col = group_col\n",
        "    self.date_col = date_col\n",
        "  def fit(self, X, y=None):\n",
        "    return self\n",
        "  def transform(self, X):\n",
        "    X = X.copy()\n",
        "\n",
        "    def rolling_mean_by_group(group):\n",
        "      group = group.sort_values(by=self.date_col)  # Sort by date within group\n",
        "      new_col = f\"{self.prefix}_{self.window}_{self.value_col}\"\n",
        "      group[new_col] = group[self.value_col].rolling(window=self.window, center=self.center, min_periods=1).mean()\n",
        "      return group\n",
        "    \n",
        "    X = X.groupby(self.group_col).apply(rolling_mean_by_group)\n",
        "\n",
        "    return X"
      ]
    },
    {
      "cell_type": "code",
      "execution_count": 234,
      "metadata": {},
      "outputs": [],
      "source": [
        "class MovingAverageTransformer(BaseEstimator, TransformerMixin):\n",
        "    def __init__(self, group_col=VARIABLE_COLUMN_NAME, date_col=DATE_NAME, value_col=DEPENDENT_VAR, window=3, prefix='ma', center=False):\n",
        "        \"\"\"\n",
        "        window: tamanho da janela\n",
        "        prefix: prefixo para o nome da nova coluna\n",
        "        center: se True, a janela será centralizada\n",
        "        \"\"\"\n",
        "        self.window = window\n",
        "        self.prefix = prefix\n",
        "        self.center = center\n",
        "        self.value_col = value_col\n",
        "        self.group_col = group_col\n",
        "        self.date_col = date_col\n",
        "\n",
        "    def fit(self, X, y=None):\n",
        "        return self\n",
        "\n",
        "    def transform(self, X):\n",
        "        X = X.copy()\n",
        "\n",
        "        def rolling_mean_by_group(group):\n",
        "            group = group.sort_values(by=self.date_col)  # Sort by date within group\n",
        "            new_col = f\"{self.prefix}_{self.window}_{self.value_col}\"\n",
        "            group[new_col] = group[self.value_col].rolling(window=self.window, center=self.center, min_periods=1).mean()\n",
        "            return group\n",
        "\n",
        "        # Apply the rolling mean and reset the index to preserve the original structure\n",
        "        X = X.groupby(self.group_col, group_keys=False).apply(rolling_mean_by_group)\n",
        "\n",
        "        return X"
      ]
    },
    {
      "cell_type": "markdown",
      "metadata": {
        "id": "YiUiAyVdNIXb"
      },
      "source": [
        "# EXEC --- Instantiate Pipe and get RegressionDF"
      ]
    },
    {
      "cell_type": "code",
      "execution_count": 235,
      "metadata": {
        "colab": {
          "base_uri": "https://localhost:8080/",
          "height": 1000
        },
        "id": "tpmKA11jNIXb",
        "outputId": "6b948497-1205-4055-c42b-0427affcff4e"
      },
      "outputs": [
        {
          "name": "stderr",
          "output_type": "stream",
          "text": [
            "C:\\Users\\Lucas\\AppData\\Local\\Temp\\ipykernel_10840\\2008575047.py:28: DeprecationWarning:\n",
            "\n",
            "DataFrameGroupBy.apply operated on the grouping columns. This behavior is deprecated, and in a future version of pandas the grouping columns will be excluded from the operation. Either pass `include_groups=False` to exclude the groupings or explicitly select the grouping columns after groupby to silence this warning.\n",
            "\n"
          ]
        },
        {
          "data": {
            "application/vnd.microsoft.datawrangler.viewer.v0+json": {
              "columns": [
                {
                  "name": "index",
                  "rawType": "int64",
                  "type": "integer"
                },
                {
                  "name": "date",
                  "rawType": "datetime64[ns]",
                  "type": "datetime"
                },
                {
                  "name": "variavel",
                  "rawType": "object",
                  "type": "string"
                },
                {
                  "name": "valores",
                  "rawType": "float64",
                  "type": "float"
                },
                {
                  "name": "periodo",
                  "rawType": "int64",
                  "type": "integer"
                },
                {
                  "name": "Pandemia_Step",
                  "rawType": "int64",
                  "type": "integer"
                },
                {
                  "name": "Pandemia_Trend",
                  "rawType": "int64",
                  "type": "integer"
                },
                {
                  "name": "Pandemia2_Step",
                  "rawType": "int64",
                  "type": "integer"
                },
                {
                  "name": "Pandemia2_Trend",
                  "rawType": "int64",
                  "type": "integer"
                },
                {
                  "name": "PosPandemia_Step",
                  "rawType": "int64",
                  "type": "integer"
                },
                {
                  "name": "PosPandemia_Trend",
                  "rawType": "int64",
                  "type": "integer"
                },
                {
                  "name": "month_2",
                  "rawType": "int64",
                  "type": "integer"
                },
                {
                  "name": "month_3",
                  "rawType": "int64",
                  "type": "integer"
                },
                {
                  "name": "month_4",
                  "rawType": "int64",
                  "type": "integer"
                },
                {
                  "name": "month_5",
                  "rawType": "int64",
                  "type": "integer"
                },
                {
                  "name": "month_6",
                  "rawType": "int64",
                  "type": "integer"
                },
                {
                  "name": "month_7",
                  "rawType": "int64",
                  "type": "integer"
                },
                {
                  "name": "month_8",
                  "rawType": "int64",
                  "type": "integer"
                },
                {
                  "name": "month_9",
                  "rawType": "int64",
                  "type": "integer"
                },
                {
                  "name": "month_10",
                  "rawType": "int64",
                  "type": "integer"
                },
                {
                  "name": "month_11",
                  "rawType": "int64",
                  "type": "integer"
                },
                {
                  "name": "month_12",
                  "rawType": "int64",
                  "type": "integer"
                },
                {
                  "name": "quarter_2",
                  "rawType": "int64",
                  "type": "integer"
                },
                {
                  "name": "quarter_3",
                  "rawType": "int64",
                  "type": "integer"
                },
                {
                  "name": "quarter_4",
                  "rawType": "int64",
                  "type": "integer"
                },
                {
                  "name": "ma_12_valores",
                  "rawType": "float64",
                  "type": "float"
                },
                {
                  "name": "isSaudeMental",
                  "rawType": "int64",
                  "type": "integer"
                }
              ],
              "conversionMethod": "pd.DataFrame",
              "ref": "69feba5f-1e4c-49e8-aa84-ada888ed9874",
              "rows": [
                [
                  "0",
                  "2024-12-01 00:00:00",
                  "Grand Total",
                  "32.06729048932365",
                  "108",
                  "0",
                  "0",
                  "0",
                  "0",
                  "1",
                  "108",
                  "0",
                  "0",
                  "0",
                  "0",
                  "0",
                  "0",
                  "0",
                  "0",
                  "0",
                  "0",
                  "1",
                  "0",
                  "0",
                  "1",
                  "32.31225269517754",
                  "0"
                ],
                [
                  "1",
                  "2024-01-01 00:00:00",
                  "Grand Total",
                  "32.233346333158345",
                  "97",
                  "0",
                  "0",
                  "0",
                  "0",
                  "1",
                  "97",
                  "0",
                  "0",
                  "0",
                  "0",
                  "0",
                  "0",
                  "0",
                  "0",
                  "0",
                  "0",
                  "0",
                  "0",
                  "0",
                  "0",
                  "30.776446637539497",
                  "0"
                ],
                [
                  "2",
                  "2022-01-01 00:00:00",
                  "Grand Total",
                  "19.272148218264114",
                  "73",
                  "0",
                  "0",
                  "1",
                  "73",
                  "0",
                  "0",
                  "0",
                  "0",
                  "0",
                  "0",
                  "0",
                  "0",
                  "0",
                  "0",
                  "0",
                  "0",
                  "0",
                  "0",
                  "0",
                  "0",
                  "25.23966352351629",
                  "0"
                ],
                [
                  "3",
                  "2018-02-01 00:00:00",
                  "Grand Total",
                  "17.55021440409405",
                  "26",
                  "0",
                  "0",
                  "0",
                  "0",
                  "0",
                  "0",
                  "1",
                  "0",
                  "0",
                  "0",
                  "0",
                  "0",
                  "0",
                  "0",
                  "0",
                  "0",
                  "0",
                  "0",
                  "0",
                  "0",
                  "16.93705964244163",
                  "0"
                ],
                [
                  "4",
                  "2023-10-01 00:00:00",
                  "Grand Total",
                  "31.58874078898992",
                  "94",
                  "0",
                  "0",
                  "0",
                  "0",
                  "1",
                  "94",
                  "0",
                  "0",
                  "0",
                  "0",
                  "0",
                  "0",
                  "0",
                  "0",
                  "1",
                  "0",
                  "0",
                  "0",
                  "0",
                  "1",
                  "30.363285530493247",
                  "0"
                ],
                [
                  "5",
                  "2021-12-01 00:00:00",
                  "Grand Total",
                  "25.356316252283634",
                  "72",
                  "0",
                  "0",
                  "1",
                  "72",
                  "0",
                  "0",
                  "0",
                  "0",
                  "0",
                  "0",
                  "0",
                  "0",
                  "0",
                  "0",
                  "0",
                  "0",
                  "1",
                  "0",
                  "0",
                  "1",
                  "25.245253990470857",
                  "0"
                ],
                [
                  "6",
                  "2018-03-01 00:00:00",
                  "Grand Total",
                  "16.87111187683952",
                  "27",
                  "0",
                  "0",
                  "0",
                  "0",
                  "0",
                  "0",
                  "0",
                  "1",
                  "0",
                  "0",
                  "0",
                  "0",
                  "0",
                  "0",
                  "0",
                  "0",
                  "0",
                  "0",
                  "0",
                  "0",
                  "17.21236955551538",
                  "0"
                ],
                [
                  "7",
                  "2021-11-01 00:00:00",
                  "Grand Total",
                  "26.27204653293438",
                  "71",
                  "0",
                  "0",
                  "1",
                  "71",
                  "0",
                  "0",
                  "0",
                  "0",
                  "0",
                  "0",
                  "0",
                  "0",
                  "0",
                  "0",
                  "0",
                  "1",
                  "0",
                  "0",
                  "0",
                  "1",
                  "25.112010768774947",
                  "0"
                ],
                [
                  "8",
                  "2021-10-01 00:00:00",
                  "Grand Total",
                  "26.742580559278423",
                  "70",
                  "0",
                  "0",
                  "1",
                  "70",
                  "0",
                  "0",
                  "0",
                  "0",
                  "0",
                  "0",
                  "0",
                  "0",
                  "0",
                  "0",
                  "1",
                  "0",
                  "0",
                  "0",
                  "0",
                  "1",
                  "25.057478022013985",
                  "0"
                ],
                [
                  "9",
                  "2023-11-01 00:00:00",
                  "Grand Total",
                  "31.306379228123475",
                  "95",
                  "0",
                  "0",
                  "0",
                  "0",
                  "1",
                  "95",
                  "0",
                  "0",
                  "0",
                  "0",
                  "0",
                  "0",
                  "0",
                  "0",
                  "0",
                  "1",
                  "0",
                  "0",
                  "0",
                  "1",
                  "30.460149308511358",
                  "0"
                ],
                [
                  "10",
                  "2018-04-01 00:00:00",
                  "Grand Total",
                  "17.079568099894924",
                  "28",
                  "0",
                  "0",
                  "0",
                  "0",
                  "0",
                  "0",
                  "0",
                  "0",
                  "1",
                  "0",
                  "0",
                  "0",
                  "0",
                  "0",
                  "0",
                  "0",
                  "0",
                  "1",
                  "0",
                  "0",
                  "17.431420445523155",
                  "0"
                ],
                [
                  "11",
                  "2023-12-01 00:00:00",
                  "Grand Total",
                  "31.295097118475084",
                  "96",
                  "0",
                  "0",
                  "0",
                  "0",
                  "1",
                  "96",
                  "0",
                  "0",
                  "0",
                  "0",
                  "0",
                  "0",
                  "0",
                  "0",
                  "0",
                  "0",
                  "1",
                  "0",
                  "0",
                  "1",
                  "30.59189426486817",
                  "0"
                ],
                [
                  "12",
                  "2018-05-01 00:00:00",
                  "Grand Total",
                  "16.849241324863495",
                  "29",
                  "0",
                  "0",
                  "0",
                  "0",
                  "0",
                  "0",
                  "0",
                  "0",
                  "0",
                  "1",
                  "0",
                  "0",
                  "0",
                  "0",
                  "0",
                  "0",
                  "0",
                  "1",
                  "0",
                  "0",
                  "17.596375573511306",
                  "0"
                ],
                [
                  "13",
                  "2016-10-01 00:00:00",
                  "Grand Total",
                  "13.405705350250694",
                  "10",
                  "0",
                  "0",
                  "0",
                  "0",
                  "0",
                  "0",
                  "0",
                  "0",
                  "0",
                  "0",
                  "0",
                  "0",
                  "0",
                  "0",
                  "1",
                  "0",
                  "0",
                  "0",
                  "0",
                  "1",
                  "13.085399667993533",
                  "0"
                ],
                [
                  "14",
                  "2021-09-01 00:00:00",
                  "Grand Total",
                  "27.562781466718555",
                  "69",
                  "0",
                  "0",
                  "1",
                  "69",
                  "0",
                  "0",
                  "0",
                  "0",
                  "0",
                  "0",
                  "0",
                  "0",
                  "0",
                  "1",
                  "0",
                  "0",
                  "0",
                  "0",
                  "1",
                  "0",
                  "24.82685100906262",
                  "0"
                ],
                [
                  "15",
                  "2021-08-01 00:00:00",
                  "Grand Total",
                  "26.545137963892543",
                  "68",
                  "0",
                  "0",
                  "1",
                  "68",
                  "0",
                  "0",
                  "0",
                  "0",
                  "0",
                  "0",
                  "0",
                  "0",
                  "1",
                  "0",
                  "0",
                  "0",
                  "0",
                  "0",
                  "1",
                  "0",
                  "24.82070637972683",
                  "0"
                ],
                [
                  "16",
                  "2018-06-01 00:00:00",
                  "Grand Total",
                  "18.185498943737976",
                  "30",
                  "0",
                  "0",
                  "0",
                  "0",
                  "0",
                  "0",
                  "0",
                  "0",
                  "0",
                  "0",
                  "1",
                  "0",
                  "0",
                  "0",
                  "0",
                  "0",
                  "0",
                  "1",
                  "0",
                  "0",
                  "17.771786295063364",
                  "0"
                ],
                [
                  "17",
                  "2023-09-01 00:00:00",
                  "Grand Total",
                  "32.32330351676946",
                  "93",
                  "0",
                  "0",
                  "0",
                  "0",
                  "1",
                  "93",
                  "0",
                  "0",
                  "0",
                  "0",
                  "0",
                  "0",
                  "0",
                  "1",
                  "0",
                  "0",
                  "0",
                  "0",
                  "1",
                  "0",
                  "30.35965561608131",
                  "0"
                ],
                [
                  "18",
                  "2016-09-01 00:00:00",
                  "Grand Total",
                  "12.91299528305369",
                  "9",
                  "0",
                  "0",
                  "0",
                  "0",
                  "0",
                  "0",
                  "0",
                  "0",
                  "0",
                  "0",
                  "0",
                  "0",
                  "0",
                  "1",
                  "0",
                  "0",
                  "0",
                  "0",
                  "1",
                  "0",
                  "12.903374863751727",
                  "0"
                ],
                [
                  "19",
                  "2021-07-01 00:00:00",
                  "Grand Total",
                  "25.400401130010685",
                  "67",
                  "0",
                  "0",
                  "1",
                  "67",
                  "0",
                  "0",
                  "0",
                  "0",
                  "0",
                  "0",
                  "0",
                  "1",
                  "0",
                  "0",
                  "0",
                  "0",
                  "0",
                  "0",
                  "1",
                  "0",
                  "25.250816287363776",
                  "0"
                ],
                [
                  "20",
                  "2021-06-01 00:00:00",
                  "Grand Total",
                  "24.007072687577196",
                  "66",
                  "0",
                  "0",
                  "1",
                  "66",
                  "0",
                  "0",
                  "0",
                  "0",
                  "0",
                  "0",
                  "1",
                  "0",
                  "0",
                  "0",
                  "0",
                  "0",
                  "0",
                  "1",
                  "0",
                  "0",
                  "25.253755011064197",
                  "0"
                ],
                [
                  "21",
                  "2023-02-01 00:00:00",
                  "Grand Total",
                  "29.949854981909972",
                  "86",
                  "0",
                  "0",
                  "0",
                  "0",
                  "1",
                  "86",
                  "1",
                  "0",
                  "0",
                  "0",
                  "0",
                  "0",
                  "0",
                  "0",
                  "0",
                  "0",
                  "0",
                  "0",
                  "0",
                  "0",
                  "28.265959198438537",
                  "0"
                ],
                [
                  "22",
                  "2018-07-01 00:00:00",
                  "Grand Total",
                  "17.781336510017898",
                  "31",
                  "0",
                  "0",
                  "0",
                  "0",
                  "0",
                  "0",
                  "0",
                  "0",
                  "0",
                  "0",
                  "0",
                  "1",
                  "0",
                  "0",
                  "0",
                  "0",
                  "0",
                  "0",
                  "1",
                  "0",
                  "17.86740883917641",
                  "0"
                ],
                [
                  "23",
                  "2024-02-01 00:00:00",
                  "Grand Total",
                  "30.837761193563477",
                  "98",
                  "0",
                  "0",
                  "0",
                  "0",
                  "1",
                  "98",
                  "1",
                  "0",
                  "0",
                  "0",
                  "0",
                  "0",
                  "0",
                  "0",
                  "0",
                  "0",
                  "0",
                  "0",
                  "0",
                  "0",
                  "30.952851885970844",
                  "0"
                ],
                [
                  "24",
                  "2016-08-01 00:00:00",
                  "Grand Total",
                  "12.383132434206999",
                  "8",
                  "0",
                  "0",
                  "0",
                  "0",
                  "0",
                  "0",
                  "0",
                  "0",
                  "0",
                  "0",
                  "0",
                  "0",
                  "1",
                  "0",
                  "0",
                  "0",
                  "0",
                  "0",
                  "1",
                  "0",
                  "12.774823527403948",
                  "0"
                ],
                [
                  "25",
                  "2018-08-01 00:00:00",
                  "Grand Total",
                  "18.184054252662456",
                  "32",
                  "0",
                  "0",
                  "0",
                  "0",
                  "0",
                  "0",
                  "0",
                  "0",
                  "0",
                  "0",
                  "0",
                  "0",
                  "1",
                  "0",
                  "0",
                  "0",
                  "0",
                  "0",
                  "1",
                  "0",
                  "17.921332756496366",
                  "0"
                ],
                [
                  "26",
                  "2021-05-01 00:00:00",
                  "Grand Total",
                  "23.157465827293702",
                  "65",
                  "0",
                  "0",
                  "1",
                  "65",
                  "0",
                  "0",
                  "0",
                  "0",
                  "0",
                  "1",
                  "0",
                  "0",
                  "0",
                  "0",
                  "0",
                  "0",
                  "0",
                  "1",
                  "0",
                  "0",
                  "25.158653851344226",
                  "0"
                ],
                [
                  "27",
                  "2021-04-01 00:00:00",
                  "Grand Total",
                  "25.048406069920432",
                  "64",
                  "0",
                  "0",
                  "1",
                  "64",
                  "0",
                  "0",
                  "0",
                  "0",
                  "1",
                  "0",
                  "0",
                  "0",
                  "0",
                  "0",
                  "0",
                  "0",
                  "0",
                  "1",
                  "0",
                  "0",
                  "25.046488164464744",
                  "0"
                ],
                [
                  "28",
                  "2024-03-01 00:00:00",
                  "Grand Total",
                  "28.299900983147932",
                  "99",
                  "0",
                  "0",
                  "0",
                  "0",
                  "1",
                  "99",
                  "0",
                  "1",
                  "0",
                  "0",
                  "0",
                  "0",
                  "0",
                  "0",
                  "0",
                  "0",
                  "0",
                  "0",
                  "0",
                  "0",
                  "31.089434754978512",
                  "0"
                ],
                [
                  "29",
                  "2021-03-01 00:00:00",
                  "Grand Total",
                  "23.68427453585575",
                  "63",
                  "0",
                  "0",
                  "1",
                  "63",
                  "0",
                  "0",
                  "0",
                  "1",
                  "0",
                  "0",
                  "0",
                  "0",
                  "0",
                  "0",
                  "0",
                  "0",
                  "0",
                  "0",
                  "0",
                  "0",
                  "24.912045484555325",
                  "0"
                ],
                [
                  "30",
                  "2018-09-01 00:00:00",
                  "Grand Total",
                  "18.528432957162202",
                  "33",
                  "0",
                  "0",
                  "0",
                  "0",
                  "0",
                  "0",
                  "0",
                  "0",
                  "0",
                  "0",
                  "0",
                  "0",
                  "0",
                  "1",
                  "0",
                  "0",
                  "0",
                  "0",
                  "1",
                  "0",
                  "17.968147146214466",
                  "0"
                ],
                [
                  "31",
                  "2018-10-01 00:00:00",
                  "Grand Total",
                  "18.809953366681736",
                  "34",
                  "0",
                  "0",
                  "0",
                  "0",
                  "0",
                  "0",
                  "0",
                  "0",
                  "0",
                  "0",
                  "0",
                  "0",
                  "0",
                  "0",
                  "1",
                  "0",
                  "0",
                  "0",
                  "0",
                  "1",
                  "18.155329128212255",
                  "0"
                ],
                [
                  "32",
                  "2016-11-01 00:00:00",
                  "Grand Total",
                  "13.704459760086426",
                  "11",
                  "0",
                  "0",
                  "0",
                  "0",
                  "0",
                  "0",
                  "0",
                  "0",
                  "0",
                  "0",
                  "0",
                  "0",
                  "0",
                  "0",
                  "0",
                  "1",
                  "0",
                  "0",
                  "0",
                  "1",
                  "13.301752828444606",
                  "0"
                ],
                [
                  "33",
                  "2016-12-01 00:00:00",
                  "Grand Total",
                  "15.229921390327647",
                  "12",
                  "0",
                  "0",
                  "0",
                  "0",
                  "0",
                  "0",
                  "0",
                  "0",
                  "0",
                  "0",
                  "0",
                  "0",
                  "0",
                  "0",
                  "0",
                  "0",
                  "1",
                  "0",
                  "0",
                  "1",
                  "13.456509388932824",
                  "0"
                ],
                [
                  "34",
                  "2024-04-01 00:00:00",
                  "Grand Total",
                  "28.42021515196115",
                  "100",
                  "0",
                  "0",
                  "0",
                  "0",
                  "1",
                  "100",
                  "0",
                  "0",
                  "1",
                  "0",
                  "0",
                  "0",
                  "0",
                  "0",
                  "0",
                  "0",
                  "0",
                  "1",
                  "0",
                  "0",
                  "31.114011708120767",
                  "0"
                ],
                [
                  "35",
                  "2022-08-01 00:00:00",
                  "Grand Total",
                  "26.105625142352466",
                  "80",
                  "0",
                  "0",
                  "0",
                  "0",
                  "1",
                  "80",
                  "0",
                  "0",
                  "0",
                  "0",
                  "0",
                  "0",
                  "1",
                  "0",
                  "0",
                  "0",
                  "0",
                  "0",
                  "1",
                  "0",
                  "26.30993190453543",
                  "0"
                ],
                [
                  "36",
                  "2017-06-01 00:00:00",
                  "Grand Total",
                  "14.499502173522849",
                  "18",
                  "0",
                  "0",
                  "0",
                  "0",
                  "0",
                  "0",
                  "0",
                  "0",
                  "0",
                  "0",
                  "1",
                  "0",
                  "0",
                  "0",
                  "0",
                  "0",
                  "0",
                  "1",
                  "0",
                  "0",
                  "14.793156428608512",
                  "0"
                ],
                [
                  "37",
                  "2017-04-01 00:00:00",
                  "Grand Total",
                  "14.088462366107436",
                  "16",
                  "0",
                  "0",
                  "0",
                  "0",
                  "0",
                  "0",
                  "0",
                  "0",
                  "1",
                  "0",
                  "0",
                  "0",
                  "0",
                  "0",
                  "0",
                  "0",
                  "0",
                  "1",
                  "0",
                  "0",
                  "14.247565337543433",
                  "0"
                ],
                [
                  "38",
                  "2023-01-01 00:00:00",
                  "Grand Total",
                  "29.233691212191097",
                  "85",
                  "0",
                  "0",
                  "0",
                  "0",
                  "1",
                  "85",
                  "0",
                  "0",
                  "0",
                  "0",
                  "0",
                  "0",
                  "0",
                  "0",
                  "0",
                  "0",
                  "0",
                  "0",
                  "0",
                  "0",
                  "27.79530820037283",
                  "0"
                ],
                [
                  "39",
                  "2023-03-01 00:00:00",
                  "Grand Total",
                  "28.256342010204616",
                  "87",
                  "0",
                  "0",
                  "0",
                  "0",
                  "1",
                  "87",
                  "0",
                  "1",
                  "0",
                  "0",
                  "0",
                  "0",
                  "0",
                  "0",
                  "0",
                  "0",
                  "0",
                  "0",
                  "0",
                  "0",
                  "28.669133001331005",
                  "0"
                ],
                [
                  "40",
                  "2022-12-01 00:00:00",
                  "Grand Total",
                  "26.747333493339685",
                  "84",
                  "0",
                  "0",
                  "0",
                  "0",
                  "1",
                  "84",
                  "0",
                  "0",
                  "0",
                  "0",
                  "0",
                  "0",
                  "0",
                  "0",
                  "0",
                  "0",
                  "1",
                  "0",
                  "0",
                  "1",
                  "27.342459777552893",
                  "0"
                ],
                [
                  "41",
                  "2017-03-01 00:00:00",
                  "Grand Total",
                  "13.595790478688976",
                  "15",
                  "0",
                  "0",
                  "0",
                  "0",
                  "0",
                  "0",
                  "0",
                  "1",
                  "0",
                  "0",
                  "0",
                  "0",
                  "0",
                  "0",
                  "0",
                  "0",
                  "0",
                  "0",
                  "0",
                  "0",
                  "13.998663088042166",
                  "0"
                ],
                [
                  "42",
                  "2023-04-01 00:00:00",
                  "Grand Total",
                  "27.25784981574385",
                  "88",
                  "0",
                  "0",
                  "0",
                  "0",
                  "1",
                  "88",
                  "0",
                  "0",
                  "1",
                  "0",
                  "0",
                  "0",
                  "0",
                  "0",
                  "0",
                  "0",
                  "0",
                  "1",
                  "0",
                  "0",
                  "28.966654540959833",
                  "0"
                ],
                [
                  "43",
                  "2022-11-01 00:00:00",
                  "Grand Total",
                  "26.78379709085502",
                  "83",
                  "0",
                  "0",
                  "0",
                  "0",
                  "1",
                  "83",
                  "0",
                  "0",
                  "0",
                  "0",
                  "0",
                  "0",
                  "0",
                  "0",
                  "0",
                  "1",
                  "0",
                  "0",
                  "0",
                  "1",
                  "27.01292092293645",
                  "0"
                ],
                [
                  "44",
                  "2017-07-01 00:00:00",
                  "Grand Total",
                  "14.322621294924698",
                  "19",
                  "0",
                  "0",
                  "0",
                  "0",
                  "0",
                  "0",
                  "0",
                  "0",
                  "0",
                  "0",
                  "0",
                  "1",
                  "0",
                  "0",
                  "0",
                  "0",
                  "0",
                  "0",
                  "1",
                  "0",
                  "14.992312534032642",
                  "0"
                ],
                [
                  "45",
                  "2023-05-01 00:00:00",
                  "Grand Total",
                  "28.71085074304191",
                  "89",
                  "0",
                  "0",
                  "0",
                  "0",
                  "1",
                  "89",
                  "0",
                  "0",
                  "0",
                  "1",
                  "0",
                  "0",
                  "0",
                  "0",
                  "0",
                  "0",
                  "0",
                  "1",
                  "0",
                  "0",
                  "29.279830024829256",
                  "0"
                ],
                [
                  "46",
                  "2022-10-01 00:00:00",
                  "Grand Total",
                  "27.83063498255684",
                  "82",
                  "0",
                  "0",
                  "0",
                  "0",
                  "1",
                  "82",
                  "0",
                  "0",
                  "0",
                  "0",
                  "0",
                  "0",
                  "0",
                  "0",
                  "1",
                  "0",
                  "0",
                  "0",
                  "0",
                  "1",
                  "26.883333357545464",
                  "0"
                ],
                [
                  "47",
                  "2022-09-01 00:00:00",
                  "Grand Total",
                  "28.75304504122353",
                  "81",
                  "0",
                  "0",
                  "0",
                  "0",
                  "1",
                  "81",
                  "0",
                  "0",
                  "0",
                  "0",
                  "0",
                  "0",
                  "0",
                  "1",
                  "0",
                  "0",
                  "0",
                  "0",
                  "1",
                  "0",
                  "26.732954747634423",
                  "0"
                ],
                [
                  "48",
                  "2017-08-01 00:00:00",
                  "Grand Total",
                  "14.880335295777416",
                  "20",
                  "0",
                  "0",
                  "0",
                  "0",
                  "0",
                  "0",
                  "0",
                  "0",
                  "0",
                  "0",
                  "0",
                  "0",
                  "1",
                  "0",
                  "0",
                  "0",
                  "0",
                  "0",
                  "1",
                  "0",
                  "15.221627715905038",
                  "0"
                ],
                [
                  "49",
                  "2017-09-01 00:00:00",
                  "Grand Total",
                  "15.899822277068907",
                  "21",
                  "0",
                  "0",
                  "0",
                  "0",
                  "0",
                  "0",
                  "0",
                  "0",
                  "0",
                  "0",
                  "0",
                  "0",
                  "0",
                  "1",
                  "0",
                  "0",
                  "0",
                  "0",
                  "1",
                  "0",
                  "15.545235364912998",
                  "0"
                ]
              ],
              "shape": {
                "columns": 26,
                "rows": 1188
              }
            },
            "text/html": [
              "<div>\n",
              "<style scoped>\n",
              "    .dataframe tbody tr th:only-of-type {\n",
              "        vertical-align: middle;\n",
              "    }\n",
              "\n",
              "    .dataframe tbody tr th {\n",
              "        vertical-align: top;\n",
              "    }\n",
              "\n",
              "    .dataframe thead th {\n",
              "        text-align: right;\n",
              "    }\n",
              "</style>\n",
              "<table border=\"1\" class=\"dataframe\">\n",
              "  <thead>\n",
              "    <tr style=\"text-align: right;\">\n",
              "      <th></th>\n",
              "      <th>date</th>\n",
              "      <th>variavel</th>\n",
              "      <th>valores</th>\n",
              "      <th>periodo</th>\n",
              "      <th>Pandemia_Step</th>\n",
              "      <th>Pandemia_Trend</th>\n",
              "      <th>Pandemia2_Step</th>\n",
              "      <th>Pandemia2_Trend</th>\n",
              "      <th>PosPandemia_Step</th>\n",
              "      <th>PosPandemia_Trend</th>\n",
              "      <th>...</th>\n",
              "      <th>month_8</th>\n",
              "      <th>month_9</th>\n",
              "      <th>month_10</th>\n",
              "      <th>month_11</th>\n",
              "      <th>month_12</th>\n",
              "      <th>quarter_2</th>\n",
              "      <th>quarter_3</th>\n",
              "      <th>quarter_4</th>\n",
              "      <th>ma_12_valores</th>\n",
              "      <th>isSaudeMental</th>\n",
              "    </tr>\n",
              "  </thead>\n",
              "  <tbody>\n",
              "    <tr>\n",
              "      <th>0</th>\n",
              "      <td>2024-12-01</td>\n",
              "      <td>Grand Total</td>\n",
              "      <td>32.067290</td>\n",
              "      <td>108</td>\n",
              "      <td>0</td>\n",
              "      <td>0</td>\n",
              "      <td>0</td>\n",
              "      <td>0</td>\n",
              "      <td>1</td>\n",
              "      <td>108</td>\n",
              "      <td>...</td>\n",
              "      <td>0</td>\n",
              "      <td>0</td>\n",
              "      <td>0</td>\n",
              "      <td>0</td>\n",
              "      <td>1</td>\n",
              "      <td>0</td>\n",
              "      <td>0</td>\n",
              "      <td>1</td>\n",
              "      <td>32.312253</td>\n",
              "      <td>0</td>\n",
              "    </tr>\n",
              "    <tr>\n",
              "      <th>1</th>\n",
              "      <td>2024-01-01</td>\n",
              "      <td>Grand Total</td>\n",
              "      <td>32.233346</td>\n",
              "      <td>97</td>\n",
              "      <td>0</td>\n",
              "      <td>0</td>\n",
              "      <td>0</td>\n",
              "      <td>0</td>\n",
              "      <td>1</td>\n",
              "      <td>97</td>\n",
              "      <td>...</td>\n",
              "      <td>0</td>\n",
              "      <td>0</td>\n",
              "      <td>0</td>\n",
              "      <td>0</td>\n",
              "      <td>0</td>\n",
              "      <td>0</td>\n",
              "      <td>0</td>\n",
              "      <td>0</td>\n",
              "      <td>30.776447</td>\n",
              "      <td>0</td>\n",
              "    </tr>\n",
              "    <tr>\n",
              "      <th>2</th>\n",
              "      <td>2022-01-01</td>\n",
              "      <td>Grand Total</td>\n",
              "      <td>19.272148</td>\n",
              "      <td>73</td>\n",
              "      <td>0</td>\n",
              "      <td>0</td>\n",
              "      <td>1</td>\n",
              "      <td>73</td>\n",
              "      <td>0</td>\n",
              "      <td>0</td>\n",
              "      <td>...</td>\n",
              "      <td>0</td>\n",
              "      <td>0</td>\n",
              "      <td>0</td>\n",
              "      <td>0</td>\n",
              "      <td>0</td>\n",
              "      <td>0</td>\n",
              "      <td>0</td>\n",
              "      <td>0</td>\n",
              "      <td>25.239664</td>\n",
              "      <td>0</td>\n",
              "    </tr>\n",
              "    <tr>\n",
              "      <th>3</th>\n",
              "      <td>2018-02-01</td>\n",
              "      <td>Grand Total</td>\n",
              "      <td>17.550214</td>\n",
              "      <td>26</td>\n",
              "      <td>0</td>\n",
              "      <td>0</td>\n",
              "      <td>0</td>\n",
              "      <td>0</td>\n",
              "      <td>0</td>\n",
              "      <td>0</td>\n",
              "      <td>...</td>\n",
              "      <td>0</td>\n",
              "      <td>0</td>\n",
              "      <td>0</td>\n",
              "      <td>0</td>\n",
              "      <td>0</td>\n",
              "      <td>0</td>\n",
              "      <td>0</td>\n",
              "      <td>0</td>\n",
              "      <td>16.937060</td>\n",
              "      <td>0</td>\n",
              "    </tr>\n",
              "    <tr>\n",
              "      <th>4</th>\n",
              "      <td>2023-10-01</td>\n",
              "      <td>Grand Total</td>\n",
              "      <td>31.588741</td>\n",
              "      <td>94</td>\n",
              "      <td>0</td>\n",
              "      <td>0</td>\n",
              "      <td>0</td>\n",
              "      <td>0</td>\n",
              "      <td>1</td>\n",
              "      <td>94</td>\n",
              "      <td>...</td>\n",
              "      <td>0</td>\n",
              "      <td>0</td>\n",
              "      <td>1</td>\n",
              "      <td>0</td>\n",
              "      <td>0</td>\n",
              "      <td>0</td>\n",
              "      <td>0</td>\n",
              "      <td>1</td>\n",
              "      <td>30.363286</td>\n",
              "      <td>0</td>\n",
              "    </tr>\n",
              "    <tr>\n",
              "      <th>...</th>\n",
              "      <td>...</td>\n",
              "      <td>...</td>\n",
              "      <td>...</td>\n",
              "      <td>...</td>\n",
              "      <td>...</td>\n",
              "      <td>...</td>\n",
              "      <td>...</td>\n",
              "      <td>...</td>\n",
              "      <td>...</td>\n",
              "      <td>...</td>\n",
              "      <td>...</td>\n",
              "      <td>...</td>\n",
              "      <td>...</td>\n",
              "      <td>...</td>\n",
              "      <td>...</td>\n",
              "      <td>...</td>\n",
              "      <td>...</td>\n",
              "      <td>...</td>\n",
              "      <td>...</td>\n",
              "      <td>...</td>\n",
              "      <td>...</td>\n",
              "    </tr>\n",
              "    <tr>\n",
              "      <th>1183</th>\n",
              "      <td>2020-10-01</td>\n",
              "      <td>F00-F09 - Transtornos mentais orgânicos, inclu...</td>\n",
              "      <td>1.195095</td>\n",
              "      <td>58</td>\n",
              "      <td>1</td>\n",
              "      <td>58</td>\n",
              "      <td>0</td>\n",
              "      <td>0</td>\n",
              "      <td>0</td>\n",
              "      <td>0</td>\n",
              "      <td>...</td>\n",
              "      <td>0</td>\n",
              "      <td>0</td>\n",
              "      <td>1</td>\n",
              "      <td>0</td>\n",
              "      <td>0</td>\n",
              "      <td>0</td>\n",
              "      <td>0</td>\n",
              "      <td>1</td>\n",
              "      <td>1.205644</td>\n",
              "      <td>0</td>\n",
              "    </tr>\n",
              "    <tr>\n",
              "      <th>1184</th>\n",
              "      <td>2020-02-01</td>\n",
              "      <td>F00-F09 - Transtornos mentais orgânicos, inclu...</td>\n",
              "      <td>1.086781</td>\n",
              "      <td>50</td>\n",
              "      <td>0</td>\n",
              "      <td>0</td>\n",
              "      <td>0</td>\n",
              "      <td>0</td>\n",
              "      <td>0</td>\n",
              "      <td>0</td>\n",
              "      <td>...</td>\n",
              "      <td>0</td>\n",
              "      <td>0</td>\n",
              "      <td>0</td>\n",
              "      <td>0</td>\n",
              "      <td>0</td>\n",
              "      <td>0</td>\n",
              "      <td>0</td>\n",
              "      <td>0</td>\n",
              "      <td>1.110293</td>\n",
              "      <td>0</td>\n",
              "    </tr>\n",
              "    <tr>\n",
              "      <th>1185</th>\n",
              "      <td>2020-03-01</td>\n",
              "      <td>F00-F09 - Transtornos mentais orgânicos, inclu...</td>\n",
              "      <td>1.055733</td>\n",
              "      <td>51</td>\n",
              "      <td>1</td>\n",
              "      <td>51</td>\n",
              "      <td>0</td>\n",
              "      <td>0</td>\n",
              "      <td>0</td>\n",
              "      <td>0</td>\n",
              "      <td>...</td>\n",
              "      <td>0</td>\n",
              "      <td>0</td>\n",
              "      <td>0</td>\n",
              "      <td>0</td>\n",
              "      <td>0</td>\n",
              "      <td>0</td>\n",
              "      <td>0</td>\n",
              "      <td>0</td>\n",
              "      <td>1.125584</td>\n",
              "      <td>0</td>\n",
              "    </tr>\n",
              "    <tr>\n",
              "      <th>1186</th>\n",
              "      <td>2024-02-01</td>\n",
              "      <td>F00-F09 - Transtornos mentais orgânicos, inclu...</td>\n",
              "      <td>1.229560</td>\n",
              "      <td>98</td>\n",
              "      <td>0</td>\n",
              "      <td>0</td>\n",
              "      <td>0</td>\n",
              "      <td>0</td>\n",
              "      <td>1</td>\n",
              "      <td>98</td>\n",
              "      <td>...</td>\n",
              "      <td>0</td>\n",
              "      <td>0</td>\n",
              "      <td>0</td>\n",
              "      <td>0</td>\n",
              "      <td>0</td>\n",
              "      <td>0</td>\n",
              "      <td>0</td>\n",
              "      <td>0</td>\n",
              "      <td>1.222423</td>\n",
              "      <td>0</td>\n",
              "    </tr>\n",
              "    <tr>\n",
              "      <th>1187</th>\n",
              "      <td>2016-01-01</td>\n",
              "      <td>F00-F09 - Transtornos mentais orgânicos, inclu...</td>\n",
              "      <td>0.654245</td>\n",
              "      <td>1</td>\n",
              "      <td>0</td>\n",
              "      <td>0</td>\n",
              "      <td>0</td>\n",
              "      <td>0</td>\n",
              "      <td>0</td>\n",
              "      <td>0</td>\n",
              "      <td>...</td>\n",
              "      <td>0</td>\n",
              "      <td>0</td>\n",
              "      <td>0</td>\n",
              "      <td>0</td>\n",
              "      <td>0</td>\n",
              "      <td>0</td>\n",
              "      <td>0</td>\n",
              "      <td>0</td>\n",
              "      <td>0.603436</td>\n",
              "      <td>0</td>\n",
              "    </tr>\n",
              "  </tbody>\n",
              "</table>\n",
              "<p>1188 rows × 26 columns</p>\n",
              "</div>"
            ],
            "text/plain": [
              "           date                                           variavel    valores  \\\n",
              "0    2024-12-01                                        Grand Total  32.067290   \n",
              "1    2024-01-01                                        Grand Total  32.233346   \n",
              "2    2022-01-01                                        Grand Total  19.272148   \n",
              "3    2018-02-01                                        Grand Total  17.550214   \n",
              "4    2023-10-01                                        Grand Total  31.588741   \n",
              "...         ...                                                ...        ...   \n",
              "1183 2020-10-01  F00-F09 - Transtornos mentais orgânicos, inclu...   1.195095   \n",
              "1184 2020-02-01  F00-F09 - Transtornos mentais orgânicos, inclu...   1.086781   \n",
              "1185 2020-03-01  F00-F09 - Transtornos mentais orgânicos, inclu...   1.055733   \n",
              "1186 2024-02-01  F00-F09 - Transtornos mentais orgânicos, inclu...   1.229560   \n",
              "1187 2016-01-01  F00-F09 - Transtornos mentais orgânicos, inclu...   0.654245   \n",
              "\n",
              "      periodo  Pandemia_Step  Pandemia_Trend  Pandemia2_Step  Pandemia2_Trend  \\\n",
              "0         108              0               0               0                0   \n",
              "1          97              0               0               0                0   \n",
              "2          73              0               0               1               73   \n",
              "3          26              0               0               0                0   \n",
              "4          94              0               0               0                0   \n",
              "...       ...            ...             ...             ...              ...   \n",
              "1183       58              1              58               0                0   \n",
              "1184       50              0               0               0                0   \n",
              "1185       51              1              51               0                0   \n",
              "1186       98              0               0               0                0   \n",
              "1187        1              0               0               0                0   \n",
              "\n",
              "      PosPandemia_Step  PosPandemia_Trend  ...  month_8  month_9  month_10  \\\n",
              "0                    1                108  ...        0        0         0   \n",
              "1                    1                 97  ...        0        0         0   \n",
              "2                    0                  0  ...        0        0         0   \n",
              "3                    0                  0  ...        0        0         0   \n",
              "4                    1                 94  ...        0        0         1   \n",
              "...                ...                ...  ...      ...      ...       ...   \n",
              "1183                 0                  0  ...        0        0         1   \n",
              "1184                 0                  0  ...        0        0         0   \n",
              "1185                 0                  0  ...        0        0         0   \n",
              "1186                 1                 98  ...        0        0         0   \n",
              "1187                 0                  0  ...        0        0         0   \n",
              "\n",
              "      month_11  month_12  quarter_2  quarter_3  quarter_4  ma_12_valores  \\\n",
              "0            0         1          0          0          1      32.312253   \n",
              "1            0         0          0          0          0      30.776447   \n",
              "2            0         0          0          0          0      25.239664   \n",
              "3            0         0          0          0          0      16.937060   \n",
              "4            0         0          0          0          1      30.363286   \n",
              "...        ...       ...        ...        ...        ...            ...   \n",
              "1183         0         0          0          0          1       1.205644   \n",
              "1184         0         0          0          0          0       1.110293   \n",
              "1185         0         0          0          0          0       1.125584   \n",
              "1186         0         0          0          0          0       1.222423   \n",
              "1187         0         0          0          0          0       0.603436   \n",
              "\n",
              "      isSaudeMental  \n",
              "0                 0  \n",
              "1                 0  \n",
              "2                 0  \n",
              "3                 0  \n",
              "4                 0  \n",
              "...             ...  \n",
              "1183              0  \n",
              "1184              0  \n",
              "1185              0  \n",
              "1186              0  \n",
              "1187              0  \n",
              "\n",
              "[1188 rows x 26 columns]"
            ]
          },
          "execution_count": 235,
          "metadata": {},
          "output_type": "execute_result"
        }
      ],
      "source": [
        "\n",
        "pipe = Pipeline(\n",
        "    [\n",
        "        (\"grouping\", FrequencyGroupingTransformer(frequency=PREPROCESSOR_ARGS['FrequencyDateGroup'])),\n",
        "        (\"melt\", MeltTransformer()),\n",
        "        (\"date_filter\", DateFilterTransformer(periodos_inclusivos=PREPROCESSOR_ARGS['DateRange'])),\n",
        "        (\"period_index_adder\", PeriodIndexAdder()),\n",
        "        (\"dummy_adder\", MultiDummyAdder(dummy_config=PREPROCESSOR_ARGS['DummyArgs'])),\n",
        "        (\"monthly_dummy_adder\", MonthlyDummyAdder()),\n",
        "        (\"quarterly_dummy_adder\", QuarterlyDummyAdder()),\n",
        "        ('moving_average', MovingAverageTransformer(window=MOVING_WINDOW, prefix='ma', center=True)),\n",
        "        (\"sorter\", DataFrameSorter(sort_by=VARIABLE_COLUMN_NAME, ascending=False)),\n",
        "\n",
        "\n",
        "    ]\n",
        ")\n",
        "\n",
        "\n",
        "RawDataDF = BuildDataDF(dados_brutos)\n",
        "RegressionDF = pipe.fit_transform(RawDataDF)\n",
        "\n",
        "RegressionDF['isSaudeMental'] = (RegressionDF[VARIABLE_COLUMN_NAME] == MAIN_SERIE).astype(int)\n",
        "ControlRegressionDF = RegressionDF[\n",
        "    RegressionDF[VARIABLE_COLUMN_NAME].isin([MAIN_SERIE, CONTROL_SERIE])\n",
        "].copy()\n",
        "\n",
        "RegressionDF\n"
      ]
    },
    {
      "cell_type": "markdown",
      "metadata": {
        "id": "_lLzpByrMa6g"
      },
      "source": [
        "# Media movel "
      ]
    },
    {
      "cell_type": "code",
      "execution_count": 236,
      "metadata": {
        "colab": {
          "base_uri": "https://localhost:8080/",
          "height": 1000
        },
        "id": "-DDe_bMWNIXb",
        "outputId": "3cca2b7a-d7ce-4e0a-abb7-4b6a9cb36edd"
      },
      "outputs": [],
      "source": [
        "import matplotlib.pyplot as plt\n",
        "\n",
        "\n",
        "\n",
        "moving_avg_pipe = Pipeline([\n",
        "\t('moving_average', MovingAverageTransformer(window=MOVING_WINDOW, prefix='ma', center=True)),\n",
        "\t]\n",
        "\t)\n",
        "\n",
        "def plot_moving_average(df, column, ma_column=None, title='Moving Average Plot', date_column='date'):\n",
        "    \"\"\"\n",
        "    Plota a série temporal original junto com a média móvel.\n",
        "\n",
        "    df: DataFrame contendo os dados\n",
        "    column: nome da coluna original\n",
        "    ma_column: nome da coluna da média móvel (se None, assume padrão de 'ma_{window}_{column}')\n",
        "    title: título do gráfico\n",
        "    date_column: nome da coluna de data\n",
        "    \"\"\"\n",
        "    if ma_column is None:\n",
        "        ma_column = [col for col in df.columns if col.startswith('ma_') and col.endswith(column)]\n",
        "        if ma_column:\n",
        "            ma_column = ma_column[0]\n",
        "        else:\n",
        "            raise ValueError(\"Média móvel não encontrada. Verifique o nome da coluna.\")\n",
        "\n",
        "    df[date_column] = pd.to_datetime(df[date_column])  # Ensure datetime format\n",
        "\n",
        "    plt.figure(figsize=(12, 5))\n",
        "    plt.plot(df[date_column], df[column], label='Original', color='lightgray')\n",
        "    plt.plot(df[date_column], df[ma_column], label=f'{ma_column}', color='blue')\n",
        "    plt.title(title)\n",
        "    plt.xlabel('Data')\n",
        "    plt.ylabel(column)\n",
        "    plt.legend()\n",
        "    plt.grid(True)\n",
        "    plt.tight_layout()\n",
        "    plt.show()\n",
        "\n",
        "if PLOT_MEDIA_MOVEL:\n",
        "    for var in RegressionDF[VARIABLE_COLUMN_NAME].unique():\n",
        "        var_df = RegressionDF[RegressionDF[VARIABLE_COLUMN_NAME] == var]\n",
        "        #var_df = var_df.sort_values(by = INDEPENDENT_VAR, ascending=False)\n",
        "        #print(var_df)\n",
        "        #var_df = moving_avg_pipe.fit_transform(var_df)\n",
        "\n",
        "\n",
        "        plot_moving_average(var_df, column=DEPENDENT_VAR, ma_column=f'ma_{MOVING_WINDOW}_valores', title=f'Moving Average Plot for {var}')\n",
        "\n"
      ]
    },
    {
      "cell_type": "markdown",
      "metadata": {
        "id": "NPO_tituNIXb"
      },
      "source": [
        "# Get Period Date Map and Dummies Period Indexes"
      ]
    },
    {
      "cell_type": "code",
      "execution_count": 237,
      "metadata": {},
      "outputs": [],
      "source": [
        "PERIOD_DATE_MAP = pipe.named_steps['period_index_adder'].period_date_mapping"
      ]
    },
    {
      "cell_type": "code",
      "execution_count": 238,
      "metadata": {},
      "outputs": [],
      "source": [
        "def find_idx_from_date(target_date, args, period_date_map=PERIOD_DATE_MAP):\n",
        "    \"\"\"\n",
        "    Finds the 'periodo' (index) corresponding to a given datetime in the PERIOD_DATE_MAP.\n",
        "\n",
        "    Args:\n",
        "        target_date (str or datetime): The target date to search for (e.g., '2020-01-01').\n",
        "        period_date_map (dict): The PERIOD_DATE_MAP containing period-to-date mappings.\n",
        "\n",
        "    Returns:\n",
        "        int: The 'periodo' (index) corresponding to the target date, or None if not found.\n",
        "    \"\"\"\n",
        "    # Ensure the target_date is a datetime object and normalize to quarter-end\n",
        "    if isinstance(target_date, str):\n",
        "        target_date = pd.to_datetime(target_date)\n",
        "    if args['FrequencyDateGroup'] == 'Q' or args['FrequencyDateGroup'] == 'QE':\n",
        "        target_date = target_date + pd.offsets.QuarterEnd(0)\n",
        "\n",
        "    # Iterate through the PERIOD_DATE_MAP to find the matching period\n",
        "    for date, period in period_date_map.items():\n",
        "        if isinstance(date, str):\n",
        "            date = pd.to_datetime(date)\n",
        "        if args['FrequencyDateGroup'] == 'Q' or args['FrequencyDateGroup'] == 'QE':\n",
        "            date = date + pd.offsets.QuarterEnd(0) # Normalize to quarter-end\n",
        "        if date == target_date:\n",
        "            return period - 1\n",
        "\n",
        "    return None\n",
        "\n",
        "\n",
        "def find_date_from_idx(target_idx, args, period_date_map=PERIOD_DATE_MAP):\n",
        "    \"\"\"\n",
        "    Finds the date corresponding to a given 'periodo' (index) in the PERIOD_DATE_MAP.\n",
        "\n",
        "    Args:\n",
        "        target_idx (int): The target index to search for (e.g., 1, 2, 3).\n",
        "        period_date_map (dict): The PERIOD_DATE_MAP containing period-to-date mappings.\n",
        "\n",
        "    Returns:\n",
        "        datetime or None: The date corresponding to the target index, or None if not found.\n",
        "    \"\"\"\n",
        "    # Iterate through the PERIOD_DATE_MAP to find the matching index\n",
        "    for date, period in period_date_map.items():\n",
        "        if period == target_idx:\n",
        "            date = pd.to_datetime(date) if isinstance(date, str) else date\n",
        "            date = date + pd.offsets.QuarterEnd(0) if args['FrequencyDateGroup'] == 'Q' or args['FrequencyDateGroup'] == 'QE' else date\n",
        "            return date\n",
        "    return None"
      ]
    },
    {
      "cell_type": "code",
      "execution_count": 239,
      "metadata": {},
      "outputs": [
        {
          "name": "stdout",
          "output_type": "stream",
          "text": [
            "Pandemia_Step {'start_date': '2020-03-01', 'end_date': '2021-02-01', 'exclude_ranges': []}\n",
            "Pandemia_Trend {'start_date': '2020-03-01', 'end_date': '2021-02-01', 'exclude_ranges': [], 'add_time_trend': True, 'keep_period_index': True}\n",
            "Pandemia2_Step {'start_date': '2021-03-01', 'end_date': '2022-03-01', 'exclude_ranges': []}\n",
            "Pandemia2_Trend {'start_date': '2021-03-01', 'end_date': '2022-03-01', 'exclude_ranges': [], 'add_time_trend': True, 'keep_period_index': True}\n",
            "PosPandemia_Step {'start_date': '2022-04-01', 'end_date': '2024-12-01', 'exclude_ranges': [], 'plot': False, 'step': True}\n",
            "PosPandemia_Trend {'start_date': '2022-04-01', 'end_date': '2024-12-01', 'exclude_ranges': [], 'plot': True, 'add_time_trend': True, 'keep_period_index': True, 'step': False}\n"
          ]
        },
        {
          "data": {
            "text/plain": [
              "{'Pandemia_Step': {'start_index': 50, 'end_index': 61},\n",
              " 'Pandemia_Trend': {'start_index': 50, 'end_index': 61},\n",
              " 'Pandemia2_Step': {'start_index': 62, 'end_index': 74},\n",
              " 'Pandemia2_Trend': {'start_index': 62, 'end_index': 74},\n",
              " 'PosPandemia_Step': {'start_index': 75, 'end_index': 107},\n",
              " 'PosPandemia_Trend': {'start_index': 75, 'end_index': 107}}"
            ]
          },
          "execution_count": 239,
          "metadata": {},
          "output_type": "execute_result"
        }
      ],
      "source": [
        "DummyIndexes = {}\n",
        "\n",
        "# Iterate over DUMMY_ARGS to calculate and store indexes\n",
        "for dummy_name, config in DUMMY_ARGS.items():\n",
        "    start_date = config.get(\"start_date\")\n",
        "    end_date = config.get(\"end_date\")\n",
        "\n",
        "    print(dummy_name, config)\n",
        "    # Calculate indexes using find_idx_from_date\n",
        "    start_idx = find_idx_from_date(start_date, PREPROCESSOR_ARGS, PERIOD_DATE_MAP) if start_date else None\n",
        "    end_idx = find_idx_from_date(end_date, PREPROCESSOR_ARGS, PERIOD_DATE_MAP) if end_date else None\n",
        "\n",
        "    # Store the indexes in the table\n",
        "    DummyIndexes[dummy_name] = {\n",
        "        \"start_index\": start_idx,\n",
        "        \"end_index\": end_idx\n",
        "    }\n",
        "DummyIndexes"
      ]
    },
    {
      "cell_type": "markdown",
      "metadata": {
        "id": "r5VoKUSkNIXc"
      },
      "source": [
        "# Exploration\n"
      ]
    },
    {
      "cell_type": "code",
      "execution_count": 240,
      "metadata": {
        "colab": {
          "base_uri": "https://localhost:8080/"
        },
        "id": "FrrmqovhNIXc",
        "outputId": "cf6e41a5-4664-4203-b687-0b34fc159bc6"
      },
      "outputs": [],
      "source": [
        "from statsmodels.api import OLS\n",
        "from statsmodels.tools.tools import add_constant\n",
        "import pandas as pd\n",
        "from scipy.stats import f\n",
        "main_regrdf = RegressionDF.copy()\n",
        "def chow_test(data, split_point, dependent_var, independent_vars):\n",
        "    \"\"\"\n",
        "    Realiza o teste de Chow para verificar mudanças estruturais em um modelo de regressão.\n",
        "\n",
        "    Args:\n",
        "        data (pd.DataFrame): DataFrame contendo os dados.\n",
        "        split_point (int): Ponto de divisão para o teste de Chow.\n",
        "        dependent_var (str): Nome da variável dependente.\n",
        "        independent_vars (list): Lista de nomes das variáveis independentes.\n",
        "\n",
        "    Returns:\n",
        "        dict: Resultados do teste de Chow contendo os valores F e p.\n",
        "    \"\"\"\n",
        "    # Dividir os dados em dois subconjuntos\n",
        "    data1 = data[data['periodo'] <= split_point]\n",
        "    data2 = data[data['periodo'] > split_point]\n",
        "\n",
        "    # Ajustar os modelos para cada subconjunto\n",
        "    X1 = add_constant(data1[independent_vars])\n",
        "    y1 = data1[dependent_var]\n",
        "    model1 = OLS(y1, X1).fit()\n",
        "\n",
        "    X2 = add_constant(data2[independent_vars])\n",
        "    y2 = data2[dependent_var]\n",
        "    model2 = OLS(y2, X2).fit()\n",
        "\n",
        "    # Ajustar o modelo para o conjunto completo\n",
        "    X_full = add_constant(data[independent_vars])\n",
        "    y_full = data[dependent_var]\n",
        "    model_full = OLS(y_full, X_full).fit()\n",
        "\n",
        "    # Calcular os graus de liberdade\n",
        "    k = len(independent_vars) + 1  # Número de parâmetros (incluindo o intercepto)\n",
        "    n1 = len(data1)\n",
        "    n2 = len(data2)\n",
        "    n = n1 + n2\n",
        "\n",
        "    # Calcular a soma dos quadrados dos resíduos\n",
        "    RSS1 = model1.ssr\n",
        "    RSS2 = model2.ssr\n",
        "    RSS_full = model_full.ssr\n",
        "\n",
        "    # Calcular o valor F\n",
        "    F = ((RSS_full - (RSS1 + RSS2)) / k) / ((RSS1 + RSS2) / (n - 2 * k))\n",
        "\n",
        "    # Calcular o p-valor\n",
        "    p_value = 1 - f.cdf(F, k, n - 2 * k)\n",
        "\n",
        "    return {\"F-statistic\": F, \"p-value\": p_value}\n",
        "\n",
        "\n",
        "if False:\n",
        "    chow_results = {}\n",
        "    split_point = find_idx_from_date(POS_PANDEMIA_START_DATE, PREPROCESSOR_ARGS)  # Exemplo: ponto de divisão para o teste de Chow\n",
        "    dependent_var = DEPENDENT_VAR\n",
        "    independent_vars = [INDEPENDENT_VAR] #+ [key for key in DUMMY_ARGS.keys()]\n",
        "    for variable in main_regrdf[VARIABLE_COLUMN_NAME].unique():\n",
        "        variable_data = main_regrdf[main_regrdf[VARIABLE_COLUMN_NAME] == variable]\n",
        "        result = chow_test(variable_data, split_point, dependent_var, independent_vars)\n",
        "        chow_results[variable] = result\n",
        "    # Converter os resultados em um DataFrame para visualização\n",
        "    chow_results_df = pd.DataFrame(chow_results).T\n",
        "    chow_results_df.columns = [\"F-statistic\", \"p-value\"]\n",
        "    chow_results_df['p-value'] = chow_results_df['p-value'].round(8)\n",
        "    print(chow_results_df)"
      ]
    },
    {
      "cell_type": "code",
      "execution_count": 241,
      "metadata": {
        "colab": {
          "base_uri": "https://localhost:8080/"
        },
        "id": "lyS4l0t8NIXc",
        "outputId": "87c30dda-28b3-48d9-8f50-7f23fa6ec0f4"
      },
      "outputs": [
        {
          "name": "stdout",
          "output_type": "stream",
          "text": [
            "[  1.          52.99999553 108.        ]\n",
            "2016-01-01 00:00:00\n",
            "2020-05-01 00:00:00\n",
            "2024-12-01 00:00:00\n"
          ]
        }
      ],
      "source": [
        "### TODO: make the knots per variable\n",
        "### TODO: remove the bumps/step_dummies before testing\n",
        "\n",
        "pwmodel = pwlf.PiecewiseLinFit(main_regrdf[INDEPENDENT_VAR].values,main_regrdf[DEPENDENT_VAR].values)\n",
        "knots = pwmodel.fit(2)\n",
        "print(knots)\n",
        "for knot in knots:\n",
        "    print(find_date_from_idx(np.round(knot), PREPROCESSOR_ARGS, PERIOD_DATE_MAP))"
      ]
    },
    {
      "cell_type": "code",
      "execution_count": 242,
      "metadata": {
        "colab": {
          "base_uri": "https://localhost:8080/",
          "height": 651
        },
        "id": "WJ_UKYslNIXc",
        "outputId": "ad4e0f72-aee3-43a3-e425-f46be70f892b"
      },
      "outputs": [
        {
          "data": {
            "application/vnd.microsoft.datawrangler.viewer.v0+json": {
              "columns": [
                {
                  "name": "index",
                  "rawType": "object",
                  "type": "string"
                },
                {
                  "name": "Heteroscedasticity (Breusch-Pagan)",
                  "rawType": "float64",
                  "type": "float"
                },
                {
                  "name": "Normality (Shapiro-Wilk)",
                  "rawType": "float64",
                  "type": "float"
                },
                {
                  "name": "Normality (Jarque-Bera)",
                  "rawType": "float64",
                  "type": "float"
                },
                {
                  "name": "Normality (D'Agostino)",
                  "rawType": "float64",
                  "type": "float"
                },
                {
                  "name": "Autocorrelation (Durbin-Watson)",
                  "rawType": "float64",
                  "type": "float"
                },
                {
                  "name": "Autocorrelation (Ljung-Box)",
                  "rawType": "float64",
                  "type": "float"
                }
              ],
              "conversionMethod": "pd.DataFrame",
              "ref": "fb64dfe5-071b-40bd-bc17-6cdddb62e738",
              "rows": [
                [
                  "Grand Total",
                  "0.37958249401664246",
                  "7.713188941884446e-07",
                  "2.7433799827847155e-33",
                  "1.0450347145641806e-06",
                  "0.6601985699466479",
                  "7.826211239572615e-17"
                ],
                [
                  "F99-F99 - Transtorno mental não especificado",
                  "0.8360620055453376",
                  "8.764036339543667e-11",
                  "2.3455862476283695e-78",
                  "1.901896158857058e-16",
                  "0.22571676322812428",
                  "3.0258776760791377e-75"
                ],
                [
                  "F90-F98 - Transtornos do comportamento e transtornos emocionais que aparecem habitualmente durante a infância ou a adolescência",
                  "8.553728855920043e-07",
                  "0.010311645849556579",
                  "0.34123125244156177",
                  "0.2515173736479276",
                  "0.1471307498258506",
                  "1.2248597379555488e-92"
                ],
                [
                  "F80-F89 - Transtornos do desenvolvimento psicológico",
                  "0.002383479171854353",
                  "0.02903602664956315",
                  "0.1953614305228538",
                  "0.16485017010076045",
                  "0.158153446476901",
                  "1.7367347722094841e-96"
                ],
                [
                  "F70-F79 - Retardo mental",
                  "0.40270252237204673",
                  "0.0002796434094771825",
                  "1.150155069101607e-06",
                  "3.185090012484611e-05",
                  "0.7170304257217577",
                  "8.09982145719803e-17"
                ],
                [
                  "F60-F69 - Transtornos da personalidade e do comportamento do adulto",
                  "2.1091184567646257e-05",
                  "0.4445958879103365",
                  "0.7700106176448243",
                  "0.8039848883280727",
                  "0.47121937606578895",
                  "8.89170750945849e-33"
                ],
                [
                  "F50-F59 - Síndromes comportamentais associadas a disfunções fisiológicas e a fatores físicos",
                  "0.8787385336614382",
                  "3.8978353626716485e-09",
                  "3.7078032726770077e-19",
                  "6.410059478794374e-10",
                  "0.16541584573567097",
                  "5.978377908758314e-96"
                ],
                [
                  "F40-F48 - Transtornos neuróticos, transtornos relacionados com o \"stress\" e transtornos somatoformes",
                  "0.19169250823742492",
                  "0.00010671757664140975",
                  "6.080395531514619e-12",
                  "0.0003918290187925511",
                  "0.6676668116201308",
                  "2.6609126552124598e-12"
                ],
                [
                  "F30-F39 - Transtornos do humor [afetivos]",
                  "0.9187038623029087",
                  "4.276964678065781e-06",
                  "6.786559158266275e-20",
                  "4.4567002181918046e-09",
                  "0.3406831812275685",
                  "5.270258113608537e-69"
                ],
                [
                  "F20-F29 - Esquizofrenia, transtornos esquizotípicos e transtornos delirantes",
                  "0.09176208137686771",
                  "0.004342077295018899",
                  "9.067164965001212e-07",
                  "8.236285812543084e-05",
                  "0.33556824448050576",
                  "1.6143130774170504e-58"
                ],
                [
                  "F00-F09 - Transtornos mentais orgânicos, inclusive os sintomáticos",
                  "0.3628207735504848",
                  "0.007080210173501967",
                  "0.0002467108691847824",
                  "0.0016834918030384346",
                  "0.4776064839984506",
                  "4.598364940248355e-49"
                ]
              ],
              "shape": {
                "columns": 6,
                "rows": 11
              }
            },
            "text/html": [
              "<div>\n",
              "<style scoped>\n",
              "    .dataframe tbody tr th:only-of-type {\n",
              "        vertical-align: middle;\n",
              "    }\n",
              "\n",
              "    .dataframe tbody tr th {\n",
              "        vertical-align: top;\n",
              "    }\n",
              "\n",
              "    .dataframe thead th {\n",
              "        text-align: right;\n",
              "    }\n",
              "</style>\n",
              "<table border=\"1\" class=\"dataframe\">\n",
              "  <thead>\n",
              "    <tr style=\"text-align: right;\">\n",
              "      <th></th>\n",
              "      <th>Heteroscedasticity (Breusch-Pagan)</th>\n",
              "      <th>Normality (Shapiro-Wilk)</th>\n",
              "      <th>Normality (Jarque-Bera)</th>\n",
              "      <th>Normality (D'Agostino)</th>\n",
              "      <th>Autocorrelation (Durbin-Watson)</th>\n",
              "      <th>Autocorrelation (Ljung-Box)</th>\n",
              "    </tr>\n",
              "  </thead>\n",
              "  <tbody>\n",
              "    <tr>\n",
              "      <th>Grand Total</th>\n",
              "      <td>3.795825e-01</td>\n",
              "      <td>7.713189e-07</td>\n",
              "      <td>2.743380e-33</td>\n",
              "      <td>1.045035e-06</td>\n",
              "      <td>0.660199</td>\n",
              "      <td>7.826211e-17</td>\n",
              "    </tr>\n",
              "    <tr>\n",
              "      <th>F99-F99 - Transtorno mental não especificado</th>\n",
              "      <td>8.360620e-01</td>\n",
              "      <td>8.764036e-11</td>\n",
              "      <td>2.345586e-78</td>\n",
              "      <td>1.901896e-16</td>\n",
              "      <td>0.225717</td>\n",
              "      <td>3.025878e-75</td>\n",
              "    </tr>\n",
              "    <tr>\n",
              "      <th>F90-F98 - Transtornos do comportamento e transtornos emocionais que aparecem habitualmente durante a infância ou a adolescência</th>\n",
              "      <td>8.553729e-07</td>\n",
              "      <td>1.031165e-02</td>\n",
              "      <td>3.412313e-01</td>\n",
              "      <td>2.515174e-01</td>\n",
              "      <td>0.147131</td>\n",
              "      <td>1.224860e-92</td>\n",
              "    </tr>\n",
              "    <tr>\n",
              "      <th>F80-F89 - Transtornos do desenvolvimento psicológico</th>\n",
              "      <td>2.383479e-03</td>\n",
              "      <td>2.903603e-02</td>\n",
              "      <td>1.953614e-01</td>\n",
              "      <td>1.648502e-01</td>\n",
              "      <td>0.158153</td>\n",
              "      <td>1.736735e-96</td>\n",
              "    </tr>\n",
              "    <tr>\n",
              "      <th>F70-F79 - Retardo mental</th>\n",
              "      <td>4.027025e-01</td>\n",
              "      <td>2.796434e-04</td>\n",
              "      <td>1.150155e-06</td>\n",
              "      <td>3.185090e-05</td>\n",
              "      <td>0.717030</td>\n",
              "      <td>8.099821e-17</td>\n",
              "    </tr>\n",
              "    <tr>\n",
              "      <th>F60-F69 - Transtornos da personalidade e do comportamento do adulto</th>\n",
              "      <td>2.109118e-05</td>\n",
              "      <td>4.445959e-01</td>\n",
              "      <td>7.700106e-01</td>\n",
              "      <td>8.039849e-01</td>\n",
              "      <td>0.471219</td>\n",
              "      <td>8.891708e-33</td>\n",
              "    </tr>\n",
              "    <tr>\n",
              "      <th>F50-F59 - Síndromes comportamentais associadas a disfunções fisiológicas e a fatores físicos</th>\n",
              "      <td>8.787385e-01</td>\n",
              "      <td>3.897835e-09</td>\n",
              "      <td>3.707803e-19</td>\n",
              "      <td>6.410059e-10</td>\n",
              "      <td>0.165416</td>\n",
              "      <td>5.978378e-96</td>\n",
              "    </tr>\n",
              "    <tr>\n",
              "      <th>F40-F48 - Transtornos neuróticos, transtornos relacionados com o \"stress\" e transtornos somatoformes</th>\n",
              "      <td>1.916925e-01</td>\n",
              "      <td>1.067176e-04</td>\n",
              "      <td>6.080396e-12</td>\n",
              "      <td>3.918290e-04</td>\n",
              "      <td>0.667667</td>\n",
              "      <td>2.660913e-12</td>\n",
              "    </tr>\n",
              "    <tr>\n",
              "      <th>F30-F39 - Transtornos do humor [afetivos]</th>\n",
              "      <td>9.187039e-01</td>\n",
              "      <td>4.276965e-06</td>\n",
              "      <td>6.786559e-20</td>\n",
              "      <td>4.456700e-09</td>\n",
              "      <td>0.340683</td>\n",
              "      <td>5.270258e-69</td>\n",
              "    </tr>\n",
              "    <tr>\n",
              "      <th>F20-F29 - Esquizofrenia, transtornos esquizotípicos e transtornos delirantes</th>\n",
              "      <td>9.176208e-02</td>\n",
              "      <td>4.342077e-03</td>\n",
              "      <td>9.067165e-07</td>\n",
              "      <td>8.236286e-05</td>\n",
              "      <td>0.335568</td>\n",
              "      <td>1.614313e-58</td>\n",
              "    </tr>\n",
              "    <tr>\n",
              "      <th>F00-F09 - Transtornos mentais orgânicos, inclusive os sintomáticos</th>\n",
              "      <td>3.628208e-01</td>\n",
              "      <td>7.080210e-03</td>\n",
              "      <td>2.467109e-04</td>\n",
              "      <td>1.683492e-03</td>\n",
              "      <td>0.477606</td>\n",
              "      <td>4.598365e-49</td>\n",
              "    </tr>\n",
              "  </tbody>\n",
              "</table>\n",
              "</div>"
            ],
            "text/plain": [
              "                                                    Heteroscedasticity (Breusch-Pagan)  \\\n",
              "Grand Total                                                               3.795825e-01   \n",
              "F99-F99 - Transtorno mental não especificado                              8.360620e-01   \n",
              "F90-F98 - Transtornos do comportamento e transt...                        8.553729e-07   \n",
              "F80-F89 - Transtornos do desenvolvimento psicol...                        2.383479e-03   \n",
              "F70-F79 - Retardo mental                                                  4.027025e-01   \n",
              "F60-F69 - Transtornos da personalidade e do com...                        2.109118e-05   \n",
              "F50-F59 - Síndromes comportamentais associadas ...                        8.787385e-01   \n",
              "F40-F48 - Transtornos neuróticos, transtornos r...                        1.916925e-01   \n",
              "F30-F39 - Transtornos do humor [afetivos]                                 9.187039e-01   \n",
              "F20-F29 - Esquizofrenia, transtornos esquizotíp...                        9.176208e-02   \n",
              "F00-F09 - Transtornos mentais orgânicos, inclus...                        3.628208e-01   \n",
              "\n",
              "                                                    Normality (Shapiro-Wilk)  \\\n",
              "Grand Total                                                     7.713189e-07   \n",
              "F99-F99 - Transtorno mental não especificado                    8.764036e-11   \n",
              "F90-F98 - Transtornos do comportamento e transt...              1.031165e-02   \n",
              "F80-F89 - Transtornos do desenvolvimento psicol...              2.903603e-02   \n",
              "F70-F79 - Retardo mental                                        2.796434e-04   \n",
              "F60-F69 - Transtornos da personalidade e do com...              4.445959e-01   \n",
              "F50-F59 - Síndromes comportamentais associadas ...              3.897835e-09   \n",
              "F40-F48 - Transtornos neuróticos, transtornos r...              1.067176e-04   \n",
              "F30-F39 - Transtornos do humor [afetivos]                       4.276965e-06   \n",
              "F20-F29 - Esquizofrenia, transtornos esquizotíp...              4.342077e-03   \n",
              "F00-F09 - Transtornos mentais orgânicos, inclus...              7.080210e-03   \n",
              "\n",
              "                                                    Normality (Jarque-Bera)  \\\n",
              "Grand Total                                                    2.743380e-33   \n",
              "F99-F99 - Transtorno mental não especificado                   2.345586e-78   \n",
              "F90-F98 - Transtornos do comportamento e transt...             3.412313e-01   \n",
              "F80-F89 - Transtornos do desenvolvimento psicol...             1.953614e-01   \n",
              "F70-F79 - Retardo mental                                       1.150155e-06   \n",
              "F60-F69 - Transtornos da personalidade e do com...             7.700106e-01   \n",
              "F50-F59 - Síndromes comportamentais associadas ...             3.707803e-19   \n",
              "F40-F48 - Transtornos neuróticos, transtornos r...             6.080396e-12   \n",
              "F30-F39 - Transtornos do humor [afetivos]                      6.786559e-20   \n",
              "F20-F29 - Esquizofrenia, transtornos esquizotíp...             9.067165e-07   \n",
              "F00-F09 - Transtornos mentais orgânicos, inclus...             2.467109e-04   \n",
              "\n",
              "                                                    Normality (D'Agostino)  \\\n",
              "Grand Total                                                   1.045035e-06   \n",
              "F99-F99 - Transtorno mental não especificado                  1.901896e-16   \n",
              "F90-F98 - Transtornos do comportamento e transt...            2.515174e-01   \n",
              "F80-F89 - Transtornos do desenvolvimento psicol...            1.648502e-01   \n",
              "F70-F79 - Retardo mental                                      3.185090e-05   \n",
              "F60-F69 - Transtornos da personalidade e do com...            8.039849e-01   \n",
              "F50-F59 - Síndromes comportamentais associadas ...            6.410059e-10   \n",
              "F40-F48 - Transtornos neuróticos, transtornos r...            3.918290e-04   \n",
              "F30-F39 - Transtornos do humor [afetivos]                     4.456700e-09   \n",
              "F20-F29 - Esquizofrenia, transtornos esquizotíp...            8.236286e-05   \n",
              "F00-F09 - Transtornos mentais orgânicos, inclus...            1.683492e-03   \n",
              "\n",
              "                                                    Autocorrelation (Durbin-Watson)  \\\n",
              "Grand Total                                                                0.660199   \n",
              "F99-F99 - Transtorno mental não especificado                               0.225717   \n",
              "F90-F98 - Transtornos do comportamento e transt...                         0.147131   \n",
              "F80-F89 - Transtornos do desenvolvimento psicol...                         0.158153   \n",
              "F70-F79 - Retardo mental                                                   0.717030   \n",
              "F60-F69 - Transtornos da personalidade e do com...                         0.471219   \n",
              "F50-F59 - Síndromes comportamentais associadas ...                         0.165416   \n",
              "F40-F48 - Transtornos neuróticos, transtornos r...                         0.667667   \n",
              "F30-F39 - Transtornos do humor [afetivos]                                  0.340683   \n",
              "F20-F29 - Esquizofrenia, transtornos esquizotíp...                         0.335568   \n",
              "F00-F09 - Transtornos mentais orgânicos, inclus...                         0.477606   \n",
              "\n",
              "                                                    Autocorrelation (Ljung-Box)  \n",
              "Grand Total                                                        7.826211e-17  \n",
              "F99-F99 - Transtorno mental não especificado                       3.025878e-75  \n",
              "F90-F98 - Transtornos do comportamento e transt...                 1.224860e-92  \n",
              "F80-F89 - Transtornos do desenvolvimento psicol...                 1.736735e-96  \n",
              "F70-F79 - Retardo mental                                           8.099821e-17  \n",
              "F60-F69 - Transtornos da personalidade e do com...                 8.891708e-33  \n",
              "F50-F59 - Síndromes comportamentais associadas ...                 5.978378e-96  \n",
              "F40-F48 - Transtornos neuróticos, transtornos r...                 2.660913e-12  \n",
              "F30-F39 - Transtornos do humor [afetivos]                          5.270258e-69  \n",
              "F20-F29 - Esquizofrenia, transtornos esquizotíp...                 1.614313e-58  \n",
              "F00-F09 - Transtornos mentais orgânicos, inclus...                 4.598365e-49  "
            ]
          },
          "execution_count": 242,
          "metadata": {},
          "output_type": "execute_result"
        }
      ],
      "source": [
        "import pandas as pd\n",
        "import numpy as np\n",
        "from statsmodels.stats.diagnostic import het_breuschpagan, acorr_ljungbox\n",
        "from statsmodels.stats.stattools import durbin_watson\n",
        "from scipy.stats import shapiro, normaltest, jarque_bera\n",
        "import statsmodels.api as sm\n",
        "\n",
        "def analyze_time_series(df: pd.DataFrame, variable_col: str, date_col: str, value_col: str):\n",
        "    \"\"\"\n",
        "    Analyzes a melted DataFrame for heteroscedasticity, distribution, and autocorrelation.\n",
        "\n",
        "    Parameters:\n",
        "        df (pd.DataFrame): Melted DataFrame with columns for variable, date, and value.\n",
        "        variable_col (str): Column name for the variable identifier.\n",
        "        date_col (str): Column name for the date.\n",
        "        value_col (str): Column name for the value.\n",
        "\n",
        "    Returns:\n",
        "        dict: A dictionary with analysis results for each variable.\n",
        "    \"\"\"\n",
        "    results = {}\n",
        "\n",
        "    for variable in df[variable_col].unique():\n",
        "        # Filter data for the current variable\n",
        "        variable_data = df[df[variable_col] == variable].sort_values(by=date_col)\n",
        "        y = variable_data[value_col].values\n",
        "        x = np.arange(len(y))  # Time index as independent variable\n",
        "\n",
        "        # Add constant for regression\n",
        "        X = sm.add_constant(x)\n",
        "\n",
        "        # Fit OLS model\n",
        "        model = sm.OLS(y, X).fit()\n",
        "\n",
        "        # Heteroscedasticity tests\n",
        "        bp_test = het_breuschpagan(model.resid, X)\n",
        "        bp_pvalue = bp_test[1]\n",
        "\n",
        "        # Normality tests\n",
        "        shapiro_test = shapiro(model.resid)\n",
        "        shapiro_pvalue = shapiro_test.pvalue\n",
        "\n",
        "        jb_test = jarque_bera(model.resid)\n",
        "        jb_pvalue = jb_test[1]\n",
        "\n",
        "        dagostino_test = normaltest(model.resid)\n",
        "        dagostino_pvalue = dagostino_test.pvalue\n",
        "\n",
        "        # Autocorrelation tests\n",
        "        dw_stat = durbin_watson(model.resid)\n",
        "        ljungbox_test = acorr_ljungbox(model.resid, lags=[10], return_df=True)\n",
        "        ljungbox_pvalue = ljungbox_test['lb_pvalue'].iloc[0]\n",
        "\n",
        "        # Store results\n",
        "        results[variable] = {\n",
        "            \"Heteroscedasticity (Breusch-Pagan)\": bp_pvalue,\n",
        "            \"Normality (Shapiro-Wilk)\": shapiro_pvalue,\n",
        "            \"Normality (Jarque-Bera)\": jb_pvalue,\n",
        "            \"Normality (D'Agostino)\": dagostino_pvalue,\n",
        "            \"Autocorrelation (Durbin-Watson)\": dw_stat,\n",
        "            \"Autocorrelation (Ljung-Box)\": ljungbox_pvalue,\n",
        "        }\n",
        "\n",
        "    return results\n",
        "\n",
        "explorationresults = analyze_time_series(main_regrdf, VARIABLE_COLUMN_NAME, DATE_NAME, DEPENDENT_VAR)\n",
        "explorationresultsDF = pd.DataFrame(explorationresults).T\n",
        "explorationresultsDF"
      ]
    },
    {
      "cell_type": "markdown",
      "metadata": {
        "id": "p26xmWNYNIXd"
      },
      "source": [
        "# Define Processors"
      ]
    },
    {
      "cell_type": "code",
      "execution_count": 243,
      "metadata": {
        "id": "fscc0dkXNIXd"
      },
      "outputs": [],
      "source": [
        "class RegressionProcessor:\n",
        "    def __init__(\n",
        "        self,\n",
        "        data,\n",
        "        formula,\n",
        "        model=None,\n",
        "        find_best_rho=False,\n",
        "        find_best_rho_args={\n",
        "            'start': -1.0,\n",
        "            \"stop\": 1.0,\n",
        "            'step': 0.05,\n",
        "            'criterio': 'aic',\n",
        "        },\n",
        "        rho=None,\n",
        "        cov_type=None,\n",
        "        cov_kwargs=None,\n",
        "        iterative_fit=False,  # New argument to enable iterative fitting\n",
        "        max_iterations=100,  # Maximum iterations for iterative fitting\n",
        "    ):\n",
        "        self.data = data\n",
        "        self.formula = formula\n",
        "        self.model = model\n",
        "        self.rho = rho\n",
        "        self.cov_type = cov_type\n",
        "        self.cov_kwargs = cov_kwargs\n",
        "        self.find_best_rho = find_best_rho\n",
        "        self.find_best_rho_args = find_best_rho_args\n",
        "        self.iterative_fit = iterative_fit\n",
        "        self.max_iterations = max_iterations\n",
        "        self.results = None\n",
        "\n",
        "    def fit(self, rho=None):\n",
        "        # Fit the regression model using the specified formula and data\n",
        "        if self.find_best_rho:\n",
        "            best_rho = 1.0\n",
        "            best_criterion_value = np.inf\n",
        "            model = None\n",
        "            results = None\n",
        "            for rho in np.arange(\n",
        "                self.find_best_rho_args['start'],\n",
        "                self.find_best_rho_args['stop'],\n",
        "                self.find_best_rho_args['step']\n",
        "            ):\n",
        "                test_model = self.model(self.formula, data=self.data, rho=rho)\n",
        "                if self.iterative_fit and hasattr(test_model, \"iterative_fit\"):\n",
        "                    test_results = test_model.iterative_fit(\n",
        "                        maxiter=self.max_iterations,\n",
        "                        cov_type=self.cov_type,\n",
        "                        cov_kwds=self.cov_kwargs,\n",
        "                    )\n",
        "                else:\n",
        "                    test_results = test_model.fit(\n",
        "                        cov_type=self.cov_type,\n",
        "                        cov_kwds=self.cov_kwargs,\n",
        "                    )\n",
        "                criterion_value = getattr(test_results, self.find_best_rho_args['criterio'])\n",
        "                if criterion_value < best_criterion_value:\n",
        "                    best_criterion_value = criterion_value\n",
        "                    best_rho = rho\n",
        "                    model = test_model\n",
        "                    results = test_results\n",
        "            self.rho = best_rho\n",
        "            self.results = results\n",
        "        else:\n",
        "            if self.rho is not None:\n",
        "                model = self.model(self.formula, data=self.data, rho=rho)\n",
        "            else:\n",
        "                model = self.model(self.formula, data=self.data)\n",
        "\n",
        "            # Use iterative fitting if enabled and supported\n",
        "            if self.iterative_fit and hasattr(model, \"iterative_fit\"):\n",
        "                self.results = model.iterative_fit(\n",
        "                    maxiter=self.max_iterations,\n",
        "                    cov_type=self.cov_type,\n",
        "                    cov_kwds=self.cov_kwargs,\n",
        "                )\n",
        "            else:\n",
        "                self.results = model.fit(\n",
        "                    cov_type=self.cov_type,\n",
        "                    cov_kwds=self.cov_kwargs,\n",
        "                )"
      ]
    },
    {
      "cell_type": "code",
      "execution_count": 244,
      "metadata": {
        "id": "QCvNMgVzNIXd"
      },
      "outputs": [],
      "source": [
        "class VariableProcessor:\n",
        "    def __init__(\n",
        "        self,\n",
        "        df,\n",
        "        processor_args,\n",
        "        processor,\n",
        "        evaluate = False,\n",
        "        test_size=0.2,\n",
        "        random_state=42,\n",
        "\n",
        "    ):\n",
        "        self.df = df\n",
        "        self.results = {}\n",
        "        self.processor_args = processor_args\n",
        "        self.processor = processor\n",
        "        self.evaluate = evaluate\n",
        "        self.evaluation_results = {}\n",
        "        self.test_size = test_size\n",
        "        self.random_state = random_state\n",
        "\n",
        "\n",
        "    def adjusted_r2(self, r2, n, p):\n",
        "        \"\"\"Calcula o R² ajustado.\"\"\"\n",
        "        return 1 - ((1 - r2) * (n - 1) / (n - p - 1))\n",
        "\n",
        "    def process_variables(self):\n",
        "        # Process each variable in the DataFrame\n",
        "        for variable in self.df[VARIABLE_COLUMN_NAME].unique():\n",
        "            variable_data = self.df[self.df[VARIABLE_COLUMN_NAME] == variable].sort_values(by=DATE_NAME)\n",
        "            variable_data = variable_data.reset_index(drop=True)\n",
        "\n",
        "            if self.processor == Ridge:\n",
        "                X = variable_data.drop(columns=[DEPENDENT_VAR, VARIABLE_COLUMN_NAME, DATE_NAME])  # Features (X)\n",
        "                y = variable_data[DEPENDENT_VAR]  # Target (y)\n",
        "\n",
        "                # Instantiate the Ridge model with the provided arguments\n",
        "                processor = self.processor(**self.processor_args)\n",
        "                processor.fit(X, y)\n",
        "            else:\n",
        "                processor = self.processor(data=variable_data, **self.processor_args)\n",
        "                processor.fit()\n",
        "                \n",
        "                self.results[variable] = processor.results\n",
        "\n",
        "\n",
        "\n",
        "\n",
        "            # Split into train and test\n",
        "            if self.evaluate:\n",
        "                train_data, test_data = train_test_split(\n",
        "                    variable_data, test_size=self.test_size, random_state=self.random_state, shuffle=False\n",
        "                )\n",
        "\n",
        "                # Store results for train and test\n",
        "                train_predictions = processor.results.predict(train_data)\n",
        "                test_predictions = processor.results.predict(test_data)\n",
        "\n",
        "                # Calculate metrics\n",
        "                train_r2 = r2_score(train_data[DEPENDENT_VAR], train_predictions)\n",
        "                test_r2 = r2_score(test_data[DEPENDENT_VAR], test_predictions)\n",
        "                #n_train = len(train_data)\n",
        "                #n_test = len(test_data)\n",
        "                #p = len(processor.results.params) - 1\n",
        "                train_mse = mean_squared_error(train_data[DEPENDENT_VAR], train_predictions)\n",
        "                test_mse = mean_squared_error(test_data[DEPENDENT_VAR], test_predictions)\n",
        "\n",
        "                #train_r2_adj = self.adjusted_r2(train_r2, n_train, p)\n",
        "                #test_r2_adj = self.adjusted_r2(test_r2, n_test, p)\n",
        "\n",
        "                evaluation_value = train_r2 - test_r2\n",
        "                #evaluation_value_adj = train_r2_adj - test_r2_adj\n",
        "\n",
        "\n",
        "                self.evaluation_results[variable] = {\n",
        "                    #'Absolute Diff': absolute_difference,\n",
        "                    'TrainMSE - TestMSE': train_mse - test_mse,\n",
        "                    \"Evaluation Value (r_train² - r_test²)\": evaluation_value,\n",
        "                    \"Overfitting Risk\": \"High\" if evaluation_value > 0.1 else \"Low\",\n",
        "                    \"Train R2\": train_r2,\n",
        "                    \"Test R2\": test_r2,\n",
        "                    #\"Evaluation Value (r_train_adj² - r_test_adj²)\": evaluation_value_adj,\n",
        "                    #\"Overfitting Risk (adj_r2)\": \"High\" if evaluation_value_adj > 0.1 else \"Low\",\n",
        "                    #\"Adj Train R2\": train_r2_adj,\n",
        "                    #\"Adj Test R2\": test_r2_adj,\n",
        "                    \"Train MSE\": train_mse,\n",
        "                    \"Test MSE\": test_mse,\n",
        "                    \"Processor Results\": processor.results,\n",
        "                    'splitted_data': {'train_data': train_data, 'test_data': test_data},\n",
        "                }\n",
        "\n",
        "        self.evaluation_results = pd.DataFrame(self.evaluation_results).T\n",
        "\n",
        "        return self.results, self.evaluation_results"
      ]
    },
    {
      "cell_type": "markdown",
      "metadata": {
        "id": "K8HZg-VlNIXd"
      },
      "source": [
        "# Define Exporter"
      ]
    },
    {
      "cell_type": "code",
      "execution_count": 245,
      "metadata": {
        "id": "BF1tmE8pNIXd"
      },
      "outputs": [],
      "source": [
        "def export_results(results, output_path, processor_args, preprocessor_args, output_gsheet = None):\n",
        "    \"\"\"\n",
        "    Exports the regression results and metadata to an Excel file.\n",
        "\n",
        "    Args:\n",
        "        results (dict): Dictionary containing regression results.\n",
        "        output_path (str): Path to the output Excel file.\n",
        "        processor_args (dict): Dictionary containing processor arguments.\n",
        "        preprocessor_args (dict): Dictionary containing preprocessor arguments.\n",
        "    \"\"\"\n",
        "    def extract_durbin_watson_from_summary(result):\n",
        "        summary_text = result.summary().as_text()\n",
        "        for line in summary_text.split('\\n'):\n",
        "            if \"Durbin-Watson\" in line:\n",
        "                return float(line.split()[-1])  # Extract the last value in the line\n",
        "        return None  # Return None if not found\n",
        "\n",
        "\n",
        "    def try_create_worksheet(output_gsheet, title: str) -> None:\n",
        "        if output_gsheet:\n",
        "            try:\n",
        "                output_gsheet.worksheet(title)\n",
        "            except gspread.exceptions.WorksheetNotFound:\n",
        "                output_gsheet.add_worksheet(title=title, rows=\"100\", cols=\"20\")\n",
        "\n",
        "\n",
        "    stats_data = []\n",
        "    coefficients_data = []\n",
        "\n",
        "    for variable, result in results.items():\n",
        "        # Extract coefficients\n",
        "        coefficients = result.params\n",
        "        coef_row = {\"Variable\": variable}\n",
        "        for coef_name, coef_value in coefficients.items():\n",
        "            coef_row[f\"{coef_name}__Value\"] = round(coef_value, 7)\n",
        "            coef_row[f\"{coef_name}__Value_%_intercept\"] = coef_value/result.params['Intercept']*100\n",
        "            coef_row[f\"{coef_name}__P-Value\"] = round(result.pvalues.get(coef_name, np.nan), 7)\n",
        "            coef_row[f\"{coef_name}__Std Err\"] = round(result.bse.get(coef_name, np.nan), 7)\n",
        "            coef_row[f\"{coef_name}__Significant\"] = result.pvalues.get(coef_name, np.nan) < 0.05  # At 5% significance\n",
        "        coefficients_data.append(coef_row)\n",
        "\n",
        "        # Extract other statistics\n",
        "        stats_data.append({\n",
        "            \"Variable\": variable,\n",
        "            \"R-Squared\": round(result.rsquared, 7),\n",
        "            \"Adjusted R-Squared\": round(result.rsquared_adj, 7),\n",
        "            \"Durbin-Watson\": round(extract_durbin_watson_from_summary(result), 7),\n",
        "            \"AIC\": round(result.aic, 7),\n",
        "            \"BIC\": round(result.bic, 7),\n",
        "            \"Number of Observations\": result.nobs,\n",
        "            \"F-Value\": round(result.fvalue, 7) if result.fvalue is not None else np.nan,\n",
        "            \"F P-Value\": round(result.f_pvalue, 7) if result.f_pvalue is not None else np.nan,\n",
        "            \"Log-Likelihood\": round(result.llf, 7),\n",
        "            \"Condition Number\": round(result.condition_number, 7) if result.condition_number is not None else np.nan\n",
        "        })\n",
        "\n",
        "    # Convert to DataFrames\n",
        "    coefficients_df = pd.DataFrame(coefficients_data).set_index(\"Variable\")\n",
        "    stats_df = pd.DataFrame(stats_data).set_index(\"Variable\")\n",
        "\n",
        "    # Prepare metadata\n",
        "    metadata = {\n",
        "        \"Processor Args\": [str(processor_args)],\n",
        "        \"Preprocessor Args\": [str(preprocessor_args)]\n",
        "    }\n",
        "    metadata_df = pd.DataFrame(metadata)\n",
        "\n",
        "    # Write to gsheet\n",
        "    if output_gsheet is not None:\n",
        "        for title, clean_df, include_index in [\n",
        "            (\"Coefficients\", coefficients_df, True),\n",
        "            (\"Statistics\", stats_df, True),\n",
        "            (\"Metadata\", metadata_df, False)\n",
        "        ]:\n",
        "            try_create_worksheet(title=title, output_gsheet=output_gsheet)\n",
        "            ws = output_gsheet.worksheet(title)\n",
        "            ws.clear()\n",
        "            set_with_dataframe(ws, clean_df, include_index=include_index)\n",
        "    # Write to Excel\n",
        "    else:\n",
        "       file_exists = os.path.exists(output_path)\n",
        "\n",
        "               # Attempt to open file and catch PermissionError if the file is open elsewhere\n",
        "       if file_exists:\n",
        "           while True:\n",
        "               try:\n",
        "                   with pd.ExcelWriter(output_path) as writer:\n",
        "                       # Write coefficients to one sheet\n",
        "                       coefficients_df.to_excel(writer, sheet_name=\"Coefficients\")\n",
        "\n",
        "                       # Write other stats to another sheet\n",
        "                       stats_df.to_excel(writer, sheet_name=\"Statistics\")\n",
        "\n",
        "                       # Write metadata to another sheet\n",
        "                       metadata_df.to_excel(writer, sheet_name=\"Metadata\", index=False)\n",
        "                   # Load the workbook to apply formatting\n",
        "                   workbook = load_workbook(output_path)\n",
        "                   if \"Residuals\" not in workbook.sheetnames:\n",
        "                       workbook.create_sheet(\"Residuals\")\n",
        "                       residuals_sheet = workbook[\"Residuals\"]\n",
        "\n",
        "                   # Plot residuals for each variable and add them to the Residuals sheet\n",
        "                   for idx, (variable, result) in enumerate(results.items(), start=1):\n",
        "                       # Create a plot of residuals\n",
        "                       plt.figure(figsize=(6, 4))\n",
        "                       plt.scatter(range(len(result.resid)), result.resid, alpha=0.7)\n",
        "                       plt.axhline(0, color=\"red\", linestyle=\"--\", linewidth=1)\n",
        "                       plt.title(f\"Residuals for {variable}\")\n",
        "                       plt.xlabel(\"Observation\")\n",
        "                       plt.ylabel(\"Residuals\")\n",
        "                       plt.tight_layout()\n",
        "\n",
        "                       # Save the plot to a BytesIO object\n",
        "                       img_data = BytesIO()\n",
        "                       plt.savefig(img_data, format=\"png\")\n",
        "                       plt.close()\n",
        "                       img_data.seek(0)\n",
        "\n",
        "                       # Add the image to the Excel sheet\n",
        "                       img = Image(img_data)\n",
        "                       img.anchor = f\"A{idx * 20}\"  # Adjust the position of the image\n",
        "                       residuals_sheet.add_image(img)\n",
        "\n",
        "                   for sheet_name in [\"Coefficients\", \"Statistics\", \"Metadata\"]:\n",
        "                       if sheet_name in workbook.sheetnames:\n",
        "                           sheet = workbook[sheet_name]\n",
        "\n",
        "                           # Enable text wrapping and adjust row heights\n",
        "                           for row in sheet.iter_rows():\n",
        "                               for cell in row:\n",
        "                                   cell.alignment = Alignment(wrap_text=True)  # Enable text wrapping\n",
        "                               # Adjust row height\n",
        "                               sheet.row_dimensions[row[0].row].height = 25  # Set row height to 25 (adjust as needed)\n",
        "\n",
        "                   # Save the formatted workbook\n",
        "                   workbook.save(output_path)\n",
        "                   break  # Exit the loop if writing succeeds\n",
        "               except PermissionError:\n",
        "                   #logger.warning(f\"File '{output_path}' is currently open. Please close the file and press Enter to try again.\")\n",
        "                   input(\"Press Enter after closing the file...\")\n",
        "                   time.sleep(5)  # Optional: wait before retrying\n"
      ]
    },
    {
      "cell_type": "markdown",
      "metadata": {
        "id": "053Sj2c1NIXe"
      },
      "source": [
        "# EXEC --- Instantiate Processor and Process/Export"
      ]
    },
    {
      "cell_type": "code",
      "execution_count": null,
      "metadata": {
        "colab": {
          "base_uri": "https://localhost:8080/"
        },
        "id": "b8LP4GtsNIXf",
        "outputId": "7ea11a18-ae65-4bad-9618-b393995cb905"
      },
      "outputs": [],
      "source": [
        "processor_args = PROCESSOR_ARGS\n",
        "\n",
        "variable_processor = VariableProcessor(\n",
        "    df = RegressionDF,\n",
        "    processor_args = processor_args,\n",
        "    processor = RegressionProcessor,#ARIMAXRegressor, #\n",
        ")\n",
        "\n",
        "variable_processor.process_variables()\n",
        "results = variable_processor.results\n"
      ]
    },
    {
      "cell_type": "code",
      "execution_count": null,
      "metadata": {
        "colab": {
          "base_uri": "https://localhost:8080/"
        },
        "id": "cuTQyaaA07iE",
        "outputId": "b8c0a98b-5f74-4ba5-d7d4-3aaed7436c8d"
      },
      "outputs": [
        {
          "name": "stdout",
          "output_type": "stream",
          "text": [
            "Power: 0.30\n"
          ]
        }
      ],
      "source": [
        "from statsmodels.stats.power import TTestPower\n",
        "\n",
        "# Parameters\n",
        "effect_size = 0.2  # Standardized (e.g., Cohen's d)\n",
        "alpha = 0.05        # Significance level\n",
        "nobs = 107/2          # Sample size\n",
        "\n",
        "# Calculate power\n",
        "power = TTestPower().power(effect_size, nobs, alpha)\n",
        "print(f\"Power: {power:.2f}\")  # e.g., 0.67 → 67% chance to detect the effect"
      ]
    },
    {
      "cell_type": "code",
      "execution_count": null,
      "metadata": {
        "id": "ss0tGfkkp3Xm"
      },
      "outputs": [],
      "source": [
        "def plot_residuals_vs_fitted(result, variable):\n",
        "   residuals = result.resid\n",
        "   fitted_values = result.fittedvalues\n",
        "   plt.figure(figsize=(8, 6))\n",
        "   plt.scatter(fitted_values, residuals)\n",
        "   plt.xlabel(\"Fitted Values\")\n",
        "   plt.ylabel(\"Residuals\")\n",
        "   plt.title(f\"Residuals vs. Fitted Values ({variable})\")\n",
        "   plt.axhline(y=0, color='r', linestyle='--')  # Add a horizontal line at y=0\n",
        "   plt.show()"
      ]
    },
    {
      "cell_type": "code",
      "execution_count": null,
      "metadata": {
        "colab": {
          "base_uri": "https://localhost:8080/",
          "height": 1000
        },
        "id": "uriyET4YNIXf",
        "outputId": "aacfe970-9d07-417d-ecec-d89b68b4654d"
      },
      "outputs": [
        {
          "name": "stdout",
          "output_type": "stream",
          "text": [
            "Results for Grand Total:\n",
            "                           GLSAR Regression Results                           \n",
            "==============================================================================\n",
            "Dep. Variable:                valores   R-squared:                       0.936\n",
            "Model:                          GLSAR   Adj. R-squared:                  0.923\n",
            "Method:                 Least Squares   F-statistic:                     280.1\n",
            "Date:                sex, 25 abr 2025   Prob (F-statistic):           1.36e-69\n",
            "Time:                        18:34:37   Log-Likelihood:                -159.34\n",
            "No. Observations:                 107   AIC:                             356.7\n",
            "Df Residuals:                      88   BIC:                             407.5\n",
            "Df Model:                          18                                         \n",
            "Covariance Type:                  HAC                                         \n",
            "=====================================================================================\n",
            "                        coef    std err          z      P>|z|      [0.025      0.975]\n",
            "-------------------------------------------------------------------------------------\n",
            "Intercept            10.3287      0.908     11.375      0.000       8.549      12.108\n",
            "periodo               0.2258      0.012     19.269      0.000       0.203       0.249\n",
            "Pandemia_Step         4.3766      1.119      3.910      0.000       2.183       6.570\n",
            "Pandemia_Trend       -0.3793      0.116     -3.275      0.001      -0.606      -0.152\n",
            "Pandemia2_Step       -0.1303      0.826     -0.158      0.875      -1.748       1.488\n",
            "Pandemia2_Trend      -0.1703      0.113     -1.513      0.130      -0.391       0.050\n",
            "PosPandemia_Step     -2.2508      0.973     -2.313      0.021      -4.158      -0.344\n",
            "PosPandemia_Trend    -0.0007      0.028     -0.024      0.981      -0.055       0.054\n",
            "month_2               0.6502      0.663      0.980      0.327      -0.650       1.950\n",
            "month_3              -0.3347      1.085     -0.308      0.758      -2.462       1.793\n",
            "month_4               0.2140      1.068      0.200      0.841      -1.880       2.308\n",
            "month_5              -0.1087      0.907     -0.120      0.905      -1.887       1.670\n",
            "month_6               0.2138      0.883      0.242      0.809      -1.517       1.945\n",
            "month_7               0.2597      0.883      0.294      0.769      -1.471       1.991\n",
            "month_8               0.7708      0.877      0.878      0.380      -0.949       2.491\n",
            "month_9               1.5003      0.896      1.674      0.094      -0.256       3.256\n",
            "month_10              1.1872      0.856      1.387      0.165      -0.490       2.865\n",
            "month_11              0.8685      0.862      1.007      0.314      -0.821       2.558\n",
            "month_12              0.9241      0.799      1.157      0.247      -0.641       2.489\n",
            "==============================================================================\n",
            "Omnibus:                       30.535   Durbin-Watson:                   1.833\n",
            "Prob(Omnibus):                  0.000   Jarque-Bera (JB):              246.719\n",
            "Skew:                          -0.508   Prob(JB):                     2.66e-54\n",
            "Kurtosis:                      10.369   Cond. No.                         645.\n",
            "==============================================================================\n",
            "\n",
            "Notes:\n",
            "[1] Standard Errors are heteroscedasticity and autocorrelation robust (HAC) using 4 lags and without small sample correction\n",
            "\n",
            "\n",
            "Results for F99-F99 - Transtorno mental não especificado:\n",
            "                           GLSAR Regression Results                           \n",
            "==============================================================================\n",
            "Dep. Variable:                valores   R-squared:                       0.892\n",
            "Model:                          GLSAR   Adj. R-squared:                  0.869\n",
            "Method:                 Least Squares   F-statistic:                     124.5\n",
            "Date:                sex, 25 abr 2025   Prob (F-statistic):           1.40e-54\n",
            "Time:                        18:34:37   Log-Likelihood:                 112.30\n",
            "No. Observations:                 107   AIC:                            -186.6\n",
            "Df Residuals:                      88   BIC:                            -135.8\n",
            "Df Model:                          18                                         \n",
            "Covariance Type:                  HAC                                         \n",
            "=====================================================================================\n",
            "                        coef    std err          z      P>|z|      [0.025      0.975]\n",
            "-------------------------------------------------------------------------------------\n",
            "Intercept             0.1778      0.038      4.741      0.000       0.104       0.251\n",
            "periodo               0.0156      0.001     12.344      0.000       0.013       0.018\n",
            "Pandemia_Step         0.7075      0.130      5.450      0.000       0.453       0.962\n",
            "Pandemia_Trend       -0.0655      0.013     -5.201      0.000      -0.090      -0.041\n",
            "Pandemia2_Step       -0.0428      0.061     -0.702      0.482      -0.162       0.077\n",
            "Pandemia2_Trend      -0.0174      0.004     -3.967      0.000      -0.026      -0.009\n",
            "PosPandemia_Step     -0.2892      0.088     -3.279      0.001      -0.462      -0.116\n",
            "PosPandemia_Trend    -0.0149      0.002     -6.560      0.000      -0.019      -0.010\n",
            "month_2               0.0117      0.025      0.458      0.647      -0.038       0.062\n",
            "month_3              -0.0747      0.055     -1.353      0.176      -0.183       0.033\n",
            "month_4               0.0045      0.052      0.086      0.931      -0.098       0.107\n",
            "month_5              -0.0042      0.035     -0.119      0.905      -0.073       0.065\n",
            "month_6               0.0236      0.049      0.484      0.629      -0.072       0.119\n",
            "month_7              -0.0152      0.036     -0.421      0.673      -0.086       0.056\n",
            "month_8              -0.0596      0.035     -1.703      0.089      -0.128       0.009\n",
            "month_9              -0.0301      0.042     -0.719      0.472      -0.112       0.052\n",
            "month_10             -0.0440      0.038     -1.145      0.252      -0.119       0.031\n",
            "month_11             -0.0310      0.031     -1.009      0.313      -0.091       0.029\n",
            "month_12              0.0141      0.031      0.454      0.650      -0.047       0.075\n",
            "==============================================================================\n",
            "Omnibus:                       41.025   Durbin-Watson:                   2.111\n",
            "Prob(Omnibus):                  0.000   Jarque-Bera (JB):              290.541\n",
            "Skew:                           0.966   Prob(JB):                     8.13e-64\n",
            "Kurtosis:                      10.838   Cond. No.                         691.\n",
            "==============================================================================\n",
            "\n",
            "Notes:\n",
            "[1] Standard Errors are heteroscedasticity and autocorrelation robust (HAC) using 4 lags and without small sample correction\n",
            "\n",
            "\n",
            "Results for F90-F98 - Transtornos do comportamento e transtornos emocionais que aparecem habitualmente durante a infância ou a adolescência:\n",
            "                           GLSAR Regression Results                           \n",
            "==============================================================================\n",
            "Dep. Variable:                valores   R-squared:                       0.893\n",
            "Model:                          GLSAR   Adj. R-squared:                  0.871\n",
            "Method:                 Least Squares   F-statistic:                     47.52\n",
            "Date:                sex, 25 abr 2025   Prob (F-statistic):           1.65e-37\n",
            "Time:                        18:34:37   Log-Likelihood:                 158.04\n",
            "No. Observations:                 107   AIC:                            -278.1\n",
            "Df Residuals:                      88   BIC:                            -227.3\n",
            "Df Model:                          18                                         \n",
            "Covariance Type:                  HAC                                         \n",
            "=====================================================================================\n",
            "                        coef    std err          z      P>|z|      [0.025      0.975]\n",
            "-------------------------------------------------------------------------------------\n",
            "Intercept             0.5516      0.063      8.766      0.000       0.428       0.675\n",
            "periodo               0.0072      0.001      6.256      0.000       0.005       0.009\n",
            "Pandemia_Step        -0.2056      0.051     -4.015      0.000      -0.306      -0.105\n",
            "Pandemia_Trend        0.0006      0.007      0.081      0.936      -0.014       0.015\n",
            "Pandemia2_Step       -0.3306      0.053     -6.277      0.000      -0.434      -0.227\n",
            "Pandemia2_Trend       0.0138      0.006      2.455      0.014       0.003       0.025\n",
            "PosPandemia_Step     -0.2277      0.062     -3.674      0.000      -0.349      -0.106\n",
            "PosPandemia_Trend     0.0256      0.003      8.674      0.000       0.020       0.031\n",
            "month_2               0.0806      0.031      2.609      0.009       0.020       0.141\n",
            "month_3               0.1317      0.044      3.003      0.003       0.046       0.218\n",
            "month_4               0.1422      0.047      3.041      0.002       0.051       0.234\n",
            "month_5               0.1470      0.042      3.475      0.001       0.064       0.230\n",
            "month_6               0.1622      0.042      3.849      0.000       0.080       0.245\n",
            "month_7               0.1127      0.041      2.721      0.007       0.032       0.194\n",
            "month_8               0.1895      0.044      4.307      0.000       0.103       0.276\n",
            "month_9               0.2302      0.044      5.228      0.000       0.144       0.317\n",
            "month_10              0.2064      0.039      5.346      0.000       0.131       0.282\n",
            "month_11              0.1530      0.038      4.036      0.000       0.079       0.227\n",
            "month_12              0.0411      0.033      1.230      0.219      -0.024       0.106\n",
            "==============================================================================\n",
            "Omnibus:                        9.916   Durbin-Watson:                   1.670\n",
            "Prob(Omnibus):                  0.007   Jarque-Bera (JB):               11.988\n",
            "Skew:                          -0.518   Prob(JB):                      0.00249\n",
            "Kurtosis:                       4.271   Cond. No.                         534.\n",
            "==============================================================================\n",
            "\n",
            "Notes:\n",
            "[1] Standard Errors are heteroscedasticity and autocorrelation robust (HAC) using 4 lags and without small sample correction\n",
            "\n",
            "\n",
            "Results for F80-F89 - Transtornos do desenvolvimento psicológico:\n",
            "                           GLSAR Regression Results                           \n",
            "==============================================================================\n",
            "Dep. Variable:                valores   R-squared:                       0.964\n",
            "Model:                          GLSAR   Adj. R-squared:                  0.956\n",
            "Method:                 Least Squares   F-statistic:                     343.0\n",
            "Date:                sex, 25 abr 2025   Prob (F-statistic):           2.13e-73\n",
            "Time:                        18:34:37   Log-Likelihood:                 106.88\n",
            "No. Observations:                 107   AIC:                            -175.8\n",
            "Df Residuals:                      88   BIC:                            -125.0\n",
            "Df Model:                          18                                         \n",
            "Covariance Type:                  HAC                                         \n",
            "=====================================================================================\n",
            "                        coef    std err          z      P>|z|      [0.025      0.975]\n",
            "-------------------------------------------------------------------------------------\n",
            "Intercept             0.3000      0.056      5.326      0.000       0.190       0.410\n",
            "periodo               0.0138      0.001     12.685      0.000       0.012       0.016\n",
            "Pandemia_Step        -0.6879      0.178     -3.875      0.000      -1.036      -0.340\n",
            "Pandemia_Trend        0.0367      0.019      1.967      0.049       0.000       0.073\n",
            "Pandemia2_Step       -0.3790      0.074     -5.135      0.000      -0.524      -0.234\n",
            "Pandemia2_Trend       0.0297      0.007      4.355      0.000       0.016       0.043\n",
            "PosPandemia_Step     -0.0516      0.079     -0.656      0.512      -0.206       0.103\n",
            "PosPandemia_Trend     0.0368      0.003     13.515      0.000       0.031       0.042\n",
            "month_2               0.1985      0.037      5.429      0.000       0.127       0.270\n",
            "month_3               0.2738      0.062      4.409      0.000       0.152       0.396\n",
            "month_4               0.2144      0.065      3.322      0.001       0.088       0.341\n",
            "month_5               0.2820      0.060      4.690      0.000       0.164       0.400\n",
            "month_6               0.2917      0.059      4.924      0.000       0.176       0.408\n",
            "month_7               0.2037      0.056      3.626      0.000       0.094       0.314\n",
            "month_8               0.3322      0.053      6.227      0.000       0.228       0.437\n",
            "month_9               0.3511      0.053      6.629      0.000       0.247       0.455\n",
            "month_10              0.2889      0.044      6.542      0.000       0.202       0.376\n",
            "month_11              0.2519      0.050      5.073      0.000       0.155       0.349\n",
            "month_12              0.0574      0.050      1.138      0.255      -0.041       0.156\n",
            "==============================================================================\n",
            "Omnibus:                       19.849   Durbin-Watson:                   1.837\n",
            "Prob(Omnibus):                  0.000   Jarque-Bera (JB):               78.669\n",
            "Skew:                          -0.408   Prob(JB):                     8.27e-18\n",
            "Kurtosis:                       7.121   Cond. No.                         617.\n",
            "==============================================================================\n",
            "\n",
            "Notes:\n",
            "[1] Standard Errors are heteroscedasticity and autocorrelation robust (HAC) using 4 lags and without small sample correction\n",
            "\n",
            "\n",
            "Results for F70-F79 - Retardo mental:\n",
            "                           GLSAR Regression Results                           \n",
            "==============================================================================\n",
            "Dep. Variable:                valores   R-squared:                       0.847\n",
            "Model:                          GLSAR   Adj. R-squared:                  0.815\n",
            "Method:                 Least Squares   F-statistic:                     87.18\n",
            "Date:                sex, 25 abr 2025   Prob (F-statistic):           3.94e-48\n",
            "Time:                        18:34:37   Log-Likelihood:                 241.76\n",
            "No. Observations:                 107   AIC:                            -445.5\n",
            "Df Residuals:                      88   BIC:                            -394.7\n",
            "Df Model:                          18                                         \n",
            "Covariance Type:                  HAC                                         \n",
            "=====================================================================================\n",
            "                        coef    std err          z      P>|z|      [0.025      0.975]\n",
            "-------------------------------------------------------------------------------------\n",
            "Intercept             0.2235      0.020     11.007      0.000       0.184       0.263\n",
            "periodo               0.0047      0.000     15.633      0.000       0.004       0.005\n",
            "Pandemia_Step        -0.0857      0.033     -2.563      0.010      -0.151      -0.020\n",
            "Pandemia_Trend       -0.0002      0.004     -0.067      0.946      -0.007       0.007\n",
            "Pandemia2_Step       -0.0976      0.036     -2.712      0.007      -0.168      -0.027\n",
            "Pandemia2_Trend       0.0008      0.004      0.208      0.835      -0.007       0.008\n",
            "PosPandemia_Step     -0.0974      0.021     -4.663      0.000      -0.138      -0.056\n",
            "PosPandemia_Trend     0.0002      0.001      0.364      0.716      -0.001       0.001\n",
            "month_2               0.0353      0.015      2.345      0.019       0.006       0.065\n",
            "month_3               0.0171      0.019      0.882      0.378      -0.021       0.055\n",
            "month_4               0.0033      0.019      0.174      0.862      -0.033       0.040\n",
            "month_5               0.0166      0.023      0.736      0.462      -0.028       0.061\n",
            "month_6               0.0215      0.022      0.981      0.326      -0.021       0.064\n",
            "month_7               0.0095      0.020      0.481      0.630      -0.029       0.048\n",
            "month_8               0.0255      0.019      1.369      0.171      -0.011       0.062\n",
            "month_9               0.0314      0.019      1.644      0.100      -0.006       0.069\n",
            "month_10              0.0247      0.019      1.303      0.192      -0.012       0.062\n",
            "month_11              0.0172      0.019      0.897      0.370      -0.020       0.055\n",
            "month_12              0.0165      0.018      0.935      0.350      -0.018       0.051\n",
            "==============================================================================\n",
            "Omnibus:                       22.401   Durbin-Watson:                   1.723\n",
            "Prob(Omnibus):                  0.000   Jarque-Bera (JB):              141.779\n",
            "Skew:                          -0.230   Prob(JB):                     1.63e-31\n",
            "Kurtosis:                       8.620   Cond. No.                         583.\n",
            "==============================================================================\n",
            "\n",
            "Notes:\n",
            "[1] Standard Errors are heteroscedasticity and autocorrelation robust (HAC) using 4 lags and without small sample correction\n",
            "\n",
            "\n",
            "Results for F60-F69 - Transtornos da personalidade e do comportamento do adulto:\n",
            "                           GLSAR Regression Results                           \n",
            "==============================================================================\n",
            "Dep. Variable:                valores   R-squared:                       0.937\n",
            "Model:                          GLSAR   Adj. R-squared:                  0.925\n",
            "Method:                 Least Squares   F-statistic:                     193.0\n",
            "Date:                sex, 25 abr 2025   Prob (F-statistic):           1.19e-62\n",
            "Time:                        18:34:37   Log-Likelihood:                 347.58\n",
            "No. Observations:                 107   AIC:                            -657.2\n",
            "Df Residuals:                      88   BIC:                            -606.4\n",
            "Df Model:                          18                                         \n",
            "Covariance Type:                  HAC                                         \n",
            "=====================================================================================\n",
            "                        coef    std err          z      P>|z|      [0.025      0.975]\n",
            "-------------------------------------------------------------------------------------\n",
            "Intercept             0.0414      0.008      5.347      0.000       0.026       0.057\n",
            "periodo               0.0027      0.000     25.431      0.000       0.002       0.003\n",
            "Pandemia_Step         0.0015      0.005      0.277      0.782      -0.009       0.012\n",
            "Pandemia_Trend        0.0009      0.001      1.210      0.226      -0.001       0.002\n",
            "Pandemia2_Step        0.0088      0.007      1.214      0.225      -0.005       0.023\n",
            "Pandemia2_Trend      -0.0032      0.001     -3.548      0.000      -0.005      -0.001\n",
            "PosPandemia_Step     -0.0550      0.010     -5.767      0.000      -0.074      -0.036\n",
            "PosPandemia_Trend     0.0010      0.000      2.104      0.035    7.02e-05       0.002\n",
            "month_2               0.0089      0.006      1.524      0.128      -0.003       0.020\n",
            "month_3               0.0016      0.008      0.188      0.851      -0.015       0.018\n",
            "month_4               0.0026      0.008      0.306      0.759      -0.014       0.019\n",
            "month_5               0.0027      0.008      0.349      0.727      -0.012       0.018\n",
            "month_6               0.0112      0.007      1.596      0.111      -0.003       0.025\n",
            "month_7               0.0121      0.007      1.719      0.086      -0.002       0.026\n",
            "month_8               0.0178      0.007      2.639      0.008       0.005       0.031\n",
            "month_9               0.0195      0.006      3.158      0.002       0.007       0.032\n",
            "month_10              0.0177      0.006      2.762      0.006       0.005       0.030\n",
            "month_11              0.0119      0.007      1.607      0.108      -0.003       0.026\n",
            "month_12              0.0152      0.007      2.216      0.027       0.002       0.029\n",
            "==============================================================================\n",
            "Omnibus:                        9.680   Durbin-Watson:                   1.899\n",
            "Prob(Omnibus):                  0.008   Jarque-Bera (JB):               16.126\n",
            "Skew:                          -0.349   Prob(JB):                     0.000315\n",
            "Kurtosis:                       4.769   Cond. No.                         571.\n",
            "==============================================================================\n",
            "\n",
            "Notes:\n",
            "[1] Standard Errors are heteroscedasticity and autocorrelation robust (HAC) using 4 lags and without small sample correction\n",
            "\n",
            "\n",
            "Results for F50-F59 - Síndromes comportamentais associadas a disfunções fisiológicas e a fatores físicos:\n",
            "                           GLSAR Regression Results                           \n",
            "==============================================================================\n",
            "Dep. Variable:                valores   R-squared:                       0.902\n",
            "Model:                          GLSAR   Adj. R-squared:                  0.882\n",
            "Method:                 Least Squares   F-statistic:                     134.9\n",
            "Date:                sex, 25 abr 2025   Prob (F-statistic):           4.83e-56\n",
            "Time:                        18:34:37   Log-Likelihood:                 189.24\n",
            "No. Observations:                 107   AIC:                            -340.5\n",
            "Df Residuals:                      88   BIC:                            -289.7\n",
            "Df Model:                          18                                         \n",
            "Covariance Type:                  HAC                                         \n",
            "=====================================================================================\n",
            "                        coef    std err          z      P>|z|      [0.025      0.975]\n",
            "-------------------------------------------------------------------------------------\n",
            "Intercept             0.4361      0.027     15.894      0.000       0.382       0.490\n",
            "periodo               0.0067      0.000     18.056      0.000       0.006       0.007\n",
            "Pandemia_Step         0.3452      0.069      5.036      0.000       0.211       0.480\n",
            "Pandemia_Trend       -0.0243      0.007     -3.395      0.001      -0.038      -0.010\n",
            "Pandemia2_Step        0.0531      0.025      2.099      0.036       0.004       0.103\n",
            "Pandemia2_Trend      -0.0216      0.003     -6.480      0.000      -0.028      -0.015\n",
            "PosPandemia_Step     -0.2209      0.024     -9.154      0.000      -0.268      -0.174\n",
            "PosPandemia_Trend    -0.0066      0.001    -11.412      0.000      -0.008      -0.005\n",
            "month_2               0.0044      0.022      0.199      0.842      -0.039       0.048\n",
            "month_3              -0.0584      0.037     -1.562      0.118      -0.132       0.015\n",
            "month_4              -0.0142      0.032     -0.448      0.654      -0.076       0.048\n",
            "month_5              -0.0090      0.029     -0.312      0.755      -0.065       0.047\n",
            "month_6               0.0178      0.027      0.669      0.503      -0.034       0.070\n",
            "month_7               0.0467      0.024      1.913      0.056      -0.001       0.094\n",
            "month_8               0.0372      0.024      1.540      0.124      -0.010       0.085\n",
            "month_9               0.0382      0.025      1.502      0.133      -0.012       0.088\n",
            "month_10              0.0166      0.024      0.692      0.489      -0.030       0.063\n",
            "month_11              0.0026      0.025      0.107      0.915      -0.046       0.051\n",
            "month_12              0.0194      0.022      0.868      0.385      -0.024       0.063\n",
            "==============================================================================\n",
            "Omnibus:                       51.395   Durbin-Watson:                   1.963\n",
            "Prob(Omnibus):                  0.000   Jarque-Bera (JB):              400.396\n",
            "Skew:                          -1.292   Prob(JB):                     1.14e-87\n",
            "Kurtosis:                      12.117   Cond. No.                         775.\n",
            "==============================================================================\n",
            "\n",
            "Notes:\n",
            "[1] Standard Errors are heteroscedasticity and autocorrelation robust (HAC) using 4 lags and without small sample correction\n",
            "\n",
            "\n",
            "Results for F40-F48 - Transtornos neuróticos, transtornos relacionados com o \"stress\" e transtornos somatoformes:\n",
            "                           GLSAR Regression Results                           \n",
            "==============================================================================\n",
            "Dep. Variable:                valores   R-squared:                       0.945\n",
            "Model:                          GLSAR   Adj. R-squared:                  0.934\n",
            "Method:                 Least Squares   F-statistic:                     315.7\n",
            "Date:                sex, 25 abr 2025   Prob (F-statistic):           7.75e-72\n",
            "Time:                        18:34:37   Log-Likelihood:                -89.459\n",
            "No. Observations:                 107   AIC:                             216.9\n",
            "Df Residuals:                      88   BIC:                             267.7\n",
            "Df Model:                          18                                         \n",
            "Covariance Type:                  HAC                                         \n",
            "=====================================================================================\n",
            "                        coef    std err          z      P>|z|      [0.025      0.975]\n",
            "-------------------------------------------------------------------------------------\n",
            "Intercept             3.0755      0.493      6.233      0.000       2.109       4.043\n",
            "periodo               0.1097      0.007     15.673      0.000       0.096       0.123\n",
            "Pandemia_Step         2.2760      0.698      3.260      0.001       0.908       3.644\n",
            "Pandemia_Trend       -0.0968      0.070     -1.389      0.165      -0.233       0.040\n",
            "Pandemia2_Step        1.3113      0.448      2.925      0.003       0.433       2.190\n",
            "Pandemia2_Trend      -0.0593      0.063     -0.946      0.344      -0.182       0.064\n",
            "PosPandemia_Step      0.7239      0.606      1.195      0.232      -0.463       1.911\n",
            "PosPandemia_Trend     0.0193      0.017      1.116      0.264      -0.015       0.053\n",
            "month_2               0.2007      0.330      0.608      0.543      -0.447       0.848\n",
            "month_3              -0.3216      0.568     -0.566      0.571      -1.435       0.792\n",
            "month_4              -0.0542      0.568     -0.096      0.924      -1.167       1.058\n",
            "month_5              -0.2207      0.504     -0.438      0.661      -1.208       0.766\n",
            "month_6              -0.1552      0.481     -0.323      0.747      -1.098       0.787\n",
            "month_7              -0.0118      0.466     -0.025      0.980      -0.926       0.903\n",
            "month_8               0.2181      0.463      0.471      0.637      -0.689       1.125\n",
            "month_9               0.5811      0.472      1.230      0.219      -0.345       1.507\n",
            "month_10              0.3984      0.447      0.891      0.373      -0.478       1.275\n",
            "month_11              0.2583      0.445      0.580      0.562      -0.614       1.131\n",
            "month_12              0.2261      0.402      0.563      0.574      -0.561       1.013\n",
            "==============================================================================\n",
            "Omnibus:                       28.969   Durbin-Watson:                   1.819\n",
            "Prob(Omnibus):                  0.000   Jarque-Bera (JB):              216.612\n",
            "Skew:                          -0.480   Prob(JB):                     9.19e-48\n",
            "Kurtosis:                       9.904   Cond. No.                         610.\n",
            "==============================================================================\n",
            "\n",
            "Notes:\n",
            "[1] Standard Errors are heteroscedasticity and autocorrelation robust (HAC) using 4 lags and without small sample correction\n",
            "\n",
            "\n",
            "Results for F30-F39 - Transtornos do humor [afetivos]:\n",
            "                           GLSAR Regression Results                           \n",
            "==============================================================================\n",
            "Dep. Variable:                valores   R-squared:                       0.789\n",
            "Model:                          GLSAR   Adj. R-squared:                  0.746\n",
            "Method:                 Least Squares   F-statistic:                     55.40\n",
            "Date:                sex, 25 abr 2025   Prob (F-statistic):           3.84e-40\n",
            "Time:                        18:34:37   Log-Likelihood:                -16.116\n",
            "No. Observations:                 107   AIC:                             70.23\n",
            "Df Residuals:                      88   BIC:                             121.0\n",
            "Df Model:                          18                                         \n",
            "Covariance Type:                  HAC                                         \n",
            "=====================================================================================\n",
            "                        coef    std err          z      P>|z|      [0.025      0.975]\n",
            "-------------------------------------------------------------------------------------\n",
            "Intercept             4.1222      0.204     20.163      0.000       3.722       4.523\n",
            "periodo               0.0392      0.003     12.097      0.000       0.033       0.045\n",
            "Pandemia_Step         1.6709      0.319      5.236      0.000       1.045       2.296\n",
            "Pandemia_Trend       -0.1776      0.034     -5.154      0.000      -0.245      -0.110\n",
            "Pandemia2_Step       -0.3457      0.202     -1.715      0.086      -0.741       0.049\n",
            "Pandemia2_Trend      -0.0800      0.024     -3.267      0.001      -0.128      -0.032\n",
            "PosPandemia_Step     -1.3389      0.219     -6.104      0.000      -1.769      -0.909\n",
            "PosPandemia_Trend    -0.0454      0.005     -8.292      0.000      -0.056      -0.035\n",
            "month_2               0.0963      0.145      0.664      0.507      -0.188       0.381\n",
            "month_3              -0.1965      0.252     -0.779      0.436      -0.691       0.298\n",
            "month_4               0.0123      0.250      0.049      0.961      -0.478       0.503\n",
            "month_5              -0.1943      0.202     -0.964      0.335      -0.589       0.201\n",
            "month_6              -0.0923      0.194     -0.475      0.635      -0.473       0.289\n",
            "month_7              -0.0698      0.197     -0.354      0.723      -0.456       0.316\n",
            "month_8               0.0303      0.200      0.152      0.880      -0.361       0.422\n",
            "month_9               0.2567      0.199      1.293      0.196      -0.133       0.646\n",
            "month_10              0.2874      0.192      1.501      0.133      -0.088       0.663\n",
            "month_11              0.2373      0.188      1.264      0.206      -0.131       0.605\n",
            "month_12              0.4655      0.181      2.572      0.010       0.111       0.820\n",
            "==============================================================================\n",
            "Omnibus:                       28.809   Durbin-Watson:                   1.911\n",
            "Prob(Omnibus):                  0.000   Jarque-Bera (JB):              246.192\n",
            "Skew:                           0.393   Prob(JB):                     3.47e-54\n",
            "Kurtosis:                      10.389   Cond. No.                         707.\n",
            "==============================================================================\n",
            "\n",
            "Notes:\n",
            "[1] Standard Errors are heteroscedasticity and autocorrelation robust (HAC) using 4 lags and without small sample correction\n",
            "\n",
            "\n",
            "Results for F20-F29 - Esquizofrenia, transtornos esquizotípicos e transtornos delirantes:\n",
            "                           GLSAR Regression Results                           \n",
            "==============================================================================\n",
            "Dep. Variable:                valores   R-squared:                       0.834\n",
            "Model:                          GLSAR   Adj. R-squared:                  0.801\n",
            "Method:                 Least Squares   F-statistic:                     101.0\n",
            "Date:                sex, 25 abr 2025   Prob (F-statistic):           9.04e-51\n",
            "Time:                        18:34:37   Log-Likelihood:                 132.53\n",
            "No. Observations:                 107   AIC:                            -227.1\n",
            "Df Residuals:                      88   BIC:                            -176.3\n",
            "Df Model:                          18                                         \n",
            "Covariance Type:                  HAC                                         \n",
            "=====================================================================================\n",
            "                        coef    std err          z      P>|z|      [0.025      0.975]\n",
            "-------------------------------------------------------------------------------------\n",
            "Intercept             0.8187      0.058     14.191      0.000       0.706       0.932\n",
            "periodo               0.0168      0.001     11.821      0.000       0.014       0.020\n",
            "Pandemia_Step         0.2900      0.068      4.259      0.000       0.157       0.424\n",
            "Pandemia_Trend       -0.0503      0.007     -7.142      0.000      -0.064      -0.037\n",
            "Pandemia2_Step       -0.2933      0.075     -3.891      0.000      -0.441      -0.146\n",
            "Pandemia2_Trend      -0.0188      0.006     -3.130      0.002      -0.031      -0.007\n",
            "PosPandemia_Step     -0.5443      0.093     -5.866      0.000      -0.726      -0.362\n",
            "PosPandemia_Trend    -0.0105      0.002     -4.979      0.000      -0.015      -0.006\n",
            "month_2              -0.0147      0.037     -0.403      0.687      -0.086       0.057\n",
            "month_3              -0.0899      0.050     -1.781      0.075      -0.189       0.009\n",
            "month_4              -0.0769      0.061     -1.254      0.210      -0.197       0.043\n",
            "month_5              -0.0979      0.048     -2.024      0.043      -0.193      -0.003\n",
            "month_6              -0.0552      0.048     -1.148      0.251      -0.150       0.039\n",
            "month_7              -0.0440      0.050     -0.884      0.377      -0.141       0.054\n",
            "month_8              -0.0482      0.047     -1.028      0.304      -0.140       0.044\n",
            "month_9              -0.0201      0.051     -0.396      0.692      -0.120       0.079\n",
            "month_10             -0.0182      0.050     -0.361      0.718      -0.117       0.080\n",
            "month_11             -0.0252      0.045     -0.554      0.580      -0.114       0.064\n",
            "month_12              0.0593      0.040      1.486      0.137      -0.019       0.137\n",
            "==============================================================================\n",
            "Omnibus:                       25.415   Durbin-Watson:                   1.691\n",
            "Prob(Omnibus):                  0.000   Jarque-Bera (JB):              132.872\n",
            "Skew:                           0.513   Prob(JB):                     1.40e-29\n",
            "Kurtosis:                       8.362   Cond. No.                         611.\n",
            "==============================================================================\n",
            "\n",
            "Notes:\n",
            "[1] Standard Errors are heteroscedasticity and autocorrelation robust (HAC) using 4 lags and without small sample correction\n",
            "\n",
            "\n",
            "Results for F00-F09 - Transtornos mentais orgânicos, inclusive os sintomáticos:\n",
            "                           GLSAR Regression Results                           \n",
            "==============================================================================\n",
            "Dep. Variable:                valores   R-squared:                       0.905\n",
            "Model:                          GLSAR   Adj. R-squared:                  0.885\n",
            "Method:                 Least Squares   F-statistic:                     237.1\n",
            "Date:                sex, 25 abr 2025   Prob (F-statistic):           1.76e-66\n",
            "Time:                        18:34:37   Log-Likelihood:                 169.39\n",
            "No. Observations:                 107   AIC:                            -300.8\n",
            "Df Residuals:                      88   BIC:                            -250.0\n",
            "Df Model:                          18                                         \n",
            "Covariance Type:                  HAC                                         \n",
            "=====================================================================================\n",
            "                        coef    std err          z      P>|z|      [0.025      0.975]\n",
            "-------------------------------------------------------------------------------------\n",
            "Intercept             0.5751      0.041     13.891      0.000       0.494       0.656\n",
            "periodo               0.0094      0.001     16.467      0.000       0.008       0.011\n",
            "Pandemia_Step         0.1734      0.050      3.451      0.001       0.075       0.272\n",
            "Pandemia_Trend       -0.0130      0.005     -2.677      0.007      -0.023      -0.003\n",
            "Pandemia2_Step       -0.0414      0.041     -1.016      0.310      -0.121       0.038\n",
            "Pandemia2_Trend      -0.0087      0.005     -1.674      0.094      -0.019       0.001\n",
            "PosPandemia_Step     -0.1213      0.046     -2.643      0.008      -0.211      -0.031\n",
            "PosPandemia_Trend    -0.0071      0.001     -5.889      0.000      -0.009      -0.005\n",
            "month_2               0.0237      0.036      0.662      0.508      -0.047       0.094\n",
            "month_3              -0.0326      0.052     -0.626      0.531      -0.135       0.069\n",
            "month_4              -0.0286      0.046     -0.615      0.539      -0.120       0.062\n",
            "month_5              -0.0354      0.041     -0.863      0.388      -0.116       0.045\n",
            "month_6              -0.0128      0.042     -0.308      0.758      -0.094       0.069\n",
            "month_7               0.0168      0.042      0.399      0.690      -0.066       0.099\n",
            "month_8               0.0306      0.041      0.755      0.450      -0.049       0.110\n",
            "month_9               0.0461      0.042      1.091      0.275      -0.037       0.129\n",
            "month_10              0.0141      0.041      0.346      0.729      -0.066       0.094\n",
            "month_11             -0.0014      0.041     -0.033      0.973      -0.082       0.080\n",
            "month_12              0.0167      0.037      0.446      0.656      -0.057       0.090\n",
            "==============================================================================\n",
            "Omnibus:                       41.389   Durbin-Watson:                   1.879\n",
            "Prob(Omnibus):                  0.000   Jarque-Bera (JB):              306.109\n",
            "Skew:                          -0.960   Prob(JB):                     3.38e-67\n",
            "Kurtosis:                      11.060   Cond. No.                         695.\n",
            "==============================================================================\n",
            "\n",
            "Notes:\n",
            "[1] Standard Errors are heteroscedasticity and autocorrelation robust (HAC) using 4 lags and without small sample correction\n",
            "\n",
            "\n"
          ]
        }
      ],
      "source": [
        "\n",
        "results = variable_processor.results\n",
        "for variable in results:\n",
        "\n",
        "    print(f\"Results for {variable}:\")\n",
        "    result = results[variable]\n",
        "    print(result.summary())\n",
        "    #print(result.summary2())\n",
        "\n",
        "    nob = 107 #### TODO: change to get dinamically\n",
        "    lags = min(20, np.round(nob/4))\n",
        "    residuals = result.resid\n",
        "    #plot_acf(residuals, lags=lags, alpha=0.05)\n",
        "    #plot_pacf(residuals, lags=lags, alpha=0.05, method=\"ols\")  # OLS-based PACF\n",
        "\n",
        "    #plot_residuals_vs_fitted(result, variable)\n",
        "\n",
        "\n",
        "\n",
        "    #print(\"AIC\", result.aic,)  # Akaike Information Criterion\n",
        "    #print(\"BIC\", result.bic,)  # Bayesian Information Criterion\n",
        "\n",
        "    print(\"\\n\")"
      ]
    },
    {
      "cell_type": "markdown",
      "metadata": {
        "id": "AKBeUI39NIXf"
      },
      "source": [
        "# Export Results"
      ]
    },
    {
      "cell_type": "code",
      "execution_count": null,
      "metadata": {
        "id": "IbPhBA4YNIXg"
      },
      "outputs": [],
      "source": [
        "export_results(results,\n",
        "    output_path = LOCAL_OUTPUT_PATH,\n",
        "    processor_args = PROCESSOR_ARGS,\n",
        "    preprocessor_args=PREPROCESSOR_ARGS,\n",
        "    output_gsheet=output_wksheet,\n",
        ")"
      ]
    },
    {
      "cell_type": "markdown",
      "metadata": {
        "id": "WcYnNsL4NIXl"
      },
      "source": [
        "# Evaluation"
      ]
    },
    {
      "cell_type": "code",
      "execution_count": null,
      "metadata": {
        "colab": {
          "base_uri": "https://localhost:8080/"
        },
        "id": "n8c7btmVNIXl",
        "outputId": "9d7604b1-208f-4ce6-eb7c-98c13fbdc78a"
      },
      "outputs": [
        {
          "data": {
            "text/plain": [
              "'\\nbaseline_df = RegressionDF[\\n    (RegressionDF[\\'Step_PosPandemia\\'] == 0)\\n    & ~(RegressionDF[\\'Choque_Inicial\\'] == 1)\\n    &~(RegressionDF[\\'Lockdown_2021\\'] == 1)\\n]\\n\\nbase_line_args = PROCESSOR_ARGS\\nbase_line_args[\\'formula\\'] = BASE_MODEL_FORMULA\\n\\n\\nfrom statsmodels.stats.power import TTestPower\\n\\nfor variable in baseline_df[VARIABLE_COLUMN_NAME].unique():\\n    variable_data = baseline_df[baseline_df[VARIABLE_COLUMN_NAME] == variable].sort_values(by=DATE_NAME)\\n    variable_data = variable_data.reset_index(drop=True)\\n    X = variable_data[INDEPENDENT_VAR]\\n    y = variable_data[DEPENDENT_VAR]\\n\\n    X_std = (X - X.mean()) / X.std()\\n    Y_std = (y - y.mean()) / y.std()\\n\\n    power_test_processor = VariableProcessor(\\n      df=variable_data,\\n      processor_args=base_line_args,\\n      processor=RegressionProcessor,\\n      test_size=0.25,\\n      random_state=42,\\n      evaluate = False,\\n  )\\n    model, _ = power_test_processor.process_variables()\\n\\n    effect_size = model[variable].params[1]  # Coeficiente de X_std\\n    print(f\"{variable}_Effect Size (Cohen\\'s d): {effect_size:.2f}\")\\n\\n\\n    # Parameters\\n    #effect_size = 0.2  # Standardized (e.g., Cohen\\'s d)\\n    alpha = 0.05        # Significance level\\n    nobs = variable_data.shape[0]         # Sample size\\n\\n    # Calculate power\\n    power = TTestPower().power(effect_size, nobs, alpha)\\n    print(f\"Power: {power:.2f}\")  # e.g., 0.67 → 67% chance to detect the effect\\n\\n# Processar baseline\\n\\nbaseline_processor = VariableProcessor(\\n    df=baseline_df,\\n    processor_args=base_line_args,\\n    processor=RegressionProcessor,\\n    test_size=0.25,\\n    random_state=42,\\n    evaluate = True\\n)\\n#_, base_line_evaluation = baseline_processor.process_variables()\\n#base_line_evaluation\\n'"
            ]
          },
          "execution_count": 218,
          "metadata": {},
          "output_type": "execute_result"
        }
      ],
      "source": [
        "'''\n",
        "baseline_df = RegressionDF[\n",
        "    (RegressionDF['Step_PosPandemia'] == 0)\n",
        "    & ~(RegressionDF['Choque_Inicial'] == 1)\n",
        "    &~(RegressionDF['Lockdown_2021'] == 1)\n",
        "]\n",
        "\n",
        "base_line_args = PROCESSOR_ARGS\n",
        "base_line_args['formula'] = BASE_MODEL_FORMULA\n",
        "\n",
        "\n",
        "from statsmodels.stats.power import TTestPower\n",
        "\n",
        "for variable in baseline_df[VARIABLE_COLUMN_NAME].unique():\n",
        "    variable_data = baseline_df[baseline_df[VARIABLE_COLUMN_NAME] == variable].sort_values(by=DATE_NAME)\n",
        "    variable_data = variable_data.reset_index(drop=True)\n",
        "    X = variable_data[INDEPENDENT_VAR]\n",
        "    y = variable_data[DEPENDENT_VAR]\n",
        "\n",
        "    X_std = (X - X.mean()) / X.std()\n",
        "    Y_std = (y - y.mean()) / y.std()\n",
        "\n",
        "    power_test_processor = VariableProcessor(\n",
        "      df=variable_data,\n",
        "      processor_args=base_line_args,\n",
        "      processor=RegressionProcessor,\n",
        "      test_size=0.25,\n",
        "      random_state=42,\n",
        "      evaluate = False,\n",
        "  )\n",
        "    model, _ = power_test_processor.process_variables()\n",
        "\n",
        "    effect_size = model[variable].params[1]  # Coeficiente de X_std\n",
        "    print(f\"{variable}_Effect Size (Cohen's d): {effect_size:.2f}\")\n",
        "\n",
        "\n",
        "    # Parameters\n",
        "    #effect_size = 0.2  # Standardized (e.g., Cohen's d)\n",
        "    alpha = 0.05        # Significance level\n",
        "    nobs = variable_data.shape[0]         # Sample size\n",
        "\n",
        "    # Calculate power\n",
        "    power = TTestPower().power(effect_size, nobs, alpha)\n",
        "    print(f\"Power: {power:.2f}\")  # e.g., 0.67 → 67% chance to detect the effect\n",
        "\n",
        "# Processar baseline\n",
        "\n",
        "baseline_processor = VariableProcessor(\n",
        "    df=baseline_df,\n",
        "    processor_args=base_line_args,\n",
        "    processor=RegressionProcessor,\n",
        "    test_size=0.25,\n",
        "    random_state=42,\n",
        "    evaluate = True\n",
        ")\n",
        "#_, base_line_evaluation = baseline_processor.process_variables()\n",
        "#base_line_evaluation\n",
        "'''\n"
      ]
    },
    {
      "cell_type": "code",
      "execution_count": null,
      "metadata": {
        "colab": {
          "base_uri": "https://localhost:8080/"
        },
        "id": "1ghKgnALNIXl",
        "outputId": "61e40470-407e-4a38-e96f-a08d00734b5f"
      },
      "outputs": [
        {
          "data": {
            "text/plain": [
              "'\\npos_intervention_df = RegressionDF[RegressionDF[\\'Step_PosPandemia\\'] == 1]\\n# Processar pós-intervenção\\npos_intervention_processor = VariableProcessor(\\n    df=pos_intervention_df,\\n    processor_args=PROCESSOR_ARGS,\\n    processor=RegressionProcessor,\\n    test_size=0.2,\\n    random_state=42,\\n    evaluate = True\\n)\\n_, pos_intervention_evaluation = pos_intervention_processor.process_variables()\\n\\npos_intervention_evaluation\\n\\n\\nfor variable, row in pos_intervention_evaluation.iterrows():\\n    print(f\"Results for {variable}:\")\\n    splitted_data = row[\\'splitted_data\\']  # Access the \\'splitted_data\\' column\\n    train_data = splitted_data[\\'train_data\\'].sort_values(by=DATE_NAME)\\n    test_data = splitted_data[\\'test_data\\'].sort_values(by=DATE_NAME)\\n\\n    print(\"Train Data:\")\\n    print(train_data)\\n\\n    print(\"Test Data:\")\\n    print(test_data)\\n\\npos_intervention_evaluation\\n'"
            ]
          },
          "execution_count": 219,
          "metadata": {},
          "output_type": "execute_result"
        }
      ],
      "source": [
        "'''\n",
        "pos_intervention_df = RegressionDF[RegressionDF['Step_PosPandemia'] == 1]\n",
        "# Processar pós-intervenção\n",
        "pos_intervention_processor = VariableProcessor(\n",
        "    df=pos_intervention_df,\n",
        "    processor_args=PROCESSOR_ARGS,\n",
        "    processor=RegressionProcessor,\n",
        "    test_size=0.2,\n",
        "    random_state=42,\n",
        "    evaluate = True\n",
        ")\n",
        "_, pos_intervention_evaluation = pos_intervention_processor.process_variables()\n",
        "\n",
        "pos_intervention_evaluation\n",
        "\n",
        "\n",
        "for variable, row in pos_intervention_evaluation.iterrows():\n",
        "    print(f\"Results for {variable}:\")\n",
        "    splitted_data = row['splitted_data']  # Access the 'splitted_data' column\n",
        "    train_data = splitted_data['train_data'].sort_values(by=DATE_NAME)\n",
        "    test_data = splitted_data['test_data'].sort_values(by=DATE_NAME)\n",
        "\n",
        "    print(\"Train Data:\")\n",
        "    print(train_data)\n",
        "\n",
        "    print(\"Test Data:\")\n",
        "    print(test_data)\n",
        "\n",
        "pos_intervention_evaluation\n",
        "'''"
      ]
    },
    {
      "cell_type": "markdown",
      "metadata": {
        "id": "2IiKsqpaNIXu"
      },
      "source": [
        "# Teste Lags"
      ]
    },
    {
      "cell_type": "code",
      "execution_count": null,
      "metadata": {
        "id": "Av9jOMvjNIXu"
      },
      "outputs": [],
      "source": [
        "#teste_lag\n",
        "from collections import defaultdict\n",
        "import statsmodels.api as sm\n",
        "import statsmodels.formula.api as smf\n",
        "import pandas as pd\n",
        "import statsmodels.stats.api as sms\n",
        "\n",
        "\n",
        "DO_LAG_TEST = False\n",
        "if DO_LAG_TEST:\n",
        "    lags_to_test = [1, 2, 3, 4, 5, 6, 8, 10]\n",
        "    estatisticas_por_lag = defaultdict(dict)\n",
        "\n",
        "    # Adicionar uma variável para armazenar a informação de ACF\n",
        "    acf_values = defaultdict(dict)\n",
        "\n",
        "    for lag in lags_to_test:\n",
        "\n",
        "\n",
        "\n",
        "        processor_args[\"cov_kwargs\"] = {\"maxlags\": lag}\n",
        "\n",
        "        variable_processor = VariableProcessor(\n",
        "            df=RegressionDF,\n",
        "            processor_args=processor_args,\n",
        "            processor=RegressionProcessor\n",
        "        )\n",
        "\n",
        "        variable_processor.process_variables()\n",
        "        results = variable_processor.results\n",
        "\n",
        "        for var, result in results.items():\n",
        "            # extrair estatísticas desejadas\n",
        "            summary_frame = result.summary2().tables[1]  # tabelinha de coeficientes\n",
        "            if \"Trend_PosPandemia\" in summary_frame.index:\n",
        "                trend_stats = summary_frame.loc[\"Trend_PosPandemia\"]\n",
        "                estatisticas_por_lag[lag][var] = {\n",
        "                    \"coef\": trend_stats[\"Coef.\"],\n",
        "                    \"std_err\": trend_stats[\"Std.Err.\"],\n",
        "                    \"p_value\": trend_stats[\"P>|z|\"] if \"P>|z|\" in trend_stats else trend_stats[\"P>|t|\"],\n",
        "                }\n",
        "            else:\n",
        "                estatisticas_por_lag[lag][var] = {\"coef\": None, \"std_err\": None, \"p_value\": None}\n",
        "\n",
        "            # Outras estatísticas: Durbin-Watson, AIC, BIC, R², F-Estatístico, p-valor do modelo\n",
        "            estatisticas_por_lag[lag][var][\"durbin_watson\"] = sm.stats.stattools.durbin_watson(result.resid)\n",
        "            estatisticas_por_lag[lag][var][\"aic\"] = result.aic\n",
        "            estatisticas_por_lag[lag][var][\"bic\"] = result.bic\n",
        "            estatisticas_por_lag[lag][var][\"r_squared\"] = result.rsquared\n",
        "            estatisticas_por_lag[lag][var][\"f_statistic\"] = result.fvalue\n",
        "            estatisticas_por_lag[lag][var][\"p_value_model\"] = result.f_pvalue\n",
        "\n",
        "            # ACF (Autocorrelation Function) dos resíduos\n",
        "            acf_result = sm.tsa.acf(result.resid, nlags=lag, fft=True)\n",
        "            acf_values[lag][var] = acf_result\n",
        "\n",
        "            # Exibir os valores de ACF para verificação\n",
        "            print(f\"Valores da ACF para {var} no lag {lag}: {acf_result}\")\n",
        "\n",
        "            # Ajuste: Registra os lags com autocorrelação positiva maior que 0.1 ou qualquer critério ajustado\n",
        "            acf_significant_lags = [i for i, acf_val in enumerate(acf_result) if abs(acf_val) > 0.1]  # Limite mais relaxado\n",
        "            estatisticas_por_lag[lag][var][\"acf_significant_lags\"] = acf_significant_lags\n",
        "\n",
        "    # Converte o dicionário em uma lista de registros\n",
        "    registros = []\n",
        "    for lag, variaveis in estatisticas_por_lag.items():\n",
        "        for var, stats in variaveis.items():\n",
        "            linha = {\"lag\": lag, \"variavel\": var}\n",
        "            linha.update(stats)\n",
        "            registros.append(linha)\n",
        "\n",
        "    # Cria o DataFrame\n",
        "    df_resultados_lags = pd.DataFrame(registros)\n",
        "\n",
        "    # Ordena para facilitar a visualização\n",
        "    df_resultados_lags.sort_values(by=[\"variavel\", \"lag\"], inplace=True)\n",
        "    #df_resultados_lags.to_csv(\"df_resultados_lags.csv\", sep=';', decimal=',', index=False, encoding='utf-8-sig')\n",
        "    # Exibe os resultados\n",
        "\n"
      ]
    },
    {
      "cell_type": "markdown",
      "metadata": {
        "id": "zH9i6dotzLe5"
      },
      "source": [
        "# Define Hover Graph Func\n"
      ]
    },
    {
      "cell_type": "code",
      "execution_count": null,
      "metadata": {},
      "outputs": [],
      "source": [
        "def plot_with_all_dummies(\n",
        "    variable: str,\n",
        "    variable_df,\n",
        "    results_obj,\n",
        "    exclude_coeffs_by_prefix=None,\n",
        "    plot_individual_effects=False,\n",
        "    line_events=None, # Dict[str, Tuple[start, end, color, show_line]]\n",
        "    slope_coef_str=None \n",
        "):\n",
        "\n",
        "    regression_stats = results_obj.params\n",
        "    variable_df = variable_df.sort_values(by=DATE_NAME).reset_index(drop=True)\n",
        "    dates = variable_df[DATE_NAME].values\n",
        "    real_series = variable_df[DEPENDENT_VAR].values\n",
        "\n",
        "    slope_name = slope_coef_str if slope_coef_str else INDEPENDENT_VAR\n",
        "    intercept = regression_stats.get(\"Intercept\", 0)\n",
        "    slope = regression_stats.get(slope_name, 0)\n",
        "    t = np.arange(len(dates)) + 1\n",
        "    baseline = (intercept + slope * t).astype(float)\n",
        "    full_pred = baseline.copy()\n",
        "\n",
        "    fig = go.Figure()\n",
        "\n",
        "    fig.add_trace(go.Scatter(\n",
        "        x=dates,\n",
        "        y=real_series,\n",
        "        mode='markers',\n",
        "        name='Real',\n",
        "        marker=dict(color='black')\n",
        "    ))\n",
        "\n",
        "    fig.add_trace(go.Scatter(\n",
        "        x=dates,\n",
        "        y=baseline,\n",
        "        mode='lines',\n",
        "        name='Baseline',\n",
        "        line=dict(dash='dot', color='black')\n",
        "    ))\n",
        "\n",
        "    for dummy_name, coef in regression_stats.items():\n",
        "        if dummy_name in {\"Intercept\", INDEPENDENT_VAR}:\n",
        "            continue\n",
        "        if slope_coef_str and dummy_name == slope_coef_str:\n",
        "            continue\n",
        "\n",
        "        if exclude_coeffs_by_prefix and any(dummy_name.startswith(prefix) for prefix in exclude_coeffs_by_prefix):\n",
        "            continue\n",
        "\n",
        "        if dummy_name in variable_df.columns:\n",
        "            dummy_ts = variable_df[dummy_name].values\n",
        "            dummy_effect = coef * dummy_ts\n",
        "            full_pred += dummy_effect\n",
        "\n",
        "            if plot_individual_effects:\n",
        "                fig.add_trace(go.Scatter(\n",
        "                    x=dates,\n",
        "                    y=dummy_effect,\n",
        "                    mode='lines',\n",
        "                    name=f'Effect: {dummy_name}',\n",
        "                    line=dict(dash='dash')\n",
        "                ))\n",
        "\n",
        "    if line_events:\n",
        "        for line_dummy_name, (event_start_date, event_end_date, fillcolor, show_line) in line_events.items():\n",
        "            if fillcolor:\n",
        "                # Sombra para eventos tipo \"pulse\"\n",
        "                fig.add_shape(\n",
        "                    type=\"rect\",\n",
        "                    x0=event_start_date,\n",
        "                    x1=event_end_date,\n",
        "                    y0=0,\n",
        "                    y1=1,\n",
        "                    xref=\"x\",\n",
        "                    yref=\"paper\",\n",
        "                    fillcolor=fillcolor,\n",
        "                    opacity=0.3,\n",
        "                    layer=\"below\",\n",
        "                    line_width=0,\n",
        "                )\n",
        "        \n",
        "            if show_line:\n",
        "                # Linha e anotação para eventos como Pandemia e Pós-Pandemia\n",
        "                fig.add_shape(\n",
        "                    type=\"line\",\n",
        "                    x0=event_start_date,\n",
        "                    x1=event_start_date,\n",
        "                    y0=min(real_series),\n",
        "                    y1=max(real_series),\n",
        "                    line=dict(color=\"black\", dash=\"dash\")\n",
        "                )\n",
        "        \n",
        "                # Anotação deslocada no eixo x\n",
        "                fig.add_annotation(\n",
        "                    x=event_start_date,\n",
        "                    y=max(real_series),\n",
        "                    text=f\"{line_dummy_name}\",\n",
        "                    showarrow=True,\n",
        "                    arrowhead=2,\n",
        "                    ax=30,  # deslocamento lateral\n",
        "                    ay=-40\n",
        "                )\n",
        "\n",
        "    fig.add_trace(go.Scatter(\n",
        "        x=dates,\n",
        "        y=full_pred,\n",
        "        mode='lines',\n",
        "        name='Full model',\n",
        "        line=dict(color='purple')\n",
        "    ))\n",
        "\n",
        "    fig.update_layout(\n",
        "        title=variable,\n",
        "        xaxis_title=\"Time\",\n",
        "        yaxis_title=\"Value\",\n",
        "        legend_title=\"Legend\"\n",
        "    )\n",
        "\n",
        "    fig.show()\n"
      ]
    },
    {
      "cell_type": "markdown",
      "metadata": {
        "id": "deLbYC8XNIX5"
      },
      "source": [
        "# EXEC --- Plot Graph"
      ]
    },
    {
      "cell_type": "code",
      "execution_count": null,
      "metadata": {
        "colab": {
          "base_uri": "https://localhost:8080/",
          "height": 1000
        },
        "id": "5rCs4_ohNIX6",
        "outputId": "73d22374-2176-4616-a44b-3072f8ea7e90"
      },
      "outputs": [
        {
          "data": {
            "application/vnd.plotly.v1+json": {
              "config": {
                "plotlyServerURL": "https://plot.ly"
              },
              "data": [
                {
                  "marker": {
                    "color": "black"
                  },
                  "mode": "markers",
                  "name": "Real",
                  "type": "scatter",
                  "x": [
                    "2016-01-01T00:00:00.000000000",
                    "2016-02-01T00:00:00.000000000",
                    "2016-03-01T00:00:00.000000000",
                    "2016-04-01T00:00:00.000000000",
                    "2016-05-01T00:00:00.000000000",
                    "2016-06-01T00:00:00.000000000",
                    "2016-07-01T00:00:00.000000000",
                    "2016-08-01T00:00:00.000000000",
                    "2016-09-01T00:00:00.000000000",
                    "2016-10-01T00:00:00.000000000",
                    "2016-11-01T00:00:00.000000000",
                    "2016-12-01T00:00:00.000000000",
                    "2017-01-01T00:00:00.000000000",
                    "2017-02-01T00:00:00.000000000",
                    "2017-03-01T00:00:00.000000000",
                    "2017-04-01T00:00:00.000000000",
                    "2017-05-01T00:00:00.000000000",
                    "2017-06-01T00:00:00.000000000",
                    "2017-07-01T00:00:00.000000000",
                    "2017-08-01T00:00:00.000000000",
                    "2017-09-01T00:00:00.000000000",
                    "2017-10-01T00:00:00.000000000",
                    "2017-11-01T00:00:00.000000000",
                    "2017-12-01T00:00:00.000000000",
                    "2018-01-01T00:00:00.000000000",
                    "2018-02-01T00:00:00.000000000",
                    "2018-03-01T00:00:00.000000000",
                    "2018-04-01T00:00:00.000000000",
                    "2018-05-01T00:00:00.000000000",
                    "2018-06-01T00:00:00.000000000",
                    "2018-07-01T00:00:00.000000000",
                    "2018-08-01T00:00:00.000000000",
                    "2018-09-01T00:00:00.000000000",
                    "2018-10-01T00:00:00.000000000",
                    "2018-11-01T00:00:00.000000000",
                    "2018-12-01T00:00:00.000000000",
                    "2019-01-01T00:00:00.000000000",
                    "2019-02-01T00:00:00.000000000",
                    "2019-03-01T00:00:00.000000000",
                    "2019-04-01T00:00:00.000000000",
                    "2019-05-01T00:00:00.000000000",
                    "2019-06-01T00:00:00.000000000",
                    "2019-07-01T00:00:00.000000000",
                    "2019-08-01T00:00:00.000000000",
                    "2019-09-01T00:00:00.000000000",
                    "2019-10-01T00:00:00.000000000",
                    "2019-11-01T00:00:00.000000000",
                    "2019-12-01T00:00:00.000000000",
                    "2020-01-01T00:00:00.000000000",
                    "2020-02-01T00:00:00.000000000",
                    "2020-03-01T00:00:00.000000000",
                    "2020-04-01T00:00:00.000000000",
                    "2020-05-01T00:00:00.000000000",
                    "2020-06-01T00:00:00.000000000",
                    "2020-07-01T00:00:00.000000000",
                    "2020-08-01T00:00:00.000000000",
                    "2020-09-01T00:00:00.000000000",
                    "2020-10-01T00:00:00.000000000",
                    "2020-11-01T00:00:00.000000000",
                    "2020-12-01T00:00:00.000000000",
                    "2021-01-01T00:00:00.000000000",
                    "2021-02-01T00:00:00.000000000",
                    "2021-03-01T00:00:00.000000000",
                    "2021-04-01T00:00:00.000000000",
                    "2021-05-01T00:00:00.000000000",
                    "2021-06-01T00:00:00.000000000",
                    "2021-07-01T00:00:00.000000000",
                    "2021-08-01T00:00:00.000000000",
                    "2021-09-01T00:00:00.000000000",
                    "2021-10-01T00:00:00.000000000",
                    "2021-11-01T00:00:00.000000000",
                    "2021-12-01T00:00:00.000000000",
                    "2022-01-01T00:00:00.000000000",
                    "2022-02-01T00:00:00.000000000",
                    "2022-03-01T00:00:00.000000000",
                    "2022-04-01T00:00:00.000000000",
                    "2022-05-01T00:00:00.000000000",
                    "2022-06-01T00:00:00.000000000",
                    "2022-07-01T00:00:00.000000000",
                    "2022-08-01T00:00:00.000000000",
                    "2022-09-01T00:00:00.000000000",
                    "2022-10-01T00:00:00.000000000",
                    "2022-11-01T00:00:00.000000000",
                    "2022-12-01T00:00:00.000000000",
                    "2023-01-01T00:00:00.000000000",
                    "2023-02-01T00:00:00.000000000",
                    "2023-03-01T00:00:00.000000000",
                    "2023-04-01T00:00:00.000000000",
                    "2023-05-01T00:00:00.000000000",
                    "2023-06-01T00:00:00.000000000",
                    "2023-07-01T00:00:00.000000000",
                    "2023-08-01T00:00:00.000000000",
                    "2023-09-01T00:00:00.000000000",
                    "2023-10-01T00:00:00.000000000",
                    "2023-11-01T00:00:00.000000000",
                    "2023-12-01T00:00:00.000000000",
                    "2024-01-01T00:00:00.000000000",
                    "2024-02-01T00:00:00.000000000",
                    "2024-03-01T00:00:00.000000000",
                    "2024-04-01T00:00:00.000000000",
                    "2024-05-01T00:00:00.000000000",
                    "2024-06-01T00:00:00.000000000",
                    "2024-07-01T00:00:00.000000000",
                    "2024-08-01T00:00:00.000000000",
                    "2024-09-01T00:00:00.000000000",
                    "2024-10-01T00:00:00.000000000",
                    "2024-11-01T00:00:00.000000000",
                    "2024-12-01T00:00:00.000000000"
                  ],
                  "y": [
                    13.491333507280263,
                    12.124306579825205,
                    11.411492827787312,
                    11.492224440694576,
                    11.701410385907677,
                    12.249352739691794,
                    12.56412920101406,
                    12.383132434206999,
                    12.91299528305369,
                    13.405705350250694,
                    13.704459760086426,
                    15.229921390327647,
                    14.118751936001305,
                    13.66692261599855,
                    13.595790478688976,
                    14.088462366107436,
                    13.558489111766301,
                    14.499502173522849,
                    14.322621294924698,
                    14.880335295777416,
                    15.899822277068907,
                    16.830491830823902,
                    16.826766372294138,
                    17.619794655417227,
                    16.87053411847006,
                    17.55021440409405,
                    16.87111187683952,
                    17.079568099894924,
                    16.849241324863495,
                    18.185498943737976,
                    17.781336510017898,
                    18.184054252662456,
                    18.528432957162202,
                    18.809953366681736,
                    18.931695030918835,
                    18.767265184773798,
                    17.5176211263095,
                    18.111987080711273,
                    19.117295660812978,
                    18.36959981997113,
                    18.55053543667368,
                    19.280303074341717,
                    19.963337889755348,
                    21.377673637841006,
                    21.372801357517076,
                    21.401995696464677,
                    21.792718000341456,
                    22.702188875815867,
                    22.434110259324033,
                    22.794440600026245,
                    23.13017004603683,
                    29.61341644766306,
                    27.984817304290043,
                    26.78920706592315,
                    24.73251368707704,
                    24.87299891704095,
                    25.94946930780557,
                    25.396592316724615,
                    25.130832616294782,
                    25.39158093668865,
                    24.433467109907447,
                    24.799845312692558,
                    23.68427453585575,
                    25.048406069920432,
                    23.157465827293702,
                    24.007072687577196,
                    25.400401130010685,
                    26.545137963892543,
                    27.562781466718555,
                    26.742580559278423,
                    26.27204653293438,
                    25.356316252283634,
                    19.272148218264114,
                    24.873580864721994,
                    26.451798691272167,
                    25.702799031052,
                    24.756384487644606,
                    23.93998708412234,
                    24.540505733093376,
                    26.105625142352466,
                    28.75304504122353,
                    27.83063498255684,
                    26.78379709085502,
                    26.747333493339685,
                    29.233691212191097,
                    29.949854981909972,
                    28.256342010204616,
                    27.25784981574385,
                    28.71085074304191,
                    29.374168157961616,
                    30.188317709881826,
                    30.943710777062105,
                    32.32330351676946,
                    31.58874078898992,
                    31.306379228123475,
                    31.295097118475084,
                    32.233346333158345,
                    30.837761193563477,
                    28.299900983147932,
                    28.42021515196115,
                    30.291790219323662,
                    31.58879663001754,
                    32.305180691058,
                    32.582705205154134,
                    32.6182269544765,
                    32.57653368640277,
                    32.44703520981015,
                    32.06729048932365
                  ]
                },
                {
                  "line": {
                    "color": "black",
                    "dash": "dot"
                  },
                  "mode": "lines",
                  "name": "Baseline",
                  "type": "scatter",
                  "x": [
                    "2016-01-01T00:00:00.000000000",
                    "2016-02-01T00:00:00.000000000",
                    "2016-03-01T00:00:00.000000000",
                    "2016-04-01T00:00:00.000000000",
                    "2016-05-01T00:00:00.000000000",
                    "2016-06-01T00:00:00.000000000",
                    "2016-07-01T00:00:00.000000000",
                    "2016-08-01T00:00:00.000000000",
                    "2016-09-01T00:00:00.000000000",
                    "2016-10-01T00:00:00.000000000",
                    "2016-11-01T00:00:00.000000000",
                    "2016-12-01T00:00:00.000000000",
                    "2017-01-01T00:00:00.000000000",
                    "2017-02-01T00:00:00.000000000",
                    "2017-03-01T00:00:00.000000000",
                    "2017-04-01T00:00:00.000000000",
                    "2017-05-01T00:00:00.000000000",
                    "2017-06-01T00:00:00.000000000",
                    "2017-07-01T00:00:00.000000000",
                    "2017-08-01T00:00:00.000000000",
                    "2017-09-01T00:00:00.000000000",
                    "2017-10-01T00:00:00.000000000",
                    "2017-11-01T00:00:00.000000000",
                    "2017-12-01T00:00:00.000000000",
                    "2018-01-01T00:00:00.000000000",
                    "2018-02-01T00:00:00.000000000",
                    "2018-03-01T00:00:00.000000000",
                    "2018-04-01T00:00:00.000000000",
                    "2018-05-01T00:00:00.000000000",
                    "2018-06-01T00:00:00.000000000",
                    "2018-07-01T00:00:00.000000000",
                    "2018-08-01T00:00:00.000000000",
                    "2018-09-01T00:00:00.000000000",
                    "2018-10-01T00:00:00.000000000",
                    "2018-11-01T00:00:00.000000000",
                    "2018-12-01T00:00:00.000000000",
                    "2019-01-01T00:00:00.000000000",
                    "2019-02-01T00:00:00.000000000",
                    "2019-03-01T00:00:00.000000000",
                    "2019-04-01T00:00:00.000000000",
                    "2019-05-01T00:00:00.000000000",
                    "2019-06-01T00:00:00.000000000",
                    "2019-07-01T00:00:00.000000000",
                    "2019-08-01T00:00:00.000000000",
                    "2019-09-01T00:00:00.000000000",
                    "2019-10-01T00:00:00.000000000",
                    "2019-11-01T00:00:00.000000000",
                    "2019-12-01T00:00:00.000000000",
                    "2020-01-01T00:00:00.000000000",
                    "2020-02-01T00:00:00.000000000",
                    "2020-03-01T00:00:00.000000000",
                    "2020-04-01T00:00:00.000000000",
                    "2020-05-01T00:00:00.000000000",
                    "2020-06-01T00:00:00.000000000",
                    "2020-07-01T00:00:00.000000000",
                    "2020-08-01T00:00:00.000000000",
                    "2020-09-01T00:00:00.000000000",
                    "2020-10-01T00:00:00.000000000",
                    "2020-11-01T00:00:00.000000000",
                    "2020-12-01T00:00:00.000000000",
                    "2021-01-01T00:00:00.000000000",
                    "2021-02-01T00:00:00.000000000",
                    "2021-03-01T00:00:00.000000000",
                    "2021-04-01T00:00:00.000000000",
                    "2021-05-01T00:00:00.000000000",
                    "2021-06-01T00:00:00.000000000",
                    "2021-07-01T00:00:00.000000000",
                    "2021-08-01T00:00:00.000000000",
                    "2021-09-01T00:00:00.000000000",
                    "2021-10-01T00:00:00.000000000",
                    "2021-11-01T00:00:00.000000000",
                    "2021-12-01T00:00:00.000000000",
                    "2022-01-01T00:00:00.000000000",
                    "2022-02-01T00:00:00.000000000",
                    "2022-03-01T00:00:00.000000000",
                    "2022-04-01T00:00:00.000000000",
                    "2022-05-01T00:00:00.000000000",
                    "2022-06-01T00:00:00.000000000",
                    "2022-07-01T00:00:00.000000000",
                    "2022-08-01T00:00:00.000000000",
                    "2022-09-01T00:00:00.000000000",
                    "2022-10-01T00:00:00.000000000",
                    "2022-11-01T00:00:00.000000000",
                    "2022-12-01T00:00:00.000000000",
                    "2023-01-01T00:00:00.000000000",
                    "2023-02-01T00:00:00.000000000",
                    "2023-03-01T00:00:00.000000000",
                    "2023-04-01T00:00:00.000000000",
                    "2023-05-01T00:00:00.000000000",
                    "2023-06-01T00:00:00.000000000",
                    "2023-07-01T00:00:00.000000000",
                    "2023-08-01T00:00:00.000000000",
                    "2023-09-01T00:00:00.000000000",
                    "2023-10-01T00:00:00.000000000",
                    "2023-11-01T00:00:00.000000000",
                    "2023-12-01T00:00:00.000000000",
                    "2024-01-01T00:00:00.000000000",
                    "2024-02-01T00:00:00.000000000",
                    "2024-03-01T00:00:00.000000000",
                    "2024-04-01T00:00:00.000000000",
                    "2024-05-01T00:00:00.000000000",
                    "2024-06-01T00:00:00.000000000",
                    "2024-07-01T00:00:00.000000000",
                    "2024-08-01T00:00:00.000000000",
                    "2024-09-01T00:00:00.000000000",
                    "2024-10-01T00:00:00.000000000",
                    "2024-11-01T00:00:00.000000000",
                    "2024-12-01T00:00:00.000000000"
                  ],
                  "y": [
                    10.554519676033811,
                    10.780343715644085,
                    11.006167755254358,
                    11.231991794864634,
                    11.457815834474907,
                    11.68363987408518,
                    11.909463913695454,
                    12.135287953305728,
                    12.361111992916001,
                    12.586936032526275,
                    12.812760072136548,
                    13.038584111746822,
                    13.264408151357095,
                    13.49023219096737,
                    13.716056230577644,
                    13.941880270187918,
                    14.167704309798191,
                    14.393528349408465,
                    14.61935238901874,
                    14.845176428629014,
                    15.071000468239287,
                    15.29682450784956,
                    15.522648547459834,
                    15.748472587070108,
                    15.974296626680381,
                    16.200120666290655,
                    16.42594470590093,
                    16.651768745511202,
                    16.877592785121475,
                    17.103416824731752,
                    17.329240864342026,
                    17.5550649039523,
                    17.780888943562573,
                    18.006712983172847,
                    18.23253702278312,
                    18.458361062393394,
                    18.684185102003667,
                    18.91000914161394,
                    19.135833181224214,
                    19.361657220834488,
                    19.58748126044476,
                    19.813305300055035,
                    20.03912933966531,
                    20.264953379275582,
                    20.490777418885855,
                    20.71660145849613,
                    20.942425498106402,
                    21.168249537716676,
                    21.39407357732695,
                    21.619897616937223,
                    21.845721656547497,
                    22.07154569615777,
                    22.297369735768047,
                    22.52319377537832,
                    22.749017814988594,
                    22.974841854598868,
                    23.20066589420914,
                    23.426489933819415,
                    23.65231397342969,
                    23.878138013039965,
                    24.10396205265024,
                    24.329786092260512,
                    24.555610131870786,
                    24.78143417148106,
                    25.007258211091333,
                    25.233082250701607,
                    25.45890629031188,
                    25.684730329922154,
                    25.910554369532427,
                    26.1363784091427,
                    26.362202448752974,
                    26.588026488363248,
                    26.81385052797352,
                    27.039674567583795,
                    27.26549860719407,
                    27.491322646804342,
                    27.717146686414615,
                    27.94297072602489,
                    28.168794765635162,
                    28.394618805245436,
                    28.62044284485571,
                    28.846266884465983,
                    29.072090924076257,
                    29.29791496368653,
                    29.523739003296804,
                    29.749563042907077,
                    29.97538708251735,
                    30.20121112212763,
                    30.427035161737905,
                    30.65285920134818,
                    30.878683240958452,
                    31.104507280568725,
                    31.330331320179,
                    31.556155359789273,
                    31.781979399399546,
                    32.00780343900982,
                    32.23362747862009,
                    32.45945151823037,
                    32.68527555784064,
                    32.911099597450914,
                    33.13692363706119,
                    33.36274767667146,
                    33.588571716281734,
                    33.81439575589201,
                    34.04021979550228,
                    34.266043835112555,
                    34.49186787472283,
                    34.7176919143331
                  ]
                },
                {
                  "line": {
                    "color": "purple"
                  },
                  "mode": "lines",
                  "name": "Full model",
                  "type": "scatter",
                  "x": [
                    "2016-01-01T00:00:00.000000000",
                    "2016-02-01T00:00:00.000000000",
                    "2016-03-01T00:00:00.000000000",
                    "2016-04-01T00:00:00.000000000",
                    "2016-05-01T00:00:00.000000000",
                    "2016-06-01T00:00:00.000000000",
                    "2016-07-01T00:00:00.000000000",
                    "2016-08-01T00:00:00.000000000",
                    "2016-09-01T00:00:00.000000000",
                    "2016-10-01T00:00:00.000000000",
                    "2016-11-01T00:00:00.000000000",
                    "2016-12-01T00:00:00.000000000",
                    "2017-01-01T00:00:00.000000000",
                    "2017-02-01T00:00:00.000000000",
                    "2017-03-01T00:00:00.000000000",
                    "2017-04-01T00:00:00.000000000",
                    "2017-05-01T00:00:00.000000000",
                    "2017-06-01T00:00:00.000000000",
                    "2017-07-01T00:00:00.000000000",
                    "2017-08-01T00:00:00.000000000",
                    "2017-09-01T00:00:00.000000000",
                    "2017-10-01T00:00:00.000000000",
                    "2017-11-01T00:00:00.000000000",
                    "2017-12-01T00:00:00.000000000",
                    "2018-01-01T00:00:00.000000000",
                    "2018-02-01T00:00:00.000000000",
                    "2018-03-01T00:00:00.000000000",
                    "2018-04-01T00:00:00.000000000",
                    "2018-05-01T00:00:00.000000000",
                    "2018-06-01T00:00:00.000000000",
                    "2018-07-01T00:00:00.000000000",
                    "2018-08-01T00:00:00.000000000",
                    "2018-09-01T00:00:00.000000000",
                    "2018-10-01T00:00:00.000000000",
                    "2018-11-01T00:00:00.000000000",
                    "2018-12-01T00:00:00.000000000",
                    "2019-01-01T00:00:00.000000000",
                    "2019-02-01T00:00:00.000000000",
                    "2019-03-01T00:00:00.000000000",
                    "2019-04-01T00:00:00.000000000",
                    "2019-05-01T00:00:00.000000000",
                    "2019-06-01T00:00:00.000000000",
                    "2019-07-01T00:00:00.000000000",
                    "2019-08-01T00:00:00.000000000",
                    "2019-09-01T00:00:00.000000000",
                    "2019-10-01T00:00:00.000000000",
                    "2019-11-01T00:00:00.000000000",
                    "2019-12-01T00:00:00.000000000",
                    "2020-01-01T00:00:00.000000000",
                    "2020-02-01T00:00:00.000000000",
                    "2020-03-01T00:00:00.000000000",
                    "2020-04-01T00:00:00.000000000",
                    "2020-05-01T00:00:00.000000000",
                    "2020-06-01T00:00:00.000000000",
                    "2020-07-01T00:00:00.000000000",
                    "2020-08-01T00:00:00.000000000",
                    "2020-09-01T00:00:00.000000000",
                    "2020-10-01T00:00:00.000000000",
                    "2020-11-01T00:00:00.000000000",
                    "2020-12-01T00:00:00.000000000",
                    "2021-01-01T00:00:00.000000000",
                    "2021-02-01T00:00:00.000000000",
                    "2021-03-01T00:00:00.000000000",
                    "2021-04-01T00:00:00.000000000",
                    "2021-05-01T00:00:00.000000000",
                    "2021-06-01T00:00:00.000000000",
                    "2021-07-01T00:00:00.000000000",
                    "2021-08-01T00:00:00.000000000",
                    "2021-09-01T00:00:00.000000000",
                    "2021-10-01T00:00:00.000000000",
                    "2021-11-01T00:00:00.000000000",
                    "2021-12-01T00:00:00.000000000",
                    "2022-01-01T00:00:00.000000000",
                    "2022-02-01T00:00:00.000000000",
                    "2022-03-01T00:00:00.000000000",
                    "2022-04-01T00:00:00.000000000",
                    "2022-05-01T00:00:00.000000000",
                    "2022-06-01T00:00:00.000000000",
                    "2022-07-01T00:00:00.000000000",
                    "2022-08-01T00:00:00.000000000",
                    "2022-09-01T00:00:00.000000000",
                    "2022-10-01T00:00:00.000000000",
                    "2022-11-01T00:00:00.000000000",
                    "2022-12-01T00:00:00.000000000",
                    "2023-01-01T00:00:00.000000000",
                    "2023-02-01T00:00:00.000000000",
                    "2023-03-01T00:00:00.000000000",
                    "2023-04-01T00:00:00.000000000",
                    "2023-05-01T00:00:00.000000000",
                    "2023-06-01T00:00:00.000000000",
                    "2023-07-01T00:00:00.000000000",
                    "2023-08-01T00:00:00.000000000",
                    "2023-09-01T00:00:00.000000000",
                    "2023-10-01T00:00:00.000000000",
                    "2023-11-01T00:00:00.000000000",
                    "2023-12-01T00:00:00.000000000",
                    "2024-01-01T00:00:00.000000000",
                    "2024-02-01T00:00:00.000000000",
                    "2024-03-01T00:00:00.000000000",
                    "2024-04-01T00:00:00.000000000",
                    "2024-05-01T00:00:00.000000000",
                    "2024-06-01T00:00:00.000000000",
                    "2024-07-01T00:00:00.000000000",
                    "2024-08-01T00:00:00.000000000",
                    "2024-09-01T00:00:00.000000000",
                    "2024-10-01T00:00:00.000000000",
                    "2024-11-01T00:00:00.000000000",
                    "2024-12-01T00:00:00.000000000"
                  ],
                  "y": [
                    10.554519676033811,
                    10.780343715644085,
                    11.006167755254358,
                    11.231991794864634,
                    11.457815834474907,
                    11.68363987408518,
                    11.909463913695454,
                    12.135287953305728,
                    12.361111992916001,
                    12.586936032526275,
                    12.812760072136548,
                    13.038584111746822,
                    13.264408151357095,
                    13.49023219096737,
                    13.716056230577644,
                    13.941880270187918,
                    14.167704309798191,
                    14.393528349408465,
                    14.61935238901874,
                    14.845176428629014,
                    15.071000468239287,
                    15.29682450784956,
                    15.522648547459834,
                    15.748472587070108,
                    15.974296626680381,
                    16.200120666290655,
                    16.42594470590093,
                    16.651768745511202,
                    16.877592785121475,
                    17.103416824731752,
                    17.329240864342026,
                    17.5550649039523,
                    17.780888943562573,
                    18.006712983172847,
                    18.23253702278312,
                    18.458361062393394,
                    18.684185102003667,
                    18.91000914161394,
                    19.135833181224214,
                    19.361657220834488,
                    19.58748126044476,
                    19.813305300055035,
                    20.03912933966531,
                    20.264953379275582,
                    20.490777418885855,
                    20.71660145849613,
                    20.942425498106402,
                    21.168249537716676,
                    21.39407357732695,
                    21.619897616937223,
                    25.843062951632312,
                    25.689621767338608,
                    25.536180583044903,
                    25.382739398751198,
                    25.229298214457494,
                    25.07585703016379,
                    24.922415845870084,
                    24.76897466157638,
                    24.615533477282675,
                    24.462092292988977,
                    24.308651108695273,
                    24.155209924401568,
                    24.255037672868816,
                    24.310572078746656,
                    24.366106484624492,
                    24.42164089050233,
                    24.47717529638017,
                    24.53270970225801,
                    24.58824410813585,
                    24.643778514013686,
                    24.699312919891526,
                    24.754847325769365,
                    24.810381731647205,
                    24.865916137525044,
                    24.921450543402884,
                    25.239881454726728,
                    25.465042304800868,
                    25.690203154875004,
                    25.915364004949144,
                    26.14052485502328,
                    26.365685705097416,
                    26.590846555171556,
                    26.816007405245692,
                    27.041168255319832,
                    27.266329105393968,
                    27.491489955468104,
                    27.716650805542244,
                    27.941811655616387,
                    28.166972505690524,
                    28.392133355764663,
                    28.6172942058388,
                    28.84245505591294,
                    29.067615905987076,
                    29.292776756061212,
                    29.51793760613535,
                    29.743098456209488,
                    29.968259306283628,
                    30.193420156357764,
                    30.4185810064319,
                    30.64374185650604,
                    30.868902706580176,
                    31.094063556654316,
                    31.319224406728452,
                    31.544385256802588,
                    31.769546106876728,
                    31.994706956950868,
                    32.219867807025004,
                    32.445028657099144
                  ]
                }
              ],
              "layout": {
                "annotations": [
                  {
                    "arrowhead": 2,
                    "ax": 30,
                    "ay": -40,
                    "showarrow": true,
                    "text": "Pandemia",
                    "x": "2020-03-01",
                    "y": 32.6182269544765
                  },
                  {
                    "arrowhead": 2,
                    "ax": 30,
                    "ay": -40,
                    "showarrow": true,
                    "text": "Pos Pandemia",
                    "x": "2022-04-01",
                    "y": 32.6182269544765
                  }
                ],
                "legend": {
                  "title": {
                    "text": "Legend"
                  }
                },
                "shapes": [
                  {
                    "fillcolor": "rgba(0, 0, 0, 0.25)",
                    "layer": "below",
                    "line": {
                      "width": 0
                    },
                    "opacity": 0.3,
                    "type": "rect",
                    "x0": "2020-03-01",
                    "x1": "2020-07-01",
                    "xref": "x",
                    "y0": 0,
                    "y1": 1,
                    "yref": "paper"
                  },
                  {
                    "fillcolor": "rgba(0, 0, 0, 0.25)",
                    "layer": "below",
                    "line": {
                      "width": 0
                    },
                    "opacity": 0.3,
                    "type": "rect",
                    "x0": "2021-04-01",
                    "x1": "2021-05-01",
                    "xref": "x",
                    "y0": 0,
                    "y1": 1,
                    "yref": "paper"
                  },
                  {
                    "line": {
                      "color": "black",
                      "dash": "dash"
                    },
                    "type": "line",
                    "x0": "2020-03-01",
                    "x1": "2020-03-01",
                    "y0": 11.411492827787312,
                    "y1": 32.6182269544765
                  },
                  {
                    "line": {
                      "color": "black",
                      "dash": "dash"
                    },
                    "type": "line",
                    "x0": "2022-04-01",
                    "x1": "2022-04-01",
                    "y0": 11.411492827787312,
                    "y1": 32.6182269544765
                  }
                ],
                "template": {
                  "data": {
                    "bar": [
                      {
                        "error_x": {
                          "color": "#2a3f5f"
                        },
                        "error_y": {
                          "color": "#2a3f5f"
                        },
                        "marker": {
                          "line": {
                            "color": "#E5ECF6",
                            "width": 0.5
                          },
                          "pattern": {
                            "fillmode": "overlay",
                            "size": 10,
                            "solidity": 0.2
                          }
                        },
                        "type": "bar"
                      }
                    ],
                    "barpolar": [
                      {
                        "marker": {
                          "line": {
                            "color": "#E5ECF6",
                            "width": 0.5
                          },
                          "pattern": {
                            "fillmode": "overlay",
                            "size": 10,
                            "solidity": 0.2
                          }
                        },
                        "type": "barpolar"
                      }
                    ],
                    "carpet": [
                      {
                        "aaxis": {
                          "endlinecolor": "#2a3f5f",
                          "gridcolor": "white",
                          "linecolor": "white",
                          "minorgridcolor": "white",
                          "startlinecolor": "#2a3f5f"
                        },
                        "baxis": {
                          "endlinecolor": "#2a3f5f",
                          "gridcolor": "white",
                          "linecolor": "white",
                          "minorgridcolor": "white",
                          "startlinecolor": "#2a3f5f"
                        },
                        "type": "carpet"
                      }
                    ],
                    "choropleth": [
                      {
                        "colorbar": {
                          "outlinewidth": 0,
                          "ticks": ""
                        },
                        "type": "choropleth"
                      }
                    ],
                    "contour": [
                      {
                        "colorbar": {
                          "outlinewidth": 0,
                          "ticks": ""
                        },
                        "colorscale": [
                          [
                            0,
                            "#0d0887"
                          ],
                          [
                            0.1111111111111111,
                            "#46039f"
                          ],
                          [
                            0.2222222222222222,
                            "#7201a8"
                          ],
                          [
                            0.3333333333333333,
                            "#9c179e"
                          ],
                          [
                            0.4444444444444444,
                            "#bd3786"
                          ],
                          [
                            0.5555555555555556,
                            "#d8576b"
                          ],
                          [
                            0.6666666666666666,
                            "#ed7953"
                          ],
                          [
                            0.7777777777777778,
                            "#fb9f3a"
                          ],
                          [
                            0.8888888888888888,
                            "#fdca26"
                          ],
                          [
                            1,
                            "#f0f921"
                          ]
                        ],
                        "type": "contour"
                      }
                    ],
                    "contourcarpet": [
                      {
                        "colorbar": {
                          "outlinewidth": 0,
                          "ticks": ""
                        },
                        "type": "contourcarpet"
                      }
                    ],
                    "heatmap": [
                      {
                        "colorbar": {
                          "outlinewidth": 0,
                          "ticks": ""
                        },
                        "colorscale": [
                          [
                            0,
                            "#0d0887"
                          ],
                          [
                            0.1111111111111111,
                            "#46039f"
                          ],
                          [
                            0.2222222222222222,
                            "#7201a8"
                          ],
                          [
                            0.3333333333333333,
                            "#9c179e"
                          ],
                          [
                            0.4444444444444444,
                            "#bd3786"
                          ],
                          [
                            0.5555555555555556,
                            "#d8576b"
                          ],
                          [
                            0.6666666666666666,
                            "#ed7953"
                          ],
                          [
                            0.7777777777777778,
                            "#fb9f3a"
                          ],
                          [
                            0.8888888888888888,
                            "#fdca26"
                          ],
                          [
                            1,
                            "#f0f921"
                          ]
                        ],
                        "type": "heatmap"
                      }
                    ],
                    "heatmapgl": [
                      {
                        "colorbar": {
                          "outlinewidth": 0,
                          "ticks": ""
                        },
                        "colorscale": [
                          [
                            0,
                            "#0d0887"
                          ],
                          [
                            0.1111111111111111,
                            "#46039f"
                          ],
                          [
                            0.2222222222222222,
                            "#7201a8"
                          ],
                          [
                            0.3333333333333333,
                            "#9c179e"
                          ],
                          [
                            0.4444444444444444,
                            "#bd3786"
                          ],
                          [
                            0.5555555555555556,
                            "#d8576b"
                          ],
                          [
                            0.6666666666666666,
                            "#ed7953"
                          ],
                          [
                            0.7777777777777778,
                            "#fb9f3a"
                          ],
                          [
                            0.8888888888888888,
                            "#fdca26"
                          ],
                          [
                            1,
                            "#f0f921"
                          ]
                        ],
                        "type": "heatmapgl"
                      }
                    ],
                    "histogram": [
                      {
                        "marker": {
                          "pattern": {
                            "fillmode": "overlay",
                            "size": 10,
                            "solidity": 0.2
                          }
                        },
                        "type": "histogram"
                      }
                    ],
                    "histogram2d": [
                      {
                        "colorbar": {
                          "outlinewidth": 0,
                          "ticks": ""
                        },
                        "colorscale": [
                          [
                            0,
                            "#0d0887"
                          ],
                          [
                            0.1111111111111111,
                            "#46039f"
                          ],
                          [
                            0.2222222222222222,
                            "#7201a8"
                          ],
                          [
                            0.3333333333333333,
                            "#9c179e"
                          ],
                          [
                            0.4444444444444444,
                            "#bd3786"
                          ],
                          [
                            0.5555555555555556,
                            "#d8576b"
                          ],
                          [
                            0.6666666666666666,
                            "#ed7953"
                          ],
                          [
                            0.7777777777777778,
                            "#fb9f3a"
                          ],
                          [
                            0.8888888888888888,
                            "#fdca26"
                          ],
                          [
                            1,
                            "#f0f921"
                          ]
                        ],
                        "type": "histogram2d"
                      }
                    ],
                    "histogram2dcontour": [
                      {
                        "colorbar": {
                          "outlinewidth": 0,
                          "ticks": ""
                        },
                        "colorscale": [
                          [
                            0,
                            "#0d0887"
                          ],
                          [
                            0.1111111111111111,
                            "#46039f"
                          ],
                          [
                            0.2222222222222222,
                            "#7201a8"
                          ],
                          [
                            0.3333333333333333,
                            "#9c179e"
                          ],
                          [
                            0.4444444444444444,
                            "#bd3786"
                          ],
                          [
                            0.5555555555555556,
                            "#d8576b"
                          ],
                          [
                            0.6666666666666666,
                            "#ed7953"
                          ],
                          [
                            0.7777777777777778,
                            "#fb9f3a"
                          ],
                          [
                            0.8888888888888888,
                            "#fdca26"
                          ],
                          [
                            1,
                            "#f0f921"
                          ]
                        ],
                        "type": "histogram2dcontour"
                      }
                    ],
                    "mesh3d": [
                      {
                        "colorbar": {
                          "outlinewidth": 0,
                          "ticks": ""
                        },
                        "type": "mesh3d"
                      }
                    ],
                    "parcoords": [
                      {
                        "line": {
                          "colorbar": {
                            "outlinewidth": 0,
                            "ticks": ""
                          }
                        },
                        "type": "parcoords"
                      }
                    ],
                    "pie": [
                      {
                        "automargin": true,
                        "type": "pie"
                      }
                    ],
                    "scatter": [
                      {
                        "fillpattern": {
                          "fillmode": "overlay",
                          "size": 10,
                          "solidity": 0.2
                        },
                        "type": "scatter"
                      }
                    ],
                    "scatter3d": [
                      {
                        "line": {
                          "colorbar": {
                            "outlinewidth": 0,
                            "ticks": ""
                          }
                        },
                        "marker": {
                          "colorbar": {
                            "outlinewidth": 0,
                            "ticks": ""
                          }
                        },
                        "type": "scatter3d"
                      }
                    ],
                    "scattercarpet": [
                      {
                        "marker": {
                          "colorbar": {
                            "outlinewidth": 0,
                            "ticks": ""
                          }
                        },
                        "type": "scattercarpet"
                      }
                    ],
                    "scattergeo": [
                      {
                        "marker": {
                          "colorbar": {
                            "outlinewidth": 0,
                            "ticks": ""
                          }
                        },
                        "type": "scattergeo"
                      }
                    ],
                    "scattergl": [
                      {
                        "marker": {
                          "colorbar": {
                            "outlinewidth": 0,
                            "ticks": ""
                          }
                        },
                        "type": "scattergl"
                      }
                    ],
                    "scattermapbox": [
                      {
                        "marker": {
                          "colorbar": {
                            "outlinewidth": 0,
                            "ticks": ""
                          }
                        },
                        "type": "scattermapbox"
                      }
                    ],
                    "scatterpolar": [
                      {
                        "marker": {
                          "colorbar": {
                            "outlinewidth": 0,
                            "ticks": ""
                          }
                        },
                        "type": "scatterpolar"
                      }
                    ],
                    "scatterpolargl": [
                      {
                        "marker": {
                          "colorbar": {
                            "outlinewidth": 0,
                            "ticks": ""
                          }
                        },
                        "type": "scatterpolargl"
                      }
                    ],
                    "scatterternary": [
                      {
                        "marker": {
                          "colorbar": {
                            "outlinewidth": 0,
                            "ticks": ""
                          }
                        },
                        "type": "scatterternary"
                      }
                    ],
                    "surface": [
                      {
                        "colorbar": {
                          "outlinewidth": 0,
                          "ticks": ""
                        },
                        "colorscale": [
                          [
                            0,
                            "#0d0887"
                          ],
                          [
                            0.1111111111111111,
                            "#46039f"
                          ],
                          [
                            0.2222222222222222,
                            "#7201a8"
                          ],
                          [
                            0.3333333333333333,
                            "#9c179e"
                          ],
                          [
                            0.4444444444444444,
                            "#bd3786"
                          ],
                          [
                            0.5555555555555556,
                            "#d8576b"
                          ],
                          [
                            0.6666666666666666,
                            "#ed7953"
                          ],
                          [
                            0.7777777777777778,
                            "#fb9f3a"
                          ],
                          [
                            0.8888888888888888,
                            "#fdca26"
                          ],
                          [
                            1,
                            "#f0f921"
                          ]
                        ],
                        "type": "surface"
                      }
                    ],
                    "table": [
                      {
                        "cells": {
                          "fill": {
                            "color": "#EBF0F8"
                          },
                          "line": {
                            "color": "white"
                          }
                        },
                        "header": {
                          "fill": {
                            "color": "#C8D4E3"
                          },
                          "line": {
                            "color": "white"
                          }
                        },
                        "type": "table"
                      }
                    ]
                  },
                  "layout": {
                    "annotationdefaults": {
                      "arrowcolor": "#2a3f5f",
                      "arrowhead": 0,
                      "arrowwidth": 1
                    },
                    "autotypenumbers": "strict",
                    "coloraxis": {
                      "colorbar": {
                        "outlinewidth": 0,
                        "ticks": ""
                      }
                    },
                    "colorscale": {
                      "diverging": [
                        [
                          0,
                          "#8e0152"
                        ],
                        [
                          0.1,
                          "#c51b7d"
                        ],
                        [
                          0.2,
                          "#de77ae"
                        ],
                        [
                          0.3,
                          "#f1b6da"
                        ],
                        [
                          0.4,
                          "#fde0ef"
                        ],
                        [
                          0.5,
                          "#f7f7f7"
                        ],
                        [
                          0.6,
                          "#e6f5d0"
                        ],
                        [
                          0.7,
                          "#b8e186"
                        ],
                        [
                          0.8,
                          "#7fbc41"
                        ],
                        [
                          0.9,
                          "#4d9221"
                        ],
                        [
                          1,
                          "#276419"
                        ]
                      ],
                      "sequential": [
                        [
                          0,
                          "#0d0887"
                        ],
                        [
                          0.1111111111111111,
                          "#46039f"
                        ],
                        [
                          0.2222222222222222,
                          "#7201a8"
                        ],
                        [
                          0.3333333333333333,
                          "#9c179e"
                        ],
                        [
                          0.4444444444444444,
                          "#bd3786"
                        ],
                        [
                          0.5555555555555556,
                          "#d8576b"
                        ],
                        [
                          0.6666666666666666,
                          "#ed7953"
                        ],
                        [
                          0.7777777777777778,
                          "#fb9f3a"
                        ],
                        [
                          0.8888888888888888,
                          "#fdca26"
                        ],
                        [
                          1,
                          "#f0f921"
                        ]
                      ],
                      "sequentialminus": [
                        [
                          0,
                          "#0d0887"
                        ],
                        [
                          0.1111111111111111,
                          "#46039f"
                        ],
                        [
                          0.2222222222222222,
                          "#7201a8"
                        ],
                        [
                          0.3333333333333333,
                          "#9c179e"
                        ],
                        [
                          0.4444444444444444,
                          "#bd3786"
                        ],
                        [
                          0.5555555555555556,
                          "#d8576b"
                        ],
                        [
                          0.6666666666666666,
                          "#ed7953"
                        ],
                        [
                          0.7777777777777778,
                          "#fb9f3a"
                        ],
                        [
                          0.8888888888888888,
                          "#fdca26"
                        ],
                        [
                          1,
                          "#f0f921"
                        ]
                      ]
                    },
                    "colorway": [
                      "#636efa",
                      "#EF553B",
                      "#00cc96",
                      "#ab63fa",
                      "#FFA15A",
                      "#19d3f3",
                      "#FF6692",
                      "#B6E880",
                      "#FF97FF",
                      "#FECB52"
                    ],
                    "font": {
                      "color": "#2a3f5f"
                    },
                    "geo": {
                      "bgcolor": "white",
                      "lakecolor": "white",
                      "landcolor": "#E5ECF6",
                      "showlakes": true,
                      "showland": true,
                      "subunitcolor": "white"
                    },
                    "hoverlabel": {
                      "align": "left"
                    },
                    "hovermode": "closest",
                    "mapbox": {
                      "style": "light"
                    },
                    "paper_bgcolor": "white",
                    "plot_bgcolor": "#E5ECF6",
                    "polar": {
                      "angularaxis": {
                        "gridcolor": "white",
                        "linecolor": "white",
                        "ticks": ""
                      },
                      "bgcolor": "#E5ECF6",
                      "radialaxis": {
                        "gridcolor": "white",
                        "linecolor": "white",
                        "ticks": ""
                      }
                    },
                    "scene": {
                      "xaxis": {
                        "backgroundcolor": "#E5ECF6",
                        "gridcolor": "white",
                        "gridwidth": 2,
                        "linecolor": "white",
                        "showbackground": true,
                        "ticks": "",
                        "zerolinecolor": "white"
                      },
                      "yaxis": {
                        "backgroundcolor": "#E5ECF6",
                        "gridcolor": "white",
                        "gridwidth": 2,
                        "linecolor": "white",
                        "showbackground": true,
                        "ticks": "",
                        "zerolinecolor": "white"
                      },
                      "zaxis": {
                        "backgroundcolor": "#E5ECF6",
                        "gridcolor": "white",
                        "gridwidth": 2,
                        "linecolor": "white",
                        "showbackground": true,
                        "ticks": "",
                        "zerolinecolor": "white"
                      }
                    },
                    "shapedefaults": {
                      "line": {
                        "color": "#2a3f5f"
                      }
                    },
                    "ternary": {
                      "aaxis": {
                        "gridcolor": "white",
                        "linecolor": "white",
                        "ticks": ""
                      },
                      "baxis": {
                        "gridcolor": "white",
                        "linecolor": "white",
                        "ticks": ""
                      },
                      "bgcolor": "#E5ECF6",
                      "caxis": {
                        "gridcolor": "white",
                        "linecolor": "white",
                        "ticks": ""
                      }
                    },
                    "title": {
                      "x": 0.05
                    },
                    "xaxis": {
                      "automargin": true,
                      "gridcolor": "white",
                      "linecolor": "white",
                      "ticks": "",
                      "title": {
                        "standoff": 15
                      },
                      "zerolinecolor": "white",
                      "zerolinewidth": 2
                    },
                    "yaxis": {
                      "automargin": true,
                      "gridcolor": "white",
                      "linecolor": "white",
                      "ticks": "",
                      "title": {
                        "standoff": 15
                      },
                      "zerolinecolor": "white",
                      "zerolinewidth": 2
                    }
                  }
                },
                "title": {
                  "text": "Grand Total"
                },
                "xaxis": {
                  "title": {
                    "text": "Time"
                  }
                },
                "yaxis": {
                  "title": {
                    "text": "Value"
                  }
                }
              }
            }
          },
          "metadata": {},
          "output_type": "display_data"
        },
        {
          "data": {
            "application/vnd.plotly.v1+json": {
              "config": {
                "plotlyServerURL": "https://plot.ly"
              },
              "data": [
                {
                  "marker": {
                    "color": "black"
                  },
                  "mode": "markers",
                  "name": "Real",
                  "type": "scatter",
                  "x": [
                    "2016-01-01T00:00:00.000000000",
                    "2016-02-01T00:00:00.000000000",
                    "2016-03-01T00:00:00.000000000",
                    "2016-04-01T00:00:00.000000000",
                    "2016-05-01T00:00:00.000000000",
                    "2016-06-01T00:00:00.000000000",
                    "2016-07-01T00:00:00.000000000",
                    "2016-08-01T00:00:00.000000000",
                    "2016-09-01T00:00:00.000000000",
                    "2016-10-01T00:00:00.000000000",
                    "2016-11-01T00:00:00.000000000",
                    "2016-12-01T00:00:00.000000000",
                    "2017-01-01T00:00:00.000000000",
                    "2017-02-01T00:00:00.000000000",
                    "2017-03-01T00:00:00.000000000",
                    "2017-04-01T00:00:00.000000000",
                    "2017-05-01T00:00:00.000000000",
                    "2017-06-01T00:00:00.000000000",
                    "2017-07-01T00:00:00.000000000",
                    "2017-08-01T00:00:00.000000000",
                    "2017-09-01T00:00:00.000000000",
                    "2017-10-01T00:00:00.000000000",
                    "2017-11-01T00:00:00.000000000",
                    "2017-12-01T00:00:00.000000000",
                    "2018-01-01T00:00:00.000000000",
                    "2018-02-01T00:00:00.000000000",
                    "2018-03-01T00:00:00.000000000",
                    "2018-04-01T00:00:00.000000000",
                    "2018-05-01T00:00:00.000000000",
                    "2018-06-01T00:00:00.000000000",
                    "2018-07-01T00:00:00.000000000",
                    "2018-08-01T00:00:00.000000000",
                    "2018-09-01T00:00:00.000000000",
                    "2018-10-01T00:00:00.000000000",
                    "2018-11-01T00:00:00.000000000",
                    "2018-12-01T00:00:00.000000000",
                    "2019-01-01T00:00:00.000000000",
                    "2019-02-01T00:00:00.000000000",
                    "2019-03-01T00:00:00.000000000",
                    "2019-04-01T00:00:00.000000000",
                    "2019-05-01T00:00:00.000000000",
                    "2019-06-01T00:00:00.000000000",
                    "2019-07-01T00:00:00.000000000",
                    "2019-08-01T00:00:00.000000000",
                    "2019-09-01T00:00:00.000000000",
                    "2019-10-01T00:00:00.000000000",
                    "2019-11-01T00:00:00.000000000",
                    "2019-12-01T00:00:00.000000000",
                    "2020-01-01T00:00:00.000000000",
                    "2020-02-01T00:00:00.000000000",
                    "2020-03-01T00:00:00.000000000",
                    "2020-04-01T00:00:00.000000000",
                    "2020-05-01T00:00:00.000000000",
                    "2020-06-01T00:00:00.000000000",
                    "2020-07-01T00:00:00.000000000",
                    "2020-08-01T00:00:00.000000000",
                    "2020-09-01T00:00:00.000000000",
                    "2020-10-01T00:00:00.000000000",
                    "2020-11-01T00:00:00.000000000",
                    "2020-12-01T00:00:00.000000000",
                    "2021-01-01T00:00:00.000000000",
                    "2021-02-01T00:00:00.000000000",
                    "2021-03-01T00:00:00.000000000",
                    "2021-04-01T00:00:00.000000000",
                    "2021-05-01T00:00:00.000000000",
                    "2021-06-01T00:00:00.000000000",
                    "2021-07-01T00:00:00.000000000",
                    "2021-08-01T00:00:00.000000000",
                    "2021-09-01T00:00:00.000000000",
                    "2021-10-01T00:00:00.000000000",
                    "2021-11-01T00:00:00.000000000",
                    "2021-12-01T00:00:00.000000000",
                    "2022-01-01T00:00:00.000000000",
                    "2022-02-01T00:00:00.000000000",
                    "2022-03-01T00:00:00.000000000",
                    "2022-04-01T00:00:00.000000000",
                    "2022-05-01T00:00:00.000000000",
                    "2022-06-01T00:00:00.000000000",
                    "2022-07-01T00:00:00.000000000",
                    "2022-08-01T00:00:00.000000000",
                    "2022-09-01T00:00:00.000000000",
                    "2022-10-01T00:00:00.000000000",
                    "2022-11-01T00:00:00.000000000",
                    "2022-12-01T00:00:00.000000000",
                    "2023-01-01T00:00:00.000000000",
                    "2023-02-01T00:00:00.000000000",
                    "2023-03-01T00:00:00.000000000",
                    "2023-04-01T00:00:00.000000000",
                    "2023-05-01T00:00:00.000000000",
                    "2023-06-01T00:00:00.000000000",
                    "2023-07-01T00:00:00.000000000",
                    "2023-08-01T00:00:00.000000000",
                    "2023-09-01T00:00:00.000000000",
                    "2023-10-01T00:00:00.000000000",
                    "2023-11-01T00:00:00.000000000",
                    "2023-12-01T00:00:00.000000000",
                    "2024-01-01T00:00:00.000000000",
                    "2024-02-01T00:00:00.000000000",
                    "2024-03-01T00:00:00.000000000",
                    "2024-04-01T00:00:00.000000000",
                    "2024-05-01T00:00:00.000000000",
                    "2024-06-01T00:00:00.000000000",
                    "2024-07-01T00:00:00.000000000",
                    "2024-08-01T00:00:00.000000000",
                    "2024-09-01T00:00:00.000000000",
                    "2024-10-01T00:00:00.000000000",
                    "2024-11-01T00:00:00.000000000",
                    "2024-12-01T00:00:00.000000000"
                  ],
                  "y": [
                    0.3860358515309516,
                    0.30304580831333233,
                    0.31163169885350456,
                    0.2792980297658762,
                    0.293139231947991,
                    0.26625060909983655,
                    0.2998191862353934,
                    0.2898079940152869,
                    0.2936505371590147,
                    0.2492228258316308,
                    0.2741016355180153,
                    0.3169979901716744,
                    0.3594608913408727,
                    0.3218580886278597,
                    0.3430521896635637,
                    0.4004972544187062,
                    0.4253149116821931,
                    0.5151038608587237,
                    0.4095251327470834,
                    0.44834454627018894,
                    0.5320960667503788,
                    0.6057448125113879,
                    0.5282976495899615,
                    0.5311528259468455,
                    0.577994134536663,
                    0.5675123398922499,
                    0.5732987701009943,
                    0.5877247469263085,
                    0.6219417718809022,
                    0.705182142114788,
                    0.6385076392156261,
                    0.5958074371776046,
                    0.6440702849921307,
                    0.561899099685903,
                    0.6306280557571086,
                    0.6691798371733525,
                    0.6819286235675686,
                    0.7144686823334818,
                    0.705035017278209,
                    0.7441088766935534,
                    0.7393932212540703,
                    0.7601328953683436,
                    0.8383716455168081,
                    0.7686641554441407,
                    0.8226944362514877,
                    0.854955696965122,
                    0.9147611302866708,
                    1.003970400670067,
                    1.1085416525717529,
                    1.0473147532521114,
                    1.2247141516817808,
                    1.9232936589998624,
                    1.6725005462212768,
                    1.815338584532049,
                    1.3414554356761443,
                    1.2579228731330616,
                    1.1281888155481952,
                    1.1109392270054066,
                    1.1623108034033631,
                    1.2766220966290411,
                    1.0916591099469555,
                    1.0903611568933793,
                    1.0571066002758094,
                    1.0818189189210465,
                    1.048800734432459,
                    1.0317429639366529,
                    1.1099188332252599,
                    1.0517840630815967,
                    1.1697470805028547,
                    1.114202282379568,
                    1.0670167182171717,
                    1.09064473864775,
                    0.9126072921011208,
                    1.0489065257381374,
                    1.0524083171065977,
                    0.9996213621274799,
                    0.9780630192356167,
                    0.984253713805294,
                    0.9889097537961621,
                    0.951471139400309,
                    1.0092885869412995,
                    1.0175722576200872,
                    1.0280992248702268,
                    1.0678605932067566,
                    1.134267501781408,
                    1.2068575817186789,
                    1.0800977036024815,
                    1.0662098330632277,
                    1.1340827325076743,
                    1.0861993409894397,
                    1.138244956531328,
                    1.1113357161890236,
                    1.1636813415497476,
                    1.0931525240415558,
                    1.1639776691997394,
                    1.1880673441921688,
                    1.1373979930153992,
                    1.0695471047629768,
                    0.9584950779805342,
                    0.9181367732510387,
                    1.0192547350599284,
                    1.0305386265819467,
                    1.0936731673038207,
                    0.9962906952114008,
                    0.9868900952789872,
                    1.0302478806819606,
                    0.9986123909508258,
                    1.0421310559327643
                  ]
                },
                {
                  "line": {
                    "color": "black",
                    "dash": "dot"
                  },
                  "mode": "lines",
                  "name": "Baseline",
                  "type": "scatter",
                  "x": [
                    "2016-01-01T00:00:00.000000000",
                    "2016-02-01T00:00:00.000000000",
                    "2016-03-01T00:00:00.000000000",
                    "2016-04-01T00:00:00.000000000",
                    "2016-05-01T00:00:00.000000000",
                    "2016-06-01T00:00:00.000000000",
                    "2016-07-01T00:00:00.000000000",
                    "2016-08-01T00:00:00.000000000",
                    "2016-09-01T00:00:00.000000000",
                    "2016-10-01T00:00:00.000000000",
                    "2016-11-01T00:00:00.000000000",
                    "2016-12-01T00:00:00.000000000",
                    "2017-01-01T00:00:00.000000000",
                    "2017-02-01T00:00:00.000000000",
                    "2017-03-01T00:00:00.000000000",
                    "2017-04-01T00:00:00.000000000",
                    "2017-05-01T00:00:00.000000000",
                    "2017-06-01T00:00:00.000000000",
                    "2017-07-01T00:00:00.000000000",
                    "2017-08-01T00:00:00.000000000",
                    "2017-09-01T00:00:00.000000000",
                    "2017-10-01T00:00:00.000000000",
                    "2017-11-01T00:00:00.000000000",
                    "2017-12-01T00:00:00.000000000",
                    "2018-01-01T00:00:00.000000000",
                    "2018-02-01T00:00:00.000000000",
                    "2018-03-01T00:00:00.000000000",
                    "2018-04-01T00:00:00.000000000",
                    "2018-05-01T00:00:00.000000000",
                    "2018-06-01T00:00:00.000000000",
                    "2018-07-01T00:00:00.000000000",
                    "2018-08-01T00:00:00.000000000",
                    "2018-09-01T00:00:00.000000000",
                    "2018-10-01T00:00:00.000000000",
                    "2018-11-01T00:00:00.000000000",
                    "2018-12-01T00:00:00.000000000",
                    "2019-01-01T00:00:00.000000000",
                    "2019-02-01T00:00:00.000000000",
                    "2019-03-01T00:00:00.000000000",
                    "2019-04-01T00:00:00.000000000",
                    "2019-05-01T00:00:00.000000000",
                    "2019-06-01T00:00:00.000000000",
                    "2019-07-01T00:00:00.000000000",
                    "2019-08-01T00:00:00.000000000",
                    "2019-09-01T00:00:00.000000000",
                    "2019-10-01T00:00:00.000000000",
                    "2019-11-01T00:00:00.000000000",
                    "2019-12-01T00:00:00.000000000",
                    "2020-01-01T00:00:00.000000000",
                    "2020-02-01T00:00:00.000000000",
                    "2020-03-01T00:00:00.000000000",
                    "2020-04-01T00:00:00.000000000",
                    "2020-05-01T00:00:00.000000000",
                    "2020-06-01T00:00:00.000000000",
                    "2020-07-01T00:00:00.000000000",
                    "2020-08-01T00:00:00.000000000",
                    "2020-09-01T00:00:00.000000000",
                    "2020-10-01T00:00:00.000000000",
                    "2020-11-01T00:00:00.000000000",
                    "2020-12-01T00:00:00.000000000",
                    "2021-01-01T00:00:00.000000000",
                    "2021-02-01T00:00:00.000000000",
                    "2021-03-01T00:00:00.000000000",
                    "2021-04-01T00:00:00.000000000",
                    "2021-05-01T00:00:00.000000000",
                    "2021-06-01T00:00:00.000000000",
                    "2021-07-01T00:00:00.000000000",
                    "2021-08-01T00:00:00.000000000",
                    "2021-09-01T00:00:00.000000000",
                    "2021-10-01T00:00:00.000000000",
                    "2021-11-01T00:00:00.000000000",
                    "2021-12-01T00:00:00.000000000",
                    "2022-01-01T00:00:00.000000000",
                    "2022-02-01T00:00:00.000000000",
                    "2022-03-01T00:00:00.000000000",
                    "2022-04-01T00:00:00.000000000",
                    "2022-05-01T00:00:00.000000000",
                    "2022-06-01T00:00:00.000000000",
                    "2022-07-01T00:00:00.000000000",
                    "2022-08-01T00:00:00.000000000",
                    "2022-09-01T00:00:00.000000000",
                    "2022-10-01T00:00:00.000000000",
                    "2022-11-01T00:00:00.000000000",
                    "2022-12-01T00:00:00.000000000",
                    "2023-01-01T00:00:00.000000000",
                    "2023-02-01T00:00:00.000000000",
                    "2023-03-01T00:00:00.000000000",
                    "2023-04-01T00:00:00.000000000",
                    "2023-05-01T00:00:00.000000000",
                    "2023-06-01T00:00:00.000000000",
                    "2023-07-01T00:00:00.000000000",
                    "2023-08-01T00:00:00.000000000",
                    "2023-09-01T00:00:00.000000000",
                    "2023-10-01T00:00:00.000000000",
                    "2023-11-01T00:00:00.000000000",
                    "2023-12-01T00:00:00.000000000",
                    "2024-01-01T00:00:00.000000000",
                    "2024-02-01T00:00:00.000000000",
                    "2024-03-01T00:00:00.000000000",
                    "2024-04-01T00:00:00.000000000",
                    "2024-05-01T00:00:00.000000000",
                    "2024-06-01T00:00:00.000000000",
                    "2024-07-01T00:00:00.000000000",
                    "2024-08-01T00:00:00.000000000",
                    "2024-09-01T00:00:00.000000000",
                    "2024-10-01T00:00:00.000000000",
                    "2024-11-01T00:00:00.000000000",
                    "2024-12-01T00:00:00.000000000"
                  ],
                  "y": [
                    0.19340813860113368,
                    0.2090216687231593,
                    0.22463519884518496,
                    0.24024872896721058,
                    0.2558622590892362,
                    0.27147578921126186,
                    0.2870893193332875,
                    0.30270284945531317,
                    0.3183163795773388,
                    0.3339299096993644,
                    0.3495434398213901,
                    0.36515696994341573,
                    0.38077050006544133,
                    0.39638403018746704,
                    0.41199756030949264,
                    0.4276110904315183,
                    0.44322462055354395,
                    0.45883815067556954,
                    0.47445168079759525,
                    0.49006521091962085,
                    0.5056787410416465,
                    0.5212922711636722,
                    0.5369058012856978,
                    0.5525193314077235,
                    0.5681328615297491,
                    0.5837463916517747,
                    0.5993599217738004,
                    0.614973451895826,
                    0.6305869820178517,
                    0.6462005121398773,
                    0.6618140422619029,
                    0.6774275723839286,
                    0.6930411025059542,
                    0.7086546326279798,
                    0.7242681627500055,
                    0.7398816928720311,
                    0.7554952229940567,
                    0.7711087531160824,
                    0.786722283238108,
                    0.8023358133601337,
                    0.8179493434821593,
                    0.8335628736041849,
                    0.8491764037262106,
                    0.8647899338482362,
                    0.8804034639702619,
                    0.8960169940922875,
                    0.9116305242143131,
                    0.9272440543363388,
                    0.9428575844583644,
                    0.9584711145803901,
                    0.9740846447024157,
                    0.9896981748244413,
                    1.005311704946467,
                    1.0209252350684928,
                    1.0365387651905182,
                    1.052152295312544,
                    1.0677658254345697,
                    1.0833793555565954,
                    1.0989928856786209,
                    1.1146064158006466,
                    1.1302199459226723,
                    1.1458334760446978,
                    1.1614470061667235,
                    1.1770605362887492,
                    1.1926740664107747,
                    1.2082875965328004,
                    1.223901126654826,
                    1.2395146567768516,
                    1.2551281868988773,
                    1.270741717020903,
                    1.2863552471429285,
                    1.3019687772649542,
                    1.31758230738698,
                    1.3331958375090054,
                    1.348809367631031,
                    1.3644228977530568,
                    1.3800364278750825,
                    1.395649957997108,
                    1.4112634881191337,
                    1.4268770182411594,
                    1.442490548363185,
                    1.4581040784852106,
                    1.4737176086072363,
                    1.4893311387292618,
                    1.5049446688512875,
                    1.5205581989733132,
                    1.5361717290953387,
                    1.5517852592173644,
                    1.5673987893393901,
                    1.5830123194614159,
                    1.5986258495834413,
                    1.614239379705467,
                    1.6298529098274928,
                    1.6454664399495182,
                    1.661079970071544,
                    1.6766935001935697,
                    1.6923070303155952,
                    1.7079205604376209,
                    1.7235340905596466,
                    1.7391476206816723,
                    1.7547611508036978,
                    1.7703746809257235,
                    1.7859882110477492,
                    1.8016017411697747,
                    1.8172152712918004,
                    1.832828801413826,
                    1.8484423315358516,
                    1.8640558616578773
                  ]
                },
                {
                  "line": {
                    "color": "purple"
                  },
                  "mode": "lines",
                  "name": "Full model",
                  "type": "scatter",
                  "x": [
                    "2016-01-01T00:00:00.000000000",
                    "2016-02-01T00:00:00.000000000",
                    "2016-03-01T00:00:00.000000000",
                    "2016-04-01T00:00:00.000000000",
                    "2016-05-01T00:00:00.000000000",
                    "2016-06-01T00:00:00.000000000",
                    "2016-07-01T00:00:00.000000000",
                    "2016-08-01T00:00:00.000000000",
                    "2016-09-01T00:00:00.000000000",
                    "2016-10-01T00:00:00.000000000",
                    "2016-11-01T00:00:00.000000000",
                    "2016-12-01T00:00:00.000000000",
                    "2017-01-01T00:00:00.000000000",
                    "2017-02-01T00:00:00.000000000",
                    "2017-03-01T00:00:00.000000000",
                    "2017-04-01T00:00:00.000000000",
                    "2017-05-01T00:00:00.000000000",
                    "2017-06-01T00:00:00.000000000",
                    "2017-07-01T00:00:00.000000000",
                    "2017-08-01T00:00:00.000000000",
                    "2017-09-01T00:00:00.000000000",
                    "2017-10-01T00:00:00.000000000",
                    "2017-11-01T00:00:00.000000000",
                    "2017-12-01T00:00:00.000000000",
                    "2018-01-01T00:00:00.000000000",
                    "2018-02-01T00:00:00.000000000",
                    "2018-03-01T00:00:00.000000000",
                    "2018-04-01T00:00:00.000000000",
                    "2018-05-01T00:00:00.000000000",
                    "2018-06-01T00:00:00.000000000",
                    "2018-07-01T00:00:00.000000000",
                    "2018-08-01T00:00:00.000000000",
                    "2018-09-01T00:00:00.000000000",
                    "2018-10-01T00:00:00.000000000",
                    "2018-11-01T00:00:00.000000000",
                    "2018-12-01T00:00:00.000000000",
                    "2019-01-01T00:00:00.000000000",
                    "2019-02-01T00:00:00.000000000",
                    "2019-03-01T00:00:00.000000000",
                    "2019-04-01T00:00:00.000000000",
                    "2019-05-01T00:00:00.000000000",
                    "2019-06-01T00:00:00.000000000",
                    "2019-07-01T00:00:00.000000000",
                    "2019-08-01T00:00:00.000000000",
                    "2019-09-01T00:00:00.000000000",
                    "2019-10-01T00:00:00.000000000",
                    "2019-11-01T00:00:00.000000000",
                    "2019-12-01T00:00:00.000000000",
                    "2020-01-01T00:00:00.000000000",
                    "2020-02-01T00:00:00.000000000",
                    "2020-03-01T00:00:00.000000000",
                    "2020-04-01T00:00:00.000000000",
                    "2020-05-01T00:00:00.000000000",
                    "2020-06-01T00:00:00.000000000",
                    "2020-07-01T00:00:00.000000000",
                    "2020-08-01T00:00:00.000000000",
                    "2020-09-01T00:00:00.000000000",
                    "2020-10-01T00:00:00.000000000",
                    "2020-11-01T00:00:00.000000000",
                    "2020-12-01T00:00:00.000000000",
                    "2021-01-01T00:00:00.000000000",
                    "2021-02-01T00:00:00.000000000",
                    "2021-03-01T00:00:00.000000000",
                    "2021-04-01T00:00:00.000000000",
                    "2021-05-01T00:00:00.000000000",
                    "2021-06-01T00:00:00.000000000",
                    "2021-07-01T00:00:00.000000000",
                    "2021-08-01T00:00:00.000000000",
                    "2021-09-01T00:00:00.000000000",
                    "2021-10-01T00:00:00.000000000",
                    "2021-11-01T00:00:00.000000000",
                    "2021-12-01T00:00:00.000000000",
                    "2022-01-01T00:00:00.000000000",
                    "2022-02-01T00:00:00.000000000",
                    "2022-03-01T00:00:00.000000000",
                    "2022-04-01T00:00:00.000000000",
                    "2022-05-01T00:00:00.000000000",
                    "2022-06-01T00:00:00.000000000",
                    "2022-07-01T00:00:00.000000000",
                    "2022-08-01T00:00:00.000000000",
                    "2022-09-01T00:00:00.000000000",
                    "2022-10-01T00:00:00.000000000",
                    "2022-11-01T00:00:00.000000000",
                    "2022-12-01T00:00:00.000000000",
                    "2023-01-01T00:00:00.000000000",
                    "2023-02-01T00:00:00.000000000",
                    "2023-03-01T00:00:00.000000000",
                    "2023-04-01T00:00:00.000000000",
                    "2023-05-01T00:00:00.000000000",
                    "2023-06-01T00:00:00.000000000",
                    "2023-07-01T00:00:00.000000000",
                    "2023-08-01T00:00:00.000000000",
                    "2023-09-01T00:00:00.000000000",
                    "2023-10-01T00:00:00.000000000",
                    "2023-11-01T00:00:00.000000000",
                    "2023-12-01T00:00:00.000000000",
                    "2024-01-01T00:00:00.000000000",
                    "2024-02-01T00:00:00.000000000",
                    "2024-03-01T00:00:00.000000000",
                    "2024-04-01T00:00:00.000000000",
                    "2024-05-01T00:00:00.000000000",
                    "2024-06-01T00:00:00.000000000",
                    "2024-07-01T00:00:00.000000000",
                    "2024-08-01T00:00:00.000000000",
                    "2024-09-01T00:00:00.000000000",
                    "2024-10-01T00:00:00.000000000",
                    "2024-11-01T00:00:00.000000000",
                    "2024-12-01T00:00:00.000000000"
                  ],
                  "y": [
                    0.19340813860113368,
                    0.2090216687231593,
                    0.22463519884518496,
                    0.24024872896721058,
                    0.2558622590892362,
                    0.27147578921126186,
                    0.2870893193332875,
                    0.30270284945531317,
                    0.3183163795773388,
                    0.3339299096993644,
                    0.3495434398213901,
                    0.36515696994341573,
                    0.38077050006544133,
                    0.39638403018746704,
                    0.41199756030949264,
                    0.4276110904315183,
                    0.44322462055354395,
                    0.45883815067556954,
                    0.47445168079759525,
                    0.49006521091962085,
                    0.5056787410416465,
                    0.5212922711636722,
                    0.5369058012856978,
                    0.5525193314077235,
                    0.5681328615297491,
                    0.5837463916517747,
                    0.5993599217738004,
                    0.614973451895826,
                    0.6305869820178517,
                    0.6462005121398773,
                    0.6618140422619029,
                    0.6774275723839286,
                    0.6930411025059542,
                    0.7086546326279798,
                    0.7242681627500055,
                    0.7398816928720311,
                    0.7554952229940567,
                    0.7711087531160824,
                    0.786722283238108,
                    0.8023358133601337,
                    0.8179493434821593,
                    0.8335628736041849,
                    0.8491764037262106,
                    0.8647899338482362,
                    0.8804034639702619,
                    0.8960169940922875,
                    0.9116305242143131,
                    0.9272440543363388,
                    0.9428575844583644,
                    0.9584711145803901,
                    1.6161058545979718,
                    1.5662594545669624,
                    1.5164130545359533,
                    1.4665666545049438,
                    1.4167202544739343,
                    1.3668738544429253,
                    1.3170274544119156,
                    1.2671810543809068,
                    1.217334654349897,
                    1.1674882543188878,
                    1.1176418542878785,
                    1.067795454256869,
                    1.1012682185757023,
                    1.0995078216865775,
                    1.0977474247974526,
                    1.095987027908328,
                    1.094226631019203,
                    1.0924662341300782,
                    1.0907058372409535,
                    1.0889454403518286,
                    1.0871850434627037,
                    1.0854246465735788,
                    1.0836642496844542,
                    1.0819038527953293,
                    1.0801434559062044,
                    1.0602958350751561,
                    1.0609819380159027,
                    1.061668040956649,
                    1.0623541438973956,
                    1.0630402468381424,
                    1.0637263497788887,
                    1.0644124527196352,
                    1.0650985556603818,
                    1.0657846586011281,
                    1.0664707615418747,
                    1.0671568644826213,
                    1.0678429674233676,
                    1.0685290703641142,
                    1.069215173304861,
                    1.0699012762456075,
                    1.0705873791863538,
                    1.0712734821271004,
                    1.071959585067847,
                    1.0726456880085933,
                    1.0733317909493398,
                    1.0740178938900864,
                    1.074703996830833,
                    1.0753900997715795,
                    1.076076202712326,
                    1.0767623056530726,
                    1.077448408593819,
                    1.0781345115345655,
                    1.078820614475312,
                    1.0795067174160584,
                    1.080192820356805,
                    1.0808789232975515,
                    1.081565026238298,
                    1.0822511291790446
                  ]
                }
              ],
              "layout": {
                "annotations": [
                  {
                    "arrowhead": 2,
                    "ax": 30,
                    "ay": -40,
                    "showarrow": true,
                    "text": "Pandemia",
                    "x": "2020-03-01",
                    "y": 1.9232936589998624
                  },
                  {
                    "arrowhead": 2,
                    "ax": 30,
                    "ay": -40,
                    "showarrow": true,
                    "text": "Pos Pandemia",
                    "x": "2022-04-01",
                    "y": 1.9232936589998624
                  }
                ],
                "legend": {
                  "title": {
                    "text": "Legend"
                  }
                },
                "shapes": [
                  {
                    "fillcolor": "rgba(0, 0, 0, 0.25)",
                    "layer": "below",
                    "line": {
                      "width": 0
                    },
                    "opacity": 0.3,
                    "type": "rect",
                    "x0": "2020-03-01",
                    "x1": "2020-07-01",
                    "xref": "x",
                    "y0": 0,
                    "y1": 1,
                    "yref": "paper"
                  },
                  {
                    "fillcolor": "rgba(0, 0, 0, 0.25)",
                    "layer": "below",
                    "line": {
                      "width": 0
                    },
                    "opacity": 0.3,
                    "type": "rect",
                    "x0": "2021-04-01",
                    "x1": "2021-05-01",
                    "xref": "x",
                    "y0": 0,
                    "y1": 1,
                    "yref": "paper"
                  },
                  {
                    "line": {
                      "color": "black",
                      "dash": "dash"
                    },
                    "type": "line",
                    "x0": "2020-03-01",
                    "x1": "2020-03-01",
                    "y0": 0.2492228258316308,
                    "y1": 1.9232936589998624
                  },
                  {
                    "line": {
                      "color": "black",
                      "dash": "dash"
                    },
                    "type": "line",
                    "x0": "2022-04-01",
                    "x1": "2022-04-01",
                    "y0": 0.2492228258316308,
                    "y1": 1.9232936589998624
                  }
                ],
                "template": {
                  "data": {
                    "bar": [
                      {
                        "error_x": {
                          "color": "#2a3f5f"
                        },
                        "error_y": {
                          "color": "#2a3f5f"
                        },
                        "marker": {
                          "line": {
                            "color": "#E5ECF6",
                            "width": 0.5
                          },
                          "pattern": {
                            "fillmode": "overlay",
                            "size": 10,
                            "solidity": 0.2
                          }
                        },
                        "type": "bar"
                      }
                    ],
                    "barpolar": [
                      {
                        "marker": {
                          "line": {
                            "color": "#E5ECF6",
                            "width": 0.5
                          },
                          "pattern": {
                            "fillmode": "overlay",
                            "size": 10,
                            "solidity": 0.2
                          }
                        },
                        "type": "barpolar"
                      }
                    ],
                    "carpet": [
                      {
                        "aaxis": {
                          "endlinecolor": "#2a3f5f",
                          "gridcolor": "white",
                          "linecolor": "white",
                          "minorgridcolor": "white",
                          "startlinecolor": "#2a3f5f"
                        },
                        "baxis": {
                          "endlinecolor": "#2a3f5f",
                          "gridcolor": "white",
                          "linecolor": "white",
                          "minorgridcolor": "white",
                          "startlinecolor": "#2a3f5f"
                        },
                        "type": "carpet"
                      }
                    ],
                    "choropleth": [
                      {
                        "colorbar": {
                          "outlinewidth": 0,
                          "ticks": ""
                        },
                        "type": "choropleth"
                      }
                    ],
                    "contour": [
                      {
                        "colorbar": {
                          "outlinewidth": 0,
                          "ticks": ""
                        },
                        "colorscale": [
                          [
                            0,
                            "#0d0887"
                          ],
                          [
                            0.1111111111111111,
                            "#46039f"
                          ],
                          [
                            0.2222222222222222,
                            "#7201a8"
                          ],
                          [
                            0.3333333333333333,
                            "#9c179e"
                          ],
                          [
                            0.4444444444444444,
                            "#bd3786"
                          ],
                          [
                            0.5555555555555556,
                            "#d8576b"
                          ],
                          [
                            0.6666666666666666,
                            "#ed7953"
                          ],
                          [
                            0.7777777777777778,
                            "#fb9f3a"
                          ],
                          [
                            0.8888888888888888,
                            "#fdca26"
                          ],
                          [
                            1,
                            "#f0f921"
                          ]
                        ],
                        "type": "contour"
                      }
                    ],
                    "contourcarpet": [
                      {
                        "colorbar": {
                          "outlinewidth": 0,
                          "ticks": ""
                        },
                        "type": "contourcarpet"
                      }
                    ],
                    "heatmap": [
                      {
                        "colorbar": {
                          "outlinewidth": 0,
                          "ticks": ""
                        },
                        "colorscale": [
                          [
                            0,
                            "#0d0887"
                          ],
                          [
                            0.1111111111111111,
                            "#46039f"
                          ],
                          [
                            0.2222222222222222,
                            "#7201a8"
                          ],
                          [
                            0.3333333333333333,
                            "#9c179e"
                          ],
                          [
                            0.4444444444444444,
                            "#bd3786"
                          ],
                          [
                            0.5555555555555556,
                            "#d8576b"
                          ],
                          [
                            0.6666666666666666,
                            "#ed7953"
                          ],
                          [
                            0.7777777777777778,
                            "#fb9f3a"
                          ],
                          [
                            0.8888888888888888,
                            "#fdca26"
                          ],
                          [
                            1,
                            "#f0f921"
                          ]
                        ],
                        "type": "heatmap"
                      }
                    ],
                    "heatmapgl": [
                      {
                        "colorbar": {
                          "outlinewidth": 0,
                          "ticks": ""
                        },
                        "colorscale": [
                          [
                            0,
                            "#0d0887"
                          ],
                          [
                            0.1111111111111111,
                            "#46039f"
                          ],
                          [
                            0.2222222222222222,
                            "#7201a8"
                          ],
                          [
                            0.3333333333333333,
                            "#9c179e"
                          ],
                          [
                            0.4444444444444444,
                            "#bd3786"
                          ],
                          [
                            0.5555555555555556,
                            "#d8576b"
                          ],
                          [
                            0.6666666666666666,
                            "#ed7953"
                          ],
                          [
                            0.7777777777777778,
                            "#fb9f3a"
                          ],
                          [
                            0.8888888888888888,
                            "#fdca26"
                          ],
                          [
                            1,
                            "#f0f921"
                          ]
                        ],
                        "type": "heatmapgl"
                      }
                    ],
                    "histogram": [
                      {
                        "marker": {
                          "pattern": {
                            "fillmode": "overlay",
                            "size": 10,
                            "solidity": 0.2
                          }
                        },
                        "type": "histogram"
                      }
                    ],
                    "histogram2d": [
                      {
                        "colorbar": {
                          "outlinewidth": 0,
                          "ticks": ""
                        },
                        "colorscale": [
                          [
                            0,
                            "#0d0887"
                          ],
                          [
                            0.1111111111111111,
                            "#46039f"
                          ],
                          [
                            0.2222222222222222,
                            "#7201a8"
                          ],
                          [
                            0.3333333333333333,
                            "#9c179e"
                          ],
                          [
                            0.4444444444444444,
                            "#bd3786"
                          ],
                          [
                            0.5555555555555556,
                            "#d8576b"
                          ],
                          [
                            0.6666666666666666,
                            "#ed7953"
                          ],
                          [
                            0.7777777777777778,
                            "#fb9f3a"
                          ],
                          [
                            0.8888888888888888,
                            "#fdca26"
                          ],
                          [
                            1,
                            "#f0f921"
                          ]
                        ],
                        "type": "histogram2d"
                      }
                    ],
                    "histogram2dcontour": [
                      {
                        "colorbar": {
                          "outlinewidth": 0,
                          "ticks": ""
                        },
                        "colorscale": [
                          [
                            0,
                            "#0d0887"
                          ],
                          [
                            0.1111111111111111,
                            "#46039f"
                          ],
                          [
                            0.2222222222222222,
                            "#7201a8"
                          ],
                          [
                            0.3333333333333333,
                            "#9c179e"
                          ],
                          [
                            0.4444444444444444,
                            "#bd3786"
                          ],
                          [
                            0.5555555555555556,
                            "#d8576b"
                          ],
                          [
                            0.6666666666666666,
                            "#ed7953"
                          ],
                          [
                            0.7777777777777778,
                            "#fb9f3a"
                          ],
                          [
                            0.8888888888888888,
                            "#fdca26"
                          ],
                          [
                            1,
                            "#f0f921"
                          ]
                        ],
                        "type": "histogram2dcontour"
                      }
                    ],
                    "mesh3d": [
                      {
                        "colorbar": {
                          "outlinewidth": 0,
                          "ticks": ""
                        },
                        "type": "mesh3d"
                      }
                    ],
                    "parcoords": [
                      {
                        "line": {
                          "colorbar": {
                            "outlinewidth": 0,
                            "ticks": ""
                          }
                        },
                        "type": "parcoords"
                      }
                    ],
                    "pie": [
                      {
                        "automargin": true,
                        "type": "pie"
                      }
                    ],
                    "scatter": [
                      {
                        "fillpattern": {
                          "fillmode": "overlay",
                          "size": 10,
                          "solidity": 0.2
                        },
                        "type": "scatter"
                      }
                    ],
                    "scatter3d": [
                      {
                        "line": {
                          "colorbar": {
                            "outlinewidth": 0,
                            "ticks": ""
                          }
                        },
                        "marker": {
                          "colorbar": {
                            "outlinewidth": 0,
                            "ticks": ""
                          }
                        },
                        "type": "scatter3d"
                      }
                    ],
                    "scattercarpet": [
                      {
                        "marker": {
                          "colorbar": {
                            "outlinewidth": 0,
                            "ticks": ""
                          }
                        },
                        "type": "scattercarpet"
                      }
                    ],
                    "scattergeo": [
                      {
                        "marker": {
                          "colorbar": {
                            "outlinewidth": 0,
                            "ticks": ""
                          }
                        },
                        "type": "scattergeo"
                      }
                    ],
                    "scattergl": [
                      {
                        "marker": {
                          "colorbar": {
                            "outlinewidth": 0,
                            "ticks": ""
                          }
                        },
                        "type": "scattergl"
                      }
                    ],
                    "scattermapbox": [
                      {
                        "marker": {
                          "colorbar": {
                            "outlinewidth": 0,
                            "ticks": ""
                          }
                        },
                        "type": "scattermapbox"
                      }
                    ],
                    "scatterpolar": [
                      {
                        "marker": {
                          "colorbar": {
                            "outlinewidth": 0,
                            "ticks": ""
                          }
                        },
                        "type": "scatterpolar"
                      }
                    ],
                    "scatterpolargl": [
                      {
                        "marker": {
                          "colorbar": {
                            "outlinewidth": 0,
                            "ticks": ""
                          }
                        },
                        "type": "scatterpolargl"
                      }
                    ],
                    "scatterternary": [
                      {
                        "marker": {
                          "colorbar": {
                            "outlinewidth": 0,
                            "ticks": ""
                          }
                        },
                        "type": "scatterternary"
                      }
                    ],
                    "surface": [
                      {
                        "colorbar": {
                          "outlinewidth": 0,
                          "ticks": ""
                        },
                        "colorscale": [
                          [
                            0,
                            "#0d0887"
                          ],
                          [
                            0.1111111111111111,
                            "#46039f"
                          ],
                          [
                            0.2222222222222222,
                            "#7201a8"
                          ],
                          [
                            0.3333333333333333,
                            "#9c179e"
                          ],
                          [
                            0.4444444444444444,
                            "#bd3786"
                          ],
                          [
                            0.5555555555555556,
                            "#d8576b"
                          ],
                          [
                            0.6666666666666666,
                            "#ed7953"
                          ],
                          [
                            0.7777777777777778,
                            "#fb9f3a"
                          ],
                          [
                            0.8888888888888888,
                            "#fdca26"
                          ],
                          [
                            1,
                            "#f0f921"
                          ]
                        ],
                        "type": "surface"
                      }
                    ],
                    "table": [
                      {
                        "cells": {
                          "fill": {
                            "color": "#EBF0F8"
                          },
                          "line": {
                            "color": "white"
                          }
                        },
                        "header": {
                          "fill": {
                            "color": "#C8D4E3"
                          },
                          "line": {
                            "color": "white"
                          }
                        },
                        "type": "table"
                      }
                    ]
                  },
                  "layout": {
                    "annotationdefaults": {
                      "arrowcolor": "#2a3f5f",
                      "arrowhead": 0,
                      "arrowwidth": 1
                    },
                    "autotypenumbers": "strict",
                    "coloraxis": {
                      "colorbar": {
                        "outlinewidth": 0,
                        "ticks": ""
                      }
                    },
                    "colorscale": {
                      "diverging": [
                        [
                          0,
                          "#8e0152"
                        ],
                        [
                          0.1,
                          "#c51b7d"
                        ],
                        [
                          0.2,
                          "#de77ae"
                        ],
                        [
                          0.3,
                          "#f1b6da"
                        ],
                        [
                          0.4,
                          "#fde0ef"
                        ],
                        [
                          0.5,
                          "#f7f7f7"
                        ],
                        [
                          0.6,
                          "#e6f5d0"
                        ],
                        [
                          0.7,
                          "#b8e186"
                        ],
                        [
                          0.8,
                          "#7fbc41"
                        ],
                        [
                          0.9,
                          "#4d9221"
                        ],
                        [
                          1,
                          "#276419"
                        ]
                      ],
                      "sequential": [
                        [
                          0,
                          "#0d0887"
                        ],
                        [
                          0.1111111111111111,
                          "#46039f"
                        ],
                        [
                          0.2222222222222222,
                          "#7201a8"
                        ],
                        [
                          0.3333333333333333,
                          "#9c179e"
                        ],
                        [
                          0.4444444444444444,
                          "#bd3786"
                        ],
                        [
                          0.5555555555555556,
                          "#d8576b"
                        ],
                        [
                          0.6666666666666666,
                          "#ed7953"
                        ],
                        [
                          0.7777777777777778,
                          "#fb9f3a"
                        ],
                        [
                          0.8888888888888888,
                          "#fdca26"
                        ],
                        [
                          1,
                          "#f0f921"
                        ]
                      ],
                      "sequentialminus": [
                        [
                          0,
                          "#0d0887"
                        ],
                        [
                          0.1111111111111111,
                          "#46039f"
                        ],
                        [
                          0.2222222222222222,
                          "#7201a8"
                        ],
                        [
                          0.3333333333333333,
                          "#9c179e"
                        ],
                        [
                          0.4444444444444444,
                          "#bd3786"
                        ],
                        [
                          0.5555555555555556,
                          "#d8576b"
                        ],
                        [
                          0.6666666666666666,
                          "#ed7953"
                        ],
                        [
                          0.7777777777777778,
                          "#fb9f3a"
                        ],
                        [
                          0.8888888888888888,
                          "#fdca26"
                        ],
                        [
                          1,
                          "#f0f921"
                        ]
                      ]
                    },
                    "colorway": [
                      "#636efa",
                      "#EF553B",
                      "#00cc96",
                      "#ab63fa",
                      "#FFA15A",
                      "#19d3f3",
                      "#FF6692",
                      "#B6E880",
                      "#FF97FF",
                      "#FECB52"
                    ],
                    "font": {
                      "color": "#2a3f5f"
                    },
                    "geo": {
                      "bgcolor": "white",
                      "lakecolor": "white",
                      "landcolor": "#E5ECF6",
                      "showlakes": true,
                      "showland": true,
                      "subunitcolor": "white"
                    },
                    "hoverlabel": {
                      "align": "left"
                    },
                    "hovermode": "closest",
                    "mapbox": {
                      "style": "light"
                    },
                    "paper_bgcolor": "white",
                    "plot_bgcolor": "#E5ECF6",
                    "polar": {
                      "angularaxis": {
                        "gridcolor": "white",
                        "linecolor": "white",
                        "ticks": ""
                      },
                      "bgcolor": "#E5ECF6",
                      "radialaxis": {
                        "gridcolor": "white",
                        "linecolor": "white",
                        "ticks": ""
                      }
                    },
                    "scene": {
                      "xaxis": {
                        "backgroundcolor": "#E5ECF6",
                        "gridcolor": "white",
                        "gridwidth": 2,
                        "linecolor": "white",
                        "showbackground": true,
                        "ticks": "",
                        "zerolinecolor": "white"
                      },
                      "yaxis": {
                        "backgroundcolor": "#E5ECF6",
                        "gridcolor": "white",
                        "gridwidth": 2,
                        "linecolor": "white",
                        "showbackground": true,
                        "ticks": "",
                        "zerolinecolor": "white"
                      },
                      "zaxis": {
                        "backgroundcolor": "#E5ECF6",
                        "gridcolor": "white",
                        "gridwidth": 2,
                        "linecolor": "white",
                        "showbackground": true,
                        "ticks": "",
                        "zerolinecolor": "white"
                      }
                    },
                    "shapedefaults": {
                      "line": {
                        "color": "#2a3f5f"
                      }
                    },
                    "ternary": {
                      "aaxis": {
                        "gridcolor": "white",
                        "linecolor": "white",
                        "ticks": ""
                      },
                      "baxis": {
                        "gridcolor": "white",
                        "linecolor": "white",
                        "ticks": ""
                      },
                      "bgcolor": "#E5ECF6",
                      "caxis": {
                        "gridcolor": "white",
                        "linecolor": "white",
                        "ticks": ""
                      }
                    },
                    "title": {
                      "x": 0.05
                    },
                    "xaxis": {
                      "automargin": true,
                      "gridcolor": "white",
                      "linecolor": "white",
                      "ticks": "",
                      "title": {
                        "standoff": 15
                      },
                      "zerolinecolor": "white",
                      "zerolinewidth": 2
                    },
                    "yaxis": {
                      "automargin": true,
                      "gridcolor": "white",
                      "linecolor": "white",
                      "ticks": "",
                      "title": {
                        "standoff": 15
                      },
                      "zerolinecolor": "white",
                      "zerolinewidth": 2
                    }
                  }
                },
                "title": {
                  "text": "F99-F99 - Transtorno mental não especificado"
                },
                "xaxis": {
                  "title": {
                    "text": "Time"
                  }
                },
                "yaxis": {
                  "title": {
                    "text": "Value"
                  }
                }
              }
            }
          },
          "metadata": {},
          "output_type": "display_data"
        },
        {
          "data": {
            "application/vnd.plotly.v1+json": {
              "config": {
                "plotlyServerURL": "https://plot.ly"
              },
              "data": [
                {
                  "marker": {
                    "color": "black"
                  },
                  "mode": "markers",
                  "name": "Real",
                  "type": "scatter",
                  "x": [
                    "2016-01-01T00:00:00.000000000",
                    "2016-02-01T00:00:00.000000000",
                    "2016-03-01T00:00:00.000000000",
                    "2016-04-01T00:00:00.000000000",
                    "2016-05-01T00:00:00.000000000",
                    "2016-06-01T00:00:00.000000000",
                    "2016-07-01T00:00:00.000000000",
                    "2016-08-01T00:00:00.000000000",
                    "2016-09-01T00:00:00.000000000",
                    "2016-10-01T00:00:00.000000000",
                    "2016-11-01T00:00:00.000000000",
                    "2016-12-01T00:00:00.000000000",
                    "2017-01-01T00:00:00.000000000",
                    "2017-02-01T00:00:00.000000000",
                    "2017-03-01T00:00:00.000000000",
                    "2017-04-01T00:00:00.000000000",
                    "2017-05-01T00:00:00.000000000",
                    "2017-06-01T00:00:00.000000000",
                    "2017-07-01T00:00:00.000000000",
                    "2017-08-01T00:00:00.000000000",
                    "2017-09-01T00:00:00.000000000",
                    "2017-10-01T00:00:00.000000000",
                    "2017-11-01T00:00:00.000000000",
                    "2017-12-01T00:00:00.000000000",
                    "2018-01-01T00:00:00.000000000",
                    "2018-02-01T00:00:00.000000000",
                    "2018-03-01T00:00:00.000000000",
                    "2018-04-01T00:00:00.000000000",
                    "2018-05-01T00:00:00.000000000",
                    "2018-06-01T00:00:00.000000000",
                    "2018-07-01T00:00:00.000000000",
                    "2018-08-01T00:00:00.000000000",
                    "2018-09-01T00:00:00.000000000",
                    "2018-10-01T00:00:00.000000000",
                    "2018-11-01T00:00:00.000000000",
                    "2018-12-01T00:00:00.000000000",
                    "2019-01-01T00:00:00.000000000",
                    "2019-02-01T00:00:00.000000000",
                    "2019-03-01T00:00:00.000000000",
                    "2019-04-01T00:00:00.000000000",
                    "2019-05-01T00:00:00.000000000",
                    "2019-06-01T00:00:00.000000000",
                    "2019-07-01T00:00:00.000000000",
                    "2019-08-01T00:00:00.000000000",
                    "2019-09-01T00:00:00.000000000",
                    "2019-10-01T00:00:00.000000000",
                    "2019-11-01T00:00:00.000000000",
                    "2019-12-01T00:00:00.000000000",
                    "2020-01-01T00:00:00.000000000",
                    "2020-02-01T00:00:00.000000000",
                    "2020-03-01T00:00:00.000000000",
                    "2020-04-01T00:00:00.000000000",
                    "2020-05-01T00:00:00.000000000",
                    "2020-06-01T00:00:00.000000000",
                    "2020-07-01T00:00:00.000000000",
                    "2020-08-01T00:00:00.000000000",
                    "2020-09-01T00:00:00.000000000",
                    "2020-10-01T00:00:00.000000000",
                    "2020-11-01T00:00:00.000000000",
                    "2020-12-01T00:00:00.000000000",
                    "2021-01-01T00:00:00.000000000",
                    "2021-02-01T00:00:00.000000000",
                    "2021-03-01T00:00:00.000000000",
                    "2021-04-01T00:00:00.000000000",
                    "2021-05-01T00:00:00.000000000",
                    "2021-06-01T00:00:00.000000000",
                    "2021-07-01T00:00:00.000000000",
                    "2021-08-01T00:00:00.000000000",
                    "2021-09-01T00:00:00.000000000",
                    "2021-10-01T00:00:00.000000000",
                    "2021-11-01T00:00:00.000000000",
                    "2021-12-01T00:00:00.000000000",
                    "2022-01-01T00:00:00.000000000",
                    "2022-02-01T00:00:00.000000000",
                    "2022-03-01T00:00:00.000000000",
                    "2022-04-01T00:00:00.000000000",
                    "2022-05-01T00:00:00.000000000",
                    "2022-06-01T00:00:00.000000000",
                    "2022-07-01T00:00:00.000000000",
                    "2022-08-01T00:00:00.000000000",
                    "2022-09-01T00:00:00.000000000",
                    "2022-10-01T00:00:00.000000000",
                    "2022-11-01T00:00:00.000000000",
                    "2022-12-01T00:00:00.000000000",
                    "2023-01-01T00:00:00.000000000",
                    "2023-02-01T00:00:00.000000000",
                    "2023-03-01T00:00:00.000000000",
                    "2023-04-01T00:00:00.000000000",
                    "2023-05-01T00:00:00.000000000",
                    "2023-06-01T00:00:00.000000000",
                    "2023-07-01T00:00:00.000000000",
                    "2023-08-01T00:00:00.000000000",
                    "2023-09-01T00:00:00.000000000",
                    "2023-10-01T00:00:00.000000000",
                    "2023-11-01T00:00:00.000000000",
                    "2023-12-01T00:00:00.000000000",
                    "2024-01-01T00:00:00.000000000",
                    "2024-02-01T00:00:00.000000000",
                    "2024-03-01T00:00:00.000000000",
                    "2024-04-01T00:00:00.000000000",
                    "2024-05-01T00:00:00.000000000",
                    "2024-06-01T00:00:00.000000000",
                    "2024-07-01T00:00:00.000000000",
                    "2024-08-01T00:00:00.000000000",
                    "2024-09-01T00:00:00.000000000",
                    "2024-10-01T00:00:00.000000000",
                    "2024-11-01T00:00:00.000000000",
                    "2024-12-01T00:00:00.000000000"
                  ],
                  "y": [
                    0.7013753954498787,
                    0.695956278268894,
                    0.7037606376112502,
                    0.6715605492778234,
                    0.7332734124758219,
                    0.7352832673233864,
                    0.6618469383902024,
                    0.6890594491611625,
                    0.7354387475328844,
                    0.7761238039691553,
                    0.7578226004677351,
                    0.7899967425819486,
                    0.7395912536945506,
                    0.7011236141162441,
                    0.7686777438261716,
                    0.8354400593237525,
                    0.8036273668172975,
                    0.8429544577958283,
                    0.7983829065653476,
                    0.8777823027259498,
                    0.9457773483183944,
                    0.9976742605028882,
                    0.9921411766914217,
                    0.930492726019594,
                    0.8714354626067102,
                    0.9133728929746461,
                    0.9639413884304375,
                    1.020919334353367,
                    0.9830909904751882,
                    1.0130078903871174,
                    0.9140309739513143,
                    1.0119053013666615,
                    0.9549423399117309,
                    0.9373129660370757,
                    0.9345530320611021,
                    0.8282949834060045,
                    0.7703897482778674,
                    0.8677302578614974,
                    0.9203518159565047,
                    0.9705661421836027,
                    0.9561969839340518,
                    0.9971415570633093,
                    0.9671101869658817,
                    1.0448594566629028,
                    1.0560049593755179,
                    1.032351768193006,
                    1.0265820664703385,
                    0.9432349937640274,
                    0.9249132599726427,
                    1.0421695819409087,
                    0.9459751740944725,
                    0.835870256980242,
                    0.8151426072575567,
                    0.8108091213065068,
                    0.7807823109692679,
                    0.810626944838653,
                    0.9188553061999281,
                    0.9349296700163818,
                    0.8972387619807192,
                    0.8671023334184703,
                    0.8535729095345369,
                    0.9314050240672863,
                    0.8482286250594565,
                    0.9138835089789028,
                    0.8433463813995145,
                    0.8793527555365465,
                    0.9455017180693216,
                    1.0140320047887357,
                    1.0693526038896373,
                    1.0661135954600547,
                    1.0530387195870157,
                    0.9363100271468098,
                    0.6943878415382188,
                    1.0167576846071886,
                    1.1606993855650611,
                    1.141344453367911,
                    1.1522042215393036,
                    1.1092472952924506,
                    1.0595567995920487,
                    1.2206323159190782,
                    1.3570382368017775,
                    1.2723214310815958,
                    1.1685511562551134,
                    1.075299509361688,
                    1.1921193111906867,
                    1.304080965808785,
                    1.3568963024914467,
                    1.3136544009338444,
                    1.4615440531408168,
                    1.538579486687501,
                    1.494022195574812,
                    1.670650216386574,
                    1.745137058193831,
                    1.7351632398405428,
                    1.6636944306219263,
                    1.506003625408597,
                    1.5813899512236407,
                    1.6286316674877357,
                    1.6492748778354704,
                    1.7589718493898232,
                    1.8955375032170227,
                    1.999487236150841,
                    2.008678753540631,
                    2.134644737832868,
                    2.211503220840158,
                    2.182569255132662,
                    2.1151055497021165,
                    1.880227569137918
                  ]
                },
                {
                  "line": {
                    "color": "black",
                    "dash": "dot"
                  },
                  "mode": "lines",
                  "name": "Baseline",
                  "type": "scatter",
                  "x": [
                    "2016-01-01T00:00:00.000000000",
                    "2016-02-01T00:00:00.000000000",
                    "2016-03-01T00:00:00.000000000",
                    "2016-04-01T00:00:00.000000000",
                    "2016-05-01T00:00:00.000000000",
                    "2016-06-01T00:00:00.000000000",
                    "2016-07-01T00:00:00.000000000",
                    "2016-08-01T00:00:00.000000000",
                    "2016-09-01T00:00:00.000000000",
                    "2016-10-01T00:00:00.000000000",
                    "2016-11-01T00:00:00.000000000",
                    "2016-12-01T00:00:00.000000000",
                    "2017-01-01T00:00:00.000000000",
                    "2017-02-01T00:00:00.000000000",
                    "2017-03-01T00:00:00.000000000",
                    "2017-04-01T00:00:00.000000000",
                    "2017-05-01T00:00:00.000000000",
                    "2017-06-01T00:00:00.000000000",
                    "2017-07-01T00:00:00.000000000",
                    "2017-08-01T00:00:00.000000000",
                    "2017-09-01T00:00:00.000000000",
                    "2017-10-01T00:00:00.000000000",
                    "2017-11-01T00:00:00.000000000",
                    "2017-12-01T00:00:00.000000000",
                    "2018-01-01T00:00:00.000000000",
                    "2018-02-01T00:00:00.000000000",
                    "2018-03-01T00:00:00.000000000",
                    "2018-04-01T00:00:00.000000000",
                    "2018-05-01T00:00:00.000000000",
                    "2018-06-01T00:00:00.000000000",
                    "2018-07-01T00:00:00.000000000",
                    "2018-08-01T00:00:00.000000000",
                    "2018-09-01T00:00:00.000000000",
                    "2018-10-01T00:00:00.000000000",
                    "2018-11-01T00:00:00.000000000",
                    "2018-12-01T00:00:00.000000000",
                    "2019-01-01T00:00:00.000000000",
                    "2019-02-01T00:00:00.000000000",
                    "2019-03-01T00:00:00.000000000",
                    "2019-04-01T00:00:00.000000000",
                    "2019-05-01T00:00:00.000000000",
                    "2019-06-01T00:00:00.000000000",
                    "2019-07-01T00:00:00.000000000",
                    "2019-08-01T00:00:00.000000000",
                    "2019-09-01T00:00:00.000000000",
                    "2019-10-01T00:00:00.000000000",
                    "2019-11-01T00:00:00.000000000",
                    "2019-12-01T00:00:00.000000000",
                    "2020-01-01T00:00:00.000000000",
                    "2020-02-01T00:00:00.000000000",
                    "2020-03-01T00:00:00.000000000",
                    "2020-04-01T00:00:00.000000000",
                    "2020-05-01T00:00:00.000000000",
                    "2020-06-01T00:00:00.000000000",
                    "2020-07-01T00:00:00.000000000",
                    "2020-08-01T00:00:00.000000000",
                    "2020-09-01T00:00:00.000000000",
                    "2020-10-01T00:00:00.000000000",
                    "2020-11-01T00:00:00.000000000",
                    "2020-12-01T00:00:00.000000000",
                    "2021-01-01T00:00:00.000000000",
                    "2021-02-01T00:00:00.000000000",
                    "2021-03-01T00:00:00.000000000",
                    "2021-04-01T00:00:00.000000000",
                    "2021-05-01T00:00:00.000000000",
                    "2021-06-01T00:00:00.000000000",
                    "2021-07-01T00:00:00.000000000",
                    "2021-08-01T00:00:00.000000000",
                    "2021-09-01T00:00:00.000000000",
                    "2021-10-01T00:00:00.000000000",
                    "2021-11-01T00:00:00.000000000",
                    "2021-12-01T00:00:00.000000000",
                    "2022-01-01T00:00:00.000000000",
                    "2022-02-01T00:00:00.000000000",
                    "2022-03-01T00:00:00.000000000",
                    "2022-04-01T00:00:00.000000000",
                    "2022-05-01T00:00:00.000000000",
                    "2022-06-01T00:00:00.000000000",
                    "2022-07-01T00:00:00.000000000",
                    "2022-08-01T00:00:00.000000000",
                    "2022-09-01T00:00:00.000000000",
                    "2022-10-01T00:00:00.000000000",
                    "2022-11-01T00:00:00.000000000",
                    "2022-12-01T00:00:00.000000000",
                    "2023-01-01T00:00:00.000000000",
                    "2023-02-01T00:00:00.000000000",
                    "2023-03-01T00:00:00.000000000",
                    "2023-04-01T00:00:00.000000000",
                    "2023-05-01T00:00:00.000000000",
                    "2023-06-01T00:00:00.000000000",
                    "2023-07-01T00:00:00.000000000",
                    "2023-08-01T00:00:00.000000000",
                    "2023-09-01T00:00:00.000000000",
                    "2023-10-01T00:00:00.000000000",
                    "2023-11-01T00:00:00.000000000",
                    "2023-12-01T00:00:00.000000000",
                    "2024-01-01T00:00:00.000000000",
                    "2024-02-01T00:00:00.000000000",
                    "2024-03-01T00:00:00.000000000",
                    "2024-04-01T00:00:00.000000000",
                    "2024-05-01T00:00:00.000000000",
                    "2024-06-01T00:00:00.000000000",
                    "2024-07-01T00:00:00.000000000",
                    "2024-08-01T00:00:00.000000000",
                    "2024-09-01T00:00:00.000000000",
                    "2024-10-01T00:00:00.000000000",
                    "2024-11-01T00:00:00.000000000",
                    "2024-12-01T00:00:00.000000000"
                  ],
                  "y": [
                    0.5587787073100732,
                    0.5659706559085651,
                    0.573162604507057,
                    0.580354553105549,
                    0.5875465017040409,
                    0.5947384503025328,
                    0.6019303989010248,
                    0.6091223474995168,
                    0.6163142960980087,
                    0.6235062446965006,
                    0.6306981932949925,
                    0.6378901418934845,
                    0.6450820904919764,
                    0.6522740390904683,
                    0.6594659876889603,
                    0.6666579362874522,
                    0.6738498848859442,
                    0.6810418334844361,
                    0.6882337820829281,
                    0.69542573068142,
                    0.7026176792799119,
                    0.7098096278784038,
                    0.7170015764768958,
                    0.7241935250753877,
                    0.7313854736738796,
                    0.7385774222723716,
                    0.7457693708708635,
                    0.7529613194693554,
                    0.7601532680678473,
                    0.7673452166663393,
                    0.7745371652648313,
                    0.7817291138633232,
                    0.7889210624618151,
                    0.7961130110603071,
                    0.803304959658799,
                    0.8104969082572909,
                    0.8176888568557829,
                    0.8248808054542749,
                    0.8320727540527668,
                    0.8392647026512587,
                    0.8464566512497507,
                    0.8536485998482426,
                    0.8608405484467345,
                    0.8680324970452264,
                    0.8752244456437184,
                    0.8824163942422103,
                    0.8896083428407022,
                    0.8968002914391942,
                    0.9039922400376861,
                    0.911184188636178,
                    0.9183761372346699,
                    0.9255680858331619,
                    0.9327600344316538,
                    0.9399519830301457,
                    0.9471439316286376,
                    0.9543358802271297,
                    0.9615278288256216,
                    0.9687197774241135,
                    0.9759117260226055,
                    0.9831036746210974,
                    0.9902956232195893,
                    0.9974875718180813,
                    1.0046795204165733,
                    1.0118714690150652,
                    1.0190634176135571,
                    1.026255366212049,
                    1.033447314810541,
                    1.040639263409033,
                    1.0478312120075248,
                    1.0550231606060168,
                    1.0622151092045087,
                    1.0694070578030006,
                    1.0765990064014925,
                    1.0837909549999845,
                    1.0909829035984764,
                    1.0981748521969683,
                    1.1053668007954602,
                    1.1125587493939522,
                    1.119750697992444,
                    1.126942646590936,
                    1.134134595189428,
                    1.1413265437879199,
                    1.1485184923864118,
                    1.1557104409849037,
                    1.1629023895833956,
                    1.1700943381818876,
                    1.1772862867803795,
                    1.1844782353788716,
                    1.1916701839773636,
                    1.1988621325758555,
                    1.2060540811743474,
                    1.2132460297728394,
                    1.2204379783713313,
                    1.2276299269698232,
                    1.2348218755683151,
                    1.242013824166807,
                    1.249205772765299,
                    1.256397721363791,
                    1.263589669962283,
                    1.270781618560775,
                    1.277973567159267,
                    1.2851655157577588,
                    1.2923574643562508,
                    1.2995494129547427,
                    1.3067413615532346,
                    1.3139333101517265,
                    1.3211252587502185,
                    1.3283172073487104
                  ]
                },
                {
                  "line": {
                    "color": "purple"
                  },
                  "mode": "lines",
                  "name": "Full model",
                  "type": "scatter",
                  "x": [
                    "2016-01-01T00:00:00.000000000",
                    "2016-02-01T00:00:00.000000000",
                    "2016-03-01T00:00:00.000000000",
                    "2016-04-01T00:00:00.000000000",
                    "2016-05-01T00:00:00.000000000",
                    "2016-06-01T00:00:00.000000000",
                    "2016-07-01T00:00:00.000000000",
                    "2016-08-01T00:00:00.000000000",
                    "2016-09-01T00:00:00.000000000",
                    "2016-10-01T00:00:00.000000000",
                    "2016-11-01T00:00:00.000000000",
                    "2016-12-01T00:00:00.000000000",
                    "2017-01-01T00:00:00.000000000",
                    "2017-02-01T00:00:00.000000000",
                    "2017-03-01T00:00:00.000000000",
                    "2017-04-01T00:00:00.000000000",
                    "2017-05-01T00:00:00.000000000",
                    "2017-06-01T00:00:00.000000000",
                    "2017-07-01T00:00:00.000000000",
                    "2017-08-01T00:00:00.000000000",
                    "2017-09-01T00:00:00.000000000",
                    "2017-10-01T00:00:00.000000000",
                    "2017-11-01T00:00:00.000000000",
                    "2017-12-01T00:00:00.000000000",
                    "2018-01-01T00:00:00.000000000",
                    "2018-02-01T00:00:00.000000000",
                    "2018-03-01T00:00:00.000000000",
                    "2018-04-01T00:00:00.000000000",
                    "2018-05-01T00:00:00.000000000",
                    "2018-06-01T00:00:00.000000000",
                    "2018-07-01T00:00:00.000000000",
                    "2018-08-01T00:00:00.000000000",
                    "2018-09-01T00:00:00.000000000",
                    "2018-10-01T00:00:00.000000000",
                    "2018-11-01T00:00:00.000000000",
                    "2018-12-01T00:00:00.000000000",
                    "2019-01-01T00:00:00.000000000",
                    "2019-02-01T00:00:00.000000000",
                    "2019-03-01T00:00:00.000000000",
                    "2019-04-01T00:00:00.000000000",
                    "2019-05-01T00:00:00.000000000",
                    "2019-06-01T00:00:00.000000000",
                    "2019-07-01T00:00:00.000000000",
                    "2019-08-01T00:00:00.000000000",
                    "2019-09-01T00:00:00.000000000",
                    "2019-10-01T00:00:00.000000000",
                    "2019-11-01T00:00:00.000000000",
                    "2019-12-01T00:00:00.000000000",
                    "2020-01-01T00:00:00.000000000",
                    "2020-02-01T00:00:00.000000000",
                    "2020-03-01T00:00:00.000000000",
                    "2020-04-01T00:00:00.000000000",
                    "2020-05-01T00:00:00.000000000",
                    "2020-06-01T00:00:00.000000000",
                    "2020-07-01T00:00:00.000000000",
                    "2020-08-01T00:00:00.000000000",
                    "2020-09-01T00:00:00.000000000",
                    "2020-10-01T00:00:00.000000000",
                    "2020-11-01T00:00:00.000000000",
                    "2020-12-01T00:00:00.000000000",
                    "2021-01-01T00:00:00.000000000",
                    "2021-02-01T00:00:00.000000000",
                    "2021-03-01T00:00:00.000000000",
                    "2021-04-01T00:00:00.000000000",
                    "2021-05-01T00:00:00.000000000",
                    "2021-06-01T00:00:00.000000000",
                    "2021-07-01T00:00:00.000000000",
                    "2021-08-01T00:00:00.000000000",
                    "2021-09-01T00:00:00.000000000",
                    "2021-10-01T00:00:00.000000000",
                    "2021-11-01T00:00:00.000000000",
                    "2021-12-01T00:00:00.000000000",
                    "2022-01-01T00:00:00.000000000",
                    "2022-02-01T00:00:00.000000000",
                    "2022-03-01T00:00:00.000000000",
                    "2022-04-01T00:00:00.000000000",
                    "2022-05-01T00:00:00.000000000",
                    "2022-06-01T00:00:00.000000000",
                    "2022-07-01T00:00:00.000000000",
                    "2022-08-01T00:00:00.000000000",
                    "2022-09-01T00:00:00.000000000",
                    "2022-10-01T00:00:00.000000000",
                    "2022-11-01T00:00:00.000000000",
                    "2022-12-01T00:00:00.000000000",
                    "2023-01-01T00:00:00.000000000",
                    "2023-02-01T00:00:00.000000000",
                    "2023-03-01T00:00:00.000000000",
                    "2023-04-01T00:00:00.000000000",
                    "2023-05-01T00:00:00.000000000",
                    "2023-06-01T00:00:00.000000000",
                    "2023-07-01T00:00:00.000000000",
                    "2023-08-01T00:00:00.000000000",
                    "2023-09-01T00:00:00.000000000",
                    "2023-10-01T00:00:00.000000000",
                    "2023-11-01T00:00:00.000000000",
                    "2023-12-01T00:00:00.000000000",
                    "2024-01-01T00:00:00.000000000",
                    "2024-02-01T00:00:00.000000000",
                    "2024-03-01T00:00:00.000000000",
                    "2024-04-01T00:00:00.000000000",
                    "2024-05-01T00:00:00.000000000",
                    "2024-06-01T00:00:00.000000000",
                    "2024-07-01T00:00:00.000000000",
                    "2024-08-01T00:00:00.000000000",
                    "2024-09-01T00:00:00.000000000",
                    "2024-10-01T00:00:00.000000000",
                    "2024-11-01T00:00:00.000000000",
                    "2024-12-01T00:00:00.000000000"
                  ],
                  "y": [
                    0.5587787073100732,
                    0.5659706559085651,
                    0.573162604507057,
                    0.580354553105549,
                    0.5875465017040409,
                    0.5947384503025328,
                    0.6019303989010248,
                    0.6091223474995168,
                    0.6163142960980087,
                    0.6235062446965006,
                    0.6306981932949925,
                    0.6378901418934845,
                    0.6450820904919764,
                    0.6522740390904683,
                    0.6594659876889603,
                    0.6666579362874522,
                    0.6738498848859442,
                    0.6810418334844361,
                    0.6882337820829281,
                    0.69542573068142,
                    0.7026176792799119,
                    0.7098096278784038,
                    0.7170015764768958,
                    0.7241935250753877,
                    0.7313854736738796,
                    0.7385774222723716,
                    0.7457693708708635,
                    0.7529613194693554,
                    0.7601532680678473,
                    0.7673452166663393,
                    0.7745371652648313,
                    0.7817291138633232,
                    0.7889210624618151,
                    0.7961130110603071,
                    0.803304959658799,
                    0.8104969082572909,
                    0.8176888568557829,
                    0.8248808054542749,
                    0.8320727540527668,
                    0.8392647026512587,
                    0.8464566512497507,
                    0.8536485998482426,
                    0.8608405484467345,
                    0.8680324970452264,
                    0.8752244456437184,
                    0.8824163942422103,
                    0.8896083428407022,
                    0.8968002914391942,
                    0.9039922400376861,
                    0.911184188636178,
                    0.7133157616402512,
                    0.7210966596858548,
                    0.7288775577314583,
                    0.7366584557770619,
                    0.7444393538226654,
                    0.752220251868269,
                    0.7600011499138726,
                    0.7677820479594761,
                    0.7755629460050797,
                    0.7833438440506832,
                    0.7911247420962868,
                    0.7989056401418905,
                    0.6878259485361591,
                    0.708814272621117,
                    0.7298025967060748,
                    0.7507909207910326,
                    0.7717792448759905,
                    0.7927675689609484,
                    0.8137558930459062,
                    0.8347442171308641,
                    0.8557325412158219,
                    0.8767208653007798,
                    0.8977091893857376,
                    0.9186975134706955,
                    0.9396858375556534,
                    0.8961349179621693,
                    0.9289498639969729,
                    0.9617648100317764,
                    0.99457975606658,
                    1.0273947021013836,
                    1.0602096481361871,
                    1.0930245941709906,
                    1.1258395402057941,
                    1.1586544862405979,
                    1.1914694322754014,
                    1.2242843783102049,
                    1.2570993243450084,
                    1.2899142703798123,
                    1.3227292164146158,
                    1.3555441624494193,
                    1.3883591084842228,
                    1.4211740545190263,
                    1.45398900055383,
                    1.4868039465886336,
                    1.5196188926234373,
                    1.5524338386582408,
                    1.5852487846930443,
                    1.6180637307278478,
                    1.6508786767626518,
                    1.6836936227974553,
                    1.7165085688322588,
                    1.7493235148670623,
                    1.7821384609018658,
                    1.8149534069366695,
                    1.847768352971473,
                    1.8805832990062767,
                    1.9133982450410802,
                    1.9462131910758838
                  ]
                }
              ],
              "layout": {
                "annotations": [
                  {
                    "arrowhead": 2,
                    "ax": 30,
                    "ay": -40,
                    "showarrow": true,
                    "text": "Pandemia",
                    "x": "2020-03-01",
                    "y": 2.211503220840158
                  },
                  {
                    "arrowhead": 2,
                    "ax": 30,
                    "ay": -40,
                    "showarrow": true,
                    "text": "Pos Pandemia",
                    "x": "2022-04-01",
                    "y": 2.211503220840158
                  }
                ],
                "legend": {
                  "title": {
                    "text": "Legend"
                  }
                },
                "shapes": [
                  {
                    "fillcolor": "rgba(0, 0, 0, 0.25)",
                    "layer": "below",
                    "line": {
                      "width": 0
                    },
                    "opacity": 0.3,
                    "type": "rect",
                    "x0": "2020-03-01",
                    "x1": "2020-07-01",
                    "xref": "x",
                    "y0": 0,
                    "y1": 1,
                    "yref": "paper"
                  },
                  {
                    "fillcolor": "rgba(0, 0, 0, 0.25)",
                    "layer": "below",
                    "line": {
                      "width": 0
                    },
                    "opacity": 0.3,
                    "type": "rect",
                    "x0": "2021-04-01",
                    "x1": "2021-05-01",
                    "xref": "x",
                    "y0": 0,
                    "y1": 1,
                    "yref": "paper"
                  },
                  {
                    "line": {
                      "color": "black",
                      "dash": "dash"
                    },
                    "type": "line",
                    "x0": "2020-03-01",
                    "x1": "2020-03-01",
                    "y0": 0.6618469383902024,
                    "y1": 2.211503220840158
                  },
                  {
                    "line": {
                      "color": "black",
                      "dash": "dash"
                    },
                    "type": "line",
                    "x0": "2022-04-01",
                    "x1": "2022-04-01",
                    "y0": 0.6618469383902024,
                    "y1": 2.211503220840158
                  }
                ],
                "template": {
                  "data": {
                    "bar": [
                      {
                        "error_x": {
                          "color": "#2a3f5f"
                        },
                        "error_y": {
                          "color": "#2a3f5f"
                        },
                        "marker": {
                          "line": {
                            "color": "#E5ECF6",
                            "width": 0.5
                          },
                          "pattern": {
                            "fillmode": "overlay",
                            "size": 10,
                            "solidity": 0.2
                          }
                        },
                        "type": "bar"
                      }
                    ],
                    "barpolar": [
                      {
                        "marker": {
                          "line": {
                            "color": "#E5ECF6",
                            "width": 0.5
                          },
                          "pattern": {
                            "fillmode": "overlay",
                            "size": 10,
                            "solidity": 0.2
                          }
                        },
                        "type": "barpolar"
                      }
                    ],
                    "carpet": [
                      {
                        "aaxis": {
                          "endlinecolor": "#2a3f5f",
                          "gridcolor": "white",
                          "linecolor": "white",
                          "minorgridcolor": "white",
                          "startlinecolor": "#2a3f5f"
                        },
                        "baxis": {
                          "endlinecolor": "#2a3f5f",
                          "gridcolor": "white",
                          "linecolor": "white",
                          "minorgridcolor": "white",
                          "startlinecolor": "#2a3f5f"
                        },
                        "type": "carpet"
                      }
                    ],
                    "choropleth": [
                      {
                        "colorbar": {
                          "outlinewidth": 0,
                          "ticks": ""
                        },
                        "type": "choropleth"
                      }
                    ],
                    "contour": [
                      {
                        "colorbar": {
                          "outlinewidth": 0,
                          "ticks": ""
                        },
                        "colorscale": [
                          [
                            0,
                            "#0d0887"
                          ],
                          [
                            0.1111111111111111,
                            "#46039f"
                          ],
                          [
                            0.2222222222222222,
                            "#7201a8"
                          ],
                          [
                            0.3333333333333333,
                            "#9c179e"
                          ],
                          [
                            0.4444444444444444,
                            "#bd3786"
                          ],
                          [
                            0.5555555555555556,
                            "#d8576b"
                          ],
                          [
                            0.6666666666666666,
                            "#ed7953"
                          ],
                          [
                            0.7777777777777778,
                            "#fb9f3a"
                          ],
                          [
                            0.8888888888888888,
                            "#fdca26"
                          ],
                          [
                            1,
                            "#f0f921"
                          ]
                        ],
                        "type": "contour"
                      }
                    ],
                    "contourcarpet": [
                      {
                        "colorbar": {
                          "outlinewidth": 0,
                          "ticks": ""
                        },
                        "type": "contourcarpet"
                      }
                    ],
                    "heatmap": [
                      {
                        "colorbar": {
                          "outlinewidth": 0,
                          "ticks": ""
                        },
                        "colorscale": [
                          [
                            0,
                            "#0d0887"
                          ],
                          [
                            0.1111111111111111,
                            "#46039f"
                          ],
                          [
                            0.2222222222222222,
                            "#7201a8"
                          ],
                          [
                            0.3333333333333333,
                            "#9c179e"
                          ],
                          [
                            0.4444444444444444,
                            "#bd3786"
                          ],
                          [
                            0.5555555555555556,
                            "#d8576b"
                          ],
                          [
                            0.6666666666666666,
                            "#ed7953"
                          ],
                          [
                            0.7777777777777778,
                            "#fb9f3a"
                          ],
                          [
                            0.8888888888888888,
                            "#fdca26"
                          ],
                          [
                            1,
                            "#f0f921"
                          ]
                        ],
                        "type": "heatmap"
                      }
                    ],
                    "heatmapgl": [
                      {
                        "colorbar": {
                          "outlinewidth": 0,
                          "ticks": ""
                        },
                        "colorscale": [
                          [
                            0,
                            "#0d0887"
                          ],
                          [
                            0.1111111111111111,
                            "#46039f"
                          ],
                          [
                            0.2222222222222222,
                            "#7201a8"
                          ],
                          [
                            0.3333333333333333,
                            "#9c179e"
                          ],
                          [
                            0.4444444444444444,
                            "#bd3786"
                          ],
                          [
                            0.5555555555555556,
                            "#d8576b"
                          ],
                          [
                            0.6666666666666666,
                            "#ed7953"
                          ],
                          [
                            0.7777777777777778,
                            "#fb9f3a"
                          ],
                          [
                            0.8888888888888888,
                            "#fdca26"
                          ],
                          [
                            1,
                            "#f0f921"
                          ]
                        ],
                        "type": "heatmapgl"
                      }
                    ],
                    "histogram": [
                      {
                        "marker": {
                          "pattern": {
                            "fillmode": "overlay",
                            "size": 10,
                            "solidity": 0.2
                          }
                        },
                        "type": "histogram"
                      }
                    ],
                    "histogram2d": [
                      {
                        "colorbar": {
                          "outlinewidth": 0,
                          "ticks": ""
                        },
                        "colorscale": [
                          [
                            0,
                            "#0d0887"
                          ],
                          [
                            0.1111111111111111,
                            "#46039f"
                          ],
                          [
                            0.2222222222222222,
                            "#7201a8"
                          ],
                          [
                            0.3333333333333333,
                            "#9c179e"
                          ],
                          [
                            0.4444444444444444,
                            "#bd3786"
                          ],
                          [
                            0.5555555555555556,
                            "#d8576b"
                          ],
                          [
                            0.6666666666666666,
                            "#ed7953"
                          ],
                          [
                            0.7777777777777778,
                            "#fb9f3a"
                          ],
                          [
                            0.8888888888888888,
                            "#fdca26"
                          ],
                          [
                            1,
                            "#f0f921"
                          ]
                        ],
                        "type": "histogram2d"
                      }
                    ],
                    "histogram2dcontour": [
                      {
                        "colorbar": {
                          "outlinewidth": 0,
                          "ticks": ""
                        },
                        "colorscale": [
                          [
                            0,
                            "#0d0887"
                          ],
                          [
                            0.1111111111111111,
                            "#46039f"
                          ],
                          [
                            0.2222222222222222,
                            "#7201a8"
                          ],
                          [
                            0.3333333333333333,
                            "#9c179e"
                          ],
                          [
                            0.4444444444444444,
                            "#bd3786"
                          ],
                          [
                            0.5555555555555556,
                            "#d8576b"
                          ],
                          [
                            0.6666666666666666,
                            "#ed7953"
                          ],
                          [
                            0.7777777777777778,
                            "#fb9f3a"
                          ],
                          [
                            0.8888888888888888,
                            "#fdca26"
                          ],
                          [
                            1,
                            "#f0f921"
                          ]
                        ],
                        "type": "histogram2dcontour"
                      }
                    ],
                    "mesh3d": [
                      {
                        "colorbar": {
                          "outlinewidth": 0,
                          "ticks": ""
                        },
                        "type": "mesh3d"
                      }
                    ],
                    "parcoords": [
                      {
                        "line": {
                          "colorbar": {
                            "outlinewidth": 0,
                            "ticks": ""
                          }
                        },
                        "type": "parcoords"
                      }
                    ],
                    "pie": [
                      {
                        "automargin": true,
                        "type": "pie"
                      }
                    ],
                    "scatter": [
                      {
                        "fillpattern": {
                          "fillmode": "overlay",
                          "size": 10,
                          "solidity": 0.2
                        },
                        "type": "scatter"
                      }
                    ],
                    "scatter3d": [
                      {
                        "line": {
                          "colorbar": {
                            "outlinewidth": 0,
                            "ticks": ""
                          }
                        },
                        "marker": {
                          "colorbar": {
                            "outlinewidth": 0,
                            "ticks": ""
                          }
                        },
                        "type": "scatter3d"
                      }
                    ],
                    "scattercarpet": [
                      {
                        "marker": {
                          "colorbar": {
                            "outlinewidth": 0,
                            "ticks": ""
                          }
                        },
                        "type": "scattercarpet"
                      }
                    ],
                    "scattergeo": [
                      {
                        "marker": {
                          "colorbar": {
                            "outlinewidth": 0,
                            "ticks": ""
                          }
                        },
                        "type": "scattergeo"
                      }
                    ],
                    "scattergl": [
                      {
                        "marker": {
                          "colorbar": {
                            "outlinewidth": 0,
                            "ticks": ""
                          }
                        },
                        "type": "scattergl"
                      }
                    ],
                    "scattermapbox": [
                      {
                        "marker": {
                          "colorbar": {
                            "outlinewidth": 0,
                            "ticks": ""
                          }
                        },
                        "type": "scattermapbox"
                      }
                    ],
                    "scatterpolar": [
                      {
                        "marker": {
                          "colorbar": {
                            "outlinewidth": 0,
                            "ticks": ""
                          }
                        },
                        "type": "scatterpolar"
                      }
                    ],
                    "scatterpolargl": [
                      {
                        "marker": {
                          "colorbar": {
                            "outlinewidth": 0,
                            "ticks": ""
                          }
                        },
                        "type": "scatterpolargl"
                      }
                    ],
                    "scatterternary": [
                      {
                        "marker": {
                          "colorbar": {
                            "outlinewidth": 0,
                            "ticks": ""
                          }
                        },
                        "type": "scatterternary"
                      }
                    ],
                    "surface": [
                      {
                        "colorbar": {
                          "outlinewidth": 0,
                          "ticks": ""
                        },
                        "colorscale": [
                          [
                            0,
                            "#0d0887"
                          ],
                          [
                            0.1111111111111111,
                            "#46039f"
                          ],
                          [
                            0.2222222222222222,
                            "#7201a8"
                          ],
                          [
                            0.3333333333333333,
                            "#9c179e"
                          ],
                          [
                            0.4444444444444444,
                            "#bd3786"
                          ],
                          [
                            0.5555555555555556,
                            "#d8576b"
                          ],
                          [
                            0.6666666666666666,
                            "#ed7953"
                          ],
                          [
                            0.7777777777777778,
                            "#fb9f3a"
                          ],
                          [
                            0.8888888888888888,
                            "#fdca26"
                          ],
                          [
                            1,
                            "#f0f921"
                          ]
                        ],
                        "type": "surface"
                      }
                    ],
                    "table": [
                      {
                        "cells": {
                          "fill": {
                            "color": "#EBF0F8"
                          },
                          "line": {
                            "color": "white"
                          }
                        },
                        "header": {
                          "fill": {
                            "color": "#C8D4E3"
                          },
                          "line": {
                            "color": "white"
                          }
                        },
                        "type": "table"
                      }
                    ]
                  },
                  "layout": {
                    "annotationdefaults": {
                      "arrowcolor": "#2a3f5f",
                      "arrowhead": 0,
                      "arrowwidth": 1
                    },
                    "autotypenumbers": "strict",
                    "coloraxis": {
                      "colorbar": {
                        "outlinewidth": 0,
                        "ticks": ""
                      }
                    },
                    "colorscale": {
                      "diverging": [
                        [
                          0,
                          "#8e0152"
                        ],
                        [
                          0.1,
                          "#c51b7d"
                        ],
                        [
                          0.2,
                          "#de77ae"
                        ],
                        [
                          0.3,
                          "#f1b6da"
                        ],
                        [
                          0.4,
                          "#fde0ef"
                        ],
                        [
                          0.5,
                          "#f7f7f7"
                        ],
                        [
                          0.6,
                          "#e6f5d0"
                        ],
                        [
                          0.7,
                          "#b8e186"
                        ],
                        [
                          0.8,
                          "#7fbc41"
                        ],
                        [
                          0.9,
                          "#4d9221"
                        ],
                        [
                          1,
                          "#276419"
                        ]
                      ],
                      "sequential": [
                        [
                          0,
                          "#0d0887"
                        ],
                        [
                          0.1111111111111111,
                          "#46039f"
                        ],
                        [
                          0.2222222222222222,
                          "#7201a8"
                        ],
                        [
                          0.3333333333333333,
                          "#9c179e"
                        ],
                        [
                          0.4444444444444444,
                          "#bd3786"
                        ],
                        [
                          0.5555555555555556,
                          "#d8576b"
                        ],
                        [
                          0.6666666666666666,
                          "#ed7953"
                        ],
                        [
                          0.7777777777777778,
                          "#fb9f3a"
                        ],
                        [
                          0.8888888888888888,
                          "#fdca26"
                        ],
                        [
                          1,
                          "#f0f921"
                        ]
                      ],
                      "sequentialminus": [
                        [
                          0,
                          "#0d0887"
                        ],
                        [
                          0.1111111111111111,
                          "#46039f"
                        ],
                        [
                          0.2222222222222222,
                          "#7201a8"
                        ],
                        [
                          0.3333333333333333,
                          "#9c179e"
                        ],
                        [
                          0.4444444444444444,
                          "#bd3786"
                        ],
                        [
                          0.5555555555555556,
                          "#d8576b"
                        ],
                        [
                          0.6666666666666666,
                          "#ed7953"
                        ],
                        [
                          0.7777777777777778,
                          "#fb9f3a"
                        ],
                        [
                          0.8888888888888888,
                          "#fdca26"
                        ],
                        [
                          1,
                          "#f0f921"
                        ]
                      ]
                    },
                    "colorway": [
                      "#636efa",
                      "#EF553B",
                      "#00cc96",
                      "#ab63fa",
                      "#FFA15A",
                      "#19d3f3",
                      "#FF6692",
                      "#B6E880",
                      "#FF97FF",
                      "#FECB52"
                    ],
                    "font": {
                      "color": "#2a3f5f"
                    },
                    "geo": {
                      "bgcolor": "white",
                      "lakecolor": "white",
                      "landcolor": "#E5ECF6",
                      "showlakes": true,
                      "showland": true,
                      "subunitcolor": "white"
                    },
                    "hoverlabel": {
                      "align": "left"
                    },
                    "hovermode": "closest",
                    "mapbox": {
                      "style": "light"
                    },
                    "paper_bgcolor": "white",
                    "plot_bgcolor": "#E5ECF6",
                    "polar": {
                      "angularaxis": {
                        "gridcolor": "white",
                        "linecolor": "white",
                        "ticks": ""
                      },
                      "bgcolor": "#E5ECF6",
                      "radialaxis": {
                        "gridcolor": "white",
                        "linecolor": "white",
                        "ticks": ""
                      }
                    },
                    "scene": {
                      "xaxis": {
                        "backgroundcolor": "#E5ECF6",
                        "gridcolor": "white",
                        "gridwidth": 2,
                        "linecolor": "white",
                        "showbackground": true,
                        "ticks": "",
                        "zerolinecolor": "white"
                      },
                      "yaxis": {
                        "backgroundcolor": "#E5ECF6",
                        "gridcolor": "white",
                        "gridwidth": 2,
                        "linecolor": "white",
                        "showbackground": true,
                        "ticks": "",
                        "zerolinecolor": "white"
                      },
                      "zaxis": {
                        "backgroundcolor": "#E5ECF6",
                        "gridcolor": "white",
                        "gridwidth": 2,
                        "linecolor": "white",
                        "showbackground": true,
                        "ticks": "",
                        "zerolinecolor": "white"
                      }
                    },
                    "shapedefaults": {
                      "line": {
                        "color": "#2a3f5f"
                      }
                    },
                    "ternary": {
                      "aaxis": {
                        "gridcolor": "white",
                        "linecolor": "white",
                        "ticks": ""
                      },
                      "baxis": {
                        "gridcolor": "white",
                        "linecolor": "white",
                        "ticks": ""
                      },
                      "bgcolor": "#E5ECF6",
                      "caxis": {
                        "gridcolor": "white",
                        "linecolor": "white",
                        "ticks": ""
                      }
                    },
                    "title": {
                      "x": 0.05
                    },
                    "xaxis": {
                      "automargin": true,
                      "gridcolor": "white",
                      "linecolor": "white",
                      "ticks": "",
                      "title": {
                        "standoff": 15
                      },
                      "zerolinecolor": "white",
                      "zerolinewidth": 2
                    },
                    "yaxis": {
                      "automargin": true,
                      "gridcolor": "white",
                      "linecolor": "white",
                      "ticks": "",
                      "title": {
                        "standoff": 15
                      },
                      "zerolinecolor": "white",
                      "zerolinewidth": 2
                    }
                  }
                },
                "title": {
                  "text": "F90-F98 - Transtornos do comportamento e transtornos emocionais que aparecem habitualmente durante a infância ou a adolescência"
                },
                "xaxis": {
                  "title": {
                    "text": "Time"
                  }
                },
                "yaxis": {
                  "title": {
                    "text": "Value"
                  }
                }
              }
            }
          },
          "metadata": {},
          "output_type": "display_data"
        },
        {
          "data": {
            "application/vnd.plotly.v1+json": {
              "config": {
                "plotlyServerURL": "https://plot.ly"
              },
              "data": [
                {
                  "marker": {
                    "color": "black"
                  },
                  "mode": "markers",
                  "name": "Real",
                  "type": "scatter",
                  "x": [
                    "2016-01-01T00:00:00.000000000",
                    "2016-02-01T00:00:00.000000000",
                    "2016-03-01T00:00:00.000000000",
                    "2016-04-01T00:00:00.000000000",
                    "2016-05-01T00:00:00.000000000",
                    "2016-06-01T00:00:00.000000000",
                    "2016-07-01T00:00:00.000000000",
                    "2016-08-01T00:00:00.000000000",
                    "2016-09-01T00:00:00.000000000",
                    "2016-10-01T00:00:00.000000000",
                    "2016-11-01T00:00:00.000000000",
                    "2016-12-01T00:00:00.000000000",
                    "2017-01-01T00:00:00.000000000",
                    "2017-02-01T00:00:00.000000000",
                    "2017-03-01T00:00:00.000000000",
                    "2017-04-01T00:00:00.000000000",
                    "2017-05-01T00:00:00.000000000",
                    "2017-06-01T00:00:00.000000000",
                    "2017-07-01T00:00:00.000000000",
                    "2017-08-01T00:00:00.000000000",
                    "2017-09-01T00:00:00.000000000",
                    "2017-10-01T00:00:00.000000000",
                    "2017-11-01T00:00:00.000000000",
                    "2017-12-01T00:00:00.000000000",
                    "2018-01-01T00:00:00.000000000",
                    "2018-02-01T00:00:00.000000000",
                    "2018-03-01T00:00:00.000000000",
                    "2018-04-01T00:00:00.000000000",
                    "2018-05-01T00:00:00.000000000",
                    "2018-06-01T00:00:00.000000000",
                    "2018-07-01T00:00:00.000000000",
                    "2018-08-01T00:00:00.000000000",
                    "2018-09-01T00:00:00.000000000",
                    "2018-10-01T00:00:00.000000000",
                    "2018-11-01T00:00:00.000000000",
                    "2018-12-01T00:00:00.000000000",
                    "2019-01-01T00:00:00.000000000",
                    "2019-02-01T00:00:00.000000000",
                    "2019-03-01T00:00:00.000000000",
                    "2019-04-01T00:00:00.000000000",
                    "2019-05-01T00:00:00.000000000",
                    "2019-06-01T00:00:00.000000000",
                    "2019-07-01T00:00:00.000000000",
                    "2019-08-01T00:00:00.000000000",
                    "2019-09-01T00:00:00.000000000",
                    "2019-10-01T00:00:00.000000000",
                    "2019-11-01T00:00:00.000000000",
                    "2019-12-01T00:00:00.000000000",
                    "2020-01-01T00:00:00.000000000",
                    "2020-02-01T00:00:00.000000000",
                    "2020-03-01T00:00:00.000000000",
                    "2020-04-01T00:00:00.000000000",
                    "2020-05-01T00:00:00.000000000",
                    "2020-06-01T00:00:00.000000000",
                    "2020-07-01T00:00:00.000000000",
                    "2020-08-01T00:00:00.000000000",
                    "2020-09-01T00:00:00.000000000",
                    "2020-10-01T00:00:00.000000000",
                    "2020-11-01T00:00:00.000000000",
                    "2020-12-01T00:00:00.000000000",
                    "2021-01-01T00:00:00.000000000",
                    "2021-02-01T00:00:00.000000000",
                    "2021-03-01T00:00:00.000000000",
                    "2021-04-01T00:00:00.000000000",
                    "2021-05-01T00:00:00.000000000",
                    "2021-06-01T00:00:00.000000000",
                    "2021-07-01T00:00:00.000000000",
                    "2021-08-01T00:00:00.000000000",
                    "2021-09-01T00:00:00.000000000",
                    "2021-10-01T00:00:00.000000000",
                    "2021-11-01T00:00:00.000000000",
                    "2021-12-01T00:00:00.000000000",
                    "2022-01-01T00:00:00.000000000",
                    "2022-02-01T00:00:00.000000000",
                    "2022-03-01T00:00:00.000000000",
                    "2022-04-01T00:00:00.000000000",
                    "2022-05-01T00:00:00.000000000",
                    "2022-06-01T00:00:00.000000000",
                    "2022-07-01T00:00:00.000000000",
                    "2022-08-01T00:00:00.000000000",
                    "2022-09-01T00:00:00.000000000",
                    "2022-10-01T00:00:00.000000000",
                    "2022-11-01T00:00:00.000000000",
                    "2022-12-01T00:00:00.000000000",
                    "2023-01-01T00:00:00.000000000",
                    "2023-02-01T00:00:00.000000000",
                    "2023-03-01T00:00:00.000000000",
                    "2023-04-01T00:00:00.000000000",
                    "2023-05-01T00:00:00.000000000",
                    "2023-06-01T00:00:00.000000000",
                    "2023-07-01T00:00:00.000000000",
                    "2023-08-01T00:00:00.000000000",
                    "2023-09-01T00:00:00.000000000",
                    "2023-10-01T00:00:00.000000000",
                    "2023-11-01T00:00:00.000000000",
                    "2023-12-01T00:00:00.000000000",
                    "2024-01-01T00:00:00.000000000",
                    "2024-02-01T00:00:00.000000000",
                    "2024-03-01T00:00:00.000000000",
                    "2024-04-01T00:00:00.000000000",
                    "2024-05-01T00:00:00.000000000",
                    "2024-06-01T00:00:00.000000000",
                    "2024-07-01T00:00:00.000000000",
                    "2024-08-01T00:00:00.000000000",
                    "2024-09-01T00:00:00.000000000",
                    "2024-10-01T00:00:00.000000000",
                    "2024-11-01T00:00:00.000000000",
                    "2024-12-01T00:00:00.000000000"
                  ],
                  "y": [
                    0.5874352983019767,
                    0.5975802059424887,
                    0.6614938749368378,
                    0.6268194954650095,
                    0.6660708607523997,
                    0.7111652145324596,
                    0.5694476418777277,
                    0.6653478860144572,
                    0.6850752196514222,
                    0.6968690356012419,
                    0.6921999320551392,
                    0.5472517842587181,
                    0.5390973848703419,
                    0.6862541468638458,
                    0.7552739077486358,
                    0.823364765220676,
                    0.8633039275010673,
                    0.9167505703984836,
                    0.7583222039841431,
                    0.9008970061271258,
                    0.8777984901581489,
                    0.8888329923776924,
                    0.8801945428956037,
                    0.7640198276048976,
                    0.6495227104129271,
                    0.7900148716765729,
                    0.9281369350404611,
                    0.9529005571322391,
                    0.9898298161415092,
                    1.036844711946553,
                    0.8443920387960689,
                    0.9814762960631395,
                    0.9666536148245404,
                    0.973632652831337,
                    1.108317418941544,
                    0.9207624353963699,
                    0.8259806356176533,
                    1.036195381681892,
                    1.0863485044811643,
                    1.142430593616973,
                    1.2168189667502232,
                    1.2622745822577008,
                    1.177359688356117,
                    1.3001862571529563,
                    1.3163925327399455,
                    1.24377987519066,
                    1.2324600141614654,
                    1.0159762369189353,
                    1.0074312688968678,
                    1.2160763722595607,
                    1.0093062662858192,
                    0.4299115775426407,
                    0.472344446170296,
                    0.5353630101403782,
                    0.6163607488312615,
                    0.751253339696057,
                    0.891049999062915,
                    0.9782905486795513,
                    1.0248448993844548,
                    0.9502263419305166,
                    0.9402854427286401,
                    1.17776782572043,
                    1.0334303719581712,
                    1.047287200251693,
                    1.1634708233742965,
                    1.2596786227860206,
                    1.3319576963624056,
                    1.5061062280139776,
                    1.512290684183612,
                    1.4739112576688862,
                    1.5022809793587424,
                    1.3514469226588082,
                    0.990058887049855,
                    1.4802855212770474,
                    1.6412266320155686,
                    1.665745958969384,
                    1.6994596635137782,
                    1.6201250758289993,
                    1.5413190302222701,
                    1.8251205547824236,
                    2.0086085241700515,
                    1.90619555162811,
                    1.775740230327798,
                    1.6726695516009404,
                    1.8056461208166772,
                    2.093277320820176,
                    2.0904214254250144,
                    2.083961916737742,
                    2.3821966346319687,
                    2.3260792266689245,
                    2.3358646130354006,
                    2.561292301048395,
                    2.6347660544507816,
                    2.6103701043234917,
                    2.533919679255921,
                    2.374916842750122,
                    2.5163571436409966,
                    2.62407826332306,
                    2.5651525612794996,
                    2.6734871410437595,
                    2.8886047596924294,
                    3.056729670315172,
                    3.05647454061112,
                    3.1963226909853315,
                    3.26620828060154,
                    3.12799798872099,
                    3.1174048007461153,
                    2.819886361028698
                  ]
                },
                {
                  "line": {
                    "color": "black",
                    "dash": "dot"
                  },
                  "mode": "lines",
                  "name": "Baseline",
                  "type": "scatter",
                  "x": [
                    "2016-01-01T00:00:00.000000000",
                    "2016-02-01T00:00:00.000000000",
                    "2016-03-01T00:00:00.000000000",
                    "2016-04-01T00:00:00.000000000",
                    "2016-05-01T00:00:00.000000000",
                    "2016-06-01T00:00:00.000000000",
                    "2016-07-01T00:00:00.000000000",
                    "2016-08-01T00:00:00.000000000",
                    "2016-09-01T00:00:00.000000000",
                    "2016-10-01T00:00:00.000000000",
                    "2016-11-01T00:00:00.000000000",
                    "2016-12-01T00:00:00.000000000",
                    "2017-01-01T00:00:00.000000000",
                    "2017-02-01T00:00:00.000000000",
                    "2017-03-01T00:00:00.000000000",
                    "2017-04-01T00:00:00.000000000",
                    "2017-05-01T00:00:00.000000000",
                    "2017-06-01T00:00:00.000000000",
                    "2017-07-01T00:00:00.000000000",
                    "2017-08-01T00:00:00.000000000",
                    "2017-09-01T00:00:00.000000000",
                    "2017-10-01T00:00:00.000000000",
                    "2017-11-01T00:00:00.000000000",
                    "2017-12-01T00:00:00.000000000",
                    "2018-01-01T00:00:00.000000000",
                    "2018-02-01T00:00:00.000000000",
                    "2018-03-01T00:00:00.000000000",
                    "2018-04-01T00:00:00.000000000",
                    "2018-05-01T00:00:00.000000000",
                    "2018-06-01T00:00:00.000000000",
                    "2018-07-01T00:00:00.000000000",
                    "2018-08-01T00:00:00.000000000",
                    "2018-09-01T00:00:00.000000000",
                    "2018-10-01T00:00:00.000000000",
                    "2018-11-01T00:00:00.000000000",
                    "2018-12-01T00:00:00.000000000",
                    "2019-01-01T00:00:00.000000000",
                    "2019-02-01T00:00:00.000000000",
                    "2019-03-01T00:00:00.000000000",
                    "2019-04-01T00:00:00.000000000",
                    "2019-05-01T00:00:00.000000000",
                    "2019-06-01T00:00:00.000000000",
                    "2019-07-01T00:00:00.000000000",
                    "2019-08-01T00:00:00.000000000",
                    "2019-09-01T00:00:00.000000000",
                    "2019-10-01T00:00:00.000000000",
                    "2019-11-01T00:00:00.000000000",
                    "2019-12-01T00:00:00.000000000",
                    "2020-01-01T00:00:00.000000000",
                    "2020-02-01T00:00:00.000000000",
                    "2020-03-01T00:00:00.000000000",
                    "2020-04-01T00:00:00.000000000",
                    "2020-05-01T00:00:00.000000000",
                    "2020-06-01T00:00:00.000000000",
                    "2020-07-01T00:00:00.000000000",
                    "2020-08-01T00:00:00.000000000",
                    "2020-09-01T00:00:00.000000000",
                    "2020-10-01T00:00:00.000000000",
                    "2020-11-01T00:00:00.000000000",
                    "2020-12-01T00:00:00.000000000",
                    "2021-01-01T00:00:00.000000000",
                    "2021-02-01T00:00:00.000000000",
                    "2021-03-01T00:00:00.000000000",
                    "2021-04-01T00:00:00.000000000",
                    "2021-05-01T00:00:00.000000000",
                    "2021-06-01T00:00:00.000000000",
                    "2021-07-01T00:00:00.000000000",
                    "2021-08-01T00:00:00.000000000",
                    "2021-09-01T00:00:00.000000000",
                    "2021-10-01T00:00:00.000000000",
                    "2021-11-01T00:00:00.000000000",
                    "2021-12-01T00:00:00.000000000",
                    "2022-01-01T00:00:00.000000000",
                    "2022-02-01T00:00:00.000000000",
                    "2022-03-01T00:00:00.000000000",
                    "2022-04-01T00:00:00.000000000",
                    "2022-05-01T00:00:00.000000000",
                    "2022-06-01T00:00:00.000000000",
                    "2022-07-01T00:00:00.000000000",
                    "2022-08-01T00:00:00.000000000",
                    "2022-09-01T00:00:00.000000000",
                    "2022-10-01T00:00:00.000000000",
                    "2022-11-01T00:00:00.000000000",
                    "2022-12-01T00:00:00.000000000",
                    "2023-01-01T00:00:00.000000000",
                    "2023-02-01T00:00:00.000000000",
                    "2023-03-01T00:00:00.000000000",
                    "2023-04-01T00:00:00.000000000",
                    "2023-05-01T00:00:00.000000000",
                    "2023-06-01T00:00:00.000000000",
                    "2023-07-01T00:00:00.000000000",
                    "2023-08-01T00:00:00.000000000",
                    "2023-09-01T00:00:00.000000000",
                    "2023-10-01T00:00:00.000000000",
                    "2023-11-01T00:00:00.000000000",
                    "2023-12-01T00:00:00.000000000",
                    "2024-01-01T00:00:00.000000000",
                    "2024-02-01T00:00:00.000000000",
                    "2024-03-01T00:00:00.000000000",
                    "2024-04-01T00:00:00.000000000",
                    "2024-05-01T00:00:00.000000000",
                    "2024-06-01T00:00:00.000000000",
                    "2024-07-01T00:00:00.000000000",
                    "2024-08-01T00:00:00.000000000",
                    "2024-09-01T00:00:00.000000000",
                    "2024-10-01T00:00:00.000000000",
                    "2024-11-01T00:00:00.000000000",
                    "2024-12-01T00:00:00.000000000"
                  ],
                  "y": [
                    0.3137520038193677,
                    0.3275351811454069,
                    0.3413183584714461,
                    0.3551015357974853,
                    0.36888471312352455,
                    0.38266789044956373,
                    0.39645106777560296,
                    0.4102342451016422,
                    0.4240174224276814,
                    0.43780059975372065,
                    0.45158377707975983,
                    0.46536695440579906,
                    0.4791501317318383,
                    0.49293330905787747,
                    0.5067164863839166,
                    0.5204996637099559,
                    0.5342828410359952,
                    0.5480660183620344,
                    0.5618491956880736,
                    0.5756323730141129,
                    0.589415550340152,
                    0.6031987276661912,
                    0.6169819049922305,
                    0.6307650823182697,
                    0.6445482596443088,
                    0.6583314369703481,
                    0.6721146142963873,
                    0.6858977916224265,
                    0.6996809689484658,
                    0.7134641462745049,
                    0.7272473236005441,
                    0.7410305009265834,
                    0.7548136782526227,
                    0.7685968555786619,
                    0.782380032904701,
                    0.7961632102307403,
                    0.8099463875567795,
                    0.8237295648828187,
                    0.837512742208858,
                    0.8512959195348971,
                    0.8650790968609363,
                    0.8788622741869756,
                    0.8926454515130148,
                    0.906428628839054,
                    0.9202118061650932,
                    0.9339949834911324,
                    0.9477781608171717,
                    0.9615613381432109,
                    0.97534451546925,
                    0.9891276927952893,
                    1.0029108701213285,
                    1.0166940474473678,
                    1.0304772247734069,
                    1.0442604020994462,
                    1.0580435794254854,
                    1.0718267567515247,
                    1.0856099340775638,
                    1.099393111403603,
                    1.1131762887296421,
                    1.1269594660556814,
                    1.1407426433817207,
                    1.15452582070776,
                    1.1683089980337993,
                    1.1820921753598383,
                    1.1958753526858774,
                    1.2096585300119167,
                    1.223441707337956,
                    1.2372248846639953,
                    1.2510080619900346,
                    1.2647912393160736,
                    1.278574416642113,
                    1.292357593968152,
                    1.3061407712941913,
                    1.3199239486202305,
                    1.3337071259462698,
                    1.347490303272309,
                    1.3612734805983482,
                    1.3750566579243875,
                    1.3888398352504265,
                    1.4026230125764658,
                    1.416406189902505,
                    1.4301893672285442,
                    1.4439725445545835,
                    1.4577557218806227,
                    1.4715388992066618,
                    1.485322076532701,
                    1.4991052538587404,
                    1.5128884311847794,
                    1.5266716085108187,
                    1.540454785836858,
                    1.5542379631628973,
                    1.5680211404889364,
                    1.5818043178149757,
                    1.595587495141015,
                    1.609370672467054,
                    1.6231538497930933,
                    1.6369370271191326,
                    1.6507202044451716,
                    1.664503381771211,
                    1.6782865590972502,
                    1.6920697364232893,
                    1.7058529137493286,
                    1.7196360910753679,
                    1.7334192684014071,
                    1.7472024457274462,
                    1.7609856230534855,
                    1.7747688003795248,
                    1.7885519777055638
                  ]
                },
                {
                  "line": {
                    "color": "purple"
                  },
                  "mode": "lines",
                  "name": "Full model",
                  "type": "scatter",
                  "x": [
                    "2016-01-01T00:00:00.000000000",
                    "2016-02-01T00:00:00.000000000",
                    "2016-03-01T00:00:00.000000000",
                    "2016-04-01T00:00:00.000000000",
                    "2016-05-01T00:00:00.000000000",
                    "2016-06-01T00:00:00.000000000",
                    "2016-07-01T00:00:00.000000000",
                    "2016-08-01T00:00:00.000000000",
                    "2016-09-01T00:00:00.000000000",
                    "2016-10-01T00:00:00.000000000",
                    "2016-11-01T00:00:00.000000000",
                    "2016-12-01T00:00:00.000000000",
                    "2017-01-01T00:00:00.000000000",
                    "2017-02-01T00:00:00.000000000",
                    "2017-03-01T00:00:00.000000000",
                    "2017-04-01T00:00:00.000000000",
                    "2017-05-01T00:00:00.000000000",
                    "2017-06-01T00:00:00.000000000",
                    "2017-07-01T00:00:00.000000000",
                    "2017-08-01T00:00:00.000000000",
                    "2017-09-01T00:00:00.000000000",
                    "2017-10-01T00:00:00.000000000",
                    "2017-11-01T00:00:00.000000000",
                    "2017-12-01T00:00:00.000000000",
                    "2018-01-01T00:00:00.000000000",
                    "2018-02-01T00:00:00.000000000",
                    "2018-03-01T00:00:00.000000000",
                    "2018-04-01T00:00:00.000000000",
                    "2018-05-01T00:00:00.000000000",
                    "2018-06-01T00:00:00.000000000",
                    "2018-07-01T00:00:00.000000000",
                    "2018-08-01T00:00:00.000000000",
                    "2018-09-01T00:00:00.000000000",
                    "2018-10-01T00:00:00.000000000",
                    "2018-11-01T00:00:00.000000000",
                    "2018-12-01T00:00:00.000000000",
                    "2019-01-01T00:00:00.000000000",
                    "2019-02-01T00:00:00.000000000",
                    "2019-03-01T00:00:00.000000000",
                    "2019-04-01T00:00:00.000000000",
                    "2019-05-01T00:00:00.000000000",
                    "2019-06-01T00:00:00.000000000",
                    "2019-07-01T00:00:00.000000000",
                    "2019-08-01T00:00:00.000000000",
                    "2019-09-01T00:00:00.000000000",
                    "2019-10-01T00:00:00.000000000",
                    "2019-11-01T00:00:00.000000000",
                    "2019-12-01T00:00:00.000000000",
                    "2020-01-01T00:00:00.000000000",
                    "2020-02-01T00:00:00.000000000",
                    "2020-03-01T00:00:00.000000000",
                    "2020-04-01T00:00:00.000000000",
                    "2020-05-01T00:00:00.000000000",
                    "2020-06-01T00:00:00.000000000",
                    "2020-07-01T00:00:00.000000000",
                    "2020-08-01T00:00:00.000000000",
                    "2020-09-01T00:00:00.000000000",
                    "2020-10-01T00:00:00.000000000",
                    "2020-11-01T00:00:00.000000000",
                    "2020-12-01T00:00:00.000000000",
                    "2021-01-01T00:00:00.000000000",
                    "2021-02-01T00:00:00.000000000",
                    "2021-03-01T00:00:00.000000000",
                    "2021-04-01T00:00:00.000000000",
                    "2021-05-01T00:00:00.000000000",
                    "2021-06-01T00:00:00.000000000",
                    "2021-07-01T00:00:00.000000000",
                    "2021-08-01T00:00:00.000000000",
                    "2021-09-01T00:00:00.000000000",
                    "2021-10-01T00:00:00.000000000",
                    "2021-11-01T00:00:00.000000000",
                    "2021-12-01T00:00:00.000000000",
                    "2022-01-01T00:00:00.000000000",
                    "2022-02-01T00:00:00.000000000",
                    "2022-03-01T00:00:00.000000000",
                    "2022-04-01T00:00:00.000000000",
                    "2022-05-01T00:00:00.000000000",
                    "2022-06-01T00:00:00.000000000",
                    "2022-07-01T00:00:00.000000000",
                    "2022-08-01T00:00:00.000000000",
                    "2022-09-01T00:00:00.000000000",
                    "2022-10-01T00:00:00.000000000",
                    "2022-11-01T00:00:00.000000000",
                    "2022-12-01T00:00:00.000000000",
                    "2023-01-01T00:00:00.000000000",
                    "2023-02-01T00:00:00.000000000",
                    "2023-03-01T00:00:00.000000000",
                    "2023-04-01T00:00:00.000000000",
                    "2023-05-01T00:00:00.000000000",
                    "2023-06-01T00:00:00.000000000",
                    "2023-07-01T00:00:00.000000000",
                    "2023-08-01T00:00:00.000000000",
                    "2023-09-01T00:00:00.000000000",
                    "2023-10-01T00:00:00.000000000",
                    "2023-11-01T00:00:00.000000000",
                    "2023-12-01T00:00:00.000000000",
                    "2024-01-01T00:00:00.000000000",
                    "2024-02-01T00:00:00.000000000",
                    "2024-03-01T00:00:00.000000000",
                    "2024-04-01T00:00:00.000000000",
                    "2024-05-01T00:00:00.000000000",
                    "2024-06-01T00:00:00.000000000",
                    "2024-07-01T00:00:00.000000000",
                    "2024-08-01T00:00:00.000000000",
                    "2024-09-01T00:00:00.000000000",
                    "2024-10-01T00:00:00.000000000",
                    "2024-11-01T00:00:00.000000000",
                    "2024-12-01T00:00:00.000000000"
                  ],
                  "y": [
                    0.3137520038193677,
                    0.3275351811454069,
                    0.3413183584714461,
                    0.3551015357974853,
                    0.36888471312352455,
                    0.38266789044956373,
                    0.39645106777560296,
                    0.4102342451016422,
                    0.4240174224276814,
                    0.43780059975372065,
                    0.45158377707975983,
                    0.46536695440579906,
                    0.4791501317318383,
                    0.49293330905787747,
                    0.5067164863839166,
                    0.5204996637099559,
                    0.5342828410359952,
                    0.5480660183620344,
                    0.5618491956880736,
                    0.5756323730141129,
                    0.589415550340152,
                    0.6031987276661912,
                    0.6169819049922305,
                    0.6307650823182697,
                    0.6445482596443088,
                    0.6583314369703481,
                    0.6721146142963873,
                    0.6858977916224265,
                    0.6996809689484658,
                    0.7134641462745049,
                    0.7272473236005441,
                    0.7410305009265834,
                    0.7548136782526227,
                    0.7685968555786619,
                    0.782380032904701,
                    0.7961632102307403,
                    0.8099463875567795,
                    0.8237295648828187,
                    0.837512742208858,
                    0.8512959195348971,
                    0.8650790968609363,
                    0.8788622741869756,
                    0.8926454515130148,
                    0.906428628839054,
                    0.9202118061650932,
                    0.9339949834911324,
                    0.9477781608171717,
                    0.9615613381432109,
                    0.97534451546925,
                    0.9891276927952893,
                    0.3517180417150346,
                    0.40217867399517887,
                    0.45263930627532284,
                    0.5030999385554671,
                    0.5535605708356113,
                    0.6040212031157555,
                    0.6544818353958994,
                    0.7049424676760436,
                    0.7554030999561876,
                    0.8058637322363319,
                    0.8563243645164761,
                    0.9067849967966203,
                    0.8189523280042347,
                    0.8624039760877504,
                    0.9058556241712661,
                    0.949307272254782,
                    0.9927589203382979,
                    1.036210568421814,
                    1.0796622165053298,
                    1.1231138645888454,
                    1.1665655126723613,
                    1.2100171607558772,
                    1.253468808839393,
                    1.296920456922909,
                    1.3403721050064248,
                    1.3326786803799753,
                    1.3832271552953064,
                    1.4337756302106373,
                    1.484324105125968,
                    1.5348725800412988,
                    1.5854210549566297,
                    1.6359695298719608,
                    1.6865180047872916,
                    1.7370664797026225,
                    1.7876149546179532,
                    1.838163429533284,
                    1.888711904448615,
                    1.939260379363946,
                    1.989808854279277,
                    2.0403573291946078,
                    2.090905804109939,
                    2.1414542790252695,
                    2.1920027539406,
                    2.2425512288559313,
                    2.2930997037712624,
                    2.3436481786865935,
                    2.394196653601924,
                    2.444745128517255,
                    2.495293603432586,
                    2.5458420783479165,
                    2.5963905532632476,
                    2.6469390281785783,
                    2.6974875030939094,
                    2.7480359780092405,
                    2.7985844529245707,
                    2.849132927839902,
                    2.899681402755233,
                    2.950229877670564
                  ]
                }
              ],
              "layout": {
                "annotations": [
                  {
                    "arrowhead": 2,
                    "ax": 30,
                    "ay": -40,
                    "showarrow": true,
                    "text": "Pandemia",
                    "x": "2020-03-01",
                    "y": 3.26620828060154
                  },
                  {
                    "arrowhead": 2,
                    "ax": 30,
                    "ay": -40,
                    "showarrow": true,
                    "text": "Pos Pandemia",
                    "x": "2022-04-01",
                    "y": 3.26620828060154
                  }
                ],
                "legend": {
                  "title": {
                    "text": "Legend"
                  }
                },
                "shapes": [
                  {
                    "fillcolor": "rgba(0, 0, 0, 0.25)",
                    "layer": "below",
                    "line": {
                      "width": 0
                    },
                    "opacity": 0.3,
                    "type": "rect",
                    "x0": "2020-03-01",
                    "x1": "2020-07-01",
                    "xref": "x",
                    "y0": 0,
                    "y1": 1,
                    "yref": "paper"
                  },
                  {
                    "fillcolor": "rgba(0, 0, 0, 0.25)",
                    "layer": "below",
                    "line": {
                      "width": 0
                    },
                    "opacity": 0.3,
                    "type": "rect",
                    "x0": "2021-04-01",
                    "x1": "2021-05-01",
                    "xref": "x",
                    "y0": 0,
                    "y1": 1,
                    "yref": "paper"
                  },
                  {
                    "line": {
                      "color": "black",
                      "dash": "dash"
                    },
                    "type": "line",
                    "x0": "2020-03-01",
                    "x1": "2020-03-01",
                    "y0": 0.4299115775426407,
                    "y1": 3.26620828060154
                  },
                  {
                    "line": {
                      "color": "black",
                      "dash": "dash"
                    },
                    "type": "line",
                    "x0": "2022-04-01",
                    "x1": "2022-04-01",
                    "y0": 0.4299115775426407,
                    "y1": 3.26620828060154
                  }
                ],
                "template": {
                  "data": {
                    "bar": [
                      {
                        "error_x": {
                          "color": "#2a3f5f"
                        },
                        "error_y": {
                          "color": "#2a3f5f"
                        },
                        "marker": {
                          "line": {
                            "color": "#E5ECF6",
                            "width": 0.5
                          },
                          "pattern": {
                            "fillmode": "overlay",
                            "size": 10,
                            "solidity": 0.2
                          }
                        },
                        "type": "bar"
                      }
                    ],
                    "barpolar": [
                      {
                        "marker": {
                          "line": {
                            "color": "#E5ECF6",
                            "width": 0.5
                          },
                          "pattern": {
                            "fillmode": "overlay",
                            "size": 10,
                            "solidity": 0.2
                          }
                        },
                        "type": "barpolar"
                      }
                    ],
                    "carpet": [
                      {
                        "aaxis": {
                          "endlinecolor": "#2a3f5f",
                          "gridcolor": "white",
                          "linecolor": "white",
                          "minorgridcolor": "white",
                          "startlinecolor": "#2a3f5f"
                        },
                        "baxis": {
                          "endlinecolor": "#2a3f5f",
                          "gridcolor": "white",
                          "linecolor": "white",
                          "minorgridcolor": "white",
                          "startlinecolor": "#2a3f5f"
                        },
                        "type": "carpet"
                      }
                    ],
                    "choropleth": [
                      {
                        "colorbar": {
                          "outlinewidth": 0,
                          "ticks": ""
                        },
                        "type": "choropleth"
                      }
                    ],
                    "contour": [
                      {
                        "colorbar": {
                          "outlinewidth": 0,
                          "ticks": ""
                        },
                        "colorscale": [
                          [
                            0,
                            "#0d0887"
                          ],
                          [
                            0.1111111111111111,
                            "#46039f"
                          ],
                          [
                            0.2222222222222222,
                            "#7201a8"
                          ],
                          [
                            0.3333333333333333,
                            "#9c179e"
                          ],
                          [
                            0.4444444444444444,
                            "#bd3786"
                          ],
                          [
                            0.5555555555555556,
                            "#d8576b"
                          ],
                          [
                            0.6666666666666666,
                            "#ed7953"
                          ],
                          [
                            0.7777777777777778,
                            "#fb9f3a"
                          ],
                          [
                            0.8888888888888888,
                            "#fdca26"
                          ],
                          [
                            1,
                            "#f0f921"
                          ]
                        ],
                        "type": "contour"
                      }
                    ],
                    "contourcarpet": [
                      {
                        "colorbar": {
                          "outlinewidth": 0,
                          "ticks": ""
                        },
                        "type": "contourcarpet"
                      }
                    ],
                    "heatmap": [
                      {
                        "colorbar": {
                          "outlinewidth": 0,
                          "ticks": ""
                        },
                        "colorscale": [
                          [
                            0,
                            "#0d0887"
                          ],
                          [
                            0.1111111111111111,
                            "#46039f"
                          ],
                          [
                            0.2222222222222222,
                            "#7201a8"
                          ],
                          [
                            0.3333333333333333,
                            "#9c179e"
                          ],
                          [
                            0.4444444444444444,
                            "#bd3786"
                          ],
                          [
                            0.5555555555555556,
                            "#d8576b"
                          ],
                          [
                            0.6666666666666666,
                            "#ed7953"
                          ],
                          [
                            0.7777777777777778,
                            "#fb9f3a"
                          ],
                          [
                            0.8888888888888888,
                            "#fdca26"
                          ],
                          [
                            1,
                            "#f0f921"
                          ]
                        ],
                        "type": "heatmap"
                      }
                    ],
                    "heatmapgl": [
                      {
                        "colorbar": {
                          "outlinewidth": 0,
                          "ticks": ""
                        },
                        "colorscale": [
                          [
                            0,
                            "#0d0887"
                          ],
                          [
                            0.1111111111111111,
                            "#46039f"
                          ],
                          [
                            0.2222222222222222,
                            "#7201a8"
                          ],
                          [
                            0.3333333333333333,
                            "#9c179e"
                          ],
                          [
                            0.4444444444444444,
                            "#bd3786"
                          ],
                          [
                            0.5555555555555556,
                            "#d8576b"
                          ],
                          [
                            0.6666666666666666,
                            "#ed7953"
                          ],
                          [
                            0.7777777777777778,
                            "#fb9f3a"
                          ],
                          [
                            0.8888888888888888,
                            "#fdca26"
                          ],
                          [
                            1,
                            "#f0f921"
                          ]
                        ],
                        "type": "heatmapgl"
                      }
                    ],
                    "histogram": [
                      {
                        "marker": {
                          "pattern": {
                            "fillmode": "overlay",
                            "size": 10,
                            "solidity": 0.2
                          }
                        },
                        "type": "histogram"
                      }
                    ],
                    "histogram2d": [
                      {
                        "colorbar": {
                          "outlinewidth": 0,
                          "ticks": ""
                        },
                        "colorscale": [
                          [
                            0,
                            "#0d0887"
                          ],
                          [
                            0.1111111111111111,
                            "#46039f"
                          ],
                          [
                            0.2222222222222222,
                            "#7201a8"
                          ],
                          [
                            0.3333333333333333,
                            "#9c179e"
                          ],
                          [
                            0.4444444444444444,
                            "#bd3786"
                          ],
                          [
                            0.5555555555555556,
                            "#d8576b"
                          ],
                          [
                            0.6666666666666666,
                            "#ed7953"
                          ],
                          [
                            0.7777777777777778,
                            "#fb9f3a"
                          ],
                          [
                            0.8888888888888888,
                            "#fdca26"
                          ],
                          [
                            1,
                            "#f0f921"
                          ]
                        ],
                        "type": "histogram2d"
                      }
                    ],
                    "histogram2dcontour": [
                      {
                        "colorbar": {
                          "outlinewidth": 0,
                          "ticks": ""
                        },
                        "colorscale": [
                          [
                            0,
                            "#0d0887"
                          ],
                          [
                            0.1111111111111111,
                            "#46039f"
                          ],
                          [
                            0.2222222222222222,
                            "#7201a8"
                          ],
                          [
                            0.3333333333333333,
                            "#9c179e"
                          ],
                          [
                            0.4444444444444444,
                            "#bd3786"
                          ],
                          [
                            0.5555555555555556,
                            "#d8576b"
                          ],
                          [
                            0.6666666666666666,
                            "#ed7953"
                          ],
                          [
                            0.7777777777777778,
                            "#fb9f3a"
                          ],
                          [
                            0.8888888888888888,
                            "#fdca26"
                          ],
                          [
                            1,
                            "#f0f921"
                          ]
                        ],
                        "type": "histogram2dcontour"
                      }
                    ],
                    "mesh3d": [
                      {
                        "colorbar": {
                          "outlinewidth": 0,
                          "ticks": ""
                        },
                        "type": "mesh3d"
                      }
                    ],
                    "parcoords": [
                      {
                        "line": {
                          "colorbar": {
                            "outlinewidth": 0,
                            "ticks": ""
                          }
                        },
                        "type": "parcoords"
                      }
                    ],
                    "pie": [
                      {
                        "automargin": true,
                        "type": "pie"
                      }
                    ],
                    "scatter": [
                      {
                        "fillpattern": {
                          "fillmode": "overlay",
                          "size": 10,
                          "solidity": 0.2
                        },
                        "type": "scatter"
                      }
                    ],
                    "scatter3d": [
                      {
                        "line": {
                          "colorbar": {
                            "outlinewidth": 0,
                            "ticks": ""
                          }
                        },
                        "marker": {
                          "colorbar": {
                            "outlinewidth": 0,
                            "ticks": ""
                          }
                        },
                        "type": "scatter3d"
                      }
                    ],
                    "scattercarpet": [
                      {
                        "marker": {
                          "colorbar": {
                            "outlinewidth": 0,
                            "ticks": ""
                          }
                        },
                        "type": "scattercarpet"
                      }
                    ],
                    "scattergeo": [
                      {
                        "marker": {
                          "colorbar": {
                            "outlinewidth": 0,
                            "ticks": ""
                          }
                        },
                        "type": "scattergeo"
                      }
                    ],
                    "scattergl": [
                      {
                        "marker": {
                          "colorbar": {
                            "outlinewidth": 0,
                            "ticks": ""
                          }
                        },
                        "type": "scattergl"
                      }
                    ],
                    "scattermapbox": [
                      {
                        "marker": {
                          "colorbar": {
                            "outlinewidth": 0,
                            "ticks": ""
                          }
                        },
                        "type": "scattermapbox"
                      }
                    ],
                    "scatterpolar": [
                      {
                        "marker": {
                          "colorbar": {
                            "outlinewidth": 0,
                            "ticks": ""
                          }
                        },
                        "type": "scatterpolar"
                      }
                    ],
                    "scatterpolargl": [
                      {
                        "marker": {
                          "colorbar": {
                            "outlinewidth": 0,
                            "ticks": ""
                          }
                        },
                        "type": "scatterpolargl"
                      }
                    ],
                    "scatterternary": [
                      {
                        "marker": {
                          "colorbar": {
                            "outlinewidth": 0,
                            "ticks": ""
                          }
                        },
                        "type": "scatterternary"
                      }
                    ],
                    "surface": [
                      {
                        "colorbar": {
                          "outlinewidth": 0,
                          "ticks": ""
                        },
                        "colorscale": [
                          [
                            0,
                            "#0d0887"
                          ],
                          [
                            0.1111111111111111,
                            "#46039f"
                          ],
                          [
                            0.2222222222222222,
                            "#7201a8"
                          ],
                          [
                            0.3333333333333333,
                            "#9c179e"
                          ],
                          [
                            0.4444444444444444,
                            "#bd3786"
                          ],
                          [
                            0.5555555555555556,
                            "#d8576b"
                          ],
                          [
                            0.6666666666666666,
                            "#ed7953"
                          ],
                          [
                            0.7777777777777778,
                            "#fb9f3a"
                          ],
                          [
                            0.8888888888888888,
                            "#fdca26"
                          ],
                          [
                            1,
                            "#f0f921"
                          ]
                        ],
                        "type": "surface"
                      }
                    ],
                    "table": [
                      {
                        "cells": {
                          "fill": {
                            "color": "#EBF0F8"
                          },
                          "line": {
                            "color": "white"
                          }
                        },
                        "header": {
                          "fill": {
                            "color": "#C8D4E3"
                          },
                          "line": {
                            "color": "white"
                          }
                        },
                        "type": "table"
                      }
                    ]
                  },
                  "layout": {
                    "annotationdefaults": {
                      "arrowcolor": "#2a3f5f",
                      "arrowhead": 0,
                      "arrowwidth": 1
                    },
                    "autotypenumbers": "strict",
                    "coloraxis": {
                      "colorbar": {
                        "outlinewidth": 0,
                        "ticks": ""
                      }
                    },
                    "colorscale": {
                      "diverging": [
                        [
                          0,
                          "#8e0152"
                        ],
                        [
                          0.1,
                          "#c51b7d"
                        ],
                        [
                          0.2,
                          "#de77ae"
                        ],
                        [
                          0.3,
                          "#f1b6da"
                        ],
                        [
                          0.4,
                          "#fde0ef"
                        ],
                        [
                          0.5,
                          "#f7f7f7"
                        ],
                        [
                          0.6,
                          "#e6f5d0"
                        ],
                        [
                          0.7,
                          "#b8e186"
                        ],
                        [
                          0.8,
                          "#7fbc41"
                        ],
                        [
                          0.9,
                          "#4d9221"
                        ],
                        [
                          1,
                          "#276419"
                        ]
                      ],
                      "sequential": [
                        [
                          0,
                          "#0d0887"
                        ],
                        [
                          0.1111111111111111,
                          "#46039f"
                        ],
                        [
                          0.2222222222222222,
                          "#7201a8"
                        ],
                        [
                          0.3333333333333333,
                          "#9c179e"
                        ],
                        [
                          0.4444444444444444,
                          "#bd3786"
                        ],
                        [
                          0.5555555555555556,
                          "#d8576b"
                        ],
                        [
                          0.6666666666666666,
                          "#ed7953"
                        ],
                        [
                          0.7777777777777778,
                          "#fb9f3a"
                        ],
                        [
                          0.8888888888888888,
                          "#fdca26"
                        ],
                        [
                          1,
                          "#f0f921"
                        ]
                      ],
                      "sequentialminus": [
                        [
                          0,
                          "#0d0887"
                        ],
                        [
                          0.1111111111111111,
                          "#46039f"
                        ],
                        [
                          0.2222222222222222,
                          "#7201a8"
                        ],
                        [
                          0.3333333333333333,
                          "#9c179e"
                        ],
                        [
                          0.4444444444444444,
                          "#bd3786"
                        ],
                        [
                          0.5555555555555556,
                          "#d8576b"
                        ],
                        [
                          0.6666666666666666,
                          "#ed7953"
                        ],
                        [
                          0.7777777777777778,
                          "#fb9f3a"
                        ],
                        [
                          0.8888888888888888,
                          "#fdca26"
                        ],
                        [
                          1,
                          "#f0f921"
                        ]
                      ]
                    },
                    "colorway": [
                      "#636efa",
                      "#EF553B",
                      "#00cc96",
                      "#ab63fa",
                      "#FFA15A",
                      "#19d3f3",
                      "#FF6692",
                      "#B6E880",
                      "#FF97FF",
                      "#FECB52"
                    ],
                    "font": {
                      "color": "#2a3f5f"
                    },
                    "geo": {
                      "bgcolor": "white",
                      "lakecolor": "white",
                      "landcolor": "#E5ECF6",
                      "showlakes": true,
                      "showland": true,
                      "subunitcolor": "white"
                    },
                    "hoverlabel": {
                      "align": "left"
                    },
                    "hovermode": "closest",
                    "mapbox": {
                      "style": "light"
                    },
                    "paper_bgcolor": "white",
                    "plot_bgcolor": "#E5ECF6",
                    "polar": {
                      "angularaxis": {
                        "gridcolor": "white",
                        "linecolor": "white",
                        "ticks": ""
                      },
                      "bgcolor": "#E5ECF6",
                      "radialaxis": {
                        "gridcolor": "white",
                        "linecolor": "white",
                        "ticks": ""
                      }
                    },
                    "scene": {
                      "xaxis": {
                        "backgroundcolor": "#E5ECF6",
                        "gridcolor": "white",
                        "gridwidth": 2,
                        "linecolor": "white",
                        "showbackground": true,
                        "ticks": "",
                        "zerolinecolor": "white"
                      },
                      "yaxis": {
                        "backgroundcolor": "#E5ECF6",
                        "gridcolor": "white",
                        "gridwidth": 2,
                        "linecolor": "white",
                        "showbackground": true,
                        "ticks": "",
                        "zerolinecolor": "white"
                      },
                      "zaxis": {
                        "backgroundcolor": "#E5ECF6",
                        "gridcolor": "white",
                        "gridwidth": 2,
                        "linecolor": "white",
                        "showbackground": true,
                        "ticks": "",
                        "zerolinecolor": "white"
                      }
                    },
                    "shapedefaults": {
                      "line": {
                        "color": "#2a3f5f"
                      }
                    },
                    "ternary": {
                      "aaxis": {
                        "gridcolor": "white",
                        "linecolor": "white",
                        "ticks": ""
                      },
                      "baxis": {
                        "gridcolor": "white",
                        "linecolor": "white",
                        "ticks": ""
                      },
                      "bgcolor": "#E5ECF6",
                      "caxis": {
                        "gridcolor": "white",
                        "linecolor": "white",
                        "ticks": ""
                      }
                    },
                    "title": {
                      "x": 0.05
                    },
                    "xaxis": {
                      "automargin": true,
                      "gridcolor": "white",
                      "linecolor": "white",
                      "ticks": "",
                      "title": {
                        "standoff": 15
                      },
                      "zerolinecolor": "white",
                      "zerolinewidth": 2
                    },
                    "yaxis": {
                      "automargin": true,
                      "gridcolor": "white",
                      "linecolor": "white",
                      "ticks": "",
                      "title": {
                        "standoff": 15
                      },
                      "zerolinecolor": "white",
                      "zerolinewidth": 2
                    }
                  }
                },
                "title": {
                  "text": "F80-F89 - Transtornos do desenvolvimento psicológico"
                },
                "xaxis": {
                  "title": {
                    "text": "Time"
                  }
                },
                "yaxis": {
                  "title": {
                    "text": "Value"
                  }
                }
              }
            }
          },
          "metadata": {},
          "output_type": "display_data"
        },
        {
          "data": {
            "application/vnd.plotly.v1+json": {
              "config": {
                "plotlyServerURL": "https://plot.ly"
              },
              "data": [
                {
                  "marker": {
                    "color": "black"
                  },
                  "mode": "markers",
                  "name": "Real",
                  "type": "scatter",
                  "x": [
                    "2016-01-01T00:00:00.000000000",
                    "2016-02-01T00:00:00.000000000",
                    "2016-03-01T00:00:00.000000000",
                    "2016-04-01T00:00:00.000000000",
                    "2016-05-01T00:00:00.000000000",
                    "2016-06-01T00:00:00.000000000",
                    "2016-07-01T00:00:00.000000000",
                    "2016-08-01T00:00:00.000000000",
                    "2016-09-01T00:00:00.000000000",
                    "2016-10-01T00:00:00.000000000",
                    "2016-11-01T00:00:00.000000000",
                    "2016-12-01T00:00:00.000000000",
                    "2017-01-01T00:00:00.000000000",
                    "2017-02-01T00:00:00.000000000",
                    "2017-03-01T00:00:00.000000000",
                    "2017-04-01T00:00:00.000000000",
                    "2017-05-01T00:00:00.000000000",
                    "2017-06-01T00:00:00.000000000",
                    "2017-07-01T00:00:00.000000000",
                    "2017-08-01T00:00:00.000000000",
                    "2017-09-01T00:00:00.000000000",
                    "2017-10-01T00:00:00.000000000",
                    "2017-11-01T00:00:00.000000000",
                    "2017-12-01T00:00:00.000000000",
                    "2018-01-01T00:00:00.000000000",
                    "2018-02-01T00:00:00.000000000",
                    "2018-03-01T00:00:00.000000000",
                    "2018-04-01T00:00:00.000000000",
                    "2018-05-01T00:00:00.000000000",
                    "2018-06-01T00:00:00.000000000",
                    "2018-07-01T00:00:00.000000000",
                    "2018-08-01T00:00:00.000000000",
                    "2018-09-01T00:00:00.000000000",
                    "2018-10-01T00:00:00.000000000",
                    "2018-11-01T00:00:00.000000000",
                    "2018-12-01T00:00:00.000000000",
                    "2019-01-01T00:00:00.000000000",
                    "2019-02-01T00:00:00.000000000",
                    "2019-03-01T00:00:00.000000000",
                    "2019-04-01T00:00:00.000000000",
                    "2019-05-01T00:00:00.000000000",
                    "2019-06-01T00:00:00.000000000",
                    "2019-07-01T00:00:00.000000000",
                    "2019-08-01T00:00:00.000000000",
                    "2019-09-01T00:00:00.000000000",
                    "2019-10-01T00:00:00.000000000",
                    "2019-11-01T00:00:00.000000000",
                    "2019-12-01T00:00:00.000000000",
                    "2020-01-01T00:00:00.000000000",
                    "2020-02-01T00:00:00.000000000",
                    "2020-03-01T00:00:00.000000000",
                    "2020-04-01T00:00:00.000000000",
                    "2020-05-01T00:00:00.000000000",
                    "2020-06-01T00:00:00.000000000",
                    "2020-07-01T00:00:00.000000000",
                    "2020-08-01T00:00:00.000000000",
                    "2020-09-01T00:00:00.000000000",
                    "2020-10-01T00:00:00.000000000",
                    "2020-11-01T00:00:00.000000000",
                    "2020-12-01T00:00:00.000000000",
                    "2021-01-01T00:00:00.000000000",
                    "2021-02-01T00:00:00.000000000",
                    "2021-03-01T00:00:00.000000000",
                    "2021-04-01T00:00:00.000000000",
                    "2021-05-01T00:00:00.000000000",
                    "2021-06-01T00:00:00.000000000",
                    "2021-07-01T00:00:00.000000000",
                    "2021-08-01T00:00:00.000000000",
                    "2021-09-01T00:00:00.000000000",
                    "2021-10-01T00:00:00.000000000",
                    "2021-11-01T00:00:00.000000000",
                    "2021-12-01T00:00:00.000000000",
                    "2022-01-01T00:00:00.000000000",
                    "2022-02-01T00:00:00.000000000",
                    "2022-03-01T00:00:00.000000000",
                    "2022-04-01T00:00:00.000000000",
                    "2022-05-01T00:00:00.000000000",
                    "2022-06-01T00:00:00.000000000",
                    "2022-07-01T00:00:00.000000000",
                    "2022-08-01T00:00:00.000000000",
                    "2022-09-01T00:00:00.000000000",
                    "2022-10-01T00:00:00.000000000",
                    "2022-11-01T00:00:00.000000000",
                    "2022-12-01T00:00:00.000000000",
                    "2023-01-01T00:00:00.000000000",
                    "2023-02-01T00:00:00.000000000",
                    "2023-03-01T00:00:00.000000000",
                    "2023-04-01T00:00:00.000000000",
                    "2023-05-01T00:00:00.000000000",
                    "2023-06-01T00:00:00.000000000",
                    "2023-07-01T00:00:00.000000000",
                    "2023-08-01T00:00:00.000000000",
                    "2023-09-01T00:00:00.000000000",
                    "2023-10-01T00:00:00.000000000",
                    "2023-11-01T00:00:00.000000000",
                    "2023-12-01T00:00:00.000000000",
                    "2024-01-01T00:00:00.000000000",
                    "2024-02-01T00:00:00.000000000",
                    "2024-03-01T00:00:00.000000000",
                    "2024-04-01T00:00:00.000000000",
                    "2024-05-01T00:00:00.000000000",
                    "2024-06-01T00:00:00.000000000",
                    "2024-07-01T00:00:00.000000000",
                    "2024-08-01T00:00:00.000000000",
                    "2024-09-01T00:00:00.000000000",
                    "2024-10-01T00:00:00.000000000",
                    "2024-11-01T00:00:00.000000000",
                    "2024-12-01T00:00:00.000000000"
                  ],
                  "y": [
                    0.31874074084871523,
                    0.2902786922870685,
                    0.2687556855459476,
                    0.27396112473850276,
                    0.2779123246587599,
                    0.2770402642957775,
                    0.2585788222552493,
                    0.2708672258560568,
                    0.2608404212753259,
                    0.269466212450905,
                    0.27078421784154916,
                    0.30991966377116853,
                    0.29529157906020986,
                    0.2961659078689691,
                    0.3084315863189124,
                    0.3148091097257205,
                    0.32080131927870714,
                    0.33491543804882795,
                    0.32381221609365823,
                    0.3306958937968725,
                    0.3281594922696422,
                    0.34849382348221775,
                    0.3589076925938651,
                    0.3752579710997347,
                    0.36659145856315367,
                    0.3930441782048954,
                    0.3957728086659175,
                    0.3879727285089492,
                    0.38789717277752883,
                    0.41258230617827035,
                    0.39006315703457517,
                    0.4124820718921878,
                    0.4387492099250015,
                    0.454845062783776,
                    0.4205271709959254,
                    0.42065577774693946,
                    0.4083019297199291,
                    0.4407067256623193,
                    0.41701303730155187,
                    0.39508731321808666,
                    0.39162814557749254,
                    0.4255747681497784,
                    0.43972771024645296,
                    0.4593383741327946,
                    0.4546603191681849,
                    0.4528268133974928,
                    0.4509013221003417,
                    0.4800922048223913,
                    0.45499672653698253,
                    0.5087061141099725,
                    0.4558782141336333,
                    0.39021275040440795,
                    0.3528686123530439,
                    0.3520393441803126,
                    0.3495884150812431,
                    0.381663724848535,
                    0.4269113178660723,
                    0.43732692960885033,
                    0.42947067635352415,
                    0.4298540277094406,
                    0.4228240939789286,
                    0.4601332861165398,
                    0.38561732019684936,
                    0.39811188119409424,
                    0.539810576797346,
                    0.5444098431638398,
                    0.4750235893335211,
                    0.5025376540159464,
                    0.5245283685816186,
                    0.5120908765173007,
                    0.5147530698073637,
                    0.4894053844366979,
                    0.36061830628668157,
                    0.5119534337300425,
                    0.5125623962138744,
                    0.49985412775020244,
                    0.49617685247081356,
                    0.47405504116695485,
                    0.47573229310707416,
                    0.5150740235994616,
                    0.5476433944695493,
                    0.5210437773859578,
                    0.5084790704711438,
                    0.4990760490010601,
                    0.566501287379477,
                    0.6078702614652999,
                    0.5601357473579842,
                    0.5509064333810978,
                    0.5701852299871478,
                    0.5739888338457293,
                    0.6020897337746102,
                    0.6187518951053448,
                    0.626810312417224,
                    0.6141730246304594,
                    0.6183944777085639,
                    0.6172905951753042,
                    0.6372610199861151,
                    0.6274850325041298,
                    0.5920098726029506,
                    0.5826677297669192,
                    0.614438682755705,
                    0.6422234008827606,
                    0.6565065216239371,
                    0.6668913877181735,
                    0.6469553542093909,
                    0.6284250038528912,
                    0.6419415953300387,
                    0.6306989811170917
                  ]
                },
                {
                  "line": {
                    "color": "black",
                    "dash": "dot"
                  },
                  "mode": "lines",
                  "name": "Baseline",
                  "type": "scatter",
                  "x": [
                    "2016-01-01T00:00:00.000000000",
                    "2016-02-01T00:00:00.000000000",
                    "2016-03-01T00:00:00.000000000",
                    "2016-04-01T00:00:00.000000000",
                    "2016-05-01T00:00:00.000000000",
                    "2016-06-01T00:00:00.000000000",
                    "2016-07-01T00:00:00.000000000",
                    "2016-08-01T00:00:00.000000000",
                    "2016-09-01T00:00:00.000000000",
                    "2016-10-01T00:00:00.000000000",
                    "2016-11-01T00:00:00.000000000",
                    "2016-12-01T00:00:00.000000000",
                    "2017-01-01T00:00:00.000000000",
                    "2017-02-01T00:00:00.000000000",
                    "2017-03-01T00:00:00.000000000",
                    "2017-04-01T00:00:00.000000000",
                    "2017-05-01T00:00:00.000000000",
                    "2017-06-01T00:00:00.000000000",
                    "2017-07-01T00:00:00.000000000",
                    "2017-08-01T00:00:00.000000000",
                    "2017-09-01T00:00:00.000000000",
                    "2017-10-01T00:00:00.000000000",
                    "2017-11-01T00:00:00.000000000",
                    "2017-12-01T00:00:00.000000000",
                    "2018-01-01T00:00:00.000000000",
                    "2018-02-01T00:00:00.000000000",
                    "2018-03-01T00:00:00.000000000",
                    "2018-04-01T00:00:00.000000000",
                    "2018-05-01T00:00:00.000000000",
                    "2018-06-01T00:00:00.000000000",
                    "2018-07-01T00:00:00.000000000",
                    "2018-08-01T00:00:00.000000000",
                    "2018-09-01T00:00:00.000000000",
                    "2018-10-01T00:00:00.000000000",
                    "2018-11-01T00:00:00.000000000",
                    "2018-12-01T00:00:00.000000000",
                    "2019-01-01T00:00:00.000000000",
                    "2019-02-01T00:00:00.000000000",
                    "2019-03-01T00:00:00.000000000",
                    "2019-04-01T00:00:00.000000000",
                    "2019-05-01T00:00:00.000000000",
                    "2019-06-01T00:00:00.000000000",
                    "2019-07-01T00:00:00.000000000",
                    "2019-08-01T00:00:00.000000000",
                    "2019-09-01T00:00:00.000000000",
                    "2019-10-01T00:00:00.000000000",
                    "2019-11-01T00:00:00.000000000",
                    "2019-12-01T00:00:00.000000000",
                    "2020-01-01T00:00:00.000000000",
                    "2020-02-01T00:00:00.000000000",
                    "2020-03-01T00:00:00.000000000",
                    "2020-04-01T00:00:00.000000000",
                    "2020-05-01T00:00:00.000000000",
                    "2020-06-01T00:00:00.000000000",
                    "2020-07-01T00:00:00.000000000",
                    "2020-08-01T00:00:00.000000000",
                    "2020-09-01T00:00:00.000000000",
                    "2020-10-01T00:00:00.000000000",
                    "2020-11-01T00:00:00.000000000",
                    "2020-12-01T00:00:00.000000000",
                    "2021-01-01T00:00:00.000000000",
                    "2021-02-01T00:00:00.000000000",
                    "2021-03-01T00:00:00.000000000",
                    "2021-04-01T00:00:00.000000000",
                    "2021-05-01T00:00:00.000000000",
                    "2021-06-01T00:00:00.000000000",
                    "2021-07-01T00:00:00.000000000",
                    "2021-08-01T00:00:00.000000000",
                    "2021-09-01T00:00:00.000000000",
                    "2021-10-01T00:00:00.000000000",
                    "2021-11-01T00:00:00.000000000",
                    "2021-12-01T00:00:00.000000000",
                    "2022-01-01T00:00:00.000000000",
                    "2022-02-01T00:00:00.000000000",
                    "2022-03-01T00:00:00.000000000",
                    "2022-04-01T00:00:00.000000000",
                    "2022-05-01T00:00:00.000000000",
                    "2022-06-01T00:00:00.000000000",
                    "2022-07-01T00:00:00.000000000",
                    "2022-08-01T00:00:00.000000000",
                    "2022-09-01T00:00:00.000000000",
                    "2022-10-01T00:00:00.000000000",
                    "2022-11-01T00:00:00.000000000",
                    "2022-12-01T00:00:00.000000000",
                    "2023-01-01T00:00:00.000000000",
                    "2023-02-01T00:00:00.000000000",
                    "2023-03-01T00:00:00.000000000",
                    "2023-04-01T00:00:00.000000000",
                    "2023-05-01T00:00:00.000000000",
                    "2023-06-01T00:00:00.000000000",
                    "2023-07-01T00:00:00.000000000",
                    "2023-08-01T00:00:00.000000000",
                    "2023-09-01T00:00:00.000000000",
                    "2023-10-01T00:00:00.000000000",
                    "2023-11-01T00:00:00.000000000",
                    "2023-12-01T00:00:00.000000000",
                    "2024-01-01T00:00:00.000000000",
                    "2024-02-01T00:00:00.000000000",
                    "2024-03-01T00:00:00.000000000",
                    "2024-04-01T00:00:00.000000000",
                    "2024-05-01T00:00:00.000000000",
                    "2024-06-01T00:00:00.000000000",
                    "2024-07-01T00:00:00.000000000",
                    "2024-08-01T00:00:00.000000000",
                    "2024-09-01T00:00:00.000000000",
                    "2024-10-01T00:00:00.000000000",
                    "2024-11-01T00:00:00.000000000",
                    "2024-12-01T00:00:00.000000000"
                  ],
                  "y": [
                    0.22819144569476185,
                    0.232909303984656,
                    0.23762716227455014,
                    0.2423450205644443,
                    0.24706287885433842,
                    0.25178073714423255,
                    0.2564985954341267,
                    0.26121645372402086,
                    0.265934312013915,
                    0.2706521703038091,
                    0.27537002859370324,
                    0.2800878868835974,
                    0.28480574517349155,
                    0.2895236034633857,
                    0.2942414617532798,
                    0.29895932004317394,
                    0.30367717833306807,
                    0.30839503662296225,
                    0.3131128949128564,
                    0.3178307532027505,
                    0.32254861149264463,
                    0.3272664697825388,
                    0.33198432807243294,
                    0.33670218636232707,
                    0.3414200446522212,
                    0.3461379029421153,
                    0.35085576123200946,
                    0.3555736195219036,
                    0.36029147781179777,
                    0.3650093361016919,
                    0.3697271943915861,
                    0.3744450526814802,
                    0.37916291097137433,
                    0.38388076926126846,
                    0.3885986275511626,
                    0.3933164858410567,
                    0.39803434413095085,
                    0.402752202420845,
                    0.40747006071073916,
                    0.4121879190006333,
                    0.41690577729052747,
                    0.4216236355804216,
                    0.4263414938703157,
                    0.43105935216020985,
                    0.435777210450104,
                    0.4404950687399981,
                    0.44521292702989224,
                    0.4499307853197864,
                    0.45464864360968055,
                    0.4593665018995747,
                    0.46408436018946886,
                    0.468802218479363,
                    0.4735200767692571,
                    0.47823793505915124,
                    0.48295579334904537,
                    0.4876736516389395,
                    0.4923915099288337,
                    0.4971093682187278,
                    0.5018272265086219,
                    0.506545084798516,
                    0.5112629430884101,
                    0.5159808013783044,
                    0.5206986596681985,
                    0.5254165179580926,
                    0.5301343762479868,
                    0.5348522345378809,
                    0.5395700928277751,
                    0.5442879511176693,
                    0.5490058094075634,
                    0.5537236676974575,
                    0.5584415259873516,
                    0.5631593842772458,
                    0.5678772425671399,
                    0.572595100857034,
                    0.5773129591469282,
                    0.5820308174368223,
                    0.5867486757267164,
                    0.5914665340166105,
                    0.5961843923065047,
                    0.6009022505963988,
                    0.6056201088862929,
                    0.6103379671761872,
                    0.6150558254660813,
                    0.6197736837559754,
                    0.6244915420458695,
                    0.6292094003357637,
                    0.6339272586256579,
                    0.638645116915552,
                    0.6433629752054462,
                    0.6480808334953403,
                    0.6527986917852344,
                    0.6575165500751285,
                    0.6622344083650227,
                    0.6669522666549168,
                    0.6716701249448109,
                    0.6763879832347051,
                    0.6811058415245992,
                    0.6858236998144933,
                    0.6905415581043874,
                    0.6952594163942816,
                    0.6999772746841758,
                    0.7046951329740699,
                    0.7094129912639641,
                    0.7141308495538582,
                    0.7188487078437523,
                    0.7235665661336466,
                    0.7282844244235407,
                    0.7330022827134348
                  ]
                },
                {
                  "line": {
                    "color": "purple"
                  },
                  "mode": "lines",
                  "name": "Full model",
                  "type": "scatter",
                  "x": [
                    "2016-01-01T00:00:00.000000000",
                    "2016-02-01T00:00:00.000000000",
                    "2016-03-01T00:00:00.000000000",
                    "2016-04-01T00:00:00.000000000",
                    "2016-05-01T00:00:00.000000000",
                    "2016-06-01T00:00:00.000000000",
                    "2016-07-01T00:00:00.000000000",
                    "2016-08-01T00:00:00.000000000",
                    "2016-09-01T00:00:00.000000000",
                    "2016-10-01T00:00:00.000000000",
                    "2016-11-01T00:00:00.000000000",
                    "2016-12-01T00:00:00.000000000",
                    "2017-01-01T00:00:00.000000000",
                    "2017-02-01T00:00:00.000000000",
                    "2017-03-01T00:00:00.000000000",
                    "2017-04-01T00:00:00.000000000",
                    "2017-05-01T00:00:00.000000000",
                    "2017-06-01T00:00:00.000000000",
                    "2017-07-01T00:00:00.000000000",
                    "2017-08-01T00:00:00.000000000",
                    "2017-09-01T00:00:00.000000000",
                    "2017-10-01T00:00:00.000000000",
                    "2017-11-01T00:00:00.000000000",
                    "2017-12-01T00:00:00.000000000",
                    "2018-01-01T00:00:00.000000000",
                    "2018-02-01T00:00:00.000000000",
                    "2018-03-01T00:00:00.000000000",
                    "2018-04-01T00:00:00.000000000",
                    "2018-05-01T00:00:00.000000000",
                    "2018-06-01T00:00:00.000000000",
                    "2018-07-01T00:00:00.000000000",
                    "2018-08-01T00:00:00.000000000",
                    "2018-09-01T00:00:00.000000000",
                    "2018-10-01T00:00:00.000000000",
                    "2018-11-01T00:00:00.000000000",
                    "2018-12-01T00:00:00.000000000",
                    "2019-01-01T00:00:00.000000000",
                    "2019-02-01T00:00:00.000000000",
                    "2019-03-01T00:00:00.000000000",
                    "2019-04-01T00:00:00.000000000",
                    "2019-05-01T00:00:00.000000000",
                    "2019-06-01T00:00:00.000000000",
                    "2019-07-01T00:00:00.000000000",
                    "2019-08-01T00:00:00.000000000",
                    "2019-09-01T00:00:00.000000000",
                    "2019-10-01T00:00:00.000000000",
                    "2019-11-01T00:00:00.000000000",
                    "2019-12-01T00:00:00.000000000",
                    "2020-01-01T00:00:00.000000000",
                    "2020-02-01T00:00:00.000000000",
                    "2020-03-01T00:00:00.000000000",
                    "2020-04-01T00:00:00.000000000",
                    "2020-05-01T00:00:00.000000000",
                    "2020-06-01T00:00:00.000000000",
                    "2020-07-01T00:00:00.000000000",
                    "2020-08-01T00:00:00.000000000",
                    "2020-09-01T00:00:00.000000000",
                    "2020-10-01T00:00:00.000000000",
                    "2020-11-01T00:00:00.000000000",
                    "2020-12-01T00:00:00.000000000",
                    "2021-01-01T00:00:00.000000000",
                    "2021-02-01T00:00:00.000000000",
                    "2021-03-01T00:00:00.000000000",
                    "2021-04-01T00:00:00.000000000",
                    "2021-05-01T00:00:00.000000000",
                    "2021-06-01T00:00:00.000000000",
                    "2021-07-01T00:00:00.000000000",
                    "2021-08-01T00:00:00.000000000",
                    "2021-09-01T00:00:00.000000000",
                    "2021-10-01T00:00:00.000000000",
                    "2021-11-01T00:00:00.000000000",
                    "2021-12-01T00:00:00.000000000",
                    "2022-01-01T00:00:00.000000000",
                    "2022-02-01T00:00:00.000000000",
                    "2022-03-01T00:00:00.000000000",
                    "2022-04-01T00:00:00.000000000",
                    "2022-05-01T00:00:00.000000000",
                    "2022-06-01T00:00:00.000000000",
                    "2022-07-01T00:00:00.000000000",
                    "2022-08-01T00:00:00.000000000",
                    "2022-09-01T00:00:00.000000000",
                    "2022-10-01T00:00:00.000000000",
                    "2022-11-01T00:00:00.000000000",
                    "2022-12-01T00:00:00.000000000",
                    "2023-01-01T00:00:00.000000000",
                    "2023-02-01T00:00:00.000000000",
                    "2023-03-01T00:00:00.000000000",
                    "2023-04-01T00:00:00.000000000",
                    "2023-05-01T00:00:00.000000000",
                    "2023-06-01T00:00:00.000000000",
                    "2023-07-01T00:00:00.000000000",
                    "2023-08-01T00:00:00.000000000",
                    "2023-09-01T00:00:00.000000000",
                    "2023-10-01T00:00:00.000000000",
                    "2023-11-01T00:00:00.000000000",
                    "2023-12-01T00:00:00.000000000",
                    "2024-01-01T00:00:00.000000000",
                    "2024-02-01T00:00:00.000000000",
                    "2024-03-01T00:00:00.000000000",
                    "2024-04-01T00:00:00.000000000",
                    "2024-05-01T00:00:00.000000000",
                    "2024-06-01T00:00:00.000000000",
                    "2024-07-01T00:00:00.000000000",
                    "2024-08-01T00:00:00.000000000",
                    "2024-09-01T00:00:00.000000000",
                    "2024-10-01T00:00:00.000000000",
                    "2024-11-01T00:00:00.000000000",
                    "2024-12-01T00:00:00.000000000"
                  ],
                  "y": [
                    0.22819144569476185,
                    0.232909303984656,
                    0.23762716227455014,
                    0.2423450205644443,
                    0.24706287885433842,
                    0.25178073714423255,
                    0.2564985954341267,
                    0.26121645372402086,
                    0.265934312013915,
                    0.2706521703038091,
                    0.27537002859370324,
                    0.2800878868835974,
                    0.28480574517349155,
                    0.2895236034633857,
                    0.2942414617532798,
                    0.29895932004317394,
                    0.30367717833306807,
                    0.30839503662296225,
                    0.3131128949128564,
                    0.3178307532027505,
                    0.32254861149264463,
                    0.3272664697825388,
                    0.33198432807243294,
                    0.33670218636232707,
                    0.3414200446522212,
                    0.3461379029421153,
                    0.35085576123200946,
                    0.3555736195219036,
                    0.36029147781179777,
                    0.3650093361016919,
                    0.3697271943915861,
                    0.3744450526814802,
                    0.37916291097137433,
                    0.38388076926126846,
                    0.3885986275511626,
                    0.3933164858410567,
                    0.39803434413095085,
                    0.402752202420845,
                    0.40747006071073916,
                    0.4121879190006333,
                    0.41690577729052747,
                    0.4216236355804216,
                    0.4263414938703157,
                    0.43105935216020985,
                    0.435777210450104,
                    0.4404950687399981,
                    0.44521292702989224,
                    0.4499307853197864,
                    0.45464864360968055,
                    0.4593665018995747,
                    0.37810279617192033,
                    0.38257768140787957,
                    0.38705256664383886,
                    0.39152745187979815,
                    0.3960023371157574,
                    0.4004772223517167,
                    0.40495210758767597,
                    0.4094269928236352,
                    0.4139018780595945,
                    0.4183767632955538,
                    0.422851648531513,
                    0.4273265337674724,
                    0.4238863248180832,
                    0.42938829911240384,
                    0.4348902734067244,
                    0.44039224770104507,
                    0.4458942219953658,
                    0.45139619628968647,
                    0.45689817058400706,
                    0.4624001448783277,
                    0.46790211917264835,
                    0.473404093466969,
                    0.47890606776128963,
                    0.4844080420556102,
                    0.48991001634993087,
                    0.4848830242852638,
                    0.48983031483050743,
                    0.49477760537575105,
                    0.49972489592099467,
                    0.5046721864662382,
                    0.5096194770114819,
                    0.5145667675567256,
                    0.5195140581019693,
                    0.5244613486472128,
                    0.5294086391924565,
                    0.5343559297377001,
                    0.5393032202829439,
                    0.5442505108281874,
                    0.5491978013734311,
                    0.5541450919186747,
                    0.5590923824639182,
                    0.5640396730091619,
                    0.5689869635544055,
                    0.5739342540996492,
                    0.5788815446448927,
                    0.5838288351901364,
                    0.58877612573538,
                    0.5937234162806236,
                    0.5986707068258672,
                    0.6036179973711109,
                    0.6085652879163546,
                    0.6135125784615982,
                    0.6184598690068418,
                    0.6234071595520855,
                    0.628354450097329,
                    0.6333017406425728,
                    0.6382490311878164,
                    0.64319632173306
                  ]
                }
              ],
              "layout": {
                "annotations": [
                  {
                    "arrowhead": 2,
                    "ax": 30,
                    "ay": -40,
                    "showarrow": true,
                    "text": "Pandemia",
                    "x": "2020-03-01",
                    "y": 0.6668913877181735
                  },
                  {
                    "arrowhead": 2,
                    "ax": 30,
                    "ay": -40,
                    "showarrow": true,
                    "text": "Pos Pandemia",
                    "x": "2022-04-01",
                    "y": 0.6668913877181735
                  }
                ],
                "legend": {
                  "title": {
                    "text": "Legend"
                  }
                },
                "shapes": [
                  {
                    "fillcolor": "rgba(0, 0, 0, 0.25)",
                    "layer": "below",
                    "line": {
                      "width": 0
                    },
                    "opacity": 0.3,
                    "type": "rect",
                    "x0": "2020-03-01",
                    "x1": "2020-07-01",
                    "xref": "x",
                    "y0": 0,
                    "y1": 1,
                    "yref": "paper"
                  },
                  {
                    "fillcolor": "rgba(0, 0, 0, 0.25)",
                    "layer": "below",
                    "line": {
                      "width": 0
                    },
                    "opacity": 0.3,
                    "type": "rect",
                    "x0": "2021-04-01",
                    "x1": "2021-05-01",
                    "xref": "x",
                    "y0": 0,
                    "y1": 1,
                    "yref": "paper"
                  },
                  {
                    "line": {
                      "color": "black",
                      "dash": "dash"
                    },
                    "type": "line",
                    "x0": "2020-03-01",
                    "x1": "2020-03-01",
                    "y0": 0.2585788222552493,
                    "y1": 0.6668913877181735
                  },
                  {
                    "line": {
                      "color": "black",
                      "dash": "dash"
                    },
                    "type": "line",
                    "x0": "2022-04-01",
                    "x1": "2022-04-01",
                    "y0": 0.2585788222552493,
                    "y1": 0.6668913877181735
                  }
                ],
                "template": {
                  "data": {
                    "bar": [
                      {
                        "error_x": {
                          "color": "#2a3f5f"
                        },
                        "error_y": {
                          "color": "#2a3f5f"
                        },
                        "marker": {
                          "line": {
                            "color": "#E5ECF6",
                            "width": 0.5
                          },
                          "pattern": {
                            "fillmode": "overlay",
                            "size": 10,
                            "solidity": 0.2
                          }
                        },
                        "type": "bar"
                      }
                    ],
                    "barpolar": [
                      {
                        "marker": {
                          "line": {
                            "color": "#E5ECF6",
                            "width": 0.5
                          },
                          "pattern": {
                            "fillmode": "overlay",
                            "size": 10,
                            "solidity": 0.2
                          }
                        },
                        "type": "barpolar"
                      }
                    ],
                    "carpet": [
                      {
                        "aaxis": {
                          "endlinecolor": "#2a3f5f",
                          "gridcolor": "white",
                          "linecolor": "white",
                          "minorgridcolor": "white",
                          "startlinecolor": "#2a3f5f"
                        },
                        "baxis": {
                          "endlinecolor": "#2a3f5f",
                          "gridcolor": "white",
                          "linecolor": "white",
                          "minorgridcolor": "white",
                          "startlinecolor": "#2a3f5f"
                        },
                        "type": "carpet"
                      }
                    ],
                    "choropleth": [
                      {
                        "colorbar": {
                          "outlinewidth": 0,
                          "ticks": ""
                        },
                        "type": "choropleth"
                      }
                    ],
                    "contour": [
                      {
                        "colorbar": {
                          "outlinewidth": 0,
                          "ticks": ""
                        },
                        "colorscale": [
                          [
                            0,
                            "#0d0887"
                          ],
                          [
                            0.1111111111111111,
                            "#46039f"
                          ],
                          [
                            0.2222222222222222,
                            "#7201a8"
                          ],
                          [
                            0.3333333333333333,
                            "#9c179e"
                          ],
                          [
                            0.4444444444444444,
                            "#bd3786"
                          ],
                          [
                            0.5555555555555556,
                            "#d8576b"
                          ],
                          [
                            0.6666666666666666,
                            "#ed7953"
                          ],
                          [
                            0.7777777777777778,
                            "#fb9f3a"
                          ],
                          [
                            0.8888888888888888,
                            "#fdca26"
                          ],
                          [
                            1,
                            "#f0f921"
                          ]
                        ],
                        "type": "contour"
                      }
                    ],
                    "contourcarpet": [
                      {
                        "colorbar": {
                          "outlinewidth": 0,
                          "ticks": ""
                        },
                        "type": "contourcarpet"
                      }
                    ],
                    "heatmap": [
                      {
                        "colorbar": {
                          "outlinewidth": 0,
                          "ticks": ""
                        },
                        "colorscale": [
                          [
                            0,
                            "#0d0887"
                          ],
                          [
                            0.1111111111111111,
                            "#46039f"
                          ],
                          [
                            0.2222222222222222,
                            "#7201a8"
                          ],
                          [
                            0.3333333333333333,
                            "#9c179e"
                          ],
                          [
                            0.4444444444444444,
                            "#bd3786"
                          ],
                          [
                            0.5555555555555556,
                            "#d8576b"
                          ],
                          [
                            0.6666666666666666,
                            "#ed7953"
                          ],
                          [
                            0.7777777777777778,
                            "#fb9f3a"
                          ],
                          [
                            0.8888888888888888,
                            "#fdca26"
                          ],
                          [
                            1,
                            "#f0f921"
                          ]
                        ],
                        "type": "heatmap"
                      }
                    ],
                    "heatmapgl": [
                      {
                        "colorbar": {
                          "outlinewidth": 0,
                          "ticks": ""
                        },
                        "colorscale": [
                          [
                            0,
                            "#0d0887"
                          ],
                          [
                            0.1111111111111111,
                            "#46039f"
                          ],
                          [
                            0.2222222222222222,
                            "#7201a8"
                          ],
                          [
                            0.3333333333333333,
                            "#9c179e"
                          ],
                          [
                            0.4444444444444444,
                            "#bd3786"
                          ],
                          [
                            0.5555555555555556,
                            "#d8576b"
                          ],
                          [
                            0.6666666666666666,
                            "#ed7953"
                          ],
                          [
                            0.7777777777777778,
                            "#fb9f3a"
                          ],
                          [
                            0.8888888888888888,
                            "#fdca26"
                          ],
                          [
                            1,
                            "#f0f921"
                          ]
                        ],
                        "type": "heatmapgl"
                      }
                    ],
                    "histogram": [
                      {
                        "marker": {
                          "pattern": {
                            "fillmode": "overlay",
                            "size": 10,
                            "solidity": 0.2
                          }
                        },
                        "type": "histogram"
                      }
                    ],
                    "histogram2d": [
                      {
                        "colorbar": {
                          "outlinewidth": 0,
                          "ticks": ""
                        },
                        "colorscale": [
                          [
                            0,
                            "#0d0887"
                          ],
                          [
                            0.1111111111111111,
                            "#46039f"
                          ],
                          [
                            0.2222222222222222,
                            "#7201a8"
                          ],
                          [
                            0.3333333333333333,
                            "#9c179e"
                          ],
                          [
                            0.4444444444444444,
                            "#bd3786"
                          ],
                          [
                            0.5555555555555556,
                            "#d8576b"
                          ],
                          [
                            0.6666666666666666,
                            "#ed7953"
                          ],
                          [
                            0.7777777777777778,
                            "#fb9f3a"
                          ],
                          [
                            0.8888888888888888,
                            "#fdca26"
                          ],
                          [
                            1,
                            "#f0f921"
                          ]
                        ],
                        "type": "histogram2d"
                      }
                    ],
                    "histogram2dcontour": [
                      {
                        "colorbar": {
                          "outlinewidth": 0,
                          "ticks": ""
                        },
                        "colorscale": [
                          [
                            0,
                            "#0d0887"
                          ],
                          [
                            0.1111111111111111,
                            "#46039f"
                          ],
                          [
                            0.2222222222222222,
                            "#7201a8"
                          ],
                          [
                            0.3333333333333333,
                            "#9c179e"
                          ],
                          [
                            0.4444444444444444,
                            "#bd3786"
                          ],
                          [
                            0.5555555555555556,
                            "#d8576b"
                          ],
                          [
                            0.6666666666666666,
                            "#ed7953"
                          ],
                          [
                            0.7777777777777778,
                            "#fb9f3a"
                          ],
                          [
                            0.8888888888888888,
                            "#fdca26"
                          ],
                          [
                            1,
                            "#f0f921"
                          ]
                        ],
                        "type": "histogram2dcontour"
                      }
                    ],
                    "mesh3d": [
                      {
                        "colorbar": {
                          "outlinewidth": 0,
                          "ticks": ""
                        },
                        "type": "mesh3d"
                      }
                    ],
                    "parcoords": [
                      {
                        "line": {
                          "colorbar": {
                            "outlinewidth": 0,
                            "ticks": ""
                          }
                        },
                        "type": "parcoords"
                      }
                    ],
                    "pie": [
                      {
                        "automargin": true,
                        "type": "pie"
                      }
                    ],
                    "scatter": [
                      {
                        "fillpattern": {
                          "fillmode": "overlay",
                          "size": 10,
                          "solidity": 0.2
                        },
                        "type": "scatter"
                      }
                    ],
                    "scatter3d": [
                      {
                        "line": {
                          "colorbar": {
                            "outlinewidth": 0,
                            "ticks": ""
                          }
                        },
                        "marker": {
                          "colorbar": {
                            "outlinewidth": 0,
                            "ticks": ""
                          }
                        },
                        "type": "scatter3d"
                      }
                    ],
                    "scattercarpet": [
                      {
                        "marker": {
                          "colorbar": {
                            "outlinewidth": 0,
                            "ticks": ""
                          }
                        },
                        "type": "scattercarpet"
                      }
                    ],
                    "scattergeo": [
                      {
                        "marker": {
                          "colorbar": {
                            "outlinewidth": 0,
                            "ticks": ""
                          }
                        },
                        "type": "scattergeo"
                      }
                    ],
                    "scattergl": [
                      {
                        "marker": {
                          "colorbar": {
                            "outlinewidth": 0,
                            "ticks": ""
                          }
                        },
                        "type": "scattergl"
                      }
                    ],
                    "scattermapbox": [
                      {
                        "marker": {
                          "colorbar": {
                            "outlinewidth": 0,
                            "ticks": ""
                          }
                        },
                        "type": "scattermapbox"
                      }
                    ],
                    "scatterpolar": [
                      {
                        "marker": {
                          "colorbar": {
                            "outlinewidth": 0,
                            "ticks": ""
                          }
                        },
                        "type": "scatterpolar"
                      }
                    ],
                    "scatterpolargl": [
                      {
                        "marker": {
                          "colorbar": {
                            "outlinewidth": 0,
                            "ticks": ""
                          }
                        },
                        "type": "scatterpolargl"
                      }
                    ],
                    "scatterternary": [
                      {
                        "marker": {
                          "colorbar": {
                            "outlinewidth": 0,
                            "ticks": ""
                          }
                        },
                        "type": "scatterternary"
                      }
                    ],
                    "surface": [
                      {
                        "colorbar": {
                          "outlinewidth": 0,
                          "ticks": ""
                        },
                        "colorscale": [
                          [
                            0,
                            "#0d0887"
                          ],
                          [
                            0.1111111111111111,
                            "#46039f"
                          ],
                          [
                            0.2222222222222222,
                            "#7201a8"
                          ],
                          [
                            0.3333333333333333,
                            "#9c179e"
                          ],
                          [
                            0.4444444444444444,
                            "#bd3786"
                          ],
                          [
                            0.5555555555555556,
                            "#d8576b"
                          ],
                          [
                            0.6666666666666666,
                            "#ed7953"
                          ],
                          [
                            0.7777777777777778,
                            "#fb9f3a"
                          ],
                          [
                            0.8888888888888888,
                            "#fdca26"
                          ],
                          [
                            1,
                            "#f0f921"
                          ]
                        ],
                        "type": "surface"
                      }
                    ],
                    "table": [
                      {
                        "cells": {
                          "fill": {
                            "color": "#EBF0F8"
                          },
                          "line": {
                            "color": "white"
                          }
                        },
                        "header": {
                          "fill": {
                            "color": "#C8D4E3"
                          },
                          "line": {
                            "color": "white"
                          }
                        },
                        "type": "table"
                      }
                    ]
                  },
                  "layout": {
                    "annotationdefaults": {
                      "arrowcolor": "#2a3f5f",
                      "arrowhead": 0,
                      "arrowwidth": 1
                    },
                    "autotypenumbers": "strict",
                    "coloraxis": {
                      "colorbar": {
                        "outlinewidth": 0,
                        "ticks": ""
                      }
                    },
                    "colorscale": {
                      "diverging": [
                        [
                          0,
                          "#8e0152"
                        ],
                        [
                          0.1,
                          "#c51b7d"
                        ],
                        [
                          0.2,
                          "#de77ae"
                        ],
                        [
                          0.3,
                          "#f1b6da"
                        ],
                        [
                          0.4,
                          "#fde0ef"
                        ],
                        [
                          0.5,
                          "#f7f7f7"
                        ],
                        [
                          0.6,
                          "#e6f5d0"
                        ],
                        [
                          0.7,
                          "#b8e186"
                        ],
                        [
                          0.8,
                          "#7fbc41"
                        ],
                        [
                          0.9,
                          "#4d9221"
                        ],
                        [
                          1,
                          "#276419"
                        ]
                      ],
                      "sequential": [
                        [
                          0,
                          "#0d0887"
                        ],
                        [
                          0.1111111111111111,
                          "#46039f"
                        ],
                        [
                          0.2222222222222222,
                          "#7201a8"
                        ],
                        [
                          0.3333333333333333,
                          "#9c179e"
                        ],
                        [
                          0.4444444444444444,
                          "#bd3786"
                        ],
                        [
                          0.5555555555555556,
                          "#d8576b"
                        ],
                        [
                          0.6666666666666666,
                          "#ed7953"
                        ],
                        [
                          0.7777777777777778,
                          "#fb9f3a"
                        ],
                        [
                          0.8888888888888888,
                          "#fdca26"
                        ],
                        [
                          1,
                          "#f0f921"
                        ]
                      ],
                      "sequentialminus": [
                        [
                          0,
                          "#0d0887"
                        ],
                        [
                          0.1111111111111111,
                          "#46039f"
                        ],
                        [
                          0.2222222222222222,
                          "#7201a8"
                        ],
                        [
                          0.3333333333333333,
                          "#9c179e"
                        ],
                        [
                          0.4444444444444444,
                          "#bd3786"
                        ],
                        [
                          0.5555555555555556,
                          "#d8576b"
                        ],
                        [
                          0.6666666666666666,
                          "#ed7953"
                        ],
                        [
                          0.7777777777777778,
                          "#fb9f3a"
                        ],
                        [
                          0.8888888888888888,
                          "#fdca26"
                        ],
                        [
                          1,
                          "#f0f921"
                        ]
                      ]
                    },
                    "colorway": [
                      "#636efa",
                      "#EF553B",
                      "#00cc96",
                      "#ab63fa",
                      "#FFA15A",
                      "#19d3f3",
                      "#FF6692",
                      "#B6E880",
                      "#FF97FF",
                      "#FECB52"
                    ],
                    "font": {
                      "color": "#2a3f5f"
                    },
                    "geo": {
                      "bgcolor": "white",
                      "lakecolor": "white",
                      "landcolor": "#E5ECF6",
                      "showlakes": true,
                      "showland": true,
                      "subunitcolor": "white"
                    },
                    "hoverlabel": {
                      "align": "left"
                    },
                    "hovermode": "closest",
                    "mapbox": {
                      "style": "light"
                    },
                    "paper_bgcolor": "white",
                    "plot_bgcolor": "#E5ECF6",
                    "polar": {
                      "angularaxis": {
                        "gridcolor": "white",
                        "linecolor": "white",
                        "ticks": ""
                      },
                      "bgcolor": "#E5ECF6",
                      "radialaxis": {
                        "gridcolor": "white",
                        "linecolor": "white",
                        "ticks": ""
                      }
                    },
                    "scene": {
                      "xaxis": {
                        "backgroundcolor": "#E5ECF6",
                        "gridcolor": "white",
                        "gridwidth": 2,
                        "linecolor": "white",
                        "showbackground": true,
                        "ticks": "",
                        "zerolinecolor": "white"
                      },
                      "yaxis": {
                        "backgroundcolor": "#E5ECF6",
                        "gridcolor": "white",
                        "gridwidth": 2,
                        "linecolor": "white",
                        "showbackground": true,
                        "ticks": "",
                        "zerolinecolor": "white"
                      },
                      "zaxis": {
                        "backgroundcolor": "#E5ECF6",
                        "gridcolor": "white",
                        "gridwidth": 2,
                        "linecolor": "white",
                        "showbackground": true,
                        "ticks": "",
                        "zerolinecolor": "white"
                      }
                    },
                    "shapedefaults": {
                      "line": {
                        "color": "#2a3f5f"
                      }
                    },
                    "ternary": {
                      "aaxis": {
                        "gridcolor": "white",
                        "linecolor": "white",
                        "ticks": ""
                      },
                      "baxis": {
                        "gridcolor": "white",
                        "linecolor": "white",
                        "ticks": ""
                      },
                      "bgcolor": "#E5ECF6",
                      "caxis": {
                        "gridcolor": "white",
                        "linecolor": "white",
                        "ticks": ""
                      }
                    },
                    "title": {
                      "x": 0.05
                    },
                    "xaxis": {
                      "automargin": true,
                      "gridcolor": "white",
                      "linecolor": "white",
                      "ticks": "",
                      "title": {
                        "standoff": 15
                      },
                      "zerolinecolor": "white",
                      "zerolinewidth": 2
                    },
                    "yaxis": {
                      "automargin": true,
                      "gridcolor": "white",
                      "linecolor": "white",
                      "ticks": "",
                      "title": {
                        "standoff": 15
                      },
                      "zerolinecolor": "white",
                      "zerolinewidth": 2
                    }
                  }
                },
                "title": {
                  "text": "F70-F79 - Retardo mental"
                },
                "xaxis": {
                  "title": {
                    "text": "Time"
                  }
                },
                "yaxis": {
                  "title": {
                    "text": "Value"
                  }
                }
              }
            }
          },
          "metadata": {},
          "output_type": "display_data"
        },
        {
          "data": {
            "application/vnd.plotly.v1+json": {
              "config": {
                "plotlyServerURL": "https://plot.ly"
              },
              "data": [
                {
                  "marker": {
                    "color": "black"
                  },
                  "mode": "markers",
                  "name": "Real",
                  "type": "scatter",
                  "x": [
                    "2016-01-01T00:00:00.000000000",
                    "2016-02-01T00:00:00.000000000",
                    "2016-03-01T00:00:00.000000000",
                    "2016-04-01T00:00:00.000000000",
                    "2016-05-01T00:00:00.000000000",
                    "2016-06-01T00:00:00.000000000",
                    "2016-07-01T00:00:00.000000000",
                    "2016-08-01T00:00:00.000000000",
                    "2016-09-01T00:00:00.000000000",
                    "2016-10-01T00:00:00.000000000",
                    "2016-11-01T00:00:00.000000000",
                    "2016-12-01T00:00:00.000000000",
                    "2017-01-01T00:00:00.000000000",
                    "2017-02-01T00:00:00.000000000",
                    "2017-03-01T00:00:00.000000000",
                    "2017-04-01T00:00:00.000000000",
                    "2017-05-01T00:00:00.000000000",
                    "2017-06-01T00:00:00.000000000",
                    "2017-07-01T00:00:00.000000000",
                    "2017-08-01T00:00:00.000000000",
                    "2017-09-01T00:00:00.000000000",
                    "2017-10-01T00:00:00.000000000",
                    "2017-11-01T00:00:00.000000000",
                    "2017-12-01T00:00:00.000000000",
                    "2018-01-01T00:00:00.000000000",
                    "2018-02-01T00:00:00.000000000",
                    "2018-03-01T00:00:00.000000000",
                    "2018-04-01T00:00:00.000000000",
                    "2018-05-01T00:00:00.000000000",
                    "2018-06-01T00:00:00.000000000",
                    "2018-07-01T00:00:00.000000000",
                    "2018-08-01T00:00:00.000000000",
                    "2018-09-01T00:00:00.000000000",
                    "2018-10-01T00:00:00.000000000",
                    "2018-11-01T00:00:00.000000000",
                    "2018-12-01T00:00:00.000000000",
                    "2019-01-01T00:00:00.000000000",
                    "2019-02-01T00:00:00.000000000",
                    "2019-03-01T00:00:00.000000000",
                    "2019-04-01T00:00:00.000000000",
                    "2019-05-01T00:00:00.000000000",
                    "2019-06-01T00:00:00.000000000",
                    "2019-07-01T00:00:00.000000000",
                    "2019-08-01T00:00:00.000000000",
                    "2019-09-01T00:00:00.000000000",
                    "2019-10-01T00:00:00.000000000",
                    "2019-11-01T00:00:00.000000000",
                    "2019-12-01T00:00:00.000000000",
                    "2020-01-01T00:00:00.000000000",
                    "2020-02-01T00:00:00.000000000",
                    "2020-03-01T00:00:00.000000000",
                    "2020-04-01T00:00:00.000000000",
                    "2020-05-01T00:00:00.000000000",
                    "2020-06-01T00:00:00.000000000",
                    "2020-07-01T00:00:00.000000000",
                    "2020-08-01T00:00:00.000000000",
                    "2020-09-01T00:00:00.000000000",
                    "2020-10-01T00:00:00.000000000",
                    "2020-11-01T00:00:00.000000000",
                    "2020-12-01T00:00:00.000000000",
                    "2021-01-01T00:00:00.000000000",
                    "2021-02-01T00:00:00.000000000",
                    "2021-03-01T00:00:00.000000000",
                    "2021-04-01T00:00:00.000000000",
                    "2021-05-01T00:00:00.000000000",
                    "2021-06-01T00:00:00.000000000",
                    "2021-07-01T00:00:00.000000000",
                    "2021-08-01T00:00:00.000000000",
                    "2021-09-01T00:00:00.000000000",
                    "2021-10-01T00:00:00.000000000",
                    "2021-11-01T00:00:00.000000000",
                    "2021-12-01T00:00:00.000000000",
                    "2022-01-01T00:00:00.000000000",
                    "2022-02-01T00:00:00.000000000",
                    "2022-03-01T00:00:00.000000000",
                    "2022-04-01T00:00:00.000000000",
                    "2022-05-01T00:00:00.000000000",
                    "2022-06-01T00:00:00.000000000",
                    "2022-07-01T00:00:00.000000000",
                    "2022-08-01T00:00:00.000000000",
                    "2022-09-01T00:00:00.000000000",
                    "2022-10-01T00:00:00.000000000",
                    "2022-11-01T00:00:00.000000000",
                    "2022-12-01T00:00:00.000000000",
                    "2023-01-01T00:00:00.000000000",
                    "2023-02-01T00:00:00.000000000",
                    "2023-03-01T00:00:00.000000000",
                    "2023-04-01T00:00:00.000000000",
                    "2023-05-01T00:00:00.000000000",
                    "2023-06-01T00:00:00.000000000",
                    "2023-07-01T00:00:00.000000000",
                    "2023-08-01T00:00:00.000000000",
                    "2023-09-01T00:00:00.000000000",
                    "2023-10-01T00:00:00.000000000",
                    "2023-11-01T00:00:00.000000000",
                    "2023-12-01T00:00:00.000000000",
                    "2024-01-01T00:00:00.000000000",
                    "2024-02-01T00:00:00.000000000",
                    "2024-03-01T00:00:00.000000000",
                    "2024-04-01T00:00:00.000000000",
                    "2024-05-01T00:00:00.000000000",
                    "2024-06-01T00:00:00.000000000",
                    "2024-07-01T00:00:00.000000000",
                    "2024-08-01T00:00:00.000000000",
                    "2024-09-01T00:00:00.000000000",
                    "2024-10-01T00:00:00.000000000",
                    "2024-11-01T00:00:00.000000000",
                    "2024-12-01T00:00:00.000000000"
                  ],
                  "y": [
                    0.09474762875838334,
                    0.08828114337540577,
                    0.07128232407792773,
                    0.06608867392230765,
                    0.06558628782121331,
                    0.07219548697284006,
                    0.07604235890009688,
                    0.07134830712612224,
                    0.08235339086805889,
                    0.07734501491326473,
                    0.07827032330412312,
                    0.07980466039786024,
                    0.08916058177796347,
                    0.08422894424617965,
                    0.08099644260756936,
                    0.0946672095388631,
                    0.09566082619746241,
                    0.1121281218028971,
                    0.10234589387353657,
                    0.1025462776825233,
                    0.11509585226433902,
                    0.12671993163288747,
                    0.11663934622261243,
                    0.11913427791011169,
                    0.10990536847486422,
                    0.11694471302899569,
                    0.11468112981326749,
                    0.111487027039005,
                    0.11030939244562091,
                    0.12545695557597716,
                    0.11874263045569719,
                    0.1352869819127269,
                    0.14108348629005896,
                    0.1551351730117477,
                    0.1542945320458354,
                    0.16188916979236292,
                    0.1408062049116172,
                    0.15090747772790522,
                    0.15480170765750373,
                    0.14696934412565638,
                    0.15692932677229116,
                    0.1632652518893842,
                    0.16822774068408985,
                    0.18411477693909437,
                    0.1794618029091033,
                    0.17828305158402322,
                    0.18185075474002524,
                    0.19188151228338293,
                    0.17393051811496962,
                    0.18734476715496967,
                    0.1803674201149292,
                    0.18437051449775402,
                    0.19915324423212888,
                    0.21142101174791483,
                    0.20266553325109687,
                    0.21196155492604027,
                    0.2226984912318038,
                    0.2214651640900285,
                    0.23310564018608387,
                    0.23513804038693023,
                    0.2271179263461446,
                    0.22013531408294273,
                    0.21391842226053784,
                    0.22036274573345657,
                    0.2087630156783019,
                    0.21568504526300095,
                    0.22272756928831539,
                    0.24086817680201308,
                    0.24314357933475755,
                    0.23783143996372313,
                    0.23815678678721716,
                    0.22941775804610434,
                    0.175060678431642,
                    0.2261210098566998,
                    0.23290626825567654,
                    0.22474970907012579,
                    0.21959548728443792,
                    0.20007273245589827,
                    0.22169325856707095,
                    0.21921210904758784,
                    0.22686117386876192,
                    0.21985048592580164,
                    0.203733288095581,
                    0.21363898530341813,
                    0.23605770463142983,
                    0.24937431292181494,
                    0.23123492231083886,
                    0.23173324869426223,
                    0.23211704199208838,
                    0.25375725973605207,
                    0.25626995149709353,
                    0.27137334264423474,
                    0.27464727440401837,
                    0.2721308693615835,
                    0.25851683944860665,
                    0.28238304576593176,
                    0.265254152507781,
                    0.2690006426965828,
                    0.2529607581286964,
                    0.25837577696738223,
                    0.27369445671865245,
                    0.3080452292728027,
                    0.3259230772513046,
                    0.33359230206074836,
                    0.3251382096849376,
                    0.3311022783624846,
                    0.3278013643554959,
                    0.33345028623391565
                  ]
                },
                {
                  "line": {
                    "color": "black",
                    "dash": "dot"
                  },
                  "mode": "lines",
                  "name": "Baseline",
                  "type": "scatter",
                  "x": [
                    "2016-01-01T00:00:00.000000000",
                    "2016-02-01T00:00:00.000000000",
                    "2016-03-01T00:00:00.000000000",
                    "2016-04-01T00:00:00.000000000",
                    "2016-05-01T00:00:00.000000000",
                    "2016-06-01T00:00:00.000000000",
                    "2016-07-01T00:00:00.000000000",
                    "2016-08-01T00:00:00.000000000",
                    "2016-09-01T00:00:00.000000000",
                    "2016-10-01T00:00:00.000000000",
                    "2016-11-01T00:00:00.000000000",
                    "2016-12-01T00:00:00.000000000",
                    "2017-01-01T00:00:00.000000000",
                    "2017-02-01T00:00:00.000000000",
                    "2017-03-01T00:00:00.000000000",
                    "2017-04-01T00:00:00.000000000",
                    "2017-05-01T00:00:00.000000000",
                    "2017-06-01T00:00:00.000000000",
                    "2017-07-01T00:00:00.000000000",
                    "2017-08-01T00:00:00.000000000",
                    "2017-09-01T00:00:00.000000000",
                    "2017-10-01T00:00:00.000000000",
                    "2017-11-01T00:00:00.000000000",
                    "2017-12-01T00:00:00.000000000",
                    "2018-01-01T00:00:00.000000000",
                    "2018-02-01T00:00:00.000000000",
                    "2018-03-01T00:00:00.000000000",
                    "2018-04-01T00:00:00.000000000",
                    "2018-05-01T00:00:00.000000000",
                    "2018-06-01T00:00:00.000000000",
                    "2018-07-01T00:00:00.000000000",
                    "2018-08-01T00:00:00.000000000",
                    "2018-09-01T00:00:00.000000000",
                    "2018-10-01T00:00:00.000000000",
                    "2018-11-01T00:00:00.000000000",
                    "2018-12-01T00:00:00.000000000",
                    "2019-01-01T00:00:00.000000000",
                    "2019-02-01T00:00:00.000000000",
                    "2019-03-01T00:00:00.000000000",
                    "2019-04-01T00:00:00.000000000",
                    "2019-05-01T00:00:00.000000000",
                    "2019-06-01T00:00:00.000000000",
                    "2019-07-01T00:00:00.000000000",
                    "2019-08-01T00:00:00.000000000",
                    "2019-09-01T00:00:00.000000000",
                    "2019-10-01T00:00:00.000000000",
                    "2019-11-01T00:00:00.000000000",
                    "2019-12-01T00:00:00.000000000",
                    "2020-01-01T00:00:00.000000000",
                    "2020-02-01T00:00:00.000000000",
                    "2020-03-01T00:00:00.000000000",
                    "2020-04-01T00:00:00.000000000",
                    "2020-05-01T00:00:00.000000000",
                    "2020-06-01T00:00:00.000000000",
                    "2020-07-01T00:00:00.000000000",
                    "2020-08-01T00:00:00.000000000",
                    "2020-09-01T00:00:00.000000000",
                    "2020-10-01T00:00:00.000000000",
                    "2020-11-01T00:00:00.000000000",
                    "2020-12-01T00:00:00.000000000",
                    "2021-01-01T00:00:00.000000000",
                    "2021-02-01T00:00:00.000000000",
                    "2021-03-01T00:00:00.000000000",
                    "2021-04-01T00:00:00.000000000",
                    "2021-05-01T00:00:00.000000000",
                    "2021-06-01T00:00:00.000000000",
                    "2021-07-01T00:00:00.000000000",
                    "2021-08-01T00:00:00.000000000",
                    "2021-09-01T00:00:00.000000000",
                    "2021-10-01T00:00:00.000000000",
                    "2021-11-01T00:00:00.000000000",
                    "2021-12-01T00:00:00.000000000",
                    "2022-01-01T00:00:00.000000000",
                    "2022-02-01T00:00:00.000000000",
                    "2022-03-01T00:00:00.000000000",
                    "2022-04-01T00:00:00.000000000",
                    "2022-05-01T00:00:00.000000000",
                    "2022-06-01T00:00:00.000000000",
                    "2022-07-01T00:00:00.000000000",
                    "2022-08-01T00:00:00.000000000",
                    "2022-09-01T00:00:00.000000000",
                    "2022-10-01T00:00:00.000000000",
                    "2022-11-01T00:00:00.000000000",
                    "2022-12-01T00:00:00.000000000",
                    "2023-01-01T00:00:00.000000000",
                    "2023-02-01T00:00:00.000000000",
                    "2023-03-01T00:00:00.000000000",
                    "2023-04-01T00:00:00.000000000",
                    "2023-05-01T00:00:00.000000000",
                    "2023-06-01T00:00:00.000000000",
                    "2023-07-01T00:00:00.000000000",
                    "2023-08-01T00:00:00.000000000",
                    "2023-09-01T00:00:00.000000000",
                    "2023-10-01T00:00:00.000000000",
                    "2023-11-01T00:00:00.000000000",
                    "2023-12-01T00:00:00.000000000",
                    "2024-01-01T00:00:00.000000000",
                    "2024-02-01T00:00:00.000000000",
                    "2024-03-01T00:00:00.000000000",
                    "2024-04-01T00:00:00.000000000",
                    "2024-05-01T00:00:00.000000000",
                    "2024-06-01T00:00:00.000000000",
                    "2024-07-01T00:00:00.000000000",
                    "2024-08-01T00:00:00.000000000",
                    "2024-09-01T00:00:00.000000000",
                    "2024-10-01T00:00:00.000000000",
                    "2024-11-01T00:00:00.000000000",
                    "2024-12-01T00:00:00.000000000"
                  ],
                  "y": [
                    0.04404190892042516,
                    0.04672797404748906,
                    0.049414039174552955,
                    0.05210010430161686,
                    0.05478616942868076,
                    0.057472234555744656,
                    0.06015829968280856,
                    0.06284436480987246,
                    0.06553042993693636,
                    0.06821649506400027,
                    0.07090256019106417,
                    0.07358862531812807,
                    0.07627469044519197,
                    0.07896075557225586,
                    0.08164682069931976,
                    0.08433288582638367,
                    0.08701895095344757,
                    0.08970501608051147,
                    0.09239108120757536,
                    0.09507714633463926,
                    0.09776321146170316,
                    0.10044927658876707,
                    0.10313534171583097,
                    0.10582140684289487,
                    0.10850747196995877,
                    0.11119353709702268,
                    0.11387960222408658,
                    0.11656566735115047,
                    0.11925173247821437,
                    0.12193779760527827,
                    0.12462386273234217,
                    0.1273099278594061,
                    0.12999599298646997,
                    0.1326820581135339,
                    0.13536812324059777,
                    0.1380541883676617,
                    0.14074025349472558,
                    0.14342631862178948,
                    0.14611238374885338,
                    0.14879844887591728,
                    0.15148451400298119,
                    0.1541705791300451,
                    0.156856644257109,
                    0.15954270938417286,
                    0.1622287745112368,
                    0.16491483963830067,
                    0.1676009047653646,
                    0.17028696989242847,
                    0.1729730350194924,
                    0.17565910014655628,
                    0.1783451652736202,
                    0.18103123040068408,
                    0.18371729552774801,
                    0.1864033606548119,
                    0.18908942578187582,
                    0.1917754909089397,
                    0.19446155603600357,
                    0.1971476211630675,
                    0.19983368629013137,
                    0.2025197514171953,
                    0.20520581654425918,
                    0.2078918816713231,
                    0.21057794679838698,
                    0.2132640119254509,
                    0.2159500770525148,
                    0.21863614217957872,
                    0.2213222073066426,
                    0.22400827243370652,
                    0.2266943375607704,
                    0.22938040268783433,
                    0.2320664678148982,
                    0.23475253294196213,
                    0.237438598069026,
                    0.24012466319608988,
                    0.2428107283231538,
                    0.2454967934502177,
                    0.24818285857728162,
                    0.2508689237043455,
                    0.2535549888314094,
                    0.2562410539584733,
                    0.2589271190855372,
                    0.2616131842126011,
                    0.26429924933966503,
                    0.2669853144667289,
                    0.26967137959379284,
                    0.2723574447208567,
                    0.27504350984792064,
                    0.2777295749749845,
                    0.2804156401020484,
                    0.2831017052291123,
                    0.2857877703561762,
                    0.2884738354832401,
                    0.291159900610304,
                    0.29384596573736793,
                    0.29653203086443186,
                    0.29921809599149574,
                    0.3019041611185596,
                    0.30459022624562354,
                    0.3072762913726874,
                    0.30996235649975135,
                    0.3126484216268152,
                    0.31533448675387915,
                    0.318020551880943,
                    0.32070661700800696,
                    0.32339268213507083,
                    0.32607874726213476,
                    0.32876481238919864,
                    0.33145087751626257
                  ]
                },
                {
                  "line": {
                    "color": "purple"
                  },
                  "mode": "lines",
                  "name": "Full model",
                  "type": "scatter",
                  "x": [
                    "2016-01-01T00:00:00.000000000",
                    "2016-02-01T00:00:00.000000000",
                    "2016-03-01T00:00:00.000000000",
                    "2016-04-01T00:00:00.000000000",
                    "2016-05-01T00:00:00.000000000",
                    "2016-06-01T00:00:00.000000000",
                    "2016-07-01T00:00:00.000000000",
                    "2016-08-01T00:00:00.000000000",
                    "2016-09-01T00:00:00.000000000",
                    "2016-10-01T00:00:00.000000000",
                    "2016-11-01T00:00:00.000000000",
                    "2016-12-01T00:00:00.000000000",
                    "2017-01-01T00:00:00.000000000",
                    "2017-02-01T00:00:00.000000000",
                    "2017-03-01T00:00:00.000000000",
                    "2017-04-01T00:00:00.000000000",
                    "2017-05-01T00:00:00.000000000",
                    "2017-06-01T00:00:00.000000000",
                    "2017-07-01T00:00:00.000000000",
                    "2017-08-01T00:00:00.000000000",
                    "2017-09-01T00:00:00.000000000",
                    "2017-10-01T00:00:00.000000000",
                    "2017-11-01T00:00:00.000000000",
                    "2017-12-01T00:00:00.000000000",
                    "2018-01-01T00:00:00.000000000",
                    "2018-02-01T00:00:00.000000000",
                    "2018-03-01T00:00:00.000000000",
                    "2018-04-01T00:00:00.000000000",
                    "2018-05-01T00:00:00.000000000",
                    "2018-06-01T00:00:00.000000000",
                    "2018-07-01T00:00:00.000000000",
                    "2018-08-01T00:00:00.000000000",
                    "2018-09-01T00:00:00.000000000",
                    "2018-10-01T00:00:00.000000000",
                    "2018-11-01T00:00:00.000000000",
                    "2018-12-01T00:00:00.000000000",
                    "2019-01-01T00:00:00.000000000",
                    "2019-02-01T00:00:00.000000000",
                    "2019-03-01T00:00:00.000000000",
                    "2019-04-01T00:00:00.000000000",
                    "2019-05-01T00:00:00.000000000",
                    "2019-06-01T00:00:00.000000000",
                    "2019-07-01T00:00:00.000000000",
                    "2019-08-01T00:00:00.000000000",
                    "2019-09-01T00:00:00.000000000",
                    "2019-10-01T00:00:00.000000000",
                    "2019-11-01T00:00:00.000000000",
                    "2019-12-01T00:00:00.000000000",
                    "2020-01-01T00:00:00.000000000",
                    "2020-02-01T00:00:00.000000000",
                    "2020-03-01T00:00:00.000000000",
                    "2020-04-01T00:00:00.000000000",
                    "2020-05-01T00:00:00.000000000",
                    "2020-06-01T00:00:00.000000000",
                    "2020-07-01T00:00:00.000000000",
                    "2020-08-01T00:00:00.000000000",
                    "2020-09-01T00:00:00.000000000",
                    "2020-10-01T00:00:00.000000000",
                    "2020-11-01T00:00:00.000000000",
                    "2020-12-01T00:00:00.000000000",
                    "2021-01-01T00:00:00.000000000",
                    "2021-02-01T00:00:00.000000000",
                    "2021-03-01T00:00:00.000000000",
                    "2021-04-01T00:00:00.000000000",
                    "2021-05-01T00:00:00.000000000",
                    "2021-06-01T00:00:00.000000000",
                    "2021-07-01T00:00:00.000000000",
                    "2021-08-01T00:00:00.000000000",
                    "2021-09-01T00:00:00.000000000",
                    "2021-10-01T00:00:00.000000000",
                    "2021-11-01T00:00:00.000000000",
                    "2021-12-01T00:00:00.000000000",
                    "2022-01-01T00:00:00.000000000",
                    "2022-02-01T00:00:00.000000000",
                    "2022-03-01T00:00:00.000000000",
                    "2022-04-01T00:00:00.000000000",
                    "2022-05-01T00:00:00.000000000",
                    "2022-06-01T00:00:00.000000000",
                    "2022-07-01T00:00:00.000000000",
                    "2022-08-01T00:00:00.000000000",
                    "2022-09-01T00:00:00.000000000",
                    "2022-10-01T00:00:00.000000000",
                    "2022-11-01T00:00:00.000000000",
                    "2022-12-01T00:00:00.000000000",
                    "2023-01-01T00:00:00.000000000",
                    "2023-02-01T00:00:00.000000000",
                    "2023-03-01T00:00:00.000000000",
                    "2023-04-01T00:00:00.000000000",
                    "2023-05-01T00:00:00.000000000",
                    "2023-06-01T00:00:00.000000000",
                    "2023-07-01T00:00:00.000000000",
                    "2023-08-01T00:00:00.000000000",
                    "2023-09-01T00:00:00.000000000",
                    "2023-10-01T00:00:00.000000000",
                    "2023-11-01T00:00:00.000000000",
                    "2023-12-01T00:00:00.000000000",
                    "2024-01-01T00:00:00.000000000",
                    "2024-02-01T00:00:00.000000000",
                    "2024-03-01T00:00:00.000000000",
                    "2024-04-01T00:00:00.000000000",
                    "2024-05-01T00:00:00.000000000",
                    "2024-06-01T00:00:00.000000000",
                    "2024-07-01T00:00:00.000000000",
                    "2024-08-01T00:00:00.000000000",
                    "2024-09-01T00:00:00.000000000",
                    "2024-10-01T00:00:00.000000000",
                    "2024-11-01T00:00:00.000000000",
                    "2024-12-01T00:00:00.000000000"
                  ],
                  "y": [
                    0.04404190892042516,
                    0.04672797404748906,
                    0.049414039174552955,
                    0.05210010430161686,
                    0.05478616942868076,
                    0.057472234555744656,
                    0.06015829968280856,
                    0.06284436480987246,
                    0.06553042993693636,
                    0.06821649506400027,
                    0.07090256019106417,
                    0.07358862531812807,
                    0.07627469044519197,
                    0.07896075557225586,
                    0.08164682069931976,
                    0.08433288582638367,
                    0.08701895095344757,
                    0.08970501608051147,
                    0.09239108120757536,
                    0.09507714633463926,
                    0.09776321146170316,
                    0.10044927658876707,
                    0.10313534171583097,
                    0.10582140684289487,
                    0.10850747196995877,
                    0.11119353709702268,
                    0.11387960222408658,
                    0.11656566735115047,
                    0.11925173247821437,
                    0.12193779760527827,
                    0.12462386273234217,
                    0.1273099278594061,
                    0.12999599298646997,
                    0.1326820581135339,
                    0.13536812324059777,
                    0.1380541883676617,
                    0.14074025349472558,
                    0.14342631862178948,
                    0.14611238374885338,
                    0.14879844887591728,
                    0.15148451400298119,
                    0.1541705791300451,
                    0.156856644257109,
                    0.15954270938417286,
                    0.1622287745112368,
                    0.16491483963830067,
                    0.1676009047653646,
                    0.17028696989242847,
                    0.1729730350194924,
                    0.17565910014655628,
                    0.18077167429884192,
                    0.1843992712058912,
                    0.18802686811294053,
                    0.1916544650199898,
                    0.19528206192703915,
                    0.19890965883408843,
                    0.20253725574113773,
                    0.20616485264818707,
                    0.20979244955523635,
                    0.21342004646228568,
                    0.21704764336933496,
                    0.2206752402763843,
                    0.2162170646056663,
                    0.21574486712155366,
                    0.21527266963744096,
                    0.21480047215332831,
                    0.2143282746692156,
                    0.21385607718510297,
                    0.21338387970099026,
                    0.21291168221687765,
                    0.21243948473276494,
                    0.2119672872486523,
                    0.2114950897645396,
                    0.2110228922804269,
                    0.21055069479631425,
                    0.1914882597169241,
                    0.1951970766152504,
                    0.19890589351357665,
                    0.20261471041190296,
                    0.2063235273102292,
                    0.21003234420855552,
                    0.21374116110688174,
                    0.21744997800520804,
                    0.2211587949035343,
                    0.2248676118018606,
                    0.22857642870018685,
                    0.23228524559851316,
                    0.2359940624968394,
                    0.23970287939516566,
                    0.24341169629349196,
                    0.24712051319181821,
                    0.2508293300901445,
                    0.25453814698847077,
                    0.2582469638867971,
                    0.2619557807851234,
                    0.26566459768344963,
                    0.2693734145817759,
                    0.2730822314801022,
                    0.27679104837842844,
                    0.28049986527675475,
                    0.28420868217508094,
                    0.28791749907340725,
                    0.29162631597173355,
                    0.29533513287005986,
                    0.29904394976838605,
                    0.30275276666671236,
                    0.30646158356503866,
                    0.31017040046336497
                  ]
                }
              ],
              "layout": {
                "annotations": [
                  {
                    "arrowhead": 2,
                    "ax": 30,
                    "ay": -40,
                    "showarrow": true,
                    "text": "Pandemia",
                    "x": "2020-03-01",
                    "y": 0.33359230206074836
                  },
                  {
                    "arrowhead": 2,
                    "ax": 30,
                    "ay": -40,
                    "showarrow": true,
                    "text": "Pos Pandemia",
                    "x": "2022-04-01",
                    "y": 0.33359230206074836
                  }
                ],
                "legend": {
                  "title": {
                    "text": "Legend"
                  }
                },
                "shapes": [
                  {
                    "fillcolor": "rgba(0, 0, 0, 0.25)",
                    "layer": "below",
                    "line": {
                      "width": 0
                    },
                    "opacity": 0.3,
                    "type": "rect",
                    "x0": "2020-03-01",
                    "x1": "2020-07-01",
                    "xref": "x",
                    "y0": 0,
                    "y1": 1,
                    "yref": "paper"
                  },
                  {
                    "fillcolor": "rgba(0, 0, 0, 0.25)",
                    "layer": "below",
                    "line": {
                      "width": 0
                    },
                    "opacity": 0.3,
                    "type": "rect",
                    "x0": "2021-04-01",
                    "x1": "2021-05-01",
                    "xref": "x",
                    "y0": 0,
                    "y1": 1,
                    "yref": "paper"
                  },
                  {
                    "line": {
                      "color": "black",
                      "dash": "dash"
                    },
                    "type": "line",
                    "x0": "2020-03-01",
                    "x1": "2020-03-01",
                    "y0": 0.06558628782121331,
                    "y1": 0.33359230206074836
                  },
                  {
                    "line": {
                      "color": "black",
                      "dash": "dash"
                    },
                    "type": "line",
                    "x0": "2022-04-01",
                    "x1": "2022-04-01",
                    "y0": 0.06558628782121331,
                    "y1": 0.33359230206074836
                  }
                ],
                "template": {
                  "data": {
                    "bar": [
                      {
                        "error_x": {
                          "color": "#2a3f5f"
                        },
                        "error_y": {
                          "color": "#2a3f5f"
                        },
                        "marker": {
                          "line": {
                            "color": "#E5ECF6",
                            "width": 0.5
                          },
                          "pattern": {
                            "fillmode": "overlay",
                            "size": 10,
                            "solidity": 0.2
                          }
                        },
                        "type": "bar"
                      }
                    ],
                    "barpolar": [
                      {
                        "marker": {
                          "line": {
                            "color": "#E5ECF6",
                            "width": 0.5
                          },
                          "pattern": {
                            "fillmode": "overlay",
                            "size": 10,
                            "solidity": 0.2
                          }
                        },
                        "type": "barpolar"
                      }
                    ],
                    "carpet": [
                      {
                        "aaxis": {
                          "endlinecolor": "#2a3f5f",
                          "gridcolor": "white",
                          "linecolor": "white",
                          "minorgridcolor": "white",
                          "startlinecolor": "#2a3f5f"
                        },
                        "baxis": {
                          "endlinecolor": "#2a3f5f",
                          "gridcolor": "white",
                          "linecolor": "white",
                          "minorgridcolor": "white",
                          "startlinecolor": "#2a3f5f"
                        },
                        "type": "carpet"
                      }
                    ],
                    "choropleth": [
                      {
                        "colorbar": {
                          "outlinewidth": 0,
                          "ticks": ""
                        },
                        "type": "choropleth"
                      }
                    ],
                    "contour": [
                      {
                        "colorbar": {
                          "outlinewidth": 0,
                          "ticks": ""
                        },
                        "colorscale": [
                          [
                            0,
                            "#0d0887"
                          ],
                          [
                            0.1111111111111111,
                            "#46039f"
                          ],
                          [
                            0.2222222222222222,
                            "#7201a8"
                          ],
                          [
                            0.3333333333333333,
                            "#9c179e"
                          ],
                          [
                            0.4444444444444444,
                            "#bd3786"
                          ],
                          [
                            0.5555555555555556,
                            "#d8576b"
                          ],
                          [
                            0.6666666666666666,
                            "#ed7953"
                          ],
                          [
                            0.7777777777777778,
                            "#fb9f3a"
                          ],
                          [
                            0.8888888888888888,
                            "#fdca26"
                          ],
                          [
                            1,
                            "#f0f921"
                          ]
                        ],
                        "type": "contour"
                      }
                    ],
                    "contourcarpet": [
                      {
                        "colorbar": {
                          "outlinewidth": 0,
                          "ticks": ""
                        },
                        "type": "contourcarpet"
                      }
                    ],
                    "heatmap": [
                      {
                        "colorbar": {
                          "outlinewidth": 0,
                          "ticks": ""
                        },
                        "colorscale": [
                          [
                            0,
                            "#0d0887"
                          ],
                          [
                            0.1111111111111111,
                            "#46039f"
                          ],
                          [
                            0.2222222222222222,
                            "#7201a8"
                          ],
                          [
                            0.3333333333333333,
                            "#9c179e"
                          ],
                          [
                            0.4444444444444444,
                            "#bd3786"
                          ],
                          [
                            0.5555555555555556,
                            "#d8576b"
                          ],
                          [
                            0.6666666666666666,
                            "#ed7953"
                          ],
                          [
                            0.7777777777777778,
                            "#fb9f3a"
                          ],
                          [
                            0.8888888888888888,
                            "#fdca26"
                          ],
                          [
                            1,
                            "#f0f921"
                          ]
                        ],
                        "type": "heatmap"
                      }
                    ],
                    "heatmapgl": [
                      {
                        "colorbar": {
                          "outlinewidth": 0,
                          "ticks": ""
                        },
                        "colorscale": [
                          [
                            0,
                            "#0d0887"
                          ],
                          [
                            0.1111111111111111,
                            "#46039f"
                          ],
                          [
                            0.2222222222222222,
                            "#7201a8"
                          ],
                          [
                            0.3333333333333333,
                            "#9c179e"
                          ],
                          [
                            0.4444444444444444,
                            "#bd3786"
                          ],
                          [
                            0.5555555555555556,
                            "#d8576b"
                          ],
                          [
                            0.6666666666666666,
                            "#ed7953"
                          ],
                          [
                            0.7777777777777778,
                            "#fb9f3a"
                          ],
                          [
                            0.8888888888888888,
                            "#fdca26"
                          ],
                          [
                            1,
                            "#f0f921"
                          ]
                        ],
                        "type": "heatmapgl"
                      }
                    ],
                    "histogram": [
                      {
                        "marker": {
                          "pattern": {
                            "fillmode": "overlay",
                            "size": 10,
                            "solidity": 0.2
                          }
                        },
                        "type": "histogram"
                      }
                    ],
                    "histogram2d": [
                      {
                        "colorbar": {
                          "outlinewidth": 0,
                          "ticks": ""
                        },
                        "colorscale": [
                          [
                            0,
                            "#0d0887"
                          ],
                          [
                            0.1111111111111111,
                            "#46039f"
                          ],
                          [
                            0.2222222222222222,
                            "#7201a8"
                          ],
                          [
                            0.3333333333333333,
                            "#9c179e"
                          ],
                          [
                            0.4444444444444444,
                            "#bd3786"
                          ],
                          [
                            0.5555555555555556,
                            "#d8576b"
                          ],
                          [
                            0.6666666666666666,
                            "#ed7953"
                          ],
                          [
                            0.7777777777777778,
                            "#fb9f3a"
                          ],
                          [
                            0.8888888888888888,
                            "#fdca26"
                          ],
                          [
                            1,
                            "#f0f921"
                          ]
                        ],
                        "type": "histogram2d"
                      }
                    ],
                    "histogram2dcontour": [
                      {
                        "colorbar": {
                          "outlinewidth": 0,
                          "ticks": ""
                        },
                        "colorscale": [
                          [
                            0,
                            "#0d0887"
                          ],
                          [
                            0.1111111111111111,
                            "#46039f"
                          ],
                          [
                            0.2222222222222222,
                            "#7201a8"
                          ],
                          [
                            0.3333333333333333,
                            "#9c179e"
                          ],
                          [
                            0.4444444444444444,
                            "#bd3786"
                          ],
                          [
                            0.5555555555555556,
                            "#d8576b"
                          ],
                          [
                            0.6666666666666666,
                            "#ed7953"
                          ],
                          [
                            0.7777777777777778,
                            "#fb9f3a"
                          ],
                          [
                            0.8888888888888888,
                            "#fdca26"
                          ],
                          [
                            1,
                            "#f0f921"
                          ]
                        ],
                        "type": "histogram2dcontour"
                      }
                    ],
                    "mesh3d": [
                      {
                        "colorbar": {
                          "outlinewidth": 0,
                          "ticks": ""
                        },
                        "type": "mesh3d"
                      }
                    ],
                    "parcoords": [
                      {
                        "line": {
                          "colorbar": {
                            "outlinewidth": 0,
                            "ticks": ""
                          }
                        },
                        "type": "parcoords"
                      }
                    ],
                    "pie": [
                      {
                        "automargin": true,
                        "type": "pie"
                      }
                    ],
                    "scatter": [
                      {
                        "fillpattern": {
                          "fillmode": "overlay",
                          "size": 10,
                          "solidity": 0.2
                        },
                        "type": "scatter"
                      }
                    ],
                    "scatter3d": [
                      {
                        "line": {
                          "colorbar": {
                            "outlinewidth": 0,
                            "ticks": ""
                          }
                        },
                        "marker": {
                          "colorbar": {
                            "outlinewidth": 0,
                            "ticks": ""
                          }
                        },
                        "type": "scatter3d"
                      }
                    ],
                    "scattercarpet": [
                      {
                        "marker": {
                          "colorbar": {
                            "outlinewidth": 0,
                            "ticks": ""
                          }
                        },
                        "type": "scattercarpet"
                      }
                    ],
                    "scattergeo": [
                      {
                        "marker": {
                          "colorbar": {
                            "outlinewidth": 0,
                            "ticks": ""
                          }
                        },
                        "type": "scattergeo"
                      }
                    ],
                    "scattergl": [
                      {
                        "marker": {
                          "colorbar": {
                            "outlinewidth": 0,
                            "ticks": ""
                          }
                        },
                        "type": "scattergl"
                      }
                    ],
                    "scattermapbox": [
                      {
                        "marker": {
                          "colorbar": {
                            "outlinewidth": 0,
                            "ticks": ""
                          }
                        },
                        "type": "scattermapbox"
                      }
                    ],
                    "scatterpolar": [
                      {
                        "marker": {
                          "colorbar": {
                            "outlinewidth": 0,
                            "ticks": ""
                          }
                        },
                        "type": "scatterpolar"
                      }
                    ],
                    "scatterpolargl": [
                      {
                        "marker": {
                          "colorbar": {
                            "outlinewidth": 0,
                            "ticks": ""
                          }
                        },
                        "type": "scatterpolargl"
                      }
                    ],
                    "scatterternary": [
                      {
                        "marker": {
                          "colorbar": {
                            "outlinewidth": 0,
                            "ticks": ""
                          }
                        },
                        "type": "scatterternary"
                      }
                    ],
                    "surface": [
                      {
                        "colorbar": {
                          "outlinewidth": 0,
                          "ticks": ""
                        },
                        "colorscale": [
                          [
                            0,
                            "#0d0887"
                          ],
                          [
                            0.1111111111111111,
                            "#46039f"
                          ],
                          [
                            0.2222222222222222,
                            "#7201a8"
                          ],
                          [
                            0.3333333333333333,
                            "#9c179e"
                          ],
                          [
                            0.4444444444444444,
                            "#bd3786"
                          ],
                          [
                            0.5555555555555556,
                            "#d8576b"
                          ],
                          [
                            0.6666666666666666,
                            "#ed7953"
                          ],
                          [
                            0.7777777777777778,
                            "#fb9f3a"
                          ],
                          [
                            0.8888888888888888,
                            "#fdca26"
                          ],
                          [
                            1,
                            "#f0f921"
                          ]
                        ],
                        "type": "surface"
                      }
                    ],
                    "table": [
                      {
                        "cells": {
                          "fill": {
                            "color": "#EBF0F8"
                          },
                          "line": {
                            "color": "white"
                          }
                        },
                        "header": {
                          "fill": {
                            "color": "#C8D4E3"
                          },
                          "line": {
                            "color": "white"
                          }
                        },
                        "type": "table"
                      }
                    ]
                  },
                  "layout": {
                    "annotationdefaults": {
                      "arrowcolor": "#2a3f5f",
                      "arrowhead": 0,
                      "arrowwidth": 1
                    },
                    "autotypenumbers": "strict",
                    "coloraxis": {
                      "colorbar": {
                        "outlinewidth": 0,
                        "ticks": ""
                      }
                    },
                    "colorscale": {
                      "diverging": [
                        [
                          0,
                          "#8e0152"
                        ],
                        [
                          0.1,
                          "#c51b7d"
                        ],
                        [
                          0.2,
                          "#de77ae"
                        ],
                        [
                          0.3,
                          "#f1b6da"
                        ],
                        [
                          0.4,
                          "#fde0ef"
                        ],
                        [
                          0.5,
                          "#f7f7f7"
                        ],
                        [
                          0.6,
                          "#e6f5d0"
                        ],
                        [
                          0.7,
                          "#b8e186"
                        ],
                        [
                          0.8,
                          "#7fbc41"
                        ],
                        [
                          0.9,
                          "#4d9221"
                        ],
                        [
                          1,
                          "#276419"
                        ]
                      ],
                      "sequential": [
                        [
                          0,
                          "#0d0887"
                        ],
                        [
                          0.1111111111111111,
                          "#46039f"
                        ],
                        [
                          0.2222222222222222,
                          "#7201a8"
                        ],
                        [
                          0.3333333333333333,
                          "#9c179e"
                        ],
                        [
                          0.4444444444444444,
                          "#bd3786"
                        ],
                        [
                          0.5555555555555556,
                          "#d8576b"
                        ],
                        [
                          0.6666666666666666,
                          "#ed7953"
                        ],
                        [
                          0.7777777777777778,
                          "#fb9f3a"
                        ],
                        [
                          0.8888888888888888,
                          "#fdca26"
                        ],
                        [
                          1,
                          "#f0f921"
                        ]
                      ],
                      "sequentialminus": [
                        [
                          0,
                          "#0d0887"
                        ],
                        [
                          0.1111111111111111,
                          "#46039f"
                        ],
                        [
                          0.2222222222222222,
                          "#7201a8"
                        ],
                        [
                          0.3333333333333333,
                          "#9c179e"
                        ],
                        [
                          0.4444444444444444,
                          "#bd3786"
                        ],
                        [
                          0.5555555555555556,
                          "#d8576b"
                        ],
                        [
                          0.6666666666666666,
                          "#ed7953"
                        ],
                        [
                          0.7777777777777778,
                          "#fb9f3a"
                        ],
                        [
                          0.8888888888888888,
                          "#fdca26"
                        ],
                        [
                          1,
                          "#f0f921"
                        ]
                      ]
                    },
                    "colorway": [
                      "#636efa",
                      "#EF553B",
                      "#00cc96",
                      "#ab63fa",
                      "#FFA15A",
                      "#19d3f3",
                      "#FF6692",
                      "#B6E880",
                      "#FF97FF",
                      "#FECB52"
                    ],
                    "font": {
                      "color": "#2a3f5f"
                    },
                    "geo": {
                      "bgcolor": "white",
                      "lakecolor": "white",
                      "landcolor": "#E5ECF6",
                      "showlakes": true,
                      "showland": true,
                      "subunitcolor": "white"
                    },
                    "hoverlabel": {
                      "align": "left"
                    },
                    "hovermode": "closest",
                    "mapbox": {
                      "style": "light"
                    },
                    "paper_bgcolor": "white",
                    "plot_bgcolor": "#E5ECF6",
                    "polar": {
                      "angularaxis": {
                        "gridcolor": "white",
                        "linecolor": "white",
                        "ticks": ""
                      },
                      "bgcolor": "#E5ECF6",
                      "radialaxis": {
                        "gridcolor": "white",
                        "linecolor": "white",
                        "ticks": ""
                      }
                    },
                    "scene": {
                      "xaxis": {
                        "backgroundcolor": "#E5ECF6",
                        "gridcolor": "white",
                        "gridwidth": 2,
                        "linecolor": "white",
                        "showbackground": true,
                        "ticks": "",
                        "zerolinecolor": "white"
                      },
                      "yaxis": {
                        "backgroundcolor": "#E5ECF6",
                        "gridcolor": "white",
                        "gridwidth": 2,
                        "linecolor": "white",
                        "showbackground": true,
                        "ticks": "",
                        "zerolinecolor": "white"
                      },
                      "zaxis": {
                        "backgroundcolor": "#E5ECF6",
                        "gridcolor": "white",
                        "gridwidth": 2,
                        "linecolor": "white",
                        "showbackground": true,
                        "ticks": "",
                        "zerolinecolor": "white"
                      }
                    },
                    "shapedefaults": {
                      "line": {
                        "color": "#2a3f5f"
                      }
                    },
                    "ternary": {
                      "aaxis": {
                        "gridcolor": "white",
                        "linecolor": "white",
                        "ticks": ""
                      },
                      "baxis": {
                        "gridcolor": "white",
                        "linecolor": "white",
                        "ticks": ""
                      },
                      "bgcolor": "#E5ECF6",
                      "caxis": {
                        "gridcolor": "white",
                        "linecolor": "white",
                        "ticks": ""
                      }
                    },
                    "title": {
                      "x": 0.05
                    },
                    "xaxis": {
                      "automargin": true,
                      "gridcolor": "white",
                      "linecolor": "white",
                      "ticks": "",
                      "title": {
                        "standoff": 15
                      },
                      "zerolinecolor": "white",
                      "zerolinewidth": 2
                    },
                    "yaxis": {
                      "automargin": true,
                      "gridcolor": "white",
                      "linecolor": "white",
                      "ticks": "",
                      "title": {
                        "standoff": 15
                      },
                      "zerolinecolor": "white",
                      "zerolinewidth": 2
                    }
                  }
                },
                "title": {
                  "text": "F60-F69 - Transtornos da personalidade e do comportamento do adulto"
                },
                "xaxis": {
                  "title": {
                    "text": "Time"
                  }
                },
                "yaxis": {
                  "title": {
                    "text": "Value"
                  }
                }
              }
            }
          },
          "metadata": {},
          "output_type": "display_data"
        },
        {
          "data": {
            "application/vnd.plotly.v1+json": {
              "config": {
                "plotlyServerURL": "https://plot.ly"
              },
              "data": [
                {
                  "marker": {
                    "color": "black"
                  },
                  "mode": "markers",
                  "name": "Real",
                  "type": "scatter",
                  "x": [
                    "2016-01-01T00:00:00.000000000",
                    "2016-02-01T00:00:00.000000000",
                    "2016-03-01T00:00:00.000000000",
                    "2016-04-01T00:00:00.000000000",
                    "2016-05-01T00:00:00.000000000",
                    "2016-06-01T00:00:00.000000000",
                    "2016-07-01T00:00:00.000000000",
                    "2016-08-01T00:00:00.000000000",
                    "2016-09-01T00:00:00.000000000",
                    "2016-10-01T00:00:00.000000000",
                    "2016-11-01T00:00:00.000000000",
                    "2016-12-01T00:00:00.000000000",
                    "2017-01-01T00:00:00.000000000",
                    "2017-02-01T00:00:00.000000000",
                    "2017-03-01T00:00:00.000000000",
                    "2017-04-01T00:00:00.000000000",
                    "2017-05-01T00:00:00.000000000",
                    "2017-06-01T00:00:00.000000000",
                    "2017-07-01T00:00:00.000000000",
                    "2017-08-01T00:00:00.000000000",
                    "2017-09-01T00:00:00.000000000",
                    "2017-10-01T00:00:00.000000000",
                    "2017-11-01T00:00:00.000000000",
                    "2017-12-01T00:00:00.000000000",
                    "2018-01-01T00:00:00.000000000",
                    "2018-02-01T00:00:00.000000000",
                    "2018-03-01T00:00:00.000000000",
                    "2018-04-01T00:00:00.000000000",
                    "2018-05-01T00:00:00.000000000",
                    "2018-06-01T00:00:00.000000000",
                    "2018-07-01T00:00:00.000000000",
                    "2018-08-01T00:00:00.000000000",
                    "2018-09-01T00:00:00.000000000",
                    "2018-10-01T00:00:00.000000000",
                    "2018-11-01T00:00:00.000000000",
                    "2018-12-01T00:00:00.000000000",
                    "2019-01-01T00:00:00.000000000",
                    "2019-02-01T00:00:00.000000000",
                    "2019-03-01T00:00:00.000000000",
                    "2019-04-01T00:00:00.000000000",
                    "2019-05-01T00:00:00.000000000",
                    "2019-06-01T00:00:00.000000000",
                    "2019-07-01T00:00:00.000000000",
                    "2019-08-01T00:00:00.000000000",
                    "2019-09-01T00:00:00.000000000",
                    "2019-10-01T00:00:00.000000000",
                    "2019-11-01T00:00:00.000000000",
                    "2019-12-01T00:00:00.000000000",
                    "2020-01-01T00:00:00.000000000",
                    "2020-02-01T00:00:00.000000000",
                    "2020-03-01T00:00:00.000000000",
                    "2020-04-01T00:00:00.000000000",
                    "2020-05-01T00:00:00.000000000",
                    "2020-06-01T00:00:00.000000000",
                    "2020-07-01T00:00:00.000000000",
                    "2020-08-01T00:00:00.000000000",
                    "2020-09-01T00:00:00.000000000",
                    "2020-10-01T00:00:00.000000000",
                    "2020-11-01T00:00:00.000000000",
                    "2020-12-01T00:00:00.000000000",
                    "2021-01-01T00:00:00.000000000",
                    "2021-02-01T00:00:00.000000000",
                    "2021-03-01T00:00:00.000000000",
                    "2021-04-01T00:00:00.000000000",
                    "2021-05-01T00:00:00.000000000",
                    "2021-06-01T00:00:00.000000000",
                    "2021-07-01T00:00:00.000000000",
                    "2021-08-01T00:00:00.000000000",
                    "2021-09-01T00:00:00.000000000",
                    "2021-10-01T00:00:00.000000000",
                    "2021-11-01T00:00:00.000000000",
                    "2021-12-01T00:00:00.000000000",
                    "2022-01-01T00:00:00.000000000",
                    "2022-02-01T00:00:00.000000000",
                    "2022-03-01T00:00:00.000000000",
                    "2022-04-01T00:00:00.000000000",
                    "2022-05-01T00:00:00.000000000",
                    "2022-06-01T00:00:00.000000000",
                    "2022-07-01T00:00:00.000000000",
                    "2022-08-01T00:00:00.000000000",
                    "2022-09-01T00:00:00.000000000",
                    "2022-10-01T00:00:00.000000000",
                    "2022-11-01T00:00:00.000000000",
                    "2022-12-01T00:00:00.000000000",
                    "2023-01-01T00:00:00.000000000",
                    "2023-02-01T00:00:00.000000000",
                    "2023-03-01T00:00:00.000000000",
                    "2023-04-01T00:00:00.000000000",
                    "2023-05-01T00:00:00.000000000",
                    "2023-06-01T00:00:00.000000000",
                    "2023-07-01T00:00:00.000000000",
                    "2023-08-01T00:00:00.000000000",
                    "2023-09-01T00:00:00.000000000",
                    "2023-10-01T00:00:00.000000000",
                    "2023-11-01T00:00:00.000000000",
                    "2023-12-01T00:00:00.000000000",
                    "2024-01-01T00:00:00.000000000",
                    "2024-02-01T00:00:00.000000000",
                    "2024-03-01T00:00:00.000000000",
                    "2024-04-01T00:00:00.000000000",
                    "2024-05-01T00:00:00.000000000",
                    "2024-06-01T00:00:00.000000000",
                    "2024-07-01T00:00:00.000000000",
                    "2024-08-01T00:00:00.000000000",
                    "2024-09-01T00:00:00.000000000",
                    "2024-10-01T00:00:00.000000000",
                    "2024-11-01T00:00:00.000000000",
                    "2024-12-01T00:00:00.000000000"
                  ],
                  "y": [
                    0.5207475442143453,
                    0.4817854326810261,
                    0.41733668370410676,
                    0.43486881131381167,
                    0.46446320558213317,
                    0.47569685702104286,
                    0.5226389587103912,
                    0.49687473765077933,
                    0.4951866739745732,
                    0.5325347508287375,
                    0.5219749375314702,
                    0.6138713268517145,
                    0.5672830271605305,
                    0.5339832733551099,
                    0.5064786402345887,
                    0.5075493809863658,
                    0.4990030447783742,
                    0.5565835715443869,
                    0.6065020502090837,
                    0.5901454698783999,
                    0.5762497278919507,
                    0.6084350189326079,
                    0.6262792235132709,
                    0.6435351611542431,
                    0.6220763970834118,
                    0.6439485037522762,
                    0.5912009967959824,
                    0.5868213725413404,
                    0.6001183441461246,
                    0.6515207806616087,
                    0.6934101457704109,
                    0.6944669127064623,
                    0.6706822884110256,
                    0.6650188489649345,
                    0.6771062328971019,
                    0.6650543662383978,
                    0.659877743325281,
                    0.6433062675843136,
                    0.6652306408616553,
                    0.6602104048218883,
                    0.6750786586386185,
                    0.7124100580917586,
                    0.7745417165870488,
                    0.780926134808016,
                    0.7842674194629532,
                    0.7409086964362482,
                    0.7421972905749368,
                    0.8019192388582308,
                    0.7922417463197857,
                    0.7999833417512371,
                    0.8203694861524131,
                    1.178177211174571,
                    1.1749396900814595,
                    1.1527807982607283,
                    1.0765540300093563,
                    1.0571492549969508,
                    1.0525051250352941,
                    0.9918539153145282,
                    0.9222514330781574,
                    0.9293375065816777,
                    0.9242637230192662,
                    0.8884972933562043,
                    0.8348182613639191,
                    0.889532874537292,
                    0.8079935476546001,
                    0.8127632460803489,
                    0.8976136836913144,
                    0.8808534576846512,
                    0.8815367325128168,
                    0.8282821554963317,
                    0.7910397136173486,
                    0.7533699686213238,
                    0.5820161160375446,
                    0.7293065778237564,
                    0.7368467641145778,
                    0.728166465110247,
                    0.7063984988837346,
                    0.7024616642648255,
                    0.7097087577398157,
                    0.727888091030576,
                    0.773723442801134,
                    0.7280743372782346,
                    0.6977289494604039,
                    0.699467076882494,
                    0.7731308368708816,
                    0.7385472911287411,
                    0.6982405175421038,
                    0.6821360106257289,
                    0.7247928090963084,
                    0.7587324673561027,
                    0.795721899804706,
                    0.7863251495410399,
                    0.7848514810217788,
                    0.7414401002004695,
                    0.7282800138869644,
                    0.7369930354158153,
                    0.7538802229168513,
                    0.7080753450403667,
                    0.6467296316823686,
                    0.6472812143770944,
                    0.7031936658598693,
                    0.7687017674368569,
                    0.7692329341365749,
                    0.7405766698732813,
                    0.7395300455578975,
                    0.7220165812033535,
                    0.7209457401837432,
                    0.7295313037336462
                  ]
                },
                {
                  "line": {
                    "color": "black",
                    "dash": "dot"
                  },
                  "mode": "lines",
                  "name": "Baseline",
                  "type": "scatter",
                  "x": [
                    "2016-01-01T00:00:00.000000000",
                    "2016-02-01T00:00:00.000000000",
                    "2016-03-01T00:00:00.000000000",
                    "2016-04-01T00:00:00.000000000",
                    "2016-05-01T00:00:00.000000000",
                    "2016-06-01T00:00:00.000000000",
                    "2016-07-01T00:00:00.000000000",
                    "2016-08-01T00:00:00.000000000",
                    "2016-09-01T00:00:00.000000000",
                    "2016-10-01T00:00:00.000000000",
                    "2016-11-01T00:00:00.000000000",
                    "2016-12-01T00:00:00.000000000",
                    "2017-01-01T00:00:00.000000000",
                    "2017-02-01T00:00:00.000000000",
                    "2017-03-01T00:00:00.000000000",
                    "2017-04-01T00:00:00.000000000",
                    "2017-05-01T00:00:00.000000000",
                    "2017-06-01T00:00:00.000000000",
                    "2017-07-01T00:00:00.000000000",
                    "2017-08-01T00:00:00.000000000",
                    "2017-09-01T00:00:00.000000000",
                    "2017-10-01T00:00:00.000000000",
                    "2017-11-01T00:00:00.000000000",
                    "2017-12-01T00:00:00.000000000",
                    "2018-01-01T00:00:00.000000000",
                    "2018-02-01T00:00:00.000000000",
                    "2018-03-01T00:00:00.000000000",
                    "2018-04-01T00:00:00.000000000",
                    "2018-05-01T00:00:00.000000000",
                    "2018-06-01T00:00:00.000000000",
                    "2018-07-01T00:00:00.000000000",
                    "2018-08-01T00:00:00.000000000",
                    "2018-09-01T00:00:00.000000000",
                    "2018-10-01T00:00:00.000000000",
                    "2018-11-01T00:00:00.000000000",
                    "2018-12-01T00:00:00.000000000",
                    "2019-01-01T00:00:00.000000000",
                    "2019-02-01T00:00:00.000000000",
                    "2019-03-01T00:00:00.000000000",
                    "2019-04-01T00:00:00.000000000",
                    "2019-05-01T00:00:00.000000000",
                    "2019-06-01T00:00:00.000000000",
                    "2019-07-01T00:00:00.000000000",
                    "2019-08-01T00:00:00.000000000",
                    "2019-09-01T00:00:00.000000000",
                    "2019-10-01T00:00:00.000000000",
                    "2019-11-01T00:00:00.000000000",
                    "2019-12-01T00:00:00.000000000",
                    "2020-01-01T00:00:00.000000000",
                    "2020-02-01T00:00:00.000000000",
                    "2020-03-01T00:00:00.000000000",
                    "2020-04-01T00:00:00.000000000",
                    "2020-05-01T00:00:00.000000000",
                    "2020-06-01T00:00:00.000000000",
                    "2020-07-01T00:00:00.000000000",
                    "2020-08-01T00:00:00.000000000",
                    "2020-09-01T00:00:00.000000000",
                    "2020-10-01T00:00:00.000000000",
                    "2020-11-01T00:00:00.000000000",
                    "2020-12-01T00:00:00.000000000",
                    "2021-01-01T00:00:00.000000000",
                    "2021-02-01T00:00:00.000000000",
                    "2021-03-01T00:00:00.000000000",
                    "2021-04-01T00:00:00.000000000",
                    "2021-05-01T00:00:00.000000000",
                    "2021-06-01T00:00:00.000000000",
                    "2021-07-01T00:00:00.000000000",
                    "2021-08-01T00:00:00.000000000",
                    "2021-09-01T00:00:00.000000000",
                    "2021-10-01T00:00:00.000000000",
                    "2021-11-01T00:00:00.000000000",
                    "2021-12-01T00:00:00.000000000",
                    "2022-01-01T00:00:00.000000000",
                    "2022-02-01T00:00:00.000000000",
                    "2022-03-01T00:00:00.000000000",
                    "2022-04-01T00:00:00.000000000",
                    "2022-05-01T00:00:00.000000000",
                    "2022-06-01T00:00:00.000000000",
                    "2022-07-01T00:00:00.000000000",
                    "2022-08-01T00:00:00.000000000",
                    "2022-09-01T00:00:00.000000000",
                    "2022-10-01T00:00:00.000000000",
                    "2022-11-01T00:00:00.000000000",
                    "2022-12-01T00:00:00.000000000",
                    "2023-01-01T00:00:00.000000000",
                    "2023-02-01T00:00:00.000000000",
                    "2023-03-01T00:00:00.000000000",
                    "2023-04-01T00:00:00.000000000",
                    "2023-05-01T00:00:00.000000000",
                    "2023-06-01T00:00:00.000000000",
                    "2023-07-01T00:00:00.000000000",
                    "2023-08-01T00:00:00.000000000",
                    "2023-09-01T00:00:00.000000000",
                    "2023-10-01T00:00:00.000000000",
                    "2023-11-01T00:00:00.000000000",
                    "2023-12-01T00:00:00.000000000",
                    "2024-01-01T00:00:00.000000000",
                    "2024-02-01T00:00:00.000000000",
                    "2024-03-01T00:00:00.000000000",
                    "2024-04-01T00:00:00.000000000",
                    "2024-05-01T00:00:00.000000000",
                    "2024-06-01T00:00:00.000000000",
                    "2024-07-01T00:00:00.000000000",
                    "2024-08-01T00:00:00.000000000",
                    "2024-09-01T00:00:00.000000000",
                    "2024-10-01T00:00:00.000000000",
                    "2024-11-01T00:00:00.000000000",
                    "2024-12-01T00:00:00.000000000"
                  ],
                  "y": [
                    0.4428386113477482,
                    0.4495295772739316,
                    0.45622054320011496,
                    0.4629115091262983,
                    0.4696024750524817,
                    0.47629344097866505,
                    0.4829844069048484,
                    0.4896753728310318,
                    0.49636633875721514,
                    0.5030573046833985,
                    0.5097482706095818,
                    0.5164392365357653,
                    0.5231302024619486,
                    0.529821168388132,
                    0.5365121343143153,
                    0.5432031002404987,
                    0.549894066166682,
                    0.5565850320928655,
                    0.5632759980190488,
                    0.5699669639452322,
                    0.5766579298714155,
                    0.5833488957975989,
                    0.5900398617237823,
                    0.5967308276499657,
                    0.603421793576149,
                    0.6101127595023323,
                    0.6168037254285157,
                    0.623494691354699,
                    0.6301856572808824,
                    0.6368766232070658,
                    0.6435675891332492,
                    0.6502585550594325,
                    0.6569495209856159,
                    0.6636404869117992,
                    0.6703314528379827,
                    0.677022418764166,
                    0.6837133846903494,
                    0.6904043506165327,
                    0.6970953165427161,
                    0.7037862824688994,
                    0.7104772483950827,
                    0.7171682143212661,
                    0.7238591802474496,
                    0.7305501461736329,
                    0.7372411120998162,
                    0.7439320780259997,
                    0.750623043952183,
                    0.7573140098783664,
                    0.7640049758045497,
                    0.7706959417307331,
                    0.7773869076569164,
                    0.7840778735830998,
                    0.7907688395092831,
                    0.7974598054354666,
                    0.8041507713616499,
                    0.8108417372878333,
                    0.8175327032140167,
                    0.8242236691402001,
                    0.8309146350663834,
                    0.8376056009925668,
                    0.8442965669187501,
                    0.8509875328449334,
                    0.8576784987711168,
                    0.8643694646973001,
                    0.8710604306234835,
                    0.8777513965496669,
                    0.8844423624758503,
                    0.8911333284020336,
                    0.8978242943282171,
                    0.9045152602544004,
                    0.9112062261805838,
                    0.9178971921067671,
                    0.9245881580329505,
                    0.9312791239591338,
                    0.9379700898853172,
                    0.9446610558115005,
                    0.9513520217376839,
                    0.9580429876638672,
                    0.9647339535900508,
                    0.9714249195162341,
                    0.9781158854424175,
                    0.9848068513686008,
                    0.9914978172947841,
                    0.9981887832209675,
                    1.0048797491471508,
                    1.0115707150733342,
                    1.0182616809995175,
                    1.0249526469257009,
                    1.0316436128518842,
                    1.0383345787780676,
                    1.0450255447042511,
                    1.0517165106304345,
                    1.0584074765566178,
                    1.0650984424828012,
                    1.0717894084089845,
                    1.0784803743351679,
                    1.0851713402613512,
                    1.0918623061875345,
                    1.098553272113718,
                    1.1052442380399012,
                    1.1119352039660846,
                    1.1186261698922682,
                    1.1253171358184515,
                    1.1320081017446348,
                    1.1386990676708182,
                    1.1453900335970015,
                    1.1520809995231849,
                    1.1587719654493682
                  ]
                },
                {
                  "line": {
                    "color": "purple"
                  },
                  "mode": "lines",
                  "name": "Full model",
                  "type": "scatter",
                  "x": [
                    "2016-01-01T00:00:00.000000000",
                    "2016-02-01T00:00:00.000000000",
                    "2016-03-01T00:00:00.000000000",
                    "2016-04-01T00:00:00.000000000",
                    "2016-05-01T00:00:00.000000000",
                    "2016-06-01T00:00:00.000000000",
                    "2016-07-01T00:00:00.000000000",
                    "2016-08-01T00:00:00.000000000",
                    "2016-09-01T00:00:00.000000000",
                    "2016-10-01T00:00:00.000000000",
                    "2016-11-01T00:00:00.000000000",
                    "2016-12-01T00:00:00.000000000",
                    "2017-01-01T00:00:00.000000000",
                    "2017-02-01T00:00:00.000000000",
                    "2017-03-01T00:00:00.000000000",
                    "2017-04-01T00:00:00.000000000",
                    "2017-05-01T00:00:00.000000000",
                    "2017-06-01T00:00:00.000000000",
                    "2017-07-01T00:00:00.000000000",
                    "2017-08-01T00:00:00.000000000",
                    "2017-09-01T00:00:00.000000000",
                    "2017-10-01T00:00:00.000000000",
                    "2017-11-01T00:00:00.000000000",
                    "2017-12-01T00:00:00.000000000",
                    "2018-01-01T00:00:00.000000000",
                    "2018-02-01T00:00:00.000000000",
                    "2018-03-01T00:00:00.000000000",
                    "2018-04-01T00:00:00.000000000",
                    "2018-05-01T00:00:00.000000000",
                    "2018-06-01T00:00:00.000000000",
                    "2018-07-01T00:00:00.000000000",
                    "2018-08-01T00:00:00.000000000",
                    "2018-09-01T00:00:00.000000000",
                    "2018-10-01T00:00:00.000000000",
                    "2018-11-01T00:00:00.000000000",
                    "2018-12-01T00:00:00.000000000",
                    "2019-01-01T00:00:00.000000000",
                    "2019-02-01T00:00:00.000000000",
                    "2019-03-01T00:00:00.000000000",
                    "2019-04-01T00:00:00.000000000",
                    "2019-05-01T00:00:00.000000000",
                    "2019-06-01T00:00:00.000000000",
                    "2019-07-01T00:00:00.000000000",
                    "2019-08-01T00:00:00.000000000",
                    "2019-09-01T00:00:00.000000000",
                    "2019-10-01T00:00:00.000000000",
                    "2019-11-01T00:00:00.000000000",
                    "2019-12-01T00:00:00.000000000",
                    "2020-01-01T00:00:00.000000000",
                    "2020-02-01T00:00:00.000000000",
                    "2020-03-01T00:00:00.000000000",
                    "2020-04-01T00:00:00.000000000",
                    "2020-05-01T00:00:00.000000000",
                    "2020-06-01T00:00:00.000000000",
                    "2020-07-01T00:00:00.000000000",
                    "2020-08-01T00:00:00.000000000",
                    "2020-09-01T00:00:00.000000000",
                    "2020-10-01T00:00:00.000000000",
                    "2020-11-01T00:00:00.000000000",
                    "2020-12-01T00:00:00.000000000",
                    "2021-01-01T00:00:00.000000000",
                    "2021-02-01T00:00:00.000000000",
                    "2021-03-01T00:00:00.000000000",
                    "2021-04-01T00:00:00.000000000",
                    "2021-05-01T00:00:00.000000000",
                    "2021-06-01T00:00:00.000000000",
                    "2021-07-01T00:00:00.000000000",
                    "2021-08-01T00:00:00.000000000",
                    "2021-09-01T00:00:00.000000000",
                    "2021-10-01T00:00:00.000000000",
                    "2021-11-01T00:00:00.000000000",
                    "2021-12-01T00:00:00.000000000",
                    "2022-01-01T00:00:00.000000000",
                    "2022-02-01T00:00:00.000000000",
                    "2022-03-01T00:00:00.000000000",
                    "2022-04-01T00:00:00.000000000",
                    "2022-05-01T00:00:00.000000000",
                    "2022-06-01T00:00:00.000000000",
                    "2022-07-01T00:00:00.000000000",
                    "2022-08-01T00:00:00.000000000",
                    "2022-09-01T00:00:00.000000000",
                    "2022-10-01T00:00:00.000000000",
                    "2022-11-01T00:00:00.000000000",
                    "2022-12-01T00:00:00.000000000",
                    "2023-01-01T00:00:00.000000000",
                    "2023-02-01T00:00:00.000000000",
                    "2023-03-01T00:00:00.000000000",
                    "2023-04-01T00:00:00.000000000",
                    "2023-05-01T00:00:00.000000000",
                    "2023-06-01T00:00:00.000000000",
                    "2023-07-01T00:00:00.000000000",
                    "2023-08-01T00:00:00.000000000",
                    "2023-09-01T00:00:00.000000000",
                    "2023-10-01T00:00:00.000000000",
                    "2023-11-01T00:00:00.000000000",
                    "2023-12-01T00:00:00.000000000",
                    "2024-01-01T00:00:00.000000000",
                    "2024-02-01T00:00:00.000000000",
                    "2024-03-01T00:00:00.000000000",
                    "2024-04-01T00:00:00.000000000",
                    "2024-05-01T00:00:00.000000000",
                    "2024-06-01T00:00:00.000000000",
                    "2024-07-01T00:00:00.000000000",
                    "2024-08-01T00:00:00.000000000",
                    "2024-09-01T00:00:00.000000000",
                    "2024-10-01T00:00:00.000000000",
                    "2024-11-01T00:00:00.000000000",
                    "2024-12-01T00:00:00.000000000"
                  ],
                  "y": [
                    0.4428386113477482,
                    0.4495295772739316,
                    0.45622054320011496,
                    0.4629115091262983,
                    0.4696024750524817,
                    0.47629344097866505,
                    0.4829844069048484,
                    0.4896753728310318,
                    0.49636633875721514,
                    0.5030573046833985,
                    0.5097482706095818,
                    0.5164392365357653,
                    0.5231302024619486,
                    0.529821168388132,
                    0.5365121343143153,
                    0.5432031002404987,
                    0.549894066166682,
                    0.5565850320928655,
                    0.5632759980190488,
                    0.5699669639452322,
                    0.5766579298714155,
                    0.5833488957975989,
                    0.5900398617237823,
                    0.5967308276499657,
                    0.603421793576149,
                    0.6101127595023323,
                    0.6168037254285157,
                    0.623494691354699,
                    0.6301856572808824,
                    0.6368766232070658,
                    0.6435675891332492,
                    0.6502585550594325,
                    0.6569495209856159,
                    0.6636404869117992,
                    0.6703314528379827,
                    0.677022418764166,
                    0.6837133846903494,
                    0.6904043506165327,
                    0.6970953165427161,
                    0.7037862824688994,
                    0.7104772483950827,
                    0.7171682143212661,
                    0.7238591802474496,
                    0.7305501461736329,
                    0.7372411120998162,
                    0.7439320780259997,
                    0.750623043952183,
                    0.7573140098783664,
                    0.7640049758045497,
                    0.7706959417307331,
                    1.0983187185053254,
                    1.0807486766300882,
                    1.063178634754851,
                    1.0456085928796142,
                    1.028038551004377,
                    1.0104685091291399,
                    0.9928984672539028,
                    0.9753284253786657,
                    0.9577583835034286,
                    0.9401883416281914,
                    0.9226182997529544,
                    0.9050482578777173,
                    0.8892232386483857,
                    0.8743263066960154,
                    0.8594293747436452,
                    0.844532442791275,
                    0.8296355108389047,
                    0.8147385788865344,
                    0.7998416469341643,
                    0.784944714981794,
                    0.7700477830294237,
                    0.7551508510770535,
                    0.7402539191246832,
                    0.7253569871723129,
                    0.7104600552199426,
                    0.7171098258118583,
                    0.7171824671020075,
                    0.7172551083921567,
                    0.7173277496823062,
                    0.7174003909724553,
                    0.7174730322626045,
                    0.7175456735527537,
                    0.7176183148429028,
                    0.717690956133052,
                    0.7177635974232012,
                    0.7178362387133503,
                    0.7179088800034996,
                    0.7179815212936488,
                    0.718054162583798,
                    0.7181268038739471,
                    0.7181994451640965,
                    0.7182720864542457,
                    0.7183447277443948,
                    0.7184173690345441,
                    0.7184900103246933,
                    0.7185626516148425,
                    0.7186352929049916,
                    0.7187079341951408,
                    0.7187805754852901,
                    0.7188532167754391,
                    0.7189258580655884,
                    0.7189984993557378,
                    0.719071140645887,
                    0.7191437819360361,
                    0.7192164232261853,
                    0.7192890645163345,
                    0.7193617058064836,
                    0.7194343470966329
                  ]
                }
              ],
              "layout": {
                "annotations": [
                  {
                    "arrowhead": 2,
                    "ax": 30,
                    "ay": -40,
                    "showarrow": true,
                    "text": "Pandemia",
                    "x": "2020-03-01",
                    "y": 1.178177211174571
                  },
                  {
                    "arrowhead": 2,
                    "ax": 30,
                    "ay": -40,
                    "showarrow": true,
                    "text": "Pos Pandemia",
                    "x": "2022-04-01",
                    "y": 1.178177211174571
                  }
                ],
                "legend": {
                  "title": {
                    "text": "Legend"
                  }
                },
                "shapes": [
                  {
                    "fillcolor": "rgba(0, 0, 0, 0.25)",
                    "layer": "below",
                    "line": {
                      "width": 0
                    },
                    "opacity": 0.3,
                    "type": "rect",
                    "x0": "2020-03-01",
                    "x1": "2020-07-01",
                    "xref": "x",
                    "y0": 0,
                    "y1": 1,
                    "yref": "paper"
                  },
                  {
                    "fillcolor": "rgba(0, 0, 0, 0.25)",
                    "layer": "below",
                    "line": {
                      "width": 0
                    },
                    "opacity": 0.3,
                    "type": "rect",
                    "x0": "2021-04-01",
                    "x1": "2021-05-01",
                    "xref": "x",
                    "y0": 0,
                    "y1": 1,
                    "yref": "paper"
                  },
                  {
                    "line": {
                      "color": "black",
                      "dash": "dash"
                    },
                    "type": "line",
                    "x0": "2020-03-01",
                    "x1": "2020-03-01",
                    "y0": 0.41733668370410676,
                    "y1": 1.178177211174571
                  },
                  {
                    "line": {
                      "color": "black",
                      "dash": "dash"
                    },
                    "type": "line",
                    "x0": "2022-04-01",
                    "x1": "2022-04-01",
                    "y0": 0.41733668370410676,
                    "y1": 1.178177211174571
                  }
                ],
                "template": {
                  "data": {
                    "bar": [
                      {
                        "error_x": {
                          "color": "#2a3f5f"
                        },
                        "error_y": {
                          "color": "#2a3f5f"
                        },
                        "marker": {
                          "line": {
                            "color": "#E5ECF6",
                            "width": 0.5
                          },
                          "pattern": {
                            "fillmode": "overlay",
                            "size": 10,
                            "solidity": 0.2
                          }
                        },
                        "type": "bar"
                      }
                    ],
                    "barpolar": [
                      {
                        "marker": {
                          "line": {
                            "color": "#E5ECF6",
                            "width": 0.5
                          },
                          "pattern": {
                            "fillmode": "overlay",
                            "size": 10,
                            "solidity": 0.2
                          }
                        },
                        "type": "barpolar"
                      }
                    ],
                    "carpet": [
                      {
                        "aaxis": {
                          "endlinecolor": "#2a3f5f",
                          "gridcolor": "white",
                          "linecolor": "white",
                          "minorgridcolor": "white",
                          "startlinecolor": "#2a3f5f"
                        },
                        "baxis": {
                          "endlinecolor": "#2a3f5f",
                          "gridcolor": "white",
                          "linecolor": "white",
                          "minorgridcolor": "white",
                          "startlinecolor": "#2a3f5f"
                        },
                        "type": "carpet"
                      }
                    ],
                    "choropleth": [
                      {
                        "colorbar": {
                          "outlinewidth": 0,
                          "ticks": ""
                        },
                        "type": "choropleth"
                      }
                    ],
                    "contour": [
                      {
                        "colorbar": {
                          "outlinewidth": 0,
                          "ticks": ""
                        },
                        "colorscale": [
                          [
                            0,
                            "#0d0887"
                          ],
                          [
                            0.1111111111111111,
                            "#46039f"
                          ],
                          [
                            0.2222222222222222,
                            "#7201a8"
                          ],
                          [
                            0.3333333333333333,
                            "#9c179e"
                          ],
                          [
                            0.4444444444444444,
                            "#bd3786"
                          ],
                          [
                            0.5555555555555556,
                            "#d8576b"
                          ],
                          [
                            0.6666666666666666,
                            "#ed7953"
                          ],
                          [
                            0.7777777777777778,
                            "#fb9f3a"
                          ],
                          [
                            0.8888888888888888,
                            "#fdca26"
                          ],
                          [
                            1,
                            "#f0f921"
                          ]
                        ],
                        "type": "contour"
                      }
                    ],
                    "contourcarpet": [
                      {
                        "colorbar": {
                          "outlinewidth": 0,
                          "ticks": ""
                        },
                        "type": "contourcarpet"
                      }
                    ],
                    "heatmap": [
                      {
                        "colorbar": {
                          "outlinewidth": 0,
                          "ticks": ""
                        },
                        "colorscale": [
                          [
                            0,
                            "#0d0887"
                          ],
                          [
                            0.1111111111111111,
                            "#46039f"
                          ],
                          [
                            0.2222222222222222,
                            "#7201a8"
                          ],
                          [
                            0.3333333333333333,
                            "#9c179e"
                          ],
                          [
                            0.4444444444444444,
                            "#bd3786"
                          ],
                          [
                            0.5555555555555556,
                            "#d8576b"
                          ],
                          [
                            0.6666666666666666,
                            "#ed7953"
                          ],
                          [
                            0.7777777777777778,
                            "#fb9f3a"
                          ],
                          [
                            0.8888888888888888,
                            "#fdca26"
                          ],
                          [
                            1,
                            "#f0f921"
                          ]
                        ],
                        "type": "heatmap"
                      }
                    ],
                    "heatmapgl": [
                      {
                        "colorbar": {
                          "outlinewidth": 0,
                          "ticks": ""
                        },
                        "colorscale": [
                          [
                            0,
                            "#0d0887"
                          ],
                          [
                            0.1111111111111111,
                            "#46039f"
                          ],
                          [
                            0.2222222222222222,
                            "#7201a8"
                          ],
                          [
                            0.3333333333333333,
                            "#9c179e"
                          ],
                          [
                            0.4444444444444444,
                            "#bd3786"
                          ],
                          [
                            0.5555555555555556,
                            "#d8576b"
                          ],
                          [
                            0.6666666666666666,
                            "#ed7953"
                          ],
                          [
                            0.7777777777777778,
                            "#fb9f3a"
                          ],
                          [
                            0.8888888888888888,
                            "#fdca26"
                          ],
                          [
                            1,
                            "#f0f921"
                          ]
                        ],
                        "type": "heatmapgl"
                      }
                    ],
                    "histogram": [
                      {
                        "marker": {
                          "pattern": {
                            "fillmode": "overlay",
                            "size": 10,
                            "solidity": 0.2
                          }
                        },
                        "type": "histogram"
                      }
                    ],
                    "histogram2d": [
                      {
                        "colorbar": {
                          "outlinewidth": 0,
                          "ticks": ""
                        },
                        "colorscale": [
                          [
                            0,
                            "#0d0887"
                          ],
                          [
                            0.1111111111111111,
                            "#46039f"
                          ],
                          [
                            0.2222222222222222,
                            "#7201a8"
                          ],
                          [
                            0.3333333333333333,
                            "#9c179e"
                          ],
                          [
                            0.4444444444444444,
                            "#bd3786"
                          ],
                          [
                            0.5555555555555556,
                            "#d8576b"
                          ],
                          [
                            0.6666666666666666,
                            "#ed7953"
                          ],
                          [
                            0.7777777777777778,
                            "#fb9f3a"
                          ],
                          [
                            0.8888888888888888,
                            "#fdca26"
                          ],
                          [
                            1,
                            "#f0f921"
                          ]
                        ],
                        "type": "histogram2d"
                      }
                    ],
                    "histogram2dcontour": [
                      {
                        "colorbar": {
                          "outlinewidth": 0,
                          "ticks": ""
                        },
                        "colorscale": [
                          [
                            0,
                            "#0d0887"
                          ],
                          [
                            0.1111111111111111,
                            "#46039f"
                          ],
                          [
                            0.2222222222222222,
                            "#7201a8"
                          ],
                          [
                            0.3333333333333333,
                            "#9c179e"
                          ],
                          [
                            0.4444444444444444,
                            "#bd3786"
                          ],
                          [
                            0.5555555555555556,
                            "#d8576b"
                          ],
                          [
                            0.6666666666666666,
                            "#ed7953"
                          ],
                          [
                            0.7777777777777778,
                            "#fb9f3a"
                          ],
                          [
                            0.8888888888888888,
                            "#fdca26"
                          ],
                          [
                            1,
                            "#f0f921"
                          ]
                        ],
                        "type": "histogram2dcontour"
                      }
                    ],
                    "mesh3d": [
                      {
                        "colorbar": {
                          "outlinewidth": 0,
                          "ticks": ""
                        },
                        "type": "mesh3d"
                      }
                    ],
                    "parcoords": [
                      {
                        "line": {
                          "colorbar": {
                            "outlinewidth": 0,
                            "ticks": ""
                          }
                        },
                        "type": "parcoords"
                      }
                    ],
                    "pie": [
                      {
                        "automargin": true,
                        "type": "pie"
                      }
                    ],
                    "scatter": [
                      {
                        "fillpattern": {
                          "fillmode": "overlay",
                          "size": 10,
                          "solidity": 0.2
                        },
                        "type": "scatter"
                      }
                    ],
                    "scatter3d": [
                      {
                        "line": {
                          "colorbar": {
                            "outlinewidth": 0,
                            "ticks": ""
                          }
                        },
                        "marker": {
                          "colorbar": {
                            "outlinewidth": 0,
                            "ticks": ""
                          }
                        },
                        "type": "scatter3d"
                      }
                    ],
                    "scattercarpet": [
                      {
                        "marker": {
                          "colorbar": {
                            "outlinewidth": 0,
                            "ticks": ""
                          }
                        },
                        "type": "scattercarpet"
                      }
                    ],
                    "scattergeo": [
                      {
                        "marker": {
                          "colorbar": {
                            "outlinewidth": 0,
                            "ticks": ""
                          }
                        },
                        "type": "scattergeo"
                      }
                    ],
                    "scattergl": [
                      {
                        "marker": {
                          "colorbar": {
                            "outlinewidth": 0,
                            "ticks": ""
                          }
                        },
                        "type": "scattergl"
                      }
                    ],
                    "scattermapbox": [
                      {
                        "marker": {
                          "colorbar": {
                            "outlinewidth": 0,
                            "ticks": ""
                          }
                        },
                        "type": "scattermapbox"
                      }
                    ],
                    "scatterpolar": [
                      {
                        "marker": {
                          "colorbar": {
                            "outlinewidth": 0,
                            "ticks": ""
                          }
                        },
                        "type": "scatterpolar"
                      }
                    ],
                    "scatterpolargl": [
                      {
                        "marker": {
                          "colorbar": {
                            "outlinewidth": 0,
                            "ticks": ""
                          }
                        },
                        "type": "scatterpolargl"
                      }
                    ],
                    "scatterternary": [
                      {
                        "marker": {
                          "colorbar": {
                            "outlinewidth": 0,
                            "ticks": ""
                          }
                        },
                        "type": "scatterternary"
                      }
                    ],
                    "surface": [
                      {
                        "colorbar": {
                          "outlinewidth": 0,
                          "ticks": ""
                        },
                        "colorscale": [
                          [
                            0,
                            "#0d0887"
                          ],
                          [
                            0.1111111111111111,
                            "#46039f"
                          ],
                          [
                            0.2222222222222222,
                            "#7201a8"
                          ],
                          [
                            0.3333333333333333,
                            "#9c179e"
                          ],
                          [
                            0.4444444444444444,
                            "#bd3786"
                          ],
                          [
                            0.5555555555555556,
                            "#d8576b"
                          ],
                          [
                            0.6666666666666666,
                            "#ed7953"
                          ],
                          [
                            0.7777777777777778,
                            "#fb9f3a"
                          ],
                          [
                            0.8888888888888888,
                            "#fdca26"
                          ],
                          [
                            1,
                            "#f0f921"
                          ]
                        ],
                        "type": "surface"
                      }
                    ],
                    "table": [
                      {
                        "cells": {
                          "fill": {
                            "color": "#EBF0F8"
                          },
                          "line": {
                            "color": "white"
                          }
                        },
                        "header": {
                          "fill": {
                            "color": "#C8D4E3"
                          },
                          "line": {
                            "color": "white"
                          }
                        },
                        "type": "table"
                      }
                    ]
                  },
                  "layout": {
                    "annotationdefaults": {
                      "arrowcolor": "#2a3f5f",
                      "arrowhead": 0,
                      "arrowwidth": 1
                    },
                    "autotypenumbers": "strict",
                    "coloraxis": {
                      "colorbar": {
                        "outlinewidth": 0,
                        "ticks": ""
                      }
                    },
                    "colorscale": {
                      "diverging": [
                        [
                          0,
                          "#8e0152"
                        ],
                        [
                          0.1,
                          "#c51b7d"
                        ],
                        [
                          0.2,
                          "#de77ae"
                        ],
                        [
                          0.3,
                          "#f1b6da"
                        ],
                        [
                          0.4,
                          "#fde0ef"
                        ],
                        [
                          0.5,
                          "#f7f7f7"
                        ],
                        [
                          0.6,
                          "#e6f5d0"
                        ],
                        [
                          0.7,
                          "#b8e186"
                        ],
                        [
                          0.8,
                          "#7fbc41"
                        ],
                        [
                          0.9,
                          "#4d9221"
                        ],
                        [
                          1,
                          "#276419"
                        ]
                      ],
                      "sequential": [
                        [
                          0,
                          "#0d0887"
                        ],
                        [
                          0.1111111111111111,
                          "#46039f"
                        ],
                        [
                          0.2222222222222222,
                          "#7201a8"
                        ],
                        [
                          0.3333333333333333,
                          "#9c179e"
                        ],
                        [
                          0.4444444444444444,
                          "#bd3786"
                        ],
                        [
                          0.5555555555555556,
                          "#d8576b"
                        ],
                        [
                          0.6666666666666666,
                          "#ed7953"
                        ],
                        [
                          0.7777777777777778,
                          "#fb9f3a"
                        ],
                        [
                          0.8888888888888888,
                          "#fdca26"
                        ],
                        [
                          1,
                          "#f0f921"
                        ]
                      ],
                      "sequentialminus": [
                        [
                          0,
                          "#0d0887"
                        ],
                        [
                          0.1111111111111111,
                          "#46039f"
                        ],
                        [
                          0.2222222222222222,
                          "#7201a8"
                        ],
                        [
                          0.3333333333333333,
                          "#9c179e"
                        ],
                        [
                          0.4444444444444444,
                          "#bd3786"
                        ],
                        [
                          0.5555555555555556,
                          "#d8576b"
                        ],
                        [
                          0.6666666666666666,
                          "#ed7953"
                        ],
                        [
                          0.7777777777777778,
                          "#fb9f3a"
                        ],
                        [
                          0.8888888888888888,
                          "#fdca26"
                        ],
                        [
                          1,
                          "#f0f921"
                        ]
                      ]
                    },
                    "colorway": [
                      "#636efa",
                      "#EF553B",
                      "#00cc96",
                      "#ab63fa",
                      "#FFA15A",
                      "#19d3f3",
                      "#FF6692",
                      "#B6E880",
                      "#FF97FF",
                      "#FECB52"
                    ],
                    "font": {
                      "color": "#2a3f5f"
                    },
                    "geo": {
                      "bgcolor": "white",
                      "lakecolor": "white",
                      "landcolor": "#E5ECF6",
                      "showlakes": true,
                      "showland": true,
                      "subunitcolor": "white"
                    },
                    "hoverlabel": {
                      "align": "left"
                    },
                    "hovermode": "closest",
                    "mapbox": {
                      "style": "light"
                    },
                    "paper_bgcolor": "white",
                    "plot_bgcolor": "#E5ECF6",
                    "polar": {
                      "angularaxis": {
                        "gridcolor": "white",
                        "linecolor": "white",
                        "ticks": ""
                      },
                      "bgcolor": "#E5ECF6",
                      "radialaxis": {
                        "gridcolor": "white",
                        "linecolor": "white",
                        "ticks": ""
                      }
                    },
                    "scene": {
                      "xaxis": {
                        "backgroundcolor": "#E5ECF6",
                        "gridcolor": "white",
                        "gridwidth": 2,
                        "linecolor": "white",
                        "showbackground": true,
                        "ticks": "",
                        "zerolinecolor": "white"
                      },
                      "yaxis": {
                        "backgroundcolor": "#E5ECF6",
                        "gridcolor": "white",
                        "gridwidth": 2,
                        "linecolor": "white",
                        "showbackground": true,
                        "ticks": "",
                        "zerolinecolor": "white"
                      },
                      "zaxis": {
                        "backgroundcolor": "#E5ECF6",
                        "gridcolor": "white",
                        "gridwidth": 2,
                        "linecolor": "white",
                        "showbackground": true,
                        "ticks": "",
                        "zerolinecolor": "white"
                      }
                    },
                    "shapedefaults": {
                      "line": {
                        "color": "#2a3f5f"
                      }
                    },
                    "ternary": {
                      "aaxis": {
                        "gridcolor": "white",
                        "linecolor": "white",
                        "ticks": ""
                      },
                      "baxis": {
                        "gridcolor": "white",
                        "linecolor": "white",
                        "ticks": ""
                      },
                      "bgcolor": "#E5ECF6",
                      "caxis": {
                        "gridcolor": "white",
                        "linecolor": "white",
                        "ticks": ""
                      }
                    },
                    "title": {
                      "x": 0.05
                    },
                    "xaxis": {
                      "automargin": true,
                      "gridcolor": "white",
                      "linecolor": "white",
                      "ticks": "",
                      "title": {
                        "standoff": 15
                      },
                      "zerolinecolor": "white",
                      "zerolinewidth": 2
                    },
                    "yaxis": {
                      "automargin": true,
                      "gridcolor": "white",
                      "linecolor": "white",
                      "ticks": "",
                      "title": {
                        "standoff": 15
                      },
                      "zerolinecolor": "white",
                      "zerolinewidth": 2
                    }
                  }
                },
                "title": {
                  "text": "F50-F59 - Síndromes comportamentais associadas a disfunções fisiológicas e a fatores físicos"
                },
                "xaxis": {
                  "title": {
                    "text": "Time"
                  }
                },
                "yaxis": {
                  "title": {
                    "text": "Value"
                  }
                }
              }
            }
          },
          "metadata": {},
          "output_type": "display_data"
        },
        {
          "data": {
            "application/vnd.plotly.v1+json": {
              "config": {
                "plotlyServerURL": "https://plot.ly"
              },
              "data": [
                {
                  "marker": {
                    "color": "black"
                  },
                  "mode": "markers",
                  "name": "Real",
                  "type": "scatter",
                  "x": [
                    "2016-01-01T00:00:00.000000000",
                    "2016-02-01T00:00:00.000000000",
                    "2016-03-01T00:00:00.000000000",
                    "2016-04-01T00:00:00.000000000",
                    "2016-05-01T00:00:00.000000000",
                    "2016-06-01T00:00:00.000000000",
                    "2016-07-01T00:00:00.000000000",
                    "2016-08-01T00:00:00.000000000",
                    "2016-09-01T00:00:00.000000000",
                    "2016-10-01T00:00:00.000000000",
                    "2016-11-01T00:00:00.000000000",
                    "2016-12-01T00:00:00.000000000",
                    "2017-01-01T00:00:00.000000000",
                    "2017-02-01T00:00:00.000000000",
                    "2017-03-01T00:00:00.000000000",
                    "2017-04-01T00:00:00.000000000",
                    "2017-05-01T00:00:00.000000000",
                    "2017-06-01T00:00:00.000000000",
                    "2017-07-01T00:00:00.000000000",
                    "2017-08-01T00:00:00.000000000",
                    "2017-09-01T00:00:00.000000000",
                    "2017-10-01T00:00:00.000000000",
                    "2017-11-01T00:00:00.000000000",
                    "2017-12-01T00:00:00.000000000",
                    "2018-01-01T00:00:00.000000000",
                    "2018-02-01T00:00:00.000000000",
                    "2018-03-01T00:00:00.000000000",
                    "2018-04-01T00:00:00.000000000",
                    "2018-05-01T00:00:00.000000000",
                    "2018-06-01T00:00:00.000000000",
                    "2018-07-01T00:00:00.000000000",
                    "2018-08-01T00:00:00.000000000",
                    "2018-09-01T00:00:00.000000000",
                    "2018-10-01T00:00:00.000000000",
                    "2018-11-01T00:00:00.000000000",
                    "2018-12-01T00:00:00.000000000",
                    "2019-01-01T00:00:00.000000000",
                    "2019-02-01T00:00:00.000000000",
                    "2019-03-01T00:00:00.000000000",
                    "2019-04-01T00:00:00.000000000",
                    "2019-05-01T00:00:00.000000000",
                    "2019-06-01T00:00:00.000000000",
                    "2019-07-01T00:00:00.000000000",
                    "2019-08-01T00:00:00.000000000",
                    "2019-09-01T00:00:00.000000000",
                    "2019-10-01T00:00:00.000000000",
                    "2019-11-01T00:00:00.000000000",
                    "2019-12-01T00:00:00.000000000",
                    "2020-01-01T00:00:00.000000000",
                    "2020-02-01T00:00:00.000000000",
                    "2020-03-01T00:00:00.000000000",
                    "2020-04-01T00:00:00.000000000",
                    "2020-05-01T00:00:00.000000000",
                    "2020-06-01T00:00:00.000000000",
                    "2020-07-01T00:00:00.000000000",
                    "2020-08-01T00:00:00.000000000",
                    "2020-09-01T00:00:00.000000000",
                    "2020-10-01T00:00:00.000000000",
                    "2020-11-01T00:00:00.000000000",
                    "2020-12-01T00:00:00.000000000",
                    "2021-01-01T00:00:00.000000000",
                    "2021-02-01T00:00:00.000000000",
                    "2021-03-01T00:00:00.000000000",
                    "2021-04-01T00:00:00.000000000",
                    "2021-05-01T00:00:00.000000000",
                    "2021-06-01T00:00:00.000000000",
                    "2021-07-01T00:00:00.000000000",
                    "2021-08-01T00:00:00.000000000",
                    "2021-09-01T00:00:00.000000000",
                    "2021-10-01T00:00:00.000000000",
                    "2021-11-01T00:00:00.000000000",
                    "2021-12-01T00:00:00.000000000",
                    "2022-01-01T00:00:00.000000000",
                    "2022-02-01T00:00:00.000000000",
                    "2022-03-01T00:00:00.000000000",
                    "2022-04-01T00:00:00.000000000",
                    "2022-05-01T00:00:00.000000000",
                    "2022-06-01T00:00:00.000000000",
                    "2022-07-01T00:00:00.000000000",
                    "2022-08-01T00:00:00.000000000",
                    "2022-09-01T00:00:00.000000000",
                    "2022-10-01T00:00:00.000000000",
                    "2022-11-01T00:00:00.000000000",
                    "2022-12-01T00:00:00.000000000",
                    "2023-01-01T00:00:00.000000000",
                    "2023-02-01T00:00:00.000000000",
                    "2023-03-01T00:00:00.000000000",
                    "2023-04-01T00:00:00.000000000",
                    "2023-05-01T00:00:00.000000000",
                    "2023-06-01T00:00:00.000000000",
                    "2023-07-01T00:00:00.000000000",
                    "2023-08-01T00:00:00.000000000",
                    "2023-09-01T00:00:00.000000000",
                    "2023-10-01T00:00:00.000000000",
                    "2023-11-01T00:00:00.000000000",
                    "2023-12-01T00:00:00.000000000",
                    "2024-01-01T00:00:00.000000000",
                    "2024-02-01T00:00:00.000000000",
                    "2024-03-01T00:00:00.000000000",
                    "2024-04-01T00:00:00.000000000",
                    "2024-05-01T00:00:00.000000000",
                    "2024-06-01T00:00:00.000000000",
                    "2024-07-01T00:00:00.000000000",
                    "2024-08-01T00:00:00.000000000",
                    "2024-09-01T00:00:00.000000000",
                    "2024-10-01T00:00:00.000000000",
                    "2024-11-01T00:00:00.000000000",
                    "2024-12-01T00:00:00.000000000"
                  ],
                  "y": [
                    4.165372997120158,
                    3.807074823118535,
                    3.544544027306613,
                    3.568788391804613,
                    3.6132004866485543,
                    3.748056473689981,
                    3.9451541441258495,
                    3.90478888840548,
                    4.1005262578537165,
                    4.399212570455579,
                    4.513450418134581,
                    5.152882828854533,
                    4.852909937383717,
                    4.680211872968448,
                    4.612998280438355,
                    4.755575921863558,
                    4.500198614038946,
                    4.8545251286605495,
                    4.931925470955672,
                    5.153137792165384,
                    5.7072607524981045,
                    5.991257837958443,
                    6.021032737096892,
                    6.384186890172975,
                    6.264726118224064,
                    6.416645807054311,
                    6.069603002358391,
                    6.281055819343828,
                    6.0735480616934305,
                    6.521423628505987,
                    6.559253530199252,
                    6.765476095832771,
                    6.82602871215894,
                    6.96803751604154,
                    6.999168761935794,
                    6.8977874032443705,
                    6.575696138045929,
                    6.772739370917388,
                    7.202850689928012,
                    6.851643194696989,
                    6.86972816243652,
                    7.152224944417012,
                    7.464537339007647,
                    8.121502241466692,
                    8.148410737475528,
                    8.196025272964704,
                    8.51275347203737,
                    8.8277501486605,
                    8.930135651458162,
                    8.95804590993989,
                    9.132707398321756,
                    12.516772993040586,
                    12.32663516736929,
                    11.75113911048541,
                    10.92732055199642,
                    10.891788779950508,
                    11.428390887929456,
                    11.084360265221946,
                    11.064059266953338,
                    11.129435912098055,
                    10.884490234532135,
                    10.970167933834743,
                    10.777493118402505,
                    11.661907184722915,
                    10.554588514544179,
                    10.960772468008148,
                    11.620125664997444,
                    12.2752366126995,
                    12.75986224304766,
                    12.363783313776024,
                    12.173465547506707,
                    11.613052164653336,
                    8.850057517846174,
                    11.584463953370422,
                    12.439907749498158,
                    12.070488773050368,
                    11.562827266430238,
                    11.085191407127033,
                    11.679170101932,
                    12.479316825984766,
                    13.871748039551585,
                    13.579787789740168,
                    12.995257389119661,
                    12.993195439509764,
                    14.459901645971406,
                    14.639168612119079,
                    13.856187959620275,
                    13.22628316277146,
                    13.874634584604811,
                    14.18268282540951,
                    14.782483730154805,
                    15.195557643361848,
                    16.006532741591176,
                    15.577788084276042,
                    15.450234004040727,
                    15.46722883468751,
                    16.238158494524285,
                    15.34103729106395,
                    13.819345596188846,
                    13.881894522602877,
                    14.780268173902911,
                    15.357765689248108,
                    15.875661647299966,
                    15.95390450481262,
                    16.04605249892362,
                    15.979038676648134,
                    16.037314711003003,
                    15.900015873309782
                  ]
                },
                {
                  "line": {
                    "color": "black",
                    "dash": "dot"
                  },
                  "mode": "lines",
                  "name": "Baseline",
                  "type": "scatter",
                  "x": [
                    "2016-01-01T00:00:00.000000000",
                    "2016-02-01T00:00:00.000000000",
                    "2016-03-01T00:00:00.000000000",
                    "2016-04-01T00:00:00.000000000",
                    "2016-05-01T00:00:00.000000000",
                    "2016-06-01T00:00:00.000000000",
                    "2016-07-01T00:00:00.000000000",
                    "2016-08-01T00:00:00.000000000",
                    "2016-09-01T00:00:00.000000000",
                    "2016-10-01T00:00:00.000000000",
                    "2016-11-01T00:00:00.000000000",
                    "2016-12-01T00:00:00.000000000",
                    "2017-01-01T00:00:00.000000000",
                    "2017-02-01T00:00:00.000000000",
                    "2017-03-01T00:00:00.000000000",
                    "2017-04-01T00:00:00.000000000",
                    "2017-05-01T00:00:00.000000000",
                    "2017-06-01T00:00:00.000000000",
                    "2017-07-01T00:00:00.000000000",
                    "2017-08-01T00:00:00.000000000",
                    "2017-09-01T00:00:00.000000000",
                    "2017-10-01T00:00:00.000000000",
                    "2017-11-01T00:00:00.000000000",
                    "2017-12-01T00:00:00.000000000",
                    "2018-01-01T00:00:00.000000000",
                    "2018-02-01T00:00:00.000000000",
                    "2018-03-01T00:00:00.000000000",
                    "2018-04-01T00:00:00.000000000",
                    "2018-05-01T00:00:00.000000000",
                    "2018-06-01T00:00:00.000000000",
                    "2018-07-01T00:00:00.000000000",
                    "2018-08-01T00:00:00.000000000",
                    "2018-09-01T00:00:00.000000000",
                    "2018-10-01T00:00:00.000000000",
                    "2018-11-01T00:00:00.000000000",
                    "2018-12-01T00:00:00.000000000",
                    "2019-01-01T00:00:00.000000000",
                    "2019-02-01T00:00:00.000000000",
                    "2019-03-01T00:00:00.000000000",
                    "2019-04-01T00:00:00.000000000",
                    "2019-05-01T00:00:00.000000000",
                    "2019-06-01T00:00:00.000000000",
                    "2019-07-01T00:00:00.000000000",
                    "2019-08-01T00:00:00.000000000",
                    "2019-09-01T00:00:00.000000000",
                    "2019-10-01T00:00:00.000000000",
                    "2019-11-01T00:00:00.000000000",
                    "2019-12-01T00:00:00.000000000",
                    "2020-01-01T00:00:00.000000000",
                    "2020-02-01T00:00:00.000000000",
                    "2020-03-01T00:00:00.000000000",
                    "2020-04-01T00:00:00.000000000",
                    "2020-05-01T00:00:00.000000000",
                    "2020-06-01T00:00:00.000000000",
                    "2020-07-01T00:00:00.000000000",
                    "2020-08-01T00:00:00.000000000",
                    "2020-09-01T00:00:00.000000000",
                    "2020-10-01T00:00:00.000000000",
                    "2020-11-01T00:00:00.000000000",
                    "2020-12-01T00:00:00.000000000",
                    "2021-01-01T00:00:00.000000000",
                    "2021-02-01T00:00:00.000000000",
                    "2021-03-01T00:00:00.000000000",
                    "2021-04-01T00:00:00.000000000",
                    "2021-05-01T00:00:00.000000000",
                    "2021-06-01T00:00:00.000000000",
                    "2021-07-01T00:00:00.000000000",
                    "2021-08-01T00:00:00.000000000",
                    "2021-09-01T00:00:00.000000000",
                    "2021-10-01T00:00:00.000000000",
                    "2021-11-01T00:00:00.000000000",
                    "2021-12-01T00:00:00.000000000",
                    "2022-01-01T00:00:00.000000000",
                    "2022-02-01T00:00:00.000000000",
                    "2022-03-01T00:00:00.000000000",
                    "2022-04-01T00:00:00.000000000",
                    "2022-05-01T00:00:00.000000000",
                    "2022-06-01T00:00:00.000000000",
                    "2022-07-01T00:00:00.000000000",
                    "2022-08-01T00:00:00.000000000",
                    "2022-09-01T00:00:00.000000000",
                    "2022-10-01T00:00:00.000000000",
                    "2022-11-01T00:00:00.000000000",
                    "2022-12-01T00:00:00.000000000",
                    "2023-01-01T00:00:00.000000000",
                    "2023-02-01T00:00:00.000000000",
                    "2023-03-01T00:00:00.000000000",
                    "2023-04-01T00:00:00.000000000",
                    "2023-05-01T00:00:00.000000000",
                    "2023-06-01T00:00:00.000000000",
                    "2023-07-01T00:00:00.000000000",
                    "2023-08-01T00:00:00.000000000",
                    "2023-09-01T00:00:00.000000000",
                    "2023-10-01T00:00:00.000000000",
                    "2023-11-01T00:00:00.000000000",
                    "2023-12-01T00:00:00.000000000",
                    "2024-01-01T00:00:00.000000000",
                    "2024-02-01T00:00:00.000000000",
                    "2024-03-01T00:00:00.000000000",
                    "2024-04-01T00:00:00.000000000",
                    "2024-05-01T00:00:00.000000000",
                    "2024-06-01T00:00:00.000000000",
                    "2024-07-01T00:00:00.000000000",
                    "2024-08-01T00:00:00.000000000",
                    "2024-09-01T00:00:00.000000000",
                    "2024-10-01T00:00:00.000000000",
                    "2024-11-01T00:00:00.000000000",
                    "2024-12-01T00:00:00.000000000"
                  ],
                  "y": [
                    3.1852535738257797,
                    3.2949582800049395,
                    3.4046629861840993,
                    3.514367692363259,
                    3.6240723985424195,
                    3.733777104721579,
                    3.843481810900739,
                    3.953186517079899,
                    4.062891223259059,
                    4.172595929438218,
                    4.2823006356173785,
                    4.392005341796539,
                    4.501710047975698,
                    4.6114147541548585,
                    4.721119460334018,
                    4.830824166513178,
                    4.9405288726923375,
                    5.050233578871498,
                    5.159938285050657,
                    5.2696429912298175,
                    5.379347697408978,
                    5.489052403588137,
                    5.598757109767297,
                    5.708461815946457,
                    5.818166522125617,
                    5.9278712283047765,
                    6.037575934483937,
                    6.147280640663096,
                    6.2569853468422565,
                    6.366690053021417,
                    6.476394759200576,
                    6.586099465379736,
                    6.695804171558896,
                    6.805508877738056,
                    6.9152135839172155,
                    7.024918290096375,
                    7.134622996275535,
                    7.2443277024546955,
                    7.354032408633855,
                    7.463737114813015,
                    7.5734418209921746,
                    7.683146527171335,
                    7.792851233350495,
                    7.9025559395296545,
                    8.012260645708814,
                    8.121965351887974,
                    8.231670058067134,
                    8.341374764246293,
                    8.451079470425455,
                    8.560784176604614,
                    8.670488882783774,
                    8.780193588962934,
                    8.889898295142093,
                    8.999603001321255,
                    9.109307707500413,
                    9.219012413679573,
                    9.328717119858734,
                    9.438421826037892,
                    9.548126532217053,
                    9.657831238396213,
                    9.767535944575371,
                    9.877240650754533,
                    9.986945356933692,
                    10.096650063112852,
                    10.206354769292012,
                    10.316059475471171,
                    10.425764181650333,
                    10.535468887829492,
                    10.645173594008652,
                    10.754878300187812,
                    10.86458300636697,
                    10.974287712546131,
                    11.083992418725291,
                    11.19369712490445,
                    11.303401831083612,
                    11.41310653726277,
                    11.522811243441932,
                    11.63251594962109,
                    11.74222065580025,
                    11.851925361979411,
                    11.96163006815857,
                    12.071334774337728,
                    12.18103948051689,
                    12.290744186696049,
                    12.400448892875211,
                    12.51015359905437,
                    12.619858305233528,
                    12.72956301141269,
                    12.839267717591849,
                    12.94897242377101,
                    13.05867712995017,
                    13.168381836129328,
                    13.27808654230849,
                    13.387791248487648,
                    13.497495954666807,
                    13.607200660845969,
                    13.716905367025127,
                    13.82661007320429,
                    13.936314779383448,
                    14.046019485562606,
                    14.155724191741768,
                    14.265428897920927,
                    14.375133604100089,
                    14.484838310279248,
                    14.594543016458406,
                    14.704247722637568,
                    14.813952428816727,
                    14.923657134995889
                  ]
                },
                {
                  "line": {
                    "color": "purple"
                  },
                  "mode": "lines",
                  "name": "Full model",
                  "type": "scatter",
                  "x": [
                    "2016-01-01T00:00:00.000000000",
                    "2016-02-01T00:00:00.000000000",
                    "2016-03-01T00:00:00.000000000",
                    "2016-04-01T00:00:00.000000000",
                    "2016-05-01T00:00:00.000000000",
                    "2016-06-01T00:00:00.000000000",
                    "2016-07-01T00:00:00.000000000",
                    "2016-08-01T00:00:00.000000000",
                    "2016-09-01T00:00:00.000000000",
                    "2016-10-01T00:00:00.000000000",
                    "2016-11-01T00:00:00.000000000",
                    "2016-12-01T00:00:00.000000000",
                    "2017-01-01T00:00:00.000000000",
                    "2017-02-01T00:00:00.000000000",
                    "2017-03-01T00:00:00.000000000",
                    "2017-04-01T00:00:00.000000000",
                    "2017-05-01T00:00:00.000000000",
                    "2017-06-01T00:00:00.000000000",
                    "2017-07-01T00:00:00.000000000",
                    "2017-08-01T00:00:00.000000000",
                    "2017-09-01T00:00:00.000000000",
                    "2017-10-01T00:00:00.000000000",
                    "2017-11-01T00:00:00.000000000",
                    "2017-12-01T00:00:00.000000000",
                    "2018-01-01T00:00:00.000000000",
                    "2018-02-01T00:00:00.000000000",
                    "2018-03-01T00:00:00.000000000",
                    "2018-04-01T00:00:00.000000000",
                    "2018-05-01T00:00:00.000000000",
                    "2018-06-01T00:00:00.000000000",
                    "2018-07-01T00:00:00.000000000",
                    "2018-08-01T00:00:00.000000000",
                    "2018-09-01T00:00:00.000000000",
                    "2018-10-01T00:00:00.000000000",
                    "2018-11-01T00:00:00.000000000",
                    "2018-12-01T00:00:00.000000000",
                    "2019-01-01T00:00:00.000000000",
                    "2019-02-01T00:00:00.000000000",
                    "2019-03-01T00:00:00.000000000",
                    "2019-04-01T00:00:00.000000000",
                    "2019-05-01T00:00:00.000000000",
                    "2019-06-01T00:00:00.000000000",
                    "2019-07-01T00:00:00.000000000",
                    "2019-08-01T00:00:00.000000000",
                    "2019-09-01T00:00:00.000000000",
                    "2019-10-01T00:00:00.000000000",
                    "2019-11-01T00:00:00.000000000",
                    "2019-12-01T00:00:00.000000000",
                    "2020-01-01T00:00:00.000000000",
                    "2020-02-01T00:00:00.000000000",
                    "2020-03-01T00:00:00.000000000",
                    "2020-04-01T00:00:00.000000000",
                    "2020-05-01T00:00:00.000000000",
                    "2020-06-01T00:00:00.000000000",
                    "2020-07-01T00:00:00.000000000",
                    "2020-08-01T00:00:00.000000000",
                    "2020-09-01T00:00:00.000000000",
                    "2020-10-01T00:00:00.000000000",
                    "2020-11-01T00:00:00.000000000",
                    "2020-12-01T00:00:00.000000000",
                    "2021-01-01T00:00:00.000000000",
                    "2021-02-01T00:00:00.000000000",
                    "2021-03-01T00:00:00.000000000",
                    "2021-04-01T00:00:00.000000000",
                    "2021-05-01T00:00:00.000000000",
                    "2021-06-01T00:00:00.000000000",
                    "2021-07-01T00:00:00.000000000",
                    "2021-08-01T00:00:00.000000000",
                    "2021-09-01T00:00:00.000000000",
                    "2021-10-01T00:00:00.000000000",
                    "2021-11-01T00:00:00.000000000",
                    "2021-12-01T00:00:00.000000000",
                    "2022-01-01T00:00:00.000000000",
                    "2022-02-01T00:00:00.000000000",
                    "2022-03-01T00:00:00.000000000",
                    "2022-04-01T00:00:00.000000000",
                    "2022-05-01T00:00:00.000000000",
                    "2022-06-01T00:00:00.000000000",
                    "2022-07-01T00:00:00.000000000",
                    "2022-08-01T00:00:00.000000000",
                    "2022-09-01T00:00:00.000000000",
                    "2022-10-01T00:00:00.000000000",
                    "2022-11-01T00:00:00.000000000",
                    "2022-12-01T00:00:00.000000000",
                    "2023-01-01T00:00:00.000000000",
                    "2023-02-01T00:00:00.000000000",
                    "2023-03-01T00:00:00.000000000",
                    "2023-04-01T00:00:00.000000000",
                    "2023-05-01T00:00:00.000000000",
                    "2023-06-01T00:00:00.000000000",
                    "2023-07-01T00:00:00.000000000",
                    "2023-08-01T00:00:00.000000000",
                    "2023-09-01T00:00:00.000000000",
                    "2023-10-01T00:00:00.000000000",
                    "2023-11-01T00:00:00.000000000",
                    "2023-12-01T00:00:00.000000000",
                    "2024-01-01T00:00:00.000000000",
                    "2024-02-01T00:00:00.000000000",
                    "2024-03-01T00:00:00.000000000",
                    "2024-04-01T00:00:00.000000000",
                    "2024-05-01T00:00:00.000000000",
                    "2024-06-01T00:00:00.000000000",
                    "2024-07-01T00:00:00.000000000",
                    "2024-08-01T00:00:00.000000000",
                    "2024-09-01T00:00:00.000000000",
                    "2024-10-01T00:00:00.000000000",
                    "2024-11-01T00:00:00.000000000",
                    "2024-12-01T00:00:00.000000000"
                  ],
                  "y": [
                    3.1852535738257797,
                    3.2949582800049395,
                    3.4046629861840993,
                    3.514367692363259,
                    3.6240723985424195,
                    3.733777104721579,
                    3.843481810900739,
                    3.953186517079899,
                    4.062891223259059,
                    4.172595929438218,
                    4.2823006356173785,
                    4.392005341796539,
                    4.501710047975698,
                    4.6114147541548585,
                    4.721119460334018,
                    4.830824166513178,
                    4.9405288726923375,
                    5.050233578871498,
                    5.159938285050657,
                    5.2696429912298175,
                    5.379347697408978,
                    5.489052403588137,
                    5.598757109767297,
                    5.708461815946457,
                    5.818166522125617,
                    5.9278712283047765,
                    6.037575934483937,
                    6.147280640663096,
                    6.2569853468422565,
                    6.366690053021417,
                    6.476394759200576,
                    6.586099465379736,
                    6.695804171558896,
                    6.805508877738056,
                    6.9152135839172155,
                    7.024918290096375,
                    7.134622996275535,
                    7.2443277024546955,
                    7.354032408633855,
                    7.463737114813015,
                    7.5734418209921746,
                    7.683146527171335,
                    7.792851233350495,
                    7.9025559395296545,
                    8.012260645708814,
                    8.121965351887974,
                    8.231670058067134,
                    8.341374764246293,
                    8.451079470425455,
                    8.560784176604614,
                    10.849637614180732,
                    10.862519106629659,
                    10.875400599078581,
                    10.888282091527508,
                    10.90116358397643,
                    10.914045076425353,
                    10.92692656887428,
                    10.939808061323202,
                    10.952689553772124,
                    10.96557104622105,
                    10.978452538669973,
                    10.9913340311189,
                    11.238887497197885,
                    11.289258983959815,
                    11.339630470721744,
                    11.390001957483673,
                    11.440373444245605,
                    11.490744931007534,
                    11.541116417769464,
                    11.591487904531395,
                    11.641859391293323,
                    11.692230878055252,
                    11.742602364817182,
                    11.792973851579111,
                    11.843345338341043,
                    12.156298896680752,
                    12.28525575537054,
                    12.414212614060327,
                    12.543169472750112,
                    12.672126331439902,
                    12.801083190129686,
                    12.930040048819473,
                    13.058996907509261,
                    13.187953766199048,
                    13.316910624888836,
                    13.445867483578622,
                    13.574824342268409,
                    13.703781200958197,
                    13.832738059647983,
                    13.961694918337772,
                    14.090651777027558,
                    14.219608635717343,
                    14.348565494407133,
                    14.477522353096917,
                    14.606479211786704,
                    14.735436070476492,
                    14.864392929166279,
                    14.993349787856069,
                    15.122306646545853,
                    15.25126350523564,
                    15.380220363925428,
                    15.509177222615214,
                    15.638134081305003,
                    15.76709093999479,
                    15.896047798684574,
                    16.025004657374364,
                    16.15396151606415,
                    16.28291837475394
                  ]
                }
              ],
              "layout": {
                "annotations": [
                  {
                    "arrowhead": 2,
                    "ax": 30,
                    "ay": -40,
                    "showarrow": true,
                    "text": "Pandemia",
                    "x": "2020-03-01",
                    "y": 16.238158494524285
                  },
                  {
                    "arrowhead": 2,
                    "ax": 30,
                    "ay": -40,
                    "showarrow": true,
                    "text": "Pos Pandemia",
                    "x": "2022-04-01",
                    "y": 16.238158494524285
                  }
                ],
                "legend": {
                  "title": {
                    "text": "Legend"
                  }
                },
                "shapes": [
                  {
                    "fillcolor": "rgba(0, 0, 0, 0.25)",
                    "layer": "below",
                    "line": {
                      "width": 0
                    },
                    "opacity": 0.3,
                    "type": "rect",
                    "x0": "2020-03-01",
                    "x1": "2020-07-01",
                    "xref": "x",
                    "y0": 0,
                    "y1": 1,
                    "yref": "paper"
                  },
                  {
                    "fillcolor": "rgba(0, 0, 0, 0.25)",
                    "layer": "below",
                    "line": {
                      "width": 0
                    },
                    "opacity": 0.3,
                    "type": "rect",
                    "x0": "2021-04-01",
                    "x1": "2021-05-01",
                    "xref": "x",
                    "y0": 0,
                    "y1": 1,
                    "yref": "paper"
                  },
                  {
                    "line": {
                      "color": "black",
                      "dash": "dash"
                    },
                    "type": "line",
                    "x0": "2020-03-01",
                    "x1": "2020-03-01",
                    "y0": 3.544544027306613,
                    "y1": 16.238158494524285
                  },
                  {
                    "line": {
                      "color": "black",
                      "dash": "dash"
                    },
                    "type": "line",
                    "x0": "2022-04-01",
                    "x1": "2022-04-01",
                    "y0": 3.544544027306613,
                    "y1": 16.238158494524285
                  }
                ],
                "template": {
                  "data": {
                    "bar": [
                      {
                        "error_x": {
                          "color": "#2a3f5f"
                        },
                        "error_y": {
                          "color": "#2a3f5f"
                        },
                        "marker": {
                          "line": {
                            "color": "#E5ECF6",
                            "width": 0.5
                          },
                          "pattern": {
                            "fillmode": "overlay",
                            "size": 10,
                            "solidity": 0.2
                          }
                        },
                        "type": "bar"
                      }
                    ],
                    "barpolar": [
                      {
                        "marker": {
                          "line": {
                            "color": "#E5ECF6",
                            "width": 0.5
                          },
                          "pattern": {
                            "fillmode": "overlay",
                            "size": 10,
                            "solidity": 0.2
                          }
                        },
                        "type": "barpolar"
                      }
                    ],
                    "carpet": [
                      {
                        "aaxis": {
                          "endlinecolor": "#2a3f5f",
                          "gridcolor": "white",
                          "linecolor": "white",
                          "minorgridcolor": "white",
                          "startlinecolor": "#2a3f5f"
                        },
                        "baxis": {
                          "endlinecolor": "#2a3f5f",
                          "gridcolor": "white",
                          "linecolor": "white",
                          "minorgridcolor": "white",
                          "startlinecolor": "#2a3f5f"
                        },
                        "type": "carpet"
                      }
                    ],
                    "choropleth": [
                      {
                        "colorbar": {
                          "outlinewidth": 0,
                          "ticks": ""
                        },
                        "type": "choropleth"
                      }
                    ],
                    "contour": [
                      {
                        "colorbar": {
                          "outlinewidth": 0,
                          "ticks": ""
                        },
                        "colorscale": [
                          [
                            0,
                            "#0d0887"
                          ],
                          [
                            0.1111111111111111,
                            "#46039f"
                          ],
                          [
                            0.2222222222222222,
                            "#7201a8"
                          ],
                          [
                            0.3333333333333333,
                            "#9c179e"
                          ],
                          [
                            0.4444444444444444,
                            "#bd3786"
                          ],
                          [
                            0.5555555555555556,
                            "#d8576b"
                          ],
                          [
                            0.6666666666666666,
                            "#ed7953"
                          ],
                          [
                            0.7777777777777778,
                            "#fb9f3a"
                          ],
                          [
                            0.8888888888888888,
                            "#fdca26"
                          ],
                          [
                            1,
                            "#f0f921"
                          ]
                        ],
                        "type": "contour"
                      }
                    ],
                    "contourcarpet": [
                      {
                        "colorbar": {
                          "outlinewidth": 0,
                          "ticks": ""
                        },
                        "type": "contourcarpet"
                      }
                    ],
                    "heatmap": [
                      {
                        "colorbar": {
                          "outlinewidth": 0,
                          "ticks": ""
                        },
                        "colorscale": [
                          [
                            0,
                            "#0d0887"
                          ],
                          [
                            0.1111111111111111,
                            "#46039f"
                          ],
                          [
                            0.2222222222222222,
                            "#7201a8"
                          ],
                          [
                            0.3333333333333333,
                            "#9c179e"
                          ],
                          [
                            0.4444444444444444,
                            "#bd3786"
                          ],
                          [
                            0.5555555555555556,
                            "#d8576b"
                          ],
                          [
                            0.6666666666666666,
                            "#ed7953"
                          ],
                          [
                            0.7777777777777778,
                            "#fb9f3a"
                          ],
                          [
                            0.8888888888888888,
                            "#fdca26"
                          ],
                          [
                            1,
                            "#f0f921"
                          ]
                        ],
                        "type": "heatmap"
                      }
                    ],
                    "heatmapgl": [
                      {
                        "colorbar": {
                          "outlinewidth": 0,
                          "ticks": ""
                        },
                        "colorscale": [
                          [
                            0,
                            "#0d0887"
                          ],
                          [
                            0.1111111111111111,
                            "#46039f"
                          ],
                          [
                            0.2222222222222222,
                            "#7201a8"
                          ],
                          [
                            0.3333333333333333,
                            "#9c179e"
                          ],
                          [
                            0.4444444444444444,
                            "#bd3786"
                          ],
                          [
                            0.5555555555555556,
                            "#d8576b"
                          ],
                          [
                            0.6666666666666666,
                            "#ed7953"
                          ],
                          [
                            0.7777777777777778,
                            "#fb9f3a"
                          ],
                          [
                            0.8888888888888888,
                            "#fdca26"
                          ],
                          [
                            1,
                            "#f0f921"
                          ]
                        ],
                        "type": "heatmapgl"
                      }
                    ],
                    "histogram": [
                      {
                        "marker": {
                          "pattern": {
                            "fillmode": "overlay",
                            "size": 10,
                            "solidity": 0.2
                          }
                        },
                        "type": "histogram"
                      }
                    ],
                    "histogram2d": [
                      {
                        "colorbar": {
                          "outlinewidth": 0,
                          "ticks": ""
                        },
                        "colorscale": [
                          [
                            0,
                            "#0d0887"
                          ],
                          [
                            0.1111111111111111,
                            "#46039f"
                          ],
                          [
                            0.2222222222222222,
                            "#7201a8"
                          ],
                          [
                            0.3333333333333333,
                            "#9c179e"
                          ],
                          [
                            0.4444444444444444,
                            "#bd3786"
                          ],
                          [
                            0.5555555555555556,
                            "#d8576b"
                          ],
                          [
                            0.6666666666666666,
                            "#ed7953"
                          ],
                          [
                            0.7777777777777778,
                            "#fb9f3a"
                          ],
                          [
                            0.8888888888888888,
                            "#fdca26"
                          ],
                          [
                            1,
                            "#f0f921"
                          ]
                        ],
                        "type": "histogram2d"
                      }
                    ],
                    "histogram2dcontour": [
                      {
                        "colorbar": {
                          "outlinewidth": 0,
                          "ticks": ""
                        },
                        "colorscale": [
                          [
                            0,
                            "#0d0887"
                          ],
                          [
                            0.1111111111111111,
                            "#46039f"
                          ],
                          [
                            0.2222222222222222,
                            "#7201a8"
                          ],
                          [
                            0.3333333333333333,
                            "#9c179e"
                          ],
                          [
                            0.4444444444444444,
                            "#bd3786"
                          ],
                          [
                            0.5555555555555556,
                            "#d8576b"
                          ],
                          [
                            0.6666666666666666,
                            "#ed7953"
                          ],
                          [
                            0.7777777777777778,
                            "#fb9f3a"
                          ],
                          [
                            0.8888888888888888,
                            "#fdca26"
                          ],
                          [
                            1,
                            "#f0f921"
                          ]
                        ],
                        "type": "histogram2dcontour"
                      }
                    ],
                    "mesh3d": [
                      {
                        "colorbar": {
                          "outlinewidth": 0,
                          "ticks": ""
                        },
                        "type": "mesh3d"
                      }
                    ],
                    "parcoords": [
                      {
                        "line": {
                          "colorbar": {
                            "outlinewidth": 0,
                            "ticks": ""
                          }
                        },
                        "type": "parcoords"
                      }
                    ],
                    "pie": [
                      {
                        "automargin": true,
                        "type": "pie"
                      }
                    ],
                    "scatter": [
                      {
                        "fillpattern": {
                          "fillmode": "overlay",
                          "size": 10,
                          "solidity": 0.2
                        },
                        "type": "scatter"
                      }
                    ],
                    "scatter3d": [
                      {
                        "line": {
                          "colorbar": {
                            "outlinewidth": 0,
                            "ticks": ""
                          }
                        },
                        "marker": {
                          "colorbar": {
                            "outlinewidth": 0,
                            "ticks": ""
                          }
                        },
                        "type": "scatter3d"
                      }
                    ],
                    "scattercarpet": [
                      {
                        "marker": {
                          "colorbar": {
                            "outlinewidth": 0,
                            "ticks": ""
                          }
                        },
                        "type": "scattercarpet"
                      }
                    ],
                    "scattergeo": [
                      {
                        "marker": {
                          "colorbar": {
                            "outlinewidth": 0,
                            "ticks": ""
                          }
                        },
                        "type": "scattergeo"
                      }
                    ],
                    "scattergl": [
                      {
                        "marker": {
                          "colorbar": {
                            "outlinewidth": 0,
                            "ticks": ""
                          }
                        },
                        "type": "scattergl"
                      }
                    ],
                    "scattermapbox": [
                      {
                        "marker": {
                          "colorbar": {
                            "outlinewidth": 0,
                            "ticks": ""
                          }
                        },
                        "type": "scattermapbox"
                      }
                    ],
                    "scatterpolar": [
                      {
                        "marker": {
                          "colorbar": {
                            "outlinewidth": 0,
                            "ticks": ""
                          }
                        },
                        "type": "scatterpolar"
                      }
                    ],
                    "scatterpolargl": [
                      {
                        "marker": {
                          "colorbar": {
                            "outlinewidth": 0,
                            "ticks": ""
                          }
                        },
                        "type": "scatterpolargl"
                      }
                    ],
                    "scatterternary": [
                      {
                        "marker": {
                          "colorbar": {
                            "outlinewidth": 0,
                            "ticks": ""
                          }
                        },
                        "type": "scatterternary"
                      }
                    ],
                    "surface": [
                      {
                        "colorbar": {
                          "outlinewidth": 0,
                          "ticks": ""
                        },
                        "colorscale": [
                          [
                            0,
                            "#0d0887"
                          ],
                          [
                            0.1111111111111111,
                            "#46039f"
                          ],
                          [
                            0.2222222222222222,
                            "#7201a8"
                          ],
                          [
                            0.3333333333333333,
                            "#9c179e"
                          ],
                          [
                            0.4444444444444444,
                            "#bd3786"
                          ],
                          [
                            0.5555555555555556,
                            "#d8576b"
                          ],
                          [
                            0.6666666666666666,
                            "#ed7953"
                          ],
                          [
                            0.7777777777777778,
                            "#fb9f3a"
                          ],
                          [
                            0.8888888888888888,
                            "#fdca26"
                          ],
                          [
                            1,
                            "#f0f921"
                          ]
                        ],
                        "type": "surface"
                      }
                    ],
                    "table": [
                      {
                        "cells": {
                          "fill": {
                            "color": "#EBF0F8"
                          },
                          "line": {
                            "color": "white"
                          }
                        },
                        "header": {
                          "fill": {
                            "color": "#C8D4E3"
                          },
                          "line": {
                            "color": "white"
                          }
                        },
                        "type": "table"
                      }
                    ]
                  },
                  "layout": {
                    "annotationdefaults": {
                      "arrowcolor": "#2a3f5f",
                      "arrowhead": 0,
                      "arrowwidth": 1
                    },
                    "autotypenumbers": "strict",
                    "coloraxis": {
                      "colorbar": {
                        "outlinewidth": 0,
                        "ticks": ""
                      }
                    },
                    "colorscale": {
                      "diverging": [
                        [
                          0,
                          "#8e0152"
                        ],
                        [
                          0.1,
                          "#c51b7d"
                        ],
                        [
                          0.2,
                          "#de77ae"
                        ],
                        [
                          0.3,
                          "#f1b6da"
                        ],
                        [
                          0.4,
                          "#fde0ef"
                        ],
                        [
                          0.5,
                          "#f7f7f7"
                        ],
                        [
                          0.6,
                          "#e6f5d0"
                        ],
                        [
                          0.7,
                          "#b8e186"
                        ],
                        [
                          0.8,
                          "#7fbc41"
                        ],
                        [
                          0.9,
                          "#4d9221"
                        ],
                        [
                          1,
                          "#276419"
                        ]
                      ],
                      "sequential": [
                        [
                          0,
                          "#0d0887"
                        ],
                        [
                          0.1111111111111111,
                          "#46039f"
                        ],
                        [
                          0.2222222222222222,
                          "#7201a8"
                        ],
                        [
                          0.3333333333333333,
                          "#9c179e"
                        ],
                        [
                          0.4444444444444444,
                          "#bd3786"
                        ],
                        [
                          0.5555555555555556,
                          "#d8576b"
                        ],
                        [
                          0.6666666666666666,
                          "#ed7953"
                        ],
                        [
                          0.7777777777777778,
                          "#fb9f3a"
                        ],
                        [
                          0.8888888888888888,
                          "#fdca26"
                        ],
                        [
                          1,
                          "#f0f921"
                        ]
                      ],
                      "sequentialminus": [
                        [
                          0,
                          "#0d0887"
                        ],
                        [
                          0.1111111111111111,
                          "#46039f"
                        ],
                        [
                          0.2222222222222222,
                          "#7201a8"
                        ],
                        [
                          0.3333333333333333,
                          "#9c179e"
                        ],
                        [
                          0.4444444444444444,
                          "#bd3786"
                        ],
                        [
                          0.5555555555555556,
                          "#d8576b"
                        ],
                        [
                          0.6666666666666666,
                          "#ed7953"
                        ],
                        [
                          0.7777777777777778,
                          "#fb9f3a"
                        ],
                        [
                          0.8888888888888888,
                          "#fdca26"
                        ],
                        [
                          1,
                          "#f0f921"
                        ]
                      ]
                    },
                    "colorway": [
                      "#636efa",
                      "#EF553B",
                      "#00cc96",
                      "#ab63fa",
                      "#FFA15A",
                      "#19d3f3",
                      "#FF6692",
                      "#B6E880",
                      "#FF97FF",
                      "#FECB52"
                    ],
                    "font": {
                      "color": "#2a3f5f"
                    },
                    "geo": {
                      "bgcolor": "white",
                      "lakecolor": "white",
                      "landcolor": "#E5ECF6",
                      "showlakes": true,
                      "showland": true,
                      "subunitcolor": "white"
                    },
                    "hoverlabel": {
                      "align": "left"
                    },
                    "hovermode": "closest",
                    "mapbox": {
                      "style": "light"
                    },
                    "paper_bgcolor": "white",
                    "plot_bgcolor": "#E5ECF6",
                    "polar": {
                      "angularaxis": {
                        "gridcolor": "white",
                        "linecolor": "white",
                        "ticks": ""
                      },
                      "bgcolor": "#E5ECF6",
                      "radialaxis": {
                        "gridcolor": "white",
                        "linecolor": "white",
                        "ticks": ""
                      }
                    },
                    "scene": {
                      "xaxis": {
                        "backgroundcolor": "#E5ECF6",
                        "gridcolor": "white",
                        "gridwidth": 2,
                        "linecolor": "white",
                        "showbackground": true,
                        "ticks": "",
                        "zerolinecolor": "white"
                      },
                      "yaxis": {
                        "backgroundcolor": "#E5ECF6",
                        "gridcolor": "white",
                        "gridwidth": 2,
                        "linecolor": "white",
                        "showbackground": true,
                        "ticks": "",
                        "zerolinecolor": "white"
                      },
                      "zaxis": {
                        "backgroundcolor": "#E5ECF6",
                        "gridcolor": "white",
                        "gridwidth": 2,
                        "linecolor": "white",
                        "showbackground": true,
                        "ticks": "",
                        "zerolinecolor": "white"
                      }
                    },
                    "shapedefaults": {
                      "line": {
                        "color": "#2a3f5f"
                      }
                    },
                    "ternary": {
                      "aaxis": {
                        "gridcolor": "white",
                        "linecolor": "white",
                        "ticks": ""
                      },
                      "baxis": {
                        "gridcolor": "white",
                        "linecolor": "white",
                        "ticks": ""
                      },
                      "bgcolor": "#E5ECF6",
                      "caxis": {
                        "gridcolor": "white",
                        "linecolor": "white",
                        "ticks": ""
                      }
                    },
                    "title": {
                      "x": 0.05
                    },
                    "xaxis": {
                      "automargin": true,
                      "gridcolor": "white",
                      "linecolor": "white",
                      "ticks": "",
                      "title": {
                        "standoff": 15
                      },
                      "zerolinecolor": "white",
                      "zerolinewidth": 2
                    },
                    "yaxis": {
                      "automargin": true,
                      "gridcolor": "white",
                      "linecolor": "white",
                      "ticks": "",
                      "title": {
                        "standoff": 15
                      },
                      "zerolinecolor": "white",
                      "zerolinewidth": 2
                    }
                  }
                },
                "title": {
                  "text": "F40-F48 - Transtornos neuróticos, transtornos relacionados com o \"stress\" e transtornos somatoformes"
                },
                "xaxis": {
                  "title": {
                    "text": "Time"
                  }
                },
                "yaxis": {
                  "title": {
                    "text": "Value"
                  }
                }
              }
            }
          },
          "metadata": {},
          "output_type": "display_data"
        },
        {
          "data": {
            "application/vnd.plotly.v1+json": {
              "config": {
                "plotlyServerURL": "https://plot.ly"
              },
              "data": [
                {
                  "marker": {
                    "color": "black"
                  },
                  "mode": "markers",
                  "name": "Real",
                  "type": "scatter",
                  "x": [
                    "2016-01-01T00:00:00.000000000",
                    "2016-02-01T00:00:00.000000000",
                    "2016-03-01T00:00:00.000000000",
                    "2016-04-01T00:00:00.000000000",
                    "2016-05-01T00:00:00.000000000",
                    "2016-06-01T00:00:00.000000000",
                    "2016-07-01T00:00:00.000000000",
                    "2016-08-01T00:00:00.000000000",
                    "2016-09-01T00:00:00.000000000",
                    "2016-10-01T00:00:00.000000000",
                    "2016-11-01T00:00:00.000000000",
                    "2016-12-01T00:00:00.000000000",
                    "2017-01-01T00:00:00.000000000",
                    "2017-02-01T00:00:00.000000000",
                    "2017-03-01T00:00:00.000000000",
                    "2017-04-01T00:00:00.000000000",
                    "2017-05-01T00:00:00.000000000",
                    "2017-06-01T00:00:00.000000000",
                    "2017-07-01T00:00:00.000000000",
                    "2017-08-01T00:00:00.000000000",
                    "2017-09-01T00:00:00.000000000",
                    "2017-10-01T00:00:00.000000000",
                    "2017-11-01T00:00:00.000000000",
                    "2017-12-01T00:00:00.000000000",
                    "2018-01-01T00:00:00.000000000",
                    "2018-02-01T00:00:00.000000000",
                    "2018-03-01T00:00:00.000000000",
                    "2018-04-01T00:00:00.000000000",
                    "2018-05-01T00:00:00.000000000",
                    "2018-06-01T00:00:00.000000000",
                    "2018-07-01T00:00:00.000000000",
                    "2018-08-01T00:00:00.000000000",
                    "2018-09-01T00:00:00.000000000",
                    "2018-10-01T00:00:00.000000000",
                    "2018-11-01T00:00:00.000000000",
                    "2018-12-01T00:00:00.000000000",
                    "2019-01-01T00:00:00.000000000",
                    "2019-02-01T00:00:00.000000000",
                    "2019-03-01T00:00:00.000000000",
                    "2019-04-01T00:00:00.000000000",
                    "2019-05-01T00:00:00.000000000",
                    "2019-06-01T00:00:00.000000000",
                    "2019-07-01T00:00:00.000000000",
                    "2019-08-01T00:00:00.000000000",
                    "2019-09-01T00:00:00.000000000",
                    "2019-10-01T00:00:00.000000000",
                    "2019-11-01T00:00:00.000000000",
                    "2019-12-01T00:00:00.000000000",
                    "2020-01-01T00:00:00.000000000",
                    "2020-02-01T00:00:00.000000000",
                    "2020-03-01T00:00:00.000000000",
                    "2020-04-01T00:00:00.000000000",
                    "2020-05-01T00:00:00.000000000",
                    "2020-06-01T00:00:00.000000000",
                    "2020-07-01T00:00:00.000000000",
                    "2020-08-01T00:00:00.000000000",
                    "2020-09-01T00:00:00.000000000",
                    "2020-10-01T00:00:00.000000000",
                    "2020-11-01T00:00:00.000000000",
                    "2020-12-01T00:00:00.000000000",
                    "2021-01-01T00:00:00.000000000",
                    "2021-02-01T00:00:00.000000000",
                    "2021-03-01T00:00:00.000000000",
                    "2021-04-01T00:00:00.000000000",
                    "2021-05-01T00:00:00.000000000",
                    "2021-06-01T00:00:00.000000000",
                    "2021-07-01T00:00:00.000000000",
                    "2021-08-01T00:00:00.000000000",
                    "2021-09-01T00:00:00.000000000",
                    "2021-10-01T00:00:00.000000000",
                    "2021-11-01T00:00:00.000000000",
                    "2021-12-01T00:00:00.000000000",
                    "2022-01-01T00:00:00.000000000",
                    "2022-02-01T00:00:00.000000000",
                    "2022-03-01T00:00:00.000000000",
                    "2022-04-01T00:00:00.000000000",
                    "2022-05-01T00:00:00.000000000",
                    "2022-06-01T00:00:00.000000000",
                    "2022-07-01T00:00:00.000000000",
                    "2022-08-01T00:00:00.000000000",
                    "2022-09-01T00:00:00.000000000",
                    "2022-10-01T00:00:00.000000000",
                    "2022-11-01T00:00:00.000000000",
                    "2022-12-01T00:00:00.000000000",
                    "2023-01-01T00:00:00.000000000",
                    "2023-02-01T00:00:00.000000000",
                    "2023-03-01T00:00:00.000000000",
                    "2023-04-01T00:00:00.000000000",
                    "2023-05-01T00:00:00.000000000",
                    "2023-06-01T00:00:00.000000000",
                    "2023-07-01T00:00:00.000000000",
                    "2023-08-01T00:00:00.000000000",
                    "2023-09-01T00:00:00.000000000",
                    "2023-10-01T00:00:00.000000000",
                    "2023-11-01T00:00:00.000000000",
                    "2023-12-01T00:00:00.000000000",
                    "2024-01-01T00:00:00.000000000",
                    "2024-02-01T00:00:00.000000000",
                    "2024-03-01T00:00:00.000000000",
                    "2024-04-01T00:00:00.000000000",
                    "2024-05-01T00:00:00.000000000",
                    "2024-06-01T00:00:00.000000000",
                    "2024-07-01T00:00:00.000000000",
                    "2024-08-01T00:00:00.000000000",
                    "2024-09-01T00:00:00.000000000",
                    "2024-10-01T00:00:00.000000000",
                    "2024-11-01T00:00:00.000000000",
                    "2024-12-01T00:00:00.000000000"
                  ],
                  "y": [
                    4.813665426201558,
                    4.391294093684702,
                    4.06827110282361,
                    4.2263840395941425,
                    4.1974373540364835,
                    4.492542682209906,
                    4.621095890458633,
                    4.503986497653303,
                    4.682905814789193,
                    4.784123379239987,
                    4.948861488170762,
                    5.533585756630761,
                    4.893967022986424,
                    4.659036998716615,
                    4.559741327467184,
                    4.648601201027329,
                    4.385494787153706,
                    4.5172314272671805,
                    4.577112216468785,
                    4.6310682941492995,
                    4.9312823829321975,
                    5.252684083399314,
                    5.243964790182891,
                    5.641923322387934,
                    5.2214659238104755,
                    5.509686222348743,
                    5.124632630276374,
                    5.071331238532127,
                    5.003059686038112,
                    5.422249619993733,
                    5.320223125489042,
                    5.240269163335246,
                    5.453865974076819,
                    5.609880014995019,
                    5.689753232334863,
                    5.80226148358621,
                    5.142131318556084,
                    5.222860231769756,
                    5.674051663841592,
                    5.333629722327422,
                    5.395606095459764,
                    5.513261052611881,
                    5.69671563358638,
                    6.21538911725733,
                    6.20532700246111,
                    6.305403302265212,
                    6.252199568028866,
                    6.705895148088459,
                    6.288124769065777,
                    6.29865818774718,
                    6.569764421836725,
                    8.710743371035448,
                    7.83054121344265,
                    7.24779917833359,
                    6.675636482855502,
                    6.638101980923904,
                    6.926235438954651,
                    6.791214331880604,
                    6.603345169723688,
                    6.76274503944077,
                    6.341787154497213,
                    6.293664240093664,
                    5.970571373053844,
                    6.240374873818844,
                    5.51658308516475,
                    5.7368138502096135,
                    6.067271623088938,
                    6.316270923670235,
                    6.594755412430771,
                    6.4361879915972136,
                    6.213220391104402,
                    6.191739964075134,
                    4.589299744321914,
                    5.625732454016816,
                    5.9514104183595125,
                    5.788228250643066,
                    5.433431898975323,
                    5.263501221507603,
                    5.333330851877562,
                    5.545074979188152,
                    6.1021526964286155,
                    5.8598307522361495,
                    5.747202418120275,
                    5.805154642320403,
                    6.109337092299604,
                    6.0923122585281435,
                    5.638821595497991,
                    5.448169908267147,
                    5.563375386085564,
                    5.782569648628114,
                    5.82319472486235,
                    5.830722299302601,
                    6.100928043918927,
                    6.029523425068355,
                    5.970993494622478,
                    6.082667518791948,
                    6.026611931597586,
                    5.668379894698301,
                    5.152741748008833,
                    5.097977881918388,
                    5.33171537900972,
                    5.556136287607492,
                    5.578156822987787,
                    5.631015774338779,
                    5.551012153912392,
                    5.71441233674842,
                    5.620848640797878,
                    5.7772200754480725
                  ]
                },
                {
                  "line": {
                    "color": "black",
                    "dash": "dot"
                  },
                  "mode": "lines",
                  "name": "Baseline",
                  "type": "scatter",
                  "x": [
                    "2016-01-01T00:00:00.000000000",
                    "2016-02-01T00:00:00.000000000",
                    "2016-03-01T00:00:00.000000000",
                    "2016-04-01T00:00:00.000000000",
                    "2016-05-01T00:00:00.000000000",
                    "2016-06-01T00:00:00.000000000",
                    "2016-07-01T00:00:00.000000000",
                    "2016-08-01T00:00:00.000000000",
                    "2016-09-01T00:00:00.000000000",
                    "2016-10-01T00:00:00.000000000",
                    "2016-11-01T00:00:00.000000000",
                    "2016-12-01T00:00:00.000000000",
                    "2017-01-01T00:00:00.000000000",
                    "2017-02-01T00:00:00.000000000",
                    "2017-03-01T00:00:00.000000000",
                    "2017-04-01T00:00:00.000000000",
                    "2017-05-01T00:00:00.000000000",
                    "2017-06-01T00:00:00.000000000",
                    "2017-07-01T00:00:00.000000000",
                    "2017-08-01T00:00:00.000000000",
                    "2017-09-01T00:00:00.000000000",
                    "2017-10-01T00:00:00.000000000",
                    "2017-11-01T00:00:00.000000000",
                    "2017-12-01T00:00:00.000000000",
                    "2018-01-01T00:00:00.000000000",
                    "2018-02-01T00:00:00.000000000",
                    "2018-03-01T00:00:00.000000000",
                    "2018-04-01T00:00:00.000000000",
                    "2018-05-01T00:00:00.000000000",
                    "2018-06-01T00:00:00.000000000",
                    "2018-07-01T00:00:00.000000000",
                    "2018-08-01T00:00:00.000000000",
                    "2018-09-01T00:00:00.000000000",
                    "2018-10-01T00:00:00.000000000",
                    "2018-11-01T00:00:00.000000000",
                    "2018-12-01T00:00:00.000000000",
                    "2019-01-01T00:00:00.000000000",
                    "2019-02-01T00:00:00.000000000",
                    "2019-03-01T00:00:00.000000000",
                    "2019-04-01T00:00:00.000000000",
                    "2019-05-01T00:00:00.000000000",
                    "2019-06-01T00:00:00.000000000",
                    "2019-07-01T00:00:00.000000000",
                    "2019-08-01T00:00:00.000000000",
                    "2019-09-01T00:00:00.000000000",
                    "2019-10-01T00:00:00.000000000",
                    "2019-11-01T00:00:00.000000000",
                    "2019-12-01T00:00:00.000000000",
                    "2020-01-01T00:00:00.000000000",
                    "2020-02-01T00:00:00.000000000",
                    "2020-03-01T00:00:00.000000000",
                    "2020-04-01T00:00:00.000000000",
                    "2020-05-01T00:00:00.000000000",
                    "2020-06-01T00:00:00.000000000",
                    "2020-07-01T00:00:00.000000000",
                    "2020-08-01T00:00:00.000000000",
                    "2020-09-01T00:00:00.000000000",
                    "2020-10-01T00:00:00.000000000",
                    "2020-11-01T00:00:00.000000000",
                    "2020-12-01T00:00:00.000000000",
                    "2021-01-01T00:00:00.000000000",
                    "2021-02-01T00:00:00.000000000",
                    "2021-03-01T00:00:00.000000000",
                    "2021-04-01T00:00:00.000000000",
                    "2021-05-01T00:00:00.000000000",
                    "2021-06-01T00:00:00.000000000",
                    "2021-07-01T00:00:00.000000000",
                    "2021-08-01T00:00:00.000000000",
                    "2021-09-01T00:00:00.000000000",
                    "2021-10-01T00:00:00.000000000",
                    "2021-11-01T00:00:00.000000000",
                    "2021-12-01T00:00:00.000000000",
                    "2022-01-01T00:00:00.000000000",
                    "2022-02-01T00:00:00.000000000",
                    "2022-03-01T00:00:00.000000000",
                    "2022-04-01T00:00:00.000000000",
                    "2022-05-01T00:00:00.000000000",
                    "2022-06-01T00:00:00.000000000",
                    "2022-07-01T00:00:00.000000000",
                    "2022-08-01T00:00:00.000000000",
                    "2022-09-01T00:00:00.000000000",
                    "2022-10-01T00:00:00.000000000",
                    "2022-11-01T00:00:00.000000000",
                    "2022-12-01T00:00:00.000000000",
                    "2023-01-01T00:00:00.000000000",
                    "2023-02-01T00:00:00.000000000",
                    "2023-03-01T00:00:00.000000000",
                    "2023-04-01T00:00:00.000000000",
                    "2023-05-01T00:00:00.000000000",
                    "2023-06-01T00:00:00.000000000",
                    "2023-07-01T00:00:00.000000000",
                    "2023-08-01T00:00:00.000000000",
                    "2023-09-01T00:00:00.000000000",
                    "2023-10-01T00:00:00.000000000",
                    "2023-11-01T00:00:00.000000000",
                    "2023-12-01T00:00:00.000000000",
                    "2024-01-01T00:00:00.000000000",
                    "2024-02-01T00:00:00.000000000",
                    "2024-03-01T00:00:00.000000000",
                    "2024-04-01T00:00:00.000000000",
                    "2024-05-01T00:00:00.000000000",
                    "2024-06-01T00:00:00.000000000",
                    "2024-07-01T00:00:00.000000000",
                    "2024-08-01T00:00:00.000000000",
                    "2024-09-01T00:00:00.000000000",
                    "2024-10-01T00:00:00.000000000",
                    "2024-11-01T00:00:00.000000000",
                    "2024-12-01T00:00:00.000000000"
                  ],
                  "y": [
                    4.16138666162006,
                    4.200539913049586,
                    4.239693164479113,
                    4.278846415908639,
                    4.3179996673381655,
                    4.357152918767691,
                    4.396306170197218,
                    4.435459421626744,
                    4.474612673056271,
                    4.513765924485797,
                    4.552919175915323,
                    4.592072427344849,
                    4.631225678774376,
                    4.670378930203903,
                    4.709532181633429,
                    4.748685433062954,
                    4.787838684492481,
                    4.826991935922008,
                    4.866145187351534,
                    4.9052984387810605,
                    4.944451690210586,
                    4.983604941640113,
                    5.022758193069639,
                    5.061911444499166,
                    5.101064695928692,
                    5.140217947358218,
                    5.179371198787744,
                    5.218524450217271,
                    5.257677701646797,
                    5.296830953076324,
                    5.33598420450585,
                    5.375137455935376,
                    5.414290707364902,
                    5.453443958794429,
                    5.4925972102239555,
                    5.531750461653481,
                    5.570903713083008,
                    5.610056964512534,
                    5.649210215942061,
                    5.688363467371587,
                    5.727516718801113,
                    5.766669970230639,
                    5.805823221660166,
                    5.844976473089693,
                    5.884129724519219,
                    5.923282975948744,
                    5.962436227378271,
                    6.001589478807798,
                    6.040742730237324,
                    6.07989598166685,
                    6.119049233096376,
                    6.158202484525903,
                    6.197355735955429,
                    6.236508987384955,
                    6.275662238814482,
                    6.314815490244008,
                    6.353968741673535,
                    6.393121993103061,
                    6.432275244532587,
                    6.471428495962114,
                    6.51058174739164,
                    6.549734998821166,
                    6.588888250250692,
                    6.628041501680219,
                    6.6671947531097455,
                    6.706348004539271,
                    6.745501255968797,
                    6.784654507398324,
                    6.823807758827851,
                    6.862961010257377,
                    6.9021142616869025,
                    6.941267513116429,
                    6.980420764545956,
                    7.019574015975483,
                    7.0587272674050086,
                    7.097880518834534,
                    7.137033770264061,
                    7.176187021693588,
                    7.215340273123114,
                    7.25449352455264,
                    7.293646775982166,
                    7.332800027411693,
                    7.371953278841219,
                    7.411106530270745,
                    7.450259781700272,
                    7.489413033129798,
                    7.528566284559324,
                    7.567719535988851,
                    7.606872787418377,
                    7.6460260388479035,
                    7.68517929027743,
                    7.724332541706956,
                    7.763485793136482,
                    7.802639044566009,
                    7.8417922959955355,
                    7.880945547425061,
                    7.920098798854587,
                    7.959252050284114,
                    7.998405301713641,
                    8.037558553143167,
                    8.076711804572692,
                    8.11586505600222,
                    8.155018307431746,
                    8.194171558861271,
                    8.2333248102908,
                    8.272478061720324,
                    8.311631313149851,
                    8.350784564579378
                  ]
                },
                {
                  "line": {
                    "color": "purple"
                  },
                  "mode": "lines",
                  "name": "Full model",
                  "type": "scatter",
                  "x": [
                    "2016-01-01T00:00:00.000000000",
                    "2016-02-01T00:00:00.000000000",
                    "2016-03-01T00:00:00.000000000",
                    "2016-04-01T00:00:00.000000000",
                    "2016-05-01T00:00:00.000000000",
                    "2016-06-01T00:00:00.000000000",
                    "2016-07-01T00:00:00.000000000",
                    "2016-08-01T00:00:00.000000000",
                    "2016-09-01T00:00:00.000000000",
                    "2016-10-01T00:00:00.000000000",
                    "2016-11-01T00:00:00.000000000",
                    "2016-12-01T00:00:00.000000000",
                    "2017-01-01T00:00:00.000000000",
                    "2017-02-01T00:00:00.000000000",
                    "2017-03-01T00:00:00.000000000",
                    "2017-04-01T00:00:00.000000000",
                    "2017-05-01T00:00:00.000000000",
                    "2017-06-01T00:00:00.000000000",
                    "2017-07-01T00:00:00.000000000",
                    "2017-08-01T00:00:00.000000000",
                    "2017-09-01T00:00:00.000000000",
                    "2017-10-01T00:00:00.000000000",
                    "2017-11-01T00:00:00.000000000",
                    "2017-12-01T00:00:00.000000000",
                    "2018-01-01T00:00:00.000000000",
                    "2018-02-01T00:00:00.000000000",
                    "2018-03-01T00:00:00.000000000",
                    "2018-04-01T00:00:00.000000000",
                    "2018-05-01T00:00:00.000000000",
                    "2018-06-01T00:00:00.000000000",
                    "2018-07-01T00:00:00.000000000",
                    "2018-08-01T00:00:00.000000000",
                    "2018-09-01T00:00:00.000000000",
                    "2018-10-01T00:00:00.000000000",
                    "2018-11-01T00:00:00.000000000",
                    "2018-12-01T00:00:00.000000000",
                    "2019-01-01T00:00:00.000000000",
                    "2019-02-01T00:00:00.000000000",
                    "2019-03-01T00:00:00.000000000",
                    "2019-04-01T00:00:00.000000000",
                    "2019-05-01T00:00:00.000000000",
                    "2019-06-01T00:00:00.000000000",
                    "2019-07-01T00:00:00.000000000",
                    "2019-08-01T00:00:00.000000000",
                    "2019-09-01T00:00:00.000000000",
                    "2019-10-01T00:00:00.000000000",
                    "2019-11-01T00:00:00.000000000",
                    "2019-12-01T00:00:00.000000000",
                    "2020-01-01T00:00:00.000000000",
                    "2020-02-01T00:00:00.000000000",
                    "2020-03-01T00:00:00.000000000",
                    "2020-04-01T00:00:00.000000000",
                    "2020-05-01T00:00:00.000000000",
                    "2020-06-01T00:00:00.000000000",
                    "2020-07-01T00:00:00.000000000",
                    "2020-08-01T00:00:00.000000000",
                    "2020-09-01T00:00:00.000000000",
                    "2020-10-01T00:00:00.000000000",
                    "2020-11-01T00:00:00.000000000",
                    "2020-12-01T00:00:00.000000000",
                    "2021-01-01T00:00:00.000000000",
                    "2021-02-01T00:00:00.000000000",
                    "2021-03-01T00:00:00.000000000",
                    "2021-04-01T00:00:00.000000000",
                    "2021-05-01T00:00:00.000000000",
                    "2021-06-01T00:00:00.000000000",
                    "2021-07-01T00:00:00.000000000",
                    "2021-08-01T00:00:00.000000000",
                    "2021-09-01T00:00:00.000000000",
                    "2021-10-01T00:00:00.000000000",
                    "2021-11-01T00:00:00.000000000",
                    "2021-12-01T00:00:00.000000000",
                    "2022-01-01T00:00:00.000000000",
                    "2022-02-01T00:00:00.000000000",
                    "2022-03-01T00:00:00.000000000",
                    "2022-04-01T00:00:00.000000000",
                    "2022-05-01T00:00:00.000000000",
                    "2022-06-01T00:00:00.000000000",
                    "2022-07-01T00:00:00.000000000",
                    "2022-08-01T00:00:00.000000000",
                    "2022-09-01T00:00:00.000000000",
                    "2022-10-01T00:00:00.000000000",
                    "2022-11-01T00:00:00.000000000",
                    "2022-12-01T00:00:00.000000000",
                    "2023-01-01T00:00:00.000000000",
                    "2023-02-01T00:00:00.000000000",
                    "2023-03-01T00:00:00.000000000",
                    "2023-04-01T00:00:00.000000000",
                    "2023-05-01T00:00:00.000000000",
                    "2023-06-01T00:00:00.000000000",
                    "2023-07-01T00:00:00.000000000",
                    "2023-08-01T00:00:00.000000000",
                    "2023-09-01T00:00:00.000000000",
                    "2023-10-01T00:00:00.000000000",
                    "2023-11-01T00:00:00.000000000",
                    "2023-12-01T00:00:00.000000000",
                    "2024-01-01T00:00:00.000000000",
                    "2024-02-01T00:00:00.000000000",
                    "2024-03-01T00:00:00.000000000",
                    "2024-04-01T00:00:00.000000000",
                    "2024-05-01T00:00:00.000000000",
                    "2024-06-01T00:00:00.000000000",
                    "2024-07-01T00:00:00.000000000",
                    "2024-08-01T00:00:00.000000000",
                    "2024-09-01T00:00:00.000000000",
                    "2024-10-01T00:00:00.000000000",
                    "2024-11-01T00:00:00.000000000",
                    "2024-12-01T00:00:00.000000000"
                  ],
                  "y": [
                    4.16138666162006,
                    4.200539913049586,
                    4.239693164479113,
                    4.278846415908639,
                    4.3179996673381655,
                    4.357152918767691,
                    4.396306170197218,
                    4.435459421626744,
                    4.474612673056271,
                    4.513765924485797,
                    4.552919175915323,
                    4.592072427344849,
                    4.631225678774376,
                    4.670378930203903,
                    4.709532181633429,
                    4.748685433062954,
                    4.787838684492481,
                    4.826991935922008,
                    4.866145187351534,
                    4.9052984387810605,
                    4.944451690210586,
                    4.983604941640113,
                    5.022758193069639,
                    5.061911444499166,
                    5.101064695928692,
                    5.140217947358218,
                    5.179371198787744,
                    5.218524450217271,
                    5.257677701646797,
                    5.296830953076324,
                    5.33598420450585,
                    5.375137455935376,
                    5.414290707364902,
                    5.453443958794429,
                    5.4925972102239555,
                    5.531750461653481,
                    5.570903713083008,
                    5.610056964512534,
                    5.649210215942061,
                    5.688363467371587,
                    5.727516718801113,
                    5.766669970230639,
                    5.805823221660166,
                    5.844976473089693,
                    5.884129724519219,
                    5.923282975948744,
                    5.962436227378271,
                    6.001589478807798,
                    6.040742730237324,
                    6.07989598166685,
                    7.612377644776965,
                    7.473938644681099,
                    7.335499644585234,
                    7.197060644489367,
                    7.058621644393502,
                    6.920182644297636,
                    6.78174364420177,
                    6.643304644105904,
                    6.504865644010037,
                    6.366426643914172,
                    6.227987643818307,
                    6.089548643722441,
                    6.163222925522669,
                    6.122397402676917,
                    6.081571879831165,
                    6.040746356985412,
                    5.99992083413966,
                    5.959095311293908,
                    5.918269788448155,
                    5.877444265602403,
                    5.8366187427566505,
                    5.795793219910898,
                    5.754967697065146,
                    5.714142174219394,
                    5.673316651373641,
                    5.713519229749777,
                    5.70723927106075,
                    5.700959312371722,
                    5.6946793536826945,
                    5.688399394993666,
                    5.682119436304639,
                    5.675839477615611,
                    5.669559518926583,
                    5.663279560237554,
                    5.656999601548527,
                    5.6507196428594995,
                    5.644439684170472,
                    5.638159725481444,
                    5.631879766792416,
                    5.625599808103388,
                    5.61931984941436,
                    5.613039890725332,
                    5.606759932036304,
                    5.6004799733472765,
                    5.594200014658249,
                    5.587920055969221,
                    5.581640097280192,
                    5.575360138591165,
                    5.569080179902137,
                    5.56280022121311,
                    5.556520262524081,
                    5.550240303835054,
                    5.543960345146026,
                    5.537680386456996,
                    5.531400427767971,
                    5.525120469078942,
                    5.518840510389914,
                    5.512560551700886
                  ]
                }
              ],
              "layout": {
                "annotations": [
                  {
                    "arrowhead": 2,
                    "ax": 30,
                    "ay": -40,
                    "showarrow": true,
                    "text": "Pandemia",
                    "x": "2020-03-01",
                    "y": 8.710743371035448
                  },
                  {
                    "arrowhead": 2,
                    "ax": 30,
                    "ay": -40,
                    "showarrow": true,
                    "text": "Pos Pandemia",
                    "x": "2022-04-01",
                    "y": 8.710743371035448
                  }
                ],
                "legend": {
                  "title": {
                    "text": "Legend"
                  }
                },
                "shapes": [
                  {
                    "fillcolor": "rgba(0, 0, 0, 0.25)",
                    "layer": "below",
                    "line": {
                      "width": 0
                    },
                    "opacity": 0.3,
                    "type": "rect",
                    "x0": "2020-03-01",
                    "x1": "2020-07-01",
                    "xref": "x",
                    "y0": 0,
                    "y1": 1,
                    "yref": "paper"
                  },
                  {
                    "fillcolor": "rgba(0, 0, 0, 0.25)",
                    "layer": "below",
                    "line": {
                      "width": 0
                    },
                    "opacity": 0.3,
                    "type": "rect",
                    "x0": "2021-04-01",
                    "x1": "2021-05-01",
                    "xref": "x",
                    "y0": 0,
                    "y1": 1,
                    "yref": "paper"
                  },
                  {
                    "line": {
                      "color": "black",
                      "dash": "dash"
                    },
                    "type": "line",
                    "x0": "2020-03-01",
                    "x1": "2020-03-01",
                    "y0": 4.06827110282361,
                    "y1": 8.710743371035448
                  },
                  {
                    "line": {
                      "color": "black",
                      "dash": "dash"
                    },
                    "type": "line",
                    "x0": "2022-04-01",
                    "x1": "2022-04-01",
                    "y0": 4.06827110282361,
                    "y1": 8.710743371035448
                  }
                ],
                "template": {
                  "data": {
                    "bar": [
                      {
                        "error_x": {
                          "color": "#2a3f5f"
                        },
                        "error_y": {
                          "color": "#2a3f5f"
                        },
                        "marker": {
                          "line": {
                            "color": "#E5ECF6",
                            "width": 0.5
                          },
                          "pattern": {
                            "fillmode": "overlay",
                            "size": 10,
                            "solidity": 0.2
                          }
                        },
                        "type": "bar"
                      }
                    ],
                    "barpolar": [
                      {
                        "marker": {
                          "line": {
                            "color": "#E5ECF6",
                            "width": 0.5
                          },
                          "pattern": {
                            "fillmode": "overlay",
                            "size": 10,
                            "solidity": 0.2
                          }
                        },
                        "type": "barpolar"
                      }
                    ],
                    "carpet": [
                      {
                        "aaxis": {
                          "endlinecolor": "#2a3f5f",
                          "gridcolor": "white",
                          "linecolor": "white",
                          "minorgridcolor": "white",
                          "startlinecolor": "#2a3f5f"
                        },
                        "baxis": {
                          "endlinecolor": "#2a3f5f",
                          "gridcolor": "white",
                          "linecolor": "white",
                          "minorgridcolor": "white",
                          "startlinecolor": "#2a3f5f"
                        },
                        "type": "carpet"
                      }
                    ],
                    "choropleth": [
                      {
                        "colorbar": {
                          "outlinewidth": 0,
                          "ticks": ""
                        },
                        "type": "choropleth"
                      }
                    ],
                    "contour": [
                      {
                        "colorbar": {
                          "outlinewidth": 0,
                          "ticks": ""
                        },
                        "colorscale": [
                          [
                            0,
                            "#0d0887"
                          ],
                          [
                            0.1111111111111111,
                            "#46039f"
                          ],
                          [
                            0.2222222222222222,
                            "#7201a8"
                          ],
                          [
                            0.3333333333333333,
                            "#9c179e"
                          ],
                          [
                            0.4444444444444444,
                            "#bd3786"
                          ],
                          [
                            0.5555555555555556,
                            "#d8576b"
                          ],
                          [
                            0.6666666666666666,
                            "#ed7953"
                          ],
                          [
                            0.7777777777777778,
                            "#fb9f3a"
                          ],
                          [
                            0.8888888888888888,
                            "#fdca26"
                          ],
                          [
                            1,
                            "#f0f921"
                          ]
                        ],
                        "type": "contour"
                      }
                    ],
                    "contourcarpet": [
                      {
                        "colorbar": {
                          "outlinewidth": 0,
                          "ticks": ""
                        },
                        "type": "contourcarpet"
                      }
                    ],
                    "heatmap": [
                      {
                        "colorbar": {
                          "outlinewidth": 0,
                          "ticks": ""
                        },
                        "colorscale": [
                          [
                            0,
                            "#0d0887"
                          ],
                          [
                            0.1111111111111111,
                            "#46039f"
                          ],
                          [
                            0.2222222222222222,
                            "#7201a8"
                          ],
                          [
                            0.3333333333333333,
                            "#9c179e"
                          ],
                          [
                            0.4444444444444444,
                            "#bd3786"
                          ],
                          [
                            0.5555555555555556,
                            "#d8576b"
                          ],
                          [
                            0.6666666666666666,
                            "#ed7953"
                          ],
                          [
                            0.7777777777777778,
                            "#fb9f3a"
                          ],
                          [
                            0.8888888888888888,
                            "#fdca26"
                          ],
                          [
                            1,
                            "#f0f921"
                          ]
                        ],
                        "type": "heatmap"
                      }
                    ],
                    "heatmapgl": [
                      {
                        "colorbar": {
                          "outlinewidth": 0,
                          "ticks": ""
                        },
                        "colorscale": [
                          [
                            0,
                            "#0d0887"
                          ],
                          [
                            0.1111111111111111,
                            "#46039f"
                          ],
                          [
                            0.2222222222222222,
                            "#7201a8"
                          ],
                          [
                            0.3333333333333333,
                            "#9c179e"
                          ],
                          [
                            0.4444444444444444,
                            "#bd3786"
                          ],
                          [
                            0.5555555555555556,
                            "#d8576b"
                          ],
                          [
                            0.6666666666666666,
                            "#ed7953"
                          ],
                          [
                            0.7777777777777778,
                            "#fb9f3a"
                          ],
                          [
                            0.8888888888888888,
                            "#fdca26"
                          ],
                          [
                            1,
                            "#f0f921"
                          ]
                        ],
                        "type": "heatmapgl"
                      }
                    ],
                    "histogram": [
                      {
                        "marker": {
                          "pattern": {
                            "fillmode": "overlay",
                            "size": 10,
                            "solidity": 0.2
                          }
                        },
                        "type": "histogram"
                      }
                    ],
                    "histogram2d": [
                      {
                        "colorbar": {
                          "outlinewidth": 0,
                          "ticks": ""
                        },
                        "colorscale": [
                          [
                            0,
                            "#0d0887"
                          ],
                          [
                            0.1111111111111111,
                            "#46039f"
                          ],
                          [
                            0.2222222222222222,
                            "#7201a8"
                          ],
                          [
                            0.3333333333333333,
                            "#9c179e"
                          ],
                          [
                            0.4444444444444444,
                            "#bd3786"
                          ],
                          [
                            0.5555555555555556,
                            "#d8576b"
                          ],
                          [
                            0.6666666666666666,
                            "#ed7953"
                          ],
                          [
                            0.7777777777777778,
                            "#fb9f3a"
                          ],
                          [
                            0.8888888888888888,
                            "#fdca26"
                          ],
                          [
                            1,
                            "#f0f921"
                          ]
                        ],
                        "type": "histogram2d"
                      }
                    ],
                    "histogram2dcontour": [
                      {
                        "colorbar": {
                          "outlinewidth": 0,
                          "ticks": ""
                        },
                        "colorscale": [
                          [
                            0,
                            "#0d0887"
                          ],
                          [
                            0.1111111111111111,
                            "#46039f"
                          ],
                          [
                            0.2222222222222222,
                            "#7201a8"
                          ],
                          [
                            0.3333333333333333,
                            "#9c179e"
                          ],
                          [
                            0.4444444444444444,
                            "#bd3786"
                          ],
                          [
                            0.5555555555555556,
                            "#d8576b"
                          ],
                          [
                            0.6666666666666666,
                            "#ed7953"
                          ],
                          [
                            0.7777777777777778,
                            "#fb9f3a"
                          ],
                          [
                            0.8888888888888888,
                            "#fdca26"
                          ],
                          [
                            1,
                            "#f0f921"
                          ]
                        ],
                        "type": "histogram2dcontour"
                      }
                    ],
                    "mesh3d": [
                      {
                        "colorbar": {
                          "outlinewidth": 0,
                          "ticks": ""
                        },
                        "type": "mesh3d"
                      }
                    ],
                    "parcoords": [
                      {
                        "line": {
                          "colorbar": {
                            "outlinewidth": 0,
                            "ticks": ""
                          }
                        },
                        "type": "parcoords"
                      }
                    ],
                    "pie": [
                      {
                        "automargin": true,
                        "type": "pie"
                      }
                    ],
                    "scatter": [
                      {
                        "fillpattern": {
                          "fillmode": "overlay",
                          "size": 10,
                          "solidity": 0.2
                        },
                        "type": "scatter"
                      }
                    ],
                    "scatter3d": [
                      {
                        "line": {
                          "colorbar": {
                            "outlinewidth": 0,
                            "ticks": ""
                          }
                        },
                        "marker": {
                          "colorbar": {
                            "outlinewidth": 0,
                            "ticks": ""
                          }
                        },
                        "type": "scatter3d"
                      }
                    ],
                    "scattercarpet": [
                      {
                        "marker": {
                          "colorbar": {
                            "outlinewidth": 0,
                            "ticks": ""
                          }
                        },
                        "type": "scattercarpet"
                      }
                    ],
                    "scattergeo": [
                      {
                        "marker": {
                          "colorbar": {
                            "outlinewidth": 0,
                            "ticks": ""
                          }
                        },
                        "type": "scattergeo"
                      }
                    ],
                    "scattergl": [
                      {
                        "marker": {
                          "colorbar": {
                            "outlinewidth": 0,
                            "ticks": ""
                          }
                        },
                        "type": "scattergl"
                      }
                    ],
                    "scattermapbox": [
                      {
                        "marker": {
                          "colorbar": {
                            "outlinewidth": 0,
                            "ticks": ""
                          }
                        },
                        "type": "scattermapbox"
                      }
                    ],
                    "scatterpolar": [
                      {
                        "marker": {
                          "colorbar": {
                            "outlinewidth": 0,
                            "ticks": ""
                          }
                        },
                        "type": "scatterpolar"
                      }
                    ],
                    "scatterpolargl": [
                      {
                        "marker": {
                          "colorbar": {
                            "outlinewidth": 0,
                            "ticks": ""
                          }
                        },
                        "type": "scatterpolargl"
                      }
                    ],
                    "scatterternary": [
                      {
                        "marker": {
                          "colorbar": {
                            "outlinewidth": 0,
                            "ticks": ""
                          }
                        },
                        "type": "scatterternary"
                      }
                    ],
                    "surface": [
                      {
                        "colorbar": {
                          "outlinewidth": 0,
                          "ticks": ""
                        },
                        "colorscale": [
                          [
                            0,
                            "#0d0887"
                          ],
                          [
                            0.1111111111111111,
                            "#46039f"
                          ],
                          [
                            0.2222222222222222,
                            "#7201a8"
                          ],
                          [
                            0.3333333333333333,
                            "#9c179e"
                          ],
                          [
                            0.4444444444444444,
                            "#bd3786"
                          ],
                          [
                            0.5555555555555556,
                            "#d8576b"
                          ],
                          [
                            0.6666666666666666,
                            "#ed7953"
                          ],
                          [
                            0.7777777777777778,
                            "#fb9f3a"
                          ],
                          [
                            0.8888888888888888,
                            "#fdca26"
                          ],
                          [
                            1,
                            "#f0f921"
                          ]
                        ],
                        "type": "surface"
                      }
                    ],
                    "table": [
                      {
                        "cells": {
                          "fill": {
                            "color": "#EBF0F8"
                          },
                          "line": {
                            "color": "white"
                          }
                        },
                        "header": {
                          "fill": {
                            "color": "#C8D4E3"
                          },
                          "line": {
                            "color": "white"
                          }
                        },
                        "type": "table"
                      }
                    ]
                  },
                  "layout": {
                    "annotationdefaults": {
                      "arrowcolor": "#2a3f5f",
                      "arrowhead": 0,
                      "arrowwidth": 1
                    },
                    "autotypenumbers": "strict",
                    "coloraxis": {
                      "colorbar": {
                        "outlinewidth": 0,
                        "ticks": ""
                      }
                    },
                    "colorscale": {
                      "diverging": [
                        [
                          0,
                          "#8e0152"
                        ],
                        [
                          0.1,
                          "#c51b7d"
                        ],
                        [
                          0.2,
                          "#de77ae"
                        ],
                        [
                          0.3,
                          "#f1b6da"
                        ],
                        [
                          0.4,
                          "#fde0ef"
                        ],
                        [
                          0.5,
                          "#f7f7f7"
                        ],
                        [
                          0.6,
                          "#e6f5d0"
                        ],
                        [
                          0.7,
                          "#b8e186"
                        ],
                        [
                          0.8,
                          "#7fbc41"
                        ],
                        [
                          0.9,
                          "#4d9221"
                        ],
                        [
                          1,
                          "#276419"
                        ]
                      ],
                      "sequential": [
                        [
                          0,
                          "#0d0887"
                        ],
                        [
                          0.1111111111111111,
                          "#46039f"
                        ],
                        [
                          0.2222222222222222,
                          "#7201a8"
                        ],
                        [
                          0.3333333333333333,
                          "#9c179e"
                        ],
                        [
                          0.4444444444444444,
                          "#bd3786"
                        ],
                        [
                          0.5555555555555556,
                          "#d8576b"
                        ],
                        [
                          0.6666666666666666,
                          "#ed7953"
                        ],
                        [
                          0.7777777777777778,
                          "#fb9f3a"
                        ],
                        [
                          0.8888888888888888,
                          "#fdca26"
                        ],
                        [
                          1,
                          "#f0f921"
                        ]
                      ],
                      "sequentialminus": [
                        [
                          0,
                          "#0d0887"
                        ],
                        [
                          0.1111111111111111,
                          "#46039f"
                        ],
                        [
                          0.2222222222222222,
                          "#7201a8"
                        ],
                        [
                          0.3333333333333333,
                          "#9c179e"
                        ],
                        [
                          0.4444444444444444,
                          "#bd3786"
                        ],
                        [
                          0.5555555555555556,
                          "#d8576b"
                        ],
                        [
                          0.6666666666666666,
                          "#ed7953"
                        ],
                        [
                          0.7777777777777778,
                          "#fb9f3a"
                        ],
                        [
                          0.8888888888888888,
                          "#fdca26"
                        ],
                        [
                          1,
                          "#f0f921"
                        ]
                      ]
                    },
                    "colorway": [
                      "#636efa",
                      "#EF553B",
                      "#00cc96",
                      "#ab63fa",
                      "#FFA15A",
                      "#19d3f3",
                      "#FF6692",
                      "#B6E880",
                      "#FF97FF",
                      "#FECB52"
                    ],
                    "font": {
                      "color": "#2a3f5f"
                    },
                    "geo": {
                      "bgcolor": "white",
                      "lakecolor": "white",
                      "landcolor": "#E5ECF6",
                      "showlakes": true,
                      "showland": true,
                      "subunitcolor": "white"
                    },
                    "hoverlabel": {
                      "align": "left"
                    },
                    "hovermode": "closest",
                    "mapbox": {
                      "style": "light"
                    },
                    "paper_bgcolor": "white",
                    "plot_bgcolor": "#E5ECF6",
                    "polar": {
                      "angularaxis": {
                        "gridcolor": "white",
                        "linecolor": "white",
                        "ticks": ""
                      },
                      "bgcolor": "#E5ECF6",
                      "radialaxis": {
                        "gridcolor": "white",
                        "linecolor": "white",
                        "ticks": ""
                      }
                    },
                    "scene": {
                      "xaxis": {
                        "backgroundcolor": "#E5ECF6",
                        "gridcolor": "white",
                        "gridwidth": 2,
                        "linecolor": "white",
                        "showbackground": true,
                        "ticks": "",
                        "zerolinecolor": "white"
                      },
                      "yaxis": {
                        "backgroundcolor": "#E5ECF6",
                        "gridcolor": "white",
                        "gridwidth": 2,
                        "linecolor": "white",
                        "showbackground": true,
                        "ticks": "",
                        "zerolinecolor": "white"
                      },
                      "zaxis": {
                        "backgroundcolor": "#E5ECF6",
                        "gridcolor": "white",
                        "gridwidth": 2,
                        "linecolor": "white",
                        "showbackground": true,
                        "ticks": "",
                        "zerolinecolor": "white"
                      }
                    },
                    "shapedefaults": {
                      "line": {
                        "color": "#2a3f5f"
                      }
                    },
                    "ternary": {
                      "aaxis": {
                        "gridcolor": "white",
                        "linecolor": "white",
                        "ticks": ""
                      },
                      "baxis": {
                        "gridcolor": "white",
                        "linecolor": "white",
                        "ticks": ""
                      },
                      "bgcolor": "#E5ECF6",
                      "caxis": {
                        "gridcolor": "white",
                        "linecolor": "white",
                        "ticks": ""
                      }
                    },
                    "title": {
                      "x": 0.05
                    },
                    "xaxis": {
                      "automargin": true,
                      "gridcolor": "white",
                      "linecolor": "white",
                      "ticks": "",
                      "title": {
                        "standoff": 15
                      },
                      "zerolinecolor": "white",
                      "zerolinewidth": 2
                    },
                    "yaxis": {
                      "automargin": true,
                      "gridcolor": "white",
                      "linecolor": "white",
                      "ticks": "",
                      "title": {
                        "standoff": 15
                      },
                      "zerolinecolor": "white",
                      "zerolinewidth": 2
                    }
                  }
                },
                "title": {
                  "text": "F30-F39 - Transtornos do humor [afetivos]"
                },
                "xaxis": {
                  "title": {
                    "text": "Time"
                  }
                },
                "yaxis": {
                  "title": {
                    "text": "Value"
                  }
                }
              }
            }
          },
          "metadata": {},
          "output_type": "display_data"
        },
        {
          "data": {
            "application/vnd.plotly.v1+json": {
              "config": {
                "plotlyServerURL": "https://plot.ly"
              },
              "data": [
                {
                  "marker": {
                    "color": "black"
                  },
                  "mode": "markers",
                  "name": "Real",
                  "type": "scatter",
                  "x": [
                    "2016-01-01T00:00:00.000000000",
                    "2016-02-01T00:00:00.000000000",
                    "2016-03-01T00:00:00.000000000",
                    "2016-04-01T00:00:00.000000000",
                    "2016-05-01T00:00:00.000000000",
                    "2016-06-01T00:00:00.000000000",
                    "2016-07-01T00:00:00.000000000",
                    "2016-08-01T00:00:00.000000000",
                    "2016-09-01T00:00:00.000000000",
                    "2016-10-01T00:00:00.000000000",
                    "2016-11-01T00:00:00.000000000",
                    "2016-12-01T00:00:00.000000000",
                    "2017-01-01T00:00:00.000000000",
                    "2017-02-01T00:00:00.000000000",
                    "2017-03-01T00:00:00.000000000",
                    "2017-04-01T00:00:00.000000000",
                    "2017-05-01T00:00:00.000000000",
                    "2017-06-01T00:00:00.000000000",
                    "2017-07-01T00:00:00.000000000",
                    "2017-08-01T00:00:00.000000000",
                    "2017-09-01T00:00:00.000000000",
                    "2017-10-01T00:00:00.000000000",
                    "2017-11-01T00:00:00.000000000",
                    "2017-12-01T00:00:00.000000000",
                    "2018-01-01T00:00:00.000000000",
                    "2018-02-01T00:00:00.000000000",
                    "2018-03-01T00:00:00.000000000",
                    "2018-04-01T00:00:00.000000000",
                    "2018-05-01T00:00:00.000000000",
                    "2018-06-01T00:00:00.000000000",
                    "2018-07-01T00:00:00.000000000",
                    "2018-08-01T00:00:00.000000000",
                    "2018-09-01T00:00:00.000000000",
                    "2018-10-01T00:00:00.000000000",
                    "2018-11-01T00:00:00.000000000",
                    "2018-12-01T00:00:00.000000000",
                    "2019-01-01T00:00:00.000000000",
                    "2019-02-01T00:00:00.000000000",
                    "2019-03-01T00:00:00.000000000",
                    "2019-04-01T00:00:00.000000000",
                    "2019-05-01T00:00:00.000000000",
                    "2019-06-01T00:00:00.000000000",
                    "2019-07-01T00:00:00.000000000",
                    "2019-08-01T00:00:00.000000000",
                    "2019-09-01T00:00:00.000000000",
                    "2019-10-01T00:00:00.000000000",
                    "2019-11-01T00:00:00.000000000",
                    "2019-12-01T00:00:00.000000000",
                    "2020-01-01T00:00:00.000000000",
                    "2020-02-01T00:00:00.000000000",
                    "2020-03-01T00:00:00.000000000",
                    "2020-04-01T00:00:00.000000000",
                    "2020-05-01T00:00:00.000000000",
                    "2020-06-01T00:00:00.000000000",
                    "2020-07-01T00:00:00.000000000",
                    "2020-08-01T00:00:00.000000000",
                    "2020-09-01T00:00:00.000000000",
                    "2020-10-01T00:00:00.000000000",
                    "2020-11-01T00:00:00.000000000",
                    "2020-12-01T00:00:00.000000000",
                    "2021-01-01T00:00:00.000000000",
                    "2021-02-01T00:00:00.000000000",
                    "2021-03-01T00:00:00.000000000",
                    "2021-04-01T00:00:00.000000000",
                    "2021-05-01T00:00:00.000000000",
                    "2021-06-01T00:00:00.000000000",
                    "2021-07-01T00:00:00.000000000",
                    "2021-08-01T00:00:00.000000000",
                    "2021-09-01T00:00:00.000000000",
                    "2021-10-01T00:00:00.000000000",
                    "2021-11-01T00:00:00.000000000",
                    "2021-12-01T00:00:00.000000000",
                    "2022-01-01T00:00:00.000000000",
                    "2022-02-01T00:00:00.000000000",
                    "2022-03-01T00:00:00.000000000",
                    "2022-04-01T00:00:00.000000000",
                    "2022-05-01T00:00:00.000000000",
                    "2022-06-01T00:00:00.000000000",
                    "2022-07-01T00:00:00.000000000",
                    "2022-08-01T00:00:00.000000000",
                    "2022-09-01T00:00:00.000000000",
                    "2022-10-01T00:00:00.000000000",
                    "2022-11-01T00:00:00.000000000",
                    "2022-12-01T00:00:00.000000000",
                    "2023-01-01T00:00:00.000000000",
                    "2023-02-01T00:00:00.000000000",
                    "2023-03-01T00:00:00.000000000",
                    "2023-04-01T00:00:00.000000000",
                    "2023-05-01T00:00:00.000000000",
                    "2023-06-01T00:00:00.000000000",
                    "2023-07-01T00:00:00.000000000",
                    "2023-08-01T00:00:00.000000000",
                    "2023-09-01T00:00:00.000000000",
                    "2023-10-01T00:00:00.000000000",
                    "2023-11-01T00:00:00.000000000",
                    "2023-12-01T00:00:00.000000000",
                    "2024-01-01T00:00:00.000000000",
                    "2024-02-01T00:00:00.000000000",
                    "2024-03-01T00:00:00.000000000",
                    "2024-04-01T00:00:00.000000000",
                    "2024-05-01T00:00:00.000000000",
                    "2024-06-01T00:00:00.000000000",
                    "2024-07-01T00:00:00.000000000",
                    "2024-08-01T00:00:00.000000000",
                    "2024-09-01T00:00:00.000000000",
                    "2024-10-01T00:00:00.000000000",
                    "2024-11-01T00:00:00.000000000",
                    "2024-12-01T00:00:00.000000000"
                  ],
                  "y": [
                    1.248968101145766,
                    0.8663824317357646,
                    0.7917973541006565,
                    0.7729617447979185,
                    0.7884815847144307,
                    0.8533347888789755,
                    0.9185986559121542,
                    0.8392326824236294,
                    0.8982589476056899,
                    0.9336784639776574,
                    0.9626731419895197,
                    1.1638989253851406,
                    1.0723697370007113,
                    1.0039713711935694,
                    0.9685884327044999,
                    1.0160276307498912,
                    0.9803005571447014,
                    1.089384509643368,
                    1.0823467559572069,
                    1.0898496189676605,
                    1.0986260625252589,
                    1.210985211318797,
                    1.249166124790305,
                    1.3486630440743563,
                    1.3268520796257788,
                    1.3170186623998534,
                    1.251926760547725,
                    1.21727041390967,
                    1.2481860247641476,
                    1.3972483297829965,
                    1.39650271033246,
                    1.4341547082945478,
                    1.5128475426730204,
                    1.5747918016403413,
                    1.4455418127063961,
                    1.4949853122565395,
                    1.4077014038785645,
                    1.369741613735023,
                    1.3818959993740763,
                    1.266318056754572,
                    1.2831069190135689,
                    1.3886127663240202,
                    1.4633984367342228,
                    1.4651445833122605,
                    1.4162009829681792,
                    1.419401985706265,
                    1.4944374078665137,
                    1.650308126256199,
                    1.623389758321508,
                    1.6493603280900204,
                    1.735354097988284,
                    2.10623272540369,
                    1.8795490242457795,
                    1.7058444782299858,
                    1.5879226969934572,
                    1.6514945505055314,
                    1.680044791635836,
                    1.6511173229119198,
                    1.597593552708989,
                    1.6394346704755414,
                    1.5934432920993225,
                    1.5671198169299418,
                    1.4888740686386808,
                    1.5022872015636886,
                    1.4283904557320202,
                    1.482463455468393,
                    1.5379726630490003,
                    1.5498433687191215,
                    1.5856993424546002,
                    1.5401906215026673,
                    1.5665974667266127,
                    1.5735336621207323,
                    1.264066905464599,
                    1.5058697039392988,
                    1.5332038004570374,
                    1.4618072127147597,
                    1.418138318415013,
                    1.4232969699978808,
                    1.414727564072739,
                    1.4433918539817403,
                    1.5887349497102081,
                    1.5278577929837596,
                    1.5085027638429638,
                    1.5696531003542804,
                    1.695039413823889,
                    1.7227608784348714,
                    1.5554973827540866,
                    1.5164732484831522,
                    1.5673482896235396,
                    1.6315252574914396,
                    1.6883271627377434,
                    1.6434296123418448,
                    1.7019172080550742,
                    1.6707370570906022,
                    1.6757627843062595,
                    1.782376013689528,
                    1.7745583345529408,
                    1.6719657000487627,
                    1.5368478742227163,
                    1.5026543245531683,
                    1.612233807580486,
                    1.6614398667676633,
                    1.6918645756628305,
                    1.6759369964741313,
                    1.613029487500341,
                    1.63389361725095,
                    1.6493102790021499,
                    1.7370433515441186
                  ]
                },
                {
                  "line": {
                    "color": "black",
                    "dash": "dot"
                  },
                  "mode": "lines",
                  "name": "Baseline",
                  "type": "scatter",
                  "x": [
                    "2016-01-01T00:00:00.000000000",
                    "2016-02-01T00:00:00.000000000",
                    "2016-03-01T00:00:00.000000000",
                    "2016-04-01T00:00:00.000000000",
                    "2016-05-01T00:00:00.000000000",
                    "2016-06-01T00:00:00.000000000",
                    "2016-07-01T00:00:00.000000000",
                    "2016-08-01T00:00:00.000000000",
                    "2016-09-01T00:00:00.000000000",
                    "2016-10-01T00:00:00.000000000",
                    "2016-11-01T00:00:00.000000000",
                    "2016-12-01T00:00:00.000000000",
                    "2017-01-01T00:00:00.000000000",
                    "2017-02-01T00:00:00.000000000",
                    "2017-03-01T00:00:00.000000000",
                    "2017-04-01T00:00:00.000000000",
                    "2017-05-01T00:00:00.000000000",
                    "2017-06-01T00:00:00.000000000",
                    "2017-07-01T00:00:00.000000000",
                    "2017-08-01T00:00:00.000000000",
                    "2017-09-01T00:00:00.000000000",
                    "2017-10-01T00:00:00.000000000",
                    "2017-11-01T00:00:00.000000000",
                    "2017-12-01T00:00:00.000000000",
                    "2018-01-01T00:00:00.000000000",
                    "2018-02-01T00:00:00.000000000",
                    "2018-03-01T00:00:00.000000000",
                    "2018-04-01T00:00:00.000000000",
                    "2018-05-01T00:00:00.000000000",
                    "2018-06-01T00:00:00.000000000",
                    "2018-07-01T00:00:00.000000000",
                    "2018-08-01T00:00:00.000000000",
                    "2018-09-01T00:00:00.000000000",
                    "2018-10-01T00:00:00.000000000",
                    "2018-11-01T00:00:00.000000000",
                    "2018-12-01T00:00:00.000000000",
                    "2019-01-01T00:00:00.000000000",
                    "2019-02-01T00:00:00.000000000",
                    "2019-03-01T00:00:00.000000000",
                    "2019-04-01T00:00:00.000000000",
                    "2019-05-01T00:00:00.000000000",
                    "2019-06-01T00:00:00.000000000",
                    "2019-07-01T00:00:00.000000000",
                    "2019-08-01T00:00:00.000000000",
                    "2019-09-01T00:00:00.000000000",
                    "2019-10-01T00:00:00.000000000",
                    "2019-11-01T00:00:00.000000000",
                    "2019-12-01T00:00:00.000000000",
                    "2020-01-01T00:00:00.000000000",
                    "2020-02-01T00:00:00.000000000",
                    "2020-03-01T00:00:00.000000000",
                    "2020-04-01T00:00:00.000000000",
                    "2020-05-01T00:00:00.000000000",
                    "2020-06-01T00:00:00.000000000",
                    "2020-07-01T00:00:00.000000000",
                    "2020-08-01T00:00:00.000000000",
                    "2020-09-01T00:00:00.000000000",
                    "2020-10-01T00:00:00.000000000",
                    "2020-11-01T00:00:00.000000000",
                    "2020-12-01T00:00:00.000000000",
                    "2021-01-01T00:00:00.000000000",
                    "2021-02-01T00:00:00.000000000",
                    "2021-03-01T00:00:00.000000000",
                    "2021-04-01T00:00:00.000000000",
                    "2021-05-01T00:00:00.000000000",
                    "2021-06-01T00:00:00.000000000",
                    "2021-07-01T00:00:00.000000000",
                    "2021-08-01T00:00:00.000000000",
                    "2021-09-01T00:00:00.000000000",
                    "2021-10-01T00:00:00.000000000",
                    "2021-11-01T00:00:00.000000000",
                    "2021-12-01T00:00:00.000000000",
                    "2022-01-01T00:00:00.000000000",
                    "2022-02-01T00:00:00.000000000",
                    "2022-03-01T00:00:00.000000000",
                    "2022-04-01T00:00:00.000000000",
                    "2022-05-01T00:00:00.000000000",
                    "2022-06-01T00:00:00.000000000",
                    "2022-07-01T00:00:00.000000000",
                    "2022-08-01T00:00:00.000000000",
                    "2022-09-01T00:00:00.000000000",
                    "2022-10-01T00:00:00.000000000",
                    "2022-11-01T00:00:00.000000000",
                    "2022-12-01T00:00:00.000000000",
                    "2023-01-01T00:00:00.000000000",
                    "2023-02-01T00:00:00.000000000",
                    "2023-03-01T00:00:00.000000000",
                    "2023-04-01T00:00:00.000000000",
                    "2023-05-01T00:00:00.000000000",
                    "2023-06-01T00:00:00.000000000",
                    "2023-07-01T00:00:00.000000000",
                    "2023-08-01T00:00:00.000000000",
                    "2023-09-01T00:00:00.000000000",
                    "2023-10-01T00:00:00.000000000",
                    "2023-11-01T00:00:00.000000000",
                    "2023-12-01T00:00:00.000000000",
                    "2024-01-01T00:00:00.000000000",
                    "2024-02-01T00:00:00.000000000",
                    "2024-03-01T00:00:00.000000000",
                    "2024-04-01T00:00:00.000000000",
                    "2024-05-01T00:00:00.000000000",
                    "2024-06-01T00:00:00.000000000",
                    "2024-07-01T00:00:00.000000000",
                    "2024-08-01T00:00:00.000000000",
                    "2024-09-01T00:00:00.000000000",
                    "2024-10-01T00:00:00.000000000",
                    "2024-11-01T00:00:00.000000000",
                    "2024-12-01T00:00:00.000000000"
                  ],
                  "y": [
                    0.835407585547042,
                    0.8521648815059487,
                    0.8689221774648554,
                    0.8856794734237622,
                    0.9024367693826689,
                    0.9191940653415757,
                    0.9359513613004824,
                    0.9527086572593891,
                    0.9694659532182959,
                    0.9862232491772026,
                    1.0029805451361093,
                    1.0197378410950162,
                    1.0364951370539228,
                    1.0532524330128297,
                    1.0700097289717363,
                    1.0867670249306431,
                    1.1035243208895498,
                    1.1202816168484566,
                    1.1370389128073632,
                    1.15379620876627,
                    1.1705535047251767,
                    1.1873108006840836,
                    1.2040680966429902,
                    1.220825392601897,
                    1.2375826885608037,
                    1.2543399845197105,
                    1.2710972804786174,
                    1.287854576437524,
                    1.3046118723964306,
                    1.3213691683553375,
                    1.3381264643142443,
                    1.354883760273151,
                    1.3716410562320576,
                    1.3883983521909644,
                    1.4051556481498713,
                    1.4219129441087779,
                    1.4386702400676845,
                    1.4554275360265914,
                    1.4721848319854982,
                    1.4889421279444048,
                    1.5056994239033115,
                    1.5224567198622183,
                    1.5392140158211252,
                    1.5559713117800318,
                    1.5727286077389384,
                    1.5894859036978453,
                    1.606243199656752,
                    1.623000495615659,
                    1.6397577915745656,
                    1.6565150875334722,
                    1.673272383492379,
                    1.690029679451286,
                    1.7067869754101925,
                    1.7235442713690992,
                    1.740301567328006,
                    1.7570588632869129,
                    1.7738161592458195,
                    1.790573455204726,
                    1.807330751163633,
                    1.8240880471225398,
                    1.8408453430814462,
                    1.857602639040353,
                    1.87435993499926,
                    1.8911172309581668,
                    1.9078745269170736,
                    1.92463182287598,
                    1.9413891188348869,
                    1.9581464147937937,
                    1.9749037107527005,
                    1.991661006711607,
                    2.008418302670514,
                    2.0251755986294206,
                    2.0419328945883275,
                    2.058690190547234,
                    2.0754474865061407,
                    2.0922047824650476,
                    2.1089620784239544,
                    2.125719374382861,
                    2.1424766703417677,
                    2.1592339663006745,
                    2.1759912622595814,
                    2.192748558218488,
                    2.2095058541773946,
                    2.2262631501363015,
                    2.2430204460952083,
                    2.2597777420541147,
                    2.2765350380130216,
                    2.2932923339719284,
                    2.3100496299308353,
                    2.3268069258897417,
                    2.3435642218486485,
                    2.3603215178075554,
                    2.3770788137664622,
                    2.3938361097253686,
                    2.4105934056842755,
                    2.4273507016431823,
                    2.444107997602089,
                    2.460865293560996,
                    2.4776225895199024,
                    2.4943798854788093,
                    2.511137181437716,
                    2.527894477396623,
                    2.5446517733555294,
                    2.5614090693144362,
                    2.578166365273343,
                    2.59492366123225,
                    2.6116809571911563,
                    2.628438253150063
                  ]
                },
                {
                  "line": {
                    "color": "purple"
                  },
                  "mode": "lines",
                  "name": "Full model",
                  "type": "scatter",
                  "x": [
                    "2016-01-01T00:00:00.000000000",
                    "2016-02-01T00:00:00.000000000",
                    "2016-03-01T00:00:00.000000000",
                    "2016-04-01T00:00:00.000000000",
                    "2016-05-01T00:00:00.000000000",
                    "2016-06-01T00:00:00.000000000",
                    "2016-07-01T00:00:00.000000000",
                    "2016-08-01T00:00:00.000000000",
                    "2016-09-01T00:00:00.000000000",
                    "2016-10-01T00:00:00.000000000",
                    "2016-11-01T00:00:00.000000000",
                    "2016-12-01T00:00:00.000000000",
                    "2017-01-01T00:00:00.000000000",
                    "2017-02-01T00:00:00.000000000",
                    "2017-03-01T00:00:00.000000000",
                    "2017-04-01T00:00:00.000000000",
                    "2017-05-01T00:00:00.000000000",
                    "2017-06-01T00:00:00.000000000",
                    "2017-07-01T00:00:00.000000000",
                    "2017-08-01T00:00:00.000000000",
                    "2017-09-01T00:00:00.000000000",
                    "2017-10-01T00:00:00.000000000",
                    "2017-11-01T00:00:00.000000000",
                    "2017-12-01T00:00:00.000000000",
                    "2018-01-01T00:00:00.000000000",
                    "2018-02-01T00:00:00.000000000",
                    "2018-03-01T00:00:00.000000000",
                    "2018-04-01T00:00:00.000000000",
                    "2018-05-01T00:00:00.000000000",
                    "2018-06-01T00:00:00.000000000",
                    "2018-07-01T00:00:00.000000000",
                    "2018-08-01T00:00:00.000000000",
                    "2018-09-01T00:00:00.000000000",
                    "2018-10-01T00:00:00.000000000",
                    "2018-11-01T00:00:00.000000000",
                    "2018-12-01T00:00:00.000000000",
                    "2019-01-01T00:00:00.000000000",
                    "2019-02-01T00:00:00.000000000",
                    "2019-03-01T00:00:00.000000000",
                    "2019-04-01T00:00:00.000000000",
                    "2019-05-01T00:00:00.000000000",
                    "2019-06-01T00:00:00.000000000",
                    "2019-07-01T00:00:00.000000000",
                    "2019-08-01T00:00:00.000000000",
                    "2019-09-01T00:00:00.000000000",
                    "2019-10-01T00:00:00.000000000",
                    "2019-11-01T00:00:00.000000000",
                    "2019-12-01T00:00:00.000000000",
                    "2020-01-01T00:00:00.000000000",
                    "2020-02-01T00:00:00.000000000",
                    "2020-03-01T00:00:00.000000000",
                    "2020-04-01T00:00:00.000000000",
                    "2020-05-01T00:00:00.000000000",
                    "2020-06-01T00:00:00.000000000",
                    "2020-07-01T00:00:00.000000000",
                    "2020-08-01T00:00:00.000000000",
                    "2020-09-01T00:00:00.000000000",
                    "2020-10-01T00:00:00.000000000",
                    "2020-11-01T00:00:00.000000000",
                    "2020-12-01T00:00:00.000000000",
                    "2021-01-01T00:00:00.000000000",
                    "2021-02-01T00:00:00.000000000",
                    "2021-03-01T00:00:00.000000000",
                    "2021-04-01T00:00:00.000000000",
                    "2021-05-01T00:00:00.000000000",
                    "2021-06-01T00:00:00.000000000",
                    "2021-07-01T00:00:00.000000000",
                    "2021-08-01T00:00:00.000000000",
                    "2021-09-01T00:00:00.000000000",
                    "2021-10-01T00:00:00.000000000",
                    "2021-11-01T00:00:00.000000000",
                    "2021-12-01T00:00:00.000000000",
                    "2022-01-01T00:00:00.000000000",
                    "2022-02-01T00:00:00.000000000",
                    "2022-03-01T00:00:00.000000000",
                    "2022-04-01T00:00:00.000000000",
                    "2022-05-01T00:00:00.000000000",
                    "2022-06-01T00:00:00.000000000",
                    "2022-07-01T00:00:00.000000000",
                    "2022-08-01T00:00:00.000000000",
                    "2022-09-01T00:00:00.000000000",
                    "2022-10-01T00:00:00.000000000",
                    "2022-11-01T00:00:00.000000000",
                    "2022-12-01T00:00:00.000000000",
                    "2023-01-01T00:00:00.000000000",
                    "2023-02-01T00:00:00.000000000",
                    "2023-03-01T00:00:00.000000000",
                    "2023-04-01T00:00:00.000000000",
                    "2023-05-01T00:00:00.000000000",
                    "2023-06-01T00:00:00.000000000",
                    "2023-07-01T00:00:00.000000000",
                    "2023-08-01T00:00:00.000000000",
                    "2023-09-01T00:00:00.000000000",
                    "2023-10-01T00:00:00.000000000",
                    "2023-11-01T00:00:00.000000000",
                    "2023-12-01T00:00:00.000000000",
                    "2024-01-01T00:00:00.000000000",
                    "2024-02-01T00:00:00.000000000",
                    "2024-03-01T00:00:00.000000000",
                    "2024-04-01T00:00:00.000000000",
                    "2024-05-01T00:00:00.000000000",
                    "2024-06-01T00:00:00.000000000",
                    "2024-07-01T00:00:00.000000000",
                    "2024-08-01T00:00:00.000000000",
                    "2024-09-01T00:00:00.000000000",
                    "2024-10-01T00:00:00.000000000",
                    "2024-11-01T00:00:00.000000000",
                    "2024-12-01T00:00:00.000000000"
                  ],
                  "y": [
                    0.835407585547042,
                    0.8521648815059487,
                    0.8689221774648554,
                    0.8856794734237622,
                    0.9024367693826689,
                    0.9191940653415757,
                    0.9359513613004824,
                    0.9527086572593891,
                    0.9694659532182959,
                    0.9862232491772026,
                    1.0029805451361093,
                    1.0197378410950162,
                    1.0364951370539228,
                    1.0532524330128297,
                    1.0700097289717363,
                    1.0867670249306431,
                    1.1035243208895498,
                    1.1202816168484566,
                    1.1370389128073632,
                    1.15379620876627,
                    1.1705535047251767,
                    1.1873108006840836,
                    1.2040680966429902,
                    1.220825392601897,
                    1.2375826885608037,
                    1.2543399845197105,
                    1.2710972804786174,
                    1.287854576437524,
                    1.3046118723964306,
                    1.3213691683553375,
                    1.3381264643142443,
                    1.354883760273151,
                    1.3716410562320576,
                    1.3883983521909644,
                    1.4051556481498713,
                    1.4219129441087779,
                    1.4386702400676845,
                    1.4554275360265914,
                    1.4721848319854982,
                    1.4889421279444048,
                    1.5056994239033115,
                    1.5224567198622183,
                    1.5392140158211252,
                    1.5559713117800318,
                    1.5727286077389384,
                    1.5894859036978453,
                    1.606243199656752,
                    1.623000495615659,
                    1.6397577915745656,
                    1.6565150875334722,
                    1.9130005004595396,
                    1.8794518033026175,
                    1.8459031061456952,
                    1.8123544089887733,
                    1.7788057118318514,
                    1.7452570146749293,
                    1.711708317518007,
                    1.6781596203610851,
                    1.644610923204163,
                    1.6110622260472411,
                    1.5775135288903188,
                    1.5439648317333967,
                    1.5622434953077995,
                    1.5602207305386855,
                    1.5581979657695713,
                    1.5561752010004566,
                    1.5541524362313426,
                    1.5521296714622284,
                    1.5501069066931141,
                    1.5480841419239995,
                    1.5460613771548855,
                    1.5440386123857712,
                    1.542015847616657,
                    1.5399930828475425,
                    1.5379703180784283,
                    1.5373285367866596,
                    1.543557944005013,
                    1.5497873512233658,
                    1.556016758441719,
                    1.5622461656600724,
                    1.5684755728784257,
                    1.5747049800967785,
                    1.5809343873151318,
                    1.587163794533485,
                    1.5933932017518384,
                    1.5996226089701913,
                    1.6058520161885446,
                    1.6120814234068979,
                    1.6183108306252512,
                    1.624540237843604,
                    1.6307696450619573,
                    1.6369990522803106,
                    1.643228459498664,
                    1.6494578667170168,
                    1.65568727393537,
                    1.6619166811537234,
                    1.6681460883720767,
                    1.67437549559043,
                    1.6806049028087828,
                    1.6868343100271361,
                    1.6930637172454894,
                    1.6992931244638427,
                    1.7055225316821954,
                    1.711751938900549,
                    1.717981346118902,
                    1.7242107533372557,
                    1.7304401605556086,
                    1.7366695677739614
                  ]
                }
              ],
              "layout": {
                "annotations": [
                  {
                    "arrowhead": 2,
                    "ax": 30,
                    "ay": -40,
                    "showarrow": true,
                    "text": "Pandemia",
                    "x": "2020-03-01",
                    "y": 2.10623272540369
                  },
                  {
                    "arrowhead": 2,
                    "ax": 30,
                    "ay": -40,
                    "showarrow": true,
                    "text": "Pos Pandemia",
                    "x": "2022-04-01",
                    "y": 2.10623272540369
                  }
                ],
                "legend": {
                  "title": {
                    "text": "Legend"
                  }
                },
                "shapes": [
                  {
                    "fillcolor": "rgba(0, 0, 0, 0.25)",
                    "layer": "below",
                    "line": {
                      "width": 0
                    },
                    "opacity": 0.3,
                    "type": "rect",
                    "x0": "2020-03-01",
                    "x1": "2020-07-01",
                    "xref": "x",
                    "y0": 0,
                    "y1": 1,
                    "yref": "paper"
                  },
                  {
                    "fillcolor": "rgba(0, 0, 0, 0.25)",
                    "layer": "below",
                    "line": {
                      "width": 0
                    },
                    "opacity": 0.3,
                    "type": "rect",
                    "x0": "2021-04-01",
                    "x1": "2021-05-01",
                    "xref": "x",
                    "y0": 0,
                    "y1": 1,
                    "yref": "paper"
                  },
                  {
                    "line": {
                      "color": "black",
                      "dash": "dash"
                    },
                    "type": "line",
                    "x0": "2020-03-01",
                    "x1": "2020-03-01",
                    "y0": 0.7729617447979185,
                    "y1": 2.10623272540369
                  },
                  {
                    "line": {
                      "color": "black",
                      "dash": "dash"
                    },
                    "type": "line",
                    "x0": "2022-04-01",
                    "x1": "2022-04-01",
                    "y0": 0.7729617447979185,
                    "y1": 2.10623272540369
                  }
                ],
                "template": {
                  "data": {
                    "bar": [
                      {
                        "error_x": {
                          "color": "#2a3f5f"
                        },
                        "error_y": {
                          "color": "#2a3f5f"
                        },
                        "marker": {
                          "line": {
                            "color": "#E5ECF6",
                            "width": 0.5
                          },
                          "pattern": {
                            "fillmode": "overlay",
                            "size": 10,
                            "solidity": 0.2
                          }
                        },
                        "type": "bar"
                      }
                    ],
                    "barpolar": [
                      {
                        "marker": {
                          "line": {
                            "color": "#E5ECF6",
                            "width": 0.5
                          },
                          "pattern": {
                            "fillmode": "overlay",
                            "size": 10,
                            "solidity": 0.2
                          }
                        },
                        "type": "barpolar"
                      }
                    ],
                    "carpet": [
                      {
                        "aaxis": {
                          "endlinecolor": "#2a3f5f",
                          "gridcolor": "white",
                          "linecolor": "white",
                          "minorgridcolor": "white",
                          "startlinecolor": "#2a3f5f"
                        },
                        "baxis": {
                          "endlinecolor": "#2a3f5f",
                          "gridcolor": "white",
                          "linecolor": "white",
                          "minorgridcolor": "white",
                          "startlinecolor": "#2a3f5f"
                        },
                        "type": "carpet"
                      }
                    ],
                    "choropleth": [
                      {
                        "colorbar": {
                          "outlinewidth": 0,
                          "ticks": ""
                        },
                        "type": "choropleth"
                      }
                    ],
                    "contour": [
                      {
                        "colorbar": {
                          "outlinewidth": 0,
                          "ticks": ""
                        },
                        "colorscale": [
                          [
                            0,
                            "#0d0887"
                          ],
                          [
                            0.1111111111111111,
                            "#46039f"
                          ],
                          [
                            0.2222222222222222,
                            "#7201a8"
                          ],
                          [
                            0.3333333333333333,
                            "#9c179e"
                          ],
                          [
                            0.4444444444444444,
                            "#bd3786"
                          ],
                          [
                            0.5555555555555556,
                            "#d8576b"
                          ],
                          [
                            0.6666666666666666,
                            "#ed7953"
                          ],
                          [
                            0.7777777777777778,
                            "#fb9f3a"
                          ],
                          [
                            0.8888888888888888,
                            "#fdca26"
                          ],
                          [
                            1,
                            "#f0f921"
                          ]
                        ],
                        "type": "contour"
                      }
                    ],
                    "contourcarpet": [
                      {
                        "colorbar": {
                          "outlinewidth": 0,
                          "ticks": ""
                        },
                        "type": "contourcarpet"
                      }
                    ],
                    "heatmap": [
                      {
                        "colorbar": {
                          "outlinewidth": 0,
                          "ticks": ""
                        },
                        "colorscale": [
                          [
                            0,
                            "#0d0887"
                          ],
                          [
                            0.1111111111111111,
                            "#46039f"
                          ],
                          [
                            0.2222222222222222,
                            "#7201a8"
                          ],
                          [
                            0.3333333333333333,
                            "#9c179e"
                          ],
                          [
                            0.4444444444444444,
                            "#bd3786"
                          ],
                          [
                            0.5555555555555556,
                            "#d8576b"
                          ],
                          [
                            0.6666666666666666,
                            "#ed7953"
                          ],
                          [
                            0.7777777777777778,
                            "#fb9f3a"
                          ],
                          [
                            0.8888888888888888,
                            "#fdca26"
                          ],
                          [
                            1,
                            "#f0f921"
                          ]
                        ],
                        "type": "heatmap"
                      }
                    ],
                    "heatmapgl": [
                      {
                        "colorbar": {
                          "outlinewidth": 0,
                          "ticks": ""
                        },
                        "colorscale": [
                          [
                            0,
                            "#0d0887"
                          ],
                          [
                            0.1111111111111111,
                            "#46039f"
                          ],
                          [
                            0.2222222222222222,
                            "#7201a8"
                          ],
                          [
                            0.3333333333333333,
                            "#9c179e"
                          ],
                          [
                            0.4444444444444444,
                            "#bd3786"
                          ],
                          [
                            0.5555555555555556,
                            "#d8576b"
                          ],
                          [
                            0.6666666666666666,
                            "#ed7953"
                          ],
                          [
                            0.7777777777777778,
                            "#fb9f3a"
                          ],
                          [
                            0.8888888888888888,
                            "#fdca26"
                          ],
                          [
                            1,
                            "#f0f921"
                          ]
                        ],
                        "type": "heatmapgl"
                      }
                    ],
                    "histogram": [
                      {
                        "marker": {
                          "pattern": {
                            "fillmode": "overlay",
                            "size": 10,
                            "solidity": 0.2
                          }
                        },
                        "type": "histogram"
                      }
                    ],
                    "histogram2d": [
                      {
                        "colorbar": {
                          "outlinewidth": 0,
                          "ticks": ""
                        },
                        "colorscale": [
                          [
                            0,
                            "#0d0887"
                          ],
                          [
                            0.1111111111111111,
                            "#46039f"
                          ],
                          [
                            0.2222222222222222,
                            "#7201a8"
                          ],
                          [
                            0.3333333333333333,
                            "#9c179e"
                          ],
                          [
                            0.4444444444444444,
                            "#bd3786"
                          ],
                          [
                            0.5555555555555556,
                            "#d8576b"
                          ],
                          [
                            0.6666666666666666,
                            "#ed7953"
                          ],
                          [
                            0.7777777777777778,
                            "#fb9f3a"
                          ],
                          [
                            0.8888888888888888,
                            "#fdca26"
                          ],
                          [
                            1,
                            "#f0f921"
                          ]
                        ],
                        "type": "histogram2d"
                      }
                    ],
                    "histogram2dcontour": [
                      {
                        "colorbar": {
                          "outlinewidth": 0,
                          "ticks": ""
                        },
                        "colorscale": [
                          [
                            0,
                            "#0d0887"
                          ],
                          [
                            0.1111111111111111,
                            "#46039f"
                          ],
                          [
                            0.2222222222222222,
                            "#7201a8"
                          ],
                          [
                            0.3333333333333333,
                            "#9c179e"
                          ],
                          [
                            0.4444444444444444,
                            "#bd3786"
                          ],
                          [
                            0.5555555555555556,
                            "#d8576b"
                          ],
                          [
                            0.6666666666666666,
                            "#ed7953"
                          ],
                          [
                            0.7777777777777778,
                            "#fb9f3a"
                          ],
                          [
                            0.8888888888888888,
                            "#fdca26"
                          ],
                          [
                            1,
                            "#f0f921"
                          ]
                        ],
                        "type": "histogram2dcontour"
                      }
                    ],
                    "mesh3d": [
                      {
                        "colorbar": {
                          "outlinewidth": 0,
                          "ticks": ""
                        },
                        "type": "mesh3d"
                      }
                    ],
                    "parcoords": [
                      {
                        "line": {
                          "colorbar": {
                            "outlinewidth": 0,
                            "ticks": ""
                          }
                        },
                        "type": "parcoords"
                      }
                    ],
                    "pie": [
                      {
                        "automargin": true,
                        "type": "pie"
                      }
                    ],
                    "scatter": [
                      {
                        "fillpattern": {
                          "fillmode": "overlay",
                          "size": 10,
                          "solidity": 0.2
                        },
                        "type": "scatter"
                      }
                    ],
                    "scatter3d": [
                      {
                        "line": {
                          "colorbar": {
                            "outlinewidth": 0,
                            "ticks": ""
                          }
                        },
                        "marker": {
                          "colorbar": {
                            "outlinewidth": 0,
                            "ticks": ""
                          }
                        },
                        "type": "scatter3d"
                      }
                    ],
                    "scattercarpet": [
                      {
                        "marker": {
                          "colorbar": {
                            "outlinewidth": 0,
                            "ticks": ""
                          }
                        },
                        "type": "scattercarpet"
                      }
                    ],
                    "scattergeo": [
                      {
                        "marker": {
                          "colorbar": {
                            "outlinewidth": 0,
                            "ticks": ""
                          }
                        },
                        "type": "scattergeo"
                      }
                    ],
                    "scattergl": [
                      {
                        "marker": {
                          "colorbar": {
                            "outlinewidth": 0,
                            "ticks": ""
                          }
                        },
                        "type": "scattergl"
                      }
                    ],
                    "scattermapbox": [
                      {
                        "marker": {
                          "colorbar": {
                            "outlinewidth": 0,
                            "ticks": ""
                          }
                        },
                        "type": "scattermapbox"
                      }
                    ],
                    "scatterpolar": [
                      {
                        "marker": {
                          "colorbar": {
                            "outlinewidth": 0,
                            "ticks": ""
                          }
                        },
                        "type": "scatterpolar"
                      }
                    ],
                    "scatterpolargl": [
                      {
                        "marker": {
                          "colorbar": {
                            "outlinewidth": 0,
                            "ticks": ""
                          }
                        },
                        "type": "scatterpolargl"
                      }
                    ],
                    "scatterternary": [
                      {
                        "marker": {
                          "colorbar": {
                            "outlinewidth": 0,
                            "ticks": ""
                          }
                        },
                        "type": "scatterternary"
                      }
                    ],
                    "surface": [
                      {
                        "colorbar": {
                          "outlinewidth": 0,
                          "ticks": ""
                        },
                        "colorscale": [
                          [
                            0,
                            "#0d0887"
                          ],
                          [
                            0.1111111111111111,
                            "#46039f"
                          ],
                          [
                            0.2222222222222222,
                            "#7201a8"
                          ],
                          [
                            0.3333333333333333,
                            "#9c179e"
                          ],
                          [
                            0.4444444444444444,
                            "#bd3786"
                          ],
                          [
                            0.5555555555555556,
                            "#d8576b"
                          ],
                          [
                            0.6666666666666666,
                            "#ed7953"
                          ],
                          [
                            0.7777777777777778,
                            "#fb9f3a"
                          ],
                          [
                            0.8888888888888888,
                            "#fdca26"
                          ],
                          [
                            1,
                            "#f0f921"
                          ]
                        ],
                        "type": "surface"
                      }
                    ],
                    "table": [
                      {
                        "cells": {
                          "fill": {
                            "color": "#EBF0F8"
                          },
                          "line": {
                            "color": "white"
                          }
                        },
                        "header": {
                          "fill": {
                            "color": "#C8D4E3"
                          },
                          "line": {
                            "color": "white"
                          }
                        },
                        "type": "table"
                      }
                    ]
                  },
                  "layout": {
                    "annotationdefaults": {
                      "arrowcolor": "#2a3f5f",
                      "arrowhead": 0,
                      "arrowwidth": 1
                    },
                    "autotypenumbers": "strict",
                    "coloraxis": {
                      "colorbar": {
                        "outlinewidth": 0,
                        "ticks": ""
                      }
                    },
                    "colorscale": {
                      "diverging": [
                        [
                          0,
                          "#8e0152"
                        ],
                        [
                          0.1,
                          "#c51b7d"
                        ],
                        [
                          0.2,
                          "#de77ae"
                        ],
                        [
                          0.3,
                          "#f1b6da"
                        ],
                        [
                          0.4,
                          "#fde0ef"
                        ],
                        [
                          0.5,
                          "#f7f7f7"
                        ],
                        [
                          0.6,
                          "#e6f5d0"
                        ],
                        [
                          0.7,
                          "#b8e186"
                        ],
                        [
                          0.8,
                          "#7fbc41"
                        ],
                        [
                          0.9,
                          "#4d9221"
                        ],
                        [
                          1,
                          "#276419"
                        ]
                      ],
                      "sequential": [
                        [
                          0,
                          "#0d0887"
                        ],
                        [
                          0.1111111111111111,
                          "#46039f"
                        ],
                        [
                          0.2222222222222222,
                          "#7201a8"
                        ],
                        [
                          0.3333333333333333,
                          "#9c179e"
                        ],
                        [
                          0.4444444444444444,
                          "#bd3786"
                        ],
                        [
                          0.5555555555555556,
                          "#d8576b"
                        ],
                        [
                          0.6666666666666666,
                          "#ed7953"
                        ],
                        [
                          0.7777777777777778,
                          "#fb9f3a"
                        ],
                        [
                          0.8888888888888888,
                          "#fdca26"
                        ],
                        [
                          1,
                          "#f0f921"
                        ]
                      ],
                      "sequentialminus": [
                        [
                          0,
                          "#0d0887"
                        ],
                        [
                          0.1111111111111111,
                          "#46039f"
                        ],
                        [
                          0.2222222222222222,
                          "#7201a8"
                        ],
                        [
                          0.3333333333333333,
                          "#9c179e"
                        ],
                        [
                          0.4444444444444444,
                          "#bd3786"
                        ],
                        [
                          0.5555555555555556,
                          "#d8576b"
                        ],
                        [
                          0.6666666666666666,
                          "#ed7953"
                        ],
                        [
                          0.7777777777777778,
                          "#fb9f3a"
                        ],
                        [
                          0.8888888888888888,
                          "#fdca26"
                        ],
                        [
                          1,
                          "#f0f921"
                        ]
                      ]
                    },
                    "colorway": [
                      "#636efa",
                      "#EF553B",
                      "#00cc96",
                      "#ab63fa",
                      "#FFA15A",
                      "#19d3f3",
                      "#FF6692",
                      "#B6E880",
                      "#FF97FF",
                      "#FECB52"
                    ],
                    "font": {
                      "color": "#2a3f5f"
                    },
                    "geo": {
                      "bgcolor": "white",
                      "lakecolor": "white",
                      "landcolor": "#E5ECF6",
                      "showlakes": true,
                      "showland": true,
                      "subunitcolor": "white"
                    },
                    "hoverlabel": {
                      "align": "left"
                    },
                    "hovermode": "closest",
                    "mapbox": {
                      "style": "light"
                    },
                    "paper_bgcolor": "white",
                    "plot_bgcolor": "#E5ECF6",
                    "polar": {
                      "angularaxis": {
                        "gridcolor": "white",
                        "linecolor": "white",
                        "ticks": ""
                      },
                      "bgcolor": "#E5ECF6",
                      "radialaxis": {
                        "gridcolor": "white",
                        "linecolor": "white",
                        "ticks": ""
                      }
                    },
                    "scene": {
                      "xaxis": {
                        "backgroundcolor": "#E5ECF6",
                        "gridcolor": "white",
                        "gridwidth": 2,
                        "linecolor": "white",
                        "showbackground": true,
                        "ticks": "",
                        "zerolinecolor": "white"
                      },
                      "yaxis": {
                        "backgroundcolor": "#E5ECF6",
                        "gridcolor": "white",
                        "gridwidth": 2,
                        "linecolor": "white",
                        "showbackground": true,
                        "ticks": "",
                        "zerolinecolor": "white"
                      },
                      "zaxis": {
                        "backgroundcolor": "#E5ECF6",
                        "gridcolor": "white",
                        "gridwidth": 2,
                        "linecolor": "white",
                        "showbackground": true,
                        "ticks": "",
                        "zerolinecolor": "white"
                      }
                    },
                    "shapedefaults": {
                      "line": {
                        "color": "#2a3f5f"
                      }
                    },
                    "ternary": {
                      "aaxis": {
                        "gridcolor": "white",
                        "linecolor": "white",
                        "ticks": ""
                      },
                      "baxis": {
                        "gridcolor": "white",
                        "linecolor": "white",
                        "ticks": ""
                      },
                      "bgcolor": "#E5ECF6",
                      "caxis": {
                        "gridcolor": "white",
                        "linecolor": "white",
                        "ticks": ""
                      }
                    },
                    "title": {
                      "x": 0.05
                    },
                    "xaxis": {
                      "automargin": true,
                      "gridcolor": "white",
                      "linecolor": "white",
                      "ticks": "",
                      "title": {
                        "standoff": 15
                      },
                      "zerolinecolor": "white",
                      "zerolinewidth": 2
                    },
                    "yaxis": {
                      "automargin": true,
                      "gridcolor": "white",
                      "linecolor": "white",
                      "ticks": "",
                      "title": {
                        "standoff": 15
                      },
                      "zerolinecolor": "white",
                      "zerolinewidth": 2
                    }
                  }
                },
                "title": {
                  "text": "F20-F29 - Esquizofrenia, transtornos esquizotípicos e transtornos delirantes"
                },
                "xaxis": {
                  "title": {
                    "text": "Time"
                  }
                },
                "yaxis": {
                  "title": {
                    "text": "Value"
                  }
                }
              }
            }
          },
          "metadata": {},
          "output_type": "display_data"
        },
        {
          "data": {
            "application/vnd.plotly.v1+json": {
              "config": {
                "plotlyServerURL": "https://plot.ly"
              },
              "data": [
                {
                  "marker": {
                    "color": "black"
                  },
                  "mode": "markers",
                  "name": "Real",
                  "type": "scatter",
                  "x": [
                    "2016-01-01T00:00:00.000000000",
                    "2016-02-01T00:00:00.000000000",
                    "2016-03-01T00:00:00.000000000",
                    "2016-04-01T00:00:00.000000000",
                    "2016-05-01T00:00:00.000000000",
                    "2016-06-01T00:00:00.000000000",
                    "2016-07-01T00:00:00.000000000",
                    "2016-08-01T00:00:00.000000000",
                    "2016-09-01T00:00:00.000000000",
                    "2016-10-01T00:00:00.000000000",
                    "2016-11-01T00:00:00.000000000",
                    "2016-12-01T00:00:00.000000000",
                    "2017-01-01T00:00:00.000000000",
                    "2017-02-01T00:00:00.000000000",
                    "2017-03-01T00:00:00.000000000",
                    "2017-04-01T00:00:00.000000000",
                    "2017-05-01T00:00:00.000000000",
                    "2017-06-01T00:00:00.000000000",
                    "2017-07-01T00:00:00.000000000",
                    "2017-08-01T00:00:00.000000000",
                    "2017-09-01T00:00:00.000000000",
                    "2017-10-01T00:00:00.000000000",
                    "2017-11-01T00:00:00.000000000",
                    "2017-12-01T00:00:00.000000000",
                    "2018-01-01T00:00:00.000000000",
                    "2018-02-01T00:00:00.000000000",
                    "2018-03-01T00:00:00.000000000",
                    "2018-04-01T00:00:00.000000000",
                    "2018-05-01T00:00:00.000000000",
                    "2018-06-01T00:00:00.000000000",
                    "2018-07-01T00:00:00.000000000",
                    "2018-08-01T00:00:00.000000000",
                    "2018-09-01T00:00:00.000000000",
                    "2018-10-01T00:00:00.000000000",
                    "2018-11-01T00:00:00.000000000",
                    "2018-12-01T00:00:00.000000000",
                    "2019-01-01T00:00:00.000000000",
                    "2019-02-01T00:00:00.000000000",
                    "2019-03-01T00:00:00.000000000",
                    "2019-04-01T00:00:00.000000000",
                    "2019-05-01T00:00:00.000000000",
                    "2019-06-01T00:00:00.000000000",
                    "2019-07-01T00:00:00.000000000",
                    "2019-08-01T00:00:00.000000000",
                    "2019-09-01T00:00:00.000000000",
                    "2019-10-01T00:00:00.000000000",
                    "2019-11-01T00:00:00.000000000",
                    "2019-12-01T00:00:00.000000000",
                    "2020-01-01T00:00:00.000000000",
                    "2020-02-01T00:00:00.000000000",
                    "2020-03-01T00:00:00.000000000",
                    "2020-04-01T00:00:00.000000000",
                    "2020-05-01T00:00:00.000000000",
                    "2020-06-01T00:00:00.000000000",
                    "2020-07-01T00:00:00.000000000",
                    "2020-08-01T00:00:00.000000000",
                    "2020-09-01T00:00:00.000000000",
                    "2020-10-01T00:00:00.000000000",
                    "2020-11-01T00:00:00.000000000",
                    "2020-12-01T00:00:00.000000000",
                    "2021-01-01T00:00:00.000000000",
                    "2021-02-01T00:00:00.000000000",
                    "2021-03-01T00:00:00.000000000",
                    "2021-04-01T00:00:00.000000000",
                    "2021-05-01T00:00:00.000000000",
                    "2021-06-01T00:00:00.000000000",
                    "2021-07-01T00:00:00.000000000",
                    "2021-08-01T00:00:00.000000000",
                    "2021-09-01T00:00:00.000000000",
                    "2021-10-01T00:00:00.000000000",
                    "2021-11-01T00:00:00.000000000",
                    "2021-12-01T00:00:00.000000000",
                    "2022-01-01T00:00:00.000000000",
                    "2022-02-01T00:00:00.000000000",
                    "2022-03-01T00:00:00.000000000",
                    "2022-04-01T00:00:00.000000000",
                    "2022-05-01T00:00:00.000000000",
                    "2022-06-01T00:00:00.000000000",
                    "2022-07-01T00:00:00.000000000",
                    "2022-08-01T00:00:00.000000000",
                    "2022-09-01T00:00:00.000000000",
                    "2022-10-01T00:00:00.000000000",
                    "2022-11-01T00:00:00.000000000",
                    "2022-12-01T00:00:00.000000000",
                    "2023-01-01T00:00:00.000000000",
                    "2023-02-01T00:00:00.000000000",
                    "2023-03-01T00:00:00.000000000",
                    "2023-04-01T00:00:00.000000000",
                    "2023-05-01T00:00:00.000000000",
                    "2023-06-01T00:00:00.000000000",
                    "2023-07-01T00:00:00.000000000",
                    "2023-08-01T00:00:00.000000000",
                    "2023-09-01T00:00:00.000000000",
                    "2023-10-01T00:00:00.000000000",
                    "2023-11-01T00:00:00.000000000",
                    "2023-12-01T00:00:00.000000000",
                    "2024-01-01T00:00:00.000000000",
                    "2024-02-01T00:00:00.000000000",
                    "2024-03-01T00:00:00.000000000",
                    "2024-04-01T00:00:00.000000000",
                    "2024-05-01T00:00:00.000000000",
                    "2024-06-01T00:00:00.000000000",
                    "2024-07-01T00:00:00.000000000",
                    "2024-08-01T00:00:00.000000000",
                    "2024-09-01T00:00:00.000000000",
                    "2024-10-01T00:00:00.000000000",
                    "2024-11-01T00:00:00.000000000",
                    "2024-12-01T00:00:00.000000000"
                  ],
                  "y": [
                    0.6542445237085291,
                    0.6026276704179885,
                    0.5726194388268575,
                    0.5714935800145715,
                    0.6018456372698887,
                    0.6177870956675885,
                    0.690906604148363,
                    0.6518187659007215,
                    0.678759272343812,
                    0.6871292929825346,
                    0.6843210650735322,
                    0.7217117114241274,
                    0.7096205207259833,
                    0.70008839804171,
                    0.6915519276794949,
                    0.6919298332525734,
                    0.6847837571738454,
                    0.7599250875026039,
                    0.7323464480701818,
                    0.7558680940140123,
                    0.7874761014604904,
                    0.7996638587076687,
                    0.8101430887173116,
                    0.8814286090465379,
                    0.8599644651320113,
                    0.8820262127615018,
                    0.8579174548099703,
                    0.8620848616080925,
                    0.831260064500929,
                    0.8999825785909416,
                    0.9062105587734525,
                    0.9127292840811082,
                    0.9195095038989326,
                    0.9094002306900608,
                    0.8718047812431649,
                    0.9063944159332517,
                    0.9048073804090088,
                    0.8933310714376971,
                    0.9097165841327068,
                    0.858636171532386,
                    0.8660489568370797,
                    0.9054051981685283,
                    0.9733477920707001,
                    1.0375485406648186,
                    0.989381164705065,
                    0.9780592337619457,
                    0.9845749740749288,
                    1.0811608654936729,
                    1.1304049080655845,
                    1.0867812437803959,
                    1.0557334154270197,
                    1.3378313885838578,
                    1.2611427529165637,
                    1.2066724287062751,
                    1.1742274814132925,
                    1.22103591322171,
                    1.2745891343414182,
                    1.1950949419953985,
                    1.196612412522464,
                    1.171684968018207,
                    1.154023223224304,
                    1.2005934215974252,
                    1.0742163746459779,
                    1.0928396801984996,
                    1.0457186925162356,
                    1.0833904371246306,
                    1.192288088905169,
                    1.2076054744167652,
                    1.221865419780225,
                    1.1699870249166564,
                    1.152477140221797,
                    1.12739566187694,
                    0.8539749291863664,
                    1.144184000362585,
                    1.1906269596861017,
                    1.1227927182484556,
                    1.090089260896347,
                    1.0777819626754,
                    1.116357322186634,
                    1.178443249418372,
                    1.2672459964805458,
                    1.1981008066769774,
                    1.150502600291852,
                    1.1513185457988784,
                    1.2616902974256392,
                    1.2956054989643835,
                    1.1888084536023933,
                    1.1383216527861866,
                    1.2005739813719902,
                    1.2400538111488033,
                    1.2720987419089778,
                    1.254272601141198,
                    1.284032001166901,
                    1.2442623601568195,
                    1.2426058350322913,
                    1.2571702625981613,
                    1.302477089192749,
                    1.2295602519376099,
                    1.1263429852180136,
                    1.0987679380906938,
                    1.172849055526941,
                    1.2077288557538968,
                    1.2490086506400273,
                    1.253529445846801,
                    1.2319076079672353,
                    1.2268300678009172,
                    1.2177501377387887,
                    1.2170856318376497
                  ]
                },
                {
                  "line": {
                    "color": "black",
                    "dash": "dot"
                  },
                  "mode": "lines",
                  "name": "Baseline",
                  "type": "scatter",
                  "x": [
                    "2016-01-01T00:00:00.000000000",
                    "2016-02-01T00:00:00.000000000",
                    "2016-03-01T00:00:00.000000000",
                    "2016-04-01T00:00:00.000000000",
                    "2016-05-01T00:00:00.000000000",
                    "2016-06-01T00:00:00.000000000",
                    "2016-07-01T00:00:00.000000000",
                    "2016-08-01T00:00:00.000000000",
                    "2016-09-01T00:00:00.000000000",
                    "2016-10-01T00:00:00.000000000",
                    "2016-11-01T00:00:00.000000000",
                    "2016-12-01T00:00:00.000000000",
                    "2017-01-01T00:00:00.000000000",
                    "2017-02-01T00:00:00.000000000",
                    "2017-03-01T00:00:00.000000000",
                    "2017-04-01T00:00:00.000000000",
                    "2017-05-01T00:00:00.000000000",
                    "2017-06-01T00:00:00.000000000",
                    "2017-07-01T00:00:00.000000000",
                    "2017-08-01T00:00:00.000000000",
                    "2017-09-01T00:00:00.000000000",
                    "2017-10-01T00:00:00.000000000",
                    "2017-11-01T00:00:00.000000000",
                    "2017-12-01T00:00:00.000000000",
                    "2018-01-01T00:00:00.000000000",
                    "2018-02-01T00:00:00.000000000",
                    "2018-03-01T00:00:00.000000000",
                    "2018-04-01T00:00:00.000000000",
                    "2018-05-01T00:00:00.000000000",
                    "2018-06-01T00:00:00.000000000",
                    "2018-07-01T00:00:00.000000000",
                    "2018-08-01T00:00:00.000000000",
                    "2018-09-01T00:00:00.000000000",
                    "2018-10-01T00:00:00.000000000",
                    "2018-11-01T00:00:00.000000000",
                    "2018-12-01T00:00:00.000000000",
                    "2019-01-01T00:00:00.000000000",
                    "2019-02-01T00:00:00.000000000",
                    "2019-03-01T00:00:00.000000000",
                    "2019-04-01T00:00:00.000000000",
                    "2019-05-01T00:00:00.000000000",
                    "2019-06-01T00:00:00.000000000",
                    "2019-07-01T00:00:00.000000000",
                    "2019-08-01T00:00:00.000000000",
                    "2019-09-01T00:00:00.000000000",
                    "2019-10-01T00:00:00.000000000",
                    "2019-11-01T00:00:00.000000000",
                    "2019-12-01T00:00:00.000000000",
                    "2020-01-01T00:00:00.000000000",
                    "2020-02-01T00:00:00.000000000",
                    "2020-03-01T00:00:00.000000000",
                    "2020-04-01T00:00:00.000000000",
                    "2020-05-01T00:00:00.000000000",
                    "2020-06-01T00:00:00.000000000",
                    "2020-07-01T00:00:00.000000000",
                    "2020-08-01T00:00:00.000000000",
                    "2020-09-01T00:00:00.000000000",
                    "2020-10-01T00:00:00.000000000",
                    "2020-11-01T00:00:00.000000000",
                    "2020-12-01T00:00:00.000000000",
                    "2021-01-01T00:00:00.000000000",
                    "2021-02-01T00:00:00.000000000",
                    "2021-03-01T00:00:00.000000000",
                    "2021-04-01T00:00:00.000000000",
                    "2021-05-01T00:00:00.000000000",
                    "2021-06-01T00:00:00.000000000",
                    "2021-07-01T00:00:00.000000000",
                    "2021-08-01T00:00:00.000000000",
                    "2021-09-01T00:00:00.000000000",
                    "2021-10-01T00:00:00.000000000",
                    "2021-11-01T00:00:00.000000000",
                    "2021-12-01T00:00:00.000000000",
                    "2022-01-01T00:00:00.000000000",
                    "2022-02-01T00:00:00.000000000",
                    "2022-03-01T00:00:00.000000000",
                    "2022-04-01T00:00:00.000000000",
                    "2022-05-01T00:00:00.000000000",
                    "2022-06-01T00:00:00.000000000",
                    "2022-07-01T00:00:00.000000000",
                    "2022-08-01T00:00:00.000000000",
                    "2022-09-01T00:00:00.000000000",
                    "2022-10-01T00:00:00.000000000",
                    "2022-11-01T00:00:00.000000000",
                    "2022-12-01T00:00:00.000000000",
                    "2023-01-01T00:00:00.000000000",
                    "2023-02-01T00:00:00.000000000",
                    "2023-03-01T00:00:00.000000000",
                    "2023-04-01T00:00:00.000000000",
                    "2023-05-01T00:00:00.000000000",
                    "2023-06-01T00:00:00.000000000",
                    "2023-07-01T00:00:00.000000000",
                    "2023-08-01T00:00:00.000000000",
                    "2023-09-01T00:00:00.000000000",
                    "2023-10-01T00:00:00.000000000",
                    "2023-11-01T00:00:00.000000000",
                    "2023-12-01T00:00:00.000000000",
                    "2024-01-01T00:00:00.000000000",
                    "2024-02-01T00:00:00.000000000",
                    "2024-03-01T00:00:00.000000000",
                    "2024-04-01T00:00:00.000000000",
                    "2024-05-01T00:00:00.000000000",
                    "2024-06-01T00:00:00.000000000",
                    "2024-07-01T00:00:00.000000000",
                    "2024-08-01T00:00:00.000000000",
                    "2024-09-01T00:00:00.000000000",
                    "2024-10-01T00:00:00.000000000",
                    "2024-11-01T00:00:00.000000000",
                    "2024-12-01T00:00:00.000000000"
                  ],
                  "y": [
                    0.5845254460496265,
                    0.5939392820628729,
                    0.6033531180761192,
                    0.6127669540893655,
                    0.6221807901026118,
                    0.6315946261158583,
                    0.6410084621291046,
                    0.6504222981423509,
                    0.6598361341555972,
                    0.6692499701688436,
                    0.6786638061820899,
                    0.6880776421953362,
                    0.6974914782085826,
                    0.7069053142218289,
                    0.7163191502350752,
                    0.7257329862483215,
                    0.7351468222615678,
                    0.7445606582748142,
                    0.7539744942880605,
                    0.7633883303013068,
                    0.7728021663145532,
                    0.7822160023277995,
                    0.7916298383410458,
                    0.8010436743542921,
                    0.8104575103675385,
                    0.8198713463807848,
                    0.8292851823940312,
                    0.8386990184072776,
                    0.8481128544205239,
                    0.8575266904337702,
                    0.8669405264470165,
                    0.8763543624602628,
                    0.8857681984735092,
                    0.8951820344867555,
                    0.9045958705000019,
                    0.9140097065132482,
                    0.9234235425264945,
                    0.9328373785397408,
                    0.9422512145529871,
                    0.9516650505662334,
                    0.9610788865794798,
                    0.9704927225927261,
                    0.9799065586059725,
                    0.9893203946192188,
                    0.9987342306324651,
                    1.0081480666457114,
                    1.0175619026589577,
                    1.026975738672204,
                    1.0363895746854506,
                    1.0458034106986969,
                    1.0552172467119432,
                    1.0646310827251895,
                    1.0740449187384358,
                    1.083458754751682,
                    1.0928725907649284,
                    1.102286426778175,
                    1.111700262791421,
                    1.1211140988046675,
                    1.1305279348179138,
                    1.13994177083116,
                    1.1493556068444064,
                    1.1587694428576527,
                    1.1681832788708992,
                    1.1775971148841453,
                    1.1870109508973918,
                    1.1964247869106381,
                    1.2058386229238844,
                    1.2152524589371307,
                    1.224666294950377,
                    1.2340801309636236,
                    1.2434939669768696,
                    1.2529078029901162,
                    1.2623216390033623,
                    1.2717354750166088,
                    1.281149311029855,
                    1.2905631470431014,
                    1.2999769830563477,
                    1.309390819069594,
                    1.3188046550828405,
                    1.3282184910960866,
                    1.337632327109333,
                    1.3470461631225794,
                    1.3564599991358257,
                    1.365873835149072,
                    1.3752876711623183,
                    1.3847015071755648,
                    1.394115343188811,
                    1.4035291792020574,
                    1.4129430152153037,
                    1.42235685122855,
                    1.4317706872417963,
                    1.4411845232550426,
                    1.4505983592682892,
                    1.4600121952815353,
                    1.4694260312947818,
                    1.478839867308028,
                    1.4882537033212744,
                    1.4976675393345207,
                    1.507081375347767,
                    1.5164952113610135,
                    1.5259090473742596,
                    1.535322883387506,
                    1.5447367194007522,
                    1.5541505554139987,
                    1.563564391427245,
                    1.5729782274404913,
                    1.5823920634537376,
                    1.591805899466984
                  ]
                },
                {
                  "line": {
                    "color": "purple"
                  },
                  "mode": "lines",
                  "name": "Full model",
                  "type": "scatter",
                  "x": [
                    "2016-01-01T00:00:00.000000000",
                    "2016-02-01T00:00:00.000000000",
                    "2016-03-01T00:00:00.000000000",
                    "2016-04-01T00:00:00.000000000",
                    "2016-05-01T00:00:00.000000000",
                    "2016-06-01T00:00:00.000000000",
                    "2016-07-01T00:00:00.000000000",
                    "2016-08-01T00:00:00.000000000",
                    "2016-09-01T00:00:00.000000000",
                    "2016-10-01T00:00:00.000000000",
                    "2016-11-01T00:00:00.000000000",
                    "2016-12-01T00:00:00.000000000",
                    "2017-01-01T00:00:00.000000000",
                    "2017-02-01T00:00:00.000000000",
                    "2017-03-01T00:00:00.000000000",
                    "2017-04-01T00:00:00.000000000",
                    "2017-05-01T00:00:00.000000000",
                    "2017-06-01T00:00:00.000000000",
                    "2017-07-01T00:00:00.000000000",
                    "2017-08-01T00:00:00.000000000",
                    "2017-09-01T00:00:00.000000000",
                    "2017-10-01T00:00:00.000000000",
                    "2017-11-01T00:00:00.000000000",
                    "2017-12-01T00:00:00.000000000",
                    "2018-01-01T00:00:00.000000000",
                    "2018-02-01T00:00:00.000000000",
                    "2018-03-01T00:00:00.000000000",
                    "2018-04-01T00:00:00.000000000",
                    "2018-05-01T00:00:00.000000000",
                    "2018-06-01T00:00:00.000000000",
                    "2018-07-01T00:00:00.000000000",
                    "2018-08-01T00:00:00.000000000",
                    "2018-09-01T00:00:00.000000000",
                    "2018-10-01T00:00:00.000000000",
                    "2018-11-01T00:00:00.000000000",
                    "2018-12-01T00:00:00.000000000",
                    "2019-01-01T00:00:00.000000000",
                    "2019-02-01T00:00:00.000000000",
                    "2019-03-01T00:00:00.000000000",
                    "2019-04-01T00:00:00.000000000",
                    "2019-05-01T00:00:00.000000000",
                    "2019-06-01T00:00:00.000000000",
                    "2019-07-01T00:00:00.000000000",
                    "2019-08-01T00:00:00.000000000",
                    "2019-09-01T00:00:00.000000000",
                    "2019-10-01T00:00:00.000000000",
                    "2019-11-01T00:00:00.000000000",
                    "2019-12-01T00:00:00.000000000",
                    "2020-01-01T00:00:00.000000000",
                    "2020-02-01T00:00:00.000000000",
                    "2020-03-01T00:00:00.000000000",
                    "2020-04-01T00:00:00.000000000",
                    "2020-05-01T00:00:00.000000000",
                    "2020-06-01T00:00:00.000000000",
                    "2020-07-01T00:00:00.000000000",
                    "2020-08-01T00:00:00.000000000",
                    "2020-09-01T00:00:00.000000000",
                    "2020-10-01T00:00:00.000000000",
                    "2020-11-01T00:00:00.000000000",
                    "2020-12-01T00:00:00.000000000",
                    "2021-01-01T00:00:00.000000000",
                    "2021-02-01T00:00:00.000000000",
                    "2021-03-01T00:00:00.000000000",
                    "2021-04-01T00:00:00.000000000",
                    "2021-05-01T00:00:00.000000000",
                    "2021-06-01T00:00:00.000000000",
                    "2021-07-01T00:00:00.000000000",
                    "2021-08-01T00:00:00.000000000",
                    "2021-09-01T00:00:00.000000000",
                    "2021-10-01T00:00:00.000000000",
                    "2021-11-01T00:00:00.000000000",
                    "2021-12-01T00:00:00.000000000",
                    "2022-01-01T00:00:00.000000000",
                    "2022-02-01T00:00:00.000000000",
                    "2022-03-01T00:00:00.000000000",
                    "2022-04-01T00:00:00.000000000",
                    "2022-05-01T00:00:00.000000000",
                    "2022-06-01T00:00:00.000000000",
                    "2022-07-01T00:00:00.000000000",
                    "2022-08-01T00:00:00.000000000",
                    "2022-09-01T00:00:00.000000000",
                    "2022-10-01T00:00:00.000000000",
                    "2022-11-01T00:00:00.000000000",
                    "2022-12-01T00:00:00.000000000",
                    "2023-01-01T00:00:00.000000000",
                    "2023-02-01T00:00:00.000000000",
                    "2023-03-01T00:00:00.000000000",
                    "2023-04-01T00:00:00.000000000",
                    "2023-05-01T00:00:00.000000000",
                    "2023-06-01T00:00:00.000000000",
                    "2023-07-01T00:00:00.000000000",
                    "2023-08-01T00:00:00.000000000",
                    "2023-09-01T00:00:00.000000000",
                    "2023-10-01T00:00:00.000000000",
                    "2023-11-01T00:00:00.000000000",
                    "2023-12-01T00:00:00.000000000",
                    "2024-01-01T00:00:00.000000000",
                    "2024-02-01T00:00:00.000000000",
                    "2024-03-01T00:00:00.000000000",
                    "2024-04-01T00:00:00.000000000",
                    "2024-05-01T00:00:00.000000000",
                    "2024-06-01T00:00:00.000000000",
                    "2024-07-01T00:00:00.000000000",
                    "2024-08-01T00:00:00.000000000",
                    "2024-09-01T00:00:00.000000000",
                    "2024-10-01T00:00:00.000000000",
                    "2024-11-01T00:00:00.000000000",
                    "2024-12-01T00:00:00.000000000"
                  ],
                  "y": [
                    0.5845254460496265,
                    0.5939392820628729,
                    0.6033531180761192,
                    0.6127669540893655,
                    0.6221807901026118,
                    0.6315946261158583,
                    0.6410084621291046,
                    0.6504222981423509,
                    0.6598361341555972,
                    0.6692499701688436,
                    0.6786638061820899,
                    0.6880776421953362,
                    0.6974914782085826,
                    0.7069053142218289,
                    0.7163191502350752,
                    0.7257329862483215,
                    0.7351468222615678,
                    0.7445606582748142,
                    0.7539744942880605,
                    0.7633883303013068,
                    0.7728021663145532,
                    0.7822160023277995,
                    0.7916298383410458,
                    0.8010436743542921,
                    0.8104575103675385,
                    0.8198713463807848,
                    0.8292851823940312,
                    0.8386990184072776,
                    0.8481128544205239,
                    0.8575266904337702,
                    0.8669405264470165,
                    0.8763543624602628,
                    0.8857681984735092,
                    0.8951820344867555,
                    0.9045958705000019,
                    0.9140097065132482,
                    0.9234235425264945,
                    0.9328373785397408,
                    0.9422512145529871,
                    0.9516650505662334,
                    0.9610788865794798,
                    0.9704927225927261,
                    0.9799065586059725,
                    0.9893203946192188,
                    0.9987342306324651,
                    1.0081480666457114,
                    1.0175619026589577,
                    1.026975738672204,
                    1.0363895746854506,
                    1.0458034106986969,
                    1.2156629212871053,
                    1.2120791183211204,
                    1.2084953153551352,
                    1.2049115123891503,
                    1.2013277094231654,
                    1.1977439064571807,
                    1.1941601034911955,
                    1.1905763005252108,
                    1.1869924975592256,
                    1.1834086945932407,
                    1.1798248916272558,
                    1.1762410886612709,
                    1.1181452244492838,
                    1.1189058867362143,
                    1.119666549023145,
                    1.1204272113100755,
                    1.1211878735970062,
                    1.1219485358839367,
                    1.1227091981708675,
                    1.1234698604577982,
                    1.1242305227447285,
                    1.1249911850316594,
                    1.1257518473185897,
                    1.1265125096055204,
                    1.1272731718924511,
                    1.162228749919907,
                    1.1645592580758026,
                    1.1668897662316984,
                    1.1692202743875941,
                    1.1715507825434894,
                    1.1738812906993852,
                    1.1762117988552807,
                    1.1785423070111762,
                    1.180872815167072,
                    1.1832033233229675,
                    1.1855338314788633,
                    1.1878643396347586,
                    1.1901948477906543,
                    1.19252535594655,
                    1.1948558641024456,
                    1.1971863722583411,
                    1.1995168804142367,
                    1.2018473885701324,
                    1.2041778967260277,
                    1.2065084048819237,
                    1.2088389130378192,
                    1.2111694211937147,
                    1.2134999293496103,
                    1.215830437505506,
                    1.2181609456614018,
                    1.220491453817297,
                    1.2228219619731928,
                    1.2251524701290881,
                    1.2274829782849839,
                    1.2298134864408796,
                    1.2321439945967751,
                    1.2344745027526707,
                    1.2368050109085662
                  ]
                }
              ],
              "layout": {
                "annotations": [
                  {
                    "arrowhead": 2,
                    "ax": 30,
                    "ay": -40,
                    "showarrow": true,
                    "text": "Pandemia",
                    "x": "2020-03-01",
                    "y": 1.3378313885838578
                  },
                  {
                    "arrowhead": 2,
                    "ax": 30,
                    "ay": -40,
                    "showarrow": true,
                    "text": "Pos Pandemia",
                    "x": "2022-04-01",
                    "y": 1.3378313885838578
                  }
                ],
                "legend": {
                  "title": {
                    "text": "Legend"
                  }
                },
                "shapes": [
                  {
                    "fillcolor": "rgba(0, 0, 0, 0.25)",
                    "layer": "below",
                    "line": {
                      "width": 0
                    },
                    "opacity": 0.3,
                    "type": "rect",
                    "x0": "2020-03-01",
                    "x1": "2020-07-01",
                    "xref": "x",
                    "y0": 0,
                    "y1": 1,
                    "yref": "paper"
                  },
                  {
                    "fillcolor": "rgba(0, 0, 0, 0.25)",
                    "layer": "below",
                    "line": {
                      "width": 0
                    },
                    "opacity": 0.3,
                    "type": "rect",
                    "x0": "2021-04-01",
                    "x1": "2021-05-01",
                    "xref": "x",
                    "y0": 0,
                    "y1": 1,
                    "yref": "paper"
                  },
                  {
                    "line": {
                      "color": "black",
                      "dash": "dash"
                    },
                    "type": "line",
                    "x0": "2020-03-01",
                    "x1": "2020-03-01",
                    "y0": 0.5714935800145715,
                    "y1": 1.3378313885838578
                  },
                  {
                    "line": {
                      "color": "black",
                      "dash": "dash"
                    },
                    "type": "line",
                    "x0": "2022-04-01",
                    "x1": "2022-04-01",
                    "y0": 0.5714935800145715,
                    "y1": 1.3378313885838578
                  }
                ],
                "template": {
                  "data": {
                    "bar": [
                      {
                        "error_x": {
                          "color": "#2a3f5f"
                        },
                        "error_y": {
                          "color": "#2a3f5f"
                        },
                        "marker": {
                          "line": {
                            "color": "#E5ECF6",
                            "width": 0.5
                          },
                          "pattern": {
                            "fillmode": "overlay",
                            "size": 10,
                            "solidity": 0.2
                          }
                        },
                        "type": "bar"
                      }
                    ],
                    "barpolar": [
                      {
                        "marker": {
                          "line": {
                            "color": "#E5ECF6",
                            "width": 0.5
                          },
                          "pattern": {
                            "fillmode": "overlay",
                            "size": 10,
                            "solidity": 0.2
                          }
                        },
                        "type": "barpolar"
                      }
                    ],
                    "carpet": [
                      {
                        "aaxis": {
                          "endlinecolor": "#2a3f5f",
                          "gridcolor": "white",
                          "linecolor": "white",
                          "minorgridcolor": "white",
                          "startlinecolor": "#2a3f5f"
                        },
                        "baxis": {
                          "endlinecolor": "#2a3f5f",
                          "gridcolor": "white",
                          "linecolor": "white",
                          "minorgridcolor": "white",
                          "startlinecolor": "#2a3f5f"
                        },
                        "type": "carpet"
                      }
                    ],
                    "choropleth": [
                      {
                        "colorbar": {
                          "outlinewidth": 0,
                          "ticks": ""
                        },
                        "type": "choropleth"
                      }
                    ],
                    "contour": [
                      {
                        "colorbar": {
                          "outlinewidth": 0,
                          "ticks": ""
                        },
                        "colorscale": [
                          [
                            0,
                            "#0d0887"
                          ],
                          [
                            0.1111111111111111,
                            "#46039f"
                          ],
                          [
                            0.2222222222222222,
                            "#7201a8"
                          ],
                          [
                            0.3333333333333333,
                            "#9c179e"
                          ],
                          [
                            0.4444444444444444,
                            "#bd3786"
                          ],
                          [
                            0.5555555555555556,
                            "#d8576b"
                          ],
                          [
                            0.6666666666666666,
                            "#ed7953"
                          ],
                          [
                            0.7777777777777778,
                            "#fb9f3a"
                          ],
                          [
                            0.8888888888888888,
                            "#fdca26"
                          ],
                          [
                            1,
                            "#f0f921"
                          ]
                        ],
                        "type": "contour"
                      }
                    ],
                    "contourcarpet": [
                      {
                        "colorbar": {
                          "outlinewidth": 0,
                          "ticks": ""
                        },
                        "type": "contourcarpet"
                      }
                    ],
                    "heatmap": [
                      {
                        "colorbar": {
                          "outlinewidth": 0,
                          "ticks": ""
                        },
                        "colorscale": [
                          [
                            0,
                            "#0d0887"
                          ],
                          [
                            0.1111111111111111,
                            "#46039f"
                          ],
                          [
                            0.2222222222222222,
                            "#7201a8"
                          ],
                          [
                            0.3333333333333333,
                            "#9c179e"
                          ],
                          [
                            0.4444444444444444,
                            "#bd3786"
                          ],
                          [
                            0.5555555555555556,
                            "#d8576b"
                          ],
                          [
                            0.6666666666666666,
                            "#ed7953"
                          ],
                          [
                            0.7777777777777778,
                            "#fb9f3a"
                          ],
                          [
                            0.8888888888888888,
                            "#fdca26"
                          ],
                          [
                            1,
                            "#f0f921"
                          ]
                        ],
                        "type": "heatmap"
                      }
                    ],
                    "heatmapgl": [
                      {
                        "colorbar": {
                          "outlinewidth": 0,
                          "ticks": ""
                        },
                        "colorscale": [
                          [
                            0,
                            "#0d0887"
                          ],
                          [
                            0.1111111111111111,
                            "#46039f"
                          ],
                          [
                            0.2222222222222222,
                            "#7201a8"
                          ],
                          [
                            0.3333333333333333,
                            "#9c179e"
                          ],
                          [
                            0.4444444444444444,
                            "#bd3786"
                          ],
                          [
                            0.5555555555555556,
                            "#d8576b"
                          ],
                          [
                            0.6666666666666666,
                            "#ed7953"
                          ],
                          [
                            0.7777777777777778,
                            "#fb9f3a"
                          ],
                          [
                            0.8888888888888888,
                            "#fdca26"
                          ],
                          [
                            1,
                            "#f0f921"
                          ]
                        ],
                        "type": "heatmapgl"
                      }
                    ],
                    "histogram": [
                      {
                        "marker": {
                          "pattern": {
                            "fillmode": "overlay",
                            "size": 10,
                            "solidity": 0.2
                          }
                        },
                        "type": "histogram"
                      }
                    ],
                    "histogram2d": [
                      {
                        "colorbar": {
                          "outlinewidth": 0,
                          "ticks": ""
                        },
                        "colorscale": [
                          [
                            0,
                            "#0d0887"
                          ],
                          [
                            0.1111111111111111,
                            "#46039f"
                          ],
                          [
                            0.2222222222222222,
                            "#7201a8"
                          ],
                          [
                            0.3333333333333333,
                            "#9c179e"
                          ],
                          [
                            0.4444444444444444,
                            "#bd3786"
                          ],
                          [
                            0.5555555555555556,
                            "#d8576b"
                          ],
                          [
                            0.6666666666666666,
                            "#ed7953"
                          ],
                          [
                            0.7777777777777778,
                            "#fb9f3a"
                          ],
                          [
                            0.8888888888888888,
                            "#fdca26"
                          ],
                          [
                            1,
                            "#f0f921"
                          ]
                        ],
                        "type": "histogram2d"
                      }
                    ],
                    "histogram2dcontour": [
                      {
                        "colorbar": {
                          "outlinewidth": 0,
                          "ticks": ""
                        },
                        "colorscale": [
                          [
                            0,
                            "#0d0887"
                          ],
                          [
                            0.1111111111111111,
                            "#46039f"
                          ],
                          [
                            0.2222222222222222,
                            "#7201a8"
                          ],
                          [
                            0.3333333333333333,
                            "#9c179e"
                          ],
                          [
                            0.4444444444444444,
                            "#bd3786"
                          ],
                          [
                            0.5555555555555556,
                            "#d8576b"
                          ],
                          [
                            0.6666666666666666,
                            "#ed7953"
                          ],
                          [
                            0.7777777777777778,
                            "#fb9f3a"
                          ],
                          [
                            0.8888888888888888,
                            "#fdca26"
                          ],
                          [
                            1,
                            "#f0f921"
                          ]
                        ],
                        "type": "histogram2dcontour"
                      }
                    ],
                    "mesh3d": [
                      {
                        "colorbar": {
                          "outlinewidth": 0,
                          "ticks": ""
                        },
                        "type": "mesh3d"
                      }
                    ],
                    "parcoords": [
                      {
                        "line": {
                          "colorbar": {
                            "outlinewidth": 0,
                            "ticks": ""
                          }
                        },
                        "type": "parcoords"
                      }
                    ],
                    "pie": [
                      {
                        "automargin": true,
                        "type": "pie"
                      }
                    ],
                    "scatter": [
                      {
                        "fillpattern": {
                          "fillmode": "overlay",
                          "size": 10,
                          "solidity": 0.2
                        },
                        "type": "scatter"
                      }
                    ],
                    "scatter3d": [
                      {
                        "line": {
                          "colorbar": {
                            "outlinewidth": 0,
                            "ticks": ""
                          }
                        },
                        "marker": {
                          "colorbar": {
                            "outlinewidth": 0,
                            "ticks": ""
                          }
                        },
                        "type": "scatter3d"
                      }
                    ],
                    "scattercarpet": [
                      {
                        "marker": {
                          "colorbar": {
                            "outlinewidth": 0,
                            "ticks": ""
                          }
                        },
                        "type": "scattercarpet"
                      }
                    ],
                    "scattergeo": [
                      {
                        "marker": {
                          "colorbar": {
                            "outlinewidth": 0,
                            "ticks": ""
                          }
                        },
                        "type": "scattergeo"
                      }
                    ],
                    "scattergl": [
                      {
                        "marker": {
                          "colorbar": {
                            "outlinewidth": 0,
                            "ticks": ""
                          }
                        },
                        "type": "scattergl"
                      }
                    ],
                    "scattermapbox": [
                      {
                        "marker": {
                          "colorbar": {
                            "outlinewidth": 0,
                            "ticks": ""
                          }
                        },
                        "type": "scattermapbox"
                      }
                    ],
                    "scatterpolar": [
                      {
                        "marker": {
                          "colorbar": {
                            "outlinewidth": 0,
                            "ticks": ""
                          }
                        },
                        "type": "scatterpolar"
                      }
                    ],
                    "scatterpolargl": [
                      {
                        "marker": {
                          "colorbar": {
                            "outlinewidth": 0,
                            "ticks": ""
                          }
                        },
                        "type": "scatterpolargl"
                      }
                    ],
                    "scatterternary": [
                      {
                        "marker": {
                          "colorbar": {
                            "outlinewidth": 0,
                            "ticks": ""
                          }
                        },
                        "type": "scatterternary"
                      }
                    ],
                    "surface": [
                      {
                        "colorbar": {
                          "outlinewidth": 0,
                          "ticks": ""
                        },
                        "colorscale": [
                          [
                            0,
                            "#0d0887"
                          ],
                          [
                            0.1111111111111111,
                            "#46039f"
                          ],
                          [
                            0.2222222222222222,
                            "#7201a8"
                          ],
                          [
                            0.3333333333333333,
                            "#9c179e"
                          ],
                          [
                            0.4444444444444444,
                            "#bd3786"
                          ],
                          [
                            0.5555555555555556,
                            "#d8576b"
                          ],
                          [
                            0.6666666666666666,
                            "#ed7953"
                          ],
                          [
                            0.7777777777777778,
                            "#fb9f3a"
                          ],
                          [
                            0.8888888888888888,
                            "#fdca26"
                          ],
                          [
                            1,
                            "#f0f921"
                          ]
                        ],
                        "type": "surface"
                      }
                    ],
                    "table": [
                      {
                        "cells": {
                          "fill": {
                            "color": "#EBF0F8"
                          },
                          "line": {
                            "color": "white"
                          }
                        },
                        "header": {
                          "fill": {
                            "color": "#C8D4E3"
                          },
                          "line": {
                            "color": "white"
                          }
                        },
                        "type": "table"
                      }
                    ]
                  },
                  "layout": {
                    "annotationdefaults": {
                      "arrowcolor": "#2a3f5f",
                      "arrowhead": 0,
                      "arrowwidth": 1
                    },
                    "autotypenumbers": "strict",
                    "coloraxis": {
                      "colorbar": {
                        "outlinewidth": 0,
                        "ticks": ""
                      }
                    },
                    "colorscale": {
                      "diverging": [
                        [
                          0,
                          "#8e0152"
                        ],
                        [
                          0.1,
                          "#c51b7d"
                        ],
                        [
                          0.2,
                          "#de77ae"
                        ],
                        [
                          0.3,
                          "#f1b6da"
                        ],
                        [
                          0.4,
                          "#fde0ef"
                        ],
                        [
                          0.5,
                          "#f7f7f7"
                        ],
                        [
                          0.6,
                          "#e6f5d0"
                        ],
                        [
                          0.7,
                          "#b8e186"
                        ],
                        [
                          0.8,
                          "#7fbc41"
                        ],
                        [
                          0.9,
                          "#4d9221"
                        ],
                        [
                          1,
                          "#276419"
                        ]
                      ],
                      "sequential": [
                        [
                          0,
                          "#0d0887"
                        ],
                        [
                          0.1111111111111111,
                          "#46039f"
                        ],
                        [
                          0.2222222222222222,
                          "#7201a8"
                        ],
                        [
                          0.3333333333333333,
                          "#9c179e"
                        ],
                        [
                          0.4444444444444444,
                          "#bd3786"
                        ],
                        [
                          0.5555555555555556,
                          "#d8576b"
                        ],
                        [
                          0.6666666666666666,
                          "#ed7953"
                        ],
                        [
                          0.7777777777777778,
                          "#fb9f3a"
                        ],
                        [
                          0.8888888888888888,
                          "#fdca26"
                        ],
                        [
                          1,
                          "#f0f921"
                        ]
                      ],
                      "sequentialminus": [
                        [
                          0,
                          "#0d0887"
                        ],
                        [
                          0.1111111111111111,
                          "#46039f"
                        ],
                        [
                          0.2222222222222222,
                          "#7201a8"
                        ],
                        [
                          0.3333333333333333,
                          "#9c179e"
                        ],
                        [
                          0.4444444444444444,
                          "#bd3786"
                        ],
                        [
                          0.5555555555555556,
                          "#d8576b"
                        ],
                        [
                          0.6666666666666666,
                          "#ed7953"
                        ],
                        [
                          0.7777777777777778,
                          "#fb9f3a"
                        ],
                        [
                          0.8888888888888888,
                          "#fdca26"
                        ],
                        [
                          1,
                          "#f0f921"
                        ]
                      ]
                    },
                    "colorway": [
                      "#636efa",
                      "#EF553B",
                      "#00cc96",
                      "#ab63fa",
                      "#FFA15A",
                      "#19d3f3",
                      "#FF6692",
                      "#B6E880",
                      "#FF97FF",
                      "#FECB52"
                    ],
                    "font": {
                      "color": "#2a3f5f"
                    },
                    "geo": {
                      "bgcolor": "white",
                      "lakecolor": "white",
                      "landcolor": "#E5ECF6",
                      "showlakes": true,
                      "showland": true,
                      "subunitcolor": "white"
                    },
                    "hoverlabel": {
                      "align": "left"
                    },
                    "hovermode": "closest",
                    "mapbox": {
                      "style": "light"
                    },
                    "paper_bgcolor": "white",
                    "plot_bgcolor": "#E5ECF6",
                    "polar": {
                      "angularaxis": {
                        "gridcolor": "white",
                        "linecolor": "white",
                        "ticks": ""
                      },
                      "bgcolor": "#E5ECF6",
                      "radialaxis": {
                        "gridcolor": "white",
                        "linecolor": "white",
                        "ticks": ""
                      }
                    },
                    "scene": {
                      "xaxis": {
                        "backgroundcolor": "#E5ECF6",
                        "gridcolor": "white",
                        "gridwidth": 2,
                        "linecolor": "white",
                        "showbackground": true,
                        "ticks": "",
                        "zerolinecolor": "white"
                      },
                      "yaxis": {
                        "backgroundcolor": "#E5ECF6",
                        "gridcolor": "white",
                        "gridwidth": 2,
                        "linecolor": "white",
                        "showbackground": true,
                        "ticks": "",
                        "zerolinecolor": "white"
                      },
                      "zaxis": {
                        "backgroundcolor": "#E5ECF6",
                        "gridcolor": "white",
                        "gridwidth": 2,
                        "linecolor": "white",
                        "showbackground": true,
                        "ticks": "",
                        "zerolinecolor": "white"
                      }
                    },
                    "shapedefaults": {
                      "line": {
                        "color": "#2a3f5f"
                      }
                    },
                    "ternary": {
                      "aaxis": {
                        "gridcolor": "white",
                        "linecolor": "white",
                        "ticks": ""
                      },
                      "baxis": {
                        "gridcolor": "white",
                        "linecolor": "white",
                        "ticks": ""
                      },
                      "bgcolor": "#E5ECF6",
                      "caxis": {
                        "gridcolor": "white",
                        "linecolor": "white",
                        "ticks": ""
                      }
                    },
                    "title": {
                      "x": 0.05
                    },
                    "xaxis": {
                      "automargin": true,
                      "gridcolor": "white",
                      "linecolor": "white",
                      "ticks": "",
                      "title": {
                        "standoff": 15
                      },
                      "zerolinecolor": "white",
                      "zerolinewidth": 2
                    },
                    "yaxis": {
                      "automargin": true,
                      "gridcolor": "white",
                      "linecolor": "white",
                      "ticks": "",
                      "title": {
                        "standoff": 15
                      },
                      "zerolinecolor": "white",
                      "zerolinewidth": 2
                    }
                  }
                },
                "title": {
                  "text": "F00-F09 - Transtornos mentais orgânicos, inclusive os sintomáticos"
                },
                "xaxis": {
                  "title": {
                    "text": "Time"
                  }
                },
                "yaxis": {
                  "title": {
                    "text": "Value"
                  }
                }
              }
            }
          },
          "metadata": {},
          "output_type": "display_data"
        }
      ],
      "source": [
        "for variable in results:\n",
        "    variable_result = results[variable]\n",
        "    variable_df = RegressionDF[RegressionDF[VARIABLE_COLUMN_NAME] == variable]\n",
        "    plot_with_all_dummies(variable,\n",
        "                            variable_df,\n",
        "                            variable_result,\n",
        "                            exclude_coeffs_by_prefix=[\"month_\", 'quarter_',],\n",
        "                            line_events = {\n",
        "                                'Choque_Inicial':        [CHOQUE_INICIAL_START_DATE, CHOQUE_INICIAL_END_DATE, \"rgba(0, 0, 0, 0.25)\", False],\n",
        "                                'Lockdown_2021':         [SECONDLOCKDOWN_START_DATE, SECONDLOCKDOWN_END_DATE, \"rgba(0, 0, 0, 0.25)\", False],\n",
        "                                'Pandemia':         [PANDEMIA_START_DATE, PANDEMIA_END_DATE, None, True],\n",
        "                                'Pos Pandemia':      [POS_PANDEMIA_START_DATE, END_DATE, None, True]\n",
        "                            },\n",
        "                            #slope_coef_str='PrePandemia_Trend'\n",
        "\n",
        "\n",
        "\n",
        "                            )\n"
      ]
    }
  ],
  "metadata": {
    "colab": {
      "collapsed_sections": [
        "K8HZg-VlNIXd",
        "WcYnNsL4NIXl",
        "2IiKsqpaNIXu"
      ],
      "provenance": [],
      "toc_visible": true
    },
    "kernelspec": {
      "display_name": "Python 3",
      "name": "python3"
    },
    "language_info": {
      "codemirror_mode": {
        "name": "ipython",
        "version": 3
      },
      "file_extension": ".py",
      "mimetype": "text/x-python",
      "name": "python",
      "nbconvert_exporter": "python",
      "pygments_lexer": "ipython3",
      "version": "3.12.5"
    }
  },
  "nbformat": 4,
  "nbformat_minor": 0
}
