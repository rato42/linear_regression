{
 "cells": [
  {
   "cell_type": "markdown",
   "metadata": {
    "colab_type": "text",
    "id": "view-in-github"
   },
   "source": [
    "<a href=\"https://colab.research.google.com/github/rato42/linear_regression/blob/unstable-yeah-sure/CLASSBASED_new_linear_regression.ipynb\" target=\"_parent\"><img src=\"https://colab.research.google.com/assets/colab-badge.svg\" alt=\"Open In Colab\"/></a>"
   ]
  },
  {
   "cell_type": "markdown",
   "metadata": {
    "id": "EwX1y9X8yfED"
   },
   "source": [
    "# Imports\n"
   ]
  },
  {
   "cell_type": "code",
   "execution_count": 261,
   "metadata": {
    "colab": {
     "base_uri": "https://localhost:8080/"
    },
    "id": "sOJUZR18gkp5",
    "outputId": "9a15ac2a-9b78-4df2-dfd1-fdc8665336d5"
   },
   "outputs": [
    {
     "name": "stdout",
     "output_type": "stream",
     "text": [
      "Running outside Colab (VS Code/local)\n"
     ]
    }
   ],
   "source": [
    "import sys\n",
    "\n",
    "# Detect Colab environment\n",
    "IN_COLAB = \"google.colab\" in sys.modules\n",
    "\n",
    "if IN_COLAB:\n",
    "    from google.colab import drive, auth\n",
    "    from googleapiclient.discovery import build\n",
    "    from googleapiclient.http import MediaIoBaseDownload\n",
    "\n",
    "    auth.authenticate_user()\n",
    "    drive.mount(\"/content/drive\")\n",
    "else:\n",
    "    from oauth2client.service_account import ServiceAccountCredentials\n",
    "\n",
    "    print(\"Running outside Colab (VS Code/local)\")\n",
    "\n",
    "try:\n",
    "    import gspread\n",
    "except ModuleNotFoundError:\n",
    "    if IN_COLAB and \"google.colab\" in str(get_ipython()):\n",
    "        %pip install gspread\n",
    "    import gspread\n",
    "\n",
    "from gspread_dataframe import set_with_dataframe"
   ]
  },
  {
   "cell_type": "code",
   "execution_count": 262,
   "metadata": {
    "id": "uc_HtA6xvVE2"
   },
   "outputs": [],
   "source": [
    "\n",
    "import os\n",
    "\n",
    "import time\n",
    "\n",
    "import math\n",
    "import scipy.stats as stats\n",
    "import pandas as pd\n",
    "import numpy as np\n",
    "\n",
    "import pwlf\n",
    "\n",
    "from scipy.stats import linregress, ttest_ind, ttest_rel, ttest_1samp\n",
    "import matplotlib.pyplot as plt\n",
    "import re\n",
    "from matplotlib.font_manager import FontProperties\n",
    "import statsmodels.formula.api as smf\n",
    "import statsmodels.api as sm\n",
    "\n",
    "from datetime import datetime, timedelta\n",
    "\n",
    "from statsmodels.stats.stattools import durbin_watson\n",
    "from statsmodels.stats.diagnostic import acorr_ljungbox\n",
    "from statsmodels.tools.tools import add_constant\n",
    "from statsmodels.tsa.arima.model import ARIMA\n",
    "\n",
    "from sklearn.preprocessing import StandardScaler\n",
    "from sklearn.model_selection import train_test_split\n",
    "from sklearn.metrics import r2_score, mean_squared_error\n",
    "from sklearn.pipeline import Pipeline\n",
    "from sklearn.base import BaseEstimator, TransformerMixin\n",
    "from sklearn.preprocessing import FunctionTransformer\n",
    "\n",
    "from dateutil.relativedelta import relativedelta\n",
    "\n",
    "from sklearn import set_config\n",
    "set_config(display=\"diagram\")\n",
    "\n",
    "import logging\n",
    "from typing import Dict, Any\n",
    "\n",
    "import io"
   ]
  },
  {
   "cell_type": "markdown",
   "metadata": {
    "id": "M6pmUGm9ycJ_"
   },
   "source": [
    "# LOAD --- data from gsheet if colab or local\n"
   ]
  },
  {
   "cell_type": "code",
   "execution_count": 263,
   "metadata": {
    "id": "r6jsbsBZvWHp"
   },
   "outputs": [],
   "source": [
    "dados_brutos = None\n",
    "output_wksheet = None\n",
    "\n",
    "input_path = \"https://docs.google.com/spreadsheets/d/1m3eEaxWT4Unb8jBZWKjiLivavfA0x3PT1F1Rz1eXwVE/edit?gid=0\"\n",
    "output_path = \"https://docs.google.com/spreadsheets/d/1RzC3DfKNUwYA-qfUN0i53hUwRkWGMBOCoYQqdqG4MQY/edit?gid=0\"\n",
    "\n",
    "local_input_path = (\n",
    "    #\"D:\\\\CodeStuff\\\\Stats\\\\colab_linear_regression\\\\linear_regression\\\\input\\\\input.csv\" ### poa\n",
    "    \"D:\\\\CodeStuff\\\\Stats\\\\colab_linear_regression\\\\linear_regression\\\\input\\\\input.xlsx\" ### rs\n",
    ")\n",
    "\n",
    "if IN_COLAB:\n",
    "    import gspread\n",
    "    from google.auth import default\n",
    "\n",
    "    auth.authenticate_user()\n",
    "    creds, _ = default()\n",
    "    gc = gspread.authorize(creds)\n",
    "    workbook = gc.open_by_url(input_path)\n",
    "    worksheets = workbook.worksheets()\n",
    "    output_wksheet = gc.open_by_url(output_path)\n",
    "    dados_brutos = worksheets[0].get_all_values()\n",
    "else:\n",
    "    try:\n",
    "        dados_brutos = pd.read_csv(local_input_path, header=None).values.tolist()\n",
    "    except:\n",
    "        dados_brutos = pd.read_excel(local_input_path, header=None).values.tolist()"
   ]
  },
  {
   "cell_type": "markdown",
   "metadata": {
    "id": "SAATuGWcyPmG"
   },
   "source": [
    "# ARGS --- Define Args\n"
   ]
  },
  {
   "cell_type": "code",
   "execution_count": 264,
   "metadata": {},
   "outputs": [],
   "source": [
    "# TODO: Adicionar dummy de interação para comparar SM e outros atendimentos\n",
    "\n",
    "# TODO: Observar pq o step pode ficar positivo ou negativo,se eu mantenho o index de tempo na trend. \n",
    "# De fato o coeficiente da trend se mantem igual, apenas o step se modifica"
   ]
  },
  {
   "cell_type": "code",
   "execution_count": 265,
   "metadata": {
    "id": "N43j0vRL3QsP"
   },
   "outputs": [],
   "source": [
    "### ARGS\n",
    "\n",
    "INDEPENDENT_VAR = \"periodo\"  ### Y\n",
    "DEPENDENT_VAR = \"valores\"  ### X\n",
    "DATE_NAME = \"date\"\n",
    "VARIABLE_COLUMN_NAME = \"variavel\"\n",
    "LOCAL_OUTPUT_PATH = \"D:\\\\CodeStuff\\\\Stats\\\\colab_linear_regression\\\\linear_regression\\\\output\\\\output.xlsx\"\n",
    "\n",
    "\n",
    "\n",
    "######### DUMMIES ##########\n",
    "\n",
    "INCLUDE_MONTH_DUMMIES = True\n",
    "\n",
    "### as quedas do primeiro lockdown nao são tão claras e a recuperação e queda parecem ser mais graduais\n",
    "CHOQUE_INICIAL_START_DATE= \"2020-01-01\"\n",
    "CHOQUE_INICIAL_END_DATE = \"2020-07-01\"#\"2020-08-01\" #month based \n",
    "\n",
    "### abril e maio tiveram quedas bem identificaveis nos atendimentos em todas variavieis\n",
    "SECONDLOCKDOWN_START_DATE = \"2021-04-01\"\n",
    "SECONDLOCKDOWN_END_DATE = '2021-05-01' #month based  #'2021-04-01'#quarter_based #\n",
    "\n",
    "POS_PANDEMIA_START_DATE = \"2020-08-01\"\n",
    "END_DATE = \"2024-12-01\"#\"2024-12-01\"  ### data final para o modelo, se for maior que a data do dataframe, o modelo vai dar erro\n",
    "\n",
    "POS_PANDEMIA_EXCLUDE_RANGES = [(SECONDLOCKDOWN_START_DATE, SECONDLOCKDOWN_END_DATE)]\n",
    "\n",
    "\n",
    "\n",
    "\n",
    "DUMMY_ARGS =        {\n",
    "        'Choque_Inicial': {\"start_date\": CHOQUE_INICIAL_START_DATE, \"end_date\": CHOQUE_INICIAL_END_DATE},\n",
    "        'Lockdown_2021': {\"start_date\": SECONDLOCKDOWN_START_DATE, \"end_date\": SECONDLOCKDOWN_END_DATE},\n",
    "        'Step_PosPandemia': {\"start_date\": POS_PANDEMIA_START_DATE, \"end_date\": END_DATE,'exclude_ranges': POS_PANDEMIA_EXCLUDE_RANGES, 'plot':False, 'step': True,},\n",
    "        'Trend_PosPandemia' : {\"start_date\": POS_PANDEMIA_START_DATE, \"end_date\": END_DATE,'exclude_ranges': POS_PANDEMIA_EXCLUDE_RANGES, 'plot': True, 'add_time_trend': True, 'keep_period_index': True, 'step': False}, \n",
    "        }\n",
    "\n",
    "##############################\n",
    "\n",
    "\n",
    "PREPROCESSOR_ARGS = {\n",
    "    'DateRange': [2016, 2024],  \n",
    "    'FrequencyDateGroup' : 'M',\n",
    "    'DummyArgs' : DUMMY_ARGS,\n",
    "}\n",
    "\n",
    "\n",
    "###### PROCESSING ######\n",
    "MODEL_FORMULA = DEPENDENT_VAR + \"~\" + INDEPENDENT_VAR \n",
    "\n",
    "if INCLUDE_MONTH_DUMMIES:\n",
    "    month_dummies = []\n",
    "    for i in range(1, 12):\n",
    "        month_dummies.append(\"month_\" + str(i+1))\n",
    "    for month in month_dummies:\n",
    "        MODEL_FORMULA += \" + \" + month\n",
    "\n",
    "if DUMMY_ARGS:\n",
    "    for key in DUMMY_ARGS.keys():\n",
    "            MODEL_FORMULA += \" + \" + key\n",
    "\n",
    "\n",
    "PROCESSOR_ARGS = {\n",
    "    \"formula\": MODEL_FORMULA,#\"valores ~ periodo\",  # Example formula\n",
    "    \"model\": smf.glsar,#smf.ols,  # Use OLS as the regression model for testing\n",
    "    \"find_best_rho\": True,  # Disable best rho search for simplicity\n",
    "    \"find_best_rho_args\": {\n",
    "        \"start\": -1.0,\n",
    "        \"stop\": 1.0,\n",
    "        \"step\": 0.05,\n",
    "        \"criterio\": \"aic\"\n",
    "    },\n",
    "    \"rho\": None,  # No rho value for OLS\n",
    "    \"cov_type\": \"HAC\",  # Use nonrobust covariance for testing\n",
    "    \"cov_kwargs\": {'maxlags': 4},  # No additional covariance arguments\n",
    "    \"iterative_fit\": True,  # Enable iterative fitting if needed\n",
    "    \"max_iterations\": 100,  # Set maximum iterations for iterative fitting\n",
    "}\n",
    "\n",
    "\n",
    "\n"
   ]
  },
  {
   "cell_type": "markdown",
   "metadata": {
    "id": "3lst0tSSyWi0"
   },
   "source": [
    "# Define Preprocessors\n"
   ]
  },
  {
   "cell_type": "code",
   "execution_count": 266,
   "metadata": {
    "id": "FAqiSa3R-k3r"
   },
   "outputs": [],
   "source": [
    "def BuildDataDF(data):\n",
    "    string_dates = data[0][1:]  # Store original string dates\n",
    "\n",
    "    # Converter as strings de datas em objetos datetime\n",
    "    #date_list = [datetime.strptime(date, \"%d/%m/%Y\") for date in string_dates]\n",
    "    date_list = [\n",
    "    date if isinstance(date, datetime) else datetime.strptime(date, \"%d/%m/%Y\")\n",
    "    for date in string_dates\n",
    "    ]\n",
    "\n",
    "    # Extrair os nomes das variáveis\n",
    "    variavel = [row[0] for row in data[1:]]\n",
    "\n",
    "    # Extrair os dados (sem agrupamento)\n",
    "    dados = [row[1:] for row in data[1:]]\n",
    "    dados = np.array(dados, dtype=int)  # Converter para tipo object para evitar warning\n",
    "\n",
    "    # Criar o DataFrame with DatetimeIndex\n",
    "    df = pd.DataFrame(data=dados, index=variavel, columns=pd.DatetimeIndex(date_list))\n",
    "\n",
    "    return df\n",
    "\n",
    "class DateFilterTransformer(BaseEstimator, TransformerMixin):\n",
    "    def __init__(\n",
    "        self, periodos_inclusivos=None, periodos_exclusivos=None, date_col=DATE_NAME\n",
    "    ):\n",
    "        self.periodos_inclusivos = periodos_inclusivos\n",
    "        self.periodos_exclusivos = periodos_exclusivos\n",
    "        self.date_col = date_col\n",
    "\n",
    "    def get_date_range(self, Y1, Y2=None, M1=None, M2=None, D1=None, D2=None):\n",
    "        Y2 = Y2 or Y1\n",
    "        M1 = M1 or 1\n",
    "        M2 = M2 or 12\n",
    "        D1 = D1 or 1\n",
    "        D2 = D2 or 31\n",
    "        start_date = datetime(Y1, M1, D1)\n",
    "        end_date = datetime(Y2, M2, D2)\n",
    "        return pd.date_range(start=start_date, end=end_date, freq=\"D\")\n",
    "\n",
    "    def fit(self, X, y=None):\n",
    "        return self\n",
    "\n",
    "    def transform(self, X):\n",
    "        X = X.copy()\n",
    "\n",
    "        # Convert date column if it's not datetime yet\n",
    "        if not pd.api.types.is_datetime64_any_dtype(X[self.date_col]):\n",
    "            X[self.date_col] = pd.to_datetime(X[self.date_col], errors=\"coerce\")\n",
    "\n",
    "        if self.periodos_inclusivos:\n",
    "            valid_dates = self.get_date_range(*self.periodos_inclusivos)\n",
    "            return X[X[self.date_col].isin(valid_dates)].reset_index(drop=True)\n",
    "\n",
    "        elif self.periodos_exclusivos:\n",
    "            invalid_dates = self.get_date_range(*self.periodos_exclusivos)\n",
    "            return X[~X[self.date_col].isin(invalid_dates)].reset_index(drop=True)\n",
    "\n",
    "        return X\n",
    "\n",
    "class MeltTransformer(BaseEstimator, TransformerMixin):\n",
    "    def __init__(\n",
    "        self,\n",
    "        var_name=VARIABLE_COLUMN_NAME,\n",
    "        value_name=DEPENDENT_VAR,\n",
    "        date_name=DATE_NAME,\n",
    "        y_name=INDEPENDENT_VAR,\n",
    "    ):\n",
    "        self.var_name = var_name\n",
    "        self.value_name = value_name\n",
    "        self.date_name = date_name\n",
    "        self.y_name = y_name\n",
    "\n",
    "    def fit(self, X, y=None):\n",
    "        # Nothing to learn, so just return self\n",
    "        return self\n",
    "\n",
    "    def transform(self, X):\n",
    "        # Transpose and reset index\n",
    "        df_long = X.T.reset_index()\n",
    "\n",
    "        # Rename index to date_name\n",
    "        df_long = df_long.rename(columns={\"index\": self.date_name})\n",
    "\n",
    "        # Melt the DataFrame\n",
    "        df_long = pd.melt(\n",
    "            df_long,\n",
    "            id_vars=[self.date_name],\n",
    "            var_name=self.var_name,\n",
    "            value_name=self.value_name,\n",
    "        )\n",
    "\n",
    "        # Sort by category and date\n",
    "        df_final = df_long.sort_values([self.var_name, self.date_name]).reset_index(\n",
    "            drop=True\n",
    "        )\n",
    "\n",
    "        return df_final\n",
    "\n",
    "class PeriodIndexAdder(BaseEstimator, TransformerMixin):\n",
    "    def __init__(self, group_col=VARIABLE_COLUMN_NAME, new_col=INDEPENDENT_VAR):\n",
    "        self.group_col = group_col\n",
    "        self.new_col = new_col\n",
    "        self.period_date_mapping = {}  # Dictionary to store period-date equivalences\n",
    "\n",
    "    def fit(self, X, y=None):\n",
    "        return self\n",
    "\n",
    "    def transform(self, X):\n",
    "        X = X.copy()\n",
    "        X[self.new_col] = X.groupby(self.group_col).cumcount() + 1\n",
    "\n",
    "        #Store the mapping of periods to dates\n",
    "        self.period_date_mapping = dict(zip(X[DATE_NAME], X[self.new_col]))\n",
    "        #for group, group_data in X.groupby(self.group_col):\n",
    "        #    self.period_date_mapping[group] = dict(zip(group_data[DATE_NAME], group_data[self.new_col]))\n",
    "\n",
    "        return X\n",
    "\n",
    "class DataFrameSorter(BaseEstimator, TransformerMixin):\n",
    "    \"\"\"\n",
    "    Sorts a DataFrame by a specified column.\n",
    "\n",
    "    Parameters:\n",
    "    -----------\n",
    "    sort_by : str\n",
    "        Name of the column to sort by.\n",
    "    ascending : bool, default=True\n",
    "        Whether to sort in ascending order.\n",
    "    \"\"\"\n",
    "\n",
    "    def __init__(self, sort_by, ascending=True):\n",
    "        self.sort_by = sort_by\n",
    "        self.ascending = ascending\n",
    "\n",
    "    def fit(self, X, y=None):\n",
    "        return self\n",
    "\n",
    "    def transform(self, X):\n",
    "        X = X.copy()\n",
    "        if self.sort_by not in X.columns:\n",
    "            raise ValueError(f\"Column '{self.sort_by}' not found in DataFrame.\")\n",
    "        return X.sort_values(by=self.sort_by, ascending=self.ascending).reset_index(drop=True)\n",
    "\n",
    "class MonthlyDummyAdder(BaseEstimator, TransformerMixin):\n",
    "    \"\"\"\n",
    "    Adds dummy variables for each month to control for seasonality, leaving December as the baseline.\n",
    "\n",
    "    Parameters:\n",
    "    -----------\n",
    "    date_column : str\n",
    "        Name of the column containing dates (must be datetime).\n",
    "    \"\"\"\n",
    "\n",
    "    def __init__(self, date_column=DATE_NAME):\n",
    "        self.date_column = date_column\n",
    "\n",
    "    def fit(self, X, y=None):\n",
    "        return self\n",
    "\n",
    "    def transform(self, X):\n",
    "        X = X.copy()\n",
    "        X[self.date_column] = pd.to_datetime(X[self.date_column])  # Ensure dates are in datetime format\n",
    "\n",
    "        # Extract month from the date column\n",
    "        X['month'] = X[self.date_column].dt.month\n",
    "\n",
    "        # Create dummy variables for each month, excluding December as the baseline\n",
    "        month_dummies = pd.get_dummies(X['month'], prefix=\"month\", drop_first=True).astype(int)\n",
    "\n",
    "\n",
    "\n",
    "        # Concatenate the dummy variables with the original DataFrame\n",
    "        X = pd.concat([X, month_dummies], axis=1)\n",
    "\n",
    "        # Drop the temporary 'month' column\n",
    "        X.drop(columns=['month'], inplace=True)\n",
    "\n",
    "        return X\n",
    "    \n",
    "\n",
    "class MultiDummyAdder(BaseEstimator, TransformerMixin):\n",
    "\t\"\"\"\n",
    "\tAdds multiple dummy variables based on date ranges or custom conditions.\n",
    "\tAllows each dummy to be binary or a local time trend via its own config.\n",
    "\n",
    "\tParameters:\n",
    "\t-----------\n",
    "\tdummy_config : dict\n",
    "\t\tDictionary defining dummy variables. Example:\n",
    "\t\t{\n",
    "\t\t\t'Pandemia': {\n",
    "\t\t\t\t'start_date': '2020-01-01',\n",
    "\t\t\t\t'end_date': '2020-12-31',\n",
    "\t\t\t\t'add_time_trend': True,\n",
    "\t\t\t\t'exclude_ranges': [('2020-04-01', '2020-05-01')]  # Optional\n",
    "\t\t\t}\n",
    "\t\t}\n",
    "\tdate_column : str\n",
    "\t\tName of the column containing dates (must be datetime).\n",
    "\t\"\"\"\n",
    "\n",
    "\tdef __init__(self, dummy_config, date_column=DATE_NAME):\n",
    "\t\tself.dummy_config = dummy_config\n",
    "\t\tself.date_column = date_column\n",
    "\n",
    "\tdef fit(self, X, y=None):\n",
    "\t\treturn self\n",
    "\n",
    "\tdef transform(self, X):\n",
    "\t\tX = X.copy()\n",
    "\t\tX[self.date_column] = pd.to_datetime(X[self.date_column])\n",
    "\t\tX = X.sort_values(self.date_column).reset_index(drop=True)\n",
    "\n",
    "\t\tfor dummy_name, config in self.dummy_config.items():\n",
    "\t\t\tstart_date = pd.to_datetime(config.get(\"start_date\"))\n",
    "\t\t\tend_date = pd.to_datetime(config.get(\"end_date\"))\n",
    "\t\t\tuse_trend = config.get(\"add_time_trend\", False)\n",
    "\t\t\tkeep_index = config.get(\"keep_period_index\", False)\n",
    "\t\t\texclude_ranges = config.get(\"exclude_ranges\", [])\n",
    "\n",
    "\t\t\tif not start_date:\n",
    "\t\t\t\traise ValueError(f\"Missing 'start_date' for dummy '{dummy_name}'.\")\n",
    "\n",
    "\t\t\tif end_date is not None:\n",
    "\t\t\t\tmask = (X[self.date_column] >= start_date) & (X[self.date_column] <= end_date)\n",
    "\t\t\telse:\n",
    "\t\t\t\tmask = X[self.date_column] >= start_date\n",
    "\n",
    "\t\t\t# Excluir ranges dentro do período\n",
    "\t\t\tfor excl_start, excl_end in exclude_ranges:\n",
    "\t\t\t\texcl_start = pd.to_datetime(excl_start)\n",
    "\t\t\t\texcl_end = pd.to_datetime(excl_end)\n",
    "\t\t\t\tmask &= ~((X[self.date_column] >= excl_start) & (X[self.date_column] <= excl_end))\n",
    "\n",
    "\t\t\tif use_trend:\n",
    "\t\t\t\tif keep_index:\n",
    "\t\t\t\t\t# estilo artigo: período global multiplicado pela dummy\n",
    "\t\t\t\t\tX[dummy_name] = 0\n",
    "\t\t\t\t\tX.loc[mask, dummy_name] = X.loc[mask, INDEPENDENT_VAR]\n",
    "\t\t\t\telse:\n",
    "\t\t\t\t\tstart_periodo = X.loc[mask, INDEPENDENT_VAR].min()\n",
    "\t\t\t\t\tX[dummy_name] = 0\n",
    "\t\t\t\t\tX.loc[mask, dummy_name] = (X.loc[mask, INDEPENDENT_VAR] - start_periodo + 1).clip(lower=0)\n",
    "\t\t\telse:\n",
    "\t\t\t\tX[dummy_name] = mask.astype(int)\n",
    "\n",
    "\t\treturn X\n",
    "\n",
    "\n",
    "class FrequencyGroupingTransformer(BaseEstimator, TransformerMixin):\n",
    "    \"\"\"\n",
    "    ## only datetime supported groupings\n",
    "    Transformer for grouping data by standard datetime frequencies.\n",
    "\n",
    "    This transformer takes a DataFrame with datetime columns and groups\n",
    "    the data by a specified frequency (e.g., 'Q' for quarterly, 'M' for monthly).\n",
    "\n",
    "    ARGS:\n",
    "        frequency (str): The frequency to group by. Defaults to 'Q' (quarterly).\n",
    "                        Supported frequencies are those accepted by pd.Grouper (e.g., 'Q', 'M', 'Y').\n",
    "    \"\"\"\n",
    "\n",
    "    def __init__(self, frequency=\"Q\"):  # Default to quarterly grouping\n",
    "        self.frequency = frequency\n",
    "\n",
    "    def fit(self, X, y=None):\n",
    "        \"\"\"\n",
    "        This transformer does not require fitting.\n",
    "\n",
    "        ARGS:\n",
    "            X (pd.DataFrame): The input DataFrame.\n",
    "            y (Any, optional): Ignored. Defaults to None.\n",
    "\n",
    "        Returns:\n",
    "            self: Returns the transformer instance.\n",
    "        \"\"\"\n",
    "        return self\n",
    "\n",
    "    def transform(self, X):\n",
    "        \"\"\"\n",
    "        Groups the data by the specified frequency and sums the values.\n",
    "\n",
    "        ARGS:\n",
    "            X (pd.DataFrame): The input DataFrame with datetime columns.\n",
    "\n",
    "        Returns:\n",
    "            pd.DataFrame: The grouped DataFrame with summed values.\n",
    "                          Columns are datetime objects representing the end of each group.\n",
    "        \"\"\"\n",
    "        if self.frequency == None or self.frequency == 'M':\n",
    "            return X\n",
    "        if not isinstance(X, pd.DataFrame):\n",
    "            raise TypeError(\"Input must be a pandas DataFrame.\")\n",
    "\n",
    "\n",
    "\n",
    "        # Convert columns to datetime if they are not already\n",
    "        if not isinstance(X.columns[0], pd.Timestamp):\n",
    "            X.columns = pd.to_datetime(X.columns, errors=\"coerce\")\n",
    "\n",
    "        # Group by the specified frequency using pd.Grouper\n",
    "        grouped_df = X.T.groupby(pd.Grouper(freq=self.frequency)).sum().T\n",
    "\n",
    "        return grouped_df\n",
    "\n"
   ]
  },
  {
   "cell_type": "markdown",
   "metadata": {},
   "source": [
    "# EXEC --- Instantiate Pipe and get RegressionDF"
   ]
  },
  {
   "cell_type": "code",
   "execution_count": 267,
   "metadata": {},
   "outputs": [
    {
     "data": {
      "application/vnd.microsoft.datawrangler.viewer.v0+json": {
       "columns": [
        {
         "name": "index",
         "rawType": "int64",
         "type": "integer"
        },
        {
         "name": "date",
         "rawType": "datetime64[ns]",
         "type": "datetime"
        },
        {
         "name": "variavel",
         "rawType": "object",
         "type": "string"
        },
        {
         "name": "valores",
         "rawType": "int64",
         "type": "integer"
        },
        {
         "name": "periodo",
         "rawType": "int64",
         "type": "integer"
        },
        {
         "name": "Choque_Inicial",
         "rawType": "int64",
         "type": "integer"
        },
        {
         "name": "Lockdown_2021",
         "rawType": "int64",
         "type": "integer"
        },
        {
         "name": "Step_PosPandemia",
         "rawType": "int64",
         "type": "integer"
        },
        {
         "name": "Trend_PosPandemia",
         "rawType": "int64",
         "type": "integer"
        },
        {
         "name": "month_2",
         "rawType": "int64",
         "type": "integer"
        },
        {
         "name": "month_3",
         "rawType": "int64",
         "type": "integer"
        },
        {
         "name": "month_4",
         "rawType": "int64",
         "type": "integer"
        },
        {
         "name": "month_5",
         "rawType": "int64",
         "type": "integer"
        },
        {
         "name": "month_6",
         "rawType": "int64",
         "type": "integer"
        },
        {
         "name": "month_7",
         "rawType": "int64",
         "type": "integer"
        },
        {
         "name": "month_8",
         "rawType": "int64",
         "type": "integer"
        },
        {
         "name": "month_9",
         "rawType": "int64",
         "type": "integer"
        },
        {
         "name": "month_10",
         "rawType": "int64",
         "type": "integer"
        },
        {
         "name": "month_11",
         "rawType": "int64",
         "type": "integer"
        },
        {
         "name": "month_12",
         "rawType": "int64",
         "type": "integer"
        }
       ],
       "conversionMethod": "pd.DataFrame",
       "ref": "514c9311-34ca-4737-93ae-8b1c0ca82fc3",
       "rows": [
        [
         "0",
         "2016-01-01 00:00:00",
         "F00-F09 - Transtornos mentais orgânicos, inclusive os sintomáticos",
         "109",
         "1",
         "0",
         "0",
         "0",
         "0",
         "0",
         "0",
         "0",
         "0",
         "0",
         "0",
         "0",
         "0",
         "0",
         "0",
         "0"
        ],
        [
         "1",
         "2018-03-01 00:00:00",
         "F00-F09 - Transtornos mentais orgânicos, inclusive os sintomáticos",
         "242",
         "27",
         "0",
         "0",
         "0",
         "0",
         "0",
         "1",
         "0",
         "0",
         "0",
         "0",
         "0",
         "0",
         "0",
         "0",
         "0"
        ],
        [
         "2",
         "2018-04-01 00:00:00",
         "F00-F09 - Transtornos mentais orgânicos, inclusive os sintomáticos",
         "223",
         "28",
         "0",
         "0",
         "0",
         "0",
         "0",
         "0",
         "1",
         "0",
         "0",
         "0",
         "0",
         "0",
         "0",
         "0",
         "0"
        ],
        [
         "3",
         "2022-04-01 00:00:00",
         "F00-F09 - Transtornos mentais orgânicos, inclusive os sintomáticos",
         "294",
         "76",
         "0",
         "0",
         "1",
         "76",
         "0",
         "0",
         "1",
         "0",
         "0",
         "0",
         "0",
         "0",
         "0",
         "0",
         "0"
        ],
        [
         "4",
         "2024-01-01 00:00:00",
         "F00-F09 - Transtornos mentais orgânicos, inclusive os sintomáticos",
         "451",
         "97",
         "0",
         "0",
         "1",
         "97",
         "0",
         "0",
         "0",
         "0",
         "0",
         "0",
         "0",
         "0",
         "0",
         "0",
         "0"
        ],
        [
         "5",
         "2024-02-01 00:00:00",
         "F00-F09 - Transtornos mentais orgânicos, inclusive os sintomáticos",
         "379",
         "98",
         "0",
         "0",
         "1",
         "98",
         "1",
         "0",
         "0",
         "0",
         "0",
         "0",
         "0",
         "0",
         "0",
         "0",
         "0"
        ],
        [
         "6",
         "2022-03-01 00:00:00",
         "F00-F09 - Transtornos mentais orgânicos, inclusive os sintomáticos",
         "381",
         "75",
         "0",
         "0",
         "1",
         "75",
         "0",
         "1",
         "0",
         "0",
         "0",
         "0",
         "0",
         "0",
         "0",
         "0",
         "0"
        ],
        [
         "7",
         "2016-10-01 00:00:00",
         "F00-F09 - Transtornos mentais orgânicos, inclusive os sintomáticos",
         "245",
         "10",
         "0",
         "0",
         "0",
         "0",
         "0",
         "0",
         "0",
         "0",
         "0",
         "0",
         "0",
         "0",
         "1",
         "0",
         "0"
        ],
        [
         "8",
         "2018-05-01 00:00:00",
         "F00-F09 - Transtornos mentais orgânicos, inclusive os sintomáticos",
         "252",
         "29",
         "0",
         "0",
         "0",
         "0",
         "0",
         "0",
         "0",
         "1",
         "0",
         "0",
         "0",
         "0",
         "0",
         "0",
         "0"
        ],
        [
         "9",
         "2022-02-01 00:00:00",
         "F00-F09 - Transtornos mentais orgânicos, inclusive os sintomáticos",
         "287",
         "74",
         "0",
         "0",
         "1",
         "74",
         "1",
         "0",
         "0",
         "0",
         "0",
         "0",
         "0",
         "0",
         "0",
         "0",
         "0"
        ],
        [
         "10",
         "2018-06-01 00:00:00",
         "F00-F09 - Transtornos mentais orgânicos, inclusive os sintomáticos",
         "258",
         "30",
         "0",
         "0",
         "0",
         "0",
         "0",
         "0",
         "0",
         "0",
         "1",
         "0",
         "0",
         "0",
         "0",
         "0",
         "0"
        ],
        [
         "11",
         "2022-01-01 00:00:00",
         "F00-F09 - Transtornos mentais orgânicos, inclusive os sintomáticos",
         "206",
         "73",
         "0",
         "0",
         "1",
         "73",
         "0",
         "0",
         "0",
         "0",
         "0",
         "0",
         "0",
         "0",
         "0",
         "0",
         "0"
        ],
        [
         "12",
         "2018-07-01 00:00:00",
         "F00-F09 - Transtornos mentais orgânicos, inclusive os sintomáticos",
         "222",
         "31",
         "0",
         "0",
         "0",
         "0",
         "0",
         "0",
         "0",
         "0",
         "0",
         "1",
         "0",
         "0",
         "0",
         "0",
         "0"
        ],
        [
         "13",
         "2016-09-01 00:00:00",
         "F00-F09 - Transtornos mentais orgânicos, inclusive os sintomáticos",
         "242",
         "9",
         "0",
         "0",
         "0",
         "0",
         "0",
         "0",
         "0",
         "0",
         "0",
         "0",
         "0",
         "1",
         "0",
         "0",
         "0"
        ],
        [
         "14",
         "2018-08-01 00:00:00",
         "F00-F09 - Transtornos mentais orgânicos, inclusive os sintomáticos",
         "261",
         "32",
         "0",
         "0",
         "0",
         "0",
         "0",
         "0",
         "0",
         "0",
         "0",
         "0",
         "1",
         "0",
         "0",
         "0",
         "0"
        ],
        [
         "15",
         "2023-12-01 00:00:00",
         "F00-F09 - Transtornos mentais orgânicos, inclusive os sintomáticos",
         "484",
         "96",
         "0",
         "0",
         "1",
         "96",
         "0",
         "0",
         "0",
         "0",
         "0",
         "0",
         "0",
         "0",
         "0",
         "0",
         "1"
        ],
        [
         "16",
         "2021-12-01 00:00:00",
         "F00-F09 - Transtornos mentais orgânicos, inclusive os sintomáticos",
         "347",
         "72",
         "0",
         "0",
         "1",
         "72",
         "0",
         "0",
         "0",
         "0",
         "0",
         "0",
         "0",
         "0",
         "0",
         "0",
         "1"
        ],
        [
         "17",
         "2024-03-01 00:00:00",
         "F00-F09 - Transtornos mentais orgânicos, inclusive os sintomáticos",
         "448",
         "99",
         "0",
         "0",
         "1",
         "99",
         "0",
         "1",
         "0",
         "0",
         "0",
         "0",
         "0",
         "0",
         "0",
         "0",
         "0"
        ],
        [
         "18",
         "2021-11-01 00:00:00",
         "F00-F09 - Transtornos mentais orgânicos, inclusive os sintomáticos",
         "308",
         "71",
         "0",
         "0",
         "1",
         "71",
         "0",
         "0",
         "0",
         "0",
         "0",
         "0",
         "0",
         "0",
         "0",
         "1",
         "0"
        ],
        [
         "19",
         "2023-07-01 00:00:00",
         "F00-F09 - Transtornos mentais orgânicos, inclusive os sintomáticos",
         "442",
         "91",
         "0",
         "0",
         "1",
         "91",
         "0",
         "0",
         "0",
         "0",
         "0",
         "1",
         "0",
         "0",
         "0",
         "0",
         "0"
        ],
        [
         "20",
         "2018-10-01 00:00:00",
         "F00-F09 - Transtornos mentais orgânicos, inclusive os sintomáticos",
         "286",
         "34",
         "0",
         "0",
         "0",
         "0",
         "0",
         "0",
         "0",
         "0",
         "0",
         "0",
         "0",
         "0",
         "1",
         "0",
         "0"
        ],
        [
         "21",
         "2024-04-01 00:00:00",
         "F00-F09 - Transtornos mentais orgânicos, inclusive os sintomáticos",
         "507",
         "100",
         "0",
         "0",
         "1",
         "100",
         "0",
         "0",
         "1",
         "0",
         "0",
         "0",
         "0",
         "0",
         "0",
         "0",
         "0"
        ],
        [
         "22",
         "2021-10-01 00:00:00",
         "F00-F09 - Transtornos mentais orgânicos, inclusive os sintomáticos",
         "356",
         "70",
         "0",
         "0",
         "1",
         "70",
         "0",
         "0",
         "0",
         "0",
         "0",
         "0",
         "0",
         "0",
         "1",
         "0",
         "0"
        ],
        [
         "23",
         "2018-11-01 00:00:00",
         "F00-F09 - Transtornos mentais orgânicos, inclusive os sintomáticos",
         "249",
         "35",
         "0",
         "0",
         "0",
         "0",
         "0",
         "0",
         "0",
         "0",
         "0",
         "0",
         "0",
         "0",
         "0",
         "1",
         "0"
        ],
        [
         "24",
         "2016-07-01 00:00:00",
         "F00-F09 - Transtornos mentais orgânicos, inclusive os sintomáticos",
         "271",
         "7",
         "0",
         "0",
         "0",
         "0",
         "0",
         "0",
         "0",
         "0",
         "0",
         "1",
         "0",
         "0",
         "0",
         "0",
         "0"
        ],
        [
         "25",
         "2021-09-01 00:00:00",
         "F00-F09 - Transtornos mentais orgânicos, inclusive os sintomáticos",
         "358",
         "69",
         "0",
         "0",
         "1",
         "69",
         "0",
         "0",
         "0",
         "0",
         "0",
         "0",
         "0",
         "1",
         "0",
         "0",
         "0"
        ],
        [
         "26",
         "2021-08-01 00:00:00",
         "F00-F09 - Transtornos mentais orgânicos, inclusive os sintomáticos",
         "350",
         "68",
         "0",
         "0",
         "1",
         "68",
         "0",
         "0",
         "0",
         "0",
         "0",
         "0",
         "1",
         "0",
         "0",
         "0",
         "0"
        ],
        [
         "27",
         "2024-05-01 00:00:00",
         "F00-F09 - Transtornos mentais orgânicos, inclusive os sintomáticos",
         "359",
         "101",
         "0",
         "0",
         "1",
         "101",
         "0",
         "0",
         "0",
         "1",
         "0",
         "0",
         "0",
         "0",
         "0",
         "0",
         "0"
        ],
        [
         "28",
         "2021-07-01 00:00:00",
         "F00-F09 - Transtornos mentais orgânicos, inclusive os sintomáticos",
         "376",
         "67",
         "0",
         "0",
         "1",
         "67",
         "0",
         "0",
         "0",
         "0",
         "0",
         "1",
         "0",
         "0",
         "0",
         "0",
         "0"
        ],
        [
         "29",
         "2018-12-01 00:00:00",
         "F00-F09 - Transtornos mentais orgânicos, inclusive os sintomáticos",
         "200",
         "36",
         "0",
         "0",
         "0",
         "0",
         "0",
         "0",
         "0",
         "0",
         "0",
         "0",
         "0",
         "0",
         "0",
         "0",
         "1"
        ],
        [
         "30",
         "2019-01-01 00:00:00",
         "F00-F09 - Transtornos mentais orgânicos, inclusive os sintomáticos",
         "267",
         "37",
         "0",
         "0",
         "0",
         "0",
         "0",
         "0",
         "0",
         "0",
         "0",
         "0",
         "0",
         "0",
         "0",
         "0",
         "0"
        ],
        [
         "31",
         "2016-08-01 00:00:00",
         "F00-F09 - Transtornos mentais orgânicos, inclusive os sintomáticos",
         "305",
         "8",
         "0",
         "0",
         "0",
         "0",
         "0",
         "0",
         "0",
         "0",
         "0",
         "0",
         "1",
         "0",
         "0",
         "0",
         "0"
        ],
        [
         "32",
         "2021-06-01 00:00:00",
         "F00-F09 - Transtornos mentais orgânicos, inclusive os sintomáticos",
         "332",
         "66",
         "0",
         "0",
         "1",
         "66",
         "0",
         "0",
         "0",
         "0",
         "1",
         "0",
         "0",
         "0",
         "0",
         "0",
         "0"
        ],
        [
         "33",
         "2022-05-01 00:00:00",
         "F00-F09 - Transtornos mentais orgânicos, inclusive os sintomáticos",
         "391",
         "77",
         "0",
         "0",
         "1",
         "77",
         "0",
         "0",
         "0",
         "1",
         "0",
         "0",
         "0",
         "0",
         "0",
         "0",
         "0"
        ],
        [
         "34",
         "2016-11-01 00:00:00",
         "F00-F09 - Transtornos mentais orgânicos, inclusive os sintomáticos",
         "175",
         "11",
         "0",
         "0",
         "0",
         "0",
         "0",
         "0",
         "0",
         "0",
         "0",
         "0",
         "0",
         "0",
         "0",
         "1",
         "0"
        ],
        [
         "35",
         "2023-06-01 00:00:00",
         "F00-F09 - Transtornos mentais orgânicos, inclusive os sintomáticos",
         "399",
         "90",
         "0",
         "0",
         "1",
         "90",
         "0",
         "0",
         "0",
         "0",
         "1",
         "0",
         "0",
         "0",
         "0",
         "0",
         "0"
        ],
        [
         "36",
         "2023-05-01 00:00:00",
         "F00-F09 - Transtornos mentais orgânicos, inclusive os sintomáticos",
         "468",
         "89",
         "0",
         "0",
         "1",
         "89",
         "0",
         "0",
         "0",
         "1",
         "0",
         "0",
         "0",
         "0",
         "0",
         "0",
         "0"
        ],
        [
         "37",
         "2017-05-01 00:00:00",
         "F00-F09 - Transtornos mentais orgânicos, inclusive os sintomáticos",
         "229",
         "17",
         "0",
         "0",
         "0",
         "0",
         "0",
         "0",
         "0",
         "1",
         "0",
         "0",
         "0",
         "0",
         "0",
         "0",
         "0"
        ],
        [
         "38",
         "2023-08-01 00:00:00",
         "F00-F09 - Transtornos mentais orgânicos, inclusive os sintomáticos",
         "493",
         "92",
         "0",
         "0",
         "1",
         "92",
         "0",
         "0",
         "0",
         "0",
         "0",
         "0",
         "1",
         "0",
         "0",
         "0",
         "0"
        ],
        [
         "39",
         "2023-04-01 00:00:00",
         "F00-F09 - Transtornos mentais orgânicos, inclusive os sintomáticos",
         "368",
         "88",
         "0",
         "0",
         "1",
         "88",
         "0",
         "0",
         "1",
         "0",
         "0",
         "0",
         "0",
         "0",
         "0",
         "0",
         "0"
        ],
        [
         "40",
         "2017-03-01 00:00:00",
         "F00-F09 - Transtornos mentais orgânicos, inclusive os sintomáticos",
         "262",
         "15",
         "0",
         "0",
         "0",
         "0",
         "0",
         "1",
         "0",
         "0",
         "0",
         "0",
         "0",
         "0",
         "0",
         "0",
         "0"
        ],
        [
         "41",
         "2017-06-01 00:00:00",
         "F00-F09 - Transtornos mentais orgânicos, inclusive os sintomáticos",
         "254",
         "18",
         "0",
         "0",
         "0",
         "0",
         "0",
         "0",
         "0",
         "0",
         "1",
         "0",
         "0",
         "0",
         "0",
         "0",
         "0"
        ],
        [
         "42",
         "2017-02-01 00:00:00",
         "F00-F09 - Transtornos mentais orgânicos, inclusive os sintomáticos",
         "165",
         "14",
         "0",
         "0",
         "0",
         "0",
         "1",
         "0",
         "0",
         "0",
         "0",
         "0",
         "0",
         "0",
         "0",
         "0",
         "0"
        ],
        [
         "43",
         "2023-03-01 00:00:00",
         "F00-F09 - Transtornos mentais orgânicos, inclusive os sintomáticos",
         "428",
         "87",
         "0",
         "0",
         "1",
         "87",
         "0",
         "1",
         "0",
         "0",
         "0",
         "0",
         "0",
         "0",
         "0",
         "0",
         "0"
        ],
        [
         "44",
         "2017-07-01 00:00:00",
         "F00-F09 - Transtornos mentais orgânicos, inclusive os sintomáticos",
         "189",
         "19",
         "0",
         "0",
         "0",
         "0",
         "0",
         "0",
         "0",
         "0",
         "0",
         "1",
         "0",
         "0",
         "0",
         "0",
         "0"
        ],
        [
         "45",
         "2023-09-01 00:00:00",
         "F00-F09 - Transtornos mentais orgânicos, inclusive os sintomáticos",
         "399",
         "93",
         "0",
         "0",
         "1",
         "93",
         "0",
         "0",
         "0",
         "0",
         "0",
         "0",
         "0",
         "1",
         "0",
         "0",
         "0"
        ],
        [
         "46",
         "2023-02-01 00:00:00",
         "F00-F09 - Transtornos mentais orgânicos, inclusive os sintomáticos",
         "362",
         "86",
         "0",
         "0",
         "1",
         "86",
         "1",
         "0",
         "0",
         "0",
         "0",
         "0",
         "0",
         "0",
         "0",
         "0",
         "0"
        ],
        [
         "47",
         "2023-01-01 00:00:00",
         "F00-F09 - Transtornos mentais orgânicos, inclusive os sintomáticos",
         "422",
         "85",
         "0",
         "0",
         "1",
         "85",
         "0",
         "0",
         "0",
         "0",
         "0",
         "0",
         "0",
         "0",
         "0",
         "0",
         "0"
        ],
        [
         "48",
         "2017-08-01 00:00:00",
         "F00-F09 - Transtornos mentais orgânicos, inclusive os sintomáticos",
         "193",
         "20",
         "0",
         "0",
         "0",
         "0",
         "0",
         "0",
         "0",
         "0",
         "0",
         "0",
         "1",
         "0",
         "0",
         "0",
         "0"
        ],
        [
         "49",
         "2022-06-01 00:00:00",
         "F00-F09 - Transtornos mentais orgânicos, inclusive os sintomáticos",
         "368",
         "78",
         "0",
         "0",
         "1",
         "78",
         "0",
         "0",
         "0",
         "0",
         "1",
         "0",
         "0",
         "0",
         "0",
         "0",
         "0"
        ]
       ],
       "shape": {
        "columns": 19,
        "rows": 1296
       }
      },
      "text/html": [
       "<div>\n",
       "<style scoped>\n",
       "    .dataframe tbody tr th:only-of-type {\n",
       "        vertical-align: middle;\n",
       "    }\n",
       "\n",
       "    .dataframe tbody tr th {\n",
       "        vertical-align: top;\n",
       "    }\n",
       "\n",
       "    .dataframe thead th {\n",
       "        text-align: right;\n",
       "    }\n",
       "</style>\n",
       "<table border=\"1\" class=\"dataframe\">\n",
       "  <thead>\n",
       "    <tr style=\"text-align: right;\">\n",
       "      <th></th>\n",
       "      <th>date</th>\n",
       "      <th>variavel</th>\n",
       "      <th>valores</th>\n",
       "      <th>periodo</th>\n",
       "      <th>Choque_Inicial</th>\n",
       "      <th>Lockdown_2021</th>\n",
       "      <th>Step_PosPandemia</th>\n",
       "      <th>Trend_PosPandemia</th>\n",
       "      <th>month_2</th>\n",
       "      <th>month_3</th>\n",
       "      <th>month_4</th>\n",
       "      <th>month_5</th>\n",
       "      <th>month_6</th>\n",
       "      <th>month_7</th>\n",
       "      <th>month_8</th>\n",
       "      <th>month_9</th>\n",
       "      <th>month_10</th>\n",
       "      <th>month_11</th>\n",
       "      <th>month_12</th>\n",
       "    </tr>\n",
       "  </thead>\n",
       "  <tbody>\n",
       "    <tr>\n",
       "      <th>0</th>\n",
       "      <td>2016-01-01</td>\n",
       "      <td>F00-F09 - Transtornos mentais orgânicos, inclu...</td>\n",
       "      <td>109</td>\n",
       "      <td>1</td>\n",
       "      <td>0</td>\n",
       "      <td>0</td>\n",
       "      <td>0</td>\n",
       "      <td>0</td>\n",
       "      <td>0</td>\n",
       "      <td>0</td>\n",
       "      <td>0</td>\n",
       "      <td>0</td>\n",
       "      <td>0</td>\n",
       "      <td>0</td>\n",
       "      <td>0</td>\n",
       "      <td>0</td>\n",
       "      <td>0</td>\n",
       "      <td>0</td>\n",
       "      <td>0</td>\n",
       "    </tr>\n",
       "    <tr>\n",
       "      <th>1</th>\n",
       "      <td>2018-03-01</td>\n",
       "      <td>F00-F09 - Transtornos mentais orgânicos, inclu...</td>\n",
       "      <td>242</td>\n",
       "      <td>27</td>\n",
       "      <td>0</td>\n",
       "      <td>0</td>\n",
       "      <td>0</td>\n",
       "      <td>0</td>\n",
       "      <td>0</td>\n",
       "      <td>1</td>\n",
       "      <td>0</td>\n",
       "      <td>0</td>\n",
       "      <td>0</td>\n",
       "      <td>0</td>\n",
       "      <td>0</td>\n",
       "      <td>0</td>\n",
       "      <td>0</td>\n",
       "      <td>0</td>\n",
       "      <td>0</td>\n",
       "    </tr>\n",
       "    <tr>\n",
       "      <th>2</th>\n",
       "      <td>2018-04-01</td>\n",
       "      <td>F00-F09 - Transtornos mentais orgânicos, inclu...</td>\n",
       "      <td>223</td>\n",
       "      <td>28</td>\n",
       "      <td>0</td>\n",
       "      <td>0</td>\n",
       "      <td>0</td>\n",
       "      <td>0</td>\n",
       "      <td>0</td>\n",
       "      <td>0</td>\n",
       "      <td>1</td>\n",
       "      <td>0</td>\n",
       "      <td>0</td>\n",
       "      <td>0</td>\n",
       "      <td>0</td>\n",
       "      <td>0</td>\n",
       "      <td>0</td>\n",
       "      <td>0</td>\n",
       "      <td>0</td>\n",
       "    </tr>\n",
       "    <tr>\n",
       "      <th>3</th>\n",
       "      <td>2022-04-01</td>\n",
       "      <td>F00-F09 - Transtornos mentais orgânicos, inclu...</td>\n",
       "      <td>294</td>\n",
       "      <td>76</td>\n",
       "      <td>0</td>\n",
       "      <td>0</td>\n",
       "      <td>1</td>\n",
       "      <td>76</td>\n",
       "      <td>0</td>\n",
       "      <td>0</td>\n",
       "      <td>1</td>\n",
       "      <td>0</td>\n",
       "      <td>0</td>\n",
       "      <td>0</td>\n",
       "      <td>0</td>\n",
       "      <td>0</td>\n",
       "      <td>0</td>\n",
       "      <td>0</td>\n",
       "      <td>0</td>\n",
       "    </tr>\n",
       "    <tr>\n",
       "      <th>4</th>\n",
       "      <td>2024-01-01</td>\n",
       "      <td>F00-F09 - Transtornos mentais orgânicos, inclu...</td>\n",
       "      <td>451</td>\n",
       "      <td>97</td>\n",
       "      <td>0</td>\n",
       "      <td>0</td>\n",
       "      <td>1</td>\n",
       "      <td>97</td>\n",
       "      <td>0</td>\n",
       "      <td>0</td>\n",
       "      <td>0</td>\n",
       "      <td>0</td>\n",
       "      <td>0</td>\n",
       "      <td>0</td>\n",
       "      <td>0</td>\n",
       "      <td>0</td>\n",
       "      <td>0</td>\n",
       "      <td>0</td>\n",
       "      <td>0</td>\n",
       "    </tr>\n",
       "    <tr>\n",
       "      <th>...</th>\n",
       "      <td>...</td>\n",
       "      <td>...</td>\n",
       "      <td>...</td>\n",
       "      <td>...</td>\n",
       "      <td>...</td>\n",
       "      <td>...</td>\n",
       "      <td>...</td>\n",
       "      <td>...</td>\n",
       "      <td>...</td>\n",
       "      <td>...</td>\n",
       "      <td>...</td>\n",
       "      <td>...</td>\n",
       "      <td>...</td>\n",
       "      <td>...</td>\n",
       "      <td>...</td>\n",
       "      <td>...</td>\n",
       "      <td>...</td>\n",
       "      <td>...</td>\n",
       "      <td>...</td>\n",
       "    </tr>\n",
       "    <tr>\n",
       "      <th>1291</th>\n",
       "      <td>2017-08-01</td>\n",
       "      <td>__Atendimentos na APS (exceto saúde mental)</td>\n",
       "      <td>122593</td>\n",
       "      <td>20</td>\n",
       "      <td>0</td>\n",
       "      <td>0</td>\n",
       "      <td>0</td>\n",
       "      <td>0</td>\n",
       "      <td>0</td>\n",
       "      <td>0</td>\n",
       "      <td>0</td>\n",
       "      <td>0</td>\n",
       "      <td>0</td>\n",
       "      <td>0</td>\n",
       "      <td>1</td>\n",
       "      <td>0</td>\n",
       "      <td>0</td>\n",
       "      <td>0</td>\n",
       "      <td>0</td>\n",
       "    </tr>\n",
       "    <tr>\n",
       "      <th>1292</th>\n",
       "      <td>2023-02-01</td>\n",
       "      <td>__Atendimentos na APS (exceto saúde mental)</td>\n",
       "      <td>180244</td>\n",
       "      <td>86</td>\n",
       "      <td>0</td>\n",
       "      <td>0</td>\n",
       "      <td>1</td>\n",
       "      <td>86</td>\n",
       "      <td>1</td>\n",
       "      <td>0</td>\n",
       "      <td>0</td>\n",
       "      <td>0</td>\n",
       "      <td>0</td>\n",
       "      <td>0</td>\n",
       "      <td>0</td>\n",
       "      <td>0</td>\n",
       "      <td>0</td>\n",
       "      <td>0</td>\n",
       "      <td>0</td>\n",
       "    </tr>\n",
       "    <tr>\n",
       "      <th>1293</th>\n",
       "      <td>2017-07-01</td>\n",
       "      <td>__Atendimentos na APS (exceto saúde mental)</td>\n",
       "      <td>114118</td>\n",
       "      <td>19</td>\n",
       "      <td>0</td>\n",
       "      <td>0</td>\n",
       "      <td>0</td>\n",
       "      <td>0</td>\n",
       "      <td>0</td>\n",
       "      <td>0</td>\n",
       "      <td>0</td>\n",
       "      <td>0</td>\n",
       "      <td>0</td>\n",
       "      <td>1</td>\n",
       "      <td>0</td>\n",
       "      <td>0</td>\n",
       "      <td>0</td>\n",
       "      <td>0</td>\n",
       "      <td>0</td>\n",
       "    </tr>\n",
       "    <tr>\n",
       "      <th>1294</th>\n",
       "      <td>2022-10-01</td>\n",
       "      <td>__Atendimentos na APS (exceto saúde mental)</td>\n",
       "      <td>224278</td>\n",
       "      <td>82</td>\n",
       "      <td>0</td>\n",
       "      <td>0</td>\n",
       "      <td>1</td>\n",
       "      <td>82</td>\n",
       "      <td>0</td>\n",
       "      <td>0</td>\n",
       "      <td>0</td>\n",
       "      <td>0</td>\n",
       "      <td>0</td>\n",
       "      <td>0</td>\n",
       "      <td>0</td>\n",
       "      <td>0</td>\n",
       "      <td>1</td>\n",
       "      <td>0</td>\n",
       "      <td>0</td>\n",
       "    </tr>\n",
       "    <tr>\n",
       "      <th>1295</th>\n",
       "      <td>2024-12-01</td>\n",
       "      <td>__Atendimentos na APS (exceto saúde mental)</td>\n",
       "      <td>220687</td>\n",
       "      <td>108</td>\n",
       "      <td>0</td>\n",
       "      <td>0</td>\n",
       "      <td>1</td>\n",
       "      <td>108</td>\n",
       "      <td>0</td>\n",
       "      <td>0</td>\n",
       "      <td>0</td>\n",
       "      <td>0</td>\n",
       "      <td>0</td>\n",
       "      <td>0</td>\n",
       "      <td>0</td>\n",
       "      <td>0</td>\n",
       "      <td>0</td>\n",
       "      <td>0</td>\n",
       "      <td>1</td>\n",
       "    </tr>\n",
       "  </tbody>\n",
       "</table>\n",
       "<p>1296 rows × 19 columns</p>\n",
       "</div>"
      ],
      "text/plain": [
       "           date                                           variavel  valores  \\\n",
       "0    2016-01-01  F00-F09 - Transtornos mentais orgânicos, inclu...      109   \n",
       "1    2018-03-01  F00-F09 - Transtornos mentais orgânicos, inclu...      242   \n",
       "2    2018-04-01  F00-F09 - Transtornos mentais orgânicos, inclu...      223   \n",
       "3    2022-04-01  F00-F09 - Transtornos mentais orgânicos, inclu...      294   \n",
       "4    2024-01-01  F00-F09 - Transtornos mentais orgânicos, inclu...      451   \n",
       "...         ...                                                ...      ...   \n",
       "1291 2017-08-01        __Atendimentos na APS (exceto saúde mental)   122593   \n",
       "1292 2023-02-01        __Atendimentos na APS (exceto saúde mental)   180244   \n",
       "1293 2017-07-01        __Atendimentos na APS (exceto saúde mental)   114118   \n",
       "1294 2022-10-01        __Atendimentos na APS (exceto saúde mental)   224278   \n",
       "1295 2024-12-01        __Atendimentos na APS (exceto saúde mental)   220687   \n",
       "\n",
       "      periodo  Choque_Inicial  Lockdown_2021  Step_PosPandemia  \\\n",
       "0           1               0              0                 0   \n",
       "1          27               0              0                 0   \n",
       "2          28               0              0                 0   \n",
       "3          76               0              0                 1   \n",
       "4          97               0              0                 1   \n",
       "...       ...             ...            ...               ...   \n",
       "1291       20               0              0                 0   \n",
       "1292       86               0              0                 1   \n",
       "1293       19               0              0                 0   \n",
       "1294       82               0              0                 1   \n",
       "1295      108               0              0                 1   \n",
       "\n",
       "      Trend_PosPandemia  month_2  month_3  month_4  month_5  month_6  month_7  \\\n",
       "0                     0        0        0        0        0        0        0   \n",
       "1                     0        0        1        0        0        0        0   \n",
       "2                     0        0        0        1        0        0        0   \n",
       "3                    76        0        0        1        0        0        0   \n",
       "4                    97        0        0        0        0        0        0   \n",
       "...                 ...      ...      ...      ...      ...      ...      ...   \n",
       "1291                  0        0        0        0        0        0        0   \n",
       "1292                 86        1        0        0        0        0        0   \n",
       "1293                  0        0        0        0        0        0        1   \n",
       "1294                 82        0        0        0        0        0        0   \n",
       "1295                108        0        0        0        0        0        0   \n",
       "\n",
       "      month_8  month_9  month_10  month_11  month_12  \n",
       "0           0        0         0         0         0  \n",
       "1           0        0         0         0         0  \n",
       "2           0        0         0         0         0  \n",
       "3           0        0         0         0         0  \n",
       "4           0        0         0         0         0  \n",
       "...       ...      ...       ...       ...       ...  \n",
       "1291        1        0         0         0         0  \n",
       "1292        0        0         0         0         0  \n",
       "1293        0        0         0         0         0  \n",
       "1294        0        0         1         0         0  \n",
       "1295        0        0         0         0         1  \n",
       "\n",
       "[1296 rows x 19 columns]"
      ]
     },
     "execution_count": 267,
     "metadata": {},
     "output_type": "execute_result"
    }
   ],
   "source": [
    "pipe = Pipeline(\n",
    "    [\n",
    "        (\"grouping\", FrequencyGroupingTransformer(frequency=PREPROCESSOR_ARGS['FrequencyDateGroup'])),\n",
    "        (\"melt\", MeltTransformer()),\n",
    "        (\"date_filter\", DateFilterTransformer(periodos_inclusivos=PREPROCESSOR_ARGS['DateRange'])),\n",
    "        (\"period_index_adder\", PeriodIndexAdder()),\n",
    "        (\"dummy_adder\", MultiDummyAdder(dummy_config=PREPROCESSOR_ARGS['DummyArgs'])),\n",
    "        (\"monthly_dummy_adder\", MonthlyDummyAdder()),\n",
    "        (\"sorter\", DataFrameSorter(sort_by=VARIABLE_COLUMN_NAME, ascending=True)),\n",
    "    ]\n",
    ")\n",
    "\n",
    "RawDataDF = BuildDataDF(dados_brutos)\n",
    "RegressionDF = pipe.fit_transform(RawDataDF)\n",
    "RegressionDF"
   ]
  },
  {
   "cell_type": "markdown",
   "metadata": {},
   "source": [
    "# Get Period Date Map and Dummies Period Indexes"
   ]
  },
  {
   "cell_type": "code",
   "execution_count": 268,
   "metadata": {},
   "outputs": [
    {
     "data": {
      "text/plain": [
       "{Timestamp('2016-01-01 00:00:00'): 1,\n",
       " Timestamp('2016-02-01 00:00:00'): 2,\n",
       " Timestamp('2016-03-01 00:00:00'): 3,\n",
       " Timestamp('2016-04-01 00:00:00'): 4,\n",
       " Timestamp('2016-05-01 00:00:00'): 5,\n",
       " Timestamp('2016-06-01 00:00:00'): 6,\n",
       " Timestamp('2016-07-01 00:00:00'): 7,\n",
       " Timestamp('2016-08-01 00:00:00'): 8,\n",
       " Timestamp('2016-09-01 00:00:00'): 9,\n",
       " Timestamp('2016-10-01 00:00:00'): 10,\n",
       " Timestamp('2016-11-01 00:00:00'): 11,\n",
       " Timestamp('2016-12-01 00:00:00'): 12,\n",
       " Timestamp('2017-01-01 00:00:00'): 13,\n",
       " Timestamp('2017-02-01 00:00:00'): 14,\n",
       " Timestamp('2017-03-01 00:00:00'): 15,\n",
       " Timestamp('2017-04-01 00:00:00'): 16,\n",
       " Timestamp('2017-05-01 00:00:00'): 17,\n",
       " Timestamp('2017-06-01 00:00:00'): 18,\n",
       " Timestamp('2017-07-01 00:00:00'): 19,\n",
       " Timestamp('2017-08-01 00:00:00'): 20,\n",
       " Timestamp('2017-09-01 00:00:00'): 21,\n",
       " Timestamp('2017-10-01 00:00:00'): 22,\n",
       " Timestamp('2017-11-01 00:00:00'): 23,\n",
       " Timestamp('2017-12-01 00:00:00'): 24,\n",
       " Timestamp('2018-01-01 00:00:00'): 25,\n",
       " Timestamp('2018-02-01 00:00:00'): 26,\n",
       " Timestamp('2018-03-01 00:00:00'): 27,\n",
       " Timestamp('2018-04-01 00:00:00'): 28,\n",
       " Timestamp('2018-05-01 00:00:00'): 29,\n",
       " Timestamp('2018-06-01 00:00:00'): 30,\n",
       " Timestamp('2018-07-01 00:00:00'): 31,\n",
       " Timestamp('2018-08-01 00:00:00'): 32,\n",
       " Timestamp('2018-09-01 00:00:00'): 33,\n",
       " Timestamp('2018-10-01 00:00:00'): 34,\n",
       " Timestamp('2018-11-01 00:00:00'): 35,\n",
       " Timestamp('2018-12-01 00:00:00'): 36,\n",
       " Timestamp('2019-01-01 00:00:00'): 37,\n",
       " Timestamp('2019-02-01 00:00:00'): 38,\n",
       " Timestamp('2019-03-01 00:00:00'): 39,\n",
       " Timestamp('2019-04-01 00:00:00'): 40,\n",
       " Timestamp('2019-05-01 00:00:00'): 41,\n",
       " Timestamp('2019-06-01 00:00:00'): 42,\n",
       " Timestamp('2019-07-01 00:00:00'): 43,\n",
       " Timestamp('2019-08-01 00:00:00'): 44,\n",
       " Timestamp('2019-09-01 00:00:00'): 45,\n",
       " Timestamp('2019-10-01 00:00:00'): 46,\n",
       " Timestamp('2019-11-01 00:00:00'): 47,\n",
       " Timestamp('2019-12-01 00:00:00'): 48,\n",
       " Timestamp('2020-01-01 00:00:00'): 49,\n",
       " Timestamp('2020-02-01 00:00:00'): 50,\n",
       " Timestamp('2020-03-01 00:00:00'): 51,\n",
       " Timestamp('2020-04-01 00:00:00'): 52,\n",
       " Timestamp('2020-05-01 00:00:00'): 53,\n",
       " Timestamp('2020-06-01 00:00:00'): 54,\n",
       " Timestamp('2020-07-01 00:00:00'): 55,\n",
       " Timestamp('2020-08-01 00:00:00'): 56,\n",
       " Timestamp('2020-09-01 00:00:00'): 57,\n",
       " Timestamp('2020-10-01 00:00:00'): 58,\n",
       " Timestamp('2020-11-01 00:00:00'): 59,\n",
       " Timestamp('2020-12-01 00:00:00'): 60,\n",
       " Timestamp('2021-01-01 00:00:00'): 61,\n",
       " Timestamp('2021-02-01 00:00:00'): 62,\n",
       " Timestamp('2021-03-01 00:00:00'): 63,\n",
       " Timestamp('2021-04-01 00:00:00'): 64,\n",
       " Timestamp('2021-05-01 00:00:00'): 65,\n",
       " Timestamp('2021-06-01 00:00:00'): 66,\n",
       " Timestamp('2021-07-01 00:00:00'): 67,\n",
       " Timestamp('2021-08-01 00:00:00'): 68,\n",
       " Timestamp('2021-09-01 00:00:00'): 69,\n",
       " Timestamp('2021-10-01 00:00:00'): 70,\n",
       " Timestamp('2021-11-01 00:00:00'): 71,\n",
       " Timestamp('2021-12-01 00:00:00'): 72,\n",
       " Timestamp('2022-01-01 00:00:00'): 73,\n",
       " Timestamp('2022-02-01 00:00:00'): 74,\n",
       " Timestamp('2022-03-01 00:00:00'): 75,\n",
       " Timestamp('2022-04-01 00:00:00'): 76,\n",
       " Timestamp('2022-05-01 00:00:00'): 77,\n",
       " Timestamp('2022-06-01 00:00:00'): 78,\n",
       " Timestamp('2022-07-01 00:00:00'): 79,\n",
       " Timestamp('2022-08-01 00:00:00'): 80,\n",
       " Timestamp('2022-09-01 00:00:00'): 81,\n",
       " Timestamp('2022-10-01 00:00:00'): 82,\n",
       " Timestamp('2022-11-01 00:00:00'): 83,\n",
       " Timestamp('2022-12-01 00:00:00'): 84,\n",
       " Timestamp('2023-01-01 00:00:00'): 85,\n",
       " Timestamp('2023-02-01 00:00:00'): 86,\n",
       " Timestamp('2023-03-01 00:00:00'): 87,\n",
       " Timestamp('2023-04-01 00:00:00'): 88,\n",
       " Timestamp('2023-05-01 00:00:00'): 89,\n",
       " Timestamp('2023-06-01 00:00:00'): 90,\n",
       " Timestamp('2023-07-01 00:00:00'): 91,\n",
       " Timestamp('2023-08-01 00:00:00'): 92,\n",
       " Timestamp('2023-09-01 00:00:00'): 93,\n",
       " Timestamp('2023-10-01 00:00:00'): 94,\n",
       " Timestamp('2023-11-01 00:00:00'): 95,\n",
       " Timestamp('2023-12-01 00:00:00'): 96,\n",
       " Timestamp('2024-01-01 00:00:00'): 97,\n",
       " Timestamp('2024-02-01 00:00:00'): 98,\n",
       " Timestamp('2024-03-01 00:00:00'): 99,\n",
       " Timestamp('2024-04-01 00:00:00'): 100,\n",
       " Timestamp('2024-05-01 00:00:00'): 101,\n",
       " Timestamp('2024-06-01 00:00:00'): 102,\n",
       " Timestamp('2024-07-01 00:00:00'): 103,\n",
       " Timestamp('2024-08-01 00:00:00'): 104,\n",
       " Timestamp('2024-09-01 00:00:00'): 105,\n",
       " Timestamp('2024-10-01 00:00:00'): 106,\n",
       " Timestamp('2024-11-01 00:00:00'): 107,\n",
       " Timestamp('2024-12-01 00:00:00'): 108}"
      ]
     },
     "execution_count": 268,
     "metadata": {},
     "output_type": "execute_result"
    }
   ],
   "source": [
    "\n",
    "PERIOD_DATE_MAP = pipe.named_steps['period_index_adder'].period_date_mapping\n",
    "PERIOD_DATE_MAP"
   ]
  },
  {
   "cell_type": "code",
   "execution_count": 269,
   "metadata": {},
   "outputs": [],
   "source": [
    "def find_idx_from_date(target_date, args, period_date_map=PERIOD_DATE_MAP):\n",
    "    \"\"\"\n",
    "    Finds the 'periodo' (index) corresponding to a given datetime in the PERIOD_DATE_MAP.\n",
    "\n",
    "    Args:\n",
    "        target_date (str or datetime): The target date to search for (e.g., '2020-01-01').\n",
    "        period_date_map (dict): The PERIOD_DATE_MAP containing period-to-date mappings.\n",
    "\n",
    "    Returns:\n",
    "        int: The 'periodo' (index) corresponding to the target date, or None if not found.\n",
    "    \"\"\"\n",
    "    # Ensure the target_date is a datetime object and normalize to quarter-end\n",
    "    if isinstance(target_date, str):\n",
    "        target_date = pd.to_datetime(target_date)\n",
    "    if args['FrequencyDateGroup'] == 'Q' or args['FrequencyDateGroup'] == 'QE':\n",
    "        target_date = target_date + pd.offsets.QuarterEnd(0)\n",
    "\n",
    "    # Iterate through the PERIOD_DATE_MAP to find the matching period\n",
    "    for date, period in period_date_map.items():\n",
    "        if isinstance(date, str):\n",
    "            date = pd.to_datetime(date)\n",
    "        if args['FrequencyDateGroup'] == 'Q' or args['FrequencyDateGroup'] == 'QE':\n",
    "            date = date + pd.offsets.QuarterEnd(0) # Normalize to quarter-end\n",
    "        if date == target_date:\n",
    "            return period - 1\n",
    "\n",
    "    return None\n",
    "\n",
    "\n",
    "def find_date_from_idx(target_idx, args, period_date_map=PERIOD_DATE_MAP):\n",
    "    \"\"\"\n",
    "    Finds the date corresponding to a given 'periodo' (index) in the PERIOD_DATE_MAP.\n",
    "\n",
    "    Args:\n",
    "        target_idx (int): The target index to search for (e.g., 1, 2, 3).\n",
    "        period_date_map (dict): The PERIOD_DATE_MAP containing period-to-date mappings.\n",
    "\n",
    "    Returns:\n",
    "        datetime or None: The date corresponding to the target index, or None if not found.\n",
    "    \"\"\"\n",
    "    # Iterate through the PERIOD_DATE_MAP to find the matching index\n",
    "    for date, period in period_date_map.items():\n",
    "        if period == target_idx:\n",
    "            date = pd.to_datetime(date) if isinstance(date, str) else date\n",
    "            date = date + pd.offsets.QuarterEnd(0) if args['FrequencyDateGroup'] == 'Q' or args['FrequencyDateGroup'] == 'QE' else date\n",
    "            return date\n",
    "    return None"
   ]
  },
  {
   "cell_type": "code",
   "execution_count": 270,
   "metadata": {},
   "outputs": [
    {
     "name": "stdout",
     "output_type": "stream",
     "text": [
      "Choque_Inicial {'start_date': '2020-01-01', 'end_date': '2020-07-01'}\n",
      "Lockdown_2021 {'start_date': '2021-04-01', 'end_date': '2021-05-01'}\n",
      "Step_PosPandemia {'start_date': '2020-08-01', 'end_date': '2024-12-01', 'exclude_ranges': [('2021-04-01', '2021-05-01')], 'plot': False, 'step': True}\n",
      "Trend_PosPandemia {'start_date': '2020-08-01', 'end_date': '2024-12-01', 'exclude_ranges': [('2021-04-01', '2021-05-01')], 'plot': True, 'add_time_trend': True, 'keep_period_index': True, 'step': False}\n"
     ]
    },
    {
     "data": {
      "text/plain": [
       "{'Choque_Inicial': {'start_index': 48, 'end_index': 54},\n",
       " 'Lockdown_2021': {'start_index': 63, 'end_index': 64},\n",
       " 'Step_PosPandemia': {'start_index': 55, 'end_index': 107},\n",
       " 'Trend_PosPandemia': {'start_index': 55, 'end_index': 107}}"
      ]
     },
     "execution_count": 270,
     "metadata": {},
     "output_type": "execute_result"
    }
   ],
   "source": [
    "DummyIndexes = {}\n",
    "\n",
    "# Iterate over DUMMY_ARGS to calculate and store indexes\n",
    "for dummy_name, config in DUMMY_ARGS.items():\n",
    "    start_date = config.get(\"start_date\")\n",
    "    end_date = config.get(\"end_date\")\n",
    "    \n",
    "    print(dummy_name, config)\n",
    "    # Calculate indexes using find_idx_from_date\n",
    "    start_idx = find_idx_from_date(start_date, PREPROCESSOR_ARGS, PERIOD_DATE_MAP) if start_date else None\n",
    "    end_idx = find_idx_from_date(end_date, PREPROCESSOR_ARGS, PERIOD_DATE_MAP) if end_date else None\n",
    "    \n",
    "    # Store the indexes in the table\n",
    "    DummyIndexes[dummy_name] = {\n",
    "        \"start_index\": start_idx,\n",
    "        \"end_index\": end_idx\n",
    "    }\n",
    "DummyIndexes\n",
    "\n"
   ]
  },
  {
   "cell_type": "markdown",
   "metadata": {},
   "source": [
    "# Exploration\n"
   ]
  },
  {
   "cell_type": "code",
   "execution_count": 271,
   "metadata": {},
   "outputs": [
    {
     "data": {
      "application/vnd.microsoft.datawrangler.viewer.v0+json": {
       "columns": [
        {
         "name": "index",
         "rawType": "int64",
         "type": "integer"
        },
        {
         "name": "date",
         "rawType": "datetime64[ns]",
         "type": "datetime"
        },
        {
         "name": "variavel",
         "rawType": "object",
         "type": "string"
        },
        {
         "name": "valores",
         "rawType": "int64",
         "type": "integer"
        },
        {
         "name": "periodo",
         "rawType": "int64",
         "type": "integer"
        },
        {
         "name": "Choque_Inicial",
         "rawType": "int64",
         "type": "integer"
        },
        {
         "name": "Lockdown_2021",
         "rawType": "int64",
         "type": "integer"
        },
        {
         "name": "Step_PosPandemia",
         "rawType": "int64",
         "type": "integer"
        },
        {
         "name": "Trend_PosPandemia",
         "rawType": "int64",
         "type": "integer"
        },
        {
         "name": "month_2",
         "rawType": "int64",
         "type": "integer"
        },
        {
         "name": "month_3",
         "rawType": "int64",
         "type": "integer"
        },
        {
         "name": "month_4",
         "rawType": "int64",
         "type": "integer"
        },
        {
         "name": "month_5",
         "rawType": "int64",
         "type": "integer"
        },
        {
         "name": "month_6",
         "rawType": "int64",
         "type": "integer"
        },
        {
         "name": "month_7",
         "rawType": "int64",
         "type": "integer"
        },
        {
         "name": "month_8",
         "rawType": "int64",
         "type": "integer"
        },
        {
         "name": "month_9",
         "rawType": "int64",
         "type": "integer"
        },
        {
         "name": "month_10",
         "rawType": "int64",
         "type": "integer"
        },
        {
         "name": "month_11",
         "rawType": "int64",
         "type": "integer"
        },
        {
         "name": "month_12",
         "rawType": "int64",
         "type": "integer"
        }
       ],
       "conversionMethod": "pd.DataFrame",
       "ref": "711a32c8-da2d-452b-b5d8-d9ec81c35e1f",
       "rows": [
        [
         "0",
         "2016-01-01 00:00:00",
         "F00-F09 - Transtornos mentais orgânicos, inclusive os sintomáticos",
         "109",
         "1",
         "0",
         "0",
         "0",
         "0",
         "0",
         "0",
         "0",
         "0",
         "0",
         "0",
         "0",
         "0",
         "0",
         "0",
         "0"
        ],
        [
         "1",
         "2018-03-01 00:00:00",
         "F00-F09 - Transtornos mentais orgânicos, inclusive os sintomáticos",
         "242",
         "27",
         "0",
         "0",
         "0",
         "0",
         "0",
         "1",
         "0",
         "0",
         "0",
         "0",
         "0",
         "0",
         "0",
         "0",
         "0"
        ],
        [
         "2",
         "2018-04-01 00:00:00",
         "F00-F09 - Transtornos mentais orgânicos, inclusive os sintomáticos",
         "223",
         "28",
         "0",
         "0",
         "0",
         "0",
         "0",
         "0",
         "1",
         "0",
         "0",
         "0",
         "0",
         "0",
         "0",
         "0",
         "0"
        ],
        [
         "3",
         "2022-04-01 00:00:00",
         "F00-F09 - Transtornos mentais orgânicos, inclusive os sintomáticos",
         "294",
         "76",
         "0",
         "0",
         "1",
         "76",
         "0",
         "0",
         "1",
         "0",
         "0",
         "0",
         "0",
         "0",
         "0",
         "0",
         "0"
        ],
        [
         "4",
         "2024-01-01 00:00:00",
         "F00-F09 - Transtornos mentais orgânicos, inclusive os sintomáticos",
         "451",
         "97",
         "0",
         "0",
         "1",
         "97",
         "0",
         "0",
         "0",
         "0",
         "0",
         "0",
         "0",
         "0",
         "0",
         "0",
         "0"
        ],
        [
         "5",
         "2024-02-01 00:00:00",
         "F00-F09 - Transtornos mentais orgânicos, inclusive os sintomáticos",
         "379",
         "98",
         "0",
         "0",
         "1",
         "98",
         "1",
         "0",
         "0",
         "0",
         "0",
         "0",
         "0",
         "0",
         "0",
         "0",
         "0"
        ],
        [
         "6",
         "2022-03-01 00:00:00",
         "F00-F09 - Transtornos mentais orgânicos, inclusive os sintomáticos",
         "381",
         "75",
         "0",
         "0",
         "1",
         "75",
         "0",
         "1",
         "0",
         "0",
         "0",
         "0",
         "0",
         "0",
         "0",
         "0",
         "0"
        ],
        [
         "7",
         "2016-10-01 00:00:00",
         "F00-F09 - Transtornos mentais orgânicos, inclusive os sintomáticos",
         "245",
         "10",
         "0",
         "0",
         "0",
         "0",
         "0",
         "0",
         "0",
         "0",
         "0",
         "0",
         "0",
         "0",
         "1",
         "0",
         "0"
        ],
        [
         "8",
         "2018-05-01 00:00:00",
         "F00-F09 - Transtornos mentais orgânicos, inclusive os sintomáticos",
         "252",
         "29",
         "0",
         "0",
         "0",
         "0",
         "0",
         "0",
         "0",
         "1",
         "0",
         "0",
         "0",
         "0",
         "0",
         "0",
         "0"
        ],
        [
         "9",
         "2022-02-01 00:00:00",
         "F00-F09 - Transtornos mentais orgânicos, inclusive os sintomáticos",
         "287",
         "74",
         "0",
         "0",
         "1",
         "74",
         "1",
         "0",
         "0",
         "0",
         "0",
         "0",
         "0",
         "0",
         "0",
         "0",
         "0"
        ],
        [
         "10",
         "2018-06-01 00:00:00",
         "F00-F09 - Transtornos mentais orgânicos, inclusive os sintomáticos",
         "258",
         "30",
         "0",
         "0",
         "0",
         "0",
         "0",
         "0",
         "0",
         "0",
         "1",
         "0",
         "0",
         "0",
         "0",
         "0",
         "0"
        ],
        [
         "11",
         "2022-01-01 00:00:00",
         "F00-F09 - Transtornos mentais orgânicos, inclusive os sintomáticos",
         "206",
         "73",
         "0",
         "0",
         "1",
         "73",
         "0",
         "0",
         "0",
         "0",
         "0",
         "0",
         "0",
         "0",
         "0",
         "0",
         "0"
        ],
        [
         "12",
         "2018-07-01 00:00:00",
         "F00-F09 - Transtornos mentais orgânicos, inclusive os sintomáticos",
         "222",
         "31",
         "0",
         "0",
         "0",
         "0",
         "0",
         "0",
         "0",
         "0",
         "0",
         "1",
         "0",
         "0",
         "0",
         "0",
         "0"
        ],
        [
         "13",
         "2016-09-01 00:00:00",
         "F00-F09 - Transtornos mentais orgânicos, inclusive os sintomáticos",
         "242",
         "9",
         "0",
         "0",
         "0",
         "0",
         "0",
         "0",
         "0",
         "0",
         "0",
         "0",
         "0",
         "1",
         "0",
         "0",
         "0"
        ],
        [
         "14",
         "2018-08-01 00:00:00",
         "F00-F09 - Transtornos mentais orgânicos, inclusive os sintomáticos",
         "261",
         "32",
         "0",
         "0",
         "0",
         "0",
         "0",
         "0",
         "0",
         "0",
         "0",
         "0",
         "1",
         "0",
         "0",
         "0",
         "0"
        ],
        [
         "15",
         "2023-12-01 00:00:00",
         "F00-F09 - Transtornos mentais orgânicos, inclusive os sintomáticos",
         "484",
         "96",
         "0",
         "0",
         "1",
         "96",
         "0",
         "0",
         "0",
         "0",
         "0",
         "0",
         "0",
         "0",
         "0",
         "0",
         "1"
        ],
        [
         "16",
         "2021-12-01 00:00:00",
         "F00-F09 - Transtornos mentais orgânicos, inclusive os sintomáticos",
         "347",
         "72",
         "0",
         "0",
         "1",
         "72",
         "0",
         "0",
         "0",
         "0",
         "0",
         "0",
         "0",
         "0",
         "0",
         "0",
         "1"
        ],
        [
         "17",
         "2024-03-01 00:00:00",
         "F00-F09 - Transtornos mentais orgânicos, inclusive os sintomáticos",
         "448",
         "99",
         "0",
         "0",
         "1",
         "99",
         "0",
         "1",
         "0",
         "0",
         "0",
         "0",
         "0",
         "0",
         "0",
         "0",
         "0"
        ],
        [
         "18",
         "2021-11-01 00:00:00",
         "F00-F09 - Transtornos mentais orgânicos, inclusive os sintomáticos",
         "308",
         "71",
         "0",
         "0",
         "1",
         "71",
         "0",
         "0",
         "0",
         "0",
         "0",
         "0",
         "0",
         "0",
         "0",
         "1",
         "0"
        ],
        [
         "19",
         "2023-07-01 00:00:00",
         "F00-F09 - Transtornos mentais orgânicos, inclusive os sintomáticos",
         "442",
         "91",
         "0",
         "0",
         "1",
         "91",
         "0",
         "0",
         "0",
         "0",
         "0",
         "1",
         "0",
         "0",
         "0",
         "0",
         "0"
        ],
        [
         "20",
         "2018-10-01 00:00:00",
         "F00-F09 - Transtornos mentais orgânicos, inclusive os sintomáticos",
         "286",
         "34",
         "0",
         "0",
         "0",
         "0",
         "0",
         "0",
         "0",
         "0",
         "0",
         "0",
         "0",
         "0",
         "1",
         "0",
         "0"
        ],
        [
         "21",
         "2024-04-01 00:00:00",
         "F00-F09 - Transtornos mentais orgânicos, inclusive os sintomáticos",
         "507",
         "100",
         "0",
         "0",
         "1",
         "100",
         "0",
         "0",
         "1",
         "0",
         "0",
         "0",
         "0",
         "0",
         "0",
         "0",
         "0"
        ],
        [
         "22",
         "2021-10-01 00:00:00",
         "F00-F09 - Transtornos mentais orgânicos, inclusive os sintomáticos",
         "356",
         "70",
         "0",
         "0",
         "1",
         "70",
         "0",
         "0",
         "0",
         "0",
         "0",
         "0",
         "0",
         "0",
         "1",
         "0",
         "0"
        ],
        [
         "23",
         "2018-11-01 00:00:00",
         "F00-F09 - Transtornos mentais orgânicos, inclusive os sintomáticos",
         "249",
         "35",
         "0",
         "0",
         "0",
         "0",
         "0",
         "0",
         "0",
         "0",
         "0",
         "0",
         "0",
         "0",
         "0",
         "1",
         "0"
        ],
        [
         "24",
         "2016-07-01 00:00:00",
         "F00-F09 - Transtornos mentais orgânicos, inclusive os sintomáticos",
         "271",
         "7",
         "0",
         "0",
         "0",
         "0",
         "0",
         "0",
         "0",
         "0",
         "0",
         "1",
         "0",
         "0",
         "0",
         "0",
         "0"
        ],
        [
         "25",
         "2021-09-01 00:00:00",
         "F00-F09 - Transtornos mentais orgânicos, inclusive os sintomáticos",
         "358",
         "69",
         "0",
         "0",
         "1",
         "69",
         "0",
         "0",
         "0",
         "0",
         "0",
         "0",
         "0",
         "1",
         "0",
         "0",
         "0"
        ],
        [
         "26",
         "2021-08-01 00:00:00",
         "F00-F09 - Transtornos mentais orgânicos, inclusive os sintomáticos",
         "350",
         "68",
         "0",
         "0",
         "1",
         "68",
         "0",
         "0",
         "0",
         "0",
         "0",
         "0",
         "1",
         "0",
         "0",
         "0",
         "0"
        ],
        [
         "27",
         "2024-05-01 00:00:00",
         "F00-F09 - Transtornos mentais orgânicos, inclusive os sintomáticos",
         "359",
         "101",
         "0",
         "0",
         "1",
         "101",
         "0",
         "0",
         "0",
         "1",
         "0",
         "0",
         "0",
         "0",
         "0",
         "0",
         "0"
        ],
        [
         "28",
         "2021-07-01 00:00:00",
         "F00-F09 - Transtornos mentais orgânicos, inclusive os sintomáticos",
         "376",
         "67",
         "0",
         "0",
         "1",
         "67",
         "0",
         "0",
         "0",
         "0",
         "0",
         "1",
         "0",
         "0",
         "0",
         "0",
         "0"
        ],
        [
         "29",
         "2018-12-01 00:00:00",
         "F00-F09 - Transtornos mentais orgânicos, inclusive os sintomáticos",
         "200",
         "36",
         "0",
         "0",
         "0",
         "0",
         "0",
         "0",
         "0",
         "0",
         "0",
         "0",
         "0",
         "0",
         "0",
         "0",
         "1"
        ],
        [
         "30",
         "2019-01-01 00:00:00",
         "F00-F09 - Transtornos mentais orgânicos, inclusive os sintomáticos",
         "267",
         "37",
         "0",
         "0",
         "0",
         "0",
         "0",
         "0",
         "0",
         "0",
         "0",
         "0",
         "0",
         "0",
         "0",
         "0",
         "0"
        ],
        [
         "31",
         "2016-08-01 00:00:00",
         "F00-F09 - Transtornos mentais orgânicos, inclusive os sintomáticos",
         "305",
         "8",
         "0",
         "0",
         "0",
         "0",
         "0",
         "0",
         "0",
         "0",
         "0",
         "0",
         "1",
         "0",
         "0",
         "0",
         "0"
        ],
        [
         "32",
         "2021-06-01 00:00:00",
         "F00-F09 - Transtornos mentais orgânicos, inclusive os sintomáticos",
         "332",
         "66",
         "0",
         "0",
         "1",
         "66",
         "0",
         "0",
         "0",
         "0",
         "1",
         "0",
         "0",
         "0",
         "0",
         "0",
         "0"
        ],
        [
         "33",
         "2022-05-01 00:00:00",
         "F00-F09 - Transtornos mentais orgânicos, inclusive os sintomáticos",
         "391",
         "77",
         "0",
         "0",
         "1",
         "77",
         "0",
         "0",
         "0",
         "1",
         "0",
         "0",
         "0",
         "0",
         "0",
         "0",
         "0"
        ],
        [
         "34",
         "2016-11-01 00:00:00",
         "F00-F09 - Transtornos mentais orgânicos, inclusive os sintomáticos",
         "175",
         "11",
         "0",
         "0",
         "0",
         "0",
         "0",
         "0",
         "0",
         "0",
         "0",
         "0",
         "0",
         "0",
         "0",
         "1",
         "0"
        ],
        [
         "35",
         "2023-06-01 00:00:00",
         "F00-F09 - Transtornos mentais orgânicos, inclusive os sintomáticos",
         "399",
         "90",
         "0",
         "0",
         "1",
         "90",
         "0",
         "0",
         "0",
         "0",
         "1",
         "0",
         "0",
         "0",
         "0",
         "0",
         "0"
        ],
        [
         "36",
         "2023-05-01 00:00:00",
         "F00-F09 - Transtornos mentais orgânicos, inclusive os sintomáticos",
         "468",
         "89",
         "0",
         "0",
         "1",
         "89",
         "0",
         "0",
         "0",
         "1",
         "0",
         "0",
         "0",
         "0",
         "0",
         "0",
         "0"
        ],
        [
         "37",
         "2017-05-01 00:00:00",
         "F00-F09 - Transtornos mentais orgânicos, inclusive os sintomáticos",
         "229",
         "17",
         "0",
         "0",
         "0",
         "0",
         "0",
         "0",
         "0",
         "1",
         "0",
         "0",
         "0",
         "0",
         "0",
         "0",
         "0"
        ],
        [
         "38",
         "2023-08-01 00:00:00",
         "F00-F09 - Transtornos mentais orgânicos, inclusive os sintomáticos",
         "493",
         "92",
         "0",
         "0",
         "1",
         "92",
         "0",
         "0",
         "0",
         "0",
         "0",
         "0",
         "1",
         "0",
         "0",
         "0",
         "0"
        ],
        [
         "39",
         "2023-04-01 00:00:00",
         "F00-F09 - Transtornos mentais orgânicos, inclusive os sintomáticos",
         "368",
         "88",
         "0",
         "0",
         "1",
         "88",
         "0",
         "0",
         "1",
         "0",
         "0",
         "0",
         "0",
         "0",
         "0",
         "0",
         "0"
        ],
        [
         "40",
         "2017-03-01 00:00:00",
         "F00-F09 - Transtornos mentais orgânicos, inclusive os sintomáticos",
         "262",
         "15",
         "0",
         "0",
         "0",
         "0",
         "0",
         "1",
         "0",
         "0",
         "0",
         "0",
         "0",
         "0",
         "0",
         "0",
         "0"
        ],
        [
         "41",
         "2017-06-01 00:00:00",
         "F00-F09 - Transtornos mentais orgânicos, inclusive os sintomáticos",
         "254",
         "18",
         "0",
         "0",
         "0",
         "0",
         "0",
         "0",
         "0",
         "0",
         "1",
         "0",
         "0",
         "0",
         "0",
         "0",
         "0"
        ],
        [
         "42",
         "2017-02-01 00:00:00",
         "F00-F09 - Transtornos mentais orgânicos, inclusive os sintomáticos",
         "165",
         "14",
         "0",
         "0",
         "0",
         "0",
         "1",
         "0",
         "0",
         "0",
         "0",
         "0",
         "0",
         "0",
         "0",
         "0",
         "0"
        ],
        [
         "43",
         "2023-03-01 00:00:00",
         "F00-F09 - Transtornos mentais orgânicos, inclusive os sintomáticos",
         "428",
         "87",
         "0",
         "0",
         "1",
         "87",
         "0",
         "1",
         "0",
         "0",
         "0",
         "0",
         "0",
         "0",
         "0",
         "0",
         "0"
        ],
        [
         "44",
         "2017-07-01 00:00:00",
         "F00-F09 - Transtornos mentais orgânicos, inclusive os sintomáticos",
         "189",
         "19",
         "0",
         "0",
         "0",
         "0",
         "0",
         "0",
         "0",
         "0",
         "0",
         "1",
         "0",
         "0",
         "0",
         "0",
         "0"
        ],
        [
         "45",
         "2023-09-01 00:00:00",
         "F00-F09 - Transtornos mentais orgânicos, inclusive os sintomáticos",
         "399",
         "93",
         "0",
         "0",
         "1",
         "93",
         "0",
         "0",
         "0",
         "0",
         "0",
         "0",
         "0",
         "1",
         "0",
         "0",
         "0"
        ],
        [
         "46",
         "2023-02-01 00:00:00",
         "F00-F09 - Transtornos mentais orgânicos, inclusive os sintomáticos",
         "362",
         "86",
         "0",
         "0",
         "1",
         "86",
         "1",
         "0",
         "0",
         "0",
         "0",
         "0",
         "0",
         "0",
         "0",
         "0",
         "0"
        ],
        [
         "47",
         "2023-01-01 00:00:00",
         "F00-F09 - Transtornos mentais orgânicos, inclusive os sintomáticos",
         "422",
         "85",
         "0",
         "0",
         "1",
         "85",
         "0",
         "0",
         "0",
         "0",
         "0",
         "0",
         "0",
         "0",
         "0",
         "0",
         "0"
        ],
        [
         "48",
         "2017-08-01 00:00:00",
         "F00-F09 - Transtornos mentais orgânicos, inclusive os sintomáticos",
         "193",
         "20",
         "0",
         "0",
         "0",
         "0",
         "0",
         "0",
         "0",
         "0",
         "0",
         "0",
         "1",
         "0",
         "0",
         "0",
         "0"
        ],
        [
         "49",
         "2022-06-01 00:00:00",
         "F00-F09 - Transtornos mentais orgânicos, inclusive os sintomáticos",
         "368",
         "78",
         "0",
         "0",
         "1",
         "78",
         "0",
         "0",
         "0",
         "0",
         "1",
         "0",
         "0",
         "0",
         "0",
         "0",
         "0"
        ]
       ],
       "shape": {
        "columns": 19,
        "rows": 1296
       }
      },
      "text/html": [
       "<div>\n",
       "<style scoped>\n",
       "    .dataframe tbody tr th:only-of-type {\n",
       "        vertical-align: middle;\n",
       "    }\n",
       "\n",
       "    .dataframe tbody tr th {\n",
       "        vertical-align: top;\n",
       "    }\n",
       "\n",
       "    .dataframe thead th {\n",
       "        text-align: right;\n",
       "    }\n",
       "</style>\n",
       "<table border=\"1\" class=\"dataframe\">\n",
       "  <thead>\n",
       "    <tr style=\"text-align: right;\">\n",
       "      <th></th>\n",
       "      <th>date</th>\n",
       "      <th>variavel</th>\n",
       "      <th>valores</th>\n",
       "      <th>periodo</th>\n",
       "      <th>Choque_Inicial</th>\n",
       "      <th>Lockdown_2021</th>\n",
       "      <th>Step_PosPandemia</th>\n",
       "      <th>Trend_PosPandemia</th>\n",
       "      <th>month_2</th>\n",
       "      <th>month_3</th>\n",
       "      <th>month_4</th>\n",
       "      <th>month_5</th>\n",
       "      <th>month_6</th>\n",
       "      <th>month_7</th>\n",
       "      <th>month_8</th>\n",
       "      <th>month_9</th>\n",
       "      <th>month_10</th>\n",
       "      <th>month_11</th>\n",
       "      <th>month_12</th>\n",
       "    </tr>\n",
       "  </thead>\n",
       "  <tbody>\n",
       "    <tr>\n",
       "      <th>0</th>\n",
       "      <td>2016-01-01</td>\n",
       "      <td>F00-F09 - Transtornos mentais orgânicos, inclu...</td>\n",
       "      <td>109</td>\n",
       "      <td>1</td>\n",
       "      <td>0</td>\n",
       "      <td>0</td>\n",
       "      <td>0</td>\n",
       "      <td>0</td>\n",
       "      <td>0</td>\n",
       "      <td>0</td>\n",
       "      <td>0</td>\n",
       "      <td>0</td>\n",
       "      <td>0</td>\n",
       "      <td>0</td>\n",
       "      <td>0</td>\n",
       "      <td>0</td>\n",
       "      <td>0</td>\n",
       "      <td>0</td>\n",
       "      <td>0</td>\n",
       "    </tr>\n",
       "    <tr>\n",
       "      <th>1</th>\n",
       "      <td>2018-03-01</td>\n",
       "      <td>F00-F09 - Transtornos mentais orgânicos, inclu...</td>\n",
       "      <td>242</td>\n",
       "      <td>27</td>\n",
       "      <td>0</td>\n",
       "      <td>0</td>\n",
       "      <td>0</td>\n",
       "      <td>0</td>\n",
       "      <td>0</td>\n",
       "      <td>1</td>\n",
       "      <td>0</td>\n",
       "      <td>0</td>\n",
       "      <td>0</td>\n",
       "      <td>0</td>\n",
       "      <td>0</td>\n",
       "      <td>0</td>\n",
       "      <td>0</td>\n",
       "      <td>0</td>\n",
       "      <td>0</td>\n",
       "    </tr>\n",
       "    <tr>\n",
       "      <th>2</th>\n",
       "      <td>2018-04-01</td>\n",
       "      <td>F00-F09 - Transtornos mentais orgânicos, inclu...</td>\n",
       "      <td>223</td>\n",
       "      <td>28</td>\n",
       "      <td>0</td>\n",
       "      <td>0</td>\n",
       "      <td>0</td>\n",
       "      <td>0</td>\n",
       "      <td>0</td>\n",
       "      <td>0</td>\n",
       "      <td>1</td>\n",
       "      <td>0</td>\n",
       "      <td>0</td>\n",
       "      <td>0</td>\n",
       "      <td>0</td>\n",
       "      <td>0</td>\n",
       "      <td>0</td>\n",
       "      <td>0</td>\n",
       "      <td>0</td>\n",
       "    </tr>\n",
       "    <tr>\n",
       "      <th>3</th>\n",
       "      <td>2022-04-01</td>\n",
       "      <td>F00-F09 - Transtornos mentais orgânicos, inclu...</td>\n",
       "      <td>294</td>\n",
       "      <td>76</td>\n",
       "      <td>0</td>\n",
       "      <td>0</td>\n",
       "      <td>1</td>\n",
       "      <td>76</td>\n",
       "      <td>0</td>\n",
       "      <td>0</td>\n",
       "      <td>1</td>\n",
       "      <td>0</td>\n",
       "      <td>0</td>\n",
       "      <td>0</td>\n",
       "      <td>0</td>\n",
       "      <td>0</td>\n",
       "      <td>0</td>\n",
       "      <td>0</td>\n",
       "      <td>0</td>\n",
       "    </tr>\n",
       "    <tr>\n",
       "      <th>4</th>\n",
       "      <td>2024-01-01</td>\n",
       "      <td>F00-F09 - Transtornos mentais orgânicos, inclu...</td>\n",
       "      <td>451</td>\n",
       "      <td>97</td>\n",
       "      <td>0</td>\n",
       "      <td>0</td>\n",
       "      <td>1</td>\n",
       "      <td>97</td>\n",
       "      <td>0</td>\n",
       "      <td>0</td>\n",
       "      <td>0</td>\n",
       "      <td>0</td>\n",
       "      <td>0</td>\n",
       "      <td>0</td>\n",
       "      <td>0</td>\n",
       "      <td>0</td>\n",
       "      <td>0</td>\n",
       "      <td>0</td>\n",
       "      <td>0</td>\n",
       "    </tr>\n",
       "    <tr>\n",
       "      <th>...</th>\n",
       "      <td>...</td>\n",
       "      <td>...</td>\n",
       "      <td>...</td>\n",
       "      <td>...</td>\n",
       "      <td>...</td>\n",
       "      <td>...</td>\n",
       "      <td>...</td>\n",
       "      <td>...</td>\n",
       "      <td>...</td>\n",
       "      <td>...</td>\n",
       "      <td>...</td>\n",
       "      <td>...</td>\n",
       "      <td>...</td>\n",
       "      <td>...</td>\n",
       "      <td>...</td>\n",
       "      <td>...</td>\n",
       "      <td>...</td>\n",
       "      <td>...</td>\n",
       "      <td>...</td>\n",
       "    </tr>\n",
       "    <tr>\n",
       "      <th>1291</th>\n",
       "      <td>2017-08-01</td>\n",
       "      <td>__Atendimentos na APS (exceto saúde mental)</td>\n",
       "      <td>122593</td>\n",
       "      <td>20</td>\n",
       "      <td>0</td>\n",
       "      <td>0</td>\n",
       "      <td>0</td>\n",
       "      <td>0</td>\n",
       "      <td>0</td>\n",
       "      <td>0</td>\n",
       "      <td>0</td>\n",
       "      <td>0</td>\n",
       "      <td>0</td>\n",
       "      <td>0</td>\n",
       "      <td>1</td>\n",
       "      <td>0</td>\n",
       "      <td>0</td>\n",
       "      <td>0</td>\n",
       "      <td>0</td>\n",
       "    </tr>\n",
       "    <tr>\n",
       "      <th>1292</th>\n",
       "      <td>2023-02-01</td>\n",
       "      <td>__Atendimentos na APS (exceto saúde mental)</td>\n",
       "      <td>180244</td>\n",
       "      <td>86</td>\n",
       "      <td>0</td>\n",
       "      <td>0</td>\n",
       "      <td>1</td>\n",
       "      <td>86</td>\n",
       "      <td>1</td>\n",
       "      <td>0</td>\n",
       "      <td>0</td>\n",
       "      <td>0</td>\n",
       "      <td>0</td>\n",
       "      <td>0</td>\n",
       "      <td>0</td>\n",
       "      <td>0</td>\n",
       "      <td>0</td>\n",
       "      <td>0</td>\n",
       "      <td>0</td>\n",
       "    </tr>\n",
       "    <tr>\n",
       "      <th>1293</th>\n",
       "      <td>2017-07-01</td>\n",
       "      <td>__Atendimentos na APS (exceto saúde mental)</td>\n",
       "      <td>114118</td>\n",
       "      <td>19</td>\n",
       "      <td>0</td>\n",
       "      <td>0</td>\n",
       "      <td>0</td>\n",
       "      <td>0</td>\n",
       "      <td>0</td>\n",
       "      <td>0</td>\n",
       "      <td>0</td>\n",
       "      <td>0</td>\n",
       "      <td>0</td>\n",
       "      <td>1</td>\n",
       "      <td>0</td>\n",
       "      <td>0</td>\n",
       "      <td>0</td>\n",
       "      <td>0</td>\n",
       "      <td>0</td>\n",
       "    </tr>\n",
       "    <tr>\n",
       "      <th>1294</th>\n",
       "      <td>2022-10-01</td>\n",
       "      <td>__Atendimentos na APS (exceto saúde mental)</td>\n",
       "      <td>224278</td>\n",
       "      <td>82</td>\n",
       "      <td>0</td>\n",
       "      <td>0</td>\n",
       "      <td>1</td>\n",
       "      <td>82</td>\n",
       "      <td>0</td>\n",
       "      <td>0</td>\n",
       "      <td>0</td>\n",
       "      <td>0</td>\n",
       "      <td>0</td>\n",
       "      <td>0</td>\n",
       "      <td>0</td>\n",
       "      <td>0</td>\n",
       "      <td>1</td>\n",
       "      <td>0</td>\n",
       "      <td>0</td>\n",
       "    </tr>\n",
       "    <tr>\n",
       "      <th>1295</th>\n",
       "      <td>2024-12-01</td>\n",
       "      <td>__Atendimentos na APS (exceto saúde mental)</td>\n",
       "      <td>220687</td>\n",
       "      <td>108</td>\n",
       "      <td>0</td>\n",
       "      <td>0</td>\n",
       "      <td>1</td>\n",
       "      <td>108</td>\n",
       "      <td>0</td>\n",
       "      <td>0</td>\n",
       "      <td>0</td>\n",
       "      <td>0</td>\n",
       "      <td>0</td>\n",
       "      <td>0</td>\n",
       "      <td>0</td>\n",
       "      <td>0</td>\n",
       "      <td>0</td>\n",
       "      <td>0</td>\n",
       "      <td>1</td>\n",
       "    </tr>\n",
       "  </tbody>\n",
       "</table>\n",
       "<p>1296 rows × 19 columns</p>\n",
       "</div>"
      ],
      "text/plain": [
       "           date                                           variavel  valores  \\\n",
       "0    2016-01-01  F00-F09 - Transtornos mentais orgânicos, inclu...      109   \n",
       "1    2018-03-01  F00-F09 - Transtornos mentais orgânicos, inclu...      242   \n",
       "2    2018-04-01  F00-F09 - Transtornos mentais orgânicos, inclu...      223   \n",
       "3    2022-04-01  F00-F09 - Transtornos mentais orgânicos, inclu...      294   \n",
       "4    2024-01-01  F00-F09 - Transtornos mentais orgânicos, inclu...      451   \n",
       "...         ...                                                ...      ...   \n",
       "1291 2017-08-01        __Atendimentos na APS (exceto saúde mental)   122593   \n",
       "1292 2023-02-01        __Atendimentos na APS (exceto saúde mental)   180244   \n",
       "1293 2017-07-01        __Atendimentos na APS (exceto saúde mental)   114118   \n",
       "1294 2022-10-01        __Atendimentos na APS (exceto saúde mental)   224278   \n",
       "1295 2024-12-01        __Atendimentos na APS (exceto saúde mental)   220687   \n",
       "\n",
       "      periodo  Choque_Inicial  Lockdown_2021  Step_PosPandemia  \\\n",
       "0           1               0              0                 0   \n",
       "1          27               0              0                 0   \n",
       "2          28               0              0                 0   \n",
       "3          76               0              0                 1   \n",
       "4          97               0              0                 1   \n",
       "...       ...             ...            ...               ...   \n",
       "1291       20               0              0                 0   \n",
       "1292       86               0              0                 1   \n",
       "1293       19               0              0                 0   \n",
       "1294       82               0              0                 1   \n",
       "1295      108               0              0                 1   \n",
       "\n",
       "      Trend_PosPandemia  month_2  month_3  month_4  month_5  month_6  month_7  \\\n",
       "0                     0        0        0        0        0        0        0   \n",
       "1                     0        0        1        0        0        0        0   \n",
       "2                     0        0        0        1        0        0        0   \n",
       "3                    76        0        0        1        0        0        0   \n",
       "4                    97        0        0        0        0        0        0   \n",
       "...                 ...      ...      ...      ...      ...      ...      ...   \n",
       "1291                  0        0        0        0        0        0        0   \n",
       "1292                 86        1        0        0        0        0        0   \n",
       "1293                  0        0        0        0        0        0        1   \n",
       "1294                 82        0        0        0        0        0        0   \n",
       "1295                108        0        0        0        0        0        0   \n",
       "\n",
       "      month_8  month_9  month_10  month_11  month_12  \n",
       "0           0        0         0         0         0  \n",
       "1           0        0         0         0         0  \n",
       "2           0        0         0         0         0  \n",
       "3           0        0         0         0         0  \n",
       "4           0        0         0         0         0  \n",
       "...       ...      ...       ...       ...       ...  \n",
       "1291        1        0         0         0         0  \n",
       "1292        0        0         0         0         0  \n",
       "1293        0        0         0         0         0  \n",
       "1294        0        0         1         0         0  \n",
       "1295        0        0         0         0         1  \n",
       "\n",
       "[1296 rows x 19 columns]"
      ]
     },
     "execution_count": 271,
     "metadata": {},
     "output_type": "execute_result"
    }
   ],
   "source": [
    "main_regrdf = RegressionDF\n",
    "main_regrdf[VARIABLE_COLUMN_NAME]\n",
    "main_regrdf"
   ]
  },
  {
   "cell_type": "code",
   "execution_count": 272,
   "metadata": {},
   "outputs": [
    {
     "name": "stdout",
     "output_type": "stream",
     "text": [
      "                                                    F-statistic   p-value\n",
      "F00-F09 - Transtornos mentais orgânicos, inclus...    51.122786  0.000000\n",
      "F20-F29 - Esquizofrenia, transtornos esquizotíp...   111.216436  0.000000\n",
      "F30-F39 - Transtornos do humor [afetivos]             69.039246  0.000000\n",
      "F40-F48 - Transtornos neuróticos, transtornos r...    84.810738  0.000000\n",
      "F50-F59 - Síndromes comportamentais associadas ...     8.291017  0.000456\n",
      "F60-F69 - Transtornos da personalidade e do com...     9.679091  0.000140\n",
      "F70-F79 - Retardo mental                              70.336844  0.000000\n",
      "F80-F89 - Transtornos do desenvolvimento psicol...   128.272485  0.000000\n",
      "F90-F98 - Transtornos do comportamento e transt...    60.021728  0.000000\n",
      "F99-F99 - Transtorno mental não especificado          71.515596  0.000000\n",
      "_Grand Total                                          89.300706  0.000000\n",
      "__Atendimentos na APS (exceto saúde mental)           15.201854  0.000002\n"
     ]
    }
   ],
   "source": [
    "from statsmodels.api import OLS\n",
    "from statsmodels.tools.tools import add_constant\n",
    "import pandas as pd\n",
    "from scipy.stats import f\n",
    "\n",
    "def chow_test(data, split_point, dependent_var, independent_vars):\n",
    "    \"\"\"\n",
    "    Realiza o teste de Chow para verificar mudanças estruturais em um modelo de regressão.\n",
    "\n",
    "    Args:\n",
    "        data (pd.DataFrame): DataFrame contendo os dados.\n",
    "        split_point (int): Ponto de divisão para o teste de Chow.\n",
    "        dependent_var (str): Nome da variável dependente.\n",
    "        independent_vars (list): Lista de nomes das variáveis independentes.\n",
    "\n",
    "    Returns:\n",
    "        dict: Resultados do teste de Chow contendo os valores F e p.\n",
    "    \"\"\"\n",
    "    # Dividir os dados em dois subconjuntos\n",
    "    data1 = data[data['periodo'] <= split_point]\n",
    "    data2 = data[data['periodo'] > split_point]\n",
    "\n",
    "    # Ajustar os modelos para cada subconjunto\n",
    "    X1 = add_constant(data1[independent_vars])\n",
    "    y1 = data1[dependent_var]\n",
    "    model1 = OLS(y1, X1).fit()\n",
    "\n",
    "    X2 = add_constant(data2[independent_vars])\n",
    "    y2 = data2[dependent_var]\n",
    "    model2 = OLS(y2, X2).fit()\n",
    "\n",
    "    # Ajustar o modelo para o conjunto completo\n",
    "    X_full = add_constant(data[independent_vars])\n",
    "    y_full = data[dependent_var]\n",
    "    model_full = OLS(y_full, X_full).fit()\n",
    "\n",
    "    # Calcular os graus de liberdade\n",
    "    k = len(independent_vars) + 1  # Número de parâmetros (incluindo o intercepto)\n",
    "    n1 = len(data1)\n",
    "    n2 = len(data2)\n",
    "    n = n1 + n2\n",
    "\n",
    "    # Calcular a soma dos quadrados dos resíduos\n",
    "    RSS1 = model1.ssr\n",
    "    RSS2 = model2.ssr\n",
    "    RSS_full = model_full.ssr\n",
    "\n",
    "    # Calcular o valor F\n",
    "    F = ((RSS_full - (RSS1 + RSS2)) / k) / ((RSS1 + RSS2) / (n - 2 * k))\n",
    "\n",
    "    # Calcular o p-valor\n",
    "    p_value = 1 - f.cdf(F, k, n - 2 * k)\n",
    "\n",
    "    return {\"F-statistic\": F, \"p-value\": p_value}\n",
    "\n",
    "\n",
    "chow_results = {}\n",
    "split_point = find_idx_from_date(POS_PANDEMIA_START_DATE, PREPROCESSOR_ARGS)  # Exemplo: ponto de divisão para o teste de Chow\n",
    "dependent_var = DEPENDENT_VAR\n",
    "independent_vars = [INDEPENDENT_VAR] #+ [key for key in DUMMY_ARGS.keys()]\n",
    "for variable in main_regrdf[VARIABLE_COLUMN_NAME].unique():\n",
    "    variable_data = main_regrdf[main_regrdf[VARIABLE_COLUMN_NAME] == variable]\n",
    "    result = chow_test(variable_data, split_point, dependent_var, independent_vars)\n",
    "    chow_results[variable] = result\n",
    "# Converter os resultados em um DataFrame para visualização\n",
    "chow_results_df = pd.DataFrame(chow_results).T\n",
    "chow_results_df.columns = [\"F-statistic\", \"p-value\"]\n",
    "chow_results_df['p-value'] = chow_results_df['p-value'].round(8)\n",
    "print(chow_results_df)"
   ]
  },
  {
   "cell_type": "code",
   "execution_count": 273,
   "metadata": {},
   "outputs": [
    {
     "name": "stdout",
     "output_type": "stream",
     "text": [
      "[  1.          51.48555123 108.        ]\n",
      "2016-01-01 00:00:00\n",
      "2020-03-01 00:00:00\n",
      "2024-12-01 00:00:00\n"
     ]
    }
   ],
   "source": [
    "### TODO: make the knots per variable\n",
    "### TODO: remove the bumps/step_dummies before testing\n",
    "\n",
    "pwmodel = pwlf.PiecewiseLinFit(main_regrdf[INDEPENDENT_VAR].values,main_regrdf[DEPENDENT_VAR].values)\n",
    "knots = pwmodel.fit(2)\n",
    "print(knots)\n",
    "for knot in knots:\n",
    "    print(find_date_from_idx(np.round(knot), PREPROCESSOR_ARGS, PERIOD_DATE_MAP))"
   ]
  },
  {
   "cell_type": "code",
   "execution_count": 274,
   "metadata": {},
   "outputs": [
    {
     "data": {
      "application/vnd.microsoft.datawrangler.viewer.v0+json": {
       "columns": [
        {
         "name": "index",
         "rawType": "object",
         "type": "string"
        },
        {
         "name": "Heteroscedasticity (Breusch-Pagan)",
         "rawType": "float64",
         "type": "float"
        },
        {
         "name": "Normality (Shapiro-Wilk)",
         "rawType": "float64",
         "type": "float"
        },
        {
         "name": "Normality (Jarque-Bera)",
         "rawType": "float64",
         "type": "float"
        },
        {
         "name": "Normality (D'Agostino)",
         "rawType": "float64",
         "type": "float"
        },
        {
         "name": "Autocorrelation (Durbin-Watson)",
         "rawType": "float64",
         "type": "float"
        },
        {
         "name": "Autocorrelation (Ljung-Box)",
         "rawType": "float64",
         "type": "float"
        }
       ],
       "conversionMethod": "pd.DataFrame",
       "ref": "a2a97ec0-6ac4-483e-a886-037339ca93f6",
       "rows": [
        [
         "F00-F09 - Transtornos mentais orgânicos, inclusive os sintomáticos",
         "0.1474274988261056",
         "0.032837048717068426",
         "0.0037149962209819527",
         "0.017456592327958584",
         "0.7583337024880115",
         "2.1322501815217662e-36"
        ],
        [
         "F20-F29 - Esquizofrenia, transtornos esquizotípicos e transtornos delirantes",
         "0.011537465395152895",
         "0.6380543386631559",
         "0.8718033232663412",
         "0.7248577764797495",
         "0.3546724734353149",
         "3.23825407420882e-92"
        ],
        [
         "F30-F39 - Transtornos do humor [afetivos]",
         "0.3203746303038389",
         "0.9372998687551384",
         "0.7164580118472441",
         "0.5634862319003964",
         "0.4220676810979262",
         "1.791495239642463e-64"
        ],
        [
         "F40-F48 - Transtornos neuróticos, transtornos relacionados com o \"stress\" e transtornos somatoformes",
         "0.048686138213780886",
         "0.36142258463766685",
         "0.22918134628116169",
         "0.1889178102812865",
         "0.5255093663515746",
         "1.6004486084137745e-72"
        ],
        [
         "F50-F59 - Síndromes comportamentais associadas a disfunções fisiológicas e a fatores físicos",
         "0.9329174343760455",
         "0.06984654449980263",
         "0.004147642967728927",
         "0.006234203591249034",
         "1.1846987235901452",
         "1.0495083520172295e-05"
        ],
        [
         "F60-F69 - Transtornos da personalidade e do comportamento do adulto",
         "0.034999689257847494",
         "0.0034237963684788444",
         "0.019395439400111854",
         "0.01624441760771591",
         "1.045592955308477",
         "1.7794675643472588e-07"
        ],
        [
         "F70-F79 - Retardo mental",
         "0.014253983561129453",
         "0.5529572629799806",
         "0.6662058070607202",
         "0.6693367186198604",
         "0.4932654785342486",
         "2.569555978739996e-69"
        ],
        [
         "F80-F89 - Transtornos do desenvolvimento psicológico",
         "1.6531577531987933e-05",
         "0.22413501005840242",
         "0.3713773203185001",
         "0.3017817535844179",
         "0.42755619222352603",
         "1.7602897813596515e-86"
        ],
        [
         "F90-F98 - Transtornos do comportamento e transtornos emocionais que aparecem habitualmente durante a infância ou a adolescência",
         "0.00047732628712926115",
         "0.20712103984911934",
         "0.07153962317526792",
         "0.07390850826365247",
         "0.5068931520278331",
         "1.2105288445561651e-45"
        ],
        [
         "F99-F99 - Transtorno mental não especificado",
         "0.005847482822488998",
         "2.1787676596876013e-06",
         "1.5131486905964842e-06",
         "2.3132166123909853e-05",
         "0.41790984095219286",
         "2.3630091038827045e-62"
        ],
        [
         "_Grand Total",
         "0.03802717909833086",
         "0.8744157519731339",
         "0.5491811384473704",
         "0.4318564967031028",
         "0.45448612322930104",
         "9.372198801821908e-74"
        ],
        [
         "__Atendimentos na APS (exceto saúde mental)",
         "0.31082964765951193",
         "8.302605539685276e-05",
         "8.488991229460839e-13",
         "4.765796232690223e-07",
         "1.0988800738077122",
         "3.5130558619536454e-14"
        ]
       ],
       "shape": {
        "columns": 6,
        "rows": 12
       }
      },
      "text/html": [
       "<div>\n",
       "<style scoped>\n",
       "    .dataframe tbody tr th:only-of-type {\n",
       "        vertical-align: middle;\n",
       "    }\n",
       "\n",
       "    .dataframe tbody tr th {\n",
       "        vertical-align: top;\n",
       "    }\n",
       "\n",
       "    .dataframe thead th {\n",
       "        text-align: right;\n",
       "    }\n",
       "</style>\n",
       "<table border=\"1\" class=\"dataframe\">\n",
       "  <thead>\n",
       "    <tr style=\"text-align: right;\">\n",
       "      <th></th>\n",
       "      <th>Heteroscedasticity (Breusch-Pagan)</th>\n",
       "      <th>Normality (Shapiro-Wilk)</th>\n",
       "      <th>Normality (Jarque-Bera)</th>\n",
       "      <th>Normality (D'Agostino)</th>\n",
       "      <th>Autocorrelation (Durbin-Watson)</th>\n",
       "      <th>Autocorrelation (Ljung-Box)</th>\n",
       "    </tr>\n",
       "  </thead>\n",
       "  <tbody>\n",
       "    <tr>\n",
       "      <th>F00-F09 - Transtornos mentais orgânicos, inclusive os sintomáticos</th>\n",
       "      <td>0.147427</td>\n",
       "      <td>0.032837</td>\n",
       "      <td>3.714996e-03</td>\n",
       "      <td>1.745659e-02</td>\n",
       "      <td>0.758334</td>\n",
       "      <td>2.132250e-36</td>\n",
       "    </tr>\n",
       "    <tr>\n",
       "      <th>F20-F29 - Esquizofrenia, transtornos esquizotípicos e transtornos delirantes</th>\n",
       "      <td>0.011537</td>\n",
       "      <td>0.638054</td>\n",
       "      <td>8.718033e-01</td>\n",
       "      <td>7.248578e-01</td>\n",
       "      <td>0.354672</td>\n",
       "      <td>3.238254e-92</td>\n",
       "    </tr>\n",
       "    <tr>\n",
       "      <th>F30-F39 - Transtornos do humor [afetivos]</th>\n",
       "      <td>0.320375</td>\n",
       "      <td>0.937300</td>\n",
       "      <td>7.164580e-01</td>\n",
       "      <td>5.634862e-01</td>\n",
       "      <td>0.422068</td>\n",
       "      <td>1.791495e-64</td>\n",
       "    </tr>\n",
       "    <tr>\n",
       "      <th>F40-F48 - Transtornos neuróticos, transtornos relacionados com o \"stress\" e transtornos somatoformes</th>\n",
       "      <td>0.048686</td>\n",
       "      <td>0.361423</td>\n",
       "      <td>2.291813e-01</td>\n",
       "      <td>1.889178e-01</td>\n",
       "      <td>0.525509</td>\n",
       "      <td>1.600449e-72</td>\n",
       "    </tr>\n",
       "    <tr>\n",
       "      <th>F50-F59 - Síndromes comportamentais associadas a disfunções fisiológicas e a fatores físicos</th>\n",
       "      <td>0.932917</td>\n",
       "      <td>0.069847</td>\n",
       "      <td>4.147643e-03</td>\n",
       "      <td>6.234204e-03</td>\n",
       "      <td>1.184699</td>\n",
       "      <td>1.049508e-05</td>\n",
       "    </tr>\n",
       "    <tr>\n",
       "      <th>F60-F69 - Transtornos da personalidade e do comportamento do adulto</th>\n",
       "      <td>0.035000</td>\n",
       "      <td>0.003424</td>\n",
       "      <td>1.939544e-02</td>\n",
       "      <td>1.624442e-02</td>\n",
       "      <td>1.045593</td>\n",
       "      <td>1.779468e-07</td>\n",
       "    </tr>\n",
       "    <tr>\n",
       "      <th>F70-F79 - Retardo mental</th>\n",
       "      <td>0.014254</td>\n",
       "      <td>0.552957</td>\n",
       "      <td>6.662058e-01</td>\n",
       "      <td>6.693367e-01</td>\n",
       "      <td>0.493265</td>\n",
       "      <td>2.569556e-69</td>\n",
       "    </tr>\n",
       "    <tr>\n",
       "      <th>F80-F89 - Transtornos do desenvolvimento psicológico</th>\n",
       "      <td>0.000017</td>\n",
       "      <td>0.224135</td>\n",
       "      <td>3.713773e-01</td>\n",
       "      <td>3.017818e-01</td>\n",
       "      <td>0.427556</td>\n",
       "      <td>1.760290e-86</td>\n",
       "    </tr>\n",
       "    <tr>\n",
       "      <th>F90-F98 - Transtornos do comportamento e transtornos emocionais que aparecem habitualmente durante a infância ou a adolescência</th>\n",
       "      <td>0.000477</td>\n",
       "      <td>0.207121</td>\n",
       "      <td>7.153962e-02</td>\n",
       "      <td>7.390851e-02</td>\n",
       "      <td>0.506893</td>\n",
       "      <td>1.210529e-45</td>\n",
       "    </tr>\n",
       "    <tr>\n",
       "      <th>F99-F99 - Transtorno mental não especificado</th>\n",
       "      <td>0.005847</td>\n",
       "      <td>0.000002</td>\n",
       "      <td>1.513149e-06</td>\n",
       "      <td>2.313217e-05</td>\n",
       "      <td>0.417910</td>\n",
       "      <td>2.363009e-62</td>\n",
       "    </tr>\n",
       "    <tr>\n",
       "      <th>_Grand Total</th>\n",
       "      <td>0.038027</td>\n",
       "      <td>0.874416</td>\n",
       "      <td>5.491811e-01</td>\n",
       "      <td>4.318565e-01</td>\n",
       "      <td>0.454486</td>\n",
       "      <td>9.372199e-74</td>\n",
       "    </tr>\n",
       "    <tr>\n",
       "      <th>__Atendimentos na APS (exceto saúde mental)</th>\n",
       "      <td>0.310830</td>\n",
       "      <td>0.000083</td>\n",
       "      <td>8.488991e-13</td>\n",
       "      <td>4.765796e-07</td>\n",
       "      <td>1.098880</td>\n",
       "      <td>3.513056e-14</td>\n",
       "    </tr>\n",
       "  </tbody>\n",
       "</table>\n",
       "</div>"
      ],
      "text/plain": [
       "                                                    Heteroscedasticity (Breusch-Pagan)  \\\n",
       "F00-F09 - Transtornos mentais orgânicos, inclus...                            0.147427   \n",
       "F20-F29 - Esquizofrenia, transtornos esquizotíp...                            0.011537   \n",
       "F30-F39 - Transtornos do humor [afetivos]                                     0.320375   \n",
       "F40-F48 - Transtornos neuróticos, transtornos r...                            0.048686   \n",
       "F50-F59 - Síndromes comportamentais associadas ...                            0.932917   \n",
       "F60-F69 - Transtornos da personalidade e do com...                            0.035000   \n",
       "F70-F79 - Retardo mental                                                      0.014254   \n",
       "F80-F89 - Transtornos do desenvolvimento psicol...                            0.000017   \n",
       "F90-F98 - Transtornos do comportamento e transt...                            0.000477   \n",
       "F99-F99 - Transtorno mental não especificado                                  0.005847   \n",
       "_Grand Total                                                                  0.038027   \n",
       "__Atendimentos na APS (exceto saúde mental)                                   0.310830   \n",
       "\n",
       "                                                    Normality (Shapiro-Wilk)  \\\n",
       "F00-F09 - Transtornos mentais orgânicos, inclus...                  0.032837   \n",
       "F20-F29 - Esquizofrenia, transtornos esquizotíp...                  0.638054   \n",
       "F30-F39 - Transtornos do humor [afetivos]                           0.937300   \n",
       "F40-F48 - Transtornos neuróticos, transtornos r...                  0.361423   \n",
       "F50-F59 - Síndromes comportamentais associadas ...                  0.069847   \n",
       "F60-F69 - Transtornos da personalidade e do com...                  0.003424   \n",
       "F70-F79 - Retardo mental                                            0.552957   \n",
       "F80-F89 - Transtornos do desenvolvimento psicol...                  0.224135   \n",
       "F90-F98 - Transtornos do comportamento e transt...                  0.207121   \n",
       "F99-F99 - Transtorno mental não especificado                        0.000002   \n",
       "_Grand Total                                                        0.874416   \n",
       "__Atendimentos na APS (exceto saúde mental)                         0.000083   \n",
       "\n",
       "                                                    Normality (Jarque-Bera)  \\\n",
       "F00-F09 - Transtornos mentais orgânicos, inclus...             3.714996e-03   \n",
       "F20-F29 - Esquizofrenia, transtornos esquizotíp...             8.718033e-01   \n",
       "F30-F39 - Transtornos do humor [afetivos]                      7.164580e-01   \n",
       "F40-F48 - Transtornos neuróticos, transtornos r...             2.291813e-01   \n",
       "F50-F59 - Síndromes comportamentais associadas ...             4.147643e-03   \n",
       "F60-F69 - Transtornos da personalidade e do com...             1.939544e-02   \n",
       "F70-F79 - Retardo mental                                       6.662058e-01   \n",
       "F80-F89 - Transtornos do desenvolvimento psicol...             3.713773e-01   \n",
       "F90-F98 - Transtornos do comportamento e transt...             7.153962e-02   \n",
       "F99-F99 - Transtorno mental não especificado                   1.513149e-06   \n",
       "_Grand Total                                                   5.491811e-01   \n",
       "__Atendimentos na APS (exceto saúde mental)                    8.488991e-13   \n",
       "\n",
       "                                                    Normality (D'Agostino)  \\\n",
       "F00-F09 - Transtornos mentais orgânicos, inclus...            1.745659e-02   \n",
       "F20-F29 - Esquizofrenia, transtornos esquizotíp...            7.248578e-01   \n",
       "F30-F39 - Transtornos do humor [afetivos]                     5.634862e-01   \n",
       "F40-F48 - Transtornos neuróticos, transtornos r...            1.889178e-01   \n",
       "F50-F59 - Síndromes comportamentais associadas ...            6.234204e-03   \n",
       "F60-F69 - Transtornos da personalidade e do com...            1.624442e-02   \n",
       "F70-F79 - Retardo mental                                      6.693367e-01   \n",
       "F80-F89 - Transtornos do desenvolvimento psicol...            3.017818e-01   \n",
       "F90-F98 - Transtornos do comportamento e transt...            7.390851e-02   \n",
       "F99-F99 - Transtorno mental não especificado                  2.313217e-05   \n",
       "_Grand Total                                                  4.318565e-01   \n",
       "__Atendimentos na APS (exceto saúde mental)                   4.765796e-07   \n",
       "\n",
       "                                                    Autocorrelation (Durbin-Watson)  \\\n",
       "F00-F09 - Transtornos mentais orgânicos, inclus...                         0.758334   \n",
       "F20-F29 - Esquizofrenia, transtornos esquizotíp...                         0.354672   \n",
       "F30-F39 - Transtornos do humor [afetivos]                                  0.422068   \n",
       "F40-F48 - Transtornos neuróticos, transtornos r...                         0.525509   \n",
       "F50-F59 - Síndromes comportamentais associadas ...                         1.184699   \n",
       "F60-F69 - Transtornos da personalidade e do com...                         1.045593   \n",
       "F70-F79 - Retardo mental                                                   0.493265   \n",
       "F80-F89 - Transtornos do desenvolvimento psicol...                         0.427556   \n",
       "F90-F98 - Transtornos do comportamento e transt...                         0.506893   \n",
       "F99-F99 - Transtorno mental não especificado                               0.417910   \n",
       "_Grand Total                                                               0.454486   \n",
       "__Atendimentos na APS (exceto saúde mental)                                1.098880   \n",
       "\n",
       "                                                    Autocorrelation (Ljung-Box)  \n",
       "F00-F09 - Transtornos mentais orgânicos, inclus...                 2.132250e-36  \n",
       "F20-F29 - Esquizofrenia, transtornos esquizotíp...                 3.238254e-92  \n",
       "F30-F39 - Transtornos do humor [afetivos]                          1.791495e-64  \n",
       "F40-F48 - Transtornos neuróticos, transtornos r...                 1.600449e-72  \n",
       "F50-F59 - Síndromes comportamentais associadas ...                 1.049508e-05  \n",
       "F60-F69 - Transtornos da personalidade e do com...                 1.779468e-07  \n",
       "F70-F79 - Retardo mental                                           2.569556e-69  \n",
       "F80-F89 - Transtornos do desenvolvimento psicol...                 1.760290e-86  \n",
       "F90-F98 - Transtornos do comportamento e transt...                 1.210529e-45  \n",
       "F99-F99 - Transtorno mental não especificado                       2.363009e-62  \n",
       "_Grand Total                                                       9.372199e-74  \n",
       "__Atendimentos na APS (exceto saúde mental)                        3.513056e-14  "
      ]
     },
     "execution_count": 274,
     "metadata": {},
     "output_type": "execute_result"
    }
   ],
   "source": [
    "import pandas as pd\n",
    "import numpy as np\n",
    "from statsmodels.stats.diagnostic import het_breuschpagan, acorr_ljungbox\n",
    "from statsmodels.stats.stattools import durbin_watson\n",
    "from scipy.stats import shapiro, normaltest, jarque_bera\n",
    "import statsmodels.api as sm\n",
    "\n",
    "def analyze_time_series(df: pd.DataFrame, variable_col: str, date_col: str, value_col: str):\n",
    "    \"\"\"\n",
    "    Analyzes a melted DataFrame for heteroscedasticity, distribution, and autocorrelation.\n",
    "\n",
    "    Parameters:\n",
    "        df (pd.DataFrame): Melted DataFrame with columns for variable, date, and value.\n",
    "        variable_col (str): Column name for the variable identifier.\n",
    "        date_col (str): Column name for the date.\n",
    "        value_col (str): Column name for the value.\n",
    "\n",
    "    Returns:\n",
    "        dict: A dictionary with analysis results for each variable.\n",
    "    \"\"\"\n",
    "    results = {}\n",
    "\n",
    "    for variable in df[variable_col].unique():\n",
    "        # Filter data for the current variable\n",
    "        variable_data = df[df[variable_col] == variable].sort_values(by=date_col)\n",
    "        y = variable_data[value_col].values\n",
    "        x = np.arange(len(y))  # Time index as independent variable\n",
    "\n",
    "        # Add constant for regression\n",
    "        X = sm.add_constant(x)\n",
    "\n",
    "        # Fit OLS model\n",
    "        model = sm.OLS(y, X).fit()\n",
    "\n",
    "        # Heteroscedasticity tests\n",
    "        bp_test = het_breuschpagan(model.resid, X)\n",
    "        bp_pvalue = bp_test[1]\n",
    "\n",
    "        # Normality tests\n",
    "        shapiro_test = shapiro(model.resid)\n",
    "        shapiro_pvalue = shapiro_test.pvalue\n",
    "\n",
    "        jb_test = jarque_bera(model.resid)\n",
    "        jb_pvalue = jb_test[1]\n",
    "\n",
    "        dagostino_test = normaltest(model.resid)\n",
    "        dagostino_pvalue = dagostino_test.pvalue\n",
    "\n",
    "        # Autocorrelation tests\n",
    "        dw_stat = durbin_watson(model.resid)\n",
    "        ljungbox_test = acorr_ljungbox(model.resid, lags=[10], return_df=True)\n",
    "        ljungbox_pvalue = ljungbox_test['lb_pvalue'].iloc[0]\n",
    "\n",
    "        # Store results\n",
    "        results[variable] = {\n",
    "            \"Heteroscedasticity (Breusch-Pagan)\": bp_pvalue,\n",
    "            \"Normality (Shapiro-Wilk)\": shapiro_pvalue,\n",
    "            \"Normality (Jarque-Bera)\": jb_pvalue,\n",
    "            \"Normality (D'Agostino)\": dagostino_pvalue,\n",
    "            \"Autocorrelation (Durbin-Watson)\": dw_stat,\n",
    "            \"Autocorrelation (Ljung-Box)\": ljungbox_pvalue,\n",
    "        }\n",
    "\n",
    "    return results\n",
    "\n",
    "explorationresults = analyze_time_series(main_regrdf, VARIABLE_COLUMN_NAME, DATE_NAME, DEPENDENT_VAR)\n",
    "explorationresultsDF = pd.DataFrame(explorationresults).T\n",
    "explorationresultsDF"
   ]
  },
  {
   "cell_type": "markdown",
   "metadata": {},
   "source": [
    "# Define Processors"
   ]
  },
  {
   "cell_type": "code",
   "execution_count": 275,
   "metadata": {},
   "outputs": [],
   "source": [
    "class RegressionProcessor:\n",
    "    def __init__(\n",
    "        self,\n",
    "        data,\n",
    "        formula,\n",
    "        model=None,\n",
    "        find_best_rho=False,\n",
    "        find_best_rho_args={\n",
    "            'start': -1.0,\n",
    "            \"stop\": 1.0,\n",
    "            'step': 0.05,\n",
    "            'criterio': 'aic',\n",
    "        },\n",
    "        rho=None,\n",
    "        cov_type=None,\n",
    "        cov_kwargs=None,\n",
    "        iterative_fit=False,  # New argument to enable iterative fitting\n",
    "        max_iterations=100,  # Maximum iterations for iterative fitting\n",
    "    ):\n",
    "        self.data = data\n",
    "        self.formula = formula\n",
    "        self.model = model\n",
    "        self.rho = rho\n",
    "        self.cov_type = cov_type\n",
    "        self.cov_kwargs = cov_kwargs\n",
    "        self.find_best_rho = find_best_rho\n",
    "        self.find_best_rho_args = find_best_rho_args\n",
    "        self.iterative_fit = iterative_fit\n",
    "        self.max_iterations = max_iterations\n",
    "        self.results = None\n",
    "\n",
    "    def fit(self, rho=None):\n",
    "        # Fit the regression model using the specified formula and data\n",
    "        if self.find_best_rho:\n",
    "            best_rho = 1.0\n",
    "            best_criterion_value = np.inf\n",
    "            model = None\n",
    "            results = None\n",
    "            for rho in np.arange(\n",
    "                self.find_best_rho_args['start'],\n",
    "                self.find_best_rho_args['stop'],\n",
    "                self.find_best_rho_args['step']\n",
    "            ):\n",
    "                test_model = self.model(self.formula, data=self.data, rho=rho)\n",
    "                if self.iterative_fit and hasattr(test_model, \"iterative_fit\"):\n",
    "                    test_results = test_model.iterative_fit(\n",
    "                        maxiter=self.max_iterations,\n",
    "                        cov_type=self.cov_type,\n",
    "                        cov_kwds=self.cov_kwargs,\n",
    "                    )\n",
    "                else:\n",
    "                    test_results = test_model.fit(\n",
    "                        cov_type=self.cov_type,\n",
    "                        cov_kwds=self.cov_kwargs,\n",
    "                    )\n",
    "                criterion_value = getattr(test_results, self.find_best_rho_args['criterio'])\n",
    "                if criterion_value < best_criterion_value:\n",
    "                    best_criterion_value = criterion_value\n",
    "                    best_rho = rho\n",
    "                    model = test_model\n",
    "                    results = test_results\n",
    "            self.rho = best_rho\n",
    "            self.results = results\n",
    "        else:\n",
    "            if self.rho is not None:\n",
    "                model = self.model(self.formula, data=self.data, rho=rho)\n",
    "            else:\n",
    "                model = self.model(self.formula, data=self.data)\n",
    "\n",
    "            # Use iterative fitting if enabled and supported\n",
    "            if self.iterative_fit and hasattr(model, \"iterative_fit\"):\n",
    "                self.results = model.iterative_fit(\n",
    "                    maxiter=self.max_iterations,\n",
    "                    cov_type=self.cov_type,\n",
    "                    cov_kwds=self.cov_kwargs,\n",
    "                )\n",
    "            else:\n",
    "                self.results = model.fit(\n",
    "                    cov_type=self.cov_type,\n",
    "                    cov_kwds=self.cov_kwargs,\n",
    "                )"
   ]
  },
  {
   "cell_type": "code",
   "execution_count": 276,
   "metadata": {},
   "outputs": [],
   "source": [
    "class VariableProcessor:\n",
    "    def __init__(\n",
    "        self,\n",
    "        df,       \n",
    "        processor_args, \n",
    "        processor,\n",
    "\n",
    "    ):\n",
    "        self.df = df\n",
    "        self.results = {}\n",
    "        self.processor_args = processor_args\n",
    "        self.processor = processor\n",
    "        \n",
    "    def process_variables(self):\n",
    "        # Process each variable in the DataFrame\n",
    "        for variable in self.df[VARIABLE_COLUMN_NAME].unique():\n",
    "            variable_data = self.df[self.df[VARIABLE_COLUMN_NAME] == variable]\n",
    "            processor = self.processor(data=variable_data, **self.processor_args)\n",
    "            processor.fit()\n",
    "            self.results[variable] = processor.results\n",
    "\n",
    "        return self.results"
   ]
  },
  {
   "cell_type": "markdown",
   "metadata": {},
   "source": [
    "# EXEC --- Instantiate Processor and Process/Export"
   ]
  },
  {
   "cell_type": "code",
   "execution_count": 277,
   "metadata": {},
   "outputs": [
    {
     "data": {
      "text/plain": [
       "{'F00-F09 - Transtornos mentais orgânicos, inclusive os sintomáticos': <statsmodels.regression.linear_model.RegressionResultsWrapper at 0x2b264c67aa0>,\n",
       " 'F20-F29 - Esquizofrenia, transtornos esquizotípicos e transtornos delirantes': <statsmodels.regression.linear_model.RegressionResultsWrapper at 0x2b264c89d00>,\n",
       " 'F30-F39 - Transtornos do humor [afetivos]': <statsmodels.regression.linear_model.RegressionResultsWrapper at 0x2b264c85b50>,\n",
       " 'F40-F48 - Transtornos neuróticos, transtornos relacionados com o \"stress\" e transtornos somatoformes': <statsmodels.regression.linear_model.RegressionResultsWrapper at 0x2b264c68e30>,\n",
       " 'F50-F59 - Síndromes comportamentais associadas a disfunções fisiológicas e a fatores físicos': <statsmodels.regression.linear_model.RegressionResultsWrapper at 0x2b257995460>,\n",
       " 'F60-F69 - Transtornos da personalidade e do comportamento do adulto': <statsmodels.regression.linear_model.RegressionResultsWrapper at 0x2b262deecc0>,\n",
       " 'F70-F79 - Retardo mental': <statsmodels.regression.linear_model.RegressionResultsWrapper at 0x2b264bc66c0>,\n",
       " 'F80-F89 - Transtornos do desenvolvimento psicológico': <statsmodels.regression.linear_model.RegressionResultsWrapper at 0x2b264bc6330>,\n",
       " 'F90-F98 - Transtornos do comportamento e transtornos emocionais que aparecem habitualmente durante a infância ou a adolescência': <statsmodels.regression.linear_model.RegressionResultsWrapper at 0x2b264c6a480>,\n",
       " 'F99-F99 - Transtorno mental não especificado': <statsmodels.regression.linear_model.RegressionResultsWrapper at 0x2b264c8f290>,\n",
       " '_Grand Total': <statsmodels.regression.linear_model.RegressionResultsWrapper at 0x2b264c858e0>,\n",
       " '__Atendimentos na APS (exceto saúde mental)': <statsmodels.regression.linear_model.RegressionResultsWrapper at 0x2b264c5f6e0>}"
      ]
     },
     "execution_count": 277,
     "metadata": {},
     "output_type": "execute_result"
    }
   ],
   "source": [
    "processor_args = PROCESSOR_ARGS\n",
    "variable_processor = VariableProcessor(\n",
    "    df = RegressionDF,\n",
    "    processor_args = processor_args,\n",
    "    processor = RegressionProcessor\n",
    ")\n",
    "variable_processor.process_variables()\n"
   ]
  },
  {
   "cell_type": "code",
   "execution_count": 278,
   "metadata": {},
   "outputs": [
    {
     "name": "stdout",
     "output_type": "stream",
     "text": [
      "Results for F00-F09 - Transtornos mentais orgânicos, inclusive os sintomáticos:\n",
      "                           GLSAR Regression Results                           \n",
      "==============================================================================\n",
      "Dep. Variable:                valores   R-squared:                       0.901\n",
      "Model:                          GLSAR   Adj. R-squared:                  0.883\n",
      "Method:                 Least Squares   F-statistic:                     114.7\n",
      "Date:                ter, 22 abr 2025   Prob (F-statistic):           1.34e-52\n",
      "Time:                        01:35:32   Log-Likelihood:                -539.60\n",
      "No. Observations:                 107   AIC:                             1113.\n",
      "Df Residuals:                      90   BIC:                             1159.\n",
      "Df Model:                          16                                         \n",
      "Covariance Type:                  HAC                                         \n",
      "=====================================================================================\n",
      "                        coef    std err          z      P>|z|      [0.025      0.975]\n",
      "-------------------------------------------------------------------------------------\n",
      "Intercept           193.1929     19.404      9.957      0.000     155.163     231.223\n",
      "periodo               0.2488      0.394      0.631      0.528      -0.524       1.022\n",
      "month_2             -23.7939     21.545     -1.104      0.269     -66.021      18.433\n",
      "month_3              23.5803     19.462      1.212      0.226     -14.565      61.725\n",
      "month_4               0.7622     19.055      0.040      0.968     -36.584      38.109\n",
      "month_5              14.0936     27.639      0.510      0.610     -40.078      68.265\n",
      "month_6              29.3206     18.525      1.583      0.113      -6.988      65.630\n",
      "month_7              44.1673     18.572      2.378      0.017       7.766      80.568\n",
      "month_8              47.4304     19.830      2.392      0.017       8.564      86.297\n",
      "month_9              14.2908     22.977      0.622      0.534     -30.742      59.324\n",
      "month_10             52.3483     21.207      2.468      0.014      10.783      93.914\n",
      "month_11             10.9780     21.222      0.517      0.605     -30.617      52.573\n",
      "month_12              2.4430     20.957      0.117      0.907     -38.632      43.518\n",
      "Choque_Inicial      -29.6782     13.714     -2.164      0.030     -56.556      -2.800\n",
      "Lockdown_2021      -116.4944     29.988     -3.885      0.000    -175.270     -57.719\n",
      "Step_PosPandemia   -326.7383     38.389     -8.511      0.000    -401.979    -251.497\n",
      "Trend_PosPandemia     5.8248      0.577     10.093      0.000       4.694       6.956\n",
      "==============================================================================\n",
      "Omnibus:                        4.270   Durbin-Watson:                   1.979\n",
      "Prob(Omnibus):                  0.118   Jarque-Bera (JB):                3.860\n",
      "Skew:                          -0.315   Prob(JB):                        0.145\n",
      "Kurtosis:                       3.685   Cond. No.                     1.17e+03\n",
      "==============================================================================\n",
      "\n",
      "Notes:\n",
      "[1] Standard Errors are heteroscedasticity and autocorrelation robust (HAC) using 4 lags and without small sample correction\n",
      "[2] The condition number is large, 1.17e+03. This might indicate that there are\n",
      "strong multicollinearity or other numerical problems.\n",
      "\n",
      "\n",
      "Results for F20-F29 - Esquizofrenia, transtornos esquizotípicos e transtornos delirantes:\n",
      "                           GLSAR Regression Results                           \n",
      "==============================================================================\n",
      "Dep. Variable:                valores   R-squared:                       0.853\n",
      "Model:                          GLSAR   Adj. R-squared:                  0.827\n",
      "Method:                 Least Squares   F-statistic:                     53.12\n",
      "Date:                ter, 22 abr 2025   Prob (F-statistic):           9.55e-39\n",
      "Time:                        01:35:32   Log-Likelihood:                -607.67\n",
      "No. Observations:                 107   AIC:                             1249.\n",
      "Df Residuals:                      90   BIC:                             1295.\n",
      "Df Model:                          16                                         \n",
      "Covariance Type:                  HAC                                         \n",
      "=====================================================================================\n",
      "                        coef    std err          z      P>|z|      [0.025      0.975]\n",
      "-------------------------------------------------------------------------------------\n",
      "Intercept           487.2456     37.183     13.104      0.000     414.369     560.123\n",
      "periodo              -1.4680      0.885     -1.659      0.097      -3.202       0.266\n",
      "month_2             -44.3508     32.869     -1.349      0.177    -108.774      20.072\n",
      "month_3              40.2211     35.655      1.128      0.259     -29.662     110.104\n",
      "month_4              11.2519     40.974      0.275      0.784     -69.056      91.559\n",
      "month_5              -1.9843     36.942     -0.054      0.957     -74.390      70.421\n",
      "month_6              20.4296     34.469      0.593      0.553     -47.128      87.987\n",
      "month_7              43.3341     32.530      1.332      0.183     -20.423     107.091\n",
      "month_8              79.1107     38.696      2.044      0.041       3.267     154.954\n",
      "month_9              34.3687     35.599      0.965      0.334     -35.404     104.142\n",
      "month_10             79.1544     48.087      1.646      0.100     -15.095     173.404\n",
      "month_11             26.7104     37.824      0.706      0.480     -47.422     100.843\n",
      "month_12             -7.5971     31.631     -0.240      0.810     -69.593      54.399\n",
      "Choque_Inicial     -147.1979     35.730     -4.120      0.000    -217.228     -77.168\n",
      "Lockdown_2021      -218.9625     53.396     -4.101      0.000    -323.617    -114.308\n",
      "Step_PosPandemia   -952.9838     77.580    -12.284      0.000   -1105.038    -800.930\n",
      "Trend_PosPandemia    14.0004      1.331     10.517      0.000      11.391      16.610\n",
      "==============================================================================\n",
      "Omnibus:                        0.470   Durbin-Watson:                   1.951\n",
      "Prob(Omnibus):                  0.791   Jarque-Bera (JB):                0.261\n",
      "Skew:                           0.118   Prob(JB):                        0.877\n",
      "Kurtosis:                       3.058   Cond. No.                     1.14e+03\n",
      "==============================================================================\n",
      "\n",
      "Notes:\n",
      "[1] Standard Errors are heteroscedasticity and autocorrelation robust (HAC) using 4 lags and without small sample correction\n",
      "[2] The condition number is large, 1.14e+03. This might indicate that there are\n",
      "strong multicollinearity or other numerical problems.\n",
      "\n",
      "\n",
      "Results for F30-F39 - Transtornos do humor [afetivos]:\n",
      "                           GLSAR Regression Results                           \n",
      "==============================================================================\n",
      "Dep. Variable:                valores   R-squared:                       0.761\n",
      "Model:                          GLSAR   Adj. R-squared:                  0.718\n",
      "Method:                 Least Squares   F-statistic:                     44.04\n",
      "Date:                ter, 22 abr 2025   Prob (F-statistic):           1.59e-35\n",
      "Time:                        01:35:32   Log-Likelihood:                -800.76\n",
      "No. Observations:                 107   AIC:                             1636.\n",
      "Df Residuals:                      90   BIC:                             1681.\n",
      "Df Model:                          16                                         \n",
      "Covariance Type:                  HAC                                         \n",
      "=====================================================================================\n",
      "                        coef    std err          z      P>|z|      [0.025      0.975]\n",
      "-------------------------------------------------------------------------------------\n",
      "Intercept          3370.8548    223.951     15.052      0.000    2931.919    3809.791\n",
      "periodo             -15.9249      6.349     -2.508      0.012     -28.368      -3.482\n",
      "month_2            -194.9636    205.577     -0.948      0.343    -597.888     207.960\n",
      "month_3             272.9928    187.718      1.454      0.146     -94.927     640.913\n",
      "month_4             198.5560    223.411      0.889      0.374    -239.321     636.433\n",
      "month_5             256.1017    205.146      1.248      0.212    -145.977     658.180\n",
      "month_6             313.6280    245.726      1.276      0.202    -167.987     795.243\n",
      "month_7             447.3884    223.513      2.002      0.045       9.311     885.466\n",
      "month_8             768.2577    269.158      2.854      0.004     240.718    1295.797\n",
      "month_9             339.6588    245.514      1.383      0.167    -141.540     820.857\n",
      "month_10            696.4548    228.342      3.050      0.002     248.914    1143.996\n",
      "month_11            328.6155    254.845      1.289      0.197    -170.872     828.103\n",
      "month_12            152.8047    235.003      0.650      0.516    -307.793     613.402\n",
      "Choque_Inicial     -875.1347    178.907     -4.892      0.000   -1225.787    -524.483\n",
      "Lockdown_2021     -1422.0587    395.447     -3.596      0.000   -2197.121    -646.997\n",
      "Step_PosPandemia  -4561.8205    429.336    -10.625      0.000   -5403.304   -3720.337\n",
      "Trend_PosPandemia    68.0101      7.837      8.678      0.000      52.649      83.371\n",
      "==============================================================================\n",
      "Omnibus:                        0.457   Durbin-Watson:                   1.979\n",
      "Prob(Omnibus):                  0.796   Jarque-Bera (JB):                0.159\n",
      "Skew:                           0.064   Prob(JB):                        0.924\n",
      "Kurtosis:                       3.140   Cond. No.                     1.08e+03\n",
      "==============================================================================\n",
      "\n",
      "Notes:\n",
      "[1] Standard Errors are heteroscedasticity and autocorrelation robust (HAC) using 4 lags and without small sample correction\n",
      "[2] The condition number is large, 1.08e+03. This might indicate that there are\n",
      "strong multicollinearity or other numerical problems.\n",
      "\n",
      "\n",
      "Results for F40-F48 - Transtornos neuróticos, transtornos relacionados com o \"stress\" e transtornos somatoformes:\n",
      "                           GLSAR Regression Results                           \n",
      "==============================================================================\n",
      "Dep. Variable:                valores   R-squared:                       0.944\n",
      "Model:                          GLSAR   Adj. R-squared:                  0.934\n",
      "Method:                 Least Squares   F-statistic:                     171.7\n",
      "Date:                ter, 22 abr 2025   Prob (F-statistic):           3.93e-60\n",
      "Time:                        01:35:32   Log-Likelihood:                -775.78\n",
      "No. Observations:                 107   AIC:                             1586.\n",
      "Df Residuals:                      90   BIC:                             1631.\n",
      "Df Model:                          16                                         \n",
      "Covariance Type:                  HAC                                         \n",
      "=====================================================================================\n",
      "                        coef    std err          z      P>|z|      [0.025      0.975]\n",
      "-------------------------------------------------------------------------------------\n",
      "Intercept          1099.0621    165.124      6.656      0.000     775.425    1422.699\n",
      "periodo               8.2121      2.052      4.003      0.000       4.191      12.233\n",
      "month_2            -154.4910    201.440     -0.767      0.443    -549.307     240.325\n",
      "month_3             225.9696    187.499      1.205      0.228    -141.522     593.461\n",
      "month_4             152.8010    262.286      0.583      0.560    -361.271     666.873\n",
      "month_5              38.2084    211.351      0.181      0.857    -376.031     452.448\n",
      "month_6             166.2430    200.272      0.830      0.406    -226.282     558.768\n",
      "month_7             236.0699    151.811      1.555      0.120     -61.474     533.614\n",
      "month_8             381.5613    199.951      1.908      0.056     -10.336     773.458\n",
      "month_9              79.0670    209.104      0.378      0.705    -330.769     488.903\n",
      "month_10            476.8455    194.274      2.455      0.014      96.076     857.615\n",
      "month_11            193.5152    205.572      0.941      0.347    -209.398     596.429\n",
      "month_12             32.2108    222.787      0.145      0.885    -404.444     468.866\n",
      "Choque_Inicial      -44.5205    100.854     -0.441      0.659    -242.191     153.151\n",
      "Lockdown_2021      -580.9811    384.759     -1.510      0.131   -1335.096     173.134\n",
      "Step_PosPandemia  -3508.6399    379.643     -9.242      0.000   -4252.726   -2764.554\n",
      "Trend_PosPandemia    64.7408      4.834     13.392      0.000      55.266      74.216\n",
      "==============================================================================\n",
      "Omnibus:                        3.810   Durbin-Watson:                   1.984\n",
      "Prob(Omnibus):                  0.149   Jarque-Bera (JB):                3.526\n",
      "Skew:                          -0.253   Prob(JB):                        0.172\n",
      "Kurtosis:                       3.731   Cond. No.                         995.\n",
      "==============================================================================\n",
      "\n",
      "Notes:\n",
      "[1] Standard Errors are heteroscedasticity and autocorrelation robust (HAC) using 4 lags and without small sample correction\n",
      "\n",
      "\n",
      "Results for F50-F59 - Síndromes comportamentais associadas a disfunções fisiológicas e a fatores físicos:\n",
      "                           GLSAR Regression Results                           \n",
      "==============================================================================\n",
      "Dep. Variable:                valores   R-squared:                       0.669\n",
      "Model:                          GLSAR   Adj. R-squared:                  0.610\n",
      "Method:                 Least Squares   F-statistic:                     30.00\n",
      "Date:                ter, 22 abr 2025   Prob (F-statistic):           3.50e-29\n",
      "Time:                        01:35:32   Log-Likelihood:                -480.09\n",
      "No. Observations:                 107   AIC:                             994.2\n",
      "Df Residuals:                      90   BIC:                             1040.\n",
      "Df Model:                          16                                         \n",
      "Covariance Type:                  HAC                                         \n",
      "=====================================================================================\n",
      "                        coef    std err          z      P>|z|      [0.025      0.975]\n",
      "-------------------------------------------------------------------------------------\n",
      "Intercept           108.1532     10.735     10.075      0.000      87.113     129.193\n",
      "periodo              -0.0654      0.256     -0.255      0.798      -0.568       0.437\n",
      "month_2             -14.5923     10.618     -1.374      0.169     -35.403       6.218\n",
      "month_3               5.8071     12.620      0.460      0.645     -18.929      30.543\n",
      "month_4              12.2483     14.084      0.870      0.384     -15.355      39.852\n",
      "month_5              21.9928     13.675      1.608      0.108      -4.809      48.795\n",
      "month_6              18.8636     11.267      1.674      0.094      -3.219      40.947\n",
      "month_7              27.9660     10.772      2.596      0.009       6.853      49.079\n",
      "month_8              33.7509     12.558      2.688      0.007       9.138      58.363\n",
      "month_9              14.3424     11.907      1.205      0.228      -8.995      37.680\n",
      "month_10             23.7622     10.096      2.354      0.019       3.974      43.550\n",
      "month_11              4.7388     11.603      0.408      0.683     -18.002      27.480\n",
      "month_12             -0.2613     13.017     -0.020      0.984     -25.775      25.252\n",
      "Choque_Inicial      -11.2513     12.820     -0.878      0.380     -36.378      13.875\n",
      "Lockdown_2021       -57.5794     24.109     -2.388      0.017    -104.833     -10.326\n",
      "Step_PosPandemia    -26.8226     20.476     -1.310      0.190     -66.955      13.310\n",
      "Trend_PosPandemia     0.9169      0.378      2.426      0.015       0.176       1.658\n",
      "==============================================================================\n",
      "Omnibus:                        1.253   Durbin-Watson:                   1.984\n",
      "Prob(Omnibus):                  0.534   Jarque-Bera (JB):                1.181\n",
      "Skew:                          -0.115   Prob(JB):                        0.554\n",
      "Kurtosis:                       2.539   Cond. No.                     1.03e+03\n",
      "==============================================================================\n",
      "\n",
      "Notes:\n",
      "[1] Standard Errors are heteroscedasticity and autocorrelation robust (HAC) using 4 lags and without small sample correction\n",
      "[2] The condition number is large, 1.03e+03. This might indicate that there are\n",
      "strong multicollinearity or other numerical problems.\n",
      "\n",
      "\n",
      "Results for F60-F69 - Transtornos da personalidade e do comportamento do adulto:\n",
      "                           GLSAR Regression Results                           \n",
      "==============================================================================\n",
      "Dep. Variable:                valores   R-squared:                       0.690\n",
      "Model:                          GLSAR   Adj. R-squared:                  0.635\n",
      "Method:                 Least Squares   F-statistic:                     47.22\n",
      "Date:                ter, 22 abr 2025   Prob (F-statistic):           1.03e-36\n",
      "Time:                        01:35:32   Log-Likelihood:                -494.96\n",
      "No. Observations:                 107   AIC:                             1024.\n",
      "Df Residuals:                      90   BIC:                             1069.\n",
      "Df Model:                          16                                         \n",
      "Covariance Type:                  HAC                                         \n",
      "=====================================================================================\n",
      "                        coef    std err          z      P>|z|      [0.025      0.975]\n",
      "-------------------------------------------------------------------------------------\n",
      "Intercept            39.5208      9.878      4.001      0.000      20.160      58.882\n",
      "periodo               0.6160      0.253      2.437      0.015       0.121       1.112\n",
      "month_2             -16.1277     12.999     -1.241      0.215     -41.605       9.350\n",
      "month_3              -2.4082     15.955     -0.151      0.880     -33.679      28.863\n",
      "month_4              -6.1542     15.147     -0.406      0.685     -35.841      23.533\n",
      "month_5              -9.0368     14.363     -0.629      0.529     -37.189      19.115\n",
      "month_6              14.9300     13.405      1.114      0.265     -11.342      41.202\n",
      "month_7               4.5458     17.000      0.267      0.789     -28.773      37.864\n",
      "month_8              17.7329     15.401      1.151      0.250     -12.452      47.918\n",
      "month_9              -3.4045     13.269     -0.257      0.798     -29.411      22.602\n",
      "month_10              8.4568     16.609      0.509      0.611     -24.097      41.010\n",
      "month_11             -3.0331     14.862     -0.204      0.838     -32.162      26.096\n",
      "month_12              0.2970     16.124      0.018      0.985     -31.306      31.900\n",
      "Choque_Inicial        1.7760     16.863      0.105      0.916     -31.276      34.828\n",
      "Lockdown_2021       -23.0243     20.366     -1.131      0.258     -62.941      16.893\n",
      "Step_PosPandemia     90.1208     17.584      5.125      0.000      55.656     124.585\n",
      "Trend_PosPandemia    -0.5938      0.310     -1.914      0.056      -1.202       0.014\n",
      "==============================================================================\n",
      "Omnibus:                       23.958   Durbin-Watson:                   1.920\n",
      "Prob(Omnibus):                  0.000   Jarque-Bera (JB):               44.384\n",
      "Skew:                           0.923   Prob(JB):                     2.30e-10\n",
      "Kurtosis:                       5.559   Cond. No.                         954.\n",
      "==============================================================================\n",
      "\n",
      "Notes:\n",
      "[1] Standard Errors are heteroscedasticity and autocorrelation robust (HAC) using 4 lags and without small sample correction\n",
      "\n",
      "\n",
      "Results for F70-F79 - Retardo mental:\n",
      "                           GLSAR Regression Results                           \n",
      "==============================================================================\n",
      "Dep. Variable:                valores   R-squared:                       0.777\n",
      "Model:                          GLSAR   Adj. R-squared:                  0.738\n",
      "Method:                 Least Squares   F-statistic:                     56.13\n",
      "Date:                ter, 22 abr 2025   Prob (F-statistic):           1.04e-39\n",
      "Time:                        01:35:32   Log-Likelihood:                -509.69\n",
      "No. Observations:                 107   AIC:                             1053.\n",
      "Df Residuals:                      90   BIC:                             1099.\n",
      "Df Model:                          16                                         \n",
      "Covariance Type:                  HAC                                         \n",
      "=====================================================================================\n",
      "                        coef    std err          z      P>|z|      [0.025      0.975]\n",
      "-------------------------------------------------------------------------------------\n",
      "Intercept           203.8454     12.446     16.378      0.000     179.452     228.239\n",
      "periodo              -0.4066      0.333     -1.222      0.222      -1.059       0.246\n",
      "month_2              -4.1508     14.364     -0.289      0.773     -32.303      24.001\n",
      "month_3              18.8045     13.399      1.403      0.160      -7.456      45.065\n",
      "month_4               4.7681     15.119      0.315      0.752     -24.866      34.402\n",
      "month_5               0.4954     18.558      0.027      0.979     -35.877      36.868\n",
      "month_6              13.9310     14.450      0.964      0.335     -14.390      42.253\n",
      "month_7              14.6060     15.202      0.961      0.337     -15.189      44.401\n",
      "month_8              38.6760     14.699      2.631      0.009       9.867      67.485\n",
      "month_9               6.4256     13.376      0.480      0.631     -19.790      32.642\n",
      "month_10             35.2097     11.817      2.980      0.003      12.049      58.371\n",
      "month_11             11.0976     12.143      0.914      0.361     -12.703      34.898\n",
      "month_12             -7.5917     11.901     -0.638      0.524     -30.918      15.734\n",
      "Choque_Inicial      -91.1510     12.633     -7.215      0.000    -115.912     -66.391\n",
      "Lockdown_2021      -118.5133     16.866     -7.027      0.000    -151.570     -85.457\n",
      "Step_PosPandemia   -334.4922     25.098    -13.327      0.000    -383.684    -285.300\n",
      "Trend_PosPandemia     4.2677      0.456      9.364      0.000       3.374       5.161\n",
      "==============================================================================\n",
      "Omnibus:                        1.900   Durbin-Watson:                   2.036\n",
      "Prob(Omnibus):                  0.387   Jarque-Bera (JB):                1.355\n",
      "Skew:                          -0.172   Prob(JB):                        0.508\n",
      "Kurtosis:                       3.432   Cond. No.                     1.07e+03\n",
      "==============================================================================\n",
      "\n",
      "Notes:\n",
      "[1] Standard Errors are heteroscedasticity and autocorrelation robust (HAC) using 4 lags and without small sample correction\n",
      "[2] The condition number is large, 1.07e+03. This might indicate that there are\n",
      "strong multicollinearity or other numerical problems.\n",
      "\n",
      "\n",
      "Results for F80-F89 - Transtornos do desenvolvimento psicológico:\n",
      "                           GLSAR Regression Results                           \n",
      "==============================================================================\n",
      "Dep. Variable:                valores   R-squared:                       0.946\n",
      "Model:                          GLSAR   Adj. R-squared:                  0.936\n",
      "Method:                 Least Squares   F-statistic:                     137.1\n",
      "Date:                ter, 22 abr 2025   Prob (F-statistic):           6.54e-56\n",
      "Time:                        01:35:32   Log-Likelihood:                -612.86\n",
      "No. Observations:                 107   AIC:                             1260.\n",
      "Df Residuals:                      90   BIC:                             1305.\n",
      "Df Model:                          16                                         \n",
      "Covariance Type:                  HAC                                         \n",
      "=====================================================================================\n",
      "                        coef    std err          z      P>|z|      [0.025      0.975]\n",
      "-------------------------------------------------------------------------------------\n",
      "Intercept            42.7150     23.568      1.812      0.070      -3.477      88.907\n",
      "periodo               3.2165      0.493      6.525      0.000       2.250       4.183\n",
      "month_2              -0.9909     36.272     -0.027      0.978     -72.084      70.102\n",
      "month_3              57.6714     31.283      1.844      0.065      -3.642     118.984\n",
      "month_4              55.1720     38.193      1.445      0.149     -19.685     130.029\n",
      "month_5              31.8642     42.601      0.748      0.454     -51.633     115.361\n",
      "month_6              58.9370     28.561      2.064      0.039       2.959     114.915\n",
      "month_7              76.4863     40.072      1.909      0.056      -2.053     155.026\n",
      "month_8             124.3577     28.767      4.323      0.000      67.976     180.740\n",
      "month_9              43.3219     35.503      1.220      0.222     -26.263     112.907\n",
      "month_10            119.5238     38.917      3.071      0.002      43.248     195.800\n",
      "month_11             70.8840     23.917      2.964      0.003      24.007     117.761\n",
      "month_12             29.7450     31.008      0.959      0.337     -31.029      90.519\n",
      "Choque_Inicial     -147.3654     21.688     -6.795      0.000    -189.874    -104.857\n",
      "Lockdown_2021      -127.9305     76.408     -1.674      0.094    -277.688      21.827\n",
      "Step_PosPandemia  -1032.9530     63.146    -16.358      0.000   -1156.717    -909.189\n",
      "Trend_PosPandemia    15.0741      0.858     17.569      0.000      13.392      16.756\n",
      "==============================================================================\n",
      "Omnibus:                        6.390   Durbin-Watson:                   1.934\n",
      "Prob(Omnibus):                  0.041   Jarque-Bera (JB):               10.848\n",
      "Skew:                          -0.008   Prob(JB):                      0.00441\n",
      "Kurtosis:                       4.560   Cond. No.                         861.\n",
      "==============================================================================\n",
      "\n",
      "Notes:\n",
      "[1] Standard Errors are heteroscedasticity and autocorrelation robust (HAC) using 4 lags and without small sample correction\n",
      "\n",
      "\n",
      "Results for F90-F98 - Transtornos do comportamento e transtornos emocionais que aparecem habitualmente durante a infância ou a adolescência:\n",
      "                           GLSAR Regression Results                           \n",
      "==============================================================================\n",
      "Dep. Variable:                valores   R-squared:                       0.860\n",
      "Model:                          GLSAR   Adj. R-squared:                  0.836\n",
      "Method:                 Least Squares   F-statistic:                     53.73\n",
      "Date:                ter, 22 abr 2025   Prob (F-statistic):           6.05e-39\n",
      "Time:                        01:35:32   Log-Likelihood:                -607.04\n",
      "No. Observations:                 107   AIC:                             1248.\n",
      "Df Residuals:                      90   BIC:                             1294.\n",
      "Df Model:                          16                                         \n",
      "Covariance Type:                  HAC                                         \n",
      "=====================================================================================\n",
      "                        coef    std err          z      P>|z|      [0.025      0.975]\n",
      "-------------------------------------------------------------------------------------\n",
      "Intercept           253.1491     26.513      9.548      0.000     201.185     305.113\n",
      "periodo               2.0075      0.643      3.121      0.002       0.747       3.268\n",
      "month_2             -48.0864     31.041     -1.549      0.121    -108.927      12.754\n",
      "month_3              39.9295     26.868      1.486      0.137     -12.731      92.590\n",
      "month_4              33.5128     31.123      1.077      0.282     -27.486      94.512\n",
      "month_5              23.8039     44.444      0.536      0.592     -63.305     110.913\n",
      "month_6              40.1555     27.759      1.447      0.148     -14.252      94.563\n",
      "month_7              75.5719     29.892      2.528      0.011      16.984     134.160\n",
      "month_8             125.5411     32.159      3.904      0.000      62.511     188.571\n",
      "month_9              89.2571     24.124      3.700      0.000      41.974     136.540\n",
      "month_10            154.1872     37.038      4.163      0.000      81.594     226.781\n",
      "month_11             61.1680     29.278      2.089      0.037       3.784     118.552\n",
      "month_12             -1.2407     32.599     -0.038      0.970     -65.134      62.652\n",
      "Choque_Inicial     -135.6348     40.733     -3.330      0.001    -215.470     -55.800\n",
      "Lockdown_2021      -258.1432     72.673     -3.552      0.000    -400.580    -115.707\n",
      "Step_PosPandemia   -819.4320     63.994    -12.805      0.000    -944.859    -694.005\n",
      "Trend_PosPandemia    10.5944      1.007     10.523      0.000       8.621      12.568\n",
      "==============================================================================\n",
      "Omnibus:                        8.854   Durbin-Watson:                   2.018\n",
      "Prob(Omnibus):                  0.012   Jarque-Bera (JB):               16.773\n",
      "Skew:                           0.221   Prob(JB):                     0.000228\n",
      "Kurtosis:                       4.889   Cond. No.                         972.\n",
      "==============================================================================\n",
      "\n",
      "Notes:\n",
      "[1] Standard Errors are heteroscedasticity and autocorrelation robust (HAC) using 4 lags and without small sample correction\n",
      "\n",
      "\n",
      "Results for F99-F99 - Transtorno mental não especificado:\n",
      "                           GLSAR Regression Results                           \n",
      "==============================================================================\n",
      "Dep. Variable:                valores   R-squared:                       0.623\n",
      "Model:                          GLSAR   Adj. R-squared:                  0.556\n",
      "Method:                 Least Squares   F-statistic:                     23.43\n",
      "Date:                ter, 22 abr 2025   Prob (F-statistic):           2.50e-25\n",
      "Time:                        01:35:32   Log-Likelihood:                -541.09\n",
      "No. Observations:                 107   AIC:                             1116.\n",
      "Df Residuals:                      90   BIC:                             1162.\n",
      "Df Model:                          16                                         \n",
      "Covariance Type:                  HAC                                         \n",
      "=====================================================================================\n",
      "                        coef    std err          z      P>|z|      [0.025      0.975]\n",
      "-------------------------------------------------------------------------------------\n",
      "Intercept           157.5918     17.421      9.046      0.000     123.446     191.737\n",
      "periodo              -2.0572      0.450     -4.575      0.000      -2.938      -1.176\n",
      "month_2             -17.8423     16.349     -1.091      0.275     -49.886      14.201\n",
      "month_3              14.2001     19.217      0.739      0.460     -23.464      51.864\n",
      "month_4             -19.5729     16.103     -1.215      0.224     -51.135      11.989\n",
      "month_5              15.2235     18.560      0.820      0.412     -21.153      51.600\n",
      "month_6              14.0132     16.119      0.869      0.385     -17.580      45.606\n",
      "month_7              16.5307     16.421      1.007      0.314     -15.654      48.716\n",
      "month_8              18.5565     18.216      1.019      0.308     -17.146      54.259\n",
      "month_9              11.4813     22.094      0.520      0.603     -31.822      54.784\n",
      "month_10             21.4274     17.506      1.224      0.221     -12.884      55.739\n",
      "month_11             10.6949     15.690      0.682      0.495     -20.058      41.448\n",
      "month_12             -9.6249     16.090     -0.598      0.550     -41.161      21.911\n",
      "Choque_Inicial      -21.4924     14.123     -1.522      0.128     -49.172       6.188\n",
      "Lockdown_2021       -10.9169     23.293     -0.469      0.639     -56.570      34.736\n",
      "Step_PosPandemia   -367.3630     41.455     -8.862      0.000    -448.613    -286.113\n",
      "Trend_PosPandemia     5.5194      0.653      8.456      0.000       4.240       6.799\n",
      "==============================================================================\n",
      "Omnibus:                       11.610   Durbin-Watson:                   2.006\n",
      "Prob(Omnibus):                  0.003   Jarque-Bera (JB):               12.065\n",
      "Skew:                           0.730   Prob(JB):                      0.00240\n",
      "Kurtosis:                       3.758   Cond. No.                     1.09e+03\n",
      "==============================================================================\n",
      "\n",
      "Notes:\n",
      "[1] Standard Errors are heteroscedasticity and autocorrelation robust (HAC) using 4 lags and without small sample correction\n",
      "[2] The condition number is large, 1.09e+03. This might indicate that there are\n",
      "strong multicollinearity or other numerical problems.\n",
      "\n",
      "\n",
      "Results for _Grand Total:\n",
      "                           GLSAR Regression Results                           \n",
      "==============================================================================\n",
      "Dep. Variable:                valores   R-squared:                       0.890\n",
      "Model:                          GLSAR   Adj. R-squared:                  0.870\n",
      "Method:                 Least Squares   F-statistic:                     75.30\n",
      "Date:                ter, 22 abr 2025   Prob (F-statistic):           6.38e-45\n",
      "Time:                        01:35:32   Log-Likelihood:                -888.83\n",
      "No. Observations:                 107   AIC:                             1812.\n",
      "Df Residuals:                      90   BIC:                             1857.\n",
      "Df Model:                          16                                         \n",
      "Covariance Type:                  HAC                                         \n",
      "=====================================================================================\n",
      "                        coef    std err          z      P>|z|      [0.025      0.975]\n",
      "-------------------------------------------------------------------------------------\n",
      "Intercept          5981.8042    549.082     10.894      0.000    4905.624    7057.985\n",
      "periodo              -5.1114     13.302     -0.384      0.701     -31.182      20.960\n",
      "month_2            -529.5954    525.088     -1.009      0.313   -1558.748     499.557\n",
      "month_3             696.2055    568.285      1.225      0.221    -417.612    1810.023\n",
      "month_4             427.5221    683.800      0.625      0.532    -912.701    1767.745\n",
      "month_5             380.4633    606.475      0.627      0.530    -808.206    1569.133\n",
      "month_6             631.8709    539.092      1.172      0.241    -424.730    1688.472\n",
      "month_7             969.1925    561.554      1.726      0.084    -131.433    2069.818\n",
      "month_8            1625.5271    605.026      2.687      0.007     439.699    2811.356\n",
      "month_9             693.9746    568.229      1.221      0.222    -419.734    1807.683\n",
      "month_10           1624.1802    651.335      2.494      0.013     347.588    2900.773\n",
      "month_11            684.4904    575.559      1.189      0.234    -443.585    1812.566\n",
      "month_12            -17.6741    596.452     -0.030      0.976   -1186.698    1151.350\n",
      "Choque_Inicial    -1440.6634    411.494     -3.501      0.000   -2247.177    -634.150\n",
      "Lockdown_2021     -3035.1849    957.460     -3.170      0.002   -4911.771   -1158.599\n",
      "Step_PosPandemia  -1.181e+04   1071.592    -11.022      0.000   -1.39e+04   -9711.317\n",
      "Trend_PosPandemia   187.0649     18.062     10.357      0.000     151.665     222.465\n",
      "==============================================================================\n",
      "Omnibus:                        0.478   Durbin-Watson:                   1.990\n",
      "Prob(Omnibus):                  0.787   Jarque-Bera (JB):                0.392\n",
      "Skew:                          -0.147   Prob(JB):                        0.822\n",
      "Kurtosis:                       2.960   Cond. No.                     1.04e+03\n",
      "==============================================================================\n",
      "\n",
      "Notes:\n",
      "[1] Standard Errors are heteroscedasticity and autocorrelation robust (HAC) using 4 lags and without small sample correction\n",
      "[2] The condition number is large, 1.04e+03. This might indicate that there are\n",
      "strong multicollinearity or other numerical problems.\n",
      "\n",
      "\n",
      "Results for __Atendimentos na APS (exceto saúde mental):\n",
      "                           GLSAR Regression Results                           \n",
      "==============================================================================\n",
      "Dep. Variable:                valores   R-squared:                       0.902\n",
      "Model:                          GLSAR   Adj. R-squared:                  0.884\n",
      "Method:                 Least Squares   F-statistic:                     173.4\n",
      "Date:                ter, 22 abr 2025   Prob (F-statistic):           2.52e-60\n",
      "Time:                        01:35:32   Log-Likelihood:                -1205.2\n",
      "No. Observations:                 107   AIC:                             2444.\n",
      "Df Residuals:                      90   BIC:                             2490.\n",
      "Df Model:                          16                                         \n",
      "Covariance Type:                  HAC                                         \n",
      "=====================================================================================\n",
      "                        coef    std err          z      P>|z|      [0.025      0.975]\n",
      "-------------------------------------------------------------------------------------\n",
      "Intercept          9.971e+04   7800.457     12.783      0.000    8.44e+04    1.15e+05\n",
      "periodo             891.3152    182.150      4.893      0.000     534.308    1248.322\n",
      "month_2           -2.319e+04   7533.599     -3.078      0.002    -3.8e+04   -8425.671\n",
      "month_3            6920.4699   8136.287      0.851      0.395   -9026.359    2.29e+04\n",
      "month_4            5718.4283   9395.104      0.609      0.543   -1.27e+04    2.41e+04\n",
      "month_5            5595.6730   1.21e+04      0.464      0.643   -1.81e+04    2.93e+04\n",
      "month_6            8273.7844   7514.130      1.101      0.271   -6453.639     2.3e+04\n",
      "month_7            8488.2951   7566.869      1.122      0.262   -6342.496    2.33e+04\n",
      "month_8            1.313e+04   1.05e+04      1.255      0.209   -7373.267    3.36e+04\n",
      "month_9           -1.025e+04   8665.362     -1.183      0.237   -2.72e+04    6731.796\n",
      "month_10           7538.1748   9719.801      0.776      0.438   -1.15e+04    2.66e+04\n",
      "month_11          -9740.9161   8577.122     -1.136      0.256   -2.66e+04    7069.933\n",
      "month_12          -1.711e+04   9181.395     -1.864      0.062   -3.51e+04     882.322\n",
      "Choque_Inicial    -3.683e+04   7005.553     -5.257      0.000   -5.06e+04   -2.31e+04\n",
      "Lockdown_2021     -8.272e+04   1.91e+04     -4.333      0.000    -1.2e+05   -4.53e+04\n",
      "Step_PosPandemia  -1.878e+04   2.28e+04     -0.822      0.411   -6.35e+04     2.6e+04\n",
      "Trend_PosPandemia   838.8152    329.119      2.549      0.011     193.753    1483.877\n",
      "==============================================================================\n",
      "Omnibus:                       11.215   Durbin-Watson:                   2.008\n",
      "Prob(Omnibus):                  0.004   Jarque-Bera (JB):               19.171\n",
      "Skew:                          -0.418   Prob(JB):                     6.87e-05\n",
      "Kurtosis:                       4.898   Cond. No.                         994.\n",
      "==============================================================================\n",
      "\n",
      "Notes:\n",
      "[1] Standard Errors are heteroscedasticity and autocorrelation robust (HAC) using 4 lags and without small sample correction\n",
      "\n",
      "\n"
     ]
    }
   ],
   "source": [
    "\n",
    "results = variable_processor.results\n",
    "for variable in results:\n",
    "\n",
    "    print(f\"Results for {variable}:\")\n",
    "    result = results[variable]\n",
    "\n",
    "    print(result.summary())\n",
    "    \n",
    "    #print(\"AIC\", result.aic,)  # Akaike Information Criterion\n",
    "    #print(\"BIC\", result.bic,)  # Bayesian Information Criterion\n",
    "\n",
    "    print(\"\\n\")"
   ]
  },
  {
   "cell_type": "markdown",
   "metadata": {},
   "source": [
    "# Teste Lags"
   ]
  },
  {
   "cell_type": "code",
   "execution_count": 279,
   "metadata": {},
   "outputs": [],
   "source": [
    "#teste_lag\n",
    "from collections import defaultdict\n",
    "import statsmodels.api as sm\n",
    "import statsmodels.formula.api as smf\n",
    "import pandas as pd\n",
    "import statsmodels.stats.api as sms\n",
    "\n",
    "\n",
    "DO_LAG_TEST = False\n",
    "if DO_LAG_TEST:\n",
    "    lags_to_test = [1, 2, 3, 4, 5, 6, 8, 10]\n",
    "    estatisticas_por_lag = defaultdict(dict)\n",
    "\n",
    "    # Adicionar uma variável para armazenar a informação de ACF\n",
    "    acf_values = defaultdict(dict)\n",
    "\n",
    "    for lag in lags_to_test:\n",
    "\n",
    "\n",
    "\n",
    "        processor_args[\"cov_kwargs\"] = {\"maxlags\": lag}\n",
    "\n",
    "        variable_processor = VariableProcessor(\n",
    "            df=RegressionDF,\n",
    "            processor_args=processor_args,\n",
    "            processor=RegressionProcessor\n",
    "        )\n",
    "\n",
    "        variable_processor.process_variables()\n",
    "        results = variable_processor.results\n",
    "\n",
    "        for var, result in results.items():\n",
    "            # extrair estatísticas desejadas\n",
    "            summary_frame = result.summary2().tables[1]  # tabelinha de coeficientes\n",
    "            if \"Trend_PosPandemia\" in summary_frame.index:\n",
    "                trend_stats = summary_frame.loc[\"Trend_PosPandemia\"]\n",
    "                estatisticas_por_lag[lag][var] = {\n",
    "                    \"coef\": trend_stats[\"Coef.\"],\n",
    "                    \"std_err\": trend_stats[\"Std.Err.\"],\n",
    "                    \"p_value\": trend_stats[\"P>|z|\"] if \"P>|z|\" in trend_stats else trend_stats[\"P>|t|\"],\n",
    "                }\n",
    "            else:\n",
    "                estatisticas_por_lag[lag][var] = {\"coef\": None, \"std_err\": None, \"p_value\": None}\n",
    "\n",
    "            # Outras estatísticas: Durbin-Watson, AIC, BIC, R², F-Estatístico, p-valor do modelo\n",
    "            estatisticas_por_lag[lag][var][\"durbin_watson\"] = sm.stats.stattools.durbin_watson(result.resid)\n",
    "            estatisticas_por_lag[lag][var][\"aic\"] = result.aic\n",
    "            estatisticas_por_lag[lag][var][\"bic\"] = result.bic\n",
    "            estatisticas_por_lag[lag][var][\"r_squared\"] = result.rsquared\n",
    "            estatisticas_por_lag[lag][var][\"f_statistic\"] = result.fvalue\n",
    "            estatisticas_por_lag[lag][var][\"p_value_model\"] = result.f_pvalue\n",
    "\n",
    "            # ACF (Autocorrelation Function) dos resíduos\n",
    "            acf_result = sm.tsa.acf(result.resid, nlags=lag, fft=True)\n",
    "            acf_values[lag][var] = acf_result\n",
    "\n",
    "            # Exibir os valores de ACF para verificação\n",
    "            print(f\"Valores da ACF para {var} no lag {lag}: {acf_result}\")\n",
    "\n",
    "            # Ajuste: Registra os lags com autocorrelação positiva maior que 0.1 ou qualquer critério ajustado\n",
    "            acf_significant_lags = [i for i, acf_val in enumerate(acf_result) if abs(acf_val) > 0.1]  # Limite mais relaxado\n",
    "            estatisticas_por_lag[lag][var][\"acf_significant_lags\"] = acf_significant_lags\n",
    "\n",
    "    # Converte o dicionário em uma lista de registros\n",
    "    registros = []\n",
    "    for lag, variaveis in estatisticas_por_lag.items():\n",
    "        for var, stats in variaveis.items():\n",
    "            linha = {\"lag\": lag, \"variavel\": var}\n",
    "            linha.update(stats)\n",
    "            registros.append(linha)\n",
    "\n",
    "    # Cria o DataFrame\n",
    "    df_resultados_lags = pd.DataFrame(registros)\n",
    "\n",
    "    # Ordena para facilitar a visualização\n",
    "    df_resultados_lags.sort_values(by=[\"variavel\", \"lag\"], inplace=True)\n",
    "    #df_resultados_lags.to_csv(\"df_resultados_lags.csv\", sep=';', decimal=',', index=False, encoding='utf-8-sig')\n",
    "    # Exibe os resultados\n",
    "\n"
   ]
  },
  {
   "cell_type": "markdown",
   "metadata": {
    "id": "zH9i6dotzLe5"
   },
   "source": [
    "# Define Hover Graph Func\n"
   ]
  },
  {
   "cell_type": "code",
   "execution_count": 280,
   "metadata": {},
   "outputs": [],
   "source": [
    "import plotly.graph_objects as go\n",
    "def plot_with_all_dummies(variable:str, variable_df, results_obj, dummy_indexes):\n",
    "    \"\"\"\n",
    "    Plots the real series, baseline regression, and dummy effects dynamically using Results object.\n",
    "    \"\"\"\n",
    "    # Extract data from Results object\n",
    "\n",
    "    regression_stats = results_obj.params\n",
    "\n",
    "\n",
    "    variable_df = variable_df.sort_values(by=DATE_NAME).reset_index(drop=True)\n",
    "    dates = variable_df[DATE_NAME].values\n",
    "    real_series = variable_df[DEPENDENT_VAR].values\n",
    "\n",
    "    # Extract regression coefficients\n",
    "    intercept = regression_stats.get(\"Intercept\", 0)\n",
    "    slope = regression_stats.get(INDEPENDENT_VAR, 0)\n",
    "\n",
    "    # Build numeric time index\n",
    "    t = np.arange(len(dates)) + 1  # 1, 2, ..., T\n",
    "\n",
    "    # Compute baseline\n",
    "    baseline = intercept + slope * t\n",
    "\n",
    "\n",
    "    # Initialize the full prediction with the baseline\n",
    "    full_pred = baseline.copy()\n",
    "\n",
    "    # Create the figure\n",
    "    fig = go.Figure()\n",
    "\n",
    "    # Add the real series\n",
    "    fig.add_trace(go.Scatter(\n",
    "        x=dates,\n",
    "        y=real_series,\n",
    "        mode='markers',\n",
    "        name='Real',\n",
    "        marker=dict(color='black')\n",
    "    ))\n",
    "\n",
    "    # Add the baseline\n",
    "    fig.add_trace(go.Scatter(\n",
    "        x=dates,\n",
    "        y=baseline,\n",
    "        mode='lines',\n",
    "        name='Baseline',\n",
    "        line=dict(dash='dot', color='black')\n",
    "    ))\n",
    "\n",
    "    # Add dummy effects dynamically\n",
    "\n",
    "    for dummy_name in dummy_indexes.keys():\n",
    "        coef = regression_stats.get(dummy_name, 0)\n",
    "        dummy_ts = variable_df[dummy_name]#np.where(t > (start_idx), t - (start_idx), 0)\n",
    "        dummy_effect = np.zeros_like(t)\n",
    "        for i, d_t in enumerate(dummy_ts):\n",
    "            dummy_effect[i] = coef * d_t #if start_idx <= i <= end_idx else 0\n",
    "        full_pred += dummy_effect\n",
    "\n",
    "\n",
    "\n",
    "\n",
    "    fig.add_trace(go.Scatter(\n",
    "        x=dates,\n",
    "        y=full_pred,\n",
    "        mode='lines',\n",
    "        name='Full model',\n",
    "        line=dict(color='purple')\n",
    "    ))\n",
    "        \n",
    "\n",
    "    # Update layout\n",
    "    fig.update_layout(\n",
    "        title=variable,\n",
    "        xaxis_title=\"Time\",\n",
    "        yaxis_title=\"Value\",\n",
    "        legend_title=\"Legend\"\n",
    "    )\n",
    "\n",
    "    # Show the figure\n",
    "    fig.show()\n"
   ]
  },
  {
   "cell_type": "code",
   "execution_count": 281,
   "metadata": {},
   "outputs": [],
   "source": [
    "import plotly.graph_objects as go\n",
    "\n",
    "def plot_interactive_graph(results, regression_df, variable):\n",
    "    result = results[variable]  # change key if needed\n",
    "    df = regression_df[regression_df[VARIABLE_COLUMN_NAME] == variable]\n",
    "\n",
    "    # Get fitted values from full model\n",
    "    df['fitted_full'] = result.fittedvalues\n",
    "\n",
    "    # Get baseline prediction (Intercept + Trend + Step effects, ignoring months)\n",
    "    coefs = result.params\n",
    "\n",
    "    # Build baseline manually\n",
    "    baseline = (\n",
    "    \tcoefs['Intercept']\n",
    "    \t+ df['periodo'] * coefs.get('periodo', 0)\n",
    "    \t+ df.get('Step_PosPandemia', 0) * coefs.get('Step_PosPandemia', 0)\n",
    "    \t+ df.get('Choque_Inicial', 0) * coefs.get('Choque_Inicial', 0)\n",
    "    \t+ df.get('Lockdown_2021', 0) * coefs.get('Lockdown_2021', 0)\n",
    "    \t+ df.get('Trend_PosPandemia', 0) * coefs.get('Trend_PosPandemia', 0)\n",
    "    )\n",
    "    df['baseline'] = baseline\n",
    "\n",
    "    # Interactive plot\n",
    "    fig = go.Figure()\n",
    "\n",
    "    fig.add_trace(go.Scatter(\n",
    "    \tx=df['periodo'],\n",
    "    \ty=df['valores'],\n",
    "    \tmode='lines+markers',\n",
    "    \tname='Observed',\n",
    "    \tline=dict(color='black')\n",
    "    ))\n",
    "\n",
    "    #fig.add_trace(go.Scatter(\n",
    "    #\tx=df['periodo'],\n",
    "    #\ty=df['fitted_full'],\n",
    "    #\tmode='lines',\n",
    "    #\tname='Fitted (Full Model)',\n",
    "    #\tline=dict(color='green')\n",
    "    #))\n",
    "#\n",
    "    #fig.add_trace(go.Scatter(\n",
    "    #\tx=df['periodo'],\n",
    "    #\ty=df['baseline'],\n",
    "    #\tmode='lines',\n",
    "    #\tname='Baseline (No Months)',\n",
    "    #\tline=dict(color='red', dash='dash')\n",
    "    #))\n",
    "\n",
    "    fig.update_layout(\n",
    "        title='Fitted Values vs Baseline vs Observed',\n",
    "        xaxis_title='Período',\n",
    "        yaxis_title='Valores',\n",
    "        template='plotly_white'\n",
    "    )\n",
    "\n",
    "    fig.show()"
   ]
  },
  {
   "cell_type": "markdown",
   "metadata": {},
   "source": [
    "# EXEC --- Plot Graph"
   ]
  },
  {
   "cell_type": "code",
   "execution_count": 282,
   "metadata": {},
   "outputs": [
    {
     "data": {
      "application/vnd.plotly.v1+json": {
       "config": {
        "plotlyServerURL": "https://plot.ly"
       },
       "data": [
        {
         "marker": {
          "color": "black"
         },
         "mode": "markers",
         "name": "Real",
         "type": "scatter",
         "x": [
          "2016-01-01T00:00:00.000000000",
          "2016-02-01T00:00:00.000000000",
          "2016-03-01T00:00:00.000000000",
          "2016-04-01T00:00:00.000000000",
          "2016-05-01T00:00:00.000000000",
          "2016-06-01T00:00:00.000000000",
          "2016-07-01T00:00:00.000000000",
          "2016-08-01T00:00:00.000000000",
          "2016-09-01T00:00:00.000000000",
          "2016-10-01T00:00:00.000000000",
          "2016-11-01T00:00:00.000000000",
          "2016-12-01T00:00:00.000000000",
          "2017-01-01T00:00:00.000000000",
          "2017-02-01T00:00:00.000000000",
          "2017-03-01T00:00:00.000000000",
          "2017-04-01T00:00:00.000000000",
          "2017-05-01T00:00:00.000000000",
          "2017-06-01T00:00:00.000000000",
          "2017-07-01T00:00:00.000000000",
          "2017-08-01T00:00:00.000000000",
          "2017-09-01T00:00:00.000000000",
          "2017-10-01T00:00:00.000000000",
          "2017-11-01T00:00:00.000000000",
          "2017-12-01T00:00:00.000000000",
          "2018-01-01T00:00:00.000000000",
          "2018-02-01T00:00:00.000000000",
          "2018-03-01T00:00:00.000000000",
          "2018-04-01T00:00:00.000000000",
          "2018-05-01T00:00:00.000000000",
          "2018-06-01T00:00:00.000000000",
          "2018-07-01T00:00:00.000000000",
          "2018-08-01T00:00:00.000000000",
          "2018-09-01T00:00:00.000000000",
          "2018-10-01T00:00:00.000000000",
          "2018-11-01T00:00:00.000000000",
          "2018-12-01T00:00:00.000000000",
          "2019-01-01T00:00:00.000000000",
          "2019-02-01T00:00:00.000000000",
          "2019-03-01T00:00:00.000000000",
          "2019-04-01T00:00:00.000000000",
          "2019-05-01T00:00:00.000000000",
          "2019-06-01T00:00:00.000000000",
          "2019-07-01T00:00:00.000000000",
          "2019-08-01T00:00:00.000000000",
          "2019-09-01T00:00:00.000000000",
          "2019-10-01T00:00:00.000000000",
          "2019-11-01T00:00:00.000000000",
          "2019-12-01T00:00:00.000000000",
          "2020-01-01T00:00:00.000000000",
          "2020-02-01T00:00:00.000000000",
          "2020-03-01T00:00:00.000000000",
          "2020-04-01T00:00:00.000000000",
          "2020-05-01T00:00:00.000000000",
          "2020-06-01T00:00:00.000000000",
          "2020-07-01T00:00:00.000000000",
          "2020-08-01T00:00:00.000000000",
          "2020-09-01T00:00:00.000000000",
          "2020-10-01T00:00:00.000000000",
          "2020-11-01T00:00:00.000000000",
          "2020-12-01T00:00:00.000000000",
          "2021-01-01T00:00:00.000000000",
          "2021-02-01T00:00:00.000000000",
          "2021-03-01T00:00:00.000000000",
          "2021-04-01T00:00:00.000000000",
          "2021-05-01T00:00:00.000000000",
          "2021-06-01T00:00:00.000000000",
          "2021-07-01T00:00:00.000000000",
          "2021-08-01T00:00:00.000000000",
          "2021-09-01T00:00:00.000000000",
          "2021-10-01T00:00:00.000000000",
          "2021-11-01T00:00:00.000000000",
          "2021-12-01T00:00:00.000000000",
          "2022-01-01T00:00:00.000000000",
          "2022-02-01T00:00:00.000000000",
          "2022-03-01T00:00:00.000000000",
          "2022-04-01T00:00:00.000000000",
          "2022-05-01T00:00:00.000000000",
          "2022-06-01T00:00:00.000000000",
          "2022-07-01T00:00:00.000000000",
          "2022-08-01T00:00:00.000000000",
          "2022-09-01T00:00:00.000000000",
          "2022-10-01T00:00:00.000000000",
          "2022-11-01T00:00:00.000000000",
          "2022-12-01T00:00:00.000000000",
          "2023-01-01T00:00:00.000000000",
          "2023-02-01T00:00:00.000000000",
          "2023-03-01T00:00:00.000000000",
          "2023-04-01T00:00:00.000000000",
          "2023-05-01T00:00:00.000000000",
          "2023-06-01T00:00:00.000000000",
          "2023-07-01T00:00:00.000000000",
          "2023-08-01T00:00:00.000000000",
          "2023-09-01T00:00:00.000000000",
          "2023-10-01T00:00:00.000000000",
          "2023-11-01T00:00:00.000000000",
          "2023-12-01T00:00:00.000000000",
          "2024-01-01T00:00:00.000000000",
          "2024-02-01T00:00:00.000000000",
          "2024-03-01T00:00:00.000000000",
          "2024-04-01T00:00:00.000000000",
          "2024-05-01T00:00:00.000000000",
          "2024-06-01T00:00:00.000000000",
          "2024-07-01T00:00:00.000000000",
          "2024-08-01T00:00:00.000000000",
          "2024-09-01T00:00:00.000000000",
          "2024-10-01T00:00:00.000000000",
          "2024-11-01T00:00:00.000000000",
          "2024-12-01T00:00:00.000000000"
         ],
         "y": [
          109,
          145,
          193,
          164,
          197,
          210,
          271,
          305,
          242,
          245,
          175,
          172,
          159,
          165,
          262,
          191,
          229,
          254,
          189,
          193,
          199,
          208,
          218,
          189,
          205,
          161,
          242,
          223,
          252,
          258,
          222,
          261,
          223,
          286,
          249,
          200,
          267,
          235,
          252,
          234,
          266,
          208,
          264,
          244,
          170,
          207,
          159,
          155,
          208,
          194,
          166,
          152,
          177,
          217,
          207,
          202,
          254,
          233,
          219,
          257,
          255,
          228,
          237,
          136,
          69,
          332,
          376,
          350,
          358,
          356,
          308,
          347,
          206,
          287,
          381,
          294,
          391,
          368,
          348,
          381,
          383,
          389,
          418,
          359,
          422,
          362,
          428,
          368,
          468,
          399,
          442,
          493,
          399,
          490,
          462,
          484,
          451,
          379,
          448,
          507,
          359,
          499,
          603,
          551,
          500,
          669,
          563,
          532
         ]
        },
        {
         "line": {
          "color": "black",
          "dash": "dot"
         },
         "mode": "lines",
         "name": "Baseline",
         "type": "scatter",
         "x": [
          "2016-01-01T00:00:00.000000000",
          "2016-02-01T00:00:00.000000000",
          "2016-03-01T00:00:00.000000000",
          "2016-04-01T00:00:00.000000000",
          "2016-05-01T00:00:00.000000000",
          "2016-06-01T00:00:00.000000000",
          "2016-07-01T00:00:00.000000000",
          "2016-08-01T00:00:00.000000000",
          "2016-09-01T00:00:00.000000000",
          "2016-10-01T00:00:00.000000000",
          "2016-11-01T00:00:00.000000000",
          "2016-12-01T00:00:00.000000000",
          "2017-01-01T00:00:00.000000000",
          "2017-02-01T00:00:00.000000000",
          "2017-03-01T00:00:00.000000000",
          "2017-04-01T00:00:00.000000000",
          "2017-05-01T00:00:00.000000000",
          "2017-06-01T00:00:00.000000000",
          "2017-07-01T00:00:00.000000000",
          "2017-08-01T00:00:00.000000000",
          "2017-09-01T00:00:00.000000000",
          "2017-10-01T00:00:00.000000000",
          "2017-11-01T00:00:00.000000000",
          "2017-12-01T00:00:00.000000000",
          "2018-01-01T00:00:00.000000000",
          "2018-02-01T00:00:00.000000000",
          "2018-03-01T00:00:00.000000000",
          "2018-04-01T00:00:00.000000000",
          "2018-05-01T00:00:00.000000000",
          "2018-06-01T00:00:00.000000000",
          "2018-07-01T00:00:00.000000000",
          "2018-08-01T00:00:00.000000000",
          "2018-09-01T00:00:00.000000000",
          "2018-10-01T00:00:00.000000000",
          "2018-11-01T00:00:00.000000000",
          "2018-12-01T00:00:00.000000000",
          "2019-01-01T00:00:00.000000000",
          "2019-02-01T00:00:00.000000000",
          "2019-03-01T00:00:00.000000000",
          "2019-04-01T00:00:00.000000000",
          "2019-05-01T00:00:00.000000000",
          "2019-06-01T00:00:00.000000000",
          "2019-07-01T00:00:00.000000000",
          "2019-08-01T00:00:00.000000000",
          "2019-09-01T00:00:00.000000000",
          "2019-10-01T00:00:00.000000000",
          "2019-11-01T00:00:00.000000000",
          "2019-12-01T00:00:00.000000000",
          "2020-01-01T00:00:00.000000000",
          "2020-02-01T00:00:00.000000000",
          "2020-03-01T00:00:00.000000000",
          "2020-04-01T00:00:00.000000000",
          "2020-05-01T00:00:00.000000000",
          "2020-06-01T00:00:00.000000000",
          "2020-07-01T00:00:00.000000000",
          "2020-08-01T00:00:00.000000000",
          "2020-09-01T00:00:00.000000000",
          "2020-10-01T00:00:00.000000000",
          "2020-11-01T00:00:00.000000000",
          "2020-12-01T00:00:00.000000000",
          "2021-01-01T00:00:00.000000000",
          "2021-02-01T00:00:00.000000000",
          "2021-03-01T00:00:00.000000000",
          "2021-04-01T00:00:00.000000000",
          "2021-05-01T00:00:00.000000000",
          "2021-06-01T00:00:00.000000000",
          "2021-07-01T00:00:00.000000000",
          "2021-08-01T00:00:00.000000000",
          "2021-09-01T00:00:00.000000000",
          "2021-10-01T00:00:00.000000000",
          "2021-11-01T00:00:00.000000000",
          "2021-12-01T00:00:00.000000000",
          "2022-01-01T00:00:00.000000000",
          "2022-02-01T00:00:00.000000000",
          "2022-03-01T00:00:00.000000000",
          "2022-04-01T00:00:00.000000000",
          "2022-05-01T00:00:00.000000000",
          "2022-06-01T00:00:00.000000000",
          "2022-07-01T00:00:00.000000000",
          "2022-08-01T00:00:00.000000000",
          "2022-09-01T00:00:00.000000000",
          "2022-10-01T00:00:00.000000000",
          "2022-11-01T00:00:00.000000000",
          "2022-12-01T00:00:00.000000000",
          "2023-01-01T00:00:00.000000000",
          "2023-02-01T00:00:00.000000000",
          "2023-03-01T00:00:00.000000000",
          "2023-04-01T00:00:00.000000000",
          "2023-05-01T00:00:00.000000000",
          "2023-06-01T00:00:00.000000000",
          "2023-07-01T00:00:00.000000000",
          "2023-08-01T00:00:00.000000000",
          "2023-09-01T00:00:00.000000000",
          "2023-10-01T00:00:00.000000000",
          "2023-11-01T00:00:00.000000000",
          "2023-12-01T00:00:00.000000000",
          "2024-01-01T00:00:00.000000000",
          "2024-02-01T00:00:00.000000000",
          "2024-03-01T00:00:00.000000000",
          "2024-04-01T00:00:00.000000000",
          "2024-05-01T00:00:00.000000000",
          "2024-06-01T00:00:00.000000000",
          "2024-07-01T00:00:00.000000000",
          "2024-08-01T00:00:00.000000000",
          "2024-09-01T00:00:00.000000000",
          "2024-10-01T00:00:00.000000000",
          "2024-11-01T00:00:00.000000000",
          "2024-12-01T00:00:00.000000000"
         ],
         "y": [
          193.44175823768416,
          193.69060106211208,
          193.93944388653998,
          194.1882867109679,
          194.43712953539583,
          194.68597235982375,
          194.93481518425165,
          195.18365800867957,
          195.4325008331075,
          195.68134365753542,
          195.93018648196332,
          196.17902930639124,
          196.42787213081917,
          196.6767149552471,
          196.925557779675,
          197.1744006041029,
          197.42324342853084,
          197.67208625295876,
          197.92092907738666,
          198.16977190181458,
          198.4186147262425,
          198.66745755067043,
          198.91630037509833,
          199.16514319952626,
          199.41398602395418,
          199.6628288483821,
          199.91167167281,
          200.16051449723793,
          200.40935732166585,
          200.65820014609378,
          200.90704297052167,
          201.1558857949496,
          201.40472861937752,
          201.65357144380545,
          201.90241426823334,
          202.15125709266127,
          202.4000999170892,
          202.64894274151712,
          202.89778556594501,
          203.14662839037294,
          203.39547121480086,
          203.6443140392288,
          203.89315686365669,
          204.1419996880846,
          204.39084251251253,
          204.63968533694046,
          204.88852816136836,
          205.13737098579628,
          205.3862138102242,
          205.63505663465213,
          205.88389945908003,
          206.13274228350795,
          206.38158510793588,
          206.6304279323638,
          206.8792707567917,
          207.12811358121962,
          207.37695640564755,
          207.62579923007547,
          207.8746420545034,
          208.1234848789313,
          208.37232770335922,
          208.62117052778714,
          208.87001335221504,
          209.11885617664296,
          209.3676990010709,
          209.6165418254988,
          209.86538464992674,
          210.11422747435464,
          210.36307029878256,
          210.61191312321048,
          210.86075594763838,
          211.1095987720663,
          211.35844159649423,
          211.60728442092216,
          211.85612724535008,
          212.10497006977798,
          212.3538128942059,
          212.60265571863383,
          212.85149854306172,
          213.10034136748965,
          213.34918419191757,
          213.5980270163455,
          213.84686984077342,
          214.09571266520132,
          214.34455548962924,
          214.59339831405717,
          214.8422411384851,
          215.091083962913,
          215.33992678734091,
          215.58876961176884,
          215.83761243619676,
          216.08645526062466,
          216.33529808505259,
          216.5841409094805,
          216.83298373390843,
          217.08182655833633,
          217.33066938276426,
          217.57951220719218,
          217.8283550316201,
          218.077197856048,
          218.32604068047593,
          218.57488350490385,
          218.82372632933178,
          219.07256915375967,
          219.3214119781876,
          219.57025480261552,
          219.81909762704345,
          220.06794045147134
         ]
        },
        {
         "line": {
          "color": "purple"
         },
         "mode": "lines",
         "name": "Full model",
         "type": "scatter",
         "x": [
          "2016-01-01T00:00:00.000000000",
          "2016-02-01T00:00:00.000000000",
          "2016-03-01T00:00:00.000000000",
          "2016-04-01T00:00:00.000000000",
          "2016-05-01T00:00:00.000000000",
          "2016-06-01T00:00:00.000000000",
          "2016-07-01T00:00:00.000000000",
          "2016-08-01T00:00:00.000000000",
          "2016-09-01T00:00:00.000000000",
          "2016-10-01T00:00:00.000000000",
          "2016-11-01T00:00:00.000000000",
          "2016-12-01T00:00:00.000000000",
          "2017-01-01T00:00:00.000000000",
          "2017-02-01T00:00:00.000000000",
          "2017-03-01T00:00:00.000000000",
          "2017-04-01T00:00:00.000000000",
          "2017-05-01T00:00:00.000000000",
          "2017-06-01T00:00:00.000000000",
          "2017-07-01T00:00:00.000000000",
          "2017-08-01T00:00:00.000000000",
          "2017-09-01T00:00:00.000000000",
          "2017-10-01T00:00:00.000000000",
          "2017-11-01T00:00:00.000000000",
          "2017-12-01T00:00:00.000000000",
          "2018-01-01T00:00:00.000000000",
          "2018-02-01T00:00:00.000000000",
          "2018-03-01T00:00:00.000000000",
          "2018-04-01T00:00:00.000000000",
          "2018-05-01T00:00:00.000000000",
          "2018-06-01T00:00:00.000000000",
          "2018-07-01T00:00:00.000000000",
          "2018-08-01T00:00:00.000000000",
          "2018-09-01T00:00:00.000000000",
          "2018-10-01T00:00:00.000000000",
          "2018-11-01T00:00:00.000000000",
          "2018-12-01T00:00:00.000000000",
          "2019-01-01T00:00:00.000000000",
          "2019-02-01T00:00:00.000000000",
          "2019-03-01T00:00:00.000000000",
          "2019-04-01T00:00:00.000000000",
          "2019-05-01T00:00:00.000000000",
          "2019-06-01T00:00:00.000000000",
          "2019-07-01T00:00:00.000000000",
          "2019-08-01T00:00:00.000000000",
          "2019-09-01T00:00:00.000000000",
          "2019-10-01T00:00:00.000000000",
          "2019-11-01T00:00:00.000000000",
          "2019-12-01T00:00:00.000000000",
          "2020-01-01T00:00:00.000000000",
          "2020-02-01T00:00:00.000000000",
          "2020-03-01T00:00:00.000000000",
          "2020-04-01T00:00:00.000000000",
          "2020-05-01T00:00:00.000000000",
          "2020-06-01T00:00:00.000000000",
          "2020-07-01T00:00:00.000000000",
          "2020-08-01T00:00:00.000000000",
          "2020-09-01T00:00:00.000000000",
          "2020-10-01T00:00:00.000000000",
          "2020-11-01T00:00:00.000000000",
          "2020-12-01T00:00:00.000000000",
          "2021-01-01T00:00:00.000000000",
          "2021-02-01T00:00:00.000000000",
          "2021-03-01T00:00:00.000000000",
          "2021-04-01T00:00:00.000000000",
          "2021-05-01T00:00:00.000000000",
          "2021-06-01T00:00:00.000000000",
          "2021-07-01T00:00:00.000000000",
          "2021-08-01T00:00:00.000000000",
          "2021-09-01T00:00:00.000000000",
          "2021-10-01T00:00:00.000000000",
          "2021-11-01T00:00:00.000000000",
          "2021-12-01T00:00:00.000000000",
          "2022-01-01T00:00:00.000000000",
          "2022-02-01T00:00:00.000000000",
          "2022-03-01T00:00:00.000000000",
          "2022-04-01T00:00:00.000000000",
          "2022-05-01T00:00:00.000000000",
          "2022-06-01T00:00:00.000000000",
          "2022-07-01T00:00:00.000000000",
          "2022-08-01T00:00:00.000000000",
          "2022-09-01T00:00:00.000000000",
          "2022-10-01T00:00:00.000000000",
          "2022-11-01T00:00:00.000000000",
          "2022-12-01T00:00:00.000000000",
          "2023-01-01T00:00:00.000000000",
          "2023-02-01T00:00:00.000000000",
          "2023-03-01T00:00:00.000000000",
          "2023-04-01T00:00:00.000000000",
          "2023-05-01T00:00:00.000000000",
          "2023-06-01T00:00:00.000000000",
          "2023-07-01T00:00:00.000000000",
          "2023-08-01T00:00:00.000000000",
          "2023-09-01T00:00:00.000000000",
          "2023-10-01T00:00:00.000000000",
          "2023-11-01T00:00:00.000000000",
          "2023-12-01T00:00:00.000000000",
          "2024-01-01T00:00:00.000000000",
          "2024-02-01T00:00:00.000000000",
          "2024-03-01T00:00:00.000000000",
          "2024-04-01T00:00:00.000000000",
          "2024-05-01T00:00:00.000000000",
          "2024-06-01T00:00:00.000000000",
          "2024-07-01T00:00:00.000000000",
          "2024-08-01T00:00:00.000000000",
          "2024-09-01T00:00:00.000000000",
          "2024-10-01T00:00:00.000000000",
          "2024-11-01T00:00:00.000000000",
          "2024-12-01T00:00:00.000000000"
         ],
         "y": [
          193.44175823768416,
          193.69060106211208,
          193.93944388653998,
          194.1882867109679,
          194.43712953539583,
          194.68597235982375,
          194.93481518425165,
          195.18365800867957,
          195.4325008331075,
          195.68134365753542,
          195.93018648196332,
          196.17902930639124,
          196.42787213081917,
          196.6767149552471,
          196.925557779675,
          197.1744006041029,
          197.42324342853084,
          197.67208625295876,
          197.92092907738666,
          198.16977190181458,
          198.4186147262425,
          198.66745755067043,
          198.91630037509833,
          199.16514319952626,
          199.41398602395418,
          199.6628288483821,
          199.91167167281,
          200.16051449723793,
          200.40935732166585,
          200.65820014609378,
          200.90704297052167,
          201.1558857949496,
          201.40472861937752,
          201.65357144380545,
          201.90241426823334,
          202.15125709266127,
          202.4000999170892,
          202.64894274151712,
          202.89778556594501,
          203.14662839037294,
          203.39547121480086,
          203.6443140392288,
          203.89315686365669,
          204.1419996880846,
          204.39084251251253,
          204.63968533694046,
          204.88852816136836,
          205.13737098579628,
          176.3862138102242,
          176.63505663465213,
          176.88389945908003,
          177.13274228350795,
          177.38158510793588,
          177.6304279323638,
          177.8792707567917,
          207.12811358121962,
          213.37695640564755,
          218.62579923007547,
          224.8746420545034,
          231.1234848789313,
          237.37232770335922,
          243.62117052778714,
          248.87001335221504,
          93.11885617664296,
          93.36769900107089,
          267.6165418254988,
          273.86538464992674,
          280.1142274743546,
          285.36307029878253,
          291.61191312321046,
          297.8607559476384,
          304.1095987720663,
          310.35844159649423,
          316.60728442092216,
          321.8561272453501,
          328.104970069778,
          334.35381289420593,
          340.60265571863386,
          346.8514985430617,
          352.10034136748965,
          358.3491841919176,
          364.5980270163455,
          370.8468698407734,
          377.0957126652013,
          383.3445554896292,
          388.59339831405714,
          394.84224113848506,
          401.091083962913,
          407.3399267873409,
          413.58876961176884,
          419.83761243619676,
          425.0864552606247,
          431.3352980850526,
          437.58414090948054,
          443.83298373390846,
          450.08182655833633,
          456.33066938276426,
          461.5795122071922,
          467.8283550316201,
          474.077197856048,
          480.3260406804759,
          486.5748835049038,
          491.82372632933175,
          498.0725691537597,
          504.3214119781876,
          510.5702548026155,
          516.8190976270434,
          523.0679404514714
         ]
        }
       ],
       "layout": {
        "legend": {
         "title": {
          "text": "Legend"
         }
        },
        "template": {
         "data": {
          "bar": [
           {
            "error_x": {
             "color": "#2a3f5f"
            },
            "error_y": {
             "color": "#2a3f5f"
            },
            "marker": {
             "line": {
              "color": "#E5ECF6",
              "width": 0.5
             },
             "pattern": {
              "fillmode": "overlay",
              "size": 10,
              "solidity": 0.2
             }
            },
            "type": "bar"
           }
          ],
          "barpolar": [
           {
            "marker": {
             "line": {
              "color": "#E5ECF6",
              "width": 0.5
             },
             "pattern": {
              "fillmode": "overlay",
              "size": 10,
              "solidity": 0.2
             }
            },
            "type": "barpolar"
           }
          ],
          "carpet": [
           {
            "aaxis": {
             "endlinecolor": "#2a3f5f",
             "gridcolor": "white",
             "linecolor": "white",
             "minorgridcolor": "white",
             "startlinecolor": "#2a3f5f"
            },
            "baxis": {
             "endlinecolor": "#2a3f5f",
             "gridcolor": "white",
             "linecolor": "white",
             "minorgridcolor": "white",
             "startlinecolor": "#2a3f5f"
            },
            "type": "carpet"
           }
          ],
          "choropleth": [
           {
            "colorbar": {
             "outlinewidth": 0,
             "ticks": ""
            },
            "type": "choropleth"
           }
          ],
          "contour": [
           {
            "colorbar": {
             "outlinewidth": 0,
             "ticks": ""
            },
            "colorscale": [
             [
              0,
              "#0d0887"
             ],
             [
              0.1111111111111111,
              "#46039f"
             ],
             [
              0.2222222222222222,
              "#7201a8"
             ],
             [
              0.3333333333333333,
              "#9c179e"
             ],
             [
              0.4444444444444444,
              "#bd3786"
             ],
             [
              0.5555555555555556,
              "#d8576b"
             ],
             [
              0.6666666666666666,
              "#ed7953"
             ],
             [
              0.7777777777777778,
              "#fb9f3a"
             ],
             [
              0.8888888888888888,
              "#fdca26"
             ],
             [
              1,
              "#f0f921"
             ]
            ],
            "type": "contour"
           }
          ],
          "contourcarpet": [
           {
            "colorbar": {
             "outlinewidth": 0,
             "ticks": ""
            },
            "type": "contourcarpet"
           }
          ],
          "heatmap": [
           {
            "colorbar": {
             "outlinewidth": 0,
             "ticks": ""
            },
            "colorscale": [
             [
              0,
              "#0d0887"
             ],
             [
              0.1111111111111111,
              "#46039f"
             ],
             [
              0.2222222222222222,
              "#7201a8"
             ],
             [
              0.3333333333333333,
              "#9c179e"
             ],
             [
              0.4444444444444444,
              "#bd3786"
             ],
             [
              0.5555555555555556,
              "#d8576b"
             ],
             [
              0.6666666666666666,
              "#ed7953"
             ],
             [
              0.7777777777777778,
              "#fb9f3a"
             ],
             [
              0.8888888888888888,
              "#fdca26"
             ],
             [
              1,
              "#f0f921"
             ]
            ],
            "type": "heatmap"
           }
          ],
          "heatmapgl": [
           {
            "colorbar": {
             "outlinewidth": 0,
             "ticks": ""
            },
            "colorscale": [
             [
              0,
              "#0d0887"
             ],
             [
              0.1111111111111111,
              "#46039f"
             ],
             [
              0.2222222222222222,
              "#7201a8"
             ],
             [
              0.3333333333333333,
              "#9c179e"
             ],
             [
              0.4444444444444444,
              "#bd3786"
             ],
             [
              0.5555555555555556,
              "#d8576b"
             ],
             [
              0.6666666666666666,
              "#ed7953"
             ],
             [
              0.7777777777777778,
              "#fb9f3a"
             ],
             [
              0.8888888888888888,
              "#fdca26"
             ],
             [
              1,
              "#f0f921"
             ]
            ],
            "type": "heatmapgl"
           }
          ],
          "histogram": [
           {
            "marker": {
             "pattern": {
              "fillmode": "overlay",
              "size": 10,
              "solidity": 0.2
             }
            },
            "type": "histogram"
           }
          ],
          "histogram2d": [
           {
            "colorbar": {
             "outlinewidth": 0,
             "ticks": ""
            },
            "colorscale": [
             [
              0,
              "#0d0887"
             ],
             [
              0.1111111111111111,
              "#46039f"
             ],
             [
              0.2222222222222222,
              "#7201a8"
             ],
             [
              0.3333333333333333,
              "#9c179e"
             ],
             [
              0.4444444444444444,
              "#bd3786"
             ],
             [
              0.5555555555555556,
              "#d8576b"
             ],
             [
              0.6666666666666666,
              "#ed7953"
             ],
             [
              0.7777777777777778,
              "#fb9f3a"
             ],
             [
              0.8888888888888888,
              "#fdca26"
             ],
             [
              1,
              "#f0f921"
             ]
            ],
            "type": "histogram2d"
           }
          ],
          "histogram2dcontour": [
           {
            "colorbar": {
             "outlinewidth": 0,
             "ticks": ""
            },
            "colorscale": [
             [
              0,
              "#0d0887"
             ],
             [
              0.1111111111111111,
              "#46039f"
             ],
             [
              0.2222222222222222,
              "#7201a8"
             ],
             [
              0.3333333333333333,
              "#9c179e"
             ],
             [
              0.4444444444444444,
              "#bd3786"
             ],
             [
              0.5555555555555556,
              "#d8576b"
             ],
             [
              0.6666666666666666,
              "#ed7953"
             ],
             [
              0.7777777777777778,
              "#fb9f3a"
             ],
             [
              0.8888888888888888,
              "#fdca26"
             ],
             [
              1,
              "#f0f921"
             ]
            ],
            "type": "histogram2dcontour"
           }
          ],
          "mesh3d": [
           {
            "colorbar": {
             "outlinewidth": 0,
             "ticks": ""
            },
            "type": "mesh3d"
           }
          ],
          "parcoords": [
           {
            "line": {
             "colorbar": {
              "outlinewidth": 0,
              "ticks": ""
             }
            },
            "type": "parcoords"
           }
          ],
          "pie": [
           {
            "automargin": true,
            "type": "pie"
           }
          ],
          "scatter": [
           {
            "fillpattern": {
             "fillmode": "overlay",
             "size": 10,
             "solidity": 0.2
            },
            "type": "scatter"
           }
          ],
          "scatter3d": [
           {
            "line": {
             "colorbar": {
              "outlinewidth": 0,
              "ticks": ""
             }
            },
            "marker": {
             "colorbar": {
              "outlinewidth": 0,
              "ticks": ""
             }
            },
            "type": "scatter3d"
           }
          ],
          "scattercarpet": [
           {
            "marker": {
             "colorbar": {
              "outlinewidth": 0,
              "ticks": ""
             }
            },
            "type": "scattercarpet"
           }
          ],
          "scattergeo": [
           {
            "marker": {
             "colorbar": {
              "outlinewidth": 0,
              "ticks": ""
             }
            },
            "type": "scattergeo"
           }
          ],
          "scattergl": [
           {
            "marker": {
             "colorbar": {
              "outlinewidth": 0,
              "ticks": ""
             }
            },
            "type": "scattergl"
           }
          ],
          "scattermapbox": [
           {
            "marker": {
             "colorbar": {
              "outlinewidth": 0,
              "ticks": ""
             }
            },
            "type": "scattermapbox"
           }
          ],
          "scatterpolar": [
           {
            "marker": {
             "colorbar": {
              "outlinewidth": 0,
              "ticks": ""
             }
            },
            "type": "scatterpolar"
           }
          ],
          "scatterpolargl": [
           {
            "marker": {
             "colorbar": {
              "outlinewidth": 0,
              "ticks": ""
             }
            },
            "type": "scatterpolargl"
           }
          ],
          "scatterternary": [
           {
            "marker": {
             "colorbar": {
              "outlinewidth": 0,
              "ticks": ""
             }
            },
            "type": "scatterternary"
           }
          ],
          "surface": [
           {
            "colorbar": {
             "outlinewidth": 0,
             "ticks": ""
            },
            "colorscale": [
             [
              0,
              "#0d0887"
             ],
             [
              0.1111111111111111,
              "#46039f"
             ],
             [
              0.2222222222222222,
              "#7201a8"
             ],
             [
              0.3333333333333333,
              "#9c179e"
             ],
             [
              0.4444444444444444,
              "#bd3786"
             ],
             [
              0.5555555555555556,
              "#d8576b"
             ],
             [
              0.6666666666666666,
              "#ed7953"
             ],
             [
              0.7777777777777778,
              "#fb9f3a"
             ],
             [
              0.8888888888888888,
              "#fdca26"
             ],
             [
              1,
              "#f0f921"
             ]
            ],
            "type": "surface"
           }
          ],
          "table": [
           {
            "cells": {
             "fill": {
              "color": "#EBF0F8"
             },
             "line": {
              "color": "white"
             }
            },
            "header": {
             "fill": {
              "color": "#C8D4E3"
             },
             "line": {
              "color": "white"
             }
            },
            "type": "table"
           }
          ]
         },
         "layout": {
          "annotationdefaults": {
           "arrowcolor": "#2a3f5f",
           "arrowhead": 0,
           "arrowwidth": 1
          },
          "autotypenumbers": "strict",
          "coloraxis": {
           "colorbar": {
            "outlinewidth": 0,
            "ticks": ""
           }
          },
          "colorscale": {
           "diverging": [
            [
             0,
             "#8e0152"
            ],
            [
             0.1,
             "#c51b7d"
            ],
            [
             0.2,
             "#de77ae"
            ],
            [
             0.3,
             "#f1b6da"
            ],
            [
             0.4,
             "#fde0ef"
            ],
            [
             0.5,
             "#f7f7f7"
            ],
            [
             0.6,
             "#e6f5d0"
            ],
            [
             0.7,
             "#b8e186"
            ],
            [
             0.8,
             "#7fbc41"
            ],
            [
             0.9,
             "#4d9221"
            ],
            [
             1,
             "#276419"
            ]
           ],
           "sequential": [
            [
             0,
             "#0d0887"
            ],
            [
             0.1111111111111111,
             "#46039f"
            ],
            [
             0.2222222222222222,
             "#7201a8"
            ],
            [
             0.3333333333333333,
             "#9c179e"
            ],
            [
             0.4444444444444444,
             "#bd3786"
            ],
            [
             0.5555555555555556,
             "#d8576b"
            ],
            [
             0.6666666666666666,
             "#ed7953"
            ],
            [
             0.7777777777777778,
             "#fb9f3a"
            ],
            [
             0.8888888888888888,
             "#fdca26"
            ],
            [
             1,
             "#f0f921"
            ]
           ],
           "sequentialminus": [
            [
             0,
             "#0d0887"
            ],
            [
             0.1111111111111111,
             "#46039f"
            ],
            [
             0.2222222222222222,
             "#7201a8"
            ],
            [
             0.3333333333333333,
             "#9c179e"
            ],
            [
             0.4444444444444444,
             "#bd3786"
            ],
            [
             0.5555555555555556,
             "#d8576b"
            ],
            [
             0.6666666666666666,
             "#ed7953"
            ],
            [
             0.7777777777777778,
             "#fb9f3a"
            ],
            [
             0.8888888888888888,
             "#fdca26"
            ],
            [
             1,
             "#f0f921"
            ]
           ]
          },
          "colorway": [
           "#636efa",
           "#EF553B",
           "#00cc96",
           "#ab63fa",
           "#FFA15A",
           "#19d3f3",
           "#FF6692",
           "#B6E880",
           "#FF97FF",
           "#FECB52"
          ],
          "font": {
           "color": "#2a3f5f"
          },
          "geo": {
           "bgcolor": "white",
           "lakecolor": "white",
           "landcolor": "#E5ECF6",
           "showlakes": true,
           "showland": true,
           "subunitcolor": "white"
          },
          "hoverlabel": {
           "align": "left"
          },
          "hovermode": "closest",
          "mapbox": {
           "style": "light"
          },
          "paper_bgcolor": "white",
          "plot_bgcolor": "#E5ECF6",
          "polar": {
           "angularaxis": {
            "gridcolor": "white",
            "linecolor": "white",
            "ticks": ""
           },
           "bgcolor": "#E5ECF6",
           "radialaxis": {
            "gridcolor": "white",
            "linecolor": "white",
            "ticks": ""
           }
          },
          "scene": {
           "xaxis": {
            "backgroundcolor": "#E5ECF6",
            "gridcolor": "white",
            "gridwidth": 2,
            "linecolor": "white",
            "showbackground": true,
            "ticks": "",
            "zerolinecolor": "white"
           },
           "yaxis": {
            "backgroundcolor": "#E5ECF6",
            "gridcolor": "white",
            "gridwidth": 2,
            "linecolor": "white",
            "showbackground": true,
            "ticks": "",
            "zerolinecolor": "white"
           },
           "zaxis": {
            "backgroundcolor": "#E5ECF6",
            "gridcolor": "white",
            "gridwidth": 2,
            "linecolor": "white",
            "showbackground": true,
            "ticks": "",
            "zerolinecolor": "white"
           }
          },
          "shapedefaults": {
           "line": {
            "color": "#2a3f5f"
           }
          },
          "ternary": {
           "aaxis": {
            "gridcolor": "white",
            "linecolor": "white",
            "ticks": ""
           },
           "baxis": {
            "gridcolor": "white",
            "linecolor": "white",
            "ticks": ""
           },
           "bgcolor": "#E5ECF6",
           "caxis": {
            "gridcolor": "white",
            "linecolor": "white",
            "ticks": ""
           }
          },
          "title": {
           "x": 0.05
          },
          "xaxis": {
           "automargin": true,
           "gridcolor": "white",
           "linecolor": "white",
           "ticks": "",
           "title": {
            "standoff": 15
           },
           "zerolinecolor": "white",
           "zerolinewidth": 2
          },
          "yaxis": {
           "automargin": true,
           "gridcolor": "white",
           "linecolor": "white",
           "ticks": "",
           "title": {
            "standoff": 15
           },
           "zerolinecolor": "white",
           "zerolinewidth": 2
          }
         }
        },
        "title": {
         "text": "F00-F09 - Transtornos mentais orgânicos, inclusive os sintomáticos"
        },
        "xaxis": {
         "title": {
          "text": "Time"
         }
        },
        "yaxis": {
         "title": {
          "text": "Value"
         }
        }
       }
      }
     },
     "metadata": {},
     "output_type": "display_data"
    },
    {
     "data": {
      "application/vnd.plotly.v1+json": {
       "config": {
        "plotlyServerURL": "https://plot.ly"
       },
       "data": [
        {
         "marker": {
          "color": "black"
         },
         "mode": "markers",
         "name": "Real",
         "type": "scatter",
         "x": [
          "2016-01-01T00:00:00.000000000",
          "2016-02-01T00:00:00.000000000",
          "2016-03-01T00:00:00.000000000",
          "2016-04-01T00:00:00.000000000",
          "2016-05-01T00:00:00.000000000",
          "2016-06-01T00:00:00.000000000",
          "2016-07-01T00:00:00.000000000",
          "2016-08-01T00:00:00.000000000",
          "2016-09-01T00:00:00.000000000",
          "2016-10-01T00:00:00.000000000",
          "2016-11-01T00:00:00.000000000",
          "2016-12-01T00:00:00.000000000",
          "2017-01-01T00:00:00.000000000",
          "2017-02-01T00:00:00.000000000",
          "2017-03-01T00:00:00.000000000",
          "2017-04-01T00:00:00.000000000",
          "2017-05-01T00:00:00.000000000",
          "2017-06-01T00:00:00.000000000",
          "2017-07-01T00:00:00.000000000",
          "2017-08-01T00:00:00.000000000",
          "2017-09-01T00:00:00.000000000",
          "2017-10-01T00:00:00.000000000",
          "2017-11-01T00:00:00.000000000",
          "2017-12-01T00:00:00.000000000",
          "2018-01-01T00:00:00.000000000",
          "2018-02-01T00:00:00.000000000",
          "2018-03-01T00:00:00.000000000",
          "2018-04-01T00:00:00.000000000",
          "2018-05-01T00:00:00.000000000",
          "2018-06-01T00:00:00.000000000",
          "2018-07-01T00:00:00.000000000",
          "2018-08-01T00:00:00.000000000",
          "2018-09-01T00:00:00.000000000",
          "2018-10-01T00:00:00.000000000",
          "2018-11-01T00:00:00.000000000",
          "2018-12-01T00:00:00.000000000",
          "2019-01-01T00:00:00.000000000",
          "2019-02-01T00:00:00.000000000",
          "2019-03-01T00:00:00.000000000",
          "2019-04-01T00:00:00.000000000",
          "2019-05-01T00:00:00.000000000",
          "2019-06-01T00:00:00.000000000",
          "2019-07-01T00:00:00.000000000",
          "2019-08-01T00:00:00.000000000",
          "2019-09-01T00:00:00.000000000",
          "2019-10-01T00:00:00.000000000",
          "2019-11-01T00:00:00.000000000",
          "2019-12-01T00:00:00.000000000",
          "2020-01-01T00:00:00.000000000",
          "2020-02-01T00:00:00.000000000",
          "2020-03-01T00:00:00.000000000",
          "2020-04-01T00:00:00.000000000",
          "2020-05-01T00:00:00.000000000",
          "2020-06-01T00:00:00.000000000",
          "2020-07-01T00:00:00.000000000",
          "2020-08-01T00:00:00.000000000",
          "2020-09-01T00:00:00.000000000",
          "2020-10-01T00:00:00.000000000",
          "2020-11-01T00:00:00.000000000",
          "2020-12-01T00:00:00.000000000",
          "2021-01-01T00:00:00.000000000",
          "2021-02-01T00:00:00.000000000",
          "2021-03-01T00:00:00.000000000",
          "2021-04-01T00:00:00.000000000",
          "2021-05-01T00:00:00.000000000",
          "2021-06-01T00:00:00.000000000",
          "2021-07-01T00:00:00.000000000",
          "2021-08-01T00:00:00.000000000",
          "2021-09-01T00:00:00.000000000",
          "2021-10-01T00:00:00.000000000",
          "2021-11-01T00:00:00.000000000",
          "2021-12-01T00:00:00.000000000",
          "2022-01-01T00:00:00.000000000",
          "2022-02-01T00:00:00.000000000",
          "2022-03-01T00:00:00.000000000",
          "2022-04-01T00:00:00.000000000",
          "2022-05-01T00:00:00.000000000",
          "2022-06-01T00:00:00.000000000",
          "2022-07-01T00:00:00.000000000",
          "2022-08-01T00:00:00.000000000",
          "2022-09-01T00:00:00.000000000",
          "2022-10-01T00:00:00.000000000",
          "2022-11-01T00:00:00.000000000",
          "2022-12-01T00:00:00.000000000",
          "2023-01-01T00:00:00.000000000",
          "2023-02-01T00:00:00.000000000",
          "2023-03-01T00:00:00.000000000",
          "2023-04-01T00:00:00.000000000",
          "2023-05-01T00:00:00.000000000",
          "2023-06-01T00:00:00.000000000",
          "2023-07-01T00:00:00.000000000",
          "2023-08-01T00:00:00.000000000",
          "2023-09-01T00:00:00.000000000",
          "2023-10-01T00:00:00.000000000",
          "2023-11-01T00:00:00.000000000",
          "2023-12-01T00:00:00.000000000",
          "2024-01-01T00:00:00.000000000",
          "2024-02-01T00:00:00.000000000",
          "2024-03-01T00:00:00.000000000",
          "2024-04-01T00:00:00.000000000",
          "2024-05-01T00:00:00.000000000",
          "2024-06-01T00:00:00.000000000",
          "2024-07-01T00:00:00.000000000",
          "2024-08-01T00:00:00.000000000",
          "2024-09-01T00:00:00.000000000",
          "2024-10-01T00:00:00.000000000",
          "2024-11-01T00:00:00.000000000",
          "2024-12-01T00:00:00.000000000"
         ],
         "y": [
          314,
          340,
          430,
          371,
          466,
          626,
          630,
          665,
          648,
          591,
          425,
          446,
          479,
          424,
          558,
          442,
          508,
          495,
          493,
          540,
          439,
          459,
          482,
          392,
          463,
          377,
          506,
          533,
          507,
          458,
          473,
          541,
          478,
          539,
          482,
          427,
          536,
          426,
          422,
          503,
          514,
          445,
          525,
          497,
          399,
          404,
          338,
          344,
          411,
          339,
          306,
          226,
          257,
          258,
          285,
          346,
          364,
          375,
          394,
          352,
          376,
          382,
          355,
          244,
          104,
          435,
          445,
          447,
          441,
          399,
          413,
          441,
          280,
          331,
          490,
          390,
          379,
          458,
          436,
          503,
          572,
          556,
          588,
          577,
          628,
          501,
          744,
          622,
          699,
          624,
          678,
          805,
          710,
          828,
          803,
          813,
          861,
          732,
          850,
          935,
          743,
          803,
          883,
          824,
          813,
          1167,
          925,
          861
         ]
        },
        {
         "line": {
          "color": "black",
          "dash": "dot"
         },
         "mode": "lines",
         "name": "Baseline",
         "type": "scatter",
         "x": [
          "2016-01-01T00:00:00.000000000",
          "2016-02-01T00:00:00.000000000",
          "2016-03-01T00:00:00.000000000",
          "2016-04-01T00:00:00.000000000",
          "2016-05-01T00:00:00.000000000",
          "2016-06-01T00:00:00.000000000",
          "2016-07-01T00:00:00.000000000",
          "2016-08-01T00:00:00.000000000",
          "2016-09-01T00:00:00.000000000",
          "2016-10-01T00:00:00.000000000",
          "2016-11-01T00:00:00.000000000",
          "2016-12-01T00:00:00.000000000",
          "2017-01-01T00:00:00.000000000",
          "2017-02-01T00:00:00.000000000",
          "2017-03-01T00:00:00.000000000",
          "2017-04-01T00:00:00.000000000",
          "2017-05-01T00:00:00.000000000",
          "2017-06-01T00:00:00.000000000",
          "2017-07-01T00:00:00.000000000",
          "2017-08-01T00:00:00.000000000",
          "2017-09-01T00:00:00.000000000",
          "2017-10-01T00:00:00.000000000",
          "2017-11-01T00:00:00.000000000",
          "2017-12-01T00:00:00.000000000",
          "2018-01-01T00:00:00.000000000",
          "2018-02-01T00:00:00.000000000",
          "2018-03-01T00:00:00.000000000",
          "2018-04-01T00:00:00.000000000",
          "2018-05-01T00:00:00.000000000",
          "2018-06-01T00:00:00.000000000",
          "2018-07-01T00:00:00.000000000",
          "2018-08-01T00:00:00.000000000",
          "2018-09-01T00:00:00.000000000",
          "2018-10-01T00:00:00.000000000",
          "2018-11-01T00:00:00.000000000",
          "2018-12-01T00:00:00.000000000",
          "2019-01-01T00:00:00.000000000",
          "2019-02-01T00:00:00.000000000",
          "2019-03-01T00:00:00.000000000",
          "2019-04-01T00:00:00.000000000",
          "2019-05-01T00:00:00.000000000",
          "2019-06-01T00:00:00.000000000",
          "2019-07-01T00:00:00.000000000",
          "2019-08-01T00:00:00.000000000",
          "2019-09-01T00:00:00.000000000",
          "2019-10-01T00:00:00.000000000",
          "2019-11-01T00:00:00.000000000",
          "2019-12-01T00:00:00.000000000",
          "2020-01-01T00:00:00.000000000",
          "2020-02-01T00:00:00.000000000",
          "2020-03-01T00:00:00.000000000",
          "2020-04-01T00:00:00.000000000",
          "2020-05-01T00:00:00.000000000",
          "2020-06-01T00:00:00.000000000",
          "2020-07-01T00:00:00.000000000",
          "2020-08-01T00:00:00.000000000",
          "2020-09-01T00:00:00.000000000",
          "2020-10-01T00:00:00.000000000",
          "2020-11-01T00:00:00.000000000",
          "2020-12-01T00:00:00.000000000",
          "2021-01-01T00:00:00.000000000",
          "2021-02-01T00:00:00.000000000",
          "2021-03-01T00:00:00.000000000",
          "2021-04-01T00:00:00.000000000",
          "2021-05-01T00:00:00.000000000",
          "2021-06-01T00:00:00.000000000",
          "2021-07-01T00:00:00.000000000",
          "2021-08-01T00:00:00.000000000",
          "2021-09-01T00:00:00.000000000",
          "2021-10-01T00:00:00.000000000",
          "2021-11-01T00:00:00.000000000",
          "2021-12-01T00:00:00.000000000",
          "2022-01-01T00:00:00.000000000",
          "2022-02-01T00:00:00.000000000",
          "2022-03-01T00:00:00.000000000",
          "2022-04-01T00:00:00.000000000",
          "2022-05-01T00:00:00.000000000",
          "2022-06-01T00:00:00.000000000",
          "2022-07-01T00:00:00.000000000",
          "2022-08-01T00:00:00.000000000",
          "2022-09-01T00:00:00.000000000",
          "2022-10-01T00:00:00.000000000",
          "2022-11-01T00:00:00.000000000",
          "2022-12-01T00:00:00.000000000",
          "2023-01-01T00:00:00.000000000",
          "2023-02-01T00:00:00.000000000",
          "2023-03-01T00:00:00.000000000",
          "2023-04-01T00:00:00.000000000",
          "2023-05-01T00:00:00.000000000",
          "2023-06-01T00:00:00.000000000",
          "2023-07-01T00:00:00.000000000",
          "2023-08-01T00:00:00.000000000",
          "2023-09-01T00:00:00.000000000",
          "2023-10-01T00:00:00.000000000",
          "2023-11-01T00:00:00.000000000",
          "2023-12-01T00:00:00.000000000",
          "2024-01-01T00:00:00.000000000",
          "2024-02-01T00:00:00.000000000",
          "2024-03-01T00:00:00.000000000",
          "2024-04-01T00:00:00.000000000",
          "2024-05-01T00:00:00.000000000",
          "2024-06-01T00:00:00.000000000",
          "2024-07-01T00:00:00.000000000",
          "2024-08-01T00:00:00.000000000",
          "2024-09-01T00:00:00.000000000",
          "2024-10-01T00:00:00.000000000",
          "2024-11-01T00:00:00.000000000",
          "2024-12-01T00:00:00.000000000"
         ],
         "y": [
          485.7775954542655,
          484.3095682807845,
          482.84154110730344,
          481.37351393382244,
          479.9054867603414,
          478.4374595868603,
          476.9694324133793,
          475.50140523989825,
          474.0333780664172,
          472.5653508929362,
          471.0973237194551,
          469.6292965459741,
          468.16126937249305,
          466.69324219901205,
          465.225215025531,
          463.7571878520499,
          462.2891606785689,
          460.82113350508786,
          459.3531063316068,
          457.8850791581258,
          456.41705198464473,
          454.9490248111637,
          453.48099763768266,
          452.0129704642016,
          450.5449432907206,
          449.07691611723953,
          447.60888894375853,
          446.14086177027747,
          444.6728345967964,
          443.2048074233154,
          441.73678024983434,
          440.2687530763533,
          438.8007259028723,
          437.3326987293912,
          435.8646715559102,
          434.39664438242914,
          432.92861720894814,
          431.4605900354671,
          429.992562861986,
          428.524535688505,
          427.05650851502395,
          425.5884813415429,
          424.1204541680619,
          422.6524269945808,
          421.18439982109976,
          419.71637264761875,
          418.2483454741377,
          416.7803183006567,
          415.3122911271756,
          413.8442639536946,
          412.37623678021356,
          410.9082096067325,
          409.4401824332515,
          407.97215525977043,
          406.50412808628937,
          405.03610091280837,
          403.5680737393273,
          402.1000465658463,
          400.63201939236524,
          399.16399221888423,
          397.69596504540317,
          396.2279378719221,
          394.7599106984411,
          393.29188352496004,
          391.823856351479,
          390.355829177998,
          388.8878020045169,
          387.41977483103585,
          385.95174765755485,
          384.4837204840738,
          383.0156933105928,
          381.5476661371117,
          380.0796389636307,
          378.61161179014965,
          377.1435846166686,
          375.6755574431876,
          374.2075302697065,
          372.73950309622546,
          371.27147592274446,
          369.8034487492634,
          368.3354215757824,
          366.86739440230133,
          365.3993672288203,
          363.93134005533926,
          362.4633128818582,
          360.9952857083772,
          359.52725853489613,
          358.0592313614151,
          356.59120418793407,
          355.123177014453,
          353.65514984097194,
          352.18712266749094,
          350.71909549400993,
          349.2510683205288,
          347.7830411470478,
          346.3150139735668,
          344.84698680008574,
          343.3789596266047,
          341.9109324531237,
          340.4429052796426,
          338.97487810616155,
          337.50685093268055,
          336.0388237591995,
          334.5707965857184,
          333.1027694122374,
          331.6347422387564,
          330.16671506527535,
          328.6986878917943
         ]
        },
        {
         "line": {
          "color": "purple"
         },
         "mode": "lines",
         "name": "Full model",
         "type": "scatter",
         "x": [
          "2016-01-01T00:00:00.000000000",
          "2016-02-01T00:00:00.000000000",
          "2016-03-01T00:00:00.000000000",
          "2016-04-01T00:00:00.000000000",
          "2016-05-01T00:00:00.000000000",
          "2016-06-01T00:00:00.000000000",
          "2016-07-01T00:00:00.000000000",
          "2016-08-01T00:00:00.000000000",
          "2016-09-01T00:00:00.000000000",
          "2016-10-01T00:00:00.000000000",
          "2016-11-01T00:00:00.000000000",
          "2016-12-01T00:00:00.000000000",
          "2017-01-01T00:00:00.000000000",
          "2017-02-01T00:00:00.000000000",
          "2017-03-01T00:00:00.000000000",
          "2017-04-01T00:00:00.000000000",
          "2017-05-01T00:00:00.000000000",
          "2017-06-01T00:00:00.000000000",
          "2017-07-01T00:00:00.000000000",
          "2017-08-01T00:00:00.000000000",
          "2017-09-01T00:00:00.000000000",
          "2017-10-01T00:00:00.000000000",
          "2017-11-01T00:00:00.000000000",
          "2017-12-01T00:00:00.000000000",
          "2018-01-01T00:00:00.000000000",
          "2018-02-01T00:00:00.000000000",
          "2018-03-01T00:00:00.000000000",
          "2018-04-01T00:00:00.000000000",
          "2018-05-01T00:00:00.000000000",
          "2018-06-01T00:00:00.000000000",
          "2018-07-01T00:00:00.000000000",
          "2018-08-01T00:00:00.000000000",
          "2018-09-01T00:00:00.000000000",
          "2018-10-01T00:00:00.000000000",
          "2018-11-01T00:00:00.000000000",
          "2018-12-01T00:00:00.000000000",
          "2019-01-01T00:00:00.000000000",
          "2019-02-01T00:00:00.000000000",
          "2019-03-01T00:00:00.000000000",
          "2019-04-01T00:00:00.000000000",
          "2019-05-01T00:00:00.000000000",
          "2019-06-01T00:00:00.000000000",
          "2019-07-01T00:00:00.000000000",
          "2019-08-01T00:00:00.000000000",
          "2019-09-01T00:00:00.000000000",
          "2019-10-01T00:00:00.000000000",
          "2019-11-01T00:00:00.000000000",
          "2019-12-01T00:00:00.000000000",
          "2020-01-01T00:00:00.000000000",
          "2020-02-01T00:00:00.000000000",
          "2020-03-01T00:00:00.000000000",
          "2020-04-01T00:00:00.000000000",
          "2020-05-01T00:00:00.000000000",
          "2020-06-01T00:00:00.000000000",
          "2020-07-01T00:00:00.000000000",
          "2020-08-01T00:00:00.000000000",
          "2020-09-01T00:00:00.000000000",
          "2020-10-01T00:00:00.000000000",
          "2020-11-01T00:00:00.000000000",
          "2020-12-01T00:00:00.000000000",
          "2021-01-01T00:00:00.000000000",
          "2021-02-01T00:00:00.000000000",
          "2021-03-01T00:00:00.000000000",
          "2021-04-01T00:00:00.000000000",
          "2021-05-01T00:00:00.000000000",
          "2021-06-01T00:00:00.000000000",
          "2021-07-01T00:00:00.000000000",
          "2021-08-01T00:00:00.000000000",
          "2021-09-01T00:00:00.000000000",
          "2021-10-01T00:00:00.000000000",
          "2021-11-01T00:00:00.000000000",
          "2021-12-01T00:00:00.000000000",
          "2022-01-01T00:00:00.000000000",
          "2022-02-01T00:00:00.000000000",
          "2022-03-01T00:00:00.000000000",
          "2022-04-01T00:00:00.000000000",
          "2022-05-01T00:00:00.000000000",
          "2022-06-01T00:00:00.000000000",
          "2022-07-01T00:00:00.000000000",
          "2022-08-01T00:00:00.000000000",
          "2022-09-01T00:00:00.000000000",
          "2022-10-01T00:00:00.000000000",
          "2022-11-01T00:00:00.000000000",
          "2022-12-01T00:00:00.000000000",
          "2023-01-01T00:00:00.000000000",
          "2023-02-01T00:00:00.000000000",
          "2023-03-01T00:00:00.000000000",
          "2023-04-01T00:00:00.000000000",
          "2023-05-01T00:00:00.000000000",
          "2023-06-01T00:00:00.000000000",
          "2023-07-01T00:00:00.000000000",
          "2023-08-01T00:00:00.000000000",
          "2023-09-01T00:00:00.000000000",
          "2023-10-01T00:00:00.000000000",
          "2023-11-01T00:00:00.000000000",
          "2023-12-01T00:00:00.000000000",
          "2024-01-01T00:00:00.000000000",
          "2024-02-01T00:00:00.000000000",
          "2024-03-01T00:00:00.000000000",
          "2024-04-01T00:00:00.000000000",
          "2024-05-01T00:00:00.000000000",
          "2024-06-01T00:00:00.000000000",
          "2024-07-01T00:00:00.000000000",
          "2024-08-01T00:00:00.000000000",
          "2024-09-01T00:00:00.000000000",
          "2024-10-01T00:00:00.000000000",
          "2024-11-01T00:00:00.000000000",
          "2024-12-01T00:00:00.000000000"
         ],
         "y": [
          485.7775954542655,
          484.3095682807845,
          482.84154110730344,
          481.37351393382244,
          479.9054867603414,
          478.4374595868603,
          476.9694324133793,
          475.50140523989825,
          474.0333780664172,
          472.5653508929362,
          471.0973237194551,
          469.6292965459741,
          468.16126937249305,
          466.69324219901205,
          465.225215025531,
          463.7571878520499,
          462.2891606785689,
          460.82113350508786,
          459.3531063316068,
          457.8850791581258,
          456.41705198464473,
          454.9490248111637,
          453.48099763768266,
          452.0129704642016,
          450.5449432907206,
          449.07691611723953,
          447.60888894375853,
          446.14086177027747,
          444.6728345967964,
          443.2048074233154,
          441.73678024983434,
          440.2687530763533,
          438.8007259028723,
          437.3326987293912,
          435.8646715559102,
          434.39664438242914,
          432.92861720894814,
          431.4605900354671,
          429.992562861986,
          428.524535688505,
          427.05650851502395,
          425.5884813415429,
          424.1204541680619,
          422.6524269945808,
          421.18439982109976,
          419.71637264761875,
          418.2483454741377,
          416.7803183006567,
          268.3122911271756,
          266.8442639536946,
          265.37623678021356,
          263.9082096067325,
          262.4401824332515,
          260.97215525977043,
          259.50412808628937,
          237.03610091280837,
          249.56807373932725,
          262.10004656584624,
          274.63201939236524,
          287.16399221888423,
          299.6959650454032,
          312.2279378719221,
          324.7599106984411,
          175.29188352496004,
          173.82385635147898,
          362.355829177998,
          374.88780200451697,
          387.41977483103585,
          399.95174765755485,
          412.48372048407373,
          425.0156933105927,
          437.5476661371117,
          450.0796389636307,
          462.6116117901497,
          475.1435846166686,
          487.6755574431876,
          500.20753026970647,
          512.7395030962255,
          525.2714759227445,
          537.8034487492635,
          550.3354215757824,
          562.8673944023013,
          575.3993672288203,
          587.9313400553392,
          600.4633128818582,
          612.9952857083772,
          625.5272585348962,
          638.0592313614151,
          650.5912041879341,
          663.123177014453,
          675.655149840972,
          688.1871226674909,
          700.7190954940099,
          713.2510683205288,
          725.7830411470478,
          738.3150139735668,
          750.8469868000857,
          763.3789596266047,
          775.9109324531237,
          788.4429052796427,
          800.9748781061616,
          813.5068509326805,
          826.0388237591994,
          838.5707965857184,
          851.1027694122374,
          863.6347422387564,
          876.1667150652754,
          888.6986878917943
         ]
        }
       ],
       "layout": {
        "legend": {
         "title": {
          "text": "Legend"
         }
        },
        "template": {
         "data": {
          "bar": [
           {
            "error_x": {
             "color": "#2a3f5f"
            },
            "error_y": {
             "color": "#2a3f5f"
            },
            "marker": {
             "line": {
              "color": "#E5ECF6",
              "width": 0.5
             },
             "pattern": {
              "fillmode": "overlay",
              "size": 10,
              "solidity": 0.2
             }
            },
            "type": "bar"
           }
          ],
          "barpolar": [
           {
            "marker": {
             "line": {
              "color": "#E5ECF6",
              "width": 0.5
             },
             "pattern": {
              "fillmode": "overlay",
              "size": 10,
              "solidity": 0.2
             }
            },
            "type": "barpolar"
           }
          ],
          "carpet": [
           {
            "aaxis": {
             "endlinecolor": "#2a3f5f",
             "gridcolor": "white",
             "linecolor": "white",
             "minorgridcolor": "white",
             "startlinecolor": "#2a3f5f"
            },
            "baxis": {
             "endlinecolor": "#2a3f5f",
             "gridcolor": "white",
             "linecolor": "white",
             "minorgridcolor": "white",
             "startlinecolor": "#2a3f5f"
            },
            "type": "carpet"
           }
          ],
          "choropleth": [
           {
            "colorbar": {
             "outlinewidth": 0,
             "ticks": ""
            },
            "type": "choropleth"
           }
          ],
          "contour": [
           {
            "colorbar": {
             "outlinewidth": 0,
             "ticks": ""
            },
            "colorscale": [
             [
              0,
              "#0d0887"
             ],
             [
              0.1111111111111111,
              "#46039f"
             ],
             [
              0.2222222222222222,
              "#7201a8"
             ],
             [
              0.3333333333333333,
              "#9c179e"
             ],
             [
              0.4444444444444444,
              "#bd3786"
             ],
             [
              0.5555555555555556,
              "#d8576b"
             ],
             [
              0.6666666666666666,
              "#ed7953"
             ],
             [
              0.7777777777777778,
              "#fb9f3a"
             ],
             [
              0.8888888888888888,
              "#fdca26"
             ],
             [
              1,
              "#f0f921"
             ]
            ],
            "type": "contour"
           }
          ],
          "contourcarpet": [
           {
            "colorbar": {
             "outlinewidth": 0,
             "ticks": ""
            },
            "type": "contourcarpet"
           }
          ],
          "heatmap": [
           {
            "colorbar": {
             "outlinewidth": 0,
             "ticks": ""
            },
            "colorscale": [
             [
              0,
              "#0d0887"
             ],
             [
              0.1111111111111111,
              "#46039f"
             ],
             [
              0.2222222222222222,
              "#7201a8"
             ],
             [
              0.3333333333333333,
              "#9c179e"
             ],
             [
              0.4444444444444444,
              "#bd3786"
             ],
             [
              0.5555555555555556,
              "#d8576b"
             ],
             [
              0.6666666666666666,
              "#ed7953"
             ],
             [
              0.7777777777777778,
              "#fb9f3a"
             ],
             [
              0.8888888888888888,
              "#fdca26"
             ],
             [
              1,
              "#f0f921"
             ]
            ],
            "type": "heatmap"
           }
          ],
          "heatmapgl": [
           {
            "colorbar": {
             "outlinewidth": 0,
             "ticks": ""
            },
            "colorscale": [
             [
              0,
              "#0d0887"
             ],
             [
              0.1111111111111111,
              "#46039f"
             ],
             [
              0.2222222222222222,
              "#7201a8"
             ],
             [
              0.3333333333333333,
              "#9c179e"
             ],
             [
              0.4444444444444444,
              "#bd3786"
             ],
             [
              0.5555555555555556,
              "#d8576b"
             ],
             [
              0.6666666666666666,
              "#ed7953"
             ],
             [
              0.7777777777777778,
              "#fb9f3a"
             ],
             [
              0.8888888888888888,
              "#fdca26"
             ],
             [
              1,
              "#f0f921"
             ]
            ],
            "type": "heatmapgl"
           }
          ],
          "histogram": [
           {
            "marker": {
             "pattern": {
              "fillmode": "overlay",
              "size": 10,
              "solidity": 0.2
             }
            },
            "type": "histogram"
           }
          ],
          "histogram2d": [
           {
            "colorbar": {
             "outlinewidth": 0,
             "ticks": ""
            },
            "colorscale": [
             [
              0,
              "#0d0887"
             ],
             [
              0.1111111111111111,
              "#46039f"
             ],
             [
              0.2222222222222222,
              "#7201a8"
             ],
             [
              0.3333333333333333,
              "#9c179e"
             ],
             [
              0.4444444444444444,
              "#bd3786"
             ],
             [
              0.5555555555555556,
              "#d8576b"
             ],
             [
              0.6666666666666666,
              "#ed7953"
             ],
             [
              0.7777777777777778,
              "#fb9f3a"
             ],
             [
              0.8888888888888888,
              "#fdca26"
             ],
             [
              1,
              "#f0f921"
             ]
            ],
            "type": "histogram2d"
           }
          ],
          "histogram2dcontour": [
           {
            "colorbar": {
             "outlinewidth": 0,
             "ticks": ""
            },
            "colorscale": [
             [
              0,
              "#0d0887"
             ],
             [
              0.1111111111111111,
              "#46039f"
             ],
             [
              0.2222222222222222,
              "#7201a8"
             ],
             [
              0.3333333333333333,
              "#9c179e"
             ],
             [
              0.4444444444444444,
              "#bd3786"
             ],
             [
              0.5555555555555556,
              "#d8576b"
             ],
             [
              0.6666666666666666,
              "#ed7953"
             ],
             [
              0.7777777777777778,
              "#fb9f3a"
             ],
             [
              0.8888888888888888,
              "#fdca26"
             ],
             [
              1,
              "#f0f921"
             ]
            ],
            "type": "histogram2dcontour"
           }
          ],
          "mesh3d": [
           {
            "colorbar": {
             "outlinewidth": 0,
             "ticks": ""
            },
            "type": "mesh3d"
           }
          ],
          "parcoords": [
           {
            "line": {
             "colorbar": {
              "outlinewidth": 0,
              "ticks": ""
             }
            },
            "type": "parcoords"
           }
          ],
          "pie": [
           {
            "automargin": true,
            "type": "pie"
           }
          ],
          "scatter": [
           {
            "fillpattern": {
             "fillmode": "overlay",
             "size": 10,
             "solidity": 0.2
            },
            "type": "scatter"
           }
          ],
          "scatter3d": [
           {
            "line": {
             "colorbar": {
              "outlinewidth": 0,
              "ticks": ""
             }
            },
            "marker": {
             "colorbar": {
              "outlinewidth": 0,
              "ticks": ""
             }
            },
            "type": "scatter3d"
           }
          ],
          "scattercarpet": [
           {
            "marker": {
             "colorbar": {
              "outlinewidth": 0,
              "ticks": ""
             }
            },
            "type": "scattercarpet"
           }
          ],
          "scattergeo": [
           {
            "marker": {
             "colorbar": {
              "outlinewidth": 0,
              "ticks": ""
             }
            },
            "type": "scattergeo"
           }
          ],
          "scattergl": [
           {
            "marker": {
             "colorbar": {
              "outlinewidth": 0,
              "ticks": ""
             }
            },
            "type": "scattergl"
           }
          ],
          "scattermapbox": [
           {
            "marker": {
             "colorbar": {
              "outlinewidth": 0,
              "ticks": ""
             }
            },
            "type": "scattermapbox"
           }
          ],
          "scatterpolar": [
           {
            "marker": {
             "colorbar": {
              "outlinewidth": 0,
              "ticks": ""
             }
            },
            "type": "scatterpolar"
           }
          ],
          "scatterpolargl": [
           {
            "marker": {
             "colorbar": {
              "outlinewidth": 0,
              "ticks": ""
             }
            },
            "type": "scatterpolargl"
           }
          ],
          "scatterternary": [
           {
            "marker": {
             "colorbar": {
              "outlinewidth": 0,
              "ticks": ""
             }
            },
            "type": "scatterternary"
           }
          ],
          "surface": [
           {
            "colorbar": {
             "outlinewidth": 0,
             "ticks": ""
            },
            "colorscale": [
             [
              0,
              "#0d0887"
             ],
             [
              0.1111111111111111,
              "#46039f"
             ],
             [
              0.2222222222222222,
              "#7201a8"
             ],
             [
              0.3333333333333333,
              "#9c179e"
             ],
             [
              0.4444444444444444,
              "#bd3786"
             ],
             [
              0.5555555555555556,
              "#d8576b"
             ],
             [
              0.6666666666666666,
              "#ed7953"
             ],
             [
              0.7777777777777778,
              "#fb9f3a"
             ],
             [
              0.8888888888888888,
              "#fdca26"
             ],
             [
              1,
              "#f0f921"
             ]
            ],
            "type": "surface"
           }
          ],
          "table": [
           {
            "cells": {
             "fill": {
              "color": "#EBF0F8"
             },
             "line": {
              "color": "white"
             }
            },
            "header": {
             "fill": {
              "color": "#C8D4E3"
             },
             "line": {
              "color": "white"
             }
            },
            "type": "table"
           }
          ]
         },
         "layout": {
          "annotationdefaults": {
           "arrowcolor": "#2a3f5f",
           "arrowhead": 0,
           "arrowwidth": 1
          },
          "autotypenumbers": "strict",
          "coloraxis": {
           "colorbar": {
            "outlinewidth": 0,
            "ticks": ""
           }
          },
          "colorscale": {
           "diverging": [
            [
             0,
             "#8e0152"
            ],
            [
             0.1,
             "#c51b7d"
            ],
            [
             0.2,
             "#de77ae"
            ],
            [
             0.3,
             "#f1b6da"
            ],
            [
             0.4,
             "#fde0ef"
            ],
            [
             0.5,
             "#f7f7f7"
            ],
            [
             0.6,
             "#e6f5d0"
            ],
            [
             0.7,
             "#b8e186"
            ],
            [
             0.8,
             "#7fbc41"
            ],
            [
             0.9,
             "#4d9221"
            ],
            [
             1,
             "#276419"
            ]
           ],
           "sequential": [
            [
             0,
             "#0d0887"
            ],
            [
             0.1111111111111111,
             "#46039f"
            ],
            [
             0.2222222222222222,
             "#7201a8"
            ],
            [
             0.3333333333333333,
             "#9c179e"
            ],
            [
             0.4444444444444444,
             "#bd3786"
            ],
            [
             0.5555555555555556,
             "#d8576b"
            ],
            [
             0.6666666666666666,
             "#ed7953"
            ],
            [
             0.7777777777777778,
             "#fb9f3a"
            ],
            [
             0.8888888888888888,
             "#fdca26"
            ],
            [
             1,
             "#f0f921"
            ]
           ],
           "sequentialminus": [
            [
             0,
             "#0d0887"
            ],
            [
             0.1111111111111111,
             "#46039f"
            ],
            [
             0.2222222222222222,
             "#7201a8"
            ],
            [
             0.3333333333333333,
             "#9c179e"
            ],
            [
             0.4444444444444444,
             "#bd3786"
            ],
            [
             0.5555555555555556,
             "#d8576b"
            ],
            [
             0.6666666666666666,
             "#ed7953"
            ],
            [
             0.7777777777777778,
             "#fb9f3a"
            ],
            [
             0.8888888888888888,
             "#fdca26"
            ],
            [
             1,
             "#f0f921"
            ]
           ]
          },
          "colorway": [
           "#636efa",
           "#EF553B",
           "#00cc96",
           "#ab63fa",
           "#FFA15A",
           "#19d3f3",
           "#FF6692",
           "#B6E880",
           "#FF97FF",
           "#FECB52"
          ],
          "font": {
           "color": "#2a3f5f"
          },
          "geo": {
           "bgcolor": "white",
           "lakecolor": "white",
           "landcolor": "#E5ECF6",
           "showlakes": true,
           "showland": true,
           "subunitcolor": "white"
          },
          "hoverlabel": {
           "align": "left"
          },
          "hovermode": "closest",
          "mapbox": {
           "style": "light"
          },
          "paper_bgcolor": "white",
          "plot_bgcolor": "#E5ECF6",
          "polar": {
           "angularaxis": {
            "gridcolor": "white",
            "linecolor": "white",
            "ticks": ""
           },
           "bgcolor": "#E5ECF6",
           "radialaxis": {
            "gridcolor": "white",
            "linecolor": "white",
            "ticks": ""
           }
          },
          "scene": {
           "xaxis": {
            "backgroundcolor": "#E5ECF6",
            "gridcolor": "white",
            "gridwidth": 2,
            "linecolor": "white",
            "showbackground": true,
            "ticks": "",
            "zerolinecolor": "white"
           },
           "yaxis": {
            "backgroundcolor": "#E5ECF6",
            "gridcolor": "white",
            "gridwidth": 2,
            "linecolor": "white",
            "showbackground": true,
            "ticks": "",
            "zerolinecolor": "white"
           },
           "zaxis": {
            "backgroundcolor": "#E5ECF6",
            "gridcolor": "white",
            "gridwidth": 2,
            "linecolor": "white",
            "showbackground": true,
            "ticks": "",
            "zerolinecolor": "white"
           }
          },
          "shapedefaults": {
           "line": {
            "color": "#2a3f5f"
           }
          },
          "ternary": {
           "aaxis": {
            "gridcolor": "white",
            "linecolor": "white",
            "ticks": ""
           },
           "baxis": {
            "gridcolor": "white",
            "linecolor": "white",
            "ticks": ""
           },
           "bgcolor": "#E5ECF6",
           "caxis": {
            "gridcolor": "white",
            "linecolor": "white",
            "ticks": ""
           }
          },
          "title": {
           "x": 0.05
          },
          "xaxis": {
           "automargin": true,
           "gridcolor": "white",
           "linecolor": "white",
           "ticks": "",
           "title": {
            "standoff": 15
           },
           "zerolinecolor": "white",
           "zerolinewidth": 2
          },
          "yaxis": {
           "automargin": true,
           "gridcolor": "white",
           "linecolor": "white",
           "ticks": "",
           "title": {
            "standoff": 15
           },
           "zerolinecolor": "white",
           "zerolinewidth": 2
          }
         }
        },
        "title": {
         "text": "F20-F29 - Esquizofrenia, transtornos esquizotípicos e transtornos delirantes"
        },
        "xaxis": {
         "title": {
          "text": "Time"
         }
        },
        "yaxis": {
         "title": {
          "text": "Value"
         }
        }
       }
      }
     },
     "metadata": {},
     "output_type": "display_data"
    },
    {
     "data": {
      "application/vnd.plotly.v1+json": {
       "config": {
        "plotlyServerURL": "https://plot.ly"
       },
       "data": [
        {
         "marker": {
          "color": "black"
         },
         "mode": "markers",
         "name": "Real",
         "type": "scatter",
         "x": [
          "2016-01-01T00:00:00.000000000",
          "2016-02-01T00:00:00.000000000",
          "2016-03-01T00:00:00.000000000",
          "2016-04-01T00:00:00.000000000",
          "2016-05-01T00:00:00.000000000",
          "2016-06-01T00:00:00.000000000",
          "2016-07-01T00:00:00.000000000",
          "2016-08-01T00:00:00.000000000",
          "2016-09-01T00:00:00.000000000",
          "2016-10-01T00:00:00.000000000",
          "2016-11-01T00:00:00.000000000",
          "2016-12-01T00:00:00.000000000",
          "2017-01-01T00:00:00.000000000",
          "2017-02-01T00:00:00.000000000",
          "2017-03-01T00:00:00.000000000",
          "2017-04-01T00:00:00.000000000",
          "2017-05-01T00:00:00.000000000",
          "2017-06-01T00:00:00.000000000",
          "2017-07-01T00:00:00.000000000",
          "2017-08-01T00:00:00.000000000",
          "2017-09-01T00:00:00.000000000",
          "2017-10-01T00:00:00.000000000",
          "2017-11-01T00:00:00.000000000",
          "2017-12-01T00:00:00.000000000",
          "2018-01-01T00:00:00.000000000",
          "2018-02-01T00:00:00.000000000",
          "2018-03-01T00:00:00.000000000",
          "2018-04-01T00:00:00.000000000",
          "2018-05-01T00:00:00.000000000",
          "2018-06-01T00:00:00.000000000",
          "2018-07-01T00:00:00.000000000",
          "2018-08-01T00:00:00.000000000",
          "2018-09-01T00:00:00.000000000",
          "2018-10-01T00:00:00.000000000",
          "2018-11-01T00:00:00.000000000",
          "2018-12-01T00:00:00.000000000",
          "2019-01-01T00:00:00.000000000",
          "2019-02-01T00:00:00.000000000",
          "2019-03-01T00:00:00.000000000",
          "2019-04-01T00:00:00.000000000",
          "2019-05-01T00:00:00.000000000",
          "2019-06-01T00:00:00.000000000",
          "2019-07-01T00:00:00.000000000",
          "2019-08-01T00:00:00.000000000",
          "2019-09-01T00:00:00.000000000",
          "2019-10-01T00:00:00.000000000",
          "2019-11-01T00:00:00.000000000",
          "2019-12-01T00:00:00.000000000",
          "2020-01-01T00:00:00.000000000",
          "2020-02-01T00:00:00.000000000",
          "2020-03-01T00:00:00.000000000",
          "2020-04-01T00:00:00.000000000",
          "2020-05-01T00:00:00.000000000",
          "2020-06-01T00:00:00.000000000",
          "2020-07-01T00:00:00.000000000",
          "2020-08-01T00:00:00.000000000",
          "2020-09-01T00:00:00.000000000",
          "2020-10-01T00:00:00.000000000",
          "2020-11-01T00:00:00.000000000",
          "2020-12-01T00:00:00.000000000",
          "2021-01-01T00:00:00.000000000",
          "2021-02-01T00:00:00.000000000",
          "2021-03-01T00:00:00.000000000",
          "2021-04-01T00:00:00.000000000",
          "2021-05-01T00:00:00.000000000",
          "2021-06-01T00:00:00.000000000",
          "2021-07-01T00:00:00.000000000",
          "2021-08-01T00:00:00.000000000",
          "2021-09-01T00:00:00.000000000",
          "2021-10-01T00:00:00.000000000",
          "2021-11-01T00:00:00.000000000",
          "2021-12-01T00:00:00.000000000",
          "2022-01-01T00:00:00.000000000",
          "2022-02-01T00:00:00.000000000",
          "2022-03-01T00:00:00.000000000",
          "2022-04-01T00:00:00.000000000",
          "2022-05-01T00:00:00.000000000",
          "2022-06-01T00:00:00.000000000",
          "2022-07-01T00:00:00.000000000",
          "2022-08-01T00:00:00.000000000",
          "2022-09-01T00:00:00.000000000",
          "2022-10-01T00:00:00.000000000",
          "2022-11-01T00:00:00.000000000",
          "2022-12-01T00:00:00.000000000",
          "2023-01-01T00:00:00.000000000",
          "2023-02-01T00:00:00.000000000",
          "2023-03-01T00:00:00.000000000",
          "2023-04-01T00:00:00.000000000",
          "2023-05-01T00:00:00.000000000",
          "2023-06-01T00:00:00.000000000",
          "2023-07-01T00:00:00.000000000",
          "2023-08-01T00:00:00.000000000",
          "2023-09-01T00:00:00.000000000",
          "2023-10-01T00:00:00.000000000",
          "2023-11-01T00:00:00.000000000",
          "2023-12-01T00:00:00.000000000",
          "2024-01-01T00:00:00.000000000",
          "2024-02-01T00:00:00.000000000",
          "2024-03-01T00:00:00.000000000",
          "2024-04-01T00:00:00.000000000",
          "2024-05-01T00:00:00.000000000",
          "2024-06-01T00:00:00.000000000",
          "2024-07-01T00:00:00.000000000",
          "2024-08-01T00:00:00.000000000",
          "2024-09-01T00:00:00.000000000",
          "2024-10-01T00:00:00.000000000",
          "2024-11-01T00:00:00.000000000",
          "2024-12-01T00:00:00.000000000"
         ],
         "y": [
          2173,
          2389,
          3179,
          2984,
          3775,
          4536,
          4401,
          5355,
          4392,
          4147,
          3277,
          3058,
          2925,
          2733,
          3979,
          3092,
          3585,
          3274,
          3176,
          3445,
          3206,
          3098,
          3239,
          3062,
          2950,
          2695,
          3425,
          3523,
          3371,
          3131,
          3157,
          3504,
          3138,
          3862,
          3282,
          3028,
          3278,
          3104,
          2726,
          3279,
          3567,
          3013,
          3482,
          3349,
          2772,
          3049,
          2346,
          2066,
          2340,
          2015,
          1780,
          1560,
          1914,
          1908,
          2029,
          2242,
          2544,
          2563,
          2722,
          2471,
          2418,
          2321,
          2202,
          1497,
          702,
          2770,
          2964,
          3133,
          2956,
          3030,
          2801,
          2951,
          1564,
          2006,
          2985,
          2389,
          2721,
          2659,
          2771,
          3029,
          2830,
          3172,
          3380,
          3329,
          3565,
          2780,
          3835,
          3400,
          4051,
          3583,
          3958,
          4641,
          3749,
          4567,
          4539,
          4370,
          4601,
          4147,
          4369,
          4862,
          3452,
          4271,
          4701,
          4849,
          4389,
          5725,
          4514,
          4463
         ]
        },
        {
         "line": {
          "color": "black",
          "dash": "dot"
         },
         "mode": "lines",
         "name": "Baseline",
         "type": "scatter",
         "x": [
          "2016-01-01T00:00:00.000000000",
          "2016-02-01T00:00:00.000000000",
          "2016-03-01T00:00:00.000000000",
          "2016-04-01T00:00:00.000000000",
          "2016-05-01T00:00:00.000000000",
          "2016-06-01T00:00:00.000000000",
          "2016-07-01T00:00:00.000000000",
          "2016-08-01T00:00:00.000000000",
          "2016-09-01T00:00:00.000000000",
          "2016-10-01T00:00:00.000000000",
          "2016-11-01T00:00:00.000000000",
          "2016-12-01T00:00:00.000000000",
          "2017-01-01T00:00:00.000000000",
          "2017-02-01T00:00:00.000000000",
          "2017-03-01T00:00:00.000000000",
          "2017-04-01T00:00:00.000000000",
          "2017-05-01T00:00:00.000000000",
          "2017-06-01T00:00:00.000000000",
          "2017-07-01T00:00:00.000000000",
          "2017-08-01T00:00:00.000000000",
          "2017-09-01T00:00:00.000000000",
          "2017-10-01T00:00:00.000000000",
          "2017-11-01T00:00:00.000000000",
          "2017-12-01T00:00:00.000000000",
          "2018-01-01T00:00:00.000000000",
          "2018-02-01T00:00:00.000000000",
          "2018-03-01T00:00:00.000000000",
          "2018-04-01T00:00:00.000000000",
          "2018-05-01T00:00:00.000000000",
          "2018-06-01T00:00:00.000000000",
          "2018-07-01T00:00:00.000000000",
          "2018-08-01T00:00:00.000000000",
          "2018-09-01T00:00:00.000000000",
          "2018-10-01T00:00:00.000000000",
          "2018-11-01T00:00:00.000000000",
          "2018-12-01T00:00:00.000000000",
          "2019-01-01T00:00:00.000000000",
          "2019-02-01T00:00:00.000000000",
          "2019-03-01T00:00:00.000000000",
          "2019-04-01T00:00:00.000000000",
          "2019-05-01T00:00:00.000000000",
          "2019-06-01T00:00:00.000000000",
          "2019-07-01T00:00:00.000000000",
          "2019-08-01T00:00:00.000000000",
          "2019-09-01T00:00:00.000000000",
          "2019-10-01T00:00:00.000000000",
          "2019-11-01T00:00:00.000000000",
          "2019-12-01T00:00:00.000000000",
          "2020-01-01T00:00:00.000000000",
          "2020-02-01T00:00:00.000000000",
          "2020-03-01T00:00:00.000000000",
          "2020-04-01T00:00:00.000000000",
          "2020-05-01T00:00:00.000000000",
          "2020-06-01T00:00:00.000000000",
          "2020-07-01T00:00:00.000000000",
          "2020-08-01T00:00:00.000000000",
          "2020-09-01T00:00:00.000000000",
          "2020-10-01T00:00:00.000000000",
          "2020-11-01T00:00:00.000000000",
          "2020-12-01T00:00:00.000000000",
          "2021-01-01T00:00:00.000000000",
          "2021-02-01T00:00:00.000000000",
          "2021-03-01T00:00:00.000000000",
          "2021-04-01T00:00:00.000000000",
          "2021-05-01T00:00:00.000000000",
          "2021-06-01T00:00:00.000000000",
          "2021-07-01T00:00:00.000000000",
          "2021-08-01T00:00:00.000000000",
          "2021-09-01T00:00:00.000000000",
          "2021-10-01T00:00:00.000000000",
          "2021-11-01T00:00:00.000000000",
          "2021-12-01T00:00:00.000000000",
          "2022-01-01T00:00:00.000000000",
          "2022-02-01T00:00:00.000000000",
          "2022-03-01T00:00:00.000000000",
          "2022-04-01T00:00:00.000000000",
          "2022-05-01T00:00:00.000000000",
          "2022-06-01T00:00:00.000000000",
          "2022-07-01T00:00:00.000000000",
          "2022-08-01T00:00:00.000000000",
          "2022-09-01T00:00:00.000000000",
          "2022-10-01T00:00:00.000000000",
          "2022-11-01T00:00:00.000000000",
          "2022-12-01T00:00:00.000000000",
          "2023-01-01T00:00:00.000000000",
          "2023-02-01T00:00:00.000000000",
          "2023-03-01T00:00:00.000000000",
          "2023-04-01T00:00:00.000000000",
          "2023-05-01T00:00:00.000000000",
          "2023-06-01T00:00:00.000000000",
          "2023-07-01T00:00:00.000000000",
          "2023-08-01T00:00:00.000000000",
          "2023-09-01T00:00:00.000000000",
          "2023-10-01T00:00:00.000000000",
          "2023-11-01T00:00:00.000000000",
          "2023-12-01T00:00:00.000000000",
          "2024-01-01T00:00:00.000000000",
          "2024-02-01T00:00:00.000000000",
          "2024-03-01T00:00:00.000000000",
          "2024-04-01T00:00:00.000000000",
          "2024-05-01T00:00:00.000000000",
          "2024-06-01T00:00:00.000000000",
          "2024-07-01T00:00:00.000000000",
          "2024-08-01T00:00:00.000000000",
          "2024-09-01T00:00:00.000000000",
          "2024-10-01T00:00:00.000000000",
          "2024-11-01T00:00:00.000000000",
          "2024-12-01T00:00:00.000000000"
         ],
         "y": [
          3354.929916397699,
          3339.005043580908,
          3323.0801707641167,
          3307.155297947326,
          3291.230425130535,
          3275.305552313744,
          3259.3806794969532,
          3243.4558066801624,
          3227.530933863371,
          3211.60606104658,
          3195.6811882297893,
          3179.7563154129984,
          3163.8314425962076,
          3147.9065697794167,
          3131.9816969626254,
          3116.0568241458345,
          3100.1319513290437,
          3084.207078512253,
          3068.282205695462,
          3052.3573328786706,
          3036.4324600618797,
          3020.507587245089,
          3004.582714428298,
          2988.657841611507,
          2972.7329687947163,
          2956.8080959779254,
          2940.883223161134,
          2924.958350344343,
          2909.0334775275523,
          2893.1086047107615,
          2877.1837318939706,
          2861.2588590771793,
          2845.3339862603884,
          2829.4091134435976,
          2813.4842406268067,
          2797.559367810016,
          2781.634494993225,
          2765.709622176434,
          2749.784749359643,
          2733.859876542852,
          2717.935003726061,
          2702.01013090927,
          2686.0852580924793,
          2670.160385275688,
          2654.235512458897,
          2638.3106396421063,
          2622.3857668253154,
          2606.4608940085245,
          2590.536021191733,
          2574.611148374943,
          2558.6862755581515,
          2542.7614027413606,
          2526.8365299245697,
          2510.911657107779,
          2494.986784290988,
          2479.0619114741967,
          2463.137038657406,
          2447.212165840615,
          2431.287293023824,
          2415.362420207033,
          2399.437547390242,
          2383.512674573451,
          2367.58780175666,
          2351.6629289398693,
          2335.7380561230784,
          2319.813183306287,
          2303.8883104894967,
          2287.9634376727054,
          2272.0385648559145,
          2256.1136920391236,
          2240.1888192223328,
          2224.263946405542,
          2208.3390735887506,
          2192.41420077196,
          2176.489327955169,
          2160.564455138378,
          2144.639582321587,
          2128.714709504796,
          2112.7898366880054,
          2096.864963871214,
          2080.940091054423,
          2065.0152182376323,
          2049.090345420841,
          2033.1654726040504,
          2017.2405997872595,
          2001.3157269704684,
          1985.3908541536775,
          1969.4659813368867,
          1953.5411085200956,
          1937.6162357033047,
          1921.6913628865138,
          1905.7664900697227,
          1889.8416172529319,
          1873.916744436141,
          1857.99187161935,
          1842.066998802559,
          1826.1421259857682,
          1810.217253168977,
          1794.2923803521862,
          1778.3675075353954,
          1762.4426347186043,
          1746.5177619018134,
          1730.5928890850225,
          1714.6680162682314,
          1698.7431434514406,
          1682.8182706346497,
          1666.8933978178586,
          1650.9685250010677
         ]
        },
        {
         "line": {
          "color": "purple"
         },
         "mode": "lines",
         "name": "Full model",
         "type": "scatter",
         "x": [
          "2016-01-01T00:00:00.000000000",
          "2016-02-01T00:00:00.000000000",
          "2016-03-01T00:00:00.000000000",
          "2016-04-01T00:00:00.000000000",
          "2016-05-01T00:00:00.000000000",
          "2016-06-01T00:00:00.000000000",
          "2016-07-01T00:00:00.000000000",
          "2016-08-01T00:00:00.000000000",
          "2016-09-01T00:00:00.000000000",
          "2016-10-01T00:00:00.000000000",
          "2016-11-01T00:00:00.000000000",
          "2016-12-01T00:00:00.000000000",
          "2017-01-01T00:00:00.000000000",
          "2017-02-01T00:00:00.000000000",
          "2017-03-01T00:00:00.000000000",
          "2017-04-01T00:00:00.000000000",
          "2017-05-01T00:00:00.000000000",
          "2017-06-01T00:00:00.000000000",
          "2017-07-01T00:00:00.000000000",
          "2017-08-01T00:00:00.000000000",
          "2017-09-01T00:00:00.000000000",
          "2017-10-01T00:00:00.000000000",
          "2017-11-01T00:00:00.000000000",
          "2017-12-01T00:00:00.000000000",
          "2018-01-01T00:00:00.000000000",
          "2018-02-01T00:00:00.000000000",
          "2018-03-01T00:00:00.000000000",
          "2018-04-01T00:00:00.000000000",
          "2018-05-01T00:00:00.000000000",
          "2018-06-01T00:00:00.000000000",
          "2018-07-01T00:00:00.000000000",
          "2018-08-01T00:00:00.000000000",
          "2018-09-01T00:00:00.000000000",
          "2018-10-01T00:00:00.000000000",
          "2018-11-01T00:00:00.000000000",
          "2018-12-01T00:00:00.000000000",
          "2019-01-01T00:00:00.000000000",
          "2019-02-01T00:00:00.000000000",
          "2019-03-01T00:00:00.000000000",
          "2019-04-01T00:00:00.000000000",
          "2019-05-01T00:00:00.000000000",
          "2019-06-01T00:00:00.000000000",
          "2019-07-01T00:00:00.000000000",
          "2019-08-01T00:00:00.000000000",
          "2019-09-01T00:00:00.000000000",
          "2019-10-01T00:00:00.000000000",
          "2019-11-01T00:00:00.000000000",
          "2019-12-01T00:00:00.000000000",
          "2020-01-01T00:00:00.000000000",
          "2020-02-01T00:00:00.000000000",
          "2020-03-01T00:00:00.000000000",
          "2020-04-01T00:00:00.000000000",
          "2020-05-01T00:00:00.000000000",
          "2020-06-01T00:00:00.000000000",
          "2020-07-01T00:00:00.000000000",
          "2020-08-01T00:00:00.000000000",
          "2020-09-01T00:00:00.000000000",
          "2020-10-01T00:00:00.000000000",
          "2020-11-01T00:00:00.000000000",
          "2020-12-01T00:00:00.000000000",
          "2021-01-01T00:00:00.000000000",
          "2021-02-01T00:00:00.000000000",
          "2021-03-01T00:00:00.000000000",
          "2021-04-01T00:00:00.000000000",
          "2021-05-01T00:00:00.000000000",
          "2021-06-01T00:00:00.000000000",
          "2021-07-01T00:00:00.000000000",
          "2021-08-01T00:00:00.000000000",
          "2021-09-01T00:00:00.000000000",
          "2021-10-01T00:00:00.000000000",
          "2021-11-01T00:00:00.000000000",
          "2021-12-01T00:00:00.000000000",
          "2022-01-01T00:00:00.000000000",
          "2022-02-01T00:00:00.000000000",
          "2022-03-01T00:00:00.000000000",
          "2022-04-01T00:00:00.000000000",
          "2022-05-01T00:00:00.000000000",
          "2022-06-01T00:00:00.000000000",
          "2022-07-01T00:00:00.000000000",
          "2022-08-01T00:00:00.000000000",
          "2022-09-01T00:00:00.000000000",
          "2022-10-01T00:00:00.000000000",
          "2022-11-01T00:00:00.000000000",
          "2022-12-01T00:00:00.000000000",
          "2023-01-01T00:00:00.000000000",
          "2023-02-01T00:00:00.000000000",
          "2023-03-01T00:00:00.000000000",
          "2023-04-01T00:00:00.000000000",
          "2023-05-01T00:00:00.000000000",
          "2023-06-01T00:00:00.000000000",
          "2023-07-01T00:00:00.000000000",
          "2023-08-01T00:00:00.000000000",
          "2023-09-01T00:00:00.000000000",
          "2023-10-01T00:00:00.000000000",
          "2023-11-01T00:00:00.000000000",
          "2023-12-01T00:00:00.000000000",
          "2024-01-01T00:00:00.000000000",
          "2024-02-01T00:00:00.000000000",
          "2024-03-01T00:00:00.000000000",
          "2024-04-01T00:00:00.000000000",
          "2024-05-01T00:00:00.000000000",
          "2024-06-01T00:00:00.000000000",
          "2024-07-01T00:00:00.000000000",
          "2024-08-01T00:00:00.000000000",
          "2024-09-01T00:00:00.000000000",
          "2024-10-01T00:00:00.000000000",
          "2024-11-01T00:00:00.000000000",
          "2024-12-01T00:00:00.000000000"
         ],
         "y": [
          3354.929916397699,
          3339.005043580908,
          3323.0801707641167,
          3307.155297947326,
          3291.230425130535,
          3275.305552313744,
          3259.3806794969532,
          3243.4558066801624,
          3227.530933863371,
          3211.60606104658,
          3195.6811882297893,
          3179.7563154129984,
          3163.8314425962076,
          3147.9065697794167,
          3131.9816969626254,
          3116.0568241458345,
          3100.1319513290437,
          3084.207078512253,
          3068.282205695462,
          3052.3573328786706,
          3036.4324600618797,
          3020.507587245089,
          3004.582714428298,
          2988.657841611507,
          2972.7329687947163,
          2956.8080959779254,
          2940.883223161134,
          2924.958350344343,
          2909.0334775275523,
          2893.1086047107615,
          2877.1837318939706,
          2861.2588590771793,
          2845.3339862603884,
          2829.4091134435976,
          2813.4842406268067,
          2797.559367810016,
          2781.634494993225,
          2765.709622176434,
          2749.784749359643,
          2733.859876542852,
          2717.935003726061,
          2702.01013090927,
          2686.0852580924793,
          2670.160385275688,
          2654.235512458897,
          2638.3106396421063,
          2622.3857668253154,
          2606.4608940085245,
          1715.5360211917332,
          1699.6111483749428,
          1683.6862755581515,
          1667.7614027413606,
          1651.8365299245697,
          1635.9116571077789,
          1619.986784290988,
          1726.0619114741967,
          1778.1370386574058,
          1830.212165840615,
          1882.287293023824,
          1934.3624202070332,
          1986.437547390242,
          2038.512674573451,
          2090.58780175666,
          929.6629289398693,
          913.7380561230784,
          2246.813183306287,
          2298.8883104894967,
          2350.9634376727054,
          2403.0385648559145,
          2455.1136920391236,
          2507.1888192223328,
          2559.263946405542,
          2611.3390735887506,
          2663.41420077196,
          2715.489327955169,
          2767.564455138378,
          2819.639582321587,
          2871.714709504796,
          2923.7898366880054,
          2975.864963871214,
          3027.940091054423,
          3080.0152182376323,
          3132.090345420841,
          3184.1654726040506,
          3236.2405997872593,
          3288.3157269704684,
          3340.3908541536775,
          3392.4659813368867,
          3444.541108520096,
          3496.6162357033045,
          3548.691362886514,
          3600.7664900697227,
          3652.841617252932,
          3704.916744436141,
          3756.9918716193497,
          3809.0669988025593,
          3861.142125985768,
          3913.217253168977,
          3966.2923803521862,
          4018.3675075353954,
          4070.4426347186045,
          4122.517761901813,
          4174.592889085023,
          4226.668016268231,
          4278.74314345144,
          4330.81827063465,
          4382.893397817858,
          4434.968525001068
         ]
        }
       ],
       "layout": {
        "legend": {
         "title": {
          "text": "Legend"
         }
        },
        "template": {
         "data": {
          "bar": [
           {
            "error_x": {
             "color": "#2a3f5f"
            },
            "error_y": {
             "color": "#2a3f5f"
            },
            "marker": {
             "line": {
              "color": "#E5ECF6",
              "width": 0.5
             },
             "pattern": {
              "fillmode": "overlay",
              "size": 10,
              "solidity": 0.2
             }
            },
            "type": "bar"
           }
          ],
          "barpolar": [
           {
            "marker": {
             "line": {
              "color": "#E5ECF6",
              "width": 0.5
             },
             "pattern": {
              "fillmode": "overlay",
              "size": 10,
              "solidity": 0.2
             }
            },
            "type": "barpolar"
           }
          ],
          "carpet": [
           {
            "aaxis": {
             "endlinecolor": "#2a3f5f",
             "gridcolor": "white",
             "linecolor": "white",
             "minorgridcolor": "white",
             "startlinecolor": "#2a3f5f"
            },
            "baxis": {
             "endlinecolor": "#2a3f5f",
             "gridcolor": "white",
             "linecolor": "white",
             "minorgridcolor": "white",
             "startlinecolor": "#2a3f5f"
            },
            "type": "carpet"
           }
          ],
          "choropleth": [
           {
            "colorbar": {
             "outlinewidth": 0,
             "ticks": ""
            },
            "type": "choropleth"
           }
          ],
          "contour": [
           {
            "colorbar": {
             "outlinewidth": 0,
             "ticks": ""
            },
            "colorscale": [
             [
              0,
              "#0d0887"
             ],
             [
              0.1111111111111111,
              "#46039f"
             ],
             [
              0.2222222222222222,
              "#7201a8"
             ],
             [
              0.3333333333333333,
              "#9c179e"
             ],
             [
              0.4444444444444444,
              "#bd3786"
             ],
             [
              0.5555555555555556,
              "#d8576b"
             ],
             [
              0.6666666666666666,
              "#ed7953"
             ],
             [
              0.7777777777777778,
              "#fb9f3a"
             ],
             [
              0.8888888888888888,
              "#fdca26"
             ],
             [
              1,
              "#f0f921"
             ]
            ],
            "type": "contour"
           }
          ],
          "contourcarpet": [
           {
            "colorbar": {
             "outlinewidth": 0,
             "ticks": ""
            },
            "type": "contourcarpet"
           }
          ],
          "heatmap": [
           {
            "colorbar": {
             "outlinewidth": 0,
             "ticks": ""
            },
            "colorscale": [
             [
              0,
              "#0d0887"
             ],
             [
              0.1111111111111111,
              "#46039f"
             ],
             [
              0.2222222222222222,
              "#7201a8"
             ],
             [
              0.3333333333333333,
              "#9c179e"
             ],
             [
              0.4444444444444444,
              "#bd3786"
             ],
             [
              0.5555555555555556,
              "#d8576b"
             ],
             [
              0.6666666666666666,
              "#ed7953"
             ],
             [
              0.7777777777777778,
              "#fb9f3a"
             ],
             [
              0.8888888888888888,
              "#fdca26"
             ],
             [
              1,
              "#f0f921"
             ]
            ],
            "type": "heatmap"
           }
          ],
          "heatmapgl": [
           {
            "colorbar": {
             "outlinewidth": 0,
             "ticks": ""
            },
            "colorscale": [
             [
              0,
              "#0d0887"
             ],
             [
              0.1111111111111111,
              "#46039f"
             ],
             [
              0.2222222222222222,
              "#7201a8"
             ],
             [
              0.3333333333333333,
              "#9c179e"
             ],
             [
              0.4444444444444444,
              "#bd3786"
             ],
             [
              0.5555555555555556,
              "#d8576b"
             ],
             [
              0.6666666666666666,
              "#ed7953"
             ],
             [
              0.7777777777777778,
              "#fb9f3a"
             ],
             [
              0.8888888888888888,
              "#fdca26"
             ],
             [
              1,
              "#f0f921"
             ]
            ],
            "type": "heatmapgl"
           }
          ],
          "histogram": [
           {
            "marker": {
             "pattern": {
              "fillmode": "overlay",
              "size": 10,
              "solidity": 0.2
             }
            },
            "type": "histogram"
           }
          ],
          "histogram2d": [
           {
            "colorbar": {
             "outlinewidth": 0,
             "ticks": ""
            },
            "colorscale": [
             [
              0,
              "#0d0887"
             ],
             [
              0.1111111111111111,
              "#46039f"
             ],
             [
              0.2222222222222222,
              "#7201a8"
             ],
             [
              0.3333333333333333,
              "#9c179e"
             ],
             [
              0.4444444444444444,
              "#bd3786"
             ],
             [
              0.5555555555555556,
              "#d8576b"
             ],
             [
              0.6666666666666666,
              "#ed7953"
             ],
             [
              0.7777777777777778,
              "#fb9f3a"
             ],
             [
              0.8888888888888888,
              "#fdca26"
             ],
             [
              1,
              "#f0f921"
             ]
            ],
            "type": "histogram2d"
           }
          ],
          "histogram2dcontour": [
           {
            "colorbar": {
             "outlinewidth": 0,
             "ticks": ""
            },
            "colorscale": [
             [
              0,
              "#0d0887"
             ],
             [
              0.1111111111111111,
              "#46039f"
             ],
             [
              0.2222222222222222,
              "#7201a8"
             ],
             [
              0.3333333333333333,
              "#9c179e"
             ],
             [
              0.4444444444444444,
              "#bd3786"
             ],
             [
              0.5555555555555556,
              "#d8576b"
             ],
             [
              0.6666666666666666,
              "#ed7953"
             ],
             [
              0.7777777777777778,
              "#fb9f3a"
             ],
             [
              0.8888888888888888,
              "#fdca26"
             ],
             [
              1,
              "#f0f921"
             ]
            ],
            "type": "histogram2dcontour"
           }
          ],
          "mesh3d": [
           {
            "colorbar": {
             "outlinewidth": 0,
             "ticks": ""
            },
            "type": "mesh3d"
           }
          ],
          "parcoords": [
           {
            "line": {
             "colorbar": {
              "outlinewidth": 0,
              "ticks": ""
             }
            },
            "type": "parcoords"
           }
          ],
          "pie": [
           {
            "automargin": true,
            "type": "pie"
           }
          ],
          "scatter": [
           {
            "fillpattern": {
             "fillmode": "overlay",
             "size": 10,
             "solidity": 0.2
            },
            "type": "scatter"
           }
          ],
          "scatter3d": [
           {
            "line": {
             "colorbar": {
              "outlinewidth": 0,
              "ticks": ""
             }
            },
            "marker": {
             "colorbar": {
              "outlinewidth": 0,
              "ticks": ""
             }
            },
            "type": "scatter3d"
           }
          ],
          "scattercarpet": [
           {
            "marker": {
             "colorbar": {
              "outlinewidth": 0,
              "ticks": ""
             }
            },
            "type": "scattercarpet"
           }
          ],
          "scattergeo": [
           {
            "marker": {
             "colorbar": {
              "outlinewidth": 0,
              "ticks": ""
             }
            },
            "type": "scattergeo"
           }
          ],
          "scattergl": [
           {
            "marker": {
             "colorbar": {
              "outlinewidth": 0,
              "ticks": ""
             }
            },
            "type": "scattergl"
           }
          ],
          "scattermapbox": [
           {
            "marker": {
             "colorbar": {
              "outlinewidth": 0,
              "ticks": ""
             }
            },
            "type": "scattermapbox"
           }
          ],
          "scatterpolar": [
           {
            "marker": {
             "colorbar": {
              "outlinewidth": 0,
              "ticks": ""
             }
            },
            "type": "scatterpolar"
           }
          ],
          "scatterpolargl": [
           {
            "marker": {
             "colorbar": {
              "outlinewidth": 0,
              "ticks": ""
             }
            },
            "type": "scatterpolargl"
           }
          ],
          "scatterternary": [
           {
            "marker": {
             "colorbar": {
              "outlinewidth": 0,
              "ticks": ""
             }
            },
            "type": "scatterternary"
           }
          ],
          "surface": [
           {
            "colorbar": {
             "outlinewidth": 0,
             "ticks": ""
            },
            "colorscale": [
             [
              0,
              "#0d0887"
             ],
             [
              0.1111111111111111,
              "#46039f"
             ],
             [
              0.2222222222222222,
              "#7201a8"
             ],
             [
              0.3333333333333333,
              "#9c179e"
             ],
             [
              0.4444444444444444,
              "#bd3786"
             ],
             [
              0.5555555555555556,
              "#d8576b"
             ],
             [
              0.6666666666666666,
              "#ed7953"
             ],
             [
              0.7777777777777778,
              "#fb9f3a"
             ],
             [
              0.8888888888888888,
              "#fdca26"
             ],
             [
              1,
              "#f0f921"
             ]
            ],
            "type": "surface"
           }
          ],
          "table": [
           {
            "cells": {
             "fill": {
              "color": "#EBF0F8"
             },
             "line": {
              "color": "white"
             }
            },
            "header": {
             "fill": {
              "color": "#C8D4E3"
             },
             "line": {
              "color": "white"
             }
            },
            "type": "table"
           }
          ]
         },
         "layout": {
          "annotationdefaults": {
           "arrowcolor": "#2a3f5f",
           "arrowhead": 0,
           "arrowwidth": 1
          },
          "autotypenumbers": "strict",
          "coloraxis": {
           "colorbar": {
            "outlinewidth": 0,
            "ticks": ""
           }
          },
          "colorscale": {
           "diverging": [
            [
             0,
             "#8e0152"
            ],
            [
             0.1,
             "#c51b7d"
            ],
            [
             0.2,
             "#de77ae"
            ],
            [
             0.3,
             "#f1b6da"
            ],
            [
             0.4,
             "#fde0ef"
            ],
            [
             0.5,
             "#f7f7f7"
            ],
            [
             0.6,
             "#e6f5d0"
            ],
            [
             0.7,
             "#b8e186"
            ],
            [
             0.8,
             "#7fbc41"
            ],
            [
             0.9,
             "#4d9221"
            ],
            [
             1,
             "#276419"
            ]
           ],
           "sequential": [
            [
             0,
             "#0d0887"
            ],
            [
             0.1111111111111111,
             "#46039f"
            ],
            [
             0.2222222222222222,
             "#7201a8"
            ],
            [
             0.3333333333333333,
             "#9c179e"
            ],
            [
             0.4444444444444444,
             "#bd3786"
            ],
            [
             0.5555555555555556,
             "#d8576b"
            ],
            [
             0.6666666666666666,
             "#ed7953"
            ],
            [
             0.7777777777777778,
             "#fb9f3a"
            ],
            [
             0.8888888888888888,
             "#fdca26"
            ],
            [
             1,
             "#f0f921"
            ]
           ],
           "sequentialminus": [
            [
             0,
             "#0d0887"
            ],
            [
             0.1111111111111111,
             "#46039f"
            ],
            [
             0.2222222222222222,
             "#7201a8"
            ],
            [
             0.3333333333333333,
             "#9c179e"
            ],
            [
             0.4444444444444444,
             "#bd3786"
            ],
            [
             0.5555555555555556,
             "#d8576b"
            ],
            [
             0.6666666666666666,
             "#ed7953"
            ],
            [
             0.7777777777777778,
             "#fb9f3a"
            ],
            [
             0.8888888888888888,
             "#fdca26"
            ],
            [
             1,
             "#f0f921"
            ]
           ]
          },
          "colorway": [
           "#636efa",
           "#EF553B",
           "#00cc96",
           "#ab63fa",
           "#FFA15A",
           "#19d3f3",
           "#FF6692",
           "#B6E880",
           "#FF97FF",
           "#FECB52"
          ],
          "font": {
           "color": "#2a3f5f"
          },
          "geo": {
           "bgcolor": "white",
           "lakecolor": "white",
           "landcolor": "#E5ECF6",
           "showlakes": true,
           "showland": true,
           "subunitcolor": "white"
          },
          "hoverlabel": {
           "align": "left"
          },
          "hovermode": "closest",
          "mapbox": {
           "style": "light"
          },
          "paper_bgcolor": "white",
          "plot_bgcolor": "#E5ECF6",
          "polar": {
           "angularaxis": {
            "gridcolor": "white",
            "linecolor": "white",
            "ticks": ""
           },
           "bgcolor": "#E5ECF6",
           "radialaxis": {
            "gridcolor": "white",
            "linecolor": "white",
            "ticks": ""
           }
          },
          "scene": {
           "xaxis": {
            "backgroundcolor": "#E5ECF6",
            "gridcolor": "white",
            "gridwidth": 2,
            "linecolor": "white",
            "showbackground": true,
            "ticks": "",
            "zerolinecolor": "white"
           },
           "yaxis": {
            "backgroundcolor": "#E5ECF6",
            "gridcolor": "white",
            "gridwidth": 2,
            "linecolor": "white",
            "showbackground": true,
            "ticks": "",
            "zerolinecolor": "white"
           },
           "zaxis": {
            "backgroundcolor": "#E5ECF6",
            "gridcolor": "white",
            "gridwidth": 2,
            "linecolor": "white",
            "showbackground": true,
            "ticks": "",
            "zerolinecolor": "white"
           }
          },
          "shapedefaults": {
           "line": {
            "color": "#2a3f5f"
           }
          },
          "ternary": {
           "aaxis": {
            "gridcolor": "white",
            "linecolor": "white",
            "ticks": ""
           },
           "baxis": {
            "gridcolor": "white",
            "linecolor": "white",
            "ticks": ""
           },
           "bgcolor": "#E5ECF6",
           "caxis": {
            "gridcolor": "white",
            "linecolor": "white",
            "ticks": ""
           }
          },
          "title": {
           "x": 0.05
          },
          "xaxis": {
           "automargin": true,
           "gridcolor": "white",
           "linecolor": "white",
           "ticks": "",
           "title": {
            "standoff": 15
           },
           "zerolinecolor": "white",
           "zerolinewidth": 2
          },
          "yaxis": {
           "automargin": true,
           "gridcolor": "white",
           "linecolor": "white",
           "ticks": "",
           "title": {
            "standoff": 15
           },
           "zerolinecolor": "white",
           "zerolinewidth": 2
          }
         }
        },
        "title": {
         "text": "F30-F39 - Transtornos do humor [afetivos]"
        },
        "xaxis": {
         "title": {
          "text": "Time"
         }
        },
        "yaxis": {
         "title": {
          "text": "Value"
         }
        }
       }
      }
     },
     "metadata": {},
     "output_type": "display_data"
    },
    {
     "data": {
      "application/vnd.plotly.v1+json": {
       "config": {
        "plotlyServerURL": "https://plot.ly"
       },
       "data": [
        {
         "marker": {
          "color": "black"
         },
         "mode": "markers",
         "name": "Real",
         "type": "scatter",
         "x": [
          "2016-01-01T00:00:00.000000000",
          "2016-02-01T00:00:00.000000000",
          "2016-03-01T00:00:00.000000000",
          "2016-04-01T00:00:00.000000000",
          "2016-05-01T00:00:00.000000000",
          "2016-06-01T00:00:00.000000000",
          "2016-07-01T00:00:00.000000000",
          "2016-08-01T00:00:00.000000000",
          "2016-09-01T00:00:00.000000000",
          "2016-10-01T00:00:00.000000000",
          "2016-11-01T00:00:00.000000000",
          "2016-12-01T00:00:00.000000000",
          "2017-01-01T00:00:00.000000000",
          "2017-02-01T00:00:00.000000000",
          "2017-03-01T00:00:00.000000000",
          "2017-04-01T00:00:00.000000000",
          "2017-05-01T00:00:00.000000000",
          "2017-06-01T00:00:00.000000000",
          "2017-07-01T00:00:00.000000000",
          "2017-08-01T00:00:00.000000000",
          "2017-09-01T00:00:00.000000000",
          "2017-10-01T00:00:00.000000000",
          "2017-11-01T00:00:00.000000000",
          "2017-12-01T00:00:00.000000000",
          "2018-01-01T00:00:00.000000000",
          "2018-02-01T00:00:00.000000000",
          "2018-03-01T00:00:00.000000000",
          "2018-04-01T00:00:00.000000000",
          "2018-05-01T00:00:00.000000000",
          "2018-06-01T00:00:00.000000000",
          "2018-07-01T00:00:00.000000000",
          "2018-08-01T00:00:00.000000000",
          "2018-09-01T00:00:00.000000000",
          "2018-10-01T00:00:00.000000000",
          "2018-11-01T00:00:00.000000000",
          "2018-12-01T00:00:00.000000000",
          "2019-01-01T00:00:00.000000000",
          "2019-02-01T00:00:00.000000000",
          "2019-03-01T00:00:00.000000000",
          "2019-04-01T00:00:00.000000000",
          "2019-05-01T00:00:00.000000000",
          "2019-06-01T00:00:00.000000000",
          "2019-07-01T00:00:00.000000000",
          "2019-08-01T00:00:00.000000000",
          "2019-09-01T00:00:00.000000000",
          "2019-10-01T00:00:00.000000000",
          "2019-11-01T00:00:00.000000000",
          "2019-12-01T00:00:00.000000000",
          "2020-01-01T00:00:00.000000000",
          "2020-02-01T00:00:00.000000000",
          "2020-03-01T00:00:00.000000000",
          "2020-04-01T00:00:00.000000000",
          "2020-05-01T00:00:00.000000000",
          "2020-06-01T00:00:00.000000000",
          "2020-07-01T00:00:00.000000000",
          "2020-08-01T00:00:00.000000000",
          "2020-09-01T00:00:00.000000000",
          "2020-10-01T00:00:00.000000000",
          "2020-11-01T00:00:00.000000000",
          "2020-12-01T00:00:00.000000000",
          "2021-01-01T00:00:00.000000000",
          "2021-02-01T00:00:00.000000000",
          "2021-03-01T00:00:00.000000000",
          "2021-04-01T00:00:00.000000000",
          "2021-05-01T00:00:00.000000000",
          "2021-06-01T00:00:00.000000000",
          "2021-07-01T00:00:00.000000000",
          "2021-08-01T00:00:00.000000000",
          "2021-09-01T00:00:00.000000000",
          "2021-10-01T00:00:00.000000000",
          "2021-11-01T00:00:00.000000000",
          "2021-12-01T00:00:00.000000000",
          "2022-01-01T00:00:00.000000000",
          "2022-02-01T00:00:00.000000000",
          "2022-03-01T00:00:00.000000000",
          "2022-04-01T00:00:00.000000000",
          "2022-05-01T00:00:00.000000000",
          "2022-06-01T00:00:00.000000000",
          "2022-07-01T00:00:00.000000000",
          "2022-08-01T00:00:00.000000000",
          "2022-09-01T00:00:00.000000000",
          "2022-10-01T00:00:00.000000000",
          "2022-11-01T00:00:00.000000000",
          "2022-12-01T00:00:00.000000000",
          "2023-01-01T00:00:00.000000000",
          "2023-02-01T00:00:00.000000000",
          "2023-03-01T00:00:00.000000000",
          "2023-04-01T00:00:00.000000000",
          "2023-05-01T00:00:00.000000000",
          "2023-06-01T00:00:00.000000000",
          "2023-07-01T00:00:00.000000000",
          "2023-08-01T00:00:00.000000000",
          "2023-09-01T00:00:00.000000000",
          "2023-10-01T00:00:00.000000000",
          "2023-11-01T00:00:00.000000000",
          "2023-12-01T00:00:00.000000000",
          "2024-01-01T00:00:00.000000000",
          "2024-02-01T00:00:00.000000000",
          "2024-03-01T00:00:00.000000000",
          "2024-04-01T00:00:00.000000000",
          "2024-05-01T00:00:00.000000000",
          "2024-06-01T00:00:00.000000000",
          "2024-07-01T00:00:00.000000000",
          "2024-08-01T00:00:00.000000000",
          "2024-09-01T00:00:00.000000000",
          "2024-10-01T00:00:00.000000000",
          "2024-11-01T00:00:00.000000000",
          "2024-12-01T00:00:00.000000000"
         ],
         "y": [
          796,
          788,
          1152,
          1035,
          1526,
          1686,
          1512,
          1817,
          1685,
          1498,
          1214,
          1141,
          1074,
          1022,
          1551,
          1269,
          1443,
          1411,
          1376,
          1418,
          1348,
          1368,
          1490,
          1369,
          1308,
          1234,
          1709,
          1694,
          1628,
          1393,
          1531,
          1589,
          1435,
          1823,
          1613,
          1458,
          1592,
          1540,
          1459,
          1840,
          1897,
          1593,
          1782,
          1829,
          1591,
          1763,
          1427,
          1138,
          1490,
          1420,
          1245,
          1331,
          1673,
          1950,
          1815,
          2070,
          2431,
          2489,
          2483,
          2530,
          2361,
          2223,
          2554,
          1764,
          600,
          2822,
          3074,
          3136,
          2996,
          3130,
          2852,
          2726,
          1686,
          2261,
          3205,
          2506,
          2671,
          2772,
          3030,
          3358,
          3205,
          3681,
          3610,
          3504,
          4118,
          3417,
          4601,
          3811,
          4466,
          4154,
          4304,
          5195,
          4322,
          5342,
          5402,
          5139,
          5403,
          4873,
          5139,
          5844,
          4474,
          5189,
          5477,
          5584,
          5031,
          6308,
          5250,
          5037
         ]
        },
        {
         "line": {
          "color": "black",
          "dash": "dot"
         },
         "mode": "lines",
         "name": "Baseline",
         "type": "scatter",
         "x": [
          "2016-01-01T00:00:00.000000000",
          "2016-02-01T00:00:00.000000000",
          "2016-03-01T00:00:00.000000000",
          "2016-04-01T00:00:00.000000000",
          "2016-05-01T00:00:00.000000000",
          "2016-06-01T00:00:00.000000000",
          "2016-07-01T00:00:00.000000000",
          "2016-08-01T00:00:00.000000000",
          "2016-09-01T00:00:00.000000000",
          "2016-10-01T00:00:00.000000000",
          "2016-11-01T00:00:00.000000000",
          "2016-12-01T00:00:00.000000000",
          "2017-01-01T00:00:00.000000000",
          "2017-02-01T00:00:00.000000000",
          "2017-03-01T00:00:00.000000000",
          "2017-04-01T00:00:00.000000000",
          "2017-05-01T00:00:00.000000000",
          "2017-06-01T00:00:00.000000000",
          "2017-07-01T00:00:00.000000000",
          "2017-08-01T00:00:00.000000000",
          "2017-09-01T00:00:00.000000000",
          "2017-10-01T00:00:00.000000000",
          "2017-11-01T00:00:00.000000000",
          "2017-12-01T00:00:00.000000000",
          "2018-01-01T00:00:00.000000000",
          "2018-02-01T00:00:00.000000000",
          "2018-03-01T00:00:00.000000000",
          "2018-04-01T00:00:00.000000000",
          "2018-05-01T00:00:00.000000000",
          "2018-06-01T00:00:00.000000000",
          "2018-07-01T00:00:00.000000000",
          "2018-08-01T00:00:00.000000000",
          "2018-09-01T00:00:00.000000000",
          "2018-10-01T00:00:00.000000000",
          "2018-11-01T00:00:00.000000000",
          "2018-12-01T00:00:00.000000000",
          "2019-01-01T00:00:00.000000000",
          "2019-02-01T00:00:00.000000000",
          "2019-03-01T00:00:00.000000000",
          "2019-04-01T00:00:00.000000000",
          "2019-05-01T00:00:00.000000000",
          "2019-06-01T00:00:00.000000000",
          "2019-07-01T00:00:00.000000000",
          "2019-08-01T00:00:00.000000000",
          "2019-09-01T00:00:00.000000000",
          "2019-10-01T00:00:00.000000000",
          "2019-11-01T00:00:00.000000000",
          "2019-12-01T00:00:00.000000000",
          "2020-01-01T00:00:00.000000000",
          "2020-02-01T00:00:00.000000000",
          "2020-03-01T00:00:00.000000000",
          "2020-04-01T00:00:00.000000000",
          "2020-05-01T00:00:00.000000000",
          "2020-06-01T00:00:00.000000000",
          "2020-07-01T00:00:00.000000000",
          "2020-08-01T00:00:00.000000000",
          "2020-09-01T00:00:00.000000000",
          "2020-10-01T00:00:00.000000000",
          "2020-11-01T00:00:00.000000000",
          "2020-12-01T00:00:00.000000000",
          "2021-01-01T00:00:00.000000000",
          "2021-02-01T00:00:00.000000000",
          "2021-03-01T00:00:00.000000000",
          "2021-04-01T00:00:00.000000000",
          "2021-05-01T00:00:00.000000000",
          "2021-06-01T00:00:00.000000000",
          "2021-07-01T00:00:00.000000000",
          "2021-08-01T00:00:00.000000000",
          "2021-09-01T00:00:00.000000000",
          "2021-10-01T00:00:00.000000000",
          "2021-11-01T00:00:00.000000000",
          "2021-12-01T00:00:00.000000000",
          "2022-01-01T00:00:00.000000000",
          "2022-02-01T00:00:00.000000000",
          "2022-03-01T00:00:00.000000000",
          "2022-04-01T00:00:00.000000000",
          "2022-05-01T00:00:00.000000000",
          "2022-06-01T00:00:00.000000000",
          "2022-07-01T00:00:00.000000000",
          "2022-08-01T00:00:00.000000000",
          "2022-09-01T00:00:00.000000000",
          "2022-10-01T00:00:00.000000000",
          "2022-11-01T00:00:00.000000000",
          "2022-12-01T00:00:00.000000000",
          "2023-01-01T00:00:00.000000000",
          "2023-02-01T00:00:00.000000000",
          "2023-03-01T00:00:00.000000000",
          "2023-04-01T00:00:00.000000000",
          "2023-05-01T00:00:00.000000000",
          "2023-06-01T00:00:00.000000000",
          "2023-07-01T00:00:00.000000000",
          "2023-08-01T00:00:00.000000000",
          "2023-09-01T00:00:00.000000000",
          "2023-10-01T00:00:00.000000000",
          "2023-11-01T00:00:00.000000000",
          "2023-12-01T00:00:00.000000000",
          "2024-01-01T00:00:00.000000000",
          "2024-02-01T00:00:00.000000000",
          "2024-03-01T00:00:00.000000000",
          "2024-04-01T00:00:00.000000000",
          "2024-05-01T00:00:00.000000000",
          "2024-06-01T00:00:00.000000000",
          "2024-07-01T00:00:00.000000000",
          "2024-08-01T00:00:00.000000000",
          "2024-09-01T00:00:00.000000000",
          "2024-10-01T00:00:00.000000000",
          "2024-11-01T00:00:00.000000000",
          "2024-12-01T00:00:00.000000000"
         ],
         "y": [
          1107.2741697733954,
          1115.486224705211,
          1123.6982796370266,
          1131.9103345688422,
          1140.1223895006578,
          1148.3344444324734,
          1156.546499364289,
          1164.7585542961049,
          1172.9706092279205,
          1181.182664159736,
          1189.3947190915517,
          1197.6067740233673,
          1205.8188289551829,
          1214.0308838869985,
          1222.242938818814,
          1230.4549937506297,
          1238.6670486824453,
          1246.8791036142609,
          1255.0911585460765,
          1263.303213477892,
          1271.515268409708,
          1279.7273233415235,
          1287.9393782733391,
          1296.1514332051547,
          1304.3634881369703,
          1312.575543068786,
          1320.7875980006015,
          1328.9996529324171,
          1337.2117078642327,
          1345.4237627960483,
          1353.635817727864,
          1361.8478726596795,
          1370.0599275914951,
          1378.2719825233107,
          1386.4840374551263,
          1394.696092386942,
          1402.9081473187575,
          1411.1202022505734,
          1419.332257182389,
          1427.5443121142046,
          1435.7563670460202,
          1443.9684219778358,
          1452.1804769096514,
          1460.392531841467,
          1468.6045867732826,
          1476.8166417050982,
          1485.0286966369138,
          1493.2407515687296,
          1501.4528065005452,
          1509.6648614323608,
          1517.8769163641764,
          1526.088971295992,
          1534.3010262278076,
          1542.5130811596232,
          1550.7251360914388,
          1558.9371910232544,
          1567.14924595507,
          1575.3613008868856,
          1583.5733558187012,
          1591.7854107505168,
          1599.9974656823324,
          1608.209520614148,
          1616.4215755459636,
          1624.6336304777792,
          1632.8456854095948,
          1641.0577403414104,
          1649.269795273226,
          1657.4818502050418,
          1665.6939051368574,
          1673.905960068673,
          1682.1180150004886,
          1690.3300699323042,
          1698.5421248641198,
          1706.7541797959354,
          1714.9662347277513,
          1723.1782896595669,
          1731.3903445913825,
          1739.602399523198,
          1747.8144544550137,
          1756.0265093868293,
          1764.2385643186449,
          1772.4506192504605,
          1780.662674182276,
          1788.8747291140917,
          1797.0867840459073,
          1805.2988389777229,
          1813.5108939095385,
          1821.722948841354,
          1829.9350037731697,
          1838.1470587049853,
          1846.3591136368009,
          1854.5711685686165,
          1862.783223500432,
          1870.9952784322477,
          1879.2073333640633,
          1887.4193882958791,
          1895.6314432276947,
          1903.8434981595103,
          1912.055553091326,
          1920.2676080231415,
          1928.4796629549571,
          1936.6917178867727,
          1944.9037728185883,
          1953.1158277504042,
          1961.3278826822198,
          1969.5399376140354,
          1977.751992545851,
          1985.9640474776666
         ]
        },
        {
         "line": {
          "color": "purple"
         },
         "mode": "lines",
         "name": "Full model",
         "type": "scatter",
         "x": [
          "2016-01-01T00:00:00.000000000",
          "2016-02-01T00:00:00.000000000",
          "2016-03-01T00:00:00.000000000",
          "2016-04-01T00:00:00.000000000",
          "2016-05-01T00:00:00.000000000",
          "2016-06-01T00:00:00.000000000",
          "2016-07-01T00:00:00.000000000",
          "2016-08-01T00:00:00.000000000",
          "2016-09-01T00:00:00.000000000",
          "2016-10-01T00:00:00.000000000",
          "2016-11-01T00:00:00.000000000",
          "2016-12-01T00:00:00.000000000",
          "2017-01-01T00:00:00.000000000",
          "2017-02-01T00:00:00.000000000",
          "2017-03-01T00:00:00.000000000",
          "2017-04-01T00:00:00.000000000",
          "2017-05-01T00:00:00.000000000",
          "2017-06-01T00:00:00.000000000",
          "2017-07-01T00:00:00.000000000",
          "2017-08-01T00:00:00.000000000",
          "2017-09-01T00:00:00.000000000",
          "2017-10-01T00:00:00.000000000",
          "2017-11-01T00:00:00.000000000",
          "2017-12-01T00:00:00.000000000",
          "2018-01-01T00:00:00.000000000",
          "2018-02-01T00:00:00.000000000",
          "2018-03-01T00:00:00.000000000",
          "2018-04-01T00:00:00.000000000",
          "2018-05-01T00:00:00.000000000",
          "2018-06-01T00:00:00.000000000",
          "2018-07-01T00:00:00.000000000",
          "2018-08-01T00:00:00.000000000",
          "2018-09-01T00:00:00.000000000",
          "2018-10-01T00:00:00.000000000",
          "2018-11-01T00:00:00.000000000",
          "2018-12-01T00:00:00.000000000",
          "2019-01-01T00:00:00.000000000",
          "2019-02-01T00:00:00.000000000",
          "2019-03-01T00:00:00.000000000",
          "2019-04-01T00:00:00.000000000",
          "2019-05-01T00:00:00.000000000",
          "2019-06-01T00:00:00.000000000",
          "2019-07-01T00:00:00.000000000",
          "2019-08-01T00:00:00.000000000",
          "2019-09-01T00:00:00.000000000",
          "2019-10-01T00:00:00.000000000",
          "2019-11-01T00:00:00.000000000",
          "2019-12-01T00:00:00.000000000",
          "2020-01-01T00:00:00.000000000",
          "2020-02-01T00:00:00.000000000",
          "2020-03-01T00:00:00.000000000",
          "2020-04-01T00:00:00.000000000",
          "2020-05-01T00:00:00.000000000",
          "2020-06-01T00:00:00.000000000",
          "2020-07-01T00:00:00.000000000",
          "2020-08-01T00:00:00.000000000",
          "2020-09-01T00:00:00.000000000",
          "2020-10-01T00:00:00.000000000",
          "2020-11-01T00:00:00.000000000",
          "2020-12-01T00:00:00.000000000",
          "2021-01-01T00:00:00.000000000",
          "2021-02-01T00:00:00.000000000",
          "2021-03-01T00:00:00.000000000",
          "2021-04-01T00:00:00.000000000",
          "2021-05-01T00:00:00.000000000",
          "2021-06-01T00:00:00.000000000",
          "2021-07-01T00:00:00.000000000",
          "2021-08-01T00:00:00.000000000",
          "2021-09-01T00:00:00.000000000",
          "2021-10-01T00:00:00.000000000",
          "2021-11-01T00:00:00.000000000",
          "2021-12-01T00:00:00.000000000",
          "2022-01-01T00:00:00.000000000",
          "2022-02-01T00:00:00.000000000",
          "2022-03-01T00:00:00.000000000",
          "2022-04-01T00:00:00.000000000",
          "2022-05-01T00:00:00.000000000",
          "2022-06-01T00:00:00.000000000",
          "2022-07-01T00:00:00.000000000",
          "2022-08-01T00:00:00.000000000",
          "2022-09-01T00:00:00.000000000",
          "2022-10-01T00:00:00.000000000",
          "2022-11-01T00:00:00.000000000",
          "2022-12-01T00:00:00.000000000",
          "2023-01-01T00:00:00.000000000",
          "2023-02-01T00:00:00.000000000",
          "2023-03-01T00:00:00.000000000",
          "2023-04-01T00:00:00.000000000",
          "2023-05-01T00:00:00.000000000",
          "2023-06-01T00:00:00.000000000",
          "2023-07-01T00:00:00.000000000",
          "2023-08-01T00:00:00.000000000",
          "2023-09-01T00:00:00.000000000",
          "2023-10-01T00:00:00.000000000",
          "2023-11-01T00:00:00.000000000",
          "2023-12-01T00:00:00.000000000",
          "2024-01-01T00:00:00.000000000",
          "2024-02-01T00:00:00.000000000",
          "2024-03-01T00:00:00.000000000",
          "2024-04-01T00:00:00.000000000",
          "2024-05-01T00:00:00.000000000",
          "2024-06-01T00:00:00.000000000",
          "2024-07-01T00:00:00.000000000",
          "2024-08-01T00:00:00.000000000",
          "2024-09-01T00:00:00.000000000",
          "2024-10-01T00:00:00.000000000",
          "2024-11-01T00:00:00.000000000",
          "2024-12-01T00:00:00.000000000"
         ],
         "y": [
          1107.2741697733954,
          1115.486224705211,
          1123.6982796370266,
          1131.9103345688422,
          1140.1223895006578,
          1148.3344444324734,
          1156.546499364289,
          1164.7585542961049,
          1172.9706092279205,
          1181.182664159736,
          1189.3947190915517,
          1197.6067740233673,
          1205.8188289551829,
          1214.0308838869985,
          1222.242938818814,
          1230.4549937506297,
          1238.6670486824453,
          1246.8791036142609,
          1255.0911585460765,
          1263.303213477892,
          1271.515268409708,
          1279.7273233415235,
          1287.9393782733391,
          1296.1514332051547,
          1304.3634881369703,
          1312.575543068786,
          1320.7875980006015,
          1328.9996529324171,
          1337.2117078642327,
          1345.4237627960483,
          1353.635817727864,
          1361.8478726596795,
          1370.0599275914951,
          1378.2719825233107,
          1386.4840374551263,
          1394.696092386942,
          1402.9081473187575,
          1411.1202022505734,
          1419.332257182389,
          1427.5443121142046,
          1435.7563670460202,
          1443.9684219778358,
          1452.1804769096514,
          1460.392531841467,
          1468.6045867732826,
          1476.8166417050982,
          1485.0286966369138,
          1493.2407515687296,
          1457.4528065005452,
          1465.6648614323608,
          1473.8769163641764,
          1482.088971295992,
          1490.3010262278076,
          1498.5130811596232,
          1506.7251360914388,
          1675.9371910232544,
          1749.14924595507,
          1821.3613008868856,
          1894.5733558187012,
          1967.7854107505168,
          2040.9974656823324,
          2113.209520614148,
          2186.4215755459636,
          1044.6336304777792,
          1052.8456854095948,
          2405.0577403414104,
          2478.269795273226,
          2551.481850205042,
          2624.693905136857,
          2696.9059600686733,
          2770.1180150004884,
          2843.3300699323045,
          2916.5421248641196,
          2988.7541797959357,
          3061.9662347277513,
          3135.178289659567,
          3208.3903445913825,
          3280.602399523198,
          3353.8144544550137,
          3427.0265093868293,
          3500.238564318645,
          3572.4506192504605,
          3645.662674182276,
          3718.8747291140917,
          3791.0867840459073,
          3864.298838977723,
          3937.5108939095385,
          4010.722948841354,
          4082.9350037731697,
          4156.147058704985,
          4229.359113636801,
          4302.5711685686165,
          4374.783223500432,
          4447.995278432248,
          4521.207333364064,
          4594.419388295879,
          4666.631443227695,
          4739.84349815951,
          4813.055553091326,
          4886.267608023141,
          4958.479662954957,
          5031.6917178867725,
          5104.903772818589,
          5178.115827750404,
          5250.32788268222,
          5323.539937614036,
          5396.751992545851,
          5469.964047477666
         ]
        }
       ],
       "layout": {
        "legend": {
         "title": {
          "text": "Legend"
         }
        },
        "template": {
         "data": {
          "bar": [
           {
            "error_x": {
             "color": "#2a3f5f"
            },
            "error_y": {
             "color": "#2a3f5f"
            },
            "marker": {
             "line": {
              "color": "#E5ECF6",
              "width": 0.5
             },
             "pattern": {
              "fillmode": "overlay",
              "size": 10,
              "solidity": 0.2
             }
            },
            "type": "bar"
           }
          ],
          "barpolar": [
           {
            "marker": {
             "line": {
              "color": "#E5ECF6",
              "width": 0.5
             },
             "pattern": {
              "fillmode": "overlay",
              "size": 10,
              "solidity": 0.2
             }
            },
            "type": "barpolar"
           }
          ],
          "carpet": [
           {
            "aaxis": {
             "endlinecolor": "#2a3f5f",
             "gridcolor": "white",
             "linecolor": "white",
             "minorgridcolor": "white",
             "startlinecolor": "#2a3f5f"
            },
            "baxis": {
             "endlinecolor": "#2a3f5f",
             "gridcolor": "white",
             "linecolor": "white",
             "minorgridcolor": "white",
             "startlinecolor": "#2a3f5f"
            },
            "type": "carpet"
           }
          ],
          "choropleth": [
           {
            "colorbar": {
             "outlinewidth": 0,
             "ticks": ""
            },
            "type": "choropleth"
           }
          ],
          "contour": [
           {
            "colorbar": {
             "outlinewidth": 0,
             "ticks": ""
            },
            "colorscale": [
             [
              0,
              "#0d0887"
             ],
             [
              0.1111111111111111,
              "#46039f"
             ],
             [
              0.2222222222222222,
              "#7201a8"
             ],
             [
              0.3333333333333333,
              "#9c179e"
             ],
             [
              0.4444444444444444,
              "#bd3786"
             ],
             [
              0.5555555555555556,
              "#d8576b"
             ],
             [
              0.6666666666666666,
              "#ed7953"
             ],
             [
              0.7777777777777778,
              "#fb9f3a"
             ],
             [
              0.8888888888888888,
              "#fdca26"
             ],
             [
              1,
              "#f0f921"
             ]
            ],
            "type": "contour"
           }
          ],
          "contourcarpet": [
           {
            "colorbar": {
             "outlinewidth": 0,
             "ticks": ""
            },
            "type": "contourcarpet"
           }
          ],
          "heatmap": [
           {
            "colorbar": {
             "outlinewidth": 0,
             "ticks": ""
            },
            "colorscale": [
             [
              0,
              "#0d0887"
             ],
             [
              0.1111111111111111,
              "#46039f"
             ],
             [
              0.2222222222222222,
              "#7201a8"
             ],
             [
              0.3333333333333333,
              "#9c179e"
             ],
             [
              0.4444444444444444,
              "#bd3786"
             ],
             [
              0.5555555555555556,
              "#d8576b"
             ],
             [
              0.6666666666666666,
              "#ed7953"
             ],
             [
              0.7777777777777778,
              "#fb9f3a"
             ],
             [
              0.8888888888888888,
              "#fdca26"
             ],
             [
              1,
              "#f0f921"
             ]
            ],
            "type": "heatmap"
           }
          ],
          "heatmapgl": [
           {
            "colorbar": {
             "outlinewidth": 0,
             "ticks": ""
            },
            "colorscale": [
             [
              0,
              "#0d0887"
             ],
             [
              0.1111111111111111,
              "#46039f"
             ],
             [
              0.2222222222222222,
              "#7201a8"
             ],
             [
              0.3333333333333333,
              "#9c179e"
             ],
             [
              0.4444444444444444,
              "#bd3786"
             ],
             [
              0.5555555555555556,
              "#d8576b"
             ],
             [
              0.6666666666666666,
              "#ed7953"
             ],
             [
              0.7777777777777778,
              "#fb9f3a"
             ],
             [
              0.8888888888888888,
              "#fdca26"
             ],
             [
              1,
              "#f0f921"
             ]
            ],
            "type": "heatmapgl"
           }
          ],
          "histogram": [
           {
            "marker": {
             "pattern": {
              "fillmode": "overlay",
              "size": 10,
              "solidity": 0.2
             }
            },
            "type": "histogram"
           }
          ],
          "histogram2d": [
           {
            "colorbar": {
             "outlinewidth": 0,
             "ticks": ""
            },
            "colorscale": [
             [
              0,
              "#0d0887"
             ],
             [
              0.1111111111111111,
              "#46039f"
             ],
             [
              0.2222222222222222,
              "#7201a8"
             ],
             [
              0.3333333333333333,
              "#9c179e"
             ],
             [
              0.4444444444444444,
              "#bd3786"
             ],
             [
              0.5555555555555556,
              "#d8576b"
             ],
             [
              0.6666666666666666,
              "#ed7953"
             ],
             [
              0.7777777777777778,
              "#fb9f3a"
             ],
             [
              0.8888888888888888,
              "#fdca26"
             ],
             [
              1,
              "#f0f921"
             ]
            ],
            "type": "histogram2d"
           }
          ],
          "histogram2dcontour": [
           {
            "colorbar": {
             "outlinewidth": 0,
             "ticks": ""
            },
            "colorscale": [
             [
              0,
              "#0d0887"
             ],
             [
              0.1111111111111111,
              "#46039f"
             ],
             [
              0.2222222222222222,
              "#7201a8"
             ],
             [
              0.3333333333333333,
              "#9c179e"
             ],
             [
              0.4444444444444444,
              "#bd3786"
             ],
             [
              0.5555555555555556,
              "#d8576b"
             ],
             [
              0.6666666666666666,
              "#ed7953"
             ],
             [
              0.7777777777777778,
              "#fb9f3a"
             ],
             [
              0.8888888888888888,
              "#fdca26"
             ],
             [
              1,
              "#f0f921"
             ]
            ],
            "type": "histogram2dcontour"
           }
          ],
          "mesh3d": [
           {
            "colorbar": {
             "outlinewidth": 0,
             "ticks": ""
            },
            "type": "mesh3d"
           }
          ],
          "parcoords": [
           {
            "line": {
             "colorbar": {
              "outlinewidth": 0,
              "ticks": ""
             }
            },
            "type": "parcoords"
           }
          ],
          "pie": [
           {
            "automargin": true,
            "type": "pie"
           }
          ],
          "scatter": [
           {
            "fillpattern": {
             "fillmode": "overlay",
             "size": 10,
             "solidity": 0.2
            },
            "type": "scatter"
           }
          ],
          "scatter3d": [
           {
            "line": {
             "colorbar": {
              "outlinewidth": 0,
              "ticks": ""
             }
            },
            "marker": {
             "colorbar": {
              "outlinewidth": 0,
              "ticks": ""
             }
            },
            "type": "scatter3d"
           }
          ],
          "scattercarpet": [
           {
            "marker": {
             "colorbar": {
              "outlinewidth": 0,
              "ticks": ""
             }
            },
            "type": "scattercarpet"
           }
          ],
          "scattergeo": [
           {
            "marker": {
             "colorbar": {
              "outlinewidth": 0,
              "ticks": ""
             }
            },
            "type": "scattergeo"
           }
          ],
          "scattergl": [
           {
            "marker": {
             "colorbar": {
              "outlinewidth": 0,
              "ticks": ""
             }
            },
            "type": "scattergl"
           }
          ],
          "scattermapbox": [
           {
            "marker": {
             "colorbar": {
              "outlinewidth": 0,
              "ticks": ""
             }
            },
            "type": "scattermapbox"
           }
          ],
          "scatterpolar": [
           {
            "marker": {
             "colorbar": {
              "outlinewidth": 0,
              "ticks": ""
             }
            },
            "type": "scatterpolar"
           }
          ],
          "scatterpolargl": [
           {
            "marker": {
             "colorbar": {
              "outlinewidth": 0,
              "ticks": ""
             }
            },
            "type": "scatterpolargl"
           }
          ],
          "scatterternary": [
           {
            "marker": {
             "colorbar": {
              "outlinewidth": 0,
              "ticks": ""
             }
            },
            "type": "scatterternary"
           }
          ],
          "surface": [
           {
            "colorbar": {
             "outlinewidth": 0,
             "ticks": ""
            },
            "colorscale": [
             [
              0,
              "#0d0887"
             ],
             [
              0.1111111111111111,
              "#46039f"
             ],
             [
              0.2222222222222222,
              "#7201a8"
             ],
             [
              0.3333333333333333,
              "#9c179e"
             ],
             [
              0.4444444444444444,
              "#bd3786"
             ],
             [
              0.5555555555555556,
              "#d8576b"
             ],
             [
              0.6666666666666666,
              "#ed7953"
             ],
             [
              0.7777777777777778,
              "#fb9f3a"
             ],
             [
              0.8888888888888888,
              "#fdca26"
             ],
             [
              1,
              "#f0f921"
             ]
            ],
            "type": "surface"
           }
          ],
          "table": [
           {
            "cells": {
             "fill": {
              "color": "#EBF0F8"
             },
             "line": {
              "color": "white"
             }
            },
            "header": {
             "fill": {
              "color": "#C8D4E3"
             },
             "line": {
              "color": "white"
             }
            },
            "type": "table"
           }
          ]
         },
         "layout": {
          "annotationdefaults": {
           "arrowcolor": "#2a3f5f",
           "arrowhead": 0,
           "arrowwidth": 1
          },
          "autotypenumbers": "strict",
          "coloraxis": {
           "colorbar": {
            "outlinewidth": 0,
            "ticks": ""
           }
          },
          "colorscale": {
           "diverging": [
            [
             0,
             "#8e0152"
            ],
            [
             0.1,
             "#c51b7d"
            ],
            [
             0.2,
             "#de77ae"
            ],
            [
             0.3,
             "#f1b6da"
            ],
            [
             0.4,
             "#fde0ef"
            ],
            [
             0.5,
             "#f7f7f7"
            ],
            [
             0.6,
             "#e6f5d0"
            ],
            [
             0.7,
             "#b8e186"
            ],
            [
             0.8,
             "#7fbc41"
            ],
            [
             0.9,
             "#4d9221"
            ],
            [
             1,
             "#276419"
            ]
           ],
           "sequential": [
            [
             0,
             "#0d0887"
            ],
            [
             0.1111111111111111,
             "#46039f"
            ],
            [
             0.2222222222222222,
             "#7201a8"
            ],
            [
             0.3333333333333333,
             "#9c179e"
            ],
            [
             0.4444444444444444,
             "#bd3786"
            ],
            [
             0.5555555555555556,
             "#d8576b"
            ],
            [
             0.6666666666666666,
             "#ed7953"
            ],
            [
             0.7777777777777778,
             "#fb9f3a"
            ],
            [
             0.8888888888888888,
             "#fdca26"
            ],
            [
             1,
             "#f0f921"
            ]
           ],
           "sequentialminus": [
            [
             0,
             "#0d0887"
            ],
            [
             0.1111111111111111,
             "#46039f"
            ],
            [
             0.2222222222222222,
             "#7201a8"
            ],
            [
             0.3333333333333333,
             "#9c179e"
            ],
            [
             0.4444444444444444,
             "#bd3786"
            ],
            [
             0.5555555555555556,
             "#d8576b"
            ],
            [
             0.6666666666666666,
             "#ed7953"
            ],
            [
             0.7777777777777778,
             "#fb9f3a"
            ],
            [
             0.8888888888888888,
             "#fdca26"
            ],
            [
             1,
             "#f0f921"
            ]
           ]
          },
          "colorway": [
           "#636efa",
           "#EF553B",
           "#00cc96",
           "#ab63fa",
           "#FFA15A",
           "#19d3f3",
           "#FF6692",
           "#B6E880",
           "#FF97FF",
           "#FECB52"
          ],
          "font": {
           "color": "#2a3f5f"
          },
          "geo": {
           "bgcolor": "white",
           "lakecolor": "white",
           "landcolor": "#E5ECF6",
           "showlakes": true,
           "showland": true,
           "subunitcolor": "white"
          },
          "hoverlabel": {
           "align": "left"
          },
          "hovermode": "closest",
          "mapbox": {
           "style": "light"
          },
          "paper_bgcolor": "white",
          "plot_bgcolor": "#E5ECF6",
          "polar": {
           "angularaxis": {
            "gridcolor": "white",
            "linecolor": "white",
            "ticks": ""
           },
           "bgcolor": "#E5ECF6",
           "radialaxis": {
            "gridcolor": "white",
            "linecolor": "white",
            "ticks": ""
           }
          },
          "scene": {
           "xaxis": {
            "backgroundcolor": "#E5ECF6",
            "gridcolor": "white",
            "gridwidth": 2,
            "linecolor": "white",
            "showbackground": true,
            "ticks": "",
            "zerolinecolor": "white"
           },
           "yaxis": {
            "backgroundcolor": "#E5ECF6",
            "gridcolor": "white",
            "gridwidth": 2,
            "linecolor": "white",
            "showbackground": true,
            "ticks": "",
            "zerolinecolor": "white"
           },
           "zaxis": {
            "backgroundcolor": "#E5ECF6",
            "gridcolor": "white",
            "gridwidth": 2,
            "linecolor": "white",
            "showbackground": true,
            "ticks": "",
            "zerolinecolor": "white"
           }
          },
          "shapedefaults": {
           "line": {
            "color": "#2a3f5f"
           }
          },
          "ternary": {
           "aaxis": {
            "gridcolor": "white",
            "linecolor": "white",
            "ticks": ""
           },
           "baxis": {
            "gridcolor": "white",
            "linecolor": "white",
            "ticks": ""
           },
           "bgcolor": "#E5ECF6",
           "caxis": {
            "gridcolor": "white",
            "linecolor": "white",
            "ticks": ""
           }
          },
          "title": {
           "x": 0.05
          },
          "xaxis": {
           "automargin": true,
           "gridcolor": "white",
           "linecolor": "white",
           "ticks": "",
           "title": {
            "standoff": 15
           },
           "zerolinecolor": "white",
           "zerolinewidth": 2
          },
          "yaxis": {
           "automargin": true,
           "gridcolor": "white",
           "linecolor": "white",
           "ticks": "",
           "title": {
            "standoff": 15
           },
           "zerolinecolor": "white",
           "zerolinewidth": 2
          }
         }
        },
        "title": {
         "text": "F40-F48 - Transtornos neuróticos, transtornos relacionados com o \"stress\" e transtornos somatoformes"
        },
        "xaxis": {
         "title": {
          "text": "Time"
         }
        },
        "yaxis": {
         "title": {
          "text": "Value"
         }
        }
       }
      }
     },
     "metadata": {},
     "output_type": "display_data"
    },
    {
     "data": {
      "application/vnd.plotly.v1+json": {
       "config": {
        "plotlyServerURL": "https://plot.ly"
       },
       "data": [
        {
         "marker": {
          "color": "black"
         },
         "mode": "markers",
         "name": "Real",
         "type": "scatter",
         "x": [
          "2016-01-01T00:00:00.000000000",
          "2016-02-01T00:00:00.000000000",
          "2016-03-01T00:00:00.000000000",
          "2016-04-01T00:00:00.000000000",
          "2016-05-01T00:00:00.000000000",
          "2016-06-01T00:00:00.000000000",
          "2016-07-01T00:00:00.000000000",
          "2016-08-01T00:00:00.000000000",
          "2016-09-01T00:00:00.000000000",
          "2016-10-01T00:00:00.000000000",
          "2016-11-01T00:00:00.000000000",
          "2016-12-01T00:00:00.000000000",
          "2017-01-01T00:00:00.000000000",
          "2017-02-01T00:00:00.000000000",
          "2017-03-01T00:00:00.000000000",
          "2017-04-01T00:00:00.000000000",
          "2017-05-01T00:00:00.000000000",
          "2017-06-01T00:00:00.000000000",
          "2017-07-01T00:00:00.000000000",
          "2017-08-01T00:00:00.000000000",
          "2017-09-01T00:00:00.000000000",
          "2017-10-01T00:00:00.000000000",
          "2017-11-01T00:00:00.000000000",
          "2017-12-01T00:00:00.000000000",
          "2018-01-01T00:00:00.000000000",
          "2018-02-01T00:00:00.000000000",
          "2018-03-01T00:00:00.000000000",
          "2018-04-01T00:00:00.000000000",
          "2018-05-01T00:00:00.000000000",
          "2018-06-01T00:00:00.000000000",
          "2018-07-01T00:00:00.000000000",
          "2018-08-01T00:00:00.000000000",
          "2018-09-01T00:00:00.000000000",
          "2018-10-01T00:00:00.000000000",
          "2018-11-01T00:00:00.000000000",
          "2018-12-01T00:00:00.000000000",
          "2019-01-01T00:00:00.000000000",
          "2019-02-01T00:00:00.000000000",
          "2019-03-01T00:00:00.000000000",
          "2019-04-01T00:00:00.000000000",
          "2019-05-01T00:00:00.000000000",
          "2019-06-01T00:00:00.000000000",
          "2019-07-01T00:00:00.000000000",
          "2019-08-01T00:00:00.000000000",
          "2019-09-01T00:00:00.000000000",
          "2019-10-01T00:00:00.000000000",
          "2019-11-01T00:00:00.000000000",
          "2019-12-01T00:00:00.000000000",
          "2020-01-01T00:00:00.000000000",
          "2020-02-01T00:00:00.000000000",
          "2020-03-01T00:00:00.000000000",
          "2020-04-01T00:00:00.000000000",
          "2020-05-01T00:00:00.000000000",
          "2020-06-01T00:00:00.000000000",
          "2020-07-01T00:00:00.000000000",
          "2020-08-01T00:00:00.000000000",
          "2020-09-01T00:00:00.000000000",
          "2020-10-01T00:00:00.000000000",
          "2020-11-01T00:00:00.000000000",
          "2020-12-01T00:00:00.000000000",
          "2021-01-01T00:00:00.000000000",
          "2021-02-01T00:00:00.000000000",
          "2021-03-01T00:00:00.000000000",
          "2021-04-01T00:00:00.000000000",
          "2021-05-01T00:00:00.000000000",
          "2021-06-01T00:00:00.000000000",
          "2021-07-01T00:00:00.000000000",
          "2021-08-01T00:00:00.000000000",
          "2021-09-01T00:00:00.000000000",
          "2021-10-01T00:00:00.000000000",
          "2021-11-01T00:00:00.000000000",
          "2021-12-01T00:00:00.000000000",
          "2022-01-01T00:00:00.000000000",
          "2022-02-01T00:00:00.000000000",
          "2022-03-01T00:00:00.000000000",
          "2022-04-01T00:00:00.000000000",
          "2022-05-01T00:00:00.000000000",
          "2022-06-01T00:00:00.000000000",
          "2022-07-01T00:00:00.000000000",
          "2022-08-01T00:00:00.000000000",
          "2022-09-01T00:00:00.000000000",
          "2022-10-01T00:00:00.000000000",
          "2022-11-01T00:00:00.000000000",
          "2022-12-01T00:00:00.000000000",
          "2023-01-01T00:00:00.000000000",
          "2023-02-01T00:00:00.000000000",
          "2023-03-01T00:00:00.000000000",
          "2023-04-01T00:00:00.000000000",
          "2023-05-01T00:00:00.000000000",
          "2023-06-01T00:00:00.000000000",
          "2023-07-01T00:00:00.000000000",
          "2023-08-01T00:00:00.000000000",
          "2023-09-01T00:00:00.000000000",
          "2023-10-01T00:00:00.000000000",
          "2023-11-01T00:00:00.000000000",
          "2023-12-01T00:00:00.000000000",
          "2024-01-01T00:00:00.000000000",
          "2024-02-01T00:00:00.000000000",
          "2024-03-01T00:00:00.000000000",
          "2024-04-01T00:00:00.000000000",
          "2024-05-01T00:00:00.000000000",
          "2024-06-01T00:00:00.000000000",
          "2024-07-01T00:00:00.000000000",
          "2024-08-01T00:00:00.000000000",
          "2024-09-01T00:00:00.000000000",
          "2024-10-01T00:00:00.000000000",
          "2024-11-01T00:00:00.000000000",
          "2024-12-01T00:00:00.000000000"
         ],
         "y": [
          79,
          70,
          101,
          82,
          168,
          148,
          143,
          167,
          136,
          157,
          105,
          124,
          102,
          85,
          140,
          112,
          121,
          122,
          120,
          135,
          98,
          111,
          109,
          99,
          88,
          95,
          140,
          152,
          150,
          109,
          142,
          134,
          119,
          118,
          118,
          78,
          137,
          108,
          100,
          149,
          153,
          113,
          122,
          135,
          124,
          118,
          85,
          88,
          96,
          81,
          64,
          73,
          118,
          139,
          154,
          144,
          166,
          154,
          177,
          145,
          148,
          129,
          110,
          94,
          33,
          157,
          161,
          181,
          173,
          163,
          136,
          151,
          85,
          119,
          166,
          125,
          162,
          133,
          157,
          208,
          176,
          160,
          172,
          136,
          181,
          149,
          169,
          140,
          187,
          186,
          188,
          206,
          178,
          192,
          177,
          210,
          199,
          153,
          186,
          217,
          144,
          194,
          201,
          165,
          157,
          222,
          150,
          154
         ]
        },
        {
         "line": {
          "color": "black",
          "dash": "dot"
         },
         "mode": "lines",
         "name": "Baseline",
         "type": "scatter",
         "x": [
          "2016-01-01T00:00:00.000000000",
          "2016-02-01T00:00:00.000000000",
          "2016-03-01T00:00:00.000000000",
          "2016-04-01T00:00:00.000000000",
          "2016-05-01T00:00:00.000000000",
          "2016-06-01T00:00:00.000000000",
          "2016-07-01T00:00:00.000000000",
          "2016-08-01T00:00:00.000000000",
          "2016-09-01T00:00:00.000000000",
          "2016-10-01T00:00:00.000000000",
          "2016-11-01T00:00:00.000000000",
          "2016-12-01T00:00:00.000000000",
          "2017-01-01T00:00:00.000000000",
          "2017-02-01T00:00:00.000000000",
          "2017-03-01T00:00:00.000000000",
          "2017-04-01T00:00:00.000000000",
          "2017-05-01T00:00:00.000000000",
          "2017-06-01T00:00:00.000000000",
          "2017-07-01T00:00:00.000000000",
          "2017-08-01T00:00:00.000000000",
          "2017-09-01T00:00:00.000000000",
          "2017-10-01T00:00:00.000000000",
          "2017-11-01T00:00:00.000000000",
          "2017-12-01T00:00:00.000000000",
          "2018-01-01T00:00:00.000000000",
          "2018-02-01T00:00:00.000000000",
          "2018-03-01T00:00:00.000000000",
          "2018-04-01T00:00:00.000000000",
          "2018-05-01T00:00:00.000000000",
          "2018-06-01T00:00:00.000000000",
          "2018-07-01T00:00:00.000000000",
          "2018-08-01T00:00:00.000000000",
          "2018-09-01T00:00:00.000000000",
          "2018-10-01T00:00:00.000000000",
          "2018-11-01T00:00:00.000000000",
          "2018-12-01T00:00:00.000000000",
          "2019-01-01T00:00:00.000000000",
          "2019-02-01T00:00:00.000000000",
          "2019-03-01T00:00:00.000000000",
          "2019-04-01T00:00:00.000000000",
          "2019-05-01T00:00:00.000000000",
          "2019-06-01T00:00:00.000000000",
          "2019-07-01T00:00:00.000000000",
          "2019-08-01T00:00:00.000000000",
          "2019-09-01T00:00:00.000000000",
          "2019-10-01T00:00:00.000000000",
          "2019-11-01T00:00:00.000000000",
          "2019-12-01T00:00:00.000000000",
          "2020-01-01T00:00:00.000000000",
          "2020-02-01T00:00:00.000000000",
          "2020-03-01T00:00:00.000000000",
          "2020-04-01T00:00:00.000000000",
          "2020-05-01T00:00:00.000000000",
          "2020-06-01T00:00:00.000000000",
          "2020-07-01T00:00:00.000000000",
          "2020-08-01T00:00:00.000000000",
          "2020-09-01T00:00:00.000000000",
          "2020-10-01T00:00:00.000000000",
          "2020-11-01T00:00:00.000000000",
          "2020-12-01T00:00:00.000000000",
          "2021-01-01T00:00:00.000000000",
          "2021-02-01T00:00:00.000000000",
          "2021-03-01T00:00:00.000000000",
          "2021-04-01T00:00:00.000000000",
          "2021-05-01T00:00:00.000000000",
          "2021-06-01T00:00:00.000000000",
          "2021-07-01T00:00:00.000000000",
          "2021-08-01T00:00:00.000000000",
          "2021-09-01T00:00:00.000000000",
          "2021-10-01T00:00:00.000000000",
          "2021-11-01T00:00:00.000000000",
          "2021-12-01T00:00:00.000000000",
          "2022-01-01T00:00:00.000000000",
          "2022-02-01T00:00:00.000000000",
          "2022-03-01T00:00:00.000000000",
          "2022-04-01T00:00:00.000000000",
          "2022-05-01T00:00:00.000000000",
          "2022-06-01T00:00:00.000000000",
          "2022-07-01T00:00:00.000000000",
          "2022-08-01T00:00:00.000000000",
          "2022-09-01T00:00:00.000000000",
          "2022-10-01T00:00:00.000000000",
          "2022-11-01T00:00:00.000000000",
          "2022-12-01T00:00:00.000000000",
          "2023-01-01T00:00:00.000000000",
          "2023-02-01T00:00:00.000000000",
          "2023-03-01T00:00:00.000000000",
          "2023-04-01T00:00:00.000000000",
          "2023-05-01T00:00:00.000000000",
          "2023-06-01T00:00:00.000000000",
          "2023-07-01T00:00:00.000000000",
          "2023-08-01T00:00:00.000000000",
          "2023-09-01T00:00:00.000000000",
          "2023-10-01T00:00:00.000000000",
          "2023-11-01T00:00:00.000000000",
          "2023-12-01T00:00:00.000000000",
          "2024-01-01T00:00:00.000000000",
          "2024-02-01T00:00:00.000000000",
          "2024-03-01T00:00:00.000000000",
          "2024-04-01T00:00:00.000000000",
          "2024-05-01T00:00:00.000000000",
          "2024-06-01T00:00:00.000000000",
          "2024-07-01T00:00:00.000000000",
          "2024-08-01T00:00:00.000000000",
          "2024-09-01T00:00:00.000000000",
          "2024-10-01T00:00:00.000000000",
          "2024-11-01T00:00:00.000000000",
          "2024-12-01T00:00:00.000000000"
         ],
         "y": [
          108.08773803557968,
          108.02230004643673,
          107.95686205729378,
          107.89142406815084,
          107.82598607900789,
          107.76054808986494,
          107.69511010072199,
          107.62967211157904,
          107.56423412243609,
          107.49879613329314,
          107.4333581441502,
          107.36792015500725,
          107.3024821658643,
          107.23704417672135,
          107.1716061875784,
          107.10616819843545,
          107.0407302092925,
          106.97529222014956,
          106.90985423100662,
          106.84441624186367,
          106.77897825272072,
          106.71354026357777,
          106.64810227443482,
          106.58266428529187,
          106.51722629614892,
          106.45178830700598,
          106.38635031786303,
          106.32091232872008,
          106.25547433957713,
          106.19003635043418,
          106.12459836129123,
          106.05916037214828,
          105.99372238300535,
          105.9282843938624,
          105.86284640471945,
          105.7974084155765,
          105.73197042643355,
          105.6665324372906,
          105.60109444814765,
          105.53565645900471,
          105.47021846986176,
          105.40478048071881,
          105.33934249157586,
          105.27390450243291,
          105.20846651328996,
          105.14302852414701,
          105.07759053500406,
          105.01215254586113,
          104.94671455671818,
          104.88127656757523,
          104.81583857843228,
          104.75040058928933,
          104.68496260014638,
          104.61952461100343,
          104.55408662186049,
          104.48864863271754,
          104.42321064357459,
          104.35777265443164,
          104.29233466528869,
          104.22689667614574,
          104.16145868700279,
          104.09602069785986,
          104.0305827087169,
          103.96514471957396,
          103.899706730431,
          103.83426874128806,
          103.7688307521451,
          103.70339276300216,
          103.6379547738592,
          103.57251678471627,
          103.50707879557332,
          103.44164080643037,
          103.37620281728742,
          103.31076482814447,
          103.24532683900152,
          103.17988884985857,
          103.11445086071564,
          103.04901287157269,
          102.98357488242974,
          102.91813689328679,
          102.85269890414384,
          102.78726091500089,
          102.72182292585794,
          102.656384936715,
          102.59094694757205,
          102.5255089584291,
          102.46007096928615,
          102.3946329801432,
          102.32919499100025,
          102.2637570018573,
          102.19831901271436,
          102.13288102357141,
          102.06744303442846,
          102.00200504528551,
          101.93656705614256,
          101.87112906699961,
          101.80569107785666,
          101.74025308871373,
          101.67481509957078,
          101.60937711042783,
          101.54393912128488,
          101.47850113214193,
          101.41306314299898,
          101.34762515385603,
          101.28218716471308,
          101.21674917557014,
          101.1513111864272,
          101.08587319728424
         ]
        },
        {
         "line": {
          "color": "purple"
         },
         "mode": "lines",
         "name": "Full model",
         "type": "scatter",
         "x": [
          "2016-01-01T00:00:00.000000000",
          "2016-02-01T00:00:00.000000000",
          "2016-03-01T00:00:00.000000000",
          "2016-04-01T00:00:00.000000000",
          "2016-05-01T00:00:00.000000000",
          "2016-06-01T00:00:00.000000000",
          "2016-07-01T00:00:00.000000000",
          "2016-08-01T00:00:00.000000000",
          "2016-09-01T00:00:00.000000000",
          "2016-10-01T00:00:00.000000000",
          "2016-11-01T00:00:00.000000000",
          "2016-12-01T00:00:00.000000000",
          "2017-01-01T00:00:00.000000000",
          "2017-02-01T00:00:00.000000000",
          "2017-03-01T00:00:00.000000000",
          "2017-04-01T00:00:00.000000000",
          "2017-05-01T00:00:00.000000000",
          "2017-06-01T00:00:00.000000000",
          "2017-07-01T00:00:00.000000000",
          "2017-08-01T00:00:00.000000000",
          "2017-09-01T00:00:00.000000000",
          "2017-10-01T00:00:00.000000000",
          "2017-11-01T00:00:00.000000000",
          "2017-12-01T00:00:00.000000000",
          "2018-01-01T00:00:00.000000000",
          "2018-02-01T00:00:00.000000000",
          "2018-03-01T00:00:00.000000000",
          "2018-04-01T00:00:00.000000000",
          "2018-05-01T00:00:00.000000000",
          "2018-06-01T00:00:00.000000000",
          "2018-07-01T00:00:00.000000000",
          "2018-08-01T00:00:00.000000000",
          "2018-09-01T00:00:00.000000000",
          "2018-10-01T00:00:00.000000000",
          "2018-11-01T00:00:00.000000000",
          "2018-12-01T00:00:00.000000000",
          "2019-01-01T00:00:00.000000000",
          "2019-02-01T00:00:00.000000000",
          "2019-03-01T00:00:00.000000000",
          "2019-04-01T00:00:00.000000000",
          "2019-05-01T00:00:00.000000000",
          "2019-06-01T00:00:00.000000000",
          "2019-07-01T00:00:00.000000000",
          "2019-08-01T00:00:00.000000000",
          "2019-09-01T00:00:00.000000000",
          "2019-10-01T00:00:00.000000000",
          "2019-11-01T00:00:00.000000000",
          "2019-12-01T00:00:00.000000000",
          "2020-01-01T00:00:00.000000000",
          "2020-02-01T00:00:00.000000000",
          "2020-03-01T00:00:00.000000000",
          "2020-04-01T00:00:00.000000000",
          "2020-05-01T00:00:00.000000000",
          "2020-06-01T00:00:00.000000000",
          "2020-07-01T00:00:00.000000000",
          "2020-08-01T00:00:00.000000000",
          "2020-09-01T00:00:00.000000000",
          "2020-10-01T00:00:00.000000000",
          "2020-11-01T00:00:00.000000000",
          "2020-12-01T00:00:00.000000000",
          "2021-01-01T00:00:00.000000000",
          "2021-02-01T00:00:00.000000000",
          "2021-03-01T00:00:00.000000000",
          "2021-04-01T00:00:00.000000000",
          "2021-05-01T00:00:00.000000000",
          "2021-06-01T00:00:00.000000000",
          "2021-07-01T00:00:00.000000000",
          "2021-08-01T00:00:00.000000000",
          "2021-09-01T00:00:00.000000000",
          "2021-10-01T00:00:00.000000000",
          "2021-11-01T00:00:00.000000000",
          "2021-12-01T00:00:00.000000000",
          "2022-01-01T00:00:00.000000000",
          "2022-02-01T00:00:00.000000000",
          "2022-03-01T00:00:00.000000000",
          "2022-04-01T00:00:00.000000000",
          "2022-05-01T00:00:00.000000000",
          "2022-06-01T00:00:00.000000000",
          "2022-07-01T00:00:00.000000000",
          "2022-08-01T00:00:00.000000000",
          "2022-09-01T00:00:00.000000000",
          "2022-10-01T00:00:00.000000000",
          "2022-11-01T00:00:00.000000000",
          "2022-12-01T00:00:00.000000000",
          "2023-01-01T00:00:00.000000000",
          "2023-02-01T00:00:00.000000000",
          "2023-03-01T00:00:00.000000000",
          "2023-04-01T00:00:00.000000000",
          "2023-05-01T00:00:00.000000000",
          "2023-06-01T00:00:00.000000000",
          "2023-07-01T00:00:00.000000000",
          "2023-08-01T00:00:00.000000000",
          "2023-09-01T00:00:00.000000000",
          "2023-10-01T00:00:00.000000000",
          "2023-11-01T00:00:00.000000000",
          "2023-12-01T00:00:00.000000000",
          "2024-01-01T00:00:00.000000000",
          "2024-02-01T00:00:00.000000000",
          "2024-03-01T00:00:00.000000000",
          "2024-04-01T00:00:00.000000000",
          "2024-05-01T00:00:00.000000000",
          "2024-06-01T00:00:00.000000000",
          "2024-07-01T00:00:00.000000000",
          "2024-08-01T00:00:00.000000000",
          "2024-09-01T00:00:00.000000000",
          "2024-10-01T00:00:00.000000000",
          "2024-11-01T00:00:00.000000000",
          "2024-12-01T00:00:00.000000000"
         ],
         "y": [
          108.08773803557968,
          108.02230004643673,
          107.95686205729378,
          107.89142406815084,
          107.82598607900789,
          107.76054808986494,
          107.69511010072199,
          107.62967211157904,
          107.56423412243609,
          107.49879613329314,
          107.4333581441502,
          107.36792015500725,
          107.3024821658643,
          107.23704417672135,
          107.1716061875784,
          107.10616819843545,
          107.0407302092925,
          106.97529222014956,
          106.90985423100662,
          106.84441624186367,
          106.77897825272072,
          106.71354026357777,
          106.64810227443482,
          106.58266428529187,
          106.51722629614892,
          106.45178830700598,
          106.38635031786303,
          106.32091232872008,
          106.25547433957713,
          106.19003635043418,
          106.12459836129123,
          106.05916037214828,
          105.99372238300535,
          105.9282843938624,
          105.86284640471945,
          105.7974084155765,
          105.73197042643355,
          105.6665324372906,
          105.60109444814765,
          105.53565645900471,
          105.47021846986176,
          105.40478048071881,
          105.33934249157586,
          105.27390450243291,
          105.20846651328996,
          105.14302852414701,
          105.07759053500406,
          105.01215254586113,
          93.94671455671818,
          93.88127656757523,
          93.81583857843228,
          93.75040058928933,
          93.68496260014638,
          93.61952461100343,
          93.55408662186049,
          129.48864863271754,
          130.42321064357458,
          131.35777265443164,
          132.2923346652887,
          133.22689667614574,
          133.16145868700278,
          134.09602069785984,
          135.0305827087169,
          46.965144719573956,
          46.89970673043101,
          137.83426874128804,
          138.7688307521451,
          139.70339276300217,
          140.6379547738592,
          141.57251678471627,
          142.5070787955733,
          143.44164080643037,
          143.37620281728744,
          144.31076482814447,
          145.2453268390015,
          146.17988884985857,
          147.11445086071564,
          148.0490128715727,
          148.98357488242974,
          149.91813689328677,
          150.85269890414384,
          151.7872609150009,
          152.72182292585794,
          153.656384936715,
          153.59094694757204,
          154.5255089584291,
          155.46007096928616,
          156.3946329801432,
          157.32919499100024,
          158.2637570018573,
          159.19831901271436,
          160.13288102357143,
          161.06744303442846,
          162.0020050452855,
          162.93656705614256,
          163.87112906699963,
          163.80569107785666,
          164.74025308871373,
          165.67481509957076,
          166.60937711042783,
          167.5439391212849,
          168.47850113214193,
          169.41306314299896,
          170.34762515385603,
          171.2821871647131,
          172.21674917557016,
          173.1513111864272,
          174.08587319728423
         ]
        }
       ],
       "layout": {
        "legend": {
         "title": {
          "text": "Legend"
         }
        },
        "template": {
         "data": {
          "bar": [
           {
            "error_x": {
             "color": "#2a3f5f"
            },
            "error_y": {
             "color": "#2a3f5f"
            },
            "marker": {
             "line": {
              "color": "#E5ECF6",
              "width": 0.5
             },
             "pattern": {
              "fillmode": "overlay",
              "size": 10,
              "solidity": 0.2
             }
            },
            "type": "bar"
           }
          ],
          "barpolar": [
           {
            "marker": {
             "line": {
              "color": "#E5ECF6",
              "width": 0.5
             },
             "pattern": {
              "fillmode": "overlay",
              "size": 10,
              "solidity": 0.2
             }
            },
            "type": "barpolar"
           }
          ],
          "carpet": [
           {
            "aaxis": {
             "endlinecolor": "#2a3f5f",
             "gridcolor": "white",
             "linecolor": "white",
             "minorgridcolor": "white",
             "startlinecolor": "#2a3f5f"
            },
            "baxis": {
             "endlinecolor": "#2a3f5f",
             "gridcolor": "white",
             "linecolor": "white",
             "minorgridcolor": "white",
             "startlinecolor": "#2a3f5f"
            },
            "type": "carpet"
           }
          ],
          "choropleth": [
           {
            "colorbar": {
             "outlinewidth": 0,
             "ticks": ""
            },
            "type": "choropleth"
           }
          ],
          "contour": [
           {
            "colorbar": {
             "outlinewidth": 0,
             "ticks": ""
            },
            "colorscale": [
             [
              0,
              "#0d0887"
             ],
             [
              0.1111111111111111,
              "#46039f"
             ],
             [
              0.2222222222222222,
              "#7201a8"
             ],
             [
              0.3333333333333333,
              "#9c179e"
             ],
             [
              0.4444444444444444,
              "#bd3786"
             ],
             [
              0.5555555555555556,
              "#d8576b"
             ],
             [
              0.6666666666666666,
              "#ed7953"
             ],
             [
              0.7777777777777778,
              "#fb9f3a"
             ],
             [
              0.8888888888888888,
              "#fdca26"
             ],
             [
              1,
              "#f0f921"
             ]
            ],
            "type": "contour"
           }
          ],
          "contourcarpet": [
           {
            "colorbar": {
             "outlinewidth": 0,
             "ticks": ""
            },
            "type": "contourcarpet"
           }
          ],
          "heatmap": [
           {
            "colorbar": {
             "outlinewidth": 0,
             "ticks": ""
            },
            "colorscale": [
             [
              0,
              "#0d0887"
             ],
             [
              0.1111111111111111,
              "#46039f"
             ],
             [
              0.2222222222222222,
              "#7201a8"
             ],
             [
              0.3333333333333333,
              "#9c179e"
             ],
             [
              0.4444444444444444,
              "#bd3786"
             ],
             [
              0.5555555555555556,
              "#d8576b"
             ],
             [
              0.6666666666666666,
              "#ed7953"
             ],
             [
              0.7777777777777778,
              "#fb9f3a"
             ],
             [
              0.8888888888888888,
              "#fdca26"
             ],
             [
              1,
              "#f0f921"
             ]
            ],
            "type": "heatmap"
           }
          ],
          "heatmapgl": [
           {
            "colorbar": {
             "outlinewidth": 0,
             "ticks": ""
            },
            "colorscale": [
             [
              0,
              "#0d0887"
             ],
             [
              0.1111111111111111,
              "#46039f"
             ],
             [
              0.2222222222222222,
              "#7201a8"
             ],
             [
              0.3333333333333333,
              "#9c179e"
             ],
             [
              0.4444444444444444,
              "#bd3786"
             ],
             [
              0.5555555555555556,
              "#d8576b"
             ],
             [
              0.6666666666666666,
              "#ed7953"
             ],
             [
              0.7777777777777778,
              "#fb9f3a"
             ],
             [
              0.8888888888888888,
              "#fdca26"
             ],
             [
              1,
              "#f0f921"
             ]
            ],
            "type": "heatmapgl"
           }
          ],
          "histogram": [
           {
            "marker": {
             "pattern": {
              "fillmode": "overlay",
              "size": 10,
              "solidity": 0.2
             }
            },
            "type": "histogram"
           }
          ],
          "histogram2d": [
           {
            "colorbar": {
             "outlinewidth": 0,
             "ticks": ""
            },
            "colorscale": [
             [
              0,
              "#0d0887"
             ],
             [
              0.1111111111111111,
              "#46039f"
             ],
             [
              0.2222222222222222,
              "#7201a8"
             ],
             [
              0.3333333333333333,
              "#9c179e"
             ],
             [
              0.4444444444444444,
              "#bd3786"
             ],
             [
              0.5555555555555556,
              "#d8576b"
             ],
             [
              0.6666666666666666,
              "#ed7953"
             ],
             [
              0.7777777777777778,
              "#fb9f3a"
             ],
             [
              0.8888888888888888,
              "#fdca26"
             ],
             [
              1,
              "#f0f921"
             ]
            ],
            "type": "histogram2d"
           }
          ],
          "histogram2dcontour": [
           {
            "colorbar": {
             "outlinewidth": 0,
             "ticks": ""
            },
            "colorscale": [
             [
              0,
              "#0d0887"
             ],
             [
              0.1111111111111111,
              "#46039f"
             ],
             [
              0.2222222222222222,
              "#7201a8"
             ],
             [
              0.3333333333333333,
              "#9c179e"
             ],
             [
              0.4444444444444444,
              "#bd3786"
             ],
             [
              0.5555555555555556,
              "#d8576b"
             ],
             [
              0.6666666666666666,
              "#ed7953"
             ],
             [
              0.7777777777777778,
              "#fb9f3a"
             ],
             [
              0.8888888888888888,
              "#fdca26"
             ],
             [
              1,
              "#f0f921"
             ]
            ],
            "type": "histogram2dcontour"
           }
          ],
          "mesh3d": [
           {
            "colorbar": {
             "outlinewidth": 0,
             "ticks": ""
            },
            "type": "mesh3d"
           }
          ],
          "parcoords": [
           {
            "line": {
             "colorbar": {
              "outlinewidth": 0,
              "ticks": ""
             }
            },
            "type": "parcoords"
           }
          ],
          "pie": [
           {
            "automargin": true,
            "type": "pie"
           }
          ],
          "scatter": [
           {
            "fillpattern": {
             "fillmode": "overlay",
             "size": 10,
             "solidity": 0.2
            },
            "type": "scatter"
           }
          ],
          "scatter3d": [
           {
            "line": {
             "colorbar": {
              "outlinewidth": 0,
              "ticks": ""
             }
            },
            "marker": {
             "colorbar": {
              "outlinewidth": 0,
              "ticks": ""
             }
            },
            "type": "scatter3d"
           }
          ],
          "scattercarpet": [
           {
            "marker": {
             "colorbar": {
              "outlinewidth": 0,
              "ticks": ""
             }
            },
            "type": "scattercarpet"
           }
          ],
          "scattergeo": [
           {
            "marker": {
             "colorbar": {
              "outlinewidth": 0,
              "ticks": ""
             }
            },
            "type": "scattergeo"
           }
          ],
          "scattergl": [
           {
            "marker": {
             "colorbar": {
              "outlinewidth": 0,
              "ticks": ""
             }
            },
            "type": "scattergl"
           }
          ],
          "scattermapbox": [
           {
            "marker": {
             "colorbar": {
              "outlinewidth": 0,
              "ticks": ""
             }
            },
            "type": "scattermapbox"
           }
          ],
          "scatterpolar": [
           {
            "marker": {
             "colorbar": {
              "outlinewidth": 0,
              "ticks": ""
             }
            },
            "type": "scatterpolar"
           }
          ],
          "scatterpolargl": [
           {
            "marker": {
             "colorbar": {
              "outlinewidth": 0,
              "ticks": ""
             }
            },
            "type": "scatterpolargl"
           }
          ],
          "scatterternary": [
           {
            "marker": {
             "colorbar": {
              "outlinewidth": 0,
              "ticks": ""
             }
            },
            "type": "scatterternary"
           }
          ],
          "surface": [
           {
            "colorbar": {
             "outlinewidth": 0,
             "ticks": ""
            },
            "colorscale": [
             [
              0,
              "#0d0887"
             ],
             [
              0.1111111111111111,
              "#46039f"
             ],
             [
              0.2222222222222222,
              "#7201a8"
             ],
             [
              0.3333333333333333,
              "#9c179e"
             ],
             [
              0.4444444444444444,
              "#bd3786"
             ],
             [
              0.5555555555555556,
              "#d8576b"
             ],
             [
              0.6666666666666666,
              "#ed7953"
             ],
             [
              0.7777777777777778,
              "#fb9f3a"
             ],
             [
              0.8888888888888888,
              "#fdca26"
             ],
             [
              1,
              "#f0f921"
             ]
            ],
            "type": "surface"
           }
          ],
          "table": [
           {
            "cells": {
             "fill": {
              "color": "#EBF0F8"
             },
             "line": {
              "color": "white"
             }
            },
            "header": {
             "fill": {
              "color": "#C8D4E3"
             },
             "line": {
              "color": "white"
             }
            },
            "type": "table"
           }
          ]
         },
         "layout": {
          "annotationdefaults": {
           "arrowcolor": "#2a3f5f",
           "arrowhead": 0,
           "arrowwidth": 1
          },
          "autotypenumbers": "strict",
          "coloraxis": {
           "colorbar": {
            "outlinewidth": 0,
            "ticks": ""
           }
          },
          "colorscale": {
           "diverging": [
            [
             0,
             "#8e0152"
            ],
            [
             0.1,
             "#c51b7d"
            ],
            [
             0.2,
             "#de77ae"
            ],
            [
             0.3,
             "#f1b6da"
            ],
            [
             0.4,
             "#fde0ef"
            ],
            [
             0.5,
             "#f7f7f7"
            ],
            [
             0.6,
             "#e6f5d0"
            ],
            [
             0.7,
             "#b8e186"
            ],
            [
             0.8,
             "#7fbc41"
            ],
            [
             0.9,
             "#4d9221"
            ],
            [
             1,
             "#276419"
            ]
           ],
           "sequential": [
            [
             0,
             "#0d0887"
            ],
            [
             0.1111111111111111,
             "#46039f"
            ],
            [
             0.2222222222222222,
             "#7201a8"
            ],
            [
             0.3333333333333333,
             "#9c179e"
            ],
            [
             0.4444444444444444,
             "#bd3786"
            ],
            [
             0.5555555555555556,
             "#d8576b"
            ],
            [
             0.6666666666666666,
             "#ed7953"
            ],
            [
             0.7777777777777778,
             "#fb9f3a"
            ],
            [
             0.8888888888888888,
             "#fdca26"
            ],
            [
             1,
             "#f0f921"
            ]
           ],
           "sequentialminus": [
            [
             0,
             "#0d0887"
            ],
            [
             0.1111111111111111,
             "#46039f"
            ],
            [
             0.2222222222222222,
             "#7201a8"
            ],
            [
             0.3333333333333333,
             "#9c179e"
            ],
            [
             0.4444444444444444,
             "#bd3786"
            ],
            [
             0.5555555555555556,
             "#d8576b"
            ],
            [
             0.6666666666666666,
             "#ed7953"
            ],
            [
             0.7777777777777778,
             "#fb9f3a"
            ],
            [
             0.8888888888888888,
             "#fdca26"
            ],
            [
             1,
             "#f0f921"
            ]
           ]
          },
          "colorway": [
           "#636efa",
           "#EF553B",
           "#00cc96",
           "#ab63fa",
           "#FFA15A",
           "#19d3f3",
           "#FF6692",
           "#B6E880",
           "#FF97FF",
           "#FECB52"
          ],
          "font": {
           "color": "#2a3f5f"
          },
          "geo": {
           "bgcolor": "white",
           "lakecolor": "white",
           "landcolor": "#E5ECF6",
           "showlakes": true,
           "showland": true,
           "subunitcolor": "white"
          },
          "hoverlabel": {
           "align": "left"
          },
          "hovermode": "closest",
          "mapbox": {
           "style": "light"
          },
          "paper_bgcolor": "white",
          "plot_bgcolor": "#E5ECF6",
          "polar": {
           "angularaxis": {
            "gridcolor": "white",
            "linecolor": "white",
            "ticks": ""
           },
           "bgcolor": "#E5ECF6",
           "radialaxis": {
            "gridcolor": "white",
            "linecolor": "white",
            "ticks": ""
           }
          },
          "scene": {
           "xaxis": {
            "backgroundcolor": "#E5ECF6",
            "gridcolor": "white",
            "gridwidth": 2,
            "linecolor": "white",
            "showbackground": true,
            "ticks": "",
            "zerolinecolor": "white"
           },
           "yaxis": {
            "backgroundcolor": "#E5ECF6",
            "gridcolor": "white",
            "gridwidth": 2,
            "linecolor": "white",
            "showbackground": true,
            "ticks": "",
            "zerolinecolor": "white"
           },
           "zaxis": {
            "backgroundcolor": "#E5ECF6",
            "gridcolor": "white",
            "gridwidth": 2,
            "linecolor": "white",
            "showbackground": true,
            "ticks": "",
            "zerolinecolor": "white"
           }
          },
          "shapedefaults": {
           "line": {
            "color": "#2a3f5f"
           }
          },
          "ternary": {
           "aaxis": {
            "gridcolor": "white",
            "linecolor": "white",
            "ticks": ""
           },
           "baxis": {
            "gridcolor": "white",
            "linecolor": "white",
            "ticks": ""
           },
           "bgcolor": "#E5ECF6",
           "caxis": {
            "gridcolor": "white",
            "linecolor": "white",
            "ticks": ""
           }
          },
          "title": {
           "x": 0.05
          },
          "xaxis": {
           "automargin": true,
           "gridcolor": "white",
           "linecolor": "white",
           "ticks": "",
           "title": {
            "standoff": 15
           },
           "zerolinecolor": "white",
           "zerolinewidth": 2
          },
          "yaxis": {
           "automargin": true,
           "gridcolor": "white",
           "linecolor": "white",
           "ticks": "",
           "title": {
            "standoff": 15
           },
           "zerolinecolor": "white",
           "zerolinewidth": 2
          }
         }
        },
        "title": {
         "text": "F50-F59 - Síndromes comportamentais associadas a disfunções fisiológicas e a fatores físicos"
        },
        "xaxis": {
         "title": {
          "text": "Time"
         }
        },
        "yaxis": {
         "title": {
          "text": "Value"
         }
        }
       }
      }
     },
     "metadata": {},
     "output_type": "display_data"
    },
    {
     "data": {
      "application/vnd.plotly.v1+json": {
       "config": {
        "plotlyServerURL": "https://plot.ly"
       },
       "data": [
        {
         "marker": {
          "color": "black"
         },
         "mode": "markers",
         "name": "Real",
         "type": "scatter",
         "x": [
          "2016-01-01T00:00:00.000000000",
          "2016-02-01T00:00:00.000000000",
          "2016-03-01T00:00:00.000000000",
          "2016-04-01T00:00:00.000000000",
          "2016-05-01T00:00:00.000000000",
          "2016-06-01T00:00:00.000000000",
          "2016-07-01T00:00:00.000000000",
          "2016-08-01T00:00:00.000000000",
          "2016-09-01T00:00:00.000000000",
          "2016-10-01T00:00:00.000000000",
          "2016-11-01T00:00:00.000000000",
          "2016-12-01T00:00:00.000000000",
          "2017-01-01T00:00:00.000000000",
          "2017-02-01T00:00:00.000000000",
          "2017-03-01T00:00:00.000000000",
          "2017-04-01T00:00:00.000000000",
          "2017-05-01T00:00:00.000000000",
          "2017-06-01T00:00:00.000000000",
          "2017-07-01T00:00:00.000000000",
          "2017-08-01T00:00:00.000000000",
          "2017-09-01T00:00:00.000000000",
          "2017-10-01T00:00:00.000000000",
          "2017-11-01T00:00:00.000000000",
          "2017-12-01T00:00:00.000000000",
          "2018-01-01T00:00:00.000000000",
          "2018-02-01T00:00:00.000000000",
          "2018-03-01T00:00:00.000000000",
          "2018-04-01T00:00:00.000000000",
          "2018-05-01T00:00:00.000000000",
          "2018-06-01T00:00:00.000000000",
          "2018-07-01T00:00:00.000000000",
          "2018-08-01T00:00:00.000000000",
          "2018-09-01T00:00:00.000000000",
          "2018-10-01T00:00:00.000000000",
          "2018-11-01T00:00:00.000000000",
          "2018-12-01T00:00:00.000000000",
          "2019-01-01T00:00:00.000000000",
          "2019-02-01T00:00:00.000000000",
          "2019-03-01T00:00:00.000000000",
          "2019-04-01T00:00:00.000000000",
          "2019-05-01T00:00:00.000000000",
          "2019-06-01T00:00:00.000000000",
          "2019-07-01T00:00:00.000000000",
          "2019-08-01T00:00:00.000000000",
          "2019-09-01T00:00:00.000000000",
          "2019-10-01T00:00:00.000000000",
          "2019-11-01T00:00:00.000000000",
          "2019-12-01T00:00:00.000000000",
          "2020-01-01T00:00:00.000000000",
          "2020-02-01T00:00:00.000000000",
          "2020-03-01T00:00:00.000000000",
          "2020-04-01T00:00:00.000000000",
          "2020-05-01T00:00:00.000000000",
          "2020-06-01T00:00:00.000000000",
          "2020-07-01T00:00:00.000000000",
          "2020-08-01T00:00:00.000000000",
          "2020-09-01T00:00:00.000000000",
          "2020-10-01T00:00:00.000000000",
          "2020-11-01T00:00:00.000000000",
          "2020-12-01T00:00:00.000000000",
          "2021-01-01T00:00:00.000000000",
          "2021-02-01T00:00:00.000000000",
          "2021-03-01T00:00:00.000000000",
          "2021-04-01T00:00:00.000000000",
          "2021-05-01T00:00:00.000000000",
          "2021-06-01T00:00:00.000000000",
          "2021-07-01T00:00:00.000000000",
          "2021-08-01T00:00:00.000000000",
          "2021-09-01T00:00:00.000000000",
          "2021-10-01T00:00:00.000000000",
          "2021-11-01T00:00:00.000000000",
          "2021-12-01T00:00:00.000000000",
          "2022-01-01T00:00:00.000000000",
          "2022-02-01T00:00:00.000000000",
          "2022-03-01T00:00:00.000000000",
          "2022-04-01T00:00:00.000000000",
          "2022-05-01T00:00:00.000000000",
          "2022-06-01T00:00:00.000000000",
          "2022-07-01T00:00:00.000000000",
          "2022-08-01T00:00:00.000000000",
          "2022-09-01T00:00:00.000000000",
          "2022-10-01T00:00:00.000000000",
          "2022-11-01T00:00:00.000000000",
          "2022-12-01T00:00:00.000000000",
          "2023-01-01T00:00:00.000000000",
          "2023-02-01T00:00:00.000000000",
          "2023-03-01T00:00:00.000000000",
          "2023-04-01T00:00:00.000000000",
          "2023-05-01T00:00:00.000000000",
          "2023-06-01T00:00:00.000000000",
          "2023-07-01T00:00:00.000000000",
          "2023-08-01T00:00:00.000000000",
          "2023-09-01T00:00:00.000000000",
          "2023-10-01T00:00:00.000000000",
          "2023-11-01T00:00:00.000000000",
          "2023-12-01T00:00:00.000000000",
          "2024-01-01T00:00:00.000000000",
          "2024-02-01T00:00:00.000000000",
          "2024-03-01T00:00:00.000000000",
          "2024-04-01T00:00:00.000000000",
          "2024-05-01T00:00:00.000000000",
          "2024-06-01T00:00:00.000000000",
          "2024-07-01T00:00:00.000000000",
          "2024-08-01T00:00:00.000000000",
          "2024-09-01T00:00:00.000000000",
          "2024-10-01T00:00:00.000000000",
          "2024-11-01T00:00:00.000000000",
          "2024-12-01T00:00:00.000000000"
         ],
         "y": [
          25,
          22,
          31,
          44,
          51,
          64,
          48,
          48,
          55,
          59,
          44,
          34,
          54,
          42,
          66,
          51,
          49,
          48,
          45,
          44,
          52,
          50,
          55,
          57,
          53,
          41,
          69,
          50,
          57,
          61,
          35,
          47,
          50,
          72,
          67,
          51,
          170,
          56,
          60,
          64,
          83,
          68,
          68,
          62,
          56,
          66,
          47,
          49,
          47,
          61,
          65,
          33,
          32,
          120,
          147,
          162,
          138,
          123,
          154,
          141,
          159,
          132,
          86,
          68,
          23,
          138,
          118,
          171,
          150,
          140,
          129,
          165,
          91,
          108,
          182,
          154,
          138,
          154,
          171,
          202,
          93,
          110,
          93,
          97,
          93,
          76,
          97,
          71,
          102,
          96,
          107,
          136,
          116,
          124,
          129,
          130,
          121,
          116,
          141,
          137,
          110,
          142,
          131,
          173,
          147,
          202,
          146,
          171
         ]
        },
        {
         "line": {
          "color": "black",
          "dash": "dot"
         },
         "mode": "lines",
         "name": "Baseline",
         "type": "scatter",
         "x": [
          "2016-01-01T00:00:00.000000000",
          "2016-02-01T00:00:00.000000000",
          "2016-03-01T00:00:00.000000000",
          "2016-04-01T00:00:00.000000000",
          "2016-05-01T00:00:00.000000000",
          "2016-06-01T00:00:00.000000000",
          "2016-07-01T00:00:00.000000000",
          "2016-08-01T00:00:00.000000000",
          "2016-09-01T00:00:00.000000000",
          "2016-10-01T00:00:00.000000000",
          "2016-11-01T00:00:00.000000000",
          "2016-12-01T00:00:00.000000000",
          "2017-01-01T00:00:00.000000000",
          "2017-02-01T00:00:00.000000000",
          "2017-03-01T00:00:00.000000000",
          "2017-04-01T00:00:00.000000000",
          "2017-05-01T00:00:00.000000000",
          "2017-06-01T00:00:00.000000000",
          "2017-07-01T00:00:00.000000000",
          "2017-08-01T00:00:00.000000000",
          "2017-09-01T00:00:00.000000000",
          "2017-10-01T00:00:00.000000000",
          "2017-11-01T00:00:00.000000000",
          "2017-12-01T00:00:00.000000000",
          "2018-01-01T00:00:00.000000000",
          "2018-02-01T00:00:00.000000000",
          "2018-03-01T00:00:00.000000000",
          "2018-04-01T00:00:00.000000000",
          "2018-05-01T00:00:00.000000000",
          "2018-06-01T00:00:00.000000000",
          "2018-07-01T00:00:00.000000000",
          "2018-08-01T00:00:00.000000000",
          "2018-09-01T00:00:00.000000000",
          "2018-10-01T00:00:00.000000000",
          "2018-11-01T00:00:00.000000000",
          "2018-12-01T00:00:00.000000000",
          "2019-01-01T00:00:00.000000000",
          "2019-02-01T00:00:00.000000000",
          "2019-03-01T00:00:00.000000000",
          "2019-04-01T00:00:00.000000000",
          "2019-05-01T00:00:00.000000000",
          "2019-06-01T00:00:00.000000000",
          "2019-07-01T00:00:00.000000000",
          "2019-08-01T00:00:00.000000000",
          "2019-09-01T00:00:00.000000000",
          "2019-10-01T00:00:00.000000000",
          "2019-11-01T00:00:00.000000000",
          "2019-12-01T00:00:00.000000000",
          "2020-01-01T00:00:00.000000000",
          "2020-02-01T00:00:00.000000000",
          "2020-03-01T00:00:00.000000000",
          "2020-04-01T00:00:00.000000000",
          "2020-05-01T00:00:00.000000000",
          "2020-06-01T00:00:00.000000000",
          "2020-07-01T00:00:00.000000000",
          "2020-08-01T00:00:00.000000000",
          "2020-09-01T00:00:00.000000000",
          "2020-10-01T00:00:00.000000000",
          "2020-11-01T00:00:00.000000000",
          "2020-12-01T00:00:00.000000000",
          "2021-01-01T00:00:00.000000000",
          "2021-02-01T00:00:00.000000000",
          "2021-03-01T00:00:00.000000000",
          "2021-04-01T00:00:00.000000000",
          "2021-05-01T00:00:00.000000000",
          "2021-06-01T00:00:00.000000000",
          "2021-07-01T00:00:00.000000000",
          "2021-08-01T00:00:00.000000000",
          "2021-09-01T00:00:00.000000000",
          "2021-10-01T00:00:00.000000000",
          "2021-11-01T00:00:00.000000000",
          "2021-12-01T00:00:00.000000000",
          "2022-01-01T00:00:00.000000000",
          "2022-02-01T00:00:00.000000000",
          "2022-03-01T00:00:00.000000000",
          "2022-04-01T00:00:00.000000000",
          "2022-05-01T00:00:00.000000000",
          "2022-06-01T00:00:00.000000000",
          "2022-07-01T00:00:00.000000000",
          "2022-08-01T00:00:00.000000000",
          "2022-09-01T00:00:00.000000000",
          "2022-10-01T00:00:00.000000000",
          "2022-11-01T00:00:00.000000000",
          "2022-12-01T00:00:00.000000000",
          "2023-01-01T00:00:00.000000000",
          "2023-02-01T00:00:00.000000000",
          "2023-03-01T00:00:00.000000000",
          "2023-04-01T00:00:00.000000000",
          "2023-05-01T00:00:00.000000000",
          "2023-06-01T00:00:00.000000000",
          "2023-07-01T00:00:00.000000000",
          "2023-08-01T00:00:00.000000000",
          "2023-09-01T00:00:00.000000000",
          "2023-10-01T00:00:00.000000000",
          "2023-11-01T00:00:00.000000000",
          "2023-12-01T00:00:00.000000000",
          "2024-01-01T00:00:00.000000000",
          "2024-02-01T00:00:00.000000000",
          "2024-03-01T00:00:00.000000000",
          "2024-04-01T00:00:00.000000000",
          "2024-05-01T00:00:00.000000000",
          "2024-06-01T00:00:00.000000000",
          "2024-07-01T00:00:00.000000000",
          "2024-08-01T00:00:00.000000000",
          "2024-09-01T00:00:00.000000000",
          "2024-10-01T00:00:00.000000000",
          "2024-11-01T00:00:00.000000000",
          "2024-12-01T00:00:00.000000000"
         ],
         "y": [
          40.13679129083172,
          40.75283235838822,
          41.36887342594472,
          41.98491449350122,
          42.600955561057724,
          43.216996628614226,
          43.83303769617072,
          44.44907876372722,
          45.065119831283724,
          45.681160898840226,
          46.29720196639673,
          46.91324303395323,
          47.52928410150973,
          48.14532516906623,
          48.761366236622735,
          49.377407304179236,
          49.99344837173574,
          50.60948943929223,
          51.22553050684874,
          51.841571574405236,
          52.45761264196174,
          53.07365370951824,
          53.68969477707474,
          54.30573584463124,
          54.921776912187745,
          55.53781797974425,
          56.15385904730075,
          56.76990011485725,
          57.385941182413745,
          58.001982249970254,
          58.61802331752675,
          59.23406438508326,
          59.85010545263975,
          60.46614652019626,
          61.082187587752756,
          61.69822865530926,
          62.31426972286576,
          62.93031079042226,
          63.54635185797876,
          64.16239292553527,
          64.77843399309177,
          65.39447506064826,
          66.01051612820477,
          66.62655719576127,
          67.24259826331777,
          67.85863933087427,
          68.47468039843078,
          69.09072146598727,
          69.70676253354378,
          70.32280360110028,
          70.93884466865677,
          71.55488573621328,
          72.17092680376979,
          72.78696787132628,
          73.40300893888278,
          74.01905000643929,
          74.6350910739958,
          75.25113214155229,
          75.86717320910878,
          76.48321427666528,
          77.09925534422179,
          77.7152964117783,
          78.33133747933479,
          78.94737854689129,
          79.5634196144478,
          80.1794606820043,
          80.7955017495608,
          81.4115428171173,
          82.0275838846738,
          82.64362495223031,
          83.2596660197868,
          83.8757070873433,
          84.4917481548998,
          85.1077892224563,
          85.72383029001281,
          86.33987135756931,
          86.9559124251258,
          87.57195349268231,
          88.18799456023882,
          88.80403562779532,
          89.42007669535181,
          90.03611776290832,
          90.65215883046483,
          91.26819989802132,
          91.88424096557782,
          92.50028203313431,
          93.11632310069082,
          93.73236416824733,
          94.34840523580382,
          94.96444630336032,
          95.58048737091683,
          96.19652843847334,
          96.81256950602983,
          97.42861057358633,
          98.04465164114283,
          98.66069270869933,
          99.27673377625584,
          99.89277484381233,
          100.50881591136883,
          101.12485697892534,
          101.74089804648185,
          102.35693911403834,
          102.97298018159483,
          103.58902124915134,
          104.20506231670784,
          104.82110338426435,
          105.43714445182084,
          106.05318551937735
         ]
        },
        {
         "line": {
          "color": "purple"
         },
         "mode": "lines",
         "name": "Full model",
         "type": "scatter",
         "x": [
          "2016-01-01T00:00:00.000000000",
          "2016-02-01T00:00:00.000000000",
          "2016-03-01T00:00:00.000000000",
          "2016-04-01T00:00:00.000000000",
          "2016-05-01T00:00:00.000000000",
          "2016-06-01T00:00:00.000000000",
          "2016-07-01T00:00:00.000000000",
          "2016-08-01T00:00:00.000000000",
          "2016-09-01T00:00:00.000000000",
          "2016-10-01T00:00:00.000000000",
          "2016-11-01T00:00:00.000000000",
          "2016-12-01T00:00:00.000000000",
          "2017-01-01T00:00:00.000000000",
          "2017-02-01T00:00:00.000000000",
          "2017-03-01T00:00:00.000000000",
          "2017-04-01T00:00:00.000000000",
          "2017-05-01T00:00:00.000000000",
          "2017-06-01T00:00:00.000000000",
          "2017-07-01T00:00:00.000000000",
          "2017-08-01T00:00:00.000000000",
          "2017-09-01T00:00:00.000000000",
          "2017-10-01T00:00:00.000000000",
          "2017-11-01T00:00:00.000000000",
          "2017-12-01T00:00:00.000000000",
          "2018-01-01T00:00:00.000000000",
          "2018-02-01T00:00:00.000000000",
          "2018-03-01T00:00:00.000000000",
          "2018-04-01T00:00:00.000000000",
          "2018-05-01T00:00:00.000000000",
          "2018-06-01T00:00:00.000000000",
          "2018-07-01T00:00:00.000000000",
          "2018-08-01T00:00:00.000000000",
          "2018-09-01T00:00:00.000000000",
          "2018-10-01T00:00:00.000000000",
          "2018-11-01T00:00:00.000000000",
          "2018-12-01T00:00:00.000000000",
          "2019-01-01T00:00:00.000000000",
          "2019-02-01T00:00:00.000000000",
          "2019-03-01T00:00:00.000000000",
          "2019-04-01T00:00:00.000000000",
          "2019-05-01T00:00:00.000000000",
          "2019-06-01T00:00:00.000000000",
          "2019-07-01T00:00:00.000000000",
          "2019-08-01T00:00:00.000000000",
          "2019-09-01T00:00:00.000000000",
          "2019-10-01T00:00:00.000000000",
          "2019-11-01T00:00:00.000000000",
          "2019-12-01T00:00:00.000000000",
          "2020-01-01T00:00:00.000000000",
          "2020-02-01T00:00:00.000000000",
          "2020-03-01T00:00:00.000000000",
          "2020-04-01T00:00:00.000000000",
          "2020-05-01T00:00:00.000000000",
          "2020-06-01T00:00:00.000000000",
          "2020-07-01T00:00:00.000000000",
          "2020-08-01T00:00:00.000000000",
          "2020-09-01T00:00:00.000000000",
          "2020-10-01T00:00:00.000000000",
          "2020-11-01T00:00:00.000000000",
          "2020-12-01T00:00:00.000000000",
          "2021-01-01T00:00:00.000000000",
          "2021-02-01T00:00:00.000000000",
          "2021-03-01T00:00:00.000000000",
          "2021-04-01T00:00:00.000000000",
          "2021-05-01T00:00:00.000000000",
          "2021-06-01T00:00:00.000000000",
          "2021-07-01T00:00:00.000000000",
          "2021-08-01T00:00:00.000000000",
          "2021-09-01T00:00:00.000000000",
          "2021-10-01T00:00:00.000000000",
          "2021-11-01T00:00:00.000000000",
          "2021-12-01T00:00:00.000000000",
          "2022-01-01T00:00:00.000000000",
          "2022-02-01T00:00:00.000000000",
          "2022-03-01T00:00:00.000000000",
          "2022-04-01T00:00:00.000000000",
          "2022-05-01T00:00:00.000000000",
          "2022-06-01T00:00:00.000000000",
          "2022-07-01T00:00:00.000000000",
          "2022-08-01T00:00:00.000000000",
          "2022-09-01T00:00:00.000000000",
          "2022-10-01T00:00:00.000000000",
          "2022-11-01T00:00:00.000000000",
          "2022-12-01T00:00:00.000000000",
          "2023-01-01T00:00:00.000000000",
          "2023-02-01T00:00:00.000000000",
          "2023-03-01T00:00:00.000000000",
          "2023-04-01T00:00:00.000000000",
          "2023-05-01T00:00:00.000000000",
          "2023-06-01T00:00:00.000000000",
          "2023-07-01T00:00:00.000000000",
          "2023-08-01T00:00:00.000000000",
          "2023-09-01T00:00:00.000000000",
          "2023-10-01T00:00:00.000000000",
          "2023-11-01T00:00:00.000000000",
          "2023-12-01T00:00:00.000000000",
          "2024-01-01T00:00:00.000000000",
          "2024-02-01T00:00:00.000000000",
          "2024-03-01T00:00:00.000000000",
          "2024-04-01T00:00:00.000000000",
          "2024-05-01T00:00:00.000000000",
          "2024-06-01T00:00:00.000000000",
          "2024-07-01T00:00:00.000000000",
          "2024-08-01T00:00:00.000000000",
          "2024-09-01T00:00:00.000000000",
          "2024-10-01T00:00:00.000000000",
          "2024-11-01T00:00:00.000000000",
          "2024-12-01T00:00:00.000000000"
         ],
         "y": [
          40.13679129083172,
          40.75283235838822,
          41.36887342594472,
          41.98491449350122,
          42.600955561057724,
          43.216996628614226,
          43.83303769617072,
          44.44907876372722,
          45.065119831283724,
          45.681160898840226,
          46.29720196639673,
          46.91324303395323,
          47.52928410150973,
          48.14532516906623,
          48.761366236622735,
          49.377407304179236,
          49.99344837173574,
          50.60948943929223,
          51.22553050684874,
          51.841571574405236,
          52.45761264196174,
          53.07365370951824,
          53.68969477707474,
          54.30573584463124,
          54.921776912187745,
          55.53781797974425,
          56.15385904730075,
          56.76990011485725,
          57.385941182413745,
          58.001982249970254,
          58.61802331752675,
          59.23406438508326,
          59.85010545263975,
          60.46614652019626,
          61.082187587752756,
          61.69822865530926,
          62.31426972286576,
          62.93031079042226,
          63.54635185797876,
          64.16239292553527,
          64.77843399309177,
          65.39447506064826,
          66.01051612820477,
          66.62655719576127,
          67.24259826331777,
          67.85863933087427,
          68.47468039843078,
          69.09072146598727,
          70.70676253354378,
          71.32280360110028,
          71.93884466865677,
          72.55488573621328,
          73.17092680376979,
          73.78696787132628,
          74.40300893888278,
          131.01905000643927,
          131.6350910739958,
          131.2511321415523,
          130.86717320910878,
          131.48321427666528,
          131.09925534422177,
          131.7152964117783,
          131.3313374793348,
          55.94737854689129,
          56.563419614447795,
          131.1794606820043,
          131.7955017495608,
          131.4115428171173,
          132.0275838846738,
          131.6436249522303,
          131.2596660197868,
          131.8757070873433,
          131.4917481548998,
          132.1077892224563,
          131.7238302900128,
          131.3398713575693,
          131.9559124251258,
          131.57195349268233,
          132.18799456023882,
          131.80403562779532,
          131.4200766953518,
          132.0361177629083,
          131.65215883046483,
          132.26819989802132,
          131.88424096557782,
          131.5002820331343,
          132.1163231006908,
          131.73236416824733,
          132.34840523580382,
          131.96444630336032,
          131.58048737091684,
          132.19652843847334,
          131.81256950602983,
          132.42861057358633,
          132.04465164114282,
          131.66069270869934,
          132.27673377625584,
          131.89277484381233,
          132.50881591136883,
          132.12485697892532,
          132.74089804648185,
          132.35693911403834,
          131.97298018159483,
          132.58902124915136,
          132.20506231670782,
          132.82110338426435,
          132.43714445182084,
          132.05318551937734
         ]
        }
       ],
       "layout": {
        "legend": {
         "title": {
          "text": "Legend"
         }
        },
        "template": {
         "data": {
          "bar": [
           {
            "error_x": {
             "color": "#2a3f5f"
            },
            "error_y": {
             "color": "#2a3f5f"
            },
            "marker": {
             "line": {
              "color": "#E5ECF6",
              "width": 0.5
             },
             "pattern": {
              "fillmode": "overlay",
              "size": 10,
              "solidity": 0.2
             }
            },
            "type": "bar"
           }
          ],
          "barpolar": [
           {
            "marker": {
             "line": {
              "color": "#E5ECF6",
              "width": 0.5
             },
             "pattern": {
              "fillmode": "overlay",
              "size": 10,
              "solidity": 0.2
             }
            },
            "type": "barpolar"
           }
          ],
          "carpet": [
           {
            "aaxis": {
             "endlinecolor": "#2a3f5f",
             "gridcolor": "white",
             "linecolor": "white",
             "minorgridcolor": "white",
             "startlinecolor": "#2a3f5f"
            },
            "baxis": {
             "endlinecolor": "#2a3f5f",
             "gridcolor": "white",
             "linecolor": "white",
             "minorgridcolor": "white",
             "startlinecolor": "#2a3f5f"
            },
            "type": "carpet"
           }
          ],
          "choropleth": [
           {
            "colorbar": {
             "outlinewidth": 0,
             "ticks": ""
            },
            "type": "choropleth"
           }
          ],
          "contour": [
           {
            "colorbar": {
             "outlinewidth": 0,
             "ticks": ""
            },
            "colorscale": [
             [
              0,
              "#0d0887"
             ],
             [
              0.1111111111111111,
              "#46039f"
             ],
             [
              0.2222222222222222,
              "#7201a8"
             ],
             [
              0.3333333333333333,
              "#9c179e"
             ],
             [
              0.4444444444444444,
              "#bd3786"
             ],
             [
              0.5555555555555556,
              "#d8576b"
             ],
             [
              0.6666666666666666,
              "#ed7953"
             ],
             [
              0.7777777777777778,
              "#fb9f3a"
             ],
             [
              0.8888888888888888,
              "#fdca26"
             ],
             [
              1,
              "#f0f921"
             ]
            ],
            "type": "contour"
           }
          ],
          "contourcarpet": [
           {
            "colorbar": {
             "outlinewidth": 0,
             "ticks": ""
            },
            "type": "contourcarpet"
           }
          ],
          "heatmap": [
           {
            "colorbar": {
             "outlinewidth": 0,
             "ticks": ""
            },
            "colorscale": [
             [
              0,
              "#0d0887"
             ],
             [
              0.1111111111111111,
              "#46039f"
             ],
             [
              0.2222222222222222,
              "#7201a8"
             ],
             [
              0.3333333333333333,
              "#9c179e"
             ],
             [
              0.4444444444444444,
              "#bd3786"
             ],
             [
              0.5555555555555556,
              "#d8576b"
             ],
             [
              0.6666666666666666,
              "#ed7953"
             ],
             [
              0.7777777777777778,
              "#fb9f3a"
             ],
             [
              0.8888888888888888,
              "#fdca26"
             ],
             [
              1,
              "#f0f921"
             ]
            ],
            "type": "heatmap"
           }
          ],
          "heatmapgl": [
           {
            "colorbar": {
             "outlinewidth": 0,
             "ticks": ""
            },
            "colorscale": [
             [
              0,
              "#0d0887"
             ],
             [
              0.1111111111111111,
              "#46039f"
             ],
             [
              0.2222222222222222,
              "#7201a8"
             ],
             [
              0.3333333333333333,
              "#9c179e"
             ],
             [
              0.4444444444444444,
              "#bd3786"
             ],
             [
              0.5555555555555556,
              "#d8576b"
             ],
             [
              0.6666666666666666,
              "#ed7953"
             ],
             [
              0.7777777777777778,
              "#fb9f3a"
             ],
             [
              0.8888888888888888,
              "#fdca26"
             ],
             [
              1,
              "#f0f921"
             ]
            ],
            "type": "heatmapgl"
           }
          ],
          "histogram": [
           {
            "marker": {
             "pattern": {
              "fillmode": "overlay",
              "size": 10,
              "solidity": 0.2
             }
            },
            "type": "histogram"
           }
          ],
          "histogram2d": [
           {
            "colorbar": {
             "outlinewidth": 0,
             "ticks": ""
            },
            "colorscale": [
             [
              0,
              "#0d0887"
             ],
             [
              0.1111111111111111,
              "#46039f"
             ],
             [
              0.2222222222222222,
              "#7201a8"
             ],
             [
              0.3333333333333333,
              "#9c179e"
             ],
             [
              0.4444444444444444,
              "#bd3786"
             ],
             [
              0.5555555555555556,
              "#d8576b"
             ],
             [
              0.6666666666666666,
              "#ed7953"
             ],
             [
              0.7777777777777778,
              "#fb9f3a"
             ],
             [
              0.8888888888888888,
              "#fdca26"
             ],
             [
              1,
              "#f0f921"
             ]
            ],
            "type": "histogram2d"
           }
          ],
          "histogram2dcontour": [
           {
            "colorbar": {
             "outlinewidth": 0,
             "ticks": ""
            },
            "colorscale": [
             [
              0,
              "#0d0887"
             ],
             [
              0.1111111111111111,
              "#46039f"
             ],
             [
              0.2222222222222222,
              "#7201a8"
             ],
             [
              0.3333333333333333,
              "#9c179e"
             ],
             [
              0.4444444444444444,
              "#bd3786"
             ],
             [
              0.5555555555555556,
              "#d8576b"
             ],
             [
              0.6666666666666666,
              "#ed7953"
             ],
             [
              0.7777777777777778,
              "#fb9f3a"
             ],
             [
              0.8888888888888888,
              "#fdca26"
             ],
             [
              1,
              "#f0f921"
             ]
            ],
            "type": "histogram2dcontour"
           }
          ],
          "mesh3d": [
           {
            "colorbar": {
             "outlinewidth": 0,
             "ticks": ""
            },
            "type": "mesh3d"
           }
          ],
          "parcoords": [
           {
            "line": {
             "colorbar": {
              "outlinewidth": 0,
              "ticks": ""
             }
            },
            "type": "parcoords"
           }
          ],
          "pie": [
           {
            "automargin": true,
            "type": "pie"
           }
          ],
          "scatter": [
           {
            "fillpattern": {
             "fillmode": "overlay",
             "size": 10,
             "solidity": 0.2
            },
            "type": "scatter"
           }
          ],
          "scatter3d": [
           {
            "line": {
             "colorbar": {
              "outlinewidth": 0,
              "ticks": ""
             }
            },
            "marker": {
             "colorbar": {
              "outlinewidth": 0,
              "ticks": ""
             }
            },
            "type": "scatter3d"
           }
          ],
          "scattercarpet": [
           {
            "marker": {
             "colorbar": {
              "outlinewidth": 0,
              "ticks": ""
             }
            },
            "type": "scattercarpet"
           }
          ],
          "scattergeo": [
           {
            "marker": {
             "colorbar": {
              "outlinewidth": 0,
              "ticks": ""
             }
            },
            "type": "scattergeo"
           }
          ],
          "scattergl": [
           {
            "marker": {
             "colorbar": {
              "outlinewidth": 0,
              "ticks": ""
             }
            },
            "type": "scattergl"
           }
          ],
          "scattermapbox": [
           {
            "marker": {
             "colorbar": {
              "outlinewidth": 0,
              "ticks": ""
             }
            },
            "type": "scattermapbox"
           }
          ],
          "scatterpolar": [
           {
            "marker": {
             "colorbar": {
              "outlinewidth": 0,
              "ticks": ""
             }
            },
            "type": "scatterpolar"
           }
          ],
          "scatterpolargl": [
           {
            "marker": {
             "colorbar": {
              "outlinewidth": 0,
              "ticks": ""
             }
            },
            "type": "scatterpolargl"
           }
          ],
          "scatterternary": [
           {
            "marker": {
             "colorbar": {
              "outlinewidth": 0,
              "ticks": ""
             }
            },
            "type": "scatterternary"
           }
          ],
          "surface": [
           {
            "colorbar": {
             "outlinewidth": 0,
             "ticks": ""
            },
            "colorscale": [
             [
              0,
              "#0d0887"
             ],
             [
              0.1111111111111111,
              "#46039f"
             ],
             [
              0.2222222222222222,
              "#7201a8"
             ],
             [
              0.3333333333333333,
              "#9c179e"
             ],
             [
              0.4444444444444444,
              "#bd3786"
             ],
             [
              0.5555555555555556,
              "#d8576b"
             ],
             [
              0.6666666666666666,
              "#ed7953"
             ],
             [
              0.7777777777777778,
              "#fb9f3a"
             ],
             [
              0.8888888888888888,
              "#fdca26"
             ],
             [
              1,
              "#f0f921"
             ]
            ],
            "type": "surface"
           }
          ],
          "table": [
           {
            "cells": {
             "fill": {
              "color": "#EBF0F8"
             },
             "line": {
              "color": "white"
             }
            },
            "header": {
             "fill": {
              "color": "#C8D4E3"
             },
             "line": {
              "color": "white"
             }
            },
            "type": "table"
           }
          ]
         },
         "layout": {
          "annotationdefaults": {
           "arrowcolor": "#2a3f5f",
           "arrowhead": 0,
           "arrowwidth": 1
          },
          "autotypenumbers": "strict",
          "coloraxis": {
           "colorbar": {
            "outlinewidth": 0,
            "ticks": ""
           }
          },
          "colorscale": {
           "diverging": [
            [
             0,
             "#8e0152"
            ],
            [
             0.1,
             "#c51b7d"
            ],
            [
             0.2,
             "#de77ae"
            ],
            [
             0.3,
             "#f1b6da"
            ],
            [
             0.4,
             "#fde0ef"
            ],
            [
             0.5,
             "#f7f7f7"
            ],
            [
             0.6,
             "#e6f5d0"
            ],
            [
             0.7,
             "#b8e186"
            ],
            [
             0.8,
             "#7fbc41"
            ],
            [
             0.9,
             "#4d9221"
            ],
            [
             1,
             "#276419"
            ]
           ],
           "sequential": [
            [
             0,
             "#0d0887"
            ],
            [
             0.1111111111111111,
             "#46039f"
            ],
            [
             0.2222222222222222,
             "#7201a8"
            ],
            [
             0.3333333333333333,
             "#9c179e"
            ],
            [
             0.4444444444444444,
             "#bd3786"
            ],
            [
             0.5555555555555556,
             "#d8576b"
            ],
            [
             0.6666666666666666,
             "#ed7953"
            ],
            [
             0.7777777777777778,
             "#fb9f3a"
            ],
            [
             0.8888888888888888,
             "#fdca26"
            ],
            [
             1,
             "#f0f921"
            ]
           ],
           "sequentialminus": [
            [
             0,
             "#0d0887"
            ],
            [
             0.1111111111111111,
             "#46039f"
            ],
            [
             0.2222222222222222,
             "#7201a8"
            ],
            [
             0.3333333333333333,
             "#9c179e"
            ],
            [
             0.4444444444444444,
             "#bd3786"
            ],
            [
             0.5555555555555556,
             "#d8576b"
            ],
            [
             0.6666666666666666,
             "#ed7953"
            ],
            [
             0.7777777777777778,
             "#fb9f3a"
            ],
            [
             0.8888888888888888,
             "#fdca26"
            ],
            [
             1,
             "#f0f921"
            ]
           ]
          },
          "colorway": [
           "#636efa",
           "#EF553B",
           "#00cc96",
           "#ab63fa",
           "#FFA15A",
           "#19d3f3",
           "#FF6692",
           "#B6E880",
           "#FF97FF",
           "#FECB52"
          ],
          "font": {
           "color": "#2a3f5f"
          },
          "geo": {
           "bgcolor": "white",
           "lakecolor": "white",
           "landcolor": "#E5ECF6",
           "showlakes": true,
           "showland": true,
           "subunitcolor": "white"
          },
          "hoverlabel": {
           "align": "left"
          },
          "hovermode": "closest",
          "mapbox": {
           "style": "light"
          },
          "paper_bgcolor": "white",
          "plot_bgcolor": "#E5ECF6",
          "polar": {
           "angularaxis": {
            "gridcolor": "white",
            "linecolor": "white",
            "ticks": ""
           },
           "bgcolor": "#E5ECF6",
           "radialaxis": {
            "gridcolor": "white",
            "linecolor": "white",
            "ticks": ""
           }
          },
          "scene": {
           "xaxis": {
            "backgroundcolor": "#E5ECF6",
            "gridcolor": "white",
            "gridwidth": 2,
            "linecolor": "white",
            "showbackground": true,
            "ticks": "",
            "zerolinecolor": "white"
           },
           "yaxis": {
            "backgroundcolor": "#E5ECF6",
            "gridcolor": "white",
            "gridwidth": 2,
            "linecolor": "white",
            "showbackground": true,
            "ticks": "",
            "zerolinecolor": "white"
           },
           "zaxis": {
            "backgroundcolor": "#E5ECF6",
            "gridcolor": "white",
            "gridwidth": 2,
            "linecolor": "white",
            "showbackground": true,
            "ticks": "",
            "zerolinecolor": "white"
           }
          },
          "shapedefaults": {
           "line": {
            "color": "#2a3f5f"
           }
          },
          "ternary": {
           "aaxis": {
            "gridcolor": "white",
            "linecolor": "white",
            "ticks": ""
           },
           "baxis": {
            "gridcolor": "white",
            "linecolor": "white",
            "ticks": ""
           },
           "bgcolor": "#E5ECF6",
           "caxis": {
            "gridcolor": "white",
            "linecolor": "white",
            "ticks": ""
           }
          },
          "title": {
           "x": 0.05
          },
          "xaxis": {
           "automargin": true,
           "gridcolor": "white",
           "linecolor": "white",
           "ticks": "",
           "title": {
            "standoff": 15
           },
           "zerolinecolor": "white",
           "zerolinewidth": 2
          },
          "yaxis": {
           "automargin": true,
           "gridcolor": "white",
           "linecolor": "white",
           "ticks": "",
           "title": {
            "standoff": 15
           },
           "zerolinecolor": "white",
           "zerolinewidth": 2
          }
         }
        },
        "title": {
         "text": "F60-F69 - Transtornos da personalidade e do comportamento do adulto"
        },
        "xaxis": {
         "title": {
          "text": "Time"
         }
        },
        "yaxis": {
         "title": {
          "text": "Value"
         }
        }
       }
      }
     },
     "metadata": {},
     "output_type": "display_data"
    },
    {
     "data": {
      "application/vnd.plotly.v1+json": {
       "config": {
        "plotlyServerURL": "https://plot.ly"
       },
       "data": [
        {
         "marker": {
          "color": "black"
         },
         "mode": "markers",
         "name": "Real",
         "type": "scatter",
         "x": [
          "2016-01-01T00:00:00.000000000",
          "2016-02-01T00:00:00.000000000",
          "2016-03-01T00:00:00.000000000",
          "2016-04-01T00:00:00.000000000",
          "2016-05-01T00:00:00.000000000",
          "2016-06-01T00:00:00.000000000",
          "2016-07-01T00:00:00.000000000",
          "2016-08-01T00:00:00.000000000",
          "2016-09-01T00:00:00.000000000",
          "2016-10-01T00:00:00.000000000",
          "2016-11-01T00:00:00.000000000",
          "2016-12-01T00:00:00.000000000",
          "2017-01-01T00:00:00.000000000",
          "2017-02-01T00:00:00.000000000",
          "2017-03-01T00:00:00.000000000",
          "2017-04-01T00:00:00.000000000",
          "2017-05-01T00:00:00.000000000",
          "2017-06-01T00:00:00.000000000",
          "2017-07-01T00:00:00.000000000",
          "2017-08-01T00:00:00.000000000",
          "2017-09-01T00:00:00.000000000",
          "2017-10-01T00:00:00.000000000",
          "2017-11-01T00:00:00.000000000",
          "2017-12-01T00:00:00.000000000",
          "2018-01-01T00:00:00.000000000",
          "2018-02-01T00:00:00.000000000",
          "2018-03-01T00:00:00.000000000",
          "2018-04-01T00:00:00.000000000",
          "2018-05-01T00:00:00.000000000",
          "2018-06-01T00:00:00.000000000",
          "2018-07-01T00:00:00.000000000",
          "2018-08-01T00:00:00.000000000",
          "2018-09-01T00:00:00.000000000",
          "2018-10-01T00:00:00.000000000",
          "2018-11-01T00:00:00.000000000",
          "2018-12-01T00:00:00.000000000",
          "2019-01-01T00:00:00.000000000",
          "2019-02-01T00:00:00.000000000",
          "2019-03-01T00:00:00.000000000",
          "2019-04-01T00:00:00.000000000",
          "2019-05-01T00:00:00.000000000",
          "2019-06-01T00:00:00.000000000",
          "2019-07-01T00:00:00.000000000",
          "2019-08-01T00:00:00.000000000",
          "2019-09-01T00:00:00.000000000",
          "2019-10-01T00:00:00.000000000",
          "2019-11-01T00:00:00.000000000",
          "2019-12-01T00:00:00.000000000",
          "2020-01-01T00:00:00.000000000",
          "2020-02-01T00:00:00.000000000",
          "2020-03-01T00:00:00.000000000",
          "2020-04-01T00:00:00.000000000",
          "2020-05-01T00:00:00.000000000",
          "2020-06-01T00:00:00.000000000",
          "2020-07-01T00:00:00.000000000",
          "2020-08-01T00:00:00.000000000",
          "2020-09-01T00:00:00.000000000",
          "2020-10-01T00:00:00.000000000",
          "2020-11-01T00:00:00.000000000",
          "2020-12-01T00:00:00.000000000",
          "2021-01-01T00:00:00.000000000",
          "2021-02-01T00:00:00.000000000",
          "2021-03-01T00:00:00.000000000",
          "2021-04-01T00:00:00.000000000",
          "2021-05-01T00:00:00.000000000",
          "2021-06-01T00:00:00.000000000",
          "2021-07-01T00:00:00.000000000",
          "2021-08-01T00:00:00.000000000",
          "2021-09-01T00:00:00.000000000",
          "2021-10-01T00:00:00.000000000",
          "2021-11-01T00:00:00.000000000",
          "2021-12-01T00:00:00.000000000",
          "2022-01-01T00:00:00.000000000",
          "2022-02-01T00:00:00.000000000",
          "2022-03-01T00:00:00.000000000",
          "2022-04-01T00:00:00.000000000",
          "2022-05-01T00:00:00.000000000",
          "2022-06-01T00:00:00.000000000",
          "2022-07-01T00:00:00.000000000",
          "2022-08-01T00:00:00.000000000",
          "2022-09-01T00:00:00.000000000",
          "2022-10-01T00:00:00.000000000",
          "2022-11-01T00:00:00.000000000",
          "2022-12-01T00:00:00.000000000",
          "2023-01-01T00:00:00.000000000",
          "2023-02-01T00:00:00.000000000",
          "2023-03-01T00:00:00.000000000",
          "2023-04-01T00:00:00.000000000",
          "2023-05-01T00:00:00.000000000",
          "2023-06-01T00:00:00.000000000",
          "2023-07-01T00:00:00.000000000",
          "2023-08-01T00:00:00.000000000",
          "2023-09-01T00:00:00.000000000",
          "2023-10-01T00:00:00.000000000",
          "2023-11-01T00:00:00.000000000",
          "2023-12-01T00:00:00.000000000",
          "2024-01-01T00:00:00.000000000",
          "2024-02-01T00:00:00.000000000",
          "2024-03-01T00:00:00.000000000",
          "2024-04-01T00:00:00.000000000",
          "2024-05-01T00:00:00.000000000",
          "2024-06-01T00:00:00.000000000",
          "2024-07-01T00:00:00.000000000",
          "2024-08-01T00:00:00.000000000",
          "2024-09-01T00:00:00.000000000",
          "2024-10-01T00:00:00.000000000",
          "2024-11-01T00:00:00.000000000",
          "2024-12-01T00:00:00.000000000"
         ],
         "y": [
          129,
          172,
          184,
          195,
          228,
          237,
          256,
          290,
          242,
          239,
          185,
          219,
          166,
          160,
          246,
          189,
          214,
          193,
          203,
          205,
          199,
          202,
          227,
          175,
          207,
          164,
          210,
          248,
          247,
          208,
          197,
          227,
          198,
          241,
          206,
          171,
          208,
          189,
          200,
          218,
          265,
          203,
          250,
          230,
          158,
          196,
          158,
          152,
          151,
          132,
          114,
          59,
          79,
          77,
          84,
          123,
          112,
          142,
          109,
          93,
          133,
          116,
          105,
          74,
          49,
          200,
          149,
          173,
          145,
          171,
          173,
          169,
          95,
          157,
          201,
          136,
          145,
          163,
          149,
          162,
          173,
          197,
          178,
          175,
          229,
          193,
          220,
          178,
          251,
          229,
          220,
          288,
          216,
          250,
          268,
          251,
          258,
          266,
          290,
          307,
          167,
          259,
          282,
          312,
          292,
          377,
          311,
          268
         ]
        },
        {
         "line": {
          "color": "black",
          "dash": "dot"
         },
         "mode": "lines",
         "name": "Baseline",
         "type": "scatter",
         "x": [
          "2016-01-01T00:00:00.000000000",
          "2016-02-01T00:00:00.000000000",
          "2016-03-01T00:00:00.000000000",
          "2016-04-01T00:00:00.000000000",
          "2016-05-01T00:00:00.000000000",
          "2016-06-01T00:00:00.000000000",
          "2016-07-01T00:00:00.000000000",
          "2016-08-01T00:00:00.000000000",
          "2016-09-01T00:00:00.000000000",
          "2016-10-01T00:00:00.000000000",
          "2016-11-01T00:00:00.000000000",
          "2016-12-01T00:00:00.000000000",
          "2017-01-01T00:00:00.000000000",
          "2017-02-01T00:00:00.000000000",
          "2017-03-01T00:00:00.000000000",
          "2017-04-01T00:00:00.000000000",
          "2017-05-01T00:00:00.000000000",
          "2017-06-01T00:00:00.000000000",
          "2017-07-01T00:00:00.000000000",
          "2017-08-01T00:00:00.000000000",
          "2017-09-01T00:00:00.000000000",
          "2017-10-01T00:00:00.000000000",
          "2017-11-01T00:00:00.000000000",
          "2017-12-01T00:00:00.000000000",
          "2018-01-01T00:00:00.000000000",
          "2018-02-01T00:00:00.000000000",
          "2018-03-01T00:00:00.000000000",
          "2018-04-01T00:00:00.000000000",
          "2018-05-01T00:00:00.000000000",
          "2018-06-01T00:00:00.000000000",
          "2018-07-01T00:00:00.000000000",
          "2018-08-01T00:00:00.000000000",
          "2018-09-01T00:00:00.000000000",
          "2018-10-01T00:00:00.000000000",
          "2018-11-01T00:00:00.000000000",
          "2018-12-01T00:00:00.000000000",
          "2019-01-01T00:00:00.000000000",
          "2019-02-01T00:00:00.000000000",
          "2019-03-01T00:00:00.000000000",
          "2019-04-01T00:00:00.000000000",
          "2019-05-01T00:00:00.000000000",
          "2019-06-01T00:00:00.000000000",
          "2019-07-01T00:00:00.000000000",
          "2019-08-01T00:00:00.000000000",
          "2019-09-01T00:00:00.000000000",
          "2019-10-01T00:00:00.000000000",
          "2019-11-01T00:00:00.000000000",
          "2019-12-01T00:00:00.000000000",
          "2020-01-01T00:00:00.000000000",
          "2020-02-01T00:00:00.000000000",
          "2020-03-01T00:00:00.000000000",
          "2020-04-01T00:00:00.000000000",
          "2020-05-01T00:00:00.000000000",
          "2020-06-01T00:00:00.000000000",
          "2020-07-01T00:00:00.000000000",
          "2020-08-01T00:00:00.000000000",
          "2020-09-01T00:00:00.000000000",
          "2020-10-01T00:00:00.000000000",
          "2020-11-01T00:00:00.000000000",
          "2020-12-01T00:00:00.000000000",
          "2021-01-01T00:00:00.000000000",
          "2021-02-01T00:00:00.000000000",
          "2021-03-01T00:00:00.000000000",
          "2021-04-01T00:00:00.000000000",
          "2021-05-01T00:00:00.000000000",
          "2021-06-01T00:00:00.000000000",
          "2021-07-01T00:00:00.000000000",
          "2021-08-01T00:00:00.000000000",
          "2021-09-01T00:00:00.000000000",
          "2021-10-01T00:00:00.000000000",
          "2021-11-01T00:00:00.000000000",
          "2021-12-01T00:00:00.000000000",
          "2022-01-01T00:00:00.000000000",
          "2022-02-01T00:00:00.000000000",
          "2022-03-01T00:00:00.000000000",
          "2022-04-01T00:00:00.000000000",
          "2022-05-01T00:00:00.000000000",
          "2022-06-01T00:00:00.000000000",
          "2022-07-01T00:00:00.000000000",
          "2022-08-01T00:00:00.000000000",
          "2022-09-01T00:00:00.000000000",
          "2022-10-01T00:00:00.000000000",
          "2022-11-01T00:00:00.000000000",
          "2022-12-01T00:00:00.000000000",
          "2023-01-01T00:00:00.000000000",
          "2023-02-01T00:00:00.000000000",
          "2023-03-01T00:00:00.000000000",
          "2023-04-01T00:00:00.000000000",
          "2023-05-01T00:00:00.000000000",
          "2023-06-01T00:00:00.000000000",
          "2023-07-01T00:00:00.000000000",
          "2023-08-01T00:00:00.000000000",
          "2023-09-01T00:00:00.000000000",
          "2023-10-01T00:00:00.000000000",
          "2023-11-01T00:00:00.000000000",
          "2023-12-01T00:00:00.000000000",
          "2024-01-01T00:00:00.000000000",
          "2024-02-01T00:00:00.000000000",
          "2024-03-01T00:00:00.000000000",
          "2024-04-01T00:00:00.000000000",
          "2024-05-01T00:00:00.000000000",
          "2024-06-01T00:00:00.000000000",
          "2024-07-01T00:00:00.000000000",
          "2024-08-01T00:00:00.000000000",
          "2024-09-01T00:00:00.000000000",
          "2024-10-01T00:00:00.000000000",
          "2024-11-01T00:00:00.000000000",
          "2024-12-01T00:00:00.000000000"
         ],
         "y": [
          203.43874073836906,
          203.03211882515853,
          202.625496911948,
          202.2188749987375,
          201.81225308552698,
          201.40563117231645,
          200.99900925910592,
          200.5923873458954,
          200.18576543268486,
          199.77914351947436,
          199.37252160626383,
          198.9658996930533,
          198.55927777984277,
          198.15265586663224,
          197.74603395342172,
          197.3394120402112,
          196.9327901270007,
          196.52616821379016,
          196.11954630057963,
          195.7129243873691,
          195.30630247415857,
          194.89968056094804,
          194.4930586477375,
          194.086436734527,
          193.67981482131648,
          193.27319290810595,
          192.86657099489543,
          192.4599490816849,
          192.05332716847437,
          191.64670525526384,
          191.24008334205334,
          190.8334614288428,
          190.42683951563228,
          190.02021760242175,
          189.61359568921122,
          189.2069737760007,
          188.8003518627902,
          188.39372994957967,
          187.98710803636914,
          187.5804861231586,
          187.17386420994808,
          186.76724229673755,
          186.36062038352702,
          185.9539984703165,
          185.547376557106,
          185.14075464389546,
          184.73413273068493,
          184.3275108174744,
          183.92088890426388,
          183.51426699105335,
          183.10764507784285,
          182.70102316463232,
          182.2944012514218,
          181.88777933821126,
          181.48115742500073,
          181.0745355117902,
          180.66791359857967,
          180.26129168536917,
          179.85466977215864,
          179.44804785894812,
          179.0414259457376,
          178.63480403252706,
          178.22818211931653,
          177.82156020610603,
          177.4149382928955,
          177.00831637968497,
          176.60169446647444,
          176.1950725532639,
          175.78845064005338,
          175.38182872684285,
          174.97520681363233,
          174.56858490042183,
          174.1619629872113,
          173.75534107400077,
          173.34871916079024,
          172.9420972475797,
          172.53547533436918,
          172.12885342115868,
          171.72223150794815,
          171.31560959473762,
          170.9089876815271,
          170.50236576831657,
          170.09574385510604,
          169.6891219418955,
          169.28250002868498,
          168.87587811547448,
          168.46925620226395,
          168.06263428905342,
          167.6560123758429,
          167.24939046263236,
          166.84276854942186,
          166.43614663621133,
          166.0295247230008,
          165.62290280979028,
          165.21628089657975,
          164.80965898336922,
          164.4030370701587,
          163.99641515694816,
          163.58979324373766,
          163.18317133052713,
          162.7765494173166,
          162.36992750410607,
          161.96330559089554,
          161.55668367768504,
          161.15006176447451,
          160.743439851264,
          160.33681793805346,
          159.93019602484293
         ]
        },
        {
         "line": {
          "color": "purple"
         },
         "mode": "lines",
         "name": "Full model",
         "type": "scatter",
         "x": [
          "2016-01-01T00:00:00.000000000",
          "2016-02-01T00:00:00.000000000",
          "2016-03-01T00:00:00.000000000",
          "2016-04-01T00:00:00.000000000",
          "2016-05-01T00:00:00.000000000",
          "2016-06-01T00:00:00.000000000",
          "2016-07-01T00:00:00.000000000",
          "2016-08-01T00:00:00.000000000",
          "2016-09-01T00:00:00.000000000",
          "2016-10-01T00:00:00.000000000",
          "2016-11-01T00:00:00.000000000",
          "2016-12-01T00:00:00.000000000",
          "2017-01-01T00:00:00.000000000",
          "2017-02-01T00:00:00.000000000",
          "2017-03-01T00:00:00.000000000",
          "2017-04-01T00:00:00.000000000",
          "2017-05-01T00:00:00.000000000",
          "2017-06-01T00:00:00.000000000",
          "2017-07-01T00:00:00.000000000",
          "2017-08-01T00:00:00.000000000",
          "2017-09-01T00:00:00.000000000",
          "2017-10-01T00:00:00.000000000",
          "2017-11-01T00:00:00.000000000",
          "2017-12-01T00:00:00.000000000",
          "2018-01-01T00:00:00.000000000",
          "2018-02-01T00:00:00.000000000",
          "2018-03-01T00:00:00.000000000",
          "2018-04-01T00:00:00.000000000",
          "2018-05-01T00:00:00.000000000",
          "2018-06-01T00:00:00.000000000",
          "2018-07-01T00:00:00.000000000",
          "2018-08-01T00:00:00.000000000",
          "2018-09-01T00:00:00.000000000",
          "2018-10-01T00:00:00.000000000",
          "2018-11-01T00:00:00.000000000",
          "2018-12-01T00:00:00.000000000",
          "2019-01-01T00:00:00.000000000",
          "2019-02-01T00:00:00.000000000",
          "2019-03-01T00:00:00.000000000",
          "2019-04-01T00:00:00.000000000",
          "2019-05-01T00:00:00.000000000",
          "2019-06-01T00:00:00.000000000",
          "2019-07-01T00:00:00.000000000",
          "2019-08-01T00:00:00.000000000",
          "2019-09-01T00:00:00.000000000",
          "2019-10-01T00:00:00.000000000",
          "2019-11-01T00:00:00.000000000",
          "2019-12-01T00:00:00.000000000",
          "2020-01-01T00:00:00.000000000",
          "2020-02-01T00:00:00.000000000",
          "2020-03-01T00:00:00.000000000",
          "2020-04-01T00:00:00.000000000",
          "2020-05-01T00:00:00.000000000",
          "2020-06-01T00:00:00.000000000",
          "2020-07-01T00:00:00.000000000",
          "2020-08-01T00:00:00.000000000",
          "2020-09-01T00:00:00.000000000",
          "2020-10-01T00:00:00.000000000",
          "2020-11-01T00:00:00.000000000",
          "2020-12-01T00:00:00.000000000",
          "2021-01-01T00:00:00.000000000",
          "2021-02-01T00:00:00.000000000",
          "2021-03-01T00:00:00.000000000",
          "2021-04-01T00:00:00.000000000",
          "2021-05-01T00:00:00.000000000",
          "2021-06-01T00:00:00.000000000",
          "2021-07-01T00:00:00.000000000",
          "2021-08-01T00:00:00.000000000",
          "2021-09-01T00:00:00.000000000",
          "2021-10-01T00:00:00.000000000",
          "2021-11-01T00:00:00.000000000",
          "2021-12-01T00:00:00.000000000",
          "2022-01-01T00:00:00.000000000",
          "2022-02-01T00:00:00.000000000",
          "2022-03-01T00:00:00.000000000",
          "2022-04-01T00:00:00.000000000",
          "2022-05-01T00:00:00.000000000",
          "2022-06-01T00:00:00.000000000",
          "2022-07-01T00:00:00.000000000",
          "2022-08-01T00:00:00.000000000",
          "2022-09-01T00:00:00.000000000",
          "2022-10-01T00:00:00.000000000",
          "2022-11-01T00:00:00.000000000",
          "2022-12-01T00:00:00.000000000",
          "2023-01-01T00:00:00.000000000",
          "2023-02-01T00:00:00.000000000",
          "2023-03-01T00:00:00.000000000",
          "2023-04-01T00:00:00.000000000",
          "2023-05-01T00:00:00.000000000",
          "2023-06-01T00:00:00.000000000",
          "2023-07-01T00:00:00.000000000",
          "2023-08-01T00:00:00.000000000",
          "2023-09-01T00:00:00.000000000",
          "2023-10-01T00:00:00.000000000",
          "2023-11-01T00:00:00.000000000",
          "2023-12-01T00:00:00.000000000",
          "2024-01-01T00:00:00.000000000",
          "2024-02-01T00:00:00.000000000",
          "2024-03-01T00:00:00.000000000",
          "2024-04-01T00:00:00.000000000",
          "2024-05-01T00:00:00.000000000",
          "2024-06-01T00:00:00.000000000",
          "2024-07-01T00:00:00.000000000",
          "2024-08-01T00:00:00.000000000",
          "2024-09-01T00:00:00.000000000",
          "2024-10-01T00:00:00.000000000",
          "2024-11-01T00:00:00.000000000",
          "2024-12-01T00:00:00.000000000"
         ],
         "y": [
          203.43874073836906,
          203.03211882515853,
          202.625496911948,
          202.2188749987375,
          201.81225308552698,
          201.40563117231645,
          200.99900925910592,
          200.5923873458954,
          200.18576543268486,
          199.77914351947436,
          199.37252160626383,
          198.9658996930533,
          198.55927777984277,
          198.15265586663224,
          197.74603395342172,
          197.3394120402112,
          196.9327901270007,
          196.52616821379016,
          196.11954630057963,
          195.7129243873691,
          195.30630247415857,
          194.89968056094804,
          194.4930586477375,
          194.086436734527,
          193.67981482131648,
          193.27319290810595,
          192.86657099489543,
          192.4599490816849,
          192.05332716847437,
          191.64670525526384,
          191.24008334205334,
          190.8334614288428,
          190.42683951563228,
          190.02021760242175,
          189.61359568921122,
          189.2069737760007,
          188.8003518627902,
          188.39372994957967,
          187.98710803636914,
          187.5804861231586,
          187.17386420994808,
          186.76724229673755,
          186.36062038352702,
          185.9539984703165,
          185.547376557106,
          185.14075464389546,
          184.73413273068493,
          184.3275108174744,
          92.92088890426388,
          92.51426699105335,
          92.10764507784285,
          91.70102316463232,
          91.29440125142179,
          90.88777933821126,
          90.48115742500073,
          85.0745355117902,
          89.66791359857967,
          93.26129168536917,
          96.85466977215864,
          101.44804785894812,
          105.04142594573759,
          108.63480403252706,
          112.22818211931653,
          59.82156020610603,
          59.4149382928955,
          124.00831637968497,
          127.60169446647444,
          132.1950725532639,
          135.78845064005338,
          139.38182872684285,
          143.97520681363233,
          147.56858490042183,
          151.1619629872113,
          154.75534107400077,
          159.34871916079024,
          162.9420972475797,
          166.53547533436918,
          170.12885342115868,
          174.72223150794815,
          178.31560959473762,
          181.9089876815271,
          185.50236576831657,
          190.09574385510604,
          193.6891219418955,
          197.28250002868498,
          201.87587811547448,
          205.46925620226395,
          209.06263428905342,
          212.6560123758429,
          217.24939046263236,
          220.84276854942186,
          224.43614663621133,
          228.0295247230008,
          232.62290280979028,
          236.21628089657975,
          239.80965898336922,
          243.4030370701587,
          247.99641515694816,
          251.58979324373766,
          255.18317133052713,
          259.7765494173166,
          263.36992750410604,
          266.9633055908955,
          270.55668367768504,
          275.1500617644745,
          278.743439851264,
          282.33681793805346,
          285.9301960248429
         ]
        }
       ],
       "layout": {
        "legend": {
         "title": {
          "text": "Legend"
         }
        },
        "template": {
         "data": {
          "bar": [
           {
            "error_x": {
             "color": "#2a3f5f"
            },
            "error_y": {
             "color": "#2a3f5f"
            },
            "marker": {
             "line": {
              "color": "#E5ECF6",
              "width": 0.5
             },
             "pattern": {
              "fillmode": "overlay",
              "size": 10,
              "solidity": 0.2
             }
            },
            "type": "bar"
           }
          ],
          "barpolar": [
           {
            "marker": {
             "line": {
              "color": "#E5ECF6",
              "width": 0.5
             },
             "pattern": {
              "fillmode": "overlay",
              "size": 10,
              "solidity": 0.2
             }
            },
            "type": "barpolar"
           }
          ],
          "carpet": [
           {
            "aaxis": {
             "endlinecolor": "#2a3f5f",
             "gridcolor": "white",
             "linecolor": "white",
             "minorgridcolor": "white",
             "startlinecolor": "#2a3f5f"
            },
            "baxis": {
             "endlinecolor": "#2a3f5f",
             "gridcolor": "white",
             "linecolor": "white",
             "minorgridcolor": "white",
             "startlinecolor": "#2a3f5f"
            },
            "type": "carpet"
           }
          ],
          "choropleth": [
           {
            "colorbar": {
             "outlinewidth": 0,
             "ticks": ""
            },
            "type": "choropleth"
           }
          ],
          "contour": [
           {
            "colorbar": {
             "outlinewidth": 0,
             "ticks": ""
            },
            "colorscale": [
             [
              0,
              "#0d0887"
             ],
             [
              0.1111111111111111,
              "#46039f"
             ],
             [
              0.2222222222222222,
              "#7201a8"
             ],
             [
              0.3333333333333333,
              "#9c179e"
             ],
             [
              0.4444444444444444,
              "#bd3786"
             ],
             [
              0.5555555555555556,
              "#d8576b"
             ],
             [
              0.6666666666666666,
              "#ed7953"
             ],
             [
              0.7777777777777778,
              "#fb9f3a"
             ],
             [
              0.8888888888888888,
              "#fdca26"
             ],
             [
              1,
              "#f0f921"
             ]
            ],
            "type": "contour"
           }
          ],
          "contourcarpet": [
           {
            "colorbar": {
             "outlinewidth": 0,
             "ticks": ""
            },
            "type": "contourcarpet"
           }
          ],
          "heatmap": [
           {
            "colorbar": {
             "outlinewidth": 0,
             "ticks": ""
            },
            "colorscale": [
             [
              0,
              "#0d0887"
             ],
             [
              0.1111111111111111,
              "#46039f"
             ],
             [
              0.2222222222222222,
              "#7201a8"
             ],
             [
              0.3333333333333333,
              "#9c179e"
             ],
             [
              0.4444444444444444,
              "#bd3786"
             ],
             [
              0.5555555555555556,
              "#d8576b"
             ],
             [
              0.6666666666666666,
              "#ed7953"
             ],
             [
              0.7777777777777778,
              "#fb9f3a"
             ],
             [
              0.8888888888888888,
              "#fdca26"
             ],
             [
              1,
              "#f0f921"
             ]
            ],
            "type": "heatmap"
           }
          ],
          "heatmapgl": [
           {
            "colorbar": {
             "outlinewidth": 0,
             "ticks": ""
            },
            "colorscale": [
             [
              0,
              "#0d0887"
             ],
             [
              0.1111111111111111,
              "#46039f"
             ],
             [
              0.2222222222222222,
              "#7201a8"
             ],
             [
              0.3333333333333333,
              "#9c179e"
             ],
             [
              0.4444444444444444,
              "#bd3786"
             ],
             [
              0.5555555555555556,
              "#d8576b"
             ],
             [
              0.6666666666666666,
              "#ed7953"
             ],
             [
              0.7777777777777778,
              "#fb9f3a"
             ],
             [
              0.8888888888888888,
              "#fdca26"
             ],
             [
              1,
              "#f0f921"
             ]
            ],
            "type": "heatmapgl"
           }
          ],
          "histogram": [
           {
            "marker": {
             "pattern": {
              "fillmode": "overlay",
              "size": 10,
              "solidity": 0.2
             }
            },
            "type": "histogram"
           }
          ],
          "histogram2d": [
           {
            "colorbar": {
             "outlinewidth": 0,
             "ticks": ""
            },
            "colorscale": [
             [
              0,
              "#0d0887"
             ],
             [
              0.1111111111111111,
              "#46039f"
             ],
             [
              0.2222222222222222,
              "#7201a8"
             ],
             [
              0.3333333333333333,
              "#9c179e"
             ],
             [
              0.4444444444444444,
              "#bd3786"
             ],
             [
              0.5555555555555556,
              "#d8576b"
             ],
             [
              0.6666666666666666,
              "#ed7953"
             ],
             [
              0.7777777777777778,
              "#fb9f3a"
             ],
             [
              0.8888888888888888,
              "#fdca26"
             ],
             [
              1,
              "#f0f921"
             ]
            ],
            "type": "histogram2d"
           }
          ],
          "histogram2dcontour": [
           {
            "colorbar": {
             "outlinewidth": 0,
             "ticks": ""
            },
            "colorscale": [
             [
              0,
              "#0d0887"
             ],
             [
              0.1111111111111111,
              "#46039f"
             ],
             [
              0.2222222222222222,
              "#7201a8"
             ],
             [
              0.3333333333333333,
              "#9c179e"
             ],
             [
              0.4444444444444444,
              "#bd3786"
             ],
             [
              0.5555555555555556,
              "#d8576b"
             ],
             [
              0.6666666666666666,
              "#ed7953"
             ],
             [
              0.7777777777777778,
              "#fb9f3a"
             ],
             [
              0.8888888888888888,
              "#fdca26"
             ],
             [
              1,
              "#f0f921"
             ]
            ],
            "type": "histogram2dcontour"
           }
          ],
          "mesh3d": [
           {
            "colorbar": {
             "outlinewidth": 0,
             "ticks": ""
            },
            "type": "mesh3d"
           }
          ],
          "parcoords": [
           {
            "line": {
             "colorbar": {
              "outlinewidth": 0,
              "ticks": ""
             }
            },
            "type": "parcoords"
           }
          ],
          "pie": [
           {
            "automargin": true,
            "type": "pie"
           }
          ],
          "scatter": [
           {
            "fillpattern": {
             "fillmode": "overlay",
             "size": 10,
             "solidity": 0.2
            },
            "type": "scatter"
           }
          ],
          "scatter3d": [
           {
            "line": {
             "colorbar": {
              "outlinewidth": 0,
              "ticks": ""
             }
            },
            "marker": {
             "colorbar": {
              "outlinewidth": 0,
              "ticks": ""
             }
            },
            "type": "scatter3d"
           }
          ],
          "scattercarpet": [
           {
            "marker": {
             "colorbar": {
              "outlinewidth": 0,
              "ticks": ""
             }
            },
            "type": "scattercarpet"
           }
          ],
          "scattergeo": [
           {
            "marker": {
             "colorbar": {
              "outlinewidth": 0,
              "ticks": ""
             }
            },
            "type": "scattergeo"
           }
          ],
          "scattergl": [
           {
            "marker": {
             "colorbar": {
              "outlinewidth": 0,
              "ticks": ""
             }
            },
            "type": "scattergl"
           }
          ],
          "scattermapbox": [
           {
            "marker": {
             "colorbar": {
              "outlinewidth": 0,
              "ticks": ""
             }
            },
            "type": "scattermapbox"
           }
          ],
          "scatterpolar": [
           {
            "marker": {
             "colorbar": {
              "outlinewidth": 0,
              "ticks": ""
             }
            },
            "type": "scatterpolar"
           }
          ],
          "scatterpolargl": [
           {
            "marker": {
             "colorbar": {
              "outlinewidth": 0,
              "ticks": ""
             }
            },
            "type": "scatterpolargl"
           }
          ],
          "scatterternary": [
           {
            "marker": {
             "colorbar": {
              "outlinewidth": 0,
              "ticks": ""
             }
            },
            "type": "scatterternary"
           }
          ],
          "surface": [
           {
            "colorbar": {
             "outlinewidth": 0,
             "ticks": ""
            },
            "colorscale": [
             [
              0,
              "#0d0887"
             ],
             [
              0.1111111111111111,
              "#46039f"
             ],
             [
              0.2222222222222222,
              "#7201a8"
             ],
             [
              0.3333333333333333,
              "#9c179e"
             ],
             [
              0.4444444444444444,
              "#bd3786"
             ],
             [
              0.5555555555555556,
              "#d8576b"
             ],
             [
              0.6666666666666666,
              "#ed7953"
             ],
             [
              0.7777777777777778,
              "#fb9f3a"
             ],
             [
              0.8888888888888888,
              "#fdca26"
             ],
             [
              1,
              "#f0f921"
             ]
            ],
            "type": "surface"
           }
          ],
          "table": [
           {
            "cells": {
             "fill": {
              "color": "#EBF0F8"
             },
             "line": {
              "color": "white"
             }
            },
            "header": {
             "fill": {
              "color": "#C8D4E3"
             },
             "line": {
              "color": "white"
             }
            },
            "type": "table"
           }
          ]
         },
         "layout": {
          "annotationdefaults": {
           "arrowcolor": "#2a3f5f",
           "arrowhead": 0,
           "arrowwidth": 1
          },
          "autotypenumbers": "strict",
          "coloraxis": {
           "colorbar": {
            "outlinewidth": 0,
            "ticks": ""
           }
          },
          "colorscale": {
           "diverging": [
            [
             0,
             "#8e0152"
            ],
            [
             0.1,
             "#c51b7d"
            ],
            [
             0.2,
             "#de77ae"
            ],
            [
             0.3,
             "#f1b6da"
            ],
            [
             0.4,
             "#fde0ef"
            ],
            [
             0.5,
             "#f7f7f7"
            ],
            [
             0.6,
             "#e6f5d0"
            ],
            [
             0.7,
             "#b8e186"
            ],
            [
             0.8,
             "#7fbc41"
            ],
            [
             0.9,
             "#4d9221"
            ],
            [
             1,
             "#276419"
            ]
           ],
           "sequential": [
            [
             0,
             "#0d0887"
            ],
            [
             0.1111111111111111,
             "#46039f"
            ],
            [
             0.2222222222222222,
             "#7201a8"
            ],
            [
             0.3333333333333333,
             "#9c179e"
            ],
            [
             0.4444444444444444,
             "#bd3786"
            ],
            [
             0.5555555555555556,
             "#d8576b"
            ],
            [
             0.6666666666666666,
             "#ed7953"
            ],
            [
             0.7777777777777778,
             "#fb9f3a"
            ],
            [
             0.8888888888888888,
             "#fdca26"
            ],
            [
             1,
             "#f0f921"
            ]
           ],
           "sequentialminus": [
            [
             0,
             "#0d0887"
            ],
            [
             0.1111111111111111,
             "#46039f"
            ],
            [
             0.2222222222222222,
             "#7201a8"
            ],
            [
             0.3333333333333333,
             "#9c179e"
            ],
            [
             0.4444444444444444,
             "#bd3786"
            ],
            [
             0.5555555555555556,
             "#d8576b"
            ],
            [
             0.6666666666666666,
             "#ed7953"
            ],
            [
             0.7777777777777778,
             "#fb9f3a"
            ],
            [
             0.8888888888888888,
             "#fdca26"
            ],
            [
             1,
             "#f0f921"
            ]
           ]
          },
          "colorway": [
           "#636efa",
           "#EF553B",
           "#00cc96",
           "#ab63fa",
           "#FFA15A",
           "#19d3f3",
           "#FF6692",
           "#B6E880",
           "#FF97FF",
           "#FECB52"
          ],
          "font": {
           "color": "#2a3f5f"
          },
          "geo": {
           "bgcolor": "white",
           "lakecolor": "white",
           "landcolor": "#E5ECF6",
           "showlakes": true,
           "showland": true,
           "subunitcolor": "white"
          },
          "hoverlabel": {
           "align": "left"
          },
          "hovermode": "closest",
          "mapbox": {
           "style": "light"
          },
          "paper_bgcolor": "white",
          "plot_bgcolor": "#E5ECF6",
          "polar": {
           "angularaxis": {
            "gridcolor": "white",
            "linecolor": "white",
            "ticks": ""
           },
           "bgcolor": "#E5ECF6",
           "radialaxis": {
            "gridcolor": "white",
            "linecolor": "white",
            "ticks": ""
           }
          },
          "scene": {
           "xaxis": {
            "backgroundcolor": "#E5ECF6",
            "gridcolor": "white",
            "gridwidth": 2,
            "linecolor": "white",
            "showbackground": true,
            "ticks": "",
            "zerolinecolor": "white"
           },
           "yaxis": {
            "backgroundcolor": "#E5ECF6",
            "gridcolor": "white",
            "gridwidth": 2,
            "linecolor": "white",
            "showbackground": true,
            "ticks": "",
            "zerolinecolor": "white"
           },
           "zaxis": {
            "backgroundcolor": "#E5ECF6",
            "gridcolor": "white",
            "gridwidth": 2,
            "linecolor": "white",
            "showbackground": true,
            "ticks": "",
            "zerolinecolor": "white"
           }
          },
          "shapedefaults": {
           "line": {
            "color": "#2a3f5f"
           }
          },
          "ternary": {
           "aaxis": {
            "gridcolor": "white",
            "linecolor": "white",
            "ticks": ""
           },
           "baxis": {
            "gridcolor": "white",
            "linecolor": "white",
            "ticks": ""
           },
           "bgcolor": "#E5ECF6",
           "caxis": {
            "gridcolor": "white",
            "linecolor": "white",
            "ticks": ""
           }
          },
          "title": {
           "x": 0.05
          },
          "xaxis": {
           "automargin": true,
           "gridcolor": "white",
           "linecolor": "white",
           "ticks": "",
           "title": {
            "standoff": 15
           },
           "zerolinecolor": "white",
           "zerolinewidth": 2
          },
          "yaxis": {
           "automargin": true,
           "gridcolor": "white",
           "linecolor": "white",
           "ticks": "",
           "title": {
            "standoff": 15
           },
           "zerolinecolor": "white",
           "zerolinewidth": 2
          }
         }
        },
        "title": {
         "text": "F70-F79 - Retardo mental"
        },
        "xaxis": {
         "title": {
          "text": "Time"
         }
        },
        "yaxis": {
         "title": {
          "text": "Value"
         }
        }
       }
      }
     },
     "metadata": {},
     "output_type": "display_data"
    },
    {
     "data": {
      "application/vnd.plotly.v1+json": {
       "config": {
        "plotlyServerURL": "https://plot.ly"
       },
       "data": [
        {
         "marker": {
          "color": "black"
         },
         "mode": "markers",
         "name": "Real",
         "type": "scatter",
         "x": [
          "2016-01-01T00:00:00.000000000",
          "2016-02-01T00:00:00.000000000",
          "2016-03-01T00:00:00.000000000",
          "2016-04-01T00:00:00.000000000",
          "2016-05-01T00:00:00.000000000",
          "2016-06-01T00:00:00.000000000",
          "2016-07-01T00:00:00.000000000",
          "2016-08-01T00:00:00.000000000",
          "2016-09-01T00:00:00.000000000",
          "2016-10-01T00:00:00.000000000",
          "2016-11-01T00:00:00.000000000",
          "2016-12-01T00:00:00.000000000",
          "2017-01-01T00:00:00.000000000",
          "2017-02-01T00:00:00.000000000",
          "2017-03-01T00:00:00.000000000",
          "2017-04-01T00:00:00.000000000",
          "2017-05-01T00:00:00.000000000",
          "2017-06-01T00:00:00.000000000",
          "2017-07-01T00:00:00.000000000",
          "2017-08-01T00:00:00.000000000",
          "2017-09-01T00:00:00.000000000",
          "2017-10-01T00:00:00.000000000",
          "2017-11-01T00:00:00.000000000",
          "2017-12-01T00:00:00.000000000",
          "2018-01-01T00:00:00.000000000",
          "2018-02-01T00:00:00.000000000",
          "2018-03-01T00:00:00.000000000",
          "2018-04-01T00:00:00.000000000",
          "2018-05-01T00:00:00.000000000",
          "2018-06-01T00:00:00.000000000",
          "2018-07-01T00:00:00.000000000",
          "2018-08-01T00:00:00.000000000",
          "2018-09-01T00:00:00.000000000",
          "2018-10-01T00:00:00.000000000",
          "2018-11-01T00:00:00.000000000",
          "2018-12-01T00:00:00.000000000",
          "2019-01-01T00:00:00.000000000",
          "2019-02-01T00:00:00.000000000",
          "2019-03-01T00:00:00.000000000",
          "2019-04-01T00:00:00.000000000",
          "2019-05-01T00:00:00.000000000",
          "2019-06-01T00:00:00.000000000",
          "2019-07-01T00:00:00.000000000",
          "2019-08-01T00:00:00.000000000",
          "2019-09-01T00:00:00.000000000",
          "2019-10-01T00:00:00.000000000",
          "2019-11-01T00:00:00.000000000",
          "2019-12-01T00:00:00.000000000",
          "2020-01-01T00:00:00.000000000",
          "2020-02-01T00:00:00.000000000",
          "2020-03-01T00:00:00.000000000",
          "2020-04-01T00:00:00.000000000",
          "2020-05-01T00:00:00.000000000",
          "2020-06-01T00:00:00.000000000",
          "2020-07-01T00:00:00.000000000",
          "2020-08-01T00:00:00.000000000",
          "2020-09-01T00:00:00.000000000",
          "2020-10-01T00:00:00.000000000",
          "2020-11-01T00:00:00.000000000",
          "2020-12-01T00:00:00.000000000",
          "2021-01-01T00:00:00.000000000",
          "2021-02-01T00:00:00.000000000",
          "2021-03-01T00:00:00.000000000",
          "2021-04-01T00:00:00.000000000",
          "2021-05-01T00:00:00.000000000",
          "2021-06-01T00:00:00.000000000",
          "2021-07-01T00:00:00.000000000",
          "2021-08-01T00:00:00.000000000",
          "2021-09-01T00:00:00.000000000",
          "2021-10-01T00:00:00.000000000",
          "2021-11-01T00:00:00.000000000",
          "2021-12-01T00:00:00.000000000",
          "2022-01-01T00:00:00.000000000",
          "2022-02-01T00:00:00.000000000",
          "2022-03-01T00:00:00.000000000",
          "2022-04-01T00:00:00.000000000",
          "2022-05-01T00:00:00.000000000",
          "2022-06-01T00:00:00.000000000",
          "2022-07-01T00:00:00.000000000",
          "2022-08-01T00:00:00.000000000",
          "2022-09-01T00:00:00.000000000",
          "2022-10-01T00:00:00.000000000",
          "2022-11-01T00:00:00.000000000",
          "2022-12-01T00:00:00.000000000",
          "2023-01-01T00:00:00.000000000",
          "2023-02-01T00:00:00.000000000",
          "2023-03-01T00:00:00.000000000",
          "2023-04-01T00:00:00.000000000",
          "2023-05-01T00:00:00.000000000",
          "2023-06-01T00:00:00.000000000",
          "2023-07-01T00:00:00.000000000",
          "2023-08-01T00:00:00.000000000",
          "2023-09-01T00:00:00.000000000",
          "2023-10-01T00:00:00.000000000",
          "2023-11-01T00:00:00.000000000",
          "2023-12-01T00:00:00.000000000",
          "2024-01-01T00:00:00.000000000",
          "2024-02-01T00:00:00.000000000",
          "2024-03-01T00:00:00.000000000",
          "2024-04-01T00:00:00.000000000",
          "2024-05-01T00:00:00.000000000",
          "2024-06-01T00:00:00.000000000",
          "2024-07-01T00:00:00.000000000",
          "2024-08-01T00:00:00.000000000",
          "2024-09-01T00:00:00.000000000",
          "2024-10-01T00:00:00.000000000",
          "2024-11-01T00:00:00.000000000",
          "2024-12-01T00:00:00.000000000"
         ],
         "y": [
          58,
          64,
          80,
          86,
          115,
          148,
          146,
          197,
          172,
          189,
          118,
          106,
          101,
          94,
          159,
          138,
          169,
          169,
          158,
          171,
          184,
          153,
          187,
          173,
          158,
          128,
          204,
          245,
          235,
          162,
          210,
          240,
          208,
          253,
          263,
          179,
          170,
          158,
          225,
          259,
          322,
          264,
          305,
          276,
          224,
          223,
          204,
          171,
          184,
          127,
          135,
          56,
          96,
          91,
          105,
          113,
          160,
          205,
          198,
          170,
          218,
          245,
          170,
          162,
          72,
          293,
          378,
          366,
          381,
          397,
          385,
          389,
          200,
          314,
          475,
          344,
          401,
          459,
          406,
          508,
          497,
          481,
          453,
          446,
          509,
          400,
          609,
          566,
          882,
          719,
          750,
          914,
          683,
          946,
          880,
          822,
          855,
          801,
          955,
          1162,
          590,
          871,
          1105,
          1124,
          967,
          1308,
          1093,
          965
         ]
        },
        {
         "line": {
          "color": "black",
          "dash": "dot"
         },
         "mode": "lines",
         "name": "Baseline",
         "type": "scatter",
         "x": [
          "2016-01-01T00:00:00.000000000",
          "2016-02-01T00:00:00.000000000",
          "2016-03-01T00:00:00.000000000",
          "2016-04-01T00:00:00.000000000",
          "2016-05-01T00:00:00.000000000",
          "2016-06-01T00:00:00.000000000",
          "2016-07-01T00:00:00.000000000",
          "2016-08-01T00:00:00.000000000",
          "2016-09-01T00:00:00.000000000",
          "2016-10-01T00:00:00.000000000",
          "2016-11-01T00:00:00.000000000",
          "2016-12-01T00:00:00.000000000",
          "2017-01-01T00:00:00.000000000",
          "2017-02-01T00:00:00.000000000",
          "2017-03-01T00:00:00.000000000",
          "2017-04-01T00:00:00.000000000",
          "2017-05-01T00:00:00.000000000",
          "2017-06-01T00:00:00.000000000",
          "2017-07-01T00:00:00.000000000",
          "2017-08-01T00:00:00.000000000",
          "2017-09-01T00:00:00.000000000",
          "2017-10-01T00:00:00.000000000",
          "2017-11-01T00:00:00.000000000",
          "2017-12-01T00:00:00.000000000",
          "2018-01-01T00:00:00.000000000",
          "2018-02-01T00:00:00.000000000",
          "2018-03-01T00:00:00.000000000",
          "2018-04-01T00:00:00.000000000",
          "2018-05-01T00:00:00.000000000",
          "2018-06-01T00:00:00.000000000",
          "2018-07-01T00:00:00.000000000",
          "2018-08-01T00:00:00.000000000",
          "2018-09-01T00:00:00.000000000",
          "2018-10-01T00:00:00.000000000",
          "2018-11-01T00:00:00.000000000",
          "2018-12-01T00:00:00.000000000",
          "2019-01-01T00:00:00.000000000",
          "2019-02-01T00:00:00.000000000",
          "2019-03-01T00:00:00.000000000",
          "2019-04-01T00:00:00.000000000",
          "2019-05-01T00:00:00.000000000",
          "2019-06-01T00:00:00.000000000",
          "2019-07-01T00:00:00.000000000",
          "2019-08-01T00:00:00.000000000",
          "2019-09-01T00:00:00.000000000",
          "2019-10-01T00:00:00.000000000",
          "2019-11-01T00:00:00.000000000",
          "2019-12-01T00:00:00.000000000",
          "2020-01-01T00:00:00.000000000",
          "2020-02-01T00:00:00.000000000",
          "2020-03-01T00:00:00.000000000",
          "2020-04-01T00:00:00.000000000",
          "2020-05-01T00:00:00.000000000",
          "2020-06-01T00:00:00.000000000",
          "2020-07-01T00:00:00.000000000",
          "2020-08-01T00:00:00.000000000",
          "2020-09-01T00:00:00.000000000",
          "2020-10-01T00:00:00.000000000",
          "2020-11-01T00:00:00.000000000",
          "2020-12-01T00:00:00.000000000",
          "2021-01-01T00:00:00.000000000",
          "2021-02-01T00:00:00.000000000",
          "2021-03-01T00:00:00.000000000",
          "2021-04-01T00:00:00.000000000",
          "2021-05-01T00:00:00.000000000",
          "2021-06-01T00:00:00.000000000",
          "2021-07-01T00:00:00.000000000",
          "2021-08-01T00:00:00.000000000",
          "2021-09-01T00:00:00.000000000",
          "2021-10-01T00:00:00.000000000",
          "2021-11-01T00:00:00.000000000",
          "2021-12-01T00:00:00.000000000",
          "2022-01-01T00:00:00.000000000",
          "2022-02-01T00:00:00.000000000",
          "2022-03-01T00:00:00.000000000",
          "2022-04-01T00:00:00.000000000",
          "2022-05-01T00:00:00.000000000",
          "2022-06-01T00:00:00.000000000",
          "2022-07-01T00:00:00.000000000",
          "2022-08-01T00:00:00.000000000",
          "2022-09-01T00:00:00.000000000",
          "2022-10-01T00:00:00.000000000",
          "2022-11-01T00:00:00.000000000",
          "2022-12-01T00:00:00.000000000",
          "2023-01-01T00:00:00.000000000",
          "2023-02-01T00:00:00.000000000",
          "2023-03-01T00:00:00.000000000",
          "2023-04-01T00:00:00.000000000",
          "2023-05-01T00:00:00.000000000",
          "2023-06-01T00:00:00.000000000",
          "2023-07-01T00:00:00.000000000",
          "2023-08-01T00:00:00.000000000",
          "2023-09-01T00:00:00.000000000",
          "2023-10-01T00:00:00.000000000",
          "2023-11-01T00:00:00.000000000",
          "2023-12-01T00:00:00.000000000",
          "2024-01-01T00:00:00.000000000",
          "2024-02-01T00:00:00.000000000",
          "2024-03-01T00:00:00.000000000",
          "2024-04-01T00:00:00.000000000",
          "2024-05-01T00:00:00.000000000",
          "2024-06-01T00:00:00.000000000",
          "2024-07-01T00:00:00.000000000",
          "2024-08-01T00:00:00.000000000",
          "2024-09-01T00:00:00.000000000",
          "2024-10-01T00:00:00.000000000",
          "2024-11-01T00:00:00.000000000",
          "2024-12-01T00:00:00.000000000"
         ],
         "y": [
          45.93148407863437,
          49.14799637168194,
          52.36450866472951,
          55.58102095777709,
          58.79753325082467,
          62.01404554387224,
          65.23055783691981,
          68.44707012996739,
          71.66358242301497,
          74.88009471606254,
          78.09660700911013,
          81.3131193021577,
          84.52963159520527,
          87.74614388825285,
          90.96265618130042,
          94.17916847434799,
          97.39568076739556,
          100.61219306044315,
          103.82870535349073,
          107.0452176465383,
          110.26172993958588,
          113.47824223263345,
          116.69475452568102,
          119.91126681872859,
          123.12777911177616,
          126.34429140482374,
          129.56080369787134,
          132.7773159909189,
          135.99382828396648,
          139.21034057701405,
          142.42685287006162,
          145.6433651631092,
          148.85987745615677,
          152.07638974920434,
          155.29290204225194,
          158.5094143352995,
          161.72592662834708,
          164.94243892139465,
          168.15895121444223,
          171.3754635074898,
          174.59197580053737,
          177.80848809358494,
          181.0250003866325,
          184.2415126796801,
          187.45802497272769,
          190.67453726577526,
          193.89104955882283,
          197.1075618518704,
          200.32407414491797,
          203.54058643796554,
          206.75709873101312,
          209.9736110240607,
          213.1901233171083,
          216.40663561015586,
          219.62314790320343,
          222.839660196251,
          226.05617248929858,
          229.27268478234615,
          232.48919707539372,
          235.70570936844132,
          238.9222216614889,
          242.13873395453646,
          245.35524624758403,
          248.5717585406316,
          251.78827083367918,
          255.00478312672675,
          258.2212954197743,
          261.4378077128219,
          264.6543200058695,
          267.8708322989171,
          271.08734459196467,
          274.30385688501224,
          277.5203691780598,
          280.7368814711074,
          283.95339376415495,
          287.1699060572025,
          290.3864183502501,
          293.60293064329767,
          296.81944293634524,
          300.0359552293928,
          303.2524675224404,
          306.46897981548796,
          309.6854921085355,
          312.9020044015831,
          316.11851669463067,
          319.33502898767824,
          322.5515412807258,
          325.76805357377344,
          328.984565866821,
          332.2010781598686,
          335.41759045291616,
          338.63410274596373,
          341.8506150390113,
          345.0671273320589,
          348.28363962510645,
          351.500151918154,
          354.7166642112016,
          357.93317650424916,
          361.14968879729673,
          364.3662010903443,
          367.5827133833919,
          370.79922567643945,
          374.015737969487,
          377.2322502625346,
          380.4487625555822,
          383.6652748486298,
          386.88178714167736,
          390.09829943472494
         ]
        },
        {
         "line": {
          "color": "purple"
         },
         "mode": "lines",
         "name": "Full model",
         "type": "scatter",
         "x": [
          "2016-01-01T00:00:00.000000000",
          "2016-02-01T00:00:00.000000000",
          "2016-03-01T00:00:00.000000000",
          "2016-04-01T00:00:00.000000000",
          "2016-05-01T00:00:00.000000000",
          "2016-06-01T00:00:00.000000000",
          "2016-07-01T00:00:00.000000000",
          "2016-08-01T00:00:00.000000000",
          "2016-09-01T00:00:00.000000000",
          "2016-10-01T00:00:00.000000000",
          "2016-11-01T00:00:00.000000000",
          "2016-12-01T00:00:00.000000000",
          "2017-01-01T00:00:00.000000000",
          "2017-02-01T00:00:00.000000000",
          "2017-03-01T00:00:00.000000000",
          "2017-04-01T00:00:00.000000000",
          "2017-05-01T00:00:00.000000000",
          "2017-06-01T00:00:00.000000000",
          "2017-07-01T00:00:00.000000000",
          "2017-08-01T00:00:00.000000000",
          "2017-09-01T00:00:00.000000000",
          "2017-10-01T00:00:00.000000000",
          "2017-11-01T00:00:00.000000000",
          "2017-12-01T00:00:00.000000000",
          "2018-01-01T00:00:00.000000000",
          "2018-02-01T00:00:00.000000000",
          "2018-03-01T00:00:00.000000000",
          "2018-04-01T00:00:00.000000000",
          "2018-05-01T00:00:00.000000000",
          "2018-06-01T00:00:00.000000000",
          "2018-07-01T00:00:00.000000000",
          "2018-08-01T00:00:00.000000000",
          "2018-09-01T00:00:00.000000000",
          "2018-10-01T00:00:00.000000000",
          "2018-11-01T00:00:00.000000000",
          "2018-12-01T00:00:00.000000000",
          "2019-01-01T00:00:00.000000000",
          "2019-02-01T00:00:00.000000000",
          "2019-03-01T00:00:00.000000000",
          "2019-04-01T00:00:00.000000000",
          "2019-05-01T00:00:00.000000000",
          "2019-06-01T00:00:00.000000000",
          "2019-07-01T00:00:00.000000000",
          "2019-08-01T00:00:00.000000000",
          "2019-09-01T00:00:00.000000000",
          "2019-10-01T00:00:00.000000000",
          "2019-11-01T00:00:00.000000000",
          "2019-12-01T00:00:00.000000000",
          "2020-01-01T00:00:00.000000000",
          "2020-02-01T00:00:00.000000000",
          "2020-03-01T00:00:00.000000000",
          "2020-04-01T00:00:00.000000000",
          "2020-05-01T00:00:00.000000000",
          "2020-06-01T00:00:00.000000000",
          "2020-07-01T00:00:00.000000000",
          "2020-08-01T00:00:00.000000000",
          "2020-09-01T00:00:00.000000000",
          "2020-10-01T00:00:00.000000000",
          "2020-11-01T00:00:00.000000000",
          "2020-12-01T00:00:00.000000000",
          "2021-01-01T00:00:00.000000000",
          "2021-02-01T00:00:00.000000000",
          "2021-03-01T00:00:00.000000000",
          "2021-04-01T00:00:00.000000000",
          "2021-05-01T00:00:00.000000000",
          "2021-06-01T00:00:00.000000000",
          "2021-07-01T00:00:00.000000000",
          "2021-08-01T00:00:00.000000000",
          "2021-09-01T00:00:00.000000000",
          "2021-10-01T00:00:00.000000000",
          "2021-11-01T00:00:00.000000000",
          "2021-12-01T00:00:00.000000000",
          "2022-01-01T00:00:00.000000000",
          "2022-02-01T00:00:00.000000000",
          "2022-03-01T00:00:00.000000000",
          "2022-04-01T00:00:00.000000000",
          "2022-05-01T00:00:00.000000000",
          "2022-06-01T00:00:00.000000000",
          "2022-07-01T00:00:00.000000000",
          "2022-08-01T00:00:00.000000000",
          "2022-09-01T00:00:00.000000000",
          "2022-10-01T00:00:00.000000000",
          "2022-11-01T00:00:00.000000000",
          "2022-12-01T00:00:00.000000000",
          "2023-01-01T00:00:00.000000000",
          "2023-02-01T00:00:00.000000000",
          "2023-03-01T00:00:00.000000000",
          "2023-04-01T00:00:00.000000000",
          "2023-05-01T00:00:00.000000000",
          "2023-06-01T00:00:00.000000000",
          "2023-07-01T00:00:00.000000000",
          "2023-08-01T00:00:00.000000000",
          "2023-09-01T00:00:00.000000000",
          "2023-10-01T00:00:00.000000000",
          "2023-11-01T00:00:00.000000000",
          "2023-12-01T00:00:00.000000000",
          "2024-01-01T00:00:00.000000000",
          "2024-02-01T00:00:00.000000000",
          "2024-03-01T00:00:00.000000000",
          "2024-04-01T00:00:00.000000000",
          "2024-05-01T00:00:00.000000000",
          "2024-06-01T00:00:00.000000000",
          "2024-07-01T00:00:00.000000000",
          "2024-08-01T00:00:00.000000000",
          "2024-09-01T00:00:00.000000000",
          "2024-10-01T00:00:00.000000000",
          "2024-11-01T00:00:00.000000000",
          "2024-12-01T00:00:00.000000000"
         ],
         "y": [
          45.93148407863437,
          49.14799637168194,
          52.36450866472951,
          55.58102095777709,
          58.79753325082467,
          62.01404554387224,
          65.23055783691981,
          68.44707012996739,
          71.66358242301497,
          74.88009471606254,
          78.09660700911013,
          81.3131193021577,
          84.52963159520527,
          87.74614388825285,
          90.96265618130042,
          94.17916847434799,
          97.39568076739556,
          100.61219306044315,
          103.82870535349073,
          107.0452176465383,
          110.26172993958588,
          113.47824223263345,
          116.69475452568102,
          119.91126681872859,
          123.12777911177616,
          126.34429140482374,
          129.56080369787134,
          132.7773159909189,
          135.99382828396648,
          139.21034057701405,
          142.42685287006162,
          145.6433651631092,
          148.85987745615677,
          152.07638974920434,
          155.29290204225194,
          158.5094143352995,
          161.72592662834708,
          164.94243892139465,
          168.15895121444223,
          171.3754635074898,
          174.59197580053737,
          177.80848809358494,
          181.0250003866325,
          184.2415126796801,
          187.45802497272769,
          190.67453726577526,
          193.89104955882283,
          197.1075618518704,
          53.32407414491797,
          56.540586437965544,
          59.757098731013116,
          62.97361102406069,
          66.19012331710829,
          69.40663561015586,
          72.62314790320343,
          34.839660196250975,
          53.05617248929855,
          71.27268478234612,
          89.48919707539369,
          107.70570936844138,
          125.92222166148895,
          144.13873395453652,
          162.3552462475841,
          121.5717585406316,
          124.78827083367918,
          217.0047831267268,
          235.22129541977438,
          254.43780771282195,
          272.6543200058695,
          290.8708322989171,
          309.08734459196467,
          327.30385688501224,
          345.5203691780598,
          363.7368814711074,
          381.95339376415495,
          400.1699060572025,
          418.3864183502501,
          436.60293064329767,
          454.81944293634524,
          473.0359552293928,
          492.2524675224404,
          510.46897981548796,
          528.6854921085355,
          546.9020044015831,
          565.1185166946307,
          583.3350289876782,
          601.5515412807258,
          619.7680535737734,
          637.984565866821,
          656.2010781598685,
          674.4175904529161,
          692.6341027459637,
          710.8506150390112,
          729.0671273320588,
          748.2836396251064,
          766.500151918154,
          784.7166642112015,
          802.9331765042491,
          821.1496887972967,
          839.3662010903442,
          857.5827133833918,
          875.7992256764394,
          894.015737969487,
          912.2322502625345,
          930.4487625555822,
          948.6652748486298,
          966.8817871416774,
          986.0982994347249
         ]
        }
       ],
       "layout": {
        "legend": {
         "title": {
          "text": "Legend"
         }
        },
        "template": {
         "data": {
          "bar": [
           {
            "error_x": {
             "color": "#2a3f5f"
            },
            "error_y": {
             "color": "#2a3f5f"
            },
            "marker": {
             "line": {
              "color": "#E5ECF6",
              "width": 0.5
             },
             "pattern": {
              "fillmode": "overlay",
              "size": 10,
              "solidity": 0.2
             }
            },
            "type": "bar"
           }
          ],
          "barpolar": [
           {
            "marker": {
             "line": {
              "color": "#E5ECF6",
              "width": 0.5
             },
             "pattern": {
              "fillmode": "overlay",
              "size": 10,
              "solidity": 0.2
             }
            },
            "type": "barpolar"
           }
          ],
          "carpet": [
           {
            "aaxis": {
             "endlinecolor": "#2a3f5f",
             "gridcolor": "white",
             "linecolor": "white",
             "minorgridcolor": "white",
             "startlinecolor": "#2a3f5f"
            },
            "baxis": {
             "endlinecolor": "#2a3f5f",
             "gridcolor": "white",
             "linecolor": "white",
             "minorgridcolor": "white",
             "startlinecolor": "#2a3f5f"
            },
            "type": "carpet"
           }
          ],
          "choropleth": [
           {
            "colorbar": {
             "outlinewidth": 0,
             "ticks": ""
            },
            "type": "choropleth"
           }
          ],
          "contour": [
           {
            "colorbar": {
             "outlinewidth": 0,
             "ticks": ""
            },
            "colorscale": [
             [
              0,
              "#0d0887"
             ],
             [
              0.1111111111111111,
              "#46039f"
             ],
             [
              0.2222222222222222,
              "#7201a8"
             ],
             [
              0.3333333333333333,
              "#9c179e"
             ],
             [
              0.4444444444444444,
              "#bd3786"
             ],
             [
              0.5555555555555556,
              "#d8576b"
             ],
             [
              0.6666666666666666,
              "#ed7953"
             ],
             [
              0.7777777777777778,
              "#fb9f3a"
             ],
             [
              0.8888888888888888,
              "#fdca26"
             ],
             [
              1,
              "#f0f921"
             ]
            ],
            "type": "contour"
           }
          ],
          "contourcarpet": [
           {
            "colorbar": {
             "outlinewidth": 0,
             "ticks": ""
            },
            "type": "contourcarpet"
           }
          ],
          "heatmap": [
           {
            "colorbar": {
             "outlinewidth": 0,
             "ticks": ""
            },
            "colorscale": [
             [
              0,
              "#0d0887"
             ],
             [
              0.1111111111111111,
              "#46039f"
             ],
             [
              0.2222222222222222,
              "#7201a8"
             ],
             [
              0.3333333333333333,
              "#9c179e"
             ],
             [
              0.4444444444444444,
              "#bd3786"
             ],
             [
              0.5555555555555556,
              "#d8576b"
             ],
             [
              0.6666666666666666,
              "#ed7953"
             ],
             [
              0.7777777777777778,
              "#fb9f3a"
             ],
             [
              0.8888888888888888,
              "#fdca26"
             ],
             [
              1,
              "#f0f921"
             ]
            ],
            "type": "heatmap"
           }
          ],
          "heatmapgl": [
           {
            "colorbar": {
             "outlinewidth": 0,
             "ticks": ""
            },
            "colorscale": [
             [
              0,
              "#0d0887"
             ],
             [
              0.1111111111111111,
              "#46039f"
             ],
             [
              0.2222222222222222,
              "#7201a8"
             ],
             [
              0.3333333333333333,
              "#9c179e"
             ],
             [
              0.4444444444444444,
              "#bd3786"
             ],
             [
              0.5555555555555556,
              "#d8576b"
             ],
             [
              0.6666666666666666,
              "#ed7953"
             ],
             [
              0.7777777777777778,
              "#fb9f3a"
             ],
             [
              0.8888888888888888,
              "#fdca26"
             ],
             [
              1,
              "#f0f921"
             ]
            ],
            "type": "heatmapgl"
           }
          ],
          "histogram": [
           {
            "marker": {
             "pattern": {
              "fillmode": "overlay",
              "size": 10,
              "solidity": 0.2
             }
            },
            "type": "histogram"
           }
          ],
          "histogram2d": [
           {
            "colorbar": {
             "outlinewidth": 0,
             "ticks": ""
            },
            "colorscale": [
             [
              0,
              "#0d0887"
             ],
             [
              0.1111111111111111,
              "#46039f"
             ],
             [
              0.2222222222222222,
              "#7201a8"
             ],
             [
              0.3333333333333333,
              "#9c179e"
             ],
             [
              0.4444444444444444,
              "#bd3786"
             ],
             [
              0.5555555555555556,
              "#d8576b"
             ],
             [
              0.6666666666666666,
              "#ed7953"
             ],
             [
              0.7777777777777778,
              "#fb9f3a"
             ],
             [
              0.8888888888888888,
              "#fdca26"
             ],
             [
              1,
              "#f0f921"
             ]
            ],
            "type": "histogram2d"
           }
          ],
          "histogram2dcontour": [
           {
            "colorbar": {
             "outlinewidth": 0,
             "ticks": ""
            },
            "colorscale": [
             [
              0,
              "#0d0887"
             ],
             [
              0.1111111111111111,
              "#46039f"
             ],
             [
              0.2222222222222222,
              "#7201a8"
             ],
             [
              0.3333333333333333,
              "#9c179e"
             ],
             [
              0.4444444444444444,
              "#bd3786"
             ],
             [
              0.5555555555555556,
              "#d8576b"
             ],
             [
              0.6666666666666666,
              "#ed7953"
             ],
             [
              0.7777777777777778,
              "#fb9f3a"
             ],
             [
              0.8888888888888888,
              "#fdca26"
             ],
             [
              1,
              "#f0f921"
             ]
            ],
            "type": "histogram2dcontour"
           }
          ],
          "mesh3d": [
           {
            "colorbar": {
             "outlinewidth": 0,
             "ticks": ""
            },
            "type": "mesh3d"
           }
          ],
          "parcoords": [
           {
            "line": {
             "colorbar": {
              "outlinewidth": 0,
              "ticks": ""
             }
            },
            "type": "parcoords"
           }
          ],
          "pie": [
           {
            "automargin": true,
            "type": "pie"
           }
          ],
          "scatter": [
           {
            "fillpattern": {
             "fillmode": "overlay",
             "size": 10,
             "solidity": 0.2
            },
            "type": "scatter"
           }
          ],
          "scatter3d": [
           {
            "line": {
             "colorbar": {
              "outlinewidth": 0,
              "ticks": ""
             }
            },
            "marker": {
             "colorbar": {
              "outlinewidth": 0,
              "ticks": ""
             }
            },
            "type": "scatter3d"
           }
          ],
          "scattercarpet": [
           {
            "marker": {
             "colorbar": {
              "outlinewidth": 0,
              "ticks": ""
             }
            },
            "type": "scattercarpet"
           }
          ],
          "scattergeo": [
           {
            "marker": {
             "colorbar": {
              "outlinewidth": 0,
              "ticks": ""
             }
            },
            "type": "scattergeo"
           }
          ],
          "scattergl": [
           {
            "marker": {
             "colorbar": {
              "outlinewidth": 0,
              "ticks": ""
             }
            },
            "type": "scattergl"
           }
          ],
          "scattermapbox": [
           {
            "marker": {
             "colorbar": {
              "outlinewidth": 0,
              "ticks": ""
             }
            },
            "type": "scattermapbox"
           }
          ],
          "scatterpolar": [
           {
            "marker": {
             "colorbar": {
              "outlinewidth": 0,
              "ticks": ""
             }
            },
            "type": "scatterpolar"
           }
          ],
          "scatterpolargl": [
           {
            "marker": {
             "colorbar": {
              "outlinewidth": 0,
              "ticks": ""
             }
            },
            "type": "scatterpolargl"
           }
          ],
          "scatterternary": [
           {
            "marker": {
             "colorbar": {
              "outlinewidth": 0,
              "ticks": ""
             }
            },
            "type": "scatterternary"
           }
          ],
          "surface": [
           {
            "colorbar": {
             "outlinewidth": 0,
             "ticks": ""
            },
            "colorscale": [
             [
              0,
              "#0d0887"
             ],
             [
              0.1111111111111111,
              "#46039f"
             ],
             [
              0.2222222222222222,
              "#7201a8"
             ],
             [
              0.3333333333333333,
              "#9c179e"
             ],
             [
              0.4444444444444444,
              "#bd3786"
             ],
             [
              0.5555555555555556,
              "#d8576b"
             ],
             [
              0.6666666666666666,
              "#ed7953"
             ],
             [
              0.7777777777777778,
              "#fb9f3a"
             ],
             [
              0.8888888888888888,
              "#fdca26"
             ],
             [
              1,
              "#f0f921"
             ]
            ],
            "type": "surface"
           }
          ],
          "table": [
           {
            "cells": {
             "fill": {
              "color": "#EBF0F8"
             },
             "line": {
              "color": "white"
             }
            },
            "header": {
             "fill": {
              "color": "#C8D4E3"
             },
             "line": {
              "color": "white"
             }
            },
            "type": "table"
           }
          ]
         },
         "layout": {
          "annotationdefaults": {
           "arrowcolor": "#2a3f5f",
           "arrowhead": 0,
           "arrowwidth": 1
          },
          "autotypenumbers": "strict",
          "coloraxis": {
           "colorbar": {
            "outlinewidth": 0,
            "ticks": ""
           }
          },
          "colorscale": {
           "diverging": [
            [
             0,
             "#8e0152"
            ],
            [
             0.1,
             "#c51b7d"
            ],
            [
             0.2,
             "#de77ae"
            ],
            [
             0.3,
             "#f1b6da"
            ],
            [
             0.4,
             "#fde0ef"
            ],
            [
             0.5,
             "#f7f7f7"
            ],
            [
             0.6,
             "#e6f5d0"
            ],
            [
             0.7,
             "#b8e186"
            ],
            [
             0.8,
             "#7fbc41"
            ],
            [
             0.9,
             "#4d9221"
            ],
            [
             1,
             "#276419"
            ]
           ],
           "sequential": [
            [
             0,
             "#0d0887"
            ],
            [
             0.1111111111111111,
             "#46039f"
            ],
            [
             0.2222222222222222,
             "#7201a8"
            ],
            [
             0.3333333333333333,
             "#9c179e"
            ],
            [
             0.4444444444444444,
             "#bd3786"
            ],
            [
             0.5555555555555556,
             "#d8576b"
            ],
            [
             0.6666666666666666,
             "#ed7953"
            ],
            [
             0.7777777777777778,
             "#fb9f3a"
            ],
            [
             0.8888888888888888,
             "#fdca26"
            ],
            [
             1,
             "#f0f921"
            ]
           ],
           "sequentialminus": [
            [
             0,
             "#0d0887"
            ],
            [
             0.1111111111111111,
             "#46039f"
            ],
            [
             0.2222222222222222,
             "#7201a8"
            ],
            [
             0.3333333333333333,
             "#9c179e"
            ],
            [
             0.4444444444444444,
             "#bd3786"
            ],
            [
             0.5555555555555556,
             "#d8576b"
            ],
            [
             0.6666666666666666,
             "#ed7953"
            ],
            [
             0.7777777777777778,
             "#fb9f3a"
            ],
            [
             0.8888888888888888,
             "#fdca26"
            ],
            [
             1,
             "#f0f921"
            ]
           ]
          },
          "colorway": [
           "#636efa",
           "#EF553B",
           "#00cc96",
           "#ab63fa",
           "#FFA15A",
           "#19d3f3",
           "#FF6692",
           "#B6E880",
           "#FF97FF",
           "#FECB52"
          ],
          "font": {
           "color": "#2a3f5f"
          },
          "geo": {
           "bgcolor": "white",
           "lakecolor": "white",
           "landcolor": "#E5ECF6",
           "showlakes": true,
           "showland": true,
           "subunitcolor": "white"
          },
          "hoverlabel": {
           "align": "left"
          },
          "hovermode": "closest",
          "mapbox": {
           "style": "light"
          },
          "paper_bgcolor": "white",
          "plot_bgcolor": "#E5ECF6",
          "polar": {
           "angularaxis": {
            "gridcolor": "white",
            "linecolor": "white",
            "ticks": ""
           },
           "bgcolor": "#E5ECF6",
           "radialaxis": {
            "gridcolor": "white",
            "linecolor": "white",
            "ticks": ""
           }
          },
          "scene": {
           "xaxis": {
            "backgroundcolor": "#E5ECF6",
            "gridcolor": "white",
            "gridwidth": 2,
            "linecolor": "white",
            "showbackground": true,
            "ticks": "",
            "zerolinecolor": "white"
           },
           "yaxis": {
            "backgroundcolor": "#E5ECF6",
            "gridcolor": "white",
            "gridwidth": 2,
            "linecolor": "white",
            "showbackground": true,
            "ticks": "",
            "zerolinecolor": "white"
           },
           "zaxis": {
            "backgroundcolor": "#E5ECF6",
            "gridcolor": "white",
            "gridwidth": 2,
            "linecolor": "white",
            "showbackground": true,
            "ticks": "",
            "zerolinecolor": "white"
           }
          },
          "shapedefaults": {
           "line": {
            "color": "#2a3f5f"
           }
          },
          "ternary": {
           "aaxis": {
            "gridcolor": "white",
            "linecolor": "white",
            "ticks": ""
           },
           "baxis": {
            "gridcolor": "white",
            "linecolor": "white",
            "ticks": ""
           },
           "bgcolor": "#E5ECF6",
           "caxis": {
            "gridcolor": "white",
            "linecolor": "white",
            "ticks": ""
           }
          },
          "title": {
           "x": 0.05
          },
          "xaxis": {
           "automargin": true,
           "gridcolor": "white",
           "linecolor": "white",
           "ticks": "",
           "title": {
            "standoff": 15
           },
           "zerolinecolor": "white",
           "zerolinewidth": 2
          },
          "yaxis": {
           "automargin": true,
           "gridcolor": "white",
           "linecolor": "white",
           "ticks": "",
           "title": {
            "standoff": 15
           },
           "zerolinecolor": "white",
           "zerolinewidth": 2
          }
         }
        },
        "title": {
         "text": "F80-F89 - Transtornos do desenvolvimento psicológico"
        },
        "xaxis": {
         "title": {
          "text": "Time"
         }
        },
        "yaxis": {
         "title": {
          "text": "Value"
         }
        }
       }
      }
     },
     "metadata": {},
     "output_type": "display_data"
    },
    {
     "data": {
      "application/vnd.plotly.v1+json": {
       "config": {
        "plotlyServerURL": "https://plot.ly"
       },
       "data": [
        {
         "marker": {
          "color": "black"
         },
         "mode": "markers",
         "name": "Real",
         "type": "scatter",
         "x": [
          "2016-01-01T00:00:00.000000000",
          "2016-02-01T00:00:00.000000000",
          "2016-03-01T00:00:00.000000000",
          "2016-04-01T00:00:00.000000000",
          "2016-05-01T00:00:00.000000000",
          "2016-06-01T00:00:00.000000000",
          "2016-07-01T00:00:00.000000000",
          "2016-08-01T00:00:00.000000000",
          "2016-09-01T00:00:00.000000000",
          "2016-10-01T00:00:00.000000000",
          "2016-11-01T00:00:00.000000000",
          "2016-12-01T00:00:00.000000000",
          "2017-01-01T00:00:00.000000000",
          "2017-02-01T00:00:00.000000000",
          "2017-03-01T00:00:00.000000000",
          "2017-04-01T00:00:00.000000000",
          "2017-05-01T00:00:00.000000000",
          "2017-06-01T00:00:00.000000000",
          "2017-07-01T00:00:00.000000000",
          "2017-08-01T00:00:00.000000000",
          "2017-09-01T00:00:00.000000000",
          "2017-10-01T00:00:00.000000000",
          "2017-11-01T00:00:00.000000000",
          "2017-12-01T00:00:00.000000000",
          "2018-01-01T00:00:00.000000000",
          "2018-02-01T00:00:00.000000000",
          "2018-03-01T00:00:00.000000000",
          "2018-04-01T00:00:00.000000000",
          "2018-05-01T00:00:00.000000000",
          "2018-06-01T00:00:00.000000000",
          "2018-07-01T00:00:00.000000000",
          "2018-08-01T00:00:00.000000000",
          "2018-09-01T00:00:00.000000000",
          "2018-10-01T00:00:00.000000000",
          "2018-11-01T00:00:00.000000000",
          "2018-12-01T00:00:00.000000000",
          "2019-01-01T00:00:00.000000000",
          "2019-02-01T00:00:00.000000000",
          "2019-03-01T00:00:00.000000000",
          "2019-04-01T00:00:00.000000000",
          "2019-05-01T00:00:00.000000000",
          "2019-06-01T00:00:00.000000000",
          "2019-07-01T00:00:00.000000000",
          "2019-08-01T00:00:00.000000000",
          "2019-09-01T00:00:00.000000000",
          "2019-10-01T00:00:00.000000000",
          "2019-11-01T00:00:00.000000000",
          "2019-12-01T00:00:00.000000000",
          "2020-01-01T00:00:00.000000000",
          "2020-02-01T00:00:00.000000000",
          "2020-03-01T00:00:00.000000000",
          "2020-04-01T00:00:00.000000000",
          "2020-05-01T00:00:00.000000000",
          "2020-06-01T00:00:00.000000000",
          "2020-07-01T00:00:00.000000000",
          "2020-08-01T00:00:00.000000000",
          "2020-09-01T00:00:00.000000000",
          "2020-10-01T00:00:00.000000000",
          "2020-11-01T00:00:00.000000000",
          "2020-12-01T00:00:00.000000000",
          "2021-01-01T00:00:00.000000000",
          "2021-02-01T00:00:00.000000000",
          "2021-03-01T00:00:00.000000000",
          "2021-04-01T00:00:00.000000000",
          "2021-05-01T00:00:00.000000000",
          "2021-06-01T00:00:00.000000000",
          "2021-07-01T00:00:00.000000000",
          "2021-08-01T00:00:00.000000000",
          "2021-09-01T00:00:00.000000000",
          "2021-10-01T00:00:00.000000000",
          "2021-11-01T00:00:00.000000000",
          "2021-12-01T00:00:00.000000000",
          "2022-01-01T00:00:00.000000000",
          "2022-02-01T00:00:00.000000000",
          "2022-03-01T00:00:00.000000000",
          "2022-04-01T00:00:00.000000000",
          "2022-05-01T00:00:00.000000000",
          "2022-06-01T00:00:00.000000000",
          "2022-07-01T00:00:00.000000000",
          "2022-08-01T00:00:00.000000000",
          "2022-09-01T00:00:00.000000000",
          "2022-10-01T00:00:00.000000000",
          "2022-11-01T00:00:00.000000000",
          "2022-12-01T00:00:00.000000000",
          "2023-01-01T00:00:00.000000000",
          "2023-02-01T00:00:00.000000000",
          "2023-03-01T00:00:00.000000000",
          "2023-04-01T00:00:00.000000000",
          "2023-05-01T00:00:00.000000000",
          "2023-06-01T00:00:00.000000000",
          "2023-07-01T00:00:00.000000000",
          "2023-08-01T00:00:00.000000000",
          "2023-09-01T00:00:00.000000000",
          "2023-10-01T00:00:00.000000000",
          "2023-11-01T00:00:00.000000000",
          "2023-12-01T00:00:00.000000000",
          "2024-01-01T00:00:00.000000000",
          "2024-02-01T00:00:00.000000000",
          "2024-03-01T00:00:00.000000000",
          "2024-04-01T00:00:00.000000000",
          "2024-05-01T00:00:00.000000000",
          "2024-06-01T00:00:00.000000000",
          "2024-07-01T00:00:00.000000000",
          "2024-08-01T00:00:00.000000000",
          "2024-09-01T00:00:00.000000000",
          "2024-10-01T00:00:00.000000000",
          "2024-11-01T00:00:00.000000000",
          "2024-12-01T00:00:00.000000000"
         ],
         "y": [
          225,
          218,
          284,
          238,
          322,
          345,
          403,
          406,
          412,
          433,
          290,
          269,
          247,
          203,
          348,
          325,
          355,
          308,
          340,
          381,
          346,
          328,
          332,
          277,
          315,
          250,
          358,
          422,
          397,
          337,
          327,
          413,
          353,
          477,
          355,
          286,
          313,
          314,
          314,
          379,
          565,
          436,
          520,
          586,
          424,
          472,
          347,
          297,
          387,
          271,
          253,
          168,
          182,
          229,
          223,
          245,
          298,
          353,
          270,
          267,
          261,
          261,
          261,
          227,
          80,
          334,
          413,
          438,
          415,
          417,
          449,
          431,
          238,
          293,
          438,
          328,
          421,
          486,
          442,
          482,
          482,
          520,
          475,
          422,
          431,
          339,
          594,
          518,
          627,
          574,
          595,
          781,
          625,
          816,
          741,
          648,
          625,
          613,
          762,
          889,
          467,
          699,
          842,
          882,
          923,
          1159,
          922,
          816
         ]
        },
        {
         "line": {
          "color": "black",
          "dash": "dot"
         },
         "mode": "lines",
         "name": "Baseline",
         "type": "scatter",
         "x": [
          "2016-01-01T00:00:00.000000000",
          "2016-02-01T00:00:00.000000000",
          "2016-03-01T00:00:00.000000000",
          "2016-04-01T00:00:00.000000000",
          "2016-05-01T00:00:00.000000000",
          "2016-06-01T00:00:00.000000000",
          "2016-07-01T00:00:00.000000000",
          "2016-08-01T00:00:00.000000000",
          "2016-09-01T00:00:00.000000000",
          "2016-10-01T00:00:00.000000000",
          "2016-11-01T00:00:00.000000000",
          "2016-12-01T00:00:00.000000000",
          "2017-01-01T00:00:00.000000000",
          "2017-02-01T00:00:00.000000000",
          "2017-03-01T00:00:00.000000000",
          "2017-04-01T00:00:00.000000000",
          "2017-05-01T00:00:00.000000000",
          "2017-06-01T00:00:00.000000000",
          "2017-07-01T00:00:00.000000000",
          "2017-08-01T00:00:00.000000000",
          "2017-09-01T00:00:00.000000000",
          "2017-10-01T00:00:00.000000000",
          "2017-11-01T00:00:00.000000000",
          "2017-12-01T00:00:00.000000000",
          "2018-01-01T00:00:00.000000000",
          "2018-02-01T00:00:00.000000000",
          "2018-03-01T00:00:00.000000000",
          "2018-04-01T00:00:00.000000000",
          "2018-05-01T00:00:00.000000000",
          "2018-06-01T00:00:00.000000000",
          "2018-07-01T00:00:00.000000000",
          "2018-08-01T00:00:00.000000000",
          "2018-09-01T00:00:00.000000000",
          "2018-10-01T00:00:00.000000000",
          "2018-11-01T00:00:00.000000000",
          "2018-12-01T00:00:00.000000000",
          "2019-01-01T00:00:00.000000000",
          "2019-02-01T00:00:00.000000000",
          "2019-03-01T00:00:00.000000000",
          "2019-04-01T00:00:00.000000000",
          "2019-05-01T00:00:00.000000000",
          "2019-06-01T00:00:00.000000000",
          "2019-07-01T00:00:00.000000000",
          "2019-08-01T00:00:00.000000000",
          "2019-09-01T00:00:00.000000000",
          "2019-10-01T00:00:00.000000000",
          "2019-11-01T00:00:00.000000000",
          "2019-12-01T00:00:00.000000000",
          "2020-01-01T00:00:00.000000000",
          "2020-02-01T00:00:00.000000000",
          "2020-03-01T00:00:00.000000000",
          "2020-04-01T00:00:00.000000000",
          "2020-05-01T00:00:00.000000000",
          "2020-06-01T00:00:00.000000000",
          "2020-07-01T00:00:00.000000000",
          "2020-08-01T00:00:00.000000000",
          "2020-09-01T00:00:00.000000000",
          "2020-10-01T00:00:00.000000000",
          "2020-11-01T00:00:00.000000000",
          "2020-12-01T00:00:00.000000000",
          "2021-01-01T00:00:00.000000000",
          "2021-02-01T00:00:00.000000000",
          "2021-03-01T00:00:00.000000000",
          "2021-04-01T00:00:00.000000000",
          "2021-05-01T00:00:00.000000000",
          "2021-06-01T00:00:00.000000000",
          "2021-07-01T00:00:00.000000000",
          "2021-08-01T00:00:00.000000000",
          "2021-09-01T00:00:00.000000000",
          "2021-10-01T00:00:00.000000000",
          "2021-11-01T00:00:00.000000000",
          "2021-12-01T00:00:00.000000000",
          "2022-01-01T00:00:00.000000000",
          "2022-02-01T00:00:00.000000000",
          "2022-03-01T00:00:00.000000000",
          "2022-04-01T00:00:00.000000000",
          "2022-05-01T00:00:00.000000000",
          "2022-06-01T00:00:00.000000000",
          "2022-07-01T00:00:00.000000000",
          "2022-08-01T00:00:00.000000000",
          "2022-09-01T00:00:00.000000000",
          "2022-10-01T00:00:00.000000000",
          "2022-11-01T00:00:00.000000000",
          "2022-12-01T00:00:00.000000000",
          "2023-01-01T00:00:00.000000000",
          "2023-02-01T00:00:00.000000000",
          "2023-03-01T00:00:00.000000000",
          "2023-04-01T00:00:00.000000000",
          "2023-05-01T00:00:00.000000000",
          "2023-06-01T00:00:00.000000000",
          "2023-07-01T00:00:00.000000000",
          "2023-08-01T00:00:00.000000000",
          "2023-09-01T00:00:00.000000000",
          "2023-10-01T00:00:00.000000000",
          "2023-11-01T00:00:00.000000000",
          "2023-12-01T00:00:00.000000000",
          "2024-01-01T00:00:00.000000000",
          "2024-02-01T00:00:00.000000000",
          "2024-03-01T00:00:00.000000000",
          "2024-04-01T00:00:00.000000000",
          "2024-05-01T00:00:00.000000000",
          "2024-06-01T00:00:00.000000000",
          "2024-07-01T00:00:00.000000000",
          "2024-08-01T00:00:00.000000000",
          "2024-09-01T00:00:00.000000000",
          "2024-10-01T00:00:00.000000000",
          "2024-11-01T00:00:00.000000000",
          "2024-12-01T00:00:00.000000000"
         ],
         "y": [
          255.15659879682335,
          257.164101036514,
          259.1716032762046,
          261.1791055158953,
          263.1866077555859,
          265.19410999527656,
          267.20161223496723,
          269.20911447465784,
          271.2166167143485,
          273.2241189540391,
          275.2316211937298,
          277.2391234334204,
          279.24662567311105,
          281.2541279128017,
          283.26163015249233,
          285.269132392183,
          287.2766346318736,
          289.2841368715643,
          291.2916391112549,
          293.29914135094555,
          295.3066435906362,
          297.3141458303268,
          299.3216480700175,
          301.3291503097081,
          303.33665254939876,
          305.34415478908943,
          307.35165702878004,
          309.3591592684707,
          311.3666615081613,
          313.374163747852,
          315.3816659875426,
          317.38916822723326,
          319.39667046692387,
          321.40417270661453,
          323.4116749463052,
          325.4191771859958,
          327.4266794256865,
          329.4341816653771,
          331.44168390506775,
          333.4491861447584,
          335.456688384449,
          337.4641906241397,
          339.4716928638303,
          341.47919510352096,
          343.48669734321163,
          345.49419958290224,
          347.5017018225929,
          349.5092040622835,
          351.5167063019742,
          353.52420854166485,
          355.53171078135546,
          357.53921302104607,
          359.54671526073673,
          361.5542175004274,
          363.561719740118,
          365.5692219798087,
          367.5767242194993,
          369.58422645918995,
          371.5917286988806,
          373.5992309385712,
          375.6067331782619,
          377.6142354179525,
          379.62173765764317,
          381.62923989733383,
          383.63674213702444,
          385.64424437671505,
          387.6517466164057,
          389.6592488560964,
          391.66675109578705,
          393.67425333547766,
          395.68175557516827,
          397.68925781485893,
          399.6967600545496,
          401.70426229424027,
          403.7117645339309,
          405.7192667736215,
          407.72676901331215,
          409.7342712530028,
          411.7417734926934,
          413.74927573238404,
          415.7567779720747,
          417.76428021176537,
          419.77178245145603,
          421.77928469114664,
          423.78678693083725,
          425.7942891705279,
          427.8017914102186,
          429.80929364990925,
          431.81679588959986,
          433.82429812929047,
          435.83180036898113,
          437.8393026086718,
          439.84680484836247,
          441.8543070880531,
          443.8618093277437,
          445.86931156743435,
          447.876813807125,
          449.8843160468156,
          451.89181828650624,
          453.8993205261969,
          455.90682276588757,
          457.91432500557823,
          459.92182724526884,
          461.92932948495945,
          463.9368317246501,
          465.9443339643408,
          467.95183620403145,
          469.95933844372206
         ]
        },
        {
         "line": {
          "color": "purple"
         },
         "mode": "lines",
         "name": "Full model",
         "type": "scatter",
         "x": [
          "2016-01-01T00:00:00.000000000",
          "2016-02-01T00:00:00.000000000",
          "2016-03-01T00:00:00.000000000",
          "2016-04-01T00:00:00.000000000",
          "2016-05-01T00:00:00.000000000",
          "2016-06-01T00:00:00.000000000",
          "2016-07-01T00:00:00.000000000",
          "2016-08-01T00:00:00.000000000",
          "2016-09-01T00:00:00.000000000",
          "2016-10-01T00:00:00.000000000",
          "2016-11-01T00:00:00.000000000",
          "2016-12-01T00:00:00.000000000",
          "2017-01-01T00:00:00.000000000",
          "2017-02-01T00:00:00.000000000",
          "2017-03-01T00:00:00.000000000",
          "2017-04-01T00:00:00.000000000",
          "2017-05-01T00:00:00.000000000",
          "2017-06-01T00:00:00.000000000",
          "2017-07-01T00:00:00.000000000",
          "2017-08-01T00:00:00.000000000",
          "2017-09-01T00:00:00.000000000",
          "2017-10-01T00:00:00.000000000",
          "2017-11-01T00:00:00.000000000",
          "2017-12-01T00:00:00.000000000",
          "2018-01-01T00:00:00.000000000",
          "2018-02-01T00:00:00.000000000",
          "2018-03-01T00:00:00.000000000",
          "2018-04-01T00:00:00.000000000",
          "2018-05-01T00:00:00.000000000",
          "2018-06-01T00:00:00.000000000",
          "2018-07-01T00:00:00.000000000",
          "2018-08-01T00:00:00.000000000",
          "2018-09-01T00:00:00.000000000",
          "2018-10-01T00:00:00.000000000",
          "2018-11-01T00:00:00.000000000",
          "2018-12-01T00:00:00.000000000",
          "2019-01-01T00:00:00.000000000",
          "2019-02-01T00:00:00.000000000",
          "2019-03-01T00:00:00.000000000",
          "2019-04-01T00:00:00.000000000",
          "2019-05-01T00:00:00.000000000",
          "2019-06-01T00:00:00.000000000",
          "2019-07-01T00:00:00.000000000",
          "2019-08-01T00:00:00.000000000",
          "2019-09-01T00:00:00.000000000",
          "2019-10-01T00:00:00.000000000",
          "2019-11-01T00:00:00.000000000",
          "2019-12-01T00:00:00.000000000",
          "2020-01-01T00:00:00.000000000",
          "2020-02-01T00:00:00.000000000",
          "2020-03-01T00:00:00.000000000",
          "2020-04-01T00:00:00.000000000",
          "2020-05-01T00:00:00.000000000",
          "2020-06-01T00:00:00.000000000",
          "2020-07-01T00:00:00.000000000",
          "2020-08-01T00:00:00.000000000",
          "2020-09-01T00:00:00.000000000",
          "2020-10-01T00:00:00.000000000",
          "2020-11-01T00:00:00.000000000",
          "2020-12-01T00:00:00.000000000",
          "2021-01-01T00:00:00.000000000",
          "2021-02-01T00:00:00.000000000",
          "2021-03-01T00:00:00.000000000",
          "2021-04-01T00:00:00.000000000",
          "2021-05-01T00:00:00.000000000",
          "2021-06-01T00:00:00.000000000",
          "2021-07-01T00:00:00.000000000",
          "2021-08-01T00:00:00.000000000",
          "2021-09-01T00:00:00.000000000",
          "2021-10-01T00:00:00.000000000",
          "2021-11-01T00:00:00.000000000",
          "2021-12-01T00:00:00.000000000",
          "2022-01-01T00:00:00.000000000",
          "2022-02-01T00:00:00.000000000",
          "2022-03-01T00:00:00.000000000",
          "2022-04-01T00:00:00.000000000",
          "2022-05-01T00:00:00.000000000",
          "2022-06-01T00:00:00.000000000",
          "2022-07-01T00:00:00.000000000",
          "2022-08-01T00:00:00.000000000",
          "2022-09-01T00:00:00.000000000",
          "2022-10-01T00:00:00.000000000",
          "2022-11-01T00:00:00.000000000",
          "2022-12-01T00:00:00.000000000",
          "2023-01-01T00:00:00.000000000",
          "2023-02-01T00:00:00.000000000",
          "2023-03-01T00:00:00.000000000",
          "2023-04-01T00:00:00.000000000",
          "2023-05-01T00:00:00.000000000",
          "2023-06-01T00:00:00.000000000",
          "2023-07-01T00:00:00.000000000",
          "2023-08-01T00:00:00.000000000",
          "2023-09-01T00:00:00.000000000",
          "2023-10-01T00:00:00.000000000",
          "2023-11-01T00:00:00.000000000",
          "2023-12-01T00:00:00.000000000",
          "2024-01-01T00:00:00.000000000",
          "2024-02-01T00:00:00.000000000",
          "2024-03-01T00:00:00.000000000",
          "2024-04-01T00:00:00.000000000",
          "2024-05-01T00:00:00.000000000",
          "2024-06-01T00:00:00.000000000",
          "2024-07-01T00:00:00.000000000",
          "2024-08-01T00:00:00.000000000",
          "2024-09-01T00:00:00.000000000",
          "2024-10-01T00:00:00.000000000",
          "2024-11-01T00:00:00.000000000",
          "2024-12-01T00:00:00.000000000"
         ],
         "y": [
          255.15659879682335,
          257.164101036514,
          259.1716032762046,
          261.1791055158953,
          263.1866077555859,
          265.19410999527656,
          267.20161223496723,
          269.20911447465784,
          271.2166167143485,
          273.2241189540391,
          275.2316211937298,
          277.2391234334204,
          279.24662567311105,
          281.2541279128017,
          283.26163015249233,
          285.269132392183,
          287.2766346318736,
          289.2841368715643,
          291.2916391112549,
          293.29914135094555,
          295.3066435906362,
          297.3141458303268,
          299.3216480700175,
          301.3291503097081,
          303.33665254939876,
          305.34415478908943,
          307.35165702878004,
          309.3591592684707,
          311.3666615081613,
          313.374163747852,
          315.3816659875426,
          317.38916822723326,
          319.39667046692387,
          321.40417270661453,
          323.4116749463052,
          325.4191771859958,
          327.4266794256865,
          329.4341816653771,
          331.44168390506775,
          333.4491861447584,
          335.456688384449,
          337.4641906241397,
          339.4716928638303,
          341.47919510352096,
          343.48669734321163,
          345.49419958290224,
          347.5017018225929,
          349.5092040622835,
          216.51670630197418,
          218.52420854166485,
          220.53171078135546,
          222.53921302104607,
          224.54671526073673,
          226.5542175004274,
          228.561719740118,
          139.56922197980867,
          151.57672421949928,
          164.58422645918995,
          177.59172869888062,
          189.59923093857122,
          202.6067331782619,
          214.6142354179525,
          227.62173765764317,
          123.62923989733383,
          125.63674213702444,
          265.64424437671505,
          277.6517466164057,
          290.6592488560964,
          303.66675109578705,
          315.67425333547766,
          328.68175557516827,
          340.68925781485893,
          353.6967600545496,
          365.70426229424027,
          378.7117645339309,
          391.7192667736215,
          403.72676901331215,
          416.7342712530028,
          428.7417734926934,
          441.74927573238404,
          454.7567779720747,
          466.76428021176537,
          479.77178245145603,
          491.77928469114664,
          504.78678693083725,
          517.7942891705279,
          529.8017914102186,
          542.8092936499093,
          554.8167958895999,
          567.8242981292905,
          580.8318003689811,
          592.8393026086718,
          605.8468048483625,
          617.854307088053,
          630.8618093277437,
          643.8693115674344,
          655.876813807125,
          668.8843160468157,
          680.8918182865062,
          693.8993205261969,
          706.9068227658876,
          718.9143250055782,
          731.9218272452688,
          743.9293294849595,
          756.9368317246501,
          769.9443339643408,
          781.9518362040315,
          794.9593384437221
         ]
        }
       ],
       "layout": {
        "legend": {
         "title": {
          "text": "Legend"
         }
        },
        "template": {
         "data": {
          "bar": [
           {
            "error_x": {
             "color": "#2a3f5f"
            },
            "error_y": {
             "color": "#2a3f5f"
            },
            "marker": {
             "line": {
              "color": "#E5ECF6",
              "width": 0.5
             },
             "pattern": {
              "fillmode": "overlay",
              "size": 10,
              "solidity": 0.2
             }
            },
            "type": "bar"
           }
          ],
          "barpolar": [
           {
            "marker": {
             "line": {
              "color": "#E5ECF6",
              "width": 0.5
             },
             "pattern": {
              "fillmode": "overlay",
              "size": 10,
              "solidity": 0.2
             }
            },
            "type": "barpolar"
           }
          ],
          "carpet": [
           {
            "aaxis": {
             "endlinecolor": "#2a3f5f",
             "gridcolor": "white",
             "linecolor": "white",
             "minorgridcolor": "white",
             "startlinecolor": "#2a3f5f"
            },
            "baxis": {
             "endlinecolor": "#2a3f5f",
             "gridcolor": "white",
             "linecolor": "white",
             "minorgridcolor": "white",
             "startlinecolor": "#2a3f5f"
            },
            "type": "carpet"
           }
          ],
          "choropleth": [
           {
            "colorbar": {
             "outlinewidth": 0,
             "ticks": ""
            },
            "type": "choropleth"
           }
          ],
          "contour": [
           {
            "colorbar": {
             "outlinewidth": 0,
             "ticks": ""
            },
            "colorscale": [
             [
              0,
              "#0d0887"
             ],
             [
              0.1111111111111111,
              "#46039f"
             ],
             [
              0.2222222222222222,
              "#7201a8"
             ],
             [
              0.3333333333333333,
              "#9c179e"
             ],
             [
              0.4444444444444444,
              "#bd3786"
             ],
             [
              0.5555555555555556,
              "#d8576b"
             ],
             [
              0.6666666666666666,
              "#ed7953"
             ],
             [
              0.7777777777777778,
              "#fb9f3a"
             ],
             [
              0.8888888888888888,
              "#fdca26"
             ],
             [
              1,
              "#f0f921"
             ]
            ],
            "type": "contour"
           }
          ],
          "contourcarpet": [
           {
            "colorbar": {
             "outlinewidth": 0,
             "ticks": ""
            },
            "type": "contourcarpet"
           }
          ],
          "heatmap": [
           {
            "colorbar": {
             "outlinewidth": 0,
             "ticks": ""
            },
            "colorscale": [
             [
              0,
              "#0d0887"
             ],
             [
              0.1111111111111111,
              "#46039f"
             ],
             [
              0.2222222222222222,
              "#7201a8"
             ],
             [
              0.3333333333333333,
              "#9c179e"
             ],
             [
              0.4444444444444444,
              "#bd3786"
             ],
             [
              0.5555555555555556,
              "#d8576b"
             ],
             [
              0.6666666666666666,
              "#ed7953"
             ],
             [
              0.7777777777777778,
              "#fb9f3a"
             ],
             [
              0.8888888888888888,
              "#fdca26"
             ],
             [
              1,
              "#f0f921"
             ]
            ],
            "type": "heatmap"
           }
          ],
          "heatmapgl": [
           {
            "colorbar": {
             "outlinewidth": 0,
             "ticks": ""
            },
            "colorscale": [
             [
              0,
              "#0d0887"
             ],
             [
              0.1111111111111111,
              "#46039f"
             ],
             [
              0.2222222222222222,
              "#7201a8"
             ],
             [
              0.3333333333333333,
              "#9c179e"
             ],
             [
              0.4444444444444444,
              "#bd3786"
             ],
             [
              0.5555555555555556,
              "#d8576b"
             ],
             [
              0.6666666666666666,
              "#ed7953"
             ],
             [
              0.7777777777777778,
              "#fb9f3a"
             ],
             [
              0.8888888888888888,
              "#fdca26"
             ],
             [
              1,
              "#f0f921"
             ]
            ],
            "type": "heatmapgl"
           }
          ],
          "histogram": [
           {
            "marker": {
             "pattern": {
              "fillmode": "overlay",
              "size": 10,
              "solidity": 0.2
             }
            },
            "type": "histogram"
           }
          ],
          "histogram2d": [
           {
            "colorbar": {
             "outlinewidth": 0,
             "ticks": ""
            },
            "colorscale": [
             [
              0,
              "#0d0887"
             ],
             [
              0.1111111111111111,
              "#46039f"
             ],
             [
              0.2222222222222222,
              "#7201a8"
             ],
             [
              0.3333333333333333,
              "#9c179e"
             ],
             [
              0.4444444444444444,
              "#bd3786"
             ],
             [
              0.5555555555555556,
              "#d8576b"
             ],
             [
              0.6666666666666666,
              "#ed7953"
             ],
             [
              0.7777777777777778,
              "#fb9f3a"
             ],
             [
              0.8888888888888888,
              "#fdca26"
             ],
             [
              1,
              "#f0f921"
             ]
            ],
            "type": "histogram2d"
           }
          ],
          "histogram2dcontour": [
           {
            "colorbar": {
             "outlinewidth": 0,
             "ticks": ""
            },
            "colorscale": [
             [
              0,
              "#0d0887"
             ],
             [
              0.1111111111111111,
              "#46039f"
             ],
             [
              0.2222222222222222,
              "#7201a8"
             ],
             [
              0.3333333333333333,
              "#9c179e"
             ],
             [
              0.4444444444444444,
              "#bd3786"
             ],
             [
              0.5555555555555556,
              "#d8576b"
             ],
             [
              0.6666666666666666,
              "#ed7953"
             ],
             [
              0.7777777777777778,
              "#fb9f3a"
             ],
             [
              0.8888888888888888,
              "#fdca26"
             ],
             [
              1,
              "#f0f921"
             ]
            ],
            "type": "histogram2dcontour"
           }
          ],
          "mesh3d": [
           {
            "colorbar": {
             "outlinewidth": 0,
             "ticks": ""
            },
            "type": "mesh3d"
           }
          ],
          "parcoords": [
           {
            "line": {
             "colorbar": {
              "outlinewidth": 0,
              "ticks": ""
             }
            },
            "type": "parcoords"
           }
          ],
          "pie": [
           {
            "automargin": true,
            "type": "pie"
           }
          ],
          "scatter": [
           {
            "fillpattern": {
             "fillmode": "overlay",
             "size": 10,
             "solidity": 0.2
            },
            "type": "scatter"
           }
          ],
          "scatter3d": [
           {
            "line": {
             "colorbar": {
              "outlinewidth": 0,
              "ticks": ""
             }
            },
            "marker": {
             "colorbar": {
              "outlinewidth": 0,
              "ticks": ""
             }
            },
            "type": "scatter3d"
           }
          ],
          "scattercarpet": [
           {
            "marker": {
             "colorbar": {
              "outlinewidth": 0,
              "ticks": ""
             }
            },
            "type": "scattercarpet"
           }
          ],
          "scattergeo": [
           {
            "marker": {
             "colorbar": {
              "outlinewidth": 0,
              "ticks": ""
             }
            },
            "type": "scattergeo"
           }
          ],
          "scattergl": [
           {
            "marker": {
             "colorbar": {
              "outlinewidth": 0,
              "ticks": ""
             }
            },
            "type": "scattergl"
           }
          ],
          "scattermapbox": [
           {
            "marker": {
             "colorbar": {
              "outlinewidth": 0,
              "ticks": ""
             }
            },
            "type": "scattermapbox"
           }
          ],
          "scatterpolar": [
           {
            "marker": {
             "colorbar": {
              "outlinewidth": 0,
              "ticks": ""
             }
            },
            "type": "scatterpolar"
           }
          ],
          "scatterpolargl": [
           {
            "marker": {
             "colorbar": {
              "outlinewidth": 0,
              "ticks": ""
             }
            },
            "type": "scatterpolargl"
           }
          ],
          "scatterternary": [
           {
            "marker": {
             "colorbar": {
              "outlinewidth": 0,
              "ticks": ""
             }
            },
            "type": "scatterternary"
           }
          ],
          "surface": [
           {
            "colorbar": {
             "outlinewidth": 0,
             "ticks": ""
            },
            "colorscale": [
             [
              0,
              "#0d0887"
             ],
             [
              0.1111111111111111,
              "#46039f"
             ],
             [
              0.2222222222222222,
              "#7201a8"
             ],
             [
              0.3333333333333333,
              "#9c179e"
             ],
             [
              0.4444444444444444,
              "#bd3786"
             ],
             [
              0.5555555555555556,
              "#d8576b"
             ],
             [
              0.6666666666666666,
              "#ed7953"
             ],
             [
              0.7777777777777778,
              "#fb9f3a"
             ],
             [
              0.8888888888888888,
              "#fdca26"
             ],
             [
              1,
              "#f0f921"
             ]
            ],
            "type": "surface"
           }
          ],
          "table": [
           {
            "cells": {
             "fill": {
              "color": "#EBF0F8"
             },
             "line": {
              "color": "white"
             }
            },
            "header": {
             "fill": {
              "color": "#C8D4E3"
             },
             "line": {
              "color": "white"
             }
            },
            "type": "table"
           }
          ]
         },
         "layout": {
          "annotationdefaults": {
           "arrowcolor": "#2a3f5f",
           "arrowhead": 0,
           "arrowwidth": 1
          },
          "autotypenumbers": "strict",
          "coloraxis": {
           "colorbar": {
            "outlinewidth": 0,
            "ticks": ""
           }
          },
          "colorscale": {
           "diverging": [
            [
             0,
             "#8e0152"
            ],
            [
             0.1,
             "#c51b7d"
            ],
            [
             0.2,
             "#de77ae"
            ],
            [
             0.3,
             "#f1b6da"
            ],
            [
             0.4,
             "#fde0ef"
            ],
            [
             0.5,
             "#f7f7f7"
            ],
            [
             0.6,
             "#e6f5d0"
            ],
            [
             0.7,
             "#b8e186"
            ],
            [
             0.8,
             "#7fbc41"
            ],
            [
             0.9,
             "#4d9221"
            ],
            [
             1,
             "#276419"
            ]
           ],
           "sequential": [
            [
             0,
             "#0d0887"
            ],
            [
             0.1111111111111111,
             "#46039f"
            ],
            [
             0.2222222222222222,
             "#7201a8"
            ],
            [
             0.3333333333333333,
             "#9c179e"
            ],
            [
             0.4444444444444444,
             "#bd3786"
            ],
            [
             0.5555555555555556,
             "#d8576b"
            ],
            [
             0.6666666666666666,
             "#ed7953"
            ],
            [
             0.7777777777777778,
             "#fb9f3a"
            ],
            [
             0.8888888888888888,
             "#fdca26"
            ],
            [
             1,
             "#f0f921"
            ]
           ],
           "sequentialminus": [
            [
             0,
             "#0d0887"
            ],
            [
             0.1111111111111111,
             "#46039f"
            ],
            [
             0.2222222222222222,
             "#7201a8"
            ],
            [
             0.3333333333333333,
             "#9c179e"
            ],
            [
             0.4444444444444444,
             "#bd3786"
            ],
            [
             0.5555555555555556,
             "#d8576b"
            ],
            [
             0.6666666666666666,
             "#ed7953"
            ],
            [
             0.7777777777777778,
             "#fb9f3a"
            ],
            [
             0.8888888888888888,
             "#fdca26"
            ],
            [
             1,
             "#f0f921"
            ]
           ]
          },
          "colorway": [
           "#636efa",
           "#EF553B",
           "#00cc96",
           "#ab63fa",
           "#FFA15A",
           "#19d3f3",
           "#FF6692",
           "#B6E880",
           "#FF97FF",
           "#FECB52"
          ],
          "font": {
           "color": "#2a3f5f"
          },
          "geo": {
           "bgcolor": "white",
           "lakecolor": "white",
           "landcolor": "#E5ECF6",
           "showlakes": true,
           "showland": true,
           "subunitcolor": "white"
          },
          "hoverlabel": {
           "align": "left"
          },
          "hovermode": "closest",
          "mapbox": {
           "style": "light"
          },
          "paper_bgcolor": "white",
          "plot_bgcolor": "#E5ECF6",
          "polar": {
           "angularaxis": {
            "gridcolor": "white",
            "linecolor": "white",
            "ticks": ""
           },
           "bgcolor": "#E5ECF6",
           "radialaxis": {
            "gridcolor": "white",
            "linecolor": "white",
            "ticks": ""
           }
          },
          "scene": {
           "xaxis": {
            "backgroundcolor": "#E5ECF6",
            "gridcolor": "white",
            "gridwidth": 2,
            "linecolor": "white",
            "showbackground": true,
            "ticks": "",
            "zerolinecolor": "white"
           },
           "yaxis": {
            "backgroundcolor": "#E5ECF6",
            "gridcolor": "white",
            "gridwidth": 2,
            "linecolor": "white",
            "showbackground": true,
            "ticks": "",
            "zerolinecolor": "white"
           },
           "zaxis": {
            "backgroundcolor": "#E5ECF6",
            "gridcolor": "white",
            "gridwidth": 2,
            "linecolor": "white",
            "showbackground": true,
            "ticks": "",
            "zerolinecolor": "white"
           }
          },
          "shapedefaults": {
           "line": {
            "color": "#2a3f5f"
           }
          },
          "ternary": {
           "aaxis": {
            "gridcolor": "white",
            "linecolor": "white",
            "ticks": ""
           },
           "baxis": {
            "gridcolor": "white",
            "linecolor": "white",
            "ticks": ""
           },
           "bgcolor": "#E5ECF6",
           "caxis": {
            "gridcolor": "white",
            "linecolor": "white",
            "ticks": ""
           }
          },
          "title": {
           "x": 0.05
          },
          "xaxis": {
           "automargin": true,
           "gridcolor": "white",
           "linecolor": "white",
           "ticks": "",
           "title": {
            "standoff": 15
           },
           "zerolinecolor": "white",
           "zerolinewidth": 2
          },
          "yaxis": {
           "automargin": true,
           "gridcolor": "white",
           "linecolor": "white",
           "ticks": "",
           "title": {
            "standoff": 15
           },
           "zerolinecolor": "white",
           "zerolinewidth": 2
          }
         }
        },
        "title": {
         "text": "F90-F98 - Transtornos do comportamento e transtornos emocionais que aparecem habitualmente durante a infância ou a adolescência"
        },
        "xaxis": {
         "title": {
          "text": "Time"
         }
        },
        "yaxis": {
         "title": {
          "text": "Value"
         }
        }
       }
      }
     },
     "metadata": {},
     "output_type": "display_data"
    },
    {
     "data": {
      "application/vnd.plotly.v1+json": {
       "config": {
        "plotlyServerURL": "https://plot.ly"
       },
       "data": [
        {
         "marker": {
          "color": "black"
         },
         "mode": "markers",
         "name": "Real",
         "type": "scatter",
         "x": [
          "2016-01-01T00:00:00.000000000",
          "2016-02-01T00:00:00.000000000",
          "2016-03-01T00:00:00.000000000",
          "2016-04-01T00:00:00.000000000",
          "2016-05-01T00:00:00.000000000",
          "2016-06-01T00:00:00.000000000",
          "2016-07-01T00:00:00.000000000",
          "2016-08-01T00:00:00.000000000",
          "2016-09-01T00:00:00.000000000",
          "2016-10-01T00:00:00.000000000",
          "2016-11-01T00:00:00.000000000",
          "2016-12-01T00:00:00.000000000",
          "2017-01-01T00:00:00.000000000",
          "2017-02-01T00:00:00.000000000",
          "2017-03-01T00:00:00.000000000",
          "2017-04-01T00:00:00.000000000",
          "2017-05-01T00:00:00.000000000",
          "2017-06-01T00:00:00.000000000",
          "2017-07-01T00:00:00.000000000",
          "2017-08-01T00:00:00.000000000",
          "2017-09-01T00:00:00.000000000",
          "2017-10-01T00:00:00.000000000",
          "2017-11-01T00:00:00.000000000",
          "2017-12-01T00:00:00.000000000",
          "2018-01-01T00:00:00.000000000",
          "2018-02-01T00:00:00.000000000",
          "2018-03-01T00:00:00.000000000",
          "2018-04-01T00:00:00.000000000",
          "2018-05-01T00:00:00.000000000",
          "2018-06-01T00:00:00.000000000",
          "2018-07-01T00:00:00.000000000",
          "2018-08-01T00:00:00.000000000",
          "2018-09-01T00:00:00.000000000",
          "2018-10-01T00:00:00.000000000",
          "2018-11-01T00:00:00.000000000",
          "2018-12-01T00:00:00.000000000",
          "2019-01-01T00:00:00.000000000",
          "2019-02-01T00:00:00.000000000",
          "2019-03-01T00:00:00.000000000",
          "2019-04-01T00:00:00.000000000",
          "2019-05-01T00:00:00.000000000",
          "2019-06-01T00:00:00.000000000",
          "2019-07-01T00:00:00.000000000",
          "2019-08-01T00:00:00.000000000",
          "2019-09-01T00:00:00.000000000",
          "2019-10-01T00:00:00.000000000",
          "2019-11-01T00:00:00.000000000",
          "2019-12-01T00:00:00.000000000",
          "2020-01-01T00:00:00.000000000",
          "2020-02-01T00:00:00.000000000",
          "2020-03-01T00:00:00.000000000",
          "2020-04-01T00:00:00.000000000",
          "2020-05-01T00:00:00.000000000",
          "2020-06-01T00:00:00.000000000",
          "2020-07-01T00:00:00.000000000",
          "2020-08-01T00:00:00.000000000",
          "2020-09-01T00:00:00.000000000",
          "2020-10-01T00:00:00.000000000",
          "2020-11-01T00:00:00.000000000",
          "2020-12-01T00:00:00.000000000",
          "2021-01-01T00:00:00.000000000",
          "2021-02-01T00:00:00.000000000",
          "2021-03-01T00:00:00.000000000",
          "2021-04-01T00:00:00.000000000",
          "2021-05-01T00:00:00.000000000",
          "2021-06-01T00:00:00.000000000",
          "2021-07-01T00:00:00.000000000",
          "2021-08-01T00:00:00.000000000",
          "2021-09-01T00:00:00.000000000",
          "2021-10-01T00:00:00.000000000",
          "2021-11-01T00:00:00.000000000",
          "2021-12-01T00:00:00.000000000",
          "2022-01-01T00:00:00.000000000",
          "2022-02-01T00:00:00.000000000",
          "2022-03-01T00:00:00.000000000",
          "2022-04-01T00:00:00.000000000",
          "2022-05-01T00:00:00.000000000",
          "2022-06-01T00:00:00.000000000",
          "2022-07-01T00:00:00.000000000",
          "2022-08-01T00:00:00.000000000",
          "2022-09-01T00:00:00.000000000",
          "2022-10-01T00:00:00.000000000",
          "2022-11-01T00:00:00.000000000",
          "2022-12-01T00:00:00.000000000",
          "2023-01-01T00:00:00.000000000",
          "2023-02-01T00:00:00.000000000",
          "2023-03-01T00:00:00.000000000",
          "2023-04-01T00:00:00.000000000",
          "2023-05-01T00:00:00.000000000",
          "2023-06-01T00:00:00.000000000",
          "2023-07-01T00:00:00.000000000",
          "2023-08-01T00:00:00.000000000",
          "2023-09-01T00:00:00.000000000",
          "2023-10-01T00:00:00.000000000",
          "2023-11-01T00:00:00.000000000",
          "2023-12-01T00:00:00.000000000",
          "2024-01-01T00:00:00.000000000",
          "2024-02-01T00:00:00.000000000",
          "2024-03-01T00:00:00.000000000",
          "2024-04-01T00:00:00.000000000",
          "2024-05-01T00:00:00.000000000",
          "2024-06-01T00:00:00.000000000",
          "2024-07-01T00:00:00.000000000",
          "2024-08-01T00:00:00.000000000",
          "2024-09-01T00:00:00.000000000",
          "2024-10-01T00:00:00.000000000",
          "2024-11-01T00:00:00.000000000",
          "2024-12-01T00:00:00.000000000"
         ],
         "y": [
          96,
          92,
          188,
          80,
          120,
          146,
          134,
          190,
          76,
          104,
          156,
          182,
          200,
          154,
          236,
          122,
          218,
          106,
          142,
          120,
          112,
          116,
          150,
          92,
          170,
          84,
          146,
          146,
          164,
          144,
          92,
          106,
          108,
          148,
          94,
          68,
          66,
          72,
          62,
          76,
          88,
          86,
          98,
          58,
          26,
          38,
          22,
          34,
          32,
          32,
          26,
          22,
          48,
          32,
          34,
          32,
          40,
          52,
          38,
          38,
          30,
          30,
          16,
          8,
          12,
          30,
          22,
          30,
          24,
          24,
          38,
          24,
          16,
          32,
          40,
          24,
          90,
          112,
          38,
          16,
          52,
          42,
          34,
          46,
          56,
          76,
          66,
          60,
          62,
          78,
          150,
          134,
          138,
          138,
          132,
          98,
          102,
          78,
          112,
          68,
          116,
          170,
          216,
          226,
          290,
          298,
          208,
          138
         ]
        },
        {
         "line": {
          "color": "black",
          "dash": "dot"
         },
         "mode": "lines",
         "name": "Baseline",
         "type": "scatter",
         "x": [
          "2016-01-01T00:00:00.000000000",
          "2016-02-01T00:00:00.000000000",
          "2016-03-01T00:00:00.000000000",
          "2016-04-01T00:00:00.000000000",
          "2016-05-01T00:00:00.000000000",
          "2016-06-01T00:00:00.000000000",
          "2016-07-01T00:00:00.000000000",
          "2016-08-01T00:00:00.000000000",
          "2016-09-01T00:00:00.000000000",
          "2016-10-01T00:00:00.000000000",
          "2016-11-01T00:00:00.000000000",
          "2016-12-01T00:00:00.000000000",
          "2017-01-01T00:00:00.000000000",
          "2017-02-01T00:00:00.000000000",
          "2017-03-01T00:00:00.000000000",
          "2017-04-01T00:00:00.000000000",
          "2017-05-01T00:00:00.000000000",
          "2017-06-01T00:00:00.000000000",
          "2017-07-01T00:00:00.000000000",
          "2017-08-01T00:00:00.000000000",
          "2017-09-01T00:00:00.000000000",
          "2017-10-01T00:00:00.000000000",
          "2017-11-01T00:00:00.000000000",
          "2017-12-01T00:00:00.000000000",
          "2018-01-01T00:00:00.000000000",
          "2018-02-01T00:00:00.000000000",
          "2018-03-01T00:00:00.000000000",
          "2018-04-01T00:00:00.000000000",
          "2018-05-01T00:00:00.000000000",
          "2018-06-01T00:00:00.000000000",
          "2018-07-01T00:00:00.000000000",
          "2018-08-01T00:00:00.000000000",
          "2018-09-01T00:00:00.000000000",
          "2018-10-01T00:00:00.000000000",
          "2018-11-01T00:00:00.000000000",
          "2018-12-01T00:00:00.000000000",
          "2019-01-01T00:00:00.000000000",
          "2019-02-01T00:00:00.000000000",
          "2019-03-01T00:00:00.000000000",
          "2019-04-01T00:00:00.000000000",
          "2019-05-01T00:00:00.000000000",
          "2019-06-01T00:00:00.000000000",
          "2019-07-01T00:00:00.000000000",
          "2019-08-01T00:00:00.000000000",
          "2019-09-01T00:00:00.000000000",
          "2019-10-01T00:00:00.000000000",
          "2019-11-01T00:00:00.000000000",
          "2019-12-01T00:00:00.000000000",
          "2020-01-01T00:00:00.000000000",
          "2020-02-01T00:00:00.000000000",
          "2020-03-01T00:00:00.000000000",
          "2020-04-01T00:00:00.000000000",
          "2020-05-01T00:00:00.000000000",
          "2020-06-01T00:00:00.000000000",
          "2020-07-01T00:00:00.000000000",
          "2020-08-01T00:00:00.000000000",
          "2020-09-01T00:00:00.000000000",
          "2020-10-01T00:00:00.000000000",
          "2020-11-01T00:00:00.000000000",
          "2020-12-01T00:00:00.000000000",
          "2021-01-01T00:00:00.000000000",
          "2021-02-01T00:00:00.000000000",
          "2021-03-01T00:00:00.000000000",
          "2021-04-01T00:00:00.000000000",
          "2021-05-01T00:00:00.000000000",
          "2021-06-01T00:00:00.000000000",
          "2021-07-01T00:00:00.000000000",
          "2021-08-01T00:00:00.000000000",
          "2021-09-01T00:00:00.000000000",
          "2021-10-01T00:00:00.000000000",
          "2021-11-01T00:00:00.000000000",
          "2021-12-01T00:00:00.000000000",
          "2022-01-01T00:00:00.000000000",
          "2022-02-01T00:00:00.000000000",
          "2022-03-01T00:00:00.000000000",
          "2022-04-01T00:00:00.000000000",
          "2022-05-01T00:00:00.000000000",
          "2022-06-01T00:00:00.000000000",
          "2022-07-01T00:00:00.000000000",
          "2022-08-01T00:00:00.000000000",
          "2022-09-01T00:00:00.000000000",
          "2022-10-01T00:00:00.000000000",
          "2022-11-01T00:00:00.000000000",
          "2022-12-01T00:00:00.000000000",
          "2023-01-01T00:00:00.000000000",
          "2023-02-01T00:00:00.000000000",
          "2023-03-01T00:00:00.000000000",
          "2023-04-01T00:00:00.000000000",
          "2023-05-01T00:00:00.000000000",
          "2023-06-01T00:00:00.000000000",
          "2023-07-01T00:00:00.000000000",
          "2023-08-01T00:00:00.000000000",
          "2023-09-01T00:00:00.000000000",
          "2023-10-01T00:00:00.000000000",
          "2023-11-01T00:00:00.000000000",
          "2023-12-01T00:00:00.000000000",
          "2024-01-01T00:00:00.000000000",
          "2024-02-01T00:00:00.000000000",
          "2024-03-01T00:00:00.000000000",
          "2024-04-01T00:00:00.000000000",
          "2024-05-01T00:00:00.000000000",
          "2024-06-01T00:00:00.000000000",
          "2024-07-01T00:00:00.000000000",
          "2024-08-01T00:00:00.000000000",
          "2024-09-01T00:00:00.000000000",
          "2024-10-01T00:00:00.000000000",
          "2024-11-01T00:00:00.000000000",
          "2024-12-01T00:00:00.000000000"
         ],
         "y": [
          155.534542805331,
          153.47731762559067,
          151.42009244585037,
          149.36286726611004,
          147.30564208636974,
          145.24841690662942,
          143.19119172688912,
          141.1339665471488,
          139.0767413674085,
          137.01951618766816,
          134.96229100792786,
          132.90506582818753,
          130.84784064844723,
          128.7906154687069,
          126.7333902889666,
          124.67616510922629,
          122.61893992948598,
          120.56171474974566,
          118.50448957000535,
          116.44726439026503,
          114.39003921052472,
          112.33281403078442,
          110.27558885104409,
          108.21836367130379,
          106.16113849156346,
          104.10391331182316,
          102.04668813208283,
          99.98946295234254,
          97.93223777260222,
          95.8750125928619,
          93.8177874131216,
          91.76056223338128,
          89.70333705364096,
          87.64611187390065,
          85.58888669416034,
          83.53166151442002,
          81.47443633467971,
          79.4172111549394,
          77.35998597519908,
          75.30276079545877,
          73.24553561571847,
          71.18831043597815,
          69.13108525623784,
          67.07386007649752,
          65.01663489675721,
          62.9594097170169,
          60.90218453727658,
          58.84495935753627,
          56.787734177795954,
          54.73050899805564,
          52.673283818315326,
          50.61605863857501,
          48.5588334588347,
          46.501608279094384,
          44.44438309935407,
          42.38715791961377,
          40.329932739873456,
          38.27270756013314,
          36.21548238039283,
          34.158257200652514,
          32.1010320209122,
          30.043806841171886,
          27.986581661431558,
          25.929356481691258,
          23.872131301950958,
          21.81490612221063,
          19.75768094247033,
          17.70045576273,
          15.643230582989702,
          13.586005403249374,
          11.528780223509074,
          9.471555043768745,
          7.414329864028446,
          5.357104684288117,
          3.2998795045478175,
          1.2426543248074893,
          -0.8145708549328106,
          -2.871796034673139,
          -4.929021214413439,
          -6.986246394153767,
          -9.043471573894067,
          -11.100696753634367,
          -13.157921933374695,
          -15.215147113114995,
          -17.272372292855323,
          -19.329597472595623,
          -21.38682265233595,
          -23.44404783207625,
          -25.50127301181658,
          -27.55849819155688,
          -29.615723371297207,
          -31.672948551037507,
          -33.730173730777835,
          -35.787398910518135,
          -37.84462409025846,
          -39.90184926999876,
          -41.95907444973906,
          -44.01629962947939,
          -46.07352480921969,
          -48.13074998896002,
          -50.18797516870032,
          -52.24520034844065,
          -54.30242552818095,
          -56.359650707921276,
          -58.416875887661575,
          -60.474101067401904,
          -62.531326247142204,
          -64.58855142688253
         ]
        },
        {
         "line": {
          "color": "purple"
         },
         "mode": "lines",
         "name": "Full model",
         "type": "scatter",
         "x": [
          "2016-01-01T00:00:00.000000000",
          "2016-02-01T00:00:00.000000000",
          "2016-03-01T00:00:00.000000000",
          "2016-04-01T00:00:00.000000000",
          "2016-05-01T00:00:00.000000000",
          "2016-06-01T00:00:00.000000000",
          "2016-07-01T00:00:00.000000000",
          "2016-08-01T00:00:00.000000000",
          "2016-09-01T00:00:00.000000000",
          "2016-10-01T00:00:00.000000000",
          "2016-11-01T00:00:00.000000000",
          "2016-12-01T00:00:00.000000000",
          "2017-01-01T00:00:00.000000000",
          "2017-02-01T00:00:00.000000000",
          "2017-03-01T00:00:00.000000000",
          "2017-04-01T00:00:00.000000000",
          "2017-05-01T00:00:00.000000000",
          "2017-06-01T00:00:00.000000000",
          "2017-07-01T00:00:00.000000000",
          "2017-08-01T00:00:00.000000000",
          "2017-09-01T00:00:00.000000000",
          "2017-10-01T00:00:00.000000000",
          "2017-11-01T00:00:00.000000000",
          "2017-12-01T00:00:00.000000000",
          "2018-01-01T00:00:00.000000000",
          "2018-02-01T00:00:00.000000000",
          "2018-03-01T00:00:00.000000000",
          "2018-04-01T00:00:00.000000000",
          "2018-05-01T00:00:00.000000000",
          "2018-06-01T00:00:00.000000000",
          "2018-07-01T00:00:00.000000000",
          "2018-08-01T00:00:00.000000000",
          "2018-09-01T00:00:00.000000000",
          "2018-10-01T00:00:00.000000000",
          "2018-11-01T00:00:00.000000000",
          "2018-12-01T00:00:00.000000000",
          "2019-01-01T00:00:00.000000000",
          "2019-02-01T00:00:00.000000000",
          "2019-03-01T00:00:00.000000000",
          "2019-04-01T00:00:00.000000000",
          "2019-05-01T00:00:00.000000000",
          "2019-06-01T00:00:00.000000000",
          "2019-07-01T00:00:00.000000000",
          "2019-08-01T00:00:00.000000000",
          "2019-09-01T00:00:00.000000000",
          "2019-10-01T00:00:00.000000000",
          "2019-11-01T00:00:00.000000000",
          "2019-12-01T00:00:00.000000000",
          "2020-01-01T00:00:00.000000000",
          "2020-02-01T00:00:00.000000000",
          "2020-03-01T00:00:00.000000000",
          "2020-04-01T00:00:00.000000000",
          "2020-05-01T00:00:00.000000000",
          "2020-06-01T00:00:00.000000000",
          "2020-07-01T00:00:00.000000000",
          "2020-08-01T00:00:00.000000000",
          "2020-09-01T00:00:00.000000000",
          "2020-10-01T00:00:00.000000000",
          "2020-11-01T00:00:00.000000000",
          "2020-12-01T00:00:00.000000000",
          "2021-01-01T00:00:00.000000000",
          "2021-02-01T00:00:00.000000000",
          "2021-03-01T00:00:00.000000000",
          "2021-04-01T00:00:00.000000000",
          "2021-05-01T00:00:00.000000000",
          "2021-06-01T00:00:00.000000000",
          "2021-07-01T00:00:00.000000000",
          "2021-08-01T00:00:00.000000000",
          "2021-09-01T00:00:00.000000000",
          "2021-10-01T00:00:00.000000000",
          "2021-11-01T00:00:00.000000000",
          "2021-12-01T00:00:00.000000000",
          "2022-01-01T00:00:00.000000000",
          "2022-02-01T00:00:00.000000000",
          "2022-03-01T00:00:00.000000000",
          "2022-04-01T00:00:00.000000000",
          "2022-05-01T00:00:00.000000000",
          "2022-06-01T00:00:00.000000000",
          "2022-07-01T00:00:00.000000000",
          "2022-08-01T00:00:00.000000000",
          "2022-09-01T00:00:00.000000000",
          "2022-10-01T00:00:00.000000000",
          "2022-11-01T00:00:00.000000000",
          "2022-12-01T00:00:00.000000000",
          "2023-01-01T00:00:00.000000000",
          "2023-02-01T00:00:00.000000000",
          "2023-03-01T00:00:00.000000000",
          "2023-04-01T00:00:00.000000000",
          "2023-05-01T00:00:00.000000000",
          "2023-06-01T00:00:00.000000000",
          "2023-07-01T00:00:00.000000000",
          "2023-08-01T00:00:00.000000000",
          "2023-09-01T00:00:00.000000000",
          "2023-10-01T00:00:00.000000000",
          "2023-11-01T00:00:00.000000000",
          "2023-12-01T00:00:00.000000000",
          "2024-01-01T00:00:00.000000000",
          "2024-02-01T00:00:00.000000000",
          "2024-03-01T00:00:00.000000000",
          "2024-04-01T00:00:00.000000000",
          "2024-05-01T00:00:00.000000000",
          "2024-06-01T00:00:00.000000000",
          "2024-07-01T00:00:00.000000000",
          "2024-08-01T00:00:00.000000000",
          "2024-09-01T00:00:00.000000000",
          "2024-10-01T00:00:00.000000000",
          "2024-11-01T00:00:00.000000000",
          "2024-12-01T00:00:00.000000000"
         ],
         "y": [
          155.534542805331,
          153.47731762559067,
          151.42009244585037,
          149.36286726611004,
          147.30564208636974,
          145.24841690662942,
          143.19119172688912,
          141.1339665471488,
          139.0767413674085,
          137.01951618766816,
          134.96229100792786,
          132.90506582818753,
          130.84784064844723,
          128.7906154687069,
          126.7333902889666,
          124.67616510922629,
          122.61893992948598,
          120.56171474974566,
          118.50448957000535,
          116.44726439026503,
          114.39003921052472,
          112.33281403078442,
          110.27558885104409,
          108.21836367130379,
          106.16113849156346,
          104.10391331182316,
          102.04668813208283,
          99.98946295234254,
          97.93223777260222,
          95.8750125928619,
          93.8177874131216,
          91.76056223338128,
          89.70333705364096,
          87.64611187390065,
          85.58888669416034,
          83.53166151442002,
          81.47443633467971,
          79.4172111549394,
          77.35998597519908,
          75.30276079545877,
          73.24553561571847,
          71.18831043597815,
          69.13108525623784,
          67.07386007649752,
          65.01663489675721,
          62.9594097170169,
          60.90218453727658,
          58.84495935753627,
          35.787734177795954,
          33.73050899805564,
          31.673283818315326,
          29.616058638575012,
          27.558833458834698,
          25.501608279094384,
          23.44438309935407,
          -15.612842080386258,
          -12.67006726012653,
          -8.727292439866858,
          -5.784517619607186,
          -1.8417427993474575,
          1.1010320209122142,
          5.043806841171886,
          7.986581661431558,
          15.929356481691258,
          13.872131301950958,
          18.81490612221063,
          21.7576809424703,
          25.70045576273003,
          28.643230582989702,
          32.586005403249374,
          35.5287802235091,
          39.47155504376872,
          42.414329864028446,
          46.35710468428812,
          49.29987950454779,
          53.24265432480752,
          56.18542914506719,
          60.12820396532686,
          64.07097878558659,
          67.0137536058462,
          70.95652842610593,
          73.89930324636566,
          77.84207806662528,
          80.784852886885,
          84.72762770714468,
          87.67040252740435,
          91.61317734766408,
          94.55595216792375,
          98.49872698818342,
          101.44150180844315,
          105.38427662870276,
          108.3270514489625,
          112.26982626922216,
          115.21260108948184,
          119.15537590974157,
          122.09815073000124,
          126.04092555026091,
          128.98370037052064,
          132.9264751907803,
          135.86925001103998,
          139.8120248312997,
          142.75479965155932,
          146.69757447181905,
          150.64034929207872,
          153.5831241123384,
          157.52589893259812,
          160.4686737528578,
          164.41144857311747
         ]
        }
       ],
       "layout": {
        "legend": {
         "title": {
          "text": "Legend"
         }
        },
        "template": {
         "data": {
          "bar": [
           {
            "error_x": {
             "color": "#2a3f5f"
            },
            "error_y": {
             "color": "#2a3f5f"
            },
            "marker": {
             "line": {
              "color": "#E5ECF6",
              "width": 0.5
             },
             "pattern": {
              "fillmode": "overlay",
              "size": 10,
              "solidity": 0.2
             }
            },
            "type": "bar"
           }
          ],
          "barpolar": [
           {
            "marker": {
             "line": {
              "color": "#E5ECF6",
              "width": 0.5
             },
             "pattern": {
              "fillmode": "overlay",
              "size": 10,
              "solidity": 0.2
             }
            },
            "type": "barpolar"
           }
          ],
          "carpet": [
           {
            "aaxis": {
             "endlinecolor": "#2a3f5f",
             "gridcolor": "white",
             "linecolor": "white",
             "minorgridcolor": "white",
             "startlinecolor": "#2a3f5f"
            },
            "baxis": {
             "endlinecolor": "#2a3f5f",
             "gridcolor": "white",
             "linecolor": "white",
             "minorgridcolor": "white",
             "startlinecolor": "#2a3f5f"
            },
            "type": "carpet"
           }
          ],
          "choropleth": [
           {
            "colorbar": {
             "outlinewidth": 0,
             "ticks": ""
            },
            "type": "choropleth"
           }
          ],
          "contour": [
           {
            "colorbar": {
             "outlinewidth": 0,
             "ticks": ""
            },
            "colorscale": [
             [
              0,
              "#0d0887"
             ],
             [
              0.1111111111111111,
              "#46039f"
             ],
             [
              0.2222222222222222,
              "#7201a8"
             ],
             [
              0.3333333333333333,
              "#9c179e"
             ],
             [
              0.4444444444444444,
              "#bd3786"
             ],
             [
              0.5555555555555556,
              "#d8576b"
             ],
             [
              0.6666666666666666,
              "#ed7953"
             ],
             [
              0.7777777777777778,
              "#fb9f3a"
             ],
             [
              0.8888888888888888,
              "#fdca26"
             ],
             [
              1,
              "#f0f921"
             ]
            ],
            "type": "contour"
           }
          ],
          "contourcarpet": [
           {
            "colorbar": {
             "outlinewidth": 0,
             "ticks": ""
            },
            "type": "contourcarpet"
           }
          ],
          "heatmap": [
           {
            "colorbar": {
             "outlinewidth": 0,
             "ticks": ""
            },
            "colorscale": [
             [
              0,
              "#0d0887"
             ],
             [
              0.1111111111111111,
              "#46039f"
             ],
             [
              0.2222222222222222,
              "#7201a8"
             ],
             [
              0.3333333333333333,
              "#9c179e"
             ],
             [
              0.4444444444444444,
              "#bd3786"
             ],
             [
              0.5555555555555556,
              "#d8576b"
             ],
             [
              0.6666666666666666,
              "#ed7953"
             ],
             [
              0.7777777777777778,
              "#fb9f3a"
             ],
             [
              0.8888888888888888,
              "#fdca26"
             ],
             [
              1,
              "#f0f921"
             ]
            ],
            "type": "heatmap"
           }
          ],
          "heatmapgl": [
           {
            "colorbar": {
             "outlinewidth": 0,
             "ticks": ""
            },
            "colorscale": [
             [
              0,
              "#0d0887"
             ],
             [
              0.1111111111111111,
              "#46039f"
             ],
             [
              0.2222222222222222,
              "#7201a8"
             ],
             [
              0.3333333333333333,
              "#9c179e"
             ],
             [
              0.4444444444444444,
              "#bd3786"
             ],
             [
              0.5555555555555556,
              "#d8576b"
             ],
             [
              0.6666666666666666,
              "#ed7953"
             ],
             [
              0.7777777777777778,
              "#fb9f3a"
             ],
             [
              0.8888888888888888,
              "#fdca26"
             ],
             [
              1,
              "#f0f921"
             ]
            ],
            "type": "heatmapgl"
           }
          ],
          "histogram": [
           {
            "marker": {
             "pattern": {
              "fillmode": "overlay",
              "size": 10,
              "solidity": 0.2
             }
            },
            "type": "histogram"
           }
          ],
          "histogram2d": [
           {
            "colorbar": {
             "outlinewidth": 0,
             "ticks": ""
            },
            "colorscale": [
             [
              0,
              "#0d0887"
             ],
             [
              0.1111111111111111,
              "#46039f"
             ],
             [
              0.2222222222222222,
              "#7201a8"
             ],
             [
              0.3333333333333333,
              "#9c179e"
             ],
             [
              0.4444444444444444,
              "#bd3786"
             ],
             [
              0.5555555555555556,
              "#d8576b"
             ],
             [
              0.6666666666666666,
              "#ed7953"
             ],
             [
              0.7777777777777778,
              "#fb9f3a"
             ],
             [
              0.8888888888888888,
              "#fdca26"
             ],
             [
              1,
              "#f0f921"
             ]
            ],
            "type": "histogram2d"
           }
          ],
          "histogram2dcontour": [
           {
            "colorbar": {
             "outlinewidth": 0,
             "ticks": ""
            },
            "colorscale": [
             [
              0,
              "#0d0887"
             ],
             [
              0.1111111111111111,
              "#46039f"
             ],
             [
              0.2222222222222222,
              "#7201a8"
             ],
             [
              0.3333333333333333,
              "#9c179e"
             ],
             [
              0.4444444444444444,
              "#bd3786"
             ],
             [
              0.5555555555555556,
              "#d8576b"
             ],
             [
              0.6666666666666666,
              "#ed7953"
             ],
             [
              0.7777777777777778,
              "#fb9f3a"
             ],
             [
              0.8888888888888888,
              "#fdca26"
             ],
             [
              1,
              "#f0f921"
             ]
            ],
            "type": "histogram2dcontour"
           }
          ],
          "mesh3d": [
           {
            "colorbar": {
             "outlinewidth": 0,
             "ticks": ""
            },
            "type": "mesh3d"
           }
          ],
          "parcoords": [
           {
            "line": {
             "colorbar": {
              "outlinewidth": 0,
              "ticks": ""
             }
            },
            "type": "parcoords"
           }
          ],
          "pie": [
           {
            "automargin": true,
            "type": "pie"
           }
          ],
          "scatter": [
           {
            "fillpattern": {
             "fillmode": "overlay",
             "size": 10,
             "solidity": 0.2
            },
            "type": "scatter"
           }
          ],
          "scatter3d": [
           {
            "line": {
             "colorbar": {
              "outlinewidth": 0,
              "ticks": ""
             }
            },
            "marker": {
             "colorbar": {
              "outlinewidth": 0,
              "ticks": ""
             }
            },
            "type": "scatter3d"
           }
          ],
          "scattercarpet": [
           {
            "marker": {
             "colorbar": {
              "outlinewidth": 0,
              "ticks": ""
             }
            },
            "type": "scattercarpet"
           }
          ],
          "scattergeo": [
           {
            "marker": {
             "colorbar": {
              "outlinewidth": 0,
              "ticks": ""
             }
            },
            "type": "scattergeo"
           }
          ],
          "scattergl": [
           {
            "marker": {
             "colorbar": {
              "outlinewidth": 0,
              "ticks": ""
             }
            },
            "type": "scattergl"
           }
          ],
          "scattermapbox": [
           {
            "marker": {
             "colorbar": {
              "outlinewidth": 0,
              "ticks": ""
             }
            },
            "type": "scattermapbox"
           }
          ],
          "scatterpolar": [
           {
            "marker": {
             "colorbar": {
              "outlinewidth": 0,
              "ticks": ""
             }
            },
            "type": "scatterpolar"
           }
          ],
          "scatterpolargl": [
           {
            "marker": {
             "colorbar": {
              "outlinewidth": 0,
              "ticks": ""
             }
            },
            "type": "scatterpolargl"
           }
          ],
          "scatterternary": [
           {
            "marker": {
             "colorbar": {
              "outlinewidth": 0,
              "ticks": ""
             }
            },
            "type": "scatterternary"
           }
          ],
          "surface": [
           {
            "colorbar": {
             "outlinewidth": 0,
             "ticks": ""
            },
            "colorscale": [
             [
              0,
              "#0d0887"
             ],
             [
              0.1111111111111111,
              "#46039f"
             ],
             [
              0.2222222222222222,
              "#7201a8"
             ],
             [
              0.3333333333333333,
              "#9c179e"
             ],
             [
              0.4444444444444444,
              "#bd3786"
             ],
             [
              0.5555555555555556,
              "#d8576b"
             ],
             [
              0.6666666666666666,
              "#ed7953"
             ],
             [
              0.7777777777777778,
              "#fb9f3a"
             ],
             [
              0.8888888888888888,
              "#fdca26"
             ],
             [
              1,
              "#f0f921"
             ]
            ],
            "type": "surface"
           }
          ],
          "table": [
           {
            "cells": {
             "fill": {
              "color": "#EBF0F8"
             },
             "line": {
              "color": "white"
             }
            },
            "header": {
             "fill": {
              "color": "#C8D4E3"
             },
             "line": {
              "color": "white"
             }
            },
            "type": "table"
           }
          ]
         },
         "layout": {
          "annotationdefaults": {
           "arrowcolor": "#2a3f5f",
           "arrowhead": 0,
           "arrowwidth": 1
          },
          "autotypenumbers": "strict",
          "coloraxis": {
           "colorbar": {
            "outlinewidth": 0,
            "ticks": ""
           }
          },
          "colorscale": {
           "diverging": [
            [
             0,
             "#8e0152"
            ],
            [
             0.1,
             "#c51b7d"
            ],
            [
             0.2,
             "#de77ae"
            ],
            [
             0.3,
             "#f1b6da"
            ],
            [
             0.4,
             "#fde0ef"
            ],
            [
             0.5,
             "#f7f7f7"
            ],
            [
             0.6,
             "#e6f5d0"
            ],
            [
             0.7,
             "#b8e186"
            ],
            [
             0.8,
             "#7fbc41"
            ],
            [
             0.9,
             "#4d9221"
            ],
            [
             1,
             "#276419"
            ]
           ],
           "sequential": [
            [
             0,
             "#0d0887"
            ],
            [
             0.1111111111111111,
             "#46039f"
            ],
            [
             0.2222222222222222,
             "#7201a8"
            ],
            [
             0.3333333333333333,
             "#9c179e"
            ],
            [
             0.4444444444444444,
             "#bd3786"
            ],
            [
             0.5555555555555556,
             "#d8576b"
            ],
            [
             0.6666666666666666,
             "#ed7953"
            ],
            [
             0.7777777777777778,
             "#fb9f3a"
            ],
            [
             0.8888888888888888,
             "#fdca26"
            ],
            [
             1,
             "#f0f921"
            ]
           ],
           "sequentialminus": [
            [
             0,
             "#0d0887"
            ],
            [
             0.1111111111111111,
             "#46039f"
            ],
            [
             0.2222222222222222,
             "#7201a8"
            ],
            [
             0.3333333333333333,
             "#9c179e"
            ],
            [
             0.4444444444444444,
             "#bd3786"
            ],
            [
             0.5555555555555556,
             "#d8576b"
            ],
            [
             0.6666666666666666,
             "#ed7953"
            ],
            [
             0.7777777777777778,
             "#fb9f3a"
            ],
            [
             0.8888888888888888,
             "#fdca26"
            ],
            [
             1,
             "#f0f921"
            ]
           ]
          },
          "colorway": [
           "#636efa",
           "#EF553B",
           "#00cc96",
           "#ab63fa",
           "#FFA15A",
           "#19d3f3",
           "#FF6692",
           "#B6E880",
           "#FF97FF",
           "#FECB52"
          ],
          "font": {
           "color": "#2a3f5f"
          },
          "geo": {
           "bgcolor": "white",
           "lakecolor": "white",
           "landcolor": "#E5ECF6",
           "showlakes": true,
           "showland": true,
           "subunitcolor": "white"
          },
          "hoverlabel": {
           "align": "left"
          },
          "hovermode": "closest",
          "mapbox": {
           "style": "light"
          },
          "paper_bgcolor": "white",
          "plot_bgcolor": "#E5ECF6",
          "polar": {
           "angularaxis": {
            "gridcolor": "white",
            "linecolor": "white",
            "ticks": ""
           },
           "bgcolor": "#E5ECF6",
           "radialaxis": {
            "gridcolor": "white",
            "linecolor": "white",
            "ticks": ""
           }
          },
          "scene": {
           "xaxis": {
            "backgroundcolor": "#E5ECF6",
            "gridcolor": "white",
            "gridwidth": 2,
            "linecolor": "white",
            "showbackground": true,
            "ticks": "",
            "zerolinecolor": "white"
           },
           "yaxis": {
            "backgroundcolor": "#E5ECF6",
            "gridcolor": "white",
            "gridwidth": 2,
            "linecolor": "white",
            "showbackground": true,
            "ticks": "",
            "zerolinecolor": "white"
           },
           "zaxis": {
            "backgroundcolor": "#E5ECF6",
            "gridcolor": "white",
            "gridwidth": 2,
            "linecolor": "white",
            "showbackground": true,
            "ticks": "",
            "zerolinecolor": "white"
           }
          },
          "shapedefaults": {
           "line": {
            "color": "#2a3f5f"
           }
          },
          "ternary": {
           "aaxis": {
            "gridcolor": "white",
            "linecolor": "white",
            "ticks": ""
           },
           "baxis": {
            "gridcolor": "white",
            "linecolor": "white",
            "ticks": ""
           },
           "bgcolor": "#E5ECF6",
           "caxis": {
            "gridcolor": "white",
            "linecolor": "white",
            "ticks": ""
           }
          },
          "title": {
           "x": 0.05
          },
          "xaxis": {
           "automargin": true,
           "gridcolor": "white",
           "linecolor": "white",
           "ticks": "",
           "title": {
            "standoff": 15
           },
           "zerolinecolor": "white",
           "zerolinewidth": 2
          },
          "yaxis": {
           "automargin": true,
           "gridcolor": "white",
           "linecolor": "white",
           "ticks": "",
           "title": {
            "standoff": 15
           },
           "zerolinecolor": "white",
           "zerolinewidth": 2
          }
         }
        },
        "title": {
         "text": "F99-F99 - Transtorno mental não especificado"
        },
        "xaxis": {
         "title": {
          "text": "Time"
         }
        },
        "yaxis": {
         "title": {
          "text": "Value"
         }
        }
       }
      }
     },
     "metadata": {},
     "output_type": "display_data"
    },
    {
     "data": {
      "application/vnd.plotly.v1+json": {
       "config": {
        "plotlyServerURL": "https://plot.ly"
       },
       "data": [
        {
         "marker": {
          "color": "black"
         },
         "mode": "markers",
         "name": "Real",
         "type": "scatter",
         "x": [
          "2016-01-01T00:00:00.000000000",
          "2016-02-01T00:00:00.000000000",
          "2016-03-01T00:00:00.000000000",
          "2016-04-01T00:00:00.000000000",
          "2016-05-01T00:00:00.000000000",
          "2016-06-01T00:00:00.000000000",
          "2016-07-01T00:00:00.000000000",
          "2016-08-01T00:00:00.000000000",
          "2016-09-01T00:00:00.000000000",
          "2016-10-01T00:00:00.000000000",
          "2016-11-01T00:00:00.000000000",
          "2016-12-01T00:00:00.000000000",
          "2017-01-01T00:00:00.000000000",
          "2017-02-01T00:00:00.000000000",
          "2017-03-01T00:00:00.000000000",
          "2017-04-01T00:00:00.000000000",
          "2017-05-01T00:00:00.000000000",
          "2017-06-01T00:00:00.000000000",
          "2017-07-01T00:00:00.000000000",
          "2017-08-01T00:00:00.000000000",
          "2017-09-01T00:00:00.000000000",
          "2017-10-01T00:00:00.000000000",
          "2017-11-01T00:00:00.000000000",
          "2017-12-01T00:00:00.000000000",
          "2018-01-01T00:00:00.000000000",
          "2018-02-01T00:00:00.000000000",
          "2018-03-01T00:00:00.000000000",
          "2018-04-01T00:00:00.000000000",
          "2018-05-01T00:00:00.000000000",
          "2018-06-01T00:00:00.000000000",
          "2018-07-01T00:00:00.000000000",
          "2018-08-01T00:00:00.000000000",
          "2018-09-01T00:00:00.000000000",
          "2018-10-01T00:00:00.000000000",
          "2018-11-01T00:00:00.000000000",
          "2018-12-01T00:00:00.000000000",
          "2019-01-01T00:00:00.000000000",
          "2019-02-01T00:00:00.000000000",
          "2019-03-01T00:00:00.000000000",
          "2019-04-01T00:00:00.000000000",
          "2019-05-01T00:00:00.000000000",
          "2019-06-01T00:00:00.000000000",
          "2019-07-01T00:00:00.000000000",
          "2019-08-01T00:00:00.000000000",
          "2019-09-01T00:00:00.000000000",
          "2019-10-01T00:00:00.000000000",
          "2019-11-01T00:00:00.000000000",
          "2019-12-01T00:00:00.000000000",
          "2020-01-01T00:00:00.000000000",
          "2020-02-01T00:00:00.000000000",
          "2020-03-01T00:00:00.000000000",
          "2020-04-01T00:00:00.000000000",
          "2020-05-01T00:00:00.000000000",
          "2020-06-01T00:00:00.000000000",
          "2020-07-01T00:00:00.000000000",
          "2020-08-01T00:00:00.000000000",
          "2020-09-01T00:00:00.000000000",
          "2020-10-01T00:00:00.000000000",
          "2020-11-01T00:00:00.000000000",
          "2020-12-01T00:00:00.000000000",
          "2021-01-01T00:00:00.000000000",
          "2021-02-01T00:00:00.000000000",
          "2021-03-01T00:00:00.000000000",
          "2021-04-01T00:00:00.000000000",
          "2021-05-01T00:00:00.000000000",
          "2021-06-01T00:00:00.000000000",
          "2021-07-01T00:00:00.000000000",
          "2021-08-01T00:00:00.000000000",
          "2021-09-01T00:00:00.000000000",
          "2021-10-01T00:00:00.000000000",
          "2021-11-01T00:00:00.000000000",
          "2021-12-01T00:00:00.000000000",
          "2022-01-01T00:00:00.000000000",
          "2022-02-01T00:00:00.000000000",
          "2022-03-01T00:00:00.000000000",
          "2022-04-01T00:00:00.000000000",
          "2022-05-01T00:00:00.000000000",
          "2022-06-01T00:00:00.000000000",
          "2022-07-01T00:00:00.000000000",
          "2022-08-01T00:00:00.000000000",
          "2022-09-01T00:00:00.000000000",
          "2022-10-01T00:00:00.000000000",
          "2022-11-01T00:00:00.000000000",
          "2022-12-01T00:00:00.000000000",
          "2023-01-01T00:00:00.000000000",
          "2023-02-01T00:00:00.000000000",
          "2023-03-01T00:00:00.000000000",
          "2023-04-01T00:00:00.000000000",
          "2023-05-01T00:00:00.000000000",
          "2023-06-01T00:00:00.000000000",
          "2023-07-01T00:00:00.000000000",
          "2023-08-01T00:00:00.000000000",
          "2023-09-01T00:00:00.000000000",
          "2023-10-01T00:00:00.000000000",
          "2023-11-01T00:00:00.000000000",
          "2023-12-01T00:00:00.000000000",
          "2024-01-01T00:00:00.000000000",
          "2024-02-01T00:00:00.000000000",
          "2024-03-01T00:00:00.000000000",
          "2024-04-01T00:00:00.000000000",
          "2024-05-01T00:00:00.000000000",
          "2024-06-01T00:00:00.000000000",
          "2024-07-01T00:00:00.000000000",
          "2024-08-01T00:00:00.000000000",
          "2024-09-01T00:00:00.000000000",
          "2024-10-01T00:00:00.000000000",
          "2024-11-01T00:00:00.000000000",
          "2024-12-01T00:00:00.000000000"
         ],
         "y": [
          4004,
          4300,
          5822,
          5279,
          6968,
          8146,
          7944,
          9440,
          8060,
          7662,
          5989,
          5751,
          5507,
          5082,
          7545,
          5931,
          6891,
          6380,
          6242,
          6652,
          6183,
          6093,
          6489,
          5885,
          5917,
          5229,
          7009,
          7236,
          7008,
          6261,
          6386,
          7062,
          6310,
          7819,
          6729,
          5946,
          6737,
          6202,
          5820,
          7001,
          7720,
          6429,
          7416,
          7266,
          5944,
          6536,
          5133,
          4494,
          5346,
          4672,
          4154,
          3680,
          4576,
          5021,
          5083,
          5679,
          6507,
          6689,
          6764,
          6464,
          6359,
          6067,
          6096,
          4274,
          1744,
          7511,
          8100,
          8425,
          8039,
          8227,
          7684,
          7794,
          4461,
          5908,
          8563,
          6690,
          7519,
          7764,
          7948,
          8849,
          8463,
          9308,
          9401,
          9091,
          10232,
          8293,
          11363,
          9734,
          11795,
          10642,
          11392,
          13593,
          11136,
          13693,
          13533,
          12965,
          13476,
          12158,
          13252,
          14928,
          10622,
          13097,
          14441,
          14690,
          13509,
          17435,
          14082,
          13405
         ]
        },
        {
         "line": {
          "color": "black",
          "dash": "dot"
         },
         "mode": "lines",
         "name": "Baseline",
         "type": "scatter",
         "x": [
          "2016-01-01T00:00:00.000000000",
          "2016-02-01T00:00:00.000000000",
          "2016-03-01T00:00:00.000000000",
          "2016-04-01T00:00:00.000000000",
          "2016-05-01T00:00:00.000000000",
          "2016-06-01T00:00:00.000000000",
          "2016-07-01T00:00:00.000000000",
          "2016-08-01T00:00:00.000000000",
          "2016-09-01T00:00:00.000000000",
          "2016-10-01T00:00:00.000000000",
          "2016-11-01T00:00:00.000000000",
          "2016-12-01T00:00:00.000000000",
          "2017-01-01T00:00:00.000000000",
          "2017-02-01T00:00:00.000000000",
          "2017-03-01T00:00:00.000000000",
          "2017-04-01T00:00:00.000000000",
          "2017-05-01T00:00:00.000000000",
          "2017-06-01T00:00:00.000000000",
          "2017-07-01T00:00:00.000000000",
          "2017-08-01T00:00:00.000000000",
          "2017-09-01T00:00:00.000000000",
          "2017-10-01T00:00:00.000000000",
          "2017-11-01T00:00:00.000000000",
          "2017-12-01T00:00:00.000000000",
          "2018-01-01T00:00:00.000000000",
          "2018-02-01T00:00:00.000000000",
          "2018-03-01T00:00:00.000000000",
          "2018-04-01T00:00:00.000000000",
          "2018-05-01T00:00:00.000000000",
          "2018-06-01T00:00:00.000000000",
          "2018-07-01T00:00:00.000000000",
          "2018-08-01T00:00:00.000000000",
          "2018-09-01T00:00:00.000000000",
          "2018-10-01T00:00:00.000000000",
          "2018-11-01T00:00:00.000000000",
          "2018-12-01T00:00:00.000000000",
          "2019-01-01T00:00:00.000000000",
          "2019-02-01T00:00:00.000000000",
          "2019-03-01T00:00:00.000000000",
          "2019-04-01T00:00:00.000000000",
          "2019-05-01T00:00:00.000000000",
          "2019-06-01T00:00:00.000000000",
          "2019-07-01T00:00:00.000000000",
          "2019-08-01T00:00:00.000000000",
          "2019-09-01T00:00:00.000000000",
          "2019-10-01T00:00:00.000000000",
          "2019-11-01T00:00:00.000000000",
          "2019-12-01T00:00:00.000000000",
          "2020-01-01T00:00:00.000000000",
          "2020-02-01T00:00:00.000000000",
          "2020-03-01T00:00:00.000000000",
          "2020-04-01T00:00:00.000000000",
          "2020-05-01T00:00:00.000000000",
          "2020-06-01T00:00:00.000000000",
          "2020-07-01T00:00:00.000000000",
          "2020-08-01T00:00:00.000000000",
          "2020-09-01T00:00:00.000000000",
          "2020-10-01T00:00:00.000000000",
          "2020-11-01T00:00:00.000000000",
          "2020-12-01T00:00:00.000000000",
          "2021-01-01T00:00:00.000000000",
          "2021-02-01T00:00:00.000000000",
          "2021-03-01T00:00:00.000000000",
          "2021-04-01T00:00:00.000000000",
          "2021-05-01T00:00:00.000000000",
          "2021-06-01T00:00:00.000000000",
          "2021-07-01T00:00:00.000000000",
          "2021-08-01T00:00:00.000000000",
          "2021-09-01T00:00:00.000000000",
          "2021-10-01T00:00:00.000000000",
          "2021-11-01T00:00:00.000000000",
          "2021-12-01T00:00:00.000000000",
          "2022-01-01T00:00:00.000000000",
          "2022-02-01T00:00:00.000000000",
          "2022-03-01T00:00:00.000000000",
          "2022-04-01T00:00:00.000000000",
          "2022-05-01T00:00:00.000000000",
          "2022-06-01T00:00:00.000000000",
          "2022-07-01T00:00:00.000000000",
          "2022-08-01T00:00:00.000000000",
          "2022-09-01T00:00:00.000000000",
          "2022-10-01T00:00:00.000000000",
          "2022-11-01T00:00:00.000000000",
          "2022-12-01T00:00:00.000000000",
          "2023-01-01T00:00:00.000000000",
          "2023-02-01T00:00:00.000000000",
          "2023-03-01T00:00:00.000000000",
          "2023-04-01T00:00:00.000000000",
          "2023-05-01T00:00:00.000000000",
          "2023-06-01T00:00:00.000000000",
          "2023-07-01T00:00:00.000000000",
          "2023-08-01T00:00:00.000000000",
          "2023-09-01T00:00:00.000000000",
          "2023-10-01T00:00:00.000000000",
          "2023-11-01T00:00:00.000000000",
          "2023-12-01T00:00:00.000000000",
          "2024-01-01T00:00:00.000000000",
          "2024-02-01T00:00:00.000000000",
          "2024-03-01T00:00:00.000000000",
          "2024-04-01T00:00:00.000000000",
          "2024-05-01T00:00:00.000000000",
          "2024-06-01T00:00:00.000000000",
          "2024-07-01T00:00:00.000000000",
          "2024-08-01T00:00:00.000000000",
          "2024-09-01T00:00:00.000000000",
          "2024-10-01T00:00:00.000000000",
          "2024-11-01T00:00:00.000000000",
          "2024-12-01T00:00:00.000000000"
         ],
         "y": [
          5976.692848804117,
          5971.581483996404,
          5966.470119188691,
          5961.358754380978,
          5956.247389573265,
          5951.136024765552,
          5946.024659957839,
          5940.913295150126,
          5935.801930342413,
          5930.6905655347,
          5925.5792007269865,
          5920.467835919274,
          5915.3564711115605,
          5910.245106303848,
          5905.1337414961345,
          5900.022376688422,
          5894.911011880708,
          5889.799647072996,
          5884.688282265282,
          5879.57691745757,
          5874.465552649856,
          5869.354187842144,
          5864.24282303443,
          5859.131458226718,
          5854.020093419004,
          5848.908728611292,
          5843.797363803578,
          5838.685998995866,
          5833.574634188152,
          5828.46326938044,
          5823.351904572726,
          5818.240539765014,
          5813.1291749573,
          5808.017810149588,
          5802.906445341874,
          5797.795080534162,
          5792.683715726448,
          5787.5723509187355,
          5782.460986111022,
          5777.3496213033095,
          5772.238256495596,
          5767.1268916878835,
          5762.01552688017,
          5756.904162072457,
          5751.792797264744,
          5746.681432457031,
          5741.570067649318,
          5736.458702841605,
          5731.347338033892,
          5726.235973226179,
          5721.124608418466,
          5716.013243610753,
          5710.90187880304,
          5705.790513995327,
          5700.679149187614,
          5695.567784379901,
          5690.456419572188,
          5685.345054764475,
          5680.233689956762,
          5675.122325149049,
          5670.010960341336,
          5664.899595533623,
          5659.78823072591,
          5654.676865918197,
          5649.565501110484,
          5644.454136302771,
          5639.342771495058,
          5634.231406687345,
          5629.120041879632,
          5624.008677071919,
          5618.8973122642055,
          5613.785947456493,
          5608.6745826487795,
          5603.563217841067,
          5598.4518530333535,
          5593.340488225641,
          5588.229123417927,
          5583.117758610215,
          5578.006393802501,
          5572.895028994789,
          5567.783664187075,
          5562.672299379363,
          5557.560934571649,
          5552.449569763937,
          5547.338204956223,
          5542.226840148511,
          5537.115475340797,
          5532.004110533085,
          5526.892745725371,
          5521.781380917659,
          5516.670016109945,
          5511.558651302233,
          5506.447286494519,
          5501.335921686807,
          5496.224556879093,
          5491.113192071381,
          5486.001827263667,
          5480.890462455955,
          5475.779097648241,
          5470.6677328405285,
          5465.556368032815,
          5460.4450032251025,
          5455.333638417389,
          5450.222273609676,
          5445.110908801963,
          5439.99954399425,
          5434.888179186537,
          5429.776814378824
         ]
        },
        {
         "line": {
          "color": "purple"
         },
         "mode": "lines",
         "name": "Full model",
         "type": "scatter",
         "x": [
          "2016-01-01T00:00:00.000000000",
          "2016-02-01T00:00:00.000000000",
          "2016-03-01T00:00:00.000000000",
          "2016-04-01T00:00:00.000000000",
          "2016-05-01T00:00:00.000000000",
          "2016-06-01T00:00:00.000000000",
          "2016-07-01T00:00:00.000000000",
          "2016-08-01T00:00:00.000000000",
          "2016-09-01T00:00:00.000000000",
          "2016-10-01T00:00:00.000000000",
          "2016-11-01T00:00:00.000000000",
          "2016-12-01T00:00:00.000000000",
          "2017-01-01T00:00:00.000000000",
          "2017-02-01T00:00:00.000000000",
          "2017-03-01T00:00:00.000000000",
          "2017-04-01T00:00:00.000000000",
          "2017-05-01T00:00:00.000000000",
          "2017-06-01T00:00:00.000000000",
          "2017-07-01T00:00:00.000000000",
          "2017-08-01T00:00:00.000000000",
          "2017-09-01T00:00:00.000000000",
          "2017-10-01T00:00:00.000000000",
          "2017-11-01T00:00:00.000000000",
          "2017-12-01T00:00:00.000000000",
          "2018-01-01T00:00:00.000000000",
          "2018-02-01T00:00:00.000000000",
          "2018-03-01T00:00:00.000000000",
          "2018-04-01T00:00:00.000000000",
          "2018-05-01T00:00:00.000000000",
          "2018-06-01T00:00:00.000000000",
          "2018-07-01T00:00:00.000000000",
          "2018-08-01T00:00:00.000000000",
          "2018-09-01T00:00:00.000000000",
          "2018-10-01T00:00:00.000000000",
          "2018-11-01T00:00:00.000000000",
          "2018-12-01T00:00:00.000000000",
          "2019-01-01T00:00:00.000000000",
          "2019-02-01T00:00:00.000000000",
          "2019-03-01T00:00:00.000000000",
          "2019-04-01T00:00:00.000000000",
          "2019-05-01T00:00:00.000000000",
          "2019-06-01T00:00:00.000000000",
          "2019-07-01T00:00:00.000000000",
          "2019-08-01T00:00:00.000000000",
          "2019-09-01T00:00:00.000000000",
          "2019-10-01T00:00:00.000000000",
          "2019-11-01T00:00:00.000000000",
          "2019-12-01T00:00:00.000000000",
          "2020-01-01T00:00:00.000000000",
          "2020-02-01T00:00:00.000000000",
          "2020-03-01T00:00:00.000000000",
          "2020-04-01T00:00:00.000000000",
          "2020-05-01T00:00:00.000000000",
          "2020-06-01T00:00:00.000000000",
          "2020-07-01T00:00:00.000000000",
          "2020-08-01T00:00:00.000000000",
          "2020-09-01T00:00:00.000000000",
          "2020-10-01T00:00:00.000000000",
          "2020-11-01T00:00:00.000000000",
          "2020-12-01T00:00:00.000000000",
          "2021-01-01T00:00:00.000000000",
          "2021-02-01T00:00:00.000000000",
          "2021-03-01T00:00:00.000000000",
          "2021-04-01T00:00:00.000000000",
          "2021-05-01T00:00:00.000000000",
          "2021-06-01T00:00:00.000000000",
          "2021-07-01T00:00:00.000000000",
          "2021-08-01T00:00:00.000000000",
          "2021-09-01T00:00:00.000000000",
          "2021-10-01T00:00:00.000000000",
          "2021-11-01T00:00:00.000000000",
          "2021-12-01T00:00:00.000000000",
          "2022-01-01T00:00:00.000000000",
          "2022-02-01T00:00:00.000000000",
          "2022-03-01T00:00:00.000000000",
          "2022-04-01T00:00:00.000000000",
          "2022-05-01T00:00:00.000000000",
          "2022-06-01T00:00:00.000000000",
          "2022-07-01T00:00:00.000000000",
          "2022-08-01T00:00:00.000000000",
          "2022-09-01T00:00:00.000000000",
          "2022-10-01T00:00:00.000000000",
          "2022-11-01T00:00:00.000000000",
          "2022-12-01T00:00:00.000000000",
          "2023-01-01T00:00:00.000000000",
          "2023-02-01T00:00:00.000000000",
          "2023-03-01T00:00:00.000000000",
          "2023-04-01T00:00:00.000000000",
          "2023-05-01T00:00:00.000000000",
          "2023-06-01T00:00:00.000000000",
          "2023-07-01T00:00:00.000000000",
          "2023-08-01T00:00:00.000000000",
          "2023-09-01T00:00:00.000000000",
          "2023-10-01T00:00:00.000000000",
          "2023-11-01T00:00:00.000000000",
          "2023-12-01T00:00:00.000000000",
          "2024-01-01T00:00:00.000000000",
          "2024-02-01T00:00:00.000000000",
          "2024-03-01T00:00:00.000000000",
          "2024-04-01T00:00:00.000000000",
          "2024-05-01T00:00:00.000000000",
          "2024-06-01T00:00:00.000000000",
          "2024-07-01T00:00:00.000000000",
          "2024-08-01T00:00:00.000000000",
          "2024-09-01T00:00:00.000000000",
          "2024-10-01T00:00:00.000000000",
          "2024-11-01T00:00:00.000000000",
          "2024-12-01T00:00:00.000000000"
         ],
         "y": [
          5976.692848804117,
          5971.581483996404,
          5966.470119188691,
          5961.358754380978,
          5956.247389573265,
          5951.136024765552,
          5946.024659957839,
          5940.913295150126,
          5935.801930342413,
          5930.6905655347,
          5925.5792007269865,
          5920.467835919274,
          5915.3564711115605,
          5910.245106303848,
          5905.1337414961345,
          5900.022376688422,
          5894.911011880708,
          5889.799647072996,
          5884.688282265282,
          5879.57691745757,
          5874.465552649856,
          5869.354187842144,
          5864.24282303443,
          5859.131458226718,
          5854.020093419004,
          5848.908728611292,
          5843.797363803578,
          5838.685998995866,
          5833.574634188152,
          5828.46326938044,
          5823.351904572726,
          5818.240539765014,
          5813.1291749573,
          5808.017810149588,
          5802.906445341874,
          5797.795080534162,
          5792.683715726448,
          5787.5723509187355,
          5782.460986111022,
          5777.3496213033095,
          5772.238256495596,
          5767.1268916878835,
          5762.01552688017,
          5756.904162072457,
          5751.792797264744,
          5746.681432457031,
          5741.570067649318,
          5736.458702841605,
          4291.347338033892,
          4286.235973226179,
          4281.124608418466,
          4276.013243610753,
          4270.90187880304,
          4265.790513995327,
          4260.679149187614,
          4359.567784379901,
          4541.456419572188,
          4723.345054764475,
          4905.233689956762,
          5087.122325149049,
          5269.010960341336,
          5451.899595533623,
          5633.78823072591,
          2619.676865918197,
          2614.5655011104836,
          6179.454136302771,
          6361.342771495058,
          6543.231406687345,
          6725.120041879632,
          6907.008677071919,
          7088.8973122642055,
          7270.785947456493,
          7452.6745826487795,
          7634.563217841067,
          7816.4518530333535,
          7998.340488225641,
          8180.229123417927,
          8363.117758610215,
          8545.006393802501,
          8726.89502899479,
          8908.783664187074,
          9090.672299379363,
          9272.56093457165,
          9454.449569763936,
          9636.338204956224,
          9818.22684014851,
          10000.115475340797,
          10182.004110533086,
          10363.89274572537,
          10545.781380917659,
          10727.670016109945,
          10909.558651302232,
          11092.44728649452,
          11274.335921686807,
          11456.224556879093,
          11638.113192071381,
          11820.001827263666,
          12001.890462455955,
          12183.779097648241,
          12365.667732840528,
          12547.556368032816,
          12729.445003225102,
          12911.333638417389,
          13093.222273609677,
          13275.110908801962,
          13456.99954399425,
          13638.888179186537,
          13821.776814378823
         ]
        }
       ],
       "layout": {
        "legend": {
         "title": {
          "text": "Legend"
         }
        },
        "template": {
         "data": {
          "bar": [
           {
            "error_x": {
             "color": "#2a3f5f"
            },
            "error_y": {
             "color": "#2a3f5f"
            },
            "marker": {
             "line": {
              "color": "#E5ECF6",
              "width": 0.5
             },
             "pattern": {
              "fillmode": "overlay",
              "size": 10,
              "solidity": 0.2
             }
            },
            "type": "bar"
           }
          ],
          "barpolar": [
           {
            "marker": {
             "line": {
              "color": "#E5ECF6",
              "width": 0.5
             },
             "pattern": {
              "fillmode": "overlay",
              "size": 10,
              "solidity": 0.2
             }
            },
            "type": "barpolar"
           }
          ],
          "carpet": [
           {
            "aaxis": {
             "endlinecolor": "#2a3f5f",
             "gridcolor": "white",
             "linecolor": "white",
             "minorgridcolor": "white",
             "startlinecolor": "#2a3f5f"
            },
            "baxis": {
             "endlinecolor": "#2a3f5f",
             "gridcolor": "white",
             "linecolor": "white",
             "minorgridcolor": "white",
             "startlinecolor": "#2a3f5f"
            },
            "type": "carpet"
           }
          ],
          "choropleth": [
           {
            "colorbar": {
             "outlinewidth": 0,
             "ticks": ""
            },
            "type": "choropleth"
           }
          ],
          "contour": [
           {
            "colorbar": {
             "outlinewidth": 0,
             "ticks": ""
            },
            "colorscale": [
             [
              0,
              "#0d0887"
             ],
             [
              0.1111111111111111,
              "#46039f"
             ],
             [
              0.2222222222222222,
              "#7201a8"
             ],
             [
              0.3333333333333333,
              "#9c179e"
             ],
             [
              0.4444444444444444,
              "#bd3786"
             ],
             [
              0.5555555555555556,
              "#d8576b"
             ],
             [
              0.6666666666666666,
              "#ed7953"
             ],
             [
              0.7777777777777778,
              "#fb9f3a"
             ],
             [
              0.8888888888888888,
              "#fdca26"
             ],
             [
              1,
              "#f0f921"
             ]
            ],
            "type": "contour"
           }
          ],
          "contourcarpet": [
           {
            "colorbar": {
             "outlinewidth": 0,
             "ticks": ""
            },
            "type": "contourcarpet"
           }
          ],
          "heatmap": [
           {
            "colorbar": {
             "outlinewidth": 0,
             "ticks": ""
            },
            "colorscale": [
             [
              0,
              "#0d0887"
             ],
             [
              0.1111111111111111,
              "#46039f"
             ],
             [
              0.2222222222222222,
              "#7201a8"
             ],
             [
              0.3333333333333333,
              "#9c179e"
             ],
             [
              0.4444444444444444,
              "#bd3786"
             ],
             [
              0.5555555555555556,
              "#d8576b"
             ],
             [
              0.6666666666666666,
              "#ed7953"
             ],
             [
              0.7777777777777778,
              "#fb9f3a"
             ],
             [
              0.8888888888888888,
              "#fdca26"
             ],
             [
              1,
              "#f0f921"
             ]
            ],
            "type": "heatmap"
           }
          ],
          "heatmapgl": [
           {
            "colorbar": {
             "outlinewidth": 0,
             "ticks": ""
            },
            "colorscale": [
             [
              0,
              "#0d0887"
             ],
             [
              0.1111111111111111,
              "#46039f"
             ],
             [
              0.2222222222222222,
              "#7201a8"
             ],
             [
              0.3333333333333333,
              "#9c179e"
             ],
             [
              0.4444444444444444,
              "#bd3786"
             ],
             [
              0.5555555555555556,
              "#d8576b"
             ],
             [
              0.6666666666666666,
              "#ed7953"
             ],
             [
              0.7777777777777778,
              "#fb9f3a"
             ],
             [
              0.8888888888888888,
              "#fdca26"
             ],
             [
              1,
              "#f0f921"
             ]
            ],
            "type": "heatmapgl"
           }
          ],
          "histogram": [
           {
            "marker": {
             "pattern": {
              "fillmode": "overlay",
              "size": 10,
              "solidity": 0.2
             }
            },
            "type": "histogram"
           }
          ],
          "histogram2d": [
           {
            "colorbar": {
             "outlinewidth": 0,
             "ticks": ""
            },
            "colorscale": [
             [
              0,
              "#0d0887"
             ],
             [
              0.1111111111111111,
              "#46039f"
             ],
             [
              0.2222222222222222,
              "#7201a8"
             ],
             [
              0.3333333333333333,
              "#9c179e"
             ],
             [
              0.4444444444444444,
              "#bd3786"
             ],
             [
              0.5555555555555556,
              "#d8576b"
             ],
             [
              0.6666666666666666,
              "#ed7953"
             ],
             [
              0.7777777777777778,
              "#fb9f3a"
             ],
             [
              0.8888888888888888,
              "#fdca26"
             ],
             [
              1,
              "#f0f921"
             ]
            ],
            "type": "histogram2d"
           }
          ],
          "histogram2dcontour": [
           {
            "colorbar": {
             "outlinewidth": 0,
             "ticks": ""
            },
            "colorscale": [
             [
              0,
              "#0d0887"
             ],
             [
              0.1111111111111111,
              "#46039f"
             ],
             [
              0.2222222222222222,
              "#7201a8"
             ],
             [
              0.3333333333333333,
              "#9c179e"
             ],
             [
              0.4444444444444444,
              "#bd3786"
             ],
             [
              0.5555555555555556,
              "#d8576b"
             ],
             [
              0.6666666666666666,
              "#ed7953"
             ],
             [
              0.7777777777777778,
              "#fb9f3a"
             ],
             [
              0.8888888888888888,
              "#fdca26"
             ],
             [
              1,
              "#f0f921"
             ]
            ],
            "type": "histogram2dcontour"
           }
          ],
          "mesh3d": [
           {
            "colorbar": {
             "outlinewidth": 0,
             "ticks": ""
            },
            "type": "mesh3d"
           }
          ],
          "parcoords": [
           {
            "line": {
             "colorbar": {
              "outlinewidth": 0,
              "ticks": ""
             }
            },
            "type": "parcoords"
           }
          ],
          "pie": [
           {
            "automargin": true,
            "type": "pie"
           }
          ],
          "scatter": [
           {
            "fillpattern": {
             "fillmode": "overlay",
             "size": 10,
             "solidity": 0.2
            },
            "type": "scatter"
           }
          ],
          "scatter3d": [
           {
            "line": {
             "colorbar": {
              "outlinewidth": 0,
              "ticks": ""
             }
            },
            "marker": {
             "colorbar": {
              "outlinewidth": 0,
              "ticks": ""
             }
            },
            "type": "scatter3d"
           }
          ],
          "scattercarpet": [
           {
            "marker": {
             "colorbar": {
              "outlinewidth": 0,
              "ticks": ""
             }
            },
            "type": "scattercarpet"
           }
          ],
          "scattergeo": [
           {
            "marker": {
             "colorbar": {
              "outlinewidth": 0,
              "ticks": ""
             }
            },
            "type": "scattergeo"
           }
          ],
          "scattergl": [
           {
            "marker": {
             "colorbar": {
              "outlinewidth": 0,
              "ticks": ""
             }
            },
            "type": "scattergl"
           }
          ],
          "scattermapbox": [
           {
            "marker": {
             "colorbar": {
              "outlinewidth": 0,
              "ticks": ""
             }
            },
            "type": "scattermapbox"
           }
          ],
          "scatterpolar": [
           {
            "marker": {
             "colorbar": {
              "outlinewidth": 0,
              "ticks": ""
             }
            },
            "type": "scatterpolar"
           }
          ],
          "scatterpolargl": [
           {
            "marker": {
             "colorbar": {
              "outlinewidth": 0,
              "ticks": ""
             }
            },
            "type": "scatterpolargl"
           }
          ],
          "scatterternary": [
           {
            "marker": {
             "colorbar": {
              "outlinewidth": 0,
              "ticks": ""
             }
            },
            "type": "scatterternary"
           }
          ],
          "surface": [
           {
            "colorbar": {
             "outlinewidth": 0,
             "ticks": ""
            },
            "colorscale": [
             [
              0,
              "#0d0887"
             ],
             [
              0.1111111111111111,
              "#46039f"
             ],
             [
              0.2222222222222222,
              "#7201a8"
             ],
             [
              0.3333333333333333,
              "#9c179e"
             ],
             [
              0.4444444444444444,
              "#bd3786"
             ],
             [
              0.5555555555555556,
              "#d8576b"
             ],
             [
              0.6666666666666666,
              "#ed7953"
             ],
             [
              0.7777777777777778,
              "#fb9f3a"
             ],
             [
              0.8888888888888888,
              "#fdca26"
             ],
             [
              1,
              "#f0f921"
             ]
            ],
            "type": "surface"
           }
          ],
          "table": [
           {
            "cells": {
             "fill": {
              "color": "#EBF0F8"
             },
             "line": {
              "color": "white"
             }
            },
            "header": {
             "fill": {
              "color": "#C8D4E3"
             },
             "line": {
              "color": "white"
             }
            },
            "type": "table"
           }
          ]
         },
         "layout": {
          "annotationdefaults": {
           "arrowcolor": "#2a3f5f",
           "arrowhead": 0,
           "arrowwidth": 1
          },
          "autotypenumbers": "strict",
          "coloraxis": {
           "colorbar": {
            "outlinewidth": 0,
            "ticks": ""
           }
          },
          "colorscale": {
           "diverging": [
            [
             0,
             "#8e0152"
            ],
            [
             0.1,
             "#c51b7d"
            ],
            [
             0.2,
             "#de77ae"
            ],
            [
             0.3,
             "#f1b6da"
            ],
            [
             0.4,
             "#fde0ef"
            ],
            [
             0.5,
             "#f7f7f7"
            ],
            [
             0.6,
             "#e6f5d0"
            ],
            [
             0.7,
             "#b8e186"
            ],
            [
             0.8,
             "#7fbc41"
            ],
            [
             0.9,
             "#4d9221"
            ],
            [
             1,
             "#276419"
            ]
           ],
           "sequential": [
            [
             0,
             "#0d0887"
            ],
            [
             0.1111111111111111,
             "#46039f"
            ],
            [
             0.2222222222222222,
             "#7201a8"
            ],
            [
             0.3333333333333333,
             "#9c179e"
            ],
            [
             0.4444444444444444,
             "#bd3786"
            ],
            [
             0.5555555555555556,
             "#d8576b"
            ],
            [
             0.6666666666666666,
             "#ed7953"
            ],
            [
             0.7777777777777778,
             "#fb9f3a"
            ],
            [
             0.8888888888888888,
             "#fdca26"
            ],
            [
             1,
             "#f0f921"
            ]
           ],
           "sequentialminus": [
            [
             0,
             "#0d0887"
            ],
            [
             0.1111111111111111,
             "#46039f"
            ],
            [
             0.2222222222222222,
             "#7201a8"
            ],
            [
             0.3333333333333333,
             "#9c179e"
            ],
            [
             0.4444444444444444,
             "#bd3786"
            ],
            [
             0.5555555555555556,
             "#d8576b"
            ],
            [
             0.6666666666666666,
             "#ed7953"
            ],
            [
             0.7777777777777778,
             "#fb9f3a"
            ],
            [
             0.8888888888888888,
             "#fdca26"
            ],
            [
             1,
             "#f0f921"
            ]
           ]
          },
          "colorway": [
           "#636efa",
           "#EF553B",
           "#00cc96",
           "#ab63fa",
           "#FFA15A",
           "#19d3f3",
           "#FF6692",
           "#B6E880",
           "#FF97FF",
           "#FECB52"
          ],
          "font": {
           "color": "#2a3f5f"
          },
          "geo": {
           "bgcolor": "white",
           "lakecolor": "white",
           "landcolor": "#E5ECF6",
           "showlakes": true,
           "showland": true,
           "subunitcolor": "white"
          },
          "hoverlabel": {
           "align": "left"
          },
          "hovermode": "closest",
          "mapbox": {
           "style": "light"
          },
          "paper_bgcolor": "white",
          "plot_bgcolor": "#E5ECF6",
          "polar": {
           "angularaxis": {
            "gridcolor": "white",
            "linecolor": "white",
            "ticks": ""
           },
           "bgcolor": "#E5ECF6",
           "radialaxis": {
            "gridcolor": "white",
            "linecolor": "white",
            "ticks": ""
           }
          },
          "scene": {
           "xaxis": {
            "backgroundcolor": "#E5ECF6",
            "gridcolor": "white",
            "gridwidth": 2,
            "linecolor": "white",
            "showbackground": true,
            "ticks": "",
            "zerolinecolor": "white"
           },
           "yaxis": {
            "backgroundcolor": "#E5ECF6",
            "gridcolor": "white",
            "gridwidth": 2,
            "linecolor": "white",
            "showbackground": true,
            "ticks": "",
            "zerolinecolor": "white"
           },
           "zaxis": {
            "backgroundcolor": "#E5ECF6",
            "gridcolor": "white",
            "gridwidth": 2,
            "linecolor": "white",
            "showbackground": true,
            "ticks": "",
            "zerolinecolor": "white"
           }
          },
          "shapedefaults": {
           "line": {
            "color": "#2a3f5f"
           }
          },
          "ternary": {
           "aaxis": {
            "gridcolor": "white",
            "linecolor": "white",
            "ticks": ""
           },
           "baxis": {
            "gridcolor": "white",
            "linecolor": "white",
            "ticks": ""
           },
           "bgcolor": "#E5ECF6",
           "caxis": {
            "gridcolor": "white",
            "linecolor": "white",
            "ticks": ""
           }
          },
          "title": {
           "x": 0.05
          },
          "xaxis": {
           "automargin": true,
           "gridcolor": "white",
           "linecolor": "white",
           "ticks": "",
           "title": {
            "standoff": 15
           },
           "zerolinecolor": "white",
           "zerolinewidth": 2
          },
          "yaxis": {
           "automargin": true,
           "gridcolor": "white",
           "linecolor": "white",
           "ticks": "",
           "title": {
            "standoff": 15
           },
           "zerolinecolor": "white",
           "zerolinewidth": 2
          }
         }
        },
        "title": {
         "text": "_Grand Total"
        },
        "xaxis": {
         "title": {
          "text": "Time"
         }
        },
        "yaxis": {
         "title": {
          "text": "Value"
         }
        }
       }
      }
     },
     "metadata": {},
     "output_type": "display_data"
    },
    {
     "data": {
      "application/vnd.plotly.v1+json": {
       "config": {
        "plotlyServerURL": "https://plot.ly"
       },
       "data": [
        {
         "marker": {
          "color": "black"
         },
         "mode": "markers",
         "name": "Real",
         "type": "scatter",
         "x": [
          "2016-01-01T00:00:00.000000000",
          "2016-02-01T00:00:00.000000000",
          "2016-03-01T00:00:00.000000000",
          "2016-04-01T00:00:00.000000000",
          "2016-05-01T00:00:00.000000000",
          "2016-06-01T00:00:00.000000000",
          "2016-07-01T00:00:00.000000000",
          "2016-08-01T00:00:00.000000000",
          "2016-09-01T00:00:00.000000000",
          "2016-10-01T00:00:00.000000000",
          "2016-11-01T00:00:00.000000000",
          "2016-12-01T00:00:00.000000000",
          "2017-01-01T00:00:00.000000000",
          "2017-02-01T00:00:00.000000000",
          "2017-03-01T00:00:00.000000000",
          "2017-04-01T00:00:00.000000000",
          "2017-05-01T00:00:00.000000000",
          "2017-06-01T00:00:00.000000000",
          "2017-07-01T00:00:00.000000000",
          "2017-08-01T00:00:00.000000000",
          "2017-09-01T00:00:00.000000000",
          "2017-10-01T00:00:00.000000000",
          "2017-11-01T00:00:00.000000000",
          "2017-12-01T00:00:00.000000000",
          "2018-01-01T00:00:00.000000000",
          "2018-02-01T00:00:00.000000000",
          "2018-03-01T00:00:00.000000000",
          "2018-04-01T00:00:00.000000000",
          "2018-05-01T00:00:00.000000000",
          "2018-06-01T00:00:00.000000000",
          "2018-07-01T00:00:00.000000000",
          "2018-08-01T00:00:00.000000000",
          "2018-09-01T00:00:00.000000000",
          "2018-10-01T00:00:00.000000000",
          "2018-11-01T00:00:00.000000000",
          "2018-12-01T00:00:00.000000000",
          "2019-01-01T00:00:00.000000000",
          "2019-02-01T00:00:00.000000000",
          "2019-03-01T00:00:00.000000000",
          "2019-04-01T00:00:00.000000000",
          "2019-05-01T00:00:00.000000000",
          "2019-06-01T00:00:00.000000000",
          "2019-07-01T00:00:00.000000000",
          "2019-08-01T00:00:00.000000000",
          "2019-09-01T00:00:00.000000000",
          "2019-10-01T00:00:00.000000000",
          "2019-11-01T00:00:00.000000000",
          "2019-12-01T00:00:00.000000000",
          "2020-01-01T00:00:00.000000000",
          "2020-02-01T00:00:00.000000000",
          "2020-03-01T00:00:00.000000000",
          "2020-04-01T00:00:00.000000000",
          "2020-05-01T00:00:00.000000000",
          "2020-06-01T00:00:00.000000000",
          "2020-07-01T00:00:00.000000000",
          "2020-08-01T00:00:00.000000000",
          "2020-09-01T00:00:00.000000000",
          "2020-10-01T00:00:00.000000000",
          "2020-11-01T00:00:00.000000000",
          "2020-12-01T00:00:00.000000000",
          "2021-01-01T00:00:00.000000000",
          "2021-02-01T00:00:00.000000000",
          "2021-03-01T00:00:00.000000000",
          "2021-04-01T00:00:00.000000000",
          "2021-05-01T00:00:00.000000000",
          "2021-06-01T00:00:00.000000000",
          "2021-07-01T00:00:00.000000000",
          "2021-08-01T00:00:00.000000000",
          "2021-09-01T00:00:00.000000000",
          "2021-10-01T00:00:00.000000000",
          "2021-11-01T00:00:00.000000000",
          "2021-12-01T00:00:00.000000000",
          "2022-01-01T00:00:00.000000000",
          "2022-02-01T00:00:00.000000000",
          "2022-03-01T00:00:00.000000000",
          "2022-04-01T00:00:00.000000000",
          "2022-05-01T00:00:00.000000000",
          "2022-06-01T00:00:00.000000000",
          "2022-07-01T00:00:00.000000000",
          "2022-08-01T00:00:00.000000000",
          "2022-09-01T00:00:00.000000000",
          "2022-10-01T00:00:00.000000000",
          "2022-11-01T00:00:00.000000000",
          "2022-12-01T00:00:00.000000000",
          "2023-01-01T00:00:00.000000000",
          "2023-02-01T00:00:00.000000000",
          "2023-03-01T00:00:00.000000000",
          "2023-04-01T00:00:00.000000000",
          "2023-05-01T00:00:00.000000000",
          "2023-06-01T00:00:00.000000000",
          "2023-07-01T00:00:00.000000000",
          "2023-08-01T00:00:00.000000000",
          "2023-09-01T00:00:00.000000000",
          "2023-10-01T00:00:00.000000000",
          "2023-11-01T00:00:00.000000000",
          "2023-12-01T00:00:00.000000000",
          "2024-01-01T00:00:00.000000000",
          "2024-02-01T00:00:00.000000000",
          "2024-03-01T00:00:00.000000000",
          "2024-04-01T00:00:00.000000000",
          "2024-05-01T00:00:00.000000000",
          "2024-06-01T00:00:00.000000000",
          "2024-07-01T00:00:00.000000000",
          "2024-08-01T00:00:00.000000000",
          "2024-09-01T00:00:00.000000000",
          "2024-10-01T00:00:00.000000000",
          "2024-11-01T00:00:00.000000000",
          "2024-12-01T00:00:00.000000000"
         ],
         "y": [
          74093,
          71969,
          107801,
          88941,
          120012,
          122526,
          115321,
          147190,
          120650,
          122986,
          91588,
          86493,
          95891,
          78437,
          123378,
          107450,
          124783,
          116262,
          114118,
          122593,
          116314,
          116265,
          121010,
          110927,
          122947,
          97921,
          130705,
          140568,
          140530,
          129175,
          135373,
          145679,
          123428,
          161964,
          135169,
          114358,
          134804,
          131051,
          129019,
          157196,
          164431,
          141871,
          159215,
          153825,
          119253,
          131196,
          106229,
          93659,
          119860,
          107686,
          114828,
          86377,
          98407,
          115381,
          127570,
          135439,
          147355,
          155600,
          169745,
          164330,
          166373,
          172035,
          199666,
          114545,
          48459,
          197574,
          206553,
          218736,
          207100,
          221887,
          205926,
          212460,
          261339,
          191748,
          229566,
          199671,
          240772,
          241851,
          231227,
          244566,
          215775,
          224278,
          237029,
          247284,
          228896,
          180244,
          254708,
          228121,
          288167,
          242851,
          234264,
          268477,
          207192,
          255622,
          239556,
          232490,
          235276,
          214956,
          249689,
          287853,
          188822,
          238007,
          265185,
          265231,
          253097,
          292153,
          235030,
          220687
         ]
        },
        {
         "line": {
          "color": "black",
          "dash": "dot"
         },
         "mode": "lines",
         "name": "Baseline",
         "type": "scatter",
         "x": [
          "2016-01-01T00:00:00.000000000",
          "2016-02-01T00:00:00.000000000",
          "2016-03-01T00:00:00.000000000",
          "2016-04-01T00:00:00.000000000",
          "2016-05-01T00:00:00.000000000",
          "2016-06-01T00:00:00.000000000",
          "2016-07-01T00:00:00.000000000",
          "2016-08-01T00:00:00.000000000",
          "2016-09-01T00:00:00.000000000",
          "2016-10-01T00:00:00.000000000",
          "2016-11-01T00:00:00.000000000",
          "2016-12-01T00:00:00.000000000",
          "2017-01-01T00:00:00.000000000",
          "2017-02-01T00:00:00.000000000",
          "2017-03-01T00:00:00.000000000",
          "2017-04-01T00:00:00.000000000",
          "2017-05-01T00:00:00.000000000",
          "2017-06-01T00:00:00.000000000",
          "2017-07-01T00:00:00.000000000",
          "2017-08-01T00:00:00.000000000",
          "2017-09-01T00:00:00.000000000",
          "2017-10-01T00:00:00.000000000",
          "2017-11-01T00:00:00.000000000",
          "2017-12-01T00:00:00.000000000",
          "2018-01-01T00:00:00.000000000",
          "2018-02-01T00:00:00.000000000",
          "2018-03-01T00:00:00.000000000",
          "2018-04-01T00:00:00.000000000",
          "2018-05-01T00:00:00.000000000",
          "2018-06-01T00:00:00.000000000",
          "2018-07-01T00:00:00.000000000",
          "2018-08-01T00:00:00.000000000",
          "2018-09-01T00:00:00.000000000",
          "2018-10-01T00:00:00.000000000",
          "2018-11-01T00:00:00.000000000",
          "2018-12-01T00:00:00.000000000",
          "2019-01-01T00:00:00.000000000",
          "2019-02-01T00:00:00.000000000",
          "2019-03-01T00:00:00.000000000",
          "2019-04-01T00:00:00.000000000",
          "2019-05-01T00:00:00.000000000",
          "2019-06-01T00:00:00.000000000",
          "2019-07-01T00:00:00.000000000",
          "2019-08-01T00:00:00.000000000",
          "2019-09-01T00:00:00.000000000",
          "2019-10-01T00:00:00.000000000",
          "2019-11-01T00:00:00.000000000",
          "2019-12-01T00:00:00.000000000",
          "2020-01-01T00:00:00.000000000",
          "2020-02-01T00:00:00.000000000",
          "2020-03-01T00:00:00.000000000",
          "2020-04-01T00:00:00.000000000",
          "2020-05-01T00:00:00.000000000",
          "2020-06-01T00:00:00.000000000",
          "2020-07-01T00:00:00.000000000",
          "2020-08-01T00:00:00.000000000",
          "2020-09-01T00:00:00.000000000",
          "2020-10-01T00:00:00.000000000",
          "2020-11-01T00:00:00.000000000",
          "2020-12-01T00:00:00.000000000",
          "2021-01-01T00:00:00.000000000",
          "2021-02-01T00:00:00.000000000",
          "2021-03-01T00:00:00.000000000",
          "2021-04-01T00:00:00.000000000",
          "2021-05-01T00:00:00.000000000",
          "2021-06-01T00:00:00.000000000",
          "2021-07-01T00:00:00.000000000",
          "2021-08-01T00:00:00.000000000",
          "2021-09-01T00:00:00.000000000",
          "2021-10-01T00:00:00.000000000",
          "2021-11-01T00:00:00.000000000",
          "2021-12-01T00:00:00.000000000",
          "2022-01-01T00:00:00.000000000",
          "2022-02-01T00:00:00.000000000",
          "2022-03-01T00:00:00.000000000",
          "2022-04-01T00:00:00.000000000",
          "2022-05-01T00:00:00.000000000",
          "2022-06-01T00:00:00.000000000",
          "2022-07-01T00:00:00.000000000",
          "2022-08-01T00:00:00.000000000",
          "2022-09-01T00:00:00.000000000",
          "2022-10-01T00:00:00.000000000",
          "2022-11-01T00:00:00.000000000",
          "2022-12-01T00:00:00.000000000",
          "2023-01-01T00:00:00.000000000",
          "2023-02-01T00:00:00.000000000",
          "2023-03-01T00:00:00.000000000",
          "2023-04-01T00:00:00.000000000",
          "2023-05-01T00:00:00.000000000",
          "2023-06-01T00:00:00.000000000",
          "2023-07-01T00:00:00.000000000",
          "2023-08-01T00:00:00.000000000",
          "2023-09-01T00:00:00.000000000",
          "2023-10-01T00:00:00.000000000",
          "2023-11-01T00:00:00.000000000",
          "2023-12-01T00:00:00.000000000",
          "2024-01-01T00:00:00.000000000",
          "2024-02-01T00:00:00.000000000",
          "2024-03-01T00:00:00.000000000",
          "2024-04-01T00:00:00.000000000",
          "2024-05-01T00:00:00.000000000",
          "2024-06-01T00:00:00.000000000",
          "2024-07-01T00:00:00.000000000",
          "2024-08-01T00:00:00.000000000",
          "2024-09-01T00:00:00.000000000",
          "2024-10-01T00:00:00.000000000",
          "2024-11-01T00:00:00.000000000",
          "2024-12-01T00:00:00.000000000"
         ],
         "y": [
          100602.45536723235,
          101493.77051875499,
          102385.08567027764,
          103276.40082180029,
          104167.71597332293,
          105059.03112484557,
          105950.34627636822,
          106841.66142789087,
          107732.97657941352,
          108624.29173093615,
          109515.6068824588,
          110406.92203398145,
          111298.23718550408,
          112189.55233702673,
          113080.86748854938,
          113972.18264007202,
          114863.49779159467,
          115754.81294311731,
          116646.12809463996,
          117537.44324616261,
          118428.75839768525,
          119320.0735492079,
          120211.38870073055,
          121102.70385225318,
          121994.01900377583,
          122885.33415529848,
          123776.64930682111,
          124667.96445834376,
          125559.27960986641,
          126450.59476138905,
          127341.9099129117,
          128233.22506443434,
          129124.540215957,
          130015.85536747964,
          130907.17051900228,
          131798.48567052494,
          132689.80082204757,
          133581.1159735702,
          134472.43112509284,
          135363.7462766155,
          136255.06142813814,
          137146.3765796608,
          138037.69173118344,
          138929.00688270607,
          139820.32203422874,
          140711.63718575137,
          141602.95233727404,
          142494.26748879667,
          143385.5826403193,
          144276.89779184194,
          145168.2129433646,
          146059.52809488724,
          146950.8432464099,
          147842.15839793254,
          148733.47354945517,
          149624.7887009778,
          150516.10385250047,
          151407.4190040231,
          152298.73415554577,
          153190.0493070684,
          154081.36445859104,
          154972.6796101137,
          155863.99476163634,
          156755.309913159,
          157646.62506468163,
          158537.94021620427,
          159429.2553677269,
          160320.57051924957,
          161211.8856707722,
          162103.20082229486,
          162994.5159738175,
          163885.83112534013,
          164777.1462768628,
          165668.46142838543,
          166559.7765799081,
          167451.09173143073,
          168342.40688295336,
          169233.722034476,
          170125.03718599866,
          171016.35233752133,
          171907.66748904396,
          172798.9826405666,
          173690.29779208923,
          174581.61294361186,
          175472.92809513453,
          176364.2432466572,
          177255.55839817983,
          178146.87354970246,
          179038.1887012251,
          179929.50385274776,
          180820.8190042704,
          181712.13415579306,
          182603.4493073157,
          183494.76445883833,
          184386.07961036096,
          185277.39476188362,
          186168.7099134063,
          187060.02506492892,
          187951.34021645156,
          188842.6553679742,
          189733.97051949686,
          190625.2856710195,
          191516.60082254215,
          192407.9159740648,
          193299.23112558742,
          194190.54627711006,
          195081.86142863272,
          195973.17658015538
         ]
        },
        {
         "line": {
          "color": "purple"
         },
         "mode": "lines",
         "name": "Full model",
         "type": "scatter",
         "x": [
          "2016-01-01T00:00:00.000000000",
          "2016-02-01T00:00:00.000000000",
          "2016-03-01T00:00:00.000000000",
          "2016-04-01T00:00:00.000000000",
          "2016-05-01T00:00:00.000000000",
          "2016-06-01T00:00:00.000000000",
          "2016-07-01T00:00:00.000000000",
          "2016-08-01T00:00:00.000000000",
          "2016-09-01T00:00:00.000000000",
          "2016-10-01T00:00:00.000000000",
          "2016-11-01T00:00:00.000000000",
          "2016-12-01T00:00:00.000000000",
          "2017-01-01T00:00:00.000000000",
          "2017-02-01T00:00:00.000000000",
          "2017-03-01T00:00:00.000000000",
          "2017-04-01T00:00:00.000000000",
          "2017-05-01T00:00:00.000000000",
          "2017-06-01T00:00:00.000000000",
          "2017-07-01T00:00:00.000000000",
          "2017-08-01T00:00:00.000000000",
          "2017-09-01T00:00:00.000000000",
          "2017-10-01T00:00:00.000000000",
          "2017-11-01T00:00:00.000000000",
          "2017-12-01T00:00:00.000000000",
          "2018-01-01T00:00:00.000000000",
          "2018-02-01T00:00:00.000000000",
          "2018-03-01T00:00:00.000000000",
          "2018-04-01T00:00:00.000000000",
          "2018-05-01T00:00:00.000000000",
          "2018-06-01T00:00:00.000000000",
          "2018-07-01T00:00:00.000000000",
          "2018-08-01T00:00:00.000000000",
          "2018-09-01T00:00:00.000000000",
          "2018-10-01T00:00:00.000000000",
          "2018-11-01T00:00:00.000000000",
          "2018-12-01T00:00:00.000000000",
          "2019-01-01T00:00:00.000000000",
          "2019-02-01T00:00:00.000000000",
          "2019-03-01T00:00:00.000000000",
          "2019-04-01T00:00:00.000000000",
          "2019-05-01T00:00:00.000000000",
          "2019-06-01T00:00:00.000000000",
          "2019-07-01T00:00:00.000000000",
          "2019-08-01T00:00:00.000000000",
          "2019-09-01T00:00:00.000000000",
          "2019-10-01T00:00:00.000000000",
          "2019-11-01T00:00:00.000000000",
          "2019-12-01T00:00:00.000000000",
          "2020-01-01T00:00:00.000000000",
          "2020-02-01T00:00:00.000000000",
          "2020-03-01T00:00:00.000000000",
          "2020-04-01T00:00:00.000000000",
          "2020-05-01T00:00:00.000000000",
          "2020-06-01T00:00:00.000000000",
          "2020-07-01T00:00:00.000000000",
          "2020-08-01T00:00:00.000000000",
          "2020-09-01T00:00:00.000000000",
          "2020-10-01T00:00:00.000000000",
          "2020-11-01T00:00:00.000000000",
          "2020-12-01T00:00:00.000000000",
          "2021-01-01T00:00:00.000000000",
          "2021-02-01T00:00:00.000000000",
          "2021-03-01T00:00:00.000000000",
          "2021-04-01T00:00:00.000000000",
          "2021-05-01T00:00:00.000000000",
          "2021-06-01T00:00:00.000000000",
          "2021-07-01T00:00:00.000000000",
          "2021-08-01T00:00:00.000000000",
          "2021-09-01T00:00:00.000000000",
          "2021-10-01T00:00:00.000000000",
          "2021-11-01T00:00:00.000000000",
          "2021-12-01T00:00:00.000000000",
          "2022-01-01T00:00:00.000000000",
          "2022-02-01T00:00:00.000000000",
          "2022-03-01T00:00:00.000000000",
          "2022-04-01T00:00:00.000000000",
          "2022-05-01T00:00:00.000000000",
          "2022-06-01T00:00:00.000000000",
          "2022-07-01T00:00:00.000000000",
          "2022-08-01T00:00:00.000000000",
          "2022-09-01T00:00:00.000000000",
          "2022-10-01T00:00:00.000000000",
          "2022-11-01T00:00:00.000000000",
          "2022-12-01T00:00:00.000000000",
          "2023-01-01T00:00:00.000000000",
          "2023-02-01T00:00:00.000000000",
          "2023-03-01T00:00:00.000000000",
          "2023-04-01T00:00:00.000000000",
          "2023-05-01T00:00:00.000000000",
          "2023-06-01T00:00:00.000000000",
          "2023-07-01T00:00:00.000000000",
          "2023-08-01T00:00:00.000000000",
          "2023-09-01T00:00:00.000000000",
          "2023-10-01T00:00:00.000000000",
          "2023-11-01T00:00:00.000000000",
          "2023-12-01T00:00:00.000000000",
          "2024-01-01T00:00:00.000000000",
          "2024-02-01T00:00:00.000000000",
          "2024-03-01T00:00:00.000000000",
          "2024-04-01T00:00:00.000000000",
          "2024-05-01T00:00:00.000000000",
          "2024-06-01T00:00:00.000000000",
          "2024-07-01T00:00:00.000000000",
          "2024-08-01T00:00:00.000000000",
          "2024-09-01T00:00:00.000000000",
          "2024-10-01T00:00:00.000000000",
          "2024-11-01T00:00:00.000000000",
          "2024-12-01T00:00:00.000000000"
         ],
         "y": [
          100602.45536723235,
          101493.77051875499,
          102385.08567027764,
          103276.40082180029,
          104167.71597332293,
          105059.03112484557,
          105950.34627636822,
          106841.66142789087,
          107732.97657941352,
          108624.29173093615,
          109515.6068824588,
          110406.92203398145,
          111298.23718550408,
          112189.55233702673,
          113080.86748854938,
          113972.18264007202,
          114863.49779159467,
          115754.81294311731,
          116646.12809463996,
          117537.44324616261,
          118428.75839768525,
          119320.0735492079,
          120211.38870073055,
          121102.70385225318,
          121994.01900377583,
          122885.33415529848,
          123776.64930682111,
          124667.96445834376,
          125559.27960986641,
          126450.59476138905,
          127341.9099129117,
          128233.22506443434,
          129124.540215957,
          130015.85536747964,
          130907.17051900228,
          131798.48567052494,
          132689.80082204757,
          133581.1159735702,
          134472.43112509284,
          135363.7462766155,
          136255.06142813814,
          137146.3765796608,
          138037.69173118344,
          138929.00688270607,
          139820.32203422874,
          140711.63718575137,
          141602.95233727404,
          142494.26748879667,
          106557.5826403193,
          107448.89779184194,
          108340.2129433646,
          109231.52809488724,
          110122.8432464099,
          111014.15839793254,
          111905.47354945517,
          177817.7887009778,
          179548.10385250047,
          181278.4190040231,
          183008.73415554577,
          184738.0493070684,
          186468.36445859104,
          188198.6796101137,
          189928.99476163634,
          74039.309913159,
          74930.62506468163,
          195118.94021620427,
          196849.2553677269,
          198579.57051924957,
          200309.8856707722,
          202040.20082229486,
          203769.5159738175,
          205499.83112534013,
          207230.1462768628,
          208960.46142838543,
          210690.7765799081,
          212420.09173143073,
          214150.40688295336,
          215880.722034476,
          217611.03718599866,
          219341.35233752133,
          221071.66748904396,
          222800.9826405666,
          224531.29779208923,
          226261.61294361186,
          227991.92809513453,
          229722.2432466572,
          231451.55839817983,
          233181.87354970246,
          234912.1887012251,
          236642.50385274776,
          238372.8190042704,
          240102.13415579306,
          241832.4493073157,
          243562.76445883833,
          245293.07961036096,
          247023.39476188362,
          248753.7099134063,
          250483.02506492892,
          252213.34021645156,
          253943.6553679742,
          255673.97051949686,
          257404.2856710195,
          259133.60082254215,
          260863.9159740648,
          262594.2311255874,
          264324.54627711006,
          266054.86142863275,
          267785.1765801554
         ]
        }
       ],
       "layout": {
        "legend": {
         "title": {
          "text": "Legend"
         }
        },
        "template": {
         "data": {
          "bar": [
           {
            "error_x": {
             "color": "#2a3f5f"
            },
            "error_y": {
             "color": "#2a3f5f"
            },
            "marker": {
             "line": {
              "color": "#E5ECF6",
              "width": 0.5
             },
             "pattern": {
              "fillmode": "overlay",
              "size": 10,
              "solidity": 0.2
             }
            },
            "type": "bar"
           }
          ],
          "barpolar": [
           {
            "marker": {
             "line": {
              "color": "#E5ECF6",
              "width": 0.5
             },
             "pattern": {
              "fillmode": "overlay",
              "size": 10,
              "solidity": 0.2
             }
            },
            "type": "barpolar"
           }
          ],
          "carpet": [
           {
            "aaxis": {
             "endlinecolor": "#2a3f5f",
             "gridcolor": "white",
             "linecolor": "white",
             "minorgridcolor": "white",
             "startlinecolor": "#2a3f5f"
            },
            "baxis": {
             "endlinecolor": "#2a3f5f",
             "gridcolor": "white",
             "linecolor": "white",
             "minorgridcolor": "white",
             "startlinecolor": "#2a3f5f"
            },
            "type": "carpet"
           }
          ],
          "choropleth": [
           {
            "colorbar": {
             "outlinewidth": 0,
             "ticks": ""
            },
            "type": "choropleth"
           }
          ],
          "contour": [
           {
            "colorbar": {
             "outlinewidth": 0,
             "ticks": ""
            },
            "colorscale": [
             [
              0,
              "#0d0887"
             ],
             [
              0.1111111111111111,
              "#46039f"
             ],
             [
              0.2222222222222222,
              "#7201a8"
             ],
             [
              0.3333333333333333,
              "#9c179e"
             ],
             [
              0.4444444444444444,
              "#bd3786"
             ],
             [
              0.5555555555555556,
              "#d8576b"
             ],
             [
              0.6666666666666666,
              "#ed7953"
             ],
             [
              0.7777777777777778,
              "#fb9f3a"
             ],
             [
              0.8888888888888888,
              "#fdca26"
             ],
             [
              1,
              "#f0f921"
             ]
            ],
            "type": "contour"
           }
          ],
          "contourcarpet": [
           {
            "colorbar": {
             "outlinewidth": 0,
             "ticks": ""
            },
            "type": "contourcarpet"
           }
          ],
          "heatmap": [
           {
            "colorbar": {
             "outlinewidth": 0,
             "ticks": ""
            },
            "colorscale": [
             [
              0,
              "#0d0887"
             ],
             [
              0.1111111111111111,
              "#46039f"
             ],
             [
              0.2222222222222222,
              "#7201a8"
             ],
             [
              0.3333333333333333,
              "#9c179e"
             ],
             [
              0.4444444444444444,
              "#bd3786"
             ],
             [
              0.5555555555555556,
              "#d8576b"
             ],
             [
              0.6666666666666666,
              "#ed7953"
             ],
             [
              0.7777777777777778,
              "#fb9f3a"
             ],
             [
              0.8888888888888888,
              "#fdca26"
             ],
             [
              1,
              "#f0f921"
             ]
            ],
            "type": "heatmap"
           }
          ],
          "heatmapgl": [
           {
            "colorbar": {
             "outlinewidth": 0,
             "ticks": ""
            },
            "colorscale": [
             [
              0,
              "#0d0887"
             ],
             [
              0.1111111111111111,
              "#46039f"
             ],
             [
              0.2222222222222222,
              "#7201a8"
             ],
             [
              0.3333333333333333,
              "#9c179e"
             ],
             [
              0.4444444444444444,
              "#bd3786"
             ],
             [
              0.5555555555555556,
              "#d8576b"
             ],
             [
              0.6666666666666666,
              "#ed7953"
             ],
             [
              0.7777777777777778,
              "#fb9f3a"
             ],
             [
              0.8888888888888888,
              "#fdca26"
             ],
             [
              1,
              "#f0f921"
             ]
            ],
            "type": "heatmapgl"
           }
          ],
          "histogram": [
           {
            "marker": {
             "pattern": {
              "fillmode": "overlay",
              "size": 10,
              "solidity": 0.2
             }
            },
            "type": "histogram"
           }
          ],
          "histogram2d": [
           {
            "colorbar": {
             "outlinewidth": 0,
             "ticks": ""
            },
            "colorscale": [
             [
              0,
              "#0d0887"
             ],
             [
              0.1111111111111111,
              "#46039f"
             ],
             [
              0.2222222222222222,
              "#7201a8"
             ],
             [
              0.3333333333333333,
              "#9c179e"
             ],
             [
              0.4444444444444444,
              "#bd3786"
             ],
             [
              0.5555555555555556,
              "#d8576b"
             ],
             [
              0.6666666666666666,
              "#ed7953"
             ],
             [
              0.7777777777777778,
              "#fb9f3a"
             ],
             [
              0.8888888888888888,
              "#fdca26"
             ],
             [
              1,
              "#f0f921"
             ]
            ],
            "type": "histogram2d"
           }
          ],
          "histogram2dcontour": [
           {
            "colorbar": {
             "outlinewidth": 0,
             "ticks": ""
            },
            "colorscale": [
             [
              0,
              "#0d0887"
             ],
             [
              0.1111111111111111,
              "#46039f"
             ],
             [
              0.2222222222222222,
              "#7201a8"
             ],
             [
              0.3333333333333333,
              "#9c179e"
             ],
             [
              0.4444444444444444,
              "#bd3786"
             ],
             [
              0.5555555555555556,
              "#d8576b"
             ],
             [
              0.6666666666666666,
              "#ed7953"
             ],
             [
              0.7777777777777778,
              "#fb9f3a"
             ],
             [
              0.8888888888888888,
              "#fdca26"
             ],
             [
              1,
              "#f0f921"
             ]
            ],
            "type": "histogram2dcontour"
           }
          ],
          "mesh3d": [
           {
            "colorbar": {
             "outlinewidth": 0,
             "ticks": ""
            },
            "type": "mesh3d"
           }
          ],
          "parcoords": [
           {
            "line": {
             "colorbar": {
              "outlinewidth": 0,
              "ticks": ""
             }
            },
            "type": "parcoords"
           }
          ],
          "pie": [
           {
            "automargin": true,
            "type": "pie"
           }
          ],
          "scatter": [
           {
            "fillpattern": {
             "fillmode": "overlay",
             "size": 10,
             "solidity": 0.2
            },
            "type": "scatter"
           }
          ],
          "scatter3d": [
           {
            "line": {
             "colorbar": {
              "outlinewidth": 0,
              "ticks": ""
             }
            },
            "marker": {
             "colorbar": {
              "outlinewidth": 0,
              "ticks": ""
             }
            },
            "type": "scatter3d"
           }
          ],
          "scattercarpet": [
           {
            "marker": {
             "colorbar": {
              "outlinewidth": 0,
              "ticks": ""
             }
            },
            "type": "scattercarpet"
           }
          ],
          "scattergeo": [
           {
            "marker": {
             "colorbar": {
              "outlinewidth": 0,
              "ticks": ""
             }
            },
            "type": "scattergeo"
           }
          ],
          "scattergl": [
           {
            "marker": {
             "colorbar": {
              "outlinewidth": 0,
              "ticks": ""
             }
            },
            "type": "scattergl"
           }
          ],
          "scattermapbox": [
           {
            "marker": {
             "colorbar": {
              "outlinewidth": 0,
              "ticks": ""
             }
            },
            "type": "scattermapbox"
           }
          ],
          "scatterpolar": [
           {
            "marker": {
             "colorbar": {
              "outlinewidth": 0,
              "ticks": ""
             }
            },
            "type": "scatterpolar"
           }
          ],
          "scatterpolargl": [
           {
            "marker": {
             "colorbar": {
              "outlinewidth": 0,
              "ticks": ""
             }
            },
            "type": "scatterpolargl"
           }
          ],
          "scatterternary": [
           {
            "marker": {
             "colorbar": {
              "outlinewidth": 0,
              "ticks": ""
             }
            },
            "type": "scatterternary"
           }
          ],
          "surface": [
           {
            "colorbar": {
             "outlinewidth": 0,
             "ticks": ""
            },
            "colorscale": [
             [
              0,
              "#0d0887"
             ],
             [
              0.1111111111111111,
              "#46039f"
             ],
             [
              0.2222222222222222,
              "#7201a8"
             ],
             [
              0.3333333333333333,
              "#9c179e"
             ],
             [
              0.4444444444444444,
              "#bd3786"
             ],
             [
              0.5555555555555556,
              "#d8576b"
             ],
             [
              0.6666666666666666,
              "#ed7953"
             ],
             [
              0.7777777777777778,
              "#fb9f3a"
             ],
             [
              0.8888888888888888,
              "#fdca26"
             ],
             [
              1,
              "#f0f921"
             ]
            ],
            "type": "surface"
           }
          ],
          "table": [
           {
            "cells": {
             "fill": {
              "color": "#EBF0F8"
             },
             "line": {
              "color": "white"
             }
            },
            "header": {
             "fill": {
              "color": "#C8D4E3"
             },
             "line": {
              "color": "white"
             }
            },
            "type": "table"
           }
          ]
         },
         "layout": {
          "annotationdefaults": {
           "arrowcolor": "#2a3f5f",
           "arrowhead": 0,
           "arrowwidth": 1
          },
          "autotypenumbers": "strict",
          "coloraxis": {
           "colorbar": {
            "outlinewidth": 0,
            "ticks": ""
           }
          },
          "colorscale": {
           "diverging": [
            [
             0,
             "#8e0152"
            ],
            [
             0.1,
             "#c51b7d"
            ],
            [
             0.2,
             "#de77ae"
            ],
            [
             0.3,
             "#f1b6da"
            ],
            [
             0.4,
             "#fde0ef"
            ],
            [
             0.5,
             "#f7f7f7"
            ],
            [
             0.6,
             "#e6f5d0"
            ],
            [
             0.7,
             "#b8e186"
            ],
            [
             0.8,
             "#7fbc41"
            ],
            [
             0.9,
             "#4d9221"
            ],
            [
             1,
             "#276419"
            ]
           ],
           "sequential": [
            [
             0,
             "#0d0887"
            ],
            [
             0.1111111111111111,
             "#46039f"
            ],
            [
             0.2222222222222222,
             "#7201a8"
            ],
            [
             0.3333333333333333,
             "#9c179e"
            ],
            [
             0.4444444444444444,
             "#bd3786"
            ],
            [
             0.5555555555555556,
             "#d8576b"
            ],
            [
             0.6666666666666666,
             "#ed7953"
            ],
            [
             0.7777777777777778,
             "#fb9f3a"
            ],
            [
             0.8888888888888888,
             "#fdca26"
            ],
            [
             1,
             "#f0f921"
            ]
           ],
           "sequentialminus": [
            [
             0,
             "#0d0887"
            ],
            [
             0.1111111111111111,
             "#46039f"
            ],
            [
             0.2222222222222222,
             "#7201a8"
            ],
            [
             0.3333333333333333,
             "#9c179e"
            ],
            [
             0.4444444444444444,
             "#bd3786"
            ],
            [
             0.5555555555555556,
             "#d8576b"
            ],
            [
             0.6666666666666666,
             "#ed7953"
            ],
            [
             0.7777777777777778,
             "#fb9f3a"
            ],
            [
             0.8888888888888888,
             "#fdca26"
            ],
            [
             1,
             "#f0f921"
            ]
           ]
          },
          "colorway": [
           "#636efa",
           "#EF553B",
           "#00cc96",
           "#ab63fa",
           "#FFA15A",
           "#19d3f3",
           "#FF6692",
           "#B6E880",
           "#FF97FF",
           "#FECB52"
          ],
          "font": {
           "color": "#2a3f5f"
          },
          "geo": {
           "bgcolor": "white",
           "lakecolor": "white",
           "landcolor": "#E5ECF6",
           "showlakes": true,
           "showland": true,
           "subunitcolor": "white"
          },
          "hoverlabel": {
           "align": "left"
          },
          "hovermode": "closest",
          "mapbox": {
           "style": "light"
          },
          "paper_bgcolor": "white",
          "plot_bgcolor": "#E5ECF6",
          "polar": {
           "angularaxis": {
            "gridcolor": "white",
            "linecolor": "white",
            "ticks": ""
           },
           "bgcolor": "#E5ECF6",
           "radialaxis": {
            "gridcolor": "white",
            "linecolor": "white",
            "ticks": ""
           }
          },
          "scene": {
           "xaxis": {
            "backgroundcolor": "#E5ECF6",
            "gridcolor": "white",
            "gridwidth": 2,
            "linecolor": "white",
            "showbackground": true,
            "ticks": "",
            "zerolinecolor": "white"
           },
           "yaxis": {
            "backgroundcolor": "#E5ECF6",
            "gridcolor": "white",
            "gridwidth": 2,
            "linecolor": "white",
            "showbackground": true,
            "ticks": "",
            "zerolinecolor": "white"
           },
           "zaxis": {
            "backgroundcolor": "#E5ECF6",
            "gridcolor": "white",
            "gridwidth": 2,
            "linecolor": "white",
            "showbackground": true,
            "ticks": "",
            "zerolinecolor": "white"
           }
          },
          "shapedefaults": {
           "line": {
            "color": "#2a3f5f"
           }
          },
          "ternary": {
           "aaxis": {
            "gridcolor": "white",
            "linecolor": "white",
            "ticks": ""
           },
           "baxis": {
            "gridcolor": "white",
            "linecolor": "white",
            "ticks": ""
           },
           "bgcolor": "#E5ECF6",
           "caxis": {
            "gridcolor": "white",
            "linecolor": "white",
            "ticks": ""
           }
          },
          "title": {
           "x": 0.05
          },
          "xaxis": {
           "automargin": true,
           "gridcolor": "white",
           "linecolor": "white",
           "ticks": "",
           "title": {
            "standoff": 15
           },
           "zerolinecolor": "white",
           "zerolinewidth": 2
          },
          "yaxis": {
           "automargin": true,
           "gridcolor": "white",
           "linecolor": "white",
           "ticks": "",
           "title": {
            "standoff": 15
           },
           "zerolinecolor": "white",
           "zerolinewidth": 2
          }
         }
        },
        "title": {
         "text": "__Atendimentos na APS (exceto saúde mental)"
        },
        "xaxis": {
         "title": {
          "text": "Time"
         }
        },
        "yaxis": {
         "title": {
          "text": "Value"
         }
        }
       }
      }
     },
     "metadata": {},
     "output_type": "display_data"
    }
   ],
   "source": [
    "for variable in results:\n",
    "    variable_result = results[variable]\n",
    "    variable_df = RegressionDF[RegressionDF[VARIABLE_COLUMN_NAME] == variable]\n",
    "    plot_with_all_dummies(variable, variable_df, variable_result, DummyIndexes)\n"
   ]
  }
 ],
 "metadata": {
  "colab": {
   "authorship_tag": "ABX9TyNOLxZOoce2yHmr6XCh0F+2",
   "collapsed_sections": [
    "EwX1y9X8yfED",
    "QDBIDev2zRdM"
   ],
   "include_colab_link": true,
   "mount_file_id": "1mtU-p7lJEB4nbIv46bqll0vutSNv3pZj",
   "provenance": [],
   "toc_visible": true
  },
  "kernelspec": {
   "display_name": "Python 3",
   "name": "python3"
  },
  "language_info": {
   "codemirror_mode": {
    "name": "ipython",
    "version": 3
   },
   "file_extension": ".py",
   "mimetype": "text/x-python",
   "name": "python",
   "nbconvert_exporter": "python",
   "pygments_lexer": "ipython3",
   "version": "3.12.5"
  }
 },
 "nbformat": 4,
 "nbformat_minor": 0
}
