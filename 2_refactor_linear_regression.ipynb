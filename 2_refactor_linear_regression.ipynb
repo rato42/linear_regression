{
 "cells": [
  {
   "cell_type": "markdown",
   "metadata": {
    "colab_type": "text",
    "id": "view-in-github"
   },
   "source": [
    "<a href=\"https://colab.research.google.com/github/rato42/linear_regression/blob/unstable-yeah-sure/CLASSBASED_new_linear_regression.ipynb\" target=\"_parent\"><img src=\"https://colab.research.google.com/assets/colab-badge.svg\" alt=\"Open In Colab\"/></a>"
   ]
  },
  {
   "cell_type": "markdown",
   "metadata": {
    "id": "EwX1y9X8yfED"
   },
   "source": [
    "# Imports\n"
   ]
  },
  {
   "cell_type": "code",
   "execution_count": 222,
   "metadata": {
    "colab": {
     "base_uri": "https://localhost:8080/"
    },
    "id": "sOJUZR18gkp5",
    "outputId": "9a15ac2a-9b78-4df2-dfd1-fdc8665336d5"
   },
   "outputs": [
    {
     "name": "stdout",
     "output_type": "stream",
     "text": [
      "Running outside Colab (VS Code/local)\n"
     ]
    }
   ],
   "source": [
    "import sys\n",
    "\n",
    "# Detect Colab environment\n",
    "IN_COLAB = \"google.colab\" in sys.modules\n",
    "\n",
    "if IN_COLAB:\n",
    "    from google.colab import drive, auth\n",
    "    from googleapiclient.discovery import build\n",
    "    from googleapiclient.http import MediaIoBaseDownload\n",
    "\n",
    "    auth.authenticate_user()\n",
    "    drive.mount(\"/content/drive\")\n",
    "else:\n",
    "    from oauth2client.service_account import ServiceAccountCredentials\n",
    "\n",
    "    print(\"Running outside Colab (VS Code/local)\")\n",
    "\n",
    "try:\n",
    "    import gspread\n",
    "except ModuleNotFoundError:\n",
    "    if IN_COLAB and \"google.colab\" in str(get_ipython()):\n",
    "        %pip install gspread\n",
    "    import gspread\n",
    "\n",
    "from gspread_dataframe import set_with_dataframe"
   ]
  },
  {
   "cell_type": "code",
   "execution_count": 223,
   "metadata": {
    "id": "uc_HtA6xvVE2"
   },
   "outputs": [],
   "source": [
    "\n",
    "import os\n",
    "\n",
    "import time\n",
    "\n",
    "import math\n",
    "import scipy.stats as stats\n",
    "import pandas as pd\n",
    "import numpy as np\n",
    "\n",
    "import pwlf\n",
    "\n",
    "from openpyxl import load_workbook\n",
    "from openpyxl.styles import Alignment\n",
    "\n",
    "from scipy.stats import linregress, ttest_ind, ttest_rel, ttest_1samp\n",
    "import matplotlib.pyplot as plt\n",
    "import re\n",
    "from matplotlib.font_manager import FontProperties\n",
    "import statsmodels.formula.api as smf\n",
    "import statsmodels.api as sm\n",
    "\n",
    "from datetime import datetime, timedelta\n",
    "\n",
    "from statsmodels.stats.stattools import durbin_watson\n",
    "from statsmodels.stats.diagnostic import acorr_ljungbox\n",
    "from statsmodels.tools.tools import add_constant\n",
    "from statsmodels.tsa.arima.model import ARIMA\n",
    "\n",
    "from sklearn.preprocessing import StandardScaler\n",
    "from sklearn.model_selection import train_test_split\n",
    "from sklearn.metrics import r2_score, mean_squared_error\n",
    "from sklearn.pipeline import Pipeline\n",
    "from sklearn.base import BaseEstimator, TransformerMixin\n",
    "from sklearn.preprocessing import FunctionTransformer\n",
    "\n",
    "from dateutil.relativedelta import relativedelta\n",
    "\n",
    "from sklearn import set_config\n",
    "set_config(display=\"diagram\")\n",
    "\n",
    "import logging\n",
    "from typing import Dict, Any\n",
    "\n",
    "import io"
   ]
  },
  {
   "cell_type": "markdown",
   "metadata": {
    "id": "M6pmUGm9ycJ_"
   },
   "source": [
    "# LOAD --- data from gsheet if colab or local\n"
   ]
  },
  {
   "cell_type": "code",
   "execution_count": 224,
   "metadata": {
    "id": "r6jsbsBZvWHp"
   },
   "outputs": [],
   "source": [
    "dados_brutos = None\n",
    "output_wksheet = None\n",
    "\n",
    "input_path = \"https://docs.google.com/spreadsheets/d/1m3eEaxWT4Unb8jBZWKjiLivavfA0x3PT1F1Rz1eXwVE/edit?gid=0\"\n",
    "output_path = \"https://docs.google.com/spreadsheets/d/1RzC3DfKNUwYA-qfUN0i53hUwRkWGMBOCoYQqdqG4MQY/edit?gid=0\"\n",
    "\n",
    "local_input_path = (\n",
    "    #\"D:\\\\CodeStuff\\\\Stats\\\\colab_linear_regression\\\\linear_regression\\\\input\\\\input.csv\" ### poa\n",
    "    \"D:\\\\CodeStuff\\\\Stats\\\\colab_linear_regression\\\\linear_regression\\\\input\\\\input.xlsx\" ### rs\n",
    ")\n",
    "\n",
    "if IN_COLAB:\n",
    "    import gspread\n",
    "    from google.auth import default\n",
    "\n",
    "    auth.authenticate_user()\n",
    "    creds, _ = default()\n",
    "    gc = gspread.authorize(creds)\n",
    "    workbook = gc.open_by_url(input_path)\n",
    "    worksheets = workbook.worksheets()\n",
    "    output_wksheet = gc.open_by_url(output_path)\n",
    "    dados_brutos = worksheets[0].get_all_values()\n",
    "else:\n",
    "    try:\n",
    "        dados_brutos = pd.read_csv(local_input_path, header=None).values.tolist()\n",
    "    except:\n",
    "        dados_brutos = pd.read_excel(local_input_path, header=None).values.tolist()"
   ]
  },
  {
   "cell_type": "markdown",
   "metadata": {},
   "source": [
    "# TODO LIST"
   ]
  },
  {
   "cell_type": "code",
   "execution_count": 225,
   "metadata": {},
   "outputs": [],
   "source": [
    "# TODO: Adicionar dummy de interação para comparar SM e outros atendimentos\n",
    "\n",
    "# TODO: Orthogonalise pospand trend (so to not have colinearity with months)\n",
    "\n",
    "# TODO: analisar overfitting\n",
    "\n",
    "# TODO: taxa. a população se mantem estavel? os serviços de saude se mantem estaveis?\n",
    "\n",
    "# https://chatgpt.com/canvas/shared/68084b682c548191a92db280344e5474"
   ]
  },
  {
   "cell_type": "markdown",
   "metadata": {},
   "source": [
    "--- Low HIGH COMPLEXITY\n",
    "\n",
    "- [x] Data Quality & Exploration  \n",
    "  - [x] Plot the raw time series and annotate intervention points.  \n",
    "  - [x] Check for missing values, outliers, or data entry errors.  \n",
    "  - [x] Verify your date index is consistent (e.g., monthly frequency).  \n",
    "\n",
    "- [x] Descriptive Statistics  \n",
    "  - [x] Compute summary statistics (mean, variance) before and after the pandemic.  \n",
    "  - [] Calculate and plot moving averages to smooth trends.  \n",
    "\n",
    "- [x] Dummy Variable Audit  \n",
    "  - [x] Confirm each dummy is coded 0/1 for the correct periods.  \n",
    "  - [x] Review naming consistency and placement in the DataFrame.  \n",
    "\n",
    "- [x] Basic Model Fit  \n",
    "  - [x] Fit the current segmented regression (consults ~ time + level_dummy + slope_dummy + month_dummies + lockdown_outliers).  \n",
    "  - [x] Inspect R², coefficient signs, and p-values to sanity-check effects.  Export this to a readeable format\n",
    "\n",
    "--- MEDIUM COMPLEXITY\n",
    "\n",
    "- [ ] Residual Diagnostics  \n",
    "  - [ ] Plot residuals vs. fitted values to check heteroscedasticity.  \n",
    "  - [ ] Examine ACF/PACF of residuals:  \n",
    "    - [ ] First using OLS (to confirm the need for AR structure).  \n",
    "    - [ ] Then using Prais-Winsten (to assess remaining autocorrelation).  \n",
    "\n",
    "- [ ] Autocorrelation & Robust SE  \n",
    "  - [ ] If autocorrelation exists, adjust standard errors (e.g., Newey-West) or fit an autoregressive error structure (e.g., AR(1)).  \n",
    "  - [ ] Since you’re using Prais-Winsten, this step may be partially addressed — verify with residuals.  \n",
    "\n",
    "- [ ] Seasonality & Trend Flexibility  \n",
    "  - [ ] Test alternative seasonal structures (e.g., Fourier terms) instead of month dummies.  \n",
    "  - [ ] Consider adding a quadratic or spline-based time trend.  \n",
    "\n",
    "- [ ] Outlier Handling  \n",
    "  - [ ] Justify and potentially consolidate lockdown outlier dummies (pulse vs. step).  \n",
    "  - [ ] Compare models with and without these outlier dummies (use AIC/BIC).  \n",
    "\n",
    "- [ ] Multicollinearity Check  \n",
    "  - [ ] Compute Variance Inflation Factors (VIFs) for covariates.  \n",
    "\n",
    "--- HIGH COMPLEXITY\n",
    "\n",
    "- [ ] Adicionar dummy de interação para comparar SM e outros atendimentos\n",
    "\n",
    "- [ ] Time-Series Cross-Validation  \n",
    "  - [ ] Implement rolling-origin evaluation to assess predictive performance.  \n",
    "  - [ ] Compare cross-validated errors (e.g., RMSE) across model specs to detect overfitting.  \n",
    "\n",
    "- [ ] Model Comparison & Selection  \n",
    "  - [ ] Use information criteria (AIC/BIC) to compare alternative models.  \n",
    "  - [ ] Evaluate nested models (e.g., with/without slope change) via likelihood ratio tests.  \n",
    "\n",
    "- [ ] Advanced Interrupted Time Series Methods  \n",
    "  - [ ] Explore Bayesian ITS or segmented regression with autoregressive integrated moving average (ARIMA) errors.  \n",
    "  - [ ] Consider structural break tests (e.g., Chow test) for formal change-point detection.  \n",
    "\n",
    "- [ ] Sensitivity & Robustness  \n",
    "  - [ ] Run sensitivity analyses using different intervention start/end dates.  \n",
    "  - [ ] Test robustness to alternative outlier definitions or lag structures.  \n",
    "\n",
    "- [ ] Forecasting & Counterfactuals  \n",
    "  - [ ] Generate counterfactual predictions for the post-pandemic period.  \n",
    "  - [ ] Visualize observed vs. counterfactual to illustrate intervention impact. "
   ]
  },
  {
   "cell_type": "markdown",
   "metadata": {
    "id": "SAATuGWcyPmG"
   },
   "source": [
    "# ARGS --- Define Args\n"
   ]
  },
  {
   "cell_type": "code",
   "execution_count": 226,
   "metadata": {
    "id": "N43j0vRL3QsP"
   },
   "outputs": [],
   "source": [
    "### ARGS\n",
    "\n",
    "INDEPENDENT_VAR = \"periodo\"  ### Y\n",
    "DEPENDENT_VAR = \"valores\"  ### X\n",
    "DATE_NAME = \"date\"\n",
    "VARIABLE_COLUMN_NAME = \"variavel\"\n",
    "LOCAL_OUTPUT_PATH = \"D:\\\\CodeStuff\\\\Stats\\\\colab_linear_regression\\\\linear_regression\\\\output\\\\output.xlsx\"\n",
    "\n",
    "\n",
    "\n",
    "######### DUMMIES ##########\n",
    "\n",
    "INCLUDE_MONTH_DUMMIES = True\n",
    "INCLUDE_QUARTER_DUMMIES = False\n",
    "\n",
    "### as quedas do primeiro lockdown nao são tão claras e a recuperação e queda parecem ser mais graduais\n",
    "CHOQUE_INICIAL_START_DATE= \"2020-03-01\"\n",
    "CHOQUE_INICIAL_END_DATE = \"2020-07-01\"#\"2020-08-01\" #month based \n",
    "\n",
    "### abril e maio tiveram quedas bem identificaveis nos atendimentos em todas variavieis\n",
    "SECONDLOCKDOWN_START_DATE = \"2021-04-01\"\n",
    "SECONDLOCKDOWN_END_DATE = '2021-05-01' #month based  #'2021-04-01'#quarter_based #\n",
    "\n",
    "POS_PANDEMIA_START_DATE = \"2020-01-01\"\n",
    "END_DATE = \"2024-12-01\"#\"2024-12-01\"  ### data final para o modelo, se for maior que a data do dataframe, o modelo vai dar erro\n",
    "\n",
    "\n",
    "POS_PANDEMIA_EXCLUDE_RANGES = [\n",
    "     (CHOQUE_INICIAL_START_DATE, CHOQUE_INICIAL_END_DATE),\n",
    "     (SECONDLOCKDOWN_START_DATE, SECONDLOCKDOWN_END_DATE),\n",
    "    #(\"2024-05-01\", \"2024-05-01\"),\n",
    "                               ]\n",
    "\n",
    "\n",
    "\n",
    "\n",
    "DUMMY_ARGS =        {\n",
    "        'Choque_Inicial': {\"start_date\": CHOQUE_INICIAL_START_DATE, \"end_date\": CHOQUE_INICIAL_END_DATE},\n",
    "        'Lockdown_2021': {\"start_date\": SECONDLOCKDOWN_START_DATE, \"end_date\": SECONDLOCKDOWN_END_DATE},\n",
    "        #'Enchentes_2024': {\"start_date\": \"2024-05-01\", \"end_date\": \"2024-05-01\"},\n",
    "        'Step_PosPandemia': {\"start_date\": POS_PANDEMIA_START_DATE, \"end_date\": END_DATE,'exclude_ranges': POS_PANDEMIA_EXCLUDE_RANGES, 'plot':False, 'step': True,},\n",
    "        'Trend_PosPandemia' : {\"start_date\": POS_PANDEMIA_START_DATE, \"end_date\": END_DATE,'exclude_ranges': POS_PANDEMIA_EXCLUDE_RANGES, 'plot': True, 'add_time_trend': True, 'keep_period_index': False, 'step': False}, \n",
    "        }\n",
    "\n",
    "##############################\n",
    "\n",
    "\n",
    "PREPROCESSOR_ARGS = {\n",
    "    'DateRange': [2016, 2024],  \n",
    "    'FrequencyDateGroup' : 'M',\n",
    "    'DummyArgs' : DUMMY_ARGS,\n",
    "}\n",
    "\n",
    "\n",
    "###### PROCESSING ######\n",
    "BASE_MODEL_FORMULA = DEPENDENT_VAR + \"~\" + INDEPENDENT_VAR \n",
    "\n",
    "\n",
    "if INCLUDE_MONTH_DUMMIES:\n",
    "    month_dummies = []\n",
    "    for i in range(1, 12):\n",
    "        month_dummies.append(\"month_\" + str(i+1))\n",
    "    for month in month_dummies:\n",
    "        BASE_MODEL_FORMULA += \" + \" + month\n",
    "\n",
    "if INCLUDE_QUARTER_DUMMIES:\n",
    "    quarter_dummies = []\n",
    "    for i in range(1, 4):\n",
    "        quarter_dummies.append(\"quarter_\" + str(i+1))\n",
    "    for quarter in quarter_dummies:\n",
    "        BASE_MODEL_FORMULA += \" + \" + quarter\n",
    "\n",
    "\n",
    "MODEL_FORMULA = BASE_MODEL_FORMULA\n",
    "\n",
    "if DUMMY_ARGS:\n",
    "    for key in DUMMY_ARGS.keys():\n",
    "            MODEL_FORMULA += \" + \" + key\n",
    "\n",
    "\n",
    "\n",
    "\n",
    "PROCESSOR_ARGS = {\n",
    "    \"formula\": MODEL_FORMULA,#\"valores ~ periodo\",  # Example formula\n",
    "    \"model\": smf.glsar,# smf.ols,# # Use OLS as the regression model for testing\n",
    "    \"find_best_rho\": True,#True,  # Disable best rho search for simplicity\n",
    "    \"rho\": None,  \n",
    "    \"cov_type\": \"HAC\",  # Use nonrobust covariance for testing\n",
    "    \"cov_kwargs\": {'maxlags': 4},  # No additional covariance arguments\n",
    "    \"iterative_fit\": True,  # Enable iterative fitting if needed\n",
    "    \"max_iterations\": 10,  # Set maximum iterations for iterative fitting\n",
    "    \"find_best_rho_args\": {\n",
    "        \"start\": -1.00,\n",
    "        \"stop\": 1.01,\n",
    "        \"step\": 0.01,\n",
    "        \"criterio\": \"aic\"\n",
    "    },\n",
    "}\n",
    "\n",
    "\n",
    "\n"
   ]
  },
  {
   "cell_type": "markdown",
   "metadata": {
    "id": "3lst0tSSyWi0"
   },
   "source": [
    "# Define Preprocessors\n"
   ]
  },
  {
   "cell_type": "code",
   "execution_count": 227,
   "metadata": {
    "id": "FAqiSa3R-k3r"
   },
   "outputs": [],
   "source": [
    "def BuildDataDF(data):\n",
    "    string_dates = data[0][1:]  # Store original string dates\n",
    "\n",
    "    # Converter as strings de datas em objetos datetime\n",
    "    #date_list = [datetime.strptime(date, \"%d/%m/%Y\") for date in string_dates]\n",
    "    date_list = [\n",
    "    date if isinstance(date, datetime) else datetime.strptime(date, \"%d/%m/%Y\")\n",
    "    for date in string_dates\n",
    "    ]\n",
    "\n",
    "    # Extrair os nomes das variáveis\n",
    "    variavel = [row[0] for row in data[1:]]\n",
    "\n",
    "    # Extrair os dados (sem agrupamento)\n",
    "    dados = [row[1:] for row in data[1:]]\n",
    "    dados = np.array(dados, dtype=int)  # Converter para tipo object para evitar warning\n",
    "\n",
    "    # Criar o DataFrame with DatetimeIndex\n",
    "    df = pd.DataFrame(data=dados, index=variavel, columns=pd.DatetimeIndex(date_list))\n",
    "\n",
    "    return df\n",
    "\n",
    "class DateFilterTransformer(BaseEstimator, TransformerMixin):\n",
    "    def __init__(\n",
    "        self, periodos_inclusivos=None, periodos_exclusivos=None, date_col=DATE_NAME\n",
    "    ):\n",
    "        self.periodos_inclusivos = periodos_inclusivos\n",
    "        self.periodos_exclusivos = periodos_exclusivos\n",
    "        self.date_col = date_col\n",
    "\n",
    "    def get_date_range(self, Y1, Y2=None, M1=None, M2=None, D1=None, D2=None):\n",
    "        Y2 = Y2 or Y1\n",
    "        M1 = M1 or 1\n",
    "        M2 = M2 or 12\n",
    "        D1 = D1 or 1\n",
    "        D2 = D2 or 31\n",
    "        start_date = datetime(Y1, M1, D1)\n",
    "        end_date = datetime(Y2, M2, D2)\n",
    "        return pd.date_range(start=start_date, end=end_date, freq=\"D\")\n",
    "\n",
    "    def fit(self, X, y=None):\n",
    "        return self\n",
    "\n",
    "    def transform(self, X):\n",
    "        X = X.copy()\n",
    "\n",
    "        # Convert date column if it's not datetime yet\n",
    "        if not pd.api.types.is_datetime64_any_dtype(X[self.date_col]):\n",
    "            X[self.date_col] = pd.to_datetime(X[self.date_col], errors=\"coerce\")\n",
    "\n",
    "        if self.periodos_inclusivos:\n",
    "            valid_dates = self.get_date_range(*self.periodos_inclusivos)\n",
    "            return X[X[self.date_col].isin(valid_dates)].reset_index(drop=True)\n",
    "\n",
    "        elif self.periodos_exclusivos:\n",
    "            invalid_dates = self.get_date_range(*self.periodos_exclusivos)\n",
    "            return X[~X[self.date_col].isin(invalid_dates)].reset_index(drop=True)\n",
    "\n",
    "        return X\n",
    "\n",
    "class MeltTransformer(BaseEstimator, TransformerMixin):\n",
    "    def __init__(\n",
    "        self,\n",
    "        var_name=VARIABLE_COLUMN_NAME,\n",
    "        value_name=DEPENDENT_VAR,\n",
    "        date_name=DATE_NAME,\n",
    "        y_name=INDEPENDENT_VAR,\n",
    "    ):\n",
    "        self.var_name = var_name\n",
    "        self.value_name = value_name\n",
    "        self.date_name = date_name\n",
    "        self.y_name = y_name\n",
    "\n",
    "    def fit(self, X, y=None):\n",
    "        # Nothing to learn, so just return self\n",
    "        return self\n",
    "\n",
    "    def transform(self, X):\n",
    "        # Transpose and reset index\n",
    "        df_long = X.T.reset_index()\n",
    "\n",
    "        # Rename index to date_name\n",
    "        df_long = df_long.rename(columns={\"index\": self.date_name})\n",
    "\n",
    "        # Melt the DataFrame\n",
    "        df_long = pd.melt(\n",
    "            df_long,\n",
    "            id_vars=[self.date_name],\n",
    "            var_name=self.var_name,\n",
    "            value_name=self.value_name,\n",
    "        )\n",
    "\n",
    "        # Sort by category and date\n",
    "        df_final = df_long.sort_values([self.var_name, self.date_name]).reset_index(\n",
    "            drop=True\n",
    "        )\n",
    "\n",
    "        return df_final\n",
    "\n",
    "class PeriodIndexAdder(BaseEstimator, TransformerMixin):\n",
    "    def __init__(self, group_col=VARIABLE_COLUMN_NAME, new_col=INDEPENDENT_VAR):\n",
    "        self.group_col = group_col\n",
    "        self.new_col = new_col\n",
    "        self.period_date_mapping = {}  # Dictionary to store period-date equivalences\n",
    "\n",
    "    def fit(self, X, y=None):\n",
    "        return self\n",
    "\n",
    "    def transform(self, X):\n",
    "        X = X.copy()\n",
    "        X[self.new_col] = X.groupby(self.group_col).cumcount() + 1\n",
    "\n",
    "        #Store the mapping of periods to dates\n",
    "        self.period_date_mapping = dict(zip(X[DATE_NAME], X[self.new_col]))\n",
    "        #for group, group_data in X.groupby(self.group_col):\n",
    "        #    self.period_date_mapping[group] = dict(zip(group_data[DATE_NAME], group_data[self.new_col]))\n",
    "\n",
    "        return X\n",
    "\n",
    "class DataFrameSorter(BaseEstimator, TransformerMixin):\n",
    "    \"\"\"\n",
    "    Sorts a DataFrame by a specified column.\n",
    "\n",
    "    Parameters:\n",
    "    -----------\n",
    "    sort_by : str\n",
    "        Name of the column to sort by.\n",
    "    ascending : bool, default=True\n",
    "        Whether to sort in ascending order.\n",
    "    \"\"\"\n",
    "\n",
    "    def __init__(self, sort_by, ascending=True):\n",
    "        self.sort_by = sort_by\n",
    "        self.ascending = ascending\n",
    "\n",
    "    def fit(self, X, y=None):\n",
    "        return self\n",
    "\n",
    "    def transform(self, X):\n",
    "        X = X.copy()\n",
    "        if self.sort_by not in X.columns:\n",
    "            raise ValueError(f\"Column '{self.sort_by}' not found in DataFrame.\")\n",
    "        return X.sort_values(by=self.sort_by, ascending=self.ascending).reset_index(drop=True)\n",
    "\n",
    "class MonthlyDummyAdder(BaseEstimator, TransformerMixin):\n",
    "    \"\"\"\n",
    "    Adds dummy variables for each month to control for seasonality, leaving December as the baseline.\n",
    "\n",
    "    Parameters:\n",
    "    -----------\n",
    "    date_column : str\n",
    "        Name of the column containing dates (must be datetime).\n",
    "    \"\"\"\n",
    "\n",
    "    def __init__(self, date_column=DATE_NAME):\n",
    "        self.date_column = date_column\n",
    "\n",
    "    def fit(self, X, y=None):\n",
    "        return self\n",
    "\n",
    "    def transform(self, X):\n",
    "        X = X.copy()\n",
    "        X[self.date_column] = pd.to_datetime(X[self.date_column])  # Ensure dates are in datetime format\n",
    "\n",
    "        # Extract month from the date column\n",
    "        X['month'] = X[self.date_column].dt.month\n",
    "\n",
    "        # Create dummy variables for each month, excluding December as the baseline\n",
    "        month_dummies = pd.get_dummies(X['month'], prefix=\"month\", drop_first=True).astype(int)\n",
    "\n",
    "\n",
    "\n",
    "        # Concatenate the dummy variables with the original DataFrame\n",
    "        X = pd.concat([X, month_dummies], axis=1)\n",
    "\n",
    "        # Drop the temporary 'month' column\n",
    "        X.drop(columns=['month'], inplace=True)\n",
    "\n",
    "        return X\n",
    "    \n",
    "class QuarterlyDummyAdder(BaseEstimator, TransformerMixin):\n",
    "    \"\"\"\n",
    "    Adds dummy variables for each quarter to control for seasonality, leaving Q4 as the baseline.\n",
    "\n",
    "    Parameters:\n",
    "    -----------\n",
    "    date_column : str\n",
    "        Name of the column containing dates (must be datetime).\n",
    "    \"\"\"\n",
    "\n",
    "    def __init__(self, date_column=DATE_NAME):\n",
    "        self.date_column = date_column\n",
    "\n",
    "    def fit(self, X, y=None):\n",
    "        return self\n",
    "\n",
    "    def transform(self, X):\n",
    "        X = X.copy()\n",
    "        X[self.date_column] = pd.to_datetime(X[self.date_column])  # Ensure dates are in datetime format\n",
    "\n",
    "        # Extract quarter from the date column\n",
    "        X['quarter'] = X[self.date_column].dt.quarter\n",
    "\n",
    "        # Create dummy variables for each quarter, excluding Q4 as the baseline\n",
    "        quarter_dummies = pd.get_dummies(X['quarter'], prefix=\"quarter\", drop_first=True).astype(int)\n",
    "\n",
    "        # Concatenate the dummy variables with the original DataFrame\n",
    "        X = pd.concat([X, quarter_dummies], axis=1)\n",
    "\n",
    "        # Drop the temporary 'quarter' column\n",
    "        X.drop(columns=['quarter'], inplace=True)\n",
    "\n",
    "        return X\n",
    "\n",
    "class MultiDummyAdder(BaseEstimator, TransformerMixin):\n",
    "    \"\"\"\n",
    "    Adds multiple dummy variables based on date ranges or custom conditions.\n",
    "    Allows each dummy to be binary or a local time trend via its own config.\n",
    "\n",
    "    Parameters:\n",
    "    -----------\n",
    "    dummy_config : dict\n",
    "        Dictionary defining dummy variables. Example:\n",
    "        {\n",
    "            'Pandemia': {\n",
    "                'start_date': '2020-01-01',\n",
    "                'end_date': '2020-12-31',\n",
    "                'add_time_trend': True,\n",
    "                'exclude_ranges': [\n",
    "                    ('2020-04-01', '2020-05-01'),\n",
    "                    ('2020-07-01', '2020-08-01')\n",
    "                ]  # Optional\n",
    "            }\n",
    "        }\n",
    "    date_column : str\n",
    "        Name of the column containing dates (must be datetime).\n",
    "    \"\"\"\n",
    "\n",
    "    def __init__(self, dummy_config, date_column=DATE_NAME):\n",
    "        self.dummy_config = dummy_config\n",
    "        self.date_column = date_column\n",
    "\n",
    "    def fit(self, X, y=None):\n",
    "        return self\n",
    "\n",
    "    def transform(self, X):\n",
    "        X = X.copy()\n",
    "        X[self.date_column] = pd.to_datetime(X[self.date_column])\n",
    "        X = X.sort_values(self.date_column).reset_index(drop=True)\n",
    "\n",
    "        for dummy_name, config in self.dummy_config.items():\n",
    "            start_date = pd.to_datetime(config.get(\"start_date\"))\n",
    "            end_date = pd.to_datetime(config.get(\"end_date\"))\n",
    "            use_trend = config.get(\"add_time_trend\", False)\n",
    "            keep_index = config.get(\"keep_period_index\", False)\n",
    "            exclude_ranges = config.get(\"exclude_ranges\", [])  # List of ranges to exclude\n",
    "\n",
    "            if not start_date:\n",
    "                raise ValueError(f\"Missing 'start_date' for dummy '{dummy_name}'.\")\n",
    "\n",
    "            # Create the initial mask for the date range\n",
    "            if end_date is not None:\n",
    "                mask = (X[self.date_column] >= start_date) & (X[self.date_column] <= end_date)\n",
    "            else:\n",
    "                mask = X[self.date_column] >= start_date\n",
    "\n",
    "            # Exclude multiple ranges within the period\n",
    "            for excl_start, excl_end in exclude_ranges:\n",
    "                excl_start = pd.to_datetime(excl_start)\n",
    "                excl_end = pd.to_datetime(excl_end)\n",
    "                mask &= ~((X[self.date_column] >= excl_start) & (X[self.date_column] <= excl_end))\n",
    "\n",
    "            # Apply trend or binary dummy logic\n",
    "            if use_trend:\n",
    "                if keep_index:\n",
    "                    # Global period multiplied by the dummy\n",
    "                    X[dummy_name] = 0\n",
    "                    X.loc[mask, dummy_name] = X.loc[mask, INDEPENDENT_VAR]\n",
    "                else:\n",
    "                    start_periodo = X.loc[mask, INDEPENDENT_VAR].min()\n",
    "                    X[dummy_name] = 0\n",
    "                    X.loc[mask, dummy_name] = (X.loc[mask, INDEPENDENT_VAR] - start_periodo + 1).clip(lower=0)\n",
    "            else:\n",
    "                X[dummy_name] = mask.astype(int)\n",
    "\n",
    "        return X\n",
    "\n",
    "class FrequencyGroupingTransformer(BaseEstimator, TransformerMixin):\n",
    "    \"\"\"\n",
    "    ## only datetime supported groupings\n",
    "    Transformer for grouping data by standard datetime frequencies.\n",
    "\n",
    "    This transformer takes a DataFrame with datetime columns and groups\n",
    "    the data by a specified frequency (e.g., 'Q' for quarterly, 'M' for monthly).\n",
    "\n",
    "    ARGS:\n",
    "        frequency (str): The frequency to group by. Defaults to 'Q' (quarterly).\n",
    "                        Supported frequencies are those accepted by pd.Grouper (e.g., 'Q', 'M', 'Y').\n",
    "    \"\"\"\n",
    "\n",
    "    def __init__(self, frequency=\"Q\"):  # Default to quarterly grouping\n",
    "        self.frequency = frequency\n",
    "\n",
    "    def fit(self, X, y=None):\n",
    "        \"\"\"\n",
    "        This transformer does not require fitting.\n",
    "\n",
    "        ARGS:\n",
    "            X (pd.DataFrame): The input DataFrame.\n",
    "            y (Any, optional): Ignored. Defaults to None.\n",
    "\n",
    "        Returns:\n",
    "            self: Returns the transformer instance.\n",
    "        \"\"\"\n",
    "        return self\n",
    "\n",
    "    def transform(self, X):\n",
    "        \"\"\"\n",
    "        Groups the data by the specified frequency and sums the values.\n",
    "\n",
    "        ARGS:\n",
    "            X (pd.DataFrame): The input DataFrame with datetime columns.\n",
    "\n",
    "        Returns:\n",
    "            pd.DataFrame: The grouped DataFrame with summed values.\n",
    "                          Columns are datetime objects representing the end of each group.\n",
    "        \"\"\"\n",
    "        if self.frequency == None or self.frequency == 'M':\n",
    "            return X\n",
    "        if not isinstance(X, pd.DataFrame):\n",
    "            raise TypeError(\"Input must be a pandas DataFrame.\")\n",
    "\n",
    "\n",
    "\n",
    "        # Convert columns to datetime if they are not already\n",
    "        if not isinstance(X.columns[0], pd.Timestamp):\n",
    "            X.columns = pd.to_datetime(X.columns, errors=\"coerce\")\n",
    "\n",
    "        # Group by the specified frequency using pd.Grouper\n",
    "        grouped_df = X.T.groupby(pd.Grouper(freq=self.frequency)).sum().T\n",
    "\n",
    "        return grouped_df\n",
    "\n"
   ]
  },
  {
   "cell_type": "markdown",
   "metadata": {},
   "source": [
    "# EXEC --- Instantiate Pipe and get RegressionDF"
   ]
  },
  {
   "cell_type": "code",
   "execution_count": 228,
   "metadata": {},
   "outputs": [
    {
     "data": {
      "application/vnd.microsoft.datawrangler.viewer.v0+json": {
       "columns": [
        {
         "name": "index",
         "rawType": "int64",
         "type": "integer"
        },
        {
         "name": "date",
         "rawType": "datetime64[ns]",
         "type": "datetime"
        },
        {
         "name": "variavel",
         "rawType": "object",
         "type": "string"
        },
        {
         "name": "valores",
         "rawType": "int64",
         "type": "integer"
        },
        {
         "name": "periodo",
         "rawType": "int64",
         "type": "integer"
        },
        {
         "name": "Choque_Inicial",
         "rawType": "int64",
         "type": "integer"
        },
        {
         "name": "Lockdown_2021",
         "rawType": "int64",
         "type": "integer"
        },
        {
         "name": "Step_PosPandemia",
         "rawType": "int64",
         "type": "integer"
        },
        {
         "name": "Trend_PosPandemia",
         "rawType": "int64",
         "type": "integer"
        },
        {
         "name": "month_2",
         "rawType": "int64",
         "type": "integer"
        },
        {
         "name": "month_3",
         "rawType": "int64",
         "type": "integer"
        },
        {
         "name": "month_4",
         "rawType": "int64",
         "type": "integer"
        },
        {
         "name": "month_5",
         "rawType": "int64",
         "type": "integer"
        },
        {
         "name": "month_6",
         "rawType": "int64",
         "type": "integer"
        },
        {
         "name": "month_7",
         "rawType": "int64",
         "type": "integer"
        },
        {
         "name": "month_8",
         "rawType": "int64",
         "type": "integer"
        },
        {
         "name": "month_9",
         "rawType": "int64",
         "type": "integer"
        },
        {
         "name": "month_10",
         "rawType": "int64",
         "type": "integer"
        },
        {
         "name": "month_11",
         "rawType": "int64",
         "type": "integer"
        },
        {
         "name": "month_12",
         "rawType": "int64",
         "type": "integer"
        },
        {
         "name": "quarter_2",
         "rawType": "int64",
         "type": "integer"
        },
        {
         "name": "quarter_3",
         "rawType": "int64",
         "type": "integer"
        },
        {
         "name": "quarter_4",
         "rawType": "int64",
         "type": "integer"
        }
       ],
       "conversionMethod": "pd.DataFrame",
       "ref": "2d2ed2c7-117e-4785-b40c-4e9f16b3c3f8",
       "rows": [
        [
         "0",
         "2020-07-01 00:00:00",
         "__Grand Total",
         "5083",
         "55",
         "1",
         "0",
         "0",
         "0",
         "0",
         "0",
         "0",
         "0",
         "0",
         "1",
         "0",
         "0",
         "0",
         "0",
         "0",
         "0",
         "1",
         "0"
        ],
        [
         "1",
         "2018-11-01 00:00:00",
         "__Grand Total",
         "6729",
         "35",
         "0",
         "0",
         "0",
         "0",
         "0",
         "0",
         "0",
         "0",
         "0",
         "0",
         "0",
         "0",
         "0",
         "1",
         "0",
         "0",
         "0",
         "1"
        ],
        [
         "2",
         "2019-01-01 00:00:00",
         "__Grand Total",
         "6737",
         "37",
         "0",
         "0",
         "0",
         "0",
         "0",
         "0",
         "0",
         "0",
         "0",
         "0",
         "0",
         "0",
         "0",
         "0",
         "0",
         "0",
         "0",
         "0"
        ],
        [
         "3",
         "2019-02-01 00:00:00",
         "__Grand Total",
         "6202",
         "38",
         "0",
         "0",
         "0",
         "0",
         "1",
         "0",
         "0",
         "0",
         "0",
         "0",
         "0",
         "0",
         "0",
         "0",
         "0",
         "0",
         "0",
         "0"
        ],
        [
         "4",
         "2019-03-01 00:00:00",
         "__Grand Total",
         "5820",
         "39",
         "0",
         "0",
         "0",
         "0",
         "0",
         "1",
         "0",
         "0",
         "0",
         "0",
         "0",
         "0",
         "0",
         "0",
         "0",
         "0",
         "0",
         "0"
        ],
        [
         "5",
         "2019-04-01 00:00:00",
         "__Grand Total",
         "7001",
         "40",
         "0",
         "0",
         "0",
         "0",
         "0",
         "0",
         "1",
         "0",
         "0",
         "0",
         "0",
         "0",
         "0",
         "0",
         "0",
         "1",
         "0",
         "0"
        ],
        [
         "6",
         "2019-05-01 00:00:00",
         "__Grand Total",
         "7720",
         "41",
         "0",
         "0",
         "0",
         "0",
         "0",
         "0",
         "0",
         "1",
         "0",
         "0",
         "0",
         "0",
         "0",
         "0",
         "0",
         "1",
         "0",
         "0"
        ],
        [
         "7",
         "2019-06-01 00:00:00",
         "__Grand Total",
         "6429",
         "42",
         "0",
         "0",
         "0",
         "0",
         "0",
         "0",
         "0",
         "0",
         "1",
         "0",
         "0",
         "0",
         "0",
         "0",
         "0",
         "1",
         "0",
         "0"
        ],
        [
         "8",
         "2019-07-01 00:00:00",
         "__Grand Total",
         "7416",
         "43",
         "0",
         "0",
         "0",
         "0",
         "0",
         "0",
         "0",
         "0",
         "0",
         "1",
         "0",
         "0",
         "0",
         "0",
         "0",
         "0",
         "1",
         "0"
        ],
        [
         "9",
         "2019-08-01 00:00:00",
         "__Grand Total",
         "7266",
         "44",
         "0",
         "0",
         "0",
         "0",
         "0",
         "0",
         "0",
         "0",
         "0",
         "0",
         "1",
         "0",
         "0",
         "0",
         "0",
         "0",
         "1",
         "0"
        ],
        [
         "10",
         "2019-09-01 00:00:00",
         "__Grand Total",
         "5944",
         "45",
         "0",
         "0",
         "0",
         "0",
         "0",
         "0",
         "0",
         "0",
         "0",
         "0",
         "0",
         "1",
         "0",
         "0",
         "0",
         "0",
         "1",
         "0"
        ],
        [
         "11",
         "2019-10-01 00:00:00",
         "__Grand Total",
         "6536",
         "46",
         "0",
         "0",
         "0",
         "0",
         "0",
         "0",
         "0",
         "0",
         "0",
         "0",
         "0",
         "0",
         "1",
         "0",
         "0",
         "0",
         "0",
         "1"
        ],
        [
         "12",
         "2019-11-01 00:00:00",
         "__Grand Total",
         "5133",
         "47",
         "0",
         "0",
         "0",
         "0",
         "0",
         "0",
         "0",
         "0",
         "0",
         "0",
         "0",
         "0",
         "0",
         "1",
         "0",
         "0",
         "0",
         "1"
        ],
        [
         "13",
         "2019-12-01 00:00:00",
         "__Grand Total",
         "4494",
         "48",
         "0",
         "0",
         "0",
         "0",
         "0",
         "0",
         "0",
         "0",
         "0",
         "0",
         "0",
         "0",
         "0",
         "0",
         "1",
         "0",
         "0",
         "1"
        ],
        [
         "14",
         "2020-01-01 00:00:00",
         "__Grand Total",
         "5346",
         "49",
         "0",
         "0",
         "1",
         "1",
         "0",
         "0",
         "0",
         "0",
         "0",
         "0",
         "0",
         "0",
         "0",
         "0",
         "0",
         "0",
         "0",
         "0"
        ],
        [
         "15",
         "2020-02-01 00:00:00",
         "__Grand Total",
         "4672",
         "50",
         "0",
         "0",
         "1",
         "2",
         "1",
         "0",
         "0",
         "0",
         "0",
         "0",
         "0",
         "0",
         "0",
         "0",
         "0",
         "0",
         "0",
         "0"
        ],
        [
         "16",
         "2020-03-01 00:00:00",
         "__Grand Total",
         "4154",
         "51",
         "1",
         "0",
         "0",
         "0",
         "0",
         "1",
         "0",
         "0",
         "0",
         "0",
         "0",
         "0",
         "0",
         "0",
         "0",
         "0",
         "0",
         "0"
        ],
        [
         "17",
         "2020-04-01 00:00:00",
         "__Grand Total",
         "3680",
         "52",
         "1",
         "0",
         "0",
         "0",
         "0",
         "0",
         "1",
         "0",
         "0",
         "0",
         "0",
         "0",
         "0",
         "0",
         "0",
         "1",
         "0",
         "0"
        ],
        [
         "18",
         "2020-05-01 00:00:00",
         "__Grand Total",
         "4576",
         "53",
         "1",
         "0",
         "0",
         "0",
         "0",
         "0",
         "0",
         "1",
         "0",
         "0",
         "0",
         "0",
         "0",
         "0",
         "0",
         "1",
         "0",
         "0"
        ],
        [
         "19",
         "2020-06-01 00:00:00",
         "__Grand Total",
         "5021",
         "54",
         "1",
         "0",
         "0",
         "0",
         "0",
         "0",
         "0",
         "0",
         "1",
         "0",
         "0",
         "0",
         "0",
         "0",
         "0",
         "1",
         "0",
         "0"
        ],
        [
         "20",
         "2020-08-01 00:00:00",
         "__Grand Total",
         "5679",
         "56",
         "0",
         "0",
         "1",
         "8",
         "0",
         "0",
         "0",
         "0",
         "0",
         "0",
         "1",
         "0",
         "0",
         "0",
         "0",
         "0",
         "1",
         "0"
        ],
        [
         "21",
         "2020-09-01 00:00:00",
         "__Grand Total",
         "6507",
         "57",
         "0",
         "0",
         "1",
         "9",
         "0",
         "0",
         "0",
         "0",
         "0",
         "0",
         "0",
         "1",
         "0",
         "0",
         "0",
         "0",
         "1",
         "0"
        ],
        [
         "22",
         "2020-10-01 00:00:00",
         "__Grand Total",
         "6689",
         "58",
         "0",
         "0",
         "1",
         "10",
         "0",
         "0",
         "0",
         "0",
         "0",
         "0",
         "0",
         "0",
         "1",
         "0",
         "0",
         "0",
         "0",
         "1"
        ],
        [
         "23",
         "2018-12-01 00:00:00",
         "__Grand Total",
         "5946",
         "36",
         "0",
         "0",
         "0",
         "0",
         "0",
         "0",
         "0",
         "0",
         "0",
         "0",
         "0",
         "0",
         "0",
         "0",
         "1",
         "0",
         "0",
         "1"
        ],
        [
         "24",
         "2018-10-01 00:00:00",
         "__Grand Total",
         "7819",
         "34",
         "0",
         "0",
         "0",
         "0",
         "0",
         "0",
         "0",
         "0",
         "0",
         "0",
         "0",
         "0",
         "1",
         "0",
         "0",
         "0",
         "0",
         "1"
        ],
        [
         "25",
         "2016-10-01 00:00:00",
         "__Grand Total",
         "7662",
         "10",
         "0",
         "0",
         "0",
         "0",
         "0",
         "0",
         "0",
         "0",
         "0",
         "0",
         "0",
         "0",
         "1",
         "0",
         "0",
         "0",
         "0",
         "1"
        ],
        [
         "26",
         "2018-09-01 00:00:00",
         "__Grand Total",
         "6310",
         "33",
         "0",
         "0",
         "0",
         "0",
         "0",
         "0",
         "0",
         "0",
         "0",
         "0",
         "0",
         "1",
         "0",
         "0",
         "0",
         "0",
         "1",
         "0"
        ],
        [
         "27",
         "2016-12-01 00:00:00",
         "__Grand Total",
         "5751",
         "12",
         "0",
         "0",
         "0",
         "0",
         "0",
         "0",
         "0",
         "0",
         "0",
         "0",
         "0",
         "0",
         "0",
         "0",
         "1",
         "0",
         "0",
         "1"
        ],
        [
         "28",
         "2017-01-01 00:00:00",
         "__Grand Total",
         "5507",
         "13",
         "0",
         "0",
         "0",
         "0",
         "0",
         "0",
         "0",
         "0",
         "0",
         "0",
         "0",
         "0",
         "0",
         "0",
         "0",
         "0",
         "0",
         "0"
        ],
        [
         "29",
         "2017-02-01 00:00:00",
         "__Grand Total",
         "5082",
         "14",
         "0",
         "0",
         "0",
         "0",
         "1",
         "0",
         "0",
         "0",
         "0",
         "0",
         "0",
         "0",
         "0",
         "0",
         "0",
         "0",
         "0",
         "0"
        ],
        [
         "30",
         "2017-03-01 00:00:00",
         "__Grand Total",
         "7545",
         "15",
         "0",
         "0",
         "0",
         "0",
         "0",
         "1",
         "0",
         "0",
         "0",
         "0",
         "0",
         "0",
         "0",
         "0",
         "0",
         "0",
         "0",
         "0"
        ],
        [
         "31",
         "2017-04-01 00:00:00",
         "__Grand Total",
         "5931",
         "16",
         "0",
         "0",
         "0",
         "0",
         "0",
         "0",
         "1",
         "0",
         "0",
         "0",
         "0",
         "0",
         "0",
         "0",
         "0",
         "1",
         "0",
         "0"
        ],
        [
         "32",
         "2017-05-01 00:00:00",
         "__Grand Total",
         "6891",
         "17",
         "0",
         "0",
         "0",
         "0",
         "0",
         "0",
         "0",
         "1",
         "0",
         "0",
         "0",
         "0",
         "0",
         "0",
         "0",
         "1",
         "0",
         "0"
        ],
        [
         "33",
         "2017-06-01 00:00:00",
         "__Grand Total",
         "6380",
         "18",
         "0",
         "0",
         "0",
         "0",
         "0",
         "0",
         "0",
         "0",
         "1",
         "0",
         "0",
         "0",
         "0",
         "0",
         "0",
         "1",
         "0",
         "0"
        ],
        [
         "34",
         "2017-07-01 00:00:00",
         "__Grand Total",
         "6242",
         "19",
         "0",
         "0",
         "0",
         "0",
         "0",
         "0",
         "0",
         "0",
         "0",
         "1",
         "0",
         "0",
         "0",
         "0",
         "0",
         "0",
         "1",
         "0"
        ],
        [
         "35",
         "2017-08-01 00:00:00",
         "__Grand Total",
         "6652",
         "20",
         "0",
         "0",
         "0",
         "0",
         "0",
         "0",
         "0",
         "0",
         "0",
         "0",
         "1",
         "0",
         "0",
         "0",
         "0",
         "0",
         "1",
         "0"
        ],
        [
         "36",
         "2017-09-01 00:00:00",
         "__Grand Total",
         "6183",
         "21",
         "0",
         "0",
         "0",
         "0",
         "0",
         "0",
         "0",
         "0",
         "0",
         "0",
         "0",
         "1",
         "0",
         "0",
         "0",
         "0",
         "1",
         "0"
        ],
        [
         "37",
         "2017-10-01 00:00:00",
         "__Grand Total",
         "6093",
         "22",
         "0",
         "0",
         "0",
         "0",
         "0",
         "0",
         "0",
         "0",
         "0",
         "0",
         "0",
         "0",
         "1",
         "0",
         "0",
         "0",
         "0",
         "1"
        ],
        [
         "38",
         "2017-11-01 00:00:00",
         "__Grand Total",
         "6489",
         "23",
         "0",
         "0",
         "0",
         "0",
         "0",
         "0",
         "0",
         "0",
         "0",
         "0",
         "0",
         "0",
         "0",
         "1",
         "0",
         "0",
         "0",
         "1"
        ],
        [
         "39",
         "2017-12-01 00:00:00",
         "__Grand Total",
         "5885",
         "24",
         "0",
         "0",
         "0",
         "0",
         "0",
         "0",
         "0",
         "0",
         "0",
         "0",
         "0",
         "0",
         "0",
         "0",
         "1",
         "0",
         "0",
         "1"
        ],
        [
         "40",
         "2018-01-01 00:00:00",
         "__Grand Total",
         "5917",
         "25",
         "0",
         "0",
         "0",
         "0",
         "0",
         "0",
         "0",
         "0",
         "0",
         "0",
         "0",
         "0",
         "0",
         "0",
         "0",
         "0",
         "0",
         "0"
        ],
        [
         "41",
         "2018-02-01 00:00:00",
         "__Grand Total",
         "5229",
         "26",
         "0",
         "0",
         "0",
         "0",
         "1",
         "0",
         "0",
         "0",
         "0",
         "0",
         "0",
         "0",
         "0",
         "0",
         "0",
         "0",
         "0",
         "0"
        ],
        [
         "42",
         "2018-03-01 00:00:00",
         "__Grand Total",
         "7009",
         "27",
         "0",
         "0",
         "0",
         "0",
         "0",
         "1",
         "0",
         "0",
         "0",
         "0",
         "0",
         "0",
         "0",
         "0",
         "0",
         "0",
         "0",
         "0"
        ],
        [
         "43",
         "2018-04-01 00:00:00",
         "__Grand Total",
         "7236",
         "28",
         "0",
         "0",
         "0",
         "0",
         "0",
         "0",
         "1",
         "0",
         "0",
         "0",
         "0",
         "0",
         "0",
         "0",
         "0",
         "1",
         "0",
         "0"
        ],
        [
         "44",
         "2018-05-01 00:00:00",
         "__Grand Total",
         "7008",
         "29",
         "0",
         "0",
         "0",
         "0",
         "0",
         "0",
         "0",
         "1",
         "0",
         "0",
         "0",
         "0",
         "0",
         "0",
         "0",
         "1",
         "0",
         "0"
        ],
        [
         "45",
         "2018-06-01 00:00:00",
         "__Grand Total",
         "6261",
         "30",
         "0",
         "0",
         "0",
         "0",
         "0",
         "0",
         "0",
         "0",
         "1",
         "0",
         "0",
         "0",
         "0",
         "0",
         "0",
         "1",
         "0",
         "0"
        ],
        [
         "46",
         "2018-07-01 00:00:00",
         "__Grand Total",
         "6386",
         "31",
         "0",
         "0",
         "0",
         "0",
         "0",
         "0",
         "0",
         "0",
         "0",
         "1",
         "0",
         "0",
         "0",
         "0",
         "0",
         "0",
         "1",
         "0"
        ],
        [
         "47",
         "2018-08-01 00:00:00",
         "__Grand Total",
         "7062",
         "32",
         "0",
         "0",
         "0",
         "0",
         "0",
         "0",
         "0",
         "0",
         "0",
         "0",
         "1",
         "0",
         "0",
         "0",
         "0",
         "0",
         "1",
         "0"
        ],
        [
         "48",
         "2020-11-01 00:00:00",
         "__Grand Total",
         "6764",
         "59",
         "0",
         "0",
         "1",
         "11",
         "0",
         "0",
         "0",
         "0",
         "0",
         "0",
         "0",
         "0",
         "0",
         "1",
         "0",
         "0",
         "0",
         "1"
        ],
        [
         "49",
         "2020-12-01 00:00:00",
         "__Grand Total",
         "6464",
         "60",
         "0",
         "0",
         "1",
         "12",
         "0",
         "0",
         "0",
         "0",
         "0",
         "0",
         "0",
         "0",
         "0",
         "0",
         "1",
         "0",
         "0",
         "1"
        ]
       ],
       "shape": {
        "columns": 22,
        "rows": 1296
       }
      },
      "text/html": [
       "<div>\n",
       "<style scoped>\n",
       "    .dataframe tbody tr th:only-of-type {\n",
       "        vertical-align: middle;\n",
       "    }\n",
       "\n",
       "    .dataframe tbody tr th {\n",
       "        vertical-align: top;\n",
       "    }\n",
       "\n",
       "    .dataframe thead th {\n",
       "        text-align: right;\n",
       "    }\n",
       "</style>\n",
       "<table border=\"1\" class=\"dataframe\">\n",
       "  <thead>\n",
       "    <tr style=\"text-align: right;\">\n",
       "      <th></th>\n",
       "      <th>date</th>\n",
       "      <th>variavel</th>\n",
       "      <th>valores</th>\n",
       "      <th>periodo</th>\n",
       "      <th>Choque_Inicial</th>\n",
       "      <th>Lockdown_2021</th>\n",
       "      <th>Step_PosPandemia</th>\n",
       "      <th>Trend_PosPandemia</th>\n",
       "      <th>month_2</th>\n",
       "      <th>month_3</th>\n",
       "      <th>...</th>\n",
       "      <th>month_6</th>\n",
       "      <th>month_7</th>\n",
       "      <th>month_8</th>\n",
       "      <th>month_9</th>\n",
       "      <th>month_10</th>\n",
       "      <th>month_11</th>\n",
       "      <th>month_12</th>\n",
       "      <th>quarter_2</th>\n",
       "      <th>quarter_3</th>\n",
       "      <th>quarter_4</th>\n",
       "    </tr>\n",
       "  </thead>\n",
       "  <tbody>\n",
       "    <tr>\n",
       "      <th>0</th>\n",
       "      <td>2020-07-01</td>\n",
       "      <td>__Grand Total</td>\n",
       "      <td>5083</td>\n",
       "      <td>55</td>\n",
       "      <td>1</td>\n",
       "      <td>0</td>\n",
       "      <td>0</td>\n",
       "      <td>0</td>\n",
       "      <td>0</td>\n",
       "      <td>0</td>\n",
       "      <td>...</td>\n",
       "      <td>0</td>\n",
       "      <td>1</td>\n",
       "      <td>0</td>\n",
       "      <td>0</td>\n",
       "      <td>0</td>\n",
       "      <td>0</td>\n",
       "      <td>0</td>\n",
       "      <td>0</td>\n",
       "      <td>1</td>\n",
       "      <td>0</td>\n",
       "    </tr>\n",
       "    <tr>\n",
       "      <th>1</th>\n",
       "      <td>2018-11-01</td>\n",
       "      <td>__Grand Total</td>\n",
       "      <td>6729</td>\n",
       "      <td>35</td>\n",
       "      <td>0</td>\n",
       "      <td>0</td>\n",
       "      <td>0</td>\n",
       "      <td>0</td>\n",
       "      <td>0</td>\n",
       "      <td>0</td>\n",
       "      <td>...</td>\n",
       "      <td>0</td>\n",
       "      <td>0</td>\n",
       "      <td>0</td>\n",
       "      <td>0</td>\n",
       "      <td>0</td>\n",
       "      <td>1</td>\n",
       "      <td>0</td>\n",
       "      <td>0</td>\n",
       "      <td>0</td>\n",
       "      <td>1</td>\n",
       "    </tr>\n",
       "    <tr>\n",
       "      <th>2</th>\n",
       "      <td>2019-01-01</td>\n",
       "      <td>__Grand Total</td>\n",
       "      <td>6737</td>\n",
       "      <td>37</td>\n",
       "      <td>0</td>\n",
       "      <td>0</td>\n",
       "      <td>0</td>\n",
       "      <td>0</td>\n",
       "      <td>0</td>\n",
       "      <td>0</td>\n",
       "      <td>...</td>\n",
       "      <td>0</td>\n",
       "      <td>0</td>\n",
       "      <td>0</td>\n",
       "      <td>0</td>\n",
       "      <td>0</td>\n",
       "      <td>0</td>\n",
       "      <td>0</td>\n",
       "      <td>0</td>\n",
       "      <td>0</td>\n",
       "      <td>0</td>\n",
       "    </tr>\n",
       "    <tr>\n",
       "      <th>3</th>\n",
       "      <td>2019-02-01</td>\n",
       "      <td>__Grand Total</td>\n",
       "      <td>6202</td>\n",
       "      <td>38</td>\n",
       "      <td>0</td>\n",
       "      <td>0</td>\n",
       "      <td>0</td>\n",
       "      <td>0</td>\n",
       "      <td>1</td>\n",
       "      <td>0</td>\n",
       "      <td>...</td>\n",
       "      <td>0</td>\n",
       "      <td>0</td>\n",
       "      <td>0</td>\n",
       "      <td>0</td>\n",
       "      <td>0</td>\n",
       "      <td>0</td>\n",
       "      <td>0</td>\n",
       "      <td>0</td>\n",
       "      <td>0</td>\n",
       "      <td>0</td>\n",
       "    </tr>\n",
       "    <tr>\n",
       "      <th>4</th>\n",
       "      <td>2019-03-01</td>\n",
       "      <td>__Grand Total</td>\n",
       "      <td>5820</td>\n",
       "      <td>39</td>\n",
       "      <td>0</td>\n",
       "      <td>0</td>\n",
       "      <td>0</td>\n",
       "      <td>0</td>\n",
       "      <td>0</td>\n",
       "      <td>1</td>\n",
       "      <td>...</td>\n",
       "      <td>0</td>\n",
       "      <td>0</td>\n",
       "      <td>0</td>\n",
       "      <td>0</td>\n",
       "      <td>0</td>\n",
       "      <td>0</td>\n",
       "      <td>0</td>\n",
       "      <td>0</td>\n",
       "      <td>0</td>\n",
       "      <td>0</td>\n",
       "    </tr>\n",
       "    <tr>\n",
       "      <th>...</th>\n",
       "      <td>...</td>\n",
       "      <td>...</td>\n",
       "      <td>...</td>\n",
       "      <td>...</td>\n",
       "      <td>...</td>\n",
       "      <td>...</td>\n",
       "      <td>...</td>\n",
       "      <td>...</td>\n",
       "      <td>...</td>\n",
       "      <td>...</td>\n",
       "      <td>...</td>\n",
       "      <td>...</td>\n",
       "      <td>...</td>\n",
       "      <td>...</td>\n",
       "      <td>...</td>\n",
       "      <td>...</td>\n",
       "      <td>...</td>\n",
       "      <td>...</td>\n",
       "      <td>...</td>\n",
       "      <td>...</td>\n",
       "      <td>...</td>\n",
       "    </tr>\n",
       "    <tr>\n",
       "      <th>1291</th>\n",
       "      <td>2022-08-01</td>\n",
       "      <td>F00-F09 - Transtornos mentais orgânicos, inclu...</td>\n",
       "      <td>381</td>\n",
       "      <td>80</td>\n",
       "      <td>0</td>\n",
       "      <td>0</td>\n",
       "      <td>1</td>\n",
       "      <td>32</td>\n",
       "      <td>0</td>\n",
       "      <td>0</td>\n",
       "      <td>...</td>\n",
       "      <td>0</td>\n",
       "      <td>0</td>\n",
       "      <td>1</td>\n",
       "      <td>0</td>\n",
       "      <td>0</td>\n",
       "      <td>0</td>\n",
       "      <td>0</td>\n",
       "      <td>0</td>\n",
       "      <td>1</td>\n",
       "      <td>0</td>\n",
       "    </tr>\n",
       "    <tr>\n",
       "      <th>1292</th>\n",
       "      <td>2022-09-01</td>\n",
       "      <td>F00-F09 - Transtornos mentais orgânicos, inclu...</td>\n",
       "      <td>383</td>\n",
       "      <td>81</td>\n",
       "      <td>0</td>\n",
       "      <td>0</td>\n",
       "      <td>1</td>\n",
       "      <td>33</td>\n",
       "      <td>0</td>\n",
       "      <td>0</td>\n",
       "      <td>...</td>\n",
       "      <td>0</td>\n",
       "      <td>0</td>\n",
       "      <td>0</td>\n",
       "      <td>1</td>\n",
       "      <td>0</td>\n",
       "      <td>0</td>\n",
       "      <td>0</td>\n",
       "      <td>0</td>\n",
       "      <td>1</td>\n",
       "      <td>0</td>\n",
       "    </tr>\n",
       "    <tr>\n",
       "      <th>1293</th>\n",
       "      <td>2019-01-01</td>\n",
       "      <td>F00-F09 - Transtornos mentais orgânicos, inclu...</td>\n",
       "      <td>267</td>\n",
       "      <td>37</td>\n",
       "      <td>0</td>\n",
       "      <td>0</td>\n",
       "      <td>0</td>\n",
       "      <td>0</td>\n",
       "      <td>0</td>\n",
       "      <td>0</td>\n",
       "      <td>...</td>\n",
       "      <td>0</td>\n",
       "      <td>0</td>\n",
       "      <td>0</td>\n",
       "      <td>0</td>\n",
       "      <td>0</td>\n",
       "      <td>0</td>\n",
       "      <td>0</td>\n",
       "      <td>0</td>\n",
       "      <td>0</td>\n",
       "      <td>0</td>\n",
       "    </tr>\n",
       "    <tr>\n",
       "      <th>1294</th>\n",
       "      <td>2018-12-01</td>\n",
       "      <td>F00-F09 - Transtornos mentais orgânicos, inclu...</td>\n",
       "      <td>200</td>\n",
       "      <td>36</td>\n",
       "      <td>0</td>\n",
       "      <td>0</td>\n",
       "      <td>0</td>\n",
       "      <td>0</td>\n",
       "      <td>0</td>\n",
       "      <td>0</td>\n",
       "      <td>...</td>\n",
       "      <td>0</td>\n",
       "      <td>0</td>\n",
       "      <td>0</td>\n",
       "      <td>0</td>\n",
       "      <td>0</td>\n",
       "      <td>0</td>\n",
       "      <td>1</td>\n",
       "      <td>0</td>\n",
       "      <td>0</td>\n",
       "      <td>1</td>\n",
       "    </tr>\n",
       "    <tr>\n",
       "      <th>1295</th>\n",
       "      <td>2016-01-01</td>\n",
       "      <td>F00-F09 - Transtornos mentais orgânicos, inclu...</td>\n",
       "      <td>109</td>\n",
       "      <td>1</td>\n",
       "      <td>0</td>\n",
       "      <td>0</td>\n",
       "      <td>0</td>\n",
       "      <td>0</td>\n",
       "      <td>0</td>\n",
       "      <td>0</td>\n",
       "      <td>...</td>\n",
       "      <td>0</td>\n",
       "      <td>0</td>\n",
       "      <td>0</td>\n",
       "      <td>0</td>\n",
       "      <td>0</td>\n",
       "      <td>0</td>\n",
       "      <td>0</td>\n",
       "      <td>0</td>\n",
       "      <td>0</td>\n",
       "      <td>0</td>\n",
       "    </tr>\n",
       "  </tbody>\n",
       "</table>\n",
       "<p>1296 rows × 22 columns</p>\n",
       "</div>"
      ],
      "text/plain": [
       "           date                                           variavel  valores  \\\n",
       "0    2020-07-01                                      __Grand Total     5083   \n",
       "1    2018-11-01                                      __Grand Total     6729   \n",
       "2    2019-01-01                                      __Grand Total     6737   \n",
       "3    2019-02-01                                      __Grand Total     6202   \n",
       "4    2019-03-01                                      __Grand Total     5820   \n",
       "...         ...                                                ...      ...   \n",
       "1291 2022-08-01  F00-F09 - Transtornos mentais orgânicos, inclu...      381   \n",
       "1292 2022-09-01  F00-F09 - Transtornos mentais orgânicos, inclu...      383   \n",
       "1293 2019-01-01  F00-F09 - Transtornos mentais orgânicos, inclu...      267   \n",
       "1294 2018-12-01  F00-F09 - Transtornos mentais orgânicos, inclu...      200   \n",
       "1295 2016-01-01  F00-F09 - Transtornos mentais orgânicos, inclu...      109   \n",
       "\n",
       "      periodo  Choque_Inicial  Lockdown_2021  Step_PosPandemia  \\\n",
       "0          55               1              0                 0   \n",
       "1          35               0              0                 0   \n",
       "2          37               0              0                 0   \n",
       "3          38               0              0                 0   \n",
       "4          39               0              0                 0   \n",
       "...       ...             ...            ...               ...   \n",
       "1291       80               0              0                 1   \n",
       "1292       81               0              0                 1   \n",
       "1293       37               0              0                 0   \n",
       "1294       36               0              0                 0   \n",
       "1295        1               0              0                 0   \n",
       "\n",
       "      Trend_PosPandemia  month_2  month_3  ...  month_6  month_7  month_8  \\\n",
       "0                     0        0        0  ...        0        1        0   \n",
       "1                     0        0        0  ...        0        0        0   \n",
       "2                     0        0        0  ...        0        0        0   \n",
       "3                     0        1        0  ...        0        0        0   \n",
       "4                     0        0        1  ...        0        0        0   \n",
       "...                 ...      ...      ...  ...      ...      ...      ...   \n",
       "1291                 32        0        0  ...        0        0        1   \n",
       "1292                 33        0        0  ...        0        0        0   \n",
       "1293                  0        0        0  ...        0        0        0   \n",
       "1294                  0        0        0  ...        0        0        0   \n",
       "1295                  0        0        0  ...        0        0        0   \n",
       "\n",
       "      month_9  month_10  month_11  month_12  quarter_2  quarter_3  quarter_4  \n",
       "0           0         0         0         0          0          1          0  \n",
       "1           0         0         1         0          0          0          1  \n",
       "2           0         0         0         0          0          0          0  \n",
       "3           0         0         0         0          0          0          0  \n",
       "4           0         0         0         0          0          0          0  \n",
       "...       ...       ...       ...       ...        ...        ...        ...  \n",
       "1291        0         0         0         0          0          1          0  \n",
       "1292        1         0         0         0          0          1          0  \n",
       "1293        0         0         0         0          0          0          0  \n",
       "1294        0         0         0         1          0          0          1  \n",
       "1295        0         0         0         0          0          0          0  \n",
       "\n",
       "[1296 rows x 22 columns]"
      ]
     },
     "execution_count": 228,
     "metadata": {},
     "output_type": "execute_result"
    }
   ],
   "source": [
    "pipe = Pipeline(\n",
    "    [\n",
    "        (\"grouping\", FrequencyGroupingTransformer(frequency=PREPROCESSOR_ARGS['FrequencyDateGroup'])),\n",
    "        (\"melt\", MeltTransformer()),\n",
    "        (\"date_filter\", DateFilterTransformer(periodos_inclusivos=PREPROCESSOR_ARGS['DateRange'])),\n",
    "        (\"period_index_adder\", PeriodIndexAdder()),\n",
    "        (\"dummy_adder\", MultiDummyAdder(dummy_config=PREPROCESSOR_ARGS['DummyArgs'])),\n",
    "        (\"monthly_dummy_adder\", MonthlyDummyAdder()),\n",
    "        (\"quarterly_dummy_adder\", QuarterlyDummyAdder()),\n",
    "        (\"sorter\", DataFrameSorter(sort_by=VARIABLE_COLUMN_NAME, ascending=False)),\n",
    "    ]\n",
    ")\n",
    "\n",
    "RawDataDF = BuildDataDF(dados_brutos)\n",
    "RegressionDF = pipe.fit_transform(RawDataDF)\n",
    "RegressionDF"
   ]
  },
  {
   "cell_type": "markdown",
   "metadata": {},
   "source": [
    "# Get Period Date Map and Dummies Period Indexes"
   ]
  },
  {
   "cell_type": "code",
   "execution_count": 229,
   "metadata": {},
   "outputs": [
    {
     "data": {
      "text/plain": [
       "{Timestamp('2016-01-01 00:00:00'): 1,\n",
       " Timestamp('2016-02-01 00:00:00'): 2,\n",
       " Timestamp('2016-03-01 00:00:00'): 3,\n",
       " Timestamp('2016-04-01 00:00:00'): 4,\n",
       " Timestamp('2016-05-01 00:00:00'): 5,\n",
       " Timestamp('2016-06-01 00:00:00'): 6,\n",
       " Timestamp('2016-07-01 00:00:00'): 7,\n",
       " Timestamp('2016-08-01 00:00:00'): 8,\n",
       " Timestamp('2016-09-01 00:00:00'): 9,\n",
       " Timestamp('2016-10-01 00:00:00'): 10,\n",
       " Timestamp('2016-11-01 00:00:00'): 11,\n",
       " Timestamp('2016-12-01 00:00:00'): 12,\n",
       " Timestamp('2017-01-01 00:00:00'): 13,\n",
       " Timestamp('2017-02-01 00:00:00'): 14,\n",
       " Timestamp('2017-03-01 00:00:00'): 15,\n",
       " Timestamp('2017-04-01 00:00:00'): 16,\n",
       " Timestamp('2017-05-01 00:00:00'): 17,\n",
       " Timestamp('2017-06-01 00:00:00'): 18,\n",
       " Timestamp('2017-07-01 00:00:00'): 19,\n",
       " Timestamp('2017-08-01 00:00:00'): 20,\n",
       " Timestamp('2017-09-01 00:00:00'): 21,\n",
       " Timestamp('2017-10-01 00:00:00'): 22,\n",
       " Timestamp('2017-11-01 00:00:00'): 23,\n",
       " Timestamp('2017-12-01 00:00:00'): 24,\n",
       " Timestamp('2018-01-01 00:00:00'): 25,\n",
       " Timestamp('2018-02-01 00:00:00'): 26,\n",
       " Timestamp('2018-03-01 00:00:00'): 27,\n",
       " Timestamp('2018-04-01 00:00:00'): 28,\n",
       " Timestamp('2018-05-01 00:00:00'): 29,\n",
       " Timestamp('2018-06-01 00:00:00'): 30,\n",
       " Timestamp('2018-07-01 00:00:00'): 31,\n",
       " Timestamp('2018-08-01 00:00:00'): 32,\n",
       " Timestamp('2018-09-01 00:00:00'): 33,\n",
       " Timestamp('2018-10-01 00:00:00'): 34,\n",
       " Timestamp('2018-11-01 00:00:00'): 35,\n",
       " Timestamp('2018-12-01 00:00:00'): 36,\n",
       " Timestamp('2019-01-01 00:00:00'): 37,\n",
       " Timestamp('2019-02-01 00:00:00'): 38,\n",
       " Timestamp('2019-03-01 00:00:00'): 39,\n",
       " Timestamp('2019-04-01 00:00:00'): 40,\n",
       " Timestamp('2019-05-01 00:00:00'): 41,\n",
       " Timestamp('2019-06-01 00:00:00'): 42,\n",
       " Timestamp('2019-07-01 00:00:00'): 43,\n",
       " Timestamp('2019-08-01 00:00:00'): 44,\n",
       " Timestamp('2019-09-01 00:00:00'): 45,\n",
       " Timestamp('2019-10-01 00:00:00'): 46,\n",
       " Timestamp('2019-11-01 00:00:00'): 47,\n",
       " Timestamp('2019-12-01 00:00:00'): 48,\n",
       " Timestamp('2020-01-01 00:00:00'): 49,\n",
       " Timestamp('2020-02-01 00:00:00'): 50,\n",
       " Timestamp('2020-03-01 00:00:00'): 51,\n",
       " Timestamp('2020-04-01 00:00:00'): 52,\n",
       " Timestamp('2020-05-01 00:00:00'): 53,\n",
       " Timestamp('2020-06-01 00:00:00'): 54,\n",
       " Timestamp('2020-07-01 00:00:00'): 55,\n",
       " Timestamp('2020-08-01 00:00:00'): 56,\n",
       " Timestamp('2020-09-01 00:00:00'): 57,\n",
       " Timestamp('2020-10-01 00:00:00'): 58,\n",
       " Timestamp('2020-11-01 00:00:00'): 59,\n",
       " Timestamp('2020-12-01 00:00:00'): 60,\n",
       " Timestamp('2021-01-01 00:00:00'): 61,\n",
       " Timestamp('2021-02-01 00:00:00'): 62,\n",
       " Timestamp('2021-03-01 00:00:00'): 63,\n",
       " Timestamp('2021-04-01 00:00:00'): 64,\n",
       " Timestamp('2021-05-01 00:00:00'): 65,\n",
       " Timestamp('2021-06-01 00:00:00'): 66,\n",
       " Timestamp('2021-07-01 00:00:00'): 67,\n",
       " Timestamp('2021-08-01 00:00:00'): 68,\n",
       " Timestamp('2021-09-01 00:00:00'): 69,\n",
       " Timestamp('2021-10-01 00:00:00'): 70,\n",
       " Timestamp('2021-11-01 00:00:00'): 71,\n",
       " Timestamp('2021-12-01 00:00:00'): 72,\n",
       " Timestamp('2022-01-01 00:00:00'): 73,\n",
       " Timestamp('2022-02-01 00:00:00'): 74,\n",
       " Timestamp('2022-03-01 00:00:00'): 75,\n",
       " Timestamp('2022-04-01 00:00:00'): 76,\n",
       " Timestamp('2022-05-01 00:00:00'): 77,\n",
       " Timestamp('2022-06-01 00:00:00'): 78,\n",
       " Timestamp('2022-07-01 00:00:00'): 79,\n",
       " Timestamp('2022-08-01 00:00:00'): 80,\n",
       " Timestamp('2022-09-01 00:00:00'): 81,\n",
       " Timestamp('2022-10-01 00:00:00'): 82,\n",
       " Timestamp('2022-11-01 00:00:00'): 83,\n",
       " Timestamp('2022-12-01 00:00:00'): 84,\n",
       " Timestamp('2023-01-01 00:00:00'): 85,\n",
       " Timestamp('2023-02-01 00:00:00'): 86,\n",
       " Timestamp('2023-03-01 00:00:00'): 87,\n",
       " Timestamp('2023-04-01 00:00:00'): 88,\n",
       " Timestamp('2023-05-01 00:00:00'): 89,\n",
       " Timestamp('2023-06-01 00:00:00'): 90,\n",
       " Timestamp('2023-07-01 00:00:00'): 91,\n",
       " Timestamp('2023-08-01 00:00:00'): 92,\n",
       " Timestamp('2023-09-01 00:00:00'): 93,\n",
       " Timestamp('2023-10-01 00:00:00'): 94,\n",
       " Timestamp('2023-11-01 00:00:00'): 95,\n",
       " Timestamp('2023-12-01 00:00:00'): 96,\n",
       " Timestamp('2024-01-01 00:00:00'): 97,\n",
       " Timestamp('2024-02-01 00:00:00'): 98,\n",
       " Timestamp('2024-03-01 00:00:00'): 99,\n",
       " Timestamp('2024-04-01 00:00:00'): 100,\n",
       " Timestamp('2024-05-01 00:00:00'): 101,\n",
       " Timestamp('2024-06-01 00:00:00'): 102,\n",
       " Timestamp('2024-07-01 00:00:00'): 103,\n",
       " Timestamp('2024-08-01 00:00:00'): 104,\n",
       " Timestamp('2024-09-01 00:00:00'): 105,\n",
       " Timestamp('2024-10-01 00:00:00'): 106,\n",
       " Timestamp('2024-11-01 00:00:00'): 107,\n",
       " Timestamp('2024-12-01 00:00:00'): 108}"
      ]
     },
     "execution_count": 229,
     "metadata": {},
     "output_type": "execute_result"
    }
   ],
   "source": [
    "\n",
    "PERIOD_DATE_MAP = pipe.named_steps['period_index_adder'].period_date_mapping\n",
    "PERIOD_DATE_MAP"
   ]
  },
  {
   "cell_type": "code",
   "execution_count": 230,
   "metadata": {},
   "outputs": [],
   "source": [
    "def find_idx_from_date(target_date, args, period_date_map=PERIOD_DATE_MAP):\n",
    "    \"\"\"\n",
    "    Finds the 'periodo' (index) corresponding to a given datetime in the PERIOD_DATE_MAP.\n",
    "\n",
    "    Args:\n",
    "        target_date (str or datetime): The target date to search for (e.g., '2020-01-01').\n",
    "        period_date_map (dict): The PERIOD_DATE_MAP containing period-to-date mappings.\n",
    "\n",
    "    Returns:\n",
    "        int: The 'periodo' (index) corresponding to the target date, or None if not found.\n",
    "    \"\"\"\n",
    "    # Ensure the target_date is a datetime object and normalize to quarter-end\n",
    "    if isinstance(target_date, str):\n",
    "        target_date = pd.to_datetime(target_date)\n",
    "    if args['FrequencyDateGroup'] == 'Q' or args['FrequencyDateGroup'] == 'QE':\n",
    "        target_date = target_date + pd.offsets.QuarterEnd(0)\n",
    "\n",
    "    # Iterate through the PERIOD_DATE_MAP to find the matching period\n",
    "    for date, period in period_date_map.items():\n",
    "        if isinstance(date, str):\n",
    "            date = pd.to_datetime(date)\n",
    "        if args['FrequencyDateGroup'] == 'Q' or args['FrequencyDateGroup'] == 'QE':\n",
    "            date = date + pd.offsets.QuarterEnd(0) # Normalize to quarter-end\n",
    "        if date == target_date:\n",
    "            return period - 1\n",
    "\n",
    "    return None\n",
    "\n",
    "\n",
    "def find_date_from_idx(target_idx, args, period_date_map=PERIOD_DATE_MAP):\n",
    "    \"\"\"\n",
    "    Finds the date corresponding to a given 'periodo' (index) in the PERIOD_DATE_MAP.\n",
    "\n",
    "    Args:\n",
    "        target_idx (int): The target index to search for (e.g., 1, 2, 3).\n",
    "        period_date_map (dict): The PERIOD_DATE_MAP containing period-to-date mappings.\n",
    "\n",
    "    Returns:\n",
    "        datetime or None: The date corresponding to the target index, or None if not found.\n",
    "    \"\"\"\n",
    "    # Iterate through the PERIOD_DATE_MAP to find the matching index\n",
    "    for date, period in period_date_map.items():\n",
    "        if period == target_idx:\n",
    "            date = pd.to_datetime(date) if isinstance(date, str) else date\n",
    "            date = date + pd.offsets.QuarterEnd(0) if args['FrequencyDateGroup'] == 'Q' or args['FrequencyDateGroup'] == 'QE' else date\n",
    "            return date\n",
    "    return None"
   ]
  },
  {
   "cell_type": "code",
   "execution_count": 231,
   "metadata": {},
   "outputs": [
    {
     "name": "stdout",
     "output_type": "stream",
     "text": [
      "Choque_Inicial {'start_date': '2020-03-01', 'end_date': '2020-07-01'}\n",
      "Lockdown_2021 {'start_date': '2021-04-01', 'end_date': '2021-05-01'}\n",
      "Step_PosPandemia {'start_date': '2020-01-01', 'end_date': '2024-12-01', 'exclude_ranges': [('2020-03-01', '2020-07-01'), ('2021-04-01', '2021-05-01')], 'plot': False, 'step': True}\n",
      "Trend_PosPandemia {'start_date': '2020-01-01', 'end_date': '2024-12-01', 'exclude_ranges': [('2020-03-01', '2020-07-01'), ('2021-04-01', '2021-05-01')], 'plot': True, 'add_time_trend': True, 'keep_period_index': False, 'step': False}\n"
     ]
    },
    {
     "data": {
      "text/plain": [
       "{'Choque_Inicial': {'start_index': 50, 'end_index': 54},\n",
       " 'Lockdown_2021': {'start_index': 63, 'end_index': 64},\n",
       " 'Step_PosPandemia': {'start_index': 48, 'end_index': 107},\n",
       " 'Trend_PosPandemia': {'start_index': 48, 'end_index': 107}}"
      ]
     },
     "execution_count": 231,
     "metadata": {},
     "output_type": "execute_result"
    }
   ],
   "source": [
    "DummyIndexes = {}\n",
    "\n",
    "# Iterate over DUMMY_ARGS to calculate and store indexes\n",
    "for dummy_name, config in DUMMY_ARGS.items():\n",
    "    start_date = config.get(\"start_date\")\n",
    "    end_date = config.get(\"end_date\")\n",
    "    \n",
    "    print(dummy_name, config)\n",
    "    # Calculate indexes using find_idx_from_date\n",
    "    start_idx = find_idx_from_date(start_date, PREPROCESSOR_ARGS, PERIOD_DATE_MAP) if start_date else None\n",
    "    end_idx = find_idx_from_date(end_date, PREPROCESSOR_ARGS, PERIOD_DATE_MAP) if end_date else None\n",
    "    \n",
    "    # Store the indexes in the table\n",
    "    DummyIndexes[dummy_name] = {\n",
    "        \"start_index\": start_idx,\n",
    "        \"end_index\": end_idx\n",
    "    }\n",
    "DummyIndexes\n",
    "\n"
   ]
  },
  {
   "cell_type": "markdown",
   "metadata": {},
   "source": [
    "# Exploration\n"
   ]
  },
  {
   "cell_type": "code",
   "execution_count": 232,
   "metadata": {},
   "outputs": [
    {
     "data": {
      "application/vnd.microsoft.datawrangler.viewer.v0+json": {
       "columns": [
        {
         "name": "index",
         "rawType": "int64",
         "type": "integer"
        },
        {
         "name": "date",
         "rawType": "datetime64[ns]",
         "type": "datetime"
        },
        {
         "name": "variavel",
         "rawType": "object",
         "type": "string"
        },
        {
         "name": "valores",
         "rawType": "int64",
         "type": "integer"
        },
        {
         "name": "periodo",
         "rawType": "int64",
         "type": "integer"
        },
        {
         "name": "Choque_Inicial",
         "rawType": "int64",
         "type": "integer"
        },
        {
         "name": "Lockdown_2021",
         "rawType": "int64",
         "type": "integer"
        },
        {
         "name": "Step_PosPandemia",
         "rawType": "int64",
         "type": "integer"
        },
        {
         "name": "Trend_PosPandemia",
         "rawType": "int64",
         "type": "integer"
        },
        {
         "name": "month_2",
         "rawType": "int64",
         "type": "integer"
        },
        {
         "name": "month_3",
         "rawType": "int64",
         "type": "integer"
        },
        {
         "name": "month_4",
         "rawType": "int64",
         "type": "integer"
        },
        {
         "name": "month_5",
         "rawType": "int64",
         "type": "integer"
        },
        {
         "name": "month_6",
         "rawType": "int64",
         "type": "integer"
        },
        {
         "name": "month_7",
         "rawType": "int64",
         "type": "integer"
        },
        {
         "name": "month_8",
         "rawType": "int64",
         "type": "integer"
        },
        {
         "name": "month_9",
         "rawType": "int64",
         "type": "integer"
        },
        {
         "name": "month_10",
         "rawType": "int64",
         "type": "integer"
        },
        {
         "name": "month_11",
         "rawType": "int64",
         "type": "integer"
        },
        {
         "name": "month_12",
         "rawType": "int64",
         "type": "integer"
        },
        {
         "name": "quarter_2",
         "rawType": "int64",
         "type": "integer"
        },
        {
         "name": "quarter_3",
         "rawType": "int64",
         "type": "integer"
        },
        {
         "name": "quarter_4",
         "rawType": "int64",
         "type": "integer"
        }
       ],
       "conversionMethod": "pd.DataFrame",
       "ref": "f2a9ea5c-094e-4d73-b53d-4c7264ca0602",
       "rows": [
        [
         "0",
         "2020-07-01 00:00:00",
         "__Grand Total",
         "5083",
         "55",
         "1",
         "0",
         "0",
         "0",
         "0",
         "0",
         "0",
         "0",
         "0",
         "1",
         "0",
         "0",
         "0",
         "0",
         "0",
         "0",
         "1",
         "0"
        ],
        [
         "1",
         "2018-11-01 00:00:00",
         "__Grand Total",
         "6729",
         "35",
         "0",
         "0",
         "0",
         "0",
         "0",
         "0",
         "0",
         "0",
         "0",
         "0",
         "0",
         "0",
         "0",
         "1",
         "0",
         "0",
         "0",
         "1"
        ],
        [
         "2",
         "2019-01-01 00:00:00",
         "__Grand Total",
         "6737",
         "37",
         "0",
         "0",
         "0",
         "0",
         "0",
         "0",
         "0",
         "0",
         "0",
         "0",
         "0",
         "0",
         "0",
         "0",
         "0",
         "0",
         "0",
         "0"
        ],
        [
         "3",
         "2019-02-01 00:00:00",
         "__Grand Total",
         "6202",
         "38",
         "0",
         "0",
         "0",
         "0",
         "1",
         "0",
         "0",
         "0",
         "0",
         "0",
         "0",
         "0",
         "0",
         "0",
         "0",
         "0",
         "0",
         "0"
        ],
        [
         "4",
         "2019-03-01 00:00:00",
         "__Grand Total",
         "5820",
         "39",
         "0",
         "0",
         "0",
         "0",
         "0",
         "1",
         "0",
         "0",
         "0",
         "0",
         "0",
         "0",
         "0",
         "0",
         "0",
         "0",
         "0",
         "0"
        ],
        [
         "5",
         "2019-04-01 00:00:00",
         "__Grand Total",
         "7001",
         "40",
         "0",
         "0",
         "0",
         "0",
         "0",
         "0",
         "1",
         "0",
         "0",
         "0",
         "0",
         "0",
         "0",
         "0",
         "0",
         "1",
         "0",
         "0"
        ],
        [
         "6",
         "2019-05-01 00:00:00",
         "__Grand Total",
         "7720",
         "41",
         "0",
         "0",
         "0",
         "0",
         "0",
         "0",
         "0",
         "1",
         "0",
         "0",
         "0",
         "0",
         "0",
         "0",
         "0",
         "1",
         "0",
         "0"
        ],
        [
         "7",
         "2019-06-01 00:00:00",
         "__Grand Total",
         "6429",
         "42",
         "0",
         "0",
         "0",
         "0",
         "0",
         "0",
         "0",
         "0",
         "1",
         "0",
         "0",
         "0",
         "0",
         "0",
         "0",
         "1",
         "0",
         "0"
        ],
        [
         "8",
         "2019-07-01 00:00:00",
         "__Grand Total",
         "7416",
         "43",
         "0",
         "0",
         "0",
         "0",
         "0",
         "0",
         "0",
         "0",
         "0",
         "1",
         "0",
         "0",
         "0",
         "0",
         "0",
         "0",
         "1",
         "0"
        ],
        [
         "9",
         "2019-08-01 00:00:00",
         "__Grand Total",
         "7266",
         "44",
         "0",
         "0",
         "0",
         "0",
         "0",
         "0",
         "0",
         "0",
         "0",
         "0",
         "1",
         "0",
         "0",
         "0",
         "0",
         "0",
         "1",
         "0"
        ],
        [
         "10",
         "2019-09-01 00:00:00",
         "__Grand Total",
         "5944",
         "45",
         "0",
         "0",
         "0",
         "0",
         "0",
         "0",
         "0",
         "0",
         "0",
         "0",
         "0",
         "1",
         "0",
         "0",
         "0",
         "0",
         "1",
         "0"
        ],
        [
         "11",
         "2019-10-01 00:00:00",
         "__Grand Total",
         "6536",
         "46",
         "0",
         "0",
         "0",
         "0",
         "0",
         "0",
         "0",
         "0",
         "0",
         "0",
         "0",
         "0",
         "1",
         "0",
         "0",
         "0",
         "0",
         "1"
        ],
        [
         "12",
         "2019-11-01 00:00:00",
         "__Grand Total",
         "5133",
         "47",
         "0",
         "0",
         "0",
         "0",
         "0",
         "0",
         "0",
         "0",
         "0",
         "0",
         "0",
         "0",
         "0",
         "1",
         "0",
         "0",
         "0",
         "1"
        ],
        [
         "13",
         "2019-12-01 00:00:00",
         "__Grand Total",
         "4494",
         "48",
         "0",
         "0",
         "0",
         "0",
         "0",
         "0",
         "0",
         "0",
         "0",
         "0",
         "0",
         "0",
         "0",
         "0",
         "1",
         "0",
         "0",
         "1"
        ],
        [
         "14",
         "2020-01-01 00:00:00",
         "__Grand Total",
         "5346",
         "49",
         "0",
         "0",
         "1",
         "1",
         "0",
         "0",
         "0",
         "0",
         "0",
         "0",
         "0",
         "0",
         "0",
         "0",
         "0",
         "0",
         "0",
         "0"
        ],
        [
         "15",
         "2020-02-01 00:00:00",
         "__Grand Total",
         "4672",
         "50",
         "0",
         "0",
         "1",
         "2",
         "1",
         "0",
         "0",
         "0",
         "0",
         "0",
         "0",
         "0",
         "0",
         "0",
         "0",
         "0",
         "0",
         "0"
        ],
        [
         "16",
         "2020-03-01 00:00:00",
         "__Grand Total",
         "4154",
         "51",
         "1",
         "0",
         "0",
         "0",
         "0",
         "1",
         "0",
         "0",
         "0",
         "0",
         "0",
         "0",
         "0",
         "0",
         "0",
         "0",
         "0",
         "0"
        ],
        [
         "17",
         "2020-04-01 00:00:00",
         "__Grand Total",
         "3680",
         "52",
         "1",
         "0",
         "0",
         "0",
         "0",
         "0",
         "1",
         "0",
         "0",
         "0",
         "0",
         "0",
         "0",
         "0",
         "0",
         "1",
         "0",
         "0"
        ],
        [
         "18",
         "2020-05-01 00:00:00",
         "__Grand Total",
         "4576",
         "53",
         "1",
         "0",
         "0",
         "0",
         "0",
         "0",
         "0",
         "1",
         "0",
         "0",
         "0",
         "0",
         "0",
         "0",
         "0",
         "1",
         "0",
         "0"
        ],
        [
         "19",
         "2020-06-01 00:00:00",
         "__Grand Total",
         "5021",
         "54",
         "1",
         "0",
         "0",
         "0",
         "0",
         "0",
         "0",
         "0",
         "1",
         "0",
         "0",
         "0",
         "0",
         "0",
         "0",
         "1",
         "0",
         "0"
        ],
        [
         "20",
         "2020-08-01 00:00:00",
         "__Grand Total",
         "5679",
         "56",
         "0",
         "0",
         "1",
         "8",
         "0",
         "0",
         "0",
         "0",
         "0",
         "0",
         "1",
         "0",
         "0",
         "0",
         "0",
         "0",
         "1",
         "0"
        ],
        [
         "21",
         "2020-09-01 00:00:00",
         "__Grand Total",
         "6507",
         "57",
         "0",
         "0",
         "1",
         "9",
         "0",
         "0",
         "0",
         "0",
         "0",
         "0",
         "0",
         "1",
         "0",
         "0",
         "0",
         "0",
         "1",
         "0"
        ],
        [
         "22",
         "2020-10-01 00:00:00",
         "__Grand Total",
         "6689",
         "58",
         "0",
         "0",
         "1",
         "10",
         "0",
         "0",
         "0",
         "0",
         "0",
         "0",
         "0",
         "0",
         "1",
         "0",
         "0",
         "0",
         "0",
         "1"
        ],
        [
         "23",
         "2018-12-01 00:00:00",
         "__Grand Total",
         "5946",
         "36",
         "0",
         "0",
         "0",
         "0",
         "0",
         "0",
         "0",
         "0",
         "0",
         "0",
         "0",
         "0",
         "0",
         "0",
         "1",
         "0",
         "0",
         "1"
        ],
        [
         "24",
         "2018-10-01 00:00:00",
         "__Grand Total",
         "7819",
         "34",
         "0",
         "0",
         "0",
         "0",
         "0",
         "0",
         "0",
         "0",
         "0",
         "0",
         "0",
         "0",
         "1",
         "0",
         "0",
         "0",
         "0",
         "1"
        ],
        [
         "25",
         "2016-10-01 00:00:00",
         "__Grand Total",
         "7662",
         "10",
         "0",
         "0",
         "0",
         "0",
         "0",
         "0",
         "0",
         "0",
         "0",
         "0",
         "0",
         "0",
         "1",
         "0",
         "0",
         "0",
         "0",
         "1"
        ],
        [
         "26",
         "2018-09-01 00:00:00",
         "__Grand Total",
         "6310",
         "33",
         "0",
         "0",
         "0",
         "0",
         "0",
         "0",
         "0",
         "0",
         "0",
         "0",
         "0",
         "1",
         "0",
         "0",
         "0",
         "0",
         "1",
         "0"
        ],
        [
         "27",
         "2016-12-01 00:00:00",
         "__Grand Total",
         "5751",
         "12",
         "0",
         "0",
         "0",
         "0",
         "0",
         "0",
         "0",
         "0",
         "0",
         "0",
         "0",
         "0",
         "0",
         "0",
         "1",
         "0",
         "0",
         "1"
        ],
        [
         "28",
         "2017-01-01 00:00:00",
         "__Grand Total",
         "5507",
         "13",
         "0",
         "0",
         "0",
         "0",
         "0",
         "0",
         "0",
         "0",
         "0",
         "0",
         "0",
         "0",
         "0",
         "0",
         "0",
         "0",
         "0",
         "0"
        ],
        [
         "29",
         "2017-02-01 00:00:00",
         "__Grand Total",
         "5082",
         "14",
         "0",
         "0",
         "0",
         "0",
         "1",
         "0",
         "0",
         "0",
         "0",
         "0",
         "0",
         "0",
         "0",
         "0",
         "0",
         "0",
         "0",
         "0"
        ],
        [
         "30",
         "2017-03-01 00:00:00",
         "__Grand Total",
         "7545",
         "15",
         "0",
         "0",
         "0",
         "0",
         "0",
         "1",
         "0",
         "0",
         "0",
         "0",
         "0",
         "0",
         "0",
         "0",
         "0",
         "0",
         "0",
         "0"
        ],
        [
         "31",
         "2017-04-01 00:00:00",
         "__Grand Total",
         "5931",
         "16",
         "0",
         "0",
         "0",
         "0",
         "0",
         "0",
         "1",
         "0",
         "0",
         "0",
         "0",
         "0",
         "0",
         "0",
         "0",
         "1",
         "0",
         "0"
        ],
        [
         "32",
         "2017-05-01 00:00:00",
         "__Grand Total",
         "6891",
         "17",
         "0",
         "0",
         "0",
         "0",
         "0",
         "0",
         "0",
         "1",
         "0",
         "0",
         "0",
         "0",
         "0",
         "0",
         "0",
         "1",
         "0",
         "0"
        ],
        [
         "33",
         "2017-06-01 00:00:00",
         "__Grand Total",
         "6380",
         "18",
         "0",
         "0",
         "0",
         "0",
         "0",
         "0",
         "0",
         "0",
         "1",
         "0",
         "0",
         "0",
         "0",
         "0",
         "0",
         "1",
         "0",
         "0"
        ],
        [
         "34",
         "2017-07-01 00:00:00",
         "__Grand Total",
         "6242",
         "19",
         "0",
         "0",
         "0",
         "0",
         "0",
         "0",
         "0",
         "0",
         "0",
         "1",
         "0",
         "0",
         "0",
         "0",
         "0",
         "0",
         "1",
         "0"
        ],
        [
         "35",
         "2017-08-01 00:00:00",
         "__Grand Total",
         "6652",
         "20",
         "0",
         "0",
         "0",
         "0",
         "0",
         "0",
         "0",
         "0",
         "0",
         "0",
         "1",
         "0",
         "0",
         "0",
         "0",
         "0",
         "1",
         "0"
        ],
        [
         "36",
         "2017-09-01 00:00:00",
         "__Grand Total",
         "6183",
         "21",
         "0",
         "0",
         "0",
         "0",
         "0",
         "0",
         "0",
         "0",
         "0",
         "0",
         "0",
         "1",
         "0",
         "0",
         "0",
         "0",
         "1",
         "0"
        ],
        [
         "37",
         "2017-10-01 00:00:00",
         "__Grand Total",
         "6093",
         "22",
         "0",
         "0",
         "0",
         "0",
         "0",
         "0",
         "0",
         "0",
         "0",
         "0",
         "0",
         "0",
         "1",
         "0",
         "0",
         "0",
         "0",
         "1"
        ],
        [
         "38",
         "2017-11-01 00:00:00",
         "__Grand Total",
         "6489",
         "23",
         "0",
         "0",
         "0",
         "0",
         "0",
         "0",
         "0",
         "0",
         "0",
         "0",
         "0",
         "0",
         "0",
         "1",
         "0",
         "0",
         "0",
         "1"
        ],
        [
         "39",
         "2017-12-01 00:00:00",
         "__Grand Total",
         "5885",
         "24",
         "0",
         "0",
         "0",
         "0",
         "0",
         "0",
         "0",
         "0",
         "0",
         "0",
         "0",
         "0",
         "0",
         "0",
         "1",
         "0",
         "0",
         "1"
        ],
        [
         "40",
         "2018-01-01 00:00:00",
         "__Grand Total",
         "5917",
         "25",
         "0",
         "0",
         "0",
         "0",
         "0",
         "0",
         "0",
         "0",
         "0",
         "0",
         "0",
         "0",
         "0",
         "0",
         "0",
         "0",
         "0",
         "0"
        ],
        [
         "41",
         "2018-02-01 00:00:00",
         "__Grand Total",
         "5229",
         "26",
         "0",
         "0",
         "0",
         "0",
         "1",
         "0",
         "0",
         "0",
         "0",
         "0",
         "0",
         "0",
         "0",
         "0",
         "0",
         "0",
         "0",
         "0"
        ],
        [
         "42",
         "2018-03-01 00:00:00",
         "__Grand Total",
         "7009",
         "27",
         "0",
         "0",
         "0",
         "0",
         "0",
         "1",
         "0",
         "0",
         "0",
         "0",
         "0",
         "0",
         "0",
         "0",
         "0",
         "0",
         "0",
         "0"
        ],
        [
         "43",
         "2018-04-01 00:00:00",
         "__Grand Total",
         "7236",
         "28",
         "0",
         "0",
         "0",
         "0",
         "0",
         "0",
         "1",
         "0",
         "0",
         "0",
         "0",
         "0",
         "0",
         "0",
         "0",
         "1",
         "0",
         "0"
        ],
        [
         "44",
         "2018-05-01 00:00:00",
         "__Grand Total",
         "7008",
         "29",
         "0",
         "0",
         "0",
         "0",
         "0",
         "0",
         "0",
         "1",
         "0",
         "0",
         "0",
         "0",
         "0",
         "0",
         "0",
         "1",
         "0",
         "0"
        ],
        [
         "45",
         "2018-06-01 00:00:00",
         "__Grand Total",
         "6261",
         "30",
         "0",
         "0",
         "0",
         "0",
         "0",
         "0",
         "0",
         "0",
         "1",
         "0",
         "0",
         "0",
         "0",
         "0",
         "0",
         "1",
         "0",
         "0"
        ],
        [
         "46",
         "2018-07-01 00:00:00",
         "__Grand Total",
         "6386",
         "31",
         "0",
         "0",
         "0",
         "0",
         "0",
         "0",
         "0",
         "0",
         "0",
         "1",
         "0",
         "0",
         "0",
         "0",
         "0",
         "0",
         "1",
         "0"
        ],
        [
         "47",
         "2018-08-01 00:00:00",
         "__Grand Total",
         "7062",
         "32",
         "0",
         "0",
         "0",
         "0",
         "0",
         "0",
         "0",
         "0",
         "0",
         "0",
         "1",
         "0",
         "0",
         "0",
         "0",
         "0",
         "1",
         "0"
        ],
        [
         "48",
         "2020-11-01 00:00:00",
         "__Grand Total",
         "6764",
         "59",
         "0",
         "0",
         "1",
         "11",
         "0",
         "0",
         "0",
         "0",
         "0",
         "0",
         "0",
         "0",
         "0",
         "1",
         "0",
         "0",
         "0",
         "1"
        ],
        [
         "49",
         "2020-12-01 00:00:00",
         "__Grand Total",
         "6464",
         "60",
         "0",
         "0",
         "1",
         "12",
         "0",
         "0",
         "0",
         "0",
         "0",
         "0",
         "0",
         "0",
         "0",
         "0",
         "1",
         "0",
         "0",
         "1"
        ]
       ],
       "shape": {
        "columns": 22,
        "rows": 1296
       }
      },
      "text/html": [
       "<div>\n",
       "<style scoped>\n",
       "    .dataframe tbody tr th:only-of-type {\n",
       "        vertical-align: middle;\n",
       "    }\n",
       "\n",
       "    .dataframe tbody tr th {\n",
       "        vertical-align: top;\n",
       "    }\n",
       "\n",
       "    .dataframe thead th {\n",
       "        text-align: right;\n",
       "    }\n",
       "</style>\n",
       "<table border=\"1\" class=\"dataframe\">\n",
       "  <thead>\n",
       "    <tr style=\"text-align: right;\">\n",
       "      <th></th>\n",
       "      <th>date</th>\n",
       "      <th>variavel</th>\n",
       "      <th>valores</th>\n",
       "      <th>periodo</th>\n",
       "      <th>Choque_Inicial</th>\n",
       "      <th>Lockdown_2021</th>\n",
       "      <th>Step_PosPandemia</th>\n",
       "      <th>Trend_PosPandemia</th>\n",
       "      <th>month_2</th>\n",
       "      <th>month_3</th>\n",
       "      <th>...</th>\n",
       "      <th>month_6</th>\n",
       "      <th>month_7</th>\n",
       "      <th>month_8</th>\n",
       "      <th>month_9</th>\n",
       "      <th>month_10</th>\n",
       "      <th>month_11</th>\n",
       "      <th>month_12</th>\n",
       "      <th>quarter_2</th>\n",
       "      <th>quarter_3</th>\n",
       "      <th>quarter_4</th>\n",
       "    </tr>\n",
       "  </thead>\n",
       "  <tbody>\n",
       "    <tr>\n",
       "      <th>0</th>\n",
       "      <td>2020-07-01</td>\n",
       "      <td>__Grand Total</td>\n",
       "      <td>5083</td>\n",
       "      <td>55</td>\n",
       "      <td>1</td>\n",
       "      <td>0</td>\n",
       "      <td>0</td>\n",
       "      <td>0</td>\n",
       "      <td>0</td>\n",
       "      <td>0</td>\n",
       "      <td>...</td>\n",
       "      <td>0</td>\n",
       "      <td>1</td>\n",
       "      <td>0</td>\n",
       "      <td>0</td>\n",
       "      <td>0</td>\n",
       "      <td>0</td>\n",
       "      <td>0</td>\n",
       "      <td>0</td>\n",
       "      <td>1</td>\n",
       "      <td>0</td>\n",
       "    </tr>\n",
       "    <tr>\n",
       "      <th>1</th>\n",
       "      <td>2018-11-01</td>\n",
       "      <td>__Grand Total</td>\n",
       "      <td>6729</td>\n",
       "      <td>35</td>\n",
       "      <td>0</td>\n",
       "      <td>0</td>\n",
       "      <td>0</td>\n",
       "      <td>0</td>\n",
       "      <td>0</td>\n",
       "      <td>0</td>\n",
       "      <td>...</td>\n",
       "      <td>0</td>\n",
       "      <td>0</td>\n",
       "      <td>0</td>\n",
       "      <td>0</td>\n",
       "      <td>0</td>\n",
       "      <td>1</td>\n",
       "      <td>0</td>\n",
       "      <td>0</td>\n",
       "      <td>0</td>\n",
       "      <td>1</td>\n",
       "    </tr>\n",
       "    <tr>\n",
       "      <th>2</th>\n",
       "      <td>2019-01-01</td>\n",
       "      <td>__Grand Total</td>\n",
       "      <td>6737</td>\n",
       "      <td>37</td>\n",
       "      <td>0</td>\n",
       "      <td>0</td>\n",
       "      <td>0</td>\n",
       "      <td>0</td>\n",
       "      <td>0</td>\n",
       "      <td>0</td>\n",
       "      <td>...</td>\n",
       "      <td>0</td>\n",
       "      <td>0</td>\n",
       "      <td>0</td>\n",
       "      <td>0</td>\n",
       "      <td>0</td>\n",
       "      <td>0</td>\n",
       "      <td>0</td>\n",
       "      <td>0</td>\n",
       "      <td>0</td>\n",
       "      <td>0</td>\n",
       "    </tr>\n",
       "    <tr>\n",
       "      <th>3</th>\n",
       "      <td>2019-02-01</td>\n",
       "      <td>__Grand Total</td>\n",
       "      <td>6202</td>\n",
       "      <td>38</td>\n",
       "      <td>0</td>\n",
       "      <td>0</td>\n",
       "      <td>0</td>\n",
       "      <td>0</td>\n",
       "      <td>1</td>\n",
       "      <td>0</td>\n",
       "      <td>...</td>\n",
       "      <td>0</td>\n",
       "      <td>0</td>\n",
       "      <td>0</td>\n",
       "      <td>0</td>\n",
       "      <td>0</td>\n",
       "      <td>0</td>\n",
       "      <td>0</td>\n",
       "      <td>0</td>\n",
       "      <td>0</td>\n",
       "      <td>0</td>\n",
       "    </tr>\n",
       "    <tr>\n",
       "      <th>4</th>\n",
       "      <td>2019-03-01</td>\n",
       "      <td>__Grand Total</td>\n",
       "      <td>5820</td>\n",
       "      <td>39</td>\n",
       "      <td>0</td>\n",
       "      <td>0</td>\n",
       "      <td>0</td>\n",
       "      <td>0</td>\n",
       "      <td>0</td>\n",
       "      <td>1</td>\n",
       "      <td>...</td>\n",
       "      <td>0</td>\n",
       "      <td>0</td>\n",
       "      <td>0</td>\n",
       "      <td>0</td>\n",
       "      <td>0</td>\n",
       "      <td>0</td>\n",
       "      <td>0</td>\n",
       "      <td>0</td>\n",
       "      <td>0</td>\n",
       "      <td>0</td>\n",
       "    </tr>\n",
       "    <tr>\n",
       "      <th>...</th>\n",
       "      <td>...</td>\n",
       "      <td>...</td>\n",
       "      <td>...</td>\n",
       "      <td>...</td>\n",
       "      <td>...</td>\n",
       "      <td>...</td>\n",
       "      <td>...</td>\n",
       "      <td>...</td>\n",
       "      <td>...</td>\n",
       "      <td>...</td>\n",
       "      <td>...</td>\n",
       "      <td>...</td>\n",
       "      <td>...</td>\n",
       "      <td>...</td>\n",
       "      <td>...</td>\n",
       "      <td>...</td>\n",
       "      <td>...</td>\n",
       "      <td>...</td>\n",
       "      <td>...</td>\n",
       "      <td>...</td>\n",
       "      <td>...</td>\n",
       "    </tr>\n",
       "    <tr>\n",
       "      <th>1291</th>\n",
       "      <td>2022-08-01</td>\n",
       "      <td>F00-F09 - Transtornos mentais orgânicos, inclu...</td>\n",
       "      <td>381</td>\n",
       "      <td>80</td>\n",
       "      <td>0</td>\n",
       "      <td>0</td>\n",
       "      <td>1</td>\n",
       "      <td>32</td>\n",
       "      <td>0</td>\n",
       "      <td>0</td>\n",
       "      <td>...</td>\n",
       "      <td>0</td>\n",
       "      <td>0</td>\n",
       "      <td>1</td>\n",
       "      <td>0</td>\n",
       "      <td>0</td>\n",
       "      <td>0</td>\n",
       "      <td>0</td>\n",
       "      <td>0</td>\n",
       "      <td>1</td>\n",
       "      <td>0</td>\n",
       "    </tr>\n",
       "    <tr>\n",
       "      <th>1292</th>\n",
       "      <td>2022-09-01</td>\n",
       "      <td>F00-F09 - Transtornos mentais orgânicos, inclu...</td>\n",
       "      <td>383</td>\n",
       "      <td>81</td>\n",
       "      <td>0</td>\n",
       "      <td>0</td>\n",
       "      <td>1</td>\n",
       "      <td>33</td>\n",
       "      <td>0</td>\n",
       "      <td>0</td>\n",
       "      <td>...</td>\n",
       "      <td>0</td>\n",
       "      <td>0</td>\n",
       "      <td>0</td>\n",
       "      <td>1</td>\n",
       "      <td>0</td>\n",
       "      <td>0</td>\n",
       "      <td>0</td>\n",
       "      <td>0</td>\n",
       "      <td>1</td>\n",
       "      <td>0</td>\n",
       "    </tr>\n",
       "    <tr>\n",
       "      <th>1293</th>\n",
       "      <td>2019-01-01</td>\n",
       "      <td>F00-F09 - Transtornos mentais orgânicos, inclu...</td>\n",
       "      <td>267</td>\n",
       "      <td>37</td>\n",
       "      <td>0</td>\n",
       "      <td>0</td>\n",
       "      <td>0</td>\n",
       "      <td>0</td>\n",
       "      <td>0</td>\n",
       "      <td>0</td>\n",
       "      <td>...</td>\n",
       "      <td>0</td>\n",
       "      <td>0</td>\n",
       "      <td>0</td>\n",
       "      <td>0</td>\n",
       "      <td>0</td>\n",
       "      <td>0</td>\n",
       "      <td>0</td>\n",
       "      <td>0</td>\n",
       "      <td>0</td>\n",
       "      <td>0</td>\n",
       "    </tr>\n",
       "    <tr>\n",
       "      <th>1294</th>\n",
       "      <td>2018-12-01</td>\n",
       "      <td>F00-F09 - Transtornos mentais orgânicos, inclu...</td>\n",
       "      <td>200</td>\n",
       "      <td>36</td>\n",
       "      <td>0</td>\n",
       "      <td>0</td>\n",
       "      <td>0</td>\n",
       "      <td>0</td>\n",
       "      <td>0</td>\n",
       "      <td>0</td>\n",
       "      <td>...</td>\n",
       "      <td>0</td>\n",
       "      <td>0</td>\n",
       "      <td>0</td>\n",
       "      <td>0</td>\n",
       "      <td>0</td>\n",
       "      <td>0</td>\n",
       "      <td>1</td>\n",
       "      <td>0</td>\n",
       "      <td>0</td>\n",
       "      <td>1</td>\n",
       "    </tr>\n",
       "    <tr>\n",
       "      <th>1295</th>\n",
       "      <td>2016-01-01</td>\n",
       "      <td>F00-F09 - Transtornos mentais orgânicos, inclu...</td>\n",
       "      <td>109</td>\n",
       "      <td>1</td>\n",
       "      <td>0</td>\n",
       "      <td>0</td>\n",
       "      <td>0</td>\n",
       "      <td>0</td>\n",
       "      <td>0</td>\n",
       "      <td>0</td>\n",
       "      <td>...</td>\n",
       "      <td>0</td>\n",
       "      <td>0</td>\n",
       "      <td>0</td>\n",
       "      <td>0</td>\n",
       "      <td>0</td>\n",
       "      <td>0</td>\n",
       "      <td>0</td>\n",
       "      <td>0</td>\n",
       "      <td>0</td>\n",
       "      <td>0</td>\n",
       "    </tr>\n",
       "  </tbody>\n",
       "</table>\n",
       "<p>1296 rows × 22 columns</p>\n",
       "</div>"
      ],
      "text/plain": [
       "           date                                           variavel  valores  \\\n",
       "0    2020-07-01                                      __Grand Total     5083   \n",
       "1    2018-11-01                                      __Grand Total     6729   \n",
       "2    2019-01-01                                      __Grand Total     6737   \n",
       "3    2019-02-01                                      __Grand Total     6202   \n",
       "4    2019-03-01                                      __Grand Total     5820   \n",
       "...         ...                                                ...      ...   \n",
       "1291 2022-08-01  F00-F09 - Transtornos mentais orgânicos, inclu...      381   \n",
       "1292 2022-09-01  F00-F09 - Transtornos mentais orgânicos, inclu...      383   \n",
       "1293 2019-01-01  F00-F09 - Transtornos mentais orgânicos, inclu...      267   \n",
       "1294 2018-12-01  F00-F09 - Transtornos mentais orgânicos, inclu...      200   \n",
       "1295 2016-01-01  F00-F09 - Transtornos mentais orgânicos, inclu...      109   \n",
       "\n",
       "      periodo  Choque_Inicial  Lockdown_2021  Step_PosPandemia  \\\n",
       "0          55               1              0                 0   \n",
       "1          35               0              0                 0   \n",
       "2          37               0              0                 0   \n",
       "3          38               0              0                 0   \n",
       "4          39               0              0                 0   \n",
       "...       ...             ...            ...               ...   \n",
       "1291       80               0              0                 1   \n",
       "1292       81               0              0                 1   \n",
       "1293       37               0              0                 0   \n",
       "1294       36               0              0                 0   \n",
       "1295        1               0              0                 0   \n",
       "\n",
       "      Trend_PosPandemia  month_2  month_3  ...  month_6  month_7  month_8  \\\n",
       "0                     0        0        0  ...        0        1        0   \n",
       "1                     0        0        0  ...        0        0        0   \n",
       "2                     0        0        0  ...        0        0        0   \n",
       "3                     0        1        0  ...        0        0        0   \n",
       "4                     0        0        1  ...        0        0        0   \n",
       "...                 ...      ...      ...  ...      ...      ...      ...   \n",
       "1291                 32        0        0  ...        0        0        1   \n",
       "1292                 33        0        0  ...        0        0        0   \n",
       "1293                  0        0        0  ...        0        0        0   \n",
       "1294                  0        0        0  ...        0        0        0   \n",
       "1295                  0        0        0  ...        0        0        0   \n",
       "\n",
       "      month_9  month_10  month_11  month_12  quarter_2  quarter_3  quarter_4  \n",
       "0           0         0         0         0          0          1          0  \n",
       "1           0         0         1         0          0          0          1  \n",
       "2           0         0         0         0          0          0          0  \n",
       "3           0         0         0         0          0          0          0  \n",
       "4           0         0         0         0          0          0          0  \n",
       "...       ...       ...       ...       ...        ...        ...        ...  \n",
       "1291        0         0         0         0          0          1          0  \n",
       "1292        1         0         0         0          0          1          0  \n",
       "1293        0         0         0         0          0          0          0  \n",
       "1294        0         0         0         1          0          0          1  \n",
       "1295        0         0         0         0          0          0          0  \n",
       "\n",
       "[1296 rows x 22 columns]"
      ]
     },
     "execution_count": 232,
     "metadata": {},
     "output_type": "execute_result"
    }
   ],
   "source": [
    "main_regrdf = RegressionDF\n",
    "main_regrdf[VARIABLE_COLUMN_NAME]\n",
    "main_regrdf"
   ]
  },
  {
   "cell_type": "code",
   "execution_count": 233,
   "metadata": {},
   "outputs": [],
   "source": [
    "from statsmodels.api import OLS\n",
    "from statsmodels.tools.tools import add_constant\n",
    "import pandas as pd\n",
    "from scipy.stats import f\n",
    "\n",
    "def chow_test(data, split_point, dependent_var, independent_vars):\n",
    "    \"\"\"\n",
    "    Realiza o teste de Chow para verificar mudanças estruturais em um modelo de regressão.\n",
    "\n",
    "    Args:\n",
    "        data (pd.DataFrame): DataFrame contendo os dados.\n",
    "        split_point (int): Ponto de divisão para o teste de Chow.\n",
    "        dependent_var (str): Nome da variável dependente.\n",
    "        independent_vars (list): Lista de nomes das variáveis independentes.\n",
    "\n",
    "    Returns:\n",
    "        dict: Resultados do teste de Chow contendo os valores F e p.\n",
    "    \"\"\"\n",
    "    # Dividir os dados em dois subconjuntos\n",
    "    data1 = data[data['periodo'] <= split_point]\n",
    "    data2 = data[data['periodo'] > split_point]\n",
    "\n",
    "    # Ajustar os modelos para cada subconjunto\n",
    "    X1 = add_constant(data1[independent_vars])\n",
    "    y1 = data1[dependent_var]\n",
    "    model1 = OLS(y1, X1).fit()\n",
    "\n",
    "    X2 = add_constant(data2[independent_vars])\n",
    "    y2 = data2[dependent_var]\n",
    "    model2 = OLS(y2, X2).fit()\n",
    "\n",
    "    # Ajustar o modelo para o conjunto completo\n",
    "    X_full = add_constant(data[independent_vars])\n",
    "    y_full = data[dependent_var]\n",
    "    model_full = OLS(y_full, X_full).fit()\n",
    "\n",
    "    # Calcular os graus de liberdade\n",
    "    k = len(independent_vars) + 1  # Número de parâmetros (incluindo o intercepto)\n",
    "    n1 = len(data1)\n",
    "    n2 = len(data2)\n",
    "    n = n1 + n2\n",
    "\n",
    "    # Calcular a soma dos quadrados dos resíduos\n",
    "    RSS1 = model1.ssr\n",
    "    RSS2 = model2.ssr\n",
    "    RSS_full = model_full.ssr\n",
    "\n",
    "    # Calcular o valor F\n",
    "    F = ((RSS_full - (RSS1 + RSS2)) / k) / ((RSS1 + RSS2) / (n - 2 * k))\n",
    "\n",
    "    # Calcular o p-valor\n",
    "    p_value = 1 - f.cdf(F, k, n - 2 * k)\n",
    "\n",
    "    return {\"F-statistic\": F, \"p-value\": p_value}\n",
    "\n",
    "\n",
    "if False:\n",
    "    chow_results = {}\n",
    "    split_point = find_idx_from_date(POS_PANDEMIA_START_DATE, PREPROCESSOR_ARGS)  # Exemplo: ponto de divisão para o teste de Chow\n",
    "    dependent_var = DEPENDENT_VAR\n",
    "    independent_vars = [INDEPENDENT_VAR] #+ [key for key in DUMMY_ARGS.keys()]\n",
    "    for variable in main_regrdf[VARIABLE_COLUMN_NAME].unique():\n",
    "        variable_data = main_regrdf[main_regrdf[VARIABLE_COLUMN_NAME] == variable]\n",
    "        result = chow_test(variable_data, split_point, dependent_var, independent_vars)\n",
    "        chow_results[variable] = result\n",
    "    # Converter os resultados em um DataFrame para visualização\n",
    "    chow_results_df = pd.DataFrame(chow_results).T\n",
    "    chow_results_df.columns = [\"F-statistic\", \"p-value\"]\n",
    "    chow_results_df['p-value'] = chow_results_df['p-value'].round(8)\n",
    "    print(chow_results_df)"
   ]
  },
  {
   "cell_type": "code",
   "execution_count": 234,
   "metadata": {},
   "outputs": [
    {
     "name": "stdout",
     "output_type": "stream",
     "text": [
      "[  1.          51.50037122 108.        ]\n",
      "2016-01-01 00:00:00\n",
      "2020-04-01 00:00:00\n",
      "2024-12-01 00:00:00\n"
     ]
    }
   ],
   "source": [
    "### TODO: make the knots per variable\n",
    "### TODO: remove the bumps/step_dummies before testing\n",
    "\n",
    "pwmodel = pwlf.PiecewiseLinFit(main_regrdf[INDEPENDENT_VAR].values,main_regrdf[DEPENDENT_VAR].values)\n",
    "knots = pwmodel.fit(2)\n",
    "print(knots)\n",
    "for knot in knots:\n",
    "    print(find_date_from_idx(np.round(knot), PREPROCESSOR_ARGS, PERIOD_DATE_MAP))"
   ]
  },
  {
   "cell_type": "code",
   "execution_count": 235,
   "metadata": {},
   "outputs": [
    {
     "data": {
      "application/vnd.microsoft.datawrangler.viewer.v0+json": {
       "columns": [
        {
         "name": "index",
         "rawType": "object",
         "type": "string"
        },
        {
         "name": "Heteroscedasticity (Breusch-Pagan)",
         "rawType": "float64",
         "type": "float"
        },
        {
         "name": "Normality (Shapiro-Wilk)",
         "rawType": "float64",
         "type": "float"
        },
        {
         "name": "Normality (Jarque-Bera)",
         "rawType": "float64",
         "type": "float"
        },
        {
         "name": "Normality (D'Agostino)",
         "rawType": "float64",
         "type": "float"
        },
        {
         "name": "Autocorrelation (Durbin-Watson)",
         "rawType": "float64",
         "type": "float"
        },
        {
         "name": "Autocorrelation (Ljung-Box)",
         "rawType": "float64",
         "type": "float"
        }
       ],
       "conversionMethod": "pd.DataFrame",
       "ref": "b82632c3-7f62-4e11-9824-ab791e9b5fee",
       "rows": [
        [
         "__Grand Total",
         "0.03802717909833086",
         "0.8744157519731339",
         "0.5491811384473704",
         "0.4318564967031028",
         "0.45448612322930104",
         "9.372198801821908e-74"
        ],
        [
         "_Atendimentos na APS (exceto saúde mental)",
         "0.31082964765951193",
         "8.302605539685276e-05",
         "8.488991229460839e-13",
         "4.765796232690223e-07",
         "1.0988800738077122",
         "3.5130558619536454e-14"
        ],
        [
         "F99-F99 - Transtorno mental não especificado",
         "0.005847482822488998",
         "2.1787676596876013e-06",
         "1.5131486905964842e-06",
         "2.3132166123909853e-05",
         "0.41790984095219286",
         "2.3630091038827045e-62"
        ],
        [
         "F90-F98 - Transtornos do comportamento e transtornos emocionais que aparecem habitualmente durante a infância ou a adolescência",
         "0.00047732628712926115",
         "0.20712103984911934",
         "0.07153962317526792",
         "0.07390850826365247",
         "0.5068931520278331",
         "1.2105288445561651e-45"
        ],
        [
         "F80-F89 - Transtornos do desenvolvimento psicológico",
         "1.6531577531987933e-05",
         "0.22413501005840242",
         "0.3713773203185001",
         "0.3017817535844179",
         "0.42755619222352603",
         "1.7602897813596515e-86"
        ],
        [
         "F70-F79 - Retardo mental",
         "0.014253983561129453",
         "0.5529572629799806",
         "0.6662058070607202",
         "0.6693367186198604",
         "0.4932654785342486",
         "2.569555978739996e-69"
        ],
        [
         "F60-F69 - Transtornos da personalidade e do comportamento do adulto",
         "0.034999689257847494",
         "0.0034237963684788444",
         "0.019395439400111854",
         "0.01624441760771591",
         "1.045592955308477",
         "1.7794675643472588e-07"
        ],
        [
         "F50-F59 - Síndromes comportamentais associadas a disfunções fisiológicas e a fatores físicos",
         "0.9329174343760455",
         "0.06984654449980263",
         "0.004147642967728927",
         "0.006234203591249034",
         "1.1846987235901452",
         "1.0495083520172295e-05"
        ],
        [
         "F40-F48 - Transtornos neuróticos, transtornos relacionados com o \"stress\" e transtornos somatoformes",
         "0.048686138213780886",
         "0.36142258463766685",
         "0.22918134628116169",
         "0.1889178102812865",
         "0.5255093663515746",
         "1.6004486084137745e-72"
        ],
        [
         "F30-F39 - Transtornos do humor [afetivos]",
         "0.3203746303038389",
         "0.9372998687551384",
         "0.7164580118472441",
         "0.5634862319003964",
         "0.4220676810979262",
         "1.791495239642463e-64"
        ],
        [
         "F20-F29 - Esquizofrenia, transtornos esquizotípicos e transtornos delirantes",
         "0.011537465395152895",
         "0.6380543386631559",
         "0.8718033232663412",
         "0.7248577764797495",
         "0.3546724734353149",
         "3.23825407420882e-92"
        ],
        [
         "F00-F09 - Transtornos mentais orgânicos, inclusive os sintomáticos",
         "0.1474274988261056",
         "0.032837048717068426",
         "0.0037149962209819527",
         "0.017456592327958584",
         "0.7583337024880115",
         "2.1322501815217662e-36"
        ]
       ],
       "shape": {
        "columns": 6,
        "rows": 12
       }
      },
      "text/html": [
       "<div>\n",
       "<style scoped>\n",
       "    .dataframe tbody tr th:only-of-type {\n",
       "        vertical-align: middle;\n",
       "    }\n",
       "\n",
       "    .dataframe tbody tr th {\n",
       "        vertical-align: top;\n",
       "    }\n",
       "\n",
       "    .dataframe thead th {\n",
       "        text-align: right;\n",
       "    }\n",
       "</style>\n",
       "<table border=\"1\" class=\"dataframe\">\n",
       "  <thead>\n",
       "    <tr style=\"text-align: right;\">\n",
       "      <th></th>\n",
       "      <th>Heteroscedasticity (Breusch-Pagan)</th>\n",
       "      <th>Normality (Shapiro-Wilk)</th>\n",
       "      <th>Normality (Jarque-Bera)</th>\n",
       "      <th>Normality (D'Agostino)</th>\n",
       "      <th>Autocorrelation (Durbin-Watson)</th>\n",
       "      <th>Autocorrelation (Ljung-Box)</th>\n",
       "    </tr>\n",
       "  </thead>\n",
       "  <tbody>\n",
       "    <tr>\n",
       "      <th>__Grand Total</th>\n",
       "      <td>0.038027</td>\n",
       "      <td>0.874416</td>\n",
       "      <td>5.491811e-01</td>\n",
       "      <td>4.318565e-01</td>\n",
       "      <td>0.454486</td>\n",
       "      <td>9.372199e-74</td>\n",
       "    </tr>\n",
       "    <tr>\n",
       "      <th>_Atendimentos na APS (exceto saúde mental)</th>\n",
       "      <td>0.310830</td>\n",
       "      <td>0.000083</td>\n",
       "      <td>8.488991e-13</td>\n",
       "      <td>4.765796e-07</td>\n",
       "      <td>1.098880</td>\n",
       "      <td>3.513056e-14</td>\n",
       "    </tr>\n",
       "    <tr>\n",
       "      <th>F99-F99 - Transtorno mental não especificado</th>\n",
       "      <td>0.005847</td>\n",
       "      <td>0.000002</td>\n",
       "      <td>1.513149e-06</td>\n",
       "      <td>2.313217e-05</td>\n",
       "      <td>0.417910</td>\n",
       "      <td>2.363009e-62</td>\n",
       "    </tr>\n",
       "    <tr>\n",
       "      <th>F90-F98 - Transtornos do comportamento e transtornos emocionais que aparecem habitualmente durante a infância ou a adolescência</th>\n",
       "      <td>0.000477</td>\n",
       "      <td>0.207121</td>\n",
       "      <td>7.153962e-02</td>\n",
       "      <td>7.390851e-02</td>\n",
       "      <td>0.506893</td>\n",
       "      <td>1.210529e-45</td>\n",
       "    </tr>\n",
       "    <tr>\n",
       "      <th>F80-F89 - Transtornos do desenvolvimento psicológico</th>\n",
       "      <td>0.000017</td>\n",
       "      <td>0.224135</td>\n",
       "      <td>3.713773e-01</td>\n",
       "      <td>3.017818e-01</td>\n",
       "      <td>0.427556</td>\n",
       "      <td>1.760290e-86</td>\n",
       "    </tr>\n",
       "    <tr>\n",
       "      <th>F70-F79 - Retardo mental</th>\n",
       "      <td>0.014254</td>\n",
       "      <td>0.552957</td>\n",
       "      <td>6.662058e-01</td>\n",
       "      <td>6.693367e-01</td>\n",
       "      <td>0.493265</td>\n",
       "      <td>2.569556e-69</td>\n",
       "    </tr>\n",
       "    <tr>\n",
       "      <th>F60-F69 - Transtornos da personalidade e do comportamento do adulto</th>\n",
       "      <td>0.035000</td>\n",
       "      <td>0.003424</td>\n",
       "      <td>1.939544e-02</td>\n",
       "      <td>1.624442e-02</td>\n",
       "      <td>1.045593</td>\n",
       "      <td>1.779468e-07</td>\n",
       "    </tr>\n",
       "    <tr>\n",
       "      <th>F50-F59 - Síndromes comportamentais associadas a disfunções fisiológicas e a fatores físicos</th>\n",
       "      <td>0.932917</td>\n",
       "      <td>0.069847</td>\n",
       "      <td>4.147643e-03</td>\n",
       "      <td>6.234204e-03</td>\n",
       "      <td>1.184699</td>\n",
       "      <td>1.049508e-05</td>\n",
       "    </tr>\n",
       "    <tr>\n",
       "      <th>F40-F48 - Transtornos neuróticos, transtornos relacionados com o \"stress\" e transtornos somatoformes</th>\n",
       "      <td>0.048686</td>\n",
       "      <td>0.361423</td>\n",
       "      <td>2.291813e-01</td>\n",
       "      <td>1.889178e-01</td>\n",
       "      <td>0.525509</td>\n",
       "      <td>1.600449e-72</td>\n",
       "    </tr>\n",
       "    <tr>\n",
       "      <th>F30-F39 - Transtornos do humor [afetivos]</th>\n",
       "      <td>0.320375</td>\n",
       "      <td>0.937300</td>\n",
       "      <td>7.164580e-01</td>\n",
       "      <td>5.634862e-01</td>\n",
       "      <td>0.422068</td>\n",
       "      <td>1.791495e-64</td>\n",
       "    </tr>\n",
       "    <tr>\n",
       "      <th>F20-F29 - Esquizofrenia, transtornos esquizotípicos e transtornos delirantes</th>\n",
       "      <td>0.011537</td>\n",
       "      <td>0.638054</td>\n",
       "      <td>8.718033e-01</td>\n",
       "      <td>7.248578e-01</td>\n",
       "      <td>0.354672</td>\n",
       "      <td>3.238254e-92</td>\n",
       "    </tr>\n",
       "    <tr>\n",
       "      <th>F00-F09 - Transtornos mentais orgânicos, inclusive os sintomáticos</th>\n",
       "      <td>0.147427</td>\n",
       "      <td>0.032837</td>\n",
       "      <td>3.714996e-03</td>\n",
       "      <td>1.745659e-02</td>\n",
       "      <td>0.758334</td>\n",
       "      <td>2.132250e-36</td>\n",
       "    </tr>\n",
       "  </tbody>\n",
       "</table>\n",
       "</div>"
      ],
      "text/plain": [
       "                                                    Heteroscedasticity (Breusch-Pagan)  \\\n",
       "__Grand Total                                                                 0.038027   \n",
       "_Atendimentos na APS (exceto saúde mental)                                    0.310830   \n",
       "F99-F99 - Transtorno mental não especificado                                  0.005847   \n",
       "F90-F98 - Transtornos do comportamento e transt...                            0.000477   \n",
       "F80-F89 - Transtornos do desenvolvimento psicol...                            0.000017   \n",
       "F70-F79 - Retardo mental                                                      0.014254   \n",
       "F60-F69 - Transtornos da personalidade e do com...                            0.035000   \n",
       "F50-F59 - Síndromes comportamentais associadas ...                            0.932917   \n",
       "F40-F48 - Transtornos neuróticos, transtornos r...                            0.048686   \n",
       "F30-F39 - Transtornos do humor [afetivos]                                     0.320375   \n",
       "F20-F29 - Esquizofrenia, transtornos esquizotíp...                            0.011537   \n",
       "F00-F09 - Transtornos mentais orgânicos, inclus...                            0.147427   \n",
       "\n",
       "                                                    Normality (Shapiro-Wilk)  \\\n",
       "__Grand Total                                                       0.874416   \n",
       "_Atendimentos na APS (exceto saúde mental)                          0.000083   \n",
       "F99-F99 - Transtorno mental não especificado                        0.000002   \n",
       "F90-F98 - Transtornos do comportamento e transt...                  0.207121   \n",
       "F80-F89 - Transtornos do desenvolvimento psicol...                  0.224135   \n",
       "F70-F79 - Retardo mental                                            0.552957   \n",
       "F60-F69 - Transtornos da personalidade e do com...                  0.003424   \n",
       "F50-F59 - Síndromes comportamentais associadas ...                  0.069847   \n",
       "F40-F48 - Transtornos neuróticos, transtornos r...                  0.361423   \n",
       "F30-F39 - Transtornos do humor [afetivos]                           0.937300   \n",
       "F20-F29 - Esquizofrenia, transtornos esquizotíp...                  0.638054   \n",
       "F00-F09 - Transtornos mentais orgânicos, inclus...                  0.032837   \n",
       "\n",
       "                                                    Normality (Jarque-Bera)  \\\n",
       "__Grand Total                                                  5.491811e-01   \n",
       "_Atendimentos na APS (exceto saúde mental)                     8.488991e-13   \n",
       "F99-F99 - Transtorno mental não especificado                   1.513149e-06   \n",
       "F90-F98 - Transtornos do comportamento e transt...             7.153962e-02   \n",
       "F80-F89 - Transtornos do desenvolvimento psicol...             3.713773e-01   \n",
       "F70-F79 - Retardo mental                                       6.662058e-01   \n",
       "F60-F69 - Transtornos da personalidade e do com...             1.939544e-02   \n",
       "F50-F59 - Síndromes comportamentais associadas ...             4.147643e-03   \n",
       "F40-F48 - Transtornos neuróticos, transtornos r...             2.291813e-01   \n",
       "F30-F39 - Transtornos do humor [afetivos]                      7.164580e-01   \n",
       "F20-F29 - Esquizofrenia, transtornos esquizotíp...             8.718033e-01   \n",
       "F00-F09 - Transtornos mentais orgânicos, inclus...             3.714996e-03   \n",
       "\n",
       "                                                    Normality (D'Agostino)  \\\n",
       "__Grand Total                                                 4.318565e-01   \n",
       "_Atendimentos na APS (exceto saúde mental)                    4.765796e-07   \n",
       "F99-F99 - Transtorno mental não especificado                  2.313217e-05   \n",
       "F90-F98 - Transtornos do comportamento e transt...            7.390851e-02   \n",
       "F80-F89 - Transtornos do desenvolvimento psicol...            3.017818e-01   \n",
       "F70-F79 - Retardo mental                                      6.693367e-01   \n",
       "F60-F69 - Transtornos da personalidade e do com...            1.624442e-02   \n",
       "F50-F59 - Síndromes comportamentais associadas ...            6.234204e-03   \n",
       "F40-F48 - Transtornos neuróticos, transtornos r...            1.889178e-01   \n",
       "F30-F39 - Transtornos do humor [afetivos]                     5.634862e-01   \n",
       "F20-F29 - Esquizofrenia, transtornos esquizotíp...            7.248578e-01   \n",
       "F00-F09 - Transtornos mentais orgânicos, inclus...            1.745659e-02   \n",
       "\n",
       "                                                    Autocorrelation (Durbin-Watson)  \\\n",
       "__Grand Total                                                              0.454486   \n",
       "_Atendimentos na APS (exceto saúde mental)                                 1.098880   \n",
       "F99-F99 - Transtorno mental não especificado                               0.417910   \n",
       "F90-F98 - Transtornos do comportamento e transt...                         0.506893   \n",
       "F80-F89 - Transtornos do desenvolvimento psicol...                         0.427556   \n",
       "F70-F79 - Retardo mental                                                   0.493265   \n",
       "F60-F69 - Transtornos da personalidade e do com...                         1.045593   \n",
       "F50-F59 - Síndromes comportamentais associadas ...                         1.184699   \n",
       "F40-F48 - Transtornos neuróticos, transtornos r...                         0.525509   \n",
       "F30-F39 - Transtornos do humor [afetivos]                                  0.422068   \n",
       "F20-F29 - Esquizofrenia, transtornos esquizotíp...                         0.354672   \n",
       "F00-F09 - Transtornos mentais orgânicos, inclus...                         0.758334   \n",
       "\n",
       "                                                    Autocorrelation (Ljung-Box)  \n",
       "__Grand Total                                                      9.372199e-74  \n",
       "_Atendimentos na APS (exceto saúde mental)                         3.513056e-14  \n",
       "F99-F99 - Transtorno mental não especificado                       2.363009e-62  \n",
       "F90-F98 - Transtornos do comportamento e transt...                 1.210529e-45  \n",
       "F80-F89 - Transtornos do desenvolvimento psicol...                 1.760290e-86  \n",
       "F70-F79 - Retardo mental                                           2.569556e-69  \n",
       "F60-F69 - Transtornos da personalidade e do com...                 1.779468e-07  \n",
       "F50-F59 - Síndromes comportamentais associadas ...                 1.049508e-05  \n",
       "F40-F48 - Transtornos neuróticos, transtornos r...                 1.600449e-72  \n",
       "F30-F39 - Transtornos do humor [afetivos]                          1.791495e-64  \n",
       "F20-F29 - Esquizofrenia, transtornos esquizotíp...                 3.238254e-92  \n",
       "F00-F09 - Transtornos mentais orgânicos, inclus...                 2.132250e-36  "
      ]
     },
     "execution_count": 235,
     "metadata": {},
     "output_type": "execute_result"
    }
   ],
   "source": [
    "import pandas as pd\n",
    "import numpy as np\n",
    "from statsmodels.stats.diagnostic import het_breuschpagan, acorr_ljungbox\n",
    "from statsmodels.stats.stattools import durbin_watson\n",
    "from scipy.stats import shapiro, normaltest, jarque_bera\n",
    "import statsmodels.api as sm\n",
    "\n",
    "def analyze_time_series(df: pd.DataFrame, variable_col: str, date_col: str, value_col: str):\n",
    "    \"\"\"\n",
    "    Analyzes a melted DataFrame for heteroscedasticity, distribution, and autocorrelation.\n",
    "\n",
    "    Parameters:\n",
    "        df (pd.DataFrame): Melted DataFrame with columns for variable, date, and value.\n",
    "        variable_col (str): Column name for the variable identifier.\n",
    "        date_col (str): Column name for the date.\n",
    "        value_col (str): Column name for the value.\n",
    "\n",
    "    Returns:\n",
    "        dict: A dictionary with analysis results for each variable.\n",
    "    \"\"\"\n",
    "    results = {}\n",
    "\n",
    "    for variable in df[variable_col].unique():\n",
    "        # Filter data for the current variable\n",
    "        variable_data = df[df[variable_col] == variable].sort_values(by=date_col)\n",
    "        y = variable_data[value_col].values\n",
    "        x = np.arange(len(y))  # Time index as independent variable\n",
    "\n",
    "        # Add constant for regression\n",
    "        X = sm.add_constant(x)\n",
    "\n",
    "        # Fit OLS model\n",
    "        model = sm.OLS(y, X).fit()\n",
    "\n",
    "        # Heteroscedasticity tests\n",
    "        bp_test = het_breuschpagan(model.resid, X)\n",
    "        bp_pvalue = bp_test[1]\n",
    "\n",
    "        # Normality tests\n",
    "        shapiro_test = shapiro(model.resid)\n",
    "        shapiro_pvalue = shapiro_test.pvalue\n",
    "\n",
    "        jb_test = jarque_bera(model.resid)\n",
    "        jb_pvalue = jb_test[1]\n",
    "\n",
    "        dagostino_test = normaltest(model.resid)\n",
    "        dagostino_pvalue = dagostino_test.pvalue\n",
    "\n",
    "        # Autocorrelation tests\n",
    "        dw_stat = durbin_watson(model.resid)\n",
    "        ljungbox_test = acorr_ljungbox(model.resid, lags=[10], return_df=True)\n",
    "        ljungbox_pvalue = ljungbox_test['lb_pvalue'].iloc[0]\n",
    "\n",
    "        # Store results\n",
    "        results[variable] = {\n",
    "            \"Heteroscedasticity (Breusch-Pagan)\": bp_pvalue,\n",
    "            \"Normality (Shapiro-Wilk)\": shapiro_pvalue,\n",
    "            \"Normality (Jarque-Bera)\": jb_pvalue,\n",
    "            \"Normality (D'Agostino)\": dagostino_pvalue,\n",
    "            \"Autocorrelation (Durbin-Watson)\": dw_stat,\n",
    "            \"Autocorrelation (Ljung-Box)\": ljungbox_pvalue,\n",
    "        }\n",
    "\n",
    "    return results\n",
    "\n",
    "explorationresults = analyze_time_series(main_regrdf, VARIABLE_COLUMN_NAME, DATE_NAME, DEPENDENT_VAR)\n",
    "explorationresultsDF = pd.DataFrame(explorationresults).T\n",
    "explorationresultsDF"
   ]
  },
  {
   "cell_type": "markdown",
   "metadata": {},
   "source": [
    "# Define Processors"
   ]
  },
  {
   "cell_type": "code",
   "execution_count": 236,
   "metadata": {},
   "outputs": [],
   "source": [
    "class RegressionProcessor:\n",
    "    def __init__(\n",
    "        self,\n",
    "        data,\n",
    "        formula,\n",
    "        model=None,\n",
    "        find_best_rho=False,\n",
    "        find_best_rho_args={\n",
    "            'start': -1.0,\n",
    "            \"stop\": 1.0,\n",
    "            'step': 0.05,\n",
    "            'criterio': 'aic',\n",
    "        },\n",
    "        rho=None,\n",
    "        cov_type=None,\n",
    "        cov_kwargs=None,\n",
    "        iterative_fit=False,  # New argument to enable iterative fitting\n",
    "        max_iterations=100,  # Maximum iterations for iterative fitting\n",
    "    ):\n",
    "        self.data = data\n",
    "        self.formula = formula\n",
    "        self.model = model\n",
    "        self.rho = rho\n",
    "        self.cov_type = cov_type\n",
    "        self.cov_kwargs = cov_kwargs\n",
    "        self.find_best_rho = find_best_rho\n",
    "        self.find_best_rho_args = find_best_rho_args\n",
    "        self.iterative_fit = iterative_fit\n",
    "        self.max_iterations = max_iterations\n",
    "        self.results = None\n",
    "\n",
    "    def fit(self, rho=None):\n",
    "        # Fit the regression model using the specified formula and data\n",
    "        if self.find_best_rho:\n",
    "            best_rho = 1.0\n",
    "            best_criterion_value = np.inf\n",
    "            model = None\n",
    "            results = None\n",
    "            for rho in np.arange(\n",
    "                self.find_best_rho_args['start'],\n",
    "                self.find_best_rho_args['stop'],\n",
    "                self.find_best_rho_args['step']\n",
    "            ):\n",
    "                test_model = self.model(self.formula, data=self.data, rho=rho)\n",
    "                if self.iterative_fit and hasattr(test_model, \"iterative_fit\"):\n",
    "                    test_results = test_model.iterative_fit(\n",
    "                        maxiter=self.max_iterations,\n",
    "                        cov_type=self.cov_type,\n",
    "                        cov_kwds=self.cov_kwargs,\n",
    "                    )\n",
    "                else:\n",
    "                    test_results = test_model.fit(\n",
    "                        cov_type=self.cov_type,\n",
    "                        cov_kwds=self.cov_kwargs,\n",
    "                    )\n",
    "                criterion_value = getattr(test_results, self.find_best_rho_args['criterio'])\n",
    "                if criterion_value < best_criterion_value:\n",
    "                    best_criterion_value = criterion_value\n",
    "                    best_rho = rho\n",
    "                    model = test_model\n",
    "                    results = test_results\n",
    "            self.rho = best_rho\n",
    "            self.results = results\n",
    "        else:\n",
    "            if self.rho is not None:\n",
    "                model = self.model(self.formula, data=self.data, rho=rho)\n",
    "            else:\n",
    "                model = self.model(self.formula, data=self.data)\n",
    "\n",
    "            # Use iterative fitting if enabled and supported\n",
    "            if self.iterative_fit and hasattr(model, \"iterative_fit\"):\n",
    "                self.results = model.iterative_fit(\n",
    "                    maxiter=self.max_iterations,\n",
    "                    cov_type=self.cov_type,\n",
    "                    cov_kwds=self.cov_kwargs,\n",
    "                )\n",
    "            else:\n",
    "                self.results = model.fit(\n",
    "                    cov_type=self.cov_type,\n",
    "                    cov_kwds=self.cov_kwargs,\n",
    "                )"
   ]
  },
  {
   "cell_type": "code",
   "execution_count": 237,
   "metadata": {},
   "outputs": [],
   "source": [
    "class VariableProcessor:\n",
    "    def __init__(\n",
    "        self,\n",
    "        df,       \n",
    "        processor_args, \n",
    "        processor,\n",
    "        evaluate = False,\n",
    "        test_size=0.2,\n",
    "        random_state=42,\n",
    "\n",
    "    ):\n",
    "        self.df = df\n",
    "        self.results = {}\n",
    "        self.processor_args = processor_args\n",
    "        self.processor = processor\n",
    "        self.evaluate = evaluate\n",
    "        self.evaluation_results = {}\n",
    "        self.test_size = test_size\n",
    "        self.random_state = random_state\n",
    "\n",
    "\n",
    "    def adjusted_r2(self, r2, n, p):\n",
    "        \"\"\"Calcula o R² ajustado.\"\"\"\n",
    "        return 1 - ((1 - r2) * (n - 1) / (n - p - 1))\n",
    "        \n",
    "    def process_variables(self):\n",
    "        # Process each variable in the DataFrame\n",
    "        for variable in self.df[VARIABLE_COLUMN_NAME].unique():\n",
    "            variable_data = self.df[self.df[VARIABLE_COLUMN_NAME] == variable].sort_values(by=DATE_NAME)\n",
    "            variable_data = variable_data.reset_index(drop=True)\n",
    "            processor = self.processor(data=variable_data, **self.processor_args)\n",
    "            processor.fit()\n",
    "            self.results[variable] = processor.results\n",
    "\n",
    "\n",
    "            # Split into train and test\n",
    "            if self.evaluate:\n",
    "                train_data, test_data = train_test_split(\n",
    "                    variable_data, test_size=self.test_size, random_state=self.random_state, shuffle=False\n",
    "                )\n",
    "\n",
    "                # Store results for train and test\n",
    "                train_predictions = processor.results.predict(train_data)\n",
    "                test_predictions = processor.results.predict(test_data)\n",
    "\n",
    "                # Calculate metrics\n",
    "                train_r2 = r2_score(train_data[DEPENDENT_VAR], train_predictions)\n",
    "                test_r2 = r2_score(test_data[DEPENDENT_VAR], test_predictions)\n",
    "                #n_train = len(train_data)\n",
    "                #n_test = len(test_data)\n",
    "                #p = len(processor.results.params) - 1 \n",
    "                train_mse = mean_squared_error(train_data[DEPENDENT_VAR], train_predictions)\n",
    "                test_mse = mean_squared_error(test_data[DEPENDENT_VAR], test_predictions)\n",
    "\n",
    "                #train_r2_adj = self.adjusted_r2(train_r2, n_train, p)\n",
    "                #test_r2_adj = self.adjusted_r2(test_r2, n_test, p)\n",
    "                \n",
    "                evaluation_value = train_r2 - test_r2\n",
    "                #evaluation_value_adj = train_r2_adj - test_r2_adj\n",
    "\n",
    "\n",
    "                self.evaluation_results[variable] = {\n",
    "                    #'Absolute Diff': absolute_difference,\n",
    "                    'TrainMSE - TestMSE': train_mse - test_mse,\n",
    "                    \"Evaluation Value (r_train² - r_test²)\": evaluation_value,\n",
    "                    \"Overfitting Risk\": \"High\" if evaluation_value > 0.1 else \"Low\",\n",
    "                    \"Train R2\": train_r2,\n",
    "                    \"Test R2\": test_r2,\n",
    "                    #\"Evaluation Value (r_train_adj² - r_test_adj²)\": evaluation_value_adj,\n",
    "                    #\"Overfitting Risk (adj_r2)\": \"High\" if evaluation_value_adj > 0.1 else \"Low\",\n",
    "                    #\"Adj Train R2\": train_r2_adj,\n",
    "                    #\"Adj Test R2\": test_r2_adj,\n",
    "                    \"Train MSE\": train_mse,\n",
    "                    \"Test MSE\": test_mse,\n",
    "                    \"Processor Results\": processor.results,\n",
    "                    'splitted_data': {'train_data': train_data, 'test_data': test_data},\n",
    "                }\n",
    "        \n",
    "        self.evaluation_results = pd.DataFrame(self.evaluation_results).T\n",
    "\n",
    "        return self.results, self.evaluation_results"
   ]
  },
  {
   "cell_type": "markdown",
   "metadata": {},
   "source": [
    "# Define Exporter"
   ]
  },
  {
   "cell_type": "code",
   "execution_count": 238,
   "metadata": {},
   "outputs": [],
   "source": [
    "def export_results(results, output_path, processor_args, preprocessor_args):\n",
    "    \"\"\"\n",
    "    Exports the regression results and metadata to an Excel file.\n",
    "\n",
    "    Args:\n",
    "        results (dict): Dictionary containing regression results.\n",
    "        output_path (str): Path to the output Excel file.\n",
    "        processor_args (dict): Dictionary containing processor arguments.\n",
    "        preprocessor_args (dict): Dictionary containing preprocessor arguments.\n",
    "    \"\"\"\n",
    "    def extract_durbin_watson_from_summary(result):\n",
    "        summary_text = result.summary().as_text()\n",
    "        for line in summary_text.split('\\n'):\n",
    "            if \"Durbin-Watson\" in line:\n",
    "                return float(line.split()[-1])  # Extract the last value in the line\n",
    "        return None  # Return None if not found\n",
    "\n",
    "    stats_data = []\n",
    "    coefficients_data = []\n",
    "\n",
    "    for variable, result in results.items():\n",
    "        # Extract coefficients\n",
    "        coefficients = result.params\n",
    "        coef_row = {\"Variable\": variable}\n",
    "        for coef_name, coef_value in coefficients.items():\n",
    "            coef_row[f\"{coef_name}__Value\"] = round(coef_value, 7)\n",
    "            coef_row[f\"{coef_name}__P-Value\"] = round(result.pvalues.get(coef_name, np.nan), 7)\n",
    "            coef_row[f\"{coef_name}__Std Err\"] = round(result.bse.get(coef_name, np.nan), 7)\n",
    "            coef_row[f\"{coef_name}__Significant\"] = result.pvalues.get(coef_name, np.nan) < 0.05  # At 5% significance\n",
    "        coefficients_data.append(coef_row)\n",
    "\n",
    "        # Extract other statistics\n",
    "        stats_data.append({\n",
    "            \"Variable\": variable,\n",
    "            \"R-Squared\": round(result.rsquared, 7),\n",
    "            \"Adjusted R-Squared\": round(result.rsquared_adj, 7),\n",
    "            \"Durbin-Watson\": round(extract_durbin_watson_from_summary(result), 7),\n",
    "            \"AIC\": round(result.aic, 7),\n",
    "            \"BIC\": round(result.bic, 7),\n",
    "            \"Number of Observations\": result.nobs,\n",
    "            \"F-Value\": round(result.fvalue, 7) if result.fvalue is not None else np.nan,\n",
    "            \"F P-Value\": round(result.f_pvalue, 7) if result.f_pvalue is not None else np.nan,\n",
    "            \"Log-Likelihood\": round(result.llf, 7),\n",
    "            \"Condition Number\": round(result.condition_number, 7) if result.condition_number is not None else np.nan\n",
    "        })\n",
    "\n",
    "    # Convert to DataFrames\n",
    "    coefficients_df = pd.DataFrame(coefficients_data).set_index(\"Variable\").T\n",
    "    stats_df = pd.DataFrame(stats_data).set_index(\"Variable\").T\n",
    "\n",
    "    # Prepare metadata\n",
    "    metadata = {\n",
    "        \"Processor Args\": [str(processor_args)],\n",
    "        \"Preprocessor Args\": [str(preprocessor_args)]\n",
    "    }\n",
    "    metadata_df = pd.DataFrame(metadata)\n",
    "\n",
    "    # Write to Excel\n",
    "\n",
    "\n",
    "    file_exists = os.path.exists(output_path)\n",
    "\n",
    "            # Attempt to open file and catch PermissionError if the file is open elsewhere\n",
    "    if file_exists:\n",
    "        while True:\n",
    "            try:\n",
    "                with pd.ExcelWriter(output_path) as writer:\n",
    "                    # Write coefficients to one sheet\n",
    "                    coefficients_df.to_excel(writer, sheet_name=\"Coefficients\")\n",
    "\n",
    "                    # Write other stats to another sheet\n",
    "                    stats_df.to_excel(writer, sheet_name=\"Statistics\")\n",
    "\n",
    "                    # Write metadata to another sheet\n",
    "                    metadata_df.to_excel(writer, sheet_name=\"Metadata\", index=False)\n",
    "                # Load the workbook to apply formatting\n",
    "                workbook = load_workbook(output_path)\n",
    "                \n",
    "                for sheet_name in [\"Coefficients\", \"Statistics\", \"Metadata\"]:\n",
    "                    if sheet_name in workbook.sheetnames:\n",
    "                        sheet = workbook[sheet_name]\n",
    "\n",
    "                        # Enable text wrapping and adjust row heights\n",
    "                        for row in sheet.iter_rows():\n",
    "                            for cell in row:\n",
    "                                cell.alignment = Alignment(wrap_text=True)  # Enable text wrapping\n",
    "                            # Adjust row height\n",
    "                            sheet.row_dimensions[row[0].row].height = 25  # Set row height to 25 (adjust as needed)\n",
    "\n",
    "                # Save the formatted workbook\n",
    "                workbook.save(output_path)\n",
    "                break  # Exit the loop if writing succeeds\n",
    "            except PermissionError:\n",
    "                #logger.warning(f\"File '{output_path}' is currently open. Please close the file and press Enter to try again.\")\n",
    "                input(\"Press Enter after closing the file...\")\n",
    "                time.sleep(5)  # Optional: wait before retrying\n"
   ]
  },
  {
   "cell_type": "markdown",
   "metadata": {},
   "source": [
    "# EXEC --- Instantiate Processor and Process/Export"
   ]
  },
  {
   "cell_type": "code",
   "execution_count": 239,
   "metadata": {},
   "outputs": [
    {
     "data": {
      "text/plain": [
       "({'__Grand Total': <statsmodels.regression.linear_model.RegressionResultsWrapper at 0x1dabdf3d490>,\n",
       "  '_Atendimentos na APS (exceto saúde mental)': <statsmodels.regression.linear_model.RegressionResultsWrapper at 0x1dabdbdde80>,\n",
       "  'F99-F99 - Transtorno mental não especificado': <statsmodels.regression.linear_model.RegressionResultsWrapper at 0x1dabe05eab0>,\n",
       "  'F90-F98 - Transtornos do comportamento e transtornos emocionais que aparecem habitualmente durante a infância ou a adolescência': <statsmodels.regression.linear_model.RegressionResultsWrapper at 0x1dabe0e48f0>,\n",
       "  'F80-F89 - Transtornos do desenvolvimento psicológico': <statsmodels.regression.linear_model.RegressionResultsWrapper at 0x1dabe1f9610>,\n",
       "  'F70-F79 - Retardo mental': <statsmodels.regression.linear_model.RegressionResultsWrapper at 0x1dabe1f8bc0>,\n",
       "  'F60-F69 - Transtornos da personalidade e do comportamento do adulto': <statsmodels.regression.linear_model.RegressionResultsWrapper at 0x1dabe032b70>,\n",
       "  'F50-F59 - Síndromes comportamentais associadas a disfunções fisiológicas e a fatores físicos': <statsmodels.regression.linear_model.RegressionResultsWrapper at 0x1dabda8ac00>,\n",
       "  'F40-F48 - Transtornos neuróticos, transtornos relacionados com o \"stress\" e transtornos somatoformes': <statsmodels.regression.linear_model.RegressionResultsWrapper at 0x1dabe1c5220>,\n",
       "  'F30-F39 - Transtornos do humor [afetivos]': <statsmodels.regression.linear_model.RegressionResultsWrapper at 0x1dabe168f80>,\n",
       "  'F20-F29 - Esquizofrenia, transtornos esquizotípicos e transtornos delirantes': <statsmodels.regression.linear_model.RegressionResultsWrapper at 0x1dabe16a810>,\n",
       "  'F00-F09 - Transtornos mentais orgânicos, inclusive os sintomáticos': <statsmodels.regression.linear_model.RegressionResultsWrapper at 0x1dabe1689e0>},\n",
       " Empty DataFrame\n",
       " Columns: []\n",
       " Index: [])"
      ]
     },
     "execution_count": 239,
     "metadata": {},
     "output_type": "execute_result"
    }
   ],
   "source": [
    "processor_args = PROCESSOR_ARGS\n",
    "variable_processor = VariableProcessor(\n",
    "    df = RegressionDF,\n",
    "    processor_args = processor_args,\n",
    "    processor = RegressionProcessor\n",
    ")\n",
    "variable_processor.process_variables()\n"
   ]
  },
  {
   "cell_type": "code",
   "execution_count": 240,
   "metadata": {},
   "outputs": [
    {
     "name": "stdout",
     "output_type": "stream",
     "text": [
      "Results for __Grand Total:\n",
      "                           GLSAR Regression Results                           \n",
      "==============================================================================\n",
      "Dep. Variable:                valores   R-squared:                       0.819\n",
      "Model:                          GLSAR   Adj. R-squared:                  0.787\n",
      "Method:                 Least Squares   F-statistic:                     45.30\n",
      "Date:                qua, 23 abr 2025   Prob (F-statistic):           5.30e-36\n",
      "Time:                        19:54:00   Log-Likelihood:                -884.58\n",
      "No. Observations:                 107   AIC:                             1803.\n",
      "Df Residuals:                      90   BIC:                             1849.\n",
      "Df Model:                          16                                         \n",
      "Covariance Type:                  HAC                                         \n",
      "=====================================================================================\n",
      "                        coef    std err          z      P>|z|      [0.025      0.975]\n",
      "-------------------------------------------------------------------------------------\n",
      "Intercept          6530.5254    631.418     10.343      0.000    5292.970    7768.081\n",
      "periodo             -16.7526     15.948     -1.050      0.294     -48.010      14.504\n",
      "month_2            -732.2119    350.387     -2.090      0.037   -1418.958     -45.465\n",
      "month_3             442.0465    523.955      0.844      0.399    -584.887    1468.980\n",
      "month_4             210.2121    588.167      0.357      0.721    -942.574    1362.998\n",
      "month_5             169.7502    637.803      0.266      0.790   -1080.320    1419.820\n",
      "month_6             401.1062    556.102      0.721      0.471    -688.833    1491.045\n",
      "month_7             745.9844    571.551      1.305      0.192    -374.235    1866.203\n",
      "month_8            1305.4143    596.284      2.189      0.029     136.720    2474.109\n",
      "month_9             384.9697    583.967      0.659      0.510    -759.584    1529.524\n",
      "month_10           1333.0007    603.809      2.208      0.027     149.557    2516.445\n",
      "month_11            395.5969    510.217      0.775      0.438    -604.410    1395.603\n",
      "month_12           -136.3596    534.727     -0.255      0.799   -1184.405     911.685\n",
      "Choque_Inicial    -1620.7722    559.732     -2.896      0.004   -2717.827    -523.718\n",
      "Lockdown_2021     -2591.5160    988.518     -2.622      0.009   -4528.975    -654.057\n",
      "Step_PosPandemia  -2032.6867    713.297     -2.850      0.004   -3430.722    -634.651\n",
      "Trend_PosPandemia   185.8741     18.373     10.117      0.000     149.864     221.885\n",
      "==============================================================================\n",
      "Omnibus:                        8.889   Durbin-Watson:                   2.169\n",
      "Prob(Omnibus):                  0.012   Jarque-Bera (JB):               12.511\n",
      "Skew:                          -0.388   Prob(JB):                      0.00192\n",
      "Kurtosis:                       4.485   Cond. No.                         647.\n",
      "==============================================================================\n",
      "\n",
      "Notes:\n",
      "[1] Standard Errors are heteroscedasticity and autocorrelation robust (HAC) using 4 lags and without small sample correction\n",
      "\n",
      "\n",
      "Results for _Atendimentos na APS (exceto saúde mental):\n",
      "                           GLSAR Regression Results                           \n",
      "==============================================================================\n",
      "Dep. Variable:                valores   R-squared:                       0.852\n",
      "Model:                          GLSAR   Adj. R-squared:                  0.826\n",
      "Method:                 Least Squares   F-statistic:                     81.48\n",
      "Date:                qua, 23 abr 2025   Prob (F-statistic):           2.41e-46\n",
      "Time:                        19:54:00   Log-Likelihood:                -1205.1\n",
      "No. Observations:                 107   AIC:                             2444.\n",
      "Df Residuals:                      90   BIC:                             2490.\n",
      "Df Model:                          16                                         \n",
      "Covariance Type:                  HAC                                         \n",
      "=====================================================================================\n",
      "                        coef    std err          z      P>|z|      [0.025      0.975]\n",
      "-------------------------------------------------------------------------------------\n",
      "Intercept           9.94e+04   8982.243     11.067      0.000    8.18e+04    1.17e+05\n",
      "periodo             798.0766    244.177      3.268      0.001     319.499    1276.654\n",
      "month_2           -2.457e+04   7705.931     -3.188      0.001   -3.97e+04   -9462.050\n",
      "month_3            1.261e+04   8336.031      1.513      0.130   -3728.527    2.89e+04\n",
      "month_4            9431.8444   1.13e+04      0.835      0.404   -1.27e+04    3.16e+04\n",
      "month_5            8669.9843    1.4e+04      0.620      0.535   -1.87e+04    3.61e+04\n",
      "month_6            9384.1837   9333.093      1.005      0.315   -8908.342    2.77e+04\n",
      "month_7            1.293e+04   8942.557      1.446      0.148   -4599.640    3.05e+04\n",
      "month_8            1.728e+04   1.15e+04      1.508      0.132   -5178.838    3.97e+04\n",
      "month_9           -5394.8626   9590.161     -0.563      0.574   -2.42e+04    1.34e+04\n",
      "month_10            1.23e+04   9681.702      1.271      0.204   -6671.448    3.13e+04\n",
      "month_11          -4713.7855   8062.759     -0.585      0.559   -2.05e+04    1.11e+04\n",
      "month_12          -1.261e+04   7487.058     -1.685      0.092   -2.73e+04    2061.898\n",
      "Choque_Inicial    -3.793e+04   9891.513     -3.835      0.000   -5.73e+04   -1.85e+04\n",
      "Lockdown_2021     -7.929e+04   1.75e+04     -4.527      0.000   -1.14e+05    -4.5e+04\n",
      "Step_PosPandemia   1.588e+04    1.2e+04      1.326      0.185   -7587.628    3.93e+04\n",
      "Trend_PosPandemia  1062.2847    410.615      2.587      0.010     257.493    1867.076\n",
      "==============================================================================\n",
      "Omnibus:                       14.635   Durbin-Watson:                   2.047\n",
      "Prob(Omnibus):                  0.001   Jarque-Bera (JB):               33.649\n",
      "Skew:                          -0.442   Prob(JB):                     4.93e-08\n",
      "Kurtosis:                       5.601   Cond. No.                         717.\n",
      "==============================================================================\n",
      "\n",
      "Notes:\n",
      "[1] Standard Errors are heteroscedasticity and autocorrelation robust (HAC) using 4 lags and without small sample correction\n",
      "\n",
      "\n",
      "Results for F99-F99 - Transtorno mental não especificado:\n",
      "                           GLSAR Regression Results                           \n",
      "==============================================================================\n",
      "Dep. Variable:                valores   R-squared:                       0.370\n",
      "Model:                          GLSAR   Adj. R-squared:                  0.258\n",
      "Method:                 Least Squares   F-statistic:                     7.181\n",
      "Date:                qua, 23 abr 2025   Prob (F-statistic):           2.21e-10\n",
      "Time:                        19:54:00   Log-Likelihood:                -523.60\n",
      "No. Observations:                 107   AIC:                             1081.\n",
      "Df Residuals:                      90   BIC:                             1127.\n",
      "Df Model:                          16                                         \n",
      "Covariance Type:                  HAC                                         \n",
      "=====================================================================================\n",
      "                        coef    std err          z      P>|z|      [0.025      0.975]\n",
      "-------------------------------------------------------------------------------------\n",
      "Intercept           189.1978     27.028      7.000      0.000     136.224     242.172\n",
      "periodo              -2.8507      0.683     -4.176      0.000      -4.189      -1.513\n",
      "month_2             -17.4890     10.627     -1.646      0.100     -38.317       3.339\n",
      "month_3               5.3383     11.993      0.445      0.656     -18.167      28.843\n",
      "month_4             -27.4397     14.334     -1.914      0.056     -55.534       0.654\n",
      "month_5               7.4089     16.482      0.450      0.653     -24.894      39.712\n",
      "month_6               5.1188     14.378      0.356      0.722     -23.062      33.299\n",
      "month_7               7.6665     16.115      0.476      0.634     -23.918      39.251\n",
      "month_8               4.6547     16.138      0.288      0.773     -26.974      36.284\n",
      "month_9              -0.7886     21.561     -0.037      0.971     -43.048      41.471\n",
      "month_10              9.3627     20.712      0.452      0.651     -31.233      49.958\n",
      "month_11             -0.6855     12.432     -0.055      0.956     -25.052      23.681\n",
      "month_12            -17.8316     11.306     -1.577      0.115     -39.991       4.328\n",
      "Choque_Inicial      -27.3200     19.868     -1.375      0.169     -66.261      11.621\n",
      "Lockdown_2021        32.0487     27.234      1.177      0.239     -21.330      85.427\n",
      "Step_PosPandemia    -56.7361     24.950     -2.274      0.023    -105.636      -7.836\n",
      "Trend_PosPandemia     5.5612      1.107      5.022      0.000       3.391       7.732\n",
      "==============================================================================\n",
      "Omnibus:                        1.848   Durbin-Watson:                   2.233\n",
      "Prob(Omnibus):                  0.397   Jarque-Bera (JB):                1.401\n",
      "Skew:                           0.060   Prob(JB):                        0.496\n",
      "Kurtosis:                       3.548   Cond. No.                         501.\n",
      "==============================================================================\n",
      "\n",
      "Notes:\n",
      "[1] Standard Errors are heteroscedasticity and autocorrelation robust (HAC) using 4 lags and without small sample correction\n",
      "\n",
      "\n",
      "Results for F90-F98 - Transtornos do comportamento e transtornos emocionais que aparecem habitualmente durante a infância ou a adolescência:\n",
      "                           GLSAR Regression Results                           \n",
      "==============================================================================\n",
      "Dep. Variable:                valores   R-squared:                       0.747\n",
      "Model:                          GLSAR   Adj. R-squared:                  0.701\n",
      "Method:                 Least Squares   F-statistic:                     36.78\n",
      "Date:                qua, 23 abr 2025   Prob (F-statistic):           1.69e-32\n",
      "Time:                        19:54:00   Log-Likelihood:                -610.55\n",
      "No. Observations:                 107   AIC:                             1255.\n",
      "Df Residuals:                      90   BIC:                             1301.\n",
      "Df Model:                          16                                         \n",
      "Covariance Type:                  HAC                                         \n",
      "=====================================================================================\n",
      "                        coef    std err          z      P>|z|      [0.025      0.975]\n",
      "-------------------------------------------------------------------------------------\n",
      "Intercept           253.8895     43.336      5.859      0.000     168.953     338.826\n",
      "periodo               1.8843      1.129      1.670      0.095      -0.327       4.096\n",
      "month_2             -41.6879     22.628     -1.842      0.065     -86.039       2.663\n",
      "month_3              44.3570     32.840      1.351      0.177     -20.008     108.722\n",
      "month_4              42.5196     41.944      1.014      0.311     -39.690     124.729\n",
      "month_5              28.9060     52.545      0.550      0.582     -74.080     131.892\n",
      "month_6              41.5036     35.347      1.174      0.240     -27.775     110.782\n",
      "month_7              75.3384     38.666      1.948      0.051      -0.445     151.122\n",
      "month_8             121.5820     41.339      2.941      0.003      40.558     202.606\n",
      "month_9              77.4419     38.251      2.025      0.043       2.472     152.412\n",
      "month_10            148.0803     45.110      3.283      0.001      59.667     236.493\n",
      "month_11             53.0522     38.668      1.372      0.170     -22.736     128.840\n",
      "month_12             -5.7535     38.039     -0.151      0.880     -80.309      68.802\n",
      "Choque_Inicial     -195.9785     47.799     -4.100      0.000    -289.662    -102.295\n",
      "Lockdown_2021      -241.7912     75.488     -3.203      0.001    -389.744     -93.838\n",
      "Step_PosPandemia   -226.4611     74.369     -3.045      0.002    -372.222     -80.700\n",
      "Trend_PosPandemia     8.8585      1.677      5.283      0.000       5.572      12.145\n",
      "==============================================================================\n",
      "Omnibus:                       17.607   Durbin-Watson:                   2.033\n",
      "Prob(Omnibus):                  0.000   Jarque-Bera (JB):               77.631\n",
      "Skew:                           0.198   Prob(JB):                     1.39e-17\n",
      "Kurtosis:                       7.154   Cond. No.                         645.\n",
      "==============================================================================\n",
      "\n",
      "Notes:\n",
      "[1] Standard Errors are heteroscedasticity and autocorrelation robust (HAC) using 4 lags and without small sample correction\n",
      "\n",
      "\n",
      "Results for F80-F89 - Transtornos do desenvolvimento psicológico:\n",
      "                           GLSAR Regression Results                           \n",
      "==============================================================================\n",
      "Dep. Variable:                valores   R-squared:                       0.897\n",
      "Model:                          GLSAR   Adj. R-squared:                  0.879\n",
      "Method:                 Least Squares   F-statistic:                     123.0\n",
      "Date:                qua, 23 abr 2025   Prob (F-statistic):           6.82e-54\n",
      "Time:                        19:54:00   Log-Likelihood:                -622.31\n",
      "No. Observations:                 107   AIC:                             1279.\n",
      "Df Residuals:                      90   BIC:                             1324.\n",
      "Df Model:                          16                                         \n",
      "Covariance Type:                  HAC                                         \n",
      "=====================================================================================\n",
      "                        coef    std err          z      P>|z|      [0.025      0.975]\n",
      "-------------------------------------------------------------------------------------\n",
      "Intercept            79.8677     35.471      2.252      0.024      10.346     149.389\n",
      "periodo               2.8790      0.609      4.727      0.000       1.685       4.073\n",
      "month_2             -26.5581     26.924     -0.986      0.324     -79.328      26.212\n",
      "month_3              31.4950     34.948      0.901      0.367     -37.002      99.992\n",
      "month_4              37.3666     45.854      0.815      0.415     -52.505     127.238\n",
      "month_5              14.4455     58.327      0.248      0.804     -99.873     128.764\n",
      "month_6              21.3275     36.049      0.592      0.554     -49.327      91.982\n",
      "month_7              54.8863     41.361      1.327      0.185     -26.180     135.952\n",
      "month_8              81.8922     40.877      2.003      0.045       1.776     162.009\n",
      "month_9              22.6996     38.817      0.585      0.559     -53.380      98.780\n",
      "month_10             87.0626     47.934      1.816      0.069      -6.886     181.011\n",
      "month_11             34.4255     37.729      0.912      0.362     -39.523     108.374\n",
      "month_12            -16.6560     37.187     -0.448      0.654     -89.542      56.230\n",
      "Choque_Inicial     -171.8932     28.280     -6.078      0.000    -227.321    -116.466\n",
      "Lockdown_2021      -168.1140     44.203     -3.803      0.000    -254.750     -81.478\n",
      "Step_PosPandemia   -272.0330     53.467     -5.088      0.000    -376.827    -167.239\n",
      "Trend_PosPandemia    14.7646      1.244     11.872      0.000      12.327      17.202\n",
      "==============================================================================\n",
      "Omnibus:                       17.053   Durbin-Watson:                   2.024\n",
      "Prob(Omnibus):                  0.000   Jarque-Bera (JB):               77.161\n",
      "Skew:                          -0.104   Prob(JB):                     1.76e-17\n",
      "Kurtosis:                       7.155   Cond. No.                         753.\n",
      "==============================================================================\n",
      "\n",
      "Notes:\n",
      "[1] Standard Errors are heteroscedasticity and autocorrelation robust (HAC) using 4 lags and without small sample correction\n",
      "\n",
      "\n",
      "Results for F70-F79 - Retardo mental:\n",
      "                           GLSAR Regression Results                           \n",
      "==============================================================================\n",
      "Dep. Variable:                valores   R-squared:                       0.692\n",
      "Model:                          GLSAR   Adj. R-squared:                  0.637\n",
      "Method:                 Least Squares   F-statistic:                     54.36\n",
      "Date:                qua, 23 abr 2025   Prob (F-statistic):           3.78e-39\n",
      "Time:                        19:54:00   Log-Likelihood:                -508.53\n",
      "No. Observations:                 107   AIC:                             1051.\n",
      "Df Residuals:                      90   BIC:                             1096.\n",
      "Df Model:                          16                                         \n",
      "Covariance Type:                  HAC                                         \n",
      "=====================================================================================\n",
      "                        coef    std err          z      P>|z|      [0.025      0.975]\n",
      "-------------------------------------------------------------------------------------\n",
      "Intercept           217.6886     19.286     11.288      0.000     179.890     255.488\n",
      "periodo              -0.5411      0.459     -1.179      0.238      -1.441       0.359\n",
      "month_2             -12.1966     11.202     -1.089      0.276     -34.152       9.759\n",
      "month_3              10.6477     16.256      0.655      0.512     -21.213      42.509\n",
      "month_4              -0.8200     17.124     -0.048      0.962     -34.383      32.743\n",
      "month_5               2.8744     20.738      0.139      0.890     -37.772      43.521\n",
      "month_6               6.4066     15.423      0.415      0.678     -23.822      36.635\n",
      "month_7               7.5257     16.142      0.466      0.641     -24.112      39.164\n",
      "month_8              26.9153     16.469      1.634      0.102      -5.363      59.193\n",
      "month_9              -5.2876     15.115     -0.350      0.726     -34.912      24.337\n",
      "month_10             24.1763     16.207      1.492      0.136      -7.589      55.942\n",
      "month_11              0.3069     15.712      0.020      0.984     -30.489      31.103\n",
      "month_12            -17.1181     17.109     -1.001      0.317     -50.651      16.415\n",
      "Choque_Inicial     -112.8745     16.926     -6.669      0.000    -146.048     -79.701\n",
      "Lockdown_2021      -123.9676     27.335     -4.535      0.000    -177.543     -70.392\n",
      "Step_PosPandemia   -109.7872     21.547     -5.095      0.000    -152.018     -67.557\n",
      "Trend_PosPandemia     3.9389      0.554      7.114      0.000       2.854       5.024\n",
      "==============================================================================\n",
      "Omnibus:                        8.425   Durbin-Watson:                   2.051\n",
      "Prob(Omnibus):                  0.015   Jarque-Bera (JB):               13.596\n",
      "Skew:                          -0.290   Prob(JB):                      0.00112\n",
      "Kurtosis:                       4.647   Cond. No.                         706.\n",
      "==============================================================================\n",
      "\n",
      "Notes:\n",
      "[1] Standard Errors are heteroscedasticity and autocorrelation robust (HAC) using 4 lags and without small sample correction\n",
      "\n",
      "\n",
      "Results for F60-F69 - Transtornos da personalidade e do comportamento do adulto:\n",
      "                           GLSAR Regression Results                           \n",
      "==============================================================================\n",
      "Dep. Variable:                valores   R-squared:                       0.489\n",
      "Model:                          GLSAR   Adj. R-squared:                  0.398\n",
      "Method:                 Least Squares   F-statistic:                     10.03\n",
      "Date:                qua, 23 abr 2025   Prob (F-statistic):           6.49e-14\n",
      "Time:                        19:54:00   Log-Likelihood:                -492.16\n",
      "No. Observations:                 107   AIC:                             1018.\n",
      "Df Residuals:                      90   BIC:                             1064.\n",
      "Df Model:                          16                                         \n",
      "Covariance Type:                  HAC                                         \n",
      "=====================================================================================\n",
      "                        coef    std err          z      P>|z|      [0.025      0.975]\n",
      "-------------------------------------------------------------------------------------\n",
      "Intercept            44.3898     15.889      2.794      0.005      13.248      75.532\n",
      "periodo               0.6157      0.323      1.907      0.057      -0.017       1.249\n",
      "month_2             -20.2639     12.858     -1.576      0.115     -45.466       4.938\n",
      "month_3              -3.6378     19.851     -0.183      0.855     -42.545      35.270\n",
      "month_4             -12.3984     18.857     -0.657      0.511     -49.358      24.561\n",
      "month_5             -16.1717     18.832     -0.859      0.390     -53.082      20.739\n",
      "month_6               4.3767     18.516      0.236      0.813     -31.915      40.668\n",
      "month_7               1.4103     19.582      0.072      0.943     -36.971      39.791\n",
      "month_8              18.0471     19.875      0.908      0.364     -20.907      57.001\n",
      "month_9              -3.4448     18.159     -0.190      0.850     -39.035      32.146\n",
      "month_10              5.8446     17.753      0.329      0.742     -28.950      40.639\n",
      "month_11             -3.8645     16.668     -0.232      0.817     -36.534      28.805\n",
      "month_12             -1.0173     19.092     -0.053      0.958     -38.437      36.402\n",
      "Choque_Inicial       15.6525     23.353      0.670      0.503     -30.119      61.424\n",
      "Lockdown_2021       -19.9124     21.549     -0.924      0.355     -62.147      22.323\n",
      "Step_PosPandemia     35.6608     20.816      1.713      0.087      -5.137      76.458\n",
      "Trend_PosPandemia    -0.0342      0.501     -0.068      0.946      -1.015       0.947\n",
      "==============================================================================\n",
      "Omnibus:                       23.874   Durbin-Watson:                   2.146\n",
      "Prob(Omnibus):                  0.000   Jarque-Bera (JB):               55.506\n",
      "Skew:                           0.816   Prob(JB):                     8.85e-13\n",
      "Kurtosis:                       6.129   Cond. No.                         563.\n",
      "==============================================================================\n",
      "\n",
      "Notes:\n",
      "[1] Standard Errors are heteroscedasticity and autocorrelation robust (HAC) using 4 lags and without small sample correction\n",
      "\n",
      "\n",
      "Results for F50-F59 - Síndromes comportamentais associadas a disfunções fisiológicas e a fatores físicos:\n",
      "                           GLSAR Regression Results                           \n",
      "==============================================================================\n",
      "Dep. Variable:                valores   R-squared:                       0.617\n",
      "Model:                          GLSAR   Adj. R-squared:                  0.549\n",
      "Method:                 Least Squares   F-statistic:                     20.49\n",
      "Date:                qua, 23 abr 2025   Prob (F-statistic):           2.53e-23\n",
      "Time:                        19:54:00   Log-Likelihood:                -480.44\n",
      "No. Observations:                 107   AIC:                             994.9\n",
      "Df Residuals:                      90   BIC:                             1040.\n",
      "Df Model:                          16                                         \n",
      "Covariance Type:                  HAC                                         \n",
      "=====================================================================================\n",
      "                        coef    std err          z      P>|z|      [0.025      0.975]\n",
      "-------------------------------------------------------------------------------------\n",
      "Intercept           111.9113     11.505      9.727      0.000      89.362     134.461\n",
      "periodo              -0.1721      0.255     -0.675      0.500      -0.672       0.328\n",
      "month_2             -17.5190      8.966     -1.954      0.051     -35.092       0.054\n",
      "month_3               5.5498     13.558      0.409      0.682     -21.024      32.124\n",
      "month_4              11.0635     14.294      0.774      0.439     -16.953      39.080\n",
      "month_5              21.0822     14.424      1.462      0.144      -7.189      49.354\n",
      "month_6              18.4312     12.469      1.478      0.139      -6.007      42.870\n",
      "month_7              27.7733     11.951      2.324      0.020       4.349      51.197\n",
      "month_8              33.4496     12.415      2.694      0.007       9.116      57.783\n",
      "month_9              16.5564     12.264      1.350      0.177      -7.481      40.593\n",
      "month_10             23.6631     12.199      1.940      0.052      -0.246      47.572\n",
      "month_11              4.7699     11.005      0.433      0.665     -16.799      26.339\n",
      "month_12             -0.5678     12.824     -0.044      0.965     -25.703      24.567\n",
      "Choque_Inicial       -9.1169     15.734     -0.579      0.562     -39.954      21.720\n",
      "Lockdown_2021       -52.0024     18.559     -2.802      0.005     -88.378     -15.627\n",
      "Step_PosPandemia     14.9333      9.864      1.514      0.130      -4.399      34.266\n",
      "Trend_PosPandemia     1.1176      0.378      2.956      0.003       0.376       1.859\n",
      "==============================================================================\n",
      "Omnibus:                        1.149   Durbin-Watson:                   2.037\n",
      "Prob(Omnibus):                  0.563   Jarque-Bera (JB):                1.160\n",
      "Skew:                          -0.143   Prob(JB):                        0.560\n",
      "Kurtosis:                       2.578   Cond. No.                         812.\n",
      "==============================================================================\n",
      "\n",
      "Notes:\n",
      "[1] Standard Errors are heteroscedasticity and autocorrelation robust (HAC) using 4 lags and without small sample correction\n",
      "\n",
      "\n",
      "Results for F40-F48 - Transtornos neuróticos, transtornos relacionados com o \"stress\" e transtornos somatoformes:\n",
      "                           GLSAR Regression Results                           \n",
      "==============================================================================\n",
      "Dep. Variable:                valores   R-squared:                       0.893\n",
      "Model:                          GLSAR   Adj. R-squared:                  0.874\n",
      "Method:                 Least Squares   F-statistic:                     73.25\n",
      "Date:                qua, 23 abr 2025   Prob (F-statistic):           1.99e-44\n",
      "Time:                        19:54:00   Log-Likelihood:                -769.90\n",
      "No. Observations:                 107   AIC:                             1574.\n",
      "Df Residuals:                      90   BIC:                             1619.\n",
      "Df Model:                          16                                         \n",
      "Covariance Type:                  HAC                                         \n",
      "=====================================================================================\n",
      "                        coef    std err          z      P>|z|      [0.025      0.975]\n",
      "-------------------------------------------------------------------------------------\n",
      "Intercept          1169.8377    184.947      6.325      0.000     807.349    1532.327\n",
      "periodo               6.1263      3.661      1.674      0.094      -1.048      13.301\n",
      "month_2            -176.3342    125.522     -1.405      0.160    -422.353      69.685\n",
      "month_3             210.3940    175.459      1.199      0.230    -133.500     554.288\n",
      "month_4             153.4201    214.216      0.716      0.474    -266.436     573.277\n",
      "month_5              45.9447    219.579      0.209      0.834    -384.423     476.313\n",
      "month_6             144.1096    211.420      0.682      0.495    -270.266     558.485\n",
      "month_7             213.3100    206.790      1.032      0.302    -191.990     618.610\n",
      "month_8             368.8944    207.919      1.774      0.076     -38.619     776.408\n",
      "month_9             110.8376    217.498      0.510      0.610    -315.450     537.125\n",
      "month_10            442.7883    206.848      2.141      0.032      37.374     848.203\n",
      "month_11            172.6304    178.392      0.968      0.333    -177.012     522.273\n",
      "month_12            -12.8600    176.141     -0.073      0.942    -358.091     332.371\n",
      "Choque_Inicial      -88.4209    186.848     -0.473      0.636    -454.636     277.794\n",
      "Lockdown_2021      -532.5755    311.056     -1.712      0.087   -1142.233      77.082\n",
      "Step_PosPandemia   -205.7620    191.529     -1.074      0.283    -581.152     169.628\n",
      "Trend_PosPandemia    63.0544      5.547     11.368      0.000      52.183      73.925\n",
      "==============================================================================\n",
      "Omnibus:                        9.505   Durbin-Watson:                   2.218\n",
      "Prob(Omnibus):                  0.009   Jarque-Bera (JB):               12.747\n",
      "Skew:                          -0.445   Prob(JB):                      0.00171\n",
      "Kurtosis:                       4.438   Cond. No.                         616.\n",
      "==============================================================================\n",
      "\n",
      "Notes:\n",
      "[1] Standard Errors are heteroscedasticity and autocorrelation robust (HAC) using 4 lags and without small sample correction\n",
      "\n",
      "\n",
      "Results for F30-F39 - Transtornos do humor [afetivos]:\n",
      "                           GLSAR Regression Results                           \n",
      "==============================================================================\n",
      "Dep. Variable:                valores   R-squared:                       0.625\n",
      "Model:                          GLSAR   Adj. R-squared:                  0.558\n",
      "Method:                 Least Squares   F-statistic:                     23.26\n",
      "Date:                qua, 23 abr 2025   Prob (F-statistic):           3.22e-25\n",
      "Time:                        19:54:00   Log-Likelihood:                -787.91\n",
      "No. Observations:                 107   AIC:                             1610.\n",
      "Df Residuals:                      90   BIC:                             1655.\n",
      "Df Model:                          16                                         \n",
      "Covariance Type:                  HAC                                         \n",
      "=====================================================================================\n",
      "                        coef    std err          z      P>|z|      [0.025      0.975]\n",
      "-------------------------------------------------------------------------------------\n",
      "Intercept          3775.2006    331.972     11.372      0.000    3124.547    4425.854\n",
      "periodo             -25.5140      9.265     -2.754      0.006     -43.673      -7.355\n",
      "month_2            -296.5151    129.127     -2.296      0.022    -549.599     -43.431\n",
      "month_3             138.3769    218.155      0.634      0.526    -289.199     565.953\n",
      "month_4              52.3730    227.647      0.230      0.818    -393.806     498.552\n",
      "month_5             108.0051    249.763      0.432      0.665    -381.521     597.531\n",
      "month_6             165.4742    231.806      0.714      0.475    -288.857     619.806\n",
      "month_7             324.1539    235.216      1.378      0.168    -136.860     785.168\n",
      "month_8             586.3064    266.351      2.201      0.028      64.268    1108.344\n",
      "month_9             175.4410    239.607      0.732      0.464    -294.181     645.063\n",
      "month_10            521.1576    234.865      2.219      0.026      60.831     981.484\n",
      "month_11            161.3765    201.118      0.802      0.422    -232.808     555.561\n",
      "month_12              2.8419    212.823      0.013      0.989    -414.283     419.967\n",
      "Choque_Inicial     -759.0502    291.332     -2.605      0.009   -1330.050    -188.050\n",
      "Lockdown_2021     -1038.8350    483.536     -2.148      0.032   -1986.548     -91.122\n",
      "Step_PosPandemia   -836.1460    346.054     -2.416      0.016   -1514.399    -157.893\n",
      "Trend_PosPandemia    70.8557      9.749      7.268      0.000      51.749      89.963\n",
      "==============================================================================\n",
      "Omnibus:                        4.213   Durbin-Watson:                   2.256\n",
      "Prob(Omnibus):                  0.122   Jarque-Bera (JB):                4.459\n",
      "Skew:                          -0.208   Prob(JB):                        0.108\n",
      "Kurtosis:                       3.909   Cond. No.                         571.\n",
      "==============================================================================\n",
      "\n",
      "Notes:\n",
      "[1] Standard Errors are heteroscedasticity and autocorrelation robust (HAC) using 4 lags and without small sample correction\n",
      "\n",
      "\n",
      "Results for F20-F29 - Esquizofrenia, transtornos esquizotípicos e transtornos delirantes:\n",
      "                           GLSAR Regression Results                           \n",
      "==============================================================================\n",
      "Dep. Variable:                valores   R-squared:                       0.678\n",
      "Model:                          GLSAR   Adj. R-squared:                  0.621\n",
      "Method:                 Least Squares   F-statistic:                     32.32\n",
      "Date:                qua, 23 abr 2025   Prob (F-statistic):           2.21e-30\n",
      "Time:                        19:54:00   Log-Likelihood:                -600.15\n",
      "No. Observations:                 107   AIC:                             1234.\n",
      "Df Residuals:                      90   BIC:                             1280.\n",
      "Df Model:                          16                                         \n",
      "Covariance Type:                  HAC                                         \n",
      "=====================================================================================\n",
      "                        coef    std err          z      P>|z|      [0.025      0.975]\n",
      "-------------------------------------------------------------------------------------\n",
      "Intercept           564.9193     48.747     11.589      0.000     469.378     660.461\n",
      "periodo              -3.0480      1.380     -2.209      0.027      -5.752      -0.344\n",
      "month_2             -74.9399     20.787     -3.605      0.000    -115.681     -34.198\n",
      "month_3               4.9432     32.773      0.151      0.880     -59.290      69.177\n",
      "month_4             -23.1753     40.303     -0.575      0.565    -102.169      55.818\n",
      "month_5             -36.1209     38.829     -0.930      0.352    -112.225      39.984\n",
      "month_6             -16.3181     36.778     -0.444      0.657     -88.402      55.765\n",
      "month_7               7.6128     39.753      0.192      0.848     -70.301      85.527\n",
      "month_8              30.6315     40.219      0.762      0.446     -48.196     109.459\n",
      "month_9              -7.8264     39.461     -0.198      0.843     -85.169      69.516\n",
      "month_10             37.9752     44.644      0.851      0.395     -49.525     125.475\n",
      "month_11            -18.6505     35.473     -0.526      0.599     -88.176      50.875\n",
      "month_12            -45.1571     33.513     -1.347      0.178    -110.842      20.528\n",
      "Choque_Inicial     -145.5546     48.638     -2.993      0.003    -240.883     -50.226\n",
      "Lockdown_2021      -150.4854     80.669     -1.865      0.062    -308.593       7.622\n",
      "Step_PosPandemia   -172.0690     69.682     -2.469      0.014    -308.642     -35.495\n",
      "Trend_PosPandemia    13.7859      1.595      8.644      0.000      10.660      16.912\n",
      "==============================================================================\n",
      "Omnibus:                       14.596   Durbin-Watson:                   2.180\n",
      "Prob(Omnibus):                  0.001   Jarque-Bera (JB):               35.654\n",
      "Skew:                           0.410   Prob(JB):                     1.81e-08\n",
      "Kurtosis:                       5.706   Cond. No.                         552.\n",
      "==============================================================================\n",
      "\n",
      "Notes:\n",
      "[1] Standard Errors are heteroscedasticity and autocorrelation robust (HAC) using 4 lags and without small sample correction\n",
      "\n",
      "\n",
      "Results for F00-F09 - Transtornos mentais orgânicos, inclusive os sintomáticos:\n",
      "                           GLSAR Regression Results                           \n",
      "==============================================================================\n",
      "Dep. Variable:                valores   R-squared:                       0.886\n",
      "Model:                          GLSAR   Adj. R-squared:                  0.866\n",
      "Method:                 Least Squares   F-statistic:                     85.51\n",
      "Date:                qua, 23 abr 2025   Prob (F-statistic):           3.21e-47\n",
      "Time:                        19:54:00   Log-Likelihood:                -539.12\n",
      "No. Observations:                 107   AIC:                             1112.\n",
      "Df Residuals:                      90   BIC:                             1158.\n",
      "Df Model:                          16                                         \n",
      "Covariance Type:                  HAC                                         \n",
      "=====================================================================================\n",
      "                        coef    std err          z      P>|z|      [0.025      0.975]\n",
      "-------------------------------------------------------------------------------------\n",
      "Intercept           191.7806     21.623      8.869      0.000     149.401     234.161\n",
      "periodo               0.3210      0.615      0.522      0.602      -0.884       1.526\n",
      "month_2             -25.9768     16.395     -1.584      0.113     -58.111       6.157\n",
      "month_3              23.1897     21.842      1.062      0.288     -19.620      65.999\n",
      "month_4               1.1516     19.483      0.059      0.953     -37.034      39.337\n",
      "month_5              14.4298     26.033      0.554      0.579     -36.593      65.453\n",
      "month_6              29.9127     20.136      1.485      0.137      -9.554      69.379\n",
      "month_7              46.8042     22.771      2.055      0.040       2.173      91.435\n",
      "month_8              44.4805     21.823      2.038      0.042       1.708      87.253\n",
      "month_9              13.0918     21.944      0.597      0.551     -29.918      56.102\n",
      "month_10             49.1476     23.662      2.077      0.038       2.770      95.525\n",
      "month_11             11.0924     18.807      0.590      0.555     -25.768      47.953\n",
      "month_12             -0.7407     23.068     -0.032      0.974     -45.954      44.472\n",
      "Choque_Inicial      -48.0855     21.472     -2.239      0.025     -90.170      -6.001\n",
      "Lockdown_2021      -117.1261     33.603     -3.486      0.000    -182.987     -51.266\n",
      "Step_PosPandemia    -38.3216     26.239     -1.461      0.144     -89.748      13.105\n",
      "Trend_PosPandemia     5.5218      0.710      7.773      0.000       4.130       6.914\n",
      "==============================================================================\n",
      "Omnibus:                        8.428   Durbin-Watson:                   2.023\n",
      "Prob(Omnibus):                  0.015   Jarque-Bera (JB):               10.582\n",
      "Skew:                          -0.418   Prob(JB):                      0.00504\n",
      "Kurtosis:                       4.294   Cond. No.                         827.\n",
      "==============================================================================\n",
      "\n",
      "Notes:\n",
      "[1] Standard Errors are heteroscedasticity and autocorrelation robust (HAC) using 4 lags and without small sample correction\n",
      "\n",
      "\n"
     ]
    }
   ],
   "source": [
    "\n",
    "results = variable_processor.results\n",
    "for variable in results:\n",
    "\n",
    "    print(f\"Results for {variable}:\")\n",
    "    result = results[variable]\n",
    "\n",
    "    print(result.summary())\n",
    "    \n",
    "    #print(\"AIC\", result.aic,)  # Akaike Information Criterion\n",
    "    #print(\"BIC\", result.bic,)  # Bayesian Information Criterion\n",
    "\n",
    "    print(\"\\n\")"
   ]
  },
  {
   "cell_type": "markdown",
   "metadata": {},
   "source": [
    "# Export Results"
   ]
  },
  {
   "cell_type": "code",
   "execution_count": 241,
   "metadata": {},
   "outputs": [],
   "source": [
    "export_results(results, \n",
    "    output_path = LOCAL_OUTPUT_PATH,\n",
    "    processor_args = PROCESSOR_ARGS,\n",
    "    preprocessor_args=PREPROCESSOR_ARGS\n",
    ")"
   ]
  },
  {
   "cell_type": "markdown",
   "metadata": {},
   "source": [
    "# Evaluation"
   ]
  },
  {
   "cell_type": "code",
   "execution_count": 242,
   "metadata": {},
   "outputs": [
    {
     "data": {
      "text/plain": [
       "\"\\nbaseline_df = RegressionDF[\\n    (RegressionDF['Step_PosPandemia'] == 0) & \\n    ~(RegressionDF['Choque_Inicial'] == 1) & \\n    ~(RegressionDF['Lockdown_2021'] == 1) \\n]\\n\\n\\n# Processar baseline\\nbase_line_args = PROCESSOR_ARGS\\nbase_line_args['formula'] = BASE_MODEL_FORMULA\\nbaseline_processor = VariableProcessor(\\n    df=baseline_df,\\n    processor_args=base_line_args,\\n    processor=RegressionProcessor,\\n    test_size=0.2,\\n    random_state=42,\\n    evaluate = True\\n)\\n_, base_line_evaluation = baseline_processor.process_variables()\\n\\nbase_line_evaluation\\n\""
      ]
     },
     "execution_count": 242,
     "metadata": {},
     "output_type": "execute_result"
    }
   ],
   "source": [
    "'''\n",
    "baseline_df = RegressionDF[\n",
    "    (RegressionDF['Step_PosPandemia'] == 0) & \n",
    "    ~(RegressionDF['Choque_Inicial'] == 1) & \n",
    "    ~(RegressionDF['Lockdown_2021'] == 1) \n",
    "]\n",
    "\n",
    "\n",
    "# Processar baseline\n",
    "base_line_args = PROCESSOR_ARGS\n",
    "base_line_args['formula'] = BASE_MODEL_FORMULA\n",
    "baseline_processor = VariableProcessor(\n",
    "    df=baseline_df,\n",
    "    processor_args=base_line_args,\n",
    "    processor=RegressionProcessor,\n",
    "    test_size=0.2,\n",
    "    random_state=42,\n",
    "    evaluate = True\n",
    ")\n",
    "_, base_line_evaluation = baseline_processor.process_variables()\n",
    "\n",
    "base_line_evaluation\n",
    "'''\n"
   ]
  },
  {
   "cell_type": "code",
   "execution_count": 243,
   "metadata": {},
   "outputs": [
    {
     "data": {
      "text/plain": [
       "'\\npos_intervention_df = RegressionDF[RegressionDF[\\'Step_PosPandemia\\'] == 1]\\n# Processar pós-intervenção\\npos_intervention_processor = VariableProcessor(\\n    df=pos_intervention_df,\\n    processor_args=PROCESSOR_ARGS,\\n    processor=RegressionProcessor,\\n    test_size=0.2,\\n    random_state=42,\\n    evaluate = True\\n)\\n_, pos_intervention_evaluation = pos_intervention_processor.process_variables()\\n\\npos_intervention_evaluation\\n\\n\\nfor variable, row in pos_intervention_evaluation.iterrows():\\n    print(f\"Results for {variable}:\")\\n    splitted_data = row[\\'splitted_data\\']  # Access the \\'splitted_data\\' column\\n    train_data = splitted_data[\\'train_data\\'].sort_values(by=DATE_NAME)\\n    test_data = splitted_data[\\'test_data\\'].sort_values(by=DATE_NAME)\\n\\n    print(\"Train Data:\")\\n    print(train_data)\\n\\n    print(\"Test Data:\")\\n    print(test_data)\\n\\npos_intervention_evaluation\\n'"
      ]
     },
     "execution_count": 243,
     "metadata": {},
     "output_type": "execute_result"
    }
   ],
   "source": [
    "'''\n",
    "pos_intervention_df = RegressionDF[RegressionDF['Step_PosPandemia'] == 1]\n",
    "# Processar pós-intervenção\n",
    "pos_intervention_processor = VariableProcessor(\n",
    "    df=pos_intervention_df,\n",
    "    processor_args=PROCESSOR_ARGS,\n",
    "    processor=RegressionProcessor,\n",
    "    test_size=0.2,\n",
    "    random_state=42,\n",
    "    evaluate = True\n",
    ")\n",
    "_, pos_intervention_evaluation = pos_intervention_processor.process_variables()\n",
    "\n",
    "pos_intervention_evaluation\n",
    "\n",
    "\n",
    "for variable, row in pos_intervention_evaluation.iterrows():\n",
    "    print(f\"Results for {variable}:\")\n",
    "    splitted_data = row['splitted_data']  # Access the 'splitted_data' column\n",
    "    train_data = splitted_data['train_data'].sort_values(by=DATE_NAME)\n",
    "    test_data = splitted_data['test_data'].sort_values(by=DATE_NAME)\n",
    "\n",
    "    print(\"Train Data:\")\n",
    "    print(train_data)\n",
    "\n",
    "    print(\"Test Data:\")\n",
    "    print(test_data)\n",
    "\n",
    "pos_intervention_evaluation\n",
    "'''"
   ]
  },
  {
   "cell_type": "markdown",
   "metadata": {},
   "source": [
    "# Teste Lags"
   ]
  },
  {
   "cell_type": "code",
   "execution_count": 244,
   "metadata": {},
   "outputs": [],
   "source": [
    "#teste_lag\n",
    "from collections import defaultdict\n",
    "import statsmodels.api as sm\n",
    "import statsmodels.formula.api as smf\n",
    "import pandas as pd\n",
    "import statsmodels.stats.api as sms\n",
    "\n",
    "\n",
    "DO_LAG_TEST = False\n",
    "if DO_LAG_TEST:\n",
    "    lags_to_test = [1, 2, 3, 4, 5, 6, 8, 10]\n",
    "    estatisticas_por_lag = defaultdict(dict)\n",
    "\n",
    "    # Adicionar uma variável para armazenar a informação de ACF\n",
    "    acf_values = defaultdict(dict)\n",
    "\n",
    "    for lag in lags_to_test:\n",
    "\n",
    "\n",
    "\n",
    "        processor_args[\"cov_kwargs\"] = {\"maxlags\": lag}\n",
    "\n",
    "        variable_processor = VariableProcessor(\n",
    "            df=RegressionDF,\n",
    "            processor_args=processor_args,\n",
    "            processor=RegressionProcessor\n",
    "        )\n",
    "\n",
    "        variable_processor.process_variables()\n",
    "        results = variable_processor.results\n",
    "\n",
    "        for var, result in results.items():\n",
    "            # extrair estatísticas desejadas\n",
    "            summary_frame = result.summary2().tables[1]  # tabelinha de coeficientes\n",
    "            if \"Trend_PosPandemia\" in summary_frame.index:\n",
    "                trend_stats = summary_frame.loc[\"Trend_PosPandemia\"]\n",
    "                estatisticas_por_lag[lag][var] = {\n",
    "                    \"coef\": trend_stats[\"Coef.\"],\n",
    "                    \"std_err\": trend_stats[\"Std.Err.\"],\n",
    "                    \"p_value\": trend_stats[\"P>|z|\"] if \"P>|z|\" in trend_stats else trend_stats[\"P>|t|\"],\n",
    "                }\n",
    "            else:\n",
    "                estatisticas_por_lag[lag][var] = {\"coef\": None, \"std_err\": None, \"p_value\": None}\n",
    "\n",
    "            # Outras estatísticas: Durbin-Watson, AIC, BIC, R², F-Estatístico, p-valor do modelo\n",
    "            estatisticas_por_lag[lag][var][\"durbin_watson\"] = sm.stats.stattools.durbin_watson(result.resid)\n",
    "            estatisticas_por_lag[lag][var][\"aic\"] = result.aic\n",
    "            estatisticas_por_lag[lag][var][\"bic\"] = result.bic\n",
    "            estatisticas_por_lag[lag][var][\"r_squared\"] = result.rsquared\n",
    "            estatisticas_por_lag[lag][var][\"f_statistic\"] = result.fvalue\n",
    "            estatisticas_por_lag[lag][var][\"p_value_model\"] = result.f_pvalue\n",
    "\n",
    "            # ACF (Autocorrelation Function) dos resíduos\n",
    "            acf_result = sm.tsa.acf(result.resid, nlags=lag, fft=True)\n",
    "            acf_values[lag][var] = acf_result\n",
    "\n",
    "            # Exibir os valores de ACF para verificação\n",
    "            print(f\"Valores da ACF para {var} no lag {lag}: {acf_result}\")\n",
    "\n",
    "            # Ajuste: Registra os lags com autocorrelação positiva maior que 0.1 ou qualquer critério ajustado\n",
    "            acf_significant_lags = [i for i, acf_val in enumerate(acf_result) if abs(acf_val) > 0.1]  # Limite mais relaxado\n",
    "            estatisticas_por_lag[lag][var][\"acf_significant_lags\"] = acf_significant_lags\n",
    "\n",
    "    # Converte o dicionário em uma lista de registros\n",
    "    registros = []\n",
    "    for lag, variaveis in estatisticas_por_lag.items():\n",
    "        for var, stats in variaveis.items():\n",
    "            linha = {\"lag\": lag, \"variavel\": var}\n",
    "            linha.update(stats)\n",
    "            registros.append(linha)\n",
    "\n",
    "    # Cria o DataFrame\n",
    "    df_resultados_lags = pd.DataFrame(registros)\n",
    "\n",
    "    # Ordena para facilitar a visualização\n",
    "    df_resultados_lags.sort_values(by=[\"variavel\", \"lag\"], inplace=True)\n",
    "    #df_resultados_lags.to_csv(\"df_resultados_lags.csv\", sep=';', decimal=',', index=False, encoding='utf-8-sig')\n",
    "    # Exibe os resultados\n",
    "\n"
   ]
  },
  {
   "cell_type": "markdown",
   "metadata": {
    "id": "zH9i6dotzLe5"
   },
   "source": [
    "# Define Hover Graph Func\n"
   ]
  },
  {
   "cell_type": "code",
   "execution_count": 245,
   "metadata": {},
   "outputs": [],
   "source": [
    "import plotly.graph_objects as go\n",
    "def plot_with_all_dummies(variable:str, variable_df, results_obj, dummy_indexes):\n",
    "    \"\"\"\n",
    "    Plots the real series, baseline regression, and dummy effects dynamically using Results object.\n",
    "    \"\"\"\n",
    "    # Extract data from Results object\n",
    "\n",
    "    regression_stats = results_obj.params\n",
    "\n",
    "\n",
    "    variable_df = variable_df.sort_values(by=DATE_NAME).reset_index(drop=True)\n",
    "    dates = variable_df[DATE_NAME].values\n",
    "    real_series = variable_df[DEPENDENT_VAR].values\n",
    "\n",
    "    # Extract regression coefficients\n",
    "    intercept = regression_stats.get(\"Intercept\", 0)\n",
    "    slope = regression_stats.get(INDEPENDENT_VAR, 0)\n",
    "\n",
    "    # Build numeric time index\n",
    "    t = np.arange(len(dates)) + 1  # 1, 2, ..., T\n",
    "\n",
    "    # Compute baseline\n",
    "    baseline = intercept + slope * t\n",
    "\n",
    "\n",
    "    # Initialize the full prediction with the baseline\n",
    "    full_pred = baseline.copy()\n",
    "\n",
    "    # Create the figure\n",
    "    fig = go.Figure()\n",
    "\n",
    "    # Add the real series\n",
    "    fig.add_trace(go.Scatter(\n",
    "        x=dates,\n",
    "        y=real_series,\n",
    "        mode='markers',\n",
    "        name='Real',\n",
    "        marker=dict(color='black')\n",
    "    ))\n",
    "\n",
    "    # Add the baseline\n",
    "    fig.add_trace(go.Scatter(\n",
    "        x=dates,\n",
    "        y=baseline,\n",
    "        mode='lines',\n",
    "        name='Baseline',\n",
    "        line=dict(dash='dot', color='black')\n",
    "    ))\n",
    "\n",
    "    # Add dummy effects dynamically\n",
    "\n",
    "    for dummy_name in dummy_indexes.keys():\n",
    "        coef = regression_stats.get(dummy_name, 0)\n",
    "        dummy_ts = variable_df[dummy_name]#np.where(t > (start_idx), t - (start_idx), 0)\n",
    "        dummy_effect = np.zeros_like(t)\n",
    "        for i, d_t in enumerate(dummy_ts):\n",
    "            dummy_effect[i] = coef * d_t #if start_idx <= i <= end_idx else 0\n",
    "        full_pred += dummy_effect\n",
    "\n",
    "\n",
    "\n",
    "\n",
    "    fig.add_trace(go.Scatter(\n",
    "        x=dates,\n",
    "        y=full_pred,\n",
    "        mode='lines',\n",
    "        name='Full model',\n",
    "        line=dict(color='purple')\n",
    "    ))\n",
    "        \n",
    "\n",
    "    # Update layout\n",
    "    fig.update_layout(\n",
    "        title=variable,\n",
    "        xaxis_title=\"Time\",\n",
    "        yaxis_title=\"Value\",\n",
    "        legend_title=\"Legend\"\n",
    "    )\n",
    "\n",
    "    # Show the figure\n",
    "    fig.show()\n"
   ]
  },
  {
   "cell_type": "code",
   "execution_count": 246,
   "metadata": {},
   "outputs": [],
   "source": [
    "import plotly.graph_objects as go\n",
    "def plot_with_all_dummies_test(variable:str, variable_df, results_obj, dummy_indexes):\n",
    "    \"\"\"\n",
    "    Plots the real series, baseline regression, and dummy effects dynamically using Results object.\n",
    "    \"\"\"\n",
    "    # Extract data from Results object\n",
    "\n",
    "    regression_stats = results_obj.params\n",
    "\n",
    "\n",
    "    variable_df = variable_df.sort_values(by=DATE_NAME).reset_index(drop=True)\n",
    "    dates = variable_df[DATE_NAME].values\n",
    "    real_series = variable_df[DEPENDENT_VAR].values\n",
    "\n",
    "    # Extract regression coefficients\n",
    "    intercept = regression_stats.get(\"Intercept\", 0)\n",
    "    slope = regression_stats.get(INDEPENDENT_VAR, 0)\n",
    "\n",
    "    # Build numeric time index\n",
    "    t = np.arange(len(dates)) + 1  # 1, 2, ..., T\n",
    "\n",
    "    # Compute baseline\n",
    "    baseline = intercept + slope * t\n",
    "\n",
    "\n",
    "    # Initialize the full prediction with the baseline\n",
    "    full_pred = baseline.copy()\n",
    "\n",
    "    # Create the figure\n",
    "    fig = go.Figure()\n",
    "\n",
    "    baseline = intercept + slope * t\n",
    "\n",
    "    # Step effect\n",
    "    step_coef = regression_stats.get(\"Step_PosPandemia\", 0)\n",
    "    step_ts = variable_df[\"Step_PosPandemia\"]\n",
    "    step_effect = step_coef * step_ts\n",
    "\n",
    "    # Trend effect\n",
    "    trend_coef = regression_stats.get(\"Trend_PosPandemia\", 0)\n",
    "    trend_ts = variable_df[\"Trend_PosPandemia\"]\n",
    "    trend_effect = trend_coef * trend_ts\n",
    "\n",
    "    # Modelo com step\n",
    "    pred_with_step = baseline + step_effect\n",
    "\n",
    "    # Modelo completo\n",
    "    full_pred = pred_with_step + trend_effect\n",
    "\n",
    "\n",
    "    fig.add_trace(go.Scatter(\n",
    "    \tx=dates, y=baseline,\n",
    "    \tmode='lines', name='Baseline',\n",
    "    \tline=dict(dash='dot', color='black')\n",
    "    ))\n",
    "    \n",
    "    # Adiciona com Step\n",
    "    fig.add_trace(go.Scatter(\n",
    "    \tx=dates, y=pred_with_step,\n",
    "    \tmode='lines', name='Step only',\n",
    "    \tline=dict(dash='dash', color='blue')\n",
    "    ))\n",
    "    \n",
    "    # Adiciona com Step + Trend\n",
    "    fig.add_trace(go.Scatter(\n",
    "    \tx=dates, y=full_pred,\n",
    "    \tmode='lines', name='Step + Trend',\n",
    "    \tline=dict(color='purple')\n",
    "    ))\n",
    "\n",
    "    # Update layout\n",
    "    fig.update_layout(\n",
    "        title=variable,\n",
    "        xaxis_title=\"Time\",\n",
    "        yaxis_title=\"Value\",\n",
    "        legend_title=\"Legend\"\n",
    "    )\n",
    "\n",
    "    # Show the figure\n",
    "    fig.show()\n"
   ]
  },
  {
   "cell_type": "markdown",
   "metadata": {},
   "source": [
    "# EXEC --- Plot Graph"
   ]
  },
  {
   "cell_type": "code",
   "execution_count": 247,
   "metadata": {},
   "outputs": [
    {
     "data": {
      "application/vnd.plotly.v1+json": {
       "config": {
        "plotlyServerURL": "https://plot.ly"
       },
       "data": [
        {
         "marker": {
          "color": "black"
         },
         "mode": "markers",
         "name": "Real",
         "type": "scatter",
         "x": [
          "2016-01-01T00:00:00.000000000",
          "2016-02-01T00:00:00.000000000",
          "2016-03-01T00:00:00.000000000",
          "2016-04-01T00:00:00.000000000",
          "2016-05-01T00:00:00.000000000",
          "2016-06-01T00:00:00.000000000",
          "2016-07-01T00:00:00.000000000",
          "2016-08-01T00:00:00.000000000",
          "2016-09-01T00:00:00.000000000",
          "2016-10-01T00:00:00.000000000",
          "2016-11-01T00:00:00.000000000",
          "2016-12-01T00:00:00.000000000",
          "2017-01-01T00:00:00.000000000",
          "2017-02-01T00:00:00.000000000",
          "2017-03-01T00:00:00.000000000",
          "2017-04-01T00:00:00.000000000",
          "2017-05-01T00:00:00.000000000",
          "2017-06-01T00:00:00.000000000",
          "2017-07-01T00:00:00.000000000",
          "2017-08-01T00:00:00.000000000",
          "2017-09-01T00:00:00.000000000",
          "2017-10-01T00:00:00.000000000",
          "2017-11-01T00:00:00.000000000",
          "2017-12-01T00:00:00.000000000",
          "2018-01-01T00:00:00.000000000",
          "2018-02-01T00:00:00.000000000",
          "2018-03-01T00:00:00.000000000",
          "2018-04-01T00:00:00.000000000",
          "2018-05-01T00:00:00.000000000",
          "2018-06-01T00:00:00.000000000",
          "2018-07-01T00:00:00.000000000",
          "2018-08-01T00:00:00.000000000",
          "2018-09-01T00:00:00.000000000",
          "2018-10-01T00:00:00.000000000",
          "2018-11-01T00:00:00.000000000",
          "2018-12-01T00:00:00.000000000",
          "2019-01-01T00:00:00.000000000",
          "2019-02-01T00:00:00.000000000",
          "2019-03-01T00:00:00.000000000",
          "2019-04-01T00:00:00.000000000",
          "2019-05-01T00:00:00.000000000",
          "2019-06-01T00:00:00.000000000",
          "2019-07-01T00:00:00.000000000",
          "2019-08-01T00:00:00.000000000",
          "2019-09-01T00:00:00.000000000",
          "2019-10-01T00:00:00.000000000",
          "2019-11-01T00:00:00.000000000",
          "2019-12-01T00:00:00.000000000",
          "2020-01-01T00:00:00.000000000",
          "2020-02-01T00:00:00.000000000",
          "2020-03-01T00:00:00.000000000",
          "2020-04-01T00:00:00.000000000",
          "2020-05-01T00:00:00.000000000",
          "2020-06-01T00:00:00.000000000",
          "2020-07-01T00:00:00.000000000",
          "2020-08-01T00:00:00.000000000",
          "2020-09-01T00:00:00.000000000",
          "2020-10-01T00:00:00.000000000",
          "2020-11-01T00:00:00.000000000",
          "2020-12-01T00:00:00.000000000",
          "2021-01-01T00:00:00.000000000",
          "2021-02-01T00:00:00.000000000",
          "2021-03-01T00:00:00.000000000",
          "2021-04-01T00:00:00.000000000",
          "2021-05-01T00:00:00.000000000",
          "2021-06-01T00:00:00.000000000",
          "2021-07-01T00:00:00.000000000",
          "2021-08-01T00:00:00.000000000",
          "2021-09-01T00:00:00.000000000",
          "2021-10-01T00:00:00.000000000",
          "2021-11-01T00:00:00.000000000",
          "2021-12-01T00:00:00.000000000",
          "2022-01-01T00:00:00.000000000",
          "2022-02-01T00:00:00.000000000",
          "2022-03-01T00:00:00.000000000",
          "2022-04-01T00:00:00.000000000",
          "2022-05-01T00:00:00.000000000",
          "2022-06-01T00:00:00.000000000",
          "2022-07-01T00:00:00.000000000",
          "2022-08-01T00:00:00.000000000",
          "2022-09-01T00:00:00.000000000",
          "2022-10-01T00:00:00.000000000",
          "2022-11-01T00:00:00.000000000",
          "2022-12-01T00:00:00.000000000",
          "2023-01-01T00:00:00.000000000",
          "2023-02-01T00:00:00.000000000",
          "2023-03-01T00:00:00.000000000",
          "2023-04-01T00:00:00.000000000",
          "2023-05-01T00:00:00.000000000",
          "2023-06-01T00:00:00.000000000",
          "2023-07-01T00:00:00.000000000",
          "2023-08-01T00:00:00.000000000",
          "2023-09-01T00:00:00.000000000",
          "2023-10-01T00:00:00.000000000",
          "2023-11-01T00:00:00.000000000",
          "2023-12-01T00:00:00.000000000",
          "2024-01-01T00:00:00.000000000",
          "2024-02-01T00:00:00.000000000",
          "2024-03-01T00:00:00.000000000",
          "2024-04-01T00:00:00.000000000",
          "2024-05-01T00:00:00.000000000",
          "2024-06-01T00:00:00.000000000",
          "2024-07-01T00:00:00.000000000",
          "2024-08-01T00:00:00.000000000",
          "2024-09-01T00:00:00.000000000",
          "2024-10-01T00:00:00.000000000",
          "2024-11-01T00:00:00.000000000",
          "2024-12-01T00:00:00.000000000"
         ],
         "y": [
          4004,
          4300,
          5822,
          5279,
          6968,
          8146,
          7944,
          9440,
          8060,
          7662,
          5989,
          5751,
          5507,
          5082,
          7545,
          5931,
          6891,
          6380,
          6242,
          6652,
          6183,
          6093,
          6489,
          5885,
          5917,
          5229,
          7009,
          7236,
          7008,
          6261,
          6386,
          7062,
          6310,
          7819,
          6729,
          5946,
          6737,
          6202,
          5820,
          7001,
          7720,
          6429,
          7416,
          7266,
          5944,
          6536,
          5133,
          4494,
          5346,
          4672,
          4154,
          3680,
          4576,
          5021,
          5083,
          5679,
          6507,
          6689,
          6764,
          6464,
          6359,
          6067,
          6096,
          4274,
          1744,
          7511,
          8100,
          8425,
          8039,
          8227,
          7684,
          7794,
          4461,
          5908,
          8563,
          6690,
          7519,
          7764,
          7948,
          8849,
          8463,
          9308,
          9401,
          9091,
          10232,
          8293,
          11363,
          9734,
          11795,
          10642,
          11392,
          13593,
          11136,
          13693,
          13533,
          12965,
          13476,
          12158,
          13252,
          14928,
          10622,
          13097,
          14441,
          14690,
          13509,
          17435,
          14082,
          13405
         ]
        },
        {
         "line": {
          "color": "black",
          "dash": "dot"
         },
         "mode": "lines",
         "name": "Baseline",
         "type": "scatter",
         "x": [
          "2016-01-01T00:00:00.000000000",
          "2016-02-01T00:00:00.000000000",
          "2016-03-01T00:00:00.000000000",
          "2016-04-01T00:00:00.000000000",
          "2016-05-01T00:00:00.000000000",
          "2016-06-01T00:00:00.000000000",
          "2016-07-01T00:00:00.000000000",
          "2016-08-01T00:00:00.000000000",
          "2016-09-01T00:00:00.000000000",
          "2016-10-01T00:00:00.000000000",
          "2016-11-01T00:00:00.000000000",
          "2016-12-01T00:00:00.000000000",
          "2017-01-01T00:00:00.000000000",
          "2017-02-01T00:00:00.000000000",
          "2017-03-01T00:00:00.000000000",
          "2017-04-01T00:00:00.000000000",
          "2017-05-01T00:00:00.000000000",
          "2017-06-01T00:00:00.000000000",
          "2017-07-01T00:00:00.000000000",
          "2017-08-01T00:00:00.000000000",
          "2017-09-01T00:00:00.000000000",
          "2017-10-01T00:00:00.000000000",
          "2017-11-01T00:00:00.000000000",
          "2017-12-01T00:00:00.000000000",
          "2018-01-01T00:00:00.000000000",
          "2018-02-01T00:00:00.000000000",
          "2018-03-01T00:00:00.000000000",
          "2018-04-01T00:00:00.000000000",
          "2018-05-01T00:00:00.000000000",
          "2018-06-01T00:00:00.000000000",
          "2018-07-01T00:00:00.000000000",
          "2018-08-01T00:00:00.000000000",
          "2018-09-01T00:00:00.000000000",
          "2018-10-01T00:00:00.000000000",
          "2018-11-01T00:00:00.000000000",
          "2018-12-01T00:00:00.000000000",
          "2019-01-01T00:00:00.000000000",
          "2019-02-01T00:00:00.000000000",
          "2019-03-01T00:00:00.000000000",
          "2019-04-01T00:00:00.000000000",
          "2019-05-01T00:00:00.000000000",
          "2019-06-01T00:00:00.000000000",
          "2019-07-01T00:00:00.000000000",
          "2019-08-01T00:00:00.000000000",
          "2019-09-01T00:00:00.000000000",
          "2019-10-01T00:00:00.000000000",
          "2019-11-01T00:00:00.000000000",
          "2019-12-01T00:00:00.000000000",
          "2020-01-01T00:00:00.000000000",
          "2020-02-01T00:00:00.000000000",
          "2020-03-01T00:00:00.000000000",
          "2020-04-01T00:00:00.000000000",
          "2020-05-01T00:00:00.000000000",
          "2020-06-01T00:00:00.000000000",
          "2020-07-01T00:00:00.000000000",
          "2020-08-01T00:00:00.000000000",
          "2020-09-01T00:00:00.000000000",
          "2020-10-01T00:00:00.000000000",
          "2020-11-01T00:00:00.000000000",
          "2020-12-01T00:00:00.000000000",
          "2021-01-01T00:00:00.000000000",
          "2021-02-01T00:00:00.000000000",
          "2021-03-01T00:00:00.000000000",
          "2021-04-01T00:00:00.000000000",
          "2021-05-01T00:00:00.000000000",
          "2021-06-01T00:00:00.000000000",
          "2021-07-01T00:00:00.000000000",
          "2021-08-01T00:00:00.000000000",
          "2021-09-01T00:00:00.000000000",
          "2021-10-01T00:00:00.000000000",
          "2021-11-01T00:00:00.000000000",
          "2021-12-01T00:00:00.000000000",
          "2022-01-01T00:00:00.000000000",
          "2022-02-01T00:00:00.000000000",
          "2022-03-01T00:00:00.000000000",
          "2022-04-01T00:00:00.000000000",
          "2022-05-01T00:00:00.000000000",
          "2022-06-01T00:00:00.000000000",
          "2022-07-01T00:00:00.000000000",
          "2022-08-01T00:00:00.000000000",
          "2022-09-01T00:00:00.000000000",
          "2022-10-01T00:00:00.000000000",
          "2022-11-01T00:00:00.000000000",
          "2022-12-01T00:00:00.000000000",
          "2023-01-01T00:00:00.000000000",
          "2023-02-01T00:00:00.000000000",
          "2023-03-01T00:00:00.000000000",
          "2023-04-01T00:00:00.000000000",
          "2023-05-01T00:00:00.000000000",
          "2023-06-01T00:00:00.000000000",
          "2023-07-01T00:00:00.000000000",
          "2023-08-01T00:00:00.000000000",
          "2023-09-01T00:00:00.000000000",
          "2023-10-01T00:00:00.000000000",
          "2023-11-01T00:00:00.000000000",
          "2023-12-01T00:00:00.000000000",
          "2024-01-01T00:00:00.000000000",
          "2024-02-01T00:00:00.000000000",
          "2024-03-01T00:00:00.000000000",
          "2024-04-01T00:00:00.000000000",
          "2024-05-01T00:00:00.000000000",
          "2024-06-01T00:00:00.000000000",
          "2024-07-01T00:00:00.000000000",
          "2024-08-01T00:00:00.000000000",
          "2024-09-01T00:00:00.000000000",
          "2024-10-01T00:00:00.000000000",
          "2024-11-01T00:00:00.000000000",
          "2024-12-01T00:00:00.000000000"
         ],
         "y": [
          6513.772775717973,
          6497.0201948941085,
          6480.267614070245,
          6463.515033246382,
          6446.7624524225175,
          6430.009871598654,
          6413.25729077479,
          6396.504709950927,
          6379.752129127063,
          6362.999548303199,
          6346.246967479336,
          6329.494386655472,
          6312.741805831608,
          6295.989225007745,
          6279.236644183881,
          6262.484063360017,
          6245.731482536154,
          6228.978901712289,
          6212.226320888426,
          6195.473740064563,
          6178.721159240698,
          6161.968578416835,
          6145.215997592972,
          6128.463416769107,
          6111.710835945244,
          6094.958255121381,
          6078.205674297516,
          6061.453093473653,
          6044.700512649789,
          6027.9479318259255,
          6011.195351002062,
          5994.442770178198,
          5977.6901893543345,
          5960.937608530471,
          5944.185027706607,
          5927.4324468827435,
          5910.679866058879,
          5893.927285235016,
          5877.174704411153,
          5860.422123587288,
          5843.669542763425,
          5826.916961939562,
          5810.164381115697,
          5793.411800291834,
          5776.659219467971,
          5759.906638644106,
          5743.154057820243,
          5726.40147699638,
          5709.648896172515,
          5692.896315348652,
          5676.143734524789,
          5659.391153700924,
          5642.638572877061,
          5625.885992053197,
          5609.133411229333,
          5592.38083040547,
          5575.628249581606,
          5558.8756687577425,
          5542.123087933879,
          5525.370507110015,
          5508.6179262861515,
          5491.865345462287,
          5475.112764638424,
          5458.3601838145605,
          5441.607602990696,
          5424.855022166833,
          5408.1024413429695,
          5391.349860519105,
          5374.597279695242,
          5357.844698871379,
          5341.092118047514,
          5324.339537223651,
          5307.586956399788,
          5290.834375575923,
          5274.08179475206,
          5257.329213928197,
          5240.576633104332,
          5223.824052280469,
          5207.071471456605,
          5190.318890632741,
          5173.566309808877,
          5156.813728985014,
          5140.06114816115,
          5123.308567337286,
          5106.555986513423,
          5089.803405689559,
          5073.050824865695,
          5056.298244041832,
          5039.5456632179685,
          5022.793082394104,
          5006.040501570241,
          4989.2879207463775,
          4972.535339922513,
          4955.78275909865,
          4939.0301782747865,
          4922.277597450922,
          4905.525016627059,
          4888.772435803196,
          4872.019854979331,
          4855.267274155468,
          4838.514693331604,
          4821.76211250774,
          4805.009531683876,
          4788.256950860013,
          4771.504370036149,
          4754.751789212285,
          4737.999208388422,
          4721.246627564558
         ]
        },
        {
         "line": {
          "color": "purple"
         },
         "mode": "lines",
         "name": "Full model",
         "type": "scatter",
         "x": [
          "2016-01-01T00:00:00.000000000",
          "2016-02-01T00:00:00.000000000",
          "2016-03-01T00:00:00.000000000",
          "2016-04-01T00:00:00.000000000",
          "2016-05-01T00:00:00.000000000",
          "2016-06-01T00:00:00.000000000",
          "2016-07-01T00:00:00.000000000",
          "2016-08-01T00:00:00.000000000",
          "2016-09-01T00:00:00.000000000",
          "2016-10-01T00:00:00.000000000",
          "2016-11-01T00:00:00.000000000",
          "2016-12-01T00:00:00.000000000",
          "2017-01-01T00:00:00.000000000",
          "2017-02-01T00:00:00.000000000",
          "2017-03-01T00:00:00.000000000",
          "2017-04-01T00:00:00.000000000",
          "2017-05-01T00:00:00.000000000",
          "2017-06-01T00:00:00.000000000",
          "2017-07-01T00:00:00.000000000",
          "2017-08-01T00:00:00.000000000",
          "2017-09-01T00:00:00.000000000",
          "2017-10-01T00:00:00.000000000",
          "2017-11-01T00:00:00.000000000",
          "2017-12-01T00:00:00.000000000",
          "2018-01-01T00:00:00.000000000",
          "2018-02-01T00:00:00.000000000",
          "2018-03-01T00:00:00.000000000",
          "2018-04-01T00:00:00.000000000",
          "2018-05-01T00:00:00.000000000",
          "2018-06-01T00:00:00.000000000",
          "2018-07-01T00:00:00.000000000",
          "2018-08-01T00:00:00.000000000",
          "2018-09-01T00:00:00.000000000",
          "2018-10-01T00:00:00.000000000",
          "2018-11-01T00:00:00.000000000",
          "2018-12-01T00:00:00.000000000",
          "2019-01-01T00:00:00.000000000",
          "2019-02-01T00:00:00.000000000",
          "2019-03-01T00:00:00.000000000",
          "2019-04-01T00:00:00.000000000",
          "2019-05-01T00:00:00.000000000",
          "2019-06-01T00:00:00.000000000",
          "2019-07-01T00:00:00.000000000",
          "2019-08-01T00:00:00.000000000",
          "2019-09-01T00:00:00.000000000",
          "2019-10-01T00:00:00.000000000",
          "2019-11-01T00:00:00.000000000",
          "2019-12-01T00:00:00.000000000",
          "2020-01-01T00:00:00.000000000",
          "2020-02-01T00:00:00.000000000",
          "2020-03-01T00:00:00.000000000",
          "2020-04-01T00:00:00.000000000",
          "2020-05-01T00:00:00.000000000",
          "2020-06-01T00:00:00.000000000",
          "2020-07-01T00:00:00.000000000",
          "2020-08-01T00:00:00.000000000",
          "2020-09-01T00:00:00.000000000",
          "2020-10-01T00:00:00.000000000",
          "2020-11-01T00:00:00.000000000",
          "2020-12-01T00:00:00.000000000",
          "2021-01-01T00:00:00.000000000",
          "2021-02-01T00:00:00.000000000",
          "2021-03-01T00:00:00.000000000",
          "2021-04-01T00:00:00.000000000",
          "2021-05-01T00:00:00.000000000",
          "2021-06-01T00:00:00.000000000",
          "2021-07-01T00:00:00.000000000",
          "2021-08-01T00:00:00.000000000",
          "2021-09-01T00:00:00.000000000",
          "2021-10-01T00:00:00.000000000",
          "2021-11-01T00:00:00.000000000",
          "2021-12-01T00:00:00.000000000",
          "2022-01-01T00:00:00.000000000",
          "2022-02-01T00:00:00.000000000",
          "2022-03-01T00:00:00.000000000",
          "2022-04-01T00:00:00.000000000",
          "2022-05-01T00:00:00.000000000",
          "2022-06-01T00:00:00.000000000",
          "2022-07-01T00:00:00.000000000",
          "2022-08-01T00:00:00.000000000",
          "2022-09-01T00:00:00.000000000",
          "2022-10-01T00:00:00.000000000",
          "2022-11-01T00:00:00.000000000",
          "2022-12-01T00:00:00.000000000",
          "2023-01-01T00:00:00.000000000",
          "2023-02-01T00:00:00.000000000",
          "2023-03-01T00:00:00.000000000",
          "2023-04-01T00:00:00.000000000",
          "2023-05-01T00:00:00.000000000",
          "2023-06-01T00:00:00.000000000",
          "2023-07-01T00:00:00.000000000",
          "2023-08-01T00:00:00.000000000",
          "2023-09-01T00:00:00.000000000",
          "2023-10-01T00:00:00.000000000",
          "2023-11-01T00:00:00.000000000",
          "2023-12-01T00:00:00.000000000",
          "2024-01-01T00:00:00.000000000",
          "2024-02-01T00:00:00.000000000",
          "2024-03-01T00:00:00.000000000",
          "2024-04-01T00:00:00.000000000",
          "2024-05-01T00:00:00.000000000",
          "2024-06-01T00:00:00.000000000",
          "2024-07-01T00:00:00.000000000",
          "2024-08-01T00:00:00.000000000",
          "2024-09-01T00:00:00.000000000",
          "2024-10-01T00:00:00.000000000",
          "2024-11-01T00:00:00.000000000",
          "2024-12-01T00:00:00.000000000"
         ],
         "y": [
          6513.772775717973,
          6497.0201948941085,
          6480.267614070245,
          6463.515033246382,
          6446.7624524225175,
          6430.009871598654,
          6413.25729077479,
          6396.504709950927,
          6379.752129127063,
          6362.999548303199,
          6346.246967479336,
          6329.494386655472,
          6312.741805831608,
          6295.989225007745,
          6279.236644183881,
          6262.484063360017,
          6245.731482536154,
          6228.978901712289,
          6212.226320888426,
          6195.473740064563,
          6178.721159240698,
          6161.968578416835,
          6145.215997592972,
          6128.463416769107,
          6111.710835945244,
          6094.958255121381,
          6078.205674297516,
          6061.453093473653,
          6044.700512649789,
          6027.9479318259255,
          6011.195351002062,
          5994.442770178198,
          5977.6901893543345,
          5960.937608530471,
          5944.185027706607,
          5927.4324468827435,
          5910.679866058879,
          5893.927285235016,
          5877.174704411153,
          5860.422123587288,
          5843.669542763425,
          5826.916961939562,
          5810.164381115697,
          5793.411800291834,
          5776.659219467971,
          5759.906638644106,
          5743.154057820243,
          5726.40147699638,
          3862.6488961725154,
          4031.896315348652,
          4056.1437345247887,
          4039.3911537009244,
          4022.638572877061,
          4005.885992053197,
          3989.1334112293334,
          5046.38083040547,
          5215.628249581606,
          5384.8756687577425,
          5554.123087933879,
          5723.370507110015,
          5892.6179262861515,
          6061.865345462287,
          6231.112764638424,
          2867.3601838145605,
          2850.6076029906963,
          6737.855022166833,
          6907.1024413429695,
          7076.349860519105,
          7245.597279695242,
          7414.844698871379,
          7584.092118047514,
          7752.339537223651,
          7921.586956399788,
          8090.834375575923,
          8260.081794752059,
          8429.329213928197,
          8598.576633104332,
          8767.82405228047,
          8937.071471456606,
          9105.318890632741,
          9274.566309808877,
          9443.813728985013,
          9613.06114816115,
          9782.308567337286,
          9951.555986513424,
          10120.80340568956,
          10290.050824865695,
          10458.298244041831,
          10627.545663217968,
          10796.793082394104,
          10966.040501570242,
          11135.287920746377,
          11304.535339922513,
          11473.782759098649,
          11643.030178274787,
          11811.277597450922,
          11980.52501662706,
          12149.772435803196,
          12319.019854979331,
          12488.267274155467,
          12657.514693331603,
          12826.76211250774,
          12996.009531683876,
          13164.256950860014,
          13333.50437003615,
          13502.751789212285,
          13671.99920838842,
          13841.246627564558
         ]
        }
       ],
       "layout": {
        "legend": {
         "title": {
          "text": "Legend"
         }
        },
        "template": {
         "data": {
          "bar": [
           {
            "error_x": {
             "color": "#2a3f5f"
            },
            "error_y": {
             "color": "#2a3f5f"
            },
            "marker": {
             "line": {
              "color": "#E5ECF6",
              "width": 0.5
             },
             "pattern": {
              "fillmode": "overlay",
              "size": 10,
              "solidity": 0.2
             }
            },
            "type": "bar"
           }
          ],
          "barpolar": [
           {
            "marker": {
             "line": {
              "color": "#E5ECF6",
              "width": 0.5
             },
             "pattern": {
              "fillmode": "overlay",
              "size": 10,
              "solidity": 0.2
             }
            },
            "type": "barpolar"
           }
          ],
          "carpet": [
           {
            "aaxis": {
             "endlinecolor": "#2a3f5f",
             "gridcolor": "white",
             "linecolor": "white",
             "minorgridcolor": "white",
             "startlinecolor": "#2a3f5f"
            },
            "baxis": {
             "endlinecolor": "#2a3f5f",
             "gridcolor": "white",
             "linecolor": "white",
             "minorgridcolor": "white",
             "startlinecolor": "#2a3f5f"
            },
            "type": "carpet"
           }
          ],
          "choropleth": [
           {
            "colorbar": {
             "outlinewidth": 0,
             "ticks": ""
            },
            "type": "choropleth"
           }
          ],
          "contour": [
           {
            "colorbar": {
             "outlinewidth": 0,
             "ticks": ""
            },
            "colorscale": [
             [
              0,
              "#0d0887"
             ],
             [
              0.1111111111111111,
              "#46039f"
             ],
             [
              0.2222222222222222,
              "#7201a8"
             ],
             [
              0.3333333333333333,
              "#9c179e"
             ],
             [
              0.4444444444444444,
              "#bd3786"
             ],
             [
              0.5555555555555556,
              "#d8576b"
             ],
             [
              0.6666666666666666,
              "#ed7953"
             ],
             [
              0.7777777777777778,
              "#fb9f3a"
             ],
             [
              0.8888888888888888,
              "#fdca26"
             ],
             [
              1,
              "#f0f921"
             ]
            ],
            "type": "contour"
           }
          ],
          "contourcarpet": [
           {
            "colorbar": {
             "outlinewidth": 0,
             "ticks": ""
            },
            "type": "contourcarpet"
           }
          ],
          "heatmap": [
           {
            "colorbar": {
             "outlinewidth": 0,
             "ticks": ""
            },
            "colorscale": [
             [
              0,
              "#0d0887"
             ],
             [
              0.1111111111111111,
              "#46039f"
             ],
             [
              0.2222222222222222,
              "#7201a8"
             ],
             [
              0.3333333333333333,
              "#9c179e"
             ],
             [
              0.4444444444444444,
              "#bd3786"
             ],
             [
              0.5555555555555556,
              "#d8576b"
             ],
             [
              0.6666666666666666,
              "#ed7953"
             ],
             [
              0.7777777777777778,
              "#fb9f3a"
             ],
             [
              0.8888888888888888,
              "#fdca26"
             ],
             [
              1,
              "#f0f921"
             ]
            ],
            "type": "heatmap"
           }
          ],
          "heatmapgl": [
           {
            "colorbar": {
             "outlinewidth": 0,
             "ticks": ""
            },
            "colorscale": [
             [
              0,
              "#0d0887"
             ],
             [
              0.1111111111111111,
              "#46039f"
             ],
             [
              0.2222222222222222,
              "#7201a8"
             ],
             [
              0.3333333333333333,
              "#9c179e"
             ],
             [
              0.4444444444444444,
              "#bd3786"
             ],
             [
              0.5555555555555556,
              "#d8576b"
             ],
             [
              0.6666666666666666,
              "#ed7953"
             ],
             [
              0.7777777777777778,
              "#fb9f3a"
             ],
             [
              0.8888888888888888,
              "#fdca26"
             ],
             [
              1,
              "#f0f921"
             ]
            ],
            "type": "heatmapgl"
           }
          ],
          "histogram": [
           {
            "marker": {
             "pattern": {
              "fillmode": "overlay",
              "size": 10,
              "solidity": 0.2
             }
            },
            "type": "histogram"
           }
          ],
          "histogram2d": [
           {
            "colorbar": {
             "outlinewidth": 0,
             "ticks": ""
            },
            "colorscale": [
             [
              0,
              "#0d0887"
             ],
             [
              0.1111111111111111,
              "#46039f"
             ],
             [
              0.2222222222222222,
              "#7201a8"
             ],
             [
              0.3333333333333333,
              "#9c179e"
             ],
             [
              0.4444444444444444,
              "#bd3786"
             ],
             [
              0.5555555555555556,
              "#d8576b"
             ],
             [
              0.6666666666666666,
              "#ed7953"
             ],
             [
              0.7777777777777778,
              "#fb9f3a"
             ],
             [
              0.8888888888888888,
              "#fdca26"
             ],
             [
              1,
              "#f0f921"
             ]
            ],
            "type": "histogram2d"
           }
          ],
          "histogram2dcontour": [
           {
            "colorbar": {
             "outlinewidth": 0,
             "ticks": ""
            },
            "colorscale": [
             [
              0,
              "#0d0887"
             ],
             [
              0.1111111111111111,
              "#46039f"
             ],
             [
              0.2222222222222222,
              "#7201a8"
             ],
             [
              0.3333333333333333,
              "#9c179e"
             ],
             [
              0.4444444444444444,
              "#bd3786"
             ],
             [
              0.5555555555555556,
              "#d8576b"
             ],
             [
              0.6666666666666666,
              "#ed7953"
             ],
             [
              0.7777777777777778,
              "#fb9f3a"
             ],
             [
              0.8888888888888888,
              "#fdca26"
             ],
             [
              1,
              "#f0f921"
             ]
            ],
            "type": "histogram2dcontour"
           }
          ],
          "mesh3d": [
           {
            "colorbar": {
             "outlinewidth": 0,
             "ticks": ""
            },
            "type": "mesh3d"
           }
          ],
          "parcoords": [
           {
            "line": {
             "colorbar": {
              "outlinewidth": 0,
              "ticks": ""
             }
            },
            "type": "parcoords"
           }
          ],
          "pie": [
           {
            "automargin": true,
            "type": "pie"
           }
          ],
          "scatter": [
           {
            "fillpattern": {
             "fillmode": "overlay",
             "size": 10,
             "solidity": 0.2
            },
            "type": "scatter"
           }
          ],
          "scatter3d": [
           {
            "line": {
             "colorbar": {
              "outlinewidth": 0,
              "ticks": ""
             }
            },
            "marker": {
             "colorbar": {
              "outlinewidth": 0,
              "ticks": ""
             }
            },
            "type": "scatter3d"
           }
          ],
          "scattercarpet": [
           {
            "marker": {
             "colorbar": {
              "outlinewidth": 0,
              "ticks": ""
             }
            },
            "type": "scattercarpet"
           }
          ],
          "scattergeo": [
           {
            "marker": {
             "colorbar": {
              "outlinewidth": 0,
              "ticks": ""
             }
            },
            "type": "scattergeo"
           }
          ],
          "scattergl": [
           {
            "marker": {
             "colorbar": {
              "outlinewidth": 0,
              "ticks": ""
             }
            },
            "type": "scattergl"
           }
          ],
          "scattermapbox": [
           {
            "marker": {
             "colorbar": {
              "outlinewidth": 0,
              "ticks": ""
             }
            },
            "type": "scattermapbox"
           }
          ],
          "scatterpolar": [
           {
            "marker": {
             "colorbar": {
              "outlinewidth": 0,
              "ticks": ""
             }
            },
            "type": "scatterpolar"
           }
          ],
          "scatterpolargl": [
           {
            "marker": {
             "colorbar": {
              "outlinewidth": 0,
              "ticks": ""
             }
            },
            "type": "scatterpolargl"
           }
          ],
          "scatterternary": [
           {
            "marker": {
             "colorbar": {
              "outlinewidth": 0,
              "ticks": ""
             }
            },
            "type": "scatterternary"
           }
          ],
          "surface": [
           {
            "colorbar": {
             "outlinewidth": 0,
             "ticks": ""
            },
            "colorscale": [
             [
              0,
              "#0d0887"
             ],
             [
              0.1111111111111111,
              "#46039f"
             ],
             [
              0.2222222222222222,
              "#7201a8"
             ],
             [
              0.3333333333333333,
              "#9c179e"
             ],
             [
              0.4444444444444444,
              "#bd3786"
             ],
             [
              0.5555555555555556,
              "#d8576b"
             ],
             [
              0.6666666666666666,
              "#ed7953"
             ],
             [
              0.7777777777777778,
              "#fb9f3a"
             ],
             [
              0.8888888888888888,
              "#fdca26"
             ],
             [
              1,
              "#f0f921"
             ]
            ],
            "type": "surface"
           }
          ],
          "table": [
           {
            "cells": {
             "fill": {
              "color": "#EBF0F8"
             },
             "line": {
              "color": "white"
             }
            },
            "header": {
             "fill": {
              "color": "#C8D4E3"
             },
             "line": {
              "color": "white"
             }
            },
            "type": "table"
           }
          ]
         },
         "layout": {
          "annotationdefaults": {
           "arrowcolor": "#2a3f5f",
           "arrowhead": 0,
           "arrowwidth": 1
          },
          "autotypenumbers": "strict",
          "coloraxis": {
           "colorbar": {
            "outlinewidth": 0,
            "ticks": ""
           }
          },
          "colorscale": {
           "diverging": [
            [
             0,
             "#8e0152"
            ],
            [
             0.1,
             "#c51b7d"
            ],
            [
             0.2,
             "#de77ae"
            ],
            [
             0.3,
             "#f1b6da"
            ],
            [
             0.4,
             "#fde0ef"
            ],
            [
             0.5,
             "#f7f7f7"
            ],
            [
             0.6,
             "#e6f5d0"
            ],
            [
             0.7,
             "#b8e186"
            ],
            [
             0.8,
             "#7fbc41"
            ],
            [
             0.9,
             "#4d9221"
            ],
            [
             1,
             "#276419"
            ]
           ],
           "sequential": [
            [
             0,
             "#0d0887"
            ],
            [
             0.1111111111111111,
             "#46039f"
            ],
            [
             0.2222222222222222,
             "#7201a8"
            ],
            [
             0.3333333333333333,
             "#9c179e"
            ],
            [
             0.4444444444444444,
             "#bd3786"
            ],
            [
             0.5555555555555556,
             "#d8576b"
            ],
            [
             0.6666666666666666,
             "#ed7953"
            ],
            [
             0.7777777777777778,
             "#fb9f3a"
            ],
            [
             0.8888888888888888,
             "#fdca26"
            ],
            [
             1,
             "#f0f921"
            ]
           ],
           "sequentialminus": [
            [
             0,
             "#0d0887"
            ],
            [
             0.1111111111111111,
             "#46039f"
            ],
            [
             0.2222222222222222,
             "#7201a8"
            ],
            [
             0.3333333333333333,
             "#9c179e"
            ],
            [
             0.4444444444444444,
             "#bd3786"
            ],
            [
             0.5555555555555556,
             "#d8576b"
            ],
            [
             0.6666666666666666,
             "#ed7953"
            ],
            [
             0.7777777777777778,
             "#fb9f3a"
            ],
            [
             0.8888888888888888,
             "#fdca26"
            ],
            [
             1,
             "#f0f921"
            ]
           ]
          },
          "colorway": [
           "#636efa",
           "#EF553B",
           "#00cc96",
           "#ab63fa",
           "#FFA15A",
           "#19d3f3",
           "#FF6692",
           "#B6E880",
           "#FF97FF",
           "#FECB52"
          ],
          "font": {
           "color": "#2a3f5f"
          },
          "geo": {
           "bgcolor": "white",
           "lakecolor": "white",
           "landcolor": "#E5ECF6",
           "showlakes": true,
           "showland": true,
           "subunitcolor": "white"
          },
          "hoverlabel": {
           "align": "left"
          },
          "hovermode": "closest",
          "mapbox": {
           "style": "light"
          },
          "paper_bgcolor": "white",
          "plot_bgcolor": "#E5ECF6",
          "polar": {
           "angularaxis": {
            "gridcolor": "white",
            "linecolor": "white",
            "ticks": ""
           },
           "bgcolor": "#E5ECF6",
           "radialaxis": {
            "gridcolor": "white",
            "linecolor": "white",
            "ticks": ""
           }
          },
          "scene": {
           "xaxis": {
            "backgroundcolor": "#E5ECF6",
            "gridcolor": "white",
            "gridwidth": 2,
            "linecolor": "white",
            "showbackground": true,
            "ticks": "",
            "zerolinecolor": "white"
           },
           "yaxis": {
            "backgroundcolor": "#E5ECF6",
            "gridcolor": "white",
            "gridwidth": 2,
            "linecolor": "white",
            "showbackground": true,
            "ticks": "",
            "zerolinecolor": "white"
           },
           "zaxis": {
            "backgroundcolor": "#E5ECF6",
            "gridcolor": "white",
            "gridwidth": 2,
            "linecolor": "white",
            "showbackground": true,
            "ticks": "",
            "zerolinecolor": "white"
           }
          },
          "shapedefaults": {
           "line": {
            "color": "#2a3f5f"
           }
          },
          "ternary": {
           "aaxis": {
            "gridcolor": "white",
            "linecolor": "white",
            "ticks": ""
           },
           "baxis": {
            "gridcolor": "white",
            "linecolor": "white",
            "ticks": ""
           },
           "bgcolor": "#E5ECF6",
           "caxis": {
            "gridcolor": "white",
            "linecolor": "white",
            "ticks": ""
           }
          },
          "title": {
           "x": 0.05
          },
          "xaxis": {
           "automargin": true,
           "gridcolor": "white",
           "linecolor": "white",
           "ticks": "",
           "title": {
            "standoff": 15
           },
           "zerolinecolor": "white",
           "zerolinewidth": 2
          },
          "yaxis": {
           "automargin": true,
           "gridcolor": "white",
           "linecolor": "white",
           "ticks": "",
           "title": {
            "standoff": 15
           },
           "zerolinecolor": "white",
           "zerolinewidth": 2
          }
         }
        },
        "title": {
         "text": "__Grand Total"
        },
        "xaxis": {
         "title": {
          "text": "Time"
         }
        },
        "yaxis": {
         "title": {
          "text": "Value"
         }
        }
       }
      }
     },
     "metadata": {},
     "output_type": "display_data"
    },
    {
     "data": {
      "application/vnd.plotly.v1+json": {
       "config": {
        "plotlyServerURL": "https://plot.ly"
       },
       "data": [
        {
         "marker": {
          "color": "black"
         },
         "mode": "markers",
         "name": "Real",
         "type": "scatter",
         "x": [
          "2016-01-01T00:00:00.000000000",
          "2016-02-01T00:00:00.000000000",
          "2016-03-01T00:00:00.000000000",
          "2016-04-01T00:00:00.000000000",
          "2016-05-01T00:00:00.000000000",
          "2016-06-01T00:00:00.000000000",
          "2016-07-01T00:00:00.000000000",
          "2016-08-01T00:00:00.000000000",
          "2016-09-01T00:00:00.000000000",
          "2016-10-01T00:00:00.000000000",
          "2016-11-01T00:00:00.000000000",
          "2016-12-01T00:00:00.000000000",
          "2017-01-01T00:00:00.000000000",
          "2017-02-01T00:00:00.000000000",
          "2017-03-01T00:00:00.000000000",
          "2017-04-01T00:00:00.000000000",
          "2017-05-01T00:00:00.000000000",
          "2017-06-01T00:00:00.000000000",
          "2017-07-01T00:00:00.000000000",
          "2017-08-01T00:00:00.000000000",
          "2017-09-01T00:00:00.000000000",
          "2017-10-01T00:00:00.000000000",
          "2017-11-01T00:00:00.000000000",
          "2017-12-01T00:00:00.000000000",
          "2018-01-01T00:00:00.000000000",
          "2018-02-01T00:00:00.000000000",
          "2018-03-01T00:00:00.000000000",
          "2018-04-01T00:00:00.000000000",
          "2018-05-01T00:00:00.000000000",
          "2018-06-01T00:00:00.000000000",
          "2018-07-01T00:00:00.000000000",
          "2018-08-01T00:00:00.000000000",
          "2018-09-01T00:00:00.000000000",
          "2018-10-01T00:00:00.000000000",
          "2018-11-01T00:00:00.000000000",
          "2018-12-01T00:00:00.000000000",
          "2019-01-01T00:00:00.000000000",
          "2019-02-01T00:00:00.000000000",
          "2019-03-01T00:00:00.000000000",
          "2019-04-01T00:00:00.000000000",
          "2019-05-01T00:00:00.000000000",
          "2019-06-01T00:00:00.000000000",
          "2019-07-01T00:00:00.000000000",
          "2019-08-01T00:00:00.000000000",
          "2019-09-01T00:00:00.000000000",
          "2019-10-01T00:00:00.000000000",
          "2019-11-01T00:00:00.000000000",
          "2019-12-01T00:00:00.000000000",
          "2020-01-01T00:00:00.000000000",
          "2020-02-01T00:00:00.000000000",
          "2020-03-01T00:00:00.000000000",
          "2020-04-01T00:00:00.000000000",
          "2020-05-01T00:00:00.000000000",
          "2020-06-01T00:00:00.000000000",
          "2020-07-01T00:00:00.000000000",
          "2020-08-01T00:00:00.000000000",
          "2020-09-01T00:00:00.000000000",
          "2020-10-01T00:00:00.000000000",
          "2020-11-01T00:00:00.000000000",
          "2020-12-01T00:00:00.000000000",
          "2021-01-01T00:00:00.000000000",
          "2021-02-01T00:00:00.000000000",
          "2021-03-01T00:00:00.000000000",
          "2021-04-01T00:00:00.000000000",
          "2021-05-01T00:00:00.000000000",
          "2021-06-01T00:00:00.000000000",
          "2021-07-01T00:00:00.000000000",
          "2021-08-01T00:00:00.000000000",
          "2021-09-01T00:00:00.000000000",
          "2021-10-01T00:00:00.000000000",
          "2021-11-01T00:00:00.000000000",
          "2021-12-01T00:00:00.000000000",
          "2022-01-01T00:00:00.000000000",
          "2022-02-01T00:00:00.000000000",
          "2022-03-01T00:00:00.000000000",
          "2022-04-01T00:00:00.000000000",
          "2022-05-01T00:00:00.000000000",
          "2022-06-01T00:00:00.000000000",
          "2022-07-01T00:00:00.000000000",
          "2022-08-01T00:00:00.000000000",
          "2022-09-01T00:00:00.000000000",
          "2022-10-01T00:00:00.000000000",
          "2022-11-01T00:00:00.000000000",
          "2022-12-01T00:00:00.000000000",
          "2023-01-01T00:00:00.000000000",
          "2023-02-01T00:00:00.000000000",
          "2023-03-01T00:00:00.000000000",
          "2023-04-01T00:00:00.000000000",
          "2023-05-01T00:00:00.000000000",
          "2023-06-01T00:00:00.000000000",
          "2023-07-01T00:00:00.000000000",
          "2023-08-01T00:00:00.000000000",
          "2023-09-01T00:00:00.000000000",
          "2023-10-01T00:00:00.000000000",
          "2023-11-01T00:00:00.000000000",
          "2023-12-01T00:00:00.000000000",
          "2024-01-01T00:00:00.000000000",
          "2024-02-01T00:00:00.000000000",
          "2024-03-01T00:00:00.000000000",
          "2024-04-01T00:00:00.000000000",
          "2024-05-01T00:00:00.000000000",
          "2024-06-01T00:00:00.000000000",
          "2024-07-01T00:00:00.000000000",
          "2024-08-01T00:00:00.000000000",
          "2024-09-01T00:00:00.000000000",
          "2024-10-01T00:00:00.000000000",
          "2024-11-01T00:00:00.000000000",
          "2024-12-01T00:00:00.000000000"
         ],
         "y": [
          74093,
          71969,
          107801,
          88941,
          120012,
          122526,
          115321,
          147190,
          120650,
          122986,
          91588,
          86493,
          95891,
          78437,
          123378,
          107450,
          124783,
          116262,
          114118,
          122593,
          116314,
          116265,
          121010,
          110927,
          122947,
          97921,
          130705,
          140568,
          140530,
          129175,
          135373,
          145679,
          123428,
          161964,
          135169,
          114358,
          134804,
          131051,
          129019,
          157196,
          164431,
          141871,
          159215,
          153825,
          119253,
          131196,
          106229,
          93659,
          119860,
          107686,
          114828,
          86377,
          98407,
          115381,
          127570,
          135439,
          147355,
          155600,
          169745,
          164330,
          166373,
          172035,
          199666,
          114545,
          48459,
          197574,
          206553,
          218736,
          207100,
          221887,
          205926,
          212460,
          261339,
          191748,
          229566,
          199671,
          240772,
          241851,
          231227,
          244566,
          215775,
          224278,
          237029,
          247284,
          228896,
          180244,
          254708,
          228121,
          288167,
          242851,
          234264,
          268477,
          207192,
          255622,
          239556,
          232490,
          235276,
          214956,
          249689,
          287853,
          188822,
          238007,
          265185,
          265231,
          253097,
          292153,
          235030,
          220687
         ]
        },
        {
         "line": {
          "color": "black",
          "dash": "dot"
         },
         "mode": "lines",
         "name": "Baseline",
         "type": "scatter",
         "x": [
          "2016-01-01T00:00:00.000000000",
          "2016-02-01T00:00:00.000000000",
          "2016-03-01T00:00:00.000000000",
          "2016-04-01T00:00:00.000000000",
          "2016-05-01T00:00:00.000000000",
          "2016-06-01T00:00:00.000000000",
          "2016-07-01T00:00:00.000000000",
          "2016-08-01T00:00:00.000000000",
          "2016-09-01T00:00:00.000000000",
          "2016-10-01T00:00:00.000000000",
          "2016-11-01T00:00:00.000000000",
          "2016-12-01T00:00:00.000000000",
          "2017-01-01T00:00:00.000000000",
          "2017-02-01T00:00:00.000000000",
          "2017-03-01T00:00:00.000000000",
          "2017-04-01T00:00:00.000000000",
          "2017-05-01T00:00:00.000000000",
          "2017-06-01T00:00:00.000000000",
          "2017-07-01T00:00:00.000000000",
          "2017-08-01T00:00:00.000000000",
          "2017-09-01T00:00:00.000000000",
          "2017-10-01T00:00:00.000000000",
          "2017-11-01T00:00:00.000000000",
          "2017-12-01T00:00:00.000000000",
          "2018-01-01T00:00:00.000000000",
          "2018-02-01T00:00:00.000000000",
          "2018-03-01T00:00:00.000000000",
          "2018-04-01T00:00:00.000000000",
          "2018-05-01T00:00:00.000000000",
          "2018-06-01T00:00:00.000000000",
          "2018-07-01T00:00:00.000000000",
          "2018-08-01T00:00:00.000000000",
          "2018-09-01T00:00:00.000000000",
          "2018-10-01T00:00:00.000000000",
          "2018-11-01T00:00:00.000000000",
          "2018-12-01T00:00:00.000000000",
          "2019-01-01T00:00:00.000000000",
          "2019-02-01T00:00:00.000000000",
          "2019-03-01T00:00:00.000000000",
          "2019-04-01T00:00:00.000000000",
          "2019-05-01T00:00:00.000000000",
          "2019-06-01T00:00:00.000000000",
          "2019-07-01T00:00:00.000000000",
          "2019-08-01T00:00:00.000000000",
          "2019-09-01T00:00:00.000000000",
          "2019-10-01T00:00:00.000000000",
          "2019-11-01T00:00:00.000000000",
          "2019-12-01T00:00:00.000000000",
          "2020-01-01T00:00:00.000000000",
          "2020-02-01T00:00:00.000000000",
          "2020-03-01T00:00:00.000000000",
          "2020-04-01T00:00:00.000000000",
          "2020-05-01T00:00:00.000000000",
          "2020-06-01T00:00:00.000000000",
          "2020-07-01T00:00:00.000000000",
          "2020-08-01T00:00:00.000000000",
          "2020-09-01T00:00:00.000000000",
          "2020-10-01T00:00:00.000000000",
          "2020-11-01T00:00:00.000000000",
          "2020-12-01T00:00:00.000000000",
          "2021-01-01T00:00:00.000000000",
          "2021-02-01T00:00:00.000000000",
          "2021-03-01T00:00:00.000000000",
          "2021-04-01T00:00:00.000000000",
          "2021-05-01T00:00:00.000000000",
          "2021-06-01T00:00:00.000000000",
          "2021-07-01T00:00:00.000000000",
          "2021-08-01T00:00:00.000000000",
          "2021-09-01T00:00:00.000000000",
          "2021-10-01T00:00:00.000000000",
          "2021-11-01T00:00:00.000000000",
          "2021-12-01T00:00:00.000000000",
          "2022-01-01T00:00:00.000000000",
          "2022-02-01T00:00:00.000000000",
          "2022-03-01T00:00:00.000000000",
          "2022-04-01T00:00:00.000000000",
          "2022-05-01T00:00:00.000000000",
          "2022-06-01T00:00:00.000000000",
          "2022-07-01T00:00:00.000000000",
          "2022-08-01T00:00:00.000000000",
          "2022-09-01T00:00:00.000000000",
          "2022-10-01T00:00:00.000000000",
          "2022-11-01T00:00:00.000000000",
          "2022-12-01T00:00:00.000000000",
          "2023-01-01T00:00:00.000000000",
          "2023-02-01T00:00:00.000000000",
          "2023-03-01T00:00:00.000000000",
          "2023-04-01T00:00:00.000000000",
          "2023-05-01T00:00:00.000000000",
          "2023-06-01T00:00:00.000000000",
          "2023-07-01T00:00:00.000000000",
          "2023-08-01T00:00:00.000000000",
          "2023-09-01T00:00:00.000000000",
          "2023-10-01T00:00:00.000000000",
          "2023-11-01T00:00:00.000000000",
          "2023-12-01T00:00:00.000000000",
          "2024-01-01T00:00:00.000000000",
          "2024-02-01T00:00:00.000000000",
          "2024-03-01T00:00:00.000000000",
          "2024-04-01T00:00:00.000000000",
          "2024-05-01T00:00:00.000000000",
          "2024-06-01T00:00:00.000000000",
          "2024-07-01T00:00:00.000000000",
          "2024-08-01T00:00:00.000000000",
          "2024-09-01T00:00:00.000000000",
          "2024-10-01T00:00:00.000000000",
          "2024-11-01T00:00:00.000000000",
          "2024-12-01T00:00:00.000000000"
         ],
         "y": [
          100202.03394423895,
          101000.11052346758,
          101798.1871026962,
          102596.26368192484,
          103394.34026115347,
          104192.4168403821,
          104990.49341961072,
          105788.56999883935,
          106586.64657806797,
          107384.7231572966,
          108182.79973652522,
          108980.87631575385,
          109778.95289498249,
          110577.02947421111,
          111375.10605343974,
          112173.18263266837,
          112971.25921189699,
          113769.33579112562,
          114567.41237035424,
          115365.48894958288,
          116163.56552881151,
          116961.64210804013,
          117759.71868726876,
          118557.79526649739,
          119355.87184572601,
          120153.94842495464,
          120952.02500418326,
          121750.10158341189,
          122548.17816264051,
          123346.25474186915,
          124144.33132109778,
          124942.4079003264,
          125740.48447955503,
          126538.56105878366,
          127336.6376380123,
          128134.71421724092,
          128932.79079646955,
          129730.86737569817,
          130528.9439549268,
          131327.02053415542,
          132125.09711338405,
          132923.17369261268,
          133721.2502718413,
          134519.32685106993,
          135317.40343029855,
          136115.48000952718,
          136913.5565887558,
          137711.63316798443,
          138509.70974721306,
          139307.78632644168,
          140105.86290567034,
          140903.93948489896,
          141702.0160641276,
          142500.0926433562,
          143298.16922258484,
          144096.24580181346,
          144894.3223810421,
          145692.39896027072,
          146490.47553949934,
          147288.55211872797,
          148086.6286979566,
          148884.70527718525,
          149682.78185641387,
          150480.8584356425,
          151278.93501487112,
          152077.01159409975,
          152875.08817332837,
          153673.164752557,
          154471.24133178563,
          155269.31791101425,
          156067.39449024288,
          156865.4710694715,
          157663.54764870013,
          158461.62422792875,
          159259.70080715738,
          160057.777386386,
          160855.85396561463,
          161653.93054484326,
          162452.00712407188,
          163250.0837033005,
          164048.16028252913,
          164846.23686175776,
          165644.31344098639,
          166442.390020215,
          167240.46659944367,
          168038.5431786723,
          168836.61975790092,
          169634.69633712954,
          170432.77291635817,
          171230.8494955868,
          172028.92607481542,
          172827.00265404407,
          173625.0792332727,
          174423.15581250133,
          175221.23239172995,
          176019.30897095858,
          176817.3855501872,
          177615.46212941583,
          178413.53870864445,
          179211.61528787308,
          180009.6918671017,
          180807.76844633033,
          181605.84502555896,
          182403.92160478758,
          183201.9981840162,
          184000.07476324483,
          184798.15134247346,
          185596.22792170208
         ]
        },
        {
         "line": {
          "color": "purple"
         },
         "mode": "lines",
         "name": "Full model",
         "type": "scatter",
         "x": [
          "2016-01-01T00:00:00.000000000",
          "2016-02-01T00:00:00.000000000",
          "2016-03-01T00:00:00.000000000",
          "2016-04-01T00:00:00.000000000",
          "2016-05-01T00:00:00.000000000",
          "2016-06-01T00:00:00.000000000",
          "2016-07-01T00:00:00.000000000",
          "2016-08-01T00:00:00.000000000",
          "2016-09-01T00:00:00.000000000",
          "2016-10-01T00:00:00.000000000",
          "2016-11-01T00:00:00.000000000",
          "2016-12-01T00:00:00.000000000",
          "2017-01-01T00:00:00.000000000",
          "2017-02-01T00:00:00.000000000",
          "2017-03-01T00:00:00.000000000",
          "2017-04-01T00:00:00.000000000",
          "2017-05-01T00:00:00.000000000",
          "2017-06-01T00:00:00.000000000",
          "2017-07-01T00:00:00.000000000",
          "2017-08-01T00:00:00.000000000",
          "2017-09-01T00:00:00.000000000",
          "2017-10-01T00:00:00.000000000",
          "2017-11-01T00:00:00.000000000",
          "2017-12-01T00:00:00.000000000",
          "2018-01-01T00:00:00.000000000",
          "2018-02-01T00:00:00.000000000",
          "2018-03-01T00:00:00.000000000",
          "2018-04-01T00:00:00.000000000",
          "2018-05-01T00:00:00.000000000",
          "2018-06-01T00:00:00.000000000",
          "2018-07-01T00:00:00.000000000",
          "2018-08-01T00:00:00.000000000",
          "2018-09-01T00:00:00.000000000",
          "2018-10-01T00:00:00.000000000",
          "2018-11-01T00:00:00.000000000",
          "2018-12-01T00:00:00.000000000",
          "2019-01-01T00:00:00.000000000",
          "2019-02-01T00:00:00.000000000",
          "2019-03-01T00:00:00.000000000",
          "2019-04-01T00:00:00.000000000",
          "2019-05-01T00:00:00.000000000",
          "2019-06-01T00:00:00.000000000",
          "2019-07-01T00:00:00.000000000",
          "2019-08-01T00:00:00.000000000",
          "2019-09-01T00:00:00.000000000",
          "2019-10-01T00:00:00.000000000",
          "2019-11-01T00:00:00.000000000",
          "2019-12-01T00:00:00.000000000",
          "2020-01-01T00:00:00.000000000",
          "2020-02-01T00:00:00.000000000",
          "2020-03-01T00:00:00.000000000",
          "2020-04-01T00:00:00.000000000",
          "2020-05-01T00:00:00.000000000",
          "2020-06-01T00:00:00.000000000",
          "2020-07-01T00:00:00.000000000",
          "2020-08-01T00:00:00.000000000",
          "2020-09-01T00:00:00.000000000",
          "2020-10-01T00:00:00.000000000",
          "2020-11-01T00:00:00.000000000",
          "2020-12-01T00:00:00.000000000",
          "2021-01-01T00:00:00.000000000",
          "2021-02-01T00:00:00.000000000",
          "2021-03-01T00:00:00.000000000",
          "2021-04-01T00:00:00.000000000",
          "2021-05-01T00:00:00.000000000",
          "2021-06-01T00:00:00.000000000",
          "2021-07-01T00:00:00.000000000",
          "2021-08-01T00:00:00.000000000",
          "2021-09-01T00:00:00.000000000",
          "2021-10-01T00:00:00.000000000",
          "2021-11-01T00:00:00.000000000",
          "2021-12-01T00:00:00.000000000",
          "2022-01-01T00:00:00.000000000",
          "2022-02-01T00:00:00.000000000",
          "2022-03-01T00:00:00.000000000",
          "2022-04-01T00:00:00.000000000",
          "2022-05-01T00:00:00.000000000",
          "2022-06-01T00:00:00.000000000",
          "2022-07-01T00:00:00.000000000",
          "2022-08-01T00:00:00.000000000",
          "2022-09-01T00:00:00.000000000",
          "2022-10-01T00:00:00.000000000",
          "2022-11-01T00:00:00.000000000",
          "2022-12-01T00:00:00.000000000",
          "2023-01-01T00:00:00.000000000",
          "2023-02-01T00:00:00.000000000",
          "2023-03-01T00:00:00.000000000",
          "2023-04-01T00:00:00.000000000",
          "2023-05-01T00:00:00.000000000",
          "2023-06-01T00:00:00.000000000",
          "2023-07-01T00:00:00.000000000",
          "2023-08-01T00:00:00.000000000",
          "2023-09-01T00:00:00.000000000",
          "2023-10-01T00:00:00.000000000",
          "2023-11-01T00:00:00.000000000",
          "2023-12-01T00:00:00.000000000",
          "2024-01-01T00:00:00.000000000",
          "2024-02-01T00:00:00.000000000",
          "2024-03-01T00:00:00.000000000",
          "2024-04-01T00:00:00.000000000",
          "2024-05-01T00:00:00.000000000",
          "2024-06-01T00:00:00.000000000",
          "2024-07-01T00:00:00.000000000",
          "2024-08-01T00:00:00.000000000",
          "2024-09-01T00:00:00.000000000",
          "2024-10-01T00:00:00.000000000",
          "2024-11-01T00:00:00.000000000",
          "2024-12-01T00:00:00.000000000"
         ],
         "y": [
          100202.03394423895,
          101000.11052346758,
          101798.1871026962,
          102596.26368192484,
          103394.34026115347,
          104192.4168403821,
          104990.49341961072,
          105788.56999883935,
          106586.64657806797,
          107384.7231572966,
          108182.79973652522,
          108980.87631575385,
          109778.95289498249,
          110577.02947421111,
          111375.10605343974,
          112173.18263266837,
          112971.25921189699,
          113769.33579112562,
          114567.41237035424,
          115365.48894958288,
          116163.56552881151,
          116961.64210804013,
          117759.71868726876,
          118557.79526649739,
          119355.87184572601,
          120153.94842495464,
          120952.02500418326,
          121750.10158341189,
          122548.17816264051,
          123346.25474186915,
          124144.33132109778,
          124942.4079003264,
          125740.48447955503,
          126538.56105878366,
          127336.6376380123,
          128134.71421724092,
          128932.79079646955,
          129730.86737569817,
          130528.9439549268,
          131327.02053415542,
          132125.09711338405,
          132923.17369261268,
          133721.2502718413,
          134519.32685106993,
          135317.40343029855,
          136115.48000952718,
          136913.5565887558,
          137711.63316798443,
          155449.70974721306,
          157309.78632644168,
          102171.86290567034,
          102969.93948489896,
          103768.01606412759,
          104566.09264335621,
          105364.16922258484,
          168472.24580181346,
          170332.3223810421,
          172192.39896027072,
          174053.47553949934,
          175913.55211872797,
          177773.6286979566,
          179633.70527718525,
          181494.78185641387,
          71194.8584356425,
          71992.93501487112,
          187076.01159409975,
          188936.08817332837,
          190796.164752557,
          192656.24133178563,
          194517.31791101425,
          196377.39449024288,
          198237.4710694715,
          200098.54764870013,
          201958.62422792875,
          203818.70080715738,
          205678.777386386,
          207539.85396561463,
          209399.93054484326,
          211260.00712407188,
          213121.0837033005,
          214981.16028252913,
          216841.23686175776,
          218701.31344098639,
          220562.390020215,
          222422.46659944367,
          224282.5431786723,
          226143.61975790092,
          228003.69633712954,
          229863.77291635817,
          231723.8494955868,
          233584.92607481542,
          235445.00265404407,
          237305.0792332727,
          239166.15581250133,
          241026.23239172995,
          242886.30897095858,
          244746.3855501872,
          246607.46212941583,
          248467.53870864445,
          250327.61528787308,
          252188.6918671017,
          254048.76844633033,
          255908.84502555896,
          257768.92160478758,
          259629.9981840162,
          261490.07476324483,
          263350.15134247346,
          265211.2279217021
         ]
        }
       ],
       "layout": {
        "legend": {
         "title": {
          "text": "Legend"
         }
        },
        "template": {
         "data": {
          "bar": [
           {
            "error_x": {
             "color": "#2a3f5f"
            },
            "error_y": {
             "color": "#2a3f5f"
            },
            "marker": {
             "line": {
              "color": "#E5ECF6",
              "width": 0.5
             },
             "pattern": {
              "fillmode": "overlay",
              "size": 10,
              "solidity": 0.2
             }
            },
            "type": "bar"
           }
          ],
          "barpolar": [
           {
            "marker": {
             "line": {
              "color": "#E5ECF6",
              "width": 0.5
             },
             "pattern": {
              "fillmode": "overlay",
              "size": 10,
              "solidity": 0.2
             }
            },
            "type": "barpolar"
           }
          ],
          "carpet": [
           {
            "aaxis": {
             "endlinecolor": "#2a3f5f",
             "gridcolor": "white",
             "linecolor": "white",
             "minorgridcolor": "white",
             "startlinecolor": "#2a3f5f"
            },
            "baxis": {
             "endlinecolor": "#2a3f5f",
             "gridcolor": "white",
             "linecolor": "white",
             "minorgridcolor": "white",
             "startlinecolor": "#2a3f5f"
            },
            "type": "carpet"
           }
          ],
          "choropleth": [
           {
            "colorbar": {
             "outlinewidth": 0,
             "ticks": ""
            },
            "type": "choropleth"
           }
          ],
          "contour": [
           {
            "colorbar": {
             "outlinewidth": 0,
             "ticks": ""
            },
            "colorscale": [
             [
              0,
              "#0d0887"
             ],
             [
              0.1111111111111111,
              "#46039f"
             ],
             [
              0.2222222222222222,
              "#7201a8"
             ],
             [
              0.3333333333333333,
              "#9c179e"
             ],
             [
              0.4444444444444444,
              "#bd3786"
             ],
             [
              0.5555555555555556,
              "#d8576b"
             ],
             [
              0.6666666666666666,
              "#ed7953"
             ],
             [
              0.7777777777777778,
              "#fb9f3a"
             ],
             [
              0.8888888888888888,
              "#fdca26"
             ],
             [
              1,
              "#f0f921"
             ]
            ],
            "type": "contour"
           }
          ],
          "contourcarpet": [
           {
            "colorbar": {
             "outlinewidth": 0,
             "ticks": ""
            },
            "type": "contourcarpet"
           }
          ],
          "heatmap": [
           {
            "colorbar": {
             "outlinewidth": 0,
             "ticks": ""
            },
            "colorscale": [
             [
              0,
              "#0d0887"
             ],
             [
              0.1111111111111111,
              "#46039f"
             ],
             [
              0.2222222222222222,
              "#7201a8"
             ],
             [
              0.3333333333333333,
              "#9c179e"
             ],
             [
              0.4444444444444444,
              "#bd3786"
             ],
             [
              0.5555555555555556,
              "#d8576b"
             ],
             [
              0.6666666666666666,
              "#ed7953"
             ],
             [
              0.7777777777777778,
              "#fb9f3a"
             ],
             [
              0.8888888888888888,
              "#fdca26"
             ],
             [
              1,
              "#f0f921"
             ]
            ],
            "type": "heatmap"
           }
          ],
          "heatmapgl": [
           {
            "colorbar": {
             "outlinewidth": 0,
             "ticks": ""
            },
            "colorscale": [
             [
              0,
              "#0d0887"
             ],
             [
              0.1111111111111111,
              "#46039f"
             ],
             [
              0.2222222222222222,
              "#7201a8"
             ],
             [
              0.3333333333333333,
              "#9c179e"
             ],
             [
              0.4444444444444444,
              "#bd3786"
             ],
             [
              0.5555555555555556,
              "#d8576b"
             ],
             [
              0.6666666666666666,
              "#ed7953"
             ],
             [
              0.7777777777777778,
              "#fb9f3a"
             ],
             [
              0.8888888888888888,
              "#fdca26"
             ],
             [
              1,
              "#f0f921"
             ]
            ],
            "type": "heatmapgl"
           }
          ],
          "histogram": [
           {
            "marker": {
             "pattern": {
              "fillmode": "overlay",
              "size": 10,
              "solidity": 0.2
             }
            },
            "type": "histogram"
           }
          ],
          "histogram2d": [
           {
            "colorbar": {
             "outlinewidth": 0,
             "ticks": ""
            },
            "colorscale": [
             [
              0,
              "#0d0887"
             ],
             [
              0.1111111111111111,
              "#46039f"
             ],
             [
              0.2222222222222222,
              "#7201a8"
             ],
             [
              0.3333333333333333,
              "#9c179e"
             ],
             [
              0.4444444444444444,
              "#bd3786"
             ],
             [
              0.5555555555555556,
              "#d8576b"
             ],
             [
              0.6666666666666666,
              "#ed7953"
             ],
             [
              0.7777777777777778,
              "#fb9f3a"
             ],
             [
              0.8888888888888888,
              "#fdca26"
             ],
             [
              1,
              "#f0f921"
             ]
            ],
            "type": "histogram2d"
           }
          ],
          "histogram2dcontour": [
           {
            "colorbar": {
             "outlinewidth": 0,
             "ticks": ""
            },
            "colorscale": [
             [
              0,
              "#0d0887"
             ],
             [
              0.1111111111111111,
              "#46039f"
             ],
             [
              0.2222222222222222,
              "#7201a8"
             ],
             [
              0.3333333333333333,
              "#9c179e"
             ],
             [
              0.4444444444444444,
              "#bd3786"
             ],
             [
              0.5555555555555556,
              "#d8576b"
             ],
             [
              0.6666666666666666,
              "#ed7953"
             ],
             [
              0.7777777777777778,
              "#fb9f3a"
             ],
             [
              0.8888888888888888,
              "#fdca26"
             ],
             [
              1,
              "#f0f921"
             ]
            ],
            "type": "histogram2dcontour"
           }
          ],
          "mesh3d": [
           {
            "colorbar": {
             "outlinewidth": 0,
             "ticks": ""
            },
            "type": "mesh3d"
           }
          ],
          "parcoords": [
           {
            "line": {
             "colorbar": {
              "outlinewidth": 0,
              "ticks": ""
             }
            },
            "type": "parcoords"
           }
          ],
          "pie": [
           {
            "automargin": true,
            "type": "pie"
           }
          ],
          "scatter": [
           {
            "fillpattern": {
             "fillmode": "overlay",
             "size": 10,
             "solidity": 0.2
            },
            "type": "scatter"
           }
          ],
          "scatter3d": [
           {
            "line": {
             "colorbar": {
              "outlinewidth": 0,
              "ticks": ""
             }
            },
            "marker": {
             "colorbar": {
              "outlinewidth": 0,
              "ticks": ""
             }
            },
            "type": "scatter3d"
           }
          ],
          "scattercarpet": [
           {
            "marker": {
             "colorbar": {
              "outlinewidth": 0,
              "ticks": ""
             }
            },
            "type": "scattercarpet"
           }
          ],
          "scattergeo": [
           {
            "marker": {
             "colorbar": {
              "outlinewidth": 0,
              "ticks": ""
             }
            },
            "type": "scattergeo"
           }
          ],
          "scattergl": [
           {
            "marker": {
             "colorbar": {
              "outlinewidth": 0,
              "ticks": ""
             }
            },
            "type": "scattergl"
           }
          ],
          "scattermapbox": [
           {
            "marker": {
             "colorbar": {
              "outlinewidth": 0,
              "ticks": ""
             }
            },
            "type": "scattermapbox"
           }
          ],
          "scatterpolar": [
           {
            "marker": {
             "colorbar": {
              "outlinewidth": 0,
              "ticks": ""
             }
            },
            "type": "scatterpolar"
           }
          ],
          "scatterpolargl": [
           {
            "marker": {
             "colorbar": {
              "outlinewidth": 0,
              "ticks": ""
             }
            },
            "type": "scatterpolargl"
           }
          ],
          "scatterternary": [
           {
            "marker": {
             "colorbar": {
              "outlinewidth": 0,
              "ticks": ""
             }
            },
            "type": "scatterternary"
           }
          ],
          "surface": [
           {
            "colorbar": {
             "outlinewidth": 0,
             "ticks": ""
            },
            "colorscale": [
             [
              0,
              "#0d0887"
             ],
             [
              0.1111111111111111,
              "#46039f"
             ],
             [
              0.2222222222222222,
              "#7201a8"
             ],
             [
              0.3333333333333333,
              "#9c179e"
             ],
             [
              0.4444444444444444,
              "#bd3786"
             ],
             [
              0.5555555555555556,
              "#d8576b"
             ],
             [
              0.6666666666666666,
              "#ed7953"
             ],
             [
              0.7777777777777778,
              "#fb9f3a"
             ],
             [
              0.8888888888888888,
              "#fdca26"
             ],
             [
              1,
              "#f0f921"
             ]
            ],
            "type": "surface"
           }
          ],
          "table": [
           {
            "cells": {
             "fill": {
              "color": "#EBF0F8"
             },
             "line": {
              "color": "white"
             }
            },
            "header": {
             "fill": {
              "color": "#C8D4E3"
             },
             "line": {
              "color": "white"
             }
            },
            "type": "table"
           }
          ]
         },
         "layout": {
          "annotationdefaults": {
           "arrowcolor": "#2a3f5f",
           "arrowhead": 0,
           "arrowwidth": 1
          },
          "autotypenumbers": "strict",
          "coloraxis": {
           "colorbar": {
            "outlinewidth": 0,
            "ticks": ""
           }
          },
          "colorscale": {
           "diverging": [
            [
             0,
             "#8e0152"
            ],
            [
             0.1,
             "#c51b7d"
            ],
            [
             0.2,
             "#de77ae"
            ],
            [
             0.3,
             "#f1b6da"
            ],
            [
             0.4,
             "#fde0ef"
            ],
            [
             0.5,
             "#f7f7f7"
            ],
            [
             0.6,
             "#e6f5d0"
            ],
            [
             0.7,
             "#b8e186"
            ],
            [
             0.8,
             "#7fbc41"
            ],
            [
             0.9,
             "#4d9221"
            ],
            [
             1,
             "#276419"
            ]
           ],
           "sequential": [
            [
             0,
             "#0d0887"
            ],
            [
             0.1111111111111111,
             "#46039f"
            ],
            [
             0.2222222222222222,
             "#7201a8"
            ],
            [
             0.3333333333333333,
             "#9c179e"
            ],
            [
             0.4444444444444444,
             "#bd3786"
            ],
            [
             0.5555555555555556,
             "#d8576b"
            ],
            [
             0.6666666666666666,
             "#ed7953"
            ],
            [
             0.7777777777777778,
             "#fb9f3a"
            ],
            [
             0.8888888888888888,
             "#fdca26"
            ],
            [
             1,
             "#f0f921"
            ]
           ],
           "sequentialminus": [
            [
             0,
             "#0d0887"
            ],
            [
             0.1111111111111111,
             "#46039f"
            ],
            [
             0.2222222222222222,
             "#7201a8"
            ],
            [
             0.3333333333333333,
             "#9c179e"
            ],
            [
             0.4444444444444444,
             "#bd3786"
            ],
            [
             0.5555555555555556,
             "#d8576b"
            ],
            [
             0.6666666666666666,
             "#ed7953"
            ],
            [
             0.7777777777777778,
             "#fb9f3a"
            ],
            [
             0.8888888888888888,
             "#fdca26"
            ],
            [
             1,
             "#f0f921"
            ]
           ]
          },
          "colorway": [
           "#636efa",
           "#EF553B",
           "#00cc96",
           "#ab63fa",
           "#FFA15A",
           "#19d3f3",
           "#FF6692",
           "#B6E880",
           "#FF97FF",
           "#FECB52"
          ],
          "font": {
           "color": "#2a3f5f"
          },
          "geo": {
           "bgcolor": "white",
           "lakecolor": "white",
           "landcolor": "#E5ECF6",
           "showlakes": true,
           "showland": true,
           "subunitcolor": "white"
          },
          "hoverlabel": {
           "align": "left"
          },
          "hovermode": "closest",
          "mapbox": {
           "style": "light"
          },
          "paper_bgcolor": "white",
          "plot_bgcolor": "#E5ECF6",
          "polar": {
           "angularaxis": {
            "gridcolor": "white",
            "linecolor": "white",
            "ticks": ""
           },
           "bgcolor": "#E5ECF6",
           "radialaxis": {
            "gridcolor": "white",
            "linecolor": "white",
            "ticks": ""
           }
          },
          "scene": {
           "xaxis": {
            "backgroundcolor": "#E5ECF6",
            "gridcolor": "white",
            "gridwidth": 2,
            "linecolor": "white",
            "showbackground": true,
            "ticks": "",
            "zerolinecolor": "white"
           },
           "yaxis": {
            "backgroundcolor": "#E5ECF6",
            "gridcolor": "white",
            "gridwidth": 2,
            "linecolor": "white",
            "showbackground": true,
            "ticks": "",
            "zerolinecolor": "white"
           },
           "zaxis": {
            "backgroundcolor": "#E5ECF6",
            "gridcolor": "white",
            "gridwidth": 2,
            "linecolor": "white",
            "showbackground": true,
            "ticks": "",
            "zerolinecolor": "white"
           }
          },
          "shapedefaults": {
           "line": {
            "color": "#2a3f5f"
           }
          },
          "ternary": {
           "aaxis": {
            "gridcolor": "white",
            "linecolor": "white",
            "ticks": ""
           },
           "baxis": {
            "gridcolor": "white",
            "linecolor": "white",
            "ticks": ""
           },
           "bgcolor": "#E5ECF6",
           "caxis": {
            "gridcolor": "white",
            "linecolor": "white",
            "ticks": ""
           }
          },
          "title": {
           "x": 0.05
          },
          "xaxis": {
           "automargin": true,
           "gridcolor": "white",
           "linecolor": "white",
           "ticks": "",
           "title": {
            "standoff": 15
           },
           "zerolinecolor": "white",
           "zerolinewidth": 2
          },
          "yaxis": {
           "automargin": true,
           "gridcolor": "white",
           "linecolor": "white",
           "ticks": "",
           "title": {
            "standoff": 15
           },
           "zerolinecolor": "white",
           "zerolinewidth": 2
          }
         }
        },
        "title": {
         "text": "_Atendimentos na APS (exceto saúde mental)"
        },
        "xaxis": {
         "title": {
          "text": "Time"
         }
        },
        "yaxis": {
         "title": {
          "text": "Value"
         }
        }
       }
      }
     },
     "metadata": {},
     "output_type": "display_data"
    },
    {
     "data": {
      "application/vnd.plotly.v1+json": {
       "config": {
        "plotlyServerURL": "https://plot.ly"
       },
       "data": [
        {
         "marker": {
          "color": "black"
         },
         "mode": "markers",
         "name": "Real",
         "type": "scatter",
         "x": [
          "2016-01-01T00:00:00.000000000",
          "2016-02-01T00:00:00.000000000",
          "2016-03-01T00:00:00.000000000",
          "2016-04-01T00:00:00.000000000",
          "2016-05-01T00:00:00.000000000",
          "2016-06-01T00:00:00.000000000",
          "2016-07-01T00:00:00.000000000",
          "2016-08-01T00:00:00.000000000",
          "2016-09-01T00:00:00.000000000",
          "2016-10-01T00:00:00.000000000",
          "2016-11-01T00:00:00.000000000",
          "2016-12-01T00:00:00.000000000",
          "2017-01-01T00:00:00.000000000",
          "2017-02-01T00:00:00.000000000",
          "2017-03-01T00:00:00.000000000",
          "2017-04-01T00:00:00.000000000",
          "2017-05-01T00:00:00.000000000",
          "2017-06-01T00:00:00.000000000",
          "2017-07-01T00:00:00.000000000",
          "2017-08-01T00:00:00.000000000",
          "2017-09-01T00:00:00.000000000",
          "2017-10-01T00:00:00.000000000",
          "2017-11-01T00:00:00.000000000",
          "2017-12-01T00:00:00.000000000",
          "2018-01-01T00:00:00.000000000",
          "2018-02-01T00:00:00.000000000",
          "2018-03-01T00:00:00.000000000",
          "2018-04-01T00:00:00.000000000",
          "2018-05-01T00:00:00.000000000",
          "2018-06-01T00:00:00.000000000",
          "2018-07-01T00:00:00.000000000",
          "2018-08-01T00:00:00.000000000",
          "2018-09-01T00:00:00.000000000",
          "2018-10-01T00:00:00.000000000",
          "2018-11-01T00:00:00.000000000",
          "2018-12-01T00:00:00.000000000",
          "2019-01-01T00:00:00.000000000",
          "2019-02-01T00:00:00.000000000",
          "2019-03-01T00:00:00.000000000",
          "2019-04-01T00:00:00.000000000",
          "2019-05-01T00:00:00.000000000",
          "2019-06-01T00:00:00.000000000",
          "2019-07-01T00:00:00.000000000",
          "2019-08-01T00:00:00.000000000",
          "2019-09-01T00:00:00.000000000",
          "2019-10-01T00:00:00.000000000",
          "2019-11-01T00:00:00.000000000",
          "2019-12-01T00:00:00.000000000",
          "2020-01-01T00:00:00.000000000",
          "2020-02-01T00:00:00.000000000",
          "2020-03-01T00:00:00.000000000",
          "2020-04-01T00:00:00.000000000",
          "2020-05-01T00:00:00.000000000",
          "2020-06-01T00:00:00.000000000",
          "2020-07-01T00:00:00.000000000",
          "2020-08-01T00:00:00.000000000",
          "2020-09-01T00:00:00.000000000",
          "2020-10-01T00:00:00.000000000",
          "2020-11-01T00:00:00.000000000",
          "2020-12-01T00:00:00.000000000",
          "2021-01-01T00:00:00.000000000",
          "2021-02-01T00:00:00.000000000",
          "2021-03-01T00:00:00.000000000",
          "2021-04-01T00:00:00.000000000",
          "2021-05-01T00:00:00.000000000",
          "2021-06-01T00:00:00.000000000",
          "2021-07-01T00:00:00.000000000",
          "2021-08-01T00:00:00.000000000",
          "2021-09-01T00:00:00.000000000",
          "2021-10-01T00:00:00.000000000",
          "2021-11-01T00:00:00.000000000",
          "2021-12-01T00:00:00.000000000",
          "2022-01-01T00:00:00.000000000",
          "2022-02-01T00:00:00.000000000",
          "2022-03-01T00:00:00.000000000",
          "2022-04-01T00:00:00.000000000",
          "2022-05-01T00:00:00.000000000",
          "2022-06-01T00:00:00.000000000",
          "2022-07-01T00:00:00.000000000",
          "2022-08-01T00:00:00.000000000",
          "2022-09-01T00:00:00.000000000",
          "2022-10-01T00:00:00.000000000",
          "2022-11-01T00:00:00.000000000",
          "2022-12-01T00:00:00.000000000",
          "2023-01-01T00:00:00.000000000",
          "2023-02-01T00:00:00.000000000",
          "2023-03-01T00:00:00.000000000",
          "2023-04-01T00:00:00.000000000",
          "2023-05-01T00:00:00.000000000",
          "2023-06-01T00:00:00.000000000",
          "2023-07-01T00:00:00.000000000",
          "2023-08-01T00:00:00.000000000",
          "2023-09-01T00:00:00.000000000",
          "2023-10-01T00:00:00.000000000",
          "2023-11-01T00:00:00.000000000",
          "2023-12-01T00:00:00.000000000",
          "2024-01-01T00:00:00.000000000",
          "2024-02-01T00:00:00.000000000",
          "2024-03-01T00:00:00.000000000",
          "2024-04-01T00:00:00.000000000",
          "2024-05-01T00:00:00.000000000",
          "2024-06-01T00:00:00.000000000",
          "2024-07-01T00:00:00.000000000",
          "2024-08-01T00:00:00.000000000",
          "2024-09-01T00:00:00.000000000",
          "2024-10-01T00:00:00.000000000",
          "2024-11-01T00:00:00.000000000",
          "2024-12-01T00:00:00.000000000"
         ],
         "y": [
          96,
          92,
          188,
          80,
          120,
          146,
          134,
          190,
          76,
          104,
          156,
          182,
          200,
          154,
          236,
          122,
          218,
          106,
          142,
          120,
          112,
          116,
          150,
          92,
          170,
          84,
          146,
          146,
          164,
          144,
          92,
          106,
          108,
          148,
          94,
          68,
          66,
          72,
          62,
          76,
          88,
          86,
          98,
          58,
          26,
          38,
          22,
          34,
          32,
          32,
          26,
          22,
          48,
          32,
          34,
          32,
          40,
          52,
          38,
          38,
          30,
          30,
          16,
          8,
          12,
          30,
          22,
          30,
          24,
          24,
          38,
          24,
          16,
          32,
          40,
          24,
          90,
          112,
          38,
          16,
          52,
          42,
          34,
          46,
          56,
          76,
          66,
          60,
          62,
          78,
          150,
          134,
          138,
          138,
          132,
          98,
          102,
          78,
          112,
          68,
          116,
          170,
          216,
          226,
          290,
          298,
          208,
          138
         ]
        },
        {
         "line": {
          "color": "black",
          "dash": "dot"
         },
         "mode": "lines",
         "name": "Baseline",
         "type": "scatter",
         "x": [
          "2016-01-01T00:00:00.000000000",
          "2016-02-01T00:00:00.000000000",
          "2016-03-01T00:00:00.000000000",
          "2016-04-01T00:00:00.000000000",
          "2016-05-01T00:00:00.000000000",
          "2016-06-01T00:00:00.000000000",
          "2016-07-01T00:00:00.000000000",
          "2016-08-01T00:00:00.000000000",
          "2016-09-01T00:00:00.000000000",
          "2016-10-01T00:00:00.000000000",
          "2016-11-01T00:00:00.000000000",
          "2016-12-01T00:00:00.000000000",
          "2017-01-01T00:00:00.000000000",
          "2017-02-01T00:00:00.000000000",
          "2017-03-01T00:00:00.000000000",
          "2017-04-01T00:00:00.000000000",
          "2017-05-01T00:00:00.000000000",
          "2017-06-01T00:00:00.000000000",
          "2017-07-01T00:00:00.000000000",
          "2017-08-01T00:00:00.000000000",
          "2017-09-01T00:00:00.000000000",
          "2017-10-01T00:00:00.000000000",
          "2017-11-01T00:00:00.000000000",
          "2017-12-01T00:00:00.000000000",
          "2018-01-01T00:00:00.000000000",
          "2018-02-01T00:00:00.000000000",
          "2018-03-01T00:00:00.000000000",
          "2018-04-01T00:00:00.000000000",
          "2018-05-01T00:00:00.000000000",
          "2018-06-01T00:00:00.000000000",
          "2018-07-01T00:00:00.000000000",
          "2018-08-01T00:00:00.000000000",
          "2018-09-01T00:00:00.000000000",
          "2018-10-01T00:00:00.000000000",
          "2018-11-01T00:00:00.000000000",
          "2018-12-01T00:00:00.000000000",
          "2019-01-01T00:00:00.000000000",
          "2019-02-01T00:00:00.000000000",
          "2019-03-01T00:00:00.000000000",
          "2019-04-01T00:00:00.000000000",
          "2019-05-01T00:00:00.000000000",
          "2019-06-01T00:00:00.000000000",
          "2019-07-01T00:00:00.000000000",
          "2019-08-01T00:00:00.000000000",
          "2019-09-01T00:00:00.000000000",
          "2019-10-01T00:00:00.000000000",
          "2019-11-01T00:00:00.000000000",
          "2019-12-01T00:00:00.000000000",
          "2020-01-01T00:00:00.000000000",
          "2020-02-01T00:00:00.000000000",
          "2020-03-01T00:00:00.000000000",
          "2020-04-01T00:00:00.000000000",
          "2020-05-01T00:00:00.000000000",
          "2020-06-01T00:00:00.000000000",
          "2020-07-01T00:00:00.000000000",
          "2020-08-01T00:00:00.000000000",
          "2020-09-01T00:00:00.000000000",
          "2020-10-01T00:00:00.000000000",
          "2020-11-01T00:00:00.000000000",
          "2020-12-01T00:00:00.000000000",
          "2021-01-01T00:00:00.000000000",
          "2021-02-01T00:00:00.000000000",
          "2021-03-01T00:00:00.000000000",
          "2021-04-01T00:00:00.000000000",
          "2021-05-01T00:00:00.000000000",
          "2021-06-01T00:00:00.000000000",
          "2021-07-01T00:00:00.000000000",
          "2021-08-01T00:00:00.000000000",
          "2021-09-01T00:00:00.000000000",
          "2021-10-01T00:00:00.000000000",
          "2021-11-01T00:00:00.000000000",
          "2021-12-01T00:00:00.000000000",
          "2022-01-01T00:00:00.000000000",
          "2022-02-01T00:00:00.000000000",
          "2022-03-01T00:00:00.000000000",
          "2022-04-01T00:00:00.000000000",
          "2022-05-01T00:00:00.000000000",
          "2022-06-01T00:00:00.000000000",
          "2022-07-01T00:00:00.000000000",
          "2022-08-01T00:00:00.000000000",
          "2022-09-01T00:00:00.000000000",
          "2022-10-01T00:00:00.000000000",
          "2022-11-01T00:00:00.000000000",
          "2022-12-01T00:00:00.000000000",
          "2023-01-01T00:00:00.000000000",
          "2023-02-01T00:00:00.000000000",
          "2023-03-01T00:00:00.000000000",
          "2023-04-01T00:00:00.000000000",
          "2023-05-01T00:00:00.000000000",
          "2023-06-01T00:00:00.000000000",
          "2023-07-01T00:00:00.000000000",
          "2023-08-01T00:00:00.000000000",
          "2023-09-01T00:00:00.000000000",
          "2023-10-01T00:00:00.000000000",
          "2023-11-01T00:00:00.000000000",
          "2023-12-01T00:00:00.000000000",
          "2024-01-01T00:00:00.000000000",
          "2024-02-01T00:00:00.000000000",
          "2024-03-01T00:00:00.000000000",
          "2024-04-01T00:00:00.000000000",
          "2024-05-01T00:00:00.000000000",
          "2024-06-01T00:00:00.000000000",
          "2024-07-01T00:00:00.000000000",
          "2024-08-01T00:00:00.000000000",
          "2024-09-01T00:00:00.000000000",
          "2024-10-01T00:00:00.000000000",
          "2024-11-01T00:00:00.000000000",
          "2024-12-01T00:00:00.000000000"
         ],
         "y": [
          186.34708696675887,
          183.49634978765536,
          180.6456126085519,
          177.7948754294484,
          174.9441382503449,
          172.09340107124143,
          169.24266389213795,
          166.39192671303448,
          163.54118953393098,
          160.6904523548275,
          157.839715175724,
          154.98897799662052,
          152.13824081751704,
          149.28750363841357,
          146.43676645931006,
          143.5860292802066,
          140.7352921011031,
          137.8845549219996,
          135.03381774289613,
          132.18308056379266,
          129.33234338468918,
          126.48160620558568,
          123.6308690264822,
          120.78013184737871,
          117.92939466827522,
          115.07865748917175,
          112.22792031006826,
          109.37718313096477,
          106.52644595186129,
          103.6757087727578,
          100.82497159365433,
          97.97423441455084,
          95.12349723544735,
          92.27276005634387,
          89.42202287724038,
          86.5712856981369,
          83.72054851903341,
          80.86981133992992,
          78.01907416082645,
          75.16833698172296,
          72.31759980261947,
          69.466862623516,
          66.6161254444125,
          63.765388265309014,
          60.91465108620554,
          58.06391390710206,
          55.21317672799856,
          52.36243954889508,
          49.51170236979161,
          46.6609651906881,
          43.81022801158463,
          40.95949083248115,
          38.10875365337765,
          35.25801647427417,
          32.407279295170696,
          29.55654211606719,
          26.705804936963716,
          23.85506775786024,
          21.004330578756765,
          18.15359339965326,
          15.302856220549785,
          12.45211904144631,
          9.601381862342805,
          6.750644683239329,
          3.8999075041358537,
          1.0491703250323496,
          -1.801566854071126,
          -4.652304033174602,
          -7.503041212278106,
          -10.353778391381582,
          -13.204515570485057,
          -16.055252749588533,
          -18.905989928692037,
          -21.756727107795513,
          -24.60746428689899,
          -27.458201466002492,
          -30.308938645105968,
          -33.159675824209444,
          -36.01041300331295,
          -38.861150182416424,
          -41.7118873615199,
          -44.5626245406234,
          -47.41336171972688,
          -50.264098898830355,
          -53.11483607793386,
          -55.965573257037335,
          -58.81631043614081,
          -61.667047615244314,
          -64.51778479434779,
          -67.36852197345127,
          -70.21925915255474,
          -73.06999633165822,
          -75.92073351076175,
          -78.77147068986523,
          -81.6222078689687,
          -84.47294504807218,
          -87.32368222717565,
          -90.17441940627913,
          -93.0251565853826,
          -95.87589376448614,
          -98.72663094358961,
          -101.57736812269309,
          -104.42810530179656,
          -107.27884248090004,
          -110.12957966000351,
          -112.98031683910705,
          -115.83105401821052,
          -118.681791197314
         ]
        },
        {
         "line": {
          "color": "purple"
         },
         "mode": "lines",
         "name": "Full model",
         "type": "scatter",
         "x": [
          "2016-01-01T00:00:00.000000000",
          "2016-02-01T00:00:00.000000000",
          "2016-03-01T00:00:00.000000000",
          "2016-04-01T00:00:00.000000000",
          "2016-05-01T00:00:00.000000000",
          "2016-06-01T00:00:00.000000000",
          "2016-07-01T00:00:00.000000000",
          "2016-08-01T00:00:00.000000000",
          "2016-09-01T00:00:00.000000000",
          "2016-10-01T00:00:00.000000000",
          "2016-11-01T00:00:00.000000000",
          "2016-12-01T00:00:00.000000000",
          "2017-01-01T00:00:00.000000000",
          "2017-02-01T00:00:00.000000000",
          "2017-03-01T00:00:00.000000000",
          "2017-04-01T00:00:00.000000000",
          "2017-05-01T00:00:00.000000000",
          "2017-06-01T00:00:00.000000000",
          "2017-07-01T00:00:00.000000000",
          "2017-08-01T00:00:00.000000000",
          "2017-09-01T00:00:00.000000000",
          "2017-10-01T00:00:00.000000000",
          "2017-11-01T00:00:00.000000000",
          "2017-12-01T00:00:00.000000000",
          "2018-01-01T00:00:00.000000000",
          "2018-02-01T00:00:00.000000000",
          "2018-03-01T00:00:00.000000000",
          "2018-04-01T00:00:00.000000000",
          "2018-05-01T00:00:00.000000000",
          "2018-06-01T00:00:00.000000000",
          "2018-07-01T00:00:00.000000000",
          "2018-08-01T00:00:00.000000000",
          "2018-09-01T00:00:00.000000000",
          "2018-10-01T00:00:00.000000000",
          "2018-11-01T00:00:00.000000000",
          "2018-12-01T00:00:00.000000000",
          "2019-01-01T00:00:00.000000000",
          "2019-02-01T00:00:00.000000000",
          "2019-03-01T00:00:00.000000000",
          "2019-04-01T00:00:00.000000000",
          "2019-05-01T00:00:00.000000000",
          "2019-06-01T00:00:00.000000000",
          "2019-07-01T00:00:00.000000000",
          "2019-08-01T00:00:00.000000000",
          "2019-09-01T00:00:00.000000000",
          "2019-10-01T00:00:00.000000000",
          "2019-11-01T00:00:00.000000000",
          "2019-12-01T00:00:00.000000000",
          "2020-01-01T00:00:00.000000000",
          "2020-02-01T00:00:00.000000000",
          "2020-03-01T00:00:00.000000000",
          "2020-04-01T00:00:00.000000000",
          "2020-05-01T00:00:00.000000000",
          "2020-06-01T00:00:00.000000000",
          "2020-07-01T00:00:00.000000000",
          "2020-08-01T00:00:00.000000000",
          "2020-09-01T00:00:00.000000000",
          "2020-10-01T00:00:00.000000000",
          "2020-11-01T00:00:00.000000000",
          "2020-12-01T00:00:00.000000000",
          "2021-01-01T00:00:00.000000000",
          "2021-02-01T00:00:00.000000000",
          "2021-03-01T00:00:00.000000000",
          "2021-04-01T00:00:00.000000000",
          "2021-05-01T00:00:00.000000000",
          "2021-06-01T00:00:00.000000000",
          "2021-07-01T00:00:00.000000000",
          "2021-08-01T00:00:00.000000000",
          "2021-09-01T00:00:00.000000000",
          "2021-10-01T00:00:00.000000000",
          "2021-11-01T00:00:00.000000000",
          "2021-12-01T00:00:00.000000000",
          "2022-01-01T00:00:00.000000000",
          "2022-02-01T00:00:00.000000000",
          "2022-03-01T00:00:00.000000000",
          "2022-04-01T00:00:00.000000000",
          "2022-05-01T00:00:00.000000000",
          "2022-06-01T00:00:00.000000000",
          "2022-07-01T00:00:00.000000000",
          "2022-08-01T00:00:00.000000000",
          "2022-09-01T00:00:00.000000000",
          "2022-10-01T00:00:00.000000000",
          "2022-11-01T00:00:00.000000000",
          "2022-12-01T00:00:00.000000000",
          "2023-01-01T00:00:00.000000000",
          "2023-02-01T00:00:00.000000000",
          "2023-03-01T00:00:00.000000000",
          "2023-04-01T00:00:00.000000000",
          "2023-05-01T00:00:00.000000000",
          "2023-06-01T00:00:00.000000000",
          "2023-07-01T00:00:00.000000000",
          "2023-08-01T00:00:00.000000000",
          "2023-09-01T00:00:00.000000000",
          "2023-10-01T00:00:00.000000000",
          "2023-11-01T00:00:00.000000000",
          "2023-12-01T00:00:00.000000000",
          "2024-01-01T00:00:00.000000000",
          "2024-02-01T00:00:00.000000000",
          "2024-03-01T00:00:00.000000000",
          "2024-04-01T00:00:00.000000000",
          "2024-05-01T00:00:00.000000000",
          "2024-06-01T00:00:00.000000000",
          "2024-07-01T00:00:00.000000000",
          "2024-08-01T00:00:00.000000000",
          "2024-09-01T00:00:00.000000000",
          "2024-10-01T00:00:00.000000000",
          "2024-11-01T00:00:00.000000000",
          "2024-12-01T00:00:00.000000000"
         ],
         "y": [
          186.34708696675887,
          183.49634978765536,
          180.6456126085519,
          177.7948754294484,
          174.9441382503449,
          172.09340107124143,
          169.24266389213795,
          166.39192671303448,
          163.54118953393098,
          160.6904523548275,
          157.839715175724,
          154.98897799662052,
          152.13824081751704,
          149.28750363841357,
          146.43676645931006,
          143.5860292802066,
          140.7352921011031,
          137.8845549219996,
          135.03381774289613,
          132.18308056379266,
          129.33234338468918,
          126.48160620558568,
          123.6308690264822,
          120.78013184737871,
          117.92939466827522,
          115.07865748917175,
          112.22792031006826,
          109.37718313096477,
          106.52644595186129,
          103.6757087727578,
          100.82497159365433,
          97.97423441455084,
          95.12349723544735,
          92.27276005634387,
          89.42202287724038,
          86.5712856981369,
          83.72054851903341,
          80.86981133992992,
          78.01907416082645,
          75.16833698172296,
          72.31759980261947,
          69.466862623516,
          66.6161254444125,
          63.765388265309014,
          60.91465108620554,
          58.06391390710206,
          55.21317672799856,
          52.36243954889508,
          -1.4882976302083932,
          1.6609651906881027,
          16.810228011584627,
          13.959490832481151,
          11.108753653377647,
          8.258016474274172,
          5.407279295170696,
          17.55654211606719,
          20.705804936963716,
          22.85506775786024,
          26.004330578756765,
          28.15359339965326,
          31.302856220549785,
          33.45211904144631,
          36.601381862342805,
          38.75064468323933,
          35.899907504135854,
          45.04917032503235,
          47.198433145928874,
          50.3476959668254,
          52.496958787721894,
          55.64622160861842,
          57.79548442951494,
          60.94474725041147,
          64.09401007130796,
          66.24327289220449,
          69.39253571310101,
          71.54179853399751,
          74.69106135489403,
          76.84032417579056,
          79.98958699668705,
          82.13884981758358,
          85.2881126384801,
          88.4373754593766,
          90.58663828027312,
          93.73590110116965,
          95.88516392206614,
          99.03442674296267,
          101.18368956385919,
          104.33295238475569,
          107.48221520565221,
          109.63147802654873,
          112.78074084744526,
          114.93000366834178,
          118.07926648923825,
          120.22852931013477,
          123.3777921310313,
          125.52705495192782,
          128.67631777282435,
          131.82558059372087,
          133.9748434146174,
          137.12410623551386,
          139.2733690564104,
          142.4226318773069,
          144.57189469820344,
          147.72115751909996,
          149.87042033999649,
          153.01968316089295,
          156.16894598178948,
          158.318208802686
         ]
        }
       ],
       "layout": {
        "legend": {
         "title": {
          "text": "Legend"
         }
        },
        "template": {
         "data": {
          "bar": [
           {
            "error_x": {
             "color": "#2a3f5f"
            },
            "error_y": {
             "color": "#2a3f5f"
            },
            "marker": {
             "line": {
              "color": "#E5ECF6",
              "width": 0.5
             },
             "pattern": {
              "fillmode": "overlay",
              "size": 10,
              "solidity": 0.2
             }
            },
            "type": "bar"
           }
          ],
          "barpolar": [
           {
            "marker": {
             "line": {
              "color": "#E5ECF6",
              "width": 0.5
             },
             "pattern": {
              "fillmode": "overlay",
              "size": 10,
              "solidity": 0.2
             }
            },
            "type": "barpolar"
           }
          ],
          "carpet": [
           {
            "aaxis": {
             "endlinecolor": "#2a3f5f",
             "gridcolor": "white",
             "linecolor": "white",
             "minorgridcolor": "white",
             "startlinecolor": "#2a3f5f"
            },
            "baxis": {
             "endlinecolor": "#2a3f5f",
             "gridcolor": "white",
             "linecolor": "white",
             "minorgridcolor": "white",
             "startlinecolor": "#2a3f5f"
            },
            "type": "carpet"
           }
          ],
          "choropleth": [
           {
            "colorbar": {
             "outlinewidth": 0,
             "ticks": ""
            },
            "type": "choropleth"
           }
          ],
          "contour": [
           {
            "colorbar": {
             "outlinewidth": 0,
             "ticks": ""
            },
            "colorscale": [
             [
              0,
              "#0d0887"
             ],
             [
              0.1111111111111111,
              "#46039f"
             ],
             [
              0.2222222222222222,
              "#7201a8"
             ],
             [
              0.3333333333333333,
              "#9c179e"
             ],
             [
              0.4444444444444444,
              "#bd3786"
             ],
             [
              0.5555555555555556,
              "#d8576b"
             ],
             [
              0.6666666666666666,
              "#ed7953"
             ],
             [
              0.7777777777777778,
              "#fb9f3a"
             ],
             [
              0.8888888888888888,
              "#fdca26"
             ],
             [
              1,
              "#f0f921"
             ]
            ],
            "type": "contour"
           }
          ],
          "contourcarpet": [
           {
            "colorbar": {
             "outlinewidth": 0,
             "ticks": ""
            },
            "type": "contourcarpet"
           }
          ],
          "heatmap": [
           {
            "colorbar": {
             "outlinewidth": 0,
             "ticks": ""
            },
            "colorscale": [
             [
              0,
              "#0d0887"
             ],
             [
              0.1111111111111111,
              "#46039f"
             ],
             [
              0.2222222222222222,
              "#7201a8"
             ],
             [
              0.3333333333333333,
              "#9c179e"
             ],
             [
              0.4444444444444444,
              "#bd3786"
             ],
             [
              0.5555555555555556,
              "#d8576b"
             ],
             [
              0.6666666666666666,
              "#ed7953"
             ],
             [
              0.7777777777777778,
              "#fb9f3a"
             ],
             [
              0.8888888888888888,
              "#fdca26"
             ],
             [
              1,
              "#f0f921"
             ]
            ],
            "type": "heatmap"
           }
          ],
          "heatmapgl": [
           {
            "colorbar": {
             "outlinewidth": 0,
             "ticks": ""
            },
            "colorscale": [
             [
              0,
              "#0d0887"
             ],
             [
              0.1111111111111111,
              "#46039f"
             ],
             [
              0.2222222222222222,
              "#7201a8"
             ],
             [
              0.3333333333333333,
              "#9c179e"
             ],
             [
              0.4444444444444444,
              "#bd3786"
             ],
             [
              0.5555555555555556,
              "#d8576b"
             ],
             [
              0.6666666666666666,
              "#ed7953"
             ],
             [
              0.7777777777777778,
              "#fb9f3a"
             ],
             [
              0.8888888888888888,
              "#fdca26"
             ],
             [
              1,
              "#f0f921"
             ]
            ],
            "type": "heatmapgl"
           }
          ],
          "histogram": [
           {
            "marker": {
             "pattern": {
              "fillmode": "overlay",
              "size": 10,
              "solidity": 0.2
             }
            },
            "type": "histogram"
           }
          ],
          "histogram2d": [
           {
            "colorbar": {
             "outlinewidth": 0,
             "ticks": ""
            },
            "colorscale": [
             [
              0,
              "#0d0887"
             ],
             [
              0.1111111111111111,
              "#46039f"
             ],
             [
              0.2222222222222222,
              "#7201a8"
             ],
             [
              0.3333333333333333,
              "#9c179e"
             ],
             [
              0.4444444444444444,
              "#bd3786"
             ],
             [
              0.5555555555555556,
              "#d8576b"
             ],
             [
              0.6666666666666666,
              "#ed7953"
             ],
             [
              0.7777777777777778,
              "#fb9f3a"
             ],
             [
              0.8888888888888888,
              "#fdca26"
             ],
             [
              1,
              "#f0f921"
             ]
            ],
            "type": "histogram2d"
           }
          ],
          "histogram2dcontour": [
           {
            "colorbar": {
             "outlinewidth": 0,
             "ticks": ""
            },
            "colorscale": [
             [
              0,
              "#0d0887"
             ],
             [
              0.1111111111111111,
              "#46039f"
             ],
             [
              0.2222222222222222,
              "#7201a8"
             ],
             [
              0.3333333333333333,
              "#9c179e"
             ],
             [
              0.4444444444444444,
              "#bd3786"
             ],
             [
              0.5555555555555556,
              "#d8576b"
             ],
             [
              0.6666666666666666,
              "#ed7953"
             ],
             [
              0.7777777777777778,
              "#fb9f3a"
             ],
             [
              0.8888888888888888,
              "#fdca26"
             ],
             [
              1,
              "#f0f921"
             ]
            ],
            "type": "histogram2dcontour"
           }
          ],
          "mesh3d": [
           {
            "colorbar": {
             "outlinewidth": 0,
             "ticks": ""
            },
            "type": "mesh3d"
           }
          ],
          "parcoords": [
           {
            "line": {
             "colorbar": {
              "outlinewidth": 0,
              "ticks": ""
             }
            },
            "type": "parcoords"
           }
          ],
          "pie": [
           {
            "automargin": true,
            "type": "pie"
           }
          ],
          "scatter": [
           {
            "fillpattern": {
             "fillmode": "overlay",
             "size": 10,
             "solidity": 0.2
            },
            "type": "scatter"
           }
          ],
          "scatter3d": [
           {
            "line": {
             "colorbar": {
              "outlinewidth": 0,
              "ticks": ""
             }
            },
            "marker": {
             "colorbar": {
              "outlinewidth": 0,
              "ticks": ""
             }
            },
            "type": "scatter3d"
           }
          ],
          "scattercarpet": [
           {
            "marker": {
             "colorbar": {
              "outlinewidth": 0,
              "ticks": ""
             }
            },
            "type": "scattercarpet"
           }
          ],
          "scattergeo": [
           {
            "marker": {
             "colorbar": {
              "outlinewidth": 0,
              "ticks": ""
             }
            },
            "type": "scattergeo"
           }
          ],
          "scattergl": [
           {
            "marker": {
             "colorbar": {
              "outlinewidth": 0,
              "ticks": ""
             }
            },
            "type": "scattergl"
           }
          ],
          "scattermapbox": [
           {
            "marker": {
             "colorbar": {
              "outlinewidth": 0,
              "ticks": ""
             }
            },
            "type": "scattermapbox"
           }
          ],
          "scatterpolar": [
           {
            "marker": {
             "colorbar": {
              "outlinewidth": 0,
              "ticks": ""
             }
            },
            "type": "scatterpolar"
           }
          ],
          "scatterpolargl": [
           {
            "marker": {
             "colorbar": {
              "outlinewidth": 0,
              "ticks": ""
             }
            },
            "type": "scatterpolargl"
           }
          ],
          "scatterternary": [
           {
            "marker": {
             "colorbar": {
              "outlinewidth": 0,
              "ticks": ""
             }
            },
            "type": "scatterternary"
           }
          ],
          "surface": [
           {
            "colorbar": {
             "outlinewidth": 0,
             "ticks": ""
            },
            "colorscale": [
             [
              0,
              "#0d0887"
             ],
             [
              0.1111111111111111,
              "#46039f"
             ],
             [
              0.2222222222222222,
              "#7201a8"
             ],
             [
              0.3333333333333333,
              "#9c179e"
             ],
             [
              0.4444444444444444,
              "#bd3786"
             ],
             [
              0.5555555555555556,
              "#d8576b"
             ],
             [
              0.6666666666666666,
              "#ed7953"
             ],
             [
              0.7777777777777778,
              "#fb9f3a"
             ],
             [
              0.8888888888888888,
              "#fdca26"
             ],
             [
              1,
              "#f0f921"
             ]
            ],
            "type": "surface"
           }
          ],
          "table": [
           {
            "cells": {
             "fill": {
              "color": "#EBF0F8"
             },
             "line": {
              "color": "white"
             }
            },
            "header": {
             "fill": {
              "color": "#C8D4E3"
             },
             "line": {
              "color": "white"
             }
            },
            "type": "table"
           }
          ]
         },
         "layout": {
          "annotationdefaults": {
           "arrowcolor": "#2a3f5f",
           "arrowhead": 0,
           "arrowwidth": 1
          },
          "autotypenumbers": "strict",
          "coloraxis": {
           "colorbar": {
            "outlinewidth": 0,
            "ticks": ""
           }
          },
          "colorscale": {
           "diverging": [
            [
             0,
             "#8e0152"
            ],
            [
             0.1,
             "#c51b7d"
            ],
            [
             0.2,
             "#de77ae"
            ],
            [
             0.3,
             "#f1b6da"
            ],
            [
             0.4,
             "#fde0ef"
            ],
            [
             0.5,
             "#f7f7f7"
            ],
            [
             0.6,
             "#e6f5d0"
            ],
            [
             0.7,
             "#b8e186"
            ],
            [
             0.8,
             "#7fbc41"
            ],
            [
             0.9,
             "#4d9221"
            ],
            [
             1,
             "#276419"
            ]
           ],
           "sequential": [
            [
             0,
             "#0d0887"
            ],
            [
             0.1111111111111111,
             "#46039f"
            ],
            [
             0.2222222222222222,
             "#7201a8"
            ],
            [
             0.3333333333333333,
             "#9c179e"
            ],
            [
             0.4444444444444444,
             "#bd3786"
            ],
            [
             0.5555555555555556,
             "#d8576b"
            ],
            [
             0.6666666666666666,
             "#ed7953"
            ],
            [
             0.7777777777777778,
             "#fb9f3a"
            ],
            [
             0.8888888888888888,
             "#fdca26"
            ],
            [
             1,
             "#f0f921"
            ]
           ],
           "sequentialminus": [
            [
             0,
             "#0d0887"
            ],
            [
             0.1111111111111111,
             "#46039f"
            ],
            [
             0.2222222222222222,
             "#7201a8"
            ],
            [
             0.3333333333333333,
             "#9c179e"
            ],
            [
             0.4444444444444444,
             "#bd3786"
            ],
            [
             0.5555555555555556,
             "#d8576b"
            ],
            [
             0.6666666666666666,
             "#ed7953"
            ],
            [
             0.7777777777777778,
             "#fb9f3a"
            ],
            [
             0.8888888888888888,
             "#fdca26"
            ],
            [
             1,
             "#f0f921"
            ]
           ]
          },
          "colorway": [
           "#636efa",
           "#EF553B",
           "#00cc96",
           "#ab63fa",
           "#FFA15A",
           "#19d3f3",
           "#FF6692",
           "#B6E880",
           "#FF97FF",
           "#FECB52"
          ],
          "font": {
           "color": "#2a3f5f"
          },
          "geo": {
           "bgcolor": "white",
           "lakecolor": "white",
           "landcolor": "#E5ECF6",
           "showlakes": true,
           "showland": true,
           "subunitcolor": "white"
          },
          "hoverlabel": {
           "align": "left"
          },
          "hovermode": "closest",
          "mapbox": {
           "style": "light"
          },
          "paper_bgcolor": "white",
          "plot_bgcolor": "#E5ECF6",
          "polar": {
           "angularaxis": {
            "gridcolor": "white",
            "linecolor": "white",
            "ticks": ""
           },
           "bgcolor": "#E5ECF6",
           "radialaxis": {
            "gridcolor": "white",
            "linecolor": "white",
            "ticks": ""
           }
          },
          "scene": {
           "xaxis": {
            "backgroundcolor": "#E5ECF6",
            "gridcolor": "white",
            "gridwidth": 2,
            "linecolor": "white",
            "showbackground": true,
            "ticks": "",
            "zerolinecolor": "white"
           },
           "yaxis": {
            "backgroundcolor": "#E5ECF6",
            "gridcolor": "white",
            "gridwidth": 2,
            "linecolor": "white",
            "showbackground": true,
            "ticks": "",
            "zerolinecolor": "white"
           },
           "zaxis": {
            "backgroundcolor": "#E5ECF6",
            "gridcolor": "white",
            "gridwidth": 2,
            "linecolor": "white",
            "showbackground": true,
            "ticks": "",
            "zerolinecolor": "white"
           }
          },
          "shapedefaults": {
           "line": {
            "color": "#2a3f5f"
           }
          },
          "ternary": {
           "aaxis": {
            "gridcolor": "white",
            "linecolor": "white",
            "ticks": ""
           },
           "baxis": {
            "gridcolor": "white",
            "linecolor": "white",
            "ticks": ""
           },
           "bgcolor": "#E5ECF6",
           "caxis": {
            "gridcolor": "white",
            "linecolor": "white",
            "ticks": ""
           }
          },
          "title": {
           "x": 0.05
          },
          "xaxis": {
           "automargin": true,
           "gridcolor": "white",
           "linecolor": "white",
           "ticks": "",
           "title": {
            "standoff": 15
           },
           "zerolinecolor": "white",
           "zerolinewidth": 2
          },
          "yaxis": {
           "automargin": true,
           "gridcolor": "white",
           "linecolor": "white",
           "ticks": "",
           "title": {
            "standoff": 15
           },
           "zerolinecolor": "white",
           "zerolinewidth": 2
          }
         }
        },
        "title": {
         "text": "F99-F99 - Transtorno mental não especificado"
        },
        "xaxis": {
         "title": {
          "text": "Time"
         }
        },
        "yaxis": {
         "title": {
          "text": "Value"
         }
        }
       }
      }
     },
     "metadata": {},
     "output_type": "display_data"
    },
    {
     "data": {
      "application/vnd.plotly.v1+json": {
       "config": {
        "plotlyServerURL": "https://plot.ly"
       },
       "data": [
        {
         "marker": {
          "color": "black"
         },
         "mode": "markers",
         "name": "Real",
         "type": "scatter",
         "x": [
          "2016-01-01T00:00:00.000000000",
          "2016-02-01T00:00:00.000000000",
          "2016-03-01T00:00:00.000000000",
          "2016-04-01T00:00:00.000000000",
          "2016-05-01T00:00:00.000000000",
          "2016-06-01T00:00:00.000000000",
          "2016-07-01T00:00:00.000000000",
          "2016-08-01T00:00:00.000000000",
          "2016-09-01T00:00:00.000000000",
          "2016-10-01T00:00:00.000000000",
          "2016-11-01T00:00:00.000000000",
          "2016-12-01T00:00:00.000000000",
          "2017-01-01T00:00:00.000000000",
          "2017-02-01T00:00:00.000000000",
          "2017-03-01T00:00:00.000000000",
          "2017-04-01T00:00:00.000000000",
          "2017-05-01T00:00:00.000000000",
          "2017-06-01T00:00:00.000000000",
          "2017-07-01T00:00:00.000000000",
          "2017-08-01T00:00:00.000000000",
          "2017-09-01T00:00:00.000000000",
          "2017-10-01T00:00:00.000000000",
          "2017-11-01T00:00:00.000000000",
          "2017-12-01T00:00:00.000000000",
          "2018-01-01T00:00:00.000000000",
          "2018-02-01T00:00:00.000000000",
          "2018-03-01T00:00:00.000000000",
          "2018-04-01T00:00:00.000000000",
          "2018-05-01T00:00:00.000000000",
          "2018-06-01T00:00:00.000000000",
          "2018-07-01T00:00:00.000000000",
          "2018-08-01T00:00:00.000000000",
          "2018-09-01T00:00:00.000000000",
          "2018-10-01T00:00:00.000000000",
          "2018-11-01T00:00:00.000000000",
          "2018-12-01T00:00:00.000000000",
          "2019-01-01T00:00:00.000000000",
          "2019-02-01T00:00:00.000000000",
          "2019-03-01T00:00:00.000000000",
          "2019-04-01T00:00:00.000000000",
          "2019-05-01T00:00:00.000000000",
          "2019-06-01T00:00:00.000000000",
          "2019-07-01T00:00:00.000000000",
          "2019-08-01T00:00:00.000000000",
          "2019-09-01T00:00:00.000000000",
          "2019-10-01T00:00:00.000000000",
          "2019-11-01T00:00:00.000000000",
          "2019-12-01T00:00:00.000000000",
          "2020-01-01T00:00:00.000000000",
          "2020-02-01T00:00:00.000000000",
          "2020-03-01T00:00:00.000000000",
          "2020-04-01T00:00:00.000000000",
          "2020-05-01T00:00:00.000000000",
          "2020-06-01T00:00:00.000000000",
          "2020-07-01T00:00:00.000000000",
          "2020-08-01T00:00:00.000000000",
          "2020-09-01T00:00:00.000000000",
          "2020-10-01T00:00:00.000000000",
          "2020-11-01T00:00:00.000000000",
          "2020-12-01T00:00:00.000000000",
          "2021-01-01T00:00:00.000000000",
          "2021-02-01T00:00:00.000000000",
          "2021-03-01T00:00:00.000000000",
          "2021-04-01T00:00:00.000000000",
          "2021-05-01T00:00:00.000000000",
          "2021-06-01T00:00:00.000000000",
          "2021-07-01T00:00:00.000000000",
          "2021-08-01T00:00:00.000000000",
          "2021-09-01T00:00:00.000000000",
          "2021-10-01T00:00:00.000000000",
          "2021-11-01T00:00:00.000000000",
          "2021-12-01T00:00:00.000000000",
          "2022-01-01T00:00:00.000000000",
          "2022-02-01T00:00:00.000000000",
          "2022-03-01T00:00:00.000000000",
          "2022-04-01T00:00:00.000000000",
          "2022-05-01T00:00:00.000000000",
          "2022-06-01T00:00:00.000000000",
          "2022-07-01T00:00:00.000000000",
          "2022-08-01T00:00:00.000000000",
          "2022-09-01T00:00:00.000000000",
          "2022-10-01T00:00:00.000000000",
          "2022-11-01T00:00:00.000000000",
          "2022-12-01T00:00:00.000000000",
          "2023-01-01T00:00:00.000000000",
          "2023-02-01T00:00:00.000000000",
          "2023-03-01T00:00:00.000000000",
          "2023-04-01T00:00:00.000000000",
          "2023-05-01T00:00:00.000000000",
          "2023-06-01T00:00:00.000000000",
          "2023-07-01T00:00:00.000000000",
          "2023-08-01T00:00:00.000000000",
          "2023-09-01T00:00:00.000000000",
          "2023-10-01T00:00:00.000000000",
          "2023-11-01T00:00:00.000000000",
          "2023-12-01T00:00:00.000000000",
          "2024-01-01T00:00:00.000000000",
          "2024-02-01T00:00:00.000000000",
          "2024-03-01T00:00:00.000000000",
          "2024-04-01T00:00:00.000000000",
          "2024-05-01T00:00:00.000000000",
          "2024-06-01T00:00:00.000000000",
          "2024-07-01T00:00:00.000000000",
          "2024-08-01T00:00:00.000000000",
          "2024-09-01T00:00:00.000000000",
          "2024-10-01T00:00:00.000000000",
          "2024-11-01T00:00:00.000000000",
          "2024-12-01T00:00:00.000000000"
         ],
         "y": [
          225,
          218,
          284,
          238,
          322,
          345,
          403,
          406,
          412,
          433,
          290,
          269,
          247,
          203,
          348,
          325,
          355,
          308,
          340,
          381,
          346,
          328,
          332,
          277,
          315,
          250,
          358,
          422,
          397,
          337,
          327,
          413,
          353,
          477,
          355,
          286,
          313,
          314,
          314,
          379,
          565,
          436,
          520,
          586,
          424,
          472,
          347,
          297,
          387,
          271,
          253,
          168,
          182,
          229,
          223,
          245,
          298,
          353,
          270,
          267,
          261,
          261,
          261,
          227,
          80,
          334,
          413,
          438,
          415,
          417,
          449,
          431,
          238,
          293,
          438,
          328,
          421,
          486,
          442,
          482,
          482,
          520,
          475,
          422,
          431,
          339,
          594,
          518,
          627,
          574,
          595,
          781,
          625,
          816,
          741,
          648,
          625,
          613,
          762,
          889,
          467,
          699,
          842,
          882,
          923,
          1159,
          922,
          816
         ]
        },
        {
         "line": {
          "color": "black",
          "dash": "dot"
         },
         "mode": "lines",
         "name": "Baseline",
         "type": "scatter",
         "x": [
          "2016-01-01T00:00:00.000000000",
          "2016-02-01T00:00:00.000000000",
          "2016-03-01T00:00:00.000000000",
          "2016-04-01T00:00:00.000000000",
          "2016-05-01T00:00:00.000000000",
          "2016-06-01T00:00:00.000000000",
          "2016-07-01T00:00:00.000000000",
          "2016-08-01T00:00:00.000000000",
          "2016-09-01T00:00:00.000000000",
          "2016-10-01T00:00:00.000000000",
          "2016-11-01T00:00:00.000000000",
          "2016-12-01T00:00:00.000000000",
          "2017-01-01T00:00:00.000000000",
          "2017-02-01T00:00:00.000000000",
          "2017-03-01T00:00:00.000000000",
          "2017-04-01T00:00:00.000000000",
          "2017-05-01T00:00:00.000000000",
          "2017-06-01T00:00:00.000000000",
          "2017-07-01T00:00:00.000000000",
          "2017-08-01T00:00:00.000000000",
          "2017-09-01T00:00:00.000000000",
          "2017-10-01T00:00:00.000000000",
          "2017-11-01T00:00:00.000000000",
          "2017-12-01T00:00:00.000000000",
          "2018-01-01T00:00:00.000000000",
          "2018-02-01T00:00:00.000000000",
          "2018-03-01T00:00:00.000000000",
          "2018-04-01T00:00:00.000000000",
          "2018-05-01T00:00:00.000000000",
          "2018-06-01T00:00:00.000000000",
          "2018-07-01T00:00:00.000000000",
          "2018-08-01T00:00:00.000000000",
          "2018-09-01T00:00:00.000000000",
          "2018-10-01T00:00:00.000000000",
          "2018-11-01T00:00:00.000000000",
          "2018-12-01T00:00:00.000000000",
          "2019-01-01T00:00:00.000000000",
          "2019-02-01T00:00:00.000000000",
          "2019-03-01T00:00:00.000000000",
          "2019-04-01T00:00:00.000000000",
          "2019-05-01T00:00:00.000000000",
          "2019-06-01T00:00:00.000000000",
          "2019-07-01T00:00:00.000000000",
          "2019-08-01T00:00:00.000000000",
          "2019-09-01T00:00:00.000000000",
          "2019-10-01T00:00:00.000000000",
          "2019-11-01T00:00:00.000000000",
          "2019-12-01T00:00:00.000000000",
          "2020-01-01T00:00:00.000000000",
          "2020-02-01T00:00:00.000000000",
          "2020-03-01T00:00:00.000000000",
          "2020-04-01T00:00:00.000000000",
          "2020-05-01T00:00:00.000000000",
          "2020-06-01T00:00:00.000000000",
          "2020-07-01T00:00:00.000000000",
          "2020-08-01T00:00:00.000000000",
          "2020-09-01T00:00:00.000000000",
          "2020-10-01T00:00:00.000000000",
          "2020-11-01T00:00:00.000000000",
          "2020-12-01T00:00:00.000000000",
          "2021-01-01T00:00:00.000000000",
          "2021-02-01T00:00:00.000000000",
          "2021-03-01T00:00:00.000000000",
          "2021-04-01T00:00:00.000000000",
          "2021-05-01T00:00:00.000000000",
          "2021-06-01T00:00:00.000000000",
          "2021-07-01T00:00:00.000000000",
          "2021-08-01T00:00:00.000000000",
          "2021-09-01T00:00:00.000000000",
          "2021-10-01T00:00:00.000000000",
          "2021-11-01T00:00:00.000000000",
          "2021-12-01T00:00:00.000000000",
          "2022-01-01T00:00:00.000000000",
          "2022-02-01T00:00:00.000000000",
          "2022-03-01T00:00:00.000000000",
          "2022-04-01T00:00:00.000000000",
          "2022-05-01T00:00:00.000000000",
          "2022-06-01T00:00:00.000000000",
          "2022-07-01T00:00:00.000000000",
          "2022-08-01T00:00:00.000000000",
          "2022-09-01T00:00:00.000000000",
          "2022-10-01T00:00:00.000000000",
          "2022-11-01T00:00:00.000000000",
          "2022-12-01T00:00:00.000000000",
          "2023-01-01T00:00:00.000000000",
          "2023-02-01T00:00:00.000000000",
          "2023-03-01T00:00:00.000000000",
          "2023-04-01T00:00:00.000000000",
          "2023-05-01T00:00:00.000000000",
          "2023-06-01T00:00:00.000000000",
          "2023-07-01T00:00:00.000000000",
          "2023-08-01T00:00:00.000000000",
          "2023-09-01T00:00:00.000000000",
          "2023-10-01T00:00:00.000000000",
          "2023-11-01T00:00:00.000000000",
          "2023-12-01T00:00:00.000000000",
          "2024-01-01T00:00:00.000000000",
          "2024-02-01T00:00:00.000000000",
          "2024-03-01T00:00:00.000000000",
          "2024-04-01T00:00:00.000000000",
          "2024-05-01T00:00:00.000000000",
          "2024-06-01T00:00:00.000000000",
          "2024-07-01T00:00:00.000000000",
          "2024-08-01T00:00:00.000000000",
          "2024-09-01T00:00:00.000000000",
          "2024-10-01T00:00:00.000000000",
          "2024-11-01T00:00:00.000000000",
          "2024-12-01T00:00:00.000000000"
         ],
         "y": [
          255.77385904534808,
          257.65820317799336,
          259.54254731063867,
          261.426891443284,
          263.31123557592923,
          265.19557970857454,
          267.07992384121985,
          268.9642679738651,
          270.8486121065104,
          272.73295623915567,
          274.617300371801,
          276.5016445044463,
          278.38598863709154,
          280.27033276973685,
          282.15467690238216,
          284.0390210350274,
          285.9233651676727,
          287.80770930031804,
          289.6920534329633,
          291.5763975656086,
          293.46074169825386,
          295.34508583089917,
          297.2294299635445,
          299.11377409618973,
          300.99811822883504,
          302.88246236148035,
          304.7668064941256,
          306.6511506267709,
          308.5354947594162,
          310.4198388920615,
          312.3041830247068,
          314.18852715735204,
          316.07287128999735,
          317.95721542264266,
          319.841559555288,
          321.7259036879332,
          323.61024782057854,
          325.4945919532238,
          327.3789360858691,
          329.2632802185144,
          331.14762435115966,
          333.031968483805,
          334.9163126164502,
          336.80065674909554,
          338.68500088174085,
          340.56934501438616,
          342.4536891470314,
          344.3380332796767,
          346.222377412322,
          348.1067215449673,
          349.9910656776126,
          351.87540981025785,
          353.75975394290316,
          355.6440980755484,
          357.5284422081937,
          359.41278634083903,
          361.29713047348434,
          363.1814746061296,
          365.0658187387749,
          366.95016287142016,
          368.8345070040655,
          370.7188511367108,
          372.60319526935604,
          374.48753940200135,
          376.37188353464666,
          378.2562276672919,
          380.1405717999372,
          382.02491593258253,
          383.9092600652278,
          385.7936041978731,
          387.67794833051835,
          389.56229246316366,
          391.44663659580897,
          393.3309807284543,
          395.21532486109953,
          397.0996689937448,
          398.9840131263901,
          400.8683572590354,
          402.7527013916807,
          404.63704552432597,
          406.5213896569713,
          408.40573378961653,
          410.29007792226184,
          412.17442205490715,
          414.05876618755246,
          415.9431103201977,
          417.82745445284297,
          419.7117985854883,
          421.5961427181336,
          423.4804868507789,
          425.3648309834242,
          427.24917511606947,
          429.1335192487147,
          431.01786338136003,
          432.90220751400534,
          434.78655164665065,
          436.6708957792959,
          438.5552399119412,
          440.43958404458647,
          442.3239281772318,
          444.2082723098771,
          446.0926164425224,
          447.97696057516765,
          449.8613047078129,
          451.7456488404582,
          453.6299929731035,
          455.51433710574884,
          457.3986812383941
         ]
        },
        {
         "line": {
          "color": "purple"
         },
         "mode": "lines",
         "name": "Full model",
         "type": "scatter",
         "x": [
          "2016-01-01T00:00:00.000000000",
          "2016-02-01T00:00:00.000000000",
          "2016-03-01T00:00:00.000000000",
          "2016-04-01T00:00:00.000000000",
          "2016-05-01T00:00:00.000000000",
          "2016-06-01T00:00:00.000000000",
          "2016-07-01T00:00:00.000000000",
          "2016-08-01T00:00:00.000000000",
          "2016-09-01T00:00:00.000000000",
          "2016-10-01T00:00:00.000000000",
          "2016-11-01T00:00:00.000000000",
          "2016-12-01T00:00:00.000000000",
          "2017-01-01T00:00:00.000000000",
          "2017-02-01T00:00:00.000000000",
          "2017-03-01T00:00:00.000000000",
          "2017-04-01T00:00:00.000000000",
          "2017-05-01T00:00:00.000000000",
          "2017-06-01T00:00:00.000000000",
          "2017-07-01T00:00:00.000000000",
          "2017-08-01T00:00:00.000000000",
          "2017-09-01T00:00:00.000000000",
          "2017-10-01T00:00:00.000000000",
          "2017-11-01T00:00:00.000000000",
          "2017-12-01T00:00:00.000000000",
          "2018-01-01T00:00:00.000000000",
          "2018-02-01T00:00:00.000000000",
          "2018-03-01T00:00:00.000000000",
          "2018-04-01T00:00:00.000000000",
          "2018-05-01T00:00:00.000000000",
          "2018-06-01T00:00:00.000000000",
          "2018-07-01T00:00:00.000000000",
          "2018-08-01T00:00:00.000000000",
          "2018-09-01T00:00:00.000000000",
          "2018-10-01T00:00:00.000000000",
          "2018-11-01T00:00:00.000000000",
          "2018-12-01T00:00:00.000000000",
          "2019-01-01T00:00:00.000000000",
          "2019-02-01T00:00:00.000000000",
          "2019-03-01T00:00:00.000000000",
          "2019-04-01T00:00:00.000000000",
          "2019-05-01T00:00:00.000000000",
          "2019-06-01T00:00:00.000000000",
          "2019-07-01T00:00:00.000000000",
          "2019-08-01T00:00:00.000000000",
          "2019-09-01T00:00:00.000000000",
          "2019-10-01T00:00:00.000000000",
          "2019-11-01T00:00:00.000000000",
          "2019-12-01T00:00:00.000000000",
          "2020-01-01T00:00:00.000000000",
          "2020-02-01T00:00:00.000000000",
          "2020-03-01T00:00:00.000000000",
          "2020-04-01T00:00:00.000000000",
          "2020-05-01T00:00:00.000000000",
          "2020-06-01T00:00:00.000000000",
          "2020-07-01T00:00:00.000000000",
          "2020-08-01T00:00:00.000000000",
          "2020-09-01T00:00:00.000000000",
          "2020-10-01T00:00:00.000000000",
          "2020-11-01T00:00:00.000000000",
          "2020-12-01T00:00:00.000000000",
          "2021-01-01T00:00:00.000000000",
          "2021-02-01T00:00:00.000000000",
          "2021-03-01T00:00:00.000000000",
          "2021-04-01T00:00:00.000000000",
          "2021-05-01T00:00:00.000000000",
          "2021-06-01T00:00:00.000000000",
          "2021-07-01T00:00:00.000000000",
          "2021-08-01T00:00:00.000000000",
          "2021-09-01T00:00:00.000000000",
          "2021-10-01T00:00:00.000000000",
          "2021-11-01T00:00:00.000000000",
          "2021-12-01T00:00:00.000000000",
          "2022-01-01T00:00:00.000000000",
          "2022-02-01T00:00:00.000000000",
          "2022-03-01T00:00:00.000000000",
          "2022-04-01T00:00:00.000000000",
          "2022-05-01T00:00:00.000000000",
          "2022-06-01T00:00:00.000000000",
          "2022-07-01T00:00:00.000000000",
          "2022-08-01T00:00:00.000000000",
          "2022-09-01T00:00:00.000000000",
          "2022-10-01T00:00:00.000000000",
          "2022-11-01T00:00:00.000000000",
          "2022-12-01T00:00:00.000000000",
          "2023-01-01T00:00:00.000000000",
          "2023-02-01T00:00:00.000000000",
          "2023-03-01T00:00:00.000000000",
          "2023-04-01T00:00:00.000000000",
          "2023-05-01T00:00:00.000000000",
          "2023-06-01T00:00:00.000000000",
          "2023-07-01T00:00:00.000000000",
          "2023-08-01T00:00:00.000000000",
          "2023-09-01T00:00:00.000000000",
          "2023-10-01T00:00:00.000000000",
          "2023-11-01T00:00:00.000000000",
          "2023-12-01T00:00:00.000000000",
          "2024-01-01T00:00:00.000000000",
          "2024-02-01T00:00:00.000000000",
          "2024-03-01T00:00:00.000000000",
          "2024-04-01T00:00:00.000000000",
          "2024-05-01T00:00:00.000000000",
          "2024-06-01T00:00:00.000000000",
          "2024-07-01T00:00:00.000000000",
          "2024-08-01T00:00:00.000000000",
          "2024-09-01T00:00:00.000000000",
          "2024-10-01T00:00:00.000000000",
          "2024-11-01T00:00:00.000000000",
          "2024-12-01T00:00:00.000000000"
         ],
         "y": [
          255.77385904534808,
          257.65820317799336,
          259.54254731063867,
          261.426891443284,
          263.31123557592923,
          265.19557970857454,
          267.07992384121985,
          268.9642679738651,
          270.8486121065104,
          272.73295623915567,
          274.617300371801,
          276.5016445044463,
          278.38598863709154,
          280.27033276973685,
          282.15467690238216,
          284.0390210350274,
          285.9233651676727,
          287.80770930031804,
          289.6920534329633,
          291.5763975656086,
          293.46074169825386,
          295.34508583089917,
          297.2294299635445,
          299.11377409618973,
          300.99811822883504,
          302.88246236148035,
          304.7668064941256,
          306.6511506267709,
          308.5354947594162,
          310.4198388920615,
          312.3041830247068,
          314.18852715735204,
          316.07287128999735,
          317.95721542264266,
          319.841559555288,
          321.7259036879332,
          323.61024782057854,
          325.4945919532238,
          327.3789360858691,
          329.2632802185144,
          331.14762435115966,
          333.031968483805,
          334.9163126164502,
          336.80065674909554,
          338.68500088174085,
          340.56934501438616,
          342.4536891470314,
          344.3380332796767,
          128.22237741232198,
          139.1067215449673,
          154.9910656776126,
          156.87540981025785,
          158.75975394290316,
          160.6440980755484,
          162.52844220819372,
          203.41278634083903,
          214.29713047348434,
          225.1814746061296,
          236.0658187387749,
          246.95016287142016,
          257.8345070040655,
          268.7188511367108,
          278.60319526935604,
          133.48753940200135,
          135.37188353464666,
          311.2562276672919,
          322.1405717999372,
          333.02491593258253,
          343.9092600652278,
          353.7936041978731,
          364.67794833051835,
          375.56229246316366,
          386.44663659580897,
          397.3309807284543,
          408.21532486109953,
          419.0996689937448,
          428.9840131263901,
          439.8683572590354,
          450.7527013916807,
          461.63704552432597,
          472.5213896569713,
          483.40573378961653,
          494.29007792226184,
          504.17442205490715,
          515.0587661875525,
          525.9431103201978,
          536.827454452843,
          547.7117985854883,
          558.5961427181336,
          569.4804868507789,
          579.3648309834242,
          590.2491751160694,
          601.1335192487147,
          612.01786338136,
          622.9022075140053,
          633.7865516466507,
          644.670895779296,
          654.5552399119413,
          665.4395840445865,
          676.3239281772318,
          687.2082723098771,
          698.0926164425224,
          708.9769605751676,
          719.8613047078129,
          729.7456488404582,
          740.6299929731035,
          751.5143371057488,
          762.3986812383941
         ]
        }
       ],
       "layout": {
        "legend": {
         "title": {
          "text": "Legend"
         }
        },
        "template": {
         "data": {
          "bar": [
           {
            "error_x": {
             "color": "#2a3f5f"
            },
            "error_y": {
             "color": "#2a3f5f"
            },
            "marker": {
             "line": {
              "color": "#E5ECF6",
              "width": 0.5
             },
             "pattern": {
              "fillmode": "overlay",
              "size": 10,
              "solidity": 0.2
             }
            },
            "type": "bar"
           }
          ],
          "barpolar": [
           {
            "marker": {
             "line": {
              "color": "#E5ECF6",
              "width": 0.5
             },
             "pattern": {
              "fillmode": "overlay",
              "size": 10,
              "solidity": 0.2
             }
            },
            "type": "barpolar"
           }
          ],
          "carpet": [
           {
            "aaxis": {
             "endlinecolor": "#2a3f5f",
             "gridcolor": "white",
             "linecolor": "white",
             "minorgridcolor": "white",
             "startlinecolor": "#2a3f5f"
            },
            "baxis": {
             "endlinecolor": "#2a3f5f",
             "gridcolor": "white",
             "linecolor": "white",
             "minorgridcolor": "white",
             "startlinecolor": "#2a3f5f"
            },
            "type": "carpet"
           }
          ],
          "choropleth": [
           {
            "colorbar": {
             "outlinewidth": 0,
             "ticks": ""
            },
            "type": "choropleth"
           }
          ],
          "contour": [
           {
            "colorbar": {
             "outlinewidth": 0,
             "ticks": ""
            },
            "colorscale": [
             [
              0,
              "#0d0887"
             ],
             [
              0.1111111111111111,
              "#46039f"
             ],
             [
              0.2222222222222222,
              "#7201a8"
             ],
             [
              0.3333333333333333,
              "#9c179e"
             ],
             [
              0.4444444444444444,
              "#bd3786"
             ],
             [
              0.5555555555555556,
              "#d8576b"
             ],
             [
              0.6666666666666666,
              "#ed7953"
             ],
             [
              0.7777777777777778,
              "#fb9f3a"
             ],
             [
              0.8888888888888888,
              "#fdca26"
             ],
             [
              1,
              "#f0f921"
             ]
            ],
            "type": "contour"
           }
          ],
          "contourcarpet": [
           {
            "colorbar": {
             "outlinewidth": 0,
             "ticks": ""
            },
            "type": "contourcarpet"
           }
          ],
          "heatmap": [
           {
            "colorbar": {
             "outlinewidth": 0,
             "ticks": ""
            },
            "colorscale": [
             [
              0,
              "#0d0887"
             ],
             [
              0.1111111111111111,
              "#46039f"
             ],
             [
              0.2222222222222222,
              "#7201a8"
             ],
             [
              0.3333333333333333,
              "#9c179e"
             ],
             [
              0.4444444444444444,
              "#bd3786"
             ],
             [
              0.5555555555555556,
              "#d8576b"
             ],
             [
              0.6666666666666666,
              "#ed7953"
             ],
             [
              0.7777777777777778,
              "#fb9f3a"
             ],
             [
              0.8888888888888888,
              "#fdca26"
             ],
             [
              1,
              "#f0f921"
             ]
            ],
            "type": "heatmap"
           }
          ],
          "heatmapgl": [
           {
            "colorbar": {
             "outlinewidth": 0,
             "ticks": ""
            },
            "colorscale": [
             [
              0,
              "#0d0887"
             ],
             [
              0.1111111111111111,
              "#46039f"
             ],
             [
              0.2222222222222222,
              "#7201a8"
             ],
             [
              0.3333333333333333,
              "#9c179e"
             ],
             [
              0.4444444444444444,
              "#bd3786"
             ],
             [
              0.5555555555555556,
              "#d8576b"
             ],
             [
              0.6666666666666666,
              "#ed7953"
             ],
             [
              0.7777777777777778,
              "#fb9f3a"
             ],
             [
              0.8888888888888888,
              "#fdca26"
             ],
             [
              1,
              "#f0f921"
             ]
            ],
            "type": "heatmapgl"
           }
          ],
          "histogram": [
           {
            "marker": {
             "pattern": {
              "fillmode": "overlay",
              "size": 10,
              "solidity": 0.2
             }
            },
            "type": "histogram"
           }
          ],
          "histogram2d": [
           {
            "colorbar": {
             "outlinewidth": 0,
             "ticks": ""
            },
            "colorscale": [
             [
              0,
              "#0d0887"
             ],
             [
              0.1111111111111111,
              "#46039f"
             ],
             [
              0.2222222222222222,
              "#7201a8"
             ],
             [
              0.3333333333333333,
              "#9c179e"
             ],
             [
              0.4444444444444444,
              "#bd3786"
             ],
             [
              0.5555555555555556,
              "#d8576b"
             ],
             [
              0.6666666666666666,
              "#ed7953"
             ],
             [
              0.7777777777777778,
              "#fb9f3a"
             ],
             [
              0.8888888888888888,
              "#fdca26"
             ],
             [
              1,
              "#f0f921"
             ]
            ],
            "type": "histogram2d"
           }
          ],
          "histogram2dcontour": [
           {
            "colorbar": {
             "outlinewidth": 0,
             "ticks": ""
            },
            "colorscale": [
             [
              0,
              "#0d0887"
             ],
             [
              0.1111111111111111,
              "#46039f"
             ],
             [
              0.2222222222222222,
              "#7201a8"
             ],
             [
              0.3333333333333333,
              "#9c179e"
             ],
             [
              0.4444444444444444,
              "#bd3786"
             ],
             [
              0.5555555555555556,
              "#d8576b"
             ],
             [
              0.6666666666666666,
              "#ed7953"
             ],
             [
              0.7777777777777778,
              "#fb9f3a"
             ],
             [
              0.8888888888888888,
              "#fdca26"
             ],
             [
              1,
              "#f0f921"
             ]
            ],
            "type": "histogram2dcontour"
           }
          ],
          "mesh3d": [
           {
            "colorbar": {
             "outlinewidth": 0,
             "ticks": ""
            },
            "type": "mesh3d"
           }
          ],
          "parcoords": [
           {
            "line": {
             "colorbar": {
              "outlinewidth": 0,
              "ticks": ""
             }
            },
            "type": "parcoords"
           }
          ],
          "pie": [
           {
            "automargin": true,
            "type": "pie"
           }
          ],
          "scatter": [
           {
            "fillpattern": {
             "fillmode": "overlay",
             "size": 10,
             "solidity": 0.2
            },
            "type": "scatter"
           }
          ],
          "scatter3d": [
           {
            "line": {
             "colorbar": {
              "outlinewidth": 0,
              "ticks": ""
             }
            },
            "marker": {
             "colorbar": {
              "outlinewidth": 0,
              "ticks": ""
             }
            },
            "type": "scatter3d"
           }
          ],
          "scattercarpet": [
           {
            "marker": {
             "colorbar": {
              "outlinewidth": 0,
              "ticks": ""
             }
            },
            "type": "scattercarpet"
           }
          ],
          "scattergeo": [
           {
            "marker": {
             "colorbar": {
              "outlinewidth": 0,
              "ticks": ""
             }
            },
            "type": "scattergeo"
           }
          ],
          "scattergl": [
           {
            "marker": {
             "colorbar": {
              "outlinewidth": 0,
              "ticks": ""
             }
            },
            "type": "scattergl"
           }
          ],
          "scattermapbox": [
           {
            "marker": {
             "colorbar": {
              "outlinewidth": 0,
              "ticks": ""
             }
            },
            "type": "scattermapbox"
           }
          ],
          "scatterpolar": [
           {
            "marker": {
             "colorbar": {
              "outlinewidth": 0,
              "ticks": ""
             }
            },
            "type": "scatterpolar"
           }
          ],
          "scatterpolargl": [
           {
            "marker": {
             "colorbar": {
              "outlinewidth": 0,
              "ticks": ""
             }
            },
            "type": "scatterpolargl"
           }
          ],
          "scatterternary": [
           {
            "marker": {
             "colorbar": {
              "outlinewidth": 0,
              "ticks": ""
             }
            },
            "type": "scatterternary"
           }
          ],
          "surface": [
           {
            "colorbar": {
             "outlinewidth": 0,
             "ticks": ""
            },
            "colorscale": [
             [
              0,
              "#0d0887"
             ],
             [
              0.1111111111111111,
              "#46039f"
             ],
             [
              0.2222222222222222,
              "#7201a8"
             ],
             [
              0.3333333333333333,
              "#9c179e"
             ],
             [
              0.4444444444444444,
              "#bd3786"
             ],
             [
              0.5555555555555556,
              "#d8576b"
             ],
             [
              0.6666666666666666,
              "#ed7953"
             ],
             [
              0.7777777777777778,
              "#fb9f3a"
             ],
             [
              0.8888888888888888,
              "#fdca26"
             ],
             [
              1,
              "#f0f921"
             ]
            ],
            "type": "surface"
           }
          ],
          "table": [
           {
            "cells": {
             "fill": {
              "color": "#EBF0F8"
             },
             "line": {
              "color": "white"
             }
            },
            "header": {
             "fill": {
              "color": "#C8D4E3"
             },
             "line": {
              "color": "white"
             }
            },
            "type": "table"
           }
          ]
         },
         "layout": {
          "annotationdefaults": {
           "arrowcolor": "#2a3f5f",
           "arrowhead": 0,
           "arrowwidth": 1
          },
          "autotypenumbers": "strict",
          "coloraxis": {
           "colorbar": {
            "outlinewidth": 0,
            "ticks": ""
           }
          },
          "colorscale": {
           "diverging": [
            [
             0,
             "#8e0152"
            ],
            [
             0.1,
             "#c51b7d"
            ],
            [
             0.2,
             "#de77ae"
            ],
            [
             0.3,
             "#f1b6da"
            ],
            [
             0.4,
             "#fde0ef"
            ],
            [
             0.5,
             "#f7f7f7"
            ],
            [
             0.6,
             "#e6f5d0"
            ],
            [
             0.7,
             "#b8e186"
            ],
            [
             0.8,
             "#7fbc41"
            ],
            [
             0.9,
             "#4d9221"
            ],
            [
             1,
             "#276419"
            ]
           ],
           "sequential": [
            [
             0,
             "#0d0887"
            ],
            [
             0.1111111111111111,
             "#46039f"
            ],
            [
             0.2222222222222222,
             "#7201a8"
            ],
            [
             0.3333333333333333,
             "#9c179e"
            ],
            [
             0.4444444444444444,
             "#bd3786"
            ],
            [
             0.5555555555555556,
             "#d8576b"
            ],
            [
             0.6666666666666666,
             "#ed7953"
            ],
            [
             0.7777777777777778,
             "#fb9f3a"
            ],
            [
             0.8888888888888888,
             "#fdca26"
            ],
            [
             1,
             "#f0f921"
            ]
           ],
           "sequentialminus": [
            [
             0,
             "#0d0887"
            ],
            [
             0.1111111111111111,
             "#46039f"
            ],
            [
             0.2222222222222222,
             "#7201a8"
            ],
            [
             0.3333333333333333,
             "#9c179e"
            ],
            [
             0.4444444444444444,
             "#bd3786"
            ],
            [
             0.5555555555555556,
             "#d8576b"
            ],
            [
             0.6666666666666666,
             "#ed7953"
            ],
            [
             0.7777777777777778,
             "#fb9f3a"
            ],
            [
             0.8888888888888888,
             "#fdca26"
            ],
            [
             1,
             "#f0f921"
            ]
           ]
          },
          "colorway": [
           "#636efa",
           "#EF553B",
           "#00cc96",
           "#ab63fa",
           "#FFA15A",
           "#19d3f3",
           "#FF6692",
           "#B6E880",
           "#FF97FF",
           "#FECB52"
          ],
          "font": {
           "color": "#2a3f5f"
          },
          "geo": {
           "bgcolor": "white",
           "lakecolor": "white",
           "landcolor": "#E5ECF6",
           "showlakes": true,
           "showland": true,
           "subunitcolor": "white"
          },
          "hoverlabel": {
           "align": "left"
          },
          "hovermode": "closest",
          "mapbox": {
           "style": "light"
          },
          "paper_bgcolor": "white",
          "plot_bgcolor": "#E5ECF6",
          "polar": {
           "angularaxis": {
            "gridcolor": "white",
            "linecolor": "white",
            "ticks": ""
           },
           "bgcolor": "#E5ECF6",
           "radialaxis": {
            "gridcolor": "white",
            "linecolor": "white",
            "ticks": ""
           }
          },
          "scene": {
           "xaxis": {
            "backgroundcolor": "#E5ECF6",
            "gridcolor": "white",
            "gridwidth": 2,
            "linecolor": "white",
            "showbackground": true,
            "ticks": "",
            "zerolinecolor": "white"
           },
           "yaxis": {
            "backgroundcolor": "#E5ECF6",
            "gridcolor": "white",
            "gridwidth": 2,
            "linecolor": "white",
            "showbackground": true,
            "ticks": "",
            "zerolinecolor": "white"
           },
           "zaxis": {
            "backgroundcolor": "#E5ECF6",
            "gridcolor": "white",
            "gridwidth": 2,
            "linecolor": "white",
            "showbackground": true,
            "ticks": "",
            "zerolinecolor": "white"
           }
          },
          "shapedefaults": {
           "line": {
            "color": "#2a3f5f"
           }
          },
          "ternary": {
           "aaxis": {
            "gridcolor": "white",
            "linecolor": "white",
            "ticks": ""
           },
           "baxis": {
            "gridcolor": "white",
            "linecolor": "white",
            "ticks": ""
           },
           "bgcolor": "#E5ECF6",
           "caxis": {
            "gridcolor": "white",
            "linecolor": "white",
            "ticks": ""
           }
          },
          "title": {
           "x": 0.05
          },
          "xaxis": {
           "automargin": true,
           "gridcolor": "white",
           "linecolor": "white",
           "ticks": "",
           "title": {
            "standoff": 15
           },
           "zerolinecolor": "white",
           "zerolinewidth": 2
          },
          "yaxis": {
           "automargin": true,
           "gridcolor": "white",
           "linecolor": "white",
           "ticks": "",
           "title": {
            "standoff": 15
           },
           "zerolinecolor": "white",
           "zerolinewidth": 2
          }
         }
        },
        "title": {
         "text": "F90-F98 - Transtornos do comportamento e transtornos emocionais que aparecem habitualmente durante a infância ou a adolescência"
        },
        "xaxis": {
         "title": {
          "text": "Time"
         }
        },
        "yaxis": {
         "title": {
          "text": "Value"
         }
        }
       }
      }
     },
     "metadata": {},
     "output_type": "display_data"
    },
    {
     "data": {
      "application/vnd.plotly.v1+json": {
       "config": {
        "plotlyServerURL": "https://plot.ly"
       },
       "data": [
        {
         "marker": {
          "color": "black"
         },
         "mode": "markers",
         "name": "Real",
         "type": "scatter",
         "x": [
          "2016-01-01T00:00:00.000000000",
          "2016-02-01T00:00:00.000000000",
          "2016-03-01T00:00:00.000000000",
          "2016-04-01T00:00:00.000000000",
          "2016-05-01T00:00:00.000000000",
          "2016-06-01T00:00:00.000000000",
          "2016-07-01T00:00:00.000000000",
          "2016-08-01T00:00:00.000000000",
          "2016-09-01T00:00:00.000000000",
          "2016-10-01T00:00:00.000000000",
          "2016-11-01T00:00:00.000000000",
          "2016-12-01T00:00:00.000000000",
          "2017-01-01T00:00:00.000000000",
          "2017-02-01T00:00:00.000000000",
          "2017-03-01T00:00:00.000000000",
          "2017-04-01T00:00:00.000000000",
          "2017-05-01T00:00:00.000000000",
          "2017-06-01T00:00:00.000000000",
          "2017-07-01T00:00:00.000000000",
          "2017-08-01T00:00:00.000000000",
          "2017-09-01T00:00:00.000000000",
          "2017-10-01T00:00:00.000000000",
          "2017-11-01T00:00:00.000000000",
          "2017-12-01T00:00:00.000000000",
          "2018-01-01T00:00:00.000000000",
          "2018-02-01T00:00:00.000000000",
          "2018-03-01T00:00:00.000000000",
          "2018-04-01T00:00:00.000000000",
          "2018-05-01T00:00:00.000000000",
          "2018-06-01T00:00:00.000000000",
          "2018-07-01T00:00:00.000000000",
          "2018-08-01T00:00:00.000000000",
          "2018-09-01T00:00:00.000000000",
          "2018-10-01T00:00:00.000000000",
          "2018-11-01T00:00:00.000000000",
          "2018-12-01T00:00:00.000000000",
          "2019-01-01T00:00:00.000000000",
          "2019-02-01T00:00:00.000000000",
          "2019-03-01T00:00:00.000000000",
          "2019-04-01T00:00:00.000000000",
          "2019-05-01T00:00:00.000000000",
          "2019-06-01T00:00:00.000000000",
          "2019-07-01T00:00:00.000000000",
          "2019-08-01T00:00:00.000000000",
          "2019-09-01T00:00:00.000000000",
          "2019-10-01T00:00:00.000000000",
          "2019-11-01T00:00:00.000000000",
          "2019-12-01T00:00:00.000000000",
          "2020-01-01T00:00:00.000000000",
          "2020-02-01T00:00:00.000000000",
          "2020-03-01T00:00:00.000000000",
          "2020-04-01T00:00:00.000000000",
          "2020-05-01T00:00:00.000000000",
          "2020-06-01T00:00:00.000000000",
          "2020-07-01T00:00:00.000000000",
          "2020-08-01T00:00:00.000000000",
          "2020-09-01T00:00:00.000000000",
          "2020-10-01T00:00:00.000000000",
          "2020-11-01T00:00:00.000000000",
          "2020-12-01T00:00:00.000000000",
          "2021-01-01T00:00:00.000000000",
          "2021-02-01T00:00:00.000000000",
          "2021-03-01T00:00:00.000000000",
          "2021-04-01T00:00:00.000000000",
          "2021-05-01T00:00:00.000000000",
          "2021-06-01T00:00:00.000000000",
          "2021-07-01T00:00:00.000000000",
          "2021-08-01T00:00:00.000000000",
          "2021-09-01T00:00:00.000000000",
          "2021-10-01T00:00:00.000000000",
          "2021-11-01T00:00:00.000000000",
          "2021-12-01T00:00:00.000000000",
          "2022-01-01T00:00:00.000000000",
          "2022-02-01T00:00:00.000000000",
          "2022-03-01T00:00:00.000000000",
          "2022-04-01T00:00:00.000000000",
          "2022-05-01T00:00:00.000000000",
          "2022-06-01T00:00:00.000000000",
          "2022-07-01T00:00:00.000000000",
          "2022-08-01T00:00:00.000000000",
          "2022-09-01T00:00:00.000000000",
          "2022-10-01T00:00:00.000000000",
          "2022-11-01T00:00:00.000000000",
          "2022-12-01T00:00:00.000000000",
          "2023-01-01T00:00:00.000000000",
          "2023-02-01T00:00:00.000000000",
          "2023-03-01T00:00:00.000000000",
          "2023-04-01T00:00:00.000000000",
          "2023-05-01T00:00:00.000000000",
          "2023-06-01T00:00:00.000000000",
          "2023-07-01T00:00:00.000000000",
          "2023-08-01T00:00:00.000000000",
          "2023-09-01T00:00:00.000000000",
          "2023-10-01T00:00:00.000000000",
          "2023-11-01T00:00:00.000000000",
          "2023-12-01T00:00:00.000000000",
          "2024-01-01T00:00:00.000000000",
          "2024-02-01T00:00:00.000000000",
          "2024-03-01T00:00:00.000000000",
          "2024-04-01T00:00:00.000000000",
          "2024-05-01T00:00:00.000000000",
          "2024-06-01T00:00:00.000000000",
          "2024-07-01T00:00:00.000000000",
          "2024-08-01T00:00:00.000000000",
          "2024-09-01T00:00:00.000000000",
          "2024-10-01T00:00:00.000000000",
          "2024-11-01T00:00:00.000000000",
          "2024-12-01T00:00:00.000000000"
         ],
         "y": [
          58,
          64,
          80,
          86,
          115,
          148,
          146,
          197,
          172,
          189,
          118,
          106,
          101,
          94,
          159,
          138,
          169,
          169,
          158,
          171,
          184,
          153,
          187,
          173,
          158,
          128,
          204,
          245,
          235,
          162,
          210,
          240,
          208,
          253,
          263,
          179,
          170,
          158,
          225,
          259,
          322,
          264,
          305,
          276,
          224,
          223,
          204,
          171,
          184,
          127,
          135,
          56,
          96,
          91,
          105,
          113,
          160,
          205,
          198,
          170,
          218,
          245,
          170,
          162,
          72,
          293,
          378,
          366,
          381,
          397,
          385,
          389,
          200,
          314,
          475,
          344,
          401,
          459,
          406,
          508,
          497,
          481,
          453,
          446,
          509,
          400,
          609,
          566,
          882,
          719,
          750,
          914,
          683,
          946,
          880,
          822,
          855,
          801,
          955,
          1162,
          590,
          871,
          1105,
          1124,
          967,
          1308,
          1093,
          965
         ]
        },
        {
         "line": {
          "color": "black",
          "dash": "dot"
         },
         "mode": "lines",
         "name": "Baseline",
         "type": "scatter",
         "x": [
          "2016-01-01T00:00:00.000000000",
          "2016-02-01T00:00:00.000000000",
          "2016-03-01T00:00:00.000000000",
          "2016-04-01T00:00:00.000000000",
          "2016-05-01T00:00:00.000000000",
          "2016-06-01T00:00:00.000000000",
          "2016-07-01T00:00:00.000000000",
          "2016-08-01T00:00:00.000000000",
          "2016-09-01T00:00:00.000000000",
          "2016-10-01T00:00:00.000000000",
          "2016-11-01T00:00:00.000000000",
          "2016-12-01T00:00:00.000000000",
          "2017-01-01T00:00:00.000000000",
          "2017-02-01T00:00:00.000000000",
          "2017-03-01T00:00:00.000000000",
          "2017-04-01T00:00:00.000000000",
          "2017-05-01T00:00:00.000000000",
          "2017-06-01T00:00:00.000000000",
          "2017-07-01T00:00:00.000000000",
          "2017-08-01T00:00:00.000000000",
          "2017-09-01T00:00:00.000000000",
          "2017-10-01T00:00:00.000000000",
          "2017-11-01T00:00:00.000000000",
          "2017-12-01T00:00:00.000000000",
          "2018-01-01T00:00:00.000000000",
          "2018-02-01T00:00:00.000000000",
          "2018-03-01T00:00:00.000000000",
          "2018-04-01T00:00:00.000000000",
          "2018-05-01T00:00:00.000000000",
          "2018-06-01T00:00:00.000000000",
          "2018-07-01T00:00:00.000000000",
          "2018-08-01T00:00:00.000000000",
          "2018-09-01T00:00:00.000000000",
          "2018-10-01T00:00:00.000000000",
          "2018-11-01T00:00:00.000000000",
          "2018-12-01T00:00:00.000000000",
          "2019-01-01T00:00:00.000000000",
          "2019-02-01T00:00:00.000000000",
          "2019-03-01T00:00:00.000000000",
          "2019-04-01T00:00:00.000000000",
          "2019-05-01T00:00:00.000000000",
          "2019-06-01T00:00:00.000000000",
          "2019-07-01T00:00:00.000000000",
          "2019-08-01T00:00:00.000000000",
          "2019-09-01T00:00:00.000000000",
          "2019-10-01T00:00:00.000000000",
          "2019-11-01T00:00:00.000000000",
          "2019-12-01T00:00:00.000000000",
          "2020-01-01T00:00:00.000000000",
          "2020-02-01T00:00:00.000000000",
          "2020-03-01T00:00:00.000000000",
          "2020-04-01T00:00:00.000000000",
          "2020-05-01T00:00:00.000000000",
          "2020-06-01T00:00:00.000000000",
          "2020-07-01T00:00:00.000000000",
          "2020-08-01T00:00:00.000000000",
          "2020-09-01T00:00:00.000000000",
          "2020-10-01T00:00:00.000000000",
          "2020-11-01T00:00:00.000000000",
          "2020-12-01T00:00:00.000000000",
          "2021-01-01T00:00:00.000000000",
          "2021-02-01T00:00:00.000000000",
          "2021-03-01T00:00:00.000000000",
          "2021-04-01T00:00:00.000000000",
          "2021-05-01T00:00:00.000000000",
          "2021-06-01T00:00:00.000000000",
          "2021-07-01T00:00:00.000000000",
          "2021-08-01T00:00:00.000000000",
          "2021-09-01T00:00:00.000000000",
          "2021-10-01T00:00:00.000000000",
          "2021-11-01T00:00:00.000000000",
          "2021-12-01T00:00:00.000000000",
          "2022-01-01T00:00:00.000000000",
          "2022-02-01T00:00:00.000000000",
          "2022-03-01T00:00:00.000000000",
          "2022-04-01T00:00:00.000000000",
          "2022-05-01T00:00:00.000000000",
          "2022-06-01T00:00:00.000000000",
          "2022-07-01T00:00:00.000000000",
          "2022-08-01T00:00:00.000000000",
          "2022-09-01T00:00:00.000000000",
          "2022-10-01T00:00:00.000000000",
          "2022-11-01T00:00:00.000000000",
          "2022-12-01T00:00:00.000000000",
          "2023-01-01T00:00:00.000000000",
          "2023-02-01T00:00:00.000000000",
          "2023-03-01T00:00:00.000000000",
          "2023-04-01T00:00:00.000000000",
          "2023-05-01T00:00:00.000000000",
          "2023-06-01T00:00:00.000000000",
          "2023-07-01T00:00:00.000000000",
          "2023-08-01T00:00:00.000000000",
          "2023-09-01T00:00:00.000000000",
          "2023-10-01T00:00:00.000000000",
          "2023-11-01T00:00:00.000000000",
          "2023-12-01T00:00:00.000000000",
          "2024-01-01T00:00:00.000000000",
          "2024-02-01T00:00:00.000000000",
          "2024-03-01T00:00:00.000000000",
          "2024-04-01T00:00:00.000000000",
          "2024-05-01T00:00:00.000000000",
          "2024-06-01T00:00:00.000000000",
          "2024-07-01T00:00:00.000000000",
          "2024-08-01T00:00:00.000000000",
          "2024-09-01T00:00:00.000000000",
          "2024-10-01T00:00:00.000000000",
          "2024-11-01T00:00:00.000000000",
          "2024-12-01T00:00:00.000000000"
         ],
         "y": [
          82.746644872815,
          85.62560233739357,
          88.50455980197216,
          91.38351726655075,
          94.26247473112933,
          97.14143219570792,
          100.0203896602865,
          102.89934712486509,
          105.77830458944368,
          108.65726205402225,
          111.53621951860084,
          114.41517698317944,
          117.29413444775801,
          120.1730919123366,
          123.05204937691519,
          125.93100684149377,
          128.80996430607235,
          131.68892177065095,
          134.56787923522953,
          137.4468366998081,
          140.3257941643867,
          143.20475162896528,
          146.08370909354386,
          148.96266655812246,
          151.84162402270104,
          154.72058148727962,
          157.59953895185822,
          160.4784964164368,
          163.35745388101537,
          166.23641134559398,
          169.11536881017255,
          171.99432627475113,
          174.87328373932974,
          177.7522412039083,
          180.6311986684869,
          183.5101561330655,
          186.38911359764407,
          189.26807106222265,
          192.14702852680125,
          195.02598599137983,
          197.9049434559584,
          200.783900920537,
          203.66285838511558,
          206.54181584969416,
          209.42077331427276,
          212.29973077885134,
          215.17868824342992,
          218.05764570800852,
          220.9366031725871,
          223.81556063716567,
          226.69451810174428,
          229.57347556632286,
          232.45243303090143,
          235.33139049548004,
          238.2103479600586,
          241.0893054246372,
          243.9682628892158,
          246.84722035379437,
          249.72617781837295,
          252.60513528295155,
          255.48409274753013,
          258.3630502121087,
          261.2420076766873,
          264.12096514126586,
          266.99992260584446,
          269.87888007042307,
          272.7578375350016,
          275.6367949995802,
          278.5157524641588,
          281.39470992873737,
          284.273667393316,
          287.1526248578946,
          290.0315823224731,
          292.91053978705173,
          295.78949725163034,
          298.6684547162089,
          301.5474121807875,
          304.4263696453661,
          307.30532710994464,
          310.18428457452325,
          313.06324203910185,
          315.9421995036804,
          318.821156968259,
          321.7001144328376,
          324.57907189741616,
          327.45802936199476,
          330.33698682657337,
          333.2159442911519,
          336.0949017557305,
          338.9738592203091,
          341.85281668488767,
          344.7317741494663,
          347.6107316140449,
          350.4896890786234,
          353.36864654320203,
          356.24760400778064,
          359.1265614723592,
          362.0055189369378,
          364.8844764015164,
          367.76343386609494,
          370.64239133067355,
          373.52134879525215,
          376.4003062598307,
          379.2792637244093,
          382.1582211889879,
          385.03717865356646,
          387.91613611814506,
          390.79509358272367
         ]
        },
        {
         "line": {
          "color": "purple"
         },
         "mode": "lines",
         "name": "Full model",
         "type": "scatter",
         "x": [
          "2016-01-01T00:00:00.000000000",
          "2016-02-01T00:00:00.000000000",
          "2016-03-01T00:00:00.000000000",
          "2016-04-01T00:00:00.000000000",
          "2016-05-01T00:00:00.000000000",
          "2016-06-01T00:00:00.000000000",
          "2016-07-01T00:00:00.000000000",
          "2016-08-01T00:00:00.000000000",
          "2016-09-01T00:00:00.000000000",
          "2016-10-01T00:00:00.000000000",
          "2016-11-01T00:00:00.000000000",
          "2016-12-01T00:00:00.000000000",
          "2017-01-01T00:00:00.000000000",
          "2017-02-01T00:00:00.000000000",
          "2017-03-01T00:00:00.000000000",
          "2017-04-01T00:00:00.000000000",
          "2017-05-01T00:00:00.000000000",
          "2017-06-01T00:00:00.000000000",
          "2017-07-01T00:00:00.000000000",
          "2017-08-01T00:00:00.000000000",
          "2017-09-01T00:00:00.000000000",
          "2017-10-01T00:00:00.000000000",
          "2017-11-01T00:00:00.000000000",
          "2017-12-01T00:00:00.000000000",
          "2018-01-01T00:00:00.000000000",
          "2018-02-01T00:00:00.000000000",
          "2018-03-01T00:00:00.000000000",
          "2018-04-01T00:00:00.000000000",
          "2018-05-01T00:00:00.000000000",
          "2018-06-01T00:00:00.000000000",
          "2018-07-01T00:00:00.000000000",
          "2018-08-01T00:00:00.000000000",
          "2018-09-01T00:00:00.000000000",
          "2018-10-01T00:00:00.000000000",
          "2018-11-01T00:00:00.000000000",
          "2018-12-01T00:00:00.000000000",
          "2019-01-01T00:00:00.000000000",
          "2019-02-01T00:00:00.000000000",
          "2019-03-01T00:00:00.000000000",
          "2019-04-01T00:00:00.000000000",
          "2019-05-01T00:00:00.000000000",
          "2019-06-01T00:00:00.000000000",
          "2019-07-01T00:00:00.000000000",
          "2019-08-01T00:00:00.000000000",
          "2019-09-01T00:00:00.000000000",
          "2019-10-01T00:00:00.000000000",
          "2019-11-01T00:00:00.000000000",
          "2019-12-01T00:00:00.000000000",
          "2020-01-01T00:00:00.000000000",
          "2020-02-01T00:00:00.000000000",
          "2020-03-01T00:00:00.000000000",
          "2020-04-01T00:00:00.000000000",
          "2020-05-01T00:00:00.000000000",
          "2020-06-01T00:00:00.000000000",
          "2020-07-01T00:00:00.000000000",
          "2020-08-01T00:00:00.000000000",
          "2020-09-01T00:00:00.000000000",
          "2020-10-01T00:00:00.000000000",
          "2020-11-01T00:00:00.000000000",
          "2020-12-01T00:00:00.000000000",
          "2021-01-01T00:00:00.000000000",
          "2021-02-01T00:00:00.000000000",
          "2021-03-01T00:00:00.000000000",
          "2021-04-01T00:00:00.000000000",
          "2021-05-01T00:00:00.000000000",
          "2021-06-01T00:00:00.000000000",
          "2021-07-01T00:00:00.000000000",
          "2021-08-01T00:00:00.000000000",
          "2021-09-01T00:00:00.000000000",
          "2021-10-01T00:00:00.000000000",
          "2021-11-01T00:00:00.000000000",
          "2021-12-01T00:00:00.000000000",
          "2022-01-01T00:00:00.000000000",
          "2022-02-01T00:00:00.000000000",
          "2022-03-01T00:00:00.000000000",
          "2022-04-01T00:00:00.000000000",
          "2022-05-01T00:00:00.000000000",
          "2022-06-01T00:00:00.000000000",
          "2022-07-01T00:00:00.000000000",
          "2022-08-01T00:00:00.000000000",
          "2022-09-01T00:00:00.000000000",
          "2022-10-01T00:00:00.000000000",
          "2022-11-01T00:00:00.000000000",
          "2022-12-01T00:00:00.000000000",
          "2023-01-01T00:00:00.000000000",
          "2023-02-01T00:00:00.000000000",
          "2023-03-01T00:00:00.000000000",
          "2023-04-01T00:00:00.000000000",
          "2023-05-01T00:00:00.000000000",
          "2023-06-01T00:00:00.000000000",
          "2023-07-01T00:00:00.000000000",
          "2023-08-01T00:00:00.000000000",
          "2023-09-01T00:00:00.000000000",
          "2023-10-01T00:00:00.000000000",
          "2023-11-01T00:00:00.000000000",
          "2023-12-01T00:00:00.000000000",
          "2024-01-01T00:00:00.000000000",
          "2024-02-01T00:00:00.000000000",
          "2024-03-01T00:00:00.000000000",
          "2024-04-01T00:00:00.000000000",
          "2024-05-01T00:00:00.000000000",
          "2024-06-01T00:00:00.000000000",
          "2024-07-01T00:00:00.000000000",
          "2024-08-01T00:00:00.000000000",
          "2024-09-01T00:00:00.000000000",
          "2024-10-01T00:00:00.000000000",
          "2024-11-01T00:00:00.000000000",
          "2024-12-01T00:00:00.000000000"
         ],
         "y": [
          82.746644872815,
          85.62560233739357,
          88.50455980197216,
          91.38351726655075,
          94.26247473112933,
          97.14143219570792,
          100.0203896602865,
          102.89934712486509,
          105.77830458944368,
          108.65726205402225,
          111.53621951860084,
          114.41517698317944,
          117.29413444775801,
          120.1730919123366,
          123.05204937691519,
          125.93100684149377,
          128.80996430607235,
          131.68892177065095,
          134.56787923522953,
          137.4468366998081,
          140.3257941643867,
          143.20475162896528,
          146.08370909354386,
          148.96266655812246,
          151.84162402270104,
          154.72058148727962,
          157.59953895185822,
          160.4784964164368,
          163.35745388101537,
          166.23641134559398,
          169.11536881017255,
          171.99432627475113,
          174.87328373932974,
          177.7522412039083,
          180.6311986684869,
          183.5101561330655,
          186.38911359764407,
          189.26807106222265,
          192.14702852680125,
          195.02598599137983,
          197.9049434559584,
          200.783900920537,
          203.66285838511558,
          206.54181584969416,
          209.42077331427276,
          212.29973077885134,
          215.17868824342992,
          218.05764570800852,
          -37.0633968274129,
          -19.184439362834325,
          55.69451810174428,
          58.573475566322855,
          61.45243303090143,
          64.33139049548004,
          67.21034796005861,
          87.08930542463719,
          103.9682628892158,
          121.84722035379437,
          139.72617781837295,
          157.60513528295155,
          174.48409274753013,
          192.3630502121087,
          210.2420076766873,
          96.12096514126586,
          98.99992260584446,
          262.87888007042307,
          280.7578375350016,
          298.6367949995802,
          316.5157524641588,
          333.39470992873737,
          351.273667393316,
          369.1526248578946,
          387.0315823224731,
          403.91053978705173,
          421.78949725163034,
          439.6684547162089,
          457.5474121807875,
          474.4263696453661,
          492.30532710994464,
          510.18428457452325,
          528.0632420391019,
          544.9421995036804,
          562.821156968259,
          580.7001144328376,
          598.5790718974162,
          616.4580293619947,
          633.3369868265734,
          651.2159442911519,
          669.0949017557305,
          686.9738592203091,
          703.8528166848877,
          721.7317741494662,
          739.6107316140449,
          757.4896890786234,
          774.368646543202,
          792.2476040077806,
          810.1265614723592,
          828.0055189369377,
          844.8844764015164,
          862.7634338660949,
          880.6423913306735,
          898.5213487952522,
          916.4003062598307,
          933.2792637244092,
          951.1582211889879,
          969.0371786535665,
          986.916136118145,
          1003.7950935827237
         ]
        }
       ],
       "layout": {
        "legend": {
         "title": {
          "text": "Legend"
         }
        },
        "template": {
         "data": {
          "bar": [
           {
            "error_x": {
             "color": "#2a3f5f"
            },
            "error_y": {
             "color": "#2a3f5f"
            },
            "marker": {
             "line": {
              "color": "#E5ECF6",
              "width": 0.5
             },
             "pattern": {
              "fillmode": "overlay",
              "size": 10,
              "solidity": 0.2
             }
            },
            "type": "bar"
           }
          ],
          "barpolar": [
           {
            "marker": {
             "line": {
              "color": "#E5ECF6",
              "width": 0.5
             },
             "pattern": {
              "fillmode": "overlay",
              "size": 10,
              "solidity": 0.2
             }
            },
            "type": "barpolar"
           }
          ],
          "carpet": [
           {
            "aaxis": {
             "endlinecolor": "#2a3f5f",
             "gridcolor": "white",
             "linecolor": "white",
             "minorgridcolor": "white",
             "startlinecolor": "#2a3f5f"
            },
            "baxis": {
             "endlinecolor": "#2a3f5f",
             "gridcolor": "white",
             "linecolor": "white",
             "minorgridcolor": "white",
             "startlinecolor": "#2a3f5f"
            },
            "type": "carpet"
           }
          ],
          "choropleth": [
           {
            "colorbar": {
             "outlinewidth": 0,
             "ticks": ""
            },
            "type": "choropleth"
           }
          ],
          "contour": [
           {
            "colorbar": {
             "outlinewidth": 0,
             "ticks": ""
            },
            "colorscale": [
             [
              0,
              "#0d0887"
             ],
             [
              0.1111111111111111,
              "#46039f"
             ],
             [
              0.2222222222222222,
              "#7201a8"
             ],
             [
              0.3333333333333333,
              "#9c179e"
             ],
             [
              0.4444444444444444,
              "#bd3786"
             ],
             [
              0.5555555555555556,
              "#d8576b"
             ],
             [
              0.6666666666666666,
              "#ed7953"
             ],
             [
              0.7777777777777778,
              "#fb9f3a"
             ],
             [
              0.8888888888888888,
              "#fdca26"
             ],
             [
              1,
              "#f0f921"
             ]
            ],
            "type": "contour"
           }
          ],
          "contourcarpet": [
           {
            "colorbar": {
             "outlinewidth": 0,
             "ticks": ""
            },
            "type": "contourcarpet"
           }
          ],
          "heatmap": [
           {
            "colorbar": {
             "outlinewidth": 0,
             "ticks": ""
            },
            "colorscale": [
             [
              0,
              "#0d0887"
             ],
             [
              0.1111111111111111,
              "#46039f"
             ],
             [
              0.2222222222222222,
              "#7201a8"
             ],
             [
              0.3333333333333333,
              "#9c179e"
             ],
             [
              0.4444444444444444,
              "#bd3786"
             ],
             [
              0.5555555555555556,
              "#d8576b"
             ],
             [
              0.6666666666666666,
              "#ed7953"
             ],
             [
              0.7777777777777778,
              "#fb9f3a"
             ],
             [
              0.8888888888888888,
              "#fdca26"
             ],
             [
              1,
              "#f0f921"
             ]
            ],
            "type": "heatmap"
           }
          ],
          "heatmapgl": [
           {
            "colorbar": {
             "outlinewidth": 0,
             "ticks": ""
            },
            "colorscale": [
             [
              0,
              "#0d0887"
             ],
             [
              0.1111111111111111,
              "#46039f"
             ],
             [
              0.2222222222222222,
              "#7201a8"
             ],
             [
              0.3333333333333333,
              "#9c179e"
             ],
             [
              0.4444444444444444,
              "#bd3786"
             ],
             [
              0.5555555555555556,
              "#d8576b"
             ],
             [
              0.6666666666666666,
              "#ed7953"
             ],
             [
              0.7777777777777778,
              "#fb9f3a"
             ],
             [
              0.8888888888888888,
              "#fdca26"
             ],
             [
              1,
              "#f0f921"
             ]
            ],
            "type": "heatmapgl"
           }
          ],
          "histogram": [
           {
            "marker": {
             "pattern": {
              "fillmode": "overlay",
              "size": 10,
              "solidity": 0.2
             }
            },
            "type": "histogram"
           }
          ],
          "histogram2d": [
           {
            "colorbar": {
             "outlinewidth": 0,
             "ticks": ""
            },
            "colorscale": [
             [
              0,
              "#0d0887"
             ],
             [
              0.1111111111111111,
              "#46039f"
             ],
             [
              0.2222222222222222,
              "#7201a8"
             ],
             [
              0.3333333333333333,
              "#9c179e"
             ],
             [
              0.4444444444444444,
              "#bd3786"
             ],
             [
              0.5555555555555556,
              "#d8576b"
             ],
             [
              0.6666666666666666,
              "#ed7953"
             ],
             [
              0.7777777777777778,
              "#fb9f3a"
             ],
             [
              0.8888888888888888,
              "#fdca26"
             ],
             [
              1,
              "#f0f921"
             ]
            ],
            "type": "histogram2d"
           }
          ],
          "histogram2dcontour": [
           {
            "colorbar": {
             "outlinewidth": 0,
             "ticks": ""
            },
            "colorscale": [
             [
              0,
              "#0d0887"
             ],
             [
              0.1111111111111111,
              "#46039f"
             ],
             [
              0.2222222222222222,
              "#7201a8"
             ],
             [
              0.3333333333333333,
              "#9c179e"
             ],
             [
              0.4444444444444444,
              "#bd3786"
             ],
             [
              0.5555555555555556,
              "#d8576b"
             ],
             [
              0.6666666666666666,
              "#ed7953"
             ],
             [
              0.7777777777777778,
              "#fb9f3a"
             ],
             [
              0.8888888888888888,
              "#fdca26"
             ],
             [
              1,
              "#f0f921"
             ]
            ],
            "type": "histogram2dcontour"
           }
          ],
          "mesh3d": [
           {
            "colorbar": {
             "outlinewidth": 0,
             "ticks": ""
            },
            "type": "mesh3d"
           }
          ],
          "parcoords": [
           {
            "line": {
             "colorbar": {
              "outlinewidth": 0,
              "ticks": ""
             }
            },
            "type": "parcoords"
           }
          ],
          "pie": [
           {
            "automargin": true,
            "type": "pie"
           }
          ],
          "scatter": [
           {
            "fillpattern": {
             "fillmode": "overlay",
             "size": 10,
             "solidity": 0.2
            },
            "type": "scatter"
           }
          ],
          "scatter3d": [
           {
            "line": {
             "colorbar": {
              "outlinewidth": 0,
              "ticks": ""
             }
            },
            "marker": {
             "colorbar": {
              "outlinewidth": 0,
              "ticks": ""
             }
            },
            "type": "scatter3d"
           }
          ],
          "scattercarpet": [
           {
            "marker": {
             "colorbar": {
              "outlinewidth": 0,
              "ticks": ""
             }
            },
            "type": "scattercarpet"
           }
          ],
          "scattergeo": [
           {
            "marker": {
             "colorbar": {
              "outlinewidth": 0,
              "ticks": ""
             }
            },
            "type": "scattergeo"
           }
          ],
          "scattergl": [
           {
            "marker": {
             "colorbar": {
              "outlinewidth": 0,
              "ticks": ""
             }
            },
            "type": "scattergl"
           }
          ],
          "scattermapbox": [
           {
            "marker": {
             "colorbar": {
              "outlinewidth": 0,
              "ticks": ""
             }
            },
            "type": "scattermapbox"
           }
          ],
          "scatterpolar": [
           {
            "marker": {
             "colorbar": {
              "outlinewidth": 0,
              "ticks": ""
             }
            },
            "type": "scatterpolar"
           }
          ],
          "scatterpolargl": [
           {
            "marker": {
             "colorbar": {
              "outlinewidth": 0,
              "ticks": ""
             }
            },
            "type": "scatterpolargl"
           }
          ],
          "scatterternary": [
           {
            "marker": {
             "colorbar": {
              "outlinewidth": 0,
              "ticks": ""
             }
            },
            "type": "scatterternary"
           }
          ],
          "surface": [
           {
            "colorbar": {
             "outlinewidth": 0,
             "ticks": ""
            },
            "colorscale": [
             [
              0,
              "#0d0887"
             ],
             [
              0.1111111111111111,
              "#46039f"
             ],
             [
              0.2222222222222222,
              "#7201a8"
             ],
             [
              0.3333333333333333,
              "#9c179e"
             ],
             [
              0.4444444444444444,
              "#bd3786"
             ],
             [
              0.5555555555555556,
              "#d8576b"
             ],
             [
              0.6666666666666666,
              "#ed7953"
             ],
             [
              0.7777777777777778,
              "#fb9f3a"
             ],
             [
              0.8888888888888888,
              "#fdca26"
             ],
             [
              1,
              "#f0f921"
             ]
            ],
            "type": "surface"
           }
          ],
          "table": [
           {
            "cells": {
             "fill": {
              "color": "#EBF0F8"
             },
             "line": {
              "color": "white"
             }
            },
            "header": {
             "fill": {
              "color": "#C8D4E3"
             },
             "line": {
              "color": "white"
             }
            },
            "type": "table"
           }
          ]
         },
         "layout": {
          "annotationdefaults": {
           "arrowcolor": "#2a3f5f",
           "arrowhead": 0,
           "arrowwidth": 1
          },
          "autotypenumbers": "strict",
          "coloraxis": {
           "colorbar": {
            "outlinewidth": 0,
            "ticks": ""
           }
          },
          "colorscale": {
           "diverging": [
            [
             0,
             "#8e0152"
            ],
            [
             0.1,
             "#c51b7d"
            ],
            [
             0.2,
             "#de77ae"
            ],
            [
             0.3,
             "#f1b6da"
            ],
            [
             0.4,
             "#fde0ef"
            ],
            [
             0.5,
             "#f7f7f7"
            ],
            [
             0.6,
             "#e6f5d0"
            ],
            [
             0.7,
             "#b8e186"
            ],
            [
             0.8,
             "#7fbc41"
            ],
            [
             0.9,
             "#4d9221"
            ],
            [
             1,
             "#276419"
            ]
           ],
           "sequential": [
            [
             0,
             "#0d0887"
            ],
            [
             0.1111111111111111,
             "#46039f"
            ],
            [
             0.2222222222222222,
             "#7201a8"
            ],
            [
             0.3333333333333333,
             "#9c179e"
            ],
            [
             0.4444444444444444,
             "#bd3786"
            ],
            [
             0.5555555555555556,
             "#d8576b"
            ],
            [
             0.6666666666666666,
             "#ed7953"
            ],
            [
             0.7777777777777778,
             "#fb9f3a"
            ],
            [
             0.8888888888888888,
             "#fdca26"
            ],
            [
             1,
             "#f0f921"
            ]
           ],
           "sequentialminus": [
            [
             0,
             "#0d0887"
            ],
            [
             0.1111111111111111,
             "#46039f"
            ],
            [
             0.2222222222222222,
             "#7201a8"
            ],
            [
             0.3333333333333333,
             "#9c179e"
            ],
            [
             0.4444444444444444,
             "#bd3786"
            ],
            [
             0.5555555555555556,
             "#d8576b"
            ],
            [
             0.6666666666666666,
             "#ed7953"
            ],
            [
             0.7777777777777778,
             "#fb9f3a"
            ],
            [
             0.8888888888888888,
             "#fdca26"
            ],
            [
             1,
             "#f0f921"
            ]
           ]
          },
          "colorway": [
           "#636efa",
           "#EF553B",
           "#00cc96",
           "#ab63fa",
           "#FFA15A",
           "#19d3f3",
           "#FF6692",
           "#B6E880",
           "#FF97FF",
           "#FECB52"
          ],
          "font": {
           "color": "#2a3f5f"
          },
          "geo": {
           "bgcolor": "white",
           "lakecolor": "white",
           "landcolor": "#E5ECF6",
           "showlakes": true,
           "showland": true,
           "subunitcolor": "white"
          },
          "hoverlabel": {
           "align": "left"
          },
          "hovermode": "closest",
          "mapbox": {
           "style": "light"
          },
          "paper_bgcolor": "white",
          "plot_bgcolor": "#E5ECF6",
          "polar": {
           "angularaxis": {
            "gridcolor": "white",
            "linecolor": "white",
            "ticks": ""
           },
           "bgcolor": "#E5ECF6",
           "radialaxis": {
            "gridcolor": "white",
            "linecolor": "white",
            "ticks": ""
           }
          },
          "scene": {
           "xaxis": {
            "backgroundcolor": "#E5ECF6",
            "gridcolor": "white",
            "gridwidth": 2,
            "linecolor": "white",
            "showbackground": true,
            "ticks": "",
            "zerolinecolor": "white"
           },
           "yaxis": {
            "backgroundcolor": "#E5ECF6",
            "gridcolor": "white",
            "gridwidth": 2,
            "linecolor": "white",
            "showbackground": true,
            "ticks": "",
            "zerolinecolor": "white"
           },
           "zaxis": {
            "backgroundcolor": "#E5ECF6",
            "gridcolor": "white",
            "gridwidth": 2,
            "linecolor": "white",
            "showbackground": true,
            "ticks": "",
            "zerolinecolor": "white"
           }
          },
          "shapedefaults": {
           "line": {
            "color": "#2a3f5f"
           }
          },
          "ternary": {
           "aaxis": {
            "gridcolor": "white",
            "linecolor": "white",
            "ticks": ""
           },
           "baxis": {
            "gridcolor": "white",
            "linecolor": "white",
            "ticks": ""
           },
           "bgcolor": "#E5ECF6",
           "caxis": {
            "gridcolor": "white",
            "linecolor": "white",
            "ticks": ""
           }
          },
          "title": {
           "x": 0.05
          },
          "xaxis": {
           "automargin": true,
           "gridcolor": "white",
           "linecolor": "white",
           "ticks": "",
           "title": {
            "standoff": 15
           },
           "zerolinecolor": "white",
           "zerolinewidth": 2
          },
          "yaxis": {
           "automargin": true,
           "gridcolor": "white",
           "linecolor": "white",
           "ticks": "",
           "title": {
            "standoff": 15
           },
           "zerolinecolor": "white",
           "zerolinewidth": 2
          }
         }
        },
        "title": {
         "text": "F80-F89 - Transtornos do desenvolvimento psicológico"
        },
        "xaxis": {
         "title": {
          "text": "Time"
         }
        },
        "yaxis": {
         "title": {
          "text": "Value"
         }
        }
       }
      }
     },
     "metadata": {},
     "output_type": "display_data"
    },
    {
     "data": {
      "application/vnd.plotly.v1+json": {
       "config": {
        "plotlyServerURL": "https://plot.ly"
       },
       "data": [
        {
         "marker": {
          "color": "black"
         },
         "mode": "markers",
         "name": "Real",
         "type": "scatter",
         "x": [
          "2016-01-01T00:00:00.000000000",
          "2016-02-01T00:00:00.000000000",
          "2016-03-01T00:00:00.000000000",
          "2016-04-01T00:00:00.000000000",
          "2016-05-01T00:00:00.000000000",
          "2016-06-01T00:00:00.000000000",
          "2016-07-01T00:00:00.000000000",
          "2016-08-01T00:00:00.000000000",
          "2016-09-01T00:00:00.000000000",
          "2016-10-01T00:00:00.000000000",
          "2016-11-01T00:00:00.000000000",
          "2016-12-01T00:00:00.000000000",
          "2017-01-01T00:00:00.000000000",
          "2017-02-01T00:00:00.000000000",
          "2017-03-01T00:00:00.000000000",
          "2017-04-01T00:00:00.000000000",
          "2017-05-01T00:00:00.000000000",
          "2017-06-01T00:00:00.000000000",
          "2017-07-01T00:00:00.000000000",
          "2017-08-01T00:00:00.000000000",
          "2017-09-01T00:00:00.000000000",
          "2017-10-01T00:00:00.000000000",
          "2017-11-01T00:00:00.000000000",
          "2017-12-01T00:00:00.000000000",
          "2018-01-01T00:00:00.000000000",
          "2018-02-01T00:00:00.000000000",
          "2018-03-01T00:00:00.000000000",
          "2018-04-01T00:00:00.000000000",
          "2018-05-01T00:00:00.000000000",
          "2018-06-01T00:00:00.000000000",
          "2018-07-01T00:00:00.000000000",
          "2018-08-01T00:00:00.000000000",
          "2018-09-01T00:00:00.000000000",
          "2018-10-01T00:00:00.000000000",
          "2018-11-01T00:00:00.000000000",
          "2018-12-01T00:00:00.000000000",
          "2019-01-01T00:00:00.000000000",
          "2019-02-01T00:00:00.000000000",
          "2019-03-01T00:00:00.000000000",
          "2019-04-01T00:00:00.000000000",
          "2019-05-01T00:00:00.000000000",
          "2019-06-01T00:00:00.000000000",
          "2019-07-01T00:00:00.000000000",
          "2019-08-01T00:00:00.000000000",
          "2019-09-01T00:00:00.000000000",
          "2019-10-01T00:00:00.000000000",
          "2019-11-01T00:00:00.000000000",
          "2019-12-01T00:00:00.000000000",
          "2020-01-01T00:00:00.000000000",
          "2020-02-01T00:00:00.000000000",
          "2020-03-01T00:00:00.000000000",
          "2020-04-01T00:00:00.000000000",
          "2020-05-01T00:00:00.000000000",
          "2020-06-01T00:00:00.000000000",
          "2020-07-01T00:00:00.000000000",
          "2020-08-01T00:00:00.000000000",
          "2020-09-01T00:00:00.000000000",
          "2020-10-01T00:00:00.000000000",
          "2020-11-01T00:00:00.000000000",
          "2020-12-01T00:00:00.000000000",
          "2021-01-01T00:00:00.000000000",
          "2021-02-01T00:00:00.000000000",
          "2021-03-01T00:00:00.000000000",
          "2021-04-01T00:00:00.000000000",
          "2021-05-01T00:00:00.000000000",
          "2021-06-01T00:00:00.000000000",
          "2021-07-01T00:00:00.000000000",
          "2021-08-01T00:00:00.000000000",
          "2021-09-01T00:00:00.000000000",
          "2021-10-01T00:00:00.000000000",
          "2021-11-01T00:00:00.000000000",
          "2021-12-01T00:00:00.000000000",
          "2022-01-01T00:00:00.000000000",
          "2022-02-01T00:00:00.000000000",
          "2022-03-01T00:00:00.000000000",
          "2022-04-01T00:00:00.000000000",
          "2022-05-01T00:00:00.000000000",
          "2022-06-01T00:00:00.000000000",
          "2022-07-01T00:00:00.000000000",
          "2022-08-01T00:00:00.000000000",
          "2022-09-01T00:00:00.000000000",
          "2022-10-01T00:00:00.000000000",
          "2022-11-01T00:00:00.000000000",
          "2022-12-01T00:00:00.000000000",
          "2023-01-01T00:00:00.000000000",
          "2023-02-01T00:00:00.000000000",
          "2023-03-01T00:00:00.000000000",
          "2023-04-01T00:00:00.000000000",
          "2023-05-01T00:00:00.000000000",
          "2023-06-01T00:00:00.000000000",
          "2023-07-01T00:00:00.000000000",
          "2023-08-01T00:00:00.000000000",
          "2023-09-01T00:00:00.000000000",
          "2023-10-01T00:00:00.000000000",
          "2023-11-01T00:00:00.000000000",
          "2023-12-01T00:00:00.000000000",
          "2024-01-01T00:00:00.000000000",
          "2024-02-01T00:00:00.000000000",
          "2024-03-01T00:00:00.000000000",
          "2024-04-01T00:00:00.000000000",
          "2024-05-01T00:00:00.000000000",
          "2024-06-01T00:00:00.000000000",
          "2024-07-01T00:00:00.000000000",
          "2024-08-01T00:00:00.000000000",
          "2024-09-01T00:00:00.000000000",
          "2024-10-01T00:00:00.000000000",
          "2024-11-01T00:00:00.000000000",
          "2024-12-01T00:00:00.000000000"
         ],
         "y": [
          129,
          172,
          184,
          195,
          228,
          237,
          256,
          290,
          242,
          239,
          185,
          219,
          166,
          160,
          246,
          189,
          214,
          193,
          203,
          205,
          199,
          202,
          227,
          175,
          207,
          164,
          210,
          248,
          247,
          208,
          197,
          227,
          198,
          241,
          206,
          171,
          208,
          189,
          200,
          218,
          265,
          203,
          250,
          230,
          158,
          196,
          158,
          152,
          151,
          132,
          114,
          59,
          79,
          77,
          84,
          123,
          112,
          142,
          109,
          93,
          133,
          116,
          105,
          74,
          49,
          200,
          149,
          173,
          145,
          171,
          173,
          169,
          95,
          157,
          201,
          136,
          145,
          163,
          149,
          162,
          173,
          197,
          178,
          175,
          229,
          193,
          220,
          178,
          251,
          229,
          220,
          288,
          216,
          250,
          268,
          251,
          258,
          266,
          290,
          307,
          167,
          259,
          282,
          312,
          292,
          377,
          311,
          268
         ]
        },
        {
         "line": {
          "color": "black",
          "dash": "dot"
         },
         "mode": "lines",
         "name": "Baseline",
         "type": "scatter",
         "x": [
          "2016-01-01T00:00:00.000000000",
          "2016-02-01T00:00:00.000000000",
          "2016-03-01T00:00:00.000000000",
          "2016-04-01T00:00:00.000000000",
          "2016-05-01T00:00:00.000000000",
          "2016-06-01T00:00:00.000000000",
          "2016-07-01T00:00:00.000000000",
          "2016-08-01T00:00:00.000000000",
          "2016-09-01T00:00:00.000000000",
          "2016-10-01T00:00:00.000000000",
          "2016-11-01T00:00:00.000000000",
          "2016-12-01T00:00:00.000000000",
          "2017-01-01T00:00:00.000000000",
          "2017-02-01T00:00:00.000000000",
          "2017-03-01T00:00:00.000000000",
          "2017-04-01T00:00:00.000000000",
          "2017-05-01T00:00:00.000000000",
          "2017-06-01T00:00:00.000000000",
          "2017-07-01T00:00:00.000000000",
          "2017-08-01T00:00:00.000000000",
          "2017-09-01T00:00:00.000000000",
          "2017-10-01T00:00:00.000000000",
          "2017-11-01T00:00:00.000000000",
          "2017-12-01T00:00:00.000000000",
          "2018-01-01T00:00:00.000000000",
          "2018-02-01T00:00:00.000000000",
          "2018-03-01T00:00:00.000000000",
          "2018-04-01T00:00:00.000000000",
          "2018-05-01T00:00:00.000000000",
          "2018-06-01T00:00:00.000000000",
          "2018-07-01T00:00:00.000000000",
          "2018-08-01T00:00:00.000000000",
          "2018-09-01T00:00:00.000000000",
          "2018-10-01T00:00:00.000000000",
          "2018-11-01T00:00:00.000000000",
          "2018-12-01T00:00:00.000000000",
          "2019-01-01T00:00:00.000000000",
          "2019-02-01T00:00:00.000000000",
          "2019-03-01T00:00:00.000000000",
          "2019-04-01T00:00:00.000000000",
          "2019-05-01T00:00:00.000000000",
          "2019-06-01T00:00:00.000000000",
          "2019-07-01T00:00:00.000000000",
          "2019-08-01T00:00:00.000000000",
          "2019-09-01T00:00:00.000000000",
          "2019-10-01T00:00:00.000000000",
          "2019-11-01T00:00:00.000000000",
          "2019-12-01T00:00:00.000000000",
          "2020-01-01T00:00:00.000000000",
          "2020-02-01T00:00:00.000000000",
          "2020-03-01T00:00:00.000000000",
          "2020-04-01T00:00:00.000000000",
          "2020-05-01T00:00:00.000000000",
          "2020-06-01T00:00:00.000000000",
          "2020-07-01T00:00:00.000000000",
          "2020-08-01T00:00:00.000000000",
          "2020-09-01T00:00:00.000000000",
          "2020-10-01T00:00:00.000000000",
          "2020-11-01T00:00:00.000000000",
          "2020-12-01T00:00:00.000000000",
          "2021-01-01T00:00:00.000000000",
          "2021-02-01T00:00:00.000000000",
          "2021-03-01T00:00:00.000000000",
          "2021-04-01T00:00:00.000000000",
          "2021-05-01T00:00:00.000000000",
          "2021-06-01T00:00:00.000000000",
          "2021-07-01T00:00:00.000000000",
          "2021-08-01T00:00:00.000000000",
          "2021-09-01T00:00:00.000000000",
          "2021-10-01T00:00:00.000000000",
          "2021-11-01T00:00:00.000000000",
          "2021-12-01T00:00:00.000000000",
          "2022-01-01T00:00:00.000000000",
          "2022-02-01T00:00:00.000000000",
          "2022-03-01T00:00:00.000000000",
          "2022-04-01T00:00:00.000000000",
          "2022-05-01T00:00:00.000000000",
          "2022-06-01T00:00:00.000000000",
          "2022-07-01T00:00:00.000000000",
          "2022-08-01T00:00:00.000000000",
          "2022-09-01T00:00:00.000000000",
          "2022-10-01T00:00:00.000000000",
          "2022-11-01T00:00:00.000000000",
          "2022-12-01T00:00:00.000000000",
          "2023-01-01T00:00:00.000000000",
          "2023-02-01T00:00:00.000000000",
          "2023-03-01T00:00:00.000000000",
          "2023-04-01T00:00:00.000000000",
          "2023-05-01T00:00:00.000000000",
          "2023-06-01T00:00:00.000000000",
          "2023-07-01T00:00:00.000000000",
          "2023-08-01T00:00:00.000000000",
          "2023-09-01T00:00:00.000000000",
          "2023-10-01T00:00:00.000000000",
          "2023-11-01T00:00:00.000000000",
          "2023-12-01T00:00:00.000000000",
          "2024-01-01T00:00:00.000000000",
          "2024-02-01T00:00:00.000000000",
          "2024-03-01T00:00:00.000000000",
          "2024-04-01T00:00:00.000000000",
          "2024-05-01T00:00:00.000000000",
          "2024-06-01T00:00:00.000000000",
          "2024-07-01T00:00:00.000000000",
          "2024-08-01T00:00:00.000000000",
          "2024-09-01T00:00:00.000000000",
          "2024-10-01T00:00:00.000000000",
          "2024-11-01T00:00:00.000000000",
          "2024-12-01T00:00:00.000000000"
         ],
         "y": [
          217.1475309757105,
          216.60641581359565,
          216.0653006514808,
          215.52418548936595,
          214.9830703272511,
          214.44195516513625,
          213.90084000302141,
          213.35972484090655,
          212.81860967879172,
          212.27749451667685,
          211.73637935456202,
          211.19526419244715,
          210.65414903033232,
          210.11303386821749,
          209.57191870610262,
          209.0308035439878,
          208.48968838187292,
          207.9485732197581,
          207.40745805764323,
          206.8663428955284,
          206.32522773341353,
          205.7841125712987,
          205.24299740918383,
          204.701882247069,
          204.16076708495416,
          203.6196519228393,
          203.07853676072446,
          202.5374215986096,
          201.99630643649476,
          201.4551912743799,
          200.91407611226506,
          200.3729609501502,
          199.83184578803537,
          199.2907306259205,
          198.74961546380567,
          198.20850030169083,
          197.66738513957597,
          197.12626997746113,
          196.58515481534627,
          196.04403965323144,
          195.50292449111657,
          194.96180932900174,
          194.42069416688688,
          193.87957900477204,
          193.33846384265718,
          192.79734868054234,
          192.2562335184275,
          191.71511835631264,
          191.1740031941978,
          190.63288803208295,
          190.0917728699681,
          189.55065770785325,
          189.0095425457384,
          188.46842738362355,
          187.9273122215087,
          187.38619705939385,
          186.84508189727902,
          186.30396673516418,
          185.76285157304932,
          185.22173641093445,
          184.68062124881962,
          184.13950608670478,
          183.59839092458992,
          183.0572757624751,
          182.51616060036022,
          181.9750454382454,
          181.43393027613052,
          180.8928151140157,
          180.35169995190086,
          179.810584789786,
          179.26946962767113,
          178.7283544655563,
          178.18723930344146,
          177.6461241413266,
          177.10500897921176,
          176.5638938170969,
          176.02277865498206,
          175.4816634928672,
          174.94054833075236,
          174.39943316863753,
          173.85831800652267,
          173.3172028444078,
          172.77608768229297,
          172.23497252017813,
          171.69385735806327,
          171.15274219594843,
          170.61162703383357,
          170.07051187171874,
          169.52939670960387,
          168.98828154748904,
          168.4471663853742,
          167.90605122325934,
          167.36493606114448,
          166.82382089902964,
          166.2827057369148,
          165.74159057479994,
          165.2004754126851,
          164.65936025057024,
          164.1182450884554,
          163.57712992634055,
          163.0360147642257,
          162.49489960211088,
          161.953784439996,
          161.41266927788115,
          160.87155411576632,
          160.33043895365148,
          159.78932379153662,
          159.24820862942178
         ]
        },
        {
         "line": {
          "color": "purple"
         },
         "mode": "lines",
         "name": "Full model",
         "type": "scatter",
         "x": [
          "2016-01-01T00:00:00.000000000",
          "2016-02-01T00:00:00.000000000",
          "2016-03-01T00:00:00.000000000",
          "2016-04-01T00:00:00.000000000",
          "2016-05-01T00:00:00.000000000",
          "2016-06-01T00:00:00.000000000",
          "2016-07-01T00:00:00.000000000",
          "2016-08-01T00:00:00.000000000",
          "2016-09-01T00:00:00.000000000",
          "2016-10-01T00:00:00.000000000",
          "2016-11-01T00:00:00.000000000",
          "2016-12-01T00:00:00.000000000",
          "2017-01-01T00:00:00.000000000",
          "2017-02-01T00:00:00.000000000",
          "2017-03-01T00:00:00.000000000",
          "2017-04-01T00:00:00.000000000",
          "2017-05-01T00:00:00.000000000",
          "2017-06-01T00:00:00.000000000",
          "2017-07-01T00:00:00.000000000",
          "2017-08-01T00:00:00.000000000",
          "2017-09-01T00:00:00.000000000",
          "2017-10-01T00:00:00.000000000",
          "2017-11-01T00:00:00.000000000",
          "2017-12-01T00:00:00.000000000",
          "2018-01-01T00:00:00.000000000",
          "2018-02-01T00:00:00.000000000",
          "2018-03-01T00:00:00.000000000",
          "2018-04-01T00:00:00.000000000",
          "2018-05-01T00:00:00.000000000",
          "2018-06-01T00:00:00.000000000",
          "2018-07-01T00:00:00.000000000",
          "2018-08-01T00:00:00.000000000",
          "2018-09-01T00:00:00.000000000",
          "2018-10-01T00:00:00.000000000",
          "2018-11-01T00:00:00.000000000",
          "2018-12-01T00:00:00.000000000",
          "2019-01-01T00:00:00.000000000",
          "2019-02-01T00:00:00.000000000",
          "2019-03-01T00:00:00.000000000",
          "2019-04-01T00:00:00.000000000",
          "2019-05-01T00:00:00.000000000",
          "2019-06-01T00:00:00.000000000",
          "2019-07-01T00:00:00.000000000",
          "2019-08-01T00:00:00.000000000",
          "2019-09-01T00:00:00.000000000",
          "2019-10-01T00:00:00.000000000",
          "2019-11-01T00:00:00.000000000",
          "2019-12-01T00:00:00.000000000",
          "2020-01-01T00:00:00.000000000",
          "2020-02-01T00:00:00.000000000",
          "2020-03-01T00:00:00.000000000",
          "2020-04-01T00:00:00.000000000",
          "2020-05-01T00:00:00.000000000",
          "2020-06-01T00:00:00.000000000",
          "2020-07-01T00:00:00.000000000",
          "2020-08-01T00:00:00.000000000",
          "2020-09-01T00:00:00.000000000",
          "2020-10-01T00:00:00.000000000",
          "2020-11-01T00:00:00.000000000",
          "2020-12-01T00:00:00.000000000",
          "2021-01-01T00:00:00.000000000",
          "2021-02-01T00:00:00.000000000",
          "2021-03-01T00:00:00.000000000",
          "2021-04-01T00:00:00.000000000",
          "2021-05-01T00:00:00.000000000",
          "2021-06-01T00:00:00.000000000",
          "2021-07-01T00:00:00.000000000",
          "2021-08-01T00:00:00.000000000",
          "2021-09-01T00:00:00.000000000",
          "2021-10-01T00:00:00.000000000",
          "2021-11-01T00:00:00.000000000",
          "2021-12-01T00:00:00.000000000",
          "2022-01-01T00:00:00.000000000",
          "2022-02-01T00:00:00.000000000",
          "2022-03-01T00:00:00.000000000",
          "2022-04-01T00:00:00.000000000",
          "2022-05-01T00:00:00.000000000",
          "2022-06-01T00:00:00.000000000",
          "2022-07-01T00:00:00.000000000",
          "2022-08-01T00:00:00.000000000",
          "2022-09-01T00:00:00.000000000",
          "2022-10-01T00:00:00.000000000",
          "2022-11-01T00:00:00.000000000",
          "2022-12-01T00:00:00.000000000",
          "2023-01-01T00:00:00.000000000",
          "2023-02-01T00:00:00.000000000",
          "2023-03-01T00:00:00.000000000",
          "2023-04-01T00:00:00.000000000",
          "2023-05-01T00:00:00.000000000",
          "2023-06-01T00:00:00.000000000",
          "2023-07-01T00:00:00.000000000",
          "2023-08-01T00:00:00.000000000",
          "2023-09-01T00:00:00.000000000",
          "2023-10-01T00:00:00.000000000",
          "2023-11-01T00:00:00.000000000",
          "2023-12-01T00:00:00.000000000",
          "2024-01-01T00:00:00.000000000",
          "2024-02-01T00:00:00.000000000",
          "2024-03-01T00:00:00.000000000",
          "2024-04-01T00:00:00.000000000",
          "2024-05-01T00:00:00.000000000",
          "2024-06-01T00:00:00.000000000",
          "2024-07-01T00:00:00.000000000",
          "2024-08-01T00:00:00.000000000",
          "2024-09-01T00:00:00.000000000",
          "2024-10-01T00:00:00.000000000",
          "2024-11-01T00:00:00.000000000",
          "2024-12-01T00:00:00.000000000"
         ],
         "y": [
          217.1475309757105,
          216.60641581359565,
          216.0653006514808,
          215.52418548936595,
          214.9830703272511,
          214.44195516513625,
          213.90084000302141,
          213.35972484090655,
          212.81860967879172,
          212.27749451667685,
          211.73637935456202,
          211.19526419244715,
          210.65414903033232,
          210.11303386821749,
          209.57191870610262,
          209.0308035439878,
          208.48968838187292,
          207.9485732197581,
          207.40745805764323,
          206.8663428955284,
          206.32522773341353,
          205.7841125712987,
          205.24299740918383,
          204.701882247069,
          204.16076708495416,
          203.6196519228393,
          203.07853676072446,
          202.5374215986096,
          201.99630643649476,
          201.4551912743799,
          200.91407611226506,
          200.3729609501502,
          199.83184578803537,
          199.2907306259205,
          198.74961546380567,
          198.20850030169083,
          197.66738513957597,
          197.12626997746113,
          196.58515481534627,
          196.04403965323144,
          195.50292449111657,
          194.96180932900174,
          194.42069416688688,
          193.87957900477204,
          193.33846384265718,
          192.79734868054234,
          192.2562335184275,
          191.71511835631264,
          85.17400319419781,
          88.63288803208295,
          78.09177286996811,
          77.55065770785325,
          77.00954254573841,
          76.46842738362355,
          75.92731222150871,
          109.38619705939385,
          112.84508189727902,
          116.30396673516418,
          119.76285157304932,
          123.22173641093445,
          126.68062124881962,
          130.13950608670478,
          133.59839092458992,
          60.057275762475086,
          59.51616060036022,
          142.9750454382454,
          146.43393027613052,
          149.8928151140157,
          153.35169995190086,
          156.810584789786,
          160.26946962767113,
          163.7283544655563,
          167.18723930344146,
          170.6461241413266,
          174.10500897921176,
          177.5638938170969,
          181.02277865498206,
          184.4816634928672,
          187.94054833075236,
          191.39943316863753,
          193.85831800652267,
          197.3172028444078,
          200.77608768229297,
          204.23497252017813,
          207.69385735806327,
          211.15274219594843,
          214.61162703383357,
          218.07051187171874,
          221.52939670960387,
          224.98828154748904,
          228.4471663853742,
          231.90605122325934,
          235.36493606114448,
          238.82382089902964,
          242.2827057369148,
          245.74159057479994,
          249.2004754126851,
          251.65936025057024,
          255.1182450884554,
          258.57712992634055,
          262.0360147642257,
          265.4948996021109,
          268.953784439996,
          272.41266927788115,
          275.87155411576634,
          279.3304389536515,
          282.7893237915366,
          286.2482086294218
         ]
        }
       ],
       "layout": {
        "legend": {
         "title": {
          "text": "Legend"
         }
        },
        "template": {
         "data": {
          "bar": [
           {
            "error_x": {
             "color": "#2a3f5f"
            },
            "error_y": {
             "color": "#2a3f5f"
            },
            "marker": {
             "line": {
              "color": "#E5ECF6",
              "width": 0.5
             },
             "pattern": {
              "fillmode": "overlay",
              "size": 10,
              "solidity": 0.2
             }
            },
            "type": "bar"
           }
          ],
          "barpolar": [
           {
            "marker": {
             "line": {
              "color": "#E5ECF6",
              "width": 0.5
             },
             "pattern": {
              "fillmode": "overlay",
              "size": 10,
              "solidity": 0.2
             }
            },
            "type": "barpolar"
           }
          ],
          "carpet": [
           {
            "aaxis": {
             "endlinecolor": "#2a3f5f",
             "gridcolor": "white",
             "linecolor": "white",
             "minorgridcolor": "white",
             "startlinecolor": "#2a3f5f"
            },
            "baxis": {
             "endlinecolor": "#2a3f5f",
             "gridcolor": "white",
             "linecolor": "white",
             "minorgridcolor": "white",
             "startlinecolor": "#2a3f5f"
            },
            "type": "carpet"
           }
          ],
          "choropleth": [
           {
            "colorbar": {
             "outlinewidth": 0,
             "ticks": ""
            },
            "type": "choropleth"
           }
          ],
          "contour": [
           {
            "colorbar": {
             "outlinewidth": 0,
             "ticks": ""
            },
            "colorscale": [
             [
              0,
              "#0d0887"
             ],
             [
              0.1111111111111111,
              "#46039f"
             ],
             [
              0.2222222222222222,
              "#7201a8"
             ],
             [
              0.3333333333333333,
              "#9c179e"
             ],
             [
              0.4444444444444444,
              "#bd3786"
             ],
             [
              0.5555555555555556,
              "#d8576b"
             ],
             [
              0.6666666666666666,
              "#ed7953"
             ],
             [
              0.7777777777777778,
              "#fb9f3a"
             ],
             [
              0.8888888888888888,
              "#fdca26"
             ],
             [
              1,
              "#f0f921"
             ]
            ],
            "type": "contour"
           }
          ],
          "contourcarpet": [
           {
            "colorbar": {
             "outlinewidth": 0,
             "ticks": ""
            },
            "type": "contourcarpet"
           }
          ],
          "heatmap": [
           {
            "colorbar": {
             "outlinewidth": 0,
             "ticks": ""
            },
            "colorscale": [
             [
              0,
              "#0d0887"
             ],
             [
              0.1111111111111111,
              "#46039f"
             ],
             [
              0.2222222222222222,
              "#7201a8"
             ],
             [
              0.3333333333333333,
              "#9c179e"
             ],
             [
              0.4444444444444444,
              "#bd3786"
             ],
             [
              0.5555555555555556,
              "#d8576b"
             ],
             [
              0.6666666666666666,
              "#ed7953"
             ],
             [
              0.7777777777777778,
              "#fb9f3a"
             ],
             [
              0.8888888888888888,
              "#fdca26"
             ],
             [
              1,
              "#f0f921"
             ]
            ],
            "type": "heatmap"
           }
          ],
          "heatmapgl": [
           {
            "colorbar": {
             "outlinewidth": 0,
             "ticks": ""
            },
            "colorscale": [
             [
              0,
              "#0d0887"
             ],
             [
              0.1111111111111111,
              "#46039f"
             ],
             [
              0.2222222222222222,
              "#7201a8"
             ],
             [
              0.3333333333333333,
              "#9c179e"
             ],
             [
              0.4444444444444444,
              "#bd3786"
             ],
             [
              0.5555555555555556,
              "#d8576b"
             ],
             [
              0.6666666666666666,
              "#ed7953"
             ],
             [
              0.7777777777777778,
              "#fb9f3a"
             ],
             [
              0.8888888888888888,
              "#fdca26"
             ],
             [
              1,
              "#f0f921"
             ]
            ],
            "type": "heatmapgl"
           }
          ],
          "histogram": [
           {
            "marker": {
             "pattern": {
              "fillmode": "overlay",
              "size": 10,
              "solidity": 0.2
             }
            },
            "type": "histogram"
           }
          ],
          "histogram2d": [
           {
            "colorbar": {
             "outlinewidth": 0,
             "ticks": ""
            },
            "colorscale": [
             [
              0,
              "#0d0887"
             ],
             [
              0.1111111111111111,
              "#46039f"
             ],
             [
              0.2222222222222222,
              "#7201a8"
             ],
             [
              0.3333333333333333,
              "#9c179e"
             ],
             [
              0.4444444444444444,
              "#bd3786"
             ],
             [
              0.5555555555555556,
              "#d8576b"
             ],
             [
              0.6666666666666666,
              "#ed7953"
             ],
             [
              0.7777777777777778,
              "#fb9f3a"
             ],
             [
              0.8888888888888888,
              "#fdca26"
             ],
             [
              1,
              "#f0f921"
             ]
            ],
            "type": "histogram2d"
           }
          ],
          "histogram2dcontour": [
           {
            "colorbar": {
             "outlinewidth": 0,
             "ticks": ""
            },
            "colorscale": [
             [
              0,
              "#0d0887"
             ],
             [
              0.1111111111111111,
              "#46039f"
             ],
             [
              0.2222222222222222,
              "#7201a8"
             ],
             [
              0.3333333333333333,
              "#9c179e"
             ],
             [
              0.4444444444444444,
              "#bd3786"
             ],
             [
              0.5555555555555556,
              "#d8576b"
             ],
             [
              0.6666666666666666,
              "#ed7953"
             ],
             [
              0.7777777777777778,
              "#fb9f3a"
             ],
             [
              0.8888888888888888,
              "#fdca26"
             ],
             [
              1,
              "#f0f921"
             ]
            ],
            "type": "histogram2dcontour"
           }
          ],
          "mesh3d": [
           {
            "colorbar": {
             "outlinewidth": 0,
             "ticks": ""
            },
            "type": "mesh3d"
           }
          ],
          "parcoords": [
           {
            "line": {
             "colorbar": {
              "outlinewidth": 0,
              "ticks": ""
             }
            },
            "type": "parcoords"
           }
          ],
          "pie": [
           {
            "automargin": true,
            "type": "pie"
           }
          ],
          "scatter": [
           {
            "fillpattern": {
             "fillmode": "overlay",
             "size": 10,
             "solidity": 0.2
            },
            "type": "scatter"
           }
          ],
          "scatter3d": [
           {
            "line": {
             "colorbar": {
              "outlinewidth": 0,
              "ticks": ""
             }
            },
            "marker": {
             "colorbar": {
              "outlinewidth": 0,
              "ticks": ""
             }
            },
            "type": "scatter3d"
           }
          ],
          "scattercarpet": [
           {
            "marker": {
             "colorbar": {
              "outlinewidth": 0,
              "ticks": ""
             }
            },
            "type": "scattercarpet"
           }
          ],
          "scattergeo": [
           {
            "marker": {
             "colorbar": {
              "outlinewidth": 0,
              "ticks": ""
             }
            },
            "type": "scattergeo"
           }
          ],
          "scattergl": [
           {
            "marker": {
             "colorbar": {
              "outlinewidth": 0,
              "ticks": ""
             }
            },
            "type": "scattergl"
           }
          ],
          "scattermapbox": [
           {
            "marker": {
             "colorbar": {
              "outlinewidth": 0,
              "ticks": ""
             }
            },
            "type": "scattermapbox"
           }
          ],
          "scatterpolar": [
           {
            "marker": {
             "colorbar": {
              "outlinewidth": 0,
              "ticks": ""
             }
            },
            "type": "scatterpolar"
           }
          ],
          "scatterpolargl": [
           {
            "marker": {
             "colorbar": {
              "outlinewidth": 0,
              "ticks": ""
             }
            },
            "type": "scatterpolargl"
           }
          ],
          "scatterternary": [
           {
            "marker": {
             "colorbar": {
              "outlinewidth": 0,
              "ticks": ""
             }
            },
            "type": "scatterternary"
           }
          ],
          "surface": [
           {
            "colorbar": {
             "outlinewidth": 0,
             "ticks": ""
            },
            "colorscale": [
             [
              0,
              "#0d0887"
             ],
             [
              0.1111111111111111,
              "#46039f"
             ],
             [
              0.2222222222222222,
              "#7201a8"
             ],
             [
              0.3333333333333333,
              "#9c179e"
             ],
             [
              0.4444444444444444,
              "#bd3786"
             ],
             [
              0.5555555555555556,
              "#d8576b"
             ],
             [
              0.6666666666666666,
              "#ed7953"
             ],
             [
              0.7777777777777778,
              "#fb9f3a"
             ],
             [
              0.8888888888888888,
              "#fdca26"
             ],
             [
              1,
              "#f0f921"
             ]
            ],
            "type": "surface"
           }
          ],
          "table": [
           {
            "cells": {
             "fill": {
              "color": "#EBF0F8"
             },
             "line": {
              "color": "white"
             }
            },
            "header": {
             "fill": {
              "color": "#C8D4E3"
             },
             "line": {
              "color": "white"
             }
            },
            "type": "table"
           }
          ]
         },
         "layout": {
          "annotationdefaults": {
           "arrowcolor": "#2a3f5f",
           "arrowhead": 0,
           "arrowwidth": 1
          },
          "autotypenumbers": "strict",
          "coloraxis": {
           "colorbar": {
            "outlinewidth": 0,
            "ticks": ""
           }
          },
          "colorscale": {
           "diverging": [
            [
             0,
             "#8e0152"
            ],
            [
             0.1,
             "#c51b7d"
            ],
            [
             0.2,
             "#de77ae"
            ],
            [
             0.3,
             "#f1b6da"
            ],
            [
             0.4,
             "#fde0ef"
            ],
            [
             0.5,
             "#f7f7f7"
            ],
            [
             0.6,
             "#e6f5d0"
            ],
            [
             0.7,
             "#b8e186"
            ],
            [
             0.8,
             "#7fbc41"
            ],
            [
             0.9,
             "#4d9221"
            ],
            [
             1,
             "#276419"
            ]
           ],
           "sequential": [
            [
             0,
             "#0d0887"
            ],
            [
             0.1111111111111111,
             "#46039f"
            ],
            [
             0.2222222222222222,
             "#7201a8"
            ],
            [
             0.3333333333333333,
             "#9c179e"
            ],
            [
             0.4444444444444444,
             "#bd3786"
            ],
            [
             0.5555555555555556,
             "#d8576b"
            ],
            [
             0.6666666666666666,
             "#ed7953"
            ],
            [
             0.7777777777777778,
             "#fb9f3a"
            ],
            [
             0.8888888888888888,
             "#fdca26"
            ],
            [
             1,
             "#f0f921"
            ]
           ],
           "sequentialminus": [
            [
             0,
             "#0d0887"
            ],
            [
             0.1111111111111111,
             "#46039f"
            ],
            [
             0.2222222222222222,
             "#7201a8"
            ],
            [
             0.3333333333333333,
             "#9c179e"
            ],
            [
             0.4444444444444444,
             "#bd3786"
            ],
            [
             0.5555555555555556,
             "#d8576b"
            ],
            [
             0.6666666666666666,
             "#ed7953"
            ],
            [
             0.7777777777777778,
             "#fb9f3a"
            ],
            [
             0.8888888888888888,
             "#fdca26"
            ],
            [
             1,
             "#f0f921"
            ]
           ]
          },
          "colorway": [
           "#636efa",
           "#EF553B",
           "#00cc96",
           "#ab63fa",
           "#FFA15A",
           "#19d3f3",
           "#FF6692",
           "#B6E880",
           "#FF97FF",
           "#FECB52"
          ],
          "font": {
           "color": "#2a3f5f"
          },
          "geo": {
           "bgcolor": "white",
           "lakecolor": "white",
           "landcolor": "#E5ECF6",
           "showlakes": true,
           "showland": true,
           "subunitcolor": "white"
          },
          "hoverlabel": {
           "align": "left"
          },
          "hovermode": "closest",
          "mapbox": {
           "style": "light"
          },
          "paper_bgcolor": "white",
          "plot_bgcolor": "#E5ECF6",
          "polar": {
           "angularaxis": {
            "gridcolor": "white",
            "linecolor": "white",
            "ticks": ""
           },
           "bgcolor": "#E5ECF6",
           "radialaxis": {
            "gridcolor": "white",
            "linecolor": "white",
            "ticks": ""
           }
          },
          "scene": {
           "xaxis": {
            "backgroundcolor": "#E5ECF6",
            "gridcolor": "white",
            "gridwidth": 2,
            "linecolor": "white",
            "showbackground": true,
            "ticks": "",
            "zerolinecolor": "white"
           },
           "yaxis": {
            "backgroundcolor": "#E5ECF6",
            "gridcolor": "white",
            "gridwidth": 2,
            "linecolor": "white",
            "showbackground": true,
            "ticks": "",
            "zerolinecolor": "white"
           },
           "zaxis": {
            "backgroundcolor": "#E5ECF6",
            "gridcolor": "white",
            "gridwidth": 2,
            "linecolor": "white",
            "showbackground": true,
            "ticks": "",
            "zerolinecolor": "white"
           }
          },
          "shapedefaults": {
           "line": {
            "color": "#2a3f5f"
           }
          },
          "ternary": {
           "aaxis": {
            "gridcolor": "white",
            "linecolor": "white",
            "ticks": ""
           },
           "baxis": {
            "gridcolor": "white",
            "linecolor": "white",
            "ticks": ""
           },
           "bgcolor": "#E5ECF6",
           "caxis": {
            "gridcolor": "white",
            "linecolor": "white",
            "ticks": ""
           }
          },
          "title": {
           "x": 0.05
          },
          "xaxis": {
           "automargin": true,
           "gridcolor": "white",
           "linecolor": "white",
           "ticks": "",
           "title": {
            "standoff": 15
           },
           "zerolinecolor": "white",
           "zerolinewidth": 2
          },
          "yaxis": {
           "automargin": true,
           "gridcolor": "white",
           "linecolor": "white",
           "ticks": "",
           "title": {
            "standoff": 15
           },
           "zerolinecolor": "white",
           "zerolinewidth": 2
          }
         }
        },
        "title": {
         "text": "F70-F79 - Retardo mental"
        },
        "xaxis": {
         "title": {
          "text": "Time"
         }
        },
        "yaxis": {
         "title": {
          "text": "Value"
         }
        }
       }
      }
     },
     "metadata": {},
     "output_type": "display_data"
    },
    {
     "data": {
      "application/vnd.plotly.v1+json": {
       "config": {
        "plotlyServerURL": "https://plot.ly"
       },
       "data": [
        {
         "marker": {
          "color": "black"
         },
         "mode": "markers",
         "name": "Real",
         "type": "scatter",
         "x": [
          "2016-01-01T00:00:00.000000000",
          "2016-02-01T00:00:00.000000000",
          "2016-03-01T00:00:00.000000000",
          "2016-04-01T00:00:00.000000000",
          "2016-05-01T00:00:00.000000000",
          "2016-06-01T00:00:00.000000000",
          "2016-07-01T00:00:00.000000000",
          "2016-08-01T00:00:00.000000000",
          "2016-09-01T00:00:00.000000000",
          "2016-10-01T00:00:00.000000000",
          "2016-11-01T00:00:00.000000000",
          "2016-12-01T00:00:00.000000000",
          "2017-01-01T00:00:00.000000000",
          "2017-02-01T00:00:00.000000000",
          "2017-03-01T00:00:00.000000000",
          "2017-04-01T00:00:00.000000000",
          "2017-05-01T00:00:00.000000000",
          "2017-06-01T00:00:00.000000000",
          "2017-07-01T00:00:00.000000000",
          "2017-08-01T00:00:00.000000000",
          "2017-09-01T00:00:00.000000000",
          "2017-10-01T00:00:00.000000000",
          "2017-11-01T00:00:00.000000000",
          "2017-12-01T00:00:00.000000000",
          "2018-01-01T00:00:00.000000000",
          "2018-02-01T00:00:00.000000000",
          "2018-03-01T00:00:00.000000000",
          "2018-04-01T00:00:00.000000000",
          "2018-05-01T00:00:00.000000000",
          "2018-06-01T00:00:00.000000000",
          "2018-07-01T00:00:00.000000000",
          "2018-08-01T00:00:00.000000000",
          "2018-09-01T00:00:00.000000000",
          "2018-10-01T00:00:00.000000000",
          "2018-11-01T00:00:00.000000000",
          "2018-12-01T00:00:00.000000000",
          "2019-01-01T00:00:00.000000000",
          "2019-02-01T00:00:00.000000000",
          "2019-03-01T00:00:00.000000000",
          "2019-04-01T00:00:00.000000000",
          "2019-05-01T00:00:00.000000000",
          "2019-06-01T00:00:00.000000000",
          "2019-07-01T00:00:00.000000000",
          "2019-08-01T00:00:00.000000000",
          "2019-09-01T00:00:00.000000000",
          "2019-10-01T00:00:00.000000000",
          "2019-11-01T00:00:00.000000000",
          "2019-12-01T00:00:00.000000000",
          "2020-01-01T00:00:00.000000000",
          "2020-02-01T00:00:00.000000000",
          "2020-03-01T00:00:00.000000000",
          "2020-04-01T00:00:00.000000000",
          "2020-05-01T00:00:00.000000000",
          "2020-06-01T00:00:00.000000000",
          "2020-07-01T00:00:00.000000000",
          "2020-08-01T00:00:00.000000000",
          "2020-09-01T00:00:00.000000000",
          "2020-10-01T00:00:00.000000000",
          "2020-11-01T00:00:00.000000000",
          "2020-12-01T00:00:00.000000000",
          "2021-01-01T00:00:00.000000000",
          "2021-02-01T00:00:00.000000000",
          "2021-03-01T00:00:00.000000000",
          "2021-04-01T00:00:00.000000000",
          "2021-05-01T00:00:00.000000000",
          "2021-06-01T00:00:00.000000000",
          "2021-07-01T00:00:00.000000000",
          "2021-08-01T00:00:00.000000000",
          "2021-09-01T00:00:00.000000000",
          "2021-10-01T00:00:00.000000000",
          "2021-11-01T00:00:00.000000000",
          "2021-12-01T00:00:00.000000000",
          "2022-01-01T00:00:00.000000000",
          "2022-02-01T00:00:00.000000000",
          "2022-03-01T00:00:00.000000000",
          "2022-04-01T00:00:00.000000000",
          "2022-05-01T00:00:00.000000000",
          "2022-06-01T00:00:00.000000000",
          "2022-07-01T00:00:00.000000000",
          "2022-08-01T00:00:00.000000000",
          "2022-09-01T00:00:00.000000000",
          "2022-10-01T00:00:00.000000000",
          "2022-11-01T00:00:00.000000000",
          "2022-12-01T00:00:00.000000000",
          "2023-01-01T00:00:00.000000000",
          "2023-02-01T00:00:00.000000000",
          "2023-03-01T00:00:00.000000000",
          "2023-04-01T00:00:00.000000000",
          "2023-05-01T00:00:00.000000000",
          "2023-06-01T00:00:00.000000000",
          "2023-07-01T00:00:00.000000000",
          "2023-08-01T00:00:00.000000000",
          "2023-09-01T00:00:00.000000000",
          "2023-10-01T00:00:00.000000000",
          "2023-11-01T00:00:00.000000000",
          "2023-12-01T00:00:00.000000000",
          "2024-01-01T00:00:00.000000000",
          "2024-02-01T00:00:00.000000000",
          "2024-03-01T00:00:00.000000000",
          "2024-04-01T00:00:00.000000000",
          "2024-05-01T00:00:00.000000000",
          "2024-06-01T00:00:00.000000000",
          "2024-07-01T00:00:00.000000000",
          "2024-08-01T00:00:00.000000000",
          "2024-09-01T00:00:00.000000000",
          "2024-10-01T00:00:00.000000000",
          "2024-11-01T00:00:00.000000000",
          "2024-12-01T00:00:00.000000000"
         ],
         "y": [
          25,
          22,
          31,
          44,
          51,
          64,
          48,
          48,
          55,
          59,
          44,
          34,
          54,
          42,
          66,
          51,
          49,
          48,
          45,
          44,
          52,
          50,
          55,
          57,
          53,
          41,
          69,
          50,
          57,
          61,
          35,
          47,
          50,
          72,
          67,
          51,
          170,
          56,
          60,
          64,
          83,
          68,
          68,
          62,
          56,
          66,
          47,
          49,
          47,
          61,
          65,
          33,
          32,
          120,
          147,
          162,
          138,
          123,
          154,
          141,
          159,
          132,
          86,
          68,
          23,
          138,
          118,
          171,
          150,
          140,
          129,
          165,
          91,
          108,
          182,
          154,
          138,
          154,
          171,
          202,
          93,
          110,
          93,
          97,
          93,
          76,
          97,
          71,
          102,
          96,
          107,
          136,
          116,
          124,
          129,
          130,
          121,
          116,
          141,
          137,
          110,
          142,
          131,
          173,
          147,
          202,
          146,
          171
         ]
        },
        {
         "line": {
          "color": "black",
          "dash": "dot"
         },
         "mode": "lines",
         "name": "Baseline",
         "type": "scatter",
         "x": [
          "2016-01-01T00:00:00.000000000",
          "2016-02-01T00:00:00.000000000",
          "2016-03-01T00:00:00.000000000",
          "2016-04-01T00:00:00.000000000",
          "2016-05-01T00:00:00.000000000",
          "2016-06-01T00:00:00.000000000",
          "2016-07-01T00:00:00.000000000",
          "2016-08-01T00:00:00.000000000",
          "2016-09-01T00:00:00.000000000",
          "2016-10-01T00:00:00.000000000",
          "2016-11-01T00:00:00.000000000",
          "2016-12-01T00:00:00.000000000",
          "2017-01-01T00:00:00.000000000",
          "2017-02-01T00:00:00.000000000",
          "2017-03-01T00:00:00.000000000",
          "2017-04-01T00:00:00.000000000",
          "2017-05-01T00:00:00.000000000",
          "2017-06-01T00:00:00.000000000",
          "2017-07-01T00:00:00.000000000",
          "2017-08-01T00:00:00.000000000",
          "2017-09-01T00:00:00.000000000",
          "2017-10-01T00:00:00.000000000",
          "2017-11-01T00:00:00.000000000",
          "2017-12-01T00:00:00.000000000",
          "2018-01-01T00:00:00.000000000",
          "2018-02-01T00:00:00.000000000",
          "2018-03-01T00:00:00.000000000",
          "2018-04-01T00:00:00.000000000",
          "2018-05-01T00:00:00.000000000",
          "2018-06-01T00:00:00.000000000",
          "2018-07-01T00:00:00.000000000",
          "2018-08-01T00:00:00.000000000",
          "2018-09-01T00:00:00.000000000",
          "2018-10-01T00:00:00.000000000",
          "2018-11-01T00:00:00.000000000",
          "2018-12-01T00:00:00.000000000",
          "2019-01-01T00:00:00.000000000",
          "2019-02-01T00:00:00.000000000",
          "2019-03-01T00:00:00.000000000",
          "2019-04-01T00:00:00.000000000",
          "2019-05-01T00:00:00.000000000",
          "2019-06-01T00:00:00.000000000",
          "2019-07-01T00:00:00.000000000",
          "2019-08-01T00:00:00.000000000",
          "2019-09-01T00:00:00.000000000",
          "2019-10-01T00:00:00.000000000",
          "2019-11-01T00:00:00.000000000",
          "2019-12-01T00:00:00.000000000",
          "2020-01-01T00:00:00.000000000",
          "2020-02-01T00:00:00.000000000",
          "2020-03-01T00:00:00.000000000",
          "2020-04-01T00:00:00.000000000",
          "2020-05-01T00:00:00.000000000",
          "2020-06-01T00:00:00.000000000",
          "2020-07-01T00:00:00.000000000",
          "2020-08-01T00:00:00.000000000",
          "2020-09-01T00:00:00.000000000",
          "2020-10-01T00:00:00.000000000",
          "2020-11-01T00:00:00.000000000",
          "2020-12-01T00:00:00.000000000",
          "2021-01-01T00:00:00.000000000",
          "2021-02-01T00:00:00.000000000",
          "2021-03-01T00:00:00.000000000",
          "2021-04-01T00:00:00.000000000",
          "2021-05-01T00:00:00.000000000",
          "2021-06-01T00:00:00.000000000",
          "2021-07-01T00:00:00.000000000",
          "2021-08-01T00:00:00.000000000",
          "2021-09-01T00:00:00.000000000",
          "2021-10-01T00:00:00.000000000",
          "2021-11-01T00:00:00.000000000",
          "2021-12-01T00:00:00.000000000",
          "2022-01-01T00:00:00.000000000",
          "2022-02-01T00:00:00.000000000",
          "2022-03-01T00:00:00.000000000",
          "2022-04-01T00:00:00.000000000",
          "2022-05-01T00:00:00.000000000",
          "2022-06-01T00:00:00.000000000",
          "2022-07-01T00:00:00.000000000",
          "2022-08-01T00:00:00.000000000",
          "2022-09-01T00:00:00.000000000",
          "2022-10-01T00:00:00.000000000",
          "2022-11-01T00:00:00.000000000",
          "2022-12-01T00:00:00.000000000",
          "2023-01-01T00:00:00.000000000",
          "2023-02-01T00:00:00.000000000",
          "2023-03-01T00:00:00.000000000",
          "2023-04-01T00:00:00.000000000",
          "2023-05-01T00:00:00.000000000",
          "2023-06-01T00:00:00.000000000",
          "2023-07-01T00:00:00.000000000",
          "2023-08-01T00:00:00.000000000",
          "2023-09-01T00:00:00.000000000",
          "2023-10-01T00:00:00.000000000",
          "2023-11-01T00:00:00.000000000",
          "2023-12-01T00:00:00.000000000",
          "2024-01-01T00:00:00.000000000",
          "2024-02-01T00:00:00.000000000",
          "2024-03-01T00:00:00.000000000",
          "2024-04-01T00:00:00.000000000",
          "2024-05-01T00:00:00.000000000",
          "2024-06-01T00:00:00.000000000",
          "2024-07-01T00:00:00.000000000",
          "2024-08-01T00:00:00.000000000",
          "2024-09-01T00:00:00.000000000",
          "2024-10-01T00:00:00.000000000",
          "2024-11-01T00:00:00.000000000",
          "2024-12-01T00:00:00.000000000"
         ],
         "y": [
          45.00552625724903,
          45.621263084223635,
          46.23699991119825,
          46.85273673817286,
          47.46847356514747,
          48.084210392122074,
          48.699947219096686,
          49.3156840460713,
          49.93142087304591,
          50.54715770002051,
          51.162894526995125,
          51.778631353969736,
          52.39436818094434,
          53.01010500791895,
          53.62584183489356,
          54.241578661868175,
          54.85731548884278,
          55.47305231581739,
          56.088789142792,
          56.70452596976661,
          57.32026279674122,
          57.93599962371583,
          58.55173645069044,
          59.167473277665046,
          59.78321010463966,
          60.39894693161426,
          61.01468375858887,
          61.630420585563485,
          62.246157412538096,
          62.86189423951271,
          63.47763106648732,
          64.09336789346193,
          64.70910472043653,
          65.32484154741114,
          65.94057837438575,
          66.55631520136036,
          67.17205202833497,
          67.78778885530959,
          68.4035256822842,
          69.0192625092588,
          69.6349993362334,
          70.25073616320802,
          70.86647299018263,
          71.48220981715724,
          72.09794664413185,
          72.71368347110646,
          73.32942029808106,
          73.94515712505567,
          74.56089395203028,
          75.1766307790049,
          75.7923676059795,
          76.4081044329541,
          77.02384125992873,
          77.63957808690333,
          78.25531491387795,
          78.87105174085255,
          79.48678856782716,
          80.10252539480177,
          80.71826222177637,
          81.333999048751,
          81.9497358757256,
          82.56547270270022,
          83.18120952967482,
          83.79694635664943,
          84.41268318362404,
          85.02842001059864,
          85.64415683757326,
          86.25989366454786,
          86.87563049152249,
          87.49136731849708,
          88.1071041454717,
          88.7228409724463,
          89.3385777994209,
          89.95431462639553,
          90.57005145337013,
          91.18578828034475,
          91.80152510731935,
          92.41726193429396,
          93.03299876126857,
          93.64873558824318,
          94.2644724152178,
          94.8802092421924,
          95.49594606916702,
          96.11168289614162,
          96.72741972311623,
          97.34315655009084,
          97.95889337706545,
          98.57463020404006,
          99.19036703101466,
          99.80610385798929,
          100.42184068496388,
          101.0375775119385,
          101.6533143389131,
          102.26905116588772,
          102.88478799286233,
          103.50052481983693,
          104.11626164681155,
          104.73199847378615,
          105.34773530076076,
          105.96347212773537,
          106.57920895470998,
          107.1949457816846,
          107.81068260865919,
          108.4264194356338,
          109.04215626260842,
          109.65789308958303,
          110.27362991655764,
          110.88936674353225
         ]
        },
        {
         "line": {
          "color": "purple"
         },
         "mode": "lines",
         "name": "Full model",
         "type": "scatter",
         "x": [
          "2016-01-01T00:00:00.000000000",
          "2016-02-01T00:00:00.000000000",
          "2016-03-01T00:00:00.000000000",
          "2016-04-01T00:00:00.000000000",
          "2016-05-01T00:00:00.000000000",
          "2016-06-01T00:00:00.000000000",
          "2016-07-01T00:00:00.000000000",
          "2016-08-01T00:00:00.000000000",
          "2016-09-01T00:00:00.000000000",
          "2016-10-01T00:00:00.000000000",
          "2016-11-01T00:00:00.000000000",
          "2016-12-01T00:00:00.000000000",
          "2017-01-01T00:00:00.000000000",
          "2017-02-01T00:00:00.000000000",
          "2017-03-01T00:00:00.000000000",
          "2017-04-01T00:00:00.000000000",
          "2017-05-01T00:00:00.000000000",
          "2017-06-01T00:00:00.000000000",
          "2017-07-01T00:00:00.000000000",
          "2017-08-01T00:00:00.000000000",
          "2017-09-01T00:00:00.000000000",
          "2017-10-01T00:00:00.000000000",
          "2017-11-01T00:00:00.000000000",
          "2017-12-01T00:00:00.000000000",
          "2018-01-01T00:00:00.000000000",
          "2018-02-01T00:00:00.000000000",
          "2018-03-01T00:00:00.000000000",
          "2018-04-01T00:00:00.000000000",
          "2018-05-01T00:00:00.000000000",
          "2018-06-01T00:00:00.000000000",
          "2018-07-01T00:00:00.000000000",
          "2018-08-01T00:00:00.000000000",
          "2018-09-01T00:00:00.000000000",
          "2018-10-01T00:00:00.000000000",
          "2018-11-01T00:00:00.000000000",
          "2018-12-01T00:00:00.000000000",
          "2019-01-01T00:00:00.000000000",
          "2019-02-01T00:00:00.000000000",
          "2019-03-01T00:00:00.000000000",
          "2019-04-01T00:00:00.000000000",
          "2019-05-01T00:00:00.000000000",
          "2019-06-01T00:00:00.000000000",
          "2019-07-01T00:00:00.000000000",
          "2019-08-01T00:00:00.000000000",
          "2019-09-01T00:00:00.000000000",
          "2019-10-01T00:00:00.000000000",
          "2019-11-01T00:00:00.000000000",
          "2019-12-01T00:00:00.000000000",
          "2020-01-01T00:00:00.000000000",
          "2020-02-01T00:00:00.000000000",
          "2020-03-01T00:00:00.000000000",
          "2020-04-01T00:00:00.000000000",
          "2020-05-01T00:00:00.000000000",
          "2020-06-01T00:00:00.000000000",
          "2020-07-01T00:00:00.000000000",
          "2020-08-01T00:00:00.000000000",
          "2020-09-01T00:00:00.000000000",
          "2020-10-01T00:00:00.000000000",
          "2020-11-01T00:00:00.000000000",
          "2020-12-01T00:00:00.000000000",
          "2021-01-01T00:00:00.000000000",
          "2021-02-01T00:00:00.000000000",
          "2021-03-01T00:00:00.000000000",
          "2021-04-01T00:00:00.000000000",
          "2021-05-01T00:00:00.000000000",
          "2021-06-01T00:00:00.000000000",
          "2021-07-01T00:00:00.000000000",
          "2021-08-01T00:00:00.000000000",
          "2021-09-01T00:00:00.000000000",
          "2021-10-01T00:00:00.000000000",
          "2021-11-01T00:00:00.000000000",
          "2021-12-01T00:00:00.000000000",
          "2022-01-01T00:00:00.000000000",
          "2022-02-01T00:00:00.000000000",
          "2022-03-01T00:00:00.000000000",
          "2022-04-01T00:00:00.000000000",
          "2022-05-01T00:00:00.000000000",
          "2022-06-01T00:00:00.000000000",
          "2022-07-01T00:00:00.000000000",
          "2022-08-01T00:00:00.000000000",
          "2022-09-01T00:00:00.000000000",
          "2022-10-01T00:00:00.000000000",
          "2022-11-01T00:00:00.000000000",
          "2022-12-01T00:00:00.000000000",
          "2023-01-01T00:00:00.000000000",
          "2023-02-01T00:00:00.000000000",
          "2023-03-01T00:00:00.000000000",
          "2023-04-01T00:00:00.000000000",
          "2023-05-01T00:00:00.000000000",
          "2023-06-01T00:00:00.000000000",
          "2023-07-01T00:00:00.000000000",
          "2023-08-01T00:00:00.000000000",
          "2023-09-01T00:00:00.000000000",
          "2023-10-01T00:00:00.000000000",
          "2023-11-01T00:00:00.000000000",
          "2023-12-01T00:00:00.000000000",
          "2024-01-01T00:00:00.000000000",
          "2024-02-01T00:00:00.000000000",
          "2024-03-01T00:00:00.000000000",
          "2024-04-01T00:00:00.000000000",
          "2024-05-01T00:00:00.000000000",
          "2024-06-01T00:00:00.000000000",
          "2024-07-01T00:00:00.000000000",
          "2024-08-01T00:00:00.000000000",
          "2024-09-01T00:00:00.000000000",
          "2024-10-01T00:00:00.000000000",
          "2024-11-01T00:00:00.000000000",
          "2024-12-01T00:00:00.000000000"
         ],
         "y": [
          45.00552625724903,
          45.621263084223635,
          46.23699991119825,
          46.85273673817286,
          47.46847356514747,
          48.084210392122074,
          48.699947219096686,
          49.3156840460713,
          49.93142087304591,
          50.54715770002051,
          51.162894526995125,
          51.778631353969736,
          52.39436818094434,
          53.01010500791895,
          53.62584183489356,
          54.241578661868175,
          54.85731548884278,
          55.47305231581739,
          56.088789142792,
          56.70452596976661,
          57.32026279674122,
          57.93599962371583,
          58.55173645069044,
          59.167473277665046,
          59.78321010463966,
          60.39894693161426,
          61.01468375858887,
          61.630420585563485,
          62.246157412538096,
          62.86189423951271,
          63.47763106648732,
          64.09336789346193,
          64.70910472043653,
          65.32484154741114,
          65.94057837438575,
          66.55631520136036,
          67.17205202833497,
          67.78778885530959,
          68.4035256822842,
          69.0192625092588,
          69.6349993362334,
          70.25073616320802,
          70.86647299018263,
          71.48220981715724,
          72.09794664413185,
          72.71368347110646,
          73.32942029808106,
          73.94515712505567,
          109.56089395203028,
          110.1766307790049,
          90.7923676059795,
          91.4081044329541,
          92.02384125992873,
          92.63957808690333,
          93.25531491387795,
          113.87105174085255,
          114.48678856782716,
          115.10252539480177,
          115.71826222177637,
          116.333999048751,
          116.9497358757256,
          117.56547270270022,
          118.18120952967482,
          64.79694635664943,
          65.41268318362404,
          120.02842001059864,
          120.64415683757326,
          121.25989366454786,
          121.87563049152249,
          122.49136731849708,
          123.1071041454717,
          123.7228409724463,
          124.3385777994209,
          124.95431462639553,
          125.57005145337013,
          126.18578828034475,
          126.80152510731935,
          126.41726193429396,
          127.03299876126857,
          127.6487355882432,
          128.2644724152178,
          128.8802092421924,
          129.49594606916702,
          130.11168289614162,
          130.7274197231162,
          131.34315655009084,
          131.95889337706546,
          132.57463020404006,
          133.19036703101466,
          133.80610385798929,
          134.42184068496388,
          135.03757751193848,
          135.6533143389131,
          136.26905116588773,
          136.88478799286233,
          137.50052481983693,
          138.11626164681155,
          138.73199847378615,
          139.34773530076075,
          139.96347212773537,
          140.57920895471,
          141.1949457816846,
          141.8106826086592,
          142.42641943563382,
          143.04215626260842,
          143.657893089583,
          143.27362991655764,
          143.88936674353226
         ]
        }
       ],
       "layout": {
        "legend": {
         "title": {
          "text": "Legend"
         }
        },
        "template": {
         "data": {
          "bar": [
           {
            "error_x": {
             "color": "#2a3f5f"
            },
            "error_y": {
             "color": "#2a3f5f"
            },
            "marker": {
             "line": {
              "color": "#E5ECF6",
              "width": 0.5
             },
             "pattern": {
              "fillmode": "overlay",
              "size": 10,
              "solidity": 0.2
             }
            },
            "type": "bar"
           }
          ],
          "barpolar": [
           {
            "marker": {
             "line": {
              "color": "#E5ECF6",
              "width": 0.5
             },
             "pattern": {
              "fillmode": "overlay",
              "size": 10,
              "solidity": 0.2
             }
            },
            "type": "barpolar"
           }
          ],
          "carpet": [
           {
            "aaxis": {
             "endlinecolor": "#2a3f5f",
             "gridcolor": "white",
             "linecolor": "white",
             "minorgridcolor": "white",
             "startlinecolor": "#2a3f5f"
            },
            "baxis": {
             "endlinecolor": "#2a3f5f",
             "gridcolor": "white",
             "linecolor": "white",
             "minorgridcolor": "white",
             "startlinecolor": "#2a3f5f"
            },
            "type": "carpet"
           }
          ],
          "choropleth": [
           {
            "colorbar": {
             "outlinewidth": 0,
             "ticks": ""
            },
            "type": "choropleth"
           }
          ],
          "contour": [
           {
            "colorbar": {
             "outlinewidth": 0,
             "ticks": ""
            },
            "colorscale": [
             [
              0,
              "#0d0887"
             ],
             [
              0.1111111111111111,
              "#46039f"
             ],
             [
              0.2222222222222222,
              "#7201a8"
             ],
             [
              0.3333333333333333,
              "#9c179e"
             ],
             [
              0.4444444444444444,
              "#bd3786"
             ],
             [
              0.5555555555555556,
              "#d8576b"
             ],
             [
              0.6666666666666666,
              "#ed7953"
             ],
             [
              0.7777777777777778,
              "#fb9f3a"
             ],
             [
              0.8888888888888888,
              "#fdca26"
             ],
             [
              1,
              "#f0f921"
             ]
            ],
            "type": "contour"
           }
          ],
          "contourcarpet": [
           {
            "colorbar": {
             "outlinewidth": 0,
             "ticks": ""
            },
            "type": "contourcarpet"
           }
          ],
          "heatmap": [
           {
            "colorbar": {
             "outlinewidth": 0,
             "ticks": ""
            },
            "colorscale": [
             [
              0,
              "#0d0887"
             ],
             [
              0.1111111111111111,
              "#46039f"
             ],
             [
              0.2222222222222222,
              "#7201a8"
             ],
             [
              0.3333333333333333,
              "#9c179e"
             ],
             [
              0.4444444444444444,
              "#bd3786"
             ],
             [
              0.5555555555555556,
              "#d8576b"
             ],
             [
              0.6666666666666666,
              "#ed7953"
             ],
             [
              0.7777777777777778,
              "#fb9f3a"
             ],
             [
              0.8888888888888888,
              "#fdca26"
             ],
             [
              1,
              "#f0f921"
             ]
            ],
            "type": "heatmap"
           }
          ],
          "heatmapgl": [
           {
            "colorbar": {
             "outlinewidth": 0,
             "ticks": ""
            },
            "colorscale": [
             [
              0,
              "#0d0887"
             ],
             [
              0.1111111111111111,
              "#46039f"
             ],
             [
              0.2222222222222222,
              "#7201a8"
             ],
             [
              0.3333333333333333,
              "#9c179e"
             ],
             [
              0.4444444444444444,
              "#bd3786"
             ],
             [
              0.5555555555555556,
              "#d8576b"
             ],
             [
              0.6666666666666666,
              "#ed7953"
             ],
             [
              0.7777777777777778,
              "#fb9f3a"
             ],
             [
              0.8888888888888888,
              "#fdca26"
             ],
             [
              1,
              "#f0f921"
             ]
            ],
            "type": "heatmapgl"
           }
          ],
          "histogram": [
           {
            "marker": {
             "pattern": {
              "fillmode": "overlay",
              "size": 10,
              "solidity": 0.2
             }
            },
            "type": "histogram"
           }
          ],
          "histogram2d": [
           {
            "colorbar": {
             "outlinewidth": 0,
             "ticks": ""
            },
            "colorscale": [
             [
              0,
              "#0d0887"
             ],
             [
              0.1111111111111111,
              "#46039f"
             ],
             [
              0.2222222222222222,
              "#7201a8"
             ],
             [
              0.3333333333333333,
              "#9c179e"
             ],
             [
              0.4444444444444444,
              "#bd3786"
             ],
             [
              0.5555555555555556,
              "#d8576b"
             ],
             [
              0.6666666666666666,
              "#ed7953"
             ],
             [
              0.7777777777777778,
              "#fb9f3a"
             ],
             [
              0.8888888888888888,
              "#fdca26"
             ],
             [
              1,
              "#f0f921"
             ]
            ],
            "type": "histogram2d"
           }
          ],
          "histogram2dcontour": [
           {
            "colorbar": {
             "outlinewidth": 0,
             "ticks": ""
            },
            "colorscale": [
             [
              0,
              "#0d0887"
             ],
             [
              0.1111111111111111,
              "#46039f"
             ],
             [
              0.2222222222222222,
              "#7201a8"
             ],
             [
              0.3333333333333333,
              "#9c179e"
             ],
             [
              0.4444444444444444,
              "#bd3786"
             ],
             [
              0.5555555555555556,
              "#d8576b"
             ],
             [
              0.6666666666666666,
              "#ed7953"
             ],
             [
              0.7777777777777778,
              "#fb9f3a"
             ],
             [
              0.8888888888888888,
              "#fdca26"
             ],
             [
              1,
              "#f0f921"
             ]
            ],
            "type": "histogram2dcontour"
           }
          ],
          "mesh3d": [
           {
            "colorbar": {
             "outlinewidth": 0,
             "ticks": ""
            },
            "type": "mesh3d"
           }
          ],
          "parcoords": [
           {
            "line": {
             "colorbar": {
              "outlinewidth": 0,
              "ticks": ""
             }
            },
            "type": "parcoords"
           }
          ],
          "pie": [
           {
            "automargin": true,
            "type": "pie"
           }
          ],
          "scatter": [
           {
            "fillpattern": {
             "fillmode": "overlay",
             "size": 10,
             "solidity": 0.2
            },
            "type": "scatter"
           }
          ],
          "scatter3d": [
           {
            "line": {
             "colorbar": {
              "outlinewidth": 0,
              "ticks": ""
             }
            },
            "marker": {
             "colorbar": {
              "outlinewidth": 0,
              "ticks": ""
             }
            },
            "type": "scatter3d"
           }
          ],
          "scattercarpet": [
           {
            "marker": {
             "colorbar": {
              "outlinewidth": 0,
              "ticks": ""
             }
            },
            "type": "scattercarpet"
           }
          ],
          "scattergeo": [
           {
            "marker": {
             "colorbar": {
              "outlinewidth": 0,
              "ticks": ""
             }
            },
            "type": "scattergeo"
           }
          ],
          "scattergl": [
           {
            "marker": {
             "colorbar": {
              "outlinewidth": 0,
              "ticks": ""
             }
            },
            "type": "scattergl"
           }
          ],
          "scattermapbox": [
           {
            "marker": {
             "colorbar": {
              "outlinewidth": 0,
              "ticks": ""
             }
            },
            "type": "scattermapbox"
           }
          ],
          "scatterpolar": [
           {
            "marker": {
             "colorbar": {
              "outlinewidth": 0,
              "ticks": ""
             }
            },
            "type": "scatterpolar"
           }
          ],
          "scatterpolargl": [
           {
            "marker": {
             "colorbar": {
              "outlinewidth": 0,
              "ticks": ""
             }
            },
            "type": "scatterpolargl"
           }
          ],
          "scatterternary": [
           {
            "marker": {
             "colorbar": {
              "outlinewidth": 0,
              "ticks": ""
             }
            },
            "type": "scatterternary"
           }
          ],
          "surface": [
           {
            "colorbar": {
             "outlinewidth": 0,
             "ticks": ""
            },
            "colorscale": [
             [
              0,
              "#0d0887"
             ],
             [
              0.1111111111111111,
              "#46039f"
             ],
             [
              0.2222222222222222,
              "#7201a8"
             ],
             [
              0.3333333333333333,
              "#9c179e"
             ],
             [
              0.4444444444444444,
              "#bd3786"
             ],
             [
              0.5555555555555556,
              "#d8576b"
             ],
             [
              0.6666666666666666,
              "#ed7953"
             ],
             [
              0.7777777777777778,
              "#fb9f3a"
             ],
             [
              0.8888888888888888,
              "#fdca26"
             ],
             [
              1,
              "#f0f921"
             ]
            ],
            "type": "surface"
           }
          ],
          "table": [
           {
            "cells": {
             "fill": {
              "color": "#EBF0F8"
             },
             "line": {
              "color": "white"
             }
            },
            "header": {
             "fill": {
              "color": "#C8D4E3"
             },
             "line": {
              "color": "white"
             }
            },
            "type": "table"
           }
          ]
         },
         "layout": {
          "annotationdefaults": {
           "arrowcolor": "#2a3f5f",
           "arrowhead": 0,
           "arrowwidth": 1
          },
          "autotypenumbers": "strict",
          "coloraxis": {
           "colorbar": {
            "outlinewidth": 0,
            "ticks": ""
           }
          },
          "colorscale": {
           "diverging": [
            [
             0,
             "#8e0152"
            ],
            [
             0.1,
             "#c51b7d"
            ],
            [
             0.2,
             "#de77ae"
            ],
            [
             0.3,
             "#f1b6da"
            ],
            [
             0.4,
             "#fde0ef"
            ],
            [
             0.5,
             "#f7f7f7"
            ],
            [
             0.6,
             "#e6f5d0"
            ],
            [
             0.7,
             "#b8e186"
            ],
            [
             0.8,
             "#7fbc41"
            ],
            [
             0.9,
             "#4d9221"
            ],
            [
             1,
             "#276419"
            ]
           ],
           "sequential": [
            [
             0,
             "#0d0887"
            ],
            [
             0.1111111111111111,
             "#46039f"
            ],
            [
             0.2222222222222222,
             "#7201a8"
            ],
            [
             0.3333333333333333,
             "#9c179e"
            ],
            [
             0.4444444444444444,
             "#bd3786"
            ],
            [
             0.5555555555555556,
             "#d8576b"
            ],
            [
             0.6666666666666666,
             "#ed7953"
            ],
            [
             0.7777777777777778,
             "#fb9f3a"
            ],
            [
             0.8888888888888888,
             "#fdca26"
            ],
            [
             1,
             "#f0f921"
            ]
           ],
           "sequentialminus": [
            [
             0,
             "#0d0887"
            ],
            [
             0.1111111111111111,
             "#46039f"
            ],
            [
             0.2222222222222222,
             "#7201a8"
            ],
            [
             0.3333333333333333,
             "#9c179e"
            ],
            [
             0.4444444444444444,
             "#bd3786"
            ],
            [
             0.5555555555555556,
             "#d8576b"
            ],
            [
             0.6666666666666666,
             "#ed7953"
            ],
            [
             0.7777777777777778,
             "#fb9f3a"
            ],
            [
             0.8888888888888888,
             "#fdca26"
            ],
            [
             1,
             "#f0f921"
            ]
           ]
          },
          "colorway": [
           "#636efa",
           "#EF553B",
           "#00cc96",
           "#ab63fa",
           "#FFA15A",
           "#19d3f3",
           "#FF6692",
           "#B6E880",
           "#FF97FF",
           "#FECB52"
          ],
          "font": {
           "color": "#2a3f5f"
          },
          "geo": {
           "bgcolor": "white",
           "lakecolor": "white",
           "landcolor": "#E5ECF6",
           "showlakes": true,
           "showland": true,
           "subunitcolor": "white"
          },
          "hoverlabel": {
           "align": "left"
          },
          "hovermode": "closest",
          "mapbox": {
           "style": "light"
          },
          "paper_bgcolor": "white",
          "plot_bgcolor": "#E5ECF6",
          "polar": {
           "angularaxis": {
            "gridcolor": "white",
            "linecolor": "white",
            "ticks": ""
           },
           "bgcolor": "#E5ECF6",
           "radialaxis": {
            "gridcolor": "white",
            "linecolor": "white",
            "ticks": ""
           }
          },
          "scene": {
           "xaxis": {
            "backgroundcolor": "#E5ECF6",
            "gridcolor": "white",
            "gridwidth": 2,
            "linecolor": "white",
            "showbackground": true,
            "ticks": "",
            "zerolinecolor": "white"
           },
           "yaxis": {
            "backgroundcolor": "#E5ECF6",
            "gridcolor": "white",
            "gridwidth": 2,
            "linecolor": "white",
            "showbackground": true,
            "ticks": "",
            "zerolinecolor": "white"
           },
           "zaxis": {
            "backgroundcolor": "#E5ECF6",
            "gridcolor": "white",
            "gridwidth": 2,
            "linecolor": "white",
            "showbackground": true,
            "ticks": "",
            "zerolinecolor": "white"
           }
          },
          "shapedefaults": {
           "line": {
            "color": "#2a3f5f"
           }
          },
          "ternary": {
           "aaxis": {
            "gridcolor": "white",
            "linecolor": "white",
            "ticks": ""
           },
           "baxis": {
            "gridcolor": "white",
            "linecolor": "white",
            "ticks": ""
           },
           "bgcolor": "#E5ECF6",
           "caxis": {
            "gridcolor": "white",
            "linecolor": "white",
            "ticks": ""
           }
          },
          "title": {
           "x": 0.05
          },
          "xaxis": {
           "automargin": true,
           "gridcolor": "white",
           "linecolor": "white",
           "ticks": "",
           "title": {
            "standoff": 15
           },
           "zerolinecolor": "white",
           "zerolinewidth": 2
          },
          "yaxis": {
           "automargin": true,
           "gridcolor": "white",
           "linecolor": "white",
           "ticks": "",
           "title": {
            "standoff": 15
           },
           "zerolinecolor": "white",
           "zerolinewidth": 2
          }
         }
        },
        "title": {
         "text": "F60-F69 - Transtornos da personalidade e do comportamento do adulto"
        },
        "xaxis": {
         "title": {
          "text": "Time"
         }
        },
        "yaxis": {
         "title": {
          "text": "Value"
         }
        }
       }
      }
     },
     "metadata": {},
     "output_type": "display_data"
    },
    {
     "data": {
      "application/vnd.plotly.v1+json": {
       "config": {
        "plotlyServerURL": "https://plot.ly"
       },
       "data": [
        {
         "marker": {
          "color": "black"
         },
         "mode": "markers",
         "name": "Real",
         "type": "scatter",
         "x": [
          "2016-01-01T00:00:00.000000000",
          "2016-02-01T00:00:00.000000000",
          "2016-03-01T00:00:00.000000000",
          "2016-04-01T00:00:00.000000000",
          "2016-05-01T00:00:00.000000000",
          "2016-06-01T00:00:00.000000000",
          "2016-07-01T00:00:00.000000000",
          "2016-08-01T00:00:00.000000000",
          "2016-09-01T00:00:00.000000000",
          "2016-10-01T00:00:00.000000000",
          "2016-11-01T00:00:00.000000000",
          "2016-12-01T00:00:00.000000000",
          "2017-01-01T00:00:00.000000000",
          "2017-02-01T00:00:00.000000000",
          "2017-03-01T00:00:00.000000000",
          "2017-04-01T00:00:00.000000000",
          "2017-05-01T00:00:00.000000000",
          "2017-06-01T00:00:00.000000000",
          "2017-07-01T00:00:00.000000000",
          "2017-08-01T00:00:00.000000000",
          "2017-09-01T00:00:00.000000000",
          "2017-10-01T00:00:00.000000000",
          "2017-11-01T00:00:00.000000000",
          "2017-12-01T00:00:00.000000000",
          "2018-01-01T00:00:00.000000000",
          "2018-02-01T00:00:00.000000000",
          "2018-03-01T00:00:00.000000000",
          "2018-04-01T00:00:00.000000000",
          "2018-05-01T00:00:00.000000000",
          "2018-06-01T00:00:00.000000000",
          "2018-07-01T00:00:00.000000000",
          "2018-08-01T00:00:00.000000000",
          "2018-09-01T00:00:00.000000000",
          "2018-10-01T00:00:00.000000000",
          "2018-11-01T00:00:00.000000000",
          "2018-12-01T00:00:00.000000000",
          "2019-01-01T00:00:00.000000000",
          "2019-02-01T00:00:00.000000000",
          "2019-03-01T00:00:00.000000000",
          "2019-04-01T00:00:00.000000000",
          "2019-05-01T00:00:00.000000000",
          "2019-06-01T00:00:00.000000000",
          "2019-07-01T00:00:00.000000000",
          "2019-08-01T00:00:00.000000000",
          "2019-09-01T00:00:00.000000000",
          "2019-10-01T00:00:00.000000000",
          "2019-11-01T00:00:00.000000000",
          "2019-12-01T00:00:00.000000000",
          "2020-01-01T00:00:00.000000000",
          "2020-02-01T00:00:00.000000000",
          "2020-03-01T00:00:00.000000000",
          "2020-04-01T00:00:00.000000000",
          "2020-05-01T00:00:00.000000000",
          "2020-06-01T00:00:00.000000000",
          "2020-07-01T00:00:00.000000000",
          "2020-08-01T00:00:00.000000000",
          "2020-09-01T00:00:00.000000000",
          "2020-10-01T00:00:00.000000000",
          "2020-11-01T00:00:00.000000000",
          "2020-12-01T00:00:00.000000000",
          "2021-01-01T00:00:00.000000000",
          "2021-02-01T00:00:00.000000000",
          "2021-03-01T00:00:00.000000000",
          "2021-04-01T00:00:00.000000000",
          "2021-05-01T00:00:00.000000000",
          "2021-06-01T00:00:00.000000000",
          "2021-07-01T00:00:00.000000000",
          "2021-08-01T00:00:00.000000000",
          "2021-09-01T00:00:00.000000000",
          "2021-10-01T00:00:00.000000000",
          "2021-11-01T00:00:00.000000000",
          "2021-12-01T00:00:00.000000000",
          "2022-01-01T00:00:00.000000000",
          "2022-02-01T00:00:00.000000000",
          "2022-03-01T00:00:00.000000000",
          "2022-04-01T00:00:00.000000000",
          "2022-05-01T00:00:00.000000000",
          "2022-06-01T00:00:00.000000000",
          "2022-07-01T00:00:00.000000000",
          "2022-08-01T00:00:00.000000000",
          "2022-09-01T00:00:00.000000000",
          "2022-10-01T00:00:00.000000000",
          "2022-11-01T00:00:00.000000000",
          "2022-12-01T00:00:00.000000000",
          "2023-01-01T00:00:00.000000000",
          "2023-02-01T00:00:00.000000000",
          "2023-03-01T00:00:00.000000000",
          "2023-04-01T00:00:00.000000000",
          "2023-05-01T00:00:00.000000000",
          "2023-06-01T00:00:00.000000000",
          "2023-07-01T00:00:00.000000000",
          "2023-08-01T00:00:00.000000000",
          "2023-09-01T00:00:00.000000000",
          "2023-10-01T00:00:00.000000000",
          "2023-11-01T00:00:00.000000000",
          "2023-12-01T00:00:00.000000000",
          "2024-01-01T00:00:00.000000000",
          "2024-02-01T00:00:00.000000000",
          "2024-03-01T00:00:00.000000000",
          "2024-04-01T00:00:00.000000000",
          "2024-05-01T00:00:00.000000000",
          "2024-06-01T00:00:00.000000000",
          "2024-07-01T00:00:00.000000000",
          "2024-08-01T00:00:00.000000000",
          "2024-09-01T00:00:00.000000000",
          "2024-10-01T00:00:00.000000000",
          "2024-11-01T00:00:00.000000000",
          "2024-12-01T00:00:00.000000000"
         ],
         "y": [
          79,
          70,
          101,
          82,
          168,
          148,
          143,
          167,
          136,
          157,
          105,
          124,
          102,
          85,
          140,
          112,
          121,
          122,
          120,
          135,
          98,
          111,
          109,
          99,
          88,
          95,
          140,
          152,
          150,
          109,
          142,
          134,
          119,
          118,
          118,
          78,
          137,
          108,
          100,
          149,
          153,
          113,
          122,
          135,
          124,
          118,
          85,
          88,
          96,
          81,
          64,
          73,
          118,
          139,
          154,
          144,
          166,
          154,
          177,
          145,
          148,
          129,
          110,
          94,
          33,
          157,
          161,
          181,
          173,
          163,
          136,
          151,
          85,
          119,
          166,
          125,
          162,
          133,
          157,
          208,
          176,
          160,
          172,
          136,
          181,
          149,
          169,
          140,
          187,
          186,
          188,
          206,
          178,
          192,
          177,
          210,
          199,
          153,
          186,
          217,
          144,
          194,
          201,
          165,
          157,
          222,
          150,
          154
         ]
        },
        {
         "line": {
          "color": "black",
          "dash": "dot"
         },
         "mode": "lines",
         "name": "Baseline",
         "type": "scatter",
         "x": [
          "2016-01-01T00:00:00.000000000",
          "2016-02-01T00:00:00.000000000",
          "2016-03-01T00:00:00.000000000",
          "2016-04-01T00:00:00.000000000",
          "2016-05-01T00:00:00.000000000",
          "2016-06-01T00:00:00.000000000",
          "2016-07-01T00:00:00.000000000",
          "2016-08-01T00:00:00.000000000",
          "2016-09-01T00:00:00.000000000",
          "2016-10-01T00:00:00.000000000",
          "2016-11-01T00:00:00.000000000",
          "2016-12-01T00:00:00.000000000",
          "2017-01-01T00:00:00.000000000",
          "2017-02-01T00:00:00.000000000",
          "2017-03-01T00:00:00.000000000",
          "2017-04-01T00:00:00.000000000",
          "2017-05-01T00:00:00.000000000",
          "2017-06-01T00:00:00.000000000",
          "2017-07-01T00:00:00.000000000",
          "2017-08-01T00:00:00.000000000",
          "2017-09-01T00:00:00.000000000",
          "2017-10-01T00:00:00.000000000",
          "2017-11-01T00:00:00.000000000",
          "2017-12-01T00:00:00.000000000",
          "2018-01-01T00:00:00.000000000",
          "2018-02-01T00:00:00.000000000",
          "2018-03-01T00:00:00.000000000",
          "2018-04-01T00:00:00.000000000",
          "2018-05-01T00:00:00.000000000",
          "2018-06-01T00:00:00.000000000",
          "2018-07-01T00:00:00.000000000",
          "2018-08-01T00:00:00.000000000",
          "2018-09-01T00:00:00.000000000",
          "2018-10-01T00:00:00.000000000",
          "2018-11-01T00:00:00.000000000",
          "2018-12-01T00:00:00.000000000",
          "2019-01-01T00:00:00.000000000",
          "2019-02-01T00:00:00.000000000",
          "2019-03-01T00:00:00.000000000",
          "2019-04-01T00:00:00.000000000",
          "2019-05-01T00:00:00.000000000",
          "2019-06-01T00:00:00.000000000",
          "2019-07-01T00:00:00.000000000",
          "2019-08-01T00:00:00.000000000",
          "2019-09-01T00:00:00.000000000",
          "2019-10-01T00:00:00.000000000",
          "2019-11-01T00:00:00.000000000",
          "2019-12-01T00:00:00.000000000",
          "2020-01-01T00:00:00.000000000",
          "2020-02-01T00:00:00.000000000",
          "2020-03-01T00:00:00.000000000",
          "2020-04-01T00:00:00.000000000",
          "2020-05-01T00:00:00.000000000",
          "2020-06-01T00:00:00.000000000",
          "2020-07-01T00:00:00.000000000",
          "2020-08-01T00:00:00.000000000",
          "2020-09-01T00:00:00.000000000",
          "2020-10-01T00:00:00.000000000",
          "2020-11-01T00:00:00.000000000",
          "2020-12-01T00:00:00.000000000",
          "2021-01-01T00:00:00.000000000",
          "2021-02-01T00:00:00.000000000",
          "2021-03-01T00:00:00.000000000",
          "2021-04-01T00:00:00.000000000",
          "2021-05-01T00:00:00.000000000",
          "2021-06-01T00:00:00.000000000",
          "2021-07-01T00:00:00.000000000",
          "2021-08-01T00:00:00.000000000",
          "2021-09-01T00:00:00.000000000",
          "2021-10-01T00:00:00.000000000",
          "2021-11-01T00:00:00.000000000",
          "2021-12-01T00:00:00.000000000",
          "2022-01-01T00:00:00.000000000",
          "2022-02-01T00:00:00.000000000",
          "2022-03-01T00:00:00.000000000",
          "2022-04-01T00:00:00.000000000",
          "2022-05-01T00:00:00.000000000",
          "2022-06-01T00:00:00.000000000",
          "2022-07-01T00:00:00.000000000",
          "2022-08-01T00:00:00.000000000",
          "2022-09-01T00:00:00.000000000",
          "2022-10-01T00:00:00.000000000",
          "2022-11-01T00:00:00.000000000",
          "2022-12-01T00:00:00.000000000",
          "2023-01-01T00:00:00.000000000",
          "2023-02-01T00:00:00.000000000",
          "2023-03-01T00:00:00.000000000",
          "2023-04-01T00:00:00.000000000",
          "2023-05-01T00:00:00.000000000",
          "2023-06-01T00:00:00.000000000",
          "2023-07-01T00:00:00.000000000",
          "2023-08-01T00:00:00.000000000",
          "2023-09-01T00:00:00.000000000",
          "2023-10-01T00:00:00.000000000",
          "2023-11-01T00:00:00.000000000",
          "2023-12-01T00:00:00.000000000",
          "2024-01-01T00:00:00.000000000",
          "2024-02-01T00:00:00.000000000",
          "2024-03-01T00:00:00.000000000",
          "2024-04-01T00:00:00.000000000",
          "2024-05-01T00:00:00.000000000",
          "2024-06-01T00:00:00.000000000",
          "2024-07-01T00:00:00.000000000",
          "2024-08-01T00:00:00.000000000",
          "2024-09-01T00:00:00.000000000",
          "2024-10-01T00:00:00.000000000",
          "2024-11-01T00:00:00.000000000",
          "2024-12-01T00:00:00.000000000"
         ],
         "y": [
          111.73919222811138,
          111.56711141125176,
          111.39503059439214,
          111.22294977753252,
          111.05086896067291,
          110.8787881438133,
          110.70670732695368,
          110.53462651009406,
          110.36254569323444,
          110.19046487637482,
          110.0183840595152,
          109.84630324265558,
          109.67422242579596,
          109.50214160893636,
          109.33006079207674,
          109.15797997521712,
          108.9858991583575,
          108.81381834149788,
          108.64173752463826,
          108.46965670777864,
          108.29757589091902,
          108.12549507405942,
          107.9534142571998,
          107.78133344034018,
          107.60925262348056,
          107.43717180662094,
          107.26509098976132,
          107.0930101729017,
          106.92092935604208,
          106.74884853918246,
          106.57676772232284,
          106.40468690546324,
          106.23260608860362,
          106.060525271744,
          105.88844445488438,
          105.71636363802476,
          105.54428282116514,
          105.37220200430552,
          105.2001211874459,
          105.0280403705863,
          104.85595955372668,
          104.68387873686706,
          104.51179792000744,
          104.33971710314782,
          104.1676362862882,
          103.99555546942858,
          103.82347465256896,
          103.65139383570934,
          103.47931301884972,
          103.30723220199012,
          103.1351513851305,
          102.96307056827088,
          102.79098975141126,
          102.61890893455164,
          102.44682811769202,
          102.2747473008324,
          102.1026664839728,
          101.93058566711318,
          101.75850485025356,
          101.58642403339394,
          101.41434321653432,
          101.2422623996747,
          101.07018158281508,
          100.89810076595546,
          100.72601994909584,
          100.55393913223622,
          100.38185831537662,
          100.209777498517,
          100.03769668165738,
          99.86561586479776,
          99.69353504793814,
          99.52145423107852,
          99.3493734142189,
          99.17729259735928,
          99.00521178049968,
          98.83313096364006,
          98.66105014678044,
          98.48896932992082,
          98.3168885130612,
          98.14480769620158,
          97.97272687934196,
          97.80064606248234,
          97.62856524562272,
          97.4564844287631,
          97.2844036119035,
          97.11232279504388,
          96.94024197818426,
          96.76816116132464,
          96.59608034446502,
          96.4239995276054,
          96.25191871074578,
          96.07983789388616,
          95.90775707702656,
          95.73567626016694,
          95.56359544330732,
          95.3915146264477,
          95.21943380958808,
          95.04735299272846,
          94.87527217586884,
          94.70319135900922,
          94.5311105421496,
          94.35902972528999,
          94.18694890843038,
          94.01486809157076,
          93.84278727471114,
          93.67070645785152,
          93.4986256409919,
          93.32654482413228
         ]
        },
        {
         "line": {
          "color": "purple"
         },
         "mode": "lines",
         "name": "Full model",
         "type": "scatter",
         "x": [
          "2016-01-01T00:00:00.000000000",
          "2016-02-01T00:00:00.000000000",
          "2016-03-01T00:00:00.000000000",
          "2016-04-01T00:00:00.000000000",
          "2016-05-01T00:00:00.000000000",
          "2016-06-01T00:00:00.000000000",
          "2016-07-01T00:00:00.000000000",
          "2016-08-01T00:00:00.000000000",
          "2016-09-01T00:00:00.000000000",
          "2016-10-01T00:00:00.000000000",
          "2016-11-01T00:00:00.000000000",
          "2016-12-01T00:00:00.000000000",
          "2017-01-01T00:00:00.000000000",
          "2017-02-01T00:00:00.000000000",
          "2017-03-01T00:00:00.000000000",
          "2017-04-01T00:00:00.000000000",
          "2017-05-01T00:00:00.000000000",
          "2017-06-01T00:00:00.000000000",
          "2017-07-01T00:00:00.000000000",
          "2017-08-01T00:00:00.000000000",
          "2017-09-01T00:00:00.000000000",
          "2017-10-01T00:00:00.000000000",
          "2017-11-01T00:00:00.000000000",
          "2017-12-01T00:00:00.000000000",
          "2018-01-01T00:00:00.000000000",
          "2018-02-01T00:00:00.000000000",
          "2018-03-01T00:00:00.000000000",
          "2018-04-01T00:00:00.000000000",
          "2018-05-01T00:00:00.000000000",
          "2018-06-01T00:00:00.000000000",
          "2018-07-01T00:00:00.000000000",
          "2018-08-01T00:00:00.000000000",
          "2018-09-01T00:00:00.000000000",
          "2018-10-01T00:00:00.000000000",
          "2018-11-01T00:00:00.000000000",
          "2018-12-01T00:00:00.000000000",
          "2019-01-01T00:00:00.000000000",
          "2019-02-01T00:00:00.000000000",
          "2019-03-01T00:00:00.000000000",
          "2019-04-01T00:00:00.000000000",
          "2019-05-01T00:00:00.000000000",
          "2019-06-01T00:00:00.000000000",
          "2019-07-01T00:00:00.000000000",
          "2019-08-01T00:00:00.000000000",
          "2019-09-01T00:00:00.000000000",
          "2019-10-01T00:00:00.000000000",
          "2019-11-01T00:00:00.000000000",
          "2019-12-01T00:00:00.000000000",
          "2020-01-01T00:00:00.000000000",
          "2020-02-01T00:00:00.000000000",
          "2020-03-01T00:00:00.000000000",
          "2020-04-01T00:00:00.000000000",
          "2020-05-01T00:00:00.000000000",
          "2020-06-01T00:00:00.000000000",
          "2020-07-01T00:00:00.000000000",
          "2020-08-01T00:00:00.000000000",
          "2020-09-01T00:00:00.000000000",
          "2020-10-01T00:00:00.000000000",
          "2020-11-01T00:00:00.000000000",
          "2020-12-01T00:00:00.000000000",
          "2021-01-01T00:00:00.000000000",
          "2021-02-01T00:00:00.000000000",
          "2021-03-01T00:00:00.000000000",
          "2021-04-01T00:00:00.000000000",
          "2021-05-01T00:00:00.000000000",
          "2021-06-01T00:00:00.000000000",
          "2021-07-01T00:00:00.000000000",
          "2021-08-01T00:00:00.000000000",
          "2021-09-01T00:00:00.000000000",
          "2021-10-01T00:00:00.000000000",
          "2021-11-01T00:00:00.000000000",
          "2021-12-01T00:00:00.000000000",
          "2022-01-01T00:00:00.000000000",
          "2022-02-01T00:00:00.000000000",
          "2022-03-01T00:00:00.000000000",
          "2022-04-01T00:00:00.000000000",
          "2022-05-01T00:00:00.000000000",
          "2022-06-01T00:00:00.000000000",
          "2022-07-01T00:00:00.000000000",
          "2022-08-01T00:00:00.000000000",
          "2022-09-01T00:00:00.000000000",
          "2022-10-01T00:00:00.000000000",
          "2022-11-01T00:00:00.000000000",
          "2022-12-01T00:00:00.000000000",
          "2023-01-01T00:00:00.000000000",
          "2023-02-01T00:00:00.000000000",
          "2023-03-01T00:00:00.000000000",
          "2023-04-01T00:00:00.000000000",
          "2023-05-01T00:00:00.000000000",
          "2023-06-01T00:00:00.000000000",
          "2023-07-01T00:00:00.000000000",
          "2023-08-01T00:00:00.000000000",
          "2023-09-01T00:00:00.000000000",
          "2023-10-01T00:00:00.000000000",
          "2023-11-01T00:00:00.000000000",
          "2023-12-01T00:00:00.000000000",
          "2024-01-01T00:00:00.000000000",
          "2024-02-01T00:00:00.000000000",
          "2024-03-01T00:00:00.000000000",
          "2024-04-01T00:00:00.000000000",
          "2024-05-01T00:00:00.000000000",
          "2024-06-01T00:00:00.000000000",
          "2024-07-01T00:00:00.000000000",
          "2024-08-01T00:00:00.000000000",
          "2024-09-01T00:00:00.000000000",
          "2024-10-01T00:00:00.000000000",
          "2024-11-01T00:00:00.000000000",
          "2024-12-01T00:00:00.000000000"
         ],
         "y": [
          111.73919222811138,
          111.56711141125176,
          111.39503059439214,
          111.22294977753252,
          111.05086896067291,
          110.8787881438133,
          110.70670732695368,
          110.53462651009406,
          110.36254569323444,
          110.19046487637482,
          110.0183840595152,
          109.84630324265558,
          109.67422242579596,
          109.50214160893636,
          109.33006079207674,
          109.15797997521712,
          108.9858991583575,
          108.81381834149788,
          108.64173752463826,
          108.46965670777864,
          108.29757589091902,
          108.12549507405942,
          107.9534142571998,
          107.78133344034018,
          107.60925262348056,
          107.43717180662094,
          107.26509098976132,
          107.0930101729017,
          106.92092935604208,
          106.74884853918246,
          106.57676772232284,
          106.40468690546324,
          106.23260608860362,
          106.060525271744,
          105.88844445488438,
          105.71636363802476,
          105.54428282116514,
          105.37220200430552,
          105.2001211874459,
          105.0280403705863,
          104.85595955372668,
          104.68387873686706,
          104.51179792000744,
          104.33971710314782,
          104.1676362862882,
          103.99555546942858,
          103.82347465256896,
          103.65139383570934,
          118.47931301884972,
          119.30723220199012,
          94.1351513851305,
          93.96307056827088,
          93.79098975141126,
          93.61890893455164,
          93.44682811769202,
          124.2747473008324,
          126.1026664839728,
          126.93058566711318,
          127.75850485025356,
          128.58642403339394,
          129.41434321653432,
          130.2422623996747,
          131.07018158281508,
          48.89810076595546,
          48.72601994909584,
          134.55393913223622,
          135.38185831537663,
          136.20977749851698,
          137.0376966816574,
          137.86561586479775,
          138.69353504793816,
          139.5214542310785,
          140.34937341421892,
          142.17729259735927,
          143.00521178049968,
          143.83313096364006,
          144.66105014678044,
          145.48896932992082,
          146.3168885130612,
          147.14480769620158,
          147.97272687934196,
          148.80064606248234,
          150.62856524562272,
          151.4564844287631,
          152.28440361190349,
          153.1123227950439,
          153.94024197818425,
          154.76816116132466,
          155.596080344465,
          156.42399952760542,
          158.25191871074577,
          159.07983789388618,
          159.90775707702656,
          160.73567626016694,
          161.56359544330732,
          162.3915146264477,
          163.21943380958808,
          164.04735299272846,
          164.87527217586884,
          166.70319135900922,
          167.5311105421496,
          168.35902972529,
          169.1869489084304,
          170.01486809157075,
          170.84278727471116,
          171.6707064578515,
          172.49862564099192,
          174.32654482413227
         ]
        }
       ],
       "layout": {
        "legend": {
         "title": {
          "text": "Legend"
         }
        },
        "template": {
         "data": {
          "bar": [
           {
            "error_x": {
             "color": "#2a3f5f"
            },
            "error_y": {
             "color": "#2a3f5f"
            },
            "marker": {
             "line": {
              "color": "#E5ECF6",
              "width": 0.5
             },
             "pattern": {
              "fillmode": "overlay",
              "size": 10,
              "solidity": 0.2
             }
            },
            "type": "bar"
           }
          ],
          "barpolar": [
           {
            "marker": {
             "line": {
              "color": "#E5ECF6",
              "width": 0.5
             },
             "pattern": {
              "fillmode": "overlay",
              "size": 10,
              "solidity": 0.2
             }
            },
            "type": "barpolar"
           }
          ],
          "carpet": [
           {
            "aaxis": {
             "endlinecolor": "#2a3f5f",
             "gridcolor": "white",
             "linecolor": "white",
             "minorgridcolor": "white",
             "startlinecolor": "#2a3f5f"
            },
            "baxis": {
             "endlinecolor": "#2a3f5f",
             "gridcolor": "white",
             "linecolor": "white",
             "minorgridcolor": "white",
             "startlinecolor": "#2a3f5f"
            },
            "type": "carpet"
           }
          ],
          "choropleth": [
           {
            "colorbar": {
             "outlinewidth": 0,
             "ticks": ""
            },
            "type": "choropleth"
           }
          ],
          "contour": [
           {
            "colorbar": {
             "outlinewidth": 0,
             "ticks": ""
            },
            "colorscale": [
             [
              0,
              "#0d0887"
             ],
             [
              0.1111111111111111,
              "#46039f"
             ],
             [
              0.2222222222222222,
              "#7201a8"
             ],
             [
              0.3333333333333333,
              "#9c179e"
             ],
             [
              0.4444444444444444,
              "#bd3786"
             ],
             [
              0.5555555555555556,
              "#d8576b"
             ],
             [
              0.6666666666666666,
              "#ed7953"
             ],
             [
              0.7777777777777778,
              "#fb9f3a"
             ],
             [
              0.8888888888888888,
              "#fdca26"
             ],
             [
              1,
              "#f0f921"
             ]
            ],
            "type": "contour"
           }
          ],
          "contourcarpet": [
           {
            "colorbar": {
             "outlinewidth": 0,
             "ticks": ""
            },
            "type": "contourcarpet"
           }
          ],
          "heatmap": [
           {
            "colorbar": {
             "outlinewidth": 0,
             "ticks": ""
            },
            "colorscale": [
             [
              0,
              "#0d0887"
             ],
             [
              0.1111111111111111,
              "#46039f"
             ],
             [
              0.2222222222222222,
              "#7201a8"
             ],
             [
              0.3333333333333333,
              "#9c179e"
             ],
             [
              0.4444444444444444,
              "#bd3786"
             ],
             [
              0.5555555555555556,
              "#d8576b"
             ],
             [
              0.6666666666666666,
              "#ed7953"
             ],
             [
              0.7777777777777778,
              "#fb9f3a"
             ],
             [
              0.8888888888888888,
              "#fdca26"
             ],
             [
              1,
              "#f0f921"
             ]
            ],
            "type": "heatmap"
           }
          ],
          "heatmapgl": [
           {
            "colorbar": {
             "outlinewidth": 0,
             "ticks": ""
            },
            "colorscale": [
             [
              0,
              "#0d0887"
             ],
             [
              0.1111111111111111,
              "#46039f"
             ],
             [
              0.2222222222222222,
              "#7201a8"
             ],
             [
              0.3333333333333333,
              "#9c179e"
             ],
             [
              0.4444444444444444,
              "#bd3786"
             ],
             [
              0.5555555555555556,
              "#d8576b"
             ],
             [
              0.6666666666666666,
              "#ed7953"
             ],
             [
              0.7777777777777778,
              "#fb9f3a"
             ],
             [
              0.8888888888888888,
              "#fdca26"
             ],
             [
              1,
              "#f0f921"
             ]
            ],
            "type": "heatmapgl"
           }
          ],
          "histogram": [
           {
            "marker": {
             "pattern": {
              "fillmode": "overlay",
              "size": 10,
              "solidity": 0.2
             }
            },
            "type": "histogram"
           }
          ],
          "histogram2d": [
           {
            "colorbar": {
             "outlinewidth": 0,
             "ticks": ""
            },
            "colorscale": [
             [
              0,
              "#0d0887"
             ],
             [
              0.1111111111111111,
              "#46039f"
             ],
             [
              0.2222222222222222,
              "#7201a8"
             ],
             [
              0.3333333333333333,
              "#9c179e"
             ],
             [
              0.4444444444444444,
              "#bd3786"
             ],
             [
              0.5555555555555556,
              "#d8576b"
             ],
             [
              0.6666666666666666,
              "#ed7953"
             ],
             [
              0.7777777777777778,
              "#fb9f3a"
             ],
             [
              0.8888888888888888,
              "#fdca26"
             ],
             [
              1,
              "#f0f921"
             ]
            ],
            "type": "histogram2d"
           }
          ],
          "histogram2dcontour": [
           {
            "colorbar": {
             "outlinewidth": 0,
             "ticks": ""
            },
            "colorscale": [
             [
              0,
              "#0d0887"
             ],
             [
              0.1111111111111111,
              "#46039f"
             ],
             [
              0.2222222222222222,
              "#7201a8"
             ],
             [
              0.3333333333333333,
              "#9c179e"
             ],
             [
              0.4444444444444444,
              "#bd3786"
             ],
             [
              0.5555555555555556,
              "#d8576b"
             ],
             [
              0.6666666666666666,
              "#ed7953"
             ],
             [
              0.7777777777777778,
              "#fb9f3a"
             ],
             [
              0.8888888888888888,
              "#fdca26"
             ],
             [
              1,
              "#f0f921"
             ]
            ],
            "type": "histogram2dcontour"
           }
          ],
          "mesh3d": [
           {
            "colorbar": {
             "outlinewidth": 0,
             "ticks": ""
            },
            "type": "mesh3d"
           }
          ],
          "parcoords": [
           {
            "line": {
             "colorbar": {
              "outlinewidth": 0,
              "ticks": ""
             }
            },
            "type": "parcoords"
           }
          ],
          "pie": [
           {
            "automargin": true,
            "type": "pie"
           }
          ],
          "scatter": [
           {
            "fillpattern": {
             "fillmode": "overlay",
             "size": 10,
             "solidity": 0.2
            },
            "type": "scatter"
           }
          ],
          "scatter3d": [
           {
            "line": {
             "colorbar": {
              "outlinewidth": 0,
              "ticks": ""
             }
            },
            "marker": {
             "colorbar": {
              "outlinewidth": 0,
              "ticks": ""
             }
            },
            "type": "scatter3d"
           }
          ],
          "scattercarpet": [
           {
            "marker": {
             "colorbar": {
              "outlinewidth": 0,
              "ticks": ""
             }
            },
            "type": "scattercarpet"
           }
          ],
          "scattergeo": [
           {
            "marker": {
             "colorbar": {
              "outlinewidth": 0,
              "ticks": ""
             }
            },
            "type": "scattergeo"
           }
          ],
          "scattergl": [
           {
            "marker": {
             "colorbar": {
              "outlinewidth": 0,
              "ticks": ""
             }
            },
            "type": "scattergl"
           }
          ],
          "scattermapbox": [
           {
            "marker": {
             "colorbar": {
              "outlinewidth": 0,
              "ticks": ""
             }
            },
            "type": "scattermapbox"
           }
          ],
          "scatterpolar": [
           {
            "marker": {
             "colorbar": {
              "outlinewidth": 0,
              "ticks": ""
             }
            },
            "type": "scatterpolar"
           }
          ],
          "scatterpolargl": [
           {
            "marker": {
             "colorbar": {
              "outlinewidth": 0,
              "ticks": ""
             }
            },
            "type": "scatterpolargl"
           }
          ],
          "scatterternary": [
           {
            "marker": {
             "colorbar": {
              "outlinewidth": 0,
              "ticks": ""
             }
            },
            "type": "scatterternary"
           }
          ],
          "surface": [
           {
            "colorbar": {
             "outlinewidth": 0,
             "ticks": ""
            },
            "colorscale": [
             [
              0,
              "#0d0887"
             ],
             [
              0.1111111111111111,
              "#46039f"
             ],
             [
              0.2222222222222222,
              "#7201a8"
             ],
             [
              0.3333333333333333,
              "#9c179e"
             ],
             [
              0.4444444444444444,
              "#bd3786"
             ],
             [
              0.5555555555555556,
              "#d8576b"
             ],
             [
              0.6666666666666666,
              "#ed7953"
             ],
             [
              0.7777777777777778,
              "#fb9f3a"
             ],
             [
              0.8888888888888888,
              "#fdca26"
             ],
             [
              1,
              "#f0f921"
             ]
            ],
            "type": "surface"
           }
          ],
          "table": [
           {
            "cells": {
             "fill": {
              "color": "#EBF0F8"
             },
             "line": {
              "color": "white"
             }
            },
            "header": {
             "fill": {
              "color": "#C8D4E3"
             },
             "line": {
              "color": "white"
             }
            },
            "type": "table"
           }
          ]
         },
         "layout": {
          "annotationdefaults": {
           "arrowcolor": "#2a3f5f",
           "arrowhead": 0,
           "arrowwidth": 1
          },
          "autotypenumbers": "strict",
          "coloraxis": {
           "colorbar": {
            "outlinewidth": 0,
            "ticks": ""
           }
          },
          "colorscale": {
           "diverging": [
            [
             0,
             "#8e0152"
            ],
            [
             0.1,
             "#c51b7d"
            ],
            [
             0.2,
             "#de77ae"
            ],
            [
             0.3,
             "#f1b6da"
            ],
            [
             0.4,
             "#fde0ef"
            ],
            [
             0.5,
             "#f7f7f7"
            ],
            [
             0.6,
             "#e6f5d0"
            ],
            [
             0.7,
             "#b8e186"
            ],
            [
             0.8,
             "#7fbc41"
            ],
            [
             0.9,
             "#4d9221"
            ],
            [
             1,
             "#276419"
            ]
           ],
           "sequential": [
            [
             0,
             "#0d0887"
            ],
            [
             0.1111111111111111,
             "#46039f"
            ],
            [
             0.2222222222222222,
             "#7201a8"
            ],
            [
             0.3333333333333333,
             "#9c179e"
            ],
            [
             0.4444444444444444,
             "#bd3786"
            ],
            [
             0.5555555555555556,
             "#d8576b"
            ],
            [
             0.6666666666666666,
             "#ed7953"
            ],
            [
             0.7777777777777778,
             "#fb9f3a"
            ],
            [
             0.8888888888888888,
             "#fdca26"
            ],
            [
             1,
             "#f0f921"
            ]
           ],
           "sequentialminus": [
            [
             0,
             "#0d0887"
            ],
            [
             0.1111111111111111,
             "#46039f"
            ],
            [
             0.2222222222222222,
             "#7201a8"
            ],
            [
             0.3333333333333333,
             "#9c179e"
            ],
            [
             0.4444444444444444,
             "#bd3786"
            ],
            [
             0.5555555555555556,
             "#d8576b"
            ],
            [
             0.6666666666666666,
             "#ed7953"
            ],
            [
             0.7777777777777778,
             "#fb9f3a"
            ],
            [
             0.8888888888888888,
             "#fdca26"
            ],
            [
             1,
             "#f0f921"
            ]
           ]
          },
          "colorway": [
           "#636efa",
           "#EF553B",
           "#00cc96",
           "#ab63fa",
           "#FFA15A",
           "#19d3f3",
           "#FF6692",
           "#B6E880",
           "#FF97FF",
           "#FECB52"
          ],
          "font": {
           "color": "#2a3f5f"
          },
          "geo": {
           "bgcolor": "white",
           "lakecolor": "white",
           "landcolor": "#E5ECF6",
           "showlakes": true,
           "showland": true,
           "subunitcolor": "white"
          },
          "hoverlabel": {
           "align": "left"
          },
          "hovermode": "closest",
          "mapbox": {
           "style": "light"
          },
          "paper_bgcolor": "white",
          "plot_bgcolor": "#E5ECF6",
          "polar": {
           "angularaxis": {
            "gridcolor": "white",
            "linecolor": "white",
            "ticks": ""
           },
           "bgcolor": "#E5ECF6",
           "radialaxis": {
            "gridcolor": "white",
            "linecolor": "white",
            "ticks": ""
           }
          },
          "scene": {
           "xaxis": {
            "backgroundcolor": "#E5ECF6",
            "gridcolor": "white",
            "gridwidth": 2,
            "linecolor": "white",
            "showbackground": true,
            "ticks": "",
            "zerolinecolor": "white"
           },
           "yaxis": {
            "backgroundcolor": "#E5ECF6",
            "gridcolor": "white",
            "gridwidth": 2,
            "linecolor": "white",
            "showbackground": true,
            "ticks": "",
            "zerolinecolor": "white"
           },
           "zaxis": {
            "backgroundcolor": "#E5ECF6",
            "gridcolor": "white",
            "gridwidth": 2,
            "linecolor": "white",
            "showbackground": true,
            "ticks": "",
            "zerolinecolor": "white"
           }
          },
          "shapedefaults": {
           "line": {
            "color": "#2a3f5f"
           }
          },
          "ternary": {
           "aaxis": {
            "gridcolor": "white",
            "linecolor": "white",
            "ticks": ""
           },
           "baxis": {
            "gridcolor": "white",
            "linecolor": "white",
            "ticks": ""
           },
           "bgcolor": "#E5ECF6",
           "caxis": {
            "gridcolor": "white",
            "linecolor": "white",
            "ticks": ""
           }
          },
          "title": {
           "x": 0.05
          },
          "xaxis": {
           "automargin": true,
           "gridcolor": "white",
           "linecolor": "white",
           "ticks": "",
           "title": {
            "standoff": 15
           },
           "zerolinecolor": "white",
           "zerolinewidth": 2
          },
          "yaxis": {
           "automargin": true,
           "gridcolor": "white",
           "linecolor": "white",
           "ticks": "",
           "title": {
            "standoff": 15
           },
           "zerolinecolor": "white",
           "zerolinewidth": 2
          }
         }
        },
        "title": {
         "text": "F50-F59 - Síndromes comportamentais associadas a disfunções fisiológicas e a fatores físicos"
        },
        "xaxis": {
         "title": {
          "text": "Time"
         }
        },
        "yaxis": {
         "title": {
          "text": "Value"
         }
        }
       }
      }
     },
     "metadata": {},
     "output_type": "display_data"
    },
    {
     "data": {
      "application/vnd.plotly.v1+json": {
       "config": {
        "plotlyServerURL": "https://plot.ly"
       },
       "data": [
        {
         "marker": {
          "color": "black"
         },
         "mode": "markers",
         "name": "Real",
         "type": "scatter",
         "x": [
          "2016-01-01T00:00:00.000000000",
          "2016-02-01T00:00:00.000000000",
          "2016-03-01T00:00:00.000000000",
          "2016-04-01T00:00:00.000000000",
          "2016-05-01T00:00:00.000000000",
          "2016-06-01T00:00:00.000000000",
          "2016-07-01T00:00:00.000000000",
          "2016-08-01T00:00:00.000000000",
          "2016-09-01T00:00:00.000000000",
          "2016-10-01T00:00:00.000000000",
          "2016-11-01T00:00:00.000000000",
          "2016-12-01T00:00:00.000000000",
          "2017-01-01T00:00:00.000000000",
          "2017-02-01T00:00:00.000000000",
          "2017-03-01T00:00:00.000000000",
          "2017-04-01T00:00:00.000000000",
          "2017-05-01T00:00:00.000000000",
          "2017-06-01T00:00:00.000000000",
          "2017-07-01T00:00:00.000000000",
          "2017-08-01T00:00:00.000000000",
          "2017-09-01T00:00:00.000000000",
          "2017-10-01T00:00:00.000000000",
          "2017-11-01T00:00:00.000000000",
          "2017-12-01T00:00:00.000000000",
          "2018-01-01T00:00:00.000000000",
          "2018-02-01T00:00:00.000000000",
          "2018-03-01T00:00:00.000000000",
          "2018-04-01T00:00:00.000000000",
          "2018-05-01T00:00:00.000000000",
          "2018-06-01T00:00:00.000000000",
          "2018-07-01T00:00:00.000000000",
          "2018-08-01T00:00:00.000000000",
          "2018-09-01T00:00:00.000000000",
          "2018-10-01T00:00:00.000000000",
          "2018-11-01T00:00:00.000000000",
          "2018-12-01T00:00:00.000000000",
          "2019-01-01T00:00:00.000000000",
          "2019-02-01T00:00:00.000000000",
          "2019-03-01T00:00:00.000000000",
          "2019-04-01T00:00:00.000000000",
          "2019-05-01T00:00:00.000000000",
          "2019-06-01T00:00:00.000000000",
          "2019-07-01T00:00:00.000000000",
          "2019-08-01T00:00:00.000000000",
          "2019-09-01T00:00:00.000000000",
          "2019-10-01T00:00:00.000000000",
          "2019-11-01T00:00:00.000000000",
          "2019-12-01T00:00:00.000000000",
          "2020-01-01T00:00:00.000000000",
          "2020-02-01T00:00:00.000000000",
          "2020-03-01T00:00:00.000000000",
          "2020-04-01T00:00:00.000000000",
          "2020-05-01T00:00:00.000000000",
          "2020-06-01T00:00:00.000000000",
          "2020-07-01T00:00:00.000000000",
          "2020-08-01T00:00:00.000000000",
          "2020-09-01T00:00:00.000000000",
          "2020-10-01T00:00:00.000000000",
          "2020-11-01T00:00:00.000000000",
          "2020-12-01T00:00:00.000000000",
          "2021-01-01T00:00:00.000000000",
          "2021-02-01T00:00:00.000000000",
          "2021-03-01T00:00:00.000000000",
          "2021-04-01T00:00:00.000000000",
          "2021-05-01T00:00:00.000000000",
          "2021-06-01T00:00:00.000000000",
          "2021-07-01T00:00:00.000000000",
          "2021-08-01T00:00:00.000000000",
          "2021-09-01T00:00:00.000000000",
          "2021-10-01T00:00:00.000000000",
          "2021-11-01T00:00:00.000000000",
          "2021-12-01T00:00:00.000000000",
          "2022-01-01T00:00:00.000000000",
          "2022-02-01T00:00:00.000000000",
          "2022-03-01T00:00:00.000000000",
          "2022-04-01T00:00:00.000000000",
          "2022-05-01T00:00:00.000000000",
          "2022-06-01T00:00:00.000000000",
          "2022-07-01T00:00:00.000000000",
          "2022-08-01T00:00:00.000000000",
          "2022-09-01T00:00:00.000000000",
          "2022-10-01T00:00:00.000000000",
          "2022-11-01T00:00:00.000000000",
          "2022-12-01T00:00:00.000000000",
          "2023-01-01T00:00:00.000000000",
          "2023-02-01T00:00:00.000000000",
          "2023-03-01T00:00:00.000000000",
          "2023-04-01T00:00:00.000000000",
          "2023-05-01T00:00:00.000000000",
          "2023-06-01T00:00:00.000000000",
          "2023-07-01T00:00:00.000000000",
          "2023-08-01T00:00:00.000000000",
          "2023-09-01T00:00:00.000000000",
          "2023-10-01T00:00:00.000000000",
          "2023-11-01T00:00:00.000000000",
          "2023-12-01T00:00:00.000000000",
          "2024-01-01T00:00:00.000000000",
          "2024-02-01T00:00:00.000000000",
          "2024-03-01T00:00:00.000000000",
          "2024-04-01T00:00:00.000000000",
          "2024-05-01T00:00:00.000000000",
          "2024-06-01T00:00:00.000000000",
          "2024-07-01T00:00:00.000000000",
          "2024-08-01T00:00:00.000000000",
          "2024-09-01T00:00:00.000000000",
          "2024-10-01T00:00:00.000000000",
          "2024-11-01T00:00:00.000000000",
          "2024-12-01T00:00:00.000000000"
         ],
         "y": [
          796,
          788,
          1152,
          1035,
          1526,
          1686,
          1512,
          1817,
          1685,
          1498,
          1214,
          1141,
          1074,
          1022,
          1551,
          1269,
          1443,
          1411,
          1376,
          1418,
          1348,
          1368,
          1490,
          1369,
          1308,
          1234,
          1709,
          1694,
          1628,
          1393,
          1531,
          1589,
          1435,
          1823,
          1613,
          1458,
          1592,
          1540,
          1459,
          1840,
          1897,
          1593,
          1782,
          1829,
          1591,
          1763,
          1427,
          1138,
          1490,
          1420,
          1245,
          1331,
          1673,
          1950,
          1815,
          2070,
          2431,
          2489,
          2483,
          2530,
          2361,
          2223,
          2554,
          1764,
          600,
          2822,
          3074,
          3136,
          2996,
          3130,
          2852,
          2726,
          1686,
          2261,
          3205,
          2506,
          2671,
          2772,
          3030,
          3358,
          3205,
          3681,
          3610,
          3504,
          4118,
          3417,
          4601,
          3811,
          4466,
          4154,
          4304,
          5195,
          4322,
          5342,
          5402,
          5139,
          5403,
          4873,
          5139,
          5844,
          4474,
          5189,
          5477,
          5584,
          5031,
          6308,
          5250,
          5037
         ]
        },
        {
         "line": {
          "color": "black",
          "dash": "dot"
         },
         "mode": "lines",
         "name": "Baseline",
         "type": "scatter",
         "x": [
          "2016-01-01T00:00:00.000000000",
          "2016-02-01T00:00:00.000000000",
          "2016-03-01T00:00:00.000000000",
          "2016-04-01T00:00:00.000000000",
          "2016-05-01T00:00:00.000000000",
          "2016-06-01T00:00:00.000000000",
          "2016-07-01T00:00:00.000000000",
          "2016-08-01T00:00:00.000000000",
          "2016-09-01T00:00:00.000000000",
          "2016-10-01T00:00:00.000000000",
          "2016-11-01T00:00:00.000000000",
          "2016-12-01T00:00:00.000000000",
          "2017-01-01T00:00:00.000000000",
          "2017-02-01T00:00:00.000000000",
          "2017-03-01T00:00:00.000000000",
          "2017-04-01T00:00:00.000000000",
          "2017-05-01T00:00:00.000000000",
          "2017-06-01T00:00:00.000000000",
          "2017-07-01T00:00:00.000000000",
          "2017-08-01T00:00:00.000000000",
          "2017-09-01T00:00:00.000000000",
          "2017-10-01T00:00:00.000000000",
          "2017-11-01T00:00:00.000000000",
          "2017-12-01T00:00:00.000000000",
          "2018-01-01T00:00:00.000000000",
          "2018-02-01T00:00:00.000000000",
          "2018-03-01T00:00:00.000000000",
          "2018-04-01T00:00:00.000000000",
          "2018-05-01T00:00:00.000000000",
          "2018-06-01T00:00:00.000000000",
          "2018-07-01T00:00:00.000000000",
          "2018-08-01T00:00:00.000000000",
          "2018-09-01T00:00:00.000000000",
          "2018-10-01T00:00:00.000000000",
          "2018-11-01T00:00:00.000000000",
          "2018-12-01T00:00:00.000000000",
          "2019-01-01T00:00:00.000000000",
          "2019-02-01T00:00:00.000000000",
          "2019-03-01T00:00:00.000000000",
          "2019-04-01T00:00:00.000000000",
          "2019-05-01T00:00:00.000000000",
          "2019-06-01T00:00:00.000000000",
          "2019-07-01T00:00:00.000000000",
          "2019-08-01T00:00:00.000000000",
          "2019-09-01T00:00:00.000000000",
          "2019-10-01T00:00:00.000000000",
          "2019-11-01T00:00:00.000000000",
          "2019-12-01T00:00:00.000000000",
          "2020-01-01T00:00:00.000000000",
          "2020-02-01T00:00:00.000000000",
          "2020-03-01T00:00:00.000000000",
          "2020-04-01T00:00:00.000000000",
          "2020-05-01T00:00:00.000000000",
          "2020-06-01T00:00:00.000000000",
          "2020-07-01T00:00:00.000000000",
          "2020-08-01T00:00:00.000000000",
          "2020-09-01T00:00:00.000000000",
          "2020-10-01T00:00:00.000000000",
          "2020-11-01T00:00:00.000000000",
          "2020-12-01T00:00:00.000000000",
          "2021-01-01T00:00:00.000000000",
          "2021-02-01T00:00:00.000000000",
          "2021-03-01T00:00:00.000000000",
          "2021-04-01T00:00:00.000000000",
          "2021-05-01T00:00:00.000000000",
          "2021-06-01T00:00:00.000000000",
          "2021-07-01T00:00:00.000000000",
          "2021-08-01T00:00:00.000000000",
          "2021-09-01T00:00:00.000000000",
          "2021-10-01T00:00:00.000000000",
          "2021-11-01T00:00:00.000000000",
          "2021-12-01T00:00:00.000000000",
          "2022-01-01T00:00:00.000000000",
          "2022-02-01T00:00:00.000000000",
          "2022-03-01T00:00:00.000000000",
          "2022-04-01T00:00:00.000000000",
          "2022-05-01T00:00:00.000000000",
          "2022-06-01T00:00:00.000000000",
          "2022-07-01T00:00:00.000000000",
          "2022-08-01T00:00:00.000000000",
          "2022-09-01T00:00:00.000000000",
          "2022-10-01T00:00:00.000000000",
          "2022-11-01T00:00:00.000000000",
          "2022-12-01T00:00:00.000000000",
          "2023-01-01T00:00:00.000000000",
          "2023-02-01T00:00:00.000000000",
          "2023-03-01T00:00:00.000000000",
          "2023-04-01T00:00:00.000000000",
          "2023-05-01T00:00:00.000000000",
          "2023-06-01T00:00:00.000000000",
          "2023-07-01T00:00:00.000000000",
          "2023-08-01T00:00:00.000000000",
          "2023-09-01T00:00:00.000000000",
          "2023-10-01T00:00:00.000000000",
          "2023-11-01T00:00:00.000000000",
          "2023-12-01T00:00:00.000000000",
          "2024-01-01T00:00:00.000000000",
          "2024-02-01T00:00:00.000000000",
          "2024-03-01T00:00:00.000000000",
          "2024-04-01T00:00:00.000000000",
          "2024-05-01T00:00:00.000000000",
          "2024-06-01T00:00:00.000000000",
          "2024-07-01T00:00:00.000000000",
          "2024-08-01T00:00:00.000000000",
          "2024-09-01T00:00:00.000000000",
          "2024-10-01T00:00:00.000000000",
          "2024-11-01T00:00:00.000000000",
          "2024-12-01T00:00:00.000000000"
         ],
         "y": [
          1175.964089839511,
          1182.0904334301788,
          1188.2167770208468,
          1194.343120611515,
          1200.4694642021827,
          1206.5958077928508,
          1212.7221513835188,
          1218.848494974187,
          1224.9748385648547,
          1231.1011821555228,
          1237.2275257461908,
          1243.3538693368587,
          1249.4802129275267,
          1255.6065565181948,
          1261.7329001088626,
          1267.8592436995307,
          1273.9855872901987,
          1280.1119308808666,
          1286.2382744715346,
          1292.3646180622027,
          1298.4909616528707,
          1304.6173052435386,
          1310.7436488342066,
          1316.8699924248747,
          1322.9963360155425,
          1329.1226796062106,
          1335.2490231968786,
          1341.3753667875465,
          1347.5017103782145,
          1353.6280539688826,
          1359.7543975595504,
          1365.8807411502185,
          1372.0070847408865,
          1378.1334283315546,
          1384.2597719222224,
          1390.3861155128905,
          1396.5124591035585,
          1402.6388026942263,
          1408.7651462848944,
          1414.8914898755625,
          1421.0178334662303,
          1427.1441770568983,
          1433.2705206475664,
          1439.3968642382342,
          1445.5232078289023,
          1451.6495514195703,
          1457.7758950102384,
          1463.9022386009062,
          1470.0285821915743,
          1476.1549257822421,
          1482.2812693729102,
          1488.4076129635782,
          1494.5339565542463,
          1500.6603001449141,
          1506.7866437355822,
          1512.9129873262502,
          1519.039330916918,
          1525.1656745075861,
          1531.2920180982542,
          1537.4183616889222,
          1543.54470527959,
          1549.6710488702581,
          1555.797392460926,
          1561.923736051594,
          1568.050079642262,
          1574.1764232329301,
          1580.302766823598,
          1586.429110414266,
          1592.555454004934,
          1598.681797595602,
          1604.80814118627,
          1610.934484776938,
          1617.060828367606,
          1623.187171958274,
          1629.313515548942,
          1635.4398591396098,
          1641.5662027302778,
          1647.692546320946,
          1653.818889911614,
          1659.9452335022818,
          1666.0715770929498,
          1672.197920683618,
          1678.3242642742857,
          1684.4506078649538,
          1690.5769514556218,
          1696.70329504629,
          1702.8296386369577,
          1708.9559822276258,
          1715.0823258182936,
          1721.2086694089617,
          1727.3350129996297,
          1733.4613565902978,
          1739.5877001809658,
          1745.7140437716337,
          1751.8403873623015,
          1757.9667309529696,
          1764.0930745436376,
          1770.2194181343057,
          1776.3457617249737,
          1782.4721053156416,
          1788.5984489063096,
          1794.7247924969774,
          1800.8511360876455,
          1806.9774796783136,
          1813.1038232689816,
          1819.2301668596497,
          1825.3565104503175,
          1831.4828540409853
         ]
        },
        {
         "line": {
          "color": "purple"
         },
         "mode": "lines",
         "name": "Full model",
         "type": "scatter",
         "x": [
          "2016-01-01T00:00:00.000000000",
          "2016-02-01T00:00:00.000000000",
          "2016-03-01T00:00:00.000000000",
          "2016-04-01T00:00:00.000000000",
          "2016-05-01T00:00:00.000000000",
          "2016-06-01T00:00:00.000000000",
          "2016-07-01T00:00:00.000000000",
          "2016-08-01T00:00:00.000000000",
          "2016-09-01T00:00:00.000000000",
          "2016-10-01T00:00:00.000000000",
          "2016-11-01T00:00:00.000000000",
          "2016-12-01T00:00:00.000000000",
          "2017-01-01T00:00:00.000000000",
          "2017-02-01T00:00:00.000000000",
          "2017-03-01T00:00:00.000000000",
          "2017-04-01T00:00:00.000000000",
          "2017-05-01T00:00:00.000000000",
          "2017-06-01T00:00:00.000000000",
          "2017-07-01T00:00:00.000000000",
          "2017-08-01T00:00:00.000000000",
          "2017-09-01T00:00:00.000000000",
          "2017-10-01T00:00:00.000000000",
          "2017-11-01T00:00:00.000000000",
          "2017-12-01T00:00:00.000000000",
          "2018-01-01T00:00:00.000000000",
          "2018-02-01T00:00:00.000000000",
          "2018-03-01T00:00:00.000000000",
          "2018-04-01T00:00:00.000000000",
          "2018-05-01T00:00:00.000000000",
          "2018-06-01T00:00:00.000000000",
          "2018-07-01T00:00:00.000000000",
          "2018-08-01T00:00:00.000000000",
          "2018-09-01T00:00:00.000000000",
          "2018-10-01T00:00:00.000000000",
          "2018-11-01T00:00:00.000000000",
          "2018-12-01T00:00:00.000000000",
          "2019-01-01T00:00:00.000000000",
          "2019-02-01T00:00:00.000000000",
          "2019-03-01T00:00:00.000000000",
          "2019-04-01T00:00:00.000000000",
          "2019-05-01T00:00:00.000000000",
          "2019-06-01T00:00:00.000000000",
          "2019-07-01T00:00:00.000000000",
          "2019-08-01T00:00:00.000000000",
          "2019-09-01T00:00:00.000000000",
          "2019-10-01T00:00:00.000000000",
          "2019-11-01T00:00:00.000000000",
          "2019-12-01T00:00:00.000000000",
          "2020-01-01T00:00:00.000000000",
          "2020-02-01T00:00:00.000000000",
          "2020-03-01T00:00:00.000000000",
          "2020-04-01T00:00:00.000000000",
          "2020-05-01T00:00:00.000000000",
          "2020-06-01T00:00:00.000000000",
          "2020-07-01T00:00:00.000000000",
          "2020-08-01T00:00:00.000000000",
          "2020-09-01T00:00:00.000000000",
          "2020-10-01T00:00:00.000000000",
          "2020-11-01T00:00:00.000000000",
          "2020-12-01T00:00:00.000000000",
          "2021-01-01T00:00:00.000000000",
          "2021-02-01T00:00:00.000000000",
          "2021-03-01T00:00:00.000000000",
          "2021-04-01T00:00:00.000000000",
          "2021-05-01T00:00:00.000000000",
          "2021-06-01T00:00:00.000000000",
          "2021-07-01T00:00:00.000000000",
          "2021-08-01T00:00:00.000000000",
          "2021-09-01T00:00:00.000000000",
          "2021-10-01T00:00:00.000000000",
          "2021-11-01T00:00:00.000000000",
          "2021-12-01T00:00:00.000000000",
          "2022-01-01T00:00:00.000000000",
          "2022-02-01T00:00:00.000000000",
          "2022-03-01T00:00:00.000000000",
          "2022-04-01T00:00:00.000000000",
          "2022-05-01T00:00:00.000000000",
          "2022-06-01T00:00:00.000000000",
          "2022-07-01T00:00:00.000000000",
          "2022-08-01T00:00:00.000000000",
          "2022-09-01T00:00:00.000000000",
          "2022-10-01T00:00:00.000000000",
          "2022-11-01T00:00:00.000000000",
          "2022-12-01T00:00:00.000000000",
          "2023-01-01T00:00:00.000000000",
          "2023-02-01T00:00:00.000000000",
          "2023-03-01T00:00:00.000000000",
          "2023-04-01T00:00:00.000000000",
          "2023-05-01T00:00:00.000000000",
          "2023-06-01T00:00:00.000000000",
          "2023-07-01T00:00:00.000000000",
          "2023-08-01T00:00:00.000000000",
          "2023-09-01T00:00:00.000000000",
          "2023-10-01T00:00:00.000000000",
          "2023-11-01T00:00:00.000000000",
          "2023-12-01T00:00:00.000000000",
          "2024-01-01T00:00:00.000000000",
          "2024-02-01T00:00:00.000000000",
          "2024-03-01T00:00:00.000000000",
          "2024-04-01T00:00:00.000000000",
          "2024-05-01T00:00:00.000000000",
          "2024-06-01T00:00:00.000000000",
          "2024-07-01T00:00:00.000000000",
          "2024-08-01T00:00:00.000000000",
          "2024-09-01T00:00:00.000000000",
          "2024-10-01T00:00:00.000000000",
          "2024-11-01T00:00:00.000000000",
          "2024-12-01T00:00:00.000000000"
         ],
         "y": [
          1175.964089839511,
          1182.0904334301788,
          1188.2167770208468,
          1194.343120611515,
          1200.4694642021827,
          1206.5958077928508,
          1212.7221513835188,
          1218.848494974187,
          1224.9748385648547,
          1231.1011821555228,
          1237.2275257461908,
          1243.3538693368587,
          1249.4802129275267,
          1255.6065565181948,
          1261.7329001088626,
          1267.8592436995307,
          1273.9855872901987,
          1280.1119308808666,
          1286.2382744715346,
          1292.3646180622027,
          1298.4909616528707,
          1304.6173052435386,
          1310.7436488342066,
          1316.8699924248747,
          1322.9963360155425,
          1329.1226796062106,
          1335.2490231968786,
          1341.3753667875465,
          1347.5017103782145,
          1353.6280539688826,
          1359.7543975595504,
          1365.8807411502185,
          1372.0070847408865,
          1378.1334283315546,
          1384.2597719222224,
          1390.3861155128905,
          1396.5124591035585,
          1402.6388026942263,
          1408.7651462848944,
          1414.8914898755625,
          1421.0178334662303,
          1427.1441770568983,
          1433.2705206475664,
          1439.3968642382342,
          1445.5232078289023,
          1451.6495514195703,
          1457.7758950102384,
          1463.9022386009062,
          1328.0285821915743,
          1397.1549257822421,
          1394.2812693729102,
          1400.4076129635782,
          1406.5339565542463,
          1412.6603001449141,
          1418.7866437355822,
          1811.9129873262502,
          1881.039330916918,
          1950.1656745075861,
          2019.2920180982542,
          2088.4183616889222,
          2157.54470527959,
          2226.6710488702583,
          2295.797392460926,
          1029.923736051594,
          1036.050079642262,
          2503.17642323293,
          2573.302766823598,
          2642.429110414266,
          2711.5554540049343,
          2780.681797595602,
          2849.80814118627,
          2918.934484776938,
          2988.060828367606,
          3057.187171958274,
          3126.3135155489417,
          3195.43985913961,
          3264.566202730278,
          3333.692546320946,
          3402.818889911614,
          3471.9452335022816,
          3541.07157709295,
          3610.1979206836177,
          3679.3242642742857,
          3748.450607864954,
          3818.576951455622,
          3887.70329504629,
          3956.8296386369575,
          4025.955982227626,
          4095.0823258182936,
          4164.208669408961,
          4233.33501299963,
          4302.461356590298,
          4371.587700180966,
          4440.714043771633,
          4509.840387362301,
          4578.96673095297,
          4648.093074543638,
          4717.219418134306,
          4786.345761724973,
          4855.472105315642,
          4924.598448906309,
          4993.724792496978,
          5062.8511360876455,
          5132.977479678313,
          5202.103823268982,
          5271.23016685965,
          5340.356510450318,
          5409.482854040985
         ]
        }
       ],
       "layout": {
        "legend": {
         "title": {
          "text": "Legend"
         }
        },
        "template": {
         "data": {
          "bar": [
           {
            "error_x": {
             "color": "#2a3f5f"
            },
            "error_y": {
             "color": "#2a3f5f"
            },
            "marker": {
             "line": {
              "color": "#E5ECF6",
              "width": 0.5
             },
             "pattern": {
              "fillmode": "overlay",
              "size": 10,
              "solidity": 0.2
             }
            },
            "type": "bar"
           }
          ],
          "barpolar": [
           {
            "marker": {
             "line": {
              "color": "#E5ECF6",
              "width": 0.5
             },
             "pattern": {
              "fillmode": "overlay",
              "size": 10,
              "solidity": 0.2
             }
            },
            "type": "barpolar"
           }
          ],
          "carpet": [
           {
            "aaxis": {
             "endlinecolor": "#2a3f5f",
             "gridcolor": "white",
             "linecolor": "white",
             "minorgridcolor": "white",
             "startlinecolor": "#2a3f5f"
            },
            "baxis": {
             "endlinecolor": "#2a3f5f",
             "gridcolor": "white",
             "linecolor": "white",
             "minorgridcolor": "white",
             "startlinecolor": "#2a3f5f"
            },
            "type": "carpet"
           }
          ],
          "choropleth": [
           {
            "colorbar": {
             "outlinewidth": 0,
             "ticks": ""
            },
            "type": "choropleth"
           }
          ],
          "contour": [
           {
            "colorbar": {
             "outlinewidth": 0,
             "ticks": ""
            },
            "colorscale": [
             [
              0,
              "#0d0887"
             ],
             [
              0.1111111111111111,
              "#46039f"
             ],
             [
              0.2222222222222222,
              "#7201a8"
             ],
             [
              0.3333333333333333,
              "#9c179e"
             ],
             [
              0.4444444444444444,
              "#bd3786"
             ],
             [
              0.5555555555555556,
              "#d8576b"
             ],
             [
              0.6666666666666666,
              "#ed7953"
             ],
             [
              0.7777777777777778,
              "#fb9f3a"
             ],
             [
              0.8888888888888888,
              "#fdca26"
             ],
             [
              1,
              "#f0f921"
             ]
            ],
            "type": "contour"
           }
          ],
          "contourcarpet": [
           {
            "colorbar": {
             "outlinewidth": 0,
             "ticks": ""
            },
            "type": "contourcarpet"
           }
          ],
          "heatmap": [
           {
            "colorbar": {
             "outlinewidth": 0,
             "ticks": ""
            },
            "colorscale": [
             [
              0,
              "#0d0887"
             ],
             [
              0.1111111111111111,
              "#46039f"
             ],
             [
              0.2222222222222222,
              "#7201a8"
             ],
             [
              0.3333333333333333,
              "#9c179e"
             ],
             [
              0.4444444444444444,
              "#bd3786"
             ],
             [
              0.5555555555555556,
              "#d8576b"
             ],
             [
              0.6666666666666666,
              "#ed7953"
             ],
             [
              0.7777777777777778,
              "#fb9f3a"
             ],
             [
              0.8888888888888888,
              "#fdca26"
             ],
             [
              1,
              "#f0f921"
             ]
            ],
            "type": "heatmap"
           }
          ],
          "heatmapgl": [
           {
            "colorbar": {
             "outlinewidth": 0,
             "ticks": ""
            },
            "colorscale": [
             [
              0,
              "#0d0887"
             ],
             [
              0.1111111111111111,
              "#46039f"
             ],
             [
              0.2222222222222222,
              "#7201a8"
             ],
             [
              0.3333333333333333,
              "#9c179e"
             ],
             [
              0.4444444444444444,
              "#bd3786"
             ],
             [
              0.5555555555555556,
              "#d8576b"
             ],
             [
              0.6666666666666666,
              "#ed7953"
             ],
             [
              0.7777777777777778,
              "#fb9f3a"
             ],
             [
              0.8888888888888888,
              "#fdca26"
             ],
             [
              1,
              "#f0f921"
             ]
            ],
            "type": "heatmapgl"
           }
          ],
          "histogram": [
           {
            "marker": {
             "pattern": {
              "fillmode": "overlay",
              "size": 10,
              "solidity": 0.2
             }
            },
            "type": "histogram"
           }
          ],
          "histogram2d": [
           {
            "colorbar": {
             "outlinewidth": 0,
             "ticks": ""
            },
            "colorscale": [
             [
              0,
              "#0d0887"
             ],
             [
              0.1111111111111111,
              "#46039f"
             ],
             [
              0.2222222222222222,
              "#7201a8"
             ],
             [
              0.3333333333333333,
              "#9c179e"
             ],
             [
              0.4444444444444444,
              "#bd3786"
             ],
             [
              0.5555555555555556,
              "#d8576b"
             ],
             [
              0.6666666666666666,
              "#ed7953"
             ],
             [
              0.7777777777777778,
              "#fb9f3a"
             ],
             [
              0.8888888888888888,
              "#fdca26"
             ],
             [
              1,
              "#f0f921"
             ]
            ],
            "type": "histogram2d"
           }
          ],
          "histogram2dcontour": [
           {
            "colorbar": {
             "outlinewidth": 0,
             "ticks": ""
            },
            "colorscale": [
             [
              0,
              "#0d0887"
             ],
             [
              0.1111111111111111,
              "#46039f"
             ],
             [
              0.2222222222222222,
              "#7201a8"
             ],
             [
              0.3333333333333333,
              "#9c179e"
             ],
             [
              0.4444444444444444,
              "#bd3786"
             ],
             [
              0.5555555555555556,
              "#d8576b"
             ],
             [
              0.6666666666666666,
              "#ed7953"
             ],
             [
              0.7777777777777778,
              "#fb9f3a"
             ],
             [
              0.8888888888888888,
              "#fdca26"
             ],
             [
              1,
              "#f0f921"
             ]
            ],
            "type": "histogram2dcontour"
           }
          ],
          "mesh3d": [
           {
            "colorbar": {
             "outlinewidth": 0,
             "ticks": ""
            },
            "type": "mesh3d"
           }
          ],
          "parcoords": [
           {
            "line": {
             "colorbar": {
              "outlinewidth": 0,
              "ticks": ""
             }
            },
            "type": "parcoords"
           }
          ],
          "pie": [
           {
            "automargin": true,
            "type": "pie"
           }
          ],
          "scatter": [
           {
            "fillpattern": {
             "fillmode": "overlay",
             "size": 10,
             "solidity": 0.2
            },
            "type": "scatter"
           }
          ],
          "scatter3d": [
           {
            "line": {
             "colorbar": {
              "outlinewidth": 0,
              "ticks": ""
             }
            },
            "marker": {
             "colorbar": {
              "outlinewidth": 0,
              "ticks": ""
             }
            },
            "type": "scatter3d"
           }
          ],
          "scattercarpet": [
           {
            "marker": {
             "colorbar": {
              "outlinewidth": 0,
              "ticks": ""
             }
            },
            "type": "scattercarpet"
           }
          ],
          "scattergeo": [
           {
            "marker": {
             "colorbar": {
              "outlinewidth": 0,
              "ticks": ""
             }
            },
            "type": "scattergeo"
           }
          ],
          "scattergl": [
           {
            "marker": {
             "colorbar": {
              "outlinewidth": 0,
              "ticks": ""
             }
            },
            "type": "scattergl"
           }
          ],
          "scattermapbox": [
           {
            "marker": {
             "colorbar": {
              "outlinewidth": 0,
              "ticks": ""
             }
            },
            "type": "scattermapbox"
           }
          ],
          "scatterpolar": [
           {
            "marker": {
             "colorbar": {
              "outlinewidth": 0,
              "ticks": ""
             }
            },
            "type": "scatterpolar"
           }
          ],
          "scatterpolargl": [
           {
            "marker": {
             "colorbar": {
              "outlinewidth": 0,
              "ticks": ""
             }
            },
            "type": "scatterpolargl"
           }
          ],
          "scatterternary": [
           {
            "marker": {
             "colorbar": {
              "outlinewidth": 0,
              "ticks": ""
             }
            },
            "type": "scatterternary"
           }
          ],
          "surface": [
           {
            "colorbar": {
             "outlinewidth": 0,
             "ticks": ""
            },
            "colorscale": [
             [
              0,
              "#0d0887"
             ],
             [
              0.1111111111111111,
              "#46039f"
             ],
             [
              0.2222222222222222,
              "#7201a8"
             ],
             [
              0.3333333333333333,
              "#9c179e"
             ],
             [
              0.4444444444444444,
              "#bd3786"
             ],
             [
              0.5555555555555556,
              "#d8576b"
             ],
             [
              0.6666666666666666,
              "#ed7953"
             ],
             [
              0.7777777777777778,
              "#fb9f3a"
             ],
             [
              0.8888888888888888,
              "#fdca26"
             ],
             [
              1,
              "#f0f921"
             ]
            ],
            "type": "surface"
           }
          ],
          "table": [
           {
            "cells": {
             "fill": {
              "color": "#EBF0F8"
             },
             "line": {
              "color": "white"
             }
            },
            "header": {
             "fill": {
              "color": "#C8D4E3"
             },
             "line": {
              "color": "white"
             }
            },
            "type": "table"
           }
          ]
         },
         "layout": {
          "annotationdefaults": {
           "arrowcolor": "#2a3f5f",
           "arrowhead": 0,
           "arrowwidth": 1
          },
          "autotypenumbers": "strict",
          "coloraxis": {
           "colorbar": {
            "outlinewidth": 0,
            "ticks": ""
           }
          },
          "colorscale": {
           "diverging": [
            [
             0,
             "#8e0152"
            ],
            [
             0.1,
             "#c51b7d"
            ],
            [
             0.2,
             "#de77ae"
            ],
            [
             0.3,
             "#f1b6da"
            ],
            [
             0.4,
             "#fde0ef"
            ],
            [
             0.5,
             "#f7f7f7"
            ],
            [
             0.6,
             "#e6f5d0"
            ],
            [
             0.7,
             "#b8e186"
            ],
            [
             0.8,
             "#7fbc41"
            ],
            [
             0.9,
             "#4d9221"
            ],
            [
             1,
             "#276419"
            ]
           ],
           "sequential": [
            [
             0,
             "#0d0887"
            ],
            [
             0.1111111111111111,
             "#46039f"
            ],
            [
             0.2222222222222222,
             "#7201a8"
            ],
            [
             0.3333333333333333,
             "#9c179e"
            ],
            [
             0.4444444444444444,
             "#bd3786"
            ],
            [
             0.5555555555555556,
             "#d8576b"
            ],
            [
             0.6666666666666666,
             "#ed7953"
            ],
            [
             0.7777777777777778,
             "#fb9f3a"
            ],
            [
             0.8888888888888888,
             "#fdca26"
            ],
            [
             1,
             "#f0f921"
            ]
           ],
           "sequentialminus": [
            [
             0,
             "#0d0887"
            ],
            [
             0.1111111111111111,
             "#46039f"
            ],
            [
             0.2222222222222222,
             "#7201a8"
            ],
            [
             0.3333333333333333,
             "#9c179e"
            ],
            [
             0.4444444444444444,
             "#bd3786"
            ],
            [
             0.5555555555555556,
             "#d8576b"
            ],
            [
             0.6666666666666666,
             "#ed7953"
            ],
            [
             0.7777777777777778,
             "#fb9f3a"
            ],
            [
             0.8888888888888888,
             "#fdca26"
            ],
            [
             1,
             "#f0f921"
            ]
           ]
          },
          "colorway": [
           "#636efa",
           "#EF553B",
           "#00cc96",
           "#ab63fa",
           "#FFA15A",
           "#19d3f3",
           "#FF6692",
           "#B6E880",
           "#FF97FF",
           "#FECB52"
          ],
          "font": {
           "color": "#2a3f5f"
          },
          "geo": {
           "bgcolor": "white",
           "lakecolor": "white",
           "landcolor": "#E5ECF6",
           "showlakes": true,
           "showland": true,
           "subunitcolor": "white"
          },
          "hoverlabel": {
           "align": "left"
          },
          "hovermode": "closest",
          "mapbox": {
           "style": "light"
          },
          "paper_bgcolor": "white",
          "plot_bgcolor": "#E5ECF6",
          "polar": {
           "angularaxis": {
            "gridcolor": "white",
            "linecolor": "white",
            "ticks": ""
           },
           "bgcolor": "#E5ECF6",
           "radialaxis": {
            "gridcolor": "white",
            "linecolor": "white",
            "ticks": ""
           }
          },
          "scene": {
           "xaxis": {
            "backgroundcolor": "#E5ECF6",
            "gridcolor": "white",
            "gridwidth": 2,
            "linecolor": "white",
            "showbackground": true,
            "ticks": "",
            "zerolinecolor": "white"
           },
           "yaxis": {
            "backgroundcolor": "#E5ECF6",
            "gridcolor": "white",
            "gridwidth": 2,
            "linecolor": "white",
            "showbackground": true,
            "ticks": "",
            "zerolinecolor": "white"
           },
           "zaxis": {
            "backgroundcolor": "#E5ECF6",
            "gridcolor": "white",
            "gridwidth": 2,
            "linecolor": "white",
            "showbackground": true,
            "ticks": "",
            "zerolinecolor": "white"
           }
          },
          "shapedefaults": {
           "line": {
            "color": "#2a3f5f"
           }
          },
          "ternary": {
           "aaxis": {
            "gridcolor": "white",
            "linecolor": "white",
            "ticks": ""
           },
           "baxis": {
            "gridcolor": "white",
            "linecolor": "white",
            "ticks": ""
           },
           "bgcolor": "#E5ECF6",
           "caxis": {
            "gridcolor": "white",
            "linecolor": "white",
            "ticks": ""
           }
          },
          "title": {
           "x": 0.05
          },
          "xaxis": {
           "automargin": true,
           "gridcolor": "white",
           "linecolor": "white",
           "ticks": "",
           "title": {
            "standoff": 15
           },
           "zerolinecolor": "white",
           "zerolinewidth": 2
          },
          "yaxis": {
           "automargin": true,
           "gridcolor": "white",
           "linecolor": "white",
           "ticks": "",
           "title": {
            "standoff": 15
           },
           "zerolinecolor": "white",
           "zerolinewidth": 2
          }
         }
        },
        "title": {
         "text": "F40-F48 - Transtornos neuróticos, transtornos relacionados com o \"stress\" e transtornos somatoformes"
        },
        "xaxis": {
         "title": {
          "text": "Time"
         }
        },
        "yaxis": {
         "title": {
          "text": "Value"
         }
        }
       }
      }
     },
     "metadata": {},
     "output_type": "display_data"
    },
    {
     "data": {
      "application/vnd.plotly.v1+json": {
       "config": {
        "plotlyServerURL": "https://plot.ly"
       },
       "data": [
        {
         "marker": {
          "color": "black"
         },
         "mode": "markers",
         "name": "Real",
         "type": "scatter",
         "x": [
          "2016-01-01T00:00:00.000000000",
          "2016-02-01T00:00:00.000000000",
          "2016-03-01T00:00:00.000000000",
          "2016-04-01T00:00:00.000000000",
          "2016-05-01T00:00:00.000000000",
          "2016-06-01T00:00:00.000000000",
          "2016-07-01T00:00:00.000000000",
          "2016-08-01T00:00:00.000000000",
          "2016-09-01T00:00:00.000000000",
          "2016-10-01T00:00:00.000000000",
          "2016-11-01T00:00:00.000000000",
          "2016-12-01T00:00:00.000000000",
          "2017-01-01T00:00:00.000000000",
          "2017-02-01T00:00:00.000000000",
          "2017-03-01T00:00:00.000000000",
          "2017-04-01T00:00:00.000000000",
          "2017-05-01T00:00:00.000000000",
          "2017-06-01T00:00:00.000000000",
          "2017-07-01T00:00:00.000000000",
          "2017-08-01T00:00:00.000000000",
          "2017-09-01T00:00:00.000000000",
          "2017-10-01T00:00:00.000000000",
          "2017-11-01T00:00:00.000000000",
          "2017-12-01T00:00:00.000000000",
          "2018-01-01T00:00:00.000000000",
          "2018-02-01T00:00:00.000000000",
          "2018-03-01T00:00:00.000000000",
          "2018-04-01T00:00:00.000000000",
          "2018-05-01T00:00:00.000000000",
          "2018-06-01T00:00:00.000000000",
          "2018-07-01T00:00:00.000000000",
          "2018-08-01T00:00:00.000000000",
          "2018-09-01T00:00:00.000000000",
          "2018-10-01T00:00:00.000000000",
          "2018-11-01T00:00:00.000000000",
          "2018-12-01T00:00:00.000000000",
          "2019-01-01T00:00:00.000000000",
          "2019-02-01T00:00:00.000000000",
          "2019-03-01T00:00:00.000000000",
          "2019-04-01T00:00:00.000000000",
          "2019-05-01T00:00:00.000000000",
          "2019-06-01T00:00:00.000000000",
          "2019-07-01T00:00:00.000000000",
          "2019-08-01T00:00:00.000000000",
          "2019-09-01T00:00:00.000000000",
          "2019-10-01T00:00:00.000000000",
          "2019-11-01T00:00:00.000000000",
          "2019-12-01T00:00:00.000000000",
          "2020-01-01T00:00:00.000000000",
          "2020-02-01T00:00:00.000000000",
          "2020-03-01T00:00:00.000000000",
          "2020-04-01T00:00:00.000000000",
          "2020-05-01T00:00:00.000000000",
          "2020-06-01T00:00:00.000000000",
          "2020-07-01T00:00:00.000000000",
          "2020-08-01T00:00:00.000000000",
          "2020-09-01T00:00:00.000000000",
          "2020-10-01T00:00:00.000000000",
          "2020-11-01T00:00:00.000000000",
          "2020-12-01T00:00:00.000000000",
          "2021-01-01T00:00:00.000000000",
          "2021-02-01T00:00:00.000000000",
          "2021-03-01T00:00:00.000000000",
          "2021-04-01T00:00:00.000000000",
          "2021-05-01T00:00:00.000000000",
          "2021-06-01T00:00:00.000000000",
          "2021-07-01T00:00:00.000000000",
          "2021-08-01T00:00:00.000000000",
          "2021-09-01T00:00:00.000000000",
          "2021-10-01T00:00:00.000000000",
          "2021-11-01T00:00:00.000000000",
          "2021-12-01T00:00:00.000000000",
          "2022-01-01T00:00:00.000000000",
          "2022-02-01T00:00:00.000000000",
          "2022-03-01T00:00:00.000000000",
          "2022-04-01T00:00:00.000000000",
          "2022-05-01T00:00:00.000000000",
          "2022-06-01T00:00:00.000000000",
          "2022-07-01T00:00:00.000000000",
          "2022-08-01T00:00:00.000000000",
          "2022-09-01T00:00:00.000000000",
          "2022-10-01T00:00:00.000000000",
          "2022-11-01T00:00:00.000000000",
          "2022-12-01T00:00:00.000000000",
          "2023-01-01T00:00:00.000000000",
          "2023-02-01T00:00:00.000000000",
          "2023-03-01T00:00:00.000000000",
          "2023-04-01T00:00:00.000000000",
          "2023-05-01T00:00:00.000000000",
          "2023-06-01T00:00:00.000000000",
          "2023-07-01T00:00:00.000000000",
          "2023-08-01T00:00:00.000000000",
          "2023-09-01T00:00:00.000000000",
          "2023-10-01T00:00:00.000000000",
          "2023-11-01T00:00:00.000000000",
          "2023-12-01T00:00:00.000000000",
          "2024-01-01T00:00:00.000000000",
          "2024-02-01T00:00:00.000000000",
          "2024-03-01T00:00:00.000000000",
          "2024-04-01T00:00:00.000000000",
          "2024-05-01T00:00:00.000000000",
          "2024-06-01T00:00:00.000000000",
          "2024-07-01T00:00:00.000000000",
          "2024-08-01T00:00:00.000000000",
          "2024-09-01T00:00:00.000000000",
          "2024-10-01T00:00:00.000000000",
          "2024-11-01T00:00:00.000000000",
          "2024-12-01T00:00:00.000000000"
         ],
         "y": [
          2173,
          2389,
          3179,
          2984,
          3775,
          4536,
          4401,
          5355,
          4392,
          4147,
          3277,
          3058,
          2925,
          2733,
          3979,
          3092,
          3585,
          3274,
          3176,
          3445,
          3206,
          3098,
          3239,
          3062,
          2950,
          2695,
          3425,
          3523,
          3371,
          3131,
          3157,
          3504,
          3138,
          3862,
          3282,
          3028,
          3278,
          3104,
          2726,
          3279,
          3567,
          3013,
          3482,
          3349,
          2772,
          3049,
          2346,
          2066,
          2340,
          2015,
          1780,
          1560,
          1914,
          1908,
          2029,
          2242,
          2544,
          2563,
          2722,
          2471,
          2418,
          2321,
          2202,
          1497,
          702,
          2770,
          2964,
          3133,
          2956,
          3030,
          2801,
          2951,
          1564,
          2006,
          2985,
          2389,
          2721,
          2659,
          2771,
          3029,
          2830,
          3172,
          3380,
          3329,
          3565,
          2780,
          3835,
          3400,
          4051,
          3583,
          3958,
          4641,
          3749,
          4567,
          4539,
          4370,
          4601,
          4147,
          4369,
          4862,
          3452,
          4271,
          4701,
          4849,
          4389,
          5725,
          4514,
          4463
         ]
        },
        {
         "line": {
          "color": "black",
          "dash": "dot"
         },
         "mode": "lines",
         "name": "Baseline",
         "type": "scatter",
         "x": [
          "2016-01-01T00:00:00.000000000",
          "2016-02-01T00:00:00.000000000",
          "2016-03-01T00:00:00.000000000",
          "2016-04-01T00:00:00.000000000",
          "2016-05-01T00:00:00.000000000",
          "2016-06-01T00:00:00.000000000",
          "2016-07-01T00:00:00.000000000",
          "2016-08-01T00:00:00.000000000",
          "2016-09-01T00:00:00.000000000",
          "2016-10-01T00:00:00.000000000",
          "2016-11-01T00:00:00.000000000",
          "2016-12-01T00:00:00.000000000",
          "2017-01-01T00:00:00.000000000",
          "2017-02-01T00:00:00.000000000",
          "2017-03-01T00:00:00.000000000",
          "2017-04-01T00:00:00.000000000",
          "2017-05-01T00:00:00.000000000",
          "2017-06-01T00:00:00.000000000",
          "2017-07-01T00:00:00.000000000",
          "2017-08-01T00:00:00.000000000",
          "2017-09-01T00:00:00.000000000",
          "2017-10-01T00:00:00.000000000",
          "2017-11-01T00:00:00.000000000",
          "2017-12-01T00:00:00.000000000",
          "2018-01-01T00:00:00.000000000",
          "2018-02-01T00:00:00.000000000",
          "2018-03-01T00:00:00.000000000",
          "2018-04-01T00:00:00.000000000",
          "2018-05-01T00:00:00.000000000",
          "2018-06-01T00:00:00.000000000",
          "2018-07-01T00:00:00.000000000",
          "2018-08-01T00:00:00.000000000",
          "2018-09-01T00:00:00.000000000",
          "2018-10-01T00:00:00.000000000",
          "2018-11-01T00:00:00.000000000",
          "2018-12-01T00:00:00.000000000",
          "2019-01-01T00:00:00.000000000",
          "2019-02-01T00:00:00.000000000",
          "2019-03-01T00:00:00.000000000",
          "2019-04-01T00:00:00.000000000",
          "2019-05-01T00:00:00.000000000",
          "2019-06-01T00:00:00.000000000",
          "2019-07-01T00:00:00.000000000",
          "2019-08-01T00:00:00.000000000",
          "2019-09-01T00:00:00.000000000",
          "2019-10-01T00:00:00.000000000",
          "2019-11-01T00:00:00.000000000",
          "2019-12-01T00:00:00.000000000",
          "2020-01-01T00:00:00.000000000",
          "2020-02-01T00:00:00.000000000",
          "2020-03-01T00:00:00.000000000",
          "2020-04-01T00:00:00.000000000",
          "2020-05-01T00:00:00.000000000",
          "2020-06-01T00:00:00.000000000",
          "2020-07-01T00:00:00.000000000",
          "2020-08-01T00:00:00.000000000",
          "2020-09-01T00:00:00.000000000",
          "2020-10-01T00:00:00.000000000",
          "2020-11-01T00:00:00.000000000",
          "2020-12-01T00:00:00.000000000",
          "2021-01-01T00:00:00.000000000",
          "2021-02-01T00:00:00.000000000",
          "2021-03-01T00:00:00.000000000",
          "2021-04-01T00:00:00.000000000",
          "2021-05-01T00:00:00.000000000",
          "2021-06-01T00:00:00.000000000",
          "2021-07-01T00:00:00.000000000",
          "2021-08-01T00:00:00.000000000",
          "2021-09-01T00:00:00.000000000",
          "2021-10-01T00:00:00.000000000",
          "2021-11-01T00:00:00.000000000",
          "2021-12-01T00:00:00.000000000",
          "2022-01-01T00:00:00.000000000",
          "2022-02-01T00:00:00.000000000",
          "2022-03-01T00:00:00.000000000",
          "2022-04-01T00:00:00.000000000",
          "2022-05-01T00:00:00.000000000",
          "2022-06-01T00:00:00.000000000",
          "2022-07-01T00:00:00.000000000",
          "2022-08-01T00:00:00.000000000",
          "2022-09-01T00:00:00.000000000",
          "2022-10-01T00:00:00.000000000",
          "2022-11-01T00:00:00.000000000",
          "2022-12-01T00:00:00.000000000",
          "2023-01-01T00:00:00.000000000",
          "2023-02-01T00:00:00.000000000",
          "2023-03-01T00:00:00.000000000",
          "2023-04-01T00:00:00.000000000",
          "2023-05-01T00:00:00.000000000",
          "2023-06-01T00:00:00.000000000",
          "2023-07-01T00:00:00.000000000",
          "2023-08-01T00:00:00.000000000",
          "2023-09-01T00:00:00.000000000",
          "2023-10-01T00:00:00.000000000",
          "2023-11-01T00:00:00.000000000",
          "2023-12-01T00:00:00.000000000",
          "2024-01-01T00:00:00.000000000",
          "2024-02-01T00:00:00.000000000",
          "2024-03-01T00:00:00.000000000",
          "2024-04-01T00:00:00.000000000",
          "2024-05-01T00:00:00.000000000",
          "2024-06-01T00:00:00.000000000",
          "2024-07-01T00:00:00.000000000",
          "2024-08-01T00:00:00.000000000",
          "2024-09-01T00:00:00.000000000",
          "2024-10-01T00:00:00.000000000",
          "2024-11-01T00:00:00.000000000",
          "2024-12-01T00:00:00.000000000"
         ],
         "y": [
          3749.6866371541587,
          3724.172625850823,
          3698.6586145474876,
          3673.1446032441518,
          3647.630591940816,
          3622.11658063748,
          3596.602569334145,
          3571.088558030809,
          3545.5745467274733,
          3520.0605354241375,
          3494.546524120802,
          3469.0325128174663,
          3443.5185015141305,
          3418.0044902107948,
          3392.490478907459,
          3366.9764676041236,
          3341.462456300788,
          3315.948444997452,
          3290.4344336941167,
          3264.920422390781,
          3239.406411087445,
          3213.8923997841093,
          3188.3783884807735,
          3162.8643771774377,
          3137.3503658741024,
          3111.8363545707666,
          3086.322343267431,
          3060.8083319640955,
          3035.2943206607597,
          3009.780309357424,
          2984.266298054088,
          2958.7522867507523,
          2933.238275447417,
          2907.724264144081,
          2882.2102528407454,
          2856.69624153741,
          2831.1822302340743,
          2805.6682189307385,
          2780.1542076274027,
          2754.640196324067,
          2729.126185020731,
          2703.6121737173958,
          2678.09816241406,
          2652.5841511107246,
          2627.070139807389,
          2601.556128504053,
          2576.0421172007173,
          2550.5281058973815,
          2525.0140945940457,
          2499.50008329071,
          2473.9860719873745,
          2448.4720606840388,
          2422.9580493807034,
          2397.4440380773676,
          2371.930026774032,
          2346.416015470696,
          2320.9020041673602,
          2295.3879928640245,
          2269.873981560689,
          2244.3599702573533,
          2218.845958954018,
          2193.331947650682,
          2167.8179363473464,
          2142.3039250440106,
          2116.789913740675,
          2091.275902437339,
          2065.7618911340032,
          2040.247879830668,
          2014.733868527332,
          1989.2198572239965,
          1963.7058459206607,
          1938.1918346173252,
          1912.6778233139894,
          1887.1638120106538,
          1861.649800707318,
          1836.1357894039825,
          1810.6217781006467,
          1785.1077667973111,
          1759.5937554939753,
          1734.0797441906398,
          1708.565732887304,
          1683.0517215839682,
          1657.5377102806324,
          1632.023698977297,
          1606.5096876739613,
          1580.9956763706255,
          1555.4816650672897,
          1529.9676537639543,
          1504.4536424606185,
          1478.9396311572827,
          1453.425619853947,
          1427.9116085506116,
          1402.3975972472758,
          1376.88358594394,
          1351.3695746406042,
          1325.8555633372684,
          1300.341552033933,
          1274.8275407305973,
          1249.3135294272615,
          1223.7995181239257,
          1198.2855068205904,
          1172.7714955172546,
          1147.2574842139188,
          1121.743472910583,
          1096.2294616072477,
          1070.715450303912,
          1045.201439000576,
          1019.6874276972403
         ]
        },
        {
         "line": {
          "color": "purple"
         },
         "mode": "lines",
         "name": "Full model",
         "type": "scatter",
         "x": [
          "2016-01-01T00:00:00.000000000",
          "2016-02-01T00:00:00.000000000",
          "2016-03-01T00:00:00.000000000",
          "2016-04-01T00:00:00.000000000",
          "2016-05-01T00:00:00.000000000",
          "2016-06-01T00:00:00.000000000",
          "2016-07-01T00:00:00.000000000",
          "2016-08-01T00:00:00.000000000",
          "2016-09-01T00:00:00.000000000",
          "2016-10-01T00:00:00.000000000",
          "2016-11-01T00:00:00.000000000",
          "2016-12-01T00:00:00.000000000",
          "2017-01-01T00:00:00.000000000",
          "2017-02-01T00:00:00.000000000",
          "2017-03-01T00:00:00.000000000",
          "2017-04-01T00:00:00.000000000",
          "2017-05-01T00:00:00.000000000",
          "2017-06-01T00:00:00.000000000",
          "2017-07-01T00:00:00.000000000",
          "2017-08-01T00:00:00.000000000",
          "2017-09-01T00:00:00.000000000",
          "2017-10-01T00:00:00.000000000",
          "2017-11-01T00:00:00.000000000",
          "2017-12-01T00:00:00.000000000",
          "2018-01-01T00:00:00.000000000",
          "2018-02-01T00:00:00.000000000",
          "2018-03-01T00:00:00.000000000",
          "2018-04-01T00:00:00.000000000",
          "2018-05-01T00:00:00.000000000",
          "2018-06-01T00:00:00.000000000",
          "2018-07-01T00:00:00.000000000",
          "2018-08-01T00:00:00.000000000",
          "2018-09-01T00:00:00.000000000",
          "2018-10-01T00:00:00.000000000",
          "2018-11-01T00:00:00.000000000",
          "2018-12-01T00:00:00.000000000",
          "2019-01-01T00:00:00.000000000",
          "2019-02-01T00:00:00.000000000",
          "2019-03-01T00:00:00.000000000",
          "2019-04-01T00:00:00.000000000",
          "2019-05-01T00:00:00.000000000",
          "2019-06-01T00:00:00.000000000",
          "2019-07-01T00:00:00.000000000",
          "2019-08-01T00:00:00.000000000",
          "2019-09-01T00:00:00.000000000",
          "2019-10-01T00:00:00.000000000",
          "2019-11-01T00:00:00.000000000",
          "2019-12-01T00:00:00.000000000",
          "2020-01-01T00:00:00.000000000",
          "2020-02-01T00:00:00.000000000",
          "2020-03-01T00:00:00.000000000",
          "2020-04-01T00:00:00.000000000",
          "2020-05-01T00:00:00.000000000",
          "2020-06-01T00:00:00.000000000",
          "2020-07-01T00:00:00.000000000",
          "2020-08-01T00:00:00.000000000",
          "2020-09-01T00:00:00.000000000",
          "2020-10-01T00:00:00.000000000",
          "2020-11-01T00:00:00.000000000",
          "2020-12-01T00:00:00.000000000",
          "2021-01-01T00:00:00.000000000",
          "2021-02-01T00:00:00.000000000",
          "2021-03-01T00:00:00.000000000",
          "2021-04-01T00:00:00.000000000",
          "2021-05-01T00:00:00.000000000",
          "2021-06-01T00:00:00.000000000",
          "2021-07-01T00:00:00.000000000",
          "2021-08-01T00:00:00.000000000",
          "2021-09-01T00:00:00.000000000",
          "2021-10-01T00:00:00.000000000",
          "2021-11-01T00:00:00.000000000",
          "2021-12-01T00:00:00.000000000",
          "2022-01-01T00:00:00.000000000",
          "2022-02-01T00:00:00.000000000",
          "2022-03-01T00:00:00.000000000",
          "2022-04-01T00:00:00.000000000",
          "2022-05-01T00:00:00.000000000",
          "2022-06-01T00:00:00.000000000",
          "2022-07-01T00:00:00.000000000",
          "2022-08-01T00:00:00.000000000",
          "2022-09-01T00:00:00.000000000",
          "2022-10-01T00:00:00.000000000",
          "2022-11-01T00:00:00.000000000",
          "2022-12-01T00:00:00.000000000",
          "2023-01-01T00:00:00.000000000",
          "2023-02-01T00:00:00.000000000",
          "2023-03-01T00:00:00.000000000",
          "2023-04-01T00:00:00.000000000",
          "2023-05-01T00:00:00.000000000",
          "2023-06-01T00:00:00.000000000",
          "2023-07-01T00:00:00.000000000",
          "2023-08-01T00:00:00.000000000",
          "2023-09-01T00:00:00.000000000",
          "2023-10-01T00:00:00.000000000",
          "2023-11-01T00:00:00.000000000",
          "2023-12-01T00:00:00.000000000",
          "2024-01-01T00:00:00.000000000",
          "2024-02-01T00:00:00.000000000",
          "2024-03-01T00:00:00.000000000",
          "2024-04-01T00:00:00.000000000",
          "2024-05-01T00:00:00.000000000",
          "2024-06-01T00:00:00.000000000",
          "2024-07-01T00:00:00.000000000",
          "2024-08-01T00:00:00.000000000",
          "2024-09-01T00:00:00.000000000",
          "2024-10-01T00:00:00.000000000",
          "2024-11-01T00:00:00.000000000",
          "2024-12-01T00:00:00.000000000"
         ],
         "y": [
          3749.6866371541587,
          3724.172625850823,
          3698.6586145474876,
          3673.1446032441518,
          3647.630591940816,
          3622.11658063748,
          3596.602569334145,
          3571.088558030809,
          3545.5745467274733,
          3520.0605354241375,
          3494.546524120802,
          3469.0325128174663,
          3443.5185015141305,
          3418.0044902107948,
          3392.490478907459,
          3366.9764676041236,
          3341.462456300788,
          3315.948444997452,
          3290.4344336941167,
          3264.920422390781,
          3239.406411087445,
          3213.8923997841093,
          3188.3783884807735,
          3162.8643771774377,
          3137.3503658741024,
          3111.8363545707666,
          3086.322343267431,
          3060.8083319640955,
          3035.2943206607597,
          3009.780309357424,
          2984.266298054088,
          2958.7522867507523,
          2933.238275447417,
          2907.724264144081,
          2882.2102528407454,
          2856.69624153741,
          2831.1822302340743,
          2805.6682189307385,
          2780.1542076274027,
          2754.640196324067,
          2729.126185020731,
          2703.6121737173958,
          2678.09816241406,
          2652.5841511107246,
          2627.070139807389,
          2601.556128504053,
          2576.0421172007173,
          2550.5281058973815,
          1759.0140945940457,
          1804.5000832907099,
          1714.9860719873745,
          1689.4720606840388,
          1663.9580493807034,
          1638.4440380773676,
          1612.9300267740318,
          2076.416015470696,
          2121.9020041673602,
          2167.3879928640245,
          2212.873981560689,
          2258.3599702573533,
          2303.845958954018,
          2348.331947650682,
          2393.8179363473464,
          1104.3039250440106,
          1078.7899137406748,
          2530.275902437339,
          2575.7618911340032,
          2621.247879830668,
          2665.733868527332,
          2711.2198572239968,
          2756.705845920661,
          2802.191834617325,
          2847.6778233139894,
          2893.1638120106536,
          2938.649800707318,
          2983.1357894039825,
          3028.6217781006467,
          3074.1077667973113,
          3119.5937554939756,
          3165.0797441906398,
          3210.565732887304,
          3256.051721583968,
          3300.5377102806324,
          3346.023698977297,
          3391.5096876739613,
          3436.9956763706255,
          3482.4816650672897,
          3527.9676537639543,
          3573.4536424606185,
          3617.9396311572827,
          3663.425619853947,
          3708.9116085506116,
          3754.397597247276,
          3799.88358594394,
          3845.3695746406042,
          3890.8555633372684,
          3935.341552033933,
          3980.8275407305973,
          4026.3135294272615,
          4071.7995181239257,
          4117.28550682059,
          4162.771495517254,
          4208.257484213918,
          4252.743472910583,
          4298.229461607248,
          4343.715450303912,
          4389.201439000576,
          4434.68742769724
         ]
        }
       ],
       "layout": {
        "legend": {
         "title": {
          "text": "Legend"
         }
        },
        "template": {
         "data": {
          "bar": [
           {
            "error_x": {
             "color": "#2a3f5f"
            },
            "error_y": {
             "color": "#2a3f5f"
            },
            "marker": {
             "line": {
              "color": "#E5ECF6",
              "width": 0.5
             },
             "pattern": {
              "fillmode": "overlay",
              "size": 10,
              "solidity": 0.2
             }
            },
            "type": "bar"
           }
          ],
          "barpolar": [
           {
            "marker": {
             "line": {
              "color": "#E5ECF6",
              "width": 0.5
             },
             "pattern": {
              "fillmode": "overlay",
              "size": 10,
              "solidity": 0.2
             }
            },
            "type": "barpolar"
           }
          ],
          "carpet": [
           {
            "aaxis": {
             "endlinecolor": "#2a3f5f",
             "gridcolor": "white",
             "linecolor": "white",
             "minorgridcolor": "white",
             "startlinecolor": "#2a3f5f"
            },
            "baxis": {
             "endlinecolor": "#2a3f5f",
             "gridcolor": "white",
             "linecolor": "white",
             "minorgridcolor": "white",
             "startlinecolor": "#2a3f5f"
            },
            "type": "carpet"
           }
          ],
          "choropleth": [
           {
            "colorbar": {
             "outlinewidth": 0,
             "ticks": ""
            },
            "type": "choropleth"
           }
          ],
          "contour": [
           {
            "colorbar": {
             "outlinewidth": 0,
             "ticks": ""
            },
            "colorscale": [
             [
              0,
              "#0d0887"
             ],
             [
              0.1111111111111111,
              "#46039f"
             ],
             [
              0.2222222222222222,
              "#7201a8"
             ],
             [
              0.3333333333333333,
              "#9c179e"
             ],
             [
              0.4444444444444444,
              "#bd3786"
             ],
             [
              0.5555555555555556,
              "#d8576b"
             ],
             [
              0.6666666666666666,
              "#ed7953"
             ],
             [
              0.7777777777777778,
              "#fb9f3a"
             ],
             [
              0.8888888888888888,
              "#fdca26"
             ],
             [
              1,
              "#f0f921"
             ]
            ],
            "type": "contour"
           }
          ],
          "contourcarpet": [
           {
            "colorbar": {
             "outlinewidth": 0,
             "ticks": ""
            },
            "type": "contourcarpet"
           }
          ],
          "heatmap": [
           {
            "colorbar": {
             "outlinewidth": 0,
             "ticks": ""
            },
            "colorscale": [
             [
              0,
              "#0d0887"
             ],
             [
              0.1111111111111111,
              "#46039f"
             ],
             [
              0.2222222222222222,
              "#7201a8"
             ],
             [
              0.3333333333333333,
              "#9c179e"
             ],
             [
              0.4444444444444444,
              "#bd3786"
             ],
             [
              0.5555555555555556,
              "#d8576b"
             ],
             [
              0.6666666666666666,
              "#ed7953"
             ],
             [
              0.7777777777777778,
              "#fb9f3a"
             ],
             [
              0.8888888888888888,
              "#fdca26"
             ],
             [
              1,
              "#f0f921"
             ]
            ],
            "type": "heatmap"
           }
          ],
          "heatmapgl": [
           {
            "colorbar": {
             "outlinewidth": 0,
             "ticks": ""
            },
            "colorscale": [
             [
              0,
              "#0d0887"
             ],
             [
              0.1111111111111111,
              "#46039f"
             ],
             [
              0.2222222222222222,
              "#7201a8"
             ],
             [
              0.3333333333333333,
              "#9c179e"
             ],
             [
              0.4444444444444444,
              "#bd3786"
             ],
             [
              0.5555555555555556,
              "#d8576b"
             ],
             [
              0.6666666666666666,
              "#ed7953"
             ],
             [
              0.7777777777777778,
              "#fb9f3a"
             ],
             [
              0.8888888888888888,
              "#fdca26"
             ],
             [
              1,
              "#f0f921"
             ]
            ],
            "type": "heatmapgl"
           }
          ],
          "histogram": [
           {
            "marker": {
             "pattern": {
              "fillmode": "overlay",
              "size": 10,
              "solidity": 0.2
             }
            },
            "type": "histogram"
           }
          ],
          "histogram2d": [
           {
            "colorbar": {
             "outlinewidth": 0,
             "ticks": ""
            },
            "colorscale": [
             [
              0,
              "#0d0887"
             ],
             [
              0.1111111111111111,
              "#46039f"
             ],
             [
              0.2222222222222222,
              "#7201a8"
             ],
             [
              0.3333333333333333,
              "#9c179e"
             ],
             [
              0.4444444444444444,
              "#bd3786"
             ],
             [
              0.5555555555555556,
              "#d8576b"
             ],
             [
              0.6666666666666666,
              "#ed7953"
             ],
             [
              0.7777777777777778,
              "#fb9f3a"
             ],
             [
              0.8888888888888888,
              "#fdca26"
             ],
             [
              1,
              "#f0f921"
             ]
            ],
            "type": "histogram2d"
           }
          ],
          "histogram2dcontour": [
           {
            "colorbar": {
             "outlinewidth": 0,
             "ticks": ""
            },
            "colorscale": [
             [
              0,
              "#0d0887"
             ],
             [
              0.1111111111111111,
              "#46039f"
             ],
             [
              0.2222222222222222,
              "#7201a8"
             ],
             [
              0.3333333333333333,
              "#9c179e"
             ],
             [
              0.4444444444444444,
              "#bd3786"
             ],
             [
              0.5555555555555556,
              "#d8576b"
             ],
             [
              0.6666666666666666,
              "#ed7953"
             ],
             [
              0.7777777777777778,
              "#fb9f3a"
             ],
             [
              0.8888888888888888,
              "#fdca26"
             ],
             [
              1,
              "#f0f921"
             ]
            ],
            "type": "histogram2dcontour"
           }
          ],
          "mesh3d": [
           {
            "colorbar": {
             "outlinewidth": 0,
             "ticks": ""
            },
            "type": "mesh3d"
           }
          ],
          "parcoords": [
           {
            "line": {
             "colorbar": {
              "outlinewidth": 0,
              "ticks": ""
             }
            },
            "type": "parcoords"
           }
          ],
          "pie": [
           {
            "automargin": true,
            "type": "pie"
           }
          ],
          "scatter": [
           {
            "fillpattern": {
             "fillmode": "overlay",
             "size": 10,
             "solidity": 0.2
            },
            "type": "scatter"
           }
          ],
          "scatter3d": [
           {
            "line": {
             "colorbar": {
              "outlinewidth": 0,
              "ticks": ""
             }
            },
            "marker": {
             "colorbar": {
              "outlinewidth": 0,
              "ticks": ""
             }
            },
            "type": "scatter3d"
           }
          ],
          "scattercarpet": [
           {
            "marker": {
             "colorbar": {
              "outlinewidth": 0,
              "ticks": ""
             }
            },
            "type": "scattercarpet"
           }
          ],
          "scattergeo": [
           {
            "marker": {
             "colorbar": {
              "outlinewidth": 0,
              "ticks": ""
             }
            },
            "type": "scattergeo"
           }
          ],
          "scattergl": [
           {
            "marker": {
             "colorbar": {
              "outlinewidth": 0,
              "ticks": ""
             }
            },
            "type": "scattergl"
           }
          ],
          "scattermapbox": [
           {
            "marker": {
             "colorbar": {
              "outlinewidth": 0,
              "ticks": ""
             }
            },
            "type": "scattermapbox"
           }
          ],
          "scatterpolar": [
           {
            "marker": {
             "colorbar": {
              "outlinewidth": 0,
              "ticks": ""
             }
            },
            "type": "scatterpolar"
           }
          ],
          "scatterpolargl": [
           {
            "marker": {
             "colorbar": {
              "outlinewidth": 0,
              "ticks": ""
             }
            },
            "type": "scatterpolargl"
           }
          ],
          "scatterternary": [
           {
            "marker": {
             "colorbar": {
              "outlinewidth": 0,
              "ticks": ""
             }
            },
            "type": "scatterternary"
           }
          ],
          "surface": [
           {
            "colorbar": {
             "outlinewidth": 0,
             "ticks": ""
            },
            "colorscale": [
             [
              0,
              "#0d0887"
             ],
             [
              0.1111111111111111,
              "#46039f"
             ],
             [
              0.2222222222222222,
              "#7201a8"
             ],
             [
              0.3333333333333333,
              "#9c179e"
             ],
             [
              0.4444444444444444,
              "#bd3786"
             ],
             [
              0.5555555555555556,
              "#d8576b"
             ],
             [
              0.6666666666666666,
              "#ed7953"
             ],
             [
              0.7777777777777778,
              "#fb9f3a"
             ],
             [
              0.8888888888888888,
              "#fdca26"
             ],
             [
              1,
              "#f0f921"
             ]
            ],
            "type": "surface"
           }
          ],
          "table": [
           {
            "cells": {
             "fill": {
              "color": "#EBF0F8"
             },
             "line": {
              "color": "white"
             }
            },
            "header": {
             "fill": {
              "color": "#C8D4E3"
             },
             "line": {
              "color": "white"
             }
            },
            "type": "table"
           }
          ]
         },
         "layout": {
          "annotationdefaults": {
           "arrowcolor": "#2a3f5f",
           "arrowhead": 0,
           "arrowwidth": 1
          },
          "autotypenumbers": "strict",
          "coloraxis": {
           "colorbar": {
            "outlinewidth": 0,
            "ticks": ""
           }
          },
          "colorscale": {
           "diverging": [
            [
             0,
             "#8e0152"
            ],
            [
             0.1,
             "#c51b7d"
            ],
            [
             0.2,
             "#de77ae"
            ],
            [
             0.3,
             "#f1b6da"
            ],
            [
             0.4,
             "#fde0ef"
            ],
            [
             0.5,
             "#f7f7f7"
            ],
            [
             0.6,
             "#e6f5d0"
            ],
            [
             0.7,
             "#b8e186"
            ],
            [
             0.8,
             "#7fbc41"
            ],
            [
             0.9,
             "#4d9221"
            ],
            [
             1,
             "#276419"
            ]
           ],
           "sequential": [
            [
             0,
             "#0d0887"
            ],
            [
             0.1111111111111111,
             "#46039f"
            ],
            [
             0.2222222222222222,
             "#7201a8"
            ],
            [
             0.3333333333333333,
             "#9c179e"
            ],
            [
             0.4444444444444444,
             "#bd3786"
            ],
            [
             0.5555555555555556,
             "#d8576b"
            ],
            [
             0.6666666666666666,
             "#ed7953"
            ],
            [
             0.7777777777777778,
             "#fb9f3a"
            ],
            [
             0.8888888888888888,
             "#fdca26"
            ],
            [
             1,
             "#f0f921"
            ]
           ],
           "sequentialminus": [
            [
             0,
             "#0d0887"
            ],
            [
             0.1111111111111111,
             "#46039f"
            ],
            [
             0.2222222222222222,
             "#7201a8"
            ],
            [
             0.3333333333333333,
             "#9c179e"
            ],
            [
             0.4444444444444444,
             "#bd3786"
            ],
            [
             0.5555555555555556,
             "#d8576b"
            ],
            [
             0.6666666666666666,
             "#ed7953"
            ],
            [
             0.7777777777777778,
             "#fb9f3a"
            ],
            [
             0.8888888888888888,
             "#fdca26"
            ],
            [
             1,
             "#f0f921"
            ]
           ]
          },
          "colorway": [
           "#636efa",
           "#EF553B",
           "#00cc96",
           "#ab63fa",
           "#FFA15A",
           "#19d3f3",
           "#FF6692",
           "#B6E880",
           "#FF97FF",
           "#FECB52"
          ],
          "font": {
           "color": "#2a3f5f"
          },
          "geo": {
           "bgcolor": "white",
           "lakecolor": "white",
           "landcolor": "#E5ECF6",
           "showlakes": true,
           "showland": true,
           "subunitcolor": "white"
          },
          "hoverlabel": {
           "align": "left"
          },
          "hovermode": "closest",
          "mapbox": {
           "style": "light"
          },
          "paper_bgcolor": "white",
          "plot_bgcolor": "#E5ECF6",
          "polar": {
           "angularaxis": {
            "gridcolor": "white",
            "linecolor": "white",
            "ticks": ""
           },
           "bgcolor": "#E5ECF6",
           "radialaxis": {
            "gridcolor": "white",
            "linecolor": "white",
            "ticks": ""
           }
          },
          "scene": {
           "xaxis": {
            "backgroundcolor": "#E5ECF6",
            "gridcolor": "white",
            "gridwidth": 2,
            "linecolor": "white",
            "showbackground": true,
            "ticks": "",
            "zerolinecolor": "white"
           },
           "yaxis": {
            "backgroundcolor": "#E5ECF6",
            "gridcolor": "white",
            "gridwidth": 2,
            "linecolor": "white",
            "showbackground": true,
            "ticks": "",
            "zerolinecolor": "white"
           },
           "zaxis": {
            "backgroundcolor": "#E5ECF6",
            "gridcolor": "white",
            "gridwidth": 2,
            "linecolor": "white",
            "showbackground": true,
            "ticks": "",
            "zerolinecolor": "white"
           }
          },
          "shapedefaults": {
           "line": {
            "color": "#2a3f5f"
           }
          },
          "ternary": {
           "aaxis": {
            "gridcolor": "white",
            "linecolor": "white",
            "ticks": ""
           },
           "baxis": {
            "gridcolor": "white",
            "linecolor": "white",
            "ticks": ""
           },
           "bgcolor": "#E5ECF6",
           "caxis": {
            "gridcolor": "white",
            "linecolor": "white",
            "ticks": ""
           }
          },
          "title": {
           "x": 0.05
          },
          "xaxis": {
           "automargin": true,
           "gridcolor": "white",
           "linecolor": "white",
           "ticks": "",
           "title": {
            "standoff": 15
           },
           "zerolinecolor": "white",
           "zerolinewidth": 2
          },
          "yaxis": {
           "automargin": true,
           "gridcolor": "white",
           "linecolor": "white",
           "ticks": "",
           "title": {
            "standoff": 15
           },
           "zerolinecolor": "white",
           "zerolinewidth": 2
          }
         }
        },
        "title": {
         "text": "F30-F39 - Transtornos do humor [afetivos]"
        },
        "xaxis": {
         "title": {
          "text": "Time"
         }
        },
        "yaxis": {
         "title": {
          "text": "Value"
         }
        }
       }
      }
     },
     "metadata": {},
     "output_type": "display_data"
    },
    {
     "data": {
      "application/vnd.plotly.v1+json": {
       "config": {
        "plotlyServerURL": "https://plot.ly"
       },
       "data": [
        {
         "marker": {
          "color": "black"
         },
         "mode": "markers",
         "name": "Real",
         "type": "scatter",
         "x": [
          "2016-01-01T00:00:00.000000000",
          "2016-02-01T00:00:00.000000000",
          "2016-03-01T00:00:00.000000000",
          "2016-04-01T00:00:00.000000000",
          "2016-05-01T00:00:00.000000000",
          "2016-06-01T00:00:00.000000000",
          "2016-07-01T00:00:00.000000000",
          "2016-08-01T00:00:00.000000000",
          "2016-09-01T00:00:00.000000000",
          "2016-10-01T00:00:00.000000000",
          "2016-11-01T00:00:00.000000000",
          "2016-12-01T00:00:00.000000000",
          "2017-01-01T00:00:00.000000000",
          "2017-02-01T00:00:00.000000000",
          "2017-03-01T00:00:00.000000000",
          "2017-04-01T00:00:00.000000000",
          "2017-05-01T00:00:00.000000000",
          "2017-06-01T00:00:00.000000000",
          "2017-07-01T00:00:00.000000000",
          "2017-08-01T00:00:00.000000000",
          "2017-09-01T00:00:00.000000000",
          "2017-10-01T00:00:00.000000000",
          "2017-11-01T00:00:00.000000000",
          "2017-12-01T00:00:00.000000000",
          "2018-01-01T00:00:00.000000000",
          "2018-02-01T00:00:00.000000000",
          "2018-03-01T00:00:00.000000000",
          "2018-04-01T00:00:00.000000000",
          "2018-05-01T00:00:00.000000000",
          "2018-06-01T00:00:00.000000000",
          "2018-07-01T00:00:00.000000000",
          "2018-08-01T00:00:00.000000000",
          "2018-09-01T00:00:00.000000000",
          "2018-10-01T00:00:00.000000000",
          "2018-11-01T00:00:00.000000000",
          "2018-12-01T00:00:00.000000000",
          "2019-01-01T00:00:00.000000000",
          "2019-02-01T00:00:00.000000000",
          "2019-03-01T00:00:00.000000000",
          "2019-04-01T00:00:00.000000000",
          "2019-05-01T00:00:00.000000000",
          "2019-06-01T00:00:00.000000000",
          "2019-07-01T00:00:00.000000000",
          "2019-08-01T00:00:00.000000000",
          "2019-09-01T00:00:00.000000000",
          "2019-10-01T00:00:00.000000000",
          "2019-11-01T00:00:00.000000000",
          "2019-12-01T00:00:00.000000000",
          "2020-01-01T00:00:00.000000000",
          "2020-02-01T00:00:00.000000000",
          "2020-03-01T00:00:00.000000000",
          "2020-04-01T00:00:00.000000000",
          "2020-05-01T00:00:00.000000000",
          "2020-06-01T00:00:00.000000000",
          "2020-07-01T00:00:00.000000000",
          "2020-08-01T00:00:00.000000000",
          "2020-09-01T00:00:00.000000000",
          "2020-10-01T00:00:00.000000000",
          "2020-11-01T00:00:00.000000000",
          "2020-12-01T00:00:00.000000000",
          "2021-01-01T00:00:00.000000000",
          "2021-02-01T00:00:00.000000000",
          "2021-03-01T00:00:00.000000000",
          "2021-04-01T00:00:00.000000000",
          "2021-05-01T00:00:00.000000000",
          "2021-06-01T00:00:00.000000000",
          "2021-07-01T00:00:00.000000000",
          "2021-08-01T00:00:00.000000000",
          "2021-09-01T00:00:00.000000000",
          "2021-10-01T00:00:00.000000000",
          "2021-11-01T00:00:00.000000000",
          "2021-12-01T00:00:00.000000000",
          "2022-01-01T00:00:00.000000000",
          "2022-02-01T00:00:00.000000000",
          "2022-03-01T00:00:00.000000000",
          "2022-04-01T00:00:00.000000000",
          "2022-05-01T00:00:00.000000000",
          "2022-06-01T00:00:00.000000000",
          "2022-07-01T00:00:00.000000000",
          "2022-08-01T00:00:00.000000000",
          "2022-09-01T00:00:00.000000000",
          "2022-10-01T00:00:00.000000000",
          "2022-11-01T00:00:00.000000000",
          "2022-12-01T00:00:00.000000000",
          "2023-01-01T00:00:00.000000000",
          "2023-02-01T00:00:00.000000000",
          "2023-03-01T00:00:00.000000000",
          "2023-04-01T00:00:00.000000000",
          "2023-05-01T00:00:00.000000000",
          "2023-06-01T00:00:00.000000000",
          "2023-07-01T00:00:00.000000000",
          "2023-08-01T00:00:00.000000000",
          "2023-09-01T00:00:00.000000000",
          "2023-10-01T00:00:00.000000000",
          "2023-11-01T00:00:00.000000000",
          "2023-12-01T00:00:00.000000000",
          "2024-01-01T00:00:00.000000000",
          "2024-02-01T00:00:00.000000000",
          "2024-03-01T00:00:00.000000000",
          "2024-04-01T00:00:00.000000000",
          "2024-05-01T00:00:00.000000000",
          "2024-06-01T00:00:00.000000000",
          "2024-07-01T00:00:00.000000000",
          "2024-08-01T00:00:00.000000000",
          "2024-09-01T00:00:00.000000000",
          "2024-10-01T00:00:00.000000000",
          "2024-11-01T00:00:00.000000000",
          "2024-12-01T00:00:00.000000000"
         ],
         "y": [
          314,
          340,
          430,
          371,
          466,
          626,
          630,
          665,
          648,
          591,
          425,
          446,
          479,
          424,
          558,
          442,
          508,
          495,
          493,
          540,
          439,
          459,
          482,
          392,
          463,
          377,
          506,
          533,
          507,
          458,
          473,
          541,
          478,
          539,
          482,
          427,
          536,
          426,
          422,
          503,
          514,
          445,
          525,
          497,
          399,
          404,
          338,
          344,
          411,
          339,
          306,
          226,
          257,
          258,
          285,
          346,
          364,
          375,
          394,
          352,
          376,
          382,
          355,
          244,
          104,
          435,
          445,
          447,
          441,
          399,
          413,
          441,
          280,
          331,
          490,
          390,
          379,
          458,
          436,
          503,
          572,
          556,
          588,
          577,
          628,
          501,
          744,
          622,
          699,
          624,
          678,
          805,
          710,
          828,
          803,
          813,
          861,
          732,
          850,
          935,
          743,
          803,
          883,
          824,
          813,
          1167,
          925,
          861
         ]
        },
        {
         "line": {
          "color": "black",
          "dash": "dot"
         },
         "mode": "lines",
         "name": "Baseline",
         "type": "scatter",
         "x": [
          "2016-01-01T00:00:00.000000000",
          "2016-02-01T00:00:00.000000000",
          "2016-03-01T00:00:00.000000000",
          "2016-04-01T00:00:00.000000000",
          "2016-05-01T00:00:00.000000000",
          "2016-06-01T00:00:00.000000000",
          "2016-07-01T00:00:00.000000000",
          "2016-08-01T00:00:00.000000000",
          "2016-09-01T00:00:00.000000000",
          "2016-10-01T00:00:00.000000000",
          "2016-11-01T00:00:00.000000000",
          "2016-12-01T00:00:00.000000000",
          "2017-01-01T00:00:00.000000000",
          "2017-02-01T00:00:00.000000000",
          "2017-03-01T00:00:00.000000000",
          "2017-04-01T00:00:00.000000000",
          "2017-05-01T00:00:00.000000000",
          "2017-06-01T00:00:00.000000000",
          "2017-07-01T00:00:00.000000000",
          "2017-08-01T00:00:00.000000000",
          "2017-09-01T00:00:00.000000000",
          "2017-10-01T00:00:00.000000000",
          "2017-11-01T00:00:00.000000000",
          "2017-12-01T00:00:00.000000000",
          "2018-01-01T00:00:00.000000000",
          "2018-02-01T00:00:00.000000000",
          "2018-03-01T00:00:00.000000000",
          "2018-04-01T00:00:00.000000000",
          "2018-05-01T00:00:00.000000000",
          "2018-06-01T00:00:00.000000000",
          "2018-07-01T00:00:00.000000000",
          "2018-08-01T00:00:00.000000000",
          "2018-09-01T00:00:00.000000000",
          "2018-10-01T00:00:00.000000000",
          "2018-11-01T00:00:00.000000000",
          "2018-12-01T00:00:00.000000000",
          "2019-01-01T00:00:00.000000000",
          "2019-02-01T00:00:00.000000000",
          "2019-03-01T00:00:00.000000000",
          "2019-04-01T00:00:00.000000000",
          "2019-05-01T00:00:00.000000000",
          "2019-06-01T00:00:00.000000000",
          "2019-07-01T00:00:00.000000000",
          "2019-08-01T00:00:00.000000000",
          "2019-09-01T00:00:00.000000000",
          "2019-10-01T00:00:00.000000000",
          "2019-11-01T00:00:00.000000000",
          "2019-12-01T00:00:00.000000000",
          "2020-01-01T00:00:00.000000000",
          "2020-02-01T00:00:00.000000000",
          "2020-03-01T00:00:00.000000000",
          "2020-04-01T00:00:00.000000000",
          "2020-05-01T00:00:00.000000000",
          "2020-06-01T00:00:00.000000000",
          "2020-07-01T00:00:00.000000000",
          "2020-08-01T00:00:00.000000000",
          "2020-09-01T00:00:00.000000000",
          "2020-10-01T00:00:00.000000000",
          "2020-11-01T00:00:00.000000000",
          "2020-12-01T00:00:00.000000000",
          "2021-01-01T00:00:00.000000000",
          "2021-02-01T00:00:00.000000000",
          "2021-03-01T00:00:00.000000000",
          "2021-04-01T00:00:00.000000000",
          "2021-05-01T00:00:00.000000000",
          "2021-06-01T00:00:00.000000000",
          "2021-07-01T00:00:00.000000000",
          "2021-08-01T00:00:00.000000000",
          "2021-09-01T00:00:00.000000000",
          "2021-10-01T00:00:00.000000000",
          "2021-11-01T00:00:00.000000000",
          "2021-12-01T00:00:00.000000000",
          "2022-01-01T00:00:00.000000000",
          "2022-02-01T00:00:00.000000000",
          "2022-03-01T00:00:00.000000000",
          "2022-04-01T00:00:00.000000000",
          "2022-05-01T00:00:00.000000000",
          "2022-06-01T00:00:00.000000000",
          "2022-07-01T00:00:00.000000000",
          "2022-08-01T00:00:00.000000000",
          "2022-09-01T00:00:00.000000000",
          "2022-10-01T00:00:00.000000000",
          "2022-11-01T00:00:00.000000000",
          "2022-12-01T00:00:00.000000000",
          "2023-01-01T00:00:00.000000000",
          "2023-02-01T00:00:00.000000000",
          "2023-03-01T00:00:00.000000000",
          "2023-04-01T00:00:00.000000000",
          "2023-05-01T00:00:00.000000000",
          "2023-06-01T00:00:00.000000000",
          "2023-07-01T00:00:00.000000000",
          "2023-08-01T00:00:00.000000000",
          "2023-09-01T00:00:00.000000000",
          "2023-10-01T00:00:00.000000000",
          "2023-11-01T00:00:00.000000000",
          "2023-12-01T00:00:00.000000000",
          "2024-01-01T00:00:00.000000000",
          "2024-02-01T00:00:00.000000000",
          "2024-03-01T00:00:00.000000000",
          "2024-04-01T00:00:00.000000000",
          "2024-05-01T00:00:00.000000000",
          "2024-06-01T00:00:00.000000000",
          "2024-07-01T00:00:00.000000000",
          "2024-08-01T00:00:00.000000000",
          "2024-09-01T00:00:00.000000000",
          "2024-10-01T00:00:00.000000000",
          "2024-11-01T00:00:00.000000000",
          "2024-12-01T00:00:00.000000000"
         ],
         "y": [
          561.8713483467695,
          558.8233514909226,
          555.7753546350758,
          552.7273577792289,
          549.6793609233821,
          546.6313640675352,
          543.5833672116884,
          540.5353703558415,
          537.4873734999946,
          534.4393766441477,
          531.3913797883009,
          528.343382932454,
          525.2953860766072,
          522.2473892207604,
          519.1993923649135,
          516.1513955090667,
          513.1033986532198,
          510.0554017973729,
          507.00740494152603,
          503.9594080856792,
          500.9114112298323,
          497.8634143739855,
          494.8154175181386,
          491.7674206622918,
          488.7194238064449,
          485.67142695059806,
          482.6234300947512,
          479.57543323890434,
          476.5274363830575,
          473.4794395272106,
          470.43144267136375,
          467.3834458155169,
          464.33544895967003,
          461.28745210382317,
          458.23945524797637,
          455.19145839212945,
          452.14346153628264,
          449.0954646804358,
          446.0474678245889,
          442.99947096874206,
          439.9514741128952,
          436.90347725704834,
          433.8554804012015,
          430.8074835453546,
          427.75948668950775,
          424.7114898336609,
          421.66349297781403,
          418.6154961219672,
          415.5674992661203,
          412.5195024102735,
          409.4715055544266,
          406.4235086985798,
          403.37551184273286,
          400.32751498688606,
          397.2795181310392,
          394.23152127519234,
          391.1835244193455,
          388.1355275634986,
          385.08753070765175,
          382.0395338518049,
          378.9915369959581,
          375.94354014011117,
          372.89554328426436,
          369.84754642841744,
          366.79954957257064,
          363.7515527167237,
          360.7035558608769,
          357.65555900503006,
          354.6075621491832,
          351.55956529333633,
          348.5115684374895,
          345.4635715816426,
          342.41557472579575,
          339.3675778699489,
          336.319581014102,
          333.2715841582552,
          330.2235873024083,
          327.1755904465615,
          324.1275935907146,
          321.0795967348678,
          318.03159987902086,
          314.98360302317406,
          311.9356061673272,
          308.88760931148033,
          305.83961245563347,
          302.7916155997866,
          299.74361874393975,
          296.6956218880929,
          293.647625032246,
          290.59962817639916,
          287.5516313205523,
          284.50363446470544,
          281.45563760885864,
          278.4076407530118,
          275.3596438971649,
          272.31164704131805,
          269.2636501854712,
          266.21565332962433,
          263.16765647377747,
          260.1196596179306,
          257.07166276208375,
          254.0236659062369,
          250.97566905039002,
          247.92767219454316,
          244.8796753386963,
          241.83167848284944,
          238.78368162700264,
          235.73568477115577
         ]
        },
        {
         "line": {
          "color": "purple"
         },
         "mode": "lines",
         "name": "Full model",
         "type": "scatter",
         "x": [
          "2016-01-01T00:00:00.000000000",
          "2016-02-01T00:00:00.000000000",
          "2016-03-01T00:00:00.000000000",
          "2016-04-01T00:00:00.000000000",
          "2016-05-01T00:00:00.000000000",
          "2016-06-01T00:00:00.000000000",
          "2016-07-01T00:00:00.000000000",
          "2016-08-01T00:00:00.000000000",
          "2016-09-01T00:00:00.000000000",
          "2016-10-01T00:00:00.000000000",
          "2016-11-01T00:00:00.000000000",
          "2016-12-01T00:00:00.000000000",
          "2017-01-01T00:00:00.000000000",
          "2017-02-01T00:00:00.000000000",
          "2017-03-01T00:00:00.000000000",
          "2017-04-01T00:00:00.000000000",
          "2017-05-01T00:00:00.000000000",
          "2017-06-01T00:00:00.000000000",
          "2017-07-01T00:00:00.000000000",
          "2017-08-01T00:00:00.000000000",
          "2017-09-01T00:00:00.000000000",
          "2017-10-01T00:00:00.000000000",
          "2017-11-01T00:00:00.000000000",
          "2017-12-01T00:00:00.000000000",
          "2018-01-01T00:00:00.000000000",
          "2018-02-01T00:00:00.000000000",
          "2018-03-01T00:00:00.000000000",
          "2018-04-01T00:00:00.000000000",
          "2018-05-01T00:00:00.000000000",
          "2018-06-01T00:00:00.000000000",
          "2018-07-01T00:00:00.000000000",
          "2018-08-01T00:00:00.000000000",
          "2018-09-01T00:00:00.000000000",
          "2018-10-01T00:00:00.000000000",
          "2018-11-01T00:00:00.000000000",
          "2018-12-01T00:00:00.000000000",
          "2019-01-01T00:00:00.000000000",
          "2019-02-01T00:00:00.000000000",
          "2019-03-01T00:00:00.000000000",
          "2019-04-01T00:00:00.000000000",
          "2019-05-01T00:00:00.000000000",
          "2019-06-01T00:00:00.000000000",
          "2019-07-01T00:00:00.000000000",
          "2019-08-01T00:00:00.000000000",
          "2019-09-01T00:00:00.000000000",
          "2019-10-01T00:00:00.000000000",
          "2019-11-01T00:00:00.000000000",
          "2019-12-01T00:00:00.000000000",
          "2020-01-01T00:00:00.000000000",
          "2020-02-01T00:00:00.000000000",
          "2020-03-01T00:00:00.000000000",
          "2020-04-01T00:00:00.000000000",
          "2020-05-01T00:00:00.000000000",
          "2020-06-01T00:00:00.000000000",
          "2020-07-01T00:00:00.000000000",
          "2020-08-01T00:00:00.000000000",
          "2020-09-01T00:00:00.000000000",
          "2020-10-01T00:00:00.000000000",
          "2020-11-01T00:00:00.000000000",
          "2020-12-01T00:00:00.000000000",
          "2021-01-01T00:00:00.000000000",
          "2021-02-01T00:00:00.000000000",
          "2021-03-01T00:00:00.000000000",
          "2021-04-01T00:00:00.000000000",
          "2021-05-01T00:00:00.000000000",
          "2021-06-01T00:00:00.000000000",
          "2021-07-01T00:00:00.000000000",
          "2021-08-01T00:00:00.000000000",
          "2021-09-01T00:00:00.000000000",
          "2021-10-01T00:00:00.000000000",
          "2021-11-01T00:00:00.000000000",
          "2021-12-01T00:00:00.000000000",
          "2022-01-01T00:00:00.000000000",
          "2022-02-01T00:00:00.000000000",
          "2022-03-01T00:00:00.000000000",
          "2022-04-01T00:00:00.000000000",
          "2022-05-01T00:00:00.000000000",
          "2022-06-01T00:00:00.000000000",
          "2022-07-01T00:00:00.000000000",
          "2022-08-01T00:00:00.000000000",
          "2022-09-01T00:00:00.000000000",
          "2022-10-01T00:00:00.000000000",
          "2022-11-01T00:00:00.000000000",
          "2022-12-01T00:00:00.000000000",
          "2023-01-01T00:00:00.000000000",
          "2023-02-01T00:00:00.000000000",
          "2023-03-01T00:00:00.000000000",
          "2023-04-01T00:00:00.000000000",
          "2023-05-01T00:00:00.000000000",
          "2023-06-01T00:00:00.000000000",
          "2023-07-01T00:00:00.000000000",
          "2023-08-01T00:00:00.000000000",
          "2023-09-01T00:00:00.000000000",
          "2023-10-01T00:00:00.000000000",
          "2023-11-01T00:00:00.000000000",
          "2023-12-01T00:00:00.000000000",
          "2024-01-01T00:00:00.000000000",
          "2024-02-01T00:00:00.000000000",
          "2024-03-01T00:00:00.000000000",
          "2024-04-01T00:00:00.000000000",
          "2024-05-01T00:00:00.000000000",
          "2024-06-01T00:00:00.000000000",
          "2024-07-01T00:00:00.000000000",
          "2024-08-01T00:00:00.000000000",
          "2024-09-01T00:00:00.000000000",
          "2024-10-01T00:00:00.000000000",
          "2024-11-01T00:00:00.000000000",
          "2024-12-01T00:00:00.000000000"
         ],
         "y": [
          561.8713483467695,
          558.8233514909226,
          555.7753546350758,
          552.7273577792289,
          549.6793609233821,
          546.6313640675352,
          543.5833672116884,
          540.5353703558415,
          537.4873734999946,
          534.4393766441477,
          531.3913797883009,
          528.343382932454,
          525.2953860766072,
          522.2473892207604,
          519.1993923649135,
          516.1513955090667,
          513.1033986532198,
          510.0554017973729,
          507.00740494152603,
          503.9594080856792,
          500.9114112298323,
          497.8634143739855,
          494.8154175181386,
          491.7674206622918,
          488.7194238064449,
          485.67142695059806,
          482.6234300947512,
          479.57543323890434,
          476.5274363830575,
          473.4794395272106,
          470.43144267136375,
          467.3834458155169,
          464.33544895967003,
          461.28745210382317,
          458.23945524797637,
          455.19145839212945,
          452.14346153628264,
          449.0954646804358,
          446.0474678245889,
          442.99947096874206,
          439.9514741128952,
          436.90347725704834,
          433.8554804012015,
          430.8074835453546,
          427.75948668950775,
          424.7114898336609,
          421.66349297781403,
          418.6154961219672,
          256.5674992661203,
          267.5195024102735,
          264.4715055544266,
          261.4235086985798,
          258.37551184273286,
          255.32751498688606,
          252.2795181310392,
          332.23152127519234,
          343.1835244193455,
          353.1355275634986,
          364.08753070765175,
          375.0395338518049,
          385.9915369959581,
          396.94354014011117,
          406.89554328426436,
          219.84754642841744,
          216.79954957257064,
          439.7515527167237,
          449.7035558608769,
          460.65555900503006,
          471.6075621491832,
          482.55956529333633,
          493.5115684374895,
          503.4635715816426,
          514.4155747257958,
          525.367577869949,
          536.319581014102,
          547.2715841582552,
          557.2235873024083,
          568.1755904465615,
          579.1275935907146,
          590.0795967348678,
          600.0315998790209,
          610.983603023174,
          621.9356061673273,
          632.8876093114803,
          643.8396124556334,
          653.7916155997866,
          664.7436187439398,
          675.6956218880929,
          686.647625032246,
          697.5996281763992,
          707.5516313205524,
          718.5036344647054,
          729.4556376088586,
          740.4076407530117,
          750.3596438971649,
          761.3116470413181,
          772.2636501854712,
          783.2156533296243,
          794.1676564737775,
          804.1196596179307,
          815.0716627620837,
          826.0236659062368,
          836.97566905039,
          847.9276721945432,
          857.8796753386963,
          868.8316784828494,
          879.7836816270026,
          890.7356847711558
         ]
        }
       ],
       "layout": {
        "legend": {
         "title": {
          "text": "Legend"
         }
        },
        "template": {
         "data": {
          "bar": [
           {
            "error_x": {
             "color": "#2a3f5f"
            },
            "error_y": {
             "color": "#2a3f5f"
            },
            "marker": {
             "line": {
              "color": "#E5ECF6",
              "width": 0.5
             },
             "pattern": {
              "fillmode": "overlay",
              "size": 10,
              "solidity": 0.2
             }
            },
            "type": "bar"
           }
          ],
          "barpolar": [
           {
            "marker": {
             "line": {
              "color": "#E5ECF6",
              "width": 0.5
             },
             "pattern": {
              "fillmode": "overlay",
              "size": 10,
              "solidity": 0.2
             }
            },
            "type": "barpolar"
           }
          ],
          "carpet": [
           {
            "aaxis": {
             "endlinecolor": "#2a3f5f",
             "gridcolor": "white",
             "linecolor": "white",
             "minorgridcolor": "white",
             "startlinecolor": "#2a3f5f"
            },
            "baxis": {
             "endlinecolor": "#2a3f5f",
             "gridcolor": "white",
             "linecolor": "white",
             "minorgridcolor": "white",
             "startlinecolor": "#2a3f5f"
            },
            "type": "carpet"
           }
          ],
          "choropleth": [
           {
            "colorbar": {
             "outlinewidth": 0,
             "ticks": ""
            },
            "type": "choropleth"
           }
          ],
          "contour": [
           {
            "colorbar": {
             "outlinewidth": 0,
             "ticks": ""
            },
            "colorscale": [
             [
              0,
              "#0d0887"
             ],
             [
              0.1111111111111111,
              "#46039f"
             ],
             [
              0.2222222222222222,
              "#7201a8"
             ],
             [
              0.3333333333333333,
              "#9c179e"
             ],
             [
              0.4444444444444444,
              "#bd3786"
             ],
             [
              0.5555555555555556,
              "#d8576b"
             ],
             [
              0.6666666666666666,
              "#ed7953"
             ],
             [
              0.7777777777777778,
              "#fb9f3a"
             ],
             [
              0.8888888888888888,
              "#fdca26"
             ],
             [
              1,
              "#f0f921"
             ]
            ],
            "type": "contour"
           }
          ],
          "contourcarpet": [
           {
            "colorbar": {
             "outlinewidth": 0,
             "ticks": ""
            },
            "type": "contourcarpet"
           }
          ],
          "heatmap": [
           {
            "colorbar": {
             "outlinewidth": 0,
             "ticks": ""
            },
            "colorscale": [
             [
              0,
              "#0d0887"
             ],
             [
              0.1111111111111111,
              "#46039f"
             ],
             [
              0.2222222222222222,
              "#7201a8"
             ],
             [
              0.3333333333333333,
              "#9c179e"
             ],
             [
              0.4444444444444444,
              "#bd3786"
             ],
             [
              0.5555555555555556,
              "#d8576b"
             ],
             [
              0.6666666666666666,
              "#ed7953"
             ],
             [
              0.7777777777777778,
              "#fb9f3a"
             ],
             [
              0.8888888888888888,
              "#fdca26"
             ],
             [
              1,
              "#f0f921"
             ]
            ],
            "type": "heatmap"
           }
          ],
          "heatmapgl": [
           {
            "colorbar": {
             "outlinewidth": 0,
             "ticks": ""
            },
            "colorscale": [
             [
              0,
              "#0d0887"
             ],
             [
              0.1111111111111111,
              "#46039f"
             ],
             [
              0.2222222222222222,
              "#7201a8"
             ],
             [
              0.3333333333333333,
              "#9c179e"
             ],
             [
              0.4444444444444444,
              "#bd3786"
             ],
             [
              0.5555555555555556,
              "#d8576b"
             ],
             [
              0.6666666666666666,
              "#ed7953"
             ],
             [
              0.7777777777777778,
              "#fb9f3a"
             ],
             [
              0.8888888888888888,
              "#fdca26"
             ],
             [
              1,
              "#f0f921"
             ]
            ],
            "type": "heatmapgl"
           }
          ],
          "histogram": [
           {
            "marker": {
             "pattern": {
              "fillmode": "overlay",
              "size": 10,
              "solidity": 0.2
             }
            },
            "type": "histogram"
           }
          ],
          "histogram2d": [
           {
            "colorbar": {
             "outlinewidth": 0,
             "ticks": ""
            },
            "colorscale": [
             [
              0,
              "#0d0887"
             ],
             [
              0.1111111111111111,
              "#46039f"
             ],
             [
              0.2222222222222222,
              "#7201a8"
             ],
             [
              0.3333333333333333,
              "#9c179e"
             ],
             [
              0.4444444444444444,
              "#bd3786"
             ],
             [
              0.5555555555555556,
              "#d8576b"
             ],
             [
              0.6666666666666666,
              "#ed7953"
             ],
             [
              0.7777777777777778,
              "#fb9f3a"
             ],
             [
              0.8888888888888888,
              "#fdca26"
             ],
             [
              1,
              "#f0f921"
             ]
            ],
            "type": "histogram2d"
           }
          ],
          "histogram2dcontour": [
           {
            "colorbar": {
             "outlinewidth": 0,
             "ticks": ""
            },
            "colorscale": [
             [
              0,
              "#0d0887"
             ],
             [
              0.1111111111111111,
              "#46039f"
             ],
             [
              0.2222222222222222,
              "#7201a8"
             ],
             [
              0.3333333333333333,
              "#9c179e"
             ],
             [
              0.4444444444444444,
              "#bd3786"
             ],
             [
              0.5555555555555556,
              "#d8576b"
             ],
             [
              0.6666666666666666,
              "#ed7953"
             ],
             [
              0.7777777777777778,
              "#fb9f3a"
             ],
             [
              0.8888888888888888,
              "#fdca26"
             ],
             [
              1,
              "#f0f921"
             ]
            ],
            "type": "histogram2dcontour"
           }
          ],
          "mesh3d": [
           {
            "colorbar": {
             "outlinewidth": 0,
             "ticks": ""
            },
            "type": "mesh3d"
           }
          ],
          "parcoords": [
           {
            "line": {
             "colorbar": {
              "outlinewidth": 0,
              "ticks": ""
             }
            },
            "type": "parcoords"
           }
          ],
          "pie": [
           {
            "automargin": true,
            "type": "pie"
           }
          ],
          "scatter": [
           {
            "fillpattern": {
             "fillmode": "overlay",
             "size": 10,
             "solidity": 0.2
            },
            "type": "scatter"
           }
          ],
          "scatter3d": [
           {
            "line": {
             "colorbar": {
              "outlinewidth": 0,
              "ticks": ""
             }
            },
            "marker": {
             "colorbar": {
              "outlinewidth": 0,
              "ticks": ""
             }
            },
            "type": "scatter3d"
           }
          ],
          "scattercarpet": [
           {
            "marker": {
             "colorbar": {
              "outlinewidth": 0,
              "ticks": ""
             }
            },
            "type": "scattercarpet"
           }
          ],
          "scattergeo": [
           {
            "marker": {
             "colorbar": {
              "outlinewidth": 0,
              "ticks": ""
             }
            },
            "type": "scattergeo"
           }
          ],
          "scattergl": [
           {
            "marker": {
             "colorbar": {
              "outlinewidth": 0,
              "ticks": ""
             }
            },
            "type": "scattergl"
           }
          ],
          "scattermapbox": [
           {
            "marker": {
             "colorbar": {
              "outlinewidth": 0,
              "ticks": ""
             }
            },
            "type": "scattermapbox"
           }
          ],
          "scatterpolar": [
           {
            "marker": {
             "colorbar": {
              "outlinewidth": 0,
              "ticks": ""
             }
            },
            "type": "scatterpolar"
           }
          ],
          "scatterpolargl": [
           {
            "marker": {
             "colorbar": {
              "outlinewidth": 0,
              "ticks": ""
             }
            },
            "type": "scatterpolargl"
           }
          ],
          "scatterternary": [
           {
            "marker": {
             "colorbar": {
              "outlinewidth": 0,
              "ticks": ""
             }
            },
            "type": "scatterternary"
           }
          ],
          "surface": [
           {
            "colorbar": {
             "outlinewidth": 0,
             "ticks": ""
            },
            "colorscale": [
             [
              0,
              "#0d0887"
             ],
             [
              0.1111111111111111,
              "#46039f"
             ],
             [
              0.2222222222222222,
              "#7201a8"
             ],
             [
              0.3333333333333333,
              "#9c179e"
             ],
             [
              0.4444444444444444,
              "#bd3786"
             ],
             [
              0.5555555555555556,
              "#d8576b"
             ],
             [
              0.6666666666666666,
              "#ed7953"
             ],
             [
              0.7777777777777778,
              "#fb9f3a"
             ],
             [
              0.8888888888888888,
              "#fdca26"
             ],
             [
              1,
              "#f0f921"
             ]
            ],
            "type": "surface"
           }
          ],
          "table": [
           {
            "cells": {
             "fill": {
              "color": "#EBF0F8"
             },
             "line": {
              "color": "white"
             }
            },
            "header": {
             "fill": {
              "color": "#C8D4E3"
             },
             "line": {
              "color": "white"
             }
            },
            "type": "table"
           }
          ]
         },
         "layout": {
          "annotationdefaults": {
           "arrowcolor": "#2a3f5f",
           "arrowhead": 0,
           "arrowwidth": 1
          },
          "autotypenumbers": "strict",
          "coloraxis": {
           "colorbar": {
            "outlinewidth": 0,
            "ticks": ""
           }
          },
          "colorscale": {
           "diverging": [
            [
             0,
             "#8e0152"
            ],
            [
             0.1,
             "#c51b7d"
            ],
            [
             0.2,
             "#de77ae"
            ],
            [
             0.3,
             "#f1b6da"
            ],
            [
             0.4,
             "#fde0ef"
            ],
            [
             0.5,
             "#f7f7f7"
            ],
            [
             0.6,
             "#e6f5d0"
            ],
            [
             0.7,
             "#b8e186"
            ],
            [
             0.8,
             "#7fbc41"
            ],
            [
             0.9,
             "#4d9221"
            ],
            [
             1,
             "#276419"
            ]
           ],
           "sequential": [
            [
             0,
             "#0d0887"
            ],
            [
             0.1111111111111111,
             "#46039f"
            ],
            [
             0.2222222222222222,
             "#7201a8"
            ],
            [
             0.3333333333333333,
             "#9c179e"
            ],
            [
             0.4444444444444444,
             "#bd3786"
            ],
            [
             0.5555555555555556,
             "#d8576b"
            ],
            [
             0.6666666666666666,
             "#ed7953"
            ],
            [
             0.7777777777777778,
             "#fb9f3a"
            ],
            [
             0.8888888888888888,
             "#fdca26"
            ],
            [
             1,
             "#f0f921"
            ]
           ],
           "sequentialminus": [
            [
             0,
             "#0d0887"
            ],
            [
             0.1111111111111111,
             "#46039f"
            ],
            [
             0.2222222222222222,
             "#7201a8"
            ],
            [
             0.3333333333333333,
             "#9c179e"
            ],
            [
             0.4444444444444444,
             "#bd3786"
            ],
            [
             0.5555555555555556,
             "#d8576b"
            ],
            [
             0.6666666666666666,
             "#ed7953"
            ],
            [
             0.7777777777777778,
             "#fb9f3a"
            ],
            [
             0.8888888888888888,
             "#fdca26"
            ],
            [
             1,
             "#f0f921"
            ]
           ]
          },
          "colorway": [
           "#636efa",
           "#EF553B",
           "#00cc96",
           "#ab63fa",
           "#FFA15A",
           "#19d3f3",
           "#FF6692",
           "#B6E880",
           "#FF97FF",
           "#FECB52"
          ],
          "font": {
           "color": "#2a3f5f"
          },
          "geo": {
           "bgcolor": "white",
           "lakecolor": "white",
           "landcolor": "#E5ECF6",
           "showlakes": true,
           "showland": true,
           "subunitcolor": "white"
          },
          "hoverlabel": {
           "align": "left"
          },
          "hovermode": "closest",
          "mapbox": {
           "style": "light"
          },
          "paper_bgcolor": "white",
          "plot_bgcolor": "#E5ECF6",
          "polar": {
           "angularaxis": {
            "gridcolor": "white",
            "linecolor": "white",
            "ticks": ""
           },
           "bgcolor": "#E5ECF6",
           "radialaxis": {
            "gridcolor": "white",
            "linecolor": "white",
            "ticks": ""
           }
          },
          "scene": {
           "xaxis": {
            "backgroundcolor": "#E5ECF6",
            "gridcolor": "white",
            "gridwidth": 2,
            "linecolor": "white",
            "showbackground": true,
            "ticks": "",
            "zerolinecolor": "white"
           },
           "yaxis": {
            "backgroundcolor": "#E5ECF6",
            "gridcolor": "white",
            "gridwidth": 2,
            "linecolor": "white",
            "showbackground": true,
            "ticks": "",
            "zerolinecolor": "white"
           },
           "zaxis": {
            "backgroundcolor": "#E5ECF6",
            "gridcolor": "white",
            "gridwidth": 2,
            "linecolor": "white",
            "showbackground": true,
            "ticks": "",
            "zerolinecolor": "white"
           }
          },
          "shapedefaults": {
           "line": {
            "color": "#2a3f5f"
           }
          },
          "ternary": {
           "aaxis": {
            "gridcolor": "white",
            "linecolor": "white",
            "ticks": ""
           },
           "baxis": {
            "gridcolor": "white",
            "linecolor": "white",
            "ticks": ""
           },
           "bgcolor": "#E5ECF6",
           "caxis": {
            "gridcolor": "white",
            "linecolor": "white",
            "ticks": ""
           }
          },
          "title": {
           "x": 0.05
          },
          "xaxis": {
           "automargin": true,
           "gridcolor": "white",
           "linecolor": "white",
           "ticks": "",
           "title": {
            "standoff": 15
           },
           "zerolinecolor": "white",
           "zerolinewidth": 2
          },
          "yaxis": {
           "automargin": true,
           "gridcolor": "white",
           "linecolor": "white",
           "ticks": "",
           "title": {
            "standoff": 15
           },
           "zerolinecolor": "white",
           "zerolinewidth": 2
          }
         }
        },
        "title": {
         "text": "F20-F29 - Esquizofrenia, transtornos esquizotípicos e transtornos delirantes"
        },
        "xaxis": {
         "title": {
          "text": "Time"
         }
        },
        "yaxis": {
         "title": {
          "text": "Value"
         }
        }
       }
      }
     },
     "metadata": {},
     "output_type": "display_data"
    },
    {
     "data": {
      "application/vnd.plotly.v1+json": {
       "config": {
        "plotlyServerURL": "https://plot.ly"
       },
       "data": [
        {
         "marker": {
          "color": "black"
         },
         "mode": "markers",
         "name": "Real",
         "type": "scatter",
         "x": [
          "2016-01-01T00:00:00.000000000",
          "2016-02-01T00:00:00.000000000",
          "2016-03-01T00:00:00.000000000",
          "2016-04-01T00:00:00.000000000",
          "2016-05-01T00:00:00.000000000",
          "2016-06-01T00:00:00.000000000",
          "2016-07-01T00:00:00.000000000",
          "2016-08-01T00:00:00.000000000",
          "2016-09-01T00:00:00.000000000",
          "2016-10-01T00:00:00.000000000",
          "2016-11-01T00:00:00.000000000",
          "2016-12-01T00:00:00.000000000",
          "2017-01-01T00:00:00.000000000",
          "2017-02-01T00:00:00.000000000",
          "2017-03-01T00:00:00.000000000",
          "2017-04-01T00:00:00.000000000",
          "2017-05-01T00:00:00.000000000",
          "2017-06-01T00:00:00.000000000",
          "2017-07-01T00:00:00.000000000",
          "2017-08-01T00:00:00.000000000",
          "2017-09-01T00:00:00.000000000",
          "2017-10-01T00:00:00.000000000",
          "2017-11-01T00:00:00.000000000",
          "2017-12-01T00:00:00.000000000",
          "2018-01-01T00:00:00.000000000",
          "2018-02-01T00:00:00.000000000",
          "2018-03-01T00:00:00.000000000",
          "2018-04-01T00:00:00.000000000",
          "2018-05-01T00:00:00.000000000",
          "2018-06-01T00:00:00.000000000",
          "2018-07-01T00:00:00.000000000",
          "2018-08-01T00:00:00.000000000",
          "2018-09-01T00:00:00.000000000",
          "2018-10-01T00:00:00.000000000",
          "2018-11-01T00:00:00.000000000",
          "2018-12-01T00:00:00.000000000",
          "2019-01-01T00:00:00.000000000",
          "2019-02-01T00:00:00.000000000",
          "2019-03-01T00:00:00.000000000",
          "2019-04-01T00:00:00.000000000",
          "2019-05-01T00:00:00.000000000",
          "2019-06-01T00:00:00.000000000",
          "2019-07-01T00:00:00.000000000",
          "2019-08-01T00:00:00.000000000",
          "2019-09-01T00:00:00.000000000",
          "2019-10-01T00:00:00.000000000",
          "2019-11-01T00:00:00.000000000",
          "2019-12-01T00:00:00.000000000",
          "2020-01-01T00:00:00.000000000",
          "2020-02-01T00:00:00.000000000",
          "2020-03-01T00:00:00.000000000",
          "2020-04-01T00:00:00.000000000",
          "2020-05-01T00:00:00.000000000",
          "2020-06-01T00:00:00.000000000",
          "2020-07-01T00:00:00.000000000",
          "2020-08-01T00:00:00.000000000",
          "2020-09-01T00:00:00.000000000",
          "2020-10-01T00:00:00.000000000",
          "2020-11-01T00:00:00.000000000",
          "2020-12-01T00:00:00.000000000",
          "2021-01-01T00:00:00.000000000",
          "2021-02-01T00:00:00.000000000",
          "2021-03-01T00:00:00.000000000",
          "2021-04-01T00:00:00.000000000",
          "2021-05-01T00:00:00.000000000",
          "2021-06-01T00:00:00.000000000",
          "2021-07-01T00:00:00.000000000",
          "2021-08-01T00:00:00.000000000",
          "2021-09-01T00:00:00.000000000",
          "2021-10-01T00:00:00.000000000",
          "2021-11-01T00:00:00.000000000",
          "2021-12-01T00:00:00.000000000",
          "2022-01-01T00:00:00.000000000",
          "2022-02-01T00:00:00.000000000",
          "2022-03-01T00:00:00.000000000",
          "2022-04-01T00:00:00.000000000",
          "2022-05-01T00:00:00.000000000",
          "2022-06-01T00:00:00.000000000",
          "2022-07-01T00:00:00.000000000",
          "2022-08-01T00:00:00.000000000",
          "2022-09-01T00:00:00.000000000",
          "2022-10-01T00:00:00.000000000",
          "2022-11-01T00:00:00.000000000",
          "2022-12-01T00:00:00.000000000",
          "2023-01-01T00:00:00.000000000",
          "2023-02-01T00:00:00.000000000",
          "2023-03-01T00:00:00.000000000",
          "2023-04-01T00:00:00.000000000",
          "2023-05-01T00:00:00.000000000",
          "2023-06-01T00:00:00.000000000",
          "2023-07-01T00:00:00.000000000",
          "2023-08-01T00:00:00.000000000",
          "2023-09-01T00:00:00.000000000",
          "2023-10-01T00:00:00.000000000",
          "2023-11-01T00:00:00.000000000",
          "2023-12-01T00:00:00.000000000",
          "2024-01-01T00:00:00.000000000",
          "2024-02-01T00:00:00.000000000",
          "2024-03-01T00:00:00.000000000",
          "2024-04-01T00:00:00.000000000",
          "2024-05-01T00:00:00.000000000",
          "2024-06-01T00:00:00.000000000",
          "2024-07-01T00:00:00.000000000",
          "2024-08-01T00:00:00.000000000",
          "2024-09-01T00:00:00.000000000",
          "2024-10-01T00:00:00.000000000",
          "2024-11-01T00:00:00.000000000",
          "2024-12-01T00:00:00.000000000"
         ],
         "y": [
          109,
          145,
          193,
          164,
          197,
          210,
          271,
          305,
          242,
          245,
          175,
          172,
          159,
          165,
          262,
          191,
          229,
          254,
          189,
          193,
          199,
          208,
          218,
          189,
          205,
          161,
          242,
          223,
          252,
          258,
          222,
          261,
          223,
          286,
          249,
          200,
          267,
          235,
          252,
          234,
          266,
          208,
          264,
          244,
          170,
          207,
          159,
          155,
          208,
          194,
          166,
          152,
          177,
          217,
          207,
          202,
          254,
          233,
          219,
          257,
          255,
          228,
          237,
          136,
          69,
          332,
          376,
          350,
          358,
          356,
          308,
          347,
          206,
          287,
          381,
          294,
          391,
          368,
          348,
          381,
          383,
          389,
          418,
          359,
          422,
          362,
          428,
          368,
          468,
          399,
          442,
          493,
          399,
          490,
          462,
          484,
          451,
          379,
          448,
          507,
          359,
          499,
          603,
          551,
          500,
          669,
          563,
          532
         ]
        },
        {
         "line": {
          "color": "black",
          "dash": "dot"
         },
         "mode": "lines",
         "name": "Baseline",
         "type": "scatter",
         "x": [
          "2016-01-01T00:00:00.000000000",
          "2016-02-01T00:00:00.000000000",
          "2016-03-01T00:00:00.000000000",
          "2016-04-01T00:00:00.000000000",
          "2016-05-01T00:00:00.000000000",
          "2016-06-01T00:00:00.000000000",
          "2016-07-01T00:00:00.000000000",
          "2016-08-01T00:00:00.000000000",
          "2016-09-01T00:00:00.000000000",
          "2016-10-01T00:00:00.000000000",
          "2016-11-01T00:00:00.000000000",
          "2016-12-01T00:00:00.000000000",
          "2017-01-01T00:00:00.000000000",
          "2017-02-01T00:00:00.000000000",
          "2017-03-01T00:00:00.000000000",
          "2017-04-01T00:00:00.000000000",
          "2017-05-01T00:00:00.000000000",
          "2017-06-01T00:00:00.000000000",
          "2017-07-01T00:00:00.000000000",
          "2017-08-01T00:00:00.000000000",
          "2017-09-01T00:00:00.000000000",
          "2017-10-01T00:00:00.000000000",
          "2017-11-01T00:00:00.000000000",
          "2017-12-01T00:00:00.000000000",
          "2018-01-01T00:00:00.000000000",
          "2018-02-01T00:00:00.000000000",
          "2018-03-01T00:00:00.000000000",
          "2018-04-01T00:00:00.000000000",
          "2018-05-01T00:00:00.000000000",
          "2018-06-01T00:00:00.000000000",
          "2018-07-01T00:00:00.000000000",
          "2018-08-01T00:00:00.000000000",
          "2018-09-01T00:00:00.000000000",
          "2018-10-01T00:00:00.000000000",
          "2018-11-01T00:00:00.000000000",
          "2018-12-01T00:00:00.000000000",
          "2019-01-01T00:00:00.000000000",
          "2019-02-01T00:00:00.000000000",
          "2019-03-01T00:00:00.000000000",
          "2019-04-01T00:00:00.000000000",
          "2019-05-01T00:00:00.000000000",
          "2019-06-01T00:00:00.000000000",
          "2019-07-01T00:00:00.000000000",
          "2019-08-01T00:00:00.000000000",
          "2019-09-01T00:00:00.000000000",
          "2019-10-01T00:00:00.000000000",
          "2019-11-01T00:00:00.000000000",
          "2019-12-01T00:00:00.000000000",
          "2020-01-01T00:00:00.000000000",
          "2020-02-01T00:00:00.000000000",
          "2020-03-01T00:00:00.000000000",
          "2020-04-01T00:00:00.000000000",
          "2020-05-01T00:00:00.000000000",
          "2020-06-01T00:00:00.000000000",
          "2020-07-01T00:00:00.000000000",
          "2020-08-01T00:00:00.000000000",
          "2020-09-01T00:00:00.000000000",
          "2020-10-01T00:00:00.000000000",
          "2020-11-01T00:00:00.000000000",
          "2020-12-01T00:00:00.000000000",
          "2021-01-01T00:00:00.000000000",
          "2021-02-01T00:00:00.000000000",
          "2021-03-01T00:00:00.000000000",
          "2021-04-01T00:00:00.000000000",
          "2021-05-01T00:00:00.000000000",
          "2021-06-01T00:00:00.000000000",
          "2021-07-01T00:00:00.000000000",
          "2021-08-01T00:00:00.000000000",
          "2021-09-01T00:00:00.000000000",
          "2021-10-01T00:00:00.000000000",
          "2021-11-01T00:00:00.000000000",
          "2021-12-01T00:00:00.000000000",
          "2022-01-01T00:00:00.000000000",
          "2022-02-01T00:00:00.000000000",
          "2022-03-01T00:00:00.000000000",
          "2022-04-01T00:00:00.000000000",
          "2022-05-01T00:00:00.000000000",
          "2022-06-01T00:00:00.000000000",
          "2022-07-01T00:00:00.000000000",
          "2022-08-01T00:00:00.000000000",
          "2022-09-01T00:00:00.000000000",
          "2022-10-01T00:00:00.000000000",
          "2022-11-01T00:00:00.000000000",
          "2022-12-01T00:00:00.000000000",
          "2023-01-01T00:00:00.000000000",
          "2023-02-01T00:00:00.000000000",
          "2023-03-01T00:00:00.000000000",
          "2023-04-01T00:00:00.000000000",
          "2023-05-01T00:00:00.000000000",
          "2023-06-01T00:00:00.000000000",
          "2023-07-01T00:00:00.000000000",
          "2023-08-01T00:00:00.000000000",
          "2023-09-01T00:00:00.000000000",
          "2023-10-01T00:00:00.000000000",
          "2023-11-01T00:00:00.000000000",
          "2023-12-01T00:00:00.000000000",
          "2024-01-01T00:00:00.000000000",
          "2024-02-01T00:00:00.000000000",
          "2024-03-01T00:00:00.000000000",
          "2024-04-01T00:00:00.000000000",
          "2024-05-01T00:00:00.000000000",
          "2024-06-01T00:00:00.000000000",
          "2024-07-01T00:00:00.000000000",
          "2024-08-01T00:00:00.000000000",
          "2024-09-01T00:00:00.000000000",
          "2024-10-01T00:00:00.000000000",
          "2024-11-01T00:00:00.000000000",
          "2024-12-01T00:00:00.000000000"
         ],
         "y": [
          192.10161508460104,
          192.42260096918073,
          192.74358685376043,
          193.06457273834013,
          193.38555862291983,
          193.7065445074995,
          194.0275303920792,
          194.3485162766589,
          194.6695021612386,
          194.9904880458183,
          195.311473930398,
          195.6324598149777,
          195.9534456995574,
          196.2744315841371,
          196.5954174687168,
          196.91640335329646,
          197.23738923787616,
          197.55837512245586,
          197.87936100703556,
          198.20034689161525,
          198.52133277619495,
          198.84231866077465,
          199.16330454535435,
          199.48429042993405,
          199.80527631451375,
          200.12626219909345,
          200.44724808367312,
          200.76823396825282,
          201.0892198528325,
          201.4102057374122,
          201.7311916219919,
          202.0521775065716,
          202.3731633911513,
          202.694149275731,
          203.0151351603107,
          203.3361210448904,
          203.65710692947007,
          203.97809281404977,
          204.29907869862947,
          204.62006458320917,
          204.94105046778887,
          205.26203635236857,
          205.58302223694827,
          205.90400812152797,
          206.22499400610766,
          206.54597989068736,
          206.86696577526703,
          207.18795165984673,
          207.50893754442643,
          207.82992342900613,
          208.15090931358583,
          208.47189519816553,
          208.79288108274523,
          209.11386696732492,
          209.43485285190462,
          209.75583873648432,
          210.07682462106402,
          210.3978105056437,
          210.7187963902234,
          211.0397822748031,
          211.3607681593828,
          211.68175404396248,
          212.00273992854218,
          212.32372581312188,
          212.64471169770158,
          212.96569758228128,
          213.28668346686098,
          213.60766935144068,
          213.92865523602035,
          214.24964112060005,
          214.57062700517974,
          214.89161288975944,
          215.21259877433914,
          215.53358465891884,
          215.85457054349854,
          216.17555642807824,
          216.49654231265794,
          216.8175281972376,
          217.13851408181733,
          217.459499966397,
          217.7804858509767,
          218.1014717355564,
          218.4224576201361,
          218.7434435047158,
          219.0644293892955,
          219.3854152738752,
          219.7064011584549,
          220.0273870430346,
          220.34837292761426,
          220.66935881219396,
          220.99034469677366,
          221.31133058135336,
          221.63231646593306,
          221.95330235051276,
          222.27428823509246,
          222.59527411967215,
          222.91626000425185,
          223.23724588883155,
          223.55823177341125,
          223.87921765799092,
          224.20020354257062,
          224.52118942715032,
          224.84217531173002,
          225.16316119630972,
          225.48414708088941,
          225.8051329654691,
          226.1261188500488,
          226.4471047346285
         ]
        },
        {
         "line": {
          "color": "purple"
         },
         "mode": "lines",
         "name": "Full model",
         "type": "scatter",
         "x": [
          "2016-01-01T00:00:00.000000000",
          "2016-02-01T00:00:00.000000000",
          "2016-03-01T00:00:00.000000000",
          "2016-04-01T00:00:00.000000000",
          "2016-05-01T00:00:00.000000000",
          "2016-06-01T00:00:00.000000000",
          "2016-07-01T00:00:00.000000000",
          "2016-08-01T00:00:00.000000000",
          "2016-09-01T00:00:00.000000000",
          "2016-10-01T00:00:00.000000000",
          "2016-11-01T00:00:00.000000000",
          "2016-12-01T00:00:00.000000000",
          "2017-01-01T00:00:00.000000000",
          "2017-02-01T00:00:00.000000000",
          "2017-03-01T00:00:00.000000000",
          "2017-04-01T00:00:00.000000000",
          "2017-05-01T00:00:00.000000000",
          "2017-06-01T00:00:00.000000000",
          "2017-07-01T00:00:00.000000000",
          "2017-08-01T00:00:00.000000000",
          "2017-09-01T00:00:00.000000000",
          "2017-10-01T00:00:00.000000000",
          "2017-11-01T00:00:00.000000000",
          "2017-12-01T00:00:00.000000000",
          "2018-01-01T00:00:00.000000000",
          "2018-02-01T00:00:00.000000000",
          "2018-03-01T00:00:00.000000000",
          "2018-04-01T00:00:00.000000000",
          "2018-05-01T00:00:00.000000000",
          "2018-06-01T00:00:00.000000000",
          "2018-07-01T00:00:00.000000000",
          "2018-08-01T00:00:00.000000000",
          "2018-09-01T00:00:00.000000000",
          "2018-10-01T00:00:00.000000000",
          "2018-11-01T00:00:00.000000000",
          "2018-12-01T00:00:00.000000000",
          "2019-01-01T00:00:00.000000000",
          "2019-02-01T00:00:00.000000000",
          "2019-03-01T00:00:00.000000000",
          "2019-04-01T00:00:00.000000000",
          "2019-05-01T00:00:00.000000000",
          "2019-06-01T00:00:00.000000000",
          "2019-07-01T00:00:00.000000000",
          "2019-08-01T00:00:00.000000000",
          "2019-09-01T00:00:00.000000000",
          "2019-10-01T00:00:00.000000000",
          "2019-11-01T00:00:00.000000000",
          "2019-12-01T00:00:00.000000000",
          "2020-01-01T00:00:00.000000000",
          "2020-02-01T00:00:00.000000000",
          "2020-03-01T00:00:00.000000000",
          "2020-04-01T00:00:00.000000000",
          "2020-05-01T00:00:00.000000000",
          "2020-06-01T00:00:00.000000000",
          "2020-07-01T00:00:00.000000000",
          "2020-08-01T00:00:00.000000000",
          "2020-09-01T00:00:00.000000000",
          "2020-10-01T00:00:00.000000000",
          "2020-11-01T00:00:00.000000000",
          "2020-12-01T00:00:00.000000000",
          "2021-01-01T00:00:00.000000000",
          "2021-02-01T00:00:00.000000000",
          "2021-03-01T00:00:00.000000000",
          "2021-04-01T00:00:00.000000000",
          "2021-05-01T00:00:00.000000000",
          "2021-06-01T00:00:00.000000000",
          "2021-07-01T00:00:00.000000000",
          "2021-08-01T00:00:00.000000000",
          "2021-09-01T00:00:00.000000000",
          "2021-10-01T00:00:00.000000000",
          "2021-11-01T00:00:00.000000000",
          "2021-12-01T00:00:00.000000000",
          "2022-01-01T00:00:00.000000000",
          "2022-02-01T00:00:00.000000000",
          "2022-03-01T00:00:00.000000000",
          "2022-04-01T00:00:00.000000000",
          "2022-05-01T00:00:00.000000000",
          "2022-06-01T00:00:00.000000000",
          "2022-07-01T00:00:00.000000000",
          "2022-08-01T00:00:00.000000000",
          "2022-09-01T00:00:00.000000000",
          "2022-10-01T00:00:00.000000000",
          "2022-11-01T00:00:00.000000000",
          "2022-12-01T00:00:00.000000000",
          "2023-01-01T00:00:00.000000000",
          "2023-02-01T00:00:00.000000000",
          "2023-03-01T00:00:00.000000000",
          "2023-04-01T00:00:00.000000000",
          "2023-05-01T00:00:00.000000000",
          "2023-06-01T00:00:00.000000000",
          "2023-07-01T00:00:00.000000000",
          "2023-08-01T00:00:00.000000000",
          "2023-09-01T00:00:00.000000000",
          "2023-10-01T00:00:00.000000000",
          "2023-11-01T00:00:00.000000000",
          "2023-12-01T00:00:00.000000000",
          "2024-01-01T00:00:00.000000000",
          "2024-02-01T00:00:00.000000000",
          "2024-03-01T00:00:00.000000000",
          "2024-04-01T00:00:00.000000000",
          "2024-05-01T00:00:00.000000000",
          "2024-06-01T00:00:00.000000000",
          "2024-07-01T00:00:00.000000000",
          "2024-08-01T00:00:00.000000000",
          "2024-09-01T00:00:00.000000000",
          "2024-10-01T00:00:00.000000000",
          "2024-11-01T00:00:00.000000000",
          "2024-12-01T00:00:00.000000000"
         ],
         "y": [
          192.10161508460104,
          192.42260096918073,
          192.74358685376043,
          193.06457273834013,
          193.38555862291983,
          193.7065445074995,
          194.0275303920792,
          194.3485162766589,
          194.6695021612386,
          194.9904880458183,
          195.311473930398,
          195.6324598149777,
          195.9534456995574,
          196.2744315841371,
          196.5954174687168,
          196.91640335329646,
          197.23738923787616,
          197.55837512245586,
          197.87936100703556,
          198.20034689161525,
          198.52133277619495,
          198.84231866077465,
          199.16330454535435,
          199.48429042993405,
          199.80527631451375,
          200.12626219909345,
          200.44724808367312,
          200.76823396825282,
          201.0892198528325,
          201.4102057374122,
          201.7311916219919,
          202.0521775065716,
          202.3731633911513,
          202.694149275731,
          203.0151351603107,
          203.3361210448904,
          203.65710692947007,
          203.97809281404977,
          204.29907869862947,
          204.62006458320917,
          204.94105046778887,
          205.26203635236857,
          205.58302223694827,
          205.90400812152797,
          206.22499400610766,
          206.54597989068736,
          206.86696577526703,
          207.18795165984673,
          174.50893754442643,
          180.82992342900613,
          160.15090931358583,
          160.47189519816553,
          160.79288108274523,
          161.11386696732492,
          161.43485285190462,
          215.75583873648432,
          221.07682462106402,
          227.3978105056437,
          232.7187963902234,
          239.0397822748031,
          244.3607681593828,
          250.68175404396248,
          256.00273992854216,
          95.32372581312188,
          95.64471169770158,
          273.9656975822813,
          279.28668346686095,
          285.6076693514407,
          290.92865523602035,
          297.2496411206,
          303.57062700517974,
          308.8916128897595,
          315.21259877433914,
          320.5335846589188,
          326.85457054349854,
          332.17555642807827,
          338.49654231265794,
          343.8175281972376,
          350.13851408181733,
          355.459499966397,
          361.7804858509767,
          367.1014717355564,
          373.42245762013613,
          378.7434435047158,
          385.06442938929547,
          390.3854152738752,
          396.7064011584549,
          402.0273870430346,
          408.34837292761426,
          413.669358812194,
          419.99034469677366,
          425.31133058135333,
          431.63231646593306,
          437.9533023505128,
          443.27428823509246,
          449.5952741196721,
          454.91626000425185,
          461.2372458888316,
          466.55823177341125,
          472.8792176579909,
          478.20020354257065,
          484.5211894271503,
          489.84217531173,
          496.1631611963097,
          501.48414708088944,
          507.8051329654691,
          513.1261188500488,
          519.4471047346285
         ]
        }
       ],
       "layout": {
        "legend": {
         "title": {
          "text": "Legend"
         }
        },
        "template": {
         "data": {
          "bar": [
           {
            "error_x": {
             "color": "#2a3f5f"
            },
            "error_y": {
             "color": "#2a3f5f"
            },
            "marker": {
             "line": {
              "color": "#E5ECF6",
              "width": 0.5
             },
             "pattern": {
              "fillmode": "overlay",
              "size": 10,
              "solidity": 0.2
             }
            },
            "type": "bar"
           }
          ],
          "barpolar": [
           {
            "marker": {
             "line": {
              "color": "#E5ECF6",
              "width": 0.5
             },
             "pattern": {
              "fillmode": "overlay",
              "size": 10,
              "solidity": 0.2
             }
            },
            "type": "barpolar"
           }
          ],
          "carpet": [
           {
            "aaxis": {
             "endlinecolor": "#2a3f5f",
             "gridcolor": "white",
             "linecolor": "white",
             "minorgridcolor": "white",
             "startlinecolor": "#2a3f5f"
            },
            "baxis": {
             "endlinecolor": "#2a3f5f",
             "gridcolor": "white",
             "linecolor": "white",
             "minorgridcolor": "white",
             "startlinecolor": "#2a3f5f"
            },
            "type": "carpet"
           }
          ],
          "choropleth": [
           {
            "colorbar": {
             "outlinewidth": 0,
             "ticks": ""
            },
            "type": "choropleth"
           }
          ],
          "contour": [
           {
            "colorbar": {
             "outlinewidth": 0,
             "ticks": ""
            },
            "colorscale": [
             [
              0,
              "#0d0887"
             ],
             [
              0.1111111111111111,
              "#46039f"
             ],
             [
              0.2222222222222222,
              "#7201a8"
             ],
             [
              0.3333333333333333,
              "#9c179e"
             ],
             [
              0.4444444444444444,
              "#bd3786"
             ],
             [
              0.5555555555555556,
              "#d8576b"
             ],
             [
              0.6666666666666666,
              "#ed7953"
             ],
             [
              0.7777777777777778,
              "#fb9f3a"
             ],
             [
              0.8888888888888888,
              "#fdca26"
             ],
             [
              1,
              "#f0f921"
             ]
            ],
            "type": "contour"
           }
          ],
          "contourcarpet": [
           {
            "colorbar": {
             "outlinewidth": 0,
             "ticks": ""
            },
            "type": "contourcarpet"
           }
          ],
          "heatmap": [
           {
            "colorbar": {
             "outlinewidth": 0,
             "ticks": ""
            },
            "colorscale": [
             [
              0,
              "#0d0887"
             ],
             [
              0.1111111111111111,
              "#46039f"
             ],
             [
              0.2222222222222222,
              "#7201a8"
             ],
             [
              0.3333333333333333,
              "#9c179e"
             ],
             [
              0.4444444444444444,
              "#bd3786"
             ],
             [
              0.5555555555555556,
              "#d8576b"
             ],
             [
              0.6666666666666666,
              "#ed7953"
             ],
             [
              0.7777777777777778,
              "#fb9f3a"
             ],
             [
              0.8888888888888888,
              "#fdca26"
             ],
             [
              1,
              "#f0f921"
             ]
            ],
            "type": "heatmap"
           }
          ],
          "heatmapgl": [
           {
            "colorbar": {
             "outlinewidth": 0,
             "ticks": ""
            },
            "colorscale": [
             [
              0,
              "#0d0887"
             ],
             [
              0.1111111111111111,
              "#46039f"
             ],
             [
              0.2222222222222222,
              "#7201a8"
             ],
             [
              0.3333333333333333,
              "#9c179e"
             ],
             [
              0.4444444444444444,
              "#bd3786"
             ],
             [
              0.5555555555555556,
              "#d8576b"
             ],
             [
              0.6666666666666666,
              "#ed7953"
             ],
             [
              0.7777777777777778,
              "#fb9f3a"
             ],
             [
              0.8888888888888888,
              "#fdca26"
             ],
             [
              1,
              "#f0f921"
             ]
            ],
            "type": "heatmapgl"
           }
          ],
          "histogram": [
           {
            "marker": {
             "pattern": {
              "fillmode": "overlay",
              "size": 10,
              "solidity": 0.2
             }
            },
            "type": "histogram"
           }
          ],
          "histogram2d": [
           {
            "colorbar": {
             "outlinewidth": 0,
             "ticks": ""
            },
            "colorscale": [
             [
              0,
              "#0d0887"
             ],
             [
              0.1111111111111111,
              "#46039f"
             ],
             [
              0.2222222222222222,
              "#7201a8"
             ],
             [
              0.3333333333333333,
              "#9c179e"
             ],
             [
              0.4444444444444444,
              "#bd3786"
             ],
             [
              0.5555555555555556,
              "#d8576b"
             ],
             [
              0.6666666666666666,
              "#ed7953"
             ],
             [
              0.7777777777777778,
              "#fb9f3a"
             ],
             [
              0.8888888888888888,
              "#fdca26"
             ],
             [
              1,
              "#f0f921"
             ]
            ],
            "type": "histogram2d"
           }
          ],
          "histogram2dcontour": [
           {
            "colorbar": {
             "outlinewidth": 0,
             "ticks": ""
            },
            "colorscale": [
             [
              0,
              "#0d0887"
             ],
             [
              0.1111111111111111,
              "#46039f"
             ],
             [
              0.2222222222222222,
              "#7201a8"
             ],
             [
              0.3333333333333333,
              "#9c179e"
             ],
             [
              0.4444444444444444,
              "#bd3786"
             ],
             [
              0.5555555555555556,
              "#d8576b"
             ],
             [
              0.6666666666666666,
              "#ed7953"
             ],
             [
              0.7777777777777778,
              "#fb9f3a"
             ],
             [
              0.8888888888888888,
              "#fdca26"
             ],
             [
              1,
              "#f0f921"
             ]
            ],
            "type": "histogram2dcontour"
           }
          ],
          "mesh3d": [
           {
            "colorbar": {
             "outlinewidth": 0,
             "ticks": ""
            },
            "type": "mesh3d"
           }
          ],
          "parcoords": [
           {
            "line": {
             "colorbar": {
              "outlinewidth": 0,
              "ticks": ""
             }
            },
            "type": "parcoords"
           }
          ],
          "pie": [
           {
            "automargin": true,
            "type": "pie"
           }
          ],
          "scatter": [
           {
            "fillpattern": {
             "fillmode": "overlay",
             "size": 10,
             "solidity": 0.2
            },
            "type": "scatter"
           }
          ],
          "scatter3d": [
           {
            "line": {
             "colorbar": {
              "outlinewidth": 0,
              "ticks": ""
             }
            },
            "marker": {
             "colorbar": {
              "outlinewidth": 0,
              "ticks": ""
             }
            },
            "type": "scatter3d"
           }
          ],
          "scattercarpet": [
           {
            "marker": {
             "colorbar": {
              "outlinewidth": 0,
              "ticks": ""
             }
            },
            "type": "scattercarpet"
           }
          ],
          "scattergeo": [
           {
            "marker": {
             "colorbar": {
              "outlinewidth": 0,
              "ticks": ""
             }
            },
            "type": "scattergeo"
           }
          ],
          "scattergl": [
           {
            "marker": {
             "colorbar": {
              "outlinewidth": 0,
              "ticks": ""
             }
            },
            "type": "scattergl"
           }
          ],
          "scattermapbox": [
           {
            "marker": {
             "colorbar": {
              "outlinewidth": 0,
              "ticks": ""
             }
            },
            "type": "scattermapbox"
           }
          ],
          "scatterpolar": [
           {
            "marker": {
             "colorbar": {
              "outlinewidth": 0,
              "ticks": ""
             }
            },
            "type": "scatterpolar"
           }
          ],
          "scatterpolargl": [
           {
            "marker": {
             "colorbar": {
              "outlinewidth": 0,
              "ticks": ""
             }
            },
            "type": "scatterpolargl"
           }
          ],
          "scatterternary": [
           {
            "marker": {
             "colorbar": {
              "outlinewidth": 0,
              "ticks": ""
             }
            },
            "type": "scatterternary"
           }
          ],
          "surface": [
           {
            "colorbar": {
             "outlinewidth": 0,
             "ticks": ""
            },
            "colorscale": [
             [
              0,
              "#0d0887"
             ],
             [
              0.1111111111111111,
              "#46039f"
             ],
             [
              0.2222222222222222,
              "#7201a8"
             ],
             [
              0.3333333333333333,
              "#9c179e"
             ],
             [
              0.4444444444444444,
              "#bd3786"
             ],
             [
              0.5555555555555556,
              "#d8576b"
             ],
             [
              0.6666666666666666,
              "#ed7953"
             ],
             [
              0.7777777777777778,
              "#fb9f3a"
             ],
             [
              0.8888888888888888,
              "#fdca26"
             ],
             [
              1,
              "#f0f921"
             ]
            ],
            "type": "surface"
           }
          ],
          "table": [
           {
            "cells": {
             "fill": {
              "color": "#EBF0F8"
             },
             "line": {
              "color": "white"
             }
            },
            "header": {
             "fill": {
              "color": "#C8D4E3"
             },
             "line": {
              "color": "white"
             }
            },
            "type": "table"
           }
          ]
         },
         "layout": {
          "annotationdefaults": {
           "arrowcolor": "#2a3f5f",
           "arrowhead": 0,
           "arrowwidth": 1
          },
          "autotypenumbers": "strict",
          "coloraxis": {
           "colorbar": {
            "outlinewidth": 0,
            "ticks": ""
           }
          },
          "colorscale": {
           "diverging": [
            [
             0,
             "#8e0152"
            ],
            [
             0.1,
             "#c51b7d"
            ],
            [
             0.2,
             "#de77ae"
            ],
            [
             0.3,
             "#f1b6da"
            ],
            [
             0.4,
             "#fde0ef"
            ],
            [
             0.5,
             "#f7f7f7"
            ],
            [
             0.6,
             "#e6f5d0"
            ],
            [
             0.7,
             "#b8e186"
            ],
            [
             0.8,
             "#7fbc41"
            ],
            [
             0.9,
             "#4d9221"
            ],
            [
             1,
             "#276419"
            ]
           ],
           "sequential": [
            [
             0,
             "#0d0887"
            ],
            [
             0.1111111111111111,
             "#46039f"
            ],
            [
             0.2222222222222222,
             "#7201a8"
            ],
            [
             0.3333333333333333,
             "#9c179e"
            ],
            [
             0.4444444444444444,
             "#bd3786"
            ],
            [
             0.5555555555555556,
             "#d8576b"
            ],
            [
             0.6666666666666666,
             "#ed7953"
            ],
            [
             0.7777777777777778,
             "#fb9f3a"
            ],
            [
             0.8888888888888888,
             "#fdca26"
            ],
            [
             1,
             "#f0f921"
            ]
           ],
           "sequentialminus": [
            [
             0,
             "#0d0887"
            ],
            [
             0.1111111111111111,
             "#46039f"
            ],
            [
             0.2222222222222222,
             "#7201a8"
            ],
            [
             0.3333333333333333,
             "#9c179e"
            ],
            [
             0.4444444444444444,
             "#bd3786"
            ],
            [
             0.5555555555555556,
             "#d8576b"
            ],
            [
             0.6666666666666666,
             "#ed7953"
            ],
            [
             0.7777777777777778,
             "#fb9f3a"
            ],
            [
             0.8888888888888888,
             "#fdca26"
            ],
            [
             1,
             "#f0f921"
            ]
           ]
          },
          "colorway": [
           "#636efa",
           "#EF553B",
           "#00cc96",
           "#ab63fa",
           "#FFA15A",
           "#19d3f3",
           "#FF6692",
           "#B6E880",
           "#FF97FF",
           "#FECB52"
          ],
          "font": {
           "color": "#2a3f5f"
          },
          "geo": {
           "bgcolor": "white",
           "lakecolor": "white",
           "landcolor": "#E5ECF6",
           "showlakes": true,
           "showland": true,
           "subunitcolor": "white"
          },
          "hoverlabel": {
           "align": "left"
          },
          "hovermode": "closest",
          "mapbox": {
           "style": "light"
          },
          "paper_bgcolor": "white",
          "plot_bgcolor": "#E5ECF6",
          "polar": {
           "angularaxis": {
            "gridcolor": "white",
            "linecolor": "white",
            "ticks": ""
           },
           "bgcolor": "#E5ECF6",
           "radialaxis": {
            "gridcolor": "white",
            "linecolor": "white",
            "ticks": ""
           }
          },
          "scene": {
           "xaxis": {
            "backgroundcolor": "#E5ECF6",
            "gridcolor": "white",
            "gridwidth": 2,
            "linecolor": "white",
            "showbackground": true,
            "ticks": "",
            "zerolinecolor": "white"
           },
           "yaxis": {
            "backgroundcolor": "#E5ECF6",
            "gridcolor": "white",
            "gridwidth": 2,
            "linecolor": "white",
            "showbackground": true,
            "ticks": "",
            "zerolinecolor": "white"
           },
           "zaxis": {
            "backgroundcolor": "#E5ECF6",
            "gridcolor": "white",
            "gridwidth": 2,
            "linecolor": "white",
            "showbackground": true,
            "ticks": "",
            "zerolinecolor": "white"
           }
          },
          "shapedefaults": {
           "line": {
            "color": "#2a3f5f"
           }
          },
          "ternary": {
           "aaxis": {
            "gridcolor": "white",
            "linecolor": "white",
            "ticks": ""
           },
           "baxis": {
            "gridcolor": "white",
            "linecolor": "white",
            "ticks": ""
           },
           "bgcolor": "#E5ECF6",
           "caxis": {
            "gridcolor": "white",
            "linecolor": "white",
            "ticks": ""
           }
          },
          "title": {
           "x": 0.05
          },
          "xaxis": {
           "automargin": true,
           "gridcolor": "white",
           "linecolor": "white",
           "ticks": "",
           "title": {
            "standoff": 15
           },
           "zerolinecolor": "white",
           "zerolinewidth": 2
          },
          "yaxis": {
           "automargin": true,
           "gridcolor": "white",
           "linecolor": "white",
           "ticks": "",
           "title": {
            "standoff": 15
           },
           "zerolinecolor": "white",
           "zerolinewidth": 2
          }
         }
        },
        "title": {
         "text": "F00-F09 - Transtornos mentais orgânicos, inclusive os sintomáticos"
        },
        "xaxis": {
         "title": {
          "text": "Time"
         }
        },
        "yaxis": {
         "title": {
          "text": "Value"
         }
        }
       }
      }
     },
     "metadata": {},
     "output_type": "display_data"
    }
   ],
   "source": [
    "for variable in results:\n",
    "    variable_result = results[variable]\n",
    "    variable_df = RegressionDF[RegressionDF[VARIABLE_COLUMN_NAME] == variable]\n",
    "    plot_with_all_dummies(variable, variable_df, variable_result, DummyIndexes)\n"
   ]
  }
 ],
 "metadata": {
  "colab": {
   "authorship_tag": "ABX9TyNOLxZOoce2yHmr6XCh0F+2",
   "collapsed_sections": [
    "EwX1y9X8yfED",
    "QDBIDev2zRdM"
   ],
   "include_colab_link": true,
   "mount_file_id": "1mtU-p7lJEB4nbIv46bqll0vutSNv3pZj",
   "provenance": [],
   "toc_visible": true
  },
  "kernelspec": {
   "display_name": "Python 3",
   "name": "python3"
  },
  "language_info": {
   "codemirror_mode": {
    "name": "ipython",
    "version": 3
   },
   "file_extension": ".py",
   "mimetype": "text/x-python",
   "name": "python",
   "nbconvert_exporter": "python",
   "pygments_lexer": "ipython3",
   "version": "3.12.5"
  }
 },
 "nbformat": 4,
 "nbformat_minor": 0
}
