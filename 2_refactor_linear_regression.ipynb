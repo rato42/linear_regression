{
  "cells": [
    {
      "cell_type": "markdown",
      "metadata": {
        "id": "view-in-github"
      },
      "source": [
        "<a href=\"https://colab.research.google.com/github/rato42/linear_regression/blob/unstable-yeah-sure/CLASSBASED_new_linear_regression.ipynb\" target=\"_parent\"><img src=\"https://colab.research.google.com/assets/colab-badge.svg\" alt=\"Open In Colab\"/></a>"
      ]
    },
    {
      "cell_type": "markdown",
      "metadata": {
        "id": "EwX1y9X8yfED"
      },
      "source": [
        "# Imports\n"
      ]
    },
    {
      "cell_type": "code",
      "execution_count": 2338,
      "metadata": {
        "colab": {
          "base_uri": "https://localhost:8080/"
        },
        "id": "sOJUZR18gkp5",
        "outputId": "dd4a2f5c-7c6d-4675-937c-4e5202e40ef1"
      },
      "outputs": [
        {
          "name": "stdout",
          "output_type": "stream",
          "text": [
            "Running outside Colab (VS Code/local)\n"
          ]
        }
      ],
      "source": [
        "import sys\n",
        "\n",
        "# Detect Colab environment\n",
        "IN_COLAB = \"google.colab\" in sys.modules\n",
        "\n",
        "if IN_COLAB:\n",
        "    from google.colab import drive, auth\n",
        "    from googleapiclient.discovery import build\n",
        "    from googleapiclient.http import MediaIoBaseDownload\n",
        "    !pip install pwlf\n",
        "\n",
        "    import pwlf\n",
        "\n",
        "    auth.authenticate_user()\n",
        "    drive.mount(\"/content/drive\")\n",
        "else:\n",
        "    import pwlf\n",
        "    from oauth2client.service_account import ServiceAccountCredentials\n",
        "\n",
        "    print(\"Running outside Colab (VS Code/local)\")\n",
        "\n",
        "try:\n",
        "    import gspread\n",
        "except ModuleNotFoundError:\n",
        "    if IN_COLAB and \"google.colab\" in str(get_ipython()):\n",
        "        %pip install gspread\n",
        "    import gspread\n",
        "\n",
        "from gspread_dataframe import set_with_dataframe"
      ]
    },
    {
      "cell_type": "code",
      "execution_count": 2339,
      "metadata": {
        "id": "uc_HtA6xvVE2"
      },
      "outputs": [],
      "source": [
        "\n",
        "import os\n",
        "\n",
        "import time\n",
        "\n",
        "import math\n",
        "import scipy.stats as stats\n",
        "import pandas as pd\n",
        "import numpy as np\n",
        "\n",
        "from statsmodels.genmod.generalized_estimating_equations import GEE\n",
        "from statsmodels.genmod.families import Poisson\n",
        "from statsmodels.genmod.cov_struct import Autoregressive\n",
        "\n",
        "from scipy.stats import chi2\n",
        "from sklearn.linear_model import Ridge\n",
        "import statsmodels.api as sm\n",
        "import copy\n",
        "\n",
        "from openpyxl import load_workbook\n",
        "from openpyxl.styles import Alignment\n",
        "\n",
        "from scipy.stats import linregress, ttest_ind, ttest_rel, ttest_1samp\n",
        "import matplotlib.pyplot as plt\n",
        "import re\n",
        "from openpyxl.drawing.image import Image\n",
        "from matplotlib.font_manager import FontProperties\n",
        "from io import BytesIO\n",
        "import statsmodels.formula.api as smf\n",
        "import statsmodels.api as sm\n",
        "\n",
        "import numpy as np\n",
        "import plotly.graph_objects as go\n",
        "\n",
        "\n",
        "from datetime import datetime, timedelta\n",
        "\n",
        "from statsmodels.stats.stattools import durbin_watson\n",
        "from statsmodels.stats.diagnostic import acorr_ljungbox\n",
        "from statsmodels.tools.tools import add_constant\n",
        "from statsmodels.tsa.arima.model import ARIMA\n",
        "from statsmodels.graphics.tsaplots import plot_acf, plot_pacf\n",
        "from statsmodels.tsa.statespace.sarimax import SARIMAX\n",
        "\n",
        "from sklearn.preprocessing import StandardScaler\n",
        "from sklearn.model_selection import train_test_split\n",
        "from sklearn.metrics import r2_score, mean_squared_error\n",
        "from sklearn.pipeline import Pipeline\n",
        "from sklearn.base import BaseEstimator, TransformerMixin\n",
        "from sklearn.preprocessing import FunctionTransformer\n",
        "from statsmodels.genmod.families import Gamma\n",
        "from dateutil.relativedelta import relativedelta\n",
        "\n",
        "from sklearn import set_config\n",
        "set_config(display=\"diagram\")\n",
        "\n",
        "import logging\n",
        "from typing import Dict, Any\n",
        "\n",
        "import io"
      ]
    },
    {
      "cell_type": "markdown",
      "metadata": {
        "id": "M6pmUGm9ycJ_"
      },
      "source": [
        "# LOAD --- data from gsheet if colab or local\n"
      ]
    },
    {
      "cell_type": "code",
      "execution_count": 2340,
      "metadata": {
        "id": "r6jsbsBZvWHp"
      },
      "outputs": [],
      "source": [
        "dados_brutos = None\n",
        "output_wksheet = None\n",
        "\n",
        "input_path = \"https://docs.google.com/spreadsheets/d/1m3eEaxWT4Unb8jBZWKjiLivavfA0x3PT1F1Rz1eXwVE/edit?gid=0\"\n",
        "output_path = \"https://docs.google.com/spreadsheets/d/1RzC3DfKNUwYA-qfUN0i53hUwRkWGMBOCoYQqdqG4MQY/edit?gid=0\"\n",
        "\n",
        "local_input_path = (\n",
        "    #\"D:\\\\CodeStuff\\\\Stats\\\\colab_linear_regression\\\\linear_regression\\\\input\\\\input.csv\" ### poa\n",
        "    #\"D:\\\\CodeStuff\\\\Stats\\\\colab_linear_regression\\\\linear_regression\\\\input\\\\input_backup_com_aps_total_RS.xlsx\" ### rs\n",
        "    #\"D:\\\\CodeStuff\\\\Stats\\\\colab_linear_regression\\\\linear_regression\\\\input\\\\input_backup_com_aps_total.xlsx\"\n",
        "    #\"D:\\\\CodeStuff\\\\Stats\\\\colab_linear_regression\\\\linear_regression\\\\input\\\\input_backup_com_aps_total_RS_percentual.xlsx\"\n",
        "    #\"D:\\\\CodeStuff\\\\Stats\\\\colab_linear_regression\\\\linear_regression\\\\input\\\\input_IR_1000_poa.xlsx\"\n",
        "    #\"D:\\\\CodeStuff\\\\Stats\\\\colab_linear_regression\\\\linear_regression\\\\input\\\\input_IR_1000_brasil.xlsx\"\n",
        "    #\"D:\\\\CodeStuff\\\\Stats\\\\colab_linear_regression\\\\linear_regression\\\\input\\\\regions_IR_1000.xlsx\"\n",
        "    \"D:\\\\CodeStuff\\\\Stats\\\\colab_linear_regression\\\\linear_regression\\\\input\\\\raw_regions_joined.xlsx\"\n",
        ")\n",
        "\n",
        "output_wksheet = None\n",
        "\n",
        "if IN_COLAB:\n",
        "    import gspread\n",
        "    from google.auth import default\n",
        "\n",
        "    auth.authenticate_user()\n",
        "    creds, _ = default()\n",
        "    gc = gspread.authorize(creds)\n",
        "    workbook = gc.open_by_url(input_path)\n",
        "    worksheets = workbook.worksheets()\n",
        "    output_wksheet = gc.open_by_url(output_path)\n",
        "    dados_brutos = worksheets[0].get_all_values()\n",
        "else:\n",
        "    try:\n",
        "        dados_brutos = pd.read_csv(local_input_path, header=None).values.tolist()\n",
        "    except:\n",
        "        dados_brutos = pd.read_excel(local_input_path, header=None).values.tolist()"
      ]
    },
    {
      "cell_type": "markdown",
      "metadata": {
        "id": "wNrVpR84NIXY"
      },
      "source": [
        "# TODO LIST"
      ]
    },
    {
      "cell_type": "markdown",
      "metadata": {},
      "source": [
        "PROMPT\n",
        "im doing a ITS. here is the structure\n",
        "data is monthly, from 2016 to 2024\n",
        "A PraisWinsten regression\n",
        "\n",
        "the following dummies:\n",
        "Pandemia_Step [2020 - 2022] - binary\n",
        "Pandemia_Trend [2020 - 2022] - increase by 1 by period\n",
        "PosPandemia_Step [2022 - 2024] - binary\n",
        "PosPandemia_Trend [2022 - 2024] - increase by 1 by period\n",
        "Lockdown 2020 [03/2020 - 05/2020] - pulse, binary\n",
        "Locdown 2021 [04/2021 - 05/2021] - pulse, binary"
      ]
    },
    {
      "cell_type": "code",
      "execution_count": 2341,
      "metadata": {},
      "outputs": [
        {
          "data": {
            "text/plain": [
              "'\\nStructured Prompt for Analysis\\n\\nStudy Context\\nI am conducting an Interrupted Time Series (ITS) analysis to evaluate the impact of the COVID-19 pandemic on mental health visit rates (per 1,000 total visits). The goal is to model changes in mental health visit rates before, during, and after the pandemic, adjusting for seasonality and underlying trends.\\nData Structure\\n\\n    Outcome: Count of mental health visits (integer).\\n\\n    Predictors:\\n\\n        Time variables (e.g., periodo, Pandemia_Step, Pandemia_Trend, PosPandemia_Step, PosPandemia_Trend).\\n\\n        Seasonal controls (Fourier terms: cos1, sin1).\\n\\n    Offset: log(total_visits / 1000) to model rates (visits per 1,000 total visits).\\n\\n    Sample: 108 monthly observations.\\n\\nKey Challenges\\n\\n    Severe Overdispersion: Initial Poisson models show extreme overdispersion (Pearson χ²/df ≈ 456).\\n\\n    Rate Modeling: Properly handling the offset to convert counts into rates.\\n\\nModels Considered\\n\\n    Poisson GLM with Offset\\n\\n        Pros: Theoretically appropriate for count rates.\\n\\n        Cons: Fails to address overdispersion, leading to underestimated SEs and inflated significance.\\n\\n    Negative Binomial (NB) GLM with Offset\\n\\n        Pros: Explicitly models overdispersion via dispersion parameter α.\\n\\n        Cons: Requires careful interpretation of α in rate contexts.\\n\\n    Quasi-Poisson with Manual SE Adjustment\\n\\n        Pros: Adjusts SEs post-hoc using dispersion factor φ = Pearson χ² / df.\\n\\n        Cons: Ad-hoc implementation in Python (no built-in support), lacks likelihood-based inference.\\n\\nKey Results\\nModel    Dispersion Handling    Significant Findings\\nPoisson (naive)    None (ϕ=1 assumed)    Overly optimistic p-values (all significant)\\nNegative Binomial    Explicit (α ≈ 0.5)    Most effects non-significant post-adjustment\\nQuasi-Poisson (HC1)    Post-hoc SE scaling    Intermediate significance (e.g., PosPandemia_Trend p=0.015)\\nQuestion\\n\\nWhich model is most appropriate for valid inference?\\n\\n    Does the Negative Binomial model’s use of an offset and dispersion parameter α create interpretational conflicts for rates?\\n\\n    Is Quasi-Poisson with robust SEs (HC1) sufficient despite lacking a formal likelihood?\\n\\n    Should I prioritize Poisson with robust SEs or switch to Negative Binomial?\\n\\nAdditional Context:\\n\\n    Implementation is in Python (statsmodels).\\n\\n    The final model must support hypothesis testing (e.g., step/trend changes during pandemic).\\n\\nWhat’s the best approach?\\n'"
            ]
          },
          "execution_count": 2341,
          "metadata": {},
          "output_type": "execute_result"
        }
      ],
      "source": [
        "'''\n",
        "Structured Prompt for Analysis\n",
        "\n",
        "Study Context\n",
        "I am conducting an Interrupted Time Series (ITS) analysis to evaluate the impact of the COVID-19 pandemic on mental health visit rates (per 1,000 total visits). The goal is to model changes in mental health visit rates before, during, and after the pandemic, adjusting for seasonality and underlying trends.\n",
        "Data Structure\n",
        "\n",
        "    Outcome: Count of mental health visits (integer).\n",
        "\n",
        "    Predictors:\n",
        "\n",
        "        Time variables (e.g., periodo, Pandemia_Step, Pandemia_Trend, PosPandemia_Step, PosPandemia_Trend).\n",
        "\n",
        "        Seasonal controls (Fourier terms: cos1, sin1).\n",
        "\n",
        "    Offset: log(total_visits / 1000) to model rates (visits per 1,000 total visits).\n",
        "\n",
        "    Sample: 108 monthly observations.\n",
        "\n",
        "Key Challenges\n",
        "\n",
        "    Severe Overdispersion: Initial Poisson models show extreme overdispersion (Pearson χ²/df ≈ 456).\n",
        "\n",
        "    Rate Modeling: Properly handling the offset to convert counts into rates.\n",
        "\n",
        "Models Considered\n",
        "\n",
        "    Poisson GLM with Offset\n",
        "\n",
        "        Pros: Theoretically appropriate for count rates.\n",
        "\n",
        "        Cons: Fails to address overdispersion, leading to underestimated SEs and inflated significance.\n",
        "\n",
        "    Negative Binomial (NB) GLM with Offset\n",
        "\n",
        "        Pros: Explicitly models overdispersion via dispersion parameter α.\n",
        "\n",
        "        Cons: Requires careful interpretation of α in rate contexts.\n",
        "\n",
        "    Quasi-Poisson with Manual SE Adjustment\n",
        "\n",
        "        Pros: Adjusts SEs post-hoc using dispersion factor φ = Pearson χ² / df.\n",
        "\n",
        "        Cons: Ad-hoc implementation in Python (no built-in support), lacks likelihood-based inference.\n",
        "\n",
        "Key Results\n",
        "Model    Dispersion Handling    Significant Findings\n",
        "Poisson (naive)    None (ϕ=1 assumed)    Overly optimistic p-values (all significant)\n",
        "Negative Binomial    Explicit (α ≈ 0.5)    Most effects non-significant post-adjustment\n",
        "Quasi-Poisson (HC1)    Post-hoc SE scaling    Intermediate significance (e.g., PosPandemia_Trend p=0.015)\n",
        "Question\n",
        "\n",
        "Which model is most appropriate for valid inference?\n",
        "\n",
        "    Does the Negative Binomial model’s use of an offset and dispersion parameter α create interpretational conflicts for rates?\n",
        "\n",
        "    Is Quasi-Poisson with robust SEs (HC1) sufficient despite lacking a formal likelihood?\n",
        "\n",
        "    Should I prioritize Poisson with robust SEs or switch to Negative Binomial?\n",
        "\n",
        "Additional Context:\n",
        "\n",
        "    Implementation is in Python (statsmodels).\n",
        "\n",
        "    The final model must support hypothesis testing (e.g., step/trend changes during pandemic).\n",
        "\n",
        "What’s the best approach?\n",
        "'''"
      ]
    },
    {
      "cell_type": "markdown",
      "metadata": {},
      "source": []
    },
    {
      "cell_type": "code",
      "execution_count": 2342,
      "metadata": {},
      "outputs": [],
      "source": [
        "#Parte 1 – Análise geral com grupo controle\n",
        "#\n",
        "#    ITS com controle (como já falamos)\n",
        "#\n",
        "#    Mostra que saúde mental cresceu mais que os atendimentos gerais\n",
        "#\n",
        "#    Mostra os efeitos da pandemia nesse comportamento\n",
        "#\n",
        "#Parte 2 – Análise dos subgrupos (sem controle)\n",
        "#\n",
        "#    ITS separado para cada diagnóstico (ex: CID-10 F32, F41, etc.)\n",
        "#\n",
        "#    Sem grupo controle, mas comparando antes/depois da pandemia\n",
        "#\n",
        "#    Pode usar o mesmo modelo (Prais-Winsten com step + trend)"
      ]
    },
    {
      "cell_type": "code",
      "execution_count": 2343,
      "metadata": {},
      "outputs": [],
      "source": [
        "#Omnibus Test: The high value (41.163) and the p-value (< 0.0001) \n",
        "# suggest that the residuals deviate from normality, which might indicate some model specification issues.\n",
        "#\n",
        "#Jarque-Bera Test: Similarly, this test suggests non-normality in the residuals."
      ]
    },
    {
      "cell_type": "code",
      "execution_count": 2344,
      "metadata": {},
      "outputs": [
        {
          "data": {
            "text/plain": [
              "'\\nimport statsmodels.api as sm\\n\\n# model with step\\nmod_full = sm.OLS(y, X_full).fit()\\n\\n# model without step\\nmod_reduced = sm.OLS(y, X_reduced).fit()\\n\\n# compare using F-test\\nf_test_result = mod_full.compare_f_test(mod_reduced)\\n'"
            ]
          },
          "execution_count": 2344,
          "metadata": {},
          "output_type": "execute_result"
        }
      ],
      "source": [
        "### to test if step is necessary\n",
        "\n",
        "'''\n",
        "import statsmodels.api as sm\n",
        "\n",
        "# model with step\n",
        "mod_full = sm.OLS(y, X_full).fit()\n",
        "\n",
        "# model without step\n",
        "mod_reduced = sm.OLS(y, X_reduced).fit()\n",
        "\n",
        "# compare using F-test\n",
        "f_test_result = mod_full.compare_f_test(mod_reduced)\n",
        "'''"
      ]
    },
    {
      "cell_type": "code",
      "execution_count": 2345,
      "metadata": {
        "id": "5yCwGqXBNIXY"
      },
      "outputs": [],
      "source": [
        "# TODO: Adicionar dummy de interação para comparar SM e outros atendimentos\n",
        "\n",
        "# TODO: Orthogonalise pospand trend (so to not have colinearity with months)\n",
        "\n",
        "# TODO: analisar overfitting\n",
        "\n",
        "# TODO: taxa. a população se mantem estavel? os serviços de saude se mantem estaveis?\n",
        "\n",
        "# https://chatgpt.com/canvas/shared/68084b682c548191a92db280344e5474"
      ]
    },
    {
      "cell_type": "markdown",
      "metadata": {
        "id": "gGzVKl7DNIXZ"
      },
      "source": [
        "--- Low HIGH COMPLEXITY\n",
        "\n",
        "- [x] Data Quality & Exploration  \n",
        "  - [x] Plot the raw time series and annotate intervention points.  \n",
        "  - [x] Check for missing values, outliers, or data entry errors.  \n",
        "  - [x] Verify your date index is consistent (e.g., monthly frequency).  \n",
        "\n",
        "- [x] Descriptive Statistics  \n",
        "  - [x] Compute summary statistics (mean, variance) before and after the pandemic.  \n",
        "  - [x] Calculate and plot moving averages to smooth trends.  \n",
        "\n",
        "- [x] Dummy Variable Audit  \n",
        "  - [x] Confirm each dummy is coded 0/1 for the correct periods.  \n",
        "  - [x] Review naming consistency and placement in the DataFrame.  \n",
        "\n",
        "- [x] Basic Model Fit  \n",
        "  - [x] Fit the current segmented regression (consults ~ time + level_dummy + slope_dummy + month_dummies + lockdown_outliers).  \n",
        "  - [x] Inspect R², coefficient signs, and p-values to sanity-check effects.  Export this to a readeable format\n",
        "\n",
        "--- MEDIUM COMPLEXITY\n",
        "\n",
        "- [ ] Residual Diagnostics  \n",
        "  - [X] Plot residuals vs. fitted values to check heteroscedasticity.  \n",
        "  - [ ] Examine ACF/PACF of residuals:  \n",
        "    - [X] First using OLS (to confirm the need for AR structure).  \n",
        "    - [X] Then using Prais-Winsten (to assess remaining autocorrelation).  \n",
        "\n",
        "- [ ] Autocorrelation & Robust SE  \n",
        "  - [ ] If autocorrelation exists, adjust standard errors (e.g., Newey-West) or fit an autoregressive error structure (e.g., AR(1)).  \n",
        "  - [ ] Since you’re using Prais-Winsten, this step may be partially addressed — verify with residuals.  \n",
        "\n",
        "- [ ] Seasonality & Trend Flexibility  \n",
        "  - [ ] Test alternative seasonal structures (e.g., Fourier terms) instead of month dummies.  \n",
        "  - [ ] Consider adding a quadratic or spline-based time trend.  \n",
        "\n",
        "- [ ] Outlier Handling  \n",
        "  - [ ] Justify and potentially consolidate lockdown outlier dummies (pulse vs. step).  \n",
        "  - [ ] Compare models with and without these outlier dummies (use AIC/BIC).  \n",
        "\n",
        "- [ ] Multicollinearity Check  \n",
        "  - [ ] Compute Variance Inflation Factors (VIFs) for covariates.  \n",
        "\n",
        "--- HIGH COMPLEXITY\n",
        "\n",
        "- [ ] Adicionar dummy de interação para comparar SM e outros atendimentos\n",
        "\n",
        "- [ ] Time-Series Cross-Validation  \n",
        "  - [ ] Implement rolling-origin evaluation to assess predictive performance.  \n",
        "  - [ ] Compare cross-validated errors (e.g., RMSE) across model specs to detect overfitting.  \n",
        "\n",
        "- [ ] Model Comparison & Selection  \n",
        "  - [ ] Use information criteria (AIC/BIC) to compare alternative models.  \n",
        "  - [ ] Evaluate nested models (e.g., with/without slope change) via likelihood ratio tests.  \n",
        "\n",
        "- [ ] Advanced Interrupted Time Series Methods  \n",
        "  - [ ] Explore Bayesian ITS or segmented regression with autoregressive integrated moving average (ARIMA) errors.  \n",
        "  - [x] Consider structural break tests (e.g., Chow test) for formal change-point detection.  \n",
        "\n",
        "- [ ] Sensitivity & Robustness  \n",
        "  - [ ] Run sensitivity analyses using different intervention start/end dates.  \n",
        "  - [ ] Test robustness to alternative outlier definitions or lag structures.  \n",
        "\n",
        "- [ ] Forecasting & Counterfactuals  \n",
        "  - [ ] Generate counterfactual predictions for the post-pandemic period.  \n",
        "  - [ ] Visualize observed vs. counterfactual to illustrate intervention impact."
      ]
    },
    {
      "cell_type": "code",
      "execution_count": 2346,
      "metadata": {},
      "outputs": [],
      "source": [
        "def build_model_formula(dependant_var, independant_var=False, dummy_names=[]):\n",
        "    \"\"\"\n",
        "    Builds the regression formula dynamically.\n",
        "\n",
        "    Parameters:\n",
        "    -----------\n",
        "    dependant_var : str\n",
        "        The dependent variable (Y).\n",
        "    independant_var : str or bool\n",
        "        The independent variable (X). If False, it will be excluded.\n",
        "    dummy_names : list\n",
        "        List of dummy variable names to include in the formula.\n",
        "\n",
        "    Returns:\n",
        "    --------\n",
        "    str\n",
        "        The regression formula.\n",
        "    \"\"\"\n",
        "    base_model_formula = f\"{dependant_var} ~ \"\n",
        "    if independant_var:\n",
        "        base_model_formula += f\"{independant_var} + \"\n",
        "\n",
        "    # Add dummy variables (including Fourier terms if present)\n",
        "    model_formula = base_model_formula\n",
        "    if dummy_names:\n",
        "        for i, dummy in enumerate(dummy_names):\n",
        "            model_formula += dummy\n",
        "            if i != len(dummy_names) - 1:  # Add '+' if not the last element\n",
        "                model_formula += \" + \"\n",
        "\n",
        "    return model_formula.strip(\" + \"), base_model_formula.strip(\" + \")\n",
        "\n",
        "\n",
        "def build_dummy_names(dummies_args, include_month_dummies, include_quarter_dummies, include_fourier_terms=False, n_harmonics=1):\n",
        "    \"\"\"\n",
        "    Builds the list of dummy variable names dynamically.\n",
        "\n",
        "    Parameters:\n",
        "    -----------\n",
        "    dummies_args : dict\n",
        "        Dictionary of dummy variable configurations.\n",
        "    include_month_dummies : bool\n",
        "        Whether to include month dummies.\n",
        "    include_quarter_dummies : bool\n",
        "        Whether to include quarter dummies.\n",
        "    include_fourier_terms : bool\n",
        "        Whether to include Fourier terms for seasonality.\n",
        "    n_harmonics : int\n",
        "        Number of Fourier harmonics to include.\n",
        "\n",
        "    Returns:\n",
        "    --------\n",
        "    list\n",
        "        List of dummy variable names.\n",
        "    \"\"\"\n",
        "    dummy_names = []\n",
        "\n",
        "    # Add dummy variables from dummies_args\n",
        "    for dummy_name in dummies_args.keys():\n",
        "        dummy_names.append(dummy_name)\n",
        "\n",
        "    # Add Fourier terms if enabled\n",
        "    if include_fourier_terms:\n",
        "        for k in range(1, n_harmonics + 1):\n",
        "            dummy_names.append(f\"cos{k}\")\n",
        "            dummy_names.append(f\"sin{k}\")\n",
        "\n",
        "    # Add month dummies if enabled\n",
        "    if include_month_dummies:\n",
        "        for i in range(1, 12):\n",
        "            dummy_names.append(\"month_\" + str(i + 1))\n",
        "\n",
        "    # Add quarter dummies if enabled\n",
        "    if include_quarter_dummies:\n",
        "        for i in range(1, 4):\n",
        "            dummy_names.append(\"quarter_\" + str(i + 1))\n",
        "\n",
        "    return dummy_names\n"
      ]
    },
    {
      "cell_type": "markdown",
      "metadata": {
        "id": "SAATuGWcyPmG"
      },
      "source": [
        "# ARGS --- Define Args\n"
      ]
    },
    {
      "cell_type": "code",
      "execution_count": 2382,
      "metadata": {
        "id": "N43j0vRL3QsP"
      },
      "outputs": [],
      "source": [
        "### ARGS\n",
        "\n",
        "MODEL_DEF = 'GLM'\n",
        "RAW_ATD_VAR = 'mental_health_visits'\n",
        "RAW_TOTAL_ATD_VAR = 'total_atd'\n",
        "IR_VAR = 'IR'\n",
        "IR_SCALE = 1000\n",
        "DATE_NAME = \"date\"\n",
        "GROUP_COL_NAME = \"regiao\"\n",
        "LOCAL_OUTPUT_PATH = \"D:\\\\CodeStuff\\\\Stats\\\\colab_linear_regression\\\\linear_regression\\\\output\\\\output.xlsx\"\n",
        "\n",
        "\n",
        "MAIN_SERIE = '_Grand Total'\n",
        "CONTROL_SERIE = '__Atendimentos na APS (exceto saúde mental)'\n",
        "\n",
        "MOVING_WINDOW = 12\n",
        "PLOT_MEDIA_MOVEL = False\n",
        "\n",
        "POISSON_QLIK = True\n",
        "\n",
        "DO_CHOW_GRID_SEARCH = True \n",
        "### model vars\n",
        "INDEPENDENT_VAR = \"periodo\"  ### Y\n",
        "DEPENDENT_VAR = RAW_ATD_VAR if (MODEL_DEF == \"GEE\" or MODEL_DEF == \"GLM\") else IR_VAR\n",
        "\n",
        "\n",
        "######### DUMMIES ##########\n",
        "\n",
        "MEDIA_MOVEL_AS_FEATURE = False\n",
        "MEDIA_MOVEL_AS_DEPENDENT = False\n",
        "\n",
        "INCLUDE_FOURIER_TERMS = True\n",
        "N_HARMONICS = 1\n",
        "FOURIER_PERIOD = 12\n",
        "INCLUDE_MONTH_DUMMIES = False\n",
        "INCLUDE_QUARTER_DUMMIES = False\n",
        "\n",
        "PRE_START_DATE = \"2016-01-01\"  ### data inicial para o modelo, se for menor que a data do dataframe, o modelo vai dar erro\n",
        "\n",
        "### as quedas do primeiro lockdown nao são tão claras e a recuperação e queda parecem ser mais graduais\n",
        "CHOQUE_INICIAL_START_DATE= \"2020-04-01\"\n",
        "CHOQUE_INICIAL_END_DATE = \"2020-07-01\"#\"2020-08-01\" #month based\n",
        "\n",
        "### abril e maio tiveram quedas bem identificaveis nos atendimentos em todas variavieis\n",
        "SECONDLOCKDOWN_START_DATE = \"2021-04-01\"\n",
        "SECONDLOCKDOWN_END_DATE = '2021-05-01' #month based  #'2021-04-01'#quarter_based #\n",
        "\n",
        "PANDEMIA_START_DATE = \"2020-04-01\"\n",
        "PANDEMIA_END_DATE = \"2022-03-01\" #\"2021-02-01\" #\n",
        "\n",
        "\n",
        "\n",
        "\n",
        "PANDEMIA2_START_DATE = \"2021-04-01\"\n",
        "PANDEMIA2_END_DATE = \"2022-03-01\" \n",
        "\n",
        "POS_PANDEMIA_START_DATE = \"2022-04-01\"\n",
        "END_DATE = \"2024-12-01\"#\"2024-12-01\"  ### data final para o modelo, se for maior que a data do dataframe, o modelo vai dar erro\n",
        "\n",
        "\n",
        "\n",
        "\n",
        "OMNICRON_START_DATE = \"2022-01-01\"\n",
        "OMNICRON_END_DATE = \"2022-02-01\"  ### data final para o modelo, se for maior que a data do dataframe, o modelo vai dar erro\n",
        "\n",
        "\n",
        "\n",
        "POS_PANDEMIA_EXCLUDE_RANGES = [\n",
        "    #(CHOQUE_INICIAL_START_DATE, CHOQUE_INICIAL_END_DATE),\n",
        "    #(SECONDLOCKDOWN_START_DATE, SECONDLOCKDOWN_END_DATE),\n",
        "    #(\"2024-05-01\", \"2024-05-01\"),\n",
        "                               ]\n",
        "\n",
        "PANDEMIA_EXCLUDE_RANGES = [\n",
        "    #(CHOQUE_INICIAL_START_DATE, CHOQUE_INICIAL_END_DATE),\n",
        "    #(SECONDLOCKDOWN_START_DATE, SECONDLOCKDOWN_END_DATE),\n",
        "    #(OMNICRON_START_DATE, OMNICRON_END_DATE),\n",
        "]\n",
        "\n",
        "TESTE_REMOVE_OUTLIER_START = \"2019-10-01\"\n",
        "TESTE_REMOVE_OUTLIER_END = \"2019-12-01\"  ### data final para o modelo, se for maior que a data do dataframe, o modelo vai dar erro\n",
        "PREPANDEMIA_EXCLUDE_RANGES = [\n",
        "    #(TESTE_REMOVE_OUTLIER_START, TESTE_REMOVE_OUTLIER_END),\n",
        "]\n",
        "\n",
        "TREND_KEEP_PERIOD_INDEX = False  ### se True, o modelo vai manter o index do periodo, se False, o modelo vai usar o index do dataframe original (sem os dummies)\n",
        "\n",
        "DUMMY_ARGS =        {\n",
        "        \n",
        "        \n",
        "        #'PrePandemia_Step': {\"start_date\": PRE_START_DATE, \"end_date\": PANDEMIA_START_DATE, 'exclude_ranges': PANDEMIA_EXCLUDE_RANGES,},\n",
        "        #'PrePandemia_Trend' : {\"start_date\": PRE_START_DATE, \"end_date\": PANDEMIA_START_DATE,'exclude_ranges': PREPANDEMIA_EXCLUDE_RANGES, 'add_time_trend': True, 'keep_period_index': False},\n",
        "        \n",
        "        'Pandemia_Step': {\"start_date\": PANDEMIA_START_DATE, \"end_date\": PANDEMIA_END_DATE, 'exclude_ranges': PANDEMIA_EXCLUDE_RANGES,},\n",
        "        'Pandemia_Trend' : {\"start_date\": PANDEMIA_START_DATE, \"end_date\": PANDEMIA_END_DATE,'exclude_ranges': PANDEMIA_EXCLUDE_RANGES, 'add_time_trend': True, 'keep_period_index': TREND_KEEP_PERIOD_INDEX},\n",
        "        \n",
        "        #'Pandemia2_Step': {\"start_date\": PANDEMIA2_START_DATE, \"end_date\": PANDEMIA2_END_DATE, 'exclude_ranges': PANDEMIA_EXCLUDE_RANGES,},\n",
        "        #'Pandemia2_Trend' : {\"start_date\": PANDEMIA2_START_DATE, \"end_date\": PANDEMIA2_END_DATE,'exclude_ranges': PANDEMIA_EXCLUDE_RANGES, 'add_time_trend': True, 'keep_period_index': TREND_KEEP_PERIOD_INDEX},\n",
        "\n",
        "        #'PosPandemia_Step': {\"start_date\": POS_PANDEMIA_START_DATE, \"end_date\": END_DATE,'exclude_ranges': POS_PANDEMIA_EXCLUDE_RANGES, 'plot':False, 'step': True,},\n",
        "        #'PosPandemia_Trend' : {\"start_date\": POS_PANDEMIA_START_DATE, \"end_date\": END_DATE,'exclude_ranges': POS_PANDEMIA_EXCLUDE_RANGES, 'plot': True, 'add_time_trend': True, 'keep_period_index': TREND_KEEP_PERIOD_INDEX, 'step': False},\n",
        "        \n",
        "        ### Pulse Outliers\n",
        "        #'teste_remove_outlier': {\"start_date\": TESTE_REMOVE_OUTLIER_START, \"end_date\": TESTE_REMOVE_OUTLIER_END,},\n",
        "        #'Lockdown_2020_Step': {\"start_date\": CHOQUE_INICIAL_START_DATE, \"end_date\": CHOQUE_INICIAL_END_DATE},\n",
        "        #'Lockdown_2021_Step': {\"start_date\": SECONDLOCKDOWN_START_DATE, \"end_date\": SECONDLOCKDOWN_END_DATE},\n",
        "        #'Omnicron_2022': {\"start_date\": OMNICRON_START_DATE, \"end_date\": OMNICRON_END_DATE},\n",
        "        #'Enchentes_2024': {\"start_date\": \"2024-05-01\", \"end_date\": \"2024-05-01\"},\n",
        "        }\n",
        "\n",
        "\n",
        "\n",
        "##############################\n",
        "\n",
        "\n",
        "PREPROCESSOR_ARGS = {\n",
        "    'DateRange': [2016, 2024],\n",
        "    'FrequencyDateGroup' : 'M',\n",
        "    'DummyArgs' : DUMMY_ARGS,\n",
        "    'melt_total_atd': True,\n",
        "    'ExtractIR': True,\n",
        "}\n",
        "\n",
        "\n",
        "\n",
        "###### PROCESSING ######\n",
        "\n",
        "\n",
        "DUMMY_NAMES = build_dummy_names(\n",
        "          DUMMY_ARGS,\n",
        "          INCLUDE_MONTH_DUMMIES,\n",
        "          INCLUDE_QUARTER_DUMMIES,\n",
        "          include_fourier_terms=INCLUDE_FOURIER_TERMS,\n",
        "          n_harmonics=N_HARMONICS,\n",
        "          )\n",
        "\n",
        "MODEL_FORMULA, BASE_MODEL_FORMULA = build_model_formula(DEPENDENT_VAR,\n",
        "                                                        INDEPENDENT_VAR,\n",
        "                                                        dummy_names = DUMMY_NAMES,\n",
        "\n",
        "                                                        )\n",
        "\n"
      ]
    },
    {
      "cell_type": "code",
      "execution_count": 2348,
      "metadata": {},
      "outputs": [
        {
          "data": {
            "text/plain": [
              "('mental_health_visits ~ periodo + Pandemia_Step + Pandemia_Trend + cos1 + sin1',\n",
              " 'mental_health_visits ~ periodo')"
            ]
          },
          "execution_count": 2348,
          "metadata": {},
          "output_type": "execute_result"
        }
      ],
      "source": [
        "MODEL_FORMULA, BASE_MODEL_FORMULA\n"
      ]
    },
    {
      "cell_type": "markdown",
      "metadata": {},
      "source": [
        "# Processor ARGS\n"
      ]
    },
    {
      "cell_type": "code",
      "execution_count": 2349,
      "metadata": {},
      "outputs": [
        {
          "name": "stderr",
          "output_type": "stream",
          "text": [
            "c:\\Users\\Lucas\\AppData\\Local\\Programs\\Python\\Python312\\Lib\\site-packages\\statsmodels\\genmod\\cov_struct.py:796: FutureWarning:\n",
            "\n",
            "grid=True will become default in a future version\n",
            "\n",
            "c:\\Users\\Lucas\\AppData\\Local\\Programs\\Python\\Python312\\Lib\\site-packages\\statsmodels\\genmod\\families\\family.py:1367: ValueWarning:\n",
            "\n",
            "Negative binomial dispersion parameter alpha not set. Using default value alpha=1.0.\n",
            "\n"
          ]
        }
      ],
      "source": [
        "GLSAR_PROCESSOR_ARGS = {\n",
        "    \"formula\": MODEL_FORMULA,#\"valores ~ periodo\",  # Example formula\n",
        "    \"rho\": 'define per variable',\n",
        "    \"fit_args\":{\n",
        "            'max_iter' : 100,\n",
        "            \"cov_type\": \"HAC\",  # Use nonrobust covariance for testing\n",
        "            \"cov_kwds\": {'maxlags': 4},  # No additional covariance arguments\n",
        "    }\n",
        "\n",
        "}\n",
        "\n",
        "FIND_BEST_RHO_ARGS = {\n",
        "        \"start\": -1.00,\n",
        "        \"stop\": 1.01,\n",
        "        \"step\": 0.01,\n",
        "        \"criterio\": \"aic\",\n",
        "    }\n",
        "GEE_PROCESSOR_ARGS = {\n",
        "    'formula': MODEL_FORMULA,\n",
        "    \"family\": Poisson(),  #sm.families.NegativeBinomial(),# Use Poisson family for count data\n",
        "    \"cov_struct\": Autoregressive(),  # Use autoregressive covariance structure\n",
        "    #\"structure\": 'ar1',\n",
        "    \"groups\": 'define per variable',\n",
        "    \"offset\": 'define per variable',\n",
        "    #'max_iter' : 100,\n",
        "}\n",
        "\n",
        "GLM_PROCESSOR_ARGS = {\n",
        "    'formula': MODEL_FORMULA,\n",
        "    \"family\": sm.families.NegativeBinomial(),# Poisson(),  # \n",
        "    'quasi_likelihood' : False,\n",
        "\n",
        "    #\"groups\": 'define per variable',\n",
        "    \"offset\": 'define per variable',\n",
        "    \"fit_args\":{\n",
        "            #'cov_type': 'HC1',\n",
        "            'max_iter' : 100,\n",
        "            \"cov_type\": \"HAC\",  # Use nonrobust covariance for testing\n",
        "            \"cov_kwds\": {'maxlags': 4},  # No additional covariance arguments\n",
        "    }\n",
        "    #'max_iter' : 100,\n",
        "}\n",
        "\n",
        "if POISSON_QLIK:\n",
        " GLM_PROCESSOR_ARGS = {\n",
        "    'formula': MODEL_FORMULA,\n",
        "    \"family\": Poisson(),  # \n",
        "    'quasi_likelihood' : True,\n",
        "    \"offset\": 'define per variable',\n",
        "    \"fit_args\":{\n",
        "            'cov_type': 'HC1',\n",
        "            'max_iter' : 100,\n",
        "            #\"cov_type\": \"HAC\",  # Use nonrobust covariance for testing\n",
        "            #\"cov_kwds\": {'maxlags': 4},  # No additional covariance arguments\n",
        "    }\n",
        "    #'max_iter' : 100,\n",
        "}\n",
        "   \n",
        "    \n",
        "\n",
        "OLS_PROCESSOR_ARGS = {\n",
        "    'formula': MODEL_FORMULA,\n",
        "}\n",
        "\n",
        "\n",
        "SARIMAX_PROCESSOR_ARGS = {\n",
        "    \n",
        "}"
      ]
    },
    {
      "cell_type": "markdown",
      "metadata": {
        "id": "3lst0tSSyWi0"
      },
      "source": [
        "# Define Preprocessors\n"
      ]
    },
    {
      "cell_type": "code",
      "execution_count": 2350,
      "metadata": {
        "id": "FAqiSa3R-k3r"
      },
      "outputs": [],
      "source": [
        "def BuildDataDF(data):\n",
        "    string_dates = data[0][1:]  # Store original string dates\n",
        "\n",
        "    # Converter as strings de datas em objetos datetime\n",
        "    #date_list = [datetime.strptime(date, \"%d/%m/%Y\") for date in string_dates]\n",
        "    date_list = [\n",
        "    date if isinstance(date, datetime) else datetime.strptime(date, \"%d/%m/%Y\")\n",
        "    for date in string_dates\n",
        "    ]\n",
        "\n",
        "    # Extrair os nomes das variáveis\n",
        "    variavel = [row[0] for row in data[1:]]\n",
        "\n",
        "    # Extrair os dados (sem agrupamento)\n",
        "    dados = [row[1:] for row in data[1:]]\n",
        "    dados = np.array(dados, dtype=float)  # Converter para tipo object para evitar warning\n",
        "\n",
        "    # Criar o DataFrame with DatetimeIndex\n",
        "    df = pd.DataFrame(data=dados, index=variavel, columns=pd.DatetimeIndex(date_list))\n",
        "\n",
        "    return df\n",
        "\n",
        "class DateFilterTransformer(BaseEstimator, TransformerMixin):\n",
        "    def __init__(\n",
        "        self, periodos_inclusivos=None, periodos_exclusivos=None, date_col=DATE_NAME\n",
        "    ):\n",
        "        self.periodos_inclusivos = periodos_inclusivos\n",
        "        self.periodos_exclusivos = periodos_exclusivos\n",
        "        self.date_col = date_col\n",
        "\n",
        "    def get_date_range(self, Y1, Y2=None, M1=None, M2=None, D1=None, D2=None):\n",
        "        Y2 = Y2 or Y1\n",
        "        M1 = M1 or 1\n",
        "        M2 = M2 or 12\n",
        "        D1 = D1 or 1\n",
        "        D2 = D2 or 31\n",
        "        start_date = datetime(Y1, M1, D1)\n",
        "        end_date = datetime(Y2, M2, D2)\n",
        "        return pd.date_range(start=start_date, end=end_date, freq=\"D\")\n",
        "\n",
        "    def fit(self, X, y=None):\n",
        "        return self\n",
        "\n",
        "    def transform(self, X):\n",
        "        X = X.copy()\n",
        "\n",
        "        # Convert date column if it's not datetime yet\n",
        "        if not pd.api.types.is_datetime64_any_dtype(X[self.date_col]):\n",
        "            X[self.date_col] = pd.to_datetime(X[self.date_col], errors=\"coerce\")\n",
        "\n",
        "        if self.periodos_inclusivos:\n",
        "            valid_dates = self.get_date_range(*self.periodos_inclusivos)\n",
        "            return X[X[self.date_col].isin(valid_dates)].reset_index(drop=True)\n",
        "\n",
        "        elif self.periodos_exclusivos:\n",
        "            invalid_dates = self.get_date_range(*self.periodos_exclusivos)\n",
        "            return X[~X[self.date_col].isin(invalid_dates)].reset_index(drop=True)\n",
        "\n",
        "        return X\n",
        "\n",
        "class MeltTransformer(BaseEstimator, TransformerMixin):\n",
        "    def __init__(\n",
        "        self,\n",
        "        var_name=GROUP_COL_NAME,\n",
        "        value_name=RAW_ATD_VAR,\n",
        "        date_name=DATE_NAME,\n",
        "        y_name=INDEPENDENT_VAR,\n",
        "        perform_IR=False,\n",
        "        total_suffix=\"_total\",\n",
        "        total_column_name=RAW_TOTAL_ATD_VAR,\n",
        "    ):\n",
        "        self.var_name = var_name\n",
        "        self.value_name = value_name\n",
        "        self.date_name = date_name\n",
        "        self.y_name = y_name\n",
        "        self.perform_IR = perform_IR\n",
        "        self.total_suffix = total_suffix\n",
        "        self.total_column_name = total_column_name\n",
        "\n",
        "    def fit(self, X, y=None):\n",
        "        # Nothing to learn, so just return self\n",
        "        return self\n",
        "\n",
        "    def transform(self, X):\n",
        "        # Separate rows with the `_total` suffix\n",
        "        if self.perform_IR:\n",
        "            reserved_rows = X[X.index.str.endswith(self.total_suffix)]\n",
        "            remaining_rows = X[~X.index.str.endswith(self.total_suffix)]\n",
        "\n",
        "            # Transpose and reset index for the remaining rows\n",
        "            df_long = remaining_rows.T.reset_index()\n",
        "\n",
        "            # Rename index to date_name\n",
        "            df_long = df_long.rename(columns={\"index\": self.date_name})\n",
        "\n",
        "            # Melt the DataFrame\n",
        "            df_long = pd.melt(\n",
        "                df_long,\n",
        "                id_vars=[self.date_name],\n",
        "                var_name=self.var_name,\n",
        "                value_name=self.value_name,\n",
        "            )\n",
        "\n",
        "            # Sort by category and date\n",
        "            df_final = df_long.sort_values([self.var_name, self.date_name]).reset_index(\n",
        "                drop=True\n",
        "            )\n",
        "\n",
        "            # Add the `total_atd` column\n",
        "            reserved_rows = reserved_rows.T.reset_index().rename(columns={\"index\": self.date_name})\n",
        "            reserved_rows_long = pd.melt(\n",
        "                reserved_rows,\n",
        "                id_vars=[self.date_name],\n",
        "                var_name=self.var_name,\n",
        "                value_name=self.total_column_name,\n",
        "            )\n",
        "\n",
        "            # Remove the `_total` suffix from the var_name in reserved_rows_long\n",
        "            reserved_rows_long[self.var_name] = reserved_rows_long[self.var_name].str.replace(\n",
        "                self.total_suffix, \"\", regex=False\n",
        "            )\n",
        "\n",
        "            # Merge the `total_atd` column into the final DataFrame\n",
        "            df_final = df_final.merge(\n",
        "                reserved_rows_long,\n",
        "                on=[self.date_name, self.var_name],\n",
        "                how=\"left\",\n",
        "            )\n",
        "        else:\n",
        "                        # Transpose and reset index for the remaining rows\n",
        "            df_long = X.T.reset_index()\n",
        "\n",
        "            # Rename index to date_name\n",
        "            df_long = df_long.rename(columns={\"index\": self.date_name})\n",
        "\n",
        "            # Melt the DataFrame\n",
        "            df_long = pd.melt(\n",
        "                df_long,\n",
        "                id_vars=[self.date_name],\n",
        "                var_name=self.var_name,\n",
        "                value_name=self.value_name,\n",
        "            )\n",
        "\n",
        "            # Sort by category and date\n",
        "            df_final = df_long.sort_values([self.var_name, self.date_name]).reset_index(\n",
        "                drop=True\n",
        "            )\n",
        "\n",
        "\n",
        "        return df_final\n",
        "\n",
        "class PeriodIndexAdder(BaseEstimator, TransformerMixin):\n",
        "    def __init__(self, group_col=GROUP_COL_NAME, new_col=INDEPENDENT_VAR):\n",
        "        self.group_col = group_col\n",
        "        self.new_col = new_col\n",
        "        self.period_date_mapping = {}  # Dictionary to store period-date equivalences\n",
        "\n",
        "    def fit(self, X, y=None):\n",
        "        return self\n",
        "\n",
        "    def transform(self, X):\n",
        "        X = X.copy()\n",
        "        X[self.new_col] = X.groupby(self.group_col).cumcount() + 1\n",
        "\n",
        "        #Store the mapping of periods to dates\n",
        "        self.period_date_mapping = dict(zip(X[DATE_NAME], X[self.new_col]))\n",
        "        #for group, group_data in X.groupby(self.group_col):\n",
        "        #    self.period_date_mapping[group] = dict(zip(group_data[DATE_NAME], group_data[self.new_col]))\n",
        "\n",
        "        return X\n",
        "\n",
        "class DataFrameSorter(BaseEstimator, TransformerMixin):\n",
        "    \"\"\"\n",
        "    Sorts a DataFrame by a specified column.\n",
        "\n",
        "    Parameters:\n",
        "    -----------\n",
        "    sort_by : str\n",
        "        Name of the column to sort by.\n",
        "    ascending : bool, default=True\n",
        "        Whether to sort in ascending order.\n",
        "    \"\"\"\n",
        "\n",
        "    def __init__(self, sort_by, ascending=True):\n",
        "        self.sort_by = sort_by\n",
        "        self.ascending = ascending\n",
        "\n",
        "    def fit(self, X, y=None):\n",
        "        return self\n",
        "\n",
        "    def transform(self, X):\n",
        "        X = X.copy()\n",
        "        if self.sort_by not in X.columns:\n",
        "            raise ValueError(f\"Column '{self.sort_by}' not found in DataFrame.\")\n",
        "        return X.sort_values(by=self.sort_by, ascending=self.ascending).reset_index(drop=True)\n",
        "\n",
        "class MonthlyDummyAdder(BaseEstimator, TransformerMixin):\n",
        "    \"\"\"\n",
        "    Adds dummy variables for each month to control for seasonality, leaving December as the baseline.\n",
        "\n",
        "    Parameters:\n",
        "    -----------\n",
        "    date_column : str\n",
        "        Name of the column containing dates (must be datetime).\n",
        "    \"\"\"\n",
        "\n",
        "    def __init__(self, date_column=DATE_NAME):\n",
        "        self.date_column = date_column\n",
        "\n",
        "    def fit(self, X, y=None):\n",
        "        return self\n",
        "\n",
        "    def transform(self, X):\n",
        "        X = X.copy()\n",
        "        X[self.date_column] = pd.to_datetime(X[self.date_column])  # Ensure dates are in datetime format\n",
        "\n",
        "        # Extract month from the date column\n",
        "        X['month'] = X[self.date_column].dt.month\n",
        "\n",
        "        # Create dummy variables for each month, excluding December as the baseline\n",
        "        month_dummies = pd.get_dummies(X['month'], prefix=\"month\", drop_first=True).astype(int)\n",
        "\n",
        "\n",
        "\n",
        "        # Concatenate the dummy variables with the original DataFrame\n",
        "        X = pd.concat([X, month_dummies], axis=1)\n",
        "\n",
        "        # Drop the temporary 'month' column\n",
        "        X.drop(columns=['month'], inplace=True)\n",
        "\n",
        "        return X\n",
        "\n",
        "class QuarterlyDummyAdder(BaseEstimator, TransformerMixin):\n",
        "    \"\"\"\n",
        "    Adds dummy variables for each quarter to control for seasonality, leaving Q4 as the baseline.\n",
        "\n",
        "    Parameters:\n",
        "    -----------\n",
        "    date_column : str\n",
        "        Name of the column containing dates (must be datetime).\n",
        "    \"\"\"\n",
        "\n",
        "    def __init__(self, date_column=DATE_NAME):\n",
        "        self.date_column = date_column\n",
        "\n",
        "    def fit(self, X, y=None):\n",
        "        return self\n",
        "\n",
        "    def transform(self, X):\n",
        "        X = X.copy()\n",
        "        X[self.date_column] = pd.to_datetime(X[self.date_column])  # Ensure dates are in datetime format\n",
        "\n",
        "        # Extract quarter from the date column\n",
        "        X['quarter'] = X[self.date_column].dt.quarter\n",
        "\n",
        "        # Create dummy variables for each quarter, excluding Q4 as the baseline\n",
        "        quarter_dummies = pd.get_dummies(X['quarter'], prefix=\"quarter\", drop_first=True).astype(int)\n",
        "\n",
        "        # Concatenate the dummy variables with the original DataFrame\n",
        "        X = pd.concat([X, quarter_dummies], axis=1)\n",
        "\n",
        "        # Drop the temporary 'quarter' column\n",
        "        X.drop(columns=['quarter'], inplace=True)\n",
        "\n",
        "        return X\n",
        "\n",
        "class MultiDummyAdder(BaseEstimator, TransformerMixin):\n",
        "    \"\"\"\n",
        "    Adds multiple dummy variables based on date ranges or custom conditions.\n",
        "    Allows each dummy to be binary or a local time trend via its own config.\n",
        "\n",
        "    Parameters:\n",
        "    -----------\n",
        "    dummy_config : dict\n",
        "        Dictionary defining dummy variables. Example:\n",
        "        {\n",
        "            'Pandemia': {\n",
        "                'start_date': '2020-01-01',\n",
        "                'end_date': '2020-12-31',\n",
        "                'add_time_trend': True,\n",
        "                'exclude_ranges': [\n",
        "                    ('2020-04-01', '2020-05-01'),\n",
        "                    ('2020-07-01', '2020-08-01')\n",
        "                ]  # Optional\n",
        "            }\n",
        "        }\n",
        "    date_column : str\n",
        "        Name of the column containing dates (must be datetime).\n",
        "    \"\"\"\n",
        "\n",
        "    def __init__(self, dummy_config, date_column=DATE_NAME):\n",
        "        self.dummy_config = dummy_config\n",
        "        self.date_column = date_column\n",
        "\n",
        "    def fit(self, X, y=None):\n",
        "        return self\n",
        "\n",
        "    def transform(self, X):\n",
        "        X = X.copy()\n",
        "        X[self.date_column] = pd.to_datetime(X[self.date_column])\n",
        "        X = X.sort_values(self.date_column).reset_index(drop=True)\n",
        "\n",
        "        for dummy_name, config in self.dummy_config.items():\n",
        "            start_date = pd.to_datetime(config.get(\"start_date\"))\n",
        "            end_date = pd.to_datetime(config.get(\"end_date\"))\n",
        "            use_trend = config.get(\"add_time_trend\", False)\n",
        "            keep_index = config.get(\"keep_period_index\", False)\n",
        "            exclude_ranges = config.get(\"exclude_ranges\", [])  # List of ranges to exclude\n",
        "\n",
        "            if not start_date:\n",
        "                raise ValueError(f\"Missing 'start_date' for dummy '{dummy_name}'.\")\n",
        "\n",
        "            # Create the initial mask for the date range\n",
        "            if end_date is not None:\n",
        "                mask = (X[self.date_column] >= start_date) & (X[self.date_column] <= end_date)\n",
        "            else:\n",
        "                mask = X[self.date_column] >= start_date\n",
        "\n",
        "            # Exclude multiple ranges within the period\n",
        "            for excl_start, excl_end in exclude_ranges:\n",
        "                excl_start = pd.to_datetime(excl_start)\n",
        "                excl_end = pd.to_datetime(excl_end)\n",
        "                mask &= ~((X[self.date_column] >= excl_start) & (X[self.date_column] <= excl_end))\n",
        "\n",
        "            # Apply trend or binary dummy logic\n",
        "            if use_trend:\n",
        "                if keep_index:\n",
        "                    # Global period multiplied by the dummy\n",
        "                    X[dummy_name] = 0\n",
        "                    X.loc[mask, dummy_name] = X.loc[mask, INDEPENDENT_VAR]\n",
        "                else:\n",
        "                    start_periodo = X.loc[mask, INDEPENDENT_VAR].min()\n",
        "                    X[dummy_name] = 0\n",
        "                    X.loc[mask, dummy_name] = (X.loc[mask, INDEPENDENT_VAR] - start_periodo + 1).clip(lower=0)\n",
        "            else:\n",
        "                X[dummy_name] = mask.astype(int)\n",
        "\n",
        "        return X\n",
        "\n",
        "class FrequencyGroupingTransformer(BaseEstimator, TransformerMixin):\n",
        "    \"\"\"\n",
        "    ## only datetime supported groupings\n",
        "    Transformer for grouping data by standard datetime frequencies.\n",
        "\n",
        "    This transformer takes a DataFrame with datetime columns and groups\n",
        "    the data by a specified frequency (e.g., 'Q' for quarterly, 'M' for monthly).\n",
        "\n",
        "    ARGS:\n",
        "        frequency (str): The frequency to group by. Defaults to 'Q' (quarterly).\n",
        "                        Supported frequencies are those accepted by pd.Grouper (e.g., 'Q', 'M', 'Y').\n",
        "    \"\"\"\n",
        "\n",
        "    def __init__(self, frequency=\"Q\"):  # Default to quarterly grouping\n",
        "        self.frequency = frequency\n",
        "\n",
        "    def fit(self, X, y=None):\n",
        "        \"\"\"\n",
        "        This transformer does not require fitting.\n",
        "\n",
        "        ARGS:\n",
        "            X (pd.DataFrame): The input DataFrame.\n",
        "            y (Any, optional): Ignored. Defaults to None.\n",
        "\n",
        "        Returns:\n",
        "            self: Returns the transformer instance.\n",
        "        \"\"\"\n",
        "        return self\n",
        "\n",
        "    def transform(self, X):\n",
        "        \"\"\"\n",
        "        Groups the data by the specified frequency and sums the values.\n",
        "\n",
        "        ARGS:\n",
        "            X (pd.DataFrame): The input DataFrame with datetime columns.\n",
        "\n",
        "        Returns:\n",
        "            pd.DataFrame: The grouped DataFrame with summed values.\n",
        "                          Columns are datetime objects representing the end of each group.\n",
        "        \"\"\"\n",
        "        if self.frequency == None or self.frequency == 'M':\n",
        "            return X\n",
        "        if not isinstance(X, pd.DataFrame):\n",
        "            raise TypeError(\"Input must be a pandas DataFrame.\")\n",
        "\n",
        "\n",
        "\n",
        "        # Convert columns to datetime if they are not already\n",
        "        if not isinstance(X.columns[0], pd.Timestamp):\n",
        "            X.columns = pd.to_datetime(X.columns, errors=\"coerce\")\n",
        "\n",
        "        # Group by the specified frequency using pd.Grouper\n",
        "        grouped_df = X.T.groupby(pd.Grouper(freq=self.frequency)).sum().T\n",
        "\n",
        "        return grouped_df\n",
        "\n",
        "\n",
        "\n",
        "\n",
        "\n"
      ]
    },
    {
      "cell_type": "code",
      "execution_count": 2351,
      "metadata": {},
      "outputs": [],
      "source": [
        "class MovingAverageTransformer(BaseEstimator, TransformerMixin):\n",
        "    def __init__(self, group_col=GROUP_COL_NAME, date_col=DATE_NAME, value_col=DEPENDENT_VAR, window=3, prefix='ma', center=False):\n",
        "        \"\"\"\n",
        "        window: tamanho da janela\n",
        "        prefix: prefixo para o nome da nova coluna\n",
        "        center: se True, a janela será centralizada\n",
        "        \"\"\"\n",
        "        self.window = window\n",
        "        self.prefix = prefix\n",
        "        self.center = center\n",
        "        self.value_col = value_col\n",
        "        self.group_col = group_col\n",
        "        self.date_col = date_col\n",
        "\n",
        "    def fit(self, X, y=None):\n",
        "        return self\n",
        "\n",
        "    def transform(self, X):\n",
        "        X = X.copy()\n",
        "\n",
        "        def rolling_mean_by_group(group):\n",
        "            group = group.sort_values(by=self.date_col)  # Sort by date within group\n",
        "            new_col = f\"{self.prefix}_{self.window}_{self.value_col}\"\n",
        "            group[new_col] = group[self.value_col].rolling(window=self.window, center=self.center, min_periods=1).mean()\n",
        "            return group\n",
        "\n",
        "        # Apply the rolling mean and reset the index to preserve the original structure\n",
        "        X = X.groupby(self.group_col, group_keys=False).apply(rolling_mean_by_group)\n",
        "\n",
        "        return X"
      ]
    },
    {
      "cell_type": "code",
      "execution_count": 2352,
      "metadata": {},
      "outputs": [],
      "source": [
        "from statsmodels.tsa.deterministic import Fourier\n",
        "\n",
        "class FourierSeasonalityAdder(BaseEstimator, TransformerMixin):\n",
        "    def __init__(self, date_column=DATE_NAME, period=12, order=1):\n",
        "        \"\"\"\n",
        "        Parameters:\n",
        "        -----------\n",
        "        date_column : str\n",
        "            Name of the column containing dates (must be datetime).\n",
        "        period : int\n",
        "            The period of the seasonality (e.g., 12 for monthly data).\n",
        "        order : int\n",
        "            The number of Fourier harmonics to include.\n",
        "        \"\"\"\n",
        "        self.date_column = date_column\n",
        "        self.period = period\n",
        "        self.order = order\n",
        "        self.fourier = Fourier(period=self.period, order=self.order)\n",
        "\n",
        "    def fit(self, X, y=None):\n",
        "        return self\n",
        "\n",
        "    def transform(self, X):\n",
        "        X = X.copy()\n",
        "\n",
        "        # Ensure the date column is in datetime format\n",
        "        X[self.date_column] = pd.to_datetime(X[self.date_column])\n",
        "\n",
        "        # Ensure unique index\n",
        "        if not X.index.is_unique:\n",
        "            X = X.reset_index(drop=True)\n",
        "\n",
        "        # Generate Fourier terms\n",
        "        fourier_terms = self.fourier.in_sample(X[self.date_column])\n",
        "\n",
        "        # Rename Fourier columns to use sin1, cos1, etc.\n",
        "        renamed_columns = {col: f\"sin{int(i/2)+1}\" if i % 2 else f\"cos{int(i/2)+1}\" \n",
        "                           for i, col in enumerate(fourier_terms.columns)}\n",
        "        fourier_terms.rename(columns=renamed_columns, inplace=True)\n",
        "\n",
        "        # Concatenate Fourier terms with the original DataFrame\n",
        "        X = pd.concat([X.reset_index(drop=True), fourier_terms.reset_index(drop=True)], axis=1)\n",
        "\n",
        "        # Debugging: Check the range of Fourier terms\n",
        "        for column in fourier_terms.columns:\n",
        "            min_value = fourier_terms[column].min()\n",
        "            max_value = fourier_terms[column].max()\n",
        "            if min_value < -1 or max_value > 1:\n",
        "                print(f\"Warning: {column} is out of range [-1, 1]. Min: {min_value}, Max: {max_value}\")\n",
        "            else:\n",
        "                print(f\"{column} is within the correct range [-1, 1]. Min: {min_value}, Max: {max_value}\")\n",
        "\n",
        "        return X"
      ]
    },
    {
      "cell_type": "markdown",
      "metadata": {
        "id": "YiUiAyVdNIXb"
      },
      "source": [
        "# EXEC --- Instantiate Pipe and get RegressionDF"
      ]
    },
    {
      "cell_type": "code",
      "execution_count": 2353,
      "metadata": {
        "colab": {
          "base_uri": "https://localhost:8080/",
          "height": 1000
        },
        "id": "tpmKA11jNIXb",
        "outputId": "6b948497-1205-4055-c42b-0427affcff4e"
      },
      "outputs": [
        {
          "name": "stderr",
          "output_type": "stream",
          "text": [
            "C:\\Users\\Lucas\\AppData\\Local\\Temp\\ipykernel_25208\\822946302.py:28: DeprecationWarning:\n",
            "\n",
            "DataFrameGroupBy.apply operated on the grouping columns. This behavior is deprecated, and in a future version of pandas the grouping columns will be excluded from the operation. Either pass `include_groups=False` to exclude the groupings or explicitly select the grouping columns after groupby to silence this warning.\n",
            "\n"
          ]
        },
        {
          "name": "stdout",
          "output_type": "stream",
          "text": [
            "cos1 is within the correct range [-1, 1]. Min: -1.0, Max: 1.0\n",
            "sin1 is within the correct range [-1, 1]. Min: -1.0, Max: 1.0\n"
          ]
        },
        {
          "data": {
            "application/vnd.microsoft.datawrangler.viewer.v0+json": {
              "columns": [
                {
                  "name": "index",
                  "rawType": "int64",
                  "type": "integer"
                },
                {
                  "name": "date",
                  "rawType": "datetime64[ns]",
                  "type": "datetime"
                },
                {
                  "name": "regiao",
                  "rawType": "object",
                  "type": "string"
                },
                {
                  "name": "mental_health_visits",
                  "rawType": "float64",
                  "type": "float"
                },
                {
                  "name": "total_atd",
                  "rawType": "float64",
                  "type": "float"
                },
                {
                  "name": "periodo",
                  "rawType": "int64",
                  "type": "integer"
                },
                {
                  "name": "Pandemia_Step",
                  "rawType": "int64",
                  "type": "integer"
                },
                {
                  "name": "Pandemia_Trend",
                  "rawType": "int64",
                  "type": "integer"
                },
                {
                  "name": "month_2",
                  "rawType": "int64",
                  "type": "integer"
                },
                {
                  "name": "month_3",
                  "rawType": "int64",
                  "type": "integer"
                },
                {
                  "name": "month_4",
                  "rawType": "int64",
                  "type": "integer"
                },
                {
                  "name": "month_5",
                  "rawType": "int64",
                  "type": "integer"
                },
                {
                  "name": "month_6",
                  "rawType": "int64",
                  "type": "integer"
                },
                {
                  "name": "month_7",
                  "rawType": "int64",
                  "type": "integer"
                },
                {
                  "name": "month_8",
                  "rawType": "int64",
                  "type": "integer"
                },
                {
                  "name": "month_9",
                  "rawType": "int64",
                  "type": "integer"
                },
                {
                  "name": "month_10",
                  "rawType": "int64",
                  "type": "integer"
                },
                {
                  "name": "month_11",
                  "rawType": "int64",
                  "type": "integer"
                },
                {
                  "name": "month_12",
                  "rawType": "int64",
                  "type": "integer"
                },
                {
                  "name": "quarter_2",
                  "rawType": "int64",
                  "type": "integer"
                },
                {
                  "name": "quarter_3",
                  "rawType": "int64",
                  "type": "integer"
                },
                {
                  "name": "quarter_4",
                  "rawType": "int64",
                  "type": "integer"
                },
                {
                  "name": "cos1",
                  "rawType": "float64",
                  "type": "float"
                },
                {
                  "name": "sin1",
                  "rawType": "float64",
                  "type": "float"
                },
                {
                  "name": "IR",
                  "rawType": "float64",
                  "type": "float"
                },
                {
                  "name": "offset",
                  "rawType": "float64",
                  "type": "float"
                },
                {
                  "name": "ma_12_mental_health_visits",
                  "rawType": "float64",
                  "type": "float"
                }
              ],
              "conversionMethod": "pd.DataFrame",
              "ref": "e8f1e7f4-2ea0-430c-ab12-c672f0591851",
              "rows": [
                [
                  "647",
                  "2016-01-01 00:00:00",
                  "Brasil",
                  "111066.0",
                  "8232396.0",
                  "1",
                  "0",
                  "0",
                  "0",
                  "0",
                  "0",
                  "0",
                  "0",
                  "0",
                  "0",
                  "0",
                  "0",
                  "0",
                  "0",
                  "0",
                  "0",
                  "0",
                  "0.0",
                  "1.0",
                  "13.491333507280263",
                  "9.015832381313148",
                  "134095.0"
                ],
                [
                  "541",
                  "2016-02-01 00:00:00",
                  "Brasil",
                  "122505.0",
                  "10104083.0",
                  "2",
                  "0",
                  "0",
                  "1",
                  "0",
                  "0",
                  "0",
                  "0",
                  "0",
                  "0",
                  "0",
                  "0",
                  "0",
                  "0",
                  "0",
                  "0",
                  "0",
                  "-0.5000000000000004",
                  "0.8660254037844384",
                  "12.124306579825205",
                  "9.220694878565075",
                  "135568.14285714287"
                ],
                [
                  "581",
                  "2016-03-01 00:00:00",
                  "Brasil",
                  "149843.0",
                  "13130885.0",
                  "3",
                  "0",
                  "0",
                  "0",
                  "1",
                  "0",
                  "0",
                  "0",
                  "0",
                  "0",
                  "0",
                  "0",
                  "0",
                  "0",
                  "0",
                  "0",
                  "0",
                  "-2.4492935982947064e-16",
                  "1.0",
                  "11.411492827787312",
                  "9.482722367919504",
                  "140360.375"
                ],
                [
                  "572",
                  "2016-04-01 00:00:00",
                  "Brasil",
                  "129201.0",
                  "11242471.0",
                  "4",
                  "0",
                  "0",
                  "0",
                  "0",
                  "1",
                  "0",
                  "0",
                  "0",
                  "0",
                  "0",
                  "0",
                  "0",
                  "0",
                  "1",
                  "0",
                  "0",
                  "-1.0",
                  "-4.286263797015736e-16",
                  "11.492224440694576",
                  "9.327453939144092",
                  "142256.66666666666"
                ],
                [
                  "563",
                  "2016-05-01 00:00:00",
                  "Brasil",
                  "137556.0",
                  "11755506.0",
                  "5",
                  "0",
                  "0",
                  "0",
                  "0",
                  "0",
                  "1",
                  "0",
                  "0",
                  "0",
                  "0",
                  "0",
                  "0",
                  "0",
                  "1",
                  "0",
                  "0",
                  "0.8660254037844378",
                  "0.5000000000000014",
                  "11.701410385907677",
                  "9.372077005560286",
                  "142070.2"
                ],
                [
                  "565",
                  "2016-06-01 00:00:00",
                  "Brasil",
                  "154399.0",
                  "12604666.0",
                  "6",
                  "0",
                  "0",
                  "0",
                  "0",
                  "0",
                  "0",
                  "1",
                  "0",
                  "0",
                  "0",
                  "0",
                  "0",
                  "0",
                  "1",
                  "0",
                  "0",
                  "-0.8660254037844384",
                  "0.5000000000000004",
                  "12.249352739691794",
                  "9.4418223418493",
                  "141172.36363636365"
                ],
                [
                  "569",
                  "2016-07-01 00:00:00",
                  "Brasil",
                  "144407.0",
                  "11493594.0",
                  "7",
                  "0",
                  "0",
                  "0",
                  "0",
                  "0",
                  "0",
                  "0",
                  "1",
                  "0",
                  "0",
                  "0",
                  "0",
                  "0",
                  "0",
                  "1",
                  "0",
                  "0.5000000000000002",
                  "-0.8660254037844385",
                  "12.56412920101406",
                  "9.349545115666722",
                  "138552.41666666666"
                ],
                [
                  "574",
                  "2016-08-01 00:00:00",
                  "Brasil",
                  "173906.0",
                  "14043781.0",
                  "8",
                  "0",
                  "0",
                  "0",
                  "0",
                  "0",
                  "0",
                  "0",
                  "0",
                  "1",
                  "0",
                  "0",
                  "0",
                  "0",
                  "0",
                  "1",
                  "0",
                  "-0.5000000000000003",
                  "0.8660254037844385",
                  "12.383132434206999",
                  "9.549934943318831",
                  "141819.91666666666"
                ],
                [
                  "576",
                  "2016-09-01 00:00:00",
                  "Brasil",
                  "157427.0",
                  "12191362.0",
                  "9",
                  "0",
                  "0",
                  "0",
                  "0",
                  "0",
                  "0",
                  "0",
                  "0",
                  "0",
                  "1",
                  "0",
                  "0",
                  "0",
                  "0",
                  "1",
                  "0",
                  "-9.797174393178826e-16",
                  "1.0",
                  "12.91299528305369",
                  "9.408482947160872",
                  "143713.0"
                ],
                [
                  "559",
                  "2016-10-01 00:00:00",
                  "Brasil",
                  "140392.0",
                  "10472556.0",
                  "10",
                  "0",
                  "0",
                  "0",
                  "0",
                  "0",
                  "0",
                  "0",
                  "0",
                  "0",
                  "0",
                  "1",
                  "0",
                  "0",
                  "0",
                  "0",
                  "1",
                  "-0.4999999999999985",
                  "-0.8660254037844395",
                  "13.405705350250694",
                  "9.25651340014516",
                  "147032.58333333334"
                ],
                [
                  "554",
                  "2016-11-01 00:00:00",
                  "Brasil",
                  "132194.0",
                  "9646057.0",
                  "11",
                  "0",
                  "0",
                  "0",
                  "0",
                  "0",
                  "0",
                  "0",
                  "0",
                  "0",
                  "0",
                  "0",
                  "1",
                  "0",
                  "0",
                  "0",
                  "1",
                  "0.4999999999999984",
                  "0.8660254037844396",
                  "13.704459760086426",
                  "9.174304509796613",
                  "151433.16666666666"
                ],
                [
                  "549",
                  "2016-12-01 00:00:00",
                  "Brasil",
                  "109733.0",
                  "7205093.0",
                  "12",
                  "0",
                  "0",
                  "0",
                  "0",
                  "0",
                  "0",
                  "0",
                  "0",
                  "0",
                  "0",
                  "0",
                  "0",
                  "1",
                  "0",
                  "0",
                  "1",
                  "-0.4999999999999983",
                  "-0.8660254037844396",
                  "15.229921390327647",
                  "8.882543416053302",
                  "157710.66666666666"
                ],
                [
                  "551",
                  "2017-01-01 00:00:00",
                  "Brasil",
                  "150276.0",
                  "10643717.0",
                  "13",
                  "0",
                  "0",
                  "0",
                  "0",
                  "0",
                  "0",
                  "0",
                  "0",
                  "0",
                  "0",
                  "0",
                  "0",
                  "0",
                  "0",
                  "0",
                  "0",
                  "0.4999999999999951",
                  "0.8660254037844415",
                  "14.118751936001305",
                  "9.272725043995154",
                  "162118.0"
                ],
                [
                  "583",
                  "2017-02-01 00:00:00",
                  "Brasil",
                  "145222.0",
                  "10625801.0",
                  "14",
                  "0",
                  "0",
                  "1",
                  "0",
                  "0",
                  "0",
                  "0",
                  "0",
                  "0",
                  "0",
                  "0",
                  "0",
                  "0",
                  "0",
                  "0",
                  "0",
                  "-1.0",
                  "-3.4296300182491773e-15",
                  "13.66692261599855",
                  "9.271040379186362",
                  "166947.25"
                ],
                [
                  "617",
                  "2017-03-01 00:00:00",
                  "Brasil",
                  "189678.0",
                  "13951230.0",
                  "15",
                  "0",
                  "0",
                  "0",
                  "1",
                  "0",
                  "0",
                  "0",
                  "0",
                  "0",
                  "0",
                  "0",
                  "0",
                  "0",
                  "0",
                  "0",
                  "0",
                  "0.8660254037844372",
                  "0.5000000000000026",
                  "13.595790478688976",
                  "9.543322955405596",
                  "173967.41666666666"
                ],
                [
                  "619",
                  "2017-04-01 00:00:00",
                  "Brasil",
                  "182008.0",
                  "12918940.0",
                  "16",
                  "0",
                  "0",
                  "0",
                  "0",
                  "1",
                  "0",
                  "0",
                  "0",
                  "0",
                  "0",
                  "0",
                  "0",
                  "0",
                  "1",
                  "0",
                  "0",
                  "-0.866025403784439",
                  "0.49999999999999933",
                  "14.088462366107436",
                  "9.4664497306272",
                  "183204.83333333334"
                ],
                [
                  "622",
                  "2017-05-01 00:00:00",
                  "Brasil",
                  "212886.0",
                  "15701307.0",
                  "17",
                  "0",
                  "0",
                  "0",
                  "0",
                  "0",
                  "1",
                  "0",
                  "0",
                  "0",
                  "0",
                  "0",
                  "0",
                  "0",
                  "1",
                  "0",
                  "0",
                  "-1.959434878635765e-15",
                  "1.0",
                  "13.558489111766301",
                  "9.661499236279086",
                  "196530.33333333334"
                ],
                [
                  "628",
                  "2017-06-01 00:00:00",
                  "Brasil",
                  "207287.0",
                  "14296146.0",
                  "18",
                  "0",
                  "0",
                  "0",
                  "0",
                  "0",
                  "0",
                  "1",
                  "0",
                  "0",
                  "0",
                  "0",
                  "0",
                  "0",
                  "1",
                  "0",
                  "0",
                  "-1.0",
                  "-3.919488737908119e-15",
                  "14.499502173522849",
                  "9.56774526943401",
                  "210315.41666666666"
                ],
                [
                  "631",
                  "2017-07-01 00:00:00",
                  "Brasil",
                  "202358.0",
                  "14128559.0",
                  "19",
                  "0",
                  "0",
                  "0",
                  "0",
                  "0",
                  "0",
                  "0",
                  "1",
                  "0",
                  "0",
                  "0",
                  "0",
                  "0",
                  "0",
                  "1",
                  "0",
                  "0.8660254037844374",
                  "-0.5000000000000021",
                  "14.322621294924698",
                  "9.555953488878663",
                  "220742.91666666666"
                ],
                [
                  "635",
                  "2017-08-01 00:00:00",
                  "Brasil",
                  "258148.0",
                  "17348265.0",
                  "20",
                  "0",
                  "0",
                  "0",
                  "0",
                  "0",
                  "0",
                  "0",
                  "0",
                  "1",
                  "0",
                  "0",
                  "0",
                  "0",
                  "0",
                  "1",
                  "0",
                  "-0.5000000000000047",
                  "0.8660254037844359",
                  "14.880335295777416",
                  "9.761247780374672",
                  "231628.75"
                ],
                [
                  "639",
                  "2017-09-01 00:00:00",
                  "Brasil",
                  "268276.0",
                  "16872893.0",
                  "21",
                  "0",
                  "0",
                  "0",
                  "0",
                  "0",
                  "0",
                  "0",
                  "0",
                  "0",
                  "1",
                  "0",
                  "0",
                  "0",
                  "0",
                  "1",
                  "0",
                  "0.866025403784441",
                  "-0.4999999999999957",
                  "15.899822277068907",
                  "9.733463648685905",
                  "241875.25"
                ],
                [
                  "640",
                  "2017-10-01 00:00:00",
                  "Brasil",
                  "300298.0",
                  "17842497.0",
                  "22",
                  "0",
                  "0",
                  "0",
                  "0",
                  "0",
                  "0",
                  "0",
                  "0",
                  "0",
                  "0",
                  "1",
                  "0",
                  "0",
                  "0",
                  "0",
                  "1",
                  "-0.8660254037844394",
                  "0.4999999999999987",
                  "16.830491830823902",
                  "9.789338362707335",
                  "252377.5"
                ],
                [
                  "644",
                  "2017-11-01 00:00:00",
                  "Brasil",
                  "297615.0",
                  "17686999.0",
                  "23",
                  "0",
                  "0",
                  "0",
                  "0",
                  "0",
                  "0",
                  "0",
                  "0",
                  "0",
                  "0",
                  "0",
                  "1",
                  "0",
                  "0",
                  "0",
                  "1",
                  "0.5000000000000081",
                  "-0.8660254037844339",
                  "16.826766372294138",
                  "9.78058512889609",
                  "263994.25"
                ],
                [
                  "646",
                  "2017-12-01 00:00:00",
                  "Brasil",
                  "234863.0",
                  "13329497.0",
                  "24",
                  "0",
                  "0",
                  "0",
                  "0",
                  "0",
                  "0",
                  "0",
                  "0",
                  "0",
                  "0",
                  "0",
                  "0",
                  "1",
                  "0",
                  "0",
                  "1",
                  "6.369401316839413e-15",
                  "-1.0",
                  "17.619794655417227",
                  "9.497734678027184",
                  "273340.5833333333"
                ],
                [
                  "601",
                  "2018-01-01 00:00:00",
                  "Brasil",
                  "280906.0",
                  "16650688.0",
                  "25",
                  "0",
                  "0",
                  "0",
                  "0",
                  "0",
                  "0",
                  "0",
                  "0",
                  "0",
                  "0",
                  "0",
                  "0",
                  "0",
                  "0",
                  "0",
                  "0",
                  "-2.9391523179536475e-15",
                  "1.0",
                  "16.87053411847006",
                  "9.720206815876208",
                  "282641.5833333333"
                ],
                [
                  "587",
                  "2018-02-01 00:00:00",
                  "Brasil",
                  "268180.0",
                  "15280725.0",
                  "26",
                  "0",
                  "0",
                  "1",
                  "0",
                  "0",
                  "0",
                  "0",
                  "0",
                  "0",
                  "0",
                  "0",
                  "0",
                  "0",
                  "0",
                  "0",
                  "0",
                  "-0.8660254037844347",
                  "-0.5000000000000068",
                  "17.55021440409405",
                  "9.634347509238887",
                  "293631.3333333333"
                ],
                [
                  "593",
                  "2018-03-01 00:00:00",
                  "Brasil",
                  "315705.0",
                  "18712756.0",
                  "27",
                  "0",
                  "0",
                  "0",
                  "1",
                  "0",
                  "0",
                  "0",
                  "0",
                  "0",
                  "0",
                  "0",
                  "0",
                  "0",
                  "0",
                  "0",
                  "0",
                  "0.5000000000000084",
                  "-0.8660254037844337",
                  "16.87111187683952",
                  "9.836960709329027",
                  "304388.8333333333"
                ],
                [
                  "596",
                  "2018-04-01 00:00:00",
                  "Brasil",
                  "321409.0",
                  "18818333.0",
                  "28",
                  "0",
                  "0",
                  "0",
                  "0",
                  "1",
                  "0",
                  "0",
                  "0",
                  "0",
                  "0",
                  "0",
                  "0",
                  "0",
                  "1",
                  "0",
                  "0",
                  "-0.5000000000000056",
                  "0.8660254037844355",
                  "17.079568099894924",
                  "9.84258683323329",
                  "313015.3333333333"
                ],
                [
                  "598",
                  "2018-05-01 00:00:00",
                  "Brasil",
                  "325042.0",
                  "19291195.0",
                  "29",
                  "0",
                  "0",
                  "0",
                  "0",
                  "0",
                  "1",
                  "0",
                  "0",
                  "0",
                  "0",
                  "0",
                  "0",
                  "0",
                  "1",
                  "0",
                  "0",
                  "0.49999999999999956",
                  "0.8660254037844389",
                  "16.849241324863495",
                  "9.867404053177477",
                  "325840.3333333333"
                ],
                [
                  "600",
                  "2018-06-01 00:00:00",
                  "Brasil",
                  "318899.0",
                  "17535895.0",
                  "30",
                  "0",
                  "0",
                  "0",
                  "0",
                  "0",
                  "0",
                  "1",
                  "0",
                  "0",
                  "0",
                  "0",
                  "0",
                  "0",
                  "1",
                  "0",
                  "0",
                  "-0.8660254037844345",
                  "-0.5000000000000072",
                  "18.185498943737976",
                  "9.772005202047334",
                  "330128.8333333333"
                ],
                [
                  "602",
                  "2018-07-01 00:00:00",
                  "Brasil",
                  "334235.0",
                  "18796956.0",
                  "31",
                  "0",
                  "0",
                  "0",
                  "0",
                  "0",
                  "0",
                  "0",
                  "1",
                  "0",
                  "0",
                  "0",
                  "0",
                  "0",
                  "0",
                  "1",
                  "0",
                  "0.5000000000000056",
                  "0.8660254037844355",
                  "17.781336510017898",
                  "9.841450220814792",
                  "332544.3333333333"
                ],
                [
                  "606",
                  "2018-08-01 00:00:00",
                  "Brasil",
                  "387238.0",
                  "21295471.0",
                  "32",
                  "0",
                  "0",
                  "0",
                  "0",
                  "0",
                  "0",
                  "0",
                  "0",
                  "1",
                  "0",
                  "0",
                  "0",
                  "0",
                  "0",
                  "1",
                  "0",
                  "7.349118756157295e-15",
                  "-1.0",
                  "18.184054252662456",
                  "9.96624969998076",
                  "337469.75"
                ],
                [
                  "610",
                  "2018-09-01 00:00:00",
                  "Brasil",
                  "371794.0",
                  "20066133.0",
                  "33",
                  "0",
                  "0",
                  "0",
                  "0",
                  "0",
                  "0",
                  "0",
                  "0",
                  "0",
                  "1",
                  "0",
                  "0",
                  "0",
                  "0",
                  "1",
                  "0",
                  "0.8660254037844396",
                  "0.4999999999999983",
                  "18.528432957162202",
                  "9.906788747590772",
                  "345896.6666666667"
                ],
                [
                  "614",
                  "2018-10-01 00:00:00",
                  "Brasil",
                  "454198.0",
                  "24146684.0",
                  "34",
                  "0",
                  "0",
                  "0",
                  "0",
                  "0",
                  "0",
                  "0",
                  "0",
                  "0",
                  "0",
                  "1",
                  "0",
                  "0",
                  "0",
                  "0",
                  "1",
                  "-1.0",
                  "-5.8789236165438834e-15",
                  "18.809953366681736",
                  "10.091902341164433",
                  "345202.9166666667"
                ],
                [
                  "626",
                  "2018-11-01 00:00:00",
                  "Brasil",
                  "349077.0",
                  "18438761.0",
                  "35",
                  "0",
                  "0",
                  "0",
                  "0",
                  "0",
                  "0",
                  "0",
                  "0",
                  "0",
                  "0",
                  "0",
                  "1",
                  "0",
                  "0",
                  "0",
                  "1",
                  "2.941628240500001e-15",
                  "1.0",
                  "18.931695030918835",
                  "9.822210303963805",
                  "349655.75"
                ],
                [
                  "612",
                  "2018-12-01 00:00:00",
                  "Brasil",
                  "263849.0",
                  "14059001.0",
                  "36",
                  "0",
                  "0",
                  "0",
                  "0",
                  "0",
                  "0",
                  "0",
                  "0",
                  "0",
                  "0",
                  "0",
                  "0",
                  "1",
                  "0",
                  "0",
                  "1",
                  "-0.8660254037844438",
                  "0.49999999999999106",
                  "18.767265184773798",
                  "9.55101811020872",
                  "357036.8333333333"
                ],
                [
                  "609",
                  "2019-01-01 00:00:00",
                  "Brasil",
                  "340011.0",
                  "19409656.0",
                  "37",
                  "0",
                  "0",
                  "0",
                  "0",
                  "0",
                  "0",
                  "0",
                  "0",
                  "0",
                  "0",
                  "0",
                  "0",
                  "0",
                  "0",
                  "0",
                  "0",
                  "1.0",
                  "9.79903133508859e-15",
                  "17.5176211263095",
                  "9.873525953182718",
                  "359483.0"
                ],
                [
                  "604",
                  "2019-02-01 00:00:00",
                  "Brasil",
                  "369303.0",
                  "20389977.0",
                  "38",
                  "0",
                  "0",
                  "1",
                  "0",
                  "0",
                  "0",
                  "0",
                  "0",
                  "0",
                  "0",
                  "0",
                  "0",
                  "0",
                  "0",
                  "0",
                  "0",
                  "-0.4999999999999894",
                  "-0.8660254037844448",
                  "18.111987080711273",
                  "9.92279873556394",
                  "367102.0833333333"
                ],
                [
                  "599",
                  "2019-03-01 00:00:00",
                  "Brasil",
                  "307380.0",
                  "16078634.0",
                  "39",
                  "0",
                  "0",
                  "0",
                  "1",
                  "0",
                  "0",
                  "0",
                  "0",
                  "0",
                  "0",
                  "0",
                  "0",
                  "0",
                  "0",
                  "0",
                  "0",
                  "0.49999999999999745",
                  "-0.8660254037844402",
                  "19.117295660812978",
                  "9.685246588875724",
                  "373332.5833333333"
                ],
                [
                  "594",
                  "2019-04-01 00:00:00",
                  "Brasil",
                  "374843.0",
                  "20405616.0",
                  "40",
                  "0",
                  "0",
                  "0",
                  "0",
                  "1",
                  "0",
                  "0",
                  "0",
                  "0",
                  "0",
                  "0",
                  "0",
                  "0",
                  "1",
                  "0",
                  "0",
                  "-1.0",
                  "4.917156615687063e-16",
                  "18.36959981997113",
                  "9.923565436063482",
                  "377343.5"
                ],
                [
                  "591",
                  "2019-05-01 00:00:00",
                  "Brasil",
                  "413615.0",
                  "22296661.0",
                  "41",
                  "0",
                  "0",
                  "0",
                  "0",
                  "0",
                  "1",
                  "0",
                  "0",
                  "0",
                  "0",
                  "0",
                  "0",
                  "0",
                  "1",
                  "0",
                  "0",
                  "0.5000000000000038",
                  "-0.8660254037844365",
                  "18.55053543667368",
                  "10.012192215295709",
                  "377698.0"
                ],
                [
                  "589",
                  "2019-06-01 00:00:00",
                  "Brasil",
                  "348253.0",
                  "18062631.0",
                  "42",
                  "0",
                  "0",
                  "0",
                  "0",
                  "0",
                  "0",
                  "1",
                  "0",
                  "0",
                  "0",
                  "0",
                  "0",
                  "0",
                  "1",
                  "0",
                  "0",
                  "-0.8660254037844406",
                  "0.4999999999999966",
                  "19.280303074341717",
                  "9.801600497423644",
                  "382242.9166666667"
                ],
                [
                  "633",
                  "2019-07-01 00:00:00",
                  "Brasil",
                  "425664.0",
                  "21322286.0",
                  "43",
                  "0",
                  "0",
                  "0",
                  "0",
                  "0",
                  "0",
                  "0",
                  "1",
                  "0",
                  "0",
                  "0",
                  "0",
                  "0",
                  "0",
                  "1",
                  "0",
                  "0.4999999999999979",
                  "-0.8660254037844398",
                  "19.963337889755348",
                  "9.967508095796317",
                  "387043.6666666667"
                ],
                [
                  "645",
                  "2019-08-01 00:00:00",
                  "Brasil",
                  "462004.0",
                  "21611519.0",
                  "44",
                  "0",
                  "0",
                  "0",
                  "0",
                  "0",
                  "0",
                  "0",
                  "0",
                  "1",
                  "0",
                  "0",
                  "0",
                  "0",
                  "0",
                  "1",
                  "0",
                  "-0.49999999999998257",
                  "-0.8660254037844487",
                  "21.377673637841006",
                  "9.980981738562296",
                  "391288.4166666667"
                ],
                [
                  "641",
                  "2019-09-01 00:00:00",
                  "Brasil",
                  "419925.0",
                  "19647635.0",
                  "45",
                  "0",
                  "0",
                  "0",
                  "0",
                  "0",
                  "0",
                  "0",
                  "0",
                  "0",
                  "1",
                  "0",
                  "0",
                  "0",
                  "0",
                  "1",
                  "0",
                  "-1.9599300631450357e-14",
                  "1.0",
                  "21.372801357517076",
                  "9.885712253819918",
                  "391894.1666666667"
                ],
                [
                  "634",
                  "2019-10-01 00:00:00",
                  "Brasil",
                  "458452.0",
                  "21420993.0",
                  "46",
                  "0",
                  "0",
                  "0",
                  "0",
                  "0",
                  "0",
                  "0",
                  "0",
                  "0",
                  "0",
                  "1",
                  "0",
                  "0",
                  "0",
                  "0",
                  "1",
                  "-0.5000000000000012",
                  "0.8660254037844379",
                  "21.401995696464677",
                  "9.972126701470634",
                  "399119.0833333333"
                ],
                [
                  "618",
                  "2019-11-01 00:00:00",
                  "Brasil",
                  "403616.0",
                  "18520682.0",
                  "47",
                  "0",
                  "0",
                  "0",
                  "0",
                  "0",
                  "0",
                  "0",
                  "0",
                  "0",
                  "0",
                  "0",
                  "1",
                  "0",
                  "0",
                  "0",
                  "1",
                  "0.4999999999999792",
                  "0.8660254037844506",
                  "21.792718000341456",
                  "9.82664333257614",
                  "393741.8333333333"
                ],
                [
                  "630",
                  "2019-12-01 00:00:00",
                  "Brasil",
                  "321458.0",
                  "14159780.0",
                  "48",
                  "0",
                  "0",
                  "0",
                  "0",
                  "0",
                  "0",
                  "0",
                  "0",
                  "0",
                  "0",
                  "0",
                  "0",
                  "1",
                  "0",
                  "0",
                  "1",
                  "-4.902301080408943e-15",
                  "-1.0",
                  "22.702188875815867",
                  "9.558160830403851",
                  "388220.8333333333"
                ],
                [
                  "623",
                  "2020-01-01 00:00:00",
                  "Brasil",
                  "390948.0",
                  "17426499.0",
                  "49",
                  "0",
                  "0",
                  "0",
                  "0",
                  "0",
                  "0",
                  "0",
                  "0",
                  "0",
                  "0",
                  "0",
                  "0",
                  "0",
                  "0",
                  "0",
                  "0",
                  "0.8660254037844499",
                  "-0.49999999999998046",
                  "22.434110259324033",
                  "9.765747257753679",
                  "393126.4166666667"
                ],
                [
                  "620",
                  "2020-02-01 00:00:00",
                  "Brasil",
                  "376572.0",
                  "16520344.0",
                  "50",
                  "0",
                  "0",
                  "1",
                  "0",
                  "0",
                  "0",
                  "0",
                  "0",
                  "0",
                  "0",
                  "0",
                  "0",
                  "0",
                  "0",
                  "0",
                  "0",
                  "1.6658910352223535e-14",
                  "-1.0",
                  "22.794440600026245",
                  "9.71234787010272",
                  "395109.3333333333"
                ]
              ],
              "shape": {
                "columns": 26,
                "rows": 648
              }
            },
            "text/html": [
              "<div>\n",
              "<style scoped>\n",
              "    .dataframe tbody tr th:only-of-type {\n",
              "        vertical-align: middle;\n",
              "    }\n",
              "\n",
              "    .dataframe tbody tr th {\n",
              "        vertical-align: top;\n",
              "    }\n",
              "\n",
              "    .dataframe thead th {\n",
              "        text-align: right;\n",
              "    }\n",
              "</style>\n",
              "<table border=\"1\" class=\"dataframe\">\n",
              "  <thead>\n",
              "    <tr style=\"text-align: right;\">\n",
              "      <th></th>\n",
              "      <th>date</th>\n",
              "      <th>regiao</th>\n",
              "      <th>mental_health_visits</th>\n",
              "      <th>total_atd</th>\n",
              "      <th>periodo</th>\n",
              "      <th>Pandemia_Step</th>\n",
              "      <th>Pandemia_Trend</th>\n",
              "      <th>month_2</th>\n",
              "      <th>month_3</th>\n",
              "      <th>month_4</th>\n",
              "      <th>...</th>\n",
              "      <th>month_11</th>\n",
              "      <th>month_12</th>\n",
              "      <th>quarter_2</th>\n",
              "      <th>quarter_3</th>\n",
              "      <th>quarter_4</th>\n",
              "      <th>cos1</th>\n",
              "      <th>sin1</th>\n",
              "      <th>IR</th>\n",
              "      <th>offset</th>\n",
              "      <th>ma_12_mental_health_visits</th>\n",
              "    </tr>\n",
              "  </thead>\n",
              "  <tbody>\n",
              "    <tr>\n",
              "      <th>647</th>\n",
              "      <td>2016-01-01</td>\n",
              "      <td>Brasil</td>\n",
              "      <td>111066.0</td>\n",
              "      <td>8232396.0</td>\n",
              "      <td>1</td>\n",
              "      <td>0</td>\n",
              "      <td>0</td>\n",
              "      <td>0</td>\n",
              "      <td>0</td>\n",
              "      <td>0</td>\n",
              "      <td>...</td>\n",
              "      <td>0</td>\n",
              "      <td>0</td>\n",
              "      <td>0</td>\n",
              "      <td>0</td>\n",
              "      <td>0</td>\n",
              "      <td>0.000000e+00</td>\n",
              "      <td>1.000000e+00</td>\n",
              "      <td>13.491334</td>\n",
              "      <td>9.015832</td>\n",
              "      <td>134095.000000</td>\n",
              "    </tr>\n",
              "    <tr>\n",
              "      <th>541</th>\n",
              "      <td>2016-02-01</td>\n",
              "      <td>Brasil</td>\n",
              "      <td>122505.0</td>\n",
              "      <td>10104083.0</td>\n",
              "      <td>2</td>\n",
              "      <td>0</td>\n",
              "      <td>0</td>\n",
              "      <td>1</td>\n",
              "      <td>0</td>\n",
              "      <td>0</td>\n",
              "      <td>...</td>\n",
              "      <td>0</td>\n",
              "      <td>0</td>\n",
              "      <td>0</td>\n",
              "      <td>0</td>\n",
              "      <td>0</td>\n",
              "      <td>-5.000000e-01</td>\n",
              "      <td>8.660254e-01</td>\n",
              "      <td>12.124307</td>\n",
              "      <td>9.220695</td>\n",
              "      <td>135568.142857</td>\n",
              "    </tr>\n",
              "    <tr>\n",
              "      <th>581</th>\n",
              "      <td>2016-03-01</td>\n",
              "      <td>Brasil</td>\n",
              "      <td>149843.0</td>\n",
              "      <td>13130885.0</td>\n",
              "      <td>3</td>\n",
              "      <td>0</td>\n",
              "      <td>0</td>\n",
              "      <td>0</td>\n",
              "      <td>1</td>\n",
              "      <td>0</td>\n",
              "      <td>...</td>\n",
              "      <td>0</td>\n",
              "      <td>0</td>\n",
              "      <td>0</td>\n",
              "      <td>0</td>\n",
              "      <td>0</td>\n",
              "      <td>-2.449294e-16</td>\n",
              "      <td>1.000000e+00</td>\n",
              "      <td>11.411493</td>\n",
              "      <td>9.482722</td>\n",
              "      <td>140360.375000</td>\n",
              "    </tr>\n",
              "    <tr>\n",
              "      <th>572</th>\n",
              "      <td>2016-04-01</td>\n",
              "      <td>Brasil</td>\n",
              "      <td>129201.0</td>\n",
              "      <td>11242471.0</td>\n",
              "      <td>4</td>\n",
              "      <td>0</td>\n",
              "      <td>0</td>\n",
              "      <td>0</td>\n",
              "      <td>0</td>\n",
              "      <td>1</td>\n",
              "      <td>...</td>\n",
              "      <td>0</td>\n",
              "      <td>0</td>\n",
              "      <td>1</td>\n",
              "      <td>0</td>\n",
              "      <td>0</td>\n",
              "      <td>-1.000000e+00</td>\n",
              "      <td>-4.286264e-16</td>\n",
              "      <td>11.492224</td>\n",
              "      <td>9.327454</td>\n",
              "      <td>142256.666667</td>\n",
              "    </tr>\n",
              "    <tr>\n",
              "      <th>563</th>\n",
              "      <td>2016-05-01</td>\n",
              "      <td>Brasil</td>\n",
              "      <td>137556.0</td>\n",
              "      <td>11755506.0</td>\n",
              "      <td>5</td>\n",
              "      <td>0</td>\n",
              "      <td>0</td>\n",
              "      <td>0</td>\n",
              "      <td>0</td>\n",
              "      <td>0</td>\n",
              "      <td>...</td>\n",
              "      <td>0</td>\n",
              "      <td>0</td>\n",
              "      <td>1</td>\n",
              "      <td>0</td>\n",
              "      <td>0</td>\n",
              "      <td>8.660254e-01</td>\n",
              "      <td>5.000000e-01</td>\n",
              "      <td>11.701410</td>\n",
              "      <td>9.372077</td>\n",
              "      <td>142070.200000</td>\n",
              "    </tr>\n",
              "    <tr>\n",
              "      <th>...</th>\n",
              "      <td>...</td>\n",
              "      <td>...</td>\n",
              "      <td>...</td>\n",
              "      <td>...</td>\n",
              "      <td>...</td>\n",
              "      <td>...</td>\n",
              "      <td>...</td>\n",
              "      <td>...</td>\n",
              "      <td>...</td>\n",
              "      <td>...</td>\n",
              "      <td>...</td>\n",
              "      <td>...</td>\n",
              "      <td>...</td>\n",
              "      <td>...</td>\n",
              "      <td>...</td>\n",
              "      <td>...</td>\n",
              "      <td>...</td>\n",
              "      <td>...</td>\n",
              "      <td>...</td>\n",
              "      <td>...</td>\n",
              "      <td>...</td>\n",
              "    </tr>\n",
              "    <tr>\n",
              "      <th>91</th>\n",
              "      <td>2024-08-01</td>\n",
              "      <td>sul</td>\n",
              "      <td>227340.0</td>\n",
              "      <td>7427441.0</td>\n",
              "      <td>104</td>\n",
              "      <td>0</td>\n",
              "      <td>0</td>\n",
              "      <td>0</td>\n",
              "      <td>0</td>\n",
              "      <td>0</td>\n",
              "      <td>...</td>\n",
              "      <td>0</td>\n",
              "      <td>0</td>\n",
              "      <td>0</td>\n",
              "      <td>1</td>\n",
              "      <td>0</td>\n",
              "      <td>3.037743e-14</td>\n",
              "      <td>-1.000000e+00</td>\n",
              "      <td>30.608119</td>\n",
              "      <td>8.912937</td>\n",
              "      <td>210028.454545</td>\n",
              "    </tr>\n",
              "    <tr>\n",
              "      <th>107</th>\n",
              "      <td>2024-09-01</td>\n",
              "      <td>sul</td>\n",
              "      <td>220966.0</td>\n",
              "      <td>7304922.0</td>\n",
              "      <td>105</td>\n",
              "      <td>0</td>\n",
              "      <td>0</td>\n",
              "      <td>0</td>\n",
              "      <td>0</td>\n",
              "      <td>0</td>\n",
              "      <td>...</td>\n",
              "      <td>0</td>\n",
              "      <td>0</td>\n",
              "      <td>0</td>\n",
              "      <td>1</td>\n",
              "      <td>0</td>\n",
              "      <td>5.000000e-01</td>\n",
              "      <td>-8.660254e-01</td>\n",
              "      <td>30.248920</td>\n",
              "      <td>8.896304</td>\n",
              "      <td>211300.500000</td>\n",
              "    </tr>\n",
              "    <tr>\n",
              "      <th>106</th>\n",
              "      <td>2024-10-01</td>\n",
              "      <td>sul</td>\n",
              "      <td>239779.0</td>\n",
              "      <td>8045022.0</td>\n",
              "      <td>106</td>\n",
              "      <td>0</td>\n",
              "      <td>0</td>\n",
              "      <td>0</td>\n",
              "      <td>0</td>\n",
              "      <td>0</td>\n",
              "      <td>...</td>\n",
              "      <td>0</td>\n",
              "      <td>0</td>\n",
              "      <td>0</td>\n",
              "      <td>0</td>\n",
              "      <td>1</td>\n",
              "      <td>-8.660254e-01</td>\n",
              "      <td>-5.000000e-01</td>\n",
              "      <td>29.804642</td>\n",
              "      <td>8.992809</td>\n",
              "      <td>212677.777778</td>\n",
              "    </tr>\n",
              "    <tr>\n",
              "      <th>86</th>\n",
              "      <td>2024-11-01</td>\n",
              "      <td>sul</td>\n",
              "      <td>204838.0</td>\n",
              "      <td>6753619.0</td>\n",
              "      <td>107</td>\n",
              "      <td>0</td>\n",
              "      <td>0</td>\n",
              "      <td>0</td>\n",
              "      <td>0</td>\n",
              "      <td>0</td>\n",
              "      <td>...</td>\n",
              "      <td>1</td>\n",
              "      <td>0</td>\n",
              "      <td>0</td>\n",
              "      <td>0</td>\n",
              "      <td>1</td>\n",
              "      <td>8.660254e-01</td>\n",
              "      <td>5.000000e-01</td>\n",
              "      <td>30.330109</td>\n",
              "      <td>8.817834</td>\n",
              "      <td>210275.875000</td>\n",
              "    </tr>\n",
              "    <tr>\n",
              "      <th>0</th>\n",
              "      <td>2024-12-01</td>\n",
              "      <td>sul</td>\n",
              "      <td>169359.0</td>\n",
              "      <td>5537357.0</td>\n",
              "      <td>108</td>\n",
              "      <td>0</td>\n",
              "      <td>0</td>\n",
              "      <td>0</td>\n",
              "      <td>0</td>\n",
              "      <td>0</td>\n",
              "      <td>...</td>\n",
              "      <td>0</td>\n",
              "      <td>1</td>\n",
              "      <td>0</td>\n",
              "      <td>0</td>\n",
              "      <td>1</td>\n",
              "      <td>-5.000000e-01</td>\n",
              "      <td>8.660254e-01</td>\n",
              "      <td>30.584808</td>\n",
              "      <td>8.619273</td>\n",
              "      <td>212703.857143</td>\n",
              "    </tr>\n",
              "  </tbody>\n",
              "</table>\n",
              "<p>648 rows × 26 columns</p>\n",
              "</div>"
            ],
            "text/plain": [
              "          date  regiao  mental_health_visits   total_atd  periodo  \\\n",
              "647 2016-01-01  Brasil              111066.0   8232396.0        1   \n",
              "541 2016-02-01  Brasil              122505.0  10104083.0        2   \n",
              "581 2016-03-01  Brasil              149843.0  13130885.0        3   \n",
              "572 2016-04-01  Brasil              129201.0  11242471.0        4   \n",
              "563 2016-05-01  Brasil              137556.0  11755506.0        5   \n",
              "..         ...     ...                   ...         ...      ...   \n",
              "91  2024-08-01     sul              227340.0   7427441.0      104   \n",
              "107 2024-09-01     sul              220966.0   7304922.0      105   \n",
              "106 2024-10-01     sul              239779.0   8045022.0      106   \n",
              "86  2024-11-01     sul              204838.0   6753619.0      107   \n",
              "0   2024-12-01     sul              169359.0   5537357.0      108   \n",
              "\n",
              "     Pandemia_Step  Pandemia_Trend  month_2  month_3  month_4  ...  month_11  \\\n",
              "647              0               0        0        0        0  ...         0   \n",
              "541              0               0        1        0        0  ...         0   \n",
              "581              0               0        0        1        0  ...         0   \n",
              "572              0               0        0        0        1  ...         0   \n",
              "563              0               0        0        0        0  ...         0   \n",
              "..             ...             ...      ...      ...      ...  ...       ...   \n",
              "91               0               0        0        0        0  ...         0   \n",
              "107              0               0        0        0        0  ...         0   \n",
              "106              0               0        0        0        0  ...         0   \n",
              "86               0               0        0        0        0  ...         1   \n",
              "0                0               0        0        0        0  ...         0   \n",
              "\n",
              "     month_12  quarter_2  quarter_3  quarter_4          cos1          sin1  \\\n",
              "647         0          0          0          0  0.000000e+00  1.000000e+00   \n",
              "541         0          0          0          0 -5.000000e-01  8.660254e-01   \n",
              "581         0          0          0          0 -2.449294e-16  1.000000e+00   \n",
              "572         0          1          0          0 -1.000000e+00 -4.286264e-16   \n",
              "563         0          1          0          0  8.660254e-01  5.000000e-01   \n",
              "..        ...        ...        ...        ...           ...           ...   \n",
              "91          0          0          1          0  3.037743e-14 -1.000000e+00   \n",
              "107         0          0          1          0  5.000000e-01 -8.660254e-01   \n",
              "106         0          0          0          1 -8.660254e-01 -5.000000e-01   \n",
              "86          0          0          0          1  8.660254e-01  5.000000e-01   \n",
              "0           1          0          0          1 -5.000000e-01  8.660254e-01   \n",
              "\n",
              "            IR    offset  ma_12_mental_health_visits  \n",
              "647  13.491334  9.015832               134095.000000  \n",
              "541  12.124307  9.220695               135568.142857  \n",
              "581  11.411493  9.482722               140360.375000  \n",
              "572  11.492224  9.327454               142256.666667  \n",
              "563  11.701410  9.372077               142070.200000  \n",
              "..         ...       ...                         ...  \n",
              "91   30.608119  8.912937               210028.454545  \n",
              "107  30.248920  8.896304               211300.500000  \n",
              "106  29.804642  8.992809               212677.777778  \n",
              "86   30.330109  8.817834               210275.875000  \n",
              "0    30.584808  8.619273               212703.857143  \n",
              "\n",
              "[648 rows x 26 columns]"
            ]
          },
          "execution_count": 2353,
          "metadata": {},
          "output_type": "execute_result"
        }
      ],
      "source": [
        "\n",
        "pipe = Pipeline(\n",
        "    [\n",
        "        (\"grouping\", FrequencyGroupingTransformer(frequency=PREPROCESSOR_ARGS['FrequencyDateGroup'])),\n",
        "        (\"melt\", MeltTransformer(perform_IR=PREPROCESSOR_ARGS['melt_total_atd'])),\n",
        "        (\"date_filter\", DateFilterTransformer(periodos_inclusivos=PREPROCESSOR_ARGS['DateRange'])),\n",
        "        (\"period_index_adder\", PeriodIndexAdder()),\n",
        "        (\"dummy_adder\", MultiDummyAdder(dummy_config=PREPROCESSOR_ARGS['DummyArgs'])),\n",
        "        (\"monthly_dummy_adder\", MonthlyDummyAdder()),\n",
        "        (\"quarterly_dummy_adder\", QuarterlyDummyAdder()),\n",
        "        ('fourier_seasonality', FourierSeasonalityAdder(period = FOURIER_PERIOD,order=N_HARMONICS)),\n",
        "        \n",
        "        (\"sorter\", DataFrameSorter(sort_by=GROUP_COL_NAME, ascending=False)),\n",
        "\n",
        "\n",
        "    ]\n",
        ")\n",
        "\n",
        "\n",
        "RawDataDF = BuildDataDF(dados_brutos)\n",
        "RegressionDF = pipe.fit_transform(RawDataDF)\n",
        "\n",
        "if PREPROCESSOR_ARGS['ExtractIR']:\n",
        "    RegressionDF[IR_VAR] =  RegressionDF[RAW_ATD_VAR]/RegressionDF[RAW_TOTAL_ATD_VAR] * IR_SCALE\n",
        "\n",
        "if RegressionDF[RAW_TOTAL_ATD_VAR] is not None:\n",
        "    RegressionDF[\"offset\"] = np.log(RegressionDF[\"total_atd\"] / IR_SCALE)\n",
        "\n",
        "\n",
        "pipe_MA = Pipeline(\n",
        "    [\n",
        "        ('moving_average', MovingAverageTransformer(window=MOVING_WINDOW, prefix='ma', center=True)),\n",
        "    ]\n",
        ")\n",
        "\n",
        "RegressionDF = pipe_MA.fit_transform(RegressionDF)\n",
        "\n",
        "RegressionDF\n"
      ]
    },
    {
      "cell_type": "code",
      "execution_count": 2354,
      "metadata": {},
      "outputs": [
        {
          "data": {
            "text/plain": [
              "{'formula': 'mental_health_visits ~ periodo + Pandemia_Step + Pandemia_Trend + cos1 + sin1',\n",
              " 'family': <statsmodels.genmod.families.family.Poisson at 0x1d91c553ce0>,\n",
              " 'cov_struct': <statsmodels.genmod.cov_struct.Autoregressive at 0x1d91c553080>,\n",
              " 'groups': 'define per variable',\n",
              " 'offset': 'define per variable'}"
            ]
          },
          "execution_count": 2354,
          "metadata": {},
          "output_type": "execute_result"
        }
      ],
      "source": [
        "GEE_PROCESSOR_ARGS"
      ]
    },
    {
      "cell_type": "markdown",
      "metadata": {},
      "source": [
        "# Exploração pressupostos"
      ]
    },
    {
      "cell_type": "code",
      "execution_count": 2355,
      "metadata": {},
      "outputs": [
        {
          "name": "stdout",
          "output_type": "stream",
          "text": [
            "=== Mean-Variance Check by Region ===\n",
            "\n",
            "Region: Brasil\n",
            "Mean: 510467.23\n",
            "Variance: 82712134212.80\n",
            "Variance/Mean Ratio: 162032.21\n",
            "\n",
            "Region: centro_oeste\n",
            "Mean: 38116.95\n",
            "Variance: 480013434.79\n",
            "Variance/Mean Ratio: 12593.17\n",
            "\n",
            "Region: nordeste\n",
            "Mean: 102633.95\n",
            "Variance: 5168958822.62\n",
            "Variance/Mean Ratio: 50363.05\n",
            "\n",
            "Region: norte\n",
            "Mean: 19892.93\n",
            "Variance: 176968899.12\n",
            "Variance/Mean Ratio: 8896.07\n",
            "\n",
            "Region: sudeste\n",
            "Mean: 218776.52\n",
            "Variance: 15659822279.04\n",
            "Variance/Mean Ratio: 71579.08\n",
            "\n",
            "Region: sul\n",
            "Mean: 121398.41\n",
            "Variance: 2685416574.49\n",
            "Variance/Mean Ratio: 22120.69\n"
          ]
        }
      ],
      "source": [
        "print(\"=== Mean-Variance Check by Region ===\")\n",
        "for region in RegressionDF[GROUP_COL_NAME].unique():\n",
        "    region_df = RegressionDF[RegressionDF[GROUP_COL_NAME] == region]\n",
        "    print(f\"\\nRegion: {region}\")\n",
        "    print(f\"Mean: {region_df[DEPENDENT_VAR].mean():.2f}\")\n",
        "    print(f\"Variance: {region_df[DEPENDENT_VAR].var():.2f}\")\n",
        "    print(f\"Variance/Mean Ratio: {region_df[DEPENDENT_VAR].var()/region_df[DEPENDENT_VAR].mean():.2f}\")"
      ]
    },
    {
      "cell_type": "code",
      "execution_count": 2356,
      "metadata": {},
      "outputs": [
        {
          "name": "stdout",
          "output_type": "stream",
          "text": [
            "\n",
            "=== Mean-Variance by Region: Pre-Intervention vs Intervention ===\n"
          ]
        },
        {
          "data": {
            "text/plain": [
              "'\\nfor region in RegressionDF[GROUP_COL_NAME].unique():\\n    # Pre-intervention subset (both pandemic indicators = 0)\\n    pre_subset = RegressionDF[(RegressionDF[GROUP_COL_NAME] == region) & \\n                            (RegressionDF[\\'Pandemia_Step\\'] == 0) &\\n                            (RegressionDF[\\'PosPandemia_Step\\'] == 0)]\\n    \\n    # Intervention subset (all other cases)\\n    int_subset = RegressionDF[(RegressionDF[GROUP_COL_NAME] == region) & \\n                            ((RegressionDF[\\'Pandemia_Step\\'] != 0) |\\n                             (RegressionDF[\\'PosPandemia_Step\\'] != 0))]\\n    \\n    print(f\"\\nRegion: {region}\")\\n    \\n    # Pre-intervention stats\\n    if len(pre_subset) > 0:\\n        print(\"  PRE-INTERVENTION:\")\\n        print(f\"  N observations: {len(pre_subset)}\")\\n        print(f\"  Mean: {pre_subset[DEPENDENT_VAR].mean():.2f}\")\\n        print(f\"  Variance: {pre_subset[DEPENDENT_VAR].var():.2f}\")\\n        print(f\"  Dispersion ratio: {pre_subset[DEPENDENT_VAR].var()/pre_subset[DEPENDENT_VAR].mean():.2f}\")\\n    else:\\n        print(\"  No pre-intervention data for this region\")\\n    \\n    # Intervention stats\\n    if len(int_subset) > 0:\\n        print(\"  INTERVENTION:\")\\n        print(f\"  N observations: {len(int_subset)}\")\\n        print(f\"  Mean: {int_subset[DEPENDENT_VAR].mean():.2f}\")\\n        print(f\"  Variance: {int_subset[DEPENDENT_VAR].var():.2f}\")\\n        print(f\"  Dispersion ratio: {int_subset[DEPENDENT_VAR].var()/int_subset[DEPENDENT_VAR].mean():.2f}\")\\n    else:\\n        print(\"  No intervention data for this region\")\\n'"
            ]
          },
          "execution_count": 2356,
          "metadata": {},
          "output_type": "execute_result"
        }
      ],
      "source": [
        "print(\"\\n=== Mean-Variance by Region: Pre-Intervention vs Intervention ===\")\n",
        "'''\n",
        "for region in RegressionDF[GROUP_COL_NAME].unique():\n",
        "    # Pre-intervention subset (both pandemic indicators = 0)\n",
        "    pre_subset = RegressionDF[(RegressionDF[GROUP_COL_NAME] == region) & \n",
        "                            (RegressionDF['Pandemia_Step'] == 0) &\n",
        "                            (RegressionDF['PosPandemia_Step'] == 0)]\n",
        "    \n",
        "    # Intervention subset (all other cases)\n",
        "    int_subset = RegressionDF[(RegressionDF[GROUP_COL_NAME] == region) & \n",
        "                            ((RegressionDF['Pandemia_Step'] != 0) |\n",
        "                             (RegressionDF['PosPandemia_Step'] != 0))]\n",
        "    \n",
        "    print(f\"\\nRegion: {region}\")\n",
        "    \n",
        "    # Pre-intervention stats\n",
        "    if len(pre_subset) > 0:\n",
        "        print(\"  PRE-INTERVENTION:\")\n",
        "        print(f\"  N observations: {len(pre_subset)}\")\n",
        "        print(f\"  Mean: {pre_subset[DEPENDENT_VAR].mean():.2f}\")\n",
        "        print(f\"  Variance: {pre_subset[DEPENDENT_VAR].var():.2f}\")\n",
        "        print(f\"  Dispersion ratio: {pre_subset[DEPENDENT_VAR].var()/pre_subset[DEPENDENT_VAR].mean():.2f}\")\n",
        "    else:\n",
        "        print(\"  No pre-intervention data for this region\")\n",
        "    \n",
        "    # Intervention stats\n",
        "    if len(int_subset) > 0:\n",
        "        print(\"  INTERVENTION:\")\n",
        "        print(f\"  N observations: {len(int_subset)}\")\n",
        "        print(f\"  Mean: {int_subset[DEPENDENT_VAR].mean():.2f}\")\n",
        "        print(f\"  Variance: {int_subset[DEPENDENT_VAR].var():.2f}\")\n",
        "        print(f\"  Dispersion ratio: {int_subset[DEPENDENT_VAR].var()/int_subset[DEPENDENT_VAR].mean():.2f}\")\n",
        "    else:\n",
        "        print(\"  No intervention data for this region\")\n",
        "'''"
      ]
    },
    {
      "cell_type": "markdown",
      "metadata": {},
      "source": [
        "# CHOW"
      ]
    },
    {
      "cell_type": "code",
      "execution_count": 2387,
      "metadata": {},
      "outputs": [],
      "source": [
        "\n",
        "import numpy as np\n",
        "import pandas as pd\n",
        "import statsmodels.api as sm\n",
        "import patsy\n",
        "from scipy import stats\n",
        "\n",
        "def chow_test_glm_by_date(df, \n",
        "                           y_col=None, X_cols=None, \n",
        "                           formula=None, \n",
        "                           breakpoint_date=None, \n",
        "                           family=None, \n",
        "                           offset_col=None, \n",
        "                           date_col='DATE_NAME'):\n",
        "    \"\"\"\n",
        "    Faz o Chow Test em GLM, usando data como ponto de quebra.\n",
        "    \n",
        "    Pode passar (y_col + X_cols) ou formula.\n",
        "    \"\"\"\n",
        "\n",
        "    df = df.copy()\n",
        "    df[date_col] = pd.to_datetime(df[date_col])\n",
        "\n",
        "    # Subsets\n",
        "    df1 = df[df[date_col] < pd.to_datetime(breakpoint_date)]\n",
        "    df2 = df[df[date_col] >= pd.to_datetime(breakpoint_date)]\n",
        "\n",
        "    # Se for fórmula\n",
        "    if formula:\n",
        "        y_full, X_full = patsy.dmatrices(formula, data=df, return_type='dataframe')\n",
        "        y1, X1 = patsy.dmatrices(formula, data=df1, return_type='dataframe')\n",
        "        y2, X2 = patsy.dmatrices(formula, data=df2, return_type='dataframe')\n",
        "    else:\n",
        "        X_full = sm.add_constant(df[X_cols])\n",
        "        X1 = sm.add_constant(df1[X_cols])\n",
        "        X2 = sm.add_constant(df2[X_cols])\n",
        "\n",
        "        y_full = df[y_col]\n",
        "        y1 = df1[y_col]\n",
        "        y2 = df2[y_col]\n",
        "\n",
        "    # Offsets\n",
        "    offset_full = np.log(df[offset_col]) if offset_col else None\n",
        "    offset1 = np.log(df1[offset_col]) if offset_col else None\n",
        "    offset2 = np.log(df2[offset_col]) if offset_col else None\n",
        "\n",
        "    fit_args = {            \n",
        "            \"cov_type\": \"HAC\",  # Use nonrobust covariance for testing\n",
        "            \"cov_kwds\": {'maxlags': 4},}\n",
        "    # Ajuste dos modelos\n",
        "    model_full = sm.GLM(y_full, X_full, family=family, offset=offset_full).fit()#**fit_args)\n",
        "    model1 = sm.GLM(y1, X1, family=family, offset=offset1).fit()#**fit_args)\n",
        "    model2 = sm.GLM(y2, X2, family=family, offset=offset2).fit()#**fit_args)\n",
        "\n",
        "    # Log-Likelihoods\n",
        "    ll_full = model_full.llf\n",
        "    ll1 = model1.llf\n",
        "    ll2 = model2.llf\n",
        "\n",
        "    # Estatística de teste\n",
        "    LR = 2 * ((ll1 + ll2) - ll_full)\n",
        "    df_diff = (model1.df_model + model2.df_model) - model_full.df_model\n",
        "    p_value = 1 - stats.chi2.cdf(LR, df_diff)\n",
        "\n",
        "    return {\n",
        "        'LR': LR,\n",
        "        'p-value': p_value,\n",
        "        'df_diff': df_diff\n",
        "    }\n",
        "\n"
      ]
    },
    {
      "cell_type": "code",
      "execution_count": 2388,
      "metadata": {},
      "outputs": [],
      "source": [
        "def chow_gridsearch_glm_by_date(RegressionDF, \n",
        "                                MODEL_FORMULA, \n",
        "                                candidate_dates, \n",
        "                                GROUP_COL_NAME, \n",
        "                                family, \n",
        "                                offset_col=None, \n",
        "                                date_col='DATE_NAME'):\n",
        "    \"\"\"\n",
        "    Faz Chow Test para vários breakpoints possíveis,\n",
        "    para cada grupo (ex: cidade, região etc.)\n",
        "    \n",
        "    Retorna um DataFrame com todos os resultados.\n",
        "    \"\"\"\n",
        "    \n",
        "    results = []\n",
        "\n",
        "    for variable in RegressionDF[GROUP_COL_NAME].unique():\n",
        "        variable_data = RegressionDF[RegressionDF[GROUP_COL_NAME] == variable].sort_values(by=date_col)\n",
        "        variable_data = variable_data.reset_index(drop=True)\n",
        "\n",
        "        for breakpoint_date in candidate_dates:\n",
        "            chow_result = chow_test_glm_by_date(\n",
        "                variable_data,\n",
        "                formula=MODEL_FORMULA,\n",
        "                breakpoint_date=breakpoint_date,\n",
        "                family=family,\n",
        "                offset_col=offset_col,\n",
        "                date_col=date_col\n",
        "            )\n",
        "            results.append({\n",
        "                'group': variable,\n",
        "                'breakpoint': pd.to_datetime(breakpoint_date),\n",
        "                'LR_stat': chow_result['LR'],\n",
        "                'p_value': chow_result['p-value'],\n",
        "                'df_diff': chow_result['df_diff']\n",
        "            })\n",
        "\n",
        "    # Organiza resultado final\n",
        "    results_df = pd.DataFrame(results)\n",
        "    results_df = results_df.sort_values(['group', 'p_value'])  # ordena por menor p-valor primeiro\n",
        "    \n",
        "    return results_df\n"
      ]
    },
    {
      "cell_type": "code",
      "execution_count": 2389,
      "metadata": {},
      "outputs": [
        {
          "name": "stderr",
          "output_type": "stream",
          "text": [
            "C:\\Users\\Lucas\\AppData\\Local\\Temp\\ipykernel_25208\\656223074.py:1: FutureWarning:\n",
            "\n",
            "'M' is deprecated and will be removed in a future version, please use 'ME' instead.\n",
            "\n",
            "c:\\Users\\Lucas\\AppData\\Local\\Programs\\Python\\Python312\\Lib\\site-packages\\statsmodels\\genmod\\families\\family.py:1367: ValueWarning:\n",
            "\n",
            "Negative binomial dispersion parameter alpha not set. Using default value alpha=1.0.\n",
            "\n",
            "c:\\Users\\Lucas\\AppData\\Local\\Programs\\Python\\Python312\\Lib\\site-packages\\statsmodels\\genmod\\generalized_linear_model.py:1342: PerfectSeparationWarning:\n",
            "\n",
            "Perfect separation or prediction detected, parameter may not be identified\n",
            "\n",
            "c:\\Users\\Lucas\\AppData\\Local\\Programs\\Python\\Python312\\Lib\\site-packages\\statsmodels\\regression\\_tools.py:121: RuntimeWarning:\n",
            "\n",
            "divide by zero encountered in scalar divide\n",
            "\n",
            "c:\\Users\\Lucas\\AppData\\Local\\Programs\\Python\\Python312\\Lib\\site-packages\\statsmodels\\regression\\_tools.py:121: RuntimeWarning:\n",
            "\n",
            "divide by zero encountered in scalar divide\n",
            "\n",
            "c:\\Users\\Lucas\\AppData\\Local\\Programs\\Python\\Python312\\Lib\\site-packages\\statsmodels\\regression\\_tools.py:121: RuntimeWarning:\n",
            "\n",
            "divide by zero encountered in scalar divide\n",
            "\n",
            "c:\\Users\\Lucas\\AppData\\Local\\Programs\\Python\\Python312\\Lib\\site-packages\\statsmodels\\regression\\_tools.py:121: RuntimeWarning:\n",
            "\n",
            "divide by zero encountered in scalar divide\n",
            "\n",
            "c:\\Users\\Lucas\\AppData\\Local\\Programs\\Python\\Python312\\Lib\\site-packages\\statsmodels\\genmod\\generalized_linear_model.py:1342: PerfectSeparationWarning:\n",
            "\n",
            "Perfect separation or prediction detected, parameter may not be identified\n",
            "\n",
            "c:\\Users\\Lucas\\AppData\\Local\\Programs\\Python\\Python312\\Lib\\site-packages\\statsmodels\\regression\\_tools.py:121: RuntimeWarning:\n",
            "\n",
            "divide by zero encountered in scalar divide\n",
            "\n",
            "c:\\Users\\Lucas\\AppData\\Local\\Programs\\Python\\Python312\\Lib\\site-packages\\statsmodels\\regression\\_tools.py:121: RuntimeWarning:\n",
            "\n",
            "divide by zero encountered in scalar divide\n",
            "\n",
            "c:\\Users\\Lucas\\AppData\\Local\\Programs\\Python\\Python312\\Lib\\site-packages\\statsmodels\\genmod\\generalized_linear_model.py:1342: PerfectSeparationWarning:\n",
            "\n",
            "Perfect separation or prediction detected, parameter may not be identified\n",
            "\n",
            "c:\\Users\\Lucas\\AppData\\Local\\Programs\\Python\\Python312\\Lib\\site-packages\\statsmodels\\regression\\_tools.py:121: RuntimeWarning:\n",
            "\n",
            "divide by zero encountered in scalar divide\n",
            "\n",
            "c:\\Users\\Lucas\\AppData\\Local\\Programs\\Python\\Python312\\Lib\\site-packages\\statsmodels\\regression\\_tools.py:121: RuntimeWarning:\n",
            "\n",
            "divide by zero encountered in scalar divide\n",
            "\n",
            "c:\\Users\\Lucas\\AppData\\Local\\Programs\\Python\\Python312\\Lib\\site-packages\\statsmodels\\genmod\\generalized_linear_model.py:1342: PerfectSeparationWarning:\n",
            "\n",
            "Perfect separation or prediction detected, parameter may not be identified\n",
            "\n",
            "c:\\Users\\Lucas\\AppData\\Local\\Programs\\Python\\Python312\\Lib\\site-packages\\statsmodels\\regression\\_tools.py:121: RuntimeWarning:\n",
            "\n",
            "divide by zero encountered in scalar divide\n",
            "\n",
            "c:\\Users\\Lucas\\AppData\\Local\\Programs\\Python\\Python312\\Lib\\site-packages\\statsmodels\\regression\\_tools.py:121: RuntimeWarning:\n",
            "\n",
            "divide by zero encountered in scalar divide\n",
            "\n",
            "c:\\Users\\Lucas\\AppData\\Local\\Programs\\Python\\Python312\\Lib\\site-packages\\statsmodels\\regression\\_tools.py:121: RuntimeWarning:\n",
            "\n",
            "divide by zero encountered in scalar divide\n",
            "\n",
            "c:\\Users\\Lucas\\AppData\\Local\\Programs\\Python\\Python312\\Lib\\site-packages\\statsmodels\\regression\\_tools.py:121: RuntimeWarning:\n",
            "\n",
            "divide by zero encountered in scalar divide\n",
            "\n"
          ]
        },
        {
          "data": {
            "application/vnd.microsoft.datawrangler.viewer.v0+json": {
              "columns": [
                {
                  "name": "index",
                  "rawType": "int64",
                  "type": "integer"
                },
                {
                  "name": "group",
                  "rawType": "object",
                  "type": "string"
                },
                {
                  "name": "breakpoint",
                  "rawType": "datetime64[ns]",
                  "type": "datetime"
                },
                {
                  "name": "LR_stat",
                  "rawType": "float64",
                  "type": "float"
                },
                {
                  "name": "p_value",
                  "rawType": "float64",
                  "type": "float"
                },
                {
                  "name": "df_diff",
                  "rawType": "int64",
                  "type": "integer"
                }
              ],
              "conversionMethod": "pd.DataFrame",
              "ref": "deec878c-8087-476f-ac66-fe7b86f88106",
              "rows": [
                [
                  "105",
                  "Brasil",
                  "2024-10-31 00:00:00",
                  "0.16821864154189825",
                  "0.6816998339440931",
                  "1"
                ],
                [
                  "1",
                  "Brasil",
                  "2016-02-29 00:00:00",
                  "0.13656854536384344",
                  "0.7117164578091546",
                  "1"
                ],
                [
                  "18",
                  "Brasil",
                  "2017-07-31 00:00:00",
                  "1.213232684880495",
                  "0.7498323482879095",
                  "3"
                ],
                [
                  "19",
                  "Brasil",
                  "2017-08-31 00:00:00",
                  "1.192078780848533",
                  "0.754904767542941",
                  "3"
                ],
                [
                  "33",
                  "Brasil",
                  "2018-10-31 00:00:00",
                  "1.1819210555404425",
                  "0.7573435747303853",
                  "3"
                ],
                [
                  "17",
                  "Brasil",
                  "2017-06-30 00:00:00",
                  "1.1612030467949808",
                  "0.762323656467459",
                  "3"
                ],
                [
                  "34",
                  "Brasil",
                  "2018-11-30 00:00:00",
                  "1.155205327551812",
                  "0.7637667274043063",
                  "3"
                ],
                [
                  "16",
                  "Brasil",
                  "2017-05-31 00:00:00",
                  "1.1430832231417298",
                  "0.766685100820638",
                  "3"
                ],
                [
                  "20",
                  "Brasil",
                  "2017-09-30 00:00:00",
                  "1.1383172012865543",
                  "0.767833127012049",
                  "3"
                ],
                [
                  "15",
                  "Brasil",
                  "2017-04-30 00:00:00",
                  "1.1294896360486746",
                  "0.7699603572200656",
                  "3"
                ],
                [
                  "21",
                  "Brasil",
                  "2017-10-31 00:00:00",
                  "1.1033877958543599",
                  "0.7762563197900003",
                  "3"
                ],
                [
                  "32",
                  "Brasil",
                  "2018-09-30 00:00:00",
                  "1.098363236989826",
                  "0.7774692193606727",
                  "3"
                ],
                [
                  "25",
                  "Brasil",
                  "2018-02-28 00:00:00",
                  "1.0962887108325958",
                  "0.7779700783475253",
                  "3"
                ],
                [
                  "31",
                  "Brasil",
                  "2018-08-31 00:00:00",
                  "1.0919260773807764",
                  "0.7790235096576325",
                  "3"
                ],
                [
                  "27",
                  "Brasil",
                  "2018-04-30 00:00:00",
                  "1.0890066917054355",
                  "0.7797285530525652",
                  "3"
                ],
                [
                  "24",
                  "Brasil",
                  "2018-01-31 00:00:00",
                  "1.0889682173728943",
                  "0.7797378453259228",
                  "3"
                ],
                [
                  "23",
                  "Brasil",
                  "2017-12-31 00:00:00",
                  "1.0887394803576171",
                  "0.7797930899091404",
                  "3"
                ],
                [
                  "26",
                  "Brasil",
                  "2018-03-31 00:00:00",
                  "1.0885806577280164",
                  "0.7798314490670346",
                  "3"
                ],
                [
                  "29",
                  "Brasil",
                  "2018-06-30 00:00:00",
                  "1.086232848931104",
                  "0.780398525221999",
                  "3"
                ],
                [
                  "28",
                  "Brasil",
                  "2018-05-31 00:00:00",
                  "1.0861444505862892",
                  "0.7804198774874886",
                  "3"
                ],
                [
                  "30",
                  "Brasil",
                  "2018-07-31 00:00:00",
                  "1.080056022386998",
                  "0.7818906891571892",
                  "3"
                ],
                [
                  "14",
                  "Brasil",
                  "2017-03-31 00:00:00",
                  "1.072512882295996",
                  "0.7837133804973998",
                  "3"
                ],
                [
                  "22",
                  "Brasil",
                  "2017-11-30 00:00:00",
                  "1.061816329602152",
                  "0.7862988347064288",
                  "3"
                ],
                [
                  "35",
                  "Brasil",
                  "2018-12-31 00:00:00",
                  "1.0524663808755577",
                  "0.7885594662918793",
                  "3"
                ],
                [
                  "13",
                  "Brasil",
                  "2017-02-28 00:00:00",
                  "1.0474032908678055",
                  "0.7897838462827422",
                  "3"
                ],
                [
                  "36",
                  "Brasil",
                  "2019-01-31 00:00:00",
                  "1.0195214306004345",
                  "0.7965284907524237",
                  "3"
                ],
                [
                  "37",
                  "Brasil",
                  "2019-02-28 00:00:00",
                  "1.0113078956492245",
                  "0.7985158061900925",
                  "3"
                ],
                [
                  "38",
                  "Brasil",
                  "2019-03-31 00:00:00",
                  "0.9629584308713675",
                  "0.8102138880924354",
                  "3"
                ],
                [
                  "45",
                  "Brasil",
                  "2019-10-31 00:00:00",
                  "0.9586080685257912",
                  "0.8112661324154635",
                  "3"
                ],
                [
                  "40",
                  "Brasil",
                  "2019-05-31 00:00:00",
                  "0.9504771581850946",
                  "0.8132325237327725",
                  "3"
                ],
                [
                  "43",
                  "Brasil",
                  "2019-08-31 00:00:00",
                  "0.9461913262493908",
                  "0.8142688525382603",
                  "3"
                ],
                [
                  "39",
                  "Brasil",
                  "2019-04-30 00:00:00",
                  "0.9461726411245763",
                  "0.814273370396494",
                  "3"
                ],
                [
                  "44",
                  "Brasil",
                  "2019-09-30 00:00:00",
                  "0.9308503242209554",
                  "0.8179772487551139",
                  "3"
                ],
                [
                  "46",
                  "Brasil",
                  "2019-11-30 00:00:00",
                  "0.9205945450812578",
                  "0.8204552409829958",
                  "3"
                ],
                [
                  "42",
                  "Brasil",
                  "2019-07-31 00:00:00",
                  "0.9048384055495262",
                  "0.824260036125382",
                  "3"
                ],
                [
                  "12",
                  "Brasil",
                  "2017-01-31 00:00:00",
                  "0.9033247968181968",
                  "0.8246253857413162",
                  "3"
                ],
                [
                  "41",
                  "Brasil",
                  "2019-06-30 00:00:00",
                  "0.8999219634570181",
                  "0.8254466410173089",
                  "3"
                ],
                [
                  "47",
                  "Brasil",
                  "2019-12-31 00:00:00",
                  "0.8086962895467877",
                  "0.8473858848856146",
                  "3"
                ],
                [
                  "11",
                  "Brasil",
                  "2016-12-31 00:00:00",
                  "0.7836945471353829",
                  "0.853362975007071",
                  "3"
                ],
                [
                  "48",
                  "Brasil",
                  "2020-01-31 00:00:00",
                  "0.7634070902131498",
                  "0.8581980321545416",
                  "3"
                ],
                [
                  "49",
                  "Brasil",
                  "2020-02-29 00:00:00",
                  "0.7123843859881163",
                  "0.8702872229336337",
                  "3"
                ],
                [
                  "50",
                  "Brasil",
                  "2020-03-31 00:00:00",
                  "0.6743339085951447",
                  "0.8792236168183052",
                  "3"
                ],
                [
                  "74",
                  "Brasil",
                  "2022-03-31 00:00:00",
                  "0.6593386768363416",
                  "0.8827236074336074",
                  "3"
                ],
                [
                  "10",
                  "Brasil",
                  "2016-11-30 00:00:00",
                  "0.5506398170255125",
                  "0.9076332439298317",
                  "3"
                ],
                [
                  "75",
                  "Brasil",
                  "2022-04-30 00:00:00",
                  "0.5032290969975293",
                  "0.9181814225649882",
                  "3"
                ],
                [
                  "104",
                  "Brasil",
                  "2024-09-30 00:00:00",
                  "0.16958149056881666",
                  "0.9187045075393948",
                  "2"
                ],
                [
                  "2",
                  "Brasil",
                  "2016-03-31 00:00:00",
                  "0.14785176422446966",
                  "0.928740527576536",
                  "2"
                ],
                [
                  "76",
                  "Brasil",
                  "2022-05-31 00:00:00",
                  "0.4375796029344201",
                  "0.9323745613750711",
                  "3"
                ],
                [
                  "9",
                  "Brasil",
                  "2016-10-31 00:00:00",
                  "0.4351452593691647",
                  "0.9328903366018354",
                  "3"
                ],
                [
                  "77",
                  "Brasil",
                  "2022-06-30 00:00:00",
                  "0.36466973507776856",
                  "0.9474401892469388",
                  "3"
                ]
              ],
              "shape": {
                "columns": 5,
                "rows": 642
              }
            },
            "text/html": [
              "<div>\n",
              "<style scoped>\n",
              "    .dataframe tbody tr th:only-of-type {\n",
              "        vertical-align: middle;\n",
              "    }\n",
              "\n",
              "    .dataframe tbody tr th {\n",
              "        vertical-align: top;\n",
              "    }\n",
              "\n",
              "    .dataframe thead th {\n",
              "        text-align: right;\n",
              "    }\n",
              "</style>\n",
              "<table border=\"1\" class=\"dataframe\">\n",
              "  <thead>\n",
              "    <tr style=\"text-align: right;\">\n",
              "      <th></th>\n",
              "      <th>group</th>\n",
              "      <th>breakpoint</th>\n",
              "      <th>LR_stat</th>\n",
              "      <th>p_value</th>\n",
              "      <th>df_diff</th>\n",
              "    </tr>\n",
              "  </thead>\n",
              "  <tbody>\n",
              "    <tr>\n",
              "      <th>105</th>\n",
              "      <td>Brasil</td>\n",
              "      <td>2024-10-31</td>\n",
              "      <td>0.168219</td>\n",
              "      <td>0.681700</td>\n",
              "      <td>1</td>\n",
              "    </tr>\n",
              "    <tr>\n",
              "      <th>1</th>\n",
              "      <td>Brasil</td>\n",
              "      <td>2016-02-29</td>\n",
              "      <td>0.136569</td>\n",
              "      <td>0.711716</td>\n",
              "      <td>1</td>\n",
              "    </tr>\n",
              "    <tr>\n",
              "      <th>18</th>\n",
              "      <td>Brasil</td>\n",
              "      <td>2017-07-31</td>\n",
              "      <td>1.213233</td>\n",
              "      <td>0.749832</td>\n",
              "      <td>3</td>\n",
              "    </tr>\n",
              "    <tr>\n",
              "      <th>19</th>\n",
              "      <td>Brasil</td>\n",
              "      <td>2017-08-31</td>\n",
              "      <td>1.192079</td>\n",
              "      <td>0.754905</td>\n",
              "      <td>3</td>\n",
              "    </tr>\n",
              "    <tr>\n",
              "      <th>33</th>\n",
              "      <td>Brasil</td>\n",
              "      <td>2018-10-31</td>\n",
              "      <td>1.181921</td>\n",
              "      <td>0.757344</td>\n",
              "      <td>3</td>\n",
              "    </tr>\n",
              "    <tr>\n",
              "      <th>...</th>\n",
              "      <td>...</td>\n",
              "      <td>...</td>\n",
              "      <td>...</td>\n",
              "      <td>...</td>\n",
              "      <td>...</td>\n",
              "    </tr>\n",
              "    <tr>\n",
              "      <th>597</th>\n",
              "      <td>sul</td>\n",
              "      <td>2021-03-31</td>\n",
              "      <td>0.067118</td>\n",
              "      <td>0.999939</td>\n",
              "      <td>5</td>\n",
              "    </tr>\n",
              "    <tr>\n",
              "      <th>596</th>\n",
              "      <td>sul</td>\n",
              "      <td>2021-02-28</td>\n",
              "      <td>0.066869</td>\n",
              "      <td>0.999940</td>\n",
              "      <td>5</td>\n",
              "    </tr>\n",
              "    <tr>\n",
              "      <th>595</th>\n",
              "      <td>sul</td>\n",
              "      <td>2021-01-31</td>\n",
              "      <td>0.066446</td>\n",
              "      <td>0.999941</td>\n",
              "      <td>5</td>\n",
              "    </tr>\n",
              "    <tr>\n",
              "      <th>535</th>\n",
              "      <td>sul</td>\n",
              "      <td>2016-01-31</td>\n",
              "      <td>0.113118</td>\n",
              "      <td>NaN</td>\n",
              "      <td>0</td>\n",
              "    </tr>\n",
              "    <tr>\n",
              "      <th>641</th>\n",
              "      <td>sul</td>\n",
              "      <td>2024-11-30</td>\n",
              "      <td>0.069926</td>\n",
              "      <td>NaN</td>\n",
              "      <td>0</td>\n",
              "    </tr>\n",
              "  </tbody>\n",
              "</table>\n",
              "<p>642 rows × 5 columns</p>\n",
              "</div>"
            ],
            "text/plain": [
              "      group breakpoint   LR_stat   p_value  df_diff\n",
              "105  Brasil 2024-10-31  0.168219  0.681700        1\n",
              "1    Brasil 2016-02-29  0.136569  0.711716        1\n",
              "18   Brasil 2017-07-31  1.213233  0.749832        3\n",
              "19   Brasil 2017-08-31  1.192079  0.754905        3\n",
              "33   Brasil 2018-10-31  1.181921  0.757344        3\n",
              "..      ...        ...       ...       ...      ...\n",
              "597     sul 2021-03-31  0.067118  0.999939        5\n",
              "596     sul 2021-02-28  0.066869  0.999940        5\n",
              "595     sul 2021-01-31  0.066446  0.999941        5\n",
              "535     sul 2016-01-31  0.113118       NaN        0\n",
              "641     sul 2024-11-30  0.069926       NaN        0\n",
              "\n",
              "[642 rows x 5 columns]"
            ]
          },
          "execution_count": 2389,
          "metadata": {},
          "output_type": "execute_result"
        }
      ],
      "source": [
        "candidate_dates = pd.date_range('2016-01-01', '2024-12-01', freq='M')\n",
        "\n",
        "if DO_CHOW_GRID_SEARCH:\n",
        "    chow_grid_results = chow_gridsearch_glm_by_date(\n",
        "        RegressionDF=RegressionDF,\n",
        "        MODEL_FORMULA=MODEL_FORMULA,\n",
        "        candidate_dates=candidate_dates,\n",
        "        GROUP_COL_NAME=GROUP_COL_NAME,\n",
        "        family=sm.families.NegativeBinomial(),\n",
        "        offset_col='offset',\n",
        "        date_col=DATE_NAME\n",
        "    )\n",
        "    chow_grid_results\n",
        "chow_grid_results"
      ]
    },
    {
      "cell_type": "code",
      "execution_count": 2361,
      "metadata": {},
      "outputs": [],
      "source": [
        "#plt.boxplot([RegressionDF[RegressionDF['regiao']==r][DEPENDENT_VAR] \n",
        "#            for r in RegressionDF['regiao'].unique()])\n",
        "#plt.yscale('log')  # Log-scale due to huge range\n",
        "#plt.xticks(ticks=range(1,6), labels=RegressionDF['regiao'].unique())\n",
        "#plt.title(\"Mental Health Visits by Region (Log Scale)\")"
      ]
    },
    {
      "cell_type": "markdown",
      "metadata": {},
      "source": [
        "# Exploração Pré intervenção\n"
      ]
    },
    {
      "cell_type": "code",
      "execution_count": null,
      "metadata": {},
      "outputs": [],
      "source": []
    },
    {
      "cell_type": "code",
      "execution_count": 2362,
      "metadata": {},
      "outputs": [
        {
          "name": "stdout",
          "output_type": "stream",
          "text": [
            "Analisando variável: Brasil\n",
            "Analisando variável: centro_oeste\n",
            "Analisando variável: nordeste\n",
            "Analisando variável: norte\n",
            "Analisando variável: sudeste\n",
            "Analisando variável: sul\n"
          ]
        }
      ],
      "source": [
        "def run_pre_intervention_diagnostics(data, date_col, dependent_var, intervention_start_date):\n",
        "    \"\"\"\n",
        "    Realiza testes diagnósticos no período pré-intervenção.\n",
        "\n",
        "    Args:\n",
        "        data (pd.DataFrame): DataFrame contendo os dados.\n",
        "        date_col (str): Nome da coluna de datas.\n",
        "        dependent_var (str): Nome da variável dependente.\n",
        "        intervention_start_date (str): Data de início da intervenção (formato 'YYYY-MM-DD').\n",
        "\n",
        "    Returns:\n",
        "        dict: Resultados dos testes diagnósticos.\n",
        "    \"\"\"\n",
        "    import pandas as pd\n",
        "    import matplotlib.pyplot as plt\n",
        "    from statsmodels.tsa.stattools import adfuller\n",
        "    from statsmodels.graphics.tsaplots import plot_acf, plot_pacf\n",
        "    from statsmodels.stats.diagnostic import het_breuschpagan\n",
        "    from statsmodels.stats.stattools import durbin_watson\n",
        "    from scipy.stats import shapiro, jarque_bera, normaltest\n",
        "    import statsmodels.api as sm\n",
        "\n",
        "    # Filtrar o período pré-intervenção\n",
        "    pre_intervention_df = data[data[date_col] < pd.to_datetime(intervention_start_date)]\n",
        "\n",
        "    # Inicializar resultados\n",
        "    results = {}\n",
        "\n",
        "    # 1. Teste de Estacionariedade (ADF)\n",
        "    y = pre_intervention_df[dependent_var]\n",
        "    adf_result = adfuller(y)\n",
        "    results['ADF Statistic'] = adf_result[0]\n",
        "    results['ADF p-value'] = adf_result[1]\n",
        "    results['ADF Stationary'] = adf_result[1] < 0.05\n",
        "\n",
        "    # 2. Diagnóstico de Autocorrelação (ACF e PACF)\n",
        "    results['ACF'] = \"Plotted\"\n",
        "    results['PACF'] = \"Plotted\"\n",
        "\n",
        "    # 3. Teste de Heterocedasticidade (Breusch-Pagan)\n",
        "    X = sm.add_constant(pre_intervention_df.index)  # Índice como variável independente\n",
        "    model = sm.OLS(y, X).fit()\n",
        "    bp_test = het_breuschpagan(model.resid, X)\n",
        "    results['Breusch-Pagan LM Statistic'] = bp_test[0]\n",
        "    results['Breusch-Pagan p-value'] = bp_test[1]\n",
        "    results['Heteroscedasticity'] = bp_test[1] < 0.05\n",
        "\n",
        "    # 4. Testes de Normalidade dos Resíduos\n",
        "    shapiro_test = shapiro(model.resid)\n",
        "    jb_test = jarque_bera(model.resid)\n",
        "    dagostino_test = normaltest(model.resid)\n",
        "    results['Shapiro-Wilk p-value'] = shapiro_test.pvalue\n",
        "    results['Jarque-Bera p-value'] = jb_test[1]\n",
        "    results['D\\'Agostino p-value'] = dagostino_test.pvalue\n",
        "    results['Normality'] = all(p > 0.05 for p in [shapiro_test.pvalue, jb_test[1], dagostino_test.pvalue])\n",
        "\n",
        "    # 5. Teste de Autocorrelação (Durbin-Watson)\n",
        "    dw_stat = durbin_watson(model.resid)\n",
        "    results['Durbin-Watson Statistic'] = dw_stat\n",
        "    results['No Autocorrelation'] = 1.5 < dw_stat < 2.5\n",
        "\n",
        "    return results\n",
        "\n",
        "\n",
        "# Consolidar os resultados em um DataFrame\n",
        "diagnostics_results = []\n",
        "\n",
        "try:\n",
        "    for variable in RegressionDF[GROUP_COL_NAME].unique():\n",
        "        print(f\"Analisando variável: {variable}\")\n",
        "        variable_df = RegressionDF[RegressionDF[GROUP_COL_NAME] == variable].copy()\n",
        "        diagnostics = run_pre_intervention_diagnostics(\n",
        "            data=variable_df,\n",
        "            date_col=DATE_NAME,\n",
        "            dependent_var=DEPENDENT_VAR,\n",
        "            intervention_start_date=PANDEMIA_START_DATE\n",
        "        )\n",
        "        diagnostics['Variable'] = variable  # Adicionar o nome da variável ao resultado\n",
        "        diagnostics_results.append(diagnostics)\n",
        "    \n",
        "    # Criar um DataFrame com os resultados\n",
        "    diagnostics_df = pd.DataFrame(diagnostics_results)\n",
        "    diagnostics_df.set_index('Variable', inplace=True)\n",
        "    \n",
        "    # Exibir o DataFrame\n",
        "    diagnostics_df\n",
        "except:\n",
        "    print(\"could not do pre-intervention diagnostic\")"
      ]
    },
    {
      "cell_type": "markdown",
      "metadata": {
        "id": "_lLzpByrMa6g"
      },
      "source": [
        "# Media movel "
      ]
    },
    {
      "cell_type": "code",
      "execution_count": 2363,
      "metadata": {
        "colab": {
          "base_uri": "https://localhost:8080/",
          "height": 1000
        },
        "id": "-DDe_bMWNIXb",
        "outputId": "3cca2b7a-d7ce-4e0a-abb7-4b6a9cb36edd"
      },
      "outputs": [],
      "source": [
        "import matplotlib.pyplot as plt\n",
        "\n",
        "\n",
        "\n",
        "moving_avg_pipe = Pipeline([\n",
        "    ('moving_average', MovingAverageTransformer(window=MOVING_WINDOW, prefix='ma', center=True)),\n",
        "    ]\n",
        "    )\n",
        "\n",
        "def plot_moving_average(df, column, ma_column=None, title='Moving Average Plot', date_column='date'):\n",
        "    \"\"\"\n",
        "    Plota a série temporal original junto com a média móvel.\n",
        "\n",
        "    df: DataFrame contendo os dados\n",
        "    column: nome da coluna original\n",
        "    ma_column: nome da coluna da média móvel (se None, assume padrão de 'ma_{window}_{column}')\n",
        "    title: título do gráfico\n",
        "    date_column: nome da coluna de data\n",
        "    \"\"\"\n",
        "    if ma_column is None:\n",
        "        ma_column = [col for col in df.columns if col.startswith('ma_') and col.endswith(column)]\n",
        "        if ma_column:\n",
        "            ma_column = ma_column[0]\n",
        "        else:\n",
        "            raise ValueError(\"Média móvel não encontrada. Verifique o nome da coluna.\")\n",
        "\n",
        "    df[date_column] = pd.to_datetime(df[date_column])  # Ensure datetime format\n",
        "\n",
        "    plt.figure(figsize=(12, 5))\n",
        "    plt.plot(df[date_column], df[column], label='Original', color='lightgray')\n",
        "    plt.plot(df[date_column], df[ma_column], label=f'{ma_column}', color='blue')\n",
        "    plt.title(title)\n",
        "    plt.xlabel('Data')\n",
        "    plt.ylabel(column)\n",
        "    plt.legend()\n",
        "    plt.grid(True)\n",
        "    plt.tight_layout()\n",
        "    plt.show()\n",
        "\n",
        "if PLOT_MEDIA_MOVEL:\n",
        "    for var in RegressionDF[GROUP_COL_NAME].unique():\n",
        "        var_df = RegressionDF[RegressionDF[GROUP_COL_NAME] == var]\n",
        "        #var_df = var_df.sort_values(by = INDEPENDENT_VAR, ascending=False)\n",
        "        #print(var_df)\n",
        "        #var_df = moving_avg_pipe.fit_transform(var_df)\n",
        "\n",
        "\n",
        "        plot_moving_average(var_df, column=DEPENDENT_VAR, ma_column=f'ma_{MOVING_WINDOW}_{DEPENDENT_VAR}', title=f'Moving Average Plot for {var}')\n",
        "\n"
      ]
    },
    {
      "cell_type": "markdown",
      "metadata": {
        "id": "NPO_tituNIXb"
      },
      "source": [
        "# Get Period Date Map and Dummies Period Indexes"
      ]
    },
    {
      "cell_type": "code",
      "execution_count": 2364,
      "metadata": {},
      "outputs": [],
      "source": [
        "PERIOD_DATE_MAP = pipe.named_steps['period_index_adder'].period_date_mapping"
      ]
    },
    {
      "cell_type": "code",
      "execution_count": 2365,
      "metadata": {},
      "outputs": [],
      "source": [
        "def find_idx_from_date(target_date, args, period_date_map=PERIOD_DATE_MAP):\n",
        "    \"\"\"\n",
        "    Finds the 'periodo' (index) corresponding to a given datetime in the PERIOD_DATE_MAP.\n",
        "\n",
        "    Args:\n",
        "        target_date (str or datetime): The target date to search for (e.g., '2020-01-01').\n",
        "        period_date_map (dict): The PERIOD_DATE_MAP containing period-to-date mappings.\n",
        "\n",
        "    Returns:\n",
        "        int: The 'periodo' (index) corresponding to the target date, or None if not found.\n",
        "    \"\"\"\n",
        "    # Ensure the target_date is a datetime object and normalize to quarter-end\n",
        "    if isinstance(target_date, str):\n",
        "        target_date = pd.to_datetime(target_date)\n",
        "    if args['FrequencyDateGroup'] == 'Q' or args['FrequencyDateGroup'] == 'QE':\n",
        "        target_date = target_date + pd.offsets.QuarterEnd(0)\n",
        "\n",
        "    # Iterate through the PERIOD_DATE_MAP to find the matching period\n",
        "    for date, period in period_date_map.items():\n",
        "        if isinstance(date, str):\n",
        "            date = pd.to_datetime(date)\n",
        "        if args['FrequencyDateGroup'] == 'Q' or args['FrequencyDateGroup'] == 'QE':\n",
        "            date = date + pd.offsets.QuarterEnd(0) # Normalize to quarter-end\n",
        "        if date == target_date:\n",
        "            return period - 1\n",
        "\n",
        "    return None\n",
        "\n",
        "\n",
        "def find_date_from_idx(target_idx, args, period_date_map=PERIOD_DATE_MAP):\n",
        "    \"\"\"\n",
        "    Finds the date corresponding to a given 'periodo' (index) in the PERIOD_DATE_MAP.\n",
        "\n",
        "    Args:\n",
        "        target_idx (int): The target index to search for (e.g., 1, 2, 3).\n",
        "        period_date_map (dict): The PERIOD_DATE_MAP containing period-to-date mappings.\n",
        "\n",
        "    Returns:\n",
        "        datetime or None: The date corresponding to the target index, or None if not found.\n",
        "    \"\"\"\n",
        "    # Iterate through the PERIOD_DATE_MAP to find the matching index\n",
        "    for date, period in period_date_map.items():\n",
        "        if period == target_idx:\n",
        "            date = pd.to_datetime(date) if isinstance(date, str) else date\n",
        "            date = date + pd.offsets.QuarterEnd(0) if args['FrequencyDateGroup'] == 'Q' or args['FrequencyDateGroup'] == 'QE' else date\n",
        "            return date\n",
        "    return None"
      ]
    },
    {
      "cell_type": "code",
      "execution_count": 2366,
      "metadata": {},
      "outputs": [
        {
          "name": "stdout",
          "output_type": "stream",
          "text": [
            "Pandemia_Step {'start_date': '2020-04-01', 'end_date': '2022-03-01', 'exclude_ranges': []}\n",
            "Pandemia_Trend {'start_date': '2020-04-01', 'end_date': '2022-03-01', 'exclude_ranges': [], 'add_time_trend': True, 'keep_period_index': False}\n"
          ]
        },
        {
          "data": {
            "text/plain": [
              "{'Pandemia_Step': {'start_index': 51, 'end_index': 74},\n",
              " 'Pandemia_Trend': {'start_index': 51, 'end_index': 74}}"
            ]
          },
          "execution_count": 2366,
          "metadata": {},
          "output_type": "execute_result"
        }
      ],
      "source": [
        "DummyIndexes = {}\n",
        "\n",
        "# Iterate over DUMMY_ARGS to calculate and store indexes\n",
        "for dummy_name, config in DUMMY_ARGS.items():\n",
        "    start_date = config.get(\"start_date\")\n",
        "    end_date = config.get(\"end_date\")\n",
        "\n",
        "    print(dummy_name, config)\n",
        "    # Calculate indexes using find_idx_from_date\n",
        "    start_idx = find_idx_from_date(start_date, PREPROCESSOR_ARGS, PERIOD_DATE_MAP) if start_date else None\n",
        "    end_idx = find_idx_from_date(end_date, PREPROCESSOR_ARGS, PERIOD_DATE_MAP) if end_date else None\n",
        "\n",
        "    # Store the indexes in the table\n",
        "    DummyIndexes[dummy_name] = {\n",
        "        \"start_index\": start_idx,\n",
        "        \"end_index\": end_idx\n",
        "    }\n",
        "DummyIndexes"
      ]
    },
    {
      "cell_type": "markdown",
      "metadata": {
        "id": "r5VoKUSkNIXc"
      },
      "source": [
        "# OLD TRASH Exploration\n"
      ]
    },
    {
      "cell_type": "code",
      "execution_count": 2367,
      "metadata": {
        "colab": {
          "base_uri": "https://localhost:8080/"
        },
        "id": "FrrmqovhNIXc",
        "outputId": "cf6e41a5-4664-4203-b687-0b34fc159bc6"
      },
      "outputs": [],
      "source": [
        "from statsmodels.api import OLS\n",
        "from statsmodels.tools.tools import add_constant\n",
        "import pandas as pd\n",
        "from scipy.stats import f\n",
        "main_regrdf = RegressionDF.copy()\n",
        "def chow_test(data, split_point, dependent_var, independent_vars):\n",
        "    \"\"\"\n",
        "    Realiza o teste de Chow para verificar mudanças estruturais em um modelo de regressão.\n",
        "\n",
        "    Args:\n",
        "        data (pd.DataFrame): DataFrame contendo os dados.\n",
        "        split_point (int): Ponto de divisão para o teste de Chow.\n",
        "        dependent_var (str): Nome da variável dependente.\n",
        "        independent_vars (list): Lista de nomes das variáveis independentes.\n",
        "\n",
        "    Returns:\n",
        "        dict: Resultados do teste de Chow contendo os valores F e p.\n",
        "    \"\"\"\n",
        "    # Dividir os dados em dois subconjuntos\n",
        "    data1 = data[data['periodo'] <= split_point]\n",
        "    data2 = data[data['periodo'] > split_point]\n",
        "\n",
        "    # Ajustar os modelos para cada subconjunto\n",
        "    X1 = add_constant(data1[independent_vars])\n",
        "    y1 = data1[dependent_var]\n",
        "    model1 = OLS(y1, X1).fit()\n",
        "\n",
        "    X2 = add_constant(data2[independent_vars])\n",
        "    y2 = data2[dependent_var]\n",
        "    model2 = OLS(y2, X2).fit()\n",
        "\n",
        "    # Ajustar o modelo para o conjunto completo\n",
        "    X_full = add_constant(data[independent_vars])\n",
        "    y_full = data[dependent_var]\n",
        "    model_full = OLS(y_full, X_full).fit()\n",
        "\n",
        "    # Calcular os graus de liberdade\n",
        "    k = len(independent_vars) + 1  # Número de parâmetros (incluindo o intercepto)\n",
        "    n1 = len(data1)\n",
        "    n2 = len(data2)\n",
        "    n = n1 + n2\n",
        "\n",
        "    # Calcular a soma dos quadrados dos resíduos\n",
        "    RSS1 = model1.ssr\n",
        "    RSS2 = model2.ssr\n",
        "    RSS_full = model_full.ssr\n",
        "\n",
        "    # Calcular o valor F\n",
        "    F = ((RSS_full - (RSS1 + RSS2)) / k) / ((RSS1 + RSS2) / (n - 2 * k))\n",
        "\n",
        "    # Calcular o p-valor\n",
        "    p_value = 1 - f.cdf(F, k, n - 2 * k)\n",
        "\n",
        "    return {\"F-statistic\": F, \"p-value\": p_value}\n",
        "\n",
        "\n",
        "if False:\n",
        "    chow_results = {}\n",
        "    split_point = find_idx_from_date(POS_PANDEMIA_START_DATE, PREPROCESSOR_ARGS)  # Exemplo: ponto de divisão para o teste de Chow\n",
        "    dependent_var = DEPENDENT_VAR\n",
        "    independent_vars = [INDEPENDENT_VAR] #+ [key for key in DUMMY_ARGS.keys()]\n",
        "    for variable in main_regrdf[GROUP_COL_NAME].unique():\n",
        "        variable_data = main_regrdf[main_regrdf[GROUP_COL_NAME] == variable]\n",
        "        result = chow_test(variable_data, split_point, dependent_var, independent_vars)\n",
        "        chow_results[variable] = result\n",
        "    # Converter os resultados em um DataFrame para visualização\n",
        "    chow_results_df = pd.DataFrame(chow_results).T\n",
        "    chow_results_df.columns = [\"F-statistic\", \"p-value\"]\n",
        "    chow_results_df['p-value'] = chow_results_df['p-value'].round(8)\n",
        "    print(chow_results_df)"
      ]
    },
    {
      "cell_type": "code",
      "execution_count": 2368,
      "metadata": {
        "colab": {
          "base_uri": "https://localhost:8080/"
        },
        "id": "lyS4l0t8NIXc",
        "outputId": "87c30dda-28b3-48d9-8f50-7f23fa6ec0f4"
      },
      "outputs": [
        {
          "name": "stdout",
          "output_type": "stream",
          "text": [
            "[  1.          64.00000011 108.        ]\n",
            "2016-01-01 00:00:00\n",
            "2021-04-01 00:00:00\n",
            "2024-12-01 00:00:00\n"
          ]
        }
      ],
      "source": [
        "### TODO: make the knots per variable\n",
        "### TODO: remove the bumps/step_dummies before testing\n",
        "\n",
        "pwmodel = pwlf.PiecewiseLinFit(main_regrdf[INDEPENDENT_VAR].values,main_regrdf[DEPENDENT_VAR].values)\n",
        "knots = pwmodel.fit(2)\n",
        "print(knots)\n",
        "for knot in knots:\n",
        "    print(find_date_from_idx(np.round(knot), PREPROCESSOR_ARGS, PERIOD_DATE_MAP))"
      ]
    },
    {
      "cell_type": "code",
      "execution_count": 2369,
      "metadata": {
        "colab": {
          "base_uri": "https://localhost:8080/",
          "height": 651
        },
        "id": "WJ_UKYslNIXc",
        "outputId": "ad4e0f72-aee3-43a3-e425-f46be70f892b"
      },
      "outputs": [
        {
          "name": "stdout",
          "output_type": "stream",
          "text": [
            "              Heteroscedasticity (Breusch-Pagan)  Normality (Shapiro-Wilk)  \\\n",
            "Brasil                                  0.000017                  0.458731   \n",
            "centro_oeste                            0.000036                  0.385246   \n",
            "nordeste                                0.000026                  0.024531   \n",
            "norte                                   0.000011                  0.110123   \n",
            "sudeste                                 0.000353                  0.611842   \n",
            "sul                                     0.000466                  0.684572   \n",
            "\n",
            "              Normality (Jarque-Bera)  Normality (D'Agostino)  \\\n",
            "Brasil                       0.948275                0.948248   \n",
            "centro_oeste                 0.345265                0.276026   \n",
            "nordeste                     0.196049                0.179369   \n",
            "norte                        0.216028                0.171787   \n",
            "sudeste                      0.570775                0.441276   \n",
            "sul                          0.980825                0.963879   \n",
            "\n",
            "              Autocorrelation (Durbin-Watson)  Autocorrelation (Ljung-Box)  \n",
            "Brasil                               0.768203                 1.882969e-33  \n",
            "centro_oeste                         1.009153                 1.365627e-11  \n",
            "nordeste                             0.639058                 2.885119e-58  \n",
            "norte                                0.440951                 3.852605e-67  \n",
            "sudeste                              0.841119                 3.012149e-21  \n",
            "sul                                  0.780821                 2.938326e-29  \n"
          ]
        }
      ],
      "source": [
        "import pandas as pd\n",
        "import numpy as np\n",
        "from statsmodels.stats.diagnostic import het_breuschpagan, acorr_ljungbox\n",
        "from statsmodels.stats.stattools import durbin_watson\n",
        "from scipy.stats import shapiro, normaltest, jarque_bera\n",
        "import statsmodels.api as sm\n",
        "\n",
        "def analyze_time_series(df: pd.DataFrame, variable_col: str, date_col: str, value_col: str):\n",
        "    \"\"\"\n",
        "    Analyzes a melted DataFrame for heteroscedasticity, distribution, and autocorrelation.\n",
        "\n",
        "    Parameters:\n",
        "        df (pd.DataFrame): Melted DataFrame with columns for variable, date, and value.\n",
        "        variable_col (str): Column name for the variable identifier.\n",
        "        date_col (str): Column name for the date.\n",
        "        value_col (str): Column name for the value.\n",
        "\n",
        "    Returns:\n",
        "        dict: A dictionary with analysis results for each variable.\n",
        "    \"\"\"\n",
        "    results = {}\n",
        "\n",
        "    for variable in df[variable_col].unique():\n",
        "        # Filter data for the current variable\n",
        "        variable_data = df[df[variable_col] == variable].sort_values(by=date_col)\n",
        "        y = variable_data[value_col].values\n",
        "        x = np.arange(len(y))  # Time index as independent variable\n",
        "\n",
        "        # Add constant for regression\n",
        "        X = sm.add_constant(x)\n",
        "\n",
        "        # Fit OLS model\n",
        "        model = sm.OLS(y, X).fit()\n",
        "\n",
        "        # Heteroscedasticity tests\n",
        "        bp_test = het_breuschpagan(model.resid, X)\n",
        "        bp_pvalue = bp_test[1]\n",
        "\n",
        "        # Normality tests\n",
        "        shapiro_test = shapiro(model.resid)\n",
        "        shapiro_pvalue = shapiro_test.pvalue\n",
        "\n",
        "        jb_test = jarque_bera(model.resid)\n",
        "        jb_pvalue = jb_test[1]\n",
        "\n",
        "        dagostino_test = normaltest(model.resid)\n",
        "        dagostino_pvalue = dagostino_test.pvalue\n",
        "\n",
        "        # Autocorrelation tests\n",
        "        dw_stat = durbin_watson(model.resid)\n",
        "        ljungbox_test = acorr_ljungbox(model.resid, lags=[10], return_df=True)\n",
        "        ljungbox_pvalue = ljungbox_test['lb_pvalue'].iloc[0]\n",
        "\n",
        "        # Store results\n",
        "        results[variable] = {\n",
        "            \"Heteroscedasticity (Breusch-Pagan)\": bp_pvalue,\n",
        "            \"Normality (Shapiro-Wilk)\": shapiro_pvalue,\n",
        "            \"Normality (Jarque-Bera)\": jb_pvalue,\n",
        "            \"Normality (D'Agostino)\": dagostino_pvalue,\n",
        "            \"Autocorrelation (Durbin-Watson)\": dw_stat,\n",
        "            \"Autocorrelation (Ljung-Box)\": ljungbox_pvalue,\n",
        "        }\n",
        "\n",
        "    return results\n",
        "\n",
        "explorationresults = analyze_time_series(main_regrdf, GROUP_COL_NAME, DATE_NAME, DEPENDENT_VAR)\n",
        "explorationresultsDF = pd.DataFrame(explorationresults).T\n",
        "print(explorationresultsDF)"
      ]
    },
    {
      "cell_type": "markdown",
      "metadata": {
        "id": "K8HZg-VlNIXd"
      },
      "source": [
        "# Define Exporter"
      ]
    },
    {
      "cell_type": "code",
      "execution_count": 2370,
      "metadata": {
        "id": "BF1tmE8pNIXd"
      },
      "outputs": [],
      "source": [
        "def export_results(results, output_path, processor_args, preprocessor_args, output_gsheet = None):\n",
        "    \"\"\"\n",
        "    Exports the regression results and metadata to an Excel file.\n",
        "\n",
        "    Args:\n",
        "        results (dict): Dictionary containing regression results.\n",
        "        output_path (str): Path to the output Excel file.\n",
        "        processor_args (dict): Dictionary containing processor arguments.\n",
        "        preprocessor_args (dict): Dictionary containing preprocessor arguments.\n",
        "    \"\"\"\n",
        "    def extract_durbin_watson_from_summary(result):\n",
        "        summary_text = result.summary().as_text()\n",
        "        for line in summary_text.split('\\n'):\n",
        "            if \"Durbin-Watson\" in line:\n",
        "                return float(line.split()[-1])  # Extract the last value in the line\n",
        "        return None  # Return None if not found\n",
        "\n",
        "\n",
        "    def try_create_worksheet(output_gsheet, title: str) -> None:\n",
        "        if output_gsheet:\n",
        "            try:\n",
        "                output_gsheet.worksheet(title)\n",
        "            except gspread.exceptions.WorksheetNotFound:\n",
        "                output_gsheet.add_worksheet(title=title, rows=\"100\", cols=\"20\")\n",
        "\n",
        "\n",
        "    stats_data = []\n",
        "    coefficients_data = []\n",
        "\n",
        "    for variable, result in results.items():\n",
        "        # Extract coefficients\n",
        "        coefficients = result.params\n",
        "        coef_row = {\"Variable\": variable}\n",
        "        for coef_name, coef_value in coefficients.items():\n",
        "            coef_row[f\"{coef_name}__Value\"] = round(coef_value, 7)\n",
        "            coef_row[f\"{coef_name}__Value_%_intercept\"] = coef_value/result.params['Intercept']*100\n",
        "            coef_row[f\"{coef_name}__P-Value\"] = round(result.pvalues.get(coef_name, np.nan), 7)\n",
        "            coef_row[f\"{coef_name}__Std Err\"] = round(result.bse.get(coef_name, np.nan), 7)\n",
        "            coef_row[f\"{coef_name}__Significant\"] = result.pvalues.get(coef_name, np.nan) < 0.05  # At 5% significance\n",
        "        coefficients_data.append(coef_row)\n",
        "\n",
        "        # Extract other statistics\n",
        "        stats_data.append({\n",
        "            \"Variable\": variable,\n",
        "            \"R-Squared\": round(result.rsquared, 7),\n",
        "            \"Adjusted R-Squared\": round(result.rsquared_adj, 7),\n",
        "            \"Durbin-Watson\": round(extract_durbin_watson_from_summary(result), 7),\n",
        "            \"AIC\": round(result.aic, 7),\n",
        "            \"BIC\": round(result.bic, 7),\n",
        "            \"Number of Observations\": result.nobs,\n",
        "            \"F-Value\": round(result.fvalue, 7) if result.fvalue is not None else np.nan,\n",
        "            \"F P-Value\": round(result.f_pvalue, 7) if result.f_pvalue is not None else np.nan,\n",
        "            \"Log-Likelihood\": round(result.llf, 7),\n",
        "            \"Condition Number\": round(result.condition_number, 7) if result.condition_number is not None else np.nan\n",
        "        })\n",
        "\n",
        "    # Convert to DataFrames\n",
        "    coefficients_df = pd.DataFrame(coefficients_data).set_index(\"Variable\")\n",
        "    stats_df = pd.DataFrame(stats_data).set_index(\"Variable\")\n",
        "\n",
        "    # Prepare metadata\n",
        "    metadata = {\n",
        "        \"Processor Args\": [str(processor_args)],\n",
        "        \"Preprocessor Args\": [str(preprocessor_args)]\n",
        "    }\n",
        "    metadata_df = pd.DataFrame(metadata)\n",
        "\n",
        "    # Write to gsheet\n",
        "    if output_gsheet is not None:\n",
        "        for title, clean_df, include_index in [\n",
        "            (\"Coefficients\", coefficients_df, True),\n",
        "            (\"Statistics\", stats_df, True),\n",
        "            (\"Metadata\", metadata_df, False)\n",
        "        ]:\n",
        "            try_create_worksheet(title=title, output_gsheet=output_gsheet)\n",
        "            ws = output_gsheet.worksheet(title)\n",
        "            ws.clear()\n",
        "            set_with_dataframe(ws, clean_df, include_index=include_index)\n",
        "    # Write to Excel\n",
        "    else:\n",
        "       file_exists = os.path.exists(output_path)\n",
        "\n",
        "               # Attempt to open file and catch PermissionError if the file is open elsewhere\n",
        "       if file_exists:\n",
        "           while True:\n",
        "               try:\n",
        "                   with pd.ExcelWriter(output_path) as writer:\n",
        "                       # Write coefficients to one sheet\n",
        "                       coefficients_df.to_excel(writer, sheet_name=\"Coefficients\")\n",
        "\n",
        "                       # Write other stats to another sheet\n",
        "                       stats_df.to_excel(writer, sheet_name=\"Statistics\")\n",
        "\n",
        "                       # Write metadata to another sheet\n",
        "                       metadata_df.to_excel(writer, sheet_name=\"Metadata\", index=False)\n",
        "                   # Load the workbook to apply formatting\n",
        "                   workbook = load_workbook(output_path)\n",
        "                   if \"Residuals\" not in workbook.sheetnames:\n",
        "                       workbook.create_sheet(\"Residuals\")\n",
        "                       residuals_sheet = workbook[\"Residuals\"]\n",
        "\n",
        "                   # Plot residuals for each variable and add them to the Residuals sheet\n",
        "                   for idx, (variable, result) in enumerate(results.items(), start=1):\n",
        "                       # Create a plot of residuals\n",
        "                       plt.figure(figsize=(6, 4))\n",
        "                       plt.scatter(range(len(result.resid)), result.resid, alpha=0.7)\n",
        "                       plt.axhline(0, color=\"red\", linestyle=\"--\", linewidth=1)\n",
        "                       plt.title(f\"Residuals for {variable}\")\n",
        "                       plt.xlabel(\"Observation\")\n",
        "                       plt.ylabel(\"Residuals\")\n",
        "                       plt.tight_layout()\n",
        "\n",
        "                       # Save the plot to a BytesIO object\n",
        "                       img_data = BytesIO()\n",
        "                       plt.savefig(img_data, format=\"png\")\n",
        "                       plt.close()\n",
        "                       img_data.seek(0)\n",
        "\n",
        "                       # Add the image to the Excel sheet\n",
        "                       img = Image(img_data)\n",
        "                       img.anchor = f\"A{idx * 20}\"  # Adjust the position of the image\n",
        "                       residuals_sheet.add_image(img)\n",
        "\n",
        "                   for sheet_name in [\"Coefficients\", \"Statistics\", \"Metadata\"]:\n",
        "                       if sheet_name in workbook.sheetnames:\n",
        "                           sheet = workbook[sheet_name]\n",
        "\n",
        "                           # Enable text wrapping and adjust row heights\n",
        "                           for row in sheet.iter_rows():\n",
        "                               for cell in row:\n",
        "                                   cell.alignment = Alignment(wrap_text=True)  # Enable text wrapping\n",
        "                               # Adjust row height\n",
        "                               sheet.row_dimensions[row[0].row].height = 25  # Set row height to 25 (adjust as needed)\n",
        "\n",
        "                   # Save the formatted workbook\n",
        "                   workbook.save(output_path)\n",
        "                   break  # Exit the loop if writing succeeds\n",
        "               except PermissionError:\n",
        "                   #logger.warning(f\"File '{output_path}' is currently open. Please close the file and press Enter to try again.\")\n",
        "                   input(\"Press Enter after closing the file...\")\n",
        "                   time.sleep(5)  # Optional: wait before retrying\n"
      ]
    },
    {
      "cell_type": "markdown",
      "metadata": {},
      "source": [
        "# Def LRT test"
      ]
    },
    {
      "cell_type": "code",
      "execution_count": 2371,
      "metadata": {},
      "outputs": [],
      "source": [
        "def run_lrt_nbglm(\n",
        "    df, \n",
        "    full_predictors, \n",
        "    reduced_predictors,\n",
        "    outcome_var= DEPENDENT_VAR, \n",
        "    offset_var = RAW_TOTAL_ATD_VAR, \n",
        "    fit_args = {},\n",
        "\n",
        "):\n",
        "    \"\"\"\n",
        "    Perform Likelihood Ratio Test between full and reduced Negative Binomial GLMs with offset.\n",
        "\n",
        "    Parameters:\n",
        "    - df (pd.DataFrame): Input dataframe.\n",
        "    - outcome_var (str): Column name of the outcome variable (counts).\n",
        "    - offset_var (str): Column name used to compute offset (e.g., total visits).\n",
        "    - full_predictors (list of str): Predictor column names for full model.\n",
        "    - reduced_predictors (list of str): Predictor column names for reduced model.\n",
        "\n",
        "    Returns:\n",
        "    - dict with keys: 'lrt_stat', 'df_diff', 'p_value', 'LL_full', 'LL_reduced'\n",
        "    \"\"\"\n",
        "\n",
        "    # Outcome and offset\n",
        "    y = df[outcome_var]\n",
        "    offset = np.log(df[offset_var] / 1000)\n",
        "\n",
        "    # Full model\n",
        "    X_full = sm.add_constant(df[full_predictors])\n",
        "    model_full = sm.GLM(y, X_full, family=sm.families.NegativeBinomial(alpha = 1.0), offset=offset)\n",
        "    result_full = model_full.fit(**fit_args)\n",
        "\n",
        "    # Reduced model\n",
        "    X_reduced = sm.add_constant(df[reduced_predictors])\n",
        "    model_reduced = sm.GLM(y, X_reduced, family=sm.families.NegativeBinomial(alpha = 1.0), offset=offset)\n",
        "    result_reduced = model_reduced.fit(**fit_args)\n",
        "\n",
        "    # Likelihood ratio test\n",
        "    ################################### é isso q importa, fazer uma formula q compara modelos\n",
        "    LL_full = result_full.llf\n",
        "    LL_reduced = result_reduced.llf\n",
        "    df_diff = result_full.df_model - result_reduced.df_model\n",
        "    LRT_stat = 2 * (LL_full - LL_reduced)\n",
        "    p_value = chi2.sf(LRT_stat, df_diff)\n",
        "\n",
        "    return {\n",
        "        'lrt_stat': LRT_stat,\n",
        "        'df_diff': df_diff,\n",
        "        'p_value': p_value,\n",
        "        'LL_full': LL_full,\n",
        "        'LL_reduced': LL_reduced\n",
        "    }"
      ]
    },
    {
      "cell_type": "markdown",
      "metadata": {},
      "source": [
        "# Define Group Iterator"
      ]
    },
    {
      "cell_type": "code",
      "execution_count": 2372,
      "metadata": {},
      "outputs": [],
      "source": [
        "def find_best_Rho(processor_class, variable_data, variable_processor_args, fit_args):\n",
        "            best_rho = 1.0\n",
        "            best_criterion_value = np.inf\n",
        "            test_variable_processor_args = copy.deepcopy(variable_processor_args)\n",
        "            test_variable_processor_args['rho'] = None  # Set rho to None for testing\n",
        "            result = None\n",
        "\n",
        "            for rho in np.arange(\n",
        "                FIND_BEST_RHO_ARGS['start'],\n",
        "                FIND_BEST_RHO_ARGS['stop'],\n",
        "                FIND_BEST_RHO_ARGS['step']\n",
        "            ):\n",
        "                test_variable_processor_args['rho'] = rho\n",
        "                test_processor = processor_class(data=variable_data, **test_variable_processor_args)\n",
        "                if hasattr(test_processor, \"iterative_fit\"):\n",
        "                    test_results = test_processor.iterative_fit(**fit_args)\n",
        "                else:\n",
        "                    test_results = test_processor.fit(**fit_args)\n",
        "                test_results = test_processor.iterative_fit(**fit_args)\n",
        "                criterion_value = getattr(test_results, FIND_BEST_RHO_ARGS['criterio'])\n",
        "                if criterion_value < best_criterion_value:\n",
        "                    best_criterion_value = criterion_value\n",
        "                    best_rho = rho\n",
        "                    result = test_results\n",
        "            return result\n",
        "            "
      ]
    },
    {
      "cell_type": "code",
      "execution_count": 2373,
      "metadata": {},
      "outputs": [],
      "source": [
        "def process_groups_with_processor(dataframe, group_col, date_col, processor_class, processor_args):\n",
        "    \"\"\"\n",
        "    Processes variables in a DataFrame using a specified processor class and arguments.\n",
        "\n",
        "    Args:\n",
        "        dataframe (pd.DataFrame): The input DataFrame containing the data.\n",
        "        group_col (str): The column name used to group the data.\n",
        "        date_col (str): The column name containing the date information.\n",
        "        processor_class (class): The processor class to be used (e.g., GEEProcessor).\n",
        "        processor_args (dict): Arguments to be passed to the processor class.\n",
        "        max_iter (int): Maximum number of iterations for the processor's fit method.\n",
        "\n",
        "    Returns:\n",
        "        dict: A dictionary containing the results for each variable.\n",
        "    \"\"\"\n",
        "\n",
        "\n",
        "    results = {}\n",
        "    for variable in dataframe[group_col].unique():\n",
        "        variable_data = dataframe[dataframe[group_col] == variable].sort_values(by=date_col)\n",
        "        variable_data = variable_data.reset_index(drop=True)\n",
        "        variable_processor_args = copy.deepcopy(processor_args)\n",
        "        fit_args = {}\n",
        "        if 'fit_args' in variable_processor_args:\n",
        "            fit_args = variable_processor_args['fit_args']\n",
        "            del variable_processor_args['fit_args']\n",
        "\n",
        "        #print(variable_processor_args)\n",
        "        quasi_likelihood = None\n",
        "        if 'quasi_likelihood' in variable_processor_args:\n",
        "            quasi_likelihood = variable_processor_args['quasi_likelihood']\n",
        "            del variable_processor_args['quasi_likelihood']\n",
        "\n",
        "        if 'groups' in variable_processor_args and variable_processor_args['groups'] == 'define per variable':\n",
        "            variable_processor_args['groups'] = np.arange(len(variable_data))\n",
        "\n",
        "        if 'offset' in variable_processor_args and variable_processor_args['offset'] == 'define per variable':\n",
        "            variable_processor_args['offset'] = variable_data['offset']\n",
        "\n",
        "        if 'rho' in variable_processor_args and variable_processor_args['rho'] == 'define per variable':\n",
        "            result = find_best_Rho(processor_class, variable_data, variable_processor_args, fit_args=fit_args)\n",
        "        else:  \n",
        "            # Instantiate the processor with the provided arguments\n",
        "            processor = processor_class(data=variable_data, **variable_processor_args)\n",
        "            if hasattr(processor, \"iterative_fit\"):\n",
        "                result = processor.fit(**fit_args)\n",
        "            else:\n",
        "                result = processor.fit(**fit_args)\n",
        "            \n",
        "        if quasi_likelihood:\n",
        "            phi = result.pearson_chi2 / result.df_resid\n",
        "\n",
        "            var_weights = np.full_like(variable_data[DEPENDENT_VAR], fill_value=1/phi) \n",
        "            processor_qlh = processor_class(data=variable_data, **variable_processor_args, var_weights = var_weights)\n",
        "            result_qlh = processor_qlh.fit(**fit_args)\n",
        "            result = result_qlh\n",
        "            result.dispersion = phi\n",
        "        \n",
        "        # Store the results\n",
        "        results[variable] = result\n",
        "        \n",
        "        #full_predictors = ['periodo', 'Pandemia_Step', 'Pandemia_Trend', 'PosPandemia_Step', 'PosPandemia_Trend', 'cos1', 'sin1' ]\n",
        "        ## Reduced model excludes pandemic effects\n",
        "        #reduced_predictors = ['periodo', 'Pandemia_Step', 'Pandemia_Trend', 'PosPandemia_Step', 'PosPandemia_Trend']\n",
        "        #lrt_test = run_lrt_nbglm(\n",
        "        #    variable_data, \n",
        "        #    full_predictors, \n",
        "        #    reduced_predictors,\n",
        "        #    outcome_var= DEPENDENT_VAR, \n",
        "        #    offset_var = RAW_TOTAL_ATD_VAR, \n",
        "        #    fit_args = fit_args,\n",
        "#\n",
        "        #)\n",
        "        #lrt_df = pd.DataFrame([lrt_test])\n",
        "        #lrt_df.columns = ['LRT statistic', 'p-value', 'df difference']\n",
        "\n",
        "\n",
        "        # Print the summary\n",
        "        print(f\"Results for {variable}:\")\n",
        "        print(result.summary())\n",
        "        print(f\"Dispersion α: {result.scale:.4f}\") \n",
        "\n",
        "\n",
        "\n",
        "        # Display the LRT results\n",
        "        #print(\"======================== LRT TEST ========================\")\n",
        "        #print(lrt_test)\n",
        "        #print(pd.DataFrame.from_dict(lrt_test))\n",
        "        #print(lrt_df.to_string(index=False))\n",
        "    \n",
        "    return results"
      ]
    },
    {
      "cell_type": "markdown",
      "metadata": {
        "id": "053Sj2c1NIXe"
      },
      "source": [
        "# EXEC --- Instantiate Processor and Process/Export"
      ]
    },
    {
      "cell_type": "code",
      "execution_count": 2374,
      "metadata": {},
      "outputs": [
        {
          "name": "stdout",
          "output_type": "stream",
          "text": [
            "Results for Brasil:"
          ]
        },
        {
          "name": "stdout",
          "output_type": "stream",
          "text": [
            "\n",
            "                  Generalized Linear Model Regression Results                   \n",
            "================================================================================\n",
            "Dep. Variable:     mental_health_visits   No. Observations:                  108\n",
            "Model:                              GLM   Df Residuals:                      102\n",
            "Model Family:                   Poisson   Df Model:                            5\n",
            "Link Function:                      Log   Scale:                          1.0000\n",
            "Method:                            IRLS   Log-Likelihood:                -51.966\n",
            "Date:                  ter, 29 abr 2025   Deviance:                       103.14\n",
            "Time:                          00:05:19   Pearson chi2:                     102.\n",
            "No. Iterations:                       5   Pseudo R-squ. (CS):              1.000\n",
            "Covariance Type:                    HC1                                         \n",
            "==================================================================================\n",
            "                     coef    std err          z      P>|z|      [0.025      0.975]\n",
            "----------------------------------------------------------------------------------\n",
            "Intercept          2.5851      0.015    177.922      0.000       2.557       2.614\n",
            "periodo            0.0087      0.000     44.193      0.000       0.008       0.009\n",
            "Pandemia_Step      0.2278      0.030      7.578      0.000       0.169       0.287\n",
            "Pandemia_Trend    -0.0107      0.003     -4.074      0.000      -0.016      -0.006\n",
            "cos1              -0.0021      0.009     -0.249      0.803      -0.019       0.015\n",
            "sin1              -0.0121      0.009     -1.349      0.177      -0.030       0.005\n",
            "==================================================================================\n",
            "Dispersion α: 1.0000\n",
            "Results for centro_oeste:\n",
            "                  Generalized Linear Model Regression Results                   \n",
            "================================================================================\n",
            "Dep. Variable:     mental_health_visits   No. Observations:                  108\n",
            "Model:                              GLM   Df Residuals:                      102\n",
            "Model Family:                   Poisson   Df Model:                            5\n",
            "Link Function:                      Log   Scale:                          1.0000\n",
            "Method:                            IRLS   Log-Likelihood:                -54.084\n",
            "Date:                  ter, 29 abr 2025   Deviance:                       105.54\n",
            "Time:                          00:05:19   Pearson chi2:                     102.\n",
            "No. Iterations:                       5   Pseudo R-squ. (CS):             0.9416\n",
            "Covariance Type:                    HC1                                         \n",
            "==================================================================================\n",
            "                     coef    std err          z      P>|z|      [0.025      0.975]\n",
            "----------------------------------------------------------------------------------\n",
            "Intercept          2.7281      0.034     81.316      0.000       2.662       2.794\n",
            "periodo            0.0068      0.000     16.615      0.000       0.006       0.008\n",
            "Pandemia_Step      0.2012      0.046      4.361      0.000       0.111       0.292\n",
            "Pandemia_Trend    -0.0097      0.004     -2.461      0.014      -0.017      -0.002\n",
            "cos1              -0.0065      0.015     -0.443      0.658      -0.035       0.022\n",
            "sin1               0.0027      0.015      0.178      0.859      -0.027       0.032\n",
            "==================================================================================\n",
            "Dispersion α: 1.0000\n",
            "Results for nordeste:\n",
            "                  Generalized Linear Model Regression Results                   \n",
            "================================================================================\n",
            "Dep. Variable:     mental_health_visits   No. Observations:                  108\n",
            "Model:                              GLM   Df Residuals:                      102\n",
            "Model Family:                   Poisson   Df Model:                            5\n",
            "Link Function:                      Log   Scale:                          1.0000\n",
            "Method:                            IRLS   Log-Likelihood:                -52.503\n",
            "Date:                  ter, 29 abr 2025   Deviance:                       102.16\n",
            "Time:                          00:05:19   Pearson chi2:                     102.\n",
            "No. Iterations:                       5   Pseudo R-squ. (CS):              1.000\n",
            "Covariance Type:                    HC1                                         \n",
            "==================================================================================\n",
            "                     coef    std err          z      P>|z|      [0.025      0.975]\n",
            "----------------------------------------------------------------------------------\n",
            "Intercept          1.8086      0.018    102.741      0.000       1.774       1.843\n",
            "periodo            0.0167      0.000     66.499      0.000       0.016       0.017\n",
            "Pandemia_Step      0.2988      0.030      9.852      0.000       0.239       0.358\n",
            "Pandemia_Trend    -0.0128      0.002     -5.938      0.000      -0.017      -0.009\n",
            "cos1               0.0013      0.011      0.124      0.902      -0.020       0.023\n",
            "sin1              -0.0123      0.010     -1.197      0.231      -0.033       0.008\n",
            "==================================================================================\n",
            "Dispersion α: 1.0000\n",
            "Results for norte:\n",
            "                  Generalized Linear Model Regression Results                   \n",
            "================================================================================\n",
            "Dep. Variable:     mental_health_visits   No. Observations:                  108\n",
            "Model:                              GLM   Df Residuals:                      102\n",
            "Model Family:                   Poisson   Df Model:                            5\n",
            "Link Function:                      Log   Scale:                          1.0000\n",
            "Method:                            IRLS   Log-Likelihood:                -56.120\n",
            "Date:                  ter, 29 abr 2025   Deviance:                       102.19\n",
            "Time:                          00:05:19   Pearson chi2:                     102.\n",
            "No. Iterations:                       5   Pseudo R-squ. (CS):              1.000\n",
            "Covariance Type:                    HC1                                         \n",
            "==================================================================================\n",
            "                     coef    std err          z      P>|z|      [0.025      0.975]\n",
            "----------------------------------------------------------------------------------\n",
            "Intercept          1.7813      0.018     97.157      0.000       1.745       1.817\n",
            "periodo            0.0133      0.000     60.208      0.000       0.013       0.014\n",
            "Pandemia_Step      0.0290      0.056      0.518      0.604      -0.081       0.138\n",
            "Pandemia_Trend    -0.0047      0.004     -1.201      0.230      -0.012       0.003\n",
            "cos1              -0.0078      0.010     -0.781      0.435      -0.027       0.012\n",
            "sin1               0.0149      0.011      1.401      0.161      -0.006       0.036\n",
            "==================================================================================\n",
            "Dispersion α: 1.0000\n",
            "Results for sudeste:\n",
            "                  Generalized Linear Model Regression Results                   \n",
            "================================================================================\n",
            "Dep. Variable:     mental_health_visits   No. Observations:                  108\n",
            "Model:                              GLM   Df Residuals:                      102\n",
            "Model Family:                   Poisson   Df Model:                            5\n",
            "Link Function:                      Log   Scale:                          1.0000\n",
            "Method:                            IRLS   Log-Likelihood:                -52.783\n",
            "Date:                  ter, 29 abr 2025   Deviance:                       104.51\n",
            "Time:                          00:05:19   Pearson chi2:                     102.\n",
            "No. Iterations:                       5   Pseudo R-squ. (CS):             0.9998\n",
            "Covariance Type:                    HC1                                         \n",
            "==================================================================================\n",
            "                     coef    std err          z      P>|z|      [0.025      0.975]\n",
            "----------------------------------------------------------------------------------\n",
            "Intercept          2.6661      0.023    116.869      0.000       2.621       2.711\n",
            "periodo            0.0082      0.000     29.454      0.000       0.008       0.009\n",
            "Pandemia_Step      0.2660      0.028      9.380      0.000       0.210       0.322\n",
            "Pandemia_Trend    -0.0103      0.003     -3.831      0.000      -0.016      -0.005\n",
            "cos1              -0.0051      0.011     -0.471      0.637      -0.026       0.016\n",
            "sin1              -0.0019      0.010     -0.198      0.843      -0.021       0.017\n",
            "==================================================================================\n",
            "Dispersion α: 1.0000\n",
            "Results for sul:\n",
            "                  Generalized Linear Model Regression Results                   \n",
            "================================================================================\n",
            "Dep. Variable:     mental_health_visits   No. Observations:                  108\n",
            "Model:                              GLM   Df Residuals:                      102\n",
            "Model Family:                   Poisson   Df Model:                            5\n",
            "Link Function:                      Log   Scale:                          1.0000\n",
            "Method:                            IRLS   Log-Likelihood:                -53.482\n",
            "Date:                  ter, 29 abr 2025   Deviance:                       104.00\n",
            "Time:                          00:05:19   Pearson chi2:                     102.\n",
            "No. Iterations:                       4   Pseudo R-squ. (CS):             0.7476\n",
            "Covariance Type:                    HC1                                         \n",
            "==================================================================================\n",
            "                     coef    std err          z      P>|z|      [0.025      0.975]\n",
            "----------------------------------------------------------------------------------\n",
            "Intercept          3.1589      0.008    398.445      0.000       3.143       3.174\n",
            "periodo            0.0023      0.000     15.786      0.000       0.002       0.003\n",
            "Pandemia_Step      0.1608      0.031      5.224      0.000       0.101       0.221\n",
            "Pandemia_Trend    -0.0121      0.003     -4.215      0.000      -0.018      -0.006\n",
            "cos1               0.0004      0.010      0.041      0.968      -0.019       0.020\n",
            "sin1               0.0019      0.009      0.210      0.834      -0.016       0.020\n",
            "==================================================================================\n",
            "Dispersion α: 1.0000\n"
          ]
        }
      ],
      "source": [
        "### GEE processing\n",
        "\n",
        "\n",
        "\n",
        "if MODEL_DEF == 'GEE':\n",
        "    results = process_groups_with_processor(\n",
        "        dataframe=RegressionDF,\n",
        "        group_col=GROUP_COL_NAME,\n",
        "        date_col=DATE_NAME,\n",
        "        processor_class=GEE.from_formula,\n",
        "        processor_args=GEE_PROCESSOR_ARGS,\n",
        "\n",
        "    )\n",
        "elif MODEL_DEF == 'GLM':\n",
        "    results = process_groups_with_processor(\n",
        "        dataframe=RegressionDF,\n",
        "        group_col=GROUP_COL_NAME,\n",
        "        date_col=DATE_NAME,\n",
        "        processor_class=smf.glm,\n",
        "        processor_args=GLM_PROCESSOR_ARGS,\n",
        "\n",
        "    )\n",
        "\n",
        "\n",
        "elif MODEL_DEF == \"GLSAR\":\n",
        "    results = process_groups_with_processor(\n",
        "        dataframe=RegressionDF,\n",
        "        group_col=GROUP_COL_NAME,\n",
        "        date_col=DATE_NAME,\n",
        "        processor_class=smf.glsar,\n",
        "        processor_args=GLSAR_PROCESSOR_ARGS,\n",
        "    )\n",
        "else:\n",
        "    results = process_groups_with_processor(\n",
        "        dataframe=RegressionDF,\n",
        "        group_col=GROUP_COL_NAME,\n",
        "        date_col=DATE_NAME,\n",
        "        processor_class = smf.ols,\n",
        "        processor_args = OLS_PROCESSOR_ARGS,       \n",
        "    )\n"
      ]
    },
    {
      "cell_type": "markdown",
      "metadata": {},
      "source": [
        "# Diagnostico do Modelo"
      ]
    },
    {
      "cell_type": "code",
      "execution_count": 2375,
      "metadata": {},
      "outputs": [
        {
          "data": {
            "text/plain": [
              "'\\n# Exemplo de uso:\\n\\n\\nprint(diagnostics_df)\\n'"
            ]
          },
          "execution_count": 2375,
          "metadata": {},
          "output_type": "execute_result"
        }
      ],
      "source": [
        "def test_glsar_diagnostics(results, dataframe, group_col, dependent_var, independent_var):\n",
        "    diagnostics = {}\n",
        "\n",
        "    for variable, result in results.items():\n",
        "        # Filtrar os dados para a variável atual\n",
        "        variable_data = dataframe[dataframe[group_col] == variable].sort_values(by=DATE_NAME)\n",
        "        y = variable_data[dependent_var].values\n",
        "        X = variable_data[[independent_var]].values\n",
        "\n",
        "        # Heterocedasticidade (Breusch-Pagan)\n",
        "        # Acessar a matriz de covariáveis corretamente para GLSAR\n",
        "        exog = getattr(result.model.data, 'orig_exog', result.model.data.exog)\n",
        "        bp_test = het_breuschpagan(result.resid, exog)\n",
        "        bp_pvalue = bp_test[1]\n",
        "\n",
        "        # Autocorrelação (Durbin-Watson e Ljung-Box)\n",
        "        dw_stat = durbin_watson(result.resid)\n",
        "        ljungbox_test = acorr_ljungbox(result.resid, lags=[10], return_df=True)\n",
        "        ljungbox_pvalue = ljungbox_test['lb_pvalue'].iloc[0]\n",
        "\n",
        "\n",
        "\n",
        "        # Armazenar os resultados (sem overdispersion para GLSAR)\n",
        "        diagnostics[variable] = {\n",
        "            \"Heteroscedasticity (Breusch-Pagan)\": bp_pvalue,\n",
        "            \"Autocorrelation (Durbin-Watson)\": dw_stat,\n",
        "            \"Autocorrelation (Ljung-Box)\": ljungbox_pvalue\n",
        "        }\n",
        "\n",
        "    return pd.DataFrame(diagnostics).T\n",
        "'''\n",
        "# Exemplo de uso:\n",
        "\n",
        "\n",
        "print(diagnostics_df)\n",
        "'''"
      ]
    },
    {
      "cell_type": "code",
      "execution_count": 2376,
      "metadata": {},
      "outputs": [],
      "source": [
        "from statsmodels.stats.diagnostic import het_breuschpagan, acorr_ljungbox\n",
        "from statsmodels.stats.stattools import durbin_watson\n",
        "from scipy.stats import chi2\n",
        "\n",
        "#### GLM\n",
        "def test_model_diagnostics(results, dataframe, group_col, dependent_var, independent_var):\n",
        "    diagnostics = {}\n",
        "\n",
        "    for variable, result in results.items():\n",
        "        # Filtrar os dados para a variável atual\n",
        "        variable_data = dataframe[dataframe[group_col] == variable].sort_values(by=DATE_NAME)\n",
        "        y = variable_data[dependent_var].values\n",
        "        X = variable_data[[independent_var]].values\n",
        "\n",
        "        # Heterocedasticidade (Breusch-Pagan) - Usar resid_response\n",
        "        bp_test = het_breuschpagan(result.resid_response, result.model.exog)\n",
        "        bp_pvalue = bp_test[1]\n",
        "\n",
        "        # Overdispersão (Teste Qui-Quadrado) - Já usa resid_pearson corretamente\n",
        "        pearson_chi2 = sum((result.resid_pearson) ** 2)\n",
        "        overdispersion_pvalue = 1 - chi2.cdf(pearson_chi2, df=result.df_resid)\n",
        "\n",
        "        # Autocorrelação (Durbin-Watson e Ljung-Box) - Usar resid_response\n",
        "        dw_stat = durbin_watson(result.resid_response)\n",
        "        ljungbox_test = acorr_ljungbox(result.resid_response, lags=[10], return_df=True)\n",
        "        ljungbox_pvalue = ljungbox_test['lb_pvalue'].iloc[0]\n",
        "\n",
        "        irrs = np.exp(result.params)\n",
        "        conf_int = np.exp(result.conf_int())\n",
        "\n",
        "        plot_acf(result.resid_pearson, lags=12, title = f'Autocorrelation for: {variable}')\n",
        "        # Armazenar os resultados\n",
        "        diagnostics[variable] = {\n",
        "            \"Heteroscedasticity (Breusch-Pagan)\": bp_pvalue,\n",
        "            \"Overdispersion (Pearson Chi2)\": overdispersion_pvalue,\n",
        "            \"Autocorrelation (Durbin-Watson)\": dw_stat,\n",
        "            \"Autocorrelation (Ljung-Box)\": ljungbox_pvalue,\n",
        "            'IRR': irrs,\n",
        "            \"CI Lower\": conf_int[0], \"CI Upper\": conf_int[1]\n",
        "            \n",
        "        }\n",
        "\n",
        "    return pd.DataFrame(diagnostics)\n"
      ]
    },
    {
      "cell_type": "code",
      "execution_count": 2377,
      "metadata": {},
      "outputs": [
        {
          "data": {
            "application/vnd.microsoft.datawrangler.viewer.v0+json": {
              "columns": [
                {
                  "name": "index",
                  "rawType": "object",
                  "type": "string"
                },
                {
                  "name": "Brasil",
                  "rawType": "object",
                  "type": "unknown"
                },
                {
                  "name": "centro_oeste",
                  "rawType": "object",
                  "type": "unknown"
                },
                {
                  "name": "nordeste",
                  "rawType": "object",
                  "type": "unknown"
                },
                {
                  "name": "norte",
                  "rawType": "object",
                  "type": "unknown"
                },
                {
                  "name": "sudeste",
                  "rawType": "object",
                  "type": "unknown"
                },
                {
                  "name": "sul",
                  "rawType": "object",
                  "type": "unknown"
                }
              ],
              "conversionMethod": "pd.DataFrame",
              "ref": "4555c70f-0205-4d5b-a09d-425e10fd14d2",
              "rows": [
                [
                  "Heteroscedasticity (Breusch-Pagan)",
                  "0.0007334279014344528",
                  "0.024664970710838147",
                  "2.094422066991958e-05",
                  "0.008533164457182099",
                  "0.026691357106242226",
                  "0.0032170917218896753"
                ],
                [
                  "Overdispersion (Pearson Chi2)",
                  "0.48137702961367934",
                  "0.48137702961367457",
                  "0.48137702961367934",
                  "0.4813770296136849",
                  "0.481377029613673",
                  "0.48137702961374906"
                ],
                [
                  "Autocorrelation (Durbin-Watson)",
                  "0.8692580907119524",
                  "0.6574419500953687",
                  "0.9068109787008262",
                  "0.8250286209500978",
                  "0.5983723757002183",
                  "0.9457119802698584"
                ],
                [
                  "Autocorrelation (Ljung-Box)",
                  "9.48659779836372e-06",
                  "2.5611436989924155e-12",
                  "4.896085090457374e-06",
                  "9.240500986925654e-07",
                  "7.514760949416938e-13",
                  "5.533164484441049e-09"
                ],
                [
                  "IRR",
                  "Intercept         13.264020\nperiodo            1.008725\nPandemia_Step      1.255889\nPandemia_Trend     0.989315\ncos1               0.997857\nsin1               0.987964\ndtype: float64",
                  "Intercept         15.303076\nperiodo            1.006863\nPandemia_Step      1.222862\nPandemia_Trend     0.990343\ncos1               0.993486\nsin1               1.002656\ndtype: float64",
                  "Intercept         6.101866\nperiodo           1.016797\nPandemia_Step     1.348231\nPandemia_Trend    0.987319\ncos1              1.001341\nsin1              0.987738\ndtype: float64",
                  "Intercept         5.937658\nperiodo           1.013401\nPandemia_Step     1.029377\nPandemia_Trend    0.995272\ncos1              0.992259\nsin1              1.014999\ndtype: float64",
                  "Intercept         14.383115\nperiodo            1.008200\nPandemia_Step      1.304680\nPandemia_Trend     0.989754\ncos1               0.994952\nsin1               0.998060\ndtype: float64",
                  "Intercept         23.543861\nperiodo            1.002300\nPandemia_Step      1.174508\nPandemia_Trend     0.988020\ncos1               1.000398\nsin1               1.001923\ndtype: float64"
                ],
                [
                  "CI Lower",
                  "Intercept         12.891634\nperiodo            1.008336\nPandemia_Step      1.184021\nPandemia_Trend     0.984215\ncos1               0.981170\nsin1               0.970737\nName: 0, dtype: float64",
                  "Intercept         14.329202\nperiodo            1.006051\nPandemia_Step      1.117131\nPandemia_Trend     0.982718\ncos1               0.965176\nsin1               0.973823\nName: 0, dtype: float64",
                  "Intercept         5.894928\nperiodo           1.016297\nPandemia_Step     1.270426\nPandemia_Trend    0.983169\ncos1              0.980308\nsin1              0.967985\nName: 0, dtype: float64",
                  "Intercept         5.728079\nperiodo           1.012962\nPandemia_Step     0.922586\nPandemia_Trend    0.987606\ncos1              0.973098\nsin1              0.994074\nName: 0, dtype: float64",
                  "Intercept         13.754191\nperiodo            1.007652\nPandemia_Step      1.234157\nPandemia_Trend     0.984554\ncos1               0.974235\nsin1               0.979050\nName: 0, dtype: float64",
                  "Intercept         23.180850\nperiodo            1.002014\nPandemia_Step      1.105725\nPandemia_Trend     0.982499\ncos1               0.981383\nsin1               0.984122\nName: 0, dtype: float64"
                ],
                [
                  "CI Upper",
                  "Intercept         13.647163\nperiodo            1.009113\nPandemia_Step      1.332120\nPandemia_Trend     0.994442\ncos1               1.014828\nsin1               1.005496\nName: 1, dtype: float64",
                  "Intercept         16.343139\nperiodo            1.007676\nPandemia_Step      1.338600\nPandemia_Trend     0.998027\ncos1               1.022627\nsin1               1.032344\nName: 1, dtype: float64",
                  "Intercept         6.316067\nperiodo           1.017296\nPandemia_Step     1.430800\nPandemia_Trend    0.991487\ncos1              1.022824\nsin1              1.007894\nName: 1, dtype: float64",
                  "Intercept         6.154906\nperiodo           1.013840\nPandemia_Step     1.148529\nPandemia_Trend    1.002997\ncos1              1.011797\nsin1              1.036364\nName: 1, dtype: float64",
                  "Intercept         15.040797\nperiodo            1.008748\nPandemia_Step      1.379232\nPandemia_Trend     0.994982\ncos1               1.016110\nsin1               1.017439\nName: 1, dtype: float64",
                  "Intercept         23.912556\nperiodo            1.002586\nPandemia_Step      1.247568\nPandemia_Trend     0.993572\ncos1               1.019782\nsin1               1.020046\nName: 1, dtype: float64"
                ]
              ],
              "shape": {
                "columns": 6,
                "rows": 7
              }
            },
            "text/html": [
              "<div>\n",
              "<style scoped>\n",
              "    .dataframe tbody tr th:only-of-type {\n",
              "        vertical-align: middle;\n",
              "    }\n",
              "\n",
              "    .dataframe tbody tr th {\n",
              "        vertical-align: top;\n",
              "    }\n",
              "\n",
              "    .dataframe thead th {\n",
              "        text-align: right;\n",
              "    }\n",
              "</style>\n",
              "<table border=\"1\" class=\"dataframe\">\n",
              "  <thead>\n",
              "    <tr style=\"text-align: right;\">\n",
              "      <th></th>\n",
              "      <th>Brasil</th>\n",
              "      <th>centro_oeste</th>\n",
              "      <th>nordeste</th>\n",
              "      <th>norte</th>\n",
              "      <th>sudeste</th>\n",
              "      <th>sul</th>\n",
              "    </tr>\n",
              "  </thead>\n",
              "  <tbody>\n",
              "    <tr>\n",
              "      <th>Heteroscedasticity (Breusch-Pagan)</th>\n",
              "      <td>0.000733</td>\n",
              "      <td>0.024665</td>\n",
              "      <td>0.000021</td>\n",
              "      <td>0.008533</td>\n",
              "      <td>0.026691</td>\n",
              "      <td>0.003217</td>\n",
              "    </tr>\n",
              "    <tr>\n",
              "      <th>Overdispersion (Pearson Chi2)</th>\n",
              "      <td>0.481377</td>\n",
              "      <td>0.481377</td>\n",
              "      <td>0.481377</td>\n",
              "      <td>0.481377</td>\n",
              "      <td>0.481377</td>\n",
              "      <td>0.481377</td>\n",
              "    </tr>\n",
              "    <tr>\n",
              "      <th>Autocorrelation (Durbin-Watson)</th>\n",
              "      <td>0.869258</td>\n",
              "      <td>0.657442</td>\n",
              "      <td>0.906811</td>\n",
              "      <td>0.825029</td>\n",
              "      <td>0.598372</td>\n",
              "      <td>0.945712</td>\n",
              "    </tr>\n",
              "    <tr>\n",
              "      <th>Autocorrelation (Ljung-Box)</th>\n",
              "      <td>0.000009</td>\n",
              "      <td>0.0</td>\n",
              "      <td>0.000005</td>\n",
              "      <td>0.000001</td>\n",
              "      <td>0.0</td>\n",
              "      <td>0.0</td>\n",
              "    </tr>\n",
              "    <tr>\n",
              "      <th>IRR</th>\n",
              "      <td>Intercept         13.264020\n",
              "periodo           ...</td>\n",
              "      <td>Intercept         15.303076\n",
              "periodo           ...</td>\n",
              "      <td>Intercept         6.101866\n",
              "periodo           1...</td>\n",
              "      <td>Intercept         5.937658\n",
              "periodo           1...</td>\n",
              "      <td>Intercept         14.383115\n",
              "periodo           ...</td>\n",
              "      <td>Intercept         23.543861\n",
              "periodo           ...</td>\n",
              "    </tr>\n",
              "    <tr>\n",
              "      <th>CI Lower</th>\n",
              "      <td>Intercept         12.891634\n",
              "periodo           ...</td>\n",
              "      <td>Intercept         14.329202\n",
              "periodo           ...</td>\n",
              "      <td>Intercept         5.894928\n",
              "periodo           1...</td>\n",
              "      <td>Intercept         5.728079\n",
              "periodo           1...</td>\n",
              "      <td>Intercept         13.754191\n",
              "periodo           ...</td>\n",
              "      <td>Intercept         23.180850\n",
              "periodo           ...</td>\n",
              "    </tr>\n",
              "    <tr>\n",
              "      <th>CI Upper</th>\n",
              "      <td>Intercept         13.647163\n",
              "periodo           ...</td>\n",
              "      <td>Intercept         16.343139\n",
              "periodo           ...</td>\n",
              "      <td>Intercept         6.316067\n",
              "periodo           1...</td>\n",
              "      <td>Intercept         6.154906\n",
              "periodo           1...</td>\n",
              "      <td>Intercept         15.040797\n",
              "periodo           ...</td>\n",
              "      <td>Intercept         23.912556\n",
              "periodo           ...</td>\n",
              "    </tr>\n",
              "  </tbody>\n",
              "</table>\n",
              "</div>"
            ],
            "text/plain": [
              "                                                                               Brasil  \\\n",
              "Heteroscedasticity (Breusch-Pagan)                                           0.000733   \n",
              "Overdispersion (Pearson Chi2)                                                0.481377   \n",
              "Autocorrelation (Durbin-Watson)                                              0.869258   \n",
              "Autocorrelation (Ljung-Box)                                                  0.000009   \n",
              "IRR                                 Intercept         13.264020\n",
              "periodo           ...   \n",
              "CI Lower                            Intercept         12.891634\n",
              "periodo           ...   \n",
              "CI Upper                            Intercept         13.647163\n",
              "periodo           ...   \n",
              "\n",
              "                                                                         centro_oeste  \\\n",
              "Heteroscedasticity (Breusch-Pagan)                                           0.024665   \n",
              "Overdispersion (Pearson Chi2)                                                0.481377   \n",
              "Autocorrelation (Durbin-Watson)                                              0.657442   \n",
              "Autocorrelation (Ljung-Box)                                                       0.0   \n",
              "IRR                                 Intercept         15.303076\n",
              "periodo           ...   \n",
              "CI Lower                            Intercept         14.329202\n",
              "periodo           ...   \n",
              "CI Upper                            Intercept         16.343139\n",
              "periodo           ...   \n",
              "\n",
              "                                                                             nordeste  \\\n",
              "Heteroscedasticity (Breusch-Pagan)                                           0.000021   \n",
              "Overdispersion (Pearson Chi2)                                                0.481377   \n",
              "Autocorrelation (Durbin-Watson)                                              0.906811   \n",
              "Autocorrelation (Ljung-Box)                                                  0.000005   \n",
              "IRR                                 Intercept         6.101866\n",
              "periodo           1...   \n",
              "CI Lower                            Intercept         5.894928\n",
              "periodo           1...   \n",
              "CI Upper                            Intercept         6.316067\n",
              "periodo           1...   \n",
              "\n",
              "                                                                                norte  \\\n",
              "Heteroscedasticity (Breusch-Pagan)                                           0.008533   \n",
              "Overdispersion (Pearson Chi2)                                                0.481377   \n",
              "Autocorrelation (Durbin-Watson)                                              0.825029   \n",
              "Autocorrelation (Ljung-Box)                                                  0.000001   \n",
              "IRR                                 Intercept         5.937658\n",
              "periodo           1...   \n",
              "CI Lower                            Intercept         5.728079\n",
              "periodo           1...   \n",
              "CI Upper                            Intercept         6.154906\n",
              "periodo           1...   \n",
              "\n",
              "                                                                              sudeste  \\\n",
              "Heteroscedasticity (Breusch-Pagan)                                           0.026691   \n",
              "Overdispersion (Pearson Chi2)                                                0.481377   \n",
              "Autocorrelation (Durbin-Watson)                                              0.598372   \n",
              "Autocorrelation (Ljung-Box)                                                       0.0   \n",
              "IRR                                 Intercept         14.383115\n",
              "periodo           ...   \n",
              "CI Lower                            Intercept         13.754191\n",
              "periodo           ...   \n",
              "CI Upper                            Intercept         15.040797\n",
              "periodo           ...   \n",
              "\n",
              "                                                                                  sul  \n",
              "Heteroscedasticity (Breusch-Pagan)                                           0.003217  \n",
              "Overdispersion (Pearson Chi2)                                                0.481377  \n",
              "Autocorrelation (Durbin-Watson)                                              0.945712  \n",
              "Autocorrelation (Ljung-Box)                                                       0.0  \n",
              "IRR                                 Intercept         23.543861\n",
              "periodo           ...  \n",
              "CI Lower                            Intercept         23.180850\n",
              "periodo           ...  \n",
              "CI Upper                            Intercept         23.912556\n",
              "periodo           ...  "
            ]
          },
          "execution_count": 2377,
          "metadata": {},
          "output_type": "execute_result"
        },
        {
          "data": {
            "image/png": "[encoded data removed]",
            "text/plain": [
              "<Figure size 640x480 with 1 Axes>"
            ]
          },
          "metadata": {},
          "output_type": "display_data"
        },
        {
          "data": {
            "image/png": "[encoded data removed]",
            "text/plain": [
              "<Figure size 640x480 with 1 Axes>"
            ]
          },
          "metadata": {},
          "output_type": "display_data"
        },
        {
          "data": {
            "image/png": "[encoded data removed]",
            "text/plain": [
              "<Figure size 640x480 with 1 Axes>"
            ]
          },
          "metadata": {},
          "output_type": "display_data"
        },
        {
          "data": {
            "image/png": "[encoded data removed]",
            "text/plain": [
              "<Figure size 640x480 with 1 Axes>"
            ]
          },
          "metadata": {},
          "output_type": "display_data"
        },
        {
          "data": {
            "image/png": "[encoded data removed]",
            "text/plain": [
              "<Figure size 640x480 with 1 Axes>"
            ]
          },
          "metadata": {},
          "output_type": "display_data"
        },
        {
          "data": {
            "image/png": "[encoded data removed]",
            "text/plain": [
              "<Figure size 640x480 with 1 Axes>"
            ]
          },
          "metadata": {},
          "output_type": "display_data"
        }
      ],
      "source": [
        "if MODEL_DEF == 'GEE' or MODEL_DEF == \"GLM\":\n",
        "    diagnostics_df = test_model_diagnostics(\n",
        "    results=results,\n",
        "    dataframe=RegressionDF,\n",
        "    group_col=GROUP_COL_NAME,\n",
        "    dependent_var=DEPENDENT_VAR,\n",
        "    independent_var=INDEPENDENT_VAR\n",
        ")\n",
        "else:\n",
        "    diagnostics_df = test_glsar_diagnostics(\n",
        "    results=results, \n",
        "    dataframe=RegressionDF,\n",
        "    group_col=GROUP_COL_NAME,\n",
        "    dependent_var=DEPENDENT_VAR,\n",
        "    independent_var=INDEPENDENT_VAR\n",
        ")\n",
        "    \n",
        "diagnostics_df\n",
        "    "
      ]
    },
    {
      "cell_type": "markdown",
      "metadata": {
        "id": "AKBeUI39NIXf"
      },
      "source": [
        "# Export Results"
      ]
    },
    {
      "cell_type": "code",
      "execution_count": 2378,
      "metadata": {
        "id": "IbPhBA4YNIXg"
      },
      "outputs": [],
      "source": [
        "if MODEL_DEF == 'GLSAR':\n",
        "    export_results(results,\n",
        "        output_path = LOCAL_OUTPUT_PATH,\n",
        "        processor_args = GLSAR_PROCESSOR_ARGS,\n",
        "        preprocessor_args=PREPROCESSOR_ARGS,\n",
        "        output_gsheet=output_wksheet,\n",
        "    )"
      ]
    },
    {
      "cell_type": "markdown",
      "metadata": {
        "id": "zH9i6dotzLe5"
      },
      "source": [
        "# Define Hover Graph Func\n"
      ]
    },
    {
      "cell_type": "code",
      "execution_count": 2379,
      "metadata": {},
      "outputs": [],
      "source": [
        "def plot_with_all_dummies(\n",
        "    variable: str,\n",
        "    variable_df,\n",
        "    results_obj,\n",
        "    exclude_coeffs_by_prefix=None,\n",
        "    plot_individual_effects=False,\n",
        "    line_events=None, # Dict[str, Tuple[start, end, color, show_line]]\n",
        "    slope_coef_str=None,\n",
        "    real_serie_key=DEPENDENT_VAR,\n",
        "    exponentite_coefs=False\n",
        "):\n",
        "\n",
        "    regression_stats = results_obj.params\n",
        "    variable_df = variable_df.sort_values(by=DATE_NAME).reset_index(drop=True)\n",
        "    dates = variable_df[DATE_NAME].values\n",
        "    real_series = variable_df[real_serie_key].values\n",
        "\n",
        "    slope_name = slope_coef_str if slope_coef_str else INDEPENDENT_VAR\n",
        "    intercept = regression_stats.get(\"Intercept\", 0)\n",
        "    slope = regression_stats.get(slope_name, 0)\n",
        "    t = np.arange(len(dates)) + 1\n",
        "\n",
        "\n",
        "    #if exponentite_coefs:\n",
        "        #slope = np.exp(slope) #if slope > 0 else slope\n",
        "        #intercept = np.exp(intercept) if intercept > 0 else intercept\n",
        "    baseline_log = (intercept + slope * t).astype(float)\n",
        "    full_pred = baseline_log.copy()\n",
        "\n",
        "    fig = go.Figure()\n",
        "\n",
        "    baseline = np.exp(baseline_log) if exponentite_coefs else baseline_log\n",
        "    fig.add_trace(go.Scatter(\n",
        "        x=dates,\n",
        "        y=baseline,\n",
        "        mode='lines',\n",
        "        name='Baseline',\n",
        "        line=dict(dash='dot', color='black')\n",
        "    ))\n",
        "\n",
        "    fig.add_trace(go.Scatter(\n",
        "        x=dates,\n",
        "        y=real_series,\n",
        "        mode='markers',\n",
        "        name='Real',\n",
        "        marker=dict(color='black')\n",
        "    ))\n",
        "\n",
        "\n",
        "\n",
        "    for dummy_name, coef in regression_stats.items():\n",
        "        if dummy_name in {\"Intercept\", INDEPENDENT_VAR}:\n",
        "            continue\n",
        "        if slope_coef_str and dummy_name == slope_coef_str:\n",
        "            continue\n",
        "\n",
        "        if exclude_coeffs_by_prefix and any(dummy_name.startswith(prefix) for prefix in exclude_coeffs_by_prefix):\n",
        "            continue\n",
        "\n",
        "        if dummy_name in variable_df.columns:\n",
        "            dummy_ts = variable_df[dummy_name].values\n",
        "            dummy_effect = coef * dummy_ts\n",
        "            full_pred += dummy_effect\n",
        "\n",
        "            if plot_individual_effects:\n",
        "                fig.add_trace(go.Scatter(\n",
        "                    x=dates,\n",
        "                    y=dummy_effect,\n",
        "                    mode='lines',\n",
        "                    name=f'Effect: {dummy_name}',\n",
        "                    line=dict(dash='dash')\n",
        "                ))\n",
        "\n",
        "    if line_events:\n",
        "        for line_dummy_name, (event_start_date, event_end_date, fillcolor, show_line) in line_events.items():\n",
        "            if fillcolor:\n",
        "                # Sombra para eventos tipo \"pulse\"\n",
        "                fig.add_shape(\n",
        "                    type=\"rect\",\n",
        "                    x0=event_start_date,\n",
        "                    x1=event_end_date,\n",
        "                    y0=0,\n",
        "                    y1=1,\n",
        "                    xref=\"x\",\n",
        "                    yref=\"paper\",\n",
        "                    fillcolor=fillcolor,\n",
        "                    opacity=0.3,\n",
        "                    layer=\"below\",\n",
        "                    line_width=0,\n",
        "                )\n",
        "        \n",
        "            if show_line:\n",
        "                # Linha e anotação para eventos como Pandemia e Pós-Pandemia\n",
        "                fig.add_shape(\n",
        "                    type=\"line\",\n",
        "                    x0=event_start_date,\n",
        "                    x1=event_start_date,\n",
        "                    y0=min(real_series),\n",
        "                    y1=max(real_series),\n",
        "                    line=dict(color=\"black\", dash=\"dash\")\n",
        "                )\n",
        "        \n",
        "                # Anotação deslocada no eixo x\n",
        "                fig.add_annotation(\n",
        "                    x=event_start_date,\n",
        "                    y=max(real_series),\n",
        "                    text=f\"{line_dummy_name}\",\n",
        "                    showarrow=True,\n",
        "                    arrowhead=2,\n",
        "                    ax=30,  # deslocamento lateral\n",
        "                    ay=-40\n",
        "                )\n",
        "\n",
        "    full_pred = np.exp(full_pred) if exponentite_coefs else full_pred\n",
        "    fig.add_trace(go.Scatter(\n",
        "        x=dates,\n",
        "        y=full_pred,\n",
        "        mode='lines',\n",
        "        name='Full model',\n",
        "        line=dict(color='purple')\n",
        "    ))\n",
        "\n",
        "\n",
        "\n",
        "    fig.update_layout(\n",
        "        title=variable,\n",
        "        xaxis_title=\"Time\",\n",
        "        yaxis_title=\"Value\",\n",
        "        legend_title=\"Legend\"\n",
        "    )\n",
        "\n",
        "    fig.show()\n"
      ]
    },
    {
      "cell_type": "markdown",
      "metadata": {
        "id": "deLbYC8XNIX5"
      },
      "source": [
        "# EXEC --- Plot Graph"
      ]
    },
    {
      "cell_type": "code",
      "execution_count": 2380,
      "metadata": {
        "colab": {
          "base_uri": "https://localhost:8080/",
          "height": 1000
        },
        "id": "5rCs4_ohNIX6",
        "outputId": "73d22374-2176-4616-a44b-3072f8ea7e90"
      },
      "outputs": [
        {
          "data": {
            "application/vnd.plotly.v1+json": {
              "config": {
                "plotlyServerURL": "https://plot.ly"
              },
              "data": [
                {
                  "line": {
                    "color": "black",
                    "dash": "dot"
                  },
                  "mode": "lines",
                  "name": "Baseline",
                  "type": "scatter",
                  "x": [
                    "2016-01-01T00:00:00.000000000",
                    "2016-02-01T00:00:00.000000000",
                    "2016-03-01T00:00:00.000000000",
                    "2016-04-01T00:00:00.000000000",
                    "2016-05-01T00:00:00.000000000",
                    "2016-06-01T00:00:00.000000000",
                    "2016-07-01T00:00:00.000000000",
                    "2016-08-01T00:00:00.000000000",
                    "2016-09-01T00:00:00.000000000",
                    "2016-10-01T00:00:00.000000000",
                    "2016-11-01T00:00:00.000000000",
                    "2016-12-01T00:00:00.000000000",
                    "2017-01-01T00:00:00.000000000",
                    "2017-02-01T00:00:00.000000000",
                    "2017-03-01T00:00:00.000000000",
                    "2017-04-01T00:00:00.000000000",
                    "2017-05-01T00:00:00.000000000",
                    "2017-06-01T00:00:00.000000000",
                    "2017-07-01T00:00:00.000000000",
                    "2017-08-01T00:00:00.000000000",
                    "2017-09-01T00:00:00.000000000",
                    "2017-10-01T00:00:00.000000000",
                    "2017-11-01T00:00:00.000000000",
                    "2017-12-01T00:00:00.000000000",
                    "2018-01-01T00:00:00.000000000",
                    "2018-02-01T00:00:00.000000000",
                    "2018-03-01T00:00:00.000000000",
                    "2018-04-01T00:00:00.000000000",
                    "2018-05-01T00:00:00.000000000",
                    "2018-06-01T00:00:00.000000000",
                    "2018-07-01T00:00:00.000000000",
                    "2018-08-01T00:00:00.000000000",
                    "2018-09-01T00:00:00.000000000",
                    "2018-10-01T00:00:00.000000000",
                    "2018-11-01T00:00:00.000000000",
                    "2018-12-01T00:00:00.000000000",
                    "2019-01-01T00:00:00.000000000",
                    "2019-02-01T00:00:00.000000000",
                    "2019-03-01T00:00:00.000000000",
                    "2019-04-01T00:00:00.000000000",
                    "2019-05-01T00:00:00.000000000",
                    "2019-06-01T00:00:00.000000000",
                    "2019-07-01T00:00:00.000000000",
                    "2019-08-01T00:00:00.000000000",
                    "2019-09-01T00:00:00.000000000",
                    "2019-10-01T00:00:00.000000000",
                    "2019-11-01T00:00:00.000000000",
                    "2019-12-01T00:00:00.000000000",
                    "2020-01-01T00:00:00.000000000",
                    "2020-02-01T00:00:00.000000000",
                    "2020-03-01T00:00:00.000000000",
                    "2020-04-01T00:00:00.000000000",
                    "2020-05-01T00:00:00.000000000",
                    "2020-06-01T00:00:00.000000000",
                    "2020-07-01T00:00:00.000000000",
                    "2020-08-01T00:00:00.000000000",
                    "2020-09-01T00:00:00.000000000",
                    "2020-10-01T00:00:00.000000000",
                    "2020-11-01T00:00:00.000000000",
                    "2020-12-01T00:00:00.000000000",
                    "2021-01-01T00:00:00.000000000",
                    "2021-02-01T00:00:00.000000000",
                    "2021-03-01T00:00:00.000000000",
                    "2021-04-01T00:00:00.000000000",
                    "2021-05-01T00:00:00.000000000",
                    "2021-06-01T00:00:00.000000000",
                    "2021-07-01T00:00:00.000000000",
                    "2021-08-01T00:00:00.000000000",
                    "2021-09-01T00:00:00.000000000",
                    "2021-10-01T00:00:00.000000000",
                    "2021-11-01T00:00:00.000000000",
                    "2021-12-01T00:00:00.000000000",
                    "2022-01-01T00:00:00.000000000",
                    "2022-02-01T00:00:00.000000000",
                    "2022-03-01T00:00:00.000000000",
                    "2022-04-01T00:00:00.000000000",
                    "2022-05-01T00:00:00.000000000",
                    "2022-06-01T00:00:00.000000000",
                    "2022-07-01T00:00:00.000000000",
                    "2022-08-01T00:00:00.000000000",
                    "2022-09-01T00:00:00.000000000",
                    "2022-10-01T00:00:00.000000000",
                    "2022-11-01T00:00:00.000000000",
                    "2022-12-01T00:00:00.000000000",
                    "2023-01-01T00:00:00.000000000",
                    "2023-02-01T00:00:00.000000000",
                    "2023-03-01T00:00:00.000000000",
                    "2023-04-01T00:00:00.000000000",
                    "2023-05-01T00:00:00.000000000",
                    "2023-06-01T00:00:00.000000000",
                    "2023-07-01T00:00:00.000000000",
                    "2023-08-01T00:00:00.000000000",
                    "2023-09-01T00:00:00.000000000",
                    "2023-10-01T00:00:00.000000000",
                    "2023-11-01T00:00:00.000000000",
                    "2023-12-01T00:00:00.000000000",
                    "2024-01-01T00:00:00.000000000",
                    "2024-02-01T00:00:00.000000000",
                    "2024-03-01T00:00:00.000000000",
                    "2024-04-01T00:00:00.000000000",
                    "2024-05-01T00:00:00.000000000",
                    "2024-06-01T00:00:00.000000000",
                    "2024-07-01T00:00:00.000000000",
                    "2024-08-01T00:00:00.000000000",
                    "2024-09-01T00:00:00.000000000",
                    "2024-10-01T00:00:00.000000000",
                    "2024-11-01T00:00:00.000000000",
                    "2024-12-01T00:00:00.000000000"
                  ],
                  "y": [
                    13.379745378578045,
                    13.49648023785202,
                    13.61423357894191,
                    13.733014287841298,
                    13.85283132807177,
                    13.973693741359371,
                    14.095610648316871,
                    14.218591249132079,
                    14.342644824262065,
                    14.46778073513354,
                    14.594008424849262,
                    14.721337418900639,
                    14.849777325886576,
                    14.979337838238521,
                    15.11002873295194,
                    15.24185987232406,
                    15.374841204698143,
                    15.508982765214215,
                    15.644294676566306,
                    15.780787149766393,
                    15.9184704849149,
                    16.05735507197802,
                    16.19745139157171,
                    16.33877001575266,
                    16.481321608816046,
                    16.62511692810026,
                    16.77016682479878,
                    16.91648224477891,
                    17.064074229407904,
                    17.212953916386088,
                    17.363132540587394,
                    17.514621434907166,
                    17.66743203111734,
                    17.821575860729148,
                    17.977064555863322,
                    18.133909850127875,
                    18.292123579503528,
                    18.451717683236946,
                    18.612704204741632,
                    18.77509529250683,
                    18.93890320101421,
                    19.10414029166269,
                    19.270819033701244,
                    19.438952005169817,
                    19.608551893848585,
                    19.779631498215316,
                    19.95220372841127,
                    20.126281607215358,
                    20.301878271026926,
                    20.479006970857057,
                    20.657681073328483,
                    20.837914061684344,
                    21.0197195368056,
                    21.203111218237446,
                    21.38810294522458,
                    21.57470867775559,
                    21.762942497616404,
                    21.952818609452912,
                    22.144351341842906,
                    22.337555148377383,
                    22.532444608751227,
                    22.7290344298634,
                    22.927339446926833,
                    23.127374624587898,
                    23.329155058055658,
                    23.53269597424103,
                    23.73801273290584,
                    23.945120827821924,
                    24.154035887940285,
                    24.364773678570554,
                    24.57735010257067,
                    24.791781201546915,
                    25.008083157064487,
                    25.226272291868625,
                    25.44636507111636,
                    25.668378103618963,
                    25.892328143095394,
                    26.11823208943648,
                    26.34610698998032,
                    26.575970040798644,
                    26.807838587994535,
                    27.04173012901141,
                    27.277662313953353,
                    27.51565294691716,
                    27.755719987335766,
                    27.997881551333617,
                    28.242155913093672,
                    28.488561506236497,
                    28.73711692521129,
                    28.98784092669904,
                    29.240752431027982,
                    29.495870523601415,
                    29.753214456337894,
                    30.01280364912401,
                    30.274657691279938,
                    30.53879634303767,
                    30.80523953703214,
                    31.074007379805433,
                    31.3451201533241,
                    31.61859831650967,
                    31.89446250678249,
                    32.172733541619166,
                    32.45343242012347,
                    32.73658032461096,
                    33.02219862220749,
                    33.31030886646164,
                    33.60093279897121,
                    33.89409235102382
                  ]
                },
                {
                  "marker": {
                    "color": "black"
                  },
                  "mode": "markers",
                  "name": "Real",
                  "type": "scatter",
                  "x": [
                    "2016-01-01T00:00:00.000000000",
                    "2016-02-01T00:00:00.000000000",
                    "2016-03-01T00:00:00.000000000",
                    "2016-04-01T00:00:00.000000000",
                    "2016-05-01T00:00:00.000000000",
                    "2016-06-01T00:00:00.000000000",
                    "2016-07-01T00:00:00.000000000",
                    "2016-08-01T00:00:00.000000000",
                    "2016-09-01T00:00:00.000000000",
                    "2016-10-01T00:00:00.000000000",
                    "2016-11-01T00:00:00.000000000",
                    "2016-12-01T00:00:00.000000000",
                    "2017-01-01T00:00:00.000000000",
                    "2017-02-01T00:00:00.000000000",
                    "2017-03-01T00:00:00.000000000",
                    "2017-04-01T00:00:00.000000000",
                    "2017-05-01T00:00:00.000000000",
                    "2017-06-01T00:00:00.000000000",
                    "2017-07-01T00:00:00.000000000",
                    "2017-08-01T00:00:00.000000000",
                    "2017-09-01T00:00:00.000000000",
                    "2017-10-01T00:00:00.000000000",
                    "2017-11-01T00:00:00.000000000",
                    "2017-12-01T00:00:00.000000000",
                    "2018-01-01T00:00:00.000000000",
                    "2018-02-01T00:00:00.000000000",
                    "2018-03-01T00:00:00.000000000",
                    "2018-04-01T00:00:00.000000000",
                    "2018-05-01T00:00:00.000000000",
                    "2018-06-01T00:00:00.000000000",
                    "2018-07-01T00:00:00.000000000",
                    "2018-08-01T00:00:00.000000000",
                    "2018-09-01T00:00:00.000000000",
                    "2018-10-01T00:00:00.000000000",
                    "2018-11-01T00:00:00.000000000",
                    "2018-12-01T00:00:00.000000000",
                    "2019-01-01T00:00:00.000000000",
                    "2019-02-01T00:00:00.000000000",
                    "2019-03-01T00:00:00.000000000",
                    "2019-04-01T00:00:00.000000000",
                    "2019-05-01T00:00:00.000000000",
                    "2019-06-01T00:00:00.000000000",
                    "2019-07-01T00:00:00.000000000",
                    "2019-08-01T00:00:00.000000000",
                    "2019-09-01T00:00:00.000000000",
                    "2019-10-01T00:00:00.000000000",
                    "2019-11-01T00:00:00.000000000",
                    "2019-12-01T00:00:00.000000000",
                    "2020-01-01T00:00:00.000000000",
                    "2020-02-01T00:00:00.000000000",
                    "2020-03-01T00:00:00.000000000",
                    "2020-04-01T00:00:00.000000000",
                    "2020-05-01T00:00:00.000000000",
                    "2020-06-01T00:00:00.000000000",
                    "2020-07-01T00:00:00.000000000",
                    "2020-08-01T00:00:00.000000000",
                    "2020-09-01T00:00:00.000000000",
                    "2020-10-01T00:00:00.000000000",
                    "2020-11-01T00:00:00.000000000",
                    "2020-12-01T00:00:00.000000000",
                    "2021-01-01T00:00:00.000000000",
                    "2021-02-01T00:00:00.000000000",
                    "2021-03-01T00:00:00.000000000",
                    "2021-04-01T00:00:00.000000000",
                    "2021-05-01T00:00:00.000000000",
                    "2021-06-01T00:00:00.000000000",
                    "2021-07-01T00:00:00.000000000",
                    "2021-08-01T00:00:00.000000000",
                    "2021-09-01T00:00:00.000000000",
                    "2021-10-01T00:00:00.000000000",
                    "2021-11-01T00:00:00.000000000",
                    "2021-12-01T00:00:00.000000000",
                    "2022-01-01T00:00:00.000000000",
                    "2022-02-01T00:00:00.000000000",
                    "2022-03-01T00:00:00.000000000",
                    "2022-04-01T00:00:00.000000000",
                    "2022-05-01T00:00:00.000000000",
                    "2022-06-01T00:00:00.000000000",
                    "2022-07-01T00:00:00.000000000",
                    "2022-08-01T00:00:00.000000000",
                    "2022-09-01T00:00:00.000000000",
                    "2022-10-01T00:00:00.000000000",
                    "2022-11-01T00:00:00.000000000",
                    "2022-12-01T00:00:00.000000000",
                    "2023-01-01T00:00:00.000000000",
                    "2023-02-01T00:00:00.000000000",
                    "2023-03-01T00:00:00.000000000",
                    "2023-04-01T00:00:00.000000000",
                    "2023-05-01T00:00:00.000000000",
                    "2023-06-01T00:00:00.000000000",
                    "2023-07-01T00:00:00.000000000",
                    "2023-08-01T00:00:00.000000000",
                    "2023-09-01T00:00:00.000000000",
                    "2023-10-01T00:00:00.000000000",
                    "2023-11-01T00:00:00.000000000",
                    "2023-12-01T00:00:00.000000000",
                    "2024-01-01T00:00:00.000000000",
                    "2024-02-01T00:00:00.000000000",
                    "2024-03-01T00:00:00.000000000",
                    "2024-04-01T00:00:00.000000000",
                    "2024-05-01T00:00:00.000000000",
                    "2024-06-01T00:00:00.000000000",
                    "2024-07-01T00:00:00.000000000",
                    "2024-08-01T00:00:00.000000000",
                    "2024-09-01T00:00:00.000000000",
                    "2024-10-01T00:00:00.000000000",
                    "2024-11-01T00:00:00.000000000",
                    "2024-12-01T00:00:00.000000000"
                  ],
                  "y": [
                    13.491333507280263,
                    12.124306579825205,
                    11.411492827787312,
                    11.492224440694576,
                    11.701410385907677,
                    12.249352739691794,
                    12.56412920101406,
                    12.383132434206999,
                    12.91299528305369,
                    13.405705350250694,
                    13.704459760086426,
                    15.229921390327647,
                    14.118751936001305,
                    13.66692261599855,
                    13.595790478688976,
                    14.088462366107436,
                    13.558489111766301,
                    14.499502173522849,
                    14.322621294924698,
                    14.880335295777416,
                    15.899822277068907,
                    16.830491830823902,
                    16.826766372294138,
                    17.619794655417227,
                    16.87053411847006,
                    17.55021440409405,
                    16.87111187683952,
                    17.079568099894924,
                    16.849241324863495,
                    18.185498943737976,
                    17.781336510017898,
                    18.184054252662456,
                    18.528432957162202,
                    18.809953366681736,
                    18.931695030918835,
                    18.767265184773798,
                    17.5176211263095,
                    18.111987080711273,
                    19.117295660812978,
                    18.36959981997113,
                    18.55053543667368,
                    19.280303074341717,
                    19.963337889755348,
                    21.377673637841006,
                    21.372801357517076,
                    21.401995696464677,
                    21.792718000341456,
                    22.702188875815867,
                    22.434110259324033,
                    22.794440600026245,
                    23.13017004603683,
                    29.61341644766306,
                    27.984817304290043,
                    26.78920706592315,
                    24.73251368707704,
                    24.87299891704095,
                    25.94946930780557,
                    25.396592316724615,
                    25.130832616294782,
                    25.39158093668865,
                    24.433467109907447,
                    24.799845312692558,
                    23.68427453585575,
                    25.048406069920432,
                    23.157465827293702,
                    24.007072687577196,
                    25.400401130010685,
                    26.545137963892543,
                    27.562781466718555,
                    26.742580559278423,
                    26.27204653293438,
                    25.356316252283634,
                    19.272148218264114,
                    24.873580864721994,
                    26.451798691272167,
                    25.702799031052,
                    24.756384487644606,
                    23.93998708412234,
                    24.540505733093376,
                    26.105625142352466,
                    28.75304504122353,
                    27.83063498255684,
                    26.78379709085502,
                    26.747333493339685,
                    29.233691212191097,
                    29.949854981909972,
                    28.256342010204616,
                    27.25784981574385,
                    28.71085074304191,
                    29.374168157961616,
                    30.188317709881826,
                    30.943710777062105,
                    32.32330351676946,
                    31.58874078898992,
                    31.306379228123475,
                    31.295097118475084,
                    32.233346333158345,
                    30.837761193563477,
                    28.299900983147932,
                    28.42021515196115,
                    30.291790219323662,
                    31.58879663001754,
                    32.305180691058,
                    32.582705205154134,
                    32.6182269544765,
                    32.57653368640277,
                    32.44703520981015,
                    32.06729048932365
                  ]
                },
                {
                  "line": {
                    "color": "purple"
                  },
                  "mode": "lines",
                  "name": "Full model",
                  "type": "scatter",
                  "x": [
                    "2016-01-01T00:00:00.000000000",
                    "2016-02-01T00:00:00.000000000",
                    "2016-03-01T00:00:00.000000000",
                    "2016-04-01T00:00:00.000000000",
                    "2016-05-01T00:00:00.000000000",
                    "2016-06-01T00:00:00.000000000",
                    "2016-07-01T00:00:00.000000000",
                    "2016-08-01T00:00:00.000000000",
                    "2016-09-01T00:00:00.000000000",
                    "2016-10-01T00:00:00.000000000",
                    "2016-11-01T00:00:00.000000000",
                    "2016-12-01T00:00:00.000000000",
                    "2017-01-01T00:00:00.000000000",
                    "2017-02-01T00:00:00.000000000",
                    "2017-03-01T00:00:00.000000000",
                    "2017-04-01T00:00:00.000000000",
                    "2017-05-01T00:00:00.000000000",
                    "2017-06-01T00:00:00.000000000",
                    "2017-07-01T00:00:00.000000000",
                    "2017-08-01T00:00:00.000000000",
                    "2017-09-01T00:00:00.000000000",
                    "2017-10-01T00:00:00.000000000",
                    "2017-11-01T00:00:00.000000000",
                    "2017-12-01T00:00:00.000000000",
                    "2018-01-01T00:00:00.000000000",
                    "2018-02-01T00:00:00.000000000",
                    "2018-03-01T00:00:00.000000000",
                    "2018-04-01T00:00:00.000000000",
                    "2018-05-01T00:00:00.000000000",
                    "2018-06-01T00:00:00.000000000",
                    "2018-07-01T00:00:00.000000000",
                    "2018-08-01T00:00:00.000000000",
                    "2018-09-01T00:00:00.000000000",
                    "2018-10-01T00:00:00.000000000",
                    "2018-11-01T00:00:00.000000000",
                    "2018-12-01T00:00:00.000000000",
                    "2019-01-01T00:00:00.000000000",
                    "2019-02-01T00:00:00.000000000",
                    "2019-03-01T00:00:00.000000000",
                    "2019-04-01T00:00:00.000000000",
                    "2019-05-01T00:00:00.000000000",
                    "2019-06-01T00:00:00.000000000",
                    "2019-07-01T00:00:00.000000000",
                    "2019-08-01T00:00:00.000000000",
                    "2019-09-01T00:00:00.000000000",
                    "2019-10-01T00:00:00.000000000",
                    "2019-11-01T00:00:00.000000000",
                    "2019-12-01T00:00:00.000000000",
                    "2020-01-01T00:00:00.000000000",
                    "2020-02-01T00:00:00.000000000",
                    "2020-03-01T00:00:00.000000000",
                    "2020-04-01T00:00:00.000000000",
                    "2020-05-01T00:00:00.000000000",
                    "2020-06-01T00:00:00.000000000",
                    "2020-07-01T00:00:00.000000000",
                    "2020-08-01T00:00:00.000000000",
                    "2020-09-01T00:00:00.000000000",
                    "2020-10-01T00:00:00.000000000",
                    "2020-11-01T00:00:00.000000000",
                    "2020-12-01T00:00:00.000000000",
                    "2021-01-01T00:00:00.000000000",
                    "2021-02-01T00:00:00.000000000",
                    "2021-03-01T00:00:00.000000000",
                    "2021-04-01T00:00:00.000000000",
                    "2021-05-01T00:00:00.000000000",
                    "2021-06-01T00:00:00.000000000",
                    "2021-07-01T00:00:00.000000000",
                    "2021-08-01T00:00:00.000000000",
                    "2021-09-01T00:00:00.000000000",
                    "2021-10-01T00:00:00.000000000",
                    "2021-11-01T00:00:00.000000000",
                    "2021-12-01T00:00:00.000000000",
                    "2022-01-01T00:00:00.000000000",
                    "2022-02-01T00:00:00.000000000",
                    "2022-03-01T00:00:00.000000000",
                    "2022-04-01T00:00:00.000000000",
                    "2022-05-01T00:00:00.000000000",
                    "2022-06-01T00:00:00.000000000",
                    "2022-07-01T00:00:00.000000000",
                    "2022-08-01T00:00:00.000000000",
                    "2022-09-01T00:00:00.000000000",
                    "2022-10-01T00:00:00.000000000",
                    "2022-11-01T00:00:00.000000000",
                    "2022-12-01T00:00:00.000000000",
                    "2023-01-01T00:00:00.000000000",
                    "2023-02-01T00:00:00.000000000",
                    "2023-03-01T00:00:00.000000000",
                    "2023-04-01T00:00:00.000000000",
                    "2023-05-01T00:00:00.000000000",
                    "2023-06-01T00:00:00.000000000",
                    "2023-07-01T00:00:00.000000000",
                    "2023-08-01T00:00:00.000000000",
                    "2023-09-01T00:00:00.000000000",
                    "2023-10-01T00:00:00.000000000",
                    "2023-11-01T00:00:00.000000000",
                    "2023-12-01T00:00:00.000000000",
                    "2024-01-01T00:00:00.000000000",
                    "2024-02-01T00:00:00.000000000",
                    "2024-03-01T00:00:00.000000000",
                    "2024-04-01T00:00:00.000000000",
                    "2024-05-01T00:00:00.000000000",
                    "2024-06-01T00:00:00.000000000",
                    "2024-07-01T00:00:00.000000000",
                    "2024-08-01T00:00:00.000000000",
                    "2024-09-01T00:00:00.000000000",
                    "2024-10-01T00:00:00.000000000",
                    "2024-11-01T00:00:00.000000000",
                    "2024-12-01T00:00:00.000000000"
                  ],
                  "y": [
                    13.379745378578045,
                    13.49648023785202,
                    13.61423357894191,
                    13.733014287841298,
                    13.85283132807177,
                    13.973693741359371,
                    14.095610648316871,
                    14.218591249132079,
                    14.342644824262065,
                    14.46778073513354,
                    14.594008424849262,
                    14.721337418900639,
                    14.849777325886576,
                    14.979337838238521,
                    15.11002873295194,
                    15.24185987232406,
                    15.374841204698143,
                    15.508982765214215,
                    15.644294676566306,
                    15.780787149766393,
                    15.9184704849149,
                    16.05735507197802,
                    16.19745139157171,
                    16.33877001575266,
                    16.481321608816046,
                    16.62511692810026,
                    16.77016682479878,
                    16.91648224477891,
                    17.064074229407904,
                    17.212953916386088,
                    17.363132540587394,
                    17.514621434907166,
                    17.66743203111734,
                    17.821575860729148,
                    17.977064555863322,
                    18.133909850127875,
                    18.292123579503528,
                    18.451717683236946,
                    18.612704204741632,
                    18.77509529250683,
                    18.93890320101421,
                    19.10414029166269,
                    19.270819033701244,
                    19.438952005169817,
                    19.608551893848585,
                    19.779631498215316,
                    19.95220372841127,
                    20.126281607215358,
                    20.301878271026926,
                    20.479006970857057,
                    20.657681073328483,
                    25.890488977775377,
                    25.837330921331564,
                    25.784282008402478,
                    25.731342014895887,
                    25.678510717179684,
                    25.625787892080922,
                    25.57317331688485,
                    25.520666769333996,
                    25.46826802762724,
                    25.415976870418866,
                    25.363793076817586,
                    25.31171642638568,
                    25.259746699138027,
                    25.207883675541154,
                    25.156127136512332,
                    25.10447686341868,
                    25.052932638076186,
                    25.00149424274881,
                    24.950161460147577,
                    24.898934073429654,
                    24.84781186619741,
                    24.796794622497515,
                    24.745882126820053,
                    24.695074164097587,
                    25.668378103618963,
                    25.892328143095394,
                    26.11823208943648,
                    26.34610698998032,
                    26.575970040798644,
                    26.807838587994535,
                    27.04173012901141,
                    27.277662313953353,
                    27.51565294691716,
                    27.755719987335766,
                    27.997881551333617,
                    28.242155913093672,
                    28.488561506236497,
                    28.73711692521129,
                    28.98784092669904,
                    29.240752431027982,
                    29.495870523601415,
                    29.753214456337894,
                    30.01280364912401,
                    30.274657691279938,
                    30.53879634303767,
                    30.80523953703214,
                    31.074007379805433,
                    31.3451201533241,
                    31.61859831650967,
                    31.89446250678249,
                    32.172733541619166,
                    32.45343242012347,
                    32.73658032461096,
                    33.02219862220749,
                    33.31030886646164,
                    33.60093279897121,
                    33.89409235102382
                  ]
                }
              ],
              "layout": {
                "annotations": [
                  {
                    "arrowhead": 2,
                    "ax": 30,
                    "ay": -40,
                    "showarrow": true,
                    "text": "Pandemia",
                    "x": "2020-04-01",
                    "y": 32.6182269544765
                  },
                  {
                    "arrowhead": 2,
                    "ax": 30,
                    "ay": -40,
                    "showarrow": true,
                    "text": "Pos Pandemia",
                    "x": "2022-04-01",
                    "y": 32.6182269544765
                  }
                ],
                "legend": {
                  "title": {
                    "text": "Legend"
                  }
                },
                "shapes": [
                  {
                    "line": {
                      "color": "black",
                      "dash": "dash"
                    },
                    "type": "line",
                    "x0": "2020-04-01",
                    "x1": "2020-04-01",
                    "y0": 11.411492827787312,
                    "y1": 32.6182269544765
                  },
                  {
                    "line": {
                      "color": "black",
                      "dash": "dash"
                    },
                    "type": "line",
                    "x0": "2022-04-01",
                    "x1": "2022-04-01",
                    "y0": 11.411492827787312,
                    "y1": 32.6182269544765
                  }
                ],
                "template": {
                  "data": {
                    "bar": [
                      {
                        "error_x": {
                          "color": "#2a3f5f"
                        },
                        "error_y": {
                          "color": "#2a3f5f"
                        },
                        "marker": {
                          "line": {
                            "color": "#E5ECF6",
                            "width": 0.5
                          },
                          "pattern": {
                            "fillmode": "overlay",
                            "size": 10,
                            "solidity": 0.2
                          }
                        },
                        "type": "bar"
                      }
                    ],
                    "barpolar": [
                      {
                        "marker": {
                          "line": {
                            "color": "#E5ECF6",
                            "width": 0.5
                          },
                          "pattern": {
                            "fillmode": "overlay",
                            "size": 10,
                            "solidity": 0.2
                          }
                        },
                        "type": "barpolar"
                      }
                    ],
                    "carpet": [
                      {
                        "aaxis": {
                          "endlinecolor": "#2a3f5f",
                          "gridcolor": "white",
                          "linecolor": "white",
                          "minorgridcolor": "white",
                          "startlinecolor": "#2a3f5f"
                        },
                        "baxis": {
                          "endlinecolor": "#2a3f5f",
                          "gridcolor": "white",
                          "linecolor": "white",
                          "minorgridcolor": "white",
                          "startlinecolor": "#2a3f5f"
                        },
                        "type": "carpet"
                      }
                    ],
                    "choropleth": [
                      {
                        "colorbar": {
                          "outlinewidth": 0,
                          "ticks": ""
                        },
                        "type": "choropleth"
                      }
                    ],
                    "contour": [
                      {
                        "colorbar": {
                          "outlinewidth": 0,
                          "ticks": ""
                        },
                        "colorscale": [
                          [
                            0,
                            "#0d0887"
                          ],
                          [
                            0.1111111111111111,
                            "#46039f"
                          ],
                          [
                            0.2222222222222222,
                            "#7201a8"
                          ],
                          [
                            0.3333333333333333,
                            "#9c179e"
                          ],
                          [
                            0.4444444444444444,
                            "#bd3786"
                          ],
                          [
                            0.5555555555555556,
                            "#d8576b"
                          ],
                          [
                            0.6666666666666666,
                            "#ed7953"
                          ],
                          [
                            0.7777777777777778,
                            "#fb9f3a"
                          ],
                          [
                            0.8888888888888888,
                            "#fdca26"
                          ],
                          [
                            1,
                            "#f0f921"
                          ]
                        ],
                        "type": "contour"
                      }
                    ],
                    "contourcarpet": [
                      {
                        "colorbar": {
                          "outlinewidth": 0,
                          "ticks": ""
                        },
                        "type": "contourcarpet"
                      }
                    ],
                    "heatmap": [
                      {
                        "colorbar": {
                          "outlinewidth": 0,
                          "ticks": ""
                        },
                        "colorscale": [
                          [
                            0,
                            "#0d0887"
                          ],
                          [
                            0.1111111111111111,
                            "#46039f"
                          ],
                          [
                            0.2222222222222222,
                            "#7201a8"
                          ],
                          [
                            0.3333333333333333,
                            "#9c179e"
                          ],
                          [
                            0.4444444444444444,
                            "#bd3786"
                          ],
                          [
                            0.5555555555555556,
                            "#d8576b"
                          ],
                          [
                            0.6666666666666666,
                            "#ed7953"
                          ],
                          [
                            0.7777777777777778,
                            "#fb9f3a"
                          ],
                          [
                            0.8888888888888888,
                            "#fdca26"
                          ],
                          [
                            1,
                            "#f0f921"
                          ]
                        ],
                        "type": "heatmap"
                      }
                    ],
                    "heatmapgl": [
                      {
                        "colorbar": {
                          "outlinewidth": 0,
                          "ticks": ""
                        },
                        "colorscale": [
                          [
                            0,
                            "#0d0887"
                          ],
                          [
                            0.1111111111111111,
                            "#46039f"
                          ],
                          [
                            0.2222222222222222,
                            "#7201a8"
                          ],
                          [
                            0.3333333333333333,
                            "#9c179e"
                          ],
                          [
                            0.4444444444444444,
                            "#bd3786"
                          ],
                          [
                            0.5555555555555556,
                            "#d8576b"
                          ],
                          [
                            0.6666666666666666,
                            "#ed7953"
                          ],
                          [
                            0.7777777777777778,
                            "#fb9f3a"
                          ],
                          [
                            0.8888888888888888,
                            "#fdca26"
                          ],
                          [
                            1,
                            "#f0f921"
                          ]
                        ],
                        "type": "heatmapgl"
                      }
                    ],
                    "histogram": [
                      {
                        "marker": {
                          "pattern": {
                            "fillmode": "overlay",
                            "size": 10,
                            "solidity": 0.2
                          }
                        },
                        "type": "histogram"
                      }
                    ],
                    "histogram2d": [
                      {
                        "colorbar": {
                          "outlinewidth": 0,
                          "ticks": ""
                        },
                        "colorscale": [
                          [
                            0,
                            "#0d0887"
                          ],
                          [
                            0.1111111111111111,
                            "#46039f"
                          ],
                          [
                            0.2222222222222222,
                            "#7201a8"
                          ],
                          [
                            0.3333333333333333,
                            "#9c179e"
                          ],
                          [
                            0.4444444444444444,
                            "#bd3786"
                          ],
                          [
                            0.5555555555555556,
                            "#d8576b"
                          ],
                          [
                            0.6666666666666666,
                            "#ed7953"
                          ],
                          [
                            0.7777777777777778,
                            "#fb9f3a"
                          ],
                          [
                            0.8888888888888888,
                            "#fdca26"
                          ],
                          [
                            1,
                            "#f0f921"
                          ]
                        ],
                        "type": "histogram2d"
                      }
                    ],
                    "histogram2dcontour": [
                      {
                        "colorbar": {
                          "outlinewidth": 0,
                          "ticks": ""
                        },
                        "colorscale": [
                          [
                            0,
                            "#0d0887"
                          ],
                          [
                            0.1111111111111111,
                            "#46039f"
                          ],
                          [
                            0.2222222222222222,
                            "#7201a8"
                          ],
                          [
                            0.3333333333333333,
                            "#9c179e"
                          ],
                          [
                            0.4444444444444444,
                            "#bd3786"
                          ],
                          [
                            0.5555555555555556,
                            "#d8576b"
                          ],
                          [
                            0.6666666666666666,
                            "#ed7953"
                          ],
                          [
                            0.7777777777777778,
                            "#fb9f3a"
                          ],
                          [
                            0.8888888888888888,
                            "#fdca26"
                          ],
                          [
                            1,
                            "#f0f921"
                          ]
                        ],
                        "type": "histogram2dcontour"
                      }
                    ],
                    "mesh3d": [
                      {
                        "colorbar": {
                          "outlinewidth": 0,
                          "ticks": ""
                        },
                        "type": "mesh3d"
                      }
                    ],
                    "parcoords": [
                      {
                        "line": {
                          "colorbar": {
                            "outlinewidth": 0,
                            "ticks": ""
                          }
                        },
                        "type": "parcoords"
                      }
                    ],
                    "pie": [
                      {
                        "automargin": true,
                        "type": "pie"
                      }
                    ],
                    "scatter": [
                      {
                        "fillpattern": {
                          "fillmode": "overlay",
                          "size": 10,
                          "solidity": 0.2
                        },
                        "type": "scatter"
                      }
                    ],
                    "scatter3d": [
                      {
                        "line": {
                          "colorbar": {
                            "outlinewidth": 0,
                            "ticks": ""
                          }
                        },
                        "marker": {
                          "colorbar": {
                            "outlinewidth": 0,
                            "ticks": ""
                          }
                        },
                        "type": "scatter3d"
                      }
                    ],
                    "scattercarpet": [
                      {
                        "marker": {
                          "colorbar": {
                            "outlinewidth": 0,
                            "ticks": ""
                          }
                        },
                        "type": "scattercarpet"
                      }
                    ],
                    "scattergeo": [
                      {
                        "marker": {
                          "colorbar": {
                            "outlinewidth": 0,
                            "ticks": ""
                          }
                        },
                        "type": "scattergeo"
                      }
                    ],
                    "scattergl": [
                      {
                        "marker": {
                          "colorbar": {
                            "outlinewidth": 0,
                            "ticks": ""
                          }
                        },
                        "type": "scattergl"
                      }
                    ],
                    "scattermapbox": [
                      {
                        "marker": {
                          "colorbar": {
                            "outlinewidth": 0,
                            "ticks": ""
                          }
                        },
                        "type": "scattermapbox"
                      }
                    ],
                    "scatterpolar": [
                      {
                        "marker": {
                          "colorbar": {
                            "outlinewidth": 0,
                            "ticks": ""
                          }
                        },
                        "type": "scatterpolar"
                      }
                    ],
                    "scatterpolargl": [
                      {
                        "marker": {
                          "colorbar": {
                            "outlinewidth": 0,
                            "ticks": ""
                          }
                        },
                        "type": "scatterpolargl"
                      }
                    ],
                    "scatterternary": [
                      {
                        "marker": {
                          "colorbar": {
                            "outlinewidth": 0,
                            "ticks": ""
                          }
                        },
                        "type": "scatterternary"
                      }
                    ],
                    "surface": [
                      {
                        "colorbar": {
                          "outlinewidth": 0,
                          "ticks": ""
                        },
                        "colorscale": [
                          [
                            0,
                            "#0d0887"
                          ],
                          [
                            0.1111111111111111,
                            "#46039f"
                          ],
                          [
                            0.2222222222222222,
                            "#7201a8"
                          ],
                          [
                            0.3333333333333333,
                            "#9c179e"
                          ],
                          [
                            0.4444444444444444,
                            "#bd3786"
                          ],
                          [
                            0.5555555555555556,
                            "#d8576b"
                          ],
                          [
                            0.6666666666666666,
                            "#ed7953"
                          ],
                          [
                            0.7777777777777778,
                            "#fb9f3a"
                          ],
                          [
                            0.8888888888888888,
                            "#fdca26"
                          ],
                          [
                            1,
                            "#f0f921"
                          ]
                        ],
                        "type": "surface"
                      }
                    ],
                    "table": [
                      {
                        "cells": {
                          "fill": {
                            "color": "#EBF0F8"
                          },
                          "line": {
                            "color": "white"
                          }
                        },
                        "header": {
                          "fill": {
                            "color": "#C8D4E3"
                          },
                          "line": {
                            "color": "white"
                          }
                        },
                        "type": "table"
                      }
                    ]
                  },
                  "layout": {
                    "annotationdefaults": {
                      "arrowcolor": "#2a3f5f",
                      "arrowhead": 0,
                      "arrowwidth": 1
                    },
                    "autotypenumbers": "strict",
                    "coloraxis": {
                      "colorbar": {
                        "outlinewidth": 0,
                        "ticks": ""
                      }
                    },
                    "colorscale": {
                      "diverging": [
                        [
                          0,
                          "#8e0152"
                        ],
                        [
                          0.1,
                          "#c51b7d"
                        ],
                        [
                          0.2,
                          "#de77ae"
                        ],
                        [
                          0.3,
                          "#f1b6da"
                        ],
                        [
                          0.4,
                          "#fde0ef"
                        ],
                        [
                          0.5,
                          "#f7f7f7"
                        ],
                        [
                          0.6,
                          "#e6f5d0"
                        ],
                        [
                          0.7,
                          "#b8e186"
                        ],
                        [
                          0.8,
                          "#7fbc41"
                        ],
                        [
                          0.9,
                          "#4d9221"
                        ],
                        [
                          1,
                          "#276419"
                        ]
                      ],
                      "sequential": [
                        [
                          0,
                          "#0d0887"
                        ],
                        [
                          0.1111111111111111,
                          "#46039f"
                        ],
                        [
                          0.2222222222222222,
                          "#7201a8"
                        ],
                        [
                          0.3333333333333333,
                          "#9c179e"
                        ],
                        [
                          0.4444444444444444,
                          "#bd3786"
                        ],
                        [
                          0.5555555555555556,
                          "#d8576b"
                        ],
                        [
                          0.6666666666666666,
                          "#ed7953"
                        ],
                        [
                          0.7777777777777778,
                          "#fb9f3a"
                        ],
                        [
                          0.8888888888888888,
                          "#fdca26"
                        ],
                        [
                          1,
                          "#f0f921"
                        ]
                      ],
                      "sequentialminus": [
                        [
                          0,
                          "#0d0887"
                        ],
                        [
                          0.1111111111111111,
                          "#46039f"
                        ],
                        [
                          0.2222222222222222,
                          "#7201a8"
                        ],
                        [
                          0.3333333333333333,
                          "#9c179e"
                        ],
                        [
                          0.4444444444444444,
                          "#bd3786"
                        ],
                        [
                          0.5555555555555556,
                          "#d8576b"
                        ],
                        [
                          0.6666666666666666,
                          "#ed7953"
                        ],
                        [
                          0.7777777777777778,
                          "#fb9f3a"
                        ],
                        [
                          0.8888888888888888,
                          "#fdca26"
                        ],
                        [
                          1,
                          "#f0f921"
                        ]
                      ]
                    },
                    "colorway": [
                      "#636efa",
                      "#EF553B",
                      "#00cc96",
                      "#ab63fa",
                      "#FFA15A",
                      "#19d3f3",
                      "#FF6692",
                      "#B6E880",
                      "#FF97FF",
                      "#FECB52"
                    ],
                    "font": {
                      "color": "#2a3f5f"
                    },
                    "geo": {
                      "bgcolor": "white",
                      "lakecolor": "white",
                      "landcolor": "#E5ECF6",
                      "showlakes": true,
                      "showland": true,
                      "subunitcolor": "white"
                    },
                    "hoverlabel": {
                      "align": "left"
                    },
                    "hovermode": "closest",
                    "mapbox": {
                      "style": "light"
                    },
                    "paper_bgcolor": "white",
                    "plot_bgcolor": "#E5ECF6",
                    "polar": {
                      "angularaxis": {
                        "gridcolor": "white",
                        "linecolor": "white",
                        "ticks": ""
                      },
                      "bgcolor": "#E5ECF6",
                      "radialaxis": {
                        "gridcolor": "white",
                        "linecolor": "white",
                        "ticks": ""
                      }
                    },
                    "scene": {
                      "xaxis": {
                        "backgroundcolor": "#E5ECF6",
                        "gridcolor": "white",
                        "gridwidth": 2,
                        "linecolor": "white",
                        "showbackground": true,
                        "ticks": "",
                        "zerolinecolor": "white"
                      },
                      "yaxis": {
                        "backgroundcolor": "#E5ECF6",
                        "gridcolor": "white",
                        "gridwidth": 2,
                        "linecolor": "white",
                        "showbackground": true,
                        "ticks": "",
                        "zerolinecolor": "white"
                      },
                      "zaxis": {
                        "backgroundcolor": "#E5ECF6",
                        "gridcolor": "white",
                        "gridwidth": 2,
                        "linecolor": "white",
                        "showbackground": true,
                        "ticks": "",
                        "zerolinecolor": "white"
                      }
                    },
                    "shapedefaults": {
                      "line": {
                        "color": "#2a3f5f"
                      }
                    },
                    "ternary": {
                      "aaxis": {
                        "gridcolor": "white",
                        "linecolor": "white",
                        "ticks": ""
                      },
                      "baxis": {
                        "gridcolor": "white",
                        "linecolor": "white",
                        "ticks": ""
                      },
                      "bgcolor": "#E5ECF6",
                      "caxis": {
                        "gridcolor": "white",
                        "linecolor": "white",
                        "ticks": ""
                      }
                    },
                    "title": {
                      "x": 0.05
                    },
                    "xaxis": {
                      "automargin": true,
                      "gridcolor": "white",
                      "linecolor": "white",
                      "ticks": "",
                      "title": {
                        "standoff": 15
                      },
                      "zerolinecolor": "white",
                      "zerolinewidth": 2
                    },
                    "yaxis": {
                      "automargin": true,
                      "gridcolor": "white",
                      "linecolor": "white",
                      "ticks": "",
                      "title": {
                        "standoff": 15
                      },
                      "zerolinecolor": "white",
                      "zerolinewidth": 2
                    }
                  }
                },
                "title": {
                  "text": "Brasil"
                },
                "xaxis": {
                  "title": {
                    "text": "Time"
                  }
                },
                "yaxis": {
                  "title": {
                    "text": "Value"
                  }
                }
              }
            }
          },
          "metadata": {},
          "output_type": "display_data"
        },
        {
          "data": {
            "application/vnd.plotly.v1+json": {
              "config": {
                "plotlyServerURL": "https://plot.ly"
              },
              "data": [
                {
                  "line": {
                    "color": "black",
                    "dash": "dot"
                  },
                  "mode": "lines",
                  "name": "Baseline",
                  "type": "scatter",
                  "x": [
                    "2016-01-01T00:00:00.000000000",
                    "2016-02-01T00:00:00.000000000",
                    "2016-03-01T00:00:00.000000000",
                    "2016-04-01T00:00:00.000000000",
                    "2016-05-01T00:00:00.000000000",
                    "2016-06-01T00:00:00.000000000",
                    "2016-07-01T00:00:00.000000000",
                    "2016-08-01T00:00:00.000000000",
                    "2016-09-01T00:00:00.000000000",
                    "2016-10-01T00:00:00.000000000",
                    "2016-11-01T00:00:00.000000000",
                    "2016-12-01T00:00:00.000000000",
                    "2017-01-01T00:00:00.000000000",
                    "2017-02-01T00:00:00.000000000",
                    "2017-03-01T00:00:00.000000000",
                    "2017-04-01T00:00:00.000000000",
                    "2017-05-01T00:00:00.000000000",
                    "2017-06-01T00:00:00.000000000",
                    "2017-07-01T00:00:00.000000000",
                    "2017-08-01T00:00:00.000000000",
                    "2017-09-01T00:00:00.000000000",
                    "2017-10-01T00:00:00.000000000",
                    "2017-11-01T00:00:00.000000000",
                    "2017-12-01T00:00:00.000000000",
                    "2018-01-01T00:00:00.000000000",
                    "2018-02-01T00:00:00.000000000",
                    "2018-03-01T00:00:00.000000000",
                    "2018-04-01T00:00:00.000000000",
                    "2018-05-01T00:00:00.000000000",
                    "2018-06-01T00:00:00.000000000",
                    "2018-07-01T00:00:00.000000000",
                    "2018-08-01T00:00:00.000000000",
                    "2018-09-01T00:00:00.000000000",
                    "2018-10-01T00:00:00.000000000",
                    "2018-11-01T00:00:00.000000000",
                    "2018-12-01T00:00:00.000000000",
                    "2019-01-01T00:00:00.000000000",
                    "2019-02-01T00:00:00.000000000",
                    "2019-03-01T00:00:00.000000000",
                    "2019-04-01T00:00:00.000000000",
                    "2019-05-01T00:00:00.000000000",
                    "2019-06-01T00:00:00.000000000",
                    "2019-07-01T00:00:00.000000000",
                    "2019-08-01T00:00:00.000000000",
                    "2019-09-01T00:00:00.000000000",
                    "2019-10-01T00:00:00.000000000",
                    "2019-11-01T00:00:00.000000000",
                    "2019-12-01T00:00:00.000000000",
                    "2020-01-01T00:00:00.000000000",
                    "2020-02-01T00:00:00.000000000",
                    "2020-03-01T00:00:00.000000000",
                    "2020-04-01T00:00:00.000000000",
                    "2020-05-01T00:00:00.000000000",
                    "2020-06-01T00:00:00.000000000",
                    "2020-07-01T00:00:00.000000000",
                    "2020-08-01T00:00:00.000000000",
                    "2020-09-01T00:00:00.000000000",
                    "2020-10-01T00:00:00.000000000",
                    "2020-11-01T00:00:00.000000000",
                    "2020-12-01T00:00:00.000000000",
                    "2021-01-01T00:00:00.000000000",
                    "2021-02-01T00:00:00.000000000",
                    "2021-03-01T00:00:00.000000000",
                    "2021-04-01T00:00:00.000000000",
                    "2021-05-01T00:00:00.000000000",
                    "2021-06-01T00:00:00.000000000",
                    "2021-07-01T00:00:00.000000000",
                    "2021-08-01T00:00:00.000000000",
                    "2021-09-01T00:00:00.000000000",
                    "2021-10-01T00:00:00.000000000",
                    "2021-11-01T00:00:00.000000000",
                    "2021-12-01T00:00:00.000000000",
                    "2022-01-01T00:00:00.000000000",
                    "2022-02-01T00:00:00.000000000",
                    "2022-03-01T00:00:00.000000000",
                    "2022-04-01T00:00:00.000000000",
                    "2022-05-01T00:00:00.000000000",
                    "2022-06-01T00:00:00.000000000",
                    "2022-07-01T00:00:00.000000000",
                    "2022-08-01T00:00:00.000000000",
                    "2022-09-01T00:00:00.000000000",
                    "2022-10-01T00:00:00.000000000",
                    "2022-11-01T00:00:00.000000000",
                    "2022-12-01T00:00:00.000000000",
                    "2023-01-01T00:00:00.000000000",
                    "2023-02-01T00:00:00.000000000",
                    "2023-03-01T00:00:00.000000000",
                    "2023-04-01T00:00:00.000000000",
                    "2023-05-01T00:00:00.000000000",
                    "2023-06-01T00:00:00.000000000",
                    "2023-07-01T00:00:00.000000000",
                    "2023-08-01T00:00:00.000000000",
                    "2023-09-01T00:00:00.000000000",
                    "2023-10-01T00:00:00.000000000",
                    "2023-11-01T00:00:00.000000000",
                    "2023-12-01T00:00:00.000000000",
                    "2024-01-01T00:00:00.000000000",
                    "2024-02-01T00:00:00.000000000",
                    "2024-03-01T00:00:00.000000000",
                    "2024-04-01T00:00:00.000000000",
                    "2024-05-01T00:00:00.000000000",
                    "2024-06-01T00:00:00.000000000",
                    "2024-07-01T00:00:00.000000000",
                    "2024-08-01T00:00:00.000000000",
                    "2024-09-01T00:00:00.000000000",
                    "2024-10-01T00:00:00.000000000",
                    "2024-11-01T00:00:00.000000000",
                    "2024-12-01T00:00:00.000000000"
                  ],
                  "y": [
                    15.408108256626369,
                    15.513861537578132,
                    15.620340654320112,
                    15.727550588613518,
                    15.835496356411817,
                    15.94418300809536,
                    16.05361562870772,
                    16.163799338193552,
                    16.274739291638188,
                    16.38644067950877,
                    16.49890872789715,
                    16.612148698764337,
                    16.72616589018675,
                    16.84096563660404,
                    16.95655330906869,
                    17.072934315497328,
                    17.190114100923704,
                    17.308098147753473,
                    17.426891976020674,
                    17.54650114364602,
                    17.666931246696887,
                    17.7881879196492,
                    17.910276835650972,
                    18.0332037067878,
                    18.15697428435005,
                    18.281594359102,
                    18.407069761552712,
                    18.533406362228867,
                    18.66061007194937,
                    18.78868684210197,
                    18.917642664921633,
                    19.04748357377092,
                    19.1782156434223,
                    19.309844990342295,
                    19.44237777297774,
                    19.575820192043803,
                    19.71017849081421,
                    19.845458955413235,
                    19.981667915109902,
                    20.118811742614017,
                    20.256896854374407,
                    20.395929710879052,
                    20.53591681695741,
                    20.676864722084694,
                    20.81878002068833,
                    20.9616693524565,
                    21.10553940264874,
                    21.250396902408788,
                    21.396248629079416,
                    21.543101406519625,
                    21.690962105423804,
                    21.839837643643275,
                    21.98973498650987,
                    22.140661147161893,
                    22.292623186872166,
                    22.445628215378466,
                    22.599683391216104,
                    22.75479592205287,
                    22.910973065026294,
                    23.068222127083086,
                    23.226550465321115,
                    23.385965487333507,
                    23.54647465155533,
                    23.708085467612428,
                    23.870805496672894,
                    24.03464235180071,
                    24.199603698312032,
                    24.365697254133746,
                    24.532930790164624,
                    24.701312130638843,
                    24.870849153492074,
                    25.041549790730073,
                    25.21342202879979,
                    25.386473908962984,
                    25.56071352767248,
                    25.73614903695099,
                    25.91278864477246,
                    26.090640615446144,
                    26.269713270003216,
                    26.45001498658613,
                    26.63155420084054,
                    26.814339406310044,
                    26.998379154833497,
                    27.183682056945152,
                    27.370256782277526,
                    27.55811205996702,
                    27.74725667906228,
                    27.937699488935426,
                    28.129449399696142,
                    28.322515382608433,
                    28.516906470510463,
                    28.71263175823708,
                    28.909700403045424,
                    29.10812162504325,
                    29.30790470762042,
                    29.509058997883134,
                    29.711593907091295,
                    29.91551891109885,
                    30.1208435507971,
                    30.327577432561068,
                    30.535730228698956,
                    30.74531167790471,
                    30.956331585713635,
                    31.168799824961127,
                    31.38272633624462,
                    31.598121128388694,
                    31.814994278913275,
                    32.033355934505224
                  ]
                },
                {
                  "marker": {
                    "color": "black"
                  },
                  "mode": "markers",
                  "name": "Real",
                  "type": "scatter",
                  "x": [
                    "2016-01-01T00:00:00.000000000",
                    "2016-02-01T00:00:00.000000000",
                    "2016-03-01T00:00:00.000000000",
                    "2016-04-01T00:00:00.000000000",
                    "2016-05-01T00:00:00.000000000",
                    "2016-06-01T00:00:00.000000000",
                    "2016-07-01T00:00:00.000000000",
                    "2016-08-01T00:00:00.000000000",
                    "2016-09-01T00:00:00.000000000",
                    "2016-10-01T00:00:00.000000000",
                    "2016-11-01T00:00:00.000000000",
                    "2016-12-01T00:00:00.000000000",
                    "2017-01-01T00:00:00.000000000",
                    "2017-02-01T00:00:00.000000000",
                    "2017-03-01T00:00:00.000000000",
                    "2017-04-01T00:00:00.000000000",
                    "2017-05-01T00:00:00.000000000",
                    "2017-06-01T00:00:00.000000000",
                    "2017-07-01T00:00:00.000000000",
                    "2017-08-01T00:00:00.000000000",
                    "2017-09-01T00:00:00.000000000",
                    "2017-10-01T00:00:00.000000000",
                    "2017-11-01T00:00:00.000000000",
                    "2017-12-01T00:00:00.000000000",
                    "2018-01-01T00:00:00.000000000",
                    "2018-02-01T00:00:00.000000000",
                    "2018-03-01T00:00:00.000000000",
                    "2018-04-01T00:00:00.000000000",
                    "2018-05-01T00:00:00.000000000",
                    "2018-06-01T00:00:00.000000000",
                    "2018-07-01T00:00:00.000000000",
                    "2018-08-01T00:00:00.000000000",
                    "2018-09-01T00:00:00.000000000",
                    "2018-10-01T00:00:00.000000000",
                    "2018-11-01T00:00:00.000000000",
                    "2018-12-01T00:00:00.000000000",
                    "2019-01-01T00:00:00.000000000",
                    "2019-02-01T00:00:00.000000000",
                    "2019-03-01T00:00:00.000000000",
                    "2019-04-01T00:00:00.000000000",
                    "2019-05-01T00:00:00.000000000",
                    "2019-06-01T00:00:00.000000000",
                    "2019-07-01T00:00:00.000000000",
                    "2019-08-01T00:00:00.000000000",
                    "2019-09-01T00:00:00.000000000",
                    "2019-10-01T00:00:00.000000000",
                    "2019-11-01T00:00:00.000000000",
                    "2019-12-01T00:00:00.000000000",
                    "2020-01-01T00:00:00.000000000",
                    "2020-02-01T00:00:00.000000000",
                    "2020-03-01T00:00:00.000000000",
                    "2020-04-01T00:00:00.000000000",
                    "2020-05-01T00:00:00.000000000",
                    "2020-06-01T00:00:00.000000000",
                    "2020-07-01T00:00:00.000000000",
                    "2020-08-01T00:00:00.000000000",
                    "2020-09-01T00:00:00.000000000",
                    "2020-10-01T00:00:00.000000000",
                    "2020-11-01T00:00:00.000000000",
                    "2020-12-01T00:00:00.000000000",
                    "2021-01-01T00:00:00.000000000",
                    "2021-02-01T00:00:00.000000000",
                    "2021-03-01T00:00:00.000000000",
                    "2021-04-01T00:00:00.000000000",
                    "2021-05-01T00:00:00.000000000",
                    "2021-06-01T00:00:00.000000000",
                    "2021-07-01T00:00:00.000000000",
                    "2021-08-01T00:00:00.000000000",
                    "2021-09-01T00:00:00.000000000",
                    "2021-10-01T00:00:00.000000000",
                    "2021-11-01T00:00:00.000000000",
                    "2021-12-01T00:00:00.000000000",
                    "2022-01-01T00:00:00.000000000",
                    "2022-02-01T00:00:00.000000000",
                    "2022-03-01T00:00:00.000000000",
                    "2022-04-01T00:00:00.000000000",
                    "2022-05-01T00:00:00.000000000",
                    "2022-06-01T00:00:00.000000000",
                    "2022-07-01T00:00:00.000000000",
                    "2022-08-01T00:00:00.000000000",
                    "2022-09-01T00:00:00.000000000",
                    "2022-10-01T00:00:00.000000000",
                    "2022-11-01T00:00:00.000000000",
                    "2022-12-01T00:00:00.000000000",
                    "2023-01-01T00:00:00.000000000",
                    "2023-02-01T00:00:00.000000000",
                    "2023-03-01T00:00:00.000000000",
                    "2023-04-01T00:00:00.000000000",
                    "2023-05-01T00:00:00.000000000",
                    "2023-06-01T00:00:00.000000000",
                    "2023-07-01T00:00:00.000000000",
                    "2023-08-01T00:00:00.000000000",
                    "2023-09-01T00:00:00.000000000",
                    "2023-10-01T00:00:00.000000000",
                    "2023-11-01T00:00:00.000000000",
                    "2023-12-01T00:00:00.000000000",
                    "2024-01-01T00:00:00.000000000",
                    "2024-02-01T00:00:00.000000000",
                    "2024-03-01T00:00:00.000000000",
                    "2024-04-01T00:00:00.000000000",
                    "2024-05-01T00:00:00.000000000",
                    "2024-06-01T00:00:00.000000000",
                    "2024-07-01T00:00:00.000000000",
                    "2024-08-01T00:00:00.000000000",
                    "2024-09-01T00:00:00.000000000",
                    "2024-10-01T00:00:00.000000000",
                    "2024-11-01T00:00:00.000000000",
                    "2024-12-01T00:00:00.000000000"
                  ],
                  "y": [
                    10.941401389358143,
                    11.153289500889054,
                    10.147589055629307,
                    10.443089808801592,
                    11.550837358963411,
                    11.956852961061964,
                    12.222830662100645,
                    12.053856592078645,
                    10.922161403693112,
                    12.108456632832628,
                    11.24456421169504,
                    11.476098523162246,
                    12.883236592571883,
                    13.103285658281703,
                    12.353367819075748,
                    12.88020271632866,
                    14.026221643619367,
                    14.724024083269354,
                    15.172998671998114,
                    16.743517991134446,
                    17.50080948783229,
                    18.551725122756768,
                    19.24970574031138,
                    19.018004307552964,
                    19.46595158061714,
                    20.15976295663337,
                    19.575593794663096,
                    18.94855506346339,
                    20.153266306238436,
                    22.438699931614742,
                    21.94833973527101,
                    22.202889333406468,
                    22.330103217435365,
                    22.098739342961768,
                    21.768217460015585,
                    21.637351521758603,
                    21.07423466406934,
                    21.675527084642635,
                    21.237596191071294,
                    19.931663643835805,
                    20.26943065317726,
                    21.23602606289089,
                    22.340853510062782,
                    24.309228204013042,
                    25.432281982612057,
                    25.118195167354948,
                    24.297504041333756,
                    24.971490093771628,
                    24.836732424679976,
                    24.137818176883478,
                    24.75752642998163,
                    30.65261778875609,
                    29.301670858285537,
                    27.193490120468116,
                    24.089710836540856,
                    23.74104219612153,
                    25.804027159581796,
                    26.77968851033053,
                    25.878678438366165,
                    24.107470616422297,
                    24.6740191716648,
                    25.344051080326093,
                    23.35680721884366,
                    25.011219700585134,
                    23.26195543586848,
                    25.29701485722184,
                    25.651590119006016,
                    27.5704057061705,
                    29.16117018095997,
                    28.002797679929436,
                    27.78879468166834,
                    25.400022596845012,
                    17.618142896302498,
                    23.848139318214447,
                    27.546137057621213,
                    27.30054765177304,
                    26.640351164542864,
                    22.90007569717366,
                    25.184260912166287,
                    29.105037934073167,
                    30.626012269217316,
                    28.648598238113003,
                    27.254421117690452,
                    24.65804742760372,
                    29.3767082567674,
                    29.353353450896446,
                    27.475231461451934,
                    25.904325392468987,
                    27.497241589783318,
                    29.259569217514947,
                    29.95301692636741,
                    31.239758005114915,
                    32.125805445422934,
                    30.656477577134357,
                    30.30209761429681,
                    29.42344365830787,
                    29.995833272263205,
                    26.689974187773625,
                    25.755695538993272,
                    25.50803046568807,
                    26.94564098238045,
                    29.694326911726467,
                    30.674832310812995,
                    30.998612801985313,
                    30.824555202805175,
                    31.499143195822324,
                    29.985980449816974,
                    29.58332957744388
                  ]
                },
                {
                  "line": {
                    "color": "purple"
                  },
                  "mode": "lines",
                  "name": "Full model",
                  "type": "scatter",
                  "x": [
                    "2016-01-01T00:00:00.000000000",
                    "2016-02-01T00:00:00.000000000",
                    "2016-03-01T00:00:00.000000000",
                    "2016-04-01T00:00:00.000000000",
                    "2016-05-01T00:00:00.000000000",
                    "2016-06-01T00:00:00.000000000",
                    "2016-07-01T00:00:00.000000000",
                    "2016-08-01T00:00:00.000000000",
                    "2016-09-01T00:00:00.000000000",
                    "2016-10-01T00:00:00.000000000",
                    "2016-11-01T00:00:00.000000000",
                    "2016-12-01T00:00:00.000000000",
                    "2017-01-01T00:00:00.000000000",
                    "2017-02-01T00:00:00.000000000",
                    "2017-03-01T00:00:00.000000000",
                    "2017-04-01T00:00:00.000000000",
                    "2017-05-01T00:00:00.000000000",
                    "2017-06-01T00:00:00.000000000",
                    "2017-07-01T00:00:00.000000000",
                    "2017-08-01T00:00:00.000000000",
                    "2017-09-01T00:00:00.000000000",
                    "2017-10-01T00:00:00.000000000",
                    "2017-11-01T00:00:00.000000000",
                    "2017-12-01T00:00:00.000000000",
                    "2018-01-01T00:00:00.000000000",
                    "2018-02-01T00:00:00.000000000",
                    "2018-03-01T00:00:00.000000000",
                    "2018-04-01T00:00:00.000000000",
                    "2018-05-01T00:00:00.000000000",
                    "2018-06-01T00:00:00.000000000",
                    "2018-07-01T00:00:00.000000000",
                    "2018-08-01T00:00:00.000000000",
                    "2018-09-01T00:00:00.000000000",
                    "2018-10-01T00:00:00.000000000",
                    "2018-11-01T00:00:00.000000000",
                    "2018-12-01T00:00:00.000000000",
                    "2019-01-01T00:00:00.000000000",
                    "2019-02-01T00:00:00.000000000",
                    "2019-03-01T00:00:00.000000000",
                    "2019-04-01T00:00:00.000000000",
                    "2019-05-01T00:00:00.000000000",
                    "2019-06-01T00:00:00.000000000",
                    "2019-07-01T00:00:00.000000000",
                    "2019-08-01T00:00:00.000000000",
                    "2019-09-01T00:00:00.000000000",
                    "2019-10-01T00:00:00.000000000",
                    "2019-11-01T00:00:00.000000000",
                    "2019-12-01T00:00:00.000000000",
                    "2020-01-01T00:00:00.000000000",
                    "2020-02-01T00:00:00.000000000",
                    "2020-03-01T00:00:00.000000000",
                    "2020-04-01T00:00:00.000000000",
                    "2020-05-01T00:00:00.000000000",
                    "2020-06-01T00:00:00.000000000",
                    "2020-07-01T00:00:00.000000000",
                    "2020-08-01T00:00:00.000000000",
                    "2020-09-01T00:00:00.000000000",
                    "2020-10-01T00:00:00.000000000",
                    "2020-11-01T00:00:00.000000000",
                    "2020-12-01T00:00:00.000000000",
                    "2021-01-01T00:00:00.000000000",
                    "2021-02-01T00:00:00.000000000",
                    "2021-03-01T00:00:00.000000000",
                    "2021-04-01T00:00:00.000000000",
                    "2021-05-01T00:00:00.000000000",
                    "2021-06-01T00:00:00.000000000",
                    "2021-07-01T00:00:00.000000000",
                    "2021-08-01T00:00:00.000000000",
                    "2021-09-01T00:00:00.000000000",
                    "2021-10-01T00:00:00.000000000",
                    "2021-11-01T00:00:00.000000000",
                    "2021-12-01T00:00:00.000000000",
                    "2022-01-01T00:00:00.000000000",
                    "2022-02-01T00:00:00.000000000",
                    "2022-03-01T00:00:00.000000000",
                    "2022-04-01T00:00:00.000000000",
                    "2022-05-01T00:00:00.000000000",
                    "2022-06-01T00:00:00.000000000",
                    "2022-07-01T00:00:00.000000000",
                    "2022-08-01T00:00:00.000000000",
                    "2022-09-01T00:00:00.000000000",
                    "2022-10-01T00:00:00.000000000",
                    "2022-11-01T00:00:00.000000000",
                    "2022-12-01T00:00:00.000000000",
                    "2023-01-01T00:00:00.000000000",
                    "2023-02-01T00:00:00.000000000",
                    "2023-03-01T00:00:00.000000000",
                    "2023-04-01T00:00:00.000000000",
                    "2023-05-01T00:00:00.000000000",
                    "2023-06-01T00:00:00.000000000",
                    "2023-07-01T00:00:00.000000000",
                    "2023-08-01T00:00:00.000000000",
                    "2023-09-01T00:00:00.000000000",
                    "2023-10-01T00:00:00.000000000",
                    "2023-11-01T00:00:00.000000000",
                    "2023-12-01T00:00:00.000000000",
                    "2024-01-01T00:00:00.000000000",
                    "2024-02-01T00:00:00.000000000",
                    "2024-03-01T00:00:00.000000000",
                    "2024-04-01T00:00:00.000000000",
                    "2024-05-01T00:00:00.000000000",
                    "2024-06-01T00:00:00.000000000",
                    "2024-07-01T00:00:00.000000000",
                    "2024-08-01T00:00:00.000000000",
                    "2024-09-01T00:00:00.000000000",
                    "2024-10-01T00:00:00.000000000",
                    "2024-11-01T00:00:00.000000000",
                    "2024-12-01T00:00:00.000000000"
                  ],
                  "y": [
                    15.408108256626369,
                    15.513861537578132,
                    15.620340654320112,
                    15.727550588613518,
                    15.835496356411817,
                    15.94418300809536,
                    16.05361562870772,
                    16.163799338193552,
                    16.274739291638188,
                    16.38644067950877,
                    16.49890872789715,
                    16.612148698764337,
                    16.72616589018675,
                    16.84096563660404,
                    16.95655330906869,
                    17.072934315497328,
                    17.190114100923704,
                    17.308098147753473,
                    17.426891976020674,
                    17.54650114364602,
                    17.666931246696887,
                    17.7881879196492,
                    17.910276835650972,
                    18.0332037067878,
                    18.15697428435005,
                    18.281594359102,
                    18.407069761552712,
                    18.533406362228867,
                    18.66061007194937,
                    18.78868684210197,
                    18.917642664921633,
                    19.04748357377092,
                    19.1782156434223,
                    19.309844990342295,
                    19.44237777297774,
                    19.575820192043803,
                    19.71017849081421,
                    19.845458955413235,
                    19.981667915109902,
                    20.118811742614017,
                    20.256896854374407,
                    20.395929710879052,
                    20.53591681695741,
                    20.676864722084694,
                    20.81878002068833,
                    20.9616693524565,
                    21.10553940264874,
                    21.250396902408788,
                    21.396248629079416,
                    21.543101406519625,
                    21.690962105423804,
                    26.44919447342972,
                    26.37354764030126,
                    26.298117163227374,
                    26.222902423412233,
                    26.14790280382986,
                    26.073117689219018,
                    25.998546466078132,
                    25.924188522660334,
                    25.85004324896838,
                    25.776110036749685,
                    25.702388279491267,
                    25.628877372414905,
                    25.55557671247199,
                    25.482485698338785,
                    25.4096037304113,
                    25.336930210800507,
                    25.26446454332738,
                    25.192206133518027,
                    25.120154388598756,
                    25.0483087174913,
                    24.976668530807903,
                    24.905233240846513,
                    24.83400226158596,
                    24.762975008681117,
                    25.73614903695099,
                    25.91278864477246,
                    26.090640615446144,
                    26.269713270003216,
                    26.45001498658613,
                    26.63155420084054,
                    26.814339406310044,
                    26.998379154833497,
                    27.183682056945152,
                    27.370256782277526,
                    27.55811205996702,
                    27.74725667906228,
                    27.937699488935426,
                    28.129449399696142,
                    28.322515382608433,
                    28.516906470510463,
                    28.71263175823708,
                    28.909700403045424,
                    29.10812162504325,
                    29.30790470762042,
                    29.509058997883134,
                    29.711593907091295,
                    29.91551891109885,
                    30.1208435507971,
                    30.327577432561068,
                    30.535730228698956,
                    30.74531167790471,
                    30.956331585713635,
                    31.168799824961127,
                    31.38272633624462,
                    31.598121128388694,
                    31.814994278913275,
                    32.033355934505224
                  ]
                }
              ],
              "layout": {
                "annotations": [
                  {
                    "arrowhead": 2,
                    "ax": 30,
                    "ay": -40,
                    "showarrow": true,
                    "text": "Pandemia",
                    "x": "2020-04-01",
                    "y": 32.125805445422934
                  },
                  {
                    "arrowhead": 2,
                    "ax": 30,
                    "ay": -40,
                    "showarrow": true,
                    "text": "Pos Pandemia",
                    "x": "2022-04-01",
                    "y": 32.125805445422934
                  }
                ],
                "legend": {
                  "title": {
                    "text": "Legend"
                  }
                },
                "shapes": [
                  {
                    "line": {
                      "color": "black",
                      "dash": "dash"
                    },
                    "type": "line",
                    "x0": "2020-04-01",
                    "x1": "2020-04-01",
                    "y0": 10.147589055629307,
                    "y1": 32.125805445422934
                  },
                  {
                    "line": {
                      "color": "black",
                      "dash": "dash"
                    },
                    "type": "line",
                    "x0": "2022-04-01",
                    "x1": "2022-04-01",
                    "y0": 10.147589055629307,
                    "y1": 32.125805445422934
                  }
                ],
                "template": {
                  "data": {
                    "bar": [
                      {
                        "error_x": {
                          "color": "#2a3f5f"
                        },
                        "error_y": {
                          "color": "#2a3f5f"
                        },
                        "marker": {
                          "line": {
                            "color": "#E5ECF6",
                            "width": 0.5
                          },
                          "pattern": {
                            "fillmode": "overlay",
                            "size": 10,
                            "solidity": 0.2
                          }
                        },
                        "type": "bar"
                      }
                    ],
                    "barpolar": [
                      {
                        "marker": {
                          "line": {
                            "color": "#E5ECF6",
                            "width": 0.5
                          },
                          "pattern": {
                            "fillmode": "overlay",
                            "size": 10,
                            "solidity": 0.2
                          }
                        },
                        "type": "barpolar"
                      }
                    ],
                    "carpet": [
                      {
                        "aaxis": {
                          "endlinecolor": "#2a3f5f",
                          "gridcolor": "white",
                          "linecolor": "white",
                          "minorgridcolor": "white",
                          "startlinecolor": "#2a3f5f"
                        },
                        "baxis": {
                          "endlinecolor": "#2a3f5f",
                          "gridcolor": "white",
                          "linecolor": "white",
                          "minorgridcolor": "white",
                          "startlinecolor": "#2a3f5f"
                        },
                        "type": "carpet"
                      }
                    ],
                    "choropleth": [
                      {
                        "colorbar": {
                          "outlinewidth": 0,
                          "ticks": ""
                        },
                        "type": "choropleth"
                      }
                    ],
                    "contour": [
                      {
                        "colorbar": {
                          "outlinewidth": 0,
                          "ticks": ""
                        },
                        "colorscale": [
                          [
                            0,
                            "#0d0887"
                          ],
                          [
                            0.1111111111111111,
                            "#46039f"
                          ],
                          [
                            0.2222222222222222,
                            "#7201a8"
                          ],
                          [
                            0.3333333333333333,
                            "#9c179e"
                          ],
                          [
                            0.4444444444444444,
                            "#bd3786"
                          ],
                          [
                            0.5555555555555556,
                            "#d8576b"
                          ],
                          [
                            0.6666666666666666,
                            "#ed7953"
                          ],
                          [
                            0.7777777777777778,
                            "#fb9f3a"
                          ],
                          [
                            0.8888888888888888,
                            "#fdca26"
                          ],
                          [
                            1,
                            "#f0f921"
                          ]
                        ],
                        "type": "contour"
                      }
                    ],
                    "contourcarpet": [
                      {
                        "colorbar": {
                          "outlinewidth": 0,
                          "ticks": ""
                        },
                        "type": "contourcarpet"
                      }
                    ],
                    "heatmap": [
                      {
                        "colorbar": {
                          "outlinewidth": 0,
                          "ticks": ""
                        },
                        "colorscale": [
                          [
                            0,
                            "#0d0887"
                          ],
                          [
                            0.1111111111111111,
                            "#46039f"
                          ],
                          [
                            0.2222222222222222,
                            "#7201a8"
                          ],
                          [
                            0.3333333333333333,
                            "#9c179e"
                          ],
                          [
                            0.4444444444444444,
                            "#bd3786"
                          ],
                          [
                            0.5555555555555556,
                            "#d8576b"
                          ],
                          [
                            0.6666666666666666,
                            "#ed7953"
                          ],
                          [
                            0.7777777777777778,
                            "#fb9f3a"
                          ],
                          [
                            0.8888888888888888,
                            "#fdca26"
                          ],
                          [
                            1,
                            "#f0f921"
                          ]
                        ],
                        "type": "heatmap"
                      }
                    ],
                    "heatmapgl": [
                      {
                        "colorbar": {
                          "outlinewidth": 0,
                          "ticks": ""
                        },
                        "colorscale": [
                          [
                            0,
                            "#0d0887"
                          ],
                          [
                            0.1111111111111111,
                            "#46039f"
                          ],
                          [
                            0.2222222222222222,
                            "#7201a8"
                          ],
                          [
                            0.3333333333333333,
                            "#9c179e"
                          ],
                          [
                            0.4444444444444444,
                            "#bd3786"
                          ],
                          [
                            0.5555555555555556,
                            "#d8576b"
                          ],
                          [
                            0.6666666666666666,
                            "#ed7953"
                          ],
                          [
                            0.7777777777777778,
                            "#fb9f3a"
                          ],
                          [
                            0.8888888888888888,
                            "#fdca26"
                          ],
                          [
                            1,
                            "#f0f921"
                          ]
                        ],
                        "type": "heatmapgl"
                      }
                    ],
                    "histogram": [
                      {
                        "marker": {
                          "pattern": {
                            "fillmode": "overlay",
                            "size": 10,
                            "solidity": 0.2
                          }
                        },
                        "type": "histogram"
                      }
                    ],
                    "histogram2d": [
                      {
                        "colorbar": {
                          "outlinewidth": 0,
                          "ticks": ""
                        },
                        "colorscale": [
                          [
                            0,
                            "#0d0887"
                          ],
                          [
                            0.1111111111111111,
                            "#46039f"
                          ],
                          [
                            0.2222222222222222,
                            "#7201a8"
                          ],
                          [
                            0.3333333333333333,
                            "#9c179e"
                          ],
                          [
                            0.4444444444444444,
                            "#bd3786"
                          ],
                          [
                            0.5555555555555556,
                            "#d8576b"
                          ],
                          [
                            0.6666666666666666,
                            "#ed7953"
                          ],
                          [
                            0.7777777777777778,
                            "#fb9f3a"
                          ],
                          [
                            0.8888888888888888,
                            "#fdca26"
                          ],
                          [
                            1,
                            "#f0f921"
                          ]
                        ],
                        "type": "histogram2d"
                      }
                    ],
                    "histogram2dcontour": [
                      {
                        "colorbar": {
                          "outlinewidth": 0,
                          "ticks": ""
                        },
                        "colorscale": [
                          [
                            0,
                            "#0d0887"
                          ],
                          [
                            0.1111111111111111,
                            "#46039f"
                          ],
                          [
                            0.2222222222222222,
                            "#7201a8"
                          ],
                          [
                            0.3333333333333333,
                            "#9c179e"
                          ],
                          [
                            0.4444444444444444,
                            "#bd3786"
                          ],
                          [
                            0.5555555555555556,
                            "#d8576b"
                          ],
                          [
                            0.6666666666666666,
                            "#ed7953"
                          ],
                          [
                            0.7777777777777778,
                            "#fb9f3a"
                          ],
                          [
                            0.8888888888888888,
                            "#fdca26"
                          ],
                          [
                            1,
                            "#f0f921"
                          ]
                        ],
                        "type": "histogram2dcontour"
                      }
                    ],
                    "mesh3d": [
                      {
                        "colorbar": {
                          "outlinewidth": 0,
                          "ticks": ""
                        },
                        "type": "mesh3d"
                      }
                    ],
                    "parcoords": [
                      {
                        "line": {
                          "colorbar": {
                            "outlinewidth": 0,
                            "ticks": ""
                          }
                        },
                        "type": "parcoords"
                      }
                    ],
                    "pie": [
                      {
                        "automargin": true,
                        "type": "pie"
                      }
                    ],
                    "scatter": [
                      {
                        "fillpattern": {
                          "fillmode": "overlay",
                          "size": 10,
                          "solidity": 0.2
                        },
                        "type": "scatter"
                      }
                    ],
                    "scatter3d": [
                      {
                        "line": {
                          "colorbar": {
                            "outlinewidth": 0,
                            "ticks": ""
                          }
                        },
                        "marker": {
                          "colorbar": {
                            "outlinewidth": 0,
                            "ticks": ""
                          }
                        },
                        "type": "scatter3d"
                      }
                    ],
                    "scattercarpet": [
                      {
                        "marker": {
                          "colorbar": {
                            "outlinewidth": 0,
                            "ticks": ""
                          }
                        },
                        "type": "scattercarpet"
                      }
                    ],
                    "scattergeo": [
                      {
                        "marker": {
                          "colorbar": {
                            "outlinewidth": 0,
                            "ticks": ""
                          }
                        },
                        "type": "scattergeo"
                      }
                    ],
                    "scattergl": [
                      {
                        "marker": {
                          "colorbar": {
                            "outlinewidth": 0,
                            "ticks": ""
                          }
                        },
                        "type": "scattergl"
                      }
                    ],
                    "scattermapbox": [
                      {
                        "marker": {
                          "colorbar": {
                            "outlinewidth": 0,
                            "ticks": ""
                          }
                        },
                        "type": "scattermapbox"
                      }
                    ],
                    "scatterpolar": [
                      {
                        "marker": {
                          "colorbar": {
                            "outlinewidth": 0,
                            "ticks": ""
                          }
                        },
                        "type": "scatterpolar"
                      }
                    ],
                    "scatterpolargl": [
                      {
                        "marker": {
                          "colorbar": {
                            "outlinewidth": 0,
                            "ticks": ""
                          }
                        },
                        "type": "scatterpolargl"
                      }
                    ],
                    "scatterternary": [
                      {
                        "marker": {
                          "colorbar": {
                            "outlinewidth": 0,
                            "ticks": ""
                          }
                        },
                        "type": "scatterternary"
                      }
                    ],
                    "surface": [
                      {
                        "colorbar": {
                          "outlinewidth": 0,
                          "ticks": ""
                        },
                        "colorscale": [
                          [
                            0,
                            "#0d0887"
                          ],
                          [
                            0.1111111111111111,
                            "#46039f"
                          ],
                          [
                            0.2222222222222222,
                            "#7201a8"
                          ],
                          [
                            0.3333333333333333,
                            "#9c179e"
                          ],
                          [
                            0.4444444444444444,
                            "#bd3786"
                          ],
                          [
                            0.5555555555555556,
                            "#d8576b"
                          ],
                          [
                            0.6666666666666666,
                            "#ed7953"
                          ],
                          [
                            0.7777777777777778,
                            "#fb9f3a"
                          ],
                          [
                            0.8888888888888888,
                            "#fdca26"
                          ],
                          [
                            1,
                            "#f0f921"
                          ]
                        ],
                        "type": "surface"
                      }
                    ],
                    "table": [
                      {
                        "cells": {
                          "fill": {
                            "color": "#EBF0F8"
                          },
                          "line": {
                            "color": "white"
                          }
                        },
                        "header": {
                          "fill": {
                            "color": "#C8D4E3"
                          },
                          "line": {
                            "color": "white"
                          }
                        },
                        "type": "table"
                      }
                    ]
                  },
                  "layout": {
                    "annotationdefaults": {
                      "arrowcolor": "#2a3f5f",
                      "arrowhead": 0,
                      "arrowwidth": 1
                    },
                    "autotypenumbers": "strict",
                    "coloraxis": {
                      "colorbar": {
                        "outlinewidth": 0,
                        "ticks": ""
                      }
                    },
                    "colorscale": {
                      "diverging": [
                        [
                          0,
                          "#8e0152"
                        ],
                        [
                          0.1,
                          "#c51b7d"
                        ],
                        [
                          0.2,
                          "#de77ae"
                        ],
                        [
                          0.3,
                          "#f1b6da"
                        ],
                        [
                          0.4,
                          "#fde0ef"
                        ],
                        [
                          0.5,
                          "#f7f7f7"
                        ],
                        [
                          0.6,
                          "#e6f5d0"
                        ],
                        [
                          0.7,
                          "#b8e186"
                        ],
                        [
                          0.8,
                          "#7fbc41"
                        ],
                        [
                          0.9,
                          "#4d9221"
                        ],
                        [
                          1,
                          "#276419"
                        ]
                      ],
                      "sequential": [
                        [
                          0,
                          "#0d0887"
                        ],
                        [
                          0.1111111111111111,
                          "#46039f"
                        ],
                        [
                          0.2222222222222222,
                          "#7201a8"
                        ],
                        [
                          0.3333333333333333,
                          "#9c179e"
                        ],
                        [
                          0.4444444444444444,
                          "#bd3786"
                        ],
                        [
                          0.5555555555555556,
                          "#d8576b"
                        ],
                        [
                          0.6666666666666666,
                          "#ed7953"
                        ],
                        [
                          0.7777777777777778,
                          "#fb9f3a"
                        ],
                        [
                          0.8888888888888888,
                          "#fdca26"
                        ],
                        [
                          1,
                          "#f0f921"
                        ]
                      ],
                      "sequentialminus": [
                        [
                          0,
                          "#0d0887"
                        ],
                        [
                          0.1111111111111111,
                          "#46039f"
                        ],
                        [
                          0.2222222222222222,
                          "#7201a8"
                        ],
                        [
                          0.3333333333333333,
                          "#9c179e"
                        ],
                        [
                          0.4444444444444444,
                          "#bd3786"
                        ],
                        [
                          0.5555555555555556,
                          "#d8576b"
                        ],
                        [
                          0.6666666666666666,
                          "#ed7953"
                        ],
                        [
                          0.7777777777777778,
                          "#fb9f3a"
                        ],
                        [
                          0.8888888888888888,
                          "#fdca26"
                        ],
                        [
                          1,
                          "#f0f921"
                        ]
                      ]
                    },
                    "colorway": [
                      "#636efa",
                      "#EF553B",
                      "#00cc96",
                      "#ab63fa",
                      "#FFA15A",
                      "#19d3f3",
                      "#FF6692",
                      "#B6E880",
                      "#FF97FF",
                      "#FECB52"
                    ],
                    "font": {
                      "color": "#2a3f5f"
                    },
                    "geo": {
                      "bgcolor": "white",
                      "lakecolor": "white",
                      "landcolor": "#E5ECF6",
                      "showlakes": true,
                      "showland": true,
                      "subunitcolor": "white"
                    },
                    "hoverlabel": {
                      "align": "left"
                    },
                    "hovermode": "closest",
                    "mapbox": {
                      "style": "light"
                    },
                    "paper_bgcolor": "white",
                    "plot_bgcolor": "#E5ECF6",
                    "polar": {
                      "angularaxis": {
                        "gridcolor": "white",
                        "linecolor": "white",
                        "ticks": ""
                      },
                      "bgcolor": "#E5ECF6",
                      "radialaxis": {
                        "gridcolor": "white",
                        "linecolor": "white",
                        "ticks": ""
                      }
                    },
                    "scene": {
                      "xaxis": {
                        "backgroundcolor": "#E5ECF6",
                        "gridcolor": "white",
                        "gridwidth": 2,
                        "linecolor": "white",
                        "showbackground": true,
                        "ticks": "",
                        "zerolinecolor": "white"
                      },
                      "yaxis": {
                        "backgroundcolor": "#E5ECF6",
                        "gridcolor": "white",
                        "gridwidth": 2,
                        "linecolor": "white",
                        "showbackground": true,
                        "ticks": "",
                        "zerolinecolor": "white"
                      },
                      "zaxis": {
                        "backgroundcolor": "#E5ECF6",
                        "gridcolor": "white",
                        "gridwidth": 2,
                        "linecolor": "white",
                        "showbackground": true,
                        "ticks": "",
                        "zerolinecolor": "white"
                      }
                    },
                    "shapedefaults": {
                      "line": {
                        "color": "#2a3f5f"
                      }
                    },
                    "ternary": {
                      "aaxis": {
                        "gridcolor": "white",
                        "linecolor": "white",
                        "ticks": ""
                      },
                      "baxis": {
                        "gridcolor": "white",
                        "linecolor": "white",
                        "ticks": ""
                      },
                      "bgcolor": "#E5ECF6",
                      "caxis": {
                        "gridcolor": "white",
                        "linecolor": "white",
                        "ticks": ""
                      }
                    },
                    "title": {
                      "x": 0.05
                    },
                    "xaxis": {
                      "automargin": true,
                      "gridcolor": "white",
                      "linecolor": "white",
                      "ticks": "",
                      "title": {
                        "standoff": 15
                      },
                      "zerolinecolor": "white",
                      "zerolinewidth": 2
                    },
                    "yaxis": {
                      "automargin": true,
                      "gridcolor": "white",
                      "linecolor": "white",
                      "ticks": "",
                      "title": {
                        "standoff": 15
                      },
                      "zerolinecolor": "white",
                      "zerolinewidth": 2
                    }
                  }
                },
                "title": {
                  "text": "centro_oeste"
                },
                "xaxis": {
                  "title": {
                    "text": "Time"
                  }
                },
                "yaxis": {
                  "title": {
                    "text": "Value"
                  }
                }
              }
            }
          },
          "metadata": {},
          "output_type": "display_data"
        },
        {
          "data": {
            "application/vnd.plotly.v1+json": {
              "config": {
                "plotlyServerURL": "https://plot.ly"
              },
              "data": [
                {
                  "line": {
                    "color": "black",
                    "dash": "dot"
                  },
                  "mode": "lines",
                  "name": "Baseline",
                  "type": "scatter",
                  "x": [
                    "2016-01-01T00:00:00.000000000",
                    "2016-02-01T00:00:00.000000000",
                    "2016-03-01T00:00:00.000000000",
                    "2016-04-01T00:00:00.000000000",
                    "2016-05-01T00:00:00.000000000",
                    "2016-06-01T00:00:00.000000000",
                    "2016-07-01T00:00:00.000000000",
                    "2016-08-01T00:00:00.000000000",
                    "2016-09-01T00:00:00.000000000",
                    "2016-10-01T00:00:00.000000000",
                    "2016-11-01T00:00:00.000000000",
                    "2016-12-01T00:00:00.000000000",
                    "2017-01-01T00:00:00.000000000",
                    "2017-02-01T00:00:00.000000000",
                    "2017-03-01T00:00:00.000000000",
                    "2017-04-01T00:00:00.000000000",
                    "2017-05-01T00:00:00.000000000",
                    "2017-06-01T00:00:00.000000000",
                    "2017-07-01T00:00:00.000000000",
                    "2017-08-01T00:00:00.000000000",
                    "2017-09-01T00:00:00.000000000",
                    "2017-10-01T00:00:00.000000000",
                    "2017-11-01T00:00:00.000000000",
                    "2017-12-01T00:00:00.000000000",
                    "2018-01-01T00:00:00.000000000",
                    "2018-02-01T00:00:00.000000000",
                    "2018-03-01T00:00:00.000000000",
                    "2018-04-01T00:00:00.000000000",
                    "2018-05-01T00:00:00.000000000",
                    "2018-06-01T00:00:00.000000000",
                    "2018-07-01T00:00:00.000000000",
                    "2018-08-01T00:00:00.000000000",
                    "2018-09-01T00:00:00.000000000",
                    "2018-10-01T00:00:00.000000000",
                    "2018-11-01T00:00:00.000000000",
                    "2018-12-01T00:00:00.000000000",
                    "2019-01-01T00:00:00.000000000",
                    "2019-02-01T00:00:00.000000000",
                    "2019-03-01T00:00:00.000000000",
                    "2019-04-01T00:00:00.000000000",
                    "2019-05-01T00:00:00.000000000",
                    "2019-06-01T00:00:00.000000000",
                    "2019-07-01T00:00:00.000000000",
                    "2019-08-01T00:00:00.000000000",
                    "2019-09-01T00:00:00.000000000",
                    "2019-10-01T00:00:00.000000000",
                    "2019-11-01T00:00:00.000000000",
                    "2019-12-01T00:00:00.000000000",
                    "2020-01-01T00:00:00.000000000",
                    "2020-02-01T00:00:00.000000000",
                    "2020-03-01T00:00:00.000000000",
                    "2020-04-01T00:00:00.000000000",
                    "2020-05-01T00:00:00.000000000",
                    "2020-06-01T00:00:00.000000000",
                    "2020-07-01T00:00:00.000000000",
                    "2020-08-01T00:00:00.000000000",
                    "2020-09-01T00:00:00.000000000",
                    "2020-10-01T00:00:00.000000000",
                    "2020-11-01T00:00:00.000000000",
                    "2020-12-01T00:00:00.000000000",
                    "2021-01-01T00:00:00.000000000",
                    "2021-02-01T00:00:00.000000000",
                    "2021-03-01T00:00:00.000000000",
                    "2021-04-01T00:00:00.000000000",
                    "2021-05-01T00:00:00.000000000",
                    "2021-06-01T00:00:00.000000000",
                    "2021-07-01T00:00:00.000000000",
                    "2021-08-01T00:00:00.000000000",
                    "2021-09-01T00:00:00.000000000",
                    "2021-10-01T00:00:00.000000000",
                    "2021-11-01T00:00:00.000000000",
                    "2021-12-01T00:00:00.000000000",
                    "2022-01-01T00:00:00.000000000",
                    "2022-02-01T00:00:00.000000000",
                    "2022-03-01T00:00:00.000000000",
                    "2022-04-01T00:00:00.000000000",
                    "2022-05-01T00:00:00.000000000",
                    "2022-06-01T00:00:00.000000000",
                    "2022-07-01T00:00:00.000000000",
                    "2022-08-01T00:00:00.000000000",
                    "2022-09-01T00:00:00.000000000",
                    "2022-10-01T00:00:00.000000000",
                    "2022-11-01T00:00:00.000000000",
                    "2022-12-01T00:00:00.000000000",
                    "2023-01-01T00:00:00.000000000",
                    "2023-02-01T00:00:00.000000000",
                    "2023-03-01T00:00:00.000000000",
                    "2023-04-01T00:00:00.000000000",
                    "2023-05-01T00:00:00.000000000",
                    "2023-06-01T00:00:00.000000000",
                    "2023-07-01T00:00:00.000000000",
                    "2023-08-01T00:00:00.000000000",
                    "2023-09-01T00:00:00.000000000",
                    "2023-10-01T00:00:00.000000000",
                    "2023-11-01T00:00:00.000000000",
                    "2023-12-01T00:00:00.000000000",
                    "2024-01-01T00:00:00.000000000",
                    "2024-02-01T00:00:00.000000000",
                    "2024-03-01T00:00:00.000000000",
                    "2024-04-01T00:00:00.000000000",
                    "2024-05-01T00:00:00.000000000",
                    "2024-06-01T00:00:00.000000000",
                    "2024-07-01T00:00:00.000000000",
                    "2024-08-01T00:00:00.000000000",
                    "2024-09-01T00:00:00.000000000",
                    "2024-10-01T00:00:00.000000000",
                    "2024-11-01T00:00:00.000000000",
                    "2024-12-01T00:00:00.000000000"
                  ],
                  "y": [
                    6.2043555111388375,
                    6.308566987480978,
                    6.414528852204621,
                    6.522270505713577,
                    6.631821842235628,
                    6.743213258117045,
                    6.856475660256423,
                    6.971640474680172,
                    7.088739655262056,
                    7.20780569258917,
                    7.328871622976856,
                    7.451971037635035,
                    7.577138091988482,
                    7.70440751515367,
                    7.833814619574783,
                    7.965395310821579,
                    8.099186097551838,
                    8.235224101641114,
                    8.373547068482658,
                    8.514193377460334,
                    8.657202052597446,
                    8.80261277338443,
                    8.950465885788397,
                    9.10080241344762,
                    9.253664069054036,
                    9.40909326592695,
                    9.567133129781103,
                    9.72782751069244,
                    9.891220995264842,
                    10.057358919001215,
                    10.226287378882379,
                    10.398053246157241,
                    10.572704179347777,
                    10.750288637472469,
                    10.930855893491863,
                    11.114456047979932,
                    11.301140043025088,
                    11.490959676364692,
                    11.683967615756963,
                    11.880217413594268,
                    12.079763521761919,
                    12.28266130674647,
                    12.48896706499783,
                    12.698738038549426,
                    12.912032430900652,
                    13.128909423166167,
                    13.349429190496402,
                    13.573652918773886,
                    13.801642821590008,
                    14.033462157506946,
                    14.269175247609505,
                    14.508847493351777,
                    14.752545394703601,
                    15.000336568601746,
                    15.252289767711071,
                    15.50847489950078,
                    15.768963045641097,
                    16.033826481725733,
                    16.30313869732565,
                    16.576974416379596,
                    16.855409617927172,
                    17.13852155719019,
                    17.426388787008005,
                    17.719091179632972,
                    18.016709948891993,
                    18.319327672720256,
                    18.627028316073492,
                    18.939897254225063,
                    19.258021296454384,
                    19.58148871013318,
                    19.910389245216376,
                    20.244814159144276,
                    20.584856242163056,
                    20.93060984307056,
                    21.282170895394486,
                    21.63963694401034,
                    22.003107172206416,
                    22.372682429203433,
                    22.74846525813632,
                    23.130559924506134,
                    23.519072445109696,
                    23.914110617455297,
                    24.31578404967241,
                    24.724204190923782,
                    25.139484362328368,
                    25.56173978840363,
                    25.991087629036034,
                    26.427647011988388,
                    26.871539065953343,
                    27.322886954162044,
                    27.78181590855718,
                    28.248453264540174,
                    28.722928496301893,
                    29.205373252746863,
                    29.695921394020814,
                    30.19470902865187,
                    30.701874551315417,
                    31.217558681233438,
                    31.741904501218798,
                    32.275057497375215,
                    32.817165599464225,
                    33.36837922195005,
                    33.92885130573391,
                    34.49873736058933,
                    35.07819550831028,
                    35.667386526583876,
                    36.26647389360014,
                    36.87562383341106
                  ]
                },
                {
                  "marker": {
                    "color": "black"
                  },
                  "mode": "markers",
                  "name": "Real",
                  "type": "scatter",
                  "x": [
                    "2016-01-01T00:00:00.000000000",
                    "2016-02-01T00:00:00.000000000",
                    "2016-03-01T00:00:00.000000000",
                    "2016-04-01T00:00:00.000000000",
                    "2016-05-01T00:00:00.000000000",
                    "2016-06-01T00:00:00.000000000",
                    "2016-07-01T00:00:00.000000000",
                    "2016-08-01T00:00:00.000000000",
                    "2016-09-01T00:00:00.000000000",
                    "2016-10-01T00:00:00.000000000",
                    "2016-11-01T00:00:00.000000000",
                    "2016-12-01T00:00:00.000000000",
                    "2017-01-01T00:00:00.000000000",
                    "2017-02-01T00:00:00.000000000",
                    "2017-03-01T00:00:00.000000000",
                    "2017-04-01T00:00:00.000000000",
                    "2017-05-01T00:00:00.000000000",
                    "2017-06-01T00:00:00.000000000",
                    "2017-07-01T00:00:00.000000000",
                    "2017-08-01T00:00:00.000000000",
                    "2017-09-01T00:00:00.000000000",
                    "2017-10-01T00:00:00.000000000",
                    "2017-11-01T00:00:00.000000000",
                    "2017-12-01T00:00:00.000000000",
                    "2018-01-01T00:00:00.000000000",
                    "2018-02-01T00:00:00.000000000",
                    "2018-03-01T00:00:00.000000000",
                    "2018-04-01T00:00:00.000000000",
                    "2018-05-01T00:00:00.000000000",
                    "2018-06-01T00:00:00.000000000",
                    "2018-07-01T00:00:00.000000000",
                    "2018-08-01T00:00:00.000000000",
                    "2018-09-01T00:00:00.000000000",
                    "2018-10-01T00:00:00.000000000",
                    "2018-11-01T00:00:00.000000000",
                    "2018-12-01T00:00:00.000000000",
                    "2019-01-01T00:00:00.000000000",
                    "2019-02-01T00:00:00.000000000",
                    "2019-03-01T00:00:00.000000000",
                    "2019-04-01T00:00:00.000000000",
                    "2019-05-01T00:00:00.000000000",
                    "2019-06-01T00:00:00.000000000",
                    "2019-07-01T00:00:00.000000000",
                    "2019-08-01T00:00:00.000000000",
                    "2019-09-01T00:00:00.000000000",
                    "2019-10-01T00:00:00.000000000",
                    "2019-11-01T00:00:00.000000000",
                    "2019-12-01T00:00:00.000000000",
                    "2020-01-01T00:00:00.000000000",
                    "2020-02-01T00:00:00.000000000",
                    "2020-03-01T00:00:00.000000000",
                    "2020-04-01T00:00:00.000000000",
                    "2020-05-01T00:00:00.000000000",
                    "2020-06-01T00:00:00.000000000",
                    "2020-07-01T00:00:00.000000000",
                    "2020-08-01T00:00:00.000000000",
                    "2020-09-01T00:00:00.000000000",
                    "2020-10-01T00:00:00.000000000",
                    "2020-11-01T00:00:00.000000000",
                    "2020-12-01T00:00:00.000000000",
                    "2021-01-01T00:00:00.000000000",
                    "2021-02-01T00:00:00.000000000",
                    "2021-03-01T00:00:00.000000000",
                    "2021-04-01T00:00:00.000000000",
                    "2021-05-01T00:00:00.000000000",
                    "2021-06-01T00:00:00.000000000",
                    "2021-07-01T00:00:00.000000000",
                    "2021-08-01T00:00:00.000000000",
                    "2021-09-01T00:00:00.000000000",
                    "2021-10-01T00:00:00.000000000",
                    "2021-11-01T00:00:00.000000000",
                    "2021-12-01T00:00:00.000000000",
                    "2022-01-01T00:00:00.000000000",
                    "2022-02-01T00:00:00.000000000",
                    "2022-03-01T00:00:00.000000000",
                    "2022-04-01T00:00:00.000000000",
                    "2022-05-01T00:00:00.000000000",
                    "2022-06-01T00:00:00.000000000",
                    "2022-07-01T00:00:00.000000000",
                    "2022-08-01T00:00:00.000000000",
                    "2022-09-01T00:00:00.000000000",
                    "2022-10-01T00:00:00.000000000",
                    "2022-11-01T00:00:00.000000000",
                    "2022-12-01T00:00:00.000000000",
                    "2023-01-01T00:00:00.000000000",
                    "2023-02-01T00:00:00.000000000",
                    "2023-03-01T00:00:00.000000000",
                    "2023-04-01T00:00:00.000000000",
                    "2023-05-01T00:00:00.000000000",
                    "2023-06-01T00:00:00.000000000",
                    "2023-07-01T00:00:00.000000000",
                    "2023-08-01T00:00:00.000000000",
                    "2023-09-01T00:00:00.000000000",
                    "2023-10-01T00:00:00.000000000",
                    "2023-11-01T00:00:00.000000000",
                    "2023-12-01T00:00:00.000000000",
                    "2024-01-01T00:00:00.000000000",
                    "2024-02-01T00:00:00.000000000",
                    "2024-03-01T00:00:00.000000000",
                    "2024-04-01T00:00:00.000000000",
                    "2024-05-01T00:00:00.000000000",
                    "2024-06-01T00:00:00.000000000",
                    "2024-07-01T00:00:00.000000000",
                    "2024-08-01T00:00:00.000000000",
                    "2024-09-01T00:00:00.000000000",
                    "2024-10-01T00:00:00.000000000",
                    "2024-11-01T00:00:00.000000000",
                    "2024-12-01T00:00:00.000000000"
                  ],
                  "y": [
                    5.766457016415087,
                    5.516293322003957,
                    5.290365071949884,
                    5.603113142030877,
                    5.913417330779171,
                    6.170016808023145,
                    6.382247363127151,
                    6.481325584572769,
                    6.821882839663747,
                    7.182647347457138,
                    6.817950343562167,
                    8.169502968393399,
                    8.024569825948522,
                    6.930884629122515,
                    6.855759813516739,
                    6.915325136100731,
                    7.130363360733383,
                    7.799731339936104,
                    7.447395767956693,
                    7.912965509091176,
                    8.33124730818472,
                    8.767716996603022,
                    9.345974525965527,
                    10.25139212736242,
                    9.934924627615038,
                    10.364572273762366,
                    9.772812014353818,
                    9.794934171336442,
                    10.088049809676264,
                    10.947821385266975,
                    10.922953218731625,
                    11.082071707096409,
                    11.162077929515979,
                    11.217281513116008,
                    11.44841758265281,
                    12.239685057189362,
                    11.129052530147401,
                    11.193839908721614,
                    11.312599303571249,
                    10.28780295517633,
                    10.61307207281938,
                    11.40448641127023,
                    11.898477709033605,
                    12.554882097192177,
                    12.684748300514352,
                    13.069878928685462,
                    13.665546295401732,
                    15.201931971156297,
                    15.396507034649154,
                    15.42349443918599,
                    16.518484331949395,
                    22.83469258555841,
                    20.55225631690818,
                    19.430217956098563,
                    18.940872118118495,
                    19.02654126400163,
                    19.449035714856365,
                    18.632711894357367,
                    20.230605271230953,
                    22.001421047925533,
                    21.34479492970059,
                    19.845450406854205,
                    18.72317724093399,
                    18.92996766962941,
                    17.41273445499207,
                    19.04877270887256,
                    20.371109776405405,
                    21.133830842863738,
                    22.447081906765614,
                    21.569638132883004,
                    21.156718183897492,
                    21.695278403262776,
                    18.18297035157528,
                    22.34628289387481,
                    22.42361165999409,
                    21.188387512731346,
                    21.64215794487427,
                    21.825679976390816,
                    21.98314718586636,
                    23.162199908231734,
                    26.406199474246844,
                    25.664540256439423,
                    24.518217222616702,
                    25.33609619639925,
                    28.411116437131337,
                    28.59386320226569,
                    25.77494573881397,
                    24.662808352398937,
                    28.667254334654018,
                    28.0828537141462,
                    28.567880283541903,
                    28.21496190543768,
                    31.0406552221982,
                    30.604766713474078,
                    30.34966970119551,
                    30.349132610787063,
                    34.30808238984768,
                    32.66218148909552,
                    29.40533652619916,
                    28.881718485485656,
                    32.56295122808777,
                    33.636567383961115,
                    34.074131521420576,
                    32.924559616801616,
                    33.47998116355968,
                    33.603056439249286,
                    33.46483801883145,
                    33.17171435314598
                  ]
                },
                {
                  "line": {
                    "color": "purple"
                  },
                  "mode": "lines",
                  "name": "Full model",
                  "type": "scatter",
                  "x": [
                    "2016-01-01T00:00:00.000000000",
                    "2016-02-01T00:00:00.000000000",
                    "2016-03-01T00:00:00.000000000",
                    "2016-04-01T00:00:00.000000000",
                    "2016-05-01T00:00:00.000000000",
                    "2016-06-01T00:00:00.000000000",
                    "2016-07-01T00:00:00.000000000",
                    "2016-08-01T00:00:00.000000000",
                    "2016-09-01T00:00:00.000000000",
                    "2016-10-01T00:00:00.000000000",
                    "2016-11-01T00:00:00.000000000",
                    "2016-12-01T00:00:00.000000000",
                    "2017-01-01T00:00:00.000000000",
                    "2017-02-01T00:00:00.000000000",
                    "2017-03-01T00:00:00.000000000",
                    "2017-04-01T00:00:00.000000000",
                    "2017-05-01T00:00:00.000000000",
                    "2017-06-01T00:00:00.000000000",
                    "2017-07-01T00:00:00.000000000",
                    "2017-08-01T00:00:00.000000000",
                    "2017-09-01T00:00:00.000000000",
                    "2017-10-01T00:00:00.000000000",
                    "2017-11-01T00:00:00.000000000",
                    "2017-12-01T00:00:00.000000000",
                    "2018-01-01T00:00:00.000000000",
                    "2018-02-01T00:00:00.000000000",
                    "2018-03-01T00:00:00.000000000",
                    "2018-04-01T00:00:00.000000000",
                    "2018-05-01T00:00:00.000000000",
                    "2018-06-01T00:00:00.000000000",
                    "2018-07-01T00:00:00.000000000",
                    "2018-08-01T00:00:00.000000000",
                    "2018-09-01T00:00:00.000000000",
                    "2018-10-01T00:00:00.000000000",
                    "2018-11-01T00:00:00.000000000",
                    "2018-12-01T00:00:00.000000000",
                    "2019-01-01T00:00:00.000000000",
                    "2019-02-01T00:00:00.000000000",
                    "2019-03-01T00:00:00.000000000",
                    "2019-04-01T00:00:00.000000000",
                    "2019-05-01T00:00:00.000000000",
                    "2019-06-01T00:00:00.000000000",
                    "2019-07-01T00:00:00.000000000",
                    "2019-08-01T00:00:00.000000000",
                    "2019-09-01T00:00:00.000000000",
                    "2019-10-01T00:00:00.000000000",
                    "2019-11-01T00:00:00.000000000",
                    "2019-12-01T00:00:00.000000000",
                    "2020-01-01T00:00:00.000000000",
                    "2020-02-01T00:00:00.000000000",
                    "2020-03-01T00:00:00.000000000",
                    "2020-04-01T00:00:00.000000000",
                    "2020-05-01T00:00:00.000000000",
                    "2020-06-01T00:00:00.000000000",
                    "2020-07-01T00:00:00.000000000",
                    "2020-08-01T00:00:00.000000000",
                    "2020-09-01T00:00:00.000000000",
                    "2020-10-01T00:00:00.000000000",
                    "2020-11-01T00:00:00.000000000",
                    "2020-12-01T00:00:00.000000000",
                    "2021-01-01T00:00:00.000000000",
                    "2021-02-01T00:00:00.000000000",
                    "2021-03-01T00:00:00.000000000",
                    "2021-04-01T00:00:00.000000000",
                    "2021-05-01T00:00:00.000000000",
                    "2021-06-01T00:00:00.000000000",
                    "2021-07-01T00:00:00.000000000",
                    "2021-08-01T00:00:00.000000000",
                    "2021-09-01T00:00:00.000000000",
                    "2021-10-01T00:00:00.000000000",
                    "2021-11-01T00:00:00.000000000",
                    "2021-12-01T00:00:00.000000000",
                    "2022-01-01T00:00:00.000000000",
                    "2022-02-01T00:00:00.000000000",
                    "2022-03-01T00:00:00.000000000",
                    "2022-04-01T00:00:00.000000000",
                    "2022-05-01T00:00:00.000000000",
                    "2022-06-01T00:00:00.000000000",
                    "2022-07-01T00:00:00.000000000",
                    "2022-08-01T00:00:00.000000000",
                    "2022-09-01T00:00:00.000000000",
                    "2022-10-01T00:00:00.000000000",
                    "2022-11-01T00:00:00.000000000",
                    "2022-12-01T00:00:00.000000000",
                    "2023-01-01T00:00:00.000000000",
                    "2023-02-01T00:00:00.000000000",
                    "2023-03-01T00:00:00.000000000",
                    "2023-04-01T00:00:00.000000000",
                    "2023-05-01T00:00:00.000000000",
                    "2023-06-01T00:00:00.000000000",
                    "2023-07-01T00:00:00.000000000",
                    "2023-08-01T00:00:00.000000000",
                    "2023-09-01T00:00:00.000000000",
                    "2023-10-01T00:00:00.000000000",
                    "2023-11-01T00:00:00.000000000",
                    "2023-12-01T00:00:00.000000000",
                    "2024-01-01T00:00:00.000000000",
                    "2024-02-01T00:00:00.000000000",
                    "2024-03-01T00:00:00.000000000",
                    "2024-04-01T00:00:00.000000000",
                    "2024-05-01T00:00:00.000000000",
                    "2024-06-01T00:00:00.000000000",
                    "2024-07-01T00:00:00.000000000",
                    "2024-08-01T00:00:00.000000000",
                    "2024-09-01T00:00:00.000000000",
                    "2024-10-01T00:00:00.000000000",
                    "2024-11-01T00:00:00.000000000",
                    "2024-12-01T00:00:00.000000000"
                  ],
                  "y": [
                    6.2043555111388375,
                    6.308566987480978,
                    6.414528852204621,
                    6.522270505713577,
                    6.631821842235628,
                    6.743213258117045,
                    6.856475660256423,
                    6.971640474680172,
                    7.088739655262056,
                    7.20780569258917,
                    7.328871622976856,
                    7.451971037635035,
                    7.577138091988482,
                    7.70440751515367,
                    7.833814619574783,
                    7.965395310821579,
                    8.099186097551838,
                    8.235224101641114,
                    8.373547068482658,
                    8.514193377460334,
                    8.657202052597446,
                    8.80261277338443,
                    8.950465885788397,
                    9.10080241344762,
                    9.253664069054036,
                    9.40909326592695,
                    9.567133129781103,
                    9.72782751069244,
                    9.891220995264842,
                    10.057358919001215,
                    10.226287378882379,
                    10.398053246157241,
                    10.572704179347777,
                    10.750288637472469,
                    10.930855893491863,
                    11.114456047979932,
                    11.301140043025088,
                    11.490959676364692,
                    11.683967615756963,
                    11.880217413594268,
                    12.079763521761919,
                    12.28266130674647,
                    12.48896706499783,
                    12.698738038549426,
                    12.912032430900652,
                    13.128909423166167,
                    13.349429190496402,
                    13.573652918773886,
                    13.801642821590008,
                    14.033462157506946,
                    14.269175247609505,
                    19.31322102826284,
                    19.38859491406371,
                    19.46426296222375,
                    19.540226320773105,
                    19.616486142222353,
                    19.693043583579982,
                    19.76989980636996,
                    19.847055976649347,
                    19.92451326502597,
                    20.002272846676178,
                    20.08033590136276,
                    20.158703613452715,
                    20.237377171935297,
                    20.31635777044004,
                    20.39564660725488,
                    20.475244885344306,
                    20.555153812367628,
                    20.63537460069731,
                    20.71590846743735,
                    20.79675663444176,
                    20.87792032833306,
                    20.959400780520944,
                    21.04119922722095,
                    21.123316909473186,
                    21.63963694401034,
                    22.003107172206416,
                    22.372682429203433,
                    22.74846525813632,
                    23.130559924506134,
                    23.519072445109696,
                    23.914110617455297,
                    24.31578404967241,
                    24.724204190923782,
                    25.139484362328368,
                    25.56173978840363,
                    25.991087629036034,
                    26.427647011988388,
                    26.871539065953343,
                    27.322886954162044,
                    27.78181590855718,
                    28.248453264540174,
                    28.722928496301893,
                    29.205373252746863,
                    29.695921394020814,
                    30.19470902865187,
                    30.701874551315417,
                    31.217558681233438,
                    31.741904501218798,
                    32.275057497375215,
                    32.817165599464225,
                    33.36837922195005,
                    33.92885130573391,
                    34.49873736058933,
                    35.07819550831028,
                    35.667386526583876,
                    36.26647389360014,
                    36.87562383341106
                  ]
                }
              ],
              "layout": {
                "annotations": [
                  {
                    "arrowhead": 2,
                    "ax": 30,
                    "ay": -40,
                    "showarrow": true,
                    "text": "Pandemia",
                    "x": "2020-04-01",
                    "y": 34.30808238984768
                  },
                  {
                    "arrowhead": 2,
                    "ax": 30,
                    "ay": -40,
                    "showarrow": true,
                    "text": "Pos Pandemia",
                    "x": "2022-04-01",
                    "y": 34.30808238984768
                  }
                ],
                "legend": {
                  "title": {
                    "text": "Legend"
                  }
                },
                "shapes": [
                  {
                    "line": {
                      "color": "black",
                      "dash": "dash"
                    },
                    "type": "line",
                    "x0": "2020-04-01",
                    "x1": "2020-04-01",
                    "y0": 5.290365071949884,
                    "y1": 34.30808238984768
                  },
                  {
                    "line": {
                      "color": "black",
                      "dash": "dash"
                    },
                    "type": "line",
                    "x0": "2022-04-01",
                    "x1": "2022-04-01",
                    "y0": 5.290365071949884,
                    "y1": 34.30808238984768
                  }
                ],
                "template": {
                  "data": {
                    "bar": [
                      {
                        "error_x": {
                          "color": "#2a3f5f"
                        },
                        "error_y": {
                          "color": "#2a3f5f"
                        },
                        "marker": {
                          "line": {
                            "color": "#E5ECF6",
                            "width": 0.5
                          },
                          "pattern": {
                            "fillmode": "overlay",
                            "size": 10,
                            "solidity": 0.2
                          }
                        },
                        "type": "bar"
                      }
                    ],
                    "barpolar": [
                      {
                        "marker": {
                          "line": {
                            "color": "#E5ECF6",
                            "width": 0.5
                          },
                          "pattern": {
                            "fillmode": "overlay",
                            "size": 10,
                            "solidity": 0.2
                          }
                        },
                        "type": "barpolar"
                      }
                    ],
                    "carpet": [
                      {
                        "aaxis": {
                          "endlinecolor": "#2a3f5f",
                          "gridcolor": "white",
                          "linecolor": "white",
                          "minorgridcolor": "white",
                          "startlinecolor": "#2a3f5f"
                        },
                        "baxis": {
                          "endlinecolor": "#2a3f5f",
                          "gridcolor": "white",
                          "linecolor": "white",
                          "minorgridcolor": "white",
                          "startlinecolor": "#2a3f5f"
                        },
                        "type": "carpet"
                      }
                    ],
                    "choropleth": [
                      {
                        "colorbar": {
                          "outlinewidth": 0,
                          "ticks": ""
                        },
                        "type": "choropleth"
                      }
                    ],
                    "contour": [
                      {
                        "colorbar": {
                          "outlinewidth": 0,
                          "ticks": ""
                        },
                        "colorscale": [
                          [
                            0,
                            "#0d0887"
                          ],
                          [
                            0.1111111111111111,
                            "#46039f"
                          ],
                          [
                            0.2222222222222222,
                            "#7201a8"
                          ],
                          [
                            0.3333333333333333,
                            "#9c179e"
                          ],
                          [
                            0.4444444444444444,
                            "#bd3786"
                          ],
                          [
                            0.5555555555555556,
                            "#d8576b"
                          ],
                          [
                            0.6666666666666666,
                            "#ed7953"
                          ],
                          [
                            0.7777777777777778,
                            "#fb9f3a"
                          ],
                          [
                            0.8888888888888888,
                            "#fdca26"
                          ],
                          [
                            1,
                            "#f0f921"
                          ]
                        ],
                        "type": "contour"
                      }
                    ],
                    "contourcarpet": [
                      {
                        "colorbar": {
                          "outlinewidth": 0,
                          "ticks": ""
                        },
                        "type": "contourcarpet"
                      }
                    ],
                    "heatmap": [
                      {
                        "colorbar": {
                          "outlinewidth": 0,
                          "ticks": ""
                        },
                        "colorscale": [
                          [
                            0,
                            "#0d0887"
                          ],
                          [
                            0.1111111111111111,
                            "#46039f"
                          ],
                          [
                            0.2222222222222222,
                            "#7201a8"
                          ],
                          [
                            0.3333333333333333,
                            "#9c179e"
                          ],
                          [
                            0.4444444444444444,
                            "#bd3786"
                          ],
                          [
                            0.5555555555555556,
                            "#d8576b"
                          ],
                          [
                            0.6666666666666666,
                            "#ed7953"
                          ],
                          [
                            0.7777777777777778,
                            "#fb9f3a"
                          ],
                          [
                            0.8888888888888888,
                            "#fdca26"
                          ],
                          [
                            1,
                            "#f0f921"
                          ]
                        ],
                        "type": "heatmap"
                      }
                    ],
                    "heatmapgl": [
                      {
                        "colorbar": {
                          "outlinewidth": 0,
                          "ticks": ""
                        },
                        "colorscale": [
                          [
                            0,
                            "#0d0887"
                          ],
                          [
                            0.1111111111111111,
                            "#46039f"
                          ],
                          [
                            0.2222222222222222,
                            "#7201a8"
                          ],
                          [
                            0.3333333333333333,
                            "#9c179e"
                          ],
                          [
                            0.4444444444444444,
                            "#bd3786"
                          ],
                          [
                            0.5555555555555556,
                            "#d8576b"
                          ],
                          [
                            0.6666666666666666,
                            "#ed7953"
                          ],
                          [
                            0.7777777777777778,
                            "#fb9f3a"
                          ],
                          [
                            0.8888888888888888,
                            "#fdca26"
                          ],
                          [
                            1,
                            "#f0f921"
                          ]
                        ],
                        "type": "heatmapgl"
                      }
                    ],
                    "histogram": [
                      {
                        "marker": {
                          "pattern": {
                            "fillmode": "overlay",
                            "size": 10,
                            "solidity": 0.2
                          }
                        },
                        "type": "histogram"
                      }
                    ],
                    "histogram2d": [
                      {
                        "colorbar": {
                          "outlinewidth": 0,
                          "ticks": ""
                        },
                        "colorscale": [
                          [
                            0,
                            "#0d0887"
                          ],
                          [
                            0.1111111111111111,
                            "#46039f"
                          ],
                          [
                            0.2222222222222222,
                            "#7201a8"
                          ],
                          [
                            0.3333333333333333,
                            "#9c179e"
                          ],
                          [
                            0.4444444444444444,
                            "#bd3786"
                          ],
                          [
                            0.5555555555555556,
                            "#d8576b"
                          ],
                          [
                            0.6666666666666666,
                            "#ed7953"
                          ],
                          [
                            0.7777777777777778,
                            "#fb9f3a"
                          ],
                          [
                            0.8888888888888888,
                            "#fdca26"
                          ],
                          [
                            1,
                            "#f0f921"
                          ]
                        ],
                        "type": "histogram2d"
                      }
                    ],
                    "histogram2dcontour": [
                      {
                        "colorbar": {
                          "outlinewidth": 0,
                          "ticks": ""
                        },
                        "colorscale": [
                          [
                            0,
                            "#0d0887"
                          ],
                          [
                            0.1111111111111111,
                            "#46039f"
                          ],
                          [
                            0.2222222222222222,
                            "#7201a8"
                          ],
                          [
                            0.3333333333333333,
                            "#9c179e"
                          ],
                          [
                            0.4444444444444444,
                            "#bd3786"
                          ],
                          [
                            0.5555555555555556,
                            "#d8576b"
                          ],
                          [
                            0.6666666666666666,
                            "#ed7953"
                          ],
                          [
                            0.7777777777777778,
                            "#fb9f3a"
                          ],
                          [
                            0.8888888888888888,
                            "#fdca26"
                          ],
                          [
                            1,
                            "#f0f921"
                          ]
                        ],
                        "type": "histogram2dcontour"
                      }
                    ],
                    "mesh3d": [
                      {
                        "colorbar": {
                          "outlinewidth": 0,
                          "ticks": ""
                        },
                        "type": "mesh3d"
                      }
                    ],
                    "parcoords": [
                      {
                        "line": {
                          "colorbar": {
                            "outlinewidth": 0,
                            "ticks": ""
                          }
                        },
                        "type": "parcoords"
                      }
                    ],
                    "pie": [
                      {
                        "automargin": true,
                        "type": "pie"
                      }
                    ],
                    "scatter": [
                      {
                        "fillpattern": {
                          "fillmode": "overlay",
                          "size": 10,
                          "solidity": 0.2
                        },
                        "type": "scatter"
                      }
                    ],
                    "scatter3d": [
                      {
                        "line": {
                          "colorbar": {
                            "outlinewidth": 0,
                            "ticks": ""
                          }
                        },
                        "marker": {
                          "colorbar": {
                            "outlinewidth": 0,
                            "ticks": ""
                          }
                        },
                        "type": "scatter3d"
                      }
                    ],
                    "scattercarpet": [
                      {
                        "marker": {
                          "colorbar": {
                            "outlinewidth": 0,
                            "ticks": ""
                          }
                        },
                        "type": "scattercarpet"
                      }
                    ],
                    "scattergeo": [
                      {
                        "marker": {
                          "colorbar": {
                            "outlinewidth": 0,
                            "ticks": ""
                          }
                        },
                        "type": "scattergeo"
                      }
                    ],
                    "scattergl": [
                      {
                        "marker": {
                          "colorbar": {
                            "outlinewidth": 0,
                            "ticks": ""
                          }
                        },
                        "type": "scattergl"
                      }
                    ],
                    "scattermapbox": [
                      {
                        "marker": {
                          "colorbar": {
                            "outlinewidth": 0,
                            "ticks": ""
                          }
                        },
                        "type": "scattermapbox"
                      }
                    ],
                    "scatterpolar": [
                      {
                        "marker": {
                          "colorbar": {
                            "outlinewidth": 0,
                            "ticks": ""
                          }
                        },
                        "type": "scatterpolar"
                      }
                    ],
                    "scatterpolargl": [
                      {
                        "marker": {
                          "colorbar": {
                            "outlinewidth": 0,
                            "ticks": ""
                          }
                        },
                        "type": "scatterpolargl"
                      }
                    ],
                    "scatterternary": [
                      {
                        "marker": {
                          "colorbar": {
                            "outlinewidth": 0,
                            "ticks": ""
                          }
                        },
                        "type": "scatterternary"
                      }
                    ],
                    "surface": [
                      {
                        "colorbar": {
                          "outlinewidth": 0,
                          "ticks": ""
                        },
                        "colorscale": [
                          [
                            0,
                            "#0d0887"
                          ],
                          [
                            0.1111111111111111,
                            "#46039f"
                          ],
                          [
                            0.2222222222222222,
                            "#7201a8"
                          ],
                          [
                            0.3333333333333333,
                            "#9c179e"
                          ],
                          [
                            0.4444444444444444,
                            "#bd3786"
                          ],
                          [
                            0.5555555555555556,
                            "#d8576b"
                          ],
                          [
                            0.6666666666666666,
                            "#ed7953"
                          ],
                          [
                            0.7777777777777778,
                            "#fb9f3a"
                          ],
                          [
                            0.8888888888888888,
                            "#fdca26"
                          ],
                          [
                            1,
                            "#f0f921"
                          ]
                        ],
                        "type": "surface"
                      }
                    ],
                    "table": [
                      {
                        "cells": {
                          "fill": {
                            "color": "#EBF0F8"
                          },
                          "line": {
                            "color": "white"
                          }
                        },
                        "header": {
                          "fill": {
                            "color": "#C8D4E3"
                          },
                          "line": {
                            "color": "white"
                          }
                        },
                        "type": "table"
                      }
                    ]
                  },
                  "layout": {
                    "annotationdefaults": {
                      "arrowcolor": "#2a3f5f",
                      "arrowhead": 0,
                      "arrowwidth": 1
                    },
                    "autotypenumbers": "strict",
                    "coloraxis": {
                      "colorbar": {
                        "outlinewidth": 0,
                        "ticks": ""
                      }
                    },
                    "colorscale": {
                      "diverging": [
                        [
                          0,
                          "#8e0152"
                        ],
                        [
                          0.1,
                          "#c51b7d"
                        ],
                        [
                          0.2,
                          "#de77ae"
                        ],
                        [
                          0.3,
                          "#f1b6da"
                        ],
                        [
                          0.4,
                          "#fde0ef"
                        ],
                        [
                          0.5,
                          "#f7f7f7"
                        ],
                        [
                          0.6,
                          "#e6f5d0"
                        ],
                        [
                          0.7,
                          "#b8e186"
                        ],
                        [
                          0.8,
                          "#7fbc41"
                        ],
                        [
                          0.9,
                          "#4d9221"
                        ],
                        [
                          1,
                          "#276419"
                        ]
                      ],
                      "sequential": [
                        [
                          0,
                          "#0d0887"
                        ],
                        [
                          0.1111111111111111,
                          "#46039f"
                        ],
                        [
                          0.2222222222222222,
                          "#7201a8"
                        ],
                        [
                          0.3333333333333333,
                          "#9c179e"
                        ],
                        [
                          0.4444444444444444,
                          "#bd3786"
                        ],
                        [
                          0.5555555555555556,
                          "#d8576b"
                        ],
                        [
                          0.6666666666666666,
                          "#ed7953"
                        ],
                        [
                          0.7777777777777778,
                          "#fb9f3a"
                        ],
                        [
                          0.8888888888888888,
                          "#fdca26"
                        ],
                        [
                          1,
                          "#f0f921"
                        ]
                      ],
                      "sequentialminus": [
                        [
                          0,
                          "#0d0887"
                        ],
                        [
                          0.1111111111111111,
                          "#46039f"
                        ],
                        [
                          0.2222222222222222,
                          "#7201a8"
                        ],
                        [
                          0.3333333333333333,
                          "#9c179e"
                        ],
                        [
                          0.4444444444444444,
                          "#bd3786"
                        ],
                        [
                          0.5555555555555556,
                          "#d8576b"
                        ],
                        [
                          0.6666666666666666,
                          "#ed7953"
                        ],
                        [
                          0.7777777777777778,
                          "#fb9f3a"
                        ],
                        [
                          0.8888888888888888,
                          "#fdca26"
                        ],
                        [
                          1,
                          "#f0f921"
                        ]
                      ]
                    },
                    "colorway": [
                      "#636efa",
                      "#EF553B",
                      "#00cc96",
                      "#ab63fa",
                      "#FFA15A",
                      "#19d3f3",
                      "#FF6692",
                      "#B6E880",
                      "#FF97FF",
                      "#FECB52"
                    ],
                    "font": {
                      "color": "#2a3f5f"
                    },
                    "geo": {
                      "bgcolor": "white",
                      "lakecolor": "white",
                      "landcolor": "#E5ECF6",
                      "showlakes": true,
                      "showland": true,
                      "subunitcolor": "white"
                    },
                    "hoverlabel": {
                      "align": "left"
                    },
                    "hovermode": "closest",
                    "mapbox": {
                      "style": "light"
                    },
                    "paper_bgcolor": "white",
                    "plot_bgcolor": "#E5ECF6",
                    "polar": {
                      "angularaxis": {
                        "gridcolor": "white",
                        "linecolor": "white",
                        "ticks": ""
                      },
                      "bgcolor": "#E5ECF6",
                      "radialaxis": {
                        "gridcolor": "white",
                        "linecolor": "white",
                        "ticks": ""
                      }
                    },
                    "scene": {
                      "xaxis": {
                        "backgroundcolor": "#E5ECF6",
                        "gridcolor": "white",
                        "gridwidth": 2,
                        "linecolor": "white",
                        "showbackground": true,
                        "ticks": "",
                        "zerolinecolor": "white"
                      },
                      "yaxis": {
                        "backgroundcolor": "#E5ECF6",
                        "gridcolor": "white",
                        "gridwidth": 2,
                        "linecolor": "white",
                        "showbackground": true,
                        "ticks": "",
                        "zerolinecolor": "white"
                      },
                      "zaxis": {
                        "backgroundcolor": "#E5ECF6",
                        "gridcolor": "white",
                        "gridwidth": 2,
                        "linecolor": "white",
                        "showbackground": true,
                        "ticks": "",
                        "zerolinecolor": "white"
                      }
                    },
                    "shapedefaults": {
                      "line": {
                        "color": "#2a3f5f"
                      }
                    },
                    "ternary": {
                      "aaxis": {
                        "gridcolor": "white",
                        "linecolor": "white",
                        "ticks": ""
                      },
                      "baxis": {
                        "gridcolor": "white",
                        "linecolor": "white",
                        "ticks": ""
                      },
                      "bgcolor": "#E5ECF6",
                      "caxis": {
                        "gridcolor": "white",
                        "linecolor": "white",
                        "ticks": ""
                      }
                    },
                    "title": {
                      "x": 0.05
                    },
                    "xaxis": {
                      "automargin": true,
                      "gridcolor": "white",
                      "linecolor": "white",
                      "ticks": "",
                      "title": {
                        "standoff": 15
                      },
                      "zerolinecolor": "white",
                      "zerolinewidth": 2
                    },
                    "yaxis": {
                      "automargin": true,
                      "gridcolor": "white",
                      "linecolor": "white",
                      "ticks": "",
                      "title": {
                        "standoff": 15
                      },
                      "zerolinecolor": "white",
                      "zerolinewidth": 2
                    }
                  }
                },
                "title": {
                  "text": "nordeste"
                },
                "xaxis": {
                  "title": {
                    "text": "Time"
                  }
                },
                "yaxis": {
                  "title": {
                    "text": "Value"
                  }
                }
              }
            }
          },
          "metadata": {},
          "output_type": "display_data"
        },
        {
          "data": {
            "application/vnd.plotly.v1+json": {
              "config": {
                "plotlyServerURL": "https://plot.ly"
              },
              "data": [
                {
                  "line": {
                    "color": "black",
                    "dash": "dot"
                  },
                  "mode": "lines",
                  "name": "Baseline",
                  "type": "scatter",
                  "x": [
                    "2016-01-01T00:00:00.000000000",
                    "2016-02-01T00:00:00.000000000",
                    "2016-03-01T00:00:00.000000000",
                    "2016-04-01T00:00:00.000000000",
                    "2016-05-01T00:00:00.000000000",
                    "2016-06-01T00:00:00.000000000",
                    "2016-07-01T00:00:00.000000000",
                    "2016-08-01T00:00:00.000000000",
                    "2016-09-01T00:00:00.000000000",
                    "2016-10-01T00:00:00.000000000",
                    "2016-11-01T00:00:00.000000000",
                    "2016-12-01T00:00:00.000000000",
                    "2017-01-01T00:00:00.000000000",
                    "2017-02-01T00:00:00.000000000",
                    "2017-03-01T00:00:00.000000000",
                    "2017-04-01T00:00:00.000000000",
                    "2017-05-01T00:00:00.000000000",
                    "2017-06-01T00:00:00.000000000",
                    "2017-07-01T00:00:00.000000000",
                    "2017-08-01T00:00:00.000000000",
                    "2017-09-01T00:00:00.000000000",
                    "2017-10-01T00:00:00.000000000",
                    "2017-11-01T00:00:00.000000000",
                    "2017-12-01T00:00:00.000000000",
                    "2018-01-01T00:00:00.000000000",
                    "2018-02-01T00:00:00.000000000",
                    "2018-03-01T00:00:00.000000000",
                    "2018-04-01T00:00:00.000000000",
                    "2018-05-01T00:00:00.000000000",
                    "2018-06-01T00:00:00.000000000",
                    "2018-07-01T00:00:00.000000000",
                    "2018-08-01T00:00:00.000000000",
                    "2018-09-01T00:00:00.000000000",
                    "2018-10-01T00:00:00.000000000",
                    "2018-11-01T00:00:00.000000000",
                    "2018-12-01T00:00:00.000000000",
                    "2019-01-01T00:00:00.000000000",
                    "2019-02-01T00:00:00.000000000",
                    "2019-03-01T00:00:00.000000000",
                    "2019-04-01T00:00:00.000000000",
                    "2019-05-01T00:00:00.000000000",
                    "2019-06-01T00:00:00.000000000",
                    "2019-07-01T00:00:00.000000000",
                    "2019-08-01T00:00:00.000000000",
                    "2019-09-01T00:00:00.000000000",
                    "2019-10-01T00:00:00.000000000",
                    "2019-11-01T00:00:00.000000000",
                    "2019-12-01T00:00:00.000000000",
                    "2020-01-01T00:00:00.000000000",
                    "2020-02-01T00:00:00.000000000",
                    "2020-03-01T00:00:00.000000000",
                    "2020-04-01T00:00:00.000000000",
                    "2020-05-01T00:00:00.000000000",
                    "2020-06-01T00:00:00.000000000",
                    "2020-07-01T00:00:00.000000000",
                    "2020-08-01T00:00:00.000000000",
                    "2020-09-01T00:00:00.000000000",
                    "2020-10-01T00:00:00.000000000",
                    "2020-11-01T00:00:00.000000000",
                    "2020-12-01T00:00:00.000000000",
                    "2021-01-01T00:00:00.000000000",
                    "2021-02-01T00:00:00.000000000",
                    "2021-03-01T00:00:00.000000000",
                    "2021-04-01T00:00:00.000000000",
                    "2021-05-01T00:00:00.000000000",
                    "2021-06-01T00:00:00.000000000",
                    "2021-07-01T00:00:00.000000000",
                    "2021-08-01T00:00:00.000000000",
                    "2021-09-01T00:00:00.000000000",
                    "2021-10-01T00:00:00.000000000",
                    "2021-11-01T00:00:00.000000000",
                    "2021-12-01T00:00:00.000000000",
                    "2022-01-01T00:00:00.000000000",
                    "2022-02-01T00:00:00.000000000",
                    "2022-03-01T00:00:00.000000000",
                    "2022-04-01T00:00:00.000000000",
                    "2022-05-01T00:00:00.000000000",
                    "2022-06-01T00:00:00.000000000",
                    "2022-07-01T00:00:00.000000000",
                    "2022-08-01T00:00:00.000000000",
                    "2022-09-01T00:00:00.000000000",
                    "2022-10-01T00:00:00.000000000",
                    "2022-11-01T00:00:00.000000000",
                    "2022-12-01T00:00:00.000000000",
                    "2023-01-01T00:00:00.000000000",
                    "2023-02-01T00:00:00.000000000",
                    "2023-03-01T00:00:00.000000000",
                    "2023-04-01T00:00:00.000000000",
                    "2023-05-01T00:00:00.000000000",
                    "2023-06-01T00:00:00.000000000",
                    "2023-07-01T00:00:00.000000000",
                    "2023-08-01T00:00:00.000000000",
                    "2023-09-01T00:00:00.000000000",
                    "2023-10-01T00:00:00.000000000",
                    "2023-11-01T00:00:00.000000000",
                    "2023-12-01T00:00:00.000000000",
                    "2024-01-01T00:00:00.000000000",
                    "2024-02-01T00:00:00.000000000",
                    "2024-03-01T00:00:00.000000000",
                    "2024-04-01T00:00:00.000000000",
                    "2024-05-01T00:00:00.000000000",
                    "2024-06-01T00:00:00.000000000",
                    "2024-07-01T00:00:00.000000000",
                    "2024-08-01T00:00:00.000000000",
                    "2024-09-01T00:00:00.000000000",
                    "2024-10-01T00:00:00.000000000",
                    "2024-11-01T00:00:00.000000000",
                    "2024-12-01T00:00:00.000000000"
                  ],
                  "y": [
                    6.017227407013786,
                    6.097862787466208,
                    6.179578742764966,
                    6.262389753427076,
                    6.346310494019385,
                    6.431355835758998,
                    6.517540849148528,
                    6.604880806646678,
                    6.6933911853746055,
                    6.783087669858547,
                    6.873986154809213,
                    6.966102747938408,
                    7.0594537728134075,
                    7.154055771749591,
                    7.249925508741825,
                    7.347079972435135,
                    7.445536379135193,
                    7.545312175859128,
                    7.646425043427257,
                    7.748892899596194,
                    7.852733902234003,
                    7.957966452537849,
                    8.064609198294812,
                    8.172681037186363,
                    8.282201120137135,
                    8.39318885470859,
                    8.505663908538127,
                    8.619646212824312,
                    8.735155965858773,
                    8.852213636605478,
                    8.970839968327924,
                    9.091055982264963,
                    9.212882981355897,
                    9.336342554015449,
                    9.461456577959376,
                    9.588247224081297,
                    9.716736960381521,
                    9.846948555948478,
                    9.978905084993531,
                    10.112629930939882,
                    10.248146790566196,
                    10.385479678205831,
                    10.52465293000231,
                    10.665691208221816,
                    10.808619505623465,
                    10.953463149888181,
                    11.1002478081069,
                    11.248999491328904,
                    11.399744559171129,
                    11.552509724489246,
                    11.707322058111322,
                    11.864208993634895,
                    12.023198332288384,
                    12.184318247857629,
                    12.347597291678403,
                    12.51306439769591,
                    12.680748887591994,
                    12.85068047598115,
                    13.022889275676079,
                    13.19740580302385,
                    13.374260983313599,
                    13.553486156256607,
                    13.73511308153992,
                    13.919173944454295,
                    14.105701361597657,
                    14.294728386654894,
                    14.486288516255176,
                    14.680415695907756,
                    14.877144326017264,
                    15.076509267979688,
                    15.278545850359961,
                    15.483289875152431,
                    15.690777624125122,
                    15.901045865249078,
                    16.11413185921388,
                    16.3300733660304,
                    16.5489086517221,
                    16.770676495106006,
                    16.995416194664493,
                    17.223167575509205,
                    17.453970996438283,
                    17.68786735708818,
                    17.924898105181285,
                    18.165105243870673,
                    18.408531339183348,
                    18.655219527563126,
                    18.90521352351467,
                    19.15855762734993,
                    19.415296733038424,
                    19.675476336162678,
                    19.939142541980292,
                    20.206342073594058,
                    20.477122280231566,
                    20.751531145635692,
                    21.029617296567622,
                    21.311430011423802,
                    21.597019228968296,
                    21.886435557182217,
                    22.179730282231773,
                    22.476955377556443,
                    22.778163513078923,
                    23.08340806453856,
                    23.392743122949835,
                    23.706223504187584,
                    24.023904758700606,
                    24.34584318135562,
                    24.67209582141296,
                    25.002720492636012
                  ]
                },
                {
                  "marker": {
                    "color": "black"
                  },
                  "mode": "markers",
                  "name": "Real",
                  "type": "scatter",
                  "x": [
                    "2016-01-01T00:00:00.000000000",
                    "2016-02-01T00:00:00.000000000",
                    "2016-03-01T00:00:00.000000000",
                    "2016-04-01T00:00:00.000000000",
                    "2016-05-01T00:00:00.000000000",
                    "2016-06-01T00:00:00.000000000",
                    "2016-07-01T00:00:00.000000000",
                    "2016-08-01T00:00:00.000000000",
                    "2016-09-01T00:00:00.000000000",
                    "2016-10-01T00:00:00.000000000",
                    "2016-11-01T00:00:00.000000000",
                    "2016-12-01T00:00:00.000000000",
                    "2017-01-01T00:00:00.000000000",
                    "2017-02-01T00:00:00.000000000",
                    "2017-03-01T00:00:00.000000000",
                    "2017-04-01T00:00:00.000000000",
                    "2017-05-01T00:00:00.000000000",
                    "2017-06-01T00:00:00.000000000",
                    "2017-07-01T00:00:00.000000000",
                    "2017-08-01T00:00:00.000000000",
                    "2017-09-01T00:00:00.000000000",
                    "2017-10-01T00:00:00.000000000",
                    "2017-11-01T00:00:00.000000000",
                    "2017-12-01T00:00:00.000000000",
                    "2018-01-01T00:00:00.000000000",
                    "2018-02-01T00:00:00.000000000",
                    "2018-03-01T00:00:00.000000000",
                    "2018-04-01T00:00:00.000000000",
                    "2018-05-01T00:00:00.000000000",
                    "2018-06-01T00:00:00.000000000",
                    "2018-07-01T00:00:00.000000000",
                    "2018-08-01T00:00:00.000000000",
                    "2018-09-01T00:00:00.000000000",
                    "2018-10-01T00:00:00.000000000",
                    "2018-11-01T00:00:00.000000000",
                    "2018-12-01T00:00:00.000000000",
                    "2019-01-01T00:00:00.000000000",
                    "2019-02-01T00:00:00.000000000",
                    "2019-03-01T00:00:00.000000000",
                    "2019-04-01T00:00:00.000000000",
                    "2019-05-01T00:00:00.000000000",
                    "2019-06-01T00:00:00.000000000",
                    "2019-07-01T00:00:00.000000000",
                    "2019-08-01T00:00:00.000000000",
                    "2019-09-01T00:00:00.000000000",
                    "2019-10-01T00:00:00.000000000",
                    "2019-11-01T00:00:00.000000000",
                    "2019-12-01T00:00:00.000000000",
                    "2020-01-01T00:00:00.000000000",
                    "2020-02-01T00:00:00.000000000",
                    "2020-03-01T00:00:00.000000000",
                    "2020-04-01T00:00:00.000000000",
                    "2020-05-01T00:00:00.000000000",
                    "2020-06-01T00:00:00.000000000",
                    "2020-07-01T00:00:00.000000000",
                    "2020-08-01T00:00:00.000000000",
                    "2020-09-01T00:00:00.000000000",
                    "2020-10-01T00:00:00.000000000",
                    "2020-11-01T00:00:00.000000000",
                    "2020-12-01T00:00:00.000000000",
                    "2021-01-01T00:00:00.000000000",
                    "2021-02-01T00:00:00.000000000",
                    "2021-03-01T00:00:00.000000000",
                    "2021-04-01T00:00:00.000000000",
                    "2021-05-01T00:00:00.000000000",
                    "2021-06-01T00:00:00.000000000",
                    "2021-07-01T00:00:00.000000000",
                    "2021-08-01T00:00:00.000000000",
                    "2021-09-01T00:00:00.000000000",
                    "2021-10-01T00:00:00.000000000",
                    "2021-11-01T00:00:00.000000000",
                    "2021-12-01T00:00:00.000000000",
                    "2022-01-01T00:00:00.000000000",
                    "2022-02-01T00:00:00.000000000",
                    "2022-03-01T00:00:00.000000000",
                    "2022-04-01T00:00:00.000000000",
                    "2022-05-01T00:00:00.000000000",
                    "2022-06-01T00:00:00.000000000",
                    "2022-07-01T00:00:00.000000000",
                    "2022-08-01T00:00:00.000000000",
                    "2022-09-01T00:00:00.000000000",
                    "2022-10-01T00:00:00.000000000",
                    "2022-11-01T00:00:00.000000000",
                    "2022-12-01T00:00:00.000000000",
                    "2023-01-01T00:00:00.000000000",
                    "2023-02-01T00:00:00.000000000",
                    "2023-03-01T00:00:00.000000000",
                    "2023-04-01T00:00:00.000000000",
                    "2023-05-01T00:00:00.000000000",
                    "2023-06-01T00:00:00.000000000",
                    "2023-07-01T00:00:00.000000000",
                    "2023-08-01T00:00:00.000000000",
                    "2023-09-01T00:00:00.000000000",
                    "2023-10-01T00:00:00.000000000",
                    "2023-11-01T00:00:00.000000000",
                    "2023-12-01T00:00:00.000000000",
                    "2024-01-01T00:00:00.000000000",
                    "2024-02-01T00:00:00.000000000",
                    "2024-03-01T00:00:00.000000000",
                    "2024-04-01T00:00:00.000000000",
                    "2024-05-01T00:00:00.000000000",
                    "2024-06-01T00:00:00.000000000",
                    "2024-07-01T00:00:00.000000000",
                    "2024-08-01T00:00:00.000000000",
                    "2024-09-01T00:00:00.000000000",
                    "2024-10-01T00:00:00.000000000",
                    "2024-11-01T00:00:00.000000000",
                    "2024-12-01T00:00:00.000000000"
                  ],
                  "y": [
                    5.946742295242025,
                    6.282080560599972,
                    5.749588998456467,
                    5.270734376769087,
                    5.774105374287252,
                    5.853646140297892,
                    5.820463368075251,
                    6.022456617897244,
                    6.074463563669807,
                    6.282226041604931,
                    5.648787204446263,
                    6.793883749100293,
                    5.6674780538125,
                    5.52117598003852,
                    5.7893460065693105,
                    6.354995019331746,
                    6.566993159655165,
                    6.999759364234214,
                    7.363053505434842,
                    8.049273495070526,
                    8.412000579738152,
                    8.525509463499244,
                    8.634763390824384,
                    9.01394386959536,
                    8.426878377532496,
                    9.050068807384093,
                    8.67128636295594,
                    9.003563032092885,
                    8.946915263045474,
                    9.85363419072711,
                    10.184984620716545,
                    10.939433979392021,
                    11.123936247941456,
                    10.514601425283466,
                    10.538263042931515,
                    10.108644420428197,
                    9.362107703378983,
                    10.23760184618283,
                    9.994076723847575,
                    9.876069967851242,
                    10.503111770073302,
                    10.764310438354041,
                    11.157870096716753,
                    11.683034326365648,
                    11.57504450893173,
                    11.435901400425482,
                    11.321881926924895,
                    11.694531103011634,
                    11.44348074407114,
                    11.72749793708963,
                    12.481121140809947,
                    16.411697913838953,
                    14.93699256292307,
                    13.08196440700497,
                    12.38522172659647,
                    11.47179472172888,
                    11.725904574364707,
                    13.00458165652481,
                    13.081467779875249,
                    11.887528449424241,
                    10.946269993939234,
                    11.715844899335291,
                    12.21625000482322,
                    12.912082320665718,
                    12.922779550118872,
                    13.454350259555776,
                    14.218541833596905,
                    14.74692173650176,
                    16.032713558089803,
                    15.775601044851532,
                    15.354109407168055,
                    13.644758489398951,
                    11.424802000858497,
                    15.58832484499557,
                    16.446089817123465,
                    16.283862121540995,
                    16.568032846648297,
                    15.493116056991719,
                    13.987454381095636,
                    16.288298505533497,
                    18.766349422811608,
                    17.577143665904316,
                    16.83442569398649,
                    16.26427375562621,
                    17.604213424304994,
                    17.965850941505067,
                    17.065355636782126,
                    17.448335457035313,
                    18.665913643723805,
                    18.79174383617419,
                    19.406036024299052,
                    20.649308265621283,
                    21.725225831917967,
                    21.74317528453239,
                    21.09626470929183,
                    20.746736328620944,
                    21.558846860227295,
                    22.14956484877846,
                    21.590643309701264,
                    21.54963233907448,
                    23.133709274420532,
                    23.517919383868236,
                    23.993699791412013,
                    24.443297359071074,
                    25.49793225231075,
                    26.331216037455697,
                    24.643002505913536,
                    24.777752390210143
                  ]
                },
                {
                  "line": {
                    "color": "purple"
                  },
                  "mode": "lines",
                  "name": "Full model",
                  "type": "scatter",
                  "x": [
                    "2016-01-01T00:00:00.000000000",
                    "2016-02-01T00:00:00.000000000",
                    "2016-03-01T00:00:00.000000000",
                    "2016-04-01T00:00:00.000000000",
                    "2016-05-01T00:00:00.000000000",
                    "2016-06-01T00:00:00.000000000",
                    "2016-07-01T00:00:00.000000000",
                    "2016-08-01T00:00:00.000000000",
                    "2016-09-01T00:00:00.000000000",
                    "2016-10-01T00:00:00.000000000",
                    "2016-11-01T00:00:00.000000000",
                    "2016-12-01T00:00:00.000000000",
                    "2017-01-01T00:00:00.000000000",
                    "2017-02-01T00:00:00.000000000",
                    "2017-03-01T00:00:00.000000000",
                    "2017-04-01T00:00:00.000000000",
                    "2017-05-01T00:00:00.000000000",
                    "2017-06-01T00:00:00.000000000",
                    "2017-07-01T00:00:00.000000000",
                    "2017-08-01T00:00:00.000000000",
                    "2017-09-01T00:00:00.000000000",
                    "2017-10-01T00:00:00.000000000",
                    "2017-11-01T00:00:00.000000000",
                    "2017-12-01T00:00:00.000000000",
                    "2018-01-01T00:00:00.000000000",
                    "2018-02-01T00:00:00.000000000",
                    "2018-03-01T00:00:00.000000000",
                    "2018-04-01T00:00:00.000000000",
                    "2018-05-01T00:00:00.000000000",
                    "2018-06-01T00:00:00.000000000",
                    "2018-07-01T00:00:00.000000000",
                    "2018-08-01T00:00:00.000000000",
                    "2018-09-01T00:00:00.000000000",
                    "2018-10-01T00:00:00.000000000",
                    "2018-11-01T00:00:00.000000000",
                    "2018-12-01T00:00:00.000000000",
                    "2019-01-01T00:00:00.000000000",
                    "2019-02-01T00:00:00.000000000",
                    "2019-03-01T00:00:00.000000000",
                    "2019-04-01T00:00:00.000000000",
                    "2019-05-01T00:00:00.000000000",
                    "2019-06-01T00:00:00.000000000",
                    "2019-07-01T00:00:00.000000000",
                    "2019-08-01T00:00:00.000000000",
                    "2019-09-01T00:00:00.000000000",
                    "2019-10-01T00:00:00.000000000",
                    "2019-11-01T00:00:00.000000000",
                    "2019-12-01T00:00:00.000000000",
                    "2020-01-01T00:00:00.000000000",
                    "2020-02-01T00:00:00.000000000",
                    "2020-03-01T00:00:00.000000000",
                    "2020-04-01T00:00:00.000000000",
                    "2020-05-01T00:00:00.000000000",
                    "2020-06-01T00:00:00.000000000",
                    "2020-07-01T00:00:00.000000000",
                    "2020-08-01T00:00:00.000000000",
                    "2020-09-01T00:00:00.000000000",
                    "2020-10-01T00:00:00.000000000",
                    "2020-11-01T00:00:00.000000000",
                    "2020-12-01T00:00:00.000000000",
                    "2021-01-01T00:00:00.000000000",
                    "2021-02-01T00:00:00.000000000",
                    "2021-03-01T00:00:00.000000000",
                    "2021-04-01T00:00:00.000000000",
                    "2021-05-01T00:00:00.000000000",
                    "2021-06-01T00:00:00.000000000",
                    "2021-07-01T00:00:00.000000000",
                    "2021-08-01T00:00:00.000000000",
                    "2021-09-01T00:00:00.000000000",
                    "2021-10-01T00:00:00.000000000",
                    "2021-11-01T00:00:00.000000000",
                    "2021-12-01T00:00:00.000000000",
                    "2022-01-01T00:00:00.000000000",
                    "2022-02-01T00:00:00.000000000",
                    "2022-03-01T00:00:00.000000000",
                    "2022-04-01T00:00:00.000000000",
                    "2022-05-01T00:00:00.000000000",
                    "2022-06-01T00:00:00.000000000",
                    "2022-07-01T00:00:00.000000000",
                    "2022-08-01T00:00:00.000000000",
                    "2022-09-01T00:00:00.000000000",
                    "2022-10-01T00:00:00.000000000",
                    "2022-11-01T00:00:00.000000000",
                    "2022-12-01T00:00:00.000000000",
                    "2023-01-01T00:00:00.000000000",
                    "2023-02-01T00:00:00.000000000",
                    "2023-03-01T00:00:00.000000000",
                    "2023-04-01T00:00:00.000000000",
                    "2023-05-01T00:00:00.000000000",
                    "2023-06-01T00:00:00.000000000",
                    "2023-07-01T00:00:00.000000000",
                    "2023-08-01T00:00:00.000000000",
                    "2023-09-01T00:00:00.000000000",
                    "2023-10-01T00:00:00.000000000",
                    "2023-11-01T00:00:00.000000000",
                    "2023-12-01T00:00:00.000000000",
                    "2024-01-01T00:00:00.000000000",
                    "2024-02-01T00:00:00.000000000",
                    "2024-03-01T00:00:00.000000000",
                    "2024-04-01T00:00:00.000000000",
                    "2024-05-01T00:00:00.000000000",
                    "2024-06-01T00:00:00.000000000",
                    "2024-07-01T00:00:00.000000000",
                    "2024-08-01T00:00:00.000000000",
                    "2024-09-01T00:00:00.000000000",
                    "2024-10-01T00:00:00.000000000",
                    "2024-11-01T00:00:00.000000000",
                    "2024-12-01T00:00:00.000000000"
                  ],
                  "y": [
                    6.017227407013786,
                    6.097862787466208,
                    6.179578742764966,
                    6.262389753427076,
                    6.346310494019385,
                    6.431355835758998,
                    6.517540849148528,
                    6.604880806646678,
                    6.6933911853746055,
                    6.783087669858547,
                    6.873986154809213,
                    6.966102747938408,
                    7.0594537728134075,
                    7.154055771749591,
                    7.249925508741825,
                    7.347079972435135,
                    7.445536379135193,
                    7.545312175859128,
                    7.646425043427257,
                    7.748892899596194,
                    7.852733902234003,
                    7.957966452537849,
                    8.064609198294812,
                    8.172681037186363,
                    8.282201120137135,
                    8.39318885470859,
                    8.505663908538127,
                    8.619646212824312,
                    8.735155965858773,
                    8.852213636605478,
                    8.970839968327924,
                    9.091055982264963,
                    9.212882981355897,
                    9.336342554015449,
                    9.461456577959376,
                    9.588247224081297,
                    9.716736960381521,
                    9.846948555948478,
                    9.978905084993531,
                    10.112629930939882,
                    10.248146790566196,
                    10.385479678205831,
                    10.52465293000231,
                    10.665691208221816,
                    10.808619505623465,
                    10.953463149888181,
                    11.1002478081069,
                    11.248999491328904,
                    11.399744559171129,
                    11.552509724489246,
                    11.707322058111322,
                    12.154999942603098,
                    12.259647808306731,
                    12.365196634590214,
                    12.471654178228713,
                    12.579028262778971,
                    12.687326779154246,
                    12.796557686204237,
                    12.906729011299936,
                    13.0178488509236,
                    13.12992537126375,
                    13.242966808815286,
                    13.356981470984826,
                    13.471977736701149,
                    13.587964057031048,
                    13.704948955800331,
                    13.822941030220246,
                    13.941948951519342,
                    14.06198146558063,
                    14.183047393584404,
                    14.305155632656453,
                    14.428315156521924,
                    14.552535016164816,
                    14.67782434049309,
                    14.804192337009635,
                    16.3300733660304,
                    16.5489086517221,
                    16.770676495106006,
                    16.995416194664493,
                    17.223167575509205,
                    17.453970996438283,
                    17.68786735708818,
                    17.924898105181285,
                    18.165105243870673,
                    18.408531339183348,
                    18.655219527563126,
                    18.90521352351467,
                    19.15855762734993,
                    19.415296733038424,
                    19.675476336162678,
                    19.939142541980292,
                    20.206342073594058,
                    20.477122280231566,
                    20.751531145635692,
                    21.029617296567622,
                    21.311430011423802,
                    21.597019228968296,
                    21.886435557182217,
                    22.179730282231773,
                    22.476955377556443,
                    22.778163513078923,
                    23.08340806453856,
                    23.392743122949835,
                    23.706223504187584,
                    24.023904758700606,
                    24.34584318135562,
                    24.67209582141296,
                    25.002720492636012
                  ]
                }
              ],
              "layout": {
                "annotations": [
                  {
                    "arrowhead": 2,
                    "ax": 30,
                    "ay": -40,
                    "showarrow": true,
                    "text": "Pandemia",
                    "x": "2020-04-01",
                    "y": 26.331216037455697
                  },
                  {
                    "arrowhead": 2,
                    "ax": 30,
                    "ay": -40,
                    "showarrow": true,
                    "text": "Pos Pandemia",
                    "x": "2022-04-01",
                    "y": 26.331216037455697
                  }
                ],
                "legend": {
                  "title": {
                    "text": "Legend"
                  }
                },
                "shapes": [
                  {
                    "line": {
                      "color": "black",
                      "dash": "dash"
                    },
                    "type": "line",
                    "x0": "2020-04-01",
                    "x1": "2020-04-01",
                    "y0": 5.270734376769087,
                    "y1": 26.331216037455697
                  },
                  {
                    "line": {
                      "color": "black",
                      "dash": "dash"
                    },
                    "type": "line",
                    "x0": "2022-04-01",
                    "x1": "2022-04-01",
                    "y0": 5.270734376769087,
                    "y1": 26.331216037455697
                  }
                ],
                "template": {
                  "data": {
                    "bar": [
                      {
                        "error_x": {
                          "color": "#2a3f5f"
                        },
                        "error_y": {
                          "color": "#2a3f5f"
                        },
                        "marker": {
                          "line": {
                            "color": "#E5ECF6",
                            "width": 0.5
                          },
                          "pattern": {
                            "fillmode": "overlay",
                            "size": 10,
                            "solidity": 0.2
                          }
                        },
                        "type": "bar"
                      }
                    ],
                    "barpolar": [
                      {
                        "marker": {
                          "line": {
                            "color": "#E5ECF6",
                            "width": 0.5
                          },
                          "pattern": {
                            "fillmode": "overlay",
                            "size": 10,
                            "solidity": 0.2
                          }
                        },
                        "type": "barpolar"
                      }
                    ],
                    "carpet": [
                      {
                        "aaxis": {
                          "endlinecolor": "#2a3f5f",
                          "gridcolor": "white",
                          "linecolor": "white",
                          "minorgridcolor": "white",
                          "startlinecolor": "#2a3f5f"
                        },
                        "baxis": {
                          "endlinecolor": "#2a3f5f",
                          "gridcolor": "white",
                          "linecolor": "white",
                          "minorgridcolor": "white",
                          "startlinecolor": "#2a3f5f"
                        },
                        "type": "carpet"
                      }
                    ],
                    "choropleth": [
                      {
                        "colorbar": {
                          "outlinewidth": 0,
                          "ticks": ""
                        },
                        "type": "choropleth"
                      }
                    ],
                    "contour": [
                      {
                        "colorbar": {
                          "outlinewidth": 0,
                          "ticks": ""
                        },
                        "colorscale": [
                          [
                            0,
                            "#0d0887"
                          ],
                          [
                            0.1111111111111111,
                            "#46039f"
                          ],
                          [
                            0.2222222222222222,
                            "#7201a8"
                          ],
                          [
                            0.3333333333333333,
                            "#9c179e"
                          ],
                          [
                            0.4444444444444444,
                            "#bd3786"
                          ],
                          [
                            0.5555555555555556,
                            "#d8576b"
                          ],
                          [
                            0.6666666666666666,
                            "#ed7953"
                          ],
                          [
                            0.7777777777777778,
                            "#fb9f3a"
                          ],
                          [
                            0.8888888888888888,
                            "#fdca26"
                          ],
                          [
                            1,
                            "#f0f921"
                          ]
                        ],
                        "type": "contour"
                      }
                    ],
                    "contourcarpet": [
                      {
                        "colorbar": {
                          "outlinewidth": 0,
                          "ticks": ""
                        },
                        "type": "contourcarpet"
                      }
                    ],
                    "heatmap": [
                      {
                        "colorbar": {
                          "outlinewidth": 0,
                          "ticks": ""
                        },
                        "colorscale": [
                          [
                            0,
                            "#0d0887"
                          ],
                          [
                            0.1111111111111111,
                            "#46039f"
                          ],
                          [
                            0.2222222222222222,
                            "#7201a8"
                          ],
                          [
                            0.3333333333333333,
                            "#9c179e"
                          ],
                          [
                            0.4444444444444444,
                            "#bd3786"
                          ],
                          [
                            0.5555555555555556,
                            "#d8576b"
                          ],
                          [
                            0.6666666666666666,
                            "#ed7953"
                          ],
                          [
                            0.7777777777777778,
                            "#fb9f3a"
                          ],
                          [
                            0.8888888888888888,
                            "#fdca26"
                          ],
                          [
                            1,
                            "#f0f921"
                          ]
                        ],
                        "type": "heatmap"
                      }
                    ],
                    "heatmapgl": [
                      {
                        "colorbar": {
                          "outlinewidth": 0,
                          "ticks": ""
                        },
                        "colorscale": [
                          [
                            0,
                            "#0d0887"
                          ],
                          [
                            0.1111111111111111,
                            "#46039f"
                          ],
                          [
                            0.2222222222222222,
                            "#7201a8"
                          ],
                          [
                            0.3333333333333333,
                            "#9c179e"
                          ],
                          [
                            0.4444444444444444,
                            "#bd3786"
                          ],
                          [
                            0.5555555555555556,
                            "#d8576b"
                          ],
                          [
                            0.6666666666666666,
                            "#ed7953"
                          ],
                          [
                            0.7777777777777778,
                            "#fb9f3a"
                          ],
                          [
                            0.8888888888888888,
                            "#fdca26"
                          ],
                          [
                            1,
                            "#f0f921"
                          ]
                        ],
                        "type": "heatmapgl"
                      }
                    ],
                    "histogram": [
                      {
                        "marker": {
                          "pattern": {
                            "fillmode": "overlay",
                            "size": 10,
                            "solidity": 0.2
                          }
                        },
                        "type": "histogram"
                      }
                    ],
                    "histogram2d": [
                      {
                        "colorbar": {
                          "outlinewidth": 0,
                          "ticks": ""
                        },
                        "colorscale": [
                          [
                            0,
                            "#0d0887"
                          ],
                          [
                            0.1111111111111111,
                            "#46039f"
                          ],
                          [
                            0.2222222222222222,
                            "#7201a8"
                          ],
                          [
                            0.3333333333333333,
                            "#9c179e"
                          ],
                          [
                            0.4444444444444444,
                            "#bd3786"
                          ],
                          [
                            0.5555555555555556,
                            "#d8576b"
                          ],
                          [
                            0.6666666666666666,
                            "#ed7953"
                          ],
                          [
                            0.7777777777777778,
                            "#fb9f3a"
                          ],
                          [
                            0.8888888888888888,
                            "#fdca26"
                          ],
                          [
                            1,
                            "#f0f921"
                          ]
                        ],
                        "type": "histogram2d"
                      }
                    ],
                    "histogram2dcontour": [
                      {
                        "colorbar": {
                          "outlinewidth": 0,
                          "ticks": ""
                        },
                        "colorscale": [
                          [
                            0,
                            "#0d0887"
                          ],
                          [
                            0.1111111111111111,
                            "#46039f"
                          ],
                          [
                            0.2222222222222222,
                            "#7201a8"
                          ],
                          [
                            0.3333333333333333,
                            "#9c179e"
                          ],
                          [
                            0.4444444444444444,
                            "#bd3786"
                          ],
                          [
                            0.5555555555555556,
                            "#d8576b"
                          ],
                          [
                            0.6666666666666666,
                            "#ed7953"
                          ],
                          [
                            0.7777777777777778,
                            "#fb9f3a"
                          ],
                          [
                            0.8888888888888888,
                            "#fdca26"
                          ],
                          [
                            1,
                            "#f0f921"
                          ]
                        ],
                        "type": "histogram2dcontour"
                      }
                    ],
                    "mesh3d": [
                      {
                        "colorbar": {
                          "outlinewidth": 0,
                          "ticks": ""
                        },
                        "type": "mesh3d"
                      }
                    ],
                    "parcoords": [
                      {
                        "line": {
                          "colorbar": {
                            "outlinewidth": 0,
                            "ticks": ""
                          }
                        },
                        "type": "parcoords"
                      }
                    ],
                    "pie": [
                      {
                        "automargin": true,
                        "type": "pie"
                      }
                    ],
                    "scatter": [
                      {
                        "fillpattern": {
                          "fillmode": "overlay",
                          "size": 10,
                          "solidity": 0.2
                        },
                        "type": "scatter"
                      }
                    ],
                    "scatter3d": [
                      {
                        "line": {
                          "colorbar": {
                            "outlinewidth": 0,
                            "ticks": ""
                          }
                        },
                        "marker": {
                          "colorbar": {
                            "outlinewidth": 0,
                            "ticks": ""
                          }
                        },
                        "type": "scatter3d"
                      }
                    ],
                    "scattercarpet": [
                      {
                        "marker": {
                          "colorbar": {
                            "outlinewidth": 0,
                            "ticks": ""
                          }
                        },
                        "type": "scattercarpet"
                      }
                    ],
                    "scattergeo": [
                      {
                        "marker": {
                          "colorbar": {
                            "outlinewidth": 0,
                            "ticks": ""
                          }
                        },
                        "type": "scattergeo"
                      }
                    ],
                    "scattergl": [
                      {
                        "marker": {
                          "colorbar": {
                            "outlinewidth": 0,
                            "ticks": ""
                          }
                        },
                        "type": "scattergl"
                      }
                    ],
                    "scattermapbox": [
                      {
                        "marker": {
                          "colorbar": {
                            "outlinewidth": 0,
                            "ticks": ""
                          }
                        },
                        "type": "scattermapbox"
                      }
                    ],
                    "scatterpolar": [
                      {
                        "marker": {
                          "colorbar": {
                            "outlinewidth": 0,
                            "ticks": ""
                          }
                        },
                        "type": "scatterpolar"
                      }
                    ],
                    "scatterpolargl": [
                      {
                        "marker": {
                          "colorbar": {
                            "outlinewidth": 0,
                            "ticks": ""
                          }
                        },
                        "type": "scatterpolargl"
                      }
                    ],
                    "scatterternary": [
                      {
                        "marker": {
                          "colorbar": {
                            "outlinewidth": 0,
                            "ticks": ""
                          }
                        },
                        "type": "scatterternary"
                      }
                    ],
                    "surface": [
                      {
                        "colorbar": {
                          "outlinewidth": 0,
                          "ticks": ""
                        },
                        "colorscale": [
                          [
                            0,
                            "#0d0887"
                          ],
                          [
                            0.1111111111111111,
                            "#46039f"
                          ],
                          [
                            0.2222222222222222,
                            "#7201a8"
                          ],
                          [
                            0.3333333333333333,
                            "#9c179e"
                          ],
                          [
                            0.4444444444444444,
                            "#bd3786"
                          ],
                          [
                            0.5555555555555556,
                            "#d8576b"
                          ],
                          [
                            0.6666666666666666,
                            "#ed7953"
                          ],
                          [
                            0.7777777777777778,
                            "#fb9f3a"
                          ],
                          [
                            0.8888888888888888,
                            "#fdca26"
                          ],
                          [
                            1,
                            "#f0f921"
                          ]
                        ],
                        "type": "surface"
                      }
                    ],
                    "table": [
                      {
                        "cells": {
                          "fill": {
                            "color": "#EBF0F8"
                          },
                          "line": {
                            "color": "white"
                          }
                        },
                        "header": {
                          "fill": {
                            "color": "#C8D4E3"
                          },
                          "line": {
                            "color": "white"
                          }
                        },
                        "type": "table"
                      }
                    ]
                  },
                  "layout": {
                    "annotationdefaults": {
                      "arrowcolor": "#2a3f5f",
                      "arrowhead": 0,
                      "arrowwidth": 1
                    },
                    "autotypenumbers": "strict",
                    "coloraxis": {
                      "colorbar": {
                        "outlinewidth": 0,
                        "ticks": ""
                      }
                    },
                    "colorscale": {
                      "diverging": [
                        [
                          0,
                          "#8e0152"
                        ],
                        [
                          0.1,
                          "#c51b7d"
                        ],
                        [
                          0.2,
                          "#de77ae"
                        ],
                        [
                          0.3,
                          "#f1b6da"
                        ],
                        [
                          0.4,
                          "#fde0ef"
                        ],
                        [
                          0.5,
                          "#f7f7f7"
                        ],
                        [
                          0.6,
                          "#e6f5d0"
                        ],
                        [
                          0.7,
                          "#b8e186"
                        ],
                        [
                          0.8,
                          "#7fbc41"
                        ],
                        [
                          0.9,
                          "#4d9221"
                        ],
                        [
                          1,
                          "#276419"
                        ]
                      ],
                      "sequential": [
                        [
                          0,
                          "#0d0887"
                        ],
                        [
                          0.1111111111111111,
                          "#46039f"
                        ],
                        [
                          0.2222222222222222,
                          "#7201a8"
                        ],
                        [
                          0.3333333333333333,
                          "#9c179e"
                        ],
                        [
                          0.4444444444444444,
                          "#bd3786"
                        ],
                        [
                          0.5555555555555556,
                          "#d8576b"
                        ],
                        [
                          0.6666666666666666,
                          "#ed7953"
                        ],
                        [
                          0.7777777777777778,
                          "#fb9f3a"
                        ],
                        [
                          0.8888888888888888,
                          "#fdca26"
                        ],
                        [
                          1,
                          "#f0f921"
                        ]
                      ],
                      "sequentialminus": [
                        [
                          0,
                          "#0d0887"
                        ],
                        [
                          0.1111111111111111,
                          "#46039f"
                        ],
                        [
                          0.2222222222222222,
                          "#7201a8"
                        ],
                        [
                          0.3333333333333333,
                          "#9c179e"
                        ],
                        [
                          0.4444444444444444,
                          "#bd3786"
                        ],
                        [
                          0.5555555555555556,
                          "#d8576b"
                        ],
                        [
                          0.6666666666666666,
                          "#ed7953"
                        ],
                        [
                          0.7777777777777778,
                          "#fb9f3a"
                        ],
                        [
                          0.8888888888888888,
                          "#fdca26"
                        ],
                        [
                          1,
                          "#f0f921"
                        ]
                      ]
                    },
                    "colorway": [
                      "#636efa",
                      "#EF553B",
                      "#00cc96",
                      "#ab63fa",
                      "#FFA15A",
                      "#19d3f3",
                      "#FF6692",
                      "#B6E880",
                      "#FF97FF",
                      "#FECB52"
                    ],
                    "font": {
                      "color": "#2a3f5f"
                    },
                    "geo": {
                      "bgcolor": "white",
                      "lakecolor": "white",
                      "landcolor": "#E5ECF6",
                      "showlakes": true,
                      "showland": true,
                      "subunitcolor": "white"
                    },
                    "hoverlabel": {
                      "align": "left"
                    },
                    "hovermode": "closest",
                    "mapbox": {
                      "style": "light"
                    },
                    "paper_bgcolor": "white",
                    "plot_bgcolor": "#E5ECF6",
                    "polar": {
                      "angularaxis": {
                        "gridcolor": "white",
                        "linecolor": "white",
                        "ticks": ""
                      },
                      "bgcolor": "#E5ECF6",
                      "radialaxis": {
                        "gridcolor": "white",
                        "linecolor": "white",
                        "ticks": ""
                      }
                    },
                    "scene": {
                      "xaxis": {
                        "backgroundcolor": "#E5ECF6",
                        "gridcolor": "white",
                        "gridwidth": 2,
                        "linecolor": "white",
                        "showbackground": true,
                        "ticks": "",
                        "zerolinecolor": "white"
                      },
                      "yaxis": {
                        "backgroundcolor": "#E5ECF6",
                        "gridcolor": "white",
                        "gridwidth": 2,
                        "linecolor": "white",
                        "showbackground": true,
                        "ticks": "",
                        "zerolinecolor": "white"
                      },
                      "zaxis": {
                        "backgroundcolor": "#E5ECF6",
                        "gridcolor": "white",
                        "gridwidth": 2,
                        "linecolor": "white",
                        "showbackground": true,
                        "ticks": "",
                        "zerolinecolor": "white"
                      }
                    },
                    "shapedefaults": {
                      "line": {
                        "color": "#2a3f5f"
                      }
                    },
                    "ternary": {
                      "aaxis": {
                        "gridcolor": "white",
                        "linecolor": "white",
                        "ticks": ""
                      },
                      "baxis": {
                        "gridcolor": "white",
                        "linecolor": "white",
                        "ticks": ""
                      },
                      "bgcolor": "#E5ECF6",
                      "caxis": {
                        "gridcolor": "white",
                        "linecolor": "white",
                        "ticks": ""
                      }
                    },
                    "title": {
                      "x": 0.05
                    },
                    "xaxis": {
                      "automargin": true,
                      "gridcolor": "white",
                      "linecolor": "white",
                      "ticks": "",
                      "title": {
                        "standoff": 15
                      },
                      "zerolinecolor": "white",
                      "zerolinewidth": 2
                    },
                    "yaxis": {
                      "automargin": true,
                      "gridcolor": "white",
                      "linecolor": "white",
                      "ticks": "",
                      "title": {
                        "standoff": 15
                      },
                      "zerolinecolor": "white",
                      "zerolinewidth": 2
                    }
                  }
                },
                "title": {
                  "text": "norte"
                },
                "xaxis": {
                  "title": {
                    "text": "Time"
                  }
                },
                "yaxis": {
                  "title": {
                    "text": "Value"
                  }
                }
              }
            }
          },
          "metadata": {},
          "output_type": "display_data"
        },
        {
          "data": {
            "application/vnd.plotly.v1+json": {
              "config": {
                "plotlyServerURL": "https://plot.ly"
              },
              "data": [
                {
                  "line": {
                    "color": "black",
                    "dash": "dot"
                  },
                  "mode": "lines",
                  "name": "Baseline",
                  "type": "scatter",
                  "x": [
                    "2016-01-01T00:00:00.000000000",
                    "2016-02-01T00:00:00.000000000",
                    "2016-03-01T00:00:00.000000000",
                    "2016-04-01T00:00:00.000000000",
                    "2016-05-01T00:00:00.000000000",
                    "2016-06-01T00:00:00.000000000",
                    "2016-07-01T00:00:00.000000000",
                    "2016-08-01T00:00:00.000000000",
                    "2016-09-01T00:00:00.000000000",
                    "2016-10-01T00:00:00.000000000",
                    "2016-11-01T00:00:00.000000000",
                    "2016-12-01T00:00:00.000000000",
                    "2017-01-01T00:00:00.000000000",
                    "2017-02-01T00:00:00.000000000",
                    "2017-03-01T00:00:00.000000000",
                    "2017-04-01T00:00:00.000000000",
                    "2017-05-01T00:00:00.000000000",
                    "2017-06-01T00:00:00.000000000",
                    "2017-07-01T00:00:00.000000000",
                    "2017-08-01T00:00:00.000000000",
                    "2017-09-01T00:00:00.000000000",
                    "2017-10-01T00:00:00.000000000",
                    "2017-11-01T00:00:00.000000000",
                    "2017-12-01T00:00:00.000000000",
                    "2018-01-01T00:00:00.000000000",
                    "2018-02-01T00:00:00.000000000",
                    "2018-03-01T00:00:00.000000000",
                    "2018-04-01T00:00:00.000000000",
                    "2018-05-01T00:00:00.000000000",
                    "2018-06-01T00:00:00.000000000",
                    "2018-07-01T00:00:00.000000000",
                    "2018-08-01T00:00:00.000000000",
                    "2018-09-01T00:00:00.000000000",
                    "2018-10-01T00:00:00.000000000",
                    "2018-11-01T00:00:00.000000000",
                    "2018-12-01T00:00:00.000000000",
                    "2019-01-01T00:00:00.000000000",
                    "2019-02-01T00:00:00.000000000",
                    "2019-03-01T00:00:00.000000000",
                    "2019-04-01T00:00:00.000000000",
                    "2019-05-01T00:00:00.000000000",
                    "2019-06-01T00:00:00.000000000",
                    "2019-07-01T00:00:00.000000000",
                    "2019-08-01T00:00:00.000000000",
                    "2019-09-01T00:00:00.000000000",
                    "2019-10-01T00:00:00.000000000",
                    "2019-11-01T00:00:00.000000000",
                    "2019-12-01T00:00:00.000000000",
                    "2020-01-01T00:00:00.000000000",
                    "2020-02-01T00:00:00.000000000",
                    "2020-03-01T00:00:00.000000000",
                    "2020-04-01T00:00:00.000000000",
                    "2020-05-01T00:00:00.000000000",
                    "2020-06-01T00:00:00.000000000",
                    "2020-07-01T00:00:00.000000000",
                    "2020-08-01T00:00:00.000000000",
                    "2020-09-01T00:00:00.000000000",
                    "2020-10-01T00:00:00.000000000",
                    "2020-11-01T00:00:00.000000000",
                    "2020-12-01T00:00:00.000000000",
                    "2021-01-01T00:00:00.000000000",
                    "2021-02-01T00:00:00.000000000",
                    "2021-03-01T00:00:00.000000000",
                    "2021-04-01T00:00:00.000000000",
                    "2021-05-01T00:00:00.000000000",
                    "2021-06-01T00:00:00.000000000",
                    "2021-07-01T00:00:00.000000000",
                    "2021-08-01T00:00:00.000000000",
                    "2021-09-01T00:00:00.000000000",
                    "2021-10-01T00:00:00.000000000",
                    "2021-11-01T00:00:00.000000000",
                    "2021-12-01T00:00:00.000000000",
                    "2022-01-01T00:00:00.000000000",
                    "2022-02-01T00:00:00.000000000",
                    "2022-03-01T00:00:00.000000000",
                    "2022-04-01T00:00:00.000000000",
                    "2022-05-01T00:00:00.000000000",
                    "2022-06-01T00:00:00.000000000",
                    "2022-07-01T00:00:00.000000000",
                    "2022-08-01T00:00:00.000000000",
                    "2022-09-01T00:00:00.000000000",
                    "2022-10-01T00:00:00.000000000",
                    "2022-11-01T00:00:00.000000000",
                    "2022-12-01T00:00:00.000000000",
                    "2023-01-01T00:00:00.000000000",
                    "2023-02-01T00:00:00.000000000",
                    "2023-03-01T00:00:00.000000000",
                    "2023-04-01T00:00:00.000000000",
                    "2023-05-01T00:00:00.000000000",
                    "2023-06-01T00:00:00.000000000",
                    "2023-07-01T00:00:00.000000000",
                    "2023-08-01T00:00:00.000000000",
                    "2023-09-01T00:00:00.000000000",
                    "2023-10-01T00:00:00.000000000",
                    "2023-11-01T00:00:00.000000000",
                    "2023-12-01T00:00:00.000000000",
                    "2024-01-01T00:00:00.000000000",
                    "2024-02-01T00:00:00.000000000",
                    "2024-03-01T00:00:00.000000000",
                    "2024-04-01T00:00:00.000000000",
                    "2024-05-01T00:00:00.000000000",
                    "2024-06-01T00:00:00.000000000",
                    "2024-07-01T00:00:00.000000000",
                    "2024-08-01T00:00:00.000000000",
                    "2024-09-01T00:00:00.000000000",
                    "2024-10-01T00:00:00.000000000",
                    "2024-11-01T00:00:00.000000000",
                    "2024-12-01T00:00:00.000000000"
                  ],
                  "y": [
                    14.501054746153462,
                    14.619961706372175,
                    14.739843689817546,
                    14.860708691566481,
                    14.982564772254591,
                    15.105420058613772,
                    15.229282744014162,
                    15.354161089010574,
                    15.480063421893433,
                    15.606998139244155,
                    15.734973706495143,
                    15.863998658494383,
                    15.994081600074592,
                    16.12523120662714,
                    16.25745622468058,
                    16.390765472483974,
                    16.525167840595024,
                    16.66067229247295,
                    16.797287865076285,
                    16.9350236694656,
                    17.073888891411084,
                    17.21389279200516,
                    17.35504470828016,
                    17.49735405383097,
                    17.640830319442856,
                    17.785483073724443,
                    17.9313219637458,
                    18.078356715681874,
                    18.226597135461105,
                    18.37605310941939,
                    18.526734604959458,
                    18.678651671215555,
                    18.831814439723654,
                    18.98623312509718,
                    19.141918025708158,
                    19.298879524374073,
                    19.45712808905033,
                    19.616674273528318,
                    19.777528718139294,
                    19.93970215046401,
                    20.103205386048117,
                    20.268049329123464,
                    20.43424497333537,
                    20.60180340247574,
                    20.77073579122227,
                    20.941053405883746,
                    21.112767605151355,
                    21.285889840856214,
                    21.46043165873316,
                    21.636404699190667,
                    21.81382069808724,
                    21.992691487514044,
                    22.17302899658399,
                    22.35484525222737,
                    22.538152379993875,
                    22.72296260486128,
                    22.9092882520508,
                    23.097141747848983,
                    23.28653562043649,
                    23.477482500723628,
                    23.669995123192663,
                    23.86408632674717,
                    24.05976905556821,
                    24.257056359977618,
                    24.45596139730838,
                    24.65649743278205,
                    24.858677840393455,
                    25.06251610380265,
                    25.268025817234108,
                    25.47522068638335,
                    25.68411452933104,
                    25.894721277464466,
                    26.10705497640667,
                    26.321129786953186,
                    26.536959986016406,
                    26.754559967577734,
                    26.973944243647583,
                    27.195127445233116,
                    27.418124323314064,
                    27.642949749826506,
                    27.86961871865462,
                    28.098146346630703,
                    28.32854787454334,
                    28.560838668153778,
                    28.795034219220714,
                    29.031150146533502,
                    29.269202196953707,
                    29.509206246465332,
                    29.751178301233637,
                    29.995134498672517,
                    30.241091108520834,
                    30.48906453392738,
                    30.739071312544855,
                    30.991128117632822,
                    31.245251759169577,
                    31.501459184973342,
                    31.759767481832423,
                    32.02019387664481,
                    32.282755737567086,
                    32.54747057517266,
                    32.81435604361959,
                    33.08342994182803,
                    33.354710214667165,
                    33.62821495415201,
                    33.90396240065003,
                    34.18197094409756,
                    34.462259125226254,
                    34.74484563679966
                  ]
                },
                {
                  "marker": {
                    "color": "black"
                  },
                  "mode": "markers",
                  "name": "Real",
                  "type": "scatter",
                  "x": [
                    "2016-01-01T00:00:00.000000000",
                    "2016-02-01T00:00:00.000000000",
                    "2016-03-01T00:00:00.000000000",
                    "2016-04-01T00:00:00.000000000",
                    "2016-05-01T00:00:00.000000000",
                    "2016-06-01T00:00:00.000000000",
                    "2016-07-01T00:00:00.000000000",
                    "2016-08-01T00:00:00.000000000",
                    "2016-09-01T00:00:00.000000000",
                    "2016-10-01T00:00:00.000000000",
                    "2016-11-01T00:00:00.000000000",
                    "2016-12-01T00:00:00.000000000",
                    "2017-01-01T00:00:00.000000000",
                    "2017-02-01T00:00:00.000000000",
                    "2017-03-01T00:00:00.000000000",
                    "2017-04-01T00:00:00.000000000",
                    "2017-05-01T00:00:00.000000000",
                    "2017-06-01T00:00:00.000000000",
                    "2017-07-01T00:00:00.000000000",
                    "2017-08-01T00:00:00.000000000",
                    "2017-09-01T00:00:00.000000000",
                    "2017-10-01T00:00:00.000000000",
                    "2017-11-01T00:00:00.000000000",
                    "2017-12-01T00:00:00.000000000",
                    "2018-01-01T00:00:00.000000000",
                    "2018-02-01T00:00:00.000000000",
                    "2018-03-01T00:00:00.000000000",
                    "2018-04-01T00:00:00.000000000",
                    "2018-05-01T00:00:00.000000000",
                    "2018-06-01T00:00:00.000000000",
                    "2018-07-01T00:00:00.000000000",
                    "2018-08-01T00:00:00.000000000",
                    "2018-09-01T00:00:00.000000000",
                    "2018-10-01T00:00:00.000000000",
                    "2018-11-01T00:00:00.000000000",
                    "2018-12-01T00:00:00.000000000",
                    "2019-01-01T00:00:00.000000000",
                    "2019-02-01T00:00:00.000000000",
                    "2019-03-01T00:00:00.000000000",
                    "2019-04-01T00:00:00.000000000",
                    "2019-05-01T00:00:00.000000000",
                    "2019-06-01T00:00:00.000000000",
                    "2019-07-01T00:00:00.000000000",
                    "2019-08-01T00:00:00.000000000",
                    "2019-09-01T00:00:00.000000000",
                    "2019-10-01T00:00:00.000000000",
                    "2019-11-01T00:00:00.000000000",
                    "2019-12-01T00:00:00.000000000",
                    "2020-01-01T00:00:00.000000000",
                    "2020-02-01T00:00:00.000000000",
                    "2020-03-01T00:00:00.000000000",
                    "2020-04-01T00:00:00.000000000",
                    "2020-05-01T00:00:00.000000000",
                    "2020-06-01T00:00:00.000000000",
                    "2020-07-01T00:00:00.000000000",
                    "2020-08-01T00:00:00.000000000",
                    "2020-09-01T00:00:00.000000000",
                    "2020-10-01T00:00:00.000000000",
                    "2020-11-01T00:00:00.000000000",
                    "2020-12-01T00:00:00.000000000",
                    "2021-01-01T00:00:00.000000000",
                    "2021-02-01T00:00:00.000000000",
                    "2021-03-01T00:00:00.000000000",
                    "2021-04-01T00:00:00.000000000",
                    "2021-05-01T00:00:00.000000000",
                    "2021-06-01T00:00:00.000000000",
                    "2021-07-01T00:00:00.000000000",
                    "2021-08-01T00:00:00.000000000",
                    "2021-09-01T00:00:00.000000000",
                    "2021-10-01T00:00:00.000000000",
                    "2021-11-01T00:00:00.000000000",
                    "2021-12-01T00:00:00.000000000",
                    "2022-01-01T00:00:00.000000000",
                    "2022-02-01T00:00:00.000000000",
                    "2022-03-01T00:00:00.000000000",
                    "2022-04-01T00:00:00.000000000",
                    "2022-05-01T00:00:00.000000000",
                    "2022-06-01T00:00:00.000000000",
                    "2022-07-01T00:00:00.000000000",
                    "2022-08-01T00:00:00.000000000",
                    "2022-09-01T00:00:00.000000000",
                    "2022-10-01T00:00:00.000000000",
                    "2022-11-01T00:00:00.000000000",
                    "2022-12-01T00:00:00.000000000",
                    "2023-01-01T00:00:00.000000000",
                    "2023-02-01T00:00:00.000000000",
                    "2023-03-01T00:00:00.000000000",
                    "2023-04-01T00:00:00.000000000",
                    "2023-05-01T00:00:00.000000000",
                    "2023-06-01T00:00:00.000000000",
                    "2023-07-01T00:00:00.000000000",
                    "2023-08-01T00:00:00.000000000",
                    "2023-09-01T00:00:00.000000000",
                    "2023-10-01T00:00:00.000000000",
                    "2023-11-01T00:00:00.000000000",
                    "2023-12-01T00:00:00.000000000",
                    "2024-01-01T00:00:00.000000000",
                    "2024-02-01T00:00:00.000000000",
                    "2024-03-01T00:00:00.000000000",
                    "2024-04-01T00:00:00.000000000",
                    "2024-05-01T00:00:00.000000000",
                    "2024-06-01T00:00:00.000000000",
                    "2024-07-01T00:00:00.000000000",
                    "2024-08-01T00:00:00.000000000",
                    "2024-09-01T00:00:00.000000000",
                    "2024-10-01T00:00:00.000000000",
                    "2024-11-01T00:00:00.000000000",
                    "2024-12-01T00:00:00.000000000"
                  ],
                  "y": [
                    16.214763539224194,
                    11.50081305717404,
                    10.747750033985515,
                    10.967214069519914,
                    11.301033855683935,
                    11.50675837651441,
                    11.240982076129269,
                    10.99509605189297,
                    12.14665085054689,
                    12.600596430118408,
                    13.000515144930015,
                    14.364605310169305,
                    14.236164688676144,
                    14.761487357587162,
                    14.761886967492044,
                    15.14359134501428,
                    14.410209607866232,
                    15.451024504087313,
                    15.36138150781766,
                    15.588142981248229,
                    17.065052285574094,
                    18.06155750906033,
                    17.841909478125782,
                    18.05480018412292,
                    17.669845094648576,
                    18.185187308725563,
                    17.950453785779263,
                    18.729090799185194,
                    18.081350208384745,
                    19.56274308315385,
                    18.885640415734603,
                    19.793114608531845,
                    19.759887562699213,
                    20.337163673447794,
                    20.63169704718812,
                    20.218297179083624,
                    19.640453178247334,
                    20.274882787563254,
                    20.424304598098384,
                    19.631902149191486,
                    19.974011964303227,
                    20.77808414973822,
                    22.082711271518505,
                    24.09753919330329,
                    24.508796528561742,
                    24.61146428133453,
                    24.586285364643953,
                    24.81857492401945,
                    24.285880826912887,
                    25.163916993285326,
                    25.164493190057506,
                    31.586773731311002,
                    30.04770398432218,
                    28.70785063666342,
                    26.893340847344078,
                    27.74223470570267,
                    28.791763634418853,
                    28.10866990685818,
                    27.537725064250072,
                    27.093181900417818,
                    25.655236468392513,
                    27.276362168033607,
                    26.2061040320222,
                    28.22230211244873,
                    26.450315791316513,
                    26.571615780316336,
                    28.131499613846472,
                    29.40814456535118,
                    30.03777349027119,
                    29.98090772016616,
                    29.082972686148715,
                    27.125681540080386,
                    20.50091788014112,
                    27.461225650517765,
                    28.686628966228405,
                    28.656692341815543,
                    27.09992907510253,
                    25.453157857291124,
                    25.487032246085946,
                    26.949134176379925,
                    29.74795136807938,
                    29.17274461050485,
                    28.436756672617342,
                    28.67752865677373,
                    29.80827743003414,
                    30.714038739391953,
                    29.41020297275323,
                    29.089856244683215,
                    29.721212779513397,
                    30.519215021874267,
                    31.195245406092614,
                    32.408510612327895,
                    33.153697014146786,
                    32.608724856068434,
                    32.36564873933189,
                    32.43238065832724,
                    32.223857394218086,
                    30.759512116085055,
                    28.157161333648816,
                    29.068986571894232,
                    30.5624130123724,
                    31.575337443150843,
                    32.59123306696037,
                    33.70667079457516,
                    33.542262834221226,
                    33.40932597857896,
                    33.451133476929996,
                    32.50169407996058
                  ]
                },
                {
                  "line": {
                    "color": "purple"
                  },
                  "mode": "lines",
                  "name": "Full model",
                  "type": "scatter",
                  "x": [
                    "2016-01-01T00:00:00.000000000",
                    "2016-02-01T00:00:00.000000000",
                    "2016-03-01T00:00:00.000000000",
                    "2016-04-01T00:00:00.000000000",
                    "2016-05-01T00:00:00.000000000",
                    "2016-06-01T00:00:00.000000000",
                    "2016-07-01T00:00:00.000000000",
                    "2016-08-01T00:00:00.000000000",
                    "2016-09-01T00:00:00.000000000",
                    "2016-10-01T00:00:00.000000000",
                    "2016-11-01T00:00:00.000000000",
                    "2016-12-01T00:00:00.000000000",
                    "2017-01-01T00:00:00.000000000",
                    "2017-02-01T00:00:00.000000000",
                    "2017-03-01T00:00:00.000000000",
                    "2017-04-01T00:00:00.000000000",
                    "2017-05-01T00:00:00.000000000",
                    "2017-06-01T00:00:00.000000000",
                    "2017-07-01T00:00:00.000000000",
                    "2017-08-01T00:00:00.000000000",
                    "2017-09-01T00:00:00.000000000",
                    "2017-10-01T00:00:00.000000000",
                    "2017-11-01T00:00:00.000000000",
                    "2017-12-01T00:00:00.000000000",
                    "2018-01-01T00:00:00.000000000",
                    "2018-02-01T00:00:00.000000000",
                    "2018-03-01T00:00:00.000000000",
                    "2018-04-01T00:00:00.000000000",
                    "2018-05-01T00:00:00.000000000",
                    "2018-06-01T00:00:00.000000000",
                    "2018-07-01T00:00:00.000000000",
                    "2018-08-01T00:00:00.000000000",
                    "2018-09-01T00:00:00.000000000",
                    "2018-10-01T00:00:00.000000000",
                    "2018-11-01T00:00:00.000000000",
                    "2018-12-01T00:00:00.000000000",
                    "2019-01-01T00:00:00.000000000",
                    "2019-02-01T00:00:00.000000000",
                    "2019-03-01T00:00:00.000000000",
                    "2019-04-01T00:00:00.000000000",
                    "2019-05-01T00:00:00.000000000",
                    "2019-06-01T00:00:00.000000000",
                    "2019-07-01T00:00:00.000000000",
                    "2019-08-01T00:00:00.000000000",
                    "2019-09-01T00:00:00.000000000",
                    "2019-10-01T00:00:00.000000000",
                    "2019-11-01T00:00:00.000000000",
                    "2019-12-01T00:00:00.000000000",
                    "2020-01-01T00:00:00.000000000",
                    "2020-02-01T00:00:00.000000000",
                    "2020-03-01T00:00:00.000000000",
                    "2020-04-01T00:00:00.000000000",
                    "2020-05-01T00:00:00.000000000",
                    "2020-06-01T00:00:00.000000000",
                    "2020-07-01T00:00:00.000000000",
                    "2020-08-01T00:00:00.000000000",
                    "2020-09-01T00:00:00.000000000",
                    "2020-10-01T00:00:00.000000000",
                    "2020-11-01T00:00:00.000000000",
                    "2020-12-01T00:00:00.000000000",
                    "2021-01-01T00:00:00.000000000",
                    "2021-02-01T00:00:00.000000000",
                    "2021-03-01T00:00:00.000000000",
                    "2021-04-01T00:00:00.000000000",
                    "2021-05-01T00:00:00.000000000",
                    "2021-06-01T00:00:00.000000000",
                    "2021-07-01T00:00:00.000000000",
                    "2021-08-01T00:00:00.000000000",
                    "2021-09-01T00:00:00.000000000",
                    "2021-10-01T00:00:00.000000000",
                    "2021-11-01T00:00:00.000000000",
                    "2021-12-01T00:00:00.000000000",
                    "2022-01-01T00:00:00.000000000",
                    "2022-02-01T00:00:00.000000000",
                    "2022-03-01T00:00:00.000000000",
                    "2022-04-01T00:00:00.000000000",
                    "2022-05-01T00:00:00.000000000",
                    "2022-06-01T00:00:00.000000000",
                    "2022-07-01T00:00:00.000000000",
                    "2022-08-01T00:00:00.000000000",
                    "2022-09-01T00:00:00.000000000",
                    "2022-10-01T00:00:00.000000000",
                    "2022-11-01T00:00:00.000000000",
                    "2022-12-01T00:00:00.000000000",
                    "2023-01-01T00:00:00.000000000",
                    "2023-02-01T00:00:00.000000000",
                    "2023-03-01T00:00:00.000000000",
                    "2023-04-01T00:00:00.000000000",
                    "2023-05-01T00:00:00.000000000",
                    "2023-06-01T00:00:00.000000000",
                    "2023-07-01T00:00:00.000000000",
                    "2023-08-01T00:00:00.000000000",
                    "2023-09-01T00:00:00.000000000",
                    "2023-10-01T00:00:00.000000000",
                    "2023-11-01T00:00:00.000000000",
                    "2023-12-01T00:00:00.000000000",
                    "2024-01-01T00:00:00.000000000",
                    "2024-02-01T00:00:00.000000000",
                    "2024-03-01T00:00:00.000000000",
                    "2024-04-01T00:00:00.000000000",
                    "2024-05-01T00:00:00.000000000",
                    "2024-06-01T00:00:00.000000000",
                    "2024-07-01T00:00:00.000000000",
                    "2024-08-01T00:00:00.000000000",
                    "2024-09-01T00:00:00.000000000",
                    "2024-10-01T00:00:00.000000000",
                    "2024-11-01T00:00:00.000000000",
                    "2024-12-01T00:00:00.000000000"
                  ],
                  "y": [
                    14.501054746153462,
                    14.619961706372175,
                    14.739843689817546,
                    14.860708691566481,
                    14.982564772254591,
                    15.105420058613772,
                    15.229282744014162,
                    15.354161089010574,
                    15.480063421893433,
                    15.606998139244155,
                    15.734973706495143,
                    15.863998658494383,
                    15.994081600074592,
                    16.12523120662714,
                    16.25745622468058,
                    16.390765472483974,
                    16.525167840595024,
                    16.66067229247295,
                    16.797287865076285,
                    16.9350236694656,
                    17.073888891411084,
                    17.21389279200516,
                    17.35504470828016,
                    17.49735405383097,
                    17.640830319442856,
                    17.785483073724443,
                    17.9313219637458,
                    18.078356715681874,
                    18.226597135461105,
                    18.37605310941939,
                    18.526734604959458,
                    18.678651671215555,
                    18.831814439723654,
                    18.98623312509718,
                    19.141918025708158,
                    19.298879524374073,
                    19.45712808905033,
                    19.616674273528318,
                    19.777528718139294,
                    19.93970215046401,
                    20.103205386048117,
                    20.268049329123464,
                    20.43424497333537,
                    20.60180340247574,
                    20.77073579122227,
                    20.941053405883746,
                    21.112767605151355,
                    21.285889840856214,
                    21.46043165873316,
                    21.636404699190667,
                    21.81382069808724,
                    28.399435414368003,
                    28.338955035325153,
                    28.27860345730232,
                    28.218380406000577,
                    28.158285607705146,
                    28.098318789284214,
                    28.038479678187556,
                    27.978768002445427,
                    27.91918349066729,
                    27.859725872040546,
                    27.800394876329328,
                    27.741190233873283,
                    27.682111675586313,
                    27.623158932955434,
                    27.564331738039414,
                    27.505629823467675,
                    27.447052922439088,
                    27.388600768720625,
                    27.33027309664628,
                    27.27206964111584,
                    27.21399013759364,
                    27.156034322107338,
                    27.098201931246823,
                    27.040492702162915,
                    26.754559967577734,
                    26.973944243647583,
                    27.195127445233116,
                    27.418124323314064,
                    27.642949749826506,
                    27.86961871865462,
                    28.098146346630703,
                    28.32854787454334,
                    28.560838668153778,
                    28.795034219220714,
                    29.031150146533502,
                    29.269202196953707,
                    29.509206246465332,
                    29.751178301233637,
                    29.995134498672517,
                    30.241091108520834,
                    30.48906453392738,
                    30.739071312544855,
                    30.991128117632822,
                    31.245251759169577,
                    31.501459184973342,
                    31.759767481832423,
                    32.02019387664481,
                    32.282755737567086,
                    32.54747057517266,
                    32.81435604361959,
                    33.08342994182803,
                    33.354710214667165,
                    33.62821495415201,
                    33.90396240065003,
                    34.18197094409756,
                    34.462259125226254,
                    34.74484563679966
                  ]
                }
              ],
              "layout": {
                "annotations": [
                  {
                    "arrowhead": 2,
                    "ax": 30,
                    "ay": -40,
                    "showarrow": true,
                    "text": "Pandemia",
                    "x": "2020-04-01",
                    "y": 33.70667079457516
                  },
                  {
                    "arrowhead": 2,
                    "ax": 30,
                    "ay": -40,
                    "showarrow": true,
                    "text": "Pos Pandemia",
                    "x": "2022-04-01",
                    "y": 33.70667079457516
                  }
                ],
                "legend": {
                  "title": {
                    "text": "Legend"
                  }
                },
                "shapes": [
                  {
                    "line": {
                      "color": "black",
                      "dash": "dash"
                    },
                    "type": "line",
                    "x0": "2020-04-01",
                    "x1": "2020-04-01",
                    "y0": 10.747750033985515,
                    "y1": 33.70667079457516
                  },
                  {
                    "line": {
                      "color": "black",
                      "dash": "dash"
                    },
                    "type": "line",
                    "x0": "2022-04-01",
                    "x1": "2022-04-01",
                    "y0": 10.747750033985515,
                    "y1": 33.70667079457516
                  }
                ],
                "template": {
                  "data": {
                    "bar": [
                      {
                        "error_x": {
                          "color": "#2a3f5f"
                        },
                        "error_y": {
                          "color": "#2a3f5f"
                        },
                        "marker": {
                          "line": {
                            "color": "#E5ECF6",
                            "width": 0.5
                          },
                          "pattern": {
                            "fillmode": "overlay",
                            "size": 10,
                            "solidity": 0.2
                          }
                        },
                        "type": "bar"
                      }
                    ],
                    "barpolar": [
                      {
                        "marker": {
                          "line": {
                            "color": "#E5ECF6",
                            "width": 0.5
                          },
                          "pattern": {
                            "fillmode": "overlay",
                            "size": 10,
                            "solidity": 0.2
                          }
                        },
                        "type": "barpolar"
                      }
                    ],
                    "carpet": [
                      {
                        "aaxis": {
                          "endlinecolor": "#2a3f5f",
                          "gridcolor": "white",
                          "linecolor": "white",
                          "minorgridcolor": "white",
                          "startlinecolor": "#2a3f5f"
                        },
                        "baxis": {
                          "endlinecolor": "#2a3f5f",
                          "gridcolor": "white",
                          "linecolor": "white",
                          "minorgridcolor": "white",
                          "startlinecolor": "#2a3f5f"
                        },
                        "type": "carpet"
                      }
                    ],
                    "choropleth": [
                      {
                        "colorbar": {
                          "outlinewidth": 0,
                          "ticks": ""
                        },
                        "type": "choropleth"
                      }
                    ],
                    "contour": [
                      {
                        "colorbar": {
                          "outlinewidth": 0,
                          "ticks": ""
                        },
                        "colorscale": [
                          [
                            0,
                            "#0d0887"
                          ],
                          [
                            0.1111111111111111,
                            "#46039f"
                          ],
                          [
                            0.2222222222222222,
                            "#7201a8"
                          ],
                          [
                            0.3333333333333333,
                            "#9c179e"
                          ],
                          [
                            0.4444444444444444,
                            "#bd3786"
                          ],
                          [
                            0.5555555555555556,
                            "#d8576b"
                          ],
                          [
                            0.6666666666666666,
                            "#ed7953"
                          ],
                          [
                            0.7777777777777778,
                            "#fb9f3a"
                          ],
                          [
                            0.8888888888888888,
                            "#fdca26"
                          ],
                          [
                            1,
                            "#f0f921"
                          ]
                        ],
                        "type": "contour"
                      }
                    ],
                    "contourcarpet": [
                      {
                        "colorbar": {
                          "outlinewidth": 0,
                          "ticks": ""
                        },
                        "type": "contourcarpet"
                      }
                    ],
                    "heatmap": [
                      {
                        "colorbar": {
                          "outlinewidth": 0,
                          "ticks": ""
                        },
                        "colorscale": [
                          [
                            0,
                            "#0d0887"
                          ],
                          [
                            0.1111111111111111,
                            "#46039f"
                          ],
                          [
                            0.2222222222222222,
                            "#7201a8"
                          ],
                          [
                            0.3333333333333333,
                            "#9c179e"
                          ],
                          [
                            0.4444444444444444,
                            "#bd3786"
                          ],
                          [
                            0.5555555555555556,
                            "#d8576b"
                          ],
                          [
                            0.6666666666666666,
                            "#ed7953"
                          ],
                          [
                            0.7777777777777778,
                            "#fb9f3a"
                          ],
                          [
                            0.8888888888888888,
                            "#fdca26"
                          ],
                          [
                            1,
                            "#f0f921"
                          ]
                        ],
                        "type": "heatmap"
                      }
                    ],
                    "heatmapgl": [
                      {
                        "colorbar": {
                          "outlinewidth": 0,
                          "ticks": ""
                        },
                        "colorscale": [
                          [
                            0,
                            "#0d0887"
                          ],
                          [
                            0.1111111111111111,
                            "#46039f"
                          ],
                          [
                            0.2222222222222222,
                            "#7201a8"
                          ],
                          [
                            0.3333333333333333,
                            "#9c179e"
                          ],
                          [
                            0.4444444444444444,
                            "#bd3786"
                          ],
                          [
                            0.5555555555555556,
                            "#d8576b"
                          ],
                          [
                            0.6666666666666666,
                            "#ed7953"
                          ],
                          [
                            0.7777777777777778,
                            "#fb9f3a"
                          ],
                          [
                            0.8888888888888888,
                            "#fdca26"
                          ],
                          [
                            1,
                            "#f0f921"
                          ]
                        ],
                        "type": "heatmapgl"
                      }
                    ],
                    "histogram": [
                      {
                        "marker": {
                          "pattern": {
                            "fillmode": "overlay",
                            "size": 10,
                            "solidity": 0.2
                          }
                        },
                        "type": "histogram"
                      }
                    ],
                    "histogram2d": [
                      {
                        "colorbar": {
                          "outlinewidth": 0,
                          "ticks": ""
                        },
                        "colorscale": [
                          [
                            0,
                            "#0d0887"
                          ],
                          [
                            0.1111111111111111,
                            "#46039f"
                          ],
                          [
                            0.2222222222222222,
                            "#7201a8"
                          ],
                          [
                            0.3333333333333333,
                            "#9c179e"
                          ],
                          [
                            0.4444444444444444,
                            "#bd3786"
                          ],
                          [
                            0.5555555555555556,
                            "#d8576b"
                          ],
                          [
                            0.6666666666666666,
                            "#ed7953"
                          ],
                          [
                            0.7777777777777778,
                            "#fb9f3a"
                          ],
                          [
                            0.8888888888888888,
                            "#fdca26"
                          ],
                          [
                            1,
                            "#f0f921"
                          ]
                        ],
                        "type": "histogram2d"
                      }
                    ],
                    "histogram2dcontour": [
                      {
                        "colorbar": {
                          "outlinewidth": 0,
                          "ticks": ""
                        },
                        "colorscale": [
                          [
                            0,
                            "#0d0887"
                          ],
                          [
                            0.1111111111111111,
                            "#46039f"
                          ],
                          [
                            0.2222222222222222,
                            "#7201a8"
                          ],
                          [
                            0.3333333333333333,
                            "#9c179e"
                          ],
                          [
                            0.4444444444444444,
                            "#bd3786"
                          ],
                          [
                            0.5555555555555556,
                            "#d8576b"
                          ],
                          [
                            0.6666666666666666,
                            "#ed7953"
                          ],
                          [
                            0.7777777777777778,
                            "#fb9f3a"
                          ],
                          [
                            0.8888888888888888,
                            "#fdca26"
                          ],
                          [
                            1,
                            "#f0f921"
                          ]
                        ],
                        "type": "histogram2dcontour"
                      }
                    ],
                    "mesh3d": [
                      {
                        "colorbar": {
                          "outlinewidth": 0,
                          "ticks": ""
                        },
                        "type": "mesh3d"
                      }
                    ],
                    "parcoords": [
                      {
                        "line": {
                          "colorbar": {
                            "outlinewidth": 0,
                            "ticks": ""
                          }
                        },
                        "type": "parcoords"
                      }
                    ],
                    "pie": [
                      {
                        "automargin": true,
                        "type": "pie"
                      }
                    ],
                    "scatter": [
                      {
                        "fillpattern": {
                          "fillmode": "overlay",
                          "size": 10,
                          "solidity": 0.2
                        },
                        "type": "scatter"
                      }
                    ],
                    "scatter3d": [
                      {
                        "line": {
                          "colorbar": {
                            "outlinewidth": 0,
                            "ticks": ""
                          }
                        },
                        "marker": {
                          "colorbar": {
                            "outlinewidth": 0,
                            "ticks": ""
                          }
                        },
                        "type": "scatter3d"
                      }
                    ],
                    "scattercarpet": [
                      {
                        "marker": {
                          "colorbar": {
                            "outlinewidth": 0,
                            "ticks": ""
                          }
                        },
                        "type": "scattercarpet"
                      }
                    ],
                    "scattergeo": [
                      {
                        "marker": {
                          "colorbar": {
                            "outlinewidth": 0,
                            "ticks": ""
                          }
                        },
                        "type": "scattergeo"
                      }
                    ],
                    "scattergl": [
                      {
                        "marker": {
                          "colorbar": {
                            "outlinewidth": 0,
                            "ticks": ""
                          }
                        },
                        "type": "scattergl"
                      }
                    ],
                    "scattermapbox": [
                      {
                        "marker": {
                          "colorbar": {
                            "outlinewidth": 0,
                            "ticks": ""
                          }
                        },
                        "type": "scattermapbox"
                      }
                    ],
                    "scatterpolar": [
                      {
                        "marker": {
                          "colorbar": {
                            "outlinewidth": 0,
                            "ticks": ""
                          }
                        },
                        "type": "scatterpolar"
                      }
                    ],
                    "scatterpolargl": [
                      {
                        "marker": {
                          "colorbar": {
                            "outlinewidth": 0,
                            "ticks": ""
                          }
                        },
                        "type": "scatterpolargl"
                      }
                    ],
                    "scatterternary": [
                      {
                        "marker": {
                          "colorbar": {
                            "outlinewidth": 0,
                            "ticks": ""
                          }
                        },
                        "type": "scatterternary"
                      }
                    ],
                    "surface": [
                      {
                        "colorbar": {
                          "outlinewidth": 0,
                          "ticks": ""
                        },
                        "colorscale": [
                          [
                            0,
                            "#0d0887"
                          ],
                          [
                            0.1111111111111111,
                            "#46039f"
                          ],
                          [
                            0.2222222222222222,
                            "#7201a8"
                          ],
                          [
                            0.3333333333333333,
                            "#9c179e"
                          ],
                          [
                            0.4444444444444444,
                            "#bd3786"
                          ],
                          [
                            0.5555555555555556,
                            "#d8576b"
                          ],
                          [
                            0.6666666666666666,
                            "#ed7953"
                          ],
                          [
                            0.7777777777777778,
                            "#fb9f3a"
                          ],
                          [
                            0.8888888888888888,
                            "#fdca26"
                          ],
                          [
                            1,
                            "#f0f921"
                          ]
                        ],
                        "type": "surface"
                      }
                    ],
                    "table": [
                      {
                        "cells": {
                          "fill": {
                            "color": "#EBF0F8"
                          },
                          "line": {
                            "color": "white"
                          }
                        },
                        "header": {
                          "fill": {
                            "color": "#C8D4E3"
                          },
                          "line": {
                            "color": "white"
                          }
                        },
                        "type": "table"
                      }
                    ]
                  },
                  "layout": {
                    "annotationdefaults": {
                      "arrowcolor": "#2a3f5f",
                      "arrowhead": 0,
                      "arrowwidth": 1
                    },
                    "autotypenumbers": "strict",
                    "coloraxis": {
                      "colorbar": {
                        "outlinewidth": 0,
                        "ticks": ""
                      }
                    },
                    "colorscale": {
                      "diverging": [
                        [
                          0,
                          "#8e0152"
                        ],
                        [
                          0.1,
                          "#c51b7d"
                        ],
                        [
                          0.2,
                          "#de77ae"
                        ],
                        [
                          0.3,
                          "#f1b6da"
                        ],
                        [
                          0.4,
                          "#fde0ef"
                        ],
                        [
                          0.5,
                          "#f7f7f7"
                        ],
                        [
                          0.6,
                          "#e6f5d0"
                        ],
                        [
                          0.7,
                          "#b8e186"
                        ],
                        [
                          0.8,
                          "#7fbc41"
                        ],
                        [
                          0.9,
                          "#4d9221"
                        ],
                        [
                          1,
                          "#276419"
                        ]
                      ],
                      "sequential": [
                        [
                          0,
                          "#0d0887"
                        ],
                        [
                          0.1111111111111111,
                          "#46039f"
                        ],
                        [
                          0.2222222222222222,
                          "#7201a8"
                        ],
                        [
                          0.3333333333333333,
                          "#9c179e"
                        ],
                        [
                          0.4444444444444444,
                          "#bd3786"
                        ],
                        [
                          0.5555555555555556,
                          "#d8576b"
                        ],
                        [
                          0.6666666666666666,
                          "#ed7953"
                        ],
                        [
                          0.7777777777777778,
                          "#fb9f3a"
                        ],
                        [
                          0.8888888888888888,
                          "#fdca26"
                        ],
                        [
                          1,
                          "#f0f921"
                        ]
                      ],
                      "sequentialminus": [
                        [
                          0,
                          "#0d0887"
                        ],
                        [
                          0.1111111111111111,
                          "#46039f"
                        ],
                        [
                          0.2222222222222222,
                          "#7201a8"
                        ],
                        [
                          0.3333333333333333,
                          "#9c179e"
                        ],
                        [
                          0.4444444444444444,
                          "#bd3786"
                        ],
                        [
                          0.5555555555555556,
                          "#d8576b"
                        ],
                        [
                          0.6666666666666666,
                          "#ed7953"
                        ],
                        [
                          0.7777777777777778,
                          "#fb9f3a"
                        ],
                        [
                          0.8888888888888888,
                          "#fdca26"
                        ],
                        [
                          1,
                          "#f0f921"
                        ]
                      ]
                    },
                    "colorway": [
                      "#636efa",
                      "#EF553B",
                      "#00cc96",
                      "#ab63fa",
                      "#FFA15A",
                      "#19d3f3",
                      "#FF6692",
                      "#B6E880",
                      "#FF97FF",
                      "#FECB52"
                    ],
                    "font": {
                      "color": "#2a3f5f"
                    },
                    "geo": {
                      "bgcolor": "white",
                      "lakecolor": "white",
                      "landcolor": "#E5ECF6",
                      "showlakes": true,
                      "showland": true,
                      "subunitcolor": "white"
                    },
                    "hoverlabel": {
                      "align": "left"
                    },
                    "hovermode": "closest",
                    "mapbox": {
                      "style": "light"
                    },
                    "paper_bgcolor": "white",
                    "plot_bgcolor": "#E5ECF6",
                    "polar": {
                      "angularaxis": {
                        "gridcolor": "white",
                        "linecolor": "white",
                        "ticks": ""
                      },
                      "bgcolor": "#E5ECF6",
                      "radialaxis": {
                        "gridcolor": "white",
                        "linecolor": "white",
                        "ticks": ""
                      }
                    },
                    "scene": {
                      "xaxis": {
                        "backgroundcolor": "#E5ECF6",
                        "gridcolor": "white",
                        "gridwidth": 2,
                        "linecolor": "white",
                        "showbackground": true,
                        "ticks": "",
                        "zerolinecolor": "white"
                      },
                      "yaxis": {
                        "backgroundcolor": "#E5ECF6",
                        "gridcolor": "white",
                        "gridwidth": 2,
                        "linecolor": "white",
                        "showbackground": true,
                        "ticks": "",
                        "zerolinecolor": "white"
                      },
                      "zaxis": {
                        "backgroundcolor": "#E5ECF6",
                        "gridcolor": "white",
                        "gridwidth": 2,
                        "linecolor": "white",
                        "showbackground": true,
                        "ticks": "",
                        "zerolinecolor": "white"
                      }
                    },
                    "shapedefaults": {
                      "line": {
                        "color": "#2a3f5f"
                      }
                    },
                    "ternary": {
                      "aaxis": {
                        "gridcolor": "white",
                        "linecolor": "white",
                        "ticks": ""
                      },
                      "baxis": {
                        "gridcolor": "white",
                        "linecolor": "white",
                        "ticks": ""
                      },
                      "bgcolor": "#E5ECF6",
                      "caxis": {
                        "gridcolor": "white",
                        "linecolor": "white",
                        "ticks": ""
                      }
                    },
                    "title": {
                      "x": 0.05
                    },
                    "xaxis": {
                      "automargin": true,
                      "gridcolor": "white",
                      "linecolor": "white",
                      "ticks": "",
                      "title": {
                        "standoff": 15
                      },
                      "zerolinecolor": "white",
                      "zerolinewidth": 2
                    },
                    "yaxis": {
                      "automargin": true,
                      "gridcolor": "white",
                      "linecolor": "white",
                      "ticks": "",
                      "title": {
                        "standoff": 15
                      },
                      "zerolinecolor": "white",
                      "zerolinewidth": 2
                    }
                  }
                },
                "title": {
                  "text": "sudeste"
                },
                "xaxis": {
                  "title": {
                    "text": "Time"
                  }
                },
                "yaxis": {
                  "title": {
                    "text": "Value"
                  }
                }
              }
            }
          },
          "metadata": {},
          "output_type": "display_data"
        },
        {
          "data": {
            "application/vnd.plotly.v1+json": {
              "config": {
                "plotlyServerURL": "https://plot.ly"
              },
              "data": [
                {
                  "line": {
                    "color": "black",
                    "dash": "dot"
                  },
                  "mode": "lines",
                  "name": "Baseline",
                  "type": "scatter",
                  "x": [
                    "2016-01-01T00:00:00.000000000",
                    "2016-02-01T00:00:00.000000000",
                    "2016-03-01T00:00:00.000000000",
                    "2016-04-01T00:00:00.000000000",
                    "2016-05-01T00:00:00.000000000",
                    "2016-06-01T00:00:00.000000000",
                    "2016-07-01T00:00:00.000000000",
                    "2016-08-01T00:00:00.000000000",
                    "2016-09-01T00:00:00.000000000",
                    "2016-10-01T00:00:00.000000000",
                    "2016-11-01T00:00:00.000000000",
                    "2016-12-01T00:00:00.000000000",
                    "2017-01-01T00:00:00.000000000",
                    "2017-02-01T00:00:00.000000000",
                    "2017-03-01T00:00:00.000000000",
                    "2017-04-01T00:00:00.000000000",
                    "2017-05-01T00:00:00.000000000",
                    "2017-06-01T00:00:00.000000000",
                    "2017-07-01T00:00:00.000000000",
                    "2017-08-01T00:00:00.000000000",
                    "2017-09-01T00:00:00.000000000",
                    "2017-10-01T00:00:00.000000000",
                    "2017-11-01T00:00:00.000000000",
                    "2017-12-01T00:00:00.000000000",
                    "2018-01-01T00:00:00.000000000",
                    "2018-02-01T00:00:00.000000000",
                    "2018-03-01T00:00:00.000000000",
                    "2018-04-01T00:00:00.000000000",
                    "2018-05-01T00:00:00.000000000",
                    "2018-06-01T00:00:00.000000000",
                    "2018-07-01T00:00:00.000000000",
                    "2018-08-01T00:00:00.000000000",
                    "2018-09-01T00:00:00.000000000",
                    "2018-10-01T00:00:00.000000000",
                    "2018-11-01T00:00:00.000000000",
                    "2018-12-01T00:00:00.000000000",
                    "2019-01-01T00:00:00.000000000",
                    "2019-02-01T00:00:00.000000000",
                    "2019-03-01T00:00:00.000000000",
                    "2019-04-01T00:00:00.000000000",
                    "2019-05-01T00:00:00.000000000",
                    "2019-06-01T00:00:00.000000000",
                    "2019-07-01T00:00:00.000000000",
                    "2019-08-01T00:00:00.000000000",
                    "2019-09-01T00:00:00.000000000",
                    "2019-10-01T00:00:00.000000000",
                    "2019-11-01T00:00:00.000000000",
                    "2019-12-01T00:00:00.000000000",
                    "2020-01-01T00:00:00.000000000",
                    "2020-02-01T00:00:00.000000000",
                    "2020-03-01T00:00:00.000000000",
                    "2020-04-01T00:00:00.000000000",
                    "2020-05-01T00:00:00.000000000",
                    "2020-06-01T00:00:00.000000000",
                    "2020-07-01T00:00:00.000000000",
                    "2020-08-01T00:00:00.000000000",
                    "2020-09-01T00:00:00.000000000",
                    "2020-10-01T00:00:00.000000000",
                    "2020-11-01T00:00:00.000000000",
                    "2020-12-01T00:00:00.000000000",
                    "2021-01-01T00:00:00.000000000",
                    "2021-02-01T00:00:00.000000000",
                    "2021-03-01T00:00:00.000000000",
                    "2021-04-01T00:00:00.000000000",
                    "2021-05-01T00:00:00.000000000",
                    "2021-06-01T00:00:00.000000000",
                    "2021-07-01T00:00:00.000000000",
                    "2021-08-01T00:00:00.000000000",
                    "2021-09-01T00:00:00.000000000",
                    "2021-10-01T00:00:00.000000000",
                    "2021-11-01T00:00:00.000000000",
                    "2021-12-01T00:00:00.000000000",
                    "2022-01-01T00:00:00.000000000",
                    "2022-02-01T00:00:00.000000000",
                    "2022-03-01T00:00:00.000000000",
                    "2022-04-01T00:00:00.000000000",
                    "2022-05-01T00:00:00.000000000",
                    "2022-06-01T00:00:00.000000000",
                    "2022-07-01T00:00:00.000000000",
                    "2022-08-01T00:00:00.000000000",
                    "2022-09-01T00:00:00.000000000",
                    "2022-10-01T00:00:00.000000000",
                    "2022-11-01T00:00:00.000000000",
                    "2022-12-01T00:00:00.000000000",
                    "2023-01-01T00:00:00.000000000",
                    "2023-02-01T00:00:00.000000000",
                    "2023-03-01T00:00:00.000000000",
                    "2023-04-01T00:00:00.000000000",
                    "2023-05-01T00:00:00.000000000",
                    "2023-06-01T00:00:00.000000000",
                    "2023-07-01T00:00:00.000000000",
                    "2023-08-01T00:00:00.000000000",
                    "2023-09-01T00:00:00.000000000",
                    "2023-10-01T00:00:00.000000000",
                    "2023-11-01T00:00:00.000000000",
                    "2023-12-01T00:00:00.000000000",
                    "2024-01-01T00:00:00.000000000",
                    "2024-02-01T00:00:00.000000000",
                    "2024-03-01T00:00:00.000000000",
                    "2024-04-01T00:00:00.000000000",
                    "2024-05-01T00:00:00.000000000",
                    "2024-06-01T00:00:00.000000000",
                    "2024-07-01T00:00:00.000000000",
                    "2024-08-01T00:00:00.000000000",
                    "2024-09-01T00:00:00.000000000",
                    "2024-10-01T00:00:00.000000000",
                    "2024-11-01T00:00:00.000000000",
                    "2024-12-01T00:00:00.000000000"
                  ],
                  "y": [
                    23.598010474953455,
                    23.652284639146554,
                    23.706683631019597,
                    23.761207737669583,
                    23.815857246853827,
                    23.870632446991447,
                    23.925533627164928,
                    23.98056107712163,
                    24.035715087275317,
                    24.090995948707683,
                    24.14640395316989,
                    24.201939393084125,
                    24.257602561545134,
                    24.31339375232173,
                    24.36931325985842,
                    24.425361379276897,
                    24.481538406377624,
                    24.537844637641385,
                    24.594280370230862,
                    24.650845901992184,
                    24.707541531456524,
                    24.76436755784166,
                    24.82132428105352,
                    24.87841200168785,
                    24.935631021031718,
                    24.992981641065153,
                    25.05046416446271,
                    25.108078894595085,
                    25.16582613553071,
                    25.223706192037373,
                    25.281719369583765,
                    25.33986597434119,
                    25.398146313185105,
                    25.45656069369677,
                    25.515109424164866,
                    25.573792813587115,
                    25.63261117167193,
                    25.69156480884003,
                    25.75065403622607,
                    25.809879165680318,
                    25.86924050977028,
                    25.928738381782342,
                    25.988373095723436,
                    26.048144966322692,
                    26.108054309033104,
                    26.168101440033187,
                    26.22828667622866,
                    26.288610335254077,
                    26.34907273547457,
                    26.409674195987478,
                    26.47041503662405,
                    26.53129557795113,
                    26.592316141272846,
                    26.653477048632308,
                    26.714778622813323,
                    26.776221187342053,
                    26.837805066488773,
                    26.899530585269563,
                    26.96139806944802,
                    27.023407845536976,
                    27.085560240800234,
                    27.147855583254277,
                    27.210294201670024,
                    27.272876425574513,
                    27.335602585252712,
                    27.398473011749218,
                    27.46148803687001,
                    27.524647993184203,
                    27.587953214025806,
                    27.65140403349547,
                    27.715000786462276,
                    27.778743808565483,
                    27.84263343621627,
                    27.906670006599583,
                    27.97085385767586,
                    28.035185328182834,
                    28.09966475763731,
                    28.164292486336972,
                    28.229068855362165,
                    28.293994206577715,
                    28.359068882634677,
                    28.42429322697223,
                    28.48966758381943,
                    28.555192298197035,
                    28.62086771591934,
                    28.68669418359599,
                    28.75267204863382,
                    28.818801659238673,
                    28.885083364417266,
                    28.95151751397897,
                    29.018104458537746,
                    29.084844549513925,
                    29.15173813913609,
                    29.218785580442933,
                    29.285987227285116,
                    29.353343434327137,
                    29.420854557049214,
                    29.488520951749116,
                    29.556342975544112,
                    29.624320986372815,
                    29.69245534299708,
                    29.760746405003875,
                    29.829194532807225,
                    29.897800087650072,
                    29.966563431606204,
                    30.035484927582168,
                    30.10456493931914,
                    30.17380383139492
                  ]
                },
                {
                  "marker": {
                    "color": "black"
                  },
                  "mode": "markers",
                  "name": "Real",
                  "type": "scatter",
                  "x": [
                    "2016-01-01T00:00:00.000000000",
                    "2016-02-01T00:00:00.000000000",
                    "2016-03-01T00:00:00.000000000",
                    "2016-04-01T00:00:00.000000000",
                    "2016-05-01T00:00:00.000000000",
                    "2016-06-01T00:00:00.000000000",
                    "2016-07-01T00:00:00.000000000",
                    "2016-08-01T00:00:00.000000000",
                    "2016-09-01T00:00:00.000000000",
                    "2016-10-01T00:00:00.000000000",
                    "2016-11-01T00:00:00.000000000",
                    "2016-12-01T00:00:00.000000000",
                    "2017-01-01T00:00:00.000000000",
                    "2017-02-01T00:00:00.000000000",
                    "2017-03-01T00:00:00.000000000",
                    "2017-04-01T00:00:00.000000000",
                    "2017-05-01T00:00:00.000000000",
                    "2017-06-01T00:00:00.000000000",
                    "2017-07-01T00:00:00.000000000",
                    "2017-08-01T00:00:00.000000000",
                    "2017-09-01T00:00:00.000000000",
                    "2017-10-01T00:00:00.000000000",
                    "2017-11-01T00:00:00.000000000",
                    "2017-12-01T00:00:00.000000000",
                    "2018-01-01T00:00:00.000000000",
                    "2018-02-01T00:00:00.000000000",
                    "2018-03-01T00:00:00.000000000",
                    "2018-04-01T00:00:00.000000000",
                    "2018-05-01T00:00:00.000000000",
                    "2018-06-01T00:00:00.000000000",
                    "2018-07-01T00:00:00.000000000",
                    "2018-08-01T00:00:00.000000000",
                    "2018-09-01T00:00:00.000000000",
                    "2018-10-01T00:00:00.000000000",
                    "2018-11-01T00:00:00.000000000",
                    "2018-12-01T00:00:00.000000000",
                    "2019-01-01T00:00:00.000000000",
                    "2019-02-01T00:00:00.000000000",
                    "2019-03-01T00:00:00.000000000",
                    "2019-04-01T00:00:00.000000000",
                    "2019-05-01T00:00:00.000000000",
                    "2019-06-01T00:00:00.000000000",
                    "2019-07-01T00:00:00.000000000",
                    "2019-08-01T00:00:00.000000000",
                    "2019-09-01T00:00:00.000000000",
                    "2019-10-01T00:00:00.000000000",
                    "2019-11-01T00:00:00.000000000",
                    "2019-12-01T00:00:00.000000000",
                    "2020-01-01T00:00:00.000000000",
                    "2020-02-01T00:00:00.000000000",
                    "2020-03-01T00:00:00.000000000",
                    "2020-04-01T00:00:00.000000000",
                    "2020-05-01T00:00:00.000000000",
                    "2020-06-01T00:00:00.000000000",
                    "2020-07-01T00:00:00.000000000",
                    "2020-08-01T00:00:00.000000000",
                    "2020-09-01T00:00:00.000000000",
                    "2020-10-01T00:00:00.000000000",
                    "2020-11-01T00:00:00.000000000",
                    "2020-12-01T00:00:00.000000000",
                    "2021-01-01T00:00:00.000000000",
                    "2021-02-01T00:00:00.000000000",
                    "2021-03-01T00:00:00.000000000",
                    "2021-04-01T00:00:00.000000000",
                    "2021-05-01T00:00:00.000000000",
                    "2021-06-01T00:00:00.000000000",
                    "2021-07-01T00:00:00.000000000",
                    "2021-08-01T00:00:00.000000000",
                    "2021-09-01T00:00:00.000000000",
                    "2021-10-01T00:00:00.000000000",
                    "2021-11-01T00:00:00.000000000",
                    "2021-12-01T00:00:00.000000000",
                    "2022-01-01T00:00:00.000000000",
                    "2022-02-01T00:00:00.000000000",
                    "2022-03-01T00:00:00.000000000",
                    "2022-04-01T00:00:00.000000000",
                    "2022-05-01T00:00:00.000000000",
                    "2022-06-01T00:00:00.000000000",
                    "2022-07-01T00:00:00.000000000",
                    "2022-08-01T00:00:00.000000000",
                    "2022-09-01T00:00:00.000000000",
                    "2022-10-01T00:00:00.000000000",
                    "2022-11-01T00:00:00.000000000",
                    "2022-12-01T00:00:00.000000000",
                    "2023-01-01T00:00:00.000000000",
                    "2023-02-01T00:00:00.000000000",
                    "2023-03-01T00:00:00.000000000",
                    "2023-04-01T00:00:00.000000000",
                    "2023-05-01T00:00:00.000000000",
                    "2023-06-01T00:00:00.000000000",
                    "2023-07-01T00:00:00.000000000",
                    "2023-08-01T00:00:00.000000000",
                    "2023-09-01T00:00:00.000000000",
                    "2023-10-01T00:00:00.000000000",
                    "2023-11-01T00:00:00.000000000",
                    "2023-12-01T00:00:00.000000000",
                    "2024-01-01T00:00:00.000000000",
                    "2024-02-01T00:00:00.000000000",
                    "2024-03-01T00:00:00.000000000",
                    "2024-04-01T00:00:00.000000000",
                    "2024-05-01T00:00:00.000000000",
                    "2024-06-01T00:00:00.000000000",
                    "2024-07-01T00:00:00.000000000",
                    "2024-08-01T00:00:00.000000000",
                    "2024-09-01T00:00:00.000000000",
                    "2024-10-01T00:00:00.000000000",
                    "2024-11-01T00:00:00.000000000",
                    "2024-12-01T00:00:00.000000000"
                  ],
                  "y": [
                    25.574799518159836,
                    25.69775483763651,
                    23.40469896313021,
                    24.766065361124184,
                    23.140922472600913,
                    23.79706439962597,
                    24.807620962433727,
                    24.202635735356793,
                    23.995077628295622,
                    24.23427302296435,
                    25.53078861346945,
                    26.27798300821268,
                    25.394424656664377,
                    25.154623530565278,
                    24.385899643914442,
                    24.74215726344188,
                    24.07882258503543,
                    24.512386470565538,
                    24.04932530415184,
                    25.02007444633176,
                    24.450726025608162,
                    25.641849452578242,
                    25.192402482017496,
                    26.243688469405487,
                    25.500700295914513,
                    26.303800066565188,
                    24.49283490555982,
                    24.70962536571009,
                    23.91222969468854,
                    24.447858921662544,
                    24.14837920727932,
                    24.200965820633716,
                    25.08746842356138,
                    24.41709339531521,
                    24.751984806174825,
                    24.26591002237523,
                    23.663183861641162,
                    24.293811066659075,
                    25.450773392459165,
                    26.509416303021112,
                    26.08760234612531,
                    25.873317440786643,
                    26.08847157317199,
                    27.24377924276961,
                    26.92697257692269,
                    25.994792630222836,
                    27.146403113346413,
                    27.74721384712872,
                    28.669496603607524,
                    28.37102479792678,
                    27.315810570650537,
                    33.41441237693909,
                    32.904557995993905,
                    32.14069032006051,
                    29.396251232958356,
                    28.941491431186403,
                    31.061455172462672,
                    28.712628179827252,
                    26.310218597743674,
                    26.685170031961547,
                    26.746751502937457,
                    26.768024443475376,
                    25.934482323188032,
                    28.16755479169375,
                    24.88650030399723,
                    25.480626260360797,
                    27.349811742047923,
                    28.522068730148494,
                    29.00829210138901,
                    26.991522881085174,
                    27.174181853935092,
                    27.21122738302884,
                    19.244626373065557,
                    23.801229962442445,
                    27.028959145189706,
                    25.39559254608429,
                    23.336661488476857,
                    23.839552317428858,
                    25.953208424585807,
                    27.587652285903857,
                    29.243592853016516,
                    27.851370451431137,
                    26.55771481964728,
                    25.98165711997674,
                    29.63927937024431,
                    30.753632918464575,
                    29.578097688070972,
                    27.49301245181331,
                    27.334337482100807,
                    28.89362101782022,
                    30.439762424480776,
                    31.247230998000678,
                    32.381515167254165,
                    31.239689757211476,
                    31.030325495584474,
                    31.03455801276937,
                    31.552900148725577,
                    30.868592582232207,
                    28.133691221476457,
                    27.66132592526588,
                    28.338501405268868,
                    30.395499026939138,
                    30.23744178977174,
                    30.608119270149704,
                    30.24891983788465,
                    29.804641926398713,
                    30.33010893862979,
                    30.584807878560117
                  ]
                },
                {
                  "line": {
                    "color": "purple"
                  },
                  "mode": "lines",
                  "name": "Full model",
                  "type": "scatter",
                  "x": [
                    "2016-01-01T00:00:00.000000000",
                    "2016-02-01T00:00:00.000000000",
                    "2016-03-01T00:00:00.000000000",
                    "2016-04-01T00:00:00.000000000",
                    "2016-05-01T00:00:00.000000000",
                    "2016-06-01T00:00:00.000000000",
                    "2016-07-01T00:00:00.000000000",
                    "2016-08-01T00:00:00.000000000",
                    "2016-09-01T00:00:00.000000000",
                    "2016-10-01T00:00:00.000000000",
                    "2016-11-01T00:00:00.000000000",
                    "2016-12-01T00:00:00.000000000",
                    "2017-01-01T00:00:00.000000000",
                    "2017-02-01T00:00:00.000000000",
                    "2017-03-01T00:00:00.000000000",
                    "2017-04-01T00:00:00.000000000",
                    "2017-05-01T00:00:00.000000000",
                    "2017-06-01T00:00:00.000000000",
                    "2017-07-01T00:00:00.000000000",
                    "2017-08-01T00:00:00.000000000",
                    "2017-09-01T00:00:00.000000000",
                    "2017-10-01T00:00:00.000000000",
                    "2017-11-01T00:00:00.000000000",
                    "2017-12-01T00:00:00.000000000",
                    "2018-01-01T00:00:00.000000000",
                    "2018-02-01T00:00:00.000000000",
                    "2018-03-01T00:00:00.000000000",
                    "2018-04-01T00:00:00.000000000",
                    "2018-05-01T00:00:00.000000000",
                    "2018-06-01T00:00:00.000000000",
                    "2018-07-01T00:00:00.000000000",
                    "2018-08-01T00:00:00.000000000",
                    "2018-09-01T00:00:00.000000000",
                    "2018-10-01T00:00:00.000000000",
                    "2018-11-01T00:00:00.000000000",
                    "2018-12-01T00:00:00.000000000",
                    "2019-01-01T00:00:00.000000000",
                    "2019-02-01T00:00:00.000000000",
                    "2019-03-01T00:00:00.000000000",
                    "2019-04-01T00:00:00.000000000",
                    "2019-05-01T00:00:00.000000000",
                    "2019-06-01T00:00:00.000000000",
                    "2019-07-01T00:00:00.000000000",
                    "2019-08-01T00:00:00.000000000",
                    "2019-09-01T00:00:00.000000000",
                    "2019-10-01T00:00:00.000000000",
                    "2019-11-01T00:00:00.000000000",
                    "2019-12-01T00:00:00.000000000",
                    "2020-01-01T00:00:00.000000000",
                    "2020-02-01T00:00:00.000000000",
                    "2020-03-01T00:00:00.000000000",
                    "2020-04-01T00:00:00.000000000",
                    "2020-05-01T00:00:00.000000000",
                    "2020-06-01T00:00:00.000000000",
                    "2020-07-01T00:00:00.000000000",
                    "2020-08-01T00:00:00.000000000",
                    "2020-09-01T00:00:00.000000000",
                    "2020-10-01T00:00:00.000000000",
                    "2020-11-01T00:00:00.000000000",
                    "2020-12-01T00:00:00.000000000",
                    "2021-01-01T00:00:00.000000000",
                    "2021-02-01T00:00:00.000000000",
                    "2021-03-01T00:00:00.000000000",
                    "2021-04-01T00:00:00.000000000",
                    "2021-05-01T00:00:00.000000000",
                    "2021-06-01T00:00:00.000000000",
                    "2021-07-01T00:00:00.000000000",
                    "2021-08-01T00:00:00.000000000",
                    "2021-09-01T00:00:00.000000000",
                    "2021-10-01T00:00:00.000000000",
                    "2021-11-01T00:00:00.000000000",
                    "2021-12-01T00:00:00.000000000",
                    "2022-01-01T00:00:00.000000000",
                    "2022-02-01T00:00:00.000000000",
                    "2022-03-01T00:00:00.000000000",
                    "2022-04-01T00:00:00.000000000",
                    "2022-05-01T00:00:00.000000000",
                    "2022-06-01T00:00:00.000000000",
                    "2022-07-01T00:00:00.000000000",
                    "2022-08-01T00:00:00.000000000",
                    "2022-09-01T00:00:00.000000000",
                    "2022-10-01T00:00:00.000000000",
                    "2022-11-01T00:00:00.000000000",
                    "2022-12-01T00:00:00.000000000",
                    "2023-01-01T00:00:00.000000000",
                    "2023-02-01T00:00:00.000000000",
                    "2023-03-01T00:00:00.000000000",
                    "2023-04-01T00:00:00.000000000",
                    "2023-05-01T00:00:00.000000000",
                    "2023-06-01T00:00:00.000000000",
                    "2023-07-01T00:00:00.000000000",
                    "2023-08-01T00:00:00.000000000",
                    "2023-09-01T00:00:00.000000000",
                    "2023-10-01T00:00:00.000000000",
                    "2023-11-01T00:00:00.000000000",
                    "2023-12-01T00:00:00.000000000",
                    "2024-01-01T00:00:00.000000000",
                    "2024-02-01T00:00:00.000000000",
                    "2024-03-01T00:00:00.000000000",
                    "2024-04-01T00:00:00.000000000",
                    "2024-05-01T00:00:00.000000000",
                    "2024-06-01T00:00:00.000000000",
                    "2024-07-01T00:00:00.000000000",
                    "2024-08-01T00:00:00.000000000",
                    "2024-09-01T00:00:00.000000000",
                    "2024-10-01T00:00:00.000000000",
                    "2024-11-01T00:00:00.000000000",
                    "2024-12-01T00:00:00.000000000"
                  ],
                  "y": [
                    23.598010474953455,
                    23.652284639146554,
                    23.706683631019597,
                    23.761207737669583,
                    23.815857246853827,
                    23.870632446991447,
                    23.925533627164928,
                    23.98056107712163,
                    24.035715087275317,
                    24.090995948707683,
                    24.14640395316989,
                    24.201939393084125,
                    24.257602561545134,
                    24.31339375232173,
                    24.36931325985842,
                    24.425361379276897,
                    24.481538406377624,
                    24.537844637641385,
                    24.594280370230862,
                    24.650845901992184,
                    24.707541531456524,
                    24.76436755784166,
                    24.82132428105352,
                    24.87841200168785,
                    24.935631021031718,
                    24.992981641065153,
                    25.05046416446271,
                    25.108078894595085,
                    25.16582613553071,
                    25.223706192037373,
                    25.281719369583765,
                    25.33986597434119,
                    25.398146313185105,
                    25.45656069369677,
                    25.515109424164866,
                    25.573792813587115,
                    25.63261117167193,
                    25.69156480884003,
                    25.75065403622607,
                    25.809879165680318,
                    25.86924050977028,
                    25.928738381782342,
                    25.988373095723436,
                    26.048144966322692,
                    26.108054309033104,
                    26.168101440033187,
                    26.22828667622866,
                    26.288610335254077,
                    26.34907273547457,
                    26.409674195987478,
                    26.47041503662405,
                    30.787891806129426,
                    30.489010140197735,
                    30.193029947702197,
                    29.89992306181605,
                    29.609661589149532,
                    29.322217907095396,
                    29.037564661200207,
                    28.75567476256121,
                    28.476521385248354,
                    28.20007796375147,
                    27.926318190452175,
                    27.65521601312028,
                    27.38674563243458,
                    27.12088149952765,
                    26.857598313554483,
                    26.596871019284833,
                    26.338674804718703,
                    26.082985098725267,
                    25.829777568704454,
                    25.579028118271395,
                    25.330712884963354,
                    25.084808237968733,
                    24.84129077587838,
                    24.600137324458572,
                    28.035185328182834,
                    28.09966475763731,
                    28.164292486336972,
                    28.229068855362165,
                    28.293994206577715,
                    28.359068882634677,
                    28.42429322697223,
                    28.48966758381943,
                    28.555192298197035,
                    28.62086771591934,
                    28.68669418359599,
                    28.75267204863382,
                    28.818801659238673,
                    28.885083364417266,
                    28.95151751397897,
                    29.018104458537746,
                    29.084844549513925,
                    29.15173813913609,
                    29.218785580442933,
                    29.285987227285116,
                    29.353343434327137,
                    29.420854557049214,
                    29.488520951749116,
                    29.556342975544112,
                    29.624320986372815,
                    29.69245534299708,
                    29.760746405003875,
                    29.829194532807225,
                    29.897800087650072,
                    29.966563431606204,
                    30.035484927582168,
                    30.10456493931914,
                    30.17380383139492
                  ]
                }
              ],
              "layout": {
                "annotations": [
                  {
                    "arrowhead": 2,
                    "ax": 30,
                    "ay": -40,
                    "showarrow": true,
                    "text": "Pandemia",
                    "x": "2020-04-01",
                    "y": 33.41441237693909
                  },
                  {
                    "arrowhead": 2,
                    "ax": 30,
                    "ay": -40,
                    "showarrow": true,
                    "text": "Pos Pandemia",
                    "x": "2022-04-01",
                    "y": 33.41441237693909
                  }
                ],
                "legend": {
                  "title": {
                    "text": "Legend"
                  }
                },
                "shapes": [
                  {
                    "line": {
                      "color": "black",
                      "dash": "dash"
                    },
                    "type": "line",
                    "x0": "2020-04-01",
                    "x1": "2020-04-01",
                    "y0": 19.244626373065557,
                    "y1": 33.41441237693909
                  },
                  {
                    "line": {
                      "color": "black",
                      "dash": "dash"
                    },
                    "type": "line",
                    "x0": "2022-04-01",
                    "x1": "2022-04-01",
                    "y0": 19.244626373065557,
                    "y1": 33.41441237693909
                  }
                ],
                "template": {
                  "data": {
                    "bar": [
                      {
                        "error_x": {
                          "color": "#2a3f5f"
                        },
                        "error_y": {
                          "color": "#2a3f5f"
                        },
                        "marker": {
                          "line": {
                            "color": "#E5ECF6",
                            "width": 0.5
                          },
                          "pattern": {
                            "fillmode": "overlay",
                            "size": 10,
                            "solidity": 0.2
                          }
                        },
                        "type": "bar"
                      }
                    ],
                    "barpolar": [
                      {
                        "marker": {
                          "line": {
                            "color": "#E5ECF6",
                            "width": 0.5
                          },
                          "pattern": {
                            "fillmode": "overlay",
                            "size": 10,
                            "solidity": 0.2
                          }
                        },
                        "type": "barpolar"
                      }
                    ],
                    "carpet": [
                      {
                        "aaxis": {
                          "endlinecolor": "#2a3f5f",
                          "gridcolor": "white",
                          "linecolor": "white",
                          "minorgridcolor": "white",
                          "startlinecolor": "#2a3f5f"
                        },
                        "baxis": {
                          "endlinecolor": "#2a3f5f",
                          "gridcolor": "white",
                          "linecolor": "white",
                          "minorgridcolor": "white",
                          "startlinecolor": "#2a3f5f"
                        },
                        "type": "carpet"
                      }
                    ],
                    "choropleth": [
                      {
                        "colorbar": {
                          "outlinewidth": 0,
                          "ticks": ""
                        },
                        "type": "choropleth"
                      }
                    ],
                    "contour": [
                      {
                        "colorbar": {
                          "outlinewidth": 0,
                          "ticks": ""
                        },
                        "colorscale": [
                          [
                            0,
                            "#0d0887"
                          ],
                          [
                            0.1111111111111111,
                            "#46039f"
                          ],
                          [
                            0.2222222222222222,
                            "#7201a8"
                          ],
                          [
                            0.3333333333333333,
                            "#9c179e"
                          ],
                          [
                            0.4444444444444444,
                            "#bd3786"
                          ],
                          [
                            0.5555555555555556,
                            "#d8576b"
                          ],
                          [
                            0.6666666666666666,
                            "#ed7953"
                          ],
                          [
                            0.7777777777777778,
                            "#fb9f3a"
                          ],
                          [
                            0.8888888888888888,
                            "#fdca26"
                          ],
                          [
                            1,
                            "#f0f921"
                          ]
                        ],
                        "type": "contour"
                      }
                    ],
                    "contourcarpet": [
                      {
                        "colorbar": {
                          "outlinewidth": 0,
                          "ticks": ""
                        },
                        "type": "contourcarpet"
                      }
                    ],
                    "heatmap": [
                      {
                        "colorbar": {
                          "outlinewidth": 0,
                          "ticks": ""
                        },
                        "colorscale": [
                          [
                            0,
                            "#0d0887"
                          ],
                          [
                            0.1111111111111111,
                            "#46039f"
                          ],
                          [
                            0.2222222222222222,
                            "#7201a8"
                          ],
                          [
                            0.3333333333333333,
                            "#9c179e"
                          ],
                          [
                            0.4444444444444444,
                            "#bd3786"
                          ],
                          [
                            0.5555555555555556,
                            "#d8576b"
                          ],
                          [
                            0.6666666666666666,
                            "#ed7953"
                          ],
                          [
                            0.7777777777777778,
                            "#fb9f3a"
                          ],
                          [
                            0.8888888888888888,
                            "#fdca26"
                          ],
                          [
                            1,
                            "#f0f921"
                          ]
                        ],
                        "type": "heatmap"
                      }
                    ],
                    "heatmapgl": [
                      {
                        "colorbar": {
                          "outlinewidth": 0,
                          "ticks": ""
                        },
                        "colorscale": [
                          [
                            0,
                            "#0d0887"
                          ],
                          [
                            0.1111111111111111,
                            "#46039f"
                          ],
                          [
                            0.2222222222222222,
                            "#7201a8"
                          ],
                          [
                            0.3333333333333333,
                            "#9c179e"
                          ],
                          [
                            0.4444444444444444,
                            "#bd3786"
                          ],
                          [
                            0.5555555555555556,
                            "#d8576b"
                          ],
                          [
                            0.6666666666666666,
                            "#ed7953"
                          ],
                          [
                            0.7777777777777778,
                            "#fb9f3a"
                          ],
                          [
                            0.8888888888888888,
                            "#fdca26"
                          ],
                          [
                            1,
                            "#f0f921"
                          ]
                        ],
                        "type": "heatmapgl"
                      }
                    ],
                    "histogram": [
                      {
                        "marker": {
                          "pattern": {
                            "fillmode": "overlay",
                            "size": 10,
                            "solidity": 0.2
                          }
                        },
                        "type": "histogram"
                      }
                    ],
                    "histogram2d": [
                      {
                        "colorbar": {
                          "outlinewidth": 0,
                          "ticks": ""
                        },
                        "colorscale": [
                          [
                            0,
                            "#0d0887"
                          ],
                          [
                            0.1111111111111111,
                            "#46039f"
                          ],
                          [
                            0.2222222222222222,
                            "#7201a8"
                          ],
                          [
                            0.3333333333333333,
                            "#9c179e"
                          ],
                          [
                            0.4444444444444444,
                            "#bd3786"
                          ],
                          [
                            0.5555555555555556,
                            "#d8576b"
                          ],
                          [
                            0.6666666666666666,
                            "#ed7953"
                          ],
                          [
                            0.7777777777777778,
                            "#fb9f3a"
                          ],
                          [
                            0.8888888888888888,
                            "#fdca26"
                          ],
                          [
                            1,
                            "#f0f921"
                          ]
                        ],
                        "type": "histogram2d"
                      }
                    ],
                    "histogram2dcontour": [
                      {
                        "colorbar": {
                          "outlinewidth": 0,
                          "ticks": ""
                        },
                        "colorscale": [
                          [
                            0,
                            "#0d0887"
                          ],
                          [
                            0.1111111111111111,
                            "#46039f"
                          ],
                          [
                            0.2222222222222222,
                            "#7201a8"
                          ],
                          [
                            0.3333333333333333,
                            "#9c179e"
                          ],
                          [
                            0.4444444444444444,
                            "#bd3786"
                          ],
                          [
                            0.5555555555555556,
                            "#d8576b"
                          ],
                          [
                            0.6666666666666666,
                            "#ed7953"
                          ],
                          [
                            0.7777777777777778,
                            "#fb9f3a"
                          ],
                          [
                            0.8888888888888888,
                            "#fdca26"
                          ],
                          [
                            1,
                            "#f0f921"
                          ]
                        ],
                        "type": "histogram2dcontour"
                      }
                    ],
                    "mesh3d": [
                      {
                        "colorbar": {
                          "outlinewidth": 0,
                          "ticks": ""
                        },
                        "type": "mesh3d"
                      }
                    ],
                    "parcoords": [
                      {
                        "line": {
                          "colorbar": {
                            "outlinewidth": 0,
                            "ticks": ""
                          }
                        },
                        "type": "parcoords"
                      }
                    ],
                    "pie": [
                      {
                        "automargin": true,
                        "type": "pie"
                      }
                    ],
                    "scatter": [
                      {
                        "fillpattern": {
                          "fillmode": "overlay",
                          "size": 10,
                          "solidity": 0.2
                        },
                        "type": "scatter"
                      }
                    ],
                    "scatter3d": [
                      {
                        "line": {
                          "colorbar": {
                            "outlinewidth": 0,
                            "ticks": ""
                          }
                        },
                        "marker": {
                          "colorbar": {
                            "outlinewidth": 0,
                            "ticks": ""
                          }
                        },
                        "type": "scatter3d"
                      }
                    ],
                    "scattercarpet": [
                      {
                        "marker": {
                          "colorbar": {
                            "outlinewidth": 0,
                            "ticks": ""
                          }
                        },
                        "type": "scattercarpet"
                      }
                    ],
                    "scattergeo": [
                      {
                        "marker": {
                          "colorbar": {
                            "outlinewidth": 0,
                            "ticks": ""
                          }
                        },
                        "type": "scattergeo"
                      }
                    ],
                    "scattergl": [
                      {
                        "marker": {
                          "colorbar": {
                            "outlinewidth": 0,
                            "ticks": ""
                          }
                        },
                        "type": "scattergl"
                      }
                    ],
                    "scattermapbox": [
                      {
                        "marker": {
                          "colorbar": {
                            "outlinewidth": 0,
                            "ticks": ""
                          }
                        },
                        "type": "scattermapbox"
                      }
                    ],
                    "scatterpolar": [
                      {
                        "marker": {
                          "colorbar": {
                            "outlinewidth": 0,
                            "ticks": ""
                          }
                        },
                        "type": "scatterpolar"
                      }
                    ],
                    "scatterpolargl": [
                      {
                        "marker": {
                          "colorbar": {
                            "outlinewidth": 0,
                            "ticks": ""
                          }
                        },
                        "type": "scatterpolargl"
                      }
                    ],
                    "scatterternary": [
                      {
                        "marker": {
                          "colorbar": {
                            "outlinewidth": 0,
                            "ticks": ""
                          }
                        },
                        "type": "scatterternary"
                      }
                    ],
                    "surface": [
                      {
                        "colorbar": {
                          "outlinewidth": 0,
                          "ticks": ""
                        },
                        "colorscale": [
                          [
                            0,
                            "#0d0887"
                          ],
                          [
                            0.1111111111111111,
                            "#46039f"
                          ],
                          [
                            0.2222222222222222,
                            "#7201a8"
                          ],
                          [
                            0.3333333333333333,
                            "#9c179e"
                          ],
                          [
                            0.4444444444444444,
                            "#bd3786"
                          ],
                          [
                            0.5555555555555556,
                            "#d8576b"
                          ],
                          [
                            0.6666666666666666,
                            "#ed7953"
                          ],
                          [
                            0.7777777777777778,
                            "#fb9f3a"
                          ],
                          [
                            0.8888888888888888,
                            "#fdca26"
                          ],
                          [
                            1,
                            "#f0f921"
                          ]
                        ],
                        "type": "surface"
                      }
                    ],
                    "table": [
                      {
                        "cells": {
                          "fill": {
                            "color": "#EBF0F8"
                          },
                          "line": {
                            "color": "white"
                          }
                        },
                        "header": {
                          "fill": {
                            "color": "#C8D4E3"
                          },
                          "line": {
                            "color": "white"
                          }
                        },
                        "type": "table"
                      }
                    ]
                  },
                  "layout": {
                    "annotationdefaults": {
                      "arrowcolor": "#2a3f5f",
                      "arrowhead": 0,
                      "arrowwidth": 1
                    },
                    "autotypenumbers": "strict",
                    "coloraxis": {
                      "colorbar": {
                        "outlinewidth": 0,
                        "ticks": ""
                      }
                    },
                    "colorscale": {
                      "diverging": [
                        [
                          0,
                          "#8e0152"
                        ],
                        [
                          0.1,
                          "#c51b7d"
                        ],
                        [
                          0.2,
                          "#de77ae"
                        ],
                        [
                          0.3,
                          "#f1b6da"
                        ],
                        [
                          0.4,
                          "#fde0ef"
                        ],
                        [
                          0.5,
                          "#f7f7f7"
                        ],
                        [
                          0.6,
                          "#e6f5d0"
                        ],
                        [
                          0.7,
                          "#b8e186"
                        ],
                        [
                          0.8,
                          "#7fbc41"
                        ],
                        [
                          0.9,
                          "#4d9221"
                        ],
                        [
                          1,
                          "#276419"
                        ]
                      ],
                      "sequential": [
                        [
                          0,
                          "#0d0887"
                        ],
                        [
                          0.1111111111111111,
                          "#46039f"
                        ],
                        [
                          0.2222222222222222,
                          "#7201a8"
                        ],
                        [
                          0.3333333333333333,
                          "#9c179e"
                        ],
                        [
                          0.4444444444444444,
                          "#bd3786"
                        ],
                        [
                          0.5555555555555556,
                          "#d8576b"
                        ],
                        [
                          0.6666666666666666,
                          "#ed7953"
                        ],
                        [
                          0.7777777777777778,
                          "#fb9f3a"
                        ],
                        [
                          0.8888888888888888,
                          "#fdca26"
                        ],
                        [
                          1,
                          "#f0f921"
                        ]
                      ],
                      "sequentialminus": [
                        [
                          0,
                          "#0d0887"
                        ],
                        [
                          0.1111111111111111,
                          "#46039f"
                        ],
                        [
                          0.2222222222222222,
                          "#7201a8"
                        ],
                        [
                          0.3333333333333333,
                          "#9c179e"
                        ],
                        [
                          0.4444444444444444,
                          "#bd3786"
                        ],
                        [
                          0.5555555555555556,
                          "#d8576b"
                        ],
                        [
                          0.6666666666666666,
                          "#ed7953"
                        ],
                        [
                          0.7777777777777778,
                          "#fb9f3a"
                        ],
                        [
                          0.8888888888888888,
                          "#fdca26"
                        ],
                        [
                          1,
                          "#f0f921"
                        ]
                      ]
                    },
                    "colorway": [
                      "#636efa",
                      "#EF553B",
                      "#00cc96",
                      "#ab63fa",
                      "#FFA15A",
                      "#19d3f3",
                      "#FF6692",
                      "#B6E880",
                      "#FF97FF",
                      "#FECB52"
                    ],
                    "font": {
                      "color": "#2a3f5f"
                    },
                    "geo": {
                      "bgcolor": "white",
                      "lakecolor": "white",
                      "landcolor": "#E5ECF6",
                      "showlakes": true,
                      "showland": true,
                      "subunitcolor": "white"
                    },
                    "hoverlabel": {
                      "align": "left"
                    },
                    "hovermode": "closest",
                    "mapbox": {
                      "style": "light"
                    },
                    "paper_bgcolor": "white",
                    "plot_bgcolor": "#E5ECF6",
                    "polar": {
                      "angularaxis": {
                        "gridcolor": "white",
                        "linecolor": "white",
                        "ticks": ""
                      },
                      "bgcolor": "#E5ECF6",
                      "radialaxis": {
                        "gridcolor": "white",
                        "linecolor": "white",
                        "ticks": ""
                      }
                    },
                    "scene": {
                      "xaxis": {
                        "backgroundcolor": "#E5ECF6",
                        "gridcolor": "white",
                        "gridwidth": 2,
                        "linecolor": "white",
                        "showbackground": true,
                        "ticks": "",
                        "zerolinecolor": "white"
                      },
                      "yaxis": {
                        "backgroundcolor": "#E5ECF6",
                        "gridcolor": "white",
                        "gridwidth": 2,
                        "linecolor": "white",
                        "showbackground": true,
                        "ticks": "",
                        "zerolinecolor": "white"
                      },
                      "zaxis": {
                        "backgroundcolor": "#E5ECF6",
                        "gridcolor": "white",
                        "gridwidth": 2,
                        "linecolor": "white",
                        "showbackground": true,
                        "ticks": "",
                        "zerolinecolor": "white"
                      }
                    },
                    "shapedefaults": {
                      "line": {
                        "color": "#2a3f5f"
                      }
                    },
                    "ternary": {
                      "aaxis": {
                        "gridcolor": "white",
                        "linecolor": "white",
                        "ticks": ""
                      },
                      "baxis": {
                        "gridcolor": "white",
                        "linecolor": "white",
                        "ticks": ""
                      },
                      "bgcolor": "#E5ECF6",
                      "caxis": {
                        "gridcolor": "white",
                        "linecolor": "white",
                        "ticks": ""
                      }
                    },
                    "title": {
                      "x": 0.05
                    },
                    "xaxis": {
                      "automargin": true,
                      "gridcolor": "white",
                      "linecolor": "white",
                      "ticks": "",
                      "title": {
                        "standoff": 15
                      },
                      "zerolinecolor": "white",
                      "zerolinewidth": 2
                    },
                    "yaxis": {
                      "automargin": true,
                      "gridcolor": "white",
                      "linecolor": "white",
                      "ticks": "",
                      "title": {
                        "standoff": 15
                      },
                      "zerolinecolor": "white",
                      "zerolinewidth": 2
                    }
                  }
                },
                "title": {
                  "text": "sul"
                },
                "xaxis": {
                  "title": {
                    "text": "Time"
                  }
                },
                "yaxis": {
                  "title": {
                    "text": "Value"
                  }
                }
              }
            }
          },
          "metadata": {},
          "output_type": "display_data"
        }
      ],
      "source": [
        "for variable in results:\n",
        "    variable_result = results[variable]\n",
        "    variable_df = RegressionDF[RegressionDF[GROUP_COL_NAME] == variable]\n",
        "    plot_with_all_dummies(variable,\n",
        "                            variable_df,\n",
        "                            variable_result,\n",
        "                            exclude_coeffs_by_prefix=[\n",
        "                                \"month_\",\n",
        "                                'quarter_',\n",
        "                                'sin','cos'\n",
        "                                ],\n",
        "                            line_events = {\n",
        "                                #'Choque_Inicial':        [CHOQUE_INICIAL_START_DATE, CHOQUE_INICIAL_END_DATE, \"rgba(0, 0, 0, 0.25)\", False],\n",
        "                                #'Lockdown_2021':         [SECONDLOCKDOWN_START_DATE, SECONDLOCKDOWN_END_DATE, \"rgba(0, 0, 0, 0.25)\", False],\n",
        "                                'Pandemia':         [PANDEMIA_START_DATE, PANDEMIA_END_DATE, None, True],\n",
        "                                'Pos Pandemia':      [POS_PANDEMIA_START_DATE, END_DATE, None, True]\n",
        "                            },\n",
        "                            real_serie_key=IR_VAR,\n",
        "                            exponentite_coefs=MODEL_DEF == \"GEE\" or MODEL_DEF == \"GLM\",\n",
        "                            #slope_coef_str='PrePandemia_Trend'\n",
        "\n",
        "\n",
        "\n",
        "                            )\n"
      ]
    }
  ],
  "metadata": {
    "colab": {
      "collapsed_sections": [
        "K8HZg-VlNIXd",
        "WcYnNsL4NIXl",
        "2IiKsqpaNIXu"
      ],
      "provenance": [],
      "toc_visible": true
    },
    "kernelspec": {
      "display_name": "Python 3",
      "name": "python3"
    },
    "language_info": {
      "codemirror_mode": {
        "name": "ipython",
        "version": 3
      },
      "file_extension": ".py",
      "mimetype": "text/x-python",
      "name": "python",
      "nbconvert_exporter": "python",
      "pygments_lexer": "ipython3",
      "version": "3.12.5"
    }
  },
  "nbformat": 4,
  "nbformat_minor": 0
}
