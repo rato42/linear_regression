{
  "cells": [
    {
      "cell_type": "markdown",
      "metadata": {
        "id": "view-in-github"
      },
      "source": [
        "<a href=\"https://colab.research.google.com/github/rato42/linear_regression/blob/unstable-yeah-sure/CLASSBASED_new_linear_regression.ipynb\" target=\"_parent\"><img src=\"https://colab.research.google.com/assets/colab-badge.svg\" alt=\"Open In Colab\"/></a>"
      ]
    },
    {
      "cell_type": "markdown",
      "metadata": {
        "id": "EwX1y9X8yfED"
      },
      "source": [
        "# Imports\n"
      ]
    },
    {
      "cell_type": "code",
      "execution_count": 1547,
      "metadata": {
        "colab": {
          "base_uri": "https://localhost:8080/"
        },
        "id": "sOJUZR18gkp5",
        "outputId": "dd4a2f5c-7c6d-4675-937c-4e5202e40ef1"
      },
      "outputs": [
        {
          "name": "stdout",
          "output_type": "stream",
          "text": [
            "Running outside Colab (VS Code/local)\n"
          ]
        }
      ],
      "source": [
        "import sys\n",
        "\n",
        "# Detect Colab environment\n",
        "IN_COLAB = \"google.colab\" in sys.modules\n",
        "\n",
        "if IN_COLAB:\n",
        "    from google.colab import drive, auth\n",
        "    from googleapiclient.discovery import build\n",
        "    from googleapiclient.http import MediaIoBaseDownload\n",
        "    !pip install pwlf\n",
        "\n",
        "    import pwlf\n",
        "\n",
        "    auth.authenticate_user()\n",
        "    drive.mount(\"/content/drive\")\n",
        "else:\n",
        "    import pwlf\n",
        "    from oauth2client.service_account import ServiceAccountCredentials\n",
        "\n",
        "    print(\"Running outside Colab (VS Code/local)\")\n",
        "\n",
        "try:\n",
        "    import gspread\n",
        "except ModuleNotFoundError:\n",
        "    if IN_COLAB and \"google.colab\" in str(get_ipython()):\n",
        "        %pip install gspread\n",
        "    import gspread\n",
        "\n",
        "from gspread_dataframe import set_with_dataframe"
      ]
    },
    {
      "cell_type": "code",
      "execution_count": 1548,
      "metadata": {
        "id": "uc_HtA6xvVE2"
      },
      "outputs": [],
      "source": [
        "\n",
        "import os\n",
        "\n",
        "import time\n",
        "\n",
        "import math\n",
        "import scipy.stats as stats\n",
        "import pandas as pd\n",
        "import numpy as np\n",
        "\n",
        "from statsmodels.genmod.generalized_estimating_equations import GEE\n",
        "from statsmodels.genmod.families import Poisson\n",
        "from statsmodels.genmod.cov_struct import Autoregressive\n",
        "\n",
        "from scipy.stats import chi2\n",
        "from sklearn.linear_model import Ridge\n",
        "import statsmodels.api as sm\n",
        "import copy\n",
        "\n",
        "\n",
        "from openpyxl import load_workbook\n",
        "from openpyxl.styles import Alignment\n",
        "\n",
        "from scipy.stats import linregress, ttest_ind, ttest_rel, ttest_1samp\n",
        "import matplotlib.pyplot as plt\n",
        "import re\n",
        "from openpyxl.drawing.image import Image\n",
        "from matplotlib.font_manager import FontProperties\n",
        "from io import BytesIO\n",
        "import statsmodels.formula.api as smf\n",
        "import statsmodels.api as sm\n",
        "\n",
        "import numpy as np\n",
        "import plotly.graph_objects as go\n",
        "\n",
        "\n",
        "from datetime import datetime, timedelta\n",
        "\n",
        "from statsmodels.stats.stattools import durbin_watson\n",
        "from statsmodels.stats.diagnostic import acorr_ljungbox\n",
        "from statsmodels.tools.tools import add_constant\n",
        "from statsmodels.tsa.arima.model import ARIMA\n",
        "from statsmodels.graphics.tsaplots import plot_acf, plot_pacf\n",
        "from statsmodels.tsa.statespace.sarimax import SARIMAX\n",
        "\n",
        "from sklearn.preprocessing import StandardScaler\n",
        "from sklearn.model_selection import train_test_split\n",
        "from sklearn.metrics import r2_score, mean_squared_error\n",
        "from sklearn.pipeline import Pipeline\n",
        "from sklearn.base import BaseEstimator, TransformerMixin\n",
        "from sklearn.preprocessing import FunctionTransformer\n",
        "from statsmodels.genmod.families import Gamma\n",
        "from dateutil.relativedelta import relativedelta\n",
        "\n",
        "from sklearn import set_config\n",
        "set_config(display=\"diagram\")\n",
        "\n",
        "import logging\n",
        "from typing import Dict, Any\n",
        "\n",
        "import io"
      ]
    },
    {
      "cell_type": "markdown",
      "metadata": {
        "id": "M6pmUGm9ycJ_"
      },
      "source": [
        "# LOAD --- data from gsheet if colab or local\n"
      ]
    },
    {
      "cell_type": "code",
      "execution_count": 1549,
      "metadata": {
        "id": "r6jsbsBZvWHp"
      },
      "outputs": [],
      "source": [
        "dados_brutos = None\n",
        "output_wksheet = None\n",
        "\n",
        "input_path = \"https://docs.google.com/spreadsheets/d/1m3eEaxWT4Unb8jBZWKjiLivavfA0x3PT1F1Rz1eXwVE/edit?gid=0\"\n",
        "output_path = \"https://docs.google.com/spreadsheets/d/1RzC3DfKNUwYA-qfUN0i53hUwRkWGMBOCoYQqdqG4MQY/edit?gid=0\"\n",
        "\n",
        "local_input_path = (\n",
        "    #\"D:\\\\CodeStuff\\\\Stats\\\\colab_linear_regression\\\\linear_regression\\\\input\\\\input.csv\" ### poa\n",
        "    #\"D:\\\\CodeStuff\\\\Stats\\\\colab_linear_regression\\\\linear_regression\\\\input\\\\input_backup_com_aps_total_RS.xlsx\" ### rs\n",
        "    #\"D:\\\\CodeStuff\\\\Stats\\\\colab_linear_regression\\\\linear_regression\\\\input\\\\input_backup_com_aps_total.xlsx\"\n",
        "    #\"D:\\\\CodeStuff\\\\Stats\\\\colab_linear_regression\\\\linear_regression\\\\input\\\\input_backup_com_aps_total_RS_percentual.xlsx\"\n",
        "    #\"D:\\\\CodeStuff\\\\Stats\\\\colab_linear_regression\\\\linear_regression\\\\input\\\\input_IR_1000_poa.xlsx\"\n",
        "    #\"D:\\\\CodeStuff\\\\Stats\\\\colab_linear_regression\\\\linear_regression\\\\input\\\\input_IR_1000_brasil.xlsx\"\n",
        "    #\"D:\\\\CodeStuff\\\\Stats\\\\colab_linear_regression\\\\linear_regression\\\\input\\\\regions_IR_1000.xlsx\"\n",
        "    \"D:\\\\CodeStuff\\\\Stats\\\\colab_linear_regression\\\\linear_regression\\\\input\\\\raw_regions_joined.xlsx\"\n",
        ")\n",
        "\n",
        "output_wksheet = None\n",
        "\n",
        "if IN_COLAB:\n",
        "    import gspread\n",
        "    from google.auth import default\n",
        "\n",
        "    auth.authenticate_user()\n",
        "    creds, _ = default()\n",
        "    gc = gspread.authorize(creds)\n",
        "    workbook = gc.open_by_url(input_path)\n",
        "    worksheets = workbook.worksheets()\n",
        "    output_wksheet = gc.open_by_url(output_path)\n",
        "    dados_brutos = worksheets[0].get_all_values()\n",
        "else:\n",
        "    try:\n",
        "        dados_brutos = pd.read_csv(local_input_path, header=None).values.tolist()\n",
        "    except:\n",
        "        dados_brutos = pd.read_excel(local_input_path, header=None).values.tolist()"
      ]
    },
    {
      "cell_type": "markdown",
      "metadata": {
        "id": "wNrVpR84NIXY"
      },
      "source": [
        "# TODO LIST"
      ]
    },
    {
      "cell_type": "markdown",
      "metadata": {},
      "source": [
        "PROMPT\n",
        "im doing a ITS. here is the structure\n",
        "data is monthly, from 2016 to 2024\n",
        "A PraisWinsten regression\n",
        "\n",
        "the following dummies:\n",
        "Pandemia_Step [2020 - 2022] - binary\n",
        "Pandemia_Trend [2020 - 2022] - increase by 1 by period\n",
        "PosPandemia_Step [2022 - 2024] - binary\n",
        "PosPandemia_Trend [2022 - 2024] - increase by 1 by period\n",
        "Lockdown 2020 [03/2020 - 05/2020] - pulse, binary\n",
        "Locdown 2021 [04/2021 - 05/2021] - pulse, binary"
      ]
    },
    {
      "cell_type": "markdown",
      "metadata": {},
      "source": [
        "# Diagnosticos Relatório"
      ]
    },
    {
      "cell_type": "code",
      "execution_count": null,
      "metadata": {},
      "outputs": [
        {
          "data": {
            "text/plain": [
              "''"
            ]
          },
          "execution_count": 1596,
          "metadata": {},
          "output_type": "execute_result"
        }
      ],
      "source": [
        "\"\"\"\n",
        "📋 Seção: Diagnóstico do Modelo e Justificativas Metodológicas\n",
        "\n",
        "Para a modelagem da variável de interesse (taxa de incidência de atendimentos em saúde mental), foi utilizado um modelo de regressão do tipo GLM com família NegativeBinomial e função de ligação logarítmica, apropriado para dados de contagem com potencial overdispersão. Adicionalmente, os erros padrão foram estimados com correção de heterocedasticidade e autocorrelação via covariância tipo HAC (Newey-West).\n",
        "Avaliação diagnóstica\n",
        "\n",
        "Foram aplicados testes residuais com o objetivo de verificar a presença de violações aos pressupostos clássicos de regressão e avaliar a adequação dos métodos corretivos utilizados:\n",
        "\n",
        "    Heterocedasticidade (teste de Breusch-Pagan): identificada em nível marginal (p = 0.034), indicando variância dos resíduos não constante. No entanto, os erros padrão do modelo foram estimados com correção robusta (cov_type='HAC'), o que assegura a validade da inferência estatística mesmo diante desse problema.\n",
        "\n",
        "    Overdispersão (teste qui-quadrado com resíduos de Pearson): ausente (Pearson χ² / df ≈ 1.00), sugerindo que o uso do modelo NegativeBinomial foi suficiente para ajustar a variância excedente dos dados de contagem. Esta evidência reforça a escolha do modelo como apropriada.\n",
        "\n",
        "    Autocorrelação (estatísticas Durbin-Watson = 1.42 e Ljung-Box p = 0.016): foi identificada autocorrelação residual de baixa a moderada. No entanto, a inferência dos coeficientes já foi ajustada para esse tipo de dependência temporal com a adoção da covariância robusta do tipo HAC.\n",
        "\n",
        "Interpretação\n",
        "\n",
        "A presença residual de heterocedasticidade e autocorrelação é esperada em séries temporais aplicadas à saúde pública, especialmente em análises por regiões agregadas. No entanto, com a utilização das correções mencionadas (modelo NegativeBinomial e erros tipo HAC), garante-se que:\n",
        "\n",
        "    Os valores dos coeficientes estimados são consistentes;\n",
        "\n",
        "    Os intervalos de confiança e p-valores são confiáveis, mesmo diante das violações detectadas nos resíduos.\n",
        "\n",
        "Assim, os resultados apresentados podem ser considerados robustos e interpretáveis do ponto de vista epidemiológico.\n",
        "\"\"\""
      ]
    },
    {
      "cell_type": "code",
      "execution_count": 1597,
      "metadata": {},
      "outputs": [
        {
          "data": {
            "text/plain": [
              "'\\nStructured Prompt for Analysis\\n\\nStudy Context\\nI am conducting an Interrupted Time Series (ITS) analysis to evaluate the impact of the COVID-19 pandemic on mental health visit rates (per 1,000 total visits). The goal is to model changes in mental health visit rates before, during, and after the pandemic, adjusting for seasonality and underlying trends.\\nData Structure\\n\\n    Outcome: Count of mental health visits (integer).\\n\\n    Predictors:\\n\\n        Time variables (e.g., periodo, Pandemia_Step, Pandemia_Trend, PosPandemia_Step, PosPandemia_Trend).\\n\\n        Seasonal controls (Fourier terms: cos1, sin1).\\n\\n    Offset: log(total_visits / 1000) to model rates (visits per 1,000 total visits).\\n\\n    Sample: 108 monthly observations.\\n\\nKey Challenges\\n\\n    Severe Overdispersion: Initial Poisson models show extreme overdispersion (Pearson χ²/df ≈ 456).\\n\\n    Rate Modeling: Properly handling the offset to convert counts into rates.\\n\\nModels Considered\\n\\n    Poisson GLM with Offset\\n\\n        Pros: Theoretically appropriate for count rates.\\n\\n        Cons: Fails to address overdispersion, leading to underestimated SEs and inflated significance.\\n\\n    Negative Binomial (NB) GLM with Offset\\n\\n        Pros: Explicitly models overdispersion via dispersion parameter α.\\n\\n        Cons: Requires careful interpretation of α in rate contexts.\\n\\n    Quasi-Poisson with Manual SE Adjustment\\n\\n        Pros: Adjusts SEs post-hoc using dispersion factor φ = Pearson χ² / df.\\n\\n        Cons: Ad-hoc implementation in Python (no built-in support), lacks likelihood-based inference.\\n\\nKey Results\\nModel    Dispersion Handling    Significant Findings\\nPoisson (naive)    None (ϕ=1 assumed)    Overly optimistic p-values (all significant)\\nNegative Binomial    Explicit (α ≈ 0.5)    Most effects non-significant post-adjustment\\nQuasi-Poisson (HC1)    Post-hoc SE scaling    Intermediate significance (e.g., PosPandemia_Trend p=0.015)\\nQuestion\\n\\nWhich model is most appropriate for valid inference?\\n\\n    Does the Negative Binomial model’s use of an offset and dispersion parameter α create interpretational conflicts for rates?\\n\\n    Is Quasi-Poisson with robust SEs (HC1) sufficient despite lacking a formal likelihood?\\n\\n    Should I prioritize Poisson with robust SEs or switch to Negative Binomial?\\n\\nAdditional Context:\\n\\n    Implementation is in Python (statsmodels).\\n\\n    The final model must support hypothesis testing (e.g., step/trend changes during pandemic).\\n\\nWhat’s the best approach?\\n'"
            ]
          },
          "execution_count": 1597,
          "metadata": {},
          "output_type": "execute_result"
        }
      ],
      "source": [
        "'''\n",
        "Structured Prompt for Analysis\n",
        "\n",
        "Study Context\n",
        "I am conducting an Interrupted Time Series (ITS) analysis to evaluate the impact of the COVID-19 pandemic on mental health visit rates (per 1,000 total visits). The goal is to model changes in mental health visit rates before, during, and after the pandemic, adjusting for seasonality and underlying trends.\n",
        "Data Structure\n",
        "\n",
        "    Outcome: Count of mental health visits (integer).\n",
        "\n",
        "    Predictors:\n",
        "\n",
        "        Time variables (e.g., periodo, Pandemia_Step, Pandemia_Trend, PosPandemia_Step, PosPandemia_Trend).\n",
        "\n",
        "        Seasonal controls (Fourier terms: cos1, sin1).\n",
        "\n",
        "    Offset: log(total_visits / 1000) to model rates (visits per 1,000 total visits).\n",
        "\n",
        "    Sample: 108 monthly observations.\n",
        "\n",
        "Key Challenges\n",
        "\n",
        "    Severe Overdispersion: Initial Poisson models show extreme overdispersion (Pearson χ²/df ≈ 456).\n",
        "\n",
        "    Rate Modeling: Properly handling the offset to convert counts into rates.\n",
        "\n",
        "Models Considered\n",
        "\n",
        "    Poisson GLM with Offset\n",
        "\n",
        "        Pros: Theoretically appropriate for count rates.\n",
        "\n",
        "        Cons: Fails to address overdispersion, leading to underestimated SEs and inflated significance.\n",
        "\n",
        "    Negative Binomial (NB) GLM with Offset\n",
        "\n",
        "        Pros: Explicitly models overdispersion via dispersion parameter α.\n",
        "\n",
        "        Cons: Requires careful interpretation of α in rate contexts.\n",
        "\n",
        "    Quasi-Poisson with Manual SE Adjustment\n",
        "\n",
        "        Pros: Adjusts SEs post-hoc using dispersion factor φ = Pearson χ² / df.\n",
        "\n",
        "        Cons: Ad-hoc implementation in Python (no built-in support), lacks likelihood-based inference.\n",
        "\n",
        "Key Results\n",
        "Model    Dispersion Handling    Significant Findings\n",
        "Poisson (naive)    None (ϕ=1 assumed)    Overly optimistic p-values (all significant)\n",
        "Negative Binomial    Explicit (α ≈ 0.5)    Most effects non-significant post-adjustment\n",
        "Quasi-Poisson (HC1)    Post-hoc SE scaling    Intermediate significance (e.g., PosPandemia_Trend p=0.015)\n",
        "Question\n",
        "\n",
        "Which model is most appropriate for valid inference?\n",
        "\n",
        "    Does the Negative Binomial model’s use of an offset and dispersion parameter α create interpretational conflicts for rates?\n",
        "\n",
        "    Is Quasi-Poisson with robust SEs (HC1) sufficient despite lacking a formal likelihood?\n",
        "\n",
        "    Should I prioritize Poisson with robust SEs or switch to Negative Binomial?\n",
        "\n",
        "Additional Context:\n",
        "\n",
        "    Implementation is in Python (statsmodels).\n",
        "\n",
        "    The final model must support hypothesis testing (e.g., step/trend changes during pandemic).\n",
        "\n",
        "What’s the best approach?\n",
        "'''"
      ]
    },
    {
      "cell_type": "markdown",
      "metadata": {},
      "source": []
    },
    {
      "cell_type": "code",
      "execution_count": 1551,
      "metadata": {},
      "outputs": [],
      "source": [
        "#Parte 1 – Análise geral com grupo controle\n",
        "#\n",
        "#    ITS com controle (como já falamos)\n",
        "#\n",
        "#    Mostra que saúde mental cresceu mais que os atendimentos gerais\n",
        "#\n",
        "#    Mostra os efeitos da pandemia nesse comportamento\n",
        "#\n",
        "#Parte 2 – Análise dos subgrupos (sem controle)\n",
        "#\n",
        "#    ITS separado para cada diagnóstico (ex: CID-10 F32, F41, etc.)\n",
        "#\n",
        "#    Sem grupo controle, mas comparando antes/depois da pandemia\n",
        "#\n",
        "#    Pode usar o mesmo modelo (Prais-Winsten com step + trend)"
      ]
    },
    {
      "cell_type": "code",
      "execution_count": 1552,
      "metadata": {},
      "outputs": [],
      "source": [
        "#Omnibus Test: The high value (41.163) and the p-value (< 0.0001) \n",
        "# suggest that the residuals deviate from normality, which might indicate some model specification issues.\n",
        "#\n",
        "#Jarque-Bera Test: Similarly, this test suggests non-normality in the residuals."
      ]
    },
    {
      "cell_type": "code",
      "execution_count": 1553,
      "metadata": {},
      "outputs": [
        {
          "data": {
            "text/plain": [
              "'\\nimport statsmodels.api as sm\\n\\n# model with step\\nmod_full = sm.OLS(y, X_full).fit()\\n\\n# model without step\\nmod_reduced = sm.OLS(y, X_reduced).fit()\\n\\n# compare using F-test\\nf_test_result = mod_full.compare_f_test(mod_reduced)\\n'"
            ]
          },
          "execution_count": 1553,
          "metadata": {},
          "output_type": "execute_result"
        }
      ],
      "source": [
        "### to test if step is necessary\n",
        "\n",
        "'''\n",
        "import statsmodels.api as sm\n",
        "\n",
        "# model with step\n",
        "mod_full = sm.OLS(y, X_full).fit()\n",
        "\n",
        "# model without step\n",
        "mod_reduced = sm.OLS(y, X_reduced).fit()\n",
        "\n",
        "# compare using F-test\n",
        "f_test_result = mod_full.compare_f_test(mod_reduced)\n",
        "'''"
      ]
    },
    {
      "cell_type": "code",
      "execution_count": 1554,
      "metadata": {
        "id": "5yCwGqXBNIXY"
      },
      "outputs": [],
      "source": [
        "# TODO: Adicionar dummy de interação para comparar SM e outros atendimentos\n",
        "\n",
        "# TODO: Orthogonalise pospand trend (so to not have colinearity with months)\n",
        "\n",
        "# TODO: analisar overfitting\n",
        "\n",
        "# TODO: taxa. a população se mantem estavel? os serviços de saude se mantem estaveis?\n",
        "\n",
        "# https://chatgpt.com/canvas/shared/68084b682c548191a92db280344e5474"
      ]
    },
    {
      "cell_type": "markdown",
      "metadata": {
        "id": "gGzVKl7DNIXZ"
      },
      "source": [
        "--- Low HIGH COMPLEXITY\n",
        "\n",
        "- [x] Data Quality & Exploration  \n",
        "  - [x] Plot the raw time series and annotate intervention points.  \n",
        "  - [x] Check for missing values, outliers, or data entry errors.  \n",
        "  - [x] Verify your date index is consistent (e.g., monthly frequency).  \n",
        "\n",
        "- [x] Descriptive Statistics  \n",
        "  - [x] Compute summary statistics (mean, variance) before and after the pandemic.  \n",
        "  - [x] Calculate and plot moving averages to smooth trends.  \n",
        "\n",
        "- [x] Dummy Variable Audit  \n",
        "  - [x] Confirm each dummy is coded 0/1 for the correct periods.  \n",
        "  - [x] Review naming consistency and placement in the DataFrame.  \n",
        "\n",
        "- [x] Basic Model Fit  \n",
        "  - [x] Fit the current segmented regression (consults ~ time + level_dummy + slope_dummy + month_dummies + lockdown_outliers).  \n",
        "  - [x] Inspect R², coefficient signs, and p-values to sanity-check effects.  Export this to a readeable format\n",
        "\n",
        "--- MEDIUM COMPLEXITY\n",
        "\n",
        "- [ ] Residual Diagnostics  \n",
        "  - [X] Plot residuals vs. fitted values to check heteroscedasticity.  \n",
        "  - [ ] Examine ACF/PACF of residuals:  \n",
        "    - [X] First using OLS (to confirm the need for AR structure).  \n",
        "    - [X] Then using Prais-Winsten (to assess remaining autocorrelation).  \n",
        "\n",
        "- [ ] Autocorrelation & Robust SE  \n",
        "  - [ ] If autocorrelation exists, adjust standard errors (e.g., Newey-West) or fit an autoregressive error structure (e.g., AR(1)).  \n",
        "  - [ ] Since you’re using Prais-Winsten, this step may be partially addressed — verify with residuals.  \n",
        "\n",
        "- [ ] Seasonality & Trend Flexibility  \n",
        "  - [ ] Test alternative seasonal structures (e.g., Fourier terms) instead of month dummies.  \n",
        "  - [ ] Consider adding a quadratic or spline-based time trend.  \n",
        "\n",
        "- [ ] Outlier Handling  \n",
        "  - [ ] Justify and potentially consolidate lockdown outlier dummies (pulse vs. step).  \n",
        "  - [ ] Compare models with and without these outlier dummies (use AIC/BIC).  \n",
        "\n",
        "- [ ] Multicollinearity Check  \n",
        "  - [ ] Compute Variance Inflation Factors (VIFs) for covariates.  \n",
        "\n",
        "--- HIGH COMPLEXITY\n",
        "\n",
        "- [ ] Adicionar dummy de interação para comparar SM e outros atendimentos\n",
        "\n",
        "- [ ] Time-Series Cross-Validation  \n",
        "  - [ ] Implement rolling-origin evaluation to assess predictive performance.  \n",
        "  - [ ] Compare cross-validated errors (e.g., RMSE) across model specs to detect overfitting.  \n",
        "\n",
        "- [ ] Model Comparison & Selection  \n",
        "  - [ ] Use information criteria (AIC/BIC) to compare alternative models.  \n",
        "  - [ ] Evaluate nested models (e.g., with/without slope change) via likelihood ratio tests.  \n",
        "\n",
        "- [ ] Advanced Interrupted Time Series Methods  \n",
        "  - [ ] Explore Bayesian ITS or segmented regression with autoregressive integrated moving average (ARIMA) errors.  \n",
        "  - [x] Consider structural break tests (e.g., Chow test) for formal change-point detection.  \n",
        "\n",
        "- [ ] Sensitivity & Robustness  \n",
        "  - [ ] Run sensitivity analyses using different intervention start/end dates.  \n",
        "  - [ ] Test robustness to alternative outlier definitions or lag structures.  \n",
        "\n",
        "- [ ] Forecasting & Counterfactuals  \n",
        "  - [ ] Generate counterfactual predictions for the post-pandemic period.  \n",
        "  - [ ] Visualize observed vs. counterfactual to illustrate intervention impact."
      ]
    },
    {
      "cell_type": "code",
      "execution_count": 1555,
      "metadata": {},
      "outputs": [],
      "source": [
        "def build_model_formula(dependant_var, independant_var=False, dummy_names=[]):\n",
        "    \"\"\"\n",
        "    Builds the regression formula dynamically.\n",
        "\n",
        "    Parameters:\n",
        "    -----------\n",
        "    dependant_var : str\n",
        "        The dependent variable (Y).\n",
        "    independant_var : str or bool\n",
        "        The independent variable (X). If False, it will be excluded.\n",
        "    dummy_names : list\n",
        "        List of dummy variable names to include in the formula.\n",
        "\n",
        "    Returns:\n",
        "    --------\n",
        "    str\n",
        "        The regression formula.\n",
        "    \"\"\"\n",
        "    base_model_formula = f\"{dependant_var} ~ \"\n",
        "    if independant_var:\n",
        "        base_model_formula += f\"{independant_var} + \"\n",
        "\n",
        "    # Add dummy variables (including Fourier terms if present)\n",
        "    model_formula = base_model_formula\n",
        "    if dummy_names:\n",
        "        for i, dummy in enumerate(dummy_names):\n",
        "            model_formula += dummy\n",
        "            if i != len(dummy_names) - 1:  # Add '+' if not the last element\n",
        "                model_formula += \" + \"\n",
        "\n",
        "    return model_formula.strip(\" + \"), base_model_formula.strip(\" + \")\n",
        "\n",
        "\n",
        "def build_dummy_names(dummies_args, include_month_dummies, include_quarter_dummies, include_fourier_terms=False, n_harmonics=1):\n",
        "    \"\"\"\n",
        "    Builds the list of dummy variable names dynamically.\n",
        "\n",
        "    Parameters:\n",
        "    -----------\n",
        "    dummies_args : dict\n",
        "        Dictionary of dummy variable configurations.\n",
        "    include_month_dummies : bool\n",
        "        Whether to include month dummies.\n",
        "    include_quarter_dummies : bool\n",
        "        Whether to include quarter dummies.\n",
        "    include_fourier_terms : bool\n",
        "        Whether to include Fourier terms for seasonality.\n",
        "    n_harmonics : int\n",
        "        Number of Fourier harmonics to include.\n",
        "\n",
        "    Returns:\n",
        "    --------\n",
        "    list\n",
        "        List of dummy variable names.\n",
        "    \"\"\"\n",
        "    dummy_names = []\n",
        "\n",
        "    # Add dummy variables from dummies_args\n",
        "    for dummy_name in dummies_args.keys():\n",
        "        dummy_names.append(dummy_name)\n",
        "\n",
        "    # Add Fourier terms if enabled\n",
        "    if include_fourier_terms:\n",
        "        for k in range(1, n_harmonics + 1):\n",
        "            dummy_names.append(f\"cos{k}\")\n",
        "            dummy_names.append(f\"sin{k}\")\n",
        "\n",
        "    # Add month dummies if enabled\n",
        "    if include_month_dummies:\n",
        "        for i in range(1, 12):\n",
        "            dummy_names.append(\"month_\" + str(i + 1))\n",
        "\n",
        "    # Add quarter dummies if enabled\n",
        "    if include_quarter_dummies:\n",
        "        for i in range(1, 4):\n",
        "            dummy_names.append(\"quarter_\" + str(i + 1))\n",
        "\n",
        "    return dummy_names\n"
      ]
    },
    {
      "cell_type": "markdown",
      "metadata": {
        "id": "SAATuGWcyPmG"
      },
      "source": [
        "# ARGS --- Define Args\n"
      ]
    },
    {
      "cell_type": "code",
      "execution_count": 1556,
      "metadata": {
        "id": "N43j0vRL3QsP"
      },
      "outputs": [],
      "source": [
        "### ARGS\n",
        "\n",
        "MODEL_DEF = 'GLM'\n",
        "RAW_ATD_VAR = 'mental_health_visits'\n",
        "RAW_TOTAL_ATD_VAR = 'total_atd'\n",
        "IR_VAR = 'IR'\n",
        "IR_SCALE = 1000\n",
        "DATE_NAME = \"date\"\n",
        "GROUP_COL_NAME = \"regiao\"\n",
        "LOCAL_OUTPUT_PATH = \"D:\\\\CodeStuff\\\\Stats\\\\colab_linear_regression\\\\linear_regression\\\\output\\\\output.xlsx\"\n",
        "\n",
        "\n",
        "MAIN_SERIE = '_Grand Total'\n",
        "CONTROL_SERIE = '__Atendimentos na APS (exceto saúde mental)'\n",
        "\n",
        "MOVING_WINDOW = 12\n",
        "PLOT_MEDIA_MOVEL = False\n",
        "\n",
        "\n",
        "\n",
        "POISSON_QLIK = False\n",
        "\n",
        "DO_CHOW_GRID_SEARCH = False \n",
        "### model vars\n",
        "INDEPENDENT_VAR = \"periodo\"  ### Y\n",
        "DEPENDENT_VAR = RAW_ATD_VAR if (MODEL_DEF == \"GEE\" or MODEL_DEF == \"GLM\") else IR_VAR\n",
        "\n",
        "\n",
        "######### DUMMIES ##########\n",
        "\n",
        "MEDIA_MOVEL_AS_FEATURE = False\n",
        "MEDIA_MOVEL_AS_DEPENDENT = False\n",
        "\n",
        "INCLUDE_FOURIER_TERMS = True\n",
        "N_HARMONICS = 1\n",
        "FOURIER_PERIOD = 12\n",
        "INCLUDE_MONTH_DUMMIES = False\n",
        "INCLUDE_QUARTER_DUMMIES = False\n",
        "\n",
        "PRE_START_DATE = \"2016-01-01\"  ### data inicial para o modelo, se for menor que a data do dataframe, o modelo vai dar erro\n",
        "\n",
        "### as quedas do primeiro lockdown nao são tão claras e a recuperação e queda parecem ser mais graduais\n",
        "CHOQUE_INICIAL_START_DATE= \"2020-04-01\"\n",
        "CHOQUE_INICIAL_END_DATE = \"2020-06-01\"#\"2020-08-01\" #month based\n",
        "\n",
        "### abril e maio tiveram quedas bem identificaveis nos atendimentos em todas variavieis\n",
        "SECONDLOCKDOWN_START_DATE = \"2021-04-01\"\n",
        "SECONDLOCKDOWN_END_DATE = '2021-05-01' #month based  #'2021-04-01'#quarter_based #\n",
        "\n",
        "PANDEMIA_START_DATE = \"2020-04-01\"\n",
        "PANDEMIA_END_DATE = \"2022-03-01\" #\"2021-02-01\" #\n",
        "\n",
        "\n",
        "\n",
        "\n",
        "PANDEMIA2_START_DATE = \"2021-04-01\"\n",
        "PANDEMIA2_END_DATE = \"2022-03-01\" \n",
        "\n",
        "POS_PANDEMIA_START_DATE = \"2022-04-01\"\n",
        "END_DATE = \"2024-12-01\"#\"2024-12-01\"  ### data final para o modelo, se for maior que a data do dataframe, o modelo vai dar erro\n",
        "\n",
        "\n",
        "\n",
        "\n",
        "OMNICRON_START_DATE = \"2022-01-01\"\n",
        "OMNICRON_END_DATE = \"2022-02-01\"  ### data final para o modelo, se for maior que a data do dataframe, o modelo vai dar erro\n",
        "\n",
        "\n",
        "\n",
        "POS_PANDEMIA_EXCLUDE_RANGES = [\n",
        "    #(CHOQUE_INICIAL_START_DATE, CHOQUE_INICIAL_END_DATE),\n",
        "    #(SECONDLOCKDOWN_START_DATE, SECONDLOCKDOWN_END_DATE),\n",
        "    #(\"2024-05-01\", \"2024-05-01\"),\n",
        "                               ]\n",
        "\n",
        "PANDEMIA_EXCLUDE_RANGES = [\n",
        "    #(CHOQUE_INICIAL_START_DATE, CHOQUE_INICIAL_END_DATE),\n",
        "    #(SECONDLOCKDOWN_START_DATE, SECONDLOCKDOWN_END_DATE),\n",
        "    #(OMNICRON_START_DATE, OMNICRON_END_DATE),\n",
        "]\n",
        "\n",
        "TESTE_REMOVE_OUTLIER_START = \"2019-10-01\"\n",
        "TESTE_REMOVE_OUTLIER_END = \"2019-12-01\"  ### data final para o modelo, se for maior que a data do dataframe, o modelo vai dar erro\n",
        "PREPANDEMIA_EXCLUDE_RANGES = [\n",
        "    #(TESTE_REMOVE_OUTLIER_START, TESTE_REMOVE_OUTLIER_END),\n",
        "]\n",
        "\n",
        "TREND_KEEP_PERIOD_INDEX = False  ### se True, o modelo vai manter o index do periodo, se False, o modelo vai usar o index do dataframe original (sem os dummies)\n",
        "\n",
        "DUMMY_ARGS =        {\n",
        "        \n",
        "        \n",
        "        #'PrePandemia_Step': {\"start_date\": PRE_START_DATE, \"end_date\": PANDEMIA_START_DATE, 'exclude_ranges': PANDEMIA_EXCLUDE_RANGES,},\n",
        "        #'PrePandemia_Trend' : {\"start_date\": PRE_START_DATE, \"end_date\": PANDEMIA_START_DATE,'exclude_ranges': PREPANDEMIA_EXCLUDE_RANGES, 'add_time_trend': True, 'keep_period_index': False},\n",
        "        \n",
        "        'Pandemia_Step': {\"start_date\": PANDEMIA_START_DATE, \"end_date\": PANDEMIA_END_DATE, 'exclude_ranges': PANDEMIA_EXCLUDE_RANGES,},\n",
        "        'Pandemia_Trend' : {\"start_date\": PANDEMIA_START_DATE, \"end_date\": PANDEMIA_END_DATE,'exclude_ranges': PANDEMIA_EXCLUDE_RANGES, 'add_time_trend': True, 'keep_period_index': TREND_KEEP_PERIOD_INDEX},\n",
        "        \n",
        "        #'Pandemia2_Step': {\"start_date\": PANDEMIA2_START_DATE, \"end_date\": PANDEMIA2_END_DATE, 'exclude_ranges': PANDEMIA_EXCLUDE_RANGES,},\n",
        "        #'Pandemia2_Trend' : {\"start_date\": PANDEMIA2_START_DATE, \"end_date\": PANDEMIA2_END_DATE,'exclude_ranges': PANDEMIA_EXCLUDE_RANGES, 'add_time_trend': True, 'keep_period_index': TREND_KEEP_PERIOD_INDEX},\n",
        "\n",
        "        'PosPandemia_Step': {\"start_date\": POS_PANDEMIA_START_DATE, \"end_date\": END_DATE,'exclude_ranges': POS_PANDEMIA_EXCLUDE_RANGES, 'plot':False, 'step': True,},\n",
        "        'PosPandemia_Trend' : {\"start_date\": POS_PANDEMIA_START_DATE, \"end_date\": END_DATE,'exclude_ranges': POS_PANDEMIA_EXCLUDE_RANGES, 'plot': True, 'add_time_trend': True, 'keep_period_index': TREND_KEEP_PERIOD_INDEX, 'step': False},\n",
        "        \n",
        "        ### Pulse Outliers\n",
        "        #'teste_remove_outlier': {\"start_date\": TESTE_REMOVE_OUTLIER_START, \"end_date\": TESTE_REMOVE_OUTLIER_END,},\n",
        "        'ChoqueInicial_Pulse': {\"start_date\": CHOQUE_INICIAL_START_DATE, \"end_date\": CHOQUE_INICIAL_END_DATE},\n",
        "        #'Lockdown_2021_Step': {\"start_date\": SECONDLOCKDOWN_START_DATE, \"end_date\": SECONDLOCKDOWN_END_DATE},\n",
        "        #'Omnicron_2022': {\"start_date\": OMNICRON_START_DATE, \"end_date\": OMNICRON_END_DATE},\n",
        "        #'Enchentes_2024': {\"start_date\": \"2024-05-01\", \"end_date\": \"2024-05-01\"},\n",
        "        }\n",
        "\n",
        "\n",
        "\n",
        "##############################\n",
        "\n",
        "\n",
        "PREPROCESSOR_ARGS = {\n",
        "    'DateRange': [2018, 2023],\n",
        "    'FrequencyDateGroup' : 'M',\n",
        "    'DummyArgs' : DUMMY_ARGS,\n",
        "    'melt_total_atd': True,\n",
        "    'ExtractIR': True,\n",
        "}\n",
        "\n",
        "\n",
        "\n",
        "###### PROCESSING ######\n",
        "\n",
        "\n",
        "DUMMY_NAMES = build_dummy_names(\n",
        "          DUMMY_ARGS,\n",
        "          INCLUDE_MONTH_DUMMIES,\n",
        "          INCLUDE_QUARTER_DUMMIES,\n",
        "          include_fourier_terms=INCLUDE_FOURIER_TERMS,\n",
        "          n_harmonics=N_HARMONICS,\n",
        "          )\n",
        "\n",
        "MODEL_FORMULA, BASE_MODEL_FORMULA = build_model_formula(DEPENDENT_VAR,\n",
        "                                                        INDEPENDENT_VAR,\n",
        "                                                        dummy_names = DUMMY_NAMES,\n",
        "\n",
        "                                                        )\n",
        "\n"
      ]
    },
    {
      "cell_type": "code",
      "execution_count": 1557,
      "metadata": {},
      "outputs": [
        {
          "data": {
            "text/plain": [
              "('mental_health_visits ~ periodo + Pandemia_Step + Pandemia_Trend + PosPandemia_Step + PosPandemia_Trend + ChoqueInicial_Pulse + cos1 + sin1',\n",
              " 'mental_health_visits ~ periodo')"
            ]
          },
          "execution_count": 1557,
          "metadata": {},
          "output_type": "execute_result"
        }
      ],
      "source": [
        "MODEL_FORMULA, BASE_MODEL_FORMULA\n"
      ]
    },
    {
      "cell_type": "markdown",
      "metadata": {},
      "source": [
        "# Processor ARGS\n"
      ]
    },
    {
      "cell_type": "code",
      "execution_count": 1558,
      "metadata": {},
      "outputs": [
        {
          "name": "stderr",
          "output_type": "stream",
          "text": [
            "c:\\Users\\Lucas\\AppData\\Local\\Programs\\Python\\Python312\\Lib\\site-packages\\statsmodels\\genmod\\families\\family.py:1367: ValueWarning:\n",
            "\n",
            "Negative binomial dispersion parameter alpha not set. Using default value alpha=1.0.\n",
            "\n",
            "c:\\Users\\Lucas\\AppData\\Local\\Programs\\Python\\Python312\\Lib\\site-packages\\statsmodels\\genmod\\cov_struct.py:796: FutureWarning:\n",
            "\n",
            "grid=True will become default in a future version\n",
            "\n",
            "c:\\Users\\Lucas\\AppData\\Local\\Programs\\Python\\Python312\\Lib\\site-packages\\statsmodels\\genmod\\families\\family.py:1367: ValueWarning:\n",
            "\n",
            "Negative binomial dispersion parameter alpha not set. Using default value alpha=1.0.\n",
            "\n"
          ]
        }
      ],
      "source": [
        "GLSAR_PROCESSOR_ARGS = {\n",
        "    \"formula\": MODEL_FORMULA,#\"valores ~ periodo\",  # Example formula\n",
        "    \"rho\": 'define per variable',\n",
        "    \"fit_args\":{\n",
        "            'max_iter' : 100,\n",
        "            \"cov_type\": \"HAC\",  # Use nonrobust covariance for testing\n",
        "            \"cov_kwds\": {'maxlags': 4},  # No additional covariance arguments\n",
        "    }\n",
        "\n",
        "}\n",
        "\n",
        "FIND_BEST_RHO_ARGS = {\n",
        "        \"start\": -1.00,\n",
        "        \"stop\": 1.01,\n",
        "        \"step\": 0.01,\n",
        "        \"criterio\": \"aic\",\n",
        "    }\n",
        "GEE_PROCESSOR_ARGS = {\n",
        "    'formula': MODEL_FORMULA,\n",
        "    \"family\": sm.families.NegativeBinomial(),# Use Poisson family for count data\n",
        "    \"cov_struct\": Autoregressive(),  # Use autoregressive covariance structure\n",
        "    #\"structure\": 'ar1',\n",
        "    \"groups\": 'dates',#'define per variable',#\n",
        "    \"offset\": 'define per variable',\n",
        "    'time': 'dates'\n",
        "    #'max_iter' : 100,\n",
        "}\n",
        "\n",
        "GLM_PROCESSOR_ARGS = {\n",
        "    'formula': MODEL_FORMULA,\n",
        "    \"family\": sm.families.NegativeBinomial(),# Poisson(),  # \n",
        "    'quasi_likelihood' : False,\n",
        "\n",
        "    #\"groups\": 'define per variable',\n",
        "    \"offset\": 'define per variable',\n",
        "    \"fit_args\":{\n",
        "            #'cov_type': 'HC1',\n",
        "            'max_iter' : 100,\n",
        "            \"cov_type\": \"HAC\",  # Use nonrobust covariance for testing\n",
        "            \"cov_kwds\": {'maxlags': 12},  # No additional covariance arguments\n",
        "    }\n",
        "    #'max_iter' : 100,\n",
        "}\n",
        "\n",
        "if POISSON_QLIK:\n",
        " GLM_PROCESSOR_ARGS = {\n",
        "    'formula': MODEL_FORMULA,\n",
        "    \"family\": Poisson(),  # \n",
        "    'quasi_likelihood' : True,\n",
        "    \"offset\": 'define per variable',\n",
        "    \"fit_args\":{\n",
        "            'cov_type': 'HC1',\n",
        "            'max_iter' : 100,\n",
        "            #\"cov_type\": \"HAC\",  # Use nonrobust covariance for testing\n",
        "            #\"cov_kwds\": {'maxlags': 4},  # No additional covariance arguments\n",
        "    }\n",
        "    #'max_iter' : 100,\n",
        "}\n",
        "   \n",
        "    \n",
        "\n",
        "OLS_PROCESSOR_ARGS = {\n",
        "    'formula': MODEL_FORMULA,\n",
        "}\n",
        "\n",
        "\n",
        "SARIMAX_PROCESSOR_ARGS = {\n",
        "    \n",
        "}"
      ]
    },
    {
      "cell_type": "markdown",
      "metadata": {
        "id": "3lst0tSSyWi0"
      },
      "source": [
        "# Define Preprocessors\n"
      ]
    },
    {
      "cell_type": "code",
      "execution_count": 1559,
      "metadata": {
        "id": "FAqiSa3R-k3r"
      },
      "outputs": [],
      "source": [
        "def BuildDataDF(data):\n",
        "    string_dates = data[0][1:]  # Store original string dates\n",
        "\n",
        "    # Converter as strings de datas em objetos datetime\n",
        "    #date_list = [datetime.strptime(date, \"%d/%m/%Y\") for date in string_dates]\n",
        "    date_list = [\n",
        "    date if isinstance(date, datetime) else datetime.strptime(date, \"%d/%m/%Y\")\n",
        "    for date in string_dates\n",
        "    ]\n",
        "\n",
        "    # Extrair os nomes das variáveis\n",
        "    variavel = [row[0] for row in data[1:]]\n",
        "\n",
        "    # Extrair os dados (sem agrupamento)\n",
        "    dados = [row[1:] for row in data[1:]]\n",
        "    dados = np.array(dados, dtype=float)  # Converter para tipo object para evitar warning\n",
        "\n",
        "    # Criar o DataFrame with DatetimeIndex\n",
        "    df = pd.DataFrame(data=dados, index=variavel, columns=pd.DatetimeIndex(date_list))\n",
        "\n",
        "    return df\n",
        "\n",
        "class DateFilterTransformer(BaseEstimator, TransformerMixin):\n",
        "    def __init__(\n",
        "        self, periodos_inclusivos=None, periodos_exclusivos=None, date_col=DATE_NAME\n",
        "    ):\n",
        "        self.periodos_inclusivos = periodos_inclusivos\n",
        "        self.periodos_exclusivos = periodos_exclusivos\n",
        "        self.date_col = date_col\n",
        "\n",
        "    def get_date_range(self, Y1, Y2=None, M1=None, M2=None, D1=None, D2=None):\n",
        "        Y2 = Y2 or Y1\n",
        "        M1 = M1 or 1\n",
        "        M2 = M2 or 12\n",
        "        D1 = D1 or 1\n",
        "        D2 = D2 or 31\n",
        "        start_date = datetime(Y1, M1, D1)\n",
        "        end_date = datetime(Y2, M2, D2)\n",
        "        return pd.date_range(start=start_date, end=end_date, freq=\"D\")\n",
        "\n",
        "    def fit(self, X, y=None):\n",
        "        return self\n",
        "\n",
        "    def transform(self, X):\n",
        "        X = X.copy()\n",
        "\n",
        "        # Convert date column if it's not datetime yet\n",
        "        if not pd.api.types.is_datetime64_any_dtype(X[self.date_col]):\n",
        "            X[self.date_col] = pd.to_datetime(X[self.date_col], errors=\"coerce\")\n",
        "\n",
        "        if self.periodos_inclusivos:\n",
        "            valid_dates = self.get_date_range(*self.periodos_inclusivos)\n",
        "            return X[X[self.date_col].isin(valid_dates)].reset_index(drop=True)\n",
        "\n",
        "        elif self.periodos_exclusivos:\n",
        "            invalid_dates = self.get_date_range(*self.periodos_exclusivos)\n",
        "            return X[~X[self.date_col].isin(invalid_dates)].reset_index(drop=True)\n",
        "\n",
        "        return X\n",
        "\n",
        "class MeltTransformer(BaseEstimator, TransformerMixin):\n",
        "    def __init__(\n",
        "        self,\n",
        "        var_name=GROUP_COL_NAME,\n",
        "        value_name=RAW_ATD_VAR,\n",
        "        date_name=DATE_NAME,\n",
        "        y_name=INDEPENDENT_VAR,\n",
        "        perform_IR=False,\n",
        "        total_suffix=\"_total\",\n",
        "        total_column_name=RAW_TOTAL_ATD_VAR,\n",
        "    ):\n",
        "        self.var_name = var_name\n",
        "        self.value_name = value_name\n",
        "        self.date_name = date_name\n",
        "        self.y_name = y_name\n",
        "        self.perform_IR = perform_IR\n",
        "        self.total_suffix = total_suffix\n",
        "        self.total_column_name = total_column_name\n",
        "\n",
        "    def fit(self, X, y=None):\n",
        "        # Nothing to learn, so just return self\n",
        "        return self\n",
        "\n",
        "    def transform(self, X):\n",
        "        # Separate rows with the `_total` suffix\n",
        "        if self.perform_IR:\n",
        "            reserved_rows = X[X.index.str.endswith(self.total_suffix)]\n",
        "            remaining_rows = X[~X.index.str.endswith(self.total_suffix)]\n",
        "\n",
        "            # Transpose and reset index for the remaining rows\n",
        "            df_long = remaining_rows.T.reset_index()\n",
        "\n",
        "            # Rename index to date_name\n",
        "            df_long = df_long.rename(columns={\"index\": self.date_name})\n",
        "\n",
        "            # Melt the DataFrame\n",
        "            df_long = pd.melt(\n",
        "                df_long,\n",
        "                id_vars=[self.date_name],\n",
        "                var_name=self.var_name,\n",
        "                value_name=self.value_name,\n",
        "            )\n",
        "\n",
        "            # Sort by category and date\n",
        "            df_final = df_long.sort_values([self.var_name, self.date_name]).reset_index(\n",
        "                drop=True\n",
        "            )\n",
        "\n",
        "            # Add the `total_atd` column\n",
        "            reserved_rows = reserved_rows.T.reset_index().rename(columns={\"index\": self.date_name})\n",
        "            reserved_rows_long = pd.melt(\n",
        "                reserved_rows,\n",
        "                id_vars=[self.date_name],\n",
        "                var_name=self.var_name,\n",
        "                value_name=self.total_column_name,\n",
        "            )\n",
        "\n",
        "            # Remove the `_total` suffix from the var_name in reserved_rows_long\n",
        "            reserved_rows_long[self.var_name] = reserved_rows_long[self.var_name].str.replace(\n",
        "                self.total_suffix, \"\", regex=False\n",
        "            )\n",
        "\n",
        "            # Merge the `total_atd` column into the final DataFrame\n",
        "            df_final = df_final.merge(\n",
        "                reserved_rows_long,\n",
        "                on=[self.date_name, self.var_name],\n",
        "                how=\"left\",\n",
        "            )\n",
        "        else:\n",
        "                        # Transpose and reset index for the remaining rows\n",
        "            df_long = X.T.reset_index()\n",
        "\n",
        "            # Rename index to date_name\n",
        "            df_long = df_long.rename(columns={\"index\": self.date_name})\n",
        "\n",
        "            # Melt the DataFrame\n",
        "            df_long = pd.melt(\n",
        "                df_long,\n",
        "                id_vars=[self.date_name],\n",
        "                var_name=self.var_name,\n",
        "                value_name=self.value_name,\n",
        "            )\n",
        "\n",
        "            # Sort by category and date\n",
        "            df_final = df_long.sort_values([self.var_name, self.date_name]).reset_index(\n",
        "                drop=True\n",
        "            )\n",
        "\n",
        "\n",
        "        return df_final\n",
        "\n",
        "class PeriodIndexAdder(BaseEstimator, TransformerMixin):\n",
        "    def __init__(self, group_col=GROUP_COL_NAME, new_col=INDEPENDENT_VAR):\n",
        "        self.group_col = group_col\n",
        "        self.new_col = new_col\n",
        "        self.period_date_mapping = {}  # Dictionary to store period-date equivalences\n",
        "\n",
        "    def fit(self, X, y=None):\n",
        "        return self\n",
        "\n",
        "    def transform(self, X):\n",
        "        X = X.copy()\n",
        "        X[self.new_col] = X.groupby(self.group_col).cumcount() + 1\n",
        "\n",
        "        #Store the mapping of periods to dates\n",
        "        self.period_date_mapping = dict(zip(X[DATE_NAME], X[self.new_col]))\n",
        "        #for group, group_data in X.groupby(self.group_col):\n",
        "        #    self.period_date_mapping[group] = dict(zip(group_data[DATE_NAME], group_data[self.new_col]))\n",
        "\n",
        "        return X\n",
        "\n",
        "class DataFrameSorter(BaseEstimator, TransformerMixin):\n",
        "    \"\"\"\n",
        "    Sorts a DataFrame by a specified column.\n",
        "\n",
        "    Parameters:\n",
        "    -----------\n",
        "    sort_by : str\n",
        "        Name of the column to sort by.\n",
        "    ascending : bool, default=True\n",
        "        Whether to sort in ascending order.\n",
        "    \"\"\"\n",
        "\n",
        "    def __init__(self, sort_by, ascending=True):\n",
        "        self.sort_by = sort_by\n",
        "        self.ascending = ascending\n",
        "\n",
        "    def fit(self, X, y=None):\n",
        "        return self\n",
        "\n",
        "    def transform(self, X):\n",
        "        X = X.copy()\n",
        "        if self.sort_by not in X.columns:\n",
        "            raise ValueError(f\"Column '{self.sort_by}' not found in DataFrame.\")\n",
        "        return X.sort_values(by=self.sort_by, ascending=self.ascending).reset_index(drop=True)\n",
        "\n",
        "class MonthlyDummyAdder(BaseEstimator, TransformerMixin):\n",
        "    \"\"\"\n",
        "    Adds dummy variables for each month to control for seasonality, leaving December as the baseline.\n",
        "\n",
        "    Parameters:\n",
        "    -----------\n",
        "    date_column : str\n",
        "        Name of the column containing dates (must be datetime).\n",
        "    \"\"\"\n",
        "\n",
        "    def __init__(self, date_column=DATE_NAME):\n",
        "        self.date_column = date_column\n",
        "\n",
        "    def fit(self, X, y=None):\n",
        "        return self\n",
        "\n",
        "    def transform(self, X):\n",
        "        X = X.copy()\n",
        "        X[self.date_column] = pd.to_datetime(X[self.date_column])  # Ensure dates are in datetime format\n",
        "\n",
        "        # Extract month from the date column\n",
        "        X['month'] = X[self.date_column].dt.month\n",
        "\n",
        "        # Create dummy variables for each month, excluding December as the baseline\n",
        "        month_dummies = pd.get_dummies(X['month'], prefix=\"month\", drop_first=True).astype(int)\n",
        "\n",
        "\n",
        "\n",
        "        # Concatenate the dummy variables with the original DataFrame\n",
        "        X = pd.concat([X, month_dummies], axis=1)\n",
        "\n",
        "        # Drop the temporary 'month' column\n",
        "        X.drop(columns=['month'], inplace=True)\n",
        "\n",
        "        return X\n",
        "\n",
        "class QuarterlyDummyAdder(BaseEstimator, TransformerMixin):\n",
        "    \"\"\"\n",
        "    Adds dummy variables for each quarter to control for seasonality, leaving Q4 as the baseline.\n",
        "\n",
        "    Parameters:\n",
        "    -----------\n",
        "    date_column : str\n",
        "        Name of the column containing dates (must be datetime).\n",
        "    \"\"\"\n",
        "\n",
        "    def __init__(self, date_column=DATE_NAME):\n",
        "        self.date_column = date_column\n",
        "\n",
        "    def fit(self, X, y=None):\n",
        "        return self\n",
        "\n",
        "    def transform(self, X):\n",
        "        X = X.copy()\n",
        "        X[self.date_column] = pd.to_datetime(X[self.date_column])  # Ensure dates are in datetime format\n",
        "\n",
        "        # Extract quarter from the date column\n",
        "        X['quarter'] = X[self.date_column].dt.quarter\n",
        "\n",
        "        # Create dummy variables for each quarter, excluding Q4 as the baseline\n",
        "        quarter_dummies = pd.get_dummies(X['quarter'], prefix=\"quarter\", drop_first=True).astype(int)\n",
        "\n",
        "        # Concatenate the dummy variables with the original DataFrame\n",
        "        X = pd.concat([X, quarter_dummies], axis=1)\n",
        "\n",
        "        # Drop the temporary 'quarter' column\n",
        "        X.drop(columns=['quarter'], inplace=True)\n",
        "\n",
        "        return X\n",
        "\n",
        "class MultiDummyAdder(BaseEstimator, TransformerMixin):\n",
        "    \"\"\"\n",
        "    Adds multiple dummy variables based on date ranges or custom conditions.\n",
        "    Allows each dummy to be binary or a local time trend via its own config.\n",
        "\n",
        "    Parameters:\n",
        "    -----------\n",
        "    dummy_config : dict\n",
        "        Dictionary defining dummy variables. Example:\n",
        "        {\n",
        "            'Pandemia': {\n",
        "                'start_date': '2020-01-01',\n",
        "                'end_date': '2020-12-31',\n",
        "                'add_time_trend': True,\n",
        "                'exclude_ranges': [\n",
        "                    ('2020-04-01', '2020-05-01'),\n",
        "                    ('2020-07-01', '2020-08-01')\n",
        "                ]  # Optional\n",
        "            }\n",
        "        }\n",
        "    date_column : str\n",
        "        Name of the column containing dates (must be datetime).\n",
        "    \"\"\"\n",
        "\n",
        "    def __init__(self, dummy_config, date_column=DATE_NAME):\n",
        "        self.dummy_config = dummy_config\n",
        "        self.date_column = date_column\n",
        "\n",
        "    def fit(self, X, y=None):\n",
        "        return self\n",
        "\n",
        "    def transform(self, X):\n",
        "        X = X.copy()\n",
        "        X[self.date_column] = pd.to_datetime(X[self.date_column])\n",
        "        X = X.sort_values(self.date_column).reset_index(drop=True)\n",
        "\n",
        "        for dummy_name, config in self.dummy_config.items():\n",
        "            start_date = pd.to_datetime(config.get(\"start_date\"))\n",
        "            end_date = pd.to_datetime(config.get(\"end_date\"))\n",
        "            use_trend = config.get(\"add_time_trend\", False)\n",
        "            keep_index = config.get(\"keep_period_index\", False)\n",
        "            exclude_ranges = config.get(\"exclude_ranges\", [])  # List of ranges to exclude\n",
        "\n",
        "            if not start_date:\n",
        "                raise ValueError(f\"Missing 'start_date' for dummy '{dummy_name}'.\")\n",
        "\n",
        "            # Create the initial mask for the date range\n",
        "            if end_date is not None:\n",
        "                mask = (X[self.date_column] >= start_date) & (X[self.date_column] <= end_date)\n",
        "            else:\n",
        "                mask = X[self.date_column] >= start_date\n",
        "\n",
        "            # Exclude multiple ranges within the period\n",
        "            for excl_start, excl_end in exclude_ranges:\n",
        "                excl_start = pd.to_datetime(excl_start)\n",
        "                excl_end = pd.to_datetime(excl_end)\n",
        "                mask &= ~((X[self.date_column] >= excl_start) & (X[self.date_column] <= excl_end))\n",
        "\n",
        "            # Apply trend or binary dummy logic\n",
        "            if use_trend:\n",
        "                if keep_index:\n",
        "                    # Global period multiplied by the dummy\n",
        "                    X[dummy_name] = 0\n",
        "                    X.loc[mask, dummy_name] = X.loc[mask, INDEPENDENT_VAR]\n",
        "                else:\n",
        "                    start_periodo = X.loc[mask, INDEPENDENT_VAR].min()\n",
        "                    X[dummy_name] = 0\n",
        "                    X.loc[mask, dummy_name] = (X.loc[mask, INDEPENDENT_VAR] - start_periodo + 1).clip(lower=0)\n",
        "            else:\n",
        "                X[dummy_name] = mask.astype(int)\n",
        "\n",
        "        return X\n",
        "\n",
        "class FrequencyGroupingTransformer(BaseEstimator, TransformerMixin):\n",
        "    \"\"\"\n",
        "    ## only datetime supported groupings\n",
        "    Transformer for grouping data by standard datetime frequencies.\n",
        "\n",
        "    This transformer takes a DataFrame with datetime columns and groups\n",
        "    the data by a specified frequency (e.g., 'Q' for quarterly, 'M' for monthly).\n",
        "\n",
        "    ARGS:\n",
        "        frequency (str): The frequency to group by. Defaults to 'Q' (quarterly).\n",
        "                        Supported frequencies are those accepted by pd.Grouper (e.g., 'Q', 'M', 'Y').\n",
        "    \"\"\"\n",
        "\n",
        "    def __init__(self, frequency=\"Q\"):  # Default to quarterly grouping\n",
        "        self.frequency = frequency\n",
        "\n",
        "    def fit(self, X, y=None):\n",
        "        \"\"\"\n",
        "        This transformer does not require fitting.\n",
        "\n",
        "        ARGS:\n",
        "            X (pd.DataFrame): The input DataFrame.\n",
        "            y (Any, optional): Ignored. Defaults to None.\n",
        "\n",
        "        Returns:\n",
        "            self: Returns the transformer instance.\n",
        "        \"\"\"\n",
        "        return self\n",
        "\n",
        "    def transform(self, X):\n",
        "        \"\"\"\n",
        "        Groups the data by the specified frequency and sums the values.\n",
        "\n",
        "        ARGS:\n",
        "            X (pd.DataFrame): The input DataFrame with datetime columns.\n",
        "\n",
        "        Returns:\n",
        "            pd.DataFrame: The grouped DataFrame with summed values.\n",
        "                          Columns are datetime objects representing the end of each group.\n",
        "        \"\"\"\n",
        "        if self.frequency == None or self.frequency == 'M':\n",
        "            return X\n",
        "        if not isinstance(X, pd.DataFrame):\n",
        "            raise TypeError(\"Input must be a pandas DataFrame.\")\n",
        "\n",
        "\n",
        "\n",
        "        # Convert columns to datetime if they are not already\n",
        "        if not isinstance(X.columns[0], pd.Timestamp):\n",
        "            X.columns = pd.to_datetime(X.columns, errors=\"coerce\")\n",
        "\n",
        "        # Group by the specified frequency using pd.Grouper\n",
        "        grouped_df = X.T.groupby(pd.Grouper(freq=self.frequency)).sum().T\n",
        "\n",
        "        return grouped_df\n",
        "\n",
        "\n",
        "\n",
        "\n",
        "\n"
      ]
    },
    {
      "cell_type": "code",
      "execution_count": 1560,
      "metadata": {},
      "outputs": [],
      "source": [
        "class MovingAverageTransformer(BaseEstimator, TransformerMixin):\n",
        "    def __init__(self, group_col=GROUP_COL_NAME, date_col=DATE_NAME, value_col=DEPENDENT_VAR, window=3, prefix='ma', center=False):\n",
        "        \"\"\"\n",
        "        window: tamanho da janela\n",
        "        prefix: prefixo para o nome da nova coluna\n",
        "        center: se True, a janela será centralizada\n",
        "        \"\"\"\n",
        "        self.window = window\n",
        "        self.prefix = prefix\n",
        "        self.center = center\n",
        "        self.value_col = value_col\n",
        "        self.group_col = group_col\n",
        "        self.date_col = date_col\n",
        "\n",
        "    def fit(self, X, y=None):\n",
        "        return self\n",
        "\n",
        "    def transform(self, X):\n",
        "        X = X.copy()\n",
        "\n",
        "        def rolling_mean_by_group(group):\n",
        "            group = group.sort_values(by=self.date_col)  # Sort by date within group\n",
        "            new_col = f\"{self.prefix}_{self.window}_{self.value_col}\"\n",
        "            group[new_col] = group[self.value_col].rolling(window=self.window, center=self.center, min_periods=1).mean()\n",
        "            return group\n",
        "\n",
        "        # Apply the rolling mean and reset the index to preserve the original structure\n",
        "        X = X.groupby(self.group_col, group_keys=False).apply(rolling_mean_by_group)\n",
        "\n",
        "        return X"
      ]
    },
    {
      "cell_type": "code",
      "execution_count": 1561,
      "metadata": {},
      "outputs": [],
      "source": [
        "from statsmodels.tsa.deterministic import Fourier\n",
        "\n",
        "class FourierSeasonalityAdder(BaseEstimator, TransformerMixin):\n",
        "    def __init__(self, date_column=DATE_NAME, period=12, order=1):\n",
        "        \"\"\"\n",
        "        Parameters:\n",
        "        -----------\n",
        "        date_column : str\n",
        "            Name of the column containing dates (must be datetime).\n",
        "        period : int\n",
        "            The period of the seasonality (e.g., 12 for monthly data).\n",
        "        order : int\n",
        "            The number of Fourier harmonics to include.\n",
        "        \"\"\"\n",
        "        self.date_column = date_column\n",
        "        self.period = period\n",
        "        self.order = order\n",
        "        self.fourier = Fourier(period=self.period, order=self.order)\n",
        "\n",
        "    def fit(self, X, y=None):\n",
        "        return self\n",
        "\n",
        "    def transform(self, X):\n",
        "        X = X.copy()\n",
        "\n",
        "        # Ensure the date column is in datetime format\n",
        "        X[self.date_column] = pd.to_datetime(X[self.date_column])\n",
        "\n",
        "        # Ensure unique index\n",
        "        if not X.index.is_unique:\n",
        "            X = X.reset_index(drop=True)\n",
        "\n",
        "        # Generate Fourier terms\n",
        "        fourier_terms = self.fourier.in_sample(X[self.date_column])\n",
        "\n",
        "        # Rename Fourier columns to use sin1, cos1, etc.\n",
        "        renamed_columns = {col: f\"sin{int(i/2)+1}\" if i % 2 else f\"cos{int(i/2)+1}\" \n",
        "                           for i, col in enumerate(fourier_terms.columns)}\n",
        "        fourier_terms.rename(columns=renamed_columns, inplace=True)\n",
        "\n",
        "        # Concatenate Fourier terms with the original DataFrame\n",
        "        X = pd.concat([X.reset_index(drop=True), fourier_terms.reset_index(drop=True)], axis=1)\n",
        "\n",
        "        # Debugging: Check the range of Fourier terms\n",
        "        for column in fourier_terms.columns:\n",
        "            min_value = fourier_terms[column].min()\n",
        "            max_value = fourier_terms[column].max()\n",
        "            if min_value < -1 or max_value > 1:\n",
        "                print(f\"Warning: {column} is out of range [-1, 1]. Min: {min_value}, Max: {max_value}\")\n",
        "            else:\n",
        "                print(f\"{column} is within the correct range [-1, 1]. Min: {min_value}, Max: {max_value}\")\n",
        "\n",
        "        return X"
      ]
    },
    {
      "cell_type": "markdown",
      "metadata": {
        "id": "YiUiAyVdNIXb"
      },
      "source": [
        "# EXEC --- Instantiate Pipe and get RegressionDF"
      ]
    },
    {
      "cell_type": "code",
      "execution_count": 1562,
      "metadata": {
        "colab": {
          "base_uri": "https://localhost:8080/",
          "height": 1000
        },
        "id": "tpmKA11jNIXb",
        "outputId": "6b948497-1205-4055-c42b-0427affcff4e"
      },
      "outputs": [
        {
          "name": "stderr",
          "output_type": "stream",
          "text": [
            "C:\\Users\\Lucas\\AppData\\Local\\Temp\\ipykernel_17688\\822946302.py:28: DeprecationWarning:\n",
            "\n",
            "DataFrameGroupBy.apply operated on the grouping columns. This behavior is deprecated, and in a future version of pandas the grouping columns will be excluded from the operation. Either pass `include_groups=False` to exclude the groupings or explicitly select the grouping columns after groupby to silence this warning.\n",
            "\n"
          ]
        },
        {
          "name": "stdout",
          "output_type": "stream",
          "text": [
            "cos1 is within the correct range [-1, 1]. Min: -1.0, Max: 1.0\n",
            "sin1 is within the correct range [-1, 1]. Min: -1.0, Max: 1.0\n"
          ]
        },
        {
          "data": {
            "application/vnd.microsoft.datawrangler.viewer.v0+json": {
              "columns": [
                {
                  "name": "index",
                  "rawType": "int64",
                  "type": "integer"
                },
                {
                  "name": "date",
                  "rawType": "datetime64[ns]",
                  "type": "datetime"
                },
                {
                  "name": "regiao",
                  "rawType": "object",
                  "type": "string"
                },
                {
                  "name": "mental_health_visits",
                  "rawType": "float64",
                  "type": "float"
                },
                {
                  "name": "total_atd",
                  "rawType": "float64",
                  "type": "float"
                },
                {
                  "name": "periodo",
                  "rawType": "int64",
                  "type": "integer"
                },
                {
                  "name": "Pandemia_Step",
                  "rawType": "int64",
                  "type": "integer"
                },
                {
                  "name": "Pandemia_Trend",
                  "rawType": "int64",
                  "type": "integer"
                },
                {
                  "name": "PosPandemia_Step",
                  "rawType": "int64",
                  "type": "integer"
                },
                {
                  "name": "PosPandemia_Trend",
                  "rawType": "int64",
                  "type": "integer"
                },
                {
                  "name": "ChoqueInicial_Pulse",
                  "rawType": "int64",
                  "type": "integer"
                },
                {
                  "name": "month_2",
                  "rawType": "int64",
                  "type": "integer"
                },
                {
                  "name": "month_3",
                  "rawType": "int64",
                  "type": "integer"
                },
                {
                  "name": "month_4",
                  "rawType": "int64",
                  "type": "integer"
                },
                {
                  "name": "month_5",
                  "rawType": "int64",
                  "type": "integer"
                },
                {
                  "name": "month_6",
                  "rawType": "int64",
                  "type": "integer"
                },
                {
                  "name": "month_7",
                  "rawType": "int64",
                  "type": "integer"
                },
                {
                  "name": "month_8",
                  "rawType": "int64",
                  "type": "integer"
                },
                {
                  "name": "month_9",
                  "rawType": "int64",
                  "type": "integer"
                },
                {
                  "name": "month_10",
                  "rawType": "int64",
                  "type": "integer"
                },
                {
                  "name": "month_11",
                  "rawType": "int64",
                  "type": "integer"
                },
                {
                  "name": "month_12",
                  "rawType": "int64",
                  "type": "integer"
                },
                {
                  "name": "quarter_2",
                  "rawType": "int64",
                  "type": "integer"
                },
                {
                  "name": "quarter_3",
                  "rawType": "int64",
                  "type": "integer"
                },
                {
                  "name": "quarter_4",
                  "rawType": "int64",
                  "type": "integer"
                },
                {
                  "name": "cos1",
                  "rawType": "float64",
                  "type": "float"
                },
                {
                  "name": "sin1",
                  "rawType": "float64",
                  "type": "float"
                },
                {
                  "name": "IR",
                  "rawType": "float64",
                  "type": "float"
                },
                {
                  "name": "offset",
                  "rawType": "float64",
                  "type": "float"
                },
                {
                  "name": "ma_12_mental_health_visits",
                  "rawType": "float64",
                  "type": "float"
                }
              ],
              "conversionMethod": "pd.DataFrame",
              "ref": "187f199c-1f93-4061-a506-d9d99f815ad8",
              "rows": [
                [
                  "431",
                  "2018-01-01 00:00:00",
                  "Brasil",
                  "280906.0",
                  "16650688.0",
                  "1",
                  "0",
                  "0",
                  "0",
                  "0",
                  "0",
                  "0",
                  "0",
                  "0",
                  "0",
                  "0",
                  "0",
                  "0",
                  "0",
                  "0",
                  "0",
                  "0",
                  "0",
                  "0",
                  "0",
                  "0.0",
                  "1.0",
                  "16.87053411847006",
                  "9.720206815876208",
                  "305023.5"
                ],
                [
                  "376",
                  "2018-02-01 00:00:00",
                  "Brasil",
                  "268180.0",
                  "15280725.0",
                  "2",
                  "0",
                  "0",
                  "0",
                  "0",
                  "0",
                  "1",
                  "0",
                  "0",
                  "0",
                  "0",
                  "0",
                  "0",
                  "0",
                  "0",
                  "0",
                  "0",
                  "0",
                  "0",
                  "0",
                  "-0.8660254037844386",
                  "0.5000000000000001",
                  "17.55021440409405",
                  "9.634347509238887",
                  "309196.5714285714"
                ],
                [
                  "378",
                  "2018-03-01 00:00:00",
                  "Brasil",
                  "315705.0",
                  "18712756.0",
                  "3",
                  "0",
                  "0",
                  "0",
                  "0",
                  "0",
                  "0",
                  "1",
                  "0",
                  "0",
                  "0",
                  "0",
                  "0",
                  "0",
                  "0",
                  "0",
                  "0",
                  "0",
                  "0",
                  "0",
                  "1.0",
                  "3.061616997868383e-16",
                  "16.87111187683952",
                  "9.836960709329027",
                  "318951.75"
                ],
                [
                  "409",
                  "2018-04-01 00:00:00",
                  "Brasil",
                  "321409.0",
                  "18818333.0",
                  "4",
                  "0",
                  "0",
                  "0",
                  "0",
                  "0",
                  "0",
                  "0",
                  "1",
                  "0",
                  "0",
                  "0",
                  "0",
                  "0",
                  "0",
                  "0",
                  "0",
                  "1",
                  "0",
                  "0",
                  "-0.4999999999999999",
                  "0.8660254037844387",
                  "17.079568099894924",
                  "9.84258683323329",
                  "324823.1111111111"
                ],
                [
                  "413",
                  "2018-05-01 00:00:00",
                  "Brasil",
                  "325042.0",
                  "19291195.0",
                  "5",
                  "0",
                  "0",
                  "0",
                  "0",
                  "0",
                  "0",
                  "0",
                  "0",
                  "1",
                  "0",
                  "0",
                  "0",
                  "0",
                  "0",
                  "0",
                  "0",
                  "1",
                  "0",
                  "0",
                  "0.5000000000000016",
                  "-0.8660254037844377",
                  "16.849241324863495",
                  "9.867404053177477",
                  "337760.6"
                ],
                [
                  "419",
                  "2018-06-01 00:00:00",
                  "Brasil",
                  "318899.0",
                  "17535895.0",
                  "6",
                  "0",
                  "0",
                  "0",
                  "0",
                  "0",
                  "0",
                  "0",
                  "0",
                  "0",
                  "1",
                  "0",
                  "0",
                  "0",
                  "0",
                  "0",
                  "0",
                  "1",
                  "0",
                  "0",
                  "-0.5000000000000001",
                  "0.8660254037844386",
                  "18.185498943737976",
                  "9.772005202047334",
                  "338789.36363636365"
                ],
                [
                  "424",
                  "2018-07-01 00:00:00",
                  "Brasil",
                  "334235.0",
                  "18796956.0",
                  "7",
                  "0",
                  "0",
                  "0",
                  "0",
                  "0",
                  "0",
                  "0",
                  "0",
                  "0",
                  "0",
                  "1",
                  "0",
                  "0",
                  "0",
                  "0",
                  "0",
                  "0",
                  "1",
                  "0",
                  "0.49999999999999883",
                  "0.8660254037844393",
                  "17.781336510017898",
                  "9.841450220814792",
                  "332544.3333333333"
                ],
                [
                  "406",
                  "2018-08-01 00:00:00",
                  "Brasil",
                  "387238.0",
                  "21295471.0",
                  "8",
                  "0",
                  "0",
                  "0",
                  "0",
                  "0",
                  "0",
                  "0",
                  "0",
                  "0",
                  "0",
                  "0",
                  "1",
                  "0",
                  "0",
                  "0",
                  "0",
                  "0",
                  "1",
                  "0",
                  "-0.8660254037844376",
                  "-0.5000000000000018",
                  "18.184054252662456",
                  "9.96624969998076",
                  "337469.75"
                ],
                [
                  "383",
                  "2018-09-01 00:00:00",
                  "Brasil",
                  "371794.0",
                  "20066133.0",
                  "9",
                  "0",
                  "0",
                  "0",
                  "0",
                  "0",
                  "0",
                  "0",
                  "0",
                  "0",
                  "0",
                  "0",
                  "0",
                  "1",
                  "0",
                  "0",
                  "0",
                  "0",
                  "1",
                  "0",
                  "0.4999999999999986",
                  "0.8660254037844395",
                  "18.528432957162202",
                  "9.906788747590772",
                  "345896.6666666667"
                ],
                [
                  "388",
                  "2018-10-01 00:00:00",
                  "Brasil",
                  "454198.0",
                  "24146684.0",
                  "10",
                  "0",
                  "0",
                  "0",
                  "0",
                  "0",
                  "0",
                  "0",
                  "0",
                  "0",
                  "0",
                  "0",
                  "0",
                  "0",
                  "1",
                  "0",
                  "0",
                  "0",
                  "0",
                  "1",
                  "-0.4999999999999985",
                  "-0.8660254037844395",
                  "18.809953366681736",
                  "10.091902341164433",
                  "345202.9166666667"
                ],
                [
                  "400",
                  "2018-11-01 00:00:00",
                  "Brasil",
                  "349077.0",
                  "18438761.0",
                  "11",
                  "0",
                  "0",
                  "0",
                  "0",
                  "0",
                  "0",
                  "0",
                  "0",
                  "0",
                  "0",
                  "0",
                  "0",
                  "0",
                  "0",
                  "1",
                  "0",
                  "0",
                  "0",
                  "1",
                  "1.0",
                  "-4.904777002955296e-16",
                  "18.931695030918835",
                  "9.822210303963805",
                  "349655.75"
                ],
                [
                  "404",
                  "2018-12-01 00:00:00",
                  "Brasil",
                  "263849.0",
                  "14059001.0",
                  "12",
                  "0",
                  "0",
                  "0",
                  "0",
                  "0",
                  "0",
                  "0",
                  "0",
                  "0",
                  "0",
                  "0",
                  "0",
                  "0",
                  "0",
                  "0",
                  "1",
                  "0",
                  "0",
                  "1",
                  "-0.8660254037844388",
                  "0.4999999999999998",
                  "18.767265184773798",
                  "9.55101811020872",
                  "357036.8333333333"
                ],
                [
                  "399",
                  "2019-01-01 00:00:00",
                  "Brasil",
                  "340011.0",
                  "19409656.0",
                  "13",
                  "0",
                  "0",
                  "0",
                  "0",
                  "0",
                  "0",
                  "0",
                  "0",
                  "0",
                  "0",
                  "0",
                  "0",
                  "0",
                  "0",
                  "0",
                  "0",
                  "0",
                  "0",
                  "0",
                  "0.4999999999999951",
                  "0.8660254037844415",
                  "17.5176211263095",
                  "9.873525953182718",
                  "359483.0"
                ],
                [
                  "391",
                  "2019-02-01 00:00:00",
                  "Brasil",
                  "369303.0",
                  "20389977.0",
                  "14",
                  "0",
                  "0",
                  "0",
                  "0",
                  "0",
                  "1",
                  "0",
                  "0",
                  "0",
                  "0",
                  "0",
                  "0",
                  "0",
                  "0",
                  "0",
                  "0",
                  "0",
                  "0",
                  "0",
                  "-1.9606728399089416e-15",
                  "-1.0",
                  "18.111987080711273",
                  "9.92279873556394",
                  "367102.0833333333"
                ],
                [
                  "427",
                  "2019-03-01 00:00:00",
                  "Brasil",
                  "307380.0",
                  "16078634.0",
                  "15",
                  "0",
                  "0",
                  "0",
                  "0",
                  "0",
                  "0",
                  "1",
                  "0",
                  "0",
                  "0",
                  "0",
                  "0",
                  "0",
                  "0",
                  "0",
                  "0",
                  "0",
                  "0",
                  "0",
                  "0.8660254037844407",
                  "-0.4999999999999964",
                  "19.117295660812978",
                  "9.685246588875724",
                  "373332.5833333333"
                ],
                [
                  "416",
                  "2019-04-01 00:00:00",
                  "Brasil",
                  "374843.0",
                  "20405616.0",
                  "16",
                  "0",
                  "0",
                  "0",
                  "0",
                  "0",
                  "0",
                  "0",
                  "1",
                  "0",
                  "0",
                  "0",
                  "0",
                  "0",
                  "0",
                  "0",
                  "0",
                  "1",
                  "0",
                  "0",
                  "-0.866025403784439",
                  "0.49999999999999933",
                  "18.36959981997113",
                  "9.923565436063482",
                  "377343.5"
                ],
                [
                  "415",
                  "2019-05-01 00:00:00",
                  "Brasil",
                  "413615.0",
                  "22296661.0",
                  "17",
                  "0",
                  "0",
                  "0",
                  "0",
                  "0",
                  "0",
                  "0",
                  "0",
                  "1",
                  "0",
                  "0",
                  "0",
                  "0",
                  "0",
                  "0",
                  "0",
                  "1",
                  "0",
                  "0",
                  "0.866025403784437",
                  "0.5000000000000028",
                  "18.55053543667368",
                  "10.012192215295709",
                  "377698.0"
                ],
                [
                  "372",
                  "2019-06-01 00:00:00",
                  "Brasil",
                  "348253.0",
                  "18062631.0",
                  "18",
                  "0",
                  "0",
                  "0",
                  "0",
                  "0",
                  "0",
                  "0",
                  "0",
                  "0",
                  "1",
                  "0",
                  "0",
                  "0",
                  "0",
                  "0",
                  "0",
                  "1",
                  "0",
                  "0",
                  "-0.5000000000000038",
                  "-0.8660254037844365",
                  "19.280303074341717",
                  "9.801600497423644",
                  "382242.9166666667"
                ],
                [
                  "368",
                  "2019-07-01 00:00:00",
                  "Brasil",
                  "425664.0",
                  "21322286.0",
                  "19",
                  "0",
                  "0",
                  "0",
                  "0",
                  "0",
                  "0",
                  "0",
                  "0",
                  "0",
                  "0",
                  "1",
                  "0",
                  "0",
                  "0",
                  "0",
                  "0",
                  "0",
                  "1",
                  "0",
                  "0.8660254037844374",
                  "-0.5000000000000021",
                  "19.963337889755348",
                  "9.967508095796317",
                  "387043.6666666667"
                ],
                [
                  "377",
                  "2019-08-01 00:00:00",
                  "Brasil",
                  "462004.0",
                  "21611519.0",
                  "20",
                  "0",
                  "0",
                  "0",
                  "0",
                  "0",
                  "0",
                  "0",
                  "0",
                  "0",
                  "0",
                  "0",
                  "1",
                  "0",
                  "0",
                  "0",
                  "0",
                  "0",
                  "1",
                  "0",
                  "-0.8660254037844352",
                  "-0.5000000000000061",
                  "21.377673637841006",
                  "9.980981738562296",
                  "391288.4166666667"
                ],
                [
                  "398",
                  "2019-09-01 00:00:00",
                  "Brasil",
                  "419925.0",
                  "19647635.0",
                  "21",
                  "0",
                  "0",
                  "0",
                  "0",
                  "0",
                  "0",
                  "0",
                  "0",
                  "0",
                  "0",
                  "0",
                  "0",
                  "1",
                  "0",
                  "0",
                  "0",
                  "0",
                  "1",
                  "0",
                  "0.866025403784441",
                  "-0.4999999999999957",
                  "21.372801357517076",
                  "9.885712253819918",
                  "391894.1666666667"
                ],
                [
                  "373",
                  "2019-10-01 00:00:00",
                  "Brasil",
                  "458452.0",
                  "21420993.0",
                  "22",
                  "0",
                  "0",
                  "0",
                  "0",
                  "0",
                  "0",
                  "0",
                  "0",
                  "0",
                  "0",
                  "0",
                  "0",
                  "0",
                  "1",
                  "0",
                  "0",
                  "0",
                  "0",
                  "1",
                  "-0.5000000000000034",
                  "-0.8660254037844367",
                  "21.401995696464677",
                  "9.972126701470634",
                  "399119.0833333333"
                ],
                [
                  "382",
                  "2019-11-01 00:00:00",
                  "Brasil",
                  "403616.0",
                  "18520682.0",
                  "23",
                  "0",
                  "0",
                  "0",
                  "0",
                  "0",
                  "0",
                  "0",
                  "0",
                  "0",
                  "0",
                  "0",
                  "0",
                  "0",
                  "0",
                  "1",
                  "0",
                  "0",
                  "0",
                  "1",
                  "0.8660254037844367",
                  "0.5000000000000034",
                  "21.792718000341456",
                  "9.82664333257614",
                  "393741.8333333333"
                ],
                [
                  "426",
                  "2019-12-01 00:00:00",
                  "Brasil",
                  "321458.0",
                  "14159780.0",
                  "24",
                  "0",
                  "0",
                  "0",
                  "0",
                  "0",
                  "0",
                  "0",
                  "0",
                  "0",
                  "0",
                  "0",
                  "0",
                  "0",
                  "0",
                  "0",
                  "1",
                  "0",
                  "0",
                  "1",
                  "6.369401316839413e-15",
                  "-1.0",
                  "22.702188875815867",
                  "9.558160830403851",
                  "388220.8333333333"
                ],
                [
                  "360",
                  "2020-01-01 00:00:00",
                  "Brasil",
                  "390948.0",
                  "17426499.0",
                  "25",
                  "0",
                  "0",
                  "0",
                  "0",
                  "0",
                  "0",
                  "0",
                  "0",
                  "0",
                  "0",
                  "0",
                  "0",
                  "0",
                  "0",
                  "0",
                  "0",
                  "0",
                  "0",
                  "0",
                  "0.8660254037844414",
                  "-0.49999999999999534",
                  "22.434110259324033",
                  "9.765747257753679",
                  "393126.4166666667"
                ],
                [
                  "375",
                  "2020-02-01 00:00:00",
                  "Brasil",
                  "376572.0",
                  "16520344.0",
                  "26",
                  "0",
                  "0",
                  "0",
                  "0",
                  "0",
                  "1",
                  "0",
                  "0",
                  "0",
                  "0",
                  "0",
                  "0",
                  "0",
                  "0",
                  "0",
                  "0",
                  "0",
                  "0",
                  "0",
                  "-1.0",
                  "-4.899206177226001e-15",
                  "22.794440600026245",
                  "9.71234787010272",
                  "395109.3333333333"
                ],
                [
                  "370",
                  "2020-03-01 00:00:00",
                  "Brasil",
                  "394079.0",
                  "17037445.0",
                  "27",
                  "0",
                  "0",
                  "0",
                  "0",
                  "0",
                  "0",
                  "1",
                  "0",
                  "0",
                  "0",
                  "0",
                  "0",
                  "0",
                  "0",
                  "0",
                  "0",
                  "0",
                  "0",
                  "0",
                  "1.0",
                  "1.4689571783402355e-15",
                  "23.13017004603683",
                  "9.74316884782643",
                  "394032.8333333333"
                ],
                [
                  "363",
                  "2020-04-01 00:00:00",
                  "Brasil",
                  "310316.0",
                  "10478899.0",
                  "28",
                  "1",
                  "1",
                  "0",
                  "0",
                  "1",
                  "0",
                  "0",
                  "1",
                  "0",
                  "0",
                  "0",
                  "0",
                  "0",
                  "0",
                  "0",
                  "0",
                  "1",
                  "0",
                  "0",
                  "-1.0",
                  "1.96129182054553e-15",
                  "29.61341644766306",
                  "9.257118895104226",
                  "401268.9166666667"
                ],
                [
                  "371",
                  "2020-05-01 00:00:00",
                  "Brasil",
                  "347363.0",
                  "12412552.0",
                  "29",
                  "1",
                  "2",
                  "0",
                  "0",
                  "1",
                  "0",
                  "0",
                  "0",
                  "1",
                  "0",
                  "0",
                  "0",
                  "0",
                  "0",
                  "0",
                  "0",
                  "1",
                  "0",
                  "0",
                  "-3.429011037612589e-15",
                  "1.0",
                  "27.984817304290043",
                  "9.42646349766993",
                  "403478.0833333333"
                ],
                [
                  "364",
                  "2020-06-01 00:00:00",
                  "Brasil",
                  "407120.0",
                  "15197165.0",
                  "30",
                  "1",
                  "3",
                  "0",
                  "0",
                  "1",
                  "0",
                  "0",
                  "0",
                  "0",
                  "1",
                  "0",
                  "0",
                  "0",
                  "0",
                  "0",
                  "0",
                  "1",
                  "0",
                  "0",
                  "-0.5000000000000119",
                  "0.8660254037844318",
                  "26.78920706592315",
                  "9.62886417628073",
                  "410199.8333333333"
                ],
                [
                  "407",
                  "2020-07-01 00:00:00",
                  "Brasil",
                  "449459.0",
                  "18172799.0",
                  "31",
                  "1",
                  "4",
                  "0",
                  "0",
                  "0",
                  "0",
                  "0",
                  "0",
                  "0",
                  "0",
                  "1",
                  "0",
                  "0",
                  "0",
                  "0",
                  "0",
                  "0",
                  "1",
                  "0",
                  "0.8660254037844362",
                  "0.5000000000000042",
                  "24.73251368707704",
                  "9.80768119465582",
                  "417751.1666666667"
                ],
                [
                  "412",
                  "2020-08-01 00:00:00",
                  "Brasil",
                  "449086.0",
                  "18055161.0",
                  "32",
                  "1",
                  "5",
                  "0",
                  "0",
                  "0",
                  "0",
                  "0",
                  "0",
                  "0",
                  "0",
                  "0",
                  "1",
                  "0",
                  "0",
                  "0",
                  "0",
                  "0",
                  "1",
                  "0",
                  "-0.8660254037844379",
                  "-0.5000000000000012",
                  "24.87299891704095",
                  "9.801186850869252",
                  "420628.9166666667"
                ],
                [
                  "418",
                  "2020-09-01 00:00:00",
                  "Brasil",
                  "506758.0",
                  "19528646.0",
                  "33",
                  "1",
                  "6",
                  "0",
                  "0",
                  "0",
                  "0",
                  "0",
                  "0",
                  "0",
                  "0",
                  "0",
                  "0",
                  "1",
                  "0",
                  "0",
                  "0",
                  "0",
                  "1",
                  "0",
                  "0.500000000000003",
                  "-0.8660254037844369",
                  "25.94946930780557",
                  "9.87963769223027",
                  "426913.0"
                ],
                [
                  "422",
                  "2020-10-01 00:00:00",
                  "Brasil",
                  "484962.0",
                  "19095554.0",
                  "34",
                  "1",
                  "7",
                  "0",
                  "0",
                  "0",
                  "0",
                  "0",
                  "0",
                  "0",
                  "0",
                  "0",
                  "0",
                  "0",
                  "1",
                  "0",
                  "0",
                  "0",
                  "0",
                  "1",
                  "-0.5",
                  "0.8660254037844386",
                  "25.396592316724615",
                  "9.857210812069336",
                  "436754.25"
                ],
                [
                  "425",
                  "2020-11-01 00:00:00",
                  "Brasil",
                  "484277.0",
                  "19270233.0",
                  "35",
                  "1",
                  "8",
                  "0",
                  "0",
                  "0",
                  "0",
                  "0",
                  "0",
                  "0",
                  "0",
                  "0",
                  "0",
                  "0",
                  "0",
                  "1",
                  "0",
                  "0",
                  "0",
                  "1",
                  "0.8660254037844455",
                  "-0.4999999999999881",
                  "25.130832616294782",
                  "9.866316852668993",
                  "450669.25"
                ],
                [
                  "429",
                  "2020-12-01 00:00:00",
                  "Brasil",
                  "412074.0",
                  "16228765.0",
                  "36",
                  "1",
                  "9",
                  "0",
                  "0",
                  "0",
                  "0",
                  "0",
                  "0",
                  "0",
                  "0",
                  "0",
                  "0",
                  "0",
                  "0",
                  "0",
                  "1",
                  "0",
                  "0",
                  "1",
                  "-0.49999999999999406",
                  "0.866025403784442",
                  "25.39158093668865",
                  "9.69454056395964",
                  "464299.8333333333"
                ],
                [
                  "394",
                  "2021-01-01 00:00:00",
                  "Brasil",
                  "425481.0",
                  "17413861.0",
                  "37",
                  "1",
                  "10",
                  "0",
                  "0",
                  "0",
                  "0",
                  "0",
                  "0",
                  "0",
                  "0",
                  "0",
                  "0",
                  "0",
                  "0",
                  "0",
                  "0",
                  "0",
                  "0",
                  "0",
                  "0.8660254037844394",
                  "0.4999999999999987",
                  "24.433467109907447",
                  "9.765021777273322",
                  "473485.75"
                ],
                [
                  "384",
                  "2021-02-01 00:00:00",
                  "Brasil",
                  "451981.0",
                  "18225154.0",
                  "38",
                  "1",
                  "11",
                  "0",
                  "0",
                  "0",
                  "1",
                  "0",
                  "0",
                  "0",
                  "0",
                  "0",
                  "0",
                  "0",
                  "0",
                  "0",
                  "0",
                  "0",
                  "0",
                  "0",
                  "-0.5000000000000004",
                  "0.8660254037844384",
                  "24.799845312692558",
                  "9.81055800677257",
                  "482132.5"
                ],
                [
                  "386",
                  "2021-03-01 00:00:00",
                  "Brasil",
                  "512174.0",
                  "21625066.0",
                  "39",
                  "1",
                  "12",
                  "0",
                  "0",
                  "0",
                  "0",
                  "1",
                  "0",
                  "0",
                  "0",
                  "0",
                  "0",
                  "0",
                  "0",
                  "0",
                  "0",
                  "0",
                  "0",
                  "0",
                  "0.8660254037844457",
                  "-0.4999999999999877",
                  "23.68427453585575",
                  "9.981608383818545",
                  "497561.6666666667"
                ],
                [
                  "389",
                  "2021-04-01 00:00:00",
                  "Brasil",
                  "477296.0",
                  "19054945.0",
                  "40",
                  "1",
                  "13",
                  "0",
                  "0",
                  "0",
                  "0",
                  "0",
                  "1",
                  "0",
                  "0",
                  "0",
                  "0",
                  "0",
                  "0",
                  "0",
                  "0",
                  "1",
                  "0",
                  "0",
                  "-0.49999999999999534",
                  "-0.8660254037844414",
                  "25.048406069920432",
                  "9.855081926922267",
                  "506145.5"
                ],
                [
                  "392",
                  "2021-05-01 00:00:00",
                  "Brasil",
                  "510930.0",
                  "22063295.0",
                  "41",
                  "1",
                  "14",
                  "0",
                  "0",
                  "0",
                  "0",
                  "0",
                  "0",
                  "1",
                  "0",
                  "0",
                  "0",
                  "0",
                  "0",
                  "0",
                  "0",
                  "1",
                  "0",
                  "0",
                  "-4.898587196589413e-15",
                  "1.0",
                  "23.157465827293702",
                  "10.001670647020777",
                  "513511.0833333333"
                ],
                [
                  "397",
                  "2021-06-01 00:00:00",
                  "Brasil",
                  "517351.0",
                  "21549941.0",
                  "42",
                  "1",
                  "15",
                  "0",
                  "0",
                  "0",
                  "0",
                  "0",
                  "0",
                  "0",
                  "1",
                  "0",
                  "0",
                  "0",
                  "0",
                  "0",
                  "0",
                  "1",
                  "0",
                  "0",
                  "-1.0",
                  "7.352213659340238e-15",
                  "24.007072687577196",
                  "9.97812835770912",
                  "522648.9166666667"
                ],
                [
                  "403",
                  "2021-07-01 00:00:00",
                  "Brasil",
                  "553220.0",
                  "21779971.0",
                  "43",
                  "1",
                  "16",
                  "0",
                  "0",
                  "0",
                  "0",
                  "0",
                  "0",
                  "0",
                  "0",
                  "1",
                  "0",
                  "0",
                  "0",
                  "0",
                  "0",
                  "0",
                  "1",
                  "0",
                  "0.8660254037844426",
                  "0.4999999999999932",
                  "25.400401130010685",
                  "9.988746064989279",
                  "532408.75"
                ],
                [
                  "421",
                  "2021-08-01 00:00:00",
                  "Brasil",
                  "634236.0",
                  "23892737.0",
                  "44",
                  "1",
                  "17",
                  "0",
                  "0",
                  "0",
                  "0",
                  "0",
                  "0",
                  "0",
                  "0",
                  "0",
                  "1",
                  "0",
                  "0",
                  "0",
                  "0",
                  "0",
                  "1",
                  "0",
                  "-0.8660254037844514",
                  "0.4999999999999779",
                  "26.545137963892543",
                  "10.081329800521921",
                  "535354.5"
                ],
                [
                  "402",
                  "2021-09-01 00:00:00",
                  "Brasil",
                  "609764.0",
                  "22122731.0",
                  "45",
                  "1",
                  "18",
                  "0",
                  "0",
                  "0",
                  "0",
                  "0",
                  "0",
                  "0",
                  "0",
                  "0",
                  "0",
                  "1",
                  "0",
                  "0",
                  "0",
                  "0",
                  "1",
                  "0",
                  "0.49999999999999195",
                  "-0.8660254037844433",
                  "27.562781466718555",
                  "10.004360910944827",
                  "543789.0833333334"
                ],
                [
                  "401",
                  "2021-10-01 00:00:00",
                  "Brasil",
                  "573349.0",
                  "21439554.0",
                  "46",
                  "1",
                  "19",
                  "0",
                  "0",
                  "0",
                  "0",
                  "0",
                  "0",
                  "0",
                  "0",
                  "0",
                  "0",
                  "0",
                  "1",
                  "0",
                  "0",
                  "0",
                  "0",
                  "1",
                  "-0.49999999999998856",
                  "-0.8660254037844453",
                  "26.742580559278423",
                  "9.972992812729563",
                  "558632.5"
                ],
                [
                  "396",
                  "2021-11-01 00:00:00",
                  "Brasil",
                  "593931.0",
                  "22606956.0",
                  "47",
                  "1",
                  "20",
                  "0",
                  "0",
                  "0",
                  "0",
                  "0",
                  "0",
                  "0",
                  "0",
                  "0",
                  "0",
                  "0",
                  "0",
                  "1",
                  "0",
                  "0",
                  "0",
                  "1",
                  "0.8660254037844392",
                  "-0.49999999999999917",
                  "26.27204653293438",
                  "10.026012925514108",
                  "568157.3333333334"
                ],
                [
                  "395",
                  "2021-12-01 00:00:00",
                  "Brasil",
                  "529192.0",
                  "20870224.0",
                  "48",
                  "1",
                  "21",
                  "0",
                  "0",
                  "0",
                  "0",
                  "0",
                  "0",
                  "0",
                  "0",
                  "0",
                  "0",
                  "0",
                  "0",
                  "0",
                  "1",
                  "0",
                  "0",
                  "1",
                  "-4.902301080408943e-15",
                  "-1.0",
                  "25.356316252283634",
                  "9.946078733123374",
                  "583902.0833333334"
                ],
                [
                  "393",
                  "2022-01-01 00:00:00",
                  "Brasil",
                  "460830.0",
                  "23911709.0",
                  "49",
                  "1",
                  "22",
                  "0",
                  "0",
                  "0",
                  "0",
                  "0",
                  "0",
                  "0",
                  "0",
                  "0",
                  "0",
                  "0",
                  "0",
                  "0",
                  "0",
                  "0",
                  "0",
                  "0",
                  "0.4999999999999851",
                  "0.8660254037844473",
                  "19.272148218264114",
                  "10.082123534267776",
                  "593667.6666666666"
                ],
                [
                  "390",
                  "2022-02-01 00:00:00",
                  "Brasil",
                  "553196.0",
                  "22240304.0",
                  "50",
                  "1",
                  "23",
                  "0",
                  "0",
                  "0",
                  "1",
                  "0",
                  "0",
                  "0",
                  "0",
                  "0",
                  "0",
                  "0",
                  "0",
                  "0",
                  "0",
                  "0",
                  "0",
                  "0",
                  "-0.8660254037844333",
                  "-0.5000000000000093",
                  "24.873580864721994",
                  "10.009661417335845",
                  "602508.0"
                ]
              ],
              "shape": {
                "columns": 29,
                "rows": 432
              }
            },
            "text/html": [
              "<div>\n",
              "<style scoped>\n",
              "    .dataframe tbody tr th:only-of-type {\n",
              "        vertical-align: middle;\n",
              "    }\n",
              "\n",
              "    .dataframe tbody tr th {\n",
              "        vertical-align: top;\n",
              "    }\n",
              "\n",
              "    .dataframe thead th {\n",
              "        text-align: right;\n",
              "    }\n",
              "</style>\n",
              "<table border=\"1\" class=\"dataframe\">\n",
              "  <thead>\n",
              "    <tr style=\"text-align: right;\">\n",
              "      <th></th>\n",
              "      <th>date</th>\n",
              "      <th>regiao</th>\n",
              "      <th>mental_health_visits</th>\n",
              "      <th>total_atd</th>\n",
              "      <th>periodo</th>\n",
              "      <th>Pandemia_Step</th>\n",
              "      <th>Pandemia_Trend</th>\n",
              "      <th>PosPandemia_Step</th>\n",
              "      <th>PosPandemia_Trend</th>\n",
              "      <th>ChoqueInicial_Pulse</th>\n",
              "      <th>...</th>\n",
              "      <th>month_11</th>\n",
              "      <th>month_12</th>\n",
              "      <th>quarter_2</th>\n",
              "      <th>quarter_3</th>\n",
              "      <th>quarter_4</th>\n",
              "      <th>cos1</th>\n",
              "      <th>sin1</th>\n",
              "      <th>IR</th>\n",
              "      <th>offset</th>\n",
              "      <th>ma_12_mental_health_visits</th>\n",
              "    </tr>\n",
              "  </thead>\n",
              "  <tbody>\n",
              "    <tr>\n",
              "      <th>431</th>\n",
              "      <td>2018-01-01</td>\n",
              "      <td>Brasil</td>\n",
              "      <td>280906.0</td>\n",
              "      <td>16650688.0</td>\n",
              "      <td>1</td>\n",
              "      <td>0</td>\n",
              "      <td>0</td>\n",
              "      <td>0</td>\n",
              "      <td>0</td>\n",
              "      <td>0</td>\n",
              "      <td>...</td>\n",
              "      <td>0</td>\n",
              "      <td>0</td>\n",
              "      <td>0</td>\n",
              "      <td>0</td>\n",
              "      <td>0</td>\n",
              "      <td>0.000000e+00</td>\n",
              "      <td>1.000000e+00</td>\n",
              "      <td>16.870534</td>\n",
              "      <td>9.720207</td>\n",
              "      <td>305023.500000</td>\n",
              "    </tr>\n",
              "    <tr>\n",
              "      <th>376</th>\n",
              "      <td>2018-02-01</td>\n",
              "      <td>Brasil</td>\n",
              "      <td>268180.0</td>\n",
              "      <td>15280725.0</td>\n",
              "      <td>2</td>\n",
              "      <td>0</td>\n",
              "      <td>0</td>\n",
              "      <td>0</td>\n",
              "      <td>0</td>\n",
              "      <td>0</td>\n",
              "      <td>...</td>\n",
              "      <td>0</td>\n",
              "      <td>0</td>\n",
              "      <td>0</td>\n",
              "      <td>0</td>\n",
              "      <td>0</td>\n",
              "      <td>-8.660254e-01</td>\n",
              "      <td>5.000000e-01</td>\n",
              "      <td>17.550214</td>\n",
              "      <td>9.634348</td>\n",
              "      <td>309196.571429</td>\n",
              "    </tr>\n",
              "    <tr>\n",
              "      <th>378</th>\n",
              "      <td>2018-03-01</td>\n",
              "      <td>Brasil</td>\n",
              "      <td>315705.0</td>\n",
              "      <td>18712756.0</td>\n",
              "      <td>3</td>\n",
              "      <td>0</td>\n",
              "      <td>0</td>\n",
              "      <td>0</td>\n",
              "      <td>0</td>\n",
              "      <td>0</td>\n",
              "      <td>...</td>\n",
              "      <td>0</td>\n",
              "      <td>0</td>\n",
              "      <td>0</td>\n",
              "      <td>0</td>\n",
              "      <td>0</td>\n",
              "      <td>1.000000e+00</td>\n",
              "      <td>3.061617e-16</td>\n",
              "      <td>16.871112</td>\n",
              "      <td>9.836961</td>\n",
              "      <td>318951.750000</td>\n",
              "    </tr>\n",
              "    <tr>\n",
              "      <th>409</th>\n",
              "      <td>2018-04-01</td>\n",
              "      <td>Brasil</td>\n",
              "      <td>321409.0</td>\n",
              "      <td>18818333.0</td>\n",
              "      <td>4</td>\n",
              "      <td>0</td>\n",
              "      <td>0</td>\n",
              "      <td>0</td>\n",
              "      <td>0</td>\n",
              "      <td>0</td>\n",
              "      <td>...</td>\n",
              "      <td>0</td>\n",
              "      <td>0</td>\n",
              "      <td>1</td>\n",
              "      <td>0</td>\n",
              "      <td>0</td>\n",
              "      <td>-5.000000e-01</td>\n",
              "      <td>8.660254e-01</td>\n",
              "      <td>17.079568</td>\n",
              "      <td>9.842587</td>\n",
              "      <td>324823.111111</td>\n",
              "    </tr>\n",
              "    <tr>\n",
              "      <th>413</th>\n",
              "      <td>2018-05-01</td>\n",
              "      <td>Brasil</td>\n",
              "      <td>325042.0</td>\n",
              "      <td>19291195.0</td>\n",
              "      <td>5</td>\n",
              "      <td>0</td>\n",
              "      <td>0</td>\n",
              "      <td>0</td>\n",
              "      <td>0</td>\n",
              "      <td>0</td>\n",
              "      <td>...</td>\n",
              "      <td>0</td>\n",
              "      <td>0</td>\n",
              "      <td>1</td>\n",
              "      <td>0</td>\n",
              "      <td>0</td>\n",
              "      <td>5.000000e-01</td>\n",
              "      <td>-8.660254e-01</td>\n",
              "      <td>16.849241</td>\n",
              "      <td>9.867404</td>\n",
              "      <td>337760.600000</td>\n",
              "    </tr>\n",
              "    <tr>\n",
              "      <th>...</th>\n",
              "      <td>...</td>\n",
              "      <td>...</td>\n",
              "      <td>...</td>\n",
              "      <td>...</td>\n",
              "      <td>...</td>\n",
              "      <td>...</td>\n",
              "      <td>...</td>\n",
              "      <td>...</td>\n",
              "      <td>...</td>\n",
              "      <td>...</td>\n",
              "      <td>...</td>\n",
              "      <td>...</td>\n",
              "      <td>...</td>\n",
              "      <td>...</td>\n",
              "      <td>...</td>\n",
              "      <td>...</td>\n",
              "      <td>...</td>\n",
              "      <td>...</td>\n",
              "      <td>...</td>\n",
              "      <td>...</td>\n",
              "      <td>...</td>\n",
              "    </tr>\n",
              "    <tr>\n",
              "      <th>53</th>\n",
              "      <td>2023-08-01</td>\n",
              "      <td>sul</td>\n",
              "      <td>232746.0</td>\n",
              "      <td>7448532.0</td>\n",
              "      <td>68</td>\n",
              "      <td>0</td>\n",
              "      <td>0</td>\n",
              "      <td>1</td>\n",
              "      <td>17</td>\n",
              "      <td>0</td>\n",
              "      <td>...</td>\n",
              "      <td>0</td>\n",
              "      <td>0</td>\n",
              "      <td>0</td>\n",
              "      <td>1</td>\n",
              "      <td>0</td>\n",
              "      <td>1.175785e-14</td>\n",
              "      <td>-1.000000e+00</td>\n",
              "      <td>31.247231</td>\n",
              "      <td>8.915772</td>\n",
              "      <td>195249.545455</td>\n",
              "    </tr>\n",
              "    <tr>\n",
              "      <th>48</th>\n",
              "      <td>2023-09-01</td>\n",
              "      <td>sul</td>\n",
              "      <td>198259.0</td>\n",
              "      <td>6122598.0</td>\n",
              "      <td>69</td>\n",
              "      <td>0</td>\n",
              "      <td>0</td>\n",
              "      <td>1</td>\n",
              "      <td>18</td>\n",
              "      <td>0</td>\n",
              "      <td>...</td>\n",
              "      <td>0</td>\n",
              "      <td>0</td>\n",
              "      <td>0</td>\n",
              "      <td>1</td>\n",
              "      <td>0</td>\n",
              "      <td>5.000000e-01</td>\n",
              "      <td>-8.660254e-01</td>\n",
              "      <td>32.381515</td>\n",
              "      <td>8.719742</td>\n",
              "      <td>198943.600000</td>\n",
              "    </tr>\n",
              "    <tr>\n",
              "      <th>71</th>\n",
              "      <td>2023-10-01</td>\n",
              "      <td>sul</td>\n",
              "      <td>220146.0</td>\n",
              "      <td>7046997.0</td>\n",
              "      <td>70</td>\n",
              "      <td>0</td>\n",
              "      <td>0</td>\n",
              "      <td>1</td>\n",
              "      <td>19</td>\n",
              "      <td>0</td>\n",
              "      <td>...</td>\n",
              "      <td>0</td>\n",
              "      <td>0</td>\n",
              "      <td>0</td>\n",
              "      <td>0</td>\n",
              "      <td>1</td>\n",
              "      <td>-8.660254e-01</td>\n",
              "      <td>-5.000000e-01</td>\n",
              "      <td>31.239690</td>\n",
              "      <td>8.860357</td>\n",
              "      <td>197132.777778</td>\n",
              "    </tr>\n",
              "    <tr>\n",
              "      <th>68</th>\n",
              "      <td>2023-11-01</td>\n",
              "      <td>sul</td>\n",
              "      <td>205598.0</td>\n",
              "      <td>6625712.0</td>\n",
              "      <td>71</td>\n",
              "      <td>0</td>\n",
              "      <td>0</td>\n",
              "      <td>1</td>\n",
              "      <td>20</td>\n",
              "      <td>0</td>\n",
              "      <td>...</td>\n",
              "      <td>1</td>\n",
              "      <td>0</td>\n",
              "      <td>0</td>\n",
              "      <td>0</td>\n",
              "      <td>1</td>\n",
              "      <td>8.660254e-01</td>\n",
              "      <td>5.000000e-01</td>\n",
              "      <td>31.030325</td>\n",
              "      <td>8.798713</td>\n",
              "      <td>200666.625000</td>\n",
              "    </tr>\n",
              "    <tr>\n",
              "      <th>0</th>\n",
              "      <td>2023-12-01</td>\n",
              "      <td>sul</td>\n",
              "      <td>173491.0</td>\n",
              "      <td>5590252.0</td>\n",
              "      <td>72</td>\n",
              "      <td>0</td>\n",
              "      <td>0</td>\n",
              "      <td>1</td>\n",
              "      <td>21</td>\n",
              "      <td>0</td>\n",
              "      <td>...</td>\n",
              "      <td>0</td>\n",
              "      <td>1</td>\n",
              "      <td>0</td>\n",
              "      <td>0</td>\n",
              "      <td>1</td>\n",
              "      <td>-5.000000e-01</td>\n",
              "      <td>8.660254e-01</td>\n",
              "      <td>31.034558</td>\n",
              "      <td>8.628780</td>\n",
              "      <td>200527.857143</td>\n",
              "    </tr>\n",
              "  </tbody>\n",
              "</table>\n",
              "<p>432 rows × 29 columns</p>\n",
              "</div>"
            ],
            "text/plain": [
              "          date  regiao  mental_health_visits   total_atd  periodo  \\\n",
              "431 2018-01-01  Brasil              280906.0  16650688.0        1   \n",
              "376 2018-02-01  Brasil              268180.0  15280725.0        2   \n",
              "378 2018-03-01  Brasil              315705.0  18712756.0        3   \n",
              "409 2018-04-01  Brasil              321409.0  18818333.0        4   \n",
              "413 2018-05-01  Brasil              325042.0  19291195.0        5   \n",
              "..         ...     ...                   ...         ...      ...   \n",
              "53  2023-08-01     sul              232746.0   7448532.0       68   \n",
              "48  2023-09-01     sul              198259.0   6122598.0       69   \n",
              "71  2023-10-01     sul              220146.0   7046997.0       70   \n",
              "68  2023-11-01     sul              205598.0   6625712.0       71   \n",
              "0   2023-12-01     sul              173491.0   5590252.0       72   \n",
              "\n",
              "     Pandemia_Step  Pandemia_Trend  PosPandemia_Step  PosPandemia_Trend  \\\n",
              "431              0               0                 0                  0   \n",
              "376              0               0                 0                  0   \n",
              "378              0               0                 0                  0   \n",
              "409              0               0                 0                  0   \n",
              "413              0               0                 0                  0   \n",
              "..             ...             ...               ...                ...   \n",
              "53               0               0                 1                 17   \n",
              "48               0               0                 1                 18   \n",
              "71               0               0                 1                 19   \n",
              "68               0               0                 1                 20   \n",
              "0                0               0                 1                 21   \n",
              "\n",
              "     ChoqueInicial_Pulse  ...  month_11  month_12  quarter_2  quarter_3  \\\n",
              "431                    0  ...         0         0          0          0   \n",
              "376                    0  ...         0         0          0          0   \n",
              "378                    0  ...         0         0          0          0   \n",
              "409                    0  ...         0         0          1          0   \n",
              "413                    0  ...         0         0          1          0   \n",
              "..                   ...  ...       ...       ...        ...        ...   \n",
              "53                     0  ...         0         0          0          1   \n",
              "48                     0  ...         0         0          0          1   \n",
              "71                     0  ...         0         0          0          0   \n",
              "68                     0  ...         1         0          0          0   \n",
              "0                      0  ...         0         1          0          0   \n",
              "\n",
              "     quarter_4          cos1          sin1         IR    offset  \\\n",
              "431          0  0.000000e+00  1.000000e+00  16.870534  9.720207   \n",
              "376          0 -8.660254e-01  5.000000e-01  17.550214  9.634348   \n",
              "378          0  1.000000e+00  3.061617e-16  16.871112  9.836961   \n",
              "409          0 -5.000000e-01  8.660254e-01  17.079568  9.842587   \n",
              "413          0  5.000000e-01 -8.660254e-01  16.849241  9.867404   \n",
              "..         ...           ...           ...        ...       ...   \n",
              "53           0  1.175785e-14 -1.000000e+00  31.247231  8.915772   \n",
              "48           0  5.000000e-01 -8.660254e-01  32.381515  8.719742   \n",
              "71           1 -8.660254e-01 -5.000000e-01  31.239690  8.860357   \n",
              "68           1  8.660254e-01  5.000000e-01  31.030325  8.798713   \n",
              "0            1 -5.000000e-01  8.660254e-01  31.034558  8.628780   \n",
              "\n",
              "     ma_12_mental_health_visits  \n",
              "431               305023.500000  \n",
              "376               309196.571429  \n",
              "378               318951.750000  \n",
              "409               324823.111111  \n",
              "413               337760.600000  \n",
              "..                          ...  \n",
              "53                195249.545455  \n",
              "48                198943.600000  \n",
              "71                197132.777778  \n",
              "68                200666.625000  \n",
              "0                 200527.857143  \n",
              "\n",
              "[432 rows x 29 columns]"
            ]
          },
          "execution_count": 1562,
          "metadata": {},
          "output_type": "execute_result"
        }
      ],
      "source": [
        "\n",
        "pipe = Pipeline(\n",
        "    [\n",
        "        (\"grouping\", FrequencyGroupingTransformer(frequency=PREPROCESSOR_ARGS['FrequencyDateGroup'])),\n",
        "        (\"melt\", MeltTransformer(perform_IR=PREPROCESSOR_ARGS['melt_total_atd'])),\n",
        "        (\"date_filter\", DateFilterTransformer(periodos_inclusivos=PREPROCESSOR_ARGS['DateRange'])),\n",
        "        (\"period_index_adder\", PeriodIndexAdder()),\n",
        "        (\"dummy_adder\", MultiDummyAdder(dummy_config=PREPROCESSOR_ARGS['DummyArgs'])),\n",
        "        (\"monthly_dummy_adder\", MonthlyDummyAdder()),\n",
        "        (\"quarterly_dummy_adder\", QuarterlyDummyAdder()),\n",
        "        ('fourier_seasonality', FourierSeasonalityAdder(period = FOURIER_PERIOD,order=N_HARMONICS)),\n",
        "        \n",
        "        (\"sorter\", DataFrameSorter(sort_by=GROUP_COL_NAME, ascending=False)),\n",
        "\n",
        "\n",
        "    ]\n",
        ")\n",
        "\n",
        "\n",
        "RawDataDF = BuildDataDF(dados_brutos)\n",
        "RegressionDF = pipe.fit_transform(RawDataDF)\n",
        "\n",
        "if PREPROCESSOR_ARGS['ExtractIR']:\n",
        "    RegressionDF[IR_VAR] =  RegressionDF[RAW_ATD_VAR]/RegressionDF[RAW_TOTAL_ATD_VAR] * IR_SCALE\n",
        "\n",
        "if RegressionDF[RAW_TOTAL_ATD_VAR] is not None:\n",
        "    RegressionDF[\"offset\"] = np.log(RegressionDF[\"total_atd\"] / IR_SCALE)\n",
        "\n",
        "\n",
        "pipe_MA = Pipeline(\n",
        "    [\n",
        "        ('moving_average', MovingAverageTransformer(window=MOVING_WINDOW, prefix='ma', center=True)),\n",
        "    ]\n",
        ")\n",
        "\n",
        "RegressionDF = pipe_MA.fit_transform(RegressionDF)\n",
        "\n",
        "RegressionDF\n"
      ]
    },
    {
      "cell_type": "code",
      "execution_count": 1563,
      "metadata": {},
      "outputs": [
        {
          "data": {
            "text/plain": [
              "{'formula': 'mental_health_visits ~ periodo + Pandemia_Step + Pandemia_Trend + PosPandemia_Step + PosPandemia_Trend + ChoqueInicial_Pulse + cos1 + sin1',\n",
              " 'family': <statsmodels.genmod.families.family.NegativeBinomial at 0x1683ec5ac90>,\n",
              " 'cov_struct': <statsmodels.genmod.cov_struct.Autoregressive at 0x1683ec5a150>,\n",
              " 'groups': 'dates',\n",
              " 'offset': 'define per variable',\n",
              " 'time': 'dates'}"
            ]
          },
          "execution_count": 1563,
          "metadata": {},
          "output_type": "execute_result"
        }
      ],
      "source": [
        "GEE_PROCESSOR_ARGS"
      ]
    },
    {
      "cell_type": "markdown",
      "metadata": {},
      "source": [
        "# Exploração pressupostos"
      ]
    },
    {
      "cell_type": "code",
      "execution_count": 1564,
      "metadata": {},
      "outputs": [
        {
          "name": "stdout",
          "output_type": "stream",
          "text": [
            "=== Mean-Variance Check by Region ===\n",
            "\n",
            "Region: Brasil\n",
            "Mean: 23.99\n",
            "Variance: 18.97\n",
            "Variance/Mean Ratio: 0.79\n",
            "\n",
            "Region: centro_oeste\n",
            "Mean: 25.14\n",
            "Variance: 11.70\n",
            "Variance/Mean Ratio: 0.47\n",
            "\n",
            "Region: nordeste\n",
            "Mean: 18.95\n",
            "Variance: 41.02\n",
            "Variance/Mean Ratio: 2.17\n",
            "\n",
            "Region: norte\n",
            "Mean: 13.74\n",
            "Variance: 12.49\n",
            "Variance/Mean Ratio: 0.91\n",
            "\n",
            "Region: sudeste\n",
            "Mean: 25.84\n",
            "Variance: 19.39\n",
            "Variance/Mean Ratio: 0.75\n",
            "\n",
            "Region: sul\n",
            "Mean: 27.14\n",
            "Variance: 6.93\n",
            "Variance/Mean Ratio: 0.26\n"
          ]
        }
      ],
      "source": [
        "print(\"=== Mean-Variance Check by Region ===\")\n",
        "for region in RegressionDF[GROUP_COL_NAME].unique():\n",
        "    region_df = RegressionDF[RegressionDF[GROUP_COL_NAME] == region]\n",
        "    print(f\"\\nRegion: {region}\")\n",
        "    print(f\"Mean: {region_df[IR_VAR].mean():.2f}\")\n",
        "    print(f\"Variance: {region_df[IR_VAR].var():.2f}\")\n",
        "    print(f\"Variance/Mean Ratio: {region_df[IR_VAR].var()/region_df[IR_VAR].mean():.2f}\")"
      ]
    },
    {
      "cell_type": "code",
      "execution_count": 1565,
      "metadata": {},
      "outputs": [
        {
          "name": "stdout",
          "output_type": "stream",
          "text": [
            "\n",
            "=== Mean-Variance by Region: Pre-Intervention vs Intervention ===\n"
          ]
        },
        {
          "data": {
            "text/plain": [
              "'\\nfor region in RegressionDF[GROUP_COL_NAME].unique():\\n    # Pre-intervention subset (both pandemic indicators = 0)\\n    pre_subset = RegressionDF[(RegressionDF[GROUP_COL_NAME] == region) & \\n                            (RegressionDF[\\'Pandemia_Step\\'] == 0) &\\n                            (RegressionDF[\\'PosPandemia_Step\\'] == 0)]\\n    \\n    # Intervention subset (all other cases)\\n    int_subset = RegressionDF[(RegressionDF[GROUP_COL_NAME] == region) & \\n                            ((RegressionDF[\\'Pandemia_Step\\'] != 0) |\\n                             (RegressionDF[\\'PosPandemia_Step\\'] != 0))]\\n    \\n    print(f\"\\nRegion: {region}\")\\n    \\n    # Pre-intervention stats\\n    if len(pre_subset) > 0:\\n        print(\"  PRE-INTERVENTION:\")\\n        print(f\"  N observations: {len(pre_subset)}\")\\n        print(f\"  Mean: {pre_subset[DEPENDENT_VAR].mean():.2f}\")\\n        print(f\"  Variance: {pre_subset[DEPENDENT_VAR].var():.2f}\")\\n        print(f\"  Dispersion ratio: {pre_subset[DEPENDENT_VAR].var()/pre_subset[DEPENDENT_VAR].mean():.2f}\")\\n    else:\\n        print(\"  No pre-intervention data for this region\")\\n    \\n    # Intervention stats\\n    if len(int_subset) > 0:\\n        print(\"  INTERVENTION:\")\\n        print(f\"  N observations: {len(int_subset)}\")\\n        print(f\"  Mean: {int_subset[DEPENDENT_VAR].mean():.2f}\")\\n        print(f\"  Variance: {int_subset[DEPENDENT_VAR].var():.2f}\")\\n        print(f\"  Dispersion ratio: {int_subset[DEPENDENT_VAR].var()/int_subset[DEPENDENT_VAR].mean():.2f}\")\\n    else:\\n        print(\"  No intervention data for this region\")\\n'"
            ]
          },
          "execution_count": 1565,
          "metadata": {},
          "output_type": "execute_result"
        }
      ],
      "source": [
        "print(\"\\n=== Mean-Variance by Region: Pre-Intervention vs Intervention ===\")\n",
        "'''\n",
        "for region in RegressionDF[GROUP_COL_NAME].unique():\n",
        "    # Pre-intervention subset (both pandemic indicators = 0)\n",
        "    pre_subset = RegressionDF[(RegressionDF[GROUP_COL_NAME] == region) & \n",
        "                            (RegressionDF['Pandemia_Step'] == 0) &\n",
        "                            (RegressionDF['PosPandemia_Step'] == 0)]\n",
        "    \n",
        "    # Intervention subset (all other cases)\n",
        "    int_subset = RegressionDF[(RegressionDF[GROUP_COL_NAME] == region) & \n",
        "                            ((RegressionDF['Pandemia_Step'] != 0) |\n",
        "                             (RegressionDF['PosPandemia_Step'] != 0))]\n",
        "    \n",
        "    print(f\"\\nRegion: {region}\")\n",
        "    \n",
        "    # Pre-intervention stats\n",
        "    if len(pre_subset) > 0:\n",
        "        print(\"  PRE-INTERVENTION:\")\n",
        "        print(f\"  N observations: {len(pre_subset)}\")\n",
        "        print(f\"  Mean: {pre_subset[DEPENDENT_VAR].mean():.2f}\")\n",
        "        print(f\"  Variance: {pre_subset[DEPENDENT_VAR].var():.2f}\")\n",
        "        print(f\"  Dispersion ratio: {pre_subset[DEPENDENT_VAR].var()/pre_subset[DEPENDENT_VAR].mean():.2f}\")\n",
        "    else:\n",
        "        print(\"  No pre-intervention data for this region\")\n",
        "    \n",
        "    # Intervention stats\n",
        "    if len(int_subset) > 0:\n",
        "        print(\"  INTERVENTION:\")\n",
        "        print(f\"  N observations: {len(int_subset)}\")\n",
        "        print(f\"  Mean: {int_subset[DEPENDENT_VAR].mean():.2f}\")\n",
        "        print(f\"  Variance: {int_subset[DEPENDENT_VAR].var():.2f}\")\n",
        "        print(f\"  Dispersion ratio: {int_subset[DEPENDENT_VAR].var()/int_subset[DEPENDENT_VAR].mean():.2f}\")\n",
        "    else:\n",
        "        print(\"  No intervention data for this region\")\n",
        "'''"
      ]
    },
    {
      "cell_type": "markdown",
      "metadata": {},
      "source": [
        "# CHOW"
      ]
    },
    {
      "cell_type": "code",
      "execution_count": 1566,
      "metadata": {},
      "outputs": [],
      "source": [
        "\n",
        "import numpy as np\n",
        "import pandas as pd\n",
        "import statsmodels.api as sm\n",
        "import patsy\n",
        "from scipy import stats\n",
        "\n",
        "def chow_test_glm_by_date(df, \n",
        "                           y_col=None, X_cols=None, \n",
        "                           formula=None, \n",
        "                           breakpoint_date=None, \n",
        "                           family=None, \n",
        "                           offset_col=None, \n",
        "                           date_col='DATE_NAME'):\n",
        "    \"\"\"\n",
        "    Faz o Chow Test em GLM, usando data como ponto de quebra.\n",
        "    \n",
        "    Pode passar (y_col + X_cols) ou formula.\n",
        "    \"\"\"\n",
        "\n",
        "    df = df.copy()\n",
        "    df[date_col] = pd.to_datetime(df[date_col])\n",
        "\n",
        "    # Subsets\n",
        "    df1 = df[df[date_col] < pd.to_datetime(breakpoint_date)]\n",
        "    df2 = df[df[date_col] >= pd.to_datetime(breakpoint_date)]\n",
        "\n",
        "    # Se for fórmula\n",
        "    if formula:\n",
        "        y_full, X_full = patsy.dmatrices(formula, data=df, return_type='dataframe')\n",
        "        y1, X1 = patsy.dmatrices(formula, data=df1, return_type='dataframe')\n",
        "        y2, X2 = patsy.dmatrices(formula, data=df2, return_type='dataframe')\n",
        "    else:\n",
        "        X_full = sm.add_constant(df[X_cols])\n",
        "        X1 = sm.add_constant(df1[X_cols])\n",
        "        X2 = sm.add_constant(df2[X_cols])\n",
        "\n",
        "        y_full = df[y_col]\n",
        "        y1 = df1[y_col]\n",
        "        y2 = df2[y_col]\n",
        "\n",
        "    # Offsets\n",
        "    offset_full = np.log(df[offset_col]) if offset_col else None\n",
        "    offset1 = np.log(df1[offset_col]) if offset_col else None\n",
        "    offset2 = np.log(df2[offset_col]) if offset_col else None\n",
        "\n",
        "    fit_args = {            \n",
        "            \"cov_type\": \"HAC\",  # Use nonrobust covariance for testing\n",
        "            \"cov_kwds\": {'maxlags': 4},}\n",
        "    # Ajuste dos modelos\n",
        "    model_full = sm.GLM(y_full, X_full, family=family, offset=offset_full).fit()#**fit_args)\n",
        "    model1 = sm.GLM(y1, X1, family=family, offset=offset1).fit()#**fit_args)\n",
        "    model2 = sm.GLM(y2, X2, family=family, offset=offset2).fit()#**fit_args)\n",
        "\n",
        "    # Log-Likelihoods\n",
        "    ll_full = model_full.llf\n",
        "    ll1 = model1.llf\n",
        "    ll2 = model2.llf\n",
        "\n",
        "    # Estatística de teste\n",
        "    LR = 2 * ((ll1 + ll2) - ll_full)\n",
        "    df_diff = (model1.df_model + model2.df_model) - model_full.df_model\n",
        "    p_value = 1 - stats.chi2.cdf(LR, df_diff)\n",
        "\n",
        "    return {\n",
        "        'LR': LR,\n",
        "        'p-value': p_value,\n",
        "        'df_diff': df_diff\n",
        "    }\n",
        "\n"
      ]
    },
    {
      "cell_type": "code",
      "execution_count": 1567,
      "metadata": {},
      "outputs": [],
      "source": [
        "def chow_gridsearch_glm_by_date(RegressionDF, \n",
        "                                MODEL_FORMULA, \n",
        "                                candidate_dates, \n",
        "                                GROUP_COL_NAME, \n",
        "                                family, \n",
        "                                offset_col=None, \n",
        "                                date_col='DATE_NAME'):\n",
        "    \"\"\"\n",
        "    Faz Chow Test para vários breakpoints possíveis,\n",
        "    para cada grupo (ex: cidade, região etc.)\n",
        "    \n",
        "    Retorna um DataFrame com todos os resultados.\n",
        "    \"\"\"\n",
        "    \n",
        "    results = []\n",
        "\n",
        "    for variable in RegressionDF[GROUP_COL_NAME].unique():\n",
        "        variable_data = RegressionDF[RegressionDF[GROUP_COL_NAME] == variable].sort_values(by=date_col)\n",
        "        variable_data = variable_data.reset_index(drop=True)\n",
        "\n",
        "        for breakpoint_date in candidate_dates:\n",
        "            chow_result = chow_test_glm_by_date(\n",
        "                variable_data,\n",
        "                formula=MODEL_FORMULA,\n",
        "                breakpoint_date=breakpoint_date,\n",
        "                family=family,\n",
        "                offset_col=offset_col,\n",
        "                date_col=date_col\n",
        "            )\n",
        "            results.append({\n",
        "                'group': variable,\n",
        "                'breakpoint': pd.to_datetime(breakpoint_date),\n",
        "                'LR_stat': chow_result['LR'],\n",
        "                'p_value': chow_result['p-value'],\n",
        "                'df_diff': chow_result['df_diff']\n",
        "            })\n",
        "\n",
        "    # Organiza resultado final\n",
        "    results_df = pd.DataFrame(results)\n",
        "    results_df = results_df.sort_values(['group', 'p_value'])  # ordena por menor p-valor primeiro\n",
        "    \n",
        "    return results_df\n"
      ]
    },
    {
      "cell_type": "code",
      "execution_count": 1568,
      "metadata": {},
      "outputs": [
        {
          "name": "stderr",
          "output_type": "stream",
          "text": [
            "C:\\Users\\Lucas\\AppData\\Local\\Temp\\ipykernel_17688\\1120901869.py:1: FutureWarning:\n",
            "\n",
            "'M' is deprecated and will be removed in a future version, please use 'ME' instead.\n",
            "\n"
          ]
        }
      ],
      "source": [
        "candidate_dates = pd.date_range('2016-01-01', '2024-12-01', freq='M')\n",
        "\n",
        "if DO_CHOW_GRID_SEARCH:\n",
        "    chow_grid_results = chow_gridsearch_glm_by_date(\n",
        "        RegressionDF=RegressionDF,\n",
        "        MODEL_FORMULA=MODEL_FORMULA,\n",
        "        candidate_dates=candidate_dates,\n",
        "        GROUP_COL_NAME=GROUP_COL_NAME,\n",
        "        family=sm.families.NegativeBinomial(),\n",
        "        offset_col='offset',\n",
        "        date_col=DATE_NAME\n",
        "    )\n",
        "    chow_grid_results\n",
        "    chow_grid_results"
      ]
    },
    {
      "cell_type": "code",
      "execution_count": 1569,
      "metadata": {},
      "outputs": [],
      "source": [
        "#plt.boxplot([RegressionDF[RegressionDF['regiao']==r][DEPENDENT_VAR] \n",
        "#            for r in RegressionDF['regiao'].unique()])\n",
        "#plt.yscale('log')  # Log-scale due to huge range\n",
        "#plt.xticks(ticks=range(1,6), labels=RegressionDF['regiao'].unique())\n",
        "#plt.title(\"Mental Health Visits by Region (Log Scale)\")"
      ]
    },
    {
      "cell_type": "markdown",
      "metadata": {},
      "source": [
        "# Exploração Pré intervenção\n"
      ]
    },
    {
      "cell_type": "code",
      "execution_count": 1570,
      "metadata": {},
      "outputs": [
        {
          "name": "stdout",
          "output_type": "stream",
          "text": [
            "Analisando variável: Brasil\n",
            "Analisando variável: centro_oeste\n",
            "Analisando variável: nordeste\n",
            "Analisando variável: norte\n",
            "Analisando variável: sudeste\n",
            "Analisando variável: sul\n"
          ]
        }
      ],
      "source": [
        "def run_pre_intervention_diagnostics(data, date_col, dependent_var, intervention_start_date):\n",
        "    \"\"\"\n",
        "    Realiza testes diagnósticos no período pré-intervenção.\n",
        "\n",
        "    Args:\n",
        "        data (pd.DataFrame): DataFrame contendo os dados.\n",
        "        date_col (str): Nome da coluna de datas.\n",
        "        dependent_var (str): Nome da variável dependente.\n",
        "        intervention_start_date (str): Data de início da intervenção (formato 'YYYY-MM-DD').\n",
        "\n",
        "    Returns:\n",
        "        dict: Resultados dos testes diagnósticos.\n",
        "    \"\"\"\n",
        "    import pandas as pd\n",
        "    import matplotlib.pyplot as plt\n",
        "    from statsmodels.tsa.stattools import adfuller\n",
        "    from statsmodels.graphics.tsaplots import plot_acf, plot_pacf\n",
        "    from statsmodels.stats.diagnostic import het_breuschpagan\n",
        "    from statsmodels.stats.stattools import durbin_watson\n",
        "    from scipy.stats import shapiro, jarque_bera, normaltest\n",
        "    import statsmodels.api as sm\n",
        "\n",
        "    # Filtrar o período pré-intervenção\n",
        "    pre_intervention_df = data[data[date_col] < pd.to_datetime(intervention_start_date)]\n",
        "\n",
        "    # Inicializar resultados\n",
        "    results = {}\n",
        "\n",
        "    # 1. Teste de Estacionariedade (ADF)\n",
        "    y = pre_intervention_df[dependent_var]\n",
        "    adf_result = adfuller(y)\n",
        "    results['ADF Statistic'] = adf_result[0]\n",
        "    results['ADF p-value'] = adf_result[1]\n",
        "    results['ADF Stationary'] = adf_result[1] < 0.05\n",
        "\n",
        "    # 2. Diagnóstico de Autocorrelação (ACF e PACF)\n",
        "    results['ACF'] = \"Plotted\"\n",
        "    results['PACF'] = \"Plotted\"\n",
        "\n",
        "    # 3. Teste de Heterocedasticidade (Breusch-Pagan)\n",
        "    X = sm.add_constant(pre_intervention_df.index)  # Índice como variável independente\n",
        "    model = sm.OLS(y, X).fit()\n",
        "    bp_test = het_breuschpagan(model.resid, X)\n",
        "    results['Breusch-Pagan LM Statistic'] = bp_test[0]\n",
        "    results['Breusch-Pagan p-value'] = bp_test[1]\n",
        "    results['Heteroscedasticity'] = bp_test[1] < 0.05\n",
        "\n",
        "    # 4. Testes de Normalidade dos Resíduos\n",
        "    shapiro_test = shapiro(model.resid)\n",
        "    jb_test = jarque_bera(model.resid)\n",
        "    dagostino_test = normaltest(model.resid)\n",
        "    results['Shapiro-Wilk p-value'] = shapiro_test.pvalue\n",
        "    results['Jarque-Bera p-value'] = jb_test[1]\n",
        "    results['D\\'Agostino p-value'] = dagostino_test.pvalue\n",
        "    results['Normality'] = all(p > 0.05 for p in [shapiro_test.pvalue, jb_test[1], dagostino_test.pvalue])\n",
        "\n",
        "    # 5. Teste de Autocorrelação (Durbin-Watson)\n",
        "    dw_stat = durbin_watson(model.resid)\n",
        "    results['Durbin-Watson Statistic'] = dw_stat\n",
        "    results['No Autocorrelation'] = 1.5 < dw_stat < 2.5\n",
        "\n",
        "    return results\n",
        "\n",
        "\n",
        "# Consolidar os resultados em um DataFrame\n",
        "diagnostics_results = []\n",
        "\n",
        "try:\n",
        "    for variable in RegressionDF[GROUP_COL_NAME].unique():\n",
        "        print(f\"Analisando variável: {variable}\")\n",
        "        variable_df = RegressionDF[RegressionDF[GROUP_COL_NAME] == variable].copy()\n",
        "        diagnostics = run_pre_intervention_diagnostics(\n",
        "            data=variable_df,\n",
        "            date_col=DATE_NAME,\n",
        "            dependent_var=DEPENDENT_VAR,\n",
        "            intervention_start_date=PANDEMIA_START_DATE\n",
        "        )\n",
        "        diagnostics['Variable'] = variable  # Adicionar o nome da variável ao resultado\n",
        "        diagnostics_results.append(diagnostics)\n",
        "    \n",
        "    # Criar um DataFrame com os resultados\n",
        "    diagnostics_df = pd.DataFrame(diagnostics_results)\n",
        "    diagnostics_df.set_index('Variable', inplace=True)\n",
        "    \n",
        "    # Exibir o DataFrame\n",
        "    diagnostics_df\n",
        "except:\n",
        "    print(\"could not do pre-intervention diagnostic\")"
      ]
    },
    {
      "cell_type": "markdown",
      "metadata": {
        "id": "_lLzpByrMa6g"
      },
      "source": [
        "# Media movel "
      ]
    },
    {
      "cell_type": "code",
      "execution_count": 1571,
      "metadata": {
        "colab": {
          "base_uri": "https://localhost:8080/",
          "height": 1000
        },
        "id": "-DDe_bMWNIXb",
        "outputId": "3cca2b7a-d7ce-4e0a-abb7-4b6a9cb36edd"
      },
      "outputs": [],
      "source": [
        "import matplotlib.pyplot as plt\n",
        "\n",
        "\n",
        "\n",
        "moving_avg_pipe = Pipeline([\n",
        "    ('moving_average', MovingAverageTransformer(window=MOVING_WINDOW, prefix='ma', center=True)),\n",
        "    ]\n",
        "    )\n",
        "\n",
        "def plot_moving_average(df, column, ma_column=None, title='Moving Average Plot', date_column='date'):\n",
        "    \"\"\"\n",
        "    Plota a série temporal original junto com a média móvel.\n",
        "\n",
        "    df: DataFrame contendo os dados\n",
        "    column: nome da coluna original\n",
        "    ma_column: nome da coluna da média móvel (se None, assume padrão de 'ma_{window}_{column}')\n",
        "    title: título do gráfico\n",
        "    date_column: nome da coluna de data\n",
        "    \"\"\"\n",
        "    if ma_column is None:\n",
        "        ma_column = [col for col in df.columns if col.startswith('ma_') and col.endswith(column)]\n",
        "        if ma_column:\n",
        "            ma_column = ma_column[0]\n",
        "        else:\n",
        "            raise ValueError(\"Média móvel não encontrada. Verifique o nome da coluna.\")\n",
        "\n",
        "    df[date_column] = pd.to_datetime(df[date_column])  # Ensure datetime format\n",
        "\n",
        "    plt.figure(figsize=(12, 5))\n",
        "    plt.plot(df[date_column], df[column], label='Original', color='lightgray')\n",
        "    plt.plot(df[date_column], df[ma_column], label=f'{ma_column}', color='blue')\n",
        "    plt.title(title)\n",
        "    plt.xlabel('Data')\n",
        "    plt.ylabel(column)\n",
        "    plt.legend()\n",
        "    plt.grid(True)\n",
        "    plt.tight_layout()\n",
        "    plt.show()\n",
        "\n",
        "if PLOT_MEDIA_MOVEL:\n",
        "    for var in RegressionDF[GROUP_COL_NAME].unique():\n",
        "        var_df = RegressionDF[RegressionDF[GROUP_COL_NAME] == var]\n",
        "        #var_df = var_df.sort_values(by = INDEPENDENT_VAR, ascending=False)\n",
        "        #print(var_df)\n",
        "        #var_df = moving_avg_pipe.fit_transform(var_df)\n",
        "\n",
        "\n",
        "        plot_moving_average(var_df, column=DEPENDENT_VAR, ma_column=f'ma_{MOVING_WINDOW}_{DEPENDENT_VAR}', title=f'Moving Average Plot for {var}')\n",
        "\n"
      ]
    },
    {
      "cell_type": "markdown",
      "metadata": {
        "id": "NPO_tituNIXb"
      },
      "source": [
        "# Get Period Date Map and Dummies Period Indexes"
      ]
    },
    {
      "cell_type": "code",
      "execution_count": 1572,
      "metadata": {},
      "outputs": [],
      "source": [
        "PERIOD_DATE_MAP = pipe.named_steps['period_index_adder'].period_date_mapping"
      ]
    },
    {
      "cell_type": "code",
      "execution_count": 1573,
      "metadata": {},
      "outputs": [],
      "source": [
        "def find_idx_from_date(target_date, args, period_date_map=PERIOD_DATE_MAP):\n",
        "    \"\"\"\n",
        "    Finds the 'periodo' (index) corresponding to a given datetime in the PERIOD_DATE_MAP.\n",
        "\n",
        "    Args:\n",
        "        target_date (str or datetime): The target date to search for (e.g., '2020-01-01').\n",
        "        period_date_map (dict): The PERIOD_DATE_MAP containing period-to-date mappings.\n",
        "\n",
        "    Returns:\n",
        "        int: The 'periodo' (index) corresponding to the target date, or None if not found.\n",
        "    \"\"\"\n",
        "    # Ensure the target_date is a datetime object and normalize to quarter-end\n",
        "    if isinstance(target_date, str):\n",
        "        target_date = pd.to_datetime(target_date)\n",
        "    if args['FrequencyDateGroup'] == 'Q' or args['FrequencyDateGroup'] == 'QE':\n",
        "        target_date = target_date + pd.offsets.QuarterEnd(0)\n",
        "\n",
        "    # Iterate through the PERIOD_DATE_MAP to find the matching period\n",
        "    for date, period in period_date_map.items():\n",
        "        if isinstance(date, str):\n",
        "            date = pd.to_datetime(date)\n",
        "        if args['FrequencyDateGroup'] == 'Q' or args['FrequencyDateGroup'] == 'QE':\n",
        "            date = date + pd.offsets.QuarterEnd(0) # Normalize to quarter-end\n",
        "        if date == target_date:\n",
        "            return period - 1\n",
        "\n",
        "    return None\n",
        "\n",
        "\n",
        "def find_date_from_idx(target_idx, args, period_date_map=PERIOD_DATE_MAP):\n",
        "    \"\"\"\n",
        "    Finds the date corresponding to a given 'periodo' (index) in the PERIOD_DATE_MAP.\n",
        "\n",
        "    Args:\n",
        "        target_idx (int): The target index to search for (e.g., 1, 2, 3).\n",
        "        period_date_map (dict): The PERIOD_DATE_MAP containing period-to-date mappings.\n",
        "\n",
        "    Returns:\n",
        "        datetime or None: The date corresponding to the target index, or None if not found.\n",
        "    \"\"\"\n",
        "    # Iterate through the PERIOD_DATE_MAP to find the matching index\n",
        "    for date, period in period_date_map.items():\n",
        "        if period == target_idx:\n",
        "            date = pd.to_datetime(date) if isinstance(date, str) else date\n",
        "            date = date + pd.offsets.QuarterEnd(0) if args['FrequencyDateGroup'] == 'Q' or args['FrequencyDateGroup'] == 'QE' else date\n",
        "            return date\n",
        "    return None"
      ]
    },
    {
      "cell_type": "code",
      "execution_count": 1574,
      "metadata": {},
      "outputs": [
        {
          "name": "stdout",
          "output_type": "stream",
          "text": [
            "Pandemia_Step {'start_date': '2020-04-01', 'end_date': '2022-03-01', 'exclude_ranges': []}\n",
            "Pandemia_Trend {'start_date': '2020-04-01', 'end_date': '2022-03-01', 'exclude_ranges': [], 'add_time_trend': True, 'keep_period_index': False}\n",
            "PosPandemia_Step {'start_date': '2022-04-01', 'end_date': '2024-12-01', 'exclude_ranges': [], 'plot': False, 'step': True}\n",
            "PosPandemia_Trend {'start_date': '2022-04-01', 'end_date': '2024-12-01', 'exclude_ranges': [], 'plot': True, 'add_time_trend': True, 'keep_period_index': False, 'step': False}\n",
            "ChoqueInicial_Pulse {'start_date': '2020-04-01', 'end_date': '2020-06-01'}\n"
          ]
        },
        {
          "data": {
            "text/plain": [
              "{'Pandemia_Step': {'start_index': 27, 'end_index': 50},\n",
              " 'Pandemia_Trend': {'start_index': 27, 'end_index': 50},\n",
              " 'PosPandemia_Step': {'start_index': 51, 'end_index': None},\n",
              " 'PosPandemia_Trend': {'start_index': 51, 'end_index': None},\n",
              " 'ChoqueInicial_Pulse': {'start_index': 27, 'end_index': 29}}"
            ]
          },
          "execution_count": 1574,
          "metadata": {},
          "output_type": "execute_result"
        }
      ],
      "source": [
        "DummyIndexes = {}\n",
        "\n",
        "# Iterate over DUMMY_ARGS to calculate and store indexes\n",
        "for dummy_name, config in DUMMY_ARGS.items():\n",
        "    start_date = config.get(\"start_date\")\n",
        "    end_date = config.get(\"end_date\")\n",
        "\n",
        "    print(dummy_name, config)\n",
        "    # Calculate indexes using find_idx_from_date\n",
        "    start_idx = find_idx_from_date(start_date, PREPROCESSOR_ARGS, PERIOD_DATE_MAP) if start_date else None\n",
        "    end_idx = find_idx_from_date(end_date, PREPROCESSOR_ARGS, PERIOD_DATE_MAP) if end_date else None\n",
        "\n",
        "    # Store the indexes in the table\n",
        "    DummyIndexes[dummy_name] = {\n",
        "        \"start_index\": start_idx,\n",
        "        \"end_index\": end_idx\n",
        "    }\n",
        "DummyIndexes"
      ]
    },
    {
      "cell_type": "markdown",
      "metadata": {
        "id": "r5VoKUSkNIXc"
      },
      "source": [
        "# OLD TRASH Exploration\n"
      ]
    },
    {
      "cell_type": "code",
      "execution_count": 1575,
      "metadata": {
        "colab": {
          "base_uri": "https://localhost:8080/"
        },
        "id": "FrrmqovhNIXc",
        "outputId": "cf6e41a5-4664-4203-b687-0b34fc159bc6"
      },
      "outputs": [],
      "source": [
        "from statsmodels.api import OLS\n",
        "from statsmodels.tools.tools import add_constant\n",
        "import pandas as pd\n",
        "from scipy.stats import f\n",
        "main_regrdf = RegressionDF.copy()\n",
        "def chow_test(data, split_point, dependent_var, independent_vars):\n",
        "    \"\"\"\n",
        "    Realiza o teste de Chow para verificar mudanças estruturais em um modelo de regressão.\n",
        "\n",
        "    Args:\n",
        "        data (pd.DataFrame): DataFrame contendo os dados.\n",
        "        split_point (int): Ponto de divisão para o teste de Chow.\n",
        "        dependent_var (str): Nome da variável dependente.\n",
        "        independent_vars (list): Lista de nomes das variáveis independentes.\n",
        "\n",
        "    Returns:\n",
        "        dict: Resultados do teste de Chow contendo os valores F e p.\n",
        "    \"\"\"\n",
        "    # Dividir os dados em dois subconjuntos\n",
        "    data1 = data[data['periodo'] <= split_point]\n",
        "    data2 = data[data['periodo'] > split_point]\n",
        "\n",
        "    # Ajustar os modelos para cada subconjunto\n",
        "    X1 = add_constant(data1[independent_vars])\n",
        "    y1 = data1[dependent_var]\n",
        "    model1 = OLS(y1, X1).fit()\n",
        "\n",
        "    X2 = add_constant(data2[independent_vars])\n",
        "    y2 = data2[dependent_var]\n",
        "    model2 = OLS(y2, X2).fit()\n",
        "\n",
        "    # Ajustar o modelo para o conjunto completo\n",
        "    X_full = add_constant(data[independent_vars])\n",
        "    y_full = data[dependent_var]\n",
        "    model_full = OLS(y_full, X_full).fit()\n",
        "\n",
        "    # Calcular os graus de liberdade\n",
        "    k = len(independent_vars) + 1  # Número de parâmetros (incluindo o intercepto)\n",
        "    n1 = len(data1)\n",
        "    n2 = len(data2)\n",
        "    n = n1 + n2\n",
        "\n",
        "    # Calcular a soma dos quadrados dos resíduos\n",
        "    RSS1 = model1.ssr\n",
        "    RSS2 = model2.ssr\n",
        "    RSS_full = model_full.ssr\n",
        "\n",
        "    # Calcular o valor F\n",
        "    F = ((RSS_full - (RSS1 + RSS2)) / k) / ((RSS1 + RSS2) / (n - 2 * k))\n",
        "\n",
        "    # Calcular o p-valor\n",
        "    p_value = 1 - f.cdf(F, k, n - 2 * k)\n",
        "\n",
        "    return {\"F-statistic\": F, \"p-value\": p_value}\n",
        "\n",
        "\n",
        "if False:\n",
        "    chow_results = {}\n",
        "    split_point = find_idx_from_date(POS_PANDEMIA_START_DATE, PREPROCESSOR_ARGS)  # Exemplo: ponto de divisão para o teste de Chow\n",
        "    dependent_var = DEPENDENT_VAR\n",
        "    independent_vars = [INDEPENDENT_VAR] #+ [key for key in DUMMY_ARGS.keys()]\n",
        "    for variable in main_regrdf[GROUP_COL_NAME].unique():\n",
        "        variable_data = main_regrdf[main_regrdf[GROUP_COL_NAME] == variable]\n",
        "        result = chow_test(variable_data, split_point, dependent_var, independent_vars)\n",
        "        chow_results[variable] = result\n",
        "    # Converter os resultados em um DataFrame para visualização\n",
        "    chow_results_df = pd.DataFrame(chow_results).T\n",
        "    chow_results_df.columns = [\"F-statistic\", \"p-value\"]\n",
        "    chow_results_df['p-value'] = chow_results_df['p-value'].round(8)\n",
        "    print(chow_results_df)"
      ]
    },
    {
      "cell_type": "code",
      "execution_count": 1576,
      "metadata": {
        "colab": {
          "base_uri": "https://localhost:8080/"
        },
        "id": "lyS4l0t8NIXc",
        "outputId": "87c30dda-28b3-48d9-8f50-7f23fa6ec0f4"
      },
      "outputs": [
        {
          "name": "stdout",
          "output_type": "stream",
          "text": [
            "[ 1.         38.18618648 72.        ]\n",
            "2018-01-01 00:00:00\n",
            "2021-02-01 00:00:00\n",
            "2023-12-01 00:00:00\n"
          ]
        }
      ],
      "source": [
        "### TODO: make the knots per variable\n",
        "### TODO: remove the bumps/step_dummies before testing\n",
        "\n",
        "pwmodel = pwlf.PiecewiseLinFit(main_regrdf[INDEPENDENT_VAR].values,main_regrdf[DEPENDENT_VAR].values)\n",
        "knots = pwmodel.fit(2)\n",
        "print(knots)\n",
        "for knot in knots:\n",
        "    print(find_date_from_idx(np.round(knot), PREPROCESSOR_ARGS, PERIOD_DATE_MAP))"
      ]
    },
    {
      "cell_type": "code",
      "execution_count": 1577,
      "metadata": {
        "colab": {
          "base_uri": "https://localhost:8080/",
          "height": 651
        },
        "id": "WJ_UKYslNIXc",
        "outputId": "ad4e0f72-aee3-43a3-e425-f46be70f892b"
      },
      "outputs": [
        {
          "name": "stdout",
          "output_type": "stream",
          "text": [
            "              Heteroscedasticity (Breusch-Pagan)  Normality (Shapiro-Wilk)  \\\n",
            "Brasil                                  0.020145                  0.397780   \n",
            "centro_oeste                            0.014998                  0.511665   \n",
            "nordeste                                0.014034                  0.018798   \n",
            "norte                                   0.039809                  0.773788   \n",
            "sudeste                                 0.093844                  0.179578   \n",
            "sul                                     0.037847                  0.709604   \n",
            "\n",
            "              Normality (Jarque-Bera)  Normality (D'Agostino)  \\\n",
            "Brasil                       0.312936                0.229568   \n",
            "centro_oeste                 0.741093                0.570918   \n",
            "nordeste                     0.051004                0.037819   \n",
            "norte                        0.696951                0.692887   \n",
            "sudeste                      0.071430                0.049551   \n",
            "sul                          0.632305                0.568539   \n",
            "\n",
            "              Autocorrelation (Durbin-Watson)  Autocorrelation (Ljung-Box)  \n",
            "Brasil                               0.894554                 9.031526e-14  \n",
            "centro_oeste                         1.018203                 2.474663e-08  \n",
            "nordeste                             0.896242                 4.664389e-19  \n",
            "norte                                0.778681                 9.584767e-18  \n",
            "sudeste                              0.941315                 9.685423e-10  \n",
            "sul                                  0.812901                 2.656585e-13  \n"
          ]
        }
      ],
      "source": [
        "import pandas as pd\n",
        "import numpy as np\n",
        "from statsmodels.stats.diagnostic import het_breuschpagan, acorr_ljungbox\n",
        "from statsmodels.stats.stattools import durbin_watson\n",
        "from scipy.stats import shapiro, normaltest, jarque_bera\n",
        "import statsmodels.api as sm\n",
        "\n",
        "def analyze_time_series(df: pd.DataFrame, variable_col: str, date_col: str, value_col: str):\n",
        "    \"\"\"\n",
        "    Analyzes a melted DataFrame for heteroscedasticity, distribution, and autocorrelation.\n",
        "\n",
        "    Parameters:\n",
        "        df (pd.DataFrame): Melted DataFrame with columns for variable, date, and value.\n",
        "        variable_col (str): Column name for the variable identifier.\n",
        "        date_col (str): Column name for the date.\n",
        "        value_col (str): Column name for the value.\n",
        "\n",
        "    Returns:\n",
        "        dict: A dictionary with analysis results for each variable.\n",
        "    \"\"\"\n",
        "    results = {}\n",
        "\n",
        "    for variable in df[variable_col].unique():\n",
        "        # Filter data for the current variable\n",
        "        variable_data = df[df[variable_col] == variable].sort_values(by=date_col)\n",
        "        y = variable_data[value_col].values\n",
        "        x = np.arange(len(y))  # Time index as independent variable\n",
        "\n",
        "        # Add constant for regression\n",
        "        X = sm.add_constant(x)\n",
        "\n",
        "        # Fit OLS model\n",
        "        model = sm.OLS(y, X).fit()\n",
        "\n",
        "        # Heteroscedasticity tests\n",
        "        bp_test = het_breuschpagan(model.resid, X)\n",
        "        bp_pvalue = bp_test[1]\n",
        "\n",
        "        # Normality tests\n",
        "        shapiro_test = shapiro(model.resid)\n",
        "        shapiro_pvalue = shapiro_test.pvalue\n",
        "\n",
        "        jb_test = jarque_bera(model.resid)\n",
        "        jb_pvalue = jb_test[1]\n",
        "\n",
        "        dagostino_test = normaltest(model.resid)\n",
        "        dagostino_pvalue = dagostino_test.pvalue\n",
        "\n",
        "        # Autocorrelation tests\n",
        "        dw_stat = durbin_watson(model.resid)\n",
        "        ljungbox_test = acorr_ljungbox(model.resid, lags=[10], return_df=True)\n",
        "        ljungbox_pvalue = ljungbox_test['lb_pvalue'].iloc[0]\n",
        "\n",
        "        # Store results\n",
        "        results[variable] = {\n",
        "            \"Heteroscedasticity (Breusch-Pagan)\": bp_pvalue,\n",
        "            \"Normality (Shapiro-Wilk)\": shapiro_pvalue,\n",
        "            \"Normality (Jarque-Bera)\": jb_pvalue,\n",
        "            \"Normality (D'Agostino)\": dagostino_pvalue,\n",
        "            \"Autocorrelation (Durbin-Watson)\": dw_stat,\n",
        "            \"Autocorrelation (Ljung-Box)\": ljungbox_pvalue,\n",
        "        }\n",
        "\n",
        "    return results\n",
        "\n",
        "explorationresults = analyze_time_series(main_regrdf, GROUP_COL_NAME, DATE_NAME, DEPENDENT_VAR)\n",
        "explorationresultsDF = pd.DataFrame(explorationresults).T\n",
        "print(explorationresultsDF)"
      ]
    },
    {
      "cell_type": "markdown",
      "metadata": {
        "id": "K8HZg-VlNIXd"
      },
      "source": [
        "# Define Exporter"
      ]
    },
    {
      "cell_type": "code",
      "execution_count": 1578,
      "metadata": {
        "id": "BF1tmE8pNIXd"
      },
      "outputs": [],
      "source": [
        "def export_results(results, output_path, processor_args, preprocessor_args, output_gsheet = None):\n",
        "    \"\"\"\n",
        "    Exports the regression results and metadata to an Excel file.\n",
        "\n",
        "    Args:\n",
        "        results (dict): Dictionary containing regression results.\n",
        "        output_path (str): Path to the output Excel file.\n",
        "        processor_args (dict): Dictionary containing processor arguments.\n",
        "        preprocessor_args (dict): Dictionary containing preprocessor arguments.\n",
        "    \"\"\"\n",
        "    def extract_durbin_watson_from_summary(result):\n",
        "        summary_text = result.summary().as_text()\n",
        "        for line in summary_text.split('\\n'):\n",
        "            if \"Durbin-Watson\" in line:\n",
        "                return float(line.split()[-1])  # Extract the last value in the line\n",
        "        return None  # Return None if not found\n",
        "\n",
        "\n",
        "    def try_create_worksheet(output_gsheet, title: str) -> None:\n",
        "        if output_gsheet:\n",
        "            try:\n",
        "                output_gsheet.worksheet(title)\n",
        "            except gspread.exceptions.WorksheetNotFound:\n",
        "                output_gsheet.add_worksheet(title=title, rows=\"100\", cols=\"20\")\n",
        "\n",
        "\n",
        "    stats_data = []\n",
        "    coefficients_data = []\n",
        "\n",
        "    for variable, result in results.items():\n",
        "        # Extract coefficients\n",
        "        coefficients = result.params\n",
        "        coef_row = {\"Variable\": variable}\n",
        "        for coef_name, coef_value in coefficients.items():\n",
        "            coef_row[f\"{coef_name}__Value\"] = round(coef_value, 7)\n",
        "            coef_row[f\"{coef_name}__Value_%_intercept\"] = coef_value/result.params['Intercept']*100\n",
        "            coef_row[f\"{coef_name}__P-Value\"] = round(result.pvalues.get(coef_name, np.nan), 7)\n",
        "            coef_row[f\"{coef_name}__Std Err\"] = round(result.bse.get(coef_name, np.nan), 7)\n",
        "            coef_row[f\"{coef_name}__Significant\"] = result.pvalues.get(coef_name, np.nan) < 0.05  # At 5% significance\n",
        "        coefficients_data.append(coef_row)\n",
        "\n",
        "        # Extract other statistics\n",
        "        stats_data.append({\n",
        "            \"Variable\": variable,\n",
        "            \"R-Squared\": round(result.rsquared, 7),\n",
        "            \"Adjusted R-Squared\": round(result.rsquared_adj, 7),\n",
        "            \"Durbin-Watson\": round(extract_durbin_watson_from_summary(result), 7),\n",
        "            \"AIC\": round(result.aic, 7),\n",
        "            \"BIC\": round(result.bic, 7),\n",
        "            \"Number of Observations\": result.nobs,\n",
        "            \"F-Value\": round(result.fvalue, 7) if result.fvalue is not None else np.nan,\n",
        "            \"F P-Value\": round(result.f_pvalue, 7) if result.f_pvalue is not None else np.nan,\n",
        "            \"Log-Likelihood\": round(result.llf, 7),\n",
        "            \"Condition Number\": round(result.condition_number, 7) if result.condition_number is not None else np.nan\n",
        "        })\n",
        "\n",
        "    # Convert to DataFrames\n",
        "    coefficients_df = pd.DataFrame(coefficients_data).set_index(\"Variable\")\n",
        "    stats_df = pd.DataFrame(stats_data).set_index(\"Variable\")\n",
        "\n",
        "    # Prepare metadata\n",
        "    metadata = {\n",
        "        \"Processor Args\": [str(processor_args)],\n",
        "        \"Preprocessor Args\": [str(preprocessor_args)]\n",
        "    }\n",
        "    metadata_df = pd.DataFrame(metadata)\n",
        "\n",
        "    # Write to gsheet\n",
        "    if output_gsheet is not None:\n",
        "        for title, clean_df, include_index in [\n",
        "            (\"Coefficients\", coefficients_df, True),\n",
        "            (\"Statistics\", stats_df, True),\n",
        "            (\"Metadata\", metadata_df, False)\n",
        "        ]:\n",
        "            try_create_worksheet(title=title, output_gsheet=output_gsheet)\n",
        "            ws = output_gsheet.worksheet(title)\n",
        "            ws.clear()\n",
        "            set_with_dataframe(ws, clean_df, include_index=include_index)\n",
        "    # Write to Excel\n",
        "    else:\n",
        "       file_exists = os.path.exists(output_path)\n",
        "\n",
        "               # Attempt to open file and catch PermissionError if the file is open elsewhere\n",
        "       if file_exists:\n",
        "           while True:\n",
        "               try:\n",
        "                   with pd.ExcelWriter(output_path) as writer:\n",
        "                       # Write coefficients to one sheet\n",
        "                       coefficients_df.to_excel(writer, sheet_name=\"Coefficients\")\n",
        "\n",
        "                       # Write other stats to another sheet\n",
        "                       stats_df.to_excel(writer, sheet_name=\"Statistics\")\n",
        "\n",
        "                       # Write metadata to another sheet\n",
        "                       metadata_df.to_excel(writer, sheet_name=\"Metadata\", index=False)\n",
        "                   # Load the workbook to apply formatting\n",
        "                   workbook = load_workbook(output_path)\n",
        "                   if \"Residuals\" not in workbook.sheetnames:\n",
        "                       workbook.create_sheet(\"Residuals\")\n",
        "                       residuals_sheet = workbook[\"Residuals\"]\n",
        "\n",
        "                   # Plot residuals for each variable and add them to the Residuals sheet\n",
        "                   for idx, (variable, result) in enumerate(results.items(), start=1):\n",
        "                       # Create a plot of residuals\n",
        "                       plt.figure(figsize=(6, 4))\n",
        "                       plt.scatter(range(len(result.resid)), result.resid, alpha=0.7)\n",
        "                       plt.axhline(0, color=\"red\", linestyle=\"--\", linewidth=1)\n",
        "                       plt.title(f\"Residuals for {variable}\")\n",
        "                       plt.xlabel(\"Observation\")\n",
        "                       plt.ylabel(\"Residuals\")\n",
        "                       plt.tight_layout()\n",
        "\n",
        "                       # Save the plot to a BytesIO object\n",
        "                       img_data = BytesIO()\n",
        "                       plt.savefig(img_data, format=\"png\")\n",
        "                       plt.close()\n",
        "                       img_data.seek(0)\n",
        "\n",
        "                       # Add the image to the Excel sheet\n",
        "                       img = Image(img_data)\n",
        "                       img.anchor = f\"A{idx * 20}\"  # Adjust the position of the image\n",
        "                       residuals_sheet.add_image(img)\n",
        "\n",
        "                   for sheet_name in [\"Coefficients\", \"Statistics\", \"Metadata\"]:\n",
        "                       if sheet_name in workbook.sheetnames:\n",
        "                           sheet = workbook[sheet_name]\n",
        "\n",
        "                           # Enable text wrapping and adjust row heights\n",
        "                           for row in sheet.iter_rows():\n",
        "                               for cell in row:\n",
        "                                   cell.alignment = Alignment(wrap_text=True)  # Enable text wrapping\n",
        "                               # Adjust row height\n",
        "                               sheet.row_dimensions[row[0].row].height = 25  # Set row height to 25 (adjust as needed)\n",
        "\n",
        "                   # Save the formatted workbook\n",
        "                   workbook.save(output_path)\n",
        "                   break  # Exit the loop if writing succeeds\n",
        "               except PermissionError:\n",
        "                   #logger.warning(f\"File '{output_path}' is currently open. Please close the file and press Enter to try again.\")\n",
        "                   input(\"Press Enter after closing the file...\")\n",
        "                   time.sleep(5)  # Optional: wait before retrying\n"
      ]
    },
    {
      "cell_type": "markdown",
      "metadata": {},
      "source": [
        "# Def LRT test"
      ]
    },
    {
      "cell_type": "code",
      "execution_count": 1579,
      "metadata": {},
      "outputs": [],
      "source": [
        "def run_lrt_nbglm(\n",
        "    df, \n",
        "    full_predictors, \n",
        "    reduced_predictors,\n",
        "    outcome_var= DEPENDENT_VAR, \n",
        "    offset_var = RAW_TOTAL_ATD_VAR, \n",
        "    fit_args = {},\n",
        "\n",
        "):\n",
        "    \"\"\"\n",
        "    Perform Likelihood Ratio Test between full and reduced Negative Binomial GLMs with offset.\n",
        "\n",
        "    Parameters:\n",
        "    - df (pd.DataFrame): Input dataframe.\n",
        "    - outcome_var (str): Column name of the outcome variable (counts).\n",
        "    - offset_var (str): Column name used to compute offset (e.g., total visits).\n",
        "    - full_predictors (list of str): Predictor column names for full model.\n",
        "    - reduced_predictors (list of str): Predictor column names for reduced model.\n",
        "\n",
        "    Returns:\n",
        "    - dict with keys: 'lrt_stat', 'df_diff', 'p_value', 'LL_full', 'LL_reduced'\n",
        "    \"\"\"\n",
        "\n",
        "    # Outcome and offset\n",
        "    y = df[outcome_var]\n",
        "    offset = np.log(df[offset_var] / 1000)\n",
        "\n",
        "    # Full model\n",
        "    X_full = sm.add_constant(df[full_predictors])\n",
        "    model_full = sm.GLM(y, X_full, family=sm.families.NegativeBinomial(alpha = 1.0), offset=offset)\n",
        "    result_full = model_full.fit(**fit_args)\n",
        "\n",
        "    # Reduced model\n",
        "    X_reduced = sm.add_constant(df[reduced_predictors])\n",
        "    model_reduced = sm.GLM(y, X_reduced, family=sm.families.NegativeBinomial(alpha = 1.0), offset=offset)\n",
        "    result_reduced = model_reduced.fit(**fit_args)\n",
        "\n",
        "    # Likelihood ratio test\n",
        "    ################################### é isso q importa, fazer uma formula q compara modelos\n",
        "    LL_full = result_full.llf\n",
        "    LL_reduced = result_reduced.llf\n",
        "    df_diff = result_full.df_model - result_reduced.df_model\n",
        "    LRT_stat = 2 * (LL_full - LL_reduced)\n",
        "    p_value = chi2.sf(LRT_stat, df_diff)\n",
        "\n",
        "    return {\n",
        "        'lrt_stat': LRT_stat,\n",
        "        'df_diff': df_diff,\n",
        "        'p_value': p_value,\n",
        "        'LL_full': LL_full,\n",
        "        'LL_reduced': LL_reduced\n",
        "    }"
      ]
    },
    {
      "cell_type": "markdown",
      "metadata": {},
      "source": [
        "# Define Group Iterator"
      ]
    },
    {
      "cell_type": "code",
      "execution_count": 1580,
      "metadata": {},
      "outputs": [],
      "source": [
        "def find_best_Rho(processor_class, variable_data, variable_processor_args, fit_args):\n",
        "            best_rho = 1.0\n",
        "            best_criterion_value = np.inf\n",
        "            test_variable_processor_args = copy.deepcopy(variable_processor_args)\n",
        "            test_variable_processor_args['rho'] = None  # Set rho to None for testing\n",
        "            result = None\n",
        "\n",
        "            for rho in np.arange(\n",
        "                FIND_BEST_RHO_ARGS['start'],\n",
        "                FIND_BEST_RHO_ARGS['stop'],\n",
        "                FIND_BEST_RHO_ARGS['step']\n",
        "            ):\n",
        "                test_variable_processor_args['rho'] = rho\n",
        "                test_processor = processor_class(data=variable_data, **test_variable_processor_args)\n",
        "                if hasattr(test_processor, \"iterative_fit\"):\n",
        "                    test_results = test_processor.iterative_fit(**fit_args)\n",
        "                else:\n",
        "                    test_results = test_processor.fit(**fit_args)\n",
        "                test_results = test_processor.iterative_fit(**fit_args)\n",
        "                criterion_value = getattr(test_results, FIND_BEST_RHO_ARGS['criterio'])\n",
        "                if criterion_value < best_criterion_value:\n",
        "                    best_criterion_value = criterion_value\n",
        "                    best_rho = rho\n",
        "                    result = test_results\n",
        "            return result\n",
        "            "
      ]
    },
    {
      "cell_type": "code",
      "execution_count": 1581,
      "metadata": {},
      "outputs": [],
      "source": [
        "def process_groups_with_processor(dataframe, group_col, date_col, processor_class, processor_args):\n",
        "    \"\"\"\n",
        "    Processes variables in a DataFrame using a specified processor class and arguments.\n",
        "\n",
        "    Args:\n",
        "        dataframe (pd.DataFrame): The input DataFrame containing the data.\n",
        "        group_col (str): The column name used to group the data.\n",
        "        date_col (str): The column name containing the date information.\n",
        "        processor_class (class): The processor class to be used (e.g., GEEProcessor).\n",
        "        processor_args (dict): Arguments to be passed to the processor class.\n",
        "        max_iter (int): Maximum number of iterations for the processor's fit method.\n",
        "\n",
        "    Returns:\n",
        "        dict: A dictionary containing the results for each variable.\n",
        "    \"\"\"\n",
        "\n",
        "\n",
        "    results = {}\n",
        "    for variable in dataframe[group_col].unique():\n",
        "        variable_data = dataframe[dataframe[group_col] == variable].sort_values(by=date_col)\n",
        "        variable_data = variable_data.reset_index(drop=True)\n",
        "        variable_processor_args = copy.deepcopy(processor_args)\n",
        "        fit_args = {}\n",
        "        if 'fit_args' in variable_processor_args:\n",
        "            fit_args = variable_processor_args['fit_args']\n",
        "            del variable_processor_args['fit_args']\n",
        "\n",
        "        #print(variable_processor_args)\n",
        "        quasi_likelihood = None\n",
        "        if 'quasi_likelihood' in variable_processor_args:\n",
        "            quasi_likelihood = variable_processor_args['quasi_likelihood']\n",
        "            del variable_processor_args['quasi_likelihood']\n",
        "\n",
        "        if 'groups' in variable_processor_args:\n",
        "            if variable_processor_args['groups'] == 'define per variable':\n",
        "                variable_processor_args['groups'] = np.arange(len(variable_data))\n",
        "            elif variable_processor_args['groups'] == 'dates':\n",
        "                variable_processor_args['groups'] = variable_data[DATE_NAME].dt.year.values\n",
        "\n",
        "        if \"time\" in variable_processor_args:\n",
        "            variable_processor_args['time'] = variable_data[INDEPENDENT_VAR]\n",
        "\n",
        "        if 'offset' in variable_processor_args and variable_processor_args['offset'] == 'define per variable':\n",
        "            variable_processor_args['offset'] = variable_data['offset']\n",
        "\n",
        "        if 'rho' in variable_processor_args and variable_processor_args['rho'] == 'define per variable':\n",
        "            result = find_best_Rho(processor_class, variable_data, variable_processor_args, fit_args=fit_args)\n",
        "        else:  \n",
        "            # Instantiate the processor with the provided arguments\n",
        "            processor = processor_class(data=variable_data, **variable_processor_args)\n",
        "            if hasattr(processor, \"iterative_fit\"):\n",
        "                result = processor.fit(**fit_args)\n",
        "            else:\n",
        "                result = processor.fit(**fit_args)\n",
        "            \n",
        "        if quasi_likelihood:\n",
        "            phi = result.pearson_chi2 / result.df_resid\n",
        "\n",
        "            var_weights = np.full_like(variable_data[DEPENDENT_VAR], fill_value=1/phi) \n",
        "            processor_qlh = processor_class(data=variable_data, **variable_processor_args, var_weights = var_weights)\n",
        "            result_qlh = processor_qlh.fit(**fit_args)\n",
        "            result = result_qlh\n",
        "            result.scale = phi\n",
        "        \n",
        "        # Store the results\n",
        "        results[variable] = result\n",
        "        \n",
        "        #full_predictors = ['periodo', 'Pandemia_Step', 'Pandemia_Trend', 'PosPandemia_Step', 'PosPandemia_Trend', 'cos1', 'sin1' ]\n",
        "        ## Reduced model excludes pandemic effects\n",
        "        #reduced_predictors = ['periodo', 'Pandemia_Step', 'Pandemia_Trend', 'PosPandemia_Step', 'PosPandemia_Trend']\n",
        "        #lrt_test = run_lrt_nbglm(\n",
        "        #    variable_data, \n",
        "        #    full_predictors, \n",
        "        #    reduced_predictors,\n",
        "        #    outcome_var= DEPENDENT_VAR, \n",
        "        #    offset_var = RAW_TOTAL_ATD_VAR, \n",
        "        #    fit_args = fit_args,\n",
        "#\n",
        "        #)\n",
        "        #lrt_df = pd.DataFrame([lrt_test])\n",
        "        #lrt_df.columns = ['LRT statistic', 'p-value', 'df difference']\n",
        "\n",
        "\n",
        "        # Print the summary\n",
        "        print(f\"Results for {variable}:\")\n",
        "        print(result.summary())\n",
        "        print(f\"Dispersion α: {result.scale:.4f}\") \n",
        "\n",
        "\n",
        "\n",
        "        # Display the LRT results\n",
        "        #print(\"======================== LRT TEST ========================\")\n",
        "        #print(lrt_test)\n",
        "        #print(pd.DataFrame.from_dict(lrt_test))\n",
        "        #print(lrt_df.to_string(index=False))\n",
        "    \n",
        "    return results"
      ]
    },
    {
      "cell_type": "markdown",
      "metadata": {
        "id": "053Sj2c1NIXe"
      },
      "source": [
        "# EXEC --- Instantiate Processor and Process/Export"
      ]
    },
    {
      "cell_type": "code",
      "execution_count": 1582,
      "metadata": {},
      "outputs": [
        {
          "name": "stdout",
          "output_type": "stream",
          "text": [
            "Results for Brasil:\n",
            "                  Generalized Linear Model Regression Results                   \n",
            "================================================================================\n",
            "Dep. Variable:     mental_health_visits   No. Observations:                   72\n",
            "Model:                              GLM   Df Residuals:                       63\n",
            "Model Family:          NegativeBinomial   Df Model:                            8\n",
            "Link Function:                      Log   Scale:                          1.0000\n",
            "Method:                            IRLS   Log-Likelihood:                -1017.3\n",
            "Date:                  ter, 29 abr 2025   Deviance:                      0.16531\n",
            "Time:                          22:44:43   Pearson chi2:                    0.158\n",
            "No. Iterations:                       4   Pseudo R-squ. (CS):            0.03110\n",
            "Covariance Type:                    HAC                                         \n",
            "=======================================================================================\n",
            "                          coef    std err          z      P>|z|      [0.025      0.975]\n",
            "---------------------------------------------------------------------------------------\n",
            "Intercept               2.7964      0.017    161.498      0.000       2.762       2.830\n",
            "periodo                 0.0116      0.001      9.662      0.000       0.009       0.014\n",
            "Pandemia_Step           0.1168      0.023      5.021      0.000       0.071       0.162\n",
            "Pandemia_Trend         -0.0120      0.002     -7.309      0.000      -0.015      -0.009\n",
            "PosPandemia_Step       -0.1856      0.047     -3.932      0.000      -0.278      -0.093\n",
            "PosPandemia_Trend       0.0014      0.002      0.934      0.350      -0.002       0.004\n",
            "ChoqueInicial_Pulse     0.1168      0.012      9.532      0.000       0.093       0.141\n",
            "cos1                   -0.0058      0.003     -2.159      0.031      -0.011      -0.001\n",
            "sin1                   -0.0123      0.012     -1.027      0.304      -0.036       0.011\n",
            "=======================================================================================\n",
            "Dispersion α: 1.0000\n",
            "Results for centro_oeste:\n",
            "                  Generalized Linear Model Regression Results                   \n",
            "================================================================================\n",
            "Dep. Variable:     mental_health_visits   No. Observations:                   72\n",
            "Model:                              GLM   Df Residuals:                       63\n",
            "Model Family:          NegativeBinomial   Df Model:                            8\n",
            "Link Function:                      Log   Scale:                          1.0000\n",
            "Method:                            IRLS   Log-Likelihood:                -832.83\n",
            "Date:                  ter, 29 abr 2025   Deviance:                      0.36159\n",
            "Time:                          22:44:43   Pearson chi2:                    0.338\n",
            "No. Iterations:                       4   Pseudo R-squ. (CS):            0.01353\n",
            "Covariance Type:                    HAC                                         \n",
            "=======================================================================================\n",
            "                          coef    std err          z      P>|z|      [0.025      0.975]\n",
            "---------------------------------------------------------------------------------------\n",
            "Intercept               2.9842      0.019    153.120      0.000       2.946       3.022\n",
            "periodo                 0.0081      0.001      6.405      0.000       0.006       0.011\n",
            "Pandemia_Step           0.0256      0.037      0.686      0.492      -0.047       0.099\n",
            "Pandemia_Trend         -0.0079      0.002     -3.838      0.000      -0.012      -0.004\n",
            "PosPandemia_Step       -0.1458      0.049     -2.959      0.003      -0.242      -0.049\n",
            "PosPandemia_Trend       0.0004      0.002      0.246      0.806      -0.003       0.004\n",
            "ChoqueInicial_Pulse     0.1381      0.026      5.382      0.000       0.088       0.188\n",
            "cos1                   -0.0074      0.012     -0.631      0.528      -0.030       0.016\n",
            "sin1                    0.0192      0.011      1.697      0.090      -0.003       0.041\n",
            "=======================================================================================\n",
            "Dispersion α: 1.0000\n"
          ]
        },
        {
          "name": "stdout",
          "output_type": "stream",
          "text": [
            "Results for nordeste:\n",
            "                  Generalized Linear Model Regression Results                   \n",
            "================================================================================\n",
            "Dep. Variable:     mental_health_visits   No. Observations:                   72\n",
            "Model:                              GLM   Df Residuals:                       63\n",
            "Model Family:          NegativeBinomial   Df Model:                            8\n",
            "Link Function:                      Log   Scale:                          1.0000\n",
            "Method:                            IRLS   Log-Likelihood:                -896.88\n",
            "Date:                  ter, 29 abr 2025   Deviance:                      0.28753\n",
            "Time:                          22:44:43   Pearson chi2:                    0.284\n",
            "No. Iterations:                       5   Pseudo R-squ. (CS):             0.1113\n",
            "Covariance Type:                    HAC                                         \n",
            "=======================================================================================\n",
            "                          coef    std err          z      P>|z|      [0.025      0.975]\n",
            "---------------------------------------------------------------------------------------\n",
            "Intercept               2.2386      0.031     72.665      0.000       2.178       2.299\n",
            "periodo                 0.0163      0.002      6.853      0.000       0.012       0.021\n",
            "Pandemia_Step           0.2478      0.042      5.868      0.000       0.165       0.331\n",
            "Pandemia_Trend         -0.0107      0.003     -3.715      0.000      -0.016      -0.005\n",
            "PosPandemia_Step       -0.0022      0.100     -0.022      0.983      -0.197       0.193\n",
            "PosPandemia_Trend       0.0017      0.003      0.633      0.527      -0.004       0.007\n",
            "ChoqueInicial_Pulse     0.1030      0.025      4.145      0.000       0.054       0.152\n",
            "cos1                   -0.0101      0.007     -1.489      0.136      -0.023       0.003\n",
            "sin1                    0.0062      0.009      0.673      0.501      -0.012       0.024\n",
            "=======================================================================================\n",
            "Dispersion α: 1.0000\n",
            "Results for norte:\n",
            "                  Generalized Linear Model Regression Results                   \n",
            "================================================================================\n",
            "Dep. Variable:     mental_health_visits   No. Observations:                   72\n",
            "Model:                              GLM   Df Residuals:                       63\n",
            "Model Family:          NegativeBinomial   Df Model:                            8\n",
            "Link Function:                      Log   Scale:                          1.0000\n",
            "Method:                            IRLS   Log-Likelihood:                -779.35\n",
            "Date:                  ter, 29 abr 2025   Deviance:                      0.33634\n",
            "Time:                          22:44:43   Pearson chi2:                    0.327\n",
            "No. Iterations:                       4   Pseudo R-squ. (CS):            0.05677\n",
            "Covariance Type:                    HAC                                         \n",
            "=======================================================================================\n",
            "                          coef    std err          z      P>|z|      [0.025      0.975]\n",
            "---------------------------------------------------------------------------------------\n",
            "Intercept               2.1864      0.022     98.381      0.000       2.143       2.230\n",
            "periodo                 0.0113      0.001      9.837      0.000       0.009       0.014\n",
            "Pandemia_Step          -0.0937      0.028     -3.290      0.001      -0.149      -0.038\n",
            "Pandemia_Trend          0.0025      0.002      1.118      0.264      -0.002       0.007\n",
            "PosPandemia_Step       -0.0464      0.042     -1.116      0.264      -0.128       0.035\n",
            "PosPandemia_Trend       0.0051      0.002      2.700      0.007       0.001       0.009\n",
            "ChoqueInicial_Pulse     0.2733      0.032      8.643      0.000       0.211       0.335\n",
            "cos1                    0.0019      0.006      0.325      0.745      -0.010       0.013\n",
            "sin1                    0.0044      0.010      0.454      0.650      -0.015       0.023\n",
            "=======================================================================================\n",
            "Dispersion α: 1.0000\n",
            "Results for sudeste:\n",
            "                  Generalized Linear Model Regression Results                   \n",
            "================================================================================\n",
            "Dep. Variable:     mental_health_visits   No. Observations:                   72\n",
            "Model:                              GLM   Df Residuals:                       63\n",
            "Model Family:          NegativeBinomial   Df Model:                            8\n",
            "Link Function:                      Log   Scale:                          1.0000\n",
            "Method:                            IRLS   Log-Likelihood:                -957.28\n",
            "Date:                  ter, 29 abr 2025   Deviance:                      0.19090\n",
            "Time:                          22:44:43   Pearson chi2:                    0.179\n",
            "No. Iterations:                       4   Pseudo R-squ. (CS):            0.02772\n",
            "Covariance Type:                    HAC                                         \n",
            "=======================================================================================\n",
            "                          coef    std err          z      P>|z|      [0.025      0.975]\n",
            "---------------------------------------------------------------------------------------\n",
            "Intercept               2.8484      0.015    183.860      0.000       2.818       2.879\n",
            "periodo                 0.0140      0.001     13.470      0.000       0.012       0.016\n",
            "Pandemia_Step           0.0930      0.025      3.669      0.000       0.043       0.143\n",
            "Pandemia_Trend         -0.0145      0.002     -7.578      0.000      -0.018      -0.011\n",
            "PosPandemia_Step       -0.2956      0.043     -6.839      0.000      -0.380      -0.211\n",
            "PosPandemia_Trend      -0.0032      0.001     -2.636      0.008      -0.006      -0.001\n",
            "ChoqueInicial_Pulse     0.0837      0.016      5.220      0.000       0.052       0.115\n",
            "cos1                   -0.0070      0.006     -1.160      0.246      -0.019       0.005\n",
            "sin1                   -0.0061      0.006     -1.081      0.280      -0.017       0.005\n",
            "=======================================================================================\n",
            "Dispersion α: 1.0000\n",
            "Results for sul:\n",
            "                  Generalized Linear Model Regression Results                   \n",
            "================================================================================\n",
            "Dep. Variable:     mental_health_visits   No. Observations:                   72\n",
            "Model:                              GLM   Df Residuals:                       63\n",
            "Model Family:          NegativeBinomial   Df Model:                            8\n",
            "Link Function:                      Log   Scale:                          1.0000\n",
            "Method:                            IRLS   Log-Likelihood:                -914.47\n",
            "Date:                  ter, 29 abr 2025   Deviance:                      0.21852\n",
            "Time:                          22:44:43   Pearson chi2:                    0.211\n",
            "No. Iterations:                       4   Pseudo R-squ. (CS):           0.006247\n",
            "Covariance Type:                    HAC                                         \n",
            "=======================================================================================\n",
            "                          coef    std err          z      P>|z|      [0.025      0.975]\n",
            "---------------------------------------------------------------------------------------\n",
            "Intercept               3.1716      0.022    145.478      0.000       3.129       3.214\n",
            "periodo                 0.0051      0.001      4.082      0.000       0.003       0.008\n",
            "Pandemia_Step           0.0888      0.028      3.156      0.002       0.034       0.144\n",
            "Pandemia_Trend         -0.0128      0.002     -5.665      0.000      -0.017      -0.008\n",
            "PosPandemia_Step       -0.2240      0.048     -4.714      0.000      -0.317      -0.131\n",
            "PosPandemia_Trend       0.0071      0.002      4.370      0.000       0.004       0.010\n",
            "ChoqueInicial_Pulse     0.1036      0.021      4.859      0.000       0.062       0.145\n",
            "cos1                   -0.0082      0.007     -1.127      0.260      -0.022       0.006\n",
            "sin1                   -0.0075      0.007     -1.146      0.252      -0.020       0.005\n",
            "=======================================================================================\n",
            "Dispersion α: 1.0000\n"
          ]
        }
      ],
      "source": [
        "### GEE processing\n",
        "\n",
        "\n",
        "\n",
        "if MODEL_DEF == 'GEE':\n",
        "    results = process_groups_with_processor(\n",
        "        dataframe=RegressionDF,\n",
        "        group_col=GROUP_COL_NAME,\n",
        "        date_col=DATE_NAME,\n",
        "        processor_class=GEE.from_formula,\n",
        "        processor_args=GEE_PROCESSOR_ARGS,\n",
        "\n",
        "    )\n",
        "elif MODEL_DEF == 'GLM':\n",
        "    results = process_groups_with_processor(\n",
        "        dataframe=RegressionDF,\n",
        "        group_col=GROUP_COL_NAME,\n",
        "        date_col=DATE_NAME,\n",
        "        processor_class=smf.glm,\n",
        "        processor_args=GLM_PROCESSOR_ARGS,\n",
        "\n",
        "    )\n",
        "\n",
        "\n",
        "elif MODEL_DEF == \"GLSAR\":\n",
        "    results = process_groups_with_processor(\n",
        "        dataframe=RegressionDF,\n",
        "        group_col=GROUP_COL_NAME,\n",
        "        date_col=DATE_NAME,\n",
        "        processor_class=smf.glsar,\n",
        "        processor_args=GLSAR_PROCESSOR_ARGS,\n",
        "    )\n",
        "else:\n",
        "    results = process_groups_with_processor(\n",
        "        dataframe=RegressionDF,\n",
        "        group_col=GROUP_COL_NAME,\n",
        "        date_col=DATE_NAME,\n",
        "        processor_class = smf.ols,\n",
        "        processor_args = OLS_PROCESSOR_ARGS,       \n",
        "    )\n"
      ]
    },
    {
      "cell_type": "markdown",
      "metadata": {},
      "source": [
        "# Diagnostico do Modelo"
      ]
    },
    {
      "cell_type": "code",
      "execution_count": 1583,
      "metadata": {},
      "outputs": [
        {
          "data": {
            "text/plain": [
              "'\\n# Exemplo de uso:\\n\\n\\nprint(diagnostics_df)\\n'"
            ]
          },
          "execution_count": 1583,
          "metadata": {},
          "output_type": "execute_result"
        }
      ],
      "source": [
        "def test_glsar_diagnostics(results, dataframe, group_col, dependent_var, independent_var):\n",
        "    diagnostics = {}\n",
        "\n",
        "    for variable, result in results.items():\n",
        "        # Filtrar os dados para a variável atual\n",
        "        variable_data = dataframe[dataframe[group_col] == variable].sort_values(by=DATE_NAME)\n",
        "        y = variable_data[dependent_var].values\n",
        "        X = variable_data[[independent_var]].values\n",
        "\n",
        "        # Heterocedasticidade (Breusch-Pagan)\n",
        "        # Acessar a matriz de covariáveis corretamente para GLSAR\n",
        "        exog = getattr(result.model.data, 'orig_exog', result.model.data.exog)\n",
        "        bp_test = het_breuschpagan(result.resid, exog)\n",
        "        bp_pvalue = bp_test[1]\n",
        "\n",
        "        # Autocorrelação (Durbin-Watson e Ljung-Box)\n",
        "        dw_stat = durbin_watson(result.resid)\n",
        "        ljungbox_test = acorr_ljungbox(result.resid, lags=[10], return_df=True)\n",
        "        ljungbox_pvalue = ljungbox_test['lb_pvalue'].iloc[0]\n",
        "\n",
        "\n",
        "\n",
        "        # Armazenar os resultados (sem overdispersion para GLSAR)\n",
        "        diagnostics[variable] = {\n",
        "            \"Heteroscedasticity (Breusch-Pagan)\": bp_pvalue,\n",
        "            \"Autocorrelation (Durbin-Watson)\": dw_stat,\n",
        "            \"Autocorrelation (Ljung-Box)\": ljungbox_pvalue\n",
        "        }\n",
        "\n",
        "    return pd.DataFrame(diagnostics).T\n",
        "'''\n",
        "# Exemplo de uso:\n",
        "\n",
        "\n",
        "print(diagnostics_df)\n",
        "'''"
      ]
    },
    {
      "cell_type": "code",
      "execution_count": 1584,
      "metadata": {},
      "outputs": [],
      "source": [
        "from statsmodels.stats.diagnostic import het_breuschpagan, acorr_ljungbox\n",
        "from statsmodels.stats.stattools import durbin_watson\n",
        "from scipy.stats import chi2\n",
        "import seaborn as sns\n",
        "\n",
        "#### GLM\n",
        "def test_model_diagnostics(results, dataframe, group_col, dependent_var, independent_var):\n",
        "    diagnostics = {}\n",
        "\n",
        "    for variable, result in results.items():\n",
        "        # Filtrar os dados para a variável atual\n",
        "        variable_data = dataframe[dataframe[group_col] == variable].sort_values(by=DATE_NAME)\n",
        "        y = variable_data[dependent_var].values\n",
        "        X = variable_data[[independent_var]].values\n",
        "\n",
        "        # Heterocedasticidade (Breusch-Pagan) - Usar resid_response\n",
        "        bp_test = het_breuschpagan(result.resid_response, result.model.exog)\n",
        "        bp_pvalue = bp_test[1]\n",
        "\n",
        "        # Overdispersão (Teste Qui-Quadrado) - Já usa resid_pearson corretamente\n",
        "        pearson_chi2 = sum((result.resid_pearson) ** 2)\n",
        "        overdispersion_pvalue = 1 - chi2.cdf(pearson_chi2, df=result.df_resid)\n",
        "\n",
        "        # Autocorrelação (Durbin-Watson e Ljung-Box) - Usar resid_response\n",
        "        dw_stat = durbin_watson(result.resid_response)\n",
        "        ljungbox_test = acorr_ljungbox(result.resid_response, lags=[10], return_df=True)\n",
        "        ljungbox_pvalue = ljungbox_test['lb_pvalue'].iloc[0]\n",
        "\n",
        "        irrs = np.exp(result.params)\n",
        "        conf_int = np.exp(result.conf_int())\n",
        "\n",
        "        #plot_acf(result.resid_pearson, lags=12, title = f'Autocorrelation for: {variable}')\n",
        "\n",
        "        plot_acf(result.resid_response, lags=12, title = f'ACF (Response Residuals): {variable}')\n",
        "\n",
        "        # Histograma dos resíduos\n",
        "        #sns.histplot(result.resid_response, kde=True)\n",
        "        #plt.title(f\"Residual Histogram: {variable}\")\n",
        "        #plt.show()\n",
        "#\n",
        "        ## Resíduo vs valores ajustados\n",
        "        #plt.scatter(result.fittedvalues, result.resid_response)\n",
        "        #plt.axhline(0, color='red', linestyle='--')\n",
        "        #plt.title(f\"Fitted vs Residuals: {variable}\")\n",
        "        #plt.xlabel(\"Fitted values\")\n",
        "        #plt.ylabel(\"Response residuals\")\n",
        "        #plt.show()\n",
        "        # Armazenar os resultados\n",
        "        diagnostics[variable] = {\n",
        "            \"Heteroscedasticity (Breusch-Pagan)\": bp_pvalue,\n",
        "            \"Overdispersion (Pearson Chi2)\": overdispersion_pvalue,\n",
        "            \"Autocorrelation (Durbin-Watson)\": dw_stat,\n",
        "            \"Autocorrelation (Ljung-Box)\": ljungbox_pvalue,\n",
        "            'IRR': irrs,\n",
        "            \"CI Lower\": conf_int[0], \"CI Upper\": conf_int[1]\n",
        "            \n",
        "        }\n",
        "\n",
        "    return pd.DataFrame(diagnostics)\n"
      ]
    },
    {
      "cell_type": "code",
      "execution_count": 1594,
      "metadata": {},
      "outputs": [],
      "source": [
        "def test_model_diagnostics(results, dataframe, group_col, dependent_var, independent_var):\n",
        "\tfrom statsmodels.stats.diagnostic import het_breuschpagan\n",
        "\tfrom statsmodels.stats.stattools import durbin_watson\n",
        "\tfrom statsmodels.stats.diagnostic import acorr_ljungbox\n",
        "\tfrom scipy.stats import chi2\n",
        "\timport numpy as np\n",
        "\timport pandas as pd\n",
        "\n",
        "\tdiagnostics = {}\n",
        "\n",
        "\tfor variable, result in results.items():\n",
        "\t\t# Filtrar os dados para a variável atual\n",
        "\t\tvariable_data = dataframe[dataframe[group_col] == variable].sort_values(by=DATE_NAME)\n",
        "\t\ty = variable_data[dependent_var].values\n",
        "\t\tX = variable_data[[independent_var]].values\n",
        "\n",
        "\t\t# Testes de diagnóstico\n",
        "\t\tbp_test = het_breuschpagan(result.resid_response, result.model.exog)\n",
        "\t\tbp_pvalue = bp_test[1]\n",
        "\n",
        "\t\tpearson_chi2 = sum((result.resid_pearson) ** 2)\n",
        "\t\toverdispersion_pvalue = 1 - chi2.cdf(pearson_chi2, df=result.df_resid)\n",
        "\n",
        "\t\tdw_stat = durbin_watson(result.resid_response)\n",
        "\t\tljungbox_test = acorr_ljungbox(result.resid_response, lags=[10], return_df=True)\n",
        "\t\tljungbox_pvalue = ljungbox_test['lb_pvalue'].iloc[0]\n",
        "\n",
        "\t\t# IRR e Intervalos\n",
        "\t\tirr = np.exp(result.params)\n",
        "\t\tconf_int = np.exp(result.conf_int())\n",
        "\t\tconf_int.columns = ['CI Lower', 'CI Upper']\n",
        "\n",
        "\t\t# Combina em um DataFrame de IRRs e ICs\n",
        "\t\tirr_df = pd.concat([irr.rename(\"IRR\"), conf_int], axis=1)\n",
        "\n",
        "\t\t# Armazena o diagnóstico num sub-dicionário por coeficiente\n",
        "\t\tdiagnostics[variable] = {\n",
        "\t\t\t\"Heteroscedasticity (Breusch-Pagan)\": bp_pvalue,\n",
        "\t\t\t\"Overdispersion (Pearson Chi2)\": overdispersion_pvalue,\n",
        "\t\t\t\"Autocorrelation (Durbin-Watson)\": dw_stat,\n",
        "\t\t\t\"Autocorrelation (Ljung-Box)\": ljungbox_pvalue,\n",
        "\t\t\t\"IRR Table\": irr_df\n",
        "\t\t}\n",
        "\n",
        "\treturn diagnostics"
      ]
    },
    {
      "cell_type": "code",
      "execution_count": 1595,
      "metadata": {},
      "outputs": [
        {
          "name": "stdout",
          "output_type": "stream",
          "text": [
            "{'Brasil': {'Heteroscedasticity (Breusch-Pagan)': np.float64(0.03425271808746544), 'Overdispersion (Pearson Chi2)': np.float64(1.0), 'Autocorrelation (Durbin-Watson)': np.float64(1.4276370539714551), 'Autocorrelation (Ljung-Box)': np.float64(0.016582849086759707), 'IRR Table':                            IRR   CI Lower   CI Upper\n",
            "Intercept            16.385567  15.838811  16.951197\n",
            "periodo               1.011630   1.009260   1.014006\n",
            "Pandemia_Step         1.123916   1.073817   1.176353\n",
            "Pandemia_Trend        0.988075   0.984902   0.991259\n",
            "PosPandemia_Step      0.830622   0.757229   0.911128\n",
            "PosPandemia_Trend     1.001441   0.998420   1.004472\n",
            "ChoqueInicial_Pulse   1.123897   1.097227   1.151216\n",
            "cos1                  0.994215   0.988992   0.999466\n",
            "sin1                  0.987731   0.964729   1.011281}, 'centro_oeste': {'Heteroscedasticity (Breusch-Pagan)': np.float64(0.0796528907054093), 'Overdispersion (Pearson Chi2)': np.float64(1.0), 'Autocorrelation (Durbin-Watson)': np.float64(1.3523494556041507), 'Autocorrelation (Ljung-Box)': np.float64(1.3277134064790885e-05), 'IRR Table':                            IRR   CI Lower   CI Upper\n",
            "Intercept            19.770716  19.029748  20.540535\n",
            "periodo               1.008119   1.005628   1.010617\n",
            "Pandemia_Step         1.025924   0.953628   1.103702\n",
            "Pandemia_Trend        0.992100   0.988090   0.996127\n",
            "PosPandemia_Step      0.864297   0.784706   0.951960\n",
            "PosPandemia_Trend     1.000395   0.997248   1.003552\n",
            "ChoqueInicial_Pulse   1.148089   1.091775   1.207307\n",
            "cos1                  0.992658   0.970198   1.015638\n",
            "sin1                  1.019378   0.997032   1.042225}, 'nordeste': {'Heteroscedasticity (Breusch-Pagan)': np.float64(0.18928749032636294), 'Overdispersion (Pearson Chi2)': np.float64(1.0), 'Autocorrelation (Durbin-Watson)': np.float64(1.5334602953544596), 'Autocorrelation (Ljung-Box)': np.float64(0.08360887859191796), 'IRR Table':                           IRR  CI Lower  CI Upper\n",
            "Intercept            9.380205  8.830577  9.964042\n",
            "periodo              1.016473  1.011734  1.021234\n",
            "Pandemia_Step        1.281161  1.179412  1.391689\n",
            "Pandemia_Trend       0.989314  0.983723  0.994937\n",
            "PosPandemia_Step     0.997830  0.820998  1.212750\n",
            "PosPandemia_Trend    1.001743  0.996358  1.007156\n",
            "ChoqueInicial_Pulse  1.108531  1.055816  1.163878\n",
            "cos1                 0.989958  0.976897  1.003194\n",
            "sin1                 1.006219  0.988211  1.024555}, 'norte': {'Heteroscedasticity (Breusch-Pagan)': np.float64(0.04172473808517254), 'Overdispersion (Pearson Chi2)': np.float64(1.0), 'Autocorrelation (Durbin-Watson)': np.float64(1.2193592646421072), 'Autocorrelation (Ljung-Box)': np.float64(0.0015830981557669263), 'IRR Table':                           IRR  CI Lower  CI Upper\n",
            "Intercept            8.902824  8.523366  9.299175\n",
            "periodo              1.011321  1.009055  1.013592\n",
            "Pandemia_Step        0.910583  0.861165  0.962837\n",
            "Pandemia_Trend       1.002522  0.998104  1.006961\n",
            "PosPandemia_Step     0.954628  0.879878  1.035728\n",
            "PosPandemia_Trend    1.005083  1.001391  1.008789\n",
            "ChoqueInicial_Pulse  1.314341  1.235349  1.398383\n",
            "cos1                 1.001894  0.990539  1.013380\n",
            "sin1                 1.004395  0.985544  1.023606}, 'sudeste': {'Heteroscedasticity (Breusch-Pagan)': np.float64(0.05004974963409517), 'Overdispersion (Pearson Chi2)': np.float64(1.0), 'Autocorrelation (Durbin-Watson)': np.float64(1.2590625779638143), 'Autocorrelation (Ljung-Box)': np.float64(7.334732635255704e-06), 'IRR Table':                            IRR   CI Lower   CI Upper\n",
            "Intercept            17.259684  16.743489  17.791794\n",
            "periodo               1.014132   1.012063   1.016205\n",
            "Pandemia_Step         1.097459   1.044271   1.153355\n",
            "Pandemia_Trend        0.985651   0.981973   0.989342\n",
            "PosPandemia_Step      0.744095   0.683659   0.809873\n",
            "PosPandemia_Trend     0.996832   0.994482   0.999186\n",
            "ChoqueInicial_Pulse   1.087313   1.053669   1.122031\n",
            "cos1                  0.993017   0.981333   1.004840\n",
            "sin1                  0.993960   0.983104   1.004935}, 'sul': {'Heteroscedasticity (Breusch-Pagan)': np.float64(0.013264383000600182), 'Overdispersion (Pearson Chi2)': np.float64(1.0), 'Autocorrelation (Durbin-Watson)': np.float64(1.4069586209751623), 'Autocorrelation (Ljung-Box)': np.float64(1.2212238061288397e-05), 'IRR Table':                            IRR   CI Lower   CI Upper\n",
            "Intercept            23.845018  22.847597  24.885982\n",
            "periodo               1.005152   1.002675   1.007635\n",
            "Pandemia_Step         1.092913   1.034238   1.154917\n",
            "Pandemia_Trend        0.987258   0.982888   0.991649\n",
            "PosPandemia_Step      0.799353   0.728289   0.877352\n",
            "PosPandemia_Trend     1.007142   1.003932   1.010362\n",
            "ChoqueInicial_Pulse   1.109165   1.063770   1.156497\n",
            "cos1                  0.991864   0.977869   1.006058\n",
            "sin1                  0.992491   0.979773   1.005373}}\n"
          ]
        }
      ],
      "source": [
        "if MODEL_DEF == 'GEE' or MODEL_DEF == \"GLM\":\n",
        "    diagnostics_df = test_model_diagnostics(\n",
        "    results=results,\n",
        "    dataframe=RegressionDF,\n",
        "    group_col=GROUP_COL_NAME,\n",
        "    dependent_var=DEPENDENT_VAR,\n",
        "    independent_var=INDEPENDENT_VAR\n",
        ")\n",
        "else:\n",
        "    diagnostics_df = test_glsar_diagnostics(\n",
        "    results=results, \n",
        "    dataframe=RegressionDF,\n",
        "    group_col=GROUP_COL_NAME,\n",
        "    dependent_var=DEPENDENT_VAR,\n",
        "    independent_var=INDEPENDENT_VAR\n",
        ")\n",
        "    \n",
        "print(diagnostics_df)\n",
        "    "
      ]
    },
    {
      "cell_type": "markdown",
      "metadata": {
        "id": "AKBeUI39NIXf"
      },
      "source": [
        "# Export Results"
      ]
    },
    {
      "cell_type": "code",
      "execution_count": 1586,
      "metadata": {
        "id": "IbPhBA4YNIXg"
      },
      "outputs": [],
      "source": [
        "if MODEL_DEF == 'GLSAR':\n",
        "    export_results(results,\n",
        "        output_path = LOCAL_OUTPUT_PATH,\n",
        "        processor_args = GLSAR_PROCESSOR_ARGS,\n",
        "        preprocessor_args=PREPROCESSOR_ARGS,\n",
        "        output_gsheet=output_wksheet,\n",
        "    )"
      ]
    },
    {
      "cell_type": "markdown",
      "metadata": {
        "id": "zH9i6dotzLe5"
      },
      "source": [
        "# Define Hover Graph Func\n"
      ]
    },
    {
      "cell_type": "code",
      "execution_count": 1587,
      "metadata": {},
      "outputs": [],
      "source": [
        "def plot_with_all_dummies(\n",
        "    variable: str,\n",
        "    variable_df,\n",
        "    results_obj,\n",
        "    exclude_coeffs_by_prefix=None,\n",
        "    plot_individual_effects=False,\n",
        "    line_events=None, # Dict[str, Tuple[start, end, color, show_line]]\n",
        "    slope_coef_str=None,\n",
        "    real_serie_key=DEPENDENT_VAR,\n",
        "    exponentite_coefs=False\n",
        "):\n",
        "\n",
        "    regression_stats = results_obj.params\n",
        "    variable_df = variable_df.sort_values(by=DATE_NAME).reset_index(drop=True)\n",
        "    dates = variable_df[DATE_NAME].values\n",
        "    real_series = variable_df[real_serie_key].values\n",
        "\n",
        "    slope_name = slope_coef_str if slope_coef_str else INDEPENDENT_VAR\n",
        "    intercept = regression_stats.get(\"Intercept\", 0)\n",
        "    slope = regression_stats.get(slope_name, 0)\n",
        "    t = np.arange(len(dates)) + 1\n",
        "\n",
        "\n",
        "    #if exponentite_coefs:\n",
        "        #slope = np.exp(slope) #if slope > 0 else slope\n",
        "        #intercept = np.exp(intercept) if intercept > 0 else intercept\n",
        "    baseline_log = (intercept + slope * t).astype(float)\n",
        "    full_pred = baseline_log.copy()\n",
        "\n",
        "    fig = go.Figure()\n",
        "\n",
        "    baseline = np.exp(baseline_log) if exponentite_coefs else baseline_log\n",
        "    fig.add_trace(go.Scatter(\n",
        "        x=dates,\n",
        "        y=baseline,\n",
        "        mode='lines',\n",
        "        name='Baseline',\n",
        "        line=dict(dash='dot', color='black')\n",
        "    ))\n",
        "\n",
        "    fig.add_trace(go.Scatter(\n",
        "        x=dates,\n",
        "        y=real_series,\n",
        "        mode='markers',\n",
        "        name='Real',\n",
        "        marker=dict(color='black')\n",
        "    ))\n",
        "\n",
        "\n",
        "\n",
        "    for dummy_name, coef in regression_stats.items():\n",
        "        if dummy_name in {\"Intercept\", INDEPENDENT_VAR}:\n",
        "            continue\n",
        "        if slope_coef_str and dummy_name == slope_coef_str:\n",
        "            continue\n",
        "\n",
        "        if exclude_coeffs_by_prefix and any(dummy_name.startswith(prefix) for prefix in exclude_coeffs_by_prefix):\n",
        "            continue\n",
        "\n",
        "        if dummy_name in variable_df.columns:\n",
        "            dummy_ts = variable_df[dummy_name].values\n",
        "            dummy_effect = coef * dummy_ts\n",
        "            full_pred += dummy_effect\n",
        "\n",
        "            if plot_individual_effects:\n",
        "                fig.add_trace(go.Scatter(\n",
        "                    x=dates,\n",
        "                    y=dummy_effect,\n",
        "                    mode='lines',\n",
        "                    name=f'Effect: {dummy_name}',\n",
        "                    line=dict(dash='dash')\n",
        "                ))\n",
        "\n",
        "    if line_events:\n",
        "        for line_dummy_name, (event_start_date, event_end_date, fillcolor, show_line) in line_events.items():\n",
        "            if fillcolor:\n",
        "                # Sombra para eventos tipo \"pulse\"\n",
        "                fig.add_shape(\n",
        "                    type=\"rect\",\n",
        "                    x0=event_start_date,\n",
        "                    x1=event_end_date,\n",
        "                    y0=0,\n",
        "                    y1=1,\n",
        "                    xref=\"x\",\n",
        "                    yref=\"paper\",\n",
        "                    fillcolor=fillcolor,\n",
        "                    opacity=0.3,\n",
        "                    layer=\"below\",\n",
        "                    line_width=0,\n",
        "                )\n",
        "        \n",
        "            if show_line:\n",
        "                # Linha e anotação para eventos como Pandemia e Pós-Pandemia\n",
        "                fig.add_shape(\n",
        "                    type=\"line\",\n",
        "                    x0=event_start_date,\n",
        "                    x1=event_start_date,\n",
        "                    y0=min(real_series),\n",
        "                    y1=max(real_series),\n",
        "                    line=dict(color=\"black\", dash=\"dash\")\n",
        "                )\n",
        "        \n",
        "                # Anotação deslocada no eixo x\n",
        "                fig.add_annotation(\n",
        "                    x=event_start_date,\n",
        "                    y=max(real_series),\n",
        "                    text=f\"{line_dummy_name}\",\n",
        "                    showarrow=True,\n",
        "                    arrowhead=2,\n",
        "                    ax=30,  # deslocamento lateral\n",
        "                    ay=-40\n",
        "                )\n",
        "\n",
        "    full_pred = np.exp(full_pred) if exponentite_coefs else full_pred\n",
        "    fig.add_trace(go.Scatter(\n",
        "        x=dates,\n",
        "        y=full_pred,\n",
        "        mode='lines',\n",
        "        name='Full model',\n",
        "        line=dict(color='purple')\n",
        "    ))\n",
        "\n",
        "\n",
        "\n",
        "    fig.update_layout(\n",
        "        title=variable,\n",
        "        xaxis_title=\"Time\",\n",
        "        yaxis_title=\"Value\",\n",
        "        legend_title=\"Legend\"\n",
        "    )\n",
        "\n",
        "    fig.show()\n"
      ]
    },
    {
      "cell_type": "code",
      "execution_count": 1588,
      "metadata": {},
      "outputs": [
        {
          "data": {
            "text/plain": [
              "\"\\n# Define your models and fit them\\nregion_results = {\\n    'North': north_model.fit(cov_type='HAC', cov_kwds={'maxlags': 4}),\\n    'South': south_model.fit(cov_type='HAC', cov_kwds={'maxlags': 4}),\\n    'East': east_model.fit(cov_type='HAC', cov_kwds={'maxlags': 4}),\\n    'West': west_model.fit(cov_type='HAC', cov_kwds={'maxlags': 4})\\n}\\n\\n# Customize the plot\\nplot_multiple_regions(\\n    region_results,\\n    pandemic_vars=['pandemia_dummy', 'pos_pandemia_step', 'pos_pandemia_trend'],\\n    region_names={'North': 'Northern Region', 'South': 'Southern Zone'},\\n    title='Mental Health Visit Rate Changes During Pandemic',\\n    x_label='Change in Visits per 1000',\\n    palette='muted',\\n    variable_labels={\\n        'pandemia_dummy': 'Pandemic Onset',\\n        'pos_pandemia_step': 'Post-Pandemic Level Change',\\n        'pos_pandemia_trend': 'Post-Pandemic Trend Change'\\n    },\\n    figsize=(10, 6)\\n)\\n\""
            ]
          },
          "execution_count": 1588,
          "metadata": {},
          "output_type": "execute_result"
        }
      ],
      "source": [
        "import seaborn as sns\n",
        "def plot_multiple_regions(region_results, \n",
        "                         pandemic_vars=None,\n",
        "                         region_names=None,\n",
        "                         x_label='Coefficient Estimate',\n",
        "                         y_label='Variable',\n",
        "                         title='Pandemic Effects Across Regions\\nwith HAC Confidence Intervals',\n",
        "                         figsize=(12, 8),\n",
        "                         palette='colorblind',\n",
        "                         ci_alpha=0.3,\n",
        "                         zero_line=True,\n",
        "                         legend_title='Region',\n",
        "                         sort_variables=True,\n",
        "                         variable_labels=None,\n",
        "                         **sns_kwargs):\n",
        "    \"\"\"\n",
        "    Plot coefficient comparisons across regions with customizable parameters\n",
        "    \n",
        "    Parameters:\n",
        "    - region_results: Dict of {region_name: fitted_model_results}\n",
        "    - pandemic_vars: List of variables to plot (default looks for common pandemic names)\n",
        "    - region_names: Optional dict to rename regions in plot\n",
        "    - x_label: Label for x-axis\n",
        "    - y_label: Label for y-axis\n",
        "    - title: Plot title\n",
        "    - figsize: Figure size\n",
        "    - palette: Seaborn color palette\n",
        "    - ci_alpha: Transparency for confidence intervals\n",
        "    - zero_line: Whether to draw zero reference line\n",
        "    - legend_title: Title for legend\n",
        "    - sort_variables: Whether to sort variables alphabetically\n",
        "    - variable_labels: Dict to rename variables for display\n",
        "    - **sns_kwargs: Additional arguments for sns.pointplot\n",
        "    \"\"\"\n",
        "    plt.figure(figsize=figsize)\n",
        "    \n",
        "    # Collect coefficients from all regions\n",
        "    all_coefs = []\n",
        "    for region, res in region_results.items():\n",
        "        coefs = res.params.to_frame(name='estimate')\n",
        "        coefs['region'] = region_names.get(region, region) if region_names else region\n",
        "        ci = res.conf_int()\n",
        "        coefs['ci_lower'] = ci.iloc[:, 0]\n",
        "        coefs['ci_upper'] = ci.iloc[:, 1]\n",
        "        all_coefs.append(coefs)\n",
        "    \n",
        "    df = pd.concat(all_coefs).reset_index().rename(columns={'index': 'variable'})\n",
        "    \n",
        "    # Default pandemic variables if not specified\n",
        "    if pandemic_vars is None:\n",
        "        pandemic_vars = [\n",
        "            'pandemia_dummy', 'pandemia', 'pandemic', \n",
        "            'pos_pandemia_step', 'post_pandemic_step',\n",
        "            'pos_pandemia_trend', 'post_pandemic_trend'\n",
        "        ]\n",
        "        # Keep only variables that exist in the data\n",
        "        pandemic_vars = [v for v in pandemic_vars if v in df['variable'].unique()]\n",
        "    \n",
        "    # Filter to variables of interest\n",
        "    df = df[df['variable'].isin(pandemic_vars)]\n",
        "    \n",
        "    # Apply variable labels if provided\n",
        "    if variable_labels:\n",
        "        df['variable'] = df['variable'].map(variable_labels).fillna(df['variable'])\n",
        "    \n",
        "    # Sort variables if requested\n",
        "    if sort_variables:\n",
        "        df = df.sort_values('variable')\n",
        "    \n",
        "    # Calculate error bars\n",
        "    df['ci_lower_diff'] = df['estimate'] - df['ci_lower']\n",
        "    df['ci_upper_diff'] = df['ci_upper'] - df['estimate']\n",
        "    \n",
        "    # Create plot with error bars\n",
        "    ax = sns.pointplot(\n",
        "        data=df, \n",
        "        x='estimate', \n",
        "        y='variable', \n",
        "        hue='region',\n",
        "        palette=palette,\n",
        "        join=False, \n",
        "        dodge=0.4,\n",
        "        **sns_kwargs\n",
        "    )\n",
        "    \n",
        "    # Add custom error bars (since sns.pointplot doesn't support asymmetric errors)\n",
        "    for i, (_, row) in enumerate(df.iterrows()):\n",
        "        # Calculate position accounting for dodging\n",
        "        hue_level = row['region']\n",
        "        hue_pos = df['region'].unique().tolist().index(hue_level)\n",
        "        n_hues = len(df['region'].unique())\n",
        "        dodge_amount = 0.4 * (hue_pos - (n_hues - 1)/2) / ((n_hues - 1)/2)\n",
        "        \n",
        "        # Find the y position\n",
        "        y_pos = i // n_hues\n",
        "        if sort_variables:\n",
        "            y_pos = df['variable'].unique().tolist().index(row['variable'])\n",
        "        \n",
        "        plt.errorbar(\n",
        "            x=row['estimate'],\n",
        "            y=y_pos + dodge_amount,\n",
        "            xerr=[[row['ci_lower_diff']], [row['ci_upper_diff']]],\n",
        "            fmt='none',\n",
        "            color='black',\n",
        "            alpha=ci_alpha,\n",
        "            capsize=3,\n",
        "        )\n",
        "    \n",
        "    if zero_line:\n",
        "        plt.axvline(0, color='gray', linestyle='--', alpha=0.7)\n",
        "    \n",
        "    plt.title(title)\n",
        "    plt.xlabel(x_label)\n",
        "    plt.ylabel(y_label)\n",
        "    plt.legend(title=legend_title, bbox_to_anchor=(1.05, 1), loc='upper left')\n",
        "    \n",
        "    plt.tight_layout()\n",
        "    return ax\n",
        "\n",
        "# Example usage with customization:\n",
        "\"\"\"\n",
        "# Define your models and fit them\n",
        "region_results = {\n",
        "    'North': north_model.fit(cov_type='HAC', cov_kwds={'maxlags': 4}),\n",
        "    'South': south_model.fit(cov_type='HAC', cov_kwds={'maxlags': 4}),\n",
        "    'East': east_model.fit(cov_type='HAC', cov_kwds={'maxlags': 4}),\n",
        "    'West': west_model.fit(cov_type='HAC', cov_kwds={'maxlags': 4})\n",
        "}\n",
        "\n",
        "# Customize the plot\n",
        "plot_multiple_regions(\n",
        "    region_results,\n",
        "    pandemic_vars=['pandemia_dummy', 'pos_pandemia_step', 'pos_pandemia_trend'],\n",
        "    region_names={'North': 'Northern Region', 'South': 'Southern Zone'},\n",
        "    title='Mental Health Visit Rate Changes During Pandemic',\n",
        "    x_label='Change in Visits per 1000',\n",
        "    palette='muted',\n",
        "    variable_labels={\n",
        "        'pandemia_dummy': 'Pandemic Onset',\n",
        "        'pos_pandemia_step': 'Post-Pandemic Level Change',\n",
        "        'pos_pandemia_trend': 'Post-Pandemic Trend Change'\n",
        "    },\n",
        "    figsize=(10, 6)\n",
        ")\n",
        "\"\"\""
      ]
    },
    {
      "cell_type": "code",
      "execution_count": 1589,
      "metadata": {},
      "outputs": [
        {
          "name": "stderr",
          "output_type": "stream",
          "text": [
            "C:\\Users\\Lucas\\AppData\\Local\\Temp\\ipykernel_17688\\153297669.py:75: UserWarning:\n",
            "\n",
            "\n",
            "\n",
            "The `join` parameter is deprecated and will be removed in v0.15.0. You can remove the line between points with `linestyle='none'`.\n",
            "\n",
            "\n"
          ]
        },
        {
          "data": {
            "text/plain": [
              "<Axes: title={'center': 'Mental Health Visit Rate Changes During Pandemic'}, xlabel='Change in Visits per 1000', ylabel='Variable'>"
            ]
          },
          "execution_count": 1589,
          "metadata": {},
          "output_type": "execute_result"
        },
        {
          "data": {
            "image/png": "[encoded data removed]",
            "text/plain": [
              "<Figure size 1000x600 with 1 Axes>"
            ]
          },
          "metadata": {},
          "output_type": "display_data"
        }
      ],
      "source": [
        "plot_multiple_regions(\n",
        "    results,\n",
        "    pandemic_vars=DUMMY_NAMES,\n",
        "\n",
        "    title='Mental Health Visit Rate Changes During Pandemic',\n",
        "    x_label='Change in Visits per 1000',\n",
        "    palette='muted',\n",
        "    variable_labels={\n",
        "        'pandemia_dummy': 'Pandemic Onset',\n",
        "        'pos_pandemia_step': 'Post-Pandemic Level Change',\n",
        "        'pos_pandemia_trend': 'Post-Pandemic Trend Change'\n",
        "    },\n",
        "    figsize=(10, 6)\n",
        ")"
      ]
    },
    {
      "cell_type": "code",
      "execution_count": 1590,
      "metadata": {},
      "outputs": [
        {
          "data": {
            "text/plain": [
              "'\\n# Assuming:\\n# - Your model is already fitted (results)\\n# - Your X dataframe has a time column (e.g., \\'month\\')\\n# - Pandemic started at specific time (e.g., pd.Timestamp(\\'2020-03-01\\'))\\n\\nplot_its_predictions(\\n    results=model_results,\\n    X=X_with_time,\\n    time_var=\\'month\\',  # column name with time values\\n    intervention_time=pd.Timestamp(\\'2020-03-01\\'),\\n    outcome_label=\"Mental health visits per 1000 total visits\",\\n    title=\"Mental Health Visit Rates Before and During Pandemic\"\\n)\\n'"
            ]
          },
          "execution_count": 1590,
          "metadata": {},
          "output_type": "execute_result"
        }
      ],
      "source": [
        "import matplotlib.pyplot as plt\n",
        "import numpy as np\n",
        "import pandas as pd\n",
        "import seaborn as sns\n",
        "\n",
        "def plot_its_predictions(results, X, time_var, intervention_time, \n",
        "                         outcome_label=\"Mental health visits per 1000\",\n",
        "                         title=\"Interrupted Time Series Analysis\",\n",
        "                         figsize=(12, 6),\n",
        "                         prediction_color='#E69F00',\n",
        "                         intervention_color='red',\n",
        "                         alpha=0.7,\n",
        "                         ylim=None):\n",
        "    \"\"\"\n",
        "    Plot ITS predictions from a fitted GLM model.\n",
        "    \n",
        "    Parameters:\n",
        "    - results: Fitted GLM model results\n",
        "    - X: DataFrame used in the model (must include time variable)\n",
        "    - time_var: Name of the time variable column in X\n",
        "    - intervention_time: Time point of intervention (pandemic start)\n",
        "    - outcome_label: Label for y-axis\n",
        "    - title: Plot title\n",
        "    - figsize: Figure size\n",
        "    - prediction_color: Color for prediction line\n",
        "    - intervention_color: Color for intervention line\n",
        "    - alpha: Transparency for confidence interval\n",
        "    - ylim: Optional tuple for y-axis limits\n",
        "    \"\"\"\n",
        "    \n",
        "    plt.figure(figsize=figsize)\n",
        "    \n",
        "    # Create prediction dataframe\n",
        "    pred_df = X.copy()\n",
        "    pred_df['prediction'] = results.predict(exog=X)\n",
        "    \n",
        "    # Sort by time if not already sorted\n",
        "    pred_df = pred_df.sort_values(time_var)\n",
        "    \n",
        "    # Plot predictions\n",
        "    plt.plot(pred_df[time_var], pred_df['prediction'], \n",
        "             color=prediction_color, linewidth=2.5, \n",
        "             label='Predicted rate')\n",
        "    \n",
        "    # Add intervention line\n",
        "    plt.axvline(x=intervention_time, color=intervention_color, \n",
        "                linestyle='--', alpha=0.7, label='Pandemic start')\n",
        "    \n",
        "    # Format plot\n",
        "    plt.title(title, fontsize=14, pad=20)\n",
        "    plt.ylabel(outcome_label, fontsize=12)\n",
        "    plt.xlabel('Time', fontsize=12)\n",
        "    \n",
        "    # Rotate x-axis labels if they're dates\n",
        "    if np.issubdtype(pred_df[time_var].dtype, np.datetime64):\n",
        "        plt.xticks(rotation=45)\n",
        "    \n",
        "    if ylim is not None:\n",
        "        plt.ylim(ylim)\n",
        "    \n",
        "    plt.grid(alpha=0.2)\n",
        "    plt.legend(loc='upper left')\n",
        "    plt.tight_layout()\n",
        "    plt.show()\n",
        "\n",
        "# Example usage:\n",
        "\"\"\"\n",
        "# Assuming:\n",
        "# - Your model is already fitted (results)\n",
        "# - Your X dataframe has a time column (e.g., 'month')\n",
        "# - Pandemic started at specific time (e.g., pd.Timestamp('2020-03-01'))\n",
        "\n",
        "plot_its_predictions(\n",
        "    results=model_results,\n",
        "    X=X_with_time,\n",
        "    time_var='month',  # column name with time values\n",
        "    intervention_time=pd.Timestamp('2020-03-01'),\n",
        "    outcome_label=\"Mental health visits per 1000 total visits\",\n",
        "    title=\"Mental Health Visit Rates Before and During Pandemic\"\n",
        ")\n",
        "\"\"\""
      ]
    },
    {
      "cell_type": "markdown",
      "metadata": {
        "id": "deLbYC8XNIX5"
      },
      "source": [
        "# EXEC --- Plot Graph"
      ]
    },
    {
      "cell_type": "code",
      "execution_count": 1591,
      "metadata": {
        "colab": {
          "base_uri": "https://localhost:8080/",
          "height": 1000
        },
        "id": "5rCs4_ohNIX6",
        "outputId": "73d22374-2176-4616-a44b-3072f8ea7e90"
      },
      "outputs": [
        {
          "data": {
            "application/vnd.plotly.v1+json": {
              "config": {
                "plotlyServerURL": "https://plot.ly"
              },
              "data": [
                {
                  "line": {
                    "color": "black",
                    "dash": "dot"
                  },
                  "mode": "lines",
                  "name": "Baseline",
                  "type": "scatter",
                  "x": [
                    "2018-01-01T00:00:00.000000000",
                    "2018-02-01T00:00:00.000000000",
                    "2018-03-01T00:00:00.000000000",
                    "2018-04-01T00:00:00.000000000",
                    "2018-05-01T00:00:00.000000000",
                    "2018-06-01T00:00:00.000000000",
                    "2018-07-01T00:00:00.000000000",
                    "2018-08-01T00:00:00.000000000",
                    "2018-09-01T00:00:00.000000000",
                    "2018-10-01T00:00:00.000000000",
                    "2018-11-01T00:00:00.000000000",
                    "2018-12-01T00:00:00.000000000",
                    "2019-01-01T00:00:00.000000000",
                    "2019-02-01T00:00:00.000000000",
                    "2019-03-01T00:00:00.000000000",
                    "2019-04-01T00:00:00.000000000",
                    "2019-05-01T00:00:00.000000000",
                    "2019-06-01T00:00:00.000000000",
                    "2019-07-01T00:00:00.000000000",
                    "2019-08-01T00:00:00.000000000",
                    "2019-09-01T00:00:00.000000000",
                    "2019-10-01T00:00:00.000000000",
                    "2019-11-01T00:00:00.000000000",
                    "2019-12-01T00:00:00.000000000",
                    "2020-01-01T00:00:00.000000000",
                    "2020-02-01T00:00:00.000000000",
                    "2020-03-01T00:00:00.000000000",
                    "2020-04-01T00:00:00.000000000",
                    "2020-05-01T00:00:00.000000000",
                    "2020-06-01T00:00:00.000000000",
                    "2020-07-01T00:00:00.000000000",
                    "2020-08-01T00:00:00.000000000",
                    "2020-09-01T00:00:00.000000000",
                    "2020-10-01T00:00:00.000000000",
                    "2020-11-01T00:00:00.000000000",
                    "2020-12-01T00:00:00.000000000",
                    "2021-01-01T00:00:00.000000000",
                    "2021-02-01T00:00:00.000000000",
                    "2021-03-01T00:00:00.000000000",
                    "2021-04-01T00:00:00.000000000",
                    "2021-05-01T00:00:00.000000000",
                    "2021-06-01T00:00:00.000000000",
                    "2021-07-01T00:00:00.000000000",
                    "2021-08-01T00:00:00.000000000",
                    "2021-09-01T00:00:00.000000000",
                    "2021-10-01T00:00:00.000000000",
                    "2021-11-01T00:00:00.000000000",
                    "2021-12-01T00:00:00.000000000",
                    "2022-01-01T00:00:00.000000000",
                    "2022-02-01T00:00:00.000000000",
                    "2022-03-01T00:00:00.000000000",
                    "2022-04-01T00:00:00.000000000",
                    "2022-05-01T00:00:00.000000000",
                    "2022-06-01T00:00:00.000000000",
                    "2022-07-01T00:00:00.000000000",
                    "2022-08-01T00:00:00.000000000",
                    "2022-09-01T00:00:00.000000000",
                    "2022-10-01T00:00:00.000000000",
                    "2022-11-01T00:00:00.000000000",
                    "2022-12-01T00:00:00.000000000",
                    "2023-01-01T00:00:00.000000000",
                    "2023-02-01T00:00:00.000000000",
                    "2023-03-01T00:00:00.000000000",
                    "2023-04-01T00:00:00.000000000",
                    "2023-05-01T00:00:00.000000000",
                    "2023-06-01T00:00:00.000000000",
                    "2023-07-01T00:00:00.000000000",
                    "2023-08-01T00:00:00.000000000",
                    "2023-09-01T00:00:00.000000000",
                    "2023-10-01T00:00:00.000000000",
                    "2023-11-01T00:00:00.000000000",
                    "2023-12-01T00:00:00.000000000"
                  ],
                  "y": [
                    16.576131964100092,
                    16.76891328616777,
                    16.963936665563335,
                    17.161228177536227,
                    17.36081420059249,
                    17.562721420021603,
                    17.766976831464444,
                    17.97360774452266,
                    18.18264178641007,
                    18.394106905646492,
                    18.608031375794567,
                    18.82444379924001,
                    19.043373111015864,
                    19.26484858267117,
                    19.4888998261847,
                    19.715556797924148,
                    19.944849802651415,
                    20.176809497574435,
                    20.411466896446143,
                    20.648853373711145,
                    20.889000668700525,
                    21.131940889875537,
                    21.377706519120597,
                    21.626330416086212,
                    21.877845822582426,
                    22.13228636702334,
                    22.389686068923385,
                    22.650079343445775,
                    22.91350100600397,
                    23.179986276916583,
                    23.449570786116478,
                    23.72229057791457,
                    23.998182115819098,
                    24.277282287410888,
                    24.559628409275344,
                    24.845258231991828,
                    25.13420994518098,
                    25.42652218261083,
                    25.72223402736224,
                    26.021385017054442,
                    26.324015149131345,
                    26.63016488620931,
                    26.939875161487173,
                    27.253187384219085,
                    27.57014344525109,
                    27.890785722622073,
                    28.215157087229827,
                    28.543300908563037,
                    28.875261060499895,
                    29.211081927174245,
                    29.55080840890979,
                    29.894485928223478,
                    30.242160435898608,
                    30.593878417128607,
                    30.949686897732242,
                    31.30963345044112,
                    31.673766201260367,
                    32.042133835903094,
                    32.41478560630001,
                    32.79177133718443,
                    33.17314143275404,
                    33.55894688341012,
                    33.94923927257511,
                    34.344070783589466,
                    34.74349420668873,
                    35.14756294606183,
                    35.556331026991295,
                    35.96985310307664,
                    36.38818446354175,
                    36.81138104062721,
                    37.23949941706862,
                    37.672596833661885
                  ]
                },
                {
                  "marker": {
                    "color": "black"
                  },
                  "mode": "markers",
                  "name": "Real",
                  "type": "scatter",
                  "x": [
                    "2018-01-01T00:00:00.000000000",
                    "2018-02-01T00:00:00.000000000",
                    "2018-03-01T00:00:00.000000000",
                    "2018-04-01T00:00:00.000000000",
                    "2018-05-01T00:00:00.000000000",
                    "2018-06-01T00:00:00.000000000",
                    "2018-07-01T00:00:00.000000000",
                    "2018-08-01T00:00:00.000000000",
                    "2018-09-01T00:00:00.000000000",
                    "2018-10-01T00:00:00.000000000",
                    "2018-11-01T00:00:00.000000000",
                    "2018-12-01T00:00:00.000000000",
                    "2019-01-01T00:00:00.000000000",
                    "2019-02-01T00:00:00.000000000",
                    "2019-03-01T00:00:00.000000000",
                    "2019-04-01T00:00:00.000000000",
                    "2019-05-01T00:00:00.000000000",
                    "2019-06-01T00:00:00.000000000",
                    "2019-07-01T00:00:00.000000000",
                    "2019-08-01T00:00:00.000000000",
                    "2019-09-01T00:00:00.000000000",
                    "2019-10-01T00:00:00.000000000",
                    "2019-11-01T00:00:00.000000000",
                    "2019-12-01T00:00:00.000000000",
                    "2020-01-01T00:00:00.000000000",
                    "2020-02-01T00:00:00.000000000",
                    "2020-03-01T00:00:00.000000000",
                    "2020-04-01T00:00:00.000000000",
                    "2020-05-01T00:00:00.000000000",
                    "2020-06-01T00:00:00.000000000",
                    "2020-07-01T00:00:00.000000000",
                    "2020-08-01T00:00:00.000000000",
                    "2020-09-01T00:00:00.000000000",
                    "2020-10-01T00:00:00.000000000",
                    "2020-11-01T00:00:00.000000000",
                    "2020-12-01T00:00:00.000000000",
                    "2021-01-01T00:00:00.000000000",
                    "2021-02-01T00:00:00.000000000",
                    "2021-03-01T00:00:00.000000000",
                    "2021-04-01T00:00:00.000000000",
                    "2021-05-01T00:00:00.000000000",
                    "2021-06-01T00:00:00.000000000",
                    "2021-07-01T00:00:00.000000000",
                    "2021-08-01T00:00:00.000000000",
                    "2021-09-01T00:00:00.000000000",
                    "2021-10-01T00:00:00.000000000",
                    "2021-11-01T00:00:00.000000000",
                    "2021-12-01T00:00:00.000000000",
                    "2022-01-01T00:00:00.000000000",
                    "2022-02-01T00:00:00.000000000",
                    "2022-03-01T00:00:00.000000000",
                    "2022-04-01T00:00:00.000000000",
                    "2022-05-01T00:00:00.000000000",
                    "2022-06-01T00:00:00.000000000",
                    "2022-07-01T00:00:00.000000000",
                    "2022-08-01T00:00:00.000000000",
                    "2022-09-01T00:00:00.000000000",
                    "2022-10-01T00:00:00.000000000",
                    "2022-11-01T00:00:00.000000000",
                    "2022-12-01T00:00:00.000000000",
                    "2023-01-01T00:00:00.000000000",
                    "2023-02-01T00:00:00.000000000",
                    "2023-03-01T00:00:00.000000000",
                    "2023-04-01T00:00:00.000000000",
                    "2023-05-01T00:00:00.000000000",
                    "2023-06-01T00:00:00.000000000",
                    "2023-07-01T00:00:00.000000000",
                    "2023-08-01T00:00:00.000000000",
                    "2023-09-01T00:00:00.000000000",
                    "2023-10-01T00:00:00.000000000",
                    "2023-11-01T00:00:00.000000000",
                    "2023-12-01T00:00:00.000000000"
                  ],
                  "y": [
                    16.87053411847006,
                    17.55021440409405,
                    16.87111187683952,
                    17.079568099894924,
                    16.849241324863495,
                    18.185498943737976,
                    17.781336510017898,
                    18.184054252662456,
                    18.528432957162202,
                    18.809953366681736,
                    18.931695030918835,
                    18.767265184773798,
                    17.5176211263095,
                    18.111987080711273,
                    19.117295660812978,
                    18.36959981997113,
                    18.55053543667368,
                    19.280303074341717,
                    19.963337889755348,
                    21.377673637841006,
                    21.372801357517076,
                    21.401995696464677,
                    21.792718000341456,
                    22.702188875815867,
                    22.434110259324033,
                    22.794440600026245,
                    23.13017004603683,
                    29.61341644766306,
                    27.984817304290043,
                    26.78920706592315,
                    24.73251368707704,
                    24.87299891704095,
                    25.94946930780557,
                    25.396592316724615,
                    25.130832616294782,
                    25.39158093668865,
                    24.433467109907447,
                    24.799845312692558,
                    23.68427453585575,
                    25.048406069920432,
                    23.157465827293702,
                    24.007072687577196,
                    25.400401130010685,
                    26.545137963892543,
                    27.562781466718555,
                    26.742580559278423,
                    26.27204653293438,
                    25.356316252283634,
                    19.272148218264114,
                    24.873580864721994,
                    26.451798691272167,
                    25.702799031052,
                    24.756384487644606,
                    23.93998708412234,
                    24.540505733093376,
                    26.105625142352466,
                    28.75304504122353,
                    27.83063498255684,
                    26.78379709085502,
                    26.747333493339685,
                    29.233691212191097,
                    29.949854981909972,
                    28.256342010204616,
                    27.25784981574385,
                    28.71085074304191,
                    29.374168157961616,
                    30.188317709881826,
                    30.943710777062105,
                    32.32330351676946,
                    31.58874078898992,
                    31.306379228123475,
                    31.295097118475084
                  ]
                },
                {
                  "line": {
                    "color": "purple"
                  },
                  "mode": "lines",
                  "name": "Full model",
                  "type": "scatter",
                  "x": [
                    "2018-01-01T00:00:00.000000000",
                    "2018-02-01T00:00:00.000000000",
                    "2018-03-01T00:00:00.000000000",
                    "2018-04-01T00:00:00.000000000",
                    "2018-05-01T00:00:00.000000000",
                    "2018-06-01T00:00:00.000000000",
                    "2018-07-01T00:00:00.000000000",
                    "2018-08-01T00:00:00.000000000",
                    "2018-09-01T00:00:00.000000000",
                    "2018-10-01T00:00:00.000000000",
                    "2018-11-01T00:00:00.000000000",
                    "2018-12-01T00:00:00.000000000",
                    "2019-01-01T00:00:00.000000000",
                    "2019-02-01T00:00:00.000000000",
                    "2019-03-01T00:00:00.000000000",
                    "2019-04-01T00:00:00.000000000",
                    "2019-05-01T00:00:00.000000000",
                    "2019-06-01T00:00:00.000000000",
                    "2019-07-01T00:00:00.000000000",
                    "2019-08-01T00:00:00.000000000",
                    "2019-09-01T00:00:00.000000000",
                    "2019-10-01T00:00:00.000000000",
                    "2019-11-01T00:00:00.000000000",
                    "2019-12-01T00:00:00.000000000",
                    "2020-01-01T00:00:00.000000000",
                    "2020-02-01T00:00:00.000000000",
                    "2020-03-01T00:00:00.000000000",
                    "2020-04-01T00:00:00.000000000",
                    "2020-05-01T00:00:00.000000000",
                    "2020-06-01T00:00:00.000000000",
                    "2020-07-01T00:00:00.000000000",
                    "2020-08-01T00:00:00.000000000",
                    "2020-09-01T00:00:00.000000000",
                    "2020-10-01T00:00:00.000000000",
                    "2020-11-01T00:00:00.000000000",
                    "2020-12-01T00:00:00.000000000",
                    "2021-01-01T00:00:00.000000000",
                    "2021-02-01T00:00:00.000000000",
                    "2021-03-01T00:00:00.000000000",
                    "2021-04-01T00:00:00.000000000",
                    "2021-05-01T00:00:00.000000000",
                    "2021-06-01T00:00:00.000000000",
                    "2021-07-01T00:00:00.000000000",
                    "2021-08-01T00:00:00.000000000",
                    "2021-09-01T00:00:00.000000000",
                    "2021-10-01T00:00:00.000000000",
                    "2021-11-01T00:00:00.000000000",
                    "2021-12-01T00:00:00.000000000",
                    "2022-01-01T00:00:00.000000000",
                    "2022-02-01T00:00:00.000000000",
                    "2022-03-01T00:00:00.000000000",
                    "2022-04-01T00:00:00.000000000",
                    "2022-05-01T00:00:00.000000000",
                    "2022-06-01T00:00:00.000000000",
                    "2022-07-01T00:00:00.000000000",
                    "2022-08-01T00:00:00.000000000",
                    "2022-09-01T00:00:00.000000000",
                    "2022-10-01T00:00:00.000000000",
                    "2022-11-01T00:00:00.000000000",
                    "2022-12-01T00:00:00.000000000",
                    "2023-01-01T00:00:00.000000000",
                    "2023-02-01T00:00:00.000000000",
                    "2023-03-01T00:00:00.000000000",
                    "2023-04-01T00:00:00.000000000",
                    "2023-05-01T00:00:00.000000000",
                    "2023-06-01T00:00:00.000000000",
                    "2023-07-01T00:00:00.000000000",
                    "2023-08-01T00:00:00.000000000",
                    "2023-09-01T00:00:00.000000000",
                    "2023-10-01T00:00:00.000000000",
                    "2023-11-01T00:00:00.000000000",
                    "2023-12-01T00:00:00.000000000"
                  ],
                  "y": [
                    16.576131964100092,
                    16.76891328616777,
                    16.963936665563335,
                    17.161228177536227,
                    17.36081420059249,
                    17.562721420021603,
                    17.766976831464444,
                    17.97360774452266,
                    18.18264178641007,
                    18.394106905646492,
                    18.608031375794567,
                    18.82444379924001,
                    19.043373111015864,
                    19.26484858267117,
                    19.4888998261847,
                    19.715556797924148,
                    19.944849802651415,
                    20.176809497574435,
                    20.411466896446143,
                    20.648853373711145,
                    20.889000668700525,
                    21.131940889875537,
                    21.377706519120597,
                    21.626330416086212,
                    21.877845822582426,
                    22.13228636702334,
                    22.389686068923385,
                    28.269648018829457,
                    28.25740016893432,
                    28.245157625430952,
                    25.120554082281526,
                    25.109670580107128,
                    25.09879179321963,
                    25.08791771957613,
                    25.0770483571346,
                    25.066183703853937,
                    25.055323757693866,
                    25.044468516615034,
                    25.033617978578953,
                    25.02277214154803,
                    25.01193100348555,
                    25.001094562355682,
                    24.990262816123476,
                    24.97943576275486,
                    24.96861340021665,
                    24.95779572647654,
                    24.946982739503113,
                    24.9361744372658,
                    24.92537081773494,
                    24.914571878881763,
                    24.90377761867835,
                    24.866802515695873,
                    25.1922641881088,
                    25.52198556782196,
                    25.856022406734365,
                    26.19443118643693,
                    26.537269127763,
                    26.884594200463518,
                    27.23646513300913,
                    27.592941422520433,
                    27.954083344828167,
                    28.319951964665208,
                    28.690609145991836,
                    29.066117562456153,
                    29.446540707991506,
                    29.8319429075525,
                    30.222389327991568,
                    30.61794598907794,
                    31.0186797746607,
                    31.424658443978156,
                    31.835950643114987,
                    32.25262591660957
                  ]
                }
              ],
              "layout": {
                "annotations": [
                  {
                    "arrowhead": 2,
                    "ax": 30,
                    "ay": -40,
                    "showarrow": true,
                    "text": "Pandemia",
                    "x": "2020-04-01",
                    "y": 32.32330351676946
                  },
                  {
                    "arrowhead": 2,
                    "ax": 30,
                    "ay": -40,
                    "showarrow": true,
                    "text": "Pos Pandemia",
                    "x": "2022-04-01",
                    "y": 32.32330351676946
                  }
                ],
                "legend": {
                  "title": {
                    "text": "Legend"
                  }
                },
                "shapes": [
                  {
                    "line": {
                      "color": "black",
                      "dash": "dash"
                    },
                    "type": "line",
                    "x0": "2020-04-01",
                    "x1": "2020-04-01",
                    "y0": 16.849241324863495,
                    "y1": 32.32330351676946
                  },
                  {
                    "line": {
                      "color": "black",
                      "dash": "dash"
                    },
                    "type": "line",
                    "x0": "2022-04-01",
                    "x1": "2022-04-01",
                    "y0": 16.849241324863495,
                    "y1": 32.32330351676946
                  }
                ],
                "template": {
                  "data": {
                    "bar": [
                      {
                        "error_x": {
                          "color": "#2a3f5f"
                        },
                        "error_y": {
                          "color": "#2a3f5f"
                        },
                        "marker": {
                          "line": {
                            "color": "#E5ECF6",
                            "width": 0.5
                          },
                          "pattern": {
                            "fillmode": "overlay",
                            "size": 10,
                            "solidity": 0.2
                          }
                        },
                        "type": "bar"
                      }
                    ],
                    "barpolar": [
                      {
                        "marker": {
                          "line": {
                            "color": "#E5ECF6",
                            "width": 0.5
                          },
                          "pattern": {
                            "fillmode": "overlay",
                            "size": 10,
                            "solidity": 0.2
                          }
                        },
                        "type": "barpolar"
                      }
                    ],
                    "carpet": [
                      {
                        "aaxis": {
                          "endlinecolor": "#2a3f5f",
                          "gridcolor": "white",
                          "linecolor": "white",
                          "minorgridcolor": "white",
                          "startlinecolor": "#2a3f5f"
                        },
                        "baxis": {
                          "endlinecolor": "#2a3f5f",
                          "gridcolor": "white",
                          "linecolor": "white",
                          "minorgridcolor": "white",
                          "startlinecolor": "#2a3f5f"
                        },
                        "type": "carpet"
                      }
                    ],
                    "choropleth": [
                      {
                        "colorbar": {
                          "outlinewidth": 0,
                          "ticks": ""
                        },
                        "type": "choropleth"
                      }
                    ],
                    "contour": [
                      {
                        "colorbar": {
                          "outlinewidth": 0,
                          "ticks": ""
                        },
                        "colorscale": [
                          [
                            0,
                            "#0d0887"
                          ],
                          [
                            0.1111111111111111,
                            "#46039f"
                          ],
                          [
                            0.2222222222222222,
                            "#7201a8"
                          ],
                          [
                            0.3333333333333333,
                            "#9c179e"
                          ],
                          [
                            0.4444444444444444,
                            "#bd3786"
                          ],
                          [
                            0.5555555555555556,
                            "#d8576b"
                          ],
                          [
                            0.6666666666666666,
                            "#ed7953"
                          ],
                          [
                            0.7777777777777778,
                            "#fb9f3a"
                          ],
                          [
                            0.8888888888888888,
                            "#fdca26"
                          ],
                          [
                            1,
                            "#f0f921"
                          ]
                        ],
                        "type": "contour"
                      }
                    ],
                    "contourcarpet": [
                      {
                        "colorbar": {
                          "outlinewidth": 0,
                          "ticks": ""
                        },
                        "type": "contourcarpet"
                      }
                    ],
                    "heatmap": [
                      {
                        "colorbar": {
                          "outlinewidth": 0,
                          "ticks": ""
                        },
                        "colorscale": [
                          [
                            0,
                            "#0d0887"
                          ],
                          [
                            0.1111111111111111,
                            "#46039f"
                          ],
                          [
                            0.2222222222222222,
                            "#7201a8"
                          ],
                          [
                            0.3333333333333333,
                            "#9c179e"
                          ],
                          [
                            0.4444444444444444,
                            "#bd3786"
                          ],
                          [
                            0.5555555555555556,
                            "#d8576b"
                          ],
                          [
                            0.6666666666666666,
                            "#ed7953"
                          ],
                          [
                            0.7777777777777778,
                            "#fb9f3a"
                          ],
                          [
                            0.8888888888888888,
                            "#fdca26"
                          ],
                          [
                            1,
                            "#f0f921"
                          ]
                        ],
                        "type": "heatmap"
                      }
                    ],
                    "heatmapgl": [
                      {
                        "colorbar": {
                          "outlinewidth": 0,
                          "ticks": ""
                        },
                        "colorscale": [
                          [
                            0,
                            "#0d0887"
                          ],
                          [
                            0.1111111111111111,
                            "#46039f"
                          ],
                          [
                            0.2222222222222222,
                            "#7201a8"
                          ],
                          [
                            0.3333333333333333,
                            "#9c179e"
                          ],
                          [
                            0.4444444444444444,
                            "#bd3786"
                          ],
                          [
                            0.5555555555555556,
                            "#d8576b"
                          ],
                          [
                            0.6666666666666666,
                            "#ed7953"
                          ],
                          [
                            0.7777777777777778,
                            "#fb9f3a"
                          ],
                          [
                            0.8888888888888888,
                            "#fdca26"
                          ],
                          [
                            1,
                            "#f0f921"
                          ]
                        ],
                        "type": "heatmapgl"
                      }
                    ],
                    "histogram": [
                      {
                        "marker": {
                          "pattern": {
                            "fillmode": "overlay",
                            "size": 10,
                            "solidity": 0.2
                          }
                        },
                        "type": "histogram"
                      }
                    ],
                    "histogram2d": [
                      {
                        "colorbar": {
                          "outlinewidth": 0,
                          "ticks": ""
                        },
                        "colorscale": [
                          [
                            0,
                            "#0d0887"
                          ],
                          [
                            0.1111111111111111,
                            "#46039f"
                          ],
                          [
                            0.2222222222222222,
                            "#7201a8"
                          ],
                          [
                            0.3333333333333333,
                            "#9c179e"
                          ],
                          [
                            0.4444444444444444,
                            "#bd3786"
                          ],
                          [
                            0.5555555555555556,
                            "#d8576b"
                          ],
                          [
                            0.6666666666666666,
                            "#ed7953"
                          ],
                          [
                            0.7777777777777778,
                            "#fb9f3a"
                          ],
                          [
                            0.8888888888888888,
                            "#fdca26"
                          ],
                          [
                            1,
                            "#f0f921"
                          ]
                        ],
                        "type": "histogram2d"
                      }
                    ],
                    "histogram2dcontour": [
                      {
                        "colorbar": {
                          "outlinewidth": 0,
                          "ticks": ""
                        },
                        "colorscale": [
                          [
                            0,
                            "#0d0887"
                          ],
                          [
                            0.1111111111111111,
                            "#46039f"
                          ],
                          [
                            0.2222222222222222,
                            "#7201a8"
                          ],
                          [
                            0.3333333333333333,
                            "#9c179e"
                          ],
                          [
                            0.4444444444444444,
                            "#bd3786"
                          ],
                          [
                            0.5555555555555556,
                            "#d8576b"
                          ],
                          [
                            0.6666666666666666,
                            "#ed7953"
                          ],
                          [
                            0.7777777777777778,
                            "#fb9f3a"
                          ],
                          [
                            0.8888888888888888,
                            "#fdca26"
                          ],
                          [
                            1,
                            "#f0f921"
                          ]
                        ],
                        "type": "histogram2dcontour"
                      }
                    ],
                    "mesh3d": [
                      {
                        "colorbar": {
                          "outlinewidth": 0,
                          "ticks": ""
                        },
                        "type": "mesh3d"
                      }
                    ],
                    "parcoords": [
                      {
                        "line": {
                          "colorbar": {
                            "outlinewidth": 0,
                            "ticks": ""
                          }
                        },
                        "type": "parcoords"
                      }
                    ],
                    "pie": [
                      {
                        "automargin": true,
                        "type": "pie"
                      }
                    ],
                    "scatter": [
                      {
                        "fillpattern": {
                          "fillmode": "overlay",
                          "size": 10,
                          "solidity": 0.2
                        },
                        "type": "scatter"
                      }
                    ],
                    "scatter3d": [
                      {
                        "line": {
                          "colorbar": {
                            "outlinewidth": 0,
                            "ticks": ""
                          }
                        },
                        "marker": {
                          "colorbar": {
                            "outlinewidth": 0,
                            "ticks": ""
                          }
                        },
                        "type": "scatter3d"
                      }
                    ],
                    "scattercarpet": [
                      {
                        "marker": {
                          "colorbar": {
                            "outlinewidth": 0,
                            "ticks": ""
                          }
                        },
                        "type": "scattercarpet"
                      }
                    ],
                    "scattergeo": [
                      {
                        "marker": {
                          "colorbar": {
                            "outlinewidth": 0,
                            "ticks": ""
                          }
                        },
                        "type": "scattergeo"
                      }
                    ],
                    "scattergl": [
                      {
                        "marker": {
                          "colorbar": {
                            "outlinewidth": 0,
                            "ticks": ""
                          }
                        },
                        "type": "scattergl"
                      }
                    ],
                    "scattermapbox": [
                      {
                        "marker": {
                          "colorbar": {
                            "outlinewidth": 0,
                            "ticks": ""
                          }
                        },
                        "type": "scattermapbox"
                      }
                    ],
                    "scatterpolar": [
                      {
                        "marker": {
                          "colorbar": {
                            "outlinewidth": 0,
                            "ticks": ""
                          }
                        },
                        "type": "scatterpolar"
                      }
                    ],
                    "scatterpolargl": [
                      {
                        "marker": {
                          "colorbar": {
                            "outlinewidth": 0,
                            "ticks": ""
                          }
                        },
                        "type": "scatterpolargl"
                      }
                    ],
                    "scatterternary": [
                      {
                        "marker": {
                          "colorbar": {
                            "outlinewidth": 0,
                            "ticks": ""
                          }
                        },
                        "type": "scatterternary"
                      }
                    ],
                    "surface": [
                      {
                        "colorbar": {
                          "outlinewidth": 0,
                          "ticks": ""
                        },
                        "colorscale": [
                          [
                            0,
                            "#0d0887"
                          ],
                          [
                            0.1111111111111111,
                            "#46039f"
                          ],
                          [
                            0.2222222222222222,
                            "#7201a8"
                          ],
                          [
                            0.3333333333333333,
                            "#9c179e"
                          ],
                          [
                            0.4444444444444444,
                            "#bd3786"
                          ],
                          [
                            0.5555555555555556,
                            "#d8576b"
                          ],
                          [
                            0.6666666666666666,
                            "#ed7953"
                          ],
                          [
                            0.7777777777777778,
                            "#fb9f3a"
                          ],
                          [
                            0.8888888888888888,
                            "#fdca26"
                          ],
                          [
                            1,
                            "#f0f921"
                          ]
                        ],
                        "type": "surface"
                      }
                    ],
                    "table": [
                      {
                        "cells": {
                          "fill": {
                            "color": "#EBF0F8"
                          },
                          "line": {
                            "color": "white"
                          }
                        },
                        "header": {
                          "fill": {
                            "color": "#C8D4E3"
                          },
                          "line": {
                            "color": "white"
                          }
                        },
                        "type": "table"
                      }
                    ]
                  },
                  "layout": {
                    "annotationdefaults": {
                      "arrowcolor": "#2a3f5f",
                      "arrowhead": 0,
                      "arrowwidth": 1
                    },
                    "autotypenumbers": "strict",
                    "coloraxis": {
                      "colorbar": {
                        "outlinewidth": 0,
                        "ticks": ""
                      }
                    },
                    "colorscale": {
                      "diverging": [
                        [
                          0,
                          "#8e0152"
                        ],
                        [
                          0.1,
                          "#c51b7d"
                        ],
                        [
                          0.2,
                          "#de77ae"
                        ],
                        [
                          0.3,
                          "#f1b6da"
                        ],
                        [
                          0.4,
                          "#fde0ef"
                        ],
                        [
                          0.5,
                          "#f7f7f7"
                        ],
                        [
                          0.6,
                          "#e6f5d0"
                        ],
                        [
                          0.7,
                          "#b8e186"
                        ],
                        [
                          0.8,
                          "#7fbc41"
                        ],
                        [
                          0.9,
                          "#4d9221"
                        ],
                        [
                          1,
                          "#276419"
                        ]
                      ],
                      "sequential": [
                        [
                          0,
                          "#0d0887"
                        ],
                        [
                          0.1111111111111111,
                          "#46039f"
                        ],
                        [
                          0.2222222222222222,
                          "#7201a8"
                        ],
                        [
                          0.3333333333333333,
                          "#9c179e"
                        ],
                        [
                          0.4444444444444444,
                          "#bd3786"
                        ],
                        [
                          0.5555555555555556,
                          "#d8576b"
                        ],
                        [
                          0.6666666666666666,
                          "#ed7953"
                        ],
                        [
                          0.7777777777777778,
                          "#fb9f3a"
                        ],
                        [
                          0.8888888888888888,
                          "#fdca26"
                        ],
                        [
                          1,
                          "#f0f921"
                        ]
                      ],
                      "sequentialminus": [
                        [
                          0,
                          "#0d0887"
                        ],
                        [
                          0.1111111111111111,
                          "#46039f"
                        ],
                        [
                          0.2222222222222222,
                          "#7201a8"
                        ],
                        [
                          0.3333333333333333,
                          "#9c179e"
                        ],
                        [
                          0.4444444444444444,
                          "#bd3786"
                        ],
                        [
                          0.5555555555555556,
                          "#d8576b"
                        ],
                        [
                          0.6666666666666666,
                          "#ed7953"
                        ],
                        [
                          0.7777777777777778,
                          "#fb9f3a"
                        ],
                        [
                          0.8888888888888888,
                          "#fdca26"
                        ],
                        [
                          1,
                          "#f0f921"
                        ]
                      ]
                    },
                    "colorway": [
                      "#636efa",
                      "#EF553B",
                      "#00cc96",
                      "#ab63fa",
                      "#FFA15A",
                      "#19d3f3",
                      "#FF6692",
                      "#B6E880",
                      "#FF97FF",
                      "#FECB52"
                    ],
                    "font": {
                      "color": "#2a3f5f"
                    },
                    "geo": {
                      "bgcolor": "white",
                      "lakecolor": "white",
                      "landcolor": "#E5ECF6",
                      "showlakes": true,
                      "showland": true,
                      "subunitcolor": "white"
                    },
                    "hoverlabel": {
                      "align": "left"
                    },
                    "hovermode": "closest",
                    "mapbox": {
                      "style": "light"
                    },
                    "paper_bgcolor": "white",
                    "plot_bgcolor": "#E5ECF6",
                    "polar": {
                      "angularaxis": {
                        "gridcolor": "white",
                        "linecolor": "white",
                        "ticks": ""
                      },
                      "bgcolor": "#E5ECF6",
                      "radialaxis": {
                        "gridcolor": "white",
                        "linecolor": "white",
                        "ticks": ""
                      }
                    },
                    "scene": {
                      "xaxis": {
                        "backgroundcolor": "#E5ECF6",
                        "gridcolor": "white",
                        "gridwidth": 2,
                        "linecolor": "white",
                        "showbackground": true,
                        "ticks": "",
                        "zerolinecolor": "white"
                      },
                      "yaxis": {
                        "backgroundcolor": "#E5ECF6",
                        "gridcolor": "white",
                        "gridwidth": 2,
                        "linecolor": "white",
                        "showbackground": true,
                        "ticks": "",
                        "zerolinecolor": "white"
                      },
                      "zaxis": {
                        "backgroundcolor": "#E5ECF6",
                        "gridcolor": "white",
                        "gridwidth": 2,
                        "linecolor": "white",
                        "showbackground": true,
                        "ticks": "",
                        "zerolinecolor": "white"
                      }
                    },
                    "shapedefaults": {
                      "line": {
                        "color": "#2a3f5f"
                      }
                    },
                    "ternary": {
                      "aaxis": {
                        "gridcolor": "white",
                        "linecolor": "white",
                        "ticks": ""
                      },
                      "baxis": {
                        "gridcolor": "white",
                        "linecolor": "white",
                        "ticks": ""
                      },
                      "bgcolor": "#E5ECF6",
                      "caxis": {
                        "gridcolor": "white",
                        "linecolor": "white",
                        "ticks": ""
                      }
                    },
                    "title": {
                      "x": 0.05
                    },
                    "xaxis": {
                      "automargin": true,
                      "gridcolor": "white",
                      "linecolor": "white",
                      "ticks": "",
                      "title": {
                        "standoff": 15
                      },
                      "zerolinecolor": "white",
                      "zerolinewidth": 2
                    },
                    "yaxis": {
                      "automargin": true,
                      "gridcolor": "white",
                      "linecolor": "white",
                      "ticks": "",
                      "title": {
                        "standoff": 15
                      },
                      "zerolinecolor": "white",
                      "zerolinewidth": 2
                    }
                  }
                },
                "title": {
                  "text": "Brasil"
                },
                "xaxis": {
                  "title": {
                    "text": "Time"
                  }
                },
                "yaxis": {
                  "title": {
                    "text": "Value"
                  }
                }
              }
            }
          },
          "metadata": {},
          "output_type": "display_data"
        },
        {
          "data": {
            "application/vnd.plotly.v1+json": {
              "config": {
                "plotlyServerURL": "https://plot.ly"
              },
              "data": [
                {
                  "line": {
                    "color": "black",
                    "dash": "dot"
                  },
                  "mode": "lines",
                  "name": "Baseline",
                  "type": "scatter",
                  "x": [
                    "2018-01-01T00:00:00.000000000",
                    "2018-02-01T00:00:00.000000000",
                    "2018-03-01T00:00:00.000000000",
                    "2018-04-01T00:00:00.000000000",
                    "2018-05-01T00:00:00.000000000",
                    "2018-06-01T00:00:00.000000000",
                    "2018-07-01T00:00:00.000000000",
                    "2018-08-01T00:00:00.000000000",
                    "2018-09-01T00:00:00.000000000",
                    "2018-10-01T00:00:00.000000000",
                    "2018-11-01T00:00:00.000000000",
                    "2018-12-01T00:00:00.000000000",
                    "2019-01-01T00:00:00.000000000",
                    "2019-02-01T00:00:00.000000000",
                    "2019-03-01T00:00:00.000000000",
                    "2019-04-01T00:00:00.000000000",
                    "2019-05-01T00:00:00.000000000",
                    "2019-06-01T00:00:00.000000000",
                    "2019-07-01T00:00:00.000000000",
                    "2019-08-01T00:00:00.000000000",
                    "2019-09-01T00:00:00.000000000",
                    "2019-10-01T00:00:00.000000000",
                    "2019-11-01T00:00:00.000000000",
                    "2019-12-01T00:00:00.000000000",
                    "2020-01-01T00:00:00.000000000",
                    "2020-02-01T00:00:00.000000000",
                    "2020-03-01T00:00:00.000000000",
                    "2020-04-01T00:00:00.000000000",
                    "2020-05-01T00:00:00.000000000",
                    "2020-06-01T00:00:00.000000000",
                    "2020-07-01T00:00:00.000000000",
                    "2020-08-01T00:00:00.000000000",
                    "2020-09-01T00:00:00.000000000",
                    "2020-10-01T00:00:00.000000000",
                    "2020-11-01T00:00:00.000000000",
                    "2020-12-01T00:00:00.000000000",
                    "2021-01-01T00:00:00.000000000",
                    "2021-02-01T00:00:00.000000000",
                    "2021-03-01T00:00:00.000000000",
                    "2021-04-01T00:00:00.000000000",
                    "2021-05-01T00:00:00.000000000",
                    "2021-06-01T00:00:00.000000000",
                    "2021-07-01T00:00:00.000000000",
                    "2021-08-01T00:00:00.000000000",
                    "2021-09-01T00:00:00.000000000",
                    "2021-10-01T00:00:00.000000000",
                    "2021-11-01T00:00:00.000000000",
                    "2021-12-01T00:00:00.000000000",
                    "2022-01-01T00:00:00.000000000",
                    "2022-02-01T00:00:00.000000000",
                    "2022-03-01T00:00:00.000000000",
                    "2022-04-01T00:00:00.000000000",
                    "2022-05-01T00:00:00.000000000",
                    "2022-06-01T00:00:00.000000000",
                    "2022-07-01T00:00:00.000000000",
                    "2022-08-01T00:00:00.000000000",
                    "2022-09-01T00:00:00.000000000",
                    "2022-10-01T00:00:00.000000000",
                    "2022-11-01T00:00:00.000000000",
                    "2022-12-01T00:00:00.000000000",
                    "2023-01-01T00:00:00.000000000",
                    "2023-02-01T00:00:00.000000000",
                    "2023-03-01T00:00:00.000000000",
                    "2023-04-01T00:00:00.000000000",
                    "2023-05-01T00:00:00.000000000",
                    "2023-06-01T00:00:00.000000000",
                    "2023-07-01T00:00:00.000000000",
                    "2023-08-01T00:00:00.000000000",
                    "2023-09-01T00:00:00.000000000",
                    "2023-10-01T00:00:00.000000000",
                    "2023-11-01T00:00:00.000000000",
                    "2023-12-01T00:00:00.000000000"
                  ],
                  "y": [
                    19.93124299862614,
                    20.093073521172265,
                    20.25621801686244,
                    20.420687154422165,
                    20.586491689201,
                    20.753642463875952,
                    20.92215040916046,
                    21.092026544519236,
                    21.263281978888866,
                    21.435927911404296,
                    21.609975632131142,
                    21.785436522804037,
                    21.96232205757094,
                    22.14064380374343,
                    22.320413422553177,
                    22.501642669914546,
                    22.684343397193306,
                    22.86852755198168,
                    23.054207178879658,
                    23.241394420282624,
                    23.430101517175387,
                    23.620340809932735,
                    23.81212473912635,
                    24.00546584633839,
                    24.200376774981624,
                    24.396870271126275,
                    24.594959184333483,
                    24.794656468495624,
                    24.995975182683452,
                    25.198928492000025,
                    25.403529668441653,
                    25.609792091765854,
                    25.817729250366252,
                    26.027354742154657,
                    26.23868227545034,
                    26.45172566987641,
                    26.66649885726358,
                    26.883015882561203,
                    27.101290904755796,
                    27.32133819779687,
                    27.543172151530396,
                    27.76680727263988,
                    27.992258185594928,
                    28.21953963360764,
                    28.448666479596767,
                    28.679653707159606,
                    28.912516421551853,
                    29.147269850675467,
                    29.383929346074382,
                    29.62251038393849,
                    29.863028566115652,
                    30.10549962113203,
                    30.349939405220564,
                    30.596363903357922,
                    30.844789230309853,
                    31.09523163168495,
                    31.347707484997024,
                    31.60223330073617,
                    31.85882572344837,
                    32.11750153282398,
                    32.3782776447951,
                    32.64117111264164,
                    32.90619912810665,
                    33.17337902252043,
                    33.44272826793406,
                    33.71426447826179,
                    33.98800541043303,
                    34.263968965553524,
                    34.542173190075914,
                    34.82263627697995,
                    35.10537656696216,
                    35.390412549635286
                  ]
                },
                {
                  "marker": {
                    "color": "black"
                  },
                  "mode": "markers",
                  "name": "Real",
                  "type": "scatter",
                  "x": [
                    "2018-01-01T00:00:00.000000000",
                    "2018-02-01T00:00:00.000000000",
                    "2018-03-01T00:00:00.000000000",
                    "2018-04-01T00:00:00.000000000",
                    "2018-05-01T00:00:00.000000000",
                    "2018-06-01T00:00:00.000000000",
                    "2018-07-01T00:00:00.000000000",
                    "2018-08-01T00:00:00.000000000",
                    "2018-09-01T00:00:00.000000000",
                    "2018-10-01T00:00:00.000000000",
                    "2018-11-01T00:00:00.000000000",
                    "2018-12-01T00:00:00.000000000",
                    "2019-01-01T00:00:00.000000000",
                    "2019-02-01T00:00:00.000000000",
                    "2019-03-01T00:00:00.000000000",
                    "2019-04-01T00:00:00.000000000",
                    "2019-05-01T00:00:00.000000000",
                    "2019-06-01T00:00:00.000000000",
                    "2019-07-01T00:00:00.000000000",
                    "2019-08-01T00:00:00.000000000",
                    "2019-09-01T00:00:00.000000000",
                    "2019-10-01T00:00:00.000000000",
                    "2019-11-01T00:00:00.000000000",
                    "2019-12-01T00:00:00.000000000",
                    "2020-01-01T00:00:00.000000000",
                    "2020-02-01T00:00:00.000000000",
                    "2020-03-01T00:00:00.000000000",
                    "2020-04-01T00:00:00.000000000",
                    "2020-05-01T00:00:00.000000000",
                    "2020-06-01T00:00:00.000000000",
                    "2020-07-01T00:00:00.000000000",
                    "2020-08-01T00:00:00.000000000",
                    "2020-09-01T00:00:00.000000000",
                    "2020-10-01T00:00:00.000000000",
                    "2020-11-01T00:00:00.000000000",
                    "2020-12-01T00:00:00.000000000",
                    "2021-01-01T00:00:00.000000000",
                    "2021-02-01T00:00:00.000000000",
                    "2021-03-01T00:00:00.000000000",
                    "2021-04-01T00:00:00.000000000",
                    "2021-05-01T00:00:00.000000000",
                    "2021-06-01T00:00:00.000000000",
                    "2021-07-01T00:00:00.000000000",
                    "2021-08-01T00:00:00.000000000",
                    "2021-09-01T00:00:00.000000000",
                    "2021-10-01T00:00:00.000000000",
                    "2021-11-01T00:00:00.000000000",
                    "2021-12-01T00:00:00.000000000",
                    "2022-01-01T00:00:00.000000000",
                    "2022-02-01T00:00:00.000000000",
                    "2022-03-01T00:00:00.000000000",
                    "2022-04-01T00:00:00.000000000",
                    "2022-05-01T00:00:00.000000000",
                    "2022-06-01T00:00:00.000000000",
                    "2022-07-01T00:00:00.000000000",
                    "2022-08-01T00:00:00.000000000",
                    "2022-09-01T00:00:00.000000000",
                    "2022-10-01T00:00:00.000000000",
                    "2022-11-01T00:00:00.000000000",
                    "2022-12-01T00:00:00.000000000",
                    "2023-01-01T00:00:00.000000000",
                    "2023-02-01T00:00:00.000000000",
                    "2023-03-01T00:00:00.000000000",
                    "2023-04-01T00:00:00.000000000",
                    "2023-05-01T00:00:00.000000000",
                    "2023-06-01T00:00:00.000000000",
                    "2023-07-01T00:00:00.000000000",
                    "2023-08-01T00:00:00.000000000",
                    "2023-09-01T00:00:00.000000000",
                    "2023-10-01T00:00:00.000000000",
                    "2023-11-01T00:00:00.000000000",
                    "2023-12-01T00:00:00.000000000"
                  ],
                  "y": [
                    19.46595158061714,
                    20.15976295663337,
                    19.575593794663096,
                    18.94855506346339,
                    20.153266306238436,
                    22.438699931614742,
                    21.94833973527101,
                    22.202889333406468,
                    22.330103217435365,
                    22.098739342961768,
                    21.768217460015585,
                    21.637351521758603,
                    21.07423466406934,
                    21.675527084642635,
                    21.237596191071294,
                    19.931663643835805,
                    20.26943065317726,
                    21.23602606289089,
                    22.340853510062782,
                    24.309228204013042,
                    25.432281982612057,
                    25.118195167354948,
                    24.297504041333756,
                    24.971490093771628,
                    24.836732424679976,
                    24.137818176883478,
                    24.75752642998163,
                    30.65261778875609,
                    29.301670858285537,
                    27.193490120468116,
                    24.089710836540856,
                    23.74104219612153,
                    25.804027159581796,
                    26.77968851033053,
                    25.878678438366165,
                    24.107470616422297,
                    24.6740191716648,
                    25.344051080326093,
                    23.35680721884366,
                    25.011219700585134,
                    23.26195543586848,
                    25.29701485722184,
                    25.651590119006016,
                    27.5704057061705,
                    29.16117018095997,
                    28.002797679929436,
                    27.78879468166834,
                    25.400022596845012,
                    17.618142896302498,
                    23.848139318214447,
                    27.546137057621213,
                    27.30054765177304,
                    26.640351164542864,
                    22.90007569717366,
                    25.184260912166287,
                    29.105037934073167,
                    30.626012269217316,
                    28.648598238113003,
                    27.254421117690452,
                    24.65804742760372,
                    29.3767082567674,
                    29.353353450896446,
                    27.475231461451934,
                    25.904325392468987,
                    27.497241589783318,
                    29.259569217514947,
                    29.95301692636741,
                    31.239758005114915,
                    32.125805445422934,
                    30.656477577134357,
                    30.30209761429681,
                    29.42344365830787
                  ]
                },
                {
                  "line": {
                    "color": "purple"
                  },
                  "mode": "lines",
                  "name": "Full model",
                  "type": "scatter",
                  "x": [
                    "2018-01-01T00:00:00.000000000",
                    "2018-02-01T00:00:00.000000000",
                    "2018-03-01T00:00:00.000000000",
                    "2018-04-01T00:00:00.000000000",
                    "2018-05-01T00:00:00.000000000",
                    "2018-06-01T00:00:00.000000000",
                    "2018-07-01T00:00:00.000000000",
                    "2018-08-01T00:00:00.000000000",
                    "2018-09-01T00:00:00.000000000",
                    "2018-10-01T00:00:00.000000000",
                    "2018-11-01T00:00:00.000000000",
                    "2018-12-01T00:00:00.000000000",
                    "2019-01-01T00:00:00.000000000",
                    "2019-02-01T00:00:00.000000000",
                    "2019-03-01T00:00:00.000000000",
                    "2019-04-01T00:00:00.000000000",
                    "2019-05-01T00:00:00.000000000",
                    "2019-06-01T00:00:00.000000000",
                    "2019-07-01T00:00:00.000000000",
                    "2019-08-01T00:00:00.000000000",
                    "2019-09-01T00:00:00.000000000",
                    "2019-10-01T00:00:00.000000000",
                    "2019-11-01T00:00:00.000000000",
                    "2019-12-01T00:00:00.000000000",
                    "2020-01-01T00:00:00.000000000",
                    "2020-02-01T00:00:00.000000000",
                    "2020-03-01T00:00:00.000000000",
                    "2020-04-01T00:00:00.000000000",
                    "2020-05-01T00:00:00.000000000",
                    "2020-06-01T00:00:00.000000000",
                    "2020-07-01T00:00:00.000000000",
                    "2020-08-01T00:00:00.000000000",
                    "2020-09-01T00:00:00.000000000",
                    "2020-10-01T00:00:00.000000000",
                    "2020-11-01T00:00:00.000000000",
                    "2020-12-01T00:00:00.000000000",
                    "2021-01-01T00:00:00.000000000",
                    "2021-02-01T00:00:00.000000000",
                    "2021-03-01T00:00:00.000000000",
                    "2021-04-01T00:00:00.000000000",
                    "2021-05-01T00:00:00.000000000",
                    "2021-06-01T00:00:00.000000000",
                    "2021-07-01T00:00:00.000000000",
                    "2021-08-01T00:00:00.000000000",
                    "2021-09-01T00:00:00.000000000",
                    "2021-10-01T00:00:00.000000000",
                    "2021-11-01T00:00:00.000000000",
                    "2021-12-01T00:00:00.000000000",
                    "2022-01-01T00:00:00.000000000",
                    "2022-02-01T00:00:00.000000000",
                    "2022-03-01T00:00:00.000000000",
                    "2022-04-01T00:00:00.000000000",
                    "2022-05-01T00:00:00.000000000",
                    "2022-06-01T00:00:00.000000000",
                    "2022-07-01T00:00:00.000000000",
                    "2022-08-01T00:00:00.000000000",
                    "2022-09-01T00:00:00.000000000",
                    "2022-10-01T00:00:00.000000000",
                    "2022-11-01T00:00:00.000000000",
                    "2022-12-01T00:00:00.000000000",
                    "2023-01-01T00:00:00.000000000",
                    "2023-02-01T00:00:00.000000000",
                    "2023-03-01T00:00:00.000000000",
                    "2023-04-01T00:00:00.000000000",
                    "2023-05-01T00:00:00.000000000",
                    "2023-06-01T00:00:00.000000000",
                    "2023-07-01T00:00:00.000000000",
                    "2023-08-01T00:00:00.000000000",
                    "2023-09-01T00:00:00.000000000",
                    "2023-10-01T00:00:00.000000000",
                    "2023-11-01T00:00:00.000000000",
                    "2023-12-01T00:00:00.000000000"
                  ],
                  "y": [
                    19.93124299862614,
                    20.093073521172265,
                    20.25621801686244,
                    20.420687154422165,
                    20.586491689201,
                    20.753642463875952,
                    20.92215040916046,
                    21.092026544519236,
                    21.263281978888866,
                    21.435927911404296,
                    21.609975632131142,
                    21.785436522804037,
                    21.96232205757094,
                    22.14064380374343,
                    22.320413422553177,
                    22.501642669914546,
                    22.684343397193306,
                    22.86852755198168,
                    23.054207178879658,
                    23.241394420282624,
                    23.430101517175387,
                    23.620340809932735,
                    23.81212473912635,
                    24.00546584633839,
                    24.200376774981624,
                    24.396870271126275,
                    24.594959184333483,
                    28.9737225994068,
                    28.97822544653467,
                    28.982728993456384,
                    25.248256643669137,
                    25.25218051087405,
                    25.256104987892694,
                    25.26003007481984,
                    25.2639557717503,
                    25.267882078778868,
                    25.271808996000345,
                    25.27573652350958,
                    25.279664661401398,
                    25.283593409770685,
                    25.287522768712265,
                    25.291452738321098,
                    25.295383318692046,
                    25.29931450992005,
                    25.30324631210002,
                    25.307178725326924,
                    25.311111749695687,
                    25.315045385301353,
                    25.31897963223887,
                    25.32291449060327,
                    25.32684996048955,
                    26.030367582623086,
                    26.252085032439425,
                    26.47569099294993,
                    26.701201549819704,
                    26.92863292572584,
                    27.158001481524426,
                    27.389323717427526,
                    27.622616274190207,
                    27.857895934307518,
                    28.09517962322197,
                    28.334484410540895,
                    28.57582751126452,
                    28.819226287024378,
                    29.064698247332178,
                    29.3122610508395,
                    29.561932506607995,
                    29.813730575390682,
                    30.067673370923856,
                    30.323779161230185,
                    30.58206636993293,
                    30.842553577581203
                  ]
                }
              ],
              "layout": {
                "annotations": [
                  {
                    "arrowhead": 2,
                    "ax": 30,
                    "ay": -40,
                    "showarrow": true,
                    "text": "Pandemia",
                    "x": "2020-04-01",
                    "y": 32.125805445422934
                  },
                  {
                    "arrowhead": 2,
                    "ax": 30,
                    "ay": -40,
                    "showarrow": true,
                    "text": "Pos Pandemia",
                    "x": "2022-04-01",
                    "y": 32.125805445422934
                  }
                ],
                "legend": {
                  "title": {
                    "text": "Legend"
                  }
                },
                "shapes": [
                  {
                    "line": {
                      "color": "black",
                      "dash": "dash"
                    },
                    "type": "line",
                    "x0": "2020-04-01",
                    "x1": "2020-04-01",
                    "y0": 17.618142896302498,
                    "y1": 32.125805445422934
                  },
                  {
                    "line": {
                      "color": "black",
                      "dash": "dash"
                    },
                    "type": "line",
                    "x0": "2022-04-01",
                    "x1": "2022-04-01",
                    "y0": 17.618142896302498,
                    "y1": 32.125805445422934
                  }
                ],
                "template": {
                  "data": {
                    "bar": [
                      {
                        "error_x": {
                          "color": "#2a3f5f"
                        },
                        "error_y": {
                          "color": "#2a3f5f"
                        },
                        "marker": {
                          "line": {
                            "color": "#E5ECF6",
                            "width": 0.5
                          },
                          "pattern": {
                            "fillmode": "overlay",
                            "size": 10,
                            "solidity": 0.2
                          }
                        },
                        "type": "bar"
                      }
                    ],
                    "barpolar": [
                      {
                        "marker": {
                          "line": {
                            "color": "#E5ECF6",
                            "width": 0.5
                          },
                          "pattern": {
                            "fillmode": "overlay",
                            "size": 10,
                            "solidity": 0.2
                          }
                        },
                        "type": "barpolar"
                      }
                    ],
                    "carpet": [
                      {
                        "aaxis": {
                          "endlinecolor": "#2a3f5f",
                          "gridcolor": "white",
                          "linecolor": "white",
                          "minorgridcolor": "white",
                          "startlinecolor": "#2a3f5f"
                        },
                        "baxis": {
                          "endlinecolor": "#2a3f5f",
                          "gridcolor": "white",
                          "linecolor": "white",
                          "minorgridcolor": "white",
                          "startlinecolor": "#2a3f5f"
                        },
                        "type": "carpet"
                      }
                    ],
                    "choropleth": [
                      {
                        "colorbar": {
                          "outlinewidth": 0,
                          "ticks": ""
                        },
                        "type": "choropleth"
                      }
                    ],
                    "contour": [
                      {
                        "colorbar": {
                          "outlinewidth": 0,
                          "ticks": ""
                        },
                        "colorscale": [
                          [
                            0,
                            "#0d0887"
                          ],
                          [
                            0.1111111111111111,
                            "#46039f"
                          ],
                          [
                            0.2222222222222222,
                            "#7201a8"
                          ],
                          [
                            0.3333333333333333,
                            "#9c179e"
                          ],
                          [
                            0.4444444444444444,
                            "#bd3786"
                          ],
                          [
                            0.5555555555555556,
                            "#d8576b"
                          ],
                          [
                            0.6666666666666666,
                            "#ed7953"
                          ],
                          [
                            0.7777777777777778,
                            "#fb9f3a"
                          ],
                          [
                            0.8888888888888888,
                            "#fdca26"
                          ],
                          [
                            1,
                            "#f0f921"
                          ]
                        ],
                        "type": "contour"
                      }
                    ],
                    "contourcarpet": [
                      {
                        "colorbar": {
                          "outlinewidth": 0,
                          "ticks": ""
                        },
                        "type": "contourcarpet"
                      }
                    ],
                    "heatmap": [
                      {
                        "colorbar": {
                          "outlinewidth": 0,
                          "ticks": ""
                        },
                        "colorscale": [
                          [
                            0,
                            "#0d0887"
                          ],
                          [
                            0.1111111111111111,
                            "#46039f"
                          ],
                          [
                            0.2222222222222222,
                            "#7201a8"
                          ],
                          [
                            0.3333333333333333,
                            "#9c179e"
                          ],
                          [
                            0.4444444444444444,
                            "#bd3786"
                          ],
                          [
                            0.5555555555555556,
                            "#d8576b"
                          ],
                          [
                            0.6666666666666666,
                            "#ed7953"
                          ],
                          [
                            0.7777777777777778,
                            "#fb9f3a"
                          ],
                          [
                            0.8888888888888888,
                            "#fdca26"
                          ],
                          [
                            1,
                            "#f0f921"
                          ]
                        ],
                        "type": "heatmap"
                      }
                    ],
                    "heatmapgl": [
                      {
                        "colorbar": {
                          "outlinewidth": 0,
                          "ticks": ""
                        },
                        "colorscale": [
                          [
                            0,
                            "#0d0887"
                          ],
                          [
                            0.1111111111111111,
                            "#46039f"
                          ],
                          [
                            0.2222222222222222,
                            "#7201a8"
                          ],
                          [
                            0.3333333333333333,
                            "#9c179e"
                          ],
                          [
                            0.4444444444444444,
                            "#bd3786"
                          ],
                          [
                            0.5555555555555556,
                            "#d8576b"
                          ],
                          [
                            0.6666666666666666,
                            "#ed7953"
                          ],
                          [
                            0.7777777777777778,
                            "#fb9f3a"
                          ],
                          [
                            0.8888888888888888,
                            "#fdca26"
                          ],
                          [
                            1,
                            "#f0f921"
                          ]
                        ],
                        "type": "heatmapgl"
                      }
                    ],
                    "histogram": [
                      {
                        "marker": {
                          "pattern": {
                            "fillmode": "overlay",
                            "size": 10,
                            "solidity": 0.2
                          }
                        },
                        "type": "histogram"
                      }
                    ],
                    "histogram2d": [
                      {
                        "colorbar": {
                          "outlinewidth": 0,
                          "ticks": ""
                        },
                        "colorscale": [
                          [
                            0,
                            "#0d0887"
                          ],
                          [
                            0.1111111111111111,
                            "#46039f"
                          ],
                          [
                            0.2222222222222222,
                            "#7201a8"
                          ],
                          [
                            0.3333333333333333,
                            "#9c179e"
                          ],
                          [
                            0.4444444444444444,
                            "#bd3786"
                          ],
                          [
                            0.5555555555555556,
                            "#d8576b"
                          ],
                          [
                            0.6666666666666666,
                            "#ed7953"
                          ],
                          [
                            0.7777777777777778,
                            "#fb9f3a"
                          ],
                          [
                            0.8888888888888888,
                            "#fdca26"
                          ],
                          [
                            1,
                            "#f0f921"
                          ]
                        ],
                        "type": "histogram2d"
                      }
                    ],
                    "histogram2dcontour": [
                      {
                        "colorbar": {
                          "outlinewidth": 0,
                          "ticks": ""
                        },
                        "colorscale": [
                          [
                            0,
                            "#0d0887"
                          ],
                          [
                            0.1111111111111111,
                            "#46039f"
                          ],
                          [
                            0.2222222222222222,
                            "#7201a8"
                          ],
                          [
                            0.3333333333333333,
                            "#9c179e"
                          ],
                          [
                            0.4444444444444444,
                            "#bd3786"
                          ],
                          [
                            0.5555555555555556,
                            "#d8576b"
                          ],
                          [
                            0.6666666666666666,
                            "#ed7953"
                          ],
                          [
                            0.7777777777777778,
                            "#fb9f3a"
                          ],
                          [
                            0.8888888888888888,
                            "#fdca26"
                          ],
                          [
                            1,
                            "#f0f921"
                          ]
                        ],
                        "type": "histogram2dcontour"
                      }
                    ],
                    "mesh3d": [
                      {
                        "colorbar": {
                          "outlinewidth": 0,
                          "ticks": ""
                        },
                        "type": "mesh3d"
                      }
                    ],
                    "parcoords": [
                      {
                        "line": {
                          "colorbar": {
                            "outlinewidth": 0,
                            "ticks": ""
                          }
                        },
                        "type": "parcoords"
                      }
                    ],
                    "pie": [
                      {
                        "automargin": true,
                        "type": "pie"
                      }
                    ],
                    "scatter": [
                      {
                        "fillpattern": {
                          "fillmode": "overlay",
                          "size": 10,
                          "solidity": 0.2
                        },
                        "type": "scatter"
                      }
                    ],
                    "scatter3d": [
                      {
                        "line": {
                          "colorbar": {
                            "outlinewidth": 0,
                            "ticks": ""
                          }
                        },
                        "marker": {
                          "colorbar": {
                            "outlinewidth": 0,
                            "ticks": ""
                          }
                        },
                        "type": "scatter3d"
                      }
                    ],
                    "scattercarpet": [
                      {
                        "marker": {
                          "colorbar": {
                            "outlinewidth": 0,
                            "ticks": ""
                          }
                        },
                        "type": "scattercarpet"
                      }
                    ],
                    "scattergeo": [
                      {
                        "marker": {
                          "colorbar": {
                            "outlinewidth": 0,
                            "ticks": ""
                          }
                        },
                        "type": "scattergeo"
                      }
                    ],
                    "scattergl": [
                      {
                        "marker": {
                          "colorbar": {
                            "outlinewidth": 0,
                            "ticks": ""
                          }
                        },
                        "type": "scattergl"
                      }
                    ],
                    "scattermapbox": [
                      {
                        "marker": {
                          "colorbar": {
                            "outlinewidth": 0,
                            "ticks": ""
                          }
                        },
                        "type": "scattermapbox"
                      }
                    ],
                    "scatterpolar": [
                      {
                        "marker": {
                          "colorbar": {
                            "outlinewidth": 0,
                            "ticks": ""
                          }
                        },
                        "type": "scatterpolar"
                      }
                    ],
                    "scatterpolargl": [
                      {
                        "marker": {
                          "colorbar": {
                            "outlinewidth": 0,
                            "ticks": ""
                          }
                        },
                        "type": "scatterpolargl"
                      }
                    ],
                    "scatterternary": [
                      {
                        "marker": {
                          "colorbar": {
                            "outlinewidth": 0,
                            "ticks": ""
                          }
                        },
                        "type": "scatterternary"
                      }
                    ],
                    "surface": [
                      {
                        "colorbar": {
                          "outlinewidth": 0,
                          "ticks": ""
                        },
                        "colorscale": [
                          [
                            0,
                            "#0d0887"
                          ],
                          [
                            0.1111111111111111,
                            "#46039f"
                          ],
                          [
                            0.2222222222222222,
                            "#7201a8"
                          ],
                          [
                            0.3333333333333333,
                            "#9c179e"
                          ],
                          [
                            0.4444444444444444,
                            "#bd3786"
                          ],
                          [
                            0.5555555555555556,
                            "#d8576b"
                          ],
                          [
                            0.6666666666666666,
                            "#ed7953"
                          ],
                          [
                            0.7777777777777778,
                            "#fb9f3a"
                          ],
                          [
                            0.8888888888888888,
                            "#fdca26"
                          ],
                          [
                            1,
                            "#f0f921"
                          ]
                        ],
                        "type": "surface"
                      }
                    ],
                    "table": [
                      {
                        "cells": {
                          "fill": {
                            "color": "#EBF0F8"
                          },
                          "line": {
                            "color": "white"
                          }
                        },
                        "header": {
                          "fill": {
                            "color": "#C8D4E3"
                          },
                          "line": {
                            "color": "white"
                          }
                        },
                        "type": "table"
                      }
                    ]
                  },
                  "layout": {
                    "annotationdefaults": {
                      "arrowcolor": "#2a3f5f",
                      "arrowhead": 0,
                      "arrowwidth": 1
                    },
                    "autotypenumbers": "strict",
                    "coloraxis": {
                      "colorbar": {
                        "outlinewidth": 0,
                        "ticks": ""
                      }
                    },
                    "colorscale": {
                      "diverging": [
                        [
                          0,
                          "#8e0152"
                        ],
                        [
                          0.1,
                          "#c51b7d"
                        ],
                        [
                          0.2,
                          "#de77ae"
                        ],
                        [
                          0.3,
                          "#f1b6da"
                        ],
                        [
                          0.4,
                          "#fde0ef"
                        ],
                        [
                          0.5,
                          "#f7f7f7"
                        ],
                        [
                          0.6,
                          "#e6f5d0"
                        ],
                        [
                          0.7,
                          "#b8e186"
                        ],
                        [
                          0.8,
                          "#7fbc41"
                        ],
                        [
                          0.9,
                          "#4d9221"
                        ],
                        [
                          1,
                          "#276419"
                        ]
                      ],
                      "sequential": [
                        [
                          0,
                          "#0d0887"
                        ],
                        [
                          0.1111111111111111,
                          "#46039f"
                        ],
                        [
                          0.2222222222222222,
                          "#7201a8"
                        ],
                        [
                          0.3333333333333333,
                          "#9c179e"
                        ],
                        [
                          0.4444444444444444,
                          "#bd3786"
                        ],
                        [
                          0.5555555555555556,
                          "#d8576b"
                        ],
                        [
                          0.6666666666666666,
                          "#ed7953"
                        ],
                        [
                          0.7777777777777778,
                          "#fb9f3a"
                        ],
                        [
                          0.8888888888888888,
                          "#fdca26"
                        ],
                        [
                          1,
                          "#f0f921"
                        ]
                      ],
                      "sequentialminus": [
                        [
                          0,
                          "#0d0887"
                        ],
                        [
                          0.1111111111111111,
                          "#46039f"
                        ],
                        [
                          0.2222222222222222,
                          "#7201a8"
                        ],
                        [
                          0.3333333333333333,
                          "#9c179e"
                        ],
                        [
                          0.4444444444444444,
                          "#bd3786"
                        ],
                        [
                          0.5555555555555556,
                          "#d8576b"
                        ],
                        [
                          0.6666666666666666,
                          "#ed7953"
                        ],
                        [
                          0.7777777777777778,
                          "#fb9f3a"
                        ],
                        [
                          0.8888888888888888,
                          "#fdca26"
                        ],
                        [
                          1,
                          "#f0f921"
                        ]
                      ]
                    },
                    "colorway": [
                      "#636efa",
                      "#EF553B",
                      "#00cc96",
                      "#ab63fa",
                      "#FFA15A",
                      "#19d3f3",
                      "#FF6692",
                      "#B6E880",
                      "#FF97FF",
                      "#FECB52"
                    ],
                    "font": {
                      "color": "#2a3f5f"
                    },
                    "geo": {
                      "bgcolor": "white",
                      "lakecolor": "white",
                      "landcolor": "#E5ECF6",
                      "showlakes": true,
                      "showland": true,
                      "subunitcolor": "white"
                    },
                    "hoverlabel": {
                      "align": "left"
                    },
                    "hovermode": "closest",
                    "mapbox": {
                      "style": "light"
                    },
                    "paper_bgcolor": "white",
                    "plot_bgcolor": "#E5ECF6",
                    "polar": {
                      "angularaxis": {
                        "gridcolor": "white",
                        "linecolor": "white",
                        "ticks": ""
                      },
                      "bgcolor": "#E5ECF6",
                      "radialaxis": {
                        "gridcolor": "white",
                        "linecolor": "white",
                        "ticks": ""
                      }
                    },
                    "scene": {
                      "xaxis": {
                        "backgroundcolor": "#E5ECF6",
                        "gridcolor": "white",
                        "gridwidth": 2,
                        "linecolor": "white",
                        "showbackground": true,
                        "ticks": "",
                        "zerolinecolor": "white"
                      },
                      "yaxis": {
                        "backgroundcolor": "#E5ECF6",
                        "gridcolor": "white",
                        "gridwidth": 2,
                        "linecolor": "white",
                        "showbackground": true,
                        "ticks": "",
                        "zerolinecolor": "white"
                      },
                      "zaxis": {
                        "backgroundcolor": "#E5ECF6",
                        "gridcolor": "white",
                        "gridwidth": 2,
                        "linecolor": "white",
                        "showbackground": true,
                        "ticks": "",
                        "zerolinecolor": "white"
                      }
                    },
                    "shapedefaults": {
                      "line": {
                        "color": "#2a3f5f"
                      }
                    },
                    "ternary": {
                      "aaxis": {
                        "gridcolor": "white",
                        "linecolor": "white",
                        "ticks": ""
                      },
                      "baxis": {
                        "gridcolor": "white",
                        "linecolor": "white",
                        "ticks": ""
                      },
                      "bgcolor": "#E5ECF6",
                      "caxis": {
                        "gridcolor": "white",
                        "linecolor": "white",
                        "ticks": ""
                      }
                    },
                    "title": {
                      "x": 0.05
                    },
                    "xaxis": {
                      "automargin": true,
                      "gridcolor": "white",
                      "linecolor": "white",
                      "ticks": "",
                      "title": {
                        "standoff": 15
                      },
                      "zerolinecolor": "white",
                      "zerolinewidth": 2
                    },
                    "yaxis": {
                      "automargin": true,
                      "gridcolor": "white",
                      "linecolor": "white",
                      "ticks": "",
                      "title": {
                        "standoff": 15
                      },
                      "zerolinecolor": "white",
                      "zerolinewidth": 2
                    }
                  }
                },
                "title": {
                  "text": "centro_oeste"
                },
                "xaxis": {
                  "title": {
                    "text": "Time"
                  }
                },
                "yaxis": {
                  "title": {
                    "text": "Value"
                  }
                }
              }
            }
          },
          "metadata": {},
          "output_type": "display_data"
        },
        {
          "data": {
            "application/vnd.plotly.v1+json": {
              "config": {
                "plotlyServerURL": "https://plot.ly"
              },
              "data": [
                {
                  "line": {
                    "color": "black",
                    "dash": "dot"
                  },
                  "mode": "lines",
                  "name": "Baseline",
                  "type": "scatter",
                  "x": [
                    "2018-01-01T00:00:00.000000000",
                    "2018-02-01T00:00:00.000000000",
                    "2018-03-01T00:00:00.000000000",
                    "2018-04-01T00:00:00.000000000",
                    "2018-05-01T00:00:00.000000000",
                    "2018-06-01T00:00:00.000000000",
                    "2018-07-01T00:00:00.000000000",
                    "2018-08-01T00:00:00.000000000",
                    "2018-09-01T00:00:00.000000000",
                    "2018-10-01T00:00:00.000000000",
                    "2018-11-01T00:00:00.000000000",
                    "2018-12-01T00:00:00.000000000",
                    "2019-01-01T00:00:00.000000000",
                    "2019-02-01T00:00:00.000000000",
                    "2019-03-01T00:00:00.000000000",
                    "2019-04-01T00:00:00.000000000",
                    "2019-05-01T00:00:00.000000000",
                    "2019-06-01T00:00:00.000000000",
                    "2019-07-01T00:00:00.000000000",
                    "2019-08-01T00:00:00.000000000",
                    "2019-09-01T00:00:00.000000000",
                    "2019-10-01T00:00:00.000000000",
                    "2019-11-01T00:00:00.000000000",
                    "2019-12-01T00:00:00.000000000",
                    "2020-01-01T00:00:00.000000000",
                    "2020-02-01T00:00:00.000000000",
                    "2020-03-01T00:00:00.000000000",
                    "2020-04-01T00:00:00.000000000",
                    "2020-05-01T00:00:00.000000000",
                    "2020-06-01T00:00:00.000000000",
                    "2020-07-01T00:00:00.000000000",
                    "2020-08-01T00:00:00.000000000",
                    "2020-09-01T00:00:00.000000000",
                    "2020-10-01T00:00:00.000000000",
                    "2020-11-01T00:00:00.000000000",
                    "2020-12-01T00:00:00.000000000",
                    "2021-01-01T00:00:00.000000000",
                    "2021-02-01T00:00:00.000000000",
                    "2021-03-01T00:00:00.000000000",
                    "2021-04-01T00:00:00.000000000",
                    "2021-05-01T00:00:00.000000000",
                    "2021-06-01T00:00:00.000000000",
                    "2021-07-01T00:00:00.000000000",
                    "2021-08-01T00:00:00.000000000",
                    "2021-09-01T00:00:00.000000000",
                    "2021-10-01T00:00:00.000000000",
                    "2021-11-01T00:00:00.000000000",
                    "2021-12-01T00:00:00.000000000",
                    "2022-01-01T00:00:00.000000000",
                    "2022-02-01T00:00:00.000000000",
                    "2022-03-01T00:00:00.000000000",
                    "2022-04-01T00:00:00.000000000",
                    "2022-05-01T00:00:00.000000000",
                    "2022-06-01T00:00:00.000000000",
                    "2022-07-01T00:00:00.000000000",
                    "2022-08-01T00:00:00.000000000",
                    "2022-09-01T00:00:00.000000000",
                    "2022-10-01T00:00:00.000000000",
                    "2022-11-01T00:00:00.000000000",
                    "2022-12-01T00:00:00.000000000",
                    "2023-01-01T00:00:00.000000000",
                    "2023-02-01T00:00:00.000000000",
                    "2023-03-01T00:00:00.000000000",
                    "2023-04-01T00:00:00.000000000",
                    "2023-05-01T00:00:00.000000000",
                    "2023-06-01T00:00:00.000000000",
                    "2023-07-01T00:00:00.000000000",
                    "2023-08-01T00:00:00.000000000",
                    "2023-09-01T00:00:00.000000000",
                    "2023-10-01T00:00:00.000000000",
                    "2023-11-01T00:00:00.000000000",
                    "2023-12-01T00:00:00.000000000"
                  ],
                  "y": [
                    9.534726104199953,
                    9.691792958014473,
                    9.851447195703221,
                    10.013731439596434,
                    10.17868901414786,
                    10.346363957500914,
                    10.516801033245418,
                    10.69004574236795,
                    10.866144335399104,
                    11.04514382476082,
                    11.227091997317121,
                    11.412037427131624,
                    11.600029488435153,
                    11.79111836880704,
                    11.985355082573502,
                    12.18279148442677,
                    12.383480283268549,
                    12.587475056281521,
                    12.794830263232667,
                    13.005601261012197,
                    13.219844318411988,
                    13.437616631147442,
                    13.65897633712686,
                    13.883982531972297,
                    14.112695284796109,
                    14.345175654237401,
                    14.58148570476263,
                    14.82168852323475,
                    15.065848235755258,
                    15.314030024783762,
                    15.566300146539472,
                    15.822725948689412,
                    16.083375888327982,
                    16.348319550252704,
                    16.61762766554104,
                    16.891372130433215,
                    17.169626025526092,
                    17.45246363528328,
                    17.739960467866524,
                    18.03219327529393,
                    18.329240073930148,
                    18.631180165314113,
                    18.93809415732993,
                    19.250063985726438,
                    19.567172935991344,
                    19.88950566558564,
                    20.217148226544317,
                    20.550188088449353,
                    20.888714161781188,
                    21.232816821654822,
                    21.582587931946946,
                    21.93812086982053,
                    22.299510550653366,
                    22.666853453377346,
                    23.040247646235024,
                    23.419792812960626,
                    23.80559027939223,
                    24.197743040522372,
                    24.596355787994266,
                    25.001534938050927,
                    25.413388659944804,
                    25.832026904815294,
                    26.257561435042035,
                    26.6901058540817,
                    27.12977563679633,
                    27.576688160281236,
                    28.030962735200756,
                    28.492720637640204,
                    28.96208514148252,
                    29.43918155131827,
                    29.92413723589774,
                    30.417081662134173
                  ]
                },
                {
                  "marker": {
                    "color": "black"
                  },
                  "mode": "markers",
                  "name": "Real",
                  "type": "scatter",
                  "x": [
                    "2018-01-01T00:00:00.000000000",
                    "2018-02-01T00:00:00.000000000",
                    "2018-03-01T00:00:00.000000000",
                    "2018-04-01T00:00:00.000000000",
                    "2018-05-01T00:00:00.000000000",
                    "2018-06-01T00:00:00.000000000",
                    "2018-07-01T00:00:00.000000000",
                    "2018-08-01T00:00:00.000000000",
                    "2018-09-01T00:00:00.000000000",
                    "2018-10-01T00:00:00.000000000",
                    "2018-11-01T00:00:00.000000000",
                    "2018-12-01T00:00:00.000000000",
                    "2019-01-01T00:00:00.000000000",
                    "2019-02-01T00:00:00.000000000",
                    "2019-03-01T00:00:00.000000000",
                    "2019-04-01T00:00:00.000000000",
                    "2019-05-01T00:00:00.000000000",
                    "2019-06-01T00:00:00.000000000",
                    "2019-07-01T00:00:00.000000000",
                    "2019-08-01T00:00:00.000000000",
                    "2019-09-01T00:00:00.000000000",
                    "2019-10-01T00:00:00.000000000",
                    "2019-11-01T00:00:00.000000000",
                    "2019-12-01T00:00:00.000000000",
                    "2020-01-01T00:00:00.000000000",
                    "2020-02-01T00:00:00.000000000",
                    "2020-03-01T00:00:00.000000000",
                    "2020-04-01T00:00:00.000000000",
                    "2020-05-01T00:00:00.000000000",
                    "2020-06-01T00:00:00.000000000",
                    "2020-07-01T00:00:00.000000000",
                    "2020-08-01T00:00:00.000000000",
                    "2020-09-01T00:00:00.000000000",
                    "2020-10-01T00:00:00.000000000",
                    "2020-11-01T00:00:00.000000000",
                    "2020-12-01T00:00:00.000000000",
                    "2021-01-01T00:00:00.000000000",
                    "2021-02-01T00:00:00.000000000",
                    "2021-03-01T00:00:00.000000000",
                    "2021-04-01T00:00:00.000000000",
                    "2021-05-01T00:00:00.000000000",
                    "2021-06-01T00:00:00.000000000",
                    "2021-07-01T00:00:00.000000000",
                    "2021-08-01T00:00:00.000000000",
                    "2021-09-01T00:00:00.000000000",
                    "2021-10-01T00:00:00.000000000",
                    "2021-11-01T00:00:00.000000000",
                    "2021-12-01T00:00:00.000000000",
                    "2022-01-01T00:00:00.000000000",
                    "2022-02-01T00:00:00.000000000",
                    "2022-03-01T00:00:00.000000000",
                    "2022-04-01T00:00:00.000000000",
                    "2022-05-01T00:00:00.000000000",
                    "2022-06-01T00:00:00.000000000",
                    "2022-07-01T00:00:00.000000000",
                    "2022-08-01T00:00:00.000000000",
                    "2022-09-01T00:00:00.000000000",
                    "2022-10-01T00:00:00.000000000",
                    "2022-11-01T00:00:00.000000000",
                    "2022-12-01T00:00:00.000000000",
                    "2023-01-01T00:00:00.000000000",
                    "2023-02-01T00:00:00.000000000",
                    "2023-03-01T00:00:00.000000000",
                    "2023-04-01T00:00:00.000000000",
                    "2023-05-01T00:00:00.000000000",
                    "2023-06-01T00:00:00.000000000",
                    "2023-07-01T00:00:00.000000000",
                    "2023-08-01T00:00:00.000000000",
                    "2023-09-01T00:00:00.000000000",
                    "2023-10-01T00:00:00.000000000",
                    "2023-11-01T00:00:00.000000000",
                    "2023-12-01T00:00:00.000000000"
                  ],
                  "y": [
                    9.934924627615038,
                    10.364572273762366,
                    9.772812014353818,
                    9.794934171336442,
                    10.088049809676264,
                    10.947821385266975,
                    10.922953218731625,
                    11.082071707096409,
                    11.162077929515979,
                    11.217281513116008,
                    11.44841758265281,
                    12.239685057189362,
                    11.129052530147401,
                    11.193839908721614,
                    11.312599303571249,
                    10.28780295517633,
                    10.61307207281938,
                    11.40448641127023,
                    11.898477709033605,
                    12.554882097192177,
                    12.684748300514352,
                    13.069878928685462,
                    13.665546295401732,
                    15.201931971156297,
                    15.396507034649154,
                    15.42349443918599,
                    16.518484331949395,
                    22.83469258555841,
                    20.55225631690818,
                    19.430217956098563,
                    18.940872118118495,
                    19.02654126400163,
                    19.449035714856365,
                    18.632711894357367,
                    20.230605271230953,
                    22.001421047925533,
                    21.34479492970059,
                    19.845450406854205,
                    18.72317724093399,
                    18.92996766962941,
                    17.41273445499207,
                    19.04877270887256,
                    20.371109776405405,
                    21.133830842863738,
                    22.447081906765614,
                    21.569638132883004,
                    21.156718183897492,
                    21.695278403262776,
                    18.18297035157528,
                    22.34628289387481,
                    22.42361165999409,
                    21.188387512731346,
                    21.64215794487427,
                    21.825679976390816,
                    21.98314718586636,
                    23.162199908231734,
                    26.406199474246844,
                    25.664540256439423,
                    24.518217222616702,
                    25.33609619639925,
                    28.411116437131337,
                    28.59386320226569,
                    25.77494573881397,
                    24.662808352398937,
                    28.667254334654018,
                    28.0828537141462,
                    28.567880283541903,
                    28.21496190543768,
                    31.0406552221982,
                    30.604766713474078,
                    30.34966970119551,
                    30.349132610787063
                  ]
                },
                {
                  "line": {
                    "color": "purple"
                  },
                  "mode": "lines",
                  "name": "Full model",
                  "type": "scatter",
                  "x": [
                    "2018-01-01T00:00:00.000000000",
                    "2018-02-01T00:00:00.000000000",
                    "2018-03-01T00:00:00.000000000",
                    "2018-04-01T00:00:00.000000000",
                    "2018-05-01T00:00:00.000000000",
                    "2018-06-01T00:00:00.000000000",
                    "2018-07-01T00:00:00.000000000",
                    "2018-08-01T00:00:00.000000000",
                    "2018-09-01T00:00:00.000000000",
                    "2018-10-01T00:00:00.000000000",
                    "2018-11-01T00:00:00.000000000",
                    "2018-12-01T00:00:00.000000000",
                    "2019-01-01T00:00:00.000000000",
                    "2019-02-01T00:00:00.000000000",
                    "2019-03-01T00:00:00.000000000",
                    "2019-04-01T00:00:00.000000000",
                    "2019-05-01T00:00:00.000000000",
                    "2019-06-01T00:00:00.000000000",
                    "2019-07-01T00:00:00.000000000",
                    "2019-08-01T00:00:00.000000000",
                    "2019-09-01T00:00:00.000000000",
                    "2019-10-01T00:00:00.000000000",
                    "2019-11-01T00:00:00.000000000",
                    "2019-12-01T00:00:00.000000000",
                    "2020-01-01T00:00:00.000000000",
                    "2020-02-01T00:00:00.000000000",
                    "2020-03-01T00:00:00.000000000",
                    "2020-04-01T00:00:00.000000000",
                    "2020-05-01T00:00:00.000000000",
                    "2020-06-01T00:00:00.000000000",
                    "2020-07-01T00:00:00.000000000",
                    "2020-08-01T00:00:00.000000000",
                    "2020-09-01T00:00:00.000000000",
                    "2020-10-01T00:00:00.000000000",
                    "2020-11-01T00:00:00.000000000",
                    "2020-12-01T00:00:00.000000000",
                    "2021-01-01T00:00:00.000000000",
                    "2021-02-01T00:00:00.000000000",
                    "2021-03-01T00:00:00.000000000",
                    "2021-04-01T00:00:00.000000000",
                    "2021-05-01T00:00:00.000000000",
                    "2021-06-01T00:00:00.000000000",
                    "2021-07-01T00:00:00.000000000",
                    "2021-08-01T00:00:00.000000000",
                    "2021-09-01T00:00:00.000000000",
                    "2021-10-01T00:00:00.000000000",
                    "2021-11-01T00:00:00.000000000",
                    "2021-12-01T00:00:00.000000000",
                    "2022-01-01T00:00:00.000000000",
                    "2022-02-01T00:00:00.000000000",
                    "2022-03-01T00:00:00.000000000",
                    "2022-04-01T00:00:00.000000000",
                    "2022-05-01T00:00:00.000000000",
                    "2022-06-01T00:00:00.000000000",
                    "2022-07-01T00:00:00.000000000",
                    "2022-08-01T00:00:00.000000000",
                    "2022-09-01T00:00:00.000000000",
                    "2022-10-01T00:00:00.000000000",
                    "2022-11-01T00:00:00.000000000",
                    "2022-12-01T00:00:00.000000000",
                    "2023-01-01T00:00:00.000000000",
                    "2023-02-01T00:00:00.000000000",
                    "2023-03-01T00:00:00.000000000",
                    "2023-04-01T00:00:00.000000000",
                    "2023-05-01T00:00:00.000000000",
                    "2023-06-01T00:00:00.000000000",
                    "2023-07-01T00:00:00.000000000",
                    "2023-08-01T00:00:00.000000000",
                    "2023-09-01T00:00:00.000000000",
                    "2023-10-01T00:00:00.000000000",
                    "2023-11-01T00:00:00.000000000",
                    "2023-12-01T00:00:00.000000000"
                  ],
                  "y": [
                    9.534726104199953,
                    9.691792958014473,
                    9.851447195703221,
                    10.013731439596434,
                    10.17868901414786,
                    10.346363957500914,
                    10.516801033245418,
                    10.69004574236795,
                    10.866144335399104,
                    11.04514382476082,
                    11.227091997317121,
                    11.412037427131624,
                    11.600029488435153,
                    11.79111836880704,
                    11.985355082573502,
                    12.18279148442677,
                    12.383480283268549,
                    12.587475056281521,
                    12.794830263232667,
                    13.005601261012197,
                    13.219844318411988,
                    13.437616631147442,
                    13.65897633712686,
                    13.883982531972297,
                    14.112695284796109,
                    14.345175654237401,
                    14.58148570476263,
                    20.824925802733198,
                    20.94177850757748,
                    21.059286895652473,
                    19.104072818261386,
                    19.21126948265782,
                    19.319067648365884,
                    19.427470690526302,
                    19.536482003218385,
                    19.64610499956627,
                    19.756343111845776,
                    19.867199791591943,
                    19.978678509706974,
                    20.09078275656904,
                    20.20351604214147,
                    20.316881896082677,
                    20.43088386785671,
                    20.545525526844294,
                    20.660810462454673,
                    20.776742284237983,
                    20.893324621998207,
                    21.0105611259069,
                    21.12845546661741,
                    21.247011335379845,
                    21.366232444156648,
                    21.928663897812548,
                    22.328738756399282,
                    22.736112732397782,
                    23.15091899367362,
                    23.573293137657416,
                    24.00337323567072,
                    24.44129987806061,
                    24.887216220157793,
                    25.34126802907308,
                    25.803603731347735,
                    26.274374461473105,
                    26.753734111295504,
                    27.24183938032247,
                    27.738849826946726,
                    28.244927920604837,
                    28.76023909488736,
                    29.28495180161799,
                    29.81923756591941,
                    30.36327104228364,
                    30.917230071665454,
                    31.481295739617483
                  ]
                }
              ],
              "layout": {
                "annotations": [
                  {
                    "arrowhead": 2,
                    "ax": 30,
                    "ay": -40,
                    "showarrow": true,
                    "text": "Pandemia",
                    "x": "2020-04-01",
                    "y": 31.0406552221982
                  },
                  {
                    "arrowhead": 2,
                    "ax": 30,
                    "ay": -40,
                    "showarrow": true,
                    "text": "Pos Pandemia",
                    "x": "2022-04-01",
                    "y": 31.0406552221982
                  }
                ],
                "legend": {
                  "title": {
                    "text": "Legend"
                  }
                },
                "shapes": [
                  {
                    "line": {
                      "color": "black",
                      "dash": "dash"
                    },
                    "type": "line",
                    "x0": "2020-04-01",
                    "x1": "2020-04-01",
                    "y0": 9.772812014353818,
                    "y1": 31.0406552221982
                  },
                  {
                    "line": {
                      "color": "black",
                      "dash": "dash"
                    },
                    "type": "line",
                    "x0": "2022-04-01",
                    "x1": "2022-04-01",
                    "y0": 9.772812014353818,
                    "y1": 31.0406552221982
                  }
                ],
                "template": {
                  "data": {
                    "bar": [
                      {
                        "error_x": {
                          "color": "#2a3f5f"
                        },
                        "error_y": {
                          "color": "#2a3f5f"
                        },
                        "marker": {
                          "line": {
                            "color": "#E5ECF6",
                            "width": 0.5
                          },
                          "pattern": {
                            "fillmode": "overlay",
                            "size": 10,
                            "solidity": 0.2
                          }
                        },
                        "type": "bar"
                      }
                    ],
                    "barpolar": [
                      {
                        "marker": {
                          "line": {
                            "color": "#E5ECF6",
                            "width": 0.5
                          },
                          "pattern": {
                            "fillmode": "overlay",
                            "size": 10,
                            "solidity": 0.2
                          }
                        },
                        "type": "barpolar"
                      }
                    ],
                    "carpet": [
                      {
                        "aaxis": {
                          "endlinecolor": "#2a3f5f",
                          "gridcolor": "white",
                          "linecolor": "white",
                          "minorgridcolor": "white",
                          "startlinecolor": "#2a3f5f"
                        },
                        "baxis": {
                          "endlinecolor": "#2a3f5f",
                          "gridcolor": "white",
                          "linecolor": "white",
                          "minorgridcolor": "white",
                          "startlinecolor": "#2a3f5f"
                        },
                        "type": "carpet"
                      }
                    ],
                    "choropleth": [
                      {
                        "colorbar": {
                          "outlinewidth": 0,
                          "ticks": ""
                        },
                        "type": "choropleth"
                      }
                    ],
                    "contour": [
                      {
                        "colorbar": {
                          "outlinewidth": 0,
                          "ticks": ""
                        },
                        "colorscale": [
                          [
                            0,
                            "#0d0887"
                          ],
                          [
                            0.1111111111111111,
                            "#46039f"
                          ],
                          [
                            0.2222222222222222,
                            "#7201a8"
                          ],
                          [
                            0.3333333333333333,
                            "#9c179e"
                          ],
                          [
                            0.4444444444444444,
                            "#bd3786"
                          ],
                          [
                            0.5555555555555556,
                            "#d8576b"
                          ],
                          [
                            0.6666666666666666,
                            "#ed7953"
                          ],
                          [
                            0.7777777777777778,
                            "#fb9f3a"
                          ],
                          [
                            0.8888888888888888,
                            "#fdca26"
                          ],
                          [
                            1,
                            "#f0f921"
                          ]
                        ],
                        "type": "contour"
                      }
                    ],
                    "contourcarpet": [
                      {
                        "colorbar": {
                          "outlinewidth": 0,
                          "ticks": ""
                        },
                        "type": "contourcarpet"
                      }
                    ],
                    "heatmap": [
                      {
                        "colorbar": {
                          "outlinewidth": 0,
                          "ticks": ""
                        },
                        "colorscale": [
                          [
                            0,
                            "#0d0887"
                          ],
                          [
                            0.1111111111111111,
                            "#46039f"
                          ],
                          [
                            0.2222222222222222,
                            "#7201a8"
                          ],
                          [
                            0.3333333333333333,
                            "#9c179e"
                          ],
                          [
                            0.4444444444444444,
                            "#bd3786"
                          ],
                          [
                            0.5555555555555556,
                            "#d8576b"
                          ],
                          [
                            0.6666666666666666,
                            "#ed7953"
                          ],
                          [
                            0.7777777777777778,
                            "#fb9f3a"
                          ],
                          [
                            0.8888888888888888,
                            "#fdca26"
                          ],
                          [
                            1,
                            "#f0f921"
                          ]
                        ],
                        "type": "heatmap"
                      }
                    ],
                    "heatmapgl": [
                      {
                        "colorbar": {
                          "outlinewidth": 0,
                          "ticks": ""
                        },
                        "colorscale": [
                          [
                            0,
                            "#0d0887"
                          ],
                          [
                            0.1111111111111111,
                            "#46039f"
                          ],
                          [
                            0.2222222222222222,
                            "#7201a8"
                          ],
                          [
                            0.3333333333333333,
                            "#9c179e"
                          ],
                          [
                            0.4444444444444444,
                            "#bd3786"
                          ],
                          [
                            0.5555555555555556,
                            "#d8576b"
                          ],
                          [
                            0.6666666666666666,
                            "#ed7953"
                          ],
                          [
                            0.7777777777777778,
                            "#fb9f3a"
                          ],
                          [
                            0.8888888888888888,
                            "#fdca26"
                          ],
                          [
                            1,
                            "#f0f921"
                          ]
                        ],
                        "type": "heatmapgl"
                      }
                    ],
                    "histogram": [
                      {
                        "marker": {
                          "pattern": {
                            "fillmode": "overlay",
                            "size": 10,
                            "solidity": 0.2
                          }
                        },
                        "type": "histogram"
                      }
                    ],
                    "histogram2d": [
                      {
                        "colorbar": {
                          "outlinewidth": 0,
                          "ticks": ""
                        },
                        "colorscale": [
                          [
                            0,
                            "#0d0887"
                          ],
                          [
                            0.1111111111111111,
                            "#46039f"
                          ],
                          [
                            0.2222222222222222,
                            "#7201a8"
                          ],
                          [
                            0.3333333333333333,
                            "#9c179e"
                          ],
                          [
                            0.4444444444444444,
                            "#bd3786"
                          ],
                          [
                            0.5555555555555556,
                            "#d8576b"
                          ],
                          [
                            0.6666666666666666,
                            "#ed7953"
                          ],
                          [
                            0.7777777777777778,
                            "#fb9f3a"
                          ],
                          [
                            0.8888888888888888,
                            "#fdca26"
                          ],
                          [
                            1,
                            "#f0f921"
                          ]
                        ],
                        "type": "histogram2d"
                      }
                    ],
                    "histogram2dcontour": [
                      {
                        "colorbar": {
                          "outlinewidth": 0,
                          "ticks": ""
                        },
                        "colorscale": [
                          [
                            0,
                            "#0d0887"
                          ],
                          [
                            0.1111111111111111,
                            "#46039f"
                          ],
                          [
                            0.2222222222222222,
                            "#7201a8"
                          ],
                          [
                            0.3333333333333333,
                            "#9c179e"
                          ],
                          [
                            0.4444444444444444,
                            "#bd3786"
                          ],
                          [
                            0.5555555555555556,
                            "#d8576b"
                          ],
                          [
                            0.6666666666666666,
                            "#ed7953"
                          ],
                          [
                            0.7777777777777778,
                            "#fb9f3a"
                          ],
                          [
                            0.8888888888888888,
                            "#fdca26"
                          ],
                          [
                            1,
                            "#f0f921"
                          ]
                        ],
                        "type": "histogram2dcontour"
                      }
                    ],
                    "mesh3d": [
                      {
                        "colorbar": {
                          "outlinewidth": 0,
                          "ticks": ""
                        },
                        "type": "mesh3d"
                      }
                    ],
                    "parcoords": [
                      {
                        "line": {
                          "colorbar": {
                            "outlinewidth": 0,
                            "ticks": ""
                          }
                        },
                        "type": "parcoords"
                      }
                    ],
                    "pie": [
                      {
                        "automargin": true,
                        "type": "pie"
                      }
                    ],
                    "scatter": [
                      {
                        "fillpattern": {
                          "fillmode": "overlay",
                          "size": 10,
                          "solidity": 0.2
                        },
                        "type": "scatter"
                      }
                    ],
                    "scatter3d": [
                      {
                        "line": {
                          "colorbar": {
                            "outlinewidth": 0,
                            "ticks": ""
                          }
                        },
                        "marker": {
                          "colorbar": {
                            "outlinewidth": 0,
                            "ticks": ""
                          }
                        },
                        "type": "scatter3d"
                      }
                    ],
                    "scattercarpet": [
                      {
                        "marker": {
                          "colorbar": {
                            "outlinewidth": 0,
                            "ticks": ""
                          }
                        },
                        "type": "scattercarpet"
                      }
                    ],
                    "scattergeo": [
                      {
                        "marker": {
                          "colorbar": {
                            "outlinewidth": 0,
                            "ticks": ""
                          }
                        },
                        "type": "scattergeo"
                      }
                    ],
                    "scattergl": [
                      {
                        "marker": {
                          "colorbar": {
                            "outlinewidth": 0,
                            "ticks": ""
                          }
                        },
                        "type": "scattergl"
                      }
                    ],
                    "scattermapbox": [
                      {
                        "marker": {
                          "colorbar": {
                            "outlinewidth": 0,
                            "ticks": ""
                          }
                        },
                        "type": "scattermapbox"
                      }
                    ],
                    "scatterpolar": [
                      {
                        "marker": {
                          "colorbar": {
                            "outlinewidth": 0,
                            "ticks": ""
                          }
                        },
                        "type": "scatterpolar"
                      }
                    ],
                    "scatterpolargl": [
                      {
                        "marker": {
                          "colorbar": {
                            "outlinewidth": 0,
                            "ticks": ""
                          }
                        },
                        "type": "scatterpolargl"
                      }
                    ],
                    "scatterternary": [
                      {
                        "marker": {
                          "colorbar": {
                            "outlinewidth": 0,
                            "ticks": ""
                          }
                        },
                        "type": "scatterternary"
                      }
                    ],
                    "surface": [
                      {
                        "colorbar": {
                          "outlinewidth": 0,
                          "ticks": ""
                        },
                        "colorscale": [
                          [
                            0,
                            "#0d0887"
                          ],
                          [
                            0.1111111111111111,
                            "#46039f"
                          ],
                          [
                            0.2222222222222222,
                            "#7201a8"
                          ],
                          [
                            0.3333333333333333,
                            "#9c179e"
                          ],
                          [
                            0.4444444444444444,
                            "#bd3786"
                          ],
                          [
                            0.5555555555555556,
                            "#d8576b"
                          ],
                          [
                            0.6666666666666666,
                            "#ed7953"
                          ],
                          [
                            0.7777777777777778,
                            "#fb9f3a"
                          ],
                          [
                            0.8888888888888888,
                            "#fdca26"
                          ],
                          [
                            1,
                            "#f0f921"
                          ]
                        ],
                        "type": "surface"
                      }
                    ],
                    "table": [
                      {
                        "cells": {
                          "fill": {
                            "color": "#EBF0F8"
                          },
                          "line": {
                            "color": "white"
                          }
                        },
                        "header": {
                          "fill": {
                            "color": "#C8D4E3"
                          },
                          "line": {
                            "color": "white"
                          }
                        },
                        "type": "table"
                      }
                    ]
                  },
                  "layout": {
                    "annotationdefaults": {
                      "arrowcolor": "#2a3f5f",
                      "arrowhead": 0,
                      "arrowwidth": 1
                    },
                    "autotypenumbers": "strict",
                    "coloraxis": {
                      "colorbar": {
                        "outlinewidth": 0,
                        "ticks": ""
                      }
                    },
                    "colorscale": {
                      "diverging": [
                        [
                          0,
                          "#8e0152"
                        ],
                        [
                          0.1,
                          "#c51b7d"
                        ],
                        [
                          0.2,
                          "#de77ae"
                        ],
                        [
                          0.3,
                          "#f1b6da"
                        ],
                        [
                          0.4,
                          "#fde0ef"
                        ],
                        [
                          0.5,
                          "#f7f7f7"
                        ],
                        [
                          0.6,
                          "#e6f5d0"
                        ],
                        [
                          0.7,
                          "#b8e186"
                        ],
                        [
                          0.8,
                          "#7fbc41"
                        ],
                        [
                          0.9,
                          "#4d9221"
                        ],
                        [
                          1,
                          "#276419"
                        ]
                      ],
                      "sequential": [
                        [
                          0,
                          "#0d0887"
                        ],
                        [
                          0.1111111111111111,
                          "#46039f"
                        ],
                        [
                          0.2222222222222222,
                          "#7201a8"
                        ],
                        [
                          0.3333333333333333,
                          "#9c179e"
                        ],
                        [
                          0.4444444444444444,
                          "#bd3786"
                        ],
                        [
                          0.5555555555555556,
                          "#d8576b"
                        ],
                        [
                          0.6666666666666666,
                          "#ed7953"
                        ],
                        [
                          0.7777777777777778,
                          "#fb9f3a"
                        ],
                        [
                          0.8888888888888888,
                          "#fdca26"
                        ],
                        [
                          1,
                          "#f0f921"
                        ]
                      ],
                      "sequentialminus": [
                        [
                          0,
                          "#0d0887"
                        ],
                        [
                          0.1111111111111111,
                          "#46039f"
                        ],
                        [
                          0.2222222222222222,
                          "#7201a8"
                        ],
                        [
                          0.3333333333333333,
                          "#9c179e"
                        ],
                        [
                          0.4444444444444444,
                          "#bd3786"
                        ],
                        [
                          0.5555555555555556,
                          "#d8576b"
                        ],
                        [
                          0.6666666666666666,
                          "#ed7953"
                        ],
                        [
                          0.7777777777777778,
                          "#fb9f3a"
                        ],
                        [
                          0.8888888888888888,
                          "#fdca26"
                        ],
                        [
                          1,
                          "#f0f921"
                        ]
                      ]
                    },
                    "colorway": [
                      "#636efa",
                      "#EF553B",
                      "#00cc96",
                      "#ab63fa",
                      "#FFA15A",
                      "#19d3f3",
                      "#FF6692",
                      "#B6E880",
                      "#FF97FF",
                      "#FECB52"
                    ],
                    "font": {
                      "color": "#2a3f5f"
                    },
                    "geo": {
                      "bgcolor": "white",
                      "lakecolor": "white",
                      "landcolor": "#E5ECF6",
                      "showlakes": true,
                      "showland": true,
                      "subunitcolor": "white"
                    },
                    "hoverlabel": {
                      "align": "left"
                    },
                    "hovermode": "closest",
                    "mapbox": {
                      "style": "light"
                    },
                    "paper_bgcolor": "white",
                    "plot_bgcolor": "#E5ECF6",
                    "polar": {
                      "angularaxis": {
                        "gridcolor": "white",
                        "linecolor": "white",
                        "ticks": ""
                      },
                      "bgcolor": "#E5ECF6",
                      "radialaxis": {
                        "gridcolor": "white",
                        "linecolor": "white",
                        "ticks": ""
                      }
                    },
                    "scene": {
                      "xaxis": {
                        "backgroundcolor": "#E5ECF6",
                        "gridcolor": "white",
                        "gridwidth": 2,
                        "linecolor": "white",
                        "showbackground": true,
                        "ticks": "",
                        "zerolinecolor": "white"
                      },
                      "yaxis": {
                        "backgroundcolor": "#E5ECF6",
                        "gridcolor": "white",
                        "gridwidth": 2,
                        "linecolor": "white",
                        "showbackground": true,
                        "ticks": "",
                        "zerolinecolor": "white"
                      },
                      "zaxis": {
                        "backgroundcolor": "#E5ECF6",
                        "gridcolor": "white",
                        "gridwidth": 2,
                        "linecolor": "white",
                        "showbackground": true,
                        "ticks": "",
                        "zerolinecolor": "white"
                      }
                    },
                    "shapedefaults": {
                      "line": {
                        "color": "#2a3f5f"
                      }
                    },
                    "ternary": {
                      "aaxis": {
                        "gridcolor": "white",
                        "linecolor": "white",
                        "ticks": ""
                      },
                      "baxis": {
                        "gridcolor": "white",
                        "linecolor": "white",
                        "ticks": ""
                      },
                      "bgcolor": "#E5ECF6",
                      "caxis": {
                        "gridcolor": "white",
                        "linecolor": "white",
                        "ticks": ""
                      }
                    },
                    "title": {
                      "x": 0.05
                    },
                    "xaxis": {
                      "automargin": true,
                      "gridcolor": "white",
                      "linecolor": "white",
                      "ticks": "",
                      "title": {
                        "standoff": 15
                      },
                      "zerolinecolor": "white",
                      "zerolinewidth": 2
                    },
                    "yaxis": {
                      "automargin": true,
                      "gridcolor": "white",
                      "linecolor": "white",
                      "ticks": "",
                      "title": {
                        "standoff": 15
                      },
                      "zerolinecolor": "white",
                      "zerolinewidth": 2
                    }
                  }
                },
                "title": {
                  "text": "nordeste"
                },
                "xaxis": {
                  "title": {
                    "text": "Time"
                  }
                },
                "yaxis": {
                  "title": {
                    "text": "Value"
                  }
                }
              }
            }
          },
          "metadata": {},
          "output_type": "display_data"
        },
        {
          "data": {
            "application/vnd.plotly.v1+json": {
              "config": {
                "plotlyServerURL": "https://plot.ly"
              },
              "data": [
                {
                  "line": {
                    "color": "black",
                    "dash": "dot"
                  },
                  "mode": "lines",
                  "name": "Baseline",
                  "type": "scatter",
                  "x": [
                    "2018-01-01T00:00:00.000000000",
                    "2018-02-01T00:00:00.000000000",
                    "2018-03-01T00:00:00.000000000",
                    "2018-04-01T00:00:00.000000000",
                    "2018-05-01T00:00:00.000000000",
                    "2018-06-01T00:00:00.000000000",
                    "2018-07-01T00:00:00.000000000",
                    "2018-08-01T00:00:00.000000000",
                    "2018-09-01T00:00:00.000000000",
                    "2018-10-01T00:00:00.000000000",
                    "2018-11-01T00:00:00.000000000",
                    "2018-12-01T00:00:00.000000000",
                    "2019-01-01T00:00:00.000000000",
                    "2019-02-01T00:00:00.000000000",
                    "2019-03-01T00:00:00.000000000",
                    "2019-04-01T00:00:00.000000000",
                    "2019-05-01T00:00:00.000000000",
                    "2019-06-01T00:00:00.000000000",
                    "2019-07-01T00:00:00.000000000",
                    "2019-08-01T00:00:00.000000000",
                    "2019-09-01T00:00:00.000000000",
                    "2019-10-01T00:00:00.000000000",
                    "2019-11-01T00:00:00.000000000",
                    "2019-12-01T00:00:00.000000000",
                    "2020-01-01T00:00:00.000000000",
                    "2020-02-01T00:00:00.000000000",
                    "2020-03-01T00:00:00.000000000",
                    "2020-04-01T00:00:00.000000000",
                    "2020-05-01T00:00:00.000000000",
                    "2020-06-01T00:00:00.000000000",
                    "2020-07-01T00:00:00.000000000",
                    "2020-08-01T00:00:00.000000000",
                    "2020-09-01T00:00:00.000000000",
                    "2020-10-01T00:00:00.000000000",
                    "2020-11-01T00:00:00.000000000",
                    "2020-12-01T00:00:00.000000000",
                    "2021-01-01T00:00:00.000000000",
                    "2021-02-01T00:00:00.000000000",
                    "2021-03-01T00:00:00.000000000",
                    "2021-04-01T00:00:00.000000000",
                    "2021-05-01T00:00:00.000000000",
                    "2021-06-01T00:00:00.000000000",
                    "2021-07-01T00:00:00.000000000",
                    "2021-08-01T00:00:00.000000000",
                    "2021-09-01T00:00:00.000000000",
                    "2021-10-01T00:00:00.000000000",
                    "2021-11-01T00:00:00.000000000",
                    "2021-12-01T00:00:00.000000000",
                    "2022-01-01T00:00:00.000000000",
                    "2022-02-01T00:00:00.000000000",
                    "2022-03-01T00:00:00.000000000",
                    "2022-04-01T00:00:00.000000000",
                    "2022-05-01T00:00:00.000000000",
                    "2022-06-01T00:00:00.000000000",
                    "2022-07-01T00:00:00.000000000",
                    "2022-08-01T00:00:00.000000000",
                    "2022-09-01T00:00:00.000000000",
                    "2022-10-01T00:00:00.000000000",
                    "2022-11-01T00:00:00.000000000",
                    "2022-12-01T00:00:00.000000000",
                    "2023-01-01T00:00:00.000000000",
                    "2023-02-01T00:00:00.000000000",
                    "2023-03-01T00:00:00.000000000",
                    "2023-04-01T00:00:00.000000000",
                    "2023-05-01T00:00:00.000000000",
                    "2023-06-01T00:00:00.000000000",
                    "2023-07-01T00:00:00.000000000",
                    "2023-08-01T00:00:00.000000000",
                    "2023-09-01T00:00:00.000000000",
                    "2023-10-01T00:00:00.000000000",
                    "2023-11-01T00:00:00.000000000",
                    "2023-12-01T00:00:00.000000000"
                  ],
                  "y": [
                    9.00361080378701,
                    9.105539068949678,
                    9.208621245744634,
                    9.312870397398775,
                    9.418299735025451,
                    9.524922619298657,
                    9.632752562146191,
                    9.741803228461958,
                    9.852088437837686,
                    9.963622166314224,
                    10.07641854815267,
                    10.190491877625568,
                    10.305856610828359,
                    10.422527367511348,
                    10.540518932932416,
                    10.659846259730703,
                    10.780524469821493,
                    10.90256885631257,
                    11.025994885442248,
                    11.150818198539353,
                    11.2770546140054,
                    11.404720129319188,
                    11.533830923064107,
                    11.664403356978399,
                    11.796453978028605,
                    11.929999520506518,
                    12.065056908149845,
                    12.201643256286898,
                    12.339775874005559,
                    12.479472266346788,
                    12.620750136522979,
                    12.763627388161424,
                    12.908122127573176,
                    13.054252666047585,
                    13.202037522172832,
                    13.351495424182717,
                    13.502645312330028,
                    13.65550634128674,
                    13.81009788257146,
                    13.96643952700428,
                    14.124551087189456,
                    14.284452600026192,
                    14.446164329247834,
                    14.609706767989826,
                    14.775100641386725,
                    14.94236690919863,
                    15.111526768467323,
                    15.282601656202504,
                    15.455613252098415,
                    15.630583481281239,
                    15.80753451708758,
                    15.986488783874417,
                    16.16746895986086,
                    16.350497980002064,
                    16.53559903889572,
                    16.722795593721397,
                    16.912111367213186,
                    17.103570350666008,
                    17.297196806975933,
                    17.49301527371494,
                    17.691050566240456,
                    17.891327780840125,
                    18.09387229791217,
                    18.298709785181764,
                    18.505866200953783,
                    18.715367797402433,
                    18.92724112389808,
                    19.14151303037176,
                    19.358210670717764,
                    19.57736150623476,
                    19.798993309105846,
                    20.023134165918055
                  ]
                },
                {
                  "marker": {
                    "color": "black"
                  },
                  "mode": "markers",
                  "name": "Real",
                  "type": "scatter",
                  "x": [
                    "2018-01-01T00:00:00.000000000",
                    "2018-02-01T00:00:00.000000000",
                    "2018-03-01T00:00:00.000000000",
                    "2018-04-01T00:00:00.000000000",
                    "2018-05-01T00:00:00.000000000",
                    "2018-06-01T00:00:00.000000000",
                    "2018-07-01T00:00:00.000000000",
                    "2018-08-01T00:00:00.000000000",
                    "2018-09-01T00:00:00.000000000",
                    "2018-10-01T00:00:00.000000000",
                    "2018-11-01T00:00:00.000000000",
                    "2018-12-01T00:00:00.000000000",
                    "2019-01-01T00:00:00.000000000",
                    "2019-02-01T00:00:00.000000000",
                    "2019-03-01T00:00:00.000000000",
                    "2019-04-01T00:00:00.000000000",
                    "2019-05-01T00:00:00.000000000",
                    "2019-06-01T00:00:00.000000000",
                    "2019-07-01T00:00:00.000000000",
                    "2019-08-01T00:00:00.000000000",
                    "2019-09-01T00:00:00.000000000",
                    "2019-10-01T00:00:00.000000000",
                    "2019-11-01T00:00:00.000000000",
                    "2019-12-01T00:00:00.000000000",
                    "2020-01-01T00:00:00.000000000",
                    "2020-02-01T00:00:00.000000000",
                    "2020-03-01T00:00:00.000000000",
                    "2020-04-01T00:00:00.000000000",
                    "2020-05-01T00:00:00.000000000",
                    "2020-06-01T00:00:00.000000000",
                    "2020-07-01T00:00:00.000000000",
                    "2020-08-01T00:00:00.000000000",
                    "2020-09-01T00:00:00.000000000",
                    "2020-10-01T00:00:00.000000000",
                    "2020-11-01T00:00:00.000000000",
                    "2020-12-01T00:00:00.000000000",
                    "2021-01-01T00:00:00.000000000",
                    "2021-02-01T00:00:00.000000000",
                    "2021-03-01T00:00:00.000000000",
                    "2021-04-01T00:00:00.000000000",
                    "2021-05-01T00:00:00.000000000",
                    "2021-06-01T00:00:00.000000000",
                    "2021-07-01T00:00:00.000000000",
                    "2021-08-01T00:00:00.000000000",
                    "2021-09-01T00:00:00.000000000",
                    "2021-10-01T00:00:00.000000000",
                    "2021-11-01T00:00:00.000000000",
                    "2021-12-01T00:00:00.000000000",
                    "2022-01-01T00:00:00.000000000",
                    "2022-02-01T00:00:00.000000000",
                    "2022-03-01T00:00:00.000000000",
                    "2022-04-01T00:00:00.000000000",
                    "2022-05-01T00:00:00.000000000",
                    "2022-06-01T00:00:00.000000000",
                    "2022-07-01T00:00:00.000000000",
                    "2022-08-01T00:00:00.000000000",
                    "2022-09-01T00:00:00.000000000",
                    "2022-10-01T00:00:00.000000000",
                    "2022-11-01T00:00:00.000000000",
                    "2022-12-01T00:00:00.000000000",
                    "2023-01-01T00:00:00.000000000",
                    "2023-02-01T00:00:00.000000000",
                    "2023-03-01T00:00:00.000000000",
                    "2023-04-01T00:00:00.000000000",
                    "2023-05-01T00:00:00.000000000",
                    "2023-06-01T00:00:00.000000000",
                    "2023-07-01T00:00:00.000000000",
                    "2023-08-01T00:00:00.000000000",
                    "2023-09-01T00:00:00.000000000",
                    "2023-10-01T00:00:00.000000000",
                    "2023-11-01T00:00:00.000000000",
                    "2023-12-01T00:00:00.000000000"
                  ],
                  "y": [
                    8.426878377532496,
                    9.050068807384093,
                    8.67128636295594,
                    9.003563032092885,
                    8.946915263045474,
                    9.85363419072711,
                    10.184984620716545,
                    10.939433979392021,
                    11.123936247941456,
                    10.514601425283466,
                    10.538263042931515,
                    10.108644420428197,
                    9.362107703378983,
                    10.23760184618283,
                    9.994076723847575,
                    9.876069967851242,
                    10.503111770073302,
                    10.764310438354041,
                    11.157870096716753,
                    11.683034326365648,
                    11.57504450893173,
                    11.435901400425482,
                    11.321881926924895,
                    11.694531103011634,
                    11.44348074407114,
                    11.72749793708963,
                    12.481121140809947,
                    16.411697913838953,
                    14.93699256292307,
                    13.08196440700497,
                    12.38522172659647,
                    11.47179472172888,
                    11.725904574364707,
                    13.00458165652481,
                    13.081467779875249,
                    11.887528449424241,
                    10.946269993939234,
                    11.715844899335291,
                    12.21625000482322,
                    12.912082320665718,
                    12.922779550118872,
                    13.454350259555776,
                    14.218541833596905,
                    14.74692173650176,
                    16.032713558089803,
                    15.775601044851532,
                    15.354109407168055,
                    13.644758489398951,
                    11.424802000858497,
                    15.58832484499557,
                    16.446089817123465,
                    16.283862121540995,
                    16.568032846648297,
                    15.493116056991719,
                    13.987454381095636,
                    16.288298505533497,
                    18.766349422811608,
                    17.577143665904316,
                    16.83442569398649,
                    16.26427375562621,
                    17.604213424304994,
                    17.965850941505067,
                    17.065355636782126,
                    17.448335457035313,
                    18.665913643723805,
                    18.79174383617419,
                    19.406036024299052,
                    20.649308265621283,
                    21.725225831917967,
                    21.74317528453239,
                    21.09626470929183,
                    20.746736328620944
                  ]
                },
                {
                  "line": {
                    "color": "purple"
                  },
                  "mode": "lines",
                  "name": "Full model",
                  "type": "scatter",
                  "x": [
                    "2018-01-01T00:00:00.000000000",
                    "2018-02-01T00:00:00.000000000",
                    "2018-03-01T00:00:00.000000000",
                    "2018-04-01T00:00:00.000000000",
                    "2018-05-01T00:00:00.000000000",
                    "2018-06-01T00:00:00.000000000",
                    "2018-07-01T00:00:00.000000000",
                    "2018-08-01T00:00:00.000000000",
                    "2018-09-01T00:00:00.000000000",
                    "2018-10-01T00:00:00.000000000",
                    "2018-11-01T00:00:00.000000000",
                    "2018-12-01T00:00:00.000000000",
                    "2019-01-01T00:00:00.000000000",
                    "2019-02-01T00:00:00.000000000",
                    "2019-03-01T00:00:00.000000000",
                    "2019-04-01T00:00:00.000000000",
                    "2019-05-01T00:00:00.000000000",
                    "2019-06-01T00:00:00.000000000",
                    "2019-07-01T00:00:00.000000000",
                    "2019-08-01T00:00:00.000000000",
                    "2019-09-01T00:00:00.000000000",
                    "2019-10-01T00:00:00.000000000",
                    "2019-11-01T00:00:00.000000000",
                    "2019-12-01T00:00:00.000000000",
                    "2020-01-01T00:00:00.000000000",
                    "2020-02-01T00:00:00.000000000",
                    "2020-03-01T00:00:00.000000000",
                    "2020-04-01T00:00:00.000000000",
                    "2020-05-01T00:00:00.000000000",
                    "2020-06-01T00:00:00.000000000",
                    "2020-07-01T00:00:00.000000000",
                    "2020-08-01T00:00:00.000000000",
                    "2020-09-01T00:00:00.000000000",
                    "2020-10-01T00:00:00.000000000",
                    "2020-11-01T00:00:00.000000000",
                    "2020-12-01T00:00:00.000000000",
                    "2021-01-01T00:00:00.000000000",
                    "2021-02-01T00:00:00.000000000",
                    "2021-03-01T00:00:00.000000000",
                    "2021-04-01T00:00:00.000000000",
                    "2021-05-01T00:00:00.000000000",
                    "2021-06-01T00:00:00.000000000",
                    "2021-07-01T00:00:00.000000000",
                    "2021-08-01T00:00:00.000000000",
                    "2021-09-01T00:00:00.000000000",
                    "2021-10-01T00:00:00.000000000",
                    "2021-11-01T00:00:00.000000000",
                    "2021-12-01T00:00:00.000000000",
                    "2022-01-01T00:00:00.000000000",
                    "2022-02-01T00:00:00.000000000",
                    "2022-03-01T00:00:00.000000000",
                    "2022-04-01T00:00:00.000000000",
                    "2022-05-01T00:00:00.000000000",
                    "2022-06-01T00:00:00.000000000",
                    "2022-07-01T00:00:00.000000000",
                    "2022-08-01T00:00:00.000000000",
                    "2022-09-01T00:00:00.000000000",
                    "2022-10-01T00:00:00.000000000",
                    "2022-11-01T00:00:00.000000000",
                    "2022-12-01T00:00:00.000000000",
                    "2023-01-01T00:00:00.000000000",
                    "2023-02-01T00:00:00.000000000",
                    "2023-03-01T00:00:00.000000000",
                    "2023-04-01T00:00:00.000000000",
                    "2023-05-01T00:00:00.000000000",
                    "2023-06-01T00:00:00.000000000",
                    "2023-07-01T00:00:00.000000000",
                    "2023-08-01T00:00:00.000000000",
                    "2023-09-01T00:00:00.000000000",
                    "2023-10-01T00:00:00.000000000",
                    "2023-11-01T00:00:00.000000000",
                    "2023-12-01T00:00:00.000000000"
                  ],
                  "y": [
                    9.00361080378701,
                    9.105539068949678,
                    9.208621245744634,
                    9.312870397398775,
                    9.418299735025451,
                    9.524922619298657,
                    9.632752562146191,
                    9.741803228461958,
                    9.852088437837686,
                    9.963622166314224,
                    10.07641854815267,
                    10.190491877625568,
                    10.305856610828359,
                    10.422527367511348,
                    10.540518932932416,
                    10.659846259730703,
                    10.780524469821493,
                    10.90256885631257,
                    11.025994885442248,
                    11.150818198539353,
                    11.2770546140054,
                    11.404720129319188,
                    11.533830923064107,
                    11.664403356978399,
                    11.796453978028605,
                    11.929999520506518,
                    12.065056908149845,
                    14.639963607166226,
                    14.843046289715016,
                    15.048946095110402,
                    11.608636411737297,
                    11.76966912237021,
                    11.932935646947675,
                    12.09846697249536,
                    12.266294515884855,
                    12.436450129796356,
                    12.608966108764163,
                    12.783875195305955,
                    12.961210586137174,
                    13.141005938471524,
                    13.323295376408927,
                    13.508113497412074,
                    13.69549537887284,
                    13.88547658476973,
                    14.078093172417743,
                    14.27338169931182,
                    14.471379230065246,
                    14.67212334344432,
                    14.875652139500536,
                    15.08200424680179,
                    15.291218829763825,
                    15.33872037456061,
                    15.591220099183753,
                    15.847876370727223,
                    16.10875761256189,
                    16.373933374416094,
                    16.643474350917284,
                    16.91745240043885,
                    17.195940564257285,
                    17.47901308602461,
                    17.766745431561418,
                    18.05921430897565,
                    18.35649768911271,
                    18.658674826342057,
                    18.965826279686095,
                    19.278033934296797,
                    19.59538102328595,
                    19.91795214991469,
                    20.245833310148324,
                    20.5791119155825,
                    20.917876816746695,
                    21.26221832679138
                  ]
                }
              ],
              "layout": {
                "annotations": [
                  {
                    "arrowhead": 2,
                    "ax": 30,
                    "ay": -40,
                    "showarrow": true,
                    "text": "Pandemia",
                    "x": "2020-04-01",
                    "y": 21.74317528453239
                  },
                  {
                    "arrowhead": 2,
                    "ax": 30,
                    "ay": -40,
                    "showarrow": true,
                    "text": "Pos Pandemia",
                    "x": "2022-04-01",
                    "y": 21.74317528453239
                  }
                ],
                "legend": {
                  "title": {
                    "text": "Legend"
                  }
                },
                "shapes": [
                  {
                    "line": {
                      "color": "black",
                      "dash": "dash"
                    },
                    "type": "line",
                    "x0": "2020-04-01",
                    "x1": "2020-04-01",
                    "y0": 8.426878377532496,
                    "y1": 21.74317528453239
                  },
                  {
                    "line": {
                      "color": "black",
                      "dash": "dash"
                    },
                    "type": "line",
                    "x0": "2022-04-01",
                    "x1": "2022-04-01",
                    "y0": 8.426878377532496,
                    "y1": 21.74317528453239
                  }
                ],
                "template": {
                  "data": {
                    "bar": [
                      {
                        "error_x": {
                          "color": "#2a3f5f"
                        },
                        "error_y": {
                          "color": "#2a3f5f"
                        },
                        "marker": {
                          "line": {
                            "color": "#E5ECF6",
                            "width": 0.5
                          },
                          "pattern": {
                            "fillmode": "overlay",
                            "size": 10,
                            "solidity": 0.2
                          }
                        },
                        "type": "bar"
                      }
                    ],
                    "barpolar": [
                      {
                        "marker": {
                          "line": {
                            "color": "#E5ECF6",
                            "width": 0.5
                          },
                          "pattern": {
                            "fillmode": "overlay",
                            "size": 10,
                            "solidity": 0.2
                          }
                        },
                        "type": "barpolar"
                      }
                    ],
                    "carpet": [
                      {
                        "aaxis": {
                          "endlinecolor": "#2a3f5f",
                          "gridcolor": "white",
                          "linecolor": "white",
                          "minorgridcolor": "white",
                          "startlinecolor": "#2a3f5f"
                        },
                        "baxis": {
                          "endlinecolor": "#2a3f5f",
                          "gridcolor": "white",
                          "linecolor": "white",
                          "minorgridcolor": "white",
                          "startlinecolor": "#2a3f5f"
                        },
                        "type": "carpet"
                      }
                    ],
                    "choropleth": [
                      {
                        "colorbar": {
                          "outlinewidth": 0,
                          "ticks": ""
                        },
                        "type": "choropleth"
                      }
                    ],
                    "contour": [
                      {
                        "colorbar": {
                          "outlinewidth": 0,
                          "ticks": ""
                        },
                        "colorscale": [
                          [
                            0,
                            "#0d0887"
                          ],
                          [
                            0.1111111111111111,
                            "#46039f"
                          ],
                          [
                            0.2222222222222222,
                            "#7201a8"
                          ],
                          [
                            0.3333333333333333,
                            "#9c179e"
                          ],
                          [
                            0.4444444444444444,
                            "#bd3786"
                          ],
                          [
                            0.5555555555555556,
                            "#d8576b"
                          ],
                          [
                            0.6666666666666666,
                            "#ed7953"
                          ],
                          [
                            0.7777777777777778,
                            "#fb9f3a"
                          ],
                          [
                            0.8888888888888888,
                            "#fdca26"
                          ],
                          [
                            1,
                            "#f0f921"
                          ]
                        ],
                        "type": "contour"
                      }
                    ],
                    "contourcarpet": [
                      {
                        "colorbar": {
                          "outlinewidth": 0,
                          "ticks": ""
                        },
                        "type": "contourcarpet"
                      }
                    ],
                    "heatmap": [
                      {
                        "colorbar": {
                          "outlinewidth": 0,
                          "ticks": ""
                        },
                        "colorscale": [
                          [
                            0,
                            "#0d0887"
                          ],
                          [
                            0.1111111111111111,
                            "#46039f"
                          ],
                          [
                            0.2222222222222222,
                            "#7201a8"
                          ],
                          [
                            0.3333333333333333,
                            "#9c179e"
                          ],
                          [
                            0.4444444444444444,
                            "#bd3786"
                          ],
                          [
                            0.5555555555555556,
                            "#d8576b"
                          ],
                          [
                            0.6666666666666666,
                            "#ed7953"
                          ],
                          [
                            0.7777777777777778,
                            "#fb9f3a"
                          ],
                          [
                            0.8888888888888888,
                            "#fdca26"
                          ],
                          [
                            1,
                            "#f0f921"
                          ]
                        ],
                        "type": "heatmap"
                      }
                    ],
                    "heatmapgl": [
                      {
                        "colorbar": {
                          "outlinewidth": 0,
                          "ticks": ""
                        },
                        "colorscale": [
                          [
                            0,
                            "#0d0887"
                          ],
                          [
                            0.1111111111111111,
                            "#46039f"
                          ],
                          [
                            0.2222222222222222,
                            "#7201a8"
                          ],
                          [
                            0.3333333333333333,
                            "#9c179e"
                          ],
                          [
                            0.4444444444444444,
                            "#bd3786"
                          ],
                          [
                            0.5555555555555556,
                            "#d8576b"
                          ],
                          [
                            0.6666666666666666,
                            "#ed7953"
                          ],
                          [
                            0.7777777777777778,
                            "#fb9f3a"
                          ],
                          [
                            0.8888888888888888,
                            "#fdca26"
                          ],
                          [
                            1,
                            "#f0f921"
                          ]
                        ],
                        "type": "heatmapgl"
                      }
                    ],
                    "histogram": [
                      {
                        "marker": {
                          "pattern": {
                            "fillmode": "overlay",
                            "size": 10,
                            "solidity": 0.2
                          }
                        },
                        "type": "histogram"
                      }
                    ],
                    "histogram2d": [
                      {
                        "colorbar": {
                          "outlinewidth": 0,
                          "ticks": ""
                        },
                        "colorscale": [
                          [
                            0,
                            "#0d0887"
                          ],
                          [
                            0.1111111111111111,
                            "#46039f"
                          ],
                          [
                            0.2222222222222222,
                            "#7201a8"
                          ],
                          [
                            0.3333333333333333,
                            "#9c179e"
                          ],
                          [
                            0.4444444444444444,
                            "#bd3786"
                          ],
                          [
                            0.5555555555555556,
                            "#d8576b"
                          ],
                          [
                            0.6666666666666666,
                            "#ed7953"
                          ],
                          [
                            0.7777777777777778,
                            "#fb9f3a"
                          ],
                          [
                            0.8888888888888888,
                            "#fdca26"
                          ],
                          [
                            1,
                            "#f0f921"
                          ]
                        ],
                        "type": "histogram2d"
                      }
                    ],
                    "histogram2dcontour": [
                      {
                        "colorbar": {
                          "outlinewidth": 0,
                          "ticks": ""
                        },
                        "colorscale": [
                          [
                            0,
                            "#0d0887"
                          ],
                          [
                            0.1111111111111111,
                            "#46039f"
                          ],
                          [
                            0.2222222222222222,
                            "#7201a8"
                          ],
                          [
                            0.3333333333333333,
                            "#9c179e"
                          ],
                          [
                            0.4444444444444444,
                            "#bd3786"
                          ],
                          [
                            0.5555555555555556,
                            "#d8576b"
                          ],
                          [
                            0.6666666666666666,
                            "#ed7953"
                          ],
                          [
                            0.7777777777777778,
                            "#fb9f3a"
                          ],
                          [
                            0.8888888888888888,
                            "#fdca26"
                          ],
                          [
                            1,
                            "#f0f921"
                          ]
                        ],
                        "type": "histogram2dcontour"
                      }
                    ],
                    "mesh3d": [
                      {
                        "colorbar": {
                          "outlinewidth": 0,
                          "ticks": ""
                        },
                        "type": "mesh3d"
                      }
                    ],
                    "parcoords": [
                      {
                        "line": {
                          "colorbar": {
                            "outlinewidth": 0,
                            "ticks": ""
                          }
                        },
                        "type": "parcoords"
                      }
                    ],
                    "pie": [
                      {
                        "automargin": true,
                        "type": "pie"
                      }
                    ],
                    "scatter": [
                      {
                        "fillpattern": {
                          "fillmode": "overlay",
                          "size": 10,
                          "solidity": 0.2
                        },
                        "type": "scatter"
                      }
                    ],
                    "scatter3d": [
                      {
                        "line": {
                          "colorbar": {
                            "outlinewidth": 0,
                            "ticks": ""
                          }
                        },
                        "marker": {
                          "colorbar": {
                            "outlinewidth": 0,
                            "ticks": ""
                          }
                        },
                        "type": "scatter3d"
                      }
                    ],
                    "scattercarpet": [
                      {
                        "marker": {
                          "colorbar": {
                            "outlinewidth": 0,
                            "ticks": ""
                          }
                        },
                        "type": "scattercarpet"
                      }
                    ],
                    "scattergeo": [
                      {
                        "marker": {
                          "colorbar": {
                            "outlinewidth": 0,
                            "ticks": ""
                          }
                        },
                        "type": "scattergeo"
                      }
                    ],
                    "scattergl": [
                      {
                        "marker": {
                          "colorbar": {
                            "outlinewidth": 0,
                            "ticks": ""
                          }
                        },
                        "type": "scattergl"
                      }
                    ],
                    "scattermapbox": [
                      {
                        "marker": {
                          "colorbar": {
                            "outlinewidth": 0,
                            "ticks": ""
                          }
                        },
                        "type": "scattermapbox"
                      }
                    ],
                    "scatterpolar": [
                      {
                        "marker": {
                          "colorbar": {
                            "outlinewidth": 0,
                            "ticks": ""
                          }
                        },
                        "type": "scatterpolar"
                      }
                    ],
                    "scatterpolargl": [
                      {
                        "marker": {
                          "colorbar": {
                            "outlinewidth": 0,
                            "ticks": ""
                          }
                        },
                        "type": "scatterpolargl"
                      }
                    ],
                    "scatterternary": [
                      {
                        "marker": {
                          "colorbar": {
                            "outlinewidth": 0,
                            "ticks": ""
                          }
                        },
                        "type": "scatterternary"
                      }
                    ],
                    "surface": [
                      {
                        "colorbar": {
                          "outlinewidth": 0,
                          "ticks": ""
                        },
                        "colorscale": [
                          [
                            0,
                            "#0d0887"
                          ],
                          [
                            0.1111111111111111,
                            "#46039f"
                          ],
                          [
                            0.2222222222222222,
                            "#7201a8"
                          ],
                          [
                            0.3333333333333333,
                            "#9c179e"
                          ],
                          [
                            0.4444444444444444,
                            "#bd3786"
                          ],
                          [
                            0.5555555555555556,
                            "#d8576b"
                          ],
                          [
                            0.6666666666666666,
                            "#ed7953"
                          ],
                          [
                            0.7777777777777778,
                            "#fb9f3a"
                          ],
                          [
                            0.8888888888888888,
                            "#fdca26"
                          ],
                          [
                            1,
                            "#f0f921"
                          ]
                        ],
                        "type": "surface"
                      }
                    ],
                    "table": [
                      {
                        "cells": {
                          "fill": {
                            "color": "#EBF0F8"
                          },
                          "line": {
                            "color": "white"
                          }
                        },
                        "header": {
                          "fill": {
                            "color": "#C8D4E3"
                          },
                          "line": {
                            "color": "white"
                          }
                        },
                        "type": "table"
                      }
                    ]
                  },
                  "layout": {
                    "annotationdefaults": {
                      "arrowcolor": "#2a3f5f",
                      "arrowhead": 0,
                      "arrowwidth": 1
                    },
                    "autotypenumbers": "strict",
                    "coloraxis": {
                      "colorbar": {
                        "outlinewidth": 0,
                        "ticks": ""
                      }
                    },
                    "colorscale": {
                      "diverging": [
                        [
                          0,
                          "#8e0152"
                        ],
                        [
                          0.1,
                          "#c51b7d"
                        ],
                        [
                          0.2,
                          "#de77ae"
                        ],
                        [
                          0.3,
                          "#f1b6da"
                        ],
                        [
                          0.4,
                          "#fde0ef"
                        ],
                        [
                          0.5,
                          "#f7f7f7"
                        ],
                        [
                          0.6,
                          "#e6f5d0"
                        ],
                        [
                          0.7,
                          "#b8e186"
                        ],
                        [
                          0.8,
                          "#7fbc41"
                        ],
                        [
                          0.9,
                          "#4d9221"
                        ],
                        [
                          1,
                          "#276419"
                        ]
                      ],
                      "sequential": [
                        [
                          0,
                          "#0d0887"
                        ],
                        [
                          0.1111111111111111,
                          "#46039f"
                        ],
                        [
                          0.2222222222222222,
                          "#7201a8"
                        ],
                        [
                          0.3333333333333333,
                          "#9c179e"
                        ],
                        [
                          0.4444444444444444,
                          "#bd3786"
                        ],
                        [
                          0.5555555555555556,
                          "#d8576b"
                        ],
                        [
                          0.6666666666666666,
                          "#ed7953"
                        ],
                        [
                          0.7777777777777778,
                          "#fb9f3a"
                        ],
                        [
                          0.8888888888888888,
                          "#fdca26"
                        ],
                        [
                          1,
                          "#f0f921"
                        ]
                      ],
                      "sequentialminus": [
                        [
                          0,
                          "#0d0887"
                        ],
                        [
                          0.1111111111111111,
                          "#46039f"
                        ],
                        [
                          0.2222222222222222,
                          "#7201a8"
                        ],
                        [
                          0.3333333333333333,
                          "#9c179e"
                        ],
                        [
                          0.4444444444444444,
                          "#bd3786"
                        ],
                        [
                          0.5555555555555556,
                          "#d8576b"
                        ],
                        [
                          0.6666666666666666,
                          "#ed7953"
                        ],
                        [
                          0.7777777777777778,
                          "#fb9f3a"
                        ],
                        [
                          0.8888888888888888,
                          "#fdca26"
                        ],
                        [
                          1,
                          "#f0f921"
                        ]
                      ]
                    },
                    "colorway": [
                      "#636efa",
                      "#EF553B",
                      "#00cc96",
                      "#ab63fa",
                      "#FFA15A",
                      "#19d3f3",
                      "#FF6692",
                      "#B6E880",
                      "#FF97FF",
                      "#FECB52"
                    ],
                    "font": {
                      "color": "#2a3f5f"
                    },
                    "geo": {
                      "bgcolor": "white",
                      "lakecolor": "white",
                      "landcolor": "#E5ECF6",
                      "showlakes": true,
                      "showland": true,
                      "subunitcolor": "white"
                    },
                    "hoverlabel": {
                      "align": "left"
                    },
                    "hovermode": "closest",
                    "mapbox": {
                      "style": "light"
                    },
                    "paper_bgcolor": "white",
                    "plot_bgcolor": "#E5ECF6",
                    "polar": {
                      "angularaxis": {
                        "gridcolor": "white",
                        "linecolor": "white",
                        "ticks": ""
                      },
                      "bgcolor": "#E5ECF6",
                      "radialaxis": {
                        "gridcolor": "white",
                        "linecolor": "white",
                        "ticks": ""
                      }
                    },
                    "scene": {
                      "xaxis": {
                        "backgroundcolor": "#E5ECF6",
                        "gridcolor": "white",
                        "gridwidth": 2,
                        "linecolor": "white",
                        "showbackground": true,
                        "ticks": "",
                        "zerolinecolor": "white"
                      },
                      "yaxis": {
                        "backgroundcolor": "#E5ECF6",
                        "gridcolor": "white",
                        "gridwidth": 2,
                        "linecolor": "white",
                        "showbackground": true,
                        "ticks": "",
                        "zerolinecolor": "white"
                      },
                      "zaxis": {
                        "backgroundcolor": "#E5ECF6",
                        "gridcolor": "white",
                        "gridwidth": 2,
                        "linecolor": "white",
                        "showbackground": true,
                        "ticks": "",
                        "zerolinecolor": "white"
                      }
                    },
                    "shapedefaults": {
                      "line": {
                        "color": "#2a3f5f"
                      }
                    },
                    "ternary": {
                      "aaxis": {
                        "gridcolor": "white",
                        "linecolor": "white",
                        "ticks": ""
                      },
                      "baxis": {
                        "gridcolor": "white",
                        "linecolor": "white",
                        "ticks": ""
                      },
                      "bgcolor": "#E5ECF6",
                      "caxis": {
                        "gridcolor": "white",
                        "linecolor": "white",
                        "ticks": ""
                      }
                    },
                    "title": {
                      "x": 0.05
                    },
                    "xaxis": {
                      "automargin": true,
                      "gridcolor": "white",
                      "linecolor": "white",
                      "ticks": "",
                      "title": {
                        "standoff": 15
                      },
                      "zerolinecolor": "white",
                      "zerolinewidth": 2
                    },
                    "yaxis": {
                      "automargin": true,
                      "gridcolor": "white",
                      "linecolor": "white",
                      "ticks": "",
                      "title": {
                        "standoff": 15
                      },
                      "zerolinecolor": "white",
                      "zerolinewidth": 2
                    }
                  }
                },
                "title": {
                  "text": "norte"
                },
                "xaxis": {
                  "title": {
                    "text": "Time"
                  }
                },
                "yaxis": {
                  "title": {
                    "text": "Value"
                  }
                }
              }
            }
          },
          "metadata": {},
          "output_type": "display_data"
        },
        {
          "data": {
            "application/vnd.plotly.v1+json": {
              "config": {
                "plotlyServerURL": "https://plot.ly"
              },
              "data": [
                {
                  "line": {
                    "color": "black",
                    "dash": "dot"
                  },
                  "mode": "lines",
                  "name": "Baseline",
                  "type": "scatter",
                  "x": [
                    "2018-01-01T00:00:00.000000000",
                    "2018-02-01T00:00:00.000000000",
                    "2018-03-01T00:00:00.000000000",
                    "2018-04-01T00:00:00.000000000",
                    "2018-05-01T00:00:00.000000000",
                    "2018-06-01T00:00:00.000000000",
                    "2018-07-01T00:00:00.000000000",
                    "2018-08-01T00:00:00.000000000",
                    "2018-09-01T00:00:00.000000000",
                    "2018-10-01T00:00:00.000000000",
                    "2018-11-01T00:00:00.000000000",
                    "2018-12-01T00:00:00.000000000",
                    "2019-01-01T00:00:00.000000000",
                    "2019-02-01T00:00:00.000000000",
                    "2019-03-01T00:00:00.000000000",
                    "2019-04-01T00:00:00.000000000",
                    "2019-05-01T00:00:00.000000000",
                    "2019-06-01T00:00:00.000000000",
                    "2019-07-01T00:00:00.000000000",
                    "2019-08-01T00:00:00.000000000",
                    "2019-09-01T00:00:00.000000000",
                    "2019-10-01T00:00:00.000000000",
                    "2019-11-01T00:00:00.000000000",
                    "2019-12-01T00:00:00.000000000",
                    "2020-01-01T00:00:00.000000000",
                    "2020-02-01T00:00:00.000000000",
                    "2020-03-01T00:00:00.000000000",
                    "2020-04-01T00:00:00.000000000",
                    "2020-05-01T00:00:00.000000000",
                    "2020-06-01T00:00:00.000000000",
                    "2020-07-01T00:00:00.000000000",
                    "2020-08-01T00:00:00.000000000",
                    "2020-09-01T00:00:00.000000000",
                    "2020-10-01T00:00:00.000000000",
                    "2020-11-01T00:00:00.000000000",
                    "2020-12-01T00:00:00.000000000",
                    "2021-01-01T00:00:00.000000000",
                    "2021-02-01T00:00:00.000000000",
                    "2021-03-01T00:00:00.000000000",
                    "2021-04-01T00:00:00.000000000",
                    "2021-05-01T00:00:00.000000000",
                    "2021-06-01T00:00:00.000000000",
                    "2021-07-01T00:00:00.000000000",
                    "2021-08-01T00:00:00.000000000",
                    "2021-09-01T00:00:00.000000000",
                    "2021-10-01T00:00:00.000000000",
                    "2021-11-01T00:00:00.000000000",
                    "2021-12-01T00:00:00.000000000",
                    "2022-01-01T00:00:00.000000000",
                    "2022-02-01T00:00:00.000000000",
                    "2022-03-01T00:00:00.000000000",
                    "2022-04-01T00:00:00.000000000",
                    "2022-05-01T00:00:00.000000000",
                    "2022-06-01T00:00:00.000000000",
                    "2022-07-01T00:00:00.000000000",
                    "2022-08-01T00:00:00.000000000",
                    "2022-09-01T00:00:00.000000000",
                    "2022-10-01T00:00:00.000000000",
                    "2022-11-01T00:00:00.000000000",
                    "2022-12-01T00:00:00.000000000",
                    "2023-01-01T00:00:00.000000000",
                    "2023-02-01T00:00:00.000000000",
                    "2023-03-01T00:00:00.000000000",
                    "2023-04-01T00:00:00.000000000",
                    "2023-05-01T00:00:00.000000000",
                    "2023-06-01T00:00:00.000000000",
                    "2023-07-01T00:00:00.000000000",
                    "2023-08-01T00:00:00.000000000",
                    "2023-09-01T00:00:00.000000000",
                    "2023-10-01T00:00:00.000000000",
                    "2023-11-01T00:00:00.000000000",
                    "2023-12-01T00:00:00.000000000"
                  ],
                  "y": [
                    17.503601226800427,
                    17.750965299690773,
                    18.001825166604533,
                    18.256230230738026,
                    18.51423059346251,
                    18.77587706419093,
                    19.04122117038408,
                    19.3103151676982,
                    19.583212050275957,
                    19.85996556118287,
                    20.140630202991225,
                    20.42526124851356,
                    20.713914751687845,
                    21.00664755861649,
                    21.303517318761344,
                    21.604582496296935,
                    21.909902381624118,
                    22.21953710304648,
                    22.533547638611704,
                    22.851995828120337,
                    23.174944385304208,
                    23.50245691017701,
                    23.834597901559384,
                    24.171432769781024,
                    24.51302784956228,
                    24.859450413077838,
                    25.21076868320496,
                    25.567051846959036,
                    25.92837006911887,
                    26.294794506044756,
                    26.666397319691505,
                    27.04325169181988,
                    27.425431838408485,
                    27.813013024269722,
                    28.206071577871896,
                    28.60468490637119,
                    29.00893151085569,
                    29.418891001805214,
                    29.834644114769254,
                    30.256272726266854,
                    30.683859869910812,
                    31.11748975276008,
                    31.557247771903057,
                    32.00322053127531,
                    32.45549585871496,
                    32.91416282325909,
                    33.37931175268461,
                    33.851034251296966,
                    34.329423217970316,
                    34.814572864442574,
                    35.306578733869046,
                    35.80553771963829,
                    36.311548084453804,
                    36.8247094796855,
                    37.34512296499454,
                    37.87289102823557,
                    38.40811760564024,
                    38.9509081022859,
                    39.501369412853606,
                    40.059609942679465,
                    40.62573962910349,
                    41.19986996312018,
                    41.78211401133499,
                    42.37258643823122,
                    42.97140352875146,
                    43.578683211198246,
                    44.19454508045831,
                    44.81911042155507,
                    45.4525022335339,
                    46.09484525368506,
                    46.746265982108845,
                    47.40689270662796
                  ]
                },
                {
                  "marker": {
                    "color": "black"
                  },
                  "mode": "markers",
                  "name": "Real",
                  "type": "scatter",
                  "x": [
                    "2018-01-01T00:00:00.000000000",
                    "2018-02-01T00:00:00.000000000",
                    "2018-03-01T00:00:00.000000000",
                    "2018-04-01T00:00:00.000000000",
                    "2018-05-01T00:00:00.000000000",
                    "2018-06-01T00:00:00.000000000",
                    "2018-07-01T00:00:00.000000000",
                    "2018-08-01T00:00:00.000000000",
                    "2018-09-01T00:00:00.000000000",
                    "2018-10-01T00:00:00.000000000",
                    "2018-11-01T00:00:00.000000000",
                    "2018-12-01T00:00:00.000000000",
                    "2019-01-01T00:00:00.000000000",
                    "2019-02-01T00:00:00.000000000",
                    "2019-03-01T00:00:00.000000000",
                    "2019-04-01T00:00:00.000000000",
                    "2019-05-01T00:00:00.000000000",
                    "2019-06-01T00:00:00.000000000",
                    "2019-07-01T00:00:00.000000000",
                    "2019-08-01T00:00:00.000000000",
                    "2019-09-01T00:00:00.000000000",
                    "2019-10-01T00:00:00.000000000",
                    "2019-11-01T00:00:00.000000000",
                    "2019-12-01T00:00:00.000000000",
                    "2020-01-01T00:00:00.000000000",
                    "2020-02-01T00:00:00.000000000",
                    "2020-03-01T00:00:00.000000000",
                    "2020-04-01T00:00:00.000000000",
                    "2020-05-01T00:00:00.000000000",
                    "2020-06-01T00:00:00.000000000",
                    "2020-07-01T00:00:00.000000000",
                    "2020-08-01T00:00:00.000000000",
                    "2020-09-01T00:00:00.000000000",
                    "2020-10-01T00:00:00.000000000",
                    "2020-11-01T00:00:00.000000000",
                    "2020-12-01T00:00:00.000000000",
                    "2021-01-01T00:00:00.000000000",
                    "2021-02-01T00:00:00.000000000",
                    "2021-03-01T00:00:00.000000000",
                    "2021-04-01T00:00:00.000000000",
                    "2021-05-01T00:00:00.000000000",
                    "2021-06-01T00:00:00.000000000",
                    "2021-07-01T00:00:00.000000000",
                    "2021-08-01T00:00:00.000000000",
                    "2021-09-01T00:00:00.000000000",
                    "2021-10-01T00:00:00.000000000",
                    "2021-11-01T00:00:00.000000000",
                    "2021-12-01T00:00:00.000000000",
                    "2022-01-01T00:00:00.000000000",
                    "2022-02-01T00:00:00.000000000",
                    "2022-03-01T00:00:00.000000000",
                    "2022-04-01T00:00:00.000000000",
                    "2022-05-01T00:00:00.000000000",
                    "2022-06-01T00:00:00.000000000",
                    "2022-07-01T00:00:00.000000000",
                    "2022-08-01T00:00:00.000000000",
                    "2022-09-01T00:00:00.000000000",
                    "2022-10-01T00:00:00.000000000",
                    "2022-11-01T00:00:00.000000000",
                    "2022-12-01T00:00:00.000000000",
                    "2023-01-01T00:00:00.000000000",
                    "2023-02-01T00:00:00.000000000",
                    "2023-03-01T00:00:00.000000000",
                    "2023-04-01T00:00:00.000000000",
                    "2023-05-01T00:00:00.000000000",
                    "2023-06-01T00:00:00.000000000",
                    "2023-07-01T00:00:00.000000000",
                    "2023-08-01T00:00:00.000000000",
                    "2023-09-01T00:00:00.000000000",
                    "2023-10-01T00:00:00.000000000",
                    "2023-11-01T00:00:00.000000000",
                    "2023-12-01T00:00:00.000000000"
                  ],
                  "y": [
                    17.669845094648576,
                    18.185187308725563,
                    17.950453785779263,
                    18.729090799185194,
                    18.081350208384745,
                    19.56274308315385,
                    18.885640415734603,
                    19.793114608531845,
                    19.759887562699213,
                    20.337163673447794,
                    20.63169704718812,
                    20.218297179083624,
                    19.640453178247334,
                    20.274882787563254,
                    20.424304598098384,
                    19.631902149191486,
                    19.974011964303227,
                    20.77808414973822,
                    22.082711271518505,
                    24.09753919330329,
                    24.508796528561742,
                    24.61146428133453,
                    24.586285364643953,
                    24.81857492401945,
                    24.285880826912887,
                    25.163916993285326,
                    25.164493190057506,
                    31.586773731311002,
                    30.04770398432218,
                    28.70785063666342,
                    26.893340847344078,
                    27.74223470570267,
                    28.791763634418853,
                    28.10866990685818,
                    27.537725064250072,
                    27.093181900417818,
                    25.655236468392513,
                    27.276362168033607,
                    26.2061040320222,
                    28.22230211244873,
                    26.450315791316513,
                    26.571615780316336,
                    28.131499613846472,
                    29.40814456535118,
                    30.03777349027119,
                    29.98090772016616,
                    29.082972686148715,
                    27.125681540080386,
                    20.50091788014112,
                    27.461225650517765,
                    28.686628966228405,
                    28.656692341815543,
                    27.09992907510253,
                    25.453157857291124,
                    25.487032246085946,
                    26.949134176379925,
                    29.74795136807938,
                    29.17274461050485,
                    28.436756672617342,
                    28.67752865677373,
                    29.80827743003414,
                    30.714038739391953,
                    29.41020297275323,
                    29.089856244683215,
                    29.721212779513397,
                    30.519215021874267,
                    31.195245406092614,
                    32.408510612327895,
                    33.153697014146786,
                    32.608724856068434,
                    32.36564873933189,
                    32.43238065832724
                  ]
                },
                {
                  "line": {
                    "color": "purple"
                  },
                  "mode": "lines",
                  "name": "Full model",
                  "type": "scatter",
                  "x": [
                    "2018-01-01T00:00:00.000000000",
                    "2018-02-01T00:00:00.000000000",
                    "2018-03-01T00:00:00.000000000",
                    "2018-04-01T00:00:00.000000000",
                    "2018-05-01T00:00:00.000000000",
                    "2018-06-01T00:00:00.000000000",
                    "2018-07-01T00:00:00.000000000",
                    "2018-08-01T00:00:00.000000000",
                    "2018-09-01T00:00:00.000000000",
                    "2018-10-01T00:00:00.000000000",
                    "2018-11-01T00:00:00.000000000",
                    "2018-12-01T00:00:00.000000000",
                    "2019-01-01T00:00:00.000000000",
                    "2019-02-01T00:00:00.000000000",
                    "2019-03-01T00:00:00.000000000",
                    "2019-04-01T00:00:00.000000000",
                    "2019-05-01T00:00:00.000000000",
                    "2019-06-01T00:00:00.000000000",
                    "2019-07-01T00:00:00.000000000",
                    "2019-08-01T00:00:00.000000000",
                    "2019-09-01T00:00:00.000000000",
                    "2019-10-01T00:00:00.000000000",
                    "2019-11-01T00:00:00.000000000",
                    "2019-12-01T00:00:00.000000000",
                    "2020-01-01T00:00:00.000000000",
                    "2020-02-01T00:00:00.000000000",
                    "2020-03-01T00:00:00.000000000",
                    "2020-04-01T00:00:00.000000000",
                    "2020-05-01T00:00:00.000000000",
                    "2020-06-01T00:00:00.000000000",
                    "2020-07-01T00:00:00.000000000",
                    "2020-08-01T00:00:00.000000000",
                    "2020-09-01T00:00:00.000000000",
                    "2020-10-01T00:00:00.000000000",
                    "2020-11-01T00:00:00.000000000",
                    "2020-12-01T00:00:00.000000000",
                    "2021-01-01T00:00:00.000000000",
                    "2021-02-01T00:00:00.000000000",
                    "2021-03-01T00:00:00.000000000",
                    "2021-04-01T00:00:00.000000000",
                    "2021-05-01T00:00:00.000000000",
                    "2021-06-01T00:00:00.000000000",
                    "2021-07-01T00:00:00.000000000",
                    "2021-08-01T00:00:00.000000000",
                    "2021-09-01T00:00:00.000000000",
                    "2021-10-01T00:00:00.000000000",
                    "2021-11-01T00:00:00.000000000",
                    "2021-12-01T00:00:00.000000000",
                    "2022-01-01T00:00:00.000000000",
                    "2022-02-01T00:00:00.000000000",
                    "2022-03-01T00:00:00.000000000",
                    "2022-04-01T00:00:00.000000000",
                    "2022-05-01T00:00:00.000000000",
                    "2022-06-01T00:00:00.000000000",
                    "2022-07-01T00:00:00.000000000",
                    "2022-08-01T00:00:00.000000000",
                    "2022-09-01T00:00:00.000000000",
                    "2022-10-01T00:00:00.000000000",
                    "2022-11-01T00:00:00.000000000",
                    "2022-12-01T00:00:00.000000000",
                    "2023-01-01T00:00:00.000000000",
                    "2023-02-01T00:00:00.000000000",
                    "2023-03-01T00:00:00.000000000",
                    "2023-04-01T00:00:00.000000000",
                    "2023-05-01T00:00:00.000000000",
                    "2023-06-01T00:00:00.000000000",
                    "2023-07-01T00:00:00.000000000",
                    "2023-08-01T00:00:00.000000000",
                    "2023-09-01T00:00:00.000000000",
                    "2023-10-01T00:00:00.000000000",
                    "2023-11-01T00:00:00.000000000",
                    "2023-12-01T00:00:00.000000000"
                  ],
                  "y": [
                    17.503601226800427,
                    17.750965299690773,
                    18.001825166604533,
                    18.256230230738026,
                    18.51423059346251,
                    18.77587706419093,
                    19.04122117038408,
                    19.3103151676982,
                    19.583212050275957,
                    19.85996556118287,
                    20.140630202991225,
                    20.42526124851356,
                    20.713914751687845,
                    21.00664755861649,
                    21.303517318761344,
                    21.604582496296935,
                    21.909902381624118,
                    22.21953710304648,
                    22.533547638611704,
                    22.851995828120337,
                    23.174944385304208,
                    23.50245691017701,
                    23.834597901559384,
                    24.171432769781024,
                    24.51302784956228,
                    24.859450413077838,
                    25.21076868320496,
                    30.070896842373003,
                    30.058268004682056,
                    30.045644470708623,
                    27.621327618053897,
                    27.609727522947832,
                    27.598132299519484,
                    27.586541945722917,
                    27.574956459513004,
                    27.56337583884556,
                    27.55180008167716,
                    27.540229185965334,
                    27.528663149668375,
                    27.51710197074553,
                    27.50554564715681,
                    27.493994176863147,
                    27.482447557826305,
                    27.47090578800891,
                    27.459368865374447,
                    27.447836787887233,
                    27.43630955351247,
                    27.424787160216194,
                    27.41326960596531,
                    27.401756888727572,
                    27.390249006471578,
                    26.558294249240593,
                    26.848284385710322,
                    27.141440925807487,
                    27.43779844350782,
                    27.737391890300405,
                    28.040256599309814,
                    28.34642828946315,
                    28.655943069702694,
                    28.968837443244375,
                    29.285148311882935,
                    29.604912980343975,
                    29.92816916068355,
                    30.254954976735867,
                    30.58530896860942,
                    30.919270097232335,
                    31.256877748947286,
                    31.598171740156587,
                    31.943192322018085,
                    32.29198018519215,
                    32.644576464640686,
                    33.00102274447842
                  ]
                }
              ],
              "layout": {
                "annotations": [
                  {
                    "arrowhead": 2,
                    "ax": 30,
                    "ay": -40,
                    "showarrow": true,
                    "text": "Pandemia",
                    "x": "2020-04-01",
                    "y": 33.153697014146786
                  },
                  {
                    "arrowhead": 2,
                    "ax": 30,
                    "ay": -40,
                    "showarrow": true,
                    "text": "Pos Pandemia",
                    "x": "2022-04-01",
                    "y": 33.153697014146786
                  }
                ],
                "legend": {
                  "title": {
                    "text": "Legend"
                  }
                },
                "shapes": [
                  {
                    "line": {
                      "color": "black",
                      "dash": "dash"
                    },
                    "type": "line",
                    "x0": "2020-04-01",
                    "x1": "2020-04-01",
                    "y0": 17.669845094648576,
                    "y1": 33.153697014146786
                  },
                  {
                    "line": {
                      "color": "black",
                      "dash": "dash"
                    },
                    "type": "line",
                    "x0": "2022-04-01",
                    "x1": "2022-04-01",
                    "y0": 17.669845094648576,
                    "y1": 33.153697014146786
                  }
                ],
                "template": {
                  "data": {
                    "bar": [
                      {
                        "error_x": {
                          "color": "#2a3f5f"
                        },
                        "error_y": {
                          "color": "#2a3f5f"
                        },
                        "marker": {
                          "line": {
                            "color": "#E5ECF6",
                            "width": 0.5
                          },
                          "pattern": {
                            "fillmode": "overlay",
                            "size": 10,
                            "solidity": 0.2
                          }
                        },
                        "type": "bar"
                      }
                    ],
                    "barpolar": [
                      {
                        "marker": {
                          "line": {
                            "color": "#E5ECF6",
                            "width": 0.5
                          },
                          "pattern": {
                            "fillmode": "overlay",
                            "size": 10,
                            "solidity": 0.2
                          }
                        },
                        "type": "barpolar"
                      }
                    ],
                    "carpet": [
                      {
                        "aaxis": {
                          "endlinecolor": "#2a3f5f",
                          "gridcolor": "white",
                          "linecolor": "white",
                          "minorgridcolor": "white",
                          "startlinecolor": "#2a3f5f"
                        },
                        "baxis": {
                          "endlinecolor": "#2a3f5f",
                          "gridcolor": "white",
                          "linecolor": "white",
                          "minorgridcolor": "white",
                          "startlinecolor": "#2a3f5f"
                        },
                        "type": "carpet"
                      }
                    ],
                    "choropleth": [
                      {
                        "colorbar": {
                          "outlinewidth": 0,
                          "ticks": ""
                        },
                        "type": "choropleth"
                      }
                    ],
                    "contour": [
                      {
                        "colorbar": {
                          "outlinewidth": 0,
                          "ticks": ""
                        },
                        "colorscale": [
                          [
                            0,
                            "#0d0887"
                          ],
                          [
                            0.1111111111111111,
                            "#46039f"
                          ],
                          [
                            0.2222222222222222,
                            "#7201a8"
                          ],
                          [
                            0.3333333333333333,
                            "#9c179e"
                          ],
                          [
                            0.4444444444444444,
                            "#bd3786"
                          ],
                          [
                            0.5555555555555556,
                            "#d8576b"
                          ],
                          [
                            0.6666666666666666,
                            "#ed7953"
                          ],
                          [
                            0.7777777777777778,
                            "#fb9f3a"
                          ],
                          [
                            0.8888888888888888,
                            "#fdca26"
                          ],
                          [
                            1,
                            "#f0f921"
                          ]
                        ],
                        "type": "contour"
                      }
                    ],
                    "contourcarpet": [
                      {
                        "colorbar": {
                          "outlinewidth": 0,
                          "ticks": ""
                        },
                        "type": "contourcarpet"
                      }
                    ],
                    "heatmap": [
                      {
                        "colorbar": {
                          "outlinewidth": 0,
                          "ticks": ""
                        },
                        "colorscale": [
                          [
                            0,
                            "#0d0887"
                          ],
                          [
                            0.1111111111111111,
                            "#46039f"
                          ],
                          [
                            0.2222222222222222,
                            "#7201a8"
                          ],
                          [
                            0.3333333333333333,
                            "#9c179e"
                          ],
                          [
                            0.4444444444444444,
                            "#bd3786"
                          ],
                          [
                            0.5555555555555556,
                            "#d8576b"
                          ],
                          [
                            0.6666666666666666,
                            "#ed7953"
                          ],
                          [
                            0.7777777777777778,
                            "#fb9f3a"
                          ],
                          [
                            0.8888888888888888,
                            "#fdca26"
                          ],
                          [
                            1,
                            "#f0f921"
                          ]
                        ],
                        "type": "heatmap"
                      }
                    ],
                    "heatmapgl": [
                      {
                        "colorbar": {
                          "outlinewidth": 0,
                          "ticks": ""
                        },
                        "colorscale": [
                          [
                            0,
                            "#0d0887"
                          ],
                          [
                            0.1111111111111111,
                            "#46039f"
                          ],
                          [
                            0.2222222222222222,
                            "#7201a8"
                          ],
                          [
                            0.3333333333333333,
                            "#9c179e"
                          ],
                          [
                            0.4444444444444444,
                            "#bd3786"
                          ],
                          [
                            0.5555555555555556,
                            "#d8576b"
                          ],
                          [
                            0.6666666666666666,
                            "#ed7953"
                          ],
                          [
                            0.7777777777777778,
                            "#fb9f3a"
                          ],
                          [
                            0.8888888888888888,
                            "#fdca26"
                          ],
                          [
                            1,
                            "#f0f921"
                          ]
                        ],
                        "type": "heatmapgl"
                      }
                    ],
                    "histogram": [
                      {
                        "marker": {
                          "pattern": {
                            "fillmode": "overlay",
                            "size": 10,
                            "solidity": 0.2
                          }
                        },
                        "type": "histogram"
                      }
                    ],
                    "histogram2d": [
                      {
                        "colorbar": {
                          "outlinewidth": 0,
                          "ticks": ""
                        },
                        "colorscale": [
                          [
                            0,
                            "#0d0887"
                          ],
                          [
                            0.1111111111111111,
                            "#46039f"
                          ],
                          [
                            0.2222222222222222,
                            "#7201a8"
                          ],
                          [
                            0.3333333333333333,
                            "#9c179e"
                          ],
                          [
                            0.4444444444444444,
                            "#bd3786"
                          ],
                          [
                            0.5555555555555556,
                            "#d8576b"
                          ],
                          [
                            0.6666666666666666,
                            "#ed7953"
                          ],
                          [
                            0.7777777777777778,
                            "#fb9f3a"
                          ],
                          [
                            0.8888888888888888,
                            "#fdca26"
                          ],
                          [
                            1,
                            "#f0f921"
                          ]
                        ],
                        "type": "histogram2d"
                      }
                    ],
                    "histogram2dcontour": [
                      {
                        "colorbar": {
                          "outlinewidth": 0,
                          "ticks": ""
                        },
                        "colorscale": [
                          [
                            0,
                            "#0d0887"
                          ],
                          [
                            0.1111111111111111,
                            "#46039f"
                          ],
                          [
                            0.2222222222222222,
                            "#7201a8"
                          ],
                          [
                            0.3333333333333333,
                            "#9c179e"
                          ],
                          [
                            0.4444444444444444,
                            "#bd3786"
                          ],
                          [
                            0.5555555555555556,
                            "#d8576b"
                          ],
                          [
                            0.6666666666666666,
                            "#ed7953"
                          ],
                          [
                            0.7777777777777778,
                            "#fb9f3a"
                          ],
                          [
                            0.8888888888888888,
                            "#fdca26"
                          ],
                          [
                            1,
                            "#f0f921"
                          ]
                        ],
                        "type": "histogram2dcontour"
                      }
                    ],
                    "mesh3d": [
                      {
                        "colorbar": {
                          "outlinewidth": 0,
                          "ticks": ""
                        },
                        "type": "mesh3d"
                      }
                    ],
                    "parcoords": [
                      {
                        "line": {
                          "colorbar": {
                            "outlinewidth": 0,
                            "ticks": ""
                          }
                        },
                        "type": "parcoords"
                      }
                    ],
                    "pie": [
                      {
                        "automargin": true,
                        "type": "pie"
                      }
                    ],
                    "scatter": [
                      {
                        "fillpattern": {
                          "fillmode": "overlay",
                          "size": 10,
                          "solidity": 0.2
                        },
                        "type": "scatter"
                      }
                    ],
                    "scatter3d": [
                      {
                        "line": {
                          "colorbar": {
                            "outlinewidth": 0,
                            "ticks": ""
                          }
                        },
                        "marker": {
                          "colorbar": {
                            "outlinewidth": 0,
                            "ticks": ""
                          }
                        },
                        "type": "scatter3d"
                      }
                    ],
                    "scattercarpet": [
                      {
                        "marker": {
                          "colorbar": {
                            "outlinewidth": 0,
                            "ticks": ""
                          }
                        },
                        "type": "scattercarpet"
                      }
                    ],
                    "scattergeo": [
                      {
                        "marker": {
                          "colorbar": {
                            "outlinewidth": 0,
                            "ticks": ""
                          }
                        },
                        "type": "scattergeo"
                      }
                    ],
                    "scattergl": [
                      {
                        "marker": {
                          "colorbar": {
                            "outlinewidth": 0,
                            "ticks": ""
                          }
                        },
                        "type": "scattergl"
                      }
                    ],
                    "scattermapbox": [
                      {
                        "marker": {
                          "colorbar": {
                            "outlinewidth": 0,
                            "ticks": ""
                          }
                        },
                        "type": "scattermapbox"
                      }
                    ],
                    "scatterpolar": [
                      {
                        "marker": {
                          "colorbar": {
                            "outlinewidth": 0,
                            "ticks": ""
                          }
                        },
                        "type": "scatterpolar"
                      }
                    ],
                    "scatterpolargl": [
                      {
                        "marker": {
                          "colorbar": {
                            "outlinewidth": 0,
                            "ticks": ""
                          }
                        },
                        "type": "scatterpolargl"
                      }
                    ],
                    "scatterternary": [
                      {
                        "marker": {
                          "colorbar": {
                            "outlinewidth": 0,
                            "ticks": ""
                          }
                        },
                        "type": "scatterternary"
                      }
                    ],
                    "surface": [
                      {
                        "colorbar": {
                          "outlinewidth": 0,
                          "ticks": ""
                        },
                        "colorscale": [
                          [
                            0,
                            "#0d0887"
                          ],
                          [
                            0.1111111111111111,
                            "#46039f"
                          ],
                          [
                            0.2222222222222222,
                            "#7201a8"
                          ],
                          [
                            0.3333333333333333,
                            "#9c179e"
                          ],
                          [
                            0.4444444444444444,
                            "#bd3786"
                          ],
                          [
                            0.5555555555555556,
                            "#d8576b"
                          ],
                          [
                            0.6666666666666666,
                            "#ed7953"
                          ],
                          [
                            0.7777777777777778,
                            "#fb9f3a"
                          ],
                          [
                            0.8888888888888888,
                            "#fdca26"
                          ],
                          [
                            1,
                            "#f0f921"
                          ]
                        ],
                        "type": "surface"
                      }
                    ],
                    "table": [
                      {
                        "cells": {
                          "fill": {
                            "color": "#EBF0F8"
                          },
                          "line": {
                            "color": "white"
                          }
                        },
                        "header": {
                          "fill": {
                            "color": "#C8D4E3"
                          },
                          "line": {
                            "color": "white"
                          }
                        },
                        "type": "table"
                      }
                    ]
                  },
                  "layout": {
                    "annotationdefaults": {
                      "arrowcolor": "#2a3f5f",
                      "arrowhead": 0,
                      "arrowwidth": 1
                    },
                    "autotypenumbers": "strict",
                    "coloraxis": {
                      "colorbar": {
                        "outlinewidth": 0,
                        "ticks": ""
                      }
                    },
                    "colorscale": {
                      "diverging": [
                        [
                          0,
                          "#8e0152"
                        ],
                        [
                          0.1,
                          "#c51b7d"
                        ],
                        [
                          0.2,
                          "#de77ae"
                        ],
                        [
                          0.3,
                          "#f1b6da"
                        ],
                        [
                          0.4,
                          "#fde0ef"
                        ],
                        [
                          0.5,
                          "#f7f7f7"
                        ],
                        [
                          0.6,
                          "#e6f5d0"
                        ],
                        [
                          0.7,
                          "#b8e186"
                        ],
                        [
                          0.8,
                          "#7fbc41"
                        ],
                        [
                          0.9,
                          "#4d9221"
                        ],
                        [
                          1,
                          "#276419"
                        ]
                      ],
                      "sequential": [
                        [
                          0,
                          "#0d0887"
                        ],
                        [
                          0.1111111111111111,
                          "#46039f"
                        ],
                        [
                          0.2222222222222222,
                          "#7201a8"
                        ],
                        [
                          0.3333333333333333,
                          "#9c179e"
                        ],
                        [
                          0.4444444444444444,
                          "#bd3786"
                        ],
                        [
                          0.5555555555555556,
                          "#d8576b"
                        ],
                        [
                          0.6666666666666666,
                          "#ed7953"
                        ],
                        [
                          0.7777777777777778,
                          "#fb9f3a"
                        ],
                        [
                          0.8888888888888888,
                          "#fdca26"
                        ],
                        [
                          1,
                          "#f0f921"
                        ]
                      ],
                      "sequentialminus": [
                        [
                          0,
                          "#0d0887"
                        ],
                        [
                          0.1111111111111111,
                          "#46039f"
                        ],
                        [
                          0.2222222222222222,
                          "#7201a8"
                        ],
                        [
                          0.3333333333333333,
                          "#9c179e"
                        ],
                        [
                          0.4444444444444444,
                          "#bd3786"
                        ],
                        [
                          0.5555555555555556,
                          "#d8576b"
                        ],
                        [
                          0.6666666666666666,
                          "#ed7953"
                        ],
                        [
                          0.7777777777777778,
                          "#fb9f3a"
                        ],
                        [
                          0.8888888888888888,
                          "#fdca26"
                        ],
                        [
                          1,
                          "#f0f921"
                        ]
                      ]
                    },
                    "colorway": [
                      "#636efa",
                      "#EF553B",
                      "#00cc96",
                      "#ab63fa",
                      "#FFA15A",
                      "#19d3f3",
                      "#FF6692",
                      "#B6E880",
                      "#FF97FF",
                      "#FECB52"
                    ],
                    "font": {
                      "color": "#2a3f5f"
                    },
                    "geo": {
                      "bgcolor": "white",
                      "lakecolor": "white",
                      "landcolor": "#E5ECF6",
                      "showlakes": true,
                      "showland": true,
                      "subunitcolor": "white"
                    },
                    "hoverlabel": {
                      "align": "left"
                    },
                    "hovermode": "closest",
                    "mapbox": {
                      "style": "light"
                    },
                    "paper_bgcolor": "white",
                    "plot_bgcolor": "#E5ECF6",
                    "polar": {
                      "angularaxis": {
                        "gridcolor": "white",
                        "linecolor": "white",
                        "ticks": ""
                      },
                      "bgcolor": "#E5ECF6",
                      "radialaxis": {
                        "gridcolor": "white",
                        "linecolor": "white",
                        "ticks": ""
                      }
                    },
                    "scene": {
                      "xaxis": {
                        "backgroundcolor": "#E5ECF6",
                        "gridcolor": "white",
                        "gridwidth": 2,
                        "linecolor": "white",
                        "showbackground": true,
                        "ticks": "",
                        "zerolinecolor": "white"
                      },
                      "yaxis": {
                        "backgroundcolor": "#E5ECF6",
                        "gridcolor": "white",
                        "gridwidth": 2,
                        "linecolor": "white",
                        "showbackground": true,
                        "ticks": "",
                        "zerolinecolor": "white"
                      },
                      "zaxis": {
                        "backgroundcolor": "#E5ECF6",
                        "gridcolor": "white",
                        "gridwidth": 2,
                        "linecolor": "white",
                        "showbackground": true,
                        "ticks": "",
                        "zerolinecolor": "white"
                      }
                    },
                    "shapedefaults": {
                      "line": {
                        "color": "#2a3f5f"
                      }
                    },
                    "ternary": {
                      "aaxis": {
                        "gridcolor": "white",
                        "linecolor": "white",
                        "ticks": ""
                      },
                      "baxis": {
                        "gridcolor": "white",
                        "linecolor": "white",
                        "ticks": ""
                      },
                      "bgcolor": "#E5ECF6",
                      "caxis": {
                        "gridcolor": "white",
                        "linecolor": "white",
                        "ticks": ""
                      }
                    },
                    "title": {
                      "x": 0.05
                    },
                    "xaxis": {
                      "automargin": true,
                      "gridcolor": "white",
                      "linecolor": "white",
                      "ticks": "",
                      "title": {
                        "standoff": 15
                      },
                      "zerolinecolor": "white",
                      "zerolinewidth": 2
                    },
                    "yaxis": {
                      "automargin": true,
                      "gridcolor": "white",
                      "linecolor": "white",
                      "ticks": "",
                      "title": {
                        "standoff": 15
                      },
                      "zerolinecolor": "white",
                      "zerolinewidth": 2
                    }
                  }
                },
                "title": {
                  "text": "sudeste"
                },
                "xaxis": {
                  "title": {
                    "text": "Time"
                  }
                },
                "yaxis": {
                  "title": {
                    "text": "Value"
                  }
                }
              }
            }
          },
          "metadata": {},
          "output_type": "display_data"
        },
        {
          "data": {
            "application/vnd.plotly.v1+json": {
              "config": {
                "plotlyServerURL": "https://plot.ly"
              },
              "data": [
                {
                  "line": {
                    "color": "black",
                    "dash": "dot"
                  },
                  "mode": "lines",
                  "name": "Baseline",
                  "type": "scatter",
                  "x": [
                    "2018-01-01T00:00:00.000000000",
                    "2018-02-01T00:00:00.000000000",
                    "2018-03-01T00:00:00.000000000",
                    "2018-04-01T00:00:00.000000000",
                    "2018-05-01T00:00:00.000000000",
                    "2018-06-01T00:00:00.000000000",
                    "2018-07-01T00:00:00.000000000",
                    "2018-08-01T00:00:00.000000000",
                    "2018-09-01T00:00:00.000000000",
                    "2018-10-01T00:00:00.000000000",
                    "2018-11-01T00:00:00.000000000",
                    "2018-12-01T00:00:00.000000000",
                    "2019-01-01T00:00:00.000000000",
                    "2019-02-01T00:00:00.000000000",
                    "2019-03-01T00:00:00.000000000",
                    "2019-04-01T00:00:00.000000000",
                    "2019-05-01T00:00:00.000000000",
                    "2019-06-01T00:00:00.000000000",
                    "2019-07-01T00:00:00.000000000",
                    "2019-08-01T00:00:00.000000000",
                    "2019-09-01T00:00:00.000000000",
                    "2019-10-01T00:00:00.000000000",
                    "2019-11-01T00:00:00.000000000",
                    "2019-12-01T00:00:00.000000000",
                    "2020-01-01T00:00:00.000000000",
                    "2020-02-01T00:00:00.000000000",
                    "2020-03-01T00:00:00.000000000",
                    "2020-04-01T00:00:00.000000000",
                    "2020-05-01T00:00:00.000000000",
                    "2020-06-01T00:00:00.000000000",
                    "2020-07-01T00:00:00.000000000",
                    "2020-08-01T00:00:00.000000000",
                    "2020-09-01T00:00:00.000000000",
                    "2020-10-01T00:00:00.000000000",
                    "2020-11-01T00:00:00.000000000",
                    "2020-12-01T00:00:00.000000000",
                    "2021-01-01T00:00:00.000000000",
                    "2021-02-01T00:00:00.000000000",
                    "2021-03-01T00:00:00.000000000",
                    "2021-04-01T00:00:00.000000000",
                    "2021-05-01T00:00:00.000000000",
                    "2021-06-01T00:00:00.000000000",
                    "2021-07-01T00:00:00.000000000",
                    "2021-08-01T00:00:00.000000000",
                    "2021-09-01T00:00:00.000000000",
                    "2021-10-01T00:00:00.000000000",
                    "2021-11-01T00:00:00.000000000",
                    "2021-12-01T00:00:00.000000000",
                    "2022-01-01T00:00:00.000000000",
                    "2022-02-01T00:00:00.000000000",
                    "2022-03-01T00:00:00.000000000",
                    "2022-04-01T00:00:00.000000000",
                    "2022-05-01T00:00:00.000000000",
                    "2022-06-01T00:00:00.000000000",
                    "2022-07-01T00:00:00.000000000",
                    "2022-08-01T00:00:00.000000000",
                    "2022-09-01T00:00:00.000000000",
                    "2022-10-01T00:00:00.000000000",
                    "2022-11-01T00:00:00.000000000",
                    "2022-12-01T00:00:00.000000000",
                    "2023-01-01T00:00:00.000000000",
                    "2023-02-01T00:00:00.000000000",
                    "2023-03-01T00:00:00.000000000",
                    "2023-04-01T00:00:00.000000000",
                    "2023-05-01T00:00:00.000000000",
                    "2023-06-01T00:00:00.000000000",
                    "2023-07-01T00:00:00.000000000",
                    "2023-08-01T00:00:00.000000000",
                    "2023-09-01T00:00:00.000000000",
                    "2023-10-01T00:00:00.000000000",
                    "2023-11-01T00:00:00.000000000",
                    "2023-12-01T00:00:00.000000000"
                  ],
                  "y": [
                    23.967868607419334,
                    24.091352067072002,
                    24.215471718663867,
                    24.34023083988236,
                    24.465632725301695,
                    24.591680686469875,
                    24.718378051996112,
                    24.845728167638775,
                    24.97373439639372,
                    25.10240011858309,
                    25.23172873194459,
                    25.361723651721213,
                    25.49238831075143,
                    25.623726159559826,
                    25.755740666448254,
                    25.88843531758739,
                    26.021813617108794,
                    26.15587908719748,
                    26.290635268184893,
                    26.426085718642426,
                    26.562234015475372,
                    26.699083754017387,
                    26.83663854812544,
                    26.97490203027524,
                    27.11387785165716,
                    27.253569682272676,
                    27.393981211031235,
                    27.535116145847738,
                    27.676978213740366,
                    27.819571160929097,
                    27.962898752934574,
                    28.106964774677568,
                    28.251773030578907,
                    28.397327344659963,
                    28.543631560643625,
                    28.690689542055804,
                    28.83850517232746,
                    28.98708235489713,
                    29.13642501331405,
                    29.28653709134175,
                    29.437422553062177,
                    29.58908538298041,
                    29.741529586129854,
                    29.894759188178018,
                    30.04877823553281,
                    30.203590795449415,
                    30.359200956137673,
                    30.515612826870058,
                    30.6728305380902,
                    30.830858241521906,
                    30.98970011027888,
                    31.149360338974866,
                    31.30984314383443,
                    31.471152762804316,
                    31.633293455665328,
                    31.796269504144853,
                    31.96008521202991,
                    32.12474490528082,
                    32.29025293214541,
                    32.456613663273856,
                    32.62383149183415,
                    32.79191083362804,
                    32.960856127207656,
                    33.13067183399276,
                    33.30136243838852,
                    33.47293244790396,
                    33.645386393270954,
                    33.81872882856392,
                    33.992964331320046,
                    34.16809750266019,
                    34.344132967410374,
                    34.5210753742239
                  ]
                },
                {
                  "marker": {
                    "color": "black"
                  },
                  "mode": "markers",
                  "name": "Real",
                  "type": "scatter",
                  "x": [
                    "2018-01-01T00:00:00.000000000",
                    "2018-02-01T00:00:00.000000000",
                    "2018-03-01T00:00:00.000000000",
                    "2018-04-01T00:00:00.000000000",
                    "2018-05-01T00:00:00.000000000",
                    "2018-06-01T00:00:00.000000000",
                    "2018-07-01T00:00:00.000000000",
                    "2018-08-01T00:00:00.000000000",
                    "2018-09-01T00:00:00.000000000",
                    "2018-10-01T00:00:00.000000000",
                    "2018-11-01T00:00:00.000000000",
                    "2018-12-01T00:00:00.000000000",
                    "2019-01-01T00:00:00.000000000",
                    "2019-02-01T00:00:00.000000000",
                    "2019-03-01T00:00:00.000000000",
                    "2019-04-01T00:00:00.000000000",
                    "2019-05-01T00:00:00.000000000",
                    "2019-06-01T00:00:00.000000000",
                    "2019-07-01T00:00:00.000000000",
                    "2019-08-01T00:00:00.000000000",
                    "2019-09-01T00:00:00.000000000",
                    "2019-10-01T00:00:00.000000000",
                    "2019-11-01T00:00:00.000000000",
                    "2019-12-01T00:00:00.000000000",
                    "2020-01-01T00:00:00.000000000",
                    "2020-02-01T00:00:00.000000000",
                    "2020-03-01T00:00:00.000000000",
                    "2020-04-01T00:00:00.000000000",
                    "2020-05-01T00:00:00.000000000",
                    "2020-06-01T00:00:00.000000000",
                    "2020-07-01T00:00:00.000000000",
                    "2020-08-01T00:00:00.000000000",
                    "2020-09-01T00:00:00.000000000",
                    "2020-10-01T00:00:00.000000000",
                    "2020-11-01T00:00:00.000000000",
                    "2020-12-01T00:00:00.000000000",
                    "2021-01-01T00:00:00.000000000",
                    "2021-02-01T00:00:00.000000000",
                    "2021-03-01T00:00:00.000000000",
                    "2021-04-01T00:00:00.000000000",
                    "2021-05-01T00:00:00.000000000",
                    "2021-06-01T00:00:00.000000000",
                    "2021-07-01T00:00:00.000000000",
                    "2021-08-01T00:00:00.000000000",
                    "2021-09-01T00:00:00.000000000",
                    "2021-10-01T00:00:00.000000000",
                    "2021-11-01T00:00:00.000000000",
                    "2021-12-01T00:00:00.000000000",
                    "2022-01-01T00:00:00.000000000",
                    "2022-02-01T00:00:00.000000000",
                    "2022-03-01T00:00:00.000000000",
                    "2022-04-01T00:00:00.000000000",
                    "2022-05-01T00:00:00.000000000",
                    "2022-06-01T00:00:00.000000000",
                    "2022-07-01T00:00:00.000000000",
                    "2022-08-01T00:00:00.000000000",
                    "2022-09-01T00:00:00.000000000",
                    "2022-10-01T00:00:00.000000000",
                    "2022-11-01T00:00:00.000000000",
                    "2022-12-01T00:00:00.000000000",
                    "2023-01-01T00:00:00.000000000",
                    "2023-02-01T00:00:00.000000000",
                    "2023-03-01T00:00:00.000000000",
                    "2023-04-01T00:00:00.000000000",
                    "2023-05-01T00:00:00.000000000",
                    "2023-06-01T00:00:00.000000000",
                    "2023-07-01T00:00:00.000000000",
                    "2023-08-01T00:00:00.000000000",
                    "2023-09-01T00:00:00.000000000",
                    "2023-10-01T00:00:00.000000000",
                    "2023-11-01T00:00:00.000000000",
                    "2023-12-01T00:00:00.000000000"
                  ],
                  "y": [
                    25.500700295914513,
                    26.303800066565188,
                    24.49283490555982,
                    24.70962536571009,
                    23.91222969468854,
                    24.447858921662544,
                    24.14837920727932,
                    24.200965820633716,
                    25.08746842356138,
                    24.41709339531521,
                    24.751984806174825,
                    24.26591002237523,
                    23.663183861641162,
                    24.293811066659075,
                    25.450773392459165,
                    26.509416303021112,
                    26.08760234612531,
                    25.873317440786643,
                    26.08847157317199,
                    27.24377924276961,
                    26.92697257692269,
                    25.994792630222836,
                    27.146403113346413,
                    27.74721384712872,
                    28.669496603607524,
                    28.37102479792678,
                    27.315810570650537,
                    33.41441237693909,
                    32.904557995993905,
                    32.14069032006051,
                    29.396251232958356,
                    28.941491431186403,
                    31.061455172462672,
                    28.712628179827252,
                    26.310218597743674,
                    26.685170031961547,
                    26.746751502937457,
                    26.768024443475376,
                    25.934482323188032,
                    28.16755479169375,
                    24.88650030399723,
                    25.480626260360797,
                    27.349811742047923,
                    28.522068730148494,
                    29.00829210138901,
                    26.991522881085174,
                    27.174181853935092,
                    27.21122738302884,
                    19.244626373065557,
                    23.801229962442445,
                    27.028959145189706,
                    25.39559254608429,
                    23.336661488476857,
                    23.839552317428858,
                    25.953208424585807,
                    27.587652285903857,
                    29.243592853016516,
                    27.851370451431137,
                    26.55771481964728,
                    25.98165711997674,
                    29.63927937024431,
                    30.753632918464575,
                    29.578097688070972,
                    27.49301245181331,
                    27.334337482100807,
                    28.89362101782022,
                    30.439762424480776,
                    31.247230998000678,
                    32.381515167254165,
                    31.239689757211476,
                    31.030325495584474,
                    31.03455801276937
                  ]
                },
                {
                  "line": {
                    "color": "purple"
                  },
                  "mode": "lines",
                  "name": "Full model",
                  "type": "scatter",
                  "x": [
                    "2018-01-01T00:00:00.000000000",
                    "2018-02-01T00:00:00.000000000",
                    "2018-03-01T00:00:00.000000000",
                    "2018-04-01T00:00:00.000000000",
                    "2018-05-01T00:00:00.000000000",
                    "2018-06-01T00:00:00.000000000",
                    "2018-07-01T00:00:00.000000000",
                    "2018-08-01T00:00:00.000000000",
                    "2018-09-01T00:00:00.000000000",
                    "2018-10-01T00:00:00.000000000",
                    "2018-11-01T00:00:00.000000000",
                    "2018-12-01T00:00:00.000000000",
                    "2019-01-01T00:00:00.000000000",
                    "2019-02-01T00:00:00.000000000",
                    "2019-03-01T00:00:00.000000000",
                    "2019-04-01T00:00:00.000000000",
                    "2019-05-01T00:00:00.000000000",
                    "2019-06-01T00:00:00.000000000",
                    "2019-07-01T00:00:00.000000000",
                    "2019-08-01T00:00:00.000000000",
                    "2019-09-01T00:00:00.000000000",
                    "2019-10-01T00:00:00.000000000",
                    "2019-11-01T00:00:00.000000000",
                    "2019-12-01T00:00:00.000000000",
                    "2020-01-01T00:00:00.000000000",
                    "2020-02-01T00:00:00.000000000",
                    "2020-03-01T00:00:00.000000000",
                    "2020-04-01T00:00:00.000000000",
                    "2020-05-01T00:00:00.000000000",
                    "2020-06-01T00:00:00.000000000",
                    "2020-07-01T00:00:00.000000000",
                    "2020-08-01T00:00:00.000000000",
                    "2020-09-01T00:00:00.000000000",
                    "2020-10-01T00:00:00.000000000",
                    "2020-11-01T00:00:00.000000000",
                    "2020-12-01T00:00:00.000000000",
                    "2021-01-01T00:00:00.000000000",
                    "2021-02-01T00:00:00.000000000",
                    "2021-03-01T00:00:00.000000000",
                    "2021-04-01T00:00:00.000000000",
                    "2021-05-01T00:00:00.000000000",
                    "2021-06-01T00:00:00.000000000",
                    "2021-07-01T00:00:00.000000000",
                    "2021-08-01T00:00:00.000000000",
                    "2021-09-01T00:00:00.000000000",
                    "2021-10-01T00:00:00.000000000",
                    "2021-11-01T00:00:00.000000000",
                    "2021-12-01T00:00:00.000000000",
                    "2022-01-01T00:00:00.000000000",
                    "2022-02-01T00:00:00.000000000",
                    "2022-03-01T00:00:00.000000000",
                    "2022-04-01T00:00:00.000000000",
                    "2022-05-01T00:00:00.000000000",
                    "2022-06-01T00:00:00.000000000",
                    "2022-07-01T00:00:00.000000000",
                    "2022-08-01T00:00:00.000000000",
                    "2022-09-01T00:00:00.000000000",
                    "2022-10-01T00:00:00.000000000",
                    "2022-11-01T00:00:00.000000000",
                    "2022-12-01T00:00:00.000000000",
                    "2023-01-01T00:00:00.000000000",
                    "2023-02-01T00:00:00.000000000",
                    "2023-03-01T00:00:00.000000000",
                    "2023-04-01T00:00:00.000000000",
                    "2023-05-01T00:00:00.000000000",
                    "2023-06-01T00:00:00.000000000",
                    "2023-07-01T00:00:00.000000000",
                    "2023-08-01T00:00:00.000000000",
                    "2023-09-01T00:00:00.000000000",
                    "2023-10-01T00:00:00.000000000",
                    "2023-11-01T00:00:00.000000000",
                    "2023-12-01T00:00:00.000000000"
                  ],
                  "y": [
                    23.967868607419334,
                    24.091352067072002,
                    24.215471718663867,
                    24.34023083988236,
                    24.465632725301695,
                    24.591680686469875,
                    24.718378051996112,
                    24.845728167638775,
                    24.97373439639372,
                    25.10240011858309,
                    25.23172873194459,
                    25.361723651721213,
                    25.49238831075143,
                    25.623726159559826,
                    25.755740666448254,
                    25.88843531758739,
                    26.021813617108794,
                    26.15587908719748,
                    26.290635268184893,
                    26.426085718642426,
                    26.562234015475372,
                    26.699083754017387,
                    26.83663854812544,
                    26.97490203027524,
                    27.11387785165716,
                    27.253569682272676,
                    27.393981211031235,
                    32.9533623132341,
                    32.70109966746465,
                    32.450768127900574,
                    29.032961089097935,
                    28.810709668765142,
                    28.590159614465545,
                    28.37129790200171,
                    28.154111606878256,
                    27.938587903538668,
                    27.724714064607877,
                    27.51247746014065,
                    27.30186555687577,
                    27.092865917495928,
                    26.88546619989322,
                    26.67965415644034,
                    26.475417633267266,
                    26.2727445695436,
                    26.071622996766298,
                    25.8720410380529,
                    25.673986907440135,
                    25.47744890918798,
                    25.28241543708895,
                    25.088874973782698,
                    24.8968160900759,
                    25.077180473578835,
                    25.38640893680711,
                    25.699450517804802,
                    26.016352236393345,
                    26.337161692198872,
                    26.661927071801816,
                    26.990697155974747,
                    27.323521327009267,
                    27.660449576133534,
                    28.00153251102102,
                    28.34682136339192,
                    28.69636799670836,
                    29.050224913964453,
                    29.4084452655724,
                    29.771082857345828,
                    30.138192158581596,
                    30.509828310241303,
                    30.886047133233586,
                    31.26690513679858,
                    31.652459526995827,
                    32.04276821529677
                  ]
                }
              ],
              "layout": {
                "annotations": [
                  {
                    "arrowhead": 2,
                    "ax": 30,
                    "ay": -40,
                    "showarrow": true,
                    "text": "Pandemia",
                    "x": "2020-04-01",
                    "y": 33.41441237693909
                  },
                  {
                    "arrowhead": 2,
                    "ax": 30,
                    "ay": -40,
                    "showarrow": true,
                    "text": "Pos Pandemia",
                    "x": "2022-04-01",
                    "y": 33.41441237693909
                  }
                ],
                "legend": {
                  "title": {
                    "text": "Legend"
                  }
                },
                "shapes": [
                  {
                    "line": {
                      "color": "black",
                      "dash": "dash"
                    },
                    "type": "line",
                    "x0": "2020-04-01",
                    "x1": "2020-04-01",
                    "y0": 19.244626373065557,
                    "y1": 33.41441237693909
                  },
                  {
                    "line": {
                      "color": "black",
                      "dash": "dash"
                    },
                    "type": "line",
                    "x0": "2022-04-01",
                    "x1": "2022-04-01",
                    "y0": 19.244626373065557,
                    "y1": 33.41441237693909
                  }
                ],
                "template": {
                  "data": {
                    "bar": [
                      {
                        "error_x": {
                          "color": "#2a3f5f"
                        },
                        "error_y": {
                          "color": "#2a3f5f"
                        },
                        "marker": {
                          "line": {
                            "color": "#E5ECF6",
                            "width": 0.5
                          },
                          "pattern": {
                            "fillmode": "overlay",
                            "size": 10,
                            "solidity": 0.2
                          }
                        },
                        "type": "bar"
                      }
                    ],
                    "barpolar": [
                      {
                        "marker": {
                          "line": {
                            "color": "#E5ECF6",
                            "width": 0.5
                          },
                          "pattern": {
                            "fillmode": "overlay",
                            "size": 10,
                            "solidity": 0.2
                          }
                        },
                        "type": "barpolar"
                      }
                    ],
                    "carpet": [
                      {
                        "aaxis": {
                          "endlinecolor": "#2a3f5f",
                          "gridcolor": "white",
                          "linecolor": "white",
                          "minorgridcolor": "white",
                          "startlinecolor": "#2a3f5f"
                        },
                        "baxis": {
                          "endlinecolor": "#2a3f5f",
                          "gridcolor": "white",
                          "linecolor": "white",
                          "minorgridcolor": "white",
                          "startlinecolor": "#2a3f5f"
                        },
                        "type": "carpet"
                      }
                    ],
                    "choropleth": [
                      {
                        "colorbar": {
                          "outlinewidth": 0,
                          "ticks": ""
                        },
                        "type": "choropleth"
                      }
                    ],
                    "contour": [
                      {
                        "colorbar": {
                          "outlinewidth": 0,
                          "ticks": ""
                        },
                        "colorscale": [
                          [
                            0,
                            "#0d0887"
                          ],
                          [
                            0.1111111111111111,
                            "#46039f"
                          ],
                          [
                            0.2222222222222222,
                            "#7201a8"
                          ],
                          [
                            0.3333333333333333,
                            "#9c179e"
                          ],
                          [
                            0.4444444444444444,
                            "#bd3786"
                          ],
                          [
                            0.5555555555555556,
                            "#d8576b"
                          ],
                          [
                            0.6666666666666666,
                            "#ed7953"
                          ],
                          [
                            0.7777777777777778,
                            "#fb9f3a"
                          ],
                          [
                            0.8888888888888888,
                            "#fdca26"
                          ],
                          [
                            1,
                            "#f0f921"
                          ]
                        ],
                        "type": "contour"
                      }
                    ],
                    "contourcarpet": [
                      {
                        "colorbar": {
                          "outlinewidth": 0,
                          "ticks": ""
                        },
                        "type": "contourcarpet"
                      }
                    ],
                    "heatmap": [
                      {
                        "colorbar": {
                          "outlinewidth": 0,
                          "ticks": ""
                        },
                        "colorscale": [
                          [
                            0,
                            "#0d0887"
                          ],
                          [
                            0.1111111111111111,
                            "#46039f"
                          ],
                          [
                            0.2222222222222222,
                            "#7201a8"
                          ],
                          [
                            0.3333333333333333,
                            "#9c179e"
                          ],
                          [
                            0.4444444444444444,
                            "#bd3786"
                          ],
                          [
                            0.5555555555555556,
                            "#d8576b"
                          ],
                          [
                            0.6666666666666666,
                            "#ed7953"
                          ],
                          [
                            0.7777777777777778,
                            "#fb9f3a"
                          ],
                          [
                            0.8888888888888888,
                            "#fdca26"
                          ],
                          [
                            1,
                            "#f0f921"
                          ]
                        ],
                        "type": "heatmap"
                      }
                    ],
                    "heatmapgl": [
                      {
                        "colorbar": {
                          "outlinewidth": 0,
                          "ticks": ""
                        },
                        "colorscale": [
                          [
                            0,
                            "#0d0887"
                          ],
                          [
                            0.1111111111111111,
                            "#46039f"
                          ],
                          [
                            0.2222222222222222,
                            "#7201a8"
                          ],
                          [
                            0.3333333333333333,
                            "#9c179e"
                          ],
                          [
                            0.4444444444444444,
                            "#bd3786"
                          ],
                          [
                            0.5555555555555556,
                            "#d8576b"
                          ],
                          [
                            0.6666666666666666,
                            "#ed7953"
                          ],
                          [
                            0.7777777777777778,
                            "#fb9f3a"
                          ],
                          [
                            0.8888888888888888,
                            "#fdca26"
                          ],
                          [
                            1,
                            "#f0f921"
                          ]
                        ],
                        "type": "heatmapgl"
                      }
                    ],
                    "histogram": [
                      {
                        "marker": {
                          "pattern": {
                            "fillmode": "overlay",
                            "size": 10,
                            "solidity": 0.2
                          }
                        },
                        "type": "histogram"
                      }
                    ],
                    "histogram2d": [
                      {
                        "colorbar": {
                          "outlinewidth": 0,
                          "ticks": ""
                        },
                        "colorscale": [
                          [
                            0,
                            "#0d0887"
                          ],
                          [
                            0.1111111111111111,
                            "#46039f"
                          ],
                          [
                            0.2222222222222222,
                            "#7201a8"
                          ],
                          [
                            0.3333333333333333,
                            "#9c179e"
                          ],
                          [
                            0.4444444444444444,
                            "#bd3786"
                          ],
                          [
                            0.5555555555555556,
                            "#d8576b"
                          ],
                          [
                            0.6666666666666666,
                            "#ed7953"
                          ],
                          [
                            0.7777777777777778,
                            "#fb9f3a"
                          ],
                          [
                            0.8888888888888888,
                            "#fdca26"
                          ],
                          [
                            1,
                            "#f0f921"
                          ]
                        ],
                        "type": "histogram2d"
                      }
                    ],
                    "histogram2dcontour": [
                      {
                        "colorbar": {
                          "outlinewidth": 0,
                          "ticks": ""
                        },
                        "colorscale": [
                          [
                            0,
                            "#0d0887"
                          ],
                          [
                            0.1111111111111111,
                            "#46039f"
                          ],
                          [
                            0.2222222222222222,
                            "#7201a8"
                          ],
                          [
                            0.3333333333333333,
                            "#9c179e"
                          ],
                          [
                            0.4444444444444444,
                            "#bd3786"
                          ],
                          [
                            0.5555555555555556,
                            "#d8576b"
                          ],
                          [
                            0.6666666666666666,
                            "#ed7953"
                          ],
                          [
                            0.7777777777777778,
                            "#fb9f3a"
                          ],
                          [
                            0.8888888888888888,
                            "#fdca26"
                          ],
                          [
                            1,
                            "#f0f921"
                          ]
                        ],
                        "type": "histogram2dcontour"
                      }
                    ],
                    "mesh3d": [
                      {
                        "colorbar": {
                          "outlinewidth": 0,
                          "ticks": ""
                        },
                        "type": "mesh3d"
                      }
                    ],
                    "parcoords": [
                      {
                        "line": {
                          "colorbar": {
                            "outlinewidth": 0,
                            "ticks": ""
                          }
                        },
                        "type": "parcoords"
                      }
                    ],
                    "pie": [
                      {
                        "automargin": true,
                        "type": "pie"
                      }
                    ],
                    "scatter": [
                      {
                        "fillpattern": {
                          "fillmode": "overlay",
                          "size": 10,
                          "solidity": 0.2
                        },
                        "type": "scatter"
                      }
                    ],
                    "scatter3d": [
                      {
                        "line": {
                          "colorbar": {
                            "outlinewidth": 0,
                            "ticks": ""
                          }
                        },
                        "marker": {
                          "colorbar": {
                            "outlinewidth": 0,
                            "ticks": ""
                          }
                        },
                        "type": "scatter3d"
                      }
                    ],
                    "scattercarpet": [
                      {
                        "marker": {
                          "colorbar": {
                            "outlinewidth": 0,
                            "ticks": ""
                          }
                        },
                        "type": "scattercarpet"
                      }
                    ],
                    "scattergeo": [
                      {
                        "marker": {
                          "colorbar": {
                            "outlinewidth": 0,
                            "ticks": ""
                          }
                        },
                        "type": "scattergeo"
                      }
                    ],
                    "scattergl": [
                      {
                        "marker": {
                          "colorbar": {
                            "outlinewidth": 0,
                            "ticks": ""
                          }
                        },
                        "type": "scattergl"
                      }
                    ],
                    "scattermapbox": [
                      {
                        "marker": {
                          "colorbar": {
                            "outlinewidth": 0,
                            "ticks": ""
                          }
                        },
                        "type": "scattermapbox"
                      }
                    ],
                    "scatterpolar": [
                      {
                        "marker": {
                          "colorbar": {
                            "outlinewidth": 0,
                            "ticks": ""
                          }
                        },
                        "type": "scatterpolar"
                      }
                    ],
                    "scatterpolargl": [
                      {
                        "marker": {
                          "colorbar": {
                            "outlinewidth": 0,
                            "ticks": ""
                          }
                        },
                        "type": "scatterpolargl"
                      }
                    ],
                    "scatterternary": [
                      {
                        "marker": {
                          "colorbar": {
                            "outlinewidth": 0,
                            "ticks": ""
                          }
                        },
                        "type": "scatterternary"
                      }
                    ],
                    "surface": [
                      {
                        "colorbar": {
                          "outlinewidth": 0,
                          "ticks": ""
                        },
                        "colorscale": [
                          [
                            0,
                            "#0d0887"
                          ],
                          [
                            0.1111111111111111,
                            "#46039f"
                          ],
                          [
                            0.2222222222222222,
                            "#7201a8"
                          ],
                          [
                            0.3333333333333333,
                            "#9c179e"
                          ],
                          [
                            0.4444444444444444,
                            "#bd3786"
                          ],
                          [
                            0.5555555555555556,
                            "#d8576b"
                          ],
                          [
                            0.6666666666666666,
                            "#ed7953"
                          ],
                          [
                            0.7777777777777778,
                            "#fb9f3a"
                          ],
                          [
                            0.8888888888888888,
                            "#fdca26"
                          ],
                          [
                            1,
                            "#f0f921"
                          ]
                        ],
                        "type": "surface"
                      }
                    ],
                    "table": [
                      {
                        "cells": {
                          "fill": {
                            "color": "#EBF0F8"
                          },
                          "line": {
                            "color": "white"
                          }
                        },
                        "header": {
                          "fill": {
                            "color": "#C8D4E3"
                          },
                          "line": {
                            "color": "white"
                          }
                        },
                        "type": "table"
                      }
                    ]
                  },
                  "layout": {
                    "annotationdefaults": {
                      "arrowcolor": "#2a3f5f",
                      "arrowhead": 0,
                      "arrowwidth": 1
                    },
                    "autotypenumbers": "strict",
                    "coloraxis": {
                      "colorbar": {
                        "outlinewidth": 0,
                        "ticks": ""
                      }
                    },
                    "colorscale": {
                      "diverging": [
                        [
                          0,
                          "#8e0152"
                        ],
                        [
                          0.1,
                          "#c51b7d"
                        ],
                        [
                          0.2,
                          "#de77ae"
                        ],
                        [
                          0.3,
                          "#f1b6da"
                        ],
                        [
                          0.4,
                          "#fde0ef"
                        ],
                        [
                          0.5,
                          "#f7f7f7"
                        ],
                        [
                          0.6,
                          "#e6f5d0"
                        ],
                        [
                          0.7,
                          "#b8e186"
                        ],
                        [
                          0.8,
                          "#7fbc41"
                        ],
                        [
                          0.9,
                          "#4d9221"
                        ],
                        [
                          1,
                          "#276419"
                        ]
                      ],
                      "sequential": [
                        [
                          0,
                          "#0d0887"
                        ],
                        [
                          0.1111111111111111,
                          "#46039f"
                        ],
                        [
                          0.2222222222222222,
                          "#7201a8"
                        ],
                        [
                          0.3333333333333333,
                          "#9c179e"
                        ],
                        [
                          0.4444444444444444,
                          "#bd3786"
                        ],
                        [
                          0.5555555555555556,
                          "#d8576b"
                        ],
                        [
                          0.6666666666666666,
                          "#ed7953"
                        ],
                        [
                          0.7777777777777778,
                          "#fb9f3a"
                        ],
                        [
                          0.8888888888888888,
                          "#fdca26"
                        ],
                        [
                          1,
                          "#f0f921"
                        ]
                      ],
                      "sequentialminus": [
                        [
                          0,
                          "#0d0887"
                        ],
                        [
                          0.1111111111111111,
                          "#46039f"
                        ],
                        [
                          0.2222222222222222,
                          "#7201a8"
                        ],
                        [
                          0.3333333333333333,
                          "#9c179e"
                        ],
                        [
                          0.4444444444444444,
                          "#bd3786"
                        ],
                        [
                          0.5555555555555556,
                          "#d8576b"
                        ],
                        [
                          0.6666666666666666,
                          "#ed7953"
                        ],
                        [
                          0.7777777777777778,
                          "#fb9f3a"
                        ],
                        [
                          0.8888888888888888,
                          "#fdca26"
                        ],
                        [
                          1,
                          "#f0f921"
                        ]
                      ]
                    },
                    "colorway": [
                      "#636efa",
                      "#EF553B",
                      "#00cc96",
                      "#ab63fa",
                      "#FFA15A",
                      "#19d3f3",
                      "#FF6692",
                      "#B6E880",
                      "#FF97FF",
                      "#FECB52"
                    ],
                    "font": {
                      "color": "#2a3f5f"
                    },
                    "geo": {
                      "bgcolor": "white",
                      "lakecolor": "white",
                      "landcolor": "#E5ECF6",
                      "showlakes": true,
                      "showland": true,
                      "subunitcolor": "white"
                    },
                    "hoverlabel": {
                      "align": "left"
                    },
                    "hovermode": "closest",
                    "mapbox": {
                      "style": "light"
                    },
                    "paper_bgcolor": "white",
                    "plot_bgcolor": "#E5ECF6",
                    "polar": {
                      "angularaxis": {
                        "gridcolor": "white",
                        "linecolor": "white",
                        "ticks": ""
                      },
                      "bgcolor": "#E5ECF6",
                      "radialaxis": {
                        "gridcolor": "white",
                        "linecolor": "white",
                        "ticks": ""
                      }
                    },
                    "scene": {
                      "xaxis": {
                        "backgroundcolor": "#E5ECF6",
                        "gridcolor": "white",
                        "gridwidth": 2,
                        "linecolor": "white",
                        "showbackground": true,
                        "ticks": "",
                        "zerolinecolor": "white"
                      },
                      "yaxis": {
                        "backgroundcolor": "#E5ECF6",
                        "gridcolor": "white",
                        "gridwidth": 2,
                        "linecolor": "white",
                        "showbackground": true,
                        "ticks": "",
                        "zerolinecolor": "white"
                      },
                      "zaxis": {
                        "backgroundcolor": "#E5ECF6",
                        "gridcolor": "white",
                        "gridwidth": 2,
                        "linecolor": "white",
                        "showbackground": true,
                        "ticks": "",
                        "zerolinecolor": "white"
                      }
                    },
                    "shapedefaults": {
                      "line": {
                        "color": "#2a3f5f"
                      }
                    },
                    "ternary": {
                      "aaxis": {
                        "gridcolor": "white",
                        "linecolor": "white",
                        "ticks": ""
                      },
                      "baxis": {
                        "gridcolor": "white",
                        "linecolor": "white",
                        "ticks": ""
                      },
                      "bgcolor": "#E5ECF6",
                      "caxis": {
                        "gridcolor": "white",
                        "linecolor": "white",
                        "ticks": ""
                      }
                    },
                    "title": {
                      "x": 0.05
                    },
                    "xaxis": {
                      "automargin": true,
                      "gridcolor": "white",
                      "linecolor": "white",
                      "ticks": "",
                      "title": {
                        "standoff": 15
                      },
                      "zerolinecolor": "white",
                      "zerolinewidth": 2
                    },
                    "yaxis": {
                      "automargin": true,
                      "gridcolor": "white",
                      "linecolor": "white",
                      "ticks": "",
                      "title": {
                        "standoff": 15
                      },
                      "zerolinecolor": "white",
                      "zerolinewidth": 2
                    }
                  }
                },
                "title": {
                  "text": "sul"
                },
                "xaxis": {
                  "title": {
                    "text": "Time"
                  }
                },
                "yaxis": {
                  "title": {
                    "text": "Value"
                  }
                }
              }
            }
          },
          "metadata": {},
          "output_type": "display_data"
        }
      ],
      "source": [
        "for variable in results:\n",
        "    variable_result = results[variable]\n",
        "    variable_df = RegressionDF[RegressionDF[GROUP_COL_NAME] == variable]\n",
        "    plot_with_all_dummies(variable,\n",
        "                            variable_df,\n",
        "                            variable_result,\n",
        "                            exclude_coeffs_by_prefix=[\n",
        "                                \"month_\",\n",
        "                                'quarter_',\n",
        "                                'sin','cos'\n",
        "                                ],\n",
        "                            line_events = {\n",
        "                                #'Choque_Inicial':        [CHOQUE_INICIAL_START_DATE, CHOQUE_INICIAL_END_DATE, \"rgba(0, 0, 0, 0.25)\", False],\n",
        "                                #'Lockdown_2021':         [SECONDLOCKDOWN_START_DATE, SECONDLOCKDOWN_END_DATE, \"rgba(0, 0, 0, 0.25)\", False],\n",
        "                                'Pandemia':         [PANDEMIA_START_DATE, PANDEMIA_END_DATE, None, True],\n",
        "                                'Pos Pandemia':      [POS_PANDEMIA_START_DATE, END_DATE, None, True]\n",
        "                            },\n",
        "                            real_serie_key=IR_VAR,\n",
        "                            exponentite_coefs=MODEL_DEF == \"GEE\" or MODEL_DEF == \"GLM\",\n",
        "                            #slope_coef_str='PrePandemia_Trend'\n",
        "\n",
        "\n",
        "\n",
        "                            )\n"
      ]
    }
  ],
  "metadata": {
    "colab": {
      "collapsed_sections": [
        "K8HZg-VlNIXd",
        "WcYnNsL4NIXl",
        "2IiKsqpaNIXu"
      ],
      "provenance": [],
      "toc_visible": true
    },
    "kernelspec": {
      "display_name": "Python 3",
      "name": "python3"
    },
    "language_info": {
      "codemirror_mode": {
        "name": "ipython",
        "version": 3
      },
      "file_extension": ".py",
      "mimetype": "text/x-python",
      "name": "python",
      "nbconvert_exporter": "python",
      "pygments_lexer": "ipython3",
      "version": "3.12.5"
    }
  },
  "nbformat": 4,
  "nbformat_minor": 0
}
