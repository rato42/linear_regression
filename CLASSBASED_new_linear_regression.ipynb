{
 "cells": [
  {
   "cell_type": "markdown",
   "metadata": {
    "colab_type": "text",
    "id": "view-in-github"
   },
   "source": [
    "<a href=\"https://colab.research.google.com/github/rato42/linear_regression/blob/unstable-yeah-sure/CLASSBASED_new_linear_regression.ipynb\" target=\"_parent\"><img src=\"https://colab.research.google.com/assets/colab-badge.svg\" alt=\"Open In Colab\"/></a>"
   ]
  },
  {
   "cell_type": "markdown",
   "metadata": {
    "id": "EwX1y9X8yfED"
   },
   "source": [
    "# Imports\n"
   ]
  },
  {
   "cell_type": "code",
   "execution_count": 533,
   "metadata": {
    "colab": {
     "base_uri": "https://localhost:8080/"
    },
    "id": "sOJUZR18gkp5",
    "outputId": "9a15ac2a-9b78-4df2-dfd1-fdc8665336d5"
   },
   "outputs": [
    {
     "name": "stdout",
     "output_type": "stream",
     "text": [
      "Running outside Colab (VS Code/local)\n"
     ]
    }
   ],
   "source": [
    "import sys\n",
    "\n",
    "# Detect Colab environment\n",
    "IN_COLAB = \"google.colab\" in sys.modules\n",
    "\n",
    "if IN_COLAB:\n",
    "    from google.colab import drive, auth\n",
    "    from googleapiclient.discovery import build\n",
    "    from googleapiclient.http import MediaIoBaseDownload\n",
    "\n",
    "    auth.authenticate_user()\n",
    "    drive.mount(\"/content/drive\")\n",
    "else:\n",
    "    from oauth2client.service_account import ServiceAccountCredentials\n",
    "\n",
    "    print(\"Running outside Colab (VS Code/local)\")\n",
    "\n",
    "try:\n",
    "    import gspread\n",
    "except ModuleNotFoundError:\n",
    "    if IN_COLAB and \"google.colab\" in str(get_ipython()):\n",
    "        %pip install gspread\n",
    "    import gspread\n",
    "\n",
    "from gspread_dataframe import set_with_dataframe"
   ]
  },
  {
   "cell_type": "code",
   "execution_count": 534,
   "metadata": {
    "id": "uc_HtA6xvVE2"
   },
   "outputs": [],
   "source": [
    "### comparar modelos usando AIC BIC. talvez trocar pra BIC agora?\n",
    "### ver como manter legendas do mes legiveis, mas cnosiderar eles como 1 unidade de valor\n",
    "\n",
    "## no grafico, mudar o nome de previsoes pra sei la slope da regresao linear, tendencia\n",
    "\n",
    "\n",
    "## ideia, ver o quanto os valores normais ficam distantes da tendencia e comparar com os pandemicos. derivar algum index\n",
    "\n",
    "\n",
    "####\n",
    "### TODO: put best_rho in the exported stats\n",
    "\n",
    "import os\n",
    "\n",
    "import time\n",
    "\n",
    "import math\n",
    "import scipy.stats as stats\n",
    "import pandas as pd\n",
    "import numpy as np\n",
    "\n",
    "from scipy.stats import linregress, ttest_ind, ttest_rel, ttest_1samp\n",
    "import matplotlib.pyplot as plt\n",
    "import re\n",
    "from matplotlib.font_manager import FontProperties\n",
    "import statsmodels.formula.api as smf\n",
    "import statsmodels.api as sm\n",
    "\n",
    "from datetime import datetime, timedelta\n",
    "\n",
    "from statsmodels.stats.stattools import durbin_watson\n",
    "from statsmodels.stats.diagnostic import acorr_ljungbox\n",
    "from statsmodels.tools.tools import add_constant\n",
    "\n",
    "from sklearn.preprocessing import StandardScaler\n",
    "from sklearn.model_selection import train_test_split\n",
    "from sklearn.metrics import r2_score, mean_squared_error\n",
    "from sklearn.pipeline import Pipeline\n",
    "from sklearn.base import BaseEstimator, TransformerMixin\n",
    "from sklearn.preprocessing import FunctionTransformer\n",
    "\n",
    "from dateutil.relativedelta import relativedelta\n",
    "\n",
    "from sklearn import set_config\n",
    "set_config(display=\"diagram\")\n",
    "\n",
    "import logging\n",
    "from typing import Dict, Any\n",
    "\n",
    "import io"
   ]
  },
  {
   "cell_type": "markdown",
   "metadata": {
    "id": "M6pmUGm9ycJ_"
   },
   "source": [
    "# LOAD --- data from gsheet if colab or local\n"
   ]
  },
  {
   "cell_type": "code",
   "execution_count": 535,
   "metadata": {
    "id": "r6jsbsBZvWHp"
   },
   "outputs": [],
   "source": [
    "dados_brutos = None\n",
    "output_wksheet = None\n",
    "\n",
    "input_path = \"https://docs.google.com/spreadsheets/d/1m3eEaxWT4Unb8jBZWKjiLivavfA0x3PT1F1Rz1eXwVE/edit?gid=0\"\n",
    "output_path = \"https://docs.google.com/spreadsheets/d/1RzC3DfKNUwYA-qfUN0i53hUwRkWGMBOCoYQqdqG4MQY/edit?gid=0\"\n",
    "\n",
    "local_input_path = (\n",
    "    \"D:\\\\CodeStuff\\\\Stats\\\\colab_linear_regression\\\\linear_regression\\\\input\\\\input.csv\"\n",
    ")\n",
    "\n",
    "if IN_COLAB:\n",
    "    import gspread\n",
    "    from google.auth import default\n",
    "\n",
    "    auth.authenticate_user()\n",
    "    creds, _ = default()\n",
    "    gc = gspread.authorize(creds)\n",
    "    workbook = gc.open_by_url(input_path)\n",
    "    worksheets = workbook.worksheets()\n",
    "    output_wksheet = gc.open_by_url(output_path)\n",
    "    dados_brutos = worksheets[0].get_all_values()\n",
    "else:\n",
    "    dados_brutos = pd.read_csv(local_input_path, header=None).values.tolist()"
   ]
  },
  {
   "cell_type": "markdown",
   "metadata": {
    "id": "SAATuGWcyPmG"
   },
   "source": [
    "# ARGS --- Define Args\n"
   ]
  },
  {
   "cell_type": "markdown",
   "metadata": {},
   "source": [
    "fit_kwargs = {\n",
    "    \"cov_type\": \"HAC\",\n",
    "    \"cov_kwds\": {\"maxlags\": 6}  # Account for ~6 month lagged effects\n",
    "}\n",
    "\n",
    "✓ Autocorrelation from policy inertia\n",
    "✓ Seasonal patterns in mental health data\n",
    "✓ Lagged treatment effects"
   ]
  },
  {
   "cell_type": "code",
   "execution_count": 536,
   "metadata": {
    "id": "N43j0vRL3QsP"
   },
   "outputs": [],
   "source": [
    "COLUMN_NAME = \"periodo\"  ### Y\n",
    "VALUE_NAME = \"valores\"  ### X\n",
    "DATE_NAME = \"date\"\n",
    "VARIABLE_NAME = \"variavel\"\n",
    "SAVE_ARG = True\n",
    "\n",
    "LOCAL_OUTPUT_PATH = \"D:\\\\CodeStuff\\\\Stats\\\\colab_linear_regression\\\\linear_regression\\\\output\\\\output.xlsx\"\n",
    "\n",
    "DUMMY_ARGS =        {\n",
    "        #'PrePandemia': {\"start_date\": \"2016-01-01\", \"end_date\": \"2019-12-31\"},\n",
    "        #\"Pandemia\": {\"start_date\": \"2020-01-01\", \"end_date\": \"2020-12-31\"},\n",
    "        #\"PosPandemia\": {\"start_date\": \"2021-01-01\", \"end_date\": \"2022-06-30\"},\n",
    "        'Pandemia_Pulse': {\"start_date\": \"2020-01-01\", \"end_date\": \"2020-06-30\"},\n",
    "        'Pandemia_ePos_Step': {\"start_date\": \"2020-01-01\", \"end_date\": \"2022-06-30\"},\n",
    "        # TODO: Implement count\n",
    "        #'PandemiaContinuo' : {\"start_date\": \"2020-01-01\", \"end_date\": \"2022-06-30\", 'add_time_trend': True}, \n",
    "        }\n",
    "\n",
    "\n",
    "MODEL_FORMULA = VALUE_NAME + \"~\" + COLUMN_NAME\n",
    "if DUMMY_ARGS:\n",
    "    for key in DUMMY_ARGS.keys():\n",
    "        MODEL_FORMULA += \" + \" + key\n",
    "\n",
    "ARGS = {\n",
    "    # data preprocessing\n",
    "    #\"PeriodosInclusivos_Range\": [2015, 2022],  # @[Y1, Y2, M1, M2, D1,D2] start and stop\n",
    "    #\"PeriodGrouping\": 3,\n",
    "    ################### TODO: Need to make a check for multiples of periodgrouping\n",
    "    #\"FrequencyDateGroup\": \"QE\",\n",
    "    'FrequencyDateGroup' : 'Q',\n",
    "    #\"ScaleDataValues\": True,\n",
    "    #\"DatesAsOrdinal\": False,\n",
    "    #\"MeltDF\": True,\n",
    "\n",
    "    # regression\n",
    "    \"RegressionMethod\": \"prais_winsten\",  #'ols' or 'prais_winsten'\n",
    "    #\"PeriodosExcluirDaRegressao\": [2020, 2021],\n",
    "    \"ModelFormula\": MODEL_FORMULA,\n",
    "    \"IterativeFit\": True,\n",
    "    \"MaxIterations\": 10,\n",
    "    \"CriterioBestRho\": \"aic\",  #'aic' or 'bic'\n",
    "    'CovType': 'HAC',\n",
    "    'CovKwargs': {'maxlags': 6},\n",
    "\n",
    "    # prediction\n",
    "    \"additional_dates_factor\": 0.0,\n",
    "\n",
    "    'DfsForRegression' : {\n",
    "        #\"Pandemia\": [2016, 2020],\n",
    "        #\"PrePandemia\": [2016, 2019],\n",
    "        \"Total\": [2016, 2022],\n",
    "    },\n",
    "    'DummyArgs' : DUMMY_ARGS,\n",
    "        # Add more as needed (e.g., 'PrePandemia': {'start_date': '2016-01-01', 'end_date': '2019-12-31'})\n",
    "\n",
    "    # debug\n",
    "    #'VerboseResultsAnalysis': True,      ### needs reimplementation\n",
    "}\n",
    "\n"
   ]
  },
  {
   "cell_type": "markdown",
   "metadata": {
    "id": "3lst0tSSyWi0"
   },
   "source": [
    "# Define Preprocessors\n"
   ]
  },
  {
   "cell_type": "code",
   "execution_count": 537,
   "metadata": {
    "id": "FAqiSa3R-k3r"
   },
   "outputs": [],
   "source": [
    "def BuildDataDF(data):\n",
    "    string_dates = data[0][1:]  # Store original string dates\n",
    "\n",
    "    # Converter as strings de datas em objetos datetime\n",
    "    date_list = [datetime.strptime(date, \"%d/%m/%Y\") for date in string_dates]\n",
    "\n",
    "    # Extrair os nomes das variáveis\n",
    "    variavel = [row[0] for row in data[1:]]\n",
    "\n",
    "    # Extrair os dados (sem agrupamento)\n",
    "    dados = [row[1:] for row in data[1:]]\n",
    "    dados = np.array(dados, dtype=int)  # Converter para tipo object para evitar warning\n",
    "\n",
    "    # Criar o DataFrame with DatetimeIndex\n",
    "    df = pd.DataFrame(data=dados, index=variavel, columns=pd.DatetimeIndex(date_list))\n",
    "\n",
    "    return df\n",
    "\n",
    "class DateFilterTransformer(BaseEstimator, TransformerMixin):\n",
    "    def __init__(\n",
    "        self, periodos_inclusivos=None, periodos_exclusivos=None, date_col=DATE_NAME\n",
    "    ):\n",
    "        self.periodos_inclusivos = periodos_inclusivos\n",
    "        self.periodos_exclusivos = periodos_exclusivos\n",
    "        self.date_col = date_col\n",
    "\n",
    "    def get_date_range(self, Y1, Y2=None, M1=None, M2=None, D1=None, D2=None):\n",
    "        Y2 = Y2 or Y1\n",
    "        M1 = M1 or 1\n",
    "        M2 = M2 or 12\n",
    "        D1 = D1 or 1\n",
    "        D2 = D2 or 31\n",
    "        start_date = datetime(Y1, M1, D1)\n",
    "        end_date = datetime(Y2, M2, D2)\n",
    "        return pd.date_range(start=start_date, end=end_date, freq=\"D\")\n",
    "\n",
    "    def fit(self, X, y=None):\n",
    "        return self\n",
    "\n",
    "    def transform(self, X):\n",
    "        X = X.copy()\n",
    "\n",
    "        # Convert date column if it's not datetime yet\n",
    "        if not pd.api.types.is_datetime64_any_dtype(X[self.date_col]):\n",
    "            X[self.date_col] = pd.to_datetime(X[self.date_col], errors=\"coerce\")\n",
    "\n",
    "        if self.periodos_inclusivos:\n",
    "            valid_dates = self.get_date_range(*self.periodos_inclusivos)\n",
    "            return X[X[self.date_col].isin(valid_dates)].reset_index(drop=True)\n",
    "\n",
    "        elif self.periodos_exclusivos:\n",
    "            invalid_dates = self.get_date_range(*self.periodos_exclusivos)\n",
    "            return X[~X[self.date_col].isin(invalid_dates)].reset_index(drop=True)\n",
    "\n",
    "        return X\n",
    "\n",
    "class PeriodGroupingTransformer(BaseEstimator, TransformerMixin):\n",
    "    \"\"\"\n",
    "    Transformer for grouping data by periods (e.g., months, quarters).\n",
    "\n",
    "    This transformer takes a DataFrame with datetime columns and groups\n",
    "    the data by specified periods, summing the values within each group.\n",
    "\n",
    "    ARGS:\n",
    "        period_grouping (int): The number of periods to group together.\n",
    "                               For example, 3 for quarterly grouping.\n",
    "                               Defaults to 2.\n",
    "    \"\"\"\n",
    "\n",
    "    def __init__(self, period_grouping=2):\n",
    "        self.period_grouping = period_grouping\n",
    "\n",
    "    def fit(self, X, y=None):\n",
    "        \"\"\"\n",
    "        This transformer does not require fitting.\n",
    "        \"\"\"\n",
    "        return self\n",
    "\n",
    "    def transform(self, X):\n",
    "        \"\"\"\n",
    "        Groups the data by specified periods and sums the values.\n",
    "\n",
    "        ARGS:\n",
    "            X (pd.DataFrame): The input DataFrame with datetime columns.\n",
    "\n",
    "        Returns:\n",
    "            pd.DataFrame: The grouped DataFrame with summed values.\n",
    "                          Columns are datetime objects representing the end of each group.\n",
    "        \"\"\"\n",
    "        if self.period_grouping == 1:\n",
    "            return X\n",
    "        if not isinstance(X, pd.DataFrame):\n",
    "            raise TypeError(\"Input must be a pandas DataFrame.\")\n",
    "        breakpoint()\n",
    "        # Convert columns to datetime if they are not already\n",
    "        #if not isinstance(X.columns[0], pd.Timestamp):\n",
    "        #    X.columns = pd.to_datetime(X.columns, errors=\"coerce\")\n",
    "\n",
    "        grouped_data = {}\n",
    "        \n",
    "        # Iterate over columns, grouping by period_grouping\n",
    "        for i in range(0, len(X.columns), self.period_grouping):\n",
    "            group_cols = X.columns[\n",
    "                i : i + self.period_grouping\n",
    "            ]  # Select columns for the current group\n",
    "            group_name = group_cols[\n",
    "                0\n",
    "            ]  # group_cols[-1] Use the last column's datetime as the group name\n",
    "            grouped_data[group_name] = X[group_cols].sum(\n",
    "                axis=1\n",
    "            )  # Sum values within the group\n",
    "\n",
    "        grouped_df = pd.DataFrame(grouped_data)\n",
    "\n",
    "        # Ensure columns remain as datetime objects\n",
    "        grouped_df.columns = pd.to_datetime(grouped_df.columns)\n",
    "        print(grouped_df)\n",
    "        return grouped_df\n",
    "\n",
    "class MeltTransformer(BaseEstimator, TransformerMixin):\n",
    "    def __init__(\n",
    "        self,\n",
    "        var_name=VARIABLE_NAME,\n",
    "        value_name=VALUE_NAME,\n",
    "        date_name=DATE_NAME,\n",
    "        y_name=COLUMN_NAME,\n",
    "    ):\n",
    "        self.var_name = var_name\n",
    "        self.value_name = value_name\n",
    "        self.date_name = date_name\n",
    "        self.y_name = y_name\n",
    "\n",
    "    def fit(self, X, y=None):\n",
    "        # Nothing to learn, so just return self\n",
    "        return self\n",
    "\n",
    "    def transform(self, X):\n",
    "        # Transpose and reset index\n",
    "        df_long = X.T.reset_index()\n",
    "\n",
    "        # Rename index to date_name\n",
    "        df_long = df_long.rename(columns={\"index\": self.date_name})\n",
    "\n",
    "        # Melt the DataFrame\n",
    "        df_long = pd.melt(\n",
    "            df_long,\n",
    "            id_vars=[self.date_name],\n",
    "            var_name=self.var_name,\n",
    "            value_name=self.value_name,\n",
    "        )\n",
    "\n",
    "        # Sort by category and date\n",
    "        df_final = df_long.sort_values([self.var_name, self.date_name]).reset_index(\n",
    "            drop=True\n",
    "        )\n",
    "\n",
    "        return df_final\n",
    "\n",
    "class PeriodIndexAdder(BaseEstimator, TransformerMixin):\n",
    "    def __init__(self, group_col=VARIABLE_NAME, new_col=COLUMN_NAME):\n",
    "        self.group_col = group_col\n",
    "        self.new_col = new_col\n",
    "\n",
    "    def fit(self, X, y=None):\n",
    "        return self\n",
    "\n",
    "    def transform(self, X):\n",
    "        X = X.copy()\n",
    "        X[self.new_col] = X.groupby(self.group_col).cumcount() + 1\n",
    "        return X\n",
    "\n",
    "class DummyVariableAdder(BaseEstimator, TransformerMixin):\n",
    "    \"\"\"\n",
    "    Adds dummy variables to a DataFrame based on a date threshold or condition.\n",
    "\n",
    "    Parameters:\n",
    "    -----------\n",
    "    date_column : str\n",
    "        Name of the column containing dates (if using date-based dummies).\n",
    "    start_date : str (optional)\n",
    "        Start date for the dummy period (e.g., '2020-03-01').\n",
    "    end_date : str (optional)\n",
    "        End date for the dummy period (e.g., '2022-12-31').\n",
    "    dummy_name : str\n",
    "        Name of the new dummy column (default: 'is_pandemic').\n",
    "    condition : callable (optional)\n",
    "        Custom function to define the dummy condition (e.g., lambda x: x > 100).\n",
    "    \"\"\"\n",
    "\n",
    "    def __init__(\n",
    "        self,\n",
    "        date_column=None,\n",
    "        start_date=None,\n",
    "        end_date=None,\n",
    "        dummy_name=\"is_pandemic\",\n",
    "        condition=None,\n",
    "        add_time_trend=False,\n",
    "    ):\n",
    "        self.date_column = date_column\n",
    "        self.start_date = start_date\n",
    "        self.end_date = end_date\n",
    "        self.dummy_name = dummy_name\n",
    "        self.condition = condition\n",
    "        self.add_time_trend = add_time_trend\n",
    "\n",
    "    def fit(self, X, y=None):\n",
    "        # No fitting needed for this transformer\n",
    "        return self\n",
    "\n",
    "    def transform(self, X):\n",
    "        X = X.copy()\n",
    "\n",
    "        # Create dummy based on dates\n",
    "        if self.date_column is not None and self.start_date is not None:\n",
    "            dates = pd.to_datetime(X[self.date_column])\n",
    "            if self.end_date is not None:\n",
    "                X[self.dummy_name] = (\n",
    "                    (dates >= pd.to_datetime(self.start_date))\n",
    "                    & (dates <= pd.to_datetime(self.end_date))\n",
    "                ).astype(int)\n",
    "            else:\n",
    "                X[self.dummy_name] = (dates >= pd.to_datetime(self.start_date)).astype(\n",
    "                    int\n",
    "                )\n",
    "\n",
    "        # Create dummy based on a custom condition\n",
    "        elif self.condition is not None:\n",
    "            X[self.dummy_name] = X.apply(self.condition, axis=1).astype(int)\n",
    "\n",
    "        else:\n",
    "            raise ValueError(\n",
    "                \"Either `date_column` + `start_date` or `condition` must be provided.\"\n",
    "            )\n",
    "\n",
    "        return X\n",
    "\n",
    "class MultiDummyAdder(BaseEstimator, TransformerMixin):\n",
    "    \"\"\"\n",
    "    Adds multiple dummy variables based on date ranges or custom conditions.\n",
    "\n",
    "    Parameters:\n",
    "    -----------\n",
    "    dummy_config : dict\n",
    "        Dictionary defining dummy variables. Example:\n",
    "        {\n",
    "            'Pandemia': {'start_date': '2020-01-01', 'end_date': '2020-12-31'},\n",
    "            'PosPandemia': {'start_date': '2021-01-01', 'end_date': '2022-12-31'}\n",
    "        }\n",
    "    date_column : str\n",
    "        Name of the column containing dates (must be datetime).\n",
    "    \"\"\"\n",
    "\n",
    "    def __init__(self, dummy_config, date_column=DATE_NAME):\n",
    "        self.dummy_config = dummy_config\n",
    "        self.date_column = date_column\n",
    "\n",
    "    def fit(self, X, y=None):\n",
    "        return self\n",
    "\n",
    "    def transform(self, X):\n",
    "        X = X.copy()\n",
    "        dates = pd.to_datetime(X[self.date_column])\n",
    "\n",
    "        for dummy_name, config in self.dummy_config.items():\n",
    "            start_date = pd.to_datetime(config.get(\"start_date\"))\n",
    "            end_date = pd.to_datetime(config.get(\"end_date\"))\n",
    "\n",
    "            if start_date and end_date:\n",
    "                X[dummy_name] = ((dates >= start_date) & (dates <= end_date)).astype(\n",
    "                    int\n",
    "                )\n",
    "            elif start_date:\n",
    "                X[dummy_name] = (dates >= start_date).astype(int)\n",
    "            else:\n",
    "                raise ValueError(\n",
    "                    f\"Invalid config for {dummy_name}. Provide 'start_date' and optionally 'end_date'.\"\n",
    "                )\n",
    "\n",
    "        return X\n"
   ]
  },
  {
   "cell_type": "code",
   "execution_count": 538,
   "metadata": {},
   "outputs": [],
   "source": [
    "\n",
    "\n",
    "class QuarterlyDatetimeGroupingTransformer(BaseEstimator, TransformerMixin):\n",
    "\t\"\"\"\n",
    "\tAgrupa as colunas por trimestres reais (Q1, Q2...) e mantém os nomes das colunas como datetime,\n",
    "\tusando o último dia do trimestre como identificador.\n",
    "\t\"\"\"\n",
    "\n",
    "\tdef fit(self, X, y=None):\n",
    "\t\treturn self\n",
    "\n",
    "\tdef transform(self, X):\n",
    "\t\tif not isinstance(X, pd.DataFrame):\n",
    "\t\t\traise TypeError(\"Input must be a pandas DataFrame.\")\n",
    "\n",
    "\t\t# Garantir que os nomes das colunas são datetime\n",
    "\t\tX.columns = pd.to_datetime(X.columns, errors=\"coerce\")\n",
    "\t\tX = X.loc[:, ~X.columns.isna()]\n",
    "\n",
    "\t\t# Mapear cada coluna para o último dia do trimestre\n",
    "\t\tquarter_end_dates = X.columns.to_series().dt.to_period(\"Q\").dt.end_time\n",
    "\n",
    "\t\t# Substituir os nomes das colunas\n",
    "\t\tX.columns = quarter_end_dates\n",
    "\n",
    "\t\t# Agrupar somando por data final do trimestre\n",
    "\t\tgrouped_df = X.groupby(X.columns, axis=1).sum()\n",
    "\n",
    "\t\treturn grouped_df\n"
   ]
  },
  {
   "cell_type": "code",
   "execution_count": 539,
   "metadata": {
    "id": "Eo6T_t8c0yQ8"
   },
   "outputs": [],
   "source": [
    "class FrequencyGroupingTransformer(BaseEstimator, TransformerMixin):\n",
    "    \"\"\"\n",
    "    ## only datetime supported groupings\n",
    "    Transformer for grouping data by standard datetime frequencies.\n",
    "\n",
    "    This transformer takes a DataFrame with datetime columns and groups\n",
    "    the data by a specified frequency (e.g., 'Q' for quarterly, 'M' for monthly).\n",
    "\n",
    "    ARGS:\n",
    "        frequency (str): The frequency to group by. Defaults to 'Q' (quarterly).\n",
    "                        Supported frequencies are those accepted by pd.Grouper (e.g., 'Q', 'M', 'Y').\n",
    "    \"\"\"\n",
    "\n",
    "    def __init__(self, frequency=\"Q\"):  # Default to quarterly grouping\n",
    "        self.frequency = frequency\n",
    "\n",
    "    def fit(self, X, y=None):\n",
    "        \"\"\"\n",
    "        This transformer does not require fitting.\n",
    "\n",
    "        ARGS:\n",
    "            X (pd.DataFrame): The input DataFrame.\n",
    "            y (Any, optional): Ignored. Defaults to None.\n",
    "\n",
    "        Returns:\n",
    "            self: Returns the transformer instance.\n",
    "        \"\"\"\n",
    "        return self\n",
    "\n",
    "    def transform(self, X):\n",
    "        \"\"\"\n",
    "        Groups the data by the specified frequency and sums the values.\n",
    "\n",
    "        ARGS:\n",
    "            X (pd.DataFrame): The input DataFrame with datetime columns.\n",
    "\n",
    "        Returns:\n",
    "            pd.DataFrame: The grouped DataFrame with summed values.\n",
    "                          Columns are datetime objects representing the end of each group.\n",
    "        \"\"\"\n",
    "        if self.frequency == None:\n",
    "            return X\n",
    "        if not isinstance(X, pd.DataFrame):\n",
    "            raise TypeError(\"Input must be a pandas DataFrame.\")\n",
    "\n",
    "\n",
    "\n",
    "        # Convert columns to datetime if they are not already\n",
    "        if not isinstance(X.columns[0], pd.Timestamp):\n",
    "            X.columns = pd.to_datetime(X.columns, errors=\"coerce\")\n",
    "\n",
    "        # Group by the specified frequency using pd.Grouper\n",
    "        grouped_df = X.T.groupby(pd.Grouper(freq=self.frequency)).sum().T\n",
    "\n",
    "        return grouped_df\n",
    "\n"
   ]
  },
  {
   "cell_type": "code",
   "execution_count": 540,
   "metadata": {
    "colab": {
     "base_uri": "https://localhost:8080/",
     "height": 178
    },
    "id": "QapjiINM9lre",
    "outputId": "d2d03e22-39b6-4882-dcfd-bb6731b3c265"
   },
   "outputs": [],
   "source": [
    "def PopulateRegressionDfsTable(raw_data_df: pd.DataFrame, dfs_for_regression: Dict):\n",
    "\tregression_dfs_table = {}\n",
    "\n",
    "\tfor key, date_range in dfs_for_regression.items():\n",
    "\t\t# Infer the period name (e.g., remove 'DateRange' suffix)\n",
    "\n",
    "\t\tpipe = Pipeline(\n",
    "    [\n",
    "        # ('scaler', StandardScaler()), ### excluir dpois?\n",
    "\t\t(\"grouping\",\n",
    "            FrequencyGroupingTransformer(frequency=ARGS['FrequencyDateGroup']),\n",
    "        ),\n",
    "        (\"melt\", MeltTransformer()),\n",
    "        \n",
    "        (\n",
    "            \"date_filter\",\n",
    "            DateFilterTransformer(periodos_inclusivos=date_range),\n",
    "        ),\n",
    "\t\t\n",
    "        #(\n",
    "        #    \"period_grouping\",\n",
    "        #    PeriodGroupingTransformer(period_grouping=ARGS[\"PeriodGrouping\"]),\n",
    "        #),\n",
    "        #(\n",
    "\n",
    "\t\t(\"add_Y\", PeriodIndexAdder()),\n",
    "        (\"dummy_adder\", MultiDummyAdder(dummy_config=ARGS['DummyArgs'])),\n",
    "    ]\n",
    "    )\n",
    "\n",
    "\t\tregression_dfs_table[key] = pipe.fit_transform(raw_data_df)\n",
    "\n",
    "\treturn regression_dfs_table"
   ]
  },
  {
   "cell_type": "markdown",
   "metadata": {
    "id": "ImfA1EkHx_ni"
   },
   "source": [
    "# **EXEC** --- Build DF and Apply Transformers\n",
    "\n",
    "\n",
    "\n",
    "\n"
   ]
  },
  {
   "cell_type": "markdown",
   "metadata": {
    "id": "d6VI4ZlVabAe"
   },
   "source": [
    "**TODO:** need to change period grouping so it does not become string"
   ]
  },
  {
   "cell_type": "code",
   "execution_count": 541,
   "metadata": {
    "id": "qc6MqoLeFP5g"
   },
   "outputs": [
    {
     "name": "stderr",
     "output_type": "stream",
     "text": [
      "C:\\Users\\Lucas\\AppData\\Local\\Temp\\ipykernel_27340\\2256012073.py:53: FutureWarning:\n",
      "\n",
      "'Q' is deprecated and will be removed in a future version, please use 'QE' instead.\n",
      "\n"
     ]
    }
   ],
   "source": [
    "RawDataDF = BuildDataDF(dados_brutos)\n",
    "RegressionDfsTable = PopulateRegressionDfsTable(RawDataDF, ARGS['DfsForRegression'])"
   ]
  },
  {
   "cell_type": "code",
   "execution_count": 542,
   "metadata": {},
   "outputs": [
    {
     "name": "stderr",
     "output_type": "stream",
     "text": [
      "C:\\Users\\Lucas\\AppData\\Local\\Temp\\ipykernel_27340\\2256012073.py:53: FutureWarning:\n",
      "\n",
      "'Q' is deprecated and will be removed in a future version, please use 'QE' instead.\n",
      "\n"
     ]
    },
    {
     "data": {
      "application/vnd.microsoft.datawrangler.viewer.v0+json": {
       "columns": [
        {
         "name": "index",
         "rawType": "object",
         "type": "string"
        },
        {
         "name": "2016-03-31 00:00:00",
         "rawType": "int64",
         "type": "integer"
        },
        {
         "name": "2016-06-30 00:00:00",
         "rawType": "int64",
         "type": "integer"
        },
        {
         "name": "2016-09-30 00:00:00",
         "rawType": "int64",
         "type": "integer"
        },
        {
         "name": "2016-12-31 00:00:00",
         "rawType": "int64",
         "type": "integer"
        },
        {
         "name": "2017-03-31 00:00:00",
         "rawType": "int64",
         "type": "integer"
        },
        {
         "name": "2017-06-30 00:00:00",
         "rawType": "int64",
         "type": "integer"
        },
        {
         "name": "2017-09-30 00:00:00",
         "rawType": "int64",
         "type": "integer"
        },
        {
         "name": "2017-12-31 00:00:00",
         "rawType": "int64",
         "type": "integer"
        },
        {
         "name": "2018-03-31 00:00:00",
         "rawType": "int64",
         "type": "integer"
        },
        {
         "name": "2018-06-30 00:00:00",
         "rawType": "int64",
         "type": "integer"
        },
        {
         "name": "2018-09-30 00:00:00",
         "rawType": "int64",
         "type": "integer"
        },
        {
         "name": "2018-12-31 00:00:00",
         "rawType": "int64",
         "type": "integer"
        },
        {
         "name": "2019-03-31 00:00:00",
         "rawType": "int64",
         "type": "integer"
        },
        {
         "name": "2019-06-30 00:00:00",
         "rawType": "int64",
         "type": "integer"
        },
        {
         "name": "2019-09-30 00:00:00",
         "rawType": "int64",
         "type": "integer"
        },
        {
         "name": "2019-12-31 00:00:00",
         "rawType": "int64",
         "type": "integer"
        },
        {
         "name": "2020-03-31 00:00:00",
         "rawType": "int64",
         "type": "integer"
        },
        {
         "name": "2020-06-30 00:00:00",
         "rawType": "int64",
         "type": "integer"
        },
        {
         "name": "2020-09-30 00:00:00",
         "rawType": "int64",
         "type": "integer"
        },
        {
         "name": "2020-12-31 00:00:00",
         "rawType": "int64",
         "type": "integer"
        },
        {
         "name": "2021-03-31 00:00:00",
         "rawType": "int64",
         "type": "integer"
        },
        {
         "name": "2021-06-30 00:00:00",
         "rawType": "int64",
         "type": "integer"
        },
        {
         "name": "2021-09-30 00:00:00",
         "rawType": "int64",
         "type": "integer"
        },
        {
         "name": "2021-12-31 00:00:00",
         "rawType": "int64",
         "type": "integer"
        },
        {
         "name": "2022-03-31 00:00:00",
         "rawType": "int64",
         "type": "integer"
        },
        {
         "name": "2022-06-30 00:00:00",
         "rawType": "int64",
         "type": "integer"
        }
       ],
       "conversionMethod": "pd.DataFrame",
       "ref": "f7dc1ee4-ed2a-4fb9-a143-5c83ae503585",
       "rows": [
        [
         "(F00 - F09) Transtornos mentais orgânicos, inclusive os sintomáticos",
         "431",
         "516",
         "663",
         "600",
         "604",
         "696",
         "592",
         "611",
         "604",
         "734",
         "703",
         "729",
         "753",
         "701",
         "693",
         "634",
         "640",
         "615",
         "729",
         "788",
         "755",
         "922",
         "1128",
         "1028",
         "903",
         "1113"
        ],
        [
         "(F10 - F19) Transtornos mentais e comportamentais devidos ao uso de substância psicoativa",
         "448",
         "608",
         "670",
         "737",
         "666",
         "737",
         "797",
         "622",
         "628",
         "885",
         "924",
         "839",
         "634",
         "778",
         "732",
         "625",
         "563",
         "677",
         "902",
         "1156",
         "1123",
         "1159",
         "1251",
         "1214",
         "1053",
         "1186"
        ],
        [
         "(F20 - F29) Esquizofrenia, transtornos esquizotípicos e transtornos delirantes",
         "1111",
         "1396",
         "1572",
         "1446",
         "1509",
         "1503",
         "1511",
         "1324",
         "1335",
         "1495",
         "1485",
         "1433",
         "1374",
         "1456",
         "1431",
         "1264",
         "1199",
         "834",
         "1042",
         "1197",
         "1141",
         "1253",
         "1380",
         "1282",
         "1130",
         "1280"
        ],
        [
         "(F30 - F39) Transtornos do humor [afetivos]",
         "8025",
         "10291",
         "10711",
         "9840",
         "9917",
         "10324",
         "10074",
         "9336",
         "9034",
         "10007",
         "9769",
         "10088",
         "9137",
         "9803",
         "9758",
         "8534",
         "7049",
         "6175",
         "7389",
         "8630",
         "7229",
         "8386",
         "9381",
         "8959",
         "6699",
         "8142"
        ],
        [
         "(F40 - F48) Transtornos neuróticos, transtornos relacionados com o \"stress\" e transtornos somatoformes",
         "2910",
         "3776",
         "3784",
         "3669",
         "3765",
         "4305",
         "4293",
         "4229",
         "4250",
         "4718",
         "4553",
         "4874",
         "4616",
         "5321",
         "5318",
         "4944",
         "4740",
         "5621",
         "6872",
         "8208",
         "7422",
         "8739",
         "9526",
         "8959",
         "7337",
         "8429"
        ],
        [
         "(F50 - F59) Síndromes comportamentais associadas a disfunções fisiológicas e a fatores físicos",
         "257",
         "368",
         "384",
         "363",
         "342",
         "378",
         "362",
         "319",
         "323",
         "409",
         "395",
         "312",
         "345",
         "415",
         "391",
         "329",
         "290",
         "372",
         "513",
         "534",
         "391",
         "497",
         "551",
         "511",
         "395",
         "460"
        ],
        [
         "(F60 - F69) Transtornos da personalidade e do comportamento do adulto",
         "80",
         "141",
         "128",
         "143",
         "162",
         "157",
         "150",
         "161",
         "164",
         "168",
         "131",
         "188",
         "254",
         "215",
         "186",
         "179",
         "196",
         "254",
         "529",
         "522",
         "478",
         "449",
         "462",
         "449",
         "401",
         "475"
        ],
        [
         "(F70 - F79) Retardo mental",
         "439",
         "569",
         "656",
         "640",
         "587",
         "630",
         "647",
         "607",
         "589",
         "704",
         "617",
         "609",
         "594",
         "684",
         "650",
         "555",
         "463",
         "240",
         "335",
         "374",
         "372",
         "509",
         "485",
         "519",
         "457",
         "465"
        ],
        [
         "(F80 - F89) Transtornos do desenvolvimento psicológico",
         "207",
         "352",
         "423",
         "409",
         "377",
         "528",
         "541",
         "500",
         "492",
         "642",
         "654",
         "688",
         "549",
         "840",
         "828",
         "719",
         "537",
         "282",
         "413",
         "665",
         "674",
         "908",
         "1182",
         "1196",
         "1029",
         "1279"
        ],
        [
         "(F90 - F98) Transtornos do comportamento e transtornos emocionais que aparecem habitualmente durante a infância ou a adolescência",
         "688",
         "981",
         "1049",
         "960",
         "854",
         "1031",
         "1099",
         "949",
         "928",
         "1154",
         "1088",
         "1108",
         "941",
         "1371",
         "1588",
         "1353",
         "1084",
         "635",
         "836",
         "1085",
         "839",
         "1135",
         "1298",
         "1316",
         "981",
         "1307"
        ],
        [
         "(F99) Transtorno mental não especificado",
         "182",
         "205",
         "241",
         "246",
         "305",
         "230",
         "188",
         "178",
         "202",
         "226",
         "153",
         "153",
         "100",
         "125",
         "91",
         "51",
         "49",
         "59",
         "60",
         "66",
         "41",
         "37",
         "40",
         "44",
         "43",
         "116"
        ],
        [
         "(X60 - X84) Lesões autoprovocadas intencionalmente",
         "22",
         "7",
         "12",
         "26",
         "32",
         "19",
         "29",
         "25",
         "27",
         "28",
         "30",
         "27",
         "37",
         "39",
         "37",
         "41",
         "23",
         "32",
         "30",
         "48",
         "50",
         "41",
         "63",
         "60",
         "69",
         "69"
        ],
        [
         "00 a 09 anos",
         "282",
         "576",
         "512",
         "508",
         "517",
         "781",
         "796",
         "706",
         "654",
         "906",
         "865",
         "905",
         "698",
         "1124",
         "1175",
         "985",
         "710",
         "401",
         "562",
         "810",
         "731",
         "1070",
         "1303",
         "1301",
         "1127",
         "1469"
        ],
        [
         "10 a 19 anos",
         "645",
         "1005",
         "839",
         "788",
         "1028",
         "1267",
         "1308",
         "1242",
         "1223",
         "1482",
         "1455",
         "1512",
         "1380",
         "1869",
         "1980",
         "1796",
         "1433",
         "1215",
         "1613",
         "2095",
         "1849",
         "2293",
         "2707",
         "2609",
         "2036",
         "2536"
        ],
        [
         "20 a 29 anos",
         "1400",
         "1702",
         "1288",
         "1190",
         "1751",
         "1926",
         "1940",
         "1892",
         "1870",
         "2182",
         "2150",
         "2403",
         "2185",
         "2485",
         "2514",
         "2301",
         "2110",
         "2262",
         "3003",
         "3638",
         "3450",
         "3886",
         "4422",
         "4086",
         "3462",
         "4098"
        ],
        [
         "30 a 39 anos",
         "2149",
         "2844",
         "2034",
         "1871",
         "2716",
         "3018",
         "2902",
         "2694",
         "2789",
         "3092",
         "2926",
         "2965",
         "2749",
         "3121",
         "3081",
         "2615",
         "2466",
         "2387",
         "3100",
         "3690",
         "3546",
         "3828",
         "4182",
         "3994",
         "3233",
         "3772"
        ],
        [
         "40 a 49 anos",
         "2635",
         "3449",
         "2537",
         "2388",
         "3406",
         "3593",
         "3519",
         "3187",
         "3206",
         "3668",
         "3403",
         "3564",
         "3262",
         "3535",
         "3542",
         "3024",
         "2750",
         "2758",
         "3295",
         "3761",
         "3375",
         "4086",
         "4256",
         "4114",
         "3300",
         "3819"
        ],
        [
         "50 a 59 anos",
         "3258",
         "4055",
         "3065",
         "2904",
         "4088",
         "4236",
         "4221",
         "3970",
         "3765",
         "4235",
         "4076",
         "4189",
         "3809",
         "3989",
         "3920",
         "3387",
         "2938",
         "2697",
         "3177",
         "3676",
         "3186",
         "3888",
         "4151",
         "3819",
         "2985",
         "3513"
        ],
        [
         "60 a 69 anos",
         "2658",
         "3394",
         "2524",
         "2444",
         "3332",
         "3439",
         "3349",
         "3069",
         "2956",
         "3272",
         "3254",
         "3157",
         "2949",
         "3215",
         "3142",
         "2820",
         "2445",
         "2154",
         "2639",
         "3123",
         "2459",
         "2784",
         "3053",
         "2987",
         "2394",
         "2769"
        ],
        [
         "70 a 79 anos",
         "1221",
         "1532",
         "1287",
         "1135",
         "1572",
         "1521",
         "1536",
         "1411",
         "1445",
         "1585",
         "1621",
         "1593",
         "1531",
         "1590",
         "1561",
         "1543",
         "1330",
         "1271",
         "1531",
         "1656",
         "1304",
         "1446",
         "1753",
         "1749",
         "1247",
         "1578"
        ],
        [
         "80 anos ou mais",
         "552",
         "653",
         "607",
         "566",
         "710",
         "757",
         "712",
         "690",
         "668",
         "748",
         "752",
         "760",
         "771",
         "820",
         "788",
         "757",
         "651",
         "651",
         "730",
         "824",
         "615",
         "751",
         "920",
         "878",
         "713",
         "767"
        ],
        [
         "Faixa Etaria Nao determinada",
         "0",
         "0",
         "5600",
         "5285",
         "0",
         "0",
         "0",
         "0",
         "0",
         "0",
         "0",
         "0",
         "0",
         "0",
         "0",
         "0",
         "0",
         "0",
         "0",
         "0",
         "0",
         "3",
         "0",
         "0",
         "0",
         "0"
        ],
        [
         "Feminino",
         "10802",
         "13765",
         "14212",
         "13404",
         "13604",
         "14568",
         "14278",
         "13347",
         "13142",
         "14748",
         "14167",
         "14683",
         "13703",
         "15196",
         "14963",
         "13224",
         "11634",
         "10954",
         "13536",
         "15954",
         "14074",
         "16381",
         "18216",
         "17410",
         "13943",
         "16450"
        ],
        [
         "Masculino",
         "3998",
         "5445",
         "6081",
         "5675",
         "5516",
         "5970",
         "6005",
         "5514",
         "5434",
         "6422",
         "6335",
         "6365",
         "5631",
         "6552",
         "6740",
         "6004",
         "5199",
         "4842",
         "6114",
         "7319",
         "6441",
         "7651",
         "8531",
         "8127",
         "6554",
         "7871"
        ],
        [
         "zzGrand Total",
         "14800",
         "19210",
         "20293",
         "19079",
         "19120",
         "20538",
         "20283",
         "18861",
         "18576",
         "21170",
         "20502",
         "21048",
         "19334",
         "21748",
         "21703",
         "19228",
         "16833",
         "15796",
         "19650",
         "23273",
         "20515",
         "24035",
         "26747",
         "25537",
         "20497",
         "24321"
        ]
       ],
       "shape": {
        "columns": 26,
        "rows": 25
       }
      },
      "text/html": [
       "<div>\n",
       "<style scoped>\n",
       "    .dataframe tbody tr th:only-of-type {\n",
       "        vertical-align: middle;\n",
       "    }\n",
       "\n",
       "    .dataframe tbody tr th {\n",
       "        vertical-align: top;\n",
       "    }\n",
       "\n",
       "    .dataframe thead th {\n",
       "        text-align: right;\n",
       "    }\n",
       "</style>\n",
       "<table border=\"1\" class=\"dataframe\">\n",
       "  <thead>\n",
       "    <tr style=\"text-align: right;\">\n",
       "      <th></th>\n",
       "      <th>2016-03-31</th>\n",
       "      <th>2016-06-30</th>\n",
       "      <th>2016-09-30</th>\n",
       "      <th>2016-12-31</th>\n",
       "      <th>2017-03-31</th>\n",
       "      <th>2017-06-30</th>\n",
       "      <th>2017-09-30</th>\n",
       "      <th>2017-12-31</th>\n",
       "      <th>2018-03-31</th>\n",
       "      <th>2018-06-30</th>\n",
       "      <th>...</th>\n",
       "      <th>2020-03-31</th>\n",
       "      <th>2020-06-30</th>\n",
       "      <th>2020-09-30</th>\n",
       "      <th>2020-12-31</th>\n",
       "      <th>2021-03-31</th>\n",
       "      <th>2021-06-30</th>\n",
       "      <th>2021-09-30</th>\n",
       "      <th>2021-12-31</th>\n",
       "      <th>2022-03-31</th>\n",
       "      <th>2022-06-30</th>\n",
       "    </tr>\n",
       "  </thead>\n",
       "  <tbody>\n",
       "    <tr>\n",
       "      <th>(F00 - F09) Transtornos mentais orgânicos, inclusive os sintomáticos</th>\n",
       "      <td>431</td>\n",
       "      <td>516</td>\n",
       "      <td>663</td>\n",
       "      <td>600</td>\n",
       "      <td>604</td>\n",
       "      <td>696</td>\n",
       "      <td>592</td>\n",
       "      <td>611</td>\n",
       "      <td>604</td>\n",
       "      <td>734</td>\n",
       "      <td>...</td>\n",
       "      <td>640</td>\n",
       "      <td>615</td>\n",
       "      <td>729</td>\n",
       "      <td>788</td>\n",
       "      <td>755</td>\n",
       "      <td>922</td>\n",
       "      <td>1128</td>\n",
       "      <td>1028</td>\n",
       "      <td>903</td>\n",
       "      <td>1113</td>\n",
       "    </tr>\n",
       "    <tr>\n",
       "      <th>(F10 - F19) Transtornos mentais e comportamentais devidos ao uso de substância psicoativa</th>\n",
       "      <td>448</td>\n",
       "      <td>608</td>\n",
       "      <td>670</td>\n",
       "      <td>737</td>\n",
       "      <td>666</td>\n",
       "      <td>737</td>\n",
       "      <td>797</td>\n",
       "      <td>622</td>\n",
       "      <td>628</td>\n",
       "      <td>885</td>\n",
       "      <td>...</td>\n",
       "      <td>563</td>\n",
       "      <td>677</td>\n",
       "      <td>902</td>\n",
       "      <td>1156</td>\n",
       "      <td>1123</td>\n",
       "      <td>1159</td>\n",
       "      <td>1251</td>\n",
       "      <td>1214</td>\n",
       "      <td>1053</td>\n",
       "      <td>1186</td>\n",
       "    </tr>\n",
       "    <tr>\n",
       "      <th>(F20 - F29) Esquizofrenia, transtornos esquizotípicos e transtornos delirantes</th>\n",
       "      <td>1111</td>\n",
       "      <td>1396</td>\n",
       "      <td>1572</td>\n",
       "      <td>1446</td>\n",
       "      <td>1509</td>\n",
       "      <td>1503</td>\n",
       "      <td>1511</td>\n",
       "      <td>1324</td>\n",
       "      <td>1335</td>\n",
       "      <td>1495</td>\n",
       "      <td>...</td>\n",
       "      <td>1199</td>\n",
       "      <td>834</td>\n",
       "      <td>1042</td>\n",
       "      <td>1197</td>\n",
       "      <td>1141</td>\n",
       "      <td>1253</td>\n",
       "      <td>1380</td>\n",
       "      <td>1282</td>\n",
       "      <td>1130</td>\n",
       "      <td>1280</td>\n",
       "    </tr>\n",
       "    <tr>\n",
       "      <th>(F30 - F39) Transtornos do humor [afetivos]</th>\n",
       "      <td>8025</td>\n",
       "      <td>10291</td>\n",
       "      <td>10711</td>\n",
       "      <td>9840</td>\n",
       "      <td>9917</td>\n",
       "      <td>10324</td>\n",
       "      <td>10074</td>\n",
       "      <td>9336</td>\n",
       "      <td>9034</td>\n",
       "      <td>10007</td>\n",
       "      <td>...</td>\n",
       "      <td>7049</td>\n",
       "      <td>6175</td>\n",
       "      <td>7389</td>\n",
       "      <td>8630</td>\n",
       "      <td>7229</td>\n",
       "      <td>8386</td>\n",
       "      <td>9381</td>\n",
       "      <td>8959</td>\n",
       "      <td>6699</td>\n",
       "      <td>8142</td>\n",
       "    </tr>\n",
       "    <tr>\n",
       "      <th>(F40 - F48) Transtornos neuróticos, transtornos relacionados com o \"stress\" e transtornos somatoformes</th>\n",
       "      <td>2910</td>\n",
       "      <td>3776</td>\n",
       "      <td>3784</td>\n",
       "      <td>3669</td>\n",
       "      <td>3765</td>\n",
       "      <td>4305</td>\n",
       "      <td>4293</td>\n",
       "      <td>4229</td>\n",
       "      <td>4250</td>\n",
       "      <td>4718</td>\n",
       "      <td>...</td>\n",
       "      <td>4740</td>\n",
       "      <td>5621</td>\n",
       "      <td>6872</td>\n",
       "      <td>8208</td>\n",
       "      <td>7422</td>\n",
       "      <td>8739</td>\n",
       "      <td>9526</td>\n",
       "      <td>8959</td>\n",
       "      <td>7337</td>\n",
       "      <td>8429</td>\n",
       "    </tr>\n",
       "    <tr>\n",
       "      <th>(F50 - F59) Síndromes comportamentais associadas a disfunções fisiológicas e a fatores físicos</th>\n",
       "      <td>257</td>\n",
       "      <td>368</td>\n",
       "      <td>384</td>\n",
       "      <td>363</td>\n",
       "      <td>342</td>\n",
       "      <td>378</td>\n",
       "      <td>362</td>\n",
       "      <td>319</td>\n",
       "      <td>323</td>\n",
       "      <td>409</td>\n",
       "      <td>...</td>\n",
       "      <td>290</td>\n",
       "      <td>372</td>\n",
       "      <td>513</td>\n",
       "      <td>534</td>\n",
       "      <td>391</td>\n",
       "      <td>497</td>\n",
       "      <td>551</td>\n",
       "      <td>511</td>\n",
       "      <td>395</td>\n",
       "      <td>460</td>\n",
       "    </tr>\n",
       "    <tr>\n",
       "      <th>(F60 - F69) Transtornos da personalidade e do comportamento do adulto</th>\n",
       "      <td>80</td>\n",
       "      <td>141</td>\n",
       "      <td>128</td>\n",
       "      <td>143</td>\n",
       "      <td>162</td>\n",
       "      <td>157</td>\n",
       "      <td>150</td>\n",
       "      <td>161</td>\n",
       "      <td>164</td>\n",
       "      <td>168</td>\n",
       "      <td>...</td>\n",
       "      <td>196</td>\n",
       "      <td>254</td>\n",
       "      <td>529</td>\n",
       "      <td>522</td>\n",
       "      <td>478</td>\n",
       "      <td>449</td>\n",
       "      <td>462</td>\n",
       "      <td>449</td>\n",
       "      <td>401</td>\n",
       "      <td>475</td>\n",
       "    </tr>\n",
       "    <tr>\n",
       "      <th>(F70 - F79) Retardo mental</th>\n",
       "      <td>439</td>\n",
       "      <td>569</td>\n",
       "      <td>656</td>\n",
       "      <td>640</td>\n",
       "      <td>587</td>\n",
       "      <td>630</td>\n",
       "      <td>647</td>\n",
       "      <td>607</td>\n",
       "      <td>589</td>\n",
       "      <td>704</td>\n",
       "      <td>...</td>\n",
       "      <td>463</td>\n",
       "      <td>240</td>\n",
       "      <td>335</td>\n",
       "      <td>374</td>\n",
       "      <td>372</td>\n",
       "      <td>509</td>\n",
       "      <td>485</td>\n",
       "      <td>519</td>\n",
       "      <td>457</td>\n",
       "      <td>465</td>\n",
       "    </tr>\n",
       "    <tr>\n",
       "      <th>(F80 - F89) Transtornos do desenvolvimento psicológico</th>\n",
       "      <td>207</td>\n",
       "      <td>352</td>\n",
       "      <td>423</td>\n",
       "      <td>409</td>\n",
       "      <td>377</td>\n",
       "      <td>528</td>\n",
       "      <td>541</td>\n",
       "      <td>500</td>\n",
       "      <td>492</td>\n",
       "      <td>642</td>\n",
       "      <td>...</td>\n",
       "      <td>537</td>\n",
       "      <td>282</td>\n",
       "      <td>413</td>\n",
       "      <td>665</td>\n",
       "      <td>674</td>\n",
       "      <td>908</td>\n",
       "      <td>1182</td>\n",
       "      <td>1196</td>\n",
       "      <td>1029</td>\n",
       "      <td>1279</td>\n",
       "    </tr>\n",
       "    <tr>\n",
       "      <th>(F90 - F98) Transtornos do comportamento e transtornos emocionais que aparecem habitualmente durante a infância ou a adolescência</th>\n",
       "      <td>688</td>\n",
       "      <td>981</td>\n",
       "      <td>1049</td>\n",
       "      <td>960</td>\n",
       "      <td>854</td>\n",
       "      <td>1031</td>\n",
       "      <td>1099</td>\n",
       "      <td>949</td>\n",
       "      <td>928</td>\n",
       "      <td>1154</td>\n",
       "      <td>...</td>\n",
       "      <td>1084</td>\n",
       "      <td>635</td>\n",
       "      <td>836</td>\n",
       "      <td>1085</td>\n",
       "      <td>839</td>\n",
       "      <td>1135</td>\n",
       "      <td>1298</td>\n",
       "      <td>1316</td>\n",
       "      <td>981</td>\n",
       "      <td>1307</td>\n",
       "    </tr>\n",
       "    <tr>\n",
       "      <th>(F99) Transtorno mental não especificado</th>\n",
       "      <td>182</td>\n",
       "      <td>205</td>\n",
       "      <td>241</td>\n",
       "      <td>246</td>\n",
       "      <td>305</td>\n",
       "      <td>230</td>\n",
       "      <td>188</td>\n",
       "      <td>178</td>\n",
       "      <td>202</td>\n",
       "      <td>226</td>\n",
       "      <td>...</td>\n",
       "      <td>49</td>\n",
       "      <td>59</td>\n",
       "      <td>60</td>\n",
       "      <td>66</td>\n",
       "      <td>41</td>\n",
       "      <td>37</td>\n",
       "      <td>40</td>\n",
       "      <td>44</td>\n",
       "      <td>43</td>\n",
       "      <td>116</td>\n",
       "    </tr>\n",
       "    <tr>\n",
       "      <th>(X60 - X84) Lesões autoprovocadas intencionalmente</th>\n",
       "      <td>22</td>\n",
       "      <td>7</td>\n",
       "      <td>12</td>\n",
       "      <td>26</td>\n",
       "      <td>32</td>\n",
       "      <td>19</td>\n",
       "      <td>29</td>\n",
       "      <td>25</td>\n",
       "      <td>27</td>\n",
       "      <td>28</td>\n",
       "      <td>...</td>\n",
       "      <td>23</td>\n",
       "      <td>32</td>\n",
       "      <td>30</td>\n",
       "      <td>48</td>\n",
       "      <td>50</td>\n",
       "      <td>41</td>\n",
       "      <td>63</td>\n",
       "      <td>60</td>\n",
       "      <td>69</td>\n",
       "      <td>69</td>\n",
       "    </tr>\n",
       "    <tr>\n",
       "      <th>00 a 09 anos</th>\n",
       "      <td>282</td>\n",
       "      <td>576</td>\n",
       "      <td>512</td>\n",
       "      <td>508</td>\n",
       "      <td>517</td>\n",
       "      <td>781</td>\n",
       "      <td>796</td>\n",
       "      <td>706</td>\n",
       "      <td>654</td>\n",
       "      <td>906</td>\n",
       "      <td>...</td>\n",
       "      <td>710</td>\n",
       "      <td>401</td>\n",
       "      <td>562</td>\n",
       "      <td>810</td>\n",
       "      <td>731</td>\n",
       "      <td>1070</td>\n",
       "      <td>1303</td>\n",
       "      <td>1301</td>\n",
       "      <td>1127</td>\n",
       "      <td>1469</td>\n",
       "    </tr>\n",
       "    <tr>\n",
       "      <th>10 a 19 anos</th>\n",
       "      <td>645</td>\n",
       "      <td>1005</td>\n",
       "      <td>839</td>\n",
       "      <td>788</td>\n",
       "      <td>1028</td>\n",
       "      <td>1267</td>\n",
       "      <td>1308</td>\n",
       "      <td>1242</td>\n",
       "      <td>1223</td>\n",
       "      <td>1482</td>\n",
       "      <td>...</td>\n",
       "      <td>1433</td>\n",
       "      <td>1215</td>\n",
       "      <td>1613</td>\n",
       "      <td>2095</td>\n",
       "      <td>1849</td>\n",
       "      <td>2293</td>\n",
       "      <td>2707</td>\n",
       "      <td>2609</td>\n",
       "      <td>2036</td>\n",
       "      <td>2536</td>\n",
       "    </tr>\n",
       "    <tr>\n",
       "      <th>20 a 29 anos</th>\n",
       "      <td>1400</td>\n",
       "      <td>1702</td>\n",
       "      <td>1288</td>\n",
       "      <td>1190</td>\n",
       "      <td>1751</td>\n",
       "      <td>1926</td>\n",
       "      <td>1940</td>\n",
       "      <td>1892</td>\n",
       "      <td>1870</td>\n",
       "      <td>2182</td>\n",
       "      <td>...</td>\n",
       "      <td>2110</td>\n",
       "      <td>2262</td>\n",
       "      <td>3003</td>\n",
       "      <td>3638</td>\n",
       "      <td>3450</td>\n",
       "      <td>3886</td>\n",
       "      <td>4422</td>\n",
       "      <td>4086</td>\n",
       "      <td>3462</td>\n",
       "      <td>4098</td>\n",
       "    </tr>\n",
       "    <tr>\n",
       "      <th>30 a 39 anos</th>\n",
       "      <td>2149</td>\n",
       "      <td>2844</td>\n",
       "      <td>2034</td>\n",
       "      <td>1871</td>\n",
       "      <td>2716</td>\n",
       "      <td>3018</td>\n",
       "      <td>2902</td>\n",
       "      <td>2694</td>\n",
       "      <td>2789</td>\n",
       "      <td>3092</td>\n",
       "      <td>...</td>\n",
       "      <td>2466</td>\n",
       "      <td>2387</td>\n",
       "      <td>3100</td>\n",
       "      <td>3690</td>\n",
       "      <td>3546</td>\n",
       "      <td>3828</td>\n",
       "      <td>4182</td>\n",
       "      <td>3994</td>\n",
       "      <td>3233</td>\n",
       "      <td>3772</td>\n",
       "    </tr>\n",
       "    <tr>\n",
       "      <th>40 a 49 anos</th>\n",
       "      <td>2635</td>\n",
       "      <td>3449</td>\n",
       "      <td>2537</td>\n",
       "      <td>2388</td>\n",
       "      <td>3406</td>\n",
       "      <td>3593</td>\n",
       "      <td>3519</td>\n",
       "      <td>3187</td>\n",
       "      <td>3206</td>\n",
       "      <td>3668</td>\n",
       "      <td>...</td>\n",
       "      <td>2750</td>\n",
       "      <td>2758</td>\n",
       "      <td>3295</td>\n",
       "      <td>3761</td>\n",
       "      <td>3375</td>\n",
       "      <td>4086</td>\n",
       "      <td>4256</td>\n",
       "      <td>4114</td>\n",
       "      <td>3300</td>\n",
       "      <td>3819</td>\n",
       "    </tr>\n",
       "    <tr>\n",
       "      <th>50 a 59 anos</th>\n",
       "      <td>3258</td>\n",
       "      <td>4055</td>\n",
       "      <td>3065</td>\n",
       "      <td>2904</td>\n",
       "      <td>4088</td>\n",
       "      <td>4236</td>\n",
       "      <td>4221</td>\n",
       "      <td>3970</td>\n",
       "      <td>3765</td>\n",
       "      <td>4235</td>\n",
       "      <td>...</td>\n",
       "      <td>2938</td>\n",
       "      <td>2697</td>\n",
       "      <td>3177</td>\n",
       "      <td>3676</td>\n",
       "      <td>3186</td>\n",
       "      <td>3888</td>\n",
       "      <td>4151</td>\n",
       "      <td>3819</td>\n",
       "      <td>2985</td>\n",
       "      <td>3513</td>\n",
       "    </tr>\n",
       "    <tr>\n",
       "      <th>60 a 69 anos</th>\n",
       "      <td>2658</td>\n",
       "      <td>3394</td>\n",
       "      <td>2524</td>\n",
       "      <td>2444</td>\n",
       "      <td>3332</td>\n",
       "      <td>3439</td>\n",
       "      <td>3349</td>\n",
       "      <td>3069</td>\n",
       "      <td>2956</td>\n",
       "      <td>3272</td>\n",
       "      <td>...</td>\n",
       "      <td>2445</td>\n",
       "      <td>2154</td>\n",
       "      <td>2639</td>\n",
       "      <td>3123</td>\n",
       "      <td>2459</td>\n",
       "      <td>2784</td>\n",
       "      <td>3053</td>\n",
       "      <td>2987</td>\n",
       "      <td>2394</td>\n",
       "      <td>2769</td>\n",
       "    </tr>\n",
       "    <tr>\n",
       "      <th>70 a 79 anos</th>\n",
       "      <td>1221</td>\n",
       "      <td>1532</td>\n",
       "      <td>1287</td>\n",
       "      <td>1135</td>\n",
       "      <td>1572</td>\n",
       "      <td>1521</td>\n",
       "      <td>1536</td>\n",
       "      <td>1411</td>\n",
       "      <td>1445</td>\n",
       "      <td>1585</td>\n",
       "      <td>...</td>\n",
       "      <td>1330</td>\n",
       "      <td>1271</td>\n",
       "      <td>1531</td>\n",
       "      <td>1656</td>\n",
       "      <td>1304</td>\n",
       "      <td>1446</td>\n",
       "      <td>1753</td>\n",
       "      <td>1749</td>\n",
       "      <td>1247</td>\n",
       "      <td>1578</td>\n",
       "    </tr>\n",
       "    <tr>\n",
       "      <th>80 anos ou mais</th>\n",
       "      <td>552</td>\n",
       "      <td>653</td>\n",
       "      <td>607</td>\n",
       "      <td>566</td>\n",
       "      <td>710</td>\n",
       "      <td>757</td>\n",
       "      <td>712</td>\n",
       "      <td>690</td>\n",
       "      <td>668</td>\n",
       "      <td>748</td>\n",
       "      <td>...</td>\n",
       "      <td>651</td>\n",
       "      <td>651</td>\n",
       "      <td>730</td>\n",
       "      <td>824</td>\n",
       "      <td>615</td>\n",
       "      <td>751</td>\n",
       "      <td>920</td>\n",
       "      <td>878</td>\n",
       "      <td>713</td>\n",
       "      <td>767</td>\n",
       "    </tr>\n",
       "    <tr>\n",
       "      <th>Faixa Etaria Nao determinada</th>\n",
       "      <td>0</td>\n",
       "      <td>0</td>\n",
       "      <td>5600</td>\n",
       "      <td>5285</td>\n",
       "      <td>0</td>\n",
       "      <td>0</td>\n",
       "      <td>0</td>\n",
       "      <td>0</td>\n",
       "      <td>0</td>\n",
       "      <td>0</td>\n",
       "      <td>...</td>\n",
       "      <td>0</td>\n",
       "      <td>0</td>\n",
       "      <td>0</td>\n",
       "      <td>0</td>\n",
       "      <td>0</td>\n",
       "      <td>3</td>\n",
       "      <td>0</td>\n",
       "      <td>0</td>\n",
       "      <td>0</td>\n",
       "      <td>0</td>\n",
       "    </tr>\n",
       "    <tr>\n",
       "      <th>Feminino</th>\n",
       "      <td>10802</td>\n",
       "      <td>13765</td>\n",
       "      <td>14212</td>\n",
       "      <td>13404</td>\n",
       "      <td>13604</td>\n",
       "      <td>14568</td>\n",
       "      <td>14278</td>\n",
       "      <td>13347</td>\n",
       "      <td>13142</td>\n",
       "      <td>14748</td>\n",
       "      <td>...</td>\n",
       "      <td>11634</td>\n",
       "      <td>10954</td>\n",
       "      <td>13536</td>\n",
       "      <td>15954</td>\n",
       "      <td>14074</td>\n",
       "      <td>16381</td>\n",
       "      <td>18216</td>\n",
       "      <td>17410</td>\n",
       "      <td>13943</td>\n",
       "      <td>16450</td>\n",
       "    </tr>\n",
       "    <tr>\n",
       "      <th>Masculino</th>\n",
       "      <td>3998</td>\n",
       "      <td>5445</td>\n",
       "      <td>6081</td>\n",
       "      <td>5675</td>\n",
       "      <td>5516</td>\n",
       "      <td>5970</td>\n",
       "      <td>6005</td>\n",
       "      <td>5514</td>\n",
       "      <td>5434</td>\n",
       "      <td>6422</td>\n",
       "      <td>...</td>\n",
       "      <td>5199</td>\n",
       "      <td>4842</td>\n",
       "      <td>6114</td>\n",
       "      <td>7319</td>\n",
       "      <td>6441</td>\n",
       "      <td>7651</td>\n",
       "      <td>8531</td>\n",
       "      <td>8127</td>\n",
       "      <td>6554</td>\n",
       "      <td>7871</td>\n",
       "    </tr>\n",
       "    <tr>\n",
       "      <th>zzGrand Total</th>\n",
       "      <td>14800</td>\n",
       "      <td>19210</td>\n",
       "      <td>20293</td>\n",
       "      <td>19079</td>\n",
       "      <td>19120</td>\n",
       "      <td>20538</td>\n",
       "      <td>20283</td>\n",
       "      <td>18861</td>\n",
       "      <td>18576</td>\n",
       "      <td>21170</td>\n",
       "      <td>...</td>\n",
       "      <td>16833</td>\n",
       "      <td>15796</td>\n",
       "      <td>19650</td>\n",
       "      <td>23273</td>\n",
       "      <td>20515</td>\n",
       "      <td>24035</td>\n",
       "      <td>26747</td>\n",
       "      <td>25537</td>\n",
       "      <td>20497</td>\n",
       "      <td>24321</td>\n",
       "    </tr>\n",
       "  </tbody>\n",
       "</table>\n",
       "<p>25 rows × 26 columns</p>\n",
       "</div>"
      ],
      "text/plain": [
       "                                                    2016-03-31  2016-06-30  \\\n",
       "(F00 - F09) Transtornos mentais orgânicos, incl...         431         516   \n",
       "(F10 - F19) Transtornos mentais e comportamenta...         448         608   \n",
       "(F20 - F29) Esquizofrenia, transtornos esquizot...        1111        1396   \n",
       "(F30 - F39) Transtornos do humor [afetivos]               8025       10291   \n",
       "(F40 - F48) Transtornos neuróticos, transtornos...        2910        3776   \n",
       "(F50 - F59) Síndromes comportamentais associada...         257         368   \n",
       "(F60 - F69) Transtornos da personalidade e do c...          80         141   \n",
       "(F70 - F79) Retardo mental                                 439         569   \n",
       "(F80 - F89) Transtornos do desenvolvimento psic...         207         352   \n",
       "(F90 - F98) Transtornos do comportamento e tran...         688         981   \n",
       "(F99) Transtorno mental não especificado                   182         205   \n",
       "(X60 - X84) Lesões autoprovocadas intencionalmente          22           7   \n",
       "00 a 09 anos                                               282         576   \n",
       "10 a 19 anos                                               645        1005   \n",
       "20 a 29 anos                                              1400        1702   \n",
       "30 a 39 anos                                              2149        2844   \n",
       "40 a 49 anos                                              2635        3449   \n",
       "50 a 59 anos                                              3258        4055   \n",
       "60 a 69 anos                                              2658        3394   \n",
       "70 a 79 anos                                              1221        1532   \n",
       "80 anos ou mais                                            552         653   \n",
       "Faixa Etaria Nao determinada                                 0           0   \n",
       "Feminino                                                 10802       13765   \n",
       "Masculino                                                 3998        5445   \n",
       "zzGrand Total                                            14800       19210   \n",
       "\n",
       "                                                    2016-09-30  2016-12-31  \\\n",
       "(F00 - F09) Transtornos mentais orgânicos, incl...         663         600   \n",
       "(F10 - F19) Transtornos mentais e comportamenta...         670         737   \n",
       "(F20 - F29) Esquizofrenia, transtornos esquizot...        1572        1446   \n",
       "(F30 - F39) Transtornos do humor [afetivos]              10711        9840   \n",
       "(F40 - F48) Transtornos neuróticos, transtornos...        3784        3669   \n",
       "(F50 - F59) Síndromes comportamentais associada...         384         363   \n",
       "(F60 - F69) Transtornos da personalidade e do c...         128         143   \n",
       "(F70 - F79) Retardo mental                                 656         640   \n",
       "(F80 - F89) Transtornos do desenvolvimento psic...         423         409   \n",
       "(F90 - F98) Transtornos do comportamento e tran...        1049         960   \n",
       "(F99) Transtorno mental não especificado                   241         246   \n",
       "(X60 - X84) Lesões autoprovocadas intencionalmente          12          26   \n",
       "00 a 09 anos                                               512         508   \n",
       "10 a 19 anos                                               839         788   \n",
       "20 a 29 anos                                              1288        1190   \n",
       "30 a 39 anos                                              2034        1871   \n",
       "40 a 49 anos                                              2537        2388   \n",
       "50 a 59 anos                                              3065        2904   \n",
       "60 a 69 anos                                              2524        2444   \n",
       "70 a 79 anos                                              1287        1135   \n",
       "80 anos ou mais                                            607         566   \n",
       "Faixa Etaria Nao determinada                              5600        5285   \n",
       "Feminino                                                 14212       13404   \n",
       "Masculino                                                 6081        5675   \n",
       "zzGrand Total                                            20293       19079   \n",
       "\n",
       "                                                    2017-03-31  2017-06-30  \\\n",
       "(F00 - F09) Transtornos mentais orgânicos, incl...         604         696   \n",
       "(F10 - F19) Transtornos mentais e comportamenta...         666         737   \n",
       "(F20 - F29) Esquizofrenia, transtornos esquizot...        1509        1503   \n",
       "(F30 - F39) Transtornos do humor [afetivos]               9917       10324   \n",
       "(F40 - F48) Transtornos neuróticos, transtornos...        3765        4305   \n",
       "(F50 - F59) Síndromes comportamentais associada...         342         378   \n",
       "(F60 - F69) Transtornos da personalidade e do c...         162         157   \n",
       "(F70 - F79) Retardo mental                                 587         630   \n",
       "(F80 - F89) Transtornos do desenvolvimento psic...         377         528   \n",
       "(F90 - F98) Transtornos do comportamento e tran...         854        1031   \n",
       "(F99) Transtorno mental não especificado                   305         230   \n",
       "(X60 - X84) Lesões autoprovocadas intencionalmente          32          19   \n",
       "00 a 09 anos                                               517         781   \n",
       "10 a 19 anos                                              1028        1267   \n",
       "20 a 29 anos                                              1751        1926   \n",
       "30 a 39 anos                                              2716        3018   \n",
       "40 a 49 anos                                              3406        3593   \n",
       "50 a 59 anos                                              4088        4236   \n",
       "60 a 69 anos                                              3332        3439   \n",
       "70 a 79 anos                                              1572        1521   \n",
       "80 anos ou mais                                            710         757   \n",
       "Faixa Etaria Nao determinada                                 0           0   \n",
       "Feminino                                                 13604       14568   \n",
       "Masculino                                                 5516        5970   \n",
       "zzGrand Total                                            19120       20538   \n",
       "\n",
       "                                                    2017-09-30  2017-12-31  \\\n",
       "(F00 - F09) Transtornos mentais orgânicos, incl...         592         611   \n",
       "(F10 - F19) Transtornos mentais e comportamenta...         797         622   \n",
       "(F20 - F29) Esquizofrenia, transtornos esquizot...        1511        1324   \n",
       "(F30 - F39) Transtornos do humor [afetivos]              10074        9336   \n",
       "(F40 - F48) Transtornos neuróticos, transtornos...        4293        4229   \n",
       "(F50 - F59) Síndromes comportamentais associada...         362         319   \n",
       "(F60 - F69) Transtornos da personalidade e do c...         150         161   \n",
       "(F70 - F79) Retardo mental                                 647         607   \n",
       "(F80 - F89) Transtornos do desenvolvimento psic...         541         500   \n",
       "(F90 - F98) Transtornos do comportamento e tran...        1099         949   \n",
       "(F99) Transtorno mental não especificado                   188         178   \n",
       "(X60 - X84) Lesões autoprovocadas intencionalmente          29          25   \n",
       "00 a 09 anos                                               796         706   \n",
       "10 a 19 anos                                              1308        1242   \n",
       "20 a 29 anos                                              1940        1892   \n",
       "30 a 39 anos                                              2902        2694   \n",
       "40 a 49 anos                                              3519        3187   \n",
       "50 a 59 anos                                              4221        3970   \n",
       "60 a 69 anos                                              3349        3069   \n",
       "70 a 79 anos                                              1536        1411   \n",
       "80 anos ou mais                                            712         690   \n",
       "Faixa Etaria Nao determinada                                 0           0   \n",
       "Feminino                                                 14278       13347   \n",
       "Masculino                                                 6005        5514   \n",
       "zzGrand Total                                            20283       18861   \n",
       "\n",
       "                                                    2018-03-31  2018-06-30  \\\n",
       "(F00 - F09) Transtornos mentais orgânicos, incl...         604         734   \n",
       "(F10 - F19) Transtornos mentais e comportamenta...         628         885   \n",
       "(F20 - F29) Esquizofrenia, transtornos esquizot...        1335        1495   \n",
       "(F30 - F39) Transtornos do humor [afetivos]               9034       10007   \n",
       "(F40 - F48) Transtornos neuróticos, transtornos...        4250        4718   \n",
       "(F50 - F59) Síndromes comportamentais associada...         323         409   \n",
       "(F60 - F69) Transtornos da personalidade e do c...         164         168   \n",
       "(F70 - F79) Retardo mental                                 589         704   \n",
       "(F80 - F89) Transtornos do desenvolvimento psic...         492         642   \n",
       "(F90 - F98) Transtornos do comportamento e tran...         928        1154   \n",
       "(F99) Transtorno mental não especificado                   202         226   \n",
       "(X60 - X84) Lesões autoprovocadas intencionalmente          27          28   \n",
       "00 a 09 anos                                               654         906   \n",
       "10 a 19 anos                                              1223        1482   \n",
       "20 a 29 anos                                              1870        2182   \n",
       "30 a 39 anos                                              2789        3092   \n",
       "40 a 49 anos                                              3206        3668   \n",
       "50 a 59 anos                                              3765        4235   \n",
       "60 a 69 anos                                              2956        3272   \n",
       "70 a 79 anos                                              1445        1585   \n",
       "80 anos ou mais                                            668         748   \n",
       "Faixa Etaria Nao determinada                                 0           0   \n",
       "Feminino                                                 13142       14748   \n",
       "Masculino                                                 5434        6422   \n",
       "zzGrand Total                                            18576       21170   \n",
       "\n",
       "                                                    ...  2020-03-31  \\\n",
       "(F00 - F09) Transtornos mentais orgânicos, incl...  ...         640   \n",
       "(F10 - F19) Transtornos mentais e comportamenta...  ...         563   \n",
       "(F20 - F29) Esquizofrenia, transtornos esquizot...  ...        1199   \n",
       "(F30 - F39) Transtornos do humor [afetivos]         ...        7049   \n",
       "(F40 - F48) Transtornos neuróticos, transtornos...  ...        4740   \n",
       "(F50 - F59) Síndromes comportamentais associada...  ...         290   \n",
       "(F60 - F69) Transtornos da personalidade e do c...  ...         196   \n",
       "(F70 - F79) Retardo mental                          ...         463   \n",
       "(F80 - F89) Transtornos do desenvolvimento psic...  ...         537   \n",
       "(F90 - F98) Transtornos do comportamento e tran...  ...        1084   \n",
       "(F99) Transtorno mental não especificado            ...          49   \n",
       "(X60 - X84) Lesões autoprovocadas intencionalmente  ...          23   \n",
       "00 a 09 anos                                        ...         710   \n",
       "10 a 19 anos                                        ...        1433   \n",
       "20 a 29 anos                                        ...        2110   \n",
       "30 a 39 anos                                        ...        2466   \n",
       "40 a 49 anos                                        ...        2750   \n",
       "50 a 59 anos                                        ...        2938   \n",
       "60 a 69 anos                                        ...        2445   \n",
       "70 a 79 anos                                        ...        1330   \n",
       "80 anos ou mais                                     ...         651   \n",
       "Faixa Etaria Nao determinada                        ...           0   \n",
       "Feminino                                            ...       11634   \n",
       "Masculino                                           ...        5199   \n",
       "zzGrand Total                                       ...       16833   \n",
       "\n",
       "                                                    2020-06-30  2020-09-30  \\\n",
       "(F00 - F09) Transtornos mentais orgânicos, incl...         615         729   \n",
       "(F10 - F19) Transtornos mentais e comportamenta...         677         902   \n",
       "(F20 - F29) Esquizofrenia, transtornos esquizot...         834        1042   \n",
       "(F30 - F39) Transtornos do humor [afetivos]               6175        7389   \n",
       "(F40 - F48) Transtornos neuróticos, transtornos...        5621        6872   \n",
       "(F50 - F59) Síndromes comportamentais associada...         372         513   \n",
       "(F60 - F69) Transtornos da personalidade e do c...         254         529   \n",
       "(F70 - F79) Retardo mental                                 240         335   \n",
       "(F80 - F89) Transtornos do desenvolvimento psic...         282         413   \n",
       "(F90 - F98) Transtornos do comportamento e tran...         635         836   \n",
       "(F99) Transtorno mental não especificado                    59          60   \n",
       "(X60 - X84) Lesões autoprovocadas intencionalmente          32          30   \n",
       "00 a 09 anos                                               401         562   \n",
       "10 a 19 anos                                              1215        1613   \n",
       "20 a 29 anos                                              2262        3003   \n",
       "30 a 39 anos                                              2387        3100   \n",
       "40 a 49 anos                                              2758        3295   \n",
       "50 a 59 anos                                              2697        3177   \n",
       "60 a 69 anos                                              2154        2639   \n",
       "70 a 79 anos                                              1271        1531   \n",
       "80 anos ou mais                                            651         730   \n",
       "Faixa Etaria Nao determinada                                 0           0   \n",
       "Feminino                                                 10954       13536   \n",
       "Masculino                                                 4842        6114   \n",
       "zzGrand Total                                            15796       19650   \n",
       "\n",
       "                                                    2020-12-31  2021-03-31  \\\n",
       "(F00 - F09) Transtornos mentais orgânicos, incl...         788         755   \n",
       "(F10 - F19) Transtornos mentais e comportamenta...        1156        1123   \n",
       "(F20 - F29) Esquizofrenia, transtornos esquizot...        1197        1141   \n",
       "(F30 - F39) Transtornos do humor [afetivos]               8630        7229   \n",
       "(F40 - F48) Transtornos neuróticos, transtornos...        8208        7422   \n",
       "(F50 - F59) Síndromes comportamentais associada...         534         391   \n",
       "(F60 - F69) Transtornos da personalidade e do c...         522         478   \n",
       "(F70 - F79) Retardo mental                                 374         372   \n",
       "(F80 - F89) Transtornos do desenvolvimento psic...         665         674   \n",
       "(F90 - F98) Transtornos do comportamento e tran...        1085         839   \n",
       "(F99) Transtorno mental não especificado                    66          41   \n",
       "(X60 - X84) Lesões autoprovocadas intencionalmente          48          50   \n",
       "00 a 09 anos                                               810         731   \n",
       "10 a 19 anos                                              2095        1849   \n",
       "20 a 29 anos                                              3638        3450   \n",
       "30 a 39 anos                                              3690        3546   \n",
       "40 a 49 anos                                              3761        3375   \n",
       "50 a 59 anos                                              3676        3186   \n",
       "60 a 69 anos                                              3123        2459   \n",
       "70 a 79 anos                                              1656        1304   \n",
       "80 anos ou mais                                            824         615   \n",
       "Faixa Etaria Nao determinada                                 0           0   \n",
       "Feminino                                                 15954       14074   \n",
       "Masculino                                                 7319        6441   \n",
       "zzGrand Total                                            23273       20515   \n",
       "\n",
       "                                                    2021-06-30  2021-09-30  \\\n",
       "(F00 - F09) Transtornos mentais orgânicos, incl...         922        1128   \n",
       "(F10 - F19) Transtornos mentais e comportamenta...        1159        1251   \n",
       "(F20 - F29) Esquizofrenia, transtornos esquizot...        1253        1380   \n",
       "(F30 - F39) Transtornos do humor [afetivos]               8386        9381   \n",
       "(F40 - F48) Transtornos neuróticos, transtornos...        8739        9526   \n",
       "(F50 - F59) Síndromes comportamentais associada...         497         551   \n",
       "(F60 - F69) Transtornos da personalidade e do c...         449         462   \n",
       "(F70 - F79) Retardo mental                                 509         485   \n",
       "(F80 - F89) Transtornos do desenvolvimento psic...         908        1182   \n",
       "(F90 - F98) Transtornos do comportamento e tran...        1135        1298   \n",
       "(F99) Transtorno mental não especificado                    37          40   \n",
       "(X60 - X84) Lesões autoprovocadas intencionalmente          41          63   \n",
       "00 a 09 anos                                              1070        1303   \n",
       "10 a 19 anos                                              2293        2707   \n",
       "20 a 29 anos                                              3886        4422   \n",
       "30 a 39 anos                                              3828        4182   \n",
       "40 a 49 anos                                              4086        4256   \n",
       "50 a 59 anos                                              3888        4151   \n",
       "60 a 69 anos                                              2784        3053   \n",
       "70 a 79 anos                                              1446        1753   \n",
       "80 anos ou mais                                            751         920   \n",
       "Faixa Etaria Nao determinada                                 3           0   \n",
       "Feminino                                                 16381       18216   \n",
       "Masculino                                                 7651        8531   \n",
       "zzGrand Total                                            24035       26747   \n",
       "\n",
       "                                                    2021-12-31  2022-03-31  \\\n",
       "(F00 - F09) Transtornos mentais orgânicos, incl...        1028         903   \n",
       "(F10 - F19) Transtornos mentais e comportamenta...        1214        1053   \n",
       "(F20 - F29) Esquizofrenia, transtornos esquizot...        1282        1130   \n",
       "(F30 - F39) Transtornos do humor [afetivos]               8959        6699   \n",
       "(F40 - F48) Transtornos neuróticos, transtornos...        8959        7337   \n",
       "(F50 - F59) Síndromes comportamentais associada...         511         395   \n",
       "(F60 - F69) Transtornos da personalidade e do c...         449         401   \n",
       "(F70 - F79) Retardo mental                                 519         457   \n",
       "(F80 - F89) Transtornos do desenvolvimento psic...        1196        1029   \n",
       "(F90 - F98) Transtornos do comportamento e tran...        1316         981   \n",
       "(F99) Transtorno mental não especificado                    44          43   \n",
       "(X60 - X84) Lesões autoprovocadas intencionalmente          60          69   \n",
       "00 a 09 anos                                              1301        1127   \n",
       "10 a 19 anos                                              2609        2036   \n",
       "20 a 29 anos                                              4086        3462   \n",
       "30 a 39 anos                                              3994        3233   \n",
       "40 a 49 anos                                              4114        3300   \n",
       "50 a 59 anos                                              3819        2985   \n",
       "60 a 69 anos                                              2987        2394   \n",
       "70 a 79 anos                                              1749        1247   \n",
       "80 anos ou mais                                            878         713   \n",
       "Faixa Etaria Nao determinada                                 0           0   \n",
       "Feminino                                                 17410       13943   \n",
       "Masculino                                                 8127        6554   \n",
       "zzGrand Total                                            25537       20497   \n",
       "\n",
       "                                                    2022-06-30  \n",
       "(F00 - F09) Transtornos mentais orgânicos, incl...        1113  \n",
       "(F10 - F19) Transtornos mentais e comportamenta...        1186  \n",
       "(F20 - F29) Esquizofrenia, transtornos esquizot...        1280  \n",
       "(F30 - F39) Transtornos do humor [afetivos]               8142  \n",
       "(F40 - F48) Transtornos neuróticos, transtornos...        8429  \n",
       "(F50 - F59) Síndromes comportamentais associada...         460  \n",
       "(F60 - F69) Transtornos da personalidade e do c...         475  \n",
       "(F70 - F79) Retardo mental                                 465  \n",
       "(F80 - F89) Transtornos do desenvolvimento psic...        1279  \n",
       "(F90 - F98) Transtornos do comportamento e tran...        1307  \n",
       "(F99) Transtorno mental não especificado                   116  \n",
       "(X60 - X84) Lesões autoprovocadas intencionalmente          69  \n",
       "00 a 09 anos                                              1469  \n",
       "10 a 19 anos                                              2536  \n",
       "20 a 29 anos                                              4098  \n",
       "30 a 39 anos                                              3772  \n",
       "40 a 49 anos                                              3819  \n",
       "50 a 59 anos                                              3513  \n",
       "60 a 69 anos                                              2769  \n",
       "70 a 79 anos                                              1578  \n",
       "80 anos ou mais                                            767  \n",
       "Faixa Etaria Nao determinada                                 0  \n",
       "Feminino                                                 16450  \n",
       "Masculino                                                 7871  \n",
       "zzGrand Total                                            24321  \n",
       "\n",
       "[25 rows x 26 columns]"
      ]
     },
     "execution_count": 542,
     "metadata": {},
     "output_type": "execute_result"
    }
   ],
   "source": [
    "pipe= Pipeline(\n",
    "    [\n",
    "     (\"grouping\",FrequencyGroupingTransformer(frequency=ARGS['FrequencyDateGroup'])),\n",
    "    ])\n",
    "testdf = pipe.fit_transform(RawDataDF)\n",
    "testdf"
   ]
  },
  {
   "cell_type": "code",
   "execution_count": 543,
   "metadata": {},
   "outputs": [
    {
     "data": {
      "application/vnd.microsoft.datawrangler.viewer.v0+json": {
       "columns": [
        {
         "name": "index",
         "rawType": "int64",
         "type": "integer"
        },
        {
         "name": "date",
         "rawType": "datetime64[ns]",
         "type": "datetime"
        },
        {
         "name": "variavel",
         "rawType": "object",
         "type": "string"
        },
        {
         "name": "valores",
         "rawType": "int64",
         "type": "integer"
        },
        {
         "name": "periodo",
         "rawType": "int64",
         "type": "integer"
        },
        {
         "name": "Pandemia_Pulse",
         "rawType": "int64",
         "type": "integer"
        },
        {
         "name": "Pandemia_ePos_Step",
         "rawType": "int64",
         "type": "integer"
        }
       ],
       "conversionMethod": "pd.DataFrame",
       "ref": "46dc9e78-4131-4a80-b5ad-c0d3be90c278",
       "rows": [
        [
         "0",
         "2016-03-31 00:00:00",
         "(F00 - F09) Transtornos mentais orgânicos, inclusive os sintomáticos",
         "431",
         "1",
         "0",
         "0"
        ],
        [
         "1",
         "2016-06-30 00:00:00",
         "(F00 - F09) Transtornos mentais orgânicos, inclusive os sintomáticos",
         "516",
         "2",
         "0",
         "0"
        ],
        [
         "2",
         "2016-09-30 00:00:00",
         "(F00 - F09) Transtornos mentais orgânicos, inclusive os sintomáticos",
         "663",
         "3",
         "0",
         "0"
        ],
        [
         "3",
         "2016-12-31 00:00:00",
         "(F00 - F09) Transtornos mentais orgânicos, inclusive os sintomáticos",
         "600",
         "4",
         "0",
         "0"
        ],
        [
         "4",
         "2017-03-31 00:00:00",
         "(F00 - F09) Transtornos mentais orgânicos, inclusive os sintomáticos",
         "604",
         "5",
         "0",
         "0"
        ],
        [
         "5",
         "2017-06-30 00:00:00",
         "(F00 - F09) Transtornos mentais orgânicos, inclusive os sintomáticos",
         "696",
         "6",
         "0",
         "0"
        ],
        [
         "6",
         "2017-09-30 00:00:00",
         "(F00 - F09) Transtornos mentais orgânicos, inclusive os sintomáticos",
         "592",
         "7",
         "0",
         "0"
        ],
        [
         "7",
         "2017-12-31 00:00:00",
         "(F00 - F09) Transtornos mentais orgânicos, inclusive os sintomáticos",
         "611",
         "8",
         "0",
         "0"
        ],
        [
         "8",
         "2018-03-31 00:00:00",
         "(F00 - F09) Transtornos mentais orgânicos, inclusive os sintomáticos",
         "604",
         "9",
         "0",
         "0"
        ],
        [
         "9",
         "2018-06-30 00:00:00",
         "(F00 - F09) Transtornos mentais orgânicos, inclusive os sintomáticos",
         "734",
         "10",
         "0",
         "0"
        ],
        [
         "10",
         "2018-09-30 00:00:00",
         "(F00 - F09) Transtornos mentais orgânicos, inclusive os sintomáticos",
         "703",
         "11",
         "0",
         "0"
        ],
        [
         "11",
         "2018-12-31 00:00:00",
         "(F00 - F09) Transtornos mentais orgânicos, inclusive os sintomáticos",
         "729",
         "12",
         "0",
         "0"
        ],
        [
         "12",
         "2019-03-31 00:00:00",
         "(F00 - F09) Transtornos mentais orgânicos, inclusive os sintomáticos",
         "753",
         "13",
         "0",
         "0"
        ],
        [
         "13",
         "2019-06-30 00:00:00",
         "(F00 - F09) Transtornos mentais orgânicos, inclusive os sintomáticos",
         "701",
         "14",
         "0",
         "0"
        ],
        [
         "14",
         "2019-09-30 00:00:00",
         "(F00 - F09) Transtornos mentais orgânicos, inclusive os sintomáticos",
         "693",
         "15",
         "0",
         "0"
        ],
        [
         "15",
         "2019-12-31 00:00:00",
         "(F00 - F09) Transtornos mentais orgânicos, inclusive os sintomáticos",
         "634",
         "16",
         "0",
         "0"
        ],
        [
         "16",
         "2020-03-31 00:00:00",
         "(F00 - F09) Transtornos mentais orgânicos, inclusive os sintomáticos",
         "640",
         "17",
         "1",
         "1"
        ],
        [
         "17",
         "2020-06-30 00:00:00",
         "(F00 - F09) Transtornos mentais orgânicos, inclusive os sintomáticos",
         "615",
         "18",
         "1",
         "1"
        ],
        [
         "18",
         "2020-09-30 00:00:00",
         "(F00 - F09) Transtornos mentais orgânicos, inclusive os sintomáticos",
         "729",
         "19",
         "0",
         "1"
        ],
        [
         "19",
         "2020-12-31 00:00:00",
         "(F00 - F09) Transtornos mentais orgânicos, inclusive os sintomáticos",
         "788",
         "20",
         "0",
         "1"
        ],
        [
         "20",
         "2021-03-31 00:00:00",
         "(F00 - F09) Transtornos mentais orgânicos, inclusive os sintomáticos",
         "755",
         "21",
         "0",
         "1"
        ],
        [
         "21",
         "2021-06-30 00:00:00",
         "(F00 - F09) Transtornos mentais orgânicos, inclusive os sintomáticos",
         "922",
         "22",
         "0",
         "1"
        ],
        [
         "22",
         "2021-09-30 00:00:00",
         "(F00 - F09) Transtornos mentais orgânicos, inclusive os sintomáticos",
         "1128",
         "23",
         "0",
         "1"
        ],
        [
         "23",
         "2021-12-31 00:00:00",
         "(F00 - F09) Transtornos mentais orgânicos, inclusive os sintomáticos",
         "1028",
         "24",
         "0",
         "1"
        ],
        [
         "24",
         "2022-03-31 00:00:00",
         "(F00 - F09) Transtornos mentais orgânicos, inclusive os sintomáticos",
         "903",
         "25",
         "0",
         "1"
        ],
        [
         "25",
         "2022-06-30 00:00:00",
         "(F00 - F09) Transtornos mentais orgânicos, inclusive os sintomáticos",
         "1113",
         "26",
         "0",
         "1"
        ],
        [
         "26",
         "2016-03-31 00:00:00",
         "(F10 - F19) Transtornos mentais e comportamentais devidos ao uso de substância psicoativa",
         "448",
         "1",
         "0",
         "0"
        ],
        [
         "27",
         "2016-06-30 00:00:00",
         "(F10 - F19) Transtornos mentais e comportamentais devidos ao uso de substância psicoativa",
         "608",
         "2",
         "0",
         "0"
        ],
        [
         "28",
         "2016-09-30 00:00:00",
         "(F10 - F19) Transtornos mentais e comportamentais devidos ao uso de substância psicoativa",
         "670",
         "3",
         "0",
         "0"
        ],
        [
         "29",
         "2016-12-31 00:00:00",
         "(F10 - F19) Transtornos mentais e comportamentais devidos ao uso de substância psicoativa",
         "737",
         "4",
         "0",
         "0"
        ],
        [
         "30",
         "2017-03-31 00:00:00",
         "(F10 - F19) Transtornos mentais e comportamentais devidos ao uso de substância psicoativa",
         "666",
         "5",
         "0",
         "0"
        ],
        [
         "31",
         "2017-06-30 00:00:00",
         "(F10 - F19) Transtornos mentais e comportamentais devidos ao uso de substância psicoativa",
         "737",
         "6",
         "0",
         "0"
        ],
        [
         "32",
         "2017-09-30 00:00:00",
         "(F10 - F19) Transtornos mentais e comportamentais devidos ao uso de substância psicoativa",
         "797",
         "7",
         "0",
         "0"
        ],
        [
         "33",
         "2017-12-31 00:00:00",
         "(F10 - F19) Transtornos mentais e comportamentais devidos ao uso de substância psicoativa",
         "622",
         "8",
         "0",
         "0"
        ],
        [
         "34",
         "2018-03-31 00:00:00",
         "(F10 - F19) Transtornos mentais e comportamentais devidos ao uso de substância psicoativa",
         "628",
         "9",
         "0",
         "0"
        ],
        [
         "35",
         "2018-06-30 00:00:00",
         "(F10 - F19) Transtornos mentais e comportamentais devidos ao uso de substância psicoativa",
         "885",
         "10",
         "0",
         "0"
        ],
        [
         "36",
         "2018-09-30 00:00:00",
         "(F10 - F19) Transtornos mentais e comportamentais devidos ao uso de substância psicoativa",
         "924",
         "11",
         "0",
         "0"
        ],
        [
         "37",
         "2018-12-31 00:00:00",
         "(F10 - F19) Transtornos mentais e comportamentais devidos ao uso de substância psicoativa",
         "839",
         "12",
         "0",
         "0"
        ],
        [
         "38",
         "2019-03-31 00:00:00",
         "(F10 - F19) Transtornos mentais e comportamentais devidos ao uso de substância psicoativa",
         "634",
         "13",
         "0",
         "0"
        ],
        [
         "39",
         "2019-06-30 00:00:00",
         "(F10 - F19) Transtornos mentais e comportamentais devidos ao uso de substância psicoativa",
         "778",
         "14",
         "0",
         "0"
        ],
        [
         "40",
         "2019-09-30 00:00:00",
         "(F10 - F19) Transtornos mentais e comportamentais devidos ao uso de substância psicoativa",
         "732",
         "15",
         "0",
         "0"
        ],
        [
         "41",
         "2019-12-31 00:00:00",
         "(F10 - F19) Transtornos mentais e comportamentais devidos ao uso de substância psicoativa",
         "625",
         "16",
         "0",
         "0"
        ],
        [
         "42",
         "2020-03-31 00:00:00",
         "(F10 - F19) Transtornos mentais e comportamentais devidos ao uso de substância psicoativa",
         "563",
         "17",
         "1",
         "1"
        ],
        [
         "43",
         "2020-06-30 00:00:00",
         "(F10 - F19) Transtornos mentais e comportamentais devidos ao uso de substância psicoativa",
         "677",
         "18",
         "1",
         "1"
        ],
        [
         "44",
         "2020-09-30 00:00:00",
         "(F10 - F19) Transtornos mentais e comportamentais devidos ao uso de substância psicoativa",
         "902",
         "19",
         "0",
         "1"
        ],
        [
         "45",
         "2020-12-31 00:00:00",
         "(F10 - F19) Transtornos mentais e comportamentais devidos ao uso de substância psicoativa",
         "1156",
         "20",
         "0",
         "1"
        ],
        [
         "46",
         "2021-03-31 00:00:00",
         "(F10 - F19) Transtornos mentais e comportamentais devidos ao uso de substância psicoativa",
         "1123",
         "21",
         "0",
         "1"
        ],
        [
         "47",
         "2021-06-30 00:00:00",
         "(F10 - F19) Transtornos mentais e comportamentais devidos ao uso de substância psicoativa",
         "1159",
         "22",
         "0",
         "1"
        ],
        [
         "48",
         "2021-09-30 00:00:00",
         "(F10 - F19) Transtornos mentais e comportamentais devidos ao uso de substância psicoativa",
         "1251",
         "23",
         "0",
         "1"
        ],
        [
         "49",
         "2021-12-31 00:00:00",
         "(F10 - F19) Transtornos mentais e comportamentais devidos ao uso de substância psicoativa",
         "1214",
         "24",
         "0",
         "1"
        ]
       ],
       "shape": {
        "columns": 6,
        "rows": 650
       }
      },
      "text/html": [
       "<div>\n",
       "<style scoped>\n",
       "    .dataframe tbody tr th:only-of-type {\n",
       "        vertical-align: middle;\n",
       "    }\n",
       "\n",
       "    .dataframe tbody tr th {\n",
       "        vertical-align: top;\n",
       "    }\n",
       "\n",
       "    .dataframe thead th {\n",
       "        text-align: right;\n",
       "    }\n",
       "</style>\n",
       "<table border=\"1\" class=\"dataframe\">\n",
       "  <thead>\n",
       "    <tr style=\"text-align: right;\">\n",
       "      <th></th>\n",
       "      <th>date</th>\n",
       "      <th>variavel</th>\n",
       "      <th>valores</th>\n",
       "      <th>periodo</th>\n",
       "      <th>Pandemia_Pulse</th>\n",
       "      <th>Pandemia_ePos_Step</th>\n",
       "    </tr>\n",
       "  </thead>\n",
       "  <tbody>\n",
       "    <tr>\n",
       "      <th>0</th>\n",
       "      <td>2016-03-31</td>\n",
       "      <td>(F00 - F09) Transtornos mentais orgânicos, inc...</td>\n",
       "      <td>431</td>\n",
       "      <td>1</td>\n",
       "      <td>0</td>\n",
       "      <td>0</td>\n",
       "    </tr>\n",
       "    <tr>\n",
       "      <th>1</th>\n",
       "      <td>2016-06-30</td>\n",
       "      <td>(F00 - F09) Transtornos mentais orgânicos, inc...</td>\n",
       "      <td>516</td>\n",
       "      <td>2</td>\n",
       "      <td>0</td>\n",
       "      <td>0</td>\n",
       "    </tr>\n",
       "    <tr>\n",
       "      <th>2</th>\n",
       "      <td>2016-09-30</td>\n",
       "      <td>(F00 - F09) Transtornos mentais orgânicos, inc...</td>\n",
       "      <td>663</td>\n",
       "      <td>3</td>\n",
       "      <td>0</td>\n",
       "      <td>0</td>\n",
       "    </tr>\n",
       "    <tr>\n",
       "      <th>3</th>\n",
       "      <td>2016-12-31</td>\n",
       "      <td>(F00 - F09) Transtornos mentais orgânicos, inc...</td>\n",
       "      <td>600</td>\n",
       "      <td>4</td>\n",
       "      <td>0</td>\n",
       "      <td>0</td>\n",
       "    </tr>\n",
       "    <tr>\n",
       "      <th>4</th>\n",
       "      <td>2017-03-31</td>\n",
       "      <td>(F00 - F09) Transtornos mentais orgânicos, inc...</td>\n",
       "      <td>604</td>\n",
       "      <td>5</td>\n",
       "      <td>0</td>\n",
       "      <td>0</td>\n",
       "    </tr>\n",
       "    <tr>\n",
       "      <th>...</th>\n",
       "      <td>...</td>\n",
       "      <td>...</td>\n",
       "      <td>...</td>\n",
       "      <td>...</td>\n",
       "      <td>...</td>\n",
       "      <td>...</td>\n",
       "    </tr>\n",
       "    <tr>\n",
       "      <th>645</th>\n",
       "      <td>2021-06-30</td>\n",
       "      <td>zzGrand Total</td>\n",
       "      <td>24035</td>\n",
       "      <td>22</td>\n",
       "      <td>0</td>\n",
       "      <td>1</td>\n",
       "    </tr>\n",
       "    <tr>\n",
       "      <th>646</th>\n",
       "      <td>2021-09-30</td>\n",
       "      <td>zzGrand Total</td>\n",
       "      <td>26747</td>\n",
       "      <td>23</td>\n",
       "      <td>0</td>\n",
       "      <td>1</td>\n",
       "    </tr>\n",
       "    <tr>\n",
       "      <th>647</th>\n",
       "      <td>2021-12-31</td>\n",
       "      <td>zzGrand Total</td>\n",
       "      <td>25537</td>\n",
       "      <td>24</td>\n",
       "      <td>0</td>\n",
       "      <td>1</td>\n",
       "    </tr>\n",
       "    <tr>\n",
       "      <th>648</th>\n",
       "      <td>2022-03-31</td>\n",
       "      <td>zzGrand Total</td>\n",
       "      <td>20497</td>\n",
       "      <td>25</td>\n",
       "      <td>0</td>\n",
       "      <td>1</td>\n",
       "    </tr>\n",
       "    <tr>\n",
       "      <th>649</th>\n",
       "      <td>2022-06-30</td>\n",
       "      <td>zzGrand Total</td>\n",
       "      <td>24321</td>\n",
       "      <td>26</td>\n",
       "      <td>0</td>\n",
       "      <td>1</td>\n",
       "    </tr>\n",
       "  </tbody>\n",
       "</table>\n",
       "<p>650 rows × 6 columns</p>\n",
       "</div>"
      ],
      "text/plain": [
       "          date                                           variavel  valores  \\\n",
       "0   2016-03-31  (F00 - F09) Transtornos mentais orgânicos, inc...      431   \n",
       "1   2016-06-30  (F00 - F09) Transtornos mentais orgânicos, inc...      516   \n",
       "2   2016-09-30  (F00 - F09) Transtornos mentais orgânicos, inc...      663   \n",
       "3   2016-12-31  (F00 - F09) Transtornos mentais orgânicos, inc...      600   \n",
       "4   2017-03-31  (F00 - F09) Transtornos mentais orgânicos, inc...      604   \n",
       "..         ...                                                ...      ...   \n",
       "645 2021-06-30                                      zzGrand Total    24035   \n",
       "646 2021-09-30                                      zzGrand Total    26747   \n",
       "647 2021-12-31                                      zzGrand Total    25537   \n",
       "648 2022-03-31                                      zzGrand Total    20497   \n",
       "649 2022-06-30                                      zzGrand Total    24321   \n",
       "\n",
       "     periodo  Pandemia_Pulse  Pandemia_ePos_Step  \n",
       "0          1               0                   0  \n",
       "1          2               0                   0  \n",
       "2          3               0                   0  \n",
       "3          4               0                   0  \n",
       "4          5               0                   0  \n",
       "..       ...             ...                 ...  \n",
       "645       22               0                   1  \n",
       "646       23               0                   1  \n",
       "647       24               0                   1  \n",
       "648       25               0                   1  \n",
       "649       26               0                   1  \n",
       "\n",
       "[650 rows x 6 columns]"
      ]
     },
     "execution_count": 543,
     "metadata": {},
     "output_type": "execute_result"
    }
   ],
   "source": [
    "main_regrdf = RegressionDfsTable['Total']\n",
    "main_regrdf[VARIABLE_NAME]\n",
    "main_regrdf"
   ]
  },
  {
   "cell_type": "markdown",
   "metadata": {
    "id": "YHaztiJny14x"
   },
   "source": [
    "# Define Processors\n"
   ]
  },
  {
   "cell_type": "code",
   "execution_count": 544,
   "metadata": {
    "id": "HTyzqrNKm01b"
   },
   "outputs": [],
   "source": [
    "# Configure logging\n",
    "logging.basicConfig(level=logging.INFO)\n",
    "logger = logging.getLogger(__name__)\n",
    "\n",
    "\n",
    "class RegressionProcessor:\n",
    "    \"\"\"\n",
    "    Performs regression-related operations such as model fitting,\n",
    "    best rho search, statistics extraction, and retrieving the real series.\n",
    "    \"\"\"\n",
    "\n",
    "    def __init__(\n",
    "        self,\n",
    "        ARGS: Dict[str, Any],\n",
    "        col_name: str,\n",
    "        value_name: str,\n",
    "        regression_df: pd.DataFrame,\n",
    "    ):\n",
    "        self.ARGS = ARGS\n",
    "        self.col_name = col_name\n",
    "        self.value_name = value_name\n",
    "        # The DataFrame from which the \"real series\" will be obtained.\n",
    "        # self.real_data_df = real_data_df\n",
    "        self.regression_df = regression_df\n",
    "\n",
    "        self.extra_data_storage = {\"best_rho\": None}\n",
    "\n",
    "    ## called from other internal methods\n",
    "    def get_variable_df(self, regression_df: pd.DataFrame, variable: str):\n",
    "        return regression_df[regression_df[VARIABLE_NAME] == variable]\n",
    "\n",
    "    def model_fit(\n",
    "        self, model, iterative_fit: bool = None, max_iterations: int = None, **kwARGS\n",
    "    ):\n",
    "        \"\"\"\n",
    "        Fits the model using iterative_fit if indicated.\n",
    "        \n",
    "        Parameters:\n",
    "        -----------\n",
    "        model : statsmodels model object\n",
    "            The model to be fitted\n",
    "        iterative_fit : bool, optional\n",
    "            Whether to use iterative fitting\n",
    "        max_iterations : int, optional\n",
    "            Maximum iterations for iterative fitting\n",
    "        kwARGS : dict\n",
    "            Additional keyword arguments passed to fit()\n",
    "            \n",
    "        Returns:\n",
    "        --------\n",
    "        Fitted model results\n",
    "        \"\"\"\n",
    "        # Get covariance parameters from instance ARGS\n",
    "        cov_type = self.ARGS.get(\"CovType\", \"nonrobust\")\n",
    "        cov_kwds = self.ARGS.get(\"CovKwargs\", {})\n",
    "        \n",
    "        # Handle default values for iterative fitting\n",
    "        if iterative_fit is None:\n",
    "            iterative_fit = self.ARGS.get(\"IterativeFit\", False)\n",
    "        if max_iterations is None:\n",
    "            max_iterations = self.ARGS.get(\"MaxIterations\", 100)\n",
    "            \n",
    "        # Prepare fit arguments including covariance specification\n",
    "        fit_kwargs = {\n",
    "            \"cov_type\": cov_type,\n",
    "            \"cov_kwds\": cov_kwds,\n",
    "            **kwARGS  # Merge additional user-provided kwargs\n",
    "        }\n",
    "        \n",
    "        if iterative_fit:\n",
    "            if hasattr(model, \"iterative_fit\"):\n",
    "                fit_func = model.iterative_fit\n",
    "                fit_kwargs[\"maxiter\"] = max_iterations\n",
    "            else:\n",
    "                logger.warning(\n",
    "                    \"Model does not support iterative_fit. Using fit() instead.\"\n",
    "                )\n",
    "                fit_func = model.fit\n",
    "        else:\n",
    "            fit_func = model.fit\n",
    "            \n",
    "        return fit_func(**fit_kwargs)\n",
    "\n",
    "    def find_best_rho(\n",
    "        self,\n",
    "        df: pd.DataFrame,\n",
    "        formula: str,\n",
    "        criterio: str = \"aic\",\n",
    "        start: float = -1.0,\n",
    "        stop: float = 1.01,\n",
    "        step: float = 0.05,\n",
    "    ) -> float:\n",
    "        \"\"\"\n",
    "        Searches for the best rho parameter using the specified criterion.\n",
    "        \"\"\"\n",
    "        best_rho = 1.0\n",
    "        best_criterion_value = np.inf\n",
    "        for rho in np.arange(start, stop, step):\n",
    "            model = smf.glsar(formula, data=df, rho=rho)\n",
    "            results = self.model_fit(model)\n",
    "            criterion_value = getattr(results, criterio)\n",
    "            if criterion_value < best_criterion_value:\n",
    "                best_criterion_value = criterion_value\n",
    "                best_rho = rho\n",
    "        return best_rho\n",
    "    '''\n",
    "    def _durbin_watson(self, resid) -> float:\n",
    "        \"\"\"\n",
    "        Computes Durbin-Watson statistic.\n",
    "        \"\"\"\n",
    "        from statsmodels.stats.stattools import durbin_watson\n",
    "\n",
    "        return durbin_watson(resid)\n",
    "    '''\n",
    "    def get_real_series(self, variable) -> pd.Series:\n",
    "        \"\"\"\n",
    "        Retrieves the real data series for a variable.\n",
    "        \"\"\"\n",
    "        return self.get_variable_df(self.regression_df, variable)\n",
    "    '''\n",
    "    def add_one_month(dt):  ### remover\n",
    "        \"\"\"\n",
    "        Adds one month to a datetime object.\n",
    "\n",
    "        ARGS:\n",
    "                dt: The datetime object to modify.\n",
    "\n",
    "        Returns:\n",
    "                A new datetime object with one month added.\n",
    "        \"\"\"\n",
    "        # Calculate the next month\n",
    "        try:\n",
    "            next_month = dt.replace(month=dt.month + 1)\n",
    "        except ValueError:  # Handle cases like December\n",
    "            next_month = dt.replace(year=dt.year + 1, month=1)\n",
    "\n",
    "        return next_month\n",
    "        ##########################\n",
    "    '''\n",
    "    def extract_result_stats(self, results) -> Dict[str, Any]:\n",
    "        \"\"\"\n",
    "        Extracts regression parameters and returns them in a dictionary.\n",
    "        \"\"\"\n",
    "        try:\n",
    "            r_value = np.sqrt(results.rsquared)\n",
    "        except (AttributeError, TypeError):\n",
    "            r_value = np.nan\n",
    "\n",
    "        try:\n",
    "            converged = results.converged\n",
    "        except Exception:\n",
    "            converged = np.nan\n",
    "\n",
    "        best_rho = self.extra_data_storage[\"best_rho\"]\n",
    "        #breakpoint()\n",
    "        dummy_stats = {}\n",
    "        dummy_vars = self.ARGS['DummyArgs'].keys() if self.ARGS['DummyArgs'] else []\n",
    "        for var in dummy_vars:\n",
    "            if var in results.params:\n",
    "                dummy_stats[var] = {\n",
    "                    \"coef\": results.params.get(var, np.nan),\n",
    "                    \"p_value\": results.pvalues.get(var, np.nan),\n",
    "                    'sgn' : results.pvalues.get(var, np.nan) < 0.05,  # At 5% significance\n",
    "                    \"conf_int\": results.conf_int().loc[var].values.tolist(),\n",
    "                    \"std_err\": results.bse.get(var, np.nan)\n",
    "                }\n",
    "            else:\n",
    "                dummy_stats[var] = {\n",
    "                    \"coef\": np.nan,\n",
    "                    \"p_value\": np.nan,\n",
    "                    \"conf_int\": [np.nan, np.nan],\n",
    "                    \"sgn\" : False,\n",
    "                    \"std_err\": np.nan\n",
    "                }\n",
    "        print(\"------------------dummy\")\n",
    "        print(dummy_stats)\n",
    "\n",
    "        slope = results.params.get(self.col_name, np.nan)\n",
    "        stats_dict = {\n",
    "            \"slope\": slope,\n",
    "            'dummy_stats': dummy_stats,\n",
    "            #'slope_normalized': slope / np.mean(serie_values),\n",
    "            \"best_rho\": best_rho,\n",
    "            \"intercept\": results.params.get(\"Intercept\", np.nan),\n",
    "            \"p_value\": results.pvalues.get(self.col_name, np.nan),\n",
    "            \"std_err\": results.bse.get(self.col_name, np.nan),\n",
    "            \"r_value\": r_value,\n",
    "            \"r_squared\": results.rsquared,\n",
    "            \"r_squared_adj\": results.rsquared_adj,\n",
    "            \"Durbin-Watson\": np.round(durbin_watson(results.resid), 4),\n",
    "            \"AIC\": results.aic,\n",
    "            \"BIC\": results.bic,\n",
    "            \"num_obs\": results.nobs,\n",
    "            \"fvalue\": results.fvalue,\n",
    "            \"f_pvalue\": results.f_pvalue,\n",
    "            \"log_likelihood_f\": results.llf,\n",
    "            \"condition_number\": results.condition_number,\n",
    "            \"df_model\": results.df_model,\n",
    "            \"df_resid\": results.df_resid,\n",
    "            \"resid\": results.resid,\n",
    "            \"bse\": results.bse,\n",
    "            \"ssr\": results.ssr,\n",
    "            \"centered_tss\": results.centered_tss,\n",
    "            \"uncentered_tss\": results.uncentered_tss,\n",
    "            \"ess\": results.ess,\n",
    "            \"mse_model\": results.mse_model,\n",
    "            \"mse_resid\": results.mse_resid,\n",
    "            \"mse_total\": results.mse_total,\n",
    "            \"tvalues\": results.tvalues,\n",
    "            \"pvalues\": results.pvalues,\n",
    "            \"converged\": converged,\n",
    "        }\n",
    "        return stats_dict\n",
    "\n",
    "    def get_regression_results(self, variable: str):  # , date_filter):\n",
    "        \"\"\"\n",
    "        Returns regression results based on the specified method in ARGS.\n",
    "        Uses GLSAR with best rho if 'RegressionMethod' is 'prais_winsten', otherwise OLS.\n",
    "        \"\"\"\n",
    "        method = self.ARGS.get(\"RegressionMethod\", \"ols\")\n",
    "        formula = self.ARGS.get(\"ModelFormula\", \"\")\n",
    "\n",
    "\n",
    "        variable_df = self.get_variable_df(self.regression_df, variable)\n",
    "\n",
    "        if method == \"prais_winsten\":\n",
    "            best_rho = self.find_best_rho(\n",
    "                variable_df, formula, criterio=self.ARGS.get(\"CriterioBestRho\", \"aic\")\n",
    "            )\n",
    "            self.extra_data_storage[\"best_rho\"] = best_rho\n",
    "            model = smf.glsar(formula, data=variable_df, rho=best_rho)\n",
    "            results = self.model_fit(model)\n",
    "        else:\n",
    "            model = smf.ols(formula, data=variable_df)\n",
    "            results = self.model_fit(model)\n",
    "        return results\n",
    "    '''\n",
    "    def get_dummy_impact(\n",
    "        self, variable: str, results\n",
    "    ):\n",
    "        if results is not None:\n",
    "            dummy_vars = self.ARGS.get(\"DummyArgs\", {}).keys()\n",
    "            # Extract coefficients, p-values, and confidence intervals for dummies\n",
    "            dummy_impact = {}\n",
    "            for var in dummy_vars:\n",
    "                if var in results.params:\n",
    "                    coef = results.params[var]\n",
    "                    p_value = results.pvalues[var]\n",
    "                    conf_int = results.conf_int().loc[var].values.tolist()\n",
    "                    dummy_impact[var] = {\n",
    "                        \"coef\": coef,\n",
    "                        \"p_value\": p_value,\n",
    "                        \"conf_int\": conf_int,\n",
    "                        \"significant\": p_value < 0.05,  # At 5% significance\n",
    "                    }\n",
    "            \n",
    "            return dummy_impact\n",
    "                # Store or return dummy impact\n",
    "                # self.extra_data_storage['dummy_impact'] = dummy_impact\n",
    "    '''\n",
    "    def get_regression_prediction_data(\n",
    "        self, variable: str, results_params: any\n",
    "    ) -> pd.Series:\n",
    "        \"\"\"\n",
    "        Generates a prediction series for a variable based on the regression results.\n",
    "\n",
    "        ARGS:\n",
    "                variable_df (pd.DataFrame): The DataFrame used to obtain periods (columns).\n",
    "                results_params: Either a dictionary of regression parameters (with keys 'slope' and 'intercept')\n",
    "                                or a RegressionResultsWrapper from which these values can be extracted.\n",
    "\n",
    "        Returns:\n",
    "                pd.Series: The predicted values with an extended period index.\n",
    "        \"\"\"\n",
    "        # If results_params is not a dict, try to extract the needed values from its attributes.\n",
    "        if not isinstance(results_params, dict):\n",
    "            slope = results_params.params.get(self.col_name, np.nan)\n",
    "            intercept = results_params.params.get(\"Intercept\", np.nan)\n",
    "        else:\n",
    "            slope = results_params.get(\"slope\", np.nan)\n",
    "            intercept = results_params.get(\"intercept\", np.nan)\n",
    "\n",
    "        variable_df = self.get_variable_df(self.regression_df, variable)\n",
    "\n",
    "        # Extract periods and dates.\n",
    "        original_periods = variable_df[COLUMN_NAME].tolist()\n",
    "        original_dates = pd.to_datetime(variable_df[DATE_NAME]).tolist()\n",
    "\n",
    "        last_period = original_periods[-1]\n",
    "        last_date = original_dates[-1]\n",
    "\n",
    "        # Determine number of additional future points to predict.\n",
    "        num_additional = int(\n",
    "            len(original_periods) * self.ARGS[\"additional_dates_factor\"]\n",
    "        )\n",
    "\n",
    "        # Generate future periods and dates.\n",
    "        additional_periods = [last_period + i for i in range(1, num_additional + 1)]\n",
    "        additional_dates = [\n",
    "            last_date + relativedelta(months=i * self.ARGS[\"PeriodGrouping\"])\n",
    "            for i in range(1, num_additional + 1)\n",
    "        ]\n",
    "\n",
    "        # Combine original + additional.\n",
    "        all_periods = original_periods + additional_periods\n",
    "        all_dates = original_dates + additional_dates\n",
    "\n",
    "        # Compute predictions using periods.\n",
    "        predicted_values = [slope * period + intercept for period in all_periods]\n",
    "\n",
    "        # Build the prediction series with dates as index.\n",
    "        prediction_series = pd.Series(\n",
    "            predicted_values, index=pd.Index(all_dates), name=variable\n",
    "        )\n",
    "        return prediction_series"
   ]
  },
  {
   "cell_type": "code",
   "execution_count": 545,
   "metadata": {
    "id": "hgAqH9-vyUUT"
   },
   "outputs": [],
   "source": [
    "class SheetExporter:\n",
    "    \"\"\"\n",
    "    Handles exporting Pandas DataFrames to Google Sheets (Colab) or saving locally (non-Colab).\n",
    "    \"\"\"\n",
    "\n",
    "    def __init__(self, output_wksheet=None, output_path: str = LOCAL_OUTPUT_PATH):\n",
    "        \"\"\"\n",
    "        :param output_wksheet: gspread.Spreadsheet object (used in Colab)\n",
    "        :param output_path: Path to save file locally (used outside Colab)\n",
    "        \"\"\"\n",
    "        self.output_wksheet = output_wksheet\n",
    "        self.output_path = output_path\n",
    "\n",
    "    def try_create_worksheet(self, title: str) -> None:\n",
    "        if self.output_wksheet:\n",
    "            try:\n",
    "                self.output_wksheet.worksheet(title)\n",
    "            except gspread.exceptions.WorksheetNotFound:\n",
    "                self.output_wksheet.add_worksheet(title=title, rows=\"100\", cols=\"20\")\n",
    "                logger.info(f\"Worksheet '{title}' created.\")\n",
    "\n",
    "    def convert_int64_for_json(self, input_df: pd.DataFrame) -> pd.DataFrame:\n",
    "        df = input_df.copy()\n",
    "        for column in df.columns:\n",
    "            if df[column].dtype == \"int64\":\n",
    "                df[column] = df[column].astype(int)\n",
    "            elif df[column].apply(lambda x: isinstance(x, np.int64)).any():\n",
    "                df[column] = df[column].apply(\n",
    "                    lambda x: int(x) if isinstance(x, np.int64) else x\n",
    "                )\n",
    "        return df\n",
    "\n",
    "    def export_to_sheet(\n",
    "        self, df: pd.DataFrame, title: str, include_index: bool = True\n",
    "    ) -> None:\n",
    "        clean_df = self.convert_int64_for_json(df)\n",
    "\n",
    "        if self.output_wksheet:\n",
    "            self.try_create_worksheet(title)\n",
    "            ws = self.output_wksheet.worksheet(title)\n",
    "            ws.clear()\n",
    "            set_with_dataframe(ws, clean_df, include_index=include_index)\n",
    "            logger.info(f\"DataFrame exported to sheet '{title}'.\")\n",
    "\n",
    "        elif self.output_path:\n",
    "            # Check if file exists\n",
    "            file_exists = os.path.exists(self.output_path)\n",
    "\n",
    "            # Attempt to open file and catch PermissionError if the file is open elsewhere\n",
    "            if file_exists:\n",
    "                while True:\n",
    "                    try:\n",
    "                        with pd.ExcelWriter(self.output_path, engine='openpyxl', mode='a', if_sheet_exists='replace') as writer:\n",
    "                            clean_df.to_excel(writer, sheet_name=title, index=include_index)\n",
    "                        break  # Exit the loop if writing succeeds\n",
    "                    except PermissionError:\n",
    "                        logger.warning(f\"File '{self.output_path}' is currently open. Please close the file and press Enter to try again.\")\n",
    "                        input(\"Press Enter after closing the file...\")\n",
    "                        time.sleep(5)  # Optional: wait before retrying\n",
    "            else:\n",
    "                # Create a new workbook and write the sheet\n",
    "                with pd.ExcelWriter(self.output_path, engine='openpyxl') as writer:\n",
    "                    clean_df.to_excel(writer, sheet_name=title, index=include_index)\n",
    "\n",
    "        else:\n",
    "            logger.error(\n",
    "                \"No output method specified. Please provide either a gspread worksheet or a local path.\"\n",
    "            )"
   ]
  },
  {
   "cell_type": "code",
   "execution_count": 546,
   "metadata": {
    "id": "6xUotBggyWo3"
   },
   "outputs": [],
   "source": [
    "class ResultsDataProcessor:\n",
    "    \"\"\"\n",
    "    Coordinates the regression processing and exporting.\n",
    "    It can append regression data from a DataFrame (e.g. RegressionDataDF),\n",
    "    build exportable DataFrames using configuration, and export to Google Sheets.\n",
    "    \"\"\"\n",
    "\n",
    "    def __init__(\n",
    "        self,\n",
    "        ARGS: Dict[str, Any],\n",
    "        sheet_exporter: SheetExporter,\n",
    "        regression_processor: RegressionProcessor,\n",
    "    ):\n",
    "        self.ARGS = ARGS\n",
    "\n",
    "        self.data_dict: Dict[str, Dict[str, Any]] = {}  # per-variable results storage\n",
    "\n",
    "        self.sheet_exporter = sheet_exporter\n",
    "        self.regression_processor = regression_processor\n",
    "\n",
    "        # Configuration for building exportable DataFrames.\n",
    "        # Keys in export_config refer to DataFrame names that will be built.\n",
    "        self.export_config: Dict[str, Dict[str, Any]] = {\n",
    "            \"LinearRegressionResultStats\": {\n",
    "                \"transform\": lambda var, data: pd.DataFrame(data[\"stats\"], index=[var]),\n",
    "                \"include_index\": True,\n",
    "            },\n",
    "\n",
    "            \"DummyImpact\": {\n",
    "                \"transform\": lambda var, data: self.get_dummy_df(\n",
    "                    var, data[\"stats\"]['dummy_stats']),\n",
    "                \"include_index\": True,\n",
    "            },\n",
    "\n",
    "            #### TODO: we need to join this wiht variable cfg i guess. Need to pass date filter so i can make multiple regressions with different date filters\n",
    "            #### TODO: EXPORT THE PERIOD AS WELL?\n",
    "            \"RealDataSeries\": {\n",
    "                \"transform\": lambda var, data: self.create_serie_df_test(\n",
    "                    data[\"real_serie\"]\n",
    "                ),\n",
    "                \"include_index\": True,\n",
    "            },\n",
    "            \"PredictionSeries\": {\n",
    "                \"transform\": lambda var, data: self.create_serie_df(\n",
    "                    data[\"prediction_serie\"]\n",
    "                ),\n",
    "                \"include_index\": True,\n",
    "            },\n",
    "        }\n",
    "        # Configuration for appending per-variable results.\n",
    "        # Keys here are produced for each variable and then later used in export.\n",
    "        self.variable_config: Dict[str, Any] = {\n",
    "            ### A dictionary with RegressionWrapper objecs\n",
    "            \"results\": lambda var: self.regression_processor.get_regression_results(\n",
    "                var,\n",
    "            ),\n",
    "\n",
    "\n",
    "            \"stats\": lambda var: self.regression_processor.extract_result_stats(\n",
    "                self.data_dict[var][\"results\"],  # ✅ Re-use stored results\n",
    "            ),\n",
    "            \"real_serie\": lambda var: self.regression_processor.get_real_series(var),\n",
    "            \"prediction_serie\": lambda var: self.regression_processor.get_regression_prediction_data(\n",
    "                var, self.data_dict[var][\"results\"]  # ✅ Re-use stored results\n",
    "            ),\n",
    "        }\n",
    "\n",
    "    def process_data(\n",
    "        self,\n",
    "    ):  ### this hould iterate the self.variable_config, previoulsy was 'append_regression_data_df'\n",
    "\n",
    "        for variable in self.regression_processor.regression_df[VARIABLE_NAME].unique():\n",
    "            self.data_dict[variable] = {}\n",
    "            for key, func in self.variable_config.items():\n",
    "                self.data_dict[variable][key] = func(\n",
    "                    variable\n",
    "                )  ## retrieves a function from the variable_config and executes it in a by variable basis, stores it\n",
    "            logger.info(f\"Processed results for variable '{variable}'.\")\n",
    "\n",
    "    def convert_ordinal_to_datetime(self, df: pd.DataFrame) -> pd.DataFrame:\n",
    "        \"\"\"\n",
    "        Converts DataFrame columns from numeric date format to datetime.\n",
    "        Using origin as '1899-12-30' for excel serial dates.\n",
    "        Returns a new DataFrame with renamed columns.\n",
    "        \"\"\"\n",
    "        # Check if columns are numeric (likely ordinal)\n",
    "        if all(isinstance(col, (int, np.integer)) for col in df.columns):\n",
    "            new_columns = df.columns.map(lambda x: datetime.fromordinal(x))\n",
    "            renamed_df = df.copy()\n",
    "            renamed_df.columns = new_columns\n",
    "            return renamed_df\n",
    "        else:\n",
    "            # Columns are not numeric (likely already datetime)\n",
    "            return df\n",
    "\n",
    "    ### TODO: has to be changed, it now receives a DF (melted). This function should shape the df for sheet exportion\n",
    "    def create_serie_df(self, serie: pd.Series) -> pd.DataFrame:\n",
    "\n",
    "        df = pd.DataFrame(serie).T\n",
    "        df.index = [serie.name]\n",
    "        return df\n",
    "\n",
    "    def create_serie_df_test(self, df: pd.DataFrame) -> pd.DataFrame:\n",
    "        shaped_df = df.pivot(index=VARIABLE_NAME, columns=DATE_NAME, values=VALUE_NAME)\n",
    "\n",
    "        # Optional: If you want to have a sorted order on the columns (dates)\n",
    "        shaped_df = shaped_df.reindex(sorted(shaped_df.columns), axis=1)\n",
    "\n",
    "        return shaped_df\n",
    "    '''\n",
    "    def get_dummy_df(self, variable:str, data):\n",
    "        stats = list(next(iter(data.values())).keys())  \n",
    "        # Build rows for each stat\n",
    "        rows = []\n",
    "        for stat in stats:\n",
    "            row = {\"var\": variable, \"stat\": stat}\n",
    "            for dummy_var, values in data.items():\n",
    "                row[dummy_var] = values.get(stat, np.nan)\n",
    "            rows.append(row)    \n",
    "        # Convert to DataFrame\n",
    "        return pd.DataFrame(rows)\n",
    "    '''\n",
    "    def get_dummy_df(self, variable: str, data: dict) -> pd.DataFrame:\n",
    "        \"\"\"\n",
    "        Transforma dicionário de estatísticas em DataFrame \"wide\" com nomes de colunas como:\n",
    "        coef_Pandemia, p_value_Pandemia, etc.\n",
    "        \"\"\"\n",
    "\n",
    "        # Extrair todas as estatísticas (assumindo que todas têm o mesmo conjunto)\n",
    "        stats = list(next(iter(data.values())).keys())\n",
    "\n",
    "        # Inicializa um dicionário para a linha final\n",
    "        row = {}\n",
    "\n",
    "        # Popula com chaves no formato \"stat_period\"\n",
    "        for period, stat_dict in data.items():\n",
    "            for stat in stats:\n",
    "                col_name = f\"{stat}_{period}\"\n",
    "                row[col_name] = stat_dict.get(stat, np.nan)\n",
    "\n",
    "        # Cria DataFrame com a variável como índice\n",
    "        df = pd.DataFrame([row], index=[variable])\n",
    "        return df\n",
    "\n",
    "    def get_exportable_dfs(self) -> Dict[str, pd.DataFrame]:\n",
    "        \"\"\"\n",
    "        Builds a dictionary of DataFrames ready for export based on export_config.\n",
    "        \"\"\"\n",
    "        export_dfs: Dict[str, pd.DataFrame] = {}\n",
    "        for df_name, config in self.export_config.items():\n",
    "            dfs = []\n",
    "            for variable, data in self.data_dict.items():\n",
    "                dfs.append(config[\"transform\"](variable, data))\n",
    "            export_dfs[df_name] = pd.concat(dfs)\n",
    "\n",
    "        # Add metadata (if any)\n",
    "        meta_df = pd.DataFrame(list(self.ARGS.items()), columns=[\"key\", \"value\"])\n",
    "        export_dfs[\"Metadata\"] = meta_df\n",
    "        return export_dfs\n",
    "\n",
    "    def process_and_export(self) -> Dict[str, pd.DataFrame]:\n",
    "        \"\"\"\n",
    "        Processes data into exportable DataFrames and exports them to Google Sheets.\n",
    "        Returns the dictionary of DataFrames.\n",
    "        \"\"\"\n",
    "        export_dfs = self.get_exportable_dfs()\n",
    "        for sheet_title, df in export_dfs.items():\n",
    "            include_index = self.export_config.get(sheet_title, {}).get(\n",
    "                \"include_index\", True\n",
    "            )\n",
    "            self.sheet_exporter.export_to_sheet(\n",
    "                df, sheet_title, include_index=include_index\n",
    "            )\n",
    "        return export_dfs"
   ]
  },
  {
   "cell_type": "markdown",
   "metadata": {
    "id": "WZbLi1gUy9Vc"
   },
   "source": [
    "# **EXEC** --- Instantiate Processor and Process/Export"
   ]
  },
  {
   "cell_type": "code",
   "execution_count": 547,
   "metadata": {
    "id": "eyc7TwqPnE-y"
   },
   "outputs": [],
   "source": [
    "def getRegressionResults(df: pd.DataFrame, title: str, export_wksheet=output_wksheet):\n",
    "    # Instantiate the SheetExporter using your output worksheet\n",
    "    sheet_exporter = SheetExporter(output_wksheet)\n",
    "\n",
    "    # Instantiate the RegressionProcessor with necessary parameters\n",
    "    regression_processor = RegressionProcessor(ARGS, COLUMN_NAME, VALUE_NAME, df)\n",
    "\n",
    "    # Instantiate the ResultsDataProcessor; it will coordinate between the modules.\n",
    "    processor = ResultsDataProcessor(ARGS, sheet_exporter, regression_processor)\n",
    "\n",
    "    # Feed the entire regression data DataFrame into the processor\n",
    "    processor.process_data()\n",
    "\n",
    "    # Process data and export it to Google Sheets; also retrieve exportable DataFrames for further analysis.\n",
    "    exported_dfs = processor.process_and_export()\n",
    "    logger.info(\"Processing and export completed.\")\n",
    "    return exported_dfs\n"
   ]
  },
  {
   "cell_type": "code",
   "execution_count": 548,
   "metadata": {
    "id": "miI-e6xh11Dq"
   },
   "outputs": [
    {
     "name": "stderr",
     "output_type": "stream",
     "text": [
      "INFO:__main__:Processed results for variable '(F00 - F09) Transtornos mentais orgânicos, inclusive os sintomáticos'.\n"
     ]
    },
    {
     "name": "stdout",
     "output_type": "stream",
     "text": [
      "------------------dummy\n",
      "{'Pandemia_Pulse': {'coef': np.float64(-173.51623471971538), 'p_value': np.float64(0.00023298949387022387), 'sgn': np.True_, 'conf_int': [-265.9240771403505, -81.10839229908024], 'std_err': np.float64(47.14772472838094)}, 'Pandemia_ePos_Step': {'coef': np.float64(82.07654391772208), 'p_value': np.float64(0.22938914917982844), 'sgn': np.False_, 'conf_int': [-51.763656113653084, 215.91674394909722], 'std_err': np.float64(68.2870711334951)}}\n"
     ]
    },
    {
     "name": "stderr",
     "output_type": "stream",
     "text": [
      "INFO:__main__:Processed results for variable '(F10 - F19) Transtornos mentais e comportamentais devidos ao uso de substância psicoativa'.\n"
     ]
    },
    {
     "name": "stdout",
     "output_type": "stream",
     "text": [
      "------------------dummy\n",
      "{'Pandemia_Pulse': {'coef': np.float64(-440.18549013364986), 'p_value': np.float64(3.639436226566433e-27), 'sgn': np.True_, 'conf_int': [-520.107437200472, -360.26354306682776], 'std_err': np.float64(40.77725289711252)}, 'Pandemia_ePos_Step': {'coef': np.float64(304.5233328204048), 'p_value': np.float64(8.316787989270525e-08), 'sgn': np.True_, 'conf_int': [193.1722711545226, 415.874394486287], 'std_err': np.float64(56.812810104780056)}}\n"
     ]
    },
    {
     "name": "stderr",
     "output_type": "stream",
     "text": [
      "INFO:__main__:Processed results for variable '(F20 - F29) Esquizofrenia, transtornos esquizotípicos e transtornos delirantes'.\n"
     ]
    },
    {
     "name": "stdout",
     "output_type": "stream",
     "text": [
      "------------------dummy\n",
      "{'Pandemia_Pulse': {'coef': np.float64(-218.21503796985792), 'p_value': np.float64(4.364329073385132e-05), 'sgn': np.True_, 'conf_int': [-322.8548215850741, -113.57525435464174], 'std_err': np.float64(53.388625730167206)}, 'Pandemia_ePos_Step': {'coef': np.float64(-147.21035773071134), 'p_value': np.float64(0.0009968528113640973), 'sgn': np.True_, 'conf_int': [-234.87087273823596, -59.5498427231867], 'std_err': np.float64(44.725574397784655)}}\n"
     ]
    },
    {
     "name": "stderr",
     "output_type": "stream",
     "text": [
      "INFO:__main__:Processed results for variable '(F30 - F39) Transtornos do humor [afetivos]'.\n"
     ]
    },
    {
     "name": "stdout",
     "output_type": "stream",
     "text": [
      "------------------dummy\n",
      "{'Pandemia_Pulse': {'coef': np.float64(-1888.15730706556), 'p_value': np.float64(9.511214454715568e-23), 'sgn': np.True_, 'conf_int': [-2265.127071546557, -1511.187542584563], 'std_err': np.float64(192.33504669192206)}, 'Pandemia_ePos_Step': {'coef': np.float64(-867.3631190594173), 'p_value': np.float64(9.562241698667896e-06), 'sgn': np.True_, 'conf_int': [-1251.3841009584207, -483.34213716041387], 'std_err': np.float64(195.93267270629048)}}\n"
     ]
    },
    {
     "name": "stderr",
     "output_type": "stream",
     "text": [
      "INFO:__main__:Processed results for variable '(F40 - F48) Transtornos neuróticos, transtornos relacionados com o \"stress\" e transtornos somatoformes'.\n"
     ]
    },
    {
     "name": "stdout",
     "output_type": "stream",
     "text": [
      "------------------dummy\n",
      "{'Pandemia_Pulse': {'coef': np.float64(-2473.5098158996952), 'p_value': np.float64(9.276427192122687e-50), 'sgn': np.True_, 'conf_int': [-2800.398703549781, -2146.6209282496093], 'std_err': np.float64(166.78310939820526)}, 'Pandemia_ePos_Step': {'coef': np.float64(2181.835638119761), 'p_value': np.float64(1.940923354838534e-27), 'sgn': np.True_, 'conf_int': [1787.7947969103432, 2575.876479329179], 'std_err': np.float64(201.0449397629557)}}\n"
     ]
    },
    {
     "name": "stderr",
     "output_type": "stream",
     "text": [
      "INFO:__main__:Processed results for variable '(F50 - F59) Síndromes comportamentais associadas a disfunções fisiológicas e a fatores físicos'.\n"
     ]
    },
    {
     "name": "stdout",
     "output_type": "stream",
     "text": [
      "------------------dummy\n",
      "{'Pandemia_Pulse': {'coef': np.float64(-154.7713448538612), 'p_value': np.float64(2.4637474951789476e-43), 'sgn': np.True_, 'conf_int': [-176.7490742028925, -132.7936155048299], 'std_err': np.float64(11.213333266523682)}, 'Pandemia_ePos_Step': {'coef': np.float64(130.7735327829741), 'p_value': np.float64(3.351365711503947e-15), 'sgn': np.True_, 'conf_int': [98.2346210149455, 163.31244455100267], 'std_err': np.float64(16.601790657732167)}}\n"
     ]
    },
    {
     "name": "stderr",
     "output_type": "stream",
     "text": [
      "INFO:__main__:Processed results for variable '(F60 - F69) Transtornos da personalidade e do comportamento do adulto'.\n"
     ]
    },
    {
     "name": "stdout",
     "output_type": "stream",
     "text": [
      "------------------dummy\n",
      "{'Pandemia_Pulse': {'coef': np.float64(-261.1072469247369), 'p_value': np.float64(2.408031555236443e-46), 'sgn': np.True_, 'conf_int': [-296.9114082675453, -225.30308558192849], 'std_err': np.float64(18.267764931002343)}, 'Pandemia_ePos_Step': {'coef': np.float64(283.22384489829625), 'p_value': np.float64(8.274177586399292e-21), 'sgn': np.True_, 'conf_int': [223.89259534436206, 342.55509445223043], 'std_err': np.float64(30.271601938572097)}}\n"
     ]
    },
    {
     "name": "stderr",
     "output_type": "stream",
     "text": [
      "INFO:__main__:Processed results for variable '(F70 - F79) Retardo mental'.\n"
     ]
    },
    {
     "name": "stdout",
     "output_type": "stream",
     "text": [
      "------------------dummy\n",
      "{'Pandemia_Pulse': {'coef': np.float64(-74.36379210558628), 'p_value': np.float64(0.024021099364886223), 'sgn': np.True_, 'conf_int': [-138.94678406457186, -9.780800146600711], 'std_err': np.float64(32.95111158593116)}, 'Pandemia_ePos_Step': {'coef': np.float64(-217.0137976282891), 'p_value': np.float64(1.3808649877273857e-11), 'sgn': np.True_, 'conf_int': [-279.93472743437474, -154.09286782220346], 'std_err': np.float64(32.10310510927645)}}\n"
     ]
    },
    {
     "name": "stderr",
     "output_type": "stream",
     "text": [
      "INFO:__main__:Processed results for variable '(F80 - F89) Transtornos do desenvolvimento psicológico'.\n"
     ]
    },
    {
     "name": "stdout",
     "output_type": "stream",
     "text": [
      "------------------dummy\n",
      "{'Pandemia_Pulse': {'coef': np.float64(-147.29565008241389), 'p_value': np.float64(0.09062081483840194), 'sgn': np.False_, 'conf_int': [-317.905375026665, 23.31407486183724], 'std_err': np.float64(87.04737754877073)}, 'Pandemia_ePos_Step': {'coef': np.float64(-179.77508477804756), 'p_value': np.float64(0.12742651833746815), 'sgn': np.False_, 'conf_int': [-410.9277201760758, 51.377550619980696], 'std_err': np.float64(117.93718518367213)}}\n"
     ]
    },
    {
     "name": "stderr",
     "output_type": "stream",
     "text": [
      "INFO:__main__:Processed results for variable '(F90 - F98) Transtornos do comportamento e transtornos emocionais que aparecem habitualmente durante a infância ou a adolescência'.\n"
     ]
    },
    {
     "name": "stdout",
     "output_type": "stream",
     "text": [
      "------------------dummy\n",
      "{'Pandemia_Pulse': {'coef': np.float64(-75.36350455927455), 'p_value': np.float64(0.37650966236927175), 'sgn': np.False_, 'conf_int': [-242.39068192025093, 91.66367280170185], 'std_err': np.float64(85.21951356171107)}, 'Pandemia_ePos_Step': {'coef': np.float64(-446.41510991254876), 'p_value': np.float64(0.00029905100240754833), 'sgn': np.True_, 'conf_int': [-688.3753804469784, -204.45483937811906], 'std_err': np.float64(123.45138606779587)}}\n"
     ]
    },
    {
     "name": "stderr",
     "output_type": "stream",
     "text": [
      "INFO:__main__:Processed results for variable '(F99) Transtorno mental não especificado'.\n"
     ]
    },
    {
     "name": "stdout",
     "output_type": "stream",
     "text": [
      "------------------dummy\n",
      "{'Pandemia_Pulse': {'coef': np.float64(-39.88282841058753), 'p_value': np.float64(0.0678100982363215), 'sgn': np.False_, 'conf_int': [-82.685397813968, 2.9197409927929314], 'std_err': np.float64(21.838446900556168)}, 'Pandemia_ePos_Step': {'coef': np.float64(28.11854729259692), 'p_value': np.float64(0.4112332645307123), 'sgn': np.False_, 'conf_int': [-38.94929268341768, 95.18638726861151], 'std_err': np.float64(34.21891448263191)}}\n"
     ]
    },
    {
     "name": "stderr",
     "output_type": "stream",
     "text": [
      "INFO:__main__:Processed results for variable '(X60 - X84) Lesões autoprovocadas intencionalmente'.\n"
     ]
    },
    {
     "name": "stdout",
     "output_type": "stream",
     "text": [
      "------------------dummy\n",
      "{'Pandemia_Pulse': {'coef': np.float64(-14.625343300905566), 'p_value': np.float64(0.00035795538511749044), 'sgn': np.True_, 'conf_int': [-22.656402052070874, -6.594284549740259], 'std_err': np.float64(4.097554248197046)}, 'Pandemia_ePos_Step': {'coef': np.float64(-4.503068270058792), 'p_value': np.float64(0.4313377598515514), 'sgn': np.False_, 'conf_int': [-15.718979954407985, 6.7128434142904005], 'std_err': np.float64(5.72250907303342)}}\n"
     ]
    },
    {
     "name": "stderr",
     "output_type": "stream",
     "text": [
      "INFO:__main__:Processed results for variable '00 a 09 anos'.\n"
     ]
    },
    {
     "name": "stdout",
     "output_type": "stream",
     "text": [
      "------------------dummy\n",
      "{'Pandemia_Pulse': {'coef': np.float64(-220.79798414971964), 'p_value': np.float64(0.011039091472351345), 'sgn': np.True_, 'conf_int': [-391.0765952916554, -50.519373007783884], 'std_err': np.float64(86.87843883105595)}, 'Pandemia_ePos_Step': {'coef': np.float64(-398.06490274931684), 'p_value': np.float64(0.0013370016385552015), 'sgn': np.True_, 'conf_int': [-641.2734763570072, -154.85632914162653], 'std_err': np.float64(124.08828709409383)}}\n"
     ]
    },
    {
     "name": "stderr",
     "output_type": "stream",
     "text": [
      "INFO:__main__:Processed results for variable '10 a 19 anos'.\n"
     ]
    },
    {
     "name": "stdout",
     "output_type": "stream",
     "text": [
      "------------------dummy\n",
      "{'Pandemia_Pulse': {'coef': np.float64(-513.8616950747645), 'p_value': np.float64(1.4783042282753787e-10), 'sgn': np.True_, 'conf_int': [-671.0423536019119, -356.68103654761705], 'std_err': np.float64(80.19568714882949)}, 'Pandemia_ePos_Step': {'coef': np.float64(-166.47561667483626), 'p_value': np.float64(0.12761872405305125), 'sgn': np.False_, 'conf_int': [-380.6360477564731, 47.68481440680054], 'std_err': np.float64(109.26753387863602)}}\n"
     ]
    },
    {
     "name": "stderr",
     "output_type": "stream",
     "text": [
      "INFO:__main__:Processed results for variable '20 a 29 anos'.\n"
     ]
    },
    {
     "name": "stdout",
     "output_type": "stream",
     "text": [
      "------------------dummy\n",
      "{'Pandemia_Pulse': {'coef': np.float64(-1157.038445199615), 'p_value': np.float64(4.662872312057337e-58), 'sgn': np.True_, 'conf_int': [-1298.2203366079316, -1015.8565537912982], 'std_err': np.float64(72.03290087059835)}, 'Pandemia_ePos_Step': {'coef': np.float64(657.1602181035854), 'p_value': np.float64(9.551166522967039e-13), 'sgn': np.True_, 'conf_int': [476.68634486563946, 837.6340913415313], 'std_err': np.float64(92.08019874931419)}}\n"
     ]
    },
    {
     "name": "stderr",
     "output_type": "stream",
     "text": [
      "INFO:__main__:Processed results for variable '30 a 39 anos'.\n"
     ]
    },
    {
     "name": "stdout",
     "output_type": "stream",
     "text": [
      "------------------dummy\n",
      "{'Pandemia_Pulse': {'coef': np.float64(-1013.2547365935), 'p_value': np.float64(1.9140542179748255e-37), 'sgn': np.True_, 'conf_int': [-1168.552457636976, -857.9570155500239], 'std_err': np.float64(79.23498710611248)}, 'Pandemia_ePos_Step': {'coef': np.float64(355.5137649502931), 'p_value': np.float64(0.016867844222426796), 'sgn': np.True_, 'conf_int': [63.91632540873172, 647.1112044918544], 'std_err': np.float64(148.7769376588778)}}\n"
     ]
    },
    {
     "name": "stderr",
     "output_type": "stream",
     "text": [
      "INFO:__main__:Processed results for variable '40 a 49 anos'.\n"
     ]
    },
    {
     "name": "stdout",
     "output_type": "stream",
     "text": [
      "------------------dummy\n",
      "{'Pandemia_Pulse': {'coef': np.float64(-837.0655414591579), 'p_value': np.float64(1.799489470950279e-26), 'sgn': np.True_, 'conf_int': [-991.1566717436875, -682.9744111746282], 'std_err': np.float64(78.61936826389709)}, 'Pandemia_ePos_Step': {'coef': np.float64(36.28929945163896), 'p_value': np.float64(0.8158379152197216), 'sgn': np.False_, 'conf_int': [-269.10044014512766, 341.67903904840557], 'std_err': np.float64(155.81395474898616)}}\n"
     ]
    },
    {
     "name": "stderr",
     "output_type": "stream",
     "text": [
      "INFO:__main__:Processed results for variable '50 a 59 anos'.\n"
     ]
    },
    {
     "name": "stdout",
     "output_type": "stream",
     "text": [
      "------------------dummy\n",
      "{'Pandemia_Pulse': {'coef': np.float64(-606.5586463405635), 'p_value': np.float64(8.159515919410038e-08), 'sgn': np.True_, 'conf_int': [-828.208434660698, -384.9088580204291], 'std_err': np.float64(113.08870472543359)}, 'Pandemia_ePos_Step': {'coef': np.float64(-466.8933141611957), 'p_value': np.float64(0.05152111854227647), 'sgn': np.False_, 'conf_int': [-936.8679920105742, 3.081363688182762], 'std_err': np.float64(239.78740505258196)}}\n"
     ]
    },
    {
     "name": "stderr",
     "output_type": "stream",
     "text": [
      "INFO:__main__:Processed results for variable '60 a 69 anos'.\n"
     ]
    },
    {
     "name": "stdout",
     "output_type": "stream",
     "text": [
      "------------------dummy\n",
      "{'Pandemia_Pulse': {'coef': np.float64(-477.1137098133939), 'p_value': np.float64(5.5289888020594565e-11), 'sgn': np.True_, 'conf_int': [-619.7514852350236, -334.4759343917642], 'std_err': np.float64(72.77571248591212)}, 'Pandemia_ePos_Step': {'coef': np.float64(-361.1573997951686), 'p_value': np.float64(0.004478334633961271), 'sgn': np.True_, 'conf_int': [-610.1968753790139, -112.11792421132324], 'std_err': np.float64(127.0632917483367)}}\n"
     ]
    },
    {
     "name": "stderr",
     "output_type": "stream",
     "text": [
      "INFO:__main__:Processed results for variable '70 a 79 anos'.\n"
     ]
    },
    {
     "name": "stdout",
     "output_type": "stream",
     "text": [
      "------------------dummy\n",
      "{'Pandemia_Pulse': {'coef': np.float64(-159.82532388136866), 'p_value': np.float64(2.7923731029820875e-06), 'sgn': np.True_, 'conf_int': [-226.6804979334272, -92.9701498293101], 'std_err': np.float64(34.11040946640022)}, 'Pandemia_ePos_Step': {'coef': np.float64(-158.82157780672614), 'p_value': np.float64(0.001876674496455217), 'sgn': np.True_, 'conf_int': [-258.94252332380063, -58.70063228965165], 'std_err': np.float64(51.08305372283151)}}\n"
     ]
    },
    {
     "name": "stderr",
     "output_type": "stream",
     "text": [
      "INFO:__main__:Processed results for variable '80 anos ou mais'.\n"
     ]
    },
    {
     "name": "stdout",
     "output_type": "stream",
     "text": [
      "------------------dummy\n",
      "{'Pandemia_Pulse': {'coef': np.float64(-64.8057898068492), 'p_value': np.float64(5.389480588832951e-06), 'sgn': np.True_, 'conf_int': [-92.72759467853149, -36.88398493516693], 'std_err': np.float64(14.246080587156658)}, 'Pandemia_ePos_Step': {'coef': np.float64(-102.06454757741544), 'p_value': np.float64(1.5125540512206666e-07), 'sgn': np.True_, 'conf_int': [-140.16050966533322, -63.96858548949767], 'std_err': np.float64(19.437072511747083)}}\n"
     ]
    },
    {
     "name": "stderr",
     "output_type": "stream",
     "text": [
      "INFO:__main__:Processed results for variable 'Faixa Etaria Nao determinada'.\n"
     ]
    },
    {
     "name": "stdout",
     "output_type": "stream",
     "text": [
      "------------------dummy\n",
      "{'Pandemia_Pulse': {'coef': np.float64(-891.5464777647337), 'p_value': np.float64(0.0859820612208884), 'sgn': np.False_, 'conf_int': [-1909.2605603285922, 126.16760479912477], 'std_err': np.float64(519.2514202258089)}, 'Pandemia_ePos_Step': {'coef': np.float64(1691.2385705255294), 'p_value': np.float64(0.09177375397839807), 'sgn': np.False_, 'conf_int': [-274.68174617618433, 3657.158887227243], 'std_err': np.float64(1003.0390008227919)}}\n"
     ]
    },
    {
     "name": "stderr",
     "output_type": "stream",
     "text": [
      "INFO:__main__:Processed results for variable 'Feminino'.\n"
     ]
    },
    {
     "name": "stdout",
     "output_type": "stream",
     "text": [
      "------------------dummy\n",
      "{'Pandemia_Pulse': {'coef': np.float64(-4236.4883714146845), 'p_value': np.float64(1.301584114825905e-34), 'sgn': np.True_, 'conf_int': [-4913.171799002165, -3559.8049438272037], 'std_err': np.float64(345.25299083303236)}, 'Pandemia_ePos_Step': {'coef': np.float64(670.0178951272557), 'p_value': np.float64(0.09544077319290135), 'sgn': np.False_, 'conf_int': [-117.57611086573922, 1457.6119011202504], 'std_err': np.float64(401.84106045082257)}}\n"
     ]
    },
    {
     "name": "stderr",
     "output_type": "stream",
     "text": [
      "INFO:__main__:Processed results for variable 'Masculino'.\n"
     ]
    },
    {
     "name": "stdout",
     "output_type": "stream",
     "text": [
      "------------------dummy\n",
      "{'Pandemia_Pulse': {'coef': np.float64(-1994.376351927591), 'p_value': np.float64(3.720788508996102e-27), 'sgn': np.True_, 'conf_int': [-2356.5519322184828, -1632.2007716366993], 'std_err': np.float64(184.78685483390845)}, 'Pandemia_ePos_Step': {'coef': np.float64(383.778206067124), 'p_value': np.float64(0.10841479796852738), 'sgn': np.False_, 'conf_int': [-84.77207525681115, 852.3284873910592], 'std_err': np.float64(239.0606587773041)}}\n"
     ]
    },
    {
     "name": "stderr",
     "output_type": "stream",
     "text": [
      "INFO:__main__:Processed results for variable 'zzGrand Total'.\n"
     ]
    },
    {
     "name": "stdout",
     "output_type": "stream",
     "text": [
      "------------------dummy\n",
      "{'Pandemia_Pulse': {'coef': np.float64(-6236.191857474831), 'p_value': np.float64(3.5958651608370276e-32), 'sgn': np.True_, 'conf_int': [-7271.40974339861, -5200.973971551051], 'std_err': np.float64(528.1820962474035)}, 'Pandemia_ePos_Step': {'coef': np.float64(1051.0888997979666), 'p_value': np.float64(0.09596668066161128), 'sgn': np.False_, 'conf_int': [-186.40707351422793, 2288.5848731101614], 'std_err': np.float64(631.3870984739541)}}\n"
     ]
    },
    {
     "name": "stderr",
     "output_type": "stream",
     "text": [
      "INFO:__main__:Processing and export completed.\n"
     ]
    }
   ],
   "source": [
    "RegressionResultsTable = {}\n",
    "\n",
    "for title, df in RegressionDfsTable.items():\n",
    "    RegressionResultsTable[title] = getRegressionResults(df, title)"
   ]
  },
  {
   "cell_type": "code",
   "execution_count": 549,
   "metadata": {
    "colab": {
     "base_uri": "https://localhost:8080/",
     "height": 882
    },
    "id": "-b4p-e_7Q6NY",
    "outputId": "b5b82f4b-faac-4d53-d622-7a655b1425f7"
   },
   "outputs": [],
   "source": [
    "# Create a dict to hold {variable: {title: slope}} structure\n",
    "def visualize_slopes(regression_results_table = RegressionResultsTable):\n",
    "    slope_dict = {}\n",
    "\n",
    "    for title, dfs in regression_results_table.items():\n",
    "        slopes = dfs[\"LinearRegressionResultStats\"][\"slope\"]\n",
    "        for variable, slope in slopes.items():\n",
    "            if variable not in slope_dict:\n",
    "                slope_dict[variable] = {}\n",
    "            slope_dict[variable][title] = slope\n",
    "\n",
    "    # Convert to DataFrame\n",
    "    table_df = pd.DataFrame(slope_dict).T  # Transpose so variables are rows\n",
    "    table_df.index.name = \"Variável\"\n",
    "    table_df.columns.name = \"Título\"\n",
    "\n",
    "    # Optional: sort rows by slope under a specific title\n",
    "    table_df = table_df.sort_values(by=table_df.columns[0], ascending=False)\n",
    "    return table_df\n",
    "\n",
    "#SlopesTable = visualize_slopes()\n",
    "#SlopesTable"
   ]
  },
  {
   "cell_type": "markdown",
   "metadata": {
    "id": "zH9i6dotzLe5"
   },
   "source": [
    "# Define Hover Graph Func\n"
   ]
  },
  {
   "cell_type": "code",
   "execution_count": 550,
   "metadata": {
    "id": "Z1neO2pp9h_r"
   },
   "outputs": [],
   "source": [
    "import plotly.graph_objects as go\n",
    "\n",
    "\n",
    "def interactive_plot_real_vs_prediction_series(\n",
    "    real_df: pd.DataFrame,\n",
    "    pred_df: pd.DataFrame,\n",
    "    std_err_data=None,\n",
    "    highlight_period=\"2020\",\n",
    "):\n",
    "    \"\"\"\n",
    "    Plots real vs. prediction time series with hover data using Plotly,\n",
    "    creating separate plots for each variable.\n",
    "    \"\"\"\n",
    "    # Make copies\n",
    "    real_copy = real_df.copy()\n",
    "    pred_copy = pred_df.copy()\n",
    "    # Align shapes by extending the smaller DataFrame\n",
    "    if pred_copy.shape[1] < real_copy.shape[1]:\n",
    "        missing_cols = real_copy.columns.difference(pred_copy.columns)\n",
    "        for col in missing_cols:\n",
    "            pred_copy[col] = np.nan\n",
    "        pred_copy = pred_copy[real_copy.columns]\n",
    "    elif real_copy.shape[1] < pred_copy.shape[1]:\n",
    "        missing_cols = pred_copy.columns.difference(real_copy.columns)\n",
    "        for col in missing_cols:\n",
    "            real_copy[col] = np.nan\n",
    "        real_copy = real_copy[pred_copy.columns]\n",
    "        # Create separate figures for each variable\n",
    "    for idx in real_copy.index:\n",
    "        fig = go.Figure()\n",
    "\n",
    "        fig.add_trace(\n",
    "            go.Scatter(\n",
    "                x=real_copy.columns,\n",
    "                y=real_copy.loc[idx],\n",
    "                mode=\"markers\",  # use only 'markers' for scatter\n",
    "                name=\"Real\",\n",
    "                hovertemplate=\"<b>%{x}</b><br>Real: %{y:.2f}<extra></extra>\",  # Updated hovertemplate\n",
    "            )\n",
    "        )\n",
    "        # Line plot for prediction data with error bars (if std_err_data is provided)\n",
    "        if std_err_data is not None and idx in std_err_data:\n",
    "            fig.add_trace(\n",
    "                go.Scatter(\n",
    "                    x=pred_copy.columns,\n",
    "                    y=pred_copy.loc[idx],\n",
    "                    mode=\"lines+markers\",\n",
    "                    name=\"Prediction\",\n",
    "                    hovertemplate=\"<b>%{x}</b><br>Prediction: %{y:.2f}<extra></extra>\",\n",
    "                    error_y=dict(\n",
    "                        type=\"data\",\n",
    "                        array=[std_err_data[idx]]\n",
    "                        * len(pred_copy.columns),  # Convert to list for error_y\n",
    "                        visible=True,\n",
    "                        thickness=1.5,  # Adjust thickness for visibility\n",
    "                        width=6,  # Adjust width for visibility\n",
    "                    ),\n",
    "                )\n",
    "            )\n",
    "        else:\n",
    "            # If no standard error data, plot without error bars\n",
    "            fig.add_trace(\n",
    "                go.Scatter(\n",
    "                    x=pred_copy.columns,\n",
    "                    y=pred_copy.loc[idx],\n",
    "                    mode=\"lines+markers\",\n",
    "                    name=\"Prediction\",\n",
    "                    hovertemplate=\"<b>%{x}</b><br>Prediction: %{y:.2f}<extra></extra>\",\n",
    "                )\n",
    "            )\n",
    "\n",
    "        if highlight_period:\n",
    "            fig.update_layout(\n",
    "                shapes=[\n",
    "                    dict(\n",
    "                        type=\"rect\",\n",
    "                        xref=\"x\",\n",
    "                        yref=\"paper\",\n",
    "                        x0=real_copy.columns[\n",
    "                            real_copy.columns.astype(str).str.startswith(\n",
    "                                highlight_period\n",
    "                            )\n",
    "                        ][0],\n",
    "                        y0=0,\n",
    "                        x1=real_copy.columns[\n",
    "                            real_copy.columns.astype(str).str.startswith(\n",
    "                                highlight_period\n",
    "                            )\n",
    "                        ][-1],\n",
    "                        y1=1,\n",
    "                        fillcolor=\"LightSalmon\",\n",
    "                        opacity=0.5,\n",
    "                        line_width=0,\n",
    "                        layer=\"below\",\n",
    "                    )\n",
    "                ]\n",
    "            )\n",
    "\n",
    "        fig.update_layout(\n",
    "            title=f\"Variable: {idx}\", xaxis_title=\"Time\", yaxis_title=\"Value\"\n",
    "        )\n",
    "        fig.show()\n",
    "        # fig.update_layout(title=f'Variable: {idx}', xaxis_title='Time', yaxis_title='Value')\n",
    "        # fig.show()\n",
    "\n",
    "    return real_copy, pred_copy"
   ]
  },
  {
   "cell_type": "code",
   "execution_count": 551,
   "metadata": {
    "id": "UYHNAspiWyMo"
   },
   "outputs": [],
   "source": [
    "import numpy as np\n",
    "import pandas as pd\n",
    "from datetime import datetime\n",
    "import plotly.graph_objects as go\n",
    "from sklearn.base import BaseEstimator, TransformerMixin\n",
    "\n",
    "\n",
    "def interactive_plot_multi_regression_series(\n",
    "    regression_tables,\n",
    "    highlight_period : str | None = \"2020\",\n",
    "    #real_df: pd.DataFrame,\n",
    "    #pred_dfs: dict[str, pd.DataFrame],\n",
    "    #std_err_data: dict[str, dict] | None = None,\n",
    "    #highlight_period: str | None = \"2020\",\n",
    "):\n",
    "    \"\"\"\n",
    "    Plot real vs. multiple prediction time series with hover, error bars, and optional highlight.\n",
    "\n",
    "    Parameters\n",
    "    ----------\n",
    "    real_df\n",
    "        DataFrame of “ground truth” series (index = series IDs, columns = datetime-like).\n",
    "    pred_dfs\n",
    "        Dict mapping a name → prediction DataFrame to plot as a separate line.\n",
    "    std_err_data\n",
    "        Optional dict mapping the same names → dict of {series ID: std_error}.\n",
    "    highlight_period\n",
    "        A string prefix (e.g. '2020') to highlight columns whose str(column) startswith this.\n",
    "    \"\"\"\n",
    "    # 1) Copy and parse all column axes to datetime if possible\n",
    "    pred_dfs = {}\n",
    "    real_copy = None\n",
    "    std_errs = {}\n",
    "    for title, dfs in regression_tables.items():\n",
    "        pred_dfs[title] = dfs['PredictionSeries'].copy()\n",
    "        std_errs[title] = dfs['LinearRegressionResultStats']['std_err'].copy()\n",
    "        if real_copy is None or len(dfs['RealDataSeries'].columns) > len(real_copy.columns):\n",
    "            real_copy = dfs['RealDataSeries'].copy()\n",
    "    ####\n",
    "\n",
    "    try:\n",
    "        real_copy.columns = pd.to_datetime(real_copy.columns)\n",
    "    except:\n",
    "        pass\n",
    "\n",
    "    # 2) Build a unified column index across real + all preds\n",
    "    all_cols = real_copy.columns\n",
    "    for df in pred_dfs.values():\n",
    "        cols = df.columns\n",
    "        try:\n",
    "            cols = pd.to_datetime(cols)\n",
    "        except:\n",
    "            pass\n",
    "        all_cols = all_cols.union(cols)\n",
    "    all_cols = all_cols.sort_values()\n",
    "\n",
    "    # 3) Reindex real + each pred onto that same axis\n",
    "    real_copy = real_copy.reindex(columns=all_cols).sort_index(axis=1)\n",
    "    pred_copies = {\n",
    "        name: (\n",
    "            df.copy()\n",
    "            .pipe(\n",
    "                lambda d: (\n",
    "                    d.set_axis(pd.to_datetime(d.columns), axis=1, copy=False)\n",
    "                    if not pd.api.types.is_datetime64_any_dtype(d.columns)\n",
    "                    else d\n",
    "                )\n",
    "            )\n",
    "            .reindex(columns=all_cols)\n",
    "            .sort_index(axis=1)\n",
    "        )\n",
    "        for name, df in pred_dfs.items()\n",
    "    }\n",
    "\n",
    "    # 4) Loop over each series in real_copy\n",
    "    for series_id in real_copy.index:\n",
    "        fig = go.Figure()\n",
    "\n",
    "        # 4a) Plot the real data\n",
    "        fig.add_trace(\n",
    "            go.Scatter(\n",
    "                x=all_cols,\n",
    "                y=real_copy.loc[series_id],\n",
    "                mode=\"markers\",\n",
    "                name=\"Real\",\n",
    "                hovertemplate=\"<b>%{x|%Y-%m-%d}</b><br>Real: %{y:.2f}<extra></extra>\",\n",
    "            )\n",
    "        )\n",
    "\n",
    "        # 4b) Plot each prediction line (with optional error bars)\n",
    "        for name, pred_df in pred_copies.items():\n",
    "            y_pred = pred_df.loc[series_id]\n",
    "            trace_kwARGS = dict(\n",
    "                x=all_cols,\n",
    "                y=y_pred,\n",
    "                mode=\"lines+markers\",\n",
    "                name=name,\n",
    "                hovertemplate=f\"<b>%{{x|%Y-%m-%d}}</b><br>{name}: %{{y:.2f}}<extra></extra>\",\n",
    "            )\n",
    "\n",
    "            # add error_y if provided for this line & series\n",
    "            if (\n",
    "                std_errs[name][series_id]\n",
    "            ):\n",
    "                err_val = std_errs[name][series_id]\n",
    "                trace_kwARGS[\"error_y\"] = dict(\n",
    "                    type=\"data\",\n",
    "                    array=[err_val] * len(all_cols),\n",
    "                    visible=True,\n",
    "                    thickness=1.5,\n",
    "                    width=6,\n",
    "                )\n",
    "\n",
    "            fig.add_trace(go.Scatter(**trace_kwARGS))\n",
    "\n",
    "        # 4c) Highlight a “period” if requested\n",
    "        if highlight_period:\n",
    "            # find all columns whose string repr startswith highlight_period\n",
    "            mask = [str(col).startswith(highlight_period) for col in all_cols]\n",
    "            if any(mask):\n",
    "                x0 = all_cols[mask][0]\n",
    "                x1 = all_cols[mask][-1]\n",
    "                fig.add_shape(\n",
    "                    type=\"rect\",\n",
    "                    xref=\"x\",\n",
    "                    yref=\"paper\",\n",
    "                    x0=x0,\n",
    "                    y0=0,\n",
    "                    x1=x1,\n",
    "                    y1=1,\n",
    "                    fillcolor=\"LightSalmon\",\n",
    "                    opacity=0.3,\n",
    "                    line_width=0,\n",
    "                    layer=\"below\",\n",
    "                )\n",
    "\n",
    "        fig.update_layout(\n",
    "            title=f\"Series: {series_id}\",\n",
    "            xaxis_title=\"Time\",\n",
    "            yaxis_title=\"Value\",\n",
    "            legend=dict(title=\"Legend\"),\n",
    "        )\n",
    "        fig.show()\n",
    "\n",
    "    # Return the aligned copies in case you need them\n",
    "    return real_copy, pred_copies\n",
    "\n",
    "\n"
   ]
  },
  {
   "cell_type": "markdown",
   "metadata": {
    "id": "Ho9rajq8zXI6"
   },
   "source": [
    "# PLOT --- Hover Graph\n"
   ]
  },
  {
   "cell_type": "markdown",
   "metadata": {
    "id": "1zsHmX3-wVeH"
   },
   "source": [
    "**TODO:** Verificar a questão da sazonalidade. parece que no inicio do ano sempre há menor registro de atds"
   ]
  },
  {
   "cell_type": "code",
   "execution_count": 552,
   "metadata": {},
   "outputs": [
    {
     "data": {
      "application/vnd.plotly.v1+json": {
       "config": {
        "plotlyServerURL": "https://plot.ly"
       },
       "data": [
        {
         "hovertemplate": "<b>%{x|%Y-%m-%d}</b><br>Real: %{y:.2f}<extra></extra>",
         "mode": "markers",
         "name": "Real",
         "type": "scatter",
         "x": [
          "2016-03-31T00:00:00",
          "2016-06-30T00:00:00",
          "2016-09-30T00:00:00",
          "2016-12-31T00:00:00",
          "2017-03-31T00:00:00",
          "2017-06-30T00:00:00",
          "2017-09-30T00:00:00",
          "2017-12-31T00:00:00",
          "2018-03-31T00:00:00",
          "2018-06-30T00:00:00",
          "2018-09-30T00:00:00",
          "2018-12-31T00:00:00",
          "2019-03-31T00:00:00",
          "2019-06-30T00:00:00",
          "2019-09-30T00:00:00",
          "2019-12-31T00:00:00",
          "2020-03-31T00:00:00",
          "2020-06-30T00:00:00",
          "2020-09-30T00:00:00",
          "2020-12-31T00:00:00",
          "2021-03-31T00:00:00",
          "2021-06-30T00:00:00",
          "2021-09-30T00:00:00",
          "2021-12-31T00:00:00",
          "2022-03-31T00:00:00",
          "2022-06-30T00:00:00"
         ],
         "y": [
          431,
          516,
          663,
          600,
          604,
          696,
          592,
          611,
          604,
          734,
          703,
          729,
          753,
          701,
          693,
          634,
          640,
          615,
          729,
          788,
          755,
          922,
          1128,
          1028,
          903,
          1113
         ]
        },
        {
         "error_y": {
          "array": [
           5.320355798667719,
           5.320355798667719,
           5.320355798667719,
           5.320355798667719,
           5.320355798667719,
           5.320355798667719,
           5.320355798667719,
           5.320355798667719,
           5.320355798667719,
           5.320355798667719,
           5.320355798667719,
           5.320355798667719,
           5.320355798667719,
           5.320355798667719,
           5.320355798667719,
           5.320355798667719,
           5.320355798667719,
           5.320355798667719,
           5.320355798667719,
           5.320355798667719,
           5.320355798667719,
           5.320355798667719,
           5.320355798667719,
           5.320355798667719,
           5.320355798667719,
           5.320355798667719
          ],
          "thickness": 1.5,
          "type": "data",
          "visible": true,
          "width": 6
         },
         "hovertemplate": "<b>%{x|%Y-%m-%d}</b><br>Total: %{y:.2f}<extra></extra>",
         "mode": "lines+markers",
         "name": "Total",
         "type": "scatter",
         "x": [
          "2016-03-31T00:00:00",
          "2016-06-30T00:00:00",
          "2016-09-30T00:00:00",
          "2016-12-31T00:00:00",
          "2017-03-31T00:00:00",
          "2017-06-30T00:00:00",
          "2017-09-30T00:00:00",
          "2017-12-31T00:00:00",
          "2018-03-31T00:00:00",
          "2018-06-30T00:00:00",
          "2018-09-30T00:00:00",
          "2018-12-31T00:00:00",
          "2019-03-31T00:00:00",
          "2019-06-30T00:00:00",
          "2019-09-30T00:00:00",
          "2019-12-31T00:00:00",
          "2020-03-31T00:00:00",
          "2020-06-30T00:00:00",
          "2020-09-30T00:00:00",
          "2020-12-31T00:00:00",
          "2021-03-31T00:00:00",
          "2021-06-30T00:00:00",
          "2021-09-30T00:00:00",
          "2021-12-31T00:00:00",
          "2022-03-31T00:00:00",
          "2022-06-30T00:00:00"
         ],
         "y": [
          545.4125511984709,
          559.1467779476566,
          572.8810046968422,
          586.6152314460278,
          600.3494581952134,
          614.0836849443991,
          627.8179116935847,
          641.5521384427703,
          655.286365191956,
          669.0205919411417,
          682.7548186903273,
          696.4890454395129,
          710.2232721886985,
          723.9574989378842,
          737.6917256870698,
          751.4259524362554,
          765.1601791854412,
          778.8944059346268,
          792.6286326838124,
          806.362859432998,
          820.0970861821836,
          833.8313129313693,
          847.5655396805549,
          861.2997664297407,
          875.0339931789263,
          888.7682199281119
         ]
        }
       ],
       "layout": {
        "legend": {
         "title": {
          "text": "Legend"
         }
        },
        "shapes": [
         {
          "fillcolor": "LightSalmon",
          "layer": "below",
          "line": {
           "width": 0
          },
          "opacity": 0.3,
          "type": "rect",
          "x0": "2020-03-31T00:00:00",
          "x1": "2020-12-31T00:00:00",
          "xref": "x",
          "y0": 0,
          "y1": 1,
          "yref": "paper"
         }
        ],
        "template": {
         "data": {
          "bar": [
           {
            "error_x": {
             "color": "#2a3f5f"
            },
            "error_y": {
             "color": "#2a3f5f"
            },
            "marker": {
             "line": {
              "color": "#E5ECF6",
              "width": 0.5
             },
             "pattern": {
              "fillmode": "overlay",
              "size": 10,
              "solidity": 0.2
             }
            },
            "type": "bar"
           }
          ],
          "barpolar": [
           {
            "marker": {
             "line": {
              "color": "#E5ECF6",
              "width": 0.5
             },
             "pattern": {
              "fillmode": "overlay",
              "size": 10,
              "solidity": 0.2
             }
            },
            "type": "barpolar"
           }
          ],
          "carpet": [
           {
            "aaxis": {
             "endlinecolor": "#2a3f5f",
             "gridcolor": "white",
             "linecolor": "white",
             "minorgridcolor": "white",
             "startlinecolor": "#2a3f5f"
            },
            "baxis": {
             "endlinecolor": "#2a3f5f",
             "gridcolor": "white",
             "linecolor": "white",
             "minorgridcolor": "white",
             "startlinecolor": "#2a3f5f"
            },
            "type": "carpet"
           }
          ],
          "choropleth": [
           {
            "colorbar": {
             "outlinewidth": 0,
             "ticks": ""
            },
            "type": "choropleth"
           }
          ],
          "contour": [
           {
            "colorbar": {
             "outlinewidth": 0,
             "ticks": ""
            },
            "colorscale": [
             [
              0,
              "#0d0887"
             ],
             [
              0.1111111111111111,
              "#46039f"
             ],
             [
              0.2222222222222222,
              "#7201a8"
             ],
             [
              0.3333333333333333,
              "#9c179e"
             ],
             [
              0.4444444444444444,
              "#bd3786"
             ],
             [
              0.5555555555555556,
              "#d8576b"
             ],
             [
              0.6666666666666666,
              "#ed7953"
             ],
             [
              0.7777777777777778,
              "#fb9f3a"
             ],
             [
              0.8888888888888888,
              "#fdca26"
             ],
             [
              1,
              "#f0f921"
             ]
            ],
            "type": "contour"
           }
          ],
          "contourcarpet": [
           {
            "colorbar": {
             "outlinewidth": 0,
             "ticks": ""
            },
            "type": "contourcarpet"
           }
          ],
          "heatmap": [
           {
            "colorbar": {
             "outlinewidth": 0,
             "ticks": ""
            },
            "colorscale": [
             [
              0,
              "#0d0887"
             ],
             [
              0.1111111111111111,
              "#46039f"
             ],
             [
              0.2222222222222222,
              "#7201a8"
             ],
             [
              0.3333333333333333,
              "#9c179e"
             ],
             [
              0.4444444444444444,
              "#bd3786"
             ],
             [
              0.5555555555555556,
              "#d8576b"
             ],
             [
              0.6666666666666666,
              "#ed7953"
             ],
             [
              0.7777777777777778,
              "#fb9f3a"
             ],
             [
              0.8888888888888888,
              "#fdca26"
             ],
             [
              1,
              "#f0f921"
             ]
            ],
            "type": "heatmap"
           }
          ],
          "heatmapgl": [
           {
            "colorbar": {
             "outlinewidth": 0,
             "ticks": ""
            },
            "colorscale": [
             [
              0,
              "#0d0887"
             ],
             [
              0.1111111111111111,
              "#46039f"
             ],
             [
              0.2222222222222222,
              "#7201a8"
             ],
             [
              0.3333333333333333,
              "#9c179e"
             ],
             [
              0.4444444444444444,
              "#bd3786"
             ],
             [
              0.5555555555555556,
              "#d8576b"
             ],
             [
              0.6666666666666666,
              "#ed7953"
             ],
             [
              0.7777777777777778,
              "#fb9f3a"
             ],
             [
              0.8888888888888888,
              "#fdca26"
             ],
             [
              1,
              "#f0f921"
             ]
            ],
            "type": "heatmapgl"
           }
          ],
          "histogram": [
           {
            "marker": {
             "pattern": {
              "fillmode": "overlay",
              "size": 10,
              "solidity": 0.2
             }
            },
            "type": "histogram"
           }
          ],
          "histogram2d": [
           {
            "colorbar": {
             "outlinewidth": 0,
             "ticks": ""
            },
            "colorscale": [
             [
              0,
              "#0d0887"
             ],
             [
              0.1111111111111111,
              "#46039f"
             ],
             [
              0.2222222222222222,
              "#7201a8"
             ],
             [
              0.3333333333333333,
              "#9c179e"
             ],
             [
              0.4444444444444444,
              "#bd3786"
             ],
             [
              0.5555555555555556,
              "#d8576b"
             ],
             [
              0.6666666666666666,
              "#ed7953"
             ],
             [
              0.7777777777777778,
              "#fb9f3a"
             ],
             [
              0.8888888888888888,
              "#fdca26"
             ],
             [
              1,
              "#f0f921"
             ]
            ],
            "type": "histogram2d"
           }
          ],
          "histogram2dcontour": [
           {
            "colorbar": {
             "outlinewidth": 0,
             "ticks": ""
            },
            "colorscale": [
             [
              0,
              "#0d0887"
             ],
             [
              0.1111111111111111,
              "#46039f"
             ],
             [
              0.2222222222222222,
              "#7201a8"
             ],
             [
              0.3333333333333333,
              "#9c179e"
             ],
             [
              0.4444444444444444,
              "#bd3786"
             ],
             [
              0.5555555555555556,
              "#d8576b"
             ],
             [
              0.6666666666666666,
              "#ed7953"
             ],
             [
              0.7777777777777778,
              "#fb9f3a"
             ],
             [
              0.8888888888888888,
              "#fdca26"
             ],
             [
              1,
              "#f0f921"
             ]
            ],
            "type": "histogram2dcontour"
           }
          ],
          "mesh3d": [
           {
            "colorbar": {
             "outlinewidth": 0,
             "ticks": ""
            },
            "type": "mesh3d"
           }
          ],
          "parcoords": [
           {
            "line": {
             "colorbar": {
              "outlinewidth": 0,
              "ticks": ""
             }
            },
            "type": "parcoords"
           }
          ],
          "pie": [
           {
            "automargin": true,
            "type": "pie"
           }
          ],
          "scatter": [
           {
            "fillpattern": {
             "fillmode": "overlay",
             "size": 10,
             "solidity": 0.2
            },
            "type": "scatter"
           }
          ],
          "scatter3d": [
           {
            "line": {
             "colorbar": {
              "outlinewidth": 0,
              "ticks": ""
             }
            },
            "marker": {
             "colorbar": {
              "outlinewidth": 0,
              "ticks": ""
             }
            },
            "type": "scatter3d"
           }
          ],
          "scattercarpet": [
           {
            "marker": {
             "colorbar": {
              "outlinewidth": 0,
              "ticks": ""
             }
            },
            "type": "scattercarpet"
           }
          ],
          "scattergeo": [
           {
            "marker": {
             "colorbar": {
              "outlinewidth": 0,
              "ticks": ""
             }
            },
            "type": "scattergeo"
           }
          ],
          "scattergl": [
           {
            "marker": {
             "colorbar": {
              "outlinewidth": 0,
              "ticks": ""
             }
            },
            "type": "scattergl"
           }
          ],
          "scattermapbox": [
           {
            "marker": {
             "colorbar": {
              "outlinewidth": 0,
              "ticks": ""
             }
            },
            "type": "scattermapbox"
           }
          ],
          "scatterpolar": [
           {
            "marker": {
             "colorbar": {
              "outlinewidth": 0,
              "ticks": ""
             }
            },
            "type": "scatterpolar"
           }
          ],
          "scatterpolargl": [
           {
            "marker": {
             "colorbar": {
              "outlinewidth": 0,
              "ticks": ""
             }
            },
            "type": "scatterpolargl"
           }
          ],
          "scatterternary": [
           {
            "marker": {
             "colorbar": {
              "outlinewidth": 0,
              "ticks": ""
             }
            },
            "type": "scatterternary"
           }
          ],
          "surface": [
           {
            "colorbar": {
             "outlinewidth": 0,
             "ticks": ""
            },
            "colorscale": [
             [
              0,
              "#0d0887"
             ],
             [
              0.1111111111111111,
              "#46039f"
             ],
             [
              0.2222222222222222,
              "#7201a8"
             ],
             [
              0.3333333333333333,
              "#9c179e"
             ],
             [
              0.4444444444444444,
              "#bd3786"
             ],
             [
              0.5555555555555556,
              "#d8576b"
             ],
             [
              0.6666666666666666,
              "#ed7953"
             ],
             [
              0.7777777777777778,
              "#fb9f3a"
             ],
             [
              0.8888888888888888,
              "#fdca26"
             ],
             [
              1,
              "#f0f921"
             ]
            ],
            "type": "surface"
           }
          ],
          "table": [
           {
            "cells": {
             "fill": {
              "color": "#EBF0F8"
             },
             "line": {
              "color": "white"
             }
            },
            "header": {
             "fill": {
              "color": "#C8D4E3"
             },
             "line": {
              "color": "white"
             }
            },
            "type": "table"
           }
          ]
         },
         "layout": {
          "annotationdefaults": {
           "arrowcolor": "#2a3f5f",
           "arrowhead": 0,
           "arrowwidth": 1
          },
          "autotypenumbers": "strict",
          "coloraxis": {
           "colorbar": {
            "outlinewidth": 0,
            "ticks": ""
           }
          },
          "colorscale": {
           "diverging": [
            [
             0,
             "#8e0152"
            ],
            [
             0.1,
             "#c51b7d"
            ],
            [
             0.2,
             "#de77ae"
            ],
            [
             0.3,
             "#f1b6da"
            ],
            [
             0.4,
             "#fde0ef"
            ],
            [
             0.5,
             "#f7f7f7"
            ],
            [
             0.6,
             "#e6f5d0"
            ],
            [
             0.7,
             "#b8e186"
            ],
            [
             0.8,
             "#7fbc41"
            ],
            [
             0.9,
             "#4d9221"
            ],
            [
             1,
             "#276419"
            ]
           ],
           "sequential": [
            [
             0,
             "#0d0887"
            ],
            [
             0.1111111111111111,
             "#46039f"
            ],
            [
             0.2222222222222222,
             "#7201a8"
            ],
            [
             0.3333333333333333,
             "#9c179e"
            ],
            [
             0.4444444444444444,
             "#bd3786"
            ],
            [
             0.5555555555555556,
             "#d8576b"
            ],
            [
             0.6666666666666666,
             "#ed7953"
            ],
            [
             0.7777777777777778,
             "#fb9f3a"
            ],
            [
             0.8888888888888888,
             "#fdca26"
            ],
            [
             1,
             "#f0f921"
            ]
           ],
           "sequentialminus": [
            [
             0,
             "#0d0887"
            ],
            [
             0.1111111111111111,
             "#46039f"
            ],
            [
             0.2222222222222222,
             "#7201a8"
            ],
            [
             0.3333333333333333,
             "#9c179e"
            ],
            [
             0.4444444444444444,
             "#bd3786"
            ],
            [
             0.5555555555555556,
             "#d8576b"
            ],
            [
             0.6666666666666666,
             "#ed7953"
            ],
            [
             0.7777777777777778,
             "#fb9f3a"
            ],
            [
             0.8888888888888888,
             "#fdca26"
            ],
            [
             1,
             "#f0f921"
            ]
           ]
          },
          "colorway": [
           "#636efa",
           "#EF553B",
           "#00cc96",
           "#ab63fa",
           "#FFA15A",
           "#19d3f3",
           "#FF6692",
           "#B6E880",
           "#FF97FF",
           "#FECB52"
          ],
          "font": {
           "color": "#2a3f5f"
          },
          "geo": {
           "bgcolor": "white",
           "lakecolor": "white",
           "landcolor": "#E5ECF6",
           "showlakes": true,
           "showland": true,
           "subunitcolor": "white"
          },
          "hoverlabel": {
           "align": "left"
          },
          "hovermode": "closest",
          "mapbox": {
           "style": "light"
          },
          "paper_bgcolor": "white",
          "plot_bgcolor": "#E5ECF6",
          "polar": {
           "angularaxis": {
            "gridcolor": "white",
            "linecolor": "white",
            "ticks": ""
           },
           "bgcolor": "#E5ECF6",
           "radialaxis": {
            "gridcolor": "white",
            "linecolor": "white",
            "ticks": ""
           }
          },
          "scene": {
           "xaxis": {
            "backgroundcolor": "#E5ECF6",
            "gridcolor": "white",
            "gridwidth": 2,
            "linecolor": "white",
            "showbackground": true,
            "ticks": "",
            "zerolinecolor": "white"
           },
           "yaxis": {
            "backgroundcolor": "#E5ECF6",
            "gridcolor": "white",
            "gridwidth": 2,
            "linecolor": "white",
            "showbackground": true,
            "ticks": "",
            "zerolinecolor": "white"
           },
           "zaxis": {
            "backgroundcolor": "#E5ECF6",
            "gridcolor": "white",
            "gridwidth": 2,
            "linecolor": "white",
            "showbackground": true,
            "ticks": "",
            "zerolinecolor": "white"
           }
          },
          "shapedefaults": {
           "line": {
            "color": "#2a3f5f"
           }
          },
          "ternary": {
           "aaxis": {
            "gridcolor": "white",
            "linecolor": "white",
            "ticks": ""
           },
           "baxis": {
            "gridcolor": "white",
            "linecolor": "white",
            "ticks": ""
           },
           "bgcolor": "#E5ECF6",
           "caxis": {
            "gridcolor": "white",
            "linecolor": "white",
            "ticks": ""
           }
          },
          "title": {
           "x": 0.05
          },
          "xaxis": {
           "automargin": true,
           "gridcolor": "white",
           "linecolor": "white",
           "ticks": "",
           "title": {
            "standoff": 15
           },
           "zerolinecolor": "white",
           "zerolinewidth": 2
          },
          "yaxis": {
           "automargin": true,
           "gridcolor": "white",
           "linecolor": "white",
           "ticks": "",
           "title": {
            "standoff": 15
           },
           "zerolinecolor": "white",
           "zerolinewidth": 2
          }
         }
        },
        "title": {
         "text": "Series: (F00 - F09) Transtornos mentais orgânicos, inclusive os sintomáticos"
        },
        "xaxis": {
         "title": {
          "text": "Time"
         }
        },
        "yaxis": {
         "title": {
          "text": "Value"
         }
        }
       }
      }
     },
     "metadata": {},
     "output_type": "display_data"
    },
    {
     "data": {
      "application/vnd.plotly.v1+json": {
       "config": {
        "plotlyServerURL": "https://plot.ly"
       },
       "data": [
        {
         "hovertemplate": "<b>%{x|%Y-%m-%d}</b><br>Real: %{y:.2f}<extra></extra>",
         "mode": "markers",
         "name": "Real",
         "type": "scatter",
         "x": [
          "2016-03-31T00:00:00",
          "2016-06-30T00:00:00",
          "2016-09-30T00:00:00",
          "2016-12-31T00:00:00",
          "2017-03-31T00:00:00",
          "2017-06-30T00:00:00",
          "2017-09-30T00:00:00",
          "2017-12-31T00:00:00",
          "2018-03-31T00:00:00",
          "2018-06-30T00:00:00",
          "2018-09-30T00:00:00",
          "2018-12-31T00:00:00",
          "2019-03-31T00:00:00",
          "2019-06-30T00:00:00",
          "2019-09-30T00:00:00",
          "2019-12-31T00:00:00",
          "2020-03-31T00:00:00",
          "2020-06-30T00:00:00",
          "2020-09-30T00:00:00",
          "2020-12-31T00:00:00",
          "2021-03-31T00:00:00",
          "2021-06-30T00:00:00",
          "2021-09-30T00:00:00",
          "2021-12-31T00:00:00",
          "2022-03-31T00:00:00",
          "2022-06-30T00:00:00"
         ],
         "y": [
          448,
          608,
          670,
          737,
          666,
          737,
          797,
          622,
          628,
          885,
          924,
          839,
          634,
          778,
          732,
          625,
          563,
          677,
          902,
          1156,
          1123,
          1159,
          1251,
          1214,
          1053,
          1186
         ]
        },
        {
         "error_y": {
          "array": [
           3.610388139509541,
           3.610388139509541,
           3.610388139509541,
           3.610388139509541,
           3.610388139509541,
           3.610388139509541,
           3.610388139509541,
           3.610388139509541,
           3.610388139509541,
           3.610388139509541,
           3.610388139509541,
           3.610388139509541,
           3.610388139509541,
           3.610388139509541,
           3.610388139509541,
           3.610388139509541,
           3.610388139509541,
           3.610388139509541,
           3.610388139509541,
           3.610388139509541,
           3.610388139509541,
           3.610388139509541,
           3.610388139509541,
           3.610388139509541,
           3.610388139509541,
           3.610388139509541
          ],
          "thickness": 1.5,
          "type": "data",
          "visible": true,
          "width": 6
         },
         "hovertemplate": "<b>%{x|%Y-%m-%d}</b><br>Total: %{y:.2f}<extra></extra>",
         "mode": "lines+markers",
         "name": "Total",
         "type": "scatter",
         "x": [
          "2016-03-31T00:00:00",
          "2016-06-30T00:00:00",
          "2016-09-30T00:00:00",
          "2016-12-31T00:00:00",
          "2017-03-31T00:00:00",
          "2017-06-30T00:00:00",
          "2017-09-30T00:00:00",
          "2017-12-31T00:00:00",
          "2018-03-31T00:00:00",
          "2018-06-30T00:00:00",
          "2018-09-30T00:00:00",
          "2018-12-31T00:00:00",
          "2019-03-31T00:00:00",
          "2019-06-30T00:00:00",
          "2019-09-30T00:00:00",
          "2019-12-31T00:00:00",
          "2020-03-31T00:00:00",
          "2020-06-30T00:00:00",
          "2020-09-30T00:00:00",
          "2020-12-31T00:00:00",
          "2021-03-31T00:00:00",
          "2021-06-30T00:00:00",
          "2021-09-30T00:00:00",
          "2021-12-31T00:00:00",
          "2022-03-31T00:00:00",
          "2022-06-30T00:00:00"
         ],
         "y": [
          671.6638481924209,
          678.6058641134231,
          685.5478800344252,
          692.4898959554273,
          699.4319118764295,
          706.3739277974316,
          713.3159437184338,
          720.257959639436,
          727.1999755604381,
          734.1419914814403,
          741.0840074024424,
          748.0260233234445,
          754.9680392444467,
          761.9100551654489,
          768.852071086451,
          775.7940870074532,
          782.7361029284552,
          789.6781188494574,
          796.6201347704596,
          803.5621506914617,
          810.5041666124639,
          817.4461825334661,
          824.3881984544682,
          831.3302143754704,
          838.2722302964725,
          845.2142462174746
         ]
        }
       ],
       "layout": {
        "legend": {
         "title": {
          "text": "Legend"
         }
        },
        "shapes": [
         {
          "fillcolor": "LightSalmon",
          "layer": "below",
          "line": {
           "width": 0
          },
          "opacity": 0.3,
          "type": "rect",
          "x0": "2020-03-31T00:00:00",
          "x1": "2020-12-31T00:00:00",
          "xref": "x",
          "y0": 0,
          "y1": 1,
          "yref": "paper"
         }
        ],
        "template": {
         "data": {
          "bar": [
           {
            "error_x": {
             "color": "#2a3f5f"
            },
            "error_y": {
             "color": "#2a3f5f"
            },
            "marker": {
             "line": {
              "color": "#E5ECF6",
              "width": 0.5
             },
             "pattern": {
              "fillmode": "overlay",
              "size": 10,
              "solidity": 0.2
             }
            },
            "type": "bar"
           }
          ],
          "barpolar": [
           {
            "marker": {
             "line": {
              "color": "#E5ECF6",
              "width": 0.5
             },
             "pattern": {
              "fillmode": "overlay",
              "size": 10,
              "solidity": 0.2
             }
            },
            "type": "barpolar"
           }
          ],
          "carpet": [
           {
            "aaxis": {
             "endlinecolor": "#2a3f5f",
             "gridcolor": "white",
             "linecolor": "white",
             "minorgridcolor": "white",
             "startlinecolor": "#2a3f5f"
            },
            "baxis": {
             "endlinecolor": "#2a3f5f",
             "gridcolor": "white",
             "linecolor": "white",
             "minorgridcolor": "white",
             "startlinecolor": "#2a3f5f"
            },
            "type": "carpet"
           }
          ],
          "choropleth": [
           {
            "colorbar": {
             "outlinewidth": 0,
             "ticks": ""
            },
            "type": "choropleth"
           }
          ],
          "contour": [
           {
            "colorbar": {
             "outlinewidth": 0,
             "ticks": ""
            },
            "colorscale": [
             [
              0,
              "#0d0887"
             ],
             [
              0.1111111111111111,
              "#46039f"
             ],
             [
              0.2222222222222222,
              "#7201a8"
             ],
             [
              0.3333333333333333,
              "#9c179e"
             ],
             [
              0.4444444444444444,
              "#bd3786"
             ],
             [
              0.5555555555555556,
              "#d8576b"
             ],
             [
              0.6666666666666666,
              "#ed7953"
             ],
             [
              0.7777777777777778,
              "#fb9f3a"
             ],
             [
              0.8888888888888888,
              "#fdca26"
             ],
             [
              1,
              "#f0f921"
             ]
            ],
            "type": "contour"
           }
          ],
          "contourcarpet": [
           {
            "colorbar": {
             "outlinewidth": 0,
             "ticks": ""
            },
            "type": "contourcarpet"
           }
          ],
          "heatmap": [
           {
            "colorbar": {
             "outlinewidth": 0,
             "ticks": ""
            },
            "colorscale": [
             [
              0,
              "#0d0887"
             ],
             [
              0.1111111111111111,
              "#46039f"
             ],
             [
              0.2222222222222222,
              "#7201a8"
             ],
             [
              0.3333333333333333,
              "#9c179e"
             ],
             [
              0.4444444444444444,
              "#bd3786"
             ],
             [
              0.5555555555555556,
              "#d8576b"
             ],
             [
              0.6666666666666666,
              "#ed7953"
             ],
             [
              0.7777777777777778,
              "#fb9f3a"
             ],
             [
              0.8888888888888888,
              "#fdca26"
             ],
             [
              1,
              "#f0f921"
             ]
            ],
            "type": "heatmap"
           }
          ],
          "heatmapgl": [
           {
            "colorbar": {
             "outlinewidth": 0,
             "ticks": ""
            },
            "colorscale": [
             [
              0,
              "#0d0887"
             ],
             [
              0.1111111111111111,
              "#46039f"
             ],
             [
              0.2222222222222222,
              "#7201a8"
             ],
             [
              0.3333333333333333,
              "#9c179e"
             ],
             [
              0.4444444444444444,
              "#bd3786"
             ],
             [
              0.5555555555555556,
              "#d8576b"
             ],
             [
              0.6666666666666666,
              "#ed7953"
             ],
             [
              0.7777777777777778,
              "#fb9f3a"
             ],
             [
              0.8888888888888888,
              "#fdca26"
             ],
             [
              1,
              "#f0f921"
             ]
            ],
            "type": "heatmapgl"
           }
          ],
          "histogram": [
           {
            "marker": {
             "pattern": {
              "fillmode": "overlay",
              "size": 10,
              "solidity": 0.2
             }
            },
            "type": "histogram"
           }
          ],
          "histogram2d": [
           {
            "colorbar": {
             "outlinewidth": 0,
             "ticks": ""
            },
            "colorscale": [
             [
              0,
              "#0d0887"
             ],
             [
              0.1111111111111111,
              "#46039f"
             ],
             [
              0.2222222222222222,
              "#7201a8"
             ],
             [
              0.3333333333333333,
              "#9c179e"
             ],
             [
              0.4444444444444444,
              "#bd3786"
             ],
             [
              0.5555555555555556,
              "#d8576b"
             ],
             [
              0.6666666666666666,
              "#ed7953"
             ],
             [
              0.7777777777777778,
              "#fb9f3a"
             ],
             [
              0.8888888888888888,
              "#fdca26"
             ],
             [
              1,
              "#f0f921"
             ]
            ],
            "type": "histogram2d"
           }
          ],
          "histogram2dcontour": [
           {
            "colorbar": {
             "outlinewidth": 0,
             "ticks": ""
            },
            "colorscale": [
             [
              0,
              "#0d0887"
             ],
             [
              0.1111111111111111,
              "#46039f"
             ],
             [
              0.2222222222222222,
              "#7201a8"
             ],
             [
              0.3333333333333333,
              "#9c179e"
             ],
             [
              0.4444444444444444,
              "#bd3786"
             ],
             [
              0.5555555555555556,
              "#d8576b"
             ],
             [
              0.6666666666666666,
              "#ed7953"
             ],
             [
              0.7777777777777778,
              "#fb9f3a"
             ],
             [
              0.8888888888888888,
              "#fdca26"
             ],
             [
              1,
              "#f0f921"
             ]
            ],
            "type": "histogram2dcontour"
           }
          ],
          "mesh3d": [
           {
            "colorbar": {
             "outlinewidth": 0,
             "ticks": ""
            },
            "type": "mesh3d"
           }
          ],
          "parcoords": [
           {
            "line": {
             "colorbar": {
              "outlinewidth": 0,
              "ticks": ""
             }
            },
            "type": "parcoords"
           }
          ],
          "pie": [
           {
            "automargin": true,
            "type": "pie"
           }
          ],
          "scatter": [
           {
            "fillpattern": {
             "fillmode": "overlay",
             "size": 10,
             "solidity": 0.2
            },
            "type": "scatter"
           }
          ],
          "scatter3d": [
           {
            "line": {
             "colorbar": {
              "outlinewidth": 0,
              "ticks": ""
             }
            },
            "marker": {
             "colorbar": {
              "outlinewidth": 0,
              "ticks": ""
             }
            },
            "type": "scatter3d"
           }
          ],
          "scattercarpet": [
           {
            "marker": {
             "colorbar": {
              "outlinewidth": 0,
              "ticks": ""
             }
            },
            "type": "scattercarpet"
           }
          ],
          "scattergeo": [
           {
            "marker": {
             "colorbar": {
              "outlinewidth": 0,
              "ticks": ""
             }
            },
            "type": "scattergeo"
           }
          ],
          "scattergl": [
           {
            "marker": {
             "colorbar": {
              "outlinewidth": 0,
              "ticks": ""
             }
            },
            "type": "scattergl"
           }
          ],
          "scattermapbox": [
           {
            "marker": {
             "colorbar": {
              "outlinewidth": 0,
              "ticks": ""
             }
            },
            "type": "scattermapbox"
           }
          ],
          "scatterpolar": [
           {
            "marker": {
             "colorbar": {
              "outlinewidth": 0,
              "ticks": ""
             }
            },
            "type": "scatterpolar"
           }
          ],
          "scatterpolargl": [
           {
            "marker": {
             "colorbar": {
              "outlinewidth": 0,
              "ticks": ""
             }
            },
            "type": "scatterpolargl"
           }
          ],
          "scatterternary": [
           {
            "marker": {
             "colorbar": {
              "outlinewidth": 0,
              "ticks": ""
             }
            },
            "type": "scatterternary"
           }
          ],
          "surface": [
           {
            "colorbar": {
             "outlinewidth": 0,
             "ticks": ""
            },
            "colorscale": [
             [
              0,
              "#0d0887"
             ],
             [
              0.1111111111111111,
              "#46039f"
             ],
             [
              0.2222222222222222,
              "#7201a8"
             ],
             [
              0.3333333333333333,
              "#9c179e"
             ],
             [
              0.4444444444444444,
              "#bd3786"
             ],
             [
              0.5555555555555556,
              "#d8576b"
             ],
             [
              0.6666666666666666,
              "#ed7953"
             ],
             [
              0.7777777777777778,
              "#fb9f3a"
             ],
             [
              0.8888888888888888,
              "#fdca26"
             ],
             [
              1,
              "#f0f921"
             ]
            ],
            "type": "surface"
           }
          ],
          "table": [
           {
            "cells": {
             "fill": {
              "color": "#EBF0F8"
             },
             "line": {
              "color": "white"
             }
            },
            "header": {
             "fill": {
              "color": "#C8D4E3"
             },
             "line": {
              "color": "white"
             }
            },
            "type": "table"
           }
          ]
         },
         "layout": {
          "annotationdefaults": {
           "arrowcolor": "#2a3f5f",
           "arrowhead": 0,
           "arrowwidth": 1
          },
          "autotypenumbers": "strict",
          "coloraxis": {
           "colorbar": {
            "outlinewidth": 0,
            "ticks": ""
           }
          },
          "colorscale": {
           "diverging": [
            [
             0,
             "#8e0152"
            ],
            [
             0.1,
             "#c51b7d"
            ],
            [
             0.2,
             "#de77ae"
            ],
            [
             0.3,
             "#f1b6da"
            ],
            [
             0.4,
             "#fde0ef"
            ],
            [
             0.5,
             "#f7f7f7"
            ],
            [
             0.6,
             "#e6f5d0"
            ],
            [
             0.7,
             "#b8e186"
            ],
            [
             0.8,
             "#7fbc41"
            ],
            [
             0.9,
             "#4d9221"
            ],
            [
             1,
             "#276419"
            ]
           ],
           "sequential": [
            [
             0,
             "#0d0887"
            ],
            [
             0.1111111111111111,
             "#46039f"
            ],
            [
             0.2222222222222222,
             "#7201a8"
            ],
            [
             0.3333333333333333,
             "#9c179e"
            ],
            [
             0.4444444444444444,
             "#bd3786"
            ],
            [
             0.5555555555555556,
             "#d8576b"
            ],
            [
             0.6666666666666666,
             "#ed7953"
            ],
            [
             0.7777777777777778,
             "#fb9f3a"
            ],
            [
             0.8888888888888888,
             "#fdca26"
            ],
            [
             1,
             "#f0f921"
            ]
           ],
           "sequentialminus": [
            [
             0,
             "#0d0887"
            ],
            [
             0.1111111111111111,
             "#46039f"
            ],
            [
             0.2222222222222222,
             "#7201a8"
            ],
            [
             0.3333333333333333,
             "#9c179e"
            ],
            [
             0.4444444444444444,
             "#bd3786"
            ],
            [
             0.5555555555555556,
             "#d8576b"
            ],
            [
             0.6666666666666666,
             "#ed7953"
            ],
            [
             0.7777777777777778,
             "#fb9f3a"
            ],
            [
             0.8888888888888888,
             "#fdca26"
            ],
            [
             1,
             "#f0f921"
            ]
           ]
          },
          "colorway": [
           "#636efa",
           "#EF553B",
           "#00cc96",
           "#ab63fa",
           "#FFA15A",
           "#19d3f3",
           "#FF6692",
           "#B6E880",
           "#FF97FF",
           "#FECB52"
          ],
          "font": {
           "color": "#2a3f5f"
          },
          "geo": {
           "bgcolor": "white",
           "lakecolor": "white",
           "landcolor": "#E5ECF6",
           "showlakes": true,
           "showland": true,
           "subunitcolor": "white"
          },
          "hoverlabel": {
           "align": "left"
          },
          "hovermode": "closest",
          "mapbox": {
           "style": "light"
          },
          "paper_bgcolor": "white",
          "plot_bgcolor": "#E5ECF6",
          "polar": {
           "angularaxis": {
            "gridcolor": "white",
            "linecolor": "white",
            "ticks": ""
           },
           "bgcolor": "#E5ECF6",
           "radialaxis": {
            "gridcolor": "white",
            "linecolor": "white",
            "ticks": ""
           }
          },
          "scene": {
           "xaxis": {
            "backgroundcolor": "#E5ECF6",
            "gridcolor": "white",
            "gridwidth": 2,
            "linecolor": "white",
            "showbackground": true,
            "ticks": "",
            "zerolinecolor": "white"
           },
           "yaxis": {
            "backgroundcolor": "#E5ECF6",
            "gridcolor": "white",
            "gridwidth": 2,
            "linecolor": "white",
            "showbackground": true,
            "ticks": "",
            "zerolinecolor": "white"
           },
           "zaxis": {
            "backgroundcolor": "#E5ECF6",
            "gridcolor": "white",
            "gridwidth": 2,
            "linecolor": "white",
            "showbackground": true,
            "ticks": "",
            "zerolinecolor": "white"
           }
          },
          "shapedefaults": {
           "line": {
            "color": "#2a3f5f"
           }
          },
          "ternary": {
           "aaxis": {
            "gridcolor": "white",
            "linecolor": "white",
            "ticks": ""
           },
           "baxis": {
            "gridcolor": "white",
            "linecolor": "white",
            "ticks": ""
           },
           "bgcolor": "#E5ECF6",
           "caxis": {
            "gridcolor": "white",
            "linecolor": "white",
            "ticks": ""
           }
          },
          "title": {
           "x": 0.05
          },
          "xaxis": {
           "automargin": true,
           "gridcolor": "white",
           "linecolor": "white",
           "ticks": "",
           "title": {
            "standoff": 15
           },
           "zerolinecolor": "white",
           "zerolinewidth": 2
          },
          "yaxis": {
           "automargin": true,
           "gridcolor": "white",
           "linecolor": "white",
           "ticks": "",
           "title": {
            "standoff": 15
           },
           "zerolinecolor": "white",
           "zerolinewidth": 2
          }
         }
        },
        "title": {
         "text": "Series: (F10 - F19) Transtornos mentais e comportamentais devidos ao uso de substância psicoativa"
        },
        "xaxis": {
         "title": {
          "text": "Time"
         }
        },
        "yaxis": {
         "title": {
          "text": "Value"
         }
        }
       }
      }
     },
     "metadata": {},
     "output_type": "display_data"
    },
    {
     "data": {
      "application/vnd.plotly.v1+json": {
       "config": {
        "plotlyServerURL": "https://plot.ly"
       },
       "data": [
        {
         "hovertemplate": "<b>%{x|%Y-%m-%d}</b><br>Real: %{y:.2f}<extra></extra>",
         "mode": "markers",
         "name": "Real",
         "type": "scatter",
         "x": [
          "2016-03-31T00:00:00",
          "2016-06-30T00:00:00",
          "2016-09-30T00:00:00",
          "2016-12-31T00:00:00",
          "2017-03-31T00:00:00",
          "2017-06-30T00:00:00",
          "2017-09-30T00:00:00",
          "2017-12-31T00:00:00",
          "2018-03-31T00:00:00",
          "2018-06-30T00:00:00",
          "2018-09-30T00:00:00",
          "2018-12-31T00:00:00",
          "2019-03-31T00:00:00",
          "2019-06-30T00:00:00",
          "2019-09-30T00:00:00",
          "2019-12-31T00:00:00",
          "2020-03-31T00:00:00",
          "2020-06-30T00:00:00",
          "2020-09-30T00:00:00",
          "2020-12-31T00:00:00",
          "2021-03-31T00:00:00",
          "2021-06-30T00:00:00",
          "2021-09-30T00:00:00",
          "2021-12-31T00:00:00",
          "2022-03-31T00:00:00",
          "2022-06-30T00:00:00"
         ],
         "y": [
          1111,
          1396,
          1572,
          1446,
          1509,
          1503,
          1511,
          1324,
          1335,
          1495,
          1485,
          1433,
          1374,
          1456,
          1431,
          1264,
          1199,
          834,
          1042,
          1197,
          1141,
          1253,
          1380,
          1282,
          1130,
          1280
         ]
        },
        {
         "error_y": {
          "array": [
           3.1537404850056645,
           3.1537404850056645,
           3.1537404850056645,
           3.1537404850056645,
           3.1537404850056645,
           3.1537404850056645,
           3.1537404850056645,
           3.1537404850056645,
           3.1537404850056645,
           3.1537404850056645,
           3.1537404850056645,
           3.1537404850056645,
           3.1537404850056645,
           3.1537404850056645,
           3.1537404850056645,
           3.1537404850056645,
           3.1537404850056645,
           3.1537404850056645,
           3.1537404850056645,
           3.1537404850056645,
           3.1537404850056645,
           3.1537404850056645,
           3.1537404850056645,
           3.1537404850056645,
           3.1537404850056645,
           3.1537404850056645
          ],
          "thickness": 1.5,
          "type": "data",
          "visible": true,
          "width": 6
         },
         "hovertemplate": "<b>%{x|%Y-%m-%d}</b><br>Total: %{y:.2f}<extra></extra>",
         "mode": "lines+markers",
         "name": "Total",
         "type": "scatter",
         "x": [
          "2016-03-31T00:00:00",
          "2016-06-30T00:00:00",
          "2016-09-30T00:00:00",
          "2016-12-31T00:00:00",
          "2017-03-31T00:00:00",
          "2017-06-30T00:00:00",
          "2017-09-30T00:00:00",
          "2017-12-31T00:00:00",
          "2018-03-31T00:00:00",
          "2018-06-30T00:00:00",
          "2018-09-30T00:00:00",
          "2018-12-31T00:00:00",
          "2019-03-31T00:00:00",
          "2019-06-30T00:00:00",
          "2019-09-30T00:00:00",
          "2019-12-31T00:00:00",
          "2020-03-31T00:00:00",
          "2020-06-30T00:00:00",
          "2020-09-30T00:00:00",
          "2020-12-31T00:00:00",
          "2021-03-31T00:00:00",
          "2021-06-30T00:00:00",
          "2021-09-30T00:00:00",
          "2021-12-31T00:00:00",
          "2022-03-31T00:00:00",
          "2022-06-30T00:00:00"
         ],
         "y": [
          1480.175968273962,
          1474.6212172264625,
          1469.0664661789629,
          1463.5117151314632,
          1457.9569640839636,
          1452.402213036464,
          1446.8474619889644,
          1441.2927109414647,
          1435.7379598939651,
          1430.1832088464655,
          1424.6284577989659,
          1419.0737067514663,
          1413.5189557039666,
          1407.964204656467,
          1402.4094536089674,
          1396.8547025614678,
          1391.2999515139682,
          1385.7452004664685,
          1380.190449418969,
          1374.6356983714693,
          1369.0809473239697,
          1363.52619627647,
          1357.9714452289704,
          1352.4166941814708,
          1346.8619431339712,
          1341.3071920864716
         ]
        }
       ],
       "layout": {
        "legend": {
         "title": {
          "text": "Legend"
         }
        },
        "shapes": [
         {
          "fillcolor": "LightSalmon",
          "layer": "below",
          "line": {
           "width": 0
          },
          "opacity": 0.3,
          "type": "rect",
          "x0": "2020-03-31T00:00:00",
          "x1": "2020-12-31T00:00:00",
          "xref": "x",
          "y0": 0,
          "y1": 1,
          "yref": "paper"
         }
        ],
        "template": {
         "data": {
          "bar": [
           {
            "error_x": {
             "color": "#2a3f5f"
            },
            "error_y": {
             "color": "#2a3f5f"
            },
            "marker": {
             "line": {
              "color": "#E5ECF6",
              "width": 0.5
             },
             "pattern": {
              "fillmode": "overlay",
              "size": 10,
              "solidity": 0.2
             }
            },
            "type": "bar"
           }
          ],
          "barpolar": [
           {
            "marker": {
             "line": {
              "color": "#E5ECF6",
              "width": 0.5
             },
             "pattern": {
              "fillmode": "overlay",
              "size": 10,
              "solidity": 0.2
             }
            },
            "type": "barpolar"
           }
          ],
          "carpet": [
           {
            "aaxis": {
             "endlinecolor": "#2a3f5f",
             "gridcolor": "white",
             "linecolor": "white",
             "minorgridcolor": "white",
             "startlinecolor": "#2a3f5f"
            },
            "baxis": {
             "endlinecolor": "#2a3f5f",
             "gridcolor": "white",
             "linecolor": "white",
             "minorgridcolor": "white",
             "startlinecolor": "#2a3f5f"
            },
            "type": "carpet"
           }
          ],
          "choropleth": [
           {
            "colorbar": {
             "outlinewidth": 0,
             "ticks": ""
            },
            "type": "choropleth"
           }
          ],
          "contour": [
           {
            "colorbar": {
             "outlinewidth": 0,
             "ticks": ""
            },
            "colorscale": [
             [
              0,
              "#0d0887"
             ],
             [
              0.1111111111111111,
              "#46039f"
             ],
             [
              0.2222222222222222,
              "#7201a8"
             ],
             [
              0.3333333333333333,
              "#9c179e"
             ],
             [
              0.4444444444444444,
              "#bd3786"
             ],
             [
              0.5555555555555556,
              "#d8576b"
             ],
             [
              0.6666666666666666,
              "#ed7953"
             ],
             [
              0.7777777777777778,
              "#fb9f3a"
             ],
             [
              0.8888888888888888,
              "#fdca26"
             ],
             [
              1,
              "#f0f921"
             ]
            ],
            "type": "contour"
           }
          ],
          "contourcarpet": [
           {
            "colorbar": {
             "outlinewidth": 0,
             "ticks": ""
            },
            "type": "contourcarpet"
           }
          ],
          "heatmap": [
           {
            "colorbar": {
             "outlinewidth": 0,
             "ticks": ""
            },
            "colorscale": [
             [
              0,
              "#0d0887"
             ],
             [
              0.1111111111111111,
              "#46039f"
             ],
             [
              0.2222222222222222,
              "#7201a8"
             ],
             [
              0.3333333333333333,
              "#9c179e"
             ],
             [
              0.4444444444444444,
              "#bd3786"
             ],
             [
              0.5555555555555556,
              "#d8576b"
             ],
             [
              0.6666666666666666,
              "#ed7953"
             ],
             [
              0.7777777777777778,
              "#fb9f3a"
             ],
             [
              0.8888888888888888,
              "#fdca26"
             ],
             [
              1,
              "#f0f921"
             ]
            ],
            "type": "heatmap"
           }
          ],
          "heatmapgl": [
           {
            "colorbar": {
             "outlinewidth": 0,
             "ticks": ""
            },
            "colorscale": [
             [
              0,
              "#0d0887"
             ],
             [
              0.1111111111111111,
              "#46039f"
             ],
             [
              0.2222222222222222,
              "#7201a8"
             ],
             [
              0.3333333333333333,
              "#9c179e"
             ],
             [
              0.4444444444444444,
              "#bd3786"
             ],
             [
              0.5555555555555556,
              "#d8576b"
             ],
             [
              0.6666666666666666,
              "#ed7953"
             ],
             [
              0.7777777777777778,
              "#fb9f3a"
             ],
             [
              0.8888888888888888,
              "#fdca26"
             ],
             [
              1,
              "#f0f921"
             ]
            ],
            "type": "heatmapgl"
           }
          ],
          "histogram": [
           {
            "marker": {
             "pattern": {
              "fillmode": "overlay",
              "size": 10,
              "solidity": 0.2
             }
            },
            "type": "histogram"
           }
          ],
          "histogram2d": [
           {
            "colorbar": {
             "outlinewidth": 0,
             "ticks": ""
            },
            "colorscale": [
             [
              0,
              "#0d0887"
             ],
             [
              0.1111111111111111,
              "#46039f"
             ],
             [
              0.2222222222222222,
              "#7201a8"
             ],
             [
              0.3333333333333333,
              "#9c179e"
             ],
             [
              0.4444444444444444,
              "#bd3786"
             ],
             [
              0.5555555555555556,
              "#d8576b"
             ],
             [
              0.6666666666666666,
              "#ed7953"
             ],
             [
              0.7777777777777778,
              "#fb9f3a"
             ],
             [
              0.8888888888888888,
              "#fdca26"
             ],
             [
              1,
              "#f0f921"
             ]
            ],
            "type": "histogram2d"
           }
          ],
          "histogram2dcontour": [
           {
            "colorbar": {
             "outlinewidth": 0,
             "ticks": ""
            },
            "colorscale": [
             [
              0,
              "#0d0887"
             ],
             [
              0.1111111111111111,
              "#46039f"
             ],
             [
              0.2222222222222222,
              "#7201a8"
             ],
             [
              0.3333333333333333,
              "#9c179e"
             ],
             [
              0.4444444444444444,
              "#bd3786"
             ],
             [
              0.5555555555555556,
              "#d8576b"
             ],
             [
              0.6666666666666666,
              "#ed7953"
             ],
             [
              0.7777777777777778,
              "#fb9f3a"
             ],
             [
              0.8888888888888888,
              "#fdca26"
             ],
             [
              1,
              "#f0f921"
             ]
            ],
            "type": "histogram2dcontour"
           }
          ],
          "mesh3d": [
           {
            "colorbar": {
             "outlinewidth": 0,
             "ticks": ""
            },
            "type": "mesh3d"
           }
          ],
          "parcoords": [
           {
            "line": {
             "colorbar": {
              "outlinewidth": 0,
              "ticks": ""
             }
            },
            "type": "parcoords"
           }
          ],
          "pie": [
           {
            "automargin": true,
            "type": "pie"
           }
          ],
          "scatter": [
           {
            "fillpattern": {
             "fillmode": "overlay",
             "size": 10,
             "solidity": 0.2
            },
            "type": "scatter"
           }
          ],
          "scatter3d": [
           {
            "line": {
             "colorbar": {
              "outlinewidth": 0,
              "ticks": ""
             }
            },
            "marker": {
             "colorbar": {
              "outlinewidth": 0,
              "ticks": ""
             }
            },
            "type": "scatter3d"
           }
          ],
          "scattercarpet": [
           {
            "marker": {
             "colorbar": {
              "outlinewidth": 0,
              "ticks": ""
             }
            },
            "type": "scattercarpet"
           }
          ],
          "scattergeo": [
           {
            "marker": {
             "colorbar": {
              "outlinewidth": 0,
              "ticks": ""
             }
            },
            "type": "scattergeo"
           }
          ],
          "scattergl": [
           {
            "marker": {
             "colorbar": {
              "outlinewidth": 0,
              "ticks": ""
             }
            },
            "type": "scattergl"
           }
          ],
          "scattermapbox": [
           {
            "marker": {
             "colorbar": {
              "outlinewidth": 0,
              "ticks": ""
             }
            },
            "type": "scattermapbox"
           }
          ],
          "scatterpolar": [
           {
            "marker": {
             "colorbar": {
              "outlinewidth": 0,
              "ticks": ""
             }
            },
            "type": "scatterpolar"
           }
          ],
          "scatterpolargl": [
           {
            "marker": {
             "colorbar": {
              "outlinewidth": 0,
              "ticks": ""
             }
            },
            "type": "scatterpolargl"
           }
          ],
          "scatterternary": [
           {
            "marker": {
             "colorbar": {
              "outlinewidth": 0,
              "ticks": ""
             }
            },
            "type": "scatterternary"
           }
          ],
          "surface": [
           {
            "colorbar": {
             "outlinewidth": 0,
             "ticks": ""
            },
            "colorscale": [
             [
              0,
              "#0d0887"
             ],
             [
              0.1111111111111111,
              "#46039f"
             ],
             [
              0.2222222222222222,
              "#7201a8"
             ],
             [
              0.3333333333333333,
              "#9c179e"
             ],
             [
              0.4444444444444444,
              "#bd3786"
             ],
             [
              0.5555555555555556,
              "#d8576b"
             ],
             [
              0.6666666666666666,
              "#ed7953"
             ],
             [
              0.7777777777777778,
              "#fb9f3a"
             ],
             [
              0.8888888888888888,
              "#fdca26"
             ],
             [
              1,
              "#f0f921"
             ]
            ],
            "type": "surface"
           }
          ],
          "table": [
           {
            "cells": {
             "fill": {
              "color": "#EBF0F8"
             },
             "line": {
              "color": "white"
             }
            },
            "header": {
             "fill": {
              "color": "#C8D4E3"
             },
             "line": {
              "color": "white"
             }
            },
            "type": "table"
           }
          ]
         },
         "layout": {
          "annotationdefaults": {
           "arrowcolor": "#2a3f5f",
           "arrowhead": 0,
           "arrowwidth": 1
          },
          "autotypenumbers": "strict",
          "coloraxis": {
           "colorbar": {
            "outlinewidth": 0,
            "ticks": ""
           }
          },
          "colorscale": {
           "diverging": [
            [
             0,
             "#8e0152"
            ],
            [
             0.1,
             "#c51b7d"
            ],
            [
             0.2,
             "#de77ae"
            ],
            [
             0.3,
             "#f1b6da"
            ],
            [
             0.4,
             "#fde0ef"
            ],
            [
             0.5,
             "#f7f7f7"
            ],
            [
             0.6,
             "#e6f5d0"
            ],
            [
             0.7,
             "#b8e186"
            ],
            [
             0.8,
             "#7fbc41"
            ],
            [
             0.9,
             "#4d9221"
            ],
            [
             1,
             "#276419"
            ]
           ],
           "sequential": [
            [
             0,
             "#0d0887"
            ],
            [
             0.1111111111111111,
             "#46039f"
            ],
            [
             0.2222222222222222,
             "#7201a8"
            ],
            [
             0.3333333333333333,
             "#9c179e"
            ],
            [
             0.4444444444444444,
             "#bd3786"
            ],
            [
             0.5555555555555556,
             "#d8576b"
            ],
            [
             0.6666666666666666,
             "#ed7953"
            ],
            [
             0.7777777777777778,
             "#fb9f3a"
            ],
            [
             0.8888888888888888,
             "#fdca26"
            ],
            [
             1,
             "#f0f921"
            ]
           ],
           "sequentialminus": [
            [
             0,
             "#0d0887"
            ],
            [
             0.1111111111111111,
             "#46039f"
            ],
            [
             0.2222222222222222,
             "#7201a8"
            ],
            [
             0.3333333333333333,
             "#9c179e"
            ],
            [
             0.4444444444444444,
             "#bd3786"
            ],
            [
             0.5555555555555556,
             "#d8576b"
            ],
            [
             0.6666666666666666,
             "#ed7953"
            ],
            [
             0.7777777777777778,
             "#fb9f3a"
            ],
            [
             0.8888888888888888,
             "#fdca26"
            ],
            [
             1,
             "#f0f921"
            ]
           ]
          },
          "colorway": [
           "#636efa",
           "#EF553B",
           "#00cc96",
           "#ab63fa",
           "#FFA15A",
           "#19d3f3",
           "#FF6692",
           "#B6E880",
           "#FF97FF",
           "#FECB52"
          ],
          "font": {
           "color": "#2a3f5f"
          },
          "geo": {
           "bgcolor": "white",
           "lakecolor": "white",
           "landcolor": "#E5ECF6",
           "showlakes": true,
           "showland": true,
           "subunitcolor": "white"
          },
          "hoverlabel": {
           "align": "left"
          },
          "hovermode": "closest",
          "mapbox": {
           "style": "light"
          },
          "paper_bgcolor": "white",
          "plot_bgcolor": "#E5ECF6",
          "polar": {
           "angularaxis": {
            "gridcolor": "white",
            "linecolor": "white",
            "ticks": ""
           },
           "bgcolor": "#E5ECF6",
           "radialaxis": {
            "gridcolor": "white",
            "linecolor": "white",
            "ticks": ""
           }
          },
          "scene": {
           "xaxis": {
            "backgroundcolor": "#E5ECF6",
            "gridcolor": "white",
            "gridwidth": 2,
            "linecolor": "white",
            "showbackground": true,
            "ticks": "",
            "zerolinecolor": "white"
           },
           "yaxis": {
            "backgroundcolor": "#E5ECF6",
            "gridcolor": "white",
            "gridwidth": 2,
            "linecolor": "white",
            "showbackground": true,
            "ticks": "",
            "zerolinecolor": "white"
           },
           "zaxis": {
            "backgroundcolor": "#E5ECF6",
            "gridcolor": "white",
            "gridwidth": 2,
            "linecolor": "white",
            "showbackground": true,
            "ticks": "",
            "zerolinecolor": "white"
           }
          },
          "shapedefaults": {
           "line": {
            "color": "#2a3f5f"
           }
          },
          "ternary": {
           "aaxis": {
            "gridcolor": "white",
            "linecolor": "white",
            "ticks": ""
           },
           "baxis": {
            "gridcolor": "white",
            "linecolor": "white",
            "ticks": ""
           },
           "bgcolor": "#E5ECF6",
           "caxis": {
            "gridcolor": "white",
            "linecolor": "white",
            "ticks": ""
           }
          },
          "title": {
           "x": 0.05
          },
          "xaxis": {
           "automargin": true,
           "gridcolor": "white",
           "linecolor": "white",
           "ticks": "",
           "title": {
            "standoff": 15
           },
           "zerolinecolor": "white",
           "zerolinewidth": 2
          },
          "yaxis": {
           "automargin": true,
           "gridcolor": "white",
           "linecolor": "white",
           "ticks": "",
           "title": {
            "standoff": 15
           },
           "zerolinecolor": "white",
           "zerolinewidth": 2
          }
         }
        },
        "title": {
         "text": "Series: (F20 - F29) Esquizofrenia, transtornos esquizotípicos e transtornos delirantes"
        },
        "xaxis": {
         "title": {
          "text": "Time"
         }
        },
        "yaxis": {
         "title": {
          "text": "Value"
         }
        }
       }
      }
     },
     "metadata": {},
     "output_type": "display_data"
    },
    {
     "data": {
      "application/vnd.plotly.v1+json": {
       "config": {
        "plotlyServerURL": "https://plot.ly"
       },
       "data": [
        {
         "hovertemplate": "<b>%{x|%Y-%m-%d}</b><br>Real: %{y:.2f}<extra></extra>",
         "mode": "markers",
         "name": "Real",
         "type": "scatter",
         "x": [
          "2016-03-31T00:00:00",
          "2016-06-30T00:00:00",
          "2016-09-30T00:00:00",
          "2016-12-31T00:00:00",
          "2017-03-31T00:00:00",
          "2017-06-30T00:00:00",
          "2017-09-30T00:00:00",
          "2017-12-31T00:00:00",
          "2018-03-31T00:00:00",
          "2018-06-30T00:00:00",
          "2018-09-30T00:00:00",
          "2018-12-31T00:00:00",
          "2019-03-31T00:00:00",
          "2019-06-30T00:00:00",
          "2019-09-30T00:00:00",
          "2019-12-31T00:00:00",
          "2020-03-31T00:00:00",
          "2020-06-30T00:00:00",
          "2020-09-30T00:00:00",
          "2020-12-31T00:00:00",
          "2021-03-31T00:00:00",
          "2021-06-30T00:00:00",
          "2021-09-30T00:00:00",
          "2021-12-31T00:00:00",
          "2022-03-31T00:00:00",
          "2022-06-30T00:00:00"
         ],
         "y": [
          8025,
          10291,
          10711,
          9840,
          9917,
          10324,
          10074,
          9336,
          9034,
          10007,
          9769,
          10088,
          9137,
          9803,
          9758,
          8534,
          7049,
          6175,
          7389,
          8630,
          7229,
          8386,
          9381,
          8959,
          6699,
          8142
         ]
        },
        {
         "error_y": {
          "array": [
           12.731759343401167,
           12.731759343401167,
           12.731759343401167,
           12.731759343401167,
           12.731759343401167,
           12.731759343401167,
           12.731759343401167,
           12.731759343401167,
           12.731759343401167,
           12.731759343401167,
           12.731759343401167,
           12.731759343401167,
           12.731759343401167,
           12.731759343401167,
           12.731759343401167,
           12.731759343401167,
           12.731759343401167,
           12.731759343401167,
           12.731759343401167,
           12.731759343401167,
           12.731759343401167,
           12.731759343401167,
           12.731759343401167,
           12.731759343401167,
           12.731759343401167,
           12.731759343401167
          ],
          "thickness": 1.5,
          "type": "data",
          "visible": true,
          "width": 6
         },
         "hovertemplate": "<b>%{x|%Y-%m-%d}</b><br>Total: %{y:.2f}<extra></extra>",
         "mode": "lines+markers",
         "name": "Total",
         "type": "scatter",
         "x": [
          "2016-03-31T00:00:00",
          "2016-06-30T00:00:00",
          "2016-09-30T00:00:00",
          "2016-12-31T00:00:00",
          "2017-03-31T00:00:00",
          "2017-06-30T00:00:00",
          "2017-09-30T00:00:00",
          "2017-12-31T00:00:00",
          "2018-03-31T00:00:00",
          "2018-06-30T00:00:00",
          "2018-09-30T00:00:00",
          "2018-12-31T00:00:00",
          "2019-03-31T00:00:00",
          "2019-06-30T00:00:00",
          "2019-09-30T00:00:00",
          "2019-12-31T00:00:00",
          "2020-03-31T00:00:00",
          "2020-06-30T00:00:00",
          "2020-09-30T00:00:00",
          "2020-12-31T00:00:00",
          "2021-03-31T00:00:00",
          "2021-06-30T00:00:00",
          "2021-09-30T00:00:00",
          "2021-12-31T00:00:00",
          "2022-03-31T00:00:00",
          "2022-06-30T00:00:00"
         ],
         "y": [
          10236.828657828833,
          10178.075810098593,
          10119.322962368355,
          10060.570114638116,
          10001.817266907876,
          9943.064419177637,
          9884.311571447399,
          9825.558723717159,
          9766.80587598692,
          9708.05302825668,
          9649.300180526441,
          9590.547332796203,
          9531.794485065962,
          9473.041637335724,
          9414.288789605485,
          9355.535941875245,
          9296.783094145007,
          9238.030246414768,
          9179.277398684528,
          9120.52455095429,
          9061.77170322405,
          9003.01885549381,
          8944.266007763572,
          8885.513160033333,
          8826.760312303093,
          8768.007464572855
         ]
        }
       ],
       "layout": {
        "legend": {
         "title": {
          "text": "Legend"
         }
        },
        "shapes": [
         {
          "fillcolor": "LightSalmon",
          "layer": "below",
          "line": {
           "width": 0
          },
          "opacity": 0.3,
          "type": "rect",
          "x0": "2020-03-31T00:00:00",
          "x1": "2020-12-31T00:00:00",
          "xref": "x",
          "y0": 0,
          "y1": 1,
          "yref": "paper"
         }
        ],
        "template": {
         "data": {
          "bar": [
           {
            "error_x": {
             "color": "#2a3f5f"
            },
            "error_y": {
             "color": "#2a3f5f"
            },
            "marker": {
             "line": {
              "color": "#E5ECF6",
              "width": 0.5
             },
             "pattern": {
              "fillmode": "overlay",
              "size": 10,
              "solidity": 0.2
             }
            },
            "type": "bar"
           }
          ],
          "barpolar": [
           {
            "marker": {
             "line": {
              "color": "#E5ECF6",
              "width": 0.5
             },
             "pattern": {
              "fillmode": "overlay",
              "size": 10,
              "solidity": 0.2
             }
            },
            "type": "barpolar"
           }
          ],
          "carpet": [
           {
            "aaxis": {
             "endlinecolor": "#2a3f5f",
             "gridcolor": "white",
             "linecolor": "white",
             "minorgridcolor": "white",
             "startlinecolor": "#2a3f5f"
            },
            "baxis": {
             "endlinecolor": "#2a3f5f",
             "gridcolor": "white",
             "linecolor": "white",
             "minorgridcolor": "white",
             "startlinecolor": "#2a3f5f"
            },
            "type": "carpet"
           }
          ],
          "choropleth": [
           {
            "colorbar": {
             "outlinewidth": 0,
             "ticks": ""
            },
            "type": "choropleth"
           }
          ],
          "contour": [
           {
            "colorbar": {
             "outlinewidth": 0,
             "ticks": ""
            },
            "colorscale": [
             [
              0,
              "#0d0887"
             ],
             [
              0.1111111111111111,
              "#46039f"
             ],
             [
              0.2222222222222222,
              "#7201a8"
             ],
             [
              0.3333333333333333,
              "#9c179e"
             ],
             [
              0.4444444444444444,
              "#bd3786"
             ],
             [
              0.5555555555555556,
              "#d8576b"
             ],
             [
              0.6666666666666666,
              "#ed7953"
             ],
             [
              0.7777777777777778,
              "#fb9f3a"
             ],
             [
              0.8888888888888888,
              "#fdca26"
             ],
             [
              1,
              "#f0f921"
             ]
            ],
            "type": "contour"
           }
          ],
          "contourcarpet": [
           {
            "colorbar": {
             "outlinewidth": 0,
             "ticks": ""
            },
            "type": "contourcarpet"
           }
          ],
          "heatmap": [
           {
            "colorbar": {
             "outlinewidth": 0,
             "ticks": ""
            },
            "colorscale": [
             [
              0,
              "#0d0887"
             ],
             [
              0.1111111111111111,
              "#46039f"
             ],
             [
              0.2222222222222222,
              "#7201a8"
             ],
             [
              0.3333333333333333,
              "#9c179e"
             ],
             [
              0.4444444444444444,
              "#bd3786"
             ],
             [
              0.5555555555555556,
              "#d8576b"
             ],
             [
              0.6666666666666666,
              "#ed7953"
             ],
             [
              0.7777777777777778,
              "#fb9f3a"
             ],
             [
              0.8888888888888888,
              "#fdca26"
             ],
             [
              1,
              "#f0f921"
             ]
            ],
            "type": "heatmap"
           }
          ],
          "heatmapgl": [
           {
            "colorbar": {
             "outlinewidth": 0,
             "ticks": ""
            },
            "colorscale": [
             [
              0,
              "#0d0887"
             ],
             [
              0.1111111111111111,
              "#46039f"
             ],
             [
              0.2222222222222222,
              "#7201a8"
             ],
             [
              0.3333333333333333,
              "#9c179e"
             ],
             [
              0.4444444444444444,
              "#bd3786"
             ],
             [
              0.5555555555555556,
              "#d8576b"
             ],
             [
              0.6666666666666666,
              "#ed7953"
             ],
             [
              0.7777777777777778,
              "#fb9f3a"
             ],
             [
              0.8888888888888888,
              "#fdca26"
             ],
             [
              1,
              "#f0f921"
             ]
            ],
            "type": "heatmapgl"
           }
          ],
          "histogram": [
           {
            "marker": {
             "pattern": {
              "fillmode": "overlay",
              "size": 10,
              "solidity": 0.2
             }
            },
            "type": "histogram"
           }
          ],
          "histogram2d": [
           {
            "colorbar": {
             "outlinewidth": 0,
             "ticks": ""
            },
            "colorscale": [
             [
              0,
              "#0d0887"
             ],
             [
              0.1111111111111111,
              "#46039f"
             ],
             [
              0.2222222222222222,
              "#7201a8"
             ],
             [
              0.3333333333333333,
              "#9c179e"
             ],
             [
              0.4444444444444444,
              "#bd3786"
             ],
             [
              0.5555555555555556,
              "#d8576b"
             ],
             [
              0.6666666666666666,
              "#ed7953"
             ],
             [
              0.7777777777777778,
              "#fb9f3a"
             ],
             [
              0.8888888888888888,
              "#fdca26"
             ],
             [
              1,
              "#f0f921"
             ]
            ],
            "type": "histogram2d"
           }
          ],
          "histogram2dcontour": [
           {
            "colorbar": {
             "outlinewidth": 0,
             "ticks": ""
            },
            "colorscale": [
             [
              0,
              "#0d0887"
             ],
             [
              0.1111111111111111,
              "#46039f"
             ],
             [
              0.2222222222222222,
              "#7201a8"
             ],
             [
              0.3333333333333333,
              "#9c179e"
             ],
             [
              0.4444444444444444,
              "#bd3786"
             ],
             [
              0.5555555555555556,
              "#d8576b"
             ],
             [
              0.6666666666666666,
              "#ed7953"
             ],
             [
              0.7777777777777778,
              "#fb9f3a"
             ],
             [
              0.8888888888888888,
              "#fdca26"
             ],
             [
              1,
              "#f0f921"
             ]
            ],
            "type": "histogram2dcontour"
           }
          ],
          "mesh3d": [
           {
            "colorbar": {
             "outlinewidth": 0,
             "ticks": ""
            },
            "type": "mesh3d"
           }
          ],
          "parcoords": [
           {
            "line": {
             "colorbar": {
              "outlinewidth": 0,
              "ticks": ""
             }
            },
            "type": "parcoords"
           }
          ],
          "pie": [
           {
            "automargin": true,
            "type": "pie"
           }
          ],
          "scatter": [
           {
            "fillpattern": {
             "fillmode": "overlay",
             "size": 10,
             "solidity": 0.2
            },
            "type": "scatter"
           }
          ],
          "scatter3d": [
           {
            "line": {
             "colorbar": {
              "outlinewidth": 0,
              "ticks": ""
             }
            },
            "marker": {
             "colorbar": {
              "outlinewidth": 0,
              "ticks": ""
             }
            },
            "type": "scatter3d"
           }
          ],
          "scattercarpet": [
           {
            "marker": {
             "colorbar": {
              "outlinewidth": 0,
              "ticks": ""
             }
            },
            "type": "scattercarpet"
           }
          ],
          "scattergeo": [
           {
            "marker": {
             "colorbar": {
              "outlinewidth": 0,
              "ticks": ""
             }
            },
            "type": "scattergeo"
           }
          ],
          "scattergl": [
           {
            "marker": {
             "colorbar": {
              "outlinewidth": 0,
              "ticks": ""
             }
            },
            "type": "scattergl"
           }
          ],
          "scattermapbox": [
           {
            "marker": {
             "colorbar": {
              "outlinewidth": 0,
              "ticks": ""
             }
            },
            "type": "scattermapbox"
           }
          ],
          "scatterpolar": [
           {
            "marker": {
             "colorbar": {
              "outlinewidth": 0,
              "ticks": ""
             }
            },
            "type": "scatterpolar"
           }
          ],
          "scatterpolargl": [
           {
            "marker": {
             "colorbar": {
              "outlinewidth": 0,
              "ticks": ""
             }
            },
            "type": "scatterpolargl"
           }
          ],
          "scatterternary": [
           {
            "marker": {
             "colorbar": {
              "outlinewidth": 0,
              "ticks": ""
             }
            },
            "type": "scatterternary"
           }
          ],
          "surface": [
           {
            "colorbar": {
             "outlinewidth": 0,
             "ticks": ""
            },
            "colorscale": [
             [
              0,
              "#0d0887"
             ],
             [
              0.1111111111111111,
              "#46039f"
             ],
             [
              0.2222222222222222,
              "#7201a8"
             ],
             [
              0.3333333333333333,
              "#9c179e"
             ],
             [
              0.4444444444444444,
              "#bd3786"
             ],
             [
              0.5555555555555556,
              "#d8576b"
             ],
             [
              0.6666666666666666,
              "#ed7953"
             ],
             [
              0.7777777777777778,
              "#fb9f3a"
             ],
             [
              0.8888888888888888,
              "#fdca26"
             ],
             [
              1,
              "#f0f921"
             ]
            ],
            "type": "surface"
           }
          ],
          "table": [
           {
            "cells": {
             "fill": {
              "color": "#EBF0F8"
             },
             "line": {
              "color": "white"
             }
            },
            "header": {
             "fill": {
              "color": "#C8D4E3"
             },
             "line": {
              "color": "white"
             }
            },
            "type": "table"
           }
          ]
         },
         "layout": {
          "annotationdefaults": {
           "arrowcolor": "#2a3f5f",
           "arrowhead": 0,
           "arrowwidth": 1
          },
          "autotypenumbers": "strict",
          "coloraxis": {
           "colorbar": {
            "outlinewidth": 0,
            "ticks": ""
           }
          },
          "colorscale": {
           "diverging": [
            [
             0,
             "#8e0152"
            ],
            [
             0.1,
             "#c51b7d"
            ],
            [
             0.2,
             "#de77ae"
            ],
            [
             0.3,
             "#f1b6da"
            ],
            [
             0.4,
             "#fde0ef"
            ],
            [
             0.5,
             "#f7f7f7"
            ],
            [
             0.6,
             "#e6f5d0"
            ],
            [
             0.7,
             "#b8e186"
            ],
            [
             0.8,
             "#7fbc41"
            ],
            [
             0.9,
             "#4d9221"
            ],
            [
             1,
             "#276419"
            ]
           ],
           "sequential": [
            [
             0,
             "#0d0887"
            ],
            [
             0.1111111111111111,
             "#46039f"
            ],
            [
             0.2222222222222222,
             "#7201a8"
            ],
            [
             0.3333333333333333,
             "#9c179e"
            ],
            [
             0.4444444444444444,
             "#bd3786"
            ],
            [
             0.5555555555555556,
             "#d8576b"
            ],
            [
             0.6666666666666666,
             "#ed7953"
            ],
            [
             0.7777777777777778,
             "#fb9f3a"
            ],
            [
             0.8888888888888888,
             "#fdca26"
            ],
            [
             1,
             "#f0f921"
            ]
           ],
           "sequentialminus": [
            [
             0,
             "#0d0887"
            ],
            [
             0.1111111111111111,
             "#46039f"
            ],
            [
             0.2222222222222222,
             "#7201a8"
            ],
            [
             0.3333333333333333,
             "#9c179e"
            ],
            [
             0.4444444444444444,
             "#bd3786"
            ],
            [
             0.5555555555555556,
             "#d8576b"
            ],
            [
             0.6666666666666666,
             "#ed7953"
            ],
            [
             0.7777777777777778,
             "#fb9f3a"
            ],
            [
             0.8888888888888888,
             "#fdca26"
            ],
            [
             1,
             "#f0f921"
            ]
           ]
          },
          "colorway": [
           "#636efa",
           "#EF553B",
           "#00cc96",
           "#ab63fa",
           "#FFA15A",
           "#19d3f3",
           "#FF6692",
           "#B6E880",
           "#FF97FF",
           "#FECB52"
          ],
          "font": {
           "color": "#2a3f5f"
          },
          "geo": {
           "bgcolor": "white",
           "lakecolor": "white",
           "landcolor": "#E5ECF6",
           "showlakes": true,
           "showland": true,
           "subunitcolor": "white"
          },
          "hoverlabel": {
           "align": "left"
          },
          "hovermode": "closest",
          "mapbox": {
           "style": "light"
          },
          "paper_bgcolor": "white",
          "plot_bgcolor": "#E5ECF6",
          "polar": {
           "angularaxis": {
            "gridcolor": "white",
            "linecolor": "white",
            "ticks": ""
           },
           "bgcolor": "#E5ECF6",
           "radialaxis": {
            "gridcolor": "white",
            "linecolor": "white",
            "ticks": ""
           }
          },
          "scene": {
           "xaxis": {
            "backgroundcolor": "#E5ECF6",
            "gridcolor": "white",
            "gridwidth": 2,
            "linecolor": "white",
            "showbackground": true,
            "ticks": "",
            "zerolinecolor": "white"
           },
           "yaxis": {
            "backgroundcolor": "#E5ECF6",
            "gridcolor": "white",
            "gridwidth": 2,
            "linecolor": "white",
            "showbackground": true,
            "ticks": "",
            "zerolinecolor": "white"
           },
           "zaxis": {
            "backgroundcolor": "#E5ECF6",
            "gridcolor": "white",
            "gridwidth": 2,
            "linecolor": "white",
            "showbackground": true,
            "ticks": "",
            "zerolinecolor": "white"
           }
          },
          "shapedefaults": {
           "line": {
            "color": "#2a3f5f"
           }
          },
          "ternary": {
           "aaxis": {
            "gridcolor": "white",
            "linecolor": "white",
            "ticks": ""
           },
           "baxis": {
            "gridcolor": "white",
            "linecolor": "white",
            "ticks": ""
           },
           "bgcolor": "#E5ECF6",
           "caxis": {
            "gridcolor": "white",
            "linecolor": "white",
            "ticks": ""
           }
          },
          "title": {
           "x": 0.05
          },
          "xaxis": {
           "automargin": true,
           "gridcolor": "white",
           "linecolor": "white",
           "ticks": "",
           "title": {
            "standoff": 15
           },
           "zerolinecolor": "white",
           "zerolinewidth": 2
          },
          "yaxis": {
           "automargin": true,
           "gridcolor": "white",
           "linecolor": "white",
           "ticks": "",
           "title": {
            "standoff": 15
           },
           "zerolinecolor": "white",
           "zerolinewidth": 2
          }
         }
        },
        "title": {
         "text": "Series: (F30 - F39) Transtornos do humor [afetivos]"
        },
        "xaxis": {
         "title": {
          "text": "Time"
         }
        },
        "yaxis": {
         "title": {
          "text": "Value"
         }
        }
       }
      }
     },
     "metadata": {},
     "output_type": "display_data"
    },
    {
     "data": {
      "application/vnd.plotly.v1+json": {
       "config": {
        "plotlyServerURL": "https://plot.ly"
       },
       "data": [
        {
         "hovertemplate": "<b>%{x|%Y-%m-%d}</b><br>Real: %{y:.2f}<extra></extra>",
         "mode": "markers",
         "name": "Real",
         "type": "scatter",
         "x": [
          "2016-03-31T00:00:00",
          "2016-06-30T00:00:00",
          "2016-09-30T00:00:00",
          "2016-12-31T00:00:00",
          "2017-03-31T00:00:00",
          "2017-06-30T00:00:00",
          "2017-09-30T00:00:00",
          "2017-12-31T00:00:00",
          "2018-03-31T00:00:00",
          "2018-06-30T00:00:00",
          "2018-09-30T00:00:00",
          "2018-12-31T00:00:00",
          "2019-03-31T00:00:00",
          "2019-06-30T00:00:00",
          "2019-09-30T00:00:00",
          "2019-12-31T00:00:00",
          "2020-03-31T00:00:00",
          "2020-06-30T00:00:00",
          "2020-09-30T00:00:00",
          "2020-12-31T00:00:00",
          "2021-03-31T00:00:00",
          "2021-06-30T00:00:00",
          "2021-09-30T00:00:00",
          "2021-12-31T00:00:00",
          "2022-03-31T00:00:00",
          "2022-06-30T00:00:00"
         ],
         "y": [
          2910,
          3776,
          3784,
          3669,
          3765,
          4305,
          4293,
          4229,
          4250,
          4718,
          4553,
          4874,
          4616,
          5321,
          5318,
          4944,
          4740,
          5621,
          6872,
          8208,
          7422,
          8739,
          9526,
          8959,
          7337,
          8429
         ]
        },
        {
         "error_y": {
          "array": [
           11.32403759261283,
           11.32403759261283,
           11.32403759261283,
           11.32403759261283,
           11.32403759261283,
           11.32403759261283,
           11.32403759261283,
           11.32403759261283,
           11.32403759261283,
           11.32403759261283,
           11.32403759261283,
           11.32403759261283,
           11.32403759261283,
           11.32403759261283,
           11.32403759261283,
           11.32403759261283,
           11.32403759261283,
           11.32403759261283,
           11.32403759261283,
           11.32403759261283,
           11.32403759261283,
           11.32403759261283,
           11.32403759261283,
           11.32403759261283,
           11.32403759261283,
           11.32403759261283
          ],
          "thickness": 1.5,
          "type": "data",
          "visible": true,
          "width": 6
         },
         "hovertemplate": "<b>%{x|%Y-%m-%d}</b><br>Total: %{y:.2f}<extra></extra>",
         "mode": "lines+markers",
         "name": "Total",
         "type": "scatter",
         "x": [
          "2016-03-31T00:00:00",
          "2016-06-30T00:00:00",
          "2016-09-30T00:00:00",
          "2016-12-31T00:00:00",
          "2017-03-31T00:00:00",
          "2017-06-30T00:00:00",
          "2017-09-30T00:00:00",
          "2017-12-31T00:00:00",
          "2018-03-31T00:00:00",
          "2018-06-30T00:00:00",
          "2018-09-30T00:00:00",
          "2018-12-31T00:00:00",
          "2019-03-31T00:00:00",
          "2019-06-30T00:00:00",
          "2019-09-30T00:00:00",
          "2019-12-31T00:00:00",
          "2020-03-31T00:00:00",
          "2020-06-30T00:00:00",
          "2020-09-30T00:00:00",
          "2020-12-31T00:00:00",
          "2021-03-31T00:00:00",
          "2021-06-30T00:00:00",
          "2021-09-30T00:00:00",
          "2021-12-31T00:00:00",
          "2022-03-31T00:00:00",
          "2022-06-30T00:00:00"
         ],
         "y": [
          3480.761568149597,
          3598.7593367653317,
          3716.757105381066,
          3834.7548739968006,
          3952.752642612535,
          4070.7504112282695,
          4188.748179844004,
          4306.745948459738,
          4424.743717075473,
          4542.741485691207,
          4660.739254306942,
          4778.737022922676,
          4896.734791538411,
          5014.732560154145,
          5132.73032876988,
          5250.728097385614,
          5368.725866001349,
          5486.723634617083,
          5604.7214032328175,
          5722.719171848552,
          5840.716940464286,
          5958.714709080021,
          6076.712477695755,
          6194.71024631149,
          6312.708014927224,
          6430.705783542959
         ]
        }
       ],
       "layout": {
        "legend": {
         "title": {
          "text": "Legend"
         }
        },
        "shapes": [
         {
          "fillcolor": "LightSalmon",
          "layer": "below",
          "line": {
           "width": 0
          },
          "opacity": 0.3,
          "type": "rect",
          "x0": "2020-03-31T00:00:00",
          "x1": "2020-12-31T00:00:00",
          "xref": "x",
          "y0": 0,
          "y1": 1,
          "yref": "paper"
         }
        ],
        "template": {
         "data": {
          "bar": [
           {
            "error_x": {
             "color": "#2a3f5f"
            },
            "error_y": {
             "color": "#2a3f5f"
            },
            "marker": {
             "line": {
              "color": "#E5ECF6",
              "width": 0.5
             },
             "pattern": {
              "fillmode": "overlay",
              "size": 10,
              "solidity": 0.2
             }
            },
            "type": "bar"
           }
          ],
          "barpolar": [
           {
            "marker": {
             "line": {
              "color": "#E5ECF6",
              "width": 0.5
             },
             "pattern": {
              "fillmode": "overlay",
              "size": 10,
              "solidity": 0.2
             }
            },
            "type": "barpolar"
           }
          ],
          "carpet": [
           {
            "aaxis": {
             "endlinecolor": "#2a3f5f",
             "gridcolor": "white",
             "linecolor": "white",
             "minorgridcolor": "white",
             "startlinecolor": "#2a3f5f"
            },
            "baxis": {
             "endlinecolor": "#2a3f5f",
             "gridcolor": "white",
             "linecolor": "white",
             "minorgridcolor": "white",
             "startlinecolor": "#2a3f5f"
            },
            "type": "carpet"
           }
          ],
          "choropleth": [
           {
            "colorbar": {
             "outlinewidth": 0,
             "ticks": ""
            },
            "type": "choropleth"
           }
          ],
          "contour": [
           {
            "colorbar": {
             "outlinewidth": 0,
             "ticks": ""
            },
            "colorscale": [
             [
              0,
              "#0d0887"
             ],
             [
              0.1111111111111111,
              "#46039f"
             ],
             [
              0.2222222222222222,
              "#7201a8"
             ],
             [
              0.3333333333333333,
              "#9c179e"
             ],
             [
              0.4444444444444444,
              "#bd3786"
             ],
             [
              0.5555555555555556,
              "#d8576b"
             ],
             [
              0.6666666666666666,
              "#ed7953"
             ],
             [
              0.7777777777777778,
              "#fb9f3a"
             ],
             [
              0.8888888888888888,
              "#fdca26"
             ],
             [
              1,
              "#f0f921"
             ]
            ],
            "type": "contour"
           }
          ],
          "contourcarpet": [
           {
            "colorbar": {
             "outlinewidth": 0,
             "ticks": ""
            },
            "type": "contourcarpet"
           }
          ],
          "heatmap": [
           {
            "colorbar": {
             "outlinewidth": 0,
             "ticks": ""
            },
            "colorscale": [
             [
              0,
              "#0d0887"
             ],
             [
              0.1111111111111111,
              "#46039f"
             ],
             [
              0.2222222222222222,
              "#7201a8"
             ],
             [
              0.3333333333333333,
              "#9c179e"
             ],
             [
              0.4444444444444444,
              "#bd3786"
             ],
             [
              0.5555555555555556,
              "#d8576b"
             ],
             [
              0.6666666666666666,
              "#ed7953"
             ],
             [
              0.7777777777777778,
              "#fb9f3a"
             ],
             [
              0.8888888888888888,
              "#fdca26"
             ],
             [
              1,
              "#f0f921"
             ]
            ],
            "type": "heatmap"
           }
          ],
          "heatmapgl": [
           {
            "colorbar": {
             "outlinewidth": 0,
             "ticks": ""
            },
            "colorscale": [
             [
              0,
              "#0d0887"
             ],
             [
              0.1111111111111111,
              "#46039f"
             ],
             [
              0.2222222222222222,
              "#7201a8"
             ],
             [
              0.3333333333333333,
              "#9c179e"
             ],
             [
              0.4444444444444444,
              "#bd3786"
             ],
             [
              0.5555555555555556,
              "#d8576b"
             ],
             [
              0.6666666666666666,
              "#ed7953"
             ],
             [
              0.7777777777777778,
              "#fb9f3a"
             ],
             [
              0.8888888888888888,
              "#fdca26"
             ],
             [
              1,
              "#f0f921"
             ]
            ],
            "type": "heatmapgl"
           }
          ],
          "histogram": [
           {
            "marker": {
             "pattern": {
              "fillmode": "overlay",
              "size": 10,
              "solidity": 0.2
             }
            },
            "type": "histogram"
           }
          ],
          "histogram2d": [
           {
            "colorbar": {
             "outlinewidth": 0,
             "ticks": ""
            },
            "colorscale": [
             [
              0,
              "#0d0887"
             ],
             [
              0.1111111111111111,
              "#46039f"
             ],
             [
              0.2222222222222222,
              "#7201a8"
             ],
             [
              0.3333333333333333,
              "#9c179e"
             ],
             [
              0.4444444444444444,
              "#bd3786"
             ],
             [
              0.5555555555555556,
              "#d8576b"
             ],
             [
              0.6666666666666666,
              "#ed7953"
             ],
             [
              0.7777777777777778,
              "#fb9f3a"
             ],
             [
              0.8888888888888888,
              "#fdca26"
             ],
             [
              1,
              "#f0f921"
             ]
            ],
            "type": "histogram2d"
           }
          ],
          "histogram2dcontour": [
           {
            "colorbar": {
             "outlinewidth": 0,
             "ticks": ""
            },
            "colorscale": [
             [
              0,
              "#0d0887"
             ],
             [
              0.1111111111111111,
              "#46039f"
             ],
             [
              0.2222222222222222,
              "#7201a8"
             ],
             [
              0.3333333333333333,
              "#9c179e"
             ],
             [
              0.4444444444444444,
              "#bd3786"
             ],
             [
              0.5555555555555556,
              "#d8576b"
             ],
             [
              0.6666666666666666,
              "#ed7953"
             ],
             [
              0.7777777777777778,
              "#fb9f3a"
             ],
             [
              0.8888888888888888,
              "#fdca26"
             ],
             [
              1,
              "#f0f921"
             ]
            ],
            "type": "histogram2dcontour"
           }
          ],
          "mesh3d": [
           {
            "colorbar": {
             "outlinewidth": 0,
             "ticks": ""
            },
            "type": "mesh3d"
           }
          ],
          "parcoords": [
           {
            "line": {
             "colorbar": {
              "outlinewidth": 0,
              "ticks": ""
             }
            },
            "type": "parcoords"
           }
          ],
          "pie": [
           {
            "automargin": true,
            "type": "pie"
           }
          ],
          "scatter": [
           {
            "fillpattern": {
             "fillmode": "overlay",
             "size": 10,
             "solidity": 0.2
            },
            "type": "scatter"
           }
          ],
          "scatter3d": [
           {
            "line": {
             "colorbar": {
              "outlinewidth": 0,
              "ticks": ""
             }
            },
            "marker": {
             "colorbar": {
              "outlinewidth": 0,
              "ticks": ""
             }
            },
            "type": "scatter3d"
           }
          ],
          "scattercarpet": [
           {
            "marker": {
             "colorbar": {
              "outlinewidth": 0,
              "ticks": ""
             }
            },
            "type": "scattercarpet"
           }
          ],
          "scattergeo": [
           {
            "marker": {
             "colorbar": {
              "outlinewidth": 0,
              "ticks": ""
             }
            },
            "type": "scattergeo"
           }
          ],
          "scattergl": [
           {
            "marker": {
             "colorbar": {
              "outlinewidth": 0,
              "ticks": ""
             }
            },
            "type": "scattergl"
           }
          ],
          "scattermapbox": [
           {
            "marker": {
             "colorbar": {
              "outlinewidth": 0,
              "ticks": ""
             }
            },
            "type": "scattermapbox"
           }
          ],
          "scatterpolar": [
           {
            "marker": {
             "colorbar": {
              "outlinewidth": 0,
              "ticks": ""
             }
            },
            "type": "scatterpolar"
           }
          ],
          "scatterpolargl": [
           {
            "marker": {
             "colorbar": {
              "outlinewidth": 0,
              "ticks": ""
             }
            },
            "type": "scatterpolargl"
           }
          ],
          "scatterternary": [
           {
            "marker": {
             "colorbar": {
              "outlinewidth": 0,
              "ticks": ""
             }
            },
            "type": "scatterternary"
           }
          ],
          "surface": [
           {
            "colorbar": {
             "outlinewidth": 0,
             "ticks": ""
            },
            "colorscale": [
             [
              0,
              "#0d0887"
             ],
             [
              0.1111111111111111,
              "#46039f"
             ],
             [
              0.2222222222222222,
              "#7201a8"
             ],
             [
              0.3333333333333333,
              "#9c179e"
             ],
             [
              0.4444444444444444,
              "#bd3786"
             ],
             [
              0.5555555555555556,
              "#d8576b"
             ],
             [
              0.6666666666666666,
              "#ed7953"
             ],
             [
              0.7777777777777778,
              "#fb9f3a"
             ],
             [
              0.8888888888888888,
              "#fdca26"
             ],
             [
              1,
              "#f0f921"
             ]
            ],
            "type": "surface"
           }
          ],
          "table": [
           {
            "cells": {
             "fill": {
              "color": "#EBF0F8"
             },
             "line": {
              "color": "white"
             }
            },
            "header": {
             "fill": {
              "color": "#C8D4E3"
             },
             "line": {
              "color": "white"
             }
            },
            "type": "table"
           }
          ]
         },
         "layout": {
          "annotationdefaults": {
           "arrowcolor": "#2a3f5f",
           "arrowhead": 0,
           "arrowwidth": 1
          },
          "autotypenumbers": "strict",
          "coloraxis": {
           "colorbar": {
            "outlinewidth": 0,
            "ticks": ""
           }
          },
          "colorscale": {
           "diverging": [
            [
             0,
             "#8e0152"
            ],
            [
             0.1,
             "#c51b7d"
            ],
            [
             0.2,
             "#de77ae"
            ],
            [
             0.3,
             "#f1b6da"
            ],
            [
             0.4,
             "#fde0ef"
            ],
            [
             0.5,
             "#f7f7f7"
            ],
            [
             0.6,
             "#e6f5d0"
            ],
            [
             0.7,
             "#b8e186"
            ],
            [
             0.8,
             "#7fbc41"
            ],
            [
             0.9,
             "#4d9221"
            ],
            [
             1,
             "#276419"
            ]
           ],
           "sequential": [
            [
             0,
             "#0d0887"
            ],
            [
             0.1111111111111111,
             "#46039f"
            ],
            [
             0.2222222222222222,
             "#7201a8"
            ],
            [
             0.3333333333333333,
             "#9c179e"
            ],
            [
             0.4444444444444444,
             "#bd3786"
            ],
            [
             0.5555555555555556,
             "#d8576b"
            ],
            [
             0.6666666666666666,
             "#ed7953"
            ],
            [
             0.7777777777777778,
             "#fb9f3a"
            ],
            [
             0.8888888888888888,
             "#fdca26"
            ],
            [
             1,
             "#f0f921"
            ]
           ],
           "sequentialminus": [
            [
             0,
             "#0d0887"
            ],
            [
             0.1111111111111111,
             "#46039f"
            ],
            [
             0.2222222222222222,
             "#7201a8"
            ],
            [
             0.3333333333333333,
             "#9c179e"
            ],
            [
             0.4444444444444444,
             "#bd3786"
            ],
            [
             0.5555555555555556,
             "#d8576b"
            ],
            [
             0.6666666666666666,
             "#ed7953"
            ],
            [
             0.7777777777777778,
             "#fb9f3a"
            ],
            [
             0.8888888888888888,
             "#fdca26"
            ],
            [
             1,
             "#f0f921"
            ]
           ]
          },
          "colorway": [
           "#636efa",
           "#EF553B",
           "#00cc96",
           "#ab63fa",
           "#FFA15A",
           "#19d3f3",
           "#FF6692",
           "#B6E880",
           "#FF97FF",
           "#FECB52"
          ],
          "font": {
           "color": "#2a3f5f"
          },
          "geo": {
           "bgcolor": "white",
           "lakecolor": "white",
           "landcolor": "#E5ECF6",
           "showlakes": true,
           "showland": true,
           "subunitcolor": "white"
          },
          "hoverlabel": {
           "align": "left"
          },
          "hovermode": "closest",
          "mapbox": {
           "style": "light"
          },
          "paper_bgcolor": "white",
          "plot_bgcolor": "#E5ECF6",
          "polar": {
           "angularaxis": {
            "gridcolor": "white",
            "linecolor": "white",
            "ticks": ""
           },
           "bgcolor": "#E5ECF6",
           "radialaxis": {
            "gridcolor": "white",
            "linecolor": "white",
            "ticks": ""
           }
          },
          "scene": {
           "xaxis": {
            "backgroundcolor": "#E5ECF6",
            "gridcolor": "white",
            "gridwidth": 2,
            "linecolor": "white",
            "showbackground": true,
            "ticks": "",
            "zerolinecolor": "white"
           },
           "yaxis": {
            "backgroundcolor": "#E5ECF6",
            "gridcolor": "white",
            "gridwidth": 2,
            "linecolor": "white",
            "showbackground": true,
            "ticks": "",
            "zerolinecolor": "white"
           },
           "zaxis": {
            "backgroundcolor": "#E5ECF6",
            "gridcolor": "white",
            "gridwidth": 2,
            "linecolor": "white",
            "showbackground": true,
            "ticks": "",
            "zerolinecolor": "white"
           }
          },
          "shapedefaults": {
           "line": {
            "color": "#2a3f5f"
           }
          },
          "ternary": {
           "aaxis": {
            "gridcolor": "white",
            "linecolor": "white",
            "ticks": ""
           },
           "baxis": {
            "gridcolor": "white",
            "linecolor": "white",
            "ticks": ""
           },
           "bgcolor": "#E5ECF6",
           "caxis": {
            "gridcolor": "white",
            "linecolor": "white",
            "ticks": ""
           }
          },
          "title": {
           "x": 0.05
          },
          "xaxis": {
           "automargin": true,
           "gridcolor": "white",
           "linecolor": "white",
           "ticks": "",
           "title": {
            "standoff": 15
           },
           "zerolinecolor": "white",
           "zerolinewidth": 2
          },
          "yaxis": {
           "automargin": true,
           "gridcolor": "white",
           "linecolor": "white",
           "ticks": "",
           "title": {
            "standoff": 15
           },
           "zerolinecolor": "white",
           "zerolinewidth": 2
          }
         }
        },
        "title": {
         "text": "Series: (F40 - F48) Transtornos neuróticos, transtornos relacionados com o \"stress\" e transtornos somatoformes"
        },
        "xaxis": {
         "title": {
          "text": "Time"
         }
        },
        "yaxis": {
         "title": {
          "text": "Value"
         }
        }
       }
      }
     },
     "metadata": {},
     "output_type": "display_data"
    },
    {
     "data": {
      "application/vnd.plotly.v1+json": {
       "config": {
        "plotlyServerURL": "https://plot.ly"
       },
       "data": [
        {
         "hovertemplate": "<b>%{x|%Y-%m-%d}</b><br>Real: %{y:.2f}<extra></extra>",
         "mode": "markers",
         "name": "Real",
         "type": "scatter",
         "x": [
          "2016-03-31T00:00:00",
          "2016-06-30T00:00:00",
          "2016-09-30T00:00:00",
          "2016-12-31T00:00:00",
          "2017-03-31T00:00:00",
          "2017-06-30T00:00:00",
          "2017-09-30T00:00:00",
          "2017-12-31T00:00:00",
          "2018-03-31T00:00:00",
          "2018-06-30T00:00:00",
          "2018-09-30T00:00:00",
          "2018-12-31T00:00:00",
          "2019-03-31T00:00:00",
          "2019-06-30T00:00:00",
          "2019-09-30T00:00:00",
          "2019-12-31T00:00:00",
          "2020-03-31T00:00:00",
          "2020-06-30T00:00:00",
          "2020-09-30T00:00:00",
          "2020-12-31T00:00:00",
          "2021-03-31T00:00:00",
          "2021-06-30T00:00:00",
          "2021-09-30T00:00:00",
          "2021-12-31T00:00:00",
          "2022-03-31T00:00:00",
          "2022-06-30T00:00:00"
         ],
         "y": [
          257,
          368,
          384,
          363,
          342,
          378,
          362,
          319,
          323,
          409,
          395,
          312,
          345,
          415,
          391,
          329,
          290,
          372,
          513,
          534,
          391,
          497,
          551,
          511,
          395,
          460
         ]
        },
        {
         "error_y": {
          "array": [
           1.0620383909051105,
           1.0620383909051105,
           1.0620383909051105,
           1.0620383909051105,
           1.0620383909051105,
           1.0620383909051105,
           1.0620383909051105,
           1.0620383909051105,
           1.0620383909051105,
           1.0620383909051105,
           1.0620383909051105,
           1.0620383909051105,
           1.0620383909051105,
           1.0620383909051105,
           1.0620383909051105,
           1.0620383909051105,
           1.0620383909051105,
           1.0620383909051105,
           1.0620383909051105,
           1.0620383909051105,
           1.0620383909051105,
           1.0620383909051105,
           1.0620383909051105,
           1.0620383909051105,
           1.0620383909051105,
           1.0620383909051105
          ],
          "thickness": 1.5,
          "type": "data",
          "visible": true,
          "width": 6
         },
         "hovertemplate": "<b>%{x|%Y-%m-%d}</b><br>Total: %{y:.2f}<extra></extra>",
         "mode": "lines+markers",
         "name": "Total",
         "type": "scatter",
         "x": [
          "2016-03-31T00:00:00",
          "2016-06-30T00:00:00",
          "2016-09-30T00:00:00",
          "2016-12-31T00:00:00",
          "2017-03-31T00:00:00",
          "2017-06-30T00:00:00",
          "2017-09-30T00:00:00",
          "2017-12-31T00:00:00",
          "2018-03-31T00:00:00",
          "2018-06-30T00:00:00",
          "2018-09-30T00:00:00",
          "2018-12-31T00:00:00",
          "2019-03-31T00:00:00",
          "2019-06-30T00:00:00",
          "2019-09-30T00:00:00",
          "2019-12-31T00:00:00",
          "2020-03-31T00:00:00",
          "2020-06-30T00:00:00",
          "2020-09-30T00:00:00",
          "2020-12-31T00:00:00",
          "2021-03-31T00:00:00",
          "2021-06-30T00:00:00",
          "2021-09-30T00:00:00",
          "2021-12-31T00:00:00",
          "2022-03-31T00:00:00",
          "2022-06-30T00:00:00"
         ],
         "y": [
          368.86495061405185,
          368.0253247751702,
          367.18569893628853,
          366.3460730974069,
          365.5064472585252,
          364.66682141964355,
          363.8271955807619,
          362.98756974188024,
          362.1479439029986,
          361.3083180641169,
          360.46869222523526,
          359.6290663863536,
          358.78944054747194,
          357.9498147085903,
          357.1101888697086,
          356.27056303082696,
          355.4309371919453,
          354.59131135306365,
          353.751685514182,
          352.9120596753003,
          352.07243383641867,
          351.232807997537,
          350.39318215865535,
          349.5535563197737,
          348.71393048089203,
          347.8743046420104
         ]
        }
       ],
       "layout": {
        "legend": {
         "title": {
          "text": "Legend"
         }
        },
        "shapes": [
         {
          "fillcolor": "LightSalmon",
          "layer": "below",
          "line": {
           "width": 0
          },
          "opacity": 0.3,
          "type": "rect",
          "x0": "2020-03-31T00:00:00",
          "x1": "2020-12-31T00:00:00",
          "xref": "x",
          "y0": 0,
          "y1": 1,
          "yref": "paper"
         }
        ],
        "template": {
         "data": {
          "bar": [
           {
            "error_x": {
             "color": "#2a3f5f"
            },
            "error_y": {
             "color": "#2a3f5f"
            },
            "marker": {
             "line": {
              "color": "#E5ECF6",
              "width": 0.5
             },
             "pattern": {
              "fillmode": "overlay",
              "size": 10,
              "solidity": 0.2
             }
            },
            "type": "bar"
           }
          ],
          "barpolar": [
           {
            "marker": {
             "line": {
              "color": "#E5ECF6",
              "width": 0.5
             },
             "pattern": {
              "fillmode": "overlay",
              "size": 10,
              "solidity": 0.2
             }
            },
            "type": "barpolar"
           }
          ],
          "carpet": [
           {
            "aaxis": {
             "endlinecolor": "#2a3f5f",
             "gridcolor": "white",
             "linecolor": "white",
             "minorgridcolor": "white",
             "startlinecolor": "#2a3f5f"
            },
            "baxis": {
             "endlinecolor": "#2a3f5f",
             "gridcolor": "white",
             "linecolor": "white",
             "minorgridcolor": "white",
             "startlinecolor": "#2a3f5f"
            },
            "type": "carpet"
           }
          ],
          "choropleth": [
           {
            "colorbar": {
             "outlinewidth": 0,
             "ticks": ""
            },
            "type": "choropleth"
           }
          ],
          "contour": [
           {
            "colorbar": {
             "outlinewidth": 0,
             "ticks": ""
            },
            "colorscale": [
             [
              0,
              "#0d0887"
             ],
             [
              0.1111111111111111,
              "#46039f"
             ],
             [
              0.2222222222222222,
              "#7201a8"
             ],
             [
              0.3333333333333333,
              "#9c179e"
             ],
             [
              0.4444444444444444,
              "#bd3786"
             ],
             [
              0.5555555555555556,
              "#d8576b"
             ],
             [
              0.6666666666666666,
              "#ed7953"
             ],
             [
              0.7777777777777778,
              "#fb9f3a"
             ],
             [
              0.8888888888888888,
              "#fdca26"
             ],
             [
              1,
              "#f0f921"
             ]
            ],
            "type": "contour"
           }
          ],
          "contourcarpet": [
           {
            "colorbar": {
             "outlinewidth": 0,
             "ticks": ""
            },
            "type": "contourcarpet"
           }
          ],
          "heatmap": [
           {
            "colorbar": {
             "outlinewidth": 0,
             "ticks": ""
            },
            "colorscale": [
             [
              0,
              "#0d0887"
             ],
             [
              0.1111111111111111,
              "#46039f"
             ],
             [
              0.2222222222222222,
              "#7201a8"
             ],
             [
              0.3333333333333333,
              "#9c179e"
             ],
             [
              0.4444444444444444,
              "#bd3786"
             ],
             [
              0.5555555555555556,
              "#d8576b"
             ],
             [
              0.6666666666666666,
              "#ed7953"
             ],
             [
              0.7777777777777778,
              "#fb9f3a"
             ],
             [
              0.8888888888888888,
              "#fdca26"
             ],
             [
              1,
              "#f0f921"
             ]
            ],
            "type": "heatmap"
           }
          ],
          "heatmapgl": [
           {
            "colorbar": {
             "outlinewidth": 0,
             "ticks": ""
            },
            "colorscale": [
             [
              0,
              "#0d0887"
             ],
             [
              0.1111111111111111,
              "#46039f"
             ],
             [
              0.2222222222222222,
              "#7201a8"
             ],
             [
              0.3333333333333333,
              "#9c179e"
             ],
             [
              0.4444444444444444,
              "#bd3786"
             ],
             [
              0.5555555555555556,
              "#d8576b"
             ],
             [
              0.6666666666666666,
              "#ed7953"
             ],
             [
              0.7777777777777778,
              "#fb9f3a"
             ],
             [
              0.8888888888888888,
              "#fdca26"
             ],
             [
              1,
              "#f0f921"
             ]
            ],
            "type": "heatmapgl"
           }
          ],
          "histogram": [
           {
            "marker": {
             "pattern": {
              "fillmode": "overlay",
              "size": 10,
              "solidity": 0.2
             }
            },
            "type": "histogram"
           }
          ],
          "histogram2d": [
           {
            "colorbar": {
             "outlinewidth": 0,
             "ticks": ""
            },
            "colorscale": [
             [
              0,
              "#0d0887"
             ],
             [
              0.1111111111111111,
              "#46039f"
             ],
             [
              0.2222222222222222,
              "#7201a8"
             ],
             [
              0.3333333333333333,
              "#9c179e"
             ],
             [
              0.4444444444444444,
              "#bd3786"
             ],
             [
              0.5555555555555556,
              "#d8576b"
             ],
             [
              0.6666666666666666,
              "#ed7953"
             ],
             [
              0.7777777777777778,
              "#fb9f3a"
             ],
             [
              0.8888888888888888,
              "#fdca26"
             ],
             [
              1,
              "#f0f921"
             ]
            ],
            "type": "histogram2d"
           }
          ],
          "histogram2dcontour": [
           {
            "colorbar": {
             "outlinewidth": 0,
             "ticks": ""
            },
            "colorscale": [
             [
              0,
              "#0d0887"
             ],
             [
              0.1111111111111111,
              "#46039f"
             ],
             [
              0.2222222222222222,
              "#7201a8"
             ],
             [
              0.3333333333333333,
              "#9c179e"
             ],
             [
              0.4444444444444444,
              "#bd3786"
             ],
             [
              0.5555555555555556,
              "#d8576b"
             ],
             [
              0.6666666666666666,
              "#ed7953"
             ],
             [
              0.7777777777777778,
              "#fb9f3a"
             ],
             [
              0.8888888888888888,
              "#fdca26"
             ],
             [
              1,
              "#f0f921"
             ]
            ],
            "type": "histogram2dcontour"
           }
          ],
          "mesh3d": [
           {
            "colorbar": {
             "outlinewidth": 0,
             "ticks": ""
            },
            "type": "mesh3d"
           }
          ],
          "parcoords": [
           {
            "line": {
             "colorbar": {
              "outlinewidth": 0,
              "ticks": ""
             }
            },
            "type": "parcoords"
           }
          ],
          "pie": [
           {
            "automargin": true,
            "type": "pie"
           }
          ],
          "scatter": [
           {
            "fillpattern": {
             "fillmode": "overlay",
             "size": 10,
             "solidity": 0.2
            },
            "type": "scatter"
           }
          ],
          "scatter3d": [
           {
            "line": {
             "colorbar": {
              "outlinewidth": 0,
              "ticks": ""
             }
            },
            "marker": {
             "colorbar": {
              "outlinewidth": 0,
              "ticks": ""
             }
            },
            "type": "scatter3d"
           }
          ],
          "scattercarpet": [
           {
            "marker": {
             "colorbar": {
              "outlinewidth": 0,
              "ticks": ""
             }
            },
            "type": "scattercarpet"
           }
          ],
          "scattergeo": [
           {
            "marker": {
             "colorbar": {
              "outlinewidth": 0,
              "ticks": ""
             }
            },
            "type": "scattergeo"
           }
          ],
          "scattergl": [
           {
            "marker": {
             "colorbar": {
              "outlinewidth": 0,
              "ticks": ""
             }
            },
            "type": "scattergl"
           }
          ],
          "scattermapbox": [
           {
            "marker": {
             "colorbar": {
              "outlinewidth": 0,
              "ticks": ""
             }
            },
            "type": "scattermapbox"
           }
          ],
          "scatterpolar": [
           {
            "marker": {
             "colorbar": {
              "outlinewidth": 0,
              "ticks": ""
             }
            },
            "type": "scatterpolar"
           }
          ],
          "scatterpolargl": [
           {
            "marker": {
             "colorbar": {
              "outlinewidth": 0,
              "ticks": ""
             }
            },
            "type": "scatterpolargl"
           }
          ],
          "scatterternary": [
           {
            "marker": {
             "colorbar": {
              "outlinewidth": 0,
              "ticks": ""
             }
            },
            "type": "scatterternary"
           }
          ],
          "surface": [
           {
            "colorbar": {
             "outlinewidth": 0,
             "ticks": ""
            },
            "colorscale": [
             [
              0,
              "#0d0887"
             ],
             [
              0.1111111111111111,
              "#46039f"
             ],
             [
              0.2222222222222222,
              "#7201a8"
             ],
             [
              0.3333333333333333,
              "#9c179e"
             ],
             [
              0.4444444444444444,
              "#bd3786"
             ],
             [
              0.5555555555555556,
              "#d8576b"
             ],
             [
              0.6666666666666666,
              "#ed7953"
             ],
             [
              0.7777777777777778,
              "#fb9f3a"
             ],
             [
              0.8888888888888888,
              "#fdca26"
             ],
             [
              1,
              "#f0f921"
             ]
            ],
            "type": "surface"
           }
          ],
          "table": [
           {
            "cells": {
             "fill": {
              "color": "#EBF0F8"
             },
             "line": {
              "color": "white"
             }
            },
            "header": {
             "fill": {
              "color": "#C8D4E3"
             },
             "line": {
              "color": "white"
             }
            },
            "type": "table"
           }
          ]
         },
         "layout": {
          "annotationdefaults": {
           "arrowcolor": "#2a3f5f",
           "arrowhead": 0,
           "arrowwidth": 1
          },
          "autotypenumbers": "strict",
          "coloraxis": {
           "colorbar": {
            "outlinewidth": 0,
            "ticks": ""
           }
          },
          "colorscale": {
           "diverging": [
            [
             0,
             "#8e0152"
            ],
            [
             0.1,
             "#c51b7d"
            ],
            [
             0.2,
             "#de77ae"
            ],
            [
             0.3,
             "#f1b6da"
            ],
            [
             0.4,
             "#fde0ef"
            ],
            [
             0.5,
             "#f7f7f7"
            ],
            [
             0.6,
             "#e6f5d0"
            ],
            [
             0.7,
             "#b8e186"
            ],
            [
             0.8,
             "#7fbc41"
            ],
            [
             0.9,
             "#4d9221"
            ],
            [
             1,
             "#276419"
            ]
           ],
           "sequential": [
            [
             0,
             "#0d0887"
            ],
            [
             0.1111111111111111,
             "#46039f"
            ],
            [
             0.2222222222222222,
             "#7201a8"
            ],
            [
             0.3333333333333333,
             "#9c179e"
            ],
            [
             0.4444444444444444,
             "#bd3786"
            ],
            [
             0.5555555555555556,
             "#d8576b"
            ],
            [
             0.6666666666666666,
             "#ed7953"
            ],
            [
             0.7777777777777778,
             "#fb9f3a"
            ],
            [
             0.8888888888888888,
             "#fdca26"
            ],
            [
             1,
             "#f0f921"
            ]
           ],
           "sequentialminus": [
            [
             0,
             "#0d0887"
            ],
            [
             0.1111111111111111,
             "#46039f"
            ],
            [
             0.2222222222222222,
             "#7201a8"
            ],
            [
             0.3333333333333333,
             "#9c179e"
            ],
            [
             0.4444444444444444,
             "#bd3786"
            ],
            [
             0.5555555555555556,
             "#d8576b"
            ],
            [
             0.6666666666666666,
             "#ed7953"
            ],
            [
             0.7777777777777778,
             "#fb9f3a"
            ],
            [
             0.8888888888888888,
             "#fdca26"
            ],
            [
             1,
             "#f0f921"
            ]
           ]
          },
          "colorway": [
           "#636efa",
           "#EF553B",
           "#00cc96",
           "#ab63fa",
           "#FFA15A",
           "#19d3f3",
           "#FF6692",
           "#B6E880",
           "#FF97FF",
           "#FECB52"
          ],
          "font": {
           "color": "#2a3f5f"
          },
          "geo": {
           "bgcolor": "white",
           "lakecolor": "white",
           "landcolor": "#E5ECF6",
           "showlakes": true,
           "showland": true,
           "subunitcolor": "white"
          },
          "hoverlabel": {
           "align": "left"
          },
          "hovermode": "closest",
          "mapbox": {
           "style": "light"
          },
          "paper_bgcolor": "white",
          "plot_bgcolor": "#E5ECF6",
          "polar": {
           "angularaxis": {
            "gridcolor": "white",
            "linecolor": "white",
            "ticks": ""
           },
           "bgcolor": "#E5ECF6",
           "radialaxis": {
            "gridcolor": "white",
            "linecolor": "white",
            "ticks": ""
           }
          },
          "scene": {
           "xaxis": {
            "backgroundcolor": "#E5ECF6",
            "gridcolor": "white",
            "gridwidth": 2,
            "linecolor": "white",
            "showbackground": true,
            "ticks": "",
            "zerolinecolor": "white"
           },
           "yaxis": {
            "backgroundcolor": "#E5ECF6",
            "gridcolor": "white",
            "gridwidth": 2,
            "linecolor": "white",
            "showbackground": true,
            "ticks": "",
            "zerolinecolor": "white"
           },
           "zaxis": {
            "backgroundcolor": "#E5ECF6",
            "gridcolor": "white",
            "gridwidth": 2,
            "linecolor": "white",
            "showbackground": true,
            "ticks": "",
            "zerolinecolor": "white"
           }
          },
          "shapedefaults": {
           "line": {
            "color": "#2a3f5f"
           }
          },
          "ternary": {
           "aaxis": {
            "gridcolor": "white",
            "linecolor": "white",
            "ticks": ""
           },
           "baxis": {
            "gridcolor": "white",
            "linecolor": "white",
            "ticks": ""
           },
           "bgcolor": "#E5ECF6",
           "caxis": {
            "gridcolor": "white",
            "linecolor": "white",
            "ticks": ""
           }
          },
          "title": {
           "x": 0.05
          },
          "xaxis": {
           "automargin": true,
           "gridcolor": "white",
           "linecolor": "white",
           "ticks": "",
           "title": {
            "standoff": 15
           },
           "zerolinecolor": "white",
           "zerolinewidth": 2
          },
          "yaxis": {
           "automargin": true,
           "gridcolor": "white",
           "linecolor": "white",
           "ticks": "",
           "title": {
            "standoff": 15
           },
           "zerolinecolor": "white",
           "zerolinewidth": 2
          }
         }
        },
        "title": {
         "text": "Series: (F50 - F59) Síndromes comportamentais associadas a disfunções fisiológicas e a fatores físicos"
        },
        "xaxis": {
         "title": {
          "text": "Time"
         }
        },
        "yaxis": {
         "title": {
          "text": "Value"
         }
        }
       }
      }
     },
     "metadata": {},
     "output_type": "display_data"
    },
    {
     "data": {
      "application/vnd.plotly.v1+json": {
       "config": {
        "plotlyServerURL": "https://plot.ly"
       },
       "data": [
        {
         "hovertemplate": "<b>%{x|%Y-%m-%d}</b><br>Real: %{y:.2f}<extra></extra>",
         "mode": "markers",
         "name": "Real",
         "type": "scatter",
         "x": [
          "2016-03-31T00:00:00",
          "2016-06-30T00:00:00",
          "2016-09-30T00:00:00",
          "2016-12-31T00:00:00",
          "2017-03-31T00:00:00",
          "2017-06-30T00:00:00",
          "2017-09-30T00:00:00",
          "2017-12-31T00:00:00",
          "2018-03-31T00:00:00",
          "2018-06-30T00:00:00",
          "2018-09-30T00:00:00",
          "2018-12-31T00:00:00",
          "2019-03-31T00:00:00",
          "2019-06-30T00:00:00",
          "2019-09-30T00:00:00",
          "2019-12-31T00:00:00",
          "2020-03-31T00:00:00",
          "2020-06-30T00:00:00",
          "2020-09-30T00:00:00",
          "2020-12-31T00:00:00",
          "2021-03-31T00:00:00",
          "2021-06-30T00:00:00",
          "2021-09-30T00:00:00",
          "2021-12-31T00:00:00",
          "2022-03-31T00:00:00",
          "2022-06-30T00:00:00"
         ],
         "y": [
          80,
          141,
          128,
          143,
          162,
          157,
          150,
          161,
          164,
          168,
          131,
          188,
          254,
          215,
          186,
          179,
          196,
          254,
          529,
          522,
          478,
          449,
          462,
          449,
          401,
          475
         ]
        },
        {
         "error_y": {
          "array": [
           2.080416327282618,
           2.080416327282618,
           2.080416327282618,
           2.080416327282618,
           2.080416327282618,
           2.080416327282618,
           2.080416327282618,
           2.080416327282618,
           2.080416327282618,
           2.080416327282618,
           2.080416327282618,
           2.080416327282618,
           2.080416327282618,
           2.080416327282618,
           2.080416327282618,
           2.080416327282618,
           2.080416327282618,
           2.080416327282618,
           2.080416327282618,
           2.080416327282618,
           2.080416327282618,
           2.080416327282618,
           2.080416327282618,
           2.080416327282618,
           2.080416327282618,
           2.080416327282618
          ],
          "thickness": 1.5,
          "type": "data",
          "visible": true,
          "width": 6
         },
         "hovertemplate": "<b>%{x|%Y-%m-%d}</b><br>Total: %{y:.2f}<extra></extra>",
         "mode": "lines+markers",
         "name": "Total",
         "type": "scatter",
         "x": [
          "2016-03-31T00:00:00",
          "2016-06-30T00:00:00",
          "2016-09-30T00:00:00",
          "2016-12-31T00:00:00",
          "2017-03-31T00:00:00",
          "2017-06-30T00:00:00",
          "2017-09-30T00:00:00",
          "2017-12-31T00:00:00",
          "2018-03-31T00:00:00",
          "2018-06-30T00:00:00",
          "2018-09-30T00:00:00",
          "2018-12-31T00:00:00",
          "2019-03-31T00:00:00",
          "2019-06-30T00:00:00",
          "2019-09-30T00:00:00",
          "2019-12-31T00:00:00",
          "2020-03-31T00:00:00",
          "2020-06-30T00:00:00",
          "2020-09-30T00:00:00",
          "2020-12-31T00:00:00",
          "2021-03-31T00:00:00",
          "2021-06-30T00:00:00",
          "2021-09-30T00:00:00",
          "2021-12-31T00:00:00",
          "2022-03-31T00:00:00",
          "2022-06-30T00:00:00"
         ],
         "y": [
          165.7772058620212,
          166.91274205959672,
          168.04827825717226,
          169.1838144547478,
          170.31935065232335,
          171.45488684989888,
          172.59042304747442,
          173.72595924504995,
          174.86149544262548,
          175.99703164020102,
          177.13256783777655,
          178.2681040353521,
          179.40364023292764,
          180.53917643050318,
          181.6747126280787,
          182.81024882565424,
          183.94578502322977,
          185.0813212208053,
          186.21685741838084,
          187.35239361595637,
          188.48792981353193,
          189.62346601110747,
          190.759002208683,
          191.89453840625853,
          193.03007460383407,
          194.1656108014096
         ]
        }
       ],
       "layout": {
        "legend": {
         "title": {
          "text": "Legend"
         }
        },
        "shapes": [
         {
          "fillcolor": "LightSalmon",
          "layer": "below",
          "line": {
           "width": 0
          },
          "opacity": 0.3,
          "type": "rect",
          "x0": "2020-03-31T00:00:00",
          "x1": "2020-12-31T00:00:00",
          "xref": "x",
          "y0": 0,
          "y1": 1,
          "yref": "paper"
         }
        ],
        "template": {
         "data": {
          "bar": [
           {
            "error_x": {
             "color": "#2a3f5f"
            },
            "error_y": {
             "color": "#2a3f5f"
            },
            "marker": {
             "line": {
              "color": "#E5ECF6",
              "width": 0.5
             },
             "pattern": {
              "fillmode": "overlay",
              "size": 10,
              "solidity": 0.2
             }
            },
            "type": "bar"
           }
          ],
          "barpolar": [
           {
            "marker": {
             "line": {
              "color": "#E5ECF6",
              "width": 0.5
             },
             "pattern": {
              "fillmode": "overlay",
              "size": 10,
              "solidity": 0.2
             }
            },
            "type": "barpolar"
           }
          ],
          "carpet": [
           {
            "aaxis": {
             "endlinecolor": "#2a3f5f",
             "gridcolor": "white",
             "linecolor": "white",
             "minorgridcolor": "white",
             "startlinecolor": "#2a3f5f"
            },
            "baxis": {
             "endlinecolor": "#2a3f5f",
             "gridcolor": "white",
             "linecolor": "white",
             "minorgridcolor": "white",
             "startlinecolor": "#2a3f5f"
            },
            "type": "carpet"
           }
          ],
          "choropleth": [
           {
            "colorbar": {
             "outlinewidth": 0,
             "ticks": ""
            },
            "type": "choropleth"
           }
          ],
          "contour": [
           {
            "colorbar": {
             "outlinewidth": 0,
             "ticks": ""
            },
            "colorscale": [
             [
              0,
              "#0d0887"
             ],
             [
              0.1111111111111111,
              "#46039f"
             ],
             [
              0.2222222222222222,
              "#7201a8"
             ],
             [
              0.3333333333333333,
              "#9c179e"
             ],
             [
              0.4444444444444444,
              "#bd3786"
             ],
             [
              0.5555555555555556,
              "#d8576b"
             ],
             [
              0.6666666666666666,
              "#ed7953"
             ],
             [
              0.7777777777777778,
              "#fb9f3a"
             ],
             [
              0.8888888888888888,
              "#fdca26"
             ],
             [
              1,
              "#f0f921"
             ]
            ],
            "type": "contour"
           }
          ],
          "contourcarpet": [
           {
            "colorbar": {
             "outlinewidth": 0,
             "ticks": ""
            },
            "type": "contourcarpet"
           }
          ],
          "heatmap": [
           {
            "colorbar": {
             "outlinewidth": 0,
             "ticks": ""
            },
            "colorscale": [
             [
              0,
              "#0d0887"
             ],
             [
              0.1111111111111111,
              "#46039f"
             ],
             [
              0.2222222222222222,
              "#7201a8"
             ],
             [
              0.3333333333333333,
              "#9c179e"
             ],
             [
              0.4444444444444444,
              "#bd3786"
             ],
             [
              0.5555555555555556,
              "#d8576b"
             ],
             [
              0.6666666666666666,
              "#ed7953"
             ],
             [
              0.7777777777777778,
              "#fb9f3a"
             ],
             [
              0.8888888888888888,
              "#fdca26"
             ],
             [
              1,
              "#f0f921"
             ]
            ],
            "type": "heatmap"
           }
          ],
          "heatmapgl": [
           {
            "colorbar": {
             "outlinewidth": 0,
             "ticks": ""
            },
            "colorscale": [
             [
              0,
              "#0d0887"
             ],
             [
              0.1111111111111111,
              "#46039f"
             ],
             [
              0.2222222222222222,
              "#7201a8"
             ],
             [
              0.3333333333333333,
              "#9c179e"
             ],
             [
              0.4444444444444444,
              "#bd3786"
             ],
             [
              0.5555555555555556,
              "#d8576b"
             ],
             [
              0.6666666666666666,
              "#ed7953"
             ],
             [
              0.7777777777777778,
              "#fb9f3a"
             ],
             [
              0.8888888888888888,
              "#fdca26"
             ],
             [
              1,
              "#f0f921"
             ]
            ],
            "type": "heatmapgl"
           }
          ],
          "histogram": [
           {
            "marker": {
             "pattern": {
              "fillmode": "overlay",
              "size": 10,
              "solidity": 0.2
             }
            },
            "type": "histogram"
           }
          ],
          "histogram2d": [
           {
            "colorbar": {
             "outlinewidth": 0,
             "ticks": ""
            },
            "colorscale": [
             [
              0,
              "#0d0887"
             ],
             [
              0.1111111111111111,
              "#46039f"
             ],
             [
              0.2222222222222222,
              "#7201a8"
             ],
             [
              0.3333333333333333,
              "#9c179e"
             ],
             [
              0.4444444444444444,
              "#bd3786"
             ],
             [
              0.5555555555555556,
              "#d8576b"
             ],
             [
              0.6666666666666666,
              "#ed7953"
             ],
             [
              0.7777777777777778,
              "#fb9f3a"
             ],
             [
              0.8888888888888888,
              "#fdca26"
             ],
             [
              1,
              "#f0f921"
             ]
            ],
            "type": "histogram2d"
           }
          ],
          "histogram2dcontour": [
           {
            "colorbar": {
             "outlinewidth": 0,
             "ticks": ""
            },
            "colorscale": [
             [
              0,
              "#0d0887"
             ],
             [
              0.1111111111111111,
              "#46039f"
             ],
             [
              0.2222222222222222,
              "#7201a8"
             ],
             [
              0.3333333333333333,
              "#9c179e"
             ],
             [
              0.4444444444444444,
              "#bd3786"
             ],
             [
              0.5555555555555556,
              "#d8576b"
             ],
             [
              0.6666666666666666,
              "#ed7953"
             ],
             [
              0.7777777777777778,
              "#fb9f3a"
             ],
             [
              0.8888888888888888,
              "#fdca26"
             ],
             [
              1,
              "#f0f921"
             ]
            ],
            "type": "histogram2dcontour"
           }
          ],
          "mesh3d": [
           {
            "colorbar": {
             "outlinewidth": 0,
             "ticks": ""
            },
            "type": "mesh3d"
           }
          ],
          "parcoords": [
           {
            "line": {
             "colorbar": {
              "outlinewidth": 0,
              "ticks": ""
             }
            },
            "type": "parcoords"
           }
          ],
          "pie": [
           {
            "automargin": true,
            "type": "pie"
           }
          ],
          "scatter": [
           {
            "fillpattern": {
             "fillmode": "overlay",
             "size": 10,
             "solidity": 0.2
            },
            "type": "scatter"
           }
          ],
          "scatter3d": [
           {
            "line": {
             "colorbar": {
              "outlinewidth": 0,
              "ticks": ""
             }
            },
            "marker": {
             "colorbar": {
              "outlinewidth": 0,
              "ticks": ""
             }
            },
            "type": "scatter3d"
           }
          ],
          "scattercarpet": [
           {
            "marker": {
             "colorbar": {
              "outlinewidth": 0,
              "ticks": ""
             }
            },
            "type": "scattercarpet"
           }
          ],
          "scattergeo": [
           {
            "marker": {
             "colorbar": {
              "outlinewidth": 0,
              "ticks": ""
             }
            },
            "type": "scattergeo"
           }
          ],
          "scattergl": [
           {
            "marker": {
             "colorbar": {
              "outlinewidth": 0,
              "ticks": ""
             }
            },
            "type": "scattergl"
           }
          ],
          "scattermapbox": [
           {
            "marker": {
             "colorbar": {
              "outlinewidth": 0,
              "ticks": ""
             }
            },
            "type": "scattermapbox"
           }
          ],
          "scatterpolar": [
           {
            "marker": {
             "colorbar": {
              "outlinewidth": 0,
              "ticks": ""
             }
            },
            "type": "scatterpolar"
           }
          ],
          "scatterpolargl": [
           {
            "marker": {
             "colorbar": {
              "outlinewidth": 0,
              "ticks": ""
             }
            },
            "type": "scatterpolargl"
           }
          ],
          "scatterternary": [
           {
            "marker": {
             "colorbar": {
              "outlinewidth": 0,
              "ticks": ""
             }
            },
            "type": "scatterternary"
           }
          ],
          "surface": [
           {
            "colorbar": {
             "outlinewidth": 0,
             "ticks": ""
            },
            "colorscale": [
             [
              0,
              "#0d0887"
             ],
             [
              0.1111111111111111,
              "#46039f"
             ],
             [
              0.2222222222222222,
              "#7201a8"
             ],
             [
              0.3333333333333333,
              "#9c179e"
             ],
             [
              0.4444444444444444,
              "#bd3786"
             ],
             [
              0.5555555555555556,
              "#d8576b"
             ],
             [
              0.6666666666666666,
              "#ed7953"
             ],
             [
              0.7777777777777778,
              "#fb9f3a"
             ],
             [
              0.8888888888888888,
              "#fdca26"
             ],
             [
              1,
              "#f0f921"
             ]
            ],
            "type": "surface"
           }
          ],
          "table": [
           {
            "cells": {
             "fill": {
              "color": "#EBF0F8"
             },
             "line": {
              "color": "white"
             }
            },
            "header": {
             "fill": {
              "color": "#C8D4E3"
             },
             "line": {
              "color": "white"
             }
            },
            "type": "table"
           }
          ]
         },
         "layout": {
          "annotationdefaults": {
           "arrowcolor": "#2a3f5f",
           "arrowhead": 0,
           "arrowwidth": 1
          },
          "autotypenumbers": "strict",
          "coloraxis": {
           "colorbar": {
            "outlinewidth": 0,
            "ticks": ""
           }
          },
          "colorscale": {
           "diverging": [
            [
             0,
             "#8e0152"
            ],
            [
             0.1,
             "#c51b7d"
            ],
            [
             0.2,
             "#de77ae"
            ],
            [
             0.3,
             "#f1b6da"
            ],
            [
             0.4,
             "#fde0ef"
            ],
            [
             0.5,
             "#f7f7f7"
            ],
            [
             0.6,
             "#e6f5d0"
            ],
            [
             0.7,
             "#b8e186"
            ],
            [
             0.8,
             "#7fbc41"
            ],
            [
             0.9,
             "#4d9221"
            ],
            [
             1,
             "#276419"
            ]
           ],
           "sequential": [
            [
             0,
             "#0d0887"
            ],
            [
             0.1111111111111111,
             "#46039f"
            ],
            [
             0.2222222222222222,
             "#7201a8"
            ],
            [
             0.3333333333333333,
             "#9c179e"
            ],
            [
             0.4444444444444444,
             "#bd3786"
            ],
            [
             0.5555555555555556,
             "#d8576b"
            ],
            [
             0.6666666666666666,
             "#ed7953"
            ],
            [
             0.7777777777777778,
             "#fb9f3a"
            ],
            [
             0.8888888888888888,
             "#fdca26"
            ],
            [
             1,
             "#f0f921"
            ]
           ],
           "sequentialminus": [
            [
             0,
             "#0d0887"
            ],
            [
             0.1111111111111111,
             "#46039f"
            ],
            [
             0.2222222222222222,
             "#7201a8"
            ],
            [
             0.3333333333333333,
             "#9c179e"
            ],
            [
             0.4444444444444444,
             "#bd3786"
            ],
            [
             0.5555555555555556,
             "#d8576b"
            ],
            [
             0.6666666666666666,
             "#ed7953"
            ],
            [
             0.7777777777777778,
             "#fb9f3a"
            ],
            [
             0.8888888888888888,
             "#fdca26"
            ],
            [
             1,
             "#f0f921"
            ]
           ]
          },
          "colorway": [
           "#636efa",
           "#EF553B",
           "#00cc96",
           "#ab63fa",
           "#FFA15A",
           "#19d3f3",
           "#FF6692",
           "#B6E880",
           "#FF97FF",
           "#FECB52"
          ],
          "font": {
           "color": "#2a3f5f"
          },
          "geo": {
           "bgcolor": "white",
           "lakecolor": "white",
           "landcolor": "#E5ECF6",
           "showlakes": true,
           "showland": true,
           "subunitcolor": "white"
          },
          "hoverlabel": {
           "align": "left"
          },
          "hovermode": "closest",
          "mapbox": {
           "style": "light"
          },
          "paper_bgcolor": "white",
          "plot_bgcolor": "#E5ECF6",
          "polar": {
           "angularaxis": {
            "gridcolor": "white",
            "linecolor": "white",
            "ticks": ""
           },
           "bgcolor": "#E5ECF6",
           "radialaxis": {
            "gridcolor": "white",
            "linecolor": "white",
            "ticks": ""
           }
          },
          "scene": {
           "xaxis": {
            "backgroundcolor": "#E5ECF6",
            "gridcolor": "white",
            "gridwidth": 2,
            "linecolor": "white",
            "showbackground": true,
            "ticks": "",
            "zerolinecolor": "white"
           },
           "yaxis": {
            "backgroundcolor": "#E5ECF6",
            "gridcolor": "white",
            "gridwidth": 2,
            "linecolor": "white",
            "showbackground": true,
            "ticks": "",
            "zerolinecolor": "white"
           },
           "zaxis": {
            "backgroundcolor": "#E5ECF6",
            "gridcolor": "white",
            "gridwidth": 2,
            "linecolor": "white",
            "showbackground": true,
            "ticks": "",
            "zerolinecolor": "white"
           }
          },
          "shapedefaults": {
           "line": {
            "color": "#2a3f5f"
           }
          },
          "ternary": {
           "aaxis": {
            "gridcolor": "white",
            "linecolor": "white",
            "ticks": ""
           },
           "baxis": {
            "gridcolor": "white",
            "linecolor": "white",
            "ticks": ""
           },
           "bgcolor": "#E5ECF6",
           "caxis": {
            "gridcolor": "white",
            "linecolor": "white",
            "ticks": ""
           }
          },
          "title": {
           "x": 0.05
          },
          "xaxis": {
           "automargin": true,
           "gridcolor": "white",
           "linecolor": "white",
           "ticks": "",
           "title": {
            "standoff": 15
           },
           "zerolinecolor": "white",
           "zerolinewidth": 2
          },
          "yaxis": {
           "automargin": true,
           "gridcolor": "white",
           "linecolor": "white",
           "ticks": "",
           "title": {
            "standoff": 15
           },
           "zerolinecolor": "white",
           "zerolinewidth": 2
          }
         }
        },
        "title": {
         "text": "Series: (F60 - F69) Transtornos da personalidade e do comportamento do adulto"
        },
        "xaxis": {
         "title": {
          "text": "Time"
         }
        },
        "yaxis": {
         "title": {
          "text": "Value"
         }
        }
       }
      }
     },
     "metadata": {},
     "output_type": "display_data"
    },
    {
     "data": {
      "application/vnd.plotly.v1+json": {
       "config": {
        "plotlyServerURL": "https://plot.ly"
       },
       "data": [
        {
         "hovertemplate": "<b>%{x|%Y-%m-%d}</b><br>Real: %{y:.2f}<extra></extra>",
         "mode": "markers",
         "name": "Real",
         "type": "scatter",
         "x": [
          "2016-03-31T00:00:00",
          "2016-06-30T00:00:00",
          "2016-09-30T00:00:00",
          "2016-12-31T00:00:00",
          "2017-03-31T00:00:00",
          "2017-06-30T00:00:00",
          "2017-09-30T00:00:00",
          "2017-12-31T00:00:00",
          "2018-03-31T00:00:00",
          "2018-06-30T00:00:00",
          "2018-09-30T00:00:00",
          "2018-12-31T00:00:00",
          "2019-03-31T00:00:00",
          "2019-06-30T00:00:00",
          "2019-09-30T00:00:00",
          "2019-12-31T00:00:00",
          "2020-03-31T00:00:00",
          "2020-06-30T00:00:00",
          "2020-09-30T00:00:00",
          "2020-12-31T00:00:00",
          "2021-03-31T00:00:00",
          "2021-06-30T00:00:00",
          "2021-09-30T00:00:00",
          "2021-12-31T00:00:00",
          "2022-03-31T00:00:00",
          "2022-06-30T00:00:00"
         ],
         "y": [
          439,
          569,
          656,
          640,
          587,
          630,
          647,
          607,
          589,
          704,
          617,
          609,
          594,
          684,
          650,
          555,
          463,
          240,
          335,
          374,
          372,
          509,
          485,
          519,
          457,
          465
         ]
        },
        {
         "error_y": {
          "array": [
           2.033948587096446,
           2.033948587096446,
           2.033948587096446,
           2.033948587096446,
           2.033948587096446,
           2.033948587096446,
           2.033948587096446,
           2.033948587096446,
           2.033948587096446,
           2.033948587096446,
           2.033948587096446,
           2.033948587096446,
           2.033948587096446,
           2.033948587096446,
           2.033948587096446,
           2.033948587096446,
           2.033948587096446,
           2.033948587096446,
           2.033948587096446,
           2.033948587096446,
           2.033948587096446,
           2.033948587096446,
           2.033948587096446,
           2.033948587096446,
           2.033948587096446,
           2.033948587096446
          ],
          "thickness": 1.5,
          "type": "data",
          "visible": true,
          "width": 6
         },
         "hovertemplate": "<b>%{x|%Y-%m-%d}</b><br>Total: %{y:.2f}<extra></extra>",
         "mode": "lines+markers",
         "name": "Total",
         "type": "scatter",
         "x": [
          "2016-03-31T00:00:00",
          "2016-06-30T00:00:00",
          "2016-09-30T00:00:00",
          "2016-12-31T00:00:00",
          "2017-03-31T00:00:00",
          "2017-06-30T00:00:00",
          "2017-09-30T00:00:00",
          "2017-12-31T00:00:00",
          "2018-03-31T00:00:00",
          "2018-06-30T00:00:00",
          "2018-09-30T00:00:00",
          "2018-12-31T00:00:00",
          "2019-03-31T00:00:00",
          "2019-06-30T00:00:00",
          "2019-09-30T00:00:00",
          "2019-12-31T00:00:00",
          "2020-03-31T00:00:00",
          "2020-06-30T00:00:00",
          "2020-09-30T00:00:00",
          "2020-12-31T00:00:00",
          "2021-03-31T00:00:00",
          "2021-06-30T00:00:00",
          "2021-09-30T00:00:00",
          "2021-12-31T00:00:00",
          "2022-03-31T00:00:00",
          "2022-06-30T00:00:00"
         ],
         "y": [
          602.3208615498916,
          604.8438738985147,
          607.3668862471378,
          609.8898985957609,
          612.412910944384,
          614.9359232930071,
          617.4589356416302,
          619.9819479902533,
          622.5049603388765,
          625.0279726874995,
          627.5509850361226,
          630.0739973847457,
          632.5970097333688,
          635.1200220819919,
          637.643034430615,
          640.1660467792382,
          642.6890591278612,
          645.2120714764843,
          647.7350838251075,
          650.2580961737306,
          652.7811085223536,
          655.3041208709767,
          657.8271332195999,
          660.350145568223,
          662.873157916846,
          665.3961702654692
         ]
        }
       ],
       "layout": {
        "legend": {
         "title": {
          "text": "Legend"
         }
        },
        "shapes": [
         {
          "fillcolor": "LightSalmon",
          "layer": "below",
          "line": {
           "width": 0
          },
          "opacity": 0.3,
          "type": "rect",
          "x0": "2020-03-31T00:00:00",
          "x1": "2020-12-31T00:00:00",
          "xref": "x",
          "y0": 0,
          "y1": 1,
          "yref": "paper"
         }
        ],
        "template": {
         "data": {
          "bar": [
           {
            "error_x": {
             "color": "#2a3f5f"
            },
            "error_y": {
             "color": "#2a3f5f"
            },
            "marker": {
             "line": {
              "color": "#E5ECF6",
              "width": 0.5
             },
             "pattern": {
              "fillmode": "overlay",
              "size": 10,
              "solidity": 0.2
             }
            },
            "type": "bar"
           }
          ],
          "barpolar": [
           {
            "marker": {
             "line": {
              "color": "#E5ECF6",
              "width": 0.5
             },
             "pattern": {
              "fillmode": "overlay",
              "size": 10,
              "solidity": 0.2
             }
            },
            "type": "barpolar"
           }
          ],
          "carpet": [
           {
            "aaxis": {
             "endlinecolor": "#2a3f5f",
             "gridcolor": "white",
             "linecolor": "white",
             "minorgridcolor": "white",
             "startlinecolor": "#2a3f5f"
            },
            "baxis": {
             "endlinecolor": "#2a3f5f",
             "gridcolor": "white",
             "linecolor": "white",
             "minorgridcolor": "white",
             "startlinecolor": "#2a3f5f"
            },
            "type": "carpet"
           }
          ],
          "choropleth": [
           {
            "colorbar": {
             "outlinewidth": 0,
             "ticks": ""
            },
            "type": "choropleth"
           }
          ],
          "contour": [
           {
            "colorbar": {
             "outlinewidth": 0,
             "ticks": ""
            },
            "colorscale": [
             [
              0,
              "#0d0887"
             ],
             [
              0.1111111111111111,
              "#46039f"
             ],
             [
              0.2222222222222222,
              "#7201a8"
             ],
             [
              0.3333333333333333,
              "#9c179e"
             ],
             [
              0.4444444444444444,
              "#bd3786"
             ],
             [
              0.5555555555555556,
              "#d8576b"
             ],
             [
              0.6666666666666666,
              "#ed7953"
             ],
             [
              0.7777777777777778,
              "#fb9f3a"
             ],
             [
              0.8888888888888888,
              "#fdca26"
             ],
             [
              1,
              "#f0f921"
             ]
            ],
            "type": "contour"
           }
          ],
          "contourcarpet": [
           {
            "colorbar": {
             "outlinewidth": 0,
             "ticks": ""
            },
            "type": "contourcarpet"
           }
          ],
          "heatmap": [
           {
            "colorbar": {
             "outlinewidth": 0,
             "ticks": ""
            },
            "colorscale": [
             [
              0,
              "#0d0887"
             ],
             [
              0.1111111111111111,
              "#46039f"
             ],
             [
              0.2222222222222222,
              "#7201a8"
             ],
             [
              0.3333333333333333,
              "#9c179e"
             ],
             [
              0.4444444444444444,
              "#bd3786"
             ],
             [
              0.5555555555555556,
              "#d8576b"
             ],
             [
              0.6666666666666666,
              "#ed7953"
             ],
             [
              0.7777777777777778,
              "#fb9f3a"
             ],
             [
              0.8888888888888888,
              "#fdca26"
             ],
             [
              1,
              "#f0f921"
             ]
            ],
            "type": "heatmap"
           }
          ],
          "heatmapgl": [
           {
            "colorbar": {
             "outlinewidth": 0,
             "ticks": ""
            },
            "colorscale": [
             [
              0,
              "#0d0887"
             ],
             [
              0.1111111111111111,
              "#46039f"
             ],
             [
              0.2222222222222222,
              "#7201a8"
             ],
             [
              0.3333333333333333,
              "#9c179e"
             ],
             [
              0.4444444444444444,
              "#bd3786"
             ],
             [
              0.5555555555555556,
              "#d8576b"
             ],
             [
              0.6666666666666666,
              "#ed7953"
             ],
             [
              0.7777777777777778,
              "#fb9f3a"
             ],
             [
              0.8888888888888888,
              "#fdca26"
             ],
             [
              1,
              "#f0f921"
             ]
            ],
            "type": "heatmapgl"
           }
          ],
          "histogram": [
           {
            "marker": {
             "pattern": {
              "fillmode": "overlay",
              "size": 10,
              "solidity": 0.2
             }
            },
            "type": "histogram"
           }
          ],
          "histogram2d": [
           {
            "colorbar": {
             "outlinewidth": 0,
             "ticks": ""
            },
            "colorscale": [
             [
              0,
              "#0d0887"
             ],
             [
              0.1111111111111111,
              "#46039f"
             ],
             [
              0.2222222222222222,
              "#7201a8"
             ],
             [
              0.3333333333333333,
              "#9c179e"
             ],
             [
              0.4444444444444444,
              "#bd3786"
             ],
             [
              0.5555555555555556,
              "#d8576b"
             ],
             [
              0.6666666666666666,
              "#ed7953"
             ],
             [
              0.7777777777777778,
              "#fb9f3a"
             ],
             [
              0.8888888888888888,
              "#fdca26"
             ],
             [
              1,
              "#f0f921"
             ]
            ],
            "type": "histogram2d"
           }
          ],
          "histogram2dcontour": [
           {
            "colorbar": {
             "outlinewidth": 0,
             "ticks": ""
            },
            "colorscale": [
             [
              0,
              "#0d0887"
             ],
             [
              0.1111111111111111,
              "#46039f"
             ],
             [
              0.2222222222222222,
              "#7201a8"
             ],
             [
              0.3333333333333333,
              "#9c179e"
             ],
             [
              0.4444444444444444,
              "#bd3786"
             ],
             [
              0.5555555555555556,
              "#d8576b"
             ],
             [
              0.6666666666666666,
              "#ed7953"
             ],
             [
              0.7777777777777778,
              "#fb9f3a"
             ],
             [
              0.8888888888888888,
              "#fdca26"
             ],
             [
              1,
              "#f0f921"
             ]
            ],
            "type": "histogram2dcontour"
           }
          ],
          "mesh3d": [
           {
            "colorbar": {
             "outlinewidth": 0,
             "ticks": ""
            },
            "type": "mesh3d"
           }
          ],
          "parcoords": [
           {
            "line": {
             "colorbar": {
              "outlinewidth": 0,
              "ticks": ""
             }
            },
            "type": "parcoords"
           }
          ],
          "pie": [
           {
            "automargin": true,
            "type": "pie"
           }
          ],
          "scatter": [
           {
            "fillpattern": {
             "fillmode": "overlay",
             "size": 10,
             "solidity": 0.2
            },
            "type": "scatter"
           }
          ],
          "scatter3d": [
           {
            "line": {
             "colorbar": {
              "outlinewidth": 0,
              "ticks": ""
             }
            },
            "marker": {
             "colorbar": {
              "outlinewidth": 0,
              "ticks": ""
             }
            },
            "type": "scatter3d"
           }
          ],
          "scattercarpet": [
           {
            "marker": {
             "colorbar": {
              "outlinewidth": 0,
              "ticks": ""
             }
            },
            "type": "scattercarpet"
           }
          ],
          "scattergeo": [
           {
            "marker": {
             "colorbar": {
              "outlinewidth": 0,
              "ticks": ""
             }
            },
            "type": "scattergeo"
           }
          ],
          "scattergl": [
           {
            "marker": {
             "colorbar": {
              "outlinewidth": 0,
              "ticks": ""
             }
            },
            "type": "scattergl"
           }
          ],
          "scattermapbox": [
           {
            "marker": {
             "colorbar": {
              "outlinewidth": 0,
              "ticks": ""
             }
            },
            "type": "scattermapbox"
           }
          ],
          "scatterpolar": [
           {
            "marker": {
             "colorbar": {
              "outlinewidth": 0,
              "ticks": ""
             }
            },
            "type": "scatterpolar"
           }
          ],
          "scatterpolargl": [
           {
            "marker": {
             "colorbar": {
              "outlinewidth": 0,
              "ticks": ""
             }
            },
            "type": "scatterpolargl"
           }
          ],
          "scatterternary": [
           {
            "marker": {
             "colorbar": {
              "outlinewidth": 0,
              "ticks": ""
             }
            },
            "type": "scatterternary"
           }
          ],
          "surface": [
           {
            "colorbar": {
             "outlinewidth": 0,
             "ticks": ""
            },
            "colorscale": [
             [
              0,
              "#0d0887"
             ],
             [
              0.1111111111111111,
              "#46039f"
             ],
             [
              0.2222222222222222,
              "#7201a8"
             ],
             [
              0.3333333333333333,
              "#9c179e"
             ],
             [
              0.4444444444444444,
              "#bd3786"
             ],
             [
              0.5555555555555556,
              "#d8576b"
             ],
             [
              0.6666666666666666,
              "#ed7953"
             ],
             [
              0.7777777777777778,
              "#fb9f3a"
             ],
             [
              0.8888888888888888,
              "#fdca26"
             ],
             [
              1,
              "#f0f921"
             ]
            ],
            "type": "surface"
           }
          ],
          "table": [
           {
            "cells": {
             "fill": {
              "color": "#EBF0F8"
             },
             "line": {
              "color": "white"
             }
            },
            "header": {
             "fill": {
              "color": "#C8D4E3"
             },
             "line": {
              "color": "white"
             }
            },
            "type": "table"
           }
          ]
         },
         "layout": {
          "annotationdefaults": {
           "arrowcolor": "#2a3f5f",
           "arrowhead": 0,
           "arrowwidth": 1
          },
          "autotypenumbers": "strict",
          "coloraxis": {
           "colorbar": {
            "outlinewidth": 0,
            "ticks": ""
           }
          },
          "colorscale": {
           "diverging": [
            [
             0,
             "#8e0152"
            ],
            [
             0.1,
             "#c51b7d"
            ],
            [
             0.2,
             "#de77ae"
            ],
            [
             0.3,
             "#f1b6da"
            ],
            [
             0.4,
             "#fde0ef"
            ],
            [
             0.5,
             "#f7f7f7"
            ],
            [
             0.6,
             "#e6f5d0"
            ],
            [
             0.7,
             "#b8e186"
            ],
            [
             0.8,
             "#7fbc41"
            ],
            [
             0.9,
             "#4d9221"
            ],
            [
             1,
             "#276419"
            ]
           ],
           "sequential": [
            [
             0,
             "#0d0887"
            ],
            [
             0.1111111111111111,
             "#46039f"
            ],
            [
             0.2222222222222222,
             "#7201a8"
            ],
            [
             0.3333333333333333,
             "#9c179e"
            ],
            [
             0.4444444444444444,
             "#bd3786"
            ],
            [
             0.5555555555555556,
             "#d8576b"
            ],
            [
             0.6666666666666666,
             "#ed7953"
            ],
            [
             0.7777777777777778,
             "#fb9f3a"
            ],
            [
             0.8888888888888888,
             "#fdca26"
            ],
            [
             1,
             "#f0f921"
            ]
           ],
           "sequentialminus": [
            [
             0,
             "#0d0887"
            ],
            [
             0.1111111111111111,
             "#46039f"
            ],
            [
             0.2222222222222222,
             "#7201a8"
            ],
            [
             0.3333333333333333,
             "#9c179e"
            ],
            [
             0.4444444444444444,
             "#bd3786"
            ],
            [
             0.5555555555555556,
             "#d8576b"
            ],
            [
             0.6666666666666666,
             "#ed7953"
            ],
            [
             0.7777777777777778,
             "#fb9f3a"
            ],
            [
             0.8888888888888888,
             "#fdca26"
            ],
            [
             1,
             "#f0f921"
            ]
           ]
          },
          "colorway": [
           "#636efa",
           "#EF553B",
           "#00cc96",
           "#ab63fa",
           "#FFA15A",
           "#19d3f3",
           "#FF6692",
           "#B6E880",
           "#FF97FF",
           "#FECB52"
          ],
          "font": {
           "color": "#2a3f5f"
          },
          "geo": {
           "bgcolor": "white",
           "lakecolor": "white",
           "landcolor": "#E5ECF6",
           "showlakes": true,
           "showland": true,
           "subunitcolor": "white"
          },
          "hoverlabel": {
           "align": "left"
          },
          "hovermode": "closest",
          "mapbox": {
           "style": "light"
          },
          "paper_bgcolor": "white",
          "plot_bgcolor": "#E5ECF6",
          "polar": {
           "angularaxis": {
            "gridcolor": "white",
            "linecolor": "white",
            "ticks": ""
           },
           "bgcolor": "#E5ECF6",
           "radialaxis": {
            "gridcolor": "white",
            "linecolor": "white",
            "ticks": ""
           }
          },
          "scene": {
           "xaxis": {
            "backgroundcolor": "#E5ECF6",
            "gridcolor": "white",
            "gridwidth": 2,
            "linecolor": "white",
            "showbackground": true,
            "ticks": "",
            "zerolinecolor": "white"
           },
           "yaxis": {
            "backgroundcolor": "#E5ECF6",
            "gridcolor": "white",
            "gridwidth": 2,
            "linecolor": "white",
            "showbackground": true,
            "ticks": "",
            "zerolinecolor": "white"
           },
           "zaxis": {
            "backgroundcolor": "#E5ECF6",
            "gridcolor": "white",
            "gridwidth": 2,
            "linecolor": "white",
            "showbackground": true,
            "ticks": "",
            "zerolinecolor": "white"
           }
          },
          "shapedefaults": {
           "line": {
            "color": "#2a3f5f"
           }
          },
          "ternary": {
           "aaxis": {
            "gridcolor": "white",
            "linecolor": "white",
            "ticks": ""
           },
           "baxis": {
            "gridcolor": "white",
            "linecolor": "white",
            "ticks": ""
           },
           "bgcolor": "#E5ECF6",
           "caxis": {
            "gridcolor": "white",
            "linecolor": "white",
            "ticks": ""
           }
          },
          "title": {
           "x": 0.05
          },
          "xaxis": {
           "automargin": true,
           "gridcolor": "white",
           "linecolor": "white",
           "ticks": "",
           "title": {
            "standoff": 15
           },
           "zerolinecolor": "white",
           "zerolinewidth": 2
          },
          "yaxis": {
           "automargin": true,
           "gridcolor": "white",
           "linecolor": "white",
           "ticks": "",
           "title": {
            "standoff": 15
           },
           "zerolinecolor": "white",
           "zerolinewidth": 2
          }
         }
        },
        "title": {
         "text": "Series: (F70 - F79) Retardo mental"
        },
        "xaxis": {
         "title": {
          "text": "Time"
         }
        },
        "yaxis": {
         "title": {
          "text": "Value"
         }
        }
       }
      }
     },
     "metadata": {},
     "output_type": "display_data"
    },
    {
     "data": {
      "application/vnd.plotly.v1+json": {
       "config": {
        "plotlyServerURL": "https://plot.ly"
       },
       "data": [
        {
         "hovertemplate": "<b>%{x|%Y-%m-%d}</b><br>Real: %{y:.2f}<extra></extra>",
         "mode": "markers",
         "name": "Real",
         "type": "scatter",
         "x": [
          "2016-03-31T00:00:00",
          "2016-06-30T00:00:00",
          "2016-09-30T00:00:00",
          "2016-12-31T00:00:00",
          "2017-03-31T00:00:00",
          "2017-06-30T00:00:00",
          "2017-09-30T00:00:00",
          "2017-12-31T00:00:00",
          "2018-03-31T00:00:00",
          "2018-06-30T00:00:00",
          "2018-09-30T00:00:00",
          "2018-12-31T00:00:00",
          "2019-03-31T00:00:00",
          "2019-06-30T00:00:00",
          "2019-09-30T00:00:00",
          "2019-12-31T00:00:00",
          "2020-03-31T00:00:00",
          "2020-06-30T00:00:00",
          "2020-09-30T00:00:00",
          "2020-12-31T00:00:00",
          "2021-03-31T00:00:00",
          "2021-06-30T00:00:00",
          "2021-09-30T00:00:00",
          "2021-12-31T00:00:00",
          "2022-03-31T00:00:00",
          "2022-06-30T00:00:00"
         ],
         "y": [
          207,
          352,
          423,
          409,
          377,
          528,
          541,
          500,
          492,
          642,
          654,
          688,
          549,
          840,
          828,
          719,
          537,
          282,
          413,
          665,
          674,
          908,
          1182,
          1196,
          1029,
          1279
         ]
        },
        {
         "error_y": {
          "array": [
           10.5178522878444,
           10.5178522878444,
           10.5178522878444,
           10.5178522878444,
           10.5178522878444,
           10.5178522878444,
           10.5178522878444,
           10.5178522878444,
           10.5178522878444,
           10.5178522878444,
           10.5178522878444,
           10.5178522878444,
           10.5178522878444,
           10.5178522878444,
           10.5178522878444,
           10.5178522878444,
           10.5178522878444,
           10.5178522878444,
           10.5178522878444,
           10.5178522878444,
           10.5178522878444,
           10.5178522878444,
           10.5178522878444,
           10.5178522878444,
           10.5178522878444,
           10.5178522878444
          ],
          "thickness": 1.5,
          "type": "data",
          "visible": true,
          "width": 6
         },
         "hovertemplate": "<b>%{x|%Y-%m-%d}</b><br>Total: %{y:.2f}<extra></extra>",
         "mode": "lines+markers",
         "name": "Total",
         "type": "scatter",
         "x": [
          "2016-03-31T00:00:00",
          "2016-06-30T00:00:00",
          "2016-09-30T00:00:00",
          "2016-12-31T00:00:00",
          "2017-03-31T00:00:00",
          "2017-06-30T00:00:00",
          "2017-09-30T00:00:00",
          "2017-12-31T00:00:00",
          "2018-03-31T00:00:00",
          "2018-06-30T00:00:00",
          "2018-09-30T00:00:00",
          "2018-12-31T00:00:00",
          "2019-03-31T00:00:00",
          "2019-06-30T00:00:00",
          "2019-09-30T00:00:00",
          "2019-12-31T00:00:00",
          "2020-03-31T00:00:00",
          "2020-06-30T00:00:00",
          "2020-09-30T00:00:00",
          "2020-12-31T00:00:00",
          "2021-03-31T00:00:00",
          "2021-06-30T00:00:00",
          "2021-09-30T00:00:00",
          "2021-12-31T00:00:00",
          "2022-03-31T00:00:00",
          "2022-06-30T00:00:00"
         ],
         "y": [
          228.75574180766156,
          269.722995429352,
          310.69024905104243,
          351.6575026727329,
          392.6247562944233,
          433.59200991611374,
          474.5592635378042,
          515.5265171594947,
          556.493770781185,
          597.4610244028755,
          638.428278024566,
          679.3955316462564,
          720.3627852679468,
          761.3300388896373,
          802.2972925113277,
          843.2645461330181,
          884.2317997547086,
          925.199053376399,
          966.1663069980895,
          1007.1335606197799,
          1048.1008142414703,
          1089.0680678631606,
          1130.0353214848512,
          1171.0025751065416,
          1211.9698287282322,
          1252.9370823499225
         ]
        }
       ],
       "layout": {
        "legend": {
         "title": {
          "text": "Legend"
         }
        },
        "shapes": [
         {
          "fillcolor": "LightSalmon",
          "layer": "below",
          "line": {
           "width": 0
          },
          "opacity": 0.3,
          "type": "rect",
          "x0": "2020-03-31T00:00:00",
          "x1": "2020-12-31T00:00:00",
          "xref": "x",
          "y0": 0,
          "y1": 1,
          "yref": "paper"
         }
        ],
        "template": {
         "data": {
          "bar": [
           {
            "error_x": {
             "color": "#2a3f5f"
            },
            "error_y": {
             "color": "#2a3f5f"
            },
            "marker": {
             "line": {
              "color": "#E5ECF6",
              "width": 0.5
             },
             "pattern": {
              "fillmode": "overlay",
              "size": 10,
              "solidity": 0.2
             }
            },
            "type": "bar"
           }
          ],
          "barpolar": [
           {
            "marker": {
             "line": {
              "color": "#E5ECF6",
              "width": 0.5
             },
             "pattern": {
              "fillmode": "overlay",
              "size": 10,
              "solidity": 0.2
             }
            },
            "type": "barpolar"
           }
          ],
          "carpet": [
           {
            "aaxis": {
             "endlinecolor": "#2a3f5f",
             "gridcolor": "white",
             "linecolor": "white",
             "minorgridcolor": "white",
             "startlinecolor": "#2a3f5f"
            },
            "baxis": {
             "endlinecolor": "#2a3f5f",
             "gridcolor": "white",
             "linecolor": "white",
             "minorgridcolor": "white",
             "startlinecolor": "#2a3f5f"
            },
            "type": "carpet"
           }
          ],
          "choropleth": [
           {
            "colorbar": {
             "outlinewidth": 0,
             "ticks": ""
            },
            "type": "choropleth"
           }
          ],
          "contour": [
           {
            "colorbar": {
             "outlinewidth": 0,
             "ticks": ""
            },
            "colorscale": [
             [
              0,
              "#0d0887"
             ],
             [
              0.1111111111111111,
              "#46039f"
             ],
             [
              0.2222222222222222,
              "#7201a8"
             ],
             [
              0.3333333333333333,
              "#9c179e"
             ],
             [
              0.4444444444444444,
              "#bd3786"
             ],
             [
              0.5555555555555556,
              "#d8576b"
             ],
             [
              0.6666666666666666,
              "#ed7953"
             ],
             [
              0.7777777777777778,
              "#fb9f3a"
             ],
             [
              0.8888888888888888,
              "#fdca26"
             ],
             [
              1,
              "#f0f921"
             ]
            ],
            "type": "contour"
           }
          ],
          "contourcarpet": [
           {
            "colorbar": {
             "outlinewidth": 0,
             "ticks": ""
            },
            "type": "contourcarpet"
           }
          ],
          "heatmap": [
           {
            "colorbar": {
             "outlinewidth": 0,
             "ticks": ""
            },
            "colorscale": [
             [
              0,
              "#0d0887"
             ],
             [
              0.1111111111111111,
              "#46039f"
             ],
             [
              0.2222222222222222,
              "#7201a8"
             ],
             [
              0.3333333333333333,
              "#9c179e"
             ],
             [
              0.4444444444444444,
              "#bd3786"
             ],
             [
              0.5555555555555556,
              "#d8576b"
             ],
             [
              0.6666666666666666,
              "#ed7953"
             ],
             [
              0.7777777777777778,
              "#fb9f3a"
             ],
             [
              0.8888888888888888,
              "#fdca26"
             ],
             [
              1,
              "#f0f921"
             ]
            ],
            "type": "heatmap"
           }
          ],
          "heatmapgl": [
           {
            "colorbar": {
             "outlinewidth": 0,
             "ticks": ""
            },
            "colorscale": [
             [
              0,
              "#0d0887"
             ],
             [
              0.1111111111111111,
              "#46039f"
             ],
             [
              0.2222222222222222,
              "#7201a8"
             ],
             [
              0.3333333333333333,
              "#9c179e"
             ],
             [
              0.4444444444444444,
              "#bd3786"
             ],
             [
              0.5555555555555556,
              "#d8576b"
             ],
             [
              0.6666666666666666,
              "#ed7953"
             ],
             [
              0.7777777777777778,
              "#fb9f3a"
             ],
             [
              0.8888888888888888,
              "#fdca26"
             ],
             [
              1,
              "#f0f921"
             ]
            ],
            "type": "heatmapgl"
           }
          ],
          "histogram": [
           {
            "marker": {
             "pattern": {
              "fillmode": "overlay",
              "size": 10,
              "solidity": 0.2
             }
            },
            "type": "histogram"
           }
          ],
          "histogram2d": [
           {
            "colorbar": {
             "outlinewidth": 0,
             "ticks": ""
            },
            "colorscale": [
             [
              0,
              "#0d0887"
             ],
             [
              0.1111111111111111,
              "#46039f"
             ],
             [
              0.2222222222222222,
              "#7201a8"
             ],
             [
              0.3333333333333333,
              "#9c179e"
             ],
             [
              0.4444444444444444,
              "#bd3786"
             ],
             [
              0.5555555555555556,
              "#d8576b"
             ],
             [
              0.6666666666666666,
              "#ed7953"
             ],
             [
              0.7777777777777778,
              "#fb9f3a"
             ],
             [
              0.8888888888888888,
              "#fdca26"
             ],
             [
              1,
              "#f0f921"
             ]
            ],
            "type": "histogram2d"
           }
          ],
          "histogram2dcontour": [
           {
            "colorbar": {
             "outlinewidth": 0,
             "ticks": ""
            },
            "colorscale": [
             [
              0,
              "#0d0887"
             ],
             [
              0.1111111111111111,
              "#46039f"
             ],
             [
              0.2222222222222222,
              "#7201a8"
             ],
             [
              0.3333333333333333,
              "#9c179e"
             ],
             [
              0.4444444444444444,
              "#bd3786"
             ],
             [
              0.5555555555555556,
              "#d8576b"
             ],
             [
              0.6666666666666666,
              "#ed7953"
             ],
             [
              0.7777777777777778,
              "#fb9f3a"
             ],
             [
              0.8888888888888888,
              "#fdca26"
             ],
             [
              1,
              "#f0f921"
             ]
            ],
            "type": "histogram2dcontour"
           }
          ],
          "mesh3d": [
           {
            "colorbar": {
             "outlinewidth": 0,
             "ticks": ""
            },
            "type": "mesh3d"
           }
          ],
          "parcoords": [
           {
            "line": {
             "colorbar": {
              "outlinewidth": 0,
              "ticks": ""
             }
            },
            "type": "parcoords"
           }
          ],
          "pie": [
           {
            "automargin": true,
            "type": "pie"
           }
          ],
          "scatter": [
           {
            "fillpattern": {
             "fillmode": "overlay",
             "size": 10,
             "solidity": 0.2
            },
            "type": "scatter"
           }
          ],
          "scatter3d": [
           {
            "line": {
             "colorbar": {
              "outlinewidth": 0,
              "ticks": ""
             }
            },
            "marker": {
             "colorbar": {
              "outlinewidth": 0,
              "ticks": ""
             }
            },
            "type": "scatter3d"
           }
          ],
          "scattercarpet": [
           {
            "marker": {
             "colorbar": {
              "outlinewidth": 0,
              "ticks": ""
             }
            },
            "type": "scattercarpet"
           }
          ],
          "scattergeo": [
           {
            "marker": {
             "colorbar": {
              "outlinewidth": 0,
              "ticks": ""
             }
            },
            "type": "scattergeo"
           }
          ],
          "scattergl": [
           {
            "marker": {
             "colorbar": {
              "outlinewidth": 0,
              "ticks": ""
             }
            },
            "type": "scattergl"
           }
          ],
          "scattermapbox": [
           {
            "marker": {
             "colorbar": {
              "outlinewidth": 0,
              "ticks": ""
             }
            },
            "type": "scattermapbox"
           }
          ],
          "scatterpolar": [
           {
            "marker": {
             "colorbar": {
              "outlinewidth": 0,
              "ticks": ""
             }
            },
            "type": "scatterpolar"
           }
          ],
          "scatterpolargl": [
           {
            "marker": {
             "colorbar": {
              "outlinewidth": 0,
              "ticks": ""
             }
            },
            "type": "scatterpolargl"
           }
          ],
          "scatterternary": [
           {
            "marker": {
             "colorbar": {
              "outlinewidth": 0,
              "ticks": ""
             }
            },
            "type": "scatterternary"
           }
          ],
          "surface": [
           {
            "colorbar": {
             "outlinewidth": 0,
             "ticks": ""
            },
            "colorscale": [
             [
              0,
              "#0d0887"
             ],
             [
              0.1111111111111111,
              "#46039f"
             ],
             [
              0.2222222222222222,
              "#7201a8"
             ],
             [
              0.3333333333333333,
              "#9c179e"
             ],
             [
              0.4444444444444444,
              "#bd3786"
             ],
             [
              0.5555555555555556,
              "#d8576b"
             ],
             [
              0.6666666666666666,
              "#ed7953"
             ],
             [
              0.7777777777777778,
              "#fb9f3a"
             ],
             [
              0.8888888888888888,
              "#fdca26"
             ],
             [
              1,
              "#f0f921"
             ]
            ],
            "type": "surface"
           }
          ],
          "table": [
           {
            "cells": {
             "fill": {
              "color": "#EBF0F8"
             },
             "line": {
              "color": "white"
             }
            },
            "header": {
             "fill": {
              "color": "#C8D4E3"
             },
             "line": {
              "color": "white"
             }
            },
            "type": "table"
           }
          ]
         },
         "layout": {
          "annotationdefaults": {
           "arrowcolor": "#2a3f5f",
           "arrowhead": 0,
           "arrowwidth": 1
          },
          "autotypenumbers": "strict",
          "coloraxis": {
           "colorbar": {
            "outlinewidth": 0,
            "ticks": ""
           }
          },
          "colorscale": {
           "diverging": [
            [
             0,
             "#8e0152"
            ],
            [
             0.1,
             "#c51b7d"
            ],
            [
             0.2,
             "#de77ae"
            ],
            [
             0.3,
             "#f1b6da"
            ],
            [
             0.4,
             "#fde0ef"
            ],
            [
             0.5,
             "#f7f7f7"
            ],
            [
             0.6,
             "#e6f5d0"
            ],
            [
             0.7,
             "#b8e186"
            ],
            [
             0.8,
             "#7fbc41"
            ],
            [
             0.9,
             "#4d9221"
            ],
            [
             1,
             "#276419"
            ]
           ],
           "sequential": [
            [
             0,
             "#0d0887"
            ],
            [
             0.1111111111111111,
             "#46039f"
            ],
            [
             0.2222222222222222,
             "#7201a8"
            ],
            [
             0.3333333333333333,
             "#9c179e"
            ],
            [
             0.4444444444444444,
             "#bd3786"
            ],
            [
             0.5555555555555556,
             "#d8576b"
            ],
            [
             0.6666666666666666,
             "#ed7953"
            ],
            [
             0.7777777777777778,
             "#fb9f3a"
            ],
            [
             0.8888888888888888,
             "#fdca26"
            ],
            [
             1,
             "#f0f921"
            ]
           ],
           "sequentialminus": [
            [
             0,
             "#0d0887"
            ],
            [
             0.1111111111111111,
             "#46039f"
            ],
            [
             0.2222222222222222,
             "#7201a8"
            ],
            [
             0.3333333333333333,
             "#9c179e"
            ],
            [
             0.4444444444444444,
             "#bd3786"
            ],
            [
             0.5555555555555556,
             "#d8576b"
            ],
            [
             0.6666666666666666,
             "#ed7953"
            ],
            [
             0.7777777777777778,
             "#fb9f3a"
            ],
            [
             0.8888888888888888,
             "#fdca26"
            ],
            [
             1,
             "#f0f921"
            ]
           ]
          },
          "colorway": [
           "#636efa",
           "#EF553B",
           "#00cc96",
           "#ab63fa",
           "#FFA15A",
           "#19d3f3",
           "#FF6692",
           "#B6E880",
           "#FF97FF",
           "#FECB52"
          ],
          "font": {
           "color": "#2a3f5f"
          },
          "geo": {
           "bgcolor": "white",
           "lakecolor": "white",
           "landcolor": "#E5ECF6",
           "showlakes": true,
           "showland": true,
           "subunitcolor": "white"
          },
          "hoverlabel": {
           "align": "left"
          },
          "hovermode": "closest",
          "mapbox": {
           "style": "light"
          },
          "paper_bgcolor": "white",
          "plot_bgcolor": "#E5ECF6",
          "polar": {
           "angularaxis": {
            "gridcolor": "white",
            "linecolor": "white",
            "ticks": ""
           },
           "bgcolor": "#E5ECF6",
           "radialaxis": {
            "gridcolor": "white",
            "linecolor": "white",
            "ticks": ""
           }
          },
          "scene": {
           "xaxis": {
            "backgroundcolor": "#E5ECF6",
            "gridcolor": "white",
            "gridwidth": 2,
            "linecolor": "white",
            "showbackground": true,
            "ticks": "",
            "zerolinecolor": "white"
           },
           "yaxis": {
            "backgroundcolor": "#E5ECF6",
            "gridcolor": "white",
            "gridwidth": 2,
            "linecolor": "white",
            "showbackground": true,
            "ticks": "",
            "zerolinecolor": "white"
           },
           "zaxis": {
            "backgroundcolor": "#E5ECF6",
            "gridcolor": "white",
            "gridwidth": 2,
            "linecolor": "white",
            "showbackground": true,
            "ticks": "",
            "zerolinecolor": "white"
           }
          },
          "shapedefaults": {
           "line": {
            "color": "#2a3f5f"
           }
          },
          "ternary": {
           "aaxis": {
            "gridcolor": "white",
            "linecolor": "white",
            "ticks": ""
           },
           "baxis": {
            "gridcolor": "white",
            "linecolor": "white",
            "ticks": ""
           },
           "bgcolor": "#E5ECF6",
           "caxis": {
            "gridcolor": "white",
            "linecolor": "white",
            "ticks": ""
           }
          },
          "title": {
           "x": 0.05
          },
          "xaxis": {
           "automargin": true,
           "gridcolor": "white",
           "linecolor": "white",
           "ticks": "",
           "title": {
            "standoff": 15
           },
           "zerolinecolor": "white",
           "zerolinewidth": 2
          },
          "yaxis": {
           "automargin": true,
           "gridcolor": "white",
           "linecolor": "white",
           "ticks": "",
           "title": {
            "standoff": 15
           },
           "zerolinecolor": "white",
           "zerolinewidth": 2
          }
         }
        },
        "title": {
         "text": "Series: (F80 - F89) Transtornos do desenvolvimento psicológico"
        },
        "xaxis": {
         "title": {
          "text": "Time"
         }
        },
        "yaxis": {
         "title": {
          "text": "Value"
         }
        }
       }
      }
     },
     "metadata": {},
     "output_type": "display_data"
    },
    {
     "data": {
      "application/vnd.plotly.v1+json": {
       "config": {
        "plotlyServerURL": "https://plot.ly"
       },
       "data": [
        {
         "hovertemplate": "<b>%{x|%Y-%m-%d}</b><br>Real: %{y:.2f}<extra></extra>",
         "mode": "markers",
         "name": "Real",
         "type": "scatter",
         "x": [
          "2016-03-31T00:00:00",
          "2016-06-30T00:00:00",
          "2016-09-30T00:00:00",
          "2016-12-31T00:00:00",
          "2017-03-31T00:00:00",
          "2017-06-30T00:00:00",
          "2017-09-30T00:00:00",
          "2017-12-31T00:00:00",
          "2018-03-31T00:00:00",
          "2018-06-30T00:00:00",
          "2018-09-30T00:00:00",
          "2018-12-31T00:00:00",
          "2019-03-31T00:00:00",
          "2019-06-30T00:00:00",
          "2019-09-30T00:00:00",
          "2019-12-31T00:00:00",
          "2020-03-31T00:00:00",
          "2020-06-30T00:00:00",
          "2020-09-30T00:00:00",
          "2020-12-31T00:00:00",
          "2021-03-31T00:00:00",
          "2021-06-30T00:00:00",
          "2021-09-30T00:00:00",
          "2021-12-31T00:00:00",
          "2022-03-31T00:00:00",
          "2022-06-30T00:00:00"
         ],
         "y": [
          688,
          981,
          1049,
          960,
          854,
          1031,
          1099,
          949,
          928,
          1154,
          1088,
          1108,
          941,
          1371,
          1588,
          1353,
          1084,
          635,
          836,
          1085,
          839,
          1135,
          1298,
          1316,
          981,
          1307
         ]
        },
        {
         "error_y": {
          "array": [
           7.437685807976321,
           7.437685807976321,
           7.437685807976321,
           7.437685807976321,
           7.437685807976321,
           7.437685807976321,
           7.437685807976321,
           7.437685807976321,
           7.437685807976321,
           7.437685807976321,
           7.437685807976321,
           7.437685807976321,
           7.437685807976321,
           7.437685807976321,
           7.437685807976321,
           7.437685807976321,
           7.437685807976321,
           7.437685807976321,
           7.437685807976321,
           7.437685807976321,
           7.437685807976321,
           7.437685807976321,
           7.437685807976321,
           7.437685807976321,
           7.437685807976321,
           7.437685807976321
          ],
          "thickness": 1.5,
          "type": "data",
          "visible": true,
          "width": 6
         },
         "hovertemplate": "<b>%{x|%Y-%m-%d}</b><br>Total: %{y:.2f}<extra></extra>",
         "mode": "lines+markers",
         "name": "Total",
         "type": "scatter",
         "x": [
          "2016-03-31T00:00:00",
          "2016-06-30T00:00:00",
          "2016-09-30T00:00:00",
          "2016-12-31T00:00:00",
          "2017-03-31T00:00:00",
          "2017-06-30T00:00:00",
          "2017-09-30T00:00:00",
          "2017-12-31T00:00:00",
          "2018-03-31T00:00:00",
          "2018-06-30T00:00:00",
          "2018-09-30T00:00:00",
          "2018-12-31T00:00:00",
          "2019-03-31T00:00:00",
          "2019-06-30T00:00:00",
          "2019-09-30T00:00:00",
          "2019-12-31T00:00:00",
          "2020-03-31T00:00:00",
          "2020-06-30T00:00:00",
          "2020-09-30T00:00:00",
          "2020-12-31T00:00:00",
          "2021-03-31T00:00:00",
          "2021-06-30T00:00:00",
          "2021-09-30T00:00:00",
          "2021-12-31T00:00:00",
          "2022-03-31T00:00:00",
          "2022-06-30T00:00:00"
         ],
         "y": [
          831.4637350525625,
          864.6659389602792,
          897.8681428679957,
          931.0703467757123,
          964.2725506834289,
          997.4747545911455,
          1030.6769584988622,
          1063.8791624065789,
          1097.0813663142953,
          1130.283570222012,
          1163.4857741297287,
          1196.6879780374452,
          1229.8901819451617,
          1263.0923858528784,
          1296.294589760595,
          1329.4967936683115,
          1362.6989975760282,
          1395.901201483745,
          1429.1034053914614,
          1462.305609299178,
          1495.5078132068948,
          1528.7100171146112,
          1561.912221022328,
          1595.1144249300446,
          1628.316628837761,
          1661.5188327454775
         ]
        }
       ],
       "layout": {
        "legend": {
         "title": {
          "text": "Legend"
         }
        },
        "shapes": [
         {
          "fillcolor": "LightSalmon",
          "layer": "below",
          "line": {
           "width": 0
          },
          "opacity": 0.3,
          "type": "rect",
          "x0": "2020-03-31T00:00:00",
          "x1": "2020-12-31T00:00:00",
          "xref": "x",
          "y0": 0,
          "y1": 1,
          "yref": "paper"
         }
        ],
        "template": {
         "data": {
          "bar": [
           {
            "error_x": {
             "color": "#2a3f5f"
            },
            "error_y": {
             "color": "#2a3f5f"
            },
            "marker": {
             "line": {
              "color": "#E5ECF6",
              "width": 0.5
             },
             "pattern": {
              "fillmode": "overlay",
              "size": 10,
              "solidity": 0.2
             }
            },
            "type": "bar"
           }
          ],
          "barpolar": [
           {
            "marker": {
             "line": {
              "color": "#E5ECF6",
              "width": 0.5
             },
             "pattern": {
              "fillmode": "overlay",
              "size": 10,
              "solidity": 0.2
             }
            },
            "type": "barpolar"
           }
          ],
          "carpet": [
           {
            "aaxis": {
             "endlinecolor": "#2a3f5f",
             "gridcolor": "white",
             "linecolor": "white",
             "minorgridcolor": "white",
             "startlinecolor": "#2a3f5f"
            },
            "baxis": {
             "endlinecolor": "#2a3f5f",
             "gridcolor": "white",
             "linecolor": "white",
             "minorgridcolor": "white",
             "startlinecolor": "#2a3f5f"
            },
            "type": "carpet"
           }
          ],
          "choropleth": [
           {
            "colorbar": {
             "outlinewidth": 0,
             "ticks": ""
            },
            "type": "choropleth"
           }
          ],
          "contour": [
           {
            "colorbar": {
             "outlinewidth": 0,
             "ticks": ""
            },
            "colorscale": [
             [
              0,
              "#0d0887"
             ],
             [
              0.1111111111111111,
              "#46039f"
             ],
             [
              0.2222222222222222,
              "#7201a8"
             ],
             [
              0.3333333333333333,
              "#9c179e"
             ],
             [
              0.4444444444444444,
              "#bd3786"
             ],
             [
              0.5555555555555556,
              "#d8576b"
             ],
             [
              0.6666666666666666,
              "#ed7953"
             ],
             [
              0.7777777777777778,
              "#fb9f3a"
             ],
             [
              0.8888888888888888,
              "#fdca26"
             ],
             [
              1,
              "#f0f921"
             ]
            ],
            "type": "contour"
           }
          ],
          "contourcarpet": [
           {
            "colorbar": {
             "outlinewidth": 0,
             "ticks": ""
            },
            "type": "contourcarpet"
           }
          ],
          "heatmap": [
           {
            "colorbar": {
             "outlinewidth": 0,
             "ticks": ""
            },
            "colorscale": [
             [
              0,
              "#0d0887"
             ],
             [
              0.1111111111111111,
              "#46039f"
             ],
             [
              0.2222222222222222,
              "#7201a8"
             ],
             [
              0.3333333333333333,
              "#9c179e"
             ],
             [
              0.4444444444444444,
              "#bd3786"
             ],
             [
              0.5555555555555556,
              "#d8576b"
             ],
             [
              0.6666666666666666,
              "#ed7953"
             ],
             [
              0.7777777777777778,
              "#fb9f3a"
             ],
             [
              0.8888888888888888,
              "#fdca26"
             ],
             [
              1,
              "#f0f921"
             ]
            ],
            "type": "heatmap"
           }
          ],
          "heatmapgl": [
           {
            "colorbar": {
             "outlinewidth": 0,
             "ticks": ""
            },
            "colorscale": [
             [
              0,
              "#0d0887"
             ],
             [
              0.1111111111111111,
              "#46039f"
             ],
             [
              0.2222222222222222,
              "#7201a8"
             ],
             [
              0.3333333333333333,
              "#9c179e"
             ],
             [
              0.4444444444444444,
              "#bd3786"
             ],
             [
              0.5555555555555556,
              "#d8576b"
             ],
             [
              0.6666666666666666,
              "#ed7953"
             ],
             [
              0.7777777777777778,
              "#fb9f3a"
             ],
             [
              0.8888888888888888,
              "#fdca26"
             ],
             [
              1,
              "#f0f921"
             ]
            ],
            "type": "heatmapgl"
           }
          ],
          "histogram": [
           {
            "marker": {
             "pattern": {
              "fillmode": "overlay",
              "size": 10,
              "solidity": 0.2
             }
            },
            "type": "histogram"
           }
          ],
          "histogram2d": [
           {
            "colorbar": {
             "outlinewidth": 0,
             "ticks": ""
            },
            "colorscale": [
             [
              0,
              "#0d0887"
             ],
             [
              0.1111111111111111,
              "#46039f"
             ],
             [
              0.2222222222222222,
              "#7201a8"
             ],
             [
              0.3333333333333333,
              "#9c179e"
             ],
             [
              0.4444444444444444,
              "#bd3786"
             ],
             [
              0.5555555555555556,
              "#d8576b"
             ],
             [
              0.6666666666666666,
              "#ed7953"
             ],
             [
              0.7777777777777778,
              "#fb9f3a"
             ],
             [
              0.8888888888888888,
              "#fdca26"
             ],
             [
              1,
              "#f0f921"
             ]
            ],
            "type": "histogram2d"
           }
          ],
          "histogram2dcontour": [
           {
            "colorbar": {
             "outlinewidth": 0,
             "ticks": ""
            },
            "colorscale": [
             [
              0,
              "#0d0887"
             ],
             [
              0.1111111111111111,
              "#46039f"
             ],
             [
              0.2222222222222222,
              "#7201a8"
             ],
             [
              0.3333333333333333,
              "#9c179e"
             ],
             [
              0.4444444444444444,
              "#bd3786"
             ],
             [
              0.5555555555555556,
              "#d8576b"
             ],
             [
              0.6666666666666666,
              "#ed7953"
             ],
             [
              0.7777777777777778,
              "#fb9f3a"
             ],
             [
              0.8888888888888888,
              "#fdca26"
             ],
             [
              1,
              "#f0f921"
             ]
            ],
            "type": "histogram2dcontour"
           }
          ],
          "mesh3d": [
           {
            "colorbar": {
             "outlinewidth": 0,
             "ticks": ""
            },
            "type": "mesh3d"
           }
          ],
          "parcoords": [
           {
            "line": {
             "colorbar": {
              "outlinewidth": 0,
              "ticks": ""
             }
            },
            "type": "parcoords"
           }
          ],
          "pie": [
           {
            "automargin": true,
            "type": "pie"
           }
          ],
          "scatter": [
           {
            "fillpattern": {
             "fillmode": "overlay",
             "size": 10,
             "solidity": 0.2
            },
            "type": "scatter"
           }
          ],
          "scatter3d": [
           {
            "line": {
             "colorbar": {
              "outlinewidth": 0,
              "ticks": ""
             }
            },
            "marker": {
             "colorbar": {
              "outlinewidth": 0,
              "ticks": ""
             }
            },
            "type": "scatter3d"
           }
          ],
          "scattercarpet": [
           {
            "marker": {
             "colorbar": {
              "outlinewidth": 0,
              "ticks": ""
             }
            },
            "type": "scattercarpet"
           }
          ],
          "scattergeo": [
           {
            "marker": {
             "colorbar": {
              "outlinewidth": 0,
              "ticks": ""
             }
            },
            "type": "scattergeo"
           }
          ],
          "scattergl": [
           {
            "marker": {
             "colorbar": {
              "outlinewidth": 0,
              "ticks": ""
             }
            },
            "type": "scattergl"
           }
          ],
          "scattermapbox": [
           {
            "marker": {
             "colorbar": {
              "outlinewidth": 0,
              "ticks": ""
             }
            },
            "type": "scattermapbox"
           }
          ],
          "scatterpolar": [
           {
            "marker": {
             "colorbar": {
              "outlinewidth": 0,
              "ticks": ""
             }
            },
            "type": "scatterpolar"
           }
          ],
          "scatterpolargl": [
           {
            "marker": {
             "colorbar": {
              "outlinewidth": 0,
              "ticks": ""
             }
            },
            "type": "scatterpolargl"
           }
          ],
          "scatterternary": [
           {
            "marker": {
             "colorbar": {
              "outlinewidth": 0,
              "ticks": ""
             }
            },
            "type": "scatterternary"
           }
          ],
          "surface": [
           {
            "colorbar": {
             "outlinewidth": 0,
             "ticks": ""
            },
            "colorscale": [
             [
              0,
              "#0d0887"
             ],
             [
              0.1111111111111111,
              "#46039f"
             ],
             [
              0.2222222222222222,
              "#7201a8"
             ],
             [
              0.3333333333333333,
              "#9c179e"
             ],
             [
              0.4444444444444444,
              "#bd3786"
             ],
             [
              0.5555555555555556,
              "#d8576b"
             ],
             [
              0.6666666666666666,
              "#ed7953"
             ],
             [
              0.7777777777777778,
              "#fb9f3a"
             ],
             [
              0.8888888888888888,
              "#fdca26"
             ],
             [
              1,
              "#f0f921"
             ]
            ],
            "type": "surface"
           }
          ],
          "table": [
           {
            "cells": {
             "fill": {
              "color": "#EBF0F8"
             },
             "line": {
              "color": "white"
             }
            },
            "header": {
             "fill": {
              "color": "#C8D4E3"
             },
             "line": {
              "color": "white"
             }
            },
            "type": "table"
           }
          ]
         },
         "layout": {
          "annotationdefaults": {
           "arrowcolor": "#2a3f5f",
           "arrowhead": 0,
           "arrowwidth": 1
          },
          "autotypenumbers": "strict",
          "coloraxis": {
           "colorbar": {
            "outlinewidth": 0,
            "ticks": ""
           }
          },
          "colorscale": {
           "diverging": [
            [
             0,
             "#8e0152"
            ],
            [
             0.1,
             "#c51b7d"
            ],
            [
             0.2,
             "#de77ae"
            ],
            [
             0.3,
             "#f1b6da"
            ],
            [
             0.4,
             "#fde0ef"
            ],
            [
             0.5,
             "#f7f7f7"
            ],
            [
             0.6,
             "#e6f5d0"
            ],
            [
             0.7,
             "#b8e186"
            ],
            [
             0.8,
             "#7fbc41"
            ],
            [
             0.9,
             "#4d9221"
            ],
            [
             1,
             "#276419"
            ]
           ],
           "sequential": [
            [
             0,
             "#0d0887"
            ],
            [
             0.1111111111111111,
             "#46039f"
            ],
            [
             0.2222222222222222,
             "#7201a8"
            ],
            [
             0.3333333333333333,
             "#9c179e"
            ],
            [
             0.4444444444444444,
             "#bd3786"
            ],
            [
             0.5555555555555556,
             "#d8576b"
            ],
            [
             0.6666666666666666,
             "#ed7953"
            ],
            [
             0.7777777777777778,
             "#fb9f3a"
            ],
            [
             0.8888888888888888,
             "#fdca26"
            ],
            [
             1,
             "#f0f921"
            ]
           ],
           "sequentialminus": [
            [
             0,
             "#0d0887"
            ],
            [
             0.1111111111111111,
             "#46039f"
            ],
            [
             0.2222222222222222,
             "#7201a8"
            ],
            [
             0.3333333333333333,
             "#9c179e"
            ],
            [
             0.4444444444444444,
             "#bd3786"
            ],
            [
             0.5555555555555556,
             "#d8576b"
            ],
            [
             0.6666666666666666,
             "#ed7953"
            ],
            [
             0.7777777777777778,
             "#fb9f3a"
            ],
            [
             0.8888888888888888,
             "#fdca26"
            ],
            [
             1,
             "#f0f921"
            ]
           ]
          },
          "colorway": [
           "#636efa",
           "#EF553B",
           "#00cc96",
           "#ab63fa",
           "#FFA15A",
           "#19d3f3",
           "#FF6692",
           "#B6E880",
           "#FF97FF",
           "#FECB52"
          ],
          "font": {
           "color": "#2a3f5f"
          },
          "geo": {
           "bgcolor": "white",
           "lakecolor": "white",
           "landcolor": "#E5ECF6",
           "showlakes": true,
           "showland": true,
           "subunitcolor": "white"
          },
          "hoverlabel": {
           "align": "left"
          },
          "hovermode": "closest",
          "mapbox": {
           "style": "light"
          },
          "paper_bgcolor": "white",
          "plot_bgcolor": "#E5ECF6",
          "polar": {
           "angularaxis": {
            "gridcolor": "white",
            "linecolor": "white",
            "ticks": ""
           },
           "bgcolor": "#E5ECF6",
           "radialaxis": {
            "gridcolor": "white",
            "linecolor": "white",
            "ticks": ""
           }
          },
          "scene": {
           "xaxis": {
            "backgroundcolor": "#E5ECF6",
            "gridcolor": "white",
            "gridwidth": 2,
            "linecolor": "white",
            "showbackground": true,
            "ticks": "",
            "zerolinecolor": "white"
           },
           "yaxis": {
            "backgroundcolor": "#E5ECF6",
            "gridcolor": "white",
            "gridwidth": 2,
            "linecolor": "white",
            "showbackground": true,
            "ticks": "",
            "zerolinecolor": "white"
           },
           "zaxis": {
            "backgroundcolor": "#E5ECF6",
            "gridcolor": "white",
            "gridwidth": 2,
            "linecolor": "white",
            "showbackground": true,
            "ticks": "",
            "zerolinecolor": "white"
           }
          },
          "shapedefaults": {
           "line": {
            "color": "#2a3f5f"
           }
          },
          "ternary": {
           "aaxis": {
            "gridcolor": "white",
            "linecolor": "white",
            "ticks": ""
           },
           "baxis": {
            "gridcolor": "white",
            "linecolor": "white",
            "ticks": ""
           },
           "bgcolor": "#E5ECF6",
           "caxis": {
            "gridcolor": "white",
            "linecolor": "white",
            "ticks": ""
           }
          },
          "title": {
           "x": 0.05
          },
          "xaxis": {
           "automargin": true,
           "gridcolor": "white",
           "linecolor": "white",
           "ticks": "",
           "title": {
            "standoff": 15
           },
           "zerolinecolor": "white",
           "zerolinewidth": 2
          },
          "yaxis": {
           "automargin": true,
           "gridcolor": "white",
           "linecolor": "white",
           "ticks": "",
           "title": {
            "standoff": 15
           },
           "zerolinecolor": "white",
           "zerolinewidth": 2
          }
         }
        },
        "title": {
         "text": "Series: (F90 - F98) Transtornos do comportamento e transtornos emocionais que aparecem habitualmente durante a infância ou a adolescência"
        },
        "xaxis": {
         "title": {
          "text": "Time"
         }
        },
        "yaxis": {
         "title": {
          "text": "Value"
         }
        }
       }
      }
     },
     "metadata": {},
     "output_type": "display_data"
    },
    {
     "data": {
      "application/vnd.plotly.v1+json": {
       "config": {
        "plotlyServerURL": "https://plot.ly"
       },
       "data": [
        {
         "hovertemplate": "<b>%{x|%Y-%m-%d}</b><br>Real: %{y:.2f}<extra></extra>",
         "mode": "markers",
         "name": "Real",
         "type": "scatter",
         "x": [
          "2016-03-31T00:00:00",
          "2016-06-30T00:00:00",
          "2016-09-30T00:00:00",
          "2016-12-31T00:00:00",
          "2017-03-31T00:00:00",
          "2017-06-30T00:00:00",
          "2017-09-30T00:00:00",
          "2017-12-31T00:00:00",
          "2018-03-31T00:00:00",
          "2018-06-30T00:00:00",
          "2018-09-30T00:00:00",
          "2018-12-31T00:00:00",
          "2019-03-31T00:00:00",
          "2019-06-30T00:00:00",
          "2019-09-30T00:00:00",
          "2019-12-31T00:00:00",
          "2020-03-31T00:00:00",
          "2020-06-30T00:00:00",
          "2020-09-30T00:00:00",
          "2020-12-31T00:00:00",
          "2021-03-31T00:00:00",
          "2021-06-30T00:00:00",
          "2021-09-30T00:00:00",
          "2021-12-31T00:00:00",
          "2022-03-31T00:00:00",
          "2022-06-30T00:00:00"
         ],
         "y": [
          182,
          205,
          241,
          246,
          305,
          230,
          188,
          178,
          202,
          226,
          153,
          153,
          100,
          125,
          91,
          51,
          49,
          59,
          60,
          66,
          41,
          37,
          40,
          44,
          43,
          116
         ]
        },
        {
         "error_y": {
          "array": [
           2.771262722788476,
           2.771262722788476,
           2.771262722788476,
           2.771262722788476,
           2.771262722788476,
           2.771262722788476,
           2.771262722788476,
           2.771262722788476,
           2.771262722788476,
           2.771262722788476,
           2.771262722788476,
           2.771262722788476,
           2.771262722788476,
           2.771262722788476,
           2.771262722788476,
           2.771262722788476,
           2.771262722788476,
           2.771262722788476,
           2.771262722788476,
           2.771262722788476,
           2.771262722788476,
           2.771262722788476,
           2.771262722788476,
           2.771262722788476,
           2.771262722788476,
           2.771262722788476
          ],
          "thickness": 1.5,
          "type": "data",
          "visible": true,
          "width": 6
         },
         "hovertemplate": "<b>%{x|%Y-%m-%d}</b><br>Total: %{y:.2f}<extra></extra>",
         "mode": "lines+markers",
         "name": "Total",
         "type": "scatter",
         "x": [
          "2016-03-31T00:00:00",
          "2016-06-30T00:00:00",
          "2016-09-30T00:00:00",
          "2016-12-31T00:00:00",
          "2017-03-31T00:00:00",
          "2017-06-30T00:00:00",
          "2017-09-30T00:00:00",
          "2017-12-31T00:00:00",
          "2018-03-31T00:00:00",
          "2018-06-30T00:00:00",
          "2018-09-30T00:00:00",
          "2018-12-31T00:00:00",
          "2019-03-31T00:00:00",
          "2019-06-30T00:00:00",
          "2019-09-30T00:00:00",
          "2019-12-31T00:00:00",
          "2020-03-31T00:00:00",
          "2020-06-30T00:00:00",
          "2020-09-30T00:00:00",
          "2020-12-31T00:00:00",
          "2021-03-31T00:00:00",
          "2021-06-30T00:00:00",
          "2021-09-30T00:00:00",
          "2021-12-31T00:00:00",
          "2022-03-31T00:00:00",
          "2022-06-30T00:00:00"
         ],
         "y": [
          270.7599261180397,
          259.6274566434484,
          248.49498716885716,
          237.3625176942659,
          226.23004821967464,
          215.0975787450834,
          203.96510927049215,
          192.8326397959009,
          181.70017032130963,
          170.56770084671837,
          159.43523137212713,
          148.30276189753587,
          137.1702924229446,
          126.03782294835338,
          114.90535347376212,
          103.77288399917086,
          92.6404145245796,
          81.50794504998834,
          70.3754755753971,
          59.24300610080584,
          48.11053662621458,
          36.97806715162335,
          25.84559767703206,
          14.713128202440828,
          3.5806587278495954,
          -7.551810746741694
         ]
        }
       ],
       "layout": {
        "legend": {
         "title": {
          "text": "Legend"
         }
        },
        "shapes": [
         {
          "fillcolor": "LightSalmon",
          "layer": "below",
          "line": {
           "width": 0
          },
          "opacity": 0.3,
          "type": "rect",
          "x0": "2020-03-31T00:00:00",
          "x1": "2020-12-31T00:00:00",
          "xref": "x",
          "y0": 0,
          "y1": 1,
          "yref": "paper"
         }
        ],
        "template": {
         "data": {
          "bar": [
           {
            "error_x": {
             "color": "#2a3f5f"
            },
            "error_y": {
             "color": "#2a3f5f"
            },
            "marker": {
             "line": {
              "color": "#E5ECF6",
              "width": 0.5
             },
             "pattern": {
              "fillmode": "overlay",
              "size": 10,
              "solidity": 0.2
             }
            },
            "type": "bar"
           }
          ],
          "barpolar": [
           {
            "marker": {
             "line": {
              "color": "#E5ECF6",
              "width": 0.5
             },
             "pattern": {
              "fillmode": "overlay",
              "size": 10,
              "solidity": 0.2
             }
            },
            "type": "barpolar"
           }
          ],
          "carpet": [
           {
            "aaxis": {
             "endlinecolor": "#2a3f5f",
             "gridcolor": "white",
             "linecolor": "white",
             "minorgridcolor": "white",
             "startlinecolor": "#2a3f5f"
            },
            "baxis": {
             "endlinecolor": "#2a3f5f",
             "gridcolor": "white",
             "linecolor": "white",
             "minorgridcolor": "white",
             "startlinecolor": "#2a3f5f"
            },
            "type": "carpet"
           }
          ],
          "choropleth": [
           {
            "colorbar": {
             "outlinewidth": 0,
             "ticks": ""
            },
            "type": "choropleth"
           }
          ],
          "contour": [
           {
            "colorbar": {
             "outlinewidth": 0,
             "ticks": ""
            },
            "colorscale": [
             [
              0,
              "#0d0887"
             ],
             [
              0.1111111111111111,
              "#46039f"
             ],
             [
              0.2222222222222222,
              "#7201a8"
             ],
             [
              0.3333333333333333,
              "#9c179e"
             ],
             [
              0.4444444444444444,
              "#bd3786"
             ],
             [
              0.5555555555555556,
              "#d8576b"
             ],
             [
              0.6666666666666666,
              "#ed7953"
             ],
             [
              0.7777777777777778,
              "#fb9f3a"
             ],
             [
              0.8888888888888888,
              "#fdca26"
             ],
             [
              1,
              "#f0f921"
             ]
            ],
            "type": "contour"
           }
          ],
          "contourcarpet": [
           {
            "colorbar": {
             "outlinewidth": 0,
             "ticks": ""
            },
            "type": "contourcarpet"
           }
          ],
          "heatmap": [
           {
            "colorbar": {
             "outlinewidth": 0,
             "ticks": ""
            },
            "colorscale": [
             [
              0,
              "#0d0887"
             ],
             [
              0.1111111111111111,
              "#46039f"
             ],
             [
              0.2222222222222222,
              "#7201a8"
             ],
             [
              0.3333333333333333,
              "#9c179e"
             ],
             [
              0.4444444444444444,
              "#bd3786"
             ],
             [
              0.5555555555555556,
              "#d8576b"
             ],
             [
              0.6666666666666666,
              "#ed7953"
             ],
             [
              0.7777777777777778,
              "#fb9f3a"
             ],
             [
              0.8888888888888888,
              "#fdca26"
             ],
             [
              1,
              "#f0f921"
             ]
            ],
            "type": "heatmap"
           }
          ],
          "heatmapgl": [
           {
            "colorbar": {
             "outlinewidth": 0,
             "ticks": ""
            },
            "colorscale": [
             [
              0,
              "#0d0887"
             ],
             [
              0.1111111111111111,
              "#46039f"
             ],
             [
              0.2222222222222222,
              "#7201a8"
             ],
             [
              0.3333333333333333,
              "#9c179e"
             ],
             [
              0.4444444444444444,
              "#bd3786"
             ],
             [
              0.5555555555555556,
              "#d8576b"
             ],
             [
              0.6666666666666666,
              "#ed7953"
             ],
             [
              0.7777777777777778,
              "#fb9f3a"
             ],
             [
              0.8888888888888888,
              "#fdca26"
             ],
             [
              1,
              "#f0f921"
             ]
            ],
            "type": "heatmapgl"
           }
          ],
          "histogram": [
           {
            "marker": {
             "pattern": {
              "fillmode": "overlay",
              "size": 10,
              "solidity": 0.2
             }
            },
            "type": "histogram"
           }
          ],
          "histogram2d": [
           {
            "colorbar": {
             "outlinewidth": 0,
             "ticks": ""
            },
            "colorscale": [
             [
              0,
              "#0d0887"
             ],
             [
              0.1111111111111111,
              "#46039f"
             ],
             [
              0.2222222222222222,
              "#7201a8"
             ],
             [
              0.3333333333333333,
              "#9c179e"
             ],
             [
              0.4444444444444444,
              "#bd3786"
             ],
             [
              0.5555555555555556,
              "#d8576b"
             ],
             [
              0.6666666666666666,
              "#ed7953"
             ],
             [
              0.7777777777777778,
              "#fb9f3a"
             ],
             [
              0.8888888888888888,
              "#fdca26"
             ],
             [
              1,
              "#f0f921"
             ]
            ],
            "type": "histogram2d"
           }
          ],
          "histogram2dcontour": [
           {
            "colorbar": {
             "outlinewidth": 0,
             "ticks": ""
            },
            "colorscale": [
             [
              0,
              "#0d0887"
             ],
             [
              0.1111111111111111,
              "#46039f"
             ],
             [
              0.2222222222222222,
              "#7201a8"
             ],
             [
              0.3333333333333333,
              "#9c179e"
             ],
             [
              0.4444444444444444,
              "#bd3786"
             ],
             [
              0.5555555555555556,
              "#d8576b"
             ],
             [
              0.6666666666666666,
              "#ed7953"
             ],
             [
              0.7777777777777778,
              "#fb9f3a"
             ],
             [
              0.8888888888888888,
              "#fdca26"
             ],
             [
              1,
              "#f0f921"
             ]
            ],
            "type": "histogram2dcontour"
           }
          ],
          "mesh3d": [
           {
            "colorbar": {
             "outlinewidth": 0,
             "ticks": ""
            },
            "type": "mesh3d"
           }
          ],
          "parcoords": [
           {
            "line": {
             "colorbar": {
              "outlinewidth": 0,
              "ticks": ""
             }
            },
            "type": "parcoords"
           }
          ],
          "pie": [
           {
            "automargin": true,
            "type": "pie"
           }
          ],
          "scatter": [
           {
            "fillpattern": {
             "fillmode": "overlay",
             "size": 10,
             "solidity": 0.2
            },
            "type": "scatter"
           }
          ],
          "scatter3d": [
           {
            "line": {
             "colorbar": {
              "outlinewidth": 0,
              "ticks": ""
             }
            },
            "marker": {
             "colorbar": {
              "outlinewidth": 0,
              "ticks": ""
             }
            },
            "type": "scatter3d"
           }
          ],
          "scattercarpet": [
           {
            "marker": {
             "colorbar": {
              "outlinewidth": 0,
              "ticks": ""
             }
            },
            "type": "scattercarpet"
           }
          ],
          "scattergeo": [
           {
            "marker": {
             "colorbar": {
              "outlinewidth": 0,
              "ticks": ""
             }
            },
            "type": "scattergeo"
           }
          ],
          "scattergl": [
           {
            "marker": {
             "colorbar": {
              "outlinewidth": 0,
              "ticks": ""
             }
            },
            "type": "scattergl"
           }
          ],
          "scattermapbox": [
           {
            "marker": {
             "colorbar": {
              "outlinewidth": 0,
              "ticks": ""
             }
            },
            "type": "scattermapbox"
           }
          ],
          "scatterpolar": [
           {
            "marker": {
             "colorbar": {
              "outlinewidth": 0,
              "ticks": ""
             }
            },
            "type": "scatterpolar"
           }
          ],
          "scatterpolargl": [
           {
            "marker": {
             "colorbar": {
              "outlinewidth": 0,
              "ticks": ""
             }
            },
            "type": "scatterpolargl"
           }
          ],
          "scatterternary": [
           {
            "marker": {
             "colorbar": {
              "outlinewidth": 0,
              "ticks": ""
             }
            },
            "type": "scatterternary"
           }
          ],
          "surface": [
           {
            "colorbar": {
             "outlinewidth": 0,
             "ticks": ""
            },
            "colorscale": [
             [
              0,
              "#0d0887"
             ],
             [
              0.1111111111111111,
              "#46039f"
             ],
             [
              0.2222222222222222,
              "#7201a8"
             ],
             [
              0.3333333333333333,
              "#9c179e"
             ],
             [
              0.4444444444444444,
              "#bd3786"
             ],
             [
              0.5555555555555556,
              "#d8576b"
             ],
             [
              0.6666666666666666,
              "#ed7953"
             ],
             [
              0.7777777777777778,
              "#fb9f3a"
             ],
             [
              0.8888888888888888,
              "#fdca26"
             ],
             [
              1,
              "#f0f921"
             ]
            ],
            "type": "surface"
           }
          ],
          "table": [
           {
            "cells": {
             "fill": {
              "color": "#EBF0F8"
             },
             "line": {
              "color": "white"
             }
            },
            "header": {
             "fill": {
              "color": "#C8D4E3"
             },
             "line": {
              "color": "white"
             }
            },
            "type": "table"
           }
          ]
         },
         "layout": {
          "annotationdefaults": {
           "arrowcolor": "#2a3f5f",
           "arrowhead": 0,
           "arrowwidth": 1
          },
          "autotypenumbers": "strict",
          "coloraxis": {
           "colorbar": {
            "outlinewidth": 0,
            "ticks": ""
           }
          },
          "colorscale": {
           "diverging": [
            [
             0,
             "#8e0152"
            ],
            [
             0.1,
             "#c51b7d"
            ],
            [
             0.2,
             "#de77ae"
            ],
            [
             0.3,
             "#f1b6da"
            ],
            [
             0.4,
             "#fde0ef"
            ],
            [
             0.5,
             "#f7f7f7"
            ],
            [
             0.6,
             "#e6f5d0"
            ],
            [
             0.7,
             "#b8e186"
            ],
            [
             0.8,
             "#7fbc41"
            ],
            [
             0.9,
             "#4d9221"
            ],
            [
             1,
             "#276419"
            ]
           ],
           "sequential": [
            [
             0,
             "#0d0887"
            ],
            [
             0.1111111111111111,
             "#46039f"
            ],
            [
             0.2222222222222222,
             "#7201a8"
            ],
            [
             0.3333333333333333,
             "#9c179e"
            ],
            [
             0.4444444444444444,
             "#bd3786"
            ],
            [
             0.5555555555555556,
             "#d8576b"
            ],
            [
             0.6666666666666666,
             "#ed7953"
            ],
            [
             0.7777777777777778,
             "#fb9f3a"
            ],
            [
             0.8888888888888888,
             "#fdca26"
            ],
            [
             1,
             "#f0f921"
            ]
           ],
           "sequentialminus": [
            [
             0,
             "#0d0887"
            ],
            [
             0.1111111111111111,
             "#46039f"
            ],
            [
             0.2222222222222222,
             "#7201a8"
            ],
            [
             0.3333333333333333,
             "#9c179e"
            ],
            [
             0.4444444444444444,
             "#bd3786"
            ],
            [
             0.5555555555555556,
             "#d8576b"
            ],
            [
             0.6666666666666666,
             "#ed7953"
            ],
            [
             0.7777777777777778,
             "#fb9f3a"
            ],
            [
             0.8888888888888888,
             "#fdca26"
            ],
            [
             1,
             "#f0f921"
            ]
           ]
          },
          "colorway": [
           "#636efa",
           "#EF553B",
           "#00cc96",
           "#ab63fa",
           "#FFA15A",
           "#19d3f3",
           "#FF6692",
           "#B6E880",
           "#FF97FF",
           "#FECB52"
          ],
          "font": {
           "color": "#2a3f5f"
          },
          "geo": {
           "bgcolor": "white",
           "lakecolor": "white",
           "landcolor": "#E5ECF6",
           "showlakes": true,
           "showland": true,
           "subunitcolor": "white"
          },
          "hoverlabel": {
           "align": "left"
          },
          "hovermode": "closest",
          "mapbox": {
           "style": "light"
          },
          "paper_bgcolor": "white",
          "plot_bgcolor": "#E5ECF6",
          "polar": {
           "angularaxis": {
            "gridcolor": "white",
            "linecolor": "white",
            "ticks": ""
           },
           "bgcolor": "#E5ECF6",
           "radialaxis": {
            "gridcolor": "white",
            "linecolor": "white",
            "ticks": ""
           }
          },
          "scene": {
           "xaxis": {
            "backgroundcolor": "#E5ECF6",
            "gridcolor": "white",
            "gridwidth": 2,
            "linecolor": "white",
            "showbackground": true,
            "ticks": "",
            "zerolinecolor": "white"
           },
           "yaxis": {
            "backgroundcolor": "#E5ECF6",
            "gridcolor": "white",
            "gridwidth": 2,
            "linecolor": "white",
            "showbackground": true,
            "ticks": "",
            "zerolinecolor": "white"
           },
           "zaxis": {
            "backgroundcolor": "#E5ECF6",
            "gridcolor": "white",
            "gridwidth": 2,
            "linecolor": "white",
            "showbackground": true,
            "ticks": "",
            "zerolinecolor": "white"
           }
          },
          "shapedefaults": {
           "line": {
            "color": "#2a3f5f"
           }
          },
          "ternary": {
           "aaxis": {
            "gridcolor": "white",
            "linecolor": "white",
            "ticks": ""
           },
           "baxis": {
            "gridcolor": "white",
            "linecolor": "white",
            "ticks": ""
           },
           "bgcolor": "#E5ECF6",
           "caxis": {
            "gridcolor": "white",
            "linecolor": "white",
            "ticks": ""
           }
          },
          "title": {
           "x": 0.05
          },
          "xaxis": {
           "automargin": true,
           "gridcolor": "white",
           "linecolor": "white",
           "ticks": "",
           "title": {
            "standoff": 15
           },
           "zerolinecolor": "white",
           "zerolinewidth": 2
          },
          "yaxis": {
           "automargin": true,
           "gridcolor": "white",
           "linecolor": "white",
           "ticks": "",
           "title": {
            "standoff": 15
           },
           "zerolinecolor": "white",
           "zerolinewidth": 2
          }
         }
        },
        "title": {
         "text": "Series: (F99) Transtorno mental não especificado"
        },
        "xaxis": {
         "title": {
          "text": "Time"
         }
        },
        "yaxis": {
         "title": {
          "text": "Value"
         }
        }
       }
      }
     },
     "metadata": {},
     "output_type": "display_data"
    },
    {
     "data": {
      "application/vnd.plotly.v1+json": {
       "config": {
        "plotlyServerURL": "https://plot.ly"
       },
       "data": [
        {
         "hovertemplate": "<b>%{x|%Y-%m-%d}</b><br>Real: %{y:.2f}<extra></extra>",
         "mode": "markers",
         "name": "Real",
         "type": "scatter",
         "x": [
          "2016-03-31T00:00:00",
          "2016-06-30T00:00:00",
          "2016-09-30T00:00:00",
          "2016-12-31T00:00:00",
          "2017-03-31T00:00:00",
          "2017-06-30T00:00:00",
          "2017-09-30T00:00:00",
          "2017-12-31T00:00:00",
          "2018-03-31T00:00:00",
          "2018-06-30T00:00:00",
          "2018-09-30T00:00:00",
          "2018-12-31T00:00:00",
          "2019-03-31T00:00:00",
          "2019-06-30T00:00:00",
          "2019-09-30T00:00:00",
          "2019-12-31T00:00:00",
          "2020-03-31T00:00:00",
          "2020-06-30T00:00:00",
          "2020-09-30T00:00:00",
          "2020-12-31T00:00:00",
          "2021-03-31T00:00:00",
          "2021-06-30T00:00:00",
          "2021-09-30T00:00:00",
          "2021-12-31T00:00:00",
          "2022-03-31T00:00:00",
          "2022-06-30T00:00:00"
         ],
         "y": [
          22,
          7,
          12,
          26,
          32,
          19,
          29,
          25,
          27,
          28,
          30,
          27,
          37,
          39,
          37,
          41,
          23,
          32,
          30,
          48,
          50,
          41,
          63,
          60,
          69,
          69
         ]
        },
        {
         "error_y": {
          "array": [
           0.3824837730668942,
           0.3824837730668942,
           0.3824837730668942,
           0.3824837730668942,
           0.3824837730668942,
           0.3824837730668942,
           0.3824837730668942,
           0.3824837730668942,
           0.3824837730668942,
           0.3824837730668942,
           0.3824837730668942,
           0.3824837730668942,
           0.3824837730668942,
           0.3824837730668942,
           0.3824837730668942,
           0.3824837730668942,
           0.3824837730668942,
           0.3824837730668942,
           0.3824837730668942,
           0.3824837730668942,
           0.3824837730668942,
           0.3824837730668942,
           0.3824837730668942,
           0.3824837730668942,
           0.3824837730668942,
           0.3824837730668942
          ],
          "thickness": 1.5,
          "type": "data",
          "visible": true,
          "width": 6
         },
         "hovertemplate": "<b>%{x|%Y-%m-%d}</b><br>Total: %{y:.2f}<extra></extra>",
         "mode": "lines+markers",
         "name": "Total",
         "type": "scatter",
         "x": [
          "2016-03-31T00:00:00",
          "2016-06-30T00:00:00",
          "2016-09-30T00:00:00",
          "2016-12-31T00:00:00",
          "2017-03-31T00:00:00",
          "2017-06-30T00:00:00",
          "2017-09-30T00:00:00",
          "2017-12-31T00:00:00",
          "2018-03-31T00:00:00",
          "2018-06-30T00:00:00",
          "2018-09-30T00:00:00",
          "2018-12-31T00:00:00",
          "2019-03-31T00:00:00",
          "2019-06-30T00:00:00",
          "2019-09-30T00:00:00",
          "2019-12-31T00:00:00",
          "2020-03-31T00:00:00",
          "2020-06-30T00:00:00",
          "2020-09-30T00:00:00",
          "2020-12-31T00:00:00",
          "2021-03-31T00:00:00",
          "2021-06-30T00:00:00",
          "2021-09-30T00:00:00",
          "2021-12-31T00:00:00",
          "2022-03-31T00:00:00",
          "2022-06-30T00:00:00"
         ],
         "y": [
          9.638468882195497,
          11.897440778365272,
          14.156412674535048,
          16.415384570704823,
          18.6743564668746,
          20.933328363044374,
          23.19230025921415,
          25.451272155383926,
          27.7102440515537,
          29.969215947723477,
          32.22818784389325,
          34.48715974006303,
          36.7461316362328,
          39.00510353240258,
          41.264075428572355,
          43.52304732474213,
          45.782019220911906,
          48.04099111708168,
          50.29996301325146,
          52.55893490942123,
          54.81790680559101,
          57.07687870176078,
          59.33585059793056,
          61.594822494100335,
          63.85379439027011,
          66.11276628643989
         ]
        }
       ],
       "layout": {
        "legend": {
         "title": {
          "text": "Legend"
         }
        },
        "shapes": [
         {
          "fillcolor": "LightSalmon",
          "layer": "below",
          "line": {
           "width": 0
          },
          "opacity": 0.3,
          "type": "rect",
          "x0": "2020-03-31T00:00:00",
          "x1": "2020-12-31T00:00:00",
          "xref": "x",
          "y0": 0,
          "y1": 1,
          "yref": "paper"
         }
        ],
        "template": {
         "data": {
          "bar": [
           {
            "error_x": {
             "color": "#2a3f5f"
            },
            "error_y": {
             "color": "#2a3f5f"
            },
            "marker": {
             "line": {
              "color": "#E5ECF6",
              "width": 0.5
             },
             "pattern": {
              "fillmode": "overlay",
              "size": 10,
              "solidity": 0.2
             }
            },
            "type": "bar"
           }
          ],
          "barpolar": [
           {
            "marker": {
             "line": {
              "color": "#E5ECF6",
              "width": 0.5
             },
             "pattern": {
              "fillmode": "overlay",
              "size": 10,
              "solidity": 0.2
             }
            },
            "type": "barpolar"
           }
          ],
          "carpet": [
           {
            "aaxis": {
             "endlinecolor": "#2a3f5f",
             "gridcolor": "white",
             "linecolor": "white",
             "minorgridcolor": "white",
             "startlinecolor": "#2a3f5f"
            },
            "baxis": {
             "endlinecolor": "#2a3f5f",
             "gridcolor": "white",
             "linecolor": "white",
             "minorgridcolor": "white",
             "startlinecolor": "#2a3f5f"
            },
            "type": "carpet"
           }
          ],
          "choropleth": [
           {
            "colorbar": {
             "outlinewidth": 0,
             "ticks": ""
            },
            "type": "choropleth"
           }
          ],
          "contour": [
           {
            "colorbar": {
             "outlinewidth": 0,
             "ticks": ""
            },
            "colorscale": [
             [
              0,
              "#0d0887"
             ],
             [
              0.1111111111111111,
              "#46039f"
             ],
             [
              0.2222222222222222,
              "#7201a8"
             ],
             [
              0.3333333333333333,
              "#9c179e"
             ],
             [
              0.4444444444444444,
              "#bd3786"
             ],
             [
              0.5555555555555556,
              "#d8576b"
             ],
             [
              0.6666666666666666,
              "#ed7953"
             ],
             [
              0.7777777777777778,
              "#fb9f3a"
             ],
             [
              0.8888888888888888,
              "#fdca26"
             ],
             [
              1,
              "#f0f921"
             ]
            ],
            "type": "contour"
           }
          ],
          "contourcarpet": [
           {
            "colorbar": {
             "outlinewidth": 0,
             "ticks": ""
            },
            "type": "contourcarpet"
           }
          ],
          "heatmap": [
           {
            "colorbar": {
             "outlinewidth": 0,
             "ticks": ""
            },
            "colorscale": [
             [
              0,
              "#0d0887"
             ],
             [
              0.1111111111111111,
              "#46039f"
             ],
             [
              0.2222222222222222,
              "#7201a8"
             ],
             [
              0.3333333333333333,
              "#9c179e"
             ],
             [
              0.4444444444444444,
              "#bd3786"
             ],
             [
              0.5555555555555556,
              "#d8576b"
             ],
             [
              0.6666666666666666,
              "#ed7953"
             ],
             [
              0.7777777777777778,
              "#fb9f3a"
             ],
             [
              0.8888888888888888,
              "#fdca26"
             ],
             [
              1,
              "#f0f921"
             ]
            ],
            "type": "heatmap"
           }
          ],
          "heatmapgl": [
           {
            "colorbar": {
             "outlinewidth": 0,
             "ticks": ""
            },
            "colorscale": [
             [
              0,
              "#0d0887"
             ],
             [
              0.1111111111111111,
              "#46039f"
             ],
             [
              0.2222222222222222,
              "#7201a8"
             ],
             [
              0.3333333333333333,
              "#9c179e"
             ],
             [
              0.4444444444444444,
              "#bd3786"
             ],
             [
              0.5555555555555556,
              "#d8576b"
             ],
             [
              0.6666666666666666,
              "#ed7953"
             ],
             [
              0.7777777777777778,
              "#fb9f3a"
             ],
             [
              0.8888888888888888,
              "#fdca26"
             ],
             [
              1,
              "#f0f921"
             ]
            ],
            "type": "heatmapgl"
           }
          ],
          "histogram": [
           {
            "marker": {
             "pattern": {
              "fillmode": "overlay",
              "size": 10,
              "solidity": 0.2
             }
            },
            "type": "histogram"
           }
          ],
          "histogram2d": [
           {
            "colorbar": {
             "outlinewidth": 0,
             "ticks": ""
            },
            "colorscale": [
             [
              0,
              "#0d0887"
             ],
             [
              0.1111111111111111,
              "#46039f"
             ],
             [
              0.2222222222222222,
              "#7201a8"
             ],
             [
              0.3333333333333333,
              "#9c179e"
             ],
             [
              0.4444444444444444,
              "#bd3786"
             ],
             [
              0.5555555555555556,
              "#d8576b"
             ],
             [
              0.6666666666666666,
              "#ed7953"
             ],
             [
              0.7777777777777778,
              "#fb9f3a"
             ],
             [
              0.8888888888888888,
              "#fdca26"
             ],
             [
              1,
              "#f0f921"
             ]
            ],
            "type": "histogram2d"
           }
          ],
          "histogram2dcontour": [
           {
            "colorbar": {
             "outlinewidth": 0,
             "ticks": ""
            },
            "colorscale": [
             [
              0,
              "#0d0887"
             ],
             [
              0.1111111111111111,
              "#46039f"
             ],
             [
              0.2222222222222222,
              "#7201a8"
             ],
             [
              0.3333333333333333,
              "#9c179e"
             ],
             [
              0.4444444444444444,
              "#bd3786"
             ],
             [
              0.5555555555555556,
              "#d8576b"
             ],
             [
              0.6666666666666666,
              "#ed7953"
             ],
             [
              0.7777777777777778,
              "#fb9f3a"
             ],
             [
              0.8888888888888888,
              "#fdca26"
             ],
             [
              1,
              "#f0f921"
             ]
            ],
            "type": "histogram2dcontour"
           }
          ],
          "mesh3d": [
           {
            "colorbar": {
             "outlinewidth": 0,
             "ticks": ""
            },
            "type": "mesh3d"
           }
          ],
          "parcoords": [
           {
            "line": {
             "colorbar": {
              "outlinewidth": 0,
              "ticks": ""
             }
            },
            "type": "parcoords"
           }
          ],
          "pie": [
           {
            "automargin": true,
            "type": "pie"
           }
          ],
          "scatter": [
           {
            "fillpattern": {
             "fillmode": "overlay",
             "size": 10,
             "solidity": 0.2
            },
            "type": "scatter"
           }
          ],
          "scatter3d": [
           {
            "line": {
             "colorbar": {
              "outlinewidth": 0,
              "ticks": ""
             }
            },
            "marker": {
             "colorbar": {
              "outlinewidth": 0,
              "ticks": ""
             }
            },
            "type": "scatter3d"
           }
          ],
          "scattercarpet": [
           {
            "marker": {
             "colorbar": {
              "outlinewidth": 0,
              "ticks": ""
             }
            },
            "type": "scattercarpet"
           }
          ],
          "scattergeo": [
           {
            "marker": {
             "colorbar": {
              "outlinewidth": 0,
              "ticks": ""
             }
            },
            "type": "scattergeo"
           }
          ],
          "scattergl": [
           {
            "marker": {
             "colorbar": {
              "outlinewidth": 0,
              "ticks": ""
             }
            },
            "type": "scattergl"
           }
          ],
          "scattermapbox": [
           {
            "marker": {
             "colorbar": {
              "outlinewidth": 0,
              "ticks": ""
             }
            },
            "type": "scattermapbox"
           }
          ],
          "scatterpolar": [
           {
            "marker": {
             "colorbar": {
              "outlinewidth": 0,
              "ticks": ""
             }
            },
            "type": "scatterpolar"
           }
          ],
          "scatterpolargl": [
           {
            "marker": {
             "colorbar": {
              "outlinewidth": 0,
              "ticks": ""
             }
            },
            "type": "scatterpolargl"
           }
          ],
          "scatterternary": [
           {
            "marker": {
             "colorbar": {
              "outlinewidth": 0,
              "ticks": ""
             }
            },
            "type": "scatterternary"
           }
          ],
          "surface": [
           {
            "colorbar": {
             "outlinewidth": 0,
             "ticks": ""
            },
            "colorscale": [
             [
              0,
              "#0d0887"
             ],
             [
              0.1111111111111111,
              "#46039f"
             ],
             [
              0.2222222222222222,
              "#7201a8"
             ],
             [
              0.3333333333333333,
              "#9c179e"
             ],
             [
              0.4444444444444444,
              "#bd3786"
             ],
             [
              0.5555555555555556,
              "#d8576b"
             ],
             [
              0.6666666666666666,
              "#ed7953"
             ],
             [
              0.7777777777777778,
              "#fb9f3a"
             ],
             [
              0.8888888888888888,
              "#fdca26"
             ],
             [
              1,
              "#f0f921"
             ]
            ],
            "type": "surface"
           }
          ],
          "table": [
           {
            "cells": {
             "fill": {
              "color": "#EBF0F8"
             },
             "line": {
              "color": "white"
             }
            },
            "header": {
             "fill": {
              "color": "#C8D4E3"
             },
             "line": {
              "color": "white"
             }
            },
            "type": "table"
           }
          ]
         },
         "layout": {
          "annotationdefaults": {
           "arrowcolor": "#2a3f5f",
           "arrowhead": 0,
           "arrowwidth": 1
          },
          "autotypenumbers": "strict",
          "coloraxis": {
           "colorbar": {
            "outlinewidth": 0,
            "ticks": ""
           }
          },
          "colorscale": {
           "diverging": [
            [
             0,
             "#8e0152"
            ],
            [
             0.1,
             "#c51b7d"
            ],
            [
             0.2,
             "#de77ae"
            ],
            [
             0.3,
             "#f1b6da"
            ],
            [
             0.4,
             "#fde0ef"
            ],
            [
             0.5,
             "#f7f7f7"
            ],
            [
             0.6,
             "#e6f5d0"
            ],
            [
             0.7,
             "#b8e186"
            ],
            [
             0.8,
             "#7fbc41"
            ],
            [
             0.9,
             "#4d9221"
            ],
            [
             1,
             "#276419"
            ]
           ],
           "sequential": [
            [
             0,
             "#0d0887"
            ],
            [
             0.1111111111111111,
             "#46039f"
            ],
            [
             0.2222222222222222,
             "#7201a8"
            ],
            [
             0.3333333333333333,
             "#9c179e"
            ],
            [
             0.4444444444444444,
             "#bd3786"
            ],
            [
             0.5555555555555556,
             "#d8576b"
            ],
            [
             0.6666666666666666,
             "#ed7953"
            ],
            [
             0.7777777777777778,
             "#fb9f3a"
            ],
            [
             0.8888888888888888,
             "#fdca26"
            ],
            [
             1,
             "#f0f921"
            ]
           ],
           "sequentialminus": [
            [
             0,
             "#0d0887"
            ],
            [
             0.1111111111111111,
             "#46039f"
            ],
            [
             0.2222222222222222,
             "#7201a8"
            ],
            [
             0.3333333333333333,
             "#9c179e"
            ],
            [
             0.4444444444444444,
             "#bd3786"
            ],
            [
             0.5555555555555556,
             "#d8576b"
            ],
            [
             0.6666666666666666,
             "#ed7953"
            ],
            [
             0.7777777777777778,
             "#fb9f3a"
            ],
            [
             0.8888888888888888,
             "#fdca26"
            ],
            [
             1,
             "#f0f921"
            ]
           ]
          },
          "colorway": [
           "#636efa",
           "#EF553B",
           "#00cc96",
           "#ab63fa",
           "#FFA15A",
           "#19d3f3",
           "#FF6692",
           "#B6E880",
           "#FF97FF",
           "#FECB52"
          ],
          "font": {
           "color": "#2a3f5f"
          },
          "geo": {
           "bgcolor": "white",
           "lakecolor": "white",
           "landcolor": "#E5ECF6",
           "showlakes": true,
           "showland": true,
           "subunitcolor": "white"
          },
          "hoverlabel": {
           "align": "left"
          },
          "hovermode": "closest",
          "mapbox": {
           "style": "light"
          },
          "paper_bgcolor": "white",
          "plot_bgcolor": "#E5ECF6",
          "polar": {
           "angularaxis": {
            "gridcolor": "white",
            "linecolor": "white",
            "ticks": ""
           },
           "bgcolor": "#E5ECF6",
           "radialaxis": {
            "gridcolor": "white",
            "linecolor": "white",
            "ticks": ""
           }
          },
          "scene": {
           "xaxis": {
            "backgroundcolor": "#E5ECF6",
            "gridcolor": "white",
            "gridwidth": 2,
            "linecolor": "white",
            "showbackground": true,
            "ticks": "",
            "zerolinecolor": "white"
           },
           "yaxis": {
            "backgroundcolor": "#E5ECF6",
            "gridcolor": "white",
            "gridwidth": 2,
            "linecolor": "white",
            "showbackground": true,
            "ticks": "",
            "zerolinecolor": "white"
           },
           "zaxis": {
            "backgroundcolor": "#E5ECF6",
            "gridcolor": "white",
            "gridwidth": 2,
            "linecolor": "white",
            "showbackground": true,
            "ticks": "",
            "zerolinecolor": "white"
           }
          },
          "shapedefaults": {
           "line": {
            "color": "#2a3f5f"
           }
          },
          "ternary": {
           "aaxis": {
            "gridcolor": "white",
            "linecolor": "white",
            "ticks": ""
           },
           "baxis": {
            "gridcolor": "white",
            "linecolor": "white",
            "ticks": ""
           },
           "bgcolor": "#E5ECF6",
           "caxis": {
            "gridcolor": "white",
            "linecolor": "white",
            "ticks": ""
           }
          },
          "title": {
           "x": 0.05
          },
          "xaxis": {
           "automargin": true,
           "gridcolor": "white",
           "linecolor": "white",
           "ticks": "",
           "title": {
            "standoff": 15
           },
           "zerolinecolor": "white",
           "zerolinewidth": 2
          },
          "yaxis": {
           "automargin": true,
           "gridcolor": "white",
           "linecolor": "white",
           "ticks": "",
           "title": {
            "standoff": 15
           },
           "zerolinecolor": "white",
           "zerolinewidth": 2
          }
         }
        },
        "title": {
         "text": "Series: (X60 - X84) Lesões autoprovocadas intencionalmente"
        },
        "xaxis": {
         "title": {
          "text": "Time"
         }
        },
        "yaxis": {
         "title": {
          "text": "Value"
         }
        }
       }
      }
     },
     "metadata": {},
     "output_type": "display_data"
    },
    {
     "data": {
      "application/vnd.plotly.v1+json": {
       "config": {
        "plotlyServerURL": "https://plot.ly"
       },
       "data": [
        {
         "hovertemplate": "<b>%{x|%Y-%m-%d}</b><br>Real: %{y:.2f}<extra></extra>",
         "mode": "markers",
         "name": "Real",
         "type": "scatter",
         "x": [
          "2016-03-31T00:00:00",
          "2016-06-30T00:00:00",
          "2016-09-30T00:00:00",
          "2016-12-31T00:00:00",
          "2017-03-31T00:00:00",
          "2017-06-30T00:00:00",
          "2017-09-30T00:00:00",
          "2017-12-31T00:00:00",
          "2018-03-31T00:00:00",
          "2018-06-30T00:00:00",
          "2018-09-30T00:00:00",
          "2018-12-31T00:00:00",
          "2019-03-31T00:00:00",
          "2019-06-30T00:00:00",
          "2019-09-30T00:00:00",
          "2019-12-31T00:00:00",
          "2020-03-31T00:00:00",
          "2020-06-30T00:00:00",
          "2020-09-30T00:00:00",
          "2020-12-31T00:00:00",
          "2021-03-31T00:00:00",
          "2021-06-30T00:00:00",
          "2021-09-30T00:00:00",
          "2021-12-31T00:00:00",
          "2022-03-31T00:00:00",
          "2022-06-30T00:00:00"
         ],
         "y": [
          282,
          576,
          512,
          508,
          517,
          781,
          796,
          706,
          654,
          906,
          865,
          905,
          698,
          1124,
          1175,
          985,
          710,
          401,
          562,
          810,
          731,
          1070,
          1303,
          1301,
          1127,
          1469
         ]
        },
        {
         "error_y": {
          "array": [
           7.867813380472004,
           7.867813380472004,
           7.867813380472004,
           7.867813380472004,
           7.867813380472004,
           7.867813380472004,
           7.867813380472004,
           7.867813380472004,
           7.867813380472004,
           7.867813380472004,
           7.867813380472004,
           7.867813380472004,
           7.867813380472004,
           7.867813380472004,
           7.867813380472004,
           7.867813380472004,
           7.867813380472004,
           7.867813380472004,
           7.867813380472004,
           7.867813380472004,
           7.867813380472004,
           7.867813380472004,
           7.867813380472004,
           7.867813380472004,
           7.867813380472004,
           7.867813380472004
          ],
          "thickness": 1.5,
          "type": "data",
          "visible": true,
          "width": 6
         },
         "hovertemplate": "<b>%{x|%Y-%m-%d}</b><br>Total: %{y:.2f}<extra></extra>",
         "mode": "lines+markers",
         "name": "Total",
         "type": "scatter",
         "x": [
          "2016-03-31T00:00:00",
          "2016-06-30T00:00:00",
          "2016-09-30T00:00:00",
          "2016-12-31T00:00:00",
          "2017-03-31T00:00:00",
          "2017-06-30T00:00:00",
          "2017-09-30T00:00:00",
          "2017-12-31T00:00:00",
          "2018-03-31T00:00:00",
          "2018-06-30T00:00:00",
          "2018-09-30T00:00:00",
          "2018-12-31T00:00:00",
          "2019-03-31T00:00:00",
          "2019-06-30T00:00:00",
          "2019-09-30T00:00:00",
          "2019-12-31T00:00:00",
          "2020-03-31T00:00:00",
          "2020-06-30T00:00:00",
          "2020-09-30T00:00:00",
          "2020-12-31T00:00:00",
          "2021-03-31T00:00:00",
          "2021-06-30T00:00:00",
          "2021-09-30T00:00:00",
          "2021-12-31T00:00:00",
          "2022-03-31T00:00:00",
          "2022-06-30T00:00:00"
         ],
         "y": [
          383.2695469300441,
          432.7191933066845,
          482.1688396833248,
          531.6184860599651,
          581.0681324366054,
          630.5177788132457,
          679.9674251898862,
          729.4170715665264,
          778.8667179431668,
          828.316364319807,
          877.7660106964474,
          927.2156570730879,
          976.6653034497281,
          1026.1149498263685,
          1075.5645962030087,
          1125.0142425796491,
          1174.4638889562893,
          1223.9135353329298,
          1273.36318170957,
          1322.8128280862104,
          1372.2624744628508,
          1421.712120839491,
          1471.1617672161315,
          1520.611413592772,
          1570.061059969412,
          1619.5107063460525
         ]
        }
       ],
       "layout": {
        "legend": {
         "title": {
          "text": "Legend"
         }
        },
        "shapes": [
         {
          "fillcolor": "LightSalmon",
          "layer": "below",
          "line": {
           "width": 0
          },
          "opacity": 0.3,
          "type": "rect",
          "x0": "2020-03-31T00:00:00",
          "x1": "2020-12-31T00:00:00",
          "xref": "x",
          "y0": 0,
          "y1": 1,
          "yref": "paper"
         }
        ],
        "template": {
         "data": {
          "bar": [
           {
            "error_x": {
             "color": "#2a3f5f"
            },
            "error_y": {
             "color": "#2a3f5f"
            },
            "marker": {
             "line": {
              "color": "#E5ECF6",
              "width": 0.5
             },
             "pattern": {
              "fillmode": "overlay",
              "size": 10,
              "solidity": 0.2
             }
            },
            "type": "bar"
           }
          ],
          "barpolar": [
           {
            "marker": {
             "line": {
              "color": "#E5ECF6",
              "width": 0.5
             },
             "pattern": {
              "fillmode": "overlay",
              "size": 10,
              "solidity": 0.2
             }
            },
            "type": "barpolar"
           }
          ],
          "carpet": [
           {
            "aaxis": {
             "endlinecolor": "#2a3f5f",
             "gridcolor": "white",
             "linecolor": "white",
             "minorgridcolor": "white",
             "startlinecolor": "#2a3f5f"
            },
            "baxis": {
             "endlinecolor": "#2a3f5f",
             "gridcolor": "white",
             "linecolor": "white",
             "minorgridcolor": "white",
             "startlinecolor": "#2a3f5f"
            },
            "type": "carpet"
           }
          ],
          "choropleth": [
           {
            "colorbar": {
             "outlinewidth": 0,
             "ticks": ""
            },
            "type": "choropleth"
           }
          ],
          "contour": [
           {
            "colorbar": {
             "outlinewidth": 0,
             "ticks": ""
            },
            "colorscale": [
             [
              0,
              "#0d0887"
             ],
             [
              0.1111111111111111,
              "#46039f"
             ],
             [
              0.2222222222222222,
              "#7201a8"
             ],
             [
              0.3333333333333333,
              "#9c179e"
             ],
             [
              0.4444444444444444,
              "#bd3786"
             ],
             [
              0.5555555555555556,
              "#d8576b"
             ],
             [
              0.6666666666666666,
              "#ed7953"
             ],
             [
              0.7777777777777778,
              "#fb9f3a"
             ],
             [
              0.8888888888888888,
              "#fdca26"
             ],
             [
              1,
              "#f0f921"
             ]
            ],
            "type": "contour"
           }
          ],
          "contourcarpet": [
           {
            "colorbar": {
             "outlinewidth": 0,
             "ticks": ""
            },
            "type": "contourcarpet"
           }
          ],
          "heatmap": [
           {
            "colorbar": {
             "outlinewidth": 0,
             "ticks": ""
            },
            "colorscale": [
             [
              0,
              "#0d0887"
             ],
             [
              0.1111111111111111,
              "#46039f"
             ],
             [
              0.2222222222222222,
              "#7201a8"
             ],
             [
              0.3333333333333333,
              "#9c179e"
             ],
             [
              0.4444444444444444,
              "#bd3786"
             ],
             [
              0.5555555555555556,
              "#d8576b"
             ],
             [
              0.6666666666666666,
              "#ed7953"
             ],
             [
              0.7777777777777778,
              "#fb9f3a"
             ],
             [
              0.8888888888888888,
              "#fdca26"
             ],
             [
              1,
              "#f0f921"
             ]
            ],
            "type": "heatmap"
           }
          ],
          "heatmapgl": [
           {
            "colorbar": {
             "outlinewidth": 0,
             "ticks": ""
            },
            "colorscale": [
             [
              0,
              "#0d0887"
             ],
             [
              0.1111111111111111,
              "#46039f"
             ],
             [
              0.2222222222222222,
              "#7201a8"
             ],
             [
              0.3333333333333333,
              "#9c179e"
             ],
             [
              0.4444444444444444,
              "#bd3786"
             ],
             [
              0.5555555555555556,
              "#d8576b"
             ],
             [
              0.6666666666666666,
              "#ed7953"
             ],
             [
              0.7777777777777778,
              "#fb9f3a"
             ],
             [
              0.8888888888888888,
              "#fdca26"
             ],
             [
              1,
              "#f0f921"
             ]
            ],
            "type": "heatmapgl"
           }
          ],
          "histogram": [
           {
            "marker": {
             "pattern": {
              "fillmode": "overlay",
              "size": 10,
              "solidity": 0.2
             }
            },
            "type": "histogram"
           }
          ],
          "histogram2d": [
           {
            "colorbar": {
             "outlinewidth": 0,
             "ticks": ""
            },
            "colorscale": [
             [
              0,
              "#0d0887"
             ],
             [
              0.1111111111111111,
              "#46039f"
             ],
             [
              0.2222222222222222,
              "#7201a8"
             ],
             [
              0.3333333333333333,
              "#9c179e"
             ],
             [
              0.4444444444444444,
              "#bd3786"
             ],
             [
              0.5555555555555556,
              "#d8576b"
             ],
             [
              0.6666666666666666,
              "#ed7953"
             ],
             [
              0.7777777777777778,
              "#fb9f3a"
             ],
             [
              0.8888888888888888,
              "#fdca26"
             ],
             [
              1,
              "#f0f921"
             ]
            ],
            "type": "histogram2d"
           }
          ],
          "histogram2dcontour": [
           {
            "colorbar": {
             "outlinewidth": 0,
             "ticks": ""
            },
            "colorscale": [
             [
              0,
              "#0d0887"
             ],
             [
              0.1111111111111111,
              "#46039f"
             ],
             [
              0.2222222222222222,
              "#7201a8"
             ],
             [
              0.3333333333333333,
              "#9c179e"
             ],
             [
              0.4444444444444444,
              "#bd3786"
             ],
             [
              0.5555555555555556,
              "#d8576b"
             ],
             [
              0.6666666666666666,
              "#ed7953"
             ],
             [
              0.7777777777777778,
              "#fb9f3a"
             ],
             [
              0.8888888888888888,
              "#fdca26"
             ],
             [
              1,
              "#f0f921"
             ]
            ],
            "type": "histogram2dcontour"
           }
          ],
          "mesh3d": [
           {
            "colorbar": {
             "outlinewidth": 0,
             "ticks": ""
            },
            "type": "mesh3d"
           }
          ],
          "parcoords": [
           {
            "line": {
             "colorbar": {
              "outlinewidth": 0,
              "ticks": ""
             }
            },
            "type": "parcoords"
           }
          ],
          "pie": [
           {
            "automargin": true,
            "type": "pie"
           }
          ],
          "scatter": [
           {
            "fillpattern": {
             "fillmode": "overlay",
             "size": 10,
             "solidity": 0.2
            },
            "type": "scatter"
           }
          ],
          "scatter3d": [
           {
            "line": {
             "colorbar": {
              "outlinewidth": 0,
              "ticks": ""
             }
            },
            "marker": {
             "colorbar": {
              "outlinewidth": 0,
              "ticks": ""
             }
            },
            "type": "scatter3d"
           }
          ],
          "scattercarpet": [
           {
            "marker": {
             "colorbar": {
              "outlinewidth": 0,
              "ticks": ""
             }
            },
            "type": "scattercarpet"
           }
          ],
          "scattergeo": [
           {
            "marker": {
             "colorbar": {
              "outlinewidth": 0,
              "ticks": ""
             }
            },
            "type": "scattergeo"
           }
          ],
          "scattergl": [
           {
            "marker": {
             "colorbar": {
              "outlinewidth": 0,
              "ticks": ""
             }
            },
            "type": "scattergl"
           }
          ],
          "scattermapbox": [
           {
            "marker": {
             "colorbar": {
              "outlinewidth": 0,
              "ticks": ""
             }
            },
            "type": "scattermapbox"
           }
          ],
          "scatterpolar": [
           {
            "marker": {
             "colorbar": {
              "outlinewidth": 0,
              "ticks": ""
             }
            },
            "type": "scatterpolar"
           }
          ],
          "scatterpolargl": [
           {
            "marker": {
             "colorbar": {
              "outlinewidth": 0,
              "ticks": ""
             }
            },
            "type": "scatterpolargl"
           }
          ],
          "scatterternary": [
           {
            "marker": {
             "colorbar": {
              "outlinewidth": 0,
              "ticks": ""
             }
            },
            "type": "scatterternary"
           }
          ],
          "surface": [
           {
            "colorbar": {
             "outlinewidth": 0,
             "ticks": ""
            },
            "colorscale": [
             [
              0,
              "#0d0887"
             ],
             [
              0.1111111111111111,
              "#46039f"
             ],
             [
              0.2222222222222222,
              "#7201a8"
             ],
             [
              0.3333333333333333,
              "#9c179e"
             ],
             [
              0.4444444444444444,
              "#bd3786"
             ],
             [
              0.5555555555555556,
              "#d8576b"
             ],
             [
              0.6666666666666666,
              "#ed7953"
             ],
             [
              0.7777777777777778,
              "#fb9f3a"
             ],
             [
              0.8888888888888888,
              "#fdca26"
             ],
             [
              1,
              "#f0f921"
             ]
            ],
            "type": "surface"
           }
          ],
          "table": [
           {
            "cells": {
             "fill": {
              "color": "#EBF0F8"
             },
             "line": {
              "color": "white"
             }
            },
            "header": {
             "fill": {
              "color": "#C8D4E3"
             },
             "line": {
              "color": "white"
             }
            },
            "type": "table"
           }
          ]
         },
         "layout": {
          "annotationdefaults": {
           "arrowcolor": "#2a3f5f",
           "arrowhead": 0,
           "arrowwidth": 1
          },
          "autotypenumbers": "strict",
          "coloraxis": {
           "colorbar": {
            "outlinewidth": 0,
            "ticks": ""
           }
          },
          "colorscale": {
           "diverging": [
            [
             0,
             "#8e0152"
            ],
            [
             0.1,
             "#c51b7d"
            ],
            [
             0.2,
             "#de77ae"
            ],
            [
             0.3,
             "#f1b6da"
            ],
            [
             0.4,
             "#fde0ef"
            ],
            [
             0.5,
             "#f7f7f7"
            ],
            [
             0.6,
             "#e6f5d0"
            ],
            [
             0.7,
             "#b8e186"
            ],
            [
             0.8,
             "#7fbc41"
            ],
            [
             0.9,
             "#4d9221"
            ],
            [
             1,
             "#276419"
            ]
           ],
           "sequential": [
            [
             0,
             "#0d0887"
            ],
            [
             0.1111111111111111,
             "#46039f"
            ],
            [
             0.2222222222222222,
             "#7201a8"
            ],
            [
             0.3333333333333333,
             "#9c179e"
            ],
            [
             0.4444444444444444,
             "#bd3786"
            ],
            [
             0.5555555555555556,
             "#d8576b"
            ],
            [
             0.6666666666666666,
             "#ed7953"
            ],
            [
             0.7777777777777778,
             "#fb9f3a"
            ],
            [
             0.8888888888888888,
             "#fdca26"
            ],
            [
             1,
             "#f0f921"
            ]
           ],
           "sequentialminus": [
            [
             0,
             "#0d0887"
            ],
            [
             0.1111111111111111,
             "#46039f"
            ],
            [
             0.2222222222222222,
             "#7201a8"
            ],
            [
             0.3333333333333333,
             "#9c179e"
            ],
            [
             0.4444444444444444,
             "#bd3786"
            ],
            [
             0.5555555555555556,
             "#d8576b"
            ],
            [
             0.6666666666666666,
             "#ed7953"
            ],
            [
             0.7777777777777778,
             "#fb9f3a"
            ],
            [
             0.8888888888888888,
             "#fdca26"
            ],
            [
             1,
             "#f0f921"
            ]
           ]
          },
          "colorway": [
           "#636efa",
           "#EF553B",
           "#00cc96",
           "#ab63fa",
           "#FFA15A",
           "#19d3f3",
           "#FF6692",
           "#B6E880",
           "#FF97FF",
           "#FECB52"
          ],
          "font": {
           "color": "#2a3f5f"
          },
          "geo": {
           "bgcolor": "white",
           "lakecolor": "white",
           "landcolor": "#E5ECF6",
           "showlakes": true,
           "showland": true,
           "subunitcolor": "white"
          },
          "hoverlabel": {
           "align": "left"
          },
          "hovermode": "closest",
          "mapbox": {
           "style": "light"
          },
          "paper_bgcolor": "white",
          "plot_bgcolor": "#E5ECF6",
          "polar": {
           "angularaxis": {
            "gridcolor": "white",
            "linecolor": "white",
            "ticks": ""
           },
           "bgcolor": "#E5ECF6",
           "radialaxis": {
            "gridcolor": "white",
            "linecolor": "white",
            "ticks": ""
           }
          },
          "scene": {
           "xaxis": {
            "backgroundcolor": "#E5ECF6",
            "gridcolor": "white",
            "gridwidth": 2,
            "linecolor": "white",
            "showbackground": true,
            "ticks": "",
            "zerolinecolor": "white"
           },
           "yaxis": {
            "backgroundcolor": "#E5ECF6",
            "gridcolor": "white",
            "gridwidth": 2,
            "linecolor": "white",
            "showbackground": true,
            "ticks": "",
            "zerolinecolor": "white"
           },
           "zaxis": {
            "backgroundcolor": "#E5ECF6",
            "gridcolor": "white",
            "gridwidth": 2,
            "linecolor": "white",
            "showbackground": true,
            "ticks": "",
            "zerolinecolor": "white"
           }
          },
          "shapedefaults": {
           "line": {
            "color": "#2a3f5f"
           }
          },
          "ternary": {
           "aaxis": {
            "gridcolor": "white",
            "linecolor": "white",
            "ticks": ""
           },
           "baxis": {
            "gridcolor": "white",
            "linecolor": "white",
            "ticks": ""
           },
           "bgcolor": "#E5ECF6",
           "caxis": {
            "gridcolor": "white",
            "linecolor": "white",
            "ticks": ""
           }
          },
          "title": {
           "x": 0.05
          },
          "xaxis": {
           "automargin": true,
           "gridcolor": "white",
           "linecolor": "white",
           "ticks": "",
           "title": {
            "standoff": 15
           },
           "zerolinecolor": "white",
           "zerolinewidth": 2
          },
          "yaxis": {
           "automargin": true,
           "gridcolor": "white",
           "linecolor": "white",
           "ticks": "",
           "title": {
            "standoff": 15
           },
           "zerolinecolor": "white",
           "zerolinewidth": 2
          }
         }
        },
        "title": {
         "text": "Series: 00 a 09 anos"
        },
        "xaxis": {
         "title": {
          "text": "Time"
         }
        },
        "yaxis": {
         "title": {
          "text": "Value"
         }
        }
       }
      }
     },
     "metadata": {},
     "output_type": "display_data"
    },
    {
     "data": {
      "application/vnd.plotly.v1+json": {
       "config": {
        "plotlyServerURL": "https://plot.ly"
       },
       "data": [
        {
         "hovertemplate": "<b>%{x|%Y-%m-%d}</b><br>Real: %{y:.2f}<extra></extra>",
         "mode": "markers",
         "name": "Real",
         "type": "scatter",
         "x": [
          "2016-03-31T00:00:00",
          "2016-06-30T00:00:00",
          "2016-09-30T00:00:00",
          "2016-12-31T00:00:00",
          "2017-03-31T00:00:00",
          "2017-06-30T00:00:00",
          "2017-09-30T00:00:00",
          "2017-12-31T00:00:00",
          "2018-03-31T00:00:00",
          "2018-06-30T00:00:00",
          "2018-09-30T00:00:00",
          "2018-12-31T00:00:00",
          "2019-03-31T00:00:00",
          "2019-06-30T00:00:00",
          "2019-09-30T00:00:00",
          "2019-12-31T00:00:00",
          "2020-03-31T00:00:00",
          "2020-06-30T00:00:00",
          "2020-09-30T00:00:00",
          "2020-12-31T00:00:00",
          "2021-03-31T00:00:00",
          "2021-06-30T00:00:00",
          "2021-09-30T00:00:00",
          "2021-12-31T00:00:00",
          "2022-03-31T00:00:00",
          "2022-06-30T00:00:00"
         ],
         "y": [
          645,
          1005,
          839,
          788,
          1028,
          1267,
          1308,
          1242,
          1223,
          1482,
          1455,
          1512,
          1380,
          1869,
          1980,
          1796,
          1433,
          1215,
          1613,
          2095,
          1849,
          2293,
          2707,
          2609,
          2036,
          2536
         ]
        },
        {
         "error_y": {
          "array": [
           5.890027511179365,
           5.890027511179365,
           5.890027511179365,
           5.890027511179365,
           5.890027511179365,
           5.890027511179365,
           5.890027511179365,
           5.890027511179365,
           5.890027511179365,
           5.890027511179365,
           5.890027511179365,
           5.890027511179365,
           5.890027511179365,
           5.890027511179365,
           5.890027511179365,
           5.890027511179365,
           5.890027511179365,
           5.890027511179365,
           5.890027511179365,
           5.890027511179365,
           5.890027511179365,
           5.890027511179365,
           5.890027511179365,
           5.890027511179365,
           5.890027511179365,
           5.890027511179365
          ],
          "thickness": 1.5,
          "type": "data",
          "visible": true,
          "width": 6
         },
         "hovertemplate": "<b>%{x|%Y-%m-%d}</b><br>Total: %{y:.2f}<extra></extra>",
         "mode": "lines+markers",
         "name": "Total",
         "type": "scatter",
         "x": [
          "2016-03-31T00:00:00",
          "2016-06-30T00:00:00",
          "2016-09-30T00:00:00",
          "2016-12-31T00:00:00",
          "2017-03-31T00:00:00",
          "2017-06-30T00:00:00",
          "2017-09-30T00:00:00",
          "2017-12-31T00:00:00",
          "2018-03-31T00:00:00",
          "2018-06-30T00:00:00",
          "2018-09-30T00:00:00",
          "2018-12-31T00:00:00",
          "2019-03-31T00:00:00",
          "2019-06-30T00:00:00",
          "2019-09-30T00:00:00",
          "2019-12-31T00:00:00",
          "2020-03-31T00:00:00",
          "2020-06-30T00:00:00",
          "2020-09-30T00:00:00",
          "2020-12-31T00:00:00",
          "2021-03-31T00:00:00",
          "2021-06-30T00:00:00",
          "2021-09-30T00:00:00",
          "2021-12-31T00:00:00",
          "2022-03-31T00:00:00",
          "2022-06-30T00:00:00"
         ],
         "y": [
          729.4859069699166,
          806.446444784845,
          883.4069825997732,
          960.3675204147014,
          1037.3280582296297,
          1114.2885960445578,
          1191.2491338594864,
          1268.2096716744145,
          1345.1702094893426,
          1422.1307473042712,
          1499.0912851191993,
          1576.0518229341274,
          1653.012360749056,
          1729.972898563984,
          1806.9334363789121,
          1883.8939741938407,
          1960.8545120087688,
          2037.8150498236969,
          2114.7755876386254,
          2191.7361254535535,
          2268.6966632684816,
          2345.65720108341,
          2422.6177388983383,
          2499.5782767132664,
          2576.538814528195,
          2653.499352343123
         ]
        }
       ],
       "layout": {
        "legend": {
         "title": {
          "text": "Legend"
         }
        },
        "shapes": [
         {
          "fillcolor": "LightSalmon",
          "layer": "below",
          "line": {
           "width": 0
          },
          "opacity": 0.3,
          "type": "rect",
          "x0": "2020-03-31T00:00:00",
          "x1": "2020-12-31T00:00:00",
          "xref": "x",
          "y0": 0,
          "y1": 1,
          "yref": "paper"
         }
        ],
        "template": {
         "data": {
          "bar": [
           {
            "error_x": {
             "color": "#2a3f5f"
            },
            "error_y": {
             "color": "#2a3f5f"
            },
            "marker": {
             "line": {
              "color": "#E5ECF6",
              "width": 0.5
             },
             "pattern": {
              "fillmode": "overlay",
              "size": 10,
              "solidity": 0.2
             }
            },
            "type": "bar"
           }
          ],
          "barpolar": [
           {
            "marker": {
             "line": {
              "color": "#E5ECF6",
              "width": 0.5
             },
             "pattern": {
              "fillmode": "overlay",
              "size": 10,
              "solidity": 0.2
             }
            },
            "type": "barpolar"
           }
          ],
          "carpet": [
           {
            "aaxis": {
             "endlinecolor": "#2a3f5f",
             "gridcolor": "white",
             "linecolor": "white",
             "minorgridcolor": "white",
             "startlinecolor": "#2a3f5f"
            },
            "baxis": {
             "endlinecolor": "#2a3f5f",
             "gridcolor": "white",
             "linecolor": "white",
             "minorgridcolor": "white",
             "startlinecolor": "#2a3f5f"
            },
            "type": "carpet"
           }
          ],
          "choropleth": [
           {
            "colorbar": {
             "outlinewidth": 0,
             "ticks": ""
            },
            "type": "choropleth"
           }
          ],
          "contour": [
           {
            "colorbar": {
             "outlinewidth": 0,
             "ticks": ""
            },
            "colorscale": [
             [
              0,
              "#0d0887"
             ],
             [
              0.1111111111111111,
              "#46039f"
             ],
             [
              0.2222222222222222,
              "#7201a8"
             ],
             [
              0.3333333333333333,
              "#9c179e"
             ],
             [
              0.4444444444444444,
              "#bd3786"
             ],
             [
              0.5555555555555556,
              "#d8576b"
             ],
             [
              0.6666666666666666,
              "#ed7953"
             ],
             [
              0.7777777777777778,
              "#fb9f3a"
             ],
             [
              0.8888888888888888,
              "#fdca26"
             ],
             [
              1,
              "#f0f921"
             ]
            ],
            "type": "contour"
           }
          ],
          "contourcarpet": [
           {
            "colorbar": {
             "outlinewidth": 0,
             "ticks": ""
            },
            "type": "contourcarpet"
           }
          ],
          "heatmap": [
           {
            "colorbar": {
             "outlinewidth": 0,
             "ticks": ""
            },
            "colorscale": [
             [
              0,
              "#0d0887"
             ],
             [
              0.1111111111111111,
              "#46039f"
             ],
             [
              0.2222222222222222,
              "#7201a8"
             ],
             [
              0.3333333333333333,
              "#9c179e"
             ],
             [
              0.4444444444444444,
              "#bd3786"
             ],
             [
              0.5555555555555556,
              "#d8576b"
             ],
             [
              0.6666666666666666,
              "#ed7953"
             ],
             [
              0.7777777777777778,
              "#fb9f3a"
             ],
             [
              0.8888888888888888,
              "#fdca26"
             ],
             [
              1,
              "#f0f921"
             ]
            ],
            "type": "heatmap"
           }
          ],
          "heatmapgl": [
           {
            "colorbar": {
             "outlinewidth": 0,
             "ticks": ""
            },
            "colorscale": [
             [
              0,
              "#0d0887"
             ],
             [
              0.1111111111111111,
              "#46039f"
             ],
             [
              0.2222222222222222,
              "#7201a8"
             ],
             [
              0.3333333333333333,
              "#9c179e"
             ],
             [
              0.4444444444444444,
              "#bd3786"
             ],
             [
              0.5555555555555556,
              "#d8576b"
             ],
             [
              0.6666666666666666,
              "#ed7953"
             ],
             [
              0.7777777777777778,
              "#fb9f3a"
             ],
             [
              0.8888888888888888,
              "#fdca26"
             ],
             [
              1,
              "#f0f921"
             ]
            ],
            "type": "heatmapgl"
           }
          ],
          "histogram": [
           {
            "marker": {
             "pattern": {
              "fillmode": "overlay",
              "size": 10,
              "solidity": 0.2
             }
            },
            "type": "histogram"
           }
          ],
          "histogram2d": [
           {
            "colorbar": {
             "outlinewidth": 0,
             "ticks": ""
            },
            "colorscale": [
             [
              0,
              "#0d0887"
             ],
             [
              0.1111111111111111,
              "#46039f"
             ],
             [
              0.2222222222222222,
              "#7201a8"
             ],
             [
              0.3333333333333333,
              "#9c179e"
             ],
             [
              0.4444444444444444,
              "#bd3786"
             ],
             [
              0.5555555555555556,
              "#d8576b"
             ],
             [
              0.6666666666666666,
              "#ed7953"
             ],
             [
              0.7777777777777778,
              "#fb9f3a"
             ],
             [
              0.8888888888888888,
              "#fdca26"
             ],
             [
              1,
              "#f0f921"
             ]
            ],
            "type": "histogram2d"
           }
          ],
          "histogram2dcontour": [
           {
            "colorbar": {
             "outlinewidth": 0,
             "ticks": ""
            },
            "colorscale": [
             [
              0,
              "#0d0887"
             ],
             [
              0.1111111111111111,
              "#46039f"
             ],
             [
              0.2222222222222222,
              "#7201a8"
             ],
             [
              0.3333333333333333,
              "#9c179e"
             ],
             [
              0.4444444444444444,
              "#bd3786"
             ],
             [
              0.5555555555555556,
              "#d8576b"
             ],
             [
              0.6666666666666666,
              "#ed7953"
             ],
             [
              0.7777777777777778,
              "#fb9f3a"
             ],
             [
              0.8888888888888888,
              "#fdca26"
             ],
             [
              1,
              "#f0f921"
             ]
            ],
            "type": "histogram2dcontour"
           }
          ],
          "mesh3d": [
           {
            "colorbar": {
             "outlinewidth": 0,
             "ticks": ""
            },
            "type": "mesh3d"
           }
          ],
          "parcoords": [
           {
            "line": {
             "colorbar": {
              "outlinewidth": 0,
              "ticks": ""
             }
            },
            "type": "parcoords"
           }
          ],
          "pie": [
           {
            "automargin": true,
            "type": "pie"
           }
          ],
          "scatter": [
           {
            "fillpattern": {
             "fillmode": "overlay",
             "size": 10,
             "solidity": 0.2
            },
            "type": "scatter"
           }
          ],
          "scatter3d": [
           {
            "line": {
             "colorbar": {
              "outlinewidth": 0,
              "ticks": ""
             }
            },
            "marker": {
             "colorbar": {
              "outlinewidth": 0,
              "ticks": ""
             }
            },
            "type": "scatter3d"
           }
          ],
          "scattercarpet": [
           {
            "marker": {
             "colorbar": {
              "outlinewidth": 0,
              "ticks": ""
             }
            },
            "type": "scattercarpet"
           }
          ],
          "scattergeo": [
           {
            "marker": {
             "colorbar": {
              "outlinewidth": 0,
              "ticks": ""
             }
            },
            "type": "scattergeo"
           }
          ],
          "scattergl": [
           {
            "marker": {
             "colorbar": {
              "outlinewidth": 0,
              "ticks": ""
             }
            },
            "type": "scattergl"
           }
          ],
          "scattermapbox": [
           {
            "marker": {
             "colorbar": {
              "outlinewidth": 0,
              "ticks": ""
             }
            },
            "type": "scattermapbox"
           }
          ],
          "scatterpolar": [
           {
            "marker": {
             "colorbar": {
              "outlinewidth": 0,
              "ticks": ""
             }
            },
            "type": "scatterpolar"
           }
          ],
          "scatterpolargl": [
           {
            "marker": {
             "colorbar": {
              "outlinewidth": 0,
              "ticks": ""
             }
            },
            "type": "scatterpolargl"
           }
          ],
          "scatterternary": [
           {
            "marker": {
             "colorbar": {
              "outlinewidth": 0,
              "ticks": ""
             }
            },
            "type": "scatterternary"
           }
          ],
          "surface": [
           {
            "colorbar": {
             "outlinewidth": 0,
             "ticks": ""
            },
            "colorscale": [
             [
              0,
              "#0d0887"
             ],
             [
              0.1111111111111111,
              "#46039f"
             ],
             [
              0.2222222222222222,
              "#7201a8"
             ],
             [
              0.3333333333333333,
              "#9c179e"
             ],
             [
              0.4444444444444444,
              "#bd3786"
             ],
             [
              0.5555555555555556,
              "#d8576b"
             ],
             [
              0.6666666666666666,
              "#ed7953"
             ],
             [
              0.7777777777777778,
              "#fb9f3a"
             ],
             [
              0.8888888888888888,
              "#fdca26"
             ],
             [
              1,
              "#f0f921"
             ]
            ],
            "type": "surface"
           }
          ],
          "table": [
           {
            "cells": {
             "fill": {
              "color": "#EBF0F8"
             },
             "line": {
              "color": "white"
             }
            },
            "header": {
             "fill": {
              "color": "#C8D4E3"
             },
             "line": {
              "color": "white"
             }
            },
            "type": "table"
           }
          ]
         },
         "layout": {
          "annotationdefaults": {
           "arrowcolor": "#2a3f5f",
           "arrowhead": 0,
           "arrowwidth": 1
          },
          "autotypenumbers": "strict",
          "coloraxis": {
           "colorbar": {
            "outlinewidth": 0,
            "ticks": ""
           }
          },
          "colorscale": {
           "diverging": [
            [
             0,
             "#8e0152"
            ],
            [
             0.1,
             "#c51b7d"
            ],
            [
             0.2,
             "#de77ae"
            ],
            [
             0.3,
             "#f1b6da"
            ],
            [
             0.4,
             "#fde0ef"
            ],
            [
             0.5,
             "#f7f7f7"
            ],
            [
             0.6,
             "#e6f5d0"
            ],
            [
             0.7,
             "#b8e186"
            ],
            [
             0.8,
             "#7fbc41"
            ],
            [
             0.9,
             "#4d9221"
            ],
            [
             1,
             "#276419"
            ]
           ],
           "sequential": [
            [
             0,
             "#0d0887"
            ],
            [
             0.1111111111111111,
             "#46039f"
            ],
            [
             0.2222222222222222,
             "#7201a8"
            ],
            [
             0.3333333333333333,
             "#9c179e"
            ],
            [
             0.4444444444444444,
             "#bd3786"
            ],
            [
             0.5555555555555556,
             "#d8576b"
            ],
            [
             0.6666666666666666,
             "#ed7953"
            ],
            [
             0.7777777777777778,
             "#fb9f3a"
            ],
            [
             0.8888888888888888,
             "#fdca26"
            ],
            [
             1,
             "#f0f921"
            ]
           ],
           "sequentialminus": [
            [
             0,
             "#0d0887"
            ],
            [
             0.1111111111111111,
             "#46039f"
            ],
            [
             0.2222222222222222,
             "#7201a8"
            ],
            [
             0.3333333333333333,
             "#9c179e"
            ],
            [
             0.4444444444444444,
             "#bd3786"
            ],
            [
             0.5555555555555556,
             "#d8576b"
            ],
            [
             0.6666666666666666,
             "#ed7953"
            ],
            [
             0.7777777777777778,
             "#fb9f3a"
            ],
            [
             0.8888888888888888,
             "#fdca26"
            ],
            [
             1,
             "#f0f921"
            ]
           ]
          },
          "colorway": [
           "#636efa",
           "#EF553B",
           "#00cc96",
           "#ab63fa",
           "#FFA15A",
           "#19d3f3",
           "#FF6692",
           "#B6E880",
           "#FF97FF",
           "#FECB52"
          ],
          "font": {
           "color": "#2a3f5f"
          },
          "geo": {
           "bgcolor": "white",
           "lakecolor": "white",
           "landcolor": "#E5ECF6",
           "showlakes": true,
           "showland": true,
           "subunitcolor": "white"
          },
          "hoverlabel": {
           "align": "left"
          },
          "hovermode": "closest",
          "mapbox": {
           "style": "light"
          },
          "paper_bgcolor": "white",
          "plot_bgcolor": "#E5ECF6",
          "polar": {
           "angularaxis": {
            "gridcolor": "white",
            "linecolor": "white",
            "ticks": ""
           },
           "bgcolor": "#E5ECF6",
           "radialaxis": {
            "gridcolor": "white",
            "linecolor": "white",
            "ticks": ""
           }
          },
          "scene": {
           "xaxis": {
            "backgroundcolor": "#E5ECF6",
            "gridcolor": "white",
            "gridwidth": 2,
            "linecolor": "white",
            "showbackground": true,
            "ticks": "",
            "zerolinecolor": "white"
           },
           "yaxis": {
            "backgroundcolor": "#E5ECF6",
            "gridcolor": "white",
            "gridwidth": 2,
            "linecolor": "white",
            "showbackground": true,
            "ticks": "",
            "zerolinecolor": "white"
           },
           "zaxis": {
            "backgroundcolor": "#E5ECF6",
            "gridcolor": "white",
            "gridwidth": 2,
            "linecolor": "white",
            "showbackground": true,
            "ticks": "",
            "zerolinecolor": "white"
           }
          },
          "shapedefaults": {
           "line": {
            "color": "#2a3f5f"
           }
          },
          "ternary": {
           "aaxis": {
            "gridcolor": "white",
            "linecolor": "white",
            "ticks": ""
           },
           "baxis": {
            "gridcolor": "white",
            "linecolor": "white",
            "ticks": ""
           },
           "bgcolor": "#E5ECF6",
           "caxis": {
            "gridcolor": "white",
            "linecolor": "white",
            "ticks": ""
           }
          },
          "title": {
           "x": 0.05
          },
          "xaxis": {
           "automargin": true,
           "gridcolor": "white",
           "linecolor": "white",
           "ticks": "",
           "title": {
            "standoff": 15
           },
           "zerolinecolor": "white",
           "zerolinewidth": 2
          },
          "yaxis": {
           "automargin": true,
           "gridcolor": "white",
           "linecolor": "white",
           "ticks": "",
           "title": {
            "standoff": 15
           },
           "zerolinecolor": "white",
           "zerolinewidth": 2
          }
         }
        },
        "title": {
         "text": "Series: 10 a 19 anos"
        },
        "xaxis": {
         "title": {
          "text": "Time"
         }
        },
        "yaxis": {
         "title": {
          "text": "Value"
         }
        }
       }
      }
     },
     "metadata": {},
     "output_type": "display_data"
    },
    {
     "data": {
      "application/vnd.plotly.v1+json": {
       "config": {
        "plotlyServerURL": "https://plot.ly"
       },
       "data": [
        {
         "hovertemplate": "<b>%{x|%Y-%m-%d}</b><br>Real: %{y:.2f}<extra></extra>",
         "mode": "markers",
         "name": "Real",
         "type": "scatter",
         "x": [
          "2016-03-31T00:00:00",
          "2016-06-30T00:00:00",
          "2016-09-30T00:00:00",
          "2016-12-31T00:00:00",
          "2017-03-31T00:00:00",
          "2017-06-30T00:00:00",
          "2017-09-30T00:00:00",
          "2017-12-31T00:00:00",
          "2018-03-31T00:00:00",
          "2018-06-30T00:00:00",
          "2018-09-30T00:00:00",
          "2018-12-31T00:00:00",
          "2019-03-31T00:00:00",
          "2019-06-30T00:00:00",
          "2019-09-30T00:00:00",
          "2019-12-31T00:00:00",
          "2020-03-31T00:00:00",
          "2020-06-30T00:00:00",
          "2020-09-30T00:00:00",
          "2020-12-31T00:00:00",
          "2021-03-31T00:00:00",
          "2021-06-30T00:00:00",
          "2021-09-30T00:00:00",
          "2021-12-31T00:00:00",
          "2022-03-31T00:00:00",
          "2022-06-30T00:00:00"
         ],
         "y": [
          1400,
          1702,
          1288,
          1190,
          1751,
          1926,
          1940,
          1892,
          1870,
          2182,
          2150,
          2403,
          2185,
          2485,
          2514,
          2301,
          2110,
          2262,
          3003,
          3638,
          3450,
          3886,
          4422,
          4086,
          3462,
          4098
         ]
        },
        {
         "error_y": {
          "array": [
           6.354408815462261,
           6.354408815462261,
           6.354408815462261,
           6.354408815462261,
           6.354408815462261,
           6.354408815462261,
           6.354408815462261,
           6.354408815462261,
           6.354408815462261,
           6.354408815462261,
           6.354408815462261,
           6.354408815462261,
           6.354408815462261,
           6.354408815462261,
           6.354408815462261,
           6.354408815462261,
           6.354408815462261,
           6.354408815462261,
           6.354408815462261,
           6.354408815462261,
           6.354408815462261,
           6.354408815462261,
           6.354408815462261,
           6.354408815462261,
           6.354408815462261,
           6.354408815462261
          ],
          "thickness": 1.5,
          "type": "data",
          "visible": true,
          "width": 6
         },
         "hovertemplate": "<b>%{x|%Y-%m-%d}</b><br>Total: %{y:.2f}<extra></extra>",
         "mode": "lines+markers",
         "name": "Total",
         "type": "scatter",
         "x": [
          "2016-03-31T00:00:00",
          "2016-06-30T00:00:00",
          "2016-09-30T00:00:00",
          "2016-12-31T00:00:00",
          "2017-03-31T00:00:00",
          "2017-06-30T00:00:00",
          "2017-09-30T00:00:00",
          "2017-12-31T00:00:00",
          "2018-03-31T00:00:00",
          "2018-06-30T00:00:00",
          "2018-09-30T00:00:00",
          "2018-12-31T00:00:00",
          "2019-03-31T00:00:00",
          "2019-06-30T00:00:00",
          "2019-09-30T00:00:00",
          "2019-12-31T00:00:00",
          "2020-03-31T00:00:00",
          "2020-06-30T00:00:00",
          "2020-09-30T00:00:00",
          "2020-12-31T00:00:00",
          "2021-03-31T00:00:00",
          "2021-06-30T00:00:00",
          "2021-09-30T00:00:00",
          "2021-12-31T00:00:00",
          "2022-03-31T00:00:00",
          "2022-06-30T00:00:00"
         ],
         "y": [
          1325.594434038405,
          1408.0516619525802,
          1490.5088898667555,
          1572.9661177809305,
          1655.4233456951056,
          1737.8805736092806,
          1820.3378015234557,
          1902.795029437631,
          1985.2522573518058,
          2067.709485265981,
          2150.166713180156,
          2232.6239410943313,
          2315.0811690085065,
          2397.5383969226814,
          2479.9956248368567,
          2562.452852751032,
          2644.910080665207,
          2727.3673085793816,
          2809.8245364935574,
          2892.281764407732,
          2974.738992321907,
          3057.1962202360824,
          3139.6534481502576,
          3222.1106760644325,
          3304.567903978608,
          3387.0251318927826
         ]
        }
       ],
       "layout": {
        "legend": {
         "title": {
          "text": "Legend"
         }
        },
        "shapes": [
         {
          "fillcolor": "LightSalmon",
          "layer": "below",
          "line": {
           "width": 0
          },
          "opacity": 0.3,
          "type": "rect",
          "x0": "2020-03-31T00:00:00",
          "x1": "2020-12-31T00:00:00",
          "xref": "x",
          "y0": 0,
          "y1": 1,
          "yref": "paper"
         }
        ],
        "template": {
         "data": {
          "bar": [
           {
            "error_x": {
             "color": "#2a3f5f"
            },
            "error_y": {
             "color": "#2a3f5f"
            },
            "marker": {
             "line": {
              "color": "#E5ECF6",
              "width": 0.5
             },
             "pattern": {
              "fillmode": "overlay",
              "size": 10,
              "solidity": 0.2
             }
            },
            "type": "bar"
           }
          ],
          "barpolar": [
           {
            "marker": {
             "line": {
              "color": "#E5ECF6",
              "width": 0.5
             },
             "pattern": {
              "fillmode": "overlay",
              "size": 10,
              "solidity": 0.2
             }
            },
            "type": "barpolar"
           }
          ],
          "carpet": [
           {
            "aaxis": {
             "endlinecolor": "#2a3f5f",
             "gridcolor": "white",
             "linecolor": "white",
             "minorgridcolor": "white",
             "startlinecolor": "#2a3f5f"
            },
            "baxis": {
             "endlinecolor": "#2a3f5f",
             "gridcolor": "white",
             "linecolor": "white",
             "minorgridcolor": "white",
             "startlinecolor": "#2a3f5f"
            },
            "type": "carpet"
           }
          ],
          "choropleth": [
           {
            "colorbar": {
             "outlinewidth": 0,
             "ticks": ""
            },
            "type": "choropleth"
           }
          ],
          "contour": [
           {
            "colorbar": {
             "outlinewidth": 0,
             "ticks": ""
            },
            "colorscale": [
             [
              0,
              "#0d0887"
             ],
             [
              0.1111111111111111,
              "#46039f"
             ],
             [
              0.2222222222222222,
              "#7201a8"
             ],
             [
              0.3333333333333333,
              "#9c179e"
             ],
             [
              0.4444444444444444,
              "#bd3786"
             ],
             [
              0.5555555555555556,
              "#d8576b"
             ],
             [
              0.6666666666666666,
              "#ed7953"
             ],
             [
              0.7777777777777778,
              "#fb9f3a"
             ],
             [
              0.8888888888888888,
              "#fdca26"
             ],
             [
              1,
              "#f0f921"
             ]
            ],
            "type": "contour"
           }
          ],
          "contourcarpet": [
           {
            "colorbar": {
             "outlinewidth": 0,
             "ticks": ""
            },
            "type": "contourcarpet"
           }
          ],
          "heatmap": [
           {
            "colorbar": {
             "outlinewidth": 0,
             "ticks": ""
            },
            "colorscale": [
             [
              0,
              "#0d0887"
             ],
             [
              0.1111111111111111,
              "#46039f"
             ],
             [
              0.2222222222222222,
              "#7201a8"
             ],
             [
              0.3333333333333333,
              "#9c179e"
             ],
             [
              0.4444444444444444,
              "#bd3786"
             ],
             [
              0.5555555555555556,
              "#d8576b"
             ],
             [
              0.6666666666666666,
              "#ed7953"
             ],
             [
              0.7777777777777778,
              "#fb9f3a"
             ],
             [
              0.8888888888888888,
              "#fdca26"
             ],
             [
              1,
              "#f0f921"
             ]
            ],
            "type": "heatmap"
           }
          ],
          "heatmapgl": [
           {
            "colorbar": {
             "outlinewidth": 0,
             "ticks": ""
            },
            "colorscale": [
             [
              0,
              "#0d0887"
             ],
             [
              0.1111111111111111,
              "#46039f"
             ],
             [
              0.2222222222222222,
              "#7201a8"
             ],
             [
              0.3333333333333333,
              "#9c179e"
             ],
             [
              0.4444444444444444,
              "#bd3786"
             ],
             [
              0.5555555555555556,
              "#d8576b"
             ],
             [
              0.6666666666666666,
              "#ed7953"
             ],
             [
              0.7777777777777778,
              "#fb9f3a"
             ],
             [
              0.8888888888888888,
              "#fdca26"
             ],
             [
              1,
              "#f0f921"
             ]
            ],
            "type": "heatmapgl"
           }
          ],
          "histogram": [
           {
            "marker": {
             "pattern": {
              "fillmode": "overlay",
              "size": 10,
              "solidity": 0.2
             }
            },
            "type": "histogram"
           }
          ],
          "histogram2d": [
           {
            "colorbar": {
             "outlinewidth": 0,
             "ticks": ""
            },
            "colorscale": [
             [
              0,
              "#0d0887"
             ],
             [
              0.1111111111111111,
              "#46039f"
             ],
             [
              0.2222222222222222,
              "#7201a8"
             ],
             [
              0.3333333333333333,
              "#9c179e"
             ],
             [
              0.4444444444444444,
              "#bd3786"
             ],
             [
              0.5555555555555556,
              "#d8576b"
             ],
             [
              0.6666666666666666,
              "#ed7953"
             ],
             [
              0.7777777777777778,
              "#fb9f3a"
             ],
             [
              0.8888888888888888,
              "#fdca26"
             ],
             [
              1,
              "#f0f921"
             ]
            ],
            "type": "histogram2d"
           }
          ],
          "histogram2dcontour": [
           {
            "colorbar": {
             "outlinewidth": 0,
             "ticks": ""
            },
            "colorscale": [
             [
              0,
              "#0d0887"
             ],
             [
              0.1111111111111111,
              "#46039f"
             ],
             [
              0.2222222222222222,
              "#7201a8"
             ],
             [
              0.3333333333333333,
              "#9c179e"
             ],
             [
              0.4444444444444444,
              "#bd3786"
             ],
             [
              0.5555555555555556,
              "#d8576b"
             ],
             [
              0.6666666666666666,
              "#ed7953"
             ],
             [
              0.7777777777777778,
              "#fb9f3a"
             ],
             [
              0.8888888888888888,
              "#fdca26"
             ],
             [
              1,
              "#f0f921"
             ]
            ],
            "type": "histogram2dcontour"
           }
          ],
          "mesh3d": [
           {
            "colorbar": {
             "outlinewidth": 0,
             "ticks": ""
            },
            "type": "mesh3d"
           }
          ],
          "parcoords": [
           {
            "line": {
             "colorbar": {
              "outlinewidth": 0,
              "ticks": ""
             }
            },
            "type": "parcoords"
           }
          ],
          "pie": [
           {
            "automargin": true,
            "type": "pie"
           }
          ],
          "scatter": [
           {
            "fillpattern": {
             "fillmode": "overlay",
             "size": 10,
             "solidity": 0.2
            },
            "type": "scatter"
           }
          ],
          "scatter3d": [
           {
            "line": {
             "colorbar": {
              "outlinewidth": 0,
              "ticks": ""
             }
            },
            "marker": {
             "colorbar": {
              "outlinewidth": 0,
              "ticks": ""
             }
            },
            "type": "scatter3d"
           }
          ],
          "scattercarpet": [
           {
            "marker": {
             "colorbar": {
              "outlinewidth": 0,
              "ticks": ""
             }
            },
            "type": "scattercarpet"
           }
          ],
          "scattergeo": [
           {
            "marker": {
             "colorbar": {
              "outlinewidth": 0,
              "ticks": ""
             }
            },
            "type": "scattergeo"
           }
          ],
          "scattergl": [
           {
            "marker": {
             "colorbar": {
              "outlinewidth": 0,
              "ticks": ""
             }
            },
            "type": "scattergl"
           }
          ],
          "scattermapbox": [
           {
            "marker": {
             "colorbar": {
              "outlinewidth": 0,
              "ticks": ""
             }
            },
            "type": "scattermapbox"
           }
          ],
          "scatterpolar": [
           {
            "marker": {
             "colorbar": {
              "outlinewidth": 0,
              "ticks": ""
             }
            },
            "type": "scatterpolar"
           }
          ],
          "scatterpolargl": [
           {
            "marker": {
             "colorbar": {
              "outlinewidth": 0,
              "ticks": ""
             }
            },
            "type": "scatterpolargl"
           }
          ],
          "scatterternary": [
           {
            "marker": {
             "colorbar": {
              "outlinewidth": 0,
              "ticks": ""
             }
            },
            "type": "scatterternary"
           }
          ],
          "surface": [
           {
            "colorbar": {
             "outlinewidth": 0,
             "ticks": ""
            },
            "colorscale": [
             [
              0,
              "#0d0887"
             ],
             [
              0.1111111111111111,
              "#46039f"
             ],
             [
              0.2222222222222222,
              "#7201a8"
             ],
             [
              0.3333333333333333,
              "#9c179e"
             ],
             [
              0.4444444444444444,
              "#bd3786"
             ],
             [
              0.5555555555555556,
              "#d8576b"
             ],
             [
              0.6666666666666666,
              "#ed7953"
             ],
             [
              0.7777777777777778,
              "#fb9f3a"
             ],
             [
              0.8888888888888888,
              "#fdca26"
             ],
             [
              1,
              "#f0f921"
             ]
            ],
            "type": "surface"
           }
          ],
          "table": [
           {
            "cells": {
             "fill": {
              "color": "#EBF0F8"
             },
             "line": {
              "color": "white"
             }
            },
            "header": {
             "fill": {
              "color": "#C8D4E3"
             },
             "line": {
              "color": "white"
             }
            },
            "type": "table"
           }
          ]
         },
         "layout": {
          "annotationdefaults": {
           "arrowcolor": "#2a3f5f",
           "arrowhead": 0,
           "arrowwidth": 1
          },
          "autotypenumbers": "strict",
          "coloraxis": {
           "colorbar": {
            "outlinewidth": 0,
            "ticks": ""
           }
          },
          "colorscale": {
           "diverging": [
            [
             0,
             "#8e0152"
            ],
            [
             0.1,
             "#c51b7d"
            ],
            [
             0.2,
             "#de77ae"
            ],
            [
             0.3,
             "#f1b6da"
            ],
            [
             0.4,
             "#fde0ef"
            ],
            [
             0.5,
             "#f7f7f7"
            ],
            [
             0.6,
             "#e6f5d0"
            ],
            [
             0.7,
             "#b8e186"
            ],
            [
             0.8,
             "#7fbc41"
            ],
            [
             0.9,
             "#4d9221"
            ],
            [
             1,
             "#276419"
            ]
           ],
           "sequential": [
            [
             0,
             "#0d0887"
            ],
            [
             0.1111111111111111,
             "#46039f"
            ],
            [
             0.2222222222222222,
             "#7201a8"
            ],
            [
             0.3333333333333333,
             "#9c179e"
            ],
            [
             0.4444444444444444,
             "#bd3786"
            ],
            [
             0.5555555555555556,
             "#d8576b"
            ],
            [
             0.6666666666666666,
             "#ed7953"
            ],
            [
             0.7777777777777778,
             "#fb9f3a"
            ],
            [
             0.8888888888888888,
             "#fdca26"
            ],
            [
             1,
             "#f0f921"
            ]
           ],
           "sequentialminus": [
            [
             0,
             "#0d0887"
            ],
            [
             0.1111111111111111,
             "#46039f"
            ],
            [
             0.2222222222222222,
             "#7201a8"
            ],
            [
             0.3333333333333333,
             "#9c179e"
            ],
            [
             0.4444444444444444,
             "#bd3786"
            ],
            [
             0.5555555555555556,
             "#d8576b"
            ],
            [
             0.6666666666666666,
             "#ed7953"
            ],
            [
             0.7777777777777778,
             "#fb9f3a"
            ],
            [
             0.8888888888888888,
             "#fdca26"
            ],
            [
             1,
             "#f0f921"
            ]
           ]
          },
          "colorway": [
           "#636efa",
           "#EF553B",
           "#00cc96",
           "#ab63fa",
           "#FFA15A",
           "#19d3f3",
           "#FF6692",
           "#B6E880",
           "#FF97FF",
           "#FECB52"
          ],
          "font": {
           "color": "#2a3f5f"
          },
          "geo": {
           "bgcolor": "white",
           "lakecolor": "white",
           "landcolor": "#E5ECF6",
           "showlakes": true,
           "showland": true,
           "subunitcolor": "white"
          },
          "hoverlabel": {
           "align": "left"
          },
          "hovermode": "closest",
          "mapbox": {
           "style": "light"
          },
          "paper_bgcolor": "white",
          "plot_bgcolor": "#E5ECF6",
          "polar": {
           "angularaxis": {
            "gridcolor": "white",
            "linecolor": "white",
            "ticks": ""
           },
           "bgcolor": "#E5ECF6",
           "radialaxis": {
            "gridcolor": "white",
            "linecolor": "white",
            "ticks": ""
           }
          },
          "scene": {
           "xaxis": {
            "backgroundcolor": "#E5ECF6",
            "gridcolor": "white",
            "gridwidth": 2,
            "linecolor": "white",
            "showbackground": true,
            "ticks": "",
            "zerolinecolor": "white"
           },
           "yaxis": {
            "backgroundcolor": "#E5ECF6",
            "gridcolor": "white",
            "gridwidth": 2,
            "linecolor": "white",
            "showbackground": true,
            "ticks": "",
            "zerolinecolor": "white"
           },
           "zaxis": {
            "backgroundcolor": "#E5ECF6",
            "gridcolor": "white",
            "gridwidth": 2,
            "linecolor": "white",
            "showbackground": true,
            "ticks": "",
            "zerolinecolor": "white"
           }
          },
          "shapedefaults": {
           "line": {
            "color": "#2a3f5f"
           }
          },
          "ternary": {
           "aaxis": {
            "gridcolor": "white",
            "linecolor": "white",
            "ticks": ""
           },
           "baxis": {
            "gridcolor": "white",
            "linecolor": "white",
            "ticks": ""
           },
           "bgcolor": "#E5ECF6",
           "caxis": {
            "gridcolor": "white",
            "linecolor": "white",
            "ticks": ""
           }
          },
          "title": {
           "x": 0.05
          },
          "xaxis": {
           "automargin": true,
           "gridcolor": "white",
           "linecolor": "white",
           "ticks": "",
           "title": {
            "standoff": 15
           },
           "zerolinecolor": "white",
           "zerolinewidth": 2
          },
          "yaxis": {
           "automargin": true,
           "gridcolor": "white",
           "linecolor": "white",
           "ticks": "",
           "title": {
            "standoff": 15
           },
           "zerolinecolor": "white",
           "zerolinewidth": 2
          }
         }
        },
        "title": {
         "text": "Series: 20 a 29 anos"
        },
        "xaxis": {
         "title": {
          "text": "Time"
         }
        },
        "yaxis": {
         "title": {
          "text": "Value"
         }
        }
       }
      }
     },
     "metadata": {},
     "output_type": "display_data"
    },
    {
     "data": {
      "application/vnd.plotly.v1+json": {
       "config": {
        "plotlyServerURL": "https://plot.ly"
       },
       "data": [
        {
         "hovertemplate": "<b>%{x|%Y-%m-%d}</b><br>Real: %{y:.2f}<extra></extra>",
         "mode": "markers",
         "name": "Real",
         "type": "scatter",
         "x": [
          "2016-03-31T00:00:00",
          "2016-06-30T00:00:00",
          "2016-09-30T00:00:00",
          "2016-12-31T00:00:00",
          "2017-03-31T00:00:00",
          "2017-06-30T00:00:00",
          "2017-09-30T00:00:00",
          "2017-12-31T00:00:00",
          "2018-03-31T00:00:00",
          "2018-06-30T00:00:00",
          "2018-09-30T00:00:00",
          "2018-12-31T00:00:00",
          "2019-03-31T00:00:00",
          "2019-06-30T00:00:00",
          "2019-09-30T00:00:00",
          "2019-12-31T00:00:00",
          "2020-03-31T00:00:00",
          "2020-06-30T00:00:00",
          "2020-09-30T00:00:00",
          "2020-12-31T00:00:00",
          "2021-03-31T00:00:00",
          "2021-06-30T00:00:00",
          "2021-09-30T00:00:00",
          "2021-12-31T00:00:00",
          "2022-03-31T00:00:00",
          "2022-06-30T00:00:00"
         ],
         "y": [
          2149,
          2844,
          2034,
          1871,
          2716,
          3018,
          2902,
          2694,
          2789,
          3092,
          2926,
          2965,
          2749,
          3121,
          3081,
          2615,
          2466,
          2387,
          3100,
          3690,
          3546,
          3828,
          4182,
          3994,
          3233,
          3772
         ]
        },
        {
         "error_y": {
          "array": [
           12.029481944452964,
           12.029481944452964,
           12.029481944452964,
           12.029481944452964,
           12.029481944452964,
           12.029481944452964,
           12.029481944452964,
           12.029481944452964,
           12.029481944452964,
           12.029481944452964,
           12.029481944452964,
           12.029481944452964,
           12.029481944452964,
           12.029481944452964,
           12.029481944452964,
           12.029481944452964,
           12.029481944452964,
           12.029481944452964,
           12.029481944452964,
           12.029481944452964,
           12.029481944452964,
           12.029481944452964,
           12.029481944452964,
           12.029481944452964,
           12.029481944452964,
           12.029481944452964
          ],
          "thickness": 1.5,
          "type": "data",
          "visible": true,
          "width": 6
         },
         "hovertemplate": "<b>%{x|%Y-%m-%d}</b><br>Total: %{y:.2f}<extra></extra>",
         "mode": "lines+markers",
         "name": "Total",
         "type": "scatter",
         "x": [
          "2016-03-31T00:00:00",
          "2016-06-30T00:00:00",
          "2016-09-30T00:00:00",
          "2016-12-31T00:00:00",
          "2017-03-31T00:00:00",
          "2017-06-30T00:00:00",
          "2017-09-30T00:00:00",
          "2017-12-31T00:00:00",
          "2018-03-31T00:00:00",
          "2018-06-30T00:00:00",
          "2018-09-30T00:00:00",
          "2018-12-31T00:00:00",
          "2019-03-31T00:00:00",
          "2019-06-30T00:00:00",
          "2019-09-30T00:00:00",
          "2019-12-31T00:00:00",
          "2020-03-31T00:00:00",
          "2020-06-30T00:00:00",
          "2020-09-30T00:00:00",
          "2020-12-31T00:00:00",
          "2021-03-31T00:00:00",
          "2021-06-30T00:00:00",
          "2021-09-30T00:00:00",
          "2021-12-31T00:00:00",
          "2022-03-31T00:00:00",
          "2022-06-30T00:00:00"
         ],
         "y": [
          2434.7125355555827,
          2475.425145806036,
          2516.13775605649,
          2556.8503663069437,
          2597.5629765573976,
          2638.275586807851,
          2678.988197058305,
          2719.700807308759,
          2760.4134175592126,
          2801.1260278096665,
          2841.83863806012,
          2882.551248310574,
          2923.2638585610275,
          2963.9764688114815,
          3004.6890790619354,
          3045.401689312389,
          3086.114299562843,
          3126.826909813297,
          3167.5395200637504,
          3208.252130314204,
          3248.964740564658,
          3289.677350815112,
          3330.3899610655653,
          3371.1025713160193,
          3411.8151815664733,
          3452.5277918169268
         ]
        }
       ],
       "layout": {
        "legend": {
         "title": {
          "text": "Legend"
         }
        },
        "shapes": [
         {
          "fillcolor": "LightSalmon",
          "layer": "below",
          "line": {
           "width": 0
          },
          "opacity": 0.3,
          "type": "rect",
          "x0": "2020-03-31T00:00:00",
          "x1": "2020-12-31T00:00:00",
          "xref": "x",
          "y0": 0,
          "y1": 1,
          "yref": "paper"
         }
        ],
        "template": {
         "data": {
          "bar": [
           {
            "error_x": {
             "color": "#2a3f5f"
            },
            "error_y": {
             "color": "#2a3f5f"
            },
            "marker": {
             "line": {
              "color": "#E5ECF6",
              "width": 0.5
             },
             "pattern": {
              "fillmode": "overlay",
              "size": 10,
              "solidity": 0.2
             }
            },
            "type": "bar"
           }
          ],
          "barpolar": [
           {
            "marker": {
             "line": {
              "color": "#E5ECF6",
              "width": 0.5
             },
             "pattern": {
              "fillmode": "overlay",
              "size": 10,
              "solidity": 0.2
             }
            },
            "type": "barpolar"
           }
          ],
          "carpet": [
           {
            "aaxis": {
             "endlinecolor": "#2a3f5f",
             "gridcolor": "white",
             "linecolor": "white",
             "minorgridcolor": "white",
             "startlinecolor": "#2a3f5f"
            },
            "baxis": {
             "endlinecolor": "#2a3f5f",
             "gridcolor": "white",
             "linecolor": "white",
             "minorgridcolor": "white",
             "startlinecolor": "#2a3f5f"
            },
            "type": "carpet"
           }
          ],
          "choropleth": [
           {
            "colorbar": {
             "outlinewidth": 0,
             "ticks": ""
            },
            "type": "choropleth"
           }
          ],
          "contour": [
           {
            "colorbar": {
             "outlinewidth": 0,
             "ticks": ""
            },
            "colorscale": [
             [
              0,
              "#0d0887"
             ],
             [
              0.1111111111111111,
              "#46039f"
             ],
             [
              0.2222222222222222,
              "#7201a8"
             ],
             [
              0.3333333333333333,
              "#9c179e"
             ],
             [
              0.4444444444444444,
              "#bd3786"
             ],
             [
              0.5555555555555556,
              "#d8576b"
             ],
             [
              0.6666666666666666,
              "#ed7953"
             ],
             [
              0.7777777777777778,
              "#fb9f3a"
             ],
             [
              0.8888888888888888,
              "#fdca26"
             ],
             [
              1,
              "#f0f921"
             ]
            ],
            "type": "contour"
           }
          ],
          "contourcarpet": [
           {
            "colorbar": {
             "outlinewidth": 0,
             "ticks": ""
            },
            "type": "contourcarpet"
           }
          ],
          "heatmap": [
           {
            "colorbar": {
             "outlinewidth": 0,
             "ticks": ""
            },
            "colorscale": [
             [
              0,
              "#0d0887"
             ],
             [
              0.1111111111111111,
              "#46039f"
             ],
             [
              0.2222222222222222,
              "#7201a8"
             ],
             [
              0.3333333333333333,
              "#9c179e"
             ],
             [
              0.4444444444444444,
              "#bd3786"
             ],
             [
              0.5555555555555556,
              "#d8576b"
             ],
             [
              0.6666666666666666,
              "#ed7953"
             ],
             [
              0.7777777777777778,
              "#fb9f3a"
             ],
             [
              0.8888888888888888,
              "#fdca26"
             ],
             [
              1,
              "#f0f921"
             ]
            ],
            "type": "heatmap"
           }
          ],
          "heatmapgl": [
           {
            "colorbar": {
             "outlinewidth": 0,
             "ticks": ""
            },
            "colorscale": [
             [
              0,
              "#0d0887"
             ],
             [
              0.1111111111111111,
              "#46039f"
             ],
             [
              0.2222222222222222,
              "#7201a8"
             ],
             [
              0.3333333333333333,
              "#9c179e"
             ],
             [
              0.4444444444444444,
              "#bd3786"
             ],
             [
              0.5555555555555556,
              "#d8576b"
             ],
             [
              0.6666666666666666,
              "#ed7953"
             ],
             [
              0.7777777777777778,
              "#fb9f3a"
             ],
             [
              0.8888888888888888,
              "#fdca26"
             ],
             [
              1,
              "#f0f921"
             ]
            ],
            "type": "heatmapgl"
           }
          ],
          "histogram": [
           {
            "marker": {
             "pattern": {
              "fillmode": "overlay",
              "size": 10,
              "solidity": 0.2
             }
            },
            "type": "histogram"
           }
          ],
          "histogram2d": [
           {
            "colorbar": {
             "outlinewidth": 0,
             "ticks": ""
            },
            "colorscale": [
             [
              0,
              "#0d0887"
             ],
             [
              0.1111111111111111,
              "#46039f"
             ],
             [
              0.2222222222222222,
              "#7201a8"
             ],
             [
              0.3333333333333333,
              "#9c179e"
             ],
             [
              0.4444444444444444,
              "#bd3786"
             ],
             [
              0.5555555555555556,
              "#d8576b"
             ],
             [
              0.6666666666666666,
              "#ed7953"
             ],
             [
              0.7777777777777778,
              "#fb9f3a"
             ],
             [
              0.8888888888888888,
              "#fdca26"
             ],
             [
              1,
              "#f0f921"
             ]
            ],
            "type": "histogram2d"
           }
          ],
          "histogram2dcontour": [
           {
            "colorbar": {
             "outlinewidth": 0,
             "ticks": ""
            },
            "colorscale": [
             [
              0,
              "#0d0887"
             ],
             [
              0.1111111111111111,
              "#46039f"
             ],
             [
              0.2222222222222222,
              "#7201a8"
             ],
             [
              0.3333333333333333,
              "#9c179e"
             ],
             [
              0.4444444444444444,
              "#bd3786"
             ],
             [
              0.5555555555555556,
              "#d8576b"
             ],
             [
              0.6666666666666666,
              "#ed7953"
             ],
             [
              0.7777777777777778,
              "#fb9f3a"
             ],
             [
              0.8888888888888888,
              "#fdca26"
             ],
             [
              1,
              "#f0f921"
             ]
            ],
            "type": "histogram2dcontour"
           }
          ],
          "mesh3d": [
           {
            "colorbar": {
             "outlinewidth": 0,
             "ticks": ""
            },
            "type": "mesh3d"
           }
          ],
          "parcoords": [
           {
            "line": {
             "colorbar": {
              "outlinewidth": 0,
              "ticks": ""
             }
            },
            "type": "parcoords"
           }
          ],
          "pie": [
           {
            "automargin": true,
            "type": "pie"
           }
          ],
          "scatter": [
           {
            "fillpattern": {
             "fillmode": "overlay",
             "size": 10,
             "solidity": 0.2
            },
            "type": "scatter"
           }
          ],
          "scatter3d": [
           {
            "line": {
             "colorbar": {
              "outlinewidth": 0,
              "ticks": ""
             }
            },
            "marker": {
             "colorbar": {
              "outlinewidth": 0,
              "ticks": ""
             }
            },
            "type": "scatter3d"
           }
          ],
          "scattercarpet": [
           {
            "marker": {
             "colorbar": {
              "outlinewidth": 0,
              "ticks": ""
             }
            },
            "type": "scattercarpet"
           }
          ],
          "scattergeo": [
           {
            "marker": {
             "colorbar": {
              "outlinewidth": 0,
              "ticks": ""
             }
            },
            "type": "scattergeo"
           }
          ],
          "scattergl": [
           {
            "marker": {
             "colorbar": {
              "outlinewidth": 0,
              "ticks": ""
             }
            },
            "type": "scattergl"
           }
          ],
          "scattermapbox": [
           {
            "marker": {
             "colorbar": {
              "outlinewidth": 0,
              "ticks": ""
             }
            },
            "type": "scattermapbox"
           }
          ],
          "scatterpolar": [
           {
            "marker": {
             "colorbar": {
              "outlinewidth": 0,
              "ticks": ""
             }
            },
            "type": "scatterpolar"
           }
          ],
          "scatterpolargl": [
           {
            "marker": {
             "colorbar": {
              "outlinewidth": 0,
              "ticks": ""
             }
            },
            "type": "scatterpolargl"
           }
          ],
          "scatterternary": [
           {
            "marker": {
             "colorbar": {
              "outlinewidth": 0,
              "ticks": ""
             }
            },
            "type": "scatterternary"
           }
          ],
          "surface": [
           {
            "colorbar": {
             "outlinewidth": 0,
             "ticks": ""
            },
            "colorscale": [
             [
              0,
              "#0d0887"
             ],
             [
              0.1111111111111111,
              "#46039f"
             ],
             [
              0.2222222222222222,
              "#7201a8"
             ],
             [
              0.3333333333333333,
              "#9c179e"
             ],
             [
              0.4444444444444444,
              "#bd3786"
             ],
             [
              0.5555555555555556,
              "#d8576b"
             ],
             [
              0.6666666666666666,
              "#ed7953"
             ],
             [
              0.7777777777777778,
              "#fb9f3a"
             ],
             [
              0.8888888888888888,
              "#fdca26"
             ],
             [
              1,
              "#f0f921"
             ]
            ],
            "type": "surface"
           }
          ],
          "table": [
           {
            "cells": {
             "fill": {
              "color": "#EBF0F8"
             },
             "line": {
              "color": "white"
             }
            },
            "header": {
             "fill": {
              "color": "#C8D4E3"
             },
             "line": {
              "color": "white"
             }
            },
            "type": "table"
           }
          ]
         },
         "layout": {
          "annotationdefaults": {
           "arrowcolor": "#2a3f5f",
           "arrowhead": 0,
           "arrowwidth": 1
          },
          "autotypenumbers": "strict",
          "coloraxis": {
           "colorbar": {
            "outlinewidth": 0,
            "ticks": ""
           }
          },
          "colorscale": {
           "diverging": [
            [
             0,
             "#8e0152"
            ],
            [
             0.1,
             "#c51b7d"
            ],
            [
             0.2,
             "#de77ae"
            ],
            [
             0.3,
             "#f1b6da"
            ],
            [
             0.4,
             "#fde0ef"
            ],
            [
             0.5,
             "#f7f7f7"
            ],
            [
             0.6,
             "#e6f5d0"
            ],
            [
             0.7,
             "#b8e186"
            ],
            [
             0.8,
             "#7fbc41"
            ],
            [
             0.9,
             "#4d9221"
            ],
            [
             1,
             "#276419"
            ]
           ],
           "sequential": [
            [
             0,
             "#0d0887"
            ],
            [
             0.1111111111111111,
             "#46039f"
            ],
            [
             0.2222222222222222,
             "#7201a8"
            ],
            [
             0.3333333333333333,
             "#9c179e"
            ],
            [
             0.4444444444444444,
             "#bd3786"
            ],
            [
             0.5555555555555556,
             "#d8576b"
            ],
            [
             0.6666666666666666,
             "#ed7953"
            ],
            [
             0.7777777777777778,
             "#fb9f3a"
            ],
            [
             0.8888888888888888,
             "#fdca26"
            ],
            [
             1,
             "#f0f921"
            ]
           ],
           "sequentialminus": [
            [
             0,
             "#0d0887"
            ],
            [
             0.1111111111111111,
             "#46039f"
            ],
            [
             0.2222222222222222,
             "#7201a8"
            ],
            [
             0.3333333333333333,
             "#9c179e"
            ],
            [
             0.4444444444444444,
             "#bd3786"
            ],
            [
             0.5555555555555556,
             "#d8576b"
            ],
            [
             0.6666666666666666,
             "#ed7953"
            ],
            [
             0.7777777777777778,
             "#fb9f3a"
            ],
            [
             0.8888888888888888,
             "#fdca26"
            ],
            [
             1,
             "#f0f921"
            ]
           ]
          },
          "colorway": [
           "#636efa",
           "#EF553B",
           "#00cc96",
           "#ab63fa",
           "#FFA15A",
           "#19d3f3",
           "#FF6692",
           "#B6E880",
           "#FF97FF",
           "#FECB52"
          ],
          "font": {
           "color": "#2a3f5f"
          },
          "geo": {
           "bgcolor": "white",
           "lakecolor": "white",
           "landcolor": "#E5ECF6",
           "showlakes": true,
           "showland": true,
           "subunitcolor": "white"
          },
          "hoverlabel": {
           "align": "left"
          },
          "hovermode": "closest",
          "mapbox": {
           "style": "light"
          },
          "paper_bgcolor": "white",
          "plot_bgcolor": "#E5ECF6",
          "polar": {
           "angularaxis": {
            "gridcolor": "white",
            "linecolor": "white",
            "ticks": ""
           },
           "bgcolor": "#E5ECF6",
           "radialaxis": {
            "gridcolor": "white",
            "linecolor": "white",
            "ticks": ""
           }
          },
          "scene": {
           "xaxis": {
            "backgroundcolor": "#E5ECF6",
            "gridcolor": "white",
            "gridwidth": 2,
            "linecolor": "white",
            "showbackground": true,
            "ticks": "",
            "zerolinecolor": "white"
           },
           "yaxis": {
            "backgroundcolor": "#E5ECF6",
            "gridcolor": "white",
            "gridwidth": 2,
            "linecolor": "white",
            "showbackground": true,
            "ticks": "",
            "zerolinecolor": "white"
           },
           "zaxis": {
            "backgroundcolor": "#E5ECF6",
            "gridcolor": "white",
            "gridwidth": 2,
            "linecolor": "white",
            "showbackground": true,
            "ticks": "",
            "zerolinecolor": "white"
           }
          },
          "shapedefaults": {
           "line": {
            "color": "#2a3f5f"
           }
          },
          "ternary": {
           "aaxis": {
            "gridcolor": "white",
            "linecolor": "white",
            "ticks": ""
           },
           "baxis": {
            "gridcolor": "white",
            "linecolor": "white",
            "ticks": ""
           },
           "bgcolor": "#E5ECF6",
           "caxis": {
            "gridcolor": "white",
            "linecolor": "white",
            "ticks": ""
           }
          },
          "title": {
           "x": 0.05
          },
          "xaxis": {
           "automargin": true,
           "gridcolor": "white",
           "linecolor": "white",
           "ticks": "",
           "title": {
            "standoff": 15
           },
           "zerolinecolor": "white",
           "zerolinewidth": 2
          },
          "yaxis": {
           "automargin": true,
           "gridcolor": "white",
           "linecolor": "white",
           "ticks": "",
           "title": {
            "standoff": 15
           },
           "zerolinecolor": "white",
           "zerolinewidth": 2
          }
         }
        },
        "title": {
         "text": "Series: 30 a 39 anos"
        },
        "xaxis": {
         "title": {
          "text": "Time"
         }
        },
        "yaxis": {
         "title": {
          "text": "Value"
         }
        }
       }
      }
     },
     "metadata": {},
     "output_type": "display_data"
    },
    {
     "data": {
      "application/vnd.plotly.v1+json": {
       "config": {
        "plotlyServerURL": "https://plot.ly"
       },
       "data": [
        {
         "hovertemplate": "<b>%{x|%Y-%m-%d}</b><br>Real: %{y:.2f}<extra></extra>",
         "mode": "markers",
         "name": "Real",
         "type": "scatter",
         "x": [
          "2016-03-31T00:00:00",
          "2016-06-30T00:00:00",
          "2016-09-30T00:00:00",
          "2016-12-31T00:00:00",
          "2017-03-31T00:00:00",
          "2017-06-30T00:00:00",
          "2017-09-30T00:00:00",
          "2017-12-31T00:00:00",
          "2018-03-31T00:00:00",
          "2018-06-30T00:00:00",
          "2018-09-30T00:00:00",
          "2018-12-31T00:00:00",
          "2019-03-31T00:00:00",
          "2019-06-30T00:00:00",
          "2019-09-30T00:00:00",
          "2019-12-31T00:00:00",
          "2020-03-31T00:00:00",
          "2020-06-30T00:00:00",
          "2020-09-30T00:00:00",
          "2020-12-31T00:00:00",
          "2021-03-31T00:00:00",
          "2021-06-30T00:00:00",
          "2021-09-30T00:00:00",
          "2021-12-31T00:00:00",
          "2022-03-31T00:00:00",
          "2022-06-30T00:00:00"
         ],
         "y": [
          2635,
          3449,
          2537,
          2388,
          3406,
          3593,
          3519,
          3187,
          3206,
          3668,
          3403,
          3564,
          3262,
          3535,
          3542,
          3024,
          2750,
          2758,
          3295,
          3761,
          3375,
          4086,
          4256,
          4114,
          3300,
          3819
         ]
        },
        {
         "error_y": {
          "array": [
           12.768769992718504,
           12.768769992718504,
           12.768769992718504,
           12.768769992718504,
           12.768769992718504,
           12.768769992718504,
           12.768769992718504,
           12.768769992718504,
           12.768769992718504,
           12.768769992718504,
           12.768769992718504,
           12.768769992718504,
           12.768769992718504,
           12.768769992718504,
           12.768769992718504,
           12.768769992718504,
           12.768769992718504,
           12.768769992718504,
           12.768769992718504,
           12.768769992718504,
           12.768769992718504,
           12.768769992718504,
           12.768769992718504,
           12.768769992718504,
           12.768769992718504,
           12.768769992718504
          ],
          "thickness": 1.5,
          "type": "data",
          "visible": true,
          "width": 6
         },
         "hovertemplate": "<b>%{x|%Y-%m-%d}</b><br>Total: %{y:.2f}<extra></extra>",
         "mode": "lines+markers",
         "name": "Total",
         "type": "scatter",
         "x": [
          "2016-03-31T00:00:00",
          "2016-06-30T00:00:00",
          "2016-09-30T00:00:00",
          "2016-12-31T00:00:00",
          "2017-03-31T00:00:00",
          "2017-06-30T00:00:00",
          "2017-09-30T00:00:00",
          "2017-12-31T00:00:00",
          "2018-03-31T00:00:00",
          "2018-06-30T00:00:00",
          "2018-09-30T00:00:00",
          "2018-12-31T00:00:00",
          "2019-03-31T00:00:00",
          "2019-06-30T00:00:00",
          "2019-09-30T00:00:00",
          "2019-12-31T00:00:00",
          "2020-03-31T00:00:00",
          "2020-06-30T00:00:00",
          "2020-09-30T00:00:00",
          "2020-12-31T00:00:00",
          "2021-03-31T00:00:00",
          "2021-06-30T00:00:00",
          "2021-09-30T00:00:00",
          "2021-12-31T00:00:00",
          "2022-03-31T00:00:00",
          "2022-06-30T00:00:00"
         ],
         "y": [
          3031.385916591085,
          3063.1528146704027,
          3094.919712749721,
          3126.686610829039,
          3158.453508908357,
          3190.2204069876752,
          3221.9873050669935,
          3253.7542031463117,
          3285.5211012256295,
          3317.287999304948,
          3349.054897384266,
          3380.821795463584,
          3412.588693542902,
          3444.3555916222203,
          3476.122489701538,
          3507.8893877808564,
          3539.6562858601746,
          3571.4231839394924,
          3603.1900820188107,
          3634.956980098129,
          3666.7238781774467,
          3698.490776256765,
          3730.2576743360833,
          3762.024572415401,
          3793.7914704947193,
          3825.5583685740376
         ]
        }
       ],
       "layout": {
        "legend": {
         "title": {
          "text": "Legend"
         }
        },
        "shapes": [
         {
          "fillcolor": "LightSalmon",
          "layer": "below",
          "line": {
           "width": 0
          },
          "opacity": 0.3,
          "type": "rect",
          "x0": "2020-03-31T00:00:00",
          "x1": "2020-12-31T00:00:00",
          "xref": "x",
          "y0": 0,
          "y1": 1,
          "yref": "paper"
         }
        ],
        "template": {
         "data": {
          "bar": [
           {
            "error_x": {
             "color": "#2a3f5f"
            },
            "error_y": {
             "color": "#2a3f5f"
            },
            "marker": {
             "line": {
              "color": "#E5ECF6",
              "width": 0.5
             },
             "pattern": {
              "fillmode": "overlay",
              "size": 10,
              "solidity": 0.2
             }
            },
            "type": "bar"
           }
          ],
          "barpolar": [
           {
            "marker": {
             "line": {
              "color": "#E5ECF6",
              "width": 0.5
             },
             "pattern": {
              "fillmode": "overlay",
              "size": 10,
              "solidity": 0.2
             }
            },
            "type": "barpolar"
           }
          ],
          "carpet": [
           {
            "aaxis": {
             "endlinecolor": "#2a3f5f",
             "gridcolor": "white",
             "linecolor": "white",
             "minorgridcolor": "white",
             "startlinecolor": "#2a3f5f"
            },
            "baxis": {
             "endlinecolor": "#2a3f5f",
             "gridcolor": "white",
             "linecolor": "white",
             "minorgridcolor": "white",
             "startlinecolor": "#2a3f5f"
            },
            "type": "carpet"
           }
          ],
          "choropleth": [
           {
            "colorbar": {
             "outlinewidth": 0,
             "ticks": ""
            },
            "type": "choropleth"
           }
          ],
          "contour": [
           {
            "colorbar": {
             "outlinewidth": 0,
             "ticks": ""
            },
            "colorscale": [
             [
              0,
              "#0d0887"
             ],
             [
              0.1111111111111111,
              "#46039f"
             ],
             [
              0.2222222222222222,
              "#7201a8"
             ],
             [
              0.3333333333333333,
              "#9c179e"
             ],
             [
              0.4444444444444444,
              "#bd3786"
             ],
             [
              0.5555555555555556,
              "#d8576b"
             ],
             [
              0.6666666666666666,
              "#ed7953"
             ],
             [
              0.7777777777777778,
              "#fb9f3a"
             ],
             [
              0.8888888888888888,
              "#fdca26"
             ],
             [
              1,
              "#f0f921"
             ]
            ],
            "type": "contour"
           }
          ],
          "contourcarpet": [
           {
            "colorbar": {
             "outlinewidth": 0,
             "ticks": ""
            },
            "type": "contourcarpet"
           }
          ],
          "heatmap": [
           {
            "colorbar": {
             "outlinewidth": 0,
             "ticks": ""
            },
            "colorscale": [
             [
              0,
              "#0d0887"
             ],
             [
              0.1111111111111111,
              "#46039f"
             ],
             [
              0.2222222222222222,
              "#7201a8"
             ],
             [
              0.3333333333333333,
              "#9c179e"
             ],
             [
              0.4444444444444444,
              "#bd3786"
             ],
             [
              0.5555555555555556,
              "#d8576b"
             ],
             [
              0.6666666666666666,
              "#ed7953"
             ],
             [
              0.7777777777777778,
              "#fb9f3a"
             ],
             [
              0.8888888888888888,
              "#fdca26"
             ],
             [
              1,
              "#f0f921"
             ]
            ],
            "type": "heatmap"
           }
          ],
          "heatmapgl": [
           {
            "colorbar": {
             "outlinewidth": 0,
             "ticks": ""
            },
            "colorscale": [
             [
              0,
              "#0d0887"
             ],
             [
              0.1111111111111111,
              "#46039f"
             ],
             [
              0.2222222222222222,
              "#7201a8"
             ],
             [
              0.3333333333333333,
              "#9c179e"
             ],
             [
              0.4444444444444444,
              "#bd3786"
             ],
             [
              0.5555555555555556,
              "#d8576b"
             ],
             [
              0.6666666666666666,
              "#ed7953"
             ],
             [
              0.7777777777777778,
              "#fb9f3a"
             ],
             [
              0.8888888888888888,
              "#fdca26"
             ],
             [
              1,
              "#f0f921"
             ]
            ],
            "type": "heatmapgl"
           }
          ],
          "histogram": [
           {
            "marker": {
             "pattern": {
              "fillmode": "overlay",
              "size": 10,
              "solidity": 0.2
             }
            },
            "type": "histogram"
           }
          ],
          "histogram2d": [
           {
            "colorbar": {
             "outlinewidth": 0,
             "ticks": ""
            },
            "colorscale": [
             [
              0,
              "#0d0887"
             ],
             [
              0.1111111111111111,
              "#46039f"
             ],
             [
              0.2222222222222222,
              "#7201a8"
             ],
             [
              0.3333333333333333,
              "#9c179e"
             ],
             [
              0.4444444444444444,
              "#bd3786"
             ],
             [
              0.5555555555555556,
              "#d8576b"
             ],
             [
              0.6666666666666666,
              "#ed7953"
             ],
             [
              0.7777777777777778,
              "#fb9f3a"
             ],
             [
              0.8888888888888888,
              "#fdca26"
             ],
             [
              1,
              "#f0f921"
             ]
            ],
            "type": "histogram2d"
           }
          ],
          "histogram2dcontour": [
           {
            "colorbar": {
             "outlinewidth": 0,
             "ticks": ""
            },
            "colorscale": [
             [
              0,
              "#0d0887"
             ],
             [
              0.1111111111111111,
              "#46039f"
             ],
             [
              0.2222222222222222,
              "#7201a8"
             ],
             [
              0.3333333333333333,
              "#9c179e"
             ],
             [
              0.4444444444444444,
              "#bd3786"
             ],
             [
              0.5555555555555556,
              "#d8576b"
             ],
             [
              0.6666666666666666,
              "#ed7953"
             ],
             [
              0.7777777777777778,
              "#fb9f3a"
             ],
             [
              0.8888888888888888,
              "#fdca26"
             ],
             [
              1,
              "#f0f921"
             ]
            ],
            "type": "histogram2dcontour"
           }
          ],
          "mesh3d": [
           {
            "colorbar": {
             "outlinewidth": 0,
             "ticks": ""
            },
            "type": "mesh3d"
           }
          ],
          "parcoords": [
           {
            "line": {
             "colorbar": {
              "outlinewidth": 0,
              "ticks": ""
             }
            },
            "type": "parcoords"
           }
          ],
          "pie": [
           {
            "automargin": true,
            "type": "pie"
           }
          ],
          "scatter": [
           {
            "fillpattern": {
             "fillmode": "overlay",
             "size": 10,
             "solidity": 0.2
            },
            "type": "scatter"
           }
          ],
          "scatter3d": [
           {
            "line": {
             "colorbar": {
              "outlinewidth": 0,
              "ticks": ""
             }
            },
            "marker": {
             "colorbar": {
              "outlinewidth": 0,
              "ticks": ""
             }
            },
            "type": "scatter3d"
           }
          ],
          "scattercarpet": [
           {
            "marker": {
             "colorbar": {
              "outlinewidth": 0,
              "ticks": ""
             }
            },
            "type": "scattercarpet"
           }
          ],
          "scattergeo": [
           {
            "marker": {
             "colorbar": {
              "outlinewidth": 0,
              "ticks": ""
             }
            },
            "type": "scattergeo"
           }
          ],
          "scattergl": [
           {
            "marker": {
             "colorbar": {
              "outlinewidth": 0,
              "ticks": ""
             }
            },
            "type": "scattergl"
           }
          ],
          "scattermapbox": [
           {
            "marker": {
             "colorbar": {
              "outlinewidth": 0,
              "ticks": ""
             }
            },
            "type": "scattermapbox"
           }
          ],
          "scatterpolar": [
           {
            "marker": {
             "colorbar": {
              "outlinewidth": 0,
              "ticks": ""
             }
            },
            "type": "scatterpolar"
           }
          ],
          "scatterpolargl": [
           {
            "marker": {
             "colorbar": {
              "outlinewidth": 0,
              "ticks": ""
             }
            },
            "type": "scatterpolargl"
           }
          ],
          "scatterternary": [
           {
            "marker": {
             "colorbar": {
              "outlinewidth": 0,
              "ticks": ""
             }
            },
            "type": "scatterternary"
           }
          ],
          "surface": [
           {
            "colorbar": {
             "outlinewidth": 0,
             "ticks": ""
            },
            "colorscale": [
             [
              0,
              "#0d0887"
             ],
             [
              0.1111111111111111,
              "#46039f"
             ],
             [
              0.2222222222222222,
              "#7201a8"
             ],
             [
              0.3333333333333333,
              "#9c179e"
             ],
             [
              0.4444444444444444,
              "#bd3786"
             ],
             [
              0.5555555555555556,
              "#d8576b"
             ],
             [
              0.6666666666666666,
              "#ed7953"
             ],
             [
              0.7777777777777778,
              "#fb9f3a"
             ],
             [
              0.8888888888888888,
              "#fdca26"
             ],
             [
              1,
              "#f0f921"
             ]
            ],
            "type": "surface"
           }
          ],
          "table": [
           {
            "cells": {
             "fill": {
              "color": "#EBF0F8"
             },
             "line": {
              "color": "white"
             }
            },
            "header": {
             "fill": {
              "color": "#C8D4E3"
             },
             "line": {
              "color": "white"
             }
            },
            "type": "table"
           }
          ]
         },
         "layout": {
          "annotationdefaults": {
           "arrowcolor": "#2a3f5f",
           "arrowhead": 0,
           "arrowwidth": 1
          },
          "autotypenumbers": "strict",
          "coloraxis": {
           "colorbar": {
            "outlinewidth": 0,
            "ticks": ""
           }
          },
          "colorscale": {
           "diverging": [
            [
             0,
             "#8e0152"
            ],
            [
             0.1,
             "#c51b7d"
            ],
            [
             0.2,
             "#de77ae"
            ],
            [
             0.3,
             "#f1b6da"
            ],
            [
             0.4,
             "#fde0ef"
            ],
            [
             0.5,
             "#f7f7f7"
            ],
            [
             0.6,
             "#e6f5d0"
            ],
            [
             0.7,
             "#b8e186"
            ],
            [
             0.8,
             "#7fbc41"
            ],
            [
             0.9,
             "#4d9221"
            ],
            [
             1,
             "#276419"
            ]
           ],
           "sequential": [
            [
             0,
             "#0d0887"
            ],
            [
             0.1111111111111111,
             "#46039f"
            ],
            [
             0.2222222222222222,
             "#7201a8"
            ],
            [
             0.3333333333333333,
             "#9c179e"
            ],
            [
             0.4444444444444444,
             "#bd3786"
            ],
            [
             0.5555555555555556,
             "#d8576b"
            ],
            [
             0.6666666666666666,
             "#ed7953"
            ],
            [
             0.7777777777777778,
             "#fb9f3a"
            ],
            [
             0.8888888888888888,
             "#fdca26"
            ],
            [
             1,
             "#f0f921"
            ]
           ],
           "sequentialminus": [
            [
             0,
             "#0d0887"
            ],
            [
             0.1111111111111111,
             "#46039f"
            ],
            [
             0.2222222222222222,
             "#7201a8"
            ],
            [
             0.3333333333333333,
             "#9c179e"
            ],
            [
             0.4444444444444444,
             "#bd3786"
            ],
            [
             0.5555555555555556,
             "#d8576b"
            ],
            [
             0.6666666666666666,
             "#ed7953"
            ],
            [
             0.7777777777777778,
             "#fb9f3a"
            ],
            [
             0.8888888888888888,
             "#fdca26"
            ],
            [
             1,
             "#f0f921"
            ]
           ]
          },
          "colorway": [
           "#636efa",
           "#EF553B",
           "#00cc96",
           "#ab63fa",
           "#FFA15A",
           "#19d3f3",
           "#FF6692",
           "#B6E880",
           "#FF97FF",
           "#FECB52"
          ],
          "font": {
           "color": "#2a3f5f"
          },
          "geo": {
           "bgcolor": "white",
           "lakecolor": "white",
           "landcolor": "#E5ECF6",
           "showlakes": true,
           "showland": true,
           "subunitcolor": "white"
          },
          "hoverlabel": {
           "align": "left"
          },
          "hovermode": "closest",
          "mapbox": {
           "style": "light"
          },
          "paper_bgcolor": "white",
          "plot_bgcolor": "#E5ECF6",
          "polar": {
           "angularaxis": {
            "gridcolor": "white",
            "linecolor": "white",
            "ticks": ""
           },
           "bgcolor": "#E5ECF6",
           "radialaxis": {
            "gridcolor": "white",
            "linecolor": "white",
            "ticks": ""
           }
          },
          "scene": {
           "xaxis": {
            "backgroundcolor": "#E5ECF6",
            "gridcolor": "white",
            "gridwidth": 2,
            "linecolor": "white",
            "showbackground": true,
            "ticks": "",
            "zerolinecolor": "white"
           },
           "yaxis": {
            "backgroundcolor": "#E5ECF6",
            "gridcolor": "white",
            "gridwidth": 2,
            "linecolor": "white",
            "showbackground": true,
            "ticks": "",
            "zerolinecolor": "white"
           },
           "zaxis": {
            "backgroundcolor": "#E5ECF6",
            "gridcolor": "white",
            "gridwidth": 2,
            "linecolor": "white",
            "showbackground": true,
            "ticks": "",
            "zerolinecolor": "white"
           }
          },
          "shapedefaults": {
           "line": {
            "color": "#2a3f5f"
           }
          },
          "ternary": {
           "aaxis": {
            "gridcolor": "white",
            "linecolor": "white",
            "ticks": ""
           },
           "baxis": {
            "gridcolor": "white",
            "linecolor": "white",
            "ticks": ""
           },
           "bgcolor": "#E5ECF6",
           "caxis": {
            "gridcolor": "white",
            "linecolor": "white",
            "ticks": ""
           }
          },
          "title": {
           "x": 0.05
          },
          "xaxis": {
           "automargin": true,
           "gridcolor": "white",
           "linecolor": "white",
           "ticks": "",
           "title": {
            "standoff": 15
           },
           "zerolinecolor": "white",
           "zerolinewidth": 2
          },
          "yaxis": {
           "automargin": true,
           "gridcolor": "white",
           "linecolor": "white",
           "ticks": "",
           "title": {
            "standoff": 15
           },
           "zerolinecolor": "white",
           "zerolinewidth": 2
          }
         }
        },
        "title": {
         "text": "Series: 40 a 49 anos"
        },
        "xaxis": {
         "title": {
          "text": "Time"
         }
        },
        "yaxis": {
         "title": {
          "text": "Value"
         }
        }
       }
      }
     },
     "metadata": {},
     "output_type": "display_data"
    },
    {
     "data": {
      "application/vnd.plotly.v1+json": {
       "config": {
        "plotlyServerURL": "https://plot.ly"
       },
       "data": [
        {
         "hovertemplate": "<b>%{x|%Y-%m-%d}</b><br>Real: %{y:.2f}<extra></extra>",
         "mode": "markers",
         "name": "Real",
         "type": "scatter",
         "x": [
          "2016-03-31T00:00:00",
          "2016-06-30T00:00:00",
          "2016-09-30T00:00:00",
          "2016-12-31T00:00:00",
          "2017-03-31T00:00:00",
          "2017-06-30T00:00:00",
          "2017-09-30T00:00:00",
          "2017-12-31T00:00:00",
          "2018-03-31T00:00:00",
          "2018-06-30T00:00:00",
          "2018-09-30T00:00:00",
          "2018-12-31T00:00:00",
          "2019-03-31T00:00:00",
          "2019-06-30T00:00:00",
          "2019-09-30T00:00:00",
          "2019-12-31T00:00:00",
          "2020-03-31T00:00:00",
          "2020-06-30T00:00:00",
          "2020-09-30T00:00:00",
          "2020-12-31T00:00:00",
          "2021-03-31T00:00:00",
          "2021-06-30T00:00:00",
          "2021-09-30T00:00:00",
          "2021-12-31T00:00:00",
          "2022-03-31T00:00:00",
          "2022-06-30T00:00:00"
         ],
         "y": [
          3258,
          4055,
          3065,
          2904,
          4088,
          4236,
          4221,
          3970,
          3765,
          4235,
          4076,
          4189,
          3809,
          3989,
          3920,
          3387,
          2938,
          2697,
          3177,
          3676,
          3186,
          3888,
          4151,
          3819,
          2985,
          3513
         ]
        },
        {
         "error_y": {
          "array": [
           19.353747328067254,
           19.353747328067254,
           19.353747328067254,
           19.353747328067254,
           19.353747328067254,
           19.353747328067254,
           19.353747328067254,
           19.353747328067254,
           19.353747328067254,
           19.353747328067254,
           19.353747328067254,
           19.353747328067254,
           19.353747328067254,
           19.353747328067254,
           19.353747328067254,
           19.353747328067254,
           19.353747328067254,
           19.353747328067254,
           19.353747328067254,
           19.353747328067254,
           19.353747328067254,
           19.353747328067254,
           19.353747328067254,
           19.353747328067254,
           19.353747328067254,
           19.353747328067254
          ],
          "thickness": 1.5,
          "type": "data",
          "visible": true,
          "width": 6
         },
         "hovertemplate": "<b>%{x|%Y-%m-%d}</b><br>Total: %{y:.2f}<extra></extra>",
         "mode": "lines+markers",
         "name": "Total",
         "type": "scatter",
         "x": [
          "2016-03-31T00:00:00",
          "2016-06-30T00:00:00",
          "2016-09-30T00:00:00",
          "2016-12-31T00:00:00",
          "2017-03-31T00:00:00",
          "2017-06-30T00:00:00",
          "2017-09-30T00:00:00",
          "2017-12-31T00:00:00",
          "2018-03-31T00:00:00",
          "2018-06-30T00:00:00",
          "2018-09-30T00:00:00",
          "2018-12-31T00:00:00",
          "2019-03-31T00:00:00",
          "2019-06-30T00:00:00",
          "2019-09-30T00:00:00",
          "2019-12-31T00:00:00",
          "2020-03-31T00:00:00",
          "2020-06-30T00:00:00",
          "2020-09-30T00:00:00",
          "2020-12-31T00:00:00",
          "2021-03-31T00:00:00",
          "2021-06-30T00:00:00",
          "2021-09-30T00:00:00",
          "2021-12-31T00:00:00",
          "2022-03-31T00:00:00",
          "2022-06-30T00:00:00"
         ],
         "y": [
          3767.815903878933,
          3779.1724450149363,
          3790.528986150939,
          3801.8855272869423,
          3813.242068422945,
          3824.5986095589483,
          3835.955150694951,
          3847.3116918309543,
          3858.668232966957,
          3870.0247741029602,
          3881.381315238963,
          3892.737856374966,
          3904.094397510969,
          3915.450938646972,
          3926.807479782975,
          3938.164020918978,
          3949.520562054981,
          3960.877103190984,
          3972.233644326987,
          3983.59018546299,
          3994.946726598993,
          4006.303267734996,
          4017.659808870999,
          4029.016350007002,
          4040.372891143005,
          4051.729432279008
         ]
        }
       ],
       "layout": {
        "legend": {
         "title": {
          "text": "Legend"
         }
        },
        "shapes": [
         {
          "fillcolor": "LightSalmon",
          "layer": "below",
          "line": {
           "width": 0
          },
          "opacity": 0.3,
          "type": "rect",
          "x0": "2020-03-31T00:00:00",
          "x1": "2020-12-31T00:00:00",
          "xref": "x",
          "y0": 0,
          "y1": 1,
          "yref": "paper"
         }
        ],
        "template": {
         "data": {
          "bar": [
           {
            "error_x": {
             "color": "#2a3f5f"
            },
            "error_y": {
             "color": "#2a3f5f"
            },
            "marker": {
             "line": {
              "color": "#E5ECF6",
              "width": 0.5
             },
             "pattern": {
              "fillmode": "overlay",
              "size": 10,
              "solidity": 0.2
             }
            },
            "type": "bar"
           }
          ],
          "barpolar": [
           {
            "marker": {
             "line": {
              "color": "#E5ECF6",
              "width": 0.5
             },
             "pattern": {
              "fillmode": "overlay",
              "size": 10,
              "solidity": 0.2
             }
            },
            "type": "barpolar"
           }
          ],
          "carpet": [
           {
            "aaxis": {
             "endlinecolor": "#2a3f5f",
             "gridcolor": "white",
             "linecolor": "white",
             "minorgridcolor": "white",
             "startlinecolor": "#2a3f5f"
            },
            "baxis": {
             "endlinecolor": "#2a3f5f",
             "gridcolor": "white",
             "linecolor": "white",
             "minorgridcolor": "white",
             "startlinecolor": "#2a3f5f"
            },
            "type": "carpet"
           }
          ],
          "choropleth": [
           {
            "colorbar": {
             "outlinewidth": 0,
             "ticks": ""
            },
            "type": "choropleth"
           }
          ],
          "contour": [
           {
            "colorbar": {
             "outlinewidth": 0,
             "ticks": ""
            },
            "colorscale": [
             [
              0,
              "#0d0887"
             ],
             [
              0.1111111111111111,
              "#46039f"
             ],
             [
              0.2222222222222222,
              "#7201a8"
             ],
             [
              0.3333333333333333,
              "#9c179e"
             ],
             [
              0.4444444444444444,
              "#bd3786"
             ],
             [
              0.5555555555555556,
              "#d8576b"
             ],
             [
              0.6666666666666666,
              "#ed7953"
             ],
             [
              0.7777777777777778,
              "#fb9f3a"
             ],
             [
              0.8888888888888888,
              "#fdca26"
             ],
             [
              1,
              "#f0f921"
             ]
            ],
            "type": "contour"
           }
          ],
          "contourcarpet": [
           {
            "colorbar": {
             "outlinewidth": 0,
             "ticks": ""
            },
            "type": "contourcarpet"
           }
          ],
          "heatmap": [
           {
            "colorbar": {
             "outlinewidth": 0,
             "ticks": ""
            },
            "colorscale": [
             [
              0,
              "#0d0887"
             ],
             [
              0.1111111111111111,
              "#46039f"
             ],
             [
              0.2222222222222222,
              "#7201a8"
             ],
             [
              0.3333333333333333,
              "#9c179e"
             ],
             [
              0.4444444444444444,
              "#bd3786"
             ],
             [
              0.5555555555555556,
              "#d8576b"
             ],
             [
              0.6666666666666666,
              "#ed7953"
             ],
             [
              0.7777777777777778,
              "#fb9f3a"
             ],
             [
              0.8888888888888888,
              "#fdca26"
             ],
             [
              1,
              "#f0f921"
             ]
            ],
            "type": "heatmap"
           }
          ],
          "heatmapgl": [
           {
            "colorbar": {
             "outlinewidth": 0,
             "ticks": ""
            },
            "colorscale": [
             [
              0,
              "#0d0887"
             ],
             [
              0.1111111111111111,
              "#46039f"
             ],
             [
              0.2222222222222222,
              "#7201a8"
             ],
             [
              0.3333333333333333,
              "#9c179e"
             ],
             [
              0.4444444444444444,
              "#bd3786"
             ],
             [
              0.5555555555555556,
              "#d8576b"
             ],
             [
              0.6666666666666666,
              "#ed7953"
             ],
             [
              0.7777777777777778,
              "#fb9f3a"
             ],
             [
              0.8888888888888888,
              "#fdca26"
             ],
             [
              1,
              "#f0f921"
             ]
            ],
            "type": "heatmapgl"
           }
          ],
          "histogram": [
           {
            "marker": {
             "pattern": {
              "fillmode": "overlay",
              "size": 10,
              "solidity": 0.2
             }
            },
            "type": "histogram"
           }
          ],
          "histogram2d": [
           {
            "colorbar": {
             "outlinewidth": 0,
             "ticks": ""
            },
            "colorscale": [
             [
              0,
              "#0d0887"
             ],
             [
              0.1111111111111111,
              "#46039f"
             ],
             [
              0.2222222222222222,
              "#7201a8"
             ],
             [
              0.3333333333333333,
              "#9c179e"
             ],
             [
              0.4444444444444444,
              "#bd3786"
             ],
             [
              0.5555555555555556,
              "#d8576b"
             ],
             [
              0.6666666666666666,
              "#ed7953"
             ],
             [
              0.7777777777777778,
              "#fb9f3a"
             ],
             [
              0.8888888888888888,
              "#fdca26"
             ],
             [
              1,
              "#f0f921"
             ]
            ],
            "type": "histogram2d"
           }
          ],
          "histogram2dcontour": [
           {
            "colorbar": {
             "outlinewidth": 0,
             "ticks": ""
            },
            "colorscale": [
             [
              0,
              "#0d0887"
             ],
             [
              0.1111111111111111,
              "#46039f"
             ],
             [
              0.2222222222222222,
              "#7201a8"
             ],
             [
              0.3333333333333333,
              "#9c179e"
             ],
             [
              0.4444444444444444,
              "#bd3786"
             ],
             [
              0.5555555555555556,
              "#d8576b"
             ],
             [
              0.6666666666666666,
              "#ed7953"
             ],
             [
              0.7777777777777778,
              "#fb9f3a"
             ],
             [
              0.8888888888888888,
              "#fdca26"
             ],
             [
              1,
              "#f0f921"
             ]
            ],
            "type": "histogram2dcontour"
           }
          ],
          "mesh3d": [
           {
            "colorbar": {
             "outlinewidth": 0,
             "ticks": ""
            },
            "type": "mesh3d"
           }
          ],
          "parcoords": [
           {
            "line": {
             "colorbar": {
              "outlinewidth": 0,
              "ticks": ""
             }
            },
            "type": "parcoords"
           }
          ],
          "pie": [
           {
            "automargin": true,
            "type": "pie"
           }
          ],
          "scatter": [
           {
            "fillpattern": {
             "fillmode": "overlay",
             "size": 10,
             "solidity": 0.2
            },
            "type": "scatter"
           }
          ],
          "scatter3d": [
           {
            "line": {
             "colorbar": {
              "outlinewidth": 0,
              "ticks": ""
             }
            },
            "marker": {
             "colorbar": {
              "outlinewidth": 0,
              "ticks": ""
             }
            },
            "type": "scatter3d"
           }
          ],
          "scattercarpet": [
           {
            "marker": {
             "colorbar": {
              "outlinewidth": 0,
              "ticks": ""
             }
            },
            "type": "scattercarpet"
           }
          ],
          "scattergeo": [
           {
            "marker": {
             "colorbar": {
              "outlinewidth": 0,
              "ticks": ""
             }
            },
            "type": "scattergeo"
           }
          ],
          "scattergl": [
           {
            "marker": {
             "colorbar": {
              "outlinewidth": 0,
              "ticks": ""
             }
            },
            "type": "scattergl"
           }
          ],
          "scattermapbox": [
           {
            "marker": {
             "colorbar": {
              "outlinewidth": 0,
              "ticks": ""
             }
            },
            "type": "scattermapbox"
           }
          ],
          "scatterpolar": [
           {
            "marker": {
             "colorbar": {
              "outlinewidth": 0,
              "ticks": ""
             }
            },
            "type": "scatterpolar"
           }
          ],
          "scatterpolargl": [
           {
            "marker": {
             "colorbar": {
              "outlinewidth": 0,
              "ticks": ""
             }
            },
            "type": "scatterpolargl"
           }
          ],
          "scatterternary": [
           {
            "marker": {
             "colorbar": {
              "outlinewidth": 0,
              "ticks": ""
             }
            },
            "type": "scatterternary"
           }
          ],
          "surface": [
           {
            "colorbar": {
             "outlinewidth": 0,
             "ticks": ""
            },
            "colorscale": [
             [
              0,
              "#0d0887"
             ],
             [
              0.1111111111111111,
              "#46039f"
             ],
             [
              0.2222222222222222,
              "#7201a8"
             ],
             [
              0.3333333333333333,
              "#9c179e"
             ],
             [
              0.4444444444444444,
              "#bd3786"
             ],
             [
              0.5555555555555556,
              "#d8576b"
             ],
             [
              0.6666666666666666,
              "#ed7953"
             ],
             [
              0.7777777777777778,
              "#fb9f3a"
             ],
             [
              0.8888888888888888,
              "#fdca26"
             ],
             [
              1,
              "#f0f921"
             ]
            ],
            "type": "surface"
           }
          ],
          "table": [
           {
            "cells": {
             "fill": {
              "color": "#EBF0F8"
             },
             "line": {
              "color": "white"
             }
            },
            "header": {
             "fill": {
              "color": "#C8D4E3"
             },
             "line": {
              "color": "white"
             }
            },
            "type": "table"
           }
          ]
         },
         "layout": {
          "annotationdefaults": {
           "arrowcolor": "#2a3f5f",
           "arrowhead": 0,
           "arrowwidth": 1
          },
          "autotypenumbers": "strict",
          "coloraxis": {
           "colorbar": {
            "outlinewidth": 0,
            "ticks": ""
           }
          },
          "colorscale": {
           "diverging": [
            [
             0,
             "#8e0152"
            ],
            [
             0.1,
             "#c51b7d"
            ],
            [
             0.2,
             "#de77ae"
            ],
            [
             0.3,
             "#f1b6da"
            ],
            [
             0.4,
             "#fde0ef"
            ],
            [
             0.5,
             "#f7f7f7"
            ],
            [
             0.6,
             "#e6f5d0"
            ],
            [
             0.7,
             "#b8e186"
            ],
            [
             0.8,
             "#7fbc41"
            ],
            [
             0.9,
             "#4d9221"
            ],
            [
             1,
             "#276419"
            ]
           ],
           "sequential": [
            [
             0,
             "#0d0887"
            ],
            [
             0.1111111111111111,
             "#46039f"
            ],
            [
             0.2222222222222222,
             "#7201a8"
            ],
            [
             0.3333333333333333,
             "#9c179e"
            ],
            [
             0.4444444444444444,
             "#bd3786"
            ],
            [
             0.5555555555555556,
             "#d8576b"
            ],
            [
             0.6666666666666666,
             "#ed7953"
            ],
            [
             0.7777777777777778,
             "#fb9f3a"
            ],
            [
             0.8888888888888888,
             "#fdca26"
            ],
            [
             1,
             "#f0f921"
            ]
           ],
           "sequentialminus": [
            [
             0,
             "#0d0887"
            ],
            [
             0.1111111111111111,
             "#46039f"
            ],
            [
             0.2222222222222222,
             "#7201a8"
            ],
            [
             0.3333333333333333,
             "#9c179e"
            ],
            [
             0.4444444444444444,
             "#bd3786"
            ],
            [
             0.5555555555555556,
             "#d8576b"
            ],
            [
             0.6666666666666666,
             "#ed7953"
            ],
            [
             0.7777777777777778,
             "#fb9f3a"
            ],
            [
             0.8888888888888888,
             "#fdca26"
            ],
            [
             1,
             "#f0f921"
            ]
           ]
          },
          "colorway": [
           "#636efa",
           "#EF553B",
           "#00cc96",
           "#ab63fa",
           "#FFA15A",
           "#19d3f3",
           "#FF6692",
           "#B6E880",
           "#FF97FF",
           "#FECB52"
          ],
          "font": {
           "color": "#2a3f5f"
          },
          "geo": {
           "bgcolor": "white",
           "lakecolor": "white",
           "landcolor": "#E5ECF6",
           "showlakes": true,
           "showland": true,
           "subunitcolor": "white"
          },
          "hoverlabel": {
           "align": "left"
          },
          "hovermode": "closest",
          "mapbox": {
           "style": "light"
          },
          "paper_bgcolor": "white",
          "plot_bgcolor": "#E5ECF6",
          "polar": {
           "angularaxis": {
            "gridcolor": "white",
            "linecolor": "white",
            "ticks": ""
           },
           "bgcolor": "#E5ECF6",
           "radialaxis": {
            "gridcolor": "white",
            "linecolor": "white",
            "ticks": ""
           }
          },
          "scene": {
           "xaxis": {
            "backgroundcolor": "#E5ECF6",
            "gridcolor": "white",
            "gridwidth": 2,
            "linecolor": "white",
            "showbackground": true,
            "ticks": "",
            "zerolinecolor": "white"
           },
           "yaxis": {
            "backgroundcolor": "#E5ECF6",
            "gridcolor": "white",
            "gridwidth": 2,
            "linecolor": "white",
            "showbackground": true,
            "ticks": "",
            "zerolinecolor": "white"
           },
           "zaxis": {
            "backgroundcolor": "#E5ECF6",
            "gridcolor": "white",
            "gridwidth": 2,
            "linecolor": "white",
            "showbackground": true,
            "ticks": "",
            "zerolinecolor": "white"
           }
          },
          "shapedefaults": {
           "line": {
            "color": "#2a3f5f"
           }
          },
          "ternary": {
           "aaxis": {
            "gridcolor": "white",
            "linecolor": "white",
            "ticks": ""
           },
           "baxis": {
            "gridcolor": "white",
            "linecolor": "white",
            "ticks": ""
           },
           "bgcolor": "#E5ECF6",
           "caxis": {
            "gridcolor": "white",
            "linecolor": "white",
            "ticks": ""
           }
          },
          "title": {
           "x": 0.05
          },
          "xaxis": {
           "automargin": true,
           "gridcolor": "white",
           "linecolor": "white",
           "ticks": "",
           "title": {
            "standoff": 15
           },
           "zerolinecolor": "white",
           "zerolinewidth": 2
          },
          "yaxis": {
           "automargin": true,
           "gridcolor": "white",
           "linecolor": "white",
           "ticks": "",
           "title": {
            "standoff": 15
           },
           "zerolinecolor": "white",
           "zerolinewidth": 2
          }
         }
        },
        "title": {
         "text": "Series: 50 a 59 anos"
        },
        "xaxis": {
         "title": {
          "text": "Time"
         }
        },
        "yaxis": {
         "title": {
          "text": "Value"
         }
        }
       }
      }
     },
     "metadata": {},
     "output_type": "display_data"
    },
    {
     "data": {
      "application/vnd.plotly.v1+json": {
       "config": {
        "plotlyServerURL": "https://plot.ly"
       },
       "data": [
        {
         "hovertemplate": "<b>%{x|%Y-%m-%d}</b><br>Real: %{y:.2f}<extra></extra>",
         "mode": "markers",
         "name": "Real",
         "type": "scatter",
         "x": [
          "2016-03-31T00:00:00",
          "2016-06-30T00:00:00",
          "2016-09-30T00:00:00",
          "2016-12-31T00:00:00",
          "2017-03-31T00:00:00",
          "2017-06-30T00:00:00",
          "2017-09-30T00:00:00",
          "2017-12-31T00:00:00",
          "2018-03-31T00:00:00",
          "2018-06-30T00:00:00",
          "2018-09-30T00:00:00",
          "2018-12-31T00:00:00",
          "2019-03-31T00:00:00",
          "2019-06-30T00:00:00",
          "2019-09-30T00:00:00",
          "2019-12-31T00:00:00",
          "2020-03-31T00:00:00",
          "2020-06-30T00:00:00",
          "2020-09-30T00:00:00",
          "2020-12-31T00:00:00",
          "2021-03-31T00:00:00",
          "2021-06-30T00:00:00",
          "2021-09-30T00:00:00",
          "2021-12-31T00:00:00",
          "2022-03-31T00:00:00",
          "2022-06-30T00:00:00"
         ],
         "y": [
          2658,
          3394,
          2524,
          2444,
          3332,
          3439,
          3349,
          3069,
          2956,
          3272,
          3254,
          3157,
          2949,
          3215,
          3142,
          2820,
          2445,
          2154,
          2639,
          3123,
          2459,
          2784,
          3053,
          2987,
          2394,
          2769
         ]
        },
        {
         "error_y": {
          "array": [
           10.57336030140382,
           10.57336030140382,
           10.57336030140382,
           10.57336030140382,
           10.57336030140382,
           10.57336030140382,
           10.57336030140382,
           10.57336030140382,
           10.57336030140382,
           10.57336030140382,
           10.57336030140382,
           10.57336030140382,
           10.57336030140382,
           10.57336030140382,
           10.57336030140382,
           10.57336030140382,
           10.57336030140382,
           10.57336030140382,
           10.57336030140382,
           10.57336030140382,
           10.57336030140382,
           10.57336030140382,
           10.57336030140382,
           10.57336030140382,
           10.57336030140382,
           10.57336030140382
          ],
          "thickness": 1.5,
          "type": "data",
          "visible": true,
          "width": 6
         },
         "hovertemplate": "<b>%{x|%Y-%m-%d}</b><br>Total: %{y:.2f}<extra></extra>",
         "mode": "lines+markers",
         "name": "Total",
         "type": "scatter",
         "x": [
          "2016-03-31T00:00:00",
          "2016-06-30T00:00:00",
          "2016-09-30T00:00:00",
          "2016-12-31T00:00:00",
          "2017-03-31T00:00:00",
          "2017-06-30T00:00:00",
          "2017-09-30T00:00:00",
          "2017-12-31T00:00:00",
          "2018-03-31T00:00:00",
          "2018-06-30T00:00:00",
          "2018-09-30T00:00:00",
          "2018-12-31T00:00:00",
          "2019-03-31T00:00:00",
          "2019-06-30T00:00:00",
          "2019-09-30T00:00:00",
          "2019-12-31T00:00:00",
          "2020-03-31T00:00:00",
          "2020-06-30T00:00:00",
          "2020-09-30T00:00:00",
          "2020-12-31T00:00:00",
          "2021-03-31T00:00:00",
          "2021-06-30T00:00:00",
          "2021-09-30T00:00:00",
          "2021-12-31T00:00:00",
          "2022-03-31T00:00:00",
          "2022-06-30T00:00:00"
         ],
         "y": [
          3058.5042714157744,
          3062.1710814748417,
          3065.837891533909,
          3069.5047015929763,
          3073.1715116520436,
          3076.8383217111113,
          3080.5051317701787,
          3084.171941829246,
          3087.8387518883133,
          3091.5055619473806,
          3095.172372006448,
          3098.839182065515,
          3102.5059921245825,
          3106.1728021836498,
          3109.839612242717,
          3113.5064223017844,
          3117.1732323608517,
          3120.8400424199194,
          3124.5068524789867,
          3128.173662538054,
          3131.8404725971213,
          3135.5072826561886,
          3139.174092715256,
          3142.8409027743232,
          3146.5077128333905,
          3150.174522892458
         ]
        }
       ],
       "layout": {
        "legend": {
         "title": {
          "text": "Legend"
         }
        },
        "shapes": [
         {
          "fillcolor": "LightSalmon",
          "layer": "below",
          "line": {
           "width": 0
          },
          "opacity": 0.3,
          "type": "rect",
          "x0": "2020-03-31T00:00:00",
          "x1": "2020-12-31T00:00:00",
          "xref": "x",
          "y0": 0,
          "y1": 1,
          "yref": "paper"
         }
        ],
        "template": {
         "data": {
          "bar": [
           {
            "error_x": {
             "color": "#2a3f5f"
            },
            "error_y": {
             "color": "#2a3f5f"
            },
            "marker": {
             "line": {
              "color": "#E5ECF6",
              "width": 0.5
             },
             "pattern": {
              "fillmode": "overlay",
              "size": 10,
              "solidity": 0.2
             }
            },
            "type": "bar"
           }
          ],
          "barpolar": [
           {
            "marker": {
             "line": {
              "color": "#E5ECF6",
              "width": 0.5
             },
             "pattern": {
              "fillmode": "overlay",
              "size": 10,
              "solidity": 0.2
             }
            },
            "type": "barpolar"
           }
          ],
          "carpet": [
           {
            "aaxis": {
             "endlinecolor": "#2a3f5f",
             "gridcolor": "white",
             "linecolor": "white",
             "minorgridcolor": "white",
             "startlinecolor": "#2a3f5f"
            },
            "baxis": {
             "endlinecolor": "#2a3f5f",
             "gridcolor": "white",
             "linecolor": "white",
             "minorgridcolor": "white",
             "startlinecolor": "#2a3f5f"
            },
            "type": "carpet"
           }
          ],
          "choropleth": [
           {
            "colorbar": {
             "outlinewidth": 0,
             "ticks": ""
            },
            "type": "choropleth"
           }
          ],
          "contour": [
           {
            "colorbar": {
             "outlinewidth": 0,
             "ticks": ""
            },
            "colorscale": [
             [
              0,
              "#0d0887"
             ],
             [
              0.1111111111111111,
              "#46039f"
             ],
             [
              0.2222222222222222,
              "#7201a8"
             ],
             [
              0.3333333333333333,
              "#9c179e"
             ],
             [
              0.4444444444444444,
              "#bd3786"
             ],
             [
              0.5555555555555556,
              "#d8576b"
             ],
             [
              0.6666666666666666,
              "#ed7953"
             ],
             [
              0.7777777777777778,
              "#fb9f3a"
             ],
             [
              0.8888888888888888,
              "#fdca26"
             ],
             [
              1,
              "#f0f921"
             ]
            ],
            "type": "contour"
           }
          ],
          "contourcarpet": [
           {
            "colorbar": {
             "outlinewidth": 0,
             "ticks": ""
            },
            "type": "contourcarpet"
           }
          ],
          "heatmap": [
           {
            "colorbar": {
             "outlinewidth": 0,
             "ticks": ""
            },
            "colorscale": [
             [
              0,
              "#0d0887"
             ],
             [
              0.1111111111111111,
              "#46039f"
             ],
             [
              0.2222222222222222,
              "#7201a8"
             ],
             [
              0.3333333333333333,
              "#9c179e"
             ],
             [
              0.4444444444444444,
              "#bd3786"
             ],
             [
              0.5555555555555556,
              "#d8576b"
             ],
             [
              0.6666666666666666,
              "#ed7953"
             ],
             [
              0.7777777777777778,
              "#fb9f3a"
             ],
             [
              0.8888888888888888,
              "#fdca26"
             ],
             [
              1,
              "#f0f921"
             ]
            ],
            "type": "heatmap"
           }
          ],
          "heatmapgl": [
           {
            "colorbar": {
             "outlinewidth": 0,
             "ticks": ""
            },
            "colorscale": [
             [
              0,
              "#0d0887"
             ],
             [
              0.1111111111111111,
              "#46039f"
             ],
             [
              0.2222222222222222,
              "#7201a8"
             ],
             [
              0.3333333333333333,
              "#9c179e"
             ],
             [
              0.4444444444444444,
              "#bd3786"
             ],
             [
              0.5555555555555556,
              "#d8576b"
             ],
             [
              0.6666666666666666,
              "#ed7953"
             ],
             [
              0.7777777777777778,
              "#fb9f3a"
             ],
             [
              0.8888888888888888,
              "#fdca26"
             ],
             [
              1,
              "#f0f921"
             ]
            ],
            "type": "heatmapgl"
           }
          ],
          "histogram": [
           {
            "marker": {
             "pattern": {
              "fillmode": "overlay",
              "size": 10,
              "solidity": 0.2
             }
            },
            "type": "histogram"
           }
          ],
          "histogram2d": [
           {
            "colorbar": {
             "outlinewidth": 0,
             "ticks": ""
            },
            "colorscale": [
             [
              0,
              "#0d0887"
             ],
             [
              0.1111111111111111,
              "#46039f"
             ],
             [
              0.2222222222222222,
              "#7201a8"
             ],
             [
              0.3333333333333333,
              "#9c179e"
             ],
             [
              0.4444444444444444,
              "#bd3786"
             ],
             [
              0.5555555555555556,
              "#d8576b"
             ],
             [
              0.6666666666666666,
              "#ed7953"
             ],
             [
              0.7777777777777778,
              "#fb9f3a"
             ],
             [
              0.8888888888888888,
              "#fdca26"
             ],
             [
              1,
              "#f0f921"
             ]
            ],
            "type": "histogram2d"
           }
          ],
          "histogram2dcontour": [
           {
            "colorbar": {
             "outlinewidth": 0,
             "ticks": ""
            },
            "colorscale": [
             [
              0,
              "#0d0887"
             ],
             [
              0.1111111111111111,
              "#46039f"
             ],
             [
              0.2222222222222222,
              "#7201a8"
             ],
             [
              0.3333333333333333,
              "#9c179e"
             ],
             [
              0.4444444444444444,
              "#bd3786"
             ],
             [
              0.5555555555555556,
              "#d8576b"
             ],
             [
              0.6666666666666666,
              "#ed7953"
             ],
             [
              0.7777777777777778,
              "#fb9f3a"
             ],
             [
              0.8888888888888888,
              "#fdca26"
             ],
             [
              1,
              "#f0f921"
             ]
            ],
            "type": "histogram2dcontour"
           }
          ],
          "mesh3d": [
           {
            "colorbar": {
             "outlinewidth": 0,
             "ticks": ""
            },
            "type": "mesh3d"
           }
          ],
          "parcoords": [
           {
            "line": {
             "colorbar": {
              "outlinewidth": 0,
              "ticks": ""
             }
            },
            "type": "parcoords"
           }
          ],
          "pie": [
           {
            "automargin": true,
            "type": "pie"
           }
          ],
          "scatter": [
           {
            "fillpattern": {
             "fillmode": "overlay",
             "size": 10,
             "solidity": 0.2
            },
            "type": "scatter"
           }
          ],
          "scatter3d": [
           {
            "line": {
             "colorbar": {
              "outlinewidth": 0,
              "ticks": ""
             }
            },
            "marker": {
             "colorbar": {
              "outlinewidth": 0,
              "ticks": ""
             }
            },
            "type": "scatter3d"
           }
          ],
          "scattercarpet": [
           {
            "marker": {
             "colorbar": {
              "outlinewidth": 0,
              "ticks": ""
             }
            },
            "type": "scattercarpet"
           }
          ],
          "scattergeo": [
           {
            "marker": {
             "colorbar": {
              "outlinewidth": 0,
              "ticks": ""
             }
            },
            "type": "scattergeo"
           }
          ],
          "scattergl": [
           {
            "marker": {
             "colorbar": {
              "outlinewidth": 0,
              "ticks": ""
             }
            },
            "type": "scattergl"
           }
          ],
          "scattermapbox": [
           {
            "marker": {
             "colorbar": {
              "outlinewidth": 0,
              "ticks": ""
             }
            },
            "type": "scattermapbox"
           }
          ],
          "scatterpolar": [
           {
            "marker": {
             "colorbar": {
              "outlinewidth": 0,
              "ticks": ""
             }
            },
            "type": "scatterpolar"
           }
          ],
          "scatterpolargl": [
           {
            "marker": {
             "colorbar": {
              "outlinewidth": 0,
              "ticks": ""
             }
            },
            "type": "scatterpolargl"
           }
          ],
          "scatterternary": [
           {
            "marker": {
             "colorbar": {
              "outlinewidth": 0,
              "ticks": ""
             }
            },
            "type": "scatterternary"
           }
          ],
          "surface": [
           {
            "colorbar": {
             "outlinewidth": 0,
             "ticks": ""
            },
            "colorscale": [
             [
              0,
              "#0d0887"
             ],
             [
              0.1111111111111111,
              "#46039f"
             ],
             [
              0.2222222222222222,
              "#7201a8"
             ],
             [
              0.3333333333333333,
              "#9c179e"
             ],
             [
              0.4444444444444444,
              "#bd3786"
             ],
             [
              0.5555555555555556,
              "#d8576b"
             ],
             [
              0.6666666666666666,
              "#ed7953"
             ],
             [
              0.7777777777777778,
              "#fb9f3a"
             ],
             [
              0.8888888888888888,
              "#fdca26"
             ],
             [
              1,
              "#f0f921"
             ]
            ],
            "type": "surface"
           }
          ],
          "table": [
           {
            "cells": {
             "fill": {
              "color": "#EBF0F8"
             },
             "line": {
              "color": "white"
             }
            },
            "header": {
             "fill": {
              "color": "#C8D4E3"
             },
             "line": {
              "color": "white"
             }
            },
            "type": "table"
           }
          ]
         },
         "layout": {
          "annotationdefaults": {
           "arrowcolor": "#2a3f5f",
           "arrowhead": 0,
           "arrowwidth": 1
          },
          "autotypenumbers": "strict",
          "coloraxis": {
           "colorbar": {
            "outlinewidth": 0,
            "ticks": ""
           }
          },
          "colorscale": {
           "diverging": [
            [
             0,
             "#8e0152"
            ],
            [
             0.1,
             "#c51b7d"
            ],
            [
             0.2,
             "#de77ae"
            ],
            [
             0.3,
             "#f1b6da"
            ],
            [
             0.4,
             "#fde0ef"
            ],
            [
             0.5,
             "#f7f7f7"
            ],
            [
             0.6,
             "#e6f5d0"
            ],
            [
             0.7,
             "#b8e186"
            ],
            [
             0.8,
             "#7fbc41"
            ],
            [
             0.9,
             "#4d9221"
            ],
            [
             1,
             "#276419"
            ]
           ],
           "sequential": [
            [
             0,
             "#0d0887"
            ],
            [
             0.1111111111111111,
             "#46039f"
            ],
            [
             0.2222222222222222,
             "#7201a8"
            ],
            [
             0.3333333333333333,
             "#9c179e"
            ],
            [
             0.4444444444444444,
             "#bd3786"
            ],
            [
             0.5555555555555556,
             "#d8576b"
            ],
            [
             0.6666666666666666,
             "#ed7953"
            ],
            [
             0.7777777777777778,
             "#fb9f3a"
            ],
            [
             0.8888888888888888,
             "#fdca26"
            ],
            [
             1,
             "#f0f921"
            ]
           ],
           "sequentialminus": [
            [
             0,
             "#0d0887"
            ],
            [
             0.1111111111111111,
             "#46039f"
            ],
            [
             0.2222222222222222,
             "#7201a8"
            ],
            [
             0.3333333333333333,
             "#9c179e"
            ],
            [
             0.4444444444444444,
             "#bd3786"
            ],
            [
             0.5555555555555556,
             "#d8576b"
            ],
            [
             0.6666666666666666,
             "#ed7953"
            ],
            [
             0.7777777777777778,
             "#fb9f3a"
            ],
            [
             0.8888888888888888,
             "#fdca26"
            ],
            [
             1,
             "#f0f921"
            ]
           ]
          },
          "colorway": [
           "#636efa",
           "#EF553B",
           "#00cc96",
           "#ab63fa",
           "#FFA15A",
           "#19d3f3",
           "#FF6692",
           "#B6E880",
           "#FF97FF",
           "#FECB52"
          ],
          "font": {
           "color": "#2a3f5f"
          },
          "geo": {
           "bgcolor": "white",
           "lakecolor": "white",
           "landcolor": "#E5ECF6",
           "showlakes": true,
           "showland": true,
           "subunitcolor": "white"
          },
          "hoverlabel": {
           "align": "left"
          },
          "hovermode": "closest",
          "mapbox": {
           "style": "light"
          },
          "paper_bgcolor": "white",
          "plot_bgcolor": "#E5ECF6",
          "polar": {
           "angularaxis": {
            "gridcolor": "white",
            "linecolor": "white",
            "ticks": ""
           },
           "bgcolor": "#E5ECF6",
           "radialaxis": {
            "gridcolor": "white",
            "linecolor": "white",
            "ticks": ""
           }
          },
          "scene": {
           "xaxis": {
            "backgroundcolor": "#E5ECF6",
            "gridcolor": "white",
            "gridwidth": 2,
            "linecolor": "white",
            "showbackground": true,
            "ticks": "",
            "zerolinecolor": "white"
           },
           "yaxis": {
            "backgroundcolor": "#E5ECF6",
            "gridcolor": "white",
            "gridwidth": 2,
            "linecolor": "white",
            "showbackground": true,
            "ticks": "",
            "zerolinecolor": "white"
           },
           "zaxis": {
            "backgroundcolor": "#E5ECF6",
            "gridcolor": "white",
            "gridwidth": 2,
            "linecolor": "white",
            "showbackground": true,
            "ticks": "",
            "zerolinecolor": "white"
           }
          },
          "shapedefaults": {
           "line": {
            "color": "#2a3f5f"
           }
          },
          "ternary": {
           "aaxis": {
            "gridcolor": "white",
            "linecolor": "white",
            "ticks": ""
           },
           "baxis": {
            "gridcolor": "white",
            "linecolor": "white",
            "ticks": ""
           },
           "bgcolor": "#E5ECF6",
           "caxis": {
            "gridcolor": "white",
            "linecolor": "white",
            "ticks": ""
           }
          },
          "title": {
           "x": 0.05
          },
          "xaxis": {
           "automargin": true,
           "gridcolor": "white",
           "linecolor": "white",
           "ticks": "",
           "title": {
            "standoff": 15
           },
           "zerolinecolor": "white",
           "zerolinewidth": 2
          },
          "yaxis": {
           "automargin": true,
           "gridcolor": "white",
           "linecolor": "white",
           "ticks": "",
           "title": {
            "standoff": 15
           },
           "zerolinecolor": "white",
           "zerolinewidth": 2
          }
         }
        },
        "title": {
         "text": "Series: 60 a 69 anos"
        },
        "xaxis": {
         "title": {
          "text": "Time"
         }
        },
        "yaxis": {
         "title": {
          "text": "Value"
         }
        }
       }
      }
     },
     "metadata": {},
     "output_type": "display_data"
    },
    {
     "data": {
      "application/vnd.plotly.v1+json": {
       "config": {
        "plotlyServerURL": "https://plot.ly"
       },
       "data": [
        {
         "hovertemplate": "<b>%{x|%Y-%m-%d}</b><br>Real: %{y:.2f}<extra></extra>",
         "mode": "markers",
         "name": "Real",
         "type": "scatter",
         "x": [
          "2016-03-31T00:00:00",
          "2016-06-30T00:00:00",
          "2016-09-30T00:00:00",
          "2016-12-31T00:00:00",
          "2017-03-31T00:00:00",
          "2017-06-30T00:00:00",
          "2017-09-30T00:00:00",
          "2017-12-31T00:00:00",
          "2018-03-31T00:00:00",
          "2018-06-30T00:00:00",
          "2018-09-30T00:00:00",
          "2018-12-31T00:00:00",
          "2019-03-31T00:00:00",
          "2019-06-30T00:00:00",
          "2019-09-30T00:00:00",
          "2019-12-31T00:00:00",
          "2020-03-31T00:00:00",
          "2020-06-30T00:00:00",
          "2020-09-30T00:00:00",
          "2020-12-31T00:00:00",
          "2021-03-31T00:00:00",
          "2021-06-30T00:00:00",
          "2021-09-30T00:00:00",
          "2021-12-31T00:00:00",
          "2022-03-31T00:00:00",
          "2022-06-30T00:00:00"
         ],
         "y": [
          1221,
          1532,
          1287,
          1135,
          1572,
          1521,
          1536,
          1411,
          1445,
          1585,
          1621,
          1593,
          1531,
          1590,
          1561,
          1543,
          1330,
          1271,
          1531,
          1656,
          1304,
          1446,
          1753,
          1749,
          1247,
          1578
         ]
        },
        {
         "error_y": {
          "array": [
           3.751632207485791,
           3.751632207485791,
           3.751632207485791,
           3.751632207485791,
           3.751632207485791,
           3.751632207485791,
           3.751632207485791,
           3.751632207485791,
           3.751632207485791,
           3.751632207485791,
           3.751632207485791,
           3.751632207485791,
           3.751632207485791,
           3.751632207485791,
           3.751632207485791,
           3.751632207485791,
           3.751632207485791,
           3.751632207485791,
           3.751632207485791,
           3.751632207485791,
           3.751632207485791,
           3.751632207485791,
           3.751632207485791,
           3.751632207485791,
           3.751632207485791,
           3.751632207485791
          ],
          "thickness": 1.5,
          "type": "data",
          "visible": true,
          "width": 6
         },
         "hovertemplate": "<b>%{x|%Y-%m-%d}</b><br>Total: %{y:.2f}<extra></extra>",
         "mode": "lines+markers",
         "name": "Total",
         "type": "scatter",
         "x": [
          "2016-03-31T00:00:00",
          "2016-06-30T00:00:00",
          "2016-09-30T00:00:00",
          "2016-12-31T00:00:00",
          "2017-03-31T00:00:00",
          "2017-06-30T00:00:00",
          "2017-09-30T00:00:00",
          "2017-12-31T00:00:00",
          "2018-03-31T00:00:00",
          "2018-06-30T00:00:00",
          "2018-09-30T00:00:00",
          "2018-12-31T00:00:00",
          "2019-03-31T00:00:00",
          "2019-06-30T00:00:00",
          "2019-09-30T00:00:00",
          "2019-12-31T00:00:00",
          "2020-03-31T00:00:00",
          "2020-06-30T00:00:00",
          "2020-09-30T00:00:00",
          "2020-12-31T00:00:00",
          "2021-03-31T00:00:00",
          "2021-06-30T00:00:00",
          "2021-09-30T00:00:00",
          "2021-12-31T00:00:00",
          "2022-03-31T00:00:00",
          "2022-06-30T00:00:00"
         ],
         "y": [
          1381.9075333360163,
          1396.2659048142289,
          1410.6242762924417,
          1424.9826477706542,
          1439.341019248867,
          1453.6993907270798,
          1468.0577622052924,
          1482.4161336835052,
          1496.7745051617178,
          1511.1328766399306,
          1525.4912481181432,
          1539.849619596356,
          1554.2079910745688,
          1568.5663625527814,
          1582.9247340309942,
          1597.2831055092067,
          1611.6414769874195,
          1625.999848465632,
          1640.358219943845,
          1654.7165914220577,
          1669.0749629002703,
          1683.433334378483,
          1697.791705856696,
          1712.1500773349085,
          1726.5084488131213,
          1740.8668202913339
         ]
        }
       ],
       "layout": {
        "legend": {
         "title": {
          "text": "Legend"
         }
        },
        "shapes": [
         {
          "fillcolor": "LightSalmon",
          "layer": "below",
          "line": {
           "width": 0
          },
          "opacity": 0.3,
          "type": "rect",
          "x0": "2020-03-31T00:00:00",
          "x1": "2020-12-31T00:00:00",
          "xref": "x",
          "y0": 0,
          "y1": 1,
          "yref": "paper"
         }
        ],
        "template": {
         "data": {
          "bar": [
           {
            "error_x": {
             "color": "#2a3f5f"
            },
            "error_y": {
             "color": "#2a3f5f"
            },
            "marker": {
             "line": {
              "color": "#E5ECF6",
              "width": 0.5
             },
             "pattern": {
              "fillmode": "overlay",
              "size": 10,
              "solidity": 0.2
             }
            },
            "type": "bar"
           }
          ],
          "barpolar": [
           {
            "marker": {
             "line": {
              "color": "#E5ECF6",
              "width": 0.5
             },
             "pattern": {
              "fillmode": "overlay",
              "size": 10,
              "solidity": 0.2
             }
            },
            "type": "barpolar"
           }
          ],
          "carpet": [
           {
            "aaxis": {
             "endlinecolor": "#2a3f5f",
             "gridcolor": "white",
             "linecolor": "white",
             "minorgridcolor": "white",
             "startlinecolor": "#2a3f5f"
            },
            "baxis": {
             "endlinecolor": "#2a3f5f",
             "gridcolor": "white",
             "linecolor": "white",
             "minorgridcolor": "white",
             "startlinecolor": "#2a3f5f"
            },
            "type": "carpet"
           }
          ],
          "choropleth": [
           {
            "colorbar": {
             "outlinewidth": 0,
             "ticks": ""
            },
            "type": "choropleth"
           }
          ],
          "contour": [
           {
            "colorbar": {
             "outlinewidth": 0,
             "ticks": ""
            },
            "colorscale": [
             [
              0,
              "#0d0887"
             ],
             [
              0.1111111111111111,
              "#46039f"
             ],
             [
              0.2222222222222222,
              "#7201a8"
             ],
             [
              0.3333333333333333,
              "#9c179e"
             ],
             [
              0.4444444444444444,
              "#bd3786"
             ],
             [
              0.5555555555555556,
              "#d8576b"
             ],
             [
              0.6666666666666666,
              "#ed7953"
             ],
             [
              0.7777777777777778,
              "#fb9f3a"
             ],
             [
              0.8888888888888888,
              "#fdca26"
             ],
             [
              1,
              "#f0f921"
             ]
            ],
            "type": "contour"
           }
          ],
          "contourcarpet": [
           {
            "colorbar": {
             "outlinewidth": 0,
             "ticks": ""
            },
            "type": "contourcarpet"
           }
          ],
          "heatmap": [
           {
            "colorbar": {
             "outlinewidth": 0,
             "ticks": ""
            },
            "colorscale": [
             [
              0,
              "#0d0887"
             ],
             [
              0.1111111111111111,
              "#46039f"
             ],
             [
              0.2222222222222222,
              "#7201a8"
             ],
             [
              0.3333333333333333,
              "#9c179e"
             ],
             [
              0.4444444444444444,
              "#bd3786"
             ],
             [
              0.5555555555555556,
              "#d8576b"
             ],
             [
              0.6666666666666666,
              "#ed7953"
             ],
             [
              0.7777777777777778,
              "#fb9f3a"
             ],
             [
              0.8888888888888888,
              "#fdca26"
             ],
             [
              1,
              "#f0f921"
             ]
            ],
            "type": "heatmap"
           }
          ],
          "heatmapgl": [
           {
            "colorbar": {
             "outlinewidth": 0,
             "ticks": ""
            },
            "colorscale": [
             [
              0,
              "#0d0887"
             ],
             [
              0.1111111111111111,
              "#46039f"
             ],
             [
              0.2222222222222222,
              "#7201a8"
             ],
             [
              0.3333333333333333,
              "#9c179e"
             ],
             [
              0.4444444444444444,
              "#bd3786"
             ],
             [
              0.5555555555555556,
              "#d8576b"
             ],
             [
              0.6666666666666666,
              "#ed7953"
             ],
             [
              0.7777777777777778,
              "#fb9f3a"
             ],
             [
              0.8888888888888888,
              "#fdca26"
             ],
             [
              1,
              "#f0f921"
             ]
            ],
            "type": "heatmapgl"
           }
          ],
          "histogram": [
           {
            "marker": {
             "pattern": {
              "fillmode": "overlay",
              "size": 10,
              "solidity": 0.2
             }
            },
            "type": "histogram"
           }
          ],
          "histogram2d": [
           {
            "colorbar": {
             "outlinewidth": 0,
             "ticks": ""
            },
            "colorscale": [
             [
              0,
              "#0d0887"
             ],
             [
              0.1111111111111111,
              "#46039f"
             ],
             [
              0.2222222222222222,
              "#7201a8"
             ],
             [
              0.3333333333333333,
              "#9c179e"
             ],
             [
              0.4444444444444444,
              "#bd3786"
             ],
             [
              0.5555555555555556,
              "#d8576b"
             ],
             [
              0.6666666666666666,
              "#ed7953"
             ],
             [
              0.7777777777777778,
              "#fb9f3a"
             ],
             [
              0.8888888888888888,
              "#fdca26"
             ],
             [
              1,
              "#f0f921"
             ]
            ],
            "type": "histogram2d"
           }
          ],
          "histogram2dcontour": [
           {
            "colorbar": {
             "outlinewidth": 0,
             "ticks": ""
            },
            "colorscale": [
             [
              0,
              "#0d0887"
             ],
             [
              0.1111111111111111,
              "#46039f"
             ],
             [
              0.2222222222222222,
              "#7201a8"
             ],
             [
              0.3333333333333333,
              "#9c179e"
             ],
             [
              0.4444444444444444,
              "#bd3786"
             ],
             [
              0.5555555555555556,
              "#d8576b"
             ],
             [
              0.6666666666666666,
              "#ed7953"
             ],
             [
              0.7777777777777778,
              "#fb9f3a"
             ],
             [
              0.8888888888888888,
              "#fdca26"
             ],
             [
              1,
              "#f0f921"
             ]
            ],
            "type": "histogram2dcontour"
           }
          ],
          "mesh3d": [
           {
            "colorbar": {
             "outlinewidth": 0,
             "ticks": ""
            },
            "type": "mesh3d"
           }
          ],
          "parcoords": [
           {
            "line": {
             "colorbar": {
              "outlinewidth": 0,
              "ticks": ""
             }
            },
            "type": "parcoords"
           }
          ],
          "pie": [
           {
            "automargin": true,
            "type": "pie"
           }
          ],
          "scatter": [
           {
            "fillpattern": {
             "fillmode": "overlay",
             "size": 10,
             "solidity": 0.2
            },
            "type": "scatter"
           }
          ],
          "scatter3d": [
           {
            "line": {
             "colorbar": {
              "outlinewidth": 0,
              "ticks": ""
             }
            },
            "marker": {
             "colorbar": {
              "outlinewidth": 0,
              "ticks": ""
             }
            },
            "type": "scatter3d"
           }
          ],
          "scattercarpet": [
           {
            "marker": {
             "colorbar": {
              "outlinewidth": 0,
              "ticks": ""
             }
            },
            "type": "scattercarpet"
           }
          ],
          "scattergeo": [
           {
            "marker": {
             "colorbar": {
              "outlinewidth": 0,
              "ticks": ""
             }
            },
            "type": "scattergeo"
           }
          ],
          "scattergl": [
           {
            "marker": {
             "colorbar": {
              "outlinewidth": 0,
              "ticks": ""
             }
            },
            "type": "scattergl"
           }
          ],
          "scattermapbox": [
           {
            "marker": {
             "colorbar": {
              "outlinewidth": 0,
              "ticks": ""
             }
            },
            "type": "scattermapbox"
           }
          ],
          "scatterpolar": [
           {
            "marker": {
             "colorbar": {
              "outlinewidth": 0,
              "ticks": ""
             }
            },
            "type": "scatterpolar"
           }
          ],
          "scatterpolargl": [
           {
            "marker": {
             "colorbar": {
              "outlinewidth": 0,
              "ticks": ""
             }
            },
            "type": "scatterpolargl"
           }
          ],
          "scatterternary": [
           {
            "marker": {
             "colorbar": {
              "outlinewidth": 0,
              "ticks": ""
             }
            },
            "type": "scatterternary"
           }
          ],
          "surface": [
           {
            "colorbar": {
             "outlinewidth": 0,
             "ticks": ""
            },
            "colorscale": [
             [
              0,
              "#0d0887"
             ],
             [
              0.1111111111111111,
              "#46039f"
             ],
             [
              0.2222222222222222,
              "#7201a8"
             ],
             [
              0.3333333333333333,
              "#9c179e"
             ],
             [
              0.4444444444444444,
              "#bd3786"
             ],
             [
              0.5555555555555556,
              "#d8576b"
             ],
             [
              0.6666666666666666,
              "#ed7953"
             ],
             [
              0.7777777777777778,
              "#fb9f3a"
             ],
             [
              0.8888888888888888,
              "#fdca26"
             ],
             [
              1,
              "#f0f921"
             ]
            ],
            "type": "surface"
           }
          ],
          "table": [
           {
            "cells": {
             "fill": {
              "color": "#EBF0F8"
             },
             "line": {
              "color": "white"
             }
            },
            "header": {
             "fill": {
              "color": "#C8D4E3"
             },
             "line": {
              "color": "white"
             }
            },
            "type": "table"
           }
          ]
         },
         "layout": {
          "annotationdefaults": {
           "arrowcolor": "#2a3f5f",
           "arrowhead": 0,
           "arrowwidth": 1
          },
          "autotypenumbers": "strict",
          "coloraxis": {
           "colorbar": {
            "outlinewidth": 0,
            "ticks": ""
           }
          },
          "colorscale": {
           "diverging": [
            [
             0,
             "#8e0152"
            ],
            [
             0.1,
             "#c51b7d"
            ],
            [
             0.2,
             "#de77ae"
            ],
            [
             0.3,
             "#f1b6da"
            ],
            [
             0.4,
             "#fde0ef"
            ],
            [
             0.5,
             "#f7f7f7"
            ],
            [
             0.6,
             "#e6f5d0"
            ],
            [
             0.7,
             "#b8e186"
            ],
            [
             0.8,
             "#7fbc41"
            ],
            [
             0.9,
             "#4d9221"
            ],
            [
             1,
             "#276419"
            ]
           ],
           "sequential": [
            [
             0,
             "#0d0887"
            ],
            [
             0.1111111111111111,
             "#46039f"
            ],
            [
             0.2222222222222222,
             "#7201a8"
            ],
            [
             0.3333333333333333,
             "#9c179e"
            ],
            [
             0.4444444444444444,
             "#bd3786"
            ],
            [
             0.5555555555555556,
             "#d8576b"
            ],
            [
             0.6666666666666666,
             "#ed7953"
            ],
            [
             0.7777777777777778,
             "#fb9f3a"
            ],
            [
             0.8888888888888888,
             "#fdca26"
            ],
            [
             1,
             "#f0f921"
            ]
           ],
           "sequentialminus": [
            [
             0,
             "#0d0887"
            ],
            [
             0.1111111111111111,
             "#46039f"
            ],
            [
             0.2222222222222222,
             "#7201a8"
            ],
            [
             0.3333333333333333,
             "#9c179e"
            ],
            [
             0.4444444444444444,
             "#bd3786"
            ],
            [
             0.5555555555555556,
             "#d8576b"
            ],
            [
             0.6666666666666666,
             "#ed7953"
            ],
            [
             0.7777777777777778,
             "#fb9f3a"
            ],
            [
             0.8888888888888888,
             "#fdca26"
            ],
            [
             1,
             "#f0f921"
            ]
           ]
          },
          "colorway": [
           "#636efa",
           "#EF553B",
           "#00cc96",
           "#ab63fa",
           "#FFA15A",
           "#19d3f3",
           "#FF6692",
           "#B6E880",
           "#FF97FF",
           "#FECB52"
          ],
          "font": {
           "color": "#2a3f5f"
          },
          "geo": {
           "bgcolor": "white",
           "lakecolor": "white",
           "landcolor": "#E5ECF6",
           "showlakes": true,
           "showland": true,
           "subunitcolor": "white"
          },
          "hoverlabel": {
           "align": "left"
          },
          "hovermode": "closest",
          "mapbox": {
           "style": "light"
          },
          "paper_bgcolor": "white",
          "plot_bgcolor": "#E5ECF6",
          "polar": {
           "angularaxis": {
            "gridcolor": "white",
            "linecolor": "white",
            "ticks": ""
           },
           "bgcolor": "#E5ECF6",
           "radialaxis": {
            "gridcolor": "white",
            "linecolor": "white",
            "ticks": ""
           }
          },
          "scene": {
           "xaxis": {
            "backgroundcolor": "#E5ECF6",
            "gridcolor": "white",
            "gridwidth": 2,
            "linecolor": "white",
            "showbackground": true,
            "ticks": "",
            "zerolinecolor": "white"
           },
           "yaxis": {
            "backgroundcolor": "#E5ECF6",
            "gridcolor": "white",
            "gridwidth": 2,
            "linecolor": "white",
            "showbackground": true,
            "ticks": "",
            "zerolinecolor": "white"
           },
           "zaxis": {
            "backgroundcolor": "#E5ECF6",
            "gridcolor": "white",
            "gridwidth": 2,
            "linecolor": "white",
            "showbackground": true,
            "ticks": "",
            "zerolinecolor": "white"
           }
          },
          "shapedefaults": {
           "line": {
            "color": "#2a3f5f"
           }
          },
          "ternary": {
           "aaxis": {
            "gridcolor": "white",
            "linecolor": "white",
            "ticks": ""
           },
           "baxis": {
            "gridcolor": "white",
            "linecolor": "white",
            "ticks": ""
           },
           "bgcolor": "#E5ECF6",
           "caxis": {
            "gridcolor": "white",
            "linecolor": "white",
            "ticks": ""
           }
          },
          "title": {
           "x": 0.05
          },
          "xaxis": {
           "automargin": true,
           "gridcolor": "white",
           "linecolor": "white",
           "ticks": "",
           "title": {
            "standoff": 15
           },
           "zerolinecolor": "white",
           "zerolinewidth": 2
          },
          "yaxis": {
           "automargin": true,
           "gridcolor": "white",
           "linecolor": "white",
           "ticks": "",
           "title": {
            "standoff": 15
           },
           "zerolinecolor": "white",
           "zerolinewidth": 2
          }
         }
        },
        "title": {
         "text": "Series: 70 a 79 anos"
        },
        "xaxis": {
         "title": {
          "text": "Time"
         }
        },
        "yaxis": {
         "title": {
          "text": "Value"
         }
        }
       }
      }
     },
     "metadata": {},
     "output_type": "display_data"
    },
    {
     "data": {
      "application/vnd.plotly.v1+json": {
       "config": {
        "plotlyServerURL": "https://plot.ly"
       },
       "data": [
        {
         "hovertemplate": "<b>%{x|%Y-%m-%d}</b><br>Real: %{y:.2f}<extra></extra>",
         "mode": "markers",
         "name": "Real",
         "type": "scatter",
         "x": [
          "2016-03-31T00:00:00",
          "2016-06-30T00:00:00",
          "2016-09-30T00:00:00",
          "2016-12-31T00:00:00",
          "2017-03-31T00:00:00",
          "2017-06-30T00:00:00",
          "2017-09-30T00:00:00",
          "2017-12-31T00:00:00",
          "2018-03-31T00:00:00",
          "2018-06-30T00:00:00",
          "2018-09-30T00:00:00",
          "2018-12-31T00:00:00",
          "2019-03-31T00:00:00",
          "2019-06-30T00:00:00",
          "2019-09-30T00:00:00",
          "2019-12-31T00:00:00",
          "2020-03-31T00:00:00",
          "2020-06-30T00:00:00",
          "2020-09-30T00:00:00",
          "2020-12-31T00:00:00",
          "2021-03-31T00:00:00",
          "2021-06-30T00:00:00",
          "2021-09-30T00:00:00",
          "2021-12-31T00:00:00",
          "2022-03-31T00:00:00",
          "2022-06-30T00:00:00"
         ],
         "y": [
          552,
          653,
          607,
          566,
          710,
          757,
          712,
          690,
          668,
          748,
          752,
          760,
          771,
          820,
          788,
          757,
          651,
          651,
          730,
          824,
          615,
          751,
          920,
          878,
          713,
          767
         ]
        },
        {
         "error_y": {
          "array": [
           1.5364372345246282,
           1.5364372345246282,
           1.5364372345246282,
           1.5364372345246282,
           1.5364372345246282,
           1.5364372345246282,
           1.5364372345246282,
           1.5364372345246282,
           1.5364372345246282,
           1.5364372345246282,
           1.5364372345246282,
           1.5364372345246282,
           1.5364372345246282,
           1.5364372345246282,
           1.5364372345246282,
           1.5364372345246282,
           1.5364372345246282,
           1.5364372345246282,
           1.5364372345246282,
           1.5364372345246282,
           1.5364372345246282,
           1.5364372345246282,
           1.5364372345246282,
           1.5364372345246282,
           1.5364372345246282,
           1.5364372345246282
          ],
          "thickness": 1.5,
          "type": "data",
          "visible": true,
          "width": 6
         },
         "hovertemplate": "<b>%{x|%Y-%m-%d}</b><br>Total: %{y:.2f}<extra></extra>",
         "mode": "lines+markers",
         "name": "Total",
         "type": "scatter",
         "x": [
          "2016-03-31T00:00:00",
          "2016-06-30T00:00:00",
          "2016-09-30T00:00:00",
          "2016-12-31T00:00:00",
          "2017-03-31T00:00:00",
          "2017-06-30T00:00:00",
          "2017-09-30T00:00:00",
          "2017-12-31T00:00:00",
          "2018-03-31T00:00:00",
          "2018-06-30T00:00:00",
          "2018-09-30T00:00:00",
          "2018-12-31T00:00:00",
          "2019-03-31T00:00:00",
          "2019-06-30T00:00:00",
          "2019-09-30T00:00:00",
          "2019-12-31T00:00:00",
          "2020-03-31T00:00:00",
          "2020-06-30T00:00:00",
          "2020-09-30T00:00:00",
          "2020-12-31T00:00:00",
          "2021-03-31T00:00:00",
          "2021-06-30T00:00:00",
          "2021-09-30T00:00:00",
          "2021-12-31T00:00:00",
          "2022-03-31T00:00:00",
          "2022-06-30T00:00:00"
         ],
         "y": [
          622.6873239481388,
          634.5087188937866,
          646.3301138394345,
          658.1515087850822,
          669.9729037307301,
          681.7942986763779,
          693.6156936220258,
          705.4370885676736,
          717.2584835133214,
          729.0798784589692,
          740.9012734046171,
          752.7226683502649,
          764.5440632959128,
          776.3654582415606,
          788.1868531872085,
          800.0082481328562,
          811.8296430785041,
          823.651038024152,
          835.4724329697998,
          847.2938279154475,
          859.1152228610954,
          870.9366178067432,
          882.7580127523911,
          894.579407698039,
          906.4008026436868,
          918.2221975893347
         ]
        }
       ],
       "layout": {
        "legend": {
         "title": {
          "text": "Legend"
         }
        },
        "shapes": [
         {
          "fillcolor": "LightSalmon",
          "layer": "below",
          "line": {
           "width": 0
          },
          "opacity": 0.3,
          "type": "rect",
          "x0": "2020-03-31T00:00:00",
          "x1": "2020-12-31T00:00:00",
          "xref": "x",
          "y0": 0,
          "y1": 1,
          "yref": "paper"
         }
        ],
        "template": {
         "data": {
          "bar": [
           {
            "error_x": {
             "color": "#2a3f5f"
            },
            "error_y": {
             "color": "#2a3f5f"
            },
            "marker": {
             "line": {
              "color": "#E5ECF6",
              "width": 0.5
             },
             "pattern": {
              "fillmode": "overlay",
              "size": 10,
              "solidity": 0.2
             }
            },
            "type": "bar"
           }
          ],
          "barpolar": [
           {
            "marker": {
             "line": {
              "color": "#E5ECF6",
              "width": 0.5
             },
             "pattern": {
              "fillmode": "overlay",
              "size": 10,
              "solidity": 0.2
             }
            },
            "type": "barpolar"
           }
          ],
          "carpet": [
           {
            "aaxis": {
             "endlinecolor": "#2a3f5f",
             "gridcolor": "white",
             "linecolor": "white",
             "minorgridcolor": "white",
             "startlinecolor": "#2a3f5f"
            },
            "baxis": {
             "endlinecolor": "#2a3f5f",
             "gridcolor": "white",
             "linecolor": "white",
             "minorgridcolor": "white",
             "startlinecolor": "#2a3f5f"
            },
            "type": "carpet"
           }
          ],
          "choropleth": [
           {
            "colorbar": {
             "outlinewidth": 0,
             "ticks": ""
            },
            "type": "choropleth"
           }
          ],
          "contour": [
           {
            "colorbar": {
             "outlinewidth": 0,
             "ticks": ""
            },
            "colorscale": [
             [
              0,
              "#0d0887"
             ],
             [
              0.1111111111111111,
              "#46039f"
             ],
             [
              0.2222222222222222,
              "#7201a8"
             ],
             [
              0.3333333333333333,
              "#9c179e"
             ],
             [
              0.4444444444444444,
              "#bd3786"
             ],
             [
              0.5555555555555556,
              "#d8576b"
             ],
             [
              0.6666666666666666,
              "#ed7953"
             ],
             [
              0.7777777777777778,
              "#fb9f3a"
             ],
             [
              0.8888888888888888,
              "#fdca26"
             ],
             [
              1,
              "#f0f921"
             ]
            ],
            "type": "contour"
           }
          ],
          "contourcarpet": [
           {
            "colorbar": {
             "outlinewidth": 0,
             "ticks": ""
            },
            "type": "contourcarpet"
           }
          ],
          "heatmap": [
           {
            "colorbar": {
             "outlinewidth": 0,
             "ticks": ""
            },
            "colorscale": [
             [
              0,
              "#0d0887"
             ],
             [
              0.1111111111111111,
              "#46039f"
             ],
             [
              0.2222222222222222,
              "#7201a8"
             ],
             [
              0.3333333333333333,
              "#9c179e"
             ],
             [
              0.4444444444444444,
              "#bd3786"
             ],
             [
              0.5555555555555556,
              "#d8576b"
             ],
             [
              0.6666666666666666,
              "#ed7953"
             ],
             [
              0.7777777777777778,
              "#fb9f3a"
             ],
             [
              0.8888888888888888,
              "#fdca26"
             ],
             [
              1,
              "#f0f921"
             ]
            ],
            "type": "heatmap"
           }
          ],
          "heatmapgl": [
           {
            "colorbar": {
             "outlinewidth": 0,
             "ticks": ""
            },
            "colorscale": [
             [
              0,
              "#0d0887"
             ],
             [
              0.1111111111111111,
              "#46039f"
             ],
             [
              0.2222222222222222,
              "#7201a8"
             ],
             [
              0.3333333333333333,
              "#9c179e"
             ],
             [
              0.4444444444444444,
              "#bd3786"
             ],
             [
              0.5555555555555556,
              "#d8576b"
             ],
             [
              0.6666666666666666,
              "#ed7953"
             ],
             [
              0.7777777777777778,
              "#fb9f3a"
             ],
             [
              0.8888888888888888,
              "#fdca26"
             ],
             [
              1,
              "#f0f921"
             ]
            ],
            "type": "heatmapgl"
           }
          ],
          "histogram": [
           {
            "marker": {
             "pattern": {
              "fillmode": "overlay",
              "size": 10,
              "solidity": 0.2
             }
            },
            "type": "histogram"
           }
          ],
          "histogram2d": [
           {
            "colorbar": {
             "outlinewidth": 0,
             "ticks": ""
            },
            "colorscale": [
             [
              0,
              "#0d0887"
             ],
             [
              0.1111111111111111,
              "#46039f"
             ],
             [
              0.2222222222222222,
              "#7201a8"
             ],
             [
              0.3333333333333333,
              "#9c179e"
             ],
             [
              0.4444444444444444,
              "#bd3786"
             ],
             [
              0.5555555555555556,
              "#d8576b"
             ],
             [
              0.6666666666666666,
              "#ed7953"
             ],
             [
              0.7777777777777778,
              "#fb9f3a"
             ],
             [
              0.8888888888888888,
              "#fdca26"
             ],
             [
              1,
              "#f0f921"
             ]
            ],
            "type": "histogram2d"
           }
          ],
          "histogram2dcontour": [
           {
            "colorbar": {
             "outlinewidth": 0,
             "ticks": ""
            },
            "colorscale": [
             [
              0,
              "#0d0887"
             ],
             [
              0.1111111111111111,
              "#46039f"
             ],
             [
              0.2222222222222222,
              "#7201a8"
             ],
             [
              0.3333333333333333,
              "#9c179e"
             ],
             [
              0.4444444444444444,
              "#bd3786"
             ],
             [
              0.5555555555555556,
              "#d8576b"
             ],
             [
              0.6666666666666666,
              "#ed7953"
             ],
             [
              0.7777777777777778,
              "#fb9f3a"
             ],
             [
              0.8888888888888888,
              "#fdca26"
             ],
             [
              1,
              "#f0f921"
             ]
            ],
            "type": "histogram2dcontour"
           }
          ],
          "mesh3d": [
           {
            "colorbar": {
             "outlinewidth": 0,
             "ticks": ""
            },
            "type": "mesh3d"
           }
          ],
          "parcoords": [
           {
            "line": {
             "colorbar": {
              "outlinewidth": 0,
              "ticks": ""
             }
            },
            "type": "parcoords"
           }
          ],
          "pie": [
           {
            "automargin": true,
            "type": "pie"
           }
          ],
          "scatter": [
           {
            "fillpattern": {
             "fillmode": "overlay",
             "size": 10,
             "solidity": 0.2
            },
            "type": "scatter"
           }
          ],
          "scatter3d": [
           {
            "line": {
             "colorbar": {
              "outlinewidth": 0,
              "ticks": ""
             }
            },
            "marker": {
             "colorbar": {
              "outlinewidth": 0,
              "ticks": ""
             }
            },
            "type": "scatter3d"
           }
          ],
          "scattercarpet": [
           {
            "marker": {
             "colorbar": {
              "outlinewidth": 0,
              "ticks": ""
             }
            },
            "type": "scattercarpet"
           }
          ],
          "scattergeo": [
           {
            "marker": {
             "colorbar": {
              "outlinewidth": 0,
              "ticks": ""
             }
            },
            "type": "scattergeo"
           }
          ],
          "scattergl": [
           {
            "marker": {
             "colorbar": {
              "outlinewidth": 0,
              "ticks": ""
             }
            },
            "type": "scattergl"
           }
          ],
          "scattermapbox": [
           {
            "marker": {
             "colorbar": {
              "outlinewidth": 0,
              "ticks": ""
             }
            },
            "type": "scattermapbox"
           }
          ],
          "scatterpolar": [
           {
            "marker": {
             "colorbar": {
              "outlinewidth": 0,
              "ticks": ""
             }
            },
            "type": "scatterpolar"
           }
          ],
          "scatterpolargl": [
           {
            "marker": {
             "colorbar": {
              "outlinewidth": 0,
              "ticks": ""
             }
            },
            "type": "scatterpolargl"
           }
          ],
          "scatterternary": [
           {
            "marker": {
             "colorbar": {
              "outlinewidth": 0,
              "ticks": ""
             }
            },
            "type": "scatterternary"
           }
          ],
          "surface": [
           {
            "colorbar": {
             "outlinewidth": 0,
             "ticks": ""
            },
            "colorscale": [
             [
              0,
              "#0d0887"
             ],
             [
              0.1111111111111111,
              "#46039f"
             ],
             [
              0.2222222222222222,
              "#7201a8"
             ],
             [
              0.3333333333333333,
              "#9c179e"
             ],
             [
              0.4444444444444444,
              "#bd3786"
             ],
             [
              0.5555555555555556,
              "#d8576b"
             ],
             [
              0.6666666666666666,
              "#ed7953"
             ],
             [
              0.7777777777777778,
              "#fb9f3a"
             ],
             [
              0.8888888888888888,
              "#fdca26"
             ],
             [
              1,
              "#f0f921"
             ]
            ],
            "type": "surface"
           }
          ],
          "table": [
           {
            "cells": {
             "fill": {
              "color": "#EBF0F8"
             },
             "line": {
              "color": "white"
             }
            },
            "header": {
             "fill": {
              "color": "#C8D4E3"
             },
             "line": {
              "color": "white"
             }
            },
            "type": "table"
           }
          ]
         },
         "layout": {
          "annotationdefaults": {
           "arrowcolor": "#2a3f5f",
           "arrowhead": 0,
           "arrowwidth": 1
          },
          "autotypenumbers": "strict",
          "coloraxis": {
           "colorbar": {
            "outlinewidth": 0,
            "ticks": ""
           }
          },
          "colorscale": {
           "diverging": [
            [
             0,
             "#8e0152"
            ],
            [
             0.1,
             "#c51b7d"
            ],
            [
             0.2,
             "#de77ae"
            ],
            [
             0.3,
             "#f1b6da"
            ],
            [
             0.4,
             "#fde0ef"
            ],
            [
             0.5,
             "#f7f7f7"
            ],
            [
             0.6,
             "#e6f5d0"
            ],
            [
             0.7,
             "#b8e186"
            ],
            [
             0.8,
             "#7fbc41"
            ],
            [
             0.9,
             "#4d9221"
            ],
            [
             1,
             "#276419"
            ]
           ],
           "sequential": [
            [
             0,
             "#0d0887"
            ],
            [
             0.1111111111111111,
             "#46039f"
            ],
            [
             0.2222222222222222,
             "#7201a8"
            ],
            [
             0.3333333333333333,
             "#9c179e"
            ],
            [
             0.4444444444444444,
             "#bd3786"
            ],
            [
             0.5555555555555556,
             "#d8576b"
            ],
            [
             0.6666666666666666,
             "#ed7953"
            ],
            [
             0.7777777777777778,
             "#fb9f3a"
            ],
            [
             0.8888888888888888,
             "#fdca26"
            ],
            [
             1,
             "#f0f921"
            ]
           ],
           "sequentialminus": [
            [
             0,
             "#0d0887"
            ],
            [
             0.1111111111111111,
             "#46039f"
            ],
            [
             0.2222222222222222,
             "#7201a8"
            ],
            [
             0.3333333333333333,
             "#9c179e"
            ],
            [
             0.4444444444444444,
             "#bd3786"
            ],
            [
             0.5555555555555556,
             "#d8576b"
            ],
            [
             0.6666666666666666,
             "#ed7953"
            ],
            [
             0.7777777777777778,
             "#fb9f3a"
            ],
            [
             0.8888888888888888,
             "#fdca26"
            ],
            [
             1,
             "#f0f921"
            ]
           ]
          },
          "colorway": [
           "#636efa",
           "#EF553B",
           "#00cc96",
           "#ab63fa",
           "#FFA15A",
           "#19d3f3",
           "#FF6692",
           "#B6E880",
           "#FF97FF",
           "#FECB52"
          ],
          "font": {
           "color": "#2a3f5f"
          },
          "geo": {
           "bgcolor": "white",
           "lakecolor": "white",
           "landcolor": "#E5ECF6",
           "showlakes": true,
           "showland": true,
           "subunitcolor": "white"
          },
          "hoverlabel": {
           "align": "left"
          },
          "hovermode": "closest",
          "mapbox": {
           "style": "light"
          },
          "paper_bgcolor": "white",
          "plot_bgcolor": "#E5ECF6",
          "polar": {
           "angularaxis": {
            "gridcolor": "white",
            "linecolor": "white",
            "ticks": ""
           },
           "bgcolor": "#E5ECF6",
           "radialaxis": {
            "gridcolor": "white",
            "linecolor": "white",
            "ticks": ""
           }
          },
          "scene": {
           "xaxis": {
            "backgroundcolor": "#E5ECF6",
            "gridcolor": "white",
            "gridwidth": 2,
            "linecolor": "white",
            "showbackground": true,
            "ticks": "",
            "zerolinecolor": "white"
           },
           "yaxis": {
            "backgroundcolor": "#E5ECF6",
            "gridcolor": "white",
            "gridwidth": 2,
            "linecolor": "white",
            "showbackground": true,
            "ticks": "",
            "zerolinecolor": "white"
           },
           "zaxis": {
            "backgroundcolor": "#E5ECF6",
            "gridcolor": "white",
            "gridwidth": 2,
            "linecolor": "white",
            "showbackground": true,
            "ticks": "",
            "zerolinecolor": "white"
           }
          },
          "shapedefaults": {
           "line": {
            "color": "#2a3f5f"
           }
          },
          "ternary": {
           "aaxis": {
            "gridcolor": "white",
            "linecolor": "white",
            "ticks": ""
           },
           "baxis": {
            "gridcolor": "white",
            "linecolor": "white",
            "ticks": ""
           },
           "bgcolor": "#E5ECF6",
           "caxis": {
            "gridcolor": "white",
            "linecolor": "white",
            "ticks": ""
           }
          },
          "title": {
           "x": 0.05
          },
          "xaxis": {
           "automargin": true,
           "gridcolor": "white",
           "linecolor": "white",
           "ticks": "",
           "title": {
            "standoff": 15
           },
           "zerolinecolor": "white",
           "zerolinewidth": 2
          },
          "yaxis": {
           "automargin": true,
           "gridcolor": "white",
           "linecolor": "white",
           "ticks": "",
           "title": {
            "standoff": 15
           },
           "zerolinecolor": "white",
           "zerolinewidth": 2
          }
         }
        },
        "title": {
         "text": "Series: 80 anos ou mais"
        },
        "xaxis": {
         "title": {
          "text": "Time"
         }
        },
        "yaxis": {
         "title": {
          "text": "Value"
         }
        }
       }
      }
     },
     "metadata": {},
     "output_type": "display_data"
    },
    {
     "data": {
      "application/vnd.plotly.v1+json": {
       "config": {
        "plotlyServerURL": "https://plot.ly"
       },
       "data": [
        {
         "hovertemplate": "<b>%{x|%Y-%m-%d}</b><br>Real: %{y:.2f}<extra></extra>",
         "mode": "markers",
         "name": "Real",
         "type": "scatter",
         "x": [
          "2016-03-31T00:00:00",
          "2016-06-30T00:00:00",
          "2016-09-30T00:00:00",
          "2016-12-31T00:00:00",
          "2017-03-31T00:00:00",
          "2017-06-30T00:00:00",
          "2017-09-30T00:00:00",
          "2017-12-31T00:00:00",
          "2018-03-31T00:00:00",
          "2018-06-30T00:00:00",
          "2018-09-30T00:00:00",
          "2018-12-31T00:00:00",
          "2019-03-31T00:00:00",
          "2019-06-30T00:00:00",
          "2019-09-30T00:00:00",
          "2019-12-31T00:00:00",
          "2020-03-31T00:00:00",
          "2020-06-30T00:00:00",
          "2020-09-30T00:00:00",
          "2020-12-31T00:00:00",
          "2021-03-31T00:00:00",
          "2021-06-30T00:00:00",
          "2021-09-30T00:00:00",
          "2021-12-31T00:00:00",
          "2022-03-31T00:00:00",
          "2022-06-30T00:00:00"
         ],
         "y": [
          0,
          0,
          5600,
          5285,
          0,
          0,
          0,
          0,
          0,
          0,
          0,
          0,
          0,
          0,
          0,
          0,
          0,
          0,
          0,
          0,
          0,
          3,
          0,
          0,
          0,
          0
         ]
        },
        {
         "error_y": {
          "array": [
           87.13678750716535,
           87.13678750716535,
           87.13678750716535,
           87.13678750716535,
           87.13678750716535,
           87.13678750716535,
           87.13678750716535,
           87.13678750716535,
           87.13678750716535,
           87.13678750716535,
           87.13678750716535,
           87.13678750716535,
           87.13678750716535,
           87.13678750716535,
           87.13678750716535,
           87.13678750716535,
           87.13678750716535,
           87.13678750716535,
           87.13678750716535,
           87.13678750716535,
           87.13678750716535,
           87.13678750716535,
           87.13678750716535,
           87.13678750716535,
           87.13678750716535,
           87.13678750716535
          ],
          "thickness": 1.5,
          "type": "data",
          "visible": true,
          "width": 6
         },
         "hovertemplate": "<b>%{x|%Y-%m-%d}</b><br>Total: %{y:.2f}<extra></extra>",
         "mode": "lines+markers",
         "name": "Total",
         "type": "scatter",
         "x": [
          "2016-03-31T00:00:00",
          "2016-06-30T00:00:00",
          "2016-09-30T00:00:00",
          "2016-12-31T00:00:00",
          "2017-03-31T00:00:00",
          "2017-06-30T00:00:00",
          "2017-09-30T00:00:00",
          "2017-12-31T00:00:00",
          "2018-03-31T00:00:00",
          "2018-06-30T00:00:00",
          "2018-09-30T00:00:00",
          "2018-12-31T00:00:00",
          "2019-03-31T00:00:00",
          "2019-06-30T00:00:00",
          "2019-09-30T00:00:00",
          "2019-12-31T00:00:00",
          "2020-03-31T00:00:00",
          "2020-06-30T00:00:00",
          "2020-09-30T00:00:00",
          "2020-12-31T00:00:00",
          "2021-03-31T00:00:00",
          "2021-06-30T00:00:00",
          "2021-09-30T00:00:00",
          "2021-12-31T00:00:00",
          "2022-03-31T00:00:00",
          "2022-06-30T00:00:00"
         ],
         "y": [
          2292.9475451402986,
          2106.9732457933883,
          1920.9989464464784,
          1735.0246470995683,
          1549.0503477526581,
          1363.0760484057482,
          1177.101749058838,
          991.127449711928,
          805.1531503650178,
          619.1788510181077,
          433.2045516711978,
          247.2302523242879,
          61.25595297737755,
          -124.71834636953236,
          -310.6926457164427,
          -496.6669450633526,
          -682.6412444102625,
          -868.6155437571729,
          -1054.5898431040828,
          -1240.5641424509931,
          -1426.538441797903,
          -1612.512741144813,
          -1798.4870404917228,
          -1984.4613398386327,
          -2170.4356391855436,
          -2356.4099385324535
         ]
        }
       ],
       "layout": {
        "legend": {
         "title": {
          "text": "Legend"
         }
        },
        "shapes": [
         {
          "fillcolor": "LightSalmon",
          "layer": "below",
          "line": {
           "width": 0
          },
          "opacity": 0.3,
          "type": "rect",
          "x0": "2020-03-31T00:00:00",
          "x1": "2020-12-31T00:00:00",
          "xref": "x",
          "y0": 0,
          "y1": 1,
          "yref": "paper"
         }
        ],
        "template": {
         "data": {
          "bar": [
           {
            "error_x": {
             "color": "#2a3f5f"
            },
            "error_y": {
             "color": "#2a3f5f"
            },
            "marker": {
             "line": {
              "color": "#E5ECF6",
              "width": 0.5
             },
             "pattern": {
              "fillmode": "overlay",
              "size": 10,
              "solidity": 0.2
             }
            },
            "type": "bar"
           }
          ],
          "barpolar": [
           {
            "marker": {
             "line": {
              "color": "#E5ECF6",
              "width": 0.5
             },
             "pattern": {
              "fillmode": "overlay",
              "size": 10,
              "solidity": 0.2
             }
            },
            "type": "barpolar"
           }
          ],
          "carpet": [
           {
            "aaxis": {
             "endlinecolor": "#2a3f5f",
             "gridcolor": "white",
             "linecolor": "white",
             "minorgridcolor": "white",
             "startlinecolor": "#2a3f5f"
            },
            "baxis": {
             "endlinecolor": "#2a3f5f",
             "gridcolor": "white",
             "linecolor": "white",
             "minorgridcolor": "white",
             "startlinecolor": "#2a3f5f"
            },
            "type": "carpet"
           }
          ],
          "choropleth": [
           {
            "colorbar": {
             "outlinewidth": 0,
             "ticks": ""
            },
            "type": "choropleth"
           }
          ],
          "contour": [
           {
            "colorbar": {
             "outlinewidth": 0,
             "ticks": ""
            },
            "colorscale": [
             [
              0,
              "#0d0887"
             ],
             [
              0.1111111111111111,
              "#46039f"
             ],
             [
              0.2222222222222222,
              "#7201a8"
             ],
             [
              0.3333333333333333,
              "#9c179e"
             ],
             [
              0.4444444444444444,
              "#bd3786"
             ],
             [
              0.5555555555555556,
              "#d8576b"
             ],
             [
              0.6666666666666666,
              "#ed7953"
             ],
             [
              0.7777777777777778,
              "#fb9f3a"
             ],
             [
              0.8888888888888888,
              "#fdca26"
             ],
             [
              1,
              "#f0f921"
             ]
            ],
            "type": "contour"
           }
          ],
          "contourcarpet": [
           {
            "colorbar": {
             "outlinewidth": 0,
             "ticks": ""
            },
            "type": "contourcarpet"
           }
          ],
          "heatmap": [
           {
            "colorbar": {
             "outlinewidth": 0,
             "ticks": ""
            },
            "colorscale": [
             [
              0,
              "#0d0887"
             ],
             [
              0.1111111111111111,
              "#46039f"
             ],
             [
              0.2222222222222222,
              "#7201a8"
             ],
             [
              0.3333333333333333,
              "#9c179e"
             ],
             [
              0.4444444444444444,
              "#bd3786"
             ],
             [
              0.5555555555555556,
              "#d8576b"
             ],
             [
              0.6666666666666666,
              "#ed7953"
             ],
             [
              0.7777777777777778,
              "#fb9f3a"
             ],
             [
              0.8888888888888888,
              "#fdca26"
             ],
             [
              1,
              "#f0f921"
             ]
            ],
            "type": "heatmap"
           }
          ],
          "heatmapgl": [
           {
            "colorbar": {
             "outlinewidth": 0,
             "ticks": ""
            },
            "colorscale": [
             [
              0,
              "#0d0887"
             ],
             [
              0.1111111111111111,
              "#46039f"
             ],
             [
              0.2222222222222222,
              "#7201a8"
             ],
             [
              0.3333333333333333,
              "#9c179e"
             ],
             [
              0.4444444444444444,
              "#bd3786"
             ],
             [
              0.5555555555555556,
              "#d8576b"
             ],
             [
              0.6666666666666666,
              "#ed7953"
             ],
             [
              0.7777777777777778,
              "#fb9f3a"
             ],
             [
              0.8888888888888888,
              "#fdca26"
             ],
             [
              1,
              "#f0f921"
             ]
            ],
            "type": "heatmapgl"
           }
          ],
          "histogram": [
           {
            "marker": {
             "pattern": {
              "fillmode": "overlay",
              "size": 10,
              "solidity": 0.2
             }
            },
            "type": "histogram"
           }
          ],
          "histogram2d": [
           {
            "colorbar": {
             "outlinewidth": 0,
             "ticks": ""
            },
            "colorscale": [
             [
              0,
              "#0d0887"
             ],
             [
              0.1111111111111111,
              "#46039f"
             ],
             [
              0.2222222222222222,
              "#7201a8"
             ],
             [
              0.3333333333333333,
              "#9c179e"
             ],
             [
              0.4444444444444444,
              "#bd3786"
             ],
             [
              0.5555555555555556,
              "#d8576b"
             ],
             [
              0.6666666666666666,
              "#ed7953"
             ],
             [
              0.7777777777777778,
              "#fb9f3a"
             ],
             [
              0.8888888888888888,
              "#fdca26"
             ],
             [
              1,
              "#f0f921"
             ]
            ],
            "type": "histogram2d"
           }
          ],
          "histogram2dcontour": [
           {
            "colorbar": {
             "outlinewidth": 0,
             "ticks": ""
            },
            "colorscale": [
             [
              0,
              "#0d0887"
             ],
             [
              0.1111111111111111,
              "#46039f"
             ],
             [
              0.2222222222222222,
              "#7201a8"
             ],
             [
              0.3333333333333333,
              "#9c179e"
             ],
             [
              0.4444444444444444,
              "#bd3786"
             ],
             [
              0.5555555555555556,
              "#d8576b"
             ],
             [
              0.6666666666666666,
              "#ed7953"
             ],
             [
              0.7777777777777778,
              "#fb9f3a"
             ],
             [
              0.8888888888888888,
              "#fdca26"
             ],
             [
              1,
              "#f0f921"
             ]
            ],
            "type": "histogram2dcontour"
           }
          ],
          "mesh3d": [
           {
            "colorbar": {
             "outlinewidth": 0,
             "ticks": ""
            },
            "type": "mesh3d"
           }
          ],
          "parcoords": [
           {
            "line": {
             "colorbar": {
              "outlinewidth": 0,
              "ticks": ""
             }
            },
            "type": "parcoords"
           }
          ],
          "pie": [
           {
            "automargin": true,
            "type": "pie"
           }
          ],
          "scatter": [
           {
            "fillpattern": {
             "fillmode": "overlay",
             "size": 10,
             "solidity": 0.2
            },
            "type": "scatter"
           }
          ],
          "scatter3d": [
           {
            "line": {
             "colorbar": {
              "outlinewidth": 0,
              "ticks": ""
             }
            },
            "marker": {
             "colorbar": {
              "outlinewidth": 0,
              "ticks": ""
             }
            },
            "type": "scatter3d"
           }
          ],
          "scattercarpet": [
           {
            "marker": {
             "colorbar": {
              "outlinewidth": 0,
              "ticks": ""
             }
            },
            "type": "scattercarpet"
           }
          ],
          "scattergeo": [
           {
            "marker": {
             "colorbar": {
              "outlinewidth": 0,
              "ticks": ""
             }
            },
            "type": "scattergeo"
           }
          ],
          "scattergl": [
           {
            "marker": {
             "colorbar": {
              "outlinewidth": 0,
              "ticks": ""
             }
            },
            "type": "scattergl"
           }
          ],
          "scattermapbox": [
           {
            "marker": {
             "colorbar": {
              "outlinewidth": 0,
              "ticks": ""
             }
            },
            "type": "scattermapbox"
           }
          ],
          "scatterpolar": [
           {
            "marker": {
             "colorbar": {
              "outlinewidth": 0,
              "ticks": ""
             }
            },
            "type": "scatterpolar"
           }
          ],
          "scatterpolargl": [
           {
            "marker": {
             "colorbar": {
              "outlinewidth": 0,
              "ticks": ""
             }
            },
            "type": "scatterpolargl"
           }
          ],
          "scatterternary": [
           {
            "marker": {
             "colorbar": {
              "outlinewidth": 0,
              "ticks": ""
             }
            },
            "type": "scatterternary"
           }
          ],
          "surface": [
           {
            "colorbar": {
             "outlinewidth": 0,
             "ticks": ""
            },
            "colorscale": [
             [
              0,
              "#0d0887"
             ],
             [
              0.1111111111111111,
              "#46039f"
             ],
             [
              0.2222222222222222,
              "#7201a8"
             ],
             [
              0.3333333333333333,
              "#9c179e"
             ],
             [
              0.4444444444444444,
              "#bd3786"
             ],
             [
              0.5555555555555556,
              "#d8576b"
             ],
             [
              0.6666666666666666,
              "#ed7953"
             ],
             [
              0.7777777777777778,
              "#fb9f3a"
             ],
             [
              0.8888888888888888,
              "#fdca26"
             ],
             [
              1,
              "#f0f921"
             ]
            ],
            "type": "surface"
           }
          ],
          "table": [
           {
            "cells": {
             "fill": {
              "color": "#EBF0F8"
             },
             "line": {
              "color": "white"
             }
            },
            "header": {
             "fill": {
              "color": "#C8D4E3"
             },
             "line": {
              "color": "white"
             }
            },
            "type": "table"
           }
          ]
         },
         "layout": {
          "annotationdefaults": {
           "arrowcolor": "#2a3f5f",
           "arrowhead": 0,
           "arrowwidth": 1
          },
          "autotypenumbers": "strict",
          "coloraxis": {
           "colorbar": {
            "outlinewidth": 0,
            "ticks": ""
           }
          },
          "colorscale": {
           "diverging": [
            [
             0,
             "#8e0152"
            ],
            [
             0.1,
             "#c51b7d"
            ],
            [
             0.2,
             "#de77ae"
            ],
            [
             0.3,
             "#f1b6da"
            ],
            [
             0.4,
             "#fde0ef"
            ],
            [
             0.5,
             "#f7f7f7"
            ],
            [
             0.6,
             "#e6f5d0"
            ],
            [
             0.7,
             "#b8e186"
            ],
            [
             0.8,
             "#7fbc41"
            ],
            [
             0.9,
             "#4d9221"
            ],
            [
             1,
             "#276419"
            ]
           ],
           "sequential": [
            [
             0,
             "#0d0887"
            ],
            [
             0.1111111111111111,
             "#46039f"
            ],
            [
             0.2222222222222222,
             "#7201a8"
            ],
            [
             0.3333333333333333,
             "#9c179e"
            ],
            [
             0.4444444444444444,
             "#bd3786"
            ],
            [
             0.5555555555555556,
             "#d8576b"
            ],
            [
             0.6666666666666666,
             "#ed7953"
            ],
            [
             0.7777777777777778,
             "#fb9f3a"
            ],
            [
             0.8888888888888888,
             "#fdca26"
            ],
            [
             1,
             "#f0f921"
            ]
           ],
           "sequentialminus": [
            [
             0,
             "#0d0887"
            ],
            [
             0.1111111111111111,
             "#46039f"
            ],
            [
             0.2222222222222222,
             "#7201a8"
            ],
            [
             0.3333333333333333,
             "#9c179e"
            ],
            [
             0.4444444444444444,
             "#bd3786"
            ],
            [
             0.5555555555555556,
             "#d8576b"
            ],
            [
             0.6666666666666666,
             "#ed7953"
            ],
            [
             0.7777777777777778,
             "#fb9f3a"
            ],
            [
             0.8888888888888888,
             "#fdca26"
            ],
            [
             1,
             "#f0f921"
            ]
           ]
          },
          "colorway": [
           "#636efa",
           "#EF553B",
           "#00cc96",
           "#ab63fa",
           "#FFA15A",
           "#19d3f3",
           "#FF6692",
           "#B6E880",
           "#FF97FF",
           "#FECB52"
          ],
          "font": {
           "color": "#2a3f5f"
          },
          "geo": {
           "bgcolor": "white",
           "lakecolor": "white",
           "landcolor": "#E5ECF6",
           "showlakes": true,
           "showland": true,
           "subunitcolor": "white"
          },
          "hoverlabel": {
           "align": "left"
          },
          "hovermode": "closest",
          "mapbox": {
           "style": "light"
          },
          "paper_bgcolor": "white",
          "plot_bgcolor": "#E5ECF6",
          "polar": {
           "angularaxis": {
            "gridcolor": "white",
            "linecolor": "white",
            "ticks": ""
           },
           "bgcolor": "#E5ECF6",
           "radialaxis": {
            "gridcolor": "white",
            "linecolor": "white",
            "ticks": ""
           }
          },
          "scene": {
           "xaxis": {
            "backgroundcolor": "#E5ECF6",
            "gridcolor": "white",
            "gridwidth": 2,
            "linecolor": "white",
            "showbackground": true,
            "ticks": "",
            "zerolinecolor": "white"
           },
           "yaxis": {
            "backgroundcolor": "#E5ECF6",
            "gridcolor": "white",
            "gridwidth": 2,
            "linecolor": "white",
            "showbackground": true,
            "ticks": "",
            "zerolinecolor": "white"
           },
           "zaxis": {
            "backgroundcolor": "#E5ECF6",
            "gridcolor": "white",
            "gridwidth": 2,
            "linecolor": "white",
            "showbackground": true,
            "ticks": "",
            "zerolinecolor": "white"
           }
          },
          "shapedefaults": {
           "line": {
            "color": "#2a3f5f"
           }
          },
          "ternary": {
           "aaxis": {
            "gridcolor": "white",
            "linecolor": "white",
            "ticks": ""
           },
           "baxis": {
            "gridcolor": "white",
            "linecolor": "white",
            "ticks": ""
           },
           "bgcolor": "#E5ECF6",
           "caxis": {
            "gridcolor": "white",
            "linecolor": "white",
            "ticks": ""
           }
          },
          "title": {
           "x": 0.05
          },
          "xaxis": {
           "automargin": true,
           "gridcolor": "white",
           "linecolor": "white",
           "ticks": "",
           "title": {
            "standoff": 15
           },
           "zerolinecolor": "white",
           "zerolinewidth": 2
          },
          "yaxis": {
           "automargin": true,
           "gridcolor": "white",
           "linecolor": "white",
           "ticks": "",
           "title": {
            "standoff": 15
           },
           "zerolinecolor": "white",
           "zerolinewidth": 2
          }
         }
        },
        "title": {
         "text": "Series: Faixa Etaria Nao determinada"
        },
        "xaxis": {
         "title": {
          "text": "Time"
         }
        },
        "yaxis": {
         "title": {
          "text": "Value"
         }
        }
       }
      }
     },
     "metadata": {},
     "output_type": "display_data"
    },
    {
     "data": {
      "application/vnd.plotly.v1+json": {
       "config": {
        "plotlyServerURL": "https://plot.ly"
       },
       "data": [
        {
         "hovertemplate": "<b>%{x|%Y-%m-%d}</b><br>Real: %{y:.2f}<extra></extra>",
         "mode": "markers",
         "name": "Real",
         "type": "scatter",
         "x": [
          "2016-03-31T00:00:00",
          "2016-06-30T00:00:00",
          "2016-09-30T00:00:00",
          "2016-12-31T00:00:00",
          "2017-03-31T00:00:00",
          "2017-06-30T00:00:00",
          "2017-09-30T00:00:00",
          "2017-12-31T00:00:00",
          "2018-03-31T00:00:00",
          "2018-06-30T00:00:00",
          "2018-09-30T00:00:00",
          "2018-12-31T00:00:00",
          "2019-03-31T00:00:00",
          "2019-06-30T00:00:00",
          "2019-09-30T00:00:00",
          "2019-12-31T00:00:00",
          "2020-03-31T00:00:00",
          "2020-06-30T00:00:00",
          "2020-09-30T00:00:00",
          "2020-12-31T00:00:00",
          "2021-03-31T00:00:00",
          "2021-06-30T00:00:00",
          "2021-09-30T00:00:00",
          "2021-12-31T00:00:00",
          "2022-03-31T00:00:00",
          "2022-06-30T00:00:00"
         ],
         "y": [
          10802,
          13765,
          14212,
          13404,
          13604,
          14568,
          14278,
          13347,
          13142,
          14748,
          14167,
          14683,
          13703,
          15196,
          14963,
          13224,
          11634,
          10954,
          13536,
          15954,
          14074,
          16381,
          18216,
          17410,
          13943,
          16450
         ]
        },
        {
         "error_y": {
          "array": [
           23.64525756550726,
           23.64525756550726,
           23.64525756550726,
           23.64525756550726,
           23.64525756550726,
           23.64525756550726,
           23.64525756550726,
           23.64525756550726,
           23.64525756550726,
           23.64525756550726,
           23.64525756550726,
           23.64525756550726,
           23.64525756550726,
           23.64525756550726,
           23.64525756550726,
           23.64525756550726,
           23.64525756550726,
           23.64525756550726,
           23.64525756550726,
           23.64525756550726,
           23.64525756550726,
           23.64525756550726,
           23.64525756550726,
           23.64525756550726,
           23.64525756550726,
           23.64525756550726
          ],
          "thickness": 1.5,
          "type": "data",
          "visible": true,
          "width": 6
         },
         "hovertemplate": "<b>%{x|%Y-%m-%d}</b><br>Total: %{y:.2f}<extra></extra>",
         "mode": "lines+markers",
         "name": "Total",
         "type": "scatter",
         "x": [
          "2016-03-31T00:00:00",
          "2016-06-30T00:00:00",
          "2016-09-30T00:00:00",
          "2016-12-31T00:00:00",
          "2017-03-31T00:00:00",
          "2017-06-30T00:00:00",
          "2017-09-30T00:00:00",
          "2017-12-31T00:00:00",
          "2018-03-31T00:00:00",
          "2018-06-30T00:00:00",
          "2018-09-30T00:00:00",
          "2018-12-31T00:00:00",
          "2019-03-31T00:00:00",
          "2019-06-30T00:00:00",
          "2019-09-30T00:00:00",
          "2019-12-31T00:00:00",
          "2020-03-31T00:00:00",
          "2020-06-30T00:00:00",
          "2020-09-30T00:00:00",
          "2020-12-31T00:00:00",
          "2021-03-31T00:00:00",
          "2021-06-30T00:00:00",
          "2021-09-30T00:00:00",
          "2021-12-31T00:00:00",
          "2022-03-31T00:00:00",
          "2022-06-30T00:00:00"
         ],
         "y": [
          13452.345371378531,
          13528.45584821055,
          13604.56632504257,
          13680.67680187459,
          13756.787278706608,
          13832.897755538628,
          13909.008232370648,
          13985.118709202668,
          14061.229186034687,
          14137.339662866707,
          14213.450139698727,
          14289.560616530745,
          14365.671093362766,
          14441.781570194786,
          14517.892047026804,
          14594.002523858824,
          14670.113000690844,
          14746.223477522864,
          14822.333954354883,
          14898.444431186903,
          14974.554908018923,
          15050.665384850941,
          15126.775861682961,
          15202.886338514982,
          15278.996815347,
          15355.10729217902
         ]
        }
       ],
       "layout": {
        "legend": {
         "title": {
          "text": "Legend"
         }
        },
        "shapes": [
         {
          "fillcolor": "LightSalmon",
          "layer": "below",
          "line": {
           "width": 0
          },
          "opacity": 0.3,
          "type": "rect",
          "x0": "2020-03-31T00:00:00",
          "x1": "2020-12-31T00:00:00",
          "xref": "x",
          "y0": 0,
          "y1": 1,
          "yref": "paper"
         }
        ],
        "template": {
         "data": {
          "bar": [
           {
            "error_x": {
             "color": "#2a3f5f"
            },
            "error_y": {
             "color": "#2a3f5f"
            },
            "marker": {
             "line": {
              "color": "#E5ECF6",
              "width": 0.5
             },
             "pattern": {
              "fillmode": "overlay",
              "size": 10,
              "solidity": 0.2
             }
            },
            "type": "bar"
           }
          ],
          "barpolar": [
           {
            "marker": {
             "line": {
              "color": "#E5ECF6",
              "width": 0.5
             },
             "pattern": {
              "fillmode": "overlay",
              "size": 10,
              "solidity": 0.2
             }
            },
            "type": "barpolar"
           }
          ],
          "carpet": [
           {
            "aaxis": {
             "endlinecolor": "#2a3f5f",
             "gridcolor": "white",
             "linecolor": "white",
             "minorgridcolor": "white",
             "startlinecolor": "#2a3f5f"
            },
            "baxis": {
             "endlinecolor": "#2a3f5f",
             "gridcolor": "white",
             "linecolor": "white",
             "minorgridcolor": "white",
             "startlinecolor": "#2a3f5f"
            },
            "type": "carpet"
           }
          ],
          "choropleth": [
           {
            "colorbar": {
             "outlinewidth": 0,
             "ticks": ""
            },
            "type": "choropleth"
           }
          ],
          "contour": [
           {
            "colorbar": {
             "outlinewidth": 0,
             "ticks": ""
            },
            "colorscale": [
             [
              0,
              "#0d0887"
             ],
             [
              0.1111111111111111,
              "#46039f"
             ],
             [
              0.2222222222222222,
              "#7201a8"
             ],
             [
              0.3333333333333333,
              "#9c179e"
             ],
             [
              0.4444444444444444,
              "#bd3786"
             ],
             [
              0.5555555555555556,
              "#d8576b"
             ],
             [
              0.6666666666666666,
              "#ed7953"
             ],
             [
              0.7777777777777778,
              "#fb9f3a"
             ],
             [
              0.8888888888888888,
              "#fdca26"
             ],
             [
              1,
              "#f0f921"
             ]
            ],
            "type": "contour"
           }
          ],
          "contourcarpet": [
           {
            "colorbar": {
             "outlinewidth": 0,
             "ticks": ""
            },
            "type": "contourcarpet"
           }
          ],
          "heatmap": [
           {
            "colorbar": {
             "outlinewidth": 0,
             "ticks": ""
            },
            "colorscale": [
             [
              0,
              "#0d0887"
             ],
             [
              0.1111111111111111,
              "#46039f"
             ],
             [
              0.2222222222222222,
              "#7201a8"
             ],
             [
              0.3333333333333333,
              "#9c179e"
             ],
             [
              0.4444444444444444,
              "#bd3786"
             ],
             [
              0.5555555555555556,
              "#d8576b"
             ],
             [
              0.6666666666666666,
              "#ed7953"
             ],
             [
              0.7777777777777778,
              "#fb9f3a"
             ],
             [
              0.8888888888888888,
              "#fdca26"
             ],
             [
              1,
              "#f0f921"
             ]
            ],
            "type": "heatmap"
           }
          ],
          "heatmapgl": [
           {
            "colorbar": {
             "outlinewidth": 0,
             "ticks": ""
            },
            "colorscale": [
             [
              0,
              "#0d0887"
             ],
             [
              0.1111111111111111,
              "#46039f"
             ],
             [
              0.2222222222222222,
              "#7201a8"
             ],
             [
              0.3333333333333333,
              "#9c179e"
             ],
             [
              0.4444444444444444,
              "#bd3786"
             ],
             [
              0.5555555555555556,
              "#d8576b"
             ],
             [
              0.6666666666666666,
              "#ed7953"
             ],
             [
              0.7777777777777778,
              "#fb9f3a"
             ],
             [
              0.8888888888888888,
              "#fdca26"
             ],
             [
              1,
              "#f0f921"
             ]
            ],
            "type": "heatmapgl"
           }
          ],
          "histogram": [
           {
            "marker": {
             "pattern": {
              "fillmode": "overlay",
              "size": 10,
              "solidity": 0.2
             }
            },
            "type": "histogram"
           }
          ],
          "histogram2d": [
           {
            "colorbar": {
             "outlinewidth": 0,
             "ticks": ""
            },
            "colorscale": [
             [
              0,
              "#0d0887"
             ],
             [
              0.1111111111111111,
              "#46039f"
             ],
             [
              0.2222222222222222,
              "#7201a8"
             ],
             [
              0.3333333333333333,
              "#9c179e"
             ],
             [
              0.4444444444444444,
              "#bd3786"
             ],
             [
              0.5555555555555556,
              "#d8576b"
             ],
             [
              0.6666666666666666,
              "#ed7953"
             ],
             [
              0.7777777777777778,
              "#fb9f3a"
             ],
             [
              0.8888888888888888,
              "#fdca26"
             ],
             [
              1,
              "#f0f921"
             ]
            ],
            "type": "histogram2d"
           }
          ],
          "histogram2dcontour": [
           {
            "colorbar": {
             "outlinewidth": 0,
             "ticks": ""
            },
            "colorscale": [
             [
              0,
              "#0d0887"
             ],
             [
              0.1111111111111111,
              "#46039f"
             ],
             [
              0.2222222222222222,
              "#7201a8"
             ],
             [
              0.3333333333333333,
              "#9c179e"
             ],
             [
              0.4444444444444444,
              "#bd3786"
             ],
             [
              0.5555555555555556,
              "#d8576b"
             ],
             [
              0.6666666666666666,
              "#ed7953"
             ],
             [
              0.7777777777777778,
              "#fb9f3a"
             ],
             [
              0.8888888888888888,
              "#fdca26"
             ],
             [
              1,
              "#f0f921"
             ]
            ],
            "type": "histogram2dcontour"
           }
          ],
          "mesh3d": [
           {
            "colorbar": {
             "outlinewidth": 0,
             "ticks": ""
            },
            "type": "mesh3d"
           }
          ],
          "parcoords": [
           {
            "line": {
             "colorbar": {
              "outlinewidth": 0,
              "ticks": ""
             }
            },
            "type": "parcoords"
           }
          ],
          "pie": [
           {
            "automargin": true,
            "type": "pie"
           }
          ],
          "scatter": [
           {
            "fillpattern": {
             "fillmode": "overlay",
             "size": 10,
             "solidity": 0.2
            },
            "type": "scatter"
           }
          ],
          "scatter3d": [
           {
            "line": {
             "colorbar": {
              "outlinewidth": 0,
              "ticks": ""
             }
            },
            "marker": {
             "colorbar": {
              "outlinewidth": 0,
              "ticks": ""
             }
            },
            "type": "scatter3d"
           }
          ],
          "scattercarpet": [
           {
            "marker": {
             "colorbar": {
              "outlinewidth": 0,
              "ticks": ""
             }
            },
            "type": "scattercarpet"
           }
          ],
          "scattergeo": [
           {
            "marker": {
             "colorbar": {
              "outlinewidth": 0,
              "ticks": ""
             }
            },
            "type": "scattergeo"
           }
          ],
          "scattergl": [
           {
            "marker": {
             "colorbar": {
              "outlinewidth": 0,
              "ticks": ""
             }
            },
            "type": "scattergl"
           }
          ],
          "scattermapbox": [
           {
            "marker": {
             "colorbar": {
              "outlinewidth": 0,
              "ticks": ""
             }
            },
            "type": "scattermapbox"
           }
          ],
          "scatterpolar": [
           {
            "marker": {
             "colorbar": {
              "outlinewidth": 0,
              "ticks": ""
             }
            },
            "type": "scatterpolar"
           }
          ],
          "scatterpolargl": [
           {
            "marker": {
             "colorbar": {
              "outlinewidth": 0,
              "ticks": ""
             }
            },
            "type": "scatterpolargl"
           }
          ],
          "scatterternary": [
           {
            "marker": {
             "colorbar": {
              "outlinewidth": 0,
              "ticks": ""
             }
            },
            "type": "scatterternary"
           }
          ],
          "surface": [
           {
            "colorbar": {
             "outlinewidth": 0,
             "ticks": ""
            },
            "colorscale": [
             [
              0,
              "#0d0887"
             ],
             [
              0.1111111111111111,
              "#46039f"
             ],
             [
              0.2222222222222222,
              "#7201a8"
             ],
             [
              0.3333333333333333,
              "#9c179e"
             ],
             [
              0.4444444444444444,
              "#bd3786"
             ],
             [
              0.5555555555555556,
              "#d8576b"
             ],
             [
              0.6666666666666666,
              "#ed7953"
             ],
             [
              0.7777777777777778,
              "#fb9f3a"
             ],
             [
              0.8888888888888888,
              "#fdca26"
             ],
             [
              1,
              "#f0f921"
             ]
            ],
            "type": "surface"
           }
          ],
          "table": [
           {
            "cells": {
             "fill": {
              "color": "#EBF0F8"
             },
             "line": {
              "color": "white"
             }
            },
            "header": {
             "fill": {
              "color": "#C8D4E3"
             },
             "line": {
              "color": "white"
             }
            },
            "type": "table"
           }
          ]
         },
         "layout": {
          "annotationdefaults": {
           "arrowcolor": "#2a3f5f",
           "arrowhead": 0,
           "arrowwidth": 1
          },
          "autotypenumbers": "strict",
          "coloraxis": {
           "colorbar": {
            "outlinewidth": 0,
            "ticks": ""
           }
          },
          "colorscale": {
           "diverging": [
            [
             0,
             "#8e0152"
            ],
            [
             0.1,
             "#c51b7d"
            ],
            [
             0.2,
             "#de77ae"
            ],
            [
             0.3,
             "#f1b6da"
            ],
            [
             0.4,
             "#fde0ef"
            ],
            [
             0.5,
             "#f7f7f7"
            ],
            [
             0.6,
             "#e6f5d0"
            ],
            [
             0.7,
             "#b8e186"
            ],
            [
             0.8,
             "#7fbc41"
            ],
            [
             0.9,
             "#4d9221"
            ],
            [
             1,
             "#276419"
            ]
           ],
           "sequential": [
            [
             0,
             "#0d0887"
            ],
            [
             0.1111111111111111,
             "#46039f"
            ],
            [
             0.2222222222222222,
             "#7201a8"
            ],
            [
             0.3333333333333333,
             "#9c179e"
            ],
            [
             0.4444444444444444,
             "#bd3786"
            ],
            [
             0.5555555555555556,
             "#d8576b"
            ],
            [
             0.6666666666666666,
             "#ed7953"
            ],
            [
             0.7777777777777778,
             "#fb9f3a"
            ],
            [
             0.8888888888888888,
             "#fdca26"
            ],
            [
             1,
             "#f0f921"
            ]
           ],
           "sequentialminus": [
            [
             0,
             "#0d0887"
            ],
            [
             0.1111111111111111,
             "#46039f"
            ],
            [
             0.2222222222222222,
             "#7201a8"
            ],
            [
             0.3333333333333333,
             "#9c179e"
            ],
            [
             0.4444444444444444,
             "#bd3786"
            ],
            [
             0.5555555555555556,
             "#d8576b"
            ],
            [
             0.6666666666666666,
             "#ed7953"
            ],
            [
             0.7777777777777778,
             "#fb9f3a"
            ],
            [
             0.8888888888888888,
             "#fdca26"
            ],
            [
             1,
             "#f0f921"
            ]
           ]
          },
          "colorway": [
           "#636efa",
           "#EF553B",
           "#00cc96",
           "#ab63fa",
           "#FFA15A",
           "#19d3f3",
           "#FF6692",
           "#B6E880",
           "#FF97FF",
           "#FECB52"
          ],
          "font": {
           "color": "#2a3f5f"
          },
          "geo": {
           "bgcolor": "white",
           "lakecolor": "white",
           "landcolor": "#E5ECF6",
           "showlakes": true,
           "showland": true,
           "subunitcolor": "white"
          },
          "hoverlabel": {
           "align": "left"
          },
          "hovermode": "closest",
          "mapbox": {
           "style": "light"
          },
          "paper_bgcolor": "white",
          "plot_bgcolor": "#E5ECF6",
          "polar": {
           "angularaxis": {
            "gridcolor": "white",
            "linecolor": "white",
            "ticks": ""
           },
           "bgcolor": "#E5ECF6",
           "radialaxis": {
            "gridcolor": "white",
            "linecolor": "white",
            "ticks": ""
           }
          },
          "scene": {
           "xaxis": {
            "backgroundcolor": "#E5ECF6",
            "gridcolor": "white",
            "gridwidth": 2,
            "linecolor": "white",
            "showbackground": true,
            "ticks": "",
            "zerolinecolor": "white"
           },
           "yaxis": {
            "backgroundcolor": "#E5ECF6",
            "gridcolor": "white",
            "gridwidth": 2,
            "linecolor": "white",
            "showbackground": true,
            "ticks": "",
            "zerolinecolor": "white"
           },
           "zaxis": {
            "backgroundcolor": "#E5ECF6",
            "gridcolor": "white",
            "gridwidth": 2,
            "linecolor": "white",
            "showbackground": true,
            "ticks": "",
            "zerolinecolor": "white"
           }
          },
          "shapedefaults": {
           "line": {
            "color": "#2a3f5f"
           }
          },
          "ternary": {
           "aaxis": {
            "gridcolor": "white",
            "linecolor": "white",
            "ticks": ""
           },
           "baxis": {
            "gridcolor": "white",
            "linecolor": "white",
            "ticks": ""
           },
           "bgcolor": "#E5ECF6",
           "caxis": {
            "gridcolor": "white",
            "linecolor": "white",
            "ticks": ""
           }
          },
          "title": {
           "x": 0.05
          },
          "xaxis": {
           "automargin": true,
           "gridcolor": "white",
           "linecolor": "white",
           "ticks": "",
           "title": {
            "standoff": 15
           },
           "zerolinecolor": "white",
           "zerolinewidth": 2
          },
          "yaxis": {
           "automargin": true,
           "gridcolor": "white",
           "linecolor": "white",
           "ticks": "",
           "title": {
            "standoff": 15
           },
           "zerolinecolor": "white",
           "zerolinewidth": 2
          }
         }
        },
        "title": {
         "text": "Series: Feminino"
        },
        "xaxis": {
         "title": {
          "text": "Time"
         }
        },
        "yaxis": {
         "title": {
          "text": "Value"
         }
        }
       }
      }
     },
     "metadata": {},
     "output_type": "display_data"
    },
    {
     "data": {
      "application/vnd.plotly.v1+json": {
       "config": {
        "plotlyServerURL": "https://plot.ly"
       },
       "data": [
        {
         "hovertemplate": "<b>%{x|%Y-%m-%d}</b><br>Real: %{y:.2f}<extra></extra>",
         "mode": "markers",
         "name": "Real",
         "type": "scatter",
         "x": [
          "2016-03-31T00:00:00",
          "2016-06-30T00:00:00",
          "2016-09-30T00:00:00",
          "2016-12-31T00:00:00",
          "2017-03-31T00:00:00",
          "2017-06-30T00:00:00",
          "2017-09-30T00:00:00",
          "2017-12-31T00:00:00",
          "2018-03-31T00:00:00",
          "2018-06-30T00:00:00",
          "2018-09-30T00:00:00",
          "2018-12-31T00:00:00",
          "2019-03-31T00:00:00",
          "2019-06-30T00:00:00",
          "2019-09-30T00:00:00",
          "2019-12-31T00:00:00",
          "2020-03-31T00:00:00",
          "2020-06-30T00:00:00",
          "2020-09-30T00:00:00",
          "2020-12-31T00:00:00",
          "2021-03-31T00:00:00",
          "2021-06-30T00:00:00",
          "2021-09-30T00:00:00",
          "2021-12-31T00:00:00",
          "2022-03-31T00:00:00",
          "2022-06-30T00:00:00"
         ],
         "y": [
          3998,
          5445,
          6081,
          5675,
          5516,
          5970,
          6005,
          5514,
          5434,
          6422,
          6335,
          6365,
          5631,
          6552,
          6740,
          6004,
          5199,
          4842,
          6114,
          7319,
          6441,
          7651,
          8531,
          8127,
          6554,
          7871
         ]
        },
        {
         "error_y": {
          "array": [
           13.737873777056056,
           13.737873777056056,
           13.737873777056056,
           13.737873777056056,
           13.737873777056056,
           13.737873777056056,
           13.737873777056056,
           13.737873777056056,
           13.737873777056056,
           13.737873777056056,
           13.737873777056056,
           13.737873777056056,
           13.737873777056056,
           13.737873777056056,
           13.737873777056056,
           13.737873777056056,
           13.737873777056056,
           13.737873777056056,
           13.737873777056056,
           13.737873777056056,
           13.737873777056056,
           13.737873777056056,
           13.737873777056056,
           13.737873777056056,
           13.737873777056056,
           13.737873777056056
          ],
          "thickness": 1.5,
          "type": "data",
          "visible": true,
          "width": 6
         },
         "hovertemplate": "<b>%{x|%Y-%m-%d}</b><br>Total: %{y:.2f}<extra></extra>",
         "mode": "lines+markers",
         "name": "Total",
         "type": "scatter",
         "x": [
          "2016-03-31T00:00:00",
          "2016-06-30T00:00:00",
          "2016-09-30T00:00:00",
          "2016-12-31T00:00:00",
          "2017-03-31T00:00:00",
          "2017-06-30T00:00:00",
          "2017-09-30T00:00:00",
          "2017-12-31T00:00:00",
          "2018-03-31T00:00:00",
          "2018-06-30T00:00:00",
          "2018-09-30T00:00:00",
          "2018-12-31T00:00:00",
          "2019-03-31T00:00:00",
          "2019-06-30T00:00:00",
          "2019-09-30T00:00:00",
          "2019-12-31T00:00:00",
          "2020-03-31T00:00:00",
          "2020-06-30T00:00:00",
          "2020-09-30T00:00:00",
          "2020-12-31T00:00:00",
          "2021-03-31T00:00:00",
          "2021-06-30T00:00:00",
          "2021-09-30T00:00:00",
          "2021-12-31T00:00:00",
          "2022-03-31T00:00:00",
          "2022-06-30T00:00:00"
         ],
         "y": [
          5401.8322092781,
          5473.64208090951,
          5545.45195254092,
          5617.26182417233,
          5689.07169580374,
          5760.88156743515,
          5832.69143906656,
          5904.5013106979695,
          5976.311182329379,
          6048.121053960789,
          6119.9309255922,
          6191.74079722361,
          6263.5506688550195,
          6335.360540486429,
          6407.170412117839,
          6478.98028374925,
          6550.79015538066,
          6622.600027012069,
          6694.409898643479,
          6766.219770274889,
          6838.029641906299,
          6909.839513537709,
          6981.649385169119,
          7053.459256800529,
          7125.269128431939,
          7197.079000063349
         ]
        }
       ],
       "layout": {
        "legend": {
         "title": {
          "text": "Legend"
         }
        },
        "shapes": [
         {
          "fillcolor": "LightSalmon",
          "layer": "below",
          "line": {
           "width": 0
          },
          "opacity": 0.3,
          "type": "rect",
          "x0": "2020-03-31T00:00:00",
          "x1": "2020-12-31T00:00:00",
          "xref": "x",
          "y0": 0,
          "y1": 1,
          "yref": "paper"
         }
        ],
        "template": {
         "data": {
          "bar": [
           {
            "error_x": {
             "color": "#2a3f5f"
            },
            "error_y": {
             "color": "#2a3f5f"
            },
            "marker": {
             "line": {
              "color": "#E5ECF6",
              "width": 0.5
             },
             "pattern": {
              "fillmode": "overlay",
              "size": 10,
              "solidity": 0.2
             }
            },
            "type": "bar"
           }
          ],
          "barpolar": [
           {
            "marker": {
             "line": {
              "color": "#E5ECF6",
              "width": 0.5
             },
             "pattern": {
              "fillmode": "overlay",
              "size": 10,
              "solidity": 0.2
             }
            },
            "type": "barpolar"
           }
          ],
          "carpet": [
           {
            "aaxis": {
             "endlinecolor": "#2a3f5f",
             "gridcolor": "white",
             "linecolor": "white",
             "minorgridcolor": "white",
             "startlinecolor": "#2a3f5f"
            },
            "baxis": {
             "endlinecolor": "#2a3f5f",
             "gridcolor": "white",
             "linecolor": "white",
             "minorgridcolor": "white",
             "startlinecolor": "#2a3f5f"
            },
            "type": "carpet"
           }
          ],
          "choropleth": [
           {
            "colorbar": {
             "outlinewidth": 0,
             "ticks": ""
            },
            "type": "choropleth"
           }
          ],
          "contour": [
           {
            "colorbar": {
             "outlinewidth": 0,
             "ticks": ""
            },
            "colorscale": [
             [
              0,
              "#0d0887"
             ],
             [
              0.1111111111111111,
              "#46039f"
             ],
             [
              0.2222222222222222,
              "#7201a8"
             ],
             [
              0.3333333333333333,
              "#9c179e"
             ],
             [
              0.4444444444444444,
              "#bd3786"
             ],
             [
              0.5555555555555556,
              "#d8576b"
             ],
             [
              0.6666666666666666,
              "#ed7953"
             ],
             [
              0.7777777777777778,
              "#fb9f3a"
             ],
             [
              0.8888888888888888,
              "#fdca26"
             ],
             [
              1,
              "#f0f921"
             ]
            ],
            "type": "contour"
           }
          ],
          "contourcarpet": [
           {
            "colorbar": {
             "outlinewidth": 0,
             "ticks": ""
            },
            "type": "contourcarpet"
           }
          ],
          "heatmap": [
           {
            "colorbar": {
             "outlinewidth": 0,
             "ticks": ""
            },
            "colorscale": [
             [
              0,
              "#0d0887"
             ],
             [
              0.1111111111111111,
              "#46039f"
             ],
             [
              0.2222222222222222,
              "#7201a8"
             ],
             [
              0.3333333333333333,
              "#9c179e"
             ],
             [
              0.4444444444444444,
              "#bd3786"
             ],
             [
              0.5555555555555556,
              "#d8576b"
             ],
             [
              0.6666666666666666,
              "#ed7953"
             ],
             [
              0.7777777777777778,
              "#fb9f3a"
             ],
             [
              0.8888888888888888,
              "#fdca26"
             ],
             [
              1,
              "#f0f921"
             ]
            ],
            "type": "heatmap"
           }
          ],
          "heatmapgl": [
           {
            "colorbar": {
             "outlinewidth": 0,
             "ticks": ""
            },
            "colorscale": [
             [
              0,
              "#0d0887"
             ],
             [
              0.1111111111111111,
              "#46039f"
             ],
             [
              0.2222222222222222,
              "#7201a8"
             ],
             [
              0.3333333333333333,
              "#9c179e"
             ],
             [
              0.4444444444444444,
              "#bd3786"
             ],
             [
              0.5555555555555556,
              "#d8576b"
             ],
             [
              0.6666666666666666,
              "#ed7953"
             ],
             [
              0.7777777777777778,
              "#fb9f3a"
             ],
             [
              0.8888888888888888,
              "#fdca26"
             ],
             [
              1,
              "#f0f921"
             ]
            ],
            "type": "heatmapgl"
           }
          ],
          "histogram": [
           {
            "marker": {
             "pattern": {
              "fillmode": "overlay",
              "size": 10,
              "solidity": 0.2
             }
            },
            "type": "histogram"
           }
          ],
          "histogram2d": [
           {
            "colorbar": {
             "outlinewidth": 0,
             "ticks": ""
            },
            "colorscale": [
             [
              0,
              "#0d0887"
             ],
             [
              0.1111111111111111,
              "#46039f"
             ],
             [
              0.2222222222222222,
              "#7201a8"
             ],
             [
              0.3333333333333333,
              "#9c179e"
             ],
             [
              0.4444444444444444,
              "#bd3786"
             ],
             [
              0.5555555555555556,
              "#d8576b"
             ],
             [
              0.6666666666666666,
              "#ed7953"
             ],
             [
              0.7777777777777778,
              "#fb9f3a"
             ],
             [
              0.8888888888888888,
              "#fdca26"
             ],
             [
              1,
              "#f0f921"
             ]
            ],
            "type": "histogram2d"
           }
          ],
          "histogram2dcontour": [
           {
            "colorbar": {
             "outlinewidth": 0,
             "ticks": ""
            },
            "colorscale": [
             [
              0,
              "#0d0887"
             ],
             [
              0.1111111111111111,
              "#46039f"
             ],
             [
              0.2222222222222222,
              "#7201a8"
             ],
             [
              0.3333333333333333,
              "#9c179e"
             ],
             [
              0.4444444444444444,
              "#bd3786"
             ],
             [
              0.5555555555555556,
              "#d8576b"
             ],
             [
              0.6666666666666666,
              "#ed7953"
             ],
             [
              0.7777777777777778,
              "#fb9f3a"
             ],
             [
              0.8888888888888888,
              "#fdca26"
             ],
             [
              1,
              "#f0f921"
             ]
            ],
            "type": "histogram2dcontour"
           }
          ],
          "mesh3d": [
           {
            "colorbar": {
             "outlinewidth": 0,
             "ticks": ""
            },
            "type": "mesh3d"
           }
          ],
          "parcoords": [
           {
            "line": {
             "colorbar": {
              "outlinewidth": 0,
              "ticks": ""
             }
            },
            "type": "parcoords"
           }
          ],
          "pie": [
           {
            "automargin": true,
            "type": "pie"
           }
          ],
          "scatter": [
           {
            "fillpattern": {
             "fillmode": "overlay",
             "size": 10,
             "solidity": 0.2
            },
            "type": "scatter"
           }
          ],
          "scatter3d": [
           {
            "line": {
             "colorbar": {
              "outlinewidth": 0,
              "ticks": ""
             }
            },
            "marker": {
             "colorbar": {
              "outlinewidth": 0,
              "ticks": ""
             }
            },
            "type": "scatter3d"
           }
          ],
          "scattercarpet": [
           {
            "marker": {
             "colorbar": {
              "outlinewidth": 0,
              "ticks": ""
             }
            },
            "type": "scattercarpet"
           }
          ],
          "scattergeo": [
           {
            "marker": {
             "colorbar": {
              "outlinewidth": 0,
              "ticks": ""
             }
            },
            "type": "scattergeo"
           }
          ],
          "scattergl": [
           {
            "marker": {
             "colorbar": {
              "outlinewidth": 0,
              "ticks": ""
             }
            },
            "type": "scattergl"
           }
          ],
          "scattermapbox": [
           {
            "marker": {
             "colorbar": {
              "outlinewidth": 0,
              "ticks": ""
             }
            },
            "type": "scattermapbox"
           }
          ],
          "scatterpolar": [
           {
            "marker": {
             "colorbar": {
              "outlinewidth": 0,
              "ticks": ""
             }
            },
            "type": "scatterpolar"
           }
          ],
          "scatterpolargl": [
           {
            "marker": {
             "colorbar": {
              "outlinewidth": 0,
              "ticks": ""
             }
            },
            "type": "scatterpolargl"
           }
          ],
          "scatterternary": [
           {
            "marker": {
             "colorbar": {
              "outlinewidth": 0,
              "ticks": ""
             }
            },
            "type": "scatterternary"
           }
          ],
          "surface": [
           {
            "colorbar": {
             "outlinewidth": 0,
             "ticks": ""
            },
            "colorscale": [
             [
              0,
              "#0d0887"
             ],
             [
              0.1111111111111111,
              "#46039f"
             ],
             [
              0.2222222222222222,
              "#7201a8"
             ],
             [
              0.3333333333333333,
              "#9c179e"
             ],
             [
              0.4444444444444444,
              "#bd3786"
             ],
             [
              0.5555555555555556,
              "#d8576b"
             ],
             [
              0.6666666666666666,
              "#ed7953"
             ],
             [
              0.7777777777777778,
              "#fb9f3a"
             ],
             [
              0.8888888888888888,
              "#fdca26"
             ],
             [
              1,
              "#f0f921"
             ]
            ],
            "type": "surface"
           }
          ],
          "table": [
           {
            "cells": {
             "fill": {
              "color": "#EBF0F8"
             },
             "line": {
              "color": "white"
             }
            },
            "header": {
             "fill": {
              "color": "#C8D4E3"
             },
             "line": {
              "color": "white"
             }
            },
            "type": "table"
           }
          ]
         },
         "layout": {
          "annotationdefaults": {
           "arrowcolor": "#2a3f5f",
           "arrowhead": 0,
           "arrowwidth": 1
          },
          "autotypenumbers": "strict",
          "coloraxis": {
           "colorbar": {
            "outlinewidth": 0,
            "ticks": ""
           }
          },
          "colorscale": {
           "diverging": [
            [
             0,
             "#8e0152"
            ],
            [
             0.1,
             "#c51b7d"
            ],
            [
             0.2,
             "#de77ae"
            ],
            [
             0.3,
             "#f1b6da"
            ],
            [
             0.4,
             "#fde0ef"
            ],
            [
             0.5,
             "#f7f7f7"
            ],
            [
             0.6,
             "#e6f5d0"
            ],
            [
             0.7,
             "#b8e186"
            ],
            [
             0.8,
             "#7fbc41"
            ],
            [
             0.9,
             "#4d9221"
            ],
            [
             1,
             "#276419"
            ]
           ],
           "sequential": [
            [
             0,
             "#0d0887"
            ],
            [
             0.1111111111111111,
             "#46039f"
            ],
            [
             0.2222222222222222,
             "#7201a8"
            ],
            [
             0.3333333333333333,
             "#9c179e"
            ],
            [
             0.4444444444444444,
             "#bd3786"
            ],
            [
             0.5555555555555556,
             "#d8576b"
            ],
            [
             0.6666666666666666,
             "#ed7953"
            ],
            [
             0.7777777777777778,
             "#fb9f3a"
            ],
            [
             0.8888888888888888,
             "#fdca26"
            ],
            [
             1,
             "#f0f921"
            ]
           ],
           "sequentialminus": [
            [
             0,
             "#0d0887"
            ],
            [
             0.1111111111111111,
             "#46039f"
            ],
            [
             0.2222222222222222,
             "#7201a8"
            ],
            [
             0.3333333333333333,
             "#9c179e"
            ],
            [
             0.4444444444444444,
             "#bd3786"
            ],
            [
             0.5555555555555556,
             "#d8576b"
            ],
            [
             0.6666666666666666,
             "#ed7953"
            ],
            [
             0.7777777777777778,
             "#fb9f3a"
            ],
            [
             0.8888888888888888,
             "#fdca26"
            ],
            [
             1,
             "#f0f921"
            ]
           ]
          },
          "colorway": [
           "#636efa",
           "#EF553B",
           "#00cc96",
           "#ab63fa",
           "#FFA15A",
           "#19d3f3",
           "#FF6692",
           "#B6E880",
           "#FF97FF",
           "#FECB52"
          ],
          "font": {
           "color": "#2a3f5f"
          },
          "geo": {
           "bgcolor": "white",
           "lakecolor": "white",
           "landcolor": "#E5ECF6",
           "showlakes": true,
           "showland": true,
           "subunitcolor": "white"
          },
          "hoverlabel": {
           "align": "left"
          },
          "hovermode": "closest",
          "mapbox": {
           "style": "light"
          },
          "paper_bgcolor": "white",
          "plot_bgcolor": "#E5ECF6",
          "polar": {
           "angularaxis": {
            "gridcolor": "white",
            "linecolor": "white",
            "ticks": ""
           },
           "bgcolor": "#E5ECF6",
           "radialaxis": {
            "gridcolor": "white",
            "linecolor": "white",
            "ticks": ""
           }
          },
          "scene": {
           "xaxis": {
            "backgroundcolor": "#E5ECF6",
            "gridcolor": "white",
            "gridwidth": 2,
            "linecolor": "white",
            "showbackground": true,
            "ticks": "",
            "zerolinecolor": "white"
           },
           "yaxis": {
            "backgroundcolor": "#E5ECF6",
            "gridcolor": "white",
            "gridwidth": 2,
            "linecolor": "white",
            "showbackground": true,
            "ticks": "",
            "zerolinecolor": "white"
           },
           "zaxis": {
            "backgroundcolor": "#E5ECF6",
            "gridcolor": "white",
            "gridwidth": 2,
            "linecolor": "white",
            "showbackground": true,
            "ticks": "",
            "zerolinecolor": "white"
           }
          },
          "shapedefaults": {
           "line": {
            "color": "#2a3f5f"
           }
          },
          "ternary": {
           "aaxis": {
            "gridcolor": "white",
            "linecolor": "white",
            "ticks": ""
           },
           "baxis": {
            "gridcolor": "white",
            "linecolor": "white",
            "ticks": ""
           },
           "bgcolor": "#E5ECF6",
           "caxis": {
            "gridcolor": "white",
            "linecolor": "white",
            "ticks": ""
           }
          },
          "title": {
           "x": 0.05
          },
          "xaxis": {
           "automargin": true,
           "gridcolor": "white",
           "linecolor": "white",
           "ticks": "",
           "title": {
            "standoff": 15
           },
           "zerolinecolor": "white",
           "zerolinewidth": 2
          },
          "yaxis": {
           "automargin": true,
           "gridcolor": "white",
           "linecolor": "white",
           "ticks": "",
           "title": {
            "standoff": 15
           },
           "zerolinecolor": "white",
           "zerolinewidth": 2
          }
         }
        },
        "title": {
         "text": "Series: Masculino"
        },
        "xaxis": {
         "title": {
          "text": "Time"
         }
        },
        "yaxis": {
         "title": {
          "text": "Value"
         }
        }
       }
      }
     },
     "metadata": {},
     "output_type": "display_data"
    },
    {
     "data": {
      "application/vnd.plotly.v1+json": {
       "config": {
        "plotlyServerURL": "https://plot.ly"
       },
       "data": [
        {
         "hovertemplate": "<b>%{x|%Y-%m-%d}</b><br>Real: %{y:.2f}<extra></extra>",
         "mode": "markers",
         "name": "Real",
         "type": "scatter",
         "x": [
          "2016-03-31T00:00:00",
          "2016-06-30T00:00:00",
          "2016-09-30T00:00:00",
          "2016-12-31T00:00:00",
          "2017-03-31T00:00:00",
          "2017-06-30T00:00:00",
          "2017-09-30T00:00:00",
          "2017-12-31T00:00:00",
          "2018-03-31T00:00:00",
          "2018-06-30T00:00:00",
          "2018-09-30T00:00:00",
          "2018-12-31T00:00:00",
          "2019-03-31T00:00:00",
          "2019-06-30T00:00:00",
          "2019-09-30T00:00:00",
          "2019-12-31T00:00:00",
          "2020-03-31T00:00:00",
          "2020-06-30T00:00:00",
          "2020-09-30T00:00:00",
          "2020-12-31T00:00:00",
          "2021-03-31T00:00:00",
          "2021-06-30T00:00:00",
          "2021-09-30T00:00:00",
          "2021-12-31T00:00:00",
          "2022-03-31T00:00:00",
          "2022-06-30T00:00:00"
         ],
         "y": [
          14800,
          19210,
          20293,
          19079,
          19120,
          20538,
          20283,
          18861,
          18576,
          21170,
          20502,
          21048,
          19334,
          21748,
          21703,
          19228,
          16833,
          15796,
          19650,
          23273,
          20515,
          24035,
          26747,
          25537,
          20497,
          24321
         ]
        },
        {
         "error_y": {
          "array": [
           36.54007132344794,
           36.54007132344794,
           36.54007132344794,
           36.54007132344794,
           36.54007132344794,
           36.54007132344794,
           36.54007132344794,
           36.54007132344794,
           36.54007132344794,
           36.54007132344794,
           36.54007132344794,
           36.54007132344794,
           36.54007132344794,
           36.54007132344794,
           36.54007132344794,
           36.54007132344794,
           36.54007132344794,
           36.54007132344794,
           36.54007132344794,
           36.54007132344794,
           36.54007132344794,
           36.54007132344794,
           36.54007132344794,
           36.54007132344794,
           36.54007132344794,
           36.54007132344794
          ],
          "thickness": 1.5,
          "type": "data",
          "visible": true,
          "width": 6
         },
         "hovertemplate": "<b>%{x|%Y-%m-%d}</b><br>Total: %{y:.2f}<extra></extra>",
         "mode": "lines+markers",
         "name": "Total",
         "type": "scatter",
         "x": [
          "2016-03-31T00:00:00",
          "2016-06-30T00:00:00",
          "2016-09-30T00:00:00",
          "2016-12-31T00:00:00",
          "2017-03-31T00:00:00",
          "2017-06-30T00:00:00",
          "2017-09-30T00:00:00",
          "2017-12-31T00:00:00",
          "2018-03-31T00:00:00",
          "2018-06-30T00:00:00",
          "2018-09-30T00:00:00",
          "2018-12-31T00:00:00",
          "2019-03-31T00:00:00",
          "2019-06-30T00:00:00",
          "2019-09-30T00:00:00",
          "2019-12-31T00:00:00",
          "2020-03-31T00:00:00",
          "2020-06-30T00:00:00",
          "2020-09-30T00:00:00",
          "2020-12-31T00:00:00",
          "2021-03-31T00:00:00",
          "2021-06-30T00:00:00",
          "2021-09-30T00:00:00",
          "2021-12-31T00:00:00",
          "2022-03-31T00:00:00",
          "2022-06-30T00:00:00"
         ],
         "y": [
          18851.01000526048,
          18999.23948923738,
          19147.468973214283,
          19295.698457191185,
          19443.927941168084,
          19592.157425144986,
          19740.386909121888,
          19888.61639309879,
          20036.84587707569,
          20185.075361052594,
          20333.304845029495,
          20481.534329006397,
          20629.7638129833,
          20777.9932969602,
          20926.2227809371,
          21074.452264914,
          21222.681748890904,
          21370.911232867806,
          21519.140716844708,
          21667.37020082161,
          21815.59968479851,
          21963.829168775414,
          22112.058652752312,
          22260.288136729214,
          22408.517620706116,
          22556.747104683018
         ]
        }
       ],
       "layout": {
        "legend": {
         "title": {
          "text": "Legend"
         }
        },
        "shapes": [
         {
          "fillcolor": "LightSalmon",
          "layer": "below",
          "line": {
           "width": 0
          },
          "opacity": 0.3,
          "type": "rect",
          "x0": "2020-03-31T00:00:00",
          "x1": "2020-12-31T00:00:00",
          "xref": "x",
          "y0": 0,
          "y1": 1,
          "yref": "paper"
         }
        ],
        "template": {
         "data": {
          "bar": [
           {
            "error_x": {
             "color": "#2a3f5f"
            },
            "error_y": {
             "color": "#2a3f5f"
            },
            "marker": {
             "line": {
              "color": "#E5ECF6",
              "width": 0.5
             },
             "pattern": {
              "fillmode": "overlay",
              "size": 10,
              "solidity": 0.2
             }
            },
            "type": "bar"
           }
          ],
          "barpolar": [
           {
            "marker": {
             "line": {
              "color": "#E5ECF6",
              "width": 0.5
             },
             "pattern": {
              "fillmode": "overlay",
              "size": 10,
              "solidity": 0.2
             }
            },
            "type": "barpolar"
           }
          ],
          "carpet": [
           {
            "aaxis": {
             "endlinecolor": "#2a3f5f",
             "gridcolor": "white",
             "linecolor": "white",
             "minorgridcolor": "white",
             "startlinecolor": "#2a3f5f"
            },
            "baxis": {
             "endlinecolor": "#2a3f5f",
             "gridcolor": "white",
             "linecolor": "white",
             "minorgridcolor": "white",
             "startlinecolor": "#2a3f5f"
            },
            "type": "carpet"
           }
          ],
          "choropleth": [
           {
            "colorbar": {
             "outlinewidth": 0,
             "ticks": ""
            },
            "type": "choropleth"
           }
          ],
          "contour": [
           {
            "colorbar": {
             "outlinewidth": 0,
             "ticks": ""
            },
            "colorscale": [
             [
              0,
              "#0d0887"
             ],
             [
              0.1111111111111111,
              "#46039f"
             ],
             [
              0.2222222222222222,
              "#7201a8"
             ],
             [
              0.3333333333333333,
              "#9c179e"
             ],
             [
              0.4444444444444444,
              "#bd3786"
             ],
             [
              0.5555555555555556,
              "#d8576b"
             ],
             [
              0.6666666666666666,
              "#ed7953"
             ],
             [
              0.7777777777777778,
              "#fb9f3a"
             ],
             [
              0.8888888888888888,
              "#fdca26"
             ],
             [
              1,
              "#f0f921"
             ]
            ],
            "type": "contour"
           }
          ],
          "contourcarpet": [
           {
            "colorbar": {
             "outlinewidth": 0,
             "ticks": ""
            },
            "type": "contourcarpet"
           }
          ],
          "heatmap": [
           {
            "colorbar": {
             "outlinewidth": 0,
             "ticks": ""
            },
            "colorscale": [
             [
              0,
              "#0d0887"
             ],
             [
              0.1111111111111111,
              "#46039f"
             ],
             [
              0.2222222222222222,
              "#7201a8"
             ],
             [
              0.3333333333333333,
              "#9c179e"
             ],
             [
              0.4444444444444444,
              "#bd3786"
             ],
             [
              0.5555555555555556,
              "#d8576b"
             ],
             [
              0.6666666666666666,
              "#ed7953"
             ],
             [
              0.7777777777777778,
              "#fb9f3a"
             ],
             [
              0.8888888888888888,
              "#fdca26"
             ],
             [
              1,
              "#f0f921"
             ]
            ],
            "type": "heatmap"
           }
          ],
          "heatmapgl": [
           {
            "colorbar": {
             "outlinewidth": 0,
             "ticks": ""
            },
            "colorscale": [
             [
              0,
              "#0d0887"
             ],
             [
              0.1111111111111111,
              "#46039f"
             ],
             [
              0.2222222222222222,
              "#7201a8"
             ],
             [
              0.3333333333333333,
              "#9c179e"
             ],
             [
              0.4444444444444444,
              "#bd3786"
             ],
             [
              0.5555555555555556,
              "#d8576b"
             ],
             [
              0.6666666666666666,
              "#ed7953"
             ],
             [
              0.7777777777777778,
              "#fb9f3a"
             ],
             [
              0.8888888888888888,
              "#fdca26"
             ],
             [
              1,
              "#f0f921"
             ]
            ],
            "type": "heatmapgl"
           }
          ],
          "histogram": [
           {
            "marker": {
             "pattern": {
              "fillmode": "overlay",
              "size": 10,
              "solidity": 0.2
             }
            },
            "type": "histogram"
           }
          ],
          "histogram2d": [
           {
            "colorbar": {
             "outlinewidth": 0,
             "ticks": ""
            },
            "colorscale": [
             [
              0,
              "#0d0887"
             ],
             [
              0.1111111111111111,
              "#46039f"
             ],
             [
              0.2222222222222222,
              "#7201a8"
             ],
             [
              0.3333333333333333,
              "#9c179e"
             ],
             [
              0.4444444444444444,
              "#bd3786"
             ],
             [
              0.5555555555555556,
              "#d8576b"
             ],
             [
              0.6666666666666666,
              "#ed7953"
             ],
             [
              0.7777777777777778,
              "#fb9f3a"
             ],
             [
              0.8888888888888888,
              "#fdca26"
             ],
             [
              1,
              "#f0f921"
             ]
            ],
            "type": "histogram2d"
           }
          ],
          "histogram2dcontour": [
           {
            "colorbar": {
             "outlinewidth": 0,
             "ticks": ""
            },
            "colorscale": [
             [
              0,
              "#0d0887"
             ],
             [
              0.1111111111111111,
              "#46039f"
             ],
             [
              0.2222222222222222,
              "#7201a8"
             ],
             [
              0.3333333333333333,
              "#9c179e"
             ],
             [
              0.4444444444444444,
              "#bd3786"
             ],
             [
              0.5555555555555556,
              "#d8576b"
             ],
             [
              0.6666666666666666,
              "#ed7953"
             ],
             [
              0.7777777777777778,
              "#fb9f3a"
             ],
             [
              0.8888888888888888,
              "#fdca26"
             ],
             [
              1,
              "#f0f921"
             ]
            ],
            "type": "histogram2dcontour"
           }
          ],
          "mesh3d": [
           {
            "colorbar": {
             "outlinewidth": 0,
             "ticks": ""
            },
            "type": "mesh3d"
           }
          ],
          "parcoords": [
           {
            "line": {
             "colorbar": {
              "outlinewidth": 0,
              "ticks": ""
             }
            },
            "type": "parcoords"
           }
          ],
          "pie": [
           {
            "automargin": true,
            "type": "pie"
           }
          ],
          "scatter": [
           {
            "fillpattern": {
             "fillmode": "overlay",
             "size": 10,
             "solidity": 0.2
            },
            "type": "scatter"
           }
          ],
          "scatter3d": [
           {
            "line": {
             "colorbar": {
              "outlinewidth": 0,
              "ticks": ""
             }
            },
            "marker": {
             "colorbar": {
              "outlinewidth": 0,
              "ticks": ""
             }
            },
            "type": "scatter3d"
           }
          ],
          "scattercarpet": [
           {
            "marker": {
             "colorbar": {
              "outlinewidth": 0,
              "ticks": ""
             }
            },
            "type": "scattercarpet"
           }
          ],
          "scattergeo": [
           {
            "marker": {
             "colorbar": {
              "outlinewidth": 0,
              "ticks": ""
             }
            },
            "type": "scattergeo"
           }
          ],
          "scattergl": [
           {
            "marker": {
             "colorbar": {
              "outlinewidth": 0,
              "ticks": ""
             }
            },
            "type": "scattergl"
           }
          ],
          "scattermapbox": [
           {
            "marker": {
             "colorbar": {
              "outlinewidth": 0,
              "ticks": ""
             }
            },
            "type": "scattermapbox"
           }
          ],
          "scatterpolar": [
           {
            "marker": {
             "colorbar": {
              "outlinewidth": 0,
              "ticks": ""
             }
            },
            "type": "scatterpolar"
           }
          ],
          "scatterpolargl": [
           {
            "marker": {
             "colorbar": {
              "outlinewidth": 0,
              "ticks": ""
             }
            },
            "type": "scatterpolargl"
           }
          ],
          "scatterternary": [
           {
            "marker": {
             "colorbar": {
              "outlinewidth": 0,
              "ticks": ""
             }
            },
            "type": "scatterternary"
           }
          ],
          "surface": [
           {
            "colorbar": {
             "outlinewidth": 0,
             "ticks": ""
            },
            "colorscale": [
             [
              0,
              "#0d0887"
             ],
             [
              0.1111111111111111,
              "#46039f"
             ],
             [
              0.2222222222222222,
              "#7201a8"
             ],
             [
              0.3333333333333333,
              "#9c179e"
             ],
             [
              0.4444444444444444,
              "#bd3786"
             ],
             [
              0.5555555555555556,
              "#d8576b"
             ],
             [
              0.6666666666666666,
              "#ed7953"
             ],
             [
              0.7777777777777778,
              "#fb9f3a"
             ],
             [
              0.8888888888888888,
              "#fdca26"
             ],
             [
              1,
              "#f0f921"
             ]
            ],
            "type": "surface"
           }
          ],
          "table": [
           {
            "cells": {
             "fill": {
              "color": "#EBF0F8"
             },
             "line": {
              "color": "white"
             }
            },
            "header": {
             "fill": {
              "color": "#C8D4E3"
             },
             "line": {
              "color": "white"
             }
            },
            "type": "table"
           }
          ]
         },
         "layout": {
          "annotationdefaults": {
           "arrowcolor": "#2a3f5f",
           "arrowhead": 0,
           "arrowwidth": 1
          },
          "autotypenumbers": "strict",
          "coloraxis": {
           "colorbar": {
            "outlinewidth": 0,
            "ticks": ""
           }
          },
          "colorscale": {
           "diverging": [
            [
             0,
             "#8e0152"
            ],
            [
             0.1,
             "#c51b7d"
            ],
            [
             0.2,
             "#de77ae"
            ],
            [
             0.3,
             "#f1b6da"
            ],
            [
             0.4,
             "#fde0ef"
            ],
            [
             0.5,
             "#f7f7f7"
            ],
            [
             0.6,
             "#e6f5d0"
            ],
            [
             0.7,
             "#b8e186"
            ],
            [
             0.8,
             "#7fbc41"
            ],
            [
             0.9,
             "#4d9221"
            ],
            [
             1,
             "#276419"
            ]
           ],
           "sequential": [
            [
             0,
             "#0d0887"
            ],
            [
             0.1111111111111111,
             "#46039f"
            ],
            [
             0.2222222222222222,
             "#7201a8"
            ],
            [
             0.3333333333333333,
             "#9c179e"
            ],
            [
             0.4444444444444444,
             "#bd3786"
            ],
            [
             0.5555555555555556,
             "#d8576b"
            ],
            [
             0.6666666666666666,
             "#ed7953"
            ],
            [
             0.7777777777777778,
             "#fb9f3a"
            ],
            [
             0.8888888888888888,
             "#fdca26"
            ],
            [
             1,
             "#f0f921"
            ]
           ],
           "sequentialminus": [
            [
             0,
             "#0d0887"
            ],
            [
             0.1111111111111111,
             "#46039f"
            ],
            [
             0.2222222222222222,
             "#7201a8"
            ],
            [
             0.3333333333333333,
             "#9c179e"
            ],
            [
             0.4444444444444444,
             "#bd3786"
            ],
            [
             0.5555555555555556,
             "#d8576b"
            ],
            [
             0.6666666666666666,
             "#ed7953"
            ],
            [
             0.7777777777777778,
             "#fb9f3a"
            ],
            [
             0.8888888888888888,
             "#fdca26"
            ],
            [
             1,
             "#f0f921"
            ]
           ]
          },
          "colorway": [
           "#636efa",
           "#EF553B",
           "#00cc96",
           "#ab63fa",
           "#FFA15A",
           "#19d3f3",
           "#FF6692",
           "#B6E880",
           "#FF97FF",
           "#FECB52"
          ],
          "font": {
           "color": "#2a3f5f"
          },
          "geo": {
           "bgcolor": "white",
           "lakecolor": "white",
           "landcolor": "#E5ECF6",
           "showlakes": true,
           "showland": true,
           "subunitcolor": "white"
          },
          "hoverlabel": {
           "align": "left"
          },
          "hovermode": "closest",
          "mapbox": {
           "style": "light"
          },
          "paper_bgcolor": "white",
          "plot_bgcolor": "#E5ECF6",
          "polar": {
           "angularaxis": {
            "gridcolor": "white",
            "linecolor": "white",
            "ticks": ""
           },
           "bgcolor": "#E5ECF6",
           "radialaxis": {
            "gridcolor": "white",
            "linecolor": "white",
            "ticks": ""
           }
          },
          "scene": {
           "xaxis": {
            "backgroundcolor": "#E5ECF6",
            "gridcolor": "white",
            "gridwidth": 2,
            "linecolor": "white",
            "showbackground": true,
            "ticks": "",
            "zerolinecolor": "white"
           },
           "yaxis": {
            "backgroundcolor": "#E5ECF6",
            "gridcolor": "white",
            "gridwidth": 2,
            "linecolor": "white",
            "showbackground": true,
            "ticks": "",
            "zerolinecolor": "white"
           },
           "zaxis": {
            "backgroundcolor": "#E5ECF6",
            "gridcolor": "white",
            "gridwidth": 2,
            "linecolor": "white",
            "showbackground": true,
            "ticks": "",
            "zerolinecolor": "white"
           }
          },
          "shapedefaults": {
           "line": {
            "color": "#2a3f5f"
           }
          },
          "ternary": {
           "aaxis": {
            "gridcolor": "white",
            "linecolor": "white",
            "ticks": ""
           },
           "baxis": {
            "gridcolor": "white",
            "linecolor": "white",
            "ticks": ""
           },
           "bgcolor": "#E5ECF6",
           "caxis": {
            "gridcolor": "white",
            "linecolor": "white",
            "ticks": ""
           }
          },
          "title": {
           "x": 0.05
          },
          "xaxis": {
           "automargin": true,
           "gridcolor": "white",
           "linecolor": "white",
           "ticks": "",
           "title": {
            "standoff": 15
           },
           "zerolinecolor": "white",
           "zerolinewidth": 2
          },
          "yaxis": {
           "automargin": true,
           "gridcolor": "white",
           "linecolor": "white",
           "ticks": "",
           "title": {
            "standoff": 15
           },
           "zerolinecolor": "white",
           "zerolinewidth": 2
          }
         }
        },
        "title": {
         "text": "Series: zzGrand Total"
        },
        "xaxis": {
         "title": {
          "text": "Time"
         }
        },
        "yaxis": {
         "title": {
          "text": "Value"
         }
        }
       }
      }
     },
     "metadata": {},
     "output_type": "display_data"
    }
   ],
   "source": [
    "real_copy, pred_copies = interactive_plot_multi_regression_series(RegressionResultsTable, highlight_period=\"2020\")"
   ]
  },
  {
   "cell_type": "markdown",
   "metadata": {
    "id": "QDBIDev2zRdM"
   },
   "source": [
    "# ### Old trash\n"
   ]
  },
  {
   "cell_type": "code",
   "execution_count": 553,
   "metadata": {
    "id": "ml9HZLh3qFBc"
   },
   "outputs": [],
   "source": [
    "def plot_real_vs_prediction_series(real_df: pd.DataFrame, pred_df: pd.DataFrame):\n",
    "    \"\"\"\n",
    "    Plots real vs. prediction time series for each variable (row).\n",
    "    Non-destructive: creates internal copies and extends the shorter one with NaNs to match.\n",
    "    \"\"\"\n",
    "    # Make copies\n",
    "    real_copy = real_df.copy()\n",
    "    pred_copy = pred_df.copy()\n",
    "\n",
    "    # Align shapes by extending the smaller DataFrame\n",
    "    if pred_copy.shape[1] < real_copy.shape[1]:\n",
    "        missing_cols = real_copy.columns.difference(pred_copy.columns)\n",
    "        for col in missing_cols:\n",
    "            pred_copy[col] = np.nan\n",
    "        pred_copy = pred_copy[real_copy.columns]\n",
    "    elif real_copy.shape[1] < pred_copy.shape[1]:\n",
    "        missing_cols = pred_copy.columns.difference(real_copy.columns)\n",
    "        for col in missing_cols:\n",
    "            real_copy[col] = np.nan\n",
    "        real_copy = real_copy[pred_copy.columns]\n",
    "\n",
    "    # Plot each variable (row)\n",
    "    for idx in real_copy.index:\n",
    "        plt.figure(figsize=(10, 4))\n",
    "        plt.plot(\n",
    "            real_copy.columns,\n",
    "            real_copy.loc[idx],\n",
    "            label=\"Real\",\n",
    "            linestyle=\"-\",\n",
    "            marker=\"o\",\n",
    "        )\n",
    "        plt.plot(\n",
    "            pred_copy.columns,\n",
    "            pred_copy.loc[idx],\n",
    "            label=\"Prediction\",\n",
    "            linestyle=\"--\",\n",
    "            marker=\"x\",\n",
    "        )\n",
    "        plt.title(f\"Variable: {idx}\")\n",
    "        plt.xlabel(\"Time\")\n",
    "        plt.ylabel(\"Value\")\n",
    "        plt.legend()\n",
    "        # plt.grid(True)\n",
    "        plt.grid(True, which=\"both\", linestyle=\"--\", linewidth=0.5)\n",
    "        # plt.xticks(real_copy.columns, rotation=45, ha='right')\n",
    "        plt.tight_layout()\n",
    "        plt.show()\n",
    "\n",
    "    return real_copy, pred_copy"
   ]
  },
  {
   "cell_type": "code",
   "execution_count": 554,
   "metadata": {
    "id": "DG4I-yvsqUxq"
   },
   "outputs": [],
   "source": [
    "#real_copy, pred_copy = plot_real_vs_prediction_series(\n",
    "#    ExportedDFs[\"RealDataSeries\"], ExportedDFs[\"PredictionSeries\"]\n",
    "#)"
   ]
  },
  {
   "cell_type": "code",
   "execution_count": 555,
   "metadata": {
    "id": "JUqih9uoSJqz"
   },
   "outputs": [
    {
     "ename": "NameError",
     "evalue": "name 'PeriodosExcluirAnalise_original' is not defined",
     "output_type": "error",
     "traceback": [
      "\u001b[1;31m---------------------------------------------------------------------------\u001b[0m",
      "\u001b[1;31mNameError\u001b[0m                                 Traceback (most recent call last)",
      "Cell \u001b[1;32mIn[555], line 6\u001b[0m\n\u001b[0;32m      1\u001b[0m \u001b[38;5;66;03m### TCR stuff\u001b[39;00m\n\u001b[0;32m      2\u001b[0m PeriodosExcluirAnalise \u001b[38;5;241m=\u001b[39m \u001b[38;5;28mlist\u001b[39m(\n\u001b[0;32m      3\u001b[0m     \u001b[38;5;28mset\u001b[39m(\n\u001b[0;32m      4\u001b[0m         [\n\u001b[0;32m      5\u001b[0m             (period \u001b[38;5;241m-\u001b[39m \u001b[38;5;241m1\u001b[39m) \u001b[38;5;241m/\u001b[39m\u001b[38;5;241m/\u001b[39m ARGS[\u001b[38;5;124m\"\u001b[39m\u001b[38;5;124mPeriodGrouping\u001b[39m\u001b[38;5;124m\"\u001b[39m] \u001b[38;5;241m+\u001b[39m \u001b[38;5;241m1\u001b[39m\n\u001b[1;32m----> 6\u001b[0m             \u001b[38;5;28;01mfor\u001b[39;00m period \u001b[38;5;129;01min\u001b[39;00m \u001b[43mPeriodosExcluirAnalise_original\u001b[49m\n\u001b[0;32m      7\u001b[0m         ]\n\u001b[0;32m      8\u001b[0m     )\n\u001b[0;32m      9\u001b[0m )\n\u001b[0;32m     12\u001b[0m \u001b[38;5;28;01mdef\u001b[39;00m \u001b[38;5;21mCalcSigCI_RealvsPredicted\u001b[39m(\n\u001b[0;32m     13\u001b[0m     prediction_data,\n\u001b[0;32m     14\u001b[0m     regression_results_stats,\n\u001b[1;32m   (...)\u001b[0m\n\u001b[0;32m     18\u001b[0m     CI\u001b[38;5;241m=\u001b[39m\u001b[38;5;241m0.975\u001b[39m,\n\u001b[0;32m     19\u001b[0m ):\n\u001b[0;32m     20\u001b[0m     CI_data_dict \u001b[38;5;241m=\u001b[39m {}\n",
      "\u001b[1;31mNameError\u001b[0m: name 'PeriodosExcluirAnalise_original' is not defined"
     ]
    }
   ],
   "source": [
    "### TCR stuff\n",
    "PeriodosExcluirAnalise = list(\n",
    "    set(\n",
    "        [\n",
    "            (period - 1) // ARGS[\"PeriodGrouping\"] + 1\n",
    "            for period in PeriodosExcluirAnalise_original\n",
    "        ]\n",
    "    )\n",
    ")\n",
    "\n",
    "\n",
    "def CalcSigCI_RealvsPredicted(\n",
    "    prediction_data,\n",
    "    regression_results_stats,\n",
    "    variable_values,\n",
    "    lista_anos_de_analise=PeriodosExcluirAnalise,\n",
    "    deg_freedom=1,\n",
    "    CI=0.975,\n",
    "):\n",
    "    CI_data_dict = {}\n",
    "\n",
    "    standard_error = regression_results_stats[\"std_err\"]\n",
    "    t_value = stats.t.ppf(CI, deg_freedom)\n",
    "    for ano in lista_anos_de_analise:\n",
    "        prediction = prediction_data[ano]\n",
    "        real = variable_values[ano]\n",
    "        difference = real - prediction\n",
    "        diff_percent = difference / real\n",
    "\n",
    "        margin_of_error = t_value * standard_error\n",
    "        lower_bound = difference - margin_of_error\n",
    "        upper_bound = difference + margin_of_error\n",
    "\n",
    "        significant = not (lower_bound <= 0 <= upper_bound)\n",
    "        p_value_IC = None\n",
    "        if lower_bound * upper_bound > 0:\n",
    "            # Não inclui zero no intervalo de confiança\n",
    "            p_value_IC = 2 * (\n",
    "                1 - stats.t.cdf(abs(difference / standard_error), deg_freedom)\n",
    "            )\n",
    "        else:\n",
    "            # Inclui zero no intervalo de confiança\n",
    "            p_value_IC = stats.t.cdf(abs(difference / standard_error), deg_freedom)\n",
    "\n",
    "        CI_data_dict[ano] = {\n",
    "            \"real_values\": real,\n",
    "            \"prediction_values\": prediction,\n",
    "            \"difference\": difference,\n",
    "            \"difference_percentual\": diff_percent,\n",
    "            \"margin_of_error\": margin_of_error,\n",
    "            \"lower_bound\": lower_bound,\n",
    "            \"upper_bound\": upper_bound,\n",
    "            \"significant\": significant,\n",
    "            \"p_value_IC\": p_value_IC,\n",
    "        }\n",
    "        if len(lista_anos_de_analise) == 1:\n",
    "            return CI_data_dict[ano]\n",
    "\n",
    "    return CI_data_dict"
   ]
  },
  {
   "cell_type": "code",
   "execution_count": null,
   "metadata": {
    "id": "poJvJRwl1tFm"
   },
   "outputs": [],
   "source": [
    "testa = [\"1\", \"2\", \"3\"]\n",
    "len(testa)\n",
    "testa_serie = pd.DataFrame(testa)\n",
    "testa_serie.shape[1]"
   ]
  },
  {
   "cell_type": "code",
   "execution_count": null,
   "metadata": {
    "id": "h0rAXCKC4Yce"
   },
   "outputs": [],
   "source": []
  },
  {
   "cell_type": "code",
   "execution_count": null,
   "metadata": {
    "id": "ITT6GuZkbtbv"
   },
   "outputs": [],
   "source": [
    "df_dados = ExportedDFs[\"RealDataSeries\"]\n",
    "previsoes = ExportedDFs[\"PredictionSeries\"]\n",
    "df_P = ExportedDFs[\"PredictionSeries\"]\n",
    "ResultsStats_DF = ExportedDFs[\"LinearRegressionResultStats\"]\n",
    "# CI_DataDF = CalcSigCI_RealvsPredicted(df_P, ResultsStats_DF, df_dados)\n",
    "anos_excluir = []  # PeriodosExcluirAnalise\n",
    "\n",
    "toplot_prediction_data = {}\n",
    "# for index, row in CI_DataDF.iterrows():\n",
    "# toplot_prediction_data[index] = {2020: row.to_dict()}\n",
    "\n",
    "std_errors = ResultsStats_DF[\"std_err\"].to_dict()\n",
    "slopes_d = ResultsStats_DF[\"slope\"].to_dict()\n",
    "p_values_d = ResultsStats_DF[\"p_value\"].to_dict()\n",
    "r_list = ResultsStats_DF[\"r_value\"].to_dict()\n",
    "r_sqr_list = ResultsStats_DF[\"r_squared\"].to_dict()\n",
    "r_sqr_adjst_list = ResultsStats_DF[\"r_squared_adj\"].to_dict()\n",
    "slope_normalized = ResultsStats_DF[\"slope_normalized\"].to_dict()\n",
    "\n",
    "tipos_transtorno = df_dados.index.tolist()\n",
    "\n",
    "# anos_adicionais = [2022,2023,2024,2025,2026]\n",
    "anos = df_dados.columns\n",
    "anos_adicionais = []  # anos[-1] + (len(anos) *2)\n",
    "\n",
    "\n",
    "anos_adicionais_prev = previsoes.shape[1]  # len(anos)-len(PeriodosExcluirAnalise)\n",
    "# for i in range(anos[-1],anos_adicionais_prev+1):\n",
    "for i in range(anos_adicionais_prev - len(anos), anos_adicionais_prev + 1):\n",
    "    anos_adicionais.append(i)\n",
    "\n",
    "anos_adicionais = df_dados.columns\n",
    "######################################################################\n",
    "\n",
    "escala_constante = False\n",
    "escala_semi_ajustada = False\n",
    "sort = True\n",
    "\n",
    "\n",
    "dados_reais = pd.DataFrame(columns=df_P.columns)\n",
    "\n",
    "dados_reais[df_dados.columns] = df_dados\n",
    "\n",
    "previsoes = previsoes.reindex(columns=dados_reais.columns, fill_value=np.nan)\n",
    "\n",
    "\n",
    "ps = dados_reais.index[0]  # dados_reais.iloc[0, 0]  # Primeira linha, primeira coluna\n",
    "us = dados_reais.index[-1]  # Última linha, primeira coluna\n",
    "\n",
    "\n",
    "# ps_str = ps.decode('utf-8')  # Convertendo bytes para string usando o encoding 'u\n",
    "\n",
    "tipo_dado = \"INDETERMINADO\"\n",
    "contem_total = us == \"Grand Total\" or us == \"Total\"\n",
    "if ps == \"Feminino\":\n",
    "    tipo_dado = \"Sexo\"\n",
    "elif (\n",
    "    ps\n",
    "    == \"(F20 - F29) Esquizofrenia, transtornos esquizotípicos e transtornos delirantes\"\n",
    "):\n",
    "    tipo_dado = \"Transtornos_Agrupamento\"\n",
    "elif us == \"80 anos ou mais\":\n",
    "    tipo_dado = \"Faixa_Etaria\"\n",
    "elif us == \"60 anos ou mais\":\n",
    "    tipo_dado = \"Faixa_Etaria_Consolidada\"\n",
    "elif re.match(r\"^F\\d{2,}$\", ps):\n",
    "    tipo_dado = \"CID_individual\"\n",
    "\n",
    "\n",
    "if tipo_dado == \"Sexo\":\n",
    "    escala_constante = True\n",
    "    escala_semi_ajustada = False\n",
    "    sort = False\n",
    "\n",
    "if tipo_dado == \"Faixa_Etaria\":\n",
    "    sort = False\n",
    "\n",
    "if tipo_dado == \"Faixa_Etaria_Consolidada\":\n",
    "    sort = False\n",
    "\n",
    "fonte = {\"fontname\": \"DejaVu Serif\"}\n",
    "fonte_legenda = FontProperties(family=fonte[\"fontname\"])\n",
    "\n",
    "dados_reais_valores = dados_reais.values  # Valores sem cabeçalhos\n",
    "\n",
    "# Extrair dados de previsões\n",
    "previsoes_valores = previsoes.values  # Valores sem cabeçalhos\n",
    "\n",
    "if contem_total:\n",
    "    dados_reais_valores_calculo = dados_reais_valores[:-1]\n",
    "    previsoes_valores_calculo = previsoes_valores[:-1]\n",
    "else:\n",
    "    dados_reais_valores_calculo = dados_reais_valores\n",
    "    previsoes_valores_calculo = previsoes_valores\n",
    "\n",
    "min_value = np.min(\n",
    "    np.concatenate(\n",
    "        (\n",
    "            dados_reais_valores_calculo[: -(anos_adicionais_prev - 1)],\n",
    "            previsoes_valores_calculo,\n",
    "        )\n",
    "    )\n",
    ")\n",
    "max_value = (\n",
    "    np.max(np.concatenate((dados_reais_valores_calculo, previsoes_valores_calculo)))\n",
    "    * 1.1\n",
    ")\n",
    "\n",
    "# Definir a magnitude desejada (diminuída em cerca de 5000 unidades)\n",
    "magnitude = max_value - min_value\n",
    "magnitude_desejada = magnitude - 8000\n",
    "\n",
    "# Ajustar o valor mínimo e máximo para ter a magnitude desejada\n",
    "min_y_total = min_value  # - (magnitude - magnitude_desejada) / 2\n",
    "max_y_total = max_value  # + (magnitude - magnitude_desejada) / 2\n",
    "\n",
    "total_tipos = len(tipos_transtorno)\n",
    "\n",
    "\n",
    "# Definir o número de colunas e linhas\n",
    "num_colunas = 2 if total_tipos == 4 else 3\n",
    "num_linhas = max(2, (total_tipos + num_colunas - 1) // num_colunas)\n",
    "\n",
    "fig, axs = plt.subplots(\n",
    "    num_linhas, num_colunas, figsize=(5 * num_colunas, 5 * num_linhas)\n",
    ")\n",
    "plt.subplots_adjust(hspace=1)\n",
    "\n",
    "\n",
    "max_values_dados_reais = dados_reais.max(axis=1)\n",
    "max_values_previsoes = previsoes.max(axis=1)\n",
    "\n",
    "if sort:\n",
    "    # Combine the maximum values and indices into a single DataFrame\n",
    "    combined_max_df = pd.DataFrame(\n",
    "        {\n",
    "            \"dados_reais_max\": dados_reais.max(axis=1),\n",
    "            \"previsoes_max\": previsoes.max(axis=1),\n",
    "        }\n",
    "    )\n",
    "\n",
    "    # Sort the combined DataFrame by the maximum values column\n",
    "    combined_max_df_sorted = combined_max_df.sort_values(\n",
    "        by=\"dados_reais_max\", ascending=True\n",
    "    )\n",
    "\n",
    "    # Use the sorted indices to sort both original DataFrames\n",
    "    dados_reais = dados_reais.loc[combined_max_df_sorted.index]\n",
    "    previsoes = previsoes.loc[combined_max_df_sorted.index]\n",
    "\n",
    "    dados_reais_valores = dados_reais.values  # Valores sem cabeçalhos\n",
    "    previsoes_valores = previsoes.values  # Valores sem cabeçalhos\n",
    "\n",
    "cabecalhos = dados_reais.columns.tolist()  # Ignorar o cabeçalho da primeira coluna\n",
    "tipos_transtorno = (\n",
    "    dados_reais.index.tolist()\n",
    ")  # Índices do DataFrame são os tipos de transtorno\n",
    "\n",
    "\n",
    "def quebrar_titulo(titulo):\n",
    "    palavras = titulo.split()\n",
    "    linhas = []\n",
    "    linha_atual = \"\"\n",
    "    for palavra in palavras:\n",
    "        if (\n",
    "            len(linha_atual) + len(palavra) <= 30\n",
    "        ):  # Adiciona a palavra à linha atual se não exceder o limite\n",
    "            if linha_atual:\n",
    "                linha_atual += \" \"\n",
    "            linha_atual += palavra\n",
    "        else:  # Se exceder o limite, inicia uma nova linha\n",
    "            linhas.append(linha_atual)\n",
    "            linha_atual = palavra\n",
    "    if linha_atual:\n",
    "        linhas.append(linha_atual)\n",
    "    return \"\\n\".join(linhas)\n",
    "\n",
    "\n",
    "def check_intersection(bbox1, bbox2):\n",
    "    x1, y1, width1, height1 = bbox1.bounds\n",
    "    x2, y2, width2, height2 = bbox2.bounds\n",
    "\n",
    "    if (\n",
    "        x1 < x2 + width2\n",
    "        and x1 + width1 > x2\n",
    "        and y1 < y2 + height2\n",
    "        and y1 + height1 > y2\n",
    "    ):\n",
    "        return True  # As caixas se intersectam\n",
    "    else:\n",
    "        return False  # As caixas não se intersectam\n",
    "\n",
    "\n",
    "def check_intersection_p(bbox, x_point, y_point):\n",
    "    # Verificar se a caixa de anotação intersecta o ponto específico\n",
    "    if bbox.x0 < x_point < bbox.x1 and bbox.y0 < y_point < bbox.y1:\n",
    "        return True\n",
    "    else:\n",
    "        return False\n",
    "\n",
    "\n",
    "def annotate(ax, x_anno, y_mid, offset):\n",
    "    ax.annotate(\n",
    "        f\"Significativo\\nDiff: {diff_rounded}\\nDiff %: {diff_percent_rounded}\",\n",
    "        xy=(x_anno, y_mid),\n",
    "        xycoords=\"data\",\n",
    "        xytext=offset,\n",
    "        textcoords=\"offset points\",\n",
    "        arrowprops=dict(arrowstyle=\"->\", connectionstyle=\"arc3,rad=0\"),\n",
    "        fontsize=8.5,\n",
    "        bbox=dict(facecolor=\"lightblue\", alpha=0.4),\n",
    "    )\n",
    "\n",
    "\n",
    "if False:  # total_tipos == 2:\n",
    "    tipo1, tipo2 = tipos_transtorno\n",
    "\n",
    "    # Plotar gráfico com duas séries juntas\n",
    "    figsize = (5, 3) if tipo_dado == \"Faixa_Etaria_Consolidada\" else (10, 6)\n",
    "    plt.figure(figsize=figsize)\n",
    "    plt.plot(\n",
    "        cabecalhos, dados_reais_valores[0], label=tipo1 + \" (Dados Reais)\", marker=\"o\"\n",
    "    )\n",
    "    plt.errorbar(\n",
    "        cabecalhos,\n",
    "        previsoes_valores[0],\n",
    "        yerr=std_errors[tipo1],\n",
    "        label=tipo1 + \" (Previsões)\",\n",
    "        linestyle=\"--\",\n",
    "        capsize=10,\n",
    "    )\n",
    "    # plt.plot(cabecalhos, previsoes_valores[0], label=tipo1 + ' (Previsões)', marker='o', linestyle= \"--\")\n",
    "    plt.plot(\n",
    "        cabecalhos,\n",
    "        dados_reais_valores[1],\n",
    "        label=tipo2 + \" (Dados Reais)\",\n",
    "        marker=\"x\",\n",
    "        **fonte,\n",
    "    )\n",
    "    # plt.plot(cabecalhos, previsoes_valores[1], label=tipo2 + ' (Previsões)', marker='x', linestyle= \"--\")\n",
    "    plt.errorbar(\n",
    "        cabecalhos,\n",
    "        previsoes_valores[1],\n",
    "        yerr=std_errors[tipo2],\n",
    "        label=tipo2 + \" (Previsões)\",\n",
    "        linestyle=\"--\",\n",
    "        capsize=10,\n",
    "    )\n",
    "    h_ali = 0.01\n",
    "    for i, (tipo, dados_reais, previsoes, p_val) in enumerate(\n",
    "        zip(tipos_transtorno, dados_reais_valores, previsoes_valores, p_values_d)\n",
    "    ):\n",
    "        p_val = p_values_d[tipo]\n",
    "        # Verifique se o p-value é menor que 0.05\n",
    "        if p_val < 0.05:\n",
    "            # Se sim, defina o peso da fonte como \"bold\"\n",
    "            fontweight = \"bold\"\n",
    "            fontstyle = \"normal\"\n",
    "        elif p_val < 0.1:\n",
    "            fontweight = \"normal\"\n",
    "            fontstyle = \"italic\"\n",
    "        else:\n",
    "            # Se não, mantenha o peso da fonte normal\n",
    "            fontweight = \"normal\"\n",
    "            fontstyle = \"normal\"\n",
    "\n",
    "        # Crie as strings para os textos\n",
    "        text_labels = [\n",
    "            \"Regressão Linear\",\n",
    "            tipo,\n",
    "            \"Erro Padrão (±): {:.2f}\".format(std_errors[tipo]),\n",
    "            \"Coef. Angular (β₁): {:.2f} \".format(slopes_d[tipo]),\n",
    "            \"p-Value: {:.4f}\".format(p_val),\n",
    "            \"Coef. Correlação (r): {:.3f}\".format(r_list[tipo]),\n",
    "            # \"Coef. Determinação (r²): {:.3f}\".format(r_sqr_list[tipo])\n",
    "        ]\n",
    "\n",
    "        if r_sqr_adjst_list[tipo]:\n",
    "            text_labels.append(\n",
    "                \"Coef. Determinação Ajustado (r²): {:.3f}\".format(\n",
    "                    r_sqr_adjst_list[tipo]\n",
    "                )\n",
    "            )\n",
    "        else:\n",
    "            text_labels.append(\n",
    "                \"Coef. Determinação (r²): {:.3f}\".format(r_sqr_list[tipo])\n",
    "            )\n",
    "        # Adicione os textos ao gráfico\n",
    "        v_ali = -0.12\n",
    "\n",
    "        for i, text_label in enumerate(text_labels):\n",
    "            plt.text(\n",
    "                h_ali,\n",
    "                v_ali - i * 0.05,\n",
    "                text_label,\n",
    "                fontsize=8,\n",
    "                fontweight=i == 3 and fontweight or \"normal\",\n",
    "                **fonte,\n",
    "                fontstyle=i == 3 and fontstyle or \"normal\",\n",
    "                horizontalalignment=\"left\",\n",
    "                verticalalignment=\"center\",\n",
    "                transform=plt.gca().transAxes,\n",
    "            )\n",
    "        h_ali = h_ali + 0.3\n",
    "\n",
    "    plt.xlabel(\"Ano\")\n",
    "    plt.ylabel(\"Valores\")\n",
    "    plt.title(tipo_dado)\n",
    "    plt.legend()\n",
    "    plt.grid(True)\n",
    "    plt.savefig(f\"{tipo_dado}_graficos_agrupados.pdf\", format=\"pdf\")\n",
    "    plt.savefig(f\"{tipo_dado}_graficos_agrupados.svg\", format=\"svg\")\n",
    "    plt.show()\n",
    "else:\n",
    "    # Criar gráficos para cada tipo de transtorno\n",
    "    for i, tipo in enumerate(dados_reais.index):\n",
    "\n",
    "        serie_dados_reais = dados_reais.loc[tipo].values\n",
    "        serie_previsoes = previsoes.loc[tipo].values\n",
    "\n",
    "        linha = i // num_colunas\n",
    "        coluna = i % num_colunas\n",
    "\n",
    "        min_serie = np.min(np.minimum(serie_dados_reais, serie_previsoes))\n",
    "        max_serie = np.max(np.maximum(serie_dados_reais, serie_previsoes))\n",
    "\n",
    "        # Verificar se a série atual tem um valor máximo menor que 500\n",
    "        if escala_semi_ajustada:\n",
    "            if max_serie < 100:\n",
    "                min_y = min(min_serie - (min_serie * 0.05), 0)\n",
    "                max_y = 110\n",
    "            elif max_serie < 300:\n",
    "                min_y = min(min_serie - (min_serie * 0.05), 100)\n",
    "                max_y = 330\n",
    "            elif max_serie < 500:\n",
    "                min_y = min(min_serie - (min_serie * 0.05), 100)\n",
    "                max_y = 550\n",
    "            elif max_serie < 2000:\n",
    "                min_y = min(min_serie - (min_serie * 0.05), 500)\n",
    "                max_y = 2200\n",
    "            elif max_serie < 3000:\n",
    "                min_y = min(min_serie - (min_serie * 0.05), 500)\n",
    "                max_y = 3300\n",
    "            elif max_serie < 6200:\n",
    "                min_y = min(min_serie - (min_serie * 0.05), 1000)\n",
    "                max_y = 6200 * 1.1\n",
    "            elif max_serie < 10000:\n",
    "                min_y = min(min_serie - (min_serie * 0.05), 1000)\n",
    "                max_y = 11000\n",
    "            elif max_serie < 16000:\n",
    "                min_y = min(min_serie - (min_serie * 0.05), 1000)\n",
    "                max_y = 16000 * 1.1\n",
    "            elif max_serie < 22000:\n",
    "                min_y = min(min_serie - (min_serie * 0.05), 1000)\n",
    "                max_y = 22000 * 1.1\n",
    "            elif max_serie < 30000:\n",
    "                min_y = min(min_serie - (min_serie * 0.05), 1000)\n",
    "                max_y = 30000 * 1.1\n",
    "            elif max_serie < 55000:\n",
    "                min_y = (\n",
    "                    10000\n",
    "                    if tipo_dado != \"Faixa_Etaria\"\n",
    "                    else min(min_serie - (min_serie * 0.05), 10000)\n",
    "                )\n",
    "                max_y = 56000\n",
    "            else:\n",
    "                min_y = (\n",
    "                    min_serie * 0.9\n",
    "                )  # min(np.minimum(serie_dados_reais, serie_previsoes)) *0.9\n",
    "                max_y = max_serie * 1.1\n",
    "        # elif tipo_dado == \"Sexo\":\n",
    "        # min_y = 34000\n",
    "        # max_y - 81000\n",
    "        elif escala_constante:\n",
    "\n",
    "            if escala_semi_ajustada and max_serie < 10000:\n",
    "                escala_info = \"_escala_semi_ajustada_LOW\"\n",
    "                # Se sim, ajustar os limites dos eixos y para a série atual\n",
    "                min_y = min(min_serie, -500)  # min_y_total\n",
    "                max_y = min(\n",
    "                    max(max_serie * 1.1, 3000), 6500\n",
    "                )  ##max_y_total*0.33   # Ajustando para ser 10% maior que o valor máximo\n",
    "            elif escala_semi_ajustada and max_serie < 1000:\n",
    "                escala_info = \"_escala_semi_ajustada_Extremo_LOW\"\n",
    "                min_y = min(min_serie, -100)\n",
    "                max_y = 1000\n",
    "            elif tipo == \"Total\" or tipo == \"Grand Total\" and contem_total:\n",
    "                if escala_semi_ajustada:\n",
    "                    escala_info = \"_escala_semi_ajustada_TOTAL\"\n",
    "                    min_y = (\n",
    "                        min_serie * 0.95\n",
    "                    )  # min(np.minimum(serie_dados_reais, serie_previsoes)) *0.9\n",
    "                    max_y = (\n",
    "                        max_serie * 1.05\n",
    "                    )  # max(np.maximum(serie_dados_reais, serie_previsoes)) *1.1\n",
    "                else:\n",
    "                    escala_info = \"_escala_ajustada_TOTAL\"\n",
    "                    min_y = np.min(\n",
    "                        np.concatenate((dados_reais_valores, previsoes_valores))\n",
    "                    )\n",
    "                    max_y = (\n",
    "                        np.max(np.concatenate((dados_reais_valores, previsoes_valores)))\n",
    "                        * 1.1\n",
    "                    )\n",
    "            else:\n",
    "                if escala_semi_ajustada:\n",
    "                    escala_info = \"_escala_semi_ajustada_LOW\"\n",
    "                    min_y = min(min_serie * 0.9, 14000)  # min_y_total\n",
    "                    max_y = min(max_serie * 1.1, max_y_total)\n",
    "                else:\n",
    "                    escala_info = \"_escala_constante\"\n",
    "                    # Caso contrário, aplicar os limites calculados para o intervalo total\n",
    "\n",
    "                    min_y = min_y_total\n",
    "                    max_y = max_y_total\n",
    "        else:\n",
    "            escala_info = \"escala_variavel\"\n",
    "            min_y = min(np.minimum(serie_dados_reais, serie_previsoes))\n",
    "            max_y = max(np.maximum(serie_dados_reais, serie_previsoes)) * 1.1\n",
    "\n",
    "        titulo_quebrado = quebrar_titulo(tipo)\n",
    "\n",
    "        axs[linha, coluna].plot(\n",
    "            cabecalhos,\n",
    "            serie_dados_reais,\n",
    "            label=\"Dados Reais\",\n",
    "            marker=\"o\",\n",
    "            color=\"black\",\n",
    "            markersize=4,\n",
    "        )\n",
    "\n",
    "        prev_label = \"Previsões\" if anos_adicionais_prev > 0 else \"Dados Esperados\"\n",
    "        color_prev = \"green\" if anos_adicionais_prev > 0 else \"orange\"\n",
    "        axs[linha, coluna].errorbar(\n",
    "            cabecalhos,\n",
    "            serie_previsoes,\n",
    "            yerr=std_errors[tipo],\n",
    "            label=prev_label,\n",
    "            color=color_prev,\n",
    "            linestyle=\"--\",\n",
    "            capsize=5,\n",
    "        )\n",
    "        upper_bound = [previsao + std_errors[tipo] for previsao in serie_previsoes]\n",
    "        lower_bound = [previsao - std_errors[tipo] for previsao in serie_previsoes]\n",
    "\n",
    "        color_pand = \"blue\"\n",
    "        anos = [int(ano) for ano in cabecalhos]\n",
    "\n",
    "        indices_anos = [\n",
    "            cabecalhos.index(ano) for ano in anos_excluir if ano in cabecalhos\n",
    "        ]\n",
    "\n",
    "        # Use os índices para plotar uma única linha para todos os anos\n",
    "\n",
    "        axs[linha, coluna].errorbar(\n",
    "            [cabecalhos[indice] for indice in indices_anos],\n",
    "            [serie_previsoes[indice] for indice in indices_anos],\n",
    "            yerr=[std_errors[tipo] for indice in indices_anos],\n",
    "            label=\"Dados Esperados (Pandemia)\",\n",
    "            marker=\"o\",\n",
    "            color=color_pand,\n",
    "            linestyle=\"\",\n",
    "            capsize=5,\n",
    "            markersize=6,\n",
    "        )\n",
    "        \"\"\"\n",
    "      axs[linha, coluna].plot([cabecalhos[indice] for indice in indices_anos],\n",
    "                                  [serie_previsoes[indice] for indice in indices_anos],\n",
    "                                  label=\"Dados Esperados (Pandemia)\",\n",
    "                                  marker='o',\n",
    "                                  color=color_pand,\n",
    "                                  linestyle=\"\",\n",
    "                                  markersize = 6)\n",
    "\n",
    "      \"\"\"\n",
    "\n",
    "        p_val = p_values_d[tipo]\n",
    "\n",
    "        # Verifique se o p-value é menor que 0.05\n",
    "        if p_val < 0.05:\n",
    "            # Se sim, defina o peso da fonte como \"bold\"\n",
    "            fontweight = \"bold\"\n",
    "            fontstyle = \"normal\"\n",
    "        elif p_val < 0.1:\n",
    "            fontweight = \"normal\"\n",
    "            fontstyle = \"italic\"\n",
    "        else:\n",
    "            # Se não, mantenha o peso da fonte normal\n",
    "            fontweight = \"normal\"\n",
    "            fontstyle = \"normal\"\n",
    "\n",
    "        # Crie as strings para os textos\n",
    "        l_std_error = \"Erro Padrão (±): {:.2f}\".format(\n",
    "            std_errors[tipo]\n",
    "        )  # Formata o erro padrão com duas casas decimais\n",
    "        l_slope = \"Coef. Angular (β₁): {:.2f}\".format(\n",
    "            slopes_d[tipo]\n",
    "        )  # Formata o coeficiente angular com duas casas decimais\n",
    "        l_slope_normal = \"Tx. Cresc. Rel. à Média: {:.2f}%\".format(\n",
    "            slope_normalized[tipo] * 100\n",
    "        )\n",
    "        l_PV = \"p-Value: {:.5f}\".format(\n",
    "            p_val\n",
    "        )  # Formata o p-value com quatro casas decimais\n",
    "        l_r = \"Coef. Correlação (r): {:.3f}\".format(r_list[tipo])\n",
    "        # l_r_sqr = \"Coef. Determinação (r²): {:.3f}\".format(r_sqr_list[tipo])\n",
    "\n",
    "        if r_sqr_adjst_list[tipo]:\n",
    "            l_r_sqr = \"Coef. Determinação Ajustado (r²): {:.3f}\".format(\n",
    "                r_sqr_adjst_list[tipo]\n",
    "            )\n",
    "        else:\n",
    "            l_r_sqr = \"Coef. Determinação (r²): {:.3f}\".format(r_sqr_list[tipo])\n",
    "        # Adicione os textos ao gráfico\n",
    "\n",
    "        # Adicione os textos ao subplot com o peso da fonte correspondente\n",
    "        axs[linha, coluna].text(\n",
    "            0.02,\n",
    "            -0.12,\n",
    "            \"Regressão Linear\",\n",
    "            fontsize=9,\n",
    "            fontweight=\"normal\",\n",
    "            horizontalalignment=\"left\",\n",
    "            verticalalignment=\"center\",\n",
    "            transform=axs[linha, coluna].transAxes,\n",
    "            **fonte,\n",
    "        )\n",
    "        axs[linha, coluna].text(\n",
    "            -0.1,\n",
    "            -0.17,\n",
    "            l_std_error,\n",
    "            fontsize=9,\n",
    "            fontweight=\"normal\",\n",
    "            horizontalalignment=\"left\",\n",
    "            verticalalignment=\"center\",\n",
    "            transform=axs[linha, coluna].transAxes,\n",
    "            **fonte,\n",
    "        )\n",
    "        axs[linha, coluna].text(\n",
    "            -0.1,\n",
    "            -0.22,\n",
    "            l_slope,\n",
    "            fontsize=9,\n",
    "            fontweight=\"normal\",\n",
    "            horizontalalignment=\"left\",\n",
    "            verticalalignment=\"center\",\n",
    "            transform=axs[linha, coluna].transAxes,\n",
    "            **fonte,\n",
    "        )\n",
    "        axs[linha, coluna].text(\n",
    "            -0.1,\n",
    "            -0.27,\n",
    "            l_slope_normal,\n",
    "            fontsize=9,\n",
    "            fontweight=\"normal\",\n",
    "            horizontalalignment=\"left\",\n",
    "            verticalalignment=\"center\",\n",
    "            transform=axs[linha, coluna].transAxes,\n",
    "            **fonte,\n",
    "        )\n",
    "\n",
    "        # axs[linha, coluna].text(0.00, -0.27, l_PV, fontsize=9, fontweight=fontweight, fontstyle = fontstyle, horizontalalignment='left', verticalalignment='center', transform=axs[linha, coluna].transAxes, **fonte)\n",
    "        # axs[linha, coluna].text(0.00, -0.32, l_r, fontsize=9,  fontweight='normal', horizontalalignment='left', verticalalignment='center', transform=axs[linha, coluna].transAxes, **fonte)\n",
    "        # axs[linha, coluna].text(0.00, -0.37, l_r_sqr, fontsize=9,  fontweight='normal', horizontalalignment='left', verticalalignment='center', transform=axs[linha, coluna].transAxes, **fonte)\n",
    "\n",
    "        axs[linha, coluna].text(\n",
    "            0.55,\n",
    "            -0.17,\n",
    "            l_PV,\n",
    "            fontsize=9,\n",
    "            fontweight=fontweight,\n",
    "            fontstyle=fontstyle,\n",
    "            horizontalalignment=\"left\",\n",
    "            verticalalignment=\"center\",\n",
    "            transform=axs[linha, coluna].transAxes,\n",
    "            **fonte,\n",
    "        )\n",
    "        axs[linha, coluna].text(\n",
    "            0.55,\n",
    "            -0.22,\n",
    "            l_r,\n",
    "            fontsize=9,\n",
    "            fontweight=\"normal\",\n",
    "            horizontalalignment=\"left\",\n",
    "            verticalalignment=\"center\",\n",
    "            transform=axs[linha, coluna].transAxes,\n",
    "            **fonte,\n",
    "        )\n",
    "        axs[linha, coluna].text(\n",
    "            0.55,\n",
    "            -0.27,\n",
    "            l_r_sqr,\n",
    "            fontsize=9,\n",
    "            fontweight=\"normal\",\n",
    "            horizontalalignment=\"left\",\n",
    "            verticalalignment=\"center\",\n",
    "            transform=axs[linha, coluna].transAxes,\n",
    "            **fonte,\n",
    "        )\n",
    "        # axs[linha, coluna].set_aspect('auto')\n",
    "\n",
    "        if len(anos_excluir) == 1:  # Caso apenas um ano seja especificado\n",
    "            ano_especifico = anos_excluir[0]\n",
    "            if (\n",
    "                ano_especifico in cabecalhos\n",
    "            ):  # Verifica se o ano está presente nos cabeçalhos\n",
    "                indice_ano = cabecalhos.index(ano_especifico)\n",
    "                axs[linha, coluna].axvspan(\n",
    "                    cabecalhos[indice_ano] - 0.5,\n",
    "                    cabecalhos[indice_ano] + 0.5,\n",
    "                    ymin=0,\n",
    "                    ymax=1,\n",
    "                    color=\"lightblue\",\n",
    "                    alpha=0.3,\n",
    "                    zorder=-1,\n",
    "                )\n",
    "\n",
    "        # axs[linha, coluna].set_yscale(\"log\")\n",
    "        axs[linha, coluna].set_xlabel(\"Ano\", **fonte)\n",
    "        \"\"\"\n",
    "      if anos_adicionais_prev > 0:\n",
    "        x_labels = axs[linha, coluna].get_xticklabels()\n",
    "        #print(x_labels)\n",
    "        x_labels_int = [int(float(label.get_text())) for label in x_labels]\n",
    "        #print(x_labels)\n",
    "        axs[linha, coluna].set_xticklabels(x_labels_int)\n",
    "      \"\"\"\n",
    "        axs[linha, coluna].set_ylabel(\"Nº de Atendimentos\", **fonte)\n",
    "        axs[linha, coluna].set_title(titulo_quebrado, fontsize=10, **fonte)\n",
    "        axs[linha, coluna].legend(prop=fonte_legenda)\n",
    "        axs[linha, coluna].grid(True)\n",
    "\n",
    "        legenda_pos = plt.gca().get_legend()\n",
    "\n",
    "        analise = None  # toplot_prediction_data[tipo]\n",
    "\n",
    "        try:\n",
    "            for i, (ano_analise, info) in enumerate(analise.items()):\n",
    "                indice_ano = cabecalhos.index(ano_analise)\n",
    "\n",
    "                # Calcula a altura total da escala do eixo y\n",
    "                y_scale_size = max_y - min_y\n",
    "                y_anterior = serie_dados_reais[indice_ano - 1]\n",
    "                y_ultima_prev = serie_previsoes[len(serie_previsoes) - 1]\n",
    "\n",
    "                # Use o índice do ano para encontrar a posição correspondente na série de previsões\n",
    "                x_anno = cabecalhos[\n",
    "                    indice_ano\n",
    "                ]  # A coordenada x para a anotação é o ano analisado\n",
    "                y_anno = serie_dados_reais[\n",
    "                    indice_ano\n",
    "                ]  # A coordenada y para a anotação é o valor da previsão para o ano analisado\n",
    "                y_prev = serie_previsoes[indice_ano]\n",
    "                y_mid = (y_anno + y_prev) / 2\n",
    "\n",
    "                posicao_y_anotacao = (y_mid - min_y) / (y_scale_size)\n",
    "                posicao_y_anterior = (y_anterior - min_y) / (y_scale_size)\n",
    "                posicao_y_ultima_prev = (y_ultima_prev - min_y) / (y_scale_size)\n",
    "\n",
    "                posicao_threshold = 0.6\n",
    "                axs[linha, coluna].annotate(\n",
    "                    \"\",\n",
    "                    xy=(x_anno, y_prev),\n",
    "                    xytext=(x_anno, y_anno),\n",
    "                    arrowprops=dict(\n",
    "                        arrowstyle=\"<|-|>\", color=\"black\", alpha=0.5, mutation_scale=15\n",
    "                    ),\n",
    "                )\n",
    "\n",
    "                # print(tipo, legenda_pos, posicao_y_anotacao, slopes_d[tipo])\n",
    "                if posicao_y_anotacao > 0.4:\n",
    "                    if slopes_d[tipo] > 0:\n",
    "                        x_offset = 60\n",
    "                        y_offset = -60\n",
    "                    else:\n",
    "                        x_offset = 60\n",
    "                        y_offset = 60 if legenda_pos == \"upper\" else -80\n",
    "                else:\n",
    "                    if posicao_y_ultima_prev < 0.4:\n",
    "                        x_offset = -100 if slopes_d[tipo] > 0 else 40\n",
    "                        y_offset = 40\n",
    "                    elif slopes_d[tipo] > 0:\n",
    "                        x_offset = 60\n",
    "                        y_offset = -30\n",
    "                    else:\n",
    "                        x_offset = 60\n",
    "                        y_offset = 50\n",
    "\n",
    "                # Arredonde os valores de diferença e diferença percentual\n",
    "                diff_rounded = round(\n",
    "                    info[\"difference\"], 2\n",
    "                )  # Arredonda para 2 casas decimais\n",
    "                diff_percent_rounded = round(\n",
    "                    info[\"difference_percentual\"] * 100, 2\n",
    "                )  # Arredonda para 2 casas decimais\n",
    "                p_value_anal = \"p-Value: {:.5f}\".format(info[\"p_value_IC\"])\n",
    "\n",
    "                # Adicione a anotação ao subplot\n",
    "\n",
    "                offset = (x_offset, y_offset)\n",
    "                text_sign = (\n",
    "                    \"IC Significativo\\n\"\n",
    "                    if info[\"significant\"]\n",
    "                    else \"IC Não Significativo\\n\"\n",
    "                )\n",
    "                an_text = f\"{text_sign}{p_value_anal}\\nΔ: {diff_rounded} ({diff_percent_rounded} %)\"\n",
    "\n",
    "                face_color = \"lightblue\" if info[\"significant\"] else \"gray\"\n",
    "                font_weight = \"normal\"  #'bold' if info[\"sgnf\"] else 'normal'\n",
    "                fontsize = 8.5 if info[\"significant\"] else 8.5\n",
    "                annotation = axs[linha, coluna].annotate(\n",
    "                    an_text,\n",
    "                    xy=(x_anno, y_mid),\n",
    "                    xycoords=\"data\",\n",
    "                    xytext=offset,\n",
    "                    textcoords=\"offset pixels\",\n",
    "                    arrowprops=dict(arrowstyle=\"->\", connectionstyle=\"arc3,rad=0\"),\n",
    "                    fontsize=fontsize,\n",
    "                    bbox=dict(facecolor=face_color, alpha=0.4),\n",
    "                    fontweight=font_weight,\n",
    "                    **fonte,\n",
    "                )\n",
    "                bbox_current = annotation.get_window_extent(renderer=None)\n",
    "        except:\n",
    "            print(\"sorrrey no can do the thing\")\n",
    "\n",
    "        # Definir os limites dos eixos y para ter a magnitude desejada\n",
    "\n",
    "        axs[linha, coluna].set_ylim(min_y, max_y)\n",
    "        axs[linha, coluna].set_xlim(cabecalhos[0], cabecalhos[len(cabecalhos) - 1])\n",
    "        # Salvar o gráfico em PDF\n",
    "        # plt.savefig(f\"{escala_info}_{tipo}_gráfico.pdf\", format='pdf')\n",
    "        # plt.show()\n",
    "        # Salvar o gráfico em formato editável (SVG)\n",
    "        # plt.savefig(f\"{escala_info}_{tipo}_gráfico.svg\", format='svg')\n",
    "\n",
    "    plt.tight_layout()\n",
    "\n",
    "    plt.subplots_adjust(hspace=0.7)\n",
    "\n",
    "    dpi = 1000 if len(tipos_transtorno) < 20 else 1\n",
    "\n",
    "    if anos_excluir == [] and anos_adicionais_prev > 0:\n",
    "        plt.savefig(\n",
    "            f\"previsoes_futuras_anos_completos_{tipo_dado}_graficos_agrupados.pdf\",\n",
    "            format=\"pdf\",\n",
    "            dpi=dpi,\n",
    "        )\n",
    "        plt.savefig(\n",
    "            f\"previsoes_futuras_anos_completos_{tipo_dado}_graficos_agrupados.svg\",\n",
    "            format=\"svg\",\n",
    "            dpi=dpi,\n",
    "        )\n",
    "    else:\n",
    "        plt.savefig(f\"{tipo_dado}_graficos_agrupados.pdf\", format=\"pdf\", dpi=dpi)\n",
    "        plt.savefig(f\"{tipo_dado}_graficos_agrupados.svg\", format=\"svg\", dpi=dpi)\n",
    "\n",
    "    plt.show()\n",
    "    print(\"tipo de dado: \", tipo_dado)"
   ]
  },
  {
   "cell_type": "code",
   "execution_count": null,
   "metadata": {
    "id": "3AesEJcum42c"
   },
   "outputs": [],
   "source": [
    "if False:\n",
    "    for variable, results in results.items():\n",
    "        print(f\"Regression results for variable: {variable}\")\n",
    "        print(results.summary())\n",
    "        print(\"\\n\")  # Add a separator between variables"
   ]
  }
 ],
 "metadata": {
  "colab": {
   "authorship_tag": "ABX9TyNOLxZOoce2yHmr6XCh0F+2",
   "collapsed_sections": [
    "EwX1y9X8yfED",
    "QDBIDev2zRdM"
   ],
   "include_colab_link": true,
   "mount_file_id": "1mtU-p7lJEB4nbIv46bqll0vutSNv3pZj",
   "provenance": [],
   "toc_visible": true
  },
  "kernelspec": {
   "display_name": "Python 3",
   "name": "python3"
  },
  "language_info": {
   "codemirror_mode": {
    "name": "ipython",
    "version": 3
   },
   "file_extension": ".py",
   "mimetype": "text/x-python",
   "name": "python",
   "nbconvert_exporter": "python",
   "pygments_lexer": "ipython3",
   "version": "3.12.5"
  }
 },
 "nbformat": 4,
 "nbformat_minor": 0
}
