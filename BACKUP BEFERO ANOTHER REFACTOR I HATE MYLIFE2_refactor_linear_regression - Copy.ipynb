{
  "cells": [
    {
      "cell_type": "markdown",
      "metadata": {
        "id": "view-in-github"
      },
      "source": [
        "<a href=\"https://colab.research.google.com/github/rato42/linear_regression/blob/unstable-yeah-sure/CLASSBASED_new_linear_regression.ipynb\" target=\"_parent\"><img src=\"https://colab.research.google.com/assets/colab-badge.svg\" alt=\"Open In Colab\"/></a>"
      ]
    },
    {
      "cell_type": "markdown",
      "metadata": {
        "id": "EwX1y9X8yfED"
      },
      "source": [
        "# Imports\n"
      ]
    },
    {
      "cell_type": "code",
      "execution_count": 337,
      "metadata": {
        "colab": {
          "base_uri": "https://localhost:8080/"
        },
        "id": "sOJUZR18gkp5",
        "outputId": "dd4a2f5c-7c6d-4675-937c-4e5202e40ef1"
      },
      "outputs": [
        {
          "name": "stdout",
          "output_type": "stream",
          "text": [
            "Running outside Colab (VS Code/local)\n"
          ]
        }
      ],
      "source": [
        "import sys\n",
        "\n",
        "# Detect Colab environment\n",
        "IN_COLAB = \"google.colab\" in sys.modules\n",
        "\n",
        "if IN_COLAB:\n",
        "    from google.colab import drive, auth\n",
        "    from googleapiclient.discovery import build\n",
        "    from googleapiclient.http import MediaIoBaseDownload\n",
        "    !pip install pwlf\n",
        "\n",
        "    import pwlf\n",
        "\n",
        "    auth.authenticate_user()\n",
        "    drive.mount(\"/content/drive\")\n",
        "else:\n",
        "    import pwlf\n",
        "    from oauth2client.service_account import ServiceAccountCredentials\n",
        "\n",
        "    print(\"Running outside Colab (VS Code/local)\")\n",
        "\n",
        "try:\n",
        "    import gspread\n",
        "except ModuleNotFoundError:\n",
        "    if IN_COLAB and \"google.colab\" in str(get_ipython()):\n",
        "        %pip install gspread\n",
        "    import gspread\n",
        "\n",
        "from gspread_dataframe import set_with_dataframe"
      ]
    },
    {
      "cell_type": "code",
      "execution_count": 338,
      "metadata": {
        "id": "uc_HtA6xvVE2"
      },
      "outputs": [],
      "source": [
        "\n",
        "import os\n",
        "\n",
        "import time\n",
        "\n",
        "import math\n",
        "import scipy.stats as stats\n",
        "import pandas as pd\n",
        "import numpy as np\n",
        "\n",
        "from statsmodels.genmod.generalized_estimating_equations import GEE\n",
        "from statsmodels.genmod.families import Poisson\n",
        "from statsmodels.genmod.cov_struct import Autoregressive\n",
        "from sklearn.linear_model import Ridge\n",
        "import statsmodels.api as sm\n",
        "\n",
        "from openpyxl import load_workbook\n",
        "from openpyxl.styles import Alignment\n",
        "\n",
        "from scipy.stats import linregress, ttest_ind, ttest_rel, ttest_1samp\n",
        "import matplotlib.pyplot as plt\n",
        "import re\n",
        "from openpyxl.drawing.image import Image\n",
        "from matplotlib.font_manager import FontProperties\n",
        "from io import BytesIO\n",
        "import statsmodels.formula.api as smf\n",
        "import statsmodels.api as sm\n",
        "\n",
        "import numpy as np\n",
        "import plotly.graph_objects as go\n",
        "\n",
        "\n",
        "from datetime import datetime, timedelta\n",
        "\n",
        "from statsmodels.stats.stattools import durbin_watson\n",
        "from statsmodels.stats.diagnostic import acorr_ljungbox\n",
        "from statsmodels.tools.tools import add_constant\n",
        "from statsmodels.tsa.arima.model import ARIMA\n",
        "from statsmodels.graphics.tsaplots import plot_acf, plot_pacf\n",
        "from statsmodels.tsa.statespace.sarimax import SARIMAX\n",
        "\n",
        "from sklearn.preprocessing import StandardScaler\n",
        "from sklearn.model_selection import train_test_split\n",
        "from sklearn.metrics import r2_score, mean_squared_error\n",
        "from sklearn.pipeline import Pipeline\n",
        "from sklearn.base import BaseEstimator, TransformerMixin\n",
        "from sklearn.preprocessing import FunctionTransformer\n",
        "\n",
        "from dateutil.relativedelta import relativedelta\n",
        "\n",
        "from sklearn import set_config\n",
        "set_config(display=\"diagram\")\n",
        "\n",
        "import logging\n",
        "from typing import Dict, Any\n",
        "\n",
        "import io"
      ]
    },
    {
      "cell_type": "markdown",
      "metadata": {
        "id": "M6pmUGm9ycJ_"
      },
      "source": [
        "# LOAD --- data from gsheet if colab or local\n"
      ]
    },
    {
      "cell_type": "code",
      "execution_count": 339,
      "metadata": {
        "id": "r6jsbsBZvWHp"
      },
      "outputs": [],
      "source": [
        "dados_brutos = None\n",
        "output_wksheet = None\n",
        "\n",
        "input_path = \"https://docs.google.com/spreadsheets/d/1m3eEaxWT4Unb8jBZWKjiLivavfA0x3PT1F1Rz1eXwVE/edit?gid=0\"\n",
        "output_path = \"https://docs.google.com/spreadsheets/d/1RzC3DfKNUwYA-qfUN0i53hUwRkWGMBOCoYQqdqG4MQY/edit?gid=0\"\n",
        "\n",
        "local_input_path = (\n",
        "    #\"D:\\\\CodeStuff\\\\Stats\\\\colab_linear_regression\\\\linear_regression\\\\input\\\\input.csv\" ### poa\n",
        "    #\"D:\\\\CodeStuff\\\\Stats\\\\colab_linear_regression\\\\linear_regression\\\\input\\\\input_backup_com_aps_total_RS.xlsx\" ### rs\n",
        "    #\"D:\\\\CodeStuff\\\\Stats\\\\colab_linear_regression\\\\linear_regression\\\\input\\\\input_backup_com_aps_total.xlsx\"\n",
        "    #\"D:\\\\CodeStuff\\\\Stats\\\\colab_linear_regression\\\\linear_regression\\\\input\\\\input_backup_com_aps_total_RS_percentual.xlsx\"\n",
        "    #\"D:\\\\CodeStuff\\\\Stats\\\\colab_linear_regression\\\\linear_regression\\\\input\\\\input_IR_1000_poa.xlsx\"\n",
        "    #\"D:\\\\CodeStuff\\\\Stats\\\\colab_linear_regression\\\\linear_regression\\\\input\\\\input_IR_1000_brasil.xlsx\"\n",
        "    #\"D:\\\\CodeStuff\\\\Stats\\\\colab_linear_regression\\\\linear_regression\\\\input\\\\regions_IR_1000.xlsx\"\n",
        "    \"D:\\\\CodeStuff\\\\Stats\\\\colab_linear_regression\\\\linear_regression\\\\input\\\\raw_regions_joined.xlsx\"\n",
        ")\n",
        "\n",
        "output_wksheet = None\n",
        "\n",
        "if IN_COLAB:\n",
        "    import gspread\n",
        "    from google.auth import default\n",
        "\n",
        "    auth.authenticate_user()\n",
        "    creds, _ = default()\n",
        "    gc = gspread.authorize(creds)\n",
        "    workbook = gc.open_by_url(input_path)\n",
        "    worksheets = workbook.worksheets()\n",
        "    output_wksheet = gc.open_by_url(output_path)\n",
        "    dados_brutos = worksheets[0].get_all_values()\n",
        "else:\n",
        "    try:\n",
        "        dados_brutos = pd.read_csv(local_input_path, header=None).values.tolist()\n",
        "    except:\n",
        "        dados_brutos = pd.read_excel(local_input_path, header=None).values.tolist()"
      ]
    },
    {
      "cell_type": "markdown",
      "metadata": {
        "id": "wNrVpR84NIXY"
      },
      "source": [
        "# TODO LIST"
      ]
    },
    {
      "cell_type": "markdown",
      "metadata": {},
      "source": [
        "PROMPT\n",
        "im doing a ITS. here is the structure\n",
        "data is monthly, from 2016 to 2024\n",
        "A PraisWinsten regression\n",
        "\n",
        "the following dummies:\n",
        "Pandemia_Step [2020 - 2022] - binary\n",
        "Pandemia_Trend [2020 - 2022] - increase by 1 by period\n",
        "PosPandemia_Step [2022 - 2024] - binary\n",
        "PosPandemia_Trend [2022 - 2024] - increase by 1 by period\n",
        "Lockdown 2020 [03/2020 - 05/2020] - pulse, binary\n",
        "Locdown 2021 [04/2021 - 05/2021] - pulse, binary"
      ]
    },
    {
      "cell_type": "code",
      "execution_count": 340,
      "metadata": {},
      "outputs": [],
      "source": [
        "#Parte 1 – Análise geral com grupo controle\n",
        "#\n",
        "#    ITS com controle (como já falamos)\n",
        "#\n",
        "#    Mostra que saúde mental cresceu mais que os atendimentos gerais\n",
        "#\n",
        "#    Mostra os efeitos da pandemia nesse comportamento\n",
        "#\n",
        "#Parte 2 – Análise dos subgrupos (sem controle)\n",
        "#\n",
        "#    ITS separado para cada diagnóstico (ex: CID-10 F32, F41, etc.)\n",
        "#\n",
        "#    Sem grupo controle, mas comparando antes/depois da pandemia\n",
        "#\n",
        "#    Pode usar o mesmo modelo (Prais-Winsten com step + trend)"
      ]
    },
    {
      "cell_type": "code",
      "execution_count": 341,
      "metadata": {},
      "outputs": [],
      "source": [
        "#Omnibus Test: The high value (41.163) and the p-value (< 0.0001) \n",
        "# suggest that the residuals deviate from normality, which might indicate some model specification issues.\n",
        "#\n",
        "#Jarque-Bera Test: Similarly, this test suggests non-normality in the residuals."
      ]
    },
    {
      "cell_type": "code",
      "execution_count": 342,
      "metadata": {},
      "outputs": [
        {
          "data": {
            "text/plain": [
              "'\\nimport statsmodels.api as sm\\n\\n# model with step\\nmod_full = sm.OLS(y, X_full).fit()\\n\\n# model without step\\nmod_reduced = sm.OLS(y, X_reduced).fit()\\n\\n# compare using F-test\\nf_test_result = mod_full.compare_f_test(mod_reduced)\\n'"
            ]
          },
          "execution_count": 342,
          "metadata": {},
          "output_type": "execute_result"
        }
      ],
      "source": [
        "### to test if step is necessary\n",
        "\n",
        "'''\n",
        "import statsmodels.api as sm\n",
        "\n",
        "# model with step\n",
        "mod_full = sm.OLS(y, X_full).fit()\n",
        "\n",
        "# model without step\n",
        "mod_reduced = sm.OLS(y, X_reduced).fit()\n",
        "\n",
        "# compare using F-test\n",
        "f_test_result = mod_full.compare_f_test(mod_reduced)\n",
        "'''"
      ]
    },
    {
      "cell_type": "code",
      "execution_count": 343,
      "metadata": {
        "id": "5yCwGqXBNIXY"
      },
      "outputs": [],
      "source": [
        "# TODO: Adicionar dummy de interação para comparar SM e outros atendimentos\n",
        "\n",
        "# TODO: Orthogonalise pospand trend (so to not have colinearity with months)\n",
        "\n",
        "# TODO: analisar overfitting\n",
        "\n",
        "# TODO: taxa. a população se mantem estavel? os serviços de saude se mantem estaveis?\n",
        "\n",
        "# https://chatgpt.com/canvas/shared/68084b682c548191a92db280344e5474"
      ]
    },
    {
      "cell_type": "markdown",
      "metadata": {
        "id": "gGzVKl7DNIXZ"
      },
      "source": [
        "--- Low HIGH COMPLEXITY\n",
        "\n",
        "- [x] Data Quality & Exploration  \n",
        "  - [x] Plot the raw time series and annotate intervention points.  \n",
        "  - [x] Check for missing values, outliers, or data entry errors.  \n",
        "  - [x] Verify your date index is consistent (e.g., monthly frequency).  \n",
        "\n",
        "- [x] Descriptive Statistics  \n",
        "  - [x] Compute summary statistics (mean, variance) before and after the pandemic.  \n",
        "  - [x] Calculate and plot moving averages to smooth trends.  \n",
        "\n",
        "- [x] Dummy Variable Audit  \n",
        "  - [x] Confirm each dummy is coded 0/1 for the correct periods.  \n",
        "  - [x] Review naming consistency and placement in the DataFrame.  \n",
        "\n",
        "- [x] Basic Model Fit  \n",
        "  - [x] Fit the current segmented regression (consults ~ time + level_dummy + slope_dummy + month_dummies + lockdown_outliers).  \n",
        "  - [x] Inspect R², coefficient signs, and p-values to sanity-check effects.  Export this to a readeable format\n",
        "\n",
        "--- MEDIUM COMPLEXITY\n",
        "\n",
        "- [ ] Residual Diagnostics  \n",
        "  - [X] Plot residuals vs. fitted values to check heteroscedasticity.  \n",
        "  - [ ] Examine ACF/PACF of residuals:  \n",
        "    - [X] First using OLS (to confirm the need for AR structure).  \n",
        "    - [X] Then using Prais-Winsten (to assess remaining autocorrelation).  \n",
        "\n",
        "- [ ] Autocorrelation & Robust SE  \n",
        "  - [ ] If autocorrelation exists, adjust standard errors (e.g., Newey-West) or fit an autoregressive error structure (e.g., AR(1)).  \n",
        "  - [ ] Since you’re using Prais-Winsten, this step may be partially addressed — verify with residuals.  \n",
        "\n",
        "- [ ] Seasonality & Trend Flexibility  \n",
        "  - [ ] Test alternative seasonal structures (e.g., Fourier terms) instead of month dummies.  \n",
        "  - [ ] Consider adding a quadratic or spline-based time trend.  \n",
        "\n",
        "- [ ] Outlier Handling  \n",
        "  - [ ] Justify and potentially consolidate lockdown outlier dummies (pulse vs. step).  \n",
        "  - [ ] Compare models with and without these outlier dummies (use AIC/BIC).  \n",
        "\n",
        "- [ ] Multicollinearity Check  \n",
        "  - [ ] Compute Variance Inflation Factors (VIFs) for covariates.  \n",
        "\n",
        "--- HIGH COMPLEXITY\n",
        "\n",
        "- [ ] Adicionar dummy de interação para comparar SM e outros atendimentos\n",
        "\n",
        "- [ ] Time-Series Cross-Validation  \n",
        "  - [ ] Implement rolling-origin evaluation to assess predictive performance.  \n",
        "  - [ ] Compare cross-validated errors (e.g., RMSE) across model specs to detect overfitting.  \n",
        "\n",
        "- [ ] Model Comparison & Selection  \n",
        "  - [ ] Use information criteria (AIC/BIC) to compare alternative models.  \n",
        "  - [ ] Evaluate nested models (e.g., with/without slope change) via likelihood ratio tests.  \n",
        "\n",
        "- [ ] Advanced Interrupted Time Series Methods  \n",
        "  - [ ] Explore Bayesian ITS or segmented regression with autoregressive integrated moving average (ARIMA) errors.  \n",
        "  - [x] Consider structural break tests (e.g., Chow test) for formal change-point detection.  \n",
        "\n",
        "- [ ] Sensitivity & Robustness  \n",
        "  - [ ] Run sensitivity analyses using different intervention start/end dates.  \n",
        "  - [ ] Test robustness to alternative outlier definitions or lag structures.  \n",
        "\n",
        "- [ ] Forecasting & Counterfactuals  \n",
        "  - [ ] Generate counterfactual predictions for the post-pandemic period.  \n",
        "  - [ ] Visualize observed vs. counterfactual to illustrate intervention impact."
      ]
    },
    {
      "cell_type": "code",
      "execution_count": 344,
      "metadata": {},
      "outputs": [],
      "source": [
        "def build_model_formula(dependant_var, independant_var=False, dummy_names=[]):\n",
        "    \"\"\"\n",
        "    Builds the regression formula dynamically.\n",
        "\n",
        "    Parameters:\n",
        "    -----------\n",
        "    dependant_var : str\n",
        "        The dependent variable (Y).\n",
        "    independant_var : str or bool\n",
        "        The independent variable (X). If False, it will be excluded.\n",
        "    dummy_names : list\n",
        "        List of dummy variable names to include in the formula.\n",
        "\n",
        "    Returns:\n",
        "    --------\n",
        "    str\n",
        "        The regression formula.\n",
        "    \"\"\"\n",
        "    base_model_formula = f\"{dependant_var} ~ \"\n",
        "    if independant_var:\n",
        "        base_model_formula += f\"{independant_var} + \"\n",
        "\n",
        "    # Add dummy variables (including Fourier terms if present)\n",
        "    model_formula = base_model_formula\n",
        "    if dummy_names:\n",
        "        for i, dummy in enumerate(dummy_names):\n",
        "            model_formula += dummy\n",
        "            if i != len(dummy_names) - 1:  # Add '+' if not the last element\n",
        "                model_formula += \" + \"\n",
        "\n",
        "    return model_formula.strip(\" + \"), base_model_formula.strip(\" + \")\n",
        "\n",
        "\n",
        "def build_dummy_names(dummies_args, include_month_dummies, include_quarter_dummies, include_fourier_terms=False, n_harmonics=1):\n",
        "    \"\"\"\n",
        "    Builds the list of dummy variable names dynamically.\n",
        "\n",
        "    Parameters:\n",
        "    -----------\n",
        "    dummies_args : dict\n",
        "        Dictionary of dummy variable configurations.\n",
        "    include_month_dummies : bool\n",
        "        Whether to include month dummies.\n",
        "    include_quarter_dummies : bool\n",
        "        Whether to include quarter dummies.\n",
        "    include_fourier_terms : bool\n",
        "        Whether to include Fourier terms for seasonality.\n",
        "    n_harmonics : int\n",
        "        Number of Fourier harmonics to include.\n",
        "\n",
        "    Returns:\n",
        "    --------\n",
        "    list\n",
        "        List of dummy variable names.\n",
        "    \"\"\"\n",
        "    dummy_names = []\n",
        "\n",
        "    # Add dummy variables from dummies_args\n",
        "    for dummy_name in dummies_args.keys():\n",
        "        dummy_names.append(dummy_name)\n",
        "\n",
        "    # Add Fourier terms if enabled\n",
        "    if include_fourier_terms:\n",
        "        for k in range(1, n_harmonics + 1):\n",
        "            dummy_names.append(f\"cos{k}\")\n",
        "            dummy_names.append(f\"sin{k}\")\n",
        "\n",
        "    # Add month dummies if enabled\n",
        "    if include_month_dummies:\n",
        "        for i in range(1, 12):\n",
        "            dummy_names.append(\"month_\" + str(i + 1))\n",
        "\n",
        "    # Add quarter dummies if enabled\n",
        "    if include_quarter_dummies:\n",
        "        for i in range(1, 4):\n",
        "            dummy_names.append(\"quarter_\" + str(i + 1))\n",
        "\n",
        "    return dummy_names\n"
      ]
    },
    {
      "cell_type": "markdown",
      "metadata": {
        "id": "SAATuGWcyPmG"
      },
      "source": [
        "# ARGS --- Define Args\n"
      ]
    },
    {
      "cell_type": "code",
      "execution_count": 345,
      "metadata": {
        "id": "N43j0vRL3QsP"
      },
      "outputs": [
        {
          "name": "stderr",
          "output_type": "stream",
          "text": [
            "c:\\Users\\Lucas\\AppData\\Local\\Programs\\Python\\Python312\\Lib\\site-packages\\statsmodels\\genmod\\cov_struct.py:796: FutureWarning:\n",
            "\n",
            "grid=True will become default in a future version\n",
            "\n"
          ]
        }
      ],
      "source": [
        "### ARGS\n",
        "\n",
        "\n",
        "RAW_ATD_VAR = 'valores'\n",
        "RAW_TOTAL_ATD_VAR = 'total_atd'\n",
        "IR_VAR = 'IR'\n",
        "IR_SCALE = 1000\n",
        "DATE_NAME = \"date\"\n",
        "GROUP_COL_NAME = \"variavel\"\n",
        "LOCAL_OUTPUT_PATH = \"D:\\\\CodeStuff\\\\Stats\\\\colab_linear_regression\\\\linear_regression\\\\output\\\\output.xlsx\"\n",
        "\n",
        "\n",
        "MAIN_SERIE = '_Grand Total'\n",
        "CONTROL_SERIE = '__Atendimentos na APS (exceto saúde mental)'\n",
        "\n",
        "MOVING_WINDOW = 12\n",
        "PLOT_MEDIA_MOVEL = False\n",
        "\n",
        "\n",
        "### model vars\n",
        "INDEPENDENT_VAR = \"periodo\"  ### Y\n",
        "DEPENDENT_VAR = IR_VAR#RAW_ATD_VAR #\"valores\"  ### X\n",
        "\n",
        "\n",
        "######### DUMMIES ##########\n",
        "\n",
        "MEDIA_MOVEL_AS_FEATURE = False\n",
        "MEDIA_MOVEL_AS_DEPENDENT = False\n",
        "\n",
        "INCLUDE_FOURIER_TERMS = True\n",
        "N_HARMONICS = 1\n",
        "FOURIER_PERIOD = 12\n",
        "INCLUDE_MONTH_DUMMIES = False\n",
        "INCLUDE_QUARTER_DUMMIES = False\n",
        "\n",
        "PRE_START_DATE = \"2016-01-01\"  ### data inicial para o modelo, se for menor que a data do dataframe, o modelo vai dar erro\n",
        "\n",
        "### as quedas do primeiro lockdown nao são tão claras e a recuperação e queda parecem ser mais graduais\n",
        "CHOQUE_INICIAL_START_DATE= \"2020-03-01\"\n",
        "CHOQUE_INICIAL_END_DATE = \"2020-07-01\"#\"2020-08-01\" #month based\n",
        "\n",
        "### abril e maio tiveram quedas bem identificaveis nos atendimentos em todas variavieis\n",
        "SECONDLOCKDOWN_START_DATE = \"2021-04-01\"\n",
        "SECONDLOCKDOWN_END_DATE = '2021-05-01' #month based  #'2021-04-01'#quarter_based #\n",
        "\n",
        "PANDEMIA_START_DATE = \"2020-04-01\"\n",
        "PANDEMIA_END_DATE = \"2022-03-01\" #\"2021-02-01\" \n",
        "\n",
        "\n",
        "\n",
        "\n",
        "PANDEMIA2_START_DATE = \"2021-03-01\"\n",
        "PANDEMIA2_END_DATE = \"2022-03-01\" \n",
        "\n",
        "POS_PANDEMIA_START_DATE = \"2022-04-01\"\n",
        "END_DATE = \"2024-12-01\"#\"2024-12-01\"  ### data final para o modelo, se for maior que a data do dataframe, o modelo vai dar erro\n",
        "\n",
        "\n",
        "\n",
        "\n",
        "OMNICRON_START_DATE = \"2022-01-01\"\n",
        "OMNICRON_END_DATE = \"2022-02-01\"  ### data final para o modelo, se for maior que a data do dataframe, o modelo vai dar erro\n",
        "\n",
        "'''\n",
        "DUMMY_ARGS =        {\n",
        "        'Choque_Inicial': {\"start_date\": CHOQUE_INICIAL_START_DATE, \"end_date\": CHOQUE_INICIAL_END_DATE},\n",
        "        'Lockdown_2021': {\"start_date\": SECONDLOCKDOWN_START_DATE, \"end_date\": SECONDLOCKDOWN_END_DATE},\n",
        "        #'Enchentes_2024': {\"start_date\": \"2024-05-01\", \"end_date\": \"2024-05-01\"},\n",
        "        'Step_PosPandemia': {\"start_date\": POS_PANDEMIA_START_DATE, \"end_date\": END_DATE,'exclude_ranges': POS_PANDEMIA_EXCLUDE_RANGES, 'plot':False, 'step': True,},\n",
        "        'Trend_PosPandemia' : {\"start_date\": POS_PANDEMIA_START_DATE, \"end_date\": END_DATE,'exclude_ranges': POS_PANDEMIA_EXCLUDE_RANGES, 'plot': True, 'add_time_trend': True, 'keep_period_index': False, 'step': False},\n",
        "        }\n",
        "'''\n",
        "\n",
        "POS_PANDEMIA_EXCLUDE_RANGES = [\n",
        "    #(CHOQUE_INICIAL_START_DATE, CHOQUE_INICIAL_END_DATE),\n",
        "    #(SECONDLOCKDOWN_START_DATE, SECONDLOCKDOWN_END_DATE),\n",
        "    #(\"2024-05-01\", \"2024-05-01\"),\n",
        "                               ]\n",
        "\n",
        "PANDEMIA_EXCLUDE_RANGES = [\n",
        "    #(CHOQUE_INICIAL_START_DATE, CHOQUE_INICIAL_END_DATE),\n",
        "    #(SECONDLOCKDOWN_START_DATE, SECONDLOCKDOWN_END_DATE),\n",
        "    #(OMNICRON_START_DATE, OMNICRON_END_DATE),\n",
        "]\n",
        "\n",
        "TESTE_REMOVE_OUTLIER_START = \"2019-10-01\"\n",
        "TESTE_REMOVE_OUTLIER_END = \"2019-12-01\"  ### data final para o modelo, se for maior que a data do dataframe, o modelo vai dar erro\n",
        "PREPANDEMIA_EXCLUDE_RANGES = [\n",
        "    #(TESTE_REMOVE_OUTLIER_START, TESTE_REMOVE_OUTLIER_END),\n",
        "]\n",
        "\n",
        "TREND_KEEP_PERIOD_INDEX = False  ### se True, o modelo vai manter o index do periodo, se False, o modelo vai usar o index do dataframe original (sem os dummies)\n",
        "\n",
        "DUMMY_ARGS =        {\n",
        "        \n",
        "        \n",
        "        #'PrePandemia_Step': {\"start_date\": PRE_START_DATE, \"end_date\": PANDEMIA_START_DATE, 'exclude_ranges': PANDEMIA_EXCLUDE_RANGES,},\n",
        "        #'PrePandemia_Trend' : {\"start_date\": PRE_START_DATE, \"end_date\": PANDEMIA_START_DATE,'exclude_ranges': PREPANDEMIA_EXCLUDE_RANGES, 'add_time_trend': True, 'keep_period_index': False},\n",
        "        \n",
        "        'Pandemia_Step': {\"start_date\": PANDEMIA_START_DATE, \"end_date\": PANDEMIA_END_DATE, 'exclude_ranges': PANDEMIA_EXCLUDE_RANGES,},\n",
        "        'Pandemia_Trend' : {\"start_date\": PANDEMIA_START_DATE, \"end_date\": PANDEMIA_END_DATE,'exclude_ranges': PANDEMIA_EXCLUDE_RANGES, 'add_time_trend': True, 'keep_period_index': TREND_KEEP_PERIOD_INDEX},\n",
        "        \n",
        "        #'Pandemia2_Step': {\"start_date\": PANDEMIA2_START_DATE, \"end_date\": PANDEMIA2_END_DATE, 'exclude_ranges': PANDEMIA_EXCLUDE_RANGES,},\n",
        "        #'Pandemia2_Trend' : {\"start_date\": PANDEMIA2_START_DATE, \"end_date\": PANDEMIA2_END_DATE,'exclude_ranges': PANDEMIA_EXCLUDE_RANGES, 'add_time_trend': True, 'keep_period_index': TREND_KEEP_PERIOD_INDEX},\n",
        "\n",
        "        'PosPandemia_Step': {\"start_date\": POS_PANDEMIA_START_DATE, \"end_date\": END_DATE,'exclude_ranges': POS_PANDEMIA_EXCLUDE_RANGES, 'plot':False, 'step': True,},\n",
        "        'PosPandemia_Trend' : {\"start_date\": POS_PANDEMIA_START_DATE, \"end_date\": END_DATE,'exclude_ranges': POS_PANDEMIA_EXCLUDE_RANGES, 'plot': True, 'add_time_trend': True, 'keep_period_index': TREND_KEEP_PERIOD_INDEX, 'step': False},\n",
        "        \n",
        "        ### Pulse Outliers\n",
        "        #'teste_remove_outlier': {\"start_date\": TESTE_REMOVE_OUTLIER_START, \"end_date\": TESTE_REMOVE_OUTLIER_END,},\n",
        "        #'Lockdown_2020_Step': {\"start_date\": CHOQUE_INICIAL_START_DATE, \"end_date\": CHOQUE_INICIAL_END_DATE},\n",
        "        #'Lockdown_2021_Step': {\"start_date\": SECONDLOCKDOWN_START_DATE, \"end_date\": SECONDLOCKDOWN_END_DATE},\n",
        "        #'Omnicron_2022': {\"start_date\": OMNICRON_START_DATE, \"end_date\": OMNICRON_END_DATE},\n",
        "        #'Enchentes_2024': {\"start_date\": \"2024-05-01\", \"end_date\": \"2024-05-01\"},\n",
        "        }\n",
        "\n",
        "\n",
        "\n",
        "##############################\n",
        "\n",
        "\n",
        "PREPROCESSOR_ARGS = {\n",
        "    'DateRange': [2016, 2024],\n",
        "    'FrequencyDateGroup' : 'M',\n",
        "    'DummyArgs' : DUMMY_ARGS,\n",
        "    'melt_total_atd': True,\n",
        "    'ExtractIR': True,\n",
        "}\n",
        "\n",
        "\n",
        "\n",
        "###### PROCESSING ######\n",
        "\n",
        "\n",
        "DUMMY_NAMES = build_dummy_names(\n",
        "          DUMMY_ARGS,\n",
        "          INCLUDE_MONTH_DUMMIES,\n",
        "          INCLUDE_QUARTER_DUMMIES,\n",
        "          include_fourier_terms=INCLUDE_FOURIER_TERMS,\n",
        "          n_harmonics=N_HARMONICS,\n",
        "          )\n",
        "\n",
        "MODEL_FORMULA, BASE_MODEL_FORMULA = build_model_formula(DEPENDENT_VAR,\n",
        "                                                        INDEPENDENT_VAR,\n",
        "                                                        dummy_names = DUMMY_NAMES,\n",
        "\n",
        "                                                        )\n",
        "\n",
        "\n",
        "\n",
        "\n",
        "\n",
        "\n",
        "PROCESSOR_ARGS = {\n",
        "    \"formula\": MODEL_FORMULA,#\"valores ~ periodo\",  # Example formula\n",
        "    \"model\":  smf.glsar,#smf.ols,# # Use OLS as the regression model for testing\n",
        "    \"find_best_rho\": True,#True,  # Disable best rho search for simplicity\n",
        "    \"rho\": None,\n",
        "    \"cov_type\": \"HAC\",  # Use nonrobust covariance for testing\n",
        "    \"cov_kwargs\": {'maxlags': 4},  # No additional covariance arguments\n",
        "    \"iterative_fit\": True,  # Enable iterative fitting if needed\n",
        "    \"max_iterations\": 50,  # Set maximum iterations for iterative fitting\n",
        "    \"find_best_rho_args\": {\n",
        "        \"start\": -1.00,\n",
        "        \"stop\": 1.01,\n",
        "        \"step\": 0.01,\n",
        "        \"criterio\": \"aic\"\n",
        "    },\n",
        "}\n",
        "\n",
        "\n",
        "GEE_PROCESSOR_ARGS = {\n",
        "    'formula': MODEL_FORMULA,\n",
        "    \"family\": Poisson(),  # Use Poisson family for count data\n",
        "    \"cov_struct\": Autoregressive(),  # Use autoregressive covariance structure\n",
        "    \"groups\": GROUP_COL_NAME,\n",
        "}\n",
        "\n"
      ]
    },
    {
      "cell_type": "code",
      "execution_count": 346,
      "metadata": {},
      "outputs": [
        {
          "data": {
            "text/plain": [
              "('IR ~ periodo + Pandemia_Step + Pandemia_Trend + PosPandemia_Step + PosPandemia_Trend + cos1 + sin1',\n",
              " 'IR ~ periodo')"
            ]
          },
          "execution_count": 346,
          "metadata": {},
          "output_type": "execute_result"
        }
      ],
      "source": [
        "MODEL_FORMULA, BASE_MODEL_FORMULA\n"
      ]
    },
    {
      "cell_type": "markdown",
      "metadata": {
        "id": "3lst0tSSyWi0"
      },
      "source": [
        "# Define Preprocessors\n"
      ]
    },
    {
      "cell_type": "code",
      "execution_count": 347,
      "metadata": {
        "id": "FAqiSa3R-k3r"
      },
      "outputs": [],
      "source": [
        "def BuildDataDF(data):\n",
        "    string_dates = data[0][1:]  # Store original string dates\n",
        "\n",
        "    # Converter as strings de datas em objetos datetime\n",
        "    #date_list = [datetime.strptime(date, \"%d/%m/%Y\") for date in string_dates]\n",
        "    date_list = [\n",
        "    date if isinstance(date, datetime) else datetime.strptime(date, \"%d/%m/%Y\")\n",
        "    for date in string_dates\n",
        "    ]\n",
        "\n",
        "    # Extrair os nomes das variáveis\n",
        "    variavel = [row[0] for row in data[1:]]\n",
        "\n",
        "    # Extrair os dados (sem agrupamento)\n",
        "    dados = [row[1:] for row in data[1:]]\n",
        "    dados = np.array(dados, dtype=float)  # Converter para tipo object para evitar warning\n",
        "\n",
        "    # Criar o DataFrame with DatetimeIndex\n",
        "    df = pd.DataFrame(data=dados, index=variavel, columns=pd.DatetimeIndex(date_list))\n",
        "\n",
        "    return df\n",
        "\n",
        "class DateFilterTransformer(BaseEstimator, TransformerMixin):\n",
        "    def __init__(\n",
        "        self, periodos_inclusivos=None, periodos_exclusivos=None, date_col=DATE_NAME\n",
        "    ):\n",
        "        self.periodos_inclusivos = periodos_inclusivos\n",
        "        self.periodos_exclusivos = periodos_exclusivos\n",
        "        self.date_col = date_col\n",
        "\n",
        "    def get_date_range(self, Y1, Y2=None, M1=None, M2=None, D1=None, D2=None):\n",
        "        Y2 = Y2 or Y1\n",
        "        M1 = M1 or 1\n",
        "        M2 = M2 or 12\n",
        "        D1 = D1 or 1\n",
        "        D2 = D2 or 31\n",
        "        start_date = datetime(Y1, M1, D1)\n",
        "        end_date = datetime(Y2, M2, D2)\n",
        "        return pd.date_range(start=start_date, end=end_date, freq=\"D\")\n",
        "\n",
        "    def fit(self, X, y=None):\n",
        "        return self\n",
        "\n",
        "    def transform(self, X):\n",
        "        X = X.copy()\n",
        "\n",
        "        # Convert date column if it's not datetime yet\n",
        "        if not pd.api.types.is_datetime64_any_dtype(X[self.date_col]):\n",
        "            X[self.date_col] = pd.to_datetime(X[self.date_col], errors=\"coerce\")\n",
        "\n",
        "        if self.periodos_inclusivos:\n",
        "            valid_dates = self.get_date_range(*self.periodos_inclusivos)\n",
        "            return X[X[self.date_col].isin(valid_dates)].reset_index(drop=True)\n",
        "\n",
        "        elif self.periodos_exclusivos:\n",
        "            invalid_dates = self.get_date_range(*self.periodos_exclusivos)\n",
        "            return X[~X[self.date_col].isin(invalid_dates)].reset_index(drop=True)\n",
        "\n",
        "        return X\n",
        "\n",
        "class MeltTransformer(BaseEstimator, TransformerMixin):\n",
        "    def __init__(\n",
        "        self,\n",
        "        var_name=GROUP_COL_NAME,\n",
        "        value_name=RAW_ATD_VAR,\n",
        "        date_name=DATE_NAME,\n",
        "        y_name=INDEPENDENT_VAR,\n",
        "        perform_IR=False,\n",
        "        total_suffix=\"_total\",\n",
        "        total_column_name=RAW_TOTAL_ATD_VAR,\n",
        "    ):\n",
        "        self.var_name = var_name\n",
        "        self.value_name = value_name\n",
        "        self.date_name = date_name\n",
        "        self.y_name = y_name\n",
        "        self.perform_IR = perform_IR\n",
        "        self.total_suffix = total_suffix\n",
        "        self.total_column_name = total_column_name\n",
        "\n",
        "    def fit(self, X, y=None):\n",
        "        # Nothing to learn, so just return self\n",
        "        return self\n",
        "\n",
        "    def transform(self, X):\n",
        "        # Separate rows with the `_total` suffix\n",
        "        if self.perform_IR:\n",
        "            reserved_rows = X[X.index.str.endswith(self.total_suffix)]\n",
        "            remaining_rows = X[~X.index.str.endswith(self.total_suffix)]\n",
        "\n",
        "            # Transpose and reset index for the remaining rows\n",
        "            df_long = remaining_rows.T.reset_index()\n",
        "\n",
        "            # Rename index to date_name\n",
        "            df_long = df_long.rename(columns={\"index\": self.date_name})\n",
        "\n",
        "            # Melt the DataFrame\n",
        "            df_long = pd.melt(\n",
        "                df_long,\n",
        "                id_vars=[self.date_name],\n",
        "                var_name=self.var_name,\n",
        "                value_name=self.value_name,\n",
        "            )\n",
        "\n",
        "            # Sort by category and date\n",
        "            df_final = df_long.sort_values([self.var_name, self.date_name]).reset_index(\n",
        "                drop=True\n",
        "            )\n",
        "\n",
        "            # Add the `total_atd` column\n",
        "            reserved_rows = reserved_rows.T.reset_index().rename(columns={\"index\": self.date_name})\n",
        "            reserved_rows_long = pd.melt(\n",
        "                reserved_rows,\n",
        "                id_vars=[self.date_name],\n",
        "                var_name=self.var_name,\n",
        "                value_name=self.total_column_name,\n",
        "            )\n",
        "\n",
        "            # Remove the `_total` suffix from the var_name in reserved_rows_long\n",
        "            reserved_rows_long[self.var_name] = reserved_rows_long[self.var_name].str.replace(\n",
        "                self.total_suffix, \"\", regex=False\n",
        "            )\n",
        "\n",
        "            # Merge the `total_atd` column into the final DataFrame\n",
        "            df_final = df_final.merge(\n",
        "                reserved_rows_long,\n",
        "                on=[self.date_name, self.var_name],\n",
        "                how=\"left\",\n",
        "            )\n",
        "        else:\n",
        "                        # Transpose and reset index for the remaining rows\n",
        "            df_long = X.T.reset_index()\n",
        "\n",
        "            # Rename index to date_name\n",
        "            df_long = df_long.rename(columns={\"index\": self.date_name})\n",
        "\n",
        "            # Melt the DataFrame\n",
        "            df_long = pd.melt(\n",
        "                df_long,\n",
        "                id_vars=[self.date_name],\n",
        "                var_name=self.var_name,\n",
        "                value_name=self.value_name,\n",
        "            )\n",
        "\n",
        "            # Sort by category and date\n",
        "            df_final = df_long.sort_values([self.var_name, self.date_name]).reset_index(\n",
        "                drop=True\n",
        "            )\n",
        "\n",
        "\n",
        "        return df_final\n",
        "\n",
        "class PeriodIndexAdder(BaseEstimator, TransformerMixin):\n",
        "    def __init__(self, group_col=GROUP_COL_NAME, new_col=INDEPENDENT_VAR):\n",
        "        self.group_col = group_col\n",
        "        self.new_col = new_col\n",
        "        self.period_date_mapping = {}  # Dictionary to store period-date equivalences\n",
        "\n",
        "    def fit(self, X, y=None):\n",
        "        return self\n",
        "\n",
        "    def transform(self, X):\n",
        "        X = X.copy()\n",
        "        X[self.new_col] = X.groupby(self.group_col).cumcount() + 1\n",
        "\n",
        "        #Store the mapping of periods to dates\n",
        "        self.period_date_mapping = dict(zip(X[DATE_NAME], X[self.new_col]))\n",
        "        #for group, group_data in X.groupby(self.group_col):\n",
        "        #    self.period_date_mapping[group] = dict(zip(group_data[DATE_NAME], group_data[self.new_col]))\n",
        "\n",
        "        return X\n",
        "\n",
        "class DataFrameSorter(BaseEstimator, TransformerMixin):\n",
        "    \"\"\"\n",
        "    Sorts a DataFrame by a specified column.\n",
        "\n",
        "    Parameters:\n",
        "    -----------\n",
        "    sort_by : str\n",
        "        Name of the column to sort by.\n",
        "    ascending : bool, default=True\n",
        "        Whether to sort in ascending order.\n",
        "    \"\"\"\n",
        "\n",
        "    def __init__(self, sort_by, ascending=True):\n",
        "        self.sort_by = sort_by\n",
        "        self.ascending = ascending\n",
        "\n",
        "    def fit(self, X, y=None):\n",
        "        return self\n",
        "\n",
        "    def transform(self, X):\n",
        "        X = X.copy()\n",
        "        if self.sort_by not in X.columns:\n",
        "            raise ValueError(f\"Column '{self.sort_by}' not found in DataFrame.\")\n",
        "        return X.sort_values(by=self.sort_by, ascending=self.ascending).reset_index(drop=True)\n",
        "\n",
        "class MonthlyDummyAdder(BaseEstimator, TransformerMixin):\n",
        "    \"\"\"\n",
        "    Adds dummy variables for each month to control for seasonality, leaving December as the baseline.\n",
        "\n",
        "    Parameters:\n",
        "    -----------\n",
        "    date_column : str\n",
        "        Name of the column containing dates (must be datetime).\n",
        "    \"\"\"\n",
        "\n",
        "    def __init__(self, date_column=DATE_NAME):\n",
        "        self.date_column = date_column\n",
        "\n",
        "    def fit(self, X, y=None):\n",
        "        return self\n",
        "\n",
        "    def transform(self, X):\n",
        "        X = X.copy()\n",
        "        X[self.date_column] = pd.to_datetime(X[self.date_column])  # Ensure dates are in datetime format\n",
        "\n",
        "        # Extract month from the date column\n",
        "        X['month'] = X[self.date_column].dt.month\n",
        "\n",
        "        # Create dummy variables for each month, excluding December as the baseline\n",
        "        month_dummies = pd.get_dummies(X['month'], prefix=\"month\", drop_first=True).astype(int)\n",
        "\n",
        "\n",
        "\n",
        "        # Concatenate the dummy variables with the original DataFrame\n",
        "        X = pd.concat([X, month_dummies], axis=1)\n",
        "\n",
        "        # Drop the temporary 'month' column\n",
        "        X.drop(columns=['month'], inplace=True)\n",
        "\n",
        "        return X\n",
        "\n",
        "class QuarterlyDummyAdder(BaseEstimator, TransformerMixin):\n",
        "    \"\"\"\n",
        "    Adds dummy variables for each quarter to control for seasonality, leaving Q4 as the baseline.\n",
        "\n",
        "    Parameters:\n",
        "    -----------\n",
        "    date_column : str\n",
        "        Name of the column containing dates (must be datetime).\n",
        "    \"\"\"\n",
        "\n",
        "    def __init__(self, date_column=DATE_NAME):\n",
        "        self.date_column = date_column\n",
        "\n",
        "    def fit(self, X, y=None):\n",
        "        return self\n",
        "\n",
        "    def transform(self, X):\n",
        "        X = X.copy()\n",
        "        X[self.date_column] = pd.to_datetime(X[self.date_column])  # Ensure dates are in datetime format\n",
        "\n",
        "        # Extract quarter from the date column\n",
        "        X['quarter'] = X[self.date_column].dt.quarter\n",
        "\n",
        "        # Create dummy variables for each quarter, excluding Q4 as the baseline\n",
        "        quarter_dummies = pd.get_dummies(X['quarter'], prefix=\"quarter\", drop_first=True).astype(int)\n",
        "\n",
        "        # Concatenate the dummy variables with the original DataFrame\n",
        "        X = pd.concat([X, quarter_dummies], axis=1)\n",
        "\n",
        "        # Drop the temporary 'quarter' column\n",
        "        X.drop(columns=['quarter'], inplace=True)\n",
        "\n",
        "        return X\n",
        "\n",
        "class MultiDummyAdder(BaseEstimator, TransformerMixin):\n",
        "    \"\"\"\n",
        "    Adds multiple dummy variables based on date ranges or custom conditions.\n",
        "    Allows each dummy to be binary or a local time trend via its own config.\n",
        "\n",
        "    Parameters:\n",
        "    -----------\n",
        "    dummy_config : dict\n",
        "        Dictionary defining dummy variables. Example:\n",
        "        {\n",
        "            'Pandemia': {\n",
        "                'start_date': '2020-01-01',\n",
        "                'end_date': '2020-12-31',\n",
        "                'add_time_trend': True,\n",
        "                'exclude_ranges': [\n",
        "                    ('2020-04-01', '2020-05-01'),\n",
        "                    ('2020-07-01', '2020-08-01')\n",
        "                ]  # Optional\n",
        "            }\n",
        "        }\n",
        "    date_column : str\n",
        "        Name of the column containing dates (must be datetime).\n",
        "    \"\"\"\n",
        "\n",
        "    def __init__(self, dummy_config, date_column=DATE_NAME):\n",
        "        self.dummy_config = dummy_config\n",
        "        self.date_column = date_column\n",
        "\n",
        "    def fit(self, X, y=None):\n",
        "        return self\n",
        "\n",
        "    def transform(self, X):\n",
        "        X = X.copy()\n",
        "        X[self.date_column] = pd.to_datetime(X[self.date_column])\n",
        "        X = X.sort_values(self.date_column).reset_index(drop=True)\n",
        "\n",
        "        for dummy_name, config in self.dummy_config.items():\n",
        "            start_date = pd.to_datetime(config.get(\"start_date\"))\n",
        "            end_date = pd.to_datetime(config.get(\"end_date\"))\n",
        "            use_trend = config.get(\"add_time_trend\", False)\n",
        "            keep_index = config.get(\"keep_period_index\", False)\n",
        "            exclude_ranges = config.get(\"exclude_ranges\", [])  # List of ranges to exclude\n",
        "\n",
        "            if not start_date:\n",
        "                raise ValueError(f\"Missing 'start_date' for dummy '{dummy_name}'.\")\n",
        "\n",
        "            # Create the initial mask for the date range\n",
        "            if end_date is not None:\n",
        "                mask = (X[self.date_column] >= start_date) & (X[self.date_column] <= end_date)\n",
        "            else:\n",
        "                mask = X[self.date_column] >= start_date\n",
        "\n",
        "            # Exclude multiple ranges within the period\n",
        "            for excl_start, excl_end in exclude_ranges:\n",
        "                excl_start = pd.to_datetime(excl_start)\n",
        "                excl_end = pd.to_datetime(excl_end)\n",
        "                mask &= ~((X[self.date_column] >= excl_start) & (X[self.date_column] <= excl_end))\n",
        "\n",
        "            # Apply trend or binary dummy logic\n",
        "            if use_trend:\n",
        "                if keep_index:\n",
        "                    # Global period multiplied by the dummy\n",
        "                    X[dummy_name] = 0\n",
        "                    X.loc[mask, dummy_name] = X.loc[mask, INDEPENDENT_VAR]\n",
        "                else:\n",
        "                    start_periodo = X.loc[mask, INDEPENDENT_VAR].min()\n",
        "                    X[dummy_name] = 0\n",
        "                    X.loc[mask, dummy_name] = (X.loc[mask, INDEPENDENT_VAR] - start_periodo + 1).clip(lower=0)\n",
        "            else:\n",
        "                X[dummy_name] = mask.astype(int)\n",
        "\n",
        "        return X\n",
        "\n",
        "class FrequencyGroupingTransformer(BaseEstimator, TransformerMixin):\n",
        "    \"\"\"\n",
        "    ## only datetime supported groupings\n",
        "    Transformer for grouping data by standard datetime frequencies.\n",
        "\n",
        "    This transformer takes a DataFrame with datetime columns and groups\n",
        "    the data by a specified frequency (e.g., 'Q' for quarterly, 'M' for monthly).\n",
        "\n",
        "    ARGS:\n",
        "        frequency (str): The frequency to group by. Defaults to 'Q' (quarterly).\n",
        "                        Supported frequencies are those accepted by pd.Grouper (e.g., 'Q', 'M', 'Y').\n",
        "    \"\"\"\n",
        "\n",
        "    def __init__(self, frequency=\"Q\"):  # Default to quarterly grouping\n",
        "        self.frequency = frequency\n",
        "\n",
        "    def fit(self, X, y=None):\n",
        "        \"\"\"\n",
        "        This transformer does not require fitting.\n",
        "\n",
        "        ARGS:\n",
        "            X (pd.DataFrame): The input DataFrame.\n",
        "            y (Any, optional): Ignored. Defaults to None.\n",
        "\n",
        "        Returns:\n",
        "            self: Returns the transformer instance.\n",
        "        \"\"\"\n",
        "        return self\n",
        "\n",
        "    def transform(self, X):\n",
        "        \"\"\"\n",
        "        Groups the data by the specified frequency and sums the values.\n",
        "\n",
        "        ARGS:\n",
        "            X (pd.DataFrame): The input DataFrame with datetime columns.\n",
        "\n",
        "        Returns:\n",
        "            pd.DataFrame: The grouped DataFrame with summed values.\n",
        "                          Columns are datetime objects representing the end of each group.\n",
        "        \"\"\"\n",
        "        if self.frequency == None or self.frequency == 'M':\n",
        "            return X\n",
        "        if not isinstance(X, pd.DataFrame):\n",
        "            raise TypeError(\"Input must be a pandas DataFrame.\")\n",
        "\n",
        "\n",
        "\n",
        "        # Convert columns to datetime if they are not already\n",
        "        if not isinstance(X.columns[0], pd.Timestamp):\n",
        "            X.columns = pd.to_datetime(X.columns, errors=\"coerce\")\n",
        "\n",
        "        # Group by the specified frequency using pd.Grouper\n",
        "        grouped_df = X.T.groupby(pd.Grouper(freq=self.frequency)).sum().T\n",
        "\n",
        "        return grouped_df\n",
        "\n",
        "\n",
        "\n",
        "\n",
        "\n"
      ]
    },
    {
      "cell_type": "code",
      "execution_count": 348,
      "metadata": {},
      "outputs": [],
      "source": [
        "class MovingAverageTransformer(BaseEstimator, TransformerMixin):\n",
        "    def __init__(self, group_col=GROUP_COL_NAME, date_col=DATE_NAME, value_col=DEPENDENT_VAR, window=3, prefix='ma', center=False):\n",
        "        \"\"\"\n",
        "        window: tamanho da janela\n",
        "        prefix: prefixo para o nome da nova coluna\n",
        "        center: se True, a janela será centralizada\n",
        "        \"\"\"\n",
        "        self.window = window\n",
        "        self.prefix = prefix\n",
        "        self.center = center\n",
        "        self.value_col = value_col\n",
        "        self.group_col = group_col\n",
        "        self.date_col = date_col\n",
        "\n",
        "    def fit(self, X, y=None):\n",
        "        return self\n",
        "\n",
        "    def transform(self, X):\n",
        "        X = X.copy()\n",
        "\n",
        "        def rolling_mean_by_group(group):\n",
        "            group = group.sort_values(by=self.date_col)  # Sort by date within group\n",
        "            new_col = f\"{self.prefix}_{self.window}_{self.value_col}\"\n",
        "            group[new_col] = group[self.value_col].rolling(window=self.window, center=self.center, min_periods=1).mean()\n",
        "            return group\n",
        "\n",
        "        # Apply the rolling mean and reset the index to preserve the original structure\n",
        "        X = X.groupby(self.group_col, group_keys=False).apply(rolling_mean_by_group)\n",
        "\n",
        "        return X"
      ]
    },
    {
      "cell_type": "code",
      "execution_count": 349,
      "metadata": {},
      "outputs": [],
      "source": [
        "class FourierSeasonalityAdder(BaseEstimator, TransformerMixin):\n",
        "    \"\"\"\n",
        "    Adds sine and cosine Fourier terms for seasonality based on the month of the date.\n",
        "\n",
        "    Parameters:\n",
        "    -----------\n",
        "    date_column : str\n",
        "        Name of the column containing dates (must be datetime).\n",
        "    n_harmonics : int\n",
        "        Number of Fourier harmonics to add (default is 1).\n",
        "    \"\"\"\n",
        "\n",
        "    def __init__(self, date_column=DATE_NAME, n_harmonics=1):\n",
        "        self.date_column = date_column\n",
        "        self.n_harmonics = n_harmonics\n",
        "\n",
        "    def fit(self, X, y=None):\n",
        "        return self\n",
        "\n",
        "    def transform(self, X):\n",
        "        X = X.copy()\n",
        "        X[self.date_column] = pd.to_datetime(X[self.date_column])  # Ensure dates are in datetime format\n",
        "\n",
        "        # Extract time (month number starting from 1)\n",
        "        X['month'] = X[self.date_column].dt.month\n",
        "\n",
        "        # Add Fourier terms\n",
        "        for k in range(1, self.n_harmonics + 1):\n",
        "            X[f'cos{k}'] = np.cos(2 * np.pi * k * (X['month'] - 1) / 12)  # Month to 0-based\n",
        "            X[f'sin{k}'] = np.sin(2 * np.pi * k * (X['month'] - 1) / 12)  # Month to 0-based\n",
        "\n",
        "        #X.drop(columns=['month'], inplace=True)\n",
        "\n",
        "        return X"
      ]
    },
    {
      "cell_type": "code",
      "execution_count": 350,
      "metadata": {},
      "outputs": [],
      "source": [
        "from statsmodels.tsa.deterministic import Fourier\n",
        "\n",
        "class FourierSeasonalityAdder(BaseEstimator, TransformerMixin):\n",
        "    def __init__(self, date_column=DATE_NAME, period=12, order=1):\n",
        "        \"\"\"\n",
        "        Parameters:\n",
        "        -----------\n",
        "        date_column : str\n",
        "            Name of the column containing dates (must be datetime).\n",
        "        period : int\n",
        "            The period of the seasonality (e.g., 12 for monthly data).\n",
        "        order : int\n",
        "            The number of Fourier harmonics to include.\n",
        "        \"\"\"\n",
        "        self.date_column = date_column\n",
        "        self.period = period\n",
        "        self.order = order\n",
        "        self.fourier = Fourier(period=self.period, order=self.order)\n",
        "\n",
        "    def fit(self, X, y=None):\n",
        "        return self\n",
        "\n",
        "    def transform(self, X):\n",
        "        X = X.copy()\n",
        "\n",
        "        # Ensure the date column is in datetime format\n",
        "        X[self.date_column] = pd.to_datetime(X[self.date_column])\n",
        "\n",
        "        # Ensure unique index\n",
        "        if not X.index.is_unique:\n",
        "            X = X.reset_index(drop=True)\n",
        "\n",
        "        # Generate Fourier terms\n",
        "        fourier_terms = self.fourier.in_sample(X[self.date_column])\n",
        "\n",
        "        # Rename Fourier columns to use sin1, cos1, etc.\n",
        "        renamed_columns = {col: f\"sin{int(i/2)+1}\" if i % 2 else f\"cos{int(i/2)+1}\" \n",
        "                           for i, col in enumerate(fourier_terms.columns)}\n",
        "        fourier_terms.rename(columns=renamed_columns, inplace=True)\n",
        "\n",
        "        # Concatenate Fourier terms with the original DataFrame\n",
        "        X = pd.concat([X.reset_index(drop=True), fourier_terms.reset_index(drop=True)], axis=1)\n",
        "\n",
        "        # Debugging: Check the range of Fourier terms\n",
        "        for column in fourier_terms.columns:\n",
        "            min_value = fourier_terms[column].min()\n",
        "            max_value = fourier_terms[column].max()\n",
        "            if min_value < -1 or max_value > 1:\n",
        "                print(f\"Warning: {column} is out of range [-1, 1]. Min: {min_value}, Max: {max_value}\")\n",
        "            else:\n",
        "                print(f\"{column} is within the correct range [-1, 1]. Min: {min_value}, Max: {max_value}\")\n",
        "\n",
        "        return X"
      ]
    },
    {
      "cell_type": "markdown",
      "metadata": {
        "id": "YiUiAyVdNIXb"
      },
      "source": [
        "# EXEC --- Instantiate Pipe and get RegressionDF"
      ]
    },
    {
      "cell_type": "code",
      "execution_count": 351,
      "metadata": {
        "colab": {
          "base_uri": "https://localhost:8080/",
          "height": 1000
        },
        "id": "tpmKA11jNIXb",
        "outputId": "6b948497-1205-4055-c42b-0427affcff4e"
      },
      "outputs": [
        {
          "name": "stdout",
          "output_type": "stream",
          "text": [
            "cos1 is within the correct range [-1, 1]. Min: -1.0, Max: 1.0\n",
            "sin1 is within the correct range [-1, 1]. Min: -1.0, Max: 1.0\n"
          ]
        },
        {
          "data": {
            "application/vnd.microsoft.datawrangler.viewer.v0+json": {
              "columns": [
                {
                  "name": "index",
                  "rawType": "int64",
                  "type": "integer"
                },
                {
                  "name": "date",
                  "rawType": "datetime64[ns]",
                  "type": "datetime"
                },
                {
                  "name": "variavel",
                  "rawType": "object",
                  "type": "string"
                },
                {
                  "name": "valores",
                  "rawType": "float64",
                  "type": "float"
                },
                {
                  "name": "total_atd",
                  "rawType": "float64",
                  "type": "float"
                },
                {
                  "name": "periodo",
                  "rawType": "int64",
                  "type": "integer"
                },
                {
                  "name": "Pandemia_Step",
                  "rawType": "int64",
                  "type": "integer"
                },
                {
                  "name": "Pandemia_Trend",
                  "rawType": "int64",
                  "type": "integer"
                },
                {
                  "name": "PosPandemia_Step",
                  "rawType": "int64",
                  "type": "integer"
                },
                {
                  "name": "PosPandemia_Trend",
                  "rawType": "int64",
                  "type": "integer"
                },
                {
                  "name": "cos1",
                  "rawType": "float64",
                  "type": "float"
                },
                {
                  "name": "sin1",
                  "rawType": "float64",
                  "type": "float"
                },
                {
                  "name": "IR",
                  "rawType": "float64",
                  "type": "float"
                },
                {
                  "name": "offset",
                  "rawType": "float64",
                  "type": "float"
                }
              ],
              "conversionMethod": "pd.DataFrame",
              "ref": "a6a9d3bf-6e9e-4ef6-ab66-d13983e29e07",
              "rows": [
                [
                  "0",
                  "2024-12-01 00:00:00",
                  "sul",
                  "169359.0",
                  "5537357.0",
                  "108",
                  "0",
                  "0",
                  "1",
                  "33",
                  "-0.5000000000000182",
                  "0.8660254037844282",
                  "30.584807878560117",
                  "8.619272590092182"
                ],
                [
                  "1",
                  "2022-07-01 00:00:00",
                  "sul",
                  "147159.0",
                  "5670166.0",
                  "79",
                  "0",
                  "0",
                  "1",
                  "4",
                  "-1.0",
                  "4.41306134138659e-15",
                  "25.953208424585807",
                  "8.642973673189182"
                ],
                [
                  "2",
                  "2022-11-01 00:00:00",
                  "sul",
                  "160759.0",
                  "6053194.0",
                  "83",
                  "0",
                  "0",
                  "1",
                  "8",
                  "0.8660254037844304",
                  "0.5000000000000144",
                  "26.55771481964728",
                  "8.70834134560112"
                ],
                [
                  "3",
                  "2022-10-01 00:00:00",
                  "sul",
                  "165405.0",
                  "5938846.0",
                  "82",
                  "0",
                  "0",
                  "1",
                  "7",
                  "-0.8660254037844386",
                  "0.5",
                  "27.851370451431137",
                  "8.68927011738837"
                ],
                [
                  "4",
                  "2022-09-01 00:00:00",
                  "sul",
                  "168925.0",
                  "5776479.0",
                  "81",
                  "0",
                  "0",
                  "1",
                  "6",
                  "1.1757847233087767e-14",
                  "-1.0",
                  "29.243592853016516",
                  "8.661549606497093"
                ],
                [
                  "5",
                  "2018-04-01 00:00:00",
                  "sul",
                  "97726.0",
                  "3954977.0",
                  "28",
                  "0",
                  "0",
                  "0",
                  "0",
                  "-0.499999999999997",
                  "-0.8660254037844404",
                  "24.70962536571009",
                  "8.28273006476133"
                ],
                [
                  "6",
                  "2018-05-01 00:00:00",
                  "sul",
                  "94476.0",
                  "3950949.0",
                  "29",
                  "0",
                  "0",
                  "0",
                  "0",
                  "-0.8660254037844359",
                  "0.5000000000000047",
                  "23.91222969468854",
                  "8.281711082203556"
                ],
                [
                  "7",
                  "2018-06-01 00:00:00",
                  "sul",
                  "88737.0",
                  "3629643.0",
                  "30",
                  "0",
                  "0",
                  "0",
                  "0",
                  "0.5",
                  "0.8660254037844386",
                  "24.447858921662544",
                  "8.196889575315065"
                ],
                [
                  "8",
                  "2022-08-01 00:00:00",
                  "sul",
                  "177835.0",
                  "6446181.0",
                  "80",
                  "0",
                  "0",
                  "1",
                  "5",
                  "-9.772415167715292e-16",
                  "1.0",
                  "27.587652285903857",
                  "8.771243141410267"
                ],
                [
                  "9",
                  "2022-06-01 00:00:00",
                  "sul",
                  "140293.0",
                  "5884884.0",
                  "78",
                  "0",
                  "0",
                  "1",
                  "3",
                  "1.0",
                  "1.322804237270118e-14",
                  "23.839552317428858",
                  "8.680142308370119"
                ],
                [
                  "10",
                  "2022-02-01 00:00:00",
                  "sul",
                  "112740.0",
                  "4736730.0",
                  "74",
                  "1",
                  "23",
                  "0",
                  "0",
                  "-0.49999999999998684",
                  "-0.8660254037844463",
                  "23.801229962442445",
                  "8.463102303199236"
                ],
                [
                  "11",
                  "2018-07-01 00:00:00",
                  "sul",
                  "94076.0",
                  "3895748.0",
                  "31",
                  "0",
                  "0",
                  "0",
                  "0",
                  "-0.8660254037844396",
                  "0.4999999999999983",
                  "24.14837920727932",
                  "8.267640980945627"
                ],
                [
                  "12",
                  "2018-08-01 00:00:00",
                  "sul",
                  "102565.0",
                  "4238054.0",
                  "32",
                  "0",
                  "0",
                  "0",
                  "0",
                  "0.500000000000006",
                  "0.8660254037844353",
                  "24.200965820633716",
                  "8.351859480606436"
                ],
                [
                  "13",
                  "2018-09-01 00:00:00",
                  "sul",
                  "91000.0",
                  "3627309.0",
                  "33",
                  "0",
                  "0",
                  "0",
                  "0",
                  "0.8660254037844379",
                  "-0.5000000000000012",
                  "25.08746842356138",
                  "8.196246330029584"
                ],
                [
                  "14",
                  "2022-05-01 00:00:00",
                  "sul",
                  "146829.0",
                  "6291774.0",
                  "77",
                  "0",
                  "0",
                  "1",
                  "2",
                  "-1.0",
                  "-2.447436656384941e-15",
                  "23.336661488476857",
                  "8.74699834490625"
                ],
                [
                  "15",
                  "2022-04-01 00:00:00",
                  "sul",
                  "128826.0",
                  "5072770.0",
                  "76",
                  "0",
                  "0",
                  "1",
                  "1",
                  "-2.942866201773178e-15",
                  "-1.0",
                  "25.39559254608429",
                  "8.531642298474628"
                ],
                [
                  "16",
                  "2022-03-01 00:00:00",
                  "sul",
                  "153126.0",
                  "5665257.0",
                  "75",
                  "1",
                  "24",
                  "0",
                  "0",
                  "0.4999999999999775",
                  "0.8660254037844516",
                  "27.028959145189706",
                  "8.642107538717289"
                ],
                [
                  "17",
                  "2018-10-01 00:00:00",
                  "sul",
                  "109284.0",
                  "4475717.0",
                  "34",
                  "0",
                  "0",
                  "0",
                  "0",
                  "-0.5000000000000056",
                  "0.8660254037844355",
                  "24.41709339531521",
                  "8.406421841338235"
                ],
                [
                  "18",
                  "2018-03-01 00:00:00",
                  "sul",
                  "93063.0",
                  "3799601.0",
                  "27",
                  "0",
                  "0",
                  "0",
                  "0",
                  "-0.8660254037844394",
                  "0.4999999999999987",
                  "24.49283490555982",
                  "8.242651340201592"
                ],
                [
                  "19",
                  "2018-02-01 00:00:00",
                  "sul",
                  "82272.0",
                  "3127761.0",
                  "26",
                  "0",
                  "0",
                  "0",
                  "0",
                  "-0.8660254037844349",
                  "-0.5000000000000063",
                  "26.303800066565188",
                  "8.048072692096449"
                ],
                [
                  "20",
                  "2022-12-01 00:00:00",
                  "sul",
                  "139769.0",
                  "5379526.0",
                  "84",
                  "0",
                  "0",
                  "1",
                  "9",
                  "-1.0",
                  "-1.0287652093474354e-14",
                  "25.98165711997674",
                  "8.590355545185217"
                ],
                [
                  "21",
                  "2023-01-01 00:00:00",
                  "sul",
                  "165088.0",
                  "5569906.0",
                  "85",
                  "0",
                  "0",
                  "1",
                  "10",
                  "-1.5677954951632475e-14",
                  "1.0",
                  "29.63927937024431",
                  "8.625133456656844"
                ],
                [
                  "22",
                  "2023-08-01 00:00:00",
                  "sul",
                  "232746.0",
                  "7448532.0",
                  "92",
                  "0",
                  "0",
                  "1",
                  "17",
                  "-2.3518170388721888e-14",
                  "1.0",
                  "31.247230998000678",
                  "8.915772244977433"
                ],
                [
                  "23",
                  "2023-07-01 00:00:00",
                  "sul",
                  "190714.0",
                  "6265292.0",
                  "91",
                  "0",
                  "0",
                  "1",
                  "16",
                  "-0.8660254037844392",
                  "0.49999999999999917",
                  "30.439762424480776",
                  "8.742780474384507"
                ],
                [
                  "24",
                  "2017-06-01 00:00:00",
                  "sul",
                  "64161.0",
                  "2617493.0",
                  "18",
                  "0",
                  "0",
                  "0",
                  "0",
                  "1.0",
                  "-6.189806365883577e-19",
                  "24.512386470565538",
                  "7.86997226843357"
                ],
                [
                  "25",
                  "2017-07-01 00:00:00",
                  "sul",
                  "66071.0",
                  "2747312.0",
                  "19",
                  "0",
                  "0",
                  "0",
                  "0",
                  "-1.0",
                  "-3.674559378078648e-15",
                  "24.04932530415184",
                  "7.918378258094948"
                ],
                [
                  "26",
                  "2023-06-01 00:00:00",
                  "sul",
                  "182741.0",
                  "6324614.0",
                  "90",
                  "0",
                  "0",
                  "1",
                  "15",
                  "0.5000000000000131",
                  "0.866025403784431",
                  "28.89362101782022",
                  "8.752204284065472"
                ],
                [
                  "27",
                  "2017-08-01 00:00:00",
                  "sul",
                  "78334.0",
                  "3130846.0",
                  "20",
                  "0",
                  "0",
                  "0",
                  "0",
                  "0.866025403784437",
                  "0.5000000000000028",
                  "25.02007444633176",
                  "8.049058534553039"
                ],
                [
                  "28",
                  "2017-09-01 00:00:00",
                  "sul",
                  "85556.0",
                  "3499119.0",
                  "21",
                  "0",
                  "0",
                  "0",
                  "0",
                  "0.8660254037844373",
                  "-0.5000000000000023",
                  "24.450726025608162",
                  "8.160266501506433"
                ],
                [
                  "29",
                  "2023-05-01 00:00:00",
                  "sul",
                  "201638.0",
                  "7376729.0",
                  "89",
                  "0",
                  "0",
                  "1",
                  "14",
                  "-0.8660254037844318",
                  "-0.5000000000000119",
                  "27.334337482100807",
                  "8.906085594409065"
                ],
                [
                  "30",
                  "2023-04-01 00:00:00",
                  "sul",
                  "168862.0",
                  "6141997.0",
                  "88",
                  "0",
                  "0",
                  "1",
                  "13",
                  "-0.4999999999999979",
                  "-0.8660254037844398",
                  "27.49301245181331",
                  "8.7229052125604"
                ],
                [
                  "31",
                  "2017-10-01 00:00:00",
                  "sul",
                  "96570.0",
                  "3766109.0",
                  "22",
                  "0",
                  "0",
                  "0",
                  "0",
                  "-0.8660254037844392",
                  "0.49999999999999917",
                  "25.641849452578242",
                  "8.233797651974035"
                ],
                [
                  "32",
                  "2023-03-01 00:00:00",
                  "sul",
                  "215241.0",
                  "7277040.0",
                  "87",
                  "0",
                  "0",
                  "1",
                  "12",
                  "-0.5000000000000225",
                  "0.8660254037844257",
                  "29.578097688070972",
                  "8.892479465102626"
                ],
                [
                  "33",
                  "2017-11-01 00:00:00",
                  "sul",
                  "93940.0",
                  "3728902.0",
                  "23",
                  "0",
                  "0",
                  "0",
                  "0",
                  "1.0",
                  "4.892397390223529e-16",
                  "25.192402482017496",
                  "8.223869099329326"
                ],
                [
                  "34",
                  "2023-02-01 00:00:00",
                  "sul",
                  "158309.0",
                  "5147652.0",
                  "86",
                  "0",
                  "0",
                  "1",
                  "11",
                  "-0.5000000000000165",
                  "-0.866025403784429",
                  "30.753632918464575",
                  "8.546295967363498"
                ],
                [
                  "35",
                  "2017-12-01 00:00:00",
                  "sul",
                  "75661.0",
                  "2883017.0",
                  "24",
                  "0",
                  "0",
                  "0",
                  "0",
                  "-1.0",
                  "-4.164418097737589e-15",
                  "26.243688469405487",
                  "7.966592594256467"
                ],
                [
                  "36",
                  "2018-01-01 00:00:00",
                  "sul",
                  "84754.0",
                  "3323595.0",
                  "25",
                  "0",
                  "0",
                  "0",
                  "0",
                  "0.5000000000000004",
                  "0.8660254037844384",
                  "25.500700295914513",
                  "8.108802307396868"
                ],
                [
                  "37",
                  "2018-11-01 00:00:00",
                  "sul",
                  "92193.0",
                  "3724671.0",
                  "35",
                  "0",
                  "0",
                  "0",
                  "0",
                  "1.0",
                  "8.819313895770708e-15",
                  "24.751984806174825",
                  "8.222733804765378"
                ],
                [
                  "38",
                  "2018-12-01 00:00:00",
                  "sul",
                  "69332.0",
                  "2857177.0",
                  "36",
                  "0",
                  "0",
                  "0",
                  "0",
                  "-0.5000000000000026",
                  "-0.8660254037844372",
                  "24.26591002237523",
                  "7.957589353409414"
                ],
                [
                  "39",
                  "2023-09-01 00:00:00",
                  "sul",
                  "198259.0",
                  "6122598.0",
                  "93",
                  "0",
                  "0",
                  "1",
                  "18",
                  "5.877066674634119e-15",
                  "-1.0",
                  "32.381515167254165",
                  "8.7197417952315"
                ],
                [
                  "40",
                  "2020-02-01 00:00:00",
                  "sul",
                  "92376.0",
                  "3255998.0",
                  "50",
                  "0",
                  "0",
                  "0",
                  "0",
                  "1.567919291290565e-14",
                  "-1.0",
                  "28.37102479792678",
                  "8.088254112871628"
                ],
                [
                  "41",
                  "2021-03-01 00:00:00",
                  "sul",
                  "118299.0",
                  "4561456.0",
                  "63",
                  "1",
                  "12",
                  "0",
                  "0",
                  "-0.5000000000000081",
                  "0.866025403784434",
                  "25.934482323188032",
                  "8.425397149789209"
                ],
                [
                  "42",
                  "2019-11-01 00:00:00",
                  "sul",
                  "103886.0",
                  "3826879.0",
                  "47",
                  "0",
                  "0",
                  "0",
                  "0",
                  "1.0",
                  "2.9385333373170594e-15",
                  "27.146403113346413",
                  "8.249804867470935"
                ],
                [
                  "43",
                  "2021-02-01 00:00:00",
                  "sul",
                  "102694.0",
                  "3836443.0",
                  "62",
                  "1",
                  "11",
                  "0",
                  "0",
                  "-0.49999999999998174",
                  "-0.8660254037844491",
                  "26.768024443475376",
                  "8.252300914215548"
                ],
                [
                  "44",
                  "2019-12-01 00:00:00",
                  "sul",
                  "82891.0",
                  "2987363.0",
                  "48",
                  "0",
                  "0",
                  "0",
                  "0",
                  "-1.0",
                  "4.917156615687063e-16",
                  "27.74721384712872",
                  "8.002146337447682"
                ],
                [
                  "45",
                  "2021-01-01 00:00:00",
                  "sul",
                  "99299.0",
                  "3712563.0",
                  "61",
                  "1",
                  "10",
                  "0",
                  "0",
                  "0.4999999999999911",
                  "0.8660254037844438",
                  "26.746751502937457",
                  "8.219477752663941"
                ],
                [
                  "46",
                  "2020-12-01 00:00:00",
                  "sul",
                  "95030.0",
                  "3561154.0",
                  "60",
                  "1",
                  "9",
                  "0",
                  "0",
                  "-0.4999999999999894",
                  "0.8660254037844448",
                  "26.685170031961547",
                  "8.17783992862182"
                ],
                [
                  "47",
                  "2020-01-01 00:00:00",
                  "sul",
                  "97985.0",
                  "3417744.0",
                  "49",
                  "0",
                  "0",
                  "0",
                  "0",
                  "1.0",
                  "1.0288890054747531e-14",
                  "28.669496603607524",
                  "8.136735963269635"
                ],
                [
                  "48",
                  "2020-11-01 00:00:00",
                  "sul",
                  "113099.0",
                  "4298672.0",
                  "59",
                  "1",
                  "8",
                  "0",
                  "0",
                  "0.8660254037844499",
                  "-0.49999999999998046",
                  "26.310218597743674",
                  "8.36606141677232"
                ],
                [
                  "49",
                  "2022-01-01 00:00:00",
                  "sul",
                  "101061.0",
                  "5251388.0",
                  "73",
                  "1",
                  "22",
                  "0",
                  "0",
                  "0.866025403784445",
                  "0.49999999999998895",
                  "19.244626373065557",
                  "8.566247701595564"
                ]
              ],
              "shape": {
                "columns": 13,
                "rows": 540
              }
            },
            "text/html": [
              "<div>\n",
              "<style scoped>\n",
              "    .dataframe tbody tr th:only-of-type {\n",
              "        vertical-align: middle;\n",
              "    }\n",
              "\n",
              "    .dataframe tbody tr th {\n",
              "        vertical-align: top;\n",
              "    }\n",
              "\n",
              "    .dataframe thead th {\n",
              "        text-align: right;\n",
              "    }\n",
              "</style>\n",
              "<table border=\"1\" class=\"dataframe\">\n",
              "  <thead>\n",
              "    <tr style=\"text-align: right;\">\n",
              "      <th></th>\n",
              "      <th>date</th>\n",
              "      <th>variavel</th>\n",
              "      <th>valores</th>\n",
              "      <th>total_atd</th>\n",
              "      <th>periodo</th>\n",
              "      <th>Pandemia_Step</th>\n",
              "      <th>Pandemia_Trend</th>\n",
              "      <th>PosPandemia_Step</th>\n",
              "      <th>PosPandemia_Trend</th>\n",
              "      <th>cos1</th>\n",
              "      <th>sin1</th>\n",
              "      <th>IR</th>\n",
              "      <th>offset</th>\n",
              "    </tr>\n",
              "  </thead>\n",
              "  <tbody>\n",
              "    <tr>\n",
              "      <th>0</th>\n",
              "      <td>2024-12-01</td>\n",
              "      <td>sul</td>\n",
              "      <td>169359.0</td>\n",
              "      <td>5537357.0</td>\n",
              "      <td>108</td>\n",
              "      <td>0</td>\n",
              "      <td>0</td>\n",
              "      <td>1</td>\n",
              "      <td>33</td>\n",
              "      <td>-5.000000e-01</td>\n",
              "      <td>8.660254e-01</td>\n",
              "      <td>30.584808</td>\n",
              "      <td>8.619273</td>\n",
              "    </tr>\n",
              "    <tr>\n",
              "      <th>1</th>\n",
              "      <td>2022-07-01</td>\n",
              "      <td>sul</td>\n",
              "      <td>147159.0</td>\n",
              "      <td>5670166.0</td>\n",
              "      <td>79</td>\n",
              "      <td>0</td>\n",
              "      <td>0</td>\n",
              "      <td>1</td>\n",
              "      <td>4</td>\n",
              "      <td>-1.000000e+00</td>\n",
              "      <td>4.413061e-15</td>\n",
              "      <td>25.953208</td>\n",
              "      <td>8.642974</td>\n",
              "    </tr>\n",
              "    <tr>\n",
              "      <th>2</th>\n",
              "      <td>2022-11-01</td>\n",
              "      <td>sul</td>\n",
              "      <td>160759.0</td>\n",
              "      <td>6053194.0</td>\n",
              "      <td>83</td>\n",
              "      <td>0</td>\n",
              "      <td>0</td>\n",
              "      <td>1</td>\n",
              "      <td>8</td>\n",
              "      <td>8.660254e-01</td>\n",
              "      <td>5.000000e-01</td>\n",
              "      <td>26.557715</td>\n",
              "      <td>8.708341</td>\n",
              "    </tr>\n",
              "    <tr>\n",
              "      <th>3</th>\n",
              "      <td>2022-10-01</td>\n",
              "      <td>sul</td>\n",
              "      <td>165405.0</td>\n",
              "      <td>5938846.0</td>\n",
              "      <td>82</td>\n",
              "      <td>0</td>\n",
              "      <td>0</td>\n",
              "      <td>1</td>\n",
              "      <td>7</td>\n",
              "      <td>-8.660254e-01</td>\n",
              "      <td>5.000000e-01</td>\n",
              "      <td>27.851370</td>\n",
              "      <td>8.689270</td>\n",
              "    </tr>\n",
              "    <tr>\n",
              "      <th>4</th>\n",
              "      <td>2022-09-01</td>\n",
              "      <td>sul</td>\n",
              "      <td>168925.0</td>\n",
              "      <td>5776479.0</td>\n",
              "      <td>81</td>\n",
              "      <td>0</td>\n",
              "      <td>0</td>\n",
              "      <td>1</td>\n",
              "      <td>6</td>\n",
              "      <td>1.175785e-14</td>\n",
              "      <td>-1.000000e+00</td>\n",
              "      <td>29.243593</td>\n",
              "      <td>8.661550</td>\n",
              "    </tr>\n",
              "    <tr>\n",
              "      <th>...</th>\n",
              "      <td>...</td>\n",
              "      <td>...</td>\n",
              "      <td>...</td>\n",
              "      <td>...</td>\n",
              "      <td>...</td>\n",
              "      <td>...</td>\n",
              "      <td>...</td>\n",
              "      <td>...</td>\n",
              "      <td>...</td>\n",
              "      <td>...</td>\n",
              "      <td>...</td>\n",
              "      <td>...</td>\n",
              "      <td>...</td>\n",
              "    </tr>\n",
              "    <tr>\n",
              "      <th>535</th>\n",
              "      <td>2021-10-01</td>\n",
              "      <td>centro_oeste</td>\n",
              "      <td>44161.0</td>\n",
              "      <td>1577021.0</td>\n",
              "      <td>70</td>\n",
              "      <td>1</td>\n",
              "      <td>19</td>\n",
              "      <td>0</td>\n",
              "      <td>0</td>\n",
              "      <td>-5.000000e-01</td>\n",
              "      <td>8.660254e-01</td>\n",
              "      <td>28.002798</td>\n",
              "      <td>7.363293</td>\n",
              "    </tr>\n",
              "    <tr>\n",
              "      <th>536</th>\n",
              "      <td>2019-03-01</td>\n",
              "      <td>centro_oeste</td>\n",
              "      <td>25015.0</td>\n",
              "      <td>1177864.0</td>\n",
              "      <td>39</td>\n",
              "      <td>0</td>\n",
              "      <td>0</td>\n",
              "      <td>0</td>\n",
              "      <td>0</td>\n",
              "      <td>5.000000e-01</td>\n",
              "      <td>8.660254e-01</td>\n",
              "      <td>21.237596</td>\n",
              "      <td>7.071458</td>\n",
              "    </tr>\n",
              "    <tr>\n",
              "      <th>537</th>\n",
              "      <td>2023-04-01</td>\n",
              "      <td>centro_oeste</td>\n",
              "      <td>56631.0</td>\n",
              "      <td>2186160.0</td>\n",
              "      <td>88</td>\n",
              "      <td>0</td>\n",
              "      <td>0</td>\n",
              "      <td>1</td>\n",
              "      <td>13</td>\n",
              "      <td>1.000000e+00</td>\n",
              "      <td>1.420776e-14</td>\n",
              "      <td>25.904325</td>\n",
              "      <td>7.689902</td>\n",
              "    </tr>\n",
              "    <tr>\n",
              "      <th>538</th>\n",
              "      <td>2021-11-01</td>\n",
              "      <td>centro_oeste</td>\n",
              "      <td>45613.0</td>\n",
              "      <td>1641417.0</td>\n",
              "      <td>71</td>\n",
              "      <td>1</td>\n",
              "      <td>20</td>\n",
              "      <td>0</td>\n",
              "      <td>0</td>\n",
              "      <td>8.660254e-01</td>\n",
              "      <td>-5.000000e-01</td>\n",
              "      <td>27.788795</td>\n",
              "      <td>7.403315</td>\n",
              "    </tr>\n",
              "    <tr>\n",
              "      <th>539</th>\n",
              "      <td>2016-01-01</td>\n",
              "      <td>centro_oeste</td>\n",
              "      <td>5311.0</td>\n",
              "      <td>485404.0</td>\n",
              "      <td>1</td>\n",
              "      <td>0</td>\n",
              "      <td>0</td>\n",
              "      <td>0</td>\n",
              "      <td>0</td>\n",
              "      <td>0.000000e+00</td>\n",
              "      <td>1.000000e+00</td>\n",
              "      <td>10.941401</td>\n",
              "      <td>6.184982</td>\n",
              "    </tr>\n",
              "  </tbody>\n",
              "</table>\n",
              "<p>540 rows × 13 columns</p>\n",
              "</div>"
            ],
            "text/plain": [
              "          date      variavel   valores  total_atd  periodo  Pandemia_Step  \\\n",
              "0   2024-12-01           sul  169359.0  5537357.0      108              0   \n",
              "1   2022-07-01           sul  147159.0  5670166.0       79              0   \n",
              "2   2022-11-01           sul  160759.0  6053194.0       83              0   \n",
              "3   2022-10-01           sul  165405.0  5938846.0       82              0   \n",
              "4   2022-09-01           sul  168925.0  5776479.0       81              0   \n",
              "..         ...           ...       ...        ...      ...            ...   \n",
              "535 2021-10-01  centro_oeste   44161.0  1577021.0       70              1   \n",
              "536 2019-03-01  centro_oeste   25015.0  1177864.0       39              0   \n",
              "537 2023-04-01  centro_oeste   56631.0  2186160.0       88              0   \n",
              "538 2021-11-01  centro_oeste   45613.0  1641417.0       71              1   \n",
              "539 2016-01-01  centro_oeste    5311.0   485404.0        1              0   \n",
              "\n",
              "     Pandemia_Trend  PosPandemia_Step  PosPandemia_Trend          cos1  \\\n",
              "0                 0                 1                 33 -5.000000e-01   \n",
              "1                 0                 1                  4 -1.000000e+00   \n",
              "2                 0                 1                  8  8.660254e-01   \n",
              "3                 0                 1                  7 -8.660254e-01   \n",
              "4                 0                 1                  6  1.175785e-14   \n",
              "..              ...               ...                ...           ...   \n",
              "535              19                 0                  0 -5.000000e-01   \n",
              "536               0                 0                  0  5.000000e-01   \n",
              "537               0                 1                 13  1.000000e+00   \n",
              "538              20                 0                  0  8.660254e-01   \n",
              "539               0                 0                  0  0.000000e+00   \n",
              "\n",
              "             sin1         IR    offset  \n",
              "0    8.660254e-01  30.584808  8.619273  \n",
              "1    4.413061e-15  25.953208  8.642974  \n",
              "2    5.000000e-01  26.557715  8.708341  \n",
              "3    5.000000e-01  27.851370  8.689270  \n",
              "4   -1.000000e+00  29.243593  8.661550  \n",
              "..            ...        ...       ...  \n",
              "535  8.660254e-01  28.002798  7.363293  \n",
              "536  8.660254e-01  21.237596  7.071458  \n",
              "537  1.420776e-14  25.904325  7.689902  \n",
              "538 -5.000000e-01  27.788795  7.403315  \n",
              "539  1.000000e+00  10.941401  6.184982  \n",
              "\n",
              "[540 rows x 13 columns]"
            ]
          },
          "execution_count": 351,
          "metadata": {},
          "output_type": "execute_result"
        }
      ],
      "source": [
        "\n",
        "pipe = Pipeline(\n",
        "    [\n",
        "        (\"grouping\", FrequencyGroupingTransformer(frequency=PREPROCESSOR_ARGS['FrequencyDateGroup'])),\n",
        "        (\"melt\", MeltTransformer(perform_IR=PREPROCESSOR_ARGS['melt_total_atd'])),\n",
        "        (\"date_filter\", DateFilterTransformer(periodos_inclusivos=PREPROCESSOR_ARGS['DateRange'])),\n",
        "        (\"period_index_adder\", PeriodIndexAdder()),\n",
        "        (\"dummy_adder\", MultiDummyAdder(dummy_config=PREPROCESSOR_ARGS['DummyArgs'])),\n",
        "        #(\"monthly_dummy_adder\", MonthlyDummyAdder()),\n",
        "        #(\"quarterly_dummy_adder\", QuarterlyDummyAdder()),\n",
        "        ('fourier_seasonality', FourierSeasonalityAdder(period = FOURIER_PERIOD,order=N_HARMONICS)),\n",
        "        #('moving_average', MovingAverageTransformer(window=MOVING_WINDOW, prefix='ma', center=True)),\n",
        "        (\"sorter\", DataFrameSorter(sort_by=GROUP_COL_NAME, ascending=False)),\n",
        "\n",
        "\n",
        "    ]\n",
        ")\n",
        "\n",
        "\n",
        "RawDataDF = BuildDataDF(dados_brutos)\n",
        "RegressionDF = pipe.fit_transform(RawDataDF)\n",
        "\n",
        "if PREPROCESSOR_ARGS['ExtractIR']:\n",
        "    RegressionDF[IR_VAR] =  RegressionDF[RAW_ATD_VAR]/RegressionDF[RAW_TOTAL_ATD_VAR] * IR_SCALE\n",
        "\n",
        "if RegressionDF[RAW_TOTAL_ATD_VAR] is not None:\n",
        "    RegressionDF[\"offset\"] = np.log(RegressionDF[\"total_atd\"] / IR_SCALE)\n",
        "\n",
        "\n",
        "RegressionDF\n"
      ]
    },
    {
      "cell_type": "markdown",
      "metadata": {},
      "source": [
        "# Exploração Pré intervenção\n"
      ]
    },
    {
      "cell_type": "code",
      "execution_count": 352,
      "metadata": {},
      "outputs": [
        {
          "name": "stdout",
          "output_type": "stream",
          "text": [
            "Analisando variável: sul\n",
            "Analisando variável: sudeste\n",
            "Analisando variável: norte\n",
            "Analisando variável: nordeste\n",
            "Analisando variável: centro_oeste\n"
          ]
        },
        {
          "data": {
            "application/vnd.microsoft.datawrangler.viewer.v0+json": {
              "columns": [
                {
                  "name": "Variable",
                  "rawType": "object",
                  "type": "string"
                },
                {
                  "name": "ADF Statistic",
                  "rawType": "float64",
                  "type": "float"
                },
                {
                  "name": "ADF p-value",
                  "rawType": "float64",
                  "type": "float"
                },
                {
                  "name": "ADF Stationary",
                  "rawType": "bool",
                  "type": "boolean"
                },
                {
                  "name": "ACF",
                  "rawType": "object",
                  "type": "string"
                },
                {
                  "name": "PACF",
                  "rawType": "object",
                  "type": "string"
                },
                {
                  "name": "Breusch-Pagan LM Statistic",
                  "rawType": "float64",
                  "type": "float"
                },
                {
                  "name": "Breusch-Pagan p-value",
                  "rawType": "float64",
                  "type": "float"
                },
                {
                  "name": "Heteroscedasticity",
                  "rawType": "bool",
                  "type": "boolean"
                },
                {
                  "name": "Shapiro-Wilk p-value",
                  "rawType": "float64",
                  "type": "float"
                },
                {
                  "name": "Jarque-Bera p-value",
                  "rawType": "float64",
                  "type": "float"
                },
                {
                  "name": "D'Agostino p-value",
                  "rawType": "float64",
                  "type": "float"
                },
                {
                  "name": "Normality",
                  "rawType": "bool",
                  "type": "boolean"
                },
                {
                  "name": "Durbin-Watson Statistic",
                  "rawType": "float64",
                  "type": "float"
                },
                {
                  "name": "No Autocorrelation",
                  "rawType": "bool",
                  "type": "boolean"
                }
              ],
              "conversionMethod": "pd.DataFrame",
              "ref": "9ca0ccb2-092e-4ec5-8f4c-acb6950c9cdc",
              "rows": [
                [
                  "sul",
                  "-4.519611760161475",
                  "0.00018120265112527467",
                  "True",
                  "Plotted",
                  "Plotted",
                  "0.22013337304234437",
                  "0.6389383135999801",
                  "False",
                  "0.016349934400640122",
                  "0.07016893653574409",
                  "0.054859878393971474",
                  "False",
                  "1.1898209992184863",
                  "False"
                ],
                [
                  "sudeste",
                  "-8.634555106570344",
                  "5.6366620994263896e-14",
                  "True",
                  "Plotted",
                  "Plotted",
                  "5.859897451728389",
                  "0.015489696452250632",
                  "True",
                  "0.0364429594399839",
                  "0.4868620215930881",
                  "0.34205059991372844",
                  "False",
                  "2.4934938910102318",
                  "True"
                ],
                [
                  "norte",
                  "-5.63822179517542",
                  "1.0510570752509354e-06",
                  "True",
                  "Plotted",
                  "Plotted",
                  "0.2571263786563882",
                  "0.6121012802516563",
                  "False",
                  "0.0010548141657109708",
                  "0.1098550112959505",
                  "8.613814883454637e-08",
                  "False",
                  "1.8635212219946307",
                  "True"
                ],
                [
                  "nordeste",
                  "-1.0929713007963522",
                  "0.717866714267632",
                  "False",
                  "Plotted",
                  "Plotted",
                  "0.6087739787123903",
                  "0.435249802581962",
                  "False",
                  "0.02586763669159078",
                  "0.21459554242242154",
                  "0.1296489866447159",
                  "False",
                  "0.6977909314768607",
                  "False"
                ],
                [
                  "centro_oeste",
                  "-6.85259553049517",
                  "1.679431683327699e-09",
                  "True",
                  "Plotted",
                  "Plotted",
                  "18.12158050313771",
                  "2.0723933726898156e-05",
                  "True",
                  "0.001001596740057611",
                  "0.12736147058343486",
                  "2.87424759975685e-06",
                  "False",
                  "1.932850603604774",
                  "True"
                ]
              ],
              "shape": {
                "columns": 14,
                "rows": 5
              }
            },
            "text/html": [
              "<div>\n",
              "<style scoped>\n",
              "    .dataframe tbody tr th:only-of-type {\n",
              "        vertical-align: middle;\n",
              "    }\n",
              "\n",
              "    .dataframe tbody tr th {\n",
              "        vertical-align: top;\n",
              "    }\n",
              "\n",
              "    .dataframe thead th {\n",
              "        text-align: right;\n",
              "    }\n",
              "</style>\n",
              "<table border=\"1\" class=\"dataframe\">\n",
              "  <thead>\n",
              "    <tr style=\"text-align: right;\">\n",
              "      <th></th>\n",
              "      <th>ADF Statistic</th>\n",
              "      <th>ADF p-value</th>\n",
              "      <th>ADF Stationary</th>\n",
              "      <th>ACF</th>\n",
              "      <th>PACF</th>\n",
              "      <th>Breusch-Pagan LM Statistic</th>\n",
              "      <th>Breusch-Pagan p-value</th>\n",
              "      <th>Heteroscedasticity</th>\n",
              "      <th>Shapiro-Wilk p-value</th>\n",
              "      <th>Jarque-Bera p-value</th>\n",
              "      <th>D'Agostino p-value</th>\n",
              "      <th>Normality</th>\n",
              "      <th>Durbin-Watson Statistic</th>\n",
              "      <th>No Autocorrelation</th>\n",
              "    </tr>\n",
              "    <tr>\n",
              "      <th>Variable</th>\n",
              "      <th></th>\n",
              "      <th></th>\n",
              "      <th></th>\n",
              "      <th></th>\n",
              "      <th></th>\n",
              "      <th></th>\n",
              "      <th></th>\n",
              "      <th></th>\n",
              "      <th></th>\n",
              "      <th></th>\n",
              "      <th></th>\n",
              "      <th></th>\n",
              "      <th></th>\n",
              "      <th></th>\n",
              "    </tr>\n",
              "  </thead>\n",
              "  <tbody>\n",
              "    <tr>\n",
              "      <th>sul</th>\n",
              "      <td>-4.519612</td>\n",
              "      <td>1.812027e-04</td>\n",
              "      <td>True</td>\n",
              "      <td>Plotted</td>\n",
              "      <td>Plotted</td>\n",
              "      <td>0.220133</td>\n",
              "      <td>0.638938</td>\n",
              "      <td>False</td>\n",
              "      <td>0.016350</td>\n",
              "      <td>0.070169</td>\n",
              "      <td>5.485988e-02</td>\n",
              "      <td>False</td>\n",
              "      <td>1.189821</td>\n",
              "      <td>False</td>\n",
              "    </tr>\n",
              "    <tr>\n",
              "      <th>sudeste</th>\n",
              "      <td>-8.634555</td>\n",
              "      <td>5.636662e-14</td>\n",
              "      <td>True</td>\n",
              "      <td>Plotted</td>\n",
              "      <td>Plotted</td>\n",
              "      <td>5.859897</td>\n",
              "      <td>0.015490</td>\n",
              "      <td>True</td>\n",
              "      <td>0.036443</td>\n",
              "      <td>0.486862</td>\n",
              "      <td>3.420506e-01</td>\n",
              "      <td>False</td>\n",
              "      <td>2.493494</td>\n",
              "      <td>True</td>\n",
              "    </tr>\n",
              "    <tr>\n",
              "      <th>norte</th>\n",
              "      <td>-5.638222</td>\n",
              "      <td>1.051057e-06</td>\n",
              "      <td>True</td>\n",
              "      <td>Plotted</td>\n",
              "      <td>Plotted</td>\n",
              "      <td>0.257126</td>\n",
              "      <td>0.612101</td>\n",
              "      <td>False</td>\n",
              "      <td>0.001055</td>\n",
              "      <td>0.109855</td>\n",
              "      <td>8.613815e-08</td>\n",
              "      <td>False</td>\n",
              "      <td>1.863521</td>\n",
              "      <td>True</td>\n",
              "    </tr>\n",
              "    <tr>\n",
              "      <th>nordeste</th>\n",
              "      <td>-1.092971</td>\n",
              "      <td>7.178667e-01</td>\n",
              "      <td>False</td>\n",
              "      <td>Plotted</td>\n",
              "      <td>Plotted</td>\n",
              "      <td>0.608774</td>\n",
              "      <td>0.435250</td>\n",
              "      <td>False</td>\n",
              "      <td>0.025868</td>\n",
              "      <td>0.214596</td>\n",
              "      <td>1.296490e-01</td>\n",
              "      <td>False</td>\n",
              "      <td>0.697791</td>\n",
              "      <td>False</td>\n",
              "    </tr>\n",
              "    <tr>\n",
              "      <th>centro_oeste</th>\n",
              "      <td>-6.852596</td>\n",
              "      <td>1.679432e-09</td>\n",
              "      <td>True</td>\n",
              "      <td>Plotted</td>\n",
              "      <td>Plotted</td>\n",
              "      <td>18.121581</td>\n",
              "      <td>0.000021</td>\n",
              "      <td>True</td>\n",
              "      <td>0.001002</td>\n",
              "      <td>0.127361</td>\n",
              "      <td>2.874248e-06</td>\n",
              "      <td>False</td>\n",
              "      <td>1.932851</td>\n",
              "      <td>True</td>\n",
              "    </tr>\n",
              "  </tbody>\n",
              "</table>\n",
              "</div>"
            ],
            "text/plain": [
              "              ADF Statistic   ADF p-value  ADF Stationary      ACF     PACF  \\\n",
              "Variable                                                                      \n",
              "sul               -4.519612  1.812027e-04            True  Plotted  Plotted   \n",
              "sudeste           -8.634555  5.636662e-14            True  Plotted  Plotted   \n",
              "norte             -5.638222  1.051057e-06            True  Plotted  Plotted   \n",
              "nordeste          -1.092971  7.178667e-01           False  Plotted  Plotted   \n",
              "centro_oeste      -6.852596  1.679432e-09            True  Plotted  Plotted   \n",
              "\n",
              "              Breusch-Pagan LM Statistic  Breusch-Pagan p-value  \\\n",
              "Variable                                                          \n",
              "sul                             0.220133               0.638938   \n",
              "sudeste                         5.859897               0.015490   \n",
              "norte                           0.257126               0.612101   \n",
              "nordeste                        0.608774               0.435250   \n",
              "centro_oeste                   18.121581               0.000021   \n",
              "\n",
              "              Heteroscedasticity  Shapiro-Wilk p-value  Jarque-Bera p-value  \\\n",
              "Variable                                                                      \n",
              "sul                        False              0.016350             0.070169   \n",
              "sudeste                     True              0.036443             0.486862   \n",
              "norte                      False              0.001055             0.109855   \n",
              "nordeste                   False              0.025868             0.214596   \n",
              "centro_oeste                True              0.001002             0.127361   \n",
              "\n",
              "              D'Agostino p-value  Normality  Durbin-Watson Statistic  \\\n",
              "Variable                                                               \n",
              "sul                 5.485988e-02      False                 1.189821   \n",
              "sudeste             3.420506e-01      False                 2.493494   \n",
              "norte               8.613815e-08      False                 1.863521   \n",
              "nordeste            1.296490e-01      False                 0.697791   \n",
              "centro_oeste        2.874248e-06      False                 1.932851   \n",
              "\n",
              "              No Autocorrelation  \n",
              "Variable                          \n",
              "sul                        False  \n",
              "sudeste                     True  \n",
              "norte                       True  \n",
              "nordeste                   False  \n",
              "centro_oeste                True  "
            ]
          },
          "execution_count": 352,
          "metadata": {},
          "output_type": "execute_result"
        }
      ],
      "source": [
        "def run_pre_intervention_diagnostics(data, date_col, dependent_var, intervention_start_date):\n",
        "    \"\"\"\n",
        "    Realiza testes diagnósticos no período pré-intervenção.\n",
        "\n",
        "    Args:\n",
        "        data (pd.DataFrame): DataFrame contendo os dados.\n",
        "        date_col (str): Nome da coluna de datas.\n",
        "        dependent_var (str): Nome da variável dependente.\n",
        "        intervention_start_date (str): Data de início da intervenção (formato 'YYYY-MM-DD').\n",
        "\n",
        "    Returns:\n",
        "        dict: Resultados dos testes diagnósticos.\n",
        "    \"\"\"\n",
        "    import pandas as pd\n",
        "    import matplotlib.pyplot as plt\n",
        "    from statsmodels.tsa.stattools import adfuller\n",
        "    from statsmodels.graphics.tsaplots import plot_acf, plot_pacf\n",
        "    from statsmodels.stats.diagnostic import het_breuschpagan\n",
        "    from statsmodels.stats.stattools import durbin_watson\n",
        "    from scipy.stats import shapiro, jarque_bera, normaltest\n",
        "    import statsmodels.api as sm\n",
        "\n",
        "    # Filtrar o período pré-intervenção\n",
        "    pre_intervention_df = data[data[date_col] < pd.to_datetime(intervention_start_date)]\n",
        "\n",
        "    # Inicializar resultados\n",
        "    results = {}\n",
        "\n",
        "    # 1. Teste de Estacionariedade (ADF)\n",
        "    y = pre_intervention_df[dependent_var]\n",
        "    adf_result = adfuller(y)\n",
        "    results['ADF Statistic'] = adf_result[0]\n",
        "    results['ADF p-value'] = adf_result[1]\n",
        "    results['ADF Stationary'] = adf_result[1] < 0.05\n",
        "\n",
        "    # 2. Diagnóstico de Autocorrelação (ACF e PACF)\n",
        "    results['ACF'] = \"Plotted\"\n",
        "    results['PACF'] = \"Plotted\"\n",
        "\n",
        "    # 3. Teste de Heterocedasticidade (Breusch-Pagan)\n",
        "    X = sm.add_constant(pre_intervention_df.index)  # Índice como variável independente\n",
        "    model = sm.OLS(y, X).fit()\n",
        "    bp_test = het_breuschpagan(model.resid, X)\n",
        "    results['Breusch-Pagan LM Statistic'] = bp_test[0]\n",
        "    results['Breusch-Pagan p-value'] = bp_test[1]\n",
        "    results['Heteroscedasticity'] = bp_test[1] < 0.05\n",
        "\n",
        "    # 4. Testes de Normalidade dos Resíduos\n",
        "    shapiro_test = shapiro(model.resid)\n",
        "    jb_test = jarque_bera(model.resid)\n",
        "    dagostino_test = normaltest(model.resid)\n",
        "    results['Shapiro-Wilk p-value'] = shapiro_test.pvalue\n",
        "    results['Jarque-Bera p-value'] = jb_test[1]\n",
        "    results['D\\'Agostino p-value'] = dagostino_test.pvalue\n",
        "    results['Normality'] = all(p > 0.05 for p in [shapiro_test.pvalue, jb_test[1], dagostino_test.pvalue])\n",
        "\n",
        "    # 5. Teste de Autocorrelação (Durbin-Watson)\n",
        "    dw_stat = durbin_watson(model.resid)\n",
        "    results['Durbin-Watson Statistic'] = dw_stat\n",
        "    results['No Autocorrelation'] = 1.5 < dw_stat < 2.5\n",
        "\n",
        "    return results\n",
        "\n",
        "\n",
        "# Consolidar os resultados em um DataFrame\n",
        "diagnostics_results = []\n",
        "\n",
        "for variable in RegressionDF[GROUP_COL_NAME].unique():\n",
        "    print(f\"Analisando variável: {variable}\")\n",
        "    variable_df = RegressionDF[RegressionDF[GROUP_COL_NAME] == variable].copy()\n",
        "    diagnostics = run_pre_intervention_diagnostics(\n",
        "        data=variable_df,\n",
        "        date_col=DATE_NAME,\n",
        "        dependent_var=DEPENDENT_VAR,\n",
        "        intervention_start_date=PANDEMIA_START_DATE\n",
        "    )\n",
        "    diagnostics['Variable'] = variable  # Adicionar o nome da variável ao resultado\n",
        "    diagnostics_results.append(diagnostics)\n",
        "\n",
        "# Criar um DataFrame com os resultados\n",
        "diagnostics_df = pd.DataFrame(diagnostics_results)\n",
        "diagnostics_df.set_index('Variable', inplace=True)\n",
        "\n",
        "# Exibir o DataFrame\n",
        "diagnostics_df\n"
      ]
    },
    {
      "cell_type": "markdown",
      "metadata": {
        "id": "_lLzpByrMa6g"
      },
      "source": [
        "# Media movel "
      ]
    },
    {
      "cell_type": "code",
      "execution_count": 353,
      "metadata": {
        "colab": {
          "base_uri": "https://localhost:8080/",
          "height": 1000
        },
        "id": "-DDe_bMWNIXb",
        "outputId": "3cca2b7a-d7ce-4e0a-abb7-4b6a9cb36edd"
      },
      "outputs": [],
      "source": [
        "import matplotlib.pyplot as plt\n",
        "\n",
        "\n",
        "\n",
        "moving_avg_pipe = Pipeline([\n",
        "    ('moving_average', MovingAverageTransformer(window=MOVING_WINDOW, prefix='ma', center=True)),\n",
        "    ]\n",
        "    )\n",
        "\n",
        "def plot_moving_average(df, column, ma_column=None, title='Moving Average Plot', date_column='date'):\n",
        "    \"\"\"\n",
        "    Plota a série temporal original junto com a média móvel.\n",
        "\n",
        "    df: DataFrame contendo os dados\n",
        "    column: nome da coluna original\n",
        "    ma_column: nome da coluna da média móvel (se None, assume padrão de 'ma_{window}_{column}')\n",
        "    title: título do gráfico\n",
        "    date_column: nome da coluna de data\n",
        "    \"\"\"\n",
        "    if ma_column is None:\n",
        "        ma_column = [col for col in df.columns if col.startswith('ma_') and col.endswith(column)]\n",
        "        if ma_column:\n",
        "            ma_column = ma_column[0]\n",
        "        else:\n",
        "            raise ValueError(\"Média móvel não encontrada. Verifique o nome da coluna.\")\n",
        "\n",
        "    df[date_column] = pd.to_datetime(df[date_column])  # Ensure datetime format\n",
        "\n",
        "    plt.figure(figsize=(12, 5))\n",
        "    plt.plot(df[date_column], df[column], label='Original', color='lightgray')\n",
        "    plt.plot(df[date_column], df[ma_column], label=f'{ma_column}', color='blue')\n",
        "    plt.title(title)\n",
        "    plt.xlabel('Data')\n",
        "    plt.ylabel(column)\n",
        "    plt.legend()\n",
        "    plt.grid(True)\n",
        "    plt.tight_layout()\n",
        "    plt.show()\n",
        "\n",
        "if PLOT_MEDIA_MOVEL:\n",
        "    for var in RegressionDF[GROUP_COL_NAME].unique():\n",
        "        var_df = RegressionDF[RegressionDF[GROUP_COL_NAME] == var]\n",
        "        #var_df = var_df.sort_values(by = INDEPENDENT_VAR, ascending=False)\n",
        "        #print(var_df)\n",
        "        #var_df = moving_avg_pipe.fit_transform(var_df)\n",
        "\n",
        "\n",
        "        plot_moving_average(var_df, column=DEPENDENT_VAR, ma_column=f'ma_{MOVING_WINDOW}_valores', title=f'Moving Average Plot for {var}')\n",
        "\n"
      ]
    },
    {
      "cell_type": "markdown",
      "metadata": {
        "id": "NPO_tituNIXb"
      },
      "source": [
        "# Get Period Date Map and Dummies Period Indexes"
      ]
    },
    {
      "cell_type": "code",
      "execution_count": 354,
      "metadata": {},
      "outputs": [],
      "source": [
        "PERIOD_DATE_MAP = pipe.named_steps['period_index_adder'].period_date_mapping"
      ]
    },
    {
      "cell_type": "code",
      "execution_count": 355,
      "metadata": {},
      "outputs": [],
      "source": [
        "def find_idx_from_date(target_date, args, period_date_map=PERIOD_DATE_MAP):\n",
        "    \"\"\"\n",
        "    Finds the 'periodo' (index) corresponding to a given datetime in the PERIOD_DATE_MAP.\n",
        "\n",
        "    Args:\n",
        "        target_date (str or datetime): The target date to search for (e.g., '2020-01-01').\n",
        "        period_date_map (dict): The PERIOD_DATE_MAP containing period-to-date mappings.\n",
        "\n",
        "    Returns:\n",
        "        int: The 'periodo' (index) corresponding to the target date, or None if not found.\n",
        "    \"\"\"\n",
        "    # Ensure the target_date is a datetime object and normalize to quarter-end\n",
        "    if isinstance(target_date, str):\n",
        "        target_date = pd.to_datetime(target_date)\n",
        "    if args['FrequencyDateGroup'] == 'Q' or args['FrequencyDateGroup'] == 'QE':\n",
        "        target_date = target_date + pd.offsets.QuarterEnd(0)\n",
        "\n",
        "    # Iterate through the PERIOD_DATE_MAP to find the matching period\n",
        "    for date, period in period_date_map.items():\n",
        "        if isinstance(date, str):\n",
        "            date = pd.to_datetime(date)\n",
        "        if args['FrequencyDateGroup'] == 'Q' or args['FrequencyDateGroup'] == 'QE':\n",
        "            date = date + pd.offsets.QuarterEnd(0) # Normalize to quarter-end\n",
        "        if date == target_date:\n",
        "            return period - 1\n",
        "\n",
        "    return None\n",
        "\n",
        "\n",
        "def find_date_from_idx(target_idx, args, period_date_map=PERIOD_DATE_MAP):\n",
        "    \"\"\"\n",
        "    Finds the date corresponding to a given 'periodo' (index) in the PERIOD_DATE_MAP.\n",
        "\n",
        "    Args:\n",
        "        target_idx (int): The target index to search for (e.g., 1, 2, 3).\n",
        "        period_date_map (dict): The PERIOD_DATE_MAP containing period-to-date mappings.\n",
        "\n",
        "    Returns:\n",
        "        datetime or None: The date corresponding to the target index, or None if not found.\n",
        "    \"\"\"\n",
        "    # Iterate through the PERIOD_DATE_MAP to find the matching index\n",
        "    for date, period in period_date_map.items():\n",
        "        if period == target_idx:\n",
        "            date = pd.to_datetime(date) if isinstance(date, str) else date\n",
        "            date = date + pd.offsets.QuarterEnd(0) if args['FrequencyDateGroup'] == 'Q' or args['FrequencyDateGroup'] == 'QE' else date\n",
        "            return date\n",
        "    return None"
      ]
    },
    {
      "cell_type": "code",
      "execution_count": 356,
      "metadata": {},
      "outputs": [
        {
          "name": "stdout",
          "output_type": "stream",
          "text": [
            "Pandemia_Step {'start_date': '2020-04-01', 'end_date': '2022-03-01', 'exclude_ranges': []}\n",
            "Pandemia_Trend {'start_date': '2020-04-01', 'end_date': '2022-03-01', 'exclude_ranges': [], 'add_time_trend': True, 'keep_period_index': False}\n",
            "PosPandemia_Step {'start_date': '2022-04-01', 'end_date': '2024-12-01', 'exclude_ranges': [], 'plot': False, 'step': True}\n",
            "PosPandemia_Trend {'start_date': '2022-04-01', 'end_date': '2024-12-01', 'exclude_ranges': [], 'plot': True, 'add_time_trend': True, 'keep_period_index': False, 'step': False}\n"
          ]
        },
        {
          "data": {
            "text/plain": [
              "{'Pandemia_Step': {'start_index': 51, 'end_index': 74},\n",
              " 'Pandemia_Trend': {'start_index': 51, 'end_index': 74},\n",
              " 'PosPandemia_Step': {'start_index': 75, 'end_index': 107},\n",
              " 'PosPandemia_Trend': {'start_index': 75, 'end_index': 107}}"
            ]
          },
          "execution_count": 356,
          "metadata": {},
          "output_type": "execute_result"
        }
      ],
      "source": [
        "DummyIndexes = {}\n",
        "\n",
        "# Iterate over DUMMY_ARGS to calculate and store indexes\n",
        "for dummy_name, config in DUMMY_ARGS.items():\n",
        "    start_date = config.get(\"start_date\")\n",
        "    end_date = config.get(\"end_date\")\n",
        "\n",
        "    print(dummy_name, config)\n",
        "    # Calculate indexes using find_idx_from_date\n",
        "    start_idx = find_idx_from_date(start_date, PREPROCESSOR_ARGS, PERIOD_DATE_MAP) if start_date else None\n",
        "    end_idx = find_idx_from_date(end_date, PREPROCESSOR_ARGS, PERIOD_DATE_MAP) if end_date else None\n",
        "\n",
        "    # Store the indexes in the table\n",
        "    DummyIndexes[dummy_name] = {\n",
        "        \"start_index\": start_idx,\n",
        "        \"end_index\": end_idx\n",
        "    }\n",
        "DummyIndexes"
      ]
    },
    {
      "cell_type": "markdown",
      "metadata": {
        "id": "r5VoKUSkNIXc"
      },
      "source": [
        "# Exploration\n"
      ]
    },
    {
      "cell_type": "code",
      "execution_count": 357,
      "metadata": {
        "colab": {
          "base_uri": "https://localhost:8080/"
        },
        "id": "FrrmqovhNIXc",
        "outputId": "cf6e41a5-4664-4203-b687-0b34fc159bc6"
      },
      "outputs": [],
      "source": [
        "from statsmodels.api import OLS\n",
        "from statsmodels.tools.tools import add_constant\n",
        "import pandas as pd\n",
        "from scipy.stats import f\n",
        "main_regrdf = RegressionDF.copy()\n",
        "def chow_test(data, split_point, dependent_var, independent_vars):\n",
        "    \"\"\"\n",
        "    Realiza o teste de Chow para verificar mudanças estruturais em um modelo de regressão.\n",
        "\n",
        "    Args:\n",
        "        data (pd.DataFrame): DataFrame contendo os dados.\n",
        "        split_point (int): Ponto de divisão para o teste de Chow.\n",
        "        dependent_var (str): Nome da variável dependente.\n",
        "        independent_vars (list): Lista de nomes das variáveis independentes.\n",
        "\n",
        "    Returns:\n",
        "        dict: Resultados do teste de Chow contendo os valores F e p.\n",
        "    \"\"\"\n",
        "    # Dividir os dados em dois subconjuntos\n",
        "    data1 = data[data['periodo'] <= split_point]\n",
        "    data2 = data[data['periodo'] > split_point]\n",
        "\n",
        "    # Ajustar os modelos para cada subconjunto\n",
        "    X1 = add_constant(data1[independent_vars])\n",
        "    y1 = data1[dependent_var]\n",
        "    model1 = OLS(y1, X1).fit()\n",
        "\n",
        "    X2 = add_constant(data2[independent_vars])\n",
        "    y2 = data2[dependent_var]\n",
        "    model2 = OLS(y2, X2).fit()\n",
        "\n",
        "    # Ajustar o modelo para o conjunto completo\n",
        "    X_full = add_constant(data[independent_vars])\n",
        "    y_full = data[dependent_var]\n",
        "    model_full = OLS(y_full, X_full).fit()\n",
        "\n",
        "    # Calcular os graus de liberdade\n",
        "    k = len(independent_vars) + 1  # Número de parâmetros (incluindo o intercepto)\n",
        "    n1 = len(data1)\n",
        "    n2 = len(data2)\n",
        "    n = n1 + n2\n",
        "\n",
        "    # Calcular a soma dos quadrados dos resíduos\n",
        "    RSS1 = model1.ssr\n",
        "    RSS2 = model2.ssr\n",
        "    RSS_full = model_full.ssr\n",
        "\n",
        "    # Calcular o valor F\n",
        "    F = ((RSS_full - (RSS1 + RSS2)) / k) / ((RSS1 + RSS2) / (n - 2 * k))\n",
        "\n",
        "    # Calcular o p-valor\n",
        "    p_value = 1 - f.cdf(F, k, n - 2 * k)\n",
        "\n",
        "    return {\"F-statistic\": F, \"p-value\": p_value}\n",
        "\n",
        "\n",
        "if False:\n",
        "    chow_results = {}\n",
        "    split_point = find_idx_from_date(POS_PANDEMIA_START_DATE, PREPROCESSOR_ARGS)  # Exemplo: ponto de divisão para o teste de Chow\n",
        "    dependent_var = DEPENDENT_VAR\n",
        "    independent_vars = [INDEPENDENT_VAR] #+ [key for key in DUMMY_ARGS.keys()]\n",
        "    for variable in main_regrdf[GROUP_COL_NAME].unique():\n",
        "        variable_data = main_regrdf[main_regrdf[GROUP_COL_NAME] == variable]\n",
        "        result = chow_test(variable_data, split_point, dependent_var, independent_vars)\n",
        "        chow_results[variable] = result\n",
        "    # Converter os resultados em um DataFrame para visualização\n",
        "    chow_results_df = pd.DataFrame(chow_results).T\n",
        "    chow_results_df.columns = [\"F-statistic\", \"p-value\"]\n",
        "    chow_results_df['p-value'] = chow_results_df['p-value'].round(8)\n",
        "    print(chow_results_df)"
      ]
    },
    {
      "cell_type": "code",
      "execution_count": 358,
      "metadata": {
        "colab": {
          "base_uri": "https://localhost:8080/"
        },
        "id": "lyS4l0t8NIXc",
        "outputId": "87c30dda-28b3-48d9-8f50-7f23fa6ec0f4"
      },
      "outputs": [
        {
          "name": "stdout",
          "output_type": "stream",
          "text": [
            "[  1.          51.99999986 108.        ]\n",
            "2016-01-01 00:00:00\n",
            "2020-04-01 00:00:00\n",
            "2024-12-01 00:00:00\n"
          ]
        }
      ],
      "source": [
        "### TODO: make the knots per variable\n",
        "### TODO: remove the bumps/step_dummies before testing\n",
        "\n",
        "pwmodel = pwlf.PiecewiseLinFit(main_regrdf[INDEPENDENT_VAR].values,main_regrdf[DEPENDENT_VAR].values)\n",
        "knots = pwmodel.fit(2)\n",
        "print(knots)\n",
        "for knot in knots:\n",
        "    print(find_date_from_idx(np.round(knot), PREPROCESSOR_ARGS, PERIOD_DATE_MAP))"
      ]
    },
    {
      "cell_type": "code",
      "execution_count": 359,
      "metadata": {
        "colab": {
          "base_uri": "https://localhost:8080/",
          "height": 651
        },
        "id": "WJ_UKYslNIXc",
        "outputId": "ad4e0f72-aee3-43a3-e425-f46be70f892b"
      },
      "outputs": [
        {
          "data": {
            "application/vnd.microsoft.datawrangler.viewer.v0+json": {
              "columns": [
                {
                  "name": "index",
                  "rawType": "object",
                  "type": "string"
                },
                {
                  "name": "Heteroscedasticity (Breusch-Pagan)",
                  "rawType": "float64",
                  "type": "float"
                },
                {
                  "name": "Normality (Shapiro-Wilk)",
                  "rawType": "float64",
                  "type": "float"
                },
                {
                  "name": "Normality (Jarque-Bera)",
                  "rawType": "float64",
                  "type": "float"
                },
                {
                  "name": "Normality (D'Agostino)",
                  "rawType": "float64",
                  "type": "float"
                },
                {
                  "name": "Autocorrelation (Durbin-Watson)",
                  "rawType": "float64",
                  "type": "float"
                },
                {
                  "name": "Autocorrelation (Ljung-Box)",
                  "rawType": "float64",
                  "type": "float"
                }
              ],
              "conversionMethod": "pd.DataFrame",
              "ref": "41e308a2-c49e-40fa-88ca-9637c7f066e3",
              "rows": [
                [
                  "sul",
                  "0.1645763058919691",
                  "1.8384930305184927e-05",
                  "3.8324721723271455e-17",
                  "0.00015215619807960174",
                  "0.6625018987571281",
                  "1.6946554094057126e-19"
                ],
                [
                  "sudeste",
                  "0.7509721121896159",
                  "0.011322929609110485",
                  "9.73183278920444e-05",
                  "0.0033960539048403376",
                  "0.4731105820321103",
                  "1.677197212120727e-41"
                ],
                [
                  "norte",
                  "0.00031625537561903293",
                  "0.30306645516149433",
                  "0.15208464372210206",
                  "0.1750682563571891",
                  "0.40601962999423125",
                  "5.485826613192785e-37"
                ],
                [
                  "nordeste",
                  "0.22465205344520503",
                  "0.5338393170851307",
                  "0.8921544194838992",
                  "0.7820646758102503",
                  "0.5918559632970217",
                  "2.022384916056268e-28"
                ],
                [
                  "centro_oeste",
                  "0.6168098453846689",
                  "0.16294219535657084",
                  "0.6499785460276428",
                  "0.5052952566453792",
                  "0.4468453013445316",
                  "3.788040109772595e-40"
                ]
              ],
              "shape": {
                "columns": 6,
                "rows": 5
              }
            },
            "text/html": [
              "<div>\n",
              "<style scoped>\n",
              "    .dataframe tbody tr th:only-of-type {\n",
              "        vertical-align: middle;\n",
              "    }\n",
              "\n",
              "    .dataframe tbody tr th {\n",
              "        vertical-align: top;\n",
              "    }\n",
              "\n",
              "    .dataframe thead th {\n",
              "        text-align: right;\n",
              "    }\n",
              "</style>\n",
              "<table border=\"1\" class=\"dataframe\">\n",
              "  <thead>\n",
              "    <tr style=\"text-align: right;\">\n",
              "      <th></th>\n",
              "      <th>Heteroscedasticity (Breusch-Pagan)</th>\n",
              "      <th>Normality (Shapiro-Wilk)</th>\n",
              "      <th>Normality (Jarque-Bera)</th>\n",
              "      <th>Normality (D'Agostino)</th>\n",
              "      <th>Autocorrelation (Durbin-Watson)</th>\n",
              "      <th>Autocorrelation (Ljung-Box)</th>\n",
              "    </tr>\n",
              "  </thead>\n",
              "  <tbody>\n",
              "    <tr>\n",
              "      <th>sul</th>\n",
              "      <td>0.164576</td>\n",
              "      <td>0.000018</td>\n",
              "      <td>3.832472e-17</td>\n",
              "      <td>0.000152</td>\n",
              "      <td>0.662502</td>\n",
              "      <td>1.694655e-19</td>\n",
              "    </tr>\n",
              "    <tr>\n",
              "      <th>sudeste</th>\n",
              "      <td>0.750972</td>\n",
              "      <td>0.011323</td>\n",
              "      <td>9.731833e-05</td>\n",
              "      <td>0.003396</td>\n",
              "      <td>0.473111</td>\n",
              "      <td>1.677197e-41</td>\n",
              "    </tr>\n",
              "    <tr>\n",
              "      <th>norte</th>\n",
              "      <td>0.000316</td>\n",
              "      <td>0.303066</td>\n",
              "      <td>1.520846e-01</td>\n",
              "      <td>0.175068</td>\n",
              "      <td>0.406020</td>\n",
              "      <td>5.485827e-37</td>\n",
              "    </tr>\n",
              "    <tr>\n",
              "      <th>nordeste</th>\n",
              "      <td>0.224652</td>\n",
              "      <td>0.533839</td>\n",
              "      <td>8.921544e-01</td>\n",
              "      <td>0.782065</td>\n",
              "      <td>0.591856</td>\n",
              "      <td>2.022385e-28</td>\n",
              "    </tr>\n",
              "    <tr>\n",
              "      <th>centro_oeste</th>\n",
              "      <td>0.616810</td>\n",
              "      <td>0.162942</td>\n",
              "      <td>6.499785e-01</td>\n",
              "      <td>0.505295</td>\n",
              "      <td>0.446845</td>\n",
              "      <td>3.788040e-40</td>\n",
              "    </tr>\n",
              "  </tbody>\n",
              "</table>\n",
              "</div>"
            ],
            "text/plain": [
              "              Heteroscedasticity (Breusch-Pagan)  Normality (Shapiro-Wilk)  \\\n",
              "sul                                     0.164576                  0.000018   \n",
              "sudeste                                 0.750972                  0.011323   \n",
              "norte                                   0.000316                  0.303066   \n",
              "nordeste                                0.224652                  0.533839   \n",
              "centro_oeste                            0.616810                  0.162942   \n",
              "\n",
              "              Normality (Jarque-Bera)  Normality (D'Agostino)  \\\n",
              "sul                      3.832472e-17                0.000152   \n",
              "sudeste                  9.731833e-05                0.003396   \n",
              "norte                    1.520846e-01                0.175068   \n",
              "nordeste                 8.921544e-01                0.782065   \n",
              "centro_oeste             6.499785e-01                0.505295   \n",
              "\n",
              "              Autocorrelation (Durbin-Watson)  Autocorrelation (Ljung-Box)  \n",
              "sul                                  0.662502                 1.694655e-19  \n",
              "sudeste                              0.473111                 1.677197e-41  \n",
              "norte                                0.406020                 5.485827e-37  \n",
              "nordeste                             0.591856                 2.022385e-28  \n",
              "centro_oeste                         0.446845                 3.788040e-40  "
            ]
          },
          "execution_count": 359,
          "metadata": {},
          "output_type": "execute_result"
        }
      ],
      "source": [
        "import pandas as pd\n",
        "import numpy as np\n",
        "from statsmodels.stats.diagnostic import het_breuschpagan, acorr_ljungbox\n",
        "from statsmodels.stats.stattools import durbin_watson\n",
        "from scipy.stats import shapiro, normaltest, jarque_bera\n",
        "import statsmodels.api as sm\n",
        "\n",
        "def analyze_time_series(df: pd.DataFrame, variable_col: str, date_col: str, value_col: str):\n",
        "    \"\"\"\n",
        "    Analyzes a melted DataFrame for heteroscedasticity, distribution, and autocorrelation.\n",
        "\n",
        "    Parameters:\n",
        "        df (pd.DataFrame): Melted DataFrame with columns for variable, date, and value.\n",
        "        variable_col (str): Column name for the variable identifier.\n",
        "        date_col (str): Column name for the date.\n",
        "        value_col (str): Column name for the value.\n",
        "\n",
        "    Returns:\n",
        "        dict: A dictionary with analysis results for each variable.\n",
        "    \"\"\"\n",
        "    results = {}\n",
        "\n",
        "    for variable in df[variable_col].unique():\n",
        "        # Filter data for the current variable\n",
        "        variable_data = df[df[variable_col] == variable].sort_values(by=date_col)\n",
        "        y = variable_data[value_col].values\n",
        "        x = np.arange(len(y))  # Time index as independent variable\n",
        "\n",
        "        # Add constant for regression\n",
        "        X = sm.add_constant(x)\n",
        "\n",
        "        # Fit OLS model\n",
        "        model = sm.OLS(y, X).fit()\n",
        "\n",
        "        # Heteroscedasticity tests\n",
        "        bp_test = het_breuschpagan(model.resid, X)\n",
        "        bp_pvalue = bp_test[1]\n",
        "\n",
        "        # Normality tests\n",
        "        shapiro_test = shapiro(model.resid)\n",
        "        shapiro_pvalue = shapiro_test.pvalue\n",
        "\n",
        "        jb_test = jarque_bera(model.resid)\n",
        "        jb_pvalue = jb_test[1]\n",
        "\n",
        "        dagostino_test = normaltest(model.resid)\n",
        "        dagostino_pvalue = dagostino_test.pvalue\n",
        "\n",
        "        # Autocorrelation tests\n",
        "        dw_stat = durbin_watson(model.resid)\n",
        "        ljungbox_test = acorr_ljungbox(model.resid, lags=[10], return_df=True)\n",
        "        ljungbox_pvalue = ljungbox_test['lb_pvalue'].iloc[0]\n",
        "\n",
        "        # Store results\n",
        "        results[variable] = {\n",
        "            \"Heteroscedasticity (Breusch-Pagan)\": bp_pvalue,\n",
        "            \"Normality (Shapiro-Wilk)\": shapiro_pvalue,\n",
        "            \"Normality (Jarque-Bera)\": jb_pvalue,\n",
        "            \"Normality (D'Agostino)\": dagostino_pvalue,\n",
        "            \"Autocorrelation (Durbin-Watson)\": dw_stat,\n",
        "            \"Autocorrelation (Ljung-Box)\": ljungbox_pvalue,\n",
        "        }\n",
        "\n",
        "    return results\n",
        "\n",
        "explorationresults = analyze_time_series(main_regrdf, GROUP_COL_NAME, DATE_NAME, DEPENDENT_VAR)\n",
        "explorationresultsDF = pd.DataFrame(explorationresults).T\n",
        "explorationresultsDF"
      ]
    },
    {
      "cell_type": "markdown",
      "metadata": {
        "id": "p26xmWNYNIXd"
      },
      "source": [
        "# Define Processors"
      ]
    },
    {
      "cell_type": "code",
      "execution_count": 360,
      "metadata": {
        "id": "fscc0dkXNIXd"
      },
      "outputs": [],
      "source": [
        "class RegressionProcessor:\n",
        "    def __init__(\n",
        "        self,\n",
        "        data,\n",
        "        formula,\n",
        "        model=None,\n",
        "        find_best_rho=False,\n",
        "        find_best_rho_args={\n",
        "            'start': -1.0,\n",
        "            \"stop\": 1.0,\n",
        "            'step': 0.05,\n",
        "            'criterio': 'aic',\n",
        "        },\n",
        "        rho=None,\n",
        "        cov_type=None,\n",
        "        cov_kwargs=None,\n",
        "        iterative_fit=False,  # New argument to enable iterative fitting\n",
        "        max_iterations=100,  # Maximum iterations for iterative fitting\n",
        "    ):\n",
        "        self.data = data\n",
        "        self.formula = formula\n",
        "        self.model = model\n",
        "        self.rho = rho\n",
        "        self.cov_type = cov_type\n",
        "        self.cov_kwargs = cov_kwargs\n",
        "        self.find_best_rho = find_best_rho\n",
        "        self.find_best_rho_args = find_best_rho_args\n",
        "        self.iterative_fit = iterative_fit\n",
        "        self.max_iterations = max_iterations\n",
        "        self.results = None\n",
        "\n",
        "    def fit(self, rho=None):\n",
        "        # Fit the regression model using the specified formula and data\n",
        "        if self.find_best_rho:\n",
        "            best_rho = 1.0\n",
        "            best_criterion_value = np.inf\n",
        "            model = None\n",
        "            results = None\n",
        "            for rho in np.arange(\n",
        "                self.find_best_rho_args['start'],\n",
        "                self.find_best_rho_args['stop'],\n",
        "                self.find_best_rho_args['step']\n",
        "            ):\n",
        "                test_model = self.model(self.formula, data=self.data, rho=rho)\n",
        "                if self.iterative_fit and hasattr(test_model, \"iterative_fit\"):\n",
        "                    test_results = test_model.iterative_fit(\n",
        "                        maxiter=self.max_iterations,\n",
        "                        cov_type=self.cov_type,\n",
        "                        cov_kwds=self.cov_kwargs,\n",
        "                    )\n",
        "                else:\n",
        "                    test_results = test_model.fit(\n",
        "                        cov_type=self.cov_type,\n",
        "                        cov_kwds=self.cov_kwargs,\n",
        "                    )\n",
        "                criterion_value = getattr(test_results, self.find_best_rho_args['criterio'])\n",
        "                if criterion_value < best_criterion_value:\n",
        "                    best_criterion_value = criterion_value\n",
        "                    best_rho = rho\n",
        "                    model = test_model\n",
        "                    results = test_results\n",
        "            self.rho = best_rho\n",
        "            self.results = results\n",
        "        else:\n",
        "            if self.rho is not None:\n",
        "                model = self.model(self.formula, data=self.data, rho=rho)\n",
        "            else:\n",
        "                model = self.model(self.formula, data=self.data)\n",
        "\n",
        "            # Use iterative fitting if enabled and supported\n",
        "            if self.iterative_fit and hasattr(model, \"iterative_fit\"):\n",
        "                self.results = model.iterative_fit(\n",
        "                    maxiter=self.max_iterations,\n",
        "                    cov_type=self.cov_type,\n",
        "                    cov_kwds=self.cov_kwargs,\n",
        "                )\n",
        "            else:\n",
        "                self.results = model.fit(\n",
        "                    cov_type=self.cov_type,\n",
        "                    cov_kwds=self.cov_kwargs,\n",
        "                )"
      ]
    },
    {
      "cell_type": "code",
      "execution_count": 361,
      "metadata": {
        "id": "QCvNMgVzNIXd"
      },
      "outputs": [],
      "source": [
        "class VariableProcessor:\n",
        "    def __init__(\n",
        "        self,\n",
        "        df,\n",
        "        processor_args,\n",
        "        processor,\n",
        "        evaluate = False,\n",
        "        test_size=0.2,\n",
        "        random_state=42,\n",
        "\n",
        "    ):\n",
        "        self.df = df\n",
        "        self.results = {}\n",
        "        self.processor_args = processor_args\n",
        "        self.processor = processor\n",
        "        self.evaluate = evaluate\n",
        "        self.evaluation_results = {}\n",
        "        self.test_size = test_size\n",
        "        self.random_state = random_state\n",
        "\n",
        "\n",
        "    def process_variables(self):\n",
        "        # Process each variable in the DataFrame\n",
        "        for variable in self.df[GROUP_COL_NAME].unique():\n",
        "            variable_data = self.df[self.df[GROUP_COL_NAME] == variable].sort_values(by=DATE_NAME)\n",
        "            variable_data = variable_data.reset_index(drop=True)\n",
        "\n",
        "            processor = self.processor(data=variable_data, **self.processor_args)\n",
        "            processor.fit()\n",
        "            \n",
        "            self.results[variable] = processor.results\n",
        "\n",
        "\n",
        "\n",
        "\n",
        "            # Split into train and test\n",
        "            if self.evaluate:\n",
        "                train_data, test_data = train_test_split(\n",
        "                    variable_data, test_size=self.test_size, random_state=self.random_state, shuffle=False\n",
        "                )\n",
        "\n",
        "                # Store results for train and test\n",
        "                train_predictions = processor.results.predict(train_data)\n",
        "                test_predictions = processor.results.predict(test_data)\n",
        "\n",
        "                # Calculate metrics\n",
        "                train_r2 = r2_score(train_data[DEPENDENT_VAR], train_predictions)\n",
        "                test_r2 = r2_score(test_data[DEPENDENT_VAR], test_predictions)\n",
        "                #n_train = len(train_data)\n",
        "                #n_test = len(test_data)\n",
        "                #p = len(processor.results.params) - 1\n",
        "                train_mse = mean_squared_error(train_data[DEPENDENT_VAR], train_predictions)\n",
        "                test_mse = mean_squared_error(test_data[DEPENDENT_VAR], test_predictions)\n",
        "\n",
        "                evaluation_value = train_r2 - test_r2\n",
        "                #evaluation_value_adj = train_r2_adj - test_r2_adj\n",
        "\n",
        "\n",
        "                self.evaluation_results[variable] = {\n",
        "                    #'Absolute Diff': absolute_difference,\n",
        "                    'TrainMSE - TestMSE': train_mse - test_mse,\n",
        "                    \"Evaluation Value (r_train² - r_test²)\": evaluation_value,\n",
        "                    \"Overfitting Risk\": \"High\" if evaluation_value > 0.1 else \"Low\",\n",
        "                    \"Train R2\": train_r2,\n",
        "                    \"Test R2\": test_r2,\n",
        "                    #\"Evaluation Value (r_train_adj² - r_test_adj²)\": evaluation_value_adj,\n",
        "                    #\"Overfitting Risk (adj_r2)\": \"High\" if evaluation_value_adj > 0.1 else \"Low\",\n",
        "                    #\"Adj Train R2\": train_r2_adj,\n",
        "                    #\"Adj Test R2\": test_r2_adj,\n",
        "                    \"Train MSE\": train_mse,\n",
        "                    \"Test MSE\": test_mse,\n",
        "                    \"Processor Results\": processor.results,\n",
        "                    'splitted_data': {'train_data': train_data, 'test_data': test_data},\n",
        "                }\n",
        "\n",
        "        self.evaluation_results = pd.DataFrame(self.evaluation_results).T\n",
        "\n",
        "        return self.results, self.evaluation_results"
      ]
    },
    {
      "cell_type": "markdown",
      "metadata": {},
      "source": [
        "# Define GEE Processor\n"
      ]
    },
    {
      "cell_type": "code",
      "execution_count": 362,
      "metadata": {},
      "outputs": [],
      "source": [
        "class GEEProcessor:\n",
        "    def __init__(self, data, formula, family=None, cov_struct=None, groups=None):\n",
        "        self.data = data\n",
        "        self.family = family\n",
        "        self.cov_struct = cov_struct\n",
        "        self.formula = formula\n",
        "        self.groups = groups\n",
        "        \n",
        "        self.results = None\n",
        "\n",
        "\n",
        "\n",
        "    def fit(self, **kwargs):\n",
        "        \n",
        "        # Fit the GEE model using the specified formula and data\n",
        "        #model = GEE(endog=self.Y, exog=self.X, family=self.family, groups = self.groups, cov_struct=self.cov_struct)\n",
        "        model = GEE.from_formula(formula = self.formula,\n",
        "                                 data=self.data,\n",
        "                                 family=self.family,\n",
        "                                 groups=np.arange(len(self.data)),\n",
        "                                 cov_struct=self.cov_struct,\n",
        "                                 offset = self.data['offset'])\n",
        "        self.results = model.fit(**kwargs)  # Fit the model and store the results"
      ]
    },
    {
      "cell_type": "markdown",
      "metadata": {
        "id": "K8HZg-VlNIXd"
      },
      "source": [
        "# Define Exporter"
      ]
    },
    {
      "cell_type": "code",
      "execution_count": 363,
      "metadata": {
        "id": "BF1tmE8pNIXd"
      },
      "outputs": [],
      "source": [
        "def export_results(results, output_path, processor_args, preprocessor_args, output_gsheet = None):\n",
        "    \"\"\"\n",
        "    Exports the regression results and metadata to an Excel file.\n",
        "\n",
        "    Args:\n",
        "        results (dict): Dictionary containing regression results.\n",
        "        output_path (str): Path to the output Excel file.\n",
        "        processor_args (dict): Dictionary containing processor arguments.\n",
        "        preprocessor_args (dict): Dictionary containing preprocessor arguments.\n",
        "    \"\"\"\n",
        "    def extract_durbin_watson_from_summary(result):\n",
        "        summary_text = result.summary().as_text()\n",
        "        for line in summary_text.split('\\n'):\n",
        "            if \"Durbin-Watson\" in line:\n",
        "                return float(line.split()[-1])  # Extract the last value in the line\n",
        "        return None  # Return None if not found\n",
        "\n",
        "\n",
        "    def try_create_worksheet(output_gsheet, title: str) -> None:\n",
        "        if output_gsheet:\n",
        "            try:\n",
        "                output_gsheet.worksheet(title)\n",
        "            except gspread.exceptions.WorksheetNotFound:\n",
        "                output_gsheet.add_worksheet(title=title, rows=\"100\", cols=\"20\")\n",
        "\n",
        "\n",
        "    stats_data = []\n",
        "    coefficients_data = []\n",
        "\n",
        "    for variable, result in results.items():\n",
        "        # Extract coefficients\n",
        "        coefficients = result.params\n",
        "        coef_row = {\"Variable\": variable}\n",
        "        for coef_name, coef_value in coefficients.items():\n",
        "            coef_row[f\"{coef_name}__Value\"] = round(coef_value, 7)\n",
        "            coef_row[f\"{coef_name}__Value_%_intercept\"] = coef_value/result.params['Intercept']*100\n",
        "            coef_row[f\"{coef_name}__P-Value\"] = round(result.pvalues.get(coef_name, np.nan), 7)\n",
        "            coef_row[f\"{coef_name}__Std Err\"] = round(result.bse.get(coef_name, np.nan), 7)\n",
        "            coef_row[f\"{coef_name}__Significant\"] = result.pvalues.get(coef_name, np.nan) < 0.05  # At 5% significance\n",
        "        coefficients_data.append(coef_row)\n",
        "\n",
        "        # Extract other statistics\n",
        "        stats_data.append({\n",
        "            \"Variable\": variable,\n",
        "            \"R-Squared\": round(result.rsquared, 7),\n",
        "            \"Adjusted R-Squared\": round(result.rsquared_adj, 7),\n",
        "            \"Durbin-Watson\": round(extract_durbin_watson_from_summary(result), 7),\n",
        "            \"AIC\": round(result.aic, 7),\n",
        "            \"BIC\": round(result.bic, 7),\n",
        "            \"Number of Observations\": result.nobs,\n",
        "            \"F-Value\": round(result.fvalue, 7) if result.fvalue is not None else np.nan,\n",
        "            \"F P-Value\": round(result.f_pvalue, 7) if result.f_pvalue is not None else np.nan,\n",
        "            \"Log-Likelihood\": round(result.llf, 7),\n",
        "            \"Condition Number\": round(result.condition_number, 7) if result.condition_number is not None else np.nan\n",
        "        })\n",
        "\n",
        "    # Convert to DataFrames\n",
        "    coefficients_df = pd.DataFrame(coefficients_data).set_index(\"Variable\")\n",
        "    stats_df = pd.DataFrame(stats_data).set_index(\"Variable\")\n",
        "\n",
        "    # Prepare metadata\n",
        "    metadata = {\n",
        "        \"Processor Args\": [str(processor_args)],\n",
        "        \"Preprocessor Args\": [str(preprocessor_args)]\n",
        "    }\n",
        "    metadata_df = pd.DataFrame(metadata)\n",
        "\n",
        "    # Write to gsheet\n",
        "    if output_gsheet is not None:\n",
        "        for title, clean_df, include_index in [\n",
        "            (\"Coefficients\", coefficients_df, True),\n",
        "            (\"Statistics\", stats_df, True),\n",
        "            (\"Metadata\", metadata_df, False)\n",
        "        ]:\n",
        "            try_create_worksheet(title=title, output_gsheet=output_gsheet)\n",
        "            ws = output_gsheet.worksheet(title)\n",
        "            ws.clear()\n",
        "            set_with_dataframe(ws, clean_df, include_index=include_index)\n",
        "    # Write to Excel\n",
        "    else:\n",
        "       file_exists = os.path.exists(output_path)\n",
        "\n",
        "               # Attempt to open file and catch PermissionError if the file is open elsewhere\n",
        "       if file_exists:\n",
        "           while True:\n",
        "               try:\n",
        "                   with pd.ExcelWriter(output_path) as writer:\n",
        "                       # Write coefficients to one sheet\n",
        "                       coefficients_df.to_excel(writer, sheet_name=\"Coefficients\")\n",
        "\n",
        "                       # Write other stats to another sheet\n",
        "                       stats_df.to_excel(writer, sheet_name=\"Statistics\")\n",
        "\n",
        "                       # Write metadata to another sheet\n",
        "                       metadata_df.to_excel(writer, sheet_name=\"Metadata\", index=False)\n",
        "                   # Load the workbook to apply formatting\n",
        "                   workbook = load_workbook(output_path)\n",
        "                   if \"Residuals\" not in workbook.sheetnames:\n",
        "                       workbook.create_sheet(\"Residuals\")\n",
        "                       residuals_sheet = workbook[\"Residuals\"]\n",
        "\n",
        "                   # Plot residuals for each variable and add them to the Residuals sheet\n",
        "                   for idx, (variable, result) in enumerate(results.items(), start=1):\n",
        "                       # Create a plot of residuals\n",
        "                       plt.figure(figsize=(6, 4))\n",
        "                       plt.scatter(range(len(result.resid)), result.resid, alpha=0.7)\n",
        "                       plt.axhline(0, color=\"red\", linestyle=\"--\", linewidth=1)\n",
        "                       plt.title(f\"Residuals for {variable}\")\n",
        "                       plt.xlabel(\"Observation\")\n",
        "                       plt.ylabel(\"Residuals\")\n",
        "                       plt.tight_layout()\n",
        "\n",
        "                       # Save the plot to a BytesIO object\n",
        "                       img_data = BytesIO()\n",
        "                       plt.savefig(img_data, format=\"png\")\n",
        "                       plt.close()\n",
        "                       img_data.seek(0)\n",
        "\n",
        "                       # Add the image to the Excel sheet\n",
        "                       img = Image(img_data)\n",
        "                       img.anchor = f\"A{idx * 20}\"  # Adjust the position of the image\n",
        "                       residuals_sheet.add_image(img)\n",
        "\n",
        "                   for sheet_name in [\"Coefficients\", \"Statistics\", \"Metadata\"]:\n",
        "                       if sheet_name in workbook.sheetnames:\n",
        "                           sheet = workbook[sheet_name]\n",
        "\n",
        "                           # Enable text wrapping and adjust row heights\n",
        "                           for row in sheet.iter_rows():\n",
        "                               for cell in row:\n",
        "                                   cell.alignment = Alignment(wrap_text=True)  # Enable text wrapping\n",
        "                               # Adjust row height\n",
        "                               sheet.row_dimensions[row[0].row].height = 25  # Set row height to 25 (adjust as needed)\n",
        "\n",
        "                   # Save the formatted workbook\n",
        "                   workbook.save(output_path)\n",
        "                   break  # Exit the loop if writing succeeds\n",
        "               except PermissionError:\n",
        "                   #logger.warning(f\"File '{output_path}' is currently open. Please close the file and press Enter to try again.\")\n",
        "                   input(\"Press Enter after closing the file...\")\n",
        "                   time.sleep(5)  # Optional: wait before retrying\n"
      ]
    },
    {
      "cell_type": "markdown",
      "metadata": {},
      "source": [
        "# Define Group Iterator"
      ]
    },
    {
      "cell_type": "code",
      "execution_count": 364,
      "metadata": {},
      "outputs": [],
      "source": [
        "def process_groups_with_processor(dataframe, group_col, date_col, processor_class, processor_args, max_iter=100):\n",
        "    \"\"\"\n",
        "    Processes variables in a DataFrame using a specified processor class and arguments.\n",
        "\n",
        "    Args:\n",
        "        dataframe (pd.DataFrame): The input DataFrame containing the data.\n",
        "        group_col (str): The column name used to group the data.\n",
        "        date_col (str): The column name containing the date information.\n",
        "        processor_class (class): The processor class to be used (e.g., GEEProcessor).\n",
        "        processor_args (dict): Arguments to be passed to the processor class.\n",
        "        max_iter (int): Maximum number of iterations for the processor's fit method.\n",
        "\n",
        "    Returns:\n",
        "        dict: A dictionary containing the results for each variable.\n",
        "    \"\"\"\n",
        "    results = {}\n",
        "    for variable in dataframe[group_col].unique():\n",
        "        variable_data = dataframe[dataframe[group_col] == variable].sort_values(by=date_col)\n",
        "        variable_data = variable_data.reset_index(drop=True)\n",
        "        \n",
        "        # Instantiate the processor with the provided arguments\n",
        "        processor = processor_class(data=variable_data, **processor_args)\n",
        "        \n",
        "        # Fit the processor\n",
        "        processor.fit(maxiter=max_iter)\n",
        "        \n",
        "        # Store the results\n",
        "        results[variable] = processor.results\n",
        "        \n",
        "        # Print the summary\n",
        "        print(processor.results.summary())\n",
        "    \n",
        "    return results"
      ]
    },
    {
      "cell_type": "markdown",
      "metadata": {
        "id": "053Sj2c1NIXe"
      },
      "source": [
        "# EXEC --- Instantiate Processor and Process/Export"
      ]
    },
    {
      "cell_type": "code",
      "execution_count": 365,
      "metadata": {
        "colab": {
          "base_uri": "https://localhost:8080/"
        },
        "id": "b8LP4GtsNIXf",
        "outputId": "7ea11a18-ae65-4bad-9618-b393995cb905"
      },
      "outputs": [
        {
          "data": {
            "text/plain": [
              "'\\nprocessor_args = PROCESSOR_ARGS\\n\\nvariable_processor = VariableProcessor(\\n    df = RegressionDF,\\n    processor_args = processor_args,\\n    processor = RegressionProcessor,#ARIMAXRegressor, #\\n    evaluate = True,\\n    test_size=0.2,\\n    random_state=42,\\n)\\n\\n\\nvariable_processor.process_variables()\\nresults = variable_processor.results\\nevaluation_results = variable_processor.evaluation_results\\nevaluation_results\\n'"
            ]
          },
          "execution_count": 365,
          "metadata": {},
          "output_type": "execute_result"
        }
      ],
      "source": [
        "'''\n",
        "processor_args = PROCESSOR_ARGS\n",
        "\n",
        "variable_processor = VariableProcessor(\n",
        "    df = RegressionDF,\n",
        "    processor_args = processor_args,\n",
        "    processor = RegressionProcessor,#ARIMAXRegressor, #\n",
        "    evaluate = True,\n",
        "    test_size=0.2,\n",
        "    random_state=42,\n",
        ")\n",
        "\n",
        "\n",
        "variable_processor.process_variables()\n",
        "results = variable_processor.results\n",
        "evaluation_results = variable_processor.evaluation_results\n",
        "evaluation_results\n",
        "'''"
      ]
    },
    {
      "cell_type": "code",
      "execution_count": 367,
      "metadata": {},
      "outputs": [
        {
          "name": "stdout",
          "output_type": "stream",
          "text": [
            "                               GEE Regression Results                              \n",
            "===================================================================================\n",
            "Dep. Variable:                          IR   No. Observations:                  108\n",
            "Model:                                 GEE   No. clusters:                      108\n",
            "Method:                        Generalized   Min. cluster size:                   1\n",
            "                      Estimating Equations   Max. cluster size:                   1\n",
            "Family:                            Poisson   Mean cluster size:                 1.0\n",
            "Dependence structure:       Autoregressive   Num. iterations:                     1\n",
            "Date:                     dom, 27 abr 2025   Scale:                           1.000\n",
            "Covariance type:                    robust   Time:                         12:48:29\n",
            "=====================================================================================\n",
            "                        coef    std err          z      P>|z|      [0.025      0.975]\n",
            "-------------------------------------------------------------------------------------\n",
            "Intercept            -4.5269      0.061    -74.158      0.000      -4.647      -4.407\n",
            "periodo              -0.0116      0.002     -5.467      0.000      -0.016      -0.007\n",
            "Pandemia_Step         0.6055      0.105      5.770      0.000       0.400       0.811\n",
            "Pandemia_Trend       -0.0277      0.006     -4.504      0.000      -0.040      -0.016\n",
            "PosPandemia_Step      0.0290      0.116      0.249      0.803      -0.199       0.257\n",
            "PosPandemia_Trend     0.0094      0.003      2.950      0.003       0.003       0.016\n",
            "cos1                 -0.0010      0.022     -0.047      0.963      -0.044       0.042\n",
            "sin1                 -0.0355      0.022     -1.648      0.099      -0.078       0.007\n",
            "==============================================================================\n",
            "Skew:                          0.3232   Kurtosis:                      -0.0809\n",
            "Centered skew:                    nan   Centered kurtosis:                 nan\n",
            "==============================================================================\n",
            "                               GEE Regression Results                              \n",
            "===================================================================================\n",
            "Dep. Variable:                          IR   No. Observations:                  108\n",
            "Model:                                 GEE   No. clusters:                      108\n",
            "Method:                        Generalized   Min. cluster size:                   1\n",
            "                      Estimating Equations   Max. cluster size:                   1\n",
            "Family:                            Poisson   Mean cluster size:                 1.0\n",
            "Dependence structure:       Autoregressive   Num. iterations:                     1\n",
            "Date:                     dom, 27 abr 2025   Scale:                           1.000\n",
            "Covariance type:                    robust   Time:                         12:48:29\n",
            "=====================================================================================\n",
            "                        coef    std err          z      P>|z|      [0.025      0.975]\n",
            "-------------------------------------------------------------------------------------\n",
            "Intercept            -5.8844      0.072    -81.806      0.000      -6.025      -5.743\n",
            "periodo               0.0010      0.002      0.426      0.670      -0.004       0.006\n",
            "Pandemia_Step         0.5187      0.116      4.466      0.000       0.291       0.746\n",
            "Pandemia_Trend       -0.0264      0.007     -3.861      0.000      -0.040      -0.013\n",
            "PosPandemia_Step     -0.1535      0.119     -1.286      0.199      -0.387       0.081\n",
            "PosPandemia_Trend    -0.0032      0.003     -1.011      0.312      -0.009       0.003\n",
            "cos1                 -0.0175      0.024     -0.714      0.475      -0.065       0.030\n",
            "sin1                 -0.0534      0.019     -2.866      0.004      -0.090      -0.017\n",
            "==============================================================================\n",
            "Skew:                          0.1116   Kurtosis:                       0.8244\n",
            "Centered skew:                    nan   Centered kurtosis:                 nan\n",
            "==============================================================================\n",
            "                               GEE Regression Results                              \n",
            "===================================================================================\n",
            "Dep. Variable:                          IR   No. Observations:                  108\n",
            "Model:                                 GEE   No. clusters:                      108\n",
            "Method:                        Generalized   Min. cluster size:                   1\n",
            "                      Estimating Equations   Max. cluster size:                   1\n",
            "Family:                            Poisson   Mean cluster size:                 1.0\n",
            "Dependence structure:       Autoregressive   Num. iterations:                     1\n",
            "Date:                     dom, 27 abr 2025   Scale:                           1.000\n",
            "Covariance type:                    robust   Time:                         12:48:29\n",
            "=====================================================================================\n",
            "                        coef    std err          z      P>|z|      [0.025      0.975]\n",
            "-------------------------------------------------------------------------------------\n",
            "Intercept            -5.0297      0.051    -97.855      0.000      -5.130      -4.929\n",
            "periodo               0.0073      0.002      4.465      0.000       0.004       0.010\n",
            "Pandemia_Step         0.2506      0.147      1.707      0.088      -0.037       0.538\n",
            "Pandemia_Trend       -0.0219      0.009     -2.446      0.014      -0.039      -0.004\n",
            "PosPandemia_Step     -0.1777      0.090     -1.965      0.049      -0.355      -0.000\n",
            "PosPandemia_Trend     0.0019      0.003      0.683      0.495      -0.003       0.007\n",
            "cos1                 -0.0508      0.020     -2.501      0.012      -0.091      -0.011\n",
            "sin1                 -0.0375      0.022     -1.700      0.089      -0.081       0.006\n",
            "==============================================================================\n",
            "Skew:                          0.3363   Kurtosis:                       1.8425\n",
            "Centered skew:                    nan   Centered kurtosis:                 nan\n",
            "==============================================================================\n",
            "                               GEE Regression Results                              \n",
            "===================================================================================\n",
            "Dep. Variable:                          IR   No. Observations:                  108\n",
            "Model:                                 GEE   No. clusters:                      108\n",
            "Method:                        Generalized   Min. cluster size:                   1\n",
            "                      Estimating Equations   Max. cluster size:                   1\n",
            "Family:                            Poisson   Mean cluster size:                 1.0\n",
            "Dependence structure:       Autoregressive   Num. iterations:                     1\n",
            "Date:                     dom, 27 abr 2025   Scale:                           1.000\n",
            "Covariance type:                    robust   Time:                         12:48:29\n",
            "=====================================================================================\n",
            "                        coef    std err          z      P>|z|      [0.025      0.975]\n",
            "-------------------------------------------------------------------------------------\n",
            "Intercept            -6.4450      0.074    -86.945      0.000      -6.590      -6.300\n",
            "periodo               0.0111      0.003      4.362      0.000       0.006       0.016\n",
            "Pandemia_Step         0.6347      0.117      5.434      0.000       0.406       0.864\n",
            "Pandemia_Trend       -0.0287      0.006     -4.629      0.000      -0.041      -0.017\n",
            "PosPandemia_Step     -0.0504      0.135     -0.374      0.709      -0.315       0.214\n",
            "PosPandemia_Trend    -0.0010      0.003     -0.297      0.767      -0.008       0.006\n",
            "cos1                 -0.0298      0.023     -1.299      0.194      -0.075       0.015\n",
            "sin1                 -0.0561      0.022     -2.576      0.010      -0.099      -0.013\n",
            "==============================================================================\n",
            "Skew:                          0.0793   Kurtosis:                      -0.0150\n",
            "Centered skew:                    nan   Centered kurtosis:                 nan\n",
            "==============================================================================\n",
            "                               GEE Regression Results                              \n",
            "===================================================================================\n",
            "Dep. Variable:                          IR   No. Observations:                  108\n",
            "Model:                                 GEE   No. clusters:                      108\n",
            "Method:                        Generalized   Min. cluster size:                   1\n",
            "                      Estimating Equations   Max. cluster size:                   1\n",
            "Family:                            Poisson   Mean cluster size:                 1.0\n",
            "Dependence structure:       Autoregressive   Num. iterations:                     1\n",
            "Date:                     dom, 27 abr 2025   Scale:                           1.000\n",
            "Covariance type:                    robust   Time:                         12:48:29\n",
            "=====================================================================================\n",
            "                        coef    std err          z      P>|z|      [0.025      0.975]\n",
            "-------------------------------------------------------------------------------------\n",
            "Intercept            -4.1248      0.046    -89.877      0.000      -4.215      -4.035\n",
            "periodo               0.0019      0.002      1.244      0.213      -0.001       0.005\n",
            "Pandemia_Step         0.3104      0.105      2.944      0.003       0.104       0.517\n",
            "Pandemia_Trend       -0.0280      0.007     -4.223      0.000      -0.041      -0.015\n",
            "PosPandemia_Step     -0.3294      0.091     -3.615      0.000      -0.508      -0.151\n",
            "PosPandemia_Trend    -0.0064      0.003     -2.142      0.032      -0.012      -0.001\n",
            "cos1                 -0.0239      0.021     -1.128      0.259      -0.065       0.018\n",
            "sin1                 -0.0139      0.022     -0.623      0.533      -0.057       0.030\n",
            "==============================================================================\n",
            "Skew:                         -0.5142   Kurtosis:                       1.2302\n",
            "Centered skew:                    nan   Centered kurtosis:                 nan\n",
            "==============================================================================\n"
          ]
        }
      ],
      "source": [
        "### GEE processing\n",
        "results = process_groups_with_processor(\n",
        "    dataframe=RegressionDF,\n",
        "    group_col=GROUP_COL_NAME,\n",
        "    date_col=DATE_NAME,\n",
        "    processor_class=GEEProcessor,\n",
        "    processor_args=GEE_PROCESSOR_ARGS,\n",
        "    max_iter=100\n",
        ")\n"
      ]
    },
    {
      "cell_type": "code",
      "execution_count": null,
      "metadata": {
        "colab": {
          "base_uri": "https://localhost:8080/"
        },
        "id": "cuTQyaaA07iE",
        "outputId": "b8c0a98b-5f74-4ba5-d7d4-3aaed7436c8d"
      },
      "outputs": [
        {
          "name": "stdout",
          "output_type": "stream",
          "text": [
            "Power: 0.30\n"
          ]
        }
      ],
      "source": [
        "from statsmodels.stats.power import TTestPower\n",
        "\n",
        "# Parameters\n",
        "effect_size = 0.2  # Standardized (e.g., Cohen's d)\n",
        "alpha = 0.05        # Significance level\n",
        "nobs = 107/2          # Sample size\n",
        "\n",
        "# Calculate power\n",
        "power = TTestPower().power(effect_size, nobs, alpha)\n",
        "print(f\"Power: {power:.2f}\")  # e.g., 0.67 → 67% chance to detect the effect"
      ]
    },
    {
      "cell_type": "code",
      "execution_count": null,
      "metadata": {
        "id": "ss0tGfkkp3Xm"
      },
      "outputs": [],
      "source": [
        "def plot_residuals_vs_fitted(result, variable):\n",
        "   residuals = result.resid\n",
        "   fitted_values = result.fittedvalues\n",
        "   plt.figure(figsize=(8, 6))\n",
        "   plt.scatter(fitted_values, residuals)\n",
        "   plt.xlabel(\"Fitted Values\")\n",
        "   plt.ylabel(\"Residuals\")\n",
        "   plt.title(f\"Residuals vs. Fitted Values ({variable})\")\n",
        "   plt.axhline(y=0, color='r', linestyle='--')  # Add a horizontal line at y=0\n",
        "   plt.show()"
      ]
    },
    {
      "cell_type": "code",
      "execution_count": null,
      "metadata": {
        "colab": {
          "base_uri": "https://localhost:8080/",
          "height": 1000
        },
        "id": "uriyET4YNIXf",
        "outputId": "aacfe970-9d07-417d-ecec-d89b68b4654d"
      },
      "outputs": [
        {
          "name": "stdout",
          "output_type": "stream",
          "text": [
            "Results for sul:\n",
            "                           GLSAR Regression Results                           \n",
            "==============================================================================\n",
            "Dep. Variable:                     IR   R-squared:                       0.412\n",
            "Model:                          GLSAR   Adj. R-squared:                  0.370\n",
            "Method:                 Least Squares   F-statistic:                     13.31\n",
            "Date:                dom, 27 abr 2025   Prob (F-statistic):           5.36e-12\n",
            "Time:                        12:42:38   Log-Likelihood:                -180.64\n",
            "No. Observations:                 107   AIC:                             377.3\n",
            "Df Residuals:                      99   BIC:                             398.7\n",
            "Df Model:                           7                                         \n",
            "Covariance Type:                  HAC                                         \n",
            "=====================================================================================\n",
            "                        coef    std err          z      P>|z|      [0.025      0.975]\n",
            "-------------------------------------------------------------------------------------\n",
            "Intercept            23.7957      0.439     54.156      0.000      22.935      24.657\n",
            "periodo               0.0516      0.018      2.841      0.005       0.016       0.087\n",
            "Pandemia_Step         4.9074      1.221      4.018      0.000       2.514       7.301\n",
            "Pandemia_Trend       -0.3111      0.095     -3.278      0.001      -0.497      -0.125\n",
            "PosPandemia_Step     -2.0943      1.511     -1.386      0.166      -5.055       0.866\n",
            "PosPandemia_Trend     0.1340      0.055      2.414      0.016       0.025       0.243\n",
            "cos1                  0.0386      0.128      0.302      0.763      -0.212       0.289\n",
            "sin1                 -0.2381      0.089     -2.666      0.008      -0.413      -0.063\n",
            "==============================================================================\n",
            "Omnibus:                       46.227   Durbin-Watson:                   1.826\n",
            "Prob(Omnibus):                  0.000   Jarque-Bera (JB):              216.296\n",
            "Skew:                          -1.327   Prob(JB):                     1.08e-47\n",
            "Kurtosis:                       9.440   Cond. No.                         422.\n",
            "==============================================================================\n",
            "\n",
            "Notes:\n",
            "[1] Standard Errors are heteroscedasticity and autocorrelation robust (HAC) using 4 lags and without small sample correction\n",
            "\n",
            "\n",
            "Results for sudeste:\n",
            "                           GLSAR Regression Results                           \n",
            "==============================================================================\n",
            "Dep. Variable:                     IR   R-squared:                       0.902\n",
            "Model:                          GLSAR   Adj. R-squared:                  0.895\n",
            "Method:                 Least Squares   F-statistic:                     197.7\n",
            "Date:                dom, 27 abr 2025   Prob (F-statistic):           3.10e-55\n",
            "Time:                        12:42:38   Log-Likelihood:                -168.26\n",
            "No. Observations:                 107   AIC:                             352.5\n",
            "Df Residuals:                      99   BIC:                             373.9\n",
            "Df Model:                           7                                         \n",
            "Covariance Type:                  HAC                                         \n",
            "=====================================================================================\n",
            "                        coef    std err          z      P>|z|      [0.025      0.975]\n",
            "-------------------------------------------------------------------------------------\n",
            "Intercept             9.7358      0.477     20.412      0.000       8.801      10.671\n",
            "periodo               0.2988      0.017     17.549      0.000       0.265       0.332\n",
            "Pandemia_Step         4.3015      1.101      3.906      0.000       2.143       6.460\n",
            "Pandemia_Trend       -0.3986      0.075     -5.291      0.000      -0.546      -0.251\n",
            "PosPandemia_Step     -4.9499      1.052     -4.705      0.000      -7.012      -2.888\n",
            "PosPandemia_Trend    -0.1106      0.036     -3.042      0.002      -0.182      -0.039\n",
            "cos1                  0.0481      0.110      0.438      0.661      -0.167       0.264\n",
            "sin1                 -0.1571      0.092     -1.701      0.089      -0.338       0.024\n",
            "==============================================================================\n",
            "Omnibus:                       53.628   Durbin-Watson:                   1.664\n",
            "Prob(Omnibus):                  0.000   Jarque-Bera (JB):              318.305\n",
            "Skew:                          -1.491   Prob(JB):                     7.60e-70\n",
            "Kurtosis:                      10.906   Cond. No.                         432.\n",
            "==============================================================================\n",
            "\n",
            "Notes:\n",
            "[1] Standard Errors are heteroscedasticity and autocorrelation robust (HAC) using 4 lags and without small sample correction\n",
            "\n",
            "\n",
            "Results for norte:\n",
            "                           GLSAR Regression Results                           \n",
            "==============================================================================\n",
            "Dep. Variable:                     IR   R-squared:                       0.852\n",
            "Model:                          GLSAR   Adj. R-squared:                  0.842\n",
            "Method:                 Least Squares   F-statistic:                     190.4\n",
            "Date:                dom, 27 abr 2025   Prob (F-statistic):           1.77e-54\n",
            "Time:                        12:42:38   Log-Likelihood:                -128.71\n",
            "No. Observations:                 107   AIC:                             273.4\n",
            "Df Residuals:                      99   BIC:                             294.8\n",
            "Df Model:                           7                                         \n",
            "Covariance Type:                  HAC                                         \n",
            "=====================================================================================\n",
            "                        coef    std err          z      P>|z|      [0.025      0.975]\n",
            "-------------------------------------------------------------------------------------\n",
            "Intercept             5.0415      0.431     11.689      0.000       4.196       5.887\n",
            "periodo               0.1304      0.015      8.715      0.000       0.101       0.160\n",
            "Pandemia_Step         2.0646      1.278      1.615      0.106      -0.441       4.570\n",
            "Pandemia_Trend       -0.1070      0.080     -1.344      0.179      -0.263       0.049\n",
            "PosPandemia_Step     -0.4173      0.931     -0.448      0.654      -2.241       1.407\n",
            "PosPandemia_Trend     0.1999      0.031      6.377      0.000       0.138       0.261\n",
            "cos1                 -0.1526      0.075     -2.030      0.042      -0.300      -0.005\n",
            "sin1                 -0.0719      0.067     -1.077      0.281      -0.203       0.059\n",
            "==============================================================================\n",
            "Omnibus:                        9.506   Durbin-Watson:                   1.623\n",
            "Prob(Omnibus):                  0.009   Jarque-Bera (JB):               16.493\n",
            "Skew:                           0.317   Prob(JB):                     0.000262\n",
            "Kurtosis:                       4.816   Cond. No.                         409.\n",
            "==============================================================================\n",
            "\n",
            "Notes:\n",
            "[1] Standard Errors are heteroscedasticity and autocorrelation robust (HAC) using 4 lags and without small sample correction\n",
            "\n",
            "\n",
            "Results for nordeste:\n",
            "                           GLSAR Regression Results                           \n",
            "==============================================================================\n",
            "Dep. Variable:                     IR   R-squared:                       0.955\n",
            "Model:                          GLSAR   Adj. R-squared:                  0.951\n",
            "Method:                 Least Squares   F-statistic:                     572.7\n",
            "Date:                dom, 27 abr 2025   Prob (F-statistic):           4.34e-77\n",
            "Time:                        12:42:38   Log-Likelihood:                -159.85\n",
            "No. Observations:                 107   AIC:                             335.7\n",
            "Df Residuals:                      99   BIC:                             357.1\n",
            "Df Model:                           7                                         \n",
            "Covariance Type:                  HAC                                         \n",
            "=====================================================================================\n",
            "                        coef    std err          z      P>|z|      [0.025      0.975]\n",
            "-------------------------------------------------------------------------------------\n",
            "Intercept             4.7144      0.353     13.345      0.000       4.022       5.407\n",
            "periodo               0.1880      0.017     11.079      0.000       0.155       0.221\n",
            "Pandemia_Step         5.1824      0.777      6.668      0.000       3.659       6.706\n",
            "Pandemia_Trend       -0.1101      0.062     -1.785      0.074      -0.231       0.011\n",
            "PosPandemia_Step      2.9878      1.208      2.474      0.013       0.621       5.354\n",
            "PosPandemia_Trend     0.2096      0.041      5.171      0.000       0.130       0.289\n",
            "cos1                 -0.1547      0.105     -1.473      0.141      -0.361       0.051\n",
            "sin1                 -0.1412      0.084     -1.689      0.091      -0.305       0.023\n",
            "==============================================================================\n",
            "Omnibus:                       10.110   Durbin-Watson:                   1.738\n",
            "Prob(Omnibus):                  0.006   Jarque-Bera (JB):               15.657\n",
            "Skew:                           0.408   Prob(JB):                     0.000398\n",
            "Kurtosis:                       4.687   Cond. No.                         438.\n",
            "==============================================================================\n",
            "\n",
            "Notes:\n",
            "[1] Standard Errors are heteroscedasticity and autocorrelation robust (HAC) using 4 lags and without small sample correction\n",
            "\n",
            "\n",
            "Results for centro_oeste:\n",
            "                           GLSAR Regression Results                           \n",
            "==============================================================================\n",
            "Dep. Variable:                     IR   R-squared:                       0.658\n",
            "Model:                          GLSAR   Adj. R-squared:                  0.634\n",
            "Method:                 Least Squares   F-statistic:                     48.38\n",
            "Date:                dom, 27 abr 2025   Prob (F-statistic):           3.37e-29\n",
            "Time:                        12:42:38   Log-Likelihood:                -199.67\n",
            "No. Observations:                 107   AIC:                             415.3\n",
            "Df Residuals:                      99   BIC:                             436.7\n",
            "Df Model:                           7                                         \n",
            "Covariance Type:                  HAC                                         \n",
            "=====================================================================================\n",
            "                        coef    std err          z      P>|z|      [0.025      0.975]\n",
            "-------------------------------------------------------------------------------------\n",
            "Intercept            10.0491      0.891     11.283      0.000       8.304      11.795\n",
            "periodo               0.2977      0.029     10.437      0.000       0.242       0.354\n",
            "Pandemia_Step         3.0595      1.834      1.668      0.095      -0.535       6.654\n",
            "Pandemia_Trend       -0.4423      0.112     -3.962      0.000      -0.661      -0.224\n",
            "PosPandemia_Step     -6.2654      1.637     -3.828      0.000      -9.473      -3.058\n",
            "PosPandemia_Trend    -0.1665      0.057     -2.914      0.004      -0.278      -0.054\n",
            "cos1                  0.0775      0.143      0.541      0.589      -0.204       0.359\n",
            "sin1                 -0.0038      0.120     -0.031      0.975      -0.239       0.231\n",
            "==============================================================================\n",
            "Omnibus:                       32.716   Durbin-Watson:                   1.679\n",
            "Prob(Omnibus):                  0.000   Jarque-Bera (JB):              110.204\n",
            "Skew:                          -0.983   Prob(JB):                     1.17e-24\n",
            "Kurtosis:                       7.567   Cond. No.                         413.\n",
            "==============================================================================\n",
            "\n",
            "Notes:\n",
            "[1] Standard Errors are heteroscedasticity and autocorrelation robust (HAC) using 4 lags and without small sample correction\n",
            "\n",
            "\n"
          ]
        }
      ],
      "source": [
        "\n",
        "results = variable_processor.results\n",
        "for variable in results:\n",
        "\n",
        "    print(f\"Results for {variable}:\")\n",
        "    result = results[variable]\n",
        "    print(result.summary())\n",
        "    #print(result.summary2())\n",
        "\n",
        "    nob = 107 #### TODO: change to get dinamically\n",
        "    lags = min(20, np.round(nob/4))\n",
        "    residuals = result.resid\n",
        "    #plot_acf(residuals, lags=lags, alpha=0.05)\n",
        "    #plot_pacf(residuals, lags=lags, alpha=0.05, method=\"ols\")  # OLS-based PACF\n",
        "\n",
        "    #plot_residuals_vs_fitted(result, variable)\n",
        "\n",
        "\n",
        "\n",
        "    #print(\"AIC\", result.aic,)  # Akaike Information Criterion\n",
        "    #print(\"BIC\", result.bic,)  # Bayesian Information Criterion\n",
        "\n",
        "    print(\"\\n\")"
      ]
    },
    {
      "cell_type": "markdown",
      "metadata": {
        "id": "AKBeUI39NIXf"
      },
      "source": [
        "# Export Results"
      ]
    },
    {
      "cell_type": "code",
      "execution_count": null,
      "metadata": {
        "id": "IbPhBA4YNIXg"
      },
      "outputs": [],
      "source": [
        "export_results(results,\n",
        "    output_path = LOCAL_OUTPUT_PATH,\n",
        "    processor_args = PROCESSOR_ARGS,\n",
        "    preprocessor_args=PREPROCESSOR_ARGS,\n",
        "    output_gsheet=output_wksheet,\n",
        ")"
      ]
    },
    {
      "cell_type": "markdown",
      "metadata": {
        "id": "WcYnNsL4NIXl"
      },
      "source": [
        "# Evaluation"
      ]
    },
    {
      "cell_type": "code",
      "execution_count": null,
      "metadata": {
        "colab": {
          "base_uri": "https://localhost:8080/"
        },
        "id": "n8c7btmVNIXl",
        "outputId": "9d7604b1-208f-4ce6-eb7c-98c13fbdc78a"
      },
      "outputs": [
        {
          "data": {
            "text/plain": [
              "'\\nbaseline_df = RegressionDF[\\n    (RegressionDF[\\'PosPandemia_Step\\'] == 0)\\n    & (RegressionDF[\\'Pandemia_Step\\'] == 0)\\n    #& ~(RegressionDF[\\'Choque_Inicial\\'] == 1)\\n    #&~(RegressionDF[\\'Lockdown_2021\\'] == 1)\\n]\\n\\nbase_line_args = PROCESSOR_ARGS\\nbase_line_args[\\'formula\\'] = BASE_MODEL_FORMULA\\n\\n\\nfrom statsmodels.stats.power import TTestPower\\n\\nif False:\\n    for variable in baseline_df[GROUP_COL_NAME].unique():\\n        variable_data = baseline_df[baseline_df[GROUP_COL_NAME] == variable].sort_values(by=DATE_NAME)\\n        variable_data = variable_data.reset_index(drop=True)\\n        X = variable_data[INDEPENDENT_VAR]\\n        y = variable_data[DEPENDENT_VAR]\\n\\n        X_std = (X - X.mean()) / X.std()\\n        Y_std = (y - y.mean()) / y.std()\\n\\n        power_test_processor = VariableProcessor(\\n        df=variable_data,\\n        processor_args=base_line_args,\\n        processor=RegressionProcessor,\\n        test_size=0.25,\\n        random_state=42,\\n        evaluate = False,\\n    )\\n        model, _ = power_test_processor.process_variables()\\n\\n        effect_size = model[variable].params[1]  # Coeficiente de X_std\\n        print(f\"{variable}_Effect Size (Cohen\\'s d): {effect_size:.2f}\")\\n\\n\\n        # Parameters\\n        #effect_size = 0.2  # Standardized (e.g., Cohen\\'s d)\\n        alpha = 0.05        # Significance level\\n        nobs = variable_data.shape[0]         # Sample size\\n\\n        # Calculate power\\n        power = TTestPower().power(effect_size, nobs, alpha)\\n        print(f\"Power: {power:.2f}\")  # e.g., 0.67 → 67% chance to detect the effect\\n\\n# Processar baseline\\n\\nbaseline_processor = VariableProcessor(\\n    df=baseline_df,\\n    processor_args=base_line_args,\\n    processor=RegressionProcessor,\\n    test_size=0.25,\\n    random_state=42,\\n    evaluate = True\\n)\\n_, base_line_evaluation = baseline_processor.process_variables()\\nbase_line_evaluation\\n'"
            ]
          },
          "execution_count": 331,
          "metadata": {},
          "output_type": "execute_result"
        }
      ],
      "source": [
        "'''\n",
        "baseline_df = RegressionDF[\n",
        "    (RegressionDF['PosPandemia_Step'] == 0)\n",
        "    & (RegressionDF['Pandemia_Step'] == 0)\n",
        "    #& ~(RegressionDF['Choque_Inicial'] == 1)\n",
        "    #&~(RegressionDF['Lockdown_2021'] == 1)\n",
        "]\n",
        "\n",
        "base_line_args = PROCESSOR_ARGS\n",
        "base_line_args['formula'] = BASE_MODEL_FORMULA\n",
        "\n",
        "\n",
        "from statsmodels.stats.power import TTestPower\n",
        "\n",
        "if False:\n",
        "    for variable in baseline_df[GROUP_COL_NAME].unique():\n",
        "        variable_data = baseline_df[baseline_df[GROUP_COL_NAME] == variable].sort_values(by=DATE_NAME)\n",
        "        variable_data = variable_data.reset_index(drop=True)\n",
        "        X = variable_data[INDEPENDENT_VAR]\n",
        "        y = variable_data[DEPENDENT_VAR]\n",
        "\n",
        "        X_std = (X - X.mean()) / X.std()\n",
        "        Y_std = (y - y.mean()) / y.std()\n",
        "\n",
        "        power_test_processor = VariableProcessor(\n",
        "        df=variable_data,\n",
        "        processor_args=base_line_args,\n",
        "        processor=RegressionProcessor,\n",
        "        test_size=0.25,\n",
        "        random_state=42,\n",
        "        evaluate = False,\n",
        "    )\n",
        "        model, _ = power_test_processor.process_variables()\n",
        "\n",
        "        effect_size = model[variable].params[1]  # Coeficiente de X_std\n",
        "        print(f\"{variable}_Effect Size (Cohen's d): {effect_size:.2f}\")\n",
        "\n",
        "\n",
        "        # Parameters\n",
        "        #effect_size = 0.2  # Standardized (e.g., Cohen's d)\n",
        "        alpha = 0.05        # Significance level\n",
        "        nobs = variable_data.shape[0]         # Sample size\n",
        "\n",
        "        # Calculate power\n",
        "        power = TTestPower().power(effect_size, nobs, alpha)\n",
        "        print(f\"Power: {power:.2f}\")  # e.g., 0.67 → 67% chance to detect the effect\n",
        "\n",
        "# Processar baseline\n",
        "\n",
        "baseline_processor = VariableProcessor(\n",
        "    df=baseline_df,\n",
        "    processor_args=base_line_args,\n",
        "    processor=RegressionProcessor,\n",
        "    test_size=0.25,\n",
        "    random_state=42,\n",
        "    evaluate = True\n",
        ")\n",
        "_, base_line_evaluation = baseline_processor.process_variables()\n",
        "base_line_evaluation\n",
        "'''\n"
      ]
    },
    {
      "cell_type": "code",
      "execution_count": null,
      "metadata": {
        "colab": {
          "base_uri": "https://localhost:8080/"
        },
        "id": "1ghKgnALNIXl",
        "outputId": "61e40470-407e-4a38-e96f-a08d00734b5f"
      },
      "outputs": [
        {
          "data": {
            "text/plain": [
              "'\\npos_intervention_df = RegressionDF[RegressionDF[\\'Step_PosPandemia\\'] == 1]\\n# Processar pós-intervenção\\npos_intervention_processor = VariableProcessor(\\n    df=pos_intervention_df,\\n    processor_args=PROCESSOR_ARGS,\\n    processor=RegressionProcessor,\\n    test_size=0.2,\\n    random_state=42,\\n    evaluate = True\\n)\\n_, pos_intervention_evaluation = pos_intervention_processor.process_variables()\\n\\npos_intervention_evaluation\\n\\n\\nfor variable, row in pos_intervention_evaluation.iterrows():\\n    print(f\"Results for {variable}:\")\\n    splitted_data = row[\\'splitted_data\\']  # Access the \\'splitted_data\\' column\\n    train_data = splitted_data[\\'train_data\\'].sort_values(by=DATE_NAME)\\n    test_data = splitted_data[\\'test_data\\'].sort_values(by=DATE_NAME)\\n\\n    print(\"Train Data:\")\\n    print(train_data)\\n\\n    print(\"Test Data:\")\\n    print(test_data)\\n\\npos_intervention_evaluation\\n'"
            ]
          },
          "execution_count": 332,
          "metadata": {},
          "output_type": "execute_result"
        }
      ],
      "source": [
        "'''\n",
        "pos_intervention_df = RegressionDF[RegressionDF['Step_PosPandemia'] == 1]\n",
        "# Processar pós-intervenção\n",
        "pos_intervention_processor = VariableProcessor(\n",
        "    df=pos_intervention_df,\n",
        "    processor_args=PROCESSOR_ARGS,\n",
        "    processor=RegressionProcessor,\n",
        "    test_size=0.2,\n",
        "    random_state=42,\n",
        "    evaluate = True\n",
        ")\n",
        "_, pos_intervention_evaluation = pos_intervention_processor.process_variables()\n",
        "\n",
        "pos_intervention_evaluation\n",
        "\n",
        "\n",
        "for variable, row in pos_intervention_evaluation.iterrows():\n",
        "    print(f\"Results for {variable}:\")\n",
        "    splitted_data = row['splitted_data']  # Access the 'splitted_data' column\n",
        "    train_data = splitted_data['train_data'].sort_values(by=DATE_NAME)\n",
        "    test_data = splitted_data['test_data'].sort_values(by=DATE_NAME)\n",
        "\n",
        "    print(\"Train Data:\")\n",
        "    print(train_data)\n",
        "\n",
        "    print(\"Test Data:\")\n",
        "    print(test_data)\n",
        "\n",
        "pos_intervention_evaluation\n",
        "'''"
      ]
    },
    {
      "cell_type": "markdown",
      "metadata": {
        "id": "2IiKsqpaNIXu"
      },
      "source": [
        "# Teste Lags"
      ]
    },
    {
      "cell_type": "code",
      "execution_count": null,
      "metadata": {
        "id": "Av9jOMvjNIXu"
      },
      "outputs": [],
      "source": [
        "#teste_lag\n",
        "from collections import defaultdict\n",
        "import statsmodels.api as sm\n",
        "import statsmodels.formula.api as smf\n",
        "import pandas as pd\n",
        "import statsmodels.stats.api as sms\n",
        "\n",
        "\n",
        "DO_LAG_TEST = False\n",
        "if DO_LAG_TEST:\n",
        "    lags_to_test = [1, 2, 3, 4, 5, 6, 8, 10]\n",
        "    estatisticas_por_lag = defaultdict(dict)\n",
        "\n",
        "    # Adicionar uma variável para armazenar a informação de ACF\n",
        "    acf_values = defaultdict(dict)\n",
        "\n",
        "    for lag in lags_to_test:\n",
        "\n",
        "\n",
        "\n",
        "        processor_args[\"cov_kwargs\"] = {\"maxlags\": lag}\n",
        "\n",
        "        variable_processor = VariableProcessor(\n",
        "            df=RegressionDF,\n",
        "            processor_args=processor_args,\n",
        "            processor=RegressionProcessor\n",
        "        )\n",
        "\n",
        "        variable_processor.process_variables()\n",
        "        results = variable_processor.results\n",
        "\n",
        "        for var, result in results.items():\n",
        "            # extrair estatísticas desejadas\n",
        "            summary_frame = result.summary2().tables[1]  # tabelinha de coeficientes\n",
        "            if \"Trend_PosPandemia\" in summary_frame.index:\n",
        "                trend_stats = summary_frame.loc[\"Trend_PosPandemia\"]\n",
        "                estatisticas_por_lag[lag][var] = {\n",
        "                    \"coef\": trend_stats[\"Coef.\"],\n",
        "                    \"std_err\": trend_stats[\"Std.Err.\"],\n",
        "                    \"p_value\": trend_stats[\"P>|z|\"] if \"P>|z|\" in trend_stats else trend_stats[\"P>|t|\"],\n",
        "                }\n",
        "            else:\n",
        "                estatisticas_por_lag[lag][var] = {\"coef\": None, \"std_err\": None, \"p_value\": None}\n",
        "\n",
        "            # Outras estatísticas: Durbin-Watson, AIC, BIC, R², F-Estatístico, p-valor do modelo\n",
        "            estatisticas_por_lag[lag][var][\"durbin_watson\"] = sm.stats.stattools.durbin_watson(result.resid)\n",
        "            estatisticas_por_lag[lag][var][\"aic\"] = result.aic\n",
        "            estatisticas_por_lag[lag][var][\"bic\"] = result.bic\n",
        "            estatisticas_por_lag[lag][var][\"r_squared\"] = result.rsquared\n",
        "            estatisticas_por_lag[lag][var][\"f_statistic\"] = result.fvalue\n",
        "            estatisticas_por_lag[lag][var][\"p_value_model\"] = result.f_pvalue\n",
        "\n",
        "            # ACF (Autocorrelation Function) dos resíduos\n",
        "            acf_result = sm.tsa.acf(result.resid, nlags=lag, fft=True)\n",
        "            acf_values[lag][var] = acf_result\n",
        "\n",
        "            # Exibir os valores de ACF para verificação\n",
        "            print(f\"Valores da ACF para {var} no lag {lag}: {acf_result}\")\n",
        "\n",
        "            # Ajuste: Registra os lags com autocorrelação positiva maior que 0.1 ou qualquer critério ajustado\n",
        "            acf_significant_lags = [i for i, acf_val in enumerate(acf_result) if abs(acf_val) > 0.1]  # Limite mais relaxado\n",
        "            estatisticas_por_lag[lag][var][\"acf_significant_lags\"] = acf_significant_lags\n",
        "\n",
        "    # Converte o dicionário em uma lista de registros\n",
        "    registros = []\n",
        "    for lag, variaveis in estatisticas_por_lag.items():\n",
        "        for var, stats in variaveis.items():\n",
        "            linha = {\"lag\": lag, \"variavel\": var}\n",
        "            linha.update(stats)\n",
        "            registros.append(linha)\n",
        "\n",
        "    # Cria o DataFrame\n",
        "    df_resultados_lags = pd.DataFrame(registros)\n",
        "\n",
        "    # Ordena para facilitar a visualização\n",
        "    df_resultados_lags.sort_values(by=[\"variavel\", \"lag\"], inplace=True)\n",
        "    #df_resultados_lags.to_csv(\"df_resultados_lags.csv\", sep=';', decimal=',', index=False, encoding='utf-8-sig')\n",
        "    # Exibe os resultados\n",
        "\n"
      ]
    },
    {
      "cell_type": "markdown",
      "metadata": {
        "id": "zH9i6dotzLe5"
      },
      "source": [
        "# Define Hover Graph Func\n"
      ]
    },
    {
      "cell_type": "code",
      "execution_count": null,
      "metadata": {},
      "outputs": [],
      "source": [
        "def plot_with_all_dummies(\n",
        "    variable: str,\n",
        "    variable_df,\n",
        "    results_obj,\n",
        "    exclude_coeffs_by_prefix=None,\n",
        "    plot_individual_effects=False,\n",
        "    line_events=None, # Dict[str, Tuple[start, end, color, show_line]]\n",
        "    slope_coef_str=None,\n",
        "    real_serie_key=DEPENDENT_VAR,\n",
        "):\n",
        "\n",
        "    regression_stats = results_obj.params\n",
        "    variable_df = variable_df.sort_values(by=DATE_NAME).reset_index(drop=True)\n",
        "    dates = variable_df[DATE_NAME].values\n",
        "    real_series = variable_df[real_serie_key].values\n",
        "\n",
        "    slope_name = slope_coef_str if slope_coef_str else INDEPENDENT_VAR\n",
        "    intercept = regression_stats.get(\"Intercept\", 0)\n",
        "    slope = regression_stats.get(slope_name, 0)\n",
        "    t = np.arange(len(dates)) + 1\n",
        "    baseline = (intercept + slope * t).astype(float)\n",
        "    full_pred = baseline.copy()\n",
        "\n",
        "    fig = go.Figure()\n",
        "\n",
        "    fig.add_trace(go.Scatter(\n",
        "        x=dates,\n",
        "        y=real_series,\n",
        "        mode='markers',\n",
        "        name='Real',\n",
        "        marker=dict(color='black')\n",
        "    ))\n",
        "\n",
        "    fig.add_trace(go.Scatter(\n",
        "        x=dates,\n",
        "        y=baseline,\n",
        "        mode='lines',\n",
        "        name='Baseline',\n",
        "        line=dict(dash='dot', color='black')\n",
        "    ))\n",
        "\n",
        "    for dummy_name, coef in regression_stats.items():\n",
        "        if dummy_name in {\"Intercept\", INDEPENDENT_VAR}:\n",
        "            continue\n",
        "        if slope_coef_str and dummy_name == slope_coef_str:\n",
        "            continue\n",
        "\n",
        "        if exclude_coeffs_by_prefix and any(dummy_name.startswith(prefix) for prefix in exclude_coeffs_by_prefix):\n",
        "            continue\n",
        "\n",
        "        if dummy_name in variable_df.columns:\n",
        "            dummy_ts = variable_df[dummy_name].values\n",
        "            dummy_effect = coef * dummy_ts\n",
        "            full_pred += dummy_effect\n",
        "\n",
        "            if plot_individual_effects:\n",
        "                fig.add_trace(go.Scatter(\n",
        "                    x=dates,\n",
        "                    y=dummy_effect,\n",
        "                    mode='lines',\n",
        "                    name=f'Effect: {dummy_name}',\n",
        "                    line=dict(dash='dash')\n",
        "                ))\n",
        "\n",
        "    if line_events:\n",
        "        for line_dummy_name, (event_start_date, event_end_date, fillcolor, show_line) in line_events.items():\n",
        "            if fillcolor:\n",
        "                # Sombra para eventos tipo \"pulse\"\n",
        "                fig.add_shape(\n",
        "                    type=\"rect\",\n",
        "                    x0=event_start_date,\n",
        "                    x1=event_end_date,\n",
        "                    y0=0,\n",
        "                    y1=1,\n",
        "                    xref=\"x\",\n",
        "                    yref=\"paper\",\n",
        "                    fillcolor=fillcolor,\n",
        "                    opacity=0.3,\n",
        "                    layer=\"below\",\n",
        "                    line_width=0,\n",
        "                )\n",
        "        \n",
        "            if show_line:\n",
        "                # Linha e anotação para eventos como Pandemia e Pós-Pandemia\n",
        "                fig.add_shape(\n",
        "                    type=\"line\",\n",
        "                    x0=event_start_date,\n",
        "                    x1=event_start_date,\n",
        "                    y0=min(real_series),\n",
        "                    y1=max(real_series),\n",
        "                    line=dict(color=\"black\", dash=\"dash\")\n",
        "                )\n",
        "        \n",
        "                # Anotação deslocada no eixo x\n",
        "                fig.add_annotation(\n",
        "                    x=event_start_date,\n",
        "                    y=max(real_series),\n",
        "                    text=f\"{line_dummy_name}\",\n",
        "                    showarrow=True,\n",
        "                    arrowhead=2,\n",
        "                    ax=30,  # deslocamento lateral\n",
        "                    ay=-40\n",
        "                )\n",
        "\n",
        "    fig.add_trace(go.Scatter(\n",
        "        x=dates,\n",
        "        y=full_pred,\n",
        "        mode='lines',\n",
        "        name='Full model',\n",
        "        line=dict(color='purple')\n",
        "    ))\n",
        "\n",
        "    fig.update_layout(\n",
        "        title=variable,\n",
        "        xaxis_title=\"Time\",\n",
        "        yaxis_title=\"Value\",\n",
        "        legend_title=\"Legend\"\n",
        "    )\n",
        "\n",
        "    fig.show()\n"
      ]
    },
    {
      "cell_type": "markdown",
      "metadata": {
        "id": "deLbYC8XNIX5"
      },
      "source": [
        "# EXEC --- Plot Graph"
      ]
    },
    {
      "cell_type": "code",
      "execution_count": null,
      "metadata": {
        "colab": {
          "base_uri": "https://localhost:8080/",
          "height": 1000
        },
        "id": "5rCs4_ohNIX6",
        "outputId": "73d22374-2176-4616-a44b-3072f8ea7e90"
      },
      "outputs": [
        {
          "data": {
            "application/vnd.plotly.v1+json": {
              "config": {
                "plotlyServerURL": "https://plot.ly"
              },
              "data": [
                {
                  "marker": {
                    "color": "black"
                  },
                  "mode": "markers",
                  "name": "Real",
                  "type": "scatter",
                  "x": [
                    "2016-01-01T00:00:00.000000000",
                    "2016-02-01T00:00:00.000000000",
                    "2016-03-01T00:00:00.000000000",
                    "2016-04-01T00:00:00.000000000",
                    "2016-05-01T00:00:00.000000000",
                    "2016-06-01T00:00:00.000000000",
                    "2016-07-01T00:00:00.000000000",
                    "2016-08-01T00:00:00.000000000",
                    "2016-09-01T00:00:00.000000000",
                    "2016-10-01T00:00:00.000000000",
                    "2016-11-01T00:00:00.000000000",
                    "2016-12-01T00:00:00.000000000",
                    "2017-01-01T00:00:00.000000000",
                    "2017-02-01T00:00:00.000000000",
                    "2017-03-01T00:00:00.000000000",
                    "2017-04-01T00:00:00.000000000",
                    "2017-05-01T00:00:00.000000000",
                    "2017-06-01T00:00:00.000000000",
                    "2017-07-01T00:00:00.000000000",
                    "2017-08-01T00:00:00.000000000",
                    "2017-09-01T00:00:00.000000000",
                    "2017-10-01T00:00:00.000000000",
                    "2017-11-01T00:00:00.000000000",
                    "2017-12-01T00:00:00.000000000",
                    "2018-01-01T00:00:00.000000000",
                    "2018-02-01T00:00:00.000000000",
                    "2018-03-01T00:00:00.000000000",
                    "2018-04-01T00:00:00.000000000",
                    "2018-05-01T00:00:00.000000000",
                    "2018-06-01T00:00:00.000000000",
                    "2018-07-01T00:00:00.000000000",
                    "2018-08-01T00:00:00.000000000",
                    "2018-09-01T00:00:00.000000000",
                    "2018-10-01T00:00:00.000000000",
                    "2018-11-01T00:00:00.000000000",
                    "2018-12-01T00:00:00.000000000",
                    "2019-01-01T00:00:00.000000000",
                    "2019-02-01T00:00:00.000000000",
                    "2019-03-01T00:00:00.000000000",
                    "2019-04-01T00:00:00.000000000",
                    "2019-05-01T00:00:00.000000000",
                    "2019-06-01T00:00:00.000000000",
                    "2019-07-01T00:00:00.000000000",
                    "2019-08-01T00:00:00.000000000",
                    "2019-09-01T00:00:00.000000000",
                    "2019-10-01T00:00:00.000000000",
                    "2019-11-01T00:00:00.000000000",
                    "2019-12-01T00:00:00.000000000",
                    "2020-01-01T00:00:00.000000000",
                    "2020-02-01T00:00:00.000000000",
                    "2020-03-01T00:00:00.000000000",
                    "2020-04-01T00:00:00.000000000",
                    "2020-05-01T00:00:00.000000000",
                    "2020-06-01T00:00:00.000000000",
                    "2020-07-01T00:00:00.000000000",
                    "2020-08-01T00:00:00.000000000",
                    "2020-09-01T00:00:00.000000000",
                    "2020-10-01T00:00:00.000000000",
                    "2020-11-01T00:00:00.000000000",
                    "2020-12-01T00:00:00.000000000",
                    "2021-01-01T00:00:00.000000000",
                    "2021-02-01T00:00:00.000000000",
                    "2021-03-01T00:00:00.000000000",
                    "2021-04-01T00:00:00.000000000",
                    "2021-05-01T00:00:00.000000000",
                    "2021-06-01T00:00:00.000000000",
                    "2021-07-01T00:00:00.000000000",
                    "2021-08-01T00:00:00.000000000",
                    "2021-09-01T00:00:00.000000000",
                    "2021-10-01T00:00:00.000000000",
                    "2021-11-01T00:00:00.000000000",
                    "2021-12-01T00:00:00.000000000",
                    "2022-01-01T00:00:00.000000000",
                    "2022-02-01T00:00:00.000000000",
                    "2022-03-01T00:00:00.000000000",
                    "2022-04-01T00:00:00.000000000",
                    "2022-05-01T00:00:00.000000000",
                    "2022-06-01T00:00:00.000000000",
                    "2022-07-01T00:00:00.000000000",
                    "2022-08-01T00:00:00.000000000",
                    "2022-09-01T00:00:00.000000000",
                    "2022-10-01T00:00:00.000000000",
                    "2022-11-01T00:00:00.000000000",
                    "2022-12-01T00:00:00.000000000",
                    "2023-01-01T00:00:00.000000000",
                    "2023-02-01T00:00:00.000000000",
                    "2023-03-01T00:00:00.000000000",
                    "2023-04-01T00:00:00.000000000",
                    "2023-05-01T00:00:00.000000000",
                    "2023-06-01T00:00:00.000000000",
                    "2023-07-01T00:00:00.000000000",
                    "2023-08-01T00:00:00.000000000",
                    "2023-09-01T00:00:00.000000000",
                    "2023-10-01T00:00:00.000000000",
                    "2023-11-01T00:00:00.000000000",
                    "2023-12-01T00:00:00.000000000",
                    "2024-01-01T00:00:00.000000000",
                    "2024-02-01T00:00:00.000000000",
                    "2024-03-01T00:00:00.000000000",
                    "2024-04-01T00:00:00.000000000",
                    "2024-05-01T00:00:00.000000000",
                    "2024-06-01T00:00:00.000000000",
                    "2024-07-01T00:00:00.000000000",
                    "2024-08-01T00:00:00.000000000",
                    "2024-09-01T00:00:00.000000000",
                    "2024-10-01T00:00:00.000000000",
                    "2024-11-01T00:00:00.000000000",
                    "2024-12-01T00:00:00.000000000"
                  ],
                  "y": [
                    25.574799518159836,
                    25.69775483763651,
                    23.40469896313021,
                    24.766065361124184,
                    23.140922472600913,
                    23.79706439962597,
                    24.807620962433727,
                    24.202635735356793,
                    23.995077628295622,
                    24.23427302296435,
                    25.53078861346945,
                    26.27798300821268,
                    25.394424656664377,
                    25.154623530565278,
                    24.385899643914442,
                    24.74215726344188,
                    24.07882258503543,
                    24.512386470565538,
                    24.04932530415184,
                    25.02007444633176,
                    24.450726025608162,
                    25.641849452578242,
                    25.192402482017496,
                    26.243688469405487,
                    25.500700295914513,
                    26.303800066565188,
                    24.49283490555982,
                    24.70962536571009,
                    23.91222969468854,
                    24.447858921662544,
                    24.14837920727932,
                    24.200965820633716,
                    25.08746842356138,
                    24.41709339531521,
                    24.751984806174825,
                    24.26591002237523,
                    23.663183861641162,
                    24.293811066659075,
                    25.450773392459165,
                    26.509416303021112,
                    26.08760234612531,
                    25.873317440786643,
                    26.08847157317199,
                    27.24377924276961,
                    26.92697257692269,
                    25.994792630222836,
                    27.146403113346413,
                    27.74721384712872,
                    28.669496603607524,
                    28.37102479792678,
                    27.315810570650537,
                    33.41441237693909,
                    32.904557995993905,
                    32.14069032006051,
                    29.396251232958356,
                    28.941491431186403,
                    31.061455172462672,
                    28.712628179827252,
                    26.310218597743674,
                    26.685170031961547,
                    26.746751502937457,
                    26.768024443475376,
                    25.934482323188032,
                    28.16755479169375,
                    24.88650030399723,
                    25.480626260360797,
                    27.349811742047923,
                    28.522068730148494,
                    29.00829210138901,
                    26.991522881085174,
                    27.174181853935092,
                    27.21122738302884,
                    19.244626373065557,
                    23.801229962442445,
                    27.028959145189706,
                    25.39559254608429,
                    23.336661488476857,
                    23.839552317428858,
                    25.953208424585807,
                    27.587652285903857,
                    29.243592853016516,
                    27.851370451431137,
                    26.55771481964728,
                    25.98165711997674,
                    29.63927937024431,
                    30.753632918464575,
                    29.578097688070972,
                    27.49301245181331,
                    27.334337482100807,
                    28.89362101782022,
                    30.439762424480776,
                    31.247230998000678,
                    32.381515167254165,
                    31.239689757211476,
                    31.030325495584474,
                    31.03455801276937,
                    31.552900148725577,
                    30.868592582232207,
                    28.133691221476457,
                    27.66132592526588,
                    28.338501405268868,
                    30.395499026939138,
                    30.23744178977174,
                    30.608119270149704,
                    30.24891983788465,
                    29.804641926398713,
                    30.33010893862979,
                    30.584807878560117
                  ]
                },
                {
                  "line": {
                    "color": "black",
                    "dash": "dot"
                  },
                  "mode": "lines",
                  "name": "Baseline",
                  "type": "scatter",
                  "x": [
                    "2016-01-01T00:00:00.000000000",
                    "2016-02-01T00:00:00.000000000",
                    "2016-03-01T00:00:00.000000000",
                    "2016-04-01T00:00:00.000000000",
                    "2016-05-01T00:00:00.000000000",
                    "2016-06-01T00:00:00.000000000",
                    "2016-07-01T00:00:00.000000000",
                    "2016-08-01T00:00:00.000000000",
                    "2016-09-01T00:00:00.000000000",
                    "2016-10-01T00:00:00.000000000",
                    "2016-11-01T00:00:00.000000000",
                    "2016-12-01T00:00:00.000000000",
                    "2017-01-01T00:00:00.000000000",
                    "2017-02-01T00:00:00.000000000",
                    "2017-03-01T00:00:00.000000000",
                    "2017-04-01T00:00:00.000000000",
                    "2017-05-01T00:00:00.000000000",
                    "2017-06-01T00:00:00.000000000",
                    "2017-07-01T00:00:00.000000000",
                    "2017-08-01T00:00:00.000000000",
                    "2017-09-01T00:00:00.000000000",
                    "2017-10-01T00:00:00.000000000",
                    "2017-11-01T00:00:00.000000000",
                    "2017-12-01T00:00:00.000000000",
                    "2018-01-01T00:00:00.000000000",
                    "2018-02-01T00:00:00.000000000",
                    "2018-03-01T00:00:00.000000000",
                    "2018-04-01T00:00:00.000000000",
                    "2018-05-01T00:00:00.000000000",
                    "2018-06-01T00:00:00.000000000",
                    "2018-07-01T00:00:00.000000000",
                    "2018-08-01T00:00:00.000000000",
                    "2018-09-01T00:00:00.000000000",
                    "2018-10-01T00:00:00.000000000",
                    "2018-11-01T00:00:00.000000000",
                    "2018-12-01T00:00:00.000000000",
                    "2019-01-01T00:00:00.000000000",
                    "2019-02-01T00:00:00.000000000",
                    "2019-03-01T00:00:00.000000000",
                    "2019-04-01T00:00:00.000000000",
                    "2019-05-01T00:00:00.000000000",
                    "2019-06-01T00:00:00.000000000",
                    "2019-07-01T00:00:00.000000000",
                    "2019-08-01T00:00:00.000000000",
                    "2019-09-01T00:00:00.000000000",
                    "2019-10-01T00:00:00.000000000",
                    "2019-11-01T00:00:00.000000000",
                    "2019-12-01T00:00:00.000000000",
                    "2020-01-01T00:00:00.000000000",
                    "2020-02-01T00:00:00.000000000",
                    "2020-03-01T00:00:00.000000000",
                    "2020-04-01T00:00:00.000000000",
                    "2020-05-01T00:00:00.000000000",
                    "2020-06-01T00:00:00.000000000",
                    "2020-07-01T00:00:00.000000000",
                    "2020-08-01T00:00:00.000000000",
                    "2020-09-01T00:00:00.000000000",
                    "2020-10-01T00:00:00.000000000",
                    "2020-11-01T00:00:00.000000000",
                    "2020-12-01T00:00:00.000000000",
                    "2021-01-01T00:00:00.000000000",
                    "2021-02-01T00:00:00.000000000",
                    "2021-03-01T00:00:00.000000000",
                    "2021-04-01T00:00:00.000000000",
                    "2021-05-01T00:00:00.000000000",
                    "2021-06-01T00:00:00.000000000",
                    "2021-07-01T00:00:00.000000000",
                    "2021-08-01T00:00:00.000000000",
                    "2021-09-01T00:00:00.000000000",
                    "2021-10-01T00:00:00.000000000",
                    "2021-11-01T00:00:00.000000000",
                    "2021-12-01T00:00:00.000000000",
                    "2022-01-01T00:00:00.000000000",
                    "2022-02-01T00:00:00.000000000",
                    "2022-03-01T00:00:00.000000000",
                    "2022-04-01T00:00:00.000000000",
                    "2022-05-01T00:00:00.000000000",
                    "2022-06-01T00:00:00.000000000",
                    "2022-07-01T00:00:00.000000000",
                    "2022-08-01T00:00:00.000000000",
                    "2022-09-01T00:00:00.000000000",
                    "2022-10-01T00:00:00.000000000",
                    "2022-11-01T00:00:00.000000000",
                    "2022-12-01T00:00:00.000000000",
                    "2023-01-01T00:00:00.000000000",
                    "2023-02-01T00:00:00.000000000",
                    "2023-03-01T00:00:00.000000000",
                    "2023-04-01T00:00:00.000000000",
                    "2023-05-01T00:00:00.000000000",
                    "2023-06-01T00:00:00.000000000",
                    "2023-07-01T00:00:00.000000000",
                    "2023-08-01T00:00:00.000000000",
                    "2023-09-01T00:00:00.000000000",
                    "2023-10-01T00:00:00.000000000",
                    "2023-11-01T00:00:00.000000000",
                    "2023-12-01T00:00:00.000000000",
                    "2024-01-01T00:00:00.000000000",
                    "2024-02-01T00:00:00.000000000",
                    "2024-03-01T00:00:00.000000000",
                    "2024-04-01T00:00:00.000000000",
                    "2024-05-01T00:00:00.000000000",
                    "2024-06-01T00:00:00.000000000",
                    "2024-07-01T00:00:00.000000000",
                    "2024-08-01T00:00:00.000000000",
                    "2024-09-01T00:00:00.000000000",
                    "2024-10-01T00:00:00.000000000",
                    "2024-11-01T00:00:00.000000000",
                    "2024-12-01T00:00:00.000000000"
                  ],
                  "y": [
                    23.84728412572688,
                    23.89884502431767,
                    23.95040592290846,
                    24.00196682149925,
                    24.053527720090038,
                    24.10508861868083,
                    24.15664951727162,
                    24.20821041586241,
                    24.2597713144532,
                    24.31133221304399,
                    24.36289311163478,
                    24.41445401022557,
                    24.46601490881636,
                    24.517575807407148,
                    24.569136705997938,
                    24.620697604588727,
                    24.67225850317952,
                    24.72381940177031,
                    24.7753803003611,
                    24.82694119895189,
                    24.87850209754268,
                    24.93006299613347,
                    24.981623894724258,
                    25.033184793315048,
                    25.084745691905837,
                    25.136306590496627,
                    25.187867489087417,
                    25.23942838767821,
                    25.290989286269,
                    25.34255018485979,
                    25.39411108345058,
                    25.445671982041368,
                    25.497232880632158,
                    25.548793779222947,
                    25.600354677813737,
                    25.651915576404527,
                    25.70347647499532,
                    25.75503737358611,
                    25.8065982721769,
                    25.85815917076769,
                    25.909720069358478,
                    25.961280967949268,
                    26.012841866540057,
                    26.064402765130847,
                    26.115963663721637,
                    26.167524562312426,
                    26.219085460903216,
                    26.27064635949401,
                    26.3222072580848,
                    26.373768156675588,
                    26.425329055266378,
                    26.476889953857167,
                    26.528450852447957,
                    26.580011751038747,
                    26.631572649629536,
                    26.683133548220326,
                    26.734694446811115,
                    26.786255345401905,
                    26.837816243992698,
                    26.889377142583488,
                    26.940938041174277,
                    26.992498939765067,
                    27.044059838355857,
                    27.095620736946646,
                    27.147181635537436,
                    27.198742534128225,
                    27.250303432719015,
                    27.301864331309805,
                    27.353425229900594,
                    27.404986128491387,
                    27.456547027082177,
                    27.508107925672967,
                    27.559668824263756,
                    27.611229722854546,
                    27.662790621445335,
                    27.714351520036125,
                    27.765912418626915,
                    27.817473317217704,
                    27.869034215808497,
                    27.920595114399283,
                    27.972156012990077,
                    28.023716911580866,
                    28.075277810171656,
                    28.126838708762445,
                    28.178399607353235,
                    28.229960505944025,
                    28.281521404534814,
                    28.333082303125604,
                    28.384643201716393,
                    28.436204100307187,
                    28.487764998897973,
                    28.539325897488766,
                    28.590886796079555,
                    28.642447694670345,
                    28.694008593261135,
                    28.745569491851924,
                    28.797130390442714,
                    28.848691289033503,
                    28.900252187624293,
                    28.951813086215083,
                    29.003373984805876,
                    29.054934883396662,
                    29.106495781987455,
                    29.158056680578245,
                    29.209617579169034,
                    29.261178477759824,
                    29.312739376350613,
                    29.364300274941403
                  ]
                },
                {
                  "line": {
                    "color": "purple"
                  },
                  "mode": "lines",
                  "name": "Full model",
                  "type": "scatter",
                  "x": [
                    "2016-01-01T00:00:00.000000000",
                    "2016-02-01T00:00:00.000000000",
                    "2016-03-01T00:00:00.000000000",
                    "2016-04-01T00:00:00.000000000",
                    "2016-05-01T00:00:00.000000000",
                    "2016-06-01T00:00:00.000000000",
                    "2016-07-01T00:00:00.000000000",
                    "2016-08-01T00:00:00.000000000",
                    "2016-09-01T00:00:00.000000000",
                    "2016-10-01T00:00:00.000000000",
                    "2016-11-01T00:00:00.000000000",
                    "2016-12-01T00:00:00.000000000",
                    "2017-01-01T00:00:00.000000000",
                    "2017-02-01T00:00:00.000000000",
                    "2017-03-01T00:00:00.000000000",
                    "2017-04-01T00:00:00.000000000",
                    "2017-05-01T00:00:00.000000000",
                    "2017-06-01T00:00:00.000000000",
                    "2017-07-01T00:00:00.000000000",
                    "2017-08-01T00:00:00.000000000",
                    "2017-09-01T00:00:00.000000000",
                    "2017-10-01T00:00:00.000000000",
                    "2017-11-01T00:00:00.000000000",
                    "2017-12-01T00:00:00.000000000",
                    "2018-01-01T00:00:00.000000000",
                    "2018-02-01T00:00:00.000000000",
                    "2018-03-01T00:00:00.000000000",
                    "2018-04-01T00:00:00.000000000",
                    "2018-05-01T00:00:00.000000000",
                    "2018-06-01T00:00:00.000000000",
                    "2018-07-01T00:00:00.000000000",
                    "2018-08-01T00:00:00.000000000",
                    "2018-09-01T00:00:00.000000000",
                    "2018-10-01T00:00:00.000000000",
                    "2018-11-01T00:00:00.000000000",
                    "2018-12-01T00:00:00.000000000",
                    "2019-01-01T00:00:00.000000000",
                    "2019-02-01T00:00:00.000000000",
                    "2019-03-01T00:00:00.000000000",
                    "2019-04-01T00:00:00.000000000",
                    "2019-05-01T00:00:00.000000000",
                    "2019-06-01T00:00:00.000000000",
                    "2019-07-01T00:00:00.000000000",
                    "2019-08-01T00:00:00.000000000",
                    "2019-09-01T00:00:00.000000000",
                    "2019-10-01T00:00:00.000000000",
                    "2019-11-01T00:00:00.000000000",
                    "2019-12-01T00:00:00.000000000",
                    "2020-01-01T00:00:00.000000000",
                    "2020-02-01T00:00:00.000000000",
                    "2020-03-01T00:00:00.000000000",
                    "2020-04-01T00:00:00.000000000",
                    "2020-05-01T00:00:00.000000000",
                    "2020-06-01T00:00:00.000000000",
                    "2020-07-01T00:00:00.000000000",
                    "2020-08-01T00:00:00.000000000",
                    "2020-09-01T00:00:00.000000000",
                    "2020-10-01T00:00:00.000000000",
                    "2020-11-01T00:00:00.000000000",
                    "2020-12-01T00:00:00.000000000",
                    "2021-01-01T00:00:00.000000000",
                    "2021-02-01T00:00:00.000000000",
                    "2021-03-01T00:00:00.000000000",
                    "2021-04-01T00:00:00.000000000",
                    "2021-05-01T00:00:00.000000000",
                    "2021-06-01T00:00:00.000000000",
                    "2021-07-01T00:00:00.000000000",
                    "2021-08-01T00:00:00.000000000",
                    "2021-09-01T00:00:00.000000000",
                    "2021-10-01T00:00:00.000000000",
                    "2021-11-01T00:00:00.000000000",
                    "2021-12-01T00:00:00.000000000",
                    "2022-01-01T00:00:00.000000000",
                    "2022-02-01T00:00:00.000000000",
                    "2022-03-01T00:00:00.000000000",
                    "2022-04-01T00:00:00.000000000",
                    "2022-05-01T00:00:00.000000000",
                    "2022-06-01T00:00:00.000000000",
                    "2022-07-01T00:00:00.000000000",
                    "2022-08-01T00:00:00.000000000",
                    "2022-09-01T00:00:00.000000000",
                    "2022-10-01T00:00:00.000000000",
                    "2022-11-01T00:00:00.000000000",
                    "2022-12-01T00:00:00.000000000",
                    "2023-01-01T00:00:00.000000000",
                    "2023-02-01T00:00:00.000000000",
                    "2023-03-01T00:00:00.000000000",
                    "2023-04-01T00:00:00.000000000",
                    "2023-05-01T00:00:00.000000000",
                    "2023-06-01T00:00:00.000000000",
                    "2023-07-01T00:00:00.000000000",
                    "2023-08-01T00:00:00.000000000",
                    "2023-09-01T00:00:00.000000000",
                    "2023-10-01T00:00:00.000000000",
                    "2023-11-01T00:00:00.000000000",
                    "2023-12-01T00:00:00.000000000",
                    "2024-01-01T00:00:00.000000000",
                    "2024-02-01T00:00:00.000000000",
                    "2024-03-01T00:00:00.000000000",
                    "2024-04-01T00:00:00.000000000",
                    "2024-05-01T00:00:00.000000000",
                    "2024-06-01T00:00:00.000000000",
                    "2024-07-01T00:00:00.000000000",
                    "2024-08-01T00:00:00.000000000",
                    "2024-09-01T00:00:00.000000000",
                    "2024-10-01T00:00:00.000000000",
                    "2024-11-01T00:00:00.000000000",
                    "2024-12-01T00:00:00.000000000"
                  ],
                  "y": [
                    23.84728412572688,
                    23.89884502431767,
                    23.95040592290846,
                    24.00196682149925,
                    24.053527720090038,
                    24.10508861868083,
                    24.15664951727162,
                    24.20821041586241,
                    24.2597713144532,
                    24.31133221304399,
                    24.36289311163478,
                    24.41445401022557,
                    24.46601490881636,
                    24.517575807407148,
                    24.569136705997938,
                    24.620697604588727,
                    24.67225850317952,
                    24.72381940177031,
                    24.7753803003611,
                    24.82694119895189,
                    24.87850209754268,
                    24.93006299613347,
                    24.981623894724258,
                    25.033184793315048,
                    25.084745691905837,
                    25.136306590496627,
                    25.187867489087417,
                    25.23942838767821,
                    25.290989286269,
                    25.34255018485979,
                    25.39411108345058,
                    25.445671982041368,
                    25.497232880632158,
                    25.548793779222947,
                    25.600354677813737,
                    25.651915576404527,
                    25.70347647499532,
                    25.75503737358611,
                    25.8065982721769,
                    25.85815917076769,
                    25.909720069358478,
                    25.961280967949268,
                    26.012841866540057,
                    26.064402765130847,
                    26.115963663721637,
                    26.167524562312426,
                    26.219085460903216,
                    26.27064635949401,
                    26.3222072580848,
                    26.373768156675588,
                    26.425329055266378,
                    31.07326097963057,
                    30.813761967711326,
                    30.554262955792076,
                    30.29476394387283,
                    30.03526493195358,
                    29.77576592003434,
                    29.516266908115085,
                    29.256767896195843,
                    28.997268884276597,
                    28.737769872357347,
                    28.4782708604381,
                    28.218771848518852,
                    27.95927283659961,
                    27.699773824680356,
                    27.440274812761114,
                    27.18077580084186,
                    26.92127678892262,
                    26.661777777003365,
                    26.402278765084123,
                    26.14277975316488,
                    25.883280741245628,
                    25.623781729326385,
                    25.364282717407132,
                    25.10478370548789,
                    25.753994376062554,
                    25.939517957064744,
                    26.12504153806693,
                    26.310565119069125,
                    26.49608870007131,
                    26.681612281073505,
                    26.867135862075692,
                    27.052659443077882,
                    27.238183024080072,
                    27.423706605082263,
                    27.60923018608445,
                    27.79475376708664,
                    27.98027734808883,
                    28.16580092909102,
                    28.351324510093214,
                    28.536848091095397,
                    28.72237167209759,
                    28.90789525309978,
                    29.093418834101968,
                    29.278942415104158,
                    29.464465996106348,
                    29.64998957710854,
                    29.83551315811073,
                    30.021036739112915,
                    30.206560320115106,
                    30.3920839011173,
                    30.577607482119486,
                    30.763131063121676,
                    30.948654644123867,
                    31.134178225126057,
                    31.319701806128247,
                    31.505225387130437,
                    31.690748968132624
                  ]
                }
              ],
              "layout": {
                "annotations": [
                  {
                    "arrowhead": 2,
                    "ax": 30,
                    "ay": -40,
                    "showarrow": true,
                    "text": "Pandemia",
                    "x": "2020-04-01",
                    "y": 33.41441237693909
                  },
                  {
                    "arrowhead": 2,
                    "ax": 30,
                    "ay": -40,
                    "showarrow": true,
                    "text": "Pos Pandemia",
                    "x": "2022-04-01",
                    "y": 33.41441237693909
                  }
                ],
                "legend": {
                  "title": {
                    "text": "Legend"
                  }
                },
                "shapes": [
                  {
                    "line": {
                      "color": "black",
                      "dash": "dash"
                    },
                    "type": "line",
                    "x0": "2020-04-01",
                    "x1": "2020-04-01",
                    "y0": 19.244626373065557,
                    "y1": 33.41441237693909
                  },
                  {
                    "line": {
                      "color": "black",
                      "dash": "dash"
                    },
                    "type": "line",
                    "x0": "2022-04-01",
                    "x1": "2022-04-01",
                    "y0": 19.244626373065557,
                    "y1": 33.41441237693909
                  }
                ],
                "template": {
                  "data": {
                    "bar": [
                      {
                        "error_x": {
                          "color": "#2a3f5f"
                        },
                        "error_y": {
                          "color": "#2a3f5f"
                        },
                        "marker": {
                          "line": {
                            "color": "#E5ECF6",
                            "width": 0.5
                          },
                          "pattern": {
                            "fillmode": "overlay",
                            "size": 10,
                            "solidity": 0.2
                          }
                        },
                        "type": "bar"
                      }
                    ],
                    "barpolar": [
                      {
                        "marker": {
                          "line": {
                            "color": "#E5ECF6",
                            "width": 0.5
                          },
                          "pattern": {
                            "fillmode": "overlay",
                            "size": 10,
                            "solidity": 0.2
                          }
                        },
                        "type": "barpolar"
                      }
                    ],
                    "carpet": [
                      {
                        "aaxis": {
                          "endlinecolor": "#2a3f5f",
                          "gridcolor": "white",
                          "linecolor": "white",
                          "minorgridcolor": "white",
                          "startlinecolor": "#2a3f5f"
                        },
                        "baxis": {
                          "endlinecolor": "#2a3f5f",
                          "gridcolor": "white",
                          "linecolor": "white",
                          "minorgridcolor": "white",
                          "startlinecolor": "#2a3f5f"
                        },
                        "type": "carpet"
                      }
                    ],
                    "choropleth": [
                      {
                        "colorbar": {
                          "outlinewidth": 0,
                          "ticks": ""
                        },
                        "type": "choropleth"
                      }
                    ],
                    "contour": [
                      {
                        "colorbar": {
                          "outlinewidth": 0,
                          "ticks": ""
                        },
                        "colorscale": [
                          [
                            0,
                            "#0d0887"
                          ],
                          [
                            0.1111111111111111,
                            "#46039f"
                          ],
                          [
                            0.2222222222222222,
                            "#7201a8"
                          ],
                          [
                            0.3333333333333333,
                            "#9c179e"
                          ],
                          [
                            0.4444444444444444,
                            "#bd3786"
                          ],
                          [
                            0.5555555555555556,
                            "#d8576b"
                          ],
                          [
                            0.6666666666666666,
                            "#ed7953"
                          ],
                          [
                            0.7777777777777778,
                            "#fb9f3a"
                          ],
                          [
                            0.8888888888888888,
                            "#fdca26"
                          ],
                          [
                            1,
                            "#f0f921"
                          ]
                        ],
                        "type": "contour"
                      }
                    ],
                    "contourcarpet": [
                      {
                        "colorbar": {
                          "outlinewidth": 0,
                          "ticks": ""
                        },
                        "type": "contourcarpet"
                      }
                    ],
                    "heatmap": [
                      {
                        "colorbar": {
                          "outlinewidth": 0,
                          "ticks": ""
                        },
                        "colorscale": [
                          [
                            0,
                            "#0d0887"
                          ],
                          [
                            0.1111111111111111,
                            "#46039f"
                          ],
                          [
                            0.2222222222222222,
                            "#7201a8"
                          ],
                          [
                            0.3333333333333333,
                            "#9c179e"
                          ],
                          [
                            0.4444444444444444,
                            "#bd3786"
                          ],
                          [
                            0.5555555555555556,
                            "#d8576b"
                          ],
                          [
                            0.6666666666666666,
                            "#ed7953"
                          ],
                          [
                            0.7777777777777778,
                            "#fb9f3a"
                          ],
                          [
                            0.8888888888888888,
                            "#fdca26"
                          ],
                          [
                            1,
                            "#f0f921"
                          ]
                        ],
                        "type": "heatmap"
                      }
                    ],
                    "heatmapgl": [
                      {
                        "colorbar": {
                          "outlinewidth": 0,
                          "ticks": ""
                        },
                        "colorscale": [
                          [
                            0,
                            "#0d0887"
                          ],
                          [
                            0.1111111111111111,
                            "#46039f"
                          ],
                          [
                            0.2222222222222222,
                            "#7201a8"
                          ],
                          [
                            0.3333333333333333,
                            "#9c179e"
                          ],
                          [
                            0.4444444444444444,
                            "#bd3786"
                          ],
                          [
                            0.5555555555555556,
                            "#d8576b"
                          ],
                          [
                            0.6666666666666666,
                            "#ed7953"
                          ],
                          [
                            0.7777777777777778,
                            "#fb9f3a"
                          ],
                          [
                            0.8888888888888888,
                            "#fdca26"
                          ],
                          [
                            1,
                            "#f0f921"
                          ]
                        ],
                        "type": "heatmapgl"
                      }
                    ],
                    "histogram": [
                      {
                        "marker": {
                          "pattern": {
                            "fillmode": "overlay",
                            "size": 10,
                            "solidity": 0.2
                          }
                        },
                        "type": "histogram"
                      }
                    ],
                    "histogram2d": [
                      {
                        "colorbar": {
                          "outlinewidth": 0,
                          "ticks": ""
                        },
                        "colorscale": [
                          [
                            0,
                            "#0d0887"
                          ],
                          [
                            0.1111111111111111,
                            "#46039f"
                          ],
                          [
                            0.2222222222222222,
                            "#7201a8"
                          ],
                          [
                            0.3333333333333333,
                            "#9c179e"
                          ],
                          [
                            0.4444444444444444,
                            "#bd3786"
                          ],
                          [
                            0.5555555555555556,
                            "#d8576b"
                          ],
                          [
                            0.6666666666666666,
                            "#ed7953"
                          ],
                          [
                            0.7777777777777778,
                            "#fb9f3a"
                          ],
                          [
                            0.8888888888888888,
                            "#fdca26"
                          ],
                          [
                            1,
                            "#f0f921"
                          ]
                        ],
                        "type": "histogram2d"
                      }
                    ],
                    "histogram2dcontour": [
                      {
                        "colorbar": {
                          "outlinewidth": 0,
                          "ticks": ""
                        },
                        "colorscale": [
                          [
                            0,
                            "#0d0887"
                          ],
                          [
                            0.1111111111111111,
                            "#46039f"
                          ],
                          [
                            0.2222222222222222,
                            "#7201a8"
                          ],
                          [
                            0.3333333333333333,
                            "#9c179e"
                          ],
                          [
                            0.4444444444444444,
                            "#bd3786"
                          ],
                          [
                            0.5555555555555556,
                            "#d8576b"
                          ],
                          [
                            0.6666666666666666,
                            "#ed7953"
                          ],
                          [
                            0.7777777777777778,
                            "#fb9f3a"
                          ],
                          [
                            0.8888888888888888,
                            "#fdca26"
                          ],
                          [
                            1,
                            "#f0f921"
                          ]
                        ],
                        "type": "histogram2dcontour"
                      }
                    ],
                    "mesh3d": [
                      {
                        "colorbar": {
                          "outlinewidth": 0,
                          "ticks": ""
                        },
                        "type": "mesh3d"
                      }
                    ],
                    "parcoords": [
                      {
                        "line": {
                          "colorbar": {
                            "outlinewidth": 0,
                            "ticks": ""
                          }
                        },
                        "type": "parcoords"
                      }
                    ],
                    "pie": [
                      {
                        "automargin": true,
                        "type": "pie"
                      }
                    ],
                    "scatter": [
                      {
                        "fillpattern": {
                          "fillmode": "overlay",
                          "size": 10,
                          "solidity": 0.2
                        },
                        "type": "scatter"
                      }
                    ],
                    "scatter3d": [
                      {
                        "line": {
                          "colorbar": {
                            "outlinewidth": 0,
                            "ticks": ""
                          }
                        },
                        "marker": {
                          "colorbar": {
                            "outlinewidth": 0,
                            "ticks": ""
                          }
                        },
                        "type": "scatter3d"
                      }
                    ],
                    "scattercarpet": [
                      {
                        "marker": {
                          "colorbar": {
                            "outlinewidth": 0,
                            "ticks": ""
                          }
                        },
                        "type": "scattercarpet"
                      }
                    ],
                    "scattergeo": [
                      {
                        "marker": {
                          "colorbar": {
                            "outlinewidth": 0,
                            "ticks": ""
                          }
                        },
                        "type": "scattergeo"
                      }
                    ],
                    "scattergl": [
                      {
                        "marker": {
                          "colorbar": {
                            "outlinewidth": 0,
                            "ticks": ""
                          }
                        },
                        "type": "scattergl"
                      }
                    ],
                    "scattermapbox": [
                      {
                        "marker": {
                          "colorbar": {
                            "outlinewidth": 0,
                            "ticks": ""
                          }
                        },
                        "type": "scattermapbox"
                      }
                    ],
                    "scatterpolar": [
                      {
                        "marker": {
                          "colorbar": {
                            "outlinewidth": 0,
                            "ticks": ""
                          }
                        },
                        "type": "scatterpolar"
                      }
                    ],
                    "scatterpolargl": [
                      {
                        "marker": {
                          "colorbar": {
                            "outlinewidth": 0,
                            "ticks": ""
                          }
                        },
                        "type": "scatterpolargl"
                      }
                    ],
                    "scatterternary": [
                      {
                        "marker": {
                          "colorbar": {
                            "outlinewidth": 0,
                            "ticks": ""
                          }
                        },
                        "type": "scatterternary"
                      }
                    ],
                    "surface": [
                      {
                        "colorbar": {
                          "outlinewidth": 0,
                          "ticks": ""
                        },
                        "colorscale": [
                          [
                            0,
                            "#0d0887"
                          ],
                          [
                            0.1111111111111111,
                            "#46039f"
                          ],
                          [
                            0.2222222222222222,
                            "#7201a8"
                          ],
                          [
                            0.3333333333333333,
                            "#9c179e"
                          ],
                          [
                            0.4444444444444444,
                            "#bd3786"
                          ],
                          [
                            0.5555555555555556,
                            "#d8576b"
                          ],
                          [
                            0.6666666666666666,
                            "#ed7953"
                          ],
                          [
                            0.7777777777777778,
                            "#fb9f3a"
                          ],
                          [
                            0.8888888888888888,
                            "#fdca26"
                          ],
                          [
                            1,
                            "#f0f921"
                          ]
                        ],
                        "type": "surface"
                      }
                    ],
                    "table": [
                      {
                        "cells": {
                          "fill": {
                            "color": "#EBF0F8"
                          },
                          "line": {
                            "color": "white"
                          }
                        },
                        "header": {
                          "fill": {
                            "color": "#C8D4E3"
                          },
                          "line": {
                            "color": "white"
                          }
                        },
                        "type": "table"
                      }
                    ]
                  },
                  "layout": {
                    "annotationdefaults": {
                      "arrowcolor": "#2a3f5f",
                      "arrowhead": 0,
                      "arrowwidth": 1
                    },
                    "autotypenumbers": "strict",
                    "coloraxis": {
                      "colorbar": {
                        "outlinewidth": 0,
                        "ticks": ""
                      }
                    },
                    "colorscale": {
                      "diverging": [
                        [
                          0,
                          "#8e0152"
                        ],
                        [
                          0.1,
                          "#c51b7d"
                        ],
                        [
                          0.2,
                          "#de77ae"
                        ],
                        [
                          0.3,
                          "#f1b6da"
                        ],
                        [
                          0.4,
                          "#fde0ef"
                        ],
                        [
                          0.5,
                          "#f7f7f7"
                        ],
                        [
                          0.6,
                          "#e6f5d0"
                        ],
                        [
                          0.7,
                          "#b8e186"
                        ],
                        [
                          0.8,
                          "#7fbc41"
                        ],
                        [
                          0.9,
                          "#4d9221"
                        ],
                        [
                          1,
                          "#276419"
                        ]
                      ],
                      "sequential": [
                        [
                          0,
                          "#0d0887"
                        ],
                        [
                          0.1111111111111111,
                          "#46039f"
                        ],
                        [
                          0.2222222222222222,
                          "#7201a8"
                        ],
                        [
                          0.3333333333333333,
                          "#9c179e"
                        ],
                        [
                          0.4444444444444444,
                          "#bd3786"
                        ],
                        [
                          0.5555555555555556,
                          "#d8576b"
                        ],
                        [
                          0.6666666666666666,
                          "#ed7953"
                        ],
                        [
                          0.7777777777777778,
                          "#fb9f3a"
                        ],
                        [
                          0.8888888888888888,
                          "#fdca26"
                        ],
                        [
                          1,
                          "#f0f921"
                        ]
                      ],
                      "sequentialminus": [
                        [
                          0,
                          "#0d0887"
                        ],
                        [
                          0.1111111111111111,
                          "#46039f"
                        ],
                        [
                          0.2222222222222222,
                          "#7201a8"
                        ],
                        [
                          0.3333333333333333,
                          "#9c179e"
                        ],
                        [
                          0.4444444444444444,
                          "#bd3786"
                        ],
                        [
                          0.5555555555555556,
                          "#d8576b"
                        ],
                        [
                          0.6666666666666666,
                          "#ed7953"
                        ],
                        [
                          0.7777777777777778,
                          "#fb9f3a"
                        ],
                        [
                          0.8888888888888888,
                          "#fdca26"
                        ],
                        [
                          1,
                          "#f0f921"
                        ]
                      ]
                    },
                    "colorway": [
                      "#636efa",
                      "#EF553B",
                      "#00cc96",
                      "#ab63fa",
                      "#FFA15A",
                      "#19d3f3",
                      "#FF6692",
                      "#B6E880",
                      "#FF97FF",
                      "#FECB52"
                    ],
                    "font": {
                      "color": "#2a3f5f"
                    },
                    "geo": {
                      "bgcolor": "white",
                      "lakecolor": "white",
                      "landcolor": "#E5ECF6",
                      "showlakes": true,
                      "showland": true,
                      "subunitcolor": "white"
                    },
                    "hoverlabel": {
                      "align": "left"
                    },
                    "hovermode": "closest",
                    "mapbox": {
                      "style": "light"
                    },
                    "paper_bgcolor": "white",
                    "plot_bgcolor": "#E5ECF6",
                    "polar": {
                      "angularaxis": {
                        "gridcolor": "white",
                        "linecolor": "white",
                        "ticks": ""
                      },
                      "bgcolor": "#E5ECF6",
                      "radialaxis": {
                        "gridcolor": "white",
                        "linecolor": "white",
                        "ticks": ""
                      }
                    },
                    "scene": {
                      "xaxis": {
                        "backgroundcolor": "#E5ECF6",
                        "gridcolor": "white",
                        "gridwidth": 2,
                        "linecolor": "white",
                        "showbackground": true,
                        "ticks": "",
                        "zerolinecolor": "white"
                      },
                      "yaxis": {
                        "backgroundcolor": "#E5ECF6",
                        "gridcolor": "white",
                        "gridwidth": 2,
                        "linecolor": "white",
                        "showbackground": true,
                        "ticks": "",
                        "zerolinecolor": "white"
                      },
                      "zaxis": {
                        "backgroundcolor": "#E5ECF6",
                        "gridcolor": "white",
                        "gridwidth": 2,
                        "linecolor": "white",
                        "showbackground": true,
                        "ticks": "",
                        "zerolinecolor": "white"
                      }
                    },
                    "shapedefaults": {
                      "line": {
                        "color": "#2a3f5f"
                      }
                    },
                    "ternary": {
                      "aaxis": {
                        "gridcolor": "white",
                        "linecolor": "white",
                        "ticks": ""
                      },
                      "baxis": {
                        "gridcolor": "white",
                        "linecolor": "white",
                        "ticks": ""
                      },
                      "bgcolor": "#E5ECF6",
                      "caxis": {
                        "gridcolor": "white",
                        "linecolor": "white",
                        "ticks": ""
                      }
                    },
                    "title": {
                      "x": 0.05
                    },
                    "xaxis": {
                      "automargin": true,
                      "gridcolor": "white",
                      "linecolor": "white",
                      "ticks": "",
                      "title": {
                        "standoff": 15
                      },
                      "zerolinecolor": "white",
                      "zerolinewidth": 2
                    },
                    "yaxis": {
                      "automargin": true,
                      "gridcolor": "white",
                      "linecolor": "white",
                      "ticks": "",
                      "title": {
                        "standoff": 15
                      },
                      "zerolinecolor": "white",
                      "zerolinewidth": 2
                    }
                  }
                },
                "title": {
                  "text": "sul"
                },
                "xaxis": {
                  "title": {
                    "text": "Time"
                  }
                },
                "yaxis": {
                  "title": {
                    "text": "Value"
                  }
                }
              }
            }
          },
          "metadata": {},
          "output_type": "display_data"
        },
        {
          "data": {
            "application/vnd.plotly.v1+json": {
              "config": {
                "plotlyServerURL": "https://plot.ly"
              },
              "data": [
                {
                  "marker": {
                    "color": "black"
                  },
                  "mode": "markers",
                  "name": "Real",
                  "type": "scatter",
                  "x": [
                    "2016-01-01T00:00:00.000000000",
                    "2016-02-01T00:00:00.000000000",
                    "2016-03-01T00:00:00.000000000",
                    "2016-04-01T00:00:00.000000000",
                    "2016-05-01T00:00:00.000000000",
                    "2016-06-01T00:00:00.000000000",
                    "2016-07-01T00:00:00.000000000",
                    "2016-08-01T00:00:00.000000000",
                    "2016-09-01T00:00:00.000000000",
                    "2016-10-01T00:00:00.000000000",
                    "2016-11-01T00:00:00.000000000",
                    "2016-12-01T00:00:00.000000000",
                    "2017-01-01T00:00:00.000000000",
                    "2017-02-01T00:00:00.000000000",
                    "2017-03-01T00:00:00.000000000",
                    "2017-04-01T00:00:00.000000000",
                    "2017-05-01T00:00:00.000000000",
                    "2017-06-01T00:00:00.000000000",
                    "2017-07-01T00:00:00.000000000",
                    "2017-08-01T00:00:00.000000000",
                    "2017-09-01T00:00:00.000000000",
                    "2017-10-01T00:00:00.000000000",
                    "2017-11-01T00:00:00.000000000",
                    "2017-12-01T00:00:00.000000000",
                    "2018-01-01T00:00:00.000000000",
                    "2018-02-01T00:00:00.000000000",
                    "2018-03-01T00:00:00.000000000",
                    "2018-04-01T00:00:00.000000000",
                    "2018-05-01T00:00:00.000000000",
                    "2018-06-01T00:00:00.000000000",
                    "2018-07-01T00:00:00.000000000",
                    "2018-08-01T00:00:00.000000000",
                    "2018-09-01T00:00:00.000000000",
                    "2018-10-01T00:00:00.000000000",
                    "2018-11-01T00:00:00.000000000",
                    "2018-12-01T00:00:00.000000000",
                    "2019-01-01T00:00:00.000000000",
                    "2019-02-01T00:00:00.000000000",
                    "2019-03-01T00:00:00.000000000",
                    "2019-04-01T00:00:00.000000000",
                    "2019-05-01T00:00:00.000000000",
                    "2019-06-01T00:00:00.000000000",
                    "2019-07-01T00:00:00.000000000",
                    "2019-08-01T00:00:00.000000000",
                    "2019-09-01T00:00:00.000000000",
                    "2019-10-01T00:00:00.000000000",
                    "2019-11-01T00:00:00.000000000",
                    "2019-12-01T00:00:00.000000000",
                    "2020-01-01T00:00:00.000000000",
                    "2020-02-01T00:00:00.000000000",
                    "2020-03-01T00:00:00.000000000",
                    "2020-04-01T00:00:00.000000000",
                    "2020-05-01T00:00:00.000000000",
                    "2020-06-01T00:00:00.000000000",
                    "2020-07-01T00:00:00.000000000",
                    "2020-08-01T00:00:00.000000000",
                    "2020-09-01T00:00:00.000000000",
                    "2020-10-01T00:00:00.000000000",
                    "2020-11-01T00:00:00.000000000",
                    "2020-12-01T00:00:00.000000000",
                    "2021-01-01T00:00:00.000000000",
                    "2021-02-01T00:00:00.000000000",
                    "2021-03-01T00:00:00.000000000",
                    "2021-04-01T00:00:00.000000000",
                    "2021-05-01T00:00:00.000000000",
                    "2021-06-01T00:00:00.000000000",
                    "2021-07-01T00:00:00.000000000",
                    "2021-08-01T00:00:00.000000000",
                    "2021-09-01T00:00:00.000000000",
                    "2021-10-01T00:00:00.000000000",
                    "2021-11-01T00:00:00.000000000",
                    "2021-12-01T00:00:00.000000000",
                    "2022-01-01T00:00:00.000000000",
                    "2022-02-01T00:00:00.000000000",
                    "2022-03-01T00:00:00.000000000",
                    "2022-04-01T00:00:00.000000000",
                    "2022-05-01T00:00:00.000000000",
                    "2022-06-01T00:00:00.000000000",
                    "2022-07-01T00:00:00.000000000",
                    "2022-08-01T00:00:00.000000000",
                    "2022-09-01T00:00:00.000000000",
                    "2022-10-01T00:00:00.000000000",
                    "2022-11-01T00:00:00.000000000",
                    "2022-12-01T00:00:00.000000000",
                    "2023-01-01T00:00:00.000000000",
                    "2023-02-01T00:00:00.000000000",
                    "2023-03-01T00:00:00.000000000",
                    "2023-04-01T00:00:00.000000000",
                    "2023-05-01T00:00:00.000000000",
                    "2023-06-01T00:00:00.000000000",
                    "2023-07-01T00:00:00.000000000",
                    "2023-08-01T00:00:00.000000000",
                    "2023-09-01T00:00:00.000000000",
                    "2023-10-01T00:00:00.000000000",
                    "2023-11-01T00:00:00.000000000",
                    "2023-12-01T00:00:00.000000000",
                    "2024-01-01T00:00:00.000000000",
                    "2024-02-01T00:00:00.000000000",
                    "2024-03-01T00:00:00.000000000",
                    "2024-04-01T00:00:00.000000000",
                    "2024-05-01T00:00:00.000000000",
                    "2024-06-01T00:00:00.000000000",
                    "2024-07-01T00:00:00.000000000",
                    "2024-08-01T00:00:00.000000000",
                    "2024-09-01T00:00:00.000000000",
                    "2024-10-01T00:00:00.000000000",
                    "2024-11-01T00:00:00.000000000",
                    "2024-12-01T00:00:00.000000000"
                  ],
                  "y": [
                    16.214763539224194,
                    11.50081305717404,
                    10.747750033985515,
                    10.967214069519914,
                    11.301033855683935,
                    11.50675837651441,
                    11.240982076129269,
                    10.99509605189297,
                    12.14665085054689,
                    12.600596430118408,
                    13.000515144930015,
                    14.364605310169305,
                    14.236164688676144,
                    14.761487357587162,
                    14.761886967492044,
                    15.14359134501428,
                    14.410209607866232,
                    15.451024504087313,
                    15.36138150781766,
                    15.588142981248229,
                    17.065052285574094,
                    18.06155750906033,
                    17.841909478125782,
                    18.05480018412292,
                    17.669845094648576,
                    18.185187308725563,
                    17.950453785779263,
                    18.729090799185194,
                    18.081350208384745,
                    19.56274308315385,
                    18.885640415734603,
                    19.793114608531845,
                    19.759887562699213,
                    20.337163673447794,
                    20.63169704718812,
                    20.218297179083624,
                    19.640453178247334,
                    20.274882787563254,
                    20.424304598098384,
                    19.631902149191486,
                    19.974011964303227,
                    20.77808414973822,
                    22.082711271518505,
                    24.09753919330329,
                    24.508796528561742,
                    24.61146428133453,
                    24.586285364643953,
                    24.81857492401945,
                    24.285880826912887,
                    25.163916993285326,
                    25.164493190057506,
                    31.586773731311002,
                    30.04770398432218,
                    28.70785063666342,
                    26.893340847344078,
                    27.74223470570267,
                    28.791763634418853,
                    28.10866990685818,
                    27.537725064250072,
                    27.093181900417818,
                    25.655236468392513,
                    27.276362168033607,
                    26.2061040320222,
                    28.22230211244873,
                    26.450315791316513,
                    26.571615780316336,
                    28.131499613846472,
                    29.40814456535118,
                    30.03777349027119,
                    29.98090772016616,
                    29.082972686148715,
                    27.125681540080386,
                    20.50091788014112,
                    27.461225650517765,
                    28.686628966228405,
                    28.656692341815543,
                    27.09992907510253,
                    25.453157857291124,
                    25.487032246085946,
                    26.949134176379925,
                    29.74795136807938,
                    29.17274461050485,
                    28.436756672617342,
                    28.67752865677373,
                    29.80827743003414,
                    30.714038739391953,
                    29.41020297275323,
                    29.089856244683215,
                    29.721212779513397,
                    30.519215021874267,
                    31.195245406092614,
                    32.408510612327895,
                    33.153697014146786,
                    32.608724856068434,
                    32.36564873933189,
                    32.43238065832724,
                    32.223857394218086,
                    30.759512116085055,
                    28.157161333648816,
                    29.068986571894232,
                    30.5624130123724,
                    31.575337443150843,
                    32.59123306696037,
                    33.70667079457516,
                    33.542262834221226,
                    33.40932597857896,
                    33.451133476929996,
                    32.50169407996058
                  ]
                },
                {
                  "line": {
                    "color": "black",
                    "dash": "dot"
                  },
                  "mode": "lines",
                  "name": "Baseline",
                  "type": "scatter",
                  "x": [
                    "2016-01-01T00:00:00.000000000",
                    "2016-02-01T00:00:00.000000000",
                    "2016-03-01T00:00:00.000000000",
                    "2016-04-01T00:00:00.000000000",
                    "2016-05-01T00:00:00.000000000",
                    "2016-06-01T00:00:00.000000000",
                    "2016-07-01T00:00:00.000000000",
                    "2016-08-01T00:00:00.000000000",
                    "2016-09-01T00:00:00.000000000",
                    "2016-10-01T00:00:00.000000000",
                    "2016-11-01T00:00:00.000000000",
                    "2016-12-01T00:00:00.000000000",
                    "2017-01-01T00:00:00.000000000",
                    "2017-02-01T00:00:00.000000000",
                    "2017-03-01T00:00:00.000000000",
                    "2017-04-01T00:00:00.000000000",
                    "2017-05-01T00:00:00.000000000",
                    "2017-06-01T00:00:00.000000000",
                    "2017-07-01T00:00:00.000000000",
                    "2017-08-01T00:00:00.000000000",
                    "2017-09-01T00:00:00.000000000",
                    "2017-10-01T00:00:00.000000000",
                    "2017-11-01T00:00:00.000000000",
                    "2017-12-01T00:00:00.000000000",
                    "2018-01-01T00:00:00.000000000",
                    "2018-02-01T00:00:00.000000000",
                    "2018-03-01T00:00:00.000000000",
                    "2018-04-01T00:00:00.000000000",
                    "2018-05-01T00:00:00.000000000",
                    "2018-06-01T00:00:00.000000000",
                    "2018-07-01T00:00:00.000000000",
                    "2018-08-01T00:00:00.000000000",
                    "2018-09-01T00:00:00.000000000",
                    "2018-10-01T00:00:00.000000000",
                    "2018-11-01T00:00:00.000000000",
                    "2018-12-01T00:00:00.000000000",
                    "2019-01-01T00:00:00.000000000",
                    "2019-02-01T00:00:00.000000000",
                    "2019-03-01T00:00:00.000000000",
                    "2019-04-01T00:00:00.000000000",
                    "2019-05-01T00:00:00.000000000",
                    "2019-06-01T00:00:00.000000000",
                    "2019-07-01T00:00:00.000000000",
                    "2019-08-01T00:00:00.000000000",
                    "2019-09-01T00:00:00.000000000",
                    "2019-10-01T00:00:00.000000000",
                    "2019-11-01T00:00:00.000000000",
                    "2019-12-01T00:00:00.000000000",
                    "2020-01-01T00:00:00.000000000",
                    "2020-02-01T00:00:00.000000000",
                    "2020-03-01T00:00:00.000000000",
                    "2020-04-01T00:00:00.000000000",
                    "2020-05-01T00:00:00.000000000",
                    "2020-06-01T00:00:00.000000000",
                    "2020-07-01T00:00:00.000000000",
                    "2020-08-01T00:00:00.000000000",
                    "2020-09-01T00:00:00.000000000",
                    "2020-10-01T00:00:00.000000000",
                    "2020-11-01T00:00:00.000000000",
                    "2020-12-01T00:00:00.000000000",
                    "2021-01-01T00:00:00.000000000",
                    "2021-02-01T00:00:00.000000000",
                    "2021-03-01T00:00:00.000000000",
                    "2021-04-01T00:00:00.000000000",
                    "2021-05-01T00:00:00.000000000",
                    "2021-06-01T00:00:00.000000000",
                    "2021-07-01T00:00:00.000000000",
                    "2021-08-01T00:00:00.000000000",
                    "2021-09-01T00:00:00.000000000",
                    "2021-10-01T00:00:00.000000000",
                    "2021-11-01T00:00:00.000000000",
                    "2021-12-01T00:00:00.000000000",
                    "2022-01-01T00:00:00.000000000",
                    "2022-02-01T00:00:00.000000000",
                    "2022-03-01T00:00:00.000000000",
                    "2022-04-01T00:00:00.000000000",
                    "2022-05-01T00:00:00.000000000",
                    "2022-06-01T00:00:00.000000000",
                    "2022-07-01T00:00:00.000000000",
                    "2022-08-01T00:00:00.000000000",
                    "2022-09-01T00:00:00.000000000",
                    "2022-10-01T00:00:00.000000000",
                    "2022-11-01T00:00:00.000000000",
                    "2022-12-01T00:00:00.000000000",
                    "2023-01-01T00:00:00.000000000",
                    "2023-02-01T00:00:00.000000000",
                    "2023-03-01T00:00:00.000000000",
                    "2023-04-01T00:00:00.000000000",
                    "2023-05-01T00:00:00.000000000",
                    "2023-06-01T00:00:00.000000000",
                    "2023-07-01T00:00:00.000000000",
                    "2023-08-01T00:00:00.000000000",
                    "2023-09-01T00:00:00.000000000",
                    "2023-10-01T00:00:00.000000000",
                    "2023-11-01T00:00:00.000000000",
                    "2023-12-01T00:00:00.000000000",
                    "2024-01-01T00:00:00.000000000",
                    "2024-02-01T00:00:00.000000000",
                    "2024-03-01T00:00:00.000000000",
                    "2024-04-01T00:00:00.000000000",
                    "2024-05-01T00:00:00.000000000",
                    "2024-06-01T00:00:00.000000000",
                    "2024-07-01T00:00:00.000000000",
                    "2024-08-01T00:00:00.000000000",
                    "2024-09-01T00:00:00.000000000",
                    "2024-10-01T00:00:00.000000000",
                    "2024-11-01T00:00:00.000000000",
                    "2024-12-01T00:00:00.000000000"
                  ],
                  "y": [
                    10.034581872365402,
                    10.333366846102443,
                    10.632151819839482,
                    10.930936793576523,
                    11.229721767313562,
                    11.528506741050602,
                    11.827291714787641,
                    12.126076688524682,
                    12.424861662261721,
                    12.723646635998762,
                    13.0224316097358,
                    13.32121658347284,
                    13.62000155720988,
                    13.918786530946921,
                    14.21757150468396,
                    14.516356478420999,
                    14.81514145215804,
                    15.11392642589508,
                    15.41271139963212,
                    15.711496373369158,
                    16.0102813471062,
                    16.30906632084324,
                    16.60785129458028,
                    16.906636268317317,
                    17.205421242054356,
                    17.5042062157914,
                    17.802991189528438,
                    18.101776163265477,
                    18.40056113700252,
                    18.699346110739555,
                    18.998131084476597,
                    19.296916058213636,
                    19.595701031950675,
                    19.894486005687718,
                    20.193270979424753,
                    20.492055953161795,
                    20.790840926898834,
                    21.089625900635873,
                    21.388410874372916,
                    21.687195848109955,
                    21.985980821846994,
                    22.284765795584036,
                    22.58355076932107,
                    22.882335743058114,
                    23.181120716795153,
                    23.479905690532192,
                    23.778690664269234,
                    24.07747563800627,
                    24.376260611743312,
                    24.67504558548035,
                    24.97383055921739,
                    25.272615532954433,
                    25.57140050669147,
                    25.87018548042851,
                    26.168970454165553,
                    26.46775542790259,
                    26.76654040163963,
                    27.065325375376673,
                    27.36411034911371,
                    27.66289532285075,
                    27.961680296587787,
                    28.26046527032483,
                    28.55925024406187,
                    28.858035217798907,
                    29.15682019153595,
                    29.455605165272985,
                    29.754390139010027,
                    30.05317511274707,
                    30.351960086484105,
                    30.650745060221148,
                    30.94953003395819,
                    31.248315007695226,
                    31.547099981432268,
                    31.845884955169304,
                    32.144669928906346,
                    32.44345490264339,
                    32.742239876380424,
                    33.041024850117466,
                    33.33980982385451,
                    33.638594797591544,
                    33.93737977132859,
                    34.23616474506562,
                    34.534949718802665,
                    34.83373469253971,
                    35.13251966627674,
                    35.431304640013785,
                    35.73008961375082,
                    36.02887458748786,
                    36.327659561224905,
                    36.62644453496194,
                    36.92522950869898,
                    37.224014482436026,
                    37.52279945617306,
                    37.821584429910104,
                    38.12036940364714,
                    38.41915437738418,
                    38.717939351121224,
                    39.01672432485826,
                    39.3155092985953,
                    39.61429427233234,
                    39.91307924606938,
                    40.21186421980642,
                    40.51064919354346,
                    40.8094341672805,
                    41.10821914101754,
                    41.40700411475458,
                    41.70578908849162,
                    42.00457406222866
                  ]
                },
                {
                  "line": {
                    "color": "purple"
                  },
                  "mode": "lines",
                  "name": "Full model",
                  "type": "scatter",
                  "x": [
                    "2016-01-01T00:00:00.000000000",
                    "2016-02-01T00:00:00.000000000",
                    "2016-03-01T00:00:00.000000000",
                    "2016-04-01T00:00:00.000000000",
                    "2016-05-01T00:00:00.000000000",
                    "2016-06-01T00:00:00.000000000",
                    "2016-07-01T00:00:00.000000000",
                    "2016-08-01T00:00:00.000000000",
                    "2016-09-01T00:00:00.000000000",
                    "2016-10-01T00:00:00.000000000",
                    "2016-11-01T00:00:00.000000000",
                    "2016-12-01T00:00:00.000000000",
                    "2017-01-01T00:00:00.000000000",
                    "2017-02-01T00:00:00.000000000",
                    "2017-03-01T00:00:00.000000000",
                    "2017-04-01T00:00:00.000000000",
                    "2017-05-01T00:00:00.000000000",
                    "2017-06-01T00:00:00.000000000",
                    "2017-07-01T00:00:00.000000000",
                    "2017-08-01T00:00:00.000000000",
                    "2017-09-01T00:00:00.000000000",
                    "2017-10-01T00:00:00.000000000",
                    "2017-11-01T00:00:00.000000000",
                    "2017-12-01T00:00:00.000000000",
                    "2018-01-01T00:00:00.000000000",
                    "2018-02-01T00:00:00.000000000",
                    "2018-03-01T00:00:00.000000000",
                    "2018-04-01T00:00:00.000000000",
                    "2018-05-01T00:00:00.000000000",
                    "2018-06-01T00:00:00.000000000",
                    "2018-07-01T00:00:00.000000000",
                    "2018-08-01T00:00:00.000000000",
                    "2018-09-01T00:00:00.000000000",
                    "2018-10-01T00:00:00.000000000",
                    "2018-11-01T00:00:00.000000000",
                    "2018-12-01T00:00:00.000000000",
                    "2019-01-01T00:00:00.000000000",
                    "2019-02-01T00:00:00.000000000",
                    "2019-03-01T00:00:00.000000000",
                    "2019-04-01T00:00:00.000000000",
                    "2019-05-01T00:00:00.000000000",
                    "2019-06-01T00:00:00.000000000",
                    "2019-07-01T00:00:00.000000000",
                    "2019-08-01T00:00:00.000000000",
                    "2019-09-01T00:00:00.000000000",
                    "2019-10-01T00:00:00.000000000",
                    "2019-11-01T00:00:00.000000000",
                    "2019-12-01T00:00:00.000000000",
                    "2020-01-01T00:00:00.000000000",
                    "2020-02-01T00:00:00.000000000",
                    "2020-03-01T00:00:00.000000000",
                    "2020-04-01T00:00:00.000000000",
                    "2020-05-01T00:00:00.000000000",
                    "2020-06-01T00:00:00.000000000",
                    "2020-07-01T00:00:00.000000000",
                    "2020-08-01T00:00:00.000000000",
                    "2020-09-01T00:00:00.000000000",
                    "2020-10-01T00:00:00.000000000",
                    "2020-11-01T00:00:00.000000000",
                    "2020-12-01T00:00:00.000000000",
                    "2021-01-01T00:00:00.000000000",
                    "2021-02-01T00:00:00.000000000",
                    "2021-03-01T00:00:00.000000000",
                    "2021-04-01T00:00:00.000000000",
                    "2021-05-01T00:00:00.000000000",
                    "2021-06-01T00:00:00.000000000",
                    "2021-07-01T00:00:00.000000000",
                    "2021-08-01T00:00:00.000000000",
                    "2021-09-01T00:00:00.000000000",
                    "2021-10-01T00:00:00.000000000",
                    "2021-11-01T00:00:00.000000000",
                    "2021-12-01T00:00:00.000000000",
                    "2022-01-01T00:00:00.000000000",
                    "2022-02-01T00:00:00.000000000",
                    "2022-03-01T00:00:00.000000000",
                    "2022-04-01T00:00:00.000000000",
                    "2022-05-01T00:00:00.000000000",
                    "2022-06-01T00:00:00.000000000",
                    "2022-07-01T00:00:00.000000000",
                    "2022-08-01T00:00:00.000000000",
                    "2022-09-01T00:00:00.000000000",
                    "2022-10-01T00:00:00.000000000",
                    "2022-11-01T00:00:00.000000000",
                    "2022-12-01T00:00:00.000000000",
                    "2023-01-01T00:00:00.000000000",
                    "2023-02-01T00:00:00.000000000",
                    "2023-03-01T00:00:00.000000000",
                    "2023-04-01T00:00:00.000000000",
                    "2023-05-01T00:00:00.000000000",
                    "2023-06-01T00:00:00.000000000",
                    "2023-07-01T00:00:00.000000000",
                    "2023-08-01T00:00:00.000000000",
                    "2023-09-01T00:00:00.000000000",
                    "2023-10-01T00:00:00.000000000",
                    "2023-11-01T00:00:00.000000000",
                    "2023-12-01T00:00:00.000000000",
                    "2024-01-01T00:00:00.000000000",
                    "2024-02-01T00:00:00.000000000",
                    "2024-03-01T00:00:00.000000000",
                    "2024-04-01T00:00:00.000000000",
                    "2024-05-01T00:00:00.000000000",
                    "2024-06-01T00:00:00.000000000",
                    "2024-07-01T00:00:00.000000000",
                    "2024-08-01T00:00:00.000000000",
                    "2024-09-01T00:00:00.000000000",
                    "2024-10-01T00:00:00.000000000",
                    "2024-11-01T00:00:00.000000000",
                    "2024-12-01T00:00:00.000000000"
                  ],
                  "y": [
                    10.034581872365402,
                    10.333366846102443,
                    10.632151819839482,
                    10.930936793576523,
                    11.229721767313562,
                    11.528506741050602,
                    11.827291714787641,
                    12.126076688524682,
                    12.424861662261721,
                    12.723646635998762,
                    13.0224316097358,
                    13.32121658347284,
                    13.62000155720988,
                    13.918786530946921,
                    14.21757150468396,
                    14.516356478420999,
                    14.81514145215804,
                    15.11392642589508,
                    15.41271139963212,
                    15.711496373369158,
                    16.0102813471062,
                    16.30906632084324,
                    16.60785129458028,
                    16.906636268317317,
                    17.205421242054356,
                    17.5042062157914,
                    17.802991189528438,
                    18.101776163265477,
                    18.40056113700252,
                    18.699346110739555,
                    18.998131084476597,
                    19.296916058213636,
                    19.595701031950675,
                    19.894486005687718,
                    20.193270979424753,
                    20.492055953161795,
                    20.790840926898834,
                    21.089625900635873,
                    21.388410874372916,
                    21.687195848109955,
                    21.985980821846994,
                    22.284765795584036,
                    22.58355076932107,
                    22.882335743058114,
                    23.181120716795153,
                    23.479905690532192,
                    23.778690664269234,
                    24.07747563800627,
                    24.376260611743312,
                    24.67504558548035,
                    24.97383055921739,
                    29.17549967794339,
                    29.075686049474584,
                    28.975872421005782,
                    28.87605879253698,
                    28.776245164068175,
                    28.676431535599377,
                    28.576617907130576,
                    28.47680427866177,
                    28.37699065019297,
                    28.277177021724164,
                    28.177363393255362,
                    28.077549764786564,
                    27.97773613631776,
                    27.877922507848957,
                    27.778108879380152,
                    27.678295250911354,
                    27.578481622442553,
                    27.478667993973747,
                    27.378854365504946,
                    27.279040737036148,
                    27.17922710856734,
                    27.07941348009854,
                    26.979599851629736,
                    26.879786223160934,
                    27.382865571618108,
                    27.571001355554937,
                    27.759137139491774,
                    27.94727292342861,
                    28.13540870736544,
                    28.323544491302275,
                    28.511680275239105,
                    28.69981605917594,
                    28.887951843112777,
                    29.076087627049606,
                    29.264223410986443,
                    29.45235919492327,
                    29.640494978860108,
                    29.828630762796944,
                    30.016766546733773,
                    30.20490233067061,
                    30.393038114607442,
                    30.58117389854428,
                    30.769309682481115,
                    30.957445466417937,
                    31.145581250354773,
                    31.33371703429161,
                    31.521852818228446,
                    31.709988602165282,
                    31.898124386102104,
                    32.08626017003894,
                    32.27439595397578,
                    32.46253173791261,
                    32.65066752184945,
                    32.838803305786286,
                    33.02693908972311,
                    33.215074873659944,
                    33.40321065759678
                  ]
                }
              ],
              "layout": {
                "annotations": [
                  {
                    "arrowhead": 2,
                    "ax": 30,
                    "ay": -40,
                    "showarrow": true,
                    "text": "Pandemia",
                    "x": "2020-04-01",
                    "y": 33.70667079457516
                  },
                  {
                    "arrowhead": 2,
                    "ax": 30,
                    "ay": -40,
                    "showarrow": true,
                    "text": "Pos Pandemia",
                    "x": "2022-04-01",
                    "y": 33.70667079457516
                  }
                ],
                "legend": {
                  "title": {
                    "text": "Legend"
                  }
                },
                "shapes": [
                  {
                    "line": {
                      "color": "black",
                      "dash": "dash"
                    },
                    "type": "line",
                    "x0": "2020-04-01",
                    "x1": "2020-04-01",
                    "y0": 10.747750033985515,
                    "y1": 33.70667079457516
                  },
                  {
                    "line": {
                      "color": "black",
                      "dash": "dash"
                    },
                    "type": "line",
                    "x0": "2022-04-01",
                    "x1": "2022-04-01",
                    "y0": 10.747750033985515,
                    "y1": 33.70667079457516
                  }
                ],
                "template": {
                  "data": {
                    "bar": [
                      {
                        "error_x": {
                          "color": "#2a3f5f"
                        },
                        "error_y": {
                          "color": "#2a3f5f"
                        },
                        "marker": {
                          "line": {
                            "color": "#E5ECF6",
                            "width": 0.5
                          },
                          "pattern": {
                            "fillmode": "overlay",
                            "size": 10,
                            "solidity": 0.2
                          }
                        },
                        "type": "bar"
                      }
                    ],
                    "barpolar": [
                      {
                        "marker": {
                          "line": {
                            "color": "#E5ECF6",
                            "width": 0.5
                          },
                          "pattern": {
                            "fillmode": "overlay",
                            "size": 10,
                            "solidity": 0.2
                          }
                        },
                        "type": "barpolar"
                      }
                    ],
                    "carpet": [
                      {
                        "aaxis": {
                          "endlinecolor": "#2a3f5f",
                          "gridcolor": "white",
                          "linecolor": "white",
                          "minorgridcolor": "white",
                          "startlinecolor": "#2a3f5f"
                        },
                        "baxis": {
                          "endlinecolor": "#2a3f5f",
                          "gridcolor": "white",
                          "linecolor": "white",
                          "minorgridcolor": "white",
                          "startlinecolor": "#2a3f5f"
                        },
                        "type": "carpet"
                      }
                    ],
                    "choropleth": [
                      {
                        "colorbar": {
                          "outlinewidth": 0,
                          "ticks": ""
                        },
                        "type": "choropleth"
                      }
                    ],
                    "contour": [
                      {
                        "colorbar": {
                          "outlinewidth": 0,
                          "ticks": ""
                        },
                        "colorscale": [
                          [
                            0,
                            "#0d0887"
                          ],
                          [
                            0.1111111111111111,
                            "#46039f"
                          ],
                          [
                            0.2222222222222222,
                            "#7201a8"
                          ],
                          [
                            0.3333333333333333,
                            "#9c179e"
                          ],
                          [
                            0.4444444444444444,
                            "#bd3786"
                          ],
                          [
                            0.5555555555555556,
                            "#d8576b"
                          ],
                          [
                            0.6666666666666666,
                            "#ed7953"
                          ],
                          [
                            0.7777777777777778,
                            "#fb9f3a"
                          ],
                          [
                            0.8888888888888888,
                            "#fdca26"
                          ],
                          [
                            1,
                            "#f0f921"
                          ]
                        ],
                        "type": "contour"
                      }
                    ],
                    "contourcarpet": [
                      {
                        "colorbar": {
                          "outlinewidth": 0,
                          "ticks": ""
                        },
                        "type": "contourcarpet"
                      }
                    ],
                    "heatmap": [
                      {
                        "colorbar": {
                          "outlinewidth": 0,
                          "ticks": ""
                        },
                        "colorscale": [
                          [
                            0,
                            "#0d0887"
                          ],
                          [
                            0.1111111111111111,
                            "#46039f"
                          ],
                          [
                            0.2222222222222222,
                            "#7201a8"
                          ],
                          [
                            0.3333333333333333,
                            "#9c179e"
                          ],
                          [
                            0.4444444444444444,
                            "#bd3786"
                          ],
                          [
                            0.5555555555555556,
                            "#d8576b"
                          ],
                          [
                            0.6666666666666666,
                            "#ed7953"
                          ],
                          [
                            0.7777777777777778,
                            "#fb9f3a"
                          ],
                          [
                            0.8888888888888888,
                            "#fdca26"
                          ],
                          [
                            1,
                            "#f0f921"
                          ]
                        ],
                        "type": "heatmap"
                      }
                    ],
                    "heatmapgl": [
                      {
                        "colorbar": {
                          "outlinewidth": 0,
                          "ticks": ""
                        },
                        "colorscale": [
                          [
                            0,
                            "#0d0887"
                          ],
                          [
                            0.1111111111111111,
                            "#46039f"
                          ],
                          [
                            0.2222222222222222,
                            "#7201a8"
                          ],
                          [
                            0.3333333333333333,
                            "#9c179e"
                          ],
                          [
                            0.4444444444444444,
                            "#bd3786"
                          ],
                          [
                            0.5555555555555556,
                            "#d8576b"
                          ],
                          [
                            0.6666666666666666,
                            "#ed7953"
                          ],
                          [
                            0.7777777777777778,
                            "#fb9f3a"
                          ],
                          [
                            0.8888888888888888,
                            "#fdca26"
                          ],
                          [
                            1,
                            "#f0f921"
                          ]
                        ],
                        "type": "heatmapgl"
                      }
                    ],
                    "histogram": [
                      {
                        "marker": {
                          "pattern": {
                            "fillmode": "overlay",
                            "size": 10,
                            "solidity": 0.2
                          }
                        },
                        "type": "histogram"
                      }
                    ],
                    "histogram2d": [
                      {
                        "colorbar": {
                          "outlinewidth": 0,
                          "ticks": ""
                        },
                        "colorscale": [
                          [
                            0,
                            "#0d0887"
                          ],
                          [
                            0.1111111111111111,
                            "#46039f"
                          ],
                          [
                            0.2222222222222222,
                            "#7201a8"
                          ],
                          [
                            0.3333333333333333,
                            "#9c179e"
                          ],
                          [
                            0.4444444444444444,
                            "#bd3786"
                          ],
                          [
                            0.5555555555555556,
                            "#d8576b"
                          ],
                          [
                            0.6666666666666666,
                            "#ed7953"
                          ],
                          [
                            0.7777777777777778,
                            "#fb9f3a"
                          ],
                          [
                            0.8888888888888888,
                            "#fdca26"
                          ],
                          [
                            1,
                            "#f0f921"
                          ]
                        ],
                        "type": "histogram2d"
                      }
                    ],
                    "histogram2dcontour": [
                      {
                        "colorbar": {
                          "outlinewidth": 0,
                          "ticks": ""
                        },
                        "colorscale": [
                          [
                            0,
                            "#0d0887"
                          ],
                          [
                            0.1111111111111111,
                            "#46039f"
                          ],
                          [
                            0.2222222222222222,
                            "#7201a8"
                          ],
                          [
                            0.3333333333333333,
                            "#9c179e"
                          ],
                          [
                            0.4444444444444444,
                            "#bd3786"
                          ],
                          [
                            0.5555555555555556,
                            "#d8576b"
                          ],
                          [
                            0.6666666666666666,
                            "#ed7953"
                          ],
                          [
                            0.7777777777777778,
                            "#fb9f3a"
                          ],
                          [
                            0.8888888888888888,
                            "#fdca26"
                          ],
                          [
                            1,
                            "#f0f921"
                          ]
                        ],
                        "type": "histogram2dcontour"
                      }
                    ],
                    "mesh3d": [
                      {
                        "colorbar": {
                          "outlinewidth": 0,
                          "ticks": ""
                        },
                        "type": "mesh3d"
                      }
                    ],
                    "parcoords": [
                      {
                        "line": {
                          "colorbar": {
                            "outlinewidth": 0,
                            "ticks": ""
                          }
                        },
                        "type": "parcoords"
                      }
                    ],
                    "pie": [
                      {
                        "automargin": true,
                        "type": "pie"
                      }
                    ],
                    "scatter": [
                      {
                        "fillpattern": {
                          "fillmode": "overlay",
                          "size": 10,
                          "solidity": 0.2
                        },
                        "type": "scatter"
                      }
                    ],
                    "scatter3d": [
                      {
                        "line": {
                          "colorbar": {
                            "outlinewidth": 0,
                            "ticks": ""
                          }
                        },
                        "marker": {
                          "colorbar": {
                            "outlinewidth": 0,
                            "ticks": ""
                          }
                        },
                        "type": "scatter3d"
                      }
                    ],
                    "scattercarpet": [
                      {
                        "marker": {
                          "colorbar": {
                            "outlinewidth": 0,
                            "ticks": ""
                          }
                        },
                        "type": "scattercarpet"
                      }
                    ],
                    "scattergeo": [
                      {
                        "marker": {
                          "colorbar": {
                            "outlinewidth": 0,
                            "ticks": ""
                          }
                        },
                        "type": "scattergeo"
                      }
                    ],
                    "scattergl": [
                      {
                        "marker": {
                          "colorbar": {
                            "outlinewidth": 0,
                            "ticks": ""
                          }
                        },
                        "type": "scattergl"
                      }
                    ],
                    "scattermapbox": [
                      {
                        "marker": {
                          "colorbar": {
                            "outlinewidth": 0,
                            "ticks": ""
                          }
                        },
                        "type": "scattermapbox"
                      }
                    ],
                    "scatterpolar": [
                      {
                        "marker": {
                          "colorbar": {
                            "outlinewidth": 0,
                            "ticks": ""
                          }
                        },
                        "type": "scatterpolar"
                      }
                    ],
                    "scatterpolargl": [
                      {
                        "marker": {
                          "colorbar": {
                            "outlinewidth": 0,
                            "ticks": ""
                          }
                        },
                        "type": "scatterpolargl"
                      }
                    ],
                    "scatterternary": [
                      {
                        "marker": {
                          "colorbar": {
                            "outlinewidth": 0,
                            "ticks": ""
                          }
                        },
                        "type": "scatterternary"
                      }
                    ],
                    "surface": [
                      {
                        "colorbar": {
                          "outlinewidth": 0,
                          "ticks": ""
                        },
                        "colorscale": [
                          [
                            0,
                            "#0d0887"
                          ],
                          [
                            0.1111111111111111,
                            "#46039f"
                          ],
                          [
                            0.2222222222222222,
                            "#7201a8"
                          ],
                          [
                            0.3333333333333333,
                            "#9c179e"
                          ],
                          [
                            0.4444444444444444,
                            "#bd3786"
                          ],
                          [
                            0.5555555555555556,
                            "#d8576b"
                          ],
                          [
                            0.6666666666666666,
                            "#ed7953"
                          ],
                          [
                            0.7777777777777778,
                            "#fb9f3a"
                          ],
                          [
                            0.8888888888888888,
                            "#fdca26"
                          ],
                          [
                            1,
                            "#f0f921"
                          ]
                        ],
                        "type": "surface"
                      }
                    ],
                    "table": [
                      {
                        "cells": {
                          "fill": {
                            "color": "#EBF0F8"
                          },
                          "line": {
                            "color": "white"
                          }
                        },
                        "header": {
                          "fill": {
                            "color": "#C8D4E3"
                          },
                          "line": {
                            "color": "white"
                          }
                        },
                        "type": "table"
                      }
                    ]
                  },
                  "layout": {
                    "annotationdefaults": {
                      "arrowcolor": "#2a3f5f",
                      "arrowhead": 0,
                      "arrowwidth": 1
                    },
                    "autotypenumbers": "strict",
                    "coloraxis": {
                      "colorbar": {
                        "outlinewidth": 0,
                        "ticks": ""
                      }
                    },
                    "colorscale": {
                      "diverging": [
                        [
                          0,
                          "#8e0152"
                        ],
                        [
                          0.1,
                          "#c51b7d"
                        ],
                        [
                          0.2,
                          "#de77ae"
                        ],
                        [
                          0.3,
                          "#f1b6da"
                        ],
                        [
                          0.4,
                          "#fde0ef"
                        ],
                        [
                          0.5,
                          "#f7f7f7"
                        ],
                        [
                          0.6,
                          "#e6f5d0"
                        ],
                        [
                          0.7,
                          "#b8e186"
                        ],
                        [
                          0.8,
                          "#7fbc41"
                        ],
                        [
                          0.9,
                          "#4d9221"
                        ],
                        [
                          1,
                          "#276419"
                        ]
                      ],
                      "sequential": [
                        [
                          0,
                          "#0d0887"
                        ],
                        [
                          0.1111111111111111,
                          "#46039f"
                        ],
                        [
                          0.2222222222222222,
                          "#7201a8"
                        ],
                        [
                          0.3333333333333333,
                          "#9c179e"
                        ],
                        [
                          0.4444444444444444,
                          "#bd3786"
                        ],
                        [
                          0.5555555555555556,
                          "#d8576b"
                        ],
                        [
                          0.6666666666666666,
                          "#ed7953"
                        ],
                        [
                          0.7777777777777778,
                          "#fb9f3a"
                        ],
                        [
                          0.8888888888888888,
                          "#fdca26"
                        ],
                        [
                          1,
                          "#f0f921"
                        ]
                      ],
                      "sequentialminus": [
                        [
                          0,
                          "#0d0887"
                        ],
                        [
                          0.1111111111111111,
                          "#46039f"
                        ],
                        [
                          0.2222222222222222,
                          "#7201a8"
                        ],
                        [
                          0.3333333333333333,
                          "#9c179e"
                        ],
                        [
                          0.4444444444444444,
                          "#bd3786"
                        ],
                        [
                          0.5555555555555556,
                          "#d8576b"
                        ],
                        [
                          0.6666666666666666,
                          "#ed7953"
                        ],
                        [
                          0.7777777777777778,
                          "#fb9f3a"
                        ],
                        [
                          0.8888888888888888,
                          "#fdca26"
                        ],
                        [
                          1,
                          "#f0f921"
                        ]
                      ]
                    },
                    "colorway": [
                      "#636efa",
                      "#EF553B",
                      "#00cc96",
                      "#ab63fa",
                      "#FFA15A",
                      "#19d3f3",
                      "#FF6692",
                      "#B6E880",
                      "#FF97FF",
                      "#FECB52"
                    ],
                    "font": {
                      "color": "#2a3f5f"
                    },
                    "geo": {
                      "bgcolor": "white",
                      "lakecolor": "white",
                      "landcolor": "#E5ECF6",
                      "showlakes": true,
                      "showland": true,
                      "subunitcolor": "white"
                    },
                    "hoverlabel": {
                      "align": "left"
                    },
                    "hovermode": "closest",
                    "mapbox": {
                      "style": "light"
                    },
                    "paper_bgcolor": "white",
                    "plot_bgcolor": "#E5ECF6",
                    "polar": {
                      "angularaxis": {
                        "gridcolor": "white",
                        "linecolor": "white",
                        "ticks": ""
                      },
                      "bgcolor": "#E5ECF6",
                      "radialaxis": {
                        "gridcolor": "white",
                        "linecolor": "white",
                        "ticks": ""
                      }
                    },
                    "scene": {
                      "xaxis": {
                        "backgroundcolor": "#E5ECF6",
                        "gridcolor": "white",
                        "gridwidth": 2,
                        "linecolor": "white",
                        "showbackground": true,
                        "ticks": "",
                        "zerolinecolor": "white"
                      },
                      "yaxis": {
                        "backgroundcolor": "#E5ECF6",
                        "gridcolor": "white",
                        "gridwidth": 2,
                        "linecolor": "white",
                        "showbackground": true,
                        "ticks": "",
                        "zerolinecolor": "white"
                      },
                      "zaxis": {
                        "backgroundcolor": "#E5ECF6",
                        "gridcolor": "white",
                        "gridwidth": 2,
                        "linecolor": "white",
                        "showbackground": true,
                        "ticks": "",
                        "zerolinecolor": "white"
                      }
                    },
                    "shapedefaults": {
                      "line": {
                        "color": "#2a3f5f"
                      }
                    },
                    "ternary": {
                      "aaxis": {
                        "gridcolor": "white",
                        "linecolor": "white",
                        "ticks": ""
                      },
                      "baxis": {
                        "gridcolor": "white",
                        "linecolor": "white",
                        "ticks": ""
                      },
                      "bgcolor": "#E5ECF6",
                      "caxis": {
                        "gridcolor": "white",
                        "linecolor": "white",
                        "ticks": ""
                      }
                    },
                    "title": {
                      "x": 0.05
                    },
                    "xaxis": {
                      "automargin": true,
                      "gridcolor": "white",
                      "linecolor": "white",
                      "ticks": "",
                      "title": {
                        "standoff": 15
                      },
                      "zerolinecolor": "white",
                      "zerolinewidth": 2
                    },
                    "yaxis": {
                      "automargin": true,
                      "gridcolor": "white",
                      "linecolor": "white",
                      "ticks": "",
                      "title": {
                        "standoff": 15
                      },
                      "zerolinecolor": "white",
                      "zerolinewidth": 2
                    }
                  }
                },
                "title": {
                  "text": "sudeste"
                },
                "xaxis": {
                  "title": {
                    "text": "Time"
                  }
                },
                "yaxis": {
                  "title": {
                    "text": "Value"
                  }
                }
              }
            }
          },
          "metadata": {},
          "output_type": "display_data"
        },
        {
          "data": {
            "application/vnd.plotly.v1+json": {
              "config": {
                "plotlyServerURL": "https://plot.ly"
              },
              "data": [
                {
                  "marker": {
                    "color": "black"
                  },
                  "mode": "markers",
                  "name": "Real",
                  "type": "scatter",
                  "x": [
                    "2016-01-01T00:00:00.000000000",
                    "2016-02-01T00:00:00.000000000",
                    "2016-03-01T00:00:00.000000000",
                    "2016-04-01T00:00:00.000000000",
                    "2016-05-01T00:00:00.000000000",
                    "2016-06-01T00:00:00.000000000",
                    "2016-07-01T00:00:00.000000000",
                    "2016-08-01T00:00:00.000000000",
                    "2016-09-01T00:00:00.000000000",
                    "2016-10-01T00:00:00.000000000",
                    "2016-11-01T00:00:00.000000000",
                    "2016-12-01T00:00:00.000000000",
                    "2017-01-01T00:00:00.000000000",
                    "2017-02-01T00:00:00.000000000",
                    "2017-03-01T00:00:00.000000000",
                    "2017-04-01T00:00:00.000000000",
                    "2017-05-01T00:00:00.000000000",
                    "2017-06-01T00:00:00.000000000",
                    "2017-07-01T00:00:00.000000000",
                    "2017-08-01T00:00:00.000000000",
                    "2017-09-01T00:00:00.000000000",
                    "2017-10-01T00:00:00.000000000",
                    "2017-11-01T00:00:00.000000000",
                    "2017-12-01T00:00:00.000000000",
                    "2018-01-01T00:00:00.000000000",
                    "2018-02-01T00:00:00.000000000",
                    "2018-03-01T00:00:00.000000000",
                    "2018-04-01T00:00:00.000000000",
                    "2018-05-01T00:00:00.000000000",
                    "2018-06-01T00:00:00.000000000",
                    "2018-07-01T00:00:00.000000000",
                    "2018-08-01T00:00:00.000000000",
                    "2018-09-01T00:00:00.000000000",
                    "2018-10-01T00:00:00.000000000",
                    "2018-11-01T00:00:00.000000000",
                    "2018-12-01T00:00:00.000000000",
                    "2019-01-01T00:00:00.000000000",
                    "2019-02-01T00:00:00.000000000",
                    "2019-03-01T00:00:00.000000000",
                    "2019-04-01T00:00:00.000000000",
                    "2019-05-01T00:00:00.000000000",
                    "2019-06-01T00:00:00.000000000",
                    "2019-07-01T00:00:00.000000000",
                    "2019-08-01T00:00:00.000000000",
                    "2019-09-01T00:00:00.000000000",
                    "2019-10-01T00:00:00.000000000",
                    "2019-11-01T00:00:00.000000000",
                    "2019-12-01T00:00:00.000000000",
                    "2020-01-01T00:00:00.000000000",
                    "2020-02-01T00:00:00.000000000",
                    "2020-03-01T00:00:00.000000000",
                    "2020-04-01T00:00:00.000000000",
                    "2020-05-01T00:00:00.000000000",
                    "2020-06-01T00:00:00.000000000",
                    "2020-07-01T00:00:00.000000000",
                    "2020-08-01T00:00:00.000000000",
                    "2020-09-01T00:00:00.000000000",
                    "2020-10-01T00:00:00.000000000",
                    "2020-11-01T00:00:00.000000000",
                    "2020-12-01T00:00:00.000000000",
                    "2021-01-01T00:00:00.000000000",
                    "2021-02-01T00:00:00.000000000",
                    "2021-03-01T00:00:00.000000000",
                    "2021-04-01T00:00:00.000000000",
                    "2021-05-01T00:00:00.000000000",
                    "2021-06-01T00:00:00.000000000",
                    "2021-07-01T00:00:00.000000000",
                    "2021-08-01T00:00:00.000000000",
                    "2021-09-01T00:00:00.000000000",
                    "2021-10-01T00:00:00.000000000",
                    "2021-11-01T00:00:00.000000000",
                    "2021-12-01T00:00:00.000000000",
                    "2022-01-01T00:00:00.000000000",
                    "2022-02-01T00:00:00.000000000",
                    "2022-03-01T00:00:00.000000000",
                    "2022-04-01T00:00:00.000000000",
                    "2022-05-01T00:00:00.000000000",
                    "2022-06-01T00:00:00.000000000",
                    "2022-07-01T00:00:00.000000000",
                    "2022-08-01T00:00:00.000000000",
                    "2022-09-01T00:00:00.000000000",
                    "2022-10-01T00:00:00.000000000",
                    "2022-11-01T00:00:00.000000000",
                    "2022-12-01T00:00:00.000000000",
                    "2023-01-01T00:00:00.000000000",
                    "2023-02-01T00:00:00.000000000",
                    "2023-03-01T00:00:00.000000000",
                    "2023-04-01T00:00:00.000000000",
                    "2023-05-01T00:00:00.000000000",
                    "2023-06-01T00:00:00.000000000",
                    "2023-07-01T00:00:00.000000000",
                    "2023-08-01T00:00:00.000000000",
                    "2023-09-01T00:00:00.000000000",
                    "2023-10-01T00:00:00.000000000",
                    "2023-11-01T00:00:00.000000000",
                    "2023-12-01T00:00:00.000000000",
                    "2024-01-01T00:00:00.000000000",
                    "2024-02-01T00:00:00.000000000",
                    "2024-03-01T00:00:00.000000000",
                    "2024-04-01T00:00:00.000000000",
                    "2024-05-01T00:00:00.000000000",
                    "2024-06-01T00:00:00.000000000",
                    "2024-07-01T00:00:00.000000000",
                    "2024-08-01T00:00:00.000000000",
                    "2024-09-01T00:00:00.000000000",
                    "2024-10-01T00:00:00.000000000",
                    "2024-11-01T00:00:00.000000000",
                    "2024-12-01T00:00:00.000000000"
                  ],
                  "y": [
                    5.946742295242025,
                    6.282080560599972,
                    5.749588998456467,
                    5.270734376769087,
                    5.774105374287252,
                    5.853646140297892,
                    5.820463368075251,
                    6.022456617897244,
                    6.074463563669807,
                    6.282226041604931,
                    5.648787204446263,
                    6.793883749100293,
                    5.6674780538125,
                    5.52117598003852,
                    5.7893460065693105,
                    6.354995019331746,
                    6.566993159655165,
                    6.999759364234214,
                    7.363053505434842,
                    8.049273495070526,
                    8.412000579738152,
                    8.525509463499244,
                    8.634763390824384,
                    9.01394386959536,
                    8.426878377532496,
                    9.050068807384093,
                    8.67128636295594,
                    9.003563032092885,
                    8.946915263045474,
                    9.85363419072711,
                    10.184984620716545,
                    10.939433979392021,
                    11.123936247941456,
                    10.514601425283466,
                    10.538263042931515,
                    10.108644420428197,
                    9.362107703378983,
                    10.23760184618283,
                    9.994076723847575,
                    9.876069967851242,
                    10.503111770073302,
                    10.764310438354041,
                    11.157870096716753,
                    11.683034326365648,
                    11.57504450893173,
                    11.435901400425482,
                    11.321881926924895,
                    11.694531103011634,
                    11.44348074407114,
                    11.72749793708963,
                    12.481121140809947,
                    16.411697913838953,
                    14.93699256292307,
                    13.08196440700497,
                    12.38522172659647,
                    11.47179472172888,
                    11.725904574364707,
                    13.00458165652481,
                    13.081467779875249,
                    11.887528449424241,
                    10.946269993939234,
                    11.715844899335291,
                    12.21625000482322,
                    12.912082320665718,
                    12.922779550118872,
                    13.454350259555776,
                    14.218541833596905,
                    14.74692173650176,
                    16.032713558089803,
                    15.775601044851532,
                    15.354109407168055,
                    13.644758489398951,
                    11.424802000858497,
                    15.58832484499557,
                    16.446089817123465,
                    16.283862121540995,
                    16.568032846648297,
                    15.493116056991719,
                    13.987454381095636,
                    16.288298505533497,
                    18.766349422811608,
                    17.577143665904316,
                    16.83442569398649,
                    16.26427375562621,
                    17.604213424304994,
                    17.965850941505067,
                    17.065355636782126,
                    17.448335457035313,
                    18.665913643723805,
                    18.79174383617419,
                    19.406036024299052,
                    20.649308265621283,
                    21.725225831917967,
                    21.74317528453239,
                    21.09626470929183,
                    20.746736328620944,
                    21.558846860227295,
                    22.14956484877846,
                    21.590643309701264,
                    21.54963233907448,
                    23.133709274420532,
                    23.517919383868236,
                    23.993699791412013,
                    24.443297359071074,
                    25.49793225231075,
                    26.331216037455697,
                    24.643002505913536,
                    24.777752390210143
                  ]
                },
                {
                  "line": {
                    "color": "black",
                    "dash": "dot"
                  },
                  "mode": "lines",
                  "name": "Baseline",
                  "type": "scatter",
                  "x": [
                    "2016-01-01T00:00:00.000000000",
                    "2016-02-01T00:00:00.000000000",
                    "2016-03-01T00:00:00.000000000",
                    "2016-04-01T00:00:00.000000000",
                    "2016-05-01T00:00:00.000000000",
                    "2016-06-01T00:00:00.000000000",
                    "2016-07-01T00:00:00.000000000",
                    "2016-08-01T00:00:00.000000000",
                    "2016-09-01T00:00:00.000000000",
                    "2016-10-01T00:00:00.000000000",
                    "2016-11-01T00:00:00.000000000",
                    "2016-12-01T00:00:00.000000000",
                    "2017-01-01T00:00:00.000000000",
                    "2017-02-01T00:00:00.000000000",
                    "2017-03-01T00:00:00.000000000",
                    "2017-04-01T00:00:00.000000000",
                    "2017-05-01T00:00:00.000000000",
                    "2017-06-01T00:00:00.000000000",
                    "2017-07-01T00:00:00.000000000",
                    "2017-08-01T00:00:00.000000000",
                    "2017-09-01T00:00:00.000000000",
                    "2017-10-01T00:00:00.000000000",
                    "2017-11-01T00:00:00.000000000",
                    "2017-12-01T00:00:00.000000000",
                    "2018-01-01T00:00:00.000000000",
                    "2018-02-01T00:00:00.000000000",
                    "2018-03-01T00:00:00.000000000",
                    "2018-04-01T00:00:00.000000000",
                    "2018-05-01T00:00:00.000000000",
                    "2018-06-01T00:00:00.000000000",
                    "2018-07-01T00:00:00.000000000",
                    "2018-08-01T00:00:00.000000000",
                    "2018-09-01T00:00:00.000000000",
                    "2018-10-01T00:00:00.000000000",
                    "2018-11-01T00:00:00.000000000",
                    "2018-12-01T00:00:00.000000000",
                    "2019-01-01T00:00:00.000000000",
                    "2019-02-01T00:00:00.000000000",
                    "2019-03-01T00:00:00.000000000",
                    "2019-04-01T00:00:00.000000000",
                    "2019-05-01T00:00:00.000000000",
                    "2019-06-01T00:00:00.000000000",
                    "2019-07-01T00:00:00.000000000",
                    "2019-08-01T00:00:00.000000000",
                    "2019-09-01T00:00:00.000000000",
                    "2019-10-01T00:00:00.000000000",
                    "2019-11-01T00:00:00.000000000",
                    "2019-12-01T00:00:00.000000000",
                    "2020-01-01T00:00:00.000000000",
                    "2020-02-01T00:00:00.000000000",
                    "2020-03-01T00:00:00.000000000",
                    "2020-04-01T00:00:00.000000000",
                    "2020-05-01T00:00:00.000000000",
                    "2020-06-01T00:00:00.000000000",
                    "2020-07-01T00:00:00.000000000",
                    "2020-08-01T00:00:00.000000000",
                    "2020-09-01T00:00:00.000000000",
                    "2020-10-01T00:00:00.000000000",
                    "2020-11-01T00:00:00.000000000",
                    "2020-12-01T00:00:00.000000000",
                    "2021-01-01T00:00:00.000000000",
                    "2021-02-01T00:00:00.000000000",
                    "2021-03-01T00:00:00.000000000",
                    "2021-04-01T00:00:00.000000000",
                    "2021-05-01T00:00:00.000000000",
                    "2021-06-01T00:00:00.000000000",
                    "2021-07-01T00:00:00.000000000",
                    "2021-08-01T00:00:00.000000000",
                    "2021-09-01T00:00:00.000000000",
                    "2021-10-01T00:00:00.000000000",
                    "2021-11-01T00:00:00.000000000",
                    "2021-12-01T00:00:00.000000000",
                    "2022-01-01T00:00:00.000000000",
                    "2022-02-01T00:00:00.000000000",
                    "2022-03-01T00:00:00.000000000",
                    "2022-04-01T00:00:00.000000000",
                    "2022-05-01T00:00:00.000000000",
                    "2022-06-01T00:00:00.000000000",
                    "2022-07-01T00:00:00.000000000",
                    "2022-08-01T00:00:00.000000000",
                    "2022-09-01T00:00:00.000000000",
                    "2022-10-01T00:00:00.000000000",
                    "2022-11-01T00:00:00.000000000",
                    "2022-12-01T00:00:00.000000000",
                    "2023-01-01T00:00:00.000000000",
                    "2023-02-01T00:00:00.000000000",
                    "2023-03-01T00:00:00.000000000",
                    "2023-04-01T00:00:00.000000000",
                    "2023-05-01T00:00:00.000000000",
                    "2023-06-01T00:00:00.000000000",
                    "2023-07-01T00:00:00.000000000",
                    "2023-08-01T00:00:00.000000000",
                    "2023-09-01T00:00:00.000000000",
                    "2023-10-01T00:00:00.000000000",
                    "2023-11-01T00:00:00.000000000",
                    "2023-12-01T00:00:00.000000000",
                    "2024-01-01T00:00:00.000000000",
                    "2024-02-01T00:00:00.000000000",
                    "2024-03-01T00:00:00.000000000",
                    "2024-04-01T00:00:00.000000000",
                    "2024-05-01T00:00:00.000000000",
                    "2024-06-01T00:00:00.000000000",
                    "2024-07-01T00:00:00.000000000",
                    "2024-08-01T00:00:00.000000000",
                    "2024-09-01T00:00:00.000000000",
                    "2024-10-01T00:00:00.000000000",
                    "2024-11-01T00:00:00.000000000",
                    "2024-12-01T00:00:00.000000000"
                  ],
                  "y": [
                    5.17188429392246,
                    5.302260616726124,
                    5.432636939529788,
                    5.563013262333451,
                    5.693389585137115,
                    5.823765907940778,
                    5.954142230744442,
                    6.084518553548106,
                    6.21489487635177,
                    6.345271199155434,
                    6.475647521959097,
                    6.6060238447627615,
                    6.7364001675664245,
                    6.866776490370088,
                    6.997152813173752,
                    7.127529135977416,
                    7.25790545878108,
                    7.388281781584744,
                    7.5186581043884075,
                    7.6490344271920705,
                    7.779410749995735,
                    7.909787072799398,
                    8.040163395603063,
                    8.170539718406726,
                    8.300916041210389,
                    8.431292364014054,
                    8.561668686817717,
                    8.692045009621381,
                    8.822421332425044,
                    8.952797655228707,
                    9.083173978032372,
                    9.213550300836037,
                    9.3439266236397,
                    9.474302946443363,
                    9.604679269247027,
                    9.735055592050692,
                    9.865431914854355,
                    9.995808237658018,
                    10.126184560461681,
                    10.256560883265346,
                    10.38693720606901,
                    10.517313528872673,
                    10.647689851676336,
                    10.77806617448,
                    10.908442497283664,
                    11.038818820087329,
                    11.169195142890992,
                    11.299571465694655,
                    11.42994778849832,
                    11.560324111301984,
                    11.690700434105647,
                    11.82107675690931,
                    11.951453079712973,
                    12.081829402516638,
                    12.212205725320302,
                    12.342582048123965,
                    12.472958370927628,
                    12.603334693731293,
                    12.733711016534958,
                    12.86408733933862,
                    12.994463662142284,
                    13.124839984945947,
                    13.255216307749613,
                    13.385592630553276,
                    13.51596895335694,
                    13.646345276160602,
                    13.776721598964265,
                    13.907097921767932,
                    14.037474244571595,
                    14.167850567375257,
                    14.29822689017892,
                    14.428603212982587,
                    14.55897953578625,
                    14.689355858589913,
                    14.819732181393576,
                    14.950108504197239,
                    15.080484827000905,
                    15.210861149804568,
                    15.341237472608231,
                    15.471613795411894,
                    15.601990118215557,
                    15.732366441019224,
                    15.862742763822887,
                    15.99311908662655,
                    16.123495409430213,
                    16.25387173223388,
                    16.384248055037542,
                    16.514624377841205,
                    16.645000700644868,
                    16.77537702344853,
                    16.905753346252197,
                    17.03612966905586,
                    17.166505991859523,
                    17.296882314663186,
                    17.427258637466853,
                    17.557634960270516,
                    17.68801128307418,
                    17.81838760587784,
                    17.948763928681505,
                    18.07914025148517,
                    18.209516574288834,
                    18.339892897092497,
                    18.47026921989616,
                    18.600645542699827,
                    18.73102186550349,
                    18.861398188307152,
                    18.991774511110815,
                    19.12215083391448
                  ]
                },
                {
                  "line": {
                    "color": "purple"
                  },
                  "mode": "lines",
                  "name": "Full model",
                  "type": "scatter",
                  "x": [
                    "2016-01-01T00:00:00.000000000",
                    "2016-02-01T00:00:00.000000000",
                    "2016-03-01T00:00:00.000000000",
                    "2016-04-01T00:00:00.000000000",
                    "2016-05-01T00:00:00.000000000",
                    "2016-06-01T00:00:00.000000000",
                    "2016-07-01T00:00:00.000000000",
                    "2016-08-01T00:00:00.000000000",
                    "2016-09-01T00:00:00.000000000",
                    "2016-10-01T00:00:00.000000000",
                    "2016-11-01T00:00:00.000000000",
                    "2016-12-01T00:00:00.000000000",
                    "2017-01-01T00:00:00.000000000",
                    "2017-02-01T00:00:00.000000000",
                    "2017-03-01T00:00:00.000000000",
                    "2017-04-01T00:00:00.000000000",
                    "2017-05-01T00:00:00.000000000",
                    "2017-06-01T00:00:00.000000000",
                    "2017-07-01T00:00:00.000000000",
                    "2017-08-01T00:00:00.000000000",
                    "2017-09-01T00:00:00.000000000",
                    "2017-10-01T00:00:00.000000000",
                    "2017-11-01T00:00:00.000000000",
                    "2017-12-01T00:00:00.000000000",
                    "2018-01-01T00:00:00.000000000",
                    "2018-02-01T00:00:00.000000000",
                    "2018-03-01T00:00:00.000000000",
                    "2018-04-01T00:00:00.000000000",
                    "2018-05-01T00:00:00.000000000",
                    "2018-06-01T00:00:00.000000000",
                    "2018-07-01T00:00:00.000000000",
                    "2018-08-01T00:00:00.000000000",
                    "2018-09-01T00:00:00.000000000",
                    "2018-10-01T00:00:00.000000000",
                    "2018-11-01T00:00:00.000000000",
                    "2018-12-01T00:00:00.000000000",
                    "2019-01-01T00:00:00.000000000",
                    "2019-02-01T00:00:00.000000000",
                    "2019-03-01T00:00:00.000000000",
                    "2019-04-01T00:00:00.000000000",
                    "2019-05-01T00:00:00.000000000",
                    "2019-06-01T00:00:00.000000000",
                    "2019-07-01T00:00:00.000000000",
                    "2019-08-01T00:00:00.000000000",
                    "2019-09-01T00:00:00.000000000",
                    "2019-10-01T00:00:00.000000000",
                    "2019-11-01T00:00:00.000000000",
                    "2019-12-01T00:00:00.000000000",
                    "2020-01-01T00:00:00.000000000",
                    "2020-02-01T00:00:00.000000000",
                    "2020-03-01T00:00:00.000000000",
                    "2020-04-01T00:00:00.000000000",
                    "2020-05-01T00:00:00.000000000",
                    "2020-06-01T00:00:00.000000000",
                    "2020-07-01T00:00:00.000000000",
                    "2020-08-01T00:00:00.000000000",
                    "2020-09-01T00:00:00.000000000",
                    "2020-10-01T00:00:00.000000000",
                    "2020-11-01T00:00:00.000000000",
                    "2020-12-01T00:00:00.000000000",
                    "2021-01-01T00:00:00.000000000",
                    "2021-02-01T00:00:00.000000000",
                    "2021-03-01T00:00:00.000000000",
                    "2021-04-01T00:00:00.000000000",
                    "2021-05-01T00:00:00.000000000",
                    "2021-06-01T00:00:00.000000000",
                    "2021-07-01T00:00:00.000000000",
                    "2021-08-01T00:00:00.000000000",
                    "2021-09-01T00:00:00.000000000",
                    "2021-10-01T00:00:00.000000000",
                    "2021-11-01T00:00:00.000000000",
                    "2021-12-01T00:00:00.000000000",
                    "2022-01-01T00:00:00.000000000",
                    "2022-02-01T00:00:00.000000000",
                    "2022-03-01T00:00:00.000000000",
                    "2022-04-01T00:00:00.000000000",
                    "2022-05-01T00:00:00.000000000",
                    "2022-06-01T00:00:00.000000000",
                    "2022-07-01T00:00:00.000000000",
                    "2022-08-01T00:00:00.000000000",
                    "2022-09-01T00:00:00.000000000",
                    "2022-10-01T00:00:00.000000000",
                    "2022-11-01T00:00:00.000000000",
                    "2022-12-01T00:00:00.000000000",
                    "2023-01-01T00:00:00.000000000",
                    "2023-02-01T00:00:00.000000000",
                    "2023-03-01T00:00:00.000000000",
                    "2023-04-01T00:00:00.000000000",
                    "2023-05-01T00:00:00.000000000",
                    "2023-06-01T00:00:00.000000000",
                    "2023-07-01T00:00:00.000000000",
                    "2023-08-01T00:00:00.000000000",
                    "2023-09-01T00:00:00.000000000",
                    "2023-10-01T00:00:00.000000000",
                    "2023-11-01T00:00:00.000000000",
                    "2023-12-01T00:00:00.000000000",
                    "2024-01-01T00:00:00.000000000",
                    "2024-02-01T00:00:00.000000000",
                    "2024-03-01T00:00:00.000000000",
                    "2024-04-01T00:00:00.000000000",
                    "2024-05-01T00:00:00.000000000",
                    "2024-06-01T00:00:00.000000000",
                    "2024-07-01T00:00:00.000000000",
                    "2024-08-01T00:00:00.000000000",
                    "2024-09-01T00:00:00.000000000",
                    "2024-10-01T00:00:00.000000000",
                    "2024-11-01T00:00:00.000000000",
                    "2024-12-01T00:00:00.000000000"
                  ],
                  "y": [
                    5.17188429392246,
                    5.302260616726124,
                    5.432636939529788,
                    5.563013262333451,
                    5.693389585137115,
                    5.823765907940778,
                    5.954142230744442,
                    6.084518553548106,
                    6.21489487635177,
                    6.345271199155434,
                    6.475647521959097,
                    6.6060238447627615,
                    6.7364001675664245,
                    6.866776490370088,
                    6.997152813173752,
                    7.127529135977416,
                    7.25790545878108,
                    7.388281781584744,
                    7.5186581043884075,
                    7.6490344271920705,
                    7.779410749995735,
                    7.909787072799398,
                    8.040163395603063,
                    8.170539718406726,
                    8.300916041210389,
                    8.431292364014054,
                    8.561668686817717,
                    8.692045009621381,
                    8.822421332425044,
                    8.952797655228707,
                    9.083173978032372,
                    9.213550300836037,
                    9.3439266236397,
                    9.474302946443363,
                    9.604679269247027,
                    9.735055592050692,
                    9.865431914854355,
                    9.995808237658018,
                    10.126184560461681,
                    10.256560883265346,
                    10.38693720606901,
                    10.517313528872673,
                    10.647689851676336,
                    10.77806617448,
                    10.908442497283664,
                    11.038818820087329,
                    11.169195142890992,
                    11.299571465694655,
                    11.42994778849832,
                    11.560324111301984,
                    11.690700434105647,
                    13.778610983753754,
                    13.801937922728417,
                    13.82526486170308,
                    13.848591800677742,
                    13.871918739652404,
                    13.895245678627065,
                    13.918572617601729,
                    13.941899556576391,
                    13.965226495551052,
                    13.988553434525715,
                    14.011880373500375,
                    14.03520731247504,
                    14.058534251449702,
                    14.081861190424362,
                    14.105188129399023,
                    14.128515068373686,
                    14.15184200734835,
                    14.175168946323012,
                    14.198495885297675,
                    14.221822824272335,
                    14.245149763247,
                    14.268476702221662,
                    14.291803641196323,
                    14.315130580170983,
                    14.732699907939601,
                    15.06297874562903,
                    15.393257583318457,
                    15.723536421007882,
                    16.05381525869731,
                    16.384094096386733,
                    16.714372934076163,
                    17.044651771765587,
                    17.374930609455014,
                    17.70520944714444,
                    18.035488284833868,
                    18.365767122523295,
                    18.696045960212718,
                    19.02632479790214,
                    19.35660363559157,
                    19.686882473281003,
                    20.017161310970426,
                    20.347440148659853,
                    20.67771898634928,
                    21.007997824038704,
                    21.33827666172813,
                    21.668555499417558,
                    21.99883433710698,
                    22.329113174796404,
                    22.65939201248584,
                    22.989670850175266,
                    23.319949687864693,
                    23.650228525554116,
                    23.980507363243543,
                    24.310786200932966,
                    24.641065038622394,
                    24.97134387631182,
                    25.301622714001244
                  ]
                }
              ],
              "layout": {
                "annotations": [
                  {
                    "arrowhead": 2,
                    "ax": 30,
                    "ay": -40,
                    "showarrow": true,
                    "text": "Pandemia",
                    "x": "2020-04-01",
                    "y": 26.331216037455697
                  },
                  {
                    "arrowhead": 2,
                    "ax": 30,
                    "ay": -40,
                    "showarrow": true,
                    "text": "Pos Pandemia",
                    "x": "2022-04-01",
                    "y": 26.331216037455697
                  }
                ],
                "legend": {
                  "title": {
                    "text": "Legend"
                  }
                },
                "shapes": [
                  {
                    "line": {
                      "color": "black",
                      "dash": "dash"
                    },
                    "type": "line",
                    "x0": "2020-04-01",
                    "x1": "2020-04-01",
                    "y0": 5.270734376769087,
                    "y1": 26.331216037455697
                  },
                  {
                    "line": {
                      "color": "black",
                      "dash": "dash"
                    },
                    "type": "line",
                    "x0": "2022-04-01",
                    "x1": "2022-04-01",
                    "y0": 5.270734376769087,
                    "y1": 26.331216037455697
                  }
                ],
                "template": {
                  "data": {
                    "bar": [
                      {
                        "error_x": {
                          "color": "#2a3f5f"
                        },
                        "error_y": {
                          "color": "#2a3f5f"
                        },
                        "marker": {
                          "line": {
                            "color": "#E5ECF6",
                            "width": 0.5
                          },
                          "pattern": {
                            "fillmode": "overlay",
                            "size": 10,
                            "solidity": 0.2
                          }
                        },
                        "type": "bar"
                      }
                    ],
                    "barpolar": [
                      {
                        "marker": {
                          "line": {
                            "color": "#E5ECF6",
                            "width": 0.5
                          },
                          "pattern": {
                            "fillmode": "overlay",
                            "size": 10,
                            "solidity": 0.2
                          }
                        },
                        "type": "barpolar"
                      }
                    ],
                    "carpet": [
                      {
                        "aaxis": {
                          "endlinecolor": "#2a3f5f",
                          "gridcolor": "white",
                          "linecolor": "white",
                          "minorgridcolor": "white",
                          "startlinecolor": "#2a3f5f"
                        },
                        "baxis": {
                          "endlinecolor": "#2a3f5f",
                          "gridcolor": "white",
                          "linecolor": "white",
                          "minorgridcolor": "white",
                          "startlinecolor": "#2a3f5f"
                        },
                        "type": "carpet"
                      }
                    ],
                    "choropleth": [
                      {
                        "colorbar": {
                          "outlinewidth": 0,
                          "ticks": ""
                        },
                        "type": "choropleth"
                      }
                    ],
                    "contour": [
                      {
                        "colorbar": {
                          "outlinewidth": 0,
                          "ticks": ""
                        },
                        "colorscale": [
                          [
                            0,
                            "#0d0887"
                          ],
                          [
                            0.1111111111111111,
                            "#46039f"
                          ],
                          [
                            0.2222222222222222,
                            "#7201a8"
                          ],
                          [
                            0.3333333333333333,
                            "#9c179e"
                          ],
                          [
                            0.4444444444444444,
                            "#bd3786"
                          ],
                          [
                            0.5555555555555556,
                            "#d8576b"
                          ],
                          [
                            0.6666666666666666,
                            "#ed7953"
                          ],
                          [
                            0.7777777777777778,
                            "#fb9f3a"
                          ],
                          [
                            0.8888888888888888,
                            "#fdca26"
                          ],
                          [
                            1,
                            "#f0f921"
                          ]
                        ],
                        "type": "contour"
                      }
                    ],
                    "contourcarpet": [
                      {
                        "colorbar": {
                          "outlinewidth": 0,
                          "ticks": ""
                        },
                        "type": "contourcarpet"
                      }
                    ],
                    "heatmap": [
                      {
                        "colorbar": {
                          "outlinewidth": 0,
                          "ticks": ""
                        },
                        "colorscale": [
                          [
                            0,
                            "#0d0887"
                          ],
                          [
                            0.1111111111111111,
                            "#46039f"
                          ],
                          [
                            0.2222222222222222,
                            "#7201a8"
                          ],
                          [
                            0.3333333333333333,
                            "#9c179e"
                          ],
                          [
                            0.4444444444444444,
                            "#bd3786"
                          ],
                          [
                            0.5555555555555556,
                            "#d8576b"
                          ],
                          [
                            0.6666666666666666,
                            "#ed7953"
                          ],
                          [
                            0.7777777777777778,
                            "#fb9f3a"
                          ],
                          [
                            0.8888888888888888,
                            "#fdca26"
                          ],
                          [
                            1,
                            "#f0f921"
                          ]
                        ],
                        "type": "heatmap"
                      }
                    ],
                    "heatmapgl": [
                      {
                        "colorbar": {
                          "outlinewidth": 0,
                          "ticks": ""
                        },
                        "colorscale": [
                          [
                            0,
                            "#0d0887"
                          ],
                          [
                            0.1111111111111111,
                            "#46039f"
                          ],
                          [
                            0.2222222222222222,
                            "#7201a8"
                          ],
                          [
                            0.3333333333333333,
                            "#9c179e"
                          ],
                          [
                            0.4444444444444444,
                            "#bd3786"
                          ],
                          [
                            0.5555555555555556,
                            "#d8576b"
                          ],
                          [
                            0.6666666666666666,
                            "#ed7953"
                          ],
                          [
                            0.7777777777777778,
                            "#fb9f3a"
                          ],
                          [
                            0.8888888888888888,
                            "#fdca26"
                          ],
                          [
                            1,
                            "#f0f921"
                          ]
                        ],
                        "type": "heatmapgl"
                      }
                    ],
                    "histogram": [
                      {
                        "marker": {
                          "pattern": {
                            "fillmode": "overlay",
                            "size": 10,
                            "solidity": 0.2
                          }
                        },
                        "type": "histogram"
                      }
                    ],
                    "histogram2d": [
                      {
                        "colorbar": {
                          "outlinewidth": 0,
                          "ticks": ""
                        },
                        "colorscale": [
                          [
                            0,
                            "#0d0887"
                          ],
                          [
                            0.1111111111111111,
                            "#46039f"
                          ],
                          [
                            0.2222222222222222,
                            "#7201a8"
                          ],
                          [
                            0.3333333333333333,
                            "#9c179e"
                          ],
                          [
                            0.4444444444444444,
                            "#bd3786"
                          ],
                          [
                            0.5555555555555556,
                            "#d8576b"
                          ],
                          [
                            0.6666666666666666,
                            "#ed7953"
                          ],
                          [
                            0.7777777777777778,
                            "#fb9f3a"
                          ],
                          [
                            0.8888888888888888,
                            "#fdca26"
                          ],
                          [
                            1,
                            "#f0f921"
                          ]
                        ],
                        "type": "histogram2d"
                      }
                    ],
                    "histogram2dcontour": [
                      {
                        "colorbar": {
                          "outlinewidth": 0,
                          "ticks": ""
                        },
                        "colorscale": [
                          [
                            0,
                            "#0d0887"
                          ],
                          [
                            0.1111111111111111,
                            "#46039f"
                          ],
                          [
                            0.2222222222222222,
                            "#7201a8"
                          ],
                          [
                            0.3333333333333333,
                            "#9c179e"
                          ],
                          [
                            0.4444444444444444,
                            "#bd3786"
                          ],
                          [
                            0.5555555555555556,
                            "#d8576b"
                          ],
                          [
                            0.6666666666666666,
                            "#ed7953"
                          ],
                          [
                            0.7777777777777778,
                            "#fb9f3a"
                          ],
                          [
                            0.8888888888888888,
                            "#fdca26"
                          ],
                          [
                            1,
                            "#f0f921"
                          ]
                        ],
                        "type": "histogram2dcontour"
                      }
                    ],
                    "mesh3d": [
                      {
                        "colorbar": {
                          "outlinewidth": 0,
                          "ticks": ""
                        },
                        "type": "mesh3d"
                      }
                    ],
                    "parcoords": [
                      {
                        "line": {
                          "colorbar": {
                            "outlinewidth": 0,
                            "ticks": ""
                          }
                        },
                        "type": "parcoords"
                      }
                    ],
                    "pie": [
                      {
                        "automargin": true,
                        "type": "pie"
                      }
                    ],
                    "scatter": [
                      {
                        "fillpattern": {
                          "fillmode": "overlay",
                          "size": 10,
                          "solidity": 0.2
                        },
                        "type": "scatter"
                      }
                    ],
                    "scatter3d": [
                      {
                        "line": {
                          "colorbar": {
                            "outlinewidth": 0,
                            "ticks": ""
                          }
                        },
                        "marker": {
                          "colorbar": {
                            "outlinewidth": 0,
                            "ticks": ""
                          }
                        },
                        "type": "scatter3d"
                      }
                    ],
                    "scattercarpet": [
                      {
                        "marker": {
                          "colorbar": {
                            "outlinewidth": 0,
                            "ticks": ""
                          }
                        },
                        "type": "scattercarpet"
                      }
                    ],
                    "scattergeo": [
                      {
                        "marker": {
                          "colorbar": {
                            "outlinewidth": 0,
                            "ticks": ""
                          }
                        },
                        "type": "scattergeo"
                      }
                    ],
                    "scattergl": [
                      {
                        "marker": {
                          "colorbar": {
                            "outlinewidth": 0,
                            "ticks": ""
                          }
                        },
                        "type": "scattergl"
                      }
                    ],
                    "scattermapbox": [
                      {
                        "marker": {
                          "colorbar": {
                            "outlinewidth": 0,
                            "ticks": ""
                          }
                        },
                        "type": "scattermapbox"
                      }
                    ],
                    "scatterpolar": [
                      {
                        "marker": {
                          "colorbar": {
                            "outlinewidth": 0,
                            "ticks": ""
                          }
                        },
                        "type": "scatterpolar"
                      }
                    ],
                    "scatterpolargl": [
                      {
                        "marker": {
                          "colorbar": {
                            "outlinewidth": 0,
                            "ticks": ""
                          }
                        },
                        "type": "scatterpolargl"
                      }
                    ],
                    "scatterternary": [
                      {
                        "marker": {
                          "colorbar": {
                            "outlinewidth": 0,
                            "ticks": ""
                          }
                        },
                        "type": "scatterternary"
                      }
                    ],
                    "surface": [
                      {
                        "colorbar": {
                          "outlinewidth": 0,
                          "ticks": ""
                        },
                        "colorscale": [
                          [
                            0,
                            "#0d0887"
                          ],
                          [
                            0.1111111111111111,
                            "#46039f"
                          ],
                          [
                            0.2222222222222222,
                            "#7201a8"
                          ],
                          [
                            0.3333333333333333,
                            "#9c179e"
                          ],
                          [
                            0.4444444444444444,
                            "#bd3786"
                          ],
                          [
                            0.5555555555555556,
                            "#d8576b"
                          ],
                          [
                            0.6666666666666666,
                            "#ed7953"
                          ],
                          [
                            0.7777777777777778,
                            "#fb9f3a"
                          ],
                          [
                            0.8888888888888888,
                            "#fdca26"
                          ],
                          [
                            1,
                            "#f0f921"
                          ]
                        ],
                        "type": "surface"
                      }
                    ],
                    "table": [
                      {
                        "cells": {
                          "fill": {
                            "color": "#EBF0F8"
                          },
                          "line": {
                            "color": "white"
                          }
                        },
                        "header": {
                          "fill": {
                            "color": "#C8D4E3"
                          },
                          "line": {
                            "color": "white"
                          }
                        },
                        "type": "table"
                      }
                    ]
                  },
                  "layout": {
                    "annotationdefaults": {
                      "arrowcolor": "#2a3f5f",
                      "arrowhead": 0,
                      "arrowwidth": 1
                    },
                    "autotypenumbers": "strict",
                    "coloraxis": {
                      "colorbar": {
                        "outlinewidth": 0,
                        "ticks": ""
                      }
                    },
                    "colorscale": {
                      "diverging": [
                        [
                          0,
                          "#8e0152"
                        ],
                        [
                          0.1,
                          "#c51b7d"
                        ],
                        [
                          0.2,
                          "#de77ae"
                        ],
                        [
                          0.3,
                          "#f1b6da"
                        ],
                        [
                          0.4,
                          "#fde0ef"
                        ],
                        [
                          0.5,
                          "#f7f7f7"
                        ],
                        [
                          0.6,
                          "#e6f5d0"
                        ],
                        [
                          0.7,
                          "#b8e186"
                        ],
                        [
                          0.8,
                          "#7fbc41"
                        ],
                        [
                          0.9,
                          "#4d9221"
                        ],
                        [
                          1,
                          "#276419"
                        ]
                      ],
                      "sequential": [
                        [
                          0,
                          "#0d0887"
                        ],
                        [
                          0.1111111111111111,
                          "#46039f"
                        ],
                        [
                          0.2222222222222222,
                          "#7201a8"
                        ],
                        [
                          0.3333333333333333,
                          "#9c179e"
                        ],
                        [
                          0.4444444444444444,
                          "#bd3786"
                        ],
                        [
                          0.5555555555555556,
                          "#d8576b"
                        ],
                        [
                          0.6666666666666666,
                          "#ed7953"
                        ],
                        [
                          0.7777777777777778,
                          "#fb9f3a"
                        ],
                        [
                          0.8888888888888888,
                          "#fdca26"
                        ],
                        [
                          1,
                          "#f0f921"
                        ]
                      ],
                      "sequentialminus": [
                        [
                          0,
                          "#0d0887"
                        ],
                        [
                          0.1111111111111111,
                          "#46039f"
                        ],
                        [
                          0.2222222222222222,
                          "#7201a8"
                        ],
                        [
                          0.3333333333333333,
                          "#9c179e"
                        ],
                        [
                          0.4444444444444444,
                          "#bd3786"
                        ],
                        [
                          0.5555555555555556,
                          "#d8576b"
                        ],
                        [
                          0.6666666666666666,
                          "#ed7953"
                        ],
                        [
                          0.7777777777777778,
                          "#fb9f3a"
                        ],
                        [
                          0.8888888888888888,
                          "#fdca26"
                        ],
                        [
                          1,
                          "#f0f921"
                        ]
                      ]
                    },
                    "colorway": [
                      "#636efa",
                      "#EF553B",
                      "#00cc96",
                      "#ab63fa",
                      "#FFA15A",
                      "#19d3f3",
                      "#FF6692",
                      "#B6E880",
                      "#FF97FF",
                      "#FECB52"
                    ],
                    "font": {
                      "color": "#2a3f5f"
                    },
                    "geo": {
                      "bgcolor": "white",
                      "lakecolor": "white",
                      "landcolor": "#E5ECF6",
                      "showlakes": true,
                      "showland": true,
                      "subunitcolor": "white"
                    },
                    "hoverlabel": {
                      "align": "left"
                    },
                    "hovermode": "closest",
                    "mapbox": {
                      "style": "light"
                    },
                    "paper_bgcolor": "white",
                    "plot_bgcolor": "#E5ECF6",
                    "polar": {
                      "angularaxis": {
                        "gridcolor": "white",
                        "linecolor": "white",
                        "ticks": ""
                      },
                      "bgcolor": "#E5ECF6",
                      "radialaxis": {
                        "gridcolor": "white",
                        "linecolor": "white",
                        "ticks": ""
                      }
                    },
                    "scene": {
                      "xaxis": {
                        "backgroundcolor": "#E5ECF6",
                        "gridcolor": "white",
                        "gridwidth": 2,
                        "linecolor": "white",
                        "showbackground": true,
                        "ticks": "",
                        "zerolinecolor": "white"
                      },
                      "yaxis": {
                        "backgroundcolor": "#E5ECF6",
                        "gridcolor": "white",
                        "gridwidth": 2,
                        "linecolor": "white",
                        "showbackground": true,
                        "ticks": "",
                        "zerolinecolor": "white"
                      },
                      "zaxis": {
                        "backgroundcolor": "#E5ECF6",
                        "gridcolor": "white",
                        "gridwidth": 2,
                        "linecolor": "white",
                        "showbackground": true,
                        "ticks": "",
                        "zerolinecolor": "white"
                      }
                    },
                    "shapedefaults": {
                      "line": {
                        "color": "#2a3f5f"
                      }
                    },
                    "ternary": {
                      "aaxis": {
                        "gridcolor": "white",
                        "linecolor": "white",
                        "ticks": ""
                      },
                      "baxis": {
                        "gridcolor": "white",
                        "linecolor": "white",
                        "ticks": ""
                      },
                      "bgcolor": "#E5ECF6",
                      "caxis": {
                        "gridcolor": "white",
                        "linecolor": "white",
                        "ticks": ""
                      }
                    },
                    "title": {
                      "x": 0.05
                    },
                    "xaxis": {
                      "automargin": true,
                      "gridcolor": "white",
                      "linecolor": "white",
                      "ticks": "",
                      "title": {
                        "standoff": 15
                      },
                      "zerolinecolor": "white",
                      "zerolinewidth": 2
                    },
                    "yaxis": {
                      "automargin": true,
                      "gridcolor": "white",
                      "linecolor": "white",
                      "ticks": "",
                      "title": {
                        "standoff": 15
                      },
                      "zerolinecolor": "white",
                      "zerolinewidth": 2
                    }
                  }
                },
                "title": {
                  "text": "norte"
                },
                "xaxis": {
                  "title": {
                    "text": "Time"
                  }
                },
                "yaxis": {
                  "title": {
                    "text": "Value"
                  }
                }
              }
            }
          },
          "metadata": {},
          "output_type": "display_data"
        },
        {
          "data": {
            "application/vnd.plotly.v1+json": {
              "config": {
                "plotlyServerURL": "https://plot.ly"
              },
              "data": [
                {
                  "marker": {
                    "color": "black"
                  },
                  "mode": "markers",
                  "name": "Real",
                  "type": "scatter",
                  "x": [
                    "2016-01-01T00:00:00.000000000",
                    "2016-02-01T00:00:00.000000000",
                    "2016-03-01T00:00:00.000000000",
                    "2016-04-01T00:00:00.000000000",
                    "2016-05-01T00:00:00.000000000",
                    "2016-06-01T00:00:00.000000000",
                    "2016-07-01T00:00:00.000000000",
                    "2016-08-01T00:00:00.000000000",
                    "2016-09-01T00:00:00.000000000",
                    "2016-10-01T00:00:00.000000000",
                    "2016-11-01T00:00:00.000000000",
                    "2016-12-01T00:00:00.000000000",
                    "2017-01-01T00:00:00.000000000",
                    "2017-02-01T00:00:00.000000000",
                    "2017-03-01T00:00:00.000000000",
                    "2017-04-01T00:00:00.000000000",
                    "2017-05-01T00:00:00.000000000",
                    "2017-06-01T00:00:00.000000000",
                    "2017-07-01T00:00:00.000000000",
                    "2017-08-01T00:00:00.000000000",
                    "2017-09-01T00:00:00.000000000",
                    "2017-10-01T00:00:00.000000000",
                    "2017-11-01T00:00:00.000000000",
                    "2017-12-01T00:00:00.000000000",
                    "2018-01-01T00:00:00.000000000",
                    "2018-02-01T00:00:00.000000000",
                    "2018-03-01T00:00:00.000000000",
                    "2018-04-01T00:00:00.000000000",
                    "2018-05-01T00:00:00.000000000",
                    "2018-06-01T00:00:00.000000000",
                    "2018-07-01T00:00:00.000000000",
                    "2018-08-01T00:00:00.000000000",
                    "2018-09-01T00:00:00.000000000",
                    "2018-10-01T00:00:00.000000000",
                    "2018-11-01T00:00:00.000000000",
                    "2018-12-01T00:00:00.000000000",
                    "2019-01-01T00:00:00.000000000",
                    "2019-02-01T00:00:00.000000000",
                    "2019-03-01T00:00:00.000000000",
                    "2019-04-01T00:00:00.000000000",
                    "2019-05-01T00:00:00.000000000",
                    "2019-06-01T00:00:00.000000000",
                    "2019-07-01T00:00:00.000000000",
                    "2019-08-01T00:00:00.000000000",
                    "2019-09-01T00:00:00.000000000",
                    "2019-10-01T00:00:00.000000000",
                    "2019-11-01T00:00:00.000000000",
                    "2019-12-01T00:00:00.000000000",
                    "2020-01-01T00:00:00.000000000",
                    "2020-02-01T00:00:00.000000000",
                    "2020-03-01T00:00:00.000000000",
                    "2020-04-01T00:00:00.000000000",
                    "2020-05-01T00:00:00.000000000",
                    "2020-06-01T00:00:00.000000000",
                    "2020-07-01T00:00:00.000000000",
                    "2020-08-01T00:00:00.000000000",
                    "2020-09-01T00:00:00.000000000",
                    "2020-10-01T00:00:00.000000000",
                    "2020-11-01T00:00:00.000000000",
                    "2020-12-01T00:00:00.000000000",
                    "2021-01-01T00:00:00.000000000",
                    "2021-02-01T00:00:00.000000000",
                    "2021-03-01T00:00:00.000000000",
                    "2021-04-01T00:00:00.000000000",
                    "2021-05-01T00:00:00.000000000",
                    "2021-06-01T00:00:00.000000000",
                    "2021-07-01T00:00:00.000000000",
                    "2021-08-01T00:00:00.000000000",
                    "2021-09-01T00:00:00.000000000",
                    "2021-10-01T00:00:00.000000000",
                    "2021-11-01T00:00:00.000000000",
                    "2021-12-01T00:00:00.000000000",
                    "2022-01-01T00:00:00.000000000",
                    "2022-02-01T00:00:00.000000000",
                    "2022-03-01T00:00:00.000000000",
                    "2022-04-01T00:00:00.000000000",
                    "2022-05-01T00:00:00.000000000",
                    "2022-06-01T00:00:00.000000000",
                    "2022-07-01T00:00:00.000000000",
                    "2022-08-01T00:00:00.000000000",
                    "2022-09-01T00:00:00.000000000",
                    "2022-10-01T00:00:00.000000000",
                    "2022-11-01T00:00:00.000000000",
                    "2022-12-01T00:00:00.000000000",
                    "2023-01-01T00:00:00.000000000",
                    "2023-02-01T00:00:00.000000000",
                    "2023-03-01T00:00:00.000000000",
                    "2023-04-01T00:00:00.000000000",
                    "2023-05-01T00:00:00.000000000",
                    "2023-06-01T00:00:00.000000000",
                    "2023-07-01T00:00:00.000000000",
                    "2023-08-01T00:00:00.000000000",
                    "2023-09-01T00:00:00.000000000",
                    "2023-10-01T00:00:00.000000000",
                    "2023-11-01T00:00:00.000000000",
                    "2023-12-01T00:00:00.000000000",
                    "2024-01-01T00:00:00.000000000",
                    "2024-02-01T00:00:00.000000000",
                    "2024-03-01T00:00:00.000000000",
                    "2024-04-01T00:00:00.000000000",
                    "2024-05-01T00:00:00.000000000",
                    "2024-06-01T00:00:00.000000000",
                    "2024-07-01T00:00:00.000000000",
                    "2024-08-01T00:00:00.000000000",
                    "2024-09-01T00:00:00.000000000",
                    "2024-10-01T00:00:00.000000000",
                    "2024-11-01T00:00:00.000000000",
                    "2024-12-01T00:00:00.000000000"
                  ],
                  "y": [
                    5.766457016415087,
                    5.516293322003957,
                    5.290365071949884,
                    5.603113142030877,
                    5.913417330779171,
                    6.170016808023145,
                    6.382247363127151,
                    6.481325584572769,
                    6.821882839663747,
                    7.182647347457138,
                    6.817950343562167,
                    8.169502968393399,
                    8.024569825948522,
                    6.930884629122515,
                    6.855759813516739,
                    6.915325136100731,
                    7.130363360733383,
                    7.799731339936104,
                    7.447395767956693,
                    7.912965509091176,
                    8.33124730818472,
                    8.767716996603022,
                    9.345974525965527,
                    10.25139212736242,
                    9.934924627615038,
                    10.364572273762366,
                    9.772812014353818,
                    9.794934171336442,
                    10.088049809676264,
                    10.947821385266975,
                    10.922953218731625,
                    11.082071707096409,
                    11.162077929515979,
                    11.217281513116008,
                    11.44841758265281,
                    12.239685057189362,
                    11.129052530147401,
                    11.193839908721614,
                    11.312599303571249,
                    10.28780295517633,
                    10.61307207281938,
                    11.40448641127023,
                    11.898477709033605,
                    12.554882097192177,
                    12.684748300514352,
                    13.069878928685462,
                    13.665546295401732,
                    15.201931971156297,
                    15.396507034649154,
                    15.42349443918599,
                    16.518484331949395,
                    22.83469258555841,
                    20.55225631690818,
                    19.430217956098563,
                    18.940872118118495,
                    19.02654126400163,
                    19.449035714856365,
                    18.632711894357367,
                    20.230605271230953,
                    22.001421047925533,
                    21.34479492970059,
                    19.845450406854205,
                    18.72317724093399,
                    18.92996766962941,
                    17.41273445499207,
                    19.04877270887256,
                    20.371109776405405,
                    21.133830842863738,
                    22.447081906765614,
                    21.569638132883004,
                    21.156718183897492,
                    21.695278403262776,
                    18.18297035157528,
                    22.34628289387481,
                    22.42361165999409,
                    21.188387512731346,
                    21.64215794487427,
                    21.825679976390816,
                    21.98314718586636,
                    23.162199908231734,
                    26.406199474246844,
                    25.664540256439423,
                    24.518217222616702,
                    25.33609619639925,
                    28.411116437131337,
                    28.59386320226569,
                    25.77494573881397,
                    24.662808352398937,
                    28.667254334654018,
                    28.0828537141462,
                    28.567880283541903,
                    28.21496190543768,
                    31.0406552221982,
                    30.604766713474078,
                    30.34966970119551,
                    30.349132610787063,
                    34.30808238984768,
                    32.66218148909552,
                    29.40533652619916,
                    28.881718485485656,
                    32.56295122808777,
                    33.636567383961115,
                    34.074131521420576,
                    32.924559616801616,
                    33.47998116355968,
                    33.603056439249286,
                    33.46483801883145,
                    33.17171435314598
                  ]
                },
                {
                  "line": {
                    "color": "black",
                    "dash": "dot"
                  },
                  "mode": "lines",
                  "name": "Baseline",
                  "type": "scatter",
                  "x": [
                    "2016-01-01T00:00:00.000000000",
                    "2016-02-01T00:00:00.000000000",
                    "2016-03-01T00:00:00.000000000",
                    "2016-04-01T00:00:00.000000000",
                    "2016-05-01T00:00:00.000000000",
                    "2016-06-01T00:00:00.000000000",
                    "2016-07-01T00:00:00.000000000",
                    "2016-08-01T00:00:00.000000000",
                    "2016-09-01T00:00:00.000000000",
                    "2016-10-01T00:00:00.000000000",
                    "2016-11-01T00:00:00.000000000",
                    "2016-12-01T00:00:00.000000000",
                    "2017-01-01T00:00:00.000000000",
                    "2017-02-01T00:00:00.000000000",
                    "2017-03-01T00:00:00.000000000",
                    "2017-04-01T00:00:00.000000000",
                    "2017-05-01T00:00:00.000000000",
                    "2017-06-01T00:00:00.000000000",
                    "2017-07-01T00:00:00.000000000",
                    "2017-08-01T00:00:00.000000000",
                    "2017-09-01T00:00:00.000000000",
                    "2017-10-01T00:00:00.000000000",
                    "2017-11-01T00:00:00.000000000",
                    "2017-12-01T00:00:00.000000000",
                    "2018-01-01T00:00:00.000000000",
                    "2018-02-01T00:00:00.000000000",
                    "2018-03-01T00:00:00.000000000",
                    "2018-04-01T00:00:00.000000000",
                    "2018-05-01T00:00:00.000000000",
                    "2018-06-01T00:00:00.000000000",
                    "2018-07-01T00:00:00.000000000",
                    "2018-08-01T00:00:00.000000000",
                    "2018-09-01T00:00:00.000000000",
                    "2018-10-01T00:00:00.000000000",
                    "2018-11-01T00:00:00.000000000",
                    "2018-12-01T00:00:00.000000000",
                    "2019-01-01T00:00:00.000000000",
                    "2019-02-01T00:00:00.000000000",
                    "2019-03-01T00:00:00.000000000",
                    "2019-04-01T00:00:00.000000000",
                    "2019-05-01T00:00:00.000000000",
                    "2019-06-01T00:00:00.000000000",
                    "2019-07-01T00:00:00.000000000",
                    "2019-08-01T00:00:00.000000000",
                    "2019-09-01T00:00:00.000000000",
                    "2019-10-01T00:00:00.000000000",
                    "2019-11-01T00:00:00.000000000",
                    "2019-12-01T00:00:00.000000000",
                    "2020-01-01T00:00:00.000000000",
                    "2020-02-01T00:00:00.000000000",
                    "2020-03-01T00:00:00.000000000",
                    "2020-04-01T00:00:00.000000000",
                    "2020-05-01T00:00:00.000000000",
                    "2020-06-01T00:00:00.000000000",
                    "2020-07-01T00:00:00.000000000",
                    "2020-08-01T00:00:00.000000000",
                    "2020-09-01T00:00:00.000000000",
                    "2020-10-01T00:00:00.000000000",
                    "2020-11-01T00:00:00.000000000",
                    "2020-12-01T00:00:00.000000000",
                    "2021-01-01T00:00:00.000000000",
                    "2021-02-01T00:00:00.000000000",
                    "2021-03-01T00:00:00.000000000",
                    "2021-04-01T00:00:00.000000000",
                    "2021-05-01T00:00:00.000000000",
                    "2021-06-01T00:00:00.000000000",
                    "2021-07-01T00:00:00.000000000",
                    "2021-08-01T00:00:00.000000000",
                    "2021-09-01T00:00:00.000000000",
                    "2021-10-01T00:00:00.000000000",
                    "2021-11-01T00:00:00.000000000",
                    "2021-12-01T00:00:00.000000000",
                    "2022-01-01T00:00:00.000000000",
                    "2022-02-01T00:00:00.000000000",
                    "2022-03-01T00:00:00.000000000",
                    "2022-04-01T00:00:00.000000000",
                    "2022-05-01T00:00:00.000000000",
                    "2022-06-01T00:00:00.000000000",
                    "2022-07-01T00:00:00.000000000",
                    "2022-08-01T00:00:00.000000000",
                    "2022-09-01T00:00:00.000000000",
                    "2022-10-01T00:00:00.000000000",
                    "2022-11-01T00:00:00.000000000",
                    "2022-12-01T00:00:00.000000000",
                    "2023-01-01T00:00:00.000000000",
                    "2023-02-01T00:00:00.000000000",
                    "2023-03-01T00:00:00.000000000",
                    "2023-04-01T00:00:00.000000000",
                    "2023-05-01T00:00:00.000000000",
                    "2023-06-01T00:00:00.000000000",
                    "2023-07-01T00:00:00.000000000",
                    "2023-08-01T00:00:00.000000000",
                    "2023-09-01T00:00:00.000000000",
                    "2023-10-01T00:00:00.000000000",
                    "2023-11-01T00:00:00.000000000",
                    "2023-12-01T00:00:00.000000000",
                    "2024-01-01T00:00:00.000000000",
                    "2024-02-01T00:00:00.000000000",
                    "2024-03-01T00:00:00.000000000",
                    "2024-04-01T00:00:00.000000000",
                    "2024-05-01T00:00:00.000000000",
                    "2024-06-01T00:00:00.000000000",
                    "2024-07-01T00:00:00.000000000",
                    "2024-08-01T00:00:00.000000000",
                    "2024-09-01T00:00:00.000000000",
                    "2024-10-01T00:00:00.000000000",
                    "2024-11-01T00:00:00.000000000",
                    "2024-12-01T00:00:00.000000000"
                  ],
                  "y": [
                    4.902356221975681,
                    5.090356078139557,
                    5.278355934303433,
                    5.4663557904673095,
                    5.654355646631186,
                    5.842355502795062,
                    6.030355358958937,
                    6.2183552151228145,
                    6.40635507128669,
                    6.594354927450567,
                    6.782354783614442,
                    6.970354639778319,
                    7.158354495942195,
                    7.346354352106071,
                    7.5343542082699475,
                    7.722354064433824,
                    7.9103539205977,
                    8.098353776761577,
                    8.286353632925453,
                    8.474353489089328,
                    8.662353345253205,
                    8.850353201417082,
                    9.038353057580958,
                    9.226352913744833,
                    9.41435276990871,
                    9.602352626072586,
                    9.790352482236461,
                    9.978352338400338,
                    10.166352194564215,
                    10.35435205072809,
                    10.542351906891966,
                    10.730351763055843,
                    10.91835161921972,
                    11.106351475383596,
                    11.294351331547471,
                    11.482351187711348,
                    11.670351043875225,
                    11.8583509000391,
                    12.046350756202976,
                    12.234350612366853,
                    12.422350468530729,
                    12.610350324694604,
                    12.798350180858481,
                    12.986350037022358,
                    13.174349893186234,
                    13.36234974935011,
                    13.550349605513986,
                    13.738349461677862,
                    13.926349317841739,
                    14.114349174005614,
                    14.302349030169491,
                    14.490348886333367,
                    14.678348742497244,
                    14.86634859866112,
                    15.054348454824996,
                    15.242348310988872,
                    15.430348167152749,
                    15.618348023316624,
                    15.806347879480501,
                    15.994347735644377,
                    16.182347591808252,
                    16.37034744797213,
                    16.558347304136007,
                    16.746347160299884,
                    16.934347016463757,
                    17.122346872627634,
                    17.310346728791508,
                    17.498346584955385,
                    17.686346441119262,
                    17.87434629728314,
                    18.062346153447017,
                    18.250346009610894,
                    18.438345865774767,
                    18.626345721938645,
                    18.814345578102518,
                    19.002345434266395,
                    19.190345290430272,
                    19.37834514659415,
                    19.566345002758027,
                    19.754344858921904,
                    19.942344715085778,
                    20.13034457124965,
                    20.31834442741353,
                    20.506344283577405,
                    20.694344139741283,
                    20.88234399590516,
                    21.070343852069037,
                    21.258343708232914,
                    21.446343564396784,
                    21.63434342056066,
                    21.82234327672454,
                    22.010343132888416,
                    22.198342989052293,
                    22.38634284521617,
                    22.574342701380047,
                    22.762342557543917,
                    22.950342413707794,
                    23.13834226987167,
                    23.32634212603555,
                    23.514341982199426,
                    23.702341838363303,
                    23.89034169452718,
                    24.078341550691057,
                    24.266341406854927,
                    24.454341263018804,
                    24.64234111918268,
                    24.83034097534656,
                    25.018340831510436
                  ]
                },
                {
                  "line": {
                    "color": "purple"
                  },
                  "mode": "lines",
                  "name": "Full model",
                  "type": "scatter",
                  "x": [
                    "2016-01-01T00:00:00.000000000",
                    "2016-02-01T00:00:00.000000000",
                    "2016-03-01T00:00:00.000000000",
                    "2016-04-01T00:00:00.000000000",
                    "2016-05-01T00:00:00.000000000",
                    "2016-06-01T00:00:00.000000000",
                    "2016-07-01T00:00:00.000000000",
                    "2016-08-01T00:00:00.000000000",
                    "2016-09-01T00:00:00.000000000",
                    "2016-10-01T00:00:00.000000000",
                    "2016-11-01T00:00:00.000000000",
                    "2016-12-01T00:00:00.000000000",
                    "2017-01-01T00:00:00.000000000",
                    "2017-02-01T00:00:00.000000000",
                    "2017-03-01T00:00:00.000000000",
                    "2017-04-01T00:00:00.000000000",
                    "2017-05-01T00:00:00.000000000",
                    "2017-06-01T00:00:00.000000000",
                    "2017-07-01T00:00:00.000000000",
                    "2017-08-01T00:00:00.000000000",
                    "2017-09-01T00:00:00.000000000",
                    "2017-10-01T00:00:00.000000000",
                    "2017-11-01T00:00:00.000000000",
                    "2017-12-01T00:00:00.000000000",
                    "2018-01-01T00:00:00.000000000",
                    "2018-02-01T00:00:00.000000000",
                    "2018-03-01T00:00:00.000000000",
                    "2018-04-01T00:00:00.000000000",
                    "2018-05-01T00:00:00.000000000",
                    "2018-06-01T00:00:00.000000000",
                    "2018-07-01T00:00:00.000000000",
                    "2018-08-01T00:00:00.000000000",
                    "2018-09-01T00:00:00.000000000",
                    "2018-10-01T00:00:00.000000000",
                    "2018-11-01T00:00:00.000000000",
                    "2018-12-01T00:00:00.000000000",
                    "2019-01-01T00:00:00.000000000",
                    "2019-02-01T00:00:00.000000000",
                    "2019-03-01T00:00:00.000000000",
                    "2019-04-01T00:00:00.000000000",
                    "2019-05-01T00:00:00.000000000",
                    "2019-06-01T00:00:00.000000000",
                    "2019-07-01T00:00:00.000000000",
                    "2019-08-01T00:00:00.000000000",
                    "2019-09-01T00:00:00.000000000",
                    "2019-10-01T00:00:00.000000000",
                    "2019-11-01T00:00:00.000000000",
                    "2019-12-01T00:00:00.000000000",
                    "2020-01-01T00:00:00.000000000",
                    "2020-02-01T00:00:00.000000000",
                    "2020-03-01T00:00:00.000000000",
                    "2020-04-01T00:00:00.000000000",
                    "2020-05-01T00:00:00.000000000",
                    "2020-06-01T00:00:00.000000000",
                    "2020-07-01T00:00:00.000000000",
                    "2020-08-01T00:00:00.000000000",
                    "2020-09-01T00:00:00.000000000",
                    "2020-10-01T00:00:00.000000000",
                    "2020-11-01T00:00:00.000000000",
                    "2020-12-01T00:00:00.000000000",
                    "2021-01-01T00:00:00.000000000",
                    "2021-02-01T00:00:00.000000000",
                    "2021-03-01T00:00:00.000000000",
                    "2021-04-01T00:00:00.000000000",
                    "2021-05-01T00:00:00.000000000",
                    "2021-06-01T00:00:00.000000000",
                    "2021-07-01T00:00:00.000000000",
                    "2021-08-01T00:00:00.000000000",
                    "2021-09-01T00:00:00.000000000",
                    "2021-10-01T00:00:00.000000000",
                    "2021-11-01T00:00:00.000000000",
                    "2021-12-01T00:00:00.000000000",
                    "2022-01-01T00:00:00.000000000",
                    "2022-02-01T00:00:00.000000000",
                    "2022-03-01T00:00:00.000000000",
                    "2022-04-01T00:00:00.000000000",
                    "2022-05-01T00:00:00.000000000",
                    "2022-06-01T00:00:00.000000000",
                    "2022-07-01T00:00:00.000000000",
                    "2022-08-01T00:00:00.000000000",
                    "2022-09-01T00:00:00.000000000",
                    "2022-10-01T00:00:00.000000000",
                    "2022-11-01T00:00:00.000000000",
                    "2022-12-01T00:00:00.000000000",
                    "2023-01-01T00:00:00.000000000",
                    "2023-02-01T00:00:00.000000000",
                    "2023-03-01T00:00:00.000000000",
                    "2023-04-01T00:00:00.000000000",
                    "2023-05-01T00:00:00.000000000",
                    "2023-06-01T00:00:00.000000000",
                    "2023-07-01T00:00:00.000000000",
                    "2023-08-01T00:00:00.000000000",
                    "2023-09-01T00:00:00.000000000",
                    "2023-10-01T00:00:00.000000000",
                    "2023-11-01T00:00:00.000000000",
                    "2023-12-01T00:00:00.000000000",
                    "2024-01-01T00:00:00.000000000",
                    "2024-02-01T00:00:00.000000000",
                    "2024-03-01T00:00:00.000000000",
                    "2024-04-01T00:00:00.000000000",
                    "2024-05-01T00:00:00.000000000",
                    "2024-06-01T00:00:00.000000000",
                    "2024-07-01T00:00:00.000000000",
                    "2024-08-01T00:00:00.000000000",
                    "2024-09-01T00:00:00.000000000",
                    "2024-10-01T00:00:00.000000000",
                    "2024-11-01T00:00:00.000000000",
                    "2024-12-01T00:00:00.000000000"
                  ],
                  "y": [
                    4.902356221975681,
                    5.090356078139557,
                    5.278355934303433,
                    5.4663557904673095,
                    5.654355646631186,
                    5.842355502795062,
                    6.030355358958937,
                    6.2183552151228145,
                    6.40635507128669,
                    6.594354927450567,
                    6.782354783614442,
                    6.970354639778319,
                    7.158354495942195,
                    7.346354352106071,
                    7.5343542082699475,
                    7.722354064433824,
                    7.9103539205977,
                    8.098353776761577,
                    8.286353632925453,
                    8.474353489089328,
                    8.662353345253205,
                    8.850353201417082,
                    9.038353057580958,
                    9.226352913744833,
                    9.41435276990871,
                    9.602352626072586,
                    9.790352482236461,
                    9.978352338400338,
                    10.166352194564215,
                    10.35435205072809,
                    10.542351906891966,
                    10.730351763055843,
                    10.91835161921972,
                    11.106351475383596,
                    11.294351331547471,
                    11.482351187711348,
                    11.670351043875225,
                    11.8583509000391,
                    12.046350756202976,
                    12.234350612366853,
                    12.422350468530729,
                    12.610350324694604,
                    12.798350180858481,
                    12.986350037022358,
                    13.174349893186234,
                    13.36234974935011,
                    13.550349605513986,
                    13.738349461677862,
                    13.926349317841739,
                    14.114349174005614,
                    14.302349030169491,
                    19.562685218778125,
                    19.640613054674127,
                    19.718540890570125,
                    19.796468726466127,
                    19.874396562362126,
                    19.952324398258128,
                    20.03025223415413,
                    20.108180070050132,
                    20.186107905946127,
                    20.26403574184213,
                    20.34196357773813,
                    20.419891413634133,
                    20.497819249530135,
                    20.57574708542613,
                    20.653674921322132,
                    20.73160275721813,
                    20.809530593114133,
                    20.887458429010135,
                    20.965386264906137,
                    21.043314100802135,
                    21.121241936698137,
                    21.199169772594136,
                    21.277097608490138,
                    21.355025444386136,
                    22.199710259865267,
                    22.597318748754603,
                    22.994927237643942,
                    23.39253572653328,
                    23.790144215422615,
                    24.187752704311944,
                    24.585361193201283,
                    24.98296968209062,
                    25.380578170979955,
                    25.77818665986929,
                    26.17579514875863,
                    26.573403637647967,
                    26.971012126537303,
                    27.368620615426632,
                    27.76622910431597,
                    28.163837593205308,
                    28.561446082094644,
                    28.95905457098398,
                    29.356663059873316,
                    29.754271548762652,
                    30.151880037651985,
                    30.54948852654132,
                    30.947097015430657,
                    31.344705504319997,
                    31.742313993209333,
                    32.13992248209867,
                    32.537530970988,
                    32.93513945987734,
                    33.332747948766674,
                    33.730356437656006,
                    34.127964926545346,
                    34.525573415434685,
                    34.92318190432402
                  ]
                }
              ],
              "layout": {
                "annotations": [
                  {
                    "arrowhead": 2,
                    "ax": 30,
                    "ay": -40,
                    "showarrow": true,
                    "text": "Pandemia",
                    "x": "2020-04-01",
                    "y": 34.30808238984768
                  },
                  {
                    "arrowhead": 2,
                    "ax": 30,
                    "ay": -40,
                    "showarrow": true,
                    "text": "Pos Pandemia",
                    "x": "2022-04-01",
                    "y": 34.30808238984768
                  }
                ],
                "legend": {
                  "title": {
                    "text": "Legend"
                  }
                },
                "shapes": [
                  {
                    "line": {
                      "color": "black",
                      "dash": "dash"
                    },
                    "type": "line",
                    "x0": "2020-04-01",
                    "x1": "2020-04-01",
                    "y0": 5.290365071949884,
                    "y1": 34.30808238984768
                  },
                  {
                    "line": {
                      "color": "black",
                      "dash": "dash"
                    },
                    "type": "line",
                    "x0": "2022-04-01",
                    "x1": "2022-04-01",
                    "y0": 5.290365071949884,
                    "y1": 34.30808238984768
                  }
                ],
                "template": {
                  "data": {
                    "bar": [
                      {
                        "error_x": {
                          "color": "#2a3f5f"
                        },
                        "error_y": {
                          "color": "#2a3f5f"
                        },
                        "marker": {
                          "line": {
                            "color": "#E5ECF6",
                            "width": 0.5
                          },
                          "pattern": {
                            "fillmode": "overlay",
                            "size": 10,
                            "solidity": 0.2
                          }
                        },
                        "type": "bar"
                      }
                    ],
                    "barpolar": [
                      {
                        "marker": {
                          "line": {
                            "color": "#E5ECF6",
                            "width": 0.5
                          },
                          "pattern": {
                            "fillmode": "overlay",
                            "size": 10,
                            "solidity": 0.2
                          }
                        },
                        "type": "barpolar"
                      }
                    ],
                    "carpet": [
                      {
                        "aaxis": {
                          "endlinecolor": "#2a3f5f",
                          "gridcolor": "white",
                          "linecolor": "white",
                          "minorgridcolor": "white",
                          "startlinecolor": "#2a3f5f"
                        },
                        "baxis": {
                          "endlinecolor": "#2a3f5f",
                          "gridcolor": "white",
                          "linecolor": "white",
                          "minorgridcolor": "white",
                          "startlinecolor": "#2a3f5f"
                        },
                        "type": "carpet"
                      }
                    ],
                    "choropleth": [
                      {
                        "colorbar": {
                          "outlinewidth": 0,
                          "ticks": ""
                        },
                        "type": "choropleth"
                      }
                    ],
                    "contour": [
                      {
                        "colorbar": {
                          "outlinewidth": 0,
                          "ticks": ""
                        },
                        "colorscale": [
                          [
                            0,
                            "#0d0887"
                          ],
                          [
                            0.1111111111111111,
                            "#46039f"
                          ],
                          [
                            0.2222222222222222,
                            "#7201a8"
                          ],
                          [
                            0.3333333333333333,
                            "#9c179e"
                          ],
                          [
                            0.4444444444444444,
                            "#bd3786"
                          ],
                          [
                            0.5555555555555556,
                            "#d8576b"
                          ],
                          [
                            0.6666666666666666,
                            "#ed7953"
                          ],
                          [
                            0.7777777777777778,
                            "#fb9f3a"
                          ],
                          [
                            0.8888888888888888,
                            "#fdca26"
                          ],
                          [
                            1,
                            "#f0f921"
                          ]
                        ],
                        "type": "contour"
                      }
                    ],
                    "contourcarpet": [
                      {
                        "colorbar": {
                          "outlinewidth": 0,
                          "ticks": ""
                        },
                        "type": "contourcarpet"
                      }
                    ],
                    "heatmap": [
                      {
                        "colorbar": {
                          "outlinewidth": 0,
                          "ticks": ""
                        },
                        "colorscale": [
                          [
                            0,
                            "#0d0887"
                          ],
                          [
                            0.1111111111111111,
                            "#46039f"
                          ],
                          [
                            0.2222222222222222,
                            "#7201a8"
                          ],
                          [
                            0.3333333333333333,
                            "#9c179e"
                          ],
                          [
                            0.4444444444444444,
                            "#bd3786"
                          ],
                          [
                            0.5555555555555556,
                            "#d8576b"
                          ],
                          [
                            0.6666666666666666,
                            "#ed7953"
                          ],
                          [
                            0.7777777777777778,
                            "#fb9f3a"
                          ],
                          [
                            0.8888888888888888,
                            "#fdca26"
                          ],
                          [
                            1,
                            "#f0f921"
                          ]
                        ],
                        "type": "heatmap"
                      }
                    ],
                    "heatmapgl": [
                      {
                        "colorbar": {
                          "outlinewidth": 0,
                          "ticks": ""
                        },
                        "colorscale": [
                          [
                            0,
                            "#0d0887"
                          ],
                          [
                            0.1111111111111111,
                            "#46039f"
                          ],
                          [
                            0.2222222222222222,
                            "#7201a8"
                          ],
                          [
                            0.3333333333333333,
                            "#9c179e"
                          ],
                          [
                            0.4444444444444444,
                            "#bd3786"
                          ],
                          [
                            0.5555555555555556,
                            "#d8576b"
                          ],
                          [
                            0.6666666666666666,
                            "#ed7953"
                          ],
                          [
                            0.7777777777777778,
                            "#fb9f3a"
                          ],
                          [
                            0.8888888888888888,
                            "#fdca26"
                          ],
                          [
                            1,
                            "#f0f921"
                          ]
                        ],
                        "type": "heatmapgl"
                      }
                    ],
                    "histogram": [
                      {
                        "marker": {
                          "pattern": {
                            "fillmode": "overlay",
                            "size": 10,
                            "solidity": 0.2
                          }
                        },
                        "type": "histogram"
                      }
                    ],
                    "histogram2d": [
                      {
                        "colorbar": {
                          "outlinewidth": 0,
                          "ticks": ""
                        },
                        "colorscale": [
                          [
                            0,
                            "#0d0887"
                          ],
                          [
                            0.1111111111111111,
                            "#46039f"
                          ],
                          [
                            0.2222222222222222,
                            "#7201a8"
                          ],
                          [
                            0.3333333333333333,
                            "#9c179e"
                          ],
                          [
                            0.4444444444444444,
                            "#bd3786"
                          ],
                          [
                            0.5555555555555556,
                            "#d8576b"
                          ],
                          [
                            0.6666666666666666,
                            "#ed7953"
                          ],
                          [
                            0.7777777777777778,
                            "#fb9f3a"
                          ],
                          [
                            0.8888888888888888,
                            "#fdca26"
                          ],
                          [
                            1,
                            "#f0f921"
                          ]
                        ],
                        "type": "histogram2d"
                      }
                    ],
                    "histogram2dcontour": [
                      {
                        "colorbar": {
                          "outlinewidth": 0,
                          "ticks": ""
                        },
                        "colorscale": [
                          [
                            0,
                            "#0d0887"
                          ],
                          [
                            0.1111111111111111,
                            "#46039f"
                          ],
                          [
                            0.2222222222222222,
                            "#7201a8"
                          ],
                          [
                            0.3333333333333333,
                            "#9c179e"
                          ],
                          [
                            0.4444444444444444,
                            "#bd3786"
                          ],
                          [
                            0.5555555555555556,
                            "#d8576b"
                          ],
                          [
                            0.6666666666666666,
                            "#ed7953"
                          ],
                          [
                            0.7777777777777778,
                            "#fb9f3a"
                          ],
                          [
                            0.8888888888888888,
                            "#fdca26"
                          ],
                          [
                            1,
                            "#f0f921"
                          ]
                        ],
                        "type": "histogram2dcontour"
                      }
                    ],
                    "mesh3d": [
                      {
                        "colorbar": {
                          "outlinewidth": 0,
                          "ticks": ""
                        },
                        "type": "mesh3d"
                      }
                    ],
                    "parcoords": [
                      {
                        "line": {
                          "colorbar": {
                            "outlinewidth": 0,
                            "ticks": ""
                          }
                        },
                        "type": "parcoords"
                      }
                    ],
                    "pie": [
                      {
                        "automargin": true,
                        "type": "pie"
                      }
                    ],
                    "scatter": [
                      {
                        "fillpattern": {
                          "fillmode": "overlay",
                          "size": 10,
                          "solidity": 0.2
                        },
                        "type": "scatter"
                      }
                    ],
                    "scatter3d": [
                      {
                        "line": {
                          "colorbar": {
                            "outlinewidth": 0,
                            "ticks": ""
                          }
                        },
                        "marker": {
                          "colorbar": {
                            "outlinewidth": 0,
                            "ticks": ""
                          }
                        },
                        "type": "scatter3d"
                      }
                    ],
                    "scattercarpet": [
                      {
                        "marker": {
                          "colorbar": {
                            "outlinewidth": 0,
                            "ticks": ""
                          }
                        },
                        "type": "scattercarpet"
                      }
                    ],
                    "scattergeo": [
                      {
                        "marker": {
                          "colorbar": {
                            "outlinewidth": 0,
                            "ticks": ""
                          }
                        },
                        "type": "scattergeo"
                      }
                    ],
                    "scattergl": [
                      {
                        "marker": {
                          "colorbar": {
                            "outlinewidth": 0,
                            "ticks": ""
                          }
                        },
                        "type": "scattergl"
                      }
                    ],
                    "scattermapbox": [
                      {
                        "marker": {
                          "colorbar": {
                            "outlinewidth": 0,
                            "ticks": ""
                          }
                        },
                        "type": "scattermapbox"
                      }
                    ],
                    "scatterpolar": [
                      {
                        "marker": {
                          "colorbar": {
                            "outlinewidth": 0,
                            "ticks": ""
                          }
                        },
                        "type": "scatterpolar"
                      }
                    ],
                    "scatterpolargl": [
                      {
                        "marker": {
                          "colorbar": {
                            "outlinewidth": 0,
                            "ticks": ""
                          }
                        },
                        "type": "scatterpolargl"
                      }
                    ],
                    "scatterternary": [
                      {
                        "marker": {
                          "colorbar": {
                            "outlinewidth": 0,
                            "ticks": ""
                          }
                        },
                        "type": "scatterternary"
                      }
                    ],
                    "surface": [
                      {
                        "colorbar": {
                          "outlinewidth": 0,
                          "ticks": ""
                        },
                        "colorscale": [
                          [
                            0,
                            "#0d0887"
                          ],
                          [
                            0.1111111111111111,
                            "#46039f"
                          ],
                          [
                            0.2222222222222222,
                            "#7201a8"
                          ],
                          [
                            0.3333333333333333,
                            "#9c179e"
                          ],
                          [
                            0.4444444444444444,
                            "#bd3786"
                          ],
                          [
                            0.5555555555555556,
                            "#d8576b"
                          ],
                          [
                            0.6666666666666666,
                            "#ed7953"
                          ],
                          [
                            0.7777777777777778,
                            "#fb9f3a"
                          ],
                          [
                            0.8888888888888888,
                            "#fdca26"
                          ],
                          [
                            1,
                            "#f0f921"
                          ]
                        ],
                        "type": "surface"
                      }
                    ],
                    "table": [
                      {
                        "cells": {
                          "fill": {
                            "color": "#EBF0F8"
                          },
                          "line": {
                            "color": "white"
                          }
                        },
                        "header": {
                          "fill": {
                            "color": "#C8D4E3"
                          },
                          "line": {
                            "color": "white"
                          }
                        },
                        "type": "table"
                      }
                    ]
                  },
                  "layout": {
                    "annotationdefaults": {
                      "arrowcolor": "#2a3f5f",
                      "arrowhead": 0,
                      "arrowwidth": 1
                    },
                    "autotypenumbers": "strict",
                    "coloraxis": {
                      "colorbar": {
                        "outlinewidth": 0,
                        "ticks": ""
                      }
                    },
                    "colorscale": {
                      "diverging": [
                        [
                          0,
                          "#8e0152"
                        ],
                        [
                          0.1,
                          "#c51b7d"
                        ],
                        [
                          0.2,
                          "#de77ae"
                        ],
                        [
                          0.3,
                          "#f1b6da"
                        ],
                        [
                          0.4,
                          "#fde0ef"
                        ],
                        [
                          0.5,
                          "#f7f7f7"
                        ],
                        [
                          0.6,
                          "#e6f5d0"
                        ],
                        [
                          0.7,
                          "#b8e186"
                        ],
                        [
                          0.8,
                          "#7fbc41"
                        ],
                        [
                          0.9,
                          "#4d9221"
                        ],
                        [
                          1,
                          "#276419"
                        ]
                      ],
                      "sequential": [
                        [
                          0,
                          "#0d0887"
                        ],
                        [
                          0.1111111111111111,
                          "#46039f"
                        ],
                        [
                          0.2222222222222222,
                          "#7201a8"
                        ],
                        [
                          0.3333333333333333,
                          "#9c179e"
                        ],
                        [
                          0.4444444444444444,
                          "#bd3786"
                        ],
                        [
                          0.5555555555555556,
                          "#d8576b"
                        ],
                        [
                          0.6666666666666666,
                          "#ed7953"
                        ],
                        [
                          0.7777777777777778,
                          "#fb9f3a"
                        ],
                        [
                          0.8888888888888888,
                          "#fdca26"
                        ],
                        [
                          1,
                          "#f0f921"
                        ]
                      ],
                      "sequentialminus": [
                        [
                          0,
                          "#0d0887"
                        ],
                        [
                          0.1111111111111111,
                          "#46039f"
                        ],
                        [
                          0.2222222222222222,
                          "#7201a8"
                        ],
                        [
                          0.3333333333333333,
                          "#9c179e"
                        ],
                        [
                          0.4444444444444444,
                          "#bd3786"
                        ],
                        [
                          0.5555555555555556,
                          "#d8576b"
                        ],
                        [
                          0.6666666666666666,
                          "#ed7953"
                        ],
                        [
                          0.7777777777777778,
                          "#fb9f3a"
                        ],
                        [
                          0.8888888888888888,
                          "#fdca26"
                        ],
                        [
                          1,
                          "#f0f921"
                        ]
                      ]
                    },
                    "colorway": [
                      "#636efa",
                      "#EF553B",
                      "#00cc96",
                      "#ab63fa",
                      "#FFA15A",
                      "#19d3f3",
                      "#FF6692",
                      "#B6E880",
                      "#FF97FF",
                      "#FECB52"
                    ],
                    "font": {
                      "color": "#2a3f5f"
                    },
                    "geo": {
                      "bgcolor": "white",
                      "lakecolor": "white",
                      "landcolor": "#E5ECF6",
                      "showlakes": true,
                      "showland": true,
                      "subunitcolor": "white"
                    },
                    "hoverlabel": {
                      "align": "left"
                    },
                    "hovermode": "closest",
                    "mapbox": {
                      "style": "light"
                    },
                    "paper_bgcolor": "white",
                    "plot_bgcolor": "#E5ECF6",
                    "polar": {
                      "angularaxis": {
                        "gridcolor": "white",
                        "linecolor": "white",
                        "ticks": ""
                      },
                      "bgcolor": "#E5ECF6",
                      "radialaxis": {
                        "gridcolor": "white",
                        "linecolor": "white",
                        "ticks": ""
                      }
                    },
                    "scene": {
                      "xaxis": {
                        "backgroundcolor": "#E5ECF6",
                        "gridcolor": "white",
                        "gridwidth": 2,
                        "linecolor": "white",
                        "showbackground": true,
                        "ticks": "",
                        "zerolinecolor": "white"
                      },
                      "yaxis": {
                        "backgroundcolor": "#E5ECF6",
                        "gridcolor": "white",
                        "gridwidth": 2,
                        "linecolor": "white",
                        "showbackground": true,
                        "ticks": "",
                        "zerolinecolor": "white"
                      },
                      "zaxis": {
                        "backgroundcolor": "#E5ECF6",
                        "gridcolor": "white",
                        "gridwidth": 2,
                        "linecolor": "white",
                        "showbackground": true,
                        "ticks": "",
                        "zerolinecolor": "white"
                      }
                    },
                    "shapedefaults": {
                      "line": {
                        "color": "#2a3f5f"
                      }
                    },
                    "ternary": {
                      "aaxis": {
                        "gridcolor": "white",
                        "linecolor": "white",
                        "ticks": ""
                      },
                      "baxis": {
                        "gridcolor": "white",
                        "linecolor": "white",
                        "ticks": ""
                      },
                      "bgcolor": "#E5ECF6",
                      "caxis": {
                        "gridcolor": "white",
                        "linecolor": "white",
                        "ticks": ""
                      }
                    },
                    "title": {
                      "x": 0.05
                    },
                    "xaxis": {
                      "automargin": true,
                      "gridcolor": "white",
                      "linecolor": "white",
                      "ticks": "",
                      "title": {
                        "standoff": 15
                      },
                      "zerolinecolor": "white",
                      "zerolinewidth": 2
                    },
                    "yaxis": {
                      "automargin": true,
                      "gridcolor": "white",
                      "linecolor": "white",
                      "ticks": "",
                      "title": {
                        "standoff": 15
                      },
                      "zerolinecolor": "white",
                      "zerolinewidth": 2
                    }
                  }
                },
                "title": {
                  "text": "nordeste"
                },
                "xaxis": {
                  "title": {
                    "text": "Time"
                  }
                },
                "yaxis": {
                  "title": {
                    "text": "Value"
                  }
                }
              }
            }
          },
          "metadata": {},
          "output_type": "display_data"
        },
        {
          "data": {
            "application/vnd.plotly.v1+json": {
              "config": {
                "plotlyServerURL": "https://plot.ly"
              },
              "data": [
                {
                  "marker": {
                    "color": "black"
                  },
                  "mode": "markers",
                  "name": "Real",
                  "type": "scatter",
                  "x": [
                    "2016-01-01T00:00:00.000000000",
                    "2016-02-01T00:00:00.000000000",
                    "2016-03-01T00:00:00.000000000",
                    "2016-04-01T00:00:00.000000000",
                    "2016-05-01T00:00:00.000000000",
                    "2016-06-01T00:00:00.000000000",
                    "2016-07-01T00:00:00.000000000",
                    "2016-08-01T00:00:00.000000000",
                    "2016-09-01T00:00:00.000000000",
                    "2016-10-01T00:00:00.000000000",
                    "2016-11-01T00:00:00.000000000",
                    "2016-12-01T00:00:00.000000000",
                    "2017-01-01T00:00:00.000000000",
                    "2017-02-01T00:00:00.000000000",
                    "2017-03-01T00:00:00.000000000",
                    "2017-04-01T00:00:00.000000000",
                    "2017-05-01T00:00:00.000000000",
                    "2017-06-01T00:00:00.000000000",
                    "2017-07-01T00:00:00.000000000",
                    "2017-08-01T00:00:00.000000000",
                    "2017-09-01T00:00:00.000000000",
                    "2017-10-01T00:00:00.000000000",
                    "2017-11-01T00:00:00.000000000",
                    "2017-12-01T00:00:00.000000000",
                    "2018-01-01T00:00:00.000000000",
                    "2018-02-01T00:00:00.000000000",
                    "2018-03-01T00:00:00.000000000",
                    "2018-04-01T00:00:00.000000000",
                    "2018-05-01T00:00:00.000000000",
                    "2018-06-01T00:00:00.000000000",
                    "2018-07-01T00:00:00.000000000",
                    "2018-08-01T00:00:00.000000000",
                    "2018-09-01T00:00:00.000000000",
                    "2018-10-01T00:00:00.000000000",
                    "2018-11-01T00:00:00.000000000",
                    "2018-12-01T00:00:00.000000000",
                    "2019-01-01T00:00:00.000000000",
                    "2019-02-01T00:00:00.000000000",
                    "2019-03-01T00:00:00.000000000",
                    "2019-04-01T00:00:00.000000000",
                    "2019-05-01T00:00:00.000000000",
                    "2019-06-01T00:00:00.000000000",
                    "2019-07-01T00:00:00.000000000",
                    "2019-08-01T00:00:00.000000000",
                    "2019-09-01T00:00:00.000000000",
                    "2019-10-01T00:00:00.000000000",
                    "2019-11-01T00:00:00.000000000",
                    "2019-12-01T00:00:00.000000000",
                    "2020-01-01T00:00:00.000000000",
                    "2020-02-01T00:00:00.000000000",
                    "2020-03-01T00:00:00.000000000",
                    "2020-04-01T00:00:00.000000000",
                    "2020-05-01T00:00:00.000000000",
                    "2020-06-01T00:00:00.000000000",
                    "2020-07-01T00:00:00.000000000",
                    "2020-08-01T00:00:00.000000000",
                    "2020-09-01T00:00:00.000000000",
                    "2020-10-01T00:00:00.000000000",
                    "2020-11-01T00:00:00.000000000",
                    "2020-12-01T00:00:00.000000000",
                    "2021-01-01T00:00:00.000000000",
                    "2021-02-01T00:00:00.000000000",
                    "2021-03-01T00:00:00.000000000",
                    "2021-04-01T00:00:00.000000000",
                    "2021-05-01T00:00:00.000000000",
                    "2021-06-01T00:00:00.000000000",
                    "2021-07-01T00:00:00.000000000",
                    "2021-08-01T00:00:00.000000000",
                    "2021-09-01T00:00:00.000000000",
                    "2021-10-01T00:00:00.000000000",
                    "2021-11-01T00:00:00.000000000",
                    "2021-12-01T00:00:00.000000000",
                    "2022-01-01T00:00:00.000000000",
                    "2022-02-01T00:00:00.000000000",
                    "2022-03-01T00:00:00.000000000",
                    "2022-04-01T00:00:00.000000000",
                    "2022-05-01T00:00:00.000000000",
                    "2022-06-01T00:00:00.000000000",
                    "2022-07-01T00:00:00.000000000",
                    "2022-08-01T00:00:00.000000000",
                    "2022-09-01T00:00:00.000000000",
                    "2022-10-01T00:00:00.000000000",
                    "2022-11-01T00:00:00.000000000",
                    "2022-12-01T00:00:00.000000000",
                    "2023-01-01T00:00:00.000000000",
                    "2023-02-01T00:00:00.000000000",
                    "2023-03-01T00:00:00.000000000",
                    "2023-04-01T00:00:00.000000000",
                    "2023-05-01T00:00:00.000000000",
                    "2023-06-01T00:00:00.000000000",
                    "2023-07-01T00:00:00.000000000",
                    "2023-08-01T00:00:00.000000000",
                    "2023-09-01T00:00:00.000000000",
                    "2023-10-01T00:00:00.000000000",
                    "2023-11-01T00:00:00.000000000",
                    "2023-12-01T00:00:00.000000000",
                    "2024-01-01T00:00:00.000000000",
                    "2024-02-01T00:00:00.000000000",
                    "2024-03-01T00:00:00.000000000",
                    "2024-04-01T00:00:00.000000000",
                    "2024-05-01T00:00:00.000000000",
                    "2024-06-01T00:00:00.000000000",
                    "2024-07-01T00:00:00.000000000",
                    "2024-08-01T00:00:00.000000000",
                    "2024-09-01T00:00:00.000000000",
                    "2024-10-01T00:00:00.000000000",
                    "2024-11-01T00:00:00.000000000",
                    "2024-12-01T00:00:00.000000000"
                  ],
                  "y": [
                    10.941401389358143,
                    11.153289500889054,
                    10.147589055629307,
                    10.443089808801592,
                    11.550837358963411,
                    11.956852961061964,
                    12.222830662100645,
                    12.053856592078645,
                    10.922161403693112,
                    12.108456632832628,
                    11.24456421169504,
                    11.476098523162246,
                    12.883236592571883,
                    13.103285658281703,
                    12.353367819075748,
                    12.88020271632866,
                    14.026221643619367,
                    14.724024083269354,
                    15.172998671998114,
                    16.743517991134446,
                    17.50080948783229,
                    18.551725122756768,
                    19.24970574031138,
                    19.018004307552964,
                    19.46595158061714,
                    20.15976295663337,
                    19.575593794663096,
                    18.94855506346339,
                    20.153266306238436,
                    22.438699931614742,
                    21.94833973527101,
                    22.202889333406468,
                    22.330103217435365,
                    22.098739342961768,
                    21.768217460015585,
                    21.637351521758603,
                    21.07423466406934,
                    21.675527084642635,
                    21.237596191071294,
                    19.931663643835805,
                    20.26943065317726,
                    21.23602606289089,
                    22.340853510062782,
                    24.309228204013042,
                    25.432281982612057,
                    25.118195167354948,
                    24.297504041333756,
                    24.971490093771628,
                    24.836732424679976,
                    24.137818176883478,
                    24.75752642998163,
                    30.65261778875609,
                    29.301670858285537,
                    27.193490120468116,
                    24.089710836540856,
                    23.74104219612153,
                    25.804027159581796,
                    26.77968851033053,
                    25.878678438366165,
                    24.107470616422297,
                    24.6740191716648,
                    25.344051080326093,
                    23.35680721884366,
                    25.011219700585134,
                    23.26195543586848,
                    25.29701485722184,
                    25.651590119006016,
                    27.5704057061705,
                    29.16117018095997,
                    28.002797679929436,
                    27.78879468166834,
                    25.400022596845012,
                    17.618142896302498,
                    23.848139318214447,
                    27.546137057621213,
                    27.30054765177304,
                    26.640351164542864,
                    22.90007569717366,
                    25.184260912166287,
                    29.105037934073167,
                    30.626012269217316,
                    28.648598238113003,
                    27.254421117690452,
                    24.65804742760372,
                    29.3767082567674,
                    29.353353450896446,
                    27.475231461451934,
                    25.904325392468987,
                    27.497241589783318,
                    29.259569217514947,
                    29.95301692636741,
                    31.239758005114915,
                    32.125805445422934,
                    30.656477577134357,
                    30.30209761429681,
                    29.42344365830787,
                    29.995833272263205,
                    26.689974187773625,
                    25.755695538993272,
                    25.50803046568807,
                    26.94564098238045,
                    29.694326911726467,
                    30.674832310812995,
                    30.998612801985313,
                    30.824555202805175,
                    31.499143195822324,
                    29.985980449816974,
                    29.58332957744388
                  ]
                },
                {
                  "line": {
                    "color": "black",
                    "dash": "dot"
                  },
                  "mode": "lines",
                  "name": "Baseline",
                  "type": "scatter",
                  "x": [
                    "2016-01-01T00:00:00.000000000",
                    "2016-02-01T00:00:00.000000000",
                    "2016-03-01T00:00:00.000000000",
                    "2016-04-01T00:00:00.000000000",
                    "2016-05-01T00:00:00.000000000",
                    "2016-06-01T00:00:00.000000000",
                    "2016-07-01T00:00:00.000000000",
                    "2016-08-01T00:00:00.000000000",
                    "2016-09-01T00:00:00.000000000",
                    "2016-10-01T00:00:00.000000000",
                    "2016-11-01T00:00:00.000000000",
                    "2016-12-01T00:00:00.000000000",
                    "2017-01-01T00:00:00.000000000",
                    "2017-02-01T00:00:00.000000000",
                    "2017-03-01T00:00:00.000000000",
                    "2017-04-01T00:00:00.000000000",
                    "2017-05-01T00:00:00.000000000",
                    "2017-06-01T00:00:00.000000000",
                    "2017-07-01T00:00:00.000000000",
                    "2017-08-01T00:00:00.000000000",
                    "2017-09-01T00:00:00.000000000",
                    "2017-10-01T00:00:00.000000000",
                    "2017-11-01T00:00:00.000000000",
                    "2017-12-01T00:00:00.000000000",
                    "2018-01-01T00:00:00.000000000",
                    "2018-02-01T00:00:00.000000000",
                    "2018-03-01T00:00:00.000000000",
                    "2018-04-01T00:00:00.000000000",
                    "2018-05-01T00:00:00.000000000",
                    "2018-06-01T00:00:00.000000000",
                    "2018-07-01T00:00:00.000000000",
                    "2018-08-01T00:00:00.000000000",
                    "2018-09-01T00:00:00.000000000",
                    "2018-10-01T00:00:00.000000000",
                    "2018-11-01T00:00:00.000000000",
                    "2018-12-01T00:00:00.000000000",
                    "2019-01-01T00:00:00.000000000",
                    "2019-02-01T00:00:00.000000000",
                    "2019-03-01T00:00:00.000000000",
                    "2019-04-01T00:00:00.000000000",
                    "2019-05-01T00:00:00.000000000",
                    "2019-06-01T00:00:00.000000000",
                    "2019-07-01T00:00:00.000000000",
                    "2019-08-01T00:00:00.000000000",
                    "2019-09-01T00:00:00.000000000",
                    "2019-10-01T00:00:00.000000000",
                    "2019-11-01T00:00:00.000000000",
                    "2019-12-01T00:00:00.000000000",
                    "2020-01-01T00:00:00.000000000",
                    "2020-02-01T00:00:00.000000000",
                    "2020-03-01T00:00:00.000000000",
                    "2020-04-01T00:00:00.000000000",
                    "2020-05-01T00:00:00.000000000",
                    "2020-06-01T00:00:00.000000000",
                    "2020-07-01T00:00:00.000000000",
                    "2020-08-01T00:00:00.000000000",
                    "2020-09-01T00:00:00.000000000",
                    "2020-10-01T00:00:00.000000000",
                    "2020-11-01T00:00:00.000000000",
                    "2020-12-01T00:00:00.000000000",
                    "2021-01-01T00:00:00.000000000",
                    "2021-02-01T00:00:00.000000000",
                    "2021-03-01T00:00:00.000000000",
                    "2021-04-01T00:00:00.000000000",
                    "2021-05-01T00:00:00.000000000",
                    "2021-06-01T00:00:00.000000000",
                    "2021-07-01T00:00:00.000000000",
                    "2021-08-01T00:00:00.000000000",
                    "2021-09-01T00:00:00.000000000",
                    "2021-10-01T00:00:00.000000000",
                    "2021-11-01T00:00:00.000000000",
                    "2021-12-01T00:00:00.000000000",
                    "2022-01-01T00:00:00.000000000",
                    "2022-02-01T00:00:00.000000000",
                    "2022-03-01T00:00:00.000000000",
                    "2022-04-01T00:00:00.000000000",
                    "2022-05-01T00:00:00.000000000",
                    "2022-06-01T00:00:00.000000000",
                    "2022-07-01T00:00:00.000000000",
                    "2022-08-01T00:00:00.000000000",
                    "2022-09-01T00:00:00.000000000",
                    "2022-10-01T00:00:00.000000000",
                    "2022-11-01T00:00:00.000000000",
                    "2022-12-01T00:00:00.000000000",
                    "2023-01-01T00:00:00.000000000",
                    "2023-02-01T00:00:00.000000000",
                    "2023-03-01T00:00:00.000000000",
                    "2023-04-01T00:00:00.000000000",
                    "2023-05-01T00:00:00.000000000",
                    "2023-06-01T00:00:00.000000000",
                    "2023-07-01T00:00:00.000000000",
                    "2023-08-01T00:00:00.000000000",
                    "2023-09-01T00:00:00.000000000",
                    "2023-10-01T00:00:00.000000000",
                    "2023-11-01T00:00:00.000000000",
                    "2023-12-01T00:00:00.000000000",
                    "2024-01-01T00:00:00.000000000",
                    "2024-02-01T00:00:00.000000000",
                    "2024-03-01T00:00:00.000000000",
                    "2024-04-01T00:00:00.000000000",
                    "2024-05-01T00:00:00.000000000",
                    "2024-06-01T00:00:00.000000000",
                    "2024-07-01T00:00:00.000000000",
                    "2024-08-01T00:00:00.000000000",
                    "2024-09-01T00:00:00.000000000",
                    "2024-10-01T00:00:00.000000000",
                    "2024-11-01T00:00:00.000000000",
                    "2024-12-01T00:00:00.000000000"
                  ],
                  "y": [
                    10.34680745096709,
                    10.644497477559174,
                    10.94218750415126,
                    11.239877530743344,
                    11.53756755733543,
                    11.835257583927515,
                    12.1329476105196,
                    12.430637637111685,
                    12.728327663703771,
                    13.026017690295856,
                    13.323707716887942,
                    13.621397743480028,
                    13.919087770072112,
                    14.216777796664196,
                    14.514467823256282,
                    14.812157849848369,
                    15.109847876440453,
                    15.407537903032537,
                    15.705227929624623,
                    16.00291795621671,
                    16.300607982808792,
                    16.598298009400878,
                    16.895988035992964,
                    17.19367806258505,
                    17.491368089177136,
                    17.789058115769222,
                    18.086748142361305,
                    18.38443816895339,
                    18.682128195545474,
                    18.97981822213756,
                    19.277508248729646,
                    19.575198275321732,
                    19.872888301913818,
                    20.170578328505904,
                    20.46826835509799,
                    20.765958381690073,
                    21.06364840828216,
                    21.36133843487424,
                    21.659028461466328,
                    21.956718488058414,
                    22.2544085146505,
                    22.552098541242586,
                    22.849788567834672,
                    23.147478594426754,
                    23.44516862101884,
                    23.742858647610923,
                    24.04054867420301,
                    24.338238700795095,
                    24.63592872738718,
                    24.933618753979268,
                    25.231308780571354,
                    25.52899880716344,
                    25.826688833755522,
                    26.124378860347605,
                    26.42206888693969,
                    26.719758913531777,
                    27.017448940123863,
                    27.31513896671595,
                    27.612828993308035,
                    27.91051901990012,
                    28.208209046492208,
                    28.505899073084286,
                    28.803589099676373,
                    29.10127912626846,
                    29.398969152860545,
                    29.69665917945263,
                    29.994349206044717,
                    30.292039232636803,
                    30.58972925922889,
                    30.887419285820975,
                    31.185109312413054,
                    31.48279933900514,
                    31.780489365597226,
                    32.07817939218931,
                    32.3758694187814,
                    32.673559445373485,
                    32.97124947196557,
                    33.26893949855766,
                    33.566629525149736,
                    33.86431955174182,
                    34.16200957833391,
                    34.459699604925994,
                    34.75738963151808,
                    35.05507965811017,
                    35.35276968470225,
                    35.65045971129434,
                    35.948149737886425,
                    36.245839764478504,
                    36.54352979107059,
                    36.841219817662676,
                    37.13890984425476,
                    37.43659987084685,
                    37.734289897438934,
                    38.03197992403102,
                    38.329669950623106,
                    38.62735997721519,
                    38.92505000380727,
                    39.22274003039936,
                    39.520430056991444,
                    39.81812008358353,
                    40.115810110175616,
                    40.4135001367677,
                    40.71119016335979,
                    41.008880189951874,
                    41.30657021654395,
                    41.60426024313604,
                    41.901950269728125,
                    42.19964029632021
                  ]
                },
                {
                  "line": {
                    "color": "purple"
                  },
                  "mode": "lines",
                  "name": "Full model",
                  "type": "scatter",
                  "x": [
                    "2016-01-01T00:00:00.000000000",
                    "2016-02-01T00:00:00.000000000",
                    "2016-03-01T00:00:00.000000000",
                    "2016-04-01T00:00:00.000000000",
                    "2016-05-01T00:00:00.000000000",
                    "2016-06-01T00:00:00.000000000",
                    "2016-07-01T00:00:00.000000000",
                    "2016-08-01T00:00:00.000000000",
                    "2016-09-01T00:00:00.000000000",
                    "2016-10-01T00:00:00.000000000",
                    "2016-11-01T00:00:00.000000000",
                    "2016-12-01T00:00:00.000000000",
                    "2017-01-01T00:00:00.000000000",
                    "2017-02-01T00:00:00.000000000",
                    "2017-03-01T00:00:00.000000000",
                    "2017-04-01T00:00:00.000000000",
                    "2017-05-01T00:00:00.000000000",
                    "2017-06-01T00:00:00.000000000",
                    "2017-07-01T00:00:00.000000000",
                    "2017-08-01T00:00:00.000000000",
                    "2017-09-01T00:00:00.000000000",
                    "2017-10-01T00:00:00.000000000",
                    "2017-11-01T00:00:00.000000000",
                    "2017-12-01T00:00:00.000000000",
                    "2018-01-01T00:00:00.000000000",
                    "2018-02-01T00:00:00.000000000",
                    "2018-03-01T00:00:00.000000000",
                    "2018-04-01T00:00:00.000000000",
                    "2018-05-01T00:00:00.000000000",
                    "2018-06-01T00:00:00.000000000",
                    "2018-07-01T00:00:00.000000000",
                    "2018-08-01T00:00:00.000000000",
                    "2018-09-01T00:00:00.000000000",
                    "2018-10-01T00:00:00.000000000",
                    "2018-11-01T00:00:00.000000000",
                    "2018-12-01T00:00:00.000000000",
                    "2019-01-01T00:00:00.000000000",
                    "2019-02-01T00:00:00.000000000",
                    "2019-03-01T00:00:00.000000000",
                    "2019-04-01T00:00:00.000000000",
                    "2019-05-01T00:00:00.000000000",
                    "2019-06-01T00:00:00.000000000",
                    "2019-07-01T00:00:00.000000000",
                    "2019-08-01T00:00:00.000000000",
                    "2019-09-01T00:00:00.000000000",
                    "2019-10-01T00:00:00.000000000",
                    "2019-11-01T00:00:00.000000000",
                    "2019-12-01T00:00:00.000000000",
                    "2020-01-01T00:00:00.000000000",
                    "2020-02-01T00:00:00.000000000",
                    "2020-03-01T00:00:00.000000000",
                    "2020-04-01T00:00:00.000000000",
                    "2020-05-01T00:00:00.000000000",
                    "2020-06-01T00:00:00.000000000",
                    "2020-07-01T00:00:00.000000000",
                    "2020-08-01T00:00:00.000000000",
                    "2020-09-01T00:00:00.000000000",
                    "2020-10-01T00:00:00.000000000",
                    "2020-11-01T00:00:00.000000000",
                    "2020-12-01T00:00:00.000000000",
                    "2021-01-01T00:00:00.000000000",
                    "2021-02-01T00:00:00.000000000",
                    "2021-03-01T00:00:00.000000000",
                    "2021-04-01T00:00:00.000000000",
                    "2021-05-01T00:00:00.000000000",
                    "2021-06-01T00:00:00.000000000",
                    "2021-07-01T00:00:00.000000000",
                    "2021-08-01T00:00:00.000000000",
                    "2021-09-01T00:00:00.000000000",
                    "2021-10-01T00:00:00.000000000",
                    "2021-11-01T00:00:00.000000000",
                    "2021-12-01T00:00:00.000000000",
                    "2022-01-01T00:00:00.000000000",
                    "2022-02-01T00:00:00.000000000",
                    "2022-03-01T00:00:00.000000000",
                    "2022-04-01T00:00:00.000000000",
                    "2022-05-01T00:00:00.000000000",
                    "2022-06-01T00:00:00.000000000",
                    "2022-07-01T00:00:00.000000000",
                    "2022-08-01T00:00:00.000000000",
                    "2022-09-01T00:00:00.000000000",
                    "2022-10-01T00:00:00.000000000",
                    "2022-11-01T00:00:00.000000000",
                    "2022-12-01T00:00:00.000000000",
                    "2023-01-01T00:00:00.000000000",
                    "2023-02-01T00:00:00.000000000",
                    "2023-03-01T00:00:00.000000000",
                    "2023-04-01T00:00:00.000000000",
                    "2023-05-01T00:00:00.000000000",
                    "2023-06-01T00:00:00.000000000",
                    "2023-07-01T00:00:00.000000000",
                    "2023-08-01T00:00:00.000000000",
                    "2023-09-01T00:00:00.000000000",
                    "2023-10-01T00:00:00.000000000",
                    "2023-11-01T00:00:00.000000000",
                    "2023-12-01T00:00:00.000000000",
                    "2024-01-01T00:00:00.000000000",
                    "2024-02-01T00:00:00.000000000",
                    "2024-03-01T00:00:00.000000000",
                    "2024-04-01T00:00:00.000000000",
                    "2024-05-01T00:00:00.000000000",
                    "2024-06-01T00:00:00.000000000",
                    "2024-07-01T00:00:00.000000000",
                    "2024-08-01T00:00:00.000000000",
                    "2024-09-01T00:00:00.000000000",
                    "2024-10-01T00:00:00.000000000",
                    "2024-11-01T00:00:00.000000000",
                    "2024-12-01T00:00:00.000000000"
                  ],
                  "y": [
                    10.34680745096709,
                    10.644497477559174,
                    10.94218750415126,
                    11.239877530743344,
                    11.53756755733543,
                    11.835257583927515,
                    12.1329476105196,
                    12.430637637111685,
                    12.728327663703771,
                    13.026017690295856,
                    13.323707716887942,
                    13.621397743480028,
                    13.919087770072112,
                    14.216777796664196,
                    14.514467823256282,
                    14.812157849848369,
                    15.109847876440453,
                    15.407537903032537,
                    15.705227929624623,
                    16.00291795621671,
                    16.300607982808792,
                    16.598298009400878,
                    16.895988035992964,
                    17.19367806258505,
                    17.491368089177136,
                    17.789058115769222,
                    18.086748142361305,
                    18.38443816895339,
                    18.682128195545474,
                    18.97981822213756,
                    19.277508248729646,
                    19.575198275321732,
                    19.872888301913818,
                    20.170578328505904,
                    20.46826835509799,
                    20.765958381690073,
                    21.06364840828216,
                    21.36133843487424,
                    21.659028461466328,
                    21.956718488058414,
                    22.2544085146505,
                    22.552098541242586,
                    22.849788567834672,
                    23.147478594426754,
                    23.44516862101884,
                    23.742858647610923,
                    24.04054867420301,
                    24.338238700795095,
                    24.63592872738718,
                    24.933618753979268,
                    25.231308780571354,
                    28.14617574533918,
                    28.0015243998281,
                    27.856873054317017,
                    27.71222170880594,
                    27.567570363294866,
                    27.42291901778379,
                    27.278267672272715,
                    27.13361632676164,
                    26.98896498125056,
                    26.844313635739486,
                    26.699662290228403,
                    26.555010944717328,
                    26.410359599206252,
                    26.26570825369518,
                    26.1210569081841,
                    25.976405562673026,
                    25.83175421716195,
                    25.687102871650872,
                    25.5424515261398,
                    25.397800180628714,
                    25.25314883511764,
                    25.108497489606563,
                    24.963846144095484,
                    24.819194798584412,
                    26.241705411804205,
                    26.37291183297287,
                    26.504118254141538,
                    26.635324675310198,
                    26.766531096478865,
                    26.89773751764753,
                    27.028943938816198,
                    27.160150359984865,
                    27.29135678115353,
                    27.422563202322202,
                    27.553769623490865,
                    27.684976044659535,
                    27.816182465828195,
                    27.947388886996862,
                    28.07859530816553,
                    28.209801729334195,
                    28.341008150502862,
                    28.47221457167153,
                    28.603420992840196,
                    28.734627414008866,
                    28.865833835177533,
                    28.997040256346192,
                    29.12824667751486,
                    29.259453098683526,
                    29.390659519852193,
                    29.52186594102086,
                    29.653072362189526,
                    29.784278783358193,
                    29.91548520452686,
                    30.046691625695523,
                    30.177898046864186,
                    30.309104468032857,
                    30.44031088920152
                  ]
                }
              ],
              "layout": {
                "annotations": [
                  {
                    "arrowhead": 2,
                    "ax": 30,
                    "ay": -40,
                    "showarrow": true,
                    "text": "Pandemia",
                    "x": "2020-04-01",
                    "y": 32.125805445422934
                  },
                  {
                    "arrowhead": 2,
                    "ax": 30,
                    "ay": -40,
                    "showarrow": true,
                    "text": "Pos Pandemia",
                    "x": "2022-04-01",
                    "y": 32.125805445422934
                  }
                ],
                "legend": {
                  "title": {
                    "text": "Legend"
                  }
                },
                "shapes": [
                  {
                    "line": {
                      "color": "black",
                      "dash": "dash"
                    },
                    "type": "line",
                    "x0": "2020-04-01",
                    "x1": "2020-04-01",
                    "y0": 10.147589055629307,
                    "y1": 32.125805445422934
                  },
                  {
                    "line": {
                      "color": "black",
                      "dash": "dash"
                    },
                    "type": "line",
                    "x0": "2022-04-01",
                    "x1": "2022-04-01",
                    "y0": 10.147589055629307,
                    "y1": 32.125805445422934
                  }
                ],
                "template": {
                  "data": {
                    "bar": [
                      {
                        "error_x": {
                          "color": "#2a3f5f"
                        },
                        "error_y": {
                          "color": "#2a3f5f"
                        },
                        "marker": {
                          "line": {
                            "color": "#E5ECF6",
                            "width": 0.5
                          },
                          "pattern": {
                            "fillmode": "overlay",
                            "size": 10,
                            "solidity": 0.2
                          }
                        },
                        "type": "bar"
                      }
                    ],
                    "barpolar": [
                      {
                        "marker": {
                          "line": {
                            "color": "#E5ECF6",
                            "width": 0.5
                          },
                          "pattern": {
                            "fillmode": "overlay",
                            "size": 10,
                            "solidity": 0.2
                          }
                        },
                        "type": "barpolar"
                      }
                    ],
                    "carpet": [
                      {
                        "aaxis": {
                          "endlinecolor": "#2a3f5f",
                          "gridcolor": "white",
                          "linecolor": "white",
                          "minorgridcolor": "white",
                          "startlinecolor": "#2a3f5f"
                        },
                        "baxis": {
                          "endlinecolor": "#2a3f5f",
                          "gridcolor": "white",
                          "linecolor": "white",
                          "minorgridcolor": "white",
                          "startlinecolor": "#2a3f5f"
                        },
                        "type": "carpet"
                      }
                    ],
                    "choropleth": [
                      {
                        "colorbar": {
                          "outlinewidth": 0,
                          "ticks": ""
                        },
                        "type": "choropleth"
                      }
                    ],
                    "contour": [
                      {
                        "colorbar": {
                          "outlinewidth": 0,
                          "ticks": ""
                        },
                        "colorscale": [
                          [
                            0,
                            "#0d0887"
                          ],
                          [
                            0.1111111111111111,
                            "#46039f"
                          ],
                          [
                            0.2222222222222222,
                            "#7201a8"
                          ],
                          [
                            0.3333333333333333,
                            "#9c179e"
                          ],
                          [
                            0.4444444444444444,
                            "#bd3786"
                          ],
                          [
                            0.5555555555555556,
                            "#d8576b"
                          ],
                          [
                            0.6666666666666666,
                            "#ed7953"
                          ],
                          [
                            0.7777777777777778,
                            "#fb9f3a"
                          ],
                          [
                            0.8888888888888888,
                            "#fdca26"
                          ],
                          [
                            1,
                            "#f0f921"
                          ]
                        ],
                        "type": "contour"
                      }
                    ],
                    "contourcarpet": [
                      {
                        "colorbar": {
                          "outlinewidth": 0,
                          "ticks": ""
                        },
                        "type": "contourcarpet"
                      }
                    ],
                    "heatmap": [
                      {
                        "colorbar": {
                          "outlinewidth": 0,
                          "ticks": ""
                        },
                        "colorscale": [
                          [
                            0,
                            "#0d0887"
                          ],
                          [
                            0.1111111111111111,
                            "#46039f"
                          ],
                          [
                            0.2222222222222222,
                            "#7201a8"
                          ],
                          [
                            0.3333333333333333,
                            "#9c179e"
                          ],
                          [
                            0.4444444444444444,
                            "#bd3786"
                          ],
                          [
                            0.5555555555555556,
                            "#d8576b"
                          ],
                          [
                            0.6666666666666666,
                            "#ed7953"
                          ],
                          [
                            0.7777777777777778,
                            "#fb9f3a"
                          ],
                          [
                            0.8888888888888888,
                            "#fdca26"
                          ],
                          [
                            1,
                            "#f0f921"
                          ]
                        ],
                        "type": "heatmap"
                      }
                    ],
                    "heatmapgl": [
                      {
                        "colorbar": {
                          "outlinewidth": 0,
                          "ticks": ""
                        },
                        "colorscale": [
                          [
                            0,
                            "#0d0887"
                          ],
                          [
                            0.1111111111111111,
                            "#46039f"
                          ],
                          [
                            0.2222222222222222,
                            "#7201a8"
                          ],
                          [
                            0.3333333333333333,
                            "#9c179e"
                          ],
                          [
                            0.4444444444444444,
                            "#bd3786"
                          ],
                          [
                            0.5555555555555556,
                            "#d8576b"
                          ],
                          [
                            0.6666666666666666,
                            "#ed7953"
                          ],
                          [
                            0.7777777777777778,
                            "#fb9f3a"
                          ],
                          [
                            0.8888888888888888,
                            "#fdca26"
                          ],
                          [
                            1,
                            "#f0f921"
                          ]
                        ],
                        "type": "heatmapgl"
                      }
                    ],
                    "histogram": [
                      {
                        "marker": {
                          "pattern": {
                            "fillmode": "overlay",
                            "size": 10,
                            "solidity": 0.2
                          }
                        },
                        "type": "histogram"
                      }
                    ],
                    "histogram2d": [
                      {
                        "colorbar": {
                          "outlinewidth": 0,
                          "ticks": ""
                        },
                        "colorscale": [
                          [
                            0,
                            "#0d0887"
                          ],
                          [
                            0.1111111111111111,
                            "#46039f"
                          ],
                          [
                            0.2222222222222222,
                            "#7201a8"
                          ],
                          [
                            0.3333333333333333,
                            "#9c179e"
                          ],
                          [
                            0.4444444444444444,
                            "#bd3786"
                          ],
                          [
                            0.5555555555555556,
                            "#d8576b"
                          ],
                          [
                            0.6666666666666666,
                            "#ed7953"
                          ],
                          [
                            0.7777777777777778,
                            "#fb9f3a"
                          ],
                          [
                            0.8888888888888888,
                            "#fdca26"
                          ],
                          [
                            1,
                            "#f0f921"
                          ]
                        ],
                        "type": "histogram2d"
                      }
                    ],
                    "histogram2dcontour": [
                      {
                        "colorbar": {
                          "outlinewidth": 0,
                          "ticks": ""
                        },
                        "colorscale": [
                          [
                            0,
                            "#0d0887"
                          ],
                          [
                            0.1111111111111111,
                            "#46039f"
                          ],
                          [
                            0.2222222222222222,
                            "#7201a8"
                          ],
                          [
                            0.3333333333333333,
                            "#9c179e"
                          ],
                          [
                            0.4444444444444444,
                            "#bd3786"
                          ],
                          [
                            0.5555555555555556,
                            "#d8576b"
                          ],
                          [
                            0.6666666666666666,
                            "#ed7953"
                          ],
                          [
                            0.7777777777777778,
                            "#fb9f3a"
                          ],
                          [
                            0.8888888888888888,
                            "#fdca26"
                          ],
                          [
                            1,
                            "#f0f921"
                          ]
                        ],
                        "type": "histogram2dcontour"
                      }
                    ],
                    "mesh3d": [
                      {
                        "colorbar": {
                          "outlinewidth": 0,
                          "ticks": ""
                        },
                        "type": "mesh3d"
                      }
                    ],
                    "parcoords": [
                      {
                        "line": {
                          "colorbar": {
                            "outlinewidth": 0,
                            "ticks": ""
                          }
                        },
                        "type": "parcoords"
                      }
                    ],
                    "pie": [
                      {
                        "automargin": true,
                        "type": "pie"
                      }
                    ],
                    "scatter": [
                      {
                        "fillpattern": {
                          "fillmode": "overlay",
                          "size": 10,
                          "solidity": 0.2
                        },
                        "type": "scatter"
                      }
                    ],
                    "scatter3d": [
                      {
                        "line": {
                          "colorbar": {
                            "outlinewidth": 0,
                            "ticks": ""
                          }
                        },
                        "marker": {
                          "colorbar": {
                            "outlinewidth": 0,
                            "ticks": ""
                          }
                        },
                        "type": "scatter3d"
                      }
                    ],
                    "scattercarpet": [
                      {
                        "marker": {
                          "colorbar": {
                            "outlinewidth": 0,
                            "ticks": ""
                          }
                        },
                        "type": "scattercarpet"
                      }
                    ],
                    "scattergeo": [
                      {
                        "marker": {
                          "colorbar": {
                            "outlinewidth": 0,
                            "ticks": ""
                          }
                        },
                        "type": "scattergeo"
                      }
                    ],
                    "scattergl": [
                      {
                        "marker": {
                          "colorbar": {
                            "outlinewidth": 0,
                            "ticks": ""
                          }
                        },
                        "type": "scattergl"
                      }
                    ],
                    "scattermapbox": [
                      {
                        "marker": {
                          "colorbar": {
                            "outlinewidth": 0,
                            "ticks": ""
                          }
                        },
                        "type": "scattermapbox"
                      }
                    ],
                    "scatterpolar": [
                      {
                        "marker": {
                          "colorbar": {
                            "outlinewidth": 0,
                            "ticks": ""
                          }
                        },
                        "type": "scatterpolar"
                      }
                    ],
                    "scatterpolargl": [
                      {
                        "marker": {
                          "colorbar": {
                            "outlinewidth": 0,
                            "ticks": ""
                          }
                        },
                        "type": "scatterpolargl"
                      }
                    ],
                    "scatterternary": [
                      {
                        "marker": {
                          "colorbar": {
                            "outlinewidth": 0,
                            "ticks": ""
                          }
                        },
                        "type": "scatterternary"
                      }
                    ],
                    "surface": [
                      {
                        "colorbar": {
                          "outlinewidth": 0,
                          "ticks": ""
                        },
                        "colorscale": [
                          [
                            0,
                            "#0d0887"
                          ],
                          [
                            0.1111111111111111,
                            "#46039f"
                          ],
                          [
                            0.2222222222222222,
                            "#7201a8"
                          ],
                          [
                            0.3333333333333333,
                            "#9c179e"
                          ],
                          [
                            0.4444444444444444,
                            "#bd3786"
                          ],
                          [
                            0.5555555555555556,
                            "#d8576b"
                          ],
                          [
                            0.6666666666666666,
                            "#ed7953"
                          ],
                          [
                            0.7777777777777778,
                            "#fb9f3a"
                          ],
                          [
                            0.8888888888888888,
                            "#fdca26"
                          ],
                          [
                            1,
                            "#f0f921"
                          ]
                        ],
                        "type": "surface"
                      }
                    ],
                    "table": [
                      {
                        "cells": {
                          "fill": {
                            "color": "#EBF0F8"
                          },
                          "line": {
                            "color": "white"
                          }
                        },
                        "header": {
                          "fill": {
                            "color": "#C8D4E3"
                          },
                          "line": {
                            "color": "white"
                          }
                        },
                        "type": "table"
                      }
                    ]
                  },
                  "layout": {
                    "annotationdefaults": {
                      "arrowcolor": "#2a3f5f",
                      "arrowhead": 0,
                      "arrowwidth": 1
                    },
                    "autotypenumbers": "strict",
                    "coloraxis": {
                      "colorbar": {
                        "outlinewidth": 0,
                        "ticks": ""
                      }
                    },
                    "colorscale": {
                      "diverging": [
                        [
                          0,
                          "#8e0152"
                        ],
                        [
                          0.1,
                          "#c51b7d"
                        ],
                        [
                          0.2,
                          "#de77ae"
                        ],
                        [
                          0.3,
                          "#f1b6da"
                        ],
                        [
                          0.4,
                          "#fde0ef"
                        ],
                        [
                          0.5,
                          "#f7f7f7"
                        ],
                        [
                          0.6,
                          "#e6f5d0"
                        ],
                        [
                          0.7,
                          "#b8e186"
                        ],
                        [
                          0.8,
                          "#7fbc41"
                        ],
                        [
                          0.9,
                          "#4d9221"
                        ],
                        [
                          1,
                          "#276419"
                        ]
                      ],
                      "sequential": [
                        [
                          0,
                          "#0d0887"
                        ],
                        [
                          0.1111111111111111,
                          "#46039f"
                        ],
                        [
                          0.2222222222222222,
                          "#7201a8"
                        ],
                        [
                          0.3333333333333333,
                          "#9c179e"
                        ],
                        [
                          0.4444444444444444,
                          "#bd3786"
                        ],
                        [
                          0.5555555555555556,
                          "#d8576b"
                        ],
                        [
                          0.6666666666666666,
                          "#ed7953"
                        ],
                        [
                          0.7777777777777778,
                          "#fb9f3a"
                        ],
                        [
                          0.8888888888888888,
                          "#fdca26"
                        ],
                        [
                          1,
                          "#f0f921"
                        ]
                      ],
                      "sequentialminus": [
                        [
                          0,
                          "#0d0887"
                        ],
                        [
                          0.1111111111111111,
                          "#46039f"
                        ],
                        [
                          0.2222222222222222,
                          "#7201a8"
                        ],
                        [
                          0.3333333333333333,
                          "#9c179e"
                        ],
                        [
                          0.4444444444444444,
                          "#bd3786"
                        ],
                        [
                          0.5555555555555556,
                          "#d8576b"
                        ],
                        [
                          0.6666666666666666,
                          "#ed7953"
                        ],
                        [
                          0.7777777777777778,
                          "#fb9f3a"
                        ],
                        [
                          0.8888888888888888,
                          "#fdca26"
                        ],
                        [
                          1,
                          "#f0f921"
                        ]
                      ]
                    },
                    "colorway": [
                      "#636efa",
                      "#EF553B",
                      "#00cc96",
                      "#ab63fa",
                      "#FFA15A",
                      "#19d3f3",
                      "#FF6692",
                      "#B6E880",
                      "#FF97FF",
                      "#FECB52"
                    ],
                    "font": {
                      "color": "#2a3f5f"
                    },
                    "geo": {
                      "bgcolor": "white",
                      "lakecolor": "white",
                      "landcolor": "#E5ECF6",
                      "showlakes": true,
                      "showland": true,
                      "subunitcolor": "white"
                    },
                    "hoverlabel": {
                      "align": "left"
                    },
                    "hovermode": "closest",
                    "mapbox": {
                      "style": "light"
                    },
                    "paper_bgcolor": "white",
                    "plot_bgcolor": "#E5ECF6",
                    "polar": {
                      "angularaxis": {
                        "gridcolor": "white",
                        "linecolor": "white",
                        "ticks": ""
                      },
                      "bgcolor": "#E5ECF6",
                      "radialaxis": {
                        "gridcolor": "white",
                        "linecolor": "white",
                        "ticks": ""
                      }
                    },
                    "scene": {
                      "xaxis": {
                        "backgroundcolor": "#E5ECF6",
                        "gridcolor": "white",
                        "gridwidth": 2,
                        "linecolor": "white",
                        "showbackground": true,
                        "ticks": "",
                        "zerolinecolor": "white"
                      },
                      "yaxis": {
                        "backgroundcolor": "#E5ECF6",
                        "gridcolor": "white",
                        "gridwidth": 2,
                        "linecolor": "white",
                        "showbackground": true,
                        "ticks": "",
                        "zerolinecolor": "white"
                      },
                      "zaxis": {
                        "backgroundcolor": "#E5ECF6",
                        "gridcolor": "white",
                        "gridwidth": 2,
                        "linecolor": "white",
                        "showbackground": true,
                        "ticks": "",
                        "zerolinecolor": "white"
                      }
                    },
                    "shapedefaults": {
                      "line": {
                        "color": "#2a3f5f"
                      }
                    },
                    "ternary": {
                      "aaxis": {
                        "gridcolor": "white",
                        "linecolor": "white",
                        "ticks": ""
                      },
                      "baxis": {
                        "gridcolor": "white",
                        "linecolor": "white",
                        "ticks": ""
                      },
                      "bgcolor": "#E5ECF6",
                      "caxis": {
                        "gridcolor": "white",
                        "linecolor": "white",
                        "ticks": ""
                      }
                    },
                    "title": {
                      "x": 0.05
                    },
                    "xaxis": {
                      "automargin": true,
                      "gridcolor": "white",
                      "linecolor": "white",
                      "ticks": "",
                      "title": {
                        "standoff": 15
                      },
                      "zerolinecolor": "white",
                      "zerolinewidth": 2
                    },
                    "yaxis": {
                      "automargin": true,
                      "gridcolor": "white",
                      "linecolor": "white",
                      "ticks": "",
                      "title": {
                        "standoff": 15
                      },
                      "zerolinecolor": "white",
                      "zerolinewidth": 2
                    }
                  }
                },
                "title": {
                  "text": "centro_oeste"
                },
                "xaxis": {
                  "title": {
                    "text": "Time"
                  }
                },
                "yaxis": {
                  "title": {
                    "text": "Value"
                  }
                }
              }
            }
          },
          "metadata": {},
          "output_type": "display_data"
        }
      ],
      "source": [
        "for variable in results:\n",
        "    variable_result = results[variable]\n",
        "    variable_df = RegressionDF[RegressionDF[GROUP_COL_NAME] == variable]\n",
        "    plot_with_all_dummies(variable,\n",
        "                            variable_df,\n",
        "                            variable_result,\n",
        "                            exclude_coeffs_by_prefix=[\n",
        "                                \"month_\",\n",
        "                                'quarter_',\n",
        "                                'sin','cos'\n",
        "                                ],\n",
        "                            line_events = {\n",
        "                                #'Choque_Inicial':        [CHOQUE_INICIAL_START_DATE, CHOQUE_INICIAL_END_DATE, \"rgba(0, 0, 0, 0.25)\", False],\n",
        "                                #'Lockdown_2021':         [SECONDLOCKDOWN_START_DATE, SECONDLOCKDOWN_END_DATE, \"rgba(0, 0, 0, 0.25)\", False],\n",
        "                                'Pandemia':         [PANDEMIA_START_DATE, PANDEMIA_END_DATE, None, True],\n",
        "                                'Pos Pandemia':      [POS_PANDEMIA_START_DATE, END_DATE, None, True]\n",
        "                            },\n",
        "                            real_serie_key=IR_VAR,\n",
        "                            #slope_coef_str='PrePandemia_Trend'\n",
        "\n",
        "\n",
        "\n",
        "                            )\n"
      ]
    }
  ],
  "metadata": {
    "colab": {
      "collapsed_sections": [
        "K8HZg-VlNIXd",
        "WcYnNsL4NIXl",
        "2IiKsqpaNIXu"
      ],
      "provenance": [],
      "toc_visible": true
    },
    "kernelspec": {
      "display_name": "Python 3",
      "name": "python3"
    },
    "language_info": {
      "codemirror_mode": {
        "name": "ipython",
        "version": 3
      },
      "file_extension": ".py",
      "mimetype": "text/x-python",
      "name": "python",
      "nbconvert_exporter": "python",
      "pygments_lexer": "ipython3",
      "version": "3.12.5"
    }
  },
  "nbformat": 4,
  "nbformat_minor": 0
}
