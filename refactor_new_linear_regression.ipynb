{
 "cells": [
  {
   "cell_type": "markdown",
   "metadata": {
    "colab_type": "text",
    "id": "view-in-github"
   },
   "source": [
    "<a href=\"https://colab.research.google.com/github/rato42/linear_regression/blob/unstable-yeah-sure/CLASSBASED_new_linear_regression.ipynb\" target=\"_parent\"><img src=\"https://colab.research.google.com/assets/colab-badge.svg\" alt=\"Open In Colab\"/></a>"
   ]
  },
  {
   "cell_type": "markdown",
   "metadata": {
    "id": "EwX1y9X8yfED"
   },
   "source": [
    "# Imports\n"
   ]
  },
  {
   "cell_type": "code",
   "execution_count": 289,
   "metadata": {
    "colab": {
     "base_uri": "https://localhost:8080/"
    },
    "id": "sOJUZR18gkp5",
    "outputId": "9a15ac2a-9b78-4df2-dfd1-fdc8665336d5"
   },
   "outputs": [
    {
     "name": "stdout",
     "output_type": "stream",
     "text": [
      "Running outside Colab (VS Code/local)\n"
     ]
    }
   ],
   "source": [
    "import sys\n",
    "\n",
    "# Detect Colab environment\n",
    "IN_COLAB = \"google.colab\" in sys.modules\n",
    "\n",
    "if IN_COLAB:\n",
    "    from google.colab import drive, auth\n",
    "    from googleapiclient.discovery import build\n",
    "    from googleapiclient.http import MediaIoBaseDownload\n",
    "\n",
    "    auth.authenticate_user()\n",
    "    drive.mount(\"/content/drive\")\n",
    "else:\n",
    "    from oauth2client.service_account import ServiceAccountCredentials\n",
    "\n",
    "    print(\"Running outside Colab (VS Code/local)\")\n",
    "\n",
    "try:\n",
    "    import gspread\n",
    "except ModuleNotFoundError:\n",
    "    if IN_COLAB and \"google.colab\" in str(get_ipython()):\n",
    "        %pip install gspread\n",
    "    import gspread\n",
    "\n",
    "from gspread_dataframe import set_with_dataframe"
   ]
  },
  {
   "cell_type": "code",
   "execution_count": 290,
   "metadata": {
    "id": "uc_HtA6xvVE2"
   },
   "outputs": [],
   "source": [
    "\n",
    "import os\n",
    "\n",
    "import time\n",
    "\n",
    "import math\n",
    "import scipy.stats as stats\n",
    "import pandas as pd\n",
    "import numpy as np\n",
    "\n",
    "import pwlf\n",
    "\n",
    "from scipy.stats import linregress, ttest_ind, ttest_rel, ttest_1samp\n",
    "import matplotlib.pyplot as plt\n",
    "import re\n",
    "from matplotlib.font_manager import FontProperties\n",
    "import statsmodels.formula.api as smf\n",
    "import statsmodels.api as sm\n",
    "\n",
    "from datetime import datetime, timedelta\n",
    "\n",
    "from statsmodels.stats.stattools import durbin_watson\n",
    "from statsmodels.stats.diagnostic import acorr_ljungbox\n",
    "from statsmodels.tools.tools import add_constant\n",
    "from statsmodels.tsa.arima.model import ARIMA\n",
    "\n",
    "from sklearn.preprocessing import StandardScaler\n",
    "from sklearn.model_selection import train_test_split\n",
    "from sklearn.metrics import r2_score, mean_squared_error\n",
    "from sklearn.pipeline import Pipeline\n",
    "from sklearn.base import BaseEstimator, TransformerMixin\n",
    "from sklearn.preprocessing import FunctionTransformer\n",
    "\n",
    "from dateutil.relativedelta import relativedelta\n",
    "\n",
    "from sklearn import set_config\n",
    "set_config(display=\"diagram\")\n",
    "\n",
    "import logging\n",
    "from typing import Dict, Any\n",
    "\n",
    "import io"
   ]
  },
  {
   "cell_type": "markdown",
   "metadata": {
    "id": "M6pmUGm9ycJ_"
   },
   "source": [
    "# LOAD --- data from gsheet if colab or local\n"
   ]
  },
  {
   "cell_type": "code",
   "execution_count": 291,
   "metadata": {
    "id": "r6jsbsBZvWHp"
   },
   "outputs": [],
   "source": [
    "dados_brutos = None\n",
    "output_wksheet = None\n",
    "\n",
    "input_path = \"https://docs.google.com/spreadsheets/d/1m3eEaxWT4Unb8jBZWKjiLivavfA0x3PT1F1Rz1eXwVE/edit?gid=0\"\n",
    "output_path = \"https://docs.google.com/spreadsheets/d/1RzC3DfKNUwYA-qfUN0i53hUwRkWGMBOCoYQqdqG4MQY/edit?gid=0\"\n",
    "\n",
    "local_input_path = (\n",
    "    #\"D:\\\\CodeStuff\\\\Stats\\\\colab_linear_regression\\\\linear_regression\\\\input\\\\input.csv\" ### poa\n",
    "    \"D:\\\\CodeStuff\\\\Stats\\\\colab_linear_regression\\\\linear_regression\\\\input\\\\input.xlsx\" ### rs\n",
    ")\n",
    "\n",
    "if IN_COLAB:\n",
    "    import gspread\n",
    "    from google.auth import default\n",
    "\n",
    "    auth.authenticate_user()\n",
    "    creds, _ = default()\n",
    "    gc = gspread.authorize(creds)\n",
    "    workbook = gc.open_by_url(input_path)\n",
    "    worksheets = workbook.worksheets()\n",
    "    output_wksheet = gc.open_by_url(output_path)\n",
    "    dados_brutos = worksheets[0].get_all_values()\n",
    "else:\n",
    "    try:\n",
    "        dados_brutos = pd.read_csv(local_input_path, header=None).values.tolist()\n",
    "    except:\n",
    "        dados_brutos = pd.read_excel(local_input_path, header=None).values.tolist()"
   ]
  },
  {
   "cell_type": "markdown",
   "metadata": {
    "id": "SAATuGWcyPmG"
   },
   "source": [
    "# ARGS --- Define Args\n"
   ]
  },
  {
   "cell_type": "markdown",
   "metadata": {},
   "source": [
    "fit_kwargs = {\n",
    "    \"cov_type\": \"HAC\",\n",
    "    \"cov_kwds\": {\"maxlags\": 6}  # Account for ~6 month lagged effects\n",
    "}\n",
    "\n",
    "✓ Autocorrelation from policy inertia\n",
    "✓ Seasonal patterns in mental health data\n",
    "✓ Lagged treatment effects"
   ]
  },
  {
   "cell_type": "code",
   "execution_count": 354,
   "metadata": {
    "id": "N43j0vRL3QsP"
   },
   "outputs": [],
   "source": [
    "INDEPENDENT_VAR = \"periodo\"  ### Y\n",
    "DEPENDENT_VAR = \"valores\"  ### X\n",
    "DATE_NAME = \"date\"\n",
    "VARIABLE_COLUMN_NAME = \"variavel\"\n",
    "SAVE_ARG = True\n",
    "\n",
    "### as quedas do primeiro lockdown nao são tão claras e a recuperação e queda parecem ser mais graduais\n",
    "CHOQUE_INICIAL_START_DATE= \"2020-01-01\"\n",
    "CHOQUE_INICIAL_END_DATE = \"2020-07-01\"#\"2020-08-01\" #month based \n",
    "\n",
    "### abril e maio tiveram quedas bem identificaveis nos atendimentos em todas variavieis\n",
    "SECONDLOCKDOWN_START_DATE = \"2021-04-01\"\n",
    "SECONDLOCKDOWN_END_DATE = '2021-05-01' #month based  #'2021-04-01'#quarter_based #\n",
    "\n",
    "POS_PANDEMIA_START_DATE = \"2020-08-01\"#\"2021-02-01\"#\"2021-06-01\" ### talvez eu tenha q excluir o segundo lockdown dessa dummy\n",
    "END_DATE = \"2024-12-01\"#\"2024-12-01\"  ### data final para o modelo, se for maior que a data do dataframe, o modelo vai dar erro\n",
    "\n",
    "POS_EXCLUDE_RANGES = [(SECONDLOCKDOWN_START_DATE, SECONDLOCKDOWN_END_DATE)]\n",
    "\n",
    "\n",
    "LOCAL_OUTPUT_PATH = \"D:\\\\CodeStuff\\\\Stats\\\\colab_linear_regression\\\\linear_regression\\\\output\\\\output.xlsx\"\n",
    "\n",
    "DUMMY_ARGS =        {\n",
    "        #'PrePandemia': {\"start_date\": \"2016-01-01\", \"end_date\": \"2019-12-01\",'add_time_trend': True},\n",
    "        #\"Pandemia\": {\"start_date\": \"2020-01-01\", \"end_date\": \"2020-12-31\"},\n",
    "        #\"PosPandemia\": {\"start_date\": \"2021-01-01\", \"end_date\": \"2022-06-30\"},\n",
    "        'Step_PosPandemia': {\"start_date\": POS_PANDEMIA_START_DATE, \"end_date\": END_DATE,'exclude_ranges': POS_EXCLUDE_RANGES, 'plot':False, 'step': True,},\n",
    "        'Choque_Inicial': {\"start_date\": CHOQUE_INICIAL_START_DATE, \"end_date\": CHOQUE_INICIAL_END_DATE},\n",
    "        'Lockdown_2021': {\"start_date\": SECONDLOCKDOWN_START_DATE, \"end_date\": SECONDLOCKDOWN_END_DATE},\n",
    "        'Trend_PosPandemia' : {\"start_date\": POS_PANDEMIA_START_DATE, \"end_date\": END_DATE,'exclude_ranges': POS_EXCLUDE_RANGES, 'plot': True, 'add_time_trend': True, 'keep_period_index': False, 'step': False}, \n",
    "        }\n",
    "\n",
    "MODEL_FORMULA = DEPENDENT_VAR + \"~\" + INDEPENDENT_VAR \n",
    "\n",
    "month_dummies = []\n",
    "\n",
    "for i in range(1, 12):\n",
    "    month_dummies.append(\"month_\" + str(i+1))\n",
    "\n",
    "INCLUDE_MONTH_DUMMIES = True\n",
    "if INCLUDE_MONTH_DUMMIES:\n",
    "    for month in month_dummies:\n",
    "        MODEL_FORMULA += \" + \" + month\n",
    "\n",
    "if DUMMY_ARGS:\n",
    "    for key in DUMMY_ARGS.keys():\n",
    "            MODEL_FORMULA += \" + \" + key\n",
    "\n",
    "ARGS = {\n",
    "    # data preprocessing\n",
    "    'DateRange': [2016, 2024],  # range of years to consider\n",
    "    'FrequencyDateGroup' : 'M',#'Q',\n",
    "    # regression\n",
    "    \"RegressionMethod\": \"prais_winsten\",  #'ols' or 'prais_winsten' or 'arima'\n",
    "    \"ModelFormula\": MODEL_FORMULA,\n",
    "    'DummyArgs' : DUMMY_ARGS,\n",
    "    \"IterativeFit\": True,\n",
    "    \"MaxIterations\": 100,\n",
    "    \"CriterioBestRho\": \"aic\",  #'aic' or 'bic'\n",
    "    'best_rho_range': [-1.0, 1.0, 0.01],  # range of rho to test\n",
    "    ### checar se deveria usar essa covariancia, n creio q tenha heteorsolskdkaikdoaktaiticia nos meus dados\n",
    "    'CovType': 'HAC',\n",
    "    'CovKwargs': {'maxlags': 6},\n",
    "    'ARIMAOrder': (1, 0, 0),  # ARIMA order (p, d, q)\n",
    "\n",
    "    # prediction\n",
    "    \"additional_dates_factor\": 0.0,\n",
    "\n",
    "\n",
    "    'DoChowTest' : True,\n",
    "}\n",
    "\n"
   ]
  },
  {
   "cell_type": "markdown",
   "metadata": {
    "id": "3lst0tSSyWi0"
   },
   "source": [
    "# Define Preprocessors\n"
   ]
  },
  {
   "cell_type": "code",
   "execution_count": null,
   "metadata": {
    "id": "FAqiSa3R-k3r"
   },
   "outputs": [],
   "source": [
    "def BuildDataDF(data):\n",
    "    string_dates = data[0][1:]  # Store original string dates\n",
    "\n",
    "    # Converter as strings de datas em objetos datetime\n",
    "    #date_list = [datetime.strptime(date, \"%d/%m/%Y\") for date in string_dates]\n",
    "    date_list = [\n",
    "    date if isinstance(date, datetime) else datetime.strptime(date, \"%d/%m/%Y\")\n",
    "    for date in string_dates\n",
    "    ]\n",
    "\n",
    "    # Extrair os nomes das variáveis\n",
    "    variavel = [row[0] for row in data[1:]]\n",
    "\n",
    "    # Extrair os dados (sem agrupamento)\n",
    "    dados = [row[1:] for row in data[1:]]\n",
    "    dados = np.array(dados, dtype=int)  # Converter para tipo object para evitar warning\n",
    "\n",
    "    # Criar o DataFrame with DatetimeIndex\n",
    "    df = pd.DataFrame(data=dados, index=variavel, columns=pd.DatetimeIndex(date_list))\n",
    "\n",
    "    return df\n",
    "\n",
    "class DateFilterTransformer(BaseEstimator, TransformerMixin):\n",
    "    def __init__(\n",
    "        self, periodos_inclusivos=None, periodos_exclusivos=None, date_col=DATE_NAME\n",
    "    ):\n",
    "        self.periodos_inclusivos = periodos_inclusivos\n",
    "        self.periodos_exclusivos = periodos_exclusivos\n",
    "        self.date_col = date_col\n",
    "\n",
    "    def get_date_range(self, Y1, Y2=None, M1=None, M2=None, D1=None, D2=None):\n",
    "        Y2 = Y2 or Y1\n",
    "        M1 = M1 or 1\n",
    "        M2 = M2 or 12\n",
    "        D1 = D1 or 1\n",
    "        D2 = D2 or 31\n",
    "        start_date = datetime(Y1, M1, D1)\n",
    "        end_date = datetime(Y2, M2, D2)\n",
    "        return pd.date_range(start=start_date, end=end_date, freq=\"D\")\n",
    "\n",
    "    def fit(self, X, y=None):\n",
    "        return self\n",
    "\n",
    "    def transform(self, X):\n",
    "        X = X.copy()\n",
    "\n",
    "        # Convert date column if it's not datetime yet\n",
    "        if not pd.api.types.is_datetime64_any_dtype(X[self.date_col]):\n",
    "            X[self.date_col] = pd.to_datetime(X[self.date_col], errors=\"coerce\")\n",
    "\n",
    "        if self.periodos_inclusivos:\n",
    "            valid_dates = self.get_date_range(*self.periodos_inclusivos)\n",
    "            return X[X[self.date_col].isin(valid_dates)].reset_index(drop=True)\n",
    "\n",
    "        elif self.periodos_exclusivos:\n",
    "            invalid_dates = self.get_date_range(*self.periodos_exclusivos)\n",
    "            return X[~X[self.date_col].isin(invalid_dates)].reset_index(drop=True)\n",
    "\n",
    "        return X\n",
    "\n",
    "class MeltTransformer(BaseEstimator, TransformerMixin):\n",
    "    def __init__(\n",
    "        self,\n",
    "        var_name=VARIABLE_COLUMN_NAME,\n",
    "        value_name=DEPENDENT_VAR,\n",
    "        date_name=DATE_NAME,\n",
    "        y_name=INDEPENDENT_VAR,\n",
    "    ):\n",
    "        self.var_name = var_name\n",
    "        self.value_name = value_name\n",
    "        self.date_name = date_name\n",
    "        self.y_name = y_name\n",
    "\n",
    "    def fit(self, X, y=None):\n",
    "        # Nothing to learn, so just return self\n",
    "        return self\n",
    "\n",
    "    def transform(self, X):\n",
    "        # Transpose and reset index\n",
    "        df_long = X.T.reset_index()\n",
    "\n",
    "        # Rename index to date_name\n",
    "        df_long = df_long.rename(columns={\"index\": self.date_name})\n",
    "\n",
    "        # Melt the DataFrame\n",
    "        df_long = pd.melt(\n",
    "            df_long,\n",
    "            id_vars=[self.date_name],\n",
    "            var_name=self.var_name,\n",
    "            value_name=self.value_name,\n",
    "        )\n",
    "\n",
    "        # Sort by category and date\n",
    "        df_final = df_long.sort_values([self.var_name, self.date_name]).reset_index(\n",
    "            drop=True\n",
    "        )\n",
    "\n",
    "        return df_final\n",
    "\n",
    "class PeriodIndexAdder(BaseEstimator, TransformerMixin):\n",
    "    def __init__(self, group_col=VARIABLE_COLUMN_NAME, new_col=INDEPENDENT_VAR):\n",
    "        self.group_col = group_col\n",
    "        self.new_col = new_col\n",
    "        self.period_date_mapping = {}  # Dictionary to store period-date equivalences\n",
    "\n",
    "    def fit(self, X, y=None):\n",
    "        return self\n",
    "\n",
    "    def transform(self, X):\n",
    "        X = X.copy()\n",
    "        X[self.new_col] = X.groupby(self.group_col).cumcount() + 1\n",
    "\n",
    "        #Store the mapping of periods to dates\n",
    "        self.period_date_mapping = dict(zip(X[DATE_NAME], X[self.new_col]))\n",
    "        #for group, group_data in X.groupby(self.group_col):\n",
    "        #    self.period_date_mapping[group] = dict(zip(group_data[DATE_NAME], group_data[self.new_col]))\n",
    "\n",
    "        return X\n",
    "\n",
    "class DataFrameSorter(BaseEstimator, TransformerMixin):\n",
    "    \"\"\"\n",
    "    Sorts a DataFrame by a specified column.\n",
    "\n",
    "    Parameters:\n",
    "    -----------\n",
    "    sort_by : str\n",
    "        Name of the column to sort by.\n",
    "    ascending : bool, default=True\n",
    "        Whether to sort in ascending order.\n",
    "    \"\"\"\n",
    "\n",
    "    def __init__(self, sort_by, ascending=True):\n",
    "        self.sort_by = sort_by\n",
    "        self.ascending = ascending\n",
    "\n",
    "    def fit(self, X, y=None):\n",
    "        return self\n",
    "\n",
    "    def transform(self, X):\n",
    "        X = X.copy()\n",
    "        if self.sort_by not in X.columns:\n",
    "            raise ValueError(f\"Column '{self.sort_by}' not found in DataFrame.\")\n",
    "        return X.sort_values(by=self.sort_by, ascending=self.ascending).reset_index(drop=True)\n",
    "\n",
    "class MonthlyDummyAdder(BaseEstimator, TransformerMixin):\n",
    "    \"\"\"\n",
    "    Adds dummy variables for each month to control for seasonality, leaving December as the baseline.\n",
    "\n",
    "    Parameters:\n",
    "    -----------\n",
    "    date_column : str\n",
    "        Name of the column containing dates (must be datetime).\n",
    "    \"\"\"\n",
    "\n",
    "    def __init__(self, date_column=DATE_NAME):\n",
    "        self.date_column = date_column\n",
    "\n",
    "    def fit(self, X, y=None):\n",
    "        return self\n",
    "\n",
    "    def transform(self, X):\n",
    "        X = X.copy()\n",
    "        X[self.date_column] = pd.to_datetime(X[self.date_column])  # Ensure dates are in datetime format\n",
    "\n",
    "        # Extract month from the date column\n",
    "        X['month'] = X[self.date_column].dt.month\n",
    "\n",
    "        # Create dummy variables for each month, excluding December as the baseline\n",
    "        month_dummies = pd.get_dummies(X['month'], prefix=\"month\", drop_first=True).astype(int)\n",
    "\n",
    "\n",
    "\n",
    "        # Concatenate the dummy variables with the original DataFrame\n",
    "        X = pd.concat([X, month_dummies], axis=1)\n",
    "\n",
    "        # Drop the temporary 'month' column\n",
    "        X.drop(columns=['month'], inplace=True)\n",
    "\n",
    "        return X\n",
    "    \n",
    "\n",
    "class MultiDummyAdder(BaseEstimator, TransformerMixin):\n",
    "\t\"\"\"\n",
    "\tAdds multiple dummy variables based on date ranges or custom conditions.\n",
    "\tAllows each dummy to be binary or a local time trend via its own config.\n",
    "\n",
    "\tParameters:\n",
    "\t-----------\n",
    "\tdummy_config : dict\n",
    "\t\tDictionary defining dummy variables. Example:\n",
    "\t\t{\n",
    "\t\t\t'Pandemia': {\n",
    "\t\t\t\t'start_date': '2020-01-01',\n",
    "\t\t\t\t'end_date': '2020-12-31',\n",
    "\t\t\t\t'add_time_trend': True,\n",
    "\t\t\t\t'exclude_ranges': [('2020-04-01', '2020-05-01')]  # Optional\n",
    "\t\t\t}\n",
    "\t\t}\n",
    "\tdate_column : str\n",
    "\t\tName of the column containing dates (must be datetime).\n",
    "\t\"\"\"\n",
    "\n",
    "\tdef __init__(self, dummy_config, date_column=DATE_NAME):\n",
    "\t\tself.dummy_config = dummy_config\n",
    "\t\tself.date_column = date_column\n",
    "\n",
    "\tdef fit(self, X, y=None):\n",
    "\t\treturn self\n",
    "\n",
    "\tdef transform(self, X):\n",
    "\t\tX = X.copy()\n",
    "\t\tX[self.date_column] = pd.to_datetime(X[self.date_column])\n",
    "\t\tX = X.sort_values(self.date_column).reset_index(drop=True)\n",
    "\n",
    "\t\tfor dummy_name, config in self.dummy_config.items():\n",
    "\t\t\tstart_date = pd.to_datetime(config.get(\"start_date\"))\n",
    "\t\t\tend_date = pd.to_datetime(config.get(\"end_date\"))\n",
    "\t\t\tuse_trend = config.get(\"add_time_trend\", False)\n",
    "\t\t\tkeep_index = config.get(\"keep_period_index\", False)\n",
    "\t\t\texclude_ranges = config.get(\"exclude_ranges\", [])\n",
    "\n",
    "\t\t\tif not start_date:\n",
    "\t\t\t\traise ValueError(f\"Missing 'start_date' for dummy '{dummy_name}'.\")\n",
    "\n",
    "\t\t\tif end_date is not None:\n",
    "\t\t\t\tmask = (X[self.date_column] >= start_date) & (X[self.date_column] <= end_date)\n",
    "\t\t\telse:\n",
    "\t\t\t\tmask = X[self.date_column] >= start_date\n",
    "\n",
    "\t\t\t# Excluir ranges dentro do período\n",
    "\t\t\tfor excl_start, excl_end in exclude_ranges:\n",
    "\t\t\t\texcl_start = pd.to_datetime(excl_start)\n",
    "\t\t\t\texcl_end = pd.to_datetime(excl_end)\n",
    "\t\t\t\tmask &= ~((X[self.date_column] >= excl_start) & (X[self.date_column] <= excl_end))\n",
    "\n",
    "\t\t\tif use_trend:\n",
    "\t\t\t\tif keep_index:\n",
    "\t\t\t\t\t# estilo artigo: período global multiplicado pela dummy\n",
    "\t\t\t\t\tX[dummy_name] = 0\n",
    "\t\t\t\t\tX.loc[mask, dummy_name] = X.loc[mask, INDEPENDENT_VAR]\n",
    "\t\t\t\telse:\n",
    "\t\t\t\t\tstart_periodo = X.loc[mask, INDEPENDENT_VAR].min()\n",
    "\t\t\t\t\tX[dummy_name] = 0\n",
    "\t\t\t\t\tX.loc[mask, dummy_name] = (X.loc[mask, INDEPENDENT_VAR] - start_periodo + 1).clip(lower=0)\n",
    "\t\t\telse:\n",
    "\t\t\t\tX[dummy_name] = mask.astype(int)\n",
    "\n",
    "\t\treturn X\n",
    "\n",
    "\n",
    "class FrequencyGroupingTransformer(BaseEstimator, TransformerMixin):\n",
    "    \"\"\"\n",
    "    ## only datetime supported groupings\n",
    "    Transformer for grouping data by standard datetime frequencies.\n",
    "\n",
    "    This transformer takes a DataFrame with datetime columns and groups\n",
    "    the data by a specified frequency (e.g., 'Q' for quarterly, 'M' for monthly).\n",
    "\n",
    "    ARGS:\n",
    "        frequency (str): The frequency to group by. Defaults to 'Q' (quarterly).\n",
    "                        Supported frequencies are those accepted by pd.Grouper (e.g., 'Q', 'M', 'Y').\n",
    "    \"\"\"\n",
    "\n",
    "    def __init__(self, frequency=\"Q\"):  # Default to quarterly grouping\n",
    "        self.frequency = frequency\n",
    "\n",
    "    def fit(self, X, y=None):\n",
    "        \"\"\"\n",
    "        This transformer does not require fitting.\n",
    "\n",
    "        ARGS:\n",
    "            X (pd.DataFrame): The input DataFrame.\n",
    "            y (Any, optional): Ignored. Defaults to None.\n",
    "\n",
    "        Returns:\n",
    "            self: Returns the transformer instance.\n",
    "        \"\"\"\n",
    "        return self\n",
    "\n",
    "    def transform(self, X):\n",
    "        \"\"\"\n",
    "        Groups the data by the specified frequency and sums the values.\n",
    "\n",
    "        ARGS:\n",
    "            X (pd.DataFrame): The input DataFrame with datetime columns.\n",
    "\n",
    "        Returns:\n",
    "            pd.DataFrame: The grouped DataFrame with summed values.\n",
    "                          Columns are datetime objects representing the end of each group.\n",
    "        \"\"\"\n",
    "        if self.frequency == None or self.frequency == 'M':\n",
    "            return X\n",
    "        if not isinstance(X, pd.DataFrame):\n",
    "            raise TypeError(\"Input must be a pandas DataFrame.\")\n",
    "\n",
    "\n",
    "\n",
    "        # Convert columns to datetime if they are not already\n",
    "        if not isinstance(X.columns[0], pd.Timestamp):\n",
    "            X.columns = pd.to_datetime(X.columns, errors=\"coerce\")\n",
    "\n",
    "        # Group by the specified frequency using pd.Grouper\n",
    "        grouped_df = X.T.groupby(pd.Grouper(freq=self.frequency)).sum().T\n",
    "\n",
    "        return grouped_df\n",
    "\n"
   ]
  },
  {
   "cell_type": "markdown",
   "metadata": {},
   "source": [
    "# Instantiate Pipe and get RegressionDF"
   ]
  },
  {
   "cell_type": "code",
   "execution_count": null,
   "metadata": {},
   "outputs": [
    {
     "data": {
      "application/vnd.microsoft.datawrangler.viewer.v0+json": {
       "columns": [
        {
         "name": "index",
         "rawType": "int64",
         "type": "integer"
        },
        {
         "name": "date",
         "rawType": "datetime64[ns]",
         "type": "datetime"
        },
        {
         "name": "variavel",
         "rawType": "object",
         "type": "string"
        },
        {
         "name": "valores",
         "rawType": "int64",
         "type": "integer"
        },
        {
         "name": "periodo",
         "rawType": "int64",
         "type": "integer"
        },
        {
         "name": "Step_PosPandemia",
         "rawType": "int64",
         "type": "integer"
        },
        {
         "name": "Choque_Inicial",
         "rawType": "int64",
         "type": "integer"
        },
        {
         "name": "Lockdown_2021",
         "rawType": "int64",
         "type": "integer"
        },
        {
         "name": "Trend_PosPandemia",
         "rawType": "int64",
         "type": "integer"
        },
        {
         "name": "month_2",
         "rawType": "int64",
         "type": "integer"
        },
        {
         "name": "month_3",
         "rawType": "int64",
         "type": "integer"
        },
        {
         "name": "month_4",
         "rawType": "int64",
         "type": "integer"
        },
        {
         "name": "month_5",
         "rawType": "int64",
         "type": "integer"
        },
        {
         "name": "month_6",
         "rawType": "int64",
         "type": "integer"
        },
        {
         "name": "month_7",
         "rawType": "int64",
         "type": "integer"
        },
        {
         "name": "month_8",
         "rawType": "int64",
         "type": "integer"
        },
        {
         "name": "month_9",
         "rawType": "int64",
         "type": "integer"
        },
        {
         "name": "month_10",
         "rawType": "int64",
         "type": "integer"
        },
        {
         "name": "month_11",
         "rawType": "int64",
         "type": "integer"
        },
        {
         "name": "month_12",
         "rawType": "int64",
         "type": "integer"
        }
       ],
       "conversionMethod": "pd.DataFrame",
       "ref": "d2a34418-b15d-4c0a-b925-bff9a57f9b05",
       "rows": [
        [
         "0",
         "2016-01-01 00:00:00",
         "F00-F09 - Transtornos mentais orgânicos, inclusive os sintomáticos",
         "109",
         "1",
         "0",
         "0",
         "0",
         "0",
         "0",
         "0",
         "0",
         "0",
         "0",
         "0",
         "0",
         "0",
         "0",
         "0",
         "0"
        ],
        [
         "1",
         "2018-03-01 00:00:00",
         "F00-F09 - Transtornos mentais orgânicos, inclusive os sintomáticos",
         "242",
         "27",
         "0",
         "0",
         "0",
         "0",
         "0",
         "1",
         "0",
         "0",
         "0",
         "0",
         "0",
         "0",
         "0",
         "0",
         "0"
        ],
        [
         "2",
         "2018-04-01 00:00:00",
         "F00-F09 - Transtornos mentais orgânicos, inclusive os sintomáticos",
         "223",
         "28",
         "0",
         "0",
         "0",
         "0",
         "0",
         "0",
         "1",
         "0",
         "0",
         "0",
         "0",
         "0",
         "0",
         "0",
         "0"
        ],
        [
         "3",
         "2022-04-01 00:00:00",
         "F00-F09 - Transtornos mentais orgânicos, inclusive os sintomáticos",
         "294",
         "76",
         "1",
         "0",
         "0",
         "21",
         "0",
         "0",
         "1",
         "0",
         "0",
         "0",
         "0",
         "0",
         "0",
         "0",
         "0"
        ],
        [
         "4",
         "2024-01-01 00:00:00",
         "F00-F09 - Transtornos mentais orgânicos, inclusive os sintomáticos",
         "451",
         "97",
         "1",
         "0",
         "0",
         "42",
         "0",
         "0",
         "0",
         "0",
         "0",
         "0",
         "0",
         "0",
         "0",
         "0",
         "0"
        ],
        [
         "5",
         "2024-02-01 00:00:00",
         "F00-F09 - Transtornos mentais orgânicos, inclusive os sintomáticos",
         "379",
         "98",
         "1",
         "0",
         "0",
         "43",
         "1",
         "0",
         "0",
         "0",
         "0",
         "0",
         "0",
         "0",
         "0",
         "0",
         "0"
        ],
        [
         "6",
         "2022-03-01 00:00:00",
         "F00-F09 - Transtornos mentais orgânicos, inclusive os sintomáticos",
         "381",
         "75",
         "1",
         "0",
         "0",
         "20",
         "0",
         "1",
         "0",
         "0",
         "0",
         "0",
         "0",
         "0",
         "0",
         "0",
         "0"
        ],
        [
         "7",
         "2016-10-01 00:00:00",
         "F00-F09 - Transtornos mentais orgânicos, inclusive os sintomáticos",
         "245",
         "10",
         "0",
         "0",
         "0",
         "0",
         "0",
         "0",
         "0",
         "0",
         "0",
         "0",
         "0",
         "0",
         "1",
         "0",
         "0"
        ],
        [
         "8",
         "2018-05-01 00:00:00",
         "F00-F09 - Transtornos mentais orgânicos, inclusive os sintomáticos",
         "252",
         "29",
         "0",
         "0",
         "0",
         "0",
         "0",
         "0",
         "0",
         "1",
         "0",
         "0",
         "0",
         "0",
         "0",
         "0",
         "0"
        ],
        [
         "9",
         "2022-02-01 00:00:00",
         "F00-F09 - Transtornos mentais orgânicos, inclusive os sintomáticos",
         "287",
         "74",
         "1",
         "0",
         "0",
         "19",
         "1",
         "0",
         "0",
         "0",
         "0",
         "0",
         "0",
         "0",
         "0",
         "0",
         "0"
        ],
        [
         "10",
         "2018-06-01 00:00:00",
         "F00-F09 - Transtornos mentais orgânicos, inclusive os sintomáticos",
         "258",
         "30",
         "0",
         "0",
         "0",
         "0",
         "0",
         "0",
         "0",
         "0",
         "1",
         "0",
         "0",
         "0",
         "0",
         "0",
         "0"
        ],
        [
         "11",
         "2022-01-01 00:00:00",
         "F00-F09 - Transtornos mentais orgânicos, inclusive os sintomáticos",
         "206",
         "73",
         "1",
         "0",
         "0",
         "18",
         "0",
         "0",
         "0",
         "0",
         "0",
         "0",
         "0",
         "0",
         "0",
         "0",
         "0"
        ],
        [
         "12",
         "2018-07-01 00:00:00",
         "F00-F09 - Transtornos mentais orgânicos, inclusive os sintomáticos",
         "222",
         "31",
         "0",
         "0",
         "0",
         "0",
         "0",
         "0",
         "0",
         "0",
         "0",
         "1",
         "0",
         "0",
         "0",
         "0",
         "0"
        ],
        [
         "13",
         "2016-09-01 00:00:00",
         "F00-F09 - Transtornos mentais orgânicos, inclusive os sintomáticos",
         "242",
         "9",
         "0",
         "0",
         "0",
         "0",
         "0",
         "0",
         "0",
         "0",
         "0",
         "0",
         "0",
         "1",
         "0",
         "0",
         "0"
        ],
        [
         "14",
         "2018-08-01 00:00:00",
         "F00-F09 - Transtornos mentais orgânicos, inclusive os sintomáticos",
         "261",
         "32",
         "0",
         "0",
         "0",
         "0",
         "0",
         "0",
         "0",
         "0",
         "0",
         "0",
         "1",
         "0",
         "0",
         "0",
         "0"
        ],
        [
         "15",
         "2023-12-01 00:00:00",
         "F00-F09 - Transtornos mentais orgânicos, inclusive os sintomáticos",
         "484",
         "96",
         "1",
         "0",
         "0",
         "41",
         "0",
         "0",
         "0",
         "0",
         "0",
         "0",
         "0",
         "0",
         "0",
         "0",
         "1"
        ],
        [
         "16",
         "2021-12-01 00:00:00",
         "F00-F09 - Transtornos mentais orgânicos, inclusive os sintomáticos",
         "347",
         "72",
         "1",
         "0",
         "0",
         "17",
         "0",
         "0",
         "0",
         "0",
         "0",
         "0",
         "0",
         "0",
         "0",
         "0",
         "1"
        ],
        [
         "17",
         "2024-03-01 00:00:00",
         "F00-F09 - Transtornos mentais orgânicos, inclusive os sintomáticos",
         "448",
         "99",
         "1",
         "0",
         "0",
         "44",
         "0",
         "1",
         "0",
         "0",
         "0",
         "0",
         "0",
         "0",
         "0",
         "0",
         "0"
        ],
        [
         "18",
         "2021-11-01 00:00:00",
         "F00-F09 - Transtornos mentais orgânicos, inclusive os sintomáticos",
         "308",
         "71",
         "1",
         "0",
         "0",
         "16",
         "0",
         "0",
         "0",
         "0",
         "0",
         "0",
         "0",
         "0",
         "0",
         "1",
         "0"
        ],
        [
         "19",
         "2023-07-01 00:00:00",
         "F00-F09 - Transtornos mentais orgânicos, inclusive os sintomáticos",
         "442",
         "91",
         "1",
         "0",
         "0",
         "36",
         "0",
         "0",
         "0",
         "0",
         "0",
         "1",
         "0",
         "0",
         "0",
         "0",
         "0"
        ],
        [
         "20",
         "2018-10-01 00:00:00",
         "F00-F09 - Transtornos mentais orgânicos, inclusive os sintomáticos",
         "286",
         "34",
         "0",
         "0",
         "0",
         "0",
         "0",
         "0",
         "0",
         "0",
         "0",
         "0",
         "0",
         "0",
         "1",
         "0",
         "0"
        ],
        [
         "21",
         "2024-04-01 00:00:00",
         "F00-F09 - Transtornos mentais orgânicos, inclusive os sintomáticos",
         "507",
         "100",
         "1",
         "0",
         "0",
         "45",
         "0",
         "0",
         "1",
         "0",
         "0",
         "0",
         "0",
         "0",
         "0",
         "0",
         "0"
        ],
        [
         "22",
         "2021-10-01 00:00:00",
         "F00-F09 - Transtornos mentais orgânicos, inclusive os sintomáticos",
         "356",
         "70",
         "1",
         "0",
         "0",
         "15",
         "0",
         "0",
         "0",
         "0",
         "0",
         "0",
         "0",
         "0",
         "1",
         "0",
         "0"
        ],
        [
         "23",
         "2018-11-01 00:00:00",
         "F00-F09 - Transtornos mentais orgânicos, inclusive os sintomáticos",
         "249",
         "35",
         "0",
         "0",
         "0",
         "0",
         "0",
         "0",
         "0",
         "0",
         "0",
         "0",
         "0",
         "0",
         "0",
         "1",
         "0"
        ],
        [
         "24",
         "2016-07-01 00:00:00",
         "F00-F09 - Transtornos mentais orgânicos, inclusive os sintomáticos",
         "271",
         "7",
         "0",
         "0",
         "0",
         "0",
         "0",
         "0",
         "0",
         "0",
         "0",
         "1",
         "0",
         "0",
         "0",
         "0",
         "0"
        ],
        [
         "25",
         "2021-09-01 00:00:00",
         "F00-F09 - Transtornos mentais orgânicos, inclusive os sintomáticos",
         "358",
         "69",
         "1",
         "0",
         "0",
         "14",
         "0",
         "0",
         "0",
         "0",
         "0",
         "0",
         "0",
         "1",
         "0",
         "0",
         "0"
        ],
        [
         "26",
         "2021-08-01 00:00:00",
         "F00-F09 - Transtornos mentais orgânicos, inclusive os sintomáticos",
         "350",
         "68",
         "1",
         "0",
         "0",
         "13",
         "0",
         "0",
         "0",
         "0",
         "0",
         "0",
         "1",
         "0",
         "0",
         "0",
         "0"
        ],
        [
         "27",
         "2024-05-01 00:00:00",
         "F00-F09 - Transtornos mentais orgânicos, inclusive os sintomáticos",
         "359",
         "101",
         "1",
         "0",
         "0",
         "46",
         "0",
         "0",
         "0",
         "1",
         "0",
         "0",
         "0",
         "0",
         "0",
         "0",
         "0"
        ],
        [
         "28",
         "2021-07-01 00:00:00",
         "F00-F09 - Transtornos mentais orgânicos, inclusive os sintomáticos",
         "376",
         "67",
         "1",
         "0",
         "0",
         "12",
         "0",
         "0",
         "0",
         "0",
         "0",
         "1",
         "0",
         "0",
         "0",
         "0",
         "0"
        ],
        [
         "29",
         "2018-12-01 00:00:00",
         "F00-F09 - Transtornos mentais orgânicos, inclusive os sintomáticos",
         "200",
         "36",
         "0",
         "0",
         "0",
         "0",
         "0",
         "0",
         "0",
         "0",
         "0",
         "0",
         "0",
         "0",
         "0",
         "0",
         "1"
        ],
        [
         "30",
         "2019-01-01 00:00:00",
         "F00-F09 - Transtornos mentais orgânicos, inclusive os sintomáticos",
         "267",
         "37",
         "0",
         "0",
         "0",
         "0",
         "0",
         "0",
         "0",
         "0",
         "0",
         "0",
         "0",
         "0",
         "0",
         "0",
         "0"
        ],
        [
         "31",
         "2016-08-01 00:00:00",
         "F00-F09 - Transtornos mentais orgânicos, inclusive os sintomáticos",
         "305",
         "8",
         "0",
         "0",
         "0",
         "0",
         "0",
         "0",
         "0",
         "0",
         "0",
         "0",
         "1",
         "0",
         "0",
         "0",
         "0"
        ],
        [
         "32",
         "2021-06-01 00:00:00",
         "F00-F09 - Transtornos mentais orgânicos, inclusive os sintomáticos",
         "332",
         "66",
         "1",
         "0",
         "0",
         "11",
         "0",
         "0",
         "0",
         "0",
         "1",
         "0",
         "0",
         "0",
         "0",
         "0",
         "0"
        ],
        [
         "33",
         "2022-05-01 00:00:00",
         "F00-F09 - Transtornos mentais orgânicos, inclusive os sintomáticos",
         "391",
         "77",
         "1",
         "0",
         "0",
         "22",
         "0",
         "0",
         "0",
         "1",
         "0",
         "0",
         "0",
         "0",
         "0",
         "0",
         "0"
        ],
        [
         "34",
         "2016-11-01 00:00:00",
         "F00-F09 - Transtornos mentais orgânicos, inclusive os sintomáticos",
         "175",
         "11",
         "0",
         "0",
         "0",
         "0",
         "0",
         "0",
         "0",
         "0",
         "0",
         "0",
         "0",
         "0",
         "0",
         "1",
         "0"
        ],
        [
         "35",
         "2023-06-01 00:00:00",
         "F00-F09 - Transtornos mentais orgânicos, inclusive os sintomáticos",
         "399",
         "90",
         "1",
         "0",
         "0",
         "35",
         "0",
         "0",
         "0",
         "0",
         "1",
         "0",
         "0",
         "0",
         "0",
         "0",
         "0"
        ],
        [
         "36",
         "2023-05-01 00:00:00",
         "F00-F09 - Transtornos mentais orgânicos, inclusive os sintomáticos",
         "468",
         "89",
         "1",
         "0",
         "0",
         "34",
         "0",
         "0",
         "0",
         "1",
         "0",
         "0",
         "0",
         "0",
         "0",
         "0",
         "0"
        ],
        [
         "37",
         "2017-05-01 00:00:00",
         "F00-F09 - Transtornos mentais orgânicos, inclusive os sintomáticos",
         "229",
         "17",
         "0",
         "0",
         "0",
         "0",
         "0",
         "0",
         "0",
         "1",
         "0",
         "0",
         "0",
         "0",
         "0",
         "0",
         "0"
        ],
        [
         "38",
         "2023-08-01 00:00:00",
         "F00-F09 - Transtornos mentais orgânicos, inclusive os sintomáticos",
         "493",
         "92",
         "1",
         "0",
         "0",
         "37",
         "0",
         "0",
         "0",
         "0",
         "0",
         "0",
         "1",
         "0",
         "0",
         "0",
         "0"
        ],
        [
         "39",
         "2023-04-01 00:00:00",
         "F00-F09 - Transtornos mentais orgânicos, inclusive os sintomáticos",
         "368",
         "88",
         "1",
         "0",
         "0",
         "33",
         "0",
         "0",
         "1",
         "0",
         "0",
         "0",
         "0",
         "0",
         "0",
         "0",
         "0"
        ],
        [
         "40",
         "2017-03-01 00:00:00",
         "F00-F09 - Transtornos mentais orgânicos, inclusive os sintomáticos",
         "262",
         "15",
         "0",
         "0",
         "0",
         "0",
         "0",
         "1",
         "0",
         "0",
         "0",
         "0",
         "0",
         "0",
         "0",
         "0",
         "0"
        ],
        [
         "41",
         "2017-06-01 00:00:00",
         "F00-F09 - Transtornos mentais orgânicos, inclusive os sintomáticos",
         "254",
         "18",
         "0",
         "0",
         "0",
         "0",
         "0",
         "0",
         "0",
         "0",
         "1",
         "0",
         "0",
         "0",
         "0",
         "0",
         "0"
        ],
        [
         "42",
         "2017-02-01 00:00:00",
         "F00-F09 - Transtornos mentais orgânicos, inclusive os sintomáticos",
         "165",
         "14",
         "0",
         "0",
         "0",
         "0",
         "1",
         "0",
         "0",
         "0",
         "0",
         "0",
         "0",
         "0",
         "0",
         "0",
         "0"
        ],
        [
         "43",
         "2023-03-01 00:00:00",
         "F00-F09 - Transtornos mentais orgânicos, inclusive os sintomáticos",
         "428",
         "87",
         "1",
         "0",
         "0",
         "32",
         "0",
         "1",
         "0",
         "0",
         "0",
         "0",
         "0",
         "0",
         "0",
         "0",
         "0"
        ],
        [
         "44",
         "2017-07-01 00:00:00",
         "F00-F09 - Transtornos mentais orgânicos, inclusive os sintomáticos",
         "189",
         "19",
         "0",
         "0",
         "0",
         "0",
         "0",
         "0",
         "0",
         "0",
         "0",
         "1",
         "0",
         "0",
         "0",
         "0",
         "0"
        ],
        [
         "45",
         "2023-09-01 00:00:00",
         "F00-F09 - Transtornos mentais orgânicos, inclusive os sintomáticos",
         "399",
         "93",
         "1",
         "0",
         "0",
         "38",
         "0",
         "0",
         "0",
         "0",
         "0",
         "0",
         "0",
         "1",
         "0",
         "0",
         "0"
        ],
        [
         "46",
         "2023-02-01 00:00:00",
         "F00-F09 - Transtornos mentais orgânicos, inclusive os sintomáticos",
         "362",
         "86",
         "1",
         "0",
         "0",
         "31",
         "1",
         "0",
         "0",
         "0",
         "0",
         "0",
         "0",
         "0",
         "0",
         "0",
         "0"
        ],
        [
         "47",
         "2023-01-01 00:00:00",
         "F00-F09 - Transtornos mentais orgânicos, inclusive os sintomáticos",
         "422",
         "85",
         "1",
         "0",
         "0",
         "30",
         "0",
         "0",
         "0",
         "0",
         "0",
         "0",
         "0",
         "0",
         "0",
         "0",
         "0"
        ],
        [
         "48",
         "2017-08-01 00:00:00",
         "F00-F09 - Transtornos mentais orgânicos, inclusive os sintomáticos",
         "193",
         "20",
         "0",
         "0",
         "0",
         "0",
         "0",
         "0",
         "0",
         "0",
         "0",
         "0",
         "1",
         "0",
         "0",
         "0",
         "0"
        ],
        [
         "49",
         "2022-06-01 00:00:00",
         "F00-F09 - Transtornos mentais orgânicos, inclusive os sintomáticos",
         "368",
         "78",
         "1",
         "0",
         "0",
         "23",
         "0",
         "0",
         "0",
         "0",
         "1",
         "0",
         "0",
         "0",
         "0",
         "0",
         "0"
        ]
       ],
       "shape": {
        "columns": 19,
        "rows": 1296
       }
      },
      "text/html": [
       "<div>\n",
       "<style scoped>\n",
       "    .dataframe tbody tr th:only-of-type {\n",
       "        vertical-align: middle;\n",
       "    }\n",
       "\n",
       "    .dataframe tbody tr th {\n",
       "        vertical-align: top;\n",
       "    }\n",
       "\n",
       "    .dataframe thead th {\n",
       "        text-align: right;\n",
       "    }\n",
       "</style>\n",
       "<table border=\"1\" class=\"dataframe\">\n",
       "  <thead>\n",
       "    <tr style=\"text-align: right;\">\n",
       "      <th></th>\n",
       "      <th>date</th>\n",
       "      <th>variavel</th>\n",
       "      <th>valores</th>\n",
       "      <th>periodo</th>\n",
       "      <th>Step_PosPandemia</th>\n",
       "      <th>Choque_Inicial</th>\n",
       "      <th>Lockdown_2021</th>\n",
       "      <th>Trend_PosPandemia</th>\n",
       "      <th>month_2</th>\n",
       "      <th>month_3</th>\n",
       "      <th>month_4</th>\n",
       "      <th>month_5</th>\n",
       "      <th>month_6</th>\n",
       "      <th>month_7</th>\n",
       "      <th>month_8</th>\n",
       "      <th>month_9</th>\n",
       "      <th>month_10</th>\n",
       "      <th>month_11</th>\n",
       "      <th>month_12</th>\n",
       "    </tr>\n",
       "  </thead>\n",
       "  <tbody>\n",
       "    <tr>\n",
       "      <th>0</th>\n",
       "      <td>2016-01-01</td>\n",
       "      <td>F00-F09 - Transtornos mentais orgânicos, inclu...</td>\n",
       "      <td>109</td>\n",
       "      <td>1</td>\n",
       "      <td>0</td>\n",
       "      <td>0</td>\n",
       "      <td>0</td>\n",
       "      <td>0</td>\n",
       "      <td>0</td>\n",
       "      <td>0</td>\n",
       "      <td>0</td>\n",
       "      <td>0</td>\n",
       "      <td>0</td>\n",
       "      <td>0</td>\n",
       "      <td>0</td>\n",
       "      <td>0</td>\n",
       "      <td>0</td>\n",
       "      <td>0</td>\n",
       "      <td>0</td>\n",
       "    </tr>\n",
       "    <tr>\n",
       "      <th>1</th>\n",
       "      <td>2018-03-01</td>\n",
       "      <td>F00-F09 - Transtornos mentais orgânicos, inclu...</td>\n",
       "      <td>242</td>\n",
       "      <td>27</td>\n",
       "      <td>0</td>\n",
       "      <td>0</td>\n",
       "      <td>0</td>\n",
       "      <td>0</td>\n",
       "      <td>0</td>\n",
       "      <td>1</td>\n",
       "      <td>0</td>\n",
       "      <td>0</td>\n",
       "      <td>0</td>\n",
       "      <td>0</td>\n",
       "      <td>0</td>\n",
       "      <td>0</td>\n",
       "      <td>0</td>\n",
       "      <td>0</td>\n",
       "      <td>0</td>\n",
       "    </tr>\n",
       "    <tr>\n",
       "      <th>2</th>\n",
       "      <td>2018-04-01</td>\n",
       "      <td>F00-F09 - Transtornos mentais orgânicos, inclu...</td>\n",
       "      <td>223</td>\n",
       "      <td>28</td>\n",
       "      <td>0</td>\n",
       "      <td>0</td>\n",
       "      <td>0</td>\n",
       "      <td>0</td>\n",
       "      <td>0</td>\n",
       "      <td>0</td>\n",
       "      <td>1</td>\n",
       "      <td>0</td>\n",
       "      <td>0</td>\n",
       "      <td>0</td>\n",
       "      <td>0</td>\n",
       "      <td>0</td>\n",
       "      <td>0</td>\n",
       "      <td>0</td>\n",
       "      <td>0</td>\n",
       "    </tr>\n",
       "    <tr>\n",
       "      <th>3</th>\n",
       "      <td>2022-04-01</td>\n",
       "      <td>F00-F09 - Transtornos mentais orgânicos, inclu...</td>\n",
       "      <td>294</td>\n",
       "      <td>76</td>\n",
       "      <td>1</td>\n",
       "      <td>0</td>\n",
       "      <td>0</td>\n",
       "      <td>21</td>\n",
       "      <td>0</td>\n",
       "      <td>0</td>\n",
       "      <td>1</td>\n",
       "      <td>0</td>\n",
       "      <td>0</td>\n",
       "      <td>0</td>\n",
       "      <td>0</td>\n",
       "      <td>0</td>\n",
       "      <td>0</td>\n",
       "      <td>0</td>\n",
       "      <td>0</td>\n",
       "    </tr>\n",
       "    <tr>\n",
       "      <th>4</th>\n",
       "      <td>2024-01-01</td>\n",
       "      <td>F00-F09 - Transtornos mentais orgânicos, inclu...</td>\n",
       "      <td>451</td>\n",
       "      <td>97</td>\n",
       "      <td>1</td>\n",
       "      <td>0</td>\n",
       "      <td>0</td>\n",
       "      <td>42</td>\n",
       "      <td>0</td>\n",
       "      <td>0</td>\n",
       "      <td>0</td>\n",
       "      <td>0</td>\n",
       "      <td>0</td>\n",
       "      <td>0</td>\n",
       "      <td>0</td>\n",
       "      <td>0</td>\n",
       "      <td>0</td>\n",
       "      <td>0</td>\n",
       "      <td>0</td>\n",
       "    </tr>\n",
       "    <tr>\n",
       "      <th>...</th>\n",
       "      <td>...</td>\n",
       "      <td>...</td>\n",
       "      <td>...</td>\n",
       "      <td>...</td>\n",
       "      <td>...</td>\n",
       "      <td>...</td>\n",
       "      <td>...</td>\n",
       "      <td>...</td>\n",
       "      <td>...</td>\n",
       "      <td>...</td>\n",
       "      <td>...</td>\n",
       "      <td>...</td>\n",
       "      <td>...</td>\n",
       "      <td>...</td>\n",
       "      <td>...</td>\n",
       "      <td>...</td>\n",
       "      <td>...</td>\n",
       "      <td>...</td>\n",
       "      <td>...</td>\n",
       "    </tr>\n",
       "    <tr>\n",
       "      <th>1291</th>\n",
       "      <td>2017-08-01</td>\n",
       "      <td>__Atendimentos na APS (exceto saúde mental)</td>\n",
       "      <td>122593</td>\n",
       "      <td>20</td>\n",
       "      <td>0</td>\n",
       "      <td>0</td>\n",
       "      <td>0</td>\n",
       "      <td>0</td>\n",
       "      <td>0</td>\n",
       "      <td>0</td>\n",
       "      <td>0</td>\n",
       "      <td>0</td>\n",
       "      <td>0</td>\n",
       "      <td>0</td>\n",
       "      <td>1</td>\n",
       "      <td>0</td>\n",
       "      <td>0</td>\n",
       "      <td>0</td>\n",
       "      <td>0</td>\n",
       "    </tr>\n",
       "    <tr>\n",
       "      <th>1292</th>\n",
       "      <td>2023-02-01</td>\n",
       "      <td>__Atendimentos na APS (exceto saúde mental)</td>\n",
       "      <td>180244</td>\n",
       "      <td>86</td>\n",
       "      <td>1</td>\n",
       "      <td>0</td>\n",
       "      <td>0</td>\n",
       "      <td>31</td>\n",
       "      <td>1</td>\n",
       "      <td>0</td>\n",
       "      <td>0</td>\n",
       "      <td>0</td>\n",
       "      <td>0</td>\n",
       "      <td>0</td>\n",
       "      <td>0</td>\n",
       "      <td>0</td>\n",
       "      <td>0</td>\n",
       "      <td>0</td>\n",
       "      <td>0</td>\n",
       "    </tr>\n",
       "    <tr>\n",
       "      <th>1293</th>\n",
       "      <td>2017-07-01</td>\n",
       "      <td>__Atendimentos na APS (exceto saúde mental)</td>\n",
       "      <td>114118</td>\n",
       "      <td>19</td>\n",
       "      <td>0</td>\n",
       "      <td>0</td>\n",
       "      <td>0</td>\n",
       "      <td>0</td>\n",
       "      <td>0</td>\n",
       "      <td>0</td>\n",
       "      <td>0</td>\n",
       "      <td>0</td>\n",
       "      <td>0</td>\n",
       "      <td>1</td>\n",
       "      <td>0</td>\n",
       "      <td>0</td>\n",
       "      <td>0</td>\n",
       "      <td>0</td>\n",
       "      <td>0</td>\n",
       "    </tr>\n",
       "    <tr>\n",
       "      <th>1294</th>\n",
       "      <td>2022-10-01</td>\n",
       "      <td>__Atendimentos na APS (exceto saúde mental)</td>\n",
       "      <td>224278</td>\n",
       "      <td>82</td>\n",
       "      <td>1</td>\n",
       "      <td>0</td>\n",
       "      <td>0</td>\n",
       "      <td>27</td>\n",
       "      <td>0</td>\n",
       "      <td>0</td>\n",
       "      <td>0</td>\n",
       "      <td>0</td>\n",
       "      <td>0</td>\n",
       "      <td>0</td>\n",
       "      <td>0</td>\n",
       "      <td>0</td>\n",
       "      <td>1</td>\n",
       "      <td>0</td>\n",
       "      <td>0</td>\n",
       "    </tr>\n",
       "    <tr>\n",
       "      <th>1295</th>\n",
       "      <td>2024-12-01</td>\n",
       "      <td>__Atendimentos na APS (exceto saúde mental)</td>\n",
       "      <td>220687</td>\n",
       "      <td>108</td>\n",
       "      <td>1</td>\n",
       "      <td>0</td>\n",
       "      <td>0</td>\n",
       "      <td>53</td>\n",
       "      <td>0</td>\n",
       "      <td>0</td>\n",
       "      <td>0</td>\n",
       "      <td>0</td>\n",
       "      <td>0</td>\n",
       "      <td>0</td>\n",
       "      <td>0</td>\n",
       "      <td>0</td>\n",
       "      <td>0</td>\n",
       "      <td>0</td>\n",
       "      <td>1</td>\n",
       "    </tr>\n",
       "  </tbody>\n",
       "</table>\n",
       "<p>1296 rows × 19 columns</p>\n",
       "</div>"
      ],
      "text/plain": [
       "           date                                           variavel  valores  \\\n",
       "0    2016-01-01  F00-F09 - Transtornos mentais orgânicos, inclu...      109   \n",
       "1    2018-03-01  F00-F09 - Transtornos mentais orgânicos, inclu...      242   \n",
       "2    2018-04-01  F00-F09 - Transtornos mentais orgânicos, inclu...      223   \n",
       "3    2022-04-01  F00-F09 - Transtornos mentais orgânicos, inclu...      294   \n",
       "4    2024-01-01  F00-F09 - Transtornos mentais orgânicos, inclu...      451   \n",
       "...         ...                                                ...      ...   \n",
       "1291 2017-08-01        __Atendimentos na APS (exceto saúde mental)   122593   \n",
       "1292 2023-02-01        __Atendimentos na APS (exceto saúde mental)   180244   \n",
       "1293 2017-07-01        __Atendimentos na APS (exceto saúde mental)   114118   \n",
       "1294 2022-10-01        __Atendimentos na APS (exceto saúde mental)   224278   \n",
       "1295 2024-12-01        __Atendimentos na APS (exceto saúde mental)   220687   \n",
       "\n",
       "      periodo  Step_PosPandemia  Choque_Inicial  Lockdown_2021  \\\n",
       "0           1                 0               0              0   \n",
       "1          27                 0               0              0   \n",
       "2          28                 0               0              0   \n",
       "3          76                 1               0              0   \n",
       "4          97                 1               0              0   \n",
       "...       ...               ...             ...            ...   \n",
       "1291       20                 0               0              0   \n",
       "1292       86                 1               0              0   \n",
       "1293       19                 0               0              0   \n",
       "1294       82                 1               0              0   \n",
       "1295      108                 1               0              0   \n",
       "\n",
       "      Trend_PosPandemia  month_2  month_3  month_4  month_5  month_6  month_7  \\\n",
       "0                     0        0        0        0        0        0        0   \n",
       "1                     0        0        1        0        0        0        0   \n",
       "2                     0        0        0        1        0        0        0   \n",
       "3                    21        0        0        1        0        0        0   \n",
       "4                    42        0        0        0        0        0        0   \n",
       "...                 ...      ...      ...      ...      ...      ...      ...   \n",
       "1291                  0        0        0        0        0        0        0   \n",
       "1292                 31        1        0        0        0        0        0   \n",
       "1293                  0        0        0        0        0        0        1   \n",
       "1294                 27        0        0        0        0        0        0   \n",
       "1295                 53        0        0        0        0        0        0   \n",
       "\n",
       "      month_8  month_9  month_10  month_11  month_12  \n",
       "0           0        0         0         0         0  \n",
       "1           0        0         0         0         0  \n",
       "2           0        0         0         0         0  \n",
       "3           0        0         0         0         0  \n",
       "4           0        0         0         0         0  \n",
       "...       ...      ...       ...       ...       ...  \n",
       "1291        1        0         0         0         0  \n",
       "1292        0        0         0         0         0  \n",
       "1293        0        0         0         0         0  \n",
       "1294        0        0         1         0         0  \n",
       "1295        0        0         0         0         1  \n",
       "\n",
       "[1296 rows x 19 columns]"
      ]
     },
     "execution_count": 294,
     "metadata": {},
     "output_type": "execute_result"
    }
   ],
   "source": [
    "pipe = Pipeline(\n",
    "    [\n",
    "        (\"grouping\", FrequencyGroupingTransformer(frequency=ARGS['FrequencyDateGroup'])),\n",
    "        (\"melt\", MeltTransformer()),\n",
    "        (\"date_filter\", DateFilterTransformer(periodos_inclusivos=ARGS['DateRange'])),\n",
    "        (\"period_index_adder\", PeriodIndexAdder()),\n",
    "        (\"dummy_adder\", MultiDummyAdder(dummy_config=ARGS['DummyArgs'])),\n",
    "        (\"monthly_dummy_adder\", MonthlyDummyAdder()),\n",
    "        (\"sorter\", DataFrameSorter(sort_by=VARIABLE_COLUMN_NAME, ascending=True)),\n",
    "    ]\n",
    ")\n",
    "\n",
    "RawDataDF = BuildDataDF(dados_brutos)\n",
    "RegressionDF = pipe.fit_transform(RawDataDF)\n",
    "RegressionDF"
   ]
  },
  {
   "cell_type": "markdown",
   "metadata": {},
   "source": [
    "# Period Date Map"
   ]
  },
  {
   "cell_type": "code",
   "execution_count": 295,
   "metadata": {},
   "outputs": [
    {
     "data": {
      "text/plain": [
       "{Timestamp('2016-01-01 00:00:00'): 1,\n",
       " Timestamp('2016-02-01 00:00:00'): 2,\n",
       " Timestamp('2016-03-01 00:00:00'): 3,\n",
       " Timestamp('2016-04-01 00:00:00'): 4,\n",
       " Timestamp('2016-05-01 00:00:00'): 5,\n",
       " Timestamp('2016-06-01 00:00:00'): 6,\n",
       " Timestamp('2016-07-01 00:00:00'): 7,\n",
       " Timestamp('2016-08-01 00:00:00'): 8,\n",
       " Timestamp('2016-09-01 00:00:00'): 9,\n",
       " Timestamp('2016-10-01 00:00:00'): 10,\n",
       " Timestamp('2016-11-01 00:00:00'): 11,\n",
       " Timestamp('2016-12-01 00:00:00'): 12,\n",
       " Timestamp('2017-01-01 00:00:00'): 13,\n",
       " Timestamp('2017-02-01 00:00:00'): 14,\n",
       " Timestamp('2017-03-01 00:00:00'): 15,\n",
       " Timestamp('2017-04-01 00:00:00'): 16,\n",
       " Timestamp('2017-05-01 00:00:00'): 17,\n",
       " Timestamp('2017-06-01 00:00:00'): 18,\n",
       " Timestamp('2017-07-01 00:00:00'): 19,\n",
       " Timestamp('2017-08-01 00:00:00'): 20,\n",
       " Timestamp('2017-09-01 00:00:00'): 21,\n",
       " Timestamp('2017-10-01 00:00:00'): 22,\n",
       " Timestamp('2017-11-01 00:00:00'): 23,\n",
       " Timestamp('2017-12-01 00:00:00'): 24,\n",
       " Timestamp('2018-01-01 00:00:00'): 25,\n",
       " Timestamp('2018-02-01 00:00:00'): 26,\n",
       " Timestamp('2018-03-01 00:00:00'): 27,\n",
       " Timestamp('2018-04-01 00:00:00'): 28,\n",
       " Timestamp('2018-05-01 00:00:00'): 29,\n",
       " Timestamp('2018-06-01 00:00:00'): 30,\n",
       " Timestamp('2018-07-01 00:00:00'): 31,\n",
       " Timestamp('2018-08-01 00:00:00'): 32,\n",
       " Timestamp('2018-09-01 00:00:00'): 33,\n",
       " Timestamp('2018-10-01 00:00:00'): 34,\n",
       " Timestamp('2018-11-01 00:00:00'): 35,\n",
       " Timestamp('2018-12-01 00:00:00'): 36,\n",
       " Timestamp('2019-01-01 00:00:00'): 37,\n",
       " Timestamp('2019-02-01 00:00:00'): 38,\n",
       " Timestamp('2019-03-01 00:00:00'): 39,\n",
       " Timestamp('2019-04-01 00:00:00'): 40,\n",
       " Timestamp('2019-05-01 00:00:00'): 41,\n",
       " Timestamp('2019-06-01 00:00:00'): 42,\n",
       " Timestamp('2019-07-01 00:00:00'): 43,\n",
       " Timestamp('2019-08-01 00:00:00'): 44,\n",
       " Timestamp('2019-09-01 00:00:00'): 45,\n",
       " Timestamp('2019-10-01 00:00:00'): 46,\n",
       " Timestamp('2019-11-01 00:00:00'): 47,\n",
       " Timestamp('2019-12-01 00:00:00'): 48,\n",
       " Timestamp('2020-01-01 00:00:00'): 49,\n",
       " Timestamp('2020-02-01 00:00:00'): 50,\n",
       " Timestamp('2020-03-01 00:00:00'): 51,\n",
       " Timestamp('2020-04-01 00:00:00'): 52,\n",
       " Timestamp('2020-05-01 00:00:00'): 53,\n",
       " Timestamp('2020-06-01 00:00:00'): 54,\n",
       " Timestamp('2020-07-01 00:00:00'): 55,\n",
       " Timestamp('2020-08-01 00:00:00'): 56,\n",
       " Timestamp('2020-09-01 00:00:00'): 57,\n",
       " Timestamp('2020-10-01 00:00:00'): 58,\n",
       " Timestamp('2020-11-01 00:00:00'): 59,\n",
       " Timestamp('2020-12-01 00:00:00'): 60,\n",
       " Timestamp('2021-01-01 00:00:00'): 61,\n",
       " Timestamp('2021-02-01 00:00:00'): 62,\n",
       " Timestamp('2021-03-01 00:00:00'): 63,\n",
       " Timestamp('2021-04-01 00:00:00'): 64,\n",
       " Timestamp('2021-05-01 00:00:00'): 65,\n",
       " Timestamp('2021-06-01 00:00:00'): 66,\n",
       " Timestamp('2021-07-01 00:00:00'): 67,\n",
       " Timestamp('2021-08-01 00:00:00'): 68,\n",
       " Timestamp('2021-09-01 00:00:00'): 69,\n",
       " Timestamp('2021-10-01 00:00:00'): 70,\n",
       " Timestamp('2021-11-01 00:00:00'): 71,\n",
       " Timestamp('2021-12-01 00:00:00'): 72,\n",
       " Timestamp('2022-01-01 00:00:00'): 73,\n",
       " Timestamp('2022-02-01 00:00:00'): 74,\n",
       " Timestamp('2022-03-01 00:00:00'): 75,\n",
       " Timestamp('2022-04-01 00:00:00'): 76,\n",
       " Timestamp('2022-05-01 00:00:00'): 77,\n",
       " Timestamp('2022-06-01 00:00:00'): 78,\n",
       " Timestamp('2022-07-01 00:00:00'): 79,\n",
       " Timestamp('2022-08-01 00:00:00'): 80,\n",
       " Timestamp('2022-09-01 00:00:00'): 81,\n",
       " Timestamp('2022-10-01 00:00:00'): 82,\n",
       " Timestamp('2022-11-01 00:00:00'): 83,\n",
       " Timestamp('2022-12-01 00:00:00'): 84,\n",
       " Timestamp('2023-01-01 00:00:00'): 85,\n",
       " Timestamp('2023-02-01 00:00:00'): 86,\n",
       " Timestamp('2023-03-01 00:00:00'): 87,\n",
       " Timestamp('2023-04-01 00:00:00'): 88,\n",
       " Timestamp('2023-05-01 00:00:00'): 89,\n",
       " Timestamp('2023-06-01 00:00:00'): 90,\n",
       " Timestamp('2023-07-01 00:00:00'): 91,\n",
       " Timestamp('2023-08-01 00:00:00'): 92,\n",
       " Timestamp('2023-09-01 00:00:00'): 93,\n",
       " Timestamp('2023-10-01 00:00:00'): 94,\n",
       " Timestamp('2023-11-01 00:00:00'): 95,\n",
       " Timestamp('2023-12-01 00:00:00'): 96,\n",
       " Timestamp('2024-01-01 00:00:00'): 97,\n",
       " Timestamp('2024-02-01 00:00:00'): 98,\n",
       " Timestamp('2024-03-01 00:00:00'): 99,\n",
       " Timestamp('2024-04-01 00:00:00'): 100,\n",
       " Timestamp('2024-05-01 00:00:00'): 101,\n",
       " Timestamp('2024-06-01 00:00:00'): 102,\n",
       " Timestamp('2024-07-01 00:00:00'): 103,\n",
       " Timestamp('2024-08-01 00:00:00'): 104,\n",
       " Timestamp('2024-09-01 00:00:00'): 105,\n",
       " Timestamp('2024-10-01 00:00:00'): 106,\n",
       " Timestamp('2024-11-01 00:00:00'): 107,\n",
       " Timestamp('2024-12-01 00:00:00'): 108}"
      ]
     },
     "execution_count": 295,
     "metadata": {},
     "output_type": "execute_result"
    }
   ],
   "source": [
    "\n",
    "PERIOD_DATE_MAP = pipe.named_steps['period_index_adder'].period_date_mapping\n",
    "PERIOD_DATE_MAP"
   ]
  },
  {
   "cell_type": "markdown",
   "metadata": {},
   "source": [
    "# **Get Period Indexes**"
   ]
  },
  {
   "cell_type": "code",
   "execution_count": 296,
   "metadata": {},
   "outputs": [],
   "source": [
    "def find_idx_from_date(target_date, period_date_map=PERIOD_DATE_MAP):\n",
    "    \"\"\"\n",
    "    Finds the 'periodo' (index) corresponding to a given datetime in the PERIOD_DATE_MAP.\n",
    "\n",
    "    Args:\n",
    "        target_date (str or datetime): The target date to search for (e.g., '2020-01-01').\n",
    "        period_date_map (dict): The PERIOD_DATE_MAP containing period-to-date mappings.\n",
    "\n",
    "    Returns:\n",
    "        int: The 'periodo' (index) corresponding to the target date, or None if not found.\n",
    "    \"\"\"\n",
    "    # Ensure the target_date is a datetime object and normalize to quarter-end\n",
    "    if isinstance(target_date, str):\n",
    "        target_date = pd.to_datetime(target_date)\n",
    "    if ARGS['FrequencyDateGroup'] == 'Q' or ARGS['FrequencyDateGroup'] == 'QE':\n",
    "        target_date = target_date + pd.offsets.QuarterEnd(0)\n",
    "\n",
    "    # Iterate through the PERIOD_DATE_MAP to find the matching period\n",
    "    for date, period in period_date_map.items():\n",
    "        if isinstance(date, str):\n",
    "            date = pd.to_datetime(date)\n",
    "        if ARGS['FrequencyDateGroup'] == 'Q' or ARGS['FrequencyDateGroup'] == 'QE':\n",
    "            date = date + pd.offsets.QuarterEnd(0) # Normalize to quarter-end\n",
    "        if date == target_date:\n",
    "            return period - 1\n",
    "\n",
    "    return None\n",
    "\n",
    "\n",
    "def find_date_from_idx(target_idx, period_date_map=PERIOD_DATE_MAP):\n",
    "    \"\"\"\n",
    "    Finds the date corresponding to a given 'periodo' (index) in the PERIOD_DATE_MAP.\n",
    "\n",
    "    Args:\n",
    "        target_idx (int): The target index to search for (e.g., 1, 2, 3).\n",
    "        period_date_map (dict): The PERIOD_DATE_MAP containing period-to-date mappings.\n",
    "\n",
    "    Returns:\n",
    "        datetime or None: The date corresponding to the target index, or None if not found.\n",
    "    \"\"\"\n",
    "    # Iterate through the PERIOD_DATE_MAP to find the matching index\n",
    "    for date, period in period_date_map.items():\n",
    "        if period == target_idx:\n",
    "            date = pd.to_datetime(date) if isinstance(date, str) else date\n",
    "            date = date + pd.offsets.QuarterEnd(0) if ARGS['FrequencyDateGroup'] == 'Q' or ARGS['FrequencyDateGroup'] == 'QE' else date\n",
    "            return date\n",
    "    return None"
   ]
  },
  {
   "cell_type": "code",
   "execution_count": 297,
   "metadata": {},
   "outputs": [
    {
     "name": "stdout",
     "output_type": "stream",
     "text": [
      "Step_PosPandemia {'start_date': '2020-08-01', 'end_date': '2024-12-01', 'exclude_ranges': [('2021-04-01', '2021-05-01')], 'plot': False, 'step': True}\n",
      "Choque_Inicial {'start_date': '2020-01-01', 'end_date': '2020-07-01'}\n",
      "Lockdown_2021 {'start_date': '2021-04-01', 'end_date': '2021-05-01'}\n",
      "Trend_PosPandemia {'start_date': '2020-08-01', 'end_date': '2024-12-01', 'exclude_ranges': [('2021-04-01', '2021-05-01')], 'plot': True, 'add_time_trend': True, 'keep_period_index': False, 'step': False}\n"
     ]
    },
    {
     "data": {
      "text/plain": [
       "{'Step_PosPandemia': {'start_index': 55, 'end_index': 107},\n",
       " 'Choque_Inicial': {'start_index': 48, 'end_index': 54},\n",
       " 'Lockdown_2021': {'start_index': 63, 'end_index': 64},\n",
       " 'Trend_PosPandemia': {'start_index': 55, 'end_index': 107}}"
      ]
     },
     "execution_count": 297,
     "metadata": {},
     "output_type": "execute_result"
    }
   ],
   "source": [
    "DummyIndexes = {}\n",
    "\n",
    "# Iterate over DUMMY_ARGS to calculate and store indexes\n",
    "for dummy_name, config in DUMMY_ARGS.items():\n",
    "    start_date = config.get(\"start_date\")\n",
    "    end_date = config.get(\"end_date\")\n",
    "    \n",
    "    print(dummy_name, config)\n",
    "    # Calculate indexes using find_idx_from_date\n",
    "    start_idx = find_idx_from_date(start_date, PERIOD_DATE_MAP) if start_date else None\n",
    "    end_idx = find_idx_from_date(end_date, PERIOD_DATE_MAP) if end_date else None\n",
    "    \n",
    "    # Store the indexes in the table\n",
    "    DummyIndexes[dummy_name] = {\n",
    "        \"start_index\": start_idx,\n",
    "        \"end_index\": end_idx\n",
    "    }\n",
    "DummyIndexes\n",
    "\n"
   ]
  },
  {
   "cell_type": "markdown",
   "metadata": {},
   "source": [
    "# EXPLORATION --- Chow Test\n"
   ]
  },
  {
   "cell_type": "code",
   "execution_count": null,
   "metadata": {},
   "outputs": [
    {
     "data": {
      "application/vnd.microsoft.datawrangler.viewer.v0+json": {
       "columns": [
        {
         "name": "index",
         "rawType": "int64",
         "type": "integer"
        },
        {
         "name": "date",
         "rawType": "datetime64[ns]",
         "type": "datetime"
        },
        {
         "name": "variavel",
         "rawType": "object",
         "type": "string"
        },
        {
         "name": "valores",
         "rawType": "int64",
         "type": "integer"
        },
        {
         "name": "periodo",
         "rawType": "int64",
         "type": "integer"
        },
        {
         "name": "Step_PosPandemia",
         "rawType": "int64",
         "type": "integer"
        },
        {
         "name": "Choque_Inicial",
         "rawType": "int64",
         "type": "integer"
        },
        {
         "name": "Lockdown_2021",
         "rawType": "int64",
         "type": "integer"
        },
        {
         "name": "Trend_PosPandemia",
         "rawType": "int64",
         "type": "integer"
        },
        {
         "name": "month_2",
         "rawType": "int64",
         "type": "integer"
        },
        {
         "name": "month_3",
         "rawType": "int64",
         "type": "integer"
        },
        {
         "name": "month_4",
         "rawType": "int64",
         "type": "integer"
        },
        {
         "name": "month_5",
         "rawType": "int64",
         "type": "integer"
        },
        {
         "name": "month_6",
         "rawType": "int64",
         "type": "integer"
        },
        {
         "name": "month_7",
         "rawType": "int64",
         "type": "integer"
        },
        {
         "name": "month_8",
         "rawType": "int64",
         "type": "integer"
        },
        {
         "name": "month_9",
         "rawType": "int64",
         "type": "integer"
        },
        {
         "name": "month_10",
         "rawType": "int64",
         "type": "integer"
        },
        {
         "name": "month_11",
         "rawType": "int64",
         "type": "integer"
        },
        {
         "name": "month_12",
         "rawType": "int64",
         "type": "integer"
        }
       ],
       "conversionMethod": "pd.DataFrame",
       "ref": "0586606c-b414-462a-865e-4a238a967142",
       "rows": [
        [
         "0",
         "2016-01-01 00:00:00",
         "F00-F09 - Transtornos mentais orgânicos, inclusive os sintomáticos",
         "109",
         "1",
         "0",
         "0",
         "0",
         "0",
         "0",
         "0",
         "0",
         "0",
         "0",
         "0",
         "0",
         "0",
         "0",
         "0",
         "0"
        ],
        [
         "1",
         "2018-03-01 00:00:00",
         "F00-F09 - Transtornos mentais orgânicos, inclusive os sintomáticos",
         "242",
         "27",
         "0",
         "0",
         "0",
         "0",
         "0",
         "1",
         "0",
         "0",
         "0",
         "0",
         "0",
         "0",
         "0",
         "0",
         "0"
        ],
        [
         "2",
         "2018-04-01 00:00:00",
         "F00-F09 - Transtornos mentais orgânicos, inclusive os sintomáticos",
         "223",
         "28",
         "0",
         "0",
         "0",
         "0",
         "0",
         "0",
         "1",
         "0",
         "0",
         "0",
         "0",
         "0",
         "0",
         "0",
         "0"
        ],
        [
         "3",
         "2022-04-01 00:00:00",
         "F00-F09 - Transtornos mentais orgânicos, inclusive os sintomáticos",
         "294",
         "76",
         "1",
         "0",
         "0",
         "21",
         "0",
         "0",
         "1",
         "0",
         "0",
         "0",
         "0",
         "0",
         "0",
         "0",
         "0"
        ],
        [
         "4",
         "2024-01-01 00:00:00",
         "F00-F09 - Transtornos mentais orgânicos, inclusive os sintomáticos",
         "451",
         "97",
         "1",
         "0",
         "0",
         "42",
         "0",
         "0",
         "0",
         "0",
         "0",
         "0",
         "0",
         "0",
         "0",
         "0",
         "0"
        ],
        [
         "5",
         "2024-02-01 00:00:00",
         "F00-F09 - Transtornos mentais orgânicos, inclusive os sintomáticos",
         "379",
         "98",
         "1",
         "0",
         "0",
         "43",
         "1",
         "0",
         "0",
         "0",
         "0",
         "0",
         "0",
         "0",
         "0",
         "0",
         "0"
        ],
        [
         "6",
         "2022-03-01 00:00:00",
         "F00-F09 - Transtornos mentais orgânicos, inclusive os sintomáticos",
         "381",
         "75",
         "1",
         "0",
         "0",
         "20",
         "0",
         "1",
         "0",
         "0",
         "0",
         "0",
         "0",
         "0",
         "0",
         "0",
         "0"
        ],
        [
         "7",
         "2016-10-01 00:00:00",
         "F00-F09 - Transtornos mentais orgânicos, inclusive os sintomáticos",
         "245",
         "10",
         "0",
         "0",
         "0",
         "0",
         "0",
         "0",
         "0",
         "0",
         "0",
         "0",
         "0",
         "0",
         "1",
         "0",
         "0"
        ],
        [
         "8",
         "2018-05-01 00:00:00",
         "F00-F09 - Transtornos mentais orgânicos, inclusive os sintomáticos",
         "252",
         "29",
         "0",
         "0",
         "0",
         "0",
         "0",
         "0",
         "0",
         "1",
         "0",
         "0",
         "0",
         "0",
         "0",
         "0",
         "0"
        ],
        [
         "9",
         "2022-02-01 00:00:00",
         "F00-F09 - Transtornos mentais orgânicos, inclusive os sintomáticos",
         "287",
         "74",
         "1",
         "0",
         "0",
         "19",
         "1",
         "0",
         "0",
         "0",
         "0",
         "0",
         "0",
         "0",
         "0",
         "0",
         "0"
        ],
        [
         "10",
         "2018-06-01 00:00:00",
         "F00-F09 - Transtornos mentais orgânicos, inclusive os sintomáticos",
         "258",
         "30",
         "0",
         "0",
         "0",
         "0",
         "0",
         "0",
         "0",
         "0",
         "1",
         "0",
         "0",
         "0",
         "0",
         "0",
         "0"
        ],
        [
         "11",
         "2022-01-01 00:00:00",
         "F00-F09 - Transtornos mentais orgânicos, inclusive os sintomáticos",
         "206",
         "73",
         "1",
         "0",
         "0",
         "18",
         "0",
         "0",
         "0",
         "0",
         "0",
         "0",
         "0",
         "0",
         "0",
         "0",
         "0"
        ],
        [
         "12",
         "2018-07-01 00:00:00",
         "F00-F09 - Transtornos mentais orgânicos, inclusive os sintomáticos",
         "222",
         "31",
         "0",
         "0",
         "0",
         "0",
         "0",
         "0",
         "0",
         "0",
         "0",
         "1",
         "0",
         "0",
         "0",
         "0",
         "0"
        ],
        [
         "13",
         "2016-09-01 00:00:00",
         "F00-F09 - Transtornos mentais orgânicos, inclusive os sintomáticos",
         "242",
         "9",
         "0",
         "0",
         "0",
         "0",
         "0",
         "0",
         "0",
         "0",
         "0",
         "0",
         "0",
         "1",
         "0",
         "0",
         "0"
        ],
        [
         "14",
         "2018-08-01 00:00:00",
         "F00-F09 - Transtornos mentais orgânicos, inclusive os sintomáticos",
         "261",
         "32",
         "0",
         "0",
         "0",
         "0",
         "0",
         "0",
         "0",
         "0",
         "0",
         "0",
         "1",
         "0",
         "0",
         "0",
         "0"
        ],
        [
         "15",
         "2023-12-01 00:00:00",
         "F00-F09 - Transtornos mentais orgânicos, inclusive os sintomáticos",
         "484",
         "96",
         "1",
         "0",
         "0",
         "41",
         "0",
         "0",
         "0",
         "0",
         "0",
         "0",
         "0",
         "0",
         "0",
         "0",
         "1"
        ],
        [
         "16",
         "2021-12-01 00:00:00",
         "F00-F09 - Transtornos mentais orgânicos, inclusive os sintomáticos",
         "347",
         "72",
         "1",
         "0",
         "0",
         "17",
         "0",
         "0",
         "0",
         "0",
         "0",
         "0",
         "0",
         "0",
         "0",
         "0",
         "1"
        ],
        [
         "17",
         "2024-03-01 00:00:00",
         "F00-F09 - Transtornos mentais orgânicos, inclusive os sintomáticos",
         "448",
         "99",
         "1",
         "0",
         "0",
         "44",
         "0",
         "1",
         "0",
         "0",
         "0",
         "0",
         "0",
         "0",
         "0",
         "0",
         "0"
        ],
        [
         "18",
         "2021-11-01 00:00:00",
         "F00-F09 - Transtornos mentais orgânicos, inclusive os sintomáticos",
         "308",
         "71",
         "1",
         "0",
         "0",
         "16",
         "0",
         "0",
         "0",
         "0",
         "0",
         "0",
         "0",
         "0",
         "0",
         "1",
         "0"
        ],
        [
         "19",
         "2023-07-01 00:00:00",
         "F00-F09 - Transtornos mentais orgânicos, inclusive os sintomáticos",
         "442",
         "91",
         "1",
         "0",
         "0",
         "36",
         "0",
         "0",
         "0",
         "0",
         "0",
         "1",
         "0",
         "0",
         "0",
         "0",
         "0"
        ],
        [
         "20",
         "2018-10-01 00:00:00",
         "F00-F09 - Transtornos mentais orgânicos, inclusive os sintomáticos",
         "286",
         "34",
         "0",
         "0",
         "0",
         "0",
         "0",
         "0",
         "0",
         "0",
         "0",
         "0",
         "0",
         "0",
         "1",
         "0",
         "0"
        ],
        [
         "21",
         "2024-04-01 00:00:00",
         "F00-F09 - Transtornos mentais orgânicos, inclusive os sintomáticos",
         "507",
         "100",
         "1",
         "0",
         "0",
         "45",
         "0",
         "0",
         "1",
         "0",
         "0",
         "0",
         "0",
         "0",
         "0",
         "0",
         "0"
        ],
        [
         "22",
         "2021-10-01 00:00:00",
         "F00-F09 - Transtornos mentais orgânicos, inclusive os sintomáticos",
         "356",
         "70",
         "1",
         "0",
         "0",
         "15",
         "0",
         "0",
         "0",
         "0",
         "0",
         "0",
         "0",
         "0",
         "1",
         "0",
         "0"
        ],
        [
         "23",
         "2018-11-01 00:00:00",
         "F00-F09 - Transtornos mentais orgânicos, inclusive os sintomáticos",
         "249",
         "35",
         "0",
         "0",
         "0",
         "0",
         "0",
         "0",
         "0",
         "0",
         "0",
         "0",
         "0",
         "0",
         "0",
         "1",
         "0"
        ],
        [
         "24",
         "2016-07-01 00:00:00",
         "F00-F09 - Transtornos mentais orgânicos, inclusive os sintomáticos",
         "271",
         "7",
         "0",
         "0",
         "0",
         "0",
         "0",
         "0",
         "0",
         "0",
         "0",
         "1",
         "0",
         "0",
         "0",
         "0",
         "0"
        ],
        [
         "25",
         "2021-09-01 00:00:00",
         "F00-F09 - Transtornos mentais orgânicos, inclusive os sintomáticos",
         "358",
         "69",
         "1",
         "0",
         "0",
         "14",
         "0",
         "0",
         "0",
         "0",
         "0",
         "0",
         "0",
         "1",
         "0",
         "0",
         "0"
        ],
        [
         "26",
         "2021-08-01 00:00:00",
         "F00-F09 - Transtornos mentais orgânicos, inclusive os sintomáticos",
         "350",
         "68",
         "1",
         "0",
         "0",
         "13",
         "0",
         "0",
         "0",
         "0",
         "0",
         "0",
         "1",
         "0",
         "0",
         "0",
         "0"
        ],
        [
         "27",
         "2024-05-01 00:00:00",
         "F00-F09 - Transtornos mentais orgânicos, inclusive os sintomáticos",
         "359",
         "101",
         "1",
         "0",
         "0",
         "46",
         "0",
         "0",
         "0",
         "1",
         "0",
         "0",
         "0",
         "0",
         "0",
         "0",
         "0"
        ],
        [
         "28",
         "2021-07-01 00:00:00",
         "F00-F09 - Transtornos mentais orgânicos, inclusive os sintomáticos",
         "376",
         "67",
         "1",
         "0",
         "0",
         "12",
         "0",
         "0",
         "0",
         "0",
         "0",
         "1",
         "0",
         "0",
         "0",
         "0",
         "0"
        ],
        [
         "29",
         "2018-12-01 00:00:00",
         "F00-F09 - Transtornos mentais orgânicos, inclusive os sintomáticos",
         "200",
         "36",
         "0",
         "0",
         "0",
         "0",
         "0",
         "0",
         "0",
         "0",
         "0",
         "0",
         "0",
         "0",
         "0",
         "0",
         "1"
        ],
        [
         "30",
         "2019-01-01 00:00:00",
         "F00-F09 - Transtornos mentais orgânicos, inclusive os sintomáticos",
         "267",
         "37",
         "0",
         "0",
         "0",
         "0",
         "0",
         "0",
         "0",
         "0",
         "0",
         "0",
         "0",
         "0",
         "0",
         "0",
         "0"
        ],
        [
         "31",
         "2016-08-01 00:00:00",
         "F00-F09 - Transtornos mentais orgânicos, inclusive os sintomáticos",
         "305",
         "8",
         "0",
         "0",
         "0",
         "0",
         "0",
         "0",
         "0",
         "0",
         "0",
         "0",
         "1",
         "0",
         "0",
         "0",
         "0"
        ],
        [
         "32",
         "2021-06-01 00:00:00",
         "F00-F09 - Transtornos mentais orgânicos, inclusive os sintomáticos",
         "332",
         "66",
         "1",
         "0",
         "0",
         "11",
         "0",
         "0",
         "0",
         "0",
         "1",
         "0",
         "0",
         "0",
         "0",
         "0",
         "0"
        ],
        [
         "33",
         "2022-05-01 00:00:00",
         "F00-F09 - Transtornos mentais orgânicos, inclusive os sintomáticos",
         "391",
         "77",
         "1",
         "0",
         "0",
         "22",
         "0",
         "0",
         "0",
         "1",
         "0",
         "0",
         "0",
         "0",
         "0",
         "0",
         "0"
        ],
        [
         "34",
         "2016-11-01 00:00:00",
         "F00-F09 - Transtornos mentais orgânicos, inclusive os sintomáticos",
         "175",
         "11",
         "0",
         "0",
         "0",
         "0",
         "0",
         "0",
         "0",
         "0",
         "0",
         "0",
         "0",
         "0",
         "0",
         "1",
         "0"
        ],
        [
         "35",
         "2023-06-01 00:00:00",
         "F00-F09 - Transtornos mentais orgânicos, inclusive os sintomáticos",
         "399",
         "90",
         "1",
         "0",
         "0",
         "35",
         "0",
         "0",
         "0",
         "0",
         "1",
         "0",
         "0",
         "0",
         "0",
         "0",
         "0"
        ],
        [
         "36",
         "2023-05-01 00:00:00",
         "F00-F09 - Transtornos mentais orgânicos, inclusive os sintomáticos",
         "468",
         "89",
         "1",
         "0",
         "0",
         "34",
         "0",
         "0",
         "0",
         "1",
         "0",
         "0",
         "0",
         "0",
         "0",
         "0",
         "0"
        ],
        [
         "37",
         "2017-05-01 00:00:00",
         "F00-F09 - Transtornos mentais orgânicos, inclusive os sintomáticos",
         "229",
         "17",
         "0",
         "0",
         "0",
         "0",
         "0",
         "0",
         "0",
         "1",
         "0",
         "0",
         "0",
         "0",
         "0",
         "0",
         "0"
        ],
        [
         "38",
         "2023-08-01 00:00:00",
         "F00-F09 - Transtornos mentais orgânicos, inclusive os sintomáticos",
         "493",
         "92",
         "1",
         "0",
         "0",
         "37",
         "0",
         "0",
         "0",
         "0",
         "0",
         "0",
         "1",
         "0",
         "0",
         "0",
         "0"
        ],
        [
         "39",
         "2023-04-01 00:00:00",
         "F00-F09 - Transtornos mentais orgânicos, inclusive os sintomáticos",
         "368",
         "88",
         "1",
         "0",
         "0",
         "33",
         "0",
         "0",
         "1",
         "0",
         "0",
         "0",
         "0",
         "0",
         "0",
         "0",
         "0"
        ],
        [
         "40",
         "2017-03-01 00:00:00",
         "F00-F09 - Transtornos mentais orgânicos, inclusive os sintomáticos",
         "262",
         "15",
         "0",
         "0",
         "0",
         "0",
         "0",
         "1",
         "0",
         "0",
         "0",
         "0",
         "0",
         "0",
         "0",
         "0",
         "0"
        ],
        [
         "41",
         "2017-06-01 00:00:00",
         "F00-F09 - Transtornos mentais orgânicos, inclusive os sintomáticos",
         "254",
         "18",
         "0",
         "0",
         "0",
         "0",
         "0",
         "0",
         "0",
         "0",
         "1",
         "0",
         "0",
         "0",
         "0",
         "0",
         "0"
        ],
        [
         "42",
         "2017-02-01 00:00:00",
         "F00-F09 - Transtornos mentais orgânicos, inclusive os sintomáticos",
         "165",
         "14",
         "0",
         "0",
         "0",
         "0",
         "1",
         "0",
         "0",
         "0",
         "0",
         "0",
         "0",
         "0",
         "0",
         "0",
         "0"
        ],
        [
         "43",
         "2023-03-01 00:00:00",
         "F00-F09 - Transtornos mentais orgânicos, inclusive os sintomáticos",
         "428",
         "87",
         "1",
         "0",
         "0",
         "32",
         "0",
         "1",
         "0",
         "0",
         "0",
         "0",
         "0",
         "0",
         "0",
         "0",
         "0"
        ],
        [
         "44",
         "2017-07-01 00:00:00",
         "F00-F09 - Transtornos mentais orgânicos, inclusive os sintomáticos",
         "189",
         "19",
         "0",
         "0",
         "0",
         "0",
         "0",
         "0",
         "0",
         "0",
         "0",
         "1",
         "0",
         "0",
         "0",
         "0",
         "0"
        ],
        [
         "45",
         "2023-09-01 00:00:00",
         "F00-F09 - Transtornos mentais orgânicos, inclusive os sintomáticos",
         "399",
         "93",
         "1",
         "0",
         "0",
         "38",
         "0",
         "0",
         "0",
         "0",
         "0",
         "0",
         "0",
         "1",
         "0",
         "0",
         "0"
        ],
        [
         "46",
         "2023-02-01 00:00:00",
         "F00-F09 - Transtornos mentais orgânicos, inclusive os sintomáticos",
         "362",
         "86",
         "1",
         "0",
         "0",
         "31",
         "1",
         "0",
         "0",
         "0",
         "0",
         "0",
         "0",
         "0",
         "0",
         "0",
         "0"
        ],
        [
         "47",
         "2023-01-01 00:00:00",
         "F00-F09 - Transtornos mentais orgânicos, inclusive os sintomáticos",
         "422",
         "85",
         "1",
         "0",
         "0",
         "30",
         "0",
         "0",
         "0",
         "0",
         "0",
         "0",
         "0",
         "0",
         "0",
         "0",
         "0"
        ],
        [
         "48",
         "2017-08-01 00:00:00",
         "F00-F09 - Transtornos mentais orgânicos, inclusive os sintomáticos",
         "193",
         "20",
         "0",
         "0",
         "0",
         "0",
         "0",
         "0",
         "0",
         "0",
         "0",
         "0",
         "1",
         "0",
         "0",
         "0",
         "0"
        ],
        [
         "49",
         "2022-06-01 00:00:00",
         "F00-F09 - Transtornos mentais orgânicos, inclusive os sintomáticos",
         "368",
         "78",
         "1",
         "0",
         "0",
         "23",
         "0",
         "0",
         "0",
         "0",
         "1",
         "0",
         "0",
         "0",
         "0",
         "0",
         "0"
        ]
       ],
       "shape": {
        "columns": 19,
        "rows": 1296
       }
      },
      "text/html": [
       "<div>\n",
       "<style scoped>\n",
       "    .dataframe tbody tr th:only-of-type {\n",
       "        vertical-align: middle;\n",
       "    }\n",
       "\n",
       "    .dataframe tbody tr th {\n",
       "        vertical-align: top;\n",
       "    }\n",
       "\n",
       "    .dataframe thead th {\n",
       "        text-align: right;\n",
       "    }\n",
       "</style>\n",
       "<table border=\"1\" class=\"dataframe\">\n",
       "  <thead>\n",
       "    <tr style=\"text-align: right;\">\n",
       "      <th></th>\n",
       "      <th>date</th>\n",
       "      <th>variavel</th>\n",
       "      <th>valores</th>\n",
       "      <th>periodo</th>\n",
       "      <th>Step_PosPandemia</th>\n",
       "      <th>Choque_Inicial</th>\n",
       "      <th>Lockdown_2021</th>\n",
       "      <th>Trend_PosPandemia</th>\n",
       "      <th>month_2</th>\n",
       "      <th>month_3</th>\n",
       "      <th>month_4</th>\n",
       "      <th>month_5</th>\n",
       "      <th>month_6</th>\n",
       "      <th>month_7</th>\n",
       "      <th>month_8</th>\n",
       "      <th>month_9</th>\n",
       "      <th>month_10</th>\n",
       "      <th>month_11</th>\n",
       "      <th>month_12</th>\n",
       "    </tr>\n",
       "  </thead>\n",
       "  <tbody>\n",
       "    <tr>\n",
       "      <th>0</th>\n",
       "      <td>2016-01-01</td>\n",
       "      <td>F00-F09 - Transtornos mentais orgânicos, inclu...</td>\n",
       "      <td>109</td>\n",
       "      <td>1</td>\n",
       "      <td>0</td>\n",
       "      <td>0</td>\n",
       "      <td>0</td>\n",
       "      <td>0</td>\n",
       "      <td>0</td>\n",
       "      <td>0</td>\n",
       "      <td>0</td>\n",
       "      <td>0</td>\n",
       "      <td>0</td>\n",
       "      <td>0</td>\n",
       "      <td>0</td>\n",
       "      <td>0</td>\n",
       "      <td>0</td>\n",
       "      <td>0</td>\n",
       "      <td>0</td>\n",
       "    </tr>\n",
       "    <tr>\n",
       "      <th>1</th>\n",
       "      <td>2018-03-01</td>\n",
       "      <td>F00-F09 - Transtornos mentais orgânicos, inclu...</td>\n",
       "      <td>242</td>\n",
       "      <td>27</td>\n",
       "      <td>0</td>\n",
       "      <td>0</td>\n",
       "      <td>0</td>\n",
       "      <td>0</td>\n",
       "      <td>0</td>\n",
       "      <td>1</td>\n",
       "      <td>0</td>\n",
       "      <td>0</td>\n",
       "      <td>0</td>\n",
       "      <td>0</td>\n",
       "      <td>0</td>\n",
       "      <td>0</td>\n",
       "      <td>0</td>\n",
       "      <td>0</td>\n",
       "      <td>0</td>\n",
       "    </tr>\n",
       "    <tr>\n",
       "      <th>2</th>\n",
       "      <td>2018-04-01</td>\n",
       "      <td>F00-F09 - Transtornos mentais orgânicos, inclu...</td>\n",
       "      <td>223</td>\n",
       "      <td>28</td>\n",
       "      <td>0</td>\n",
       "      <td>0</td>\n",
       "      <td>0</td>\n",
       "      <td>0</td>\n",
       "      <td>0</td>\n",
       "      <td>0</td>\n",
       "      <td>1</td>\n",
       "      <td>0</td>\n",
       "      <td>0</td>\n",
       "      <td>0</td>\n",
       "      <td>0</td>\n",
       "      <td>0</td>\n",
       "      <td>0</td>\n",
       "      <td>0</td>\n",
       "      <td>0</td>\n",
       "    </tr>\n",
       "    <tr>\n",
       "      <th>3</th>\n",
       "      <td>2022-04-01</td>\n",
       "      <td>F00-F09 - Transtornos mentais orgânicos, inclu...</td>\n",
       "      <td>294</td>\n",
       "      <td>76</td>\n",
       "      <td>1</td>\n",
       "      <td>0</td>\n",
       "      <td>0</td>\n",
       "      <td>21</td>\n",
       "      <td>0</td>\n",
       "      <td>0</td>\n",
       "      <td>1</td>\n",
       "      <td>0</td>\n",
       "      <td>0</td>\n",
       "      <td>0</td>\n",
       "      <td>0</td>\n",
       "      <td>0</td>\n",
       "      <td>0</td>\n",
       "      <td>0</td>\n",
       "      <td>0</td>\n",
       "    </tr>\n",
       "    <tr>\n",
       "      <th>4</th>\n",
       "      <td>2024-01-01</td>\n",
       "      <td>F00-F09 - Transtornos mentais orgânicos, inclu...</td>\n",
       "      <td>451</td>\n",
       "      <td>97</td>\n",
       "      <td>1</td>\n",
       "      <td>0</td>\n",
       "      <td>0</td>\n",
       "      <td>42</td>\n",
       "      <td>0</td>\n",
       "      <td>0</td>\n",
       "      <td>0</td>\n",
       "      <td>0</td>\n",
       "      <td>0</td>\n",
       "      <td>0</td>\n",
       "      <td>0</td>\n",
       "      <td>0</td>\n",
       "      <td>0</td>\n",
       "      <td>0</td>\n",
       "      <td>0</td>\n",
       "    </tr>\n",
       "    <tr>\n",
       "      <th>...</th>\n",
       "      <td>...</td>\n",
       "      <td>...</td>\n",
       "      <td>...</td>\n",
       "      <td>...</td>\n",
       "      <td>...</td>\n",
       "      <td>...</td>\n",
       "      <td>...</td>\n",
       "      <td>...</td>\n",
       "      <td>...</td>\n",
       "      <td>...</td>\n",
       "      <td>...</td>\n",
       "      <td>...</td>\n",
       "      <td>...</td>\n",
       "      <td>...</td>\n",
       "      <td>...</td>\n",
       "      <td>...</td>\n",
       "      <td>...</td>\n",
       "      <td>...</td>\n",
       "      <td>...</td>\n",
       "    </tr>\n",
       "    <tr>\n",
       "      <th>1291</th>\n",
       "      <td>2017-08-01</td>\n",
       "      <td>__Atendimentos na APS (exceto saúde mental)</td>\n",
       "      <td>122593</td>\n",
       "      <td>20</td>\n",
       "      <td>0</td>\n",
       "      <td>0</td>\n",
       "      <td>0</td>\n",
       "      <td>0</td>\n",
       "      <td>0</td>\n",
       "      <td>0</td>\n",
       "      <td>0</td>\n",
       "      <td>0</td>\n",
       "      <td>0</td>\n",
       "      <td>0</td>\n",
       "      <td>1</td>\n",
       "      <td>0</td>\n",
       "      <td>0</td>\n",
       "      <td>0</td>\n",
       "      <td>0</td>\n",
       "    </tr>\n",
       "    <tr>\n",
       "      <th>1292</th>\n",
       "      <td>2023-02-01</td>\n",
       "      <td>__Atendimentos na APS (exceto saúde mental)</td>\n",
       "      <td>180244</td>\n",
       "      <td>86</td>\n",
       "      <td>1</td>\n",
       "      <td>0</td>\n",
       "      <td>0</td>\n",
       "      <td>31</td>\n",
       "      <td>1</td>\n",
       "      <td>0</td>\n",
       "      <td>0</td>\n",
       "      <td>0</td>\n",
       "      <td>0</td>\n",
       "      <td>0</td>\n",
       "      <td>0</td>\n",
       "      <td>0</td>\n",
       "      <td>0</td>\n",
       "      <td>0</td>\n",
       "      <td>0</td>\n",
       "    </tr>\n",
       "    <tr>\n",
       "      <th>1293</th>\n",
       "      <td>2017-07-01</td>\n",
       "      <td>__Atendimentos na APS (exceto saúde mental)</td>\n",
       "      <td>114118</td>\n",
       "      <td>19</td>\n",
       "      <td>0</td>\n",
       "      <td>0</td>\n",
       "      <td>0</td>\n",
       "      <td>0</td>\n",
       "      <td>0</td>\n",
       "      <td>0</td>\n",
       "      <td>0</td>\n",
       "      <td>0</td>\n",
       "      <td>0</td>\n",
       "      <td>1</td>\n",
       "      <td>0</td>\n",
       "      <td>0</td>\n",
       "      <td>0</td>\n",
       "      <td>0</td>\n",
       "      <td>0</td>\n",
       "    </tr>\n",
       "    <tr>\n",
       "      <th>1294</th>\n",
       "      <td>2022-10-01</td>\n",
       "      <td>__Atendimentos na APS (exceto saúde mental)</td>\n",
       "      <td>224278</td>\n",
       "      <td>82</td>\n",
       "      <td>1</td>\n",
       "      <td>0</td>\n",
       "      <td>0</td>\n",
       "      <td>27</td>\n",
       "      <td>0</td>\n",
       "      <td>0</td>\n",
       "      <td>0</td>\n",
       "      <td>0</td>\n",
       "      <td>0</td>\n",
       "      <td>0</td>\n",
       "      <td>0</td>\n",
       "      <td>0</td>\n",
       "      <td>1</td>\n",
       "      <td>0</td>\n",
       "      <td>0</td>\n",
       "    </tr>\n",
       "    <tr>\n",
       "      <th>1295</th>\n",
       "      <td>2024-12-01</td>\n",
       "      <td>__Atendimentos na APS (exceto saúde mental)</td>\n",
       "      <td>220687</td>\n",
       "      <td>108</td>\n",
       "      <td>1</td>\n",
       "      <td>0</td>\n",
       "      <td>0</td>\n",
       "      <td>53</td>\n",
       "      <td>0</td>\n",
       "      <td>0</td>\n",
       "      <td>0</td>\n",
       "      <td>0</td>\n",
       "      <td>0</td>\n",
       "      <td>0</td>\n",
       "      <td>0</td>\n",
       "      <td>0</td>\n",
       "      <td>0</td>\n",
       "      <td>0</td>\n",
       "      <td>1</td>\n",
       "    </tr>\n",
       "  </tbody>\n",
       "</table>\n",
       "<p>1296 rows × 19 columns</p>\n",
       "</div>"
      ],
      "text/plain": [
       "           date                                           variavel  valores  \\\n",
       "0    2016-01-01  F00-F09 - Transtornos mentais orgânicos, inclu...      109   \n",
       "1    2018-03-01  F00-F09 - Transtornos mentais orgânicos, inclu...      242   \n",
       "2    2018-04-01  F00-F09 - Transtornos mentais orgânicos, inclu...      223   \n",
       "3    2022-04-01  F00-F09 - Transtornos mentais orgânicos, inclu...      294   \n",
       "4    2024-01-01  F00-F09 - Transtornos mentais orgânicos, inclu...      451   \n",
       "...         ...                                                ...      ...   \n",
       "1291 2017-08-01        __Atendimentos na APS (exceto saúde mental)   122593   \n",
       "1292 2023-02-01        __Atendimentos na APS (exceto saúde mental)   180244   \n",
       "1293 2017-07-01        __Atendimentos na APS (exceto saúde mental)   114118   \n",
       "1294 2022-10-01        __Atendimentos na APS (exceto saúde mental)   224278   \n",
       "1295 2024-12-01        __Atendimentos na APS (exceto saúde mental)   220687   \n",
       "\n",
       "      periodo  Step_PosPandemia  Choque_Inicial  Lockdown_2021  \\\n",
       "0           1                 0               0              0   \n",
       "1          27                 0               0              0   \n",
       "2          28                 0               0              0   \n",
       "3          76                 1               0              0   \n",
       "4          97                 1               0              0   \n",
       "...       ...               ...             ...            ...   \n",
       "1291       20                 0               0              0   \n",
       "1292       86                 1               0              0   \n",
       "1293       19                 0               0              0   \n",
       "1294       82                 1               0              0   \n",
       "1295      108                 1               0              0   \n",
       "\n",
       "      Trend_PosPandemia  month_2  month_3  month_4  month_5  month_6  month_7  \\\n",
       "0                     0        0        0        0        0        0        0   \n",
       "1                     0        0        1        0        0        0        0   \n",
       "2                     0        0        0        1        0        0        0   \n",
       "3                    21        0        0        1        0        0        0   \n",
       "4                    42        0        0        0        0        0        0   \n",
       "...                 ...      ...      ...      ...      ...      ...      ...   \n",
       "1291                  0        0        0        0        0        0        0   \n",
       "1292                 31        1        0        0        0        0        0   \n",
       "1293                  0        0        0        0        0        0        1   \n",
       "1294                 27        0        0        0        0        0        0   \n",
       "1295                 53        0        0        0        0        0        0   \n",
       "\n",
       "      month_8  month_9  month_10  month_11  month_12  \n",
       "0           0        0         0         0         0  \n",
       "1           0        0         0         0         0  \n",
       "2           0        0         0         0         0  \n",
       "3           0        0         0         0         0  \n",
       "4           0        0         0         0         0  \n",
       "...       ...      ...       ...       ...       ...  \n",
       "1291        1        0         0         0         0  \n",
       "1292        0        0         0         0         0  \n",
       "1293        0        0         0         0         0  \n",
       "1294        0        0         1         0         0  \n",
       "1295        0        0         0         0         1  \n",
       "\n",
       "[1296 rows x 19 columns]"
      ]
     },
     "execution_count": 298,
     "metadata": {},
     "output_type": "execute_result"
    }
   ],
   "source": [
    "main_regrdf = RegressionDF\n",
    "main_regrdf[VARIABLE_COLUMN_NAME]\n",
    "main_regrdf"
   ]
  },
  {
   "cell_type": "code",
   "execution_count": null,
   "metadata": {},
   "outputs": [
    {
     "name": "stdout",
     "output_type": "stream",
     "text": [
      "                                                    F-statistic   p-value\n",
      "F00-F09 - Transtornos mentais orgânicos, inclus...    51.122786  0.000000\n",
      "F20-F29 - Esquizofrenia, transtornos esquizotíp...   111.216436  0.000000\n",
      "F30-F39 - Transtornos do humor [afetivos]             69.039246  0.000000\n",
      "F40-F48 - Transtornos neuróticos, transtornos r...    84.810738  0.000000\n",
      "F50-F59 - Síndromes comportamentais associadas ...     8.291017  0.000456\n",
      "F60-F69 - Transtornos da personalidade e do com...     9.679091  0.000140\n",
      "F70-F79 - Retardo mental                              70.336844  0.000000\n",
      "F80-F89 - Transtornos do desenvolvimento psicol...   128.272485  0.000000\n",
      "F90-F98 - Transtornos do comportamento e transt...    60.021728  0.000000\n",
      "F99-F99 - Transtorno mental não especificado          71.515596  0.000000\n",
      "_Grand Total                                          89.300706  0.000000\n",
      "__Atendimentos na APS (exceto saúde mental)           15.201854  0.000002\n"
     ]
    }
   ],
   "source": [
    "from statsmodels.api import OLS\n",
    "from statsmodels.tools.tools import add_constant\n",
    "import pandas as pd\n",
    "from scipy.stats import f\n",
    "\n",
    "def chow_test(data, split_point, dependent_var, independent_vars):\n",
    "    \"\"\"\n",
    "    Realiza o teste de Chow para verificar mudanças estruturais em um modelo de regressão.\n",
    "\n",
    "    Args:\n",
    "        data (pd.DataFrame): DataFrame contendo os dados.\n",
    "        split_point (int): Ponto de divisão para o teste de Chow.\n",
    "        dependent_var (str): Nome da variável dependente.\n",
    "        independent_vars (list): Lista de nomes das variáveis independentes.\n",
    "\n",
    "    Returns:\n",
    "        dict: Resultados do teste de Chow contendo os valores F e p.\n",
    "    \"\"\"\n",
    "    # Dividir os dados em dois subconjuntos\n",
    "    data1 = data[data['periodo'] <= split_point]\n",
    "    data2 = data[data['periodo'] > split_point]\n",
    "\n",
    "    # Ajustar os modelos para cada subconjunto\n",
    "    X1 = add_constant(data1[independent_vars])\n",
    "    y1 = data1[dependent_var]\n",
    "    model1 = OLS(y1, X1).fit()\n",
    "\n",
    "    X2 = add_constant(data2[independent_vars])\n",
    "    y2 = data2[dependent_var]\n",
    "    model2 = OLS(y2, X2).fit()\n",
    "\n",
    "    # Ajustar o modelo para o conjunto completo\n",
    "    X_full = add_constant(data[independent_vars])\n",
    "    y_full = data[dependent_var]\n",
    "    model_full = OLS(y_full, X_full).fit()\n",
    "\n",
    "    # Calcular os graus de liberdade\n",
    "    k = len(independent_vars) + 1  # Número de parâmetros (incluindo o intercepto)\n",
    "    n1 = len(data1)\n",
    "    n2 = len(data2)\n",
    "    n = n1 + n2\n",
    "\n",
    "    # Calcular a soma dos quadrados dos resíduos\n",
    "    RSS1 = model1.ssr\n",
    "    RSS2 = model2.ssr\n",
    "    RSS_full = model_full.ssr\n",
    "\n",
    "    # Calcular o valor F\n",
    "    F = ((RSS_full - (RSS1 + RSS2)) / k) / ((RSS1 + RSS2) / (n - 2 * k))\n",
    "\n",
    "    # Calcular o p-valor\n",
    "    p_value = 1 - f.cdf(F, k, n - 2 * k)\n",
    "\n",
    "    return {\"F-statistic\": F, \"p-value\": p_value}\n",
    "\n",
    "\n",
    "#####TODO: GOTTA REVIEW THIS\n",
    "# Iterar pelas variáveis no main_regrdf\n",
    "if ARGS['DoChowTest']:\n",
    "    chow_results = {}\n",
    "    split_point = find_idx_from_date(POS_PANDEMIA_START_DATE)  # Exemplo: ponto de divisão para o teste de Chow\n",
    "    dependent_var = DEPENDENT_VAR\n",
    "    independent_vars = [INDEPENDENT_VAR] #+ [key for key in DUMMY_ARGS.keys()]\n",
    "\n",
    "    for variable in main_regrdf[VARIABLE_COLUMN_NAME].unique():\n",
    "        variable_data = main_regrdf[main_regrdf[VARIABLE_COLUMN_NAME] == variable]\n",
    "        result = chow_test(variable_data, split_point, dependent_var, independent_vars)\n",
    "        chow_results[variable] = result\n",
    "\n",
    "    # Converter os resultados em um DataFrame para visualização\n",
    "    chow_results_df = pd.DataFrame(chow_results).T\n",
    "    chow_results_df.columns = [\"F-statistic\", \"p-value\"]\n",
    "    chow_results_df['p-value'] = chow_results_df['p-value'].round(8)\n",
    "    print(chow_results_df)"
   ]
  },
  {
   "cell_type": "code",
   "execution_count": 300,
   "metadata": {},
   "outputs": [
    {
     "name": "stdout",
     "output_type": "stream",
     "text": [
      "[  1.          51.47045412 108.        ]\n",
      "2016-01-01 00:00:00\n",
      "2020-03-01 00:00:00\n",
      "2024-12-01 00:00:00\n"
     ]
    }
   ],
   "source": [
    "### TODO: make the knots per variable\n",
    "### TODO: remove the bumps/step_dummies before testing\n",
    "\n",
    "model = pwlf.PiecewiseLinFit(main_regrdf[INDEPENDENT_VAR].values,main_regrdf[DEPENDENT_VAR].values)\n",
    "knots = model.fit(2)\n",
    "print(knots)\n",
    "for knot in knots:\n",
    "    print(find_date_from_idx(np.round(knot), PERIOD_DATE_MAP))"
   ]
  },
  {
   "cell_type": "code",
   "execution_count": null,
   "metadata": {},
   "outputs": [
    {
     "data": {
      "application/vnd.microsoft.datawrangler.viewer.v0+json": {
       "columns": [
        {
         "name": "index",
         "rawType": "object",
         "type": "string"
        },
        {
         "name": "Heteroscedasticity (Breusch-Pagan)",
         "rawType": "float64",
         "type": "float"
        },
        {
         "name": "Normality (Shapiro-Wilk)",
         "rawType": "float64",
         "type": "float"
        },
        {
         "name": "Normality (Jarque-Bera)",
         "rawType": "float64",
         "type": "float"
        },
        {
         "name": "Normality (D'Agostino)",
         "rawType": "float64",
         "type": "float"
        },
        {
         "name": "Autocorrelation (Durbin-Watson)",
         "rawType": "float64",
         "type": "float"
        },
        {
         "name": "Autocorrelation (Ljung-Box)",
         "rawType": "float64",
         "type": "float"
        }
       ],
       "conversionMethod": "pd.DataFrame",
       "ref": "96e53a5f-3164-4453-81ba-c50704e70b1e",
       "rows": [
        [
         "F00-F09 - Transtornos mentais orgânicos, inclusive os sintomáticos",
         "0.1474274988261056",
         "0.032837048717068426",
         "0.0037149962209819527",
         "0.017456592327958584",
         "0.7583337024880115",
         "2.1322501815217662e-36"
        ],
        [
         "F20-F29 - Esquizofrenia, transtornos esquizotípicos e transtornos delirantes",
         "0.011537465395152895",
         "0.6380543386631559",
         "0.8718033232663412",
         "0.7248577764797495",
         "0.3546724734353149",
         "3.23825407420882e-92"
        ],
        [
         "F30-F39 - Transtornos do humor [afetivos]",
         "0.3203746303038389",
         "0.9372998687551384",
         "0.7164580118472441",
         "0.5634862319003964",
         "0.4220676810979262",
         "1.791495239642463e-64"
        ],
        [
         "F40-F48 - Transtornos neuróticos, transtornos relacionados com o \"stress\" e transtornos somatoformes",
         "0.048686138213780886",
         "0.36142258463766685",
         "0.22918134628116169",
         "0.1889178102812865",
         "0.5255093663515746",
         "1.6004486084137745e-72"
        ],
        [
         "F50-F59 - Síndromes comportamentais associadas a disfunções fisiológicas e a fatores físicos",
         "0.9329174343760455",
         "0.06984654449980263",
         "0.004147642967728927",
         "0.006234203591249034",
         "1.1846987235901452",
         "1.0495083520172295e-05"
        ],
        [
         "F60-F69 - Transtornos da personalidade e do comportamento do adulto",
         "0.034999689257847494",
         "0.0034237963684788444",
         "0.019395439400111854",
         "0.01624441760771591",
         "1.045592955308477",
         "1.7794675643472588e-07"
        ],
        [
         "F70-F79 - Retardo mental",
         "0.014253983561129453",
         "0.5529572629799806",
         "0.6662058070607202",
         "0.6693367186198604",
         "0.4932654785342486",
         "2.569555978739996e-69"
        ],
        [
         "F80-F89 - Transtornos do desenvolvimento psicológico",
         "1.6531577531987933e-05",
         "0.22413501005840242",
         "0.3713773203185001",
         "0.3017817535844179",
         "0.42755619222352603",
         "1.7602897813596515e-86"
        ],
        [
         "F90-F98 - Transtornos do comportamento e transtornos emocionais que aparecem habitualmente durante a infância ou a adolescência",
         "0.00047732628712926115",
         "0.20712103984911934",
         "0.07153962317526792",
         "0.07390850826365247",
         "0.5068931520278331",
         "1.2105288445561651e-45"
        ],
        [
         "F99-F99 - Transtorno mental não especificado",
         "0.005847482822488998",
         "2.1787676596876013e-06",
         "1.5131486905964842e-06",
         "2.3132166123909853e-05",
         "0.41790984095219286",
         "2.3630091038827045e-62"
        ],
        [
         "_Grand Total",
         "0.03802717909833086",
         "0.8744157519731339",
         "0.5491811384473704",
         "0.4318564967031028",
         "0.45448612322930104",
         "9.372198801821908e-74"
        ],
        [
         "__Atendimentos na APS (exceto saúde mental)",
         "0.31082964765951193",
         "8.302605539685276e-05",
         "8.488991229460839e-13",
         "4.765796232690223e-07",
         "1.0988800738077122",
         "3.5130558619536454e-14"
        ]
       ],
       "shape": {
        "columns": 6,
        "rows": 12
       }
      },
      "text/html": [
       "<div>\n",
       "<style scoped>\n",
       "    .dataframe tbody tr th:only-of-type {\n",
       "        vertical-align: middle;\n",
       "    }\n",
       "\n",
       "    .dataframe tbody tr th {\n",
       "        vertical-align: top;\n",
       "    }\n",
       "\n",
       "    .dataframe thead th {\n",
       "        text-align: right;\n",
       "    }\n",
       "</style>\n",
       "<table border=\"1\" class=\"dataframe\">\n",
       "  <thead>\n",
       "    <tr style=\"text-align: right;\">\n",
       "      <th></th>\n",
       "      <th>Heteroscedasticity (Breusch-Pagan)</th>\n",
       "      <th>Normality (Shapiro-Wilk)</th>\n",
       "      <th>Normality (Jarque-Bera)</th>\n",
       "      <th>Normality (D'Agostino)</th>\n",
       "      <th>Autocorrelation (Durbin-Watson)</th>\n",
       "      <th>Autocorrelation (Ljung-Box)</th>\n",
       "    </tr>\n",
       "  </thead>\n",
       "  <tbody>\n",
       "    <tr>\n",
       "      <th>F00-F09 - Transtornos mentais orgânicos, inclusive os sintomáticos</th>\n",
       "      <td>0.147427</td>\n",
       "      <td>0.032837</td>\n",
       "      <td>3.714996e-03</td>\n",
       "      <td>1.745659e-02</td>\n",
       "      <td>0.758334</td>\n",
       "      <td>2.132250e-36</td>\n",
       "    </tr>\n",
       "    <tr>\n",
       "      <th>F20-F29 - Esquizofrenia, transtornos esquizotípicos e transtornos delirantes</th>\n",
       "      <td>0.011537</td>\n",
       "      <td>0.638054</td>\n",
       "      <td>8.718033e-01</td>\n",
       "      <td>7.248578e-01</td>\n",
       "      <td>0.354672</td>\n",
       "      <td>3.238254e-92</td>\n",
       "    </tr>\n",
       "    <tr>\n",
       "      <th>F30-F39 - Transtornos do humor [afetivos]</th>\n",
       "      <td>0.320375</td>\n",
       "      <td>0.937300</td>\n",
       "      <td>7.164580e-01</td>\n",
       "      <td>5.634862e-01</td>\n",
       "      <td>0.422068</td>\n",
       "      <td>1.791495e-64</td>\n",
       "    </tr>\n",
       "    <tr>\n",
       "      <th>F40-F48 - Transtornos neuróticos, transtornos relacionados com o \"stress\" e transtornos somatoformes</th>\n",
       "      <td>0.048686</td>\n",
       "      <td>0.361423</td>\n",
       "      <td>2.291813e-01</td>\n",
       "      <td>1.889178e-01</td>\n",
       "      <td>0.525509</td>\n",
       "      <td>1.600449e-72</td>\n",
       "    </tr>\n",
       "    <tr>\n",
       "      <th>F50-F59 - Síndromes comportamentais associadas a disfunções fisiológicas e a fatores físicos</th>\n",
       "      <td>0.932917</td>\n",
       "      <td>0.069847</td>\n",
       "      <td>4.147643e-03</td>\n",
       "      <td>6.234204e-03</td>\n",
       "      <td>1.184699</td>\n",
       "      <td>1.049508e-05</td>\n",
       "    </tr>\n",
       "    <tr>\n",
       "      <th>F60-F69 - Transtornos da personalidade e do comportamento do adulto</th>\n",
       "      <td>0.035000</td>\n",
       "      <td>0.003424</td>\n",
       "      <td>1.939544e-02</td>\n",
       "      <td>1.624442e-02</td>\n",
       "      <td>1.045593</td>\n",
       "      <td>1.779468e-07</td>\n",
       "    </tr>\n",
       "    <tr>\n",
       "      <th>F70-F79 - Retardo mental</th>\n",
       "      <td>0.014254</td>\n",
       "      <td>0.552957</td>\n",
       "      <td>6.662058e-01</td>\n",
       "      <td>6.693367e-01</td>\n",
       "      <td>0.493265</td>\n",
       "      <td>2.569556e-69</td>\n",
       "    </tr>\n",
       "    <tr>\n",
       "      <th>F80-F89 - Transtornos do desenvolvimento psicológico</th>\n",
       "      <td>0.000017</td>\n",
       "      <td>0.224135</td>\n",
       "      <td>3.713773e-01</td>\n",
       "      <td>3.017818e-01</td>\n",
       "      <td>0.427556</td>\n",
       "      <td>1.760290e-86</td>\n",
       "    </tr>\n",
       "    <tr>\n",
       "      <th>F90-F98 - Transtornos do comportamento e transtornos emocionais que aparecem habitualmente durante a infância ou a adolescência</th>\n",
       "      <td>0.000477</td>\n",
       "      <td>0.207121</td>\n",
       "      <td>7.153962e-02</td>\n",
       "      <td>7.390851e-02</td>\n",
       "      <td>0.506893</td>\n",
       "      <td>1.210529e-45</td>\n",
       "    </tr>\n",
       "    <tr>\n",
       "      <th>F99-F99 - Transtorno mental não especificado</th>\n",
       "      <td>0.005847</td>\n",
       "      <td>0.000002</td>\n",
       "      <td>1.513149e-06</td>\n",
       "      <td>2.313217e-05</td>\n",
       "      <td>0.417910</td>\n",
       "      <td>2.363009e-62</td>\n",
       "    </tr>\n",
       "    <tr>\n",
       "      <th>_Grand Total</th>\n",
       "      <td>0.038027</td>\n",
       "      <td>0.874416</td>\n",
       "      <td>5.491811e-01</td>\n",
       "      <td>4.318565e-01</td>\n",
       "      <td>0.454486</td>\n",
       "      <td>9.372199e-74</td>\n",
       "    </tr>\n",
       "    <tr>\n",
       "      <th>__Atendimentos na APS (exceto saúde mental)</th>\n",
       "      <td>0.310830</td>\n",
       "      <td>0.000083</td>\n",
       "      <td>8.488991e-13</td>\n",
       "      <td>4.765796e-07</td>\n",
       "      <td>1.098880</td>\n",
       "      <td>3.513056e-14</td>\n",
       "    </tr>\n",
       "  </tbody>\n",
       "</table>\n",
       "</div>"
      ],
      "text/plain": [
       "                                                    Heteroscedasticity (Breusch-Pagan)  \\\n",
       "F00-F09 - Transtornos mentais orgânicos, inclus...                            0.147427   \n",
       "F20-F29 - Esquizofrenia, transtornos esquizotíp...                            0.011537   \n",
       "F30-F39 - Transtornos do humor [afetivos]                                     0.320375   \n",
       "F40-F48 - Transtornos neuróticos, transtornos r...                            0.048686   \n",
       "F50-F59 - Síndromes comportamentais associadas ...                            0.932917   \n",
       "F60-F69 - Transtornos da personalidade e do com...                            0.035000   \n",
       "F70-F79 - Retardo mental                                                      0.014254   \n",
       "F80-F89 - Transtornos do desenvolvimento psicol...                            0.000017   \n",
       "F90-F98 - Transtornos do comportamento e transt...                            0.000477   \n",
       "F99-F99 - Transtorno mental não especificado                                  0.005847   \n",
       "_Grand Total                                                                  0.038027   \n",
       "__Atendimentos na APS (exceto saúde mental)                                   0.310830   \n",
       "\n",
       "                                                    Normality (Shapiro-Wilk)  \\\n",
       "F00-F09 - Transtornos mentais orgânicos, inclus...                  0.032837   \n",
       "F20-F29 - Esquizofrenia, transtornos esquizotíp...                  0.638054   \n",
       "F30-F39 - Transtornos do humor [afetivos]                           0.937300   \n",
       "F40-F48 - Transtornos neuróticos, transtornos r...                  0.361423   \n",
       "F50-F59 - Síndromes comportamentais associadas ...                  0.069847   \n",
       "F60-F69 - Transtornos da personalidade e do com...                  0.003424   \n",
       "F70-F79 - Retardo mental                                            0.552957   \n",
       "F80-F89 - Transtornos do desenvolvimento psicol...                  0.224135   \n",
       "F90-F98 - Transtornos do comportamento e transt...                  0.207121   \n",
       "F99-F99 - Transtorno mental não especificado                        0.000002   \n",
       "_Grand Total                                                        0.874416   \n",
       "__Atendimentos na APS (exceto saúde mental)                         0.000083   \n",
       "\n",
       "                                                    Normality (Jarque-Bera)  \\\n",
       "F00-F09 - Transtornos mentais orgânicos, inclus...             3.714996e-03   \n",
       "F20-F29 - Esquizofrenia, transtornos esquizotíp...             8.718033e-01   \n",
       "F30-F39 - Transtornos do humor [afetivos]                      7.164580e-01   \n",
       "F40-F48 - Transtornos neuróticos, transtornos r...             2.291813e-01   \n",
       "F50-F59 - Síndromes comportamentais associadas ...             4.147643e-03   \n",
       "F60-F69 - Transtornos da personalidade e do com...             1.939544e-02   \n",
       "F70-F79 - Retardo mental                                       6.662058e-01   \n",
       "F80-F89 - Transtornos do desenvolvimento psicol...             3.713773e-01   \n",
       "F90-F98 - Transtornos do comportamento e transt...             7.153962e-02   \n",
       "F99-F99 - Transtorno mental não especificado                   1.513149e-06   \n",
       "_Grand Total                                                   5.491811e-01   \n",
       "__Atendimentos na APS (exceto saúde mental)                    8.488991e-13   \n",
       "\n",
       "                                                    Normality (D'Agostino)  \\\n",
       "F00-F09 - Transtornos mentais orgânicos, inclus...            1.745659e-02   \n",
       "F20-F29 - Esquizofrenia, transtornos esquizotíp...            7.248578e-01   \n",
       "F30-F39 - Transtornos do humor [afetivos]                     5.634862e-01   \n",
       "F40-F48 - Transtornos neuróticos, transtornos r...            1.889178e-01   \n",
       "F50-F59 - Síndromes comportamentais associadas ...            6.234204e-03   \n",
       "F60-F69 - Transtornos da personalidade e do com...            1.624442e-02   \n",
       "F70-F79 - Retardo mental                                      6.693367e-01   \n",
       "F80-F89 - Transtornos do desenvolvimento psicol...            3.017818e-01   \n",
       "F90-F98 - Transtornos do comportamento e transt...            7.390851e-02   \n",
       "F99-F99 - Transtorno mental não especificado                  2.313217e-05   \n",
       "_Grand Total                                                  4.318565e-01   \n",
       "__Atendimentos na APS (exceto saúde mental)                   4.765796e-07   \n",
       "\n",
       "                                                    Autocorrelation (Durbin-Watson)  \\\n",
       "F00-F09 - Transtornos mentais orgânicos, inclus...                         0.758334   \n",
       "F20-F29 - Esquizofrenia, transtornos esquizotíp...                         0.354672   \n",
       "F30-F39 - Transtornos do humor [afetivos]                                  0.422068   \n",
       "F40-F48 - Transtornos neuróticos, transtornos r...                         0.525509   \n",
       "F50-F59 - Síndromes comportamentais associadas ...                         1.184699   \n",
       "F60-F69 - Transtornos da personalidade e do com...                         1.045593   \n",
       "F70-F79 - Retardo mental                                                   0.493265   \n",
       "F80-F89 - Transtornos do desenvolvimento psicol...                         0.427556   \n",
       "F90-F98 - Transtornos do comportamento e transt...                         0.506893   \n",
       "F99-F99 - Transtorno mental não especificado                               0.417910   \n",
       "_Grand Total                                                               0.454486   \n",
       "__Atendimentos na APS (exceto saúde mental)                                1.098880   \n",
       "\n",
       "                                                    Autocorrelation (Ljung-Box)  \n",
       "F00-F09 - Transtornos mentais orgânicos, inclus...                 2.132250e-36  \n",
       "F20-F29 - Esquizofrenia, transtornos esquizotíp...                 3.238254e-92  \n",
       "F30-F39 - Transtornos do humor [afetivos]                          1.791495e-64  \n",
       "F40-F48 - Transtornos neuróticos, transtornos r...                 1.600449e-72  \n",
       "F50-F59 - Síndromes comportamentais associadas ...                 1.049508e-05  \n",
       "F60-F69 - Transtornos da personalidade e do com...                 1.779468e-07  \n",
       "F70-F79 - Retardo mental                                           2.569556e-69  \n",
       "F80-F89 - Transtornos do desenvolvimento psicol...                 1.760290e-86  \n",
       "F90-F98 - Transtornos do comportamento e transt...                 1.210529e-45  \n",
       "F99-F99 - Transtorno mental não especificado                       2.363009e-62  \n",
       "_Grand Total                                                       9.372199e-74  \n",
       "__Atendimentos na APS (exceto saúde mental)                        3.513056e-14  "
      ]
     },
     "execution_count": 301,
     "metadata": {},
     "output_type": "execute_result"
    }
   ],
   "source": [
    "import pandas as pd\n",
    "import numpy as np\n",
    "from statsmodels.stats.diagnostic import het_breuschpagan, acorr_ljungbox\n",
    "from statsmodels.stats.stattools import durbin_watson\n",
    "from scipy.stats import shapiro, normaltest, jarque_bera\n",
    "import statsmodels.api as sm\n",
    "\n",
    "def analyze_time_series(df: pd.DataFrame, variable_col: str, date_col: str, value_col: str):\n",
    "    \"\"\"\n",
    "    Analyzes a melted DataFrame for heteroscedasticity, distribution, and autocorrelation.\n",
    "\n",
    "    Parameters:\n",
    "        df (pd.DataFrame): Melted DataFrame with columns for variable, date, and value.\n",
    "        variable_col (str): Column name for the variable identifier.\n",
    "        date_col (str): Column name for the date.\n",
    "        value_col (str): Column name for the value.\n",
    "\n",
    "    Returns:\n",
    "        dict: A dictionary with analysis results for each variable.\n",
    "    \"\"\"\n",
    "    results = {}\n",
    "\n",
    "    for variable in df[variable_col].unique():\n",
    "        # Filter data for the current variable\n",
    "        variable_data = df[df[variable_col] == variable].sort_values(by=date_col)\n",
    "        y = variable_data[value_col].values\n",
    "        x = np.arange(len(y))  # Time index as independent variable\n",
    "\n",
    "        # Add constant for regression\n",
    "        X = sm.add_constant(x)\n",
    "\n",
    "        # Fit OLS model\n",
    "        model = sm.OLS(y, X).fit()\n",
    "\n",
    "        # Heteroscedasticity tests\n",
    "        bp_test = het_breuschpagan(model.resid, X)\n",
    "        bp_pvalue = bp_test[1]\n",
    "\n",
    "        # Normality tests\n",
    "        shapiro_test = shapiro(model.resid)\n",
    "        shapiro_pvalue = shapiro_test.pvalue\n",
    "\n",
    "        jb_test = jarque_bera(model.resid)\n",
    "        jb_pvalue = jb_test[1]\n",
    "\n",
    "        dagostino_test = normaltest(model.resid)\n",
    "        dagostino_pvalue = dagostino_test.pvalue\n",
    "\n",
    "        # Autocorrelation tests\n",
    "        dw_stat = durbin_watson(model.resid)\n",
    "        ljungbox_test = acorr_ljungbox(model.resid, lags=[10], return_df=True)\n",
    "        ljungbox_pvalue = ljungbox_test['lb_pvalue'].iloc[0]\n",
    "\n",
    "        # Store results\n",
    "        results[variable] = {\n",
    "            \"Heteroscedasticity (Breusch-Pagan)\": bp_pvalue,\n",
    "            \"Normality (Shapiro-Wilk)\": shapiro_pvalue,\n",
    "            \"Normality (Jarque-Bera)\": jb_pvalue,\n",
    "            \"Normality (D'Agostino)\": dagostino_pvalue,\n",
    "            \"Autocorrelation (Durbin-Watson)\": dw_stat,\n",
    "            \"Autocorrelation (Ljung-Box)\": ljungbox_pvalue,\n",
    "        }\n",
    "\n",
    "    return results\n",
    "\n",
    "explorationresults = analyze_time_series(main_regrdf, VARIABLE_COLUMN_NAME, DATE_NAME, DEPENDENT_VAR)\n",
    "explorationresultsDF = pd.DataFrame(explorationresults).T\n",
    "explorationresultsDF"
   ]
  },
  {
   "cell_type": "markdown",
   "metadata": {},
   "source": [
    "# Define Processors"
   ]
  },
  {
   "cell_type": "code",
   "execution_count": 327,
   "metadata": {},
   "outputs": [],
   "source": [
    "class New_RegressionProcessor:\n",
    "    def __init__(\n",
    "        self,\n",
    "        data,\n",
    "        formula,\n",
    "        model=None,\n",
    "        find_best_rho=False,\n",
    "        find_best_rho_args={\n",
    "            'start': -1.0,\n",
    "            \"stop\": 1.0,\n",
    "            'step': 0.05,\n",
    "            'criterio': 'aic',\n",
    "        },\n",
    "        rho=None,\n",
    "        cov_type=None,\n",
    "        cov_kwargs=None,\n",
    "        iterative_fit=False,  # New argument to enable iterative fitting\n",
    "        max_iterations=100,  # Maximum iterations for iterative fitting\n",
    "    ):\n",
    "        self.data = data\n",
    "        self.formula = formula\n",
    "        self.model = model\n",
    "        self.rho = rho\n",
    "        self.cov_type = cov_type\n",
    "        self.cov_kwargs = cov_kwargs\n",
    "        self.find_best_rho = find_best_rho\n",
    "        self.find_best_rho_args = find_best_rho_args\n",
    "        self.iterative_fit = iterative_fit\n",
    "        self.max_iterations = max_iterations\n",
    "        self.results = None\n",
    "\n",
    "    def fit(self, rho=None):\n",
    "        # Fit the regression model using the specified formula and data\n",
    "        if self.find_best_rho:\n",
    "            best_rho = 1.0\n",
    "            best_criterion_value = np.inf\n",
    "            model = None\n",
    "            results = None\n",
    "            for rho in np.arange(\n",
    "                self.find_best_rho_args['start'],\n",
    "                self.find_best_rho_args['stop'],\n",
    "                self.find_best_rho_args['step']\n",
    "            ):\n",
    "                test_model = self.model(self.formula, data=self.data, rho=rho)\n",
    "                if self.iterative_fit and hasattr(test_model, \"iterative_fit\"):\n",
    "                    test_results = test_model.iterative_fit(\n",
    "                        maxiter=self.max_iterations,\n",
    "                        cov_type=self.cov_type,\n",
    "                        cov_kwds=self.cov_kwargs,\n",
    "                    )\n",
    "                else:\n",
    "                    test_results = test_model.fit(\n",
    "                        cov_type=self.cov_type,\n",
    "                        cov_kwds=self.cov_kwargs,\n",
    "                    )\n",
    "                criterion_value = getattr(test_results, self.find_best_rho_args['criterio'])\n",
    "                if criterion_value < best_criterion_value:\n",
    "                    best_criterion_value = criterion_value\n",
    "                    best_rho = rho\n",
    "                    model = test_model\n",
    "                    results = test_results\n",
    "            self.rho = best_rho\n",
    "            self.results = results\n",
    "        else:\n",
    "            if self.rho is not None:\n",
    "                model = self.model(self.formula, data=self.data, rho=rho)\n",
    "            else:\n",
    "                model = self.model(self.formula, data=self.data)\n",
    "\n",
    "            # Use iterative fitting if enabled and supported\n",
    "            if self.iterative_fit and hasattr(model, \"iterative_fit\"):\n",
    "                self.results = model.iterative_fit(\n",
    "                    maxiter=self.max_iterations,\n",
    "                    cov_type=self.cov_type,\n",
    "                    cov_kwds=self.cov_kwargs,\n",
    "                )\n",
    "            else:\n",
    "                self.results = model.fit(\n",
    "                    cov_type=self.cov_type,\n",
    "                    cov_kwds=self.cov_kwargs,\n",
    "                )"
   ]
  },
  {
   "cell_type": "code",
   "execution_count": 326,
   "metadata": {},
   "outputs": [],
   "source": [
    "class VariableProcessor:\n",
    "    def __init__(\n",
    "        self,\n",
    "        df,       \n",
    "        processor_args, \n",
    "        processor,\n",
    "\n",
    "    ):\n",
    "        self.df = df\n",
    "        self.results = {}\n",
    "        self.processor_args = processor_args\n",
    "        self.processor = processor\n",
    "        \n",
    "    def process_variables(self):\n",
    "        # Process each variable in the DataFrame\n",
    "        for variable in self.df[VARIABLE_COLUMN_NAME].unique():\n",
    "            variable_data = self.df[self.df[VARIABLE_COLUMN_NAME] == variable]\n",
    "            processor = self.processor(data=variable_data, **self.processor_args)\n",
    "            processor.fit()\n",
    "            self.results[variable] = processor.results\n",
    "\n",
    "        return self.results"
   ]
  },
  {
   "cell_type": "code",
   "execution_count": 348,
   "metadata": {},
   "outputs": [
    {
     "name": "stdout",
     "output_type": "stream",
     "text": [
      "Results for F00-F09 - Transtornos mentais orgânicos, inclusive os sintomáticos:\n",
      "                           GLSAR Regression Results                           \n",
      "==============================================================================\n",
      "Dep. Variable:                valores   R-squared:                       0.868\n",
      "Model:                          GLSAR   Adj. R-squared:                  0.862\n",
      "Method:                 Least Squares   F-statistic:                     140.8\n",
      "Date:                seg, 21 abr 2025   Prob (F-statistic):           6.84e-44\n",
      "Time:                        17:46:31   Log-Likelihood:                -554.74\n",
      "No. Observations:                 107   AIC:                             1121.\n",
      "Df Residuals:                     101   BIC:                             1138.\n",
      "Df Model:                           5                                         \n",
      "Covariance Type:                  HAC                                         \n",
      "=====================================================================================\n",
      "                        coef    std err          z      P>|z|      [0.025      0.975]\n",
      "-------------------------------------------------------------------------------------\n",
      "Intercept           207.6638     12.757     16.279      0.000     182.661     232.666\n",
      "periodo               0.3971      0.416      0.955      0.340      -0.418       1.213\n",
      "Step_PosPandemia     -9.4870     22.953     -0.413      0.679     -54.474      35.500\n",
      "Choque_Inicial      -40.3769     13.641     -2.960      0.003     -67.113     -13.641\n",
      "Lockdown_2021      -130.3366     26.961     -4.834      0.000    -183.179     -77.494\n",
      "Trend_PosPandemia     5.6695      0.631      8.987      0.000       4.433       6.906\n",
      "==============================================================================\n",
      "Omnibus:                        4.425   Durbin-Watson:                   1.962\n",
      "Prob(Omnibus):                  0.109   Jarque-Bera (JB):                5.212\n",
      "Skew:                          -0.157   Prob(JB):                       0.0738\n",
      "Kurtosis:                       4.035   Cond. No.                         645.\n",
      "==============================================================================\n",
      "\n",
      "Notes:\n",
      "[1] Standard Errors are heteroscedasticity and autocorrelation robust (HAC) using 4 lags and without small sample correction\n",
      "\n",
      "\n",
      "Results for F20-F29 - Esquizofrenia, transtornos esquizotípicos e transtornos delirantes:\n",
      "                           GLSAR Regression Results                           \n",
      "==============================================================================\n",
      "Dep. Variable:                valores   R-squared:                       0.813\n",
      "Model:                          GLSAR   Adj. R-squared:                  0.803\n",
      "Method:                 Least Squares   F-statistic:                     111.8\n",
      "Date:                seg, 21 abr 2025   Prob (F-statistic):           1.47e-39\n",
      "Time:                        17:46:31   Log-Likelihood:                -618.58\n",
      "No. Observations:                 107   AIC:                             1249.\n",
      "Df Residuals:                     101   BIC:                             1265.\n",
      "Df Model:                           5                                         \n",
      "Covariance Type:                  HAC                                         \n",
      "=====================================================================================\n",
      "                        coef    std err          z      P>|z|      [0.025      0.975]\n",
      "-------------------------------------------------------------------------------------\n",
      "Intercept           501.5908     31.825     15.761      0.000     439.216     563.966\n",
      "periodo              -1.0852      1.042     -1.041      0.298      -3.128       0.958\n",
      "Step_PosPandemia   -193.6816     36.769     -5.268      0.000    -265.747    -121.617\n",
      "Choque_Inicial     -166.4549     32.814     -5.073      0.000    -230.770    -102.140\n",
      "Lockdown_2021      -257.2679     55.213     -4.660      0.000    -365.483    -149.053\n",
      "Trend_PosPandemia    13.6344      1.476      9.237      0.000      10.741      16.528\n",
      "==============================================================================\n",
      "Omnibus:                        3.114   Durbin-Watson:                   1.963\n",
      "Prob(Omnibus):                  0.211   Jarque-Bera (JB):                2.960\n",
      "Skew:                           0.147   Prob(JB):                        0.228\n",
      "Kurtosis:                       3.760   Cond. No.                         615.\n",
      "==============================================================================\n",
      "\n",
      "Notes:\n",
      "[1] Standard Errors are heteroscedasticity and autocorrelation robust (HAC) using 4 lags and without small sample correction\n",
      "\n",
      "\n",
      "Results for F30-F39 - Transtornos do humor [afetivos]:\n",
      "                           GLSAR Regression Results                           \n",
      "==============================================================================\n",
      "Dep. Variable:                valores   R-squared:                       0.681\n",
      "Model:                          GLSAR   Adj. R-squared:                  0.665\n",
      "Method:                 Least Squares   F-statistic:                     170.6\n",
      "Date:                seg, 21 abr 2025   Prob (F-statistic):           1.32e-47\n",
      "Time:                        17:46:31   Log-Likelihood:                -816.17\n",
      "No. Observations:                 107   AIC:                             1644.\n",
      "Df Residuals:                     101   BIC:                             1660.\n",
      "Df Model:                           5                                         \n",
      "Covariance Type:                  HAC                                         \n",
      "=====================================================================================\n",
      "                        coef    std err          z      P>|z|      [0.025      0.975]\n",
      "-------------------------------------------------------------------------------------\n",
      "Intercept          3598.1238    241.262     14.914      0.000    3125.259    4070.989\n",
      "periodo             -13.0779      7.516     -1.740      0.082     -27.810       1.654\n",
      "Step_PosPandemia   -885.0423    247.739     -3.572      0.000   -1370.601    -399.483\n",
      "Choque_Inicial    -1048.9685    175.338     -5.983      0.000   -1392.624    -705.313\n",
      "Lockdown_2021     -1642.8100    365.985     -4.489      0.000   -2360.128    -925.492\n",
      "Trend_PosPandemia    65.0185      8.353      7.784      0.000      48.647      81.390\n",
      "==============================================================================\n",
      "Omnibus:                        6.528   Durbin-Watson:                   1.982\n",
      "Prob(Omnibus):                  0.038   Jarque-Bera (JB):               11.004\n",
      "Skew:                           0.079   Prob(JB):                      0.00408\n",
      "Kurtosis:                       4.563   Cond. No.                         639.\n",
      "==============================================================================\n",
      "\n",
      "Notes:\n",
      "[1] Standard Errors are heteroscedasticity and autocorrelation robust (HAC) using 4 lags and without small sample correction\n",
      "\n",
      "\n",
      "Results for F40-F48 - Transtornos neuróticos, transtornos relacionados com o \"stress\" e transtornos somatoformes:\n",
      "                           GLSAR Regression Results                           \n",
      "==============================================================================\n",
      "Dep. Variable:                valores   R-squared:                       0.931\n",
      "Model:                          GLSAR   Adj. R-squared:                  0.928\n",
      "Method:                 Least Squares   F-statistic:                     323.6\n",
      "Date:                seg, 21 abr 2025   Prob (F-statistic):           1.76e-60\n",
      "Time:                        17:46:31   Log-Likelihood:                -786.80\n",
      "No. Observations:                 107   AIC:                             1586.\n",
      "Df Residuals:                     101   BIC:                             1602.\n",
      "Df Model:                           5                                         \n",
      "Covariance Type:                  HAC                                         \n",
      "=====================================================================================\n",
      "                        coef    std err          z      P>|z|      [0.025      0.975]\n",
      "-------------------------------------------------------------------------------------\n",
      "Intercept          1206.4696     81.175     14.863      0.000    1047.369    1365.570\n",
      "periodo               9.8459      2.606      3.777      0.000       4.737      14.955\n",
      "Step_PosPandemia     24.7636    163.492      0.151      0.880    -295.675     345.202\n",
      "Choque_Inicial     -123.4379    121.506     -1.016      0.310    -361.585     114.709\n",
      "Lockdown_2021      -684.0683    397.976     -1.719      0.086   -1464.087      95.950\n",
      "Trend_PosPandemia    62.9647      5.058     12.449      0.000      53.052      72.878\n",
      "==============================================================================\n",
      "Omnibus:                        6.279   Durbin-Watson:                   1.985\n",
      "Prob(Omnibus):                  0.043   Jarque-Bera (JB):                6.332\n",
      "Skew:                          -0.403   Prob(JB):                       0.0422\n",
      "Kurtosis:                       3.878   Cond. No.                         556.\n",
      "==============================================================================\n",
      "\n",
      "Notes:\n",
      "[1] Standard Errors are heteroscedasticity and autocorrelation robust (HAC) using 4 lags and without small sample correction\n",
      "\n",
      "\n",
      "Results for F50-F59 - Síndromes comportamentais associadas a disfunções fisiológicas e a fatores físicos:\n",
      "                           GLSAR Regression Results                           \n",
      "==============================================================================\n",
      "Dep. Variable:                valores   R-squared:                       0.545\n",
      "Model:                          GLSAR   Adj. R-squared:                  0.523\n",
      "Method:                 Least Squares   F-statistic:                     22.49\n",
      "Date:                seg, 21 abr 2025   Prob (F-statistic):           4.24e-15\n",
      "Time:                        17:46:31   Log-Likelihood:                -497.20\n",
      "No. Observations:                 107   AIC:                             1006.\n",
      "Df Residuals:                     101   BIC:                             1022.\n",
      "Df Model:                           5                                         \n",
      "Covariance Type:                  HAC                                         \n",
      "=====================================================================================\n",
      "                        coef    std err          z      P>|z|      [0.025      0.975]\n",
      "-------------------------------------------------------------------------------------\n",
      "Intercept           119.0828     10.234     11.636      0.000      99.024     139.142\n",
      "periodo              -0.0071      0.363     -0.019      0.984      -0.719       0.705\n",
      "Step_PosPandemia     21.1930     12.213      1.735      0.083      -2.745      45.131\n",
      "Choque_Inicial      -16.4543     17.697     -0.930      0.352     -51.141      18.232\n",
      "Lockdown_2021       -55.1114     22.160     -2.487      0.013     -98.545     -11.678\n",
      "Trend_PosPandemia     0.8935      0.454      1.969      0.049       0.004       1.783\n",
      "==============================================================================\n",
      "Omnibus:                        3.047   Durbin-Watson:                   1.983\n",
      "Prob(Omnibus):                  0.218   Jarque-Bera (JB):                2.077\n",
      "Skew:                          -0.142   Prob(JB):                        0.354\n",
      "Kurtosis:                       2.380   Cond. No.                         631.\n",
      "==============================================================================\n",
      "\n",
      "Notes:\n",
      "[1] Standard Errors are heteroscedasticity and autocorrelation robust (HAC) using 4 lags and without small sample correction\n",
      "\n",
      "\n",
      "Results for F60-F69 - Transtornos da personalidade e do comportamento do adulto:\n",
      "                           GLSAR Regression Results                           \n",
      "==============================================================================\n",
      "Dep. Variable:                valores   R-squared:                       0.649\n",
      "Model:                          GLSAR   Adj. R-squared:                  0.632\n",
      "Method:                 Least Squares   F-statistic:                     62.89\n",
      "Date:                seg, 21 abr 2025   Prob (F-statistic):           1.79e-29\n",
      "Time:                        17:46:31   Log-Likelihood:                -501.87\n",
      "No. Observations:                 107   AIC:                             1016.\n",
      "Df Residuals:                     101   BIC:                             1032.\n",
      "Df Model:                           5                                         \n",
      "Covariance Type:                  HAC                                         \n",
      "=====================================================================================\n",
      "                        coef    std err          z      P>|z|      [0.025      0.975]\n",
      "-------------------------------------------------------------------------------------\n",
      "Intercept            38.4596      4.230      9.091      0.000      30.168      46.751\n",
      "periodo               0.6802      0.227      2.992      0.003       0.235       1.126\n",
      "Step_PosPandemia     56.7433     11.169      5.080      0.000      34.852      78.635\n",
      "Choque_Inicial       -3.0136     16.962     -0.178      0.859     -36.258      30.230\n",
      "Lockdown_2021       -31.9740     19.921     -1.605      0.108     -71.018       7.070\n",
      "Trend_PosPandemia    -0.6918      0.292     -2.370      0.018      -1.264      -0.120\n",
      "==============================================================================\n",
      "Omnibus:                       22.047   Durbin-Watson:                   1.903\n",
      "Prob(Omnibus):                  0.000   Jarque-Bera (JB):               38.301\n",
      "Skew:                           0.878   Prob(JB):                     4.82e-09\n",
      "Kurtosis:                       5.347   Cond. No.                         561.\n",
      "==============================================================================\n",
      "\n",
      "Notes:\n",
      "[1] Standard Errors are heteroscedasticity and autocorrelation robust (HAC) using 4 lags and without small sample correction\n",
      "\n",
      "\n",
      "Results for F70-F79 - Retardo mental:\n",
      "                           GLSAR Regression Results                           \n",
      "==============================================================================\n",
      "Dep. Variable:                valores   R-squared:                       0.725\n",
      "Model:                          GLSAR   Adj. R-squared:                  0.711\n",
      "Method:                 Least Squares   F-statistic:                     82.45\n",
      "Date:                seg, 21 abr 2025   Prob (F-statistic):           4.52e-34\n",
      "Time:                        17:46:31   Log-Likelihood:                -520.89\n",
      "No. Observations:                 107   AIC:                             1054.\n",
      "Df Residuals:                     101   BIC:                             1070.\n",
      "Df Model:                           5                                         \n",
      "Covariance Type:                  HAC                                         \n",
      "=====================================================================================\n",
      "                        coef    std err          z      P>|z|      [0.025      0.975]\n",
      "-------------------------------------------------------------------------------------\n",
      "Intercept           212.3278     11.561     18.366      0.000     189.669     234.987\n",
      "periodo              -0.2984      0.366     -0.815      0.415      -1.016       0.419\n",
      "Step_PosPandemia   -101.5143     13.550     -7.492      0.000    -128.073     -74.956\n",
      "Choque_Inicial      -97.3395     11.844     -8.219      0.000    -120.553     -74.126\n",
      "Lockdown_2021      -131.5609     16.733     -7.862      0.000    -164.357     -98.765\n",
      "Trend_PosPandemia     4.1307      0.512      8.072      0.000       3.128       5.134\n",
      "==============================================================================\n",
      "Omnibus:                        2.976   Durbin-Watson:                   2.023\n",
      "Prob(Omnibus):                  0.226   Jarque-Bera (JB):                2.777\n",
      "Skew:                          -0.139   Prob(JB):                        0.249\n",
      "Kurtosis:                       3.738   Cond. No.                         618.\n",
      "==============================================================================\n",
      "\n",
      "Notes:\n",
      "[1] Standard Errors are heteroscedasticity and autocorrelation robust (HAC) using 4 lags and without small sample correction\n",
      "\n",
      "\n",
      "Results for F80-F89 - Transtornos do desenvolvimento psicológico:\n",
      "                           GLSAR Regression Results                           \n",
      "==============================================================================\n",
      "Dep. Variable:                valores   R-squared:                       0.927\n",
      "Model:                          GLSAR   Adj. R-squared:                  0.923\n",
      "Method:                 Least Squares   F-statistic:                     190.5\n",
      "Date:                seg, 21 abr 2025   Prob (F-statistic):           9.03e-50\n",
      "Time:                        17:46:31   Log-Likelihood:                -625.74\n",
      "No. Observations:                 107   AIC:                             1263.\n",
      "Df Residuals:                     101   BIC:                             1280.\n",
      "Df Model:                           5                                         \n",
      "Covariance Type:                  HAC                                         \n",
      "=====================================================================================\n",
      "                        coef    std err          z      P>|z|      [0.025      0.975]\n",
      "-------------------------------------------------------------------------------------\n",
      "Intercept            91.3161     12.497      7.307      0.000      66.822     115.810\n",
      "periodo               3.4930      0.511      6.841      0.000       2.492       4.494\n",
      "Step_PosPandemia   -216.9245     26.186     -8.284      0.000    -268.247    -165.602\n",
      "Choque_Inicial     -170.2676     15.525    -10.967      0.000    -200.696    -139.839\n",
      "Lockdown_2021      -159.6058     73.298     -2.177      0.029    -303.268     -15.944\n",
      "Trend_PosPandemia    15.0910      0.943     16.010      0.000      13.244      16.938\n",
      "==============================================================================\n",
      "Omnibus:                       10.637   Durbin-Watson:                   2.012\n",
      "Prob(Omnibus):                  0.005   Jarque-Bera (JB):               27.087\n",
      "Skew:                          -0.115   Prob(JB):                     1.31e-06\n",
      "Kurtosis:                       5.454   Cond. No.                         515.\n",
      "==============================================================================\n",
      "\n",
      "Notes:\n",
      "[1] Standard Errors are heteroscedasticity and autocorrelation robust (HAC) using 4 lags and without small sample correction\n",
      "\n",
      "\n",
      "Results for F90-F98 - Transtornos do comportamento e transtornos emocionais que aparecem habitualmente durante a infância ou a adolescência:\n",
      "                           GLSAR Regression Results                           \n",
      "==============================================================================\n",
      "Dep. Variable:                valores   R-squared:                       0.779\n",
      "Model:                          GLSAR   Adj. R-squared:                  0.768\n",
      "Method:                 Least Squares   F-statistic:                     60.84\n",
      "Date:                seg, 21 abr 2025   Prob (F-statistic):           6.25e-29\n",
      "Time:                        17:46:31   Log-Likelihood:                -630.92\n",
      "No. Observations:                 107   AIC:                             1274.\n",
      "Df Residuals:                     101   BIC:                             1290.\n",
      "Df Model:                           5                                         \n",
      "Covariance Type:                  HAC                                         \n",
      "=====================================================================================\n",
      "                        coef    std err          z      P>|z|      [0.025      0.975]\n",
      "-------------------------------------------------------------------------------------\n",
      "Intercept           284.2643     20.369     13.956      0.000     244.341     324.187\n",
      "periodo               2.7600      0.876      3.150      0.002       1.043       4.477\n",
      "Step_PosPandemia   -249.9275     36.883     -6.776      0.000    -322.218    -177.637\n",
      "Choque_Inicial     -180.8034     43.668     -4.140      0.000    -266.390     -95.216\n",
      "Lockdown_2021      -310.3101     69.583     -4.460      0.000    -446.691    -173.929\n",
      "Trend_PosPandemia     9.5810      1.421      6.745      0.000       6.797      12.365\n",
      "==============================================================================\n",
      "Omnibus:                        9.727   Durbin-Watson:                   1.993\n",
      "Prob(Omnibus):                  0.008   Jarque-Bera (JB):               19.074\n",
      "Skew:                           0.260   Prob(JB):                     7.21e-05\n",
      "Kurtosis:                       5.002   Cond. No.                         589.\n",
      "==============================================================================\n",
      "\n",
      "Notes:\n",
      "[1] Standard Errors are heteroscedasticity and autocorrelation robust (HAC) using 4 lags and without small sample correction\n",
      "\n",
      "\n",
      "Results for F99-F99 - Transtorno mental não especificado:\n",
      "                           GLSAR Regression Results                           \n",
      "==============================================================================\n",
      "Dep. Variable:                valores   R-squared:                       0.593\n",
      "Model:                          GLSAR   Adj. R-squared:                  0.573\n",
      "Method:                 Least Squares   F-statistic:                     84.31\n",
      "Date:                seg, 21 abr 2025   Prob (F-statistic):           1.83e-34\n",
      "Time:                        17:46:31   Log-Likelihood:                -547.17\n",
      "No. Observations:                 107   AIC:                             1106.\n",
      "Df Residuals:                     101   BIC:                             1122.\n",
      "Df Model:                           5                                         \n",
      "Covariance Type:                  HAC                                         \n",
      "=====================================================================================\n",
      "                        coef    std err          z      P>|z|      [0.025      0.975]\n",
      "-------------------------------------------------------------------------------------\n",
      "Intercept           164.6903     13.926     11.826      0.000     137.395     191.985\n",
      "periodo              -2.0263      0.464     -4.369      0.000      -2.935      -1.117\n",
      "Step_PosPandemia    -68.4717     19.763     -3.465      0.001    -107.206     -29.738\n",
      "Choque_Inicial      -27.0357     13.479     -2.006      0.045     -53.455      -0.617\n",
      "Lockdown_2021       -24.3804     17.749     -1.374      0.170     -59.168      10.407\n",
      "Trend_PosPandemia     5.5568      0.711      7.811      0.000       4.162       6.951\n",
      "==============================================================================\n",
      "Omnibus:                       12.446   Durbin-Watson:                   1.993\n",
      "Prob(Omnibus):                  0.002   Jarque-Bera (JB):               13.317\n",
      "Skew:                           0.744   Prob(JB):                      0.00128\n",
      "Kurtosis:                       3.880   Cond. No.                         605.\n",
      "==============================================================================\n",
      "\n",
      "Notes:\n",
      "[1] Standard Errors are heteroscedasticity and autocorrelation robust (HAC) using 4 lags and without small sample correction\n",
      "\n",
      "\n",
      "Results for _Grand Total:\n",
      "                           GLSAR Regression Results                           \n",
      "==============================================================================\n",
      "Dep. Variable:                valores   R-squared:                       0.849\n",
      "Model:                          GLSAR   Adj. R-squared:                  0.842\n",
      "Method:                 Least Squares   F-statistic:                     149.5\n",
      "Date:                seg, 21 abr 2025   Prob (F-statistic):           4.80e-45\n",
      "Time:                        17:46:31   Log-Likelihood:                -905.60\n",
      "No. Observations:                 107   AIC:                             1823.\n",
      "Df Residuals:                     101   BIC:                             1839.\n",
      "Df Model:                           5                                         \n",
      "Covariance Type:                  HAC                                         \n",
      "=====================================================================================\n",
      "                        coef    std err          z      P>|z|      [0.025      0.975]\n",
      "-------------------------------------------------------------------------------------\n",
      "Intercept          6460.2178    475.053     13.599      0.000    5529.131    7391.305\n",
      "periodo              -0.2674     16.594     -0.016      0.987     -32.790      32.256\n",
      "Step_PosPandemia  -1628.9497    534.552     -3.047      0.002   -2676.652    -581.248\n",
      "Choque_Inicial    -1818.0950    421.776     -4.311      0.000   -2644.761    -991.429\n",
      "Lockdown_2021     -3442.7269    892.410     -3.858      0.000   -5191.817   -1693.636\n",
      "Trend_PosPandemia   182.8495     23.995      7.620      0.000     135.820     229.879\n",
      "==============================================================================\n",
      "Omnibus:                        2.843   Durbin-Watson:                   1.998\n",
      "Prob(Omnibus):                  0.241   Jarque-Bera (JB):                2.531\n",
      "Skew:                          -0.156   Prob(JB):                        0.282\n",
      "Kurtosis:                       3.686   Cond. No.                         626.\n",
      "==============================================================================\n",
      "\n",
      "Notes:\n",
      "[1] Standard Errors are heteroscedasticity and autocorrelation robust (HAC) using 4 lags and without small sample correction\n",
      "\n",
      "\n",
      "Results for __Atendimentos na APS (exceto saúde mental):\n",
      "                           GLSAR Regression Results                           \n",
      "==============================================================================\n",
      "Dep. Variable:                valores   R-squared:                       0.865\n",
      "Model:                          GLSAR   Adj. R-squared:                  0.858\n",
      "Method:                 Least Squares   F-statistic:                     182.4\n",
      "Date:                seg, 21 abr 2025   Prob (F-statistic):           6.51e-49\n",
      "Time:                        17:46:31   Log-Likelihood:                -1221.2\n",
      "No. Observations:                 107   AIC:                             2454.\n",
      "Df Residuals:                     101   BIC:                             2470.\n",
      "Df Model:                           5                                         \n",
      "Covariance Type:                  HAC                                         \n",
      "=====================================================================================\n",
      "                        coef    std err          z      P>|z|      [0.025      0.975]\n",
      "-------------------------------------------------------------------------------------\n",
      "Intercept          9.982e+04   6404.065     15.588      0.000    8.73e+04    1.12e+05\n",
      "periodo             870.9062    263.943      3.300      0.001     353.587    1388.226\n",
      "Step_PosPandemia   2.927e+04   1.42e+04      2.057      0.040    1380.526    5.72e+04\n",
      "Choque_Inicial    -3.573e+04   9010.817     -3.965      0.000   -5.34e+04   -1.81e+04\n",
      "Lockdown_2021     -7.438e+04   1.95e+04     -3.807      0.000   -1.13e+05   -3.61e+04\n",
      "Trend_PosPandemia   792.6061    384.295      2.062      0.039      39.401    1545.811\n",
      "==============================================================================\n",
      "Omnibus:                        1.888   Durbin-Watson:                   1.953\n",
      "Prob(Omnibus):                  0.389   Jarque-Bera (JB):                1.431\n",
      "Skew:                          -0.268   Prob(JB):                        0.489\n",
      "Kurtosis:                       3.181   Cond. No.                         618.\n",
      "==============================================================================\n",
      "\n",
      "Notes:\n",
      "[1] Standard Errors are heteroscedasticity and autocorrelation robust (HAC) using 4 lags and without small sample correction\n",
      "\n",
      "\n"
     ]
    }
   ],
   "source": [
    "processor_args = {\n",
    "    \"formula\": MODEL_FORMULA,#\"valores ~ periodo\",  # Example formula\n",
    "    \"model\": smf.glsar,#smf.ols,  # Use OLS as the regression model for testing\n",
    "    \"find_best_rho\": False,  # Disable best rho search for simplicity\n",
    "    \"find_best_rho_args\": {\n",
    "        \"start\": -1.0,\n",
    "        \"stop\": 1.0,\n",
    "        \"step\": 0.05,\n",
    "        \"criterio\": \"aic\"\n",
    "    },\n",
    "    \"rho\": None,  # No rho value for OLS\n",
    "    \"cov_type\": \"HAC\",  # Use nonrobust covariance for testing\n",
    "    \"cov_kwargs\": {'maxlags': 4},  # No additional covariance arguments\n",
    "    \"iterative_fit\": True,  # Enable iterative fitting if needed\n",
    "    \"max_iterations\": 100,  # Set maximum iterations for iterative fitting\n",
    "}\n",
    "variable_processor = VariableProcessor(\n",
    "    df = RegressionDF,\n",
    "    processor_args = processor_args,\n",
    "    processor = New_RegressionProcessor\n",
    ")\n",
    "\n",
    "variable_processor.process_variables()\n",
    "results = variable_processor.results\n",
    "for variable in results:\n",
    "    print(f\"Results for {variable}:\")\n",
    "    result = results[variable]\n",
    "    print(result.summary())\n",
    "    \n",
    "    #print(\"AIC\", result.aic,)  # Akaike Information Criterion\n",
    "    #print(\"BIC\", result.bic,)  # Bayesian Information Criterion\n",
    "\n",
    "    print(\"\\n\")"
   ]
  },
  {
   "cell_type": "code",
   "execution_count": null,
   "metadata": {},
   "outputs": [],
   "source": [
    "#teste_lag\n",
    "from collections import defaultdict\n",
    "import statsmodels.api as sm\n",
    "import statsmodels.formula.api as smf\n",
    "import pandas as pd\n",
    "import statsmodels.stats.api as sms\n",
    "\n",
    "lags_to_test = [1, 2, 3, 4, 5, 6, 8, 10]\n",
    "estatisticas_por_lag = defaultdict(dict)\n",
    "\n",
    "# Adicionar uma variável para armazenar a informação de ACF\n",
    "acf_values = defaultdict(dict)\n",
    "\n",
    "for lag in lags_to_test:\n",
    "    processor_args[\"cov_kwargs\"] = {\"maxlags\": lag}\n",
    "    \n",
    "    variable_processor = VariableProcessor(\n",
    "        df=RegressionDF,\n",
    "        processor_args=processor_args,\n",
    "        processor=New_RegressionProcessor\n",
    "    )\n",
    "    \n",
    "    variable_processor.process_variables()\n",
    "    results = variable_processor.results\n",
    "    \n",
    "    for var, result in results.items():\n",
    "        # extrair estatísticas desejadas\n",
    "        summary_frame = result.summary2().tables[1]  # tabelinha de coeficientes\n",
    "        if \"Trend_PosPandemia\" in summary_frame.index:\n",
    "            trend_stats = summary_frame.loc[\"Trend_PosPandemia\"]\n",
    "            estatisticas_por_lag[lag][var] = {\n",
    "                \"coef\": trend_stats[\"Coef.\"],\n",
    "                \"std_err\": trend_stats[\"Std.Err.\"],\n",
    "                \"p_value\": trend_stats[\"P>|z|\"] if \"P>|z|\" in trend_stats else trend_stats[\"P>|t|\"],\n",
    "            }\n",
    "        else:\n",
    "            estatisticas_por_lag[lag][var] = {\"coef\": None, \"std_err\": None, \"p_value\": None}\n",
    "        \n",
    "        # Outras estatísticas: Durbin-Watson, AIC, BIC, R², F-Estatístico, p-valor do modelo\n",
    "        estatisticas_por_lag[lag][var][\"durbin_watson\"] = sm.stats.stattools.durbin_watson(result.resid)\n",
    "        estatisticas_por_lag[lag][var][\"aic\"] = result.aic\n",
    "        estatisticas_por_lag[lag][var][\"bic\"] = result.bic\n",
    "        estatisticas_por_lag[lag][var][\"r_squared\"] = result.rsquared\n",
    "        estatisticas_por_lag[lag][var][\"f_statistic\"] = result.fvalue\n",
    "        estatisticas_por_lag[lag][var][\"p_value_model\"] = result.f_pvalue\n",
    "        \n",
    "        # ACF (Autocorrelation Function) dos resíduos\n",
    "        acf_result = sm.tsa.acf(result.resid, nlags=lag, fft=True)\n",
    "        acf_values[lag][var] = acf_result\n",
    "        \n",
    "        # Exibir os valores de ACF para verificação\n",
    "        print(f\"Valores da ACF para {var} no lag {lag}: {acf_result}\")\n",
    "        \n",
    "        # Ajuste: Registra os lags com autocorrelação positiva maior que 0.1 ou qualquer critério ajustado\n",
    "        acf_significant_lags = [i for i, acf_val in enumerate(acf_result) if abs(acf_val) > 0.1]  # Limite mais relaxado\n",
    "        estatisticas_por_lag[lag][var][\"acf_significant_lags\"] = acf_significant_lags\n",
    "\n",
    "# Converte o dicionário em uma lista de registros\n",
    "registros = []\n",
    "for lag, variaveis in estatisticas_por_lag.items():\n",
    "    for var, stats in variaveis.items():\n",
    "        linha = {\"lag\": lag, \"variavel\": var}\n",
    "        linha.update(stats)\n",
    "        registros.append(linha)\n",
    "\n",
    "# Cria o DataFrame\n",
    "df_resultados_lags = pd.DataFrame(registros)\n",
    "\n",
    "# Ordena para facilitar a visualização\n",
    "df_resultados_lags.sort_values(by=[\"variavel\", \"lag\"], inplace=True)\n",
    "#df_resultados_lags.to_csv(\"df_resultados_lags.csv\", sep=';', decimal=',', index=False, encoding='utf-8-sig')\n",
    "# Exibe os resultados\n",
    "\n"
   ]
  },
  {
   "cell_type": "markdown",
   "metadata": {
    "id": "YHaztiJny14x"
   },
   "source": [
    "# OLD Define Processors\n"
   ]
  },
  {
   "cell_type": "code",
   "execution_count": null,
   "metadata": {
    "id": "HTyzqrNKm01b"
   },
   "outputs": [],
   "source": [
    "# Configure logging\n",
    "logging.basicConfig(level=logging.INFO)\n",
    "logger = logging.getLogger(__name__)\n",
    "\n",
    "\n",
    "class RegressionProcessor:\n",
    "    \"\"\"\n",
    "    Performs regression-related operations such as model fitting,\n",
    "    best rho search, statistics extraction, and retrieving the real series.\n",
    "    \"\"\"\n",
    "\n",
    "    def __init__(\n",
    "        self,\n",
    "        ARGS: Dict[str, Any],\n",
    "        col_name: str,\n",
    "        value_name: str,\n",
    "        regression_df: pd.DataFrame,\n",
    "\n",
    "    ):\n",
    "        self.ARGS = ARGS\n",
    "        self.col_name = col_name\n",
    "        self.value_name = value_name\n",
    "        # The DataFrame from which the \"real series\" will be obtained.\n",
    "        # self.real_data_df = real_data_df\n",
    "        self.regression_df = regression_df\n",
    "\n",
    "\n",
    "        self.extra_data_storage = {\"best_rho\": None}\n",
    "\n",
    "    ## called from other internal methods\n",
    "    def get_variable_df(self, regression_df: pd.DataFrame, variable: str):\n",
    "        return regression_df[regression_df[VARIABLE_COLUMN_NAME] == variable]\n",
    "    def fit_arima(self, variable_df: pd.DataFrame, order: tuple):\n",
    "        \"\"\"\n",
    "        Fits an ARIMA model to the time series data.\n",
    "\n",
    "        Parameters:\n",
    "            variable_df (pd.DataFrame): DataFrame containing the time series data for a variable.\n",
    "            order (tuple): The (p, d, q) order of the ARIMA model.\n",
    "\n",
    "        Returns:\n",
    "            ARIMAResults: Fitted ARIMA model results.\n",
    "        \"\"\"\n",
    "        y = variable_df[self.value_name].values\n",
    "        model = ARIMA(y, order=order)\n",
    "        results = model.fit()\n",
    "        return results\n",
    "    def model_fit(\n",
    "        self, model, iterative_fit: bool = None, max_iterations: int = None, **kwARGS\n",
    "    ):\n",
    "        \"\"\"\n",
    "        Fits the model using iterative_fit if indicated.\n",
    "        \n",
    "        Parameters:\n",
    "        -----------\n",
    "        model : statsmodels model object\n",
    "            The model to be fitted\n",
    "        iterative_fit : bool, optional\n",
    "            Whether to use iterative fitting\n",
    "        max_iterations : int, optional\n",
    "            Maximum iterations for iterative fitting\n",
    "        kwARGS : dict\n",
    "            Additional keyword arguments passed to fit()\n",
    "            \n",
    "        Returns:\n",
    "        --------\n",
    "        Fitted model results\n",
    "        \"\"\"\n",
    "        # Get covariance parameters from instance ARGS\n",
    "        cov_type = self.ARGS.get(\"CovType\", \"nonrobust\")\n",
    "        cov_kwds = self.ARGS.get(\"CovKwargs\", {})\n",
    "        \n",
    "        # Handle default values for iterative fitting\n",
    "        if iterative_fit is None:\n",
    "            iterative_fit = self.ARGS.get(\"IterativeFit\", False)\n",
    "        if max_iterations is None:\n",
    "            max_iterations = self.ARGS.get(\"MaxIterations\", 100)\n",
    "            \n",
    "        # Prepare fit arguments including covariance specification\n",
    "        fit_kwargs = {\n",
    "            \"cov_type\": cov_type,\n",
    "            \"cov_kwds\": cov_kwds,\n",
    "            **kwARGS  # Merge additional user-provided kwargs\n",
    "        }\n",
    "        \n",
    "        if iterative_fit:\n",
    "            if hasattr(model, \"iterative_fit\"):\n",
    "                fit_func = model.iterative_fit\n",
    "                fit_kwargs[\"maxiter\"] = max_iterations\n",
    "            else:\n",
    "                logger.warning(\n",
    "                    \"Model does not support iterative_fit. Using fit() instead.\"\n",
    "                )\n",
    "                fit_func = model.fit\n",
    "        else:\n",
    "            fit_func = model.fit\n",
    "            \n",
    "        return fit_func(**fit_kwargs)\n",
    "\n",
    "    def find_best_rho(\n",
    "        self,\n",
    "        df: pd.DataFrame,\n",
    "        formula: str,\n",
    "        criterio: str = \"aic\",\n",
    "        start: float = -1.0,\n",
    "        stop: float = 1.01,\n",
    "        step: float = 0.05,\n",
    "    ) -> float:\n",
    "        \"\"\"\n",
    "        Searches for the best rho parameter using the specified criterion.\n",
    "        \"\"\"\n",
    "        best_rho = 1.0\n",
    "        best_criterion_value = np.inf\n",
    "        for rho in np.arange(start, stop, step):\n",
    "            model = smf.glsar(formula, data=df, rho=rho)\n",
    "            results = self.model_fit(model)\n",
    "            criterion_value = getattr(results, criterio)\n",
    "            if criterion_value < best_criterion_value:\n",
    "                best_criterion_value = criterion_value\n",
    "                best_rho = rho\n",
    "        return best_rho\n",
    "    '''\n",
    "    def _durbin_watson(self, resid) -> float:\n",
    "        \"\"\"\n",
    "        Computes Durbin-Watson statistic.\n",
    "        \"\"\"\n",
    "        from statsmodels.stats.stattools import durbin_watson\n",
    "\n",
    "        return durbin_watson(resid)\n",
    "    '''\n",
    "    def get_real_series(self, variable) -> pd.Series:\n",
    "        \"\"\"\n",
    "        Retrieves the real data series for a variable.\n",
    "        \"\"\"\n",
    "        return self.get_variable_df(self.regression_df, variable)\n",
    "    '''\n",
    "    def add_one_month(dt):  ### remover\n",
    "        \"\"\"\n",
    "        Adds one month to a datetime object.\n",
    "\n",
    "        ARGS:\n",
    "                dt: The datetime object to modify.\n",
    "\n",
    "        Returns:\n",
    "                A new datetime object with one month added.\n",
    "        \"\"\"\n",
    "        # Calculate the next month\n",
    "        try:\n",
    "            next_month = dt.replace(month=dt.month + 1)\n",
    "        except ValueError:  # Handle cases like December\n",
    "            next_month = dt.replace(year=dt.year + 1, month=1)\n",
    "\n",
    "        return next_month\n",
    "        ##########################\n",
    "    '''\n",
    "    def extract_result_stats(self, results) -> Dict[str, Any]:\n",
    "        \"\"\"\n",
    "        Extracts regression parameters and returns them in a dictionary.\n",
    "        \"\"\"\n",
    "        try:\n",
    "            r_value = np.sqrt(results.rsquared)\n",
    "        except (AttributeError, TypeError):\n",
    "            r_value = np.nan\n",
    "\n",
    "        try:\n",
    "            converged = results.converged\n",
    "        except Exception:\n",
    "            converged = np.nan\n",
    "\n",
    "        best_rho = self.extra_data_storage[\"best_rho\"]\n",
    "        #breakpoint()\n",
    "        dummy_stats = {}\n",
    "        dummy_vars = self.ARGS['DummyArgs'].keys() if self.ARGS['DummyArgs'] else []\n",
    "        for var in dummy_vars:\n",
    "            if var in results.params:\n",
    "                dummy_stats[var] = {\n",
    "                    \"coef\": results.params.get(var, np.nan),\n",
    "                    \"p_value\": results.pvalues.get(var, np.nan),\n",
    "                    'sgn' : results.pvalues.get(var, np.nan) < 0.05,  # At 5% significance\n",
    "                    \"conf_int\": results.conf_int().loc[var].values.tolist(),\n",
    "                    \"std_err\": results.bse.get(var, np.nan)\n",
    "                }\n",
    "            else:\n",
    "                dummy_stats[var] = {\n",
    "                    \"coef\": np.nan,\n",
    "                    \"p_value\": np.nan,\n",
    "                    \"conf_int\": [np.nan, np.nan],\n",
    "                    \"sgn\" : False,\n",
    "                    \"std_err\": np.nan\n",
    "                }\n",
    "\n",
    "        slope = results.params.get(self.col_name, np.nan)\n",
    "        stats_dict = {\n",
    "            \"slope\": slope,\n",
    "            'dummy_stats': dummy_stats,\n",
    "            #'slope_normalized': slope / np.mean(serie_values),\n",
    "            \"best_rho\": best_rho,\n",
    "            \"intercept\": results.params.get(\"Intercept\", np.nan),\n",
    "            \"p_value\": results.pvalues.get(self.col_name, np.nan),\n",
    "            'sgnf': results.pvalues.get(self.col_name, np.nan) < 0.05,  # At 5% significance\n",
    "            \"std_err\": results.bse.get(self.col_name, np.nan),\n",
    "            \"r_value\": r_value,\n",
    "            \"r_squared\": results.rsquared,\n",
    "            \"r_squared_adj\": results.rsquared_adj,\n",
    "            \"Durbin-Watson\": np.round(durbin_watson(results.resid), 4),\n",
    "            \"AIC\": results.aic,\n",
    "            \"BIC\": results.bic,\n",
    "            \"num_obs\": results.nobs,\n",
    "            \"fvalue\": results.fvalue,\n",
    "            \"f_pvalue\": results.f_pvalue,\n",
    "            \"log_likelihood_f\": results.llf,\n",
    "            \"condition_number\": results.condition_number,\n",
    "            \"df_model\": results.df_model,\n",
    "            \"df_resid\": results.df_resid,\n",
    "            \"resid\": results.resid,\n",
    "            \"bse\": results.bse,\n",
    "            \"ssr\": results.ssr,\n",
    "            \"centered_tss\": results.centered_tss,\n",
    "            \"uncentered_tss\": results.uncentered_tss,\n",
    "            \"ess\": results.ess,\n",
    "            \"mse_model\": results.mse_model,\n",
    "            \"mse_resid\": results.mse_resid,\n",
    "            \"mse_total\": results.mse_total,\n",
    "            \"tvalues\": results.tvalues,\n",
    "            \"pvalues\": results.pvalues,\n",
    "            \"converged\": converged,\n",
    "        }\n",
    "        return stats_dict\n",
    "\n",
    "    def extract_result_stats_arima(self, results) -> Dict[str, Any]:\n",
    "        \"\"\"\n",
    "        Extracts ARIMA-specific regression parameters and returns them in a dictionary.\n",
    "        \"\"\"\n",
    "        return results.summary()\n",
    "        try:\n",
    "            converged = results.mle_retvals.get(\"converged\", np.nan)\n",
    "        except AttributeError:\n",
    "            converged = np.nan\n",
    "    \n",
    "        stats_dict = {\n",
    "            \"aic\": results.aic,\n",
    "            \"bic\": results.bic,\n",
    "            \"hqic\": results.hqic,\n",
    "            \"log_likelihood\": results.llf,\n",
    "            \"converged\": converged,\n",
    "            \"params\": results.params.to_dict(),\n",
    "            \"stderr\": results.bse.to_dict(),\n",
    "        }\n",
    "        return stats_dict\n",
    "    def get_regression_results(self, variable: str):\n",
    "        \"\"\"\n",
    "        Returns regression results based on the specified method in ARGS.\n",
    "        Supports OLS, Prais-Winsten, and ARIMA.\n",
    "        \"\"\"\n",
    "        method = self.ARGS.get(\"RegressionMethod\", \"ols\")\n",
    "        formula = self.ARGS.get(\"ModelFormula\", \"\")\n",
    "        variable_df = self.get_variable_df(self.regression_df, variable)\n",
    "\n",
    "        if method == \"prais_winsten\":\n",
    "            best_rho = self.find_best_rho(\n",
    "                variable_df, formula, criterio=self.ARGS.get(\"CriterioBestRho\", \"aic\"),\n",
    "                start=self.ARGS.get('best_rho_range', None)[0],\n",
    "                stop=self.ARGS.get('best_rho_range', None)[1],\n",
    "                step=self.ARGS.get('best_rho_range', None)[2],\n",
    "            )\n",
    "            self.extra_data_storage[\"best_rho\"] = best_rho\n",
    "            model = smf.glsar(formula, data=variable_df, rho=best_rho)\n",
    "            results = self.model_fit(model)\n",
    "        elif method == \"arima\":\n",
    "            arima_order = self.ARGS.get(\"ARIMAOrder\", (1, 1, 1))  # Default to (1, 1, 1)\n",
    "            results = self.fit_arima(variable_df, order=arima_order)\n",
    "            print(results.summary())\n",
    "        else:  # Default to OLS\n",
    "            model = smf.ols(formula, data=variable_df)\n",
    "            results = self.model_fit(model)\n",
    "\n",
    "        return results\n",
    "    '''\n",
    "    def get_dummy_impact(\n",
    "        self, variable: str, results\n",
    "    ):\n",
    "        if results is not None:\n",
    "            dummy_vars = self.ARGS.get(\"DummyArgs\", {}).keys()\n",
    "            # Extract coefficients, p-values, and confidence intervals for dummies\n",
    "            dummy_impact = {}\n",
    "            for var in dummy_vars:\n",
    "                if var in results.params:\n",
    "                    coef = results.params[var]\n",
    "                    p_value = results.pvalues[var]\n",
    "                    conf_int = results.conf_int().loc[var].values.tolist()\n",
    "                    dummy_impact[var] = {\n",
    "                        \"coef\": coef,\n",
    "                        \"p_value\": p_value,\n",
    "                        \"conf_int\": conf_int,\n",
    "                        \"significant\": p_value < 0.05,  # At 5% significance\n",
    "                    }\n",
    "            \n",
    "            return dummy_impact\n",
    "                # Store or return dummy impact\n",
    "                # self.extra_data_storage['dummy_impact'] = dummy_impact\n",
    "    '''\n",
    "    def get_regression_prediction_data(\n",
    "        self, variable: str, results_params: any\n",
    "    ) -> pd.Series:\n",
    "        \"\"\"\n",
    "        Generates a prediction series for a variable based on the regression results.\n",
    "\n",
    "        ARGS:\n",
    "                variable_df (pd.DataFrame): The DataFrame used to obtain periods (columns).\n",
    "                results_params: Either a dictionary of regression parameters (with keys 'slope' and 'intercept')\n",
    "                                or a RegressionResultsWrapper from which these values can be extracted.\n",
    "\n",
    "        Returns:\n",
    "                pd.Series: The predicted values with an extended period index.\n",
    "        \"\"\"\n",
    "        ######\n",
    "        if self.ARGS['RegressionMethod'] == 'arima':\n",
    "            return results_params.forecast(steps=30)\n",
    "\n",
    "\n",
    "        # If results_params is not a dict, try to extract the needed values from its attributes.\n",
    "        if not isinstance(results_params, dict):\n",
    "            slope = results_params.params.get(self.col_name, np.nan)\n",
    "            intercept = results_params.params.get(\"Intercept\", np.nan)\n",
    "        else:\n",
    "            slope = results_params.get(\"slope\", np.nan)\n",
    "            intercept = results_params.get(\"intercept\", np.nan)\n",
    "\n",
    "        variable_df = self.get_variable_df(self.regression_df, variable)\n",
    "\n",
    "        # Extract periods and dates.\n",
    "        original_periods = variable_df[INDEPENDENT_VAR].tolist()\n",
    "        original_dates = pd.to_datetime(variable_df[DATE_NAME]).tolist()\n",
    "\n",
    "        last_period = original_periods[-1]\n",
    "        last_date = original_dates[-1]\n",
    "\n",
    "        # Determine number of additional future points to predict.\n",
    "        num_additional = int(\n",
    "            len(original_periods) * self.ARGS[\"additional_dates_factor\"]\n",
    "        )\n",
    "\n",
    "        # Generate future periods and dates.\n",
    "        additional_periods = [last_period + i for i in range(1, num_additional + 1)]\n",
    "        additional_dates = [\n",
    "            last_date + relativedelta(months=i * self.ARGS[\"PeriodGrouping\"])\n",
    "            for i in range(1, num_additional + 1)\n",
    "        ]\n",
    "\n",
    "        # Combine original + additional.\n",
    "        all_periods = original_periods + additional_periods\n",
    "        all_dates = original_dates + additional_dates\n",
    "\n",
    "        # Compute predictions using periods.\n",
    "        predicted_values = [slope * period + intercept for period in all_periods]\n",
    "\n",
    "        # Build the prediction series with dates as index.\n",
    "        prediction_series = pd.Series(\n",
    "            predicted_values, index=pd.Index(all_dates), name=variable\n",
    "        )\n",
    "        return prediction_series"
   ]
  },
  {
   "cell_type": "code",
   "execution_count": 303,
   "metadata": {
    "id": "hgAqH9-vyUUT"
   },
   "outputs": [],
   "source": [
    "class SheetExporter:\n",
    "    \"\"\"\n",
    "    Handles exporting Pandas DataFrames to Google Sheets (Colab) or saving locally (non-Colab).\n",
    "    \"\"\"\n",
    "\n",
    "    def __init__(self, output_wksheet=None, output_path: str = LOCAL_OUTPUT_PATH):\n",
    "        \"\"\"\n",
    "        :param output_wksheet: gspread.Spreadsheet object (used in Colab)\n",
    "        :param output_path: Path to save file locally (used outside Colab)\n",
    "        \"\"\"\n",
    "        self.output_wksheet = output_wksheet\n",
    "        self.output_path = output_path\n",
    "\n",
    "    def try_create_worksheet(self, title: str) -> None:\n",
    "        if self.output_wksheet:\n",
    "            try:\n",
    "                self.output_wksheet.worksheet(title)\n",
    "            except gspread.exceptions.WorksheetNotFound:\n",
    "                self.output_wksheet.add_worksheet(title=title, rows=\"100\", cols=\"20\")\n",
    "                logger.info(f\"Worksheet '{title}' created.\")\n",
    "\n",
    "    def convert_int64_for_json(self, input_df: pd.DataFrame) -> pd.DataFrame:\n",
    "        df = input_df.copy()\n",
    "        for column in df.columns:\n",
    "            if df[column].dtype == \"int64\":\n",
    "                df[column] = df[column].astype(int)\n",
    "            elif df[column].apply(lambda x: isinstance(x, np.int64)).any():\n",
    "                df[column] = df[column].apply(\n",
    "                    lambda x: int(x) if isinstance(x, np.int64) else x\n",
    "                )\n",
    "        return df\n",
    "\n",
    "    def export_to_sheet(\n",
    "        self, df: pd.DataFrame, title: str, include_index: bool = True\n",
    "    ) -> None:\n",
    "        clean_df = self.convert_int64_for_json(df)\n",
    "\n",
    "        if self.output_wksheet:\n",
    "            self.try_create_worksheet(title)\n",
    "            ws = self.output_wksheet.worksheet(title)\n",
    "            ws.clear()\n",
    "            set_with_dataframe(ws, clean_df, include_index=include_index)\n",
    "            logger.info(f\"DataFrame exported to sheet '{title}'.\")\n",
    "\n",
    "        elif self.output_path:\n",
    "            # Check if file exists\n",
    "            file_exists = os.path.exists(self.output_path)\n",
    "\n",
    "            # Attempt to open file and catch PermissionError if the file is open elsewhere\n",
    "            if file_exists:\n",
    "                while True:\n",
    "                    try:\n",
    "                        with pd.ExcelWriter(self.output_path, engine='openpyxl', mode='a', if_sheet_exists='replace') as writer:\n",
    "                            clean_df.to_excel(writer, sheet_name=title, index=include_index)\n",
    "                        break  # Exit the loop if writing succeeds\n",
    "                    except PermissionError:\n",
    "                        logger.warning(f\"File '{self.output_path}' is currently open. Please close the file and press Enter to try again.\")\n",
    "                        input(\"Press Enter after closing the file...\")\n",
    "                        time.sleep(5)  # Optional: wait before retrying\n",
    "            else:\n",
    "                # Create a new workbook and write the sheet\n",
    "                with pd.ExcelWriter(self.output_path, engine='openpyxl') as writer:\n",
    "                    clean_df.to_excel(writer, sheet_name=title, index=include_index)\n",
    "\n",
    "        else:\n",
    "            logger.error(\n",
    "                \"No output method specified. Please provide either a gspread worksheet or a local path.\"\n",
    "            )"
   ]
  },
  {
   "cell_type": "code",
   "execution_count": null,
   "metadata": {
    "id": "6xUotBggyWo3"
   },
   "outputs": [],
   "source": [
    "class ResultsDataProcessor:\n",
    "    \"\"\"\n",
    "    Coordinates the regression processing and exporting.\n",
    "    It can append regression data from a DataFrame (e.g. RegressionDataDF),\n",
    "    build exportable DataFrames using configuration, and export to Google Sheets.\n",
    "    \"\"\"\n",
    "\n",
    "    def __init__(\n",
    "        self,\n",
    "        ARGS: Dict[str, Any],\n",
    "        sheet_exporter: SheetExporter,\n",
    "        regression_processor: RegressionProcessor,\n",
    "        is_total = False,\n",
    "        \n",
    "    ):\n",
    "        self.ARGS = ARGS\n",
    "\n",
    "        self.data_dict: Dict[str, Dict[str, Any]] = {}  # per-variable results storage\n",
    "\n",
    "        self.sheet_exporter = sheet_exporter\n",
    "        self.regression_processor = regression_processor\n",
    "\n",
    "        self.is_total = is_total\n",
    "\n",
    "        # Configuration for building exportable DataFrames.\n",
    "        # Keys in export_config refer to DataFrame names that will be built.\n",
    "        if True:#self.is_total:\n",
    "            self.export_config: Dict[str, Dict[str, Any]] = {\n",
    "                \"LinearRegressionResultStats\": {\n",
    "                    \"transform\": lambda var, data: pd.DataFrame(data[\"stats\"], index=[var]),\n",
    "                    \"include_index\": True,\n",
    "                },\n",
    "\n",
    "                \"DummyImpact\": {\n",
    "                    \"transform\": lambda var, data: self.get_dummy_df(\n",
    "                        var, data[\"stats\"]['dummy_stats']),\n",
    "                    \"include_index\": True,\n",
    "                },\n",
    "\n",
    "                #### TODO: EXPORT THE PERIOD AS WELL?\n",
    "                \"RealDataSeries\": {\n",
    "                    \"transform\": lambda var, data: self.create_serie_df_test(\n",
    "                        data[\"real_serie\"]\n",
    "                    ),\n",
    "                    \"include_index\": True,\n",
    "                },\n",
    "                \"PredictionSeries\": {\n",
    "                    \"transform\": lambda var, data: self.create_serie_df(\n",
    "                        data[\"prediction_serie\"]\n",
    "                    ),\n",
    "                    \"include_index\": True,\n",
    "                },\n",
    "            }\n",
    "        else:\n",
    "            self.export_config = {}\n",
    "        # Configuration for appending per-variable results.\n",
    "        # Keys here are produced for each variable and then later used in export.\n",
    "        self.variable_config: Dict[str, Any] = {\n",
    "            ### A dictionary with RegressionWrapper objecs\n",
    "            \"results\": lambda var: self.regression_processor.get_regression_results(\n",
    "                var,\n",
    "            ),\n",
    "\n",
    "\n",
    "            \"stats\": lambda var: (\n",
    "                self.regression_processor.extract_result_stats_arima(self.data_dict[var][\"results\"])\n",
    "                if self.ARGS.get(\"RegressionMethod\", \"ols\") == \"arima\"\n",
    "                else self.regression_processor.extract_result_stats(self.data_dict[var][\"results\"])\n",
    "            ),\n",
    "            \"real_serie\": lambda var: self.regression_processor.get_real_series(var),\n",
    "            \"prediction_serie\": lambda var: self.regression_processor.get_regression_prediction_data(\n",
    "                var, self.data_dict[var][\"results\"]  # ✅ Re-use stored results\n",
    "            ),\n",
    "        }\n",
    "\n",
    "    def process_data(\n",
    "        self,\n",
    "    ):  ### this hould iterate the self.variable_config, previoulsy was 'append_regression_data_df'\n",
    "\n",
    "        for variable in self.regression_processor.regression_df[VARIABLE_COLUMN_NAME].unique():\n",
    "            self.data_dict[variable] = {}\n",
    "            for key, func in self.variable_config.items():\n",
    "                self.data_dict[variable][key] = func(\n",
    "                    variable\n",
    "                )  ## retrieves a function from the variable_config and executes it in a by variable basis, stores it\n",
    "            logger.info(f\"Processed results for variable '{variable}'.\")\n",
    "\n",
    "    def convert_ordinal_to_datetime(self, df: pd.DataFrame) -> pd.DataFrame:\n",
    "        \"\"\"\n",
    "        Converts DataFrame columns from numeric date format to datetime.\n",
    "        Using origin as '1899-12-30' for excel serial dates.\n",
    "        Returns a new DataFrame with renamed columns.\n",
    "        \"\"\"\n",
    "        # Check if columns are numeric (likely ordinal)\n",
    "        if all(isinstance(col, (int, np.integer)) for col in df.columns):\n",
    "            new_columns = df.columns.map(lambda x: datetime.fromordinal(x))\n",
    "            renamed_df = df.copy()\n",
    "            renamed_df.columns = new_columns\n",
    "            return renamed_df\n",
    "        else:\n",
    "            # Columns are not numeric (likely already datetime)\n",
    "            return df\n",
    "\n",
    "    ### TODO: has to be changed, it now receives a DF (melted). This function should shape the df for sheet exportion\n",
    "    def create_serie_df(self, serie: pd.Series) -> pd.DataFrame:\n",
    "\n",
    "        df = pd.DataFrame(serie).T\n",
    "        df.index = [serie.name]\n",
    "        return df\n",
    "\n",
    "    def create_serie_df_test(self, df: pd.DataFrame) -> pd.DataFrame:\n",
    "        shaped_df = df.pivot(index=VARIABLE_COLUMN_NAME, columns=DATE_NAME, values=DEPENDENT_VAR)\n",
    "\n",
    "        # Optional: If you want to have a sorted order on the columns (dates)\n",
    "        shaped_df = shaped_df.reindex(sorted(shaped_df.columns), axis=1)\n",
    "\n",
    "        return shaped_df\n",
    "    '''\n",
    "    def get_dummy_df(self, variable:str, data):\n",
    "        stats = list(next(iter(data.values())).keys())  \n",
    "        # Build rows for each stat\n",
    "        rows = []\n",
    "        for stat in stats:\n",
    "            row = {\"var\": variable, \"stat\": stat}\n",
    "            for dummy_var, values in data.items():\n",
    "                row[dummy_var] = values.get(stat, np.nan)\n",
    "            rows.append(row)    \n",
    "        # Convert to DataFrame\n",
    "        return pd.DataFrame(rows)\n",
    "    '''\n",
    "    def get_dummy_df(self, variable: str, data: dict) -> pd.DataFrame:\n",
    "        \"\"\"\n",
    "        Transforma dicionário de estatísticas em DataFrame \"wide\" com nomes de colunas como:\n",
    "        coef_Pandemia, p_value_Pandemia, etc.\n",
    "        \"\"\"\n",
    "\n",
    "        # Extrair todas as estatísticas (assumindo que todas têm o mesmo conjunto)\n",
    "        stats = list(next(iter(data.values())).keys())\n",
    "\n",
    "        # Inicializa um dicionário para a linha final\n",
    "        row = {}\n",
    "\n",
    "        # Popula com chaves no formato \"stat_period\"\n",
    "        for period, stat_dict in data.items():\n",
    "            for stat in stats:\n",
    "                col_name = f\"{period}___{stat}\"\n",
    "                row[col_name] = stat_dict.get(stat, np.nan)\n",
    "\n",
    "        # Cria DataFrame com a variável como índice\n",
    "        df = pd.DataFrame([row], index=[variable])\n",
    "        return df\n",
    "\n",
    "    def get_exportable_dfs(self) -> Dict[str, pd.DataFrame]:\n",
    "        \"\"\"\n",
    "        Builds a dictionary of DataFrames ready for export based on export_config.\n",
    "        \"\"\"\n",
    "        export_dfs: Dict[str, pd.DataFrame] = {}\n",
    "        for df_name, config in self.export_config.items():\n",
    "            dfs = []\n",
    "            for variable, data in self.data_dict.items():\n",
    "                dfs.append(config[\"transform\"](variable, data))\n",
    "            export_dfs[df_name] = pd.concat(dfs)\n",
    "\n",
    "        # Add metadata (if any)\n",
    "        meta_df = pd.DataFrame(list(self.ARGS.items()), columns=[\"key\", \"value\"])\n",
    "        export_dfs[\"Metadata\"] = meta_df\n",
    "        return export_dfs\n",
    "\n",
    "    def process_and_export(self, is_total :bool = False) -> Dict[str, pd.DataFrame]:\n",
    "        \"\"\"\n",
    "        Processes data into exportable DataFrames and exports them to Google Sheets.\n",
    "        Returns the dictionary of DataFrames.\n",
    "        \"\"\"\n",
    "        export_dfs = self.get_exportable_dfs()\n",
    "        for sheet_title, df in export_dfs.items():\n",
    "            include_index = self.export_config.get(sheet_title, {}).get(\n",
    "                \"include_index\", True\n",
    "            )\n",
    "            if is_total:\n",
    "                 self.sheet_exporter.export_to_sheet(\n",
    "                df, sheet_title, include_index=include_index\n",
    "                )\n",
    "        return export_dfs"
   ]
  },
  {
   "cell_type": "markdown",
   "metadata": {},
   "source": [
    "# Instantiate Processor and Process/Export"
   ]
  },
  {
   "cell_type": "code",
   "execution_count": 305,
   "metadata": {},
   "outputs": [
    {
     "name": "stderr",
     "output_type": "stream",
     "text": [
      "INFO:__main__:Processed results for variable 'F00-F09 - Transtornos mentais orgânicos, inclusive os sintomáticos'.\n",
      "INFO:__main__:Processed results for variable 'F20-F29 - Esquizofrenia, transtornos esquizotípicos e transtornos delirantes'.\n",
      "INFO:__main__:Processed results for variable 'F30-F39 - Transtornos do humor [afetivos]'.\n",
      "INFO:__main__:Processed results for variable 'F40-F48 - Transtornos neuróticos, transtornos relacionados com o \"stress\" e transtornos somatoformes'.\n",
      "INFO:__main__:Processed results for variable 'F50-F59 - Síndromes comportamentais associadas a disfunções fisiológicas e a fatores físicos'.\n",
      "INFO:__main__:Processed results for variable 'F60-F69 - Transtornos da personalidade e do comportamento do adulto'.\n",
      "INFO:__main__:Processed results for variable 'F70-F79 - Retardo mental'.\n",
      "INFO:__main__:Processed results for variable 'F80-F89 - Transtornos do desenvolvimento psicológico'.\n",
      "INFO:__main__:Processed results for variable 'F90-F98 - Transtornos do comportamento e transtornos emocionais que aparecem habitualmente durante a infância ou a adolescência'.\n",
      "INFO:__main__:Processed results for variable 'F99-F99 - Transtorno mental não especificado'.\n",
      "INFO:__main__:Processed results for variable '_Grand Total'.\n",
      "INFO:__main__:Processed results for variable '__Atendimentos na APS (exceto saúde mental)'.\n",
      "INFO:__main__:Processing and export completed.\n"
     ]
    }
   ],
   "source": [
    "\n",
    "sheet_exporter = SheetExporter(output_wksheet)\n",
    "# Instantiate the RegressionProcessor with necessary parameters\n",
    "regression_processor = RegressionProcessor(ARGS, INDEPENDENT_VAR, DEPENDENT_VAR, RegressionDF)\n",
    "# Instantiate the ResultsDataProcessor; it will coordinate between the modules.\n",
    "processor = ResultsDataProcessor(ARGS, sheet_exporter, regression_processor, is_total = True)\n",
    "# Feed the entire regression data DataFrame into the processor\n",
    "processor.process_data()\n",
    "# Process data and export it to Google Sheets; also retrieve exportable DataFrames for further analysis.\n",
    "exported_dfs = processor.process_and_export(is_total = True)\n",
    "logger.info(\"Processing and export completed.\")\n",
    "\n",
    "\n"
   ]
  },
  {
   "cell_type": "code",
   "execution_count": 306,
   "metadata": {},
   "outputs": [
    {
     "data": {
      "text/plain": [
       "{'LinearRegressionResultStats':                                                          slope  dummy_stats  \\\n",
       " F00-F09 - Transtornos mentais orgânicos, inclus...    0.248843          NaN   \n",
       " F20-F29 - Esquizofrenia, transtornos esquizotíp...   -1.468026          NaN   \n",
       " F30-F39 - Transtornos do humor [afetivos]           -15.924828          NaN   \n",
       " F40-F48 - Transtornos neuróticos, transtornos r...    8.212056          NaN   \n",
       " F50-F59 - Síndromes comportamentais associadas ...   -0.065438          NaN   \n",
       " F60-F69 - Transtornos da personalidade e do com...    0.616041          NaN   \n",
       " F70-F79 - Retardo mental                             -0.406622          NaN   \n",
       " F80-F89 - Transtornos do desenvolvimento psicol...    3.216512          NaN   \n",
       " F90-F98 - Transtornos do comportamento e transt...    2.007502          NaN   \n",
       " F99-F99 - Transtorno mental não especificado         -2.057226          NaN   \n",
       " _Grand Total                                         -5.111364          NaN   \n",
       " __Atendimentos na APS (exceto saúde mental)         891.315152          NaN   \n",
       " \n",
       "                                                     best_rho     intercept  \\\n",
       " F00-F09 - Transtornos mentais orgânicos, inclus...      0.11    193.192915   \n",
       " F20-F29 - Esquizofrenia, transtornos esquizotíp...      0.19    487.245606   \n",
       " F30-F39 - Transtornos do humor [afetivos]              -0.29   3370.852213   \n",
       " F40-F48 - Transtornos neuróticos, transtornos r...      0.02   1099.062054   \n",
       " F50-F59 - Síndromes comportamentais associadas ...     -0.34    108.153178   \n",
       " F60-F69 - Transtornos da personalidade e do com...     -0.29     39.520753   \n",
       " F70-F79 - Retardo mental                               -0.27    203.845363   \n",
       " F80-F89 - Transtornos do desenvolvimento psicol...      0.14     42.714974   \n",
       " F90-F98 - Transtornos do comportamento e transt...     -0.30    253.149097   \n",
       " F99-F99 - Transtorno mental não especificado            0.18    157.591798   \n",
       " _Grand Total                                            0.23   5981.804635   \n",
       " __Atendimentos na APS (exceto saúde mental)             0.55  99711.140216   \n",
       " \n",
       "                                                          p_value   sgnf  \\\n",
       " F00-F09 - Transtornos mentais orgânicos, inclus...  5.199559e-01  False   \n",
       " F20-F29 - Esquizofrenia, transtornos esquizotíp...  8.436126e-02  False   \n",
       " F30-F39 - Transtornos do humor [afetivos]           1.454618e-02   True   \n",
       " F40-F48 - Transtornos neuróticos, transtornos r...  2.948290e-05   True   \n",
       " F50-F59 - Síndromes comportamentais associadas ...  7.963884e-01  False   \n",
       " F60-F69 - Transtornos da personalidade e do com...  6.430005e-03   True   \n",
       " F70-F79 - Retardo mental                            2.167216e-01  False   \n",
       " F80-F89 - Transtornos do desenvolvimento psicol...  4.483431e-11   True   \n",
       " F90-F98 - Transtornos do comportamento e transt...  2.562072e-03   True   \n",
       " F99-F99 - Transtorno mental não especificado        5.775691e-06   True   \n",
       " _Grand Total                                        7.167982e-01  False   \n",
       " __Atendimentos na APS (exceto saúde mental)         3.855526e-06   True   \n",
       " \n",
       "                                                        std_err   r_value  \\\n",
       " F00-F09 - Transtornos mentais orgânicos, inclus...    0.386754  0.949051   \n",
       " F20-F29 - Esquizofrenia, transtornos esquizotíp...    0.850574  0.923811   \n",
       " F30-F39 - Transtornos do humor [afetivos]             6.517261  0.872325   \n",
       " F40-F48 - Transtornos neuróticos, transtornos r...    1.965818  0.971675   \n",
       " F50-F59 - Síndromes comportamentais associadas ...    0.253613  0.818099   \n",
       " F60-F69 - Transtornos da personalidade e do com...    0.226069  0.830918   \n",
       " F70-F79 - Retardo mental                              0.329171  0.881612   \n",
       " F80-F89 - Transtornos do desenvolvimento psicol...    0.488301  0.972604   \n",
       " F90-F98 - Transtornos do comportamento e transt...    0.665637  0.927630   \n",
       " F99-F99 - Transtorno mental não especificado          0.453689  0.789430   \n",
       " _Grand Total                                         14.090940  0.943192   \n",
       " __Atendimentos na APS (exceto saúde mental)         192.966198  0.949542   \n",
       " \n",
       "                                                     r_squared  r_squared_adj  \\\n",
       " F00-F09 - Transtornos mentais orgânicos, inclus...   0.900698       0.883044   \n",
       " F20-F29 - Esquizofrenia, transtornos esquizotíp...   0.853427       0.827370   \n",
       " F30-F39 - Transtornos do humor [afetivos]            0.760951       0.718454   \n",
       " F40-F48 - Transtornos neuróticos, transtornos r...   0.944152       0.934224   \n",
       " F50-F59 - Síndromes comportamentais associadas ...   0.669286       0.610492   \n",
       " F60-F69 - Transtornos da personalidade e do com...   0.690425       0.635389   \n",
       " F70-F79 - Retardo mental                             0.777240       0.737638   \n",
       " F80-F89 - Transtornos do desenvolvimento psicol...   0.945958       0.936350   \n",
       " F90-F98 - Transtornos do comportamento e transt...   0.860497       0.835696   \n",
       " F99-F99 - Transtorno mental não especificado         0.623199       0.556212   \n",
       " _Grand Total                                         0.889612       0.869987   \n",
       " __Atendimentos na APS (exceto saúde mental)          0.901630       0.884142   \n",
       " \n",
       "                                                     ...           ssr  \\\n",
       " F00-F09 - Transtornos mentais orgânicos, inclus...  ...  1.503885e+05   \n",
       " F20-F29 - Esquizofrenia, transtornos esquizotíp...  ...  5.367707e+05   \n",
       " F30-F39 - Transtornos do humor [afetivos]           ...  1.982437e+07   \n",
       " F40-F48 - Transtornos neuróticos, transtornos r...  ...  1.242911e+07   \n",
       " F50-F59 - Síndromes comportamentais associadas ...  ...  4.944775e+04   \n",
       " F60-F69 - Transtornos da personalidade e do com...  ...  6.528779e+04   \n",
       " F70-F79 - Retardo mental                            ...  8.597611e+04   \n",
       " F80-F89 - Transtornos do desenvolvimento psicol...  ...  5.913806e+05   \n",
       " F90-F98 - Transtornos do comportamento e transt...  ...  5.304331e+05   \n",
       " F99-F99 - Transtorno mental não especificado        ...  1.546305e+05   \n",
       " _Grand Total                                        ...  1.028217e+08   \n",
       " __Atendimentos na APS (exceto saúde mental)         ...  3.802645e+10   \n",
       " \n",
       "                                                     centered_tss  \\\n",
       " F00-F09 - Transtornos mentais orgânicos, inclus...  1.514456e+06   \n",
       " F20-F29 - Esquizofrenia, transtornos esquizotíp...  3.662142e+06   \n",
       " F30-F39 - Transtornos do humor [afetivos]           8.293027e+07   \n",
       " F40-F48 - Transtornos neuróticos, transtornos r...  2.225535e+08   \n",
       " F50-F59 - Síndromes comportamentais associadas ...  1.495181e+05   \n",
       " F60-F69 - Transtornos da personalidade e do com...  2.108948e+05   \n",
       " F70-F79 - Retardo mental                            3.859588e+05   \n",
       " F80-F89 - Transtornos do desenvolvimento psicol...  1.094297e+07   \n",
       " F90-F98 - Transtornos do comportamento e transt...  3.802307e+06   \n",
       " F99-F99 - Transtorno mental não especificado        4.103771e+05   \n",
       " _Grand Total                                        9.314535e+08   \n",
       " __Atendimentos na APS (exceto saúde mental)         3.865671e+11   \n",
       " \n",
       "                                                     uncentered_tss  \\\n",
       " F00-F09 - Transtornos mentais orgânicos, inclus...    1.209505e+07   \n",
       " F20-F29 - Esquizofrenia, transtornos esquizotíp...    3.580716e+07   \n",
       " F30-F39 - Transtornos do humor [afetivos]             1.407444e+09   \n",
       " F40-F48 - Transtornos neuróticos, transtornos r...    8.113678e+08   \n",
       " F50-F59 - Síndromes comportamentais associadas ...    2.131039e+06   \n",
       " F60-F69 - Transtornos da personalidade e do com...    9.624153e+05   \n",
       " F70-F79 - Retardo mental                              4.675740e+06   \n",
       " F80-F89 - Transtornos do desenvolvimento psicol...    1.736473e+07   \n",
       " F90-F98 - Transtornos do comportamento e transt...    1.933770e+07   \n",
       " F99-F99 - Transtorno mental não especificado          1.427009e+06   \n",
       " _Grand Total                                          7.679105e+09   \n",
       " __Atendimentos na APS (exceto saúde mental)           3.026951e+12   \n",
       " \n",
       "                                                              ess  \\\n",
       " F00-F09 - Transtornos mentais orgânicos, inclus...  1.364068e+06   \n",
       " F20-F29 - Esquizofrenia, transtornos esquizotíp...  3.125372e+06   \n",
       " F30-F39 - Transtornos do humor [afetivos]           6.310590e+07   \n",
       " F40-F48 - Transtornos neuróticos, transtornos r...  2.101244e+08   \n",
       " F50-F59 - Síndromes comportamentais associadas ...  1.000704e+05   \n",
       " F60-F69 - Transtornos da personalidade e do com...  1.456070e+05   \n",
       " F70-F79 - Retardo mental                            2.999827e+05   \n",
       " F80-F89 - Transtornos do desenvolvimento psicol...  1.035159e+07   \n",
       " F90-F98 - Transtornos do comportamento e transt...  3.271874e+06   \n",
       " F99-F99 - Transtorno mental não especificado        2.557466e+05   \n",
       " _Grand Total                                        8.286318e+08   \n",
       " __Atendimentos na APS (exceto saúde mental)         3.485407e+11   \n",
       " \n",
       "                                                        mse_model  \\\n",
       " F00-F09 - Transtornos mentais orgânicos, inclus...  8.525424e+04   \n",
       " F20-F29 - Esquizofrenia, transtornos esquizotíp...  1.953357e+05   \n",
       " F30-F39 - Transtornos do humor [afetivos]           3.944119e+06   \n",
       " F40-F48 - Transtornos neuróticos, transtornos r...  1.313278e+07   \n",
       " F50-F59 - Síndromes comportamentais associadas ...  6.254399e+03   \n",
       " F60-F69 - Transtornos da personalidade e do com...  9.100439e+03   \n",
       " F70-F79 - Retardo mental                            1.874892e+04   \n",
       " F80-F89 - Transtornos do desenvolvimento psicol...  6.469745e+05   \n",
       " F90-F98 - Transtornos do comportamento e transt...  2.044921e+05   \n",
       " F99-F99 - Transtorno mental não especificado        1.598416e+04   \n",
       " _Grand Total                                        5.178948e+07   \n",
       " __Atendimentos na APS (exceto saúde mental)         2.178379e+10   \n",
       " \n",
       "                                                        mse_resid  \\\n",
       " F00-F09 - Transtornos mentais orgânicos, inclus...  1.670984e+03   \n",
       " F20-F29 - Esquizofrenia, transtornos esquizotíp...  5.964118e+03   \n",
       " F30-F39 - Transtornos do humor [afetivos]           2.202708e+05   \n",
       " F40-F48 - Transtornos neuróticos, transtornos r...  1.381012e+05   \n",
       " F50-F59 - Síndromes comportamentais associadas ...  5.494194e+02   \n",
       " F60-F69 - Transtornos da personalidade e do com...  7.254199e+02   \n",
       " F70-F79 - Retardo mental                            9.552902e+02   \n",
       " F80-F89 - Transtornos do desenvolvimento psicol...  6.570896e+03   \n",
       " F90-F98 - Transtornos do comportamento e transt...  5.893701e+03   \n",
       " F99-F99 - Transtorno mental não especificado        1.718117e+03   \n",
       " _Grand Total                                        1.142464e+06   \n",
       " __Atendimentos na APS (exceto saúde mental)         4.225161e+08   \n",
       " \n",
       "                                                        mse_total  tvalues  \\\n",
       " F00-F09 - Transtornos mentais orgânicos, inclus...  1.428732e+04      NaN   \n",
       " F20-F29 - Esquizofrenia, transtornos esquizotíp...  3.454851e+04      NaN   \n",
       " F30-F39 - Transtornos do humor [afetivos]           7.823610e+05      NaN   \n",
       " F40-F48 - Transtornos neuróticos, transtornos r...  2.099562e+06      NaN   \n",
       " F50-F59 - Síndromes comportamentais associadas ...  1.410548e+03      NaN   \n",
       " F60-F69 - Transtornos da personalidade e do com...  1.989574e+03      NaN   \n",
       " F70-F79 - Retardo mental                            3.641121e+03      NaN   \n",
       " F80-F89 - Transtornos do desenvolvimento psicol...  1.032356e+05      NaN   \n",
       " F90-F98 - Transtornos do comportamento e transt...  3.587082e+04      NaN   \n",
       " F99-F99 - Transtorno mental não especificado        3.871482e+03      NaN   \n",
       " _Grand Total                                        8.787297e+06      NaN   \n",
       " __Atendimentos na APS (exceto saúde mental)         3.646860e+09      NaN   \n",
       " \n",
       "                                                     pvalues  converged  \n",
       " F00-F09 - Transtornos mentais orgânicos, inclus...      NaN       True  \n",
       " F20-F29 - Esquizofrenia, transtornos esquizotíp...      NaN       True  \n",
       " F30-F39 - Transtornos do humor [afetivos]               NaN       True  \n",
       " F40-F48 - Transtornos neuróticos, transtornos r...      NaN       True  \n",
       " F50-F59 - Síndromes comportamentais associadas ...      NaN       True  \n",
       " F60-F69 - Transtornos da personalidade e do com...      NaN       True  \n",
       " F70-F79 - Retardo mental                                NaN       True  \n",
       " F80-F89 - Transtornos do desenvolvimento psicol...      NaN       True  \n",
       " F90-F98 - Transtornos do comportamento e transt...      NaN       True  \n",
       " F99-F99 - Transtorno mental não especificado            NaN       True  \n",
       " _Grand Total                                            NaN       True  \n",
       " __Atendimentos na APS (exceto saúde mental)             NaN       True  \n",
       " \n",
       " [12 rows x 32 columns],\n",
       " 'DummyImpact':                                                     Step_PosPandemia___coef  \\\n",
       " F00-F09 - Transtornos mentais orgânicos, inclus...                -6.376598   \n",
       " F20-F29 - Esquizofrenia, transtornos esquizotíp...              -182.961204   \n",
       " F30-F39 - Transtornos do humor [afetivos]                       -821.261485   \n",
       " F40-F48 - Transtornos neuróticos, transtornos r...                52.104988   \n",
       " F50-F59 - Síndromes comportamentais associadas ...                23.609451   \n",
       " F60-F69 - Transtornos da personalidade e do com...                57.460824   \n",
       " F70-F79 - Retardo mental                                         -99.769080   \n",
       " F80-F89 - Transtornos do desenvolvimento psicol...              -203.878676   \n",
       " F90-F98 - Transtornos do comportamento e transt...              -236.741210   \n",
       " F99-F99 - Transtorno mental não especificado                     -63.797794   \n",
       " _Grand Total                                                   -1523.028609   \n",
       " __Atendimentos na APS (exceto saúde mental)                    27354.000634   \n",
       " \n",
       "                                                     Step_PosPandemia___p_value  \\\n",
       " F00-F09 - Transtornos mentais orgânicos, inclus...                7.468610e-01   \n",
       " F20-F29 - Esquizofrenia, transtornos esquizotíp...                4.321994e-10   \n",
       " F30-F39 - Transtornos do humor [afetivos]                         1.524959e-04   \n",
       " F40-F48 - Transtornos neuróticos, transtornos r...                7.354809e-01   \n",
       " F50-F59 - Síndromes comportamentais associadas ...                9.978820e-04   \n",
       " F60-F69 - Transtornos da personalidade e do com...                3.868699e-07   \n",
       " F70-F79 - Retardo mental                                          1.803818e-18   \n",
       " F80-F89 - Transtornos do desenvolvimento psicol...                3.227040e-16   \n",
       " F90-F98 - Transtornos do comportamento e transt...                7.810711e-14   \n",
       " F99-F99 - Transtorno mental não especificado                      2.168545e-03   \n",
       " _Grand Total                                                      6.119909e-03   \n",
       " __Atendimentos na APS (exceto saúde mental)                       1.459928e-02   \n",
       " \n",
       "                                                     Step_PosPandemia___sgn  \\\n",
       " F00-F09 - Transtornos mentais orgânicos, inclus...                   False   \n",
       " F20-F29 - Esquizofrenia, transtornos esquizotíp...                    True   \n",
       " F30-F39 - Transtornos do humor [afetivos]                             True   \n",
       " F40-F48 - Transtornos neuróticos, transtornos r...                   False   \n",
       " F50-F59 - Síndromes comportamentais associadas ...                    True   \n",
       " F60-F69 - Transtornos da personalidade e do com...                    True   \n",
       " F70-F79 - Retardo mental                                              True   \n",
       " F80-F89 - Transtornos do desenvolvimento psicol...                    True   \n",
       " F90-F98 - Transtornos do comportamento e transt...                    True   \n",
       " F99-F99 - Transtorno mental não especificado                          True   \n",
       " _Grand Total                                                          True   \n",
       " __Atendimentos na APS (exceto saúde mental)                           True   \n",
       " \n",
       "                                                                    Step_PosPandemia___conf_int  \\\n",
       " F00-F09 - Transtornos mentais orgânicos, inclus...     [-45.09603259571004, 32.34283640674474]   \n",
       " F20-F29 - Esquizofrenia, transtornos esquizotíp...  [-240.41094604278555, -125.51146236216232]   \n",
       " F30-F39 - Transtornos do humor [afetivos]            [-1246.3092733331225, -396.2136967027381]   \n",
       " F40-F48 - Transtornos neuróticos, transtornos r...    [-250.17638043088255, 354.3863558434007]   \n",
       " F50-F59 - Síndromes comportamentais associadas ...      [9.549304931642245, 37.66959799753686]   \n",
       " F60-F69 - Transtornos da personalidade e do com...      [35.27080938392716, 79.65083772800853]   \n",
       " F70-F79 - Retardo mental                             [-122.06871456575381, -77.46944480449584]   \n",
       " F80-F89 - Transtornos do desenvolvimento psicol...   [-252.8214969213629, -154.93585426296397]   \n",
       " F90-F98 - Transtornos do comportamento e transt...   [-298.8280627444572, -174.65435755392178]   \n",
       " F99-F99 - Transtorno mental não especificado        [-104.57939417968487, -23.016194069252883]   \n",
       " _Grand Total                                         [-2611.9629747768513, -434.0942423738204]   \n",
       " __Atendimentos na APS (exceto saúde mental)             [5401.040598751155, 49306.96066907151]   \n",
       " \n",
       "                                                     Step_PosPandemia___std_err  \\\n",
       " F00-F09 - Transtornos mentais orgânicos, inclus...                   19.755177   \n",
       " F20-F29 - Esquizofrenia, transtornos esquizotíp...                   29.311631   \n",
       " F30-F39 - Transtornos do humor [afetivos]                           216.865101   \n",
       " F40-F48 - Transtornos neuróticos, transtornos r...                  154.228022   \n",
       " F50-F59 - Síndromes comportamentais associadas ...                    7.173676   \n",
       " F60-F69 - Transtornos da personalidade e do com...                   11.321644   \n",
       " F70-F79 - Retardo mental                                             11.377574   \n",
       " F80-F89 - Transtornos do desenvolvimento psicol...                   24.971286   \n",
       " F90-F98 - Transtornos do comportamento e transt...                   31.677548   \n",
       " F99-F99 - Transtorno mental não especificado                         20.807321   \n",
       " _Grand Total                                                        555.588967   \n",
       " __Atendimentos na APS (exceto saúde mental)                       11200.695629   \n",
       " \n",
       "                                                     Choque_Inicial___coef  \\\n",
       " F00-F09 - Transtornos mentais orgânicos, inclus...             -29.678155   \n",
       " F20-F29 - Esquizofrenia, transtornos esquizotíp...            -147.197943   \n",
       " F30-F39 - Transtornos do humor [afetivos]                     -875.144745   \n",
       " F40-F48 - Transtornos neuróticos, transtornos r...             -44.520643   \n",
       " F50-F59 - Síndromes comportamentais associadas ...             -11.251287   \n",
       " F60-F69 - Transtornos da personalidade e do com...               1.776035   \n",
       " F70-F79 - Retardo mental                                       -91.151045   \n",
       " F80-F89 - Transtornos do desenvolvimento psicol...            -147.365355   \n",
       " F90-F98 - Transtornos do comportamento e transt...            -135.634825   \n",
       " F99-F99 - Transtorno mental não especificado                   -21.492421   \n",
       " _Grand Total                                                 -1440.662822   \n",
       " __Atendimentos na APS (exceto saúde mental)                 -36828.300977   \n",
       " \n",
       "                                                     Choque_Inicial___p_value  \\\n",
       " F00-F09 - Transtornos mentais orgânicos, inclus...              1.387476e-02   \n",
       " F20-F29 - Esquizofrenia, transtornos esquizotíp...              5.352131e-05   \n",
       " F30-F39 - Transtornos do humor [afetivos]                       1.488534e-06   \n",
       " F40-F48 - Transtornos neuróticos, transtornos r...              6.591903e-01   \n",
       " F50-F59 - Síndromes comportamentais associadas ...              3.817817e-01   \n",
       " F60-F69 - Transtornos da personalidade e do com...              9.171696e-01   \n",
       " F70-F79 - Retardo mental                                        1.111597e-12   \n",
       " F80-F89 - Transtornos do desenvolvimento psicol...              1.988848e-13   \n",
       " F90-F98 - Transtornos do comportamento e transt...              5.437239e-04   \n",
       " F99-F99 - Transtorno mental não especificado                    1.414010e-01   \n",
       " _Grand Total                                                    5.014817e-04   \n",
       " __Atendimentos na APS (exceto saúde mental)                     5.880738e-08   \n",
       " \n",
       "                                                     Choque_Inicial___sgn  \\\n",
       " F00-F09 - Transtornos mentais orgânicos, inclus...                  True   \n",
       " F20-F29 - Esquizofrenia, transtornos esquizotíp...                  True   \n",
       " F30-F39 - Transtornos do humor [afetivos]                           True   \n",
       " F40-F48 - Transtornos neuróticos, transtornos r...                 False   \n",
       " F50-F59 - Síndromes comportamentais associadas ...                 False   \n",
       " F60-F69 - Transtornos da personalidade e do com...                 False   \n",
       " F70-F79 - Retardo mental                                            True   \n",
       " F80-F89 - Transtornos do desenvolvimento psicol...                  True   \n",
       " F90-F98 - Transtornos do comportamento e transt...                  True   \n",
       " F99-F99 - Transtorno mental não especificado                       False   \n",
       " _Grand Total                                                        True   \n",
       " __Atendimentos na APS (exceto saúde mental)                         True   \n",
       " \n",
       "                                                                      Choque_Inicial___conf_int  \\\n",
       " F00-F09 - Transtornos mentais orgânicos, inclus...    [-53.31902540391089, -6.037284893435874]   \n",
       " F20-F29 - Esquizofrenia, transtornos esquizotíp...   [-218.61492910432196, -75.78095765836194]   \n",
       " F30-F39 - Transtornos do humor [afetivos]            [-1231.5408740287933, -518.7486159805705]   \n",
       " F40-F48 - Transtornos neuróticos, transtornos r...    [-242.37244973878418, 153.3311635796663]   \n",
       " F50-F59 - Síndromes comportamentais associadas ...   [-36.464706375495524, 13.962132799715421]   \n",
       " F60-F69 - Transtornos da personalidade e do com...    [-31.694885073338337, 35.24695477445839]   \n",
       " F70-F79 - Retardo mental                              [-116.2570718081117, -66.04501731770779]   \n",
       " F80-F89 - Transtornos do desenvolvimento psicol...  [-186.66450084973624, -108.06620840483762]   \n",
       " F90-F98 - Transtornos do comportamento e transt...   [-212.5061936106847, -58.763455612299595]   \n",
       " F99-F99 - Transtorno mental não especificado           [-50.13688148316983, 7.152039970458038]   \n",
       " _Grand Total                                         [-2252.0641685590963, -629.2614748858779]   \n",
       " __Atendimentos na APS (exceto saúde mental)          [-50140.16944402072, -23516.432510866547]   \n",
       " \n",
       "                                                     Choque_Inicial___std_err  \\\n",
       " F00-F09 - Transtornos mentais orgânicos, inclus...                 12.061890   \n",
       " F20-F29 - Esquizofrenia, transtornos esquizotíp...                 36.437907   \n",
       " F30-F39 - Transtornos do humor [afetivos]                         181.838101   \n",
       " F40-F48 - Transtornos neuróticos, transtornos r...                100.946654   \n",
       " F50-F59 - Síndromes comportamentais associadas ...                 12.864226   \n",
       " F60-F69 - Transtornos da personalidade e do com...                 17.077314   \n",
       " F70-F79 - Retardo mental                                           12.809433   \n",
       " F80-F89 - Transtornos do desenvolvimento psicol...                 20.050953   \n",
       " F90-F98 - Transtornos do comportamento e transt...                 39.220807   \n",
       " F99-F99 - Transtorno mental não especificado                       14.614789   \n",
       " _Grand Total                                                      413.987886   \n",
       " __Atendimentos na APS (exceto saúde mental)                      6791.894428   \n",
       " \n",
       "                                                     Lockdown_2021___coef  \\\n",
       " F00-F09 - Transtornos mentais orgânicos, inclus...           -116.494436   \n",
       " F20-F29 - Esquizofrenia, transtornos esquizotíp...           -218.962581   \n",
       " F30-F39 - Transtornos do humor [afetivos]                   -1422.055078   \n",
       " F40-F48 - Transtornos neuróticos, transtornos r...           -580.980927   \n",
       " F50-F59 - Síndromes comportamentais associadas ...            -57.579391   \n",
       " F60-F69 - Transtornos da personalidade e do com...            -23.024334   \n",
       " F70-F79 - Retardo mental                                     -118.513251   \n",
       " F80-F89 - Transtornos do desenvolvimento psicol...           -127.930522   \n",
       " F90-F98 - Transtornos do comportamento e transt...           -258.143245   \n",
       " F99-F99 - Transtorno mental não especificado                  -10.916882   \n",
       " _Grand Total                                                -3035.186719   \n",
       " __Atendimentos na APS (exceto saúde mental)                -82716.737323   \n",
       " \n",
       "                                                     Lockdown_2021___p_value  \\\n",
       " F00-F09 - Transtornos mentais orgânicos, inclus...             1.697822e-05   \n",
       " F20-F29 - Esquizofrenia, transtornos esquizotíp...             7.303846e-06   \n",
       " F30-F39 - Transtornos do humor [afetivos]                      1.325002e-04   \n",
       " F40-F48 - Transtornos neuróticos, transtornos r...             1.205986e-01   \n",
       " F50-F59 - Síndromes comportamentais associadas ...             5.798225e-03   \n",
       " F60-F69 - Transtornos da personalidade e do com...             2.517321e-01   \n",
       " F70-F79 - Retardo mental                                       2.844718e-12   \n",
       " F80-F89 - Transtornos do desenvolvimento psicol...             9.405083e-02   \n",
       " F90-F98 - Transtornos do comportamento e transt...             6.264937e-04   \n",
       " F99-F99 - Transtorno mental não especificado                   6.424765e-01   \n",
       " _Grand Total                                                   7.483772e-04   \n",
       " __Atendimentos na APS (exceto saúde mental)                    2.111946e-06   \n",
       " \n",
       "                                                     Lockdown_2021___sgn  \\\n",
       " F00-F09 - Transtornos mentais orgânicos, inclus...                 True   \n",
       " F20-F29 - Esquizofrenia, transtornos esquizotíp...                 True   \n",
       " F30-F39 - Transtornos do humor [afetivos]                          True   \n",
       " F40-F48 - Transtornos neuróticos, transtornos r...                False   \n",
       " F50-F59 - Síndromes comportamentais associadas ...                 True   \n",
       " F60-F69 - Transtornos da personalidade e do com...                False   \n",
       " F70-F79 - Retardo mental                                           True   \n",
       " F80-F89 - Transtornos do desenvolvimento psicol...                False   \n",
       " F90-F98 - Transtornos do comportamento e transt...                 True   \n",
       " F99-F99 - Transtorno mental não especificado                      False   \n",
       " _Grand Total                                                       True   \n",
       " __Atendimentos na APS (exceto saúde mental)                        True   \n",
       " \n",
       "                                                                      Lockdown_2021___conf_int  \\\n",
       " F00-F09 - Transtornos mentais orgânicos, inclus...  [-169.57693144526493, -63.41194124852624]   \n",
       " F20-F29 - Esquizofrenia, transtornos esquizotíp...  [-314.6579200765193, -123.26724283657342]   \n",
       " F30-F39 - Transtornos do humor [afetivos]           [-2151.3456304887563, -692.7645247558061]   \n",
       " F40-F48 - Transtornos neuróticos, transtornos r...    [-1314.55473365885, 152.59287955589912]   \n",
       " F50-F59 - Síndromes comportamentais associadas ...  [-98.48348292307963, -16.675299263252363]   \n",
       " F60-F69 - Transtornos da personalidade e do com...  [-62.396813941807196, 16.348145989560365]   \n",
       " F70-F79 - Retardo mental                            [-151.76670931005884, -85.25979341753553]   \n",
       " F80-F89 - Transtornos do desenvolvimento psicol...   [-277.67867802516935, 21.81763427511386]   \n",
       " F90-F98 - Transtornos do comportamento e transt...  [-406.08757503293157, -110.1989156892187]   \n",
       " F99-F99 - Transtorno mental não especificado         [-57.00671083315571, 35.172947369524294]   \n",
       " _Grand Total                                         [-4799.790440718909, -1270.582998040916]   \n",
       " __Atendimentos na APS (exceto saúde mental)         [-116902.3005121059, -48531.174134664616]   \n",
       " \n",
       "                                                     Lockdown_2021___std_err  \\\n",
       " F00-F09 - Transtornos mentais orgânicos, inclus...                27.083403   \n",
       " F20-F29 - Esquizofrenia, transtornos esquizotíp...                48.825050   \n",
       " F30-F39 - Transtornos do humor [afetivos]                        372.093854   \n",
       " F40-F48 - Transtornos neuróticos, transtornos r...               374.279228   \n",
       " F50-F59 - Síndromes comportamentais associadas ...                20.869818   \n",
       " F60-F69 - Transtornos da personalidade e do com...                20.088369   \n",
       " F70-F79 - Retardo mental                                          16.966362   \n",
       " F80-F89 - Transtornos do desenvolvimento psicol...                76.403524   \n",
       " F90-F98 - Transtornos do comportamento e transt...                75.483188   \n",
       " F99-F99 - Transtorno mental não especificado                      23.515651   \n",
       " _Grand Total                                                     900.324565   \n",
       " __Atendimentos na APS (exceto saúde mental)                    17441.934371   \n",
       " \n",
       "                                                     Trend_PosPandemia___coef  \\\n",
       " F00-F09 - Transtornos mentais orgânicos, inclus...                  5.824759   \n",
       " F20-F29 - Esquizofrenia, transtornos esquizotíp...                 14.000411   \n",
       " F30-F39 - Transtornos do humor [afetivos]                          68.010085   \n",
       " F40-F48 - Transtornos neuróticos, transtornos r...                 64.740814   \n",
       " F50-F59 - Síndromes comportamentais associadas ...                  0.916947   \n",
       " F60-F69 - Transtornos da personalidade e do com...                 -0.593817   \n",
       " F70-F79 - Retardo mental                                            4.267693   \n",
       " F80-F89 - Transtornos do desenvolvimento psicol...                 15.074080   \n",
       " F90-F98 - Transtornos do comportamento e transt...                 10.594379   \n",
       " F99-F99 - Transtorno mental não especificado                        5.519369   \n",
       " _Grand Total                                                      187.064839   \n",
       " __Atendimentos na APS (exceto saúde mental)                       838.815164   \n",
       " \n",
       "                                                     Trend_PosPandemia___p_value  \\\n",
       " F00-F09 - Transtornos mentais orgânicos, inclus...                 1.408745e-24   \n",
       " F20-F29 - Esquizofrenia, transtornos esquizotíp...                 4.639069e-25   \n",
       " F30-F39 - Transtornos do humor [afetivos]                          1.488857e-15   \n",
       " F40-F48 - Transtornos neuróticos, transtornos r...                 4.906163e-36   \n",
       " F50-F59 - Síndromes comportamentais associadas ...                 2.137171e-02   \n",
       " F60-F69 - Transtornos da personalidade e do com...                 3.902836e-02   \n",
       " F70-F79 - Retardo mental                                           2.832864e-21   \n",
       " F80-F89 - Transtornos do desenvolvimento psicol...                 8.109010e-71   \n",
       " F90-F98 - Transtornos do comportamento e transt...                 2.874237e-26   \n",
       " F99-F99 - Transtorno mental não especificado                       2.815303e-18   \n",
       " _Grand Total                                                       3.789810e-23   \n",
       " __Atendimentos na APS (exceto saúde mental)                        1.326312e-02   \n",
       " \n",
       "                                                     Trend_PosPandemia___sgn  \\\n",
       " F00-F09 - Transtornos mentais orgânicos, inclus...                     True   \n",
       " F20-F29 - Esquizofrenia, transtornos esquizotíp...                     True   \n",
       " F30-F39 - Transtornos do humor [afetivos]                              True   \n",
       " F40-F48 - Transtornos neuróticos, transtornos r...                     True   \n",
       " F50-F59 - Síndromes comportamentais associadas ...                     True   \n",
       " F60-F69 - Transtornos da personalidade e do com...                     True   \n",
       " F70-F79 - Retardo mental                                               True   \n",
       " F80-F89 - Transtornos do desenvolvimento psicol...                     True   \n",
       " F90-F98 - Transtornos do comportamento e transt...                     True   \n",
       " F99-F99 - Transtorno mental não especificado                           True   \n",
       " _Grand Total                                                           True   \n",
       " __Atendimentos na APS (exceto saúde mental)                            True   \n",
       " \n",
       "                                                                    Trend_PosPandemia___conf_int  \\\n",
       " F00-F09 - Transtornos mentais orgânicos, inclus...        [4.70913704040402, 6.940381187888985]   \n",
       " F20-F29 - Esquizofrenia, transtornos esquizotíp...      [11.346643614133733, 16.65417864567103]   \n",
       " F30-F39 - Transtornos do humor [afetivos]                [51.30169112201852, 84.71847923561995]   \n",
       " F40-F48 - Transtornos neuróticos, transtornos r...        [54.6166321059731, 74.86499572384346]   \n",
       " F50-F59 - Síndromes comportamentais associadas ...     [0.1360223266758792, 1.6978718833504067]   \n",
       " F60-F69 - Transtornos da personalidade e do com...  [-1.157733758367002, -0.029900730258950348]   \n",
       " F70-F79 - Retardo mental                                 [3.384308250962761, 5.151077570655542]   \n",
       " F80-F89 - Transtornos do desenvolvimento psicol...      [13.413548780996404, 16.73461035479174]   \n",
       " F90-F98 - Transtornos do comportamento e transt...      [8.636077360741334, 12.552680407798915]   \n",
       " F99-F99 - Transtorno mental não especificado             [4.278608283221076, 6.760130301842582]   \n",
       " _Grand Total                                            [150.06552634598347, 224.0641526526719]   \n",
       " __Atendimentos na APS (exceto saúde mental)             [174.98937645274657, 1502.640952471887]   \n",
       " \n",
       "                                                     Trend_PosPandemia___std_err  \n",
       " F00-F09 - Transtornos mentais orgânicos, inclus...                     0.569205  \n",
       " F20-F29 - Esquizofrenia, transtornos esquizotíp...                     1.353988  \n",
       " F30-F39 - Transtornos do humor [afetivos]                              8.524847  \n",
       " F40-F48 - Transtornos neuróticos, transtornos r...                     5.165494  \n",
       " F50-F59 - Síndromes comportamentais associadas ...                     0.398438  \n",
       " F60-F69 - Transtornos da personalidade e do com...                     0.287718  \n",
       " F70-F79 - Retardo mental                                               0.450715  \n",
       " F80-F89 - Transtornos do desenvolvimento psicol...                     0.847225  \n",
       " F90-F98 - Transtornos do comportamento e transt...                     0.999152  \n",
       " F99-F99 - Transtorno mental não especificado                           0.633053  \n",
       " _Grand Total                                                          18.877547  \n",
       " __Atendimentos na APS (exceto saúde mental)                          338.692850  ,\n",
       " 'RealDataSeries': date                                                2016-01-01  2016-02-01  \\\n",
       " variavel                                                                     \n",
       " F00-F09 - Transtornos mentais orgânicos, inclus...         109         145   \n",
       " F20-F29 - Esquizofrenia, transtornos esquizotíp...         314         340   \n",
       " F30-F39 - Transtornos do humor [afetivos]                 2173        2389   \n",
       " F40-F48 - Transtornos neuróticos, transtornos r...         796         788   \n",
       " F50-F59 - Síndromes comportamentais associadas ...          79          70   \n",
       " F60-F69 - Transtornos da personalidade e do com...          25          22   \n",
       " F70-F79 - Retardo mental                                   129         172   \n",
       " F80-F89 - Transtornos do desenvolvimento psicol...          58          64   \n",
       " F90-F98 - Transtornos do comportamento e transt...         225         218   \n",
       " F99-F99 - Transtorno mental não especificado                96          92   \n",
       " _Grand Total                                              4004        4300   \n",
       " __Atendimentos na APS (exceto saúde mental)              74093       71969   \n",
       " \n",
       " date                                                2016-03-01  2016-04-01  \\\n",
       " variavel                                                                     \n",
       " F00-F09 - Transtornos mentais orgânicos, inclus...         193         164   \n",
       " F20-F29 - Esquizofrenia, transtornos esquizotíp...         430         371   \n",
       " F30-F39 - Transtornos do humor [afetivos]                 3179        2984   \n",
       " F40-F48 - Transtornos neuróticos, transtornos r...        1152        1035   \n",
       " F50-F59 - Síndromes comportamentais associadas ...         101          82   \n",
       " F60-F69 - Transtornos da personalidade e do com...          31          44   \n",
       " F70-F79 - Retardo mental                                   184         195   \n",
       " F80-F89 - Transtornos do desenvolvimento psicol...          80          86   \n",
       " F90-F98 - Transtornos do comportamento e transt...         284         238   \n",
       " F99-F99 - Transtorno mental não especificado               188          80   \n",
       " _Grand Total                                              5822        5279   \n",
       " __Atendimentos na APS (exceto saúde mental)             107801       88941   \n",
       " \n",
       " date                                                2016-05-01  2016-06-01  \\\n",
       " variavel                                                                     \n",
       " F00-F09 - Transtornos mentais orgânicos, inclus...         197         210   \n",
       " F20-F29 - Esquizofrenia, transtornos esquizotíp...         466         626   \n",
       " F30-F39 - Transtornos do humor [afetivos]                 3775        4536   \n",
       " F40-F48 - Transtornos neuróticos, transtornos r...        1526        1686   \n",
       " F50-F59 - Síndromes comportamentais associadas ...         168         148   \n",
       " F60-F69 - Transtornos da personalidade e do com...          51          64   \n",
       " F70-F79 - Retardo mental                                   228         237   \n",
       " F80-F89 - Transtornos do desenvolvimento psicol...         115         148   \n",
       " F90-F98 - Transtornos do comportamento e transt...         322         345   \n",
       " F99-F99 - Transtorno mental não especificado               120         146   \n",
       " _Grand Total                                              6968        8146   \n",
       " __Atendimentos na APS (exceto saúde mental)             120012      122526   \n",
       " \n",
       " date                                                2016-07-01  2016-08-01  \\\n",
       " variavel                                                                     \n",
       " F00-F09 - Transtornos mentais orgânicos, inclus...         271         305   \n",
       " F20-F29 - Esquizofrenia, transtornos esquizotíp...         630         665   \n",
       " F30-F39 - Transtornos do humor [afetivos]                 4401        5355   \n",
       " F40-F48 - Transtornos neuróticos, transtornos r...        1512        1817   \n",
       " F50-F59 - Síndromes comportamentais associadas ...         143         167   \n",
       " F60-F69 - Transtornos da personalidade e do com...          48          48   \n",
       " F70-F79 - Retardo mental                                   256         290   \n",
       " F80-F89 - Transtornos do desenvolvimento psicol...         146         197   \n",
       " F90-F98 - Transtornos do comportamento e transt...         403         406   \n",
       " F99-F99 - Transtorno mental não especificado               134         190   \n",
       " _Grand Total                                              7944        9440   \n",
       " __Atendimentos na APS (exceto saúde mental)             115321      147190   \n",
       " \n",
       " date                                                2016-09-01  2016-10-01  \\\n",
       " variavel                                                                     \n",
       " F00-F09 - Transtornos mentais orgânicos, inclus...         242         245   \n",
       " F20-F29 - Esquizofrenia, transtornos esquizotíp...         648         591   \n",
       " F30-F39 - Transtornos do humor [afetivos]                 4392        4147   \n",
       " F40-F48 - Transtornos neuróticos, transtornos r...        1685        1498   \n",
       " F50-F59 - Síndromes comportamentais associadas ...         136         157   \n",
       " F60-F69 - Transtornos da personalidade e do com...          55          59   \n",
       " F70-F79 - Retardo mental                                   242         239   \n",
       " F80-F89 - Transtornos do desenvolvimento psicol...         172         189   \n",
       " F90-F98 - Transtornos do comportamento e transt...         412         433   \n",
       " F99-F99 - Transtorno mental não especificado                76         104   \n",
       " _Grand Total                                              8060        7662   \n",
       " __Atendimentos na APS (exceto saúde mental)             120650      122986   \n",
       " \n",
       " date                                                ...  2024-03-01  \\\n",
       " variavel                                            ...               \n",
       " F00-F09 - Transtornos mentais orgânicos, inclus...  ...         448   \n",
       " F20-F29 - Esquizofrenia, transtornos esquizotíp...  ...         850   \n",
       " F30-F39 - Transtornos do humor [afetivos]           ...        4369   \n",
       " F40-F48 - Transtornos neuróticos, transtornos r...  ...        5139   \n",
       " F50-F59 - Síndromes comportamentais associadas ...  ...         186   \n",
       " F60-F69 - Transtornos da personalidade e do com...  ...         141   \n",
       " F70-F79 - Retardo mental                            ...         290   \n",
       " F80-F89 - Transtornos do desenvolvimento psicol...  ...         955   \n",
       " F90-F98 - Transtornos do comportamento e transt...  ...         762   \n",
       " F99-F99 - Transtorno mental não especificado        ...         112   \n",
       " _Grand Total                                        ...       13252   \n",
       " __Atendimentos na APS (exceto saúde mental)         ...      249689   \n",
       " \n",
       " date                                                2024-04-01  2024-05-01  \\\n",
       " variavel                                                                     \n",
       " F00-F09 - Transtornos mentais orgânicos, inclus...         507         359   \n",
       " F20-F29 - Esquizofrenia, transtornos esquizotíp...         935         743   \n",
       " F30-F39 - Transtornos do humor [afetivos]                 4862        3452   \n",
       " F40-F48 - Transtornos neuróticos, transtornos r...        5844        4474   \n",
       " F50-F59 - Síndromes comportamentais associadas ...         217         144   \n",
       " F60-F69 - Transtornos da personalidade e do com...         137         110   \n",
       " F70-F79 - Retardo mental                                   307         167   \n",
       " F80-F89 - Transtornos do desenvolvimento psicol...        1162         590   \n",
       " F90-F98 - Transtornos do comportamento e transt...         889         467   \n",
       " F99-F99 - Transtorno mental não especificado                68         116   \n",
       " _Grand Total                                             14928       10622   \n",
       " __Atendimentos na APS (exceto saúde mental)             287853      188822   \n",
       " \n",
       " date                                                2024-06-01  2024-07-01  \\\n",
       " variavel                                                                     \n",
       " F00-F09 - Transtornos mentais orgânicos, inclus...         499         603   \n",
       " F20-F29 - Esquizofrenia, transtornos esquizotíp...         803         883   \n",
       " F30-F39 - Transtornos do humor [afetivos]                 4271        4701   \n",
       " F40-F48 - Transtornos neuróticos, transtornos r...        5189        5477   \n",
       " F50-F59 - Síndromes comportamentais associadas ...         194         201   \n",
       " F60-F69 - Transtornos da personalidade e do com...         142         131   \n",
       " F70-F79 - Retardo mental                                   259         282   \n",
       " F80-F89 - Transtornos do desenvolvimento psicol...         871        1105   \n",
       " F90-F98 - Transtornos do comportamento e transt...         699         842   \n",
       " F99-F99 - Transtorno mental não especificado               170         216   \n",
       " _Grand Total                                             13097       14441   \n",
       " __Atendimentos na APS (exceto saúde mental)             238007      265185   \n",
       " \n",
       " date                                                2024-08-01  2024-09-01  \\\n",
       " variavel                                                                     \n",
       " F00-F09 - Transtornos mentais orgânicos, inclus...         551         500   \n",
       " F20-F29 - Esquizofrenia, transtornos esquizotíp...         824         813   \n",
       " F30-F39 - Transtornos do humor [afetivos]                 4849        4389   \n",
       " F40-F48 - Transtornos neuróticos, transtornos r...        5584        5031   \n",
       " F50-F59 - Síndromes comportamentais associadas ...         165         157   \n",
       " F60-F69 - Transtornos da personalidade e do com...         173         147   \n",
       " F70-F79 - Retardo mental                                   312         292   \n",
       " F80-F89 - Transtornos do desenvolvimento psicol...        1124         967   \n",
       " F90-F98 - Transtornos do comportamento e transt...         882         923   \n",
       " F99-F99 - Transtorno mental não especificado               226         290   \n",
       " _Grand Total                                             14690       13509   \n",
       " __Atendimentos na APS (exceto saúde mental)             265231      253097   \n",
       " \n",
       " date                                                2024-10-01  2024-11-01  \\\n",
       " variavel                                                                     \n",
       " F00-F09 - Transtornos mentais orgânicos, inclus...         669         563   \n",
       " F20-F29 - Esquizofrenia, transtornos esquizotíp...        1167         925   \n",
       " F30-F39 - Transtornos do humor [afetivos]                 5725        4514   \n",
       " F40-F48 - Transtornos neuróticos, transtornos r...        6308        5250   \n",
       " F50-F59 - Síndromes comportamentais associadas ...         222         150   \n",
       " F60-F69 - Transtornos da personalidade e do com...         202         146   \n",
       " F70-F79 - Retardo mental                                   377         311   \n",
       " F80-F89 - Transtornos do desenvolvimento psicol...        1308        1093   \n",
       " F90-F98 - Transtornos do comportamento e transt...        1159         922   \n",
       " F99-F99 - Transtorno mental não especificado               298         208   \n",
       " _Grand Total                                             17435       14082   \n",
       " __Atendimentos na APS (exceto saúde mental)             292153      235030   \n",
       " \n",
       " date                                                2024-12-01  \n",
       " variavel                                                        \n",
       " F00-F09 - Transtornos mentais orgânicos, inclus...         532  \n",
       " F20-F29 - Esquizofrenia, transtornos esquizotíp...         861  \n",
       " F30-F39 - Transtornos do humor [afetivos]                 4463  \n",
       " F40-F48 - Transtornos neuróticos, transtornos r...        5037  \n",
       " F50-F59 - Síndromes comportamentais associadas ...         154  \n",
       " F60-F69 - Transtornos da personalidade e do com...         171  \n",
       " F70-F79 - Retardo mental                                   268  \n",
       " F80-F89 - Transtornos do desenvolvimento psicol...         965  \n",
       " F90-F98 - Transtornos do comportamento e transt...         816  \n",
       " F99-F99 - Transtorno mental não especificado               138  \n",
       " _Grand Total                                             13405  \n",
       " __Atendimentos na APS (exceto saúde mental)             220687  \n",
       " \n",
       " [12 rows x 108 columns],\n",
       " 'PredictionSeries':                                                        2016-01-01  \\\n",
       " F00-F09 - Transtornos mentais orgânicos, inclus...     193.441758   \n",
       " F20-F29 - Esquizofrenia, transtornos esquizotíp...     485.777580   \n",
       " F30-F39 - Transtornos do humor [afetivos]             3354.927385   \n",
       " F40-F48 - Transtornos neuróticos, transtornos r...    1107.274110   \n",
       " F50-F59 - Síndromes comportamentais associadas ...     108.087740   \n",
       " F60-F69 - Transtornos da personalidade e do com...      40.136794   \n",
       " F70-F79 - Retardo mental                               203.438741   \n",
       " F80-F89 - Transtornos do desenvolvimento psicol...      45.931486   \n",
       " F90-F98 - Transtornos do comportamento e transt...     255.156599   \n",
       " F99-F99 - Transtorno mental não especificado           155.534573   \n",
       " _Grand Total                                          5976.693271   \n",
       " __Atendimentos na APS (exceto saúde mental)         100602.455367   \n",
       " \n",
       "                                                        2016-02-01  \\\n",
       " F00-F09 - Transtornos mentais orgânicos, inclus...     193.690601   \n",
       " F20-F29 - Esquizofrenia, transtornos esquizotíp...     484.309554   \n",
       " F30-F39 - Transtornos do humor [afetivos]             3339.002558   \n",
       " F40-F48 - Transtornos neuróticos, transtornos r...    1115.486166   \n",
       " F50-F59 - Síndromes comportamentais associadas ...     108.022302   \n",
       " F60-F69 - Transtornos da personalidade e do com...      40.752835   \n",
       " F70-F79 - Retardo mental                               203.032119   \n",
       " F80-F89 - Transtornos do desenvolvimento psicol...      49.147998   \n",
       " F90-F98 - Transtornos do comportamento e transt...     257.164101   \n",
       " F99-F99 - Transtorno mental não especificado           153.477347   \n",
       " _Grand Total                                          5971.581907   \n",
       " __Atendimentos na APS (exceto saúde mental)         101493.770519   \n",
       " \n",
       "                                                        2016-03-01  \\\n",
       " F00-F09 - Transtornos mentais orgânicos, inclus...     193.939444   \n",
       " F20-F29 - Esquizofrenia, transtornos esquizotíp...     482.841528   \n",
       " F30-F39 - Transtornos do humor [afetivos]             3323.077730   \n",
       " F40-F48 - Transtornos neuróticos, transtornos r...    1123.698222   \n",
       " F50-F59 - Síndromes comportamentais associadas ...     107.956864   \n",
       " F60-F69 - Transtornos da personalidade e do com...      41.368876   \n",
       " F70-F79 - Retardo mental                               202.625497   \n",
       " F80-F89 - Transtornos do desenvolvimento psicol...      52.364511   \n",
       " F90-F98 - Transtornos do comportamento e transt...     259.171603   \n",
       " F99-F99 - Transtorno mental não especificado           151.420121   \n",
       " _Grand Total                                          5966.470543   \n",
       " __Atendimentos na APS (exceto saúde mental)         102385.085670   \n",
       " \n",
       "                                                        2016-04-01  \\\n",
       " F00-F09 - Transtornos mentais orgânicos, inclus...     194.188287   \n",
       " F20-F29 - Esquizofrenia, transtornos esquizotíp...     481.373502   \n",
       " F30-F39 - Transtornos do humor [afetivos]             3307.152903   \n",
       " F40-F48 - Transtornos neuróticos, transtornos r...    1131.910278   \n",
       " F50-F59 - Síndromes comportamentais associadas ...     107.891425   \n",
       " F60-F69 - Transtornos da personalidade e do com...      41.984917   \n",
       " F70-F79 - Retardo mental                               202.218875   \n",
       " F80-F89 - Transtornos do desenvolvimento psicol...      55.581023   \n",
       " F90-F98 - Transtornos do comportamento e transt...     261.179106   \n",
       " F99-F99 - Transtorno mental não especificado           149.362896   \n",
       " _Grand Total                                          5961.359178   \n",
       " __Atendimentos na APS (exceto saúde mental)         103276.400822   \n",
       " \n",
       "                                                        2016-05-01  \\\n",
       " F00-F09 - Transtornos mentais orgânicos, inclus...     194.437130   \n",
       " F20-F29 - Esquizofrenia, transtornos esquizotíp...     479.905476   \n",
       " F30-F39 - Transtornos do humor [afetivos]             3291.228075   \n",
       " F40-F48 - Transtornos neuróticos, transtornos r...    1140.122335   \n",
       " F50-F59 - Síndromes comportamentais associadas ...     107.825987   \n",
       " F60-F69 - Transtornos da personalidade e do com...      42.600958   \n",
       " F70-F79 - Retardo mental                               201.812253   \n",
       " F80-F89 - Transtornos do desenvolvimento psicol...      58.797535   \n",
       " F90-F98 - Transtornos do comportamento e transt...     263.186608   \n",
       " F99-F99 - Transtorno mental não especificado           147.305670   \n",
       " _Grand Total                                          5956.247814   \n",
       " __Atendimentos na APS (exceto saúde mental)         104167.715973   \n",
       " \n",
       "                                                        2016-06-01  \\\n",
       " F00-F09 - Transtornos mentais orgânicos, inclus...     194.685972   \n",
       " F20-F29 - Esquizofrenia, transtornos esquizotíp...     478.437450   \n",
       " F30-F39 - Transtornos do humor [afetivos]             3275.303247   \n",
       " F40-F48 - Transtornos neuróticos, transtornos r...    1148.334391   \n",
       " F50-F59 - Síndromes comportamentais associadas ...     107.760549   \n",
       " F60-F69 - Transtornos da personalidade e do com...      43.216999   \n",
       " F70-F79 - Retardo mental                               201.405631   \n",
       " F80-F89 - Transtornos do desenvolvimento psicol...      62.014047   \n",
       " F90-F98 - Transtornos do comportamento e transt...     265.194110   \n",
       " F99-F99 - Transtorno mental não especificado           145.248444   \n",
       " _Grand Total                                          5951.136450   \n",
       " __Atendimentos na APS (exceto saúde mental)         105059.031125   \n",
       " \n",
       "                                                        2016-07-01  \\\n",
       " F00-F09 - Transtornos mentais orgânicos, inclus...     194.934815   \n",
       " F20-F29 - Esquizofrenia, transtornos esquizotíp...     476.969424   \n",
       " F30-F39 - Transtornos do humor [afetivos]             3259.378420   \n",
       " F40-F48 - Transtornos neuróticos, transtornos r...    1156.546447   \n",
       " F50-F59 - Síndromes comportamentais associadas ...     107.695111   \n",
       " F60-F69 - Transtornos da personalidade e do com...      43.833040   \n",
       " F70-F79 - Retardo mental                               200.999010   \n",
       " F80-F89 - Transtornos do desenvolvimento psicol...      65.230560   \n",
       " F90-F98 - Transtornos do comportamento e transt...     267.201612   \n",
       " F99-F99 - Transtorno mental não especificado           143.191219   \n",
       " _Grand Total                                          5946.025086   \n",
       " __Atendimentos na APS (exceto saúde mental)         105950.346276   \n",
       " \n",
       "                                                        2016-08-01  \\\n",
       " F00-F09 - Transtornos mentais orgânicos, inclus...     195.183658   \n",
       " F20-F29 - Esquizofrenia, transtornos esquizotíp...     475.501398   \n",
       " F30-F39 - Transtornos do humor [afetivos]             3243.453592   \n",
       " F40-F48 - Transtornos neuróticos, transtornos r...    1164.758503   \n",
       " F50-F59 - Síndromes comportamentais associadas ...     107.629673   \n",
       " F60-F69 - Transtornos da personalidade e do com...      44.449081   \n",
       " F70-F79 - Retardo mental                               200.592388   \n",
       " F80-F89 - Transtornos do desenvolvimento psicol...      68.447072   \n",
       " F90-F98 - Transtornos do comportamento e transt...     269.209114   \n",
       " F99-F99 - Transtorno mental não especificado           141.133993   \n",
       " _Grand Total                                          5940.913721   \n",
       " __Atendimentos na APS (exceto saúde mental)         106841.661428   \n",
       " \n",
       "                                                        2016-09-01  \\\n",
       " F00-F09 - Transtornos mentais orgânicos, inclus...     195.432501   \n",
       " F20-F29 - Esquizofrenia, transtornos esquizotíp...     474.033373   \n",
       " F30-F39 - Transtornos do humor [afetivos]             3227.528765   \n",
       " F40-F48 - Transtornos neuróticos, transtornos r...    1172.970559   \n",
       " F50-F59 - Síndromes comportamentais associadas ...     107.564235   \n",
       " F60-F69 - Transtornos da personalidade e do com...      45.065122   \n",
       " F70-F79 - Retardo mental                               200.185766   \n",
       " F80-F89 - Transtornos do desenvolvimento psicol...      71.663584   \n",
       " F90-F98 - Transtornos do comportamento e transt...     271.216617   \n",
       " F99-F99 - Transtorno mental não especificado           139.076767   \n",
       " _Grand Total                                          5935.802357   \n",
       " __Atendimentos na APS (exceto saúde mental)         107732.976579   \n",
       " \n",
       "                                                        2016-10-01  ...  \\\n",
       " F00-F09 - Transtornos mentais orgânicos, inclus...     195.681344  ...   \n",
       " F20-F29 - Esquizofrenia, transtornos esquizotíp...     472.565347  ...   \n",
       " F30-F39 - Transtornos do humor [afetivos]             3211.603937  ...   \n",
       " F40-F48 - Transtornos neuróticos, transtornos r...    1181.182616  ...   \n",
       " F50-F59 - Síndromes comportamentais associadas ...     107.498797  ...   \n",
       " F60-F69 - Transtornos da personalidade e do com...      45.681163  ...   \n",
       " F70-F79 - Retardo mental                               199.779144  ...   \n",
       " F80-F89 - Transtornos do desenvolvimento psicol...      74.880096  ...   \n",
       " F90-F98 - Transtornos do comportamento e transt...     273.224119  ...   \n",
       " F99-F99 - Transtorno mental não especificado           137.019542  ...   \n",
       " _Grand Total                                          5930.690993  ...   \n",
       " __Atendimentos na APS (exceto saúde mental)         108624.291731  ...   \n",
       " \n",
       "                                                        2024-03-01  \\\n",
       " F00-F09 - Transtornos mentais orgânicos, inclus...     217.828356   \n",
       " F20-F29 - Esquizofrenia, transtornos esquizotíp...     341.911042   \n",
       " F30-F39 - Transtornos do humor [afetivos]             1794.294284   \n",
       " F40-F48 - Transtornos neuróticos, transtornos r...    1912.055617   \n",
       " F50-F59 - Síndromes comportamentais associadas ...     101.674805   \n",
       " F60-F69 - Transtornos da personalidade e do com...     100.508814   \n",
       " F70-F79 - Retardo mental                               163.589792   \n",
       " F80-F89 - Transtornos do desenvolvimento psicol...     361.149689   \n",
       " F90-F98 - Transtornos do comportamento e transt...     451.891818   \n",
       " F99-F99 - Transtorno mental não especificado           -46.073542   \n",
       " _Grand Total                                          5475.779574   \n",
       " __Atendimentos na APS (exceto saúde mental)         187951.340216   \n",
       " \n",
       "                                                        2024-04-01  \\\n",
       " F00-F09 - Transtornos mentais orgânicos, inclus...     218.077199   \n",
       " F20-F29 - Esquizofrenia, transtornos esquizotíp...     340.443017   \n",
       " F30-F39 - Transtornos do humor [afetivos]             1778.369456   \n",
       " F40-F48 - Transtornos neuróticos, transtornos r...    1920.267674   \n",
       " F50-F59 - Síndromes comportamentais associadas ...     101.609366   \n",
       " F60-F69 - Transtornos da personalidade e do com...     101.124855   \n",
       " F70-F79 - Retardo mental                               163.183170   \n",
       " F80-F89 - Transtornos do desenvolvimento psicol...     364.366201   \n",
       " F90-F98 - Transtornos do comportamento e transt...     453.899321   \n",
       " F99-F99 - Transtorno mental não especificado           -48.130768   \n",
       " _Grand Total                                          5470.668210   \n",
       " __Atendimentos na APS (exceto saúde mental)         188842.655368   \n",
       " \n",
       "                                                        2024-05-01  \\\n",
       " F00-F09 - Transtornos mentais orgânicos, inclus...     218.326042   \n",
       " F20-F29 - Esquizofrenia, transtornos esquizotíp...     338.974991   \n",
       " F30-F39 - Transtornos do humor [afetivos]             1762.444629   \n",
       " F40-F48 - Transtornos neuróticos, transtornos r...    1928.479730   \n",
       " F50-F59 - Síndromes comportamentais associadas ...     101.543928   \n",
       " F60-F69 - Transtornos da personalidade e do com...     101.740896   \n",
       " F70-F79 - Retardo mental                               162.776548   \n",
       " F80-F89 - Transtornos do desenvolvimento psicol...     367.582713   \n",
       " F90-F98 - Transtornos do comportamento e transt...     455.906823   \n",
       " F99-F99 - Transtorno mental não especificado           -50.187994   \n",
       " _Grand Total                                          5465.556845   \n",
       " __Atendimentos na APS (exceto saúde mental)         189733.970519   \n",
       " \n",
       "                                                        2024-06-01  \\\n",
       " F00-F09 - Transtornos mentais orgânicos, inclus...     218.574885   \n",
       " F20-F29 - Esquizofrenia, transtornos esquizotíp...     337.506965   \n",
       " F30-F39 - Transtornos do humor [afetivos]             1746.519801   \n",
       " F40-F48 - Transtornos neuróticos, transtornos r...    1936.691786   \n",
       " F50-F59 - Síndromes comportamentais associadas ...     101.478490   \n",
       " F60-F69 - Transtornos da personalidade e do com...     102.356937   \n",
       " F70-F79 - Retardo mental                               162.369926   \n",
       " F80-F89 - Transtornos do desenvolvimento psicol...     370.799226   \n",
       " F90-F98 - Transtornos do comportamento e transt...     457.914325   \n",
       " F99-F99 - Transtorno mental não especificado           -52.245219   \n",
       " _Grand Total                                          5460.445481   \n",
       " __Atendimentos na APS (exceto saúde mental)         190625.285671   \n",
       " \n",
       "                                                        2024-07-01  \\\n",
       " F00-F09 - Transtornos mentais orgânicos, inclus...     218.823727   \n",
       " F20-F29 - Esquizofrenia, transtornos esquizotíp...     336.038939   \n",
       " F30-F39 - Transtornos do humor [afetivos]             1730.594974   \n",
       " F40-F48 - Transtornos neuróticos, transtornos r...    1944.903842   \n",
       " F50-F59 - Síndromes comportamentais associadas ...     101.413052   \n",
       " F60-F69 - Transtornos da personalidade e do com...     102.972978   \n",
       " F70-F79 - Retardo mental                               161.963304   \n",
       " F80-F89 - Transtornos do desenvolvimento psicol...     374.015738   \n",
       " F90-F98 - Transtornos do comportamento e transt...     459.921827   \n",
       " F99-F99 - Transtorno mental não especificado           -54.302445   \n",
       " _Grand Total                                          5455.334117   \n",
       " __Atendimentos na APS (exceto saúde mental)         191516.600823   \n",
       " \n",
       "                                                        2024-08-01  \\\n",
       " F00-F09 - Transtornos mentais orgânicos, inclus...     219.072570   \n",
       " F20-F29 - Esquizofrenia, transtornos esquizotíp...     334.570913   \n",
       " F30-F39 - Transtornos do humor [afetivos]             1714.670146   \n",
       " F40-F48 - Transtornos neuróticos, transtornos r...    1953.115898   \n",
       " F50-F59 - Síndromes comportamentais associadas ...     101.347614   \n",
       " F60-F69 - Transtornos da personalidade e do com...     103.589019   \n",
       " F70-F79 - Retardo mental                               161.556682   \n",
       " F80-F89 - Transtornos do desenvolvimento psicol...     377.232250   \n",
       " F90-F98 - Transtornos do comportamento e transt...     461.929329   \n",
       " F99-F99 - Transtorno mental não especificado           -56.359671   \n",
       " _Grand Total                                          5450.222753   \n",
       " __Atendimentos na APS (exceto saúde mental)         192407.915974   \n",
       " \n",
       "                                                        2024-09-01  \\\n",
       " F00-F09 - Transtornos mentais orgânicos, inclus...     219.321413   \n",
       " F20-F29 - Esquizofrenia, transtornos esquizotíp...     333.102887   \n",
       " F30-F39 - Transtornos do humor [afetivos]             1698.745318   \n",
       " F40-F48 - Transtornos neuróticos, transtornos r...    1961.327955   \n",
       " F50-F59 - Síndromes comportamentais associadas ...     101.282176   \n",
       " F60-F69 - Transtornos da personalidade e do com...     104.205060   \n",
       " F70-F79 - Retardo mental                               161.150060   \n",
       " F80-F89 - Transtornos do desenvolvimento psicol...     380.448762   \n",
       " F90-F98 - Transtornos do comportamento e transt...     463.936832   \n",
       " F99-F99 - Transtorno mental não especificado           -58.416896   \n",
       " _Grand Total                                          5445.111388   \n",
       " __Atendimentos na APS (exceto saúde mental)         193299.231126   \n",
       " \n",
       "                                                        2024-10-01  \\\n",
       " F00-F09 - Transtornos mentais orgânicos, inclus...     219.570256   \n",
       " F20-F29 - Esquizofrenia, transtornos esquizotíp...     331.634861   \n",
       " F30-F39 - Transtornos do humor [afetivos]             1682.820491   \n",
       " F40-F48 - Transtornos neuróticos, transtornos r...    1969.540011   \n",
       " F50-F59 - Síndromes comportamentais associadas ...     101.216738   \n",
       " F60-F69 - Transtornos da personalidade e do com...     104.821101   \n",
       " F70-F79 - Retardo mental                               160.743438   \n",
       " F80-F89 - Transtornos do desenvolvimento psicol...     383.665275   \n",
       " F90-F98 - Transtornos do comportamento e transt...     465.944334   \n",
       " F99-F99 - Transtorno mental não especificado           -60.474122   \n",
       " _Grand Total                                          5440.000024   \n",
       " __Atendimentos na APS (exceto saúde mental)         194190.546277   \n",
       " \n",
       "                                                        2024-11-01  \\\n",
       " F00-F09 - Transtornos mentais orgânicos, inclus...     219.819099   \n",
       " F20-F29 - Esquizofrenia, transtornos esquizotíp...     330.166835   \n",
       " F30-F39 - Transtornos do humor [afetivos]             1666.895663   \n",
       " F40-F48 - Transtornos neuróticos, transtornos r...    1977.752067   \n",
       " F50-F59 - Síndromes comportamentais associadas ...     101.151300   \n",
       " F60-F69 - Transtornos da personalidade e do com...     105.437142   \n",
       " F70-F79 - Retardo mental                               160.336816   \n",
       " F80-F89 - Transtornos do desenvolvimento psicol...     386.881787   \n",
       " F90-F98 - Transtornos do comportamento e transt...     467.951836   \n",
       " F99-F99 - Transtorno mental não especificado           -62.531348   \n",
       " _Grand Total                                          5434.888660   \n",
       " __Atendimentos na APS (exceto saúde mental)         195081.861429   \n",
       " \n",
       "                                                        2024-12-01  \n",
       " F00-F09 - Transtornos mentais orgânicos, inclus...     220.067942  \n",
       " F20-F29 - Esquizofrenia, transtornos esquizotíp...     328.698809  \n",
       " F30-F39 - Transtornos do humor [afetivos]             1650.970836  \n",
       " F40-F48 - Transtornos neuróticos, transtornos r...    1985.964123  \n",
       " F50-F59 - Síndromes comportamentais associadas ...     101.085862  \n",
       " F60-F69 - Transtornos da personalidade e do com...     106.053183  \n",
       " F70-F79 - Retardo mental                               159.930194  \n",
       " F80-F89 - Transtornos do desenvolvimento psicol...     390.098299  \n",
       " F90-F98 - Transtornos do comportamento e transt...     469.959338  \n",
       " F99-F99 - Transtorno mental não especificado           -64.588573  \n",
       " _Grand Total                                          5429.777296  \n",
       " __Atendimentos na APS (exceto saúde mental)         195973.176580  \n",
       " \n",
       " [12 rows x 108 columns],\n",
       " 'Metadata':                         key                                              value\n",
       " 0                 DateRange                                       [2016, 2024]\n",
       " 1        FrequencyDateGroup                                                  M\n",
       " 2          RegressionMethod                                      prais_winsten\n",
       " 3              ModelFormula  valores~periodo + month_2 + month_3 + month_4 ...\n",
       " 4                 DummyArgs  {'Step_PosPandemia': {'start_date': '2020-08-0...\n",
       " 5              IterativeFit                                               True\n",
       " 6             MaxIterations                                                100\n",
       " 7           CriterioBestRho                                                aic\n",
       " 8            best_rho_range                                  [-1.0, 1.0, 0.01]\n",
       " 9                   CovType                                                HAC\n",
       " 10                CovKwargs                                     {'maxlags': 6}\n",
       " 11               ARIMAOrder                                          (1, 0, 0)\n",
       " 12  additional_dates_factor                                                0.0\n",
       " 13               DoChowTest                                               True}"
      ]
     },
     "execution_count": 306,
     "metadata": {},
     "output_type": "execute_result"
    }
   ],
   "source": [
    "exported_dfs"
   ]
  },
  {
   "cell_type": "markdown",
   "metadata": {
    "id": "zH9i6dotzLe5"
   },
   "source": [
    "# Define Hover Graph Func\n"
   ]
  },
  {
   "cell_type": "code",
   "execution_count": 307,
   "metadata": {},
   "outputs": [],
   "source": [
    "import plotly.graph_objects as go\n",
    "\n",
    "def plot_all_variables(dates, real_data, regression_stats, dummy_stats):\n",
    "    \"\"\"\n",
    "    Iterates over variables and applies the plot_with_dummy_components function.\n",
    "\n",
    "    Args:\n",
    "        dates: Array of T datetimes.\n",
    "        real_data: DataFrame where each row corresponds to a variable's real series.\n",
    "        regression_stats: DataFrame containing regression statistics (e.g., intercept, slope).\n",
    "        dummy_stats: DataFrame containing dummy variable coefficients (e.g., pulse_coef, slope_change_coef).\n",
    "        pandemic_start_idx: Integer index where the pandemic starts (0-based).\n",
    "        second_lockdown_start_idx: Integer index where the second lockdown starts (0-based).\n",
    "        second_lockdown_end_idx: Integer index where the second lockdown ends (0-based).\n",
    "    \"\"\"\n",
    "    for variable in real_data.index:  # Iterate over each variable (row) in real_data\n",
    "        print(f\"Processing variable: {variable}\")\n",
    "\n",
    "        # Extract data for the current variable\n",
    "        real_series = real_data.loc[variable].values\n",
    "        intercept = regression_stats.loc[variable, 'intercept']\n",
    "        slope = regression_stats.loc[variable, 'slope']\n",
    "\n",
    "        # Extract dummy coefficients for the current variable\n",
    "        variable_dummy_stats = dummy_stats.loc[variable]\n",
    "\n",
    "        # Call the plot function for the current variable\n",
    "        plot_with_all_dummies(\n",
    "            title = variable,\n",
    "            dates=dates,\n",
    "            real_series=real_series,\n",
    "            regression_stats={'slope': slope, 'intercept': intercept},\n",
    "            dummy_indexes=DummyIndexes,\n",
    "            dummy_stats=variable_dummy_stats,\n",
    "            dummy_args=DUMMY_ARGS\n",
    "        )\n",
    "\n",
    "def plot_with_all_dummies(title, dates, real_series, regression_stats, dummy_indexes, dummy_stats, dummy_args=DUMMY_ARGS):\n",
    "    \"\"\"\n",
    "    Plots the real series, baseline regression, and dummy effects dynamically using DummyIndexes and DUMMY_ARGS.\n",
    "\n",
    "    Args:\n",
    "        dates: Array of datetime objects.\n",
    "        real_series: Real data series (array-like).\n",
    "        regression_stats: Dictionary containing regression coefficients (e.g., intercept, slope).\n",
    "        dummy_indexes: Dictionary containing start and end indexes for each dummy.\n",
    "        dummy_stats: Dictionary containing dummy variable coefficients.\n",
    "        dummy_args: Dictionary containing dummy variable configurations (e.g., add_time_trend).\n",
    "    \"\"\"\n",
    "    # Extract regression coefficients\n",
    "    intercept = regression_stats.get(\"intercept\", 0)\n",
    "    slope = regression_stats.get(\"slope\", 0)\n",
    "\n",
    "\n",
    "    # Build numeric time index\n",
    "    t = np.arange(len(dates)) + 1  # 1, 2, ..., T\n",
    "\n",
    "    # Compute baseline\n",
    "    baseline = intercept + slope * t\n",
    "\n",
    "    # Initialize the full prediction with the baseline\n",
    "    full_pred = baseline.copy()\n",
    "\n",
    "    # Create the figure\n",
    "    fig = go.Figure()\n",
    "\n",
    "    # Add the real series\n",
    "    fig.add_trace(go.Scatter(\n",
    "        x=dates,\n",
    "        y=real_series,\n",
    "        mode='markers',\n",
    "        name='Real',\n",
    "        marker=dict(color='blue')\n",
    "    ))\n",
    "\n",
    "    # Add the baseline\n",
    "    fig.add_trace(go.Scatter(\n",
    "        x=dates,\n",
    "        y=baseline,\n",
    "        mode='lines',\n",
    "        name='Baseline',\n",
    "        line=dict(dash='dot', color='black')\n",
    "    ))\n",
    "\n",
    "    # Add dummy effects dynamically\n",
    "    dummy_effects = {}\n",
    "    for dummy_name, indexes in dummy_indexes.items():\n",
    "        start_idx = indexes.get(\"start_index\")\n",
    "        end_idx = indexes.get(\"end_index\")\n",
    "        coef = dummy_stats.get(f\"{dummy_name}___coef\", 0)\n",
    "        dummy_config = dummy_args.get(dummy_name, {})\n",
    "\n",
    "        if start_idx is not None and end_idx is not None:\n",
    "            # Check if the dummy has a time trend\n",
    "            if dummy_config.get(\"add_time_trend\", False):\n",
    "\n",
    "                time_since = np.where(t > (start_idx ), t - (start_idx ), 0)\n",
    "                trend_effect = np.zeros_like(t)\n",
    "                for i, period in enumerate(time_since):\n",
    "                    trend_effect[i] = coef * period if start_idx <= i <= end_idx else 0\n",
    "\n",
    "                if dummy_config.get(\"keep_period_index\", False):\n",
    "                    baseline_copy = np.zeros_like(baseline)  # Initialize with zeros\n",
    "                    baseline_copy[start_idx:] = baseline[start_idx:]  # Copy baseline values only from start_idx onward\n",
    "                \n",
    "                    # Add the trend effect to the adjusted baseline copy\n",
    "                    trend_effect = trend_effect + baseline_copy\n",
    "                \n",
    "\n",
    "                full_pred += trend_effect\n",
    "                dummy_effects[dummy_name] = trend_effect\n",
    "            else:\n",
    "                # Create the dummy effect\n",
    "                dummy_effect = np.zeros_like(t)\n",
    "                dummy_effect[start_idx:end_idx + 1] = coef\n",
    "                full_pred += dummy_effect\n",
    "                dummy_effects[dummy_name] = dummy_effect\n",
    "\n",
    "            \n",
    "\n",
    "            # Highlight the dummy period on the graph\n",
    "            fig.add_shape(\n",
    "                type=\"rect\",\n",
    "                x0=dates[start_idx],\n",
    "                x1=dates[end_idx],\n",
    "                y0=0,\n",
    "                y1=1,\n",
    "                xref=\"x\",\n",
    "                yref=\"paper\",\n",
    "                fillcolor=\"Grey\" if dummy_config.get(\"add_time_trend\", False) else \"White\" if dummy_config.get(\"step\", False) else \"LightSalmon\",\n",
    "                opacity=0.3,\n",
    "                layer=\"below\",\n",
    "                line_width=0,\n",
    "            )\n",
    "\n",
    "            # Add a trace for the dummy effect\n",
    "            if dummy_config.get(\"plot\", False):\n",
    "               if dummy_config.get('step', False):\n",
    "                   fig.add_trace(go.Scatter(\n",
    "                       x=dates[start_idx:end_idx + 1],\n",
    "                       y=baseline[start_idx:end_idx + 1] + dummy_effect[start_idx:end_idx + 1],\n",
    "                       mode='lines',\n",
    "                       line=dict(width=1, dash='dash', color='black'),\n",
    "                       fill='tonexty',\n",
    "                       fillcolor='rgba(0, 0, 0, 0)',  # Red with transparency\n",
    "                       name=f\"{dummy_name} Effect\"\n",
    "                   ))\n",
    "               else:\n",
    "                    fig.add_trace(go.Scatter(\n",
    "                        x=dates,\n",
    "                        y=full_pred,\n",
    "                        mode='lines',\n",
    "                        name=f\"{dummy_name} Effect\",\n",
    "                        line=dict(dash='solid')\n",
    "                    ))\n",
    "\n",
    "    # Update layout\n",
    "    fig.update_layout(\n",
    "        title=title,\n",
    "        xaxis_title=\"Time\",\n",
    "        yaxis_title=\"Value\",\n",
    "        legend_title=\"Legend\"\n",
    "    )\n",
    "\n",
    "    # Show the figure\n",
    "    fig.show()\n",
    "    return {\n",
    "        \"dates\": dates,\n",
    "        \"real_series\": real_series,\n",
    "        \"baseline\": baseline,\n",
    "        \"dummy_effects\": dummy_effects,\n",
    "        \"full_prediction\": full_pred\n",
    "    }\n",
    "\n"
   ]
  },
  {
   "cell_type": "markdown",
   "metadata": {
    "id": "Ho9rajq8zXI6"
   },
   "source": [
    "# PLOT --- Hover Graph\n"
   ]
  },
  {
   "cell_type": "markdown",
   "metadata": {},
   "source": [
    "janeiro de 2022 OQ ACONTECEU?"
   ]
  },
  {
   "cell_type": "markdown",
   "metadata": {},
   "source": [
    "TODO: IMPORTANT!!!! Review the process of drawing the full model line!"
   ]
  },
  {
   "cell_type": "markdown",
   "metadata": {},
   "source": [
    "TODO: Fazer slope em relação a media\n"
   ]
  },
  {
   "cell_type": "code",
   "execution_count": 308,
   "metadata": {},
   "outputs": [
    {
     "name": "stdout",
     "output_type": "stream",
     "text": [
      "Processing variable: F00-F09 - Transtornos mentais orgânicos, inclusive os sintomáticos\n"
     ]
    },
    {
     "data": {
      "application/vnd.plotly.v1+json": {
       "config": {
        "plotlyServerURL": "https://plot.ly"
       },
       "data": [
        {
         "marker": {
          "color": "blue"
         },
         "mode": "markers",
         "name": "Real",
         "type": "scatter",
         "x": [
          "2016-01-01T00:00:00",
          "2016-02-01T00:00:00",
          "2016-03-01T00:00:00",
          "2016-04-01T00:00:00",
          "2016-05-01T00:00:00",
          "2016-06-01T00:00:00",
          "2016-07-01T00:00:00",
          "2016-08-01T00:00:00",
          "2016-09-01T00:00:00",
          "2016-10-01T00:00:00",
          "2016-11-01T00:00:00",
          "2016-12-01T00:00:00",
          "2017-01-01T00:00:00",
          "2017-02-01T00:00:00",
          "2017-03-01T00:00:00",
          "2017-04-01T00:00:00",
          "2017-05-01T00:00:00",
          "2017-06-01T00:00:00",
          "2017-07-01T00:00:00",
          "2017-08-01T00:00:00",
          "2017-09-01T00:00:00",
          "2017-10-01T00:00:00",
          "2017-11-01T00:00:00",
          "2017-12-01T00:00:00",
          "2018-01-01T00:00:00",
          "2018-02-01T00:00:00",
          "2018-03-01T00:00:00",
          "2018-04-01T00:00:00",
          "2018-05-01T00:00:00",
          "2018-06-01T00:00:00",
          "2018-07-01T00:00:00",
          "2018-08-01T00:00:00",
          "2018-09-01T00:00:00",
          "2018-10-01T00:00:00",
          "2018-11-01T00:00:00",
          "2018-12-01T00:00:00",
          "2019-01-01T00:00:00",
          "2019-02-01T00:00:00",
          "2019-03-01T00:00:00",
          "2019-04-01T00:00:00",
          "2019-05-01T00:00:00",
          "2019-06-01T00:00:00",
          "2019-07-01T00:00:00",
          "2019-08-01T00:00:00",
          "2019-09-01T00:00:00",
          "2019-10-01T00:00:00",
          "2019-11-01T00:00:00",
          "2019-12-01T00:00:00",
          "2020-01-01T00:00:00",
          "2020-02-01T00:00:00",
          "2020-03-01T00:00:00",
          "2020-04-01T00:00:00",
          "2020-05-01T00:00:00",
          "2020-06-01T00:00:00",
          "2020-07-01T00:00:00",
          "2020-08-01T00:00:00",
          "2020-09-01T00:00:00",
          "2020-10-01T00:00:00",
          "2020-11-01T00:00:00",
          "2020-12-01T00:00:00",
          "2021-01-01T00:00:00",
          "2021-02-01T00:00:00",
          "2021-03-01T00:00:00",
          "2021-04-01T00:00:00",
          "2021-05-01T00:00:00",
          "2021-06-01T00:00:00",
          "2021-07-01T00:00:00",
          "2021-08-01T00:00:00",
          "2021-09-01T00:00:00",
          "2021-10-01T00:00:00",
          "2021-11-01T00:00:00",
          "2021-12-01T00:00:00",
          "2022-01-01T00:00:00",
          "2022-02-01T00:00:00",
          "2022-03-01T00:00:00",
          "2022-04-01T00:00:00",
          "2022-05-01T00:00:00",
          "2022-06-01T00:00:00",
          "2022-07-01T00:00:00",
          "2022-08-01T00:00:00",
          "2022-09-01T00:00:00",
          "2022-10-01T00:00:00",
          "2022-11-01T00:00:00",
          "2022-12-01T00:00:00",
          "2023-01-01T00:00:00",
          "2023-02-01T00:00:00",
          "2023-03-01T00:00:00",
          "2023-04-01T00:00:00",
          "2023-05-01T00:00:00",
          "2023-06-01T00:00:00",
          "2023-07-01T00:00:00",
          "2023-08-01T00:00:00",
          "2023-09-01T00:00:00",
          "2023-10-01T00:00:00",
          "2023-11-01T00:00:00",
          "2023-12-01T00:00:00",
          "2024-01-01T00:00:00",
          "2024-02-01T00:00:00",
          "2024-03-01T00:00:00",
          "2024-04-01T00:00:00",
          "2024-05-01T00:00:00",
          "2024-06-01T00:00:00",
          "2024-07-01T00:00:00",
          "2024-08-01T00:00:00",
          "2024-09-01T00:00:00",
          "2024-10-01T00:00:00",
          "2024-11-01T00:00:00",
          "2024-12-01T00:00:00"
         ],
         "y": [
          109,
          145,
          193,
          164,
          197,
          210,
          271,
          305,
          242,
          245,
          175,
          172,
          159,
          165,
          262,
          191,
          229,
          254,
          189,
          193,
          199,
          208,
          218,
          189,
          205,
          161,
          242,
          223,
          252,
          258,
          222,
          261,
          223,
          286,
          249,
          200,
          267,
          235,
          252,
          234,
          266,
          208,
          264,
          244,
          170,
          207,
          159,
          155,
          208,
          194,
          166,
          152,
          177,
          217,
          207,
          202,
          254,
          233,
          219,
          257,
          255,
          228,
          237,
          136,
          69,
          332,
          376,
          350,
          358,
          356,
          308,
          347,
          206,
          287,
          381,
          294,
          391,
          368,
          348,
          381,
          383,
          389,
          418,
          359,
          422,
          362,
          428,
          368,
          468,
          399,
          442,
          493,
          399,
          490,
          462,
          484,
          451,
          379,
          448,
          507,
          359,
          499,
          603,
          551,
          500,
          669,
          563,
          532
         ]
        },
        {
         "line": {
          "color": "black",
          "dash": "dot"
         },
         "mode": "lines",
         "name": "Baseline",
         "type": "scatter",
         "x": [
          "2016-01-01T00:00:00",
          "2016-02-01T00:00:00",
          "2016-03-01T00:00:00",
          "2016-04-01T00:00:00",
          "2016-05-01T00:00:00",
          "2016-06-01T00:00:00",
          "2016-07-01T00:00:00",
          "2016-08-01T00:00:00",
          "2016-09-01T00:00:00",
          "2016-10-01T00:00:00",
          "2016-11-01T00:00:00",
          "2016-12-01T00:00:00",
          "2017-01-01T00:00:00",
          "2017-02-01T00:00:00",
          "2017-03-01T00:00:00",
          "2017-04-01T00:00:00",
          "2017-05-01T00:00:00",
          "2017-06-01T00:00:00",
          "2017-07-01T00:00:00",
          "2017-08-01T00:00:00",
          "2017-09-01T00:00:00",
          "2017-10-01T00:00:00",
          "2017-11-01T00:00:00",
          "2017-12-01T00:00:00",
          "2018-01-01T00:00:00",
          "2018-02-01T00:00:00",
          "2018-03-01T00:00:00",
          "2018-04-01T00:00:00",
          "2018-05-01T00:00:00",
          "2018-06-01T00:00:00",
          "2018-07-01T00:00:00",
          "2018-08-01T00:00:00",
          "2018-09-01T00:00:00",
          "2018-10-01T00:00:00",
          "2018-11-01T00:00:00",
          "2018-12-01T00:00:00",
          "2019-01-01T00:00:00",
          "2019-02-01T00:00:00",
          "2019-03-01T00:00:00",
          "2019-04-01T00:00:00",
          "2019-05-01T00:00:00",
          "2019-06-01T00:00:00",
          "2019-07-01T00:00:00",
          "2019-08-01T00:00:00",
          "2019-09-01T00:00:00",
          "2019-10-01T00:00:00",
          "2019-11-01T00:00:00",
          "2019-12-01T00:00:00",
          "2020-01-01T00:00:00",
          "2020-02-01T00:00:00",
          "2020-03-01T00:00:00",
          "2020-04-01T00:00:00",
          "2020-05-01T00:00:00",
          "2020-06-01T00:00:00",
          "2020-07-01T00:00:00",
          "2020-08-01T00:00:00",
          "2020-09-01T00:00:00",
          "2020-10-01T00:00:00",
          "2020-11-01T00:00:00",
          "2020-12-01T00:00:00",
          "2021-01-01T00:00:00",
          "2021-02-01T00:00:00",
          "2021-03-01T00:00:00",
          "2021-04-01T00:00:00",
          "2021-05-01T00:00:00",
          "2021-06-01T00:00:00",
          "2021-07-01T00:00:00",
          "2021-08-01T00:00:00",
          "2021-09-01T00:00:00",
          "2021-10-01T00:00:00",
          "2021-11-01T00:00:00",
          "2021-12-01T00:00:00",
          "2022-01-01T00:00:00",
          "2022-02-01T00:00:00",
          "2022-03-01T00:00:00",
          "2022-04-01T00:00:00",
          "2022-05-01T00:00:00",
          "2022-06-01T00:00:00",
          "2022-07-01T00:00:00",
          "2022-08-01T00:00:00",
          "2022-09-01T00:00:00",
          "2022-10-01T00:00:00",
          "2022-11-01T00:00:00",
          "2022-12-01T00:00:00",
          "2023-01-01T00:00:00",
          "2023-02-01T00:00:00",
          "2023-03-01T00:00:00",
          "2023-04-01T00:00:00",
          "2023-05-01T00:00:00",
          "2023-06-01T00:00:00",
          "2023-07-01T00:00:00",
          "2023-08-01T00:00:00",
          "2023-09-01T00:00:00",
          "2023-10-01T00:00:00",
          "2023-11-01T00:00:00",
          "2023-12-01T00:00:00",
          "2024-01-01T00:00:00",
          "2024-02-01T00:00:00",
          "2024-03-01T00:00:00",
          "2024-04-01T00:00:00",
          "2024-05-01T00:00:00",
          "2024-06-01T00:00:00",
          "2024-07-01T00:00:00",
          "2024-08-01T00:00:00",
          "2024-09-01T00:00:00",
          "2024-10-01T00:00:00",
          "2024-11-01T00:00:00",
          "2024-12-01T00:00:00"
         ],
         "y": [
          193.44175820996253,
          193.69060104577315,
          193.93944388158374,
          194.18828671739436,
          194.43712955320498,
          194.6859723890156,
          194.9348152248262,
          195.18365806063682,
          195.43250089644744,
          195.68134373225806,
          195.93018656806868,
          196.17902940387927,
          196.4278722396899,
          196.6767150755005,
          196.92555791131113,
          197.17440074712172,
          197.42324358293234,
          197.67208641874296,
          197.92092925455358,
          198.16977209036418,
          198.4186149261748,
          198.66745776198542,
          198.91630059779604,
          199.16514343360666,
          199.41398626941725,
          199.66282910522787,
          199.9116719410385,
          200.1605147768491,
          200.40935761265973,
          200.65820044847032,
          200.90704328428095,
          201.15588612009157,
          201.4047289559022,
          201.65357179171278,
          201.9024146275234,
          202.15125746333402,
          202.40010029914464,
          202.64894313495523,
          202.89778597076585,
          203.14662880657647,
          203.3954716423871,
          203.6443144781977,
          203.8931573140083,
          204.14200014981893,
          204.39084298562955,
          204.63968582144017,
          204.88852865725076,
          205.13737149306138,
          205.386214328872,
          205.63505716468262,
          205.88390000049324,
          206.13274283630383,
          206.38158567211445,
          206.63042850792507,
          206.8792713437357,
          207.1281141795463,
          207.3769570153569,
          207.62579985116753,
          207.87464268697815,
          208.12348552278877,
          208.37232835859936,
          208.62117119440998,
          208.8700140302206,
          209.11885686603122,
          209.36769970184181,
          209.61654253765244,
          209.86538537346306,
          210.11422820927368,
          210.36307104508427,
          210.6119138808949,
          210.8607567167055,
          211.10959955251613,
          211.35844238832675,
          211.60728522413734,
          211.85612805994796,
          212.10497089575858,
          212.3538137315692,
          212.60265656737982,
          212.85149940319042,
          213.10034223900104,
          213.34918507481166,
          213.59802791062228,
          213.84687074643287,
          214.0957135822435,
          214.3445564180541,
          214.59339925386473,
          214.84224208967532,
          215.09108492548594,
          215.33992776129656,
          215.58877059710719,
          215.8376134329178,
          216.0864562687284,
          216.33529910453902,
          216.58414194034964,
          216.83298477616026,
          217.08182761197088,
          217.33067044778147,
          217.5795132835921,
          217.8283561194027,
          218.0771989552133,
          218.32604179102393,
          218.57488462683455,
          218.82372746264517,
          219.0725702984558,
          219.32141313426638,
          219.570255970077,
          219.81909880588762,
          220.06794164169824
         ]
        },
        {
         "line": {
          "dash": "solid"
         },
         "mode": "lines",
         "name": "Trend_PosPandemia Effect",
         "type": "scatter",
         "x": [
          "2016-01-01T00:00:00",
          "2016-02-01T00:00:00",
          "2016-03-01T00:00:00",
          "2016-04-01T00:00:00",
          "2016-05-01T00:00:00",
          "2016-06-01T00:00:00",
          "2016-07-01T00:00:00",
          "2016-08-01T00:00:00",
          "2016-09-01T00:00:00",
          "2016-10-01T00:00:00",
          "2016-11-01T00:00:00",
          "2016-12-01T00:00:00",
          "2017-01-01T00:00:00",
          "2017-02-01T00:00:00",
          "2017-03-01T00:00:00",
          "2017-04-01T00:00:00",
          "2017-05-01T00:00:00",
          "2017-06-01T00:00:00",
          "2017-07-01T00:00:00",
          "2017-08-01T00:00:00",
          "2017-09-01T00:00:00",
          "2017-10-01T00:00:00",
          "2017-11-01T00:00:00",
          "2017-12-01T00:00:00",
          "2018-01-01T00:00:00",
          "2018-02-01T00:00:00",
          "2018-03-01T00:00:00",
          "2018-04-01T00:00:00",
          "2018-05-01T00:00:00",
          "2018-06-01T00:00:00",
          "2018-07-01T00:00:00",
          "2018-08-01T00:00:00",
          "2018-09-01T00:00:00",
          "2018-10-01T00:00:00",
          "2018-11-01T00:00:00",
          "2018-12-01T00:00:00",
          "2019-01-01T00:00:00",
          "2019-02-01T00:00:00",
          "2019-03-01T00:00:00",
          "2019-04-01T00:00:00",
          "2019-05-01T00:00:00",
          "2019-06-01T00:00:00",
          "2019-07-01T00:00:00",
          "2019-08-01T00:00:00",
          "2019-09-01T00:00:00",
          "2019-10-01T00:00:00",
          "2019-11-01T00:00:00",
          "2019-12-01T00:00:00",
          "2020-01-01T00:00:00",
          "2020-02-01T00:00:00",
          "2020-03-01T00:00:00",
          "2020-04-01T00:00:00",
          "2020-05-01T00:00:00",
          "2020-06-01T00:00:00",
          "2020-07-01T00:00:00",
          "2020-08-01T00:00:00",
          "2020-09-01T00:00:00",
          "2020-10-01T00:00:00",
          "2020-11-01T00:00:00",
          "2020-12-01T00:00:00",
          "2021-01-01T00:00:00",
          "2021-02-01T00:00:00",
          "2021-03-01T00:00:00",
          "2021-04-01T00:00:00",
          "2021-05-01T00:00:00",
          "2021-06-01T00:00:00",
          "2021-07-01T00:00:00",
          "2021-08-01T00:00:00",
          "2021-09-01T00:00:00",
          "2021-10-01T00:00:00",
          "2021-11-01T00:00:00",
          "2021-12-01T00:00:00",
          "2022-01-01T00:00:00",
          "2022-02-01T00:00:00",
          "2022-03-01T00:00:00",
          "2022-04-01T00:00:00",
          "2022-05-01T00:00:00",
          "2022-06-01T00:00:00",
          "2022-07-01T00:00:00",
          "2022-08-01T00:00:00",
          "2022-09-01T00:00:00",
          "2022-10-01T00:00:00",
          "2022-11-01T00:00:00",
          "2022-12-01T00:00:00",
          "2023-01-01T00:00:00",
          "2023-02-01T00:00:00",
          "2023-03-01T00:00:00",
          "2023-04-01T00:00:00",
          "2023-05-01T00:00:00",
          "2023-06-01T00:00:00",
          "2023-07-01T00:00:00",
          "2023-08-01T00:00:00",
          "2023-09-01T00:00:00",
          "2023-10-01T00:00:00",
          "2023-11-01T00:00:00",
          "2023-12-01T00:00:00",
          "2024-01-01T00:00:00",
          "2024-02-01T00:00:00",
          "2024-03-01T00:00:00",
          "2024-04-01T00:00:00",
          "2024-05-01T00:00:00",
          "2024-06-01T00:00:00",
          "2024-07-01T00:00:00",
          "2024-08-01T00:00:00",
          "2024-09-01T00:00:00",
          "2024-10-01T00:00:00",
          "2024-11-01T00:00:00",
          "2024-12-01T00:00:00"
         ],
         "y": [
          193.44175820996253,
          193.69060104577315,
          193.93944388158374,
          194.18828671739436,
          194.43712955320498,
          194.6859723890156,
          194.9348152248262,
          195.18365806063682,
          195.43250089644744,
          195.68134373225806,
          195.93018656806868,
          196.17902940387927,
          196.4278722396899,
          196.6767150755005,
          196.92555791131113,
          197.17440074712172,
          197.42324358293234,
          197.67208641874296,
          197.92092925455358,
          198.16977209036418,
          198.4186149261748,
          198.66745776198542,
          198.91630059779604,
          199.16514343360666,
          199.41398626941725,
          199.66282910522787,
          199.9116719410385,
          200.1605147768491,
          200.40935761265973,
          200.65820044847032,
          200.90704328428095,
          201.15588612009157,
          201.4047289559022,
          201.65357179171278,
          201.9024146275234,
          202.15125746333402,
          202.40010029914464,
          202.64894313495523,
          202.89778597076585,
          203.14662880657647,
          203.3954716423871,
          203.6443144781977,
          203.8931573140083,
          204.14200014981893,
          204.39084298562955,
          204.63968582144017,
          204.88852865725076,
          205.13737149306138,
          176.386214328872,
          176.63505716468262,
          176.88390000049324,
          177.13274283630383,
          177.38158567211445,
          177.63042850792507,
          177.8792713437357,
          206.1281141795463,
          212.3769570153569,
          218.62579985116753,
          224.87464268697815,
          231.12348552278877,
          236.37232835859936,
          242.62117119440998,
          248.8700140302206,
          139.11885686603122,
          145.36769970184181,
          267.61654253765244,
          272.865385373463,
          279.1142282092737,
          285.36307104508427,
          291.6119138808949,
          297.8607567167055,
          304.1095995525161,
          309.35844238832675,
          315.60728522413734,
          321.856128059948,
          328.1049708957586,
          334.3538137315692,
          339.6026565673798,
          345.8514994031904,
          352.10034223900107,
          358.34918507481166,
          364.59802791062225,
          370.84687074643284,
          376.0957135822435,
          382.34455641805414,
          388.59339925386473,
          394.8422420896753,
          401.0910849254859,
          407.33992776129656,
          412.5887705971072,
          418.8376134329178,
          425.0864562687284,
          431.335299104539,
          437.58414194034964,
          442.8329847761603,
          449.0818276119709,
          455.3306704477815,
          461.57951328359206,
          467.8283561194027,
          474.0771989552133,
          479.32604179102395,
          485.57488462683455,
          491.82372746264514,
          498.0725702984558,
          504.3214131342664,
          510.570255970077,
          515.8190988058876,
          522.0679416416982
         ]
        }
       ],
       "layout": {
        "legend": {
         "title": {
          "text": "Legend"
         }
        },
        "shapes": [
         {
          "fillcolor": "White",
          "layer": "below",
          "line": {
           "width": 0
          },
          "opacity": 0.3,
          "type": "rect",
          "x0": "2020-08-01T00:00:00",
          "x1": "2024-12-01T00:00:00",
          "xref": "x",
          "y0": 0,
          "y1": 1,
          "yref": "paper"
         },
         {
          "fillcolor": "LightSalmon",
          "layer": "below",
          "line": {
           "width": 0
          },
          "opacity": 0.3,
          "type": "rect",
          "x0": "2020-01-01T00:00:00",
          "x1": "2020-07-01T00:00:00",
          "xref": "x",
          "y0": 0,
          "y1": 1,
          "yref": "paper"
         },
         {
          "fillcolor": "LightSalmon",
          "layer": "below",
          "line": {
           "width": 0
          },
          "opacity": 0.3,
          "type": "rect",
          "x0": "2021-04-01T00:00:00",
          "x1": "2021-05-01T00:00:00",
          "xref": "x",
          "y0": 0,
          "y1": 1,
          "yref": "paper"
         },
         {
          "fillcolor": "Grey",
          "layer": "below",
          "line": {
           "width": 0
          },
          "opacity": 0.3,
          "type": "rect",
          "x0": "2020-08-01T00:00:00",
          "x1": "2024-12-01T00:00:00",
          "xref": "x",
          "y0": 0,
          "y1": 1,
          "yref": "paper"
         }
        ],
        "template": {
         "data": {
          "bar": [
           {
            "error_x": {
             "color": "#2a3f5f"
            },
            "error_y": {
             "color": "#2a3f5f"
            },
            "marker": {
             "line": {
              "color": "#E5ECF6",
              "width": 0.5
             },
             "pattern": {
              "fillmode": "overlay",
              "size": 10,
              "solidity": 0.2
             }
            },
            "type": "bar"
           }
          ],
          "barpolar": [
           {
            "marker": {
             "line": {
              "color": "#E5ECF6",
              "width": 0.5
             },
             "pattern": {
              "fillmode": "overlay",
              "size": 10,
              "solidity": 0.2
             }
            },
            "type": "barpolar"
           }
          ],
          "carpet": [
           {
            "aaxis": {
             "endlinecolor": "#2a3f5f",
             "gridcolor": "white",
             "linecolor": "white",
             "minorgridcolor": "white",
             "startlinecolor": "#2a3f5f"
            },
            "baxis": {
             "endlinecolor": "#2a3f5f",
             "gridcolor": "white",
             "linecolor": "white",
             "minorgridcolor": "white",
             "startlinecolor": "#2a3f5f"
            },
            "type": "carpet"
           }
          ],
          "choropleth": [
           {
            "colorbar": {
             "outlinewidth": 0,
             "ticks": ""
            },
            "type": "choropleth"
           }
          ],
          "contour": [
           {
            "colorbar": {
             "outlinewidth": 0,
             "ticks": ""
            },
            "colorscale": [
             [
              0,
              "#0d0887"
             ],
             [
              0.1111111111111111,
              "#46039f"
             ],
             [
              0.2222222222222222,
              "#7201a8"
             ],
             [
              0.3333333333333333,
              "#9c179e"
             ],
             [
              0.4444444444444444,
              "#bd3786"
             ],
             [
              0.5555555555555556,
              "#d8576b"
             ],
             [
              0.6666666666666666,
              "#ed7953"
             ],
             [
              0.7777777777777778,
              "#fb9f3a"
             ],
             [
              0.8888888888888888,
              "#fdca26"
             ],
             [
              1,
              "#f0f921"
             ]
            ],
            "type": "contour"
           }
          ],
          "contourcarpet": [
           {
            "colorbar": {
             "outlinewidth": 0,
             "ticks": ""
            },
            "type": "contourcarpet"
           }
          ],
          "heatmap": [
           {
            "colorbar": {
             "outlinewidth": 0,
             "ticks": ""
            },
            "colorscale": [
             [
              0,
              "#0d0887"
             ],
             [
              0.1111111111111111,
              "#46039f"
             ],
             [
              0.2222222222222222,
              "#7201a8"
             ],
             [
              0.3333333333333333,
              "#9c179e"
             ],
             [
              0.4444444444444444,
              "#bd3786"
             ],
             [
              0.5555555555555556,
              "#d8576b"
             ],
             [
              0.6666666666666666,
              "#ed7953"
             ],
             [
              0.7777777777777778,
              "#fb9f3a"
             ],
             [
              0.8888888888888888,
              "#fdca26"
             ],
             [
              1,
              "#f0f921"
             ]
            ],
            "type": "heatmap"
           }
          ],
          "heatmapgl": [
           {
            "colorbar": {
             "outlinewidth": 0,
             "ticks": ""
            },
            "colorscale": [
             [
              0,
              "#0d0887"
             ],
             [
              0.1111111111111111,
              "#46039f"
             ],
             [
              0.2222222222222222,
              "#7201a8"
             ],
             [
              0.3333333333333333,
              "#9c179e"
             ],
             [
              0.4444444444444444,
              "#bd3786"
             ],
             [
              0.5555555555555556,
              "#d8576b"
             ],
             [
              0.6666666666666666,
              "#ed7953"
             ],
             [
              0.7777777777777778,
              "#fb9f3a"
             ],
             [
              0.8888888888888888,
              "#fdca26"
             ],
             [
              1,
              "#f0f921"
             ]
            ],
            "type": "heatmapgl"
           }
          ],
          "histogram": [
           {
            "marker": {
             "pattern": {
              "fillmode": "overlay",
              "size": 10,
              "solidity": 0.2
             }
            },
            "type": "histogram"
           }
          ],
          "histogram2d": [
           {
            "colorbar": {
             "outlinewidth": 0,
             "ticks": ""
            },
            "colorscale": [
             [
              0,
              "#0d0887"
             ],
             [
              0.1111111111111111,
              "#46039f"
             ],
             [
              0.2222222222222222,
              "#7201a8"
             ],
             [
              0.3333333333333333,
              "#9c179e"
             ],
             [
              0.4444444444444444,
              "#bd3786"
             ],
             [
              0.5555555555555556,
              "#d8576b"
             ],
             [
              0.6666666666666666,
              "#ed7953"
             ],
             [
              0.7777777777777778,
              "#fb9f3a"
             ],
             [
              0.8888888888888888,
              "#fdca26"
             ],
             [
              1,
              "#f0f921"
             ]
            ],
            "type": "histogram2d"
           }
          ],
          "histogram2dcontour": [
           {
            "colorbar": {
             "outlinewidth": 0,
             "ticks": ""
            },
            "colorscale": [
             [
              0,
              "#0d0887"
             ],
             [
              0.1111111111111111,
              "#46039f"
             ],
             [
              0.2222222222222222,
              "#7201a8"
             ],
             [
              0.3333333333333333,
              "#9c179e"
             ],
             [
              0.4444444444444444,
              "#bd3786"
             ],
             [
              0.5555555555555556,
              "#d8576b"
             ],
             [
              0.6666666666666666,
              "#ed7953"
             ],
             [
              0.7777777777777778,
              "#fb9f3a"
             ],
             [
              0.8888888888888888,
              "#fdca26"
             ],
             [
              1,
              "#f0f921"
             ]
            ],
            "type": "histogram2dcontour"
           }
          ],
          "mesh3d": [
           {
            "colorbar": {
             "outlinewidth": 0,
             "ticks": ""
            },
            "type": "mesh3d"
           }
          ],
          "parcoords": [
           {
            "line": {
             "colorbar": {
              "outlinewidth": 0,
              "ticks": ""
             }
            },
            "type": "parcoords"
           }
          ],
          "pie": [
           {
            "automargin": true,
            "type": "pie"
           }
          ],
          "scatter": [
           {
            "fillpattern": {
             "fillmode": "overlay",
             "size": 10,
             "solidity": 0.2
            },
            "type": "scatter"
           }
          ],
          "scatter3d": [
           {
            "line": {
             "colorbar": {
              "outlinewidth": 0,
              "ticks": ""
             }
            },
            "marker": {
             "colorbar": {
              "outlinewidth": 0,
              "ticks": ""
             }
            },
            "type": "scatter3d"
           }
          ],
          "scattercarpet": [
           {
            "marker": {
             "colorbar": {
              "outlinewidth": 0,
              "ticks": ""
             }
            },
            "type": "scattercarpet"
           }
          ],
          "scattergeo": [
           {
            "marker": {
             "colorbar": {
              "outlinewidth": 0,
              "ticks": ""
             }
            },
            "type": "scattergeo"
           }
          ],
          "scattergl": [
           {
            "marker": {
             "colorbar": {
              "outlinewidth": 0,
              "ticks": ""
             }
            },
            "type": "scattergl"
           }
          ],
          "scattermapbox": [
           {
            "marker": {
             "colorbar": {
              "outlinewidth": 0,
              "ticks": ""
             }
            },
            "type": "scattermapbox"
           }
          ],
          "scatterpolar": [
           {
            "marker": {
             "colorbar": {
              "outlinewidth": 0,
              "ticks": ""
             }
            },
            "type": "scatterpolar"
           }
          ],
          "scatterpolargl": [
           {
            "marker": {
             "colorbar": {
              "outlinewidth": 0,
              "ticks": ""
             }
            },
            "type": "scatterpolargl"
           }
          ],
          "scatterternary": [
           {
            "marker": {
             "colorbar": {
              "outlinewidth": 0,
              "ticks": ""
             }
            },
            "type": "scatterternary"
           }
          ],
          "surface": [
           {
            "colorbar": {
             "outlinewidth": 0,
             "ticks": ""
            },
            "colorscale": [
             [
              0,
              "#0d0887"
             ],
             [
              0.1111111111111111,
              "#46039f"
             ],
             [
              0.2222222222222222,
              "#7201a8"
             ],
             [
              0.3333333333333333,
              "#9c179e"
             ],
             [
              0.4444444444444444,
              "#bd3786"
             ],
             [
              0.5555555555555556,
              "#d8576b"
             ],
             [
              0.6666666666666666,
              "#ed7953"
             ],
             [
              0.7777777777777778,
              "#fb9f3a"
             ],
             [
              0.8888888888888888,
              "#fdca26"
             ],
             [
              1,
              "#f0f921"
             ]
            ],
            "type": "surface"
           }
          ],
          "table": [
           {
            "cells": {
             "fill": {
              "color": "#EBF0F8"
             },
             "line": {
              "color": "white"
             }
            },
            "header": {
             "fill": {
              "color": "#C8D4E3"
             },
             "line": {
              "color": "white"
             }
            },
            "type": "table"
           }
          ]
         },
         "layout": {
          "annotationdefaults": {
           "arrowcolor": "#2a3f5f",
           "arrowhead": 0,
           "arrowwidth": 1
          },
          "autotypenumbers": "strict",
          "coloraxis": {
           "colorbar": {
            "outlinewidth": 0,
            "ticks": ""
           }
          },
          "colorscale": {
           "diverging": [
            [
             0,
             "#8e0152"
            ],
            [
             0.1,
             "#c51b7d"
            ],
            [
             0.2,
             "#de77ae"
            ],
            [
             0.3,
             "#f1b6da"
            ],
            [
             0.4,
             "#fde0ef"
            ],
            [
             0.5,
             "#f7f7f7"
            ],
            [
             0.6,
             "#e6f5d0"
            ],
            [
             0.7,
             "#b8e186"
            ],
            [
             0.8,
             "#7fbc41"
            ],
            [
             0.9,
             "#4d9221"
            ],
            [
             1,
             "#276419"
            ]
           ],
           "sequential": [
            [
             0,
             "#0d0887"
            ],
            [
             0.1111111111111111,
             "#46039f"
            ],
            [
             0.2222222222222222,
             "#7201a8"
            ],
            [
             0.3333333333333333,
             "#9c179e"
            ],
            [
             0.4444444444444444,
             "#bd3786"
            ],
            [
             0.5555555555555556,
             "#d8576b"
            ],
            [
             0.6666666666666666,
             "#ed7953"
            ],
            [
             0.7777777777777778,
             "#fb9f3a"
            ],
            [
             0.8888888888888888,
             "#fdca26"
            ],
            [
             1,
             "#f0f921"
            ]
           ],
           "sequentialminus": [
            [
             0,
             "#0d0887"
            ],
            [
             0.1111111111111111,
             "#46039f"
            ],
            [
             0.2222222222222222,
             "#7201a8"
            ],
            [
             0.3333333333333333,
             "#9c179e"
            ],
            [
             0.4444444444444444,
             "#bd3786"
            ],
            [
             0.5555555555555556,
             "#d8576b"
            ],
            [
             0.6666666666666666,
             "#ed7953"
            ],
            [
             0.7777777777777778,
             "#fb9f3a"
            ],
            [
             0.8888888888888888,
             "#fdca26"
            ],
            [
             1,
             "#f0f921"
            ]
           ]
          },
          "colorway": [
           "#636efa",
           "#EF553B",
           "#00cc96",
           "#ab63fa",
           "#FFA15A",
           "#19d3f3",
           "#FF6692",
           "#B6E880",
           "#FF97FF",
           "#FECB52"
          ],
          "font": {
           "color": "#2a3f5f"
          },
          "geo": {
           "bgcolor": "white",
           "lakecolor": "white",
           "landcolor": "#E5ECF6",
           "showlakes": true,
           "showland": true,
           "subunitcolor": "white"
          },
          "hoverlabel": {
           "align": "left"
          },
          "hovermode": "closest",
          "mapbox": {
           "style": "light"
          },
          "paper_bgcolor": "white",
          "plot_bgcolor": "#E5ECF6",
          "polar": {
           "angularaxis": {
            "gridcolor": "white",
            "linecolor": "white",
            "ticks": ""
           },
           "bgcolor": "#E5ECF6",
           "radialaxis": {
            "gridcolor": "white",
            "linecolor": "white",
            "ticks": ""
           }
          },
          "scene": {
           "xaxis": {
            "backgroundcolor": "#E5ECF6",
            "gridcolor": "white",
            "gridwidth": 2,
            "linecolor": "white",
            "showbackground": true,
            "ticks": "",
            "zerolinecolor": "white"
           },
           "yaxis": {
            "backgroundcolor": "#E5ECF6",
            "gridcolor": "white",
            "gridwidth": 2,
            "linecolor": "white",
            "showbackground": true,
            "ticks": "",
            "zerolinecolor": "white"
           },
           "zaxis": {
            "backgroundcolor": "#E5ECF6",
            "gridcolor": "white",
            "gridwidth": 2,
            "linecolor": "white",
            "showbackground": true,
            "ticks": "",
            "zerolinecolor": "white"
           }
          },
          "shapedefaults": {
           "line": {
            "color": "#2a3f5f"
           }
          },
          "ternary": {
           "aaxis": {
            "gridcolor": "white",
            "linecolor": "white",
            "ticks": ""
           },
           "baxis": {
            "gridcolor": "white",
            "linecolor": "white",
            "ticks": ""
           },
           "bgcolor": "#E5ECF6",
           "caxis": {
            "gridcolor": "white",
            "linecolor": "white",
            "ticks": ""
           }
          },
          "title": {
           "x": 0.05
          },
          "xaxis": {
           "automargin": true,
           "gridcolor": "white",
           "linecolor": "white",
           "ticks": "",
           "title": {
            "standoff": 15
           },
           "zerolinecolor": "white",
           "zerolinewidth": 2
          },
          "yaxis": {
           "automargin": true,
           "gridcolor": "white",
           "linecolor": "white",
           "ticks": "",
           "title": {
            "standoff": 15
           },
           "zerolinecolor": "white",
           "zerolinewidth": 2
          }
         }
        },
        "title": {
         "text": "F00-F09 - Transtornos mentais orgânicos, inclusive os sintomáticos"
        },
        "xaxis": {
         "title": {
          "text": "Time"
         }
        },
        "yaxis": {
         "title": {
          "text": "Value"
         }
        }
       }
      }
     },
     "metadata": {},
     "output_type": "display_data"
    },
    {
     "name": "stdout",
     "output_type": "stream",
     "text": [
      "Processing variable: F20-F29 - Esquizofrenia, transtornos esquizotípicos e transtornos delirantes\n"
     ]
    },
    {
     "data": {
      "application/vnd.plotly.v1+json": {
       "config": {
        "plotlyServerURL": "https://plot.ly"
       },
       "data": [
        {
         "marker": {
          "color": "blue"
         },
         "mode": "markers",
         "name": "Real",
         "type": "scatter",
         "x": [
          "2016-01-01T00:00:00",
          "2016-02-01T00:00:00",
          "2016-03-01T00:00:00",
          "2016-04-01T00:00:00",
          "2016-05-01T00:00:00",
          "2016-06-01T00:00:00",
          "2016-07-01T00:00:00",
          "2016-08-01T00:00:00",
          "2016-09-01T00:00:00",
          "2016-10-01T00:00:00",
          "2016-11-01T00:00:00",
          "2016-12-01T00:00:00",
          "2017-01-01T00:00:00",
          "2017-02-01T00:00:00",
          "2017-03-01T00:00:00",
          "2017-04-01T00:00:00",
          "2017-05-01T00:00:00",
          "2017-06-01T00:00:00",
          "2017-07-01T00:00:00",
          "2017-08-01T00:00:00",
          "2017-09-01T00:00:00",
          "2017-10-01T00:00:00",
          "2017-11-01T00:00:00",
          "2017-12-01T00:00:00",
          "2018-01-01T00:00:00",
          "2018-02-01T00:00:00",
          "2018-03-01T00:00:00",
          "2018-04-01T00:00:00",
          "2018-05-01T00:00:00",
          "2018-06-01T00:00:00",
          "2018-07-01T00:00:00",
          "2018-08-01T00:00:00",
          "2018-09-01T00:00:00",
          "2018-10-01T00:00:00",
          "2018-11-01T00:00:00",
          "2018-12-01T00:00:00",
          "2019-01-01T00:00:00",
          "2019-02-01T00:00:00",
          "2019-03-01T00:00:00",
          "2019-04-01T00:00:00",
          "2019-05-01T00:00:00",
          "2019-06-01T00:00:00",
          "2019-07-01T00:00:00",
          "2019-08-01T00:00:00",
          "2019-09-01T00:00:00",
          "2019-10-01T00:00:00",
          "2019-11-01T00:00:00",
          "2019-12-01T00:00:00",
          "2020-01-01T00:00:00",
          "2020-02-01T00:00:00",
          "2020-03-01T00:00:00",
          "2020-04-01T00:00:00",
          "2020-05-01T00:00:00",
          "2020-06-01T00:00:00",
          "2020-07-01T00:00:00",
          "2020-08-01T00:00:00",
          "2020-09-01T00:00:00",
          "2020-10-01T00:00:00",
          "2020-11-01T00:00:00",
          "2020-12-01T00:00:00",
          "2021-01-01T00:00:00",
          "2021-02-01T00:00:00",
          "2021-03-01T00:00:00",
          "2021-04-01T00:00:00",
          "2021-05-01T00:00:00",
          "2021-06-01T00:00:00",
          "2021-07-01T00:00:00",
          "2021-08-01T00:00:00",
          "2021-09-01T00:00:00",
          "2021-10-01T00:00:00",
          "2021-11-01T00:00:00",
          "2021-12-01T00:00:00",
          "2022-01-01T00:00:00",
          "2022-02-01T00:00:00",
          "2022-03-01T00:00:00",
          "2022-04-01T00:00:00",
          "2022-05-01T00:00:00",
          "2022-06-01T00:00:00",
          "2022-07-01T00:00:00",
          "2022-08-01T00:00:00",
          "2022-09-01T00:00:00",
          "2022-10-01T00:00:00",
          "2022-11-01T00:00:00",
          "2022-12-01T00:00:00",
          "2023-01-01T00:00:00",
          "2023-02-01T00:00:00",
          "2023-03-01T00:00:00",
          "2023-04-01T00:00:00",
          "2023-05-01T00:00:00",
          "2023-06-01T00:00:00",
          "2023-07-01T00:00:00",
          "2023-08-01T00:00:00",
          "2023-09-01T00:00:00",
          "2023-10-01T00:00:00",
          "2023-11-01T00:00:00",
          "2023-12-01T00:00:00",
          "2024-01-01T00:00:00",
          "2024-02-01T00:00:00",
          "2024-03-01T00:00:00",
          "2024-04-01T00:00:00",
          "2024-05-01T00:00:00",
          "2024-06-01T00:00:00",
          "2024-07-01T00:00:00",
          "2024-08-01T00:00:00",
          "2024-09-01T00:00:00",
          "2024-10-01T00:00:00",
          "2024-11-01T00:00:00",
          "2024-12-01T00:00:00"
         ],
         "y": [
          314,
          340,
          430,
          371,
          466,
          626,
          630,
          665,
          648,
          591,
          425,
          446,
          479,
          424,
          558,
          442,
          508,
          495,
          493,
          540,
          439,
          459,
          482,
          392,
          463,
          377,
          506,
          533,
          507,
          458,
          473,
          541,
          478,
          539,
          482,
          427,
          536,
          426,
          422,
          503,
          514,
          445,
          525,
          497,
          399,
          404,
          338,
          344,
          411,
          339,
          306,
          226,
          257,
          258,
          285,
          346,
          364,
          375,
          394,
          352,
          376,
          382,
          355,
          244,
          104,
          435,
          445,
          447,
          441,
          399,
          413,
          441,
          280,
          331,
          490,
          390,
          379,
          458,
          436,
          503,
          572,
          556,
          588,
          577,
          628,
          501,
          744,
          622,
          699,
          624,
          678,
          805,
          710,
          828,
          803,
          813,
          861,
          732,
          850,
          935,
          743,
          803,
          883,
          824,
          813,
          1167,
          925,
          861
         ]
        },
        {
         "line": {
          "color": "black",
          "dash": "dot"
         },
         "mode": "lines",
         "name": "Baseline",
         "type": "scatter",
         "x": [
          "2016-01-01T00:00:00",
          "2016-02-01T00:00:00",
          "2016-03-01T00:00:00",
          "2016-04-01T00:00:00",
          "2016-05-01T00:00:00",
          "2016-06-01T00:00:00",
          "2016-07-01T00:00:00",
          "2016-08-01T00:00:00",
          "2016-09-01T00:00:00",
          "2016-10-01T00:00:00",
          "2016-11-01T00:00:00",
          "2016-12-01T00:00:00",
          "2017-01-01T00:00:00",
          "2017-02-01T00:00:00",
          "2017-03-01T00:00:00",
          "2017-04-01T00:00:00",
          "2017-05-01T00:00:00",
          "2017-06-01T00:00:00",
          "2017-07-01T00:00:00",
          "2017-08-01T00:00:00",
          "2017-09-01T00:00:00",
          "2017-10-01T00:00:00",
          "2017-11-01T00:00:00",
          "2017-12-01T00:00:00",
          "2018-01-01T00:00:00",
          "2018-02-01T00:00:00",
          "2018-03-01T00:00:00",
          "2018-04-01T00:00:00",
          "2018-05-01T00:00:00",
          "2018-06-01T00:00:00",
          "2018-07-01T00:00:00",
          "2018-08-01T00:00:00",
          "2018-09-01T00:00:00",
          "2018-10-01T00:00:00",
          "2018-11-01T00:00:00",
          "2018-12-01T00:00:00",
          "2019-01-01T00:00:00",
          "2019-02-01T00:00:00",
          "2019-03-01T00:00:00",
          "2019-04-01T00:00:00",
          "2019-05-01T00:00:00",
          "2019-06-01T00:00:00",
          "2019-07-01T00:00:00",
          "2019-08-01T00:00:00",
          "2019-09-01T00:00:00",
          "2019-10-01T00:00:00",
          "2019-11-01T00:00:00",
          "2019-12-01T00:00:00",
          "2020-01-01T00:00:00",
          "2020-02-01T00:00:00",
          "2020-03-01T00:00:00",
          "2020-04-01T00:00:00",
          "2020-05-01T00:00:00",
          "2020-06-01T00:00:00",
          "2020-07-01T00:00:00",
          "2020-08-01T00:00:00",
          "2020-09-01T00:00:00",
          "2020-10-01T00:00:00",
          "2020-11-01T00:00:00",
          "2020-12-01T00:00:00",
          "2021-01-01T00:00:00",
          "2021-02-01T00:00:00",
          "2021-03-01T00:00:00",
          "2021-04-01T00:00:00",
          "2021-05-01T00:00:00",
          "2021-06-01T00:00:00",
          "2021-07-01T00:00:00",
          "2021-08-01T00:00:00",
          "2021-09-01T00:00:00",
          "2021-10-01T00:00:00",
          "2021-11-01T00:00:00",
          "2021-12-01T00:00:00",
          "2022-01-01T00:00:00",
          "2022-02-01T00:00:00",
          "2022-03-01T00:00:00",
          "2022-04-01T00:00:00",
          "2022-05-01T00:00:00",
          "2022-06-01T00:00:00",
          "2022-07-01T00:00:00",
          "2022-08-01T00:00:00",
          "2022-09-01T00:00:00",
          "2022-10-01T00:00:00",
          "2022-11-01T00:00:00",
          "2022-12-01T00:00:00",
          "2023-01-01T00:00:00",
          "2023-02-01T00:00:00",
          "2023-03-01T00:00:00",
          "2023-04-01T00:00:00",
          "2023-05-01T00:00:00",
          "2023-06-01T00:00:00",
          "2023-07-01T00:00:00",
          "2023-08-01T00:00:00",
          "2023-09-01T00:00:00",
          "2023-10-01T00:00:00",
          "2023-11-01T00:00:00",
          "2023-12-01T00:00:00",
          "2024-01-01T00:00:00",
          "2024-02-01T00:00:00",
          "2024-03-01T00:00:00",
          "2024-04-01T00:00:00",
          "2024-05-01T00:00:00",
          "2024-06-01T00:00:00",
          "2024-07-01T00:00:00",
          "2024-08-01T00:00:00",
          "2024-09-01T00:00:00",
          "2024-10-01T00:00:00",
          "2024-11-01T00:00:00",
          "2024-12-01T00:00:00"
         ],
         "y": [
          485.77757964172497,
          484.3095537519069,
          482.84152786208875,
          481.3735019722706,
          479.9054760824525,
          478.4374501926344,
          476.96942430281626,
          475.5013984129981,
          474.03337252318005,
          472.5653466333619,
          471.0973207435438,
          469.6292948537257,
          468.16126896390756,
          466.6932430740894,
          465.2252171842713,
          463.7571912944532,
          462.28916540463507,
          460.82113951481693,
          459.35311362499885,
          457.8850877351807,
          456.4170618453626,
          454.94903595554445,
          453.48101006572637,
          452.01298417590823,
          450.5449582860901,
          449.076932396272,
          447.6089065064539,
          446.14088061663574,
          444.67285472681766,
          443.2048288369995,
          441.7368029471814,
          440.2687770573633,
          438.8007511675452,
          437.33272527772704,
          435.8646993879089,
          434.3966734980908,
          432.9286476082727,
          431.46062171845455,
          429.99259582863647,
          428.52456993881833,
          427.0565440490002,
          425.58851815918206,
          424.120492269364,
          422.65246637954584,
          421.1844404897277,
          419.7164145999096,
          418.2483887100915,
          416.78036282027335,
          415.3123369304552,
          413.84431104063714,
          412.376285150819,
          410.9082592610009,
          409.4402333711828,
          407.97220748136465,
          406.5041815915465,
          405.0361557017284,
          403.5681298119103,
          402.10010392209216,
          400.6320780322741,
          399.16405214245594,
          397.6960262526378,
          396.22800036281967,
          394.7599744730016,
          393.29194858318345,
          391.8239226933653,
          390.35589680354724,
          388.8878709137291,
          387.41984502391097,
          385.95181913409283,
          384.48379324427475,
          383.0157673544566,
          381.54774146463853,
          380.0797155748204,
          378.61168968500226,
          377.1436637951841,
          375.675637905366,
          374.2076120155479,
          372.7395861257298,
          371.2715602359117,
          369.80353434609356,
          368.3355084562754,
          366.8674825664573,
          365.3994566766392,
          363.93143078682107,
          362.46340489700293,
          360.99537900718485,
          359.5273531173667,
          358.0593272275486,
          356.59130133773044,
          355.1232754479123,
          353.6552495580942,
          352.18722366827615,
          350.719197778458,
          349.2511718886399,
          347.78314599882174,
          346.3151201090036,
          344.8470942191855,
          343.3790683293674,
          341.9110424395493,
          340.44301654973117,
          338.97499065991303,
          337.5069647700949,
          336.03893888027676,
          334.5709129904587,
          333.10288710064054,
          331.63486121082246,
          330.1668353210043,
          328.6988094311862
         ]
        },
        {
         "line": {
          "dash": "solid"
         },
         "mode": "lines",
         "name": "Trend_PosPandemia Effect",
         "type": "scatter",
         "x": [
          "2016-01-01T00:00:00",
          "2016-02-01T00:00:00",
          "2016-03-01T00:00:00",
          "2016-04-01T00:00:00",
          "2016-05-01T00:00:00",
          "2016-06-01T00:00:00",
          "2016-07-01T00:00:00",
          "2016-08-01T00:00:00",
          "2016-09-01T00:00:00",
          "2016-10-01T00:00:00",
          "2016-11-01T00:00:00",
          "2016-12-01T00:00:00",
          "2017-01-01T00:00:00",
          "2017-02-01T00:00:00",
          "2017-03-01T00:00:00",
          "2017-04-01T00:00:00",
          "2017-05-01T00:00:00",
          "2017-06-01T00:00:00",
          "2017-07-01T00:00:00",
          "2017-08-01T00:00:00",
          "2017-09-01T00:00:00",
          "2017-10-01T00:00:00",
          "2017-11-01T00:00:00",
          "2017-12-01T00:00:00",
          "2018-01-01T00:00:00",
          "2018-02-01T00:00:00",
          "2018-03-01T00:00:00",
          "2018-04-01T00:00:00",
          "2018-05-01T00:00:00",
          "2018-06-01T00:00:00",
          "2018-07-01T00:00:00",
          "2018-08-01T00:00:00",
          "2018-09-01T00:00:00",
          "2018-10-01T00:00:00",
          "2018-11-01T00:00:00",
          "2018-12-01T00:00:00",
          "2019-01-01T00:00:00",
          "2019-02-01T00:00:00",
          "2019-03-01T00:00:00",
          "2019-04-01T00:00:00",
          "2019-05-01T00:00:00",
          "2019-06-01T00:00:00",
          "2019-07-01T00:00:00",
          "2019-08-01T00:00:00",
          "2019-09-01T00:00:00",
          "2019-10-01T00:00:00",
          "2019-11-01T00:00:00",
          "2019-12-01T00:00:00",
          "2020-01-01T00:00:00",
          "2020-02-01T00:00:00",
          "2020-03-01T00:00:00",
          "2020-04-01T00:00:00",
          "2020-05-01T00:00:00",
          "2020-06-01T00:00:00",
          "2020-07-01T00:00:00",
          "2020-08-01T00:00:00",
          "2020-09-01T00:00:00",
          "2020-10-01T00:00:00",
          "2020-11-01T00:00:00",
          "2020-12-01T00:00:00",
          "2021-01-01T00:00:00",
          "2021-02-01T00:00:00",
          "2021-03-01T00:00:00",
          "2021-04-01T00:00:00",
          "2021-05-01T00:00:00",
          "2021-06-01T00:00:00",
          "2021-07-01T00:00:00",
          "2021-08-01T00:00:00",
          "2021-09-01T00:00:00",
          "2021-10-01T00:00:00",
          "2021-11-01T00:00:00",
          "2021-12-01T00:00:00",
          "2022-01-01T00:00:00",
          "2022-02-01T00:00:00",
          "2022-03-01T00:00:00",
          "2022-04-01T00:00:00",
          "2022-05-01T00:00:00",
          "2022-06-01T00:00:00",
          "2022-07-01T00:00:00",
          "2022-08-01T00:00:00",
          "2022-09-01T00:00:00",
          "2022-10-01T00:00:00",
          "2022-11-01T00:00:00",
          "2022-12-01T00:00:00",
          "2023-01-01T00:00:00",
          "2023-02-01T00:00:00",
          "2023-03-01T00:00:00",
          "2023-04-01T00:00:00",
          "2023-05-01T00:00:00",
          "2023-06-01T00:00:00",
          "2023-07-01T00:00:00",
          "2023-08-01T00:00:00",
          "2023-09-01T00:00:00",
          "2023-10-01T00:00:00",
          "2023-11-01T00:00:00",
          "2023-12-01T00:00:00",
          "2024-01-01T00:00:00",
          "2024-02-01T00:00:00",
          "2024-03-01T00:00:00",
          "2024-04-01T00:00:00",
          "2024-05-01T00:00:00",
          "2024-06-01T00:00:00",
          "2024-07-01T00:00:00",
          "2024-08-01T00:00:00",
          "2024-09-01T00:00:00",
          "2024-10-01T00:00:00",
          "2024-11-01T00:00:00",
          "2024-12-01T00:00:00"
         ],
         "y": [
          485.77757964172497,
          484.3095537519069,
          482.84152786208875,
          481.3735019722706,
          479.9054760824525,
          478.4374501926344,
          476.96942430281626,
          475.5013984129981,
          474.03337252318005,
          472.5653466333619,
          471.0973207435438,
          469.6292948537257,
          468.16126896390756,
          466.6932430740894,
          465.2252171842713,
          463.7571912944532,
          462.28916540463507,
          460.82113951481693,
          459.35311362499885,
          457.8850877351807,
          456.4170618453626,
          454.94903595554445,
          453.48101006572637,
          452.01298417590823,
          450.5449582860901,
          449.076932396272,
          447.6089065064539,
          446.14088061663574,
          444.67285472681766,
          443.2048288369995,
          441.7368029471814,
          440.2687770573633,
          438.8007511675452,
          437.33272527772704,
          435.8646993879089,
          434.3966734980908,
          432.9286476082727,
          431.46062171845455,
          429.99259582863647,
          428.52456993881833,
          427.0565440490002,
          425.58851815918206,
          424.120492269364,
          422.65246637954584,
          421.1844404897277,
          419.7164145999096,
          418.2483887100915,
          416.78036282027335,
          268.3123369304552,
          266.84431104063714,
          265.376285150819,
          263.9082592610009,
          262.4402333711828,
          260.97220748136465,
          259.5041815915465,
          237.03615570172838,
          249.5681298119103,
          262.10010392209216,
          274.6320780322741,
          287.16405214245594,
          299.6960262526378,
          312.22800036281967,
          324.7599744730016,
          119.29194858318345,
          131.82392269336532,
          362.35589680354724,
          374.8878709137291,
          387.41984502391097,
          399.95181913409283,
          412.48379324427475,
          425.0157673544566,
          437.54774146463853,
          450.0797155748204,
          462.61168968500226,
          475.1436637951841,
          487.675637905366,
          500.2076120155479,
          512.7395861257298,
          525.2715602359117,
          537.8035343460936,
          550.3355084562754,
          562.8674825664573,
          575.3994566766391,
          587.931430786821,
          600.4634048970029,
          612.9953790071849,
          625.5273531173667,
          638.0593272275486,
          650.5913013377304,
          663.1232754479123,
          675.6552495580943,
          688.1872236682761,
          700.719197778458,
          713.2511718886399,
          725.7831459988217,
          738.3151201090036,
          750.8470942191855,
          763.3790683293673,
          775.9110424395493,
          788.4430165497312,
          800.974990659913,
          813.5069647700949,
          826.0389388802768,
          838.5709129904587,
          851.1028871006406,
          863.6348612108225,
          876.1668353210043,
          888.6988094311862
         ]
        }
       ],
       "layout": {
        "legend": {
         "title": {
          "text": "Legend"
         }
        },
        "shapes": [
         {
          "fillcolor": "White",
          "layer": "below",
          "line": {
           "width": 0
          },
          "opacity": 0.3,
          "type": "rect",
          "x0": "2020-08-01T00:00:00",
          "x1": "2024-12-01T00:00:00",
          "xref": "x",
          "y0": 0,
          "y1": 1,
          "yref": "paper"
         },
         {
          "fillcolor": "LightSalmon",
          "layer": "below",
          "line": {
           "width": 0
          },
          "opacity": 0.3,
          "type": "rect",
          "x0": "2020-01-01T00:00:00",
          "x1": "2020-07-01T00:00:00",
          "xref": "x",
          "y0": 0,
          "y1": 1,
          "yref": "paper"
         },
         {
          "fillcolor": "LightSalmon",
          "layer": "below",
          "line": {
           "width": 0
          },
          "opacity": 0.3,
          "type": "rect",
          "x0": "2021-04-01T00:00:00",
          "x1": "2021-05-01T00:00:00",
          "xref": "x",
          "y0": 0,
          "y1": 1,
          "yref": "paper"
         },
         {
          "fillcolor": "Grey",
          "layer": "below",
          "line": {
           "width": 0
          },
          "opacity": 0.3,
          "type": "rect",
          "x0": "2020-08-01T00:00:00",
          "x1": "2024-12-01T00:00:00",
          "xref": "x",
          "y0": 0,
          "y1": 1,
          "yref": "paper"
         }
        ],
        "template": {
         "data": {
          "bar": [
           {
            "error_x": {
             "color": "#2a3f5f"
            },
            "error_y": {
             "color": "#2a3f5f"
            },
            "marker": {
             "line": {
              "color": "#E5ECF6",
              "width": 0.5
             },
             "pattern": {
              "fillmode": "overlay",
              "size": 10,
              "solidity": 0.2
             }
            },
            "type": "bar"
           }
          ],
          "barpolar": [
           {
            "marker": {
             "line": {
              "color": "#E5ECF6",
              "width": 0.5
             },
             "pattern": {
              "fillmode": "overlay",
              "size": 10,
              "solidity": 0.2
             }
            },
            "type": "barpolar"
           }
          ],
          "carpet": [
           {
            "aaxis": {
             "endlinecolor": "#2a3f5f",
             "gridcolor": "white",
             "linecolor": "white",
             "minorgridcolor": "white",
             "startlinecolor": "#2a3f5f"
            },
            "baxis": {
             "endlinecolor": "#2a3f5f",
             "gridcolor": "white",
             "linecolor": "white",
             "minorgridcolor": "white",
             "startlinecolor": "#2a3f5f"
            },
            "type": "carpet"
           }
          ],
          "choropleth": [
           {
            "colorbar": {
             "outlinewidth": 0,
             "ticks": ""
            },
            "type": "choropleth"
           }
          ],
          "contour": [
           {
            "colorbar": {
             "outlinewidth": 0,
             "ticks": ""
            },
            "colorscale": [
             [
              0,
              "#0d0887"
             ],
             [
              0.1111111111111111,
              "#46039f"
             ],
             [
              0.2222222222222222,
              "#7201a8"
             ],
             [
              0.3333333333333333,
              "#9c179e"
             ],
             [
              0.4444444444444444,
              "#bd3786"
             ],
             [
              0.5555555555555556,
              "#d8576b"
             ],
             [
              0.6666666666666666,
              "#ed7953"
             ],
             [
              0.7777777777777778,
              "#fb9f3a"
             ],
             [
              0.8888888888888888,
              "#fdca26"
             ],
             [
              1,
              "#f0f921"
             ]
            ],
            "type": "contour"
           }
          ],
          "contourcarpet": [
           {
            "colorbar": {
             "outlinewidth": 0,
             "ticks": ""
            },
            "type": "contourcarpet"
           }
          ],
          "heatmap": [
           {
            "colorbar": {
             "outlinewidth": 0,
             "ticks": ""
            },
            "colorscale": [
             [
              0,
              "#0d0887"
             ],
             [
              0.1111111111111111,
              "#46039f"
             ],
             [
              0.2222222222222222,
              "#7201a8"
             ],
             [
              0.3333333333333333,
              "#9c179e"
             ],
             [
              0.4444444444444444,
              "#bd3786"
             ],
             [
              0.5555555555555556,
              "#d8576b"
             ],
             [
              0.6666666666666666,
              "#ed7953"
             ],
             [
              0.7777777777777778,
              "#fb9f3a"
             ],
             [
              0.8888888888888888,
              "#fdca26"
             ],
             [
              1,
              "#f0f921"
             ]
            ],
            "type": "heatmap"
           }
          ],
          "heatmapgl": [
           {
            "colorbar": {
             "outlinewidth": 0,
             "ticks": ""
            },
            "colorscale": [
             [
              0,
              "#0d0887"
             ],
             [
              0.1111111111111111,
              "#46039f"
             ],
             [
              0.2222222222222222,
              "#7201a8"
             ],
             [
              0.3333333333333333,
              "#9c179e"
             ],
             [
              0.4444444444444444,
              "#bd3786"
             ],
             [
              0.5555555555555556,
              "#d8576b"
             ],
             [
              0.6666666666666666,
              "#ed7953"
             ],
             [
              0.7777777777777778,
              "#fb9f3a"
             ],
             [
              0.8888888888888888,
              "#fdca26"
             ],
             [
              1,
              "#f0f921"
             ]
            ],
            "type": "heatmapgl"
           }
          ],
          "histogram": [
           {
            "marker": {
             "pattern": {
              "fillmode": "overlay",
              "size": 10,
              "solidity": 0.2
             }
            },
            "type": "histogram"
           }
          ],
          "histogram2d": [
           {
            "colorbar": {
             "outlinewidth": 0,
             "ticks": ""
            },
            "colorscale": [
             [
              0,
              "#0d0887"
             ],
             [
              0.1111111111111111,
              "#46039f"
             ],
             [
              0.2222222222222222,
              "#7201a8"
             ],
             [
              0.3333333333333333,
              "#9c179e"
             ],
             [
              0.4444444444444444,
              "#bd3786"
             ],
             [
              0.5555555555555556,
              "#d8576b"
             ],
             [
              0.6666666666666666,
              "#ed7953"
             ],
             [
              0.7777777777777778,
              "#fb9f3a"
             ],
             [
              0.8888888888888888,
              "#fdca26"
             ],
             [
              1,
              "#f0f921"
             ]
            ],
            "type": "histogram2d"
           }
          ],
          "histogram2dcontour": [
           {
            "colorbar": {
             "outlinewidth": 0,
             "ticks": ""
            },
            "colorscale": [
             [
              0,
              "#0d0887"
             ],
             [
              0.1111111111111111,
              "#46039f"
             ],
             [
              0.2222222222222222,
              "#7201a8"
             ],
             [
              0.3333333333333333,
              "#9c179e"
             ],
             [
              0.4444444444444444,
              "#bd3786"
             ],
             [
              0.5555555555555556,
              "#d8576b"
             ],
             [
              0.6666666666666666,
              "#ed7953"
             ],
             [
              0.7777777777777778,
              "#fb9f3a"
             ],
             [
              0.8888888888888888,
              "#fdca26"
             ],
             [
              1,
              "#f0f921"
             ]
            ],
            "type": "histogram2dcontour"
           }
          ],
          "mesh3d": [
           {
            "colorbar": {
             "outlinewidth": 0,
             "ticks": ""
            },
            "type": "mesh3d"
           }
          ],
          "parcoords": [
           {
            "line": {
             "colorbar": {
              "outlinewidth": 0,
              "ticks": ""
             }
            },
            "type": "parcoords"
           }
          ],
          "pie": [
           {
            "automargin": true,
            "type": "pie"
           }
          ],
          "scatter": [
           {
            "fillpattern": {
             "fillmode": "overlay",
             "size": 10,
             "solidity": 0.2
            },
            "type": "scatter"
           }
          ],
          "scatter3d": [
           {
            "line": {
             "colorbar": {
              "outlinewidth": 0,
              "ticks": ""
             }
            },
            "marker": {
             "colorbar": {
              "outlinewidth": 0,
              "ticks": ""
             }
            },
            "type": "scatter3d"
           }
          ],
          "scattercarpet": [
           {
            "marker": {
             "colorbar": {
              "outlinewidth": 0,
              "ticks": ""
             }
            },
            "type": "scattercarpet"
           }
          ],
          "scattergeo": [
           {
            "marker": {
             "colorbar": {
              "outlinewidth": 0,
              "ticks": ""
             }
            },
            "type": "scattergeo"
           }
          ],
          "scattergl": [
           {
            "marker": {
             "colorbar": {
              "outlinewidth": 0,
              "ticks": ""
             }
            },
            "type": "scattergl"
           }
          ],
          "scattermapbox": [
           {
            "marker": {
             "colorbar": {
              "outlinewidth": 0,
              "ticks": ""
             }
            },
            "type": "scattermapbox"
           }
          ],
          "scatterpolar": [
           {
            "marker": {
             "colorbar": {
              "outlinewidth": 0,
              "ticks": ""
             }
            },
            "type": "scatterpolar"
           }
          ],
          "scatterpolargl": [
           {
            "marker": {
             "colorbar": {
              "outlinewidth": 0,
              "ticks": ""
             }
            },
            "type": "scatterpolargl"
           }
          ],
          "scatterternary": [
           {
            "marker": {
             "colorbar": {
              "outlinewidth": 0,
              "ticks": ""
             }
            },
            "type": "scatterternary"
           }
          ],
          "surface": [
           {
            "colorbar": {
             "outlinewidth": 0,
             "ticks": ""
            },
            "colorscale": [
             [
              0,
              "#0d0887"
             ],
             [
              0.1111111111111111,
              "#46039f"
             ],
             [
              0.2222222222222222,
              "#7201a8"
             ],
             [
              0.3333333333333333,
              "#9c179e"
             ],
             [
              0.4444444444444444,
              "#bd3786"
             ],
             [
              0.5555555555555556,
              "#d8576b"
             ],
             [
              0.6666666666666666,
              "#ed7953"
             ],
             [
              0.7777777777777778,
              "#fb9f3a"
             ],
             [
              0.8888888888888888,
              "#fdca26"
             ],
             [
              1,
              "#f0f921"
             ]
            ],
            "type": "surface"
           }
          ],
          "table": [
           {
            "cells": {
             "fill": {
              "color": "#EBF0F8"
             },
             "line": {
              "color": "white"
             }
            },
            "header": {
             "fill": {
              "color": "#C8D4E3"
             },
             "line": {
              "color": "white"
             }
            },
            "type": "table"
           }
          ]
         },
         "layout": {
          "annotationdefaults": {
           "arrowcolor": "#2a3f5f",
           "arrowhead": 0,
           "arrowwidth": 1
          },
          "autotypenumbers": "strict",
          "coloraxis": {
           "colorbar": {
            "outlinewidth": 0,
            "ticks": ""
           }
          },
          "colorscale": {
           "diverging": [
            [
             0,
             "#8e0152"
            ],
            [
             0.1,
             "#c51b7d"
            ],
            [
             0.2,
             "#de77ae"
            ],
            [
             0.3,
             "#f1b6da"
            ],
            [
             0.4,
             "#fde0ef"
            ],
            [
             0.5,
             "#f7f7f7"
            ],
            [
             0.6,
             "#e6f5d0"
            ],
            [
             0.7,
             "#b8e186"
            ],
            [
             0.8,
             "#7fbc41"
            ],
            [
             0.9,
             "#4d9221"
            ],
            [
             1,
             "#276419"
            ]
           ],
           "sequential": [
            [
             0,
             "#0d0887"
            ],
            [
             0.1111111111111111,
             "#46039f"
            ],
            [
             0.2222222222222222,
             "#7201a8"
            ],
            [
             0.3333333333333333,
             "#9c179e"
            ],
            [
             0.4444444444444444,
             "#bd3786"
            ],
            [
             0.5555555555555556,
             "#d8576b"
            ],
            [
             0.6666666666666666,
             "#ed7953"
            ],
            [
             0.7777777777777778,
             "#fb9f3a"
            ],
            [
             0.8888888888888888,
             "#fdca26"
            ],
            [
             1,
             "#f0f921"
            ]
           ],
           "sequentialminus": [
            [
             0,
             "#0d0887"
            ],
            [
             0.1111111111111111,
             "#46039f"
            ],
            [
             0.2222222222222222,
             "#7201a8"
            ],
            [
             0.3333333333333333,
             "#9c179e"
            ],
            [
             0.4444444444444444,
             "#bd3786"
            ],
            [
             0.5555555555555556,
             "#d8576b"
            ],
            [
             0.6666666666666666,
             "#ed7953"
            ],
            [
             0.7777777777777778,
             "#fb9f3a"
            ],
            [
             0.8888888888888888,
             "#fdca26"
            ],
            [
             1,
             "#f0f921"
            ]
           ]
          },
          "colorway": [
           "#636efa",
           "#EF553B",
           "#00cc96",
           "#ab63fa",
           "#FFA15A",
           "#19d3f3",
           "#FF6692",
           "#B6E880",
           "#FF97FF",
           "#FECB52"
          ],
          "font": {
           "color": "#2a3f5f"
          },
          "geo": {
           "bgcolor": "white",
           "lakecolor": "white",
           "landcolor": "#E5ECF6",
           "showlakes": true,
           "showland": true,
           "subunitcolor": "white"
          },
          "hoverlabel": {
           "align": "left"
          },
          "hovermode": "closest",
          "mapbox": {
           "style": "light"
          },
          "paper_bgcolor": "white",
          "plot_bgcolor": "#E5ECF6",
          "polar": {
           "angularaxis": {
            "gridcolor": "white",
            "linecolor": "white",
            "ticks": ""
           },
           "bgcolor": "#E5ECF6",
           "radialaxis": {
            "gridcolor": "white",
            "linecolor": "white",
            "ticks": ""
           }
          },
          "scene": {
           "xaxis": {
            "backgroundcolor": "#E5ECF6",
            "gridcolor": "white",
            "gridwidth": 2,
            "linecolor": "white",
            "showbackground": true,
            "ticks": "",
            "zerolinecolor": "white"
           },
           "yaxis": {
            "backgroundcolor": "#E5ECF6",
            "gridcolor": "white",
            "gridwidth": 2,
            "linecolor": "white",
            "showbackground": true,
            "ticks": "",
            "zerolinecolor": "white"
           },
           "zaxis": {
            "backgroundcolor": "#E5ECF6",
            "gridcolor": "white",
            "gridwidth": 2,
            "linecolor": "white",
            "showbackground": true,
            "ticks": "",
            "zerolinecolor": "white"
           }
          },
          "shapedefaults": {
           "line": {
            "color": "#2a3f5f"
           }
          },
          "ternary": {
           "aaxis": {
            "gridcolor": "white",
            "linecolor": "white",
            "ticks": ""
           },
           "baxis": {
            "gridcolor": "white",
            "linecolor": "white",
            "ticks": ""
           },
           "bgcolor": "#E5ECF6",
           "caxis": {
            "gridcolor": "white",
            "linecolor": "white",
            "ticks": ""
           }
          },
          "title": {
           "x": 0.05
          },
          "xaxis": {
           "automargin": true,
           "gridcolor": "white",
           "linecolor": "white",
           "ticks": "",
           "title": {
            "standoff": 15
           },
           "zerolinecolor": "white",
           "zerolinewidth": 2
          },
          "yaxis": {
           "automargin": true,
           "gridcolor": "white",
           "linecolor": "white",
           "ticks": "",
           "title": {
            "standoff": 15
           },
           "zerolinecolor": "white",
           "zerolinewidth": 2
          }
         }
        },
        "title": {
         "text": "F20-F29 - Esquizofrenia, transtornos esquizotípicos e transtornos delirantes"
        },
        "xaxis": {
         "title": {
          "text": "Time"
         }
        },
        "yaxis": {
         "title": {
          "text": "Value"
         }
        }
       }
      }
     },
     "metadata": {},
     "output_type": "display_data"
    },
    {
     "name": "stdout",
     "output_type": "stream",
     "text": [
      "Processing variable: F30-F39 - Transtornos do humor [afetivos]\n"
     ]
    },
    {
     "data": {
      "application/vnd.plotly.v1+json": {
       "config": {
        "plotlyServerURL": "https://plot.ly"
       },
       "data": [
        {
         "marker": {
          "color": "blue"
         },
         "mode": "markers",
         "name": "Real",
         "type": "scatter",
         "x": [
          "2016-01-01T00:00:00",
          "2016-02-01T00:00:00",
          "2016-03-01T00:00:00",
          "2016-04-01T00:00:00",
          "2016-05-01T00:00:00",
          "2016-06-01T00:00:00",
          "2016-07-01T00:00:00",
          "2016-08-01T00:00:00",
          "2016-09-01T00:00:00",
          "2016-10-01T00:00:00",
          "2016-11-01T00:00:00",
          "2016-12-01T00:00:00",
          "2017-01-01T00:00:00",
          "2017-02-01T00:00:00",
          "2017-03-01T00:00:00",
          "2017-04-01T00:00:00",
          "2017-05-01T00:00:00",
          "2017-06-01T00:00:00",
          "2017-07-01T00:00:00",
          "2017-08-01T00:00:00",
          "2017-09-01T00:00:00",
          "2017-10-01T00:00:00",
          "2017-11-01T00:00:00",
          "2017-12-01T00:00:00",
          "2018-01-01T00:00:00",
          "2018-02-01T00:00:00",
          "2018-03-01T00:00:00",
          "2018-04-01T00:00:00",
          "2018-05-01T00:00:00",
          "2018-06-01T00:00:00",
          "2018-07-01T00:00:00",
          "2018-08-01T00:00:00",
          "2018-09-01T00:00:00",
          "2018-10-01T00:00:00",
          "2018-11-01T00:00:00",
          "2018-12-01T00:00:00",
          "2019-01-01T00:00:00",
          "2019-02-01T00:00:00",
          "2019-03-01T00:00:00",
          "2019-04-01T00:00:00",
          "2019-05-01T00:00:00",
          "2019-06-01T00:00:00",
          "2019-07-01T00:00:00",
          "2019-08-01T00:00:00",
          "2019-09-01T00:00:00",
          "2019-10-01T00:00:00",
          "2019-11-01T00:00:00",
          "2019-12-01T00:00:00",
          "2020-01-01T00:00:00",
          "2020-02-01T00:00:00",
          "2020-03-01T00:00:00",
          "2020-04-01T00:00:00",
          "2020-05-01T00:00:00",
          "2020-06-01T00:00:00",
          "2020-07-01T00:00:00",
          "2020-08-01T00:00:00",
          "2020-09-01T00:00:00",
          "2020-10-01T00:00:00",
          "2020-11-01T00:00:00",
          "2020-12-01T00:00:00",
          "2021-01-01T00:00:00",
          "2021-02-01T00:00:00",
          "2021-03-01T00:00:00",
          "2021-04-01T00:00:00",
          "2021-05-01T00:00:00",
          "2021-06-01T00:00:00",
          "2021-07-01T00:00:00",
          "2021-08-01T00:00:00",
          "2021-09-01T00:00:00",
          "2021-10-01T00:00:00",
          "2021-11-01T00:00:00",
          "2021-12-01T00:00:00",
          "2022-01-01T00:00:00",
          "2022-02-01T00:00:00",
          "2022-03-01T00:00:00",
          "2022-04-01T00:00:00",
          "2022-05-01T00:00:00",
          "2022-06-01T00:00:00",
          "2022-07-01T00:00:00",
          "2022-08-01T00:00:00",
          "2022-09-01T00:00:00",
          "2022-10-01T00:00:00",
          "2022-11-01T00:00:00",
          "2022-12-01T00:00:00",
          "2023-01-01T00:00:00",
          "2023-02-01T00:00:00",
          "2023-03-01T00:00:00",
          "2023-04-01T00:00:00",
          "2023-05-01T00:00:00",
          "2023-06-01T00:00:00",
          "2023-07-01T00:00:00",
          "2023-08-01T00:00:00",
          "2023-09-01T00:00:00",
          "2023-10-01T00:00:00",
          "2023-11-01T00:00:00",
          "2023-12-01T00:00:00",
          "2024-01-01T00:00:00",
          "2024-02-01T00:00:00",
          "2024-03-01T00:00:00",
          "2024-04-01T00:00:00",
          "2024-05-01T00:00:00",
          "2024-06-01T00:00:00",
          "2024-07-01T00:00:00",
          "2024-08-01T00:00:00",
          "2024-09-01T00:00:00",
          "2024-10-01T00:00:00",
          "2024-11-01T00:00:00",
          "2024-12-01T00:00:00"
         ],
         "y": [
          2173,
          2389,
          3179,
          2984,
          3775,
          4536,
          4401,
          5355,
          4392,
          4147,
          3277,
          3058,
          2925,
          2733,
          3979,
          3092,
          3585,
          3274,
          3176,
          3445,
          3206,
          3098,
          3239,
          3062,
          2950,
          2695,
          3425,
          3523,
          3371,
          3131,
          3157,
          3504,
          3138,
          3862,
          3282,
          3028,
          3278,
          3104,
          2726,
          3279,
          3567,
          3013,
          3482,
          3349,
          2772,
          3049,
          2346,
          2066,
          2340,
          2015,
          1780,
          1560,
          1914,
          1908,
          2029,
          2242,
          2544,
          2563,
          2722,
          2471,
          2418,
          2321,
          2202,
          1497,
          702,
          2770,
          2964,
          3133,
          2956,
          3030,
          2801,
          2951,
          1564,
          2006,
          2985,
          2389,
          2721,
          2659,
          2771,
          3029,
          2830,
          3172,
          3380,
          3329,
          3565,
          2780,
          3835,
          3400,
          4051,
          3583,
          3958,
          4641,
          3749,
          4567,
          4539,
          4370,
          4601,
          4147,
          4369,
          4862,
          3452,
          4271,
          4701,
          4849,
          4389,
          5725,
          4514,
          4463
         ]
        },
        {
         "line": {
          "color": "black",
          "dash": "dot"
         },
         "mode": "lines",
         "name": "Baseline",
         "type": "scatter",
         "x": [
          "2016-01-01T00:00:00",
          "2016-02-01T00:00:00",
          "2016-03-01T00:00:00",
          "2016-04-01T00:00:00",
          "2016-05-01T00:00:00",
          "2016-06-01T00:00:00",
          "2016-07-01T00:00:00",
          "2016-08-01T00:00:00",
          "2016-09-01T00:00:00",
          "2016-10-01T00:00:00",
          "2016-11-01T00:00:00",
          "2016-12-01T00:00:00",
          "2017-01-01T00:00:00",
          "2017-02-01T00:00:00",
          "2017-03-01T00:00:00",
          "2017-04-01T00:00:00",
          "2017-05-01T00:00:00",
          "2017-06-01T00:00:00",
          "2017-07-01T00:00:00",
          "2017-08-01T00:00:00",
          "2017-09-01T00:00:00",
          "2017-10-01T00:00:00",
          "2017-11-01T00:00:00",
          "2017-12-01T00:00:00",
          "2018-01-01T00:00:00",
          "2018-02-01T00:00:00",
          "2018-03-01T00:00:00",
          "2018-04-01T00:00:00",
          "2018-05-01T00:00:00",
          "2018-06-01T00:00:00",
          "2018-07-01T00:00:00",
          "2018-08-01T00:00:00",
          "2018-09-01T00:00:00",
          "2018-10-01T00:00:00",
          "2018-11-01T00:00:00",
          "2018-12-01T00:00:00",
          "2019-01-01T00:00:00",
          "2019-02-01T00:00:00",
          "2019-03-01T00:00:00",
          "2019-04-01T00:00:00",
          "2019-05-01T00:00:00",
          "2019-06-01T00:00:00",
          "2019-07-01T00:00:00",
          "2019-08-01T00:00:00",
          "2019-09-01T00:00:00",
          "2019-10-01T00:00:00",
          "2019-11-01T00:00:00",
          "2019-12-01T00:00:00",
          "2020-01-01T00:00:00",
          "2020-02-01T00:00:00",
          "2020-03-01T00:00:00",
          "2020-04-01T00:00:00",
          "2020-05-01T00:00:00",
          "2020-06-01T00:00:00",
          "2020-07-01T00:00:00",
          "2020-08-01T00:00:00",
          "2020-09-01T00:00:00",
          "2020-10-01T00:00:00",
          "2020-11-01T00:00:00",
          "2020-12-01T00:00:00",
          "2021-01-01T00:00:00",
          "2021-02-01T00:00:00",
          "2021-03-01T00:00:00",
          "2021-04-01T00:00:00",
          "2021-05-01T00:00:00",
          "2021-06-01T00:00:00",
          "2021-07-01T00:00:00",
          "2021-08-01T00:00:00",
          "2021-09-01T00:00:00",
          "2021-10-01T00:00:00",
          "2021-11-01T00:00:00",
          "2021-12-01T00:00:00",
          "2022-01-01T00:00:00",
          "2022-02-01T00:00:00",
          "2022-03-01T00:00:00",
          "2022-04-01T00:00:00",
          "2022-05-01T00:00:00",
          "2022-06-01T00:00:00",
          "2022-07-01T00:00:00",
          "2022-08-01T00:00:00",
          "2022-09-01T00:00:00",
          "2022-10-01T00:00:00",
          "2022-11-01T00:00:00",
          "2022-12-01T00:00:00",
          "2023-01-01T00:00:00",
          "2023-02-01T00:00:00",
          "2023-03-01T00:00:00",
          "2023-04-01T00:00:00",
          "2023-05-01T00:00:00",
          "2023-06-01T00:00:00",
          "2023-07-01T00:00:00",
          "2023-08-01T00:00:00",
          "2023-09-01T00:00:00",
          "2023-10-01T00:00:00",
          "2023-11-01T00:00:00",
          "2023-12-01T00:00:00",
          "2024-01-01T00:00:00",
          "2024-02-01T00:00:00",
          "2024-03-01T00:00:00",
          "2024-04-01T00:00:00",
          "2024-05-01T00:00:00",
          "2024-06-01T00:00:00",
          "2024-07-01T00:00:00",
          "2024-08-01T00:00:00",
          "2024-09-01T00:00:00",
          "2024-10-01T00:00:00",
          "2024-11-01T00:00:00",
          "2024-12-01T00:00:00"
         ],
         "y": [
          3354.927385238517,
          3339.0025576734733,
          3323.07773010843,
          3307.1529025433865,
          3291.228074978343,
          3275.3032474132992,
          3259.378419848256,
          3243.4535922832124,
          3227.528764718169,
          3211.603937153125,
          3195.6791095880817,
          3179.7542820230383,
          3163.829454457995,
          3147.904626892951,
          3131.9797993279076,
          3116.054971762864,
          3100.1301441978203,
          3084.205316632777,
          3068.2804890677335,
          3052.35566150269,
          3036.430833937646,
          3020.5060063726028,
          3004.5811788075594,
          2988.6563512425155,
          2972.731523677472,
          2956.8066961124287,
          2940.8818685473852,
          2924.957040982342,
          2909.032213417298,
          2893.1073858522545,
          2877.182558287211,
          2861.2577307221673,
          2845.332903157124,
          2829.4080755920804,
          2813.483248027037,
          2797.558420461993,
          2781.6335928969497,
          2765.7087653319063,
          2749.7839377668624,
          2733.859110201819,
          2717.9342826367756,
          2702.009455071732,
          2686.084627506689,
          2670.159799941645,
          2654.2349723766015,
          2638.3101448115576,
          2622.385317246514,
          2606.460489681471,
          2590.5356621164274,
          2574.610834551384,
          2558.68600698634,
          2542.7611794212967,
          2526.8363518562533,
          2510.9115242912094,
          2494.986696726166,
          2479.0618691611226,
          2463.137041596079,
          2447.2122140310353,
          2431.287386465992,
          2415.3625589009484,
          2399.4377313359046,
          2383.512903770861,
          2367.5880762058177,
          2351.6632486407743,
          2335.738421075731,
          2319.813593510687,
          2303.8887659456436,
          2287.9639383805998,
          2272.0391108155563,
          2256.114283250513,
          2240.1894556854695,
          2224.264628120426,
          2208.3398005553827,
          2192.414972990339,
          2176.4901454252954,
          2160.5653178602515,
          2144.640490295208,
          2128.7156627301647,
          2112.7908351651213,
          2096.866007600078,
          2080.941180035034,
          2065.0163524699906,
          2049.0915249049467,
          2033.1666973399035,
          2017.2418697748599,
          2001.3170422098165,
          1985.3922146447728,
          1969.4673870797294,
          1953.5425595146858,
          1937.6177319496421,
          1921.6929043845987,
          1905.768076819555,
          1889.8432492545116,
          1873.918421689468,
          1857.9935941244246,
          1842.068766559381,
          1826.1439389943375,
          1810.219111429294,
          1794.2942838642505,
          1778.3694562992068,
          1762.4446287341634,
          1746.5198011691198,
          1730.5949736040761,
          1714.6701460390327,
          1698.745318473989,
          1682.8204909089457,
          1666.895663343902,
          1650.9708357788586
         ]
        },
        {
         "line": {
          "dash": "solid"
         },
         "mode": "lines",
         "name": "Trend_PosPandemia Effect",
         "type": "scatter",
         "x": [
          "2016-01-01T00:00:00",
          "2016-02-01T00:00:00",
          "2016-03-01T00:00:00",
          "2016-04-01T00:00:00",
          "2016-05-01T00:00:00",
          "2016-06-01T00:00:00",
          "2016-07-01T00:00:00",
          "2016-08-01T00:00:00",
          "2016-09-01T00:00:00",
          "2016-10-01T00:00:00",
          "2016-11-01T00:00:00",
          "2016-12-01T00:00:00",
          "2017-01-01T00:00:00",
          "2017-02-01T00:00:00",
          "2017-03-01T00:00:00",
          "2017-04-01T00:00:00",
          "2017-05-01T00:00:00",
          "2017-06-01T00:00:00",
          "2017-07-01T00:00:00",
          "2017-08-01T00:00:00",
          "2017-09-01T00:00:00",
          "2017-10-01T00:00:00",
          "2017-11-01T00:00:00",
          "2017-12-01T00:00:00",
          "2018-01-01T00:00:00",
          "2018-02-01T00:00:00",
          "2018-03-01T00:00:00",
          "2018-04-01T00:00:00",
          "2018-05-01T00:00:00",
          "2018-06-01T00:00:00",
          "2018-07-01T00:00:00",
          "2018-08-01T00:00:00",
          "2018-09-01T00:00:00",
          "2018-10-01T00:00:00",
          "2018-11-01T00:00:00",
          "2018-12-01T00:00:00",
          "2019-01-01T00:00:00",
          "2019-02-01T00:00:00",
          "2019-03-01T00:00:00",
          "2019-04-01T00:00:00",
          "2019-05-01T00:00:00",
          "2019-06-01T00:00:00",
          "2019-07-01T00:00:00",
          "2019-08-01T00:00:00",
          "2019-09-01T00:00:00",
          "2019-10-01T00:00:00",
          "2019-11-01T00:00:00",
          "2019-12-01T00:00:00",
          "2020-01-01T00:00:00",
          "2020-02-01T00:00:00",
          "2020-03-01T00:00:00",
          "2020-04-01T00:00:00",
          "2020-05-01T00:00:00",
          "2020-06-01T00:00:00",
          "2020-07-01T00:00:00",
          "2020-08-01T00:00:00",
          "2020-09-01T00:00:00",
          "2020-10-01T00:00:00",
          "2020-11-01T00:00:00",
          "2020-12-01T00:00:00",
          "2021-01-01T00:00:00",
          "2021-02-01T00:00:00",
          "2021-03-01T00:00:00",
          "2021-04-01T00:00:00",
          "2021-05-01T00:00:00",
          "2021-06-01T00:00:00",
          "2021-07-01T00:00:00",
          "2021-08-01T00:00:00",
          "2021-09-01T00:00:00",
          "2021-10-01T00:00:00",
          "2021-11-01T00:00:00",
          "2021-12-01T00:00:00",
          "2022-01-01T00:00:00",
          "2022-02-01T00:00:00",
          "2022-03-01T00:00:00",
          "2022-04-01T00:00:00",
          "2022-05-01T00:00:00",
          "2022-06-01T00:00:00",
          "2022-07-01T00:00:00",
          "2022-08-01T00:00:00",
          "2022-09-01T00:00:00",
          "2022-10-01T00:00:00",
          "2022-11-01T00:00:00",
          "2022-12-01T00:00:00",
          "2023-01-01T00:00:00",
          "2023-02-01T00:00:00",
          "2023-03-01T00:00:00",
          "2023-04-01T00:00:00",
          "2023-05-01T00:00:00",
          "2023-06-01T00:00:00",
          "2023-07-01T00:00:00",
          "2023-08-01T00:00:00",
          "2023-09-01T00:00:00",
          "2023-10-01T00:00:00",
          "2023-11-01T00:00:00",
          "2023-12-01T00:00:00",
          "2024-01-01T00:00:00",
          "2024-02-01T00:00:00",
          "2024-03-01T00:00:00",
          "2024-04-01T00:00:00",
          "2024-05-01T00:00:00",
          "2024-06-01T00:00:00",
          "2024-07-01T00:00:00",
          "2024-08-01T00:00:00",
          "2024-09-01T00:00:00",
          "2024-10-01T00:00:00",
          "2024-11-01T00:00:00",
          "2024-12-01T00:00:00"
         ],
         "y": [
          3354.927385238517,
          3339.0025576734733,
          3323.07773010843,
          3307.1529025433865,
          3291.228074978343,
          3275.3032474132992,
          3259.378419848256,
          3243.4535922832124,
          3227.528764718169,
          3211.603937153125,
          3195.6791095880817,
          3179.7542820230383,
          3163.829454457995,
          3147.904626892951,
          3131.9797993279076,
          3116.054971762864,
          3100.1301441978203,
          3084.205316632777,
          3068.2804890677335,
          3052.35566150269,
          3036.430833937646,
          3020.5060063726028,
          3004.5811788075594,
          2988.6563512425155,
          2972.731523677472,
          2956.8066961124287,
          2940.8818685473852,
          2924.957040982342,
          2909.032213417298,
          2893.1073858522545,
          2877.182558287211,
          2861.2577307221673,
          2845.332903157124,
          2829.4080755920804,
          2813.483248027037,
          2797.558420461993,
          2781.6335928969497,
          2765.7087653319063,
          2749.7839377668624,
          2733.859110201819,
          2717.9342826367756,
          2702.009455071732,
          2686.084627506689,
          2670.159799941645,
          2654.2349723766015,
          2638.3101448115576,
          2622.385317246514,
          2606.460489681471,
          1715.5356621164274,
          1699.610834551384,
          1683.68600698634,
          1667.7611794212967,
          1651.8363518562533,
          1635.9115242912094,
          1619.986696726166,
          1726.0618691611226,
          1778.1370415960791,
          1830.2122140310353,
          1882.2873864659919,
          1934.3625589009484,
          1986.4377313359046,
          2038.5129037708612,
          2090.5880762058177,
          720.6632486407743,
          772.7384210757309,
          2246.813593510687,
          2298.8887659456436,
          2350.9639383805998,
          2403.0391108155563,
          2455.114283250513,
          2507.1894556854695,
          2559.264628120426,
          2611.3398005553827,
          2663.414972990339,
          2715.4901454252954,
          2767.5653178602515,
          2819.640490295208,
          2871.7156627301647,
          2923.7908351651213,
          2975.866007600078,
          3027.941180035034,
          3080.0163524699906,
          3132.0915249049467,
          3184.1666973399033,
          3236.24186977486,
          3288.3170422098165,
          3340.392214644773,
          3392.4673870797296,
          3444.5425595146858,
          3496.617731949642,
          3548.6929043845985,
          3600.768076819555,
          3652.8432492545116,
          3704.9184216894682,
          3756.993594124425,
          3809.068766559381,
          3861.1439389943375,
          3913.2191114292937,
          3965.2942838642502,
          4017.369456299207,
          4069.4446287341634,
          4121.51980116912,
          4173.594973604077,
          4225.670146039032,
          4277.745318473989,
          4329.820490908945,
          4381.895663343902,
          4433.970835778859
         ]
        }
       ],
       "layout": {
        "legend": {
         "title": {
          "text": "Legend"
         }
        },
        "shapes": [
         {
          "fillcolor": "White",
          "layer": "below",
          "line": {
           "width": 0
          },
          "opacity": 0.3,
          "type": "rect",
          "x0": "2020-08-01T00:00:00",
          "x1": "2024-12-01T00:00:00",
          "xref": "x",
          "y0": 0,
          "y1": 1,
          "yref": "paper"
         },
         {
          "fillcolor": "LightSalmon",
          "layer": "below",
          "line": {
           "width": 0
          },
          "opacity": 0.3,
          "type": "rect",
          "x0": "2020-01-01T00:00:00",
          "x1": "2020-07-01T00:00:00",
          "xref": "x",
          "y0": 0,
          "y1": 1,
          "yref": "paper"
         },
         {
          "fillcolor": "LightSalmon",
          "layer": "below",
          "line": {
           "width": 0
          },
          "opacity": 0.3,
          "type": "rect",
          "x0": "2021-04-01T00:00:00",
          "x1": "2021-05-01T00:00:00",
          "xref": "x",
          "y0": 0,
          "y1": 1,
          "yref": "paper"
         },
         {
          "fillcolor": "Grey",
          "layer": "below",
          "line": {
           "width": 0
          },
          "opacity": 0.3,
          "type": "rect",
          "x0": "2020-08-01T00:00:00",
          "x1": "2024-12-01T00:00:00",
          "xref": "x",
          "y0": 0,
          "y1": 1,
          "yref": "paper"
         }
        ],
        "template": {
         "data": {
          "bar": [
           {
            "error_x": {
             "color": "#2a3f5f"
            },
            "error_y": {
             "color": "#2a3f5f"
            },
            "marker": {
             "line": {
              "color": "#E5ECF6",
              "width": 0.5
             },
             "pattern": {
              "fillmode": "overlay",
              "size": 10,
              "solidity": 0.2
             }
            },
            "type": "bar"
           }
          ],
          "barpolar": [
           {
            "marker": {
             "line": {
              "color": "#E5ECF6",
              "width": 0.5
             },
             "pattern": {
              "fillmode": "overlay",
              "size": 10,
              "solidity": 0.2
             }
            },
            "type": "barpolar"
           }
          ],
          "carpet": [
           {
            "aaxis": {
             "endlinecolor": "#2a3f5f",
             "gridcolor": "white",
             "linecolor": "white",
             "minorgridcolor": "white",
             "startlinecolor": "#2a3f5f"
            },
            "baxis": {
             "endlinecolor": "#2a3f5f",
             "gridcolor": "white",
             "linecolor": "white",
             "minorgridcolor": "white",
             "startlinecolor": "#2a3f5f"
            },
            "type": "carpet"
           }
          ],
          "choropleth": [
           {
            "colorbar": {
             "outlinewidth": 0,
             "ticks": ""
            },
            "type": "choropleth"
           }
          ],
          "contour": [
           {
            "colorbar": {
             "outlinewidth": 0,
             "ticks": ""
            },
            "colorscale": [
             [
              0,
              "#0d0887"
             ],
             [
              0.1111111111111111,
              "#46039f"
             ],
             [
              0.2222222222222222,
              "#7201a8"
             ],
             [
              0.3333333333333333,
              "#9c179e"
             ],
             [
              0.4444444444444444,
              "#bd3786"
             ],
             [
              0.5555555555555556,
              "#d8576b"
             ],
             [
              0.6666666666666666,
              "#ed7953"
             ],
             [
              0.7777777777777778,
              "#fb9f3a"
             ],
             [
              0.8888888888888888,
              "#fdca26"
             ],
             [
              1,
              "#f0f921"
             ]
            ],
            "type": "contour"
           }
          ],
          "contourcarpet": [
           {
            "colorbar": {
             "outlinewidth": 0,
             "ticks": ""
            },
            "type": "contourcarpet"
           }
          ],
          "heatmap": [
           {
            "colorbar": {
             "outlinewidth": 0,
             "ticks": ""
            },
            "colorscale": [
             [
              0,
              "#0d0887"
             ],
             [
              0.1111111111111111,
              "#46039f"
             ],
             [
              0.2222222222222222,
              "#7201a8"
             ],
             [
              0.3333333333333333,
              "#9c179e"
             ],
             [
              0.4444444444444444,
              "#bd3786"
             ],
             [
              0.5555555555555556,
              "#d8576b"
             ],
             [
              0.6666666666666666,
              "#ed7953"
             ],
             [
              0.7777777777777778,
              "#fb9f3a"
             ],
             [
              0.8888888888888888,
              "#fdca26"
             ],
             [
              1,
              "#f0f921"
             ]
            ],
            "type": "heatmap"
           }
          ],
          "heatmapgl": [
           {
            "colorbar": {
             "outlinewidth": 0,
             "ticks": ""
            },
            "colorscale": [
             [
              0,
              "#0d0887"
             ],
             [
              0.1111111111111111,
              "#46039f"
             ],
             [
              0.2222222222222222,
              "#7201a8"
             ],
             [
              0.3333333333333333,
              "#9c179e"
             ],
             [
              0.4444444444444444,
              "#bd3786"
             ],
             [
              0.5555555555555556,
              "#d8576b"
             ],
             [
              0.6666666666666666,
              "#ed7953"
             ],
             [
              0.7777777777777778,
              "#fb9f3a"
             ],
             [
              0.8888888888888888,
              "#fdca26"
             ],
             [
              1,
              "#f0f921"
             ]
            ],
            "type": "heatmapgl"
           }
          ],
          "histogram": [
           {
            "marker": {
             "pattern": {
              "fillmode": "overlay",
              "size": 10,
              "solidity": 0.2
             }
            },
            "type": "histogram"
           }
          ],
          "histogram2d": [
           {
            "colorbar": {
             "outlinewidth": 0,
             "ticks": ""
            },
            "colorscale": [
             [
              0,
              "#0d0887"
             ],
             [
              0.1111111111111111,
              "#46039f"
             ],
             [
              0.2222222222222222,
              "#7201a8"
             ],
             [
              0.3333333333333333,
              "#9c179e"
             ],
             [
              0.4444444444444444,
              "#bd3786"
             ],
             [
              0.5555555555555556,
              "#d8576b"
             ],
             [
              0.6666666666666666,
              "#ed7953"
             ],
             [
              0.7777777777777778,
              "#fb9f3a"
             ],
             [
              0.8888888888888888,
              "#fdca26"
             ],
             [
              1,
              "#f0f921"
             ]
            ],
            "type": "histogram2d"
           }
          ],
          "histogram2dcontour": [
           {
            "colorbar": {
             "outlinewidth": 0,
             "ticks": ""
            },
            "colorscale": [
             [
              0,
              "#0d0887"
             ],
             [
              0.1111111111111111,
              "#46039f"
             ],
             [
              0.2222222222222222,
              "#7201a8"
             ],
             [
              0.3333333333333333,
              "#9c179e"
             ],
             [
              0.4444444444444444,
              "#bd3786"
             ],
             [
              0.5555555555555556,
              "#d8576b"
             ],
             [
              0.6666666666666666,
              "#ed7953"
             ],
             [
              0.7777777777777778,
              "#fb9f3a"
             ],
             [
              0.8888888888888888,
              "#fdca26"
             ],
             [
              1,
              "#f0f921"
             ]
            ],
            "type": "histogram2dcontour"
           }
          ],
          "mesh3d": [
           {
            "colorbar": {
             "outlinewidth": 0,
             "ticks": ""
            },
            "type": "mesh3d"
           }
          ],
          "parcoords": [
           {
            "line": {
             "colorbar": {
              "outlinewidth": 0,
              "ticks": ""
             }
            },
            "type": "parcoords"
           }
          ],
          "pie": [
           {
            "automargin": true,
            "type": "pie"
           }
          ],
          "scatter": [
           {
            "fillpattern": {
             "fillmode": "overlay",
             "size": 10,
             "solidity": 0.2
            },
            "type": "scatter"
           }
          ],
          "scatter3d": [
           {
            "line": {
             "colorbar": {
              "outlinewidth": 0,
              "ticks": ""
             }
            },
            "marker": {
             "colorbar": {
              "outlinewidth": 0,
              "ticks": ""
             }
            },
            "type": "scatter3d"
           }
          ],
          "scattercarpet": [
           {
            "marker": {
             "colorbar": {
              "outlinewidth": 0,
              "ticks": ""
             }
            },
            "type": "scattercarpet"
           }
          ],
          "scattergeo": [
           {
            "marker": {
             "colorbar": {
              "outlinewidth": 0,
              "ticks": ""
             }
            },
            "type": "scattergeo"
           }
          ],
          "scattergl": [
           {
            "marker": {
             "colorbar": {
              "outlinewidth": 0,
              "ticks": ""
             }
            },
            "type": "scattergl"
           }
          ],
          "scattermapbox": [
           {
            "marker": {
             "colorbar": {
              "outlinewidth": 0,
              "ticks": ""
             }
            },
            "type": "scattermapbox"
           }
          ],
          "scatterpolar": [
           {
            "marker": {
             "colorbar": {
              "outlinewidth": 0,
              "ticks": ""
             }
            },
            "type": "scatterpolar"
           }
          ],
          "scatterpolargl": [
           {
            "marker": {
             "colorbar": {
              "outlinewidth": 0,
              "ticks": ""
             }
            },
            "type": "scatterpolargl"
           }
          ],
          "scatterternary": [
           {
            "marker": {
             "colorbar": {
              "outlinewidth": 0,
              "ticks": ""
             }
            },
            "type": "scatterternary"
           }
          ],
          "surface": [
           {
            "colorbar": {
             "outlinewidth": 0,
             "ticks": ""
            },
            "colorscale": [
             [
              0,
              "#0d0887"
             ],
             [
              0.1111111111111111,
              "#46039f"
             ],
             [
              0.2222222222222222,
              "#7201a8"
             ],
             [
              0.3333333333333333,
              "#9c179e"
             ],
             [
              0.4444444444444444,
              "#bd3786"
             ],
             [
              0.5555555555555556,
              "#d8576b"
             ],
             [
              0.6666666666666666,
              "#ed7953"
             ],
             [
              0.7777777777777778,
              "#fb9f3a"
             ],
             [
              0.8888888888888888,
              "#fdca26"
             ],
             [
              1,
              "#f0f921"
             ]
            ],
            "type": "surface"
           }
          ],
          "table": [
           {
            "cells": {
             "fill": {
              "color": "#EBF0F8"
             },
             "line": {
              "color": "white"
             }
            },
            "header": {
             "fill": {
              "color": "#C8D4E3"
             },
             "line": {
              "color": "white"
             }
            },
            "type": "table"
           }
          ]
         },
         "layout": {
          "annotationdefaults": {
           "arrowcolor": "#2a3f5f",
           "arrowhead": 0,
           "arrowwidth": 1
          },
          "autotypenumbers": "strict",
          "coloraxis": {
           "colorbar": {
            "outlinewidth": 0,
            "ticks": ""
           }
          },
          "colorscale": {
           "diverging": [
            [
             0,
             "#8e0152"
            ],
            [
             0.1,
             "#c51b7d"
            ],
            [
             0.2,
             "#de77ae"
            ],
            [
             0.3,
             "#f1b6da"
            ],
            [
             0.4,
             "#fde0ef"
            ],
            [
             0.5,
             "#f7f7f7"
            ],
            [
             0.6,
             "#e6f5d0"
            ],
            [
             0.7,
             "#b8e186"
            ],
            [
             0.8,
             "#7fbc41"
            ],
            [
             0.9,
             "#4d9221"
            ],
            [
             1,
             "#276419"
            ]
           ],
           "sequential": [
            [
             0,
             "#0d0887"
            ],
            [
             0.1111111111111111,
             "#46039f"
            ],
            [
             0.2222222222222222,
             "#7201a8"
            ],
            [
             0.3333333333333333,
             "#9c179e"
            ],
            [
             0.4444444444444444,
             "#bd3786"
            ],
            [
             0.5555555555555556,
             "#d8576b"
            ],
            [
             0.6666666666666666,
             "#ed7953"
            ],
            [
             0.7777777777777778,
             "#fb9f3a"
            ],
            [
             0.8888888888888888,
             "#fdca26"
            ],
            [
             1,
             "#f0f921"
            ]
           ],
           "sequentialminus": [
            [
             0,
             "#0d0887"
            ],
            [
             0.1111111111111111,
             "#46039f"
            ],
            [
             0.2222222222222222,
             "#7201a8"
            ],
            [
             0.3333333333333333,
             "#9c179e"
            ],
            [
             0.4444444444444444,
             "#bd3786"
            ],
            [
             0.5555555555555556,
             "#d8576b"
            ],
            [
             0.6666666666666666,
             "#ed7953"
            ],
            [
             0.7777777777777778,
             "#fb9f3a"
            ],
            [
             0.8888888888888888,
             "#fdca26"
            ],
            [
             1,
             "#f0f921"
            ]
           ]
          },
          "colorway": [
           "#636efa",
           "#EF553B",
           "#00cc96",
           "#ab63fa",
           "#FFA15A",
           "#19d3f3",
           "#FF6692",
           "#B6E880",
           "#FF97FF",
           "#FECB52"
          ],
          "font": {
           "color": "#2a3f5f"
          },
          "geo": {
           "bgcolor": "white",
           "lakecolor": "white",
           "landcolor": "#E5ECF6",
           "showlakes": true,
           "showland": true,
           "subunitcolor": "white"
          },
          "hoverlabel": {
           "align": "left"
          },
          "hovermode": "closest",
          "mapbox": {
           "style": "light"
          },
          "paper_bgcolor": "white",
          "plot_bgcolor": "#E5ECF6",
          "polar": {
           "angularaxis": {
            "gridcolor": "white",
            "linecolor": "white",
            "ticks": ""
           },
           "bgcolor": "#E5ECF6",
           "radialaxis": {
            "gridcolor": "white",
            "linecolor": "white",
            "ticks": ""
           }
          },
          "scene": {
           "xaxis": {
            "backgroundcolor": "#E5ECF6",
            "gridcolor": "white",
            "gridwidth": 2,
            "linecolor": "white",
            "showbackground": true,
            "ticks": "",
            "zerolinecolor": "white"
           },
           "yaxis": {
            "backgroundcolor": "#E5ECF6",
            "gridcolor": "white",
            "gridwidth": 2,
            "linecolor": "white",
            "showbackground": true,
            "ticks": "",
            "zerolinecolor": "white"
           },
           "zaxis": {
            "backgroundcolor": "#E5ECF6",
            "gridcolor": "white",
            "gridwidth": 2,
            "linecolor": "white",
            "showbackground": true,
            "ticks": "",
            "zerolinecolor": "white"
           }
          },
          "shapedefaults": {
           "line": {
            "color": "#2a3f5f"
           }
          },
          "ternary": {
           "aaxis": {
            "gridcolor": "white",
            "linecolor": "white",
            "ticks": ""
           },
           "baxis": {
            "gridcolor": "white",
            "linecolor": "white",
            "ticks": ""
           },
           "bgcolor": "#E5ECF6",
           "caxis": {
            "gridcolor": "white",
            "linecolor": "white",
            "ticks": ""
           }
          },
          "title": {
           "x": 0.05
          },
          "xaxis": {
           "automargin": true,
           "gridcolor": "white",
           "linecolor": "white",
           "ticks": "",
           "title": {
            "standoff": 15
           },
           "zerolinecolor": "white",
           "zerolinewidth": 2
          },
          "yaxis": {
           "automargin": true,
           "gridcolor": "white",
           "linecolor": "white",
           "ticks": "",
           "title": {
            "standoff": 15
           },
           "zerolinecolor": "white",
           "zerolinewidth": 2
          }
         }
        },
        "title": {
         "text": "F30-F39 - Transtornos do humor [afetivos]"
        },
        "xaxis": {
         "title": {
          "text": "Time"
         }
        },
        "yaxis": {
         "title": {
          "text": "Value"
         }
        }
       }
      }
     },
     "metadata": {},
     "output_type": "display_data"
    },
    {
     "name": "stdout",
     "output_type": "stream",
     "text": [
      "Processing variable: F40-F48 - Transtornos neuróticos, transtornos relacionados com o \"stress\" e transtornos somatoformes\n"
     ]
    },
    {
     "data": {
      "application/vnd.plotly.v1+json": {
       "config": {
        "plotlyServerURL": "https://plot.ly"
       },
       "data": [
        {
         "marker": {
          "color": "blue"
         },
         "mode": "markers",
         "name": "Real",
         "type": "scatter",
         "x": [
          "2016-01-01T00:00:00",
          "2016-02-01T00:00:00",
          "2016-03-01T00:00:00",
          "2016-04-01T00:00:00",
          "2016-05-01T00:00:00",
          "2016-06-01T00:00:00",
          "2016-07-01T00:00:00",
          "2016-08-01T00:00:00",
          "2016-09-01T00:00:00",
          "2016-10-01T00:00:00",
          "2016-11-01T00:00:00",
          "2016-12-01T00:00:00",
          "2017-01-01T00:00:00",
          "2017-02-01T00:00:00",
          "2017-03-01T00:00:00",
          "2017-04-01T00:00:00",
          "2017-05-01T00:00:00",
          "2017-06-01T00:00:00",
          "2017-07-01T00:00:00",
          "2017-08-01T00:00:00",
          "2017-09-01T00:00:00",
          "2017-10-01T00:00:00",
          "2017-11-01T00:00:00",
          "2017-12-01T00:00:00",
          "2018-01-01T00:00:00",
          "2018-02-01T00:00:00",
          "2018-03-01T00:00:00",
          "2018-04-01T00:00:00",
          "2018-05-01T00:00:00",
          "2018-06-01T00:00:00",
          "2018-07-01T00:00:00",
          "2018-08-01T00:00:00",
          "2018-09-01T00:00:00",
          "2018-10-01T00:00:00",
          "2018-11-01T00:00:00",
          "2018-12-01T00:00:00",
          "2019-01-01T00:00:00",
          "2019-02-01T00:00:00",
          "2019-03-01T00:00:00",
          "2019-04-01T00:00:00",
          "2019-05-01T00:00:00",
          "2019-06-01T00:00:00",
          "2019-07-01T00:00:00",
          "2019-08-01T00:00:00",
          "2019-09-01T00:00:00",
          "2019-10-01T00:00:00",
          "2019-11-01T00:00:00",
          "2019-12-01T00:00:00",
          "2020-01-01T00:00:00",
          "2020-02-01T00:00:00",
          "2020-03-01T00:00:00",
          "2020-04-01T00:00:00",
          "2020-05-01T00:00:00",
          "2020-06-01T00:00:00",
          "2020-07-01T00:00:00",
          "2020-08-01T00:00:00",
          "2020-09-01T00:00:00",
          "2020-10-01T00:00:00",
          "2020-11-01T00:00:00",
          "2020-12-01T00:00:00",
          "2021-01-01T00:00:00",
          "2021-02-01T00:00:00",
          "2021-03-01T00:00:00",
          "2021-04-01T00:00:00",
          "2021-05-01T00:00:00",
          "2021-06-01T00:00:00",
          "2021-07-01T00:00:00",
          "2021-08-01T00:00:00",
          "2021-09-01T00:00:00",
          "2021-10-01T00:00:00",
          "2021-11-01T00:00:00",
          "2021-12-01T00:00:00",
          "2022-01-01T00:00:00",
          "2022-02-01T00:00:00",
          "2022-03-01T00:00:00",
          "2022-04-01T00:00:00",
          "2022-05-01T00:00:00",
          "2022-06-01T00:00:00",
          "2022-07-01T00:00:00",
          "2022-08-01T00:00:00",
          "2022-09-01T00:00:00",
          "2022-10-01T00:00:00",
          "2022-11-01T00:00:00",
          "2022-12-01T00:00:00",
          "2023-01-01T00:00:00",
          "2023-02-01T00:00:00",
          "2023-03-01T00:00:00",
          "2023-04-01T00:00:00",
          "2023-05-01T00:00:00",
          "2023-06-01T00:00:00",
          "2023-07-01T00:00:00",
          "2023-08-01T00:00:00",
          "2023-09-01T00:00:00",
          "2023-10-01T00:00:00",
          "2023-11-01T00:00:00",
          "2023-12-01T00:00:00",
          "2024-01-01T00:00:00",
          "2024-02-01T00:00:00",
          "2024-03-01T00:00:00",
          "2024-04-01T00:00:00",
          "2024-05-01T00:00:00",
          "2024-06-01T00:00:00",
          "2024-07-01T00:00:00",
          "2024-08-01T00:00:00",
          "2024-09-01T00:00:00",
          "2024-10-01T00:00:00",
          "2024-11-01T00:00:00",
          "2024-12-01T00:00:00"
         ],
         "y": [
          796,
          788,
          1152,
          1035,
          1526,
          1686,
          1512,
          1817,
          1685,
          1498,
          1214,
          1141,
          1074,
          1022,
          1551,
          1269,
          1443,
          1411,
          1376,
          1418,
          1348,
          1368,
          1490,
          1369,
          1308,
          1234,
          1709,
          1694,
          1628,
          1393,
          1531,
          1589,
          1435,
          1823,
          1613,
          1458,
          1592,
          1540,
          1459,
          1840,
          1897,
          1593,
          1782,
          1829,
          1591,
          1763,
          1427,
          1138,
          1490,
          1420,
          1245,
          1331,
          1673,
          1950,
          1815,
          2070,
          2431,
          2489,
          2483,
          2530,
          2361,
          2223,
          2554,
          1764,
          600,
          2822,
          3074,
          3136,
          2996,
          3130,
          2852,
          2726,
          1686,
          2261,
          3205,
          2506,
          2671,
          2772,
          3030,
          3358,
          3205,
          3681,
          3610,
          3504,
          4118,
          3417,
          4601,
          3811,
          4466,
          4154,
          4304,
          5195,
          4322,
          5342,
          5402,
          5139,
          5403,
          4873,
          5139,
          5844,
          4474,
          5189,
          5477,
          5584,
          5031,
          6308,
          5250,
          5037
         ]
        },
        {
         "line": {
          "color": "black",
          "dash": "dot"
         },
         "mode": "lines",
         "name": "Baseline",
         "type": "scatter",
         "x": [
          "2016-01-01T00:00:00",
          "2016-02-01T00:00:00",
          "2016-03-01T00:00:00",
          "2016-04-01T00:00:00",
          "2016-05-01T00:00:00",
          "2016-06-01T00:00:00",
          "2016-07-01T00:00:00",
          "2016-08-01T00:00:00",
          "2016-09-01T00:00:00",
          "2016-10-01T00:00:00",
          "2016-11-01T00:00:00",
          "2016-12-01T00:00:00",
          "2017-01-01T00:00:00",
          "2017-02-01T00:00:00",
          "2017-03-01T00:00:00",
          "2017-04-01T00:00:00",
          "2017-05-01T00:00:00",
          "2017-06-01T00:00:00",
          "2017-07-01T00:00:00",
          "2017-08-01T00:00:00",
          "2017-09-01T00:00:00",
          "2017-10-01T00:00:00",
          "2017-11-01T00:00:00",
          "2017-12-01T00:00:00",
          "2018-01-01T00:00:00",
          "2018-02-01T00:00:00",
          "2018-03-01T00:00:00",
          "2018-04-01T00:00:00",
          "2018-05-01T00:00:00",
          "2018-06-01T00:00:00",
          "2018-07-01T00:00:00",
          "2018-08-01T00:00:00",
          "2018-09-01T00:00:00",
          "2018-10-01T00:00:00",
          "2018-11-01T00:00:00",
          "2018-12-01T00:00:00",
          "2019-01-01T00:00:00",
          "2019-02-01T00:00:00",
          "2019-03-01T00:00:00",
          "2019-04-01T00:00:00",
          "2019-05-01T00:00:00",
          "2019-06-01T00:00:00",
          "2019-07-01T00:00:00",
          "2019-08-01T00:00:00",
          "2019-09-01T00:00:00",
          "2019-10-01T00:00:00",
          "2019-11-01T00:00:00",
          "2019-12-01T00:00:00",
          "2020-01-01T00:00:00",
          "2020-02-01T00:00:00",
          "2020-03-01T00:00:00",
          "2020-04-01T00:00:00",
          "2020-05-01T00:00:00",
          "2020-06-01T00:00:00",
          "2020-07-01T00:00:00",
          "2020-08-01T00:00:00",
          "2020-09-01T00:00:00",
          "2020-10-01T00:00:00",
          "2020-11-01T00:00:00",
          "2020-12-01T00:00:00",
          "2021-01-01T00:00:00",
          "2021-02-01T00:00:00",
          "2021-03-01T00:00:00",
          "2021-04-01T00:00:00",
          "2021-05-01T00:00:00",
          "2021-06-01T00:00:00",
          "2021-07-01T00:00:00",
          "2021-08-01T00:00:00",
          "2021-09-01T00:00:00",
          "2021-10-01T00:00:00",
          "2021-11-01T00:00:00",
          "2021-12-01T00:00:00",
          "2022-01-01T00:00:00",
          "2022-02-01T00:00:00",
          "2022-03-01T00:00:00",
          "2022-04-01T00:00:00",
          "2022-05-01T00:00:00",
          "2022-06-01T00:00:00",
          "2022-07-01T00:00:00",
          "2022-08-01T00:00:00",
          "2022-09-01T00:00:00",
          "2022-10-01T00:00:00",
          "2022-11-01T00:00:00",
          "2022-12-01T00:00:00",
          "2023-01-01T00:00:00",
          "2023-02-01T00:00:00",
          "2023-03-01T00:00:00",
          "2023-04-01T00:00:00",
          "2023-05-01T00:00:00",
          "2023-06-01T00:00:00",
          "2023-07-01T00:00:00",
          "2023-08-01T00:00:00",
          "2023-09-01T00:00:00",
          "2023-10-01T00:00:00",
          "2023-11-01T00:00:00",
          "2023-12-01T00:00:00",
          "2024-01-01T00:00:00",
          "2024-02-01T00:00:00",
          "2024-03-01T00:00:00",
          "2024-04-01T00:00:00",
          "2024-05-01T00:00:00",
          "2024-06-01T00:00:00",
          "2024-07-01T00:00:00",
          "2024-08-01T00:00:00",
          "2024-09-01T00:00:00",
          "2024-10-01T00:00:00",
          "2024-11-01T00:00:00",
          "2024-12-01T00:00:00"
         ],
         "y": [
          1107.274109850425,
          1115.4861660506012,
          1123.6982222507775,
          1131.910278450954,
          1140.1223346511301,
          1148.3343908513064,
          1156.5464470514826,
          1164.7585032516588,
          1172.970559451835,
          1181.1826156520112,
          1189.3946718521877,
          1197.606728052364,
          1205.8187842525401,
          1214.0308404527163,
          1222.2428966528926,
          1230.4549528530688,
          1238.667009053245,
          1246.8790652534212,
          1255.0911214535977,
          1263.303177653774,
          1271.5152338539501,
          1279.7272900541263,
          1287.9393462543026,
          1296.1514024544788,
          1304.363458654655,
          1312.5755148548315,
          1320.7875710550077,
          1328.999627255184,
          1337.2116834553601,
          1345.4237396555363,
          1353.6357958557126,
          1361.8478520558888,
          1370.0599082560652,
          1378.2719644562414,
          1386.4840206564177,
          1394.696076856594,
          1402.90813305677,
          1411.1201892569463,
          1419.3322454571226,
          1427.544301657299,
          1435.7563578574752,
          1443.9684140576514,
          1452.1804702578277,
          1460.3925264580039,
          1468.60458265818,
          1476.8166388583563,
          1485.0286950585328,
          1493.240751258709,
          1501.4528074588852,
          1509.6648636590614,
          1517.8769198592377,
          1526.0889760594139,
          1534.30103225959,
          1542.5130884597665,
          1550.7251446599428,
          1558.937200860119,
          1567.1492570602952,
          1575.3613132604714,
          1583.5733694606477,
          1591.7854256608239,
          1599.9974818610003,
          1608.2095380611765,
          1616.4215942613528,
          1624.633650461529,
          1632.8457066617052,
          1641.0577628618817,
          1649.2698190620576,
          1657.481875262234,
          1665.69393146241,
          1673.9059876625865,
          1682.1180438627628,
          1690.330100062939,
          1698.5421562631154,
          1706.7542124632914,
          1714.9662686634679,
          1723.1783248636439,
          1731.3903810638203,
          1739.6024372639965,
          1747.8144934641728,
          1756.026549664349,
          1764.2386058645252,
          1772.4506620647016,
          1780.6627182648776,
          1788.874774465054,
          1797.0868306652303,
          1805.2988868654065,
          1813.5109430655828,
          1821.722999265759,
          1829.9350554659354,
          1838.1471116661114,
          1846.3591678662879,
          1854.571224066464,
          1862.7832802666403,
          1870.9953364668165,
          1879.2073926669927,
          1887.4194488671692,
          1895.6315050673452,
          1903.8435612675216,
          1912.0556174676979,
          1920.267673667874,
          1928.4797298680503,
          1936.6917860682265,
          1944.903842268403,
          1953.115898468579,
          1961.3279546687554,
          1969.5400108689316,
          1977.7520670691079,
          1985.964123269284
         ]
        },
        {
         "line": {
          "dash": "solid"
         },
         "mode": "lines",
         "name": "Trend_PosPandemia Effect",
         "type": "scatter",
         "x": [
          "2016-01-01T00:00:00",
          "2016-02-01T00:00:00",
          "2016-03-01T00:00:00",
          "2016-04-01T00:00:00",
          "2016-05-01T00:00:00",
          "2016-06-01T00:00:00",
          "2016-07-01T00:00:00",
          "2016-08-01T00:00:00",
          "2016-09-01T00:00:00",
          "2016-10-01T00:00:00",
          "2016-11-01T00:00:00",
          "2016-12-01T00:00:00",
          "2017-01-01T00:00:00",
          "2017-02-01T00:00:00",
          "2017-03-01T00:00:00",
          "2017-04-01T00:00:00",
          "2017-05-01T00:00:00",
          "2017-06-01T00:00:00",
          "2017-07-01T00:00:00",
          "2017-08-01T00:00:00",
          "2017-09-01T00:00:00",
          "2017-10-01T00:00:00",
          "2017-11-01T00:00:00",
          "2017-12-01T00:00:00",
          "2018-01-01T00:00:00",
          "2018-02-01T00:00:00",
          "2018-03-01T00:00:00",
          "2018-04-01T00:00:00",
          "2018-05-01T00:00:00",
          "2018-06-01T00:00:00",
          "2018-07-01T00:00:00",
          "2018-08-01T00:00:00",
          "2018-09-01T00:00:00",
          "2018-10-01T00:00:00",
          "2018-11-01T00:00:00",
          "2018-12-01T00:00:00",
          "2019-01-01T00:00:00",
          "2019-02-01T00:00:00",
          "2019-03-01T00:00:00",
          "2019-04-01T00:00:00",
          "2019-05-01T00:00:00",
          "2019-06-01T00:00:00",
          "2019-07-01T00:00:00",
          "2019-08-01T00:00:00",
          "2019-09-01T00:00:00",
          "2019-10-01T00:00:00",
          "2019-11-01T00:00:00",
          "2019-12-01T00:00:00",
          "2020-01-01T00:00:00",
          "2020-02-01T00:00:00",
          "2020-03-01T00:00:00",
          "2020-04-01T00:00:00",
          "2020-05-01T00:00:00",
          "2020-06-01T00:00:00",
          "2020-07-01T00:00:00",
          "2020-08-01T00:00:00",
          "2020-09-01T00:00:00",
          "2020-10-01T00:00:00",
          "2020-11-01T00:00:00",
          "2020-12-01T00:00:00",
          "2021-01-01T00:00:00",
          "2021-02-01T00:00:00",
          "2021-03-01T00:00:00",
          "2021-04-01T00:00:00",
          "2021-05-01T00:00:00",
          "2021-06-01T00:00:00",
          "2021-07-01T00:00:00",
          "2021-08-01T00:00:00",
          "2021-09-01T00:00:00",
          "2021-10-01T00:00:00",
          "2021-11-01T00:00:00",
          "2021-12-01T00:00:00",
          "2022-01-01T00:00:00",
          "2022-02-01T00:00:00",
          "2022-03-01T00:00:00",
          "2022-04-01T00:00:00",
          "2022-05-01T00:00:00",
          "2022-06-01T00:00:00",
          "2022-07-01T00:00:00",
          "2022-08-01T00:00:00",
          "2022-09-01T00:00:00",
          "2022-10-01T00:00:00",
          "2022-11-01T00:00:00",
          "2022-12-01T00:00:00",
          "2023-01-01T00:00:00",
          "2023-02-01T00:00:00",
          "2023-03-01T00:00:00",
          "2023-04-01T00:00:00",
          "2023-05-01T00:00:00",
          "2023-06-01T00:00:00",
          "2023-07-01T00:00:00",
          "2023-08-01T00:00:00",
          "2023-09-01T00:00:00",
          "2023-10-01T00:00:00",
          "2023-11-01T00:00:00",
          "2023-12-01T00:00:00",
          "2024-01-01T00:00:00",
          "2024-02-01T00:00:00",
          "2024-03-01T00:00:00",
          "2024-04-01T00:00:00",
          "2024-05-01T00:00:00",
          "2024-06-01T00:00:00",
          "2024-07-01T00:00:00",
          "2024-08-01T00:00:00",
          "2024-09-01T00:00:00",
          "2024-10-01T00:00:00",
          "2024-11-01T00:00:00",
          "2024-12-01T00:00:00"
         ],
         "y": [
          1107.274109850425,
          1115.4861660506012,
          1123.6982222507775,
          1131.910278450954,
          1140.1223346511301,
          1148.3343908513064,
          1156.5464470514826,
          1164.7585032516588,
          1172.970559451835,
          1181.1826156520112,
          1189.3946718521877,
          1197.606728052364,
          1205.8187842525401,
          1214.0308404527163,
          1222.2428966528926,
          1230.4549528530688,
          1238.667009053245,
          1246.8790652534212,
          1255.0911214535977,
          1263.303177653774,
          1271.5152338539501,
          1279.7272900541263,
          1287.9393462543026,
          1296.1514024544788,
          1304.363458654655,
          1312.5755148548315,
          1320.7875710550077,
          1328.999627255184,
          1337.2116834553601,
          1345.4237396555363,
          1353.6357958557126,
          1361.8478520558888,
          1370.0599082560652,
          1378.2719644562414,
          1386.4840206564177,
          1394.696076856594,
          1402.90813305677,
          1411.1201892569463,
          1419.3322454571226,
          1427.544301657299,
          1435.7563578574752,
          1443.9684140576514,
          1452.1804702578277,
          1460.3925264580039,
          1468.60458265818,
          1476.8166388583563,
          1485.0286950585328,
          1493.240751258709,
          1457.4528074588852,
          1465.6648636590614,
          1473.8769198592377,
          1482.0889760594139,
          1490.30103225959,
          1498.5130884597665,
          1506.7251446599428,
          1674.937200860119,
          1748.1492570602952,
          1821.3613132604714,
          1893.5733694606477,
          1966.7854256608239,
          2039.9974818610003,
          2113.2095380611763,
          2185.4215942613528,
          1678.633650461529,
          1751.8457066617052,
          2405.0577628618817,
          2477.2698190620576,
          2550.481875262234,
          2623.69393146241,
          2696.9059876625865,
          2769.1180438627625,
          2842.330100062939,
          2915.5421562631154,
          2988.7542124632914,
          3060.966268663468,
          3134.178324863644,
          3207.3903810638203,
          3280.6024372639968,
          3352.8144934641728,
          3426.0265496643487,
          3499.238605864525,
          3572.4506620647016,
          3644.6627182648776,
          3717.874774465054,
          3791.08683066523,
          3863.2988868654065,
          3936.510943065583,
          4009.722999265759,
          4082.9350554659354,
          4155.147111666111,
          4228.359167866288,
          4301.571224066464,
          4374.78328026664,
          4446.995336466816,
          4520.207392666993,
          4593.419448867169,
          4666.631505067346,
          4738.843561267522,
          4812.055617467698,
          4885.267673667874,
          4958.4797298680505,
          5030.691786068226,
          5103.9038422684025,
          5177.115898468579,
          5250.327954668755,
          5322.540010868932,
          5395.752067069108,
          5468.964123269284
         ]
        }
       ],
       "layout": {
        "legend": {
         "title": {
          "text": "Legend"
         }
        },
        "shapes": [
         {
          "fillcolor": "White",
          "layer": "below",
          "line": {
           "width": 0
          },
          "opacity": 0.3,
          "type": "rect",
          "x0": "2020-08-01T00:00:00",
          "x1": "2024-12-01T00:00:00",
          "xref": "x",
          "y0": 0,
          "y1": 1,
          "yref": "paper"
         },
         {
          "fillcolor": "LightSalmon",
          "layer": "below",
          "line": {
           "width": 0
          },
          "opacity": 0.3,
          "type": "rect",
          "x0": "2020-01-01T00:00:00",
          "x1": "2020-07-01T00:00:00",
          "xref": "x",
          "y0": 0,
          "y1": 1,
          "yref": "paper"
         },
         {
          "fillcolor": "LightSalmon",
          "layer": "below",
          "line": {
           "width": 0
          },
          "opacity": 0.3,
          "type": "rect",
          "x0": "2021-04-01T00:00:00",
          "x1": "2021-05-01T00:00:00",
          "xref": "x",
          "y0": 0,
          "y1": 1,
          "yref": "paper"
         },
         {
          "fillcolor": "Grey",
          "layer": "below",
          "line": {
           "width": 0
          },
          "opacity": 0.3,
          "type": "rect",
          "x0": "2020-08-01T00:00:00",
          "x1": "2024-12-01T00:00:00",
          "xref": "x",
          "y0": 0,
          "y1": 1,
          "yref": "paper"
         }
        ],
        "template": {
         "data": {
          "bar": [
           {
            "error_x": {
             "color": "#2a3f5f"
            },
            "error_y": {
             "color": "#2a3f5f"
            },
            "marker": {
             "line": {
              "color": "#E5ECF6",
              "width": 0.5
             },
             "pattern": {
              "fillmode": "overlay",
              "size": 10,
              "solidity": 0.2
             }
            },
            "type": "bar"
           }
          ],
          "barpolar": [
           {
            "marker": {
             "line": {
              "color": "#E5ECF6",
              "width": 0.5
             },
             "pattern": {
              "fillmode": "overlay",
              "size": 10,
              "solidity": 0.2
             }
            },
            "type": "barpolar"
           }
          ],
          "carpet": [
           {
            "aaxis": {
             "endlinecolor": "#2a3f5f",
             "gridcolor": "white",
             "linecolor": "white",
             "minorgridcolor": "white",
             "startlinecolor": "#2a3f5f"
            },
            "baxis": {
             "endlinecolor": "#2a3f5f",
             "gridcolor": "white",
             "linecolor": "white",
             "minorgridcolor": "white",
             "startlinecolor": "#2a3f5f"
            },
            "type": "carpet"
           }
          ],
          "choropleth": [
           {
            "colorbar": {
             "outlinewidth": 0,
             "ticks": ""
            },
            "type": "choropleth"
           }
          ],
          "contour": [
           {
            "colorbar": {
             "outlinewidth": 0,
             "ticks": ""
            },
            "colorscale": [
             [
              0,
              "#0d0887"
             ],
             [
              0.1111111111111111,
              "#46039f"
             ],
             [
              0.2222222222222222,
              "#7201a8"
             ],
             [
              0.3333333333333333,
              "#9c179e"
             ],
             [
              0.4444444444444444,
              "#bd3786"
             ],
             [
              0.5555555555555556,
              "#d8576b"
             ],
             [
              0.6666666666666666,
              "#ed7953"
             ],
             [
              0.7777777777777778,
              "#fb9f3a"
             ],
             [
              0.8888888888888888,
              "#fdca26"
             ],
             [
              1,
              "#f0f921"
             ]
            ],
            "type": "contour"
           }
          ],
          "contourcarpet": [
           {
            "colorbar": {
             "outlinewidth": 0,
             "ticks": ""
            },
            "type": "contourcarpet"
           }
          ],
          "heatmap": [
           {
            "colorbar": {
             "outlinewidth": 0,
             "ticks": ""
            },
            "colorscale": [
             [
              0,
              "#0d0887"
             ],
             [
              0.1111111111111111,
              "#46039f"
             ],
             [
              0.2222222222222222,
              "#7201a8"
             ],
             [
              0.3333333333333333,
              "#9c179e"
             ],
             [
              0.4444444444444444,
              "#bd3786"
             ],
             [
              0.5555555555555556,
              "#d8576b"
             ],
             [
              0.6666666666666666,
              "#ed7953"
             ],
             [
              0.7777777777777778,
              "#fb9f3a"
             ],
             [
              0.8888888888888888,
              "#fdca26"
             ],
             [
              1,
              "#f0f921"
             ]
            ],
            "type": "heatmap"
           }
          ],
          "heatmapgl": [
           {
            "colorbar": {
             "outlinewidth": 0,
             "ticks": ""
            },
            "colorscale": [
             [
              0,
              "#0d0887"
             ],
             [
              0.1111111111111111,
              "#46039f"
             ],
             [
              0.2222222222222222,
              "#7201a8"
             ],
             [
              0.3333333333333333,
              "#9c179e"
             ],
             [
              0.4444444444444444,
              "#bd3786"
             ],
             [
              0.5555555555555556,
              "#d8576b"
             ],
             [
              0.6666666666666666,
              "#ed7953"
             ],
             [
              0.7777777777777778,
              "#fb9f3a"
             ],
             [
              0.8888888888888888,
              "#fdca26"
             ],
             [
              1,
              "#f0f921"
             ]
            ],
            "type": "heatmapgl"
           }
          ],
          "histogram": [
           {
            "marker": {
             "pattern": {
              "fillmode": "overlay",
              "size": 10,
              "solidity": 0.2
             }
            },
            "type": "histogram"
           }
          ],
          "histogram2d": [
           {
            "colorbar": {
             "outlinewidth": 0,
             "ticks": ""
            },
            "colorscale": [
             [
              0,
              "#0d0887"
             ],
             [
              0.1111111111111111,
              "#46039f"
             ],
             [
              0.2222222222222222,
              "#7201a8"
             ],
             [
              0.3333333333333333,
              "#9c179e"
             ],
             [
              0.4444444444444444,
              "#bd3786"
             ],
             [
              0.5555555555555556,
              "#d8576b"
             ],
             [
              0.6666666666666666,
              "#ed7953"
             ],
             [
              0.7777777777777778,
              "#fb9f3a"
             ],
             [
              0.8888888888888888,
              "#fdca26"
             ],
             [
              1,
              "#f0f921"
             ]
            ],
            "type": "histogram2d"
           }
          ],
          "histogram2dcontour": [
           {
            "colorbar": {
             "outlinewidth": 0,
             "ticks": ""
            },
            "colorscale": [
             [
              0,
              "#0d0887"
             ],
             [
              0.1111111111111111,
              "#46039f"
             ],
             [
              0.2222222222222222,
              "#7201a8"
             ],
             [
              0.3333333333333333,
              "#9c179e"
             ],
             [
              0.4444444444444444,
              "#bd3786"
             ],
             [
              0.5555555555555556,
              "#d8576b"
             ],
             [
              0.6666666666666666,
              "#ed7953"
             ],
             [
              0.7777777777777778,
              "#fb9f3a"
             ],
             [
              0.8888888888888888,
              "#fdca26"
             ],
             [
              1,
              "#f0f921"
             ]
            ],
            "type": "histogram2dcontour"
           }
          ],
          "mesh3d": [
           {
            "colorbar": {
             "outlinewidth": 0,
             "ticks": ""
            },
            "type": "mesh3d"
           }
          ],
          "parcoords": [
           {
            "line": {
             "colorbar": {
              "outlinewidth": 0,
              "ticks": ""
             }
            },
            "type": "parcoords"
           }
          ],
          "pie": [
           {
            "automargin": true,
            "type": "pie"
           }
          ],
          "scatter": [
           {
            "fillpattern": {
             "fillmode": "overlay",
             "size": 10,
             "solidity": 0.2
            },
            "type": "scatter"
           }
          ],
          "scatter3d": [
           {
            "line": {
             "colorbar": {
              "outlinewidth": 0,
              "ticks": ""
             }
            },
            "marker": {
             "colorbar": {
              "outlinewidth": 0,
              "ticks": ""
             }
            },
            "type": "scatter3d"
           }
          ],
          "scattercarpet": [
           {
            "marker": {
             "colorbar": {
              "outlinewidth": 0,
              "ticks": ""
             }
            },
            "type": "scattercarpet"
           }
          ],
          "scattergeo": [
           {
            "marker": {
             "colorbar": {
              "outlinewidth": 0,
              "ticks": ""
             }
            },
            "type": "scattergeo"
           }
          ],
          "scattergl": [
           {
            "marker": {
             "colorbar": {
              "outlinewidth": 0,
              "ticks": ""
             }
            },
            "type": "scattergl"
           }
          ],
          "scattermapbox": [
           {
            "marker": {
             "colorbar": {
              "outlinewidth": 0,
              "ticks": ""
             }
            },
            "type": "scattermapbox"
           }
          ],
          "scatterpolar": [
           {
            "marker": {
             "colorbar": {
              "outlinewidth": 0,
              "ticks": ""
             }
            },
            "type": "scatterpolar"
           }
          ],
          "scatterpolargl": [
           {
            "marker": {
             "colorbar": {
              "outlinewidth": 0,
              "ticks": ""
             }
            },
            "type": "scatterpolargl"
           }
          ],
          "scatterternary": [
           {
            "marker": {
             "colorbar": {
              "outlinewidth": 0,
              "ticks": ""
             }
            },
            "type": "scatterternary"
           }
          ],
          "surface": [
           {
            "colorbar": {
             "outlinewidth": 0,
             "ticks": ""
            },
            "colorscale": [
             [
              0,
              "#0d0887"
             ],
             [
              0.1111111111111111,
              "#46039f"
             ],
             [
              0.2222222222222222,
              "#7201a8"
             ],
             [
              0.3333333333333333,
              "#9c179e"
             ],
             [
              0.4444444444444444,
              "#bd3786"
             ],
             [
              0.5555555555555556,
              "#d8576b"
             ],
             [
              0.6666666666666666,
              "#ed7953"
             ],
             [
              0.7777777777777778,
              "#fb9f3a"
             ],
             [
              0.8888888888888888,
              "#fdca26"
             ],
             [
              1,
              "#f0f921"
             ]
            ],
            "type": "surface"
           }
          ],
          "table": [
           {
            "cells": {
             "fill": {
              "color": "#EBF0F8"
             },
             "line": {
              "color": "white"
             }
            },
            "header": {
             "fill": {
              "color": "#C8D4E3"
             },
             "line": {
              "color": "white"
             }
            },
            "type": "table"
           }
          ]
         },
         "layout": {
          "annotationdefaults": {
           "arrowcolor": "#2a3f5f",
           "arrowhead": 0,
           "arrowwidth": 1
          },
          "autotypenumbers": "strict",
          "coloraxis": {
           "colorbar": {
            "outlinewidth": 0,
            "ticks": ""
           }
          },
          "colorscale": {
           "diverging": [
            [
             0,
             "#8e0152"
            ],
            [
             0.1,
             "#c51b7d"
            ],
            [
             0.2,
             "#de77ae"
            ],
            [
             0.3,
             "#f1b6da"
            ],
            [
             0.4,
             "#fde0ef"
            ],
            [
             0.5,
             "#f7f7f7"
            ],
            [
             0.6,
             "#e6f5d0"
            ],
            [
             0.7,
             "#b8e186"
            ],
            [
             0.8,
             "#7fbc41"
            ],
            [
             0.9,
             "#4d9221"
            ],
            [
             1,
             "#276419"
            ]
           ],
           "sequential": [
            [
             0,
             "#0d0887"
            ],
            [
             0.1111111111111111,
             "#46039f"
            ],
            [
             0.2222222222222222,
             "#7201a8"
            ],
            [
             0.3333333333333333,
             "#9c179e"
            ],
            [
             0.4444444444444444,
             "#bd3786"
            ],
            [
             0.5555555555555556,
             "#d8576b"
            ],
            [
             0.6666666666666666,
             "#ed7953"
            ],
            [
             0.7777777777777778,
             "#fb9f3a"
            ],
            [
             0.8888888888888888,
             "#fdca26"
            ],
            [
             1,
             "#f0f921"
            ]
           ],
           "sequentialminus": [
            [
             0,
             "#0d0887"
            ],
            [
             0.1111111111111111,
             "#46039f"
            ],
            [
             0.2222222222222222,
             "#7201a8"
            ],
            [
             0.3333333333333333,
             "#9c179e"
            ],
            [
             0.4444444444444444,
             "#bd3786"
            ],
            [
             0.5555555555555556,
             "#d8576b"
            ],
            [
             0.6666666666666666,
             "#ed7953"
            ],
            [
             0.7777777777777778,
             "#fb9f3a"
            ],
            [
             0.8888888888888888,
             "#fdca26"
            ],
            [
             1,
             "#f0f921"
            ]
           ]
          },
          "colorway": [
           "#636efa",
           "#EF553B",
           "#00cc96",
           "#ab63fa",
           "#FFA15A",
           "#19d3f3",
           "#FF6692",
           "#B6E880",
           "#FF97FF",
           "#FECB52"
          ],
          "font": {
           "color": "#2a3f5f"
          },
          "geo": {
           "bgcolor": "white",
           "lakecolor": "white",
           "landcolor": "#E5ECF6",
           "showlakes": true,
           "showland": true,
           "subunitcolor": "white"
          },
          "hoverlabel": {
           "align": "left"
          },
          "hovermode": "closest",
          "mapbox": {
           "style": "light"
          },
          "paper_bgcolor": "white",
          "plot_bgcolor": "#E5ECF6",
          "polar": {
           "angularaxis": {
            "gridcolor": "white",
            "linecolor": "white",
            "ticks": ""
           },
           "bgcolor": "#E5ECF6",
           "radialaxis": {
            "gridcolor": "white",
            "linecolor": "white",
            "ticks": ""
           }
          },
          "scene": {
           "xaxis": {
            "backgroundcolor": "#E5ECF6",
            "gridcolor": "white",
            "gridwidth": 2,
            "linecolor": "white",
            "showbackground": true,
            "ticks": "",
            "zerolinecolor": "white"
           },
           "yaxis": {
            "backgroundcolor": "#E5ECF6",
            "gridcolor": "white",
            "gridwidth": 2,
            "linecolor": "white",
            "showbackground": true,
            "ticks": "",
            "zerolinecolor": "white"
           },
           "zaxis": {
            "backgroundcolor": "#E5ECF6",
            "gridcolor": "white",
            "gridwidth": 2,
            "linecolor": "white",
            "showbackground": true,
            "ticks": "",
            "zerolinecolor": "white"
           }
          },
          "shapedefaults": {
           "line": {
            "color": "#2a3f5f"
           }
          },
          "ternary": {
           "aaxis": {
            "gridcolor": "white",
            "linecolor": "white",
            "ticks": ""
           },
           "baxis": {
            "gridcolor": "white",
            "linecolor": "white",
            "ticks": ""
           },
           "bgcolor": "#E5ECF6",
           "caxis": {
            "gridcolor": "white",
            "linecolor": "white",
            "ticks": ""
           }
          },
          "title": {
           "x": 0.05
          },
          "xaxis": {
           "automargin": true,
           "gridcolor": "white",
           "linecolor": "white",
           "ticks": "",
           "title": {
            "standoff": 15
           },
           "zerolinecolor": "white",
           "zerolinewidth": 2
          },
          "yaxis": {
           "automargin": true,
           "gridcolor": "white",
           "linecolor": "white",
           "ticks": "",
           "title": {
            "standoff": 15
           },
           "zerolinecolor": "white",
           "zerolinewidth": 2
          }
         }
        },
        "title": {
         "text": "F40-F48 - Transtornos neuróticos, transtornos relacionados com o \"stress\" e transtornos somatoformes"
        },
        "xaxis": {
         "title": {
          "text": "Time"
         }
        },
        "yaxis": {
         "title": {
          "text": "Value"
         }
        }
       }
      }
     },
     "metadata": {},
     "output_type": "display_data"
    },
    {
     "name": "stdout",
     "output_type": "stream",
     "text": [
      "Processing variable: F50-F59 - Síndromes comportamentais associadas a disfunções fisiológicas e a fatores físicos\n"
     ]
    },
    {
     "data": {
      "application/vnd.plotly.v1+json": {
       "config": {
        "plotlyServerURL": "https://plot.ly"
       },
       "data": [
        {
         "marker": {
          "color": "blue"
         },
         "mode": "markers",
         "name": "Real",
         "type": "scatter",
         "x": [
          "2016-01-01T00:00:00",
          "2016-02-01T00:00:00",
          "2016-03-01T00:00:00",
          "2016-04-01T00:00:00",
          "2016-05-01T00:00:00",
          "2016-06-01T00:00:00",
          "2016-07-01T00:00:00",
          "2016-08-01T00:00:00",
          "2016-09-01T00:00:00",
          "2016-10-01T00:00:00",
          "2016-11-01T00:00:00",
          "2016-12-01T00:00:00",
          "2017-01-01T00:00:00",
          "2017-02-01T00:00:00",
          "2017-03-01T00:00:00",
          "2017-04-01T00:00:00",
          "2017-05-01T00:00:00",
          "2017-06-01T00:00:00",
          "2017-07-01T00:00:00",
          "2017-08-01T00:00:00",
          "2017-09-01T00:00:00",
          "2017-10-01T00:00:00",
          "2017-11-01T00:00:00",
          "2017-12-01T00:00:00",
          "2018-01-01T00:00:00",
          "2018-02-01T00:00:00",
          "2018-03-01T00:00:00",
          "2018-04-01T00:00:00",
          "2018-05-01T00:00:00",
          "2018-06-01T00:00:00",
          "2018-07-01T00:00:00",
          "2018-08-01T00:00:00",
          "2018-09-01T00:00:00",
          "2018-10-01T00:00:00",
          "2018-11-01T00:00:00",
          "2018-12-01T00:00:00",
          "2019-01-01T00:00:00",
          "2019-02-01T00:00:00",
          "2019-03-01T00:00:00",
          "2019-04-01T00:00:00",
          "2019-05-01T00:00:00",
          "2019-06-01T00:00:00",
          "2019-07-01T00:00:00",
          "2019-08-01T00:00:00",
          "2019-09-01T00:00:00",
          "2019-10-01T00:00:00",
          "2019-11-01T00:00:00",
          "2019-12-01T00:00:00",
          "2020-01-01T00:00:00",
          "2020-02-01T00:00:00",
          "2020-03-01T00:00:00",
          "2020-04-01T00:00:00",
          "2020-05-01T00:00:00",
          "2020-06-01T00:00:00",
          "2020-07-01T00:00:00",
          "2020-08-01T00:00:00",
          "2020-09-01T00:00:00",
          "2020-10-01T00:00:00",
          "2020-11-01T00:00:00",
          "2020-12-01T00:00:00",
          "2021-01-01T00:00:00",
          "2021-02-01T00:00:00",
          "2021-03-01T00:00:00",
          "2021-04-01T00:00:00",
          "2021-05-01T00:00:00",
          "2021-06-01T00:00:00",
          "2021-07-01T00:00:00",
          "2021-08-01T00:00:00",
          "2021-09-01T00:00:00",
          "2021-10-01T00:00:00",
          "2021-11-01T00:00:00",
          "2021-12-01T00:00:00",
          "2022-01-01T00:00:00",
          "2022-02-01T00:00:00",
          "2022-03-01T00:00:00",
          "2022-04-01T00:00:00",
          "2022-05-01T00:00:00",
          "2022-06-01T00:00:00",
          "2022-07-01T00:00:00",
          "2022-08-01T00:00:00",
          "2022-09-01T00:00:00",
          "2022-10-01T00:00:00",
          "2022-11-01T00:00:00",
          "2022-12-01T00:00:00",
          "2023-01-01T00:00:00",
          "2023-02-01T00:00:00",
          "2023-03-01T00:00:00",
          "2023-04-01T00:00:00",
          "2023-05-01T00:00:00",
          "2023-06-01T00:00:00",
          "2023-07-01T00:00:00",
          "2023-08-01T00:00:00",
          "2023-09-01T00:00:00",
          "2023-10-01T00:00:00",
          "2023-11-01T00:00:00",
          "2023-12-01T00:00:00",
          "2024-01-01T00:00:00",
          "2024-02-01T00:00:00",
          "2024-03-01T00:00:00",
          "2024-04-01T00:00:00",
          "2024-05-01T00:00:00",
          "2024-06-01T00:00:00",
          "2024-07-01T00:00:00",
          "2024-08-01T00:00:00",
          "2024-09-01T00:00:00",
          "2024-10-01T00:00:00",
          "2024-11-01T00:00:00",
          "2024-12-01T00:00:00"
         ],
         "y": [
          79,
          70,
          101,
          82,
          168,
          148,
          143,
          167,
          136,
          157,
          105,
          124,
          102,
          85,
          140,
          112,
          121,
          122,
          120,
          135,
          98,
          111,
          109,
          99,
          88,
          95,
          140,
          152,
          150,
          109,
          142,
          134,
          119,
          118,
          118,
          78,
          137,
          108,
          100,
          149,
          153,
          113,
          122,
          135,
          124,
          118,
          85,
          88,
          96,
          81,
          64,
          73,
          118,
          139,
          154,
          144,
          166,
          154,
          177,
          145,
          148,
          129,
          110,
          94,
          33,
          157,
          161,
          181,
          173,
          163,
          136,
          151,
          85,
          119,
          166,
          125,
          162,
          133,
          157,
          208,
          176,
          160,
          172,
          136,
          181,
          149,
          169,
          140,
          187,
          186,
          188,
          206,
          178,
          192,
          177,
          210,
          199,
          153,
          186,
          217,
          144,
          194,
          201,
          165,
          157,
          222,
          150,
          154
         ]
        },
        {
         "line": {
          "color": "black",
          "dash": "dot"
         },
         "mode": "lines",
         "name": "Baseline",
         "type": "scatter",
         "x": [
          "2016-01-01T00:00:00",
          "2016-02-01T00:00:00",
          "2016-03-01T00:00:00",
          "2016-04-01T00:00:00",
          "2016-05-01T00:00:00",
          "2016-06-01T00:00:00",
          "2016-07-01T00:00:00",
          "2016-08-01T00:00:00",
          "2016-09-01T00:00:00",
          "2016-10-01T00:00:00",
          "2016-11-01T00:00:00",
          "2016-12-01T00:00:00",
          "2017-01-01T00:00:00",
          "2017-02-01T00:00:00",
          "2017-03-01T00:00:00",
          "2017-04-01T00:00:00",
          "2017-05-01T00:00:00",
          "2017-06-01T00:00:00",
          "2017-07-01T00:00:00",
          "2017-08-01T00:00:00",
          "2017-09-01T00:00:00",
          "2017-10-01T00:00:00",
          "2017-11-01T00:00:00",
          "2017-12-01T00:00:00",
          "2018-01-01T00:00:00",
          "2018-02-01T00:00:00",
          "2018-03-01T00:00:00",
          "2018-04-01T00:00:00",
          "2018-05-01T00:00:00",
          "2018-06-01T00:00:00",
          "2018-07-01T00:00:00",
          "2018-08-01T00:00:00",
          "2018-09-01T00:00:00",
          "2018-10-01T00:00:00",
          "2018-11-01T00:00:00",
          "2018-12-01T00:00:00",
          "2019-01-01T00:00:00",
          "2019-02-01T00:00:00",
          "2019-03-01T00:00:00",
          "2019-04-01T00:00:00",
          "2019-05-01T00:00:00",
          "2019-06-01T00:00:00",
          "2019-07-01T00:00:00",
          "2019-08-01T00:00:00",
          "2019-09-01T00:00:00",
          "2019-10-01T00:00:00",
          "2019-11-01T00:00:00",
          "2019-12-01T00:00:00",
          "2020-01-01T00:00:00",
          "2020-02-01T00:00:00",
          "2020-03-01T00:00:00",
          "2020-04-01T00:00:00",
          "2020-05-01T00:00:00",
          "2020-06-01T00:00:00",
          "2020-07-01T00:00:00",
          "2020-08-01T00:00:00",
          "2020-09-01T00:00:00",
          "2020-10-01T00:00:00",
          "2020-11-01T00:00:00",
          "2020-12-01T00:00:00",
          "2021-01-01T00:00:00",
          "2021-02-01T00:00:00",
          "2021-03-01T00:00:00",
          "2021-04-01T00:00:00",
          "2021-05-01T00:00:00",
          "2021-06-01T00:00:00",
          "2021-07-01T00:00:00",
          "2021-08-01T00:00:00",
          "2021-09-01T00:00:00",
          "2021-10-01T00:00:00",
          "2021-11-01T00:00:00",
          "2021-12-01T00:00:00",
          "2022-01-01T00:00:00",
          "2022-02-01T00:00:00",
          "2022-03-01T00:00:00",
          "2022-04-01T00:00:00",
          "2022-05-01T00:00:00",
          "2022-06-01T00:00:00",
          "2022-07-01T00:00:00",
          "2022-08-01T00:00:00",
          "2022-09-01T00:00:00",
          "2022-10-01T00:00:00",
          "2022-11-01T00:00:00",
          "2022-12-01T00:00:00",
          "2023-01-01T00:00:00",
          "2023-02-01T00:00:00",
          "2023-03-01T00:00:00",
          "2023-04-01T00:00:00",
          "2023-05-01T00:00:00",
          "2023-06-01T00:00:00",
          "2023-07-01T00:00:00",
          "2023-08-01T00:00:00",
          "2023-09-01T00:00:00",
          "2023-10-01T00:00:00",
          "2023-11-01T00:00:00",
          "2023-12-01T00:00:00",
          "2024-01-01T00:00:00",
          "2024-02-01T00:00:00",
          "2024-03-01T00:00:00",
          "2024-04-01T00:00:00",
          "2024-05-01T00:00:00",
          "2024-06-01T00:00:00",
          "2024-07-01T00:00:00",
          "2024-08-01T00:00:00",
          "2024-09-01T00:00:00",
          "2024-10-01T00:00:00",
          "2024-11-01T00:00:00",
          "2024-12-01T00:00:00"
         ],
         "y": [
          108.08773974723759,
          108.0223016328445,
          107.95686351845143,
          107.89142540405834,
          107.82598728966526,
          107.76054917527217,
          107.6951110608791,
          107.62967294648601,
          107.56423483209294,
          107.49879671769986,
          107.43335860330677,
          107.3679204889137,
          107.30248237452061,
          107.23704426012753,
          107.17160614573444,
          107.10616803134137,
          107.04072991694828,
          106.9752918025552,
          106.90985368816213,
          106.84441557376904,
          106.77897745937597,
          106.71353934498288,
          106.6481012305898,
          106.58266311619671,
          106.51722500180364,
          106.45178688741055,
          106.38634877301747,
          106.3209106586244,
          106.25547254423131,
          106.19003442983824,
          106.12459631544515,
          106.05915820105207,
          105.99372008665898,
          105.9282819722659,
          105.86284385787282,
          105.79740574347974,
          105.73196762908665,
          105.66652951469358,
          105.6010914003005,
          105.53565328590742,
          105.47021517151434,
          105.40477705712125,
          105.33933894272818,
          105.27390082833509,
          105.20846271394201,
          105.14302459954892,
          105.07758648515585,
          105.01214837076277,
          104.94671025636968,
          104.88127214197661,
          104.81583402758352,
          104.75039591319045,
          104.68495779879736,
          104.61951968440428,
          104.55408157001119,
          104.48864345561812,
          104.42320534122504,
          104.35776722683195,
          104.29232911243888,
          104.22689099804579,
          104.16145288365271,
          104.09601476925963,
          104.03057665486655,
          103.96513854047346,
          103.89970042608039,
          103.83426231168731,
          103.76882419729422,
          103.70338608290115,
          103.63794796850806,
          103.57250985411498,
          103.5070717397219,
          103.44163362532882,
          103.37619551093573,
          103.31075739654266,
          103.24531928214958,
          103.17988116775649,
          103.11444305336342,
          103.04900493897033,
          102.98356682457725,
          102.91812871018416,
          102.85269059579109,
          102.787252481398,
          102.72181436700492,
          102.65637625261184,
          102.59093813821876,
          102.52550002382569,
          102.4600619094326,
          102.39462379503952,
          102.32918568064643,
          102.26374756625336,
          102.19830945186027,
          102.1328713374672,
          102.06743322307412,
          102.00199510868103,
          101.93655699428795,
          101.87111887989487,
          101.80568076550179,
          101.7402426511087,
          101.67480453671563,
          101.60936642232254,
          101.54392830792946,
          101.47849019353637,
          101.4130520791433,
          101.34761396475022,
          101.28217585035713,
          101.21673773596406,
          101.15129962157097,
          101.0858615071779
         ]
        },
        {
         "line": {
          "dash": "solid"
         },
         "mode": "lines",
         "name": "Trend_PosPandemia Effect",
         "type": "scatter",
         "x": [
          "2016-01-01T00:00:00",
          "2016-02-01T00:00:00",
          "2016-03-01T00:00:00",
          "2016-04-01T00:00:00",
          "2016-05-01T00:00:00",
          "2016-06-01T00:00:00",
          "2016-07-01T00:00:00",
          "2016-08-01T00:00:00",
          "2016-09-01T00:00:00",
          "2016-10-01T00:00:00",
          "2016-11-01T00:00:00",
          "2016-12-01T00:00:00",
          "2017-01-01T00:00:00",
          "2017-02-01T00:00:00",
          "2017-03-01T00:00:00",
          "2017-04-01T00:00:00",
          "2017-05-01T00:00:00",
          "2017-06-01T00:00:00",
          "2017-07-01T00:00:00",
          "2017-08-01T00:00:00",
          "2017-09-01T00:00:00",
          "2017-10-01T00:00:00",
          "2017-11-01T00:00:00",
          "2017-12-01T00:00:00",
          "2018-01-01T00:00:00",
          "2018-02-01T00:00:00",
          "2018-03-01T00:00:00",
          "2018-04-01T00:00:00",
          "2018-05-01T00:00:00",
          "2018-06-01T00:00:00",
          "2018-07-01T00:00:00",
          "2018-08-01T00:00:00",
          "2018-09-01T00:00:00",
          "2018-10-01T00:00:00",
          "2018-11-01T00:00:00",
          "2018-12-01T00:00:00",
          "2019-01-01T00:00:00",
          "2019-02-01T00:00:00",
          "2019-03-01T00:00:00",
          "2019-04-01T00:00:00",
          "2019-05-01T00:00:00",
          "2019-06-01T00:00:00",
          "2019-07-01T00:00:00",
          "2019-08-01T00:00:00",
          "2019-09-01T00:00:00",
          "2019-10-01T00:00:00",
          "2019-11-01T00:00:00",
          "2019-12-01T00:00:00",
          "2020-01-01T00:00:00",
          "2020-02-01T00:00:00",
          "2020-03-01T00:00:00",
          "2020-04-01T00:00:00",
          "2020-05-01T00:00:00",
          "2020-06-01T00:00:00",
          "2020-07-01T00:00:00",
          "2020-08-01T00:00:00",
          "2020-09-01T00:00:00",
          "2020-10-01T00:00:00",
          "2020-11-01T00:00:00",
          "2020-12-01T00:00:00",
          "2021-01-01T00:00:00",
          "2021-02-01T00:00:00",
          "2021-03-01T00:00:00",
          "2021-04-01T00:00:00",
          "2021-05-01T00:00:00",
          "2021-06-01T00:00:00",
          "2021-07-01T00:00:00",
          "2021-08-01T00:00:00",
          "2021-09-01T00:00:00",
          "2021-10-01T00:00:00",
          "2021-11-01T00:00:00",
          "2021-12-01T00:00:00",
          "2022-01-01T00:00:00",
          "2022-02-01T00:00:00",
          "2022-03-01T00:00:00",
          "2022-04-01T00:00:00",
          "2022-05-01T00:00:00",
          "2022-06-01T00:00:00",
          "2022-07-01T00:00:00",
          "2022-08-01T00:00:00",
          "2022-09-01T00:00:00",
          "2022-10-01T00:00:00",
          "2022-11-01T00:00:00",
          "2022-12-01T00:00:00",
          "2023-01-01T00:00:00",
          "2023-02-01T00:00:00",
          "2023-03-01T00:00:00",
          "2023-04-01T00:00:00",
          "2023-05-01T00:00:00",
          "2023-06-01T00:00:00",
          "2023-07-01T00:00:00",
          "2023-08-01T00:00:00",
          "2023-09-01T00:00:00",
          "2023-10-01T00:00:00",
          "2023-11-01T00:00:00",
          "2023-12-01T00:00:00",
          "2024-01-01T00:00:00",
          "2024-02-01T00:00:00",
          "2024-03-01T00:00:00",
          "2024-04-01T00:00:00",
          "2024-05-01T00:00:00",
          "2024-06-01T00:00:00",
          "2024-07-01T00:00:00",
          "2024-08-01T00:00:00",
          "2024-09-01T00:00:00",
          "2024-10-01T00:00:00",
          "2024-11-01T00:00:00",
          "2024-12-01T00:00:00"
         ],
         "y": [
          108.08773974723759,
          108.0223016328445,
          107.95686351845143,
          107.89142540405834,
          107.82598728966526,
          107.76054917527217,
          107.6951110608791,
          107.62967294648601,
          107.56423483209294,
          107.49879671769986,
          107.43335860330677,
          107.3679204889137,
          107.30248237452061,
          107.23704426012753,
          107.17160614573444,
          107.10616803134137,
          107.04072991694828,
          106.9752918025552,
          106.90985368816213,
          106.84441557376904,
          106.77897745937597,
          106.71353934498288,
          106.6481012305898,
          106.58266311619671,
          106.51722500180364,
          106.45178688741055,
          106.38634877301747,
          106.3209106586244,
          106.25547254423131,
          106.19003442983824,
          106.12459631544515,
          106.05915820105207,
          105.99372008665898,
          105.9282819722659,
          105.86284385787282,
          105.79740574347974,
          105.73196762908665,
          105.66652951469358,
          105.6010914003005,
          105.53565328590742,
          105.47021517151434,
          105.40477705712125,
          105.33933894272818,
          105.27390082833509,
          105.20846271394201,
          105.14302459954892,
          105.07758648515585,
          105.01214837076277,
          93.94671025636968,
          93.88127214197661,
          93.81583402758352,
          93.75039591319045,
          93.68495779879736,
          93.61951968440428,
          93.55408157001119,
          127.48864345561812,
          128.42320534122504,
          129.35776722683195,
          130.2923291124389,
          131.2268909980458,
          132.16145288365271,
          133.09601476925963,
          134.03057665486654,
          77.96513854047346,
          78.89970042608039,
          136.83426231168733,
          137.76882419729424,
          137.70338608290115,
          138.63794796850806,
          139.57250985411497,
          140.50707173972188,
          141.44163362532882,
          142.37619551093573,
          143.31075739654267,
          144.24531928214958,
          145.1798811677565,
          146.1144430533634,
          147.0490049389703,
          147.98356682457725,
          147.91812871018416,
          148.8526905957911,
          149.787252481398,
          150.72181436700492,
          151.65637625261184,
          152.59093813821875,
          153.52550002382569,
          154.4600619094326,
          155.39462379503954,
          156.32918568064645,
          157.26374756625336,
          158.19830945186027,
          158.13287133746718,
          159.06743322307412,
          160.00199510868103,
          160.93655699428797,
          161.87111887989488,
          162.8056807655018,
          163.7402426511087,
          164.6748045367156,
          165.60936642232252,
          166.54392830792946,
          167.47849019353637,
          168.4130520791433,
          168.34761396475022,
          169.28217585035713,
          170.21673773596405,
          171.15129962157096,
          172.0858615071779
         ]
        }
       ],
       "layout": {
        "legend": {
         "title": {
          "text": "Legend"
         }
        },
        "shapes": [
         {
          "fillcolor": "White",
          "layer": "below",
          "line": {
           "width": 0
          },
          "opacity": 0.3,
          "type": "rect",
          "x0": "2020-08-01T00:00:00",
          "x1": "2024-12-01T00:00:00",
          "xref": "x",
          "y0": 0,
          "y1": 1,
          "yref": "paper"
         },
         {
          "fillcolor": "LightSalmon",
          "layer": "below",
          "line": {
           "width": 0
          },
          "opacity": 0.3,
          "type": "rect",
          "x0": "2020-01-01T00:00:00",
          "x1": "2020-07-01T00:00:00",
          "xref": "x",
          "y0": 0,
          "y1": 1,
          "yref": "paper"
         },
         {
          "fillcolor": "LightSalmon",
          "layer": "below",
          "line": {
           "width": 0
          },
          "opacity": 0.3,
          "type": "rect",
          "x0": "2021-04-01T00:00:00",
          "x1": "2021-05-01T00:00:00",
          "xref": "x",
          "y0": 0,
          "y1": 1,
          "yref": "paper"
         },
         {
          "fillcolor": "Grey",
          "layer": "below",
          "line": {
           "width": 0
          },
          "opacity": 0.3,
          "type": "rect",
          "x0": "2020-08-01T00:00:00",
          "x1": "2024-12-01T00:00:00",
          "xref": "x",
          "y0": 0,
          "y1": 1,
          "yref": "paper"
         }
        ],
        "template": {
         "data": {
          "bar": [
           {
            "error_x": {
             "color": "#2a3f5f"
            },
            "error_y": {
             "color": "#2a3f5f"
            },
            "marker": {
             "line": {
              "color": "#E5ECF6",
              "width": 0.5
             },
             "pattern": {
              "fillmode": "overlay",
              "size": 10,
              "solidity": 0.2
             }
            },
            "type": "bar"
           }
          ],
          "barpolar": [
           {
            "marker": {
             "line": {
              "color": "#E5ECF6",
              "width": 0.5
             },
             "pattern": {
              "fillmode": "overlay",
              "size": 10,
              "solidity": 0.2
             }
            },
            "type": "barpolar"
           }
          ],
          "carpet": [
           {
            "aaxis": {
             "endlinecolor": "#2a3f5f",
             "gridcolor": "white",
             "linecolor": "white",
             "minorgridcolor": "white",
             "startlinecolor": "#2a3f5f"
            },
            "baxis": {
             "endlinecolor": "#2a3f5f",
             "gridcolor": "white",
             "linecolor": "white",
             "minorgridcolor": "white",
             "startlinecolor": "#2a3f5f"
            },
            "type": "carpet"
           }
          ],
          "choropleth": [
           {
            "colorbar": {
             "outlinewidth": 0,
             "ticks": ""
            },
            "type": "choropleth"
           }
          ],
          "contour": [
           {
            "colorbar": {
             "outlinewidth": 0,
             "ticks": ""
            },
            "colorscale": [
             [
              0,
              "#0d0887"
             ],
             [
              0.1111111111111111,
              "#46039f"
             ],
             [
              0.2222222222222222,
              "#7201a8"
             ],
             [
              0.3333333333333333,
              "#9c179e"
             ],
             [
              0.4444444444444444,
              "#bd3786"
             ],
             [
              0.5555555555555556,
              "#d8576b"
             ],
             [
              0.6666666666666666,
              "#ed7953"
             ],
             [
              0.7777777777777778,
              "#fb9f3a"
             ],
             [
              0.8888888888888888,
              "#fdca26"
             ],
             [
              1,
              "#f0f921"
             ]
            ],
            "type": "contour"
           }
          ],
          "contourcarpet": [
           {
            "colorbar": {
             "outlinewidth": 0,
             "ticks": ""
            },
            "type": "contourcarpet"
           }
          ],
          "heatmap": [
           {
            "colorbar": {
             "outlinewidth": 0,
             "ticks": ""
            },
            "colorscale": [
             [
              0,
              "#0d0887"
             ],
             [
              0.1111111111111111,
              "#46039f"
             ],
             [
              0.2222222222222222,
              "#7201a8"
             ],
             [
              0.3333333333333333,
              "#9c179e"
             ],
             [
              0.4444444444444444,
              "#bd3786"
             ],
             [
              0.5555555555555556,
              "#d8576b"
             ],
             [
              0.6666666666666666,
              "#ed7953"
             ],
             [
              0.7777777777777778,
              "#fb9f3a"
             ],
             [
              0.8888888888888888,
              "#fdca26"
             ],
             [
              1,
              "#f0f921"
             ]
            ],
            "type": "heatmap"
           }
          ],
          "heatmapgl": [
           {
            "colorbar": {
             "outlinewidth": 0,
             "ticks": ""
            },
            "colorscale": [
             [
              0,
              "#0d0887"
             ],
             [
              0.1111111111111111,
              "#46039f"
             ],
             [
              0.2222222222222222,
              "#7201a8"
             ],
             [
              0.3333333333333333,
              "#9c179e"
             ],
             [
              0.4444444444444444,
              "#bd3786"
             ],
             [
              0.5555555555555556,
              "#d8576b"
             ],
             [
              0.6666666666666666,
              "#ed7953"
             ],
             [
              0.7777777777777778,
              "#fb9f3a"
             ],
             [
              0.8888888888888888,
              "#fdca26"
             ],
             [
              1,
              "#f0f921"
             ]
            ],
            "type": "heatmapgl"
           }
          ],
          "histogram": [
           {
            "marker": {
             "pattern": {
              "fillmode": "overlay",
              "size": 10,
              "solidity": 0.2
             }
            },
            "type": "histogram"
           }
          ],
          "histogram2d": [
           {
            "colorbar": {
             "outlinewidth": 0,
             "ticks": ""
            },
            "colorscale": [
             [
              0,
              "#0d0887"
             ],
             [
              0.1111111111111111,
              "#46039f"
             ],
             [
              0.2222222222222222,
              "#7201a8"
             ],
             [
              0.3333333333333333,
              "#9c179e"
             ],
             [
              0.4444444444444444,
              "#bd3786"
             ],
             [
              0.5555555555555556,
              "#d8576b"
             ],
             [
              0.6666666666666666,
              "#ed7953"
             ],
             [
              0.7777777777777778,
              "#fb9f3a"
             ],
             [
              0.8888888888888888,
              "#fdca26"
             ],
             [
              1,
              "#f0f921"
             ]
            ],
            "type": "histogram2d"
           }
          ],
          "histogram2dcontour": [
           {
            "colorbar": {
             "outlinewidth": 0,
             "ticks": ""
            },
            "colorscale": [
             [
              0,
              "#0d0887"
             ],
             [
              0.1111111111111111,
              "#46039f"
             ],
             [
              0.2222222222222222,
              "#7201a8"
             ],
             [
              0.3333333333333333,
              "#9c179e"
             ],
             [
              0.4444444444444444,
              "#bd3786"
             ],
             [
              0.5555555555555556,
              "#d8576b"
             ],
             [
              0.6666666666666666,
              "#ed7953"
             ],
             [
              0.7777777777777778,
              "#fb9f3a"
             ],
             [
              0.8888888888888888,
              "#fdca26"
             ],
             [
              1,
              "#f0f921"
             ]
            ],
            "type": "histogram2dcontour"
           }
          ],
          "mesh3d": [
           {
            "colorbar": {
             "outlinewidth": 0,
             "ticks": ""
            },
            "type": "mesh3d"
           }
          ],
          "parcoords": [
           {
            "line": {
             "colorbar": {
              "outlinewidth": 0,
              "ticks": ""
             }
            },
            "type": "parcoords"
           }
          ],
          "pie": [
           {
            "automargin": true,
            "type": "pie"
           }
          ],
          "scatter": [
           {
            "fillpattern": {
             "fillmode": "overlay",
             "size": 10,
             "solidity": 0.2
            },
            "type": "scatter"
           }
          ],
          "scatter3d": [
           {
            "line": {
             "colorbar": {
              "outlinewidth": 0,
              "ticks": ""
             }
            },
            "marker": {
             "colorbar": {
              "outlinewidth": 0,
              "ticks": ""
             }
            },
            "type": "scatter3d"
           }
          ],
          "scattercarpet": [
           {
            "marker": {
             "colorbar": {
              "outlinewidth": 0,
              "ticks": ""
             }
            },
            "type": "scattercarpet"
           }
          ],
          "scattergeo": [
           {
            "marker": {
             "colorbar": {
              "outlinewidth": 0,
              "ticks": ""
             }
            },
            "type": "scattergeo"
           }
          ],
          "scattergl": [
           {
            "marker": {
             "colorbar": {
              "outlinewidth": 0,
              "ticks": ""
             }
            },
            "type": "scattergl"
           }
          ],
          "scattermapbox": [
           {
            "marker": {
             "colorbar": {
              "outlinewidth": 0,
              "ticks": ""
             }
            },
            "type": "scattermapbox"
           }
          ],
          "scatterpolar": [
           {
            "marker": {
             "colorbar": {
              "outlinewidth": 0,
              "ticks": ""
             }
            },
            "type": "scatterpolar"
           }
          ],
          "scatterpolargl": [
           {
            "marker": {
             "colorbar": {
              "outlinewidth": 0,
              "ticks": ""
             }
            },
            "type": "scatterpolargl"
           }
          ],
          "scatterternary": [
           {
            "marker": {
             "colorbar": {
              "outlinewidth": 0,
              "ticks": ""
             }
            },
            "type": "scatterternary"
           }
          ],
          "surface": [
           {
            "colorbar": {
             "outlinewidth": 0,
             "ticks": ""
            },
            "colorscale": [
             [
              0,
              "#0d0887"
             ],
             [
              0.1111111111111111,
              "#46039f"
             ],
             [
              0.2222222222222222,
              "#7201a8"
             ],
             [
              0.3333333333333333,
              "#9c179e"
             ],
             [
              0.4444444444444444,
              "#bd3786"
             ],
             [
              0.5555555555555556,
              "#d8576b"
             ],
             [
              0.6666666666666666,
              "#ed7953"
             ],
             [
              0.7777777777777778,
              "#fb9f3a"
             ],
             [
              0.8888888888888888,
              "#fdca26"
             ],
             [
              1,
              "#f0f921"
             ]
            ],
            "type": "surface"
           }
          ],
          "table": [
           {
            "cells": {
             "fill": {
              "color": "#EBF0F8"
             },
             "line": {
              "color": "white"
             }
            },
            "header": {
             "fill": {
              "color": "#C8D4E3"
             },
             "line": {
              "color": "white"
             }
            },
            "type": "table"
           }
          ]
         },
         "layout": {
          "annotationdefaults": {
           "arrowcolor": "#2a3f5f",
           "arrowhead": 0,
           "arrowwidth": 1
          },
          "autotypenumbers": "strict",
          "coloraxis": {
           "colorbar": {
            "outlinewidth": 0,
            "ticks": ""
           }
          },
          "colorscale": {
           "diverging": [
            [
             0,
             "#8e0152"
            ],
            [
             0.1,
             "#c51b7d"
            ],
            [
             0.2,
             "#de77ae"
            ],
            [
             0.3,
             "#f1b6da"
            ],
            [
             0.4,
             "#fde0ef"
            ],
            [
             0.5,
             "#f7f7f7"
            ],
            [
             0.6,
             "#e6f5d0"
            ],
            [
             0.7,
             "#b8e186"
            ],
            [
             0.8,
             "#7fbc41"
            ],
            [
             0.9,
             "#4d9221"
            ],
            [
             1,
             "#276419"
            ]
           ],
           "sequential": [
            [
             0,
             "#0d0887"
            ],
            [
             0.1111111111111111,
             "#46039f"
            ],
            [
             0.2222222222222222,
             "#7201a8"
            ],
            [
             0.3333333333333333,
             "#9c179e"
            ],
            [
             0.4444444444444444,
             "#bd3786"
            ],
            [
             0.5555555555555556,
             "#d8576b"
            ],
            [
             0.6666666666666666,
             "#ed7953"
            ],
            [
             0.7777777777777778,
             "#fb9f3a"
            ],
            [
             0.8888888888888888,
             "#fdca26"
            ],
            [
             1,
             "#f0f921"
            ]
           ],
           "sequentialminus": [
            [
             0,
             "#0d0887"
            ],
            [
             0.1111111111111111,
             "#46039f"
            ],
            [
             0.2222222222222222,
             "#7201a8"
            ],
            [
             0.3333333333333333,
             "#9c179e"
            ],
            [
             0.4444444444444444,
             "#bd3786"
            ],
            [
             0.5555555555555556,
             "#d8576b"
            ],
            [
             0.6666666666666666,
             "#ed7953"
            ],
            [
             0.7777777777777778,
             "#fb9f3a"
            ],
            [
             0.8888888888888888,
             "#fdca26"
            ],
            [
             1,
             "#f0f921"
            ]
           ]
          },
          "colorway": [
           "#636efa",
           "#EF553B",
           "#00cc96",
           "#ab63fa",
           "#FFA15A",
           "#19d3f3",
           "#FF6692",
           "#B6E880",
           "#FF97FF",
           "#FECB52"
          ],
          "font": {
           "color": "#2a3f5f"
          },
          "geo": {
           "bgcolor": "white",
           "lakecolor": "white",
           "landcolor": "#E5ECF6",
           "showlakes": true,
           "showland": true,
           "subunitcolor": "white"
          },
          "hoverlabel": {
           "align": "left"
          },
          "hovermode": "closest",
          "mapbox": {
           "style": "light"
          },
          "paper_bgcolor": "white",
          "plot_bgcolor": "#E5ECF6",
          "polar": {
           "angularaxis": {
            "gridcolor": "white",
            "linecolor": "white",
            "ticks": ""
           },
           "bgcolor": "#E5ECF6",
           "radialaxis": {
            "gridcolor": "white",
            "linecolor": "white",
            "ticks": ""
           }
          },
          "scene": {
           "xaxis": {
            "backgroundcolor": "#E5ECF6",
            "gridcolor": "white",
            "gridwidth": 2,
            "linecolor": "white",
            "showbackground": true,
            "ticks": "",
            "zerolinecolor": "white"
           },
           "yaxis": {
            "backgroundcolor": "#E5ECF6",
            "gridcolor": "white",
            "gridwidth": 2,
            "linecolor": "white",
            "showbackground": true,
            "ticks": "",
            "zerolinecolor": "white"
           },
           "zaxis": {
            "backgroundcolor": "#E5ECF6",
            "gridcolor": "white",
            "gridwidth": 2,
            "linecolor": "white",
            "showbackground": true,
            "ticks": "",
            "zerolinecolor": "white"
           }
          },
          "shapedefaults": {
           "line": {
            "color": "#2a3f5f"
           }
          },
          "ternary": {
           "aaxis": {
            "gridcolor": "white",
            "linecolor": "white",
            "ticks": ""
           },
           "baxis": {
            "gridcolor": "white",
            "linecolor": "white",
            "ticks": ""
           },
           "bgcolor": "#E5ECF6",
           "caxis": {
            "gridcolor": "white",
            "linecolor": "white",
            "ticks": ""
           }
          },
          "title": {
           "x": 0.05
          },
          "xaxis": {
           "automargin": true,
           "gridcolor": "white",
           "linecolor": "white",
           "ticks": "",
           "title": {
            "standoff": 15
           },
           "zerolinecolor": "white",
           "zerolinewidth": 2
          },
          "yaxis": {
           "automargin": true,
           "gridcolor": "white",
           "linecolor": "white",
           "ticks": "",
           "title": {
            "standoff": 15
           },
           "zerolinecolor": "white",
           "zerolinewidth": 2
          }
         }
        },
        "title": {
         "text": "F50-F59 - Síndromes comportamentais associadas a disfunções fisiológicas e a fatores físicos"
        },
        "xaxis": {
         "title": {
          "text": "Time"
         }
        },
        "yaxis": {
         "title": {
          "text": "Value"
         }
        }
       }
      }
     },
     "metadata": {},
     "output_type": "display_data"
    },
    {
     "name": "stdout",
     "output_type": "stream",
     "text": [
      "Processing variable: F60-F69 - Transtornos da personalidade e do comportamento do adulto\n"
     ]
    },
    {
     "data": {
      "application/vnd.plotly.v1+json": {
       "config": {
        "plotlyServerURL": "https://plot.ly"
       },
       "data": [
        {
         "marker": {
          "color": "blue"
         },
         "mode": "markers",
         "name": "Real",
         "type": "scatter",
         "x": [
          "2016-01-01T00:00:00",
          "2016-02-01T00:00:00",
          "2016-03-01T00:00:00",
          "2016-04-01T00:00:00",
          "2016-05-01T00:00:00",
          "2016-06-01T00:00:00",
          "2016-07-01T00:00:00",
          "2016-08-01T00:00:00",
          "2016-09-01T00:00:00",
          "2016-10-01T00:00:00",
          "2016-11-01T00:00:00",
          "2016-12-01T00:00:00",
          "2017-01-01T00:00:00",
          "2017-02-01T00:00:00",
          "2017-03-01T00:00:00",
          "2017-04-01T00:00:00",
          "2017-05-01T00:00:00",
          "2017-06-01T00:00:00",
          "2017-07-01T00:00:00",
          "2017-08-01T00:00:00",
          "2017-09-01T00:00:00",
          "2017-10-01T00:00:00",
          "2017-11-01T00:00:00",
          "2017-12-01T00:00:00",
          "2018-01-01T00:00:00",
          "2018-02-01T00:00:00",
          "2018-03-01T00:00:00",
          "2018-04-01T00:00:00",
          "2018-05-01T00:00:00",
          "2018-06-01T00:00:00",
          "2018-07-01T00:00:00",
          "2018-08-01T00:00:00",
          "2018-09-01T00:00:00",
          "2018-10-01T00:00:00",
          "2018-11-01T00:00:00",
          "2018-12-01T00:00:00",
          "2019-01-01T00:00:00",
          "2019-02-01T00:00:00",
          "2019-03-01T00:00:00",
          "2019-04-01T00:00:00",
          "2019-05-01T00:00:00",
          "2019-06-01T00:00:00",
          "2019-07-01T00:00:00",
          "2019-08-01T00:00:00",
          "2019-09-01T00:00:00",
          "2019-10-01T00:00:00",
          "2019-11-01T00:00:00",
          "2019-12-01T00:00:00",
          "2020-01-01T00:00:00",
          "2020-02-01T00:00:00",
          "2020-03-01T00:00:00",
          "2020-04-01T00:00:00",
          "2020-05-01T00:00:00",
          "2020-06-01T00:00:00",
          "2020-07-01T00:00:00",
          "2020-08-01T00:00:00",
          "2020-09-01T00:00:00",
          "2020-10-01T00:00:00",
          "2020-11-01T00:00:00",
          "2020-12-01T00:00:00",
          "2021-01-01T00:00:00",
          "2021-02-01T00:00:00",
          "2021-03-01T00:00:00",
          "2021-04-01T00:00:00",
          "2021-05-01T00:00:00",
          "2021-06-01T00:00:00",
          "2021-07-01T00:00:00",
          "2021-08-01T00:00:00",
          "2021-09-01T00:00:00",
          "2021-10-01T00:00:00",
          "2021-11-01T00:00:00",
          "2021-12-01T00:00:00",
          "2022-01-01T00:00:00",
          "2022-02-01T00:00:00",
          "2022-03-01T00:00:00",
          "2022-04-01T00:00:00",
          "2022-05-01T00:00:00",
          "2022-06-01T00:00:00",
          "2022-07-01T00:00:00",
          "2022-08-01T00:00:00",
          "2022-09-01T00:00:00",
          "2022-10-01T00:00:00",
          "2022-11-01T00:00:00",
          "2022-12-01T00:00:00",
          "2023-01-01T00:00:00",
          "2023-02-01T00:00:00",
          "2023-03-01T00:00:00",
          "2023-04-01T00:00:00",
          "2023-05-01T00:00:00",
          "2023-06-01T00:00:00",
          "2023-07-01T00:00:00",
          "2023-08-01T00:00:00",
          "2023-09-01T00:00:00",
          "2023-10-01T00:00:00",
          "2023-11-01T00:00:00",
          "2023-12-01T00:00:00",
          "2024-01-01T00:00:00",
          "2024-02-01T00:00:00",
          "2024-03-01T00:00:00",
          "2024-04-01T00:00:00",
          "2024-05-01T00:00:00",
          "2024-06-01T00:00:00",
          "2024-07-01T00:00:00",
          "2024-08-01T00:00:00",
          "2024-09-01T00:00:00",
          "2024-10-01T00:00:00",
          "2024-11-01T00:00:00",
          "2024-12-01T00:00:00"
         ],
         "y": [
          25,
          22,
          31,
          44,
          51,
          64,
          48,
          48,
          55,
          59,
          44,
          34,
          54,
          42,
          66,
          51,
          49,
          48,
          45,
          44,
          52,
          50,
          55,
          57,
          53,
          41,
          69,
          50,
          57,
          61,
          35,
          47,
          50,
          72,
          67,
          51,
          170,
          56,
          60,
          64,
          83,
          68,
          68,
          62,
          56,
          66,
          47,
          49,
          47,
          61,
          65,
          33,
          32,
          120,
          147,
          162,
          138,
          123,
          154,
          141,
          159,
          132,
          86,
          68,
          23,
          138,
          118,
          171,
          150,
          140,
          129,
          165,
          91,
          108,
          182,
          154,
          138,
          154,
          171,
          202,
          93,
          110,
          93,
          97,
          93,
          76,
          97,
          71,
          102,
          96,
          107,
          136,
          116,
          124,
          129,
          130,
          121,
          116,
          141,
          137,
          110,
          142,
          131,
          173,
          147,
          202,
          146,
          171
         ]
        },
        {
         "line": {
          "color": "black",
          "dash": "dot"
         },
         "mode": "lines",
         "name": "Baseline",
         "type": "scatter",
         "x": [
          "2016-01-01T00:00:00",
          "2016-02-01T00:00:00",
          "2016-03-01T00:00:00",
          "2016-04-01T00:00:00",
          "2016-05-01T00:00:00",
          "2016-06-01T00:00:00",
          "2016-07-01T00:00:00",
          "2016-08-01T00:00:00",
          "2016-09-01T00:00:00",
          "2016-10-01T00:00:00",
          "2016-11-01T00:00:00",
          "2016-12-01T00:00:00",
          "2017-01-01T00:00:00",
          "2017-02-01T00:00:00",
          "2017-03-01T00:00:00",
          "2017-04-01T00:00:00",
          "2017-05-01T00:00:00",
          "2017-06-01T00:00:00",
          "2017-07-01T00:00:00",
          "2017-08-01T00:00:00",
          "2017-09-01T00:00:00",
          "2017-10-01T00:00:00",
          "2017-11-01T00:00:00",
          "2017-12-01T00:00:00",
          "2018-01-01T00:00:00",
          "2018-02-01T00:00:00",
          "2018-03-01T00:00:00",
          "2018-04-01T00:00:00",
          "2018-05-01T00:00:00",
          "2018-06-01T00:00:00",
          "2018-07-01T00:00:00",
          "2018-08-01T00:00:00",
          "2018-09-01T00:00:00",
          "2018-10-01T00:00:00",
          "2018-11-01T00:00:00",
          "2018-12-01T00:00:00",
          "2019-01-01T00:00:00",
          "2019-02-01T00:00:00",
          "2019-03-01T00:00:00",
          "2019-04-01T00:00:00",
          "2019-05-01T00:00:00",
          "2019-06-01T00:00:00",
          "2019-07-01T00:00:00",
          "2019-08-01T00:00:00",
          "2019-09-01T00:00:00",
          "2019-10-01T00:00:00",
          "2019-11-01T00:00:00",
          "2019-12-01T00:00:00",
          "2020-01-01T00:00:00",
          "2020-02-01T00:00:00",
          "2020-03-01T00:00:00",
          "2020-04-01T00:00:00",
          "2020-05-01T00:00:00",
          "2020-06-01T00:00:00",
          "2020-07-01T00:00:00",
          "2020-08-01T00:00:00",
          "2020-09-01T00:00:00",
          "2020-10-01T00:00:00",
          "2020-11-01T00:00:00",
          "2020-12-01T00:00:00",
          "2021-01-01T00:00:00",
          "2021-02-01T00:00:00",
          "2021-03-01T00:00:00",
          "2021-04-01T00:00:00",
          "2021-05-01T00:00:00",
          "2021-06-01T00:00:00",
          "2021-07-01T00:00:00",
          "2021-08-01T00:00:00",
          "2021-09-01T00:00:00",
          "2021-10-01T00:00:00",
          "2021-11-01T00:00:00",
          "2021-12-01T00:00:00",
          "2022-01-01T00:00:00",
          "2022-02-01T00:00:00",
          "2022-03-01T00:00:00",
          "2022-04-01T00:00:00",
          "2022-05-01T00:00:00",
          "2022-06-01T00:00:00",
          "2022-07-01T00:00:00",
          "2022-08-01T00:00:00",
          "2022-09-01T00:00:00",
          "2022-10-01T00:00:00",
          "2022-11-01T00:00:00",
          "2022-12-01T00:00:00",
          "2023-01-01T00:00:00",
          "2023-02-01T00:00:00",
          "2023-03-01T00:00:00",
          "2023-04-01T00:00:00",
          "2023-05-01T00:00:00",
          "2023-06-01T00:00:00",
          "2023-07-01T00:00:00",
          "2023-08-01T00:00:00",
          "2023-09-01T00:00:00",
          "2023-10-01T00:00:00",
          "2023-11-01T00:00:00",
          "2023-12-01T00:00:00",
          "2024-01-01T00:00:00",
          "2024-02-01T00:00:00",
          "2024-03-01T00:00:00",
          "2024-04-01T00:00:00",
          "2024-05-01T00:00:00",
          "2024-06-01T00:00:00",
          "2024-07-01T00:00:00",
          "2024-08-01T00:00:00",
          "2024-09-01T00:00:00",
          "2024-10-01T00:00:00",
          "2024-11-01T00:00:00",
          "2024-12-01T00:00:00"
         ],
         "y": [
          40.13679352829138,
          40.75283455424273,
          41.368875580194086,
          41.98491660614544,
          42.600957632096794,
          43.21699865804815,
          43.8330396839995,
          44.449080709950856,
          45.06512173590221,
          45.681162761853564,
          46.29720378780492,
          46.91324481375627,
          47.529285839707626,
          48.14532686565897,
          48.761367891610334,
          49.37740891756168,
          49.99344994351304,
          50.60949096946439,
          51.22553199541575,
          51.8415730213671,
          52.45761404731845,
          53.073655073269805,
          53.68969609922116,
          54.30573712517251,
          54.92177815112387,
          55.53781917707522,
          56.153860203026575,
          56.76990122897793,
          57.38594225492928,
          58.00198328088064,
          58.61802430683199,
          59.234065332783345,
          59.8501063587347,
          60.46614738468605,
          61.08218841063741,
          61.69822943658876,
          62.314270462540115,
          62.93031148849147,
          63.54635251444282,
          64.16239354039418,
          64.77843456634552,
          65.39447559229689,
          66.01051661824823,
          66.6265576441996,
          67.24259867015094,
          67.8586396961023,
          68.47468072205365,
          69.09072174800501,
          69.70676277395636,
          70.32280379990772,
          70.93884482585906,
          71.55488585181041,
          72.17092687776177,
          72.78696790371313,
          73.40300892966448,
          74.01904995561583,
          74.63509098156719,
          75.25113200751855,
          75.8671730334699,
          76.48321405942124,
          77.0992550853726,
          77.71529611132397,
          78.33133713727531,
          78.94737816322666,
          79.56341918917802,
          80.17946021512938,
          80.79550124108073,
          81.41154226703208,
          82.02758329298344,
          82.6436243189348,
          83.25966534488614,
          83.87570637083749,
          84.49174739678885,
          85.10778842274021,
          85.72382944869156,
          86.33987047464291,
          86.95591150059427,
          87.57195252654563,
          88.18799355249698,
          88.80403457844832,
          89.42007560439967,
          90.03611663035103,
          90.65215765630239,
          91.26819868225374,
          91.88423970820509,
          92.50028073415645,
          93.11632176010781,
          93.73236278605916,
          94.3484038120105,
          94.96444483796186,
          95.58048586391322,
          96.19652688986457,
          96.81256791581592,
          97.42860894176728,
          98.04464996771864,
          98.66069099366999,
          99.27673201962133,
          99.8927730455727,
          100.50881407152406,
          101.1248550974754,
          101.74089612342675,
          102.35693714937811,
          102.97297817532947,
          103.58901920128082,
          104.20506022723217,
          104.82110125318351,
          105.43714227913489,
          106.05318330508624
         ]
        },
        {
         "line": {
          "dash": "solid"
         },
         "mode": "lines",
         "name": "Trend_PosPandemia Effect",
         "type": "scatter",
         "x": [
          "2016-01-01T00:00:00",
          "2016-02-01T00:00:00",
          "2016-03-01T00:00:00",
          "2016-04-01T00:00:00",
          "2016-05-01T00:00:00",
          "2016-06-01T00:00:00",
          "2016-07-01T00:00:00",
          "2016-08-01T00:00:00",
          "2016-09-01T00:00:00",
          "2016-10-01T00:00:00",
          "2016-11-01T00:00:00",
          "2016-12-01T00:00:00",
          "2017-01-01T00:00:00",
          "2017-02-01T00:00:00",
          "2017-03-01T00:00:00",
          "2017-04-01T00:00:00",
          "2017-05-01T00:00:00",
          "2017-06-01T00:00:00",
          "2017-07-01T00:00:00",
          "2017-08-01T00:00:00",
          "2017-09-01T00:00:00",
          "2017-10-01T00:00:00",
          "2017-11-01T00:00:00",
          "2017-12-01T00:00:00",
          "2018-01-01T00:00:00",
          "2018-02-01T00:00:00",
          "2018-03-01T00:00:00",
          "2018-04-01T00:00:00",
          "2018-05-01T00:00:00",
          "2018-06-01T00:00:00",
          "2018-07-01T00:00:00",
          "2018-08-01T00:00:00",
          "2018-09-01T00:00:00",
          "2018-10-01T00:00:00",
          "2018-11-01T00:00:00",
          "2018-12-01T00:00:00",
          "2019-01-01T00:00:00",
          "2019-02-01T00:00:00",
          "2019-03-01T00:00:00",
          "2019-04-01T00:00:00",
          "2019-05-01T00:00:00",
          "2019-06-01T00:00:00",
          "2019-07-01T00:00:00",
          "2019-08-01T00:00:00",
          "2019-09-01T00:00:00",
          "2019-10-01T00:00:00",
          "2019-11-01T00:00:00",
          "2019-12-01T00:00:00",
          "2020-01-01T00:00:00",
          "2020-02-01T00:00:00",
          "2020-03-01T00:00:00",
          "2020-04-01T00:00:00",
          "2020-05-01T00:00:00",
          "2020-06-01T00:00:00",
          "2020-07-01T00:00:00",
          "2020-08-01T00:00:00",
          "2020-09-01T00:00:00",
          "2020-10-01T00:00:00",
          "2020-11-01T00:00:00",
          "2020-12-01T00:00:00",
          "2021-01-01T00:00:00",
          "2021-02-01T00:00:00",
          "2021-03-01T00:00:00",
          "2021-04-01T00:00:00",
          "2021-05-01T00:00:00",
          "2021-06-01T00:00:00",
          "2021-07-01T00:00:00",
          "2021-08-01T00:00:00",
          "2021-09-01T00:00:00",
          "2021-10-01T00:00:00",
          "2021-11-01T00:00:00",
          "2021-12-01T00:00:00",
          "2022-01-01T00:00:00",
          "2022-02-01T00:00:00",
          "2022-03-01T00:00:00",
          "2022-04-01T00:00:00",
          "2022-05-01T00:00:00",
          "2022-06-01T00:00:00",
          "2022-07-01T00:00:00",
          "2022-08-01T00:00:00",
          "2022-09-01T00:00:00",
          "2022-10-01T00:00:00",
          "2022-11-01T00:00:00",
          "2022-12-01T00:00:00",
          "2023-01-01T00:00:00",
          "2023-02-01T00:00:00",
          "2023-03-01T00:00:00",
          "2023-04-01T00:00:00",
          "2023-05-01T00:00:00",
          "2023-06-01T00:00:00",
          "2023-07-01T00:00:00",
          "2023-08-01T00:00:00",
          "2023-09-01T00:00:00",
          "2023-10-01T00:00:00",
          "2023-11-01T00:00:00",
          "2023-12-01T00:00:00",
          "2024-01-01T00:00:00",
          "2024-02-01T00:00:00",
          "2024-03-01T00:00:00",
          "2024-04-01T00:00:00",
          "2024-05-01T00:00:00",
          "2024-06-01T00:00:00",
          "2024-07-01T00:00:00",
          "2024-08-01T00:00:00",
          "2024-09-01T00:00:00",
          "2024-10-01T00:00:00",
          "2024-11-01T00:00:00",
          "2024-12-01T00:00:00"
         ],
         "y": [
          40.13679352829138,
          40.75283455424273,
          41.368875580194086,
          41.98491660614544,
          42.600957632096794,
          43.21699865804815,
          43.8330396839995,
          44.449080709950856,
          45.06512173590221,
          45.681162761853564,
          46.29720378780492,
          46.91324481375627,
          47.529285839707626,
          48.14532686565897,
          48.761367891610334,
          49.37740891756168,
          49.99344994351304,
          50.60949096946439,
          51.22553199541575,
          51.8415730213671,
          52.45761404731845,
          53.073655073269805,
          53.68969609922116,
          54.30573712517251,
          54.92177815112387,
          55.53781917707522,
          56.153860203026575,
          56.76990122897793,
          57.38594225492928,
          58.00198328088064,
          58.61802430683199,
          59.234065332783345,
          59.8501063587347,
          60.46614738468605,
          61.08218841063741,
          61.69822943658876,
          62.314270462540115,
          62.93031148849147,
          63.54635251444282,
          64.16239354039418,
          64.77843456634552,
          65.39447559229689,
          66.01051661824823,
          66.6265576441996,
          67.24259867015094,
          67.8586396961023,
          68.47468072205365,
          69.09072174800501,
          70.70676277395636,
          71.32280379990772,
          71.93884482585906,
          72.55488585181041,
          73.17092687776177,
          73.78696790371313,
          74.40300892966448,
          131.01904995561583,
          130.6350909815672,
          131.25113200751855,
          130.8671730334699,
          131.48321405942124,
          131.0992550853726,
          130.71529611132397,
          131.3313371372753,
          107.94737816322666,
          108.56341918917803,
          131.17946021512938,
          130.79550124108073,
          131.41154226703208,
          131.02758329298342,
          131.6436243189348,
          131.25966534488614,
          130.8757063708375,
          131.49174739678887,
          131.1077884227402,
          131.72382944869156,
          131.3398704746429,
          130.95591150059425,
          131.57195252654563,
          131.18799355249698,
          131.80403457844832,
          131.42007560439967,
          131.03611663035105,
          131.6521576563024,
          131.26819868225374,
          131.8842397082051,
          131.50028073415643,
          131.1163217601078,
          131.73236278605916,
          131.3484038120105,
          131.96444483796188,
          131.58048586391322,
          132.19652688986457,
          131.81256791581592,
          131.42860894176727,
          132.04464996771864,
          131.66069099367,
          132.27673201962133,
          131.8927730455727,
          131.50881407152406,
          132.1248550974754,
          131.74089612342675,
          132.3569371493781,
          131.97297817532947,
          131.58901920128082,
          132.20506022723217,
          131.8211012531835,
          132.4371422791349,
          132.05318330508624
         ]
        }
       ],
       "layout": {
        "legend": {
         "title": {
          "text": "Legend"
         }
        },
        "shapes": [
         {
          "fillcolor": "White",
          "layer": "below",
          "line": {
           "width": 0
          },
          "opacity": 0.3,
          "type": "rect",
          "x0": "2020-08-01T00:00:00",
          "x1": "2024-12-01T00:00:00",
          "xref": "x",
          "y0": 0,
          "y1": 1,
          "yref": "paper"
         },
         {
          "fillcolor": "LightSalmon",
          "layer": "below",
          "line": {
           "width": 0
          },
          "opacity": 0.3,
          "type": "rect",
          "x0": "2020-01-01T00:00:00",
          "x1": "2020-07-01T00:00:00",
          "xref": "x",
          "y0": 0,
          "y1": 1,
          "yref": "paper"
         },
         {
          "fillcolor": "LightSalmon",
          "layer": "below",
          "line": {
           "width": 0
          },
          "opacity": 0.3,
          "type": "rect",
          "x0": "2021-04-01T00:00:00",
          "x1": "2021-05-01T00:00:00",
          "xref": "x",
          "y0": 0,
          "y1": 1,
          "yref": "paper"
         },
         {
          "fillcolor": "Grey",
          "layer": "below",
          "line": {
           "width": 0
          },
          "opacity": 0.3,
          "type": "rect",
          "x0": "2020-08-01T00:00:00",
          "x1": "2024-12-01T00:00:00",
          "xref": "x",
          "y0": 0,
          "y1": 1,
          "yref": "paper"
         }
        ],
        "template": {
         "data": {
          "bar": [
           {
            "error_x": {
             "color": "#2a3f5f"
            },
            "error_y": {
             "color": "#2a3f5f"
            },
            "marker": {
             "line": {
              "color": "#E5ECF6",
              "width": 0.5
             },
             "pattern": {
              "fillmode": "overlay",
              "size": 10,
              "solidity": 0.2
             }
            },
            "type": "bar"
           }
          ],
          "barpolar": [
           {
            "marker": {
             "line": {
              "color": "#E5ECF6",
              "width": 0.5
             },
             "pattern": {
              "fillmode": "overlay",
              "size": 10,
              "solidity": 0.2
             }
            },
            "type": "barpolar"
           }
          ],
          "carpet": [
           {
            "aaxis": {
             "endlinecolor": "#2a3f5f",
             "gridcolor": "white",
             "linecolor": "white",
             "minorgridcolor": "white",
             "startlinecolor": "#2a3f5f"
            },
            "baxis": {
             "endlinecolor": "#2a3f5f",
             "gridcolor": "white",
             "linecolor": "white",
             "minorgridcolor": "white",
             "startlinecolor": "#2a3f5f"
            },
            "type": "carpet"
           }
          ],
          "choropleth": [
           {
            "colorbar": {
             "outlinewidth": 0,
             "ticks": ""
            },
            "type": "choropleth"
           }
          ],
          "contour": [
           {
            "colorbar": {
             "outlinewidth": 0,
             "ticks": ""
            },
            "colorscale": [
             [
              0,
              "#0d0887"
             ],
             [
              0.1111111111111111,
              "#46039f"
             ],
             [
              0.2222222222222222,
              "#7201a8"
             ],
             [
              0.3333333333333333,
              "#9c179e"
             ],
             [
              0.4444444444444444,
              "#bd3786"
             ],
             [
              0.5555555555555556,
              "#d8576b"
             ],
             [
              0.6666666666666666,
              "#ed7953"
             ],
             [
              0.7777777777777778,
              "#fb9f3a"
             ],
             [
              0.8888888888888888,
              "#fdca26"
             ],
             [
              1,
              "#f0f921"
             ]
            ],
            "type": "contour"
           }
          ],
          "contourcarpet": [
           {
            "colorbar": {
             "outlinewidth": 0,
             "ticks": ""
            },
            "type": "contourcarpet"
           }
          ],
          "heatmap": [
           {
            "colorbar": {
             "outlinewidth": 0,
             "ticks": ""
            },
            "colorscale": [
             [
              0,
              "#0d0887"
             ],
             [
              0.1111111111111111,
              "#46039f"
             ],
             [
              0.2222222222222222,
              "#7201a8"
             ],
             [
              0.3333333333333333,
              "#9c179e"
             ],
             [
              0.4444444444444444,
              "#bd3786"
             ],
             [
              0.5555555555555556,
              "#d8576b"
             ],
             [
              0.6666666666666666,
              "#ed7953"
             ],
             [
              0.7777777777777778,
              "#fb9f3a"
             ],
             [
              0.8888888888888888,
              "#fdca26"
             ],
             [
              1,
              "#f0f921"
             ]
            ],
            "type": "heatmap"
           }
          ],
          "heatmapgl": [
           {
            "colorbar": {
             "outlinewidth": 0,
             "ticks": ""
            },
            "colorscale": [
             [
              0,
              "#0d0887"
             ],
             [
              0.1111111111111111,
              "#46039f"
             ],
             [
              0.2222222222222222,
              "#7201a8"
             ],
             [
              0.3333333333333333,
              "#9c179e"
             ],
             [
              0.4444444444444444,
              "#bd3786"
             ],
             [
              0.5555555555555556,
              "#d8576b"
             ],
             [
              0.6666666666666666,
              "#ed7953"
             ],
             [
              0.7777777777777778,
              "#fb9f3a"
             ],
             [
              0.8888888888888888,
              "#fdca26"
             ],
             [
              1,
              "#f0f921"
             ]
            ],
            "type": "heatmapgl"
           }
          ],
          "histogram": [
           {
            "marker": {
             "pattern": {
              "fillmode": "overlay",
              "size": 10,
              "solidity": 0.2
             }
            },
            "type": "histogram"
           }
          ],
          "histogram2d": [
           {
            "colorbar": {
             "outlinewidth": 0,
             "ticks": ""
            },
            "colorscale": [
             [
              0,
              "#0d0887"
             ],
             [
              0.1111111111111111,
              "#46039f"
             ],
             [
              0.2222222222222222,
              "#7201a8"
             ],
             [
              0.3333333333333333,
              "#9c179e"
             ],
             [
              0.4444444444444444,
              "#bd3786"
             ],
             [
              0.5555555555555556,
              "#d8576b"
             ],
             [
              0.6666666666666666,
              "#ed7953"
             ],
             [
              0.7777777777777778,
              "#fb9f3a"
             ],
             [
              0.8888888888888888,
              "#fdca26"
             ],
             [
              1,
              "#f0f921"
             ]
            ],
            "type": "histogram2d"
           }
          ],
          "histogram2dcontour": [
           {
            "colorbar": {
             "outlinewidth": 0,
             "ticks": ""
            },
            "colorscale": [
             [
              0,
              "#0d0887"
             ],
             [
              0.1111111111111111,
              "#46039f"
             ],
             [
              0.2222222222222222,
              "#7201a8"
             ],
             [
              0.3333333333333333,
              "#9c179e"
             ],
             [
              0.4444444444444444,
              "#bd3786"
             ],
             [
              0.5555555555555556,
              "#d8576b"
             ],
             [
              0.6666666666666666,
              "#ed7953"
             ],
             [
              0.7777777777777778,
              "#fb9f3a"
             ],
             [
              0.8888888888888888,
              "#fdca26"
             ],
             [
              1,
              "#f0f921"
             ]
            ],
            "type": "histogram2dcontour"
           }
          ],
          "mesh3d": [
           {
            "colorbar": {
             "outlinewidth": 0,
             "ticks": ""
            },
            "type": "mesh3d"
           }
          ],
          "parcoords": [
           {
            "line": {
             "colorbar": {
              "outlinewidth": 0,
              "ticks": ""
             }
            },
            "type": "parcoords"
           }
          ],
          "pie": [
           {
            "automargin": true,
            "type": "pie"
           }
          ],
          "scatter": [
           {
            "fillpattern": {
             "fillmode": "overlay",
             "size": 10,
             "solidity": 0.2
            },
            "type": "scatter"
           }
          ],
          "scatter3d": [
           {
            "line": {
             "colorbar": {
              "outlinewidth": 0,
              "ticks": ""
             }
            },
            "marker": {
             "colorbar": {
              "outlinewidth": 0,
              "ticks": ""
             }
            },
            "type": "scatter3d"
           }
          ],
          "scattercarpet": [
           {
            "marker": {
             "colorbar": {
              "outlinewidth": 0,
              "ticks": ""
             }
            },
            "type": "scattercarpet"
           }
          ],
          "scattergeo": [
           {
            "marker": {
             "colorbar": {
              "outlinewidth": 0,
              "ticks": ""
             }
            },
            "type": "scattergeo"
           }
          ],
          "scattergl": [
           {
            "marker": {
             "colorbar": {
              "outlinewidth": 0,
              "ticks": ""
             }
            },
            "type": "scattergl"
           }
          ],
          "scattermapbox": [
           {
            "marker": {
             "colorbar": {
              "outlinewidth": 0,
              "ticks": ""
             }
            },
            "type": "scattermapbox"
           }
          ],
          "scatterpolar": [
           {
            "marker": {
             "colorbar": {
              "outlinewidth": 0,
              "ticks": ""
             }
            },
            "type": "scatterpolar"
           }
          ],
          "scatterpolargl": [
           {
            "marker": {
             "colorbar": {
              "outlinewidth": 0,
              "ticks": ""
             }
            },
            "type": "scatterpolargl"
           }
          ],
          "scatterternary": [
           {
            "marker": {
             "colorbar": {
              "outlinewidth": 0,
              "ticks": ""
             }
            },
            "type": "scatterternary"
           }
          ],
          "surface": [
           {
            "colorbar": {
             "outlinewidth": 0,
             "ticks": ""
            },
            "colorscale": [
             [
              0,
              "#0d0887"
             ],
             [
              0.1111111111111111,
              "#46039f"
             ],
             [
              0.2222222222222222,
              "#7201a8"
             ],
             [
              0.3333333333333333,
              "#9c179e"
             ],
             [
              0.4444444444444444,
              "#bd3786"
             ],
             [
              0.5555555555555556,
              "#d8576b"
             ],
             [
              0.6666666666666666,
              "#ed7953"
             ],
             [
              0.7777777777777778,
              "#fb9f3a"
             ],
             [
              0.8888888888888888,
              "#fdca26"
             ],
             [
              1,
              "#f0f921"
             ]
            ],
            "type": "surface"
           }
          ],
          "table": [
           {
            "cells": {
             "fill": {
              "color": "#EBF0F8"
             },
             "line": {
              "color": "white"
             }
            },
            "header": {
             "fill": {
              "color": "#C8D4E3"
             },
             "line": {
              "color": "white"
             }
            },
            "type": "table"
           }
          ]
         },
         "layout": {
          "annotationdefaults": {
           "arrowcolor": "#2a3f5f",
           "arrowhead": 0,
           "arrowwidth": 1
          },
          "autotypenumbers": "strict",
          "coloraxis": {
           "colorbar": {
            "outlinewidth": 0,
            "ticks": ""
           }
          },
          "colorscale": {
           "diverging": [
            [
             0,
             "#8e0152"
            ],
            [
             0.1,
             "#c51b7d"
            ],
            [
             0.2,
             "#de77ae"
            ],
            [
             0.3,
             "#f1b6da"
            ],
            [
             0.4,
             "#fde0ef"
            ],
            [
             0.5,
             "#f7f7f7"
            ],
            [
             0.6,
             "#e6f5d0"
            ],
            [
             0.7,
             "#b8e186"
            ],
            [
             0.8,
             "#7fbc41"
            ],
            [
             0.9,
             "#4d9221"
            ],
            [
             1,
             "#276419"
            ]
           ],
           "sequential": [
            [
             0,
             "#0d0887"
            ],
            [
             0.1111111111111111,
             "#46039f"
            ],
            [
             0.2222222222222222,
             "#7201a8"
            ],
            [
             0.3333333333333333,
             "#9c179e"
            ],
            [
             0.4444444444444444,
             "#bd3786"
            ],
            [
             0.5555555555555556,
             "#d8576b"
            ],
            [
             0.6666666666666666,
             "#ed7953"
            ],
            [
             0.7777777777777778,
             "#fb9f3a"
            ],
            [
             0.8888888888888888,
             "#fdca26"
            ],
            [
             1,
             "#f0f921"
            ]
           ],
           "sequentialminus": [
            [
             0,
             "#0d0887"
            ],
            [
             0.1111111111111111,
             "#46039f"
            ],
            [
             0.2222222222222222,
             "#7201a8"
            ],
            [
             0.3333333333333333,
             "#9c179e"
            ],
            [
             0.4444444444444444,
             "#bd3786"
            ],
            [
             0.5555555555555556,
             "#d8576b"
            ],
            [
             0.6666666666666666,
             "#ed7953"
            ],
            [
             0.7777777777777778,
             "#fb9f3a"
            ],
            [
             0.8888888888888888,
             "#fdca26"
            ],
            [
             1,
             "#f0f921"
            ]
           ]
          },
          "colorway": [
           "#636efa",
           "#EF553B",
           "#00cc96",
           "#ab63fa",
           "#FFA15A",
           "#19d3f3",
           "#FF6692",
           "#B6E880",
           "#FF97FF",
           "#FECB52"
          ],
          "font": {
           "color": "#2a3f5f"
          },
          "geo": {
           "bgcolor": "white",
           "lakecolor": "white",
           "landcolor": "#E5ECF6",
           "showlakes": true,
           "showland": true,
           "subunitcolor": "white"
          },
          "hoverlabel": {
           "align": "left"
          },
          "hovermode": "closest",
          "mapbox": {
           "style": "light"
          },
          "paper_bgcolor": "white",
          "plot_bgcolor": "#E5ECF6",
          "polar": {
           "angularaxis": {
            "gridcolor": "white",
            "linecolor": "white",
            "ticks": ""
           },
           "bgcolor": "#E5ECF6",
           "radialaxis": {
            "gridcolor": "white",
            "linecolor": "white",
            "ticks": ""
           }
          },
          "scene": {
           "xaxis": {
            "backgroundcolor": "#E5ECF6",
            "gridcolor": "white",
            "gridwidth": 2,
            "linecolor": "white",
            "showbackground": true,
            "ticks": "",
            "zerolinecolor": "white"
           },
           "yaxis": {
            "backgroundcolor": "#E5ECF6",
            "gridcolor": "white",
            "gridwidth": 2,
            "linecolor": "white",
            "showbackground": true,
            "ticks": "",
            "zerolinecolor": "white"
           },
           "zaxis": {
            "backgroundcolor": "#E5ECF6",
            "gridcolor": "white",
            "gridwidth": 2,
            "linecolor": "white",
            "showbackground": true,
            "ticks": "",
            "zerolinecolor": "white"
           }
          },
          "shapedefaults": {
           "line": {
            "color": "#2a3f5f"
           }
          },
          "ternary": {
           "aaxis": {
            "gridcolor": "white",
            "linecolor": "white",
            "ticks": ""
           },
           "baxis": {
            "gridcolor": "white",
            "linecolor": "white",
            "ticks": ""
           },
           "bgcolor": "#E5ECF6",
           "caxis": {
            "gridcolor": "white",
            "linecolor": "white",
            "ticks": ""
           }
          },
          "title": {
           "x": 0.05
          },
          "xaxis": {
           "automargin": true,
           "gridcolor": "white",
           "linecolor": "white",
           "ticks": "",
           "title": {
            "standoff": 15
           },
           "zerolinecolor": "white",
           "zerolinewidth": 2
          },
          "yaxis": {
           "automargin": true,
           "gridcolor": "white",
           "linecolor": "white",
           "ticks": "",
           "title": {
            "standoff": 15
           },
           "zerolinecolor": "white",
           "zerolinewidth": 2
          }
         }
        },
        "title": {
         "text": "F60-F69 - Transtornos da personalidade e do comportamento do adulto"
        },
        "xaxis": {
         "title": {
          "text": "Time"
         }
        },
        "yaxis": {
         "title": {
          "text": "Value"
         }
        }
       }
      }
     },
     "metadata": {},
     "output_type": "display_data"
    },
    {
     "name": "stdout",
     "output_type": "stream",
     "text": [
      "Processing variable: F70-F79 - Retardo mental\n"
     ]
    },
    {
     "data": {
      "application/vnd.plotly.v1+json": {
       "config": {
        "plotlyServerURL": "https://plot.ly"
       },
       "data": [
        {
         "marker": {
          "color": "blue"
         },
         "mode": "markers",
         "name": "Real",
         "type": "scatter",
         "x": [
          "2016-01-01T00:00:00",
          "2016-02-01T00:00:00",
          "2016-03-01T00:00:00",
          "2016-04-01T00:00:00",
          "2016-05-01T00:00:00",
          "2016-06-01T00:00:00",
          "2016-07-01T00:00:00",
          "2016-08-01T00:00:00",
          "2016-09-01T00:00:00",
          "2016-10-01T00:00:00",
          "2016-11-01T00:00:00",
          "2016-12-01T00:00:00",
          "2017-01-01T00:00:00",
          "2017-02-01T00:00:00",
          "2017-03-01T00:00:00",
          "2017-04-01T00:00:00",
          "2017-05-01T00:00:00",
          "2017-06-01T00:00:00",
          "2017-07-01T00:00:00",
          "2017-08-01T00:00:00",
          "2017-09-01T00:00:00",
          "2017-10-01T00:00:00",
          "2017-11-01T00:00:00",
          "2017-12-01T00:00:00",
          "2018-01-01T00:00:00",
          "2018-02-01T00:00:00",
          "2018-03-01T00:00:00",
          "2018-04-01T00:00:00",
          "2018-05-01T00:00:00",
          "2018-06-01T00:00:00",
          "2018-07-01T00:00:00",
          "2018-08-01T00:00:00",
          "2018-09-01T00:00:00",
          "2018-10-01T00:00:00",
          "2018-11-01T00:00:00",
          "2018-12-01T00:00:00",
          "2019-01-01T00:00:00",
          "2019-02-01T00:00:00",
          "2019-03-01T00:00:00",
          "2019-04-01T00:00:00",
          "2019-05-01T00:00:00",
          "2019-06-01T00:00:00",
          "2019-07-01T00:00:00",
          "2019-08-01T00:00:00",
          "2019-09-01T00:00:00",
          "2019-10-01T00:00:00",
          "2019-11-01T00:00:00",
          "2019-12-01T00:00:00",
          "2020-01-01T00:00:00",
          "2020-02-01T00:00:00",
          "2020-03-01T00:00:00",
          "2020-04-01T00:00:00",
          "2020-05-01T00:00:00",
          "2020-06-01T00:00:00",
          "2020-07-01T00:00:00",
          "2020-08-01T00:00:00",
          "2020-09-01T00:00:00",
          "2020-10-01T00:00:00",
          "2020-11-01T00:00:00",
          "2020-12-01T00:00:00",
          "2021-01-01T00:00:00",
          "2021-02-01T00:00:00",
          "2021-03-01T00:00:00",
          "2021-04-01T00:00:00",
          "2021-05-01T00:00:00",
          "2021-06-01T00:00:00",
          "2021-07-01T00:00:00",
          "2021-08-01T00:00:00",
          "2021-09-01T00:00:00",
          "2021-10-01T00:00:00",
          "2021-11-01T00:00:00",
          "2021-12-01T00:00:00",
          "2022-01-01T00:00:00",
          "2022-02-01T00:00:00",
          "2022-03-01T00:00:00",
          "2022-04-01T00:00:00",
          "2022-05-01T00:00:00",
          "2022-06-01T00:00:00",
          "2022-07-01T00:00:00",
          "2022-08-01T00:00:00",
          "2022-09-01T00:00:00",
          "2022-10-01T00:00:00",
          "2022-11-01T00:00:00",
          "2022-12-01T00:00:00",
          "2023-01-01T00:00:00",
          "2023-02-01T00:00:00",
          "2023-03-01T00:00:00",
          "2023-04-01T00:00:00",
          "2023-05-01T00:00:00",
          "2023-06-01T00:00:00",
          "2023-07-01T00:00:00",
          "2023-08-01T00:00:00",
          "2023-09-01T00:00:00",
          "2023-10-01T00:00:00",
          "2023-11-01T00:00:00",
          "2023-12-01T00:00:00",
          "2024-01-01T00:00:00",
          "2024-02-01T00:00:00",
          "2024-03-01T00:00:00",
          "2024-04-01T00:00:00",
          "2024-05-01T00:00:00",
          "2024-06-01T00:00:00",
          "2024-07-01T00:00:00",
          "2024-08-01T00:00:00",
          "2024-09-01T00:00:00",
          "2024-10-01T00:00:00",
          "2024-11-01T00:00:00",
          "2024-12-01T00:00:00"
         ],
         "y": [
          129,
          172,
          184,
          195,
          228,
          237,
          256,
          290,
          242,
          239,
          185,
          219,
          166,
          160,
          246,
          189,
          214,
          193,
          203,
          205,
          199,
          202,
          227,
          175,
          207,
          164,
          210,
          248,
          247,
          208,
          197,
          227,
          198,
          241,
          206,
          171,
          208,
          189,
          200,
          218,
          265,
          203,
          250,
          230,
          158,
          196,
          158,
          152,
          151,
          132,
          114,
          59,
          79,
          77,
          84,
          123,
          112,
          142,
          109,
          93,
          133,
          116,
          105,
          74,
          49,
          200,
          149,
          173,
          145,
          171,
          173,
          169,
          95,
          157,
          201,
          136,
          145,
          163,
          149,
          162,
          173,
          197,
          178,
          175,
          229,
          193,
          220,
          178,
          251,
          229,
          220,
          288,
          216,
          250,
          268,
          251,
          258,
          266,
          290,
          307,
          167,
          259,
          282,
          312,
          292,
          377,
          311,
          268
         ]
        },
        {
         "line": {
          "color": "black",
          "dash": "dot"
         },
         "mode": "lines",
         "name": "Baseline",
         "type": "scatter",
         "x": [
          "2016-01-01T00:00:00",
          "2016-02-01T00:00:00",
          "2016-03-01T00:00:00",
          "2016-04-01T00:00:00",
          "2016-05-01T00:00:00",
          "2016-06-01T00:00:00",
          "2016-07-01T00:00:00",
          "2016-08-01T00:00:00",
          "2016-09-01T00:00:00",
          "2016-10-01T00:00:00",
          "2016-11-01T00:00:00",
          "2016-12-01T00:00:00",
          "2017-01-01T00:00:00",
          "2017-02-01T00:00:00",
          "2017-03-01T00:00:00",
          "2017-04-01T00:00:00",
          "2017-05-01T00:00:00",
          "2017-06-01T00:00:00",
          "2017-07-01T00:00:00",
          "2017-08-01T00:00:00",
          "2017-09-01T00:00:00",
          "2017-10-01T00:00:00",
          "2017-11-01T00:00:00",
          "2017-12-01T00:00:00",
          "2018-01-01T00:00:00",
          "2018-02-01T00:00:00",
          "2018-03-01T00:00:00",
          "2018-04-01T00:00:00",
          "2018-05-01T00:00:00",
          "2018-06-01T00:00:00",
          "2018-07-01T00:00:00",
          "2018-08-01T00:00:00",
          "2018-09-01T00:00:00",
          "2018-10-01T00:00:00",
          "2018-11-01T00:00:00",
          "2018-12-01T00:00:00",
          "2019-01-01T00:00:00",
          "2019-02-01T00:00:00",
          "2019-03-01T00:00:00",
          "2019-04-01T00:00:00",
          "2019-05-01T00:00:00",
          "2019-06-01T00:00:00",
          "2019-07-01T00:00:00",
          "2019-08-01T00:00:00",
          "2019-09-01T00:00:00",
          "2019-10-01T00:00:00",
          "2019-11-01T00:00:00",
          "2019-12-01T00:00:00",
          "2020-01-01T00:00:00",
          "2020-02-01T00:00:00",
          "2020-03-01T00:00:00",
          "2020-04-01T00:00:00",
          "2020-05-01T00:00:00",
          "2020-06-01T00:00:00",
          "2020-07-01T00:00:00",
          "2020-08-01T00:00:00",
          "2020-09-01T00:00:00",
          "2020-10-01T00:00:00",
          "2020-11-01T00:00:00",
          "2020-12-01T00:00:00",
          "2021-01-01T00:00:00",
          "2021-02-01T00:00:00",
          "2021-03-01T00:00:00",
          "2021-04-01T00:00:00",
          "2021-05-01T00:00:00",
          "2021-06-01T00:00:00",
          "2021-07-01T00:00:00",
          "2021-08-01T00:00:00",
          "2021-09-01T00:00:00",
          "2021-10-01T00:00:00",
          "2021-11-01T00:00:00",
          "2021-12-01T00:00:00",
          "2022-01-01T00:00:00",
          "2022-02-01T00:00:00",
          "2022-03-01T00:00:00",
          "2022-04-01T00:00:00",
          "2022-05-01T00:00:00",
          "2022-06-01T00:00:00",
          "2022-07-01T00:00:00",
          "2022-08-01T00:00:00",
          "2022-09-01T00:00:00",
          "2022-10-01T00:00:00",
          "2022-11-01T00:00:00",
          "2022-12-01T00:00:00",
          "2023-01-01T00:00:00",
          "2023-02-01T00:00:00",
          "2023-03-01T00:00:00",
          "2023-04-01T00:00:00",
          "2023-05-01T00:00:00",
          "2023-06-01T00:00:00",
          "2023-07-01T00:00:00",
          "2023-08-01T00:00:00",
          "2023-09-01T00:00:00",
          "2023-10-01T00:00:00",
          "2023-11-01T00:00:00",
          "2023-12-01T00:00:00",
          "2024-01-01T00:00:00",
          "2024-02-01T00:00:00",
          "2024-03-01T00:00:00",
          "2024-04-01T00:00:00",
          "2024-05-01T00:00:00",
          "2024-06-01T00:00:00",
          "2024-07-01T00:00:00",
          "2024-08-01T00:00:00",
          "2024-09-01T00:00:00",
          "2024-10-01T00:00:00",
          "2024-11-01T00:00:00",
          "2024-12-01T00:00:00"
         ],
         "y": [
          203.43874112138437,
          203.03211919030343,
          202.6254972592225,
          202.21887532814156,
          201.81225339706063,
          201.4056314659797,
          200.99900953489876,
          200.59238760381783,
          200.18576567273686,
          199.77914374165593,
          199.372521810575,
          198.96589987949406,
          198.55927794841313,
          198.1526560173322,
          197.74603408625126,
          197.33941215517032,
          196.9327902240894,
          196.52616829300845,
          196.11954636192752,
          195.71292443084658,
          195.30630249976565,
          194.89968056868472,
          194.49305863760378,
          194.08643670652285,
          193.6798147754419,
          193.27319284436095,
          192.86657091328001,
          192.45994898219908,
          192.05332705111815,
          191.6467051200372,
          191.24008318895628,
          190.83346125787534,
          190.4268393267944,
          190.02021739571347,
          189.61359546463254,
          189.2069735335516,
          188.80035160247067,
          188.39372967138974,
          187.9871077403088,
          187.58048580922787,
          187.17386387814693,
          186.767241947066,
          186.36062001598503,
          185.9539980849041,
          185.54737615382317,
          185.14075422274223,
          184.7341322916613,
          184.32751036058036,
          183.92088842949943,
          183.5142664984185,
          183.10764456733756,
          182.70102263625662,
          182.2944007051757,
          181.88777877409476,
          181.48115684301382,
          181.0745349119329,
          180.66791298085195,
          180.26129104977102,
          179.85466911869008,
          179.44804718760912,
          179.04142525652819,
          178.63480332544725,
          178.22818139436632,
          177.82155946328538,
          177.41493753220445,
          177.0083156011235,
          176.60169367004258,
          176.19507173896164,
          175.7884498078807,
          175.38182787679978,
          174.97520594571884,
          174.5685840146379,
          174.16196208355697,
          173.75534015247604,
          173.3487182213951,
          172.94209629031417,
          172.5354743592332,
          172.12885242815227,
          171.72223049707134,
          171.3156085659904,
          170.90898663490947,
          170.50236470382853,
          170.0957427727476,
          169.68912084166666,
          169.28249891058573,
          168.8758769795048,
          168.46925504842386,
          168.06263311734293,
          167.656011186262,
          167.24938925518106,
          166.84276732410012,
          166.43614539301916,
          166.02952346193825,
          165.6229015308573,
          165.21627959977639,
          164.80965766869542,
          164.4030357376145,
          163.99641380653355,
          163.58979187545262,
          163.18316994437168,
          162.77654801329075,
          162.36992608220982,
          161.96330415112888,
          161.55668222004795,
          161.150060288967,
          160.74343835788608,
          160.33681642680514,
          159.9301944957242
         ]
        },
        {
         "line": {
          "dash": "solid"
         },
         "mode": "lines",
         "name": "Trend_PosPandemia Effect",
         "type": "scatter",
         "x": [
          "2016-01-01T00:00:00",
          "2016-02-01T00:00:00",
          "2016-03-01T00:00:00",
          "2016-04-01T00:00:00",
          "2016-05-01T00:00:00",
          "2016-06-01T00:00:00",
          "2016-07-01T00:00:00",
          "2016-08-01T00:00:00",
          "2016-09-01T00:00:00",
          "2016-10-01T00:00:00",
          "2016-11-01T00:00:00",
          "2016-12-01T00:00:00",
          "2017-01-01T00:00:00",
          "2017-02-01T00:00:00",
          "2017-03-01T00:00:00",
          "2017-04-01T00:00:00",
          "2017-05-01T00:00:00",
          "2017-06-01T00:00:00",
          "2017-07-01T00:00:00",
          "2017-08-01T00:00:00",
          "2017-09-01T00:00:00",
          "2017-10-01T00:00:00",
          "2017-11-01T00:00:00",
          "2017-12-01T00:00:00",
          "2018-01-01T00:00:00",
          "2018-02-01T00:00:00",
          "2018-03-01T00:00:00",
          "2018-04-01T00:00:00",
          "2018-05-01T00:00:00",
          "2018-06-01T00:00:00",
          "2018-07-01T00:00:00",
          "2018-08-01T00:00:00",
          "2018-09-01T00:00:00",
          "2018-10-01T00:00:00",
          "2018-11-01T00:00:00",
          "2018-12-01T00:00:00",
          "2019-01-01T00:00:00",
          "2019-02-01T00:00:00",
          "2019-03-01T00:00:00",
          "2019-04-01T00:00:00",
          "2019-05-01T00:00:00",
          "2019-06-01T00:00:00",
          "2019-07-01T00:00:00",
          "2019-08-01T00:00:00",
          "2019-09-01T00:00:00",
          "2019-10-01T00:00:00",
          "2019-11-01T00:00:00",
          "2019-12-01T00:00:00",
          "2020-01-01T00:00:00",
          "2020-02-01T00:00:00",
          "2020-03-01T00:00:00",
          "2020-04-01T00:00:00",
          "2020-05-01T00:00:00",
          "2020-06-01T00:00:00",
          "2020-07-01T00:00:00",
          "2020-08-01T00:00:00",
          "2020-09-01T00:00:00",
          "2020-10-01T00:00:00",
          "2020-11-01T00:00:00",
          "2020-12-01T00:00:00",
          "2021-01-01T00:00:00",
          "2021-02-01T00:00:00",
          "2021-03-01T00:00:00",
          "2021-04-01T00:00:00",
          "2021-05-01T00:00:00",
          "2021-06-01T00:00:00",
          "2021-07-01T00:00:00",
          "2021-08-01T00:00:00",
          "2021-09-01T00:00:00",
          "2021-10-01T00:00:00",
          "2021-11-01T00:00:00",
          "2021-12-01T00:00:00",
          "2022-01-01T00:00:00",
          "2022-02-01T00:00:00",
          "2022-03-01T00:00:00",
          "2022-04-01T00:00:00",
          "2022-05-01T00:00:00",
          "2022-06-01T00:00:00",
          "2022-07-01T00:00:00",
          "2022-08-01T00:00:00",
          "2022-09-01T00:00:00",
          "2022-10-01T00:00:00",
          "2022-11-01T00:00:00",
          "2022-12-01T00:00:00",
          "2023-01-01T00:00:00",
          "2023-02-01T00:00:00",
          "2023-03-01T00:00:00",
          "2023-04-01T00:00:00",
          "2023-05-01T00:00:00",
          "2023-06-01T00:00:00",
          "2023-07-01T00:00:00",
          "2023-08-01T00:00:00",
          "2023-09-01T00:00:00",
          "2023-10-01T00:00:00",
          "2023-11-01T00:00:00",
          "2023-12-01T00:00:00",
          "2024-01-01T00:00:00",
          "2024-02-01T00:00:00",
          "2024-03-01T00:00:00",
          "2024-04-01T00:00:00",
          "2024-05-01T00:00:00",
          "2024-06-01T00:00:00",
          "2024-07-01T00:00:00",
          "2024-08-01T00:00:00",
          "2024-09-01T00:00:00",
          "2024-10-01T00:00:00",
          "2024-11-01T00:00:00",
          "2024-12-01T00:00:00"
         ],
         "y": [
          203.43874112138437,
          203.03211919030343,
          202.6254972592225,
          202.21887532814156,
          201.81225339706063,
          201.4056314659797,
          200.99900953489876,
          200.59238760381783,
          200.18576567273686,
          199.77914374165593,
          199.372521810575,
          198.96589987949406,
          198.55927794841313,
          198.1526560173322,
          197.74603408625126,
          197.33941215517032,
          196.9327902240894,
          196.52616829300845,
          196.11954636192752,
          195.71292443084658,
          195.30630249976565,
          194.89968056868472,
          194.49305863760378,
          194.08643670652285,
          193.6798147754419,
          193.27319284436095,
          192.86657091328001,
          192.45994898219908,
          192.05332705111815,
          191.6467051200372,
          191.24008318895628,
          190.83346125787534,
          190.4268393267944,
          190.02021739571347,
          189.61359546463254,
          189.2069735335516,
          188.80035160247067,
          188.39372967138974,
          187.9871077403088,
          187.58048580922787,
          187.17386387814693,
          186.767241947066,
          186.36062001598503,
          185.9539980849041,
          185.54737615382317,
          185.14075422274223,
          184.7341322916613,
          184.32751036058036,
          92.92088842949943,
          92.5142664984185,
          92.10764456733756,
          91.70102263625662,
          91.29440070517569,
          90.88777877409476,
          90.48115684301382,
          86.07453491193289,
          89.66791298085195,
          93.26129104977102,
          97.85466911869008,
          101.44804718760912,
          105.04142525652819,
          108.63480332544725,
          113.22818139436632,
          -1.1784405367146178,
          2.4149375322044477,
          124.00831560112351,
          128.60169367004258,
          132.19507173896164,
          135.7884498078807,
          140.38182787679978,
          143.97520594571884,
          147.5685840146379,
          151.16196208355697,
          155.75534015247604,
          159.3487182213951,
          162.94209629031417,
          166.5354743592332,
          171.12885242815227,
          174.72223049707134,
          178.3156085659904,
          181.90898663490947,
          186.50236470382853,
          190.0957427727476,
          193.68912084166666,
          198.28249891058573,
          201.8758769795048,
          205.46925504842386,
          209.06263311734293,
          213.656011186262,
          217.24938925518106,
          220.84276732410012,
          224.43614539301916,
          229.02952346193825,
          232.6229015308573,
          236.21627959977639,
          239.80965766869542,
          244.4030357376145,
          247.99641380653355,
          251.58979187545262,
          256.1831699443717,
          259.7765480132907,
          263.3699260822098,
          266.9633041511289,
          271.55668222004795,
          275.150060288967,
          278.7434383578861,
          282.33681642680517,
          286.9301944957242
         ]
        }
       ],
       "layout": {
        "legend": {
         "title": {
          "text": "Legend"
         }
        },
        "shapes": [
         {
          "fillcolor": "White",
          "layer": "below",
          "line": {
           "width": 0
          },
          "opacity": 0.3,
          "type": "rect",
          "x0": "2020-08-01T00:00:00",
          "x1": "2024-12-01T00:00:00",
          "xref": "x",
          "y0": 0,
          "y1": 1,
          "yref": "paper"
         },
         {
          "fillcolor": "LightSalmon",
          "layer": "below",
          "line": {
           "width": 0
          },
          "opacity": 0.3,
          "type": "rect",
          "x0": "2020-01-01T00:00:00",
          "x1": "2020-07-01T00:00:00",
          "xref": "x",
          "y0": 0,
          "y1": 1,
          "yref": "paper"
         },
         {
          "fillcolor": "LightSalmon",
          "layer": "below",
          "line": {
           "width": 0
          },
          "opacity": 0.3,
          "type": "rect",
          "x0": "2021-04-01T00:00:00",
          "x1": "2021-05-01T00:00:00",
          "xref": "x",
          "y0": 0,
          "y1": 1,
          "yref": "paper"
         },
         {
          "fillcolor": "Grey",
          "layer": "below",
          "line": {
           "width": 0
          },
          "opacity": 0.3,
          "type": "rect",
          "x0": "2020-08-01T00:00:00",
          "x1": "2024-12-01T00:00:00",
          "xref": "x",
          "y0": 0,
          "y1": 1,
          "yref": "paper"
         }
        ],
        "template": {
         "data": {
          "bar": [
           {
            "error_x": {
             "color": "#2a3f5f"
            },
            "error_y": {
             "color": "#2a3f5f"
            },
            "marker": {
             "line": {
              "color": "#E5ECF6",
              "width": 0.5
             },
             "pattern": {
              "fillmode": "overlay",
              "size": 10,
              "solidity": 0.2
             }
            },
            "type": "bar"
           }
          ],
          "barpolar": [
           {
            "marker": {
             "line": {
              "color": "#E5ECF6",
              "width": 0.5
             },
             "pattern": {
              "fillmode": "overlay",
              "size": 10,
              "solidity": 0.2
             }
            },
            "type": "barpolar"
           }
          ],
          "carpet": [
           {
            "aaxis": {
             "endlinecolor": "#2a3f5f",
             "gridcolor": "white",
             "linecolor": "white",
             "minorgridcolor": "white",
             "startlinecolor": "#2a3f5f"
            },
            "baxis": {
             "endlinecolor": "#2a3f5f",
             "gridcolor": "white",
             "linecolor": "white",
             "minorgridcolor": "white",
             "startlinecolor": "#2a3f5f"
            },
            "type": "carpet"
           }
          ],
          "choropleth": [
           {
            "colorbar": {
             "outlinewidth": 0,
             "ticks": ""
            },
            "type": "choropleth"
           }
          ],
          "contour": [
           {
            "colorbar": {
             "outlinewidth": 0,
             "ticks": ""
            },
            "colorscale": [
             [
              0,
              "#0d0887"
             ],
             [
              0.1111111111111111,
              "#46039f"
             ],
             [
              0.2222222222222222,
              "#7201a8"
             ],
             [
              0.3333333333333333,
              "#9c179e"
             ],
             [
              0.4444444444444444,
              "#bd3786"
             ],
             [
              0.5555555555555556,
              "#d8576b"
             ],
             [
              0.6666666666666666,
              "#ed7953"
             ],
             [
              0.7777777777777778,
              "#fb9f3a"
             ],
             [
              0.8888888888888888,
              "#fdca26"
             ],
             [
              1,
              "#f0f921"
             ]
            ],
            "type": "contour"
           }
          ],
          "contourcarpet": [
           {
            "colorbar": {
             "outlinewidth": 0,
             "ticks": ""
            },
            "type": "contourcarpet"
           }
          ],
          "heatmap": [
           {
            "colorbar": {
             "outlinewidth": 0,
             "ticks": ""
            },
            "colorscale": [
             [
              0,
              "#0d0887"
             ],
             [
              0.1111111111111111,
              "#46039f"
             ],
             [
              0.2222222222222222,
              "#7201a8"
             ],
             [
              0.3333333333333333,
              "#9c179e"
             ],
             [
              0.4444444444444444,
              "#bd3786"
             ],
             [
              0.5555555555555556,
              "#d8576b"
             ],
             [
              0.6666666666666666,
              "#ed7953"
             ],
             [
              0.7777777777777778,
              "#fb9f3a"
             ],
             [
              0.8888888888888888,
              "#fdca26"
             ],
             [
              1,
              "#f0f921"
             ]
            ],
            "type": "heatmap"
           }
          ],
          "heatmapgl": [
           {
            "colorbar": {
             "outlinewidth": 0,
             "ticks": ""
            },
            "colorscale": [
             [
              0,
              "#0d0887"
             ],
             [
              0.1111111111111111,
              "#46039f"
             ],
             [
              0.2222222222222222,
              "#7201a8"
             ],
             [
              0.3333333333333333,
              "#9c179e"
             ],
             [
              0.4444444444444444,
              "#bd3786"
             ],
             [
              0.5555555555555556,
              "#d8576b"
             ],
             [
              0.6666666666666666,
              "#ed7953"
             ],
             [
              0.7777777777777778,
              "#fb9f3a"
             ],
             [
              0.8888888888888888,
              "#fdca26"
             ],
             [
              1,
              "#f0f921"
             ]
            ],
            "type": "heatmapgl"
           }
          ],
          "histogram": [
           {
            "marker": {
             "pattern": {
              "fillmode": "overlay",
              "size": 10,
              "solidity": 0.2
             }
            },
            "type": "histogram"
           }
          ],
          "histogram2d": [
           {
            "colorbar": {
             "outlinewidth": 0,
             "ticks": ""
            },
            "colorscale": [
             [
              0,
              "#0d0887"
             ],
             [
              0.1111111111111111,
              "#46039f"
             ],
             [
              0.2222222222222222,
              "#7201a8"
             ],
             [
              0.3333333333333333,
              "#9c179e"
             ],
             [
              0.4444444444444444,
              "#bd3786"
             ],
             [
              0.5555555555555556,
              "#d8576b"
             ],
             [
              0.6666666666666666,
              "#ed7953"
             ],
             [
              0.7777777777777778,
              "#fb9f3a"
             ],
             [
              0.8888888888888888,
              "#fdca26"
             ],
             [
              1,
              "#f0f921"
             ]
            ],
            "type": "histogram2d"
           }
          ],
          "histogram2dcontour": [
           {
            "colorbar": {
             "outlinewidth": 0,
             "ticks": ""
            },
            "colorscale": [
             [
              0,
              "#0d0887"
             ],
             [
              0.1111111111111111,
              "#46039f"
             ],
             [
              0.2222222222222222,
              "#7201a8"
             ],
             [
              0.3333333333333333,
              "#9c179e"
             ],
             [
              0.4444444444444444,
              "#bd3786"
             ],
             [
              0.5555555555555556,
              "#d8576b"
             ],
             [
              0.6666666666666666,
              "#ed7953"
             ],
             [
              0.7777777777777778,
              "#fb9f3a"
             ],
             [
              0.8888888888888888,
              "#fdca26"
             ],
             [
              1,
              "#f0f921"
             ]
            ],
            "type": "histogram2dcontour"
           }
          ],
          "mesh3d": [
           {
            "colorbar": {
             "outlinewidth": 0,
             "ticks": ""
            },
            "type": "mesh3d"
           }
          ],
          "parcoords": [
           {
            "line": {
             "colorbar": {
              "outlinewidth": 0,
              "ticks": ""
             }
            },
            "type": "parcoords"
           }
          ],
          "pie": [
           {
            "automargin": true,
            "type": "pie"
           }
          ],
          "scatter": [
           {
            "fillpattern": {
             "fillmode": "overlay",
             "size": 10,
             "solidity": 0.2
            },
            "type": "scatter"
           }
          ],
          "scatter3d": [
           {
            "line": {
             "colorbar": {
              "outlinewidth": 0,
              "ticks": ""
             }
            },
            "marker": {
             "colorbar": {
              "outlinewidth": 0,
              "ticks": ""
             }
            },
            "type": "scatter3d"
           }
          ],
          "scattercarpet": [
           {
            "marker": {
             "colorbar": {
              "outlinewidth": 0,
              "ticks": ""
             }
            },
            "type": "scattercarpet"
           }
          ],
          "scattergeo": [
           {
            "marker": {
             "colorbar": {
              "outlinewidth": 0,
              "ticks": ""
             }
            },
            "type": "scattergeo"
           }
          ],
          "scattergl": [
           {
            "marker": {
             "colorbar": {
              "outlinewidth": 0,
              "ticks": ""
             }
            },
            "type": "scattergl"
           }
          ],
          "scattermapbox": [
           {
            "marker": {
             "colorbar": {
              "outlinewidth": 0,
              "ticks": ""
             }
            },
            "type": "scattermapbox"
           }
          ],
          "scatterpolar": [
           {
            "marker": {
             "colorbar": {
              "outlinewidth": 0,
              "ticks": ""
             }
            },
            "type": "scatterpolar"
           }
          ],
          "scatterpolargl": [
           {
            "marker": {
             "colorbar": {
              "outlinewidth": 0,
              "ticks": ""
             }
            },
            "type": "scatterpolargl"
           }
          ],
          "scatterternary": [
           {
            "marker": {
             "colorbar": {
              "outlinewidth": 0,
              "ticks": ""
             }
            },
            "type": "scatterternary"
           }
          ],
          "surface": [
           {
            "colorbar": {
             "outlinewidth": 0,
             "ticks": ""
            },
            "colorscale": [
             [
              0,
              "#0d0887"
             ],
             [
              0.1111111111111111,
              "#46039f"
             ],
             [
              0.2222222222222222,
              "#7201a8"
             ],
             [
              0.3333333333333333,
              "#9c179e"
             ],
             [
              0.4444444444444444,
              "#bd3786"
             ],
             [
              0.5555555555555556,
              "#d8576b"
             ],
             [
              0.6666666666666666,
              "#ed7953"
             ],
             [
              0.7777777777777778,
              "#fb9f3a"
             ],
             [
              0.8888888888888888,
              "#fdca26"
             ],
             [
              1,
              "#f0f921"
             ]
            ],
            "type": "surface"
           }
          ],
          "table": [
           {
            "cells": {
             "fill": {
              "color": "#EBF0F8"
             },
             "line": {
              "color": "white"
             }
            },
            "header": {
             "fill": {
              "color": "#C8D4E3"
             },
             "line": {
              "color": "white"
             }
            },
            "type": "table"
           }
          ]
         },
         "layout": {
          "annotationdefaults": {
           "arrowcolor": "#2a3f5f",
           "arrowhead": 0,
           "arrowwidth": 1
          },
          "autotypenumbers": "strict",
          "coloraxis": {
           "colorbar": {
            "outlinewidth": 0,
            "ticks": ""
           }
          },
          "colorscale": {
           "diverging": [
            [
             0,
             "#8e0152"
            ],
            [
             0.1,
             "#c51b7d"
            ],
            [
             0.2,
             "#de77ae"
            ],
            [
             0.3,
             "#f1b6da"
            ],
            [
             0.4,
             "#fde0ef"
            ],
            [
             0.5,
             "#f7f7f7"
            ],
            [
             0.6,
             "#e6f5d0"
            ],
            [
             0.7,
             "#b8e186"
            ],
            [
             0.8,
             "#7fbc41"
            ],
            [
             0.9,
             "#4d9221"
            ],
            [
             1,
             "#276419"
            ]
           ],
           "sequential": [
            [
             0,
             "#0d0887"
            ],
            [
             0.1111111111111111,
             "#46039f"
            ],
            [
             0.2222222222222222,
             "#7201a8"
            ],
            [
             0.3333333333333333,
             "#9c179e"
            ],
            [
             0.4444444444444444,
             "#bd3786"
            ],
            [
             0.5555555555555556,
             "#d8576b"
            ],
            [
             0.6666666666666666,
             "#ed7953"
            ],
            [
             0.7777777777777778,
             "#fb9f3a"
            ],
            [
             0.8888888888888888,
             "#fdca26"
            ],
            [
             1,
             "#f0f921"
            ]
           ],
           "sequentialminus": [
            [
             0,
             "#0d0887"
            ],
            [
             0.1111111111111111,
             "#46039f"
            ],
            [
             0.2222222222222222,
             "#7201a8"
            ],
            [
             0.3333333333333333,
             "#9c179e"
            ],
            [
             0.4444444444444444,
             "#bd3786"
            ],
            [
             0.5555555555555556,
             "#d8576b"
            ],
            [
             0.6666666666666666,
             "#ed7953"
            ],
            [
             0.7777777777777778,
             "#fb9f3a"
            ],
            [
             0.8888888888888888,
             "#fdca26"
            ],
            [
             1,
             "#f0f921"
            ]
           ]
          },
          "colorway": [
           "#636efa",
           "#EF553B",
           "#00cc96",
           "#ab63fa",
           "#FFA15A",
           "#19d3f3",
           "#FF6692",
           "#B6E880",
           "#FF97FF",
           "#FECB52"
          ],
          "font": {
           "color": "#2a3f5f"
          },
          "geo": {
           "bgcolor": "white",
           "lakecolor": "white",
           "landcolor": "#E5ECF6",
           "showlakes": true,
           "showland": true,
           "subunitcolor": "white"
          },
          "hoverlabel": {
           "align": "left"
          },
          "hovermode": "closest",
          "mapbox": {
           "style": "light"
          },
          "paper_bgcolor": "white",
          "plot_bgcolor": "#E5ECF6",
          "polar": {
           "angularaxis": {
            "gridcolor": "white",
            "linecolor": "white",
            "ticks": ""
           },
           "bgcolor": "#E5ECF6",
           "radialaxis": {
            "gridcolor": "white",
            "linecolor": "white",
            "ticks": ""
           }
          },
          "scene": {
           "xaxis": {
            "backgroundcolor": "#E5ECF6",
            "gridcolor": "white",
            "gridwidth": 2,
            "linecolor": "white",
            "showbackground": true,
            "ticks": "",
            "zerolinecolor": "white"
           },
           "yaxis": {
            "backgroundcolor": "#E5ECF6",
            "gridcolor": "white",
            "gridwidth": 2,
            "linecolor": "white",
            "showbackground": true,
            "ticks": "",
            "zerolinecolor": "white"
           },
           "zaxis": {
            "backgroundcolor": "#E5ECF6",
            "gridcolor": "white",
            "gridwidth": 2,
            "linecolor": "white",
            "showbackground": true,
            "ticks": "",
            "zerolinecolor": "white"
           }
          },
          "shapedefaults": {
           "line": {
            "color": "#2a3f5f"
           }
          },
          "ternary": {
           "aaxis": {
            "gridcolor": "white",
            "linecolor": "white",
            "ticks": ""
           },
           "baxis": {
            "gridcolor": "white",
            "linecolor": "white",
            "ticks": ""
           },
           "bgcolor": "#E5ECF6",
           "caxis": {
            "gridcolor": "white",
            "linecolor": "white",
            "ticks": ""
           }
          },
          "title": {
           "x": 0.05
          },
          "xaxis": {
           "automargin": true,
           "gridcolor": "white",
           "linecolor": "white",
           "ticks": "",
           "title": {
            "standoff": 15
           },
           "zerolinecolor": "white",
           "zerolinewidth": 2
          },
          "yaxis": {
           "automargin": true,
           "gridcolor": "white",
           "linecolor": "white",
           "ticks": "",
           "title": {
            "standoff": 15
           },
           "zerolinecolor": "white",
           "zerolinewidth": 2
          }
         }
        },
        "title": {
         "text": "F70-F79 - Retardo mental"
        },
        "xaxis": {
         "title": {
          "text": "Time"
         }
        },
        "yaxis": {
         "title": {
          "text": "Value"
         }
        }
       }
      }
     },
     "metadata": {},
     "output_type": "display_data"
    },
    {
     "name": "stdout",
     "output_type": "stream",
     "text": [
      "Processing variable: F80-F89 - Transtornos do desenvolvimento psicológico\n"
     ]
    },
    {
     "data": {
      "application/vnd.plotly.v1+json": {
       "config": {
        "plotlyServerURL": "https://plot.ly"
       },
       "data": [
        {
         "marker": {
          "color": "blue"
         },
         "mode": "markers",
         "name": "Real",
         "type": "scatter",
         "x": [
          "2016-01-01T00:00:00",
          "2016-02-01T00:00:00",
          "2016-03-01T00:00:00",
          "2016-04-01T00:00:00",
          "2016-05-01T00:00:00",
          "2016-06-01T00:00:00",
          "2016-07-01T00:00:00",
          "2016-08-01T00:00:00",
          "2016-09-01T00:00:00",
          "2016-10-01T00:00:00",
          "2016-11-01T00:00:00",
          "2016-12-01T00:00:00",
          "2017-01-01T00:00:00",
          "2017-02-01T00:00:00",
          "2017-03-01T00:00:00",
          "2017-04-01T00:00:00",
          "2017-05-01T00:00:00",
          "2017-06-01T00:00:00",
          "2017-07-01T00:00:00",
          "2017-08-01T00:00:00",
          "2017-09-01T00:00:00",
          "2017-10-01T00:00:00",
          "2017-11-01T00:00:00",
          "2017-12-01T00:00:00",
          "2018-01-01T00:00:00",
          "2018-02-01T00:00:00",
          "2018-03-01T00:00:00",
          "2018-04-01T00:00:00",
          "2018-05-01T00:00:00",
          "2018-06-01T00:00:00",
          "2018-07-01T00:00:00",
          "2018-08-01T00:00:00",
          "2018-09-01T00:00:00",
          "2018-10-01T00:00:00",
          "2018-11-01T00:00:00",
          "2018-12-01T00:00:00",
          "2019-01-01T00:00:00",
          "2019-02-01T00:00:00",
          "2019-03-01T00:00:00",
          "2019-04-01T00:00:00",
          "2019-05-01T00:00:00",
          "2019-06-01T00:00:00",
          "2019-07-01T00:00:00",
          "2019-08-01T00:00:00",
          "2019-09-01T00:00:00",
          "2019-10-01T00:00:00",
          "2019-11-01T00:00:00",
          "2019-12-01T00:00:00",
          "2020-01-01T00:00:00",
          "2020-02-01T00:00:00",
          "2020-03-01T00:00:00",
          "2020-04-01T00:00:00",
          "2020-05-01T00:00:00",
          "2020-06-01T00:00:00",
          "2020-07-01T00:00:00",
          "2020-08-01T00:00:00",
          "2020-09-01T00:00:00",
          "2020-10-01T00:00:00",
          "2020-11-01T00:00:00",
          "2020-12-01T00:00:00",
          "2021-01-01T00:00:00",
          "2021-02-01T00:00:00",
          "2021-03-01T00:00:00",
          "2021-04-01T00:00:00",
          "2021-05-01T00:00:00",
          "2021-06-01T00:00:00",
          "2021-07-01T00:00:00",
          "2021-08-01T00:00:00",
          "2021-09-01T00:00:00",
          "2021-10-01T00:00:00",
          "2021-11-01T00:00:00",
          "2021-12-01T00:00:00",
          "2022-01-01T00:00:00",
          "2022-02-01T00:00:00",
          "2022-03-01T00:00:00",
          "2022-04-01T00:00:00",
          "2022-05-01T00:00:00",
          "2022-06-01T00:00:00",
          "2022-07-01T00:00:00",
          "2022-08-01T00:00:00",
          "2022-09-01T00:00:00",
          "2022-10-01T00:00:00",
          "2022-11-01T00:00:00",
          "2022-12-01T00:00:00",
          "2023-01-01T00:00:00",
          "2023-02-01T00:00:00",
          "2023-03-01T00:00:00",
          "2023-04-01T00:00:00",
          "2023-05-01T00:00:00",
          "2023-06-01T00:00:00",
          "2023-07-01T00:00:00",
          "2023-08-01T00:00:00",
          "2023-09-01T00:00:00",
          "2023-10-01T00:00:00",
          "2023-11-01T00:00:00",
          "2023-12-01T00:00:00",
          "2024-01-01T00:00:00",
          "2024-02-01T00:00:00",
          "2024-03-01T00:00:00",
          "2024-04-01T00:00:00",
          "2024-05-01T00:00:00",
          "2024-06-01T00:00:00",
          "2024-07-01T00:00:00",
          "2024-08-01T00:00:00",
          "2024-09-01T00:00:00",
          "2024-10-01T00:00:00",
          "2024-11-01T00:00:00",
          "2024-12-01T00:00:00"
         ],
         "y": [
          58,
          64,
          80,
          86,
          115,
          148,
          146,
          197,
          172,
          189,
          118,
          106,
          101,
          94,
          159,
          138,
          169,
          169,
          158,
          171,
          184,
          153,
          187,
          173,
          158,
          128,
          204,
          245,
          235,
          162,
          210,
          240,
          208,
          253,
          263,
          179,
          170,
          158,
          225,
          259,
          322,
          264,
          305,
          276,
          224,
          223,
          204,
          171,
          184,
          127,
          135,
          56,
          96,
          91,
          105,
          113,
          160,
          205,
          198,
          170,
          218,
          245,
          170,
          162,
          72,
          293,
          378,
          366,
          381,
          397,
          385,
          389,
          200,
          314,
          475,
          344,
          401,
          459,
          406,
          508,
          497,
          481,
          453,
          446,
          509,
          400,
          609,
          566,
          882,
          719,
          750,
          914,
          683,
          946,
          880,
          822,
          855,
          801,
          955,
          1162,
          590,
          871,
          1105,
          1124,
          967,
          1308,
          1093,
          965
         ]
        },
        {
         "line": {
          "color": "black",
          "dash": "dot"
         },
         "mode": "lines",
         "name": "Baseline",
         "type": "scatter",
         "x": [
          "2016-01-01T00:00:00",
          "2016-02-01T00:00:00",
          "2016-03-01T00:00:00",
          "2016-04-01T00:00:00",
          "2016-05-01T00:00:00",
          "2016-06-01T00:00:00",
          "2016-07-01T00:00:00",
          "2016-08-01T00:00:00",
          "2016-09-01T00:00:00",
          "2016-10-01T00:00:00",
          "2016-11-01T00:00:00",
          "2016-12-01T00:00:00",
          "2017-01-01T00:00:00",
          "2017-02-01T00:00:00",
          "2017-03-01T00:00:00",
          "2017-04-01T00:00:00",
          "2017-05-01T00:00:00",
          "2017-06-01T00:00:00",
          "2017-07-01T00:00:00",
          "2017-08-01T00:00:00",
          "2017-09-01T00:00:00",
          "2017-10-01T00:00:00",
          "2017-11-01T00:00:00",
          "2017-12-01T00:00:00",
          "2018-01-01T00:00:00",
          "2018-02-01T00:00:00",
          "2018-03-01T00:00:00",
          "2018-04-01T00:00:00",
          "2018-05-01T00:00:00",
          "2018-06-01T00:00:00",
          "2018-07-01T00:00:00",
          "2018-08-01T00:00:00",
          "2018-09-01T00:00:00",
          "2018-10-01T00:00:00",
          "2018-11-01T00:00:00",
          "2018-12-01T00:00:00",
          "2019-01-01T00:00:00",
          "2019-02-01T00:00:00",
          "2019-03-01T00:00:00",
          "2019-04-01T00:00:00",
          "2019-05-01T00:00:00",
          "2019-06-01T00:00:00",
          "2019-07-01T00:00:00",
          "2019-08-01T00:00:00",
          "2019-09-01T00:00:00",
          "2019-10-01T00:00:00",
          "2019-11-01T00:00:00",
          "2019-12-01T00:00:00",
          "2020-01-01T00:00:00",
          "2020-02-01T00:00:00",
          "2020-03-01T00:00:00",
          "2020-04-01T00:00:00",
          "2020-05-01T00:00:00",
          "2020-06-01T00:00:00",
          "2020-07-01T00:00:00",
          "2020-08-01T00:00:00",
          "2020-09-01T00:00:00",
          "2020-10-01T00:00:00",
          "2020-11-01T00:00:00",
          "2020-12-01T00:00:00",
          "2021-01-01T00:00:00",
          "2021-02-01T00:00:00",
          "2021-03-01T00:00:00",
          "2021-04-01T00:00:00",
          "2021-05-01T00:00:00",
          "2021-06-01T00:00:00",
          "2021-07-01T00:00:00",
          "2021-08-01T00:00:00",
          "2021-09-01T00:00:00",
          "2021-10-01T00:00:00",
          "2021-11-01T00:00:00",
          "2021-12-01T00:00:00",
          "2022-01-01T00:00:00",
          "2022-02-01T00:00:00",
          "2022-03-01T00:00:00",
          "2022-04-01T00:00:00",
          "2022-05-01T00:00:00",
          "2022-06-01T00:00:00",
          "2022-07-01T00:00:00",
          "2022-08-01T00:00:00",
          "2022-09-01T00:00:00",
          "2022-10-01T00:00:00",
          "2022-11-01T00:00:00",
          "2022-12-01T00:00:00",
          "2023-01-01T00:00:00",
          "2023-02-01T00:00:00",
          "2023-03-01T00:00:00",
          "2023-04-01T00:00:00",
          "2023-05-01T00:00:00",
          "2023-06-01T00:00:00",
          "2023-07-01T00:00:00",
          "2023-08-01T00:00:00",
          "2023-09-01T00:00:00",
          "2023-10-01T00:00:00",
          "2023-11-01T00:00:00",
          "2023-12-01T00:00:00",
          "2024-01-01T00:00:00",
          "2024-02-01T00:00:00",
          "2024-03-01T00:00:00",
          "2024-04-01T00:00:00",
          "2024-05-01T00:00:00",
          "2024-06-01T00:00:00",
          "2024-07-01T00:00:00",
          "2024-08-01T00:00:00",
          "2024-09-01T00:00:00",
          "2024-10-01T00:00:00",
          "2024-11-01T00:00:00",
          "2024-12-01T00:00:00"
         ],
         "y": [
          45.93148603184761,
          49.14799830383881,
          52.36451057583001,
          55.5810228478212,
          58.7975351198124,
          62.0140473918036,
          65.23055966379479,
          68.447071935786,
          71.66358420777719,
          74.88009647976838,
          78.09660875175959,
          81.3131210237508,
          84.52963329574199,
          87.74614556773318,
          90.96265783972439,
          94.17917011171558,
          97.39568238370677,
          100.61219465569798,
          103.82870692768917,
          107.04521919968036,
          110.26173147167157,
          113.47824374366277,
          116.69475601565395,
          119.91126828764516,
          123.12778055963636,
          126.34429283162757,
          129.56080510361875,
          132.77731737560995,
          135.99382964760116,
          139.21034191959234,
          142.42685419158354,
          145.64336646357475,
          148.85987873556593,
          152.07639100755713,
          155.29290327954834,
          158.50941555153955,
          161.72592782353072,
          164.94244009552193,
          168.15895236751314,
          171.37546463950432,
          174.59197691149552,
          177.80848918348673,
          181.0250014554779,
          184.2415137274691,
          187.45802599946032,
          190.6745382714515,
          193.8910505434427,
          197.1075628154339,
          200.3240750874251,
          203.5405873594163,
          206.7570996314075,
          209.9736119033987,
          213.19012417538988,
          216.4066364473811,
          219.6231487193723,
          222.83966099136347,
          226.05617326335468,
          229.2726855353459,
          232.48919780733706,
          235.70571007932827,
          238.92222235131948,
          242.13873462331068,
          245.35524689530186,
          248.57175916729307,
          251.78827143928427,
          255.00478371127545,
          258.22129598326666,
          261.4378082552579,
          264.65432052724907,
          267.87083279924025,
          271.0873450712315,
          274.30385734322266,
          277.52036961521384,
          280.7368818872051,
          283.95339415919625,
          287.1699064311874,
          290.38641870317866,
          293.60293097516984,
          296.8194432471611,
          300.03595551915225,
          303.25246779114343,
          306.46898006313467,
          309.68549233512584,
          312.9020046071171,
          316.11851687910826,
          319.33502915109943,
          322.55154142309067,
          325.76805369508185,
          328.984565967073,
          332.20107823906426,
          335.41759051105544,
          338.6341027830466,
          341.85061505503785,
          345.067127327029,
          348.2836395990202,
          351.50015187101144,
          354.7166641430026,
          357.9331764149938,
          361.14968868698503,
          364.3662009589762,
          367.58271323096744,
          370.7992255029586,
          374.0157377749498,
          377.23225004694103,
          380.4487623189322,
          383.6652745909234,
          386.8817868629146,
          390.0982991349058
         ]
        },
        {
         "line": {
          "dash": "solid"
         },
         "mode": "lines",
         "name": "Trend_PosPandemia Effect",
         "type": "scatter",
         "x": [
          "2016-01-01T00:00:00",
          "2016-02-01T00:00:00",
          "2016-03-01T00:00:00",
          "2016-04-01T00:00:00",
          "2016-05-01T00:00:00",
          "2016-06-01T00:00:00",
          "2016-07-01T00:00:00",
          "2016-08-01T00:00:00",
          "2016-09-01T00:00:00",
          "2016-10-01T00:00:00",
          "2016-11-01T00:00:00",
          "2016-12-01T00:00:00",
          "2017-01-01T00:00:00",
          "2017-02-01T00:00:00",
          "2017-03-01T00:00:00",
          "2017-04-01T00:00:00",
          "2017-05-01T00:00:00",
          "2017-06-01T00:00:00",
          "2017-07-01T00:00:00",
          "2017-08-01T00:00:00",
          "2017-09-01T00:00:00",
          "2017-10-01T00:00:00",
          "2017-11-01T00:00:00",
          "2017-12-01T00:00:00",
          "2018-01-01T00:00:00",
          "2018-02-01T00:00:00",
          "2018-03-01T00:00:00",
          "2018-04-01T00:00:00",
          "2018-05-01T00:00:00",
          "2018-06-01T00:00:00",
          "2018-07-01T00:00:00",
          "2018-08-01T00:00:00",
          "2018-09-01T00:00:00",
          "2018-10-01T00:00:00",
          "2018-11-01T00:00:00",
          "2018-12-01T00:00:00",
          "2019-01-01T00:00:00",
          "2019-02-01T00:00:00",
          "2019-03-01T00:00:00",
          "2019-04-01T00:00:00",
          "2019-05-01T00:00:00",
          "2019-06-01T00:00:00",
          "2019-07-01T00:00:00",
          "2019-08-01T00:00:00",
          "2019-09-01T00:00:00",
          "2019-10-01T00:00:00",
          "2019-11-01T00:00:00",
          "2019-12-01T00:00:00",
          "2020-01-01T00:00:00",
          "2020-02-01T00:00:00",
          "2020-03-01T00:00:00",
          "2020-04-01T00:00:00",
          "2020-05-01T00:00:00",
          "2020-06-01T00:00:00",
          "2020-07-01T00:00:00",
          "2020-08-01T00:00:00",
          "2020-09-01T00:00:00",
          "2020-10-01T00:00:00",
          "2020-11-01T00:00:00",
          "2020-12-01T00:00:00",
          "2021-01-01T00:00:00",
          "2021-02-01T00:00:00",
          "2021-03-01T00:00:00",
          "2021-04-01T00:00:00",
          "2021-05-01T00:00:00",
          "2021-06-01T00:00:00",
          "2021-07-01T00:00:00",
          "2021-08-01T00:00:00",
          "2021-09-01T00:00:00",
          "2021-10-01T00:00:00",
          "2021-11-01T00:00:00",
          "2021-12-01T00:00:00",
          "2022-01-01T00:00:00",
          "2022-02-01T00:00:00",
          "2022-03-01T00:00:00",
          "2022-04-01T00:00:00",
          "2022-05-01T00:00:00",
          "2022-06-01T00:00:00",
          "2022-07-01T00:00:00",
          "2022-08-01T00:00:00",
          "2022-09-01T00:00:00",
          "2022-10-01T00:00:00",
          "2022-11-01T00:00:00",
          "2022-12-01T00:00:00",
          "2023-01-01T00:00:00",
          "2023-02-01T00:00:00",
          "2023-03-01T00:00:00",
          "2023-04-01T00:00:00",
          "2023-05-01T00:00:00",
          "2023-06-01T00:00:00",
          "2023-07-01T00:00:00",
          "2023-08-01T00:00:00",
          "2023-09-01T00:00:00",
          "2023-10-01T00:00:00",
          "2023-11-01T00:00:00",
          "2023-12-01T00:00:00",
          "2024-01-01T00:00:00",
          "2024-02-01T00:00:00",
          "2024-03-01T00:00:00",
          "2024-04-01T00:00:00",
          "2024-05-01T00:00:00",
          "2024-06-01T00:00:00",
          "2024-07-01T00:00:00",
          "2024-08-01T00:00:00",
          "2024-09-01T00:00:00",
          "2024-10-01T00:00:00",
          "2024-11-01T00:00:00",
          "2024-12-01T00:00:00"
         ],
         "y": [
          45.93148603184761,
          49.14799830383881,
          52.36451057583001,
          55.5810228478212,
          58.7975351198124,
          62.0140473918036,
          65.23055966379479,
          68.447071935786,
          71.66358420777719,
          74.88009647976838,
          78.09660875175959,
          81.3131210237508,
          84.52963329574199,
          87.74614556773318,
          90.96265783972439,
          94.17917011171558,
          97.39568238370677,
          100.61219465569798,
          103.82870692768917,
          107.04521919968036,
          110.26173147167157,
          113.47824374366277,
          116.69475601565395,
          119.91126828764516,
          123.12778055963636,
          126.34429283162757,
          129.56080510361875,
          132.77731737560995,
          135.99382964760116,
          139.21034191959234,
          142.42685419158354,
          145.64336646357475,
          148.85987873556593,
          152.07639100755713,
          155.29290327954834,
          158.50941555153955,
          161.72592782353072,
          164.94244009552193,
          168.15895236751314,
          171.37546463950432,
          174.59197691149552,
          177.80848918348673,
          181.0250014554779,
          184.2415137274691,
          187.45802599946032,
          190.6745382714515,
          193.8910505434427,
          197.1075628154339,
          53.324075087425086,
          56.54058735941629,
          59.7570996314075,
          62.973611903398705,
          66.19012417538988,
          69.40663644738109,
          72.6231487193723,
          34.83966099136347,
          53.05617326335468,
          71.27268553534589,
          89.48919780733706,
          107.70571007932827,
          125.92222235131948,
          144.13873462331068,
          162.35524689530186,
          53.57175916729307,
          71.78827143928427,
          217.00478371127545,
          235.22129598326666,
          253.4378082552579,
          272.65432052724907,
          290.87083279924025,
          309.0873450712315,
          327.30385734322266,
          345.52036961521384,
          363.7368818872051,
          381.95339415919625,
          400.1699064311874,
          418.38641870317866,
          436.60293097516984,
          454.8194432471611,
          473.03595551915225,
          491.25246779114343,
          510.46898006313467,
          528.6854923351259,
          546.9020046071171,
          565.1185168791083,
          583.3350291510994,
          601.5515414230906,
          619.7680536950818,
          637.984565967073,
          656.2010782390643,
          674.4175905110554,
          692.6341027830466,
          710.8506150550379,
          729.0671273270291,
          747.2836395990203,
          766.5001518710114,
          784.7166641430026,
          802.9331764149938,
          821.149688686985,
          839.3662009589762,
          857.5827132309674,
          875.7992255029586,
          894.0157377749498,
          912.2322500469411,
          930.4487623189323,
          948.6652745909234,
          966.8817868629146,
          985.0982991349058
         ]
        }
       ],
       "layout": {
        "legend": {
         "title": {
          "text": "Legend"
         }
        },
        "shapes": [
         {
          "fillcolor": "White",
          "layer": "below",
          "line": {
           "width": 0
          },
          "opacity": 0.3,
          "type": "rect",
          "x0": "2020-08-01T00:00:00",
          "x1": "2024-12-01T00:00:00",
          "xref": "x",
          "y0": 0,
          "y1": 1,
          "yref": "paper"
         },
         {
          "fillcolor": "LightSalmon",
          "layer": "below",
          "line": {
           "width": 0
          },
          "opacity": 0.3,
          "type": "rect",
          "x0": "2020-01-01T00:00:00",
          "x1": "2020-07-01T00:00:00",
          "xref": "x",
          "y0": 0,
          "y1": 1,
          "yref": "paper"
         },
         {
          "fillcolor": "LightSalmon",
          "layer": "below",
          "line": {
           "width": 0
          },
          "opacity": 0.3,
          "type": "rect",
          "x0": "2021-04-01T00:00:00",
          "x1": "2021-05-01T00:00:00",
          "xref": "x",
          "y0": 0,
          "y1": 1,
          "yref": "paper"
         },
         {
          "fillcolor": "Grey",
          "layer": "below",
          "line": {
           "width": 0
          },
          "opacity": 0.3,
          "type": "rect",
          "x0": "2020-08-01T00:00:00",
          "x1": "2024-12-01T00:00:00",
          "xref": "x",
          "y0": 0,
          "y1": 1,
          "yref": "paper"
         }
        ],
        "template": {
         "data": {
          "bar": [
           {
            "error_x": {
             "color": "#2a3f5f"
            },
            "error_y": {
             "color": "#2a3f5f"
            },
            "marker": {
             "line": {
              "color": "#E5ECF6",
              "width": 0.5
             },
             "pattern": {
              "fillmode": "overlay",
              "size": 10,
              "solidity": 0.2
             }
            },
            "type": "bar"
           }
          ],
          "barpolar": [
           {
            "marker": {
             "line": {
              "color": "#E5ECF6",
              "width": 0.5
             },
             "pattern": {
              "fillmode": "overlay",
              "size": 10,
              "solidity": 0.2
             }
            },
            "type": "barpolar"
           }
          ],
          "carpet": [
           {
            "aaxis": {
             "endlinecolor": "#2a3f5f",
             "gridcolor": "white",
             "linecolor": "white",
             "minorgridcolor": "white",
             "startlinecolor": "#2a3f5f"
            },
            "baxis": {
             "endlinecolor": "#2a3f5f",
             "gridcolor": "white",
             "linecolor": "white",
             "minorgridcolor": "white",
             "startlinecolor": "#2a3f5f"
            },
            "type": "carpet"
           }
          ],
          "choropleth": [
           {
            "colorbar": {
             "outlinewidth": 0,
             "ticks": ""
            },
            "type": "choropleth"
           }
          ],
          "contour": [
           {
            "colorbar": {
             "outlinewidth": 0,
             "ticks": ""
            },
            "colorscale": [
             [
              0,
              "#0d0887"
             ],
             [
              0.1111111111111111,
              "#46039f"
             ],
             [
              0.2222222222222222,
              "#7201a8"
             ],
             [
              0.3333333333333333,
              "#9c179e"
             ],
             [
              0.4444444444444444,
              "#bd3786"
             ],
             [
              0.5555555555555556,
              "#d8576b"
             ],
             [
              0.6666666666666666,
              "#ed7953"
             ],
             [
              0.7777777777777778,
              "#fb9f3a"
             ],
             [
              0.8888888888888888,
              "#fdca26"
             ],
             [
              1,
              "#f0f921"
             ]
            ],
            "type": "contour"
           }
          ],
          "contourcarpet": [
           {
            "colorbar": {
             "outlinewidth": 0,
             "ticks": ""
            },
            "type": "contourcarpet"
           }
          ],
          "heatmap": [
           {
            "colorbar": {
             "outlinewidth": 0,
             "ticks": ""
            },
            "colorscale": [
             [
              0,
              "#0d0887"
             ],
             [
              0.1111111111111111,
              "#46039f"
             ],
             [
              0.2222222222222222,
              "#7201a8"
             ],
             [
              0.3333333333333333,
              "#9c179e"
             ],
             [
              0.4444444444444444,
              "#bd3786"
             ],
             [
              0.5555555555555556,
              "#d8576b"
             ],
             [
              0.6666666666666666,
              "#ed7953"
             ],
             [
              0.7777777777777778,
              "#fb9f3a"
             ],
             [
              0.8888888888888888,
              "#fdca26"
             ],
             [
              1,
              "#f0f921"
             ]
            ],
            "type": "heatmap"
           }
          ],
          "heatmapgl": [
           {
            "colorbar": {
             "outlinewidth": 0,
             "ticks": ""
            },
            "colorscale": [
             [
              0,
              "#0d0887"
             ],
             [
              0.1111111111111111,
              "#46039f"
             ],
             [
              0.2222222222222222,
              "#7201a8"
             ],
             [
              0.3333333333333333,
              "#9c179e"
             ],
             [
              0.4444444444444444,
              "#bd3786"
             ],
             [
              0.5555555555555556,
              "#d8576b"
             ],
             [
              0.6666666666666666,
              "#ed7953"
             ],
             [
              0.7777777777777778,
              "#fb9f3a"
             ],
             [
              0.8888888888888888,
              "#fdca26"
             ],
             [
              1,
              "#f0f921"
             ]
            ],
            "type": "heatmapgl"
           }
          ],
          "histogram": [
           {
            "marker": {
             "pattern": {
              "fillmode": "overlay",
              "size": 10,
              "solidity": 0.2
             }
            },
            "type": "histogram"
           }
          ],
          "histogram2d": [
           {
            "colorbar": {
             "outlinewidth": 0,
             "ticks": ""
            },
            "colorscale": [
             [
              0,
              "#0d0887"
             ],
             [
              0.1111111111111111,
              "#46039f"
             ],
             [
              0.2222222222222222,
              "#7201a8"
             ],
             [
              0.3333333333333333,
              "#9c179e"
             ],
             [
              0.4444444444444444,
              "#bd3786"
             ],
             [
              0.5555555555555556,
              "#d8576b"
             ],
             [
              0.6666666666666666,
              "#ed7953"
             ],
             [
              0.7777777777777778,
              "#fb9f3a"
             ],
             [
              0.8888888888888888,
              "#fdca26"
             ],
             [
              1,
              "#f0f921"
             ]
            ],
            "type": "histogram2d"
           }
          ],
          "histogram2dcontour": [
           {
            "colorbar": {
             "outlinewidth": 0,
             "ticks": ""
            },
            "colorscale": [
             [
              0,
              "#0d0887"
             ],
             [
              0.1111111111111111,
              "#46039f"
             ],
             [
              0.2222222222222222,
              "#7201a8"
             ],
             [
              0.3333333333333333,
              "#9c179e"
             ],
             [
              0.4444444444444444,
              "#bd3786"
             ],
             [
              0.5555555555555556,
              "#d8576b"
             ],
             [
              0.6666666666666666,
              "#ed7953"
             ],
             [
              0.7777777777777778,
              "#fb9f3a"
             ],
             [
              0.8888888888888888,
              "#fdca26"
             ],
             [
              1,
              "#f0f921"
             ]
            ],
            "type": "histogram2dcontour"
           }
          ],
          "mesh3d": [
           {
            "colorbar": {
             "outlinewidth": 0,
             "ticks": ""
            },
            "type": "mesh3d"
           }
          ],
          "parcoords": [
           {
            "line": {
             "colorbar": {
              "outlinewidth": 0,
              "ticks": ""
             }
            },
            "type": "parcoords"
           }
          ],
          "pie": [
           {
            "automargin": true,
            "type": "pie"
           }
          ],
          "scatter": [
           {
            "fillpattern": {
             "fillmode": "overlay",
             "size": 10,
             "solidity": 0.2
            },
            "type": "scatter"
           }
          ],
          "scatter3d": [
           {
            "line": {
             "colorbar": {
              "outlinewidth": 0,
              "ticks": ""
             }
            },
            "marker": {
             "colorbar": {
              "outlinewidth": 0,
              "ticks": ""
             }
            },
            "type": "scatter3d"
           }
          ],
          "scattercarpet": [
           {
            "marker": {
             "colorbar": {
              "outlinewidth": 0,
              "ticks": ""
             }
            },
            "type": "scattercarpet"
           }
          ],
          "scattergeo": [
           {
            "marker": {
             "colorbar": {
              "outlinewidth": 0,
              "ticks": ""
             }
            },
            "type": "scattergeo"
           }
          ],
          "scattergl": [
           {
            "marker": {
             "colorbar": {
              "outlinewidth": 0,
              "ticks": ""
             }
            },
            "type": "scattergl"
           }
          ],
          "scattermapbox": [
           {
            "marker": {
             "colorbar": {
              "outlinewidth": 0,
              "ticks": ""
             }
            },
            "type": "scattermapbox"
           }
          ],
          "scatterpolar": [
           {
            "marker": {
             "colorbar": {
              "outlinewidth": 0,
              "ticks": ""
             }
            },
            "type": "scatterpolar"
           }
          ],
          "scatterpolargl": [
           {
            "marker": {
             "colorbar": {
              "outlinewidth": 0,
              "ticks": ""
             }
            },
            "type": "scatterpolargl"
           }
          ],
          "scatterternary": [
           {
            "marker": {
             "colorbar": {
              "outlinewidth": 0,
              "ticks": ""
             }
            },
            "type": "scatterternary"
           }
          ],
          "surface": [
           {
            "colorbar": {
             "outlinewidth": 0,
             "ticks": ""
            },
            "colorscale": [
             [
              0,
              "#0d0887"
             ],
             [
              0.1111111111111111,
              "#46039f"
             ],
             [
              0.2222222222222222,
              "#7201a8"
             ],
             [
              0.3333333333333333,
              "#9c179e"
             ],
             [
              0.4444444444444444,
              "#bd3786"
             ],
             [
              0.5555555555555556,
              "#d8576b"
             ],
             [
              0.6666666666666666,
              "#ed7953"
             ],
             [
              0.7777777777777778,
              "#fb9f3a"
             ],
             [
              0.8888888888888888,
              "#fdca26"
             ],
             [
              1,
              "#f0f921"
             ]
            ],
            "type": "surface"
           }
          ],
          "table": [
           {
            "cells": {
             "fill": {
              "color": "#EBF0F8"
             },
             "line": {
              "color": "white"
             }
            },
            "header": {
             "fill": {
              "color": "#C8D4E3"
             },
             "line": {
              "color": "white"
             }
            },
            "type": "table"
           }
          ]
         },
         "layout": {
          "annotationdefaults": {
           "arrowcolor": "#2a3f5f",
           "arrowhead": 0,
           "arrowwidth": 1
          },
          "autotypenumbers": "strict",
          "coloraxis": {
           "colorbar": {
            "outlinewidth": 0,
            "ticks": ""
           }
          },
          "colorscale": {
           "diverging": [
            [
             0,
             "#8e0152"
            ],
            [
             0.1,
             "#c51b7d"
            ],
            [
             0.2,
             "#de77ae"
            ],
            [
             0.3,
             "#f1b6da"
            ],
            [
             0.4,
             "#fde0ef"
            ],
            [
             0.5,
             "#f7f7f7"
            ],
            [
             0.6,
             "#e6f5d0"
            ],
            [
             0.7,
             "#b8e186"
            ],
            [
             0.8,
             "#7fbc41"
            ],
            [
             0.9,
             "#4d9221"
            ],
            [
             1,
             "#276419"
            ]
           ],
           "sequential": [
            [
             0,
             "#0d0887"
            ],
            [
             0.1111111111111111,
             "#46039f"
            ],
            [
             0.2222222222222222,
             "#7201a8"
            ],
            [
             0.3333333333333333,
             "#9c179e"
            ],
            [
             0.4444444444444444,
             "#bd3786"
            ],
            [
             0.5555555555555556,
             "#d8576b"
            ],
            [
             0.6666666666666666,
             "#ed7953"
            ],
            [
             0.7777777777777778,
             "#fb9f3a"
            ],
            [
             0.8888888888888888,
             "#fdca26"
            ],
            [
             1,
             "#f0f921"
            ]
           ],
           "sequentialminus": [
            [
             0,
             "#0d0887"
            ],
            [
             0.1111111111111111,
             "#46039f"
            ],
            [
             0.2222222222222222,
             "#7201a8"
            ],
            [
             0.3333333333333333,
             "#9c179e"
            ],
            [
             0.4444444444444444,
             "#bd3786"
            ],
            [
             0.5555555555555556,
             "#d8576b"
            ],
            [
             0.6666666666666666,
             "#ed7953"
            ],
            [
             0.7777777777777778,
             "#fb9f3a"
            ],
            [
             0.8888888888888888,
             "#fdca26"
            ],
            [
             1,
             "#f0f921"
            ]
           ]
          },
          "colorway": [
           "#636efa",
           "#EF553B",
           "#00cc96",
           "#ab63fa",
           "#FFA15A",
           "#19d3f3",
           "#FF6692",
           "#B6E880",
           "#FF97FF",
           "#FECB52"
          ],
          "font": {
           "color": "#2a3f5f"
          },
          "geo": {
           "bgcolor": "white",
           "lakecolor": "white",
           "landcolor": "#E5ECF6",
           "showlakes": true,
           "showland": true,
           "subunitcolor": "white"
          },
          "hoverlabel": {
           "align": "left"
          },
          "hovermode": "closest",
          "mapbox": {
           "style": "light"
          },
          "paper_bgcolor": "white",
          "plot_bgcolor": "#E5ECF6",
          "polar": {
           "angularaxis": {
            "gridcolor": "white",
            "linecolor": "white",
            "ticks": ""
           },
           "bgcolor": "#E5ECF6",
           "radialaxis": {
            "gridcolor": "white",
            "linecolor": "white",
            "ticks": ""
           }
          },
          "scene": {
           "xaxis": {
            "backgroundcolor": "#E5ECF6",
            "gridcolor": "white",
            "gridwidth": 2,
            "linecolor": "white",
            "showbackground": true,
            "ticks": "",
            "zerolinecolor": "white"
           },
           "yaxis": {
            "backgroundcolor": "#E5ECF6",
            "gridcolor": "white",
            "gridwidth": 2,
            "linecolor": "white",
            "showbackground": true,
            "ticks": "",
            "zerolinecolor": "white"
           },
           "zaxis": {
            "backgroundcolor": "#E5ECF6",
            "gridcolor": "white",
            "gridwidth": 2,
            "linecolor": "white",
            "showbackground": true,
            "ticks": "",
            "zerolinecolor": "white"
           }
          },
          "shapedefaults": {
           "line": {
            "color": "#2a3f5f"
           }
          },
          "ternary": {
           "aaxis": {
            "gridcolor": "white",
            "linecolor": "white",
            "ticks": ""
           },
           "baxis": {
            "gridcolor": "white",
            "linecolor": "white",
            "ticks": ""
           },
           "bgcolor": "#E5ECF6",
           "caxis": {
            "gridcolor": "white",
            "linecolor": "white",
            "ticks": ""
           }
          },
          "title": {
           "x": 0.05
          },
          "xaxis": {
           "automargin": true,
           "gridcolor": "white",
           "linecolor": "white",
           "ticks": "",
           "title": {
            "standoff": 15
           },
           "zerolinecolor": "white",
           "zerolinewidth": 2
          },
          "yaxis": {
           "automargin": true,
           "gridcolor": "white",
           "linecolor": "white",
           "ticks": "",
           "title": {
            "standoff": 15
           },
           "zerolinecolor": "white",
           "zerolinewidth": 2
          }
         }
        },
        "title": {
         "text": "F80-F89 - Transtornos do desenvolvimento psicológico"
        },
        "xaxis": {
         "title": {
          "text": "Time"
         }
        },
        "yaxis": {
         "title": {
          "text": "Value"
         }
        }
       }
      }
     },
     "metadata": {},
     "output_type": "display_data"
    },
    {
     "name": "stdout",
     "output_type": "stream",
     "text": [
      "Processing variable: F90-F98 - Transtornos do comportamento e transtornos emocionais que aparecem habitualmente durante a infância ou a adolescência\n"
     ]
    },
    {
     "data": {
      "application/vnd.plotly.v1+json": {
       "config": {
        "plotlyServerURL": "https://plot.ly"
       },
       "data": [
        {
         "marker": {
          "color": "blue"
         },
         "mode": "markers",
         "name": "Real",
         "type": "scatter",
         "x": [
          "2016-01-01T00:00:00",
          "2016-02-01T00:00:00",
          "2016-03-01T00:00:00",
          "2016-04-01T00:00:00",
          "2016-05-01T00:00:00",
          "2016-06-01T00:00:00",
          "2016-07-01T00:00:00",
          "2016-08-01T00:00:00",
          "2016-09-01T00:00:00",
          "2016-10-01T00:00:00",
          "2016-11-01T00:00:00",
          "2016-12-01T00:00:00",
          "2017-01-01T00:00:00",
          "2017-02-01T00:00:00",
          "2017-03-01T00:00:00",
          "2017-04-01T00:00:00",
          "2017-05-01T00:00:00",
          "2017-06-01T00:00:00",
          "2017-07-01T00:00:00",
          "2017-08-01T00:00:00",
          "2017-09-01T00:00:00",
          "2017-10-01T00:00:00",
          "2017-11-01T00:00:00",
          "2017-12-01T00:00:00",
          "2018-01-01T00:00:00",
          "2018-02-01T00:00:00",
          "2018-03-01T00:00:00",
          "2018-04-01T00:00:00",
          "2018-05-01T00:00:00",
          "2018-06-01T00:00:00",
          "2018-07-01T00:00:00",
          "2018-08-01T00:00:00",
          "2018-09-01T00:00:00",
          "2018-10-01T00:00:00",
          "2018-11-01T00:00:00",
          "2018-12-01T00:00:00",
          "2019-01-01T00:00:00",
          "2019-02-01T00:00:00",
          "2019-03-01T00:00:00",
          "2019-04-01T00:00:00",
          "2019-05-01T00:00:00",
          "2019-06-01T00:00:00",
          "2019-07-01T00:00:00",
          "2019-08-01T00:00:00",
          "2019-09-01T00:00:00",
          "2019-10-01T00:00:00",
          "2019-11-01T00:00:00",
          "2019-12-01T00:00:00",
          "2020-01-01T00:00:00",
          "2020-02-01T00:00:00",
          "2020-03-01T00:00:00",
          "2020-04-01T00:00:00",
          "2020-05-01T00:00:00",
          "2020-06-01T00:00:00",
          "2020-07-01T00:00:00",
          "2020-08-01T00:00:00",
          "2020-09-01T00:00:00",
          "2020-10-01T00:00:00",
          "2020-11-01T00:00:00",
          "2020-12-01T00:00:00",
          "2021-01-01T00:00:00",
          "2021-02-01T00:00:00",
          "2021-03-01T00:00:00",
          "2021-04-01T00:00:00",
          "2021-05-01T00:00:00",
          "2021-06-01T00:00:00",
          "2021-07-01T00:00:00",
          "2021-08-01T00:00:00",
          "2021-09-01T00:00:00",
          "2021-10-01T00:00:00",
          "2021-11-01T00:00:00",
          "2021-12-01T00:00:00",
          "2022-01-01T00:00:00",
          "2022-02-01T00:00:00",
          "2022-03-01T00:00:00",
          "2022-04-01T00:00:00",
          "2022-05-01T00:00:00",
          "2022-06-01T00:00:00",
          "2022-07-01T00:00:00",
          "2022-08-01T00:00:00",
          "2022-09-01T00:00:00",
          "2022-10-01T00:00:00",
          "2022-11-01T00:00:00",
          "2022-12-01T00:00:00",
          "2023-01-01T00:00:00",
          "2023-02-01T00:00:00",
          "2023-03-01T00:00:00",
          "2023-04-01T00:00:00",
          "2023-05-01T00:00:00",
          "2023-06-01T00:00:00",
          "2023-07-01T00:00:00",
          "2023-08-01T00:00:00",
          "2023-09-01T00:00:00",
          "2023-10-01T00:00:00",
          "2023-11-01T00:00:00",
          "2023-12-01T00:00:00",
          "2024-01-01T00:00:00",
          "2024-02-01T00:00:00",
          "2024-03-01T00:00:00",
          "2024-04-01T00:00:00",
          "2024-05-01T00:00:00",
          "2024-06-01T00:00:00",
          "2024-07-01T00:00:00",
          "2024-08-01T00:00:00",
          "2024-09-01T00:00:00",
          "2024-10-01T00:00:00",
          "2024-11-01T00:00:00",
          "2024-12-01T00:00:00"
         ],
         "y": [
          225,
          218,
          284,
          238,
          322,
          345,
          403,
          406,
          412,
          433,
          290,
          269,
          247,
          203,
          348,
          325,
          355,
          308,
          340,
          381,
          346,
          328,
          332,
          277,
          315,
          250,
          358,
          422,
          397,
          337,
          327,
          413,
          353,
          477,
          355,
          286,
          313,
          314,
          314,
          379,
          565,
          436,
          520,
          586,
          424,
          472,
          347,
          297,
          387,
          271,
          253,
          168,
          182,
          229,
          223,
          245,
          298,
          353,
          270,
          267,
          261,
          261,
          261,
          227,
          80,
          334,
          413,
          438,
          415,
          417,
          449,
          431,
          238,
          293,
          438,
          328,
          421,
          486,
          442,
          482,
          482,
          520,
          475,
          422,
          431,
          339,
          594,
          518,
          627,
          574,
          595,
          781,
          625,
          816,
          741,
          648,
          625,
          613,
          762,
          889,
          467,
          699,
          842,
          882,
          923,
          1159,
          922,
          816
         ]
        },
        {
         "line": {
          "color": "black",
          "dash": "dot"
         },
         "mode": "lines",
         "name": "Baseline",
         "type": "scatter",
         "x": [
          "2016-01-01T00:00:00",
          "2016-02-01T00:00:00",
          "2016-03-01T00:00:00",
          "2016-04-01T00:00:00",
          "2016-05-01T00:00:00",
          "2016-06-01T00:00:00",
          "2016-07-01T00:00:00",
          "2016-08-01T00:00:00",
          "2016-09-01T00:00:00",
          "2016-10-01T00:00:00",
          "2016-11-01T00:00:00",
          "2016-12-01T00:00:00",
          "2017-01-01T00:00:00",
          "2017-02-01T00:00:00",
          "2017-03-01T00:00:00",
          "2017-04-01T00:00:00",
          "2017-05-01T00:00:00",
          "2017-06-01T00:00:00",
          "2017-07-01T00:00:00",
          "2017-08-01T00:00:00",
          "2017-09-01T00:00:00",
          "2017-10-01T00:00:00",
          "2017-11-01T00:00:00",
          "2017-12-01T00:00:00",
          "2018-01-01T00:00:00",
          "2018-02-01T00:00:00",
          "2018-03-01T00:00:00",
          "2018-04-01T00:00:00",
          "2018-05-01T00:00:00",
          "2018-06-01T00:00:00",
          "2018-07-01T00:00:00",
          "2018-08-01T00:00:00",
          "2018-09-01T00:00:00",
          "2018-10-01T00:00:00",
          "2018-11-01T00:00:00",
          "2018-12-01T00:00:00",
          "2019-01-01T00:00:00",
          "2019-02-01T00:00:00",
          "2019-03-01T00:00:00",
          "2019-04-01T00:00:00",
          "2019-05-01T00:00:00",
          "2019-06-01T00:00:00",
          "2019-07-01T00:00:00",
          "2019-08-01T00:00:00",
          "2019-09-01T00:00:00",
          "2019-10-01T00:00:00",
          "2019-11-01T00:00:00",
          "2019-12-01T00:00:00",
          "2020-01-01T00:00:00",
          "2020-02-01T00:00:00",
          "2020-03-01T00:00:00",
          "2020-04-01T00:00:00",
          "2020-05-01T00:00:00",
          "2020-06-01T00:00:00",
          "2020-07-01T00:00:00",
          "2020-08-01T00:00:00",
          "2020-09-01T00:00:00",
          "2020-10-01T00:00:00",
          "2020-11-01T00:00:00",
          "2020-12-01T00:00:00",
          "2021-01-01T00:00:00",
          "2021-02-01T00:00:00",
          "2021-03-01T00:00:00",
          "2021-04-01T00:00:00",
          "2021-05-01T00:00:00",
          "2021-06-01T00:00:00",
          "2021-07-01T00:00:00",
          "2021-08-01T00:00:00",
          "2021-09-01T00:00:00",
          "2021-10-01T00:00:00",
          "2021-11-01T00:00:00",
          "2021-12-01T00:00:00",
          "2022-01-01T00:00:00",
          "2022-02-01T00:00:00",
          "2022-03-01T00:00:00",
          "2022-04-01T00:00:00",
          "2022-05-01T00:00:00",
          "2022-06-01T00:00:00",
          "2022-07-01T00:00:00",
          "2022-08-01T00:00:00",
          "2022-09-01T00:00:00",
          "2022-10-01T00:00:00",
          "2022-11-01T00:00:00",
          "2022-12-01T00:00:00",
          "2023-01-01T00:00:00",
          "2023-02-01T00:00:00",
          "2023-03-01T00:00:00",
          "2023-04-01T00:00:00",
          "2023-05-01T00:00:00",
          "2023-06-01T00:00:00",
          "2023-07-01T00:00:00",
          "2023-08-01T00:00:00",
          "2023-09-01T00:00:00",
          "2023-10-01T00:00:00",
          "2023-11-01T00:00:00",
          "2023-12-01T00:00:00",
          "2024-01-01T00:00:00",
          "2024-02-01T00:00:00",
          "2024-03-01T00:00:00",
          "2024-04-01T00:00:00",
          "2024-05-01T00:00:00",
          "2024-06-01T00:00:00",
          "2024-07-01T00:00:00",
          "2024-08-01T00:00:00",
          "2024-09-01T00:00:00",
          "2024-10-01T00:00:00",
          "2024-11-01T00:00:00",
          "2024-12-01T00:00:00"
         ],
         "y": [
          255.15659879684785,
          257.16410103653664,
          259.17160327622537,
          261.17910551591416,
          263.18660775560295,
          265.1941099952917,
          267.2016122349805,
          269.20911447466926,
          271.216616714358,
          273.2241189540468,
          275.2316211937356,
          277.2391234334243,
          279.2466256731131,
          281.2541279128019,
          283.2616301524906,
          285.2691323921794,
          287.2766346318682,
          289.28413687155694,
          291.29163911124573,
          293.2991413509345,
          295.30664359062325,
          297.31414583031204,
          299.32164807000083,
          301.32915030968957,
          303.33665254937836,
          305.34415478906715,
          307.3516570287559,
          309.35915926844467,
          311.36666150813346,
          313.3741637478222,
          315.381665987511,
          317.3891682271998,
          319.3966704668885,
          321.4041727065773,
          323.4116749462661,
          325.4191771859548,
          327.4266794256436,
          329.4341816653324,
          331.44168390502114,
          333.4491861447099,
          335.4566883843987,
          337.46419062408745,
          339.47169286377624,
          341.47919510346503,
          343.48669734315376,
          345.49419958284255,
          347.5017018225313,
          349.5092040622201,
          351.51670630190887,
          353.5242085415976,
          355.5317107812864,
          357.5392130209751,
          359.5467152606639,
          361.5542175003527,
          363.56171974004144,
          365.56922197973023,
          367.576724219419,
          369.58422645910775,
          371.59172869879654,
          373.59923093848533,
          375.60673317817407,
          377.61423541786286,
          379.62173765755165,
          381.6292398972404,
          383.6367421369292,
          385.64424437661796,
          387.6517466163067,
          389.6592488559955,
          391.6667510956843,
          393.674253335373,
          395.6817555750618,
          397.6892578147506,
          399.6967600544393,
          401.7042622941281,
          403.7117645338169,
          405.71926677350564,
          407.7267690131944,
          409.7342712528832,
          411.74177349257195,
          413.74927573226074,
          415.75677797194953,
          417.76428021163827,
          419.77178245132706,
          421.77928469101585,
          423.7867869307046,
          425.79428917039337,
          427.80179141008216,
          429.8092936497709,
          431.8167958894597,
          433.8242981291485,
          435.8318003688372,
          437.839302608526,
          439.8468048482148,
          441.8543070879035,
          443.8618093275923,
          445.8693115672811,
          447.87681380696984,
          449.8843160466586,
          451.8918182863474,
          453.89932052603615,
          455.90682276572494,
          457.91432500541373,
          459.92182724510246,
          461.9293294847912,
          463.93683172448004,
          465.9443339641688,
          467.9518362038575,
          469.95933844354636
         ]
        },
        {
         "line": {
          "dash": "solid"
         },
         "mode": "lines",
         "name": "Trend_PosPandemia Effect",
         "type": "scatter",
         "x": [
          "2016-01-01T00:00:00",
          "2016-02-01T00:00:00",
          "2016-03-01T00:00:00",
          "2016-04-01T00:00:00",
          "2016-05-01T00:00:00",
          "2016-06-01T00:00:00",
          "2016-07-01T00:00:00",
          "2016-08-01T00:00:00",
          "2016-09-01T00:00:00",
          "2016-10-01T00:00:00",
          "2016-11-01T00:00:00",
          "2016-12-01T00:00:00",
          "2017-01-01T00:00:00",
          "2017-02-01T00:00:00",
          "2017-03-01T00:00:00",
          "2017-04-01T00:00:00",
          "2017-05-01T00:00:00",
          "2017-06-01T00:00:00",
          "2017-07-01T00:00:00",
          "2017-08-01T00:00:00",
          "2017-09-01T00:00:00",
          "2017-10-01T00:00:00",
          "2017-11-01T00:00:00",
          "2017-12-01T00:00:00",
          "2018-01-01T00:00:00",
          "2018-02-01T00:00:00",
          "2018-03-01T00:00:00",
          "2018-04-01T00:00:00",
          "2018-05-01T00:00:00",
          "2018-06-01T00:00:00",
          "2018-07-01T00:00:00",
          "2018-08-01T00:00:00",
          "2018-09-01T00:00:00",
          "2018-10-01T00:00:00",
          "2018-11-01T00:00:00",
          "2018-12-01T00:00:00",
          "2019-01-01T00:00:00",
          "2019-02-01T00:00:00",
          "2019-03-01T00:00:00",
          "2019-04-01T00:00:00",
          "2019-05-01T00:00:00",
          "2019-06-01T00:00:00",
          "2019-07-01T00:00:00",
          "2019-08-01T00:00:00",
          "2019-09-01T00:00:00",
          "2019-10-01T00:00:00",
          "2019-11-01T00:00:00",
          "2019-12-01T00:00:00",
          "2020-01-01T00:00:00",
          "2020-02-01T00:00:00",
          "2020-03-01T00:00:00",
          "2020-04-01T00:00:00",
          "2020-05-01T00:00:00",
          "2020-06-01T00:00:00",
          "2020-07-01T00:00:00",
          "2020-08-01T00:00:00",
          "2020-09-01T00:00:00",
          "2020-10-01T00:00:00",
          "2020-11-01T00:00:00",
          "2020-12-01T00:00:00",
          "2021-01-01T00:00:00",
          "2021-02-01T00:00:00",
          "2021-03-01T00:00:00",
          "2021-04-01T00:00:00",
          "2021-05-01T00:00:00",
          "2021-06-01T00:00:00",
          "2021-07-01T00:00:00",
          "2021-08-01T00:00:00",
          "2021-09-01T00:00:00",
          "2021-10-01T00:00:00",
          "2021-11-01T00:00:00",
          "2021-12-01T00:00:00",
          "2022-01-01T00:00:00",
          "2022-02-01T00:00:00",
          "2022-03-01T00:00:00",
          "2022-04-01T00:00:00",
          "2022-05-01T00:00:00",
          "2022-06-01T00:00:00",
          "2022-07-01T00:00:00",
          "2022-08-01T00:00:00",
          "2022-09-01T00:00:00",
          "2022-10-01T00:00:00",
          "2022-11-01T00:00:00",
          "2022-12-01T00:00:00",
          "2023-01-01T00:00:00",
          "2023-02-01T00:00:00",
          "2023-03-01T00:00:00",
          "2023-04-01T00:00:00",
          "2023-05-01T00:00:00",
          "2023-06-01T00:00:00",
          "2023-07-01T00:00:00",
          "2023-08-01T00:00:00",
          "2023-09-01T00:00:00",
          "2023-10-01T00:00:00",
          "2023-11-01T00:00:00",
          "2023-12-01T00:00:00",
          "2024-01-01T00:00:00",
          "2024-02-01T00:00:00",
          "2024-03-01T00:00:00",
          "2024-04-01T00:00:00",
          "2024-05-01T00:00:00",
          "2024-06-01T00:00:00",
          "2024-07-01T00:00:00",
          "2024-08-01T00:00:00",
          "2024-09-01T00:00:00",
          "2024-10-01T00:00:00",
          "2024-11-01T00:00:00",
          "2024-12-01T00:00:00"
         ],
         "y": [
          255.15659879684785,
          257.16410103653664,
          259.17160327622537,
          261.17910551591416,
          263.18660775560295,
          265.1941099952917,
          267.2016122349805,
          269.20911447466926,
          271.216616714358,
          273.2241189540468,
          275.2316211937356,
          277.2391234334243,
          279.2466256731131,
          281.2541279128019,
          283.2616301524906,
          285.2691323921794,
          287.2766346318682,
          289.28413687155694,
          291.29163911124573,
          293.2991413509345,
          295.30664359062325,
          297.31414583031204,
          299.32164807000083,
          301.32915030968957,
          303.33665254937836,
          305.34415478906715,
          307.3516570287559,
          309.35915926844467,
          311.36666150813346,
          313.3741637478222,
          315.381665987511,
          317.3891682271998,
          319.3966704668885,
          321.4041727065773,
          323.4116749462661,
          325.4191771859548,
          327.4266794256436,
          329.4341816653324,
          331.44168390502114,
          333.4491861447099,
          335.4566883843987,
          337.46419062408745,
          339.47169286377624,
          341.47919510346503,
          343.48669734315376,
          345.49419958284255,
          347.5017018225313,
          349.5092040622201,
          216.51670630190887,
          218.5242085415976,
          220.5317107812864,
          222.53921302097513,
          224.54671526066392,
          226.5542175003527,
          228.56171974004144,
          139.56922197973023,
          152.57672421941902,
          164.58422645910775,
          177.59172869879654,
          189.59923093848533,
          202.60673317817407,
          215.61423541786286,
          227.62173765755165,
          -17.37076010275962,
          -5.363257863070828,
          265.64424437661796,
          278.6517466163067,
          290.6592488559955,
          303.6667510956843,
          315.674253335373,
          328.6817555750618,
          341.6892578147506,
          353.6967600544393,
          366.7042622941281,
          378.7117645338169,
          391.71926677350564,
          404.7267690131944,
          416.7342712528832,
          429.74177349257195,
          441.74927573226074,
          454.75677797194953,
          467.76428021163827,
          479.77178245132706,
          492.77928469101585,
          504.7867869307046,
          517.7942891703933,
          530.8017914100822,
          542.8092936497709,
          555.8167958894596,
          567.8242981291485,
          580.8318003688372,
          592.8393026085259,
          605.8468048482148,
          618.8543070879035,
          630.8618093275923,
          643.8693115672811,
          655.8768138069698,
          668.8843160466586,
          681.8918182863474,
          693.8993205260361,
          706.9068227657249,
          718.9143250054137,
          731.9218272451025,
          744.9293294847912,
          756.93683172448,
          769.9443339641688,
          781.9518362038575,
          794.9593384435464
         ]
        }
       ],
       "layout": {
        "legend": {
         "title": {
          "text": "Legend"
         }
        },
        "shapes": [
         {
          "fillcolor": "White",
          "layer": "below",
          "line": {
           "width": 0
          },
          "opacity": 0.3,
          "type": "rect",
          "x0": "2020-08-01T00:00:00",
          "x1": "2024-12-01T00:00:00",
          "xref": "x",
          "y0": 0,
          "y1": 1,
          "yref": "paper"
         },
         {
          "fillcolor": "LightSalmon",
          "layer": "below",
          "line": {
           "width": 0
          },
          "opacity": 0.3,
          "type": "rect",
          "x0": "2020-01-01T00:00:00",
          "x1": "2020-07-01T00:00:00",
          "xref": "x",
          "y0": 0,
          "y1": 1,
          "yref": "paper"
         },
         {
          "fillcolor": "LightSalmon",
          "layer": "below",
          "line": {
           "width": 0
          },
          "opacity": 0.3,
          "type": "rect",
          "x0": "2021-04-01T00:00:00",
          "x1": "2021-05-01T00:00:00",
          "xref": "x",
          "y0": 0,
          "y1": 1,
          "yref": "paper"
         },
         {
          "fillcolor": "Grey",
          "layer": "below",
          "line": {
           "width": 0
          },
          "opacity": 0.3,
          "type": "rect",
          "x0": "2020-08-01T00:00:00",
          "x1": "2024-12-01T00:00:00",
          "xref": "x",
          "y0": 0,
          "y1": 1,
          "yref": "paper"
         }
        ],
        "template": {
         "data": {
          "bar": [
           {
            "error_x": {
             "color": "#2a3f5f"
            },
            "error_y": {
             "color": "#2a3f5f"
            },
            "marker": {
             "line": {
              "color": "#E5ECF6",
              "width": 0.5
             },
             "pattern": {
              "fillmode": "overlay",
              "size": 10,
              "solidity": 0.2
             }
            },
            "type": "bar"
           }
          ],
          "barpolar": [
           {
            "marker": {
             "line": {
              "color": "#E5ECF6",
              "width": 0.5
             },
             "pattern": {
              "fillmode": "overlay",
              "size": 10,
              "solidity": 0.2
             }
            },
            "type": "barpolar"
           }
          ],
          "carpet": [
           {
            "aaxis": {
             "endlinecolor": "#2a3f5f",
             "gridcolor": "white",
             "linecolor": "white",
             "minorgridcolor": "white",
             "startlinecolor": "#2a3f5f"
            },
            "baxis": {
             "endlinecolor": "#2a3f5f",
             "gridcolor": "white",
             "linecolor": "white",
             "minorgridcolor": "white",
             "startlinecolor": "#2a3f5f"
            },
            "type": "carpet"
           }
          ],
          "choropleth": [
           {
            "colorbar": {
             "outlinewidth": 0,
             "ticks": ""
            },
            "type": "choropleth"
           }
          ],
          "contour": [
           {
            "colorbar": {
             "outlinewidth": 0,
             "ticks": ""
            },
            "colorscale": [
             [
              0,
              "#0d0887"
             ],
             [
              0.1111111111111111,
              "#46039f"
             ],
             [
              0.2222222222222222,
              "#7201a8"
             ],
             [
              0.3333333333333333,
              "#9c179e"
             ],
             [
              0.4444444444444444,
              "#bd3786"
             ],
             [
              0.5555555555555556,
              "#d8576b"
             ],
             [
              0.6666666666666666,
              "#ed7953"
             ],
             [
              0.7777777777777778,
              "#fb9f3a"
             ],
             [
              0.8888888888888888,
              "#fdca26"
             ],
             [
              1,
              "#f0f921"
             ]
            ],
            "type": "contour"
           }
          ],
          "contourcarpet": [
           {
            "colorbar": {
             "outlinewidth": 0,
             "ticks": ""
            },
            "type": "contourcarpet"
           }
          ],
          "heatmap": [
           {
            "colorbar": {
             "outlinewidth": 0,
             "ticks": ""
            },
            "colorscale": [
             [
              0,
              "#0d0887"
             ],
             [
              0.1111111111111111,
              "#46039f"
             ],
             [
              0.2222222222222222,
              "#7201a8"
             ],
             [
              0.3333333333333333,
              "#9c179e"
             ],
             [
              0.4444444444444444,
              "#bd3786"
             ],
             [
              0.5555555555555556,
              "#d8576b"
             ],
             [
              0.6666666666666666,
              "#ed7953"
             ],
             [
              0.7777777777777778,
              "#fb9f3a"
             ],
             [
              0.8888888888888888,
              "#fdca26"
             ],
             [
              1,
              "#f0f921"
             ]
            ],
            "type": "heatmap"
           }
          ],
          "heatmapgl": [
           {
            "colorbar": {
             "outlinewidth": 0,
             "ticks": ""
            },
            "colorscale": [
             [
              0,
              "#0d0887"
             ],
             [
              0.1111111111111111,
              "#46039f"
             ],
             [
              0.2222222222222222,
              "#7201a8"
             ],
             [
              0.3333333333333333,
              "#9c179e"
             ],
             [
              0.4444444444444444,
              "#bd3786"
             ],
             [
              0.5555555555555556,
              "#d8576b"
             ],
             [
              0.6666666666666666,
              "#ed7953"
             ],
             [
              0.7777777777777778,
              "#fb9f3a"
             ],
             [
              0.8888888888888888,
              "#fdca26"
             ],
             [
              1,
              "#f0f921"
             ]
            ],
            "type": "heatmapgl"
           }
          ],
          "histogram": [
           {
            "marker": {
             "pattern": {
              "fillmode": "overlay",
              "size": 10,
              "solidity": 0.2
             }
            },
            "type": "histogram"
           }
          ],
          "histogram2d": [
           {
            "colorbar": {
             "outlinewidth": 0,
             "ticks": ""
            },
            "colorscale": [
             [
              0,
              "#0d0887"
             ],
             [
              0.1111111111111111,
              "#46039f"
             ],
             [
              0.2222222222222222,
              "#7201a8"
             ],
             [
              0.3333333333333333,
              "#9c179e"
             ],
             [
              0.4444444444444444,
              "#bd3786"
             ],
             [
              0.5555555555555556,
              "#d8576b"
             ],
             [
              0.6666666666666666,
              "#ed7953"
             ],
             [
              0.7777777777777778,
              "#fb9f3a"
             ],
             [
              0.8888888888888888,
              "#fdca26"
             ],
             [
              1,
              "#f0f921"
             ]
            ],
            "type": "histogram2d"
           }
          ],
          "histogram2dcontour": [
           {
            "colorbar": {
             "outlinewidth": 0,
             "ticks": ""
            },
            "colorscale": [
             [
              0,
              "#0d0887"
             ],
             [
              0.1111111111111111,
              "#46039f"
             ],
             [
              0.2222222222222222,
              "#7201a8"
             ],
             [
              0.3333333333333333,
              "#9c179e"
             ],
             [
              0.4444444444444444,
              "#bd3786"
             ],
             [
              0.5555555555555556,
              "#d8576b"
             ],
             [
              0.6666666666666666,
              "#ed7953"
             ],
             [
              0.7777777777777778,
              "#fb9f3a"
             ],
             [
              0.8888888888888888,
              "#fdca26"
             ],
             [
              1,
              "#f0f921"
             ]
            ],
            "type": "histogram2dcontour"
           }
          ],
          "mesh3d": [
           {
            "colorbar": {
             "outlinewidth": 0,
             "ticks": ""
            },
            "type": "mesh3d"
           }
          ],
          "parcoords": [
           {
            "line": {
             "colorbar": {
              "outlinewidth": 0,
              "ticks": ""
             }
            },
            "type": "parcoords"
           }
          ],
          "pie": [
           {
            "automargin": true,
            "type": "pie"
           }
          ],
          "scatter": [
           {
            "fillpattern": {
             "fillmode": "overlay",
             "size": 10,
             "solidity": 0.2
            },
            "type": "scatter"
           }
          ],
          "scatter3d": [
           {
            "line": {
             "colorbar": {
              "outlinewidth": 0,
              "ticks": ""
             }
            },
            "marker": {
             "colorbar": {
              "outlinewidth": 0,
              "ticks": ""
             }
            },
            "type": "scatter3d"
           }
          ],
          "scattercarpet": [
           {
            "marker": {
             "colorbar": {
              "outlinewidth": 0,
              "ticks": ""
             }
            },
            "type": "scattercarpet"
           }
          ],
          "scattergeo": [
           {
            "marker": {
             "colorbar": {
              "outlinewidth": 0,
              "ticks": ""
             }
            },
            "type": "scattergeo"
           }
          ],
          "scattergl": [
           {
            "marker": {
             "colorbar": {
              "outlinewidth": 0,
              "ticks": ""
             }
            },
            "type": "scattergl"
           }
          ],
          "scattermapbox": [
           {
            "marker": {
             "colorbar": {
              "outlinewidth": 0,
              "ticks": ""
             }
            },
            "type": "scattermapbox"
           }
          ],
          "scatterpolar": [
           {
            "marker": {
             "colorbar": {
              "outlinewidth": 0,
              "ticks": ""
             }
            },
            "type": "scatterpolar"
           }
          ],
          "scatterpolargl": [
           {
            "marker": {
             "colorbar": {
              "outlinewidth": 0,
              "ticks": ""
             }
            },
            "type": "scatterpolargl"
           }
          ],
          "scatterternary": [
           {
            "marker": {
             "colorbar": {
              "outlinewidth": 0,
              "ticks": ""
             }
            },
            "type": "scatterternary"
           }
          ],
          "surface": [
           {
            "colorbar": {
             "outlinewidth": 0,
             "ticks": ""
            },
            "colorscale": [
             [
              0,
              "#0d0887"
             ],
             [
              0.1111111111111111,
              "#46039f"
             ],
             [
              0.2222222222222222,
              "#7201a8"
             ],
             [
              0.3333333333333333,
              "#9c179e"
             ],
             [
              0.4444444444444444,
              "#bd3786"
             ],
             [
              0.5555555555555556,
              "#d8576b"
             ],
             [
              0.6666666666666666,
              "#ed7953"
             ],
             [
              0.7777777777777778,
              "#fb9f3a"
             ],
             [
              0.8888888888888888,
              "#fdca26"
             ],
             [
              1,
              "#f0f921"
             ]
            ],
            "type": "surface"
           }
          ],
          "table": [
           {
            "cells": {
             "fill": {
              "color": "#EBF0F8"
             },
             "line": {
              "color": "white"
             }
            },
            "header": {
             "fill": {
              "color": "#C8D4E3"
             },
             "line": {
              "color": "white"
             }
            },
            "type": "table"
           }
          ]
         },
         "layout": {
          "annotationdefaults": {
           "arrowcolor": "#2a3f5f",
           "arrowhead": 0,
           "arrowwidth": 1
          },
          "autotypenumbers": "strict",
          "coloraxis": {
           "colorbar": {
            "outlinewidth": 0,
            "ticks": ""
           }
          },
          "colorscale": {
           "diverging": [
            [
             0,
             "#8e0152"
            ],
            [
             0.1,
             "#c51b7d"
            ],
            [
             0.2,
             "#de77ae"
            ],
            [
             0.3,
             "#f1b6da"
            ],
            [
             0.4,
             "#fde0ef"
            ],
            [
             0.5,
             "#f7f7f7"
            ],
            [
             0.6,
             "#e6f5d0"
            ],
            [
             0.7,
             "#b8e186"
            ],
            [
             0.8,
             "#7fbc41"
            ],
            [
             0.9,
             "#4d9221"
            ],
            [
             1,
             "#276419"
            ]
           ],
           "sequential": [
            [
             0,
             "#0d0887"
            ],
            [
             0.1111111111111111,
             "#46039f"
            ],
            [
             0.2222222222222222,
             "#7201a8"
            ],
            [
             0.3333333333333333,
             "#9c179e"
            ],
            [
             0.4444444444444444,
             "#bd3786"
            ],
            [
             0.5555555555555556,
             "#d8576b"
            ],
            [
             0.6666666666666666,
             "#ed7953"
            ],
            [
             0.7777777777777778,
             "#fb9f3a"
            ],
            [
             0.8888888888888888,
             "#fdca26"
            ],
            [
             1,
             "#f0f921"
            ]
           ],
           "sequentialminus": [
            [
             0,
             "#0d0887"
            ],
            [
             0.1111111111111111,
             "#46039f"
            ],
            [
             0.2222222222222222,
             "#7201a8"
            ],
            [
             0.3333333333333333,
             "#9c179e"
            ],
            [
             0.4444444444444444,
             "#bd3786"
            ],
            [
             0.5555555555555556,
             "#d8576b"
            ],
            [
             0.6666666666666666,
             "#ed7953"
            ],
            [
             0.7777777777777778,
             "#fb9f3a"
            ],
            [
             0.8888888888888888,
             "#fdca26"
            ],
            [
             1,
             "#f0f921"
            ]
           ]
          },
          "colorway": [
           "#636efa",
           "#EF553B",
           "#00cc96",
           "#ab63fa",
           "#FFA15A",
           "#19d3f3",
           "#FF6692",
           "#B6E880",
           "#FF97FF",
           "#FECB52"
          ],
          "font": {
           "color": "#2a3f5f"
          },
          "geo": {
           "bgcolor": "white",
           "lakecolor": "white",
           "landcolor": "#E5ECF6",
           "showlakes": true,
           "showland": true,
           "subunitcolor": "white"
          },
          "hoverlabel": {
           "align": "left"
          },
          "hovermode": "closest",
          "mapbox": {
           "style": "light"
          },
          "paper_bgcolor": "white",
          "plot_bgcolor": "#E5ECF6",
          "polar": {
           "angularaxis": {
            "gridcolor": "white",
            "linecolor": "white",
            "ticks": ""
           },
           "bgcolor": "#E5ECF6",
           "radialaxis": {
            "gridcolor": "white",
            "linecolor": "white",
            "ticks": ""
           }
          },
          "scene": {
           "xaxis": {
            "backgroundcolor": "#E5ECF6",
            "gridcolor": "white",
            "gridwidth": 2,
            "linecolor": "white",
            "showbackground": true,
            "ticks": "",
            "zerolinecolor": "white"
           },
           "yaxis": {
            "backgroundcolor": "#E5ECF6",
            "gridcolor": "white",
            "gridwidth": 2,
            "linecolor": "white",
            "showbackground": true,
            "ticks": "",
            "zerolinecolor": "white"
           },
           "zaxis": {
            "backgroundcolor": "#E5ECF6",
            "gridcolor": "white",
            "gridwidth": 2,
            "linecolor": "white",
            "showbackground": true,
            "ticks": "",
            "zerolinecolor": "white"
           }
          },
          "shapedefaults": {
           "line": {
            "color": "#2a3f5f"
           }
          },
          "ternary": {
           "aaxis": {
            "gridcolor": "white",
            "linecolor": "white",
            "ticks": ""
           },
           "baxis": {
            "gridcolor": "white",
            "linecolor": "white",
            "ticks": ""
           },
           "bgcolor": "#E5ECF6",
           "caxis": {
            "gridcolor": "white",
            "linecolor": "white",
            "ticks": ""
           }
          },
          "title": {
           "x": 0.05
          },
          "xaxis": {
           "automargin": true,
           "gridcolor": "white",
           "linecolor": "white",
           "ticks": "",
           "title": {
            "standoff": 15
           },
           "zerolinecolor": "white",
           "zerolinewidth": 2
          },
          "yaxis": {
           "automargin": true,
           "gridcolor": "white",
           "linecolor": "white",
           "ticks": "",
           "title": {
            "standoff": 15
           },
           "zerolinecolor": "white",
           "zerolinewidth": 2
          }
         }
        },
        "title": {
         "text": "F90-F98 - Transtornos do comportamento e transtornos emocionais que aparecem habitualmente durante a infância ou a adolescência"
        },
        "xaxis": {
         "title": {
          "text": "Time"
         }
        },
        "yaxis": {
         "title": {
          "text": "Value"
         }
        }
       }
      }
     },
     "metadata": {},
     "output_type": "display_data"
    },
    {
     "name": "stdout",
     "output_type": "stream",
     "text": [
      "Processing variable: F99-F99 - Transtorno mental não especificado\n"
     ]
    },
    {
     "data": {
      "application/vnd.plotly.v1+json": {
       "config": {
        "plotlyServerURL": "https://plot.ly"
       },
       "data": [
        {
         "marker": {
          "color": "blue"
         },
         "mode": "markers",
         "name": "Real",
         "type": "scatter",
         "x": [
          "2016-01-01T00:00:00",
          "2016-02-01T00:00:00",
          "2016-03-01T00:00:00",
          "2016-04-01T00:00:00",
          "2016-05-01T00:00:00",
          "2016-06-01T00:00:00",
          "2016-07-01T00:00:00",
          "2016-08-01T00:00:00",
          "2016-09-01T00:00:00",
          "2016-10-01T00:00:00",
          "2016-11-01T00:00:00",
          "2016-12-01T00:00:00",
          "2017-01-01T00:00:00",
          "2017-02-01T00:00:00",
          "2017-03-01T00:00:00",
          "2017-04-01T00:00:00",
          "2017-05-01T00:00:00",
          "2017-06-01T00:00:00",
          "2017-07-01T00:00:00",
          "2017-08-01T00:00:00",
          "2017-09-01T00:00:00",
          "2017-10-01T00:00:00",
          "2017-11-01T00:00:00",
          "2017-12-01T00:00:00",
          "2018-01-01T00:00:00",
          "2018-02-01T00:00:00",
          "2018-03-01T00:00:00",
          "2018-04-01T00:00:00",
          "2018-05-01T00:00:00",
          "2018-06-01T00:00:00",
          "2018-07-01T00:00:00",
          "2018-08-01T00:00:00",
          "2018-09-01T00:00:00",
          "2018-10-01T00:00:00",
          "2018-11-01T00:00:00",
          "2018-12-01T00:00:00",
          "2019-01-01T00:00:00",
          "2019-02-01T00:00:00",
          "2019-03-01T00:00:00",
          "2019-04-01T00:00:00",
          "2019-05-01T00:00:00",
          "2019-06-01T00:00:00",
          "2019-07-01T00:00:00",
          "2019-08-01T00:00:00",
          "2019-09-01T00:00:00",
          "2019-10-01T00:00:00",
          "2019-11-01T00:00:00",
          "2019-12-01T00:00:00",
          "2020-01-01T00:00:00",
          "2020-02-01T00:00:00",
          "2020-03-01T00:00:00",
          "2020-04-01T00:00:00",
          "2020-05-01T00:00:00",
          "2020-06-01T00:00:00",
          "2020-07-01T00:00:00",
          "2020-08-01T00:00:00",
          "2020-09-01T00:00:00",
          "2020-10-01T00:00:00",
          "2020-11-01T00:00:00",
          "2020-12-01T00:00:00",
          "2021-01-01T00:00:00",
          "2021-02-01T00:00:00",
          "2021-03-01T00:00:00",
          "2021-04-01T00:00:00",
          "2021-05-01T00:00:00",
          "2021-06-01T00:00:00",
          "2021-07-01T00:00:00",
          "2021-08-01T00:00:00",
          "2021-09-01T00:00:00",
          "2021-10-01T00:00:00",
          "2021-11-01T00:00:00",
          "2021-12-01T00:00:00",
          "2022-01-01T00:00:00",
          "2022-02-01T00:00:00",
          "2022-03-01T00:00:00",
          "2022-04-01T00:00:00",
          "2022-05-01T00:00:00",
          "2022-06-01T00:00:00",
          "2022-07-01T00:00:00",
          "2022-08-01T00:00:00",
          "2022-09-01T00:00:00",
          "2022-10-01T00:00:00",
          "2022-11-01T00:00:00",
          "2022-12-01T00:00:00",
          "2023-01-01T00:00:00",
          "2023-02-01T00:00:00",
          "2023-03-01T00:00:00",
          "2023-04-01T00:00:00",
          "2023-05-01T00:00:00",
          "2023-06-01T00:00:00",
          "2023-07-01T00:00:00",
          "2023-08-01T00:00:00",
          "2023-09-01T00:00:00",
          "2023-10-01T00:00:00",
          "2023-11-01T00:00:00",
          "2023-12-01T00:00:00",
          "2024-01-01T00:00:00",
          "2024-02-01T00:00:00",
          "2024-03-01T00:00:00",
          "2024-04-01T00:00:00",
          "2024-05-01T00:00:00",
          "2024-06-01T00:00:00",
          "2024-07-01T00:00:00",
          "2024-08-01T00:00:00",
          "2024-09-01T00:00:00",
          "2024-10-01T00:00:00",
          "2024-11-01T00:00:00",
          "2024-12-01T00:00:00"
         ],
         "y": [
          96,
          92,
          188,
          80,
          120,
          146,
          134,
          190,
          76,
          104,
          156,
          182,
          200,
          154,
          236,
          122,
          218,
          106,
          142,
          120,
          112,
          116,
          150,
          92,
          170,
          84,
          146,
          146,
          164,
          144,
          92,
          106,
          108,
          148,
          94,
          68,
          66,
          72,
          62,
          76,
          88,
          86,
          98,
          58,
          26,
          38,
          22,
          34,
          32,
          32,
          26,
          22,
          48,
          32,
          34,
          32,
          40,
          52,
          38,
          38,
          30,
          30,
          16,
          8,
          12,
          30,
          22,
          30,
          24,
          24,
          38,
          24,
          16,
          32,
          40,
          24,
          90,
          112,
          38,
          16,
          52,
          42,
          34,
          46,
          56,
          76,
          66,
          60,
          62,
          78,
          150,
          134,
          138,
          138,
          132,
          98,
          102,
          78,
          112,
          68,
          116,
          170,
          216,
          226,
          290,
          298,
          208,
          138
         ]
        },
        {
         "line": {
          "color": "black",
          "dash": "dot"
         },
         "mode": "lines",
         "name": "Baseline",
         "type": "scatter",
         "x": [
          "2016-01-01T00:00:00",
          "2016-02-01T00:00:00",
          "2016-03-01T00:00:00",
          "2016-04-01T00:00:00",
          "2016-05-01T00:00:00",
          "2016-06-01T00:00:00",
          "2016-07-01T00:00:00",
          "2016-08-01T00:00:00",
          "2016-09-01T00:00:00",
          "2016-10-01T00:00:00",
          "2016-11-01T00:00:00",
          "2016-12-01T00:00:00",
          "2017-01-01T00:00:00",
          "2017-02-01T00:00:00",
          "2017-03-01T00:00:00",
          "2017-04-01T00:00:00",
          "2017-05-01T00:00:00",
          "2017-06-01T00:00:00",
          "2017-07-01T00:00:00",
          "2017-08-01T00:00:00",
          "2017-09-01T00:00:00",
          "2017-10-01T00:00:00",
          "2017-11-01T00:00:00",
          "2017-12-01T00:00:00",
          "2018-01-01T00:00:00",
          "2018-02-01T00:00:00",
          "2018-03-01T00:00:00",
          "2018-04-01T00:00:00",
          "2018-05-01T00:00:00",
          "2018-06-01T00:00:00",
          "2018-07-01T00:00:00",
          "2018-08-01T00:00:00",
          "2018-09-01T00:00:00",
          "2018-10-01T00:00:00",
          "2018-11-01T00:00:00",
          "2018-12-01T00:00:00",
          "2019-01-01T00:00:00",
          "2019-02-01T00:00:00",
          "2019-03-01T00:00:00",
          "2019-04-01T00:00:00",
          "2019-05-01T00:00:00",
          "2019-06-01T00:00:00",
          "2019-07-01T00:00:00",
          "2019-08-01T00:00:00",
          "2019-09-01T00:00:00",
          "2019-10-01T00:00:00",
          "2019-11-01T00:00:00",
          "2019-12-01T00:00:00",
          "2020-01-01T00:00:00",
          "2020-02-01T00:00:00",
          "2020-03-01T00:00:00",
          "2020-04-01T00:00:00",
          "2020-05-01T00:00:00",
          "2020-06-01T00:00:00",
          "2020-07-01T00:00:00",
          "2020-08-01T00:00:00",
          "2020-09-01T00:00:00",
          "2020-10-01T00:00:00",
          "2020-11-01T00:00:00",
          "2020-12-01T00:00:00",
          "2021-01-01T00:00:00",
          "2021-02-01T00:00:00",
          "2021-03-01T00:00:00",
          "2021-04-01T00:00:00",
          "2021-05-01T00:00:00",
          "2021-06-01T00:00:00",
          "2021-07-01T00:00:00",
          "2021-08-01T00:00:00",
          "2021-09-01T00:00:00",
          "2021-10-01T00:00:00",
          "2021-11-01T00:00:00",
          "2021-12-01T00:00:00",
          "2022-01-01T00:00:00",
          "2022-02-01T00:00:00",
          "2022-03-01T00:00:00",
          "2022-04-01T00:00:00",
          "2022-05-01T00:00:00",
          "2022-06-01T00:00:00",
          "2022-07-01T00:00:00",
          "2022-08-01T00:00:00",
          "2022-09-01T00:00:00",
          "2022-10-01T00:00:00",
          "2022-11-01T00:00:00",
          "2022-12-01T00:00:00",
          "2023-01-01T00:00:00",
          "2023-02-01T00:00:00",
          "2023-03-01T00:00:00",
          "2023-04-01T00:00:00",
          "2023-05-01T00:00:00",
          "2023-06-01T00:00:00",
          "2023-07-01T00:00:00",
          "2023-08-01T00:00:00",
          "2023-09-01T00:00:00",
          "2023-10-01T00:00:00",
          "2023-11-01T00:00:00",
          "2023-12-01T00:00:00",
          "2024-01-01T00:00:00",
          "2024-02-01T00:00:00",
          "2024-03-01T00:00:00",
          "2024-04-01T00:00:00",
          "2024-05-01T00:00:00",
          "2024-06-01T00:00:00",
          "2024-07-01T00:00:00",
          "2024-08-01T00:00:00",
          "2024-09-01T00:00:00",
          "2024-10-01T00:00:00",
          "2024-11-01T00:00:00",
          "2024-12-01T00:00:00"
         ],
         "y": [
          155.5345728193241,
          153.47734715344635,
          151.42012148756862,
          149.3628958216909,
          147.30567015581315,
          145.24844448993542,
          143.19121882405767,
          141.13399315817995,
          139.07676749230222,
          137.01954182642447,
          134.96231616054675,
          132.90509049466903,
          130.84786482879127,
          128.79063916291355,
          126.73341349703581,
          124.67618783115807,
          122.61896216528035,
          120.56173649940261,
          118.50451083352488,
          116.44728516764715,
          114.39005950176941,
          112.33283383589168,
          110.27560817001395,
          108.21838250413622,
          106.16115683825848,
          104.10393117238075,
          102.046705506503,
          99.98947984062528,
          97.93225417474754,
          95.8750285088698,
          93.81780284299208,
          91.76057717711434,
          89.7033515112366,
          87.64612584535888,
          85.58890017948114,
          83.5316745136034,
          81.47444884772567,
          79.41722318184794,
          77.3599975159702,
          75.30277185009247,
          73.24554618421475,
          71.18832051833701,
          69.13109485245927,
          67.07386918658153,
          65.01664352070381,
          62.95941785482607,
          60.902192188948334,
          58.84496652307061,
          56.78774085719287,
          54.730515191315135,
          52.6732895254374,
          50.616063859559674,
          48.558838193681936,
          46.5016125278042,
          44.44438686192646,
          42.38716119604874,
          40.329935530171,
          38.27270986429326,
          36.21548419841554,
          34.1582585325378,
          32.10103286666006,
          30.043807200782325,
          27.986581534904587,
          25.929355869026864,
          23.87213020314914,
          21.81490453727139,
          19.757678871393665,
          17.70045320551594,
          15.64322753963819,
          13.586001873760466,
          11.528776207882714,
          9.47155054200499,
          7.414324876127267,
          5.357099210249515,
          3.299873544371792,
          1.2426478784940684,
          -0.8145777873836835,
          -2.871803453261407,
          -4.92902911913913,
          -6.986254785016882,
          -9.043480450894606,
          -11.10070611677233,
          -13.157931782650081,
          -15.215157448527805,
          -17.272383114405557,
          -19.32960878028328,
          -21.386834446161004,
          -23.444060112038756,
          -25.50128577791648,
          -27.558511443794202,
          -29.615737109671954,
          -31.672962775549678,
          -33.7301884414274,
          -35.78741410730515,
          -37.84463977318288,
          -39.9018654390606,
          -41.95909110493835,
          -44.016316770816076,
          -46.07354243669383,
          -48.13076810257155,
          -50.187993768449275,
          -52.245219434327026,
          -54.30244510020475,
          -56.35967076608247,
          -58.416896431960225,
          -60.47412209783795,
          -62.53134776371567,
          -64.58857342959342
         ]
        },
        {
         "line": {
          "dash": "solid"
         },
         "mode": "lines",
         "name": "Trend_PosPandemia Effect",
         "type": "scatter",
         "x": [
          "2016-01-01T00:00:00",
          "2016-02-01T00:00:00",
          "2016-03-01T00:00:00",
          "2016-04-01T00:00:00",
          "2016-05-01T00:00:00",
          "2016-06-01T00:00:00",
          "2016-07-01T00:00:00",
          "2016-08-01T00:00:00",
          "2016-09-01T00:00:00",
          "2016-10-01T00:00:00",
          "2016-11-01T00:00:00",
          "2016-12-01T00:00:00",
          "2017-01-01T00:00:00",
          "2017-02-01T00:00:00",
          "2017-03-01T00:00:00",
          "2017-04-01T00:00:00",
          "2017-05-01T00:00:00",
          "2017-06-01T00:00:00",
          "2017-07-01T00:00:00",
          "2017-08-01T00:00:00",
          "2017-09-01T00:00:00",
          "2017-10-01T00:00:00",
          "2017-11-01T00:00:00",
          "2017-12-01T00:00:00",
          "2018-01-01T00:00:00",
          "2018-02-01T00:00:00",
          "2018-03-01T00:00:00",
          "2018-04-01T00:00:00",
          "2018-05-01T00:00:00",
          "2018-06-01T00:00:00",
          "2018-07-01T00:00:00",
          "2018-08-01T00:00:00",
          "2018-09-01T00:00:00",
          "2018-10-01T00:00:00",
          "2018-11-01T00:00:00",
          "2018-12-01T00:00:00",
          "2019-01-01T00:00:00",
          "2019-02-01T00:00:00",
          "2019-03-01T00:00:00",
          "2019-04-01T00:00:00",
          "2019-05-01T00:00:00",
          "2019-06-01T00:00:00",
          "2019-07-01T00:00:00",
          "2019-08-01T00:00:00",
          "2019-09-01T00:00:00",
          "2019-10-01T00:00:00",
          "2019-11-01T00:00:00",
          "2019-12-01T00:00:00",
          "2020-01-01T00:00:00",
          "2020-02-01T00:00:00",
          "2020-03-01T00:00:00",
          "2020-04-01T00:00:00",
          "2020-05-01T00:00:00",
          "2020-06-01T00:00:00",
          "2020-07-01T00:00:00",
          "2020-08-01T00:00:00",
          "2020-09-01T00:00:00",
          "2020-10-01T00:00:00",
          "2020-11-01T00:00:00",
          "2020-12-01T00:00:00",
          "2021-01-01T00:00:00",
          "2021-02-01T00:00:00",
          "2021-03-01T00:00:00",
          "2021-04-01T00:00:00",
          "2021-05-01T00:00:00",
          "2021-06-01T00:00:00",
          "2021-07-01T00:00:00",
          "2021-08-01T00:00:00",
          "2021-09-01T00:00:00",
          "2021-10-01T00:00:00",
          "2021-11-01T00:00:00",
          "2021-12-01T00:00:00",
          "2022-01-01T00:00:00",
          "2022-02-01T00:00:00",
          "2022-03-01T00:00:00",
          "2022-04-01T00:00:00",
          "2022-05-01T00:00:00",
          "2022-06-01T00:00:00",
          "2022-07-01T00:00:00",
          "2022-08-01T00:00:00",
          "2022-09-01T00:00:00",
          "2022-10-01T00:00:00",
          "2022-11-01T00:00:00",
          "2022-12-01T00:00:00",
          "2023-01-01T00:00:00",
          "2023-02-01T00:00:00",
          "2023-03-01T00:00:00",
          "2023-04-01T00:00:00",
          "2023-05-01T00:00:00",
          "2023-06-01T00:00:00",
          "2023-07-01T00:00:00",
          "2023-08-01T00:00:00",
          "2023-09-01T00:00:00",
          "2023-10-01T00:00:00",
          "2023-11-01T00:00:00",
          "2023-12-01T00:00:00",
          "2024-01-01T00:00:00",
          "2024-02-01T00:00:00",
          "2024-03-01T00:00:00",
          "2024-04-01T00:00:00",
          "2024-05-01T00:00:00",
          "2024-06-01T00:00:00",
          "2024-07-01T00:00:00",
          "2024-08-01T00:00:00",
          "2024-09-01T00:00:00",
          "2024-10-01T00:00:00",
          "2024-11-01T00:00:00",
          "2024-12-01T00:00:00"
         ],
         "y": [
          155.5345728193241,
          153.47734715344635,
          151.42012148756862,
          149.3628958216909,
          147.30567015581315,
          145.24844448993542,
          143.19121882405767,
          141.13399315817995,
          139.07676749230222,
          137.01954182642447,
          134.96231616054675,
          132.90509049466903,
          130.84786482879127,
          128.79063916291355,
          126.73341349703581,
          124.67618783115807,
          122.61896216528035,
          120.56173649940261,
          118.50451083352488,
          116.44728516764715,
          114.39005950176941,
          112.33283383589168,
          110.27560817001395,
          108.21838250413622,
          106.16115683825848,
          104.10393117238075,
          102.046705506503,
          99.98947984062528,
          97.93225417474754,
          95.8750285088698,
          93.81780284299208,
          91.76057717711434,
          89.7033515112366,
          87.64612584535888,
          85.58890017948114,
          83.5316745136034,
          81.47444884772567,
          79.41722318184794,
          77.3599975159702,
          75.30277185009247,
          73.24554618421475,
          71.18832051833701,
          69.13109485245927,
          67.07386918658153,
          65.01664352070381,
          62.95941785482607,
          60.902192188948334,
          58.84496652307061,
          35.78774085719287,
          33.730515191315135,
          31.673289525437397,
          29.616063859559674,
          27.558838193681936,
          25.5016125278042,
          23.44438686192646,
          -15.612838803951263,
          -11.670064469829,
          -8.727290135706738,
          -4.784515801584462,
          -1.8417414674621995,
          2.101032866660063,
          5.043807200782325,
          8.986581534904587,
          1.929355869026864,
          5.8721302031491405,
          18.81490453727139,
          22.757678871393665,
          25.70045320551594,
          29.64322753963819,
          32.586001873760466,
          36.528776207882714,
          39.47155054200499,
          43.41432487612727,
          46.357099210249515,
          50.29987354437179,
          53.24264787849407,
          57.18542221261632,
          60.12819654673859,
          64.07097088086087,
          67.01374521498312,
          70.9565195491054,
          74.89929388322767,
          77.84206821734992,
          81.7848425514722,
          84.72761688559444,
          88.67039121971672,
          91.613165553839,
          95.55593988796124,
          98.49871422208352,
          102.4414885562058,
          105.38426289032805,
          109.32703722445032,
          112.2698115585726,
          116.21258589269485,
          119.15536022681712,
          123.0981345609394,
          126.04090889506165,
          129.98368322918392,
          132.92645756330617,
          136.86923189742845,
          139.81200623155073,
          143.75478056567297,
          146.69755489979525,
          150.64032923391753,
          153.58310356803977,
          157.52587790216205,
          161.46865223628433,
          164.41142657040658
         ]
        }
       ],
       "layout": {
        "legend": {
         "title": {
          "text": "Legend"
         }
        },
        "shapes": [
         {
          "fillcolor": "White",
          "layer": "below",
          "line": {
           "width": 0
          },
          "opacity": 0.3,
          "type": "rect",
          "x0": "2020-08-01T00:00:00",
          "x1": "2024-12-01T00:00:00",
          "xref": "x",
          "y0": 0,
          "y1": 1,
          "yref": "paper"
         },
         {
          "fillcolor": "LightSalmon",
          "layer": "below",
          "line": {
           "width": 0
          },
          "opacity": 0.3,
          "type": "rect",
          "x0": "2020-01-01T00:00:00",
          "x1": "2020-07-01T00:00:00",
          "xref": "x",
          "y0": 0,
          "y1": 1,
          "yref": "paper"
         },
         {
          "fillcolor": "LightSalmon",
          "layer": "below",
          "line": {
           "width": 0
          },
          "opacity": 0.3,
          "type": "rect",
          "x0": "2021-04-01T00:00:00",
          "x1": "2021-05-01T00:00:00",
          "xref": "x",
          "y0": 0,
          "y1": 1,
          "yref": "paper"
         },
         {
          "fillcolor": "Grey",
          "layer": "below",
          "line": {
           "width": 0
          },
          "opacity": 0.3,
          "type": "rect",
          "x0": "2020-08-01T00:00:00",
          "x1": "2024-12-01T00:00:00",
          "xref": "x",
          "y0": 0,
          "y1": 1,
          "yref": "paper"
         }
        ],
        "template": {
         "data": {
          "bar": [
           {
            "error_x": {
             "color": "#2a3f5f"
            },
            "error_y": {
             "color": "#2a3f5f"
            },
            "marker": {
             "line": {
              "color": "#E5ECF6",
              "width": 0.5
             },
             "pattern": {
              "fillmode": "overlay",
              "size": 10,
              "solidity": 0.2
             }
            },
            "type": "bar"
           }
          ],
          "barpolar": [
           {
            "marker": {
             "line": {
              "color": "#E5ECF6",
              "width": 0.5
             },
             "pattern": {
              "fillmode": "overlay",
              "size": 10,
              "solidity": 0.2
             }
            },
            "type": "barpolar"
           }
          ],
          "carpet": [
           {
            "aaxis": {
             "endlinecolor": "#2a3f5f",
             "gridcolor": "white",
             "linecolor": "white",
             "minorgridcolor": "white",
             "startlinecolor": "#2a3f5f"
            },
            "baxis": {
             "endlinecolor": "#2a3f5f",
             "gridcolor": "white",
             "linecolor": "white",
             "minorgridcolor": "white",
             "startlinecolor": "#2a3f5f"
            },
            "type": "carpet"
           }
          ],
          "choropleth": [
           {
            "colorbar": {
             "outlinewidth": 0,
             "ticks": ""
            },
            "type": "choropleth"
           }
          ],
          "contour": [
           {
            "colorbar": {
             "outlinewidth": 0,
             "ticks": ""
            },
            "colorscale": [
             [
              0,
              "#0d0887"
             ],
             [
              0.1111111111111111,
              "#46039f"
             ],
             [
              0.2222222222222222,
              "#7201a8"
             ],
             [
              0.3333333333333333,
              "#9c179e"
             ],
             [
              0.4444444444444444,
              "#bd3786"
             ],
             [
              0.5555555555555556,
              "#d8576b"
             ],
             [
              0.6666666666666666,
              "#ed7953"
             ],
             [
              0.7777777777777778,
              "#fb9f3a"
             ],
             [
              0.8888888888888888,
              "#fdca26"
             ],
             [
              1,
              "#f0f921"
             ]
            ],
            "type": "contour"
           }
          ],
          "contourcarpet": [
           {
            "colorbar": {
             "outlinewidth": 0,
             "ticks": ""
            },
            "type": "contourcarpet"
           }
          ],
          "heatmap": [
           {
            "colorbar": {
             "outlinewidth": 0,
             "ticks": ""
            },
            "colorscale": [
             [
              0,
              "#0d0887"
             ],
             [
              0.1111111111111111,
              "#46039f"
             ],
             [
              0.2222222222222222,
              "#7201a8"
             ],
             [
              0.3333333333333333,
              "#9c179e"
             ],
             [
              0.4444444444444444,
              "#bd3786"
             ],
             [
              0.5555555555555556,
              "#d8576b"
             ],
             [
              0.6666666666666666,
              "#ed7953"
             ],
             [
              0.7777777777777778,
              "#fb9f3a"
             ],
             [
              0.8888888888888888,
              "#fdca26"
             ],
             [
              1,
              "#f0f921"
             ]
            ],
            "type": "heatmap"
           }
          ],
          "heatmapgl": [
           {
            "colorbar": {
             "outlinewidth": 0,
             "ticks": ""
            },
            "colorscale": [
             [
              0,
              "#0d0887"
             ],
             [
              0.1111111111111111,
              "#46039f"
             ],
             [
              0.2222222222222222,
              "#7201a8"
             ],
             [
              0.3333333333333333,
              "#9c179e"
             ],
             [
              0.4444444444444444,
              "#bd3786"
             ],
             [
              0.5555555555555556,
              "#d8576b"
             ],
             [
              0.6666666666666666,
              "#ed7953"
             ],
             [
              0.7777777777777778,
              "#fb9f3a"
             ],
             [
              0.8888888888888888,
              "#fdca26"
             ],
             [
              1,
              "#f0f921"
             ]
            ],
            "type": "heatmapgl"
           }
          ],
          "histogram": [
           {
            "marker": {
             "pattern": {
              "fillmode": "overlay",
              "size": 10,
              "solidity": 0.2
             }
            },
            "type": "histogram"
           }
          ],
          "histogram2d": [
           {
            "colorbar": {
             "outlinewidth": 0,
             "ticks": ""
            },
            "colorscale": [
             [
              0,
              "#0d0887"
             ],
             [
              0.1111111111111111,
              "#46039f"
             ],
             [
              0.2222222222222222,
              "#7201a8"
             ],
             [
              0.3333333333333333,
              "#9c179e"
             ],
             [
              0.4444444444444444,
              "#bd3786"
             ],
             [
              0.5555555555555556,
              "#d8576b"
             ],
             [
              0.6666666666666666,
              "#ed7953"
             ],
             [
              0.7777777777777778,
              "#fb9f3a"
             ],
             [
              0.8888888888888888,
              "#fdca26"
             ],
             [
              1,
              "#f0f921"
             ]
            ],
            "type": "histogram2d"
           }
          ],
          "histogram2dcontour": [
           {
            "colorbar": {
             "outlinewidth": 0,
             "ticks": ""
            },
            "colorscale": [
             [
              0,
              "#0d0887"
             ],
             [
              0.1111111111111111,
              "#46039f"
             ],
             [
              0.2222222222222222,
              "#7201a8"
             ],
             [
              0.3333333333333333,
              "#9c179e"
             ],
             [
              0.4444444444444444,
              "#bd3786"
             ],
             [
              0.5555555555555556,
              "#d8576b"
             ],
             [
              0.6666666666666666,
              "#ed7953"
             ],
             [
              0.7777777777777778,
              "#fb9f3a"
             ],
             [
              0.8888888888888888,
              "#fdca26"
             ],
             [
              1,
              "#f0f921"
             ]
            ],
            "type": "histogram2dcontour"
           }
          ],
          "mesh3d": [
           {
            "colorbar": {
             "outlinewidth": 0,
             "ticks": ""
            },
            "type": "mesh3d"
           }
          ],
          "parcoords": [
           {
            "line": {
             "colorbar": {
              "outlinewidth": 0,
              "ticks": ""
             }
            },
            "type": "parcoords"
           }
          ],
          "pie": [
           {
            "automargin": true,
            "type": "pie"
           }
          ],
          "scatter": [
           {
            "fillpattern": {
             "fillmode": "overlay",
             "size": 10,
             "solidity": 0.2
            },
            "type": "scatter"
           }
          ],
          "scatter3d": [
           {
            "line": {
             "colorbar": {
              "outlinewidth": 0,
              "ticks": ""
             }
            },
            "marker": {
             "colorbar": {
              "outlinewidth": 0,
              "ticks": ""
             }
            },
            "type": "scatter3d"
           }
          ],
          "scattercarpet": [
           {
            "marker": {
             "colorbar": {
              "outlinewidth": 0,
              "ticks": ""
             }
            },
            "type": "scattercarpet"
           }
          ],
          "scattergeo": [
           {
            "marker": {
             "colorbar": {
              "outlinewidth": 0,
              "ticks": ""
             }
            },
            "type": "scattergeo"
           }
          ],
          "scattergl": [
           {
            "marker": {
             "colorbar": {
              "outlinewidth": 0,
              "ticks": ""
             }
            },
            "type": "scattergl"
           }
          ],
          "scattermapbox": [
           {
            "marker": {
             "colorbar": {
              "outlinewidth": 0,
              "ticks": ""
             }
            },
            "type": "scattermapbox"
           }
          ],
          "scatterpolar": [
           {
            "marker": {
             "colorbar": {
              "outlinewidth": 0,
              "ticks": ""
             }
            },
            "type": "scatterpolar"
           }
          ],
          "scatterpolargl": [
           {
            "marker": {
             "colorbar": {
              "outlinewidth": 0,
              "ticks": ""
             }
            },
            "type": "scatterpolargl"
           }
          ],
          "scatterternary": [
           {
            "marker": {
             "colorbar": {
              "outlinewidth": 0,
              "ticks": ""
             }
            },
            "type": "scatterternary"
           }
          ],
          "surface": [
           {
            "colorbar": {
             "outlinewidth": 0,
             "ticks": ""
            },
            "colorscale": [
             [
              0,
              "#0d0887"
             ],
             [
              0.1111111111111111,
              "#46039f"
             ],
             [
              0.2222222222222222,
              "#7201a8"
             ],
             [
              0.3333333333333333,
              "#9c179e"
             ],
             [
              0.4444444444444444,
              "#bd3786"
             ],
             [
              0.5555555555555556,
              "#d8576b"
             ],
             [
              0.6666666666666666,
              "#ed7953"
             ],
             [
              0.7777777777777778,
              "#fb9f3a"
             ],
             [
              0.8888888888888888,
              "#fdca26"
             ],
             [
              1,
              "#f0f921"
             ]
            ],
            "type": "surface"
           }
          ],
          "table": [
           {
            "cells": {
             "fill": {
              "color": "#EBF0F8"
             },
             "line": {
              "color": "white"
             }
            },
            "header": {
             "fill": {
              "color": "#C8D4E3"
             },
             "line": {
              "color": "white"
             }
            },
            "type": "table"
           }
          ]
         },
         "layout": {
          "annotationdefaults": {
           "arrowcolor": "#2a3f5f",
           "arrowhead": 0,
           "arrowwidth": 1
          },
          "autotypenumbers": "strict",
          "coloraxis": {
           "colorbar": {
            "outlinewidth": 0,
            "ticks": ""
           }
          },
          "colorscale": {
           "diverging": [
            [
             0,
             "#8e0152"
            ],
            [
             0.1,
             "#c51b7d"
            ],
            [
             0.2,
             "#de77ae"
            ],
            [
             0.3,
             "#f1b6da"
            ],
            [
             0.4,
             "#fde0ef"
            ],
            [
             0.5,
             "#f7f7f7"
            ],
            [
             0.6,
             "#e6f5d0"
            ],
            [
             0.7,
             "#b8e186"
            ],
            [
             0.8,
             "#7fbc41"
            ],
            [
             0.9,
             "#4d9221"
            ],
            [
             1,
             "#276419"
            ]
           ],
           "sequential": [
            [
             0,
             "#0d0887"
            ],
            [
             0.1111111111111111,
             "#46039f"
            ],
            [
             0.2222222222222222,
             "#7201a8"
            ],
            [
             0.3333333333333333,
             "#9c179e"
            ],
            [
             0.4444444444444444,
             "#bd3786"
            ],
            [
             0.5555555555555556,
             "#d8576b"
            ],
            [
             0.6666666666666666,
             "#ed7953"
            ],
            [
             0.7777777777777778,
             "#fb9f3a"
            ],
            [
             0.8888888888888888,
             "#fdca26"
            ],
            [
             1,
             "#f0f921"
            ]
           ],
           "sequentialminus": [
            [
             0,
             "#0d0887"
            ],
            [
             0.1111111111111111,
             "#46039f"
            ],
            [
             0.2222222222222222,
             "#7201a8"
            ],
            [
             0.3333333333333333,
             "#9c179e"
            ],
            [
             0.4444444444444444,
             "#bd3786"
            ],
            [
             0.5555555555555556,
             "#d8576b"
            ],
            [
             0.6666666666666666,
             "#ed7953"
            ],
            [
             0.7777777777777778,
             "#fb9f3a"
            ],
            [
             0.8888888888888888,
             "#fdca26"
            ],
            [
             1,
             "#f0f921"
            ]
           ]
          },
          "colorway": [
           "#636efa",
           "#EF553B",
           "#00cc96",
           "#ab63fa",
           "#FFA15A",
           "#19d3f3",
           "#FF6692",
           "#B6E880",
           "#FF97FF",
           "#FECB52"
          ],
          "font": {
           "color": "#2a3f5f"
          },
          "geo": {
           "bgcolor": "white",
           "lakecolor": "white",
           "landcolor": "#E5ECF6",
           "showlakes": true,
           "showland": true,
           "subunitcolor": "white"
          },
          "hoverlabel": {
           "align": "left"
          },
          "hovermode": "closest",
          "mapbox": {
           "style": "light"
          },
          "paper_bgcolor": "white",
          "plot_bgcolor": "#E5ECF6",
          "polar": {
           "angularaxis": {
            "gridcolor": "white",
            "linecolor": "white",
            "ticks": ""
           },
           "bgcolor": "#E5ECF6",
           "radialaxis": {
            "gridcolor": "white",
            "linecolor": "white",
            "ticks": ""
           }
          },
          "scene": {
           "xaxis": {
            "backgroundcolor": "#E5ECF6",
            "gridcolor": "white",
            "gridwidth": 2,
            "linecolor": "white",
            "showbackground": true,
            "ticks": "",
            "zerolinecolor": "white"
           },
           "yaxis": {
            "backgroundcolor": "#E5ECF6",
            "gridcolor": "white",
            "gridwidth": 2,
            "linecolor": "white",
            "showbackground": true,
            "ticks": "",
            "zerolinecolor": "white"
           },
           "zaxis": {
            "backgroundcolor": "#E5ECF6",
            "gridcolor": "white",
            "gridwidth": 2,
            "linecolor": "white",
            "showbackground": true,
            "ticks": "",
            "zerolinecolor": "white"
           }
          },
          "shapedefaults": {
           "line": {
            "color": "#2a3f5f"
           }
          },
          "ternary": {
           "aaxis": {
            "gridcolor": "white",
            "linecolor": "white",
            "ticks": ""
           },
           "baxis": {
            "gridcolor": "white",
            "linecolor": "white",
            "ticks": ""
           },
           "bgcolor": "#E5ECF6",
           "caxis": {
            "gridcolor": "white",
            "linecolor": "white",
            "ticks": ""
           }
          },
          "title": {
           "x": 0.05
          },
          "xaxis": {
           "automargin": true,
           "gridcolor": "white",
           "linecolor": "white",
           "ticks": "",
           "title": {
            "standoff": 15
           },
           "zerolinecolor": "white",
           "zerolinewidth": 2
          },
          "yaxis": {
           "automargin": true,
           "gridcolor": "white",
           "linecolor": "white",
           "ticks": "",
           "title": {
            "standoff": 15
           },
           "zerolinecolor": "white",
           "zerolinewidth": 2
          }
         }
        },
        "title": {
         "text": "F99-F99 - Transtorno mental não especificado"
        },
        "xaxis": {
         "title": {
          "text": "Time"
         }
        },
        "yaxis": {
         "title": {
          "text": "Value"
         }
        }
       }
      }
     },
     "metadata": {},
     "output_type": "display_data"
    },
    {
     "name": "stdout",
     "output_type": "stream",
     "text": [
      "Processing variable: _Grand Total\n"
     ]
    },
    {
     "data": {
      "application/vnd.plotly.v1+json": {
       "config": {
        "plotlyServerURL": "https://plot.ly"
       },
       "data": [
        {
         "marker": {
          "color": "blue"
         },
         "mode": "markers",
         "name": "Real",
         "type": "scatter",
         "x": [
          "2016-01-01T00:00:00",
          "2016-02-01T00:00:00",
          "2016-03-01T00:00:00",
          "2016-04-01T00:00:00",
          "2016-05-01T00:00:00",
          "2016-06-01T00:00:00",
          "2016-07-01T00:00:00",
          "2016-08-01T00:00:00",
          "2016-09-01T00:00:00",
          "2016-10-01T00:00:00",
          "2016-11-01T00:00:00",
          "2016-12-01T00:00:00",
          "2017-01-01T00:00:00",
          "2017-02-01T00:00:00",
          "2017-03-01T00:00:00",
          "2017-04-01T00:00:00",
          "2017-05-01T00:00:00",
          "2017-06-01T00:00:00",
          "2017-07-01T00:00:00",
          "2017-08-01T00:00:00",
          "2017-09-01T00:00:00",
          "2017-10-01T00:00:00",
          "2017-11-01T00:00:00",
          "2017-12-01T00:00:00",
          "2018-01-01T00:00:00",
          "2018-02-01T00:00:00",
          "2018-03-01T00:00:00",
          "2018-04-01T00:00:00",
          "2018-05-01T00:00:00",
          "2018-06-01T00:00:00",
          "2018-07-01T00:00:00",
          "2018-08-01T00:00:00",
          "2018-09-01T00:00:00",
          "2018-10-01T00:00:00",
          "2018-11-01T00:00:00",
          "2018-12-01T00:00:00",
          "2019-01-01T00:00:00",
          "2019-02-01T00:00:00",
          "2019-03-01T00:00:00",
          "2019-04-01T00:00:00",
          "2019-05-01T00:00:00",
          "2019-06-01T00:00:00",
          "2019-07-01T00:00:00",
          "2019-08-01T00:00:00",
          "2019-09-01T00:00:00",
          "2019-10-01T00:00:00",
          "2019-11-01T00:00:00",
          "2019-12-01T00:00:00",
          "2020-01-01T00:00:00",
          "2020-02-01T00:00:00",
          "2020-03-01T00:00:00",
          "2020-04-01T00:00:00",
          "2020-05-01T00:00:00",
          "2020-06-01T00:00:00",
          "2020-07-01T00:00:00",
          "2020-08-01T00:00:00",
          "2020-09-01T00:00:00",
          "2020-10-01T00:00:00",
          "2020-11-01T00:00:00",
          "2020-12-01T00:00:00",
          "2021-01-01T00:00:00",
          "2021-02-01T00:00:00",
          "2021-03-01T00:00:00",
          "2021-04-01T00:00:00",
          "2021-05-01T00:00:00",
          "2021-06-01T00:00:00",
          "2021-07-01T00:00:00",
          "2021-08-01T00:00:00",
          "2021-09-01T00:00:00",
          "2021-10-01T00:00:00",
          "2021-11-01T00:00:00",
          "2021-12-01T00:00:00",
          "2022-01-01T00:00:00",
          "2022-02-01T00:00:00",
          "2022-03-01T00:00:00",
          "2022-04-01T00:00:00",
          "2022-05-01T00:00:00",
          "2022-06-01T00:00:00",
          "2022-07-01T00:00:00",
          "2022-08-01T00:00:00",
          "2022-09-01T00:00:00",
          "2022-10-01T00:00:00",
          "2022-11-01T00:00:00",
          "2022-12-01T00:00:00",
          "2023-01-01T00:00:00",
          "2023-02-01T00:00:00",
          "2023-03-01T00:00:00",
          "2023-04-01T00:00:00",
          "2023-05-01T00:00:00",
          "2023-06-01T00:00:00",
          "2023-07-01T00:00:00",
          "2023-08-01T00:00:00",
          "2023-09-01T00:00:00",
          "2023-10-01T00:00:00",
          "2023-11-01T00:00:00",
          "2023-12-01T00:00:00",
          "2024-01-01T00:00:00",
          "2024-02-01T00:00:00",
          "2024-03-01T00:00:00",
          "2024-04-01T00:00:00",
          "2024-05-01T00:00:00",
          "2024-06-01T00:00:00",
          "2024-07-01T00:00:00",
          "2024-08-01T00:00:00",
          "2024-09-01T00:00:00",
          "2024-10-01T00:00:00",
          "2024-11-01T00:00:00",
          "2024-12-01T00:00:00"
         ],
         "y": [
          4004,
          4300,
          5822,
          5279,
          6968,
          8146,
          7944,
          9440,
          8060,
          7662,
          5989,
          5751,
          5507,
          5082,
          7545,
          5931,
          6891,
          6380,
          6242,
          6652,
          6183,
          6093,
          6489,
          5885,
          5917,
          5229,
          7009,
          7236,
          7008,
          6261,
          6386,
          7062,
          6310,
          7819,
          6729,
          5946,
          6737,
          6202,
          5820,
          7001,
          7720,
          6429,
          7416,
          7266,
          5944,
          6536,
          5133,
          4494,
          5346,
          4672,
          4154,
          3680,
          4576,
          5021,
          5083,
          5679,
          6507,
          6689,
          6764,
          6464,
          6359,
          6067,
          6096,
          4274,
          1744,
          7511,
          8100,
          8425,
          8039,
          8227,
          7684,
          7794,
          4461,
          5908,
          8563,
          6690,
          7519,
          7764,
          7948,
          8849,
          8463,
          9308,
          9401,
          9091,
          10232,
          8293,
          11363,
          9734,
          11795,
          10642,
          11392,
          13593,
          11136,
          13693,
          13533,
          12965,
          13476,
          12158,
          13252,
          14928,
          10622,
          13097,
          14441,
          14690,
          13509,
          17435,
          14082,
          13405
         ]
        },
        {
         "line": {
          "color": "black",
          "dash": "dot"
         },
         "mode": "lines",
         "name": "Baseline",
         "type": "scatter",
         "x": [
          "2016-01-01T00:00:00",
          "2016-02-01T00:00:00",
          "2016-03-01T00:00:00",
          "2016-04-01T00:00:00",
          "2016-05-01T00:00:00",
          "2016-06-01T00:00:00",
          "2016-07-01T00:00:00",
          "2016-08-01T00:00:00",
          "2016-09-01T00:00:00",
          "2016-10-01T00:00:00",
          "2016-11-01T00:00:00",
          "2016-12-01T00:00:00",
          "2017-01-01T00:00:00",
          "2017-02-01T00:00:00",
          "2017-03-01T00:00:00",
          "2017-04-01T00:00:00",
          "2017-05-01T00:00:00",
          "2017-06-01T00:00:00",
          "2017-07-01T00:00:00",
          "2017-08-01T00:00:00",
          "2017-09-01T00:00:00",
          "2017-10-01T00:00:00",
          "2017-11-01T00:00:00",
          "2017-12-01T00:00:00",
          "2018-01-01T00:00:00",
          "2018-02-01T00:00:00",
          "2018-03-01T00:00:00",
          "2018-04-01T00:00:00",
          "2018-05-01T00:00:00",
          "2018-06-01T00:00:00",
          "2018-07-01T00:00:00",
          "2018-08-01T00:00:00",
          "2018-09-01T00:00:00",
          "2018-10-01T00:00:00",
          "2018-11-01T00:00:00",
          "2018-12-01T00:00:00",
          "2019-01-01T00:00:00",
          "2019-02-01T00:00:00",
          "2019-03-01T00:00:00",
          "2019-04-01T00:00:00",
          "2019-05-01T00:00:00",
          "2019-06-01T00:00:00",
          "2019-07-01T00:00:00",
          "2019-08-01T00:00:00",
          "2019-09-01T00:00:00",
          "2019-10-01T00:00:00",
          "2019-11-01T00:00:00",
          "2019-12-01T00:00:00",
          "2020-01-01T00:00:00",
          "2020-02-01T00:00:00",
          "2020-03-01T00:00:00",
          "2020-04-01T00:00:00",
          "2020-05-01T00:00:00",
          "2020-06-01T00:00:00",
          "2020-07-01T00:00:00",
          "2020-08-01T00:00:00",
          "2020-09-01T00:00:00",
          "2020-10-01T00:00:00",
          "2020-11-01T00:00:00",
          "2020-12-01T00:00:00",
          "2021-01-01T00:00:00",
          "2021-02-01T00:00:00",
          "2021-03-01T00:00:00",
          "2021-04-01T00:00:00",
          "2021-05-01T00:00:00",
          "2021-06-01T00:00:00",
          "2021-07-01T00:00:00",
          "2021-08-01T00:00:00",
          "2021-09-01T00:00:00",
          "2021-10-01T00:00:00",
          "2021-11-01T00:00:00",
          "2021-12-01T00:00:00",
          "2022-01-01T00:00:00",
          "2022-02-01T00:00:00",
          "2022-03-01T00:00:00",
          "2022-04-01T00:00:00",
          "2022-05-01T00:00:00",
          "2022-06-01T00:00:00",
          "2022-07-01T00:00:00",
          "2022-08-01T00:00:00",
          "2022-09-01T00:00:00",
          "2022-10-01T00:00:00",
          "2022-11-01T00:00:00",
          "2022-12-01T00:00:00",
          "2023-01-01T00:00:00",
          "2023-02-01T00:00:00",
          "2023-03-01T00:00:00",
          "2023-04-01T00:00:00",
          "2023-05-01T00:00:00",
          "2023-06-01T00:00:00",
          "2023-07-01T00:00:00",
          "2023-08-01T00:00:00",
          "2023-09-01T00:00:00",
          "2023-10-01T00:00:00",
          "2023-11-01T00:00:00",
          "2023-12-01T00:00:00",
          "2024-01-01T00:00:00",
          "2024-02-01T00:00:00",
          "2024-03-01T00:00:00",
          "2024-04-01T00:00:00",
          "2024-05-01T00:00:00",
          "2024-06-01T00:00:00",
          "2024-07-01T00:00:00",
          "2024-08-01T00:00:00",
          "2024-09-01T00:00:00",
          "2024-10-01T00:00:00",
          "2024-11-01T00:00:00",
          "2024-12-01T00:00:00"
         ],
         "y": [
          5976.693271125892,
          5971.581906868921,
          5966.47054261195,
          5961.359178354979,
          5956.247814098008,
          5951.136449841037,
          5946.025085584066,
          5940.913721327095,
          5935.802357070123,
          5930.690992813153,
          5925.579628556182,
          5920.468264299211,
          5915.356900042239,
          5910.245535785269,
          5905.134171528298,
          5900.022807271326,
          5894.911443014355,
          5889.800078757385,
          5884.688714500414,
          5879.577350243442,
          5874.465985986471,
          5869.354621729501,
          5864.243257472529,
          5859.131893215558,
          5854.020528958587,
          5848.909164701617,
          5843.797800444645,
          5838.686436187674,
          5833.575071930703,
          5828.463707673732,
          5823.352343416761,
          5818.24097915979,
          5813.129614902819,
          5808.018250645848,
          5802.906886388877,
          5797.795522131906,
          5792.6841578749345,
          5787.572793617964,
          5782.461429360993,
          5777.350065104021,
          5772.2387008470505,
          5767.12733659008,
          5762.015972333109,
          5756.904608076137,
          5751.7932438191665,
          5746.681879562196,
          5741.570515305224,
          5736.459151048253,
          5731.3477867912825,
          5726.236422534312,
          5721.12505827734,
          5716.013694020369,
          5710.9023297633985,
          5705.790965506427,
          5700.679601249456,
          5695.568236992485,
          5690.4568727355145,
          5685.345508478543,
          5680.234144221572,
          5675.122779964601,
          5670.01141570763,
          5664.900051450659,
          5659.788687193688,
          5654.677322936717,
          5649.565958679746,
          5644.454594422775,
          5639.343230165804,
          5634.231865908832,
          5629.120501651862,
          5624.009137394891,
          5618.89777313792,
          5613.786408880948,
          5608.675044623978,
          5603.563680367007,
          5598.452316110035,
          5593.340951853064,
          5588.229587596094,
          5583.118223339123,
          5578.006859082151,
          5572.89549482518,
          5567.78413056821,
          5562.672766311238,
          5557.561402054267,
          5552.450037797296,
          5547.3386735403255,
          5542.227309283354,
          5537.115945026383,
          5532.004580769412,
          5526.893216512441,
          5521.78185225547,
          5516.670487998499,
          5511.559123741528,
          5506.447759484557,
          5501.336395227586,
          5496.225030970615,
          5491.113666713643,
          5486.002302456673,
          5480.890938199702,
          5475.779573942731,
          5470.668209685759,
          5465.556845428789,
          5460.445481171818,
          5455.334116914846,
          5450.222752657875,
          5445.111388400905,
          5440.000024143934,
          5434.888659886962,
          5429.777295629991
         ]
        },
        {
         "line": {
          "dash": "solid"
         },
         "mode": "lines",
         "name": "Trend_PosPandemia Effect",
         "type": "scatter",
         "x": [
          "2016-01-01T00:00:00",
          "2016-02-01T00:00:00",
          "2016-03-01T00:00:00",
          "2016-04-01T00:00:00",
          "2016-05-01T00:00:00",
          "2016-06-01T00:00:00",
          "2016-07-01T00:00:00",
          "2016-08-01T00:00:00",
          "2016-09-01T00:00:00",
          "2016-10-01T00:00:00",
          "2016-11-01T00:00:00",
          "2016-12-01T00:00:00",
          "2017-01-01T00:00:00",
          "2017-02-01T00:00:00",
          "2017-03-01T00:00:00",
          "2017-04-01T00:00:00",
          "2017-05-01T00:00:00",
          "2017-06-01T00:00:00",
          "2017-07-01T00:00:00",
          "2017-08-01T00:00:00",
          "2017-09-01T00:00:00",
          "2017-10-01T00:00:00",
          "2017-11-01T00:00:00",
          "2017-12-01T00:00:00",
          "2018-01-01T00:00:00",
          "2018-02-01T00:00:00",
          "2018-03-01T00:00:00",
          "2018-04-01T00:00:00",
          "2018-05-01T00:00:00",
          "2018-06-01T00:00:00",
          "2018-07-01T00:00:00",
          "2018-08-01T00:00:00",
          "2018-09-01T00:00:00",
          "2018-10-01T00:00:00",
          "2018-11-01T00:00:00",
          "2018-12-01T00:00:00",
          "2019-01-01T00:00:00",
          "2019-02-01T00:00:00",
          "2019-03-01T00:00:00",
          "2019-04-01T00:00:00",
          "2019-05-01T00:00:00",
          "2019-06-01T00:00:00",
          "2019-07-01T00:00:00",
          "2019-08-01T00:00:00",
          "2019-09-01T00:00:00",
          "2019-10-01T00:00:00",
          "2019-11-01T00:00:00",
          "2019-12-01T00:00:00",
          "2020-01-01T00:00:00",
          "2020-02-01T00:00:00",
          "2020-03-01T00:00:00",
          "2020-04-01T00:00:00",
          "2020-05-01T00:00:00",
          "2020-06-01T00:00:00",
          "2020-07-01T00:00:00",
          "2020-08-01T00:00:00",
          "2020-09-01T00:00:00",
          "2020-10-01T00:00:00",
          "2020-11-01T00:00:00",
          "2020-12-01T00:00:00",
          "2021-01-01T00:00:00",
          "2021-02-01T00:00:00",
          "2021-03-01T00:00:00",
          "2021-04-01T00:00:00",
          "2021-05-01T00:00:00",
          "2021-06-01T00:00:00",
          "2021-07-01T00:00:00",
          "2021-08-01T00:00:00",
          "2021-09-01T00:00:00",
          "2021-10-01T00:00:00",
          "2021-11-01T00:00:00",
          "2021-12-01T00:00:00",
          "2022-01-01T00:00:00",
          "2022-02-01T00:00:00",
          "2022-03-01T00:00:00",
          "2022-04-01T00:00:00",
          "2022-05-01T00:00:00",
          "2022-06-01T00:00:00",
          "2022-07-01T00:00:00",
          "2022-08-01T00:00:00",
          "2022-09-01T00:00:00",
          "2022-10-01T00:00:00",
          "2022-11-01T00:00:00",
          "2022-12-01T00:00:00",
          "2023-01-01T00:00:00",
          "2023-02-01T00:00:00",
          "2023-03-01T00:00:00",
          "2023-04-01T00:00:00",
          "2023-05-01T00:00:00",
          "2023-06-01T00:00:00",
          "2023-07-01T00:00:00",
          "2023-08-01T00:00:00",
          "2023-09-01T00:00:00",
          "2023-10-01T00:00:00",
          "2023-11-01T00:00:00",
          "2023-12-01T00:00:00",
          "2024-01-01T00:00:00",
          "2024-02-01T00:00:00",
          "2024-03-01T00:00:00",
          "2024-04-01T00:00:00",
          "2024-05-01T00:00:00",
          "2024-06-01T00:00:00",
          "2024-07-01T00:00:00",
          "2024-08-01T00:00:00",
          "2024-09-01T00:00:00",
          "2024-10-01T00:00:00",
          "2024-11-01T00:00:00",
          "2024-12-01T00:00:00"
         ],
         "y": [
          5976.693271125892,
          5971.581906868921,
          5966.47054261195,
          5961.359178354979,
          5956.247814098008,
          5951.136449841037,
          5946.025085584066,
          5940.913721327095,
          5935.802357070123,
          5930.690992813153,
          5925.579628556182,
          5920.468264299211,
          5915.356900042239,
          5910.245535785269,
          5905.134171528298,
          5900.022807271326,
          5894.911443014355,
          5889.800078757385,
          5884.688714500414,
          5879.577350243442,
          5874.465985986471,
          5869.354621729501,
          5864.243257472529,
          5859.131893215558,
          5854.020528958587,
          5848.909164701617,
          5843.797800444645,
          5838.686436187674,
          5833.575071930703,
          5828.463707673732,
          5823.352343416761,
          5818.24097915979,
          5813.129614902819,
          5808.018250645848,
          5802.906886388877,
          5797.795522131906,
          5792.6841578749345,
          5787.572793617964,
          5782.461429360993,
          5777.350065104021,
          5772.2387008470505,
          5767.12733659008,
          5762.015972333109,
          5756.904608076137,
          5751.7932438191665,
          5746.681879562196,
          5741.570515305224,
          5736.459151048253,
          4291.3477867912825,
          4286.236422534312,
          4281.12505827734,
          4276.013694020369,
          4270.9023297633985,
          4265.790965506427,
          4260.679601249456,
          4359.568236992485,
          4541.4568727355145,
          4723.345508478543,
          4905.234144221572,
          5087.122779964601,
          5269.01141570763,
          5450.900051450659,
          5632.788687193688,
          2779.6773229367172,
          2961.5659586797456,
          6178.454594422775,
          6360.343230165804,
          6542.231865908832,
          6724.120501651862,
          6906.009137394891,
          7088.89777313792,
          7270.786408880948,
          7452.675044623978,
          7634.563680367007,
          7816.452316110035,
          7998.340951853064,
          8180.229587596094,
          8362.118223339123,
          8544.00685908215,
          8725.895494825181,
          8907.784130568209,
          9089.672766311238,
          9271.561402054267,
          9453.450037797296,
          9635.338673540326,
          9818.227309283353,
          10000.115945026384,
          10182.004580769411,
          10363.89321651244,
          10545.78185225547,
          10727.670487998499,
          10909.559123741528,
          11091.447759484556,
          11273.336395227587,
          11455.225030970614,
          11637.113666713643,
          11819.002302456673,
          12000.890938199702,
          12182.779573942731,
          12364.668209685758,
          12546.55684542879,
          12729.445481171817,
          12911.334116914846,
          13093.222752657875,
          13275.111388400905,
          13457.000024143934,
          13638.888659886961,
          13820.777295629992
         ]
        }
       ],
       "layout": {
        "legend": {
         "title": {
          "text": "Legend"
         }
        },
        "shapes": [
         {
          "fillcolor": "White",
          "layer": "below",
          "line": {
           "width": 0
          },
          "opacity": 0.3,
          "type": "rect",
          "x0": "2020-08-01T00:00:00",
          "x1": "2024-12-01T00:00:00",
          "xref": "x",
          "y0": 0,
          "y1": 1,
          "yref": "paper"
         },
         {
          "fillcolor": "LightSalmon",
          "layer": "below",
          "line": {
           "width": 0
          },
          "opacity": 0.3,
          "type": "rect",
          "x0": "2020-01-01T00:00:00",
          "x1": "2020-07-01T00:00:00",
          "xref": "x",
          "y0": 0,
          "y1": 1,
          "yref": "paper"
         },
         {
          "fillcolor": "LightSalmon",
          "layer": "below",
          "line": {
           "width": 0
          },
          "opacity": 0.3,
          "type": "rect",
          "x0": "2021-04-01T00:00:00",
          "x1": "2021-05-01T00:00:00",
          "xref": "x",
          "y0": 0,
          "y1": 1,
          "yref": "paper"
         },
         {
          "fillcolor": "Grey",
          "layer": "below",
          "line": {
           "width": 0
          },
          "opacity": 0.3,
          "type": "rect",
          "x0": "2020-08-01T00:00:00",
          "x1": "2024-12-01T00:00:00",
          "xref": "x",
          "y0": 0,
          "y1": 1,
          "yref": "paper"
         }
        ],
        "template": {
         "data": {
          "bar": [
           {
            "error_x": {
             "color": "#2a3f5f"
            },
            "error_y": {
             "color": "#2a3f5f"
            },
            "marker": {
             "line": {
              "color": "#E5ECF6",
              "width": 0.5
             },
             "pattern": {
              "fillmode": "overlay",
              "size": 10,
              "solidity": 0.2
             }
            },
            "type": "bar"
           }
          ],
          "barpolar": [
           {
            "marker": {
             "line": {
              "color": "#E5ECF6",
              "width": 0.5
             },
             "pattern": {
              "fillmode": "overlay",
              "size": 10,
              "solidity": 0.2
             }
            },
            "type": "barpolar"
           }
          ],
          "carpet": [
           {
            "aaxis": {
             "endlinecolor": "#2a3f5f",
             "gridcolor": "white",
             "linecolor": "white",
             "minorgridcolor": "white",
             "startlinecolor": "#2a3f5f"
            },
            "baxis": {
             "endlinecolor": "#2a3f5f",
             "gridcolor": "white",
             "linecolor": "white",
             "minorgridcolor": "white",
             "startlinecolor": "#2a3f5f"
            },
            "type": "carpet"
           }
          ],
          "choropleth": [
           {
            "colorbar": {
             "outlinewidth": 0,
             "ticks": ""
            },
            "type": "choropleth"
           }
          ],
          "contour": [
           {
            "colorbar": {
             "outlinewidth": 0,
             "ticks": ""
            },
            "colorscale": [
             [
              0,
              "#0d0887"
             ],
             [
              0.1111111111111111,
              "#46039f"
             ],
             [
              0.2222222222222222,
              "#7201a8"
             ],
             [
              0.3333333333333333,
              "#9c179e"
             ],
             [
              0.4444444444444444,
              "#bd3786"
             ],
             [
              0.5555555555555556,
              "#d8576b"
             ],
             [
              0.6666666666666666,
              "#ed7953"
             ],
             [
              0.7777777777777778,
              "#fb9f3a"
             ],
             [
              0.8888888888888888,
              "#fdca26"
             ],
             [
              1,
              "#f0f921"
             ]
            ],
            "type": "contour"
           }
          ],
          "contourcarpet": [
           {
            "colorbar": {
             "outlinewidth": 0,
             "ticks": ""
            },
            "type": "contourcarpet"
           }
          ],
          "heatmap": [
           {
            "colorbar": {
             "outlinewidth": 0,
             "ticks": ""
            },
            "colorscale": [
             [
              0,
              "#0d0887"
             ],
             [
              0.1111111111111111,
              "#46039f"
             ],
             [
              0.2222222222222222,
              "#7201a8"
             ],
             [
              0.3333333333333333,
              "#9c179e"
             ],
             [
              0.4444444444444444,
              "#bd3786"
             ],
             [
              0.5555555555555556,
              "#d8576b"
             ],
             [
              0.6666666666666666,
              "#ed7953"
             ],
             [
              0.7777777777777778,
              "#fb9f3a"
             ],
             [
              0.8888888888888888,
              "#fdca26"
             ],
             [
              1,
              "#f0f921"
             ]
            ],
            "type": "heatmap"
           }
          ],
          "heatmapgl": [
           {
            "colorbar": {
             "outlinewidth": 0,
             "ticks": ""
            },
            "colorscale": [
             [
              0,
              "#0d0887"
             ],
             [
              0.1111111111111111,
              "#46039f"
             ],
             [
              0.2222222222222222,
              "#7201a8"
             ],
             [
              0.3333333333333333,
              "#9c179e"
             ],
             [
              0.4444444444444444,
              "#bd3786"
             ],
             [
              0.5555555555555556,
              "#d8576b"
             ],
             [
              0.6666666666666666,
              "#ed7953"
             ],
             [
              0.7777777777777778,
              "#fb9f3a"
             ],
             [
              0.8888888888888888,
              "#fdca26"
             ],
             [
              1,
              "#f0f921"
             ]
            ],
            "type": "heatmapgl"
           }
          ],
          "histogram": [
           {
            "marker": {
             "pattern": {
              "fillmode": "overlay",
              "size": 10,
              "solidity": 0.2
             }
            },
            "type": "histogram"
           }
          ],
          "histogram2d": [
           {
            "colorbar": {
             "outlinewidth": 0,
             "ticks": ""
            },
            "colorscale": [
             [
              0,
              "#0d0887"
             ],
             [
              0.1111111111111111,
              "#46039f"
             ],
             [
              0.2222222222222222,
              "#7201a8"
             ],
             [
              0.3333333333333333,
              "#9c179e"
             ],
             [
              0.4444444444444444,
              "#bd3786"
             ],
             [
              0.5555555555555556,
              "#d8576b"
             ],
             [
              0.6666666666666666,
              "#ed7953"
             ],
             [
              0.7777777777777778,
              "#fb9f3a"
             ],
             [
              0.8888888888888888,
              "#fdca26"
             ],
             [
              1,
              "#f0f921"
             ]
            ],
            "type": "histogram2d"
           }
          ],
          "histogram2dcontour": [
           {
            "colorbar": {
             "outlinewidth": 0,
             "ticks": ""
            },
            "colorscale": [
             [
              0,
              "#0d0887"
             ],
             [
              0.1111111111111111,
              "#46039f"
             ],
             [
              0.2222222222222222,
              "#7201a8"
             ],
             [
              0.3333333333333333,
              "#9c179e"
             ],
             [
              0.4444444444444444,
              "#bd3786"
             ],
             [
              0.5555555555555556,
              "#d8576b"
             ],
             [
              0.6666666666666666,
              "#ed7953"
             ],
             [
              0.7777777777777778,
              "#fb9f3a"
             ],
             [
              0.8888888888888888,
              "#fdca26"
             ],
             [
              1,
              "#f0f921"
             ]
            ],
            "type": "histogram2dcontour"
           }
          ],
          "mesh3d": [
           {
            "colorbar": {
             "outlinewidth": 0,
             "ticks": ""
            },
            "type": "mesh3d"
           }
          ],
          "parcoords": [
           {
            "line": {
             "colorbar": {
              "outlinewidth": 0,
              "ticks": ""
             }
            },
            "type": "parcoords"
           }
          ],
          "pie": [
           {
            "automargin": true,
            "type": "pie"
           }
          ],
          "scatter": [
           {
            "fillpattern": {
             "fillmode": "overlay",
             "size": 10,
             "solidity": 0.2
            },
            "type": "scatter"
           }
          ],
          "scatter3d": [
           {
            "line": {
             "colorbar": {
              "outlinewidth": 0,
              "ticks": ""
             }
            },
            "marker": {
             "colorbar": {
              "outlinewidth": 0,
              "ticks": ""
             }
            },
            "type": "scatter3d"
           }
          ],
          "scattercarpet": [
           {
            "marker": {
             "colorbar": {
              "outlinewidth": 0,
              "ticks": ""
             }
            },
            "type": "scattercarpet"
           }
          ],
          "scattergeo": [
           {
            "marker": {
             "colorbar": {
              "outlinewidth": 0,
              "ticks": ""
             }
            },
            "type": "scattergeo"
           }
          ],
          "scattergl": [
           {
            "marker": {
             "colorbar": {
              "outlinewidth": 0,
              "ticks": ""
             }
            },
            "type": "scattergl"
           }
          ],
          "scattermapbox": [
           {
            "marker": {
             "colorbar": {
              "outlinewidth": 0,
              "ticks": ""
             }
            },
            "type": "scattermapbox"
           }
          ],
          "scatterpolar": [
           {
            "marker": {
             "colorbar": {
              "outlinewidth": 0,
              "ticks": ""
             }
            },
            "type": "scatterpolar"
           }
          ],
          "scatterpolargl": [
           {
            "marker": {
             "colorbar": {
              "outlinewidth": 0,
              "ticks": ""
             }
            },
            "type": "scatterpolargl"
           }
          ],
          "scatterternary": [
           {
            "marker": {
             "colorbar": {
              "outlinewidth": 0,
              "ticks": ""
             }
            },
            "type": "scatterternary"
           }
          ],
          "surface": [
           {
            "colorbar": {
             "outlinewidth": 0,
             "ticks": ""
            },
            "colorscale": [
             [
              0,
              "#0d0887"
             ],
             [
              0.1111111111111111,
              "#46039f"
             ],
             [
              0.2222222222222222,
              "#7201a8"
             ],
             [
              0.3333333333333333,
              "#9c179e"
             ],
             [
              0.4444444444444444,
              "#bd3786"
             ],
             [
              0.5555555555555556,
              "#d8576b"
             ],
             [
              0.6666666666666666,
              "#ed7953"
             ],
             [
              0.7777777777777778,
              "#fb9f3a"
             ],
             [
              0.8888888888888888,
              "#fdca26"
             ],
             [
              1,
              "#f0f921"
             ]
            ],
            "type": "surface"
           }
          ],
          "table": [
           {
            "cells": {
             "fill": {
              "color": "#EBF0F8"
             },
             "line": {
              "color": "white"
             }
            },
            "header": {
             "fill": {
              "color": "#C8D4E3"
             },
             "line": {
              "color": "white"
             }
            },
            "type": "table"
           }
          ]
         },
         "layout": {
          "annotationdefaults": {
           "arrowcolor": "#2a3f5f",
           "arrowhead": 0,
           "arrowwidth": 1
          },
          "autotypenumbers": "strict",
          "coloraxis": {
           "colorbar": {
            "outlinewidth": 0,
            "ticks": ""
           }
          },
          "colorscale": {
           "diverging": [
            [
             0,
             "#8e0152"
            ],
            [
             0.1,
             "#c51b7d"
            ],
            [
             0.2,
             "#de77ae"
            ],
            [
             0.3,
             "#f1b6da"
            ],
            [
             0.4,
             "#fde0ef"
            ],
            [
             0.5,
             "#f7f7f7"
            ],
            [
             0.6,
             "#e6f5d0"
            ],
            [
             0.7,
             "#b8e186"
            ],
            [
             0.8,
             "#7fbc41"
            ],
            [
             0.9,
             "#4d9221"
            ],
            [
             1,
             "#276419"
            ]
           ],
           "sequential": [
            [
             0,
             "#0d0887"
            ],
            [
             0.1111111111111111,
             "#46039f"
            ],
            [
             0.2222222222222222,
             "#7201a8"
            ],
            [
             0.3333333333333333,
             "#9c179e"
            ],
            [
             0.4444444444444444,
             "#bd3786"
            ],
            [
             0.5555555555555556,
             "#d8576b"
            ],
            [
             0.6666666666666666,
             "#ed7953"
            ],
            [
             0.7777777777777778,
             "#fb9f3a"
            ],
            [
             0.8888888888888888,
             "#fdca26"
            ],
            [
             1,
             "#f0f921"
            ]
           ],
           "sequentialminus": [
            [
             0,
             "#0d0887"
            ],
            [
             0.1111111111111111,
             "#46039f"
            ],
            [
             0.2222222222222222,
             "#7201a8"
            ],
            [
             0.3333333333333333,
             "#9c179e"
            ],
            [
             0.4444444444444444,
             "#bd3786"
            ],
            [
             0.5555555555555556,
             "#d8576b"
            ],
            [
             0.6666666666666666,
             "#ed7953"
            ],
            [
             0.7777777777777778,
             "#fb9f3a"
            ],
            [
             0.8888888888888888,
             "#fdca26"
            ],
            [
             1,
             "#f0f921"
            ]
           ]
          },
          "colorway": [
           "#636efa",
           "#EF553B",
           "#00cc96",
           "#ab63fa",
           "#FFA15A",
           "#19d3f3",
           "#FF6692",
           "#B6E880",
           "#FF97FF",
           "#FECB52"
          ],
          "font": {
           "color": "#2a3f5f"
          },
          "geo": {
           "bgcolor": "white",
           "lakecolor": "white",
           "landcolor": "#E5ECF6",
           "showlakes": true,
           "showland": true,
           "subunitcolor": "white"
          },
          "hoverlabel": {
           "align": "left"
          },
          "hovermode": "closest",
          "mapbox": {
           "style": "light"
          },
          "paper_bgcolor": "white",
          "plot_bgcolor": "#E5ECF6",
          "polar": {
           "angularaxis": {
            "gridcolor": "white",
            "linecolor": "white",
            "ticks": ""
           },
           "bgcolor": "#E5ECF6",
           "radialaxis": {
            "gridcolor": "white",
            "linecolor": "white",
            "ticks": ""
           }
          },
          "scene": {
           "xaxis": {
            "backgroundcolor": "#E5ECF6",
            "gridcolor": "white",
            "gridwidth": 2,
            "linecolor": "white",
            "showbackground": true,
            "ticks": "",
            "zerolinecolor": "white"
           },
           "yaxis": {
            "backgroundcolor": "#E5ECF6",
            "gridcolor": "white",
            "gridwidth": 2,
            "linecolor": "white",
            "showbackground": true,
            "ticks": "",
            "zerolinecolor": "white"
           },
           "zaxis": {
            "backgroundcolor": "#E5ECF6",
            "gridcolor": "white",
            "gridwidth": 2,
            "linecolor": "white",
            "showbackground": true,
            "ticks": "",
            "zerolinecolor": "white"
           }
          },
          "shapedefaults": {
           "line": {
            "color": "#2a3f5f"
           }
          },
          "ternary": {
           "aaxis": {
            "gridcolor": "white",
            "linecolor": "white",
            "ticks": ""
           },
           "baxis": {
            "gridcolor": "white",
            "linecolor": "white",
            "ticks": ""
           },
           "bgcolor": "#E5ECF6",
           "caxis": {
            "gridcolor": "white",
            "linecolor": "white",
            "ticks": ""
           }
          },
          "title": {
           "x": 0.05
          },
          "xaxis": {
           "automargin": true,
           "gridcolor": "white",
           "linecolor": "white",
           "ticks": "",
           "title": {
            "standoff": 15
           },
           "zerolinecolor": "white",
           "zerolinewidth": 2
          },
          "yaxis": {
           "automargin": true,
           "gridcolor": "white",
           "linecolor": "white",
           "ticks": "",
           "title": {
            "standoff": 15
           },
           "zerolinecolor": "white",
           "zerolinewidth": 2
          }
         }
        },
        "title": {
         "text": "_Grand Total"
        },
        "xaxis": {
         "title": {
          "text": "Time"
         }
        },
        "yaxis": {
         "title": {
          "text": "Value"
         }
        }
       }
      }
     },
     "metadata": {},
     "output_type": "display_data"
    },
    {
     "name": "stdout",
     "output_type": "stream",
     "text": [
      "Processing variable: __Atendimentos na APS (exceto saúde mental)\n"
     ]
    },
    {
     "data": {
      "application/vnd.plotly.v1+json": {
       "config": {
        "plotlyServerURL": "https://plot.ly"
       },
       "data": [
        {
         "marker": {
          "color": "blue"
         },
         "mode": "markers",
         "name": "Real",
         "type": "scatter",
         "x": [
          "2016-01-01T00:00:00",
          "2016-02-01T00:00:00",
          "2016-03-01T00:00:00",
          "2016-04-01T00:00:00",
          "2016-05-01T00:00:00",
          "2016-06-01T00:00:00",
          "2016-07-01T00:00:00",
          "2016-08-01T00:00:00",
          "2016-09-01T00:00:00",
          "2016-10-01T00:00:00",
          "2016-11-01T00:00:00",
          "2016-12-01T00:00:00",
          "2017-01-01T00:00:00",
          "2017-02-01T00:00:00",
          "2017-03-01T00:00:00",
          "2017-04-01T00:00:00",
          "2017-05-01T00:00:00",
          "2017-06-01T00:00:00",
          "2017-07-01T00:00:00",
          "2017-08-01T00:00:00",
          "2017-09-01T00:00:00",
          "2017-10-01T00:00:00",
          "2017-11-01T00:00:00",
          "2017-12-01T00:00:00",
          "2018-01-01T00:00:00",
          "2018-02-01T00:00:00",
          "2018-03-01T00:00:00",
          "2018-04-01T00:00:00",
          "2018-05-01T00:00:00",
          "2018-06-01T00:00:00",
          "2018-07-01T00:00:00",
          "2018-08-01T00:00:00",
          "2018-09-01T00:00:00",
          "2018-10-01T00:00:00",
          "2018-11-01T00:00:00",
          "2018-12-01T00:00:00",
          "2019-01-01T00:00:00",
          "2019-02-01T00:00:00",
          "2019-03-01T00:00:00",
          "2019-04-01T00:00:00",
          "2019-05-01T00:00:00",
          "2019-06-01T00:00:00",
          "2019-07-01T00:00:00",
          "2019-08-01T00:00:00",
          "2019-09-01T00:00:00",
          "2019-10-01T00:00:00",
          "2019-11-01T00:00:00",
          "2019-12-01T00:00:00",
          "2020-01-01T00:00:00",
          "2020-02-01T00:00:00",
          "2020-03-01T00:00:00",
          "2020-04-01T00:00:00",
          "2020-05-01T00:00:00",
          "2020-06-01T00:00:00",
          "2020-07-01T00:00:00",
          "2020-08-01T00:00:00",
          "2020-09-01T00:00:00",
          "2020-10-01T00:00:00",
          "2020-11-01T00:00:00",
          "2020-12-01T00:00:00",
          "2021-01-01T00:00:00",
          "2021-02-01T00:00:00",
          "2021-03-01T00:00:00",
          "2021-04-01T00:00:00",
          "2021-05-01T00:00:00",
          "2021-06-01T00:00:00",
          "2021-07-01T00:00:00",
          "2021-08-01T00:00:00",
          "2021-09-01T00:00:00",
          "2021-10-01T00:00:00",
          "2021-11-01T00:00:00",
          "2021-12-01T00:00:00",
          "2022-01-01T00:00:00",
          "2022-02-01T00:00:00",
          "2022-03-01T00:00:00",
          "2022-04-01T00:00:00",
          "2022-05-01T00:00:00",
          "2022-06-01T00:00:00",
          "2022-07-01T00:00:00",
          "2022-08-01T00:00:00",
          "2022-09-01T00:00:00",
          "2022-10-01T00:00:00",
          "2022-11-01T00:00:00",
          "2022-12-01T00:00:00",
          "2023-01-01T00:00:00",
          "2023-02-01T00:00:00",
          "2023-03-01T00:00:00",
          "2023-04-01T00:00:00",
          "2023-05-01T00:00:00",
          "2023-06-01T00:00:00",
          "2023-07-01T00:00:00",
          "2023-08-01T00:00:00",
          "2023-09-01T00:00:00",
          "2023-10-01T00:00:00",
          "2023-11-01T00:00:00",
          "2023-12-01T00:00:00",
          "2024-01-01T00:00:00",
          "2024-02-01T00:00:00",
          "2024-03-01T00:00:00",
          "2024-04-01T00:00:00",
          "2024-05-01T00:00:00",
          "2024-06-01T00:00:00",
          "2024-07-01T00:00:00",
          "2024-08-01T00:00:00",
          "2024-09-01T00:00:00",
          "2024-10-01T00:00:00",
          "2024-11-01T00:00:00",
          "2024-12-01T00:00:00"
         ],
         "y": [
          74093,
          71969,
          107801,
          88941,
          120012,
          122526,
          115321,
          147190,
          120650,
          122986,
          91588,
          86493,
          95891,
          78437,
          123378,
          107450,
          124783,
          116262,
          114118,
          122593,
          116314,
          116265,
          121010,
          110927,
          122947,
          97921,
          130705,
          140568,
          140530,
          129175,
          135373,
          145679,
          123428,
          161964,
          135169,
          114358,
          134804,
          131051,
          129019,
          157196,
          164431,
          141871,
          159215,
          153825,
          119253,
          131196,
          106229,
          93659,
          119860,
          107686,
          114828,
          86377,
          98407,
          115381,
          127570,
          135439,
          147355,
          155600,
          169745,
          164330,
          166373,
          172035,
          199666,
          114545,
          48459,
          197574,
          206553,
          218736,
          207100,
          221887,
          205926,
          212460,
          261339,
          191748,
          229566,
          199671,
          240772,
          241851,
          231227,
          244566,
          215775,
          224278,
          237029,
          247284,
          228896,
          180244,
          254708,
          228121,
          288167,
          242851,
          234264,
          268477,
          207192,
          255622,
          239556,
          232490,
          235276,
          214956,
          249689,
          287853,
          188822,
          238007,
          265185,
          265231,
          253097,
          292153,
          235030,
          220687
         ]
        },
        {
         "line": {
          "color": "black",
          "dash": "dot"
         },
         "mode": "lines",
         "name": "Baseline",
         "type": "scatter",
         "x": [
          "2016-01-01T00:00:00",
          "2016-02-01T00:00:00",
          "2016-03-01T00:00:00",
          "2016-04-01T00:00:00",
          "2016-05-01T00:00:00",
          "2016-06-01T00:00:00",
          "2016-07-01T00:00:00",
          "2016-08-01T00:00:00",
          "2016-09-01T00:00:00",
          "2016-10-01T00:00:00",
          "2016-11-01T00:00:00",
          "2016-12-01T00:00:00",
          "2017-01-01T00:00:00",
          "2017-02-01T00:00:00",
          "2017-03-01T00:00:00",
          "2017-04-01T00:00:00",
          "2017-05-01T00:00:00",
          "2017-06-01T00:00:00",
          "2017-07-01T00:00:00",
          "2017-08-01T00:00:00",
          "2017-09-01T00:00:00",
          "2017-10-01T00:00:00",
          "2017-11-01T00:00:00",
          "2017-12-01T00:00:00",
          "2018-01-01T00:00:00",
          "2018-02-01T00:00:00",
          "2018-03-01T00:00:00",
          "2018-04-01T00:00:00",
          "2018-05-01T00:00:00",
          "2018-06-01T00:00:00",
          "2018-07-01T00:00:00",
          "2018-08-01T00:00:00",
          "2018-09-01T00:00:00",
          "2018-10-01T00:00:00",
          "2018-11-01T00:00:00",
          "2018-12-01T00:00:00",
          "2019-01-01T00:00:00",
          "2019-02-01T00:00:00",
          "2019-03-01T00:00:00",
          "2019-04-01T00:00:00",
          "2019-05-01T00:00:00",
          "2019-06-01T00:00:00",
          "2019-07-01T00:00:00",
          "2019-08-01T00:00:00",
          "2019-09-01T00:00:00",
          "2019-10-01T00:00:00",
          "2019-11-01T00:00:00",
          "2019-12-01T00:00:00",
          "2020-01-01T00:00:00",
          "2020-02-01T00:00:00",
          "2020-03-01T00:00:00",
          "2020-04-01T00:00:00",
          "2020-05-01T00:00:00",
          "2020-06-01T00:00:00",
          "2020-07-01T00:00:00",
          "2020-08-01T00:00:00",
          "2020-09-01T00:00:00",
          "2020-10-01T00:00:00",
          "2020-11-01T00:00:00",
          "2020-12-01T00:00:00",
          "2021-01-01T00:00:00",
          "2021-02-01T00:00:00",
          "2021-03-01T00:00:00",
          "2021-04-01T00:00:00",
          "2021-05-01T00:00:00",
          "2021-06-01T00:00:00",
          "2021-07-01T00:00:00",
          "2021-08-01T00:00:00",
          "2021-09-01T00:00:00",
          "2021-10-01T00:00:00",
          "2021-11-01T00:00:00",
          "2021-12-01T00:00:00",
          "2022-01-01T00:00:00",
          "2022-02-01T00:00:00",
          "2022-03-01T00:00:00",
          "2022-04-01T00:00:00",
          "2022-05-01T00:00:00",
          "2022-06-01T00:00:00",
          "2022-07-01T00:00:00",
          "2022-08-01T00:00:00",
          "2022-09-01T00:00:00",
          "2022-10-01T00:00:00",
          "2022-11-01T00:00:00",
          "2022-12-01T00:00:00",
          "2023-01-01T00:00:00",
          "2023-02-01T00:00:00",
          "2023-03-01T00:00:00",
          "2023-04-01T00:00:00",
          "2023-05-01T00:00:00",
          "2023-06-01T00:00:00",
          "2023-07-01T00:00:00",
          "2023-08-01T00:00:00",
          "2023-09-01T00:00:00",
          "2023-10-01T00:00:00",
          "2023-11-01T00:00:00",
          "2023-12-01T00:00:00",
          "2024-01-01T00:00:00",
          "2024-02-01T00:00:00",
          "2024-03-01T00:00:00",
          "2024-04-01T00:00:00",
          "2024-05-01T00:00:00",
          "2024-06-01T00:00:00",
          "2024-07-01T00:00:00",
          "2024-08-01T00:00:00",
          "2024-09-01T00:00:00",
          "2024-10-01T00:00:00",
          "2024-11-01T00:00:00",
          "2024-12-01T00:00:00"
         ],
         "y": [
          100602.4553672334,
          101493.7705187558,
          102385.08567027822,
          103276.40082180062,
          104167.71597332302,
          105059.03112484542,
          105950.34627636784,
          106841.66142789024,
          107732.97657941264,
          108624.29173093505,
          109515.60688245746,
          110406.92203397986,
          111298.23718550226,
          112189.55233702467,
          113080.86748854708,
          113972.18264006948,
          114863.49779159189,
          115754.81294311429,
          116646.12809463669,
          117537.4432461591,
          118428.75839768151,
          119320.07354920391,
          120211.38870072633,
          121102.70385224873,
          121994.01900377113,
          122885.33415529353,
          123776.64930681593,
          124667.96445833833,
          125559.27960986075,
          126450.59476138315,
          127341.90991290555,
          128233.22506442797,
          129124.54021595037,
          130015.85536747277,
          130907.17051899518,
          131798.48567051758,
          132689.80082203998,
          133581.1159735624,
          134472.4311250848,
          135363.7462766072,
          136255.06142812961,
          137146.37657965202,
          138037.69173117442,
          138929.00688269682,
          139820.32203421922,
          140711.63718574162,
          141602.95233726403,
          142494.26748878643,
          143385.58264030886,
          144276.89779183126,
          145168.21294335366,
          146059.52809487606,
          146950.84324639846,
          147842.15839792087,
          148733.4735494433,
          149624.7887009657,
          150516.1038524881,
          151407.4190040105,
          152298.7341555329,
          153190.0493070553,
          154081.3644585777,
          154972.6796101001,
          155863.9947616225,
          156755.3099131449,
          157646.6250646673,
          158537.94021618975,
          159429.25536771215,
          160320.57051923455,
          161211.88567075695,
          162103.20082227935,
          162994.51597380175,
          163885.83112532418,
          164777.1462768466,
          165668.461428369,
          166559.7765798914,
          167451.0917314138,
          168342.4068829362,
          169233.7220344586,
          170125.037185981,
          171016.3523375034,
          171907.6674890258,
          172798.9826405482,
          173690.2977920706,
          174581.61294359303,
          175472.92809511544,
          176364.24324663784,
          177255.55839816024,
          178146.87354968267,
          179038.18870120507,
          179929.50385272747,
          180820.81900424988,
          181712.13415577228,
          182603.44930729468,
          183494.76445881708,
          184386.07961033948,
          185277.39476186188,
          186168.7099133843,
          187060.0250649067,
          187951.3402164291,
          188842.6553679515,
          189733.97051947392,
          190625.28567099632,
          191516.60082251873,
          192407.91597404113,
          193299.23112556356,
          194190.54627708596,
          195081.86142860836,
          195973.17658013076
         ]
        },
        {
         "line": {
          "dash": "solid"
         },
         "mode": "lines",
         "name": "Trend_PosPandemia Effect",
         "type": "scatter",
         "x": [
          "2016-01-01T00:00:00",
          "2016-02-01T00:00:00",
          "2016-03-01T00:00:00",
          "2016-04-01T00:00:00",
          "2016-05-01T00:00:00",
          "2016-06-01T00:00:00",
          "2016-07-01T00:00:00",
          "2016-08-01T00:00:00",
          "2016-09-01T00:00:00",
          "2016-10-01T00:00:00",
          "2016-11-01T00:00:00",
          "2016-12-01T00:00:00",
          "2017-01-01T00:00:00",
          "2017-02-01T00:00:00",
          "2017-03-01T00:00:00",
          "2017-04-01T00:00:00",
          "2017-05-01T00:00:00",
          "2017-06-01T00:00:00",
          "2017-07-01T00:00:00",
          "2017-08-01T00:00:00",
          "2017-09-01T00:00:00",
          "2017-10-01T00:00:00",
          "2017-11-01T00:00:00",
          "2017-12-01T00:00:00",
          "2018-01-01T00:00:00",
          "2018-02-01T00:00:00",
          "2018-03-01T00:00:00",
          "2018-04-01T00:00:00",
          "2018-05-01T00:00:00",
          "2018-06-01T00:00:00",
          "2018-07-01T00:00:00",
          "2018-08-01T00:00:00",
          "2018-09-01T00:00:00",
          "2018-10-01T00:00:00",
          "2018-11-01T00:00:00",
          "2018-12-01T00:00:00",
          "2019-01-01T00:00:00",
          "2019-02-01T00:00:00",
          "2019-03-01T00:00:00",
          "2019-04-01T00:00:00",
          "2019-05-01T00:00:00",
          "2019-06-01T00:00:00",
          "2019-07-01T00:00:00",
          "2019-08-01T00:00:00",
          "2019-09-01T00:00:00",
          "2019-10-01T00:00:00",
          "2019-11-01T00:00:00",
          "2019-12-01T00:00:00",
          "2020-01-01T00:00:00",
          "2020-02-01T00:00:00",
          "2020-03-01T00:00:00",
          "2020-04-01T00:00:00",
          "2020-05-01T00:00:00",
          "2020-06-01T00:00:00",
          "2020-07-01T00:00:00",
          "2020-08-01T00:00:00",
          "2020-09-01T00:00:00",
          "2020-10-01T00:00:00",
          "2020-11-01T00:00:00",
          "2020-12-01T00:00:00",
          "2021-01-01T00:00:00",
          "2021-02-01T00:00:00",
          "2021-03-01T00:00:00",
          "2021-04-01T00:00:00",
          "2021-05-01T00:00:00",
          "2021-06-01T00:00:00",
          "2021-07-01T00:00:00",
          "2021-08-01T00:00:00",
          "2021-09-01T00:00:00",
          "2021-10-01T00:00:00",
          "2021-11-01T00:00:00",
          "2021-12-01T00:00:00",
          "2022-01-01T00:00:00",
          "2022-02-01T00:00:00",
          "2022-03-01T00:00:00",
          "2022-04-01T00:00:00",
          "2022-05-01T00:00:00",
          "2022-06-01T00:00:00",
          "2022-07-01T00:00:00",
          "2022-08-01T00:00:00",
          "2022-09-01T00:00:00",
          "2022-10-01T00:00:00",
          "2022-11-01T00:00:00",
          "2022-12-01T00:00:00",
          "2023-01-01T00:00:00",
          "2023-02-01T00:00:00",
          "2023-03-01T00:00:00",
          "2023-04-01T00:00:00",
          "2023-05-01T00:00:00",
          "2023-06-01T00:00:00",
          "2023-07-01T00:00:00",
          "2023-08-01T00:00:00",
          "2023-09-01T00:00:00",
          "2023-10-01T00:00:00",
          "2023-11-01T00:00:00",
          "2023-12-01T00:00:00",
          "2024-01-01T00:00:00",
          "2024-02-01T00:00:00",
          "2024-03-01T00:00:00",
          "2024-04-01T00:00:00",
          "2024-05-01T00:00:00",
          "2024-06-01T00:00:00",
          "2024-07-01T00:00:00",
          "2024-08-01T00:00:00",
          "2024-09-01T00:00:00",
          "2024-10-01T00:00:00",
          "2024-11-01T00:00:00",
          "2024-12-01T00:00:00"
         ],
         "y": [
          100602.4553672334,
          101493.7705187558,
          102385.08567027822,
          103276.40082180062,
          104167.71597332302,
          105059.03112484542,
          105950.34627636784,
          106841.66142789024,
          107732.97657941264,
          108624.29173093505,
          109515.60688245746,
          110406.92203397986,
          111298.23718550226,
          112189.55233702467,
          113080.86748854708,
          113972.18264006948,
          114863.49779159189,
          115754.81294311429,
          116646.12809463669,
          117537.4432461591,
          118428.75839768151,
          119320.07354920391,
          120211.38870072633,
          121102.70385224873,
          121994.01900377113,
          122885.33415529353,
          123776.64930681593,
          124667.96445833833,
          125559.27960986075,
          126450.59476138315,
          127341.90991290555,
          128233.22506442797,
          129124.54021595037,
          130015.85536747277,
          130907.17051899518,
          131798.48567051758,
          132689.80082203998,
          133581.1159735624,
          134472.4311250848,
          135363.7462766072,
          136255.06142812961,
          137146.37657965202,
          138037.69173117442,
          138929.00688269682,
          139820.32203421922,
          140711.63718574162,
          141602.95233726403,
          142494.26748878643,
          106557.58264030886,
          107448.89779183126,
          108340.21294335366,
          109231.52809487606,
          110122.84324639846,
          111014.15839792087,
          111905.4735494433,
          177816.7887009657,
          179547.1038524881,
          181277.4190040105,
          183007.7341555329,
          184738.0493070553,
          186467.3644585777,
          188197.6796101001,
          189927.9947616225,
          108942.30991314491,
          110672.62506466731,
          195117.94021618975,
          196848.25536771215,
          198578.57051923455,
          200308.88567075695,
          202039.20082227935,
          203769.51597380175,
          205498.83112532418,
          207229.1462768466,
          208959.461428369,
          210689.7765798914,
          212420.0917314138,
          214149.4068829362,
          215879.7220344586,
          217610.037185981,
          219340.3523375034,
          221070.6674890258,
          222800.9826405482,
          224530.2977920706,
          226260.61294359303,
          227990.92809511544,
          229721.24324663784,
          231451.55839816024,
          233180.87354968267,
          234911.18870120507,
          236641.50385272747,
          238371.81900424988,
          240102.13415577228,
          241831.44930729468,
          243561.76445881708,
          245292.07961033948,
          247022.39476186188,
          248752.7099133843,
          250483.0250649067,
          252212.3402164291,
          253942.6553679515,
          255672.97051947392,
          257403.28567099632,
          259133.60082251873,
          260862.91597404113,
          262593.23112556356,
          264323.54627708596,
          266053.86142860836,
          267784.17658013076
         ]
        }
       ],
       "layout": {
        "legend": {
         "title": {
          "text": "Legend"
         }
        },
        "shapes": [
         {
          "fillcolor": "White",
          "layer": "below",
          "line": {
           "width": 0
          },
          "opacity": 0.3,
          "type": "rect",
          "x0": "2020-08-01T00:00:00",
          "x1": "2024-12-01T00:00:00",
          "xref": "x",
          "y0": 0,
          "y1": 1,
          "yref": "paper"
         },
         {
          "fillcolor": "LightSalmon",
          "layer": "below",
          "line": {
           "width": 0
          },
          "opacity": 0.3,
          "type": "rect",
          "x0": "2020-01-01T00:00:00",
          "x1": "2020-07-01T00:00:00",
          "xref": "x",
          "y0": 0,
          "y1": 1,
          "yref": "paper"
         },
         {
          "fillcolor": "LightSalmon",
          "layer": "below",
          "line": {
           "width": 0
          },
          "opacity": 0.3,
          "type": "rect",
          "x0": "2021-04-01T00:00:00",
          "x1": "2021-05-01T00:00:00",
          "xref": "x",
          "y0": 0,
          "y1": 1,
          "yref": "paper"
         },
         {
          "fillcolor": "Grey",
          "layer": "below",
          "line": {
           "width": 0
          },
          "opacity": 0.3,
          "type": "rect",
          "x0": "2020-08-01T00:00:00",
          "x1": "2024-12-01T00:00:00",
          "xref": "x",
          "y0": 0,
          "y1": 1,
          "yref": "paper"
         }
        ],
        "template": {
         "data": {
          "bar": [
           {
            "error_x": {
             "color": "#2a3f5f"
            },
            "error_y": {
             "color": "#2a3f5f"
            },
            "marker": {
             "line": {
              "color": "#E5ECF6",
              "width": 0.5
             },
             "pattern": {
              "fillmode": "overlay",
              "size": 10,
              "solidity": 0.2
             }
            },
            "type": "bar"
           }
          ],
          "barpolar": [
           {
            "marker": {
             "line": {
              "color": "#E5ECF6",
              "width": 0.5
             },
             "pattern": {
              "fillmode": "overlay",
              "size": 10,
              "solidity": 0.2
             }
            },
            "type": "barpolar"
           }
          ],
          "carpet": [
           {
            "aaxis": {
             "endlinecolor": "#2a3f5f",
             "gridcolor": "white",
             "linecolor": "white",
             "minorgridcolor": "white",
             "startlinecolor": "#2a3f5f"
            },
            "baxis": {
             "endlinecolor": "#2a3f5f",
             "gridcolor": "white",
             "linecolor": "white",
             "minorgridcolor": "white",
             "startlinecolor": "#2a3f5f"
            },
            "type": "carpet"
           }
          ],
          "choropleth": [
           {
            "colorbar": {
             "outlinewidth": 0,
             "ticks": ""
            },
            "type": "choropleth"
           }
          ],
          "contour": [
           {
            "colorbar": {
             "outlinewidth": 0,
             "ticks": ""
            },
            "colorscale": [
             [
              0,
              "#0d0887"
             ],
             [
              0.1111111111111111,
              "#46039f"
             ],
             [
              0.2222222222222222,
              "#7201a8"
             ],
             [
              0.3333333333333333,
              "#9c179e"
             ],
             [
              0.4444444444444444,
              "#bd3786"
             ],
             [
              0.5555555555555556,
              "#d8576b"
             ],
             [
              0.6666666666666666,
              "#ed7953"
             ],
             [
              0.7777777777777778,
              "#fb9f3a"
             ],
             [
              0.8888888888888888,
              "#fdca26"
             ],
             [
              1,
              "#f0f921"
             ]
            ],
            "type": "contour"
           }
          ],
          "contourcarpet": [
           {
            "colorbar": {
             "outlinewidth": 0,
             "ticks": ""
            },
            "type": "contourcarpet"
           }
          ],
          "heatmap": [
           {
            "colorbar": {
             "outlinewidth": 0,
             "ticks": ""
            },
            "colorscale": [
             [
              0,
              "#0d0887"
             ],
             [
              0.1111111111111111,
              "#46039f"
             ],
             [
              0.2222222222222222,
              "#7201a8"
             ],
             [
              0.3333333333333333,
              "#9c179e"
             ],
             [
              0.4444444444444444,
              "#bd3786"
             ],
             [
              0.5555555555555556,
              "#d8576b"
             ],
             [
              0.6666666666666666,
              "#ed7953"
             ],
             [
              0.7777777777777778,
              "#fb9f3a"
             ],
             [
              0.8888888888888888,
              "#fdca26"
             ],
             [
              1,
              "#f0f921"
             ]
            ],
            "type": "heatmap"
           }
          ],
          "heatmapgl": [
           {
            "colorbar": {
             "outlinewidth": 0,
             "ticks": ""
            },
            "colorscale": [
             [
              0,
              "#0d0887"
             ],
             [
              0.1111111111111111,
              "#46039f"
             ],
             [
              0.2222222222222222,
              "#7201a8"
             ],
             [
              0.3333333333333333,
              "#9c179e"
             ],
             [
              0.4444444444444444,
              "#bd3786"
             ],
             [
              0.5555555555555556,
              "#d8576b"
             ],
             [
              0.6666666666666666,
              "#ed7953"
             ],
             [
              0.7777777777777778,
              "#fb9f3a"
             ],
             [
              0.8888888888888888,
              "#fdca26"
             ],
             [
              1,
              "#f0f921"
             ]
            ],
            "type": "heatmapgl"
           }
          ],
          "histogram": [
           {
            "marker": {
             "pattern": {
              "fillmode": "overlay",
              "size": 10,
              "solidity": 0.2
             }
            },
            "type": "histogram"
           }
          ],
          "histogram2d": [
           {
            "colorbar": {
             "outlinewidth": 0,
             "ticks": ""
            },
            "colorscale": [
             [
              0,
              "#0d0887"
             ],
             [
              0.1111111111111111,
              "#46039f"
             ],
             [
              0.2222222222222222,
              "#7201a8"
             ],
             [
              0.3333333333333333,
              "#9c179e"
             ],
             [
              0.4444444444444444,
              "#bd3786"
             ],
             [
              0.5555555555555556,
              "#d8576b"
             ],
             [
              0.6666666666666666,
              "#ed7953"
             ],
             [
              0.7777777777777778,
              "#fb9f3a"
             ],
             [
              0.8888888888888888,
              "#fdca26"
             ],
             [
              1,
              "#f0f921"
             ]
            ],
            "type": "histogram2d"
           }
          ],
          "histogram2dcontour": [
           {
            "colorbar": {
             "outlinewidth": 0,
             "ticks": ""
            },
            "colorscale": [
             [
              0,
              "#0d0887"
             ],
             [
              0.1111111111111111,
              "#46039f"
             ],
             [
              0.2222222222222222,
              "#7201a8"
             ],
             [
              0.3333333333333333,
              "#9c179e"
             ],
             [
              0.4444444444444444,
              "#bd3786"
             ],
             [
              0.5555555555555556,
              "#d8576b"
             ],
             [
              0.6666666666666666,
              "#ed7953"
             ],
             [
              0.7777777777777778,
              "#fb9f3a"
             ],
             [
              0.8888888888888888,
              "#fdca26"
             ],
             [
              1,
              "#f0f921"
             ]
            ],
            "type": "histogram2dcontour"
           }
          ],
          "mesh3d": [
           {
            "colorbar": {
             "outlinewidth": 0,
             "ticks": ""
            },
            "type": "mesh3d"
           }
          ],
          "parcoords": [
           {
            "line": {
             "colorbar": {
              "outlinewidth": 0,
              "ticks": ""
             }
            },
            "type": "parcoords"
           }
          ],
          "pie": [
           {
            "automargin": true,
            "type": "pie"
           }
          ],
          "scatter": [
           {
            "fillpattern": {
             "fillmode": "overlay",
             "size": 10,
             "solidity": 0.2
            },
            "type": "scatter"
           }
          ],
          "scatter3d": [
           {
            "line": {
             "colorbar": {
              "outlinewidth": 0,
              "ticks": ""
             }
            },
            "marker": {
             "colorbar": {
              "outlinewidth": 0,
              "ticks": ""
             }
            },
            "type": "scatter3d"
           }
          ],
          "scattercarpet": [
           {
            "marker": {
             "colorbar": {
              "outlinewidth": 0,
              "ticks": ""
             }
            },
            "type": "scattercarpet"
           }
          ],
          "scattergeo": [
           {
            "marker": {
             "colorbar": {
              "outlinewidth": 0,
              "ticks": ""
             }
            },
            "type": "scattergeo"
           }
          ],
          "scattergl": [
           {
            "marker": {
             "colorbar": {
              "outlinewidth": 0,
              "ticks": ""
             }
            },
            "type": "scattergl"
           }
          ],
          "scattermapbox": [
           {
            "marker": {
             "colorbar": {
              "outlinewidth": 0,
              "ticks": ""
             }
            },
            "type": "scattermapbox"
           }
          ],
          "scatterpolar": [
           {
            "marker": {
             "colorbar": {
              "outlinewidth": 0,
              "ticks": ""
             }
            },
            "type": "scatterpolar"
           }
          ],
          "scatterpolargl": [
           {
            "marker": {
             "colorbar": {
              "outlinewidth": 0,
              "ticks": ""
             }
            },
            "type": "scatterpolargl"
           }
          ],
          "scatterternary": [
           {
            "marker": {
             "colorbar": {
              "outlinewidth": 0,
              "ticks": ""
             }
            },
            "type": "scatterternary"
           }
          ],
          "surface": [
           {
            "colorbar": {
             "outlinewidth": 0,
             "ticks": ""
            },
            "colorscale": [
             [
              0,
              "#0d0887"
             ],
             [
              0.1111111111111111,
              "#46039f"
             ],
             [
              0.2222222222222222,
              "#7201a8"
             ],
             [
              0.3333333333333333,
              "#9c179e"
             ],
             [
              0.4444444444444444,
              "#bd3786"
             ],
             [
              0.5555555555555556,
              "#d8576b"
             ],
             [
              0.6666666666666666,
              "#ed7953"
             ],
             [
              0.7777777777777778,
              "#fb9f3a"
             ],
             [
              0.8888888888888888,
              "#fdca26"
             ],
             [
              1,
              "#f0f921"
             ]
            ],
            "type": "surface"
           }
          ],
          "table": [
           {
            "cells": {
             "fill": {
              "color": "#EBF0F8"
             },
             "line": {
              "color": "white"
             }
            },
            "header": {
             "fill": {
              "color": "#C8D4E3"
             },
             "line": {
              "color": "white"
             }
            },
            "type": "table"
           }
          ]
         },
         "layout": {
          "annotationdefaults": {
           "arrowcolor": "#2a3f5f",
           "arrowhead": 0,
           "arrowwidth": 1
          },
          "autotypenumbers": "strict",
          "coloraxis": {
           "colorbar": {
            "outlinewidth": 0,
            "ticks": ""
           }
          },
          "colorscale": {
           "diverging": [
            [
             0,
             "#8e0152"
            ],
            [
             0.1,
             "#c51b7d"
            ],
            [
             0.2,
             "#de77ae"
            ],
            [
             0.3,
             "#f1b6da"
            ],
            [
             0.4,
             "#fde0ef"
            ],
            [
             0.5,
             "#f7f7f7"
            ],
            [
             0.6,
             "#e6f5d0"
            ],
            [
             0.7,
             "#b8e186"
            ],
            [
             0.8,
             "#7fbc41"
            ],
            [
             0.9,
             "#4d9221"
            ],
            [
             1,
             "#276419"
            ]
           ],
           "sequential": [
            [
             0,
             "#0d0887"
            ],
            [
             0.1111111111111111,
             "#46039f"
            ],
            [
             0.2222222222222222,
             "#7201a8"
            ],
            [
             0.3333333333333333,
             "#9c179e"
            ],
            [
             0.4444444444444444,
             "#bd3786"
            ],
            [
             0.5555555555555556,
             "#d8576b"
            ],
            [
             0.6666666666666666,
             "#ed7953"
            ],
            [
             0.7777777777777778,
             "#fb9f3a"
            ],
            [
             0.8888888888888888,
             "#fdca26"
            ],
            [
             1,
             "#f0f921"
            ]
           ],
           "sequentialminus": [
            [
             0,
             "#0d0887"
            ],
            [
             0.1111111111111111,
             "#46039f"
            ],
            [
             0.2222222222222222,
             "#7201a8"
            ],
            [
             0.3333333333333333,
             "#9c179e"
            ],
            [
             0.4444444444444444,
             "#bd3786"
            ],
            [
             0.5555555555555556,
             "#d8576b"
            ],
            [
             0.6666666666666666,
             "#ed7953"
            ],
            [
             0.7777777777777778,
             "#fb9f3a"
            ],
            [
             0.8888888888888888,
             "#fdca26"
            ],
            [
             1,
             "#f0f921"
            ]
           ]
          },
          "colorway": [
           "#636efa",
           "#EF553B",
           "#00cc96",
           "#ab63fa",
           "#FFA15A",
           "#19d3f3",
           "#FF6692",
           "#B6E880",
           "#FF97FF",
           "#FECB52"
          ],
          "font": {
           "color": "#2a3f5f"
          },
          "geo": {
           "bgcolor": "white",
           "lakecolor": "white",
           "landcolor": "#E5ECF6",
           "showlakes": true,
           "showland": true,
           "subunitcolor": "white"
          },
          "hoverlabel": {
           "align": "left"
          },
          "hovermode": "closest",
          "mapbox": {
           "style": "light"
          },
          "paper_bgcolor": "white",
          "plot_bgcolor": "#E5ECF6",
          "polar": {
           "angularaxis": {
            "gridcolor": "white",
            "linecolor": "white",
            "ticks": ""
           },
           "bgcolor": "#E5ECF6",
           "radialaxis": {
            "gridcolor": "white",
            "linecolor": "white",
            "ticks": ""
           }
          },
          "scene": {
           "xaxis": {
            "backgroundcolor": "#E5ECF6",
            "gridcolor": "white",
            "gridwidth": 2,
            "linecolor": "white",
            "showbackground": true,
            "ticks": "",
            "zerolinecolor": "white"
           },
           "yaxis": {
            "backgroundcolor": "#E5ECF6",
            "gridcolor": "white",
            "gridwidth": 2,
            "linecolor": "white",
            "showbackground": true,
            "ticks": "",
            "zerolinecolor": "white"
           },
           "zaxis": {
            "backgroundcolor": "#E5ECF6",
            "gridcolor": "white",
            "gridwidth": 2,
            "linecolor": "white",
            "showbackground": true,
            "ticks": "",
            "zerolinecolor": "white"
           }
          },
          "shapedefaults": {
           "line": {
            "color": "#2a3f5f"
           }
          },
          "ternary": {
           "aaxis": {
            "gridcolor": "white",
            "linecolor": "white",
            "ticks": ""
           },
           "baxis": {
            "gridcolor": "white",
            "linecolor": "white",
            "ticks": ""
           },
           "bgcolor": "#E5ECF6",
           "caxis": {
            "gridcolor": "white",
            "linecolor": "white",
            "ticks": ""
           }
          },
          "title": {
           "x": 0.05
          },
          "xaxis": {
           "automargin": true,
           "gridcolor": "white",
           "linecolor": "white",
           "ticks": "",
           "title": {
            "standoff": 15
           },
           "zerolinecolor": "white",
           "zerolinewidth": 2
          },
          "yaxis": {
           "automargin": true,
           "gridcolor": "white",
           "linecolor": "white",
           "ticks": "",
           "title": {
            "standoff": 15
           },
           "zerolinecolor": "white",
           "zerolinewidth": 2
          }
         }
        },
        "title": {
         "text": "__Atendimentos na APS (exceto saúde mental)"
        },
        "xaxis": {
         "title": {
          "text": "Time"
         }
        },
        "yaxis": {
         "title": {
          "text": "Value"
         }
        }
       }
      }
     },
     "metadata": {},
     "output_type": "display_data"
    },
    {
     "name": "stdout",
     "output_type": "stream",
     "text": [
      "None\n"
     ]
    }
   ],
   "source": [
    "regression_stats = exported_dfs['LinearRegressionResultStats']\n",
    "real_series = exported_dfs['RealDataSeries']\n",
    "dummy_stats = exported_dfs['DummyImpact']\n",
    "graph_data = plot_all_variables(\n",
    "    dates=real_series.columns,\n",
    "    real_data=real_series,\n",
    "    regression_stats=regression_stats,\n",
    "    dummy_stats=dummy_stats,\n",
    ")\n",
    "print(graph_data)"
   ]
  }
 ],
 "metadata": {
  "colab": {
   "authorship_tag": "ABX9TyNOLxZOoce2yHmr6XCh0F+2",
   "collapsed_sections": [
    "EwX1y9X8yfED",
    "QDBIDev2zRdM"
   ],
   "include_colab_link": true,
   "mount_file_id": "1mtU-p7lJEB4nbIv46bqll0vutSNv3pZj",
   "provenance": [],
   "toc_visible": true
  },
  "kernelspec": {
   "display_name": "Python 3",
   "name": "python3"
  },
  "language_info": {
   "codemirror_mode": {
    "name": "ipython",
    "version": 3
   },
   "file_extension": ".py",
   "mimetype": "text/x-python",
   "name": "python",
   "nbconvert_exporter": "python",
   "pygments_lexer": "ipython3",
   "version": "3.12.5"
  }
 },
 "nbformat": 4,
 "nbformat_minor": 0
}
