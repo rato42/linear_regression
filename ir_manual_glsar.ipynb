{
  "cells": [
    {
      "cell_type": "markdown",
      "metadata": {
        "id": "view-in-github"
      },
      "source": [
        "<a href=\"https://colab.research.google.com/github/rato42/linear_regression/blob/unstable-yeah-sure/CLASSBASED_new_linear_regression.ipynb\" target=\"_parent\"><img src=\"https://colab.research.google.com/assets/colab-badge.svg\" alt=\"Open In Colab\"/></a>"
      ]
    },
    {
      "cell_type": "markdown",
      "metadata": {
        "id": "EwX1y9X8yfED"
      },
      "source": [
        "# Imports\n"
      ]
    },
    {
      "cell_type": "code",
      "execution_count": 1,
      "metadata": {
        "colab": {
          "base_uri": "https://localhost:8080/"
        },
        "id": "sOJUZR18gkp5",
        "outputId": "dd4a2f5c-7c6d-4675-937c-4e5202e40ef1"
      },
      "outputs": [
        {
          "name": "stdout",
          "output_type": "stream",
          "text": [
            "Running outside Colab (VS Code/local)\n"
          ]
        }
      ],
      "source": [
        "import sys\n",
        "\n",
        "# Detect Colab environment\n",
        "IN_COLAB = \"google.colab\" in sys.modules\n",
        "\n",
        "if IN_COLAB:\n",
        "    from google.colab import drive, auth\n",
        "    from googleapiclient.discovery import build\n",
        "    from googleapiclient.http import MediaIoBaseDownload\n",
        "    !pip install pwlf\n",
        "\n",
        "    import pwlf\n",
        "\n",
        "    auth.authenticate_user()\n",
        "    drive.mount(\"/content/drive\")\n",
        "else:\n",
        "    import pwlf\n",
        "    from oauth2client.service_account import ServiceAccountCredentials\n",
        "\n",
        "    print(\"Running outside Colab (VS Code/local)\")\n",
        "\n",
        "try:\n",
        "    import gspread\n",
        "except ModuleNotFoundError:\n",
        "    if IN_COLAB and \"google.colab\" in str(get_ipython()):\n",
        "        %pip install gspread\n",
        "    import gspread\n",
        "\n",
        "from gspread_dataframe import set_with_dataframe"
      ]
    },
    {
      "cell_type": "code",
      "execution_count": 2,
      "metadata": {
        "id": "uc_HtA6xvVE2"
      },
      "outputs": [],
      "source": [
        "\n",
        "import os\n",
        "\n",
        "import time\n",
        "\n",
        "import math\n",
        "import scipy.stats as stats\n",
        "import pandas as pd\n",
        "import numpy as np\n",
        "\n",
        "from statsmodels.genmod.generalized_estimating_equations import GEE\n",
        "from statsmodels.genmod.families import Poisson\n",
        "from statsmodels.genmod.cov_struct import Autoregressive\n",
        "from sklearn.linear_model import Ridge\n",
        "import statsmodels.api as sm\n",
        "\n",
        "from openpyxl import load_workbook\n",
        "from openpyxl.styles import Alignment\n",
        "\n",
        "from scipy.stats import linregress, ttest_ind, ttest_rel, ttest_1samp\n",
        "import matplotlib.pyplot as plt\n",
        "import re\n",
        "from openpyxl.drawing.image import Image\n",
        "from matplotlib.font_manager import FontProperties\n",
        "from io import BytesIO\n",
        "import statsmodels.formula.api as smf\n",
        "import statsmodels.api as sm\n",
        "\n",
        "import numpy as np\n",
        "import plotly.graph_objects as go\n",
        "\n",
        "\n",
        "from datetime import datetime, timedelta\n",
        "\n",
        "from statsmodels.stats.stattools import durbin_watson\n",
        "from statsmodels.stats.diagnostic import acorr_ljungbox\n",
        "from statsmodels.tools.tools import add_constant\n",
        "from statsmodels.tsa.arima.model import ARIMA\n",
        "from statsmodels.graphics.tsaplots import plot_acf, plot_pacf\n",
        "from statsmodels.tsa.statespace.sarimax import SARIMAX\n",
        "\n",
        "from sklearn.preprocessing import StandardScaler\n",
        "from sklearn.model_selection import train_test_split\n",
        "from sklearn.metrics import r2_score, mean_squared_error\n",
        "from sklearn.pipeline import Pipeline\n",
        "from sklearn.base import BaseEstimator, TransformerMixin\n",
        "from sklearn.preprocessing import FunctionTransformer\n",
        "\n",
        "from dateutil.relativedelta import relativedelta\n",
        "\n",
        "from sklearn import set_config\n",
        "set_config(display=\"diagram\")\n",
        "\n",
        "import logging\n",
        "from typing import Dict, Any\n",
        "\n",
        "import io"
      ]
    },
    {
      "cell_type": "markdown",
      "metadata": {
        "id": "M6pmUGm9ycJ_"
      },
      "source": [
        "# LOAD --- data from gsheet if colab or local\n"
      ]
    },
    {
      "cell_type": "code",
      "execution_count": 3,
      "metadata": {
        "id": "r6jsbsBZvWHp"
      },
      "outputs": [],
      "source": [
        "dados_brutos = None\n",
        "output_wksheet = None\n",
        "\n",
        "input_path = \"https://docs.google.com/spreadsheets/d/1m3eEaxWT4Unb8jBZWKjiLivavfA0x3PT1F1Rz1eXwVE/edit?gid=0\"\n",
        "output_path = \"https://docs.google.com/spreadsheets/d/1RzC3DfKNUwYA-qfUN0i53hUwRkWGMBOCoYQqdqG4MQY/edit?gid=0\"\n",
        "\n",
        "local_input_path = (\n",
        "    #\"D:\\\\CodeStuff\\\\Stats\\\\colab_linear_regression\\\\linear_regression\\\\input\\\\input.csv\" ### poa\n",
        "    #\"D:\\\\CodeStuff\\\\Stats\\\\colab_linear_regression\\\\linear_regression\\\\input\\\\input_backup_com_aps_total_RS.xlsx\" ### rs\n",
        "    #\"D:\\\\CodeStuff\\\\Stats\\\\colab_linear_regression\\\\linear_regression\\\\input\\\\input_backup_com_aps_total.xlsx\"\n",
        "    #\"D:\\\\CodeStuff\\\\Stats\\\\colab_linear_regression\\\\linear_regression\\\\input\\\\input_backup_com_aps_total_RS_percentual.xlsx\"\n",
        "    #\"D:\\\\CodeStuff\\\\Stats\\\\colab_linear_regression\\\\linear_regression\\\\input\\\\input_IR_1000_poa.xlsx\"\n",
        "    #\"D:\\\\CodeStuff\\\\Stats\\\\colab_linear_regression\\\\linear_regression\\\\input\\\\input_IR_1000_brasil.xlsx\"\n",
        "    \"D:\\\\CodeStuff\\\\Stats\\\\colab_linear_regression\\\\linear_regression\\\\input\\\\regions_IR_1000.xlsx\"\n",
        "    #\"D:\\\\CodeStuff\\\\Stats\\\\colab_linear_regression\\\\linear_regression\\\\input\\\\raw_regions_joined.xlsx\"\n",
        ")\n",
        "\n",
        "output_wksheet = None\n",
        "\n",
        "if IN_COLAB:\n",
        "    import gspread\n",
        "    from google.auth import default\n",
        "\n",
        "    auth.authenticate_user()\n",
        "    creds, _ = default()\n",
        "    gc = gspread.authorize(creds)\n",
        "    workbook = gc.open_by_url(input_path)\n",
        "    worksheets = workbook.worksheets()\n",
        "    output_wksheet = gc.open_by_url(output_path)\n",
        "    dados_brutos = worksheets[0].get_all_values()\n",
        "else:\n",
        "    try:\n",
        "        dados_brutos = pd.read_csv(local_input_path, header=None).values.tolist()\n",
        "    except:\n",
        "        dados_brutos = pd.read_excel(local_input_path, header=None).values.tolist()"
      ]
    },
    {
      "cell_type": "markdown",
      "metadata": {
        "id": "wNrVpR84NIXY"
      },
      "source": [
        "# TODO LIST"
      ]
    },
    {
      "cell_type": "markdown",
      "metadata": {},
      "source": [
        "PROMPT\n",
        "im doing a ITS. here is the structure\n",
        "data is monthly, from 2016 to 2024\n",
        "A PraisWinsten regression\n",
        "\n",
        "the following dummies:\n",
        "Pandemia_Step [2020 - 2022] - binary\n",
        "Pandemia_Trend [2020 - 2022] - increase by 1 by period\n",
        "PosPandemia_Step [2022 - 2024] - binary\n",
        "PosPandemia_Trend [2022 - 2024] - increase by 1 by period\n",
        "Lockdown 2020 [03/2020 - 05/2020] - pulse, binary\n",
        "Locdown 2021 [04/2021 - 05/2021] - pulse, binary"
      ]
    },
    {
      "cell_type": "code",
      "execution_count": 4,
      "metadata": {},
      "outputs": [],
      "source": [
        "#Parte 1 – Análise geral com grupo controle\n",
        "#\n",
        "#    ITS com controle (como já falamos)\n",
        "#\n",
        "#    Mostra que saúde mental cresceu mais que os atendimentos gerais\n",
        "#\n",
        "#    Mostra os efeitos da pandemia nesse comportamento\n",
        "#\n",
        "#Parte 2 – Análise dos subgrupos (sem controle)\n",
        "#\n",
        "#    ITS separado para cada diagnóstico (ex: CID-10 F32, F41, etc.)\n",
        "#\n",
        "#    Sem grupo controle, mas comparando antes/depois da pandemia\n",
        "#\n",
        "#    Pode usar o mesmo modelo (Prais-Winsten com step + trend)"
      ]
    },
    {
      "cell_type": "code",
      "execution_count": 5,
      "metadata": {},
      "outputs": [],
      "source": [
        "#Omnibus Test: The high value (41.163) and the p-value (< 0.0001) \n",
        "# suggest that the residuals deviate from normality, which might indicate some model specification issues.\n",
        "#\n",
        "#Jarque-Bera Test: Similarly, this test suggests non-normality in the residuals."
      ]
    },
    {
      "cell_type": "code",
      "execution_count": 6,
      "metadata": {},
      "outputs": [
        {
          "data": {
            "text/plain": [
              "'\\nimport statsmodels.api as sm\\n\\n# model with step\\nmod_full = sm.OLS(y, X_full).fit()\\n\\n# model without step\\nmod_reduced = sm.OLS(y, X_reduced).fit()\\n\\n# compare using F-test\\nf_test_result = mod_full.compare_f_test(mod_reduced)\\n'"
            ]
          },
          "execution_count": 6,
          "metadata": {},
          "output_type": "execute_result"
        }
      ],
      "source": [
        "### to test if step is necessary\n",
        "\n",
        "'''\n",
        "import statsmodels.api as sm\n",
        "\n",
        "# model with step\n",
        "mod_full = sm.OLS(y, X_full).fit()\n",
        "\n",
        "# model without step\n",
        "mod_reduced = sm.OLS(y, X_reduced).fit()\n",
        "\n",
        "# compare using F-test\n",
        "f_test_result = mod_full.compare_f_test(mod_reduced)\n",
        "'''"
      ]
    },
    {
      "cell_type": "code",
      "execution_count": 7,
      "metadata": {
        "id": "5yCwGqXBNIXY"
      },
      "outputs": [],
      "source": [
        "# TODO: Adicionar dummy de interação para comparar SM e outros atendimentos\n",
        "\n",
        "# TODO: Orthogonalise pospand trend (so to not have colinearity with months)\n",
        "\n",
        "# TODO: analisar overfitting\n",
        "\n",
        "# TODO: taxa. a população se mantem estavel? os serviços de saude se mantem estaveis?\n",
        "\n",
        "# https://chatgpt.com/canvas/shared/68084b682c548191a92db280344e5474"
      ]
    },
    {
      "cell_type": "markdown",
      "metadata": {
        "id": "gGzVKl7DNIXZ"
      },
      "source": [
        "--- Low HIGH COMPLEXITY\n",
        "\n",
        "- [x] Data Quality & Exploration  \n",
        "  - [x] Plot the raw time series and annotate intervention points.  \n",
        "  - [x] Check for missing values, outliers, or data entry errors.  \n",
        "  - [x] Verify your date index is consistent (e.g., monthly frequency).  \n",
        "\n",
        "- [x] Descriptive Statistics  \n",
        "  - [x] Compute summary statistics (mean, variance) before and after the pandemic.  \n",
        "  - [x] Calculate and plot moving averages to smooth trends.  \n",
        "\n",
        "- [x] Dummy Variable Audit  \n",
        "  - [x] Confirm each dummy is coded 0/1 for the correct periods.  \n",
        "  - [x] Review naming consistency and placement in the DataFrame.  \n",
        "\n",
        "- [x] Basic Model Fit  \n",
        "  - [x] Fit the current segmented regression (consults ~ time + level_dummy + slope_dummy + month_dummies + lockdown_outliers).  \n",
        "  - [x] Inspect R², coefficient signs, and p-values to sanity-check effects.  Export this to a readeable format\n",
        "\n",
        "--- MEDIUM COMPLEXITY\n",
        "\n",
        "- [ ] Residual Diagnostics  \n",
        "  - [X] Plot residuals vs. fitted values to check heteroscedasticity.  \n",
        "  - [ ] Examine ACF/PACF of residuals:  \n",
        "    - [X] First using OLS (to confirm the need for AR structure).  \n",
        "    - [X] Then using Prais-Winsten (to assess remaining autocorrelation).  \n",
        "\n",
        "- [ ] Autocorrelation & Robust SE  \n",
        "  - [ ] If autocorrelation exists, adjust standard errors (e.g., Newey-West) or fit an autoregressive error structure (e.g., AR(1)).  \n",
        "  - [ ] Since you’re using Prais-Winsten, this step may be partially addressed — verify with residuals.  \n",
        "\n",
        "- [ ] Seasonality & Trend Flexibility  \n",
        "  - [ ] Test alternative seasonal structures (e.g., Fourier terms) instead of month dummies.  \n",
        "  - [ ] Consider adding a quadratic or spline-based time trend.  \n",
        "\n",
        "- [ ] Outlier Handling  \n",
        "  - [ ] Justify and potentially consolidate lockdown outlier dummies (pulse vs. step).  \n",
        "  - [ ] Compare models with and without these outlier dummies (use AIC/BIC).  \n",
        "\n",
        "- [ ] Multicollinearity Check  \n",
        "  - [ ] Compute Variance Inflation Factors (VIFs) for covariates.  \n",
        "\n",
        "--- HIGH COMPLEXITY\n",
        "\n",
        "- [ ] Adicionar dummy de interação para comparar SM e outros atendimentos\n",
        "\n",
        "- [ ] Time-Series Cross-Validation  \n",
        "  - [ ] Implement rolling-origin evaluation to assess predictive performance.  \n",
        "  - [ ] Compare cross-validated errors (e.g., RMSE) across model specs to detect overfitting.  \n",
        "\n",
        "- [ ] Model Comparison & Selection  \n",
        "  - [ ] Use information criteria (AIC/BIC) to compare alternative models.  \n",
        "  - [ ] Evaluate nested models (e.g., with/without slope change) via likelihood ratio tests.  \n",
        "\n",
        "- [ ] Advanced Interrupted Time Series Methods  \n",
        "  - [ ] Explore Bayesian ITS or segmented regression with autoregressive integrated moving average (ARIMA) errors.  \n",
        "  - [x] Consider structural break tests (e.g., Chow test) for formal change-point detection.  \n",
        "\n",
        "- [ ] Sensitivity & Robustness  \n",
        "  - [ ] Run sensitivity analyses using different intervention start/end dates.  \n",
        "  - [ ] Test robustness to alternative outlier definitions or lag structures.  \n",
        "\n",
        "- [ ] Forecasting & Counterfactuals  \n",
        "  - [ ] Generate counterfactual predictions for the post-pandemic period.  \n",
        "  - [ ] Visualize observed vs. counterfactual to illustrate intervention impact."
      ]
    },
    {
      "cell_type": "code",
      "execution_count": 8,
      "metadata": {},
      "outputs": [],
      "source": [
        "def build_model_formula(dependant_var, independant_var=False, dummy_names=[]):\n",
        "    \"\"\"\n",
        "    Builds the regression formula dynamically.\n",
        "\n",
        "    Parameters:\n",
        "    -----------\n",
        "    dependant_var : str\n",
        "        The dependent variable (Y).\n",
        "    independant_var : str or bool\n",
        "        The independent variable (X). If False, it will be excluded.\n",
        "    dummy_names : list\n",
        "        List of dummy variable names to include in the formula.\n",
        "\n",
        "    Returns:\n",
        "    --------\n",
        "    str\n",
        "        The regression formula.\n",
        "    \"\"\"\n",
        "    base_model_formula = f\"{dependant_var} ~ \"\n",
        "    if independant_var:\n",
        "        base_model_formula += f\"{independant_var} + \"\n",
        "\n",
        "    # Add dummy variables (including Fourier terms if present)\n",
        "    model_formula = base_model_formula\n",
        "    if dummy_names:\n",
        "        for i, dummy in enumerate(dummy_names):\n",
        "            model_formula += dummy\n",
        "            if i != len(dummy_names) - 1:  # Add '+' if not the last element\n",
        "                model_formula += \" + \"\n",
        "\n",
        "    return model_formula.strip(\" + \"), base_model_formula.strip(\" + \")\n",
        "\n",
        "\n",
        "def build_dummy_names(dummies_args, include_month_dummies, include_quarter_dummies, include_fourier_terms=False, n_harmonics=1):\n",
        "    \"\"\"\n",
        "    Builds the list of dummy variable names dynamically.\n",
        "\n",
        "    Parameters:\n",
        "    -----------\n",
        "    dummies_args : dict\n",
        "        Dictionary of dummy variable configurations.\n",
        "    include_month_dummies : bool\n",
        "        Whether to include month dummies.\n",
        "    include_quarter_dummies : bool\n",
        "        Whether to include quarter dummies.\n",
        "    include_fourier_terms : bool\n",
        "        Whether to include Fourier terms for seasonality.\n",
        "    n_harmonics : int\n",
        "        Number of Fourier harmonics to include.\n",
        "\n",
        "    Returns:\n",
        "    --------\n",
        "    list\n",
        "        List of dummy variable names.\n",
        "    \"\"\"\n",
        "    dummy_names = []\n",
        "\n",
        "    # Add dummy variables from dummies_args\n",
        "    for dummy_name in dummies_args.keys():\n",
        "        dummy_names.append(dummy_name)\n",
        "\n",
        "    # Add Fourier terms if enabled\n",
        "    if include_fourier_terms:\n",
        "        for k in range(1, n_harmonics + 1):\n",
        "            dummy_names.append(f\"cos{k}\")\n",
        "            dummy_names.append(f\"sin{k}\")\n",
        "\n",
        "    # Add month dummies if enabled\n",
        "    if include_month_dummies:\n",
        "        for i in range(1, 12):\n",
        "            dummy_names.append(\"month_\" + str(i + 1))\n",
        "\n",
        "    # Add quarter dummies if enabled\n",
        "    if include_quarter_dummies:\n",
        "        for i in range(1, 4):\n",
        "            dummy_names.append(\"quarter_\" + str(i + 1))\n",
        "\n",
        "    return dummy_names\n"
      ]
    },
    {
      "cell_type": "markdown",
      "metadata": {
        "id": "SAATuGWcyPmG"
      },
      "source": [
        "# ARGS --- Define Args\n"
      ]
    },
    {
      "cell_type": "code",
      "execution_count": 9,
      "metadata": {
        "id": "N43j0vRL3QsP"
      },
      "outputs": [
        {
          "name": "stderr",
          "output_type": "stream",
          "text": [
            "c:\\Users\\Lucas\\AppData\\Local\\Programs\\Python\\Python312\\Lib\\site-packages\\statsmodels\\genmod\\cov_struct.py:796: FutureWarning: grid=True will become default in a future version\n",
            "  warnings.warn(\n"
          ]
        }
      ],
      "source": [
        "### ARGS\n",
        "\n",
        "\n",
        "RAW_ATD_VAR = 'valores'\n",
        "RAW_TOTAL_ATD_VAR = 'total_atd'\n",
        "IR_VAR = 'IR'\n",
        "IR_SCALE = 1000\n",
        "DATE_NAME = \"date\"\n",
        "GROUP_COL_NAME = \"variavel\"\n",
        "LOCAL_OUTPUT_PATH = \"D:\\\\CodeStuff\\\\Stats\\\\colab_linear_regression\\\\linear_regression\\\\output\\\\output.xlsx\"\n",
        "\n",
        "\n",
        "MAIN_SERIE = '_Grand Total'\n",
        "CONTROL_SERIE = '__Atendimentos na APS (exceto saúde mental)'\n",
        "\n",
        "MOVING_WINDOW = 12\n",
        "PLOT_MEDIA_MOVEL = False\n",
        "\n",
        "\n",
        "### model vars\n",
        "INDEPENDENT_VAR = \"periodo\"  ### Y\n",
        "DEPENDENT_VAR = RAW_ATD_VAR #\"valores\"  ### X\n",
        "\n",
        "\n",
        "######### DUMMIES ##########\n",
        "\n",
        "MEDIA_MOVEL_AS_FEATURE = False\n",
        "MEDIA_MOVEL_AS_DEPENDENT = False\n",
        "\n",
        "INCLUDE_FOURIER_TERMS = True\n",
        "N_HARMONICS = 1\n",
        "FOURIER_PERIOD = 12\n",
        "INCLUDE_MONTH_DUMMIES = False\n",
        "INCLUDE_QUARTER_DUMMIES = False\n",
        "\n",
        "PRE_START_DATE = \"2016-01-01\"  ### data inicial para o modelo, se for menor que a data do dataframe, o modelo vai dar erro\n",
        "\n",
        "### as quedas do primeiro lockdown nao são tão claras e a recuperação e queda parecem ser mais graduais\n",
        "CHOQUE_INICIAL_START_DATE= \"2020-03-01\"\n",
        "CHOQUE_INICIAL_END_DATE = \"2020-07-01\"#\"2020-08-01\" #month based\n",
        "\n",
        "### abril e maio tiveram quedas bem identificaveis nos atendimentos em todas variavieis\n",
        "SECONDLOCKDOWN_START_DATE = \"2021-04-01\"\n",
        "SECONDLOCKDOWN_END_DATE = '2021-05-01' #month based  #'2021-04-01'#quarter_based #\n",
        "\n",
        "PANDEMIA_START_DATE = \"2020-04-01\"\n",
        "PANDEMIA_END_DATE = \"2022-03-01\" #\"2021-02-01\" \n",
        "\n",
        "\n",
        "\n",
        "\n",
        "PANDEMIA2_START_DATE = \"2021-03-01\"\n",
        "PANDEMIA2_END_DATE = \"2022-03-01\" \n",
        "\n",
        "POS_PANDEMIA_START_DATE = \"2022-04-01\"\n",
        "END_DATE = \"2024-12-01\"#\"2024-12-01\"  ### data final para o modelo, se for maior que a data do dataframe, o modelo vai dar erro\n",
        "\n",
        "\n",
        "\n",
        "\n",
        "OMNICRON_START_DATE = \"2022-01-01\"\n",
        "OMNICRON_END_DATE = \"2022-02-01\"  ### data final para o modelo, se for maior que a data do dataframe, o modelo vai dar erro\n",
        "\n",
        "'''\n",
        "DUMMY_ARGS =        {\n",
        "        'Choque_Inicial': {\"start_date\": CHOQUE_INICIAL_START_DATE, \"end_date\": CHOQUE_INICIAL_END_DATE},\n",
        "        'Lockdown_2021': {\"start_date\": SECONDLOCKDOWN_START_DATE, \"end_date\": SECONDLOCKDOWN_END_DATE},\n",
        "        #'Enchentes_2024': {\"start_date\": \"2024-05-01\", \"end_date\": \"2024-05-01\"},\n",
        "        'Step_PosPandemia': {\"start_date\": POS_PANDEMIA_START_DATE, \"end_date\": END_DATE,'exclude_ranges': POS_PANDEMIA_EXCLUDE_RANGES, 'plot':False, 'step': True,},\n",
        "        'Trend_PosPandemia' : {\"start_date\": POS_PANDEMIA_START_DATE, \"end_date\": END_DATE,'exclude_ranges': POS_PANDEMIA_EXCLUDE_RANGES, 'plot': True, 'add_time_trend': True, 'keep_period_index': False, 'step': False},\n",
        "        }\n",
        "'''\n",
        "\n",
        "POS_PANDEMIA_EXCLUDE_RANGES = [\n",
        "    #(CHOQUE_INICIAL_START_DATE, CHOQUE_INICIAL_END_DATE),\n",
        "    #(SECONDLOCKDOWN_START_DATE, SECONDLOCKDOWN_END_DATE),\n",
        "    #(\"2024-05-01\", \"2024-05-01\"),\n",
        "                               ]\n",
        "\n",
        "PANDEMIA_EXCLUDE_RANGES = [\n",
        "    #(CHOQUE_INICIAL_START_DATE, CHOQUE_INICIAL_END_DATE),\n",
        "    #(SECONDLOCKDOWN_START_DATE, SECONDLOCKDOWN_END_DATE),\n",
        "    #(OMNICRON_START_DATE, OMNICRON_END_DATE),\n",
        "]\n",
        "\n",
        "TESTE_REMOVE_OUTLIER_START = \"2019-10-01\"\n",
        "TESTE_REMOVE_OUTLIER_END = \"2019-12-01\"  ### data final para o modelo, se for maior que a data do dataframe, o modelo vai dar erro\n",
        "PREPANDEMIA_EXCLUDE_RANGES = [\n",
        "    #(TESTE_REMOVE_OUTLIER_START, TESTE_REMOVE_OUTLIER_END),\n",
        "]\n",
        "\n",
        "TREND_KEEP_PERIOD_INDEX = False  ### se True, o modelo vai manter o index do periodo, se False, o modelo vai usar o index do dataframe original (sem os dummies)\n",
        "\n",
        "DUMMY_ARGS =        {\n",
        "        \n",
        "        \n",
        "        #'PrePandemia_Step': {\"start_date\": PRE_START_DATE, \"end_date\": PANDEMIA_START_DATE, 'exclude_ranges': PANDEMIA_EXCLUDE_RANGES,},\n",
        "        #'PrePandemia_Trend' : {\"start_date\": PRE_START_DATE, \"end_date\": PANDEMIA_START_DATE,'exclude_ranges': PREPANDEMIA_EXCLUDE_RANGES, 'add_time_trend': True, 'keep_period_index': False},\n",
        "        \n",
        "        'Pandemia_Step': {\"start_date\": PANDEMIA_START_DATE, \"end_date\": PANDEMIA_END_DATE, 'exclude_ranges': PANDEMIA_EXCLUDE_RANGES,},\n",
        "        'Pandemia_Trend' : {\"start_date\": PANDEMIA_START_DATE, \"end_date\": PANDEMIA_END_DATE,'exclude_ranges': PANDEMIA_EXCLUDE_RANGES, 'add_time_trend': True, 'keep_period_index': TREND_KEEP_PERIOD_INDEX},\n",
        "        \n",
        "        #'Pandemia2_Step': {\"start_date\": PANDEMIA2_START_DATE, \"end_date\": PANDEMIA2_END_DATE, 'exclude_ranges': PANDEMIA_EXCLUDE_RANGES,},\n",
        "        #'Pandemia2_Trend' : {\"start_date\": PANDEMIA2_START_DATE, \"end_date\": PANDEMIA2_END_DATE,'exclude_ranges': PANDEMIA_EXCLUDE_RANGES, 'add_time_trend': True, 'keep_period_index': TREND_KEEP_PERIOD_INDEX},\n",
        "\n",
        "        'PosPandemia_Step': {\"start_date\": POS_PANDEMIA_START_DATE, \"end_date\": END_DATE,'exclude_ranges': POS_PANDEMIA_EXCLUDE_RANGES, 'plot':False, 'step': True,},\n",
        "        'PosPandemia_Trend' : {\"start_date\": POS_PANDEMIA_START_DATE, \"end_date\": END_DATE,'exclude_ranges': POS_PANDEMIA_EXCLUDE_RANGES, 'plot': True, 'add_time_trend': True, 'keep_period_index': TREND_KEEP_PERIOD_INDEX, 'step': False},\n",
        "        \n",
        "        ### Pulse Outliers\n",
        "        #'teste_remove_outlier': {\"start_date\": TESTE_REMOVE_OUTLIER_START, \"end_date\": TESTE_REMOVE_OUTLIER_END,},\n",
        "        #'Lockdown_2020_Step': {\"start_date\": CHOQUE_INICIAL_START_DATE, \"end_date\": CHOQUE_INICIAL_END_DATE},\n",
        "        #'Lockdown_2021_Step': {\"start_date\": SECONDLOCKDOWN_START_DATE, \"end_date\": SECONDLOCKDOWN_END_DATE},\n",
        "        #'Omnicron_2022': {\"start_date\": OMNICRON_START_DATE, \"end_date\": OMNICRON_END_DATE},\n",
        "        #'Enchentes_2024': {\"start_date\": \"2024-05-01\", \"end_date\": \"2024-05-01\"},\n",
        "        }\n",
        "\n",
        "\n",
        "\n",
        "##############################\n",
        "\n",
        "\n",
        "PREPROCESSOR_ARGS = {\n",
        "    'DateRange': [2016, 2024],\n",
        "    'FrequencyDateGroup' : 'M',\n",
        "    'DummyArgs' : DUMMY_ARGS,\n",
        "    'melt_total_atd': True,\n",
        "    'ExtractIR': True,\n",
        "}\n",
        "\n",
        "\n",
        "\n",
        "###### PROCESSING ######\n",
        "\n",
        "\n",
        "DUMMY_NAMES = build_dummy_names(\n",
        "          DUMMY_ARGS,\n",
        "          INCLUDE_MONTH_DUMMIES,\n",
        "          INCLUDE_QUARTER_DUMMIES,\n",
        "          include_fourier_terms=INCLUDE_FOURIER_TERMS,\n",
        "          n_harmonics=N_HARMONICS,\n",
        "          )\n",
        "\n",
        "MODEL_FORMULA, BASE_MODEL_FORMULA = build_model_formula(DEPENDENT_VAR,\n",
        "                                                        INDEPENDENT_VAR,\n",
        "                                                        dummy_names = DUMMY_NAMES,\n",
        "\n",
        "                                                        )\n",
        "\n",
        "\n",
        "\n",
        "\n",
        "\n",
        "\n",
        "PROCESSOR_ARGS = {\n",
        "    \"formula\": MODEL_FORMULA,#\"valores ~ periodo\",  # Example formula\n",
        "    \"model\":  smf.glsar,#smf.ols,# # Use OLS as the regression model for testing\n",
        "    \"find_best_rho\": True,#True,  # Disable best rho search for simplicity\n",
        "    \"rho\": None,\n",
        "    \"cov_type\": \"HAC\",  # Use nonrobust covariance for testing\n",
        "    \"cov_kwargs\": {'maxlags': 4},  # No additional covariance arguments\n",
        "    \"iterative_fit\": True,  # Enable iterative fitting if needed\n",
        "    \"max_iterations\": 50,  # Set maximum iterations for iterative fitting\n",
        "    \"find_best_rho_args\": {\n",
        "        \"start\": -1.00,\n",
        "        \"stop\": 1.01,\n",
        "        \"step\": 0.01,\n",
        "        \"criterio\": \"aic\"\n",
        "    },\n",
        "}\n",
        "\n",
        "\n",
        "GEE_PROCESSOR_ARGS = {\n",
        "    'formula': MODEL_FORMULA,\n",
        "    \"family\": Poisson(),  # Use Poisson family for count data\n",
        "    \"cov_struct\": Autoregressive(),  # Use autoregressive covariance structure\n",
        "    \"groups\": GROUP_COL_NAME,\n",
        "}\n",
        "\n"
      ]
    },
    {
      "cell_type": "code",
      "execution_count": 10,
      "metadata": {},
      "outputs": [
        {
          "data": {
            "text/plain": [
              "('valores ~ periodo + Pandemia_Step + Pandemia_Trend + PosPandemia_Step + PosPandemia_Trend + cos1 + sin1',\n",
              " 'valores ~ periodo')"
            ]
          },
          "execution_count": 10,
          "metadata": {},
          "output_type": "execute_result"
        }
      ],
      "source": [
        "MODEL_FORMULA, BASE_MODEL_FORMULA\n"
      ]
    },
    {
      "cell_type": "markdown",
      "metadata": {
        "id": "3lst0tSSyWi0"
      },
      "source": [
        "# Define Preprocessors\n"
      ]
    },
    {
      "cell_type": "code",
      "execution_count": 11,
      "metadata": {
        "id": "FAqiSa3R-k3r"
      },
      "outputs": [],
      "source": [
        "def BuildDataDF(data):\n",
        "    string_dates = data[0][1:]  # Store original string dates\n",
        "\n",
        "    # Converter as strings de datas em objetos datetime\n",
        "    #date_list = [datetime.strptime(date, \"%d/%m/%Y\") for date in string_dates]\n",
        "    date_list = [\n",
        "    date if isinstance(date, datetime) else datetime.strptime(date, \"%d/%m/%Y\")\n",
        "    for date in string_dates\n",
        "    ]\n",
        "\n",
        "    # Extrair os nomes das variáveis\n",
        "    variavel = [row[0] for row in data[1:]]\n",
        "\n",
        "    # Extrair os dados (sem agrupamento)\n",
        "    dados = [row[1:] for row in data[1:]]\n",
        "    dados = np.array(dados, dtype=float)  # Converter para tipo object para evitar warning\n",
        "\n",
        "    # Criar o DataFrame with DatetimeIndex\n",
        "    df = pd.DataFrame(data=dados, index=variavel, columns=pd.DatetimeIndex(date_list))\n",
        "\n",
        "    return df\n",
        "\n",
        "class DateFilterTransformer(BaseEstimator, TransformerMixin):\n",
        "    def __init__(\n",
        "        self, periodos_inclusivos=None, periodos_exclusivos=None, date_col=DATE_NAME\n",
        "    ):\n",
        "        self.periodos_inclusivos = periodos_inclusivos\n",
        "        self.periodos_exclusivos = periodos_exclusivos\n",
        "        self.date_col = date_col\n",
        "\n",
        "    def get_date_range(self, Y1, Y2=None, M1=None, M2=None, D1=None, D2=None):\n",
        "        Y2 = Y2 or Y1\n",
        "        M1 = M1 or 1\n",
        "        M2 = M2 or 12\n",
        "        D1 = D1 or 1\n",
        "        D2 = D2 or 31\n",
        "        start_date = datetime(Y1, M1, D1)\n",
        "        end_date = datetime(Y2, M2, D2)\n",
        "        return pd.date_range(start=start_date, end=end_date, freq=\"D\")\n",
        "\n",
        "    def fit(self, X, y=None):\n",
        "        return self\n",
        "\n",
        "    def transform(self, X):\n",
        "        X = X.copy()\n",
        "\n",
        "        # Convert date column if it's not datetime yet\n",
        "        if not pd.api.types.is_datetime64_any_dtype(X[self.date_col]):\n",
        "            X[self.date_col] = pd.to_datetime(X[self.date_col], errors=\"coerce\")\n",
        "\n",
        "        if self.periodos_inclusivos:\n",
        "            valid_dates = self.get_date_range(*self.periodos_inclusivos)\n",
        "            return X[X[self.date_col].isin(valid_dates)].reset_index(drop=True)\n",
        "\n",
        "        elif self.periodos_exclusivos:\n",
        "            invalid_dates = self.get_date_range(*self.periodos_exclusivos)\n",
        "            return X[~X[self.date_col].isin(invalid_dates)].reset_index(drop=True)\n",
        "\n",
        "        return X\n",
        "\n",
        "class MeltTransformer(BaseEstimator, TransformerMixin):\n",
        "    def __init__(\n",
        "        self,\n",
        "        var_name=GROUP_COL_NAME,\n",
        "        value_name=RAW_ATD_VAR,\n",
        "        date_name=DATE_NAME,\n",
        "        y_name=INDEPENDENT_VAR,\n",
        "        perform_IR=False,\n",
        "        total_suffix=\"_total\",\n",
        "        total_column_name=RAW_TOTAL_ATD_VAR,\n",
        "    ):\n",
        "        self.var_name = var_name\n",
        "        self.value_name = value_name\n",
        "        self.date_name = date_name\n",
        "        self.y_name = y_name\n",
        "        self.perform_IR = perform_IR\n",
        "        self.total_suffix = total_suffix\n",
        "        self.total_column_name = total_column_name\n",
        "\n",
        "    def fit(self, X, y=None):\n",
        "        # Nothing to learn, so just return self\n",
        "        return self\n",
        "\n",
        "    def transform(self, X):\n",
        "        # Separate rows with the `_total` suffix\n",
        "        if self.perform_IR:\n",
        "            reserved_rows = X[X.index.str.endswith(self.total_suffix)]\n",
        "            remaining_rows = X[~X.index.str.endswith(self.total_suffix)]\n",
        "\n",
        "            # Transpose and reset index for the remaining rows\n",
        "            df_long = remaining_rows.T.reset_index()\n",
        "\n",
        "            # Rename index to date_name\n",
        "            df_long = df_long.rename(columns={\"index\": self.date_name})\n",
        "\n",
        "            # Melt the DataFrame\n",
        "            df_long = pd.melt(\n",
        "                df_long,\n",
        "                id_vars=[self.date_name],\n",
        "                var_name=self.var_name,\n",
        "                value_name=self.value_name,\n",
        "            )\n",
        "\n",
        "            # Sort by category and date\n",
        "            df_final = df_long.sort_values([self.var_name, self.date_name]).reset_index(\n",
        "                drop=True\n",
        "            )\n",
        "\n",
        "            # Add the `total_atd` column\n",
        "            reserved_rows = reserved_rows.T.reset_index().rename(columns={\"index\": self.date_name})\n",
        "            reserved_rows_long = pd.melt(\n",
        "                reserved_rows,\n",
        "                id_vars=[self.date_name],\n",
        "                var_name=self.var_name,\n",
        "                value_name=self.total_column_name,\n",
        "            )\n",
        "\n",
        "            # Remove the `_total` suffix from the var_name in reserved_rows_long\n",
        "            reserved_rows_long[self.var_name] = reserved_rows_long[self.var_name].str.replace(\n",
        "                self.total_suffix, \"\", regex=False\n",
        "            )\n",
        "\n",
        "            # Merge the `total_atd` column into the final DataFrame\n",
        "            df_final = df_final.merge(\n",
        "                reserved_rows_long,\n",
        "                on=[self.date_name, self.var_name],\n",
        "                how=\"left\",\n",
        "            )\n",
        "        else:\n",
        "                        # Transpose and reset index for the remaining rows\n",
        "            df_long = X.T.reset_index()\n",
        "\n",
        "            # Rename index to date_name\n",
        "            df_long = df_long.rename(columns={\"index\": self.date_name})\n",
        "\n",
        "            # Melt the DataFrame\n",
        "            df_long = pd.melt(\n",
        "                df_long,\n",
        "                id_vars=[self.date_name],\n",
        "                var_name=self.var_name,\n",
        "                value_name=self.value_name,\n",
        "            )\n",
        "\n",
        "            # Sort by category and date\n",
        "            df_final = df_long.sort_values([self.var_name, self.date_name]).reset_index(\n",
        "                drop=True\n",
        "            )\n",
        "\n",
        "\n",
        "        return df_final\n",
        "\n",
        "class PeriodIndexAdder(BaseEstimator, TransformerMixin):\n",
        "    def __init__(self, group_col=GROUP_COL_NAME, new_col=INDEPENDENT_VAR):\n",
        "        self.group_col = group_col\n",
        "        self.new_col = new_col\n",
        "        self.period_date_mapping = {}  # Dictionary to store period-date equivalences\n",
        "\n",
        "    def fit(self, X, y=None):\n",
        "        return self\n",
        "\n",
        "    def transform(self, X):\n",
        "        X = X.copy()\n",
        "        X[self.new_col] = X.groupby(self.group_col).cumcount() + 1\n",
        "\n",
        "        #Store the mapping of periods to dates\n",
        "        self.period_date_mapping = dict(zip(X[DATE_NAME], X[self.new_col]))\n",
        "        #for group, group_data in X.groupby(self.group_col):\n",
        "        #    self.period_date_mapping[group] = dict(zip(group_data[DATE_NAME], group_data[self.new_col]))\n",
        "\n",
        "        return X\n",
        "\n",
        "class DataFrameSorter(BaseEstimator, TransformerMixin):\n",
        "    \"\"\"\n",
        "    Sorts a DataFrame by a specified column.\n",
        "\n",
        "    Parameters:\n",
        "    -----------\n",
        "    sort_by : str\n",
        "        Name of the column to sort by.\n",
        "    ascending : bool, default=True\n",
        "        Whether to sort in ascending order.\n",
        "    \"\"\"\n",
        "\n",
        "    def __init__(self, sort_by, ascending=True):\n",
        "        self.sort_by = sort_by\n",
        "        self.ascending = ascending\n",
        "\n",
        "    def fit(self, X, y=None):\n",
        "        return self\n",
        "\n",
        "    def transform(self, X):\n",
        "        X = X.copy()\n",
        "        if self.sort_by not in X.columns:\n",
        "            raise ValueError(f\"Column '{self.sort_by}' not found in DataFrame.\")\n",
        "        return X.sort_values(by=self.sort_by, ascending=self.ascending).reset_index(drop=True)\n",
        "\n",
        "class MonthlyDummyAdder(BaseEstimator, TransformerMixin):\n",
        "    \"\"\"\n",
        "    Adds dummy variables for each month to control for seasonality, leaving December as the baseline.\n",
        "\n",
        "    Parameters:\n",
        "    -----------\n",
        "    date_column : str\n",
        "        Name of the column containing dates (must be datetime).\n",
        "    \"\"\"\n",
        "\n",
        "    def __init__(self, date_column=DATE_NAME):\n",
        "        self.date_column = date_column\n",
        "\n",
        "    def fit(self, X, y=None):\n",
        "        return self\n",
        "\n",
        "    def transform(self, X):\n",
        "        X = X.copy()\n",
        "        X[self.date_column] = pd.to_datetime(X[self.date_column])  # Ensure dates are in datetime format\n",
        "\n",
        "        # Extract month from the date column\n",
        "        X['month'] = X[self.date_column].dt.month\n",
        "\n",
        "        # Create dummy variables for each month, excluding December as the baseline\n",
        "        month_dummies = pd.get_dummies(X['month'], prefix=\"month\", drop_first=True).astype(int)\n",
        "\n",
        "\n",
        "\n",
        "        # Concatenate the dummy variables with the original DataFrame\n",
        "        X = pd.concat([X, month_dummies], axis=1)\n",
        "\n",
        "        # Drop the temporary 'month' column\n",
        "        X.drop(columns=['month'], inplace=True)\n",
        "\n",
        "        return X\n",
        "\n",
        "class QuarterlyDummyAdder(BaseEstimator, TransformerMixin):\n",
        "    \"\"\"\n",
        "    Adds dummy variables for each quarter to control for seasonality, leaving Q4 as the baseline.\n",
        "\n",
        "    Parameters:\n",
        "    -----------\n",
        "    date_column : str\n",
        "        Name of the column containing dates (must be datetime).\n",
        "    \"\"\"\n",
        "\n",
        "    def __init__(self, date_column=DATE_NAME):\n",
        "        self.date_column = date_column\n",
        "\n",
        "    def fit(self, X, y=None):\n",
        "        return self\n",
        "\n",
        "    def transform(self, X):\n",
        "        X = X.copy()\n",
        "        X[self.date_column] = pd.to_datetime(X[self.date_column])  # Ensure dates are in datetime format\n",
        "\n",
        "        # Extract quarter from the date column\n",
        "        X['quarter'] = X[self.date_column].dt.quarter\n",
        "\n",
        "        # Create dummy variables for each quarter, excluding Q4 as the baseline\n",
        "        quarter_dummies = pd.get_dummies(X['quarter'], prefix=\"quarter\", drop_first=True).astype(int)\n",
        "\n",
        "        # Concatenate the dummy variables with the original DataFrame\n",
        "        X = pd.concat([X, quarter_dummies], axis=1)\n",
        "\n",
        "        # Drop the temporary 'quarter' column\n",
        "        X.drop(columns=['quarter'], inplace=True)\n",
        "\n",
        "        return X\n",
        "\n",
        "class MultiDummyAdder(BaseEstimator, TransformerMixin):\n",
        "    \"\"\"\n",
        "    Adds multiple dummy variables based on date ranges or custom conditions.\n",
        "    Allows each dummy to be binary or a local time trend via its own config.\n",
        "\n",
        "    Parameters:\n",
        "    -----------\n",
        "    dummy_config : dict\n",
        "        Dictionary defining dummy variables. Example:\n",
        "        {\n",
        "            'Pandemia': {\n",
        "                'start_date': '2020-01-01',\n",
        "                'end_date': '2020-12-31',\n",
        "                'add_time_trend': True,\n",
        "                'exclude_ranges': [\n",
        "                    ('2020-04-01', '2020-05-01'),\n",
        "                    ('2020-07-01', '2020-08-01')\n",
        "                ]  # Optional\n",
        "            }\n",
        "        }\n",
        "    date_column : str\n",
        "        Name of the column containing dates (must be datetime).\n",
        "    \"\"\"\n",
        "\n",
        "    def __init__(self, dummy_config, date_column=DATE_NAME):\n",
        "        self.dummy_config = dummy_config\n",
        "        self.date_column = date_column\n",
        "\n",
        "    def fit(self, X, y=None):\n",
        "        return self\n",
        "\n",
        "    def transform(self, X):\n",
        "        X = X.copy()\n",
        "        X[self.date_column] = pd.to_datetime(X[self.date_column])\n",
        "        X = X.sort_values(self.date_column).reset_index(drop=True)\n",
        "\n",
        "        for dummy_name, config in self.dummy_config.items():\n",
        "            start_date = pd.to_datetime(config.get(\"start_date\"))\n",
        "            end_date = pd.to_datetime(config.get(\"end_date\"))\n",
        "            use_trend = config.get(\"add_time_trend\", False)\n",
        "            keep_index = config.get(\"keep_period_index\", False)\n",
        "            exclude_ranges = config.get(\"exclude_ranges\", [])  # List of ranges to exclude\n",
        "\n",
        "            if not start_date:\n",
        "                raise ValueError(f\"Missing 'start_date' for dummy '{dummy_name}'.\")\n",
        "\n",
        "            # Create the initial mask for the date range\n",
        "            if end_date is not None:\n",
        "                mask = (X[self.date_column] >= start_date) & (X[self.date_column] <= end_date)\n",
        "            else:\n",
        "                mask = X[self.date_column] >= start_date\n",
        "\n",
        "            # Exclude multiple ranges within the period\n",
        "            for excl_start, excl_end in exclude_ranges:\n",
        "                excl_start = pd.to_datetime(excl_start)\n",
        "                excl_end = pd.to_datetime(excl_end)\n",
        "                mask &= ~((X[self.date_column] >= excl_start) & (X[self.date_column] <= excl_end))\n",
        "\n",
        "            # Apply trend or binary dummy logic\n",
        "            if use_trend:\n",
        "                if keep_index:\n",
        "                    # Global period multiplied by the dummy\n",
        "                    X[dummy_name] = 0\n",
        "                    X.loc[mask, dummy_name] = X.loc[mask, INDEPENDENT_VAR]\n",
        "                else:\n",
        "                    start_periodo = X.loc[mask, INDEPENDENT_VAR].min()\n",
        "                    X[dummy_name] = 0\n",
        "                    X.loc[mask, dummy_name] = (X.loc[mask, INDEPENDENT_VAR] - start_periodo + 1).clip(lower=0)\n",
        "            else:\n",
        "                X[dummy_name] = mask.astype(int)\n",
        "\n",
        "        return X\n",
        "\n",
        "class FrequencyGroupingTransformer(BaseEstimator, TransformerMixin):\n",
        "    \"\"\"\n",
        "    ## only datetime supported groupings\n",
        "    Transformer for grouping data by standard datetime frequencies.\n",
        "\n",
        "    This transformer takes a DataFrame with datetime columns and groups\n",
        "    the data by a specified frequency (e.g., 'Q' for quarterly, 'M' for monthly).\n",
        "\n",
        "    ARGS:\n",
        "        frequency (str): The frequency to group by. Defaults to 'Q' (quarterly).\n",
        "                        Supported frequencies are those accepted by pd.Grouper (e.g., 'Q', 'M', 'Y').\n",
        "    \"\"\"\n",
        "\n",
        "    def __init__(self, frequency=\"Q\"):  # Default to quarterly grouping\n",
        "        self.frequency = frequency\n",
        "\n",
        "    def fit(self, X, y=None):\n",
        "        \"\"\"\n",
        "        This transformer does not require fitting.\n",
        "\n",
        "        ARGS:\n",
        "            X (pd.DataFrame): The input DataFrame.\n",
        "            y (Any, optional): Ignored. Defaults to None.\n",
        "\n",
        "        Returns:\n",
        "            self: Returns the transformer instance.\n",
        "        \"\"\"\n",
        "        return self\n",
        "\n",
        "    def transform(self, X):\n",
        "        \"\"\"\n",
        "        Groups the data by the specified frequency and sums the values.\n",
        "\n",
        "        ARGS:\n",
        "            X (pd.DataFrame): The input DataFrame with datetime columns.\n",
        "\n",
        "        Returns:\n",
        "            pd.DataFrame: The grouped DataFrame with summed values.\n",
        "                          Columns are datetime objects representing the end of each group.\n",
        "        \"\"\"\n",
        "        if self.frequency == None or self.frequency == 'M':\n",
        "            return X\n",
        "        if not isinstance(X, pd.DataFrame):\n",
        "            raise TypeError(\"Input must be a pandas DataFrame.\")\n",
        "\n",
        "\n",
        "\n",
        "        # Convert columns to datetime if they are not already\n",
        "        if not isinstance(X.columns[0], pd.Timestamp):\n",
        "            X.columns = pd.to_datetime(X.columns, errors=\"coerce\")\n",
        "\n",
        "        # Group by the specified frequency using pd.Grouper\n",
        "        grouped_df = X.T.groupby(pd.Grouper(freq=self.frequency)).sum().T\n",
        "\n",
        "        return grouped_df\n",
        "\n",
        "\n",
        "\n",
        "\n",
        "\n"
      ]
    },
    {
      "cell_type": "code",
      "execution_count": 12,
      "metadata": {},
      "outputs": [],
      "source": [
        "class MovingAverageTransformer(BaseEstimator, TransformerMixin):\n",
        "    def __init__(self, group_col=GROUP_COL_NAME, date_col=DATE_NAME, value_col=DEPENDENT_VAR, window=3, prefix='ma', center=False):\n",
        "        \"\"\"\n",
        "        window: tamanho da janela\n",
        "        prefix: prefixo para o nome da nova coluna\n",
        "        center: se True, a janela será centralizada\n",
        "        \"\"\"\n",
        "        self.window = window\n",
        "        self.prefix = prefix\n",
        "        self.center = center\n",
        "        self.value_col = value_col\n",
        "        self.group_col = group_col\n",
        "        self.date_col = date_col\n",
        "\n",
        "    def fit(self, X, y=None):\n",
        "        return self\n",
        "\n",
        "    def transform(self, X):\n",
        "        X = X.copy()\n",
        "\n",
        "        def rolling_mean_by_group(group):\n",
        "            group = group.sort_values(by=self.date_col)  # Sort by date within group\n",
        "            new_col = f\"{self.prefix}_{self.window}_{self.value_col}\"\n",
        "            group[new_col] = group[self.value_col].rolling(window=self.window, center=self.center, min_periods=1).mean()\n",
        "            return group\n",
        "\n",
        "        # Apply the rolling mean and reset the index to preserve the original structure\n",
        "        X = X.groupby(self.group_col, group_keys=False).apply(rolling_mean_by_group)\n",
        "\n",
        "        return X"
      ]
    },
    {
      "cell_type": "code",
      "execution_count": 13,
      "metadata": {},
      "outputs": [],
      "source": [
        "class FourierSeasonalityAdder(BaseEstimator, TransformerMixin):\n",
        "    \"\"\"\n",
        "    Adds sine and cosine Fourier terms for seasonality based on the month of the date.\n",
        "\n",
        "    Parameters:\n",
        "    -----------\n",
        "    date_column : str\n",
        "        Name of the column containing dates (must be datetime).\n",
        "    n_harmonics : int\n",
        "        Number of Fourier harmonics to add (default is 1).\n",
        "    \"\"\"\n",
        "\n",
        "    def __init__(self, date_column=DATE_NAME, n_harmonics=1):\n",
        "        self.date_column = date_column\n",
        "        self.n_harmonics = n_harmonics\n",
        "\n",
        "    def fit(self, X, y=None):\n",
        "        return self\n",
        "\n",
        "    def transform(self, X):\n",
        "        X = X.copy()\n",
        "        X[self.date_column] = pd.to_datetime(X[self.date_column])  # Ensure dates are in datetime format\n",
        "\n",
        "        # Extract time (month number starting from 1)\n",
        "        X['month'] = X[self.date_column].dt.month\n",
        "\n",
        "        # Add Fourier terms\n",
        "        for k in range(1, self.n_harmonics + 1):\n",
        "            X[f'cos{k}'] = np.cos(2 * np.pi * k * (X['month'] - 1) / 12)  # Month to 0-based\n",
        "            X[f'sin{k}'] = np.sin(2 * np.pi * k * (X['month'] - 1) / 12)  # Month to 0-based\n",
        "\n",
        "        #X.drop(columns=['month'], inplace=True)\n",
        "\n",
        "        return X"
      ]
    },
    {
      "cell_type": "code",
      "execution_count": 14,
      "metadata": {},
      "outputs": [],
      "source": [
        "from statsmodels.tsa.deterministic import Fourier\n",
        "\n",
        "class FourierSeasonalityAdder(BaseEstimator, TransformerMixin):\n",
        "    def __init__(self, date_column=DATE_NAME, period=12, order=1):\n",
        "        \"\"\"\n",
        "        Parameters:\n",
        "        -----------\n",
        "        date_column : str\n",
        "            Name of the column containing dates (must be datetime).\n",
        "        period : int\n",
        "            The period of the seasonality (e.g., 12 for monthly data).\n",
        "        order : int\n",
        "            The number of Fourier harmonics to include.\n",
        "        \"\"\"\n",
        "        self.date_column = date_column\n",
        "        self.period = period\n",
        "        self.order = order\n",
        "        self.fourier = Fourier(period=self.period, order=self.order)\n",
        "\n",
        "    def fit(self, X, y=None):\n",
        "        return self\n",
        "\n",
        "    def transform(self, X):\n",
        "        X = X.copy()\n",
        "\n",
        "        # Ensure the date column is in datetime format\n",
        "        X[self.date_column] = pd.to_datetime(X[self.date_column])\n",
        "\n",
        "        # Ensure unique index\n",
        "        if not X.index.is_unique:\n",
        "            X = X.reset_index(drop=True)\n",
        "\n",
        "        # Generate Fourier terms\n",
        "        fourier_terms = self.fourier.in_sample(X[self.date_column])\n",
        "\n",
        "        # Rename Fourier columns to use sin1, cos1, etc.\n",
        "        renamed_columns = {col: f\"sin{int(i/2)+1}\" if i % 2 else f\"cos{int(i/2)+1}\" \n",
        "                           for i, col in enumerate(fourier_terms.columns)}\n",
        "        fourier_terms.rename(columns=renamed_columns, inplace=True)\n",
        "\n",
        "        # Concatenate Fourier terms with the original DataFrame\n",
        "        X = pd.concat([X.reset_index(drop=True), fourier_terms.reset_index(drop=True)], axis=1)\n",
        "\n",
        "        # Debugging: Check the range of Fourier terms\n",
        "        for column in fourier_terms.columns:\n",
        "            min_value = fourier_terms[column].min()\n",
        "            max_value = fourier_terms[column].max()\n",
        "            if min_value < -1 or max_value > 1:\n",
        "                print(f\"Warning: {column} is out of range [-1, 1]. Min: {min_value}, Max: {max_value}\")\n",
        "            else:\n",
        "                print(f\"{column} is within the correct range [-1, 1]. Min: {min_value}, Max: {max_value}\")\n",
        "\n",
        "        return X"
      ]
    },
    {
      "cell_type": "markdown",
      "metadata": {
        "id": "YiUiAyVdNIXb"
      },
      "source": [
        "# EXEC --- Instantiate Pipe and get RegressionDF"
      ]
    },
    {
      "cell_type": "code",
      "execution_count": 15,
      "metadata": {
        "colab": {
          "base_uri": "https://localhost:8080/",
          "height": 1000
        },
        "id": "tpmKA11jNIXb",
        "outputId": "6b948497-1205-4055-c42b-0427affcff4e"
      },
      "outputs": [
        {
          "name": "stdout",
          "output_type": "stream",
          "text": [
            "cos1 is within the correct range [-1, 1]. Min: -1.0, Max: 1.0\n",
            "sin1 is within the correct range [-1, 1]. Min: -1.0, Max: 1.0\n"
          ]
        },
        {
          "data": {
            "application/vnd.microsoft.datawrangler.viewer.v0+json": {
              "columns": [
                {
                  "name": "index",
                  "rawType": "int64",
                  "type": "integer"
                },
                {
                  "name": "date",
                  "rawType": "datetime64[ns]",
                  "type": "datetime"
                },
                {
                  "name": "variavel",
                  "rawType": "object",
                  "type": "string"
                },
                {
                  "name": "valores",
                  "rawType": "float64",
                  "type": "float"
                },
                {
                  "name": "total_atd",
                  "rawType": "float64",
                  "type": "float"
                },
                {
                  "name": "periodo",
                  "rawType": "int64",
                  "type": "integer"
                },
                {
                  "name": "Pandemia_Step",
                  "rawType": "int64",
                  "type": "integer"
                },
                {
                  "name": "Pandemia_Trend",
                  "rawType": "int64",
                  "type": "integer"
                },
                {
                  "name": "PosPandemia_Step",
                  "rawType": "int64",
                  "type": "integer"
                },
                {
                  "name": "PosPandemia_Trend",
                  "rawType": "int64",
                  "type": "integer"
                },
                {
                  "name": "cos1",
                  "rawType": "float64",
                  "type": "float"
                },
                {
                  "name": "sin1",
                  "rawType": "float64",
                  "type": "float"
                },
                {
                  "name": "IR",
                  "rawType": "float64",
                  "type": "float"
                },
                {
                  "name": "offset",
                  "rawType": "float64",
                  "type": "float"
                }
              ],
              "conversionMethod": "pd.DataFrame",
              "ref": "df85cf02-b81d-401a-a9b0-f0bc84504139",
              "rows": [
                [
                  "0",
                  "2024-12-01 00:00:00",
                  "sul",
                  "30.58480787856012",
                  null,
                  "108",
                  "0",
                  "0",
                  "1",
                  "33",
                  "-0.5000000000000386",
                  "0.8660254037844164",
                  null,
                  null
                ],
                [
                  "1",
                  "2023-05-01 00:00:00",
                  "sul",
                  "27.33433748210081",
                  null,
                  "89",
                  "0",
                  "0",
                  "1",
                  "14",
                  "0.4999999999999809",
                  "0.8660254037844497",
                  null,
                  null
                ],
                [
                  "2",
                  "2018-04-01 00:00:00",
                  "sul",
                  "24.70962536571009",
                  null,
                  "28",
                  "0",
                  "0",
                  "0",
                  "0",
                  "-1.0",
                  "1.96129182054553e-15",
                  null,
                  null
                ],
                [
                  "3",
                  "2023-03-01 00:00:00",
                  "sul",
                  "29.57809768807097",
                  null,
                  "87",
                  "0",
                  "0",
                  "1",
                  "12",
                  "1.0",
                  "2.302769268842636e-14",
                  null,
                  null
                ],
                [
                  "4",
                  "2018-05-01 00:00:00",
                  "sul",
                  "23.91222969468854",
                  null,
                  "29",
                  "0",
                  "0",
                  "0",
                  "0",
                  "0.8660254037844327",
                  "0.5000000000000102",
                  null,
                  null
                ],
                [
                  "5",
                  "2018-06-01 00:00:00",
                  "sul",
                  "24.44785892166254",
                  null,
                  "30",
                  "0",
                  "0",
                  "0",
                  "0",
                  "-1.0",
                  "-5.389064896884942e-15",
                  null,
                  null
                ],
                [
                  "6",
                  "2023-02-01 00:00:00",
                  "sul",
                  "30.75363291846458",
                  null,
                  "86",
                  "0",
                  "0",
                  "1",
                  "11",
                  "6.856784113952001e-15",
                  "-1.0",
                  null,
                  null
                ],
                [
                  "7",
                  "2023-01-01 00:00:00",
                  "sul",
                  "29.63927937024431",
                  null,
                  "85",
                  "0",
                  "0",
                  "1",
                  "10",
                  "0.5000000000000208",
                  "-0.8660254037844266",
                  null,
                  null
                ],
                [
                  "8",
                  "2021-03-01 00:00:00",
                  "sul",
                  "25.93448232318803",
                  null,
                  "63",
                  "1",
                  "12",
                  "0",
                  "0",
                  "-1.469823751231459e-14",
                  "1.0",
                  null,
                  null
                ],
                [
                  "9",
                  "2018-08-01 00:00:00",
                  "sul",
                  "24.20096582063372",
                  null,
                  "32",
                  "0",
                  "0",
                  "0",
                  "0",
                  "-0.8660254037844379",
                  "-0.5000000000000012",
                  null,
                  null
                ],
                [
                  "10",
                  "2022-12-01 00:00:00",
                  "sul",
                  "25.98165711997674",
                  null,
                  "84",
                  "0",
                  "0",
                  "1",
                  "9",
                  "-1.0",
                  "9.314124460522356e-15",
                  null,
                  null
                ],
                [
                  "11",
                  "2018-09-01 00:00:00",
                  "sul",
                  "25.08746842356138",
                  null,
                  "33",
                  "0",
                  "0",
                  "0",
                  "0",
                  "0.500000000000003",
                  "-0.8660254037844369",
                  null,
                  null
                ],
                [
                  "12",
                  "2022-11-01 00:00:00",
                  "sul",
                  "26.55771481964728",
                  null,
                  "83",
                  "0",
                  "0",
                  "1",
                  "8",
                  "1.0",
                  "3.674868868396942e-14",
                  null,
                  null
                ],
                [
                  "13",
                  "2018-10-01 00:00:00",
                  "sul",
                  "24.41709339531521",
                  null,
                  "34",
                  "0",
                  "0",
                  "0",
                  "0",
                  "-0.5",
                  "0.8660254037844386",
                  null,
                  null
                ],
                [
                  "14",
                  "2018-11-01 00:00:00",
                  "sul",
                  "24.75198480617482",
                  null,
                  "35",
                  "0",
                  "0",
                  "0",
                  "0",
                  "0.499999999999997",
                  "-0.8660254037844404",
                  null,
                  null
                ],
                [
                  "15",
                  "2022-10-01 00:00:00",
                  "sul",
                  "27.85137045143114",
                  null,
                  "82",
                  "0",
                  "0",
                  "1",
                  "7",
                  "-0.8660254037844313",
                  "-0.5000000000000128",
                  null,
                  null
                ],
                [
                  "16",
                  "2018-12-01 00:00:00",
                  "sul",
                  "24.26591002237523",
                  null,
                  "36",
                  "0",
                  "0",
                  "0",
                  "0",
                  "-0.49999999999999406",
                  "0.866025403784442",
                  null,
                  null
                ],
                [
                  "17",
                  "2019-01-01 00:00:00",
                  "sul",
                  "23.66318386164116",
                  null,
                  "37",
                  "0",
                  "0",
                  "0",
                  "0",
                  "0.4999999999999864",
                  "0.8660254037844465",
                  null,
                  null
                ],
                [
                  "18",
                  "2022-09-01 00:00:00",
                  "sul",
                  "29.24359285301652",
                  null,
                  "81",
                  "0",
                  "0",
                  "1",
                  "6",
                  "-9.797174393178826e-15",
                  "1.0",
                  null,
                  null
                ],
                [
                  "19",
                  "2023-04-01 00:00:00",
                  "sul",
                  "27.49301245181331",
                  null,
                  "88",
                  "0",
                  "0",
                  "1",
                  "13",
                  "-1.0",
                  "-3.3808298404742594e-14",
                  null,
                  null
                ],
                [
                  "20",
                  "2018-03-01 00:00:00",
                  "sul",
                  "24.49283490555982",
                  null,
                  "27",
                  "0",
                  "0",
                  "0",
                  "0",
                  "0.500000000000006",
                  "0.8660254037844353",
                  null,
                  null
                ],
                [
                  "21",
                  "2019-02-01 00:00:00",
                  "sul",
                  "24.29381106665907",
                  null,
                  "38",
                  "0",
                  "0",
                  "0",
                  "0",
                  "-0.5000000000000004",
                  "0.8660254037844384",
                  null,
                  null
                ],
                [
                  "22",
                  "2018-02-01 00:00:00",
                  "sul",
                  "26.30380006656519",
                  null,
                  "26",
                  "0",
                  "0",
                  "0",
                  "0",
                  "-0.500000000000003",
                  "-0.8660254037844369",
                  null,
                  null
                ],
                [
                  "23",
                  "2024-01-01 00:00:00",
                  "sul",
                  "31.55290014872558",
                  null,
                  "97",
                  "0",
                  "0",
                  "1",
                  "22",
                  "1.0",
                  "1.714691212997271e-14",
                  null,
                  null
                ],
                [
                  "24",
                  "2017-05-01 00:00:00",
                  "sul",
                  "24.07882258503543",
                  null,
                  "17",
                  "0",
                  "0",
                  "0",
                  "0",
                  "0.5000000000000009",
                  "0.8660254037844382",
                  null,
                  null
                ],
                [
                  "25",
                  "2023-12-01 00:00:00",
                  "sul",
                  "31.03455801276937",
                  null,
                  "96",
                  "0",
                  "0",
                  "1",
                  "21",
                  "-0.8660254037844333",
                  "0.5000000000000093",
                  null,
                  null
                ],
                [
                  "26",
                  "2017-06-01 00:00:00",
                  "sul",
                  "24.51238647056554",
                  null,
                  "18",
                  "0",
                  "0",
                  "0",
                  "0",
                  "-1.4708141202500005e-15",
                  "-1.0",
                  null,
                  null
                ],
                [
                  "27",
                  "2023-11-01 00:00:00",
                  "sul",
                  "31.03032549558447",
                  null,
                  "95",
                  "0",
                  "0",
                  "1",
                  "20",
                  "0.8660254037844278",
                  "-0.5000000000000187",
                  null,
                  null
                ],
                [
                  "28",
                  "2017-07-01 00:00:00",
                  "sul",
                  "24.04932530415184",
                  null,
                  "19",
                  "0",
                  "0",
                  "0",
                  "0",
                  "-2.204364238465236e-15",
                  "1.0",
                  null,
                  null
                ],
                [
                  "29",
                  "2023-10-01 00:00:00",
                  "sul",
                  "31.23968975721148",
                  null,
                  "94",
                  "0",
                  "0",
                  "1",
                  "19",
                  "-0.49999999999998346",
                  "-0.8660254037844481",
                  null,
                  null
                ],
                [
                  "30",
                  "2017-08-01 00:00:00",
                  "sul",
                  "25.02007444633176",
                  null,
                  "20",
                  "0",
                  "0",
                  "0",
                  "0",
                  "-1.0",
                  "-4.164418097737589e-15",
                  null,
                  null
                ],
                [
                  "31",
                  "2017-09-01 00:00:00",
                  "sul",
                  "24.45072602560816",
                  null,
                  "21",
                  "0",
                  "0",
                  "0",
                  "0",
                  "0.5000000000000004",
                  "0.8660254037844384",
                  null,
                  null
                ],
                [
                  "32",
                  "2023-09-01 00:00:00",
                  "sul",
                  "32.38151516725416",
                  null,
                  "93",
                  "0",
                  "0",
                  "1",
                  "18",
                  "0.4999999999999928",
                  "0.8660254037844428",
                  null,
                  null
                ],
                [
                  "33",
                  "2017-10-01 00:00:00",
                  "sul",
                  "25.64184945257824",
                  null,
                  "22",
                  "0",
                  "0",
                  "0",
                  "0",
                  "-1.0",
                  "-4.40934745756706e-15",
                  null,
                  null
                ],
                [
                  "34",
                  "2023-08-01 00:00:00",
                  "sul",
                  "31.24723099800068",
                  null,
                  "92",
                  "0",
                  "0",
                  "1",
                  "17",
                  "-0.8660254037844201",
                  "-0.5000000000000322",
                  null,
                  null
                ],
                [
                  "35",
                  "2017-11-01 00:00:00",
                  "sul",
                  "25.1924024820175",
                  null,
                  "23",
                  "0",
                  "0",
                  "0",
                  "0",
                  "1.0",
                  "9.790984586812941e-16",
                  null,
                  null
                ],
                [
                  "36",
                  "2023-07-01 00:00:00",
                  "sul",
                  "30.43976242448078",
                  null,
                  "91",
                  "0",
                  "0",
                  "1",
                  "16",
                  "0.8660254037844254",
                  "0.5000000000000229",
                  null,
                  null
                ],
                [
                  "37",
                  "2017-12-01 00:00:00",
                  "sul",
                  "26.24368846940549",
                  null,
                  "24",
                  "0",
                  "0",
                  "0",
                  "0",
                  "-0.8660254037844384",
                  "-0.5000000000000004",
                  null,
                  null
                ],
                [
                  "38",
                  "2023-06-01 00:00:00",
                  "sul",
                  "28.89362101782022",
                  null,
                  "90",
                  "0",
                  "0",
                  "1",
                  "15",
                  "-0.5000000000000182",
                  "0.8660254037844282",
                  null,
                  null
                ],
                [
                  "39",
                  "2018-01-01 00:00:00",
                  "sul",
                  "25.50070029591451",
                  null,
                  "25",
                  "0",
                  "0",
                  "0",
                  "0",
                  "0.8660254037844414",
                  "-0.49999999999999534",
                  null,
                  null
                ],
                [
                  "40",
                  "2022-08-01 00:00:00",
                  "sul",
                  "27.58765228590386",
                  null,
                  "80",
                  "0",
                  "0",
                  "1",
                  "5",
                  "-1.0",
                  "-4.406871535020706e-15",
                  null,
                  null
                ],
                [
                  "41",
                  "2019-03-01 00:00:00",
                  "sul",
                  "25.45077339245917",
                  null,
                  "39",
                  "0",
                  "0",
                  "0",
                  "0",
                  "0.8660254037844428",
                  "0.4999999999999928",
                  null,
                  null
                ],
                [
                  "42",
                  "2017-03-01 00:00:00",
                  "sul",
                  "24.38589964391444",
                  null,
                  "15",
                  "0",
                  "0",
                  "0",
                  "0",
                  "1.0",
                  "-6.189806365883577e-19",
                  null,
                  null
                ],
                [
                  "43",
                  "2020-03-01 00:00:00",
                  "sul",
                  "27.31581057065054",
                  null,
                  "51",
                  "0",
                  "0",
                  "0",
                  "0",
                  "0.4999999999999987",
                  "-0.8660254037844394",
                  null,
                  null
                ],
                [
                  "44",
                  "2020-04-01 00:00:00",
                  "sul",
                  "33.41441237693909",
                  null,
                  "52",
                  "1",
                  "1",
                  "0",
                  "0",
                  "-0.5000000000000081",
                  "0.866025403784434",
                  null,
                  null
                ],
                [
                  "45",
                  "2020-05-01 00:00:00",
                  "sul",
                  "32.9045579959939",
                  null,
                  "53",
                  "1",
                  "2",
                  "0",
                  "0",
                  "7.842691359635767e-15",
                  "1.0",
                  null,
                  null
                ],
                [
                  "46",
                  "2020-06-01 00:00:00",
                  "sul",
                  "32.14069032006051",
                  null,
                  "54",
                  "1",
                  "3",
                  "0",
                  "0",
                  "2.937914356680471e-15",
                  "-1.0",
                  null,
                  null
                ],
                [
                  "47",
                  "2021-09-01 00:00:00",
                  "sul",
                  "29.00829210138901",
                  null,
                  "69",
                  "1",
                  "18",
                  "0",
                  "0",
                  "0.8660254037844304",
                  "0.5000000000000144",
                  null,
                  null
                ],
                [
                  "48",
                  "2021-08-01 00:00:00",
                  "sul",
                  "28.52206873014849",
                  null,
                  "68",
                  "1",
                  "17",
                  "0",
                  "0",
                  "-0.5000000000000098",
                  "0.866025403784433",
                  null,
                  null
                ],
                [
                  "49",
                  "2020-07-01 00:00:00",
                  "sul",
                  "29.39625123295836",
                  null,
                  "55",
                  "1",
                  "4",
                  "0",
                  "0",
                  "0.8660254037844396",
                  "-0.4999999999999983",
                  null,
                  null
                ]
              ],
              "shape": {
                "columns": 13,
                "rows": 648
              }
            },
            "text/html": [
              "<div>\n",
              "<style scoped>\n",
              "    .dataframe tbody tr th:only-of-type {\n",
              "        vertical-align: middle;\n",
              "    }\n",
              "\n",
              "    .dataframe tbody tr th {\n",
              "        vertical-align: top;\n",
              "    }\n",
              "\n",
              "    .dataframe thead th {\n",
              "        text-align: right;\n",
              "    }\n",
              "</style>\n",
              "<table border=\"1\" class=\"dataframe\">\n",
              "  <thead>\n",
              "    <tr style=\"text-align: right;\">\n",
              "      <th></th>\n",
              "      <th>date</th>\n",
              "      <th>variavel</th>\n",
              "      <th>valores</th>\n",
              "      <th>total_atd</th>\n",
              "      <th>periodo</th>\n",
              "      <th>Pandemia_Step</th>\n",
              "      <th>Pandemia_Trend</th>\n",
              "      <th>PosPandemia_Step</th>\n",
              "      <th>PosPandemia_Trend</th>\n",
              "      <th>cos1</th>\n",
              "      <th>sin1</th>\n",
              "      <th>IR</th>\n",
              "      <th>offset</th>\n",
              "    </tr>\n",
              "  </thead>\n",
              "  <tbody>\n",
              "    <tr>\n",
              "      <th>0</th>\n",
              "      <td>2024-12-01</td>\n",
              "      <td>sul</td>\n",
              "      <td>30.584808</td>\n",
              "      <td>NaN</td>\n",
              "      <td>108</td>\n",
              "      <td>0</td>\n",
              "      <td>0</td>\n",
              "      <td>1</td>\n",
              "      <td>33</td>\n",
              "      <td>-5.000000e-01</td>\n",
              "      <td>8.660254e-01</td>\n",
              "      <td>NaN</td>\n",
              "      <td>NaN</td>\n",
              "    </tr>\n",
              "    <tr>\n",
              "      <th>1</th>\n",
              "      <td>2023-05-01</td>\n",
              "      <td>sul</td>\n",
              "      <td>27.334337</td>\n",
              "      <td>NaN</td>\n",
              "      <td>89</td>\n",
              "      <td>0</td>\n",
              "      <td>0</td>\n",
              "      <td>1</td>\n",
              "      <td>14</td>\n",
              "      <td>5.000000e-01</td>\n",
              "      <td>8.660254e-01</td>\n",
              "      <td>NaN</td>\n",
              "      <td>NaN</td>\n",
              "    </tr>\n",
              "    <tr>\n",
              "      <th>2</th>\n",
              "      <td>2018-04-01</td>\n",
              "      <td>sul</td>\n",
              "      <td>24.709625</td>\n",
              "      <td>NaN</td>\n",
              "      <td>28</td>\n",
              "      <td>0</td>\n",
              "      <td>0</td>\n",
              "      <td>0</td>\n",
              "      <td>0</td>\n",
              "      <td>-1.000000e+00</td>\n",
              "      <td>1.961292e-15</td>\n",
              "      <td>NaN</td>\n",
              "      <td>NaN</td>\n",
              "    </tr>\n",
              "    <tr>\n",
              "      <th>3</th>\n",
              "      <td>2023-03-01</td>\n",
              "      <td>sul</td>\n",
              "      <td>29.578098</td>\n",
              "      <td>NaN</td>\n",
              "      <td>87</td>\n",
              "      <td>0</td>\n",
              "      <td>0</td>\n",
              "      <td>1</td>\n",
              "      <td>12</td>\n",
              "      <td>1.000000e+00</td>\n",
              "      <td>2.302769e-14</td>\n",
              "      <td>NaN</td>\n",
              "      <td>NaN</td>\n",
              "    </tr>\n",
              "    <tr>\n",
              "      <th>4</th>\n",
              "      <td>2018-05-01</td>\n",
              "      <td>sul</td>\n",
              "      <td>23.912230</td>\n",
              "      <td>NaN</td>\n",
              "      <td>29</td>\n",
              "      <td>0</td>\n",
              "      <td>0</td>\n",
              "      <td>0</td>\n",
              "      <td>0</td>\n",
              "      <td>8.660254e-01</td>\n",
              "      <td>5.000000e-01</td>\n",
              "      <td>NaN</td>\n",
              "      <td>NaN</td>\n",
              "    </tr>\n",
              "    <tr>\n",
              "      <th>...</th>\n",
              "      <td>...</td>\n",
              "      <td>...</td>\n",
              "      <td>...</td>\n",
              "      <td>...</td>\n",
              "      <td>...</td>\n",
              "      <td>...</td>\n",
              "      <td>...</td>\n",
              "      <td>...</td>\n",
              "      <td>...</td>\n",
              "      <td>...</td>\n",
              "      <td>...</td>\n",
              "      <td>...</td>\n",
              "      <td>...</td>\n",
              "    </tr>\n",
              "    <tr>\n",
              "      <th>643</th>\n",
              "      <td>2022-04-01</td>\n",
              "      <td>brasil</td>\n",
              "      <td>25.702799</td>\n",
              "      <td>NaN</td>\n",
              "      <td>76</td>\n",
              "      <td>0</td>\n",
              "      <td>0</td>\n",
              "      <td>1</td>\n",
              "      <td>1</td>\n",
              "      <td>-8.660254e-01</td>\n",
              "      <td>-5.000000e-01</td>\n",
              "      <td>NaN</td>\n",
              "      <td>NaN</td>\n",
              "    </tr>\n",
              "    <tr>\n",
              "      <th>644</th>\n",
              "      <td>2017-11-01</td>\n",
              "      <td>brasil</td>\n",
              "      <td>16.826766</td>\n",
              "      <td>NaN</td>\n",
              "      <td>23</td>\n",
              "      <td>0</td>\n",
              "      <td>0</td>\n",
              "      <td>0</td>\n",
              "      <td>0</td>\n",
              "      <td>5.000000e-01</td>\n",
              "      <td>-8.660254e-01</td>\n",
              "      <td>NaN</td>\n",
              "      <td>NaN</td>\n",
              "    </tr>\n",
              "    <tr>\n",
              "      <th>645</th>\n",
              "      <td>2019-08-01</td>\n",
              "      <td>brasil</td>\n",
              "      <td>21.377674</td>\n",
              "      <td>NaN</td>\n",
              "      <td>44</td>\n",
              "      <td>0</td>\n",
              "      <td>0</td>\n",
              "      <td>0</td>\n",
              "      <td>0</td>\n",
              "      <td>-5.000000e-01</td>\n",
              "      <td>-8.660254e-01</td>\n",
              "      <td>NaN</td>\n",
              "      <td>NaN</td>\n",
              "    </tr>\n",
              "    <tr>\n",
              "      <th>646</th>\n",
              "      <td>2017-12-01</td>\n",
              "      <td>brasil</td>\n",
              "      <td>17.619795</td>\n",
              "      <td>NaN</td>\n",
              "      <td>24</td>\n",
              "      <td>0</td>\n",
              "      <td>0</td>\n",
              "      <td>0</td>\n",
              "      <td>0</td>\n",
              "      <td>6.369401e-15</td>\n",
              "      <td>-1.000000e+00</td>\n",
              "      <td>NaN</td>\n",
              "      <td>NaN</td>\n",
              "    </tr>\n",
              "    <tr>\n",
              "      <th>647</th>\n",
              "      <td>2016-01-01</td>\n",
              "      <td>brasil</td>\n",
              "      <td>13.491334</td>\n",
              "      <td>NaN</td>\n",
              "      <td>1</td>\n",
              "      <td>0</td>\n",
              "      <td>0</td>\n",
              "      <td>0</td>\n",
              "      <td>0</td>\n",
              "      <td>0.000000e+00</td>\n",
              "      <td>1.000000e+00</td>\n",
              "      <td>NaN</td>\n",
              "      <td>NaN</td>\n",
              "    </tr>\n",
              "  </tbody>\n",
              "</table>\n",
              "<p>648 rows × 13 columns</p>\n",
              "</div>"
            ],
            "text/plain": [
              "          date variavel    valores  total_atd  periodo  Pandemia_Step  \\\n",
              "0   2024-12-01      sul  30.584808        NaN      108              0   \n",
              "1   2023-05-01      sul  27.334337        NaN       89              0   \n",
              "2   2018-04-01      sul  24.709625        NaN       28              0   \n",
              "3   2023-03-01      sul  29.578098        NaN       87              0   \n",
              "4   2018-05-01      sul  23.912230        NaN       29              0   \n",
              "..         ...      ...        ...        ...      ...            ...   \n",
              "643 2022-04-01   brasil  25.702799        NaN       76              0   \n",
              "644 2017-11-01   brasil  16.826766        NaN       23              0   \n",
              "645 2019-08-01   brasil  21.377674        NaN       44              0   \n",
              "646 2017-12-01   brasil  17.619795        NaN       24              0   \n",
              "647 2016-01-01   brasil  13.491334        NaN        1              0   \n",
              "\n",
              "     Pandemia_Trend  PosPandemia_Step  PosPandemia_Trend          cos1  \\\n",
              "0                 0                 1                 33 -5.000000e-01   \n",
              "1                 0                 1                 14  5.000000e-01   \n",
              "2                 0                 0                  0 -1.000000e+00   \n",
              "3                 0                 1                 12  1.000000e+00   \n",
              "4                 0                 0                  0  8.660254e-01   \n",
              "..              ...               ...                ...           ...   \n",
              "643               0                 1                  1 -8.660254e-01   \n",
              "644               0                 0                  0  5.000000e-01   \n",
              "645               0                 0                  0 -5.000000e-01   \n",
              "646               0                 0                  0  6.369401e-15   \n",
              "647               0                 0                  0  0.000000e+00   \n",
              "\n",
              "             sin1  IR  offset  \n",
              "0    8.660254e-01 NaN     NaN  \n",
              "1    8.660254e-01 NaN     NaN  \n",
              "2    1.961292e-15 NaN     NaN  \n",
              "3    2.302769e-14 NaN     NaN  \n",
              "4    5.000000e-01 NaN     NaN  \n",
              "..            ...  ..     ...  \n",
              "643 -5.000000e-01 NaN     NaN  \n",
              "644 -8.660254e-01 NaN     NaN  \n",
              "645 -8.660254e-01 NaN     NaN  \n",
              "646 -1.000000e+00 NaN     NaN  \n",
              "647  1.000000e+00 NaN     NaN  \n",
              "\n",
              "[648 rows x 13 columns]"
            ]
          },
          "execution_count": 15,
          "metadata": {},
          "output_type": "execute_result"
        }
      ],
      "source": [
        "\n",
        "pipe = Pipeline(\n",
        "    [\n",
        "        (\"grouping\", FrequencyGroupingTransformer(frequency=PREPROCESSOR_ARGS['FrequencyDateGroup'])),\n",
        "        (\"melt\", MeltTransformer(perform_IR=PREPROCESSOR_ARGS['melt_total_atd'])),\n",
        "        (\"date_filter\", DateFilterTransformer(periodos_inclusivos=PREPROCESSOR_ARGS['DateRange'])),\n",
        "        (\"period_index_adder\", PeriodIndexAdder()),\n",
        "        (\"dummy_adder\", MultiDummyAdder(dummy_config=PREPROCESSOR_ARGS['DummyArgs'])),\n",
        "        #(\"monthly_dummy_adder\", MonthlyDummyAdder()),\n",
        "        #(\"quarterly_dummy_adder\", QuarterlyDummyAdder()),\n",
        "        ('fourier_seasonality', FourierSeasonalityAdder(period = FOURIER_PERIOD,order=N_HARMONICS)),\n",
        "        #('moving_average', MovingAverageTransformer(window=MOVING_WINDOW, prefix='ma', center=True)),\n",
        "        (\"sorter\", DataFrameSorter(sort_by=GROUP_COL_NAME, ascending=False)),\n",
        "\n",
        "\n",
        "    ]\n",
        ")\n",
        "\n",
        "\n",
        "RawDataDF = BuildDataDF(dados_brutos)\n",
        "RegressionDF = pipe.fit_transform(RawDataDF)\n",
        "\n",
        "if PREPROCESSOR_ARGS['ExtractIR']:\n",
        "    RegressionDF[IR_VAR] =  RegressionDF[RAW_ATD_VAR]/RegressionDF[RAW_TOTAL_ATD_VAR] * IR_SCALE\n",
        "\n",
        "if RegressionDF[RAW_TOTAL_ATD_VAR] is not None:\n",
        "    RegressionDF[\"offset\"] = np.log(RegressionDF[\"total_atd\"] / IR_SCALE)\n",
        "\n",
        "\n",
        "RegressionDF\n"
      ]
    },
    {
      "cell_type": "markdown",
      "metadata": {},
      "source": [
        "# Exploração Pré intervenção\n"
      ]
    },
    {
      "cell_type": "code",
      "execution_count": 16,
      "metadata": {},
      "outputs": [
        {
          "name": "stdout",
          "output_type": "stream",
          "text": [
            "Analisando variável: sul\n",
            "Analisando variável: sudeste\n",
            "Analisando variável: norte\n",
            "Analisando variável: nordeste\n",
            "Analisando variável: centro_oeste\n",
            "Analisando variável: brasil\n"
          ]
        },
        {
          "data": {
            "application/vnd.microsoft.datawrangler.viewer.v0+json": {
              "columns": [
                {
                  "name": "Variable",
                  "rawType": "object",
                  "type": "string"
                },
                {
                  "name": "ADF Statistic",
                  "rawType": "float64",
                  "type": "float"
                },
                {
                  "name": "ADF p-value",
                  "rawType": "float64",
                  "type": "float"
                },
                {
                  "name": "ADF Stationary",
                  "rawType": "bool",
                  "type": "boolean"
                },
                {
                  "name": "ACF",
                  "rawType": "object",
                  "type": "string"
                },
                {
                  "name": "PACF",
                  "rawType": "object",
                  "type": "string"
                },
                {
                  "name": "Breusch-Pagan LM Statistic",
                  "rawType": "float64",
                  "type": "float"
                },
                {
                  "name": "Breusch-Pagan p-value",
                  "rawType": "float64",
                  "type": "float"
                },
                {
                  "name": "Heteroscedasticity",
                  "rawType": "bool",
                  "type": "boolean"
                },
                {
                  "name": "Shapiro-Wilk p-value",
                  "rawType": "float64",
                  "type": "float"
                },
                {
                  "name": "Jarque-Bera p-value",
                  "rawType": "float64",
                  "type": "float"
                },
                {
                  "name": "D'Agostino p-value",
                  "rawType": "float64",
                  "type": "float"
                },
                {
                  "name": "Normality",
                  "rawType": "bool",
                  "type": "boolean"
                },
                {
                  "name": "Durbin-Watson Statistic",
                  "rawType": "float64",
                  "type": "float"
                },
                {
                  "name": "No Autocorrelation",
                  "rawType": "bool",
                  "type": "boolean"
                }
              ],
              "conversionMethod": "pd.DataFrame",
              "ref": "f8e10532-5034-4359-b31a-d1977bca8cd1",
              "rows": [
                [
                  "sul",
                  "-4.176007823807661",
                  "0.0007233004813176151",
                  "True",
                  "Plotted",
                  "Plotted",
                  "4.833700581436134",
                  "0.02790866526503132",
                  "True",
                  "0.154286898754797",
                  "0.19208689377054544",
                  "0.1296530281303333",
                  "True",
                  "1.098449867692645",
                  "False"
                ],
                [
                  "sudeste",
                  "-3.8827594954896165",
                  "0.0021654557486336665",
                  "True",
                  "Plotted",
                  "Plotted",
                  "6.498024902146033",
                  "0.010799439619571055",
                  "True",
                  "0.028896197267985823",
                  "0.5072912983179293",
                  "0.44887181357566763",
                  "False",
                  "2.0667009943864274",
                  "True"
                ],
                [
                  "norte",
                  "-5.657226283776656",
                  "9.559254432006324e-07",
                  "True",
                  "Plotted",
                  "Plotted",
                  "10.48223572364709",
                  "0.0012052781488312051",
                  "True",
                  "0.0008587559726802628",
                  "0.09562379746168415",
                  "3.633776080513314e-07",
                  "False",
                  "1.9366147849479491",
                  "True"
                ],
                [
                  "nordeste",
                  "-7.561955727338102",
                  "2.993784430956959e-11",
                  "True",
                  "Plotted",
                  "Plotted",
                  "0.19499908655922815",
                  "0.6587880863523755",
                  "False",
                  "0.018867922589888658",
                  "0.28067384081471997",
                  "0.17355193735979743",
                  "False",
                  "2.207011184598757",
                  "True"
                ],
                [
                  "centro_oeste",
                  "-1.5813280832625007",
                  "0.49296587778906426",
                  "False",
                  "Plotted",
                  "Plotted",
                  "11.534394120648205",
                  "0.0006832033964504957",
                  "True",
                  "0.0006312134824989388",
                  "0.09382525988251762",
                  "3.725672756895813e-09",
                  "False",
                  "0.3135223517623607",
                  "False"
                ],
                [
                  "brasil",
                  "-5.93692742793491",
                  "2.3091431767818043e-07",
                  "True",
                  "Plotted",
                  "Plotted",
                  "2.4983578419008423",
                  "0.11396507616255655",
                  "False",
                  "0.24807043954777697",
                  "0.6833148950052765",
                  "0.7133238066405746",
                  "True",
                  "2.1571641622474274",
                  "True"
                ]
              ],
              "shape": {
                "columns": 14,
                "rows": 6
              }
            },
            "text/html": [
              "<div>\n",
              "<style scoped>\n",
              "    .dataframe tbody tr th:only-of-type {\n",
              "        vertical-align: middle;\n",
              "    }\n",
              "\n",
              "    .dataframe tbody tr th {\n",
              "        vertical-align: top;\n",
              "    }\n",
              "\n",
              "    .dataframe thead th {\n",
              "        text-align: right;\n",
              "    }\n",
              "</style>\n",
              "<table border=\"1\" class=\"dataframe\">\n",
              "  <thead>\n",
              "    <tr style=\"text-align: right;\">\n",
              "      <th></th>\n",
              "      <th>ADF Statistic</th>\n",
              "      <th>ADF p-value</th>\n",
              "      <th>ADF Stationary</th>\n",
              "      <th>ACF</th>\n",
              "      <th>PACF</th>\n",
              "      <th>Breusch-Pagan LM Statistic</th>\n",
              "      <th>Breusch-Pagan p-value</th>\n",
              "      <th>Heteroscedasticity</th>\n",
              "      <th>Shapiro-Wilk p-value</th>\n",
              "      <th>Jarque-Bera p-value</th>\n",
              "      <th>D'Agostino p-value</th>\n",
              "      <th>Normality</th>\n",
              "      <th>Durbin-Watson Statistic</th>\n",
              "      <th>No Autocorrelation</th>\n",
              "    </tr>\n",
              "    <tr>\n",
              "      <th>Variable</th>\n",
              "      <th></th>\n",
              "      <th></th>\n",
              "      <th></th>\n",
              "      <th></th>\n",
              "      <th></th>\n",
              "      <th></th>\n",
              "      <th></th>\n",
              "      <th></th>\n",
              "      <th></th>\n",
              "      <th></th>\n",
              "      <th></th>\n",
              "      <th></th>\n",
              "      <th></th>\n",
              "      <th></th>\n",
              "    </tr>\n",
              "  </thead>\n",
              "  <tbody>\n",
              "    <tr>\n",
              "      <th>sul</th>\n",
              "      <td>-4.176008</td>\n",
              "      <td>7.233005e-04</td>\n",
              "      <td>True</td>\n",
              "      <td>Plotted</td>\n",
              "      <td>Plotted</td>\n",
              "      <td>4.833701</td>\n",
              "      <td>0.027909</td>\n",
              "      <td>True</td>\n",
              "      <td>0.154287</td>\n",
              "      <td>0.192087</td>\n",
              "      <td>1.296530e-01</td>\n",
              "      <td>True</td>\n",
              "      <td>1.098450</td>\n",
              "      <td>False</td>\n",
              "    </tr>\n",
              "    <tr>\n",
              "      <th>sudeste</th>\n",
              "      <td>-3.882759</td>\n",
              "      <td>2.165456e-03</td>\n",
              "      <td>True</td>\n",
              "      <td>Plotted</td>\n",
              "      <td>Plotted</td>\n",
              "      <td>6.498025</td>\n",
              "      <td>0.010799</td>\n",
              "      <td>True</td>\n",
              "      <td>0.028896</td>\n",
              "      <td>0.507291</td>\n",
              "      <td>4.488718e-01</td>\n",
              "      <td>False</td>\n",
              "      <td>2.066701</td>\n",
              "      <td>True</td>\n",
              "    </tr>\n",
              "    <tr>\n",
              "      <th>norte</th>\n",
              "      <td>-5.657226</td>\n",
              "      <td>9.559254e-07</td>\n",
              "      <td>True</td>\n",
              "      <td>Plotted</td>\n",
              "      <td>Plotted</td>\n",
              "      <td>10.482236</td>\n",
              "      <td>0.001205</td>\n",
              "      <td>True</td>\n",
              "      <td>0.000859</td>\n",
              "      <td>0.095624</td>\n",
              "      <td>3.633776e-07</td>\n",
              "      <td>False</td>\n",
              "      <td>1.936615</td>\n",
              "      <td>True</td>\n",
              "    </tr>\n",
              "    <tr>\n",
              "      <th>nordeste</th>\n",
              "      <td>-7.561956</td>\n",
              "      <td>2.993784e-11</td>\n",
              "      <td>True</td>\n",
              "      <td>Plotted</td>\n",
              "      <td>Plotted</td>\n",
              "      <td>0.194999</td>\n",
              "      <td>0.658788</td>\n",
              "      <td>False</td>\n",
              "      <td>0.018868</td>\n",
              "      <td>0.280674</td>\n",
              "      <td>1.735519e-01</td>\n",
              "      <td>False</td>\n",
              "      <td>2.207011</td>\n",
              "      <td>True</td>\n",
              "    </tr>\n",
              "    <tr>\n",
              "      <th>centro_oeste</th>\n",
              "      <td>-1.581328</td>\n",
              "      <td>4.929659e-01</td>\n",
              "      <td>False</td>\n",
              "      <td>Plotted</td>\n",
              "      <td>Plotted</td>\n",
              "      <td>11.534394</td>\n",
              "      <td>0.000683</td>\n",
              "      <td>True</td>\n",
              "      <td>0.000631</td>\n",
              "      <td>0.093825</td>\n",
              "      <td>3.725673e-09</td>\n",
              "      <td>False</td>\n",
              "      <td>0.313522</td>\n",
              "      <td>False</td>\n",
              "    </tr>\n",
              "    <tr>\n",
              "      <th>brasil</th>\n",
              "      <td>-5.936927</td>\n",
              "      <td>2.309143e-07</td>\n",
              "      <td>True</td>\n",
              "      <td>Plotted</td>\n",
              "      <td>Plotted</td>\n",
              "      <td>2.498358</td>\n",
              "      <td>0.113965</td>\n",
              "      <td>False</td>\n",
              "      <td>0.248070</td>\n",
              "      <td>0.683315</td>\n",
              "      <td>7.133238e-01</td>\n",
              "      <td>True</td>\n",
              "      <td>2.157164</td>\n",
              "      <td>True</td>\n",
              "    </tr>\n",
              "  </tbody>\n",
              "</table>\n",
              "</div>"
            ],
            "text/plain": [
              "              ADF Statistic   ADF p-value  ADF Stationary      ACF     PACF  \\\n",
              "Variable                                                                      \n",
              "sul               -4.176008  7.233005e-04            True  Plotted  Plotted   \n",
              "sudeste           -3.882759  2.165456e-03            True  Plotted  Plotted   \n",
              "norte             -5.657226  9.559254e-07            True  Plotted  Plotted   \n",
              "nordeste          -7.561956  2.993784e-11            True  Plotted  Plotted   \n",
              "centro_oeste      -1.581328  4.929659e-01           False  Plotted  Plotted   \n",
              "brasil            -5.936927  2.309143e-07            True  Plotted  Plotted   \n",
              "\n",
              "              Breusch-Pagan LM Statistic  Breusch-Pagan p-value  \\\n",
              "Variable                                                          \n",
              "sul                             4.833701               0.027909   \n",
              "sudeste                         6.498025               0.010799   \n",
              "norte                          10.482236               0.001205   \n",
              "nordeste                        0.194999               0.658788   \n",
              "centro_oeste                   11.534394               0.000683   \n",
              "brasil                          2.498358               0.113965   \n",
              "\n",
              "              Heteroscedasticity  Shapiro-Wilk p-value  Jarque-Bera p-value  \\\n",
              "Variable                                                                      \n",
              "sul                         True              0.154287             0.192087   \n",
              "sudeste                     True              0.028896             0.507291   \n",
              "norte                       True              0.000859             0.095624   \n",
              "nordeste                   False              0.018868             0.280674   \n",
              "centro_oeste                True              0.000631             0.093825   \n",
              "brasil                     False              0.248070             0.683315   \n",
              "\n",
              "              D'Agostino p-value  Normality  Durbin-Watson Statistic  \\\n",
              "Variable                                                               \n",
              "sul                 1.296530e-01       True                 1.098450   \n",
              "sudeste             4.488718e-01      False                 2.066701   \n",
              "norte               3.633776e-07      False                 1.936615   \n",
              "nordeste            1.735519e-01      False                 2.207011   \n",
              "centro_oeste        3.725673e-09      False                 0.313522   \n",
              "brasil              7.133238e-01       True                 2.157164   \n",
              "\n",
              "              No Autocorrelation  \n",
              "Variable                          \n",
              "sul                        False  \n",
              "sudeste                     True  \n",
              "norte                       True  \n",
              "nordeste                    True  \n",
              "centro_oeste               False  \n",
              "brasil                      True  "
            ]
          },
          "execution_count": 16,
          "metadata": {},
          "output_type": "execute_result"
        }
      ],
      "source": [
        "def run_pre_intervention_diagnostics(data, date_col, dependent_var, intervention_start_date):\n",
        "    \"\"\"\n",
        "    Realiza testes diagnósticos no período pré-intervenção.\n",
        "\n",
        "    Args:\n",
        "        data (pd.DataFrame): DataFrame contendo os dados.\n",
        "        date_col (str): Nome da coluna de datas.\n",
        "        dependent_var (str): Nome da variável dependente.\n",
        "        intervention_start_date (str): Data de início da intervenção (formato 'YYYY-MM-DD').\n",
        "\n",
        "    Returns:\n",
        "        dict: Resultados dos testes diagnósticos.\n",
        "    \"\"\"\n",
        "    import pandas as pd\n",
        "    import matplotlib.pyplot as plt\n",
        "    from statsmodels.tsa.stattools import adfuller\n",
        "    from statsmodels.graphics.tsaplots import plot_acf, plot_pacf\n",
        "    from statsmodels.stats.diagnostic import het_breuschpagan\n",
        "    from statsmodels.stats.stattools import durbin_watson\n",
        "    from scipy.stats import shapiro, jarque_bera, normaltest\n",
        "    import statsmodels.api as sm\n",
        "\n",
        "    # Filtrar o período pré-intervenção\n",
        "    pre_intervention_df = data[data[date_col] < pd.to_datetime(intervention_start_date)]\n",
        "\n",
        "    # Inicializar resultados\n",
        "    results = {}\n",
        "\n",
        "    # 1. Teste de Estacionariedade (ADF)\n",
        "    y = pre_intervention_df[dependent_var]\n",
        "    adf_result = adfuller(y)\n",
        "    results['ADF Statistic'] = adf_result[0]\n",
        "    results['ADF p-value'] = adf_result[1]\n",
        "    results['ADF Stationary'] = adf_result[1] < 0.05\n",
        "\n",
        "    # 2. Diagnóstico de Autocorrelação (ACF e PACF)\n",
        "    results['ACF'] = \"Plotted\"\n",
        "    results['PACF'] = \"Plotted\"\n",
        "\n",
        "    # 3. Teste de Heterocedasticidade (Breusch-Pagan)\n",
        "    X = sm.add_constant(pre_intervention_df.index)  # Índice como variável independente\n",
        "    model = sm.OLS(y, X).fit()\n",
        "    bp_test = het_breuschpagan(model.resid, X)\n",
        "    results['Breusch-Pagan LM Statistic'] = bp_test[0]\n",
        "    results['Breusch-Pagan p-value'] = bp_test[1]\n",
        "    results['Heteroscedasticity'] = bp_test[1] < 0.05\n",
        "\n",
        "    # 4. Testes de Normalidade dos Resíduos\n",
        "    shapiro_test = shapiro(model.resid)\n",
        "    jb_test = jarque_bera(model.resid)\n",
        "    dagostino_test = normaltest(model.resid)\n",
        "    results['Shapiro-Wilk p-value'] = shapiro_test.pvalue\n",
        "    results['Jarque-Bera p-value'] = jb_test[1]\n",
        "    results['D\\'Agostino p-value'] = dagostino_test.pvalue\n",
        "    results['Normality'] = all(p > 0.05 for p in [shapiro_test.pvalue, jb_test[1], dagostino_test.pvalue])\n",
        "\n",
        "    # 5. Teste de Autocorrelação (Durbin-Watson)\n",
        "    dw_stat = durbin_watson(model.resid)\n",
        "    results['Durbin-Watson Statistic'] = dw_stat\n",
        "    results['No Autocorrelation'] = 1.5 < dw_stat < 2.5\n",
        "\n",
        "    return results\n",
        "\n",
        "\n",
        "# Consolidar os resultados em um DataFrame\n",
        "diagnostics_results = []\n",
        "\n",
        "for variable in RegressionDF[GROUP_COL_NAME].unique():\n",
        "    print(f\"Analisando variável: {variable}\")\n",
        "    variable_df = RegressionDF[RegressionDF[GROUP_COL_NAME] == variable].copy()\n",
        "    diagnostics = run_pre_intervention_diagnostics(\n",
        "        data=variable_df,\n",
        "        date_col=DATE_NAME,\n",
        "        dependent_var=DEPENDENT_VAR,\n",
        "        intervention_start_date=PANDEMIA_START_DATE\n",
        "    )\n",
        "    diagnostics['Variable'] = variable  # Adicionar o nome da variável ao resultado\n",
        "    diagnostics_results.append(diagnostics)\n",
        "\n",
        "# Criar um DataFrame com os resultados\n",
        "diagnostics_df = pd.DataFrame(diagnostics_results)\n",
        "diagnostics_df.set_index('Variable', inplace=True)\n",
        "\n",
        "# Exibir o DataFrame\n",
        "diagnostics_df\n"
      ]
    },
    {
      "cell_type": "markdown",
      "metadata": {
        "id": "_lLzpByrMa6g"
      },
      "source": [
        "# Media movel "
      ]
    },
    {
      "cell_type": "code",
      "execution_count": 17,
      "metadata": {
        "colab": {
          "base_uri": "https://localhost:8080/",
          "height": 1000
        },
        "id": "-DDe_bMWNIXb",
        "outputId": "3cca2b7a-d7ce-4e0a-abb7-4b6a9cb36edd"
      },
      "outputs": [],
      "source": [
        "import matplotlib.pyplot as plt\n",
        "\n",
        "\n",
        "\n",
        "moving_avg_pipe = Pipeline([\n",
        "    ('moving_average', MovingAverageTransformer(window=MOVING_WINDOW, prefix='ma', center=True)),\n",
        "    ]\n",
        "    )\n",
        "\n",
        "def plot_moving_average(df, column, ma_column=None, title='Moving Average Plot', date_column='date'):\n",
        "    \"\"\"\n",
        "    Plota a série temporal original junto com a média móvel.\n",
        "\n",
        "    df: DataFrame contendo os dados\n",
        "    column: nome da coluna original\n",
        "    ma_column: nome da coluna da média móvel (se None, assume padrão de 'ma_{window}_{column}')\n",
        "    title: título do gráfico\n",
        "    date_column: nome da coluna de data\n",
        "    \"\"\"\n",
        "    if ma_column is None:\n",
        "        ma_column = [col for col in df.columns if col.startswith('ma_') and col.endswith(column)]\n",
        "        if ma_column:\n",
        "            ma_column = ma_column[0]\n",
        "        else:\n",
        "            raise ValueError(\"Média móvel não encontrada. Verifique o nome da coluna.\")\n",
        "\n",
        "    df[date_column] = pd.to_datetime(df[date_column])  # Ensure datetime format\n",
        "\n",
        "    plt.figure(figsize=(12, 5))\n",
        "    plt.plot(df[date_column], df[column], label='Original', color='lightgray')\n",
        "    plt.plot(df[date_column], df[ma_column], label=f'{ma_column}', color='blue')\n",
        "    plt.title(title)\n",
        "    plt.xlabel('Data')\n",
        "    plt.ylabel(column)\n",
        "    plt.legend()\n",
        "    plt.grid(True)\n",
        "    plt.tight_layout()\n",
        "    plt.show()\n",
        "\n",
        "if PLOT_MEDIA_MOVEL:\n",
        "    for var in RegressionDF[GROUP_COL_NAME].unique():\n",
        "        var_df = RegressionDF[RegressionDF[GROUP_COL_NAME] == var]\n",
        "        #var_df = var_df.sort_values(by = INDEPENDENT_VAR, ascending=False)\n",
        "        #print(var_df)\n",
        "        #var_df = moving_avg_pipe.fit_transform(var_df)\n",
        "\n",
        "\n",
        "        plot_moving_average(var_df, column=DEPENDENT_VAR, ma_column=f'ma_{MOVING_WINDOW}_valores', title=f'Moving Average Plot for {var}')\n",
        "\n"
      ]
    },
    {
      "cell_type": "markdown",
      "metadata": {
        "id": "NPO_tituNIXb"
      },
      "source": [
        "# Get Period Date Map and Dummies Period Indexes"
      ]
    },
    {
      "cell_type": "code",
      "execution_count": 18,
      "metadata": {},
      "outputs": [],
      "source": [
        "PERIOD_DATE_MAP = pipe.named_steps['period_index_adder'].period_date_mapping"
      ]
    },
    {
      "cell_type": "code",
      "execution_count": 19,
      "metadata": {},
      "outputs": [],
      "source": [
        "def find_idx_from_date(target_date, args, period_date_map=PERIOD_DATE_MAP):\n",
        "    \"\"\"\n",
        "    Finds the 'periodo' (index) corresponding to a given datetime in the PERIOD_DATE_MAP.\n",
        "\n",
        "    Args:\n",
        "        target_date (str or datetime): The target date to search for (e.g., '2020-01-01').\n",
        "        period_date_map (dict): The PERIOD_DATE_MAP containing period-to-date mappings.\n",
        "\n",
        "    Returns:\n",
        "        int: The 'periodo' (index) corresponding to the target date, or None if not found.\n",
        "    \"\"\"\n",
        "    # Ensure the target_date is a datetime object and normalize to quarter-end\n",
        "    if isinstance(target_date, str):\n",
        "        target_date = pd.to_datetime(target_date)\n",
        "    if args['FrequencyDateGroup'] == 'Q' or args['FrequencyDateGroup'] == 'QE':\n",
        "        target_date = target_date + pd.offsets.QuarterEnd(0)\n",
        "\n",
        "    # Iterate through the PERIOD_DATE_MAP to find the matching period\n",
        "    for date, period in period_date_map.items():\n",
        "        if isinstance(date, str):\n",
        "            date = pd.to_datetime(date)\n",
        "        if args['FrequencyDateGroup'] == 'Q' or args['FrequencyDateGroup'] == 'QE':\n",
        "            date = date + pd.offsets.QuarterEnd(0) # Normalize to quarter-end\n",
        "        if date == target_date:\n",
        "            return period - 1\n",
        "\n",
        "    return None\n",
        "\n",
        "\n",
        "def find_date_from_idx(target_idx, args, period_date_map=PERIOD_DATE_MAP):\n",
        "    \"\"\"\n",
        "    Finds the date corresponding to a given 'periodo' (index) in the PERIOD_DATE_MAP.\n",
        "\n",
        "    Args:\n",
        "        target_idx (int): The target index to search for (e.g., 1, 2, 3).\n",
        "        period_date_map (dict): The PERIOD_DATE_MAP containing period-to-date mappings.\n",
        "\n",
        "    Returns:\n",
        "        datetime or None: The date corresponding to the target index, or None if not found.\n",
        "    \"\"\"\n",
        "    # Iterate through the PERIOD_DATE_MAP to find the matching index\n",
        "    for date, period in period_date_map.items():\n",
        "        if period == target_idx:\n",
        "            date = pd.to_datetime(date) if isinstance(date, str) else date\n",
        "            date = date + pd.offsets.QuarterEnd(0) if args['FrequencyDateGroup'] == 'Q' or args['FrequencyDateGroup'] == 'QE' else date\n",
        "            return date\n",
        "    return None"
      ]
    },
    {
      "cell_type": "code",
      "execution_count": 20,
      "metadata": {},
      "outputs": [
        {
          "name": "stdout",
          "output_type": "stream",
          "text": [
            "Pandemia_Step {'start_date': '2020-04-01', 'end_date': '2022-03-01', 'exclude_ranges': []}\n",
            "Pandemia_Trend {'start_date': '2020-04-01', 'end_date': '2022-03-01', 'exclude_ranges': [], 'add_time_trend': True, 'keep_period_index': False}\n",
            "PosPandemia_Step {'start_date': '2022-04-01', 'end_date': '2024-12-01', 'exclude_ranges': [], 'plot': False, 'step': True}\n",
            "PosPandemia_Trend {'start_date': '2022-04-01', 'end_date': '2024-12-01', 'exclude_ranges': [], 'plot': True, 'add_time_trend': True, 'keep_period_index': False, 'step': False}\n"
          ]
        },
        {
          "data": {
            "text/plain": [
              "{'Pandemia_Step': {'start_index': 51, 'end_index': 74},\n",
              " 'Pandemia_Trend': {'start_index': 51, 'end_index': 74},\n",
              " 'PosPandemia_Step': {'start_index': 75, 'end_index': 107},\n",
              " 'PosPandemia_Trend': {'start_index': 75, 'end_index': 107}}"
            ]
          },
          "execution_count": 20,
          "metadata": {},
          "output_type": "execute_result"
        }
      ],
      "source": [
        "DummyIndexes = {}\n",
        "\n",
        "# Iterate over DUMMY_ARGS to calculate and store indexes\n",
        "for dummy_name, config in DUMMY_ARGS.items():\n",
        "    start_date = config.get(\"start_date\")\n",
        "    end_date = config.get(\"end_date\")\n",
        "\n",
        "    print(dummy_name, config)\n",
        "    # Calculate indexes using find_idx_from_date\n",
        "    start_idx = find_idx_from_date(start_date, PREPROCESSOR_ARGS, PERIOD_DATE_MAP) if start_date else None\n",
        "    end_idx = find_idx_from_date(end_date, PREPROCESSOR_ARGS, PERIOD_DATE_MAP) if end_date else None\n",
        "\n",
        "    # Store the indexes in the table\n",
        "    DummyIndexes[dummy_name] = {\n",
        "        \"start_index\": start_idx,\n",
        "        \"end_index\": end_idx\n",
        "    }\n",
        "DummyIndexes"
      ]
    },
    {
      "cell_type": "markdown",
      "metadata": {
        "id": "r5VoKUSkNIXc"
      },
      "source": [
        "# Exploration\n"
      ]
    },
    {
      "cell_type": "code",
      "execution_count": 21,
      "metadata": {
        "colab": {
          "base_uri": "https://localhost:8080/"
        },
        "id": "FrrmqovhNIXc",
        "outputId": "cf6e41a5-4664-4203-b687-0b34fc159bc6"
      },
      "outputs": [],
      "source": [
        "from statsmodels.api import OLS\n",
        "from statsmodels.tools.tools import add_constant\n",
        "import pandas as pd\n",
        "from scipy.stats import f\n",
        "main_regrdf = RegressionDF.copy()\n",
        "def chow_test(data, split_point, dependent_var, independent_vars):\n",
        "    \"\"\"\n",
        "    Realiza o teste de Chow para verificar mudanças estruturais em um modelo de regressão.\n",
        "\n",
        "    Args:\n",
        "        data (pd.DataFrame): DataFrame contendo os dados.\n",
        "        split_point (int): Ponto de divisão para o teste de Chow.\n",
        "        dependent_var (str): Nome da variável dependente.\n",
        "        independent_vars (list): Lista de nomes das variáveis independentes.\n",
        "\n",
        "    Returns:\n",
        "        dict: Resultados do teste de Chow contendo os valores F e p.\n",
        "    \"\"\"\n",
        "    # Dividir os dados em dois subconjuntos\n",
        "    data1 = data[data['periodo'] <= split_point]\n",
        "    data2 = data[data['periodo'] > split_point]\n",
        "\n",
        "    # Ajustar os modelos para cada subconjunto\n",
        "    X1 = add_constant(data1[independent_vars])\n",
        "    y1 = data1[dependent_var]\n",
        "    model1 = OLS(y1, X1).fit()\n",
        "\n",
        "    X2 = add_constant(data2[independent_vars])\n",
        "    y2 = data2[dependent_var]\n",
        "    model2 = OLS(y2, X2).fit()\n",
        "\n",
        "    # Ajustar o modelo para o conjunto completo\n",
        "    X_full = add_constant(data[independent_vars])\n",
        "    y_full = data[dependent_var]\n",
        "    model_full = OLS(y_full, X_full).fit()\n",
        "\n",
        "    # Calcular os graus de liberdade\n",
        "    k = len(independent_vars) + 1  # Número de parâmetros (incluindo o intercepto)\n",
        "    n1 = len(data1)\n",
        "    n2 = len(data2)\n",
        "    n = n1 + n2\n",
        "\n",
        "    # Calcular a soma dos quadrados dos resíduos\n",
        "    RSS1 = model1.ssr\n",
        "    RSS2 = model2.ssr\n",
        "    RSS_full = model_full.ssr\n",
        "\n",
        "    # Calcular o valor F\n",
        "    F = ((RSS_full - (RSS1 + RSS2)) / k) / ((RSS1 + RSS2) / (n - 2 * k))\n",
        "\n",
        "    # Calcular o p-valor\n",
        "    p_value = 1 - f.cdf(F, k, n - 2 * k)\n",
        "\n",
        "    return {\"F-statistic\": F, \"p-value\": p_value}\n",
        "\n",
        "\n",
        "if False:\n",
        "    chow_results = {}\n",
        "    split_point = find_idx_from_date(POS_PANDEMIA_START_DATE, PREPROCESSOR_ARGS)  # Exemplo: ponto de divisão para o teste de Chow\n",
        "    dependent_var = DEPENDENT_VAR\n",
        "    independent_vars = [INDEPENDENT_VAR] #+ [key for key in DUMMY_ARGS.keys()]\n",
        "    for variable in main_regrdf[GROUP_COL_NAME].unique():\n",
        "        variable_data = main_regrdf[main_regrdf[GROUP_COL_NAME] == variable]\n",
        "        result = chow_test(variable_data, split_point, dependent_var, independent_vars)\n",
        "        chow_results[variable] = result\n",
        "    # Converter os resultados em um DataFrame para visualização\n",
        "    chow_results_df = pd.DataFrame(chow_results).T\n",
        "    chow_results_df.columns = [\"F-statistic\", \"p-value\"]\n",
        "    chow_results_df['p-value'] = chow_results_df['p-value'].round(8)\n",
        "    print(chow_results_df)"
      ]
    },
    {
      "cell_type": "code",
      "execution_count": 22,
      "metadata": {
        "colab": {
          "base_uri": "https://localhost:8080/"
        },
        "id": "lyS4l0t8NIXc",
        "outputId": "87c30dda-28b3-48d9-8f50-7f23fa6ec0f4"
      },
      "outputs": [
        {
          "name": "stdout",
          "output_type": "stream",
          "text": [
            "[  1.          51.99999995 108.        ]\n",
            "2016-01-01 00:00:00\n",
            "2020-04-01 00:00:00\n",
            "2024-12-01 00:00:00\n"
          ]
        }
      ],
      "source": [
        "### TODO: make the knots per variable\n",
        "### TODO: remove the bumps/step_dummies before testing\n",
        "\n",
        "pwmodel = pwlf.PiecewiseLinFit(main_regrdf[INDEPENDENT_VAR].values,main_regrdf[DEPENDENT_VAR].values)\n",
        "knots = pwmodel.fit(2)\n",
        "print(knots)\n",
        "for knot in knots:\n",
        "    print(find_date_from_idx(np.round(knot), PREPROCESSOR_ARGS, PERIOD_DATE_MAP))"
      ]
    },
    {
      "cell_type": "code",
      "execution_count": 23,
      "metadata": {
        "colab": {
          "base_uri": "https://localhost:8080/",
          "height": 651
        },
        "id": "WJ_UKYslNIXc",
        "outputId": "ad4e0f72-aee3-43a3-e425-f46be70f892b"
      },
      "outputs": [
        {
          "data": {
            "application/vnd.microsoft.datawrangler.viewer.v0+json": {
              "columns": [
                {
                  "name": "index",
                  "rawType": "object",
                  "type": "string"
                },
                {
                  "name": "Heteroscedasticity (Breusch-Pagan)",
                  "rawType": "float64",
                  "type": "float"
                },
                {
                  "name": "Normality (Shapiro-Wilk)",
                  "rawType": "float64",
                  "type": "float"
                },
                {
                  "name": "Normality (Jarque-Bera)",
                  "rawType": "float64",
                  "type": "float"
                },
                {
                  "name": "Normality (D'Agostino)",
                  "rawType": "float64",
                  "type": "float"
                },
                {
                  "name": "Autocorrelation (Durbin-Watson)",
                  "rawType": "float64",
                  "type": "float"
                },
                {
                  "name": "Autocorrelation (Ljung-Box)",
                  "rawType": "float64",
                  "type": "float"
                }
              ],
              "conversionMethod": "pd.DataFrame",
              "ref": "7f66d482-41a6-4481-9b85-0065119512c2",
              "rows": [
                [
                  "sul",
                  "0.16457630589197036",
                  "1.8384930305184927e-05",
                  "3.832472172327425e-17",
                  "0.00015215619807960393",
                  "0.6625018987571281",
                  "1.6946554094056753e-19"
                ],
                [
                  "sudeste",
                  "0.7509721121895873",
                  "0.01132292960911292",
                  "9.731832789204692e-05",
                  "0.003396053904840367",
                  "0.4731105820321103",
                  "1.6771972121206067e-41"
                ],
                [
                  "norte",
                  "0.0003162553756190266",
                  "0.3030664551615227",
                  "0.15208464372210223",
                  "0.17506825635718998",
                  "0.4060196299942311",
                  "5.4858266131930215e-37"
                ],
                [
                  "nordeste",
                  "0.2246520534451956",
                  "0.5338393170851707",
                  "0.892154419483899",
                  "0.78206467581025",
                  "0.5918559632970216",
                  "2.022384916055962e-28"
                ],
                [
                  "centro_oeste",
                  "0.6168098453846942",
                  "0.16294219535660404",
                  "0.649978546027643",
                  "0.5052952566453794",
                  "0.44684530134453126",
                  "3.7880401097722686e-40"
                ],
                [
                  "brasil",
                  "0.37958249401664246",
                  "7.713188941884446e-07",
                  "2.7433799827847155e-33",
                  "1.0450347145641806e-06",
                  "0.6601985699466479",
                  "7.826211239572615e-17"
                ]
              ],
              "shape": {
                "columns": 6,
                "rows": 6
              }
            },
            "text/html": [
              "<div>\n",
              "<style scoped>\n",
              "    .dataframe tbody tr th:only-of-type {\n",
              "        vertical-align: middle;\n",
              "    }\n",
              "\n",
              "    .dataframe tbody tr th {\n",
              "        vertical-align: top;\n",
              "    }\n",
              "\n",
              "    .dataframe thead th {\n",
              "        text-align: right;\n",
              "    }\n",
              "</style>\n",
              "<table border=\"1\" class=\"dataframe\">\n",
              "  <thead>\n",
              "    <tr style=\"text-align: right;\">\n",
              "      <th></th>\n",
              "      <th>Heteroscedasticity (Breusch-Pagan)</th>\n",
              "      <th>Normality (Shapiro-Wilk)</th>\n",
              "      <th>Normality (Jarque-Bera)</th>\n",
              "      <th>Normality (D'Agostino)</th>\n",
              "      <th>Autocorrelation (Durbin-Watson)</th>\n",
              "      <th>Autocorrelation (Ljung-Box)</th>\n",
              "    </tr>\n",
              "  </thead>\n",
              "  <tbody>\n",
              "    <tr>\n",
              "      <th>sul</th>\n",
              "      <td>0.164576</td>\n",
              "      <td>1.838493e-05</td>\n",
              "      <td>3.832472e-17</td>\n",
              "      <td>0.000152</td>\n",
              "      <td>0.662502</td>\n",
              "      <td>1.694655e-19</td>\n",
              "    </tr>\n",
              "    <tr>\n",
              "      <th>sudeste</th>\n",
              "      <td>0.750972</td>\n",
              "      <td>1.132293e-02</td>\n",
              "      <td>9.731833e-05</td>\n",
              "      <td>0.003396</td>\n",
              "      <td>0.473111</td>\n",
              "      <td>1.677197e-41</td>\n",
              "    </tr>\n",
              "    <tr>\n",
              "      <th>norte</th>\n",
              "      <td>0.000316</td>\n",
              "      <td>3.030665e-01</td>\n",
              "      <td>1.520846e-01</td>\n",
              "      <td>0.175068</td>\n",
              "      <td>0.406020</td>\n",
              "      <td>5.485827e-37</td>\n",
              "    </tr>\n",
              "    <tr>\n",
              "      <th>nordeste</th>\n",
              "      <td>0.224652</td>\n",
              "      <td>5.338393e-01</td>\n",
              "      <td>8.921544e-01</td>\n",
              "      <td>0.782065</td>\n",
              "      <td>0.591856</td>\n",
              "      <td>2.022385e-28</td>\n",
              "    </tr>\n",
              "    <tr>\n",
              "      <th>centro_oeste</th>\n",
              "      <td>0.616810</td>\n",
              "      <td>1.629422e-01</td>\n",
              "      <td>6.499785e-01</td>\n",
              "      <td>0.505295</td>\n",
              "      <td>0.446845</td>\n",
              "      <td>3.788040e-40</td>\n",
              "    </tr>\n",
              "    <tr>\n",
              "      <th>brasil</th>\n",
              "      <td>0.379582</td>\n",
              "      <td>7.713189e-07</td>\n",
              "      <td>2.743380e-33</td>\n",
              "      <td>0.000001</td>\n",
              "      <td>0.660199</td>\n",
              "      <td>7.826211e-17</td>\n",
              "    </tr>\n",
              "  </tbody>\n",
              "</table>\n",
              "</div>"
            ],
            "text/plain": [
              "              Heteroscedasticity (Breusch-Pagan)  Normality (Shapiro-Wilk)  \\\n",
              "sul                                     0.164576              1.838493e-05   \n",
              "sudeste                                 0.750972              1.132293e-02   \n",
              "norte                                   0.000316              3.030665e-01   \n",
              "nordeste                                0.224652              5.338393e-01   \n",
              "centro_oeste                            0.616810              1.629422e-01   \n",
              "brasil                                  0.379582              7.713189e-07   \n",
              "\n",
              "              Normality (Jarque-Bera)  Normality (D'Agostino)  \\\n",
              "sul                      3.832472e-17                0.000152   \n",
              "sudeste                  9.731833e-05                0.003396   \n",
              "norte                    1.520846e-01                0.175068   \n",
              "nordeste                 8.921544e-01                0.782065   \n",
              "centro_oeste             6.499785e-01                0.505295   \n",
              "brasil                   2.743380e-33                0.000001   \n",
              "\n",
              "              Autocorrelation (Durbin-Watson)  Autocorrelation (Ljung-Box)  \n",
              "sul                                  0.662502                 1.694655e-19  \n",
              "sudeste                              0.473111                 1.677197e-41  \n",
              "norte                                0.406020                 5.485827e-37  \n",
              "nordeste                             0.591856                 2.022385e-28  \n",
              "centro_oeste                         0.446845                 3.788040e-40  \n",
              "brasil                               0.660199                 7.826211e-17  "
            ]
          },
          "execution_count": 23,
          "metadata": {},
          "output_type": "execute_result"
        }
      ],
      "source": [
        "import pandas as pd\n",
        "import numpy as np\n",
        "from statsmodels.stats.diagnostic import het_breuschpagan, acorr_ljungbox\n",
        "from statsmodels.stats.stattools import durbin_watson\n",
        "from scipy.stats import shapiro, normaltest, jarque_bera\n",
        "import statsmodels.api as sm\n",
        "\n",
        "def analyze_time_series(df: pd.DataFrame, variable_col: str, date_col: str, value_col: str):\n",
        "    \"\"\"\n",
        "    Analyzes a melted DataFrame for heteroscedasticity, distribution, and autocorrelation.\n",
        "\n",
        "    Parameters:\n",
        "        df (pd.DataFrame): Melted DataFrame with columns for variable, date, and value.\n",
        "        variable_col (str): Column name for the variable identifier.\n",
        "        date_col (str): Column name for the date.\n",
        "        value_col (str): Column name for the value.\n",
        "\n",
        "    Returns:\n",
        "        dict: A dictionary with analysis results for each variable.\n",
        "    \"\"\"\n",
        "    results = {}\n",
        "\n",
        "    for variable in df[variable_col].unique():\n",
        "        # Filter data for the current variable\n",
        "        variable_data = df[df[variable_col] == variable].sort_values(by=date_col)\n",
        "        y = variable_data[value_col].values\n",
        "        x = np.arange(len(y))  # Time index as independent variable\n",
        "\n",
        "        # Add constant for regression\n",
        "        X = sm.add_constant(x)\n",
        "\n",
        "        # Fit OLS model\n",
        "        model = sm.OLS(y, X).fit()\n",
        "\n",
        "        # Heteroscedasticity tests\n",
        "        bp_test = het_breuschpagan(model.resid, X)\n",
        "        bp_pvalue = bp_test[1]\n",
        "\n",
        "        # Normality tests\n",
        "        shapiro_test = shapiro(model.resid)\n",
        "        shapiro_pvalue = shapiro_test.pvalue\n",
        "\n",
        "        jb_test = jarque_bera(model.resid)\n",
        "        jb_pvalue = jb_test[1]\n",
        "\n",
        "        dagostino_test = normaltest(model.resid)\n",
        "        dagostino_pvalue = dagostino_test.pvalue\n",
        "\n",
        "        # Autocorrelation tests\n",
        "        dw_stat = durbin_watson(model.resid)\n",
        "        ljungbox_test = acorr_ljungbox(model.resid, lags=[10], return_df=True)\n",
        "        ljungbox_pvalue = ljungbox_test['lb_pvalue'].iloc[0]\n",
        "\n",
        "        # Store results\n",
        "        results[variable] = {\n",
        "            \"Heteroscedasticity (Breusch-Pagan)\": bp_pvalue,\n",
        "            \"Normality (Shapiro-Wilk)\": shapiro_pvalue,\n",
        "            \"Normality (Jarque-Bera)\": jb_pvalue,\n",
        "            \"Normality (D'Agostino)\": dagostino_pvalue,\n",
        "            \"Autocorrelation (Durbin-Watson)\": dw_stat,\n",
        "            \"Autocorrelation (Ljung-Box)\": ljungbox_pvalue,\n",
        "        }\n",
        "\n",
        "    return results\n",
        "\n",
        "explorationresults = analyze_time_series(main_regrdf, GROUP_COL_NAME, DATE_NAME, DEPENDENT_VAR)\n",
        "explorationresultsDF = pd.DataFrame(explorationresults).T\n",
        "explorationresultsDF"
      ]
    },
    {
      "cell_type": "markdown",
      "metadata": {
        "id": "p26xmWNYNIXd"
      },
      "source": [
        "# Define Processors"
      ]
    },
    {
      "cell_type": "code",
      "execution_count": 24,
      "metadata": {
        "id": "fscc0dkXNIXd"
      },
      "outputs": [],
      "source": [
        "class RegressionProcessor:\n",
        "    def __init__(\n",
        "        self,\n",
        "        data,\n",
        "        formula,\n",
        "        model=None,\n",
        "        find_best_rho=False,\n",
        "        find_best_rho_args={\n",
        "            'start': -1.0,\n",
        "            \"stop\": 1.0,\n",
        "            'step': 0.05,\n",
        "            'criterio': 'aic',\n",
        "        },\n",
        "        rho=None,\n",
        "        cov_type=None,\n",
        "        cov_kwargs=None,\n",
        "        iterative_fit=False,  # New argument to enable iterative fitting\n",
        "        max_iterations=100,  # Maximum iterations for iterative fitting\n",
        "    ):\n",
        "        self.data = data\n",
        "        self.formula = formula\n",
        "        self.model = model\n",
        "        self.rho = rho\n",
        "        self.cov_type = cov_type\n",
        "        self.cov_kwargs = cov_kwargs\n",
        "        self.find_best_rho = find_best_rho\n",
        "        self.find_best_rho_args = find_best_rho_args\n",
        "        self.iterative_fit = iterative_fit\n",
        "        self.max_iterations = max_iterations\n",
        "        self.results = None\n",
        "\n",
        "    def fit(self, rho=None):\n",
        "        # Fit the regression model using the specified formula and data\n",
        "        if self.find_best_rho:\n",
        "            best_rho = 1.0\n",
        "            best_criterion_value = np.inf\n",
        "            model = None\n",
        "            results = None\n",
        "            for rho in np.arange(\n",
        "                self.find_best_rho_args['start'],\n",
        "                self.find_best_rho_args['stop'],\n",
        "                self.find_best_rho_args['step']\n",
        "            ):\n",
        "                test_model = self.model(self.formula, data=self.data, rho=rho)\n",
        "                if self.iterative_fit and hasattr(test_model, \"iterative_fit\"):\n",
        "                    test_results = test_model.iterative_fit(\n",
        "                        maxiter=self.max_iterations,\n",
        "                        cov_type=self.cov_type,\n",
        "                        cov_kwds=self.cov_kwargs,\n",
        "                    )\n",
        "                else:\n",
        "                    test_results = test_model.fit(\n",
        "                        cov_type=self.cov_type,\n",
        "                        cov_kwds=self.cov_kwargs,\n",
        "                    )\n",
        "                criterion_value = getattr(test_results, self.find_best_rho_args['criterio'])\n",
        "                if criterion_value < best_criterion_value:\n",
        "                    best_criterion_value = criterion_value\n",
        "                    best_rho = rho\n",
        "                    model = test_model\n",
        "                    results = test_results\n",
        "            self.rho = best_rho\n",
        "            self.results = results\n",
        "        else:\n",
        "            if self.rho is not None:\n",
        "                model = self.model(self.formula, data=self.data, rho=rho)\n",
        "            else:\n",
        "                model = self.model(self.formula, data=self.data)\n",
        "\n",
        "            # Use iterative fitting if enabled and supported\n",
        "            if self.iterative_fit and hasattr(model, \"iterative_fit\"):\n",
        "                self.results = model.iterative_fit(\n",
        "                    maxiter=self.max_iterations,\n",
        "                    cov_type=self.cov_type,\n",
        "                    cov_kwds=self.cov_kwargs,\n",
        "                )\n",
        "            else:\n",
        "                self.results = model.fit(\n",
        "                    cov_type=self.cov_type,\n",
        "                    cov_kwds=self.cov_kwargs,\n",
        "                )"
      ]
    },
    {
      "cell_type": "code",
      "execution_count": 25,
      "metadata": {
        "id": "QCvNMgVzNIXd"
      },
      "outputs": [],
      "source": [
        "class VariableProcessor:\n",
        "    def __init__(\n",
        "        self,\n",
        "        df,\n",
        "        processor_args,\n",
        "        processor,\n",
        "        evaluate = False,\n",
        "        test_size=0.2,\n",
        "        random_state=42,\n",
        "\n",
        "    ):\n",
        "        self.df = df\n",
        "        self.results = {}\n",
        "        self.processor_args = processor_args\n",
        "        self.processor = processor\n",
        "        self.evaluate = evaluate\n",
        "        self.evaluation_results = {}\n",
        "        self.test_size = test_size\n",
        "        self.random_state = random_state\n",
        "\n",
        "\n",
        "    def process_variables(self):\n",
        "        # Process each variable in the DataFrame\n",
        "        for variable in self.df[GROUP_COL_NAME].unique():\n",
        "            variable_data = self.df[self.df[GROUP_COL_NAME] == variable].sort_values(by=DATE_NAME)\n",
        "            variable_data = variable_data.reset_index(drop=True)\n",
        "\n",
        "            processor = self.processor(data=variable_data, **self.processor_args)\n",
        "            processor.fit()\n",
        "            \n",
        "            self.results[variable] = processor.results\n",
        "\n",
        "\n",
        "\n",
        "\n",
        "            # Split into train and test\n",
        "            if self.evaluate:\n",
        "                train_data, test_data = train_test_split(\n",
        "                    variable_data, test_size=self.test_size, random_state=self.random_state, shuffle=False\n",
        "                )\n",
        "\n",
        "                # Store results for train and test\n",
        "                train_predictions = processor.results.predict(train_data)\n",
        "                test_predictions = processor.results.predict(test_data)\n",
        "\n",
        "                # Calculate metrics\n",
        "                train_r2 = r2_score(train_data[DEPENDENT_VAR], train_predictions)\n",
        "                test_r2 = r2_score(test_data[DEPENDENT_VAR], test_predictions)\n",
        "                #n_train = len(train_data)\n",
        "                #n_test = len(test_data)\n",
        "                #p = len(processor.results.params) - 1\n",
        "                train_mse = mean_squared_error(train_data[DEPENDENT_VAR], train_predictions)\n",
        "                test_mse = mean_squared_error(test_data[DEPENDENT_VAR], test_predictions)\n",
        "\n",
        "                evaluation_value = train_r2 - test_r2\n",
        "                #evaluation_value_adj = train_r2_adj - test_r2_adj\n",
        "\n",
        "\n",
        "                self.evaluation_results[variable] = {\n",
        "                    #'Absolute Diff': absolute_difference,\n",
        "                    'TrainMSE - TestMSE': train_mse - test_mse,\n",
        "                    \"Evaluation Value (r_train² - r_test²)\": evaluation_value,\n",
        "                    \"Overfitting Risk\": \"High\" if evaluation_value > 0.1 else \"Low\",\n",
        "                    \"Train R2\": train_r2,\n",
        "                    \"Test R2\": test_r2,\n",
        "                    #\"Evaluation Value (r_train_adj² - r_test_adj²)\": evaluation_value_adj,\n",
        "                    #\"Overfitting Risk (adj_r2)\": \"High\" if evaluation_value_adj > 0.1 else \"Low\",\n",
        "                    #\"Adj Train R2\": train_r2_adj,\n",
        "                    #\"Adj Test R2\": test_r2_adj,\n",
        "                    \"Train MSE\": train_mse,\n",
        "                    \"Test MSE\": test_mse,\n",
        "                    \"Processor Results\": processor.results,\n",
        "                    'splitted_data': {'train_data': train_data, 'test_data': test_data},\n",
        "                }\n",
        "\n",
        "        self.evaluation_results = pd.DataFrame(self.evaluation_results).T\n",
        "\n",
        "        return self.results, self.evaluation_results"
      ]
    },
    {
      "cell_type": "markdown",
      "metadata": {
        "id": "K8HZg-VlNIXd"
      },
      "source": [
        "# Define Exporter"
      ]
    },
    {
      "cell_type": "code",
      "execution_count": 27,
      "metadata": {
        "id": "BF1tmE8pNIXd"
      },
      "outputs": [],
      "source": [
        "def export_results(results, output_path, processor_args, preprocessor_args, output_gsheet = None):\n",
        "    \"\"\"\n",
        "    Exports the regression results and metadata to an Excel file.\n",
        "\n",
        "    Args:\n",
        "        results (dict): Dictionary containing regression results.\n",
        "        output_path (str): Path to the output Excel file.\n",
        "        processor_args (dict): Dictionary containing processor arguments.\n",
        "        preprocessor_args (dict): Dictionary containing preprocessor arguments.\n",
        "    \"\"\"\n",
        "    def extract_durbin_watson_from_summary(result):\n",
        "        summary_text = result.summary().as_text()\n",
        "        for line in summary_text.split('\\n'):\n",
        "            if \"Durbin-Watson\" in line:\n",
        "                return float(line.split()[-1])  # Extract the last value in the line\n",
        "        return None  # Return None if not found\n",
        "\n",
        "\n",
        "    def try_create_worksheet(output_gsheet, title: str) -> None:\n",
        "        if output_gsheet:\n",
        "            try:\n",
        "                output_gsheet.worksheet(title)\n",
        "            except gspread.exceptions.WorksheetNotFound:\n",
        "                output_gsheet.add_worksheet(title=title, rows=\"100\", cols=\"20\")\n",
        "\n",
        "\n",
        "    stats_data = []\n",
        "    coefficients_data = []\n",
        "\n",
        "    for variable, result in results.items():\n",
        "        # Extract coefficients\n",
        "        coefficients = result.params\n",
        "        coef_row = {\"Variable\": variable}\n",
        "        for coef_name, coef_value in coefficients.items():\n",
        "            coef_row[f\"{coef_name}__Value\"] = round(coef_value, 7)\n",
        "            coef_row[f\"{coef_name}__Value_%_intercept\"] = coef_value/result.params['Intercept']*100\n",
        "            coef_row[f\"{coef_name}__P-Value\"] = round(result.pvalues.get(coef_name, np.nan), 7)\n",
        "            coef_row[f\"{coef_name}__Std Err\"] = round(result.bse.get(coef_name, np.nan), 7)\n",
        "            coef_row[f\"{coef_name}__Significant\"] = result.pvalues.get(coef_name, np.nan) < 0.05  # At 5% significance\n",
        "        coefficients_data.append(coef_row)\n",
        "\n",
        "        # Extract other statistics\n",
        "        stats_data.append({\n",
        "            \"Variable\": variable,\n",
        "            \"R-Squared\": round(result.rsquared, 7),\n",
        "            \"Adjusted R-Squared\": round(result.rsquared_adj, 7),\n",
        "            \"Durbin-Watson\": round(extract_durbin_watson_from_summary(result), 7),\n",
        "            \"AIC\": round(result.aic, 7),\n",
        "            \"BIC\": round(result.bic, 7),\n",
        "            \"Number of Observations\": result.nobs,\n",
        "            \"F-Value\": round(result.fvalue, 7) if result.fvalue is not None else np.nan,\n",
        "            \"F P-Value\": round(result.f_pvalue, 7) if result.f_pvalue is not None else np.nan,\n",
        "            \"Log-Likelihood\": round(result.llf, 7),\n",
        "            \"Condition Number\": round(result.condition_number, 7) if result.condition_number is not None else np.nan\n",
        "        })\n",
        "\n",
        "    # Convert to DataFrames\n",
        "    coefficients_df = pd.DataFrame(coefficients_data).set_index(\"Variable\")\n",
        "    stats_df = pd.DataFrame(stats_data).set_index(\"Variable\")\n",
        "\n",
        "    # Prepare metadata\n",
        "    metadata = {\n",
        "        \"Processor Args\": [str(processor_args)],\n",
        "        \"Preprocessor Args\": [str(preprocessor_args)]\n",
        "    }\n",
        "    metadata_df = pd.DataFrame(metadata)\n",
        "\n",
        "    # Write to gsheet\n",
        "    if output_gsheet is not None:\n",
        "        for title, clean_df, include_index in [\n",
        "            (\"Coefficients\", coefficients_df, True),\n",
        "            (\"Statistics\", stats_df, True),\n",
        "            (\"Metadata\", metadata_df, False)\n",
        "        ]:\n",
        "            try_create_worksheet(title=title, output_gsheet=output_gsheet)\n",
        "            ws = output_gsheet.worksheet(title)\n",
        "            ws.clear()\n",
        "            set_with_dataframe(ws, clean_df, include_index=include_index)\n",
        "    # Write to Excel\n",
        "    else:\n",
        "       file_exists = os.path.exists(output_path)\n",
        "\n",
        "               # Attempt to open file and catch PermissionError if the file is open elsewhere\n",
        "       if file_exists:\n",
        "           while True:\n",
        "               try:\n",
        "                   with pd.ExcelWriter(output_path) as writer:\n",
        "                       # Write coefficients to one sheet\n",
        "                       coefficients_df.to_excel(writer, sheet_name=\"Coefficients\")\n",
        "\n",
        "                       # Write other stats to another sheet\n",
        "                       stats_df.to_excel(writer, sheet_name=\"Statistics\")\n",
        "\n",
        "                       # Write metadata to another sheet\n",
        "                       metadata_df.to_excel(writer, sheet_name=\"Metadata\", index=False)\n",
        "                   # Load the workbook to apply formatting\n",
        "                   workbook = load_workbook(output_path)\n",
        "                   if \"Residuals\" not in workbook.sheetnames:\n",
        "                       workbook.create_sheet(\"Residuals\")\n",
        "                       residuals_sheet = workbook[\"Residuals\"]\n",
        "\n",
        "                   # Plot residuals for each variable and add them to the Residuals sheet\n",
        "                   for idx, (variable, result) in enumerate(results.items(), start=1):\n",
        "                       # Create a plot of residuals\n",
        "                       plt.figure(figsize=(6, 4))\n",
        "                       plt.scatter(range(len(result.resid)), result.resid, alpha=0.7)\n",
        "                       plt.axhline(0, color=\"red\", linestyle=\"--\", linewidth=1)\n",
        "                       plt.title(f\"Residuals for {variable}\")\n",
        "                       plt.xlabel(\"Observation\")\n",
        "                       plt.ylabel(\"Residuals\")\n",
        "                       plt.tight_layout()\n",
        "\n",
        "                       # Save the plot to a BytesIO object\n",
        "                       img_data = BytesIO()\n",
        "                       plt.savefig(img_data, format=\"png\")\n",
        "                       plt.close()\n",
        "                       img_data.seek(0)\n",
        "\n",
        "                       # Add the image to the Excel sheet\n",
        "                       img = Image(img_data)\n",
        "                       img.anchor = f\"A{idx * 20}\"  # Adjust the position of the image\n",
        "                       residuals_sheet.add_image(img)\n",
        "\n",
        "                   for sheet_name in [\"Coefficients\", \"Statistics\", \"Metadata\"]:\n",
        "                       if sheet_name in workbook.sheetnames:\n",
        "                           sheet = workbook[sheet_name]\n",
        "\n",
        "                           # Enable text wrapping and adjust row heights\n",
        "                           for row in sheet.iter_rows():\n",
        "                               for cell in row:\n",
        "                                   cell.alignment = Alignment(wrap_text=True)  # Enable text wrapping\n",
        "                               # Adjust row height\n",
        "                               sheet.row_dimensions[row[0].row].height = 25  # Set row height to 25 (adjust as needed)\n",
        "\n",
        "                   # Save the formatted workbook\n",
        "                   workbook.save(output_path)\n",
        "                   break  # Exit the loop if writing succeeds\n",
        "               except PermissionError:\n",
        "                   #logger.warning(f\"File '{output_path}' is currently open. Please close the file and press Enter to try again.\")\n",
        "                   input(\"Press Enter after closing the file...\")\n",
        "                   time.sleep(5)  # Optional: wait before retrying\n"
      ]
    },
    {
      "cell_type": "markdown",
      "metadata": {},
      "source": [
        "# Define Group Iterator"
      ]
    },
    {
      "cell_type": "code",
      "execution_count": 28,
      "metadata": {},
      "outputs": [],
      "source": [
        "def process_groups_with_processor(dataframe, group_col, date_col, processor_class, processor_args, max_iter=100):\n",
        "    \"\"\"\n",
        "    Processes variables in a DataFrame using a specified processor class and arguments.\n",
        "\n",
        "    Args:\n",
        "        dataframe (pd.DataFrame): The input DataFrame containing the data.\n",
        "        group_col (str): The column name used to group the data.\n",
        "        date_col (str): The column name containing the date information.\n",
        "        processor_class (class): The processor class to be used (e.g., GEEProcessor).\n",
        "        processor_args (dict): Arguments to be passed to the processor class.\n",
        "        max_iter (int): Maximum number of iterations for the processor's fit method.\n",
        "\n",
        "    Returns:\n",
        "        dict: A dictionary containing the results for each variable.\n",
        "    \"\"\"\n",
        "    results = {}\n",
        "    for variable in dataframe[group_col].unique():\n",
        "        variable_data = dataframe[dataframe[group_col] == variable].sort_values(by=date_col)\n",
        "        variable_data = variable_data.reset_index(drop=True)\n",
        "        \n",
        "        # Instantiate the processor with the provided arguments\n",
        "        processor = processor_class(data=variable_data, **processor_args)\n",
        "        \n",
        "        # Fit the processor\n",
        "        processor.fit(maxiter=max_iter)\n",
        "        \n",
        "        # Store the results\n",
        "        results[variable] = processor.results\n",
        "        \n",
        "        # Print the summary\n",
        "        print(processor.results.summary())\n",
        "    \n",
        "    return results"
      ]
    },
    {
      "cell_type": "markdown",
      "metadata": {
        "id": "053Sj2c1NIXe"
      },
      "source": [
        "# EXEC --- Instantiate Processor and Process/Export"
      ]
    },
    {
      "cell_type": "code",
      "execution_count": 29,
      "metadata": {
        "colab": {
          "base_uri": "https://localhost:8080/"
        },
        "id": "b8LP4GtsNIXf",
        "outputId": "7ea11a18-ae65-4bad-9618-b393995cb905"
      },
      "outputs": [
        {
          "ename": "StopIteration",
          "evalue": "",
          "output_type": "error",
          "traceback": [
            "\u001b[1;31m---------------------------------------------------------------------------\u001b[0m",
            "\u001b[1;31mStopIteration\u001b[0m                             Traceback (most recent call last)",
            "File \u001b[1;32m~\\AppData\\Roaming\\Python\\Python312\\site-packages\\IPython\\core\\formatters.py:711\u001b[0m, in \u001b[0;36mPlainTextFormatter.__call__\u001b[1;34m(self, obj)\u001b[0m\n\u001b[0;32m    704\u001b[0m stream \u001b[38;5;241m=\u001b[39m StringIO()\n\u001b[0;32m    705\u001b[0m printer \u001b[38;5;241m=\u001b[39m pretty\u001b[38;5;241m.\u001b[39mRepresentationPrinter(stream, \u001b[38;5;28mself\u001b[39m\u001b[38;5;241m.\u001b[39mverbose,\n\u001b[0;32m    706\u001b[0m     \u001b[38;5;28mself\u001b[39m\u001b[38;5;241m.\u001b[39mmax_width, \u001b[38;5;28mself\u001b[39m\u001b[38;5;241m.\u001b[39mnewline,\n\u001b[0;32m    707\u001b[0m     max_seq_length\u001b[38;5;241m=\u001b[39m\u001b[38;5;28mself\u001b[39m\u001b[38;5;241m.\u001b[39mmax_seq_length,\n\u001b[0;32m    708\u001b[0m     singleton_pprinters\u001b[38;5;241m=\u001b[39m\u001b[38;5;28mself\u001b[39m\u001b[38;5;241m.\u001b[39msingleton_printers,\n\u001b[0;32m    709\u001b[0m     type_pprinters\u001b[38;5;241m=\u001b[39m\u001b[38;5;28mself\u001b[39m\u001b[38;5;241m.\u001b[39mtype_printers,\n\u001b[0;32m    710\u001b[0m     deferred_pprinters\u001b[38;5;241m=\u001b[39m\u001b[38;5;28mself\u001b[39m\u001b[38;5;241m.\u001b[39mdeferred_printers)\n\u001b[1;32m--> 711\u001b[0m \u001b[43mprinter\u001b[49m\u001b[38;5;241;43m.\u001b[39;49m\u001b[43mpretty\u001b[49m\u001b[43m(\u001b[49m\u001b[43mobj\u001b[49m\u001b[43m)\u001b[49m\n\u001b[0;32m    712\u001b[0m printer\u001b[38;5;241m.\u001b[39mflush()\n\u001b[0;32m    713\u001b[0m \u001b[38;5;28;01mreturn\u001b[39;00m stream\u001b[38;5;241m.\u001b[39mgetvalue()\n",
            "File \u001b[1;32m~\\AppData\\Roaming\\Python\\Python312\\site-packages\\IPython\\lib\\pretty.py:419\u001b[0m, in \u001b[0;36mRepresentationPrinter.pretty\u001b[1;34m(self, obj)\u001b[0m\n\u001b[0;32m    408\u001b[0m                         \u001b[38;5;28;01mreturn\u001b[39;00m meth(obj, \u001b[38;5;28mself\u001b[39m, cycle)\n\u001b[0;32m    409\u001b[0m                 \u001b[38;5;28;01mif\u001b[39;00m (\n\u001b[0;32m    410\u001b[0m                     \u001b[38;5;28mcls\u001b[39m \u001b[38;5;129;01mis\u001b[39;00m \u001b[38;5;129;01mnot\u001b[39;00m \u001b[38;5;28mobject\u001b[39m\n\u001b[0;32m    411\u001b[0m                     \u001b[38;5;66;03m# check if cls defines __repr__\u001b[39;00m\n\u001b[1;32m   (...)\u001b[0m\n\u001b[0;32m    417\u001b[0m                     \u001b[38;5;129;01mand\u001b[39;00m \u001b[38;5;28mcallable\u001b[39m(_safe_getattr(\u001b[38;5;28mcls\u001b[39m, \u001b[38;5;124m\"\u001b[39m\u001b[38;5;124m__repr__\u001b[39m\u001b[38;5;124m\"\u001b[39m, \u001b[38;5;28;01mNone\u001b[39;00m))\n\u001b[0;32m    418\u001b[0m                 ):\n\u001b[1;32m--> 419\u001b[0m                     \u001b[38;5;28;01mreturn\u001b[39;00m \u001b[43m_repr_pprint\u001b[49m\u001b[43m(\u001b[49m\u001b[43mobj\u001b[49m\u001b[43m,\u001b[49m\u001b[43m \u001b[49m\u001b[38;5;28;43mself\u001b[39;49m\u001b[43m,\u001b[49m\u001b[43m \u001b[49m\u001b[43mcycle\u001b[49m\u001b[43m)\u001b[49m\n\u001b[0;32m    421\u001b[0m     \u001b[38;5;28;01mreturn\u001b[39;00m _default_pprint(obj, \u001b[38;5;28mself\u001b[39m, cycle)\n\u001b[0;32m    422\u001b[0m \u001b[38;5;28;01mfinally\u001b[39;00m:\n",
            "File \u001b[1;32m~\\AppData\\Roaming\\Python\\Python312\\site-packages\\IPython\\lib\\pretty.py:787\u001b[0m, in \u001b[0;36m_repr_pprint\u001b[1;34m(obj, p, cycle)\u001b[0m\n\u001b[0;32m    785\u001b[0m \u001b[38;5;250m\u001b[39m\u001b[38;5;124;03m\"\"\"A pprint that just redirects to the normal repr function.\"\"\"\u001b[39;00m\n\u001b[0;32m    786\u001b[0m \u001b[38;5;66;03m# Find newlines and replace them with p.break_()\u001b[39;00m\n\u001b[1;32m--> 787\u001b[0m output \u001b[38;5;241m=\u001b[39m \u001b[38;5;28;43mrepr\u001b[39;49m\u001b[43m(\u001b[49m\u001b[43mobj\u001b[49m\u001b[43m)\u001b[49m\n\u001b[0;32m    788\u001b[0m lines \u001b[38;5;241m=\u001b[39m output\u001b[38;5;241m.\u001b[39msplitlines()\n\u001b[0;32m    789\u001b[0m \u001b[38;5;28;01mwith\u001b[39;00m p\u001b[38;5;241m.\u001b[39mgroup():\n",
            "File \u001b[1;32mc:\\Users\\Lucas\\AppData\\Local\\Programs\\Python\\Python312\\Lib\\site-packages\\pandas\\core\\frame.py:1214\u001b[0m, in \u001b[0;36mDataFrame.__repr__\u001b[1;34m(self)\u001b[0m\n\u001b[0;32m   1211\u001b[0m     \u001b[38;5;28;01mreturn\u001b[39;00m buf\u001b[38;5;241m.\u001b[39mgetvalue()\n\u001b[0;32m   1213\u001b[0m repr_params \u001b[38;5;241m=\u001b[39m fmt\u001b[38;5;241m.\u001b[39mget_dataframe_repr_params()\n\u001b[1;32m-> 1214\u001b[0m \u001b[38;5;28;01mreturn\u001b[39;00m \u001b[38;5;28;43mself\u001b[39;49m\u001b[38;5;241;43m.\u001b[39;49m\u001b[43mto_string\u001b[49m\u001b[43m(\u001b[49m\u001b[38;5;241;43m*\u001b[39;49m\u001b[38;5;241;43m*\u001b[39;49m\u001b[43mrepr_params\u001b[49m\u001b[43m)\u001b[49m\n",
            "File \u001b[1;32mc:\\Users\\Lucas\\AppData\\Local\\Programs\\Python\\Python312\\Lib\\site-packages\\pandas\\util\\_decorators.py:333\u001b[0m, in \u001b[0;36mdeprecate_nonkeyword_arguments.<locals>.decorate.<locals>.wrapper\u001b[1;34m(*args, **kwargs)\u001b[0m\n\u001b[0;32m    327\u001b[0m \u001b[38;5;28;01mif\u001b[39;00m \u001b[38;5;28mlen\u001b[39m(args) \u001b[38;5;241m>\u001b[39m num_allow_args:\n\u001b[0;32m    328\u001b[0m     warnings\u001b[38;5;241m.\u001b[39mwarn(\n\u001b[0;32m    329\u001b[0m         msg\u001b[38;5;241m.\u001b[39mformat(arguments\u001b[38;5;241m=\u001b[39m_format_argument_list(allow_args)),\n\u001b[0;32m    330\u001b[0m         \u001b[38;5;167;01mFutureWarning\u001b[39;00m,\n\u001b[0;32m    331\u001b[0m         stacklevel\u001b[38;5;241m=\u001b[39mfind_stack_level(),\n\u001b[0;32m    332\u001b[0m     )\n\u001b[1;32m--> 333\u001b[0m \u001b[38;5;28;01mreturn\u001b[39;00m \u001b[43mfunc\u001b[49m\u001b[43m(\u001b[49m\u001b[38;5;241;43m*\u001b[39;49m\u001b[43margs\u001b[49m\u001b[43m,\u001b[49m\u001b[43m \u001b[49m\u001b[38;5;241;43m*\u001b[39;49m\u001b[38;5;241;43m*\u001b[39;49m\u001b[43mkwargs\u001b[49m\u001b[43m)\u001b[49m\n",
            "File \u001b[1;32mc:\\Users\\Lucas\\AppData\\Local\\Programs\\Python\\Python312\\Lib\\site-packages\\pandas\\core\\frame.py:1394\u001b[0m, in \u001b[0;36mDataFrame.to_string\u001b[1;34m(self, buf, columns, col_space, header, index, na_rep, formatters, float_format, sparsify, index_names, justify, max_rows, max_cols, show_dimensions, decimal, line_width, min_rows, max_colwidth, encoding)\u001b[0m\n\u001b[0;32m   1375\u001b[0m \u001b[38;5;28;01mwith\u001b[39;00m option_context(\u001b[38;5;124m\"\u001b[39m\u001b[38;5;124mdisplay.max_colwidth\u001b[39m\u001b[38;5;124m\"\u001b[39m, max_colwidth):\n\u001b[0;32m   1376\u001b[0m     formatter \u001b[38;5;241m=\u001b[39m fmt\u001b[38;5;241m.\u001b[39mDataFrameFormatter(\n\u001b[0;32m   1377\u001b[0m         \u001b[38;5;28mself\u001b[39m,\n\u001b[0;32m   1378\u001b[0m         columns\u001b[38;5;241m=\u001b[39mcolumns,\n\u001b[1;32m   (...)\u001b[0m\n\u001b[0;32m   1392\u001b[0m         decimal\u001b[38;5;241m=\u001b[39mdecimal,\n\u001b[0;32m   1393\u001b[0m     )\n\u001b[1;32m-> 1394\u001b[0m     \u001b[38;5;28;01mreturn\u001b[39;00m \u001b[43mfmt\u001b[49m\u001b[38;5;241;43m.\u001b[39;49m\u001b[43mDataFrameRenderer\u001b[49m\u001b[43m(\u001b[49m\u001b[43mformatter\u001b[49m\u001b[43m)\u001b[49m\u001b[38;5;241;43m.\u001b[39;49m\u001b[43mto_string\u001b[49m\u001b[43m(\u001b[49m\n\u001b[0;32m   1395\u001b[0m \u001b[43m        \u001b[49m\u001b[43mbuf\u001b[49m\u001b[38;5;241;43m=\u001b[39;49m\u001b[43mbuf\u001b[49m\u001b[43m,\u001b[49m\n\u001b[0;32m   1396\u001b[0m \u001b[43m        \u001b[49m\u001b[43mencoding\u001b[49m\u001b[38;5;241;43m=\u001b[39;49m\u001b[43mencoding\u001b[49m\u001b[43m,\u001b[49m\n\u001b[0;32m   1397\u001b[0m \u001b[43m        \u001b[49m\u001b[43mline_width\u001b[49m\u001b[38;5;241;43m=\u001b[39;49m\u001b[43mline_width\u001b[49m\u001b[43m,\u001b[49m\n\u001b[0;32m   1398\u001b[0m \u001b[43m    \u001b[49m\u001b[43m)\u001b[49m\n",
            "File \u001b[1;32mc:\\Users\\Lucas\\AppData\\Local\\Programs\\Python\\Python312\\Lib\\site-packages\\pandas\\io\\formats\\format.py:962\u001b[0m, in \u001b[0;36mDataFrameRenderer.to_string\u001b[1;34m(self, buf, encoding, line_width)\u001b[0m\n\u001b[0;32m    959\u001b[0m \u001b[38;5;28;01mfrom\u001b[39;00m \u001b[38;5;21;01mpandas\u001b[39;00m\u001b[38;5;21;01m.\u001b[39;00m\u001b[38;5;21;01mio\u001b[39;00m\u001b[38;5;21;01m.\u001b[39;00m\u001b[38;5;21;01mformats\u001b[39;00m\u001b[38;5;21;01m.\u001b[39;00m\u001b[38;5;21;01mstring\u001b[39;00m \u001b[38;5;28;01mimport\u001b[39;00m StringFormatter\n\u001b[0;32m    961\u001b[0m string_formatter \u001b[38;5;241m=\u001b[39m StringFormatter(\u001b[38;5;28mself\u001b[39m\u001b[38;5;241m.\u001b[39mfmt, line_width\u001b[38;5;241m=\u001b[39mline_width)\n\u001b[1;32m--> 962\u001b[0m string \u001b[38;5;241m=\u001b[39m \u001b[43mstring_formatter\u001b[49m\u001b[38;5;241;43m.\u001b[39;49m\u001b[43mto_string\u001b[49m\u001b[43m(\u001b[49m\u001b[43m)\u001b[49m\n\u001b[0;32m    963\u001b[0m \u001b[38;5;28;01mreturn\u001b[39;00m save_to_buffer(string, buf\u001b[38;5;241m=\u001b[39mbuf, encoding\u001b[38;5;241m=\u001b[39mencoding)\n",
            "File \u001b[1;32mc:\\Users\\Lucas\\AppData\\Local\\Programs\\Python\\Python312\\Lib\\site-packages\\pandas\\io\\formats\\string.py:29\u001b[0m, in \u001b[0;36mStringFormatter.to_string\u001b[1;34m(self)\u001b[0m\n\u001b[0;32m     28\u001b[0m \u001b[38;5;28;01mdef\u001b[39;00m \u001b[38;5;21mto_string\u001b[39m(\u001b[38;5;28mself\u001b[39m) \u001b[38;5;241m-\u001b[39m\u001b[38;5;241m>\u001b[39m \u001b[38;5;28mstr\u001b[39m:\n\u001b[1;32m---> 29\u001b[0m     text \u001b[38;5;241m=\u001b[39m \u001b[38;5;28;43mself\u001b[39;49m\u001b[38;5;241;43m.\u001b[39;49m\u001b[43m_get_string_representation\u001b[49m\u001b[43m(\u001b[49m\u001b[43m)\u001b[49m\n\u001b[0;32m     30\u001b[0m     \u001b[38;5;28;01mif\u001b[39;00m \u001b[38;5;28mself\u001b[39m\u001b[38;5;241m.\u001b[39mfmt\u001b[38;5;241m.\u001b[39mshould_show_dimensions:\n\u001b[0;32m     31\u001b[0m         text \u001b[38;5;241m=\u001b[39m \u001b[38;5;124mf\u001b[39m\u001b[38;5;124m\"\u001b[39m\u001b[38;5;132;01m{\u001b[39;00mtext\u001b[38;5;132;01m}\u001b[39;00m\u001b[38;5;132;01m{\u001b[39;00m\u001b[38;5;28mself\u001b[39m\u001b[38;5;241m.\u001b[39mfmt\u001b[38;5;241m.\u001b[39mdimensions_info\u001b[38;5;132;01m}\u001b[39;00m\u001b[38;5;124m\"\u001b[39m\n",
            "File \u001b[1;32mc:\\Users\\Lucas\\AppData\\Local\\Programs\\Python\\Python312\\Lib\\site-packages\\pandas\\io\\formats\\string.py:44\u001b[0m, in \u001b[0;36mStringFormatter._get_string_representation\u001b[1;34m(self)\u001b[0m\n\u001b[0;32m     41\u001b[0m \u001b[38;5;28;01mif\u001b[39;00m \u001b[38;5;28mself\u001b[39m\u001b[38;5;241m.\u001b[39mfmt\u001b[38;5;241m.\u001b[39mframe\u001b[38;5;241m.\u001b[39mempty:\n\u001b[0;32m     42\u001b[0m     \u001b[38;5;28;01mreturn\u001b[39;00m \u001b[38;5;28mself\u001b[39m\u001b[38;5;241m.\u001b[39m_empty_info_line\n\u001b[1;32m---> 44\u001b[0m strcols \u001b[38;5;241m=\u001b[39m \u001b[38;5;28;43mself\u001b[39;49m\u001b[38;5;241;43m.\u001b[39;49m\u001b[43m_get_strcols\u001b[49m\u001b[43m(\u001b[49m\u001b[43m)\u001b[49m\n\u001b[0;32m     46\u001b[0m \u001b[38;5;28;01mif\u001b[39;00m \u001b[38;5;28mself\u001b[39m\u001b[38;5;241m.\u001b[39mline_width \u001b[38;5;129;01mis\u001b[39;00m \u001b[38;5;28;01mNone\u001b[39;00m:\n\u001b[0;32m     47\u001b[0m     \u001b[38;5;66;03m# no need to wrap around just print the whole frame\u001b[39;00m\n\u001b[0;32m     48\u001b[0m     \u001b[38;5;28;01mreturn\u001b[39;00m \u001b[38;5;28mself\u001b[39m\u001b[38;5;241m.\u001b[39madj\u001b[38;5;241m.\u001b[39madjoin(\u001b[38;5;241m1\u001b[39m, \u001b[38;5;241m*\u001b[39mstrcols)\n",
            "File \u001b[1;32mc:\\Users\\Lucas\\AppData\\Local\\Programs\\Python\\Python312\\Lib\\site-packages\\pandas\\io\\formats\\string.py:35\u001b[0m, in \u001b[0;36mStringFormatter._get_strcols\u001b[1;34m(self)\u001b[0m\n\u001b[0;32m     34\u001b[0m \u001b[38;5;28;01mdef\u001b[39;00m \u001b[38;5;21m_get_strcols\u001b[39m(\u001b[38;5;28mself\u001b[39m) \u001b[38;5;241m-\u001b[39m\u001b[38;5;241m>\u001b[39m \u001b[38;5;28mlist\u001b[39m[\u001b[38;5;28mlist\u001b[39m[\u001b[38;5;28mstr\u001b[39m]]:\n\u001b[1;32m---> 35\u001b[0m     strcols \u001b[38;5;241m=\u001b[39m \u001b[38;5;28;43mself\u001b[39;49m\u001b[38;5;241;43m.\u001b[39;49m\u001b[43mfmt\u001b[49m\u001b[38;5;241;43m.\u001b[39;49m\u001b[43mget_strcols\u001b[49m\u001b[43m(\u001b[49m\u001b[43m)\u001b[49m\n\u001b[0;32m     36\u001b[0m     \u001b[38;5;28;01mif\u001b[39;00m \u001b[38;5;28mself\u001b[39m\u001b[38;5;241m.\u001b[39mfmt\u001b[38;5;241m.\u001b[39mis_truncated:\n\u001b[0;32m     37\u001b[0m         strcols \u001b[38;5;241m=\u001b[39m \u001b[38;5;28mself\u001b[39m\u001b[38;5;241m.\u001b[39m_insert_dot_separators(strcols)\n",
            "File \u001b[1;32mc:\\Users\\Lucas\\AppData\\Local\\Programs\\Python\\Python312\\Lib\\site-packages\\pandas\\io\\formats\\format.py:476\u001b[0m, in \u001b[0;36mDataFrameFormatter.get_strcols\u001b[1;34m(self)\u001b[0m\n\u001b[0;32m    472\u001b[0m \u001b[38;5;28;01mdef\u001b[39;00m \u001b[38;5;21mget_strcols\u001b[39m(\u001b[38;5;28mself\u001b[39m) \u001b[38;5;241m-\u001b[39m\u001b[38;5;241m>\u001b[39m \u001b[38;5;28mlist\u001b[39m[\u001b[38;5;28mlist\u001b[39m[\u001b[38;5;28mstr\u001b[39m]]:\n\u001b[0;32m    473\u001b[0m \u001b[38;5;250m    \u001b[39m\u001b[38;5;124;03m\"\"\"\u001b[39;00m\n\u001b[0;32m    474\u001b[0m \u001b[38;5;124;03m    Render a DataFrame to a list of columns (as lists of strings).\u001b[39;00m\n\u001b[0;32m    475\u001b[0m \u001b[38;5;124;03m    \"\"\"\u001b[39;00m\n\u001b[1;32m--> 476\u001b[0m     strcols \u001b[38;5;241m=\u001b[39m \u001b[38;5;28;43mself\u001b[39;49m\u001b[38;5;241;43m.\u001b[39;49m\u001b[43m_get_strcols_without_index\u001b[49m\u001b[43m(\u001b[49m\u001b[43m)\u001b[49m\n\u001b[0;32m    478\u001b[0m     \u001b[38;5;28;01mif\u001b[39;00m \u001b[38;5;28mself\u001b[39m\u001b[38;5;241m.\u001b[39mindex:\n\u001b[0;32m    479\u001b[0m         str_index \u001b[38;5;241m=\u001b[39m \u001b[38;5;28mself\u001b[39m\u001b[38;5;241m.\u001b[39m_get_formatted_index(\u001b[38;5;28mself\u001b[39m\u001b[38;5;241m.\u001b[39mtr_frame)\n",
            "File \u001b[1;32mc:\\Users\\Lucas\\AppData\\Local\\Programs\\Python\\Python312\\Lib\\site-packages\\pandas\\io\\formats\\format.py:740\u001b[0m, in \u001b[0;36mDataFrameFormatter._get_strcols_without_index\u001b[1;34m(self)\u001b[0m\n\u001b[0;32m    736\u001b[0m cheader \u001b[38;5;241m=\u001b[39m str_columns[i]\n\u001b[0;32m    737\u001b[0m header_colwidth \u001b[38;5;241m=\u001b[39m \u001b[38;5;28mmax\u001b[39m(\n\u001b[0;32m    738\u001b[0m     \u001b[38;5;28mint\u001b[39m(\u001b[38;5;28mself\u001b[39m\u001b[38;5;241m.\u001b[39mcol_space\u001b[38;5;241m.\u001b[39mget(c, \u001b[38;5;241m0\u001b[39m)), \u001b[38;5;241m*\u001b[39m(\u001b[38;5;28mself\u001b[39m\u001b[38;5;241m.\u001b[39madj\u001b[38;5;241m.\u001b[39mlen(x) \u001b[38;5;28;01mfor\u001b[39;00m x \u001b[38;5;129;01min\u001b[39;00m cheader)\n\u001b[0;32m    739\u001b[0m )\n\u001b[1;32m--> 740\u001b[0m fmt_values \u001b[38;5;241m=\u001b[39m \u001b[38;5;28;43mself\u001b[39;49m\u001b[38;5;241;43m.\u001b[39;49m\u001b[43mformat_col\u001b[49m\u001b[43m(\u001b[49m\u001b[43mi\u001b[49m\u001b[43m)\u001b[49m\n\u001b[0;32m    741\u001b[0m fmt_values \u001b[38;5;241m=\u001b[39m _make_fixed_width(\n\u001b[0;32m    742\u001b[0m     fmt_values, \u001b[38;5;28mself\u001b[39m\u001b[38;5;241m.\u001b[39mjustify, minimum\u001b[38;5;241m=\u001b[39mheader_colwidth, adj\u001b[38;5;241m=\u001b[39m\u001b[38;5;28mself\u001b[39m\u001b[38;5;241m.\u001b[39madj\n\u001b[0;32m    743\u001b[0m )\n\u001b[0;32m    745\u001b[0m max_len \u001b[38;5;241m=\u001b[39m \u001b[38;5;28mmax\u001b[39m(\u001b[38;5;241m*\u001b[39m(\u001b[38;5;28mself\u001b[39m\u001b[38;5;241m.\u001b[39madj\u001b[38;5;241m.\u001b[39mlen(x) \u001b[38;5;28;01mfor\u001b[39;00m x \u001b[38;5;129;01min\u001b[39;00m fmt_values), header_colwidth)\n",
            "File \u001b[1;32mc:\\Users\\Lucas\\AppData\\Local\\Programs\\Python\\Python312\\Lib\\site-packages\\pandas\\io\\formats\\format.py:754\u001b[0m, in \u001b[0;36mDataFrameFormatter.format_col\u001b[1;34m(self, i)\u001b[0m\n\u001b[0;32m    752\u001b[0m frame \u001b[38;5;241m=\u001b[39m \u001b[38;5;28mself\u001b[39m\u001b[38;5;241m.\u001b[39mtr_frame\n\u001b[0;32m    753\u001b[0m formatter \u001b[38;5;241m=\u001b[39m \u001b[38;5;28mself\u001b[39m\u001b[38;5;241m.\u001b[39m_get_formatter(i)\n\u001b[1;32m--> 754\u001b[0m \u001b[38;5;28;01mreturn\u001b[39;00m \u001b[43mformat_array\u001b[49m\u001b[43m(\u001b[49m\n\u001b[0;32m    755\u001b[0m \u001b[43m    \u001b[49m\u001b[43mframe\u001b[49m\u001b[38;5;241;43m.\u001b[39;49m\u001b[43miloc\u001b[49m\u001b[43m[\u001b[49m\u001b[43m:\u001b[49m\u001b[43m,\u001b[49m\u001b[43m \u001b[49m\u001b[43mi\u001b[49m\u001b[43m]\u001b[49m\u001b[38;5;241;43m.\u001b[39;49m\u001b[43m_values\u001b[49m\u001b[43m,\u001b[49m\n\u001b[0;32m    756\u001b[0m \u001b[43m    \u001b[49m\u001b[43mformatter\u001b[49m\u001b[43m,\u001b[49m\n\u001b[0;32m    757\u001b[0m \u001b[43m    \u001b[49m\u001b[43mfloat_format\u001b[49m\u001b[38;5;241;43m=\u001b[39;49m\u001b[38;5;28;43mself\u001b[39;49m\u001b[38;5;241;43m.\u001b[39;49m\u001b[43mfloat_format\u001b[49m\u001b[43m,\u001b[49m\n\u001b[0;32m    758\u001b[0m \u001b[43m    \u001b[49m\u001b[43mna_rep\u001b[49m\u001b[38;5;241;43m=\u001b[39;49m\u001b[38;5;28;43mself\u001b[39;49m\u001b[38;5;241;43m.\u001b[39;49m\u001b[43mna_rep\u001b[49m\u001b[43m,\u001b[49m\n\u001b[0;32m    759\u001b[0m \u001b[43m    \u001b[49m\u001b[43mspace\u001b[49m\u001b[38;5;241;43m=\u001b[39;49m\u001b[38;5;28;43mself\u001b[39;49m\u001b[38;5;241;43m.\u001b[39;49m\u001b[43mcol_space\u001b[49m\u001b[38;5;241;43m.\u001b[39;49m\u001b[43mget\u001b[49m\u001b[43m(\u001b[49m\u001b[43mframe\u001b[49m\u001b[38;5;241;43m.\u001b[39;49m\u001b[43mcolumns\u001b[49m\u001b[43m[\u001b[49m\u001b[43mi\u001b[49m\u001b[43m]\u001b[49m\u001b[43m)\u001b[49m\u001b[43m,\u001b[49m\n\u001b[0;32m    760\u001b[0m \u001b[43m    \u001b[49m\u001b[43mdecimal\u001b[49m\u001b[38;5;241;43m=\u001b[39;49m\u001b[38;5;28;43mself\u001b[39;49m\u001b[38;5;241;43m.\u001b[39;49m\u001b[43mdecimal\u001b[49m\u001b[43m,\u001b[49m\n\u001b[0;32m    761\u001b[0m \u001b[43m    \u001b[49m\u001b[43mleading_space\u001b[49m\u001b[38;5;241;43m=\u001b[39;49m\u001b[38;5;28;43mself\u001b[39;49m\u001b[38;5;241;43m.\u001b[39;49m\u001b[43mindex\u001b[49m\u001b[43m,\u001b[49m\n\u001b[0;32m    762\u001b[0m \u001b[43m\u001b[49m\u001b[43m)\u001b[49m\n",
            "File \u001b[1;32mc:\\Users\\Lucas\\AppData\\Local\\Programs\\Python\\Python312\\Lib\\site-packages\\pandas\\io\\formats\\format.py:1161\u001b[0m, in \u001b[0;36mformat_array\u001b[1;34m(values, formatter, float_format, na_rep, digits, space, justify, decimal, leading_space, quoting, fallback_formatter)\u001b[0m\n\u001b[0;32m   1145\u001b[0m     digits \u001b[38;5;241m=\u001b[39m get_option(\u001b[38;5;124m\"\u001b[39m\u001b[38;5;124mdisplay.precision\u001b[39m\u001b[38;5;124m\"\u001b[39m)\n\u001b[0;32m   1147\u001b[0m fmt_obj \u001b[38;5;241m=\u001b[39m fmt_klass(\n\u001b[0;32m   1148\u001b[0m     values,\n\u001b[0;32m   1149\u001b[0m     digits\u001b[38;5;241m=\u001b[39mdigits,\n\u001b[1;32m   (...)\u001b[0m\n\u001b[0;32m   1158\u001b[0m     fallback_formatter\u001b[38;5;241m=\u001b[39mfallback_formatter,\n\u001b[0;32m   1159\u001b[0m )\n\u001b[1;32m-> 1161\u001b[0m \u001b[38;5;28;01mreturn\u001b[39;00m \u001b[43mfmt_obj\u001b[49m\u001b[38;5;241;43m.\u001b[39;49m\u001b[43mget_result\u001b[49m\u001b[43m(\u001b[49m\u001b[43m)\u001b[49m\n",
            "File \u001b[1;32mc:\\Users\\Lucas\\AppData\\Local\\Programs\\Python\\Python312\\Lib\\site-packages\\pandas\\io\\formats\\format.py:1194\u001b[0m, in \u001b[0;36m_GenericArrayFormatter.get_result\u001b[1;34m(self)\u001b[0m\n\u001b[0;32m   1193\u001b[0m \u001b[38;5;28;01mdef\u001b[39;00m \u001b[38;5;21mget_result\u001b[39m(\u001b[38;5;28mself\u001b[39m) \u001b[38;5;241m-\u001b[39m\u001b[38;5;241m>\u001b[39m \u001b[38;5;28mlist\u001b[39m[\u001b[38;5;28mstr\u001b[39m]:\n\u001b[1;32m-> 1194\u001b[0m     fmt_values \u001b[38;5;241m=\u001b[39m \u001b[38;5;28;43mself\u001b[39;49m\u001b[38;5;241;43m.\u001b[39;49m\u001b[43m_format_strings\u001b[49m\u001b[43m(\u001b[49m\u001b[43m)\u001b[49m\n\u001b[0;32m   1195\u001b[0m     \u001b[38;5;28;01mreturn\u001b[39;00m _make_fixed_width(fmt_values, \u001b[38;5;28mself\u001b[39m\u001b[38;5;241m.\u001b[39mjustify)\n",
            "File \u001b[1;32mc:\\Users\\Lucas\\AppData\\Local\\Programs\\Python\\Python312\\Lib\\site-packages\\pandas\\io\\formats\\format.py:1259\u001b[0m, in \u001b[0;36m_GenericArrayFormatter._format_strings\u001b[1;34m(self)\u001b[0m\n\u001b[0;32m   1257\u001b[0m \u001b[38;5;28;01mfor\u001b[39;00m i, v \u001b[38;5;129;01min\u001b[39;00m \u001b[38;5;28menumerate\u001b[39m(vals):\n\u001b[0;32m   1258\u001b[0m     \u001b[38;5;28;01mif\u001b[39;00m (\u001b[38;5;129;01mnot\u001b[39;00m is_float_type[i] \u001b[38;5;129;01mor\u001b[39;00m \u001b[38;5;28mself\u001b[39m\u001b[38;5;241m.\u001b[39mformatter \u001b[38;5;129;01mis\u001b[39;00m \u001b[38;5;129;01mnot\u001b[39;00m \u001b[38;5;28;01mNone\u001b[39;00m) \u001b[38;5;129;01mand\u001b[39;00m leading_space:\n\u001b[1;32m-> 1259\u001b[0m         fmt_values\u001b[38;5;241m.\u001b[39mappend(\u001b[38;5;124mf\u001b[39m\u001b[38;5;124m\"\u001b[39m\u001b[38;5;124m \u001b[39m\u001b[38;5;132;01m{\u001b[39;00m\u001b[43m_format\u001b[49m\u001b[43m(\u001b[49m\u001b[43mv\u001b[49m\u001b[43m)\u001b[49m\u001b[38;5;132;01m}\u001b[39;00m\u001b[38;5;124m\"\u001b[39m)\n\u001b[0;32m   1260\u001b[0m     \u001b[38;5;28;01melif\u001b[39;00m is_float_type[i]:\n\u001b[0;32m   1261\u001b[0m         fmt_values\u001b[38;5;241m.\u001b[39mappend(float_format(v))\n",
            "File \u001b[1;32mc:\\Users\\Lucas\\AppData\\Local\\Programs\\Python\\Python312\\Lib\\site-packages\\pandas\\io\\formats\\format.py:1239\u001b[0m, in \u001b[0;36m_GenericArrayFormatter._format_strings.<locals>._format\u001b[1;34m(x)\u001b[0m\n\u001b[0;32m   1236\u001b[0m     \u001b[38;5;28;01mreturn\u001b[39;00m \u001b[38;5;28mrepr\u001b[39m(x)\n\u001b[0;32m   1237\u001b[0m \u001b[38;5;28;01melse\u001b[39;00m:\n\u001b[0;32m   1238\u001b[0m     \u001b[38;5;66;03m# object dtype\u001b[39;00m\n\u001b[1;32m-> 1239\u001b[0m     \u001b[38;5;28;01mreturn\u001b[39;00m \u001b[38;5;28mstr\u001b[39m(\u001b[43mformatter\u001b[49m\u001b[43m(\u001b[49m\u001b[43mx\u001b[49m\u001b[43m)\u001b[49m)\n",
            "File \u001b[1;32mc:\\Users\\Lucas\\AppData\\Local\\Programs\\Python\\Python312\\Lib\\site-packages\\pandas\\io\\formats\\printing.py:219\u001b[0m, in \u001b[0;36mpprint_thing\u001b[1;34m(thing, _nest_lvl, escape_chars, default_escapes, quote_strings, max_seq_items)\u001b[0m\n\u001b[0;32m    215\u001b[0m     \u001b[38;5;28;01mreturn\u001b[39;00m \u001b[38;5;28mstr\u001b[39m(thing)\n\u001b[0;32m    216\u001b[0m \u001b[38;5;28;01melif\u001b[39;00m \u001b[38;5;28misinstance\u001b[39m(thing, \u001b[38;5;28mdict\u001b[39m) \u001b[38;5;129;01mand\u001b[39;00m _nest_lvl \u001b[38;5;241m<\u001b[39m get_option(\n\u001b[0;32m    217\u001b[0m     \u001b[38;5;124m\"\u001b[39m\u001b[38;5;124mdisplay.pprint_nest_depth\u001b[39m\u001b[38;5;124m\"\u001b[39m\n\u001b[0;32m    218\u001b[0m ):\n\u001b[1;32m--> 219\u001b[0m     result \u001b[38;5;241m=\u001b[39m \u001b[43m_pprint_dict\u001b[49m\u001b[43m(\u001b[49m\n\u001b[0;32m    220\u001b[0m \u001b[43m        \u001b[49m\u001b[43mthing\u001b[49m\u001b[43m,\u001b[49m\u001b[43m \u001b[49m\u001b[43m_nest_lvl\u001b[49m\u001b[43m,\u001b[49m\u001b[43m \u001b[49m\u001b[43mquote_strings\u001b[49m\u001b[38;5;241;43m=\u001b[39;49m\u001b[38;5;28;43;01mTrue\u001b[39;49;00m\u001b[43m,\u001b[49m\u001b[43m \u001b[49m\u001b[43mmax_seq_items\u001b[49m\u001b[38;5;241;43m=\u001b[39;49m\u001b[43mmax_seq_items\u001b[49m\n\u001b[0;32m    221\u001b[0m \u001b[43m    \u001b[49m\u001b[43m)\u001b[49m\n\u001b[0;32m    222\u001b[0m \u001b[38;5;28;01melif\u001b[39;00m is_sequence(thing) \u001b[38;5;129;01mand\u001b[39;00m _nest_lvl \u001b[38;5;241m<\u001b[39m get_option(\u001b[38;5;124m\"\u001b[39m\u001b[38;5;124mdisplay.pprint_nest_depth\u001b[39m\u001b[38;5;124m\"\u001b[39m):\n\u001b[0;32m    223\u001b[0m     result \u001b[38;5;241m=\u001b[39m _pprint_seq(\n\u001b[0;32m    224\u001b[0m         thing,\n\u001b[0;32m    225\u001b[0m         _nest_lvl,\n\u001b[1;32m   (...)\u001b[0m\n\u001b[0;32m    228\u001b[0m         max_seq_items\u001b[38;5;241m=\u001b[39mmax_seq_items,\n\u001b[0;32m    229\u001b[0m     )\n",
            "File \u001b[1;32mc:\\Users\\Lucas\\AppData\\Local\\Programs\\Python\\Python312\\Lib\\site-packages\\pandas\\io\\formats\\printing.py:155\u001b[0m, in \u001b[0;36m_pprint_dict\u001b[1;34m(seq, _nest_lvl, max_seq_items, **kwds)\u001b[0m\n\u001b[0;32m    149\u001b[0m     nitems \u001b[38;5;241m=\u001b[39m max_seq_items \u001b[38;5;129;01mor\u001b[39;00m get_option(\u001b[38;5;124m\"\u001b[39m\u001b[38;5;124mmax_seq_items\u001b[39m\u001b[38;5;124m\"\u001b[39m) \u001b[38;5;129;01mor\u001b[39;00m \u001b[38;5;28mlen\u001b[39m(seq)\n\u001b[0;32m    151\u001b[0m \u001b[38;5;28;01mfor\u001b[39;00m k, v \u001b[38;5;129;01min\u001b[39;00m \u001b[38;5;28mlist\u001b[39m(seq\u001b[38;5;241m.\u001b[39mitems())[:nitems]:\n\u001b[0;32m    152\u001b[0m     pairs\u001b[38;5;241m.\u001b[39mappend(\n\u001b[0;32m    153\u001b[0m         pfmt\u001b[38;5;241m.\u001b[39mformat(\n\u001b[0;32m    154\u001b[0m             key\u001b[38;5;241m=\u001b[39mpprint_thing(k, _nest_lvl \u001b[38;5;241m+\u001b[39m \u001b[38;5;241m1\u001b[39m, max_seq_items\u001b[38;5;241m=\u001b[39mmax_seq_items, \u001b[38;5;241m*\u001b[39m\u001b[38;5;241m*\u001b[39mkwds),\n\u001b[1;32m--> 155\u001b[0m             val\u001b[38;5;241m=\u001b[39m\u001b[43mpprint_thing\u001b[49m\u001b[43m(\u001b[49m\u001b[43mv\u001b[49m\u001b[43m,\u001b[49m\u001b[43m \u001b[49m\u001b[43m_nest_lvl\u001b[49m\u001b[43m \u001b[49m\u001b[38;5;241;43m+\u001b[39;49m\u001b[43m \u001b[49m\u001b[38;5;241;43m1\u001b[39;49m\u001b[43m,\u001b[49m\u001b[43m \u001b[49m\u001b[43mmax_seq_items\u001b[49m\u001b[38;5;241;43m=\u001b[39;49m\u001b[43mmax_seq_items\u001b[49m\u001b[43m,\u001b[49m\u001b[43m \u001b[49m\u001b[38;5;241;43m*\u001b[39;49m\u001b[38;5;241;43m*\u001b[39;49m\u001b[43mkwds\u001b[49m\u001b[43m)\u001b[49m,\n\u001b[0;32m    156\u001b[0m         )\n\u001b[0;32m    157\u001b[0m     )\n\u001b[0;32m    159\u001b[0m \u001b[38;5;28;01mif\u001b[39;00m nitems \u001b[38;5;241m<\u001b[39m \u001b[38;5;28mlen\u001b[39m(seq):\n\u001b[0;32m    160\u001b[0m     \u001b[38;5;28;01mreturn\u001b[39;00m fmt\u001b[38;5;241m.\u001b[39mformat(things\u001b[38;5;241m=\u001b[39m\u001b[38;5;124m\"\u001b[39m\u001b[38;5;124m, \u001b[39m\u001b[38;5;124m\"\u001b[39m\u001b[38;5;241m.\u001b[39mjoin(pairs) \u001b[38;5;241m+\u001b[39m \u001b[38;5;124m\"\u001b[39m\u001b[38;5;124m, ...\u001b[39m\u001b[38;5;124m\"\u001b[39m)\n",
            "File \u001b[1;32mc:\\Users\\Lucas\\AppData\\Local\\Programs\\Python\\Python312\\Lib\\site-packages\\pandas\\io\\formats\\printing.py:223\u001b[0m, in \u001b[0;36mpprint_thing\u001b[1;34m(thing, _nest_lvl, escape_chars, default_escapes, quote_strings, max_seq_items)\u001b[0m\n\u001b[0;32m    219\u001b[0m     result \u001b[38;5;241m=\u001b[39m _pprint_dict(\n\u001b[0;32m    220\u001b[0m         thing, _nest_lvl, quote_strings\u001b[38;5;241m=\u001b[39m\u001b[38;5;28;01mTrue\u001b[39;00m, max_seq_items\u001b[38;5;241m=\u001b[39mmax_seq_items\n\u001b[0;32m    221\u001b[0m     )\n\u001b[0;32m    222\u001b[0m \u001b[38;5;28;01melif\u001b[39;00m is_sequence(thing) \u001b[38;5;129;01mand\u001b[39;00m _nest_lvl \u001b[38;5;241m<\u001b[39m get_option(\u001b[38;5;124m\"\u001b[39m\u001b[38;5;124mdisplay.pprint_nest_depth\u001b[39m\u001b[38;5;124m\"\u001b[39m):\n\u001b[1;32m--> 223\u001b[0m     result \u001b[38;5;241m=\u001b[39m \u001b[43m_pprint_seq\u001b[49m\u001b[43m(\u001b[49m\n\u001b[0;32m    224\u001b[0m \u001b[43m        \u001b[49m\u001b[43mthing\u001b[49m\u001b[43m,\u001b[49m\n\u001b[0;32m    225\u001b[0m \u001b[43m        \u001b[49m\u001b[43m_nest_lvl\u001b[49m\u001b[43m,\u001b[49m\n\u001b[0;32m    226\u001b[0m \u001b[43m        \u001b[49m\u001b[43mescape_chars\u001b[49m\u001b[38;5;241;43m=\u001b[39;49m\u001b[43mescape_chars\u001b[49m\u001b[43m,\u001b[49m\n\u001b[0;32m    227\u001b[0m \u001b[43m        \u001b[49m\u001b[43mquote_strings\u001b[49m\u001b[38;5;241;43m=\u001b[39;49m\u001b[43mquote_strings\u001b[49m\u001b[43m,\u001b[49m\n\u001b[0;32m    228\u001b[0m \u001b[43m        \u001b[49m\u001b[43mmax_seq_items\u001b[49m\u001b[38;5;241;43m=\u001b[39;49m\u001b[43mmax_seq_items\u001b[49m\u001b[43m,\u001b[49m\n\u001b[0;32m    229\u001b[0m \u001b[43m    \u001b[49m\u001b[43m)\u001b[49m\n\u001b[0;32m    230\u001b[0m \u001b[38;5;28;01melif\u001b[39;00m \u001b[38;5;28misinstance\u001b[39m(thing, \u001b[38;5;28mstr\u001b[39m) \u001b[38;5;129;01mand\u001b[39;00m quote_strings:\n\u001b[0;32m    231\u001b[0m     result \u001b[38;5;241m=\u001b[39m \u001b[38;5;124mf\u001b[39m\u001b[38;5;124m\"\u001b[39m\u001b[38;5;124m'\u001b[39m\u001b[38;5;132;01m{\u001b[39;00mas_escaped_string(thing)\u001b[38;5;132;01m}\u001b[39;00m\u001b[38;5;124m'\u001b[39m\u001b[38;5;124m\"\u001b[39m\n",
            "File \u001b[1;32mc:\\Users\\Lucas\\AppData\\Local\\Programs\\Python\\Python312\\Lib\\site-packages\\pandas\\io\\formats\\printing.py:121\u001b[0m, in \u001b[0;36m_pprint_seq\u001b[1;34m(seq, _nest_lvl, max_seq_items, **kwds)\u001b[0m\n\u001b[0;32m    118\u001b[0m s \u001b[38;5;241m=\u001b[39m \u001b[38;5;28miter\u001b[39m(seq)\n\u001b[0;32m    119\u001b[0m \u001b[38;5;66;03m# handle sets, no slicing\u001b[39;00m\n\u001b[0;32m    120\u001b[0m r \u001b[38;5;241m=\u001b[39m [\n\u001b[1;32m--> 121\u001b[0m     pprint_thing(\u001b[38;5;28;43mnext\u001b[39;49m\u001b[43m(\u001b[49m\u001b[43ms\u001b[49m\u001b[43m)\u001b[49m, _nest_lvl \u001b[38;5;241m+\u001b[39m \u001b[38;5;241m1\u001b[39m, max_seq_items\u001b[38;5;241m=\u001b[39mmax_seq_items, \u001b[38;5;241m*\u001b[39m\u001b[38;5;241m*\u001b[39mkwds)\n\u001b[0;32m    122\u001b[0m     \u001b[38;5;28;01mfor\u001b[39;00m i \u001b[38;5;129;01min\u001b[39;00m \u001b[38;5;28mrange\u001b[39m(\u001b[38;5;28mmin\u001b[39m(nitems, \u001b[38;5;28mlen\u001b[39m(seq)))\n\u001b[0;32m    123\u001b[0m ]\n\u001b[0;32m    124\u001b[0m body \u001b[38;5;241m=\u001b[39m \u001b[38;5;124m\"\u001b[39m\u001b[38;5;124m, \u001b[39m\u001b[38;5;124m\"\u001b[39m\u001b[38;5;241m.\u001b[39mjoin(r)\n\u001b[0;32m    126\u001b[0m \u001b[38;5;28;01mif\u001b[39;00m nitems \u001b[38;5;241m<\u001b[39m \u001b[38;5;28mlen\u001b[39m(seq):\n",
            "\u001b[1;31mStopIteration\u001b[0m: "
          ]
        },
        {
          "ename": "StopIteration",
          "evalue": "",
          "output_type": "error",
          "traceback": [
            "\u001b[1;31m---------------------------------------------------------------------------\u001b[0m",
            "\u001b[1;31mStopIteration\u001b[0m                             Traceback (most recent call last)",
            "File \u001b[1;32m~\\AppData\\Roaming\\Python\\Python312\\site-packages\\IPython\\core\\formatters.py:347\u001b[0m, in \u001b[0;36mBaseFormatter.__call__\u001b[1;34m(self, obj)\u001b[0m\n\u001b[0;32m    345\u001b[0m     method \u001b[38;5;241m=\u001b[39m get_real_method(obj, \u001b[38;5;28mself\u001b[39m\u001b[38;5;241m.\u001b[39mprint_method)\n\u001b[0;32m    346\u001b[0m     \u001b[38;5;28;01mif\u001b[39;00m method \u001b[38;5;129;01mis\u001b[39;00m \u001b[38;5;129;01mnot\u001b[39;00m \u001b[38;5;28;01mNone\u001b[39;00m:\n\u001b[1;32m--> 347\u001b[0m         \u001b[38;5;28;01mreturn\u001b[39;00m \u001b[43mmethod\u001b[49m\u001b[43m(\u001b[49m\u001b[43m)\u001b[49m\n\u001b[0;32m    348\u001b[0m     \u001b[38;5;28;01mreturn\u001b[39;00m \u001b[38;5;28;01mNone\u001b[39;00m\n\u001b[0;32m    349\u001b[0m \u001b[38;5;28;01melse\u001b[39;00m:\n",
            "File \u001b[1;32mc:\\Users\\Lucas\\AppData\\Local\\Programs\\Python\\Python312\\Lib\\site-packages\\pandas\\core\\frame.py:1256\u001b[0m, in \u001b[0;36mDataFrame._repr_html_\u001b[1;34m(self)\u001b[0m\n\u001b[0;32m   1234\u001b[0m     show_dimensions \u001b[38;5;241m=\u001b[39m get_option(\u001b[38;5;124m\"\u001b[39m\u001b[38;5;124mdisplay.show_dimensions\u001b[39m\u001b[38;5;124m\"\u001b[39m)\n\u001b[0;32m   1236\u001b[0m     formatter \u001b[38;5;241m=\u001b[39m fmt\u001b[38;5;241m.\u001b[39mDataFrameFormatter(\n\u001b[0;32m   1237\u001b[0m         \u001b[38;5;28mself\u001b[39m,\n\u001b[0;32m   1238\u001b[0m         columns\u001b[38;5;241m=\u001b[39m\u001b[38;5;28;01mNone\u001b[39;00m,\n\u001b[1;32m   (...)\u001b[0m\n\u001b[0;32m   1254\u001b[0m         decimal\u001b[38;5;241m=\u001b[39m\u001b[38;5;124m\"\u001b[39m\u001b[38;5;124m.\u001b[39m\u001b[38;5;124m\"\u001b[39m,\n\u001b[0;32m   1255\u001b[0m     )\n\u001b[1;32m-> 1256\u001b[0m     \u001b[38;5;28;01mreturn\u001b[39;00m \u001b[43mfmt\u001b[49m\u001b[38;5;241;43m.\u001b[39;49m\u001b[43mDataFrameRenderer\u001b[49m\u001b[43m(\u001b[49m\u001b[43mformatter\u001b[49m\u001b[43m)\u001b[49m\u001b[38;5;241;43m.\u001b[39;49m\u001b[43mto_html\u001b[49m\u001b[43m(\u001b[49m\u001b[43mnotebook\u001b[49m\u001b[38;5;241;43m=\u001b[39;49m\u001b[38;5;28;43;01mTrue\u001b[39;49;00m\u001b[43m)\u001b[49m\n\u001b[0;32m   1257\u001b[0m \u001b[38;5;28;01melse\u001b[39;00m:\n\u001b[0;32m   1258\u001b[0m     \u001b[38;5;28;01mreturn\u001b[39;00m \u001b[38;5;28;01mNone\u001b[39;00m\n",
            "File \u001b[1;32mc:\\Users\\Lucas\\AppData\\Local\\Programs\\Python\\Python312\\Lib\\site-packages\\pandas\\io\\formats\\format.py:936\u001b[0m, in \u001b[0;36mDataFrameRenderer.to_html\u001b[1;34m(self, buf, encoding, classes, notebook, border, table_id, render_links)\u001b[0m\n\u001b[0;32m    927\u001b[0m Klass \u001b[38;5;241m=\u001b[39m NotebookFormatter \u001b[38;5;28;01mif\u001b[39;00m notebook \u001b[38;5;28;01melse\u001b[39;00m HTMLFormatter\n\u001b[0;32m    929\u001b[0m html_formatter \u001b[38;5;241m=\u001b[39m Klass(\n\u001b[0;32m    930\u001b[0m     \u001b[38;5;28mself\u001b[39m\u001b[38;5;241m.\u001b[39mfmt,\n\u001b[0;32m    931\u001b[0m     classes\u001b[38;5;241m=\u001b[39mclasses,\n\u001b[1;32m   (...)\u001b[0m\n\u001b[0;32m    934\u001b[0m     render_links\u001b[38;5;241m=\u001b[39mrender_links,\n\u001b[0;32m    935\u001b[0m )\n\u001b[1;32m--> 936\u001b[0m string \u001b[38;5;241m=\u001b[39m \u001b[43mhtml_formatter\u001b[49m\u001b[38;5;241;43m.\u001b[39;49m\u001b[43mto_string\u001b[49m\u001b[43m(\u001b[49m\u001b[43m)\u001b[49m\n\u001b[0;32m    937\u001b[0m \u001b[38;5;28;01mreturn\u001b[39;00m save_to_buffer(string, buf\u001b[38;5;241m=\u001b[39mbuf, encoding\u001b[38;5;241m=\u001b[39mencoding)\n",
            "File \u001b[1;32mc:\\Users\\Lucas\\AppData\\Local\\Programs\\Python\\Python312\\Lib\\site-packages\\pandas\\io\\formats\\html.py:88\u001b[0m, in \u001b[0;36mHTMLFormatter.to_string\u001b[1;34m(self)\u001b[0m\n\u001b[0;32m     87\u001b[0m \u001b[38;5;28;01mdef\u001b[39;00m \u001b[38;5;21mto_string\u001b[39m(\u001b[38;5;28mself\u001b[39m) \u001b[38;5;241m-\u001b[39m\u001b[38;5;241m>\u001b[39m \u001b[38;5;28mstr\u001b[39m:\n\u001b[1;32m---> 88\u001b[0m     lines \u001b[38;5;241m=\u001b[39m \u001b[38;5;28;43mself\u001b[39;49m\u001b[38;5;241;43m.\u001b[39;49m\u001b[43mrender\u001b[49m\u001b[43m(\u001b[49m\u001b[43m)\u001b[49m\n\u001b[0;32m     89\u001b[0m     \u001b[38;5;28;01mif\u001b[39;00m \u001b[38;5;28many\u001b[39m(\u001b[38;5;28misinstance\u001b[39m(x, \u001b[38;5;28mstr\u001b[39m) \u001b[38;5;28;01mfor\u001b[39;00m x \u001b[38;5;129;01min\u001b[39;00m lines):\n\u001b[0;32m     90\u001b[0m         lines \u001b[38;5;241m=\u001b[39m [\u001b[38;5;28mstr\u001b[39m(x) \u001b[38;5;28;01mfor\u001b[39;00m x \u001b[38;5;129;01min\u001b[39;00m lines]\n",
            "File \u001b[1;32mc:\\Users\\Lucas\\AppData\\Local\\Programs\\Python\\Python312\\Lib\\site-packages\\pandas\\io\\formats\\html.py:644\u001b[0m, in \u001b[0;36mNotebookFormatter.render\u001b[1;34m(self)\u001b[0m\n\u001b[0;32m    642\u001b[0m \u001b[38;5;28mself\u001b[39m\u001b[38;5;241m.\u001b[39mwrite(\u001b[38;5;124m\"\u001b[39m\u001b[38;5;124m<div>\u001b[39m\u001b[38;5;124m\"\u001b[39m)\n\u001b[0;32m    643\u001b[0m \u001b[38;5;28mself\u001b[39m\u001b[38;5;241m.\u001b[39mwrite_style()\n\u001b[1;32m--> 644\u001b[0m \u001b[38;5;28;43msuper\u001b[39;49m\u001b[43m(\u001b[49m\u001b[43m)\u001b[49m\u001b[38;5;241;43m.\u001b[39;49m\u001b[43mrender\u001b[49m\u001b[43m(\u001b[49m\u001b[43m)\u001b[49m\n\u001b[0;32m    645\u001b[0m \u001b[38;5;28mself\u001b[39m\u001b[38;5;241m.\u001b[39mwrite(\u001b[38;5;124m\"\u001b[39m\u001b[38;5;124m</div>\u001b[39m\u001b[38;5;124m\"\u001b[39m)\n\u001b[0;32m    646\u001b[0m \u001b[38;5;28;01mreturn\u001b[39;00m \u001b[38;5;28mself\u001b[39m\u001b[38;5;241m.\u001b[39melements\n",
            "File \u001b[1;32mc:\\Users\\Lucas\\AppData\\Local\\Programs\\Python\\Python312\\Lib\\site-packages\\pandas\\io\\formats\\html.py:94\u001b[0m, in \u001b[0;36mHTMLFormatter.render\u001b[1;34m(self)\u001b[0m\n\u001b[0;32m     93\u001b[0m \u001b[38;5;28;01mdef\u001b[39;00m \u001b[38;5;21mrender\u001b[39m(\u001b[38;5;28mself\u001b[39m) \u001b[38;5;241m-\u001b[39m\u001b[38;5;241m>\u001b[39m \u001b[38;5;28mlist\u001b[39m[\u001b[38;5;28mstr\u001b[39m]:\n\u001b[1;32m---> 94\u001b[0m     \u001b[38;5;28;43mself\u001b[39;49m\u001b[38;5;241;43m.\u001b[39;49m\u001b[43m_write_table\u001b[49m\u001b[43m(\u001b[49m\u001b[43m)\u001b[49m\n\u001b[0;32m     96\u001b[0m     \u001b[38;5;28;01mif\u001b[39;00m \u001b[38;5;28mself\u001b[39m\u001b[38;5;241m.\u001b[39mshould_show_dimensions:\n\u001b[0;32m     97\u001b[0m         by \u001b[38;5;241m=\u001b[39m \u001b[38;5;28mchr\u001b[39m(\u001b[38;5;241m215\u001b[39m)  \u001b[38;5;66;03m# ×  # noqa: RUF003\u001b[39;00m\n",
            "File \u001b[1;32mc:\\Users\\Lucas\\AppData\\Local\\Programs\\Python\\Python312\\Lib\\site-packages\\pandas\\io\\formats\\html.py:269\u001b[0m, in \u001b[0;36mHTMLFormatter._write_table\u001b[1;34m(self, indent)\u001b[0m\n\u001b[0;32m    266\u001b[0m \u001b[38;5;28;01mif\u001b[39;00m \u001b[38;5;28mself\u001b[39m\u001b[38;5;241m.\u001b[39mfmt\u001b[38;5;241m.\u001b[39mheader \u001b[38;5;129;01mor\u001b[39;00m \u001b[38;5;28mself\u001b[39m\u001b[38;5;241m.\u001b[39mshow_row_idx_names:\n\u001b[0;32m    267\u001b[0m     \u001b[38;5;28mself\u001b[39m\u001b[38;5;241m.\u001b[39m_write_header(indent \u001b[38;5;241m+\u001b[39m \u001b[38;5;28mself\u001b[39m\u001b[38;5;241m.\u001b[39mindent_delta)\n\u001b[1;32m--> 269\u001b[0m \u001b[38;5;28;43mself\u001b[39;49m\u001b[38;5;241;43m.\u001b[39;49m\u001b[43m_write_body\u001b[49m\u001b[43m(\u001b[49m\u001b[43mindent\u001b[49m\u001b[43m \u001b[49m\u001b[38;5;241;43m+\u001b[39;49m\u001b[43m \u001b[49m\u001b[38;5;28;43mself\u001b[39;49m\u001b[38;5;241;43m.\u001b[39;49m\u001b[43mindent_delta\u001b[49m\u001b[43m)\u001b[49m\n\u001b[0;32m    271\u001b[0m \u001b[38;5;28mself\u001b[39m\u001b[38;5;241m.\u001b[39mwrite(\u001b[38;5;124m\"\u001b[39m\u001b[38;5;124m</table>\u001b[39m\u001b[38;5;124m\"\u001b[39m, indent)\n",
            "File \u001b[1;32mc:\\Users\\Lucas\\AppData\\Local\\Programs\\Python\\Python312\\Lib\\site-packages\\pandas\\io\\formats\\html.py:417\u001b[0m, in \u001b[0;36mHTMLFormatter._write_body\u001b[1;34m(self, indent)\u001b[0m\n\u001b[0;32m    415\u001b[0m \u001b[38;5;28;01mdef\u001b[39;00m \u001b[38;5;21m_write_body\u001b[39m(\u001b[38;5;28mself\u001b[39m, indent: \u001b[38;5;28mint\u001b[39m) \u001b[38;5;241m-\u001b[39m\u001b[38;5;241m>\u001b[39m \u001b[38;5;28;01mNone\u001b[39;00m:\n\u001b[0;32m    416\u001b[0m     \u001b[38;5;28mself\u001b[39m\u001b[38;5;241m.\u001b[39mwrite(\u001b[38;5;124m\"\u001b[39m\u001b[38;5;124m<tbody>\u001b[39m\u001b[38;5;124m\"\u001b[39m, indent)\n\u001b[1;32m--> 417\u001b[0m     fmt_values \u001b[38;5;241m=\u001b[39m \u001b[38;5;28;43mself\u001b[39;49m\u001b[38;5;241;43m.\u001b[39;49m\u001b[43m_get_formatted_values\u001b[49m\u001b[43m(\u001b[49m\u001b[43m)\u001b[49m\n\u001b[0;32m    419\u001b[0m     \u001b[38;5;66;03m# write values\u001b[39;00m\n\u001b[0;32m    420\u001b[0m     \u001b[38;5;28;01mif\u001b[39;00m \u001b[38;5;28mself\u001b[39m\u001b[38;5;241m.\u001b[39mfmt\u001b[38;5;241m.\u001b[39mindex \u001b[38;5;129;01mand\u001b[39;00m \u001b[38;5;28misinstance\u001b[39m(\u001b[38;5;28mself\u001b[39m\u001b[38;5;241m.\u001b[39mframe\u001b[38;5;241m.\u001b[39mindex, MultiIndex):\n",
            "File \u001b[1;32mc:\\Users\\Lucas\\AppData\\Local\\Programs\\Python\\Python312\\Lib\\site-packages\\pandas\\io\\formats\\html.py:607\u001b[0m, in \u001b[0;36mNotebookFormatter._get_formatted_values\u001b[1;34m(self)\u001b[0m\n\u001b[0;32m    606\u001b[0m \u001b[38;5;28;01mdef\u001b[39;00m \u001b[38;5;21m_get_formatted_values\u001b[39m(\u001b[38;5;28mself\u001b[39m) \u001b[38;5;241m-\u001b[39m\u001b[38;5;241m>\u001b[39m \u001b[38;5;28mdict\u001b[39m[\u001b[38;5;28mint\u001b[39m, \u001b[38;5;28mlist\u001b[39m[\u001b[38;5;28mstr\u001b[39m]]:\n\u001b[1;32m--> 607\u001b[0m     \u001b[38;5;28;01mreturn\u001b[39;00m {i: \u001b[38;5;28;43mself\u001b[39;49m\u001b[38;5;241;43m.\u001b[39;49m\u001b[43mfmt\u001b[49m\u001b[38;5;241;43m.\u001b[39;49m\u001b[43mformat_col\u001b[49m\u001b[43m(\u001b[49m\u001b[43mi\u001b[49m\u001b[43m)\u001b[49m \u001b[38;5;28;01mfor\u001b[39;00m i \u001b[38;5;129;01min\u001b[39;00m \u001b[38;5;28mrange\u001b[39m(\u001b[38;5;28mself\u001b[39m\u001b[38;5;241m.\u001b[39mncols)}\n",
            "File \u001b[1;32mc:\\Users\\Lucas\\AppData\\Local\\Programs\\Python\\Python312\\Lib\\site-packages\\pandas\\io\\formats\\format.py:754\u001b[0m, in \u001b[0;36mDataFrameFormatter.format_col\u001b[1;34m(self, i)\u001b[0m\n\u001b[0;32m    752\u001b[0m frame \u001b[38;5;241m=\u001b[39m \u001b[38;5;28mself\u001b[39m\u001b[38;5;241m.\u001b[39mtr_frame\n\u001b[0;32m    753\u001b[0m formatter \u001b[38;5;241m=\u001b[39m \u001b[38;5;28mself\u001b[39m\u001b[38;5;241m.\u001b[39m_get_formatter(i)\n\u001b[1;32m--> 754\u001b[0m \u001b[38;5;28;01mreturn\u001b[39;00m \u001b[43mformat_array\u001b[49m\u001b[43m(\u001b[49m\n\u001b[0;32m    755\u001b[0m \u001b[43m    \u001b[49m\u001b[43mframe\u001b[49m\u001b[38;5;241;43m.\u001b[39;49m\u001b[43miloc\u001b[49m\u001b[43m[\u001b[49m\u001b[43m:\u001b[49m\u001b[43m,\u001b[49m\u001b[43m \u001b[49m\u001b[43mi\u001b[49m\u001b[43m]\u001b[49m\u001b[38;5;241;43m.\u001b[39;49m\u001b[43m_values\u001b[49m\u001b[43m,\u001b[49m\n\u001b[0;32m    756\u001b[0m \u001b[43m    \u001b[49m\u001b[43mformatter\u001b[49m\u001b[43m,\u001b[49m\n\u001b[0;32m    757\u001b[0m \u001b[43m    \u001b[49m\u001b[43mfloat_format\u001b[49m\u001b[38;5;241;43m=\u001b[39;49m\u001b[38;5;28;43mself\u001b[39;49m\u001b[38;5;241;43m.\u001b[39;49m\u001b[43mfloat_format\u001b[49m\u001b[43m,\u001b[49m\n\u001b[0;32m    758\u001b[0m \u001b[43m    \u001b[49m\u001b[43mna_rep\u001b[49m\u001b[38;5;241;43m=\u001b[39;49m\u001b[38;5;28;43mself\u001b[39;49m\u001b[38;5;241;43m.\u001b[39;49m\u001b[43mna_rep\u001b[49m\u001b[43m,\u001b[49m\n\u001b[0;32m    759\u001b[0m \u001b[43m    \u001b[49m\u001b[43mspace\u001b[49m\u001b[38;5;241;43m=\u001b[39;49m\u001b[38;5;28;43mself\u001b[39;49m\u001b[38;5;241;43m.\u001b[39;49m\u001b[43mcol_space\u001b[49m\u001b[38;5;241;43m.\u001b[39;49m\u001b[43mget\u001b[49m\u001b[43m(\u001b[49m\u001b[43mframe\u001b[49m\u001b[38;5;241;43m.\u001b[39;49m\u001b[43mcolumns\u001b[49m\u001b[43m[\u001b[49m\u001b[43mi\u001b[49m\u001b[43m]\u001b[49m\u001b[43m)\u001b[49m\u001b[43m,\u001b[49m\n\u001b[0;32m    760\u001b[0m \u001b[43m    \u001b[49m\u001b[43mdecimal\u001b[49m\u001b[38;5;241;43m=\u001b[39;49m\u001b[38;5;28;43mself\u001b[39;49m\u001b[38;5;241;43m.\u001b[39;49m\u001b[43mdecimal\u001b[49m\u001b[43m,\u001b[49m\n\u001b[0;32m    761\u001b[0m \u001b[43m    \u001b[49m\u001b[43mleading_space\u001b[49m\u001b[38;5;241;43m=\u001b[39;49m\u001b[38;5;28;43mself\u001b[39;49m\u001b[38;5;241;43m.\u001b[39;49m\u001b[43mindex\u001b[49m\u001b[43m,\u001b[49m\n\u001b[0;32m    762\u001b[0m \u001b[43m\u001b[49m\u001b[43m)\u001b[49m\n",
            "File \u001b[1;32mc:\\Users\\Lucas\\AppData\\Local\\Programs\\Python\\Python312\\Lib\\site-packages\\pandas\\io\\formats\\format.py:1161\u001b[0m, in \u001b[0;36mformat_array\u001b[1;34m(values, formatter, float_format, na_rep, digits, space, justify, decimal, leading_space, quoting, fallback_formatter)\u001b[0m\n\u001b[0;32m   1145\u001b[0m     digits \u001b[38;5;241m=\u001b[39m get_option(\u001b[38;5;124m\"\u001b[39m\u001b[38;5;124mdisplay.precision\u001b[39m\u001b[38;5;124m\"\u001b[39m)\n\u001b[0;32m   1147\u001b[0m fmt_obj \u001b[38;5;241m=\u001b[39m fmt_klass(\n\u001b[0;32m   1148\u001b[0m     values,\n\u001b[0;32m   1149\u001b[0m     digits\u001b[38;5;241m=\u001b[39mdigits,\n\u001b[1;32m   (...)\u001b[0m\n\u001b[0;32m   1158\u001b[0m     fallback_formatter\u001b[38;5;241m=\u001b[39mfallback_formatter,\n\u001b[0;32m   1159\u001b[0m )\n\u001b[1;32m-> 1161\u001b[0m \u001b[38;5;28;01mreturn\u001b[39;00m \u001b[43mfmt_obj\u001b[49m\u001b[38;5;241;43m.\u001b[39;49m\u001b[43mget_result\u001b[49m\u001b[43m(\u001b[49m\u001b[43m)\u001b[49m\n",
            "File \u001b[1;32mc:\\Users\\Lucas\\AppData\\Local\\Programs\\Python\\Python312\\Lib\\site-packages\\pandas\\io\\formats\\format.py:1194\u001b[0m, in \u001b[0;36m_GenericArrayFormatter.get_result\u001b[1;34m(self)\u001b[0m\n\u001b[0;32m   1193\u001b[0m \u001b[38;5;28;01mdef\u001b[39;00m \u001b[38;5;21mget_result\u001b[39m(\u001b[38;5;28mself\u001b[39m) \u001b[38;5;241m-\u001b[39m\u001b[38;5;241m>\u001b[39m \u001b[38;5;28mlist\u001b[39m[\u001b[38;5;28mstr\u001b[39m]:\n\u001b[1;32m-> 1194\u001b[0m     fmt_values \u001b[38;5;241m=\u001b[39m \u001b[38;5;28;43mself\u001b[39;49m\u001b[38;5;241;43m.\u001b[39;49m\u001b[43m_format_strings\u001b[49m\u001b[43m(\u001b[49m\u001b[43m)\u001b[49m\n\u001b[0;32m   1195\u001b[0m     \u001b[38;5;28;01mreturn\u001b[39;00m _make_fixed_width(fmt_values, \u001b[38;5;28mself\u001b[39m\u001b[38;5;241m.\u001b[39mjustify)\n",
            "File \u001b[1;32mc:\\Users\\Lucas\\AppData\\Local\\Programs\\Python\\Python312\\Lib\\site-packages\\pandas\\io\\formats\\format.py:1259\u001b[0m, in \u001b[0;36m_GenericArrayFormatter._format_strings\u001b[1;34m(self)\u001b[0m\n\u001b[0;32m   1257\u001b[0m \u001b[38;5;28;01mfor\u001b[39;00m i, v \u001b[38;5;129;01min\u001b[39;00m \u001b[38;5;28menumerate\u001b[39m(vals):\n\u001b[0;32m   1258\u001b[0m     \u001b[38;5;28;01mif\u001b[39;00m (\u001b[38;5;129;01mnot\u001b[39;00m is_float_type[i] \u001b[38;5;129;01mor\u001b[39;00m \u001b[38;5;28mself\u001b[39m\u001b[38;5;241m.\u001b[39mformatter \u001b[38;5;129;01mis\u001b[39;00m \u001b[38;5;129;01mnot\u001b[39;00m \u001b[38;5;28;01mNone\u001b[39;00m) \u001b[38;5;129;01mand\u001b[39;00m leading_space:\n\u001b[1;32m-> 1259\u001b[0m         fmt_values\u001b[38;5;241m.\u001b[39mappend(\u001b[38;5;124mf\u001b[39m\u001b[38;5;124m\"\u001b[39m\u001b[38;5;124m \u001b[39m\u001b[38;5;132;01m{\u001b[39;00m\u001b[43m_format\u001b[49m\u001b[43m(\u001b[49m\u001b[43mv\u001b[49m\u001b[43m)\u001b[49m\u001b[38;5;132;01m}\u001b[39;00m\u001b[38;5;124m\"\u001b[39m)\n\u001b[0;32m   1260\u001b[0m     \u001b[38;5;28;01melif\u001b[39;00m is_float_type[i]:\n\u001b[0;32m   1261\u001b[0m         fmt_values\u001b[38;5;241m.\u001b[39mappend(float_format(v))\n",
            "File \u001b[1;32mc:\\Users\\Lucas\\AppData\\Local\\Programs\\Python\\Python312\\Lib\\site-packages\\pandas\\io\\formats\\format.py:1239\u001b[0m, in \u001b[0;36m_GenericArrayFormatter._format_strings.<locals>._format\u001b[1;34m(x)\u001b[0m\n\u001b[0;32m   1236\u001b[0m     \u001b[38;5;28;01mreturn\u001b[39;00m \u001b[38;5;28mrepr\u001b[39m(x)\n\u001b[0;32m   1237\u001b[0m \u001b[38;5;28;01melse\u001b[39;00m:\n\u001b[0;32m   1238\u001b[0m     \u001b[38;5;66;03m# object dtype\u001b[39;00m\n\u001b[1;32m-> 1239\u001b[0m     \u001b[38;5;28;01mreturn\u001b[39;00m \u001b[38;5;28mstr\u001b[39m(\u001b[43mformatter\u001b[49m\u001b[43m(\u001b[49m\u001b[43mx\u001b[49m\u001b[43m)\u001b[49m)\n",
            "File \u001b[1;32mc:\\Users\\Lucas\\AppData\\Local\\Programs\\Python\\Python312\\Lib\\site-packages\\pandas\\io\\formats\\printing.py:219\u001b[0m, in \u001b[0;36mpprint_thing\u001b[1;34m(thing, _nest_lvl, escape_chars, default_escapes, quote_strings, max_seq_items)\u001b[0m\n\u001b[0;32m    215\u001b[0m     \u001b[38;5;28;01mreturn\u001b[39;00m \u001b[38;5;28mstr\u001b[39m(thing)\n\u001b[0;32m    216\u001b[0m \u001b[38;5;28;01melif\u001b[39;00m \u001b[38;5;28misinstance\u001b[39m(thing, \u001b[38;5;28mdict\u001b[39m) \u001b[38;5;129;01mand\u001b[39;00m _nest_lvl \u001b[38;5;241m<\u001b[39m get_option(\n\u001b[0;32m    217\u001b[0m     \u001b[38;5;124m\"\u001b[39m\u001b[38;5;124mdisplay.pprint_nest_depth\u001b[39m\u001b[38;5;124m\"\u001b[39m\n\u001b[0;32m    218\u001b[0m ):\n\u001b[1;32m--> 219\u001b[0m     result \u001b[38;5;241m=\u001b[39m \u001b[43m_pprint_dict\u001b[49m\u001b[43m(\u001b[49m\n\u001b[0;32m    220\u001b[0m \u001b[43m        \u001b[49m\u001b[43mthing\u001b[49m\u001b[43m,\u001b[49m\u001b[43m \u001b[49m\u001b[43m_nest_lvl\u001b[49m\u001b[43m,\u001b[49m\u001b[43m \u001b[49m\u001b[43mquote_strings\u001b[49m\u001b[38;5;241;43m=\u001b[39;49m\u001b[38;5;28;43;01mTrue\u001b[39;49;00m\u001b[43m,\u001b[49m\u001b[43m \u001b[49m\u001b[43mmax_seq_items\u001b[49m\u001b[38;5;241;43m=\u001b[39;49m\u001b[43mmax_seq_items\u001b[49m\n\u001b[0;32m    221\u001b[0m \u001b[43m    \u001b[49m\u001b[43m)\u001b[49m\n\u001b[0;32m    222\u001b[0m \u001b[38;5;28;01melif\u001b[39;00m is_sequence(thing) \u001b[38;5;129;01mand\u001b[39;00m _nest_lvl \u001b[38;5;241m<\u001b[39m get_option(\u001b[38;5;124m\"\u001b[39m\u001b[38;5;124mdisplay.pprint_nest_depth\u001b[39m\u001b[38;5;124m\"\u001b[39m):\n\u001b[0;32m    223\u001b[0m     result \u001b[38;5;241m=\u001b[39m _pprint_seq(\n\u001b[0;32m    224\u001b[0m         thing,\n\u001b[0;32m    225\u001b[0m         _nest_lvl,\n\u001b[1;32m   (...)\u001b[0m\n\u001b[0;32m    228\u001b[0m         max_seq_items\u001b[38;5;241m=\u001b[39mmax_seq_items,\n\u001b[0;32m    229\u001b[0m     )\n",
            "File \u001b[1;32mc:\\Users\\Lucas\\AppData\\Local\\Programs\\Python\\Python312\\Lib\\site-packages\\pandas\\io\\formats\\printing.py:155\u001b[0m, in \u001b[0;36m_pprint_dict\u001b[1;34m(seq, _nest_lvl, max_seq_items, **kwds)\u001b[0m\n\u001b[0;32m    149\u001b[0m     nitems \u001b[38;5;241m=\u001b[39m max_seq_items \u001b[38;5;129;01mor\u001b[39;00m get_option(\u001b[38;5;124m\"\u001b[39m\u001b[38;5;124mmax_seq_items\u001b[39m\u001b[38;5;124m\"\u001b[39m) \u001b[38;5;129;01mor\u001b[39;00m \u001b[38;5;28mlen\u001b[39m(seq)\n\u001b[0;32m    151\u001b[0m \u001b[38;5;28;01mfor\u001b[39;00m k, v \u001b[38;5;129;01min\u001b[39;00m \u001b[38;5;28mlist\u001b[39m(seq\u001b[38;5;241m.\u001b[39mitems())[:nitems]:\n\u001b[0;32m    152\u001b[0m     pairs\u001b[38;5;241m.\u001b[39mappend(\n\u001b[0;32m    153\u001b[0m         pfmt\u001b[38;5;241m.\u001b[39mformat(\n\u001b[0;32m    154\u001b[0m             key\u001b[38;5;241m=\u001b[39mpprint_thing(k, _nest_lvl \u001b[38;5;241m+\u001b[39m \u001b[38;5;241m1\u001b[39m, max_seq_items\u001b[38;5;241m=\u001b[39mmax_seq_items, \u001b[38;5;241m*\u001b[39m\u001b[38;5;241m*\u001b[39mkwds),\n\u001b[1;32m--> 155\u001b[0m             val\u001b[38;5;241m=\u001b[39m\u001b[43mpprint_thing\u001b[49m\u001b[43m(\u001b[49m\u001b[43mv\u001b[49m\u001b[43m,\u001b[49m\u001b[43m \u001b[49m\u001b[43m_nest_lvl\u001b[49m\u001b[43m \u001b[49m\u001b[38;5;241;43m+\u001b[39;49m\u001b[43m \u001b[49m\u001b[38;5;241;43m1\u001b[39;49m\u001b[43m,\u001b[49m\u001b[43m \u001b[49m\u001b[43mmax_seq_items\u001b[49m\u001b[38;5;241;43m=\u001b[39;49m\u001b[43mmax_seq_items\u001b[49m\u001b[43m,\u001b[49m\u001b[43m \u001b[49m\u001b[38;5;241;43m*\u001b[39;49m\u001b[38;5;241;43m*\u001b[39;49m\u001b[43mkwds\u001b[49m\u001b[43m)\u001b[49m,\n\u001b[0;32m    156\u001b[0m         )\n\u001b[0;32m    157\u001b[0m     )\n\u001b[0;32m    159\u001b[0m \u001b[38;5;28;01mif\u001b[39;00m nitems \u001b[38;5;241m<\u001b[39m \u001b[38;5;28mlen\u001b[39m(seq):\n\u001b[0;32m    160\u001b[0m     \u001b[38;5;28;01mreturn\u001b[39;00m fmt\u001b[38;5;241m.\u001b[39mformat(things\u001b[38;5;241m=\u001b[39m\u001b[38;5;124m\"\u001b[39m\u001b[38;5;124m, \u001b[39m\u001b[38;5;124m\"\u001b[39m\u001b[38;5;241m.\u001b[39mjoin(pairs) \u001b[38;5;241m+\u001b[39m \u001b[38;5;124m\"\u001b[39m\u001b[38;5;124m, ...\u001b[39m\u001b[38;5;124m\"\u001b[39m)\n",
            "File \u001b[1;32mc:\\Users\\Lucas\\AppData\\Local\\Programs\\Python\\Python312\\Lib\\site-packages\\pandas\\io\\formats\\printing.py:223\u001b[0m, in \u001b[0;36mpprint_thing\u001b[1;34m(thing, _nest_lvl, escape_chars, default_escapes, quote_strings, max_seq_items)\u001b[0m\n\u001b[0;32m    219\u001b[0m     result \u001b[38;5;241m=\u001b[39m _pprint_dict(\n\u001b[0;32m    220\u001b[0m         thing, _nest_lvl, quote_strings\u001b[38;5;241m=\u001b[39m\u001b[38;5;28;01mTrue\u001b[39;00m, max_seq_items\u001b[38;5;241m=\u001b[39mmax_seq_items\n\u001b[0;32m    221\u001b[0m     )\n\u001b[0;32m    222\u001b[0m \u001b[38;5;28;01melif\u001b[39;00m is_sequence(thing) \u001b[38;5;129;01mand\u001b[39;00m _nest_lvl \u001b[38;5;241m<\u001b[39m get_option(\u001b[38;5;124m\"\u001b[39m\u001b[38;5;124mdisplay.pprint_nest_depth\u001b[39m\u001b[38;5;124m\"\u001b[39m):\n\u001b[1;32m--> 223\u001b[0m     result \u001b[38;5;241m=\u001b[39m \u001b[43m_pprint_seq\u001b[49m\u001b[43m(\u001b[49m\n\u001b[0;32m    224\u001b[0m \u001b[43m        \u001b[49m\u001b[43mthing\u001b[49m\u001b[43m,\u001b[49m\n\u001b[0;32m    225\u001b[0m \u001b[43m        \u001b[49m\u001b[43m_nest_lvl\u001b[49m\u001b[43m,\u001b[49m\n\u001b[0;32m    226\u001b[0m \u001b[43m        \u001b[49m\u001b[43mescape_chars\u001b[49m\u001b[38;5;241;43m=\u001b[39;49m\u001b[43mescape_chars\u001b[49m\u001b[43m,\u001b[49m\n\u001b[0;32m    227\u001b[0m \u001b[43m        \u001b[49m\u001b[43mquote_strings\u001b[49m\u001b[38;5;241;43m=\u001b[39;49m\u001b[43mquote_strings\u001b[49m\u001b[43m,\u001b[49m\n\u001b[0;32m    228\u001b[0m \u001b[43m        \u001b[49m\u001b[43mmax_seq_items\u001b[49m\u001b[38;5;241;43m=\u001b[39;49m\u001b[43mmax_seq_items\u001b[49m\u001b[43m,\u001b[49m\n\u001b[0;32m    229\u001b[0m \u001b[43m    \u001b[49m\u001b[43m)\u001b[49m\n\u001b[0;32m    230\u001b[0m \u001b[38;5;28;01melif\u001b[39;00m \u001b[38;5;28misinstance\u001b[39m(thing, \u001b[38;5;28mstr\u001b[39m) \u001b[38;5;129;01mand\u001b[39;00m quote_strings:\n\u001b[0;32m    231\u001b[0m     result \u001b[38;5;241m=\u001b[39m \u001b[38;5;124mf\u001b[39m\u001b[38;5;124m\"\u001b[39m\u001b[38;5;124m'\u001b[39m\u001b[38;5;132;01m{\u001b[39;00mas_escaped_string(thing)\u001b[38;5;132;01m}\u001b[39;00m\u001b[38;5;124m'\u001b[39m\u001b[38;5;124m\"\u001b[39m\n",
            "File \u001b[1;32mc:\\Users\\Lucas\\AppData\\Local\\Programs\\Python\\Python312\\Lib\\site-packages\\pandas\\io\\formats\\printing.py:121\u001b[0m, in \u001b[0;36m_pprint_seq\u001b[1;34m(seq, _nest_lvl, max_seq_items, **kwds)\u001b[0m\n\u001b[0;32m    118\u001b[0m s \u001b[38;5;241m=\u001b[39m \u001b[38;5;28miter\u001b[39m(seq)\n\u001b[0;32m    119\u001b[0m \u001b[38;5;66;03m# handle sets, no slicing\u001b[39;00m\n\u001b[0;32m    120\u001b[0m r \u001b[38;5;241m=\u001b[39m [\n\u001b[1;32m--> 121\u001b[0m     pprint_thing(\u001b[38;5;28;43mnext\u001b[39;49m\u001b[43m(\u001b[49m\u001b[43ms\u001b[49m\u001b[43m)\u001b[49m, _nest_lvl \u001b[38;5;241m+\u001b[39m \u001b[38;5;241m1\u001b[39m, max_seq_items\u001b[38;5;241m=\u001b[39mmax_seq_items, \u001b[38;5;241m*\u001b[39m\u001b[38;5;241m*\u001b[39mkwds)\n\u001b[0;32m    122\u001b[0m     \u001b[38;5;28;01mfor\u001b[39;00m i \u001b[38;5;129;01min\u001b[39;00m \u001b[38;5;28mrange\u001b[39m(\u001b[38;5;28mmin\u001b[39m(nitems, \u001b[38;5;28mlen\u001b[39m(seq)))\n\u001b[0;32m    123\u001b[0m ]\n\u001b[0;32m    124\u001b[0m body \u001b[38;5;241m=\u001b[39m \u001b[38;5;124m\"\u001b[39m\u001b[38;5;124m, \u001b[39m\u001b[38;5;124m\"\u001b[39m\u001b[38;5;241m.\u001b[39mjoin(r)\n\u001b[0;32m    126\u001b[0m \u001b[38;5;28;01mif\u001b[39;00m nitems \u001b[38;5;241m<\u001b[39m \u001b[38;5;28mlen\u001b[39m(seq):\n",
            "\u001b[1;31mStopIteration\u001b[0m: "
          ]
        },
        {
          "data": {
            "application/vnd.microsoft.datawrangler.viewer.v0+json": {
              "columns": [
                {
                  "name": "index",
                  "rawType": "object",
                  "type": "string"
                },
                {
                  "name": "TrainMSE - TestMSE",
                  "rawType": "object",
                  "type": "unknown"
                },
                {
                  "name": "Evaluation Value (r_train² - r_test²)",
                  "rawType": "object",
                  "type": "unknown"
                },
                {
                  "name": "Overfitting Risk",
                  "rawType": "object",
                  "type": "string"
                },
                {
                  "name": "Train R2",
                  "rawType": "object",
                  "type": "unknown"
                },
                {
                  "name": "Test R2",
                  "rawType": "object",
                  "type": "unknown"
                },
                {
                  "name": "Train MSE",
                  "rawType": "object",
                  "type": "unknown"
                },
                {
                  "name": "Test MSE",
                  "rawType": "object",
                  "type": "unknown"
                },
                {
                  "name": "Processor Results",
                  "rawType": "object",
                  "type": "unknown"
                },
                {
                  "name": "splitted_data",
                  "rawType": "object",
                  "type": "unknown"
                }
              ],
              "conversionMethod": "pd.DataFrame",
              "ref": "f86c98ed-9259-4e39-a49f-bd5f7490f996",
              "rows": [
                [
                  "sul",
                  "-0.45387846369860263",
                  "1.0162543963233122",
                  "High",
                  "0.5485383134849495",
                  "-0.46771608283836263",
                  "2.3401484665562546",
                  "2.7940269302548573",
                  "<statsmodels.regression.linear_model.RegressionResultsWrapper object at 0x0000025183D2CC80>",
                  "{'train_data':          date variavel    valores  total_atd  periodo  Pandemia_Step  \\\n0  2016-01-01      sul  25.574800        NaN        1              0   \n1  2016-02-01      sul  25.697755        NaN        2              0   \n2  2016-03-01      sul  23.404699        NaN        3              0   \n3  2016-04-01      sul  24.766065        NaN        4              0   \n4  2016-05-01      sul  23.140922        NaN        5              0   \n..        ...      ...        ...        ...      ...            ...   \n81 2022-10-01      sul  27.851370        NaN       82              0   \n82 2022-11-01      sul  26.557715        NaN       83              0   \n83 2022-12-01      sul  25.981657        NaN       84              0   \n84 2023-01-01      sul  29.639279        NaN       85              0   \n85 2023-02-01      sul  30.753633        NaN       86              0   \n\n    Pandemia_Trend  PosPandemia_Step  PosPandemia_Trend          cos1  \\\n0                0                 0                  0  1.000000e+00   \n1                0                 0                  0 -1.000000e+00   \n2                0                 0                  0  5.000000e-01   \n3                0                 0                  0 -5.000000e-01   \n4                0                 0                  0 -4.898587e-16   \n..             ...               ...                ...           ...   \n81               0                 1                  7 -8.660254e-01   \n82               0                 1                  8  1.000000e+00   \n83               0                 1                  9 -1.000000e+00   \n84               0                 1                 10  5.000000e-01   \n85               0                 1                 11  6.856784e-15   \n\n            sin1  IR  offset  \n0   6.123234e-17 NaN     NaN  \n1  -1.836970e-16 NaN     NaN  \n2   8.660254e-01 NaN     NaN  \n3  -8.660254e-01 NaN     NaN  \n4   1.000000e+00 NaN     NaN  \n..           ...  ..     ...  \n81 -5.000000e-01 NaN     NaN  \n82  3.674869e-14 NaN     NaN  \n83  9.314124e-15 NaN     NaN  \n84 -8.660254e-01 NaN     NaN  \n85 -1.000000e+00 NaN     NaN  \n\n[86 rows x 13 columns], 'test_data':           date variavel    valores  total_atd  periodo  Pandemia_Step  \\\n86  2023-03-01      sul  29.578098        NaN       87              0   \n87  2023-04-01      sul  27.493012        NaN       88              0   \n88  2023-05-01      sul  27.334337        NaN       89              0   \n89  2023-06-01      sul  28.893621        NaN       90              0   \n90  2023-07-01      sul  30.439762        NaN       91              0   \n91  2023-08-01      sul  31.247231        NaN       92              0   \n92  2023-09-01      sul  32.381515        NaN       93              0   \n93  2023-10-01      sul  31.239690        NaN       94              0   \n94  2023-11-01      sul  31.030325        NaN       95              0   \n95  2023-12-01      sul  31.034558        NaN       96              0   \n96  2024-01-01      sul  31.552900        NaN       97              0   \n97  2024-02-01      sul  30.868593        NaN       98              0   \n98  2024-03-01      sul  28.133691        NaN       99              0   \n99  2024-04-01      sul  27.661326        NaN      100              0   \n100 2024-05-01      sul  28.338501        NaN      101              0   \n101 2024-06-01      sul  30.395499        NaN      102              0   \n102 2024-07-01      sul  30.237442        NaN      103              0   \n103 2024-08-01      sul  30.608119        NaN      104              0   \n104 2024-09-01      sul  30.248920        NaN      105              0   \n105 2024-10-01      sul  29.804642        NaN      106              0   \n106 2024-11-01      sul  30.330109        NaN      107              0   \n107 2024-12-01      sul  30.584808        NaN      108              0   \n\n     Pandemia_Trend  PosPandemia_Step  PosPandemia_Trend          cos1  \\\n86                0                 1                 12  1.000000e+00   \n87                0                 1                 13 -1.000000e+00   \n88                0                 1                 14  5.000000e-01   \n89                0                 1                 15 -5.000000e-01   \n90                0                 1                 16  8.660254e-01   \n91                0                 1                 17 -8.660254e-01   \n92                0                 1                 18  5.000000e-01   \n93                0                 1                 19 -5.000000e-01   \n94                0                 1                 20  8.660254e-01   \n95                0                 1                 21 -8.660254e-01   \n96                0                 1                 22  1.000000e+00   \n97                0                 1                 23 -5.000000e-01   \n98                0                 1                 24  8.660254e-01   \n99                0                 1                 25 -5.000000e-01   \n100               0                 1                 26  8.660254e-01   \n101               0                 1                 27  8.816219e-15   \n102               0                 1                 28  8.660254e-01   \n103               0                 1                 29  3.037743e-14   \n104               0                 1                 30  5.000000e-01   \n105               0                 1                 31 -8.660254e-01   \n106               0                 1                 32  8.660254e-01   \n107               0                 1                 33 -5.000000e-01   \n\n             sin1  IR  offset  \n86   2.302769e-14 NaN     NaN  \n87  -3.380830e-14 NaN     NaN  \n88   8.660254e-01 NaN     NaN  \n89   8.660254e-01 NaN     NaN  \n90   5.000000e-01 NaN     NaN  \n91  -5.000000e-01 NaN     NaN  \n92   8.660254e-01 NaN     NaN  \n93  -8.660254e-01 NaN     NaN  \n94  -5.000000e-01 NaN     NaN  \n95   5.000000e-01 NaN     NaN  \n96   1.714691e-14 NaN     NaN  \n97   8.660254e-01 NaN     NaN  \n98  -5.000000e-01 NaN     NaN  \n99  -8.660254e-01 NaN     NaN  \n100  5.000000e-01 NaN     NaN  \n101 -1.000000e+00 NaN     NaN  \n102  5.000000e-01 NaN     NaN  \n103 -1.000000e+00 NaN     NaN  \n104 -8.660254e-01 NaN     NaN  \n105 -5.000000e-01 NaN     NaN  \n106  5.000000e-01 NaN     NaN  \n107  8.660254e-01 NaN     NaN  }"
                ],
                [
                  "sudeste",
                  "-0.04478435358474009",
                  "0.7767428675169357",
                  "High",
                  "0.9416073025087844",
                  "0.16486443499184877",
                  "2.173455751446524",
                  "2.218240105031264",
                  "<statsmodels.regression.linear_model.RegressionResultsWrapper object at 0x0000025183D53320>",
                  "{'train_data':          date variavel    valores  total_atd  periodo  Pandemia_Step  \\\n0  2016-01-01  sudeste  16.214764        NaN        1              0   \n1  2016-02-01  sudeste  11.500813        NaN        2              0   \n2  2016-03-01  sudeste  10.747750        NaN        3              0   \n3  2016-04-01  sudeste  10.967214        NaN        4              0   \n4  2016-05-01  sudeste  11.301034        NaN        5              0   \n..        ...      ...        ...        ...      ...            ...   \n81 2022-10-01  sudeste  29.172745        NaN       82              0   \n82 2022-11-01  sudeste  28.436757        NaN       83              0   \n83 2022-12-01  sudeste  28.677529        NaN       84              0   \n84 2023-01-01  sudeste  29.808277        NaN       85              0   \n85 2023-02-01  sudeste  30.714039        NaN       86              0   \n\n    Pandemia_Trend  PosPandemia_Step  PosPandemia_Trend          cos1  \\\n0                0                 0                  0  5.000000e-01   \n1                0                 0                  0 -8.660254e-01   \n2                0                 0                  0  1.000000e+00   \n3                0                 0                  0  3.673940e-16   \n4                0                 0                  0  5.000000e-01   \n..             ...               ...                ...           ...   \n81               0                 1                  7 -1.000000e+00   \n82               0                 1                  8  8.660254e-01   \n83               0                 1                  9 -5.000000e-01   \n84               0                 1                 10  3.923822e-15   \n85               0                 1                 11 -5.000000e-01   \n\n            sin1  IR  offset  \n0  -8.660254e-01 NaN     NaN  \n1  -5.000000e-01 NaN     NaN  \n2   3.061617e-16 NaN     NaN  \n3  -1.000000e+00 NaN     NaN  \n4  -8.660254e-01 NaN     NaN  \n..           ...  ..     ...  \n81 -2.596808e-14 NaN     NaN  \n82 -5.000000e-01 NaN     NaN  \n83  8.660254e-01 NaN     NaN  \n84  1.000000e+00 NaN     NaN  \n85  8.660254e-01 NaN     NaN  \n\n[86 rows x 13 columns], 'test_data':           date variavel    valores  total_atd  periodo  Pandemia_Step  \\\n86  2023-03-01  sudeste  29.410203        NaN       87              0   \n87  2023-04-01  sudeste  29.089856        NaN       88              0   \n88  2023-05-01  sudeste  29.721213        NaN       89              0   \n89  2023-06-01  sudeste  30.519215        NaN       90              0   \n90  2023-07-01  sudeste  31.195245        NaN       91              0   \n91  2023-08-01  sudeste  32.408511        NaN       92              0   \n92  2023-09-01  sudeste  33.153697        NaN       93              0   \n93  2023-10-01  sudeste  32.608725        NaN       94              0   \n94  2023-11-01  sudeste  32.365649        NaN       95              0   \n95  2023-12-01  sudeste  32.432381        NaN       96              0   \n96  2024-01-01  sudeste  32.223857        NaN       97              0   \n97  2024-02-01  sudeste  30.759512        NaN       98              0   \n98  2024-03-01  sudeste  28.157161        NaN       99              0   \n99  2024-04-01  sudeste  29.068987        NaN      100              0   \n100 2024-05-01  sudeste  30.562413        NaN      101              0   \n101 2024-06-01  sudeste  31.575337        NaN      102              0   \n102 2024-07-01  sudeste  32.591233        NaN      103              0   \n103 2024-08-01  sudeste  33.706671        NaN      104              0   \n104 2024-09-01  sudeste  33.542263        NaN      105              0   \n105 2024-10-01  sudeste  33.409326        NaN      106              0   \n106 2024-11-01  sudeste  33.451133        NaN      107              0   \n107 2024-12-01  sudeste  32.501694        NaN      108              0   \n\n     Pandemia_Trend  PosPandemia_Step  PosPandemia_Trend          cos1  \\\n86                0                 1                 12 -1.763739e-14   \n87                0                 1                 13  2.841800e-14   \n88                0                 1                 14 -3.919860e-14   \n89                0                 1                 15 -8.660254e-01   \n90                0                 1                 16  5.000000e-01   \n91                0                 1                 17 -8.660254e-01   \n92                0                 1                 18  8.660254e-01   \n93                0                 1                 19  3.625821e-14   \n94                0                 1                 20  8.660254e-01   \n95                0                 1                 21 -1.000000e+00   \n96                0                 1                 22  8.660254e-01   \n97                0                 1                 23 -1.000000e+00   \n98                0                 1                 24 -3.331782e-14   \n99                0                 1                 25 -8.660254e-01   \n100               0                 1                 26  5.000000e-01   \n101               0                 1                 27 -1.000000e+00   \n102               0                 1                 28 -1.959682e-14   \n103               0                 1                 29 -5.000000e-01   \n104               0                 1                 30  8.660254e-01   \n105               0                 1                 31 -5.000000e-01   \n106               0                 1                 32  5.000000e-01   \n107               0                 1                 33 -8.660254e-01   \n\n             sin1  IR  offset  \n86   1.000000e+00 NaN     NaN  \n87  -1.000000e+00 NaN     NaN  \n88   1.000000e+00 NaN     NaN  \n89   5.000000e-01 NaN     NaN  \n90  -8.660254e-01 NaN     NaN  \n91   5.000000e-01 NaN     NaN  \n92   5.000000e-01 NaN     NaN  \n93  -1.000000e+00 NaN     NaN  \n94   5.000000e-01 NaN     NaN  \n95  -6.366306e-15 NaN     NaN  \n96  -5.000000e-01 NaN     NaN  \n97  -2.792752e-14 NaN     NaN  \n98   1.000000e+00 NaN     NaN  \n99   5.000000e-01 NaN     NaN  \n100  8.660254e-01 NaN     NaN  \n101 -1.420652e-14 NaN     NaN  \n102  1.000000e+00 NaN     NaN  \n103  8.660254e-01 NaN     NaN  \n104 -5.000000e-01 NaN     NaN  \n105  8.660254e-01 NaN     NaN  \n106 -8.660254e-01 NaN     NaN  \n107  5.000000e-01 NaN     NaN  }"
                ],
                [
                  "norte",
                  "0.6947531358882965",
                  "-0.0011004933987459609",
                  "Low",
                  "0.9006188460885732",
                  "0.9017193394873192",
                  "1.306005838349695",
                  "0.6112527024613986",
                  "<statsmodels.regression.linear_model.RegressionResultsWrapper object at 0x0000025183D3D550>",
                  "{'train_data':          date variavel    valores  total_atd  periodo  Pandemia_Step  \\\n0  2016-01-01    norte   5.946742        NaN        1              0   \n1  2016-02-01    norte   6.282081        NaN        2              0   \n2  2016-03-01    norte   5.749589        NaN        3              0   \n3  2016-04-01    norte   5.270734        NaN        4              0   \n4  2016-05-01    norte   5.774105        NaN        5              0   \n..        ...      ...        ...        ...      ...            ...   \n81 2022-10-01    norte  17.577144        NaN       82              0   \n82 2022-11-01    norte  16.834426        NaN       83              0   \n83 2022-12-01    norte  16.264274        NaN       84              0   \n84 2023-01-01    norte  17.604213        NaN       85              0   \n85 2023-02-01    norte  17.965851        NaN       86              0   \n\n    Pandemia_Trend  PosPandemia_Step  PosPandemia_Trend          cos1  \\\n0                0                 0                  0  5.000000e-01   \n1                0                 0                  0 -8.660254e-01   \n2                0                 0                  0  5.000000e-01   \n3                0                 0                  0 -8.660254e-01   \n4                0                 0                  0  8.660254e-01   \n..             ...               ...                ...           ...   \n81               0                 1                  7 -5.000000e-01   \n82               0                 1                  8  5.000000e-01   \n83               0                 1                  9 -1.470443e-14   \n84               0                 1                 10  1.000000e+00   \n85               0                 1                 11 -8.660254e-01   \n\n            sin1  IR  offset  \n0   8.660254e-01 NaN     NaN  \n1   5.000000e-01 NaN     NaN  \n2  -8.660254e-01 NaN     NaN  \n3  -5.000000e-01 NaN     NaN  \n4  -5.000000e-01 NaN     NaN  \n..           ...  ..     ...  \n81 -8.660254e-01 NaN     NaN  \n82  8.660254e-01 NaN     NaN  \n83 -1.000000e+00 NaN     NaN  \n84  1.466481e-15 NaN     NaN  \n85  5.000000e-01 NaN     NaN  \n\n[86 rows x 13 columns], 'test_data':           date variavel    valores  total_atd  periodo  Pandemia_Step  \\\n86  2023-03-01    norte  17.065356        NaN       87              0   \n87  2023-04-01    norte  17.448335        NaN       88              0   \n88  2023-05-01    norte  18.665914        NaN       89              0   \n89  2023-06-01    norte  18.791744        NaN       90              0   \n90  2023-07-01    norte  19.406036        NaN       91              0   \n91  2023-08-01    norte  20.649308        NaN       92              0   \n92  2023-09-01    norte  21.725226        NaN       93              0   \n93  2023-10-01    norte  21.743175        NaN       94              0   \n94  2023-11-01    norte  21.096265        NaN       95              0   \n95  2023-12-01    norte  20.746736        NaN       96              0   \n96  2024-01-01    norte  21.558847        NaN       97              0   \n97  2024-02-01    norte  22.149565        NaN       98              0   \n98  2024-03-01    norte  21.590643        NaN       99              0   \n99  2024-04-01    norte  21.549632        NaN      100              0   \n100 2024-05-01    norte  23.133709        NaN      101              0   \n101 2024-06-01    norte  23.517919        NaN      102              0   \n102 2024-07-01    norte  23.993700        NaN      103              0   \n103 2024-08-01    norte  24.443297        NaN      104              0   \n104 2024-09-01    norte  25.497932        NaN      105              0   \n105 2024-10-01    norte  26.331216        NaN      106              0   \n106 2024-11-01    norte  24.643003        NaN      107              0   \n107 2024-12-01    norte  24.777752        NaN      108              0   \n\n     Pandemia_Trend  PosPandemia_Step  PosPandemia_Trend          cos1  \\\n86                0                 1                 12  8.660254e-01   \n87                0                 1                 13 -5.000000e-01   \n88                0                 1                 14  8.660254e-01   \n89                0                 1                 15 -8.660254e-01   \n90                0                 1                 16  1.000000e+00   \n91                0                 1                 17  1.469700e-14   \n92                0                 1                 18 -2.547761e-14   \n93                0                 1                 19 -8.660254e-01   \n94                0                 1                 20  5.000000e-01   \n95                0                 1                 21 -5.000000e-01   \n96                0                 1                 22  8.660254e-01   \n97                0                 1                 23 -5.000000e-01   \n98                0                 1                 24  5.000000e-01   \n99                0                 1                 25 -8.660254e-01   \n100               0                 1                 26  1.964387e-15   \n101               0                 1                 27 -8.660254e-01   \n102               0                 1                 28  1.000000e+00   \n103               0                 1                 29 -8.660254e-01   \n104               0                 1                 30  1.000000e+00   \n105               0                 1                 31 -8.660254e-01   \n106               0                 1                 32  8.660254e-01   \n107               0                 1                 33 -5.000000e-01   \n\n             sin1  IR  offset  \n86  -5.000000e-01 NaN     NaN  \n87  -8.660254e-01 NaN     NaN  \n88   5.000000e-01 NaN     NaN  \n89  -5.000000e-01 NaN     NaN  \n90   9.306697e-15 NaN     NaN  \n91  -1.000000e+00 NaN     NaN  \n92   1.000000e+00 NaN     NaN  \n93   5.000000e-01 NaN     NaN  \n94   8.660254e-01 NaN     NaN  \n95  -8.660254e-01 NaN     NaN  \n96   5.000000e-01 NaN     NaN  \n97  -8.660254e-01 NaN     NaN  \n98  -8.660254e-01 NaN     NaN  \n99  -5.000000e-01 NaN     NaN  \n100  1.000000e+00 NaN     NaN  \n101 -5.000000e-01 NaN     NaN  \n102  2.498713e-14 NaN     NaN  \n103 -5.000000e-01 NaN     NaN  \n104 -1.029508e-14 NaN     NaN  \n105  5.000000e-01 NaN     NaN  \n106 -5.000000e-01 NaN     NaN  \n107 -8.660254e-01 NaN     NaN  }"
                ],
                [
                  "nordeste",
                  "-0.9234647887116412",
                  "0.26879510733841006",
                  "High",
                  "0.9694674052191063",
                  "0.7006722978806963",
                  "1.2879074698342523",
                  "2.2113722585458935",
                  "<statsmodels.regression.linear_model.RegressionResultsWrapper object at 0x0000025183D3EE10>",
                  "{'train_data':          date  variavel    valores  total_atd  periodo  Pandemia_Step  \\\n0  2016-01-01  nordeste   5.766457        NaN        1              0   \n1  2016-02-01  nordeste   5.516293        NaN        2              0   \n2  2016-03-01  nordeste   5.290365        NaN        3              0   \n3  2016-04-01  nordeste   5.603113        NaN        4              0   \n4  2016-05-01  nordeste   5.913417        NaN        5              0   \n..        ...       ...        ...        ...      ...            ...   \n81 2022-10-01  nordeste  25.664540        NaN       82              0   \n82 2022-11-01  nordeste  24.518217        NaN       83              0   \n83 2022-12-01  nordeste  25.336096        NaN       84              0   \n84 2023-01-01  nordeste  28.411116        NaN       85              0   \n85 2023-02-01  nordeste  28.593863        NaN       86              0   \n\n    Pandemia_Trend  PosPandemia_Step  PosPandemia_Trend      cos1  \\\n0                0                 0                  0  0.866025   \n1                0                 0                  0 -0.500000   \n2                0                 0                  0  0.866025   \n3                0                 0                  0 -0.500000   \n4                0                 0                  0  1.000000   \n..             ...               ...                ...       ...   \n81               0                 1                  7 -0.866025   \n82               0                 1                  8  0.866025   \n83               0                 1                  9 -0.866025   \n84               0                 1                 10  0.866025   \n85               0                 1                 11 -1.000000   \n\n            sin1  IR  offset  \n0   5.000000e-01 NaN     NaN  \n1  -8.660254e-01 NaN     NaN  \n2   5.000000e-01 NaN     NaN  \n3   8.660254e-01 NaN     NaN  \n4   5.510911e-16 NaN     NaN  \n..           ...  ..     ...  \n81  5.000000e-01 NaN     NaN  \n82  5.000000e-01 NaN     NaN  \n83  5.000000e-01 NaN     NaN  \n84 -5.000000e-01 NaN     NaN  \n85 -1.224709e-14 NaN     NaN  \n\n[86 rows x 13 columns], 'test_data':           date  variavel    valores  total_atd  periodo  Pandemia_Step  \\\n86  2023-03-01  nordeste  25.774946        NaN       87              0   \n87  2023-04-01  nordeste  24.662808        NaN       88              0   \n88  2023-05-01  nordeste  28.667254        NaN       89              0   \n89  2023-06-01  nordeste  28.082854        NaN       90              0   \n90  2023-07-01  nordeste  28.567880        NaN       91              0   \n91  2023-08-01  nordeste  28.214962        NaN       92              0   \n92  2023-09-01  nordeste  31.040655        NaN       93              0   \n93  2023-10-01  nordeste  30.604767        NaN       94              0   \n94  2023-11-01  nordeste  30.349670        NaN       95              0   \n95  2023-12-01  nordeste  30.349133        NaN       96              0   \n96  2024-01-01  nordeste  34.308082        NaN       97              0   \n97  2024-02-01  nordeste  32.662181        NaN       98              0   \n98  2024-03-01  nordeste  29.405337        NaN       99              0   \n99  2024-04-01  nordeste  28.881718        NaN      100              0   \n100 2024-05-01  nordeste  32.562951        NaN      101              0   \n101 2024-06-01  nordeste  33.636567        NaN      102              0   \n102 2024-07-01  nordeste  34.074132        NaN      103              0   \n103 2024-08-01  nordeste  32.924560        NaN      104              0   \n104 2024-09-01  nordeste  33.479981        NaN      105              0   \n105 2024-10-01  nordeste  33.603056        NaN      106              0   \n106 2024-11-01  nordeste  33.464838        NaN      107              0   \n107 2024-12-01  nordeste  33.171714        NaN      108              0   \n\n     Pandemia_Trend  PosPandemia_Step  PosPandemia_Trend          cos1  \\\n86                0                 1                 12  8.660254e-01   \n87                0                 1                 13 -8.660254e-01   \n88                0                 1                 14  5.000000e-01   \n89                0                 1                 15 -5.000000e-01   \n90                0                 1                 16 -3.916394e-15   \n91                0                 1                 17 -5.000000e-01   \n92                0                 1                 18  5.000000e-01   \n93                0                 1                 19 -5.000000e-01   \n94                0                 1                 20  9.804602e-15   \n95                0                 1                 21 -5.000000e-01   \n96                0                 1                 22  5.000000e-01   \n97                0                 1                 23  2.253721e-14   \n98                0                 1                 24  8.660254e-01   \n99                0                 1                 25 -1.000000e+00   \n100               0                 1                 26  1.000000e+00   \n101               0                 1                 27 -8.660254e-01   \n102               0                 1                 28  5.000000e-01   \n103               0                 1                 29 -8.660254e-01   \n104               0                 1                 30  8.660254e-01   \n105               0                 1                 31 -5.000000e-01   \n106               0                 1                 32  5.000000e-01   \n107               0                 1                 33  1.665643e-14   \n\n             sin1  IR  offset  \n86   5.000000e-01 NaN     NaN  \n87   5.000000e-01 NaN     NaN  \n88  -8.660254e-01 NaN     NaN  \n89  -8.660254e-01 NaN     NaN  \n90   1.000000e+00 NaN     NaN  \n91   8.660254e-01 NaN     NaN  \n92  -8.660254e-01 NaN     NaN  \n93   8.660254e-01 NaN     NaN  \n94   1.000000e+00 NaN     NaN  \n95   8.660254e-01 NaN     NaN  \n96  -8.660254e-01 NaN     NaN  \n97  -1.000000e+00 NaN     NaN  \n98   5.000000e-01 NaN     NaN  \n99   7.354690e-15 NaN     NaN  \n100  3.425916e-15 NaN     NaN  \n101  5.000000e-01 NaN     NaN  \n102 -8.660254e-01 NaN     NaN  \n103  5.000000e-01 NaN     NaN  \n104  5.000000e-01 NaN     NaN  \n105 -8.660254e-01 NaN     NaN  \n106  8.660254e-01 NaN     NaN  \n107 -1.000000e+00 NaN     NaN  }"
                ],
                [
                  "centro_oeste",
                  "0.11155621669489646",
                  "0.8585551575514097",
                  "High",
                  "0.8836119113240491",
                  "0.025056753772639495",
                  "3.889886200183237",
                  "3.7783299834883404",
                  "<statsmodels.regression.linear_model.RegressionResultsWrapper object at 0x0000025183D556D0>",
                  "{'train_data':          date      variavel    valores  total_atd  periodo  Pandemia_Step  \\\n0  2016-01-01  centro_oeste  10.941401        NaN        1              0   \n1  2016-02-01  centro_oeste  11.153290        NaN        2              0   \n2  2016-03-01  centro_oeste  10.147589        NaN        3              0   \n3  2016-04-01  centro_oeste  10.443090        NaN        4              0   \n4  2016-05-01  centro_oeste  11.550837        NaN        5              0   \n..        ...           ...        ...        ...      ...            ...   \n81 2022-10-01  centro_oeste  28.648598        NaN       82              0   \n82 2022-11-01  centro_oeste  27.254421        NaN       83              0   \n83 2022-12-01  centro_oeste  24.658047        NaN       84              0   \n84 2023-01-01  centro_oeste  29.376708        NaN       85              0   \n85 2023-02-01  centro_oeste  29.353353        NaN       86              0   \n\n    Pandemia_Trend  PosPandemia_Step  PosPandemia_Trend          cos1  \\\n0                0                 0                  0  8.660254e-01   \n1                0                 0                  0  1.224647e-16   \n2                0                 0                  0  8.660254e-01   \n3                0                 0                  0 -8.660254e-01   \n4                0                 0                  0  5.000000e-01   \n..             ...               ...                ...           ...   \n81               0                 1                  7  2.057778e-14   \n82               0                 1                  8  5.000000e-01   \n83               0                 1                  9 -5.000000e-01   \n84               0                 1                 10  5.000000e-01   \n85               0                 1                 11 -5.000000e-01   \n\n        sin1  IR  offset  \n0  -0.500000 NaN     NaN  \n1  -1.000000 NaN     NaN  \n2  -0.500000 NaN     NaN  \n3   0.500000 NaN     NaN  \n4   0.866025 NaN     NaN  \n..       ...  ..     ...  \n81 -1.000000 NaN     NaN  \n82 -0.866025 NaN     NaN  \n83 -0.866025 NaN     NaN  \n84  0.866025 NaN     NaN  \n85 -0.866025 NaN     NaN  \n\n[86 rows x 13 columns], 'test_data':           date      variavel    valores  total_atd  periodo  Pandemia_Step  \\\n86  2023-03-01  centro_oeste  27.475231        NaN       87              0   \n87  2023-04-01  centro_oeste  25.904325        NaN       88              0   \n88  2023-05-01  centro_oeste  27.497242        NaN       89              0   \n89  2023-06-01  centro_oeste  29.259569        NaN       90              0   \n90  2023-07-01  centro_oeste  29.953017        NaN       91              0   \n91  2023-08-01  centro_oeste  31.239758        NaN       92              0   \n92  2023-09-01  centro_oeste  32.125805        NaN       93              0   \n93  2023-10-01  centro_oeste  30.656478        NaN       94              0   \n94  2023-11-01  centro_oeste  30.302098        NaN       95              0   \n95  2023-12-01  centro_oeste  29.423444        NaN       96              0   \n96  2024-01-01  centro_oeste  29.995833        NaN       97              0   \n97  2024-02-01  centro_oeste  26.689974        NaN       98              0   \n98  2024-03-01  centro_oeste  25.755696        NaN       99              0   \n99  2024-04-01  centro_oeste  25.508030        NaN      100              0   \n100 2024-05-01  centro_oeste  26.945641        NaN      101              0   \n101 2024-06-01  centro_oeste  29.694327        NaN      102              0   \n102 2024-07-01  centro_oeste  30.674832        NaN      103              0   \n103 2024-08-01  centro_oeste  30.998613        NaN      104              0   \n104 2024-09-01  centro_oeste  30.824555        NaN      105              0   \n105 2024-10-01  centro_oeste  31.499143        NaN      106              0   \n106 2024-11-01  centro_oeste  29.985980        NaN      107              0   \n107 2024-12-01  centro_oeste  29.583330        NaN      108              0   \n\n     Pandemia_Trend  PosPandemia_Step  PosPandemia_Trend          cos1  \\\n86                0                 1                 12  5.000000e-01   \n87                0                 1                 13 -5.000000e-01   \n88                0                 1                 14  8.660254e-01   \n89                0                 1                 15 -6.864212e-15   \n90                0                 1                 16  8.660254e-01   \n91                0                 1                 17 -1.000000e+00   \n92                0                 1                 18  1.000000e+00   \n93                0                 1                 19 -1.000000e+00   \n94                0                 1                 20  5.000000e-01   \n95                0                 1                 21  9.760036e-16   \n96                0                 1                 22  5.000000e-01   \n97                0                 1                 23 -8.660254e-01   \n98                0                 1                 24  5.000000e-01   \n99                0                 1                 25 -1.274499e-14   \n100               0                 1                 26  8.660254e-01   \n101               0                 1                 27 -5.000000e-01   \n102               0                 1                 28  8.660254e-01   \n103               0                 1                 29 -1.000000e+00   \n104               0                 1                 30  5.000000e-01   \n105               0                 1                 31 -4.904777e-15   \n106               0                 1                 32 -5.875829e-15   \n107               0                 1                 33 -8.660254e-01   \n\n             sin1  IR  offset  \n86  -8.660254e-01 NaN     NaN  \n87   8.660254e-01 NaN     NaN  \n88  -5.000000e-01 NaN     NaN  \n89  -1.000000e+00 NaN     NaN  \n90  -5.000000e-01 NaN     NaN  \n91  -2.008730e-14 NaN     NaN  \n92   3.086791e-14 NaN     NaN  \n93   1.519491e-14 NaN     NaN  \n94  -8.660254e-01 NaN     NaN  \n95  -1.000000e+00 NaN     NaN  \n96   8.660254e-01 NaN     NaN  \n97  -5.000000e-01 NaN     NaN  \n98   8.660254e-01 NaN     NaN  \n99  -1.000000e+00 NaN     NaN  \n100 -5.000000e-01 NaN     NaN  \n101 -8.660254e-01 NaN     NaN  \n102 -5.000000e-01 NaN     NaN  \n103 -3.576773e-14 NaN     NaN  \n104  8.660254e-01 NaN     NaN  \n105 -1.000000e+00 NaN     NaN  \n106  1.000000e+00 NaN     NaN  \n107 -5.000000e-01 NaN     NaN  }"
                ],
                [
                  "brasil",
                  "-0.3298005213892039",
                  "0.6196554810330732",
                  "High",
                  "0.9455644734474563",
                  "0.3259089924143831",
                  "1.5186726580948415",
                  "1.8484731794840454",
                  "<statsmodels.regression.linear_model.RegressionResultsWrapper object at 0x0000025187D94EF0>",
                  "{'train_data':          date variavel    valores  total_atd  periodo  Pandemia_Step  \\\n0  2016-01-01   brasil  13.491334        NaN        1              0   \n1  2016-02-01   brasil  12.124307        NaN        2              0   \n2  2016-03-01   brasil  11.411493        NaN        3              0   \n3  2016-04-01   brasil  11.492224        NaN        4              0   \n4  2016-05-01   brasil  11.701410        NaN        5              0   \n..        ...      ...        ...        ...      ...            ...   \n81 2022-10-01   brasil  27.830635        NaN       82              0   \n82 2022-11-01   brasil  26.783797        NaN       83              0   \n83 2022-12-01   brasil  26.747333        NaN       84              0   \n84 2023-01-01   brasil  29.233691        NaN       85              0   \n85 2023-02-01   brasil  29.949855        NaN       86              0   \n\n    Pandemia_Trend  PosPandemia_Step  PosPandemia_Trend          cos1  \\\n0                0                 0                  0  0.000000e+00   \n1                0                 0                  0 -5.000000e-01   \n2                0                 0                  0 -2.449294e-16   \n3                0                 0                  0 -1.000000e+00   \n4                0                 0                  0  8.660254e-01   \n..             ...               ...                ...           ...   \n81               0                 1                  7 -5.000000e-01   \n82               0                 1                  8 -3.135839e-14   \n83               0                 1                  9 -8.660254e-01   \n84               0                 1                 10  8.660254e-01   \n85               0                 1                 11 -8.660254e-01   \n\n            sin1  IR  offset  \n0   1.000000e+00 NaN     NaN  \n1   8.660254e-01 NaN     NaN  \n2   1.000000e+00 NaN     NaN  \n3  -4.286264e-16 NaN     NaN  \n4   5.000000e-01 NaN     NaN  \n..           ...  ..     ...  \n81  8.660254e-01 NaN     NaN  \n82  1.000000e+00 NaN     NaN  \n83 -5.000000e-01 NaN     NaN  \n84  5.000000e-01 NaN     NaN  \n85 -5.000000e-01 NaN     NaN  \n\n[86 rows x 13 columns], 'test_data':           date variavel    valores  total_atd  periodo  Pandemia_Step  \\\n86  2023-03-01   brasil  28.256342        NaN       87              0   \n87  2023-04-01   brasil  27.257850        NaN       88              0   \n88  2023-05-01   brasil  28.710851        NaN       89              0   \n89  2023-06-01   brasil  29.374168        NaN       90              0   \n90  2023-07-01   brasil  30.188318        NaN       91              0   \n91  2023-08-01   brasil  30.943711        NaN       92              0   \n92  2023-09-01   brasil  32.323304        NaN       93              0   \n93  2023-10-01   brasil  31.588741        NaN       94              0   \n94  2023-11-01   brasil  31.306379        NaN       95              0   \n95  2023-12-01   brasil  31.295097        NaN       96              0   \n96  2024-01-01   brasil  32.233346        NaN       97              0   \n97  2024-02-01   brasil  30.837761        NaN       98              0   \n98  2024-03-01   brasil  28.299901        NaN       99              0   \n99  2024-04-01   brasil  28.420215        NaN      100              0   \n100 2024-05-01   brasil  30.291790        NaN      101              0   \n101 2024-06-01   brasil  31.588797        NaN      102              0   \n102 2024-07-01   brasil  32.305181        NaN      103              0   \n103 2024-08-01   brasil  32.582705        NaN      104              0   \n104 2024-09-01   brasil  32.618227        NaN      105              0   \n105 2024-10-01   brasil  32.576534        NaN      106              0   \n106 2024-11-01   brasil  32.447035        NaN      107              0   \n107 2024-12-01   brasil  32.067290        NaN      108              0   \n\n     Pandemia_Trend  PosPandemia_Step  PosPandemia_Trend          cos1  \\\n86                0                 1                 12  5.000000e-01   \n87                0                 1                 13 -8.660254e-01   \n88                0                 1                 14  1.000000e+00   \n89                0                 1                 15 -1.000000e+00   \n90                0                 1                 16  5.000000e-01   \n91                0                 1                 17 -5.000000e-01   \n92                0                 1                 18  8.660254e-01   \n93                0                 1                 19 -8.660254e-01   \n94                0                 1                 20  1.000000e+00   \n95                0                 1                 21 -8.660254e-01   \n96                0                 1                 22 -1.175661e-14   \n97                0                 1                 23 -8.660254e-01   \n98                0                 1                 24  1.000000e+00   \n99                0                 1                 25 -5.000000e-01   \n100               0                 1                 26  5.000000e-01   \n101               0                 1                 27 -5.000000e-01   \n102               0                 1                 28  5.000000e-01   \n103               0                 1                 29 -5.000000e-01   \n104               0                 1                 30  1.568538e-14   \n105               0                 1                 31 -1.000000e+00   \n106               0                 1                 32  1.000000e+00   \n107               0                 1                 33 -1.000000e+00   \n\n             sin1  IR  offset  \n86   8.660254e-01 NaN     NaN  \n87  -5.000000e-01 NaN     NaN  \n88  -1.225451e-14 NaN     NaN  \n89   1.473909e-15 NaN     NaN  \n90   8.660254e-01 NaN     NaN  \n91  -8.660254e-01 NaN     NaN  \n92  -5.000000e-01 NaN     NaN  \n93  -5.000000e-01 NaN     NaN  \n94  -4.414299e-15 NaN     NaN  \n95  -5.000000e-01 NaN     NaN  \n96   1.000000e+00 NaN     NaN  \n97   5.000000e-01 NaN     NaN  \n98   3.870812e-14 NaN     NaN  \n99   8.660254e-01 NaN     NaN  \n100 -8.660254e-01 NaN     NaN  \n101  8.660254e-01 NaN     NaN  \n102  8.660254e-01 NaN     NaN  \n103 -8.660254e-01 NaN     NaN  \n104  1.000000e+00 NaN     NaN  \n105 -4.855259e-16 NaN     NaN  \n106  1.126613e-14 NaN     NaN  \n107 -2.204674e-14 NaN     NaN  }"
                ]
              ],
              "shape": {
                "columns": 9,
                "rows": 6
              }
            }
          },
          "execution_count": 29,
          "metadata": {},
          "output_type": "execute_result"
        }
      ],
      "source": [
        "\n",
        "processor_args = PROCESSOR_ARGS\n",
        "\n",
        "variable_processor = VariableProcessor(\n",
        "    df = RegressionDF,\n",
        "    processor_args = processor_args,\n",
        "    processor = RegressionProcessor,#ARIMAXRegressor, #\n",
        "    evaluate = True,\n",
        "    test_size=0.2,\n",
        "    random_state=42,\n",
        ")\n",
        "\n",
        "\n",
        "variable_processor.process_variables()\n",
        "results = variable_processor.results\n",
        "evaluation_results = variable_processor.evaluation_results\n",
        "evaluation_results\n"
      ]
    },
    {
      "cell_type": "code",
      "execution_count": 30,
      "metadata": {
        "colab": {
          "base_uri": "https://localhost:8080/"
        },
        "id": "cuTQyaaA07iE",
        "outputId": "b8c0a98b-5f74-4ba5-d7d4-3aaed7436c8d"
      },
      "outputs": [
        {
          "name": "stdout",
          "output_type": "stream",
          "text": [
            "Power: 0.30\n"
          ]
        }
      ],
      "source": [
        "from statsmodels.stats.power import TTestPower\n",
        "\n",
        "# Parameters\n",
        "effect_size = 0.2  # Standardized (e.g., Cohen's d)\n",
        "alpha = 0.05        # Significance level\n",
        "nobs = 107/2          # Sample size\n",
        "\n",
        "# Calculate power\n",
        "power = TTestPower().power(effect_size, nobs, alpha)\n",
        "print(f\"Power: {power:.2f}\")  # e.g., 0.67 → 67% chance to detect the effect"
      ]
    },
    {
      "cell_type": "code",
      "execution_count": 31,
      "metadata": {
        "id": "ss0tGfkkp3Xm"
      },
      "outputs": [],
      "source": [
        "def plot_residuals_vs_fitted(result, variable):\n",
        "   residuals = result.resid\n",
        "   fitted_values = result.fittedvalues\n",
        "   plt.figure(figsize=(8, 6))\n",
        "   plt.scatter(fitted_values, residuals)\n",
        "   plt.xlabel(\"Fitted Values\")\n",
        "   plt.ylabel(\"Residuals\")\n",
        "   plt.title(f\"Residuals vs. Fitted Values ({variable})\")\n",
        "   plt.axhline(y=0, color='r', linestyle='--')  # Add a horizontal line at y=0\n",
        "   plt.show()"
      ]
    },
    {
      "cell_type": "code",
      "execution_count": 32,
      "metadata": {
        "colab": {
          "base_uri": "https://localhost:8080/",
          "height": 1000
        },
        "id": "uriyET4YNIXf",
        "outputId": "aacfe970-9d07-417d-ecec-d89b68b4654d"
      },
      "outputs": [
        {
          "name": "stdout",
          "output_type": "stream",
          "text": [
            "Results for sul:\n",
            "                           GLSAR Regression Results                           \n",
            "==============================================================================\n",
            "Dep. Variable:                valores   R-squared:                       0.413\n",
            "Model:                          GLSAR   Adj. R-squared:                  0.372\n",
            "Method:                 Least Squares   F-statistic:                     15.18\n",
            "Date:                Sun, 27 Apr 2025   Prob (F-statistic):           2.41e-13\n",
            "Time:                        13:35:55   Log-Likelihood:                -181.33\n",
            "No. Observations:                 107   AIC:                             378.7\n",
            "Df Residuals:                      99   BIC:                             400.0\n",
            "Df Model:                           7                                         \n",
            "Covariance Type:                  HAC                                         \n",
            "=====================================================================================\n",
            "                        coef    std err          z      P>|z|      [0.025      0.975]\n",
            "-------------------------------------------------------------------------------------\n",
            "Intercept            23.7138      0.455     52.094      0.000      22.822      24.606\n",
            "periodo               0.0536      0.019      2.831      0.005       0.016       0.091\n",
            "Pandemia_Step         4.8953      1.237      3.958      0.000       2.471       7.320\n",
            "Pandemia_Trend       -0.3182      0.093     -3.423      0.001      -0.500      -0.136\n",
            "PosPandemia_Step     -2.1006      1.570     -1.338      0.181      -5.179       0.977\n",
            "PosPandemia_Trend     0.1287      0.053      2.439      0.015       0.025       0.232\n",
            "cos1                 -0.1535      0.124     -1.237      0.216      -0.397       0.090\n",
            "sin1                  0.0050      0.183      0.027      0.978      -0.354       0.364\n",
            "==============================================================================\n",
            "Omnibus:                       39.884   Durbin-Watson:                   1.844\n",
            "Prob(Omnibus):                  0.000   Jarque-Bera (JB):              160.540\n",
            "Skew:                          -1.164   Prob(JB):                     1.38e-35\n",
            "Kurtosis:                       8.531   Cond. No.                         427.\n",
            "==============================================================================\n",
            "\n",
            "Notes:\n",
            "[1] Standard Errors are heteroscedasticity and autocorrelation robust (HAC) using 4 lags and without small sample correction\n",
            "\n",
            "\n",
            "Results for sudeste:\n",
            "                           GLSAR Regression Results                           \n",
            "==============================================================================\n",
            "Dep. Variable:                valores   R-squared:                       0.900\n",
            "Model:                          GLSAR   Adj. R-squared:                  0.893\n",
            "Method:                 Least Squares   F-statistic:                     185.4\n",
            "Date:                Sun, 27 Apr 2025   Prob (F-statistic):           5.95e-54\n",
            "Time:                        13:35:55   Log-Likelihood:                -167.25\n",
            "No. Observations:                 107   AIC:                             350.5\n",
            "Df Residuals:                      99   BIC:                             371.9\n",
            "Df Model:                           7                                         \n",
            "Covariance Type:                  HAC                                         \n",
            "=====================================================================================\n",
            "                        coef    std err          z      P>|z|      [0.025      0.975]\n",
            "-------------------------------------------------------------------------------------\n",
            "Intercept             9.7143      0.513     18.951      0.000       8.710      10.719\n",
            "periodo               0.2989      0.018     16.783      0.000       0.264       0.334\n",
            "Pandemia_Step         4.2398      1.066      3.976      0.000       2.150       6.330\n",
            "Pandemia_Trend       -0.3957      0.074     -5.344      0.000      -0.541      -0.251\n",
            "PosPandemia_Step     -5.0015      1.091     -4.585      0.000      -7.140      -2.863\n",
            "PosPandemia_Trend    -0.1090      0.037     -2.927      0.003      -0.182      -0.036\n",
            "cos1                 -0.2202      0.116     -1.899      0.058      -0.448       0.007\n",
            "sin1                 -0.0929      0.102     -0.910      0.363      -0.293       0.107\n",
            "==============================================================================\n",
            "Omnibus:                       48.873   Durbin-Watson:                   1.592\n",
            "Prob(Omnibus):                  0.000   Jarque-Bera (JB):              259.235\n",
            "Skew:                          -1.367   Prob(JB):                     5.10e-57\n",
            "Kurtosis:                      10.118   Cond. No.                         431.\n",
            "==============================================================================\n",
            "\n",
            "Notes:\n",
            "[1] Standard Errors are heteroscedasticity and autocorrelation robust (HAC) using 4 lags and without small sample correction\n",
            "\n",
            "\n",
            "Results for norte:\n",
            "                           GLSAR Regression Results                           \n",
            "==============================================================================\n",
            "Dep. Variable:                valores   R-squared:                       0.845\n",
            "Model:                          GLSAR   Adj. R-squared:                  0.834\n",
            "Method:                 Least Squares   F-statistic:                     194.1\n",
            "Date:                Sun, 27 Apr 2025   Prob (F-statistic):           7.22e-55\n",
            "Time:                        13:35:55   Log-Likelihood:                -130.18\n",
            "No. Observations:                 107   AIC:                             276.4\n",
            "Df Residuals:                      99   BIC:                             297.7\n",
            "Df Model:                           7                                         \n",
            "Covariance Type:                  HAC                                         \n",
            "=====================================================================================\n",
            "                        coef    std err          z      P>|z|      [0.025      0.975]\n",
            "-------------------------------------------------------------------------------------\n",
            "Intercept             5.1057      0.444     11.510      0.000       4.236       5.975\n",
            "periodo               0.1277      0.016      8.111      0.000       0.097       0.159\n",
            "Pandemia_Step         2.1806      1.287      1.694      0.090      -0.342       4.703\n",
            "Pandemia_Trend       -0.1053      0.079     -1.326      0.185      -0.261       0.050\n",
            "PosPandemia_Step     -0.3292      0.985     -0.334      0.738      -2.259       1.601\n",
            "PosPandemia_Trend     0.2050      0.032      6.418      0.000       0.142       0.268\n",
            "cos1                 -0.0858      0.050     -1.708      0.088      -0.184       0.013\n",
            "sin1                  0.0553      0.077      0.721      0.471      -0.095       0.206\n",
            "==============================================================================\n",
            "Omnibus:                        8.805   Durbin-Watson:                   1.646\n",
            "Prob(Omnibus):                  0.012   Jarque-Bera (JB):               16.673\n",
            "Skew:                           0.217   Prob(JB):                     0.000240\n",
            "Kurtosis:                       4.884   Cond. No.                         409.\n",
            "==============================================================================\n",
            "\n",
            "Notes:\n",
            "[1] Standard Errors are heteroscedasticity and autocorrelation robust (HAC) using 4 lags and without small sample correction\n",
            "\n",
            "\n",
            "Results for nordeste:\n",
            "                           GLSAR Regression Results                           \n",
            "==============================================================================\n",
            "Dep. Variable:                valores   R-squared:                       0.952\n",
            "Model:                          GLSAR   Adj. R-squared:                  0.949\n",
            "Method:                 Least Squares   F-statistic:                     535.7\n",
            "Date:                Sun, 27 Apr 2025   Prob (F-statistic):           1.08e-75\n",
            "Time:                        13:35:55   Log-Likelihood:                -160.66\n",
            "No. Observations:                 107   AIC:                             337.3\n",
            "Df Residuals:                      99   BIC:                             358.7\n",
            "Df Model:                           7                                         \n",
            "Covariance Type:                  HAC                                         \n",
            "=====================================================================================\n",
            "                        coef    std err          z      P>|z|      [0.025      0.975]\n",
            "-------------------------------------------------------------------------------------\n",
            "Intercept             4.7489      0.368     12.913      0.000       4.028       5.470\n",
            "periodo               0.1870      0.017     10.970      0.000       0.154       0.220\n",
            "Pandemia_Step         5.3369      0.801      6.661      0.000       3.767       6.907\n",
            "Pandemia_Trend       -0.1172      0.064     -1.820      0.069      -0.243       0.009\n",
            "PosPandemia_Step      2.9507      1.270      2.324      0.020       0.463       5.439\n",
            "PosPandemia_Trend     0.2148      0.044      4.924      0.000       0.129       0.300\n",
            "cos1                 -0.0179      0.097     -0.185      0.854      -0.207       0.172\n",
            "sin1                 -0.1772      0.133     -1.337      0.181      -0.437       0.083\n",
            "==============================================================================\n",
            "Omnibus:                        5.959   Durbin-Watson:                   1.776\n",
            "Prob(Omnibus):                  0.051   Jarque-Bera (JB):                7.768\n",
            "Skew:                           0.237   Prob(JB):                       0.0206\n",
            "Kurtosis:                       4.232   Cond. No.                         434.\n",
            "==============================================================================\n",
            "\n",
            "Notes:\n",
            "[1] Standard Errors are heteroscedasticity and autocorrelation robust (HAC) using 4 lags and without small sample correction\n",
            "\n",
            "\n",
            "Results for centro_oeste:\n",
            "                           GLSAR Regression Results                           \n",
            "==============================================================================\n",
            "Dep. Variable:                valores   R-squared:                       0.658\n",
            "Model:                          GLSAR   Adj. R-squared:                  0.634\n",
            "Method:                 Least Squares   F-statistic:                     46.21\n",
            "Date:                Sun, 27 Apr 2025   Prob (F-statistic):           1.90e-28\n",
            "Time:                        13:35:55   Log-Likelihood:                -199.75\n",
            "No. Observations:                 107   AIC:                             415.5\n",
            "Df Residuals:                      99   BIC:                             436.9\n",
            "Df Model:                           7                                         \n",
            "Covariance Type:                  HAC                                         \n",
            "=====================================================================================\n",
            "                        coef    std err          z      P>|z|      [0.025      0.975]\n",
            "-------------------------------------------------------------------------------------\n",
            "Intercept            10.0384      0.884     11.358      0.000       8.306      11.771\n",
            "periodo               0.2979      0.028     10.601      0.000       0.243       0.353\n",
            "Pandemia_Step         3.0505      1.830      1.667      0.096      -0.536       6.638\n",
            "Pandemia_Trend       -0.4403      0.112     -3.923      0.000      -0.660      -0.220\n",
            "PosPandemia_Step     -6.2747      1.645     -3.815      0.000      -9.498      -3.051\n",
            "PosPandemia_Trend    -0.1671      0.054     -3.068      0.002      -0.274      -0.060\n",
            "cos1                 -0.0309      0.091     -0.341      0.733      -0.208       0.147\n",
            "sin1                 -0.0379      0.207     -0.183      0.855      -0.443       0.368\n",
            "==============================================================================\n",
            "Omnibus:                       30.425   Durbin-Watson:                   1.680\n",
            "Prob(Omnibus):                  0.000   Jarque-Bera (JB):               96.704\n",
            "Skew:                          -0.925   Prob(JB):                     1.00e-21\n",
            "Kurtosis:                       7.274   Cond. No.                         413.\n",
            "==============================================================================\n",
            "\n",
            "Notes:\n",
            "[1] Standard Errors are heteroscedasticity and autocorrelation robust (HAC) using 4 lags and without small sample correction\n",
            "\n",
            "\n",
            "Results for brasil:\n",
            "                           GLSAR Regression Results                           \n",
            "==============================================================================\n",
            "Dep. Variable:                valores   R-squared:                       0.893\n",
            "Model:                          GLSAR   Adj. R-squared:                  0.886\n",
            "Method:                 Least Squares   F-statistic:                     269.6\n",
            "Date:                Sun, 27 Apr 2025   Prob (F-statistic):           1.69e-61\n",
            "Time:                        13:35:55   Log-Likelihood:                -158.56\n",
            "No. Observations:                 107   AIC:                             333.1\n",
            "Df Residuals:                      99   BIC:                             354.5\n",
            "Df Model:                           7                                         \n",
            "Covariance Type:                  HAC                                         \n",
            "=====================================================================================\n",
            "                        coef    std err          z      P>|z|      [0.025      0.975]\n",
            "-------------------------------------------------------------------------------------\n",
            "Intercept            10.8516      0.374     29.041      0.000      10.119      11.584\n",
            "periodo               0.2209      0.014     15.729      0.000       0.193       0.248\n",
            "Pandemia_Step         4.6726      1.108      4.217      0.000       2.501       6.844\n",
            "Pandemia_Trend       -0.3087      0.079     -3.921      0.000      -0.463      -0.154\n",
            "PosPandemia_Step     -2.2425      1.034     -2.169      0.030      -4.269      -0.216\n",
            "PosPandemia_Trend     0.0217      0.037      0.582      0.560      -0.051       0.095\n",
            "cos1                 -0.1298      0.089     -1.461      0.144      -0.304       0.044\n",
            "sin1                 -0.0694      0.068     -1.021      0.307      -0.203       0.064\n",
            "==============================================================================\n",
            "Omnibus:                       41.020   Durbin-Watson:                   1.751\n",
            "Prob(Omnibus):                  0.000   Jarque-Bera (JB):              220.021\n",
            "Skew:                          -1.082   Prob(JB):                     1.67e-48\n",
            "Kurtosis:                       9.683   Cond. No.                         428.\n",
            "==============================================================================\n",
            "\n",
            "Notes:\n",
            "[1] Standard Errors are heteroscedasticity and autocorrelation robust (HAC) using 4 lags and without small sample correction\n",
            "\n",
            "\n"
          ]
        }
      ],
      "source": [
        "\n",
        "results = variable_processor.results\n",
        "for variable in results:\n",
        "\n",
        "    print(f\"Results for {variable}:\")\n",
        "    result = results[variable]\n",
        "    print(result.summary())\n",
        "    #print(result.summary2())\n",
        "\n",
        "    nob = 107 #### TODO: change to get dinamically\n",
        "    lags = min(20, np.round(nob/4))\n",
        "    residuals = result.resid\n",
        "    #plot_acf(residuals, lags=lags, alpha=0.05)\n",
        "    #plot_pacf(residuals, lags=lags, alpha=0.05, method=\"ols\")  # OLS-based PACF\n",
        "\n",
        "    #plot_residuals_vs_fitted(result, variable)\n",
        "\n",
        "\n",
        "\n",
        "    #print(\"AIC\", result.aic,)  # Akaike Information Criterion\n",
        "    #print(\"BIC\", result.bic,)  # Bayesian Information Criterion\n",
        "\n",
        "    print(\"\\n\")"
      ]
    },
    {
      "cell_type": "markdown",
      "metadata": {
        "id": "AKBeUI39NIXf"
      },
      "source": [
        "# Export Results"
      ]
    },
    {
      "cell_type": "code",
      "execution_count": 33,
      "metadata": {
        "id": "IbPhBA4YNIXg"
      },
      "outputs": [],
      "source": [
        "export_results(results,\n",
        "    output_path = LOCAL_OUTPUT_PATH,\n",
        "    processor_args = PROCESSOR_ARGS,\n",
        "    preprocessor_args=PREPROCESSOR_ARGS,\n",
        "    output_gsheet=output_wksheet,\n",
        ")"
      ]
    },
    {
      "cell_type": "markdown",
      "metadata": {
        "id": "WcYnNsL4NIXl"
      },
      "source": [
        "# Evaluation"
      ]
    },
    {
      "cell_type": "code",
      "execution_count": 34,
      "metadata": {
        "colab": {
          "base_uri": "https://localhost:8080/"
        },
        "id": "n8c7btmVNIXl",
        "outputId": "9d7604b1-208f-4ce6-eb7c-98c13fbdc78a"
      },
      "outputs": [
        {
          "data": {
            "text/plain": [
              "'\\nbaseline_df = RegressionDF[\\n    (RegressionDF[\\'PosPandemia_Step\\'] == 0)\\n    & (RegressionDF[\\'Pandemia_Step\\'] == 0)\\n    #& ~(RegressionDF[\\'Choque_Inicial\\'] == 1)\\n    #&~(RegressionDF[\\'Lockdown_2021\\'] == 1)\\n]\\n\\nbase_line_args = PROCESSOR_ARGS\\nbase_line_args[\\'formula\\'] = BASE_MODEL_FORMULA\\n\\n\\nfrom statsmodels.stats.power import TTestPower\\n\\nif False:\\n    for variable in baseline_df[GROUP_COL_NAME].unique():\\n        variable_data = baseline_df[baseline_df[GROUP_COL_NAME] == variable].sort_values(by=DATE_NAME)\\n        variable_data = variable_data.reset_index(drop=True)\\n        X = variable_data[INDEPENDENT_VAR]\\n        y = variable_data[DEPENDENT_VAR]\\n\\n        X_std = (X - X.mean()) / X.std()\\n        Y_std = (y - y.mean()) / y.std()\\n\\n        power_test_processor = VariableProcessor(\\n        df=variable_data,\\n        processor_args=base_line_args,\\n        processor=RegressionProcessor,\\n        test_size=0.25,\\n        random_state=42,\\n        evaluate = False,\\n    )\\n        model, _ = power_test_processor.process_variables()\\n\\n        effect_size = model[variable].params[1]  # Coeficiente de X_std\\n        print(f\"{variable}_Effect Size (Cohen\\'s d): {effect_size:.2f}\")\\n\\n\\n        # Parameters\\n        #effect_size = 0.2  # Standardized (e.g., Cohen\\'s d)\\n        alpha = 0.05        # Significance level\\n        nobs = variable_data.shape[0]         # Sample size\\n\\n        # Calculate power\\n        power = TTestPower().power(effect_size, nobs, alpha)\\n        print(f\"Power: {power:.2f}\")  # e.g., 0.67 → 67% chance to detect the effect\\n\\n# Processar baseline\\n\\nbaseline_processor = VariableProcessor(\\n    df=baseline_df,\\n    processor_args=base_line_args,\\n    processor=RegressionProcessor,\\n    test_size=0.25,\\n    random_state=42,\\n    evaluate = True\\n)\\n_, base_line_evaluation = baseline_processor.process_variables()\\nbase_line_evaluation\\n'"
            ]
          },
          "execution_count": 34,
          "metadata": {},
          "output_type": "execute_result"
        }
      ],
      "source": [
        "'''\n",
        "baseline_df = RegressionDF[\n",
        "    (RegressionDF['PosPandemia_Step'] == 0)\n",
        "    & (RegressionDF['Pandemia_Step'] == 0)\n",
        "    #& ~(RegressionDF['Choque_Inicial'] == 1)\n",
        "    #&~(RegressionDF['Lockdown_2021'] == 1)\n",
        "]\n",
        "\n",
        "base_line_args = PROCESSOR_ARGS\n",
        "base_line_args['formula'] = BASE_MODEL_FORMULA\n",
        "\n",
        "\n",
        "from statsmodels.stats.power import TTestPower\n",
        "\n",
        "if False:\n",
        "    for variable in baseline_df[GROUP_COL_NAME].unique():\n",
        "        variable_data = baseline_df[baseline_df[GROUP_COL_NAME] == variable].sort_values(by=DATE_NAME)\n",
        "        variable_data = variable_data.reset_index(drop=True)\n",
        "        X = variable_data[INDEPENDENT_VAR]\n",
        "        y = variable_data[DEPENDENT_VAR]\n",
        "\n",
        "        X_std = (X - X.mean()) / X.std()\n",
        "        Y_std = (y - y.mean()) / y.std()\n",
        "\n",
        "        power_test_processor = VariableProcessor(\n",
        "        df=variable_data,\n",
        "        processor_args=base_line_args,\n",
        "        processor=RegressionProcessor,\n",
        "        test_size=0.25,\n",
        "        random_state=42,\n",
        "        evaluate = False,\n",
        "    )\n",
        "        model, _ = power_test_processor.process_variables()\n",
        "\n",
        "        effect_size = model[variable].params[1]  # Coeficiente de X_std\n",
        "        print(f\"{variable}_Effect Size (Cohen's d): {effect_size:.2f}\")\n",
        "\n",
        "\n",
        "        # Parameters\n",
        "        #effect_size = 0.2  # Standardized (e.g., Cohen's d)\n",
        "        alpha = 0.05        # Significance level\n",
        "        nobs = variable_data.shape[0]         # Sample size\n",
        "\n",
        "        # Calculate power\n",
        "        power = TTestPower().power(effect_size, nobs, alpha)\n",
        "        print(f\"Power: {power:.2f}\")  # e.g., 0.67 → 67% chance to detect the effect\n",
        "\n",
        "# Processar baseline\n",
        "\n",
        "baseline_processor = VariableProcessor(\n",
        "    df=baseline_df,\n",
        "    processor_args=base_line_args,\n",
        "    processor=RegressionProcessor,\n",
        "    test_size=0.25,\n",
        "    random_state=42,\n",
        "    evaluate = True\n",
        ")\n",
        "_, base_line_evaluation = baseline_processor.process_variables()\n",
        "base_line_evaluation\n",
        "'''\n"
      ]
    },
    {
      "cell_type": "code",
      "execution_count": 35,
      "metadata": {
        "colab": {
          "base_uri": "https://localhost:8080/"
        },
        "id": "1ghKgnALNIXl",
        "outputId": "61e40470-407e-4a38-e96f-a08d00734b5f"
      },
      "outputs": [
        {
          "data": {
            "text/plain": [
              "'\\npos_intervention_df = RegressionDF[RegressionDF[\\'Step_PosPandemia\\'] == 1]\\n# Processar pós-intervenção\\npos_intervention_processor = VariableProcessor(\\n    df=pos_intervention_df,\\n    processor_args=PROCESSOR_ARGS,\\n    processor=RegressionProcessor,\\n    test_size=0.2,\\n    random_state=42,\\n    evaluate = True\\n)\\n_, pos_intervention_evaluation = pos_intervention_processor.process_variables()\\n\\npos_intervention_evaluation\\n\\n\\nfor variable, row in pos_intervention_evaluation.iterrows():\\n    print(f\"Results for {variable}:\")\\n    splitted_data = row[\\'splitted_data\\']  # Access the \\'splitted_data\\' column\\n    train_data = splitted_data[\\'train_data\\'].sort_values(by=DATE_NAME)\\n    test_data = splitted_data[\\'test_data\\'].sort_values(by=DATE_NAME)\\n\\n    print(\"Train Data:\")\\n    print(train_data)\\n\\n    print(\"Test Data:\")\\n    print(test_data)\\n\\npos_intervention_evaluation\\n'"
            ]
          },
          "execution_count": 35,
          "metadata": {},
          "output_type": "execute_result"
        }
      ],
      "source": [
        "'''\n",
        "pos_intervention_df = RegressionDF[RegressionDF['Step_PosPandemia'] == 1]\n",
        "# Processar pós-intervenção\n",
        "pos_intervention_processor = VariableProcessor(\n",
        "    df=pos_intervention_df,\n",
        "    processor_args=PROCESSOR_ARGS,\n",
        "    processor=RegressionProcessor,\n",
        "    test_size=0.2,\n",
        "    random_state=42,\n",
        "    evaluate = True\n",
        ")\n",
        "_, pos_intervention_evaluation = pos_intervention_processor.process_variables()\n",
        "\n",
        "pos_intervention_evaluation\n",
        "\n",
        "\n",
        "for variable, row in pos_intervention_evaluation.iterrows():\n",
        "    print(f\"Results for {variable}:\")\n",
        "    splitted_data = row['splitted_data']  # Access the 'splitted_data' column\n",
        "    train_data = splitted_data['train_data'].sort_values(by=DATE_NAME)\n",
        "    test_data = splitted_data['test_data'].sort_values(by=DATE_NAME)\n",
        "\n",
        "    print(\"Train Data:\")\n",
        "    print(train_data)\n",
        "\n",
        "    print(\"Test Data:\")\n",
        "    print(test_data)\n",
        "\n",
        "pos_intervention_evaluation\n",
        "'''"
      ]
    },
    {
      "cell_type": "markdown",
      "metadata": {
        "id": "2IiKsqpaNIXu"
      },
      "source": [
        "# Teste Lags"
      ]
    },
    {
      "cell_type": "code",
      "execution_count": 36,
      "metadata": {
        "id": "Av9jOMvjNIXu"
      },
      "outputs": [],
      "source": [
        "#teste_lag\n",
        "from collections import defaultdict\n",
        "import statsmodels.api as sm\n",
        "import statsmodels.formula.api as smf\n",
        "import pandas as pd\n",
        "import statsmodels.stats.api as sms\n",
        "\n",
        "\n",
        "DO_LAG_TEST = False\n",
        "if DO_LAG_TEST:\n",
        "    lags_to_test = [1, 2, 3, 4, 5, 6, 8, 10]\n",
        "    estatisticas_por_lag = defaultdict(dict)\n",
        "\n",
        "    # Adicionar uma variável para armazenar a informação de ACF\n",
        "    acf_values = defaultdict(dict)\n",
        "\n",
        "    for lag in lags_to_test:\n",
        "\n",
        "\n",
        "\n",
        "        processor_args[\"cov_kwargs\"] = {\"maxlags\": lag}\n",
        "\n",
        "        variable_processor = VariableProcessor(\n",
        "            df=RegressionDF,\n",
        "            processor_args=processor_args,\n",
        "            processor=RegressionProcessor\n",
        "        )\n",
        "\n",
        "        variable_processor.process_variables()\n",
        "        results = variable_processor.results\n",
        "\n",
        "        for var, result in results.items():\n",
        "            # extrair estatísticas desejadas\n",
        "            summary_frame = result.summary2().tables[1]  # tabelinha de coeficientes\n",
        "            if \"Trend_PosPandemia\" in summary_frame.index:\n",
        "                trend_stats = summary_frame.loc[\"Trend_PosPandemia\"]\n",
        "                estatisticas_por_lag[lag][var] = {\n",
        "                    \"coef\": trend_stats[\"Coef.\"],\n",
        "                    \"std_err\": trend_stats[\"Std.Err.\"],\n",
        "                    \"p_value\": trend_stats[\"P>|z|\"] if \"P>|z|\" in trend_stats else trend_stats[\"P>|t|\"],\n",
        "                }\n",
        "            else:\n",
        "                estatisticas_por_lag[lag][var] = {\"coef\": None, \"std_err\": None, \"p_value\": None}\n",
        "\n",
        "            # Outras estatísticas: Durbin-Watson, AIC, BIC, R², F-Estatístico, p-valor do modelo\n",
        "            estatisticas_por_lag[lag][var][\"durbin_watson\"] = sm.stats.stattools.durbin_watson(result.resid)\n",
        "            estatisticas_por_lag[lag][var][\"aic\"] = result.aic\n",
        "            estatisticas_por_lag[lag][var][\"bic\"] = result.bic\n",
        "            estatisticas_por_lag[lag][var][\"r_squared\"] = result.rsquared\n",
        "            estatisticas_por_lag[lag][var][\"f_statistic\"] = result.fvalue\n",
        "            estatisticas_por_lag[lag][var][\"p_value_model\"] = result.f_pvalue\n",
        "\n",
        "            # ACF (Autocorrelation Function) dos resíduos\n",
        "            acf_result = sm.tsa.acf(result.resid, nlags=lag, fft=True)\n",
        "            acf_values[lag][var] = acf_result\n",
        "\n",
        "            # Exibir os valores de ACF para verificação\n",
        "            print(f\"Valores da ACF para {var} no lag {lag}: {acf_result}\")\n",
        "\n",
        "            # Ajuste: Registra os lags com autocorrelação positiva maior que 0.1 ou qualquer critério ajustado\n",
        "            acf_significant_lags = [i for i, acf_val in enumerate(acf_result) if abs(acf_val) > 0.1]  # Limite mais relaxado\n",
        "            estatisticas_por_lag[lag][var][\"acf_significant_lags\"] = acf_significant_lags\n",
        "\n",
        "    # Converte o dicionário em uma lista de registros\n",
        "    registros = []\n",
        "    for lag, variaveis in estatisticas_por_lag.items():\n",
        "        for var, stats in variaveis.items():\n",
        "            linha = {\"lag\": lag, \"variavel\": var}\n",
        "            linha.update(stats)\n",
        "            registros.append(linha)\n",
        "\n",
        "    # Cria o DataFrame\n",
        "    df_resultados_lags = pd.DataFrame(registros)\n",
        "\n",
        "    # Ordena para facilitar a visualização\n",
        "    df_resultados_lags.sort_values(by=[\"variavel\", \"lag\"], inplace=True)\n",
        "    #df_resultados_lags.to_csv(\"df_resultados_lags.csv\", sep=';', decimal=',', index=False, encoding='utf-8-sig')\n",
        "    # Exibe os resultados\n",
        "\n"
      ]
    },
    {
      "cell_type": "markdown",
      "metadata": {
        "id": "zH9i6dotzLe5"
      },
      "source": [
        "# Define Hover Graph Func\n"
      ]
    },
    {
      "cell_type": "code",
      "execution_count": 37,
      "metadata": {},
      "outputs": [],
      "source": [
        "def plot_with_all_dummies(\n",
        "    variable: str,\n",
        "    variable_df,\n",
        "    results_obj,\n",
        "    exclude_coeffs_by_prefix=None,\n",
        "    plot_individual_effects=False,\n",
        "    line_events=None, # Dict[str, Tuple[start, end, color, show_line]]\n",
        "    slope_coef_str=None,\n",
        "    real_serie_key=DEPENDENT_VAR,\n",
        "):\n",
        "\n",
        "    regression_stats = results_obj.params\n",
        "    variable_df = variable_df.sort_values(by=DATE_NAME).reset_index(drop=True)\n",
        "    dates = variable_df[DATE_NAME].values\n",
        "    real_series = variable_df[real_serie_key].values\n",
        "\n",
        "    slope_name = slope_coef_str if slope_coef_str else INDEPENDENT_VAR\n",
        "    intercept = regression_stats.get(\"Intercept\", 0)\n",
        "    slope = regression_stats.get(slope_name, 0)\n",
        "    t = np.arange(len(dates)) + 1\n",
        "    baseline = (intercept + slope * t).astype(float)\n",
        "    full_pred = baseline.copy()\n",
        "\n",
        "    fig = go.Figure()\n",
        "\n",
        "    fig.add_trace(go.Scatter(\n",
        "        x=dates,\n",
        "        y=real_series,\n",
        "        mode='markers',\n",
        "        name='Real',\n",
        "        marker=dict(color='black')\n",
        "    ))\n",
        "\n",
        "    fig.add_trace(go.Scatter(\n",
        "        x=dates,\n",
        "        y=baseline,\n",
        "        mode='lines',\n",
        "        name='Baseline',\n",
        "        line=dict(dash='dot', color='black')\n",
        "    ))\n",
        "\n",
        "    for dummy_name, coef in regression_stats.items():\n",
        "        if dummy_name in {\"Intercept\", INDEPENDENT_VAR}:\n",
        "            continue\n",
        "        if slope_coef_str and dummy_name == slope_coef_str:\n",
        "            continue\n",
        "\n",
        "        if exclude_coeffs_by_prefix and any(dummy_name.startswith(prefix) for prefix in exclude_coeffs_by_prefix):\n",
        "            continue\n",
        "\n",
        "        if dummy_name in variable_df.columns:\n",
        "            dummy_ts = variable_df[dummy_name].values\n",
        "            dummy_effect = coef * dummy_ts\n",
        "            full_pred += dummy_effect\n",
        "\n",
        "            if plot_individual_effects:\n",
        "                fig.add_trace(go.Scatter(\n",
        "                    x=dates,\n",
        "                    y=dummy_effect,\n",
        "                    mode='lines',\n",
        "                    name=f'Effect: {dummy_name}',\n",
        "                    line=dict(dash='dash')\n",
        "                ))\n",
        "\n",
        "    if line_events:\n",
        "        for line_dummy_name, (event_start_date, event_end_date, fillcolor, show_line) in line_events.items():\n",
        "            if fillcolor:\n",
        "                # Sombra para eventos tipo \"pulse\"\n",
        "                fig.add_shape(\n",
        "                    type=\"rect\",\n",
        "                    x0=event_start_date,\n",
        "                    x1=event_end_date,\n",
        "                    y0=0,\n",
        "                    y1=1,\n",
        "                    xref=\"x\",\n",
        "                    yref=\"paper\",\n",
        "                    fillcolor=fillcolor,\n",
        "                    opacity=0.3,\n",
        "                    layer=\"below\",\n",
        "                    line_width=0,\n",
        "                )\n",
        "        \n",
        "            if show_line:\n",
        "                # Linha e anotação para eventos como Pandemia e Pós-Pandemia\n",
        "                fig.add_shape(\n",
        "                    type=\"line\",\n",
        "                    x0=event_start_date,\n",
        "                    x1=event_start_date,\n",
        "                    y0=min(real_series),\n",
        "                    y1=max(real_series),\n",
        "                    line=dict(color=\"black\", dash=\"dash\")\n",
        "                )\n",
        "        \n",
        "                # Anotação deslocada no eixo x\n",
        "                fig.add_annotation(\n",
        "                    x=event_start_date,\n",
        "                    y=max(real_series),\n",
        "                    text=f\"{line_dummy_name}\",\n",
        "                    showarrow=True,\n",
        "                    arrowhead=2,\n",
        "                    ax=30,  # deslocamento lateral\n",
        "                    ay=-40\n",
        "                )\n",
        "\n",
        "    fig.add_trace(go.Scatter(\n",
        "        x=dates,\n",
        "        y=full_pred,\n",
        "        mode='lines',\n",
        "        name='Full model',\n",
        "        line=dict(color='purple')\n",
        "    ))\n",
        "\n",
        "    fig.update_layout(\n",
        "        title=variable,\n",
        "        xaxis_title=\"Time\",\n",
        "        yaxis_title=\"Value\",\n",
        "        legend_title=\"Legend\"\n",
        "    )\n",
        "\n",
        "    fig.show()\n"
      ]
    },
    {
      "cell_type": "markdown",
      "metadata": {
        "id": "deLbYC8XNIX5"
      },
      "source": [
        "# EXEC --- Plot Graph"
      ]
    },
    {
      "cell_type": "code",
      "execution_count": 39,
      "metadata": {
        "colab": {
          "base_uri": "https://localhost:8080/",
          "height": 1000
        },
        "id": "5rCs4_ohNIX6",
        "outputId": "73d22374-2176-4616-a44b-3072f8ea7e90"
      },
      "outputs": [
        {
          "data": {
            "application/vnd.plotly.v1+json": {
              "config": {
                "plotlyServerURL": "https://plot.ly"
              },
              "data": [
                {
                  "marker": {
                    "color": "black"
                  },
                  "mode": "markers",
                  "name": "Real",
                  "type": "scatter",
                  "x": [
                    "2016-01-01T00:00:00.000000000",
                    "2016-02-01T00:00:00.000000000",
                    "2016-03-01T00:00:00.000000000",
                    "2016-04-01T00:00:00.000000000",
                    "2016-05-01T00:00:00.000000000",
                    "2016-06-01T00:00:00.000000000",
                    "2016-07-01T00:00:00.000000000",
                    "2016-08-01T00:00:00.000000000",
                    "2016-09-01T00:00:00.000000000",
                    "2016-10-01T00:00:00.000000000",
                    "2016-11-01T00:00:00.000000000",
                    "2016-12-01T00:00:00.000000000",
                    "2017-01-01T00:00:00.000000000",
                    "2017-02-01T00:00:00.000000000",
                    "2017-03-01T00:00:00.000000000",
                    "2017-04-01T00:00:00.000000000",
                    "2017-05-01T00:00:00.000000000",
                    "2017-06-01T00:00:00.000000000",
                    "2017-07-01T00:00:00.000000000",
                    "2017-08-01T00:00:00.000000000",
                    "2017-09-01T00:00:00.000000000",
                    "2017-10-01T00:00:00.000000000",
                    "2017-11-01T00:00:00.000000000",
                    "2017-12-01T00:00:00.000000000",
                    "2018-01-01T00:00:00.000000000",
                    "2018-02-01T00:00:00.000000000",
                    "2018-03-01T00:00:00.000000000",
                    "2018-04-01T00:00:00.000000000",
                    "2018-05-01T00:00:00.000000000",
                    "2018-06-01T00:00:00.000000000",
                    "2018-07-01T00:00:00.000000000",
                    "2018-08-01T00:00:00.000000000",
                    "2018-09-01T00:00:00.000000000",
                    "2018-10-01T00:00:00.000000000",
                    "2018-11-01T00:00:00.000000000",
                    "2018-12-01T00:00:00.000000000",
                    "2019-01-01T00:00:00.000000000",
                    "2019-02-01T00:00:00.000000000",
                    "2019-03-01T00:00:00.000000000",
                    "2019-04-01T00:00:00.000000000",
                    "2019-05-01T00:00:00.000000000",
                    "2019-06-01T00:00:00.000000000",
                    "2019-07-01T00:00:00.000000000",
                    "2019-08-01T00:00:00.000000000",
                    "2019-09-01T00:00:00.000000000",
                    "2019-10-01T00:00:00.000000000",
                    "2019-11-01T00:00:00.000000000",
                    "2019-12-01T00:00:00.000000000",
                    "2020-01-01T00:00:00.000000000",
                    "2020-02-01T00:00:00.000000000",
                    "2020-03-01T00:00:00.000000000",
                    "2020-04-01T00:00:00.000000000",
                    "2020-05-01T00:00:00.000000000",
                    "2020-06-01T00:00:00.000000000",
                    "2020-07-01T00:00:00.000000000",
                    "2020-08-01T00:00:00.000000000",
                    "2020-09-01T00:00:00.000000000",
                    "2020-10-01T00:00:00.000000000",
                    "2020-11-01T00:00:00.000000000",
                    "2020-12-01T00:00:00.000000000",
                    "2021-01-01T00:00:00.000000000",
                    "2021-02-01T00:00:00.000000000",
                    "2021-03-01T00:00:00.000000000",
                    "2021-04-01T00:00:00.000000000",
                    "2021-05-01T00:00:00.000000000",
                    "2021-06-01T00:00:00.000000000",
                    "2021-07-01T00:00:00.000000000",
                    "2021-08-01T00:00:00.000000000",
                    "2021-09-01T00:00:00.000000000",
                    "2021-10-01T00:00:00.000000000",
                    "2021-11-01T00:00:00.000000000",
                    "2021-12-01T00:00:00.000000000",
                    "2022-01-01T00:00:00.000000000",
                    "2022-02-01T00:00:00.000000000",
                    "2022-03-01T00:00:00.000000000",
                    "2022-04-01T00:00:00.000000000",
                    "2022-05-01T00:00:00.000000000",
                    "2022-06-01T00:00:00.000000000",
                    "2022-07-01T00:00:00.000000000",
                    "2022-08-01T00:00:00.000000000",
                    "2022-09-01T00:00:00.000000000",
                    "2022-10-01T00:00:00.000000000",
                    "2022-11-01T00:00:00.000000000",
                    "2022-12-01T00:00:00.000000000",
                    "2023-01-01T00:00:00.000000000",
                    "2023-02-01T00:00:00.000000000",
                    "2023-03-01T00:00:00.000000000",
                    "2023-04-01T00:00:00.000000000",
                    "2023-05-01T00:00:00.000000000",
                    "2023-06-01T00:00:00.000000000",
                    "2023-07-01T00:00:00.000000000",
                    "2023-08-01T00:00:00.000000000",
                    "2023-09-01T00:00:00.000000000",
                    "2023-10-01T00:00:00.000000000",
                    "2023-11-01T00:00:00.000000000",
                    "2023-12-01T00:00:00.000000000",
                    "2024-01-01T00:00:00.000000000",
                    "2024-02-01T00:00:00.000000000",
                    "2024-03-01T00:00:00.000000000",
                    "2024-04-01T00:00:00.000000000",
                    "2024-05-01T00:00:00.000000000",
                    "2024-06-01T00:00:00.000000000",
                    "2024-07-01T00:00:00.000000000",
                    "2024-08-01T00:00:00.000000000",
                    "2024-09-01T00:00:00.000000000",
                    "2024-10-01T00:00:00.000000000",
                    "2024-11-01T00:00:00.000000000",
                    "2024-12-01T00:00:00.000000000"
                  ],
                  "y": [
                    25.57479951815984,
                    25.69775483763651,
                    23.40469896313021,
                    24.76606536112418,
                    23.14092247260091,
                    23.79706439962597,
                    24.80762096243373,
                    24.20263573535679,
                    23.99507762829562,
                    24.23427302296435,
                    25.53078861346945,
                    26.27798300821268,
                    25.39442465666438,
                    25.15462353056528,
                    24.38589964391444,
                    24.74215726344188,
                    24.07882258503543,
                    24.51238647056554,
                    24.04932530415184,
                    25.02007444633176,
                    24.45072602560816,
                    25.64184945257824,
                    25.1924024820175,
                    26.24368846940549,
                    25.50070029591451,
                    26.30380006656519,
                    24.49283490555982,
                    24.70962536571009,
                    23.91222969468854,
                    24.44785892166254,
                    24.14837920727932,
                    24.20096582063372,
                    25.08746842356138,
                    24.41709339531521,
                    24.75198480617482,
                    24.26591002237523,
                    23.66318386164116,
                    24.29381106665907,
                    25.45077339245917,
                    26.50941630302111,
                    26.08760234612531,
                    25.87331744078664,
                    26.08847157317199,
                    27.24377924276961,
                    26.92697257692269,
                    25.99479263022284,
                    27.14640311334641,
                    27.74721384712872,
                    28.66949660360752,
                    28.37102479792678,
                    27.31581057065054,
                    33.41441237693909,
                    32.9045579959939,
                    32.14069032006051,
                    29.39625123295836,
                    28.9414914311864,
                    31.06145517246267,
                    28.71262817982725,
                    26.31021859774367,
                    26.68517003196155,
                    26.74675150293746,
                    26.76802444347538,
                    25.93448232318803,
                    28.16755479169375,
                    24.88650030399723,
                    25.4806262603608,
                    27.34981174204792,
                    28.52206873014849,
                    29.00829210138901,
                    26.99152288108517,
                    27.17418185393509,
                    27.21122738302884,
                    19.24462637306556,
                    23.80122996244245,
                    27.02895914518971,
                    25.39559254608429,
                    23.33666148847686,
                    23.83955231742886,
                    25.95320842458581,
                    27.58765228590386,
                    29.24359285301652,
                    27.85137045143114,
                    26.55771481964728,
                    25.98165711997674,
                    29.63927937024431,
                    30.75363291846458,
                    29.57809768807097,
                    27.49301245181331,
                    27.33433748210081,
                    28.89362101782022,
                    30.43976242448078,
                    31.24723099800068,
                    32.38151516725416,
                    31.23968975721148,
                    31.03032549558447,
                    31.03455801276937,
                    31.55290014872558,
                    30.86859258223221,
                    28.13369122147646,
                    27.66132592526588,
                    28.33850140526887,
                    30.39549902693914,
                    30.23744178977174,
                    30.6081192701497,
                    30.24891983788465,
                    29.80464192639871,
                    30.33010893862979,
                    30.58480787856012
                  ]
                },
                {
                  "line": {
                    "color": "black",
                    "dash": "dot"
                  },
                  "mode": "lines",
                  "name": "Baseline",
                  "type": "scatter",
                  "x": [
                    "2016-01-01T00:00:00.000000000",
                    "2016-02-01T00:00:00.000000000",
                    "2016-03-01T00:00:00.000000000",
                    "2016-04-01T00:00:00.000000000",
                    "2016-05-01T00:00:00.000000000",
                    "2016-06-01T00:00:00.000000000",
                    "2016-07-01T00:00:00.000000000",
                    "2016-08-01T00:00:00.000000000",
                    "2016-09-01T00:00:00.000000000",
                    "2016-10-01T00:00:00.000000000",
                    "2016-11-01T00:00:00.000000000",
                    "2016-12-01T00:00:00.000000000",
                    "2017-01-01T00:00:00.000000000",
                    "2017-02-01T00:00:00.000000000",
                    "2017-03-01T00:00:00.000000000",
                    "2017-04-01T00:00:00.000000000",
                    "2017-05-01T00:00:00.000000000",
                    "2017-06-01T00:00:00.000000000",
                    "2017-07-01T00:00:00.000000000",
                    "2017-08-01T00:00:00.000000000",
                    "2017-09-01T00:00:00.000000000",
                    "2017-10-01T00:00:00.000000000",
                    "2017-11-01T00:00:00.000000000",
                    "2017-12-01T00:00:00.000000000",
                    "2018-01-01T00:00:00.000000000",
                    "2018-02-01T00:00:00.000000000",
                    "2018-03-01T00:00:00.000000000",
                    "2018-04-01T00:00:00.000000000",
                    "2018-05-01T00:00:00.000000000",
                    "2018-06-01T00:00:00.000000000",
                    "2018-07-01T00:00:00.000000000",
                    "2018-08-01T00:00:00.000000000",
                    "2018-09-01T00:00:00.000000000",
                    "2018-10-01T00:00:00.000000000",
                    "2018-11-01T00:00:00.000000000",
                    "2018-12-01T00:00:00.000000000",
                    "2019-01-01T00:00:00.000000000",
                    "2019-02-01T00:00:00.000000000",
                    "2019-03-01T00:00:00.000000000",
                    "2019-04-01T00:00:00.000000000",
                    "2019-05-01T00:00:00.000000000",
                    "2019-06-01T00:00:00.000000000",
                    "2019-07-01T00:00:00.000000000",
                    "2019-08-01T00:00:00.000000000",
                    "2019-09-01T00:00:00.000000000",
                    "2019-10-01T00:00:00.000000000",
                    "2019-11-01T00:00:00.000000000",
                    "2019-12-01T00:00:00.000000000",
                    "2020-01-01T00:00:00.000000000",
                    "2020-02-01T00:00:00.000000000",
                    "2020-03-01T00:00:00.000000000",
                    "2020-04-01T00:00:00.000000000",
                    "2020-05-01T00:00:00.000000000",
                    "2020-06-01T00:00:00.000000000",
                    "2020-07-01T00:00:00.000000000",
                    "2020-08-01T00:00:00.000000000",
                    "2020-09-01T00:00:00.000000000",
                    "2020-10-01T00:00:00.000000000",
                    "2020-11-01T00:00:00.000000000",
                    "2020-12-01T00:00:00.000000000",
                    "2021-01-01T00:00:00.000000000",
                    "2021-02-01T00:00:00.000000000",
                    "2021-03-01T00:00:00.000000000",
                    "2021-04-01T00:00:00.000000000",
                    "2021-05-01T00:00:00.000000000",
                    "2021-06-01T00:00:00.000000000",
                    "2021-07-01T00:00:00.000000000",
                    "2021-08-01T00:00:00.000000000",
                    "2021-09-01T00:00:00.000000000",
                    "2021-10-01T00:00:00.000000000",
                    "2021-11-01T00:00:00.000000000",
                    "2021-12-01T00:00:00.000000000",
                    "2022-01-01T00:00:00.000000000",
                    "2022-02-01T00:00:00.000000000",
                    "2022-03-01T00:00:00.000000000",
                    "2022-04-01T00:00:00.000000000",
                    "2022-05-01T00:00:00.000000000",
                    "2022-06-01T00:00:00.000000000",
                    "2022-07-01T00:00:00.000000000",
                    "2022-08-01T00:00:00.000000000",
                    "2022-09-01T00:00:00.000000000",
                    "2022-10-01T00:00:00.000000000",
                    "2022-11-01T00:00:00.000000000",
                    "2022-12-01T00:00:00.000000000",
                    "2023-01-01T00:00:00.000000000",
                    "2023-02-01T00:00:00.000000000",
                    "2023-03-01T00:00:00.000000000",
                    "2023-04-01T00:00:00.000000000",
                    "2023-05-01T00:00:00.000000000",
                    "2023-06-01T00:00:00.000000000",
                    "2023-07-01T00:00:00.000000000",
                    "2023-08-01T00:00:00.000000000",
                    "2023-09-01T00:00:00.000000000",
                    "2023-10-01T00:00:00.000000000",
                    "2023-11-01T00:00:00.000000000",
                    "2023-12-01T00:00:00.000000000",
                    "2024-01-01T00:00:00.000000000",
                    "2024-02-01T00:00:00.000000000",
                    "2024-03-01T00:00:00.000000000",
                    "2024-04-01T00:00:00.000000000",
                    "2024-05-01T00:00:00.000000000",
                    "2024-06-01T00:00:00.000000000",
                    "2024-07-01T00:00:00.000000000",
                    "2024-08-01T00:00:00.000000000",
                    "2024-09-01T00:00:00.000000000",
                    "2024-10-01T00:00:00.000000000",
                    "2024-11-01T00:00:00.000000000",
                    "2024-12-01T00:00:00.000000000"
                  ],
                  "y": [
                    23.767400896265624,
                    23.821001723482205,
                    23.874602550698782,
                    23.928203377915363,
                    23.981804205131944,
                    24.035405032348525,
                    24.089005859565106,
                    24.142606686781686,
                    24.196207513998264,
                    24.249808341214845,
                    24.303409168431426,
                    24.357009995648006,
                    24.410610822864587,
                    24.464211650081168,
                    24.517812477297745,
                    24.571413304514326,
                    24.625014131730907,
                    24.678614958947488,
                    24.73221578616407,
                    24.785816613380646,
                    24.839417440597227,
                    24.893018267813808,
                    24.94661909503039,
                    25.00021992224697,
                    25.053820749463547,
                    25.107421576680128,
                    25.16102240389671,
                    25.21462323111329,
                    25.26822405832987,
                    25.32182488554645,
                    25.37542571276303,
                    25.42902653997961,
                    25.48262736719619,
                    25.53622819441277,
                    25.589829021629352,
                    25.643429848845933,
                    25.69703067606251,
                    25.75063150327909,
                    25.804232330495672,
                    25.857833157712253,
                    25.911433984928834,
                    25.96503481214541,
                    26.018635639361992,
                    26.072236466578573,
                    26.125837293795154,
                    26.179438121011735,
                    26.233038948228312,
                    26.286639775444893,
                    26.340240602661474,
                    26.393841429878055,
                    26.447442257094636,
                    26.501043084311217,
                    26.554643911527798,
                    26.608244738744375,
                    26.661845565960956,
                    26.715446393177537,
                    26.769047220394118,
                    26.8226480476107,
                    26.876248874827276,
                    26.929849702043857,
                    26.983450529260438,
                    27.03705135647702,
                    27.0906521836936,
                    27.144253010910177,
                    27.197853838126758,
                    27.25145466534334,
                    27.30505549255992,
                    27.3586563197765,
                    27.41225714699308,
                    27.46585797420966,
                    27.51945880142624,
                    27.57305962864282,
                    27.6266604558594,
                    27.680261283075982,
                    27.733862110292563,
                    27.78746293750914,
                    27.84106376472572,
                    27.894664591942302,
                    27.948265419158883,
                    28.001866246375464,
                    28.05546707359204,
                    28.109067900808622,
                    28.162668728025203,
                    28.216269555241784,
                    28.269870382458365,
                    28.323471209674942,
                    28.377072036891523,
                    28.430672864108104,
                    28.484273691324685,
                    28.537874518541265,
                    28.591475345757846,
                    28.645076172974427,
                    28.698677000191005,
                    28.752277827407585,
                    28.805878654624166,
                    28.859479481840747,
                    28.913080309057328,
                    28.966681136273905,
                    29.020281963490486,
                    29.073882790707067,
                    29.127483617923648,
                    29.18108444514023,
                    29.234685272356806,
                    29.288286099573387,
                    29.341886926789968,
                    29.39548775400655,
                    29.44908858122313,
                    29.502689408439707
                  ]
                },
                {
                  "line": {
                    "color": "purple"
                  },
                  "mode": "lines",
                  "name": "Full model",
                  "type": "scatter",
                  "x": [
                    "2016-01-01T00:00:00.000000000",
                    "2016-02-01T00:00:00.000000000",
                    "2016-03-01T00:00:00.000000000",
                    "2016-04-01T00:00:00.000000000",
                    "2016-05-01T00:00:00.000000000",
                    "2016-06-01T00:00:00.000000000",
                    "2016-07-01T00:00:00.000000000",
                    "2016-08-01T00:00:00.000000000",
                    "2016-09-01T00:00:00.000000000",
                    "2016-10-01T00:00:00.000000000",
                    "2016-11-01T00:00:00.000000000",
                    "2016-12-01T00:00:00.000000000",
                    "2017-01-01T00:00:00.000000000",
                    "2017-02-01T00:00:00.000000000",
                    "2017-03-01T00:00:00.000000000",
                    "2017-04-01T00:00:00.000000000",
                    "2017-05-01T00:00:00.000000000",
                    "2017-06-01T00:00:00.000000000",
                    "2017-07-01T00:00:00.000000000",
                    "2017-08-01T00:00:00.000000000",
                    "2017-09-01T00:00:00.000000000",
                    "2017-10-01T00:00:00.000000000",
                    "2017-11-01T00:00:00.000000000",
                    "2017-12-01T00:00:00.000000000",
                    "2018-01-01T00:00:00.000000000",
                    "2018-02-01T00:00:00.000000000",
                    "2018-03-01T00:00:00.000000000",
                    "2018-04-01T00:00:00.000000000",
                    "2018-05-01T00:00:00.000000000",
                    "2018-06-01T00:00:00.000000000",
                    "2018-07-01T00:00:00.000000000",
                    "2018-08-01T00:00:00.000000000",
                    "2018-09-01T00:00:00.000000000",
                    "2018-10-01T00:00:00.000000000",
                    "2018-11-01T00:00:00.000000000",
                    "2018-12-01T00:00:00.000000000",
                    "2019-01-01T00:00:00.000000000",
                    "2019-02-01T00:00:00.000000000",
                    "2019-03-01T00:00:00.000000000",
                    "2019-04-01T00:00:00.000000000",
                    "2019-05-01T00:00:00.000000000",
                    "2019-06-01T00:00:00.000000000",
                    "2019-07-01T00:00:00.000000000",
                    "2019-08-01T00:00:00.000000000",
                    "2019-09-01T00:00:00.000000000",
                    "2019-10-01T00:00:00.000000000",
                    "2019-11-01T00:00:00.000000000",
                    "2019-12-01T00:00:00.000000000",
                    "2020-01-01T00:00:00.000000000",
                    "2020-02-01T00:00:00.000000000",
                    "2020-03-01T00:00:00.000000000",
                    "2020-04-01T00:00:00.000000000",
                    "2020-05-01T00:00:00.000000000",
                    "2020-06-01T00:00:00.000000000",
                    "2020-07-01T00:00:00.000000000",
                    "2020-08-01T00:00:00.000000000",
                    "2020-09-01T00:00:00.000000000",
                    "2020-10-01T00:00:00.000000000",
                    "2020-11-01T00:00:00.000000000",
                    "2020-12-01T00:00:00.000000000",
                    "2021-01-01T00:00:00.000000000",
                    "2021-02-01T00:00:00.000000000",
                    "2021-03-01T00:00:00.000000000",
                    "2021-04-01T00:00:00.000000000",
                    "2021-05-01T00:00:00.000000000",
                    "2021-06-01T00:00:00.000000000",
                    "2021-07-01T00:00:00.000000000",
                    "2021-08-01T00:00:00.000000000",
                    "2021-09-01T00:00:00.000000000",
                    "2021-10-01T00:00:00.000000000",
                    "2021-11-01T00:00:00.000000000",
                    "2021-12-01T00:00:00.000000000",
                    "2022-01-01T00:00:00.000000000",
                    "2022-02-01T00:00:00.000000000",
                    "2022-03-01T00:00:00.000000000",
                    "2022-04-01T00:00:00.000000000",
                    "2022-05-01T00:00:00.000000000",
                    "2022-06-01T00:00:00.000000000",
                    "2022-07-01T00:00:00.000000000",
                    "2022-08-01T00:00:00.000000000",
                    "2022-09-01T00:00:00.000000000",
                    "2022-10-01T00:00:00.000000000",
                    "2022-11-01T00:00:00.000000000",
                    "2022-12-01T00:00:00.000000000",
                    "2023-01-01T00:00:00.000000000",
                    "2023-02-01T00:00:00.000000000",
                    "2023-03-01T00:00:00.000000000",
                    "2023-04-01T00:00:00.000000000",
                    "2023-05-01T00:00:00.000000000",
                    "2023-06-01T00:00:00.000000000",
                    "2023-07-01T00:00:00.000000000",
                    "2023-08-01T00:00:00.000000000",
                    "2023-09-01T00:00:00.000000000",
                    "2023-10-01T00:00:00.000000000",
                    "2023-11-01T00:00:00.000000000",
                    "2023-12-01T00:00:00.000000000",
                    "2024-01-01T00:00:00.000000000",
                    "2024-02-01T00:00:00.000000000",
                    "2024-03-01T00:00:00.000000000",
                    "2024-04-01T00:00:00.000000000",
                    "2024-05-01T00:00:00.000000000",
                    "2024-06-01T00:00:00.000000000",
                    "2024-07-01T00:00:00.000000000",
                    "2024-08-01T00:00:00.000000000",
                    "2024-09-01T00:00:00.000000000",
                    "2024-10-01T00:00:00.000000000",
                    "2024-11-01T00:00:00.000000000",
                    "2024-12-01T00:00:00.000000000"
                  ],
                  "y": [
                    23.767400896265624,
                    23.821001723482205,
                    23.874602550698782,
                    23.928203377915363,
                    23.981804205131944,
                    24.035405032348525,
                    24.089005859565106,
                    24.142606686781686,
                    24.196207513998264,
                    24.249808341214845,
                    24.303409168431426,
                    24.357009995648006,
                    24.410610822864587,
                    24.464211650081168,
                    24.517812477297745,
                    24.571413304514326,
                    24.625014131730907,
                    24.678614958947488,
                    24.73221578616407,
                    24.785816613380646,
                    24.839417440597227,
                    24.893018267813808,
                    24.94661909503039,
                    25.00021992224697,
                    25.053820749463547,
                    25.107421576680128,
                    25.16102240389671,
                    25.21462323111329,
                    25.26822405832987,
                    25.32182488554645,
                    25.37542571276303,
                    25.42902653997961,
                    25.48262736719619,
                    25.53622819441277,
                    25.589829021629352,
                    25.643429848845933,
                    25.69703067606251,
                    25.75063150327909,
                    25.804232330495672,
                    25.857833157712253,
                    25.911433984928834,
                    25.96503481214541,
                    26.018635639361992,
                    26.072236466578573,
                    26.125837293795154,
                    26.179438121011735,
                    26.233038948228312,
                    26.286639775444893,
                    26.340240602661474,
                    26.393841429878055,
                    26.447442257094636,
                    31.078193243001763,
                    30.813635993839608,
                    30.549078744677445,
                    30.284521495515285,
                    30.01996424635313,
                    29.75540699719097,
                    29.49084974802881,
                    29.22629249886665,
                    28.961735249704493,
                    28.697178000542333,
                    28.432620751380178,
                    28.16806350221802,
                    27.903506253055856,
                    27.638949003893693,
                    27.37439175473154,
                    27.109834505569385,
                    26.845277256407222,
                    26.580720007245063,
                    26.316162758082907,
                    26.051605508920744,
                    25.787048259758585,
                    25.52249101059643,
                    25.257933761434273,
                    24.993376512272114,
                    25.815536606688703,
                    25.997839787633584,
                    26.18014296857847,
                    26.36244614952335,
                    26.544749330468235,
                    26.727052511413113,
                    26.909355692357995,
                    27.09165887330288,
                    27.27396205424776,
                    27.456265235192646,
                    27.638568416137524,
                    27.820871597082405,
                    28.00317477802729,
                    28.18547795897217,
                    28.367781139917057,
                    28.550084320861934,
                    28.732387501806823,
                    28.9146906827517,
                    29.096993863696582,
                    29.279297044641467,
                    29.461600225586345,
                    29.643903406531233,
                    29.82620658747611,
                    30.008509768420993,
                    30.190812949365878,
                    30.373116130310756,
                    30.555419311255644,
                    30.737722492200522,
                    30.920025673145403,
                    31.10232885409029,
                    31.28463203503517,
                    31.466935215980055,
                    31.649238396924936
                  ]
                }
              ],
              "layout": {
                "annotations": [
                  {
                    "arrowhead": 2,
                    "ax": 30,
                    "ay": -40,
                    "showarrow": true,
                    "text": "Pandemia",
                    "x": "2020-04-01",
                    "y": 33.41441237693909
                  },
                  {
                    "arrowhead": 2,
                    "ax": 30,
                    "ay": -40,
                    "showarrow": true,
                    "text": "Pos Pandemia",
                    "x": "2022-04-01",
                    "y": 33.41441237693909
                  }
                ],
                "legend": {
                  "title": {
                    "text": "Legend"
                  }
                },
                "shapes": [
                  {
                    "line": {
                      "color": "black",
                      "dash": "dash"
                    },
                    "type": "line",
                    "x0": "2020-04-01",
                    "x1": "2020-04-01",
                    "y0": 19.24462637306556,
                    "y1": 33.41441237693909
                  },
                  {
                    "line": {
                      "color": "black",
                      "dash": "dash"
                    },
                    "type": "line",
                    "x0": "2022-04-01",
                    "x1": "2022-04-01",
                    "y0": 19.24462637306556,
                    "y1": 33.41441237693909
                  }
                ],
                "template": {
                  "data": {
                    "bar": [
                      {
                        "error_x": {
                          "color": "#2a3f5f"
                        },
                        "error_y": {
                          "color": "#2a3f5f"
                        },
                        "marker": {
                          "line": {
                            "color": "#E5ECF6",
                            "width": 0.5
                          },
                          "pattern": {
                            "fillmode": "overlay",
                            "size": 10,
                            "solidity": 0.2
                          }
                        },
                        "type": "bar"
                      }
                    ],
                    "barpolar": [
                      {
                        "marker": {
                          "line": {
                            "color": "#E5ECF6",
                            "width": 0.5
                          },
                          "pattern": {
                            "fillmode": "overlay",
                            "size": 10,
                            "solidity": 0.2
                          }
                        },
                        "type": "barpolar"
                      }
                    ],
                    "carpet": [
                      {
                        "aaxis": {
                          "endlinecolor": "#2a3f5f",
                          "gridcolor": "white",
                          "linecolor": "white",
                          "minorgridcolor": "white",
                          "startlinecolor": "#2a3f5f"
                        },
                        "baxis": {
                          "endlinecolor": "#2a3f5f",
                          "gridcolor": "white",
                          "linecolor": "white",
                          "minorgridcolor": "white",
                          "startlinecolor": "#2a3f5f"
                        },
                        "type": "carpet"
                      }
                    ],
                    "choropleth": [
                      {
                        "colorbar": {
                          "outlinewidth": 0,
                          "ticks": ""
                        },
                        "type": "choropleth"
                      }
                    ],
                    "contour": [
                      {
                        "colorbar": {
                          "outlinewidth": 0,
                          "ticks": ""
                        },
                        "colorscale": [
                          [
                            0,
                            "#0d0887"
                          ],
                          [
                            0.1111111111111111,
                            "#46039f"
                          ],
                          [
                            0.2222222222222222,
                            "#7201a8"
                          ],
                          [
                            0.3333333333333333,
                            "#9c179e"
                          ],
                          [
                            0.4444444444444444,
                            "#bd3786"
                          ],
                          [
                            0.5555555555555556,
                            "#d8576b"
                          ],
                          [
                            0.6666666666666666,
                            "#ed7953"
                          ],
                          [
                            0.7777777777777778,
                            "#fb9f3a"
                          ],
                          [
                            0.8888888888888888,
                            "#fdca26"
                          ],
                          [
                            1,
                            "#f0f921"
                          ]
                        ],
                        "type": "contour"
                      }
                    ],
                    "contourcarpet": [
                      {
                        "colorbar": {
                          "outlinewidth": 0,
                          "ticks": ""
                        },
                        "type": "contourcarpet"
                      }
                    ],
                    "heatmap": [
                      {
                        "colorbar": {
                          "outlinewidth": 0,
                          "ticks": ""
                        },
                        "colorscale": [
                          [
                            0,
                            "#0d0887"
                          ],
                          [
                            0.1111111111111111,
                            "#46039f"
                          ],
                          [
                            0.2222222222222222,
                            "#7201a8"
                          ],
                          [
                            0.3333333333333333,
                            "#9c179e"
                          ],
                          [
                            0.4444444444444444,
                            "#bd3786"
                          ],
                          [
                            0.5555555555555556,
                            "#d8576b"
                          ],
                          [
                            0.6666666666666666,
                            "#ed7953"
                          ],
                          [
                            0.7777777777777778,
                            "#fb9f3a"
                          ],
                          [
                            0.8888888888888888,
                            "#fdca26"
                          ],
                          [
                            1,
                            "#f0f921"
                          ]
                        ],
                        "type": "heatmap"
                      }
                    ],
                    "heatmapgl": [
                      {
                        "colorbar": {
                          "outlinewidth": 0,
                          "ticks": ""
                        },
                        "colorscale": [
                          [
                            0,
                            "#0d0887"
                          ],
                          [
                            0.1111111111111111,
                            "#46039f"
                          ],
                          [
                            0.2222222222222222,
                            "#7201a8"
                          ],
                          [
                            0.3333333333333333,
                            "#9c179e"
                          ],
                          [
                            0.4444444444444444,
                            "#bd3786"
                          ],
                          [
                            0.5555555555555556,
                            "#d8576b"
                          ],
                          [
                            0.6666666666666666,
                            "#ed7953"
                          ],
                          [
                            0.7777777777777778,
                            "#fb9f3a"
                          ],
                          [
                            0.8888888888888888,
                            "#fdca26"
                          ],
                          [
                            1,
                            "#f0f921"
                          ]
                        ],
                        "type": "heatmapgl"
                      }
                    ],
                    "histogram": [
                      {
                        "marker": {
                          "pattern": {
                            "fillmode": "overlay",
                            "size": 10,
                            "solidity": 0.2
                          }
                        },
                        "type": "histogram"
                      }
                    ],
                    "histogram2d": [
                      {
                        "colorbar": {
                          "outlinewidth": 0,
                          "ticks": ""
                        },
                        "colorscale": [
                          [
                            0,
                            "#0d0887"
                          ],
                          [
                            0.1111111111111111,
                            "#46039f"
                          ],
                          [
                            0.2222222222222222,
                            "#7201a8"
                          ],
                          [
                            0.3333333333333333,
                            "#9c179e"
                          ],
                          [
                            0.4444444444444444,
                            "#bd3786"
                          ],
                          [
                            0.5555555555555556,
                            "#d8576b"
                          ],
                          [
                            0.6666666666666666,
                            "#ed7953"
                          ],
                          [
                            0.7777777777777778,
                            "#fb9f3a"
                          ],
                          [
                            0.8888888888888888,
                            "#fdca26"
                          ],
                          [
                            1,
                            "#f0f921"
                          ]
                        ],
                        "type": "histogram2d"
                      }
                    ],
                    "histogram2dcontour": [
                      {
                        "colorbar": {
                          "outlinewidth": 0,
                          "ticks": ""
                        },
                        "colorscale": [
                          [
                            0,
                            "#0d0887"
                          ],
                          [
                            0.1111111111111111,
                            "#46039f"
                          ],
                          [
                            0.2222222222222222,
                            "#7201a8"
                          ],
                          [
                            0.3333333333333333,
                            "#9c179e"
                          ],
                          [
                            0.4444444444444444,
                            "#bd3786"
                          ],
                          [
                            0.5555555555555556,
                            "#d8576b"
                          ],
                          [
                            0.6666666666666666,
                            "#ed7953"
                          ],
                          [
                            0.7777777777777778,
                            "#fb9f3a"
                          ],
                          [
                            0.8888888888888888,
                            "#fdca26"
                          ],
                          [
                            1,
                            "#f0f921"
                          ]
                        ],
                        "type": "histogram2dcontour"
                      }
                    ],
                    "mesh3d": [
                      {
                        "colorbar": {
                          "outlinewidth": 0,
                          "ticks": ""
                        },
                        "type": "mesh3d"
                      }
                    ],
                    "parcoords": [
                      {
                        "line": {
                          "colorbar": {
                            "outlinewidth": 0,
                            "ticks": ""
                          }
                        },
                        "type": "parcoords"
                      }
                    ],
                    "pie": [
                      {
                        "automargin": true,
                        "type": "pie"
                      }
                    ],
                    "scatter": [
                      {
                        "fillpattern": {
                          "fillmode": "overlay",
                          "size": 10,
                          "solidity": 0.2
                        },
                        "type": "scatter"
                      }
                    ],
                    "scatter3d": [
                      {
                        "line": {
                          "colorbar": {
                            "outlinewidth": 0,
                            "ticks": ""
                          }
                        },
                        "marker": {
                          "colorbar": {
                            "outlinewidth": 0,
                            "ticks": ""
                          }
                        },
                        "type": "scatter3d"
                      }
                    ],
                    "scattercarpet": [
                      {
                        "marker": {
                          "colorbar": {
                            "outlinewidth": 0,
                            "ticks": ""
                          }
                        },
                        "type": "scattercarpet"
                      }
                    ],
                    "scattergeo": [
                      {
                        "marker": {
                          "colorbar": {
                            "outlinewidth": 0,
                            "ticks": ""
                          }
                        },
                        "type": "scattergeo"
                      }
                    ],
                    "scattergl": [
                      {
                        "marker": {
                          "colorbar": {
                            "outlinewidth": 0,
                            "ticks": ""
                          }
                        },
                        "type": "scattergl"
                      }
                    ],
                    "scattermapbox": [
                      {
                        "marker": {
                          "colorbar": {
                            "outlinewidth": 0,
                            "ticks": ""
                          }
                        },
                        "type": "scattermapbox"
                      }
                    ],
                    "scatterpolar": [
                      {
                        "marker": {
                          "colorbar": {
                            "outlinewidth": 0,
                            "ticks": ""
                          }
                        },
                        "type": "scatterpolar"
                      }
                    ],
                    "scatterpolargl": [
                      {
                        "marker": {
                          "colorbar": {
                            "outlinewidth": 0,
                            "ticks": ""
                          }
                        },
                        "type": "scatterpolargl"
                      }
                    ],
                    "scatterternary": [
                      {
                        "marker": {
                          "colorbar": {
                            "outlinewidth": 0,
                            "ticks": ""
                          }
                        },
                        "type": "scatterternary"
                      }
                    ],
                    "surface": [
                      {
                        "colorbar": {
                          "outlinewidth": 0,
                          "ticks": ""
                        },
                        "colorscale": [
                          [
                            0,
                            "#0d0887"
                          ],
                          [
                            0.1111111111111111,
                            "#46039f"
                          ],
                          [
                            0.2222222222222222,
                            "#7201a8"
                          ],
                          [
                            0.3333333333333333,
                            "#9c179e"
                          ],
                          [
                            0.4444444444444444,
                            "#bd3786"
                          ],
                          [
                            0.5555555555555556,
                            "#d8576b"
                          ],
                          [
                            0.6666666666666666,
                            "#ed7953"
                          ],
                          [
                            0.7777777777777778,
                            "#fb9f3a"
                          ],
                          [
                            0.8888888888888888,
                            "#fdca26"
                          ],
                          [
                            1,
                            "#f0f921"
                          ]
                        ],
                        "type": "surface"
                      }
                    ],
                    "table": [
                      {
                        "cells": {
                          "fill": {
                            "color": "#EBF0F8"
                          },
                          "line": {
                            "color": "white"
                          }
                        },
                        "header": {
                          "fill": {
                            "color": "#C8D4E3"
                          },
                          "line": {
                            "color": "white"
                          }
                        },
                        "type": "table"
                      }
                    ]
                  },
                  "layout": {
                    "annotationdefaults": {
                      "arrowcolor": "#2a3f5f",
                      "arrowhead": 0,
                      "arrowwidth": 1
                    },
                    "autotypenumbers": "strict",
                    "coloraxis": {
                      "colorbar": {
                        "outlinewidth": 0,
                        "ticks": ""
                      }
                    },
                    "colorscale": {
                      "diverging": [
                        [
                          0,
                          "#8e0152"
                        ],
                        [
                          0.1,
                          "#c51b7d"
                        ],
                        [
                          0.2,
                          "#de77ae"
                        ],
                        [
                          0.3,
                          "#f1b6da"
                        ],
                        [
                          0.4,
                          "#fde0ef"
                        ],
                        [
                          0.5,
                          "#f7f7f7"
                        ],
                        [
                          0.6,
                          "#e6f5d0"
                        ],
                        [
                          0.7,
                          "#b8e186"
                        ],
                        [
                          0.8,
                          "#7fbc41"
                        ],
                        [
                          0.9,
                          "#4d9221"
                        ],
                        [
                          1,
                          "#276419"
                        ]
                      ],
                      "sequential": [
                        [
                          0,
                          "#0d0887"
                        ],
                        [
                          0.1111111111111111,
                          "#46039f"
                        ],
                        [
                          0.2222222222222222,
                          "#7201a8"
                        ],
                        [
                          0.3333333333333333,
                          "#9c179e"
                        ],
                        [
                          0.4444444444444444,
                          "#bd3786"
                        ],
                        [
                          0.5555555555555556,
                          "#d8576b"
                        ],
                        [
                          0.6666666666666666,
                          "#ed7953"
                        ],
                        [
                          0.7777777777777778,
                          "#fb9f3a"
                        ],
                        [
                          0.8888888888888888,
                          "#fdca26"
                        ],
                        [
                          1,
                          "#f0f921"
                        ]
                      ],
                      "sequentialminus": [
                        [
                          0,
                          "#0d0887"
                        ],
                        [
                          0.1111111111111111,
                          "#46039f"
                        ],
                        [
                          0.2222222222222222,
                          "#7201a8"
                        ],
                        [
                          0.3333333333333333,
                          "#9c179e"
                        ],
                        [
                          0.4444444444444444,
                          "#bd3786"
                        ],
                        [
                          0.5555555555555556,
                          "#d8576b"
                        ],
                        [
                          0.6666666666666666,
                          "#ed7953"
                        ],
                        [
                          0.7777777777777778,
                          "#fb9f3a"
                        ],
                        [
                          0.8888888888888888,
                          "#fdca26"
                        ],
                        [
                          1,
                          "#f0f921"
                        ]
                      ]
                    },
                    "colorway": [
                      "#636efa",
                      "#EF553B",
                      "#00cc96",
                      "#ab63fa",
                      "#FFA15A",
                      "#19d3f3",
                      "#FF6692",
                      "#B6E880",
                      "#FF97FF",
                      "#FECB52"
                    ],
                    "font": {
                      "color": "#2a3f5f"
                    },
                    "geo": {
                      "bgcolor": "white",
                      "lakecolor": "white",
                      "landcolor": "#E5ECF6",
                      "showlakes": true,
                      "showland": true,
                      "subunitcolor": "white"
                    },
                    "hoverlabel": {
                      "align": "left"
                    },
                    "hovermode": "closest",
                    "mapbox": {
                      "style": "light"
                    },
                    "paper_bgcolor": "white",
                    "plot_bgcolor": "#E5ECF6",
                    "polar": {
                      "angularaxis": {
                        "gridcolor": "white",
                        "linecolor": "white",
                        "ticks": ""
                      },
                      "bgcolor": "#E5ECF6",
                      "radialaxis": {
                        "gridcolor": "white",
                        "linecolor": "white",
                        "ticks": ""
                      }
                    },
                    "scene": {
                      "xaxis": {
                        "backgroundcolor": "#E5ECF6",
                        "gridcolor": "white",
                        "gridwidth": 2,
                        "linecolor": "white",
                        "showbackground": true,
                        "ticks": "",
                        "zerolinecolor": "white"
                      },
                      "yaxis": {
                        "backgroundcolor": "#E5ECF6",
                        "gridcolor": "white",
                        "gridwidth": 2,
                        "linecolor": "white",
                        "showbackground": true,
                        "ticks": "",
                        "zerolinecolor": "white"
                      },
                      "zaxis": {
                        "backgroundcolor": "#E5ECF6",
                        "gridcolor": "white",
                        "gridwidth": 2,
                        "linecolor": "white",
                        "showbackground": true,
                        "ticks": "",
                        "zerolinecolor": "white"
                      }
                    },
                    "shapedefaults": {
                      "line": {
                        "color": "#2a3f5f"
                      }
                    },
                    "ternary": {
                      "aaxis": {
                        "gridcolor": "white",
                        "linecolor": "white",
                        "ticks": ""
                      },
                      "baxis": {
                        "gridcolor": "white",
                        "linecolor": "white",
                        "ticks": ""
                      },
                      "bgcolor": "#E5ECF6",
                      "caxis": {
                        "gridcolor": "white",
                        "linecolor": "white",
                        "ticks": ""
                      }
                    },
                    "title": {
                      "x": 0.05
                    },
                    "xaxis": {
                      "automargin": true,
                      "gridcolor": "white",
                      "linecolor": "white",
                      "ticks": "",
                      "title": {
                        "standoff": 15
                      },
                      "zerolinecolor": "white",
                      "zerolinewidth": 2
                    },
                    "yaxis": {
                      "automargin": true,
                      "gridcolor": "white",
                      "linecolor": "white",
                      "ticks": "",
                      "title": {
                        "standoff": 15
                      },
                      "zerolinecolor": "white",
                      "zerolinewidth": 2
                    }
                  }
                },
                "title": {
                  "text": "sul"
                },
                "xaxis": {
                  "title": {
                    "text": "Time"
                  }
                },
                "yaxis": {
                  "title": {
                    "text": "Value"
                  }
                }
              }
            }
          },
          "metadata": {},
          "output_type": "display_data"
        },
        {
          "data": {
            "application/vnd.plotly.v1+json": {
              "config": {
                "plotlyServerURL": "https://plot.ly"
              },
              "data": [
                {
                  "marker": {
                    "color": "black"
                  },
                  "mode": "markers",
                  "name": "Real",
                  "type": "scatter",
                  "x": [
                    "2016-01-01T00:00:00.000000000",
                    "2016-02-01T00:00:00.000000000",
                    "2016-03-01T00:00:00.000000000",
                    "2016-04-01T00:00:00.000000000",
                    "2016-05-01T00:00:00.000000000",
                    "2016-06-01T00:00:00.000000000",
                    "2016-07-01T00:00:00.000000000",
                    "2016-08-01T00:00:00.000000000",
                    "2016-09-01T00:00:00.000000000",
                    "2016-10-01T00:00:00.000000000",
                    "2016-11-01T00:00:00.000000000",
                    "2016-12-01T00:00:00.000000000",
                    "2017-01-01T00:00:00.000000000",
                    "2017-02-01T00:00:00.000000000",
                    "2017-03-01T00:00:00.000000000",
                    "2017-04-01T00:00:00.000000000",
                    "2017-05-01T00:00:00.000000000",
                    "2017-06-01T00:00:00.000000000",
                    "2017-07-01T00:00:00.000000000",
                    "2017-08-01T00:00:00.000000000",
                    "2017-09-01T00:00:00.000000000",
                    "2017-10-01T00:00:00.000000000",
                    "2017-11-01T00:00:00.000000000",
                    "2017-12-01T00:00:00.000000000",
                    "2018-01-01T00:00:00.000000000",
                    "2018-02-01T00:00:00.000000000",
                    "2018-03-01T00:00:00.000000000",
                    "2018-04-01T00:00:00.000000000",
                    "2018-05-01T00:00:00.000000000",
                    "2018-06-01T00:00:00.000000000",
                    "2018-07-01T00:00:00.000000000",
                    "2018-08-01T00:00:00.000000000",
                    "2018-09-01T00:00:00.000000000",
                    "2018-10-01T00:00:00.000000000",
                    "2018-11-01T00:00:00.000000000",
                    "2018-12-01T00:00:00.000000000",
                    "2019-01-01T00:00:00.000000000",
                    "2019-02-01T00:00:00.000000000",
                    "2019-03-01T00:00:00.000000000",
                    "2019-04-01T00:00:00.000000000",
                    "2019-05-01T00:00:00.000000000",
                    "2019-06-01T00:00:00.000000000",
                    "2019-07-01T00:00:00.000000000",
                    "2019-08-01T00:00:00.000000000",
                    "2019-09-01T00:00:00.000000000",
                    "2019-10-01T00:00:00.000000000",
                    "2019-11-01T00:00:00.000000000",
                    "2019-12-01T00:00:00.000000000",
                    "2020-01-01T00:00:00.000000000",
                    "2020-02-01T00:00:00.000000000",
                    "2020-03-01T00:00:00.000000000",
                    "2020-04-01T00:00:00.000000000",
                    "2020-05-01T00:00:00.000000000",
                    "2020-06-01T00:00:00.000000000",
                    "2020-07-01T00:00:00.000000000",
                    "2020-08-01T00:00:00.000000000",
                    "2020-09-01T00:00:00.000000000",
                    "2020-10-01T00:00:00.000000000",
                    "2020-11-01T00:00:00.000000000",
                    "2020-12-01T00:00:00.000000000",
                    "2021-01-01T00:00:00.000000000",
                    "2021-02-01T00:00:00.000000000",
                    "2021-03-01T00:00:00.000000000",
                    "2021-04-01T00:00:00.000000000",
                    "2021-05-01T00:00:00.000000000",
                    "2021-06-01T00:00:00.000000000",
                    "2021-07-01T00:00:00.000000000",
                    "2021-08-01T00:00:00.000000000",
                    "2021-09-01T00:00:00.000000000",
                    "2021-10-01T00:00:00.000000000",
                    "2021-11-01T00:00:00.000000000",
                    "2021-12-01T00:00:00.000000000",
                    "2022-01-01T00:00:00.000000000",
                    "2022-02-01T00:00:00.000000000",
                    "2022-03-01T00:00:00.000000000",
                    "2022-04-01T00:00:00.000000000",
                    "2022-05-01T00:00:00.000000000",
                    "2022-06-01T00:00:00.000000000",
                    "2022-07-01T00:00:00.000000000",
                    "2022-08-01T00:00:00.000000000",
                    "2022-09-01T00:00:00.000000000",
                    "2022-10-01T00:00:00.000000000",
                    "2022-11-01T00:00:00.000000000",
                    "2022-12-01T00:00:00.000000000",
                    "2023-01-01T00:00:00.000000000",
                    "2023-02-01T00:00:00.000000000",
                    "2023-03-01T00:00:00.000000000",
                    "2023-04-01T00:00:00.000000000",
                    "2023-05-01T00:00:00.000000000",
                    "2023-06-01T00:00:00.000000000",
                    "2023-07-01T00:00:00.000000000",
                    "2023-08-01T00:00:00.000000000",
                    "2023-09-01T00:00:00.000000000",
                    "2023-10-01T00:00:00.000000000",
                    "2023-11-01T00:00:00.000000000",
                    "2023-12-01T00:00:00.000000000",
                    "2024-01-01T00:00:00.000000000",
                    "2024-02-01T00:00:00.000000000",
                    "2024-03-01T00:00:00.000000000",
                    "2024-04-01T00:00:00.000000000",
                    "2024-05-01T00:00:00.000000000",
                    "2024-06-01T00:00:00.000000000",
                    "2024-07-01T00:00:00.000000000",
                    "2024-08-01T00:00:00.000000000",
                    "2024-09-01T00:00:00.000000000",
                    "2024-10-01T00:00:00.000000000",
                    "2024-11-01T00:00:00.000000000",
                    "2024-12-01T00:00:00.000000000"
                  ],
                  "y": [
                    16.21476353922419,
                    11.50081305717404,
                    10.74775003398551,
                    10.96721406951991,
                    11.30103385568393,
                    11.50675837651441,
                    11.24098207612927,
                    10.99509605189297,
                    12.14665085054689,
                    12.60059643011841,
                    13.00051514493001,
                    14.3646053101693,
                    14.23616468867614,
                    14.76148735758716,
                    14.76188696749204,
                    15.14359134501428,
                    14.41020960786623,
                    15.45102450408731,
                    15.36138150781766,
                    15.58814298124823,
                    17.06505228557409,
                    18.06155750906033,
                    17.84190947812578,
                    18.05480018412292,
                    17.66984509464858,
                    18.18518730872556,
                    17.95045378577926,
                    18.72909079918519,
                    18.08135020838474,
                    19.56274308315385,
                    18.8856404157346,
                    19.79311460853184,
                    19.75988756269921,
                    20.33716367344779,
                    20.63169704718812,
                    20.21829717908362,
                    19.64045317824733,
                    20.27488278756325,
                    20.42430459809838,
                    19.63190214919149,
                    19.97401196430323,
                    20.77808414973822,
                    22.08271127151851,
                    24.09753919330329,
                    24.50879652856174,
                    24.61146428133453,
                    24.58628536464395,
                    24.81857492401945,
                    24.28588082691289,
                    25.16391699328533,
                    25.16449319005751,
                    31.586773731311,
                    30.04770398432218,
                    28.70785063666342,
                    26.89334084734408,
                    27.74223470570267,
                    28.79176363441885,
                    28.10866990685818,
                    27.53772506425007,
                    27.09318190041782,
                    25.65523646839251,
                    27.27636216803361,
                    26.2061040320222,
                    28.22230211244873,
                    26.45031579131651,
                    26.57161578031634,
                    28.13149961384647,
                    29.40814456535118,
                    30.03777349027119,
                    29.98090772016616,
                    29.08297268614871,
                    27.12568154008039,
                    20.50091788014112,
                    27.46122565051776,
                    28.6866289662284,
                    28.65669234181554,
                    27.09992907510253,
                    25.45315785729112,
                    25.48703224608595,
                    26.94913417637992,
                    29.74795136807938,
                    29.17274461050485,
                    28.43675667261734,
                    28.67752865677373,
                    29.80827743003414,
                    30.71403873939195,
                    29.41020297275323,
                    29.08985624468322,
                    29.7212127795134,
                    30.51921502187427,
                    31.19524540609261,
                    32.40851061232789,
                    33.15369701414679,
                    32.60872485606843,
                    32.36564873933189,
                    32.43238065832724,
                    32.22385739421809,
                    30.75951211608506,
                    28.15716133364882,
                    29.06898657189423,
                    30.5624130123724,
                    31.57533744315084,
                    32.59123306696037,
                    33.70667079457516,
                    33.54226283422123,
                    33.40932597857896,
                    33.45113347693,
                    32.50169407996058
                  ]
                },
                {
                  "line": {
                    "color": "black",
                    "dash": "dot"
                  },
                  "mode": "lines",
                  "name": "Baseline",
                  "type": "scatter",
                  "x": [
                    "2016-01-01T00:00:00.000000000",
                    "2016-02-01T00:00:00.000000000",
                    "2016-03-01T00:00:00.000000000",
                    "2016-04-01T00:00:00.000000000",
                    "2016-05-01T00:00:00.000000000",
                    "2016-06-01T00:00:00.000000000",
                    "2016-07-01T00:00:00.000000000",
                    "2016-08-01T00:00:00.000000000",
                    "2016-09-01T00:00:00.000000000",
                    "2016-10-01T00:00:00.000000000",
                    "2016-11-01T00:00:00.000000000",
                    "2016-12-01T00:00:00.000000000",
                    "2017-01-01T00:00:00.000000000",
                    "2017-02-01T00:00:00.000000000",
                    "2017-03-01T00:00:00.000000000",
                    "2017-04-01T00:00:00.000000000",
                    "2017-05-01T00:00:00.000000000",
                    "2017-06-01T00:00:00.000000000",
                    "2017-07-01T00:00:00.000000000",
                    "2017-08-01T00:00:00.000000000",
                    "2017-09-01T00:00:00.000000000",
                    "2017-10-01T00:00:00.000000000",
                    "2017-11-01T00:00:00.000000000",
                    "2017-12-01T00:00:00.000000000",
                    "2018-01-01T00:00:00.000000000",
                    "2018-02-01T00:00:00.000000000",
                    "2018-03-01T00:00:00.000000000",
                    "2018-04-01T00:00:00.000000000",
                    "2018-05-01T00:00:00.000000000",
                    "2018-06-01T00:00:00.000000000",
                    "2018-07-01T00:00:00.000000000",
                    "2018-08-01T00:00:00.000000000",
                    "2018-09-01T00:00:00.000000000",
                    "2018-10-01T00:00:00.000000000",
                    "2018-11-01T00:00:00.000000000",
                    "2018-12-01T00:00:00.000000000",
                    "2019-01-01T00:00:00.000000000",
                    "2019-02-01T00:00:00.000000000",
                    "2019-03-01T00:00:00.000000000",
                    "2019-04-01T00:00:00.000000000",
                    "2019-05-01T00:00:00.000000000",
                    "2019-06-01T00:00:00.000000000",
                    "2019-07-01T00:00:00.000000000",
                    "2019-08-01T00:00:00.000000000",
                    "2019-09-01T00:00:00.000000000",
                    "2019-10-01T00:00:00.000000000",
                    "2019-11-01T00:00:00.000000000",
                    "2019-12-01T00:00:00.000000000",
                    "2020-01-01T00:00:00.000000000",
                    "2020-02-01T00:00:00.000000000",
                    "2020-03-01T00:00:00.000000000",
                    "2020-04-01T00:00:00.000000000",
                    "2020-05-01T00:00:00.000000000",
                    "2020-06-01T00:00:00.000000000",
                    "2020-07-01T00:00:00.000000000",
                    "2020-08-01T00:00:00.000000000",
                    "2020-09-01T00:00:00.000000000",
                    "2020-10-01T00:00:00.000000000",
                    "2020-11-01T00:00:00.000000000",
                    "2020-12-01T00:00:00.000000000",
                    "2021-01-01T00:00:00.000000000",
                    "2021-02-01T00:00:00.000000000",
                    "2021-03-01T00:00:00.000000000",
                    "2021-04-01T00:00:00.000000000",
                    "2021-05-01T00:00:00.000000000",
                    "2021-06-01T00:00:00.000000000",
                    "2021-07-01T00:00:00.000000000",
                    "2021-08-01T00:00:00.000000000",
                    "2021-09-01T00:00:00.000000000",
                    "2021-10-01T00:00:00.000000000",
                    "2021-11-01T00:00:00.000000000",
                    "2021-12-01T00:00:00.000000000",
                    "2022-01-01T00:00:00.000000000",
                    "2022-02-01T00:00:00.000000000",
                    "2022-03-01T00:00:00.000000000",
                    "2022-04-01T00:00:00.000000000",
                    "2022-05-01T00:00:00.000000000",
                    "2022-06-01T00:00:00.000000000",
                    "2022-07-01T00:00:00.000000000",
                    "2022-08-01T00:00:00.000000000",
                    "2022-09-01T00:00:00.000000000",
                    "2022-10-01T00:00:00.000000000",
                    "2022-11-01T00:00:00.000000000",
                    "2022-12-01T00:00:00.000000000",
                    "2023-01-01T00:00:00.000000000",
                    "2023-02-01T00:00:00.000000000",
                    "2023-03-01T00:00:00.000000000",
                    "2023-04-01T00:00:00.000000000",
                    "2023-05-01T00:00:00.000000000",
                    "2023-06-01T00:00:00.000000000",
                    "2023-07-01T00:00:00.000000000",
                    "2023-08-01T00:00:00.000000000",
                    "2023-09-01T00:00:00.000000000",
                    "2023-10-01T00:00:00.000000000",
                    "2023-11-01T00:00:00.000000000",
                    "2023-12-01T00:00:00.000000000",
                    "2024-01-01T00:00:00.000000000",
                    "2024-02-01T00:00:00.000000000",
                    "2024-03-01T00:00:00.000000000",
                    "2024-04-01T00:00:00.000000000",
                    "2024-05-01T00:00:00.000000000",
                    "2024-06-01T00:00:00.000000000",
                    "2024-07-01T00:00:00.000000000",
                    "2024-08-01T00:00:00.000000000",
                    "2024-09-01T00:00:00.000000000",
                    "2024-10-01T00:00:00.000000000",
                    "2024-11-01T00:00:00.000000000",
                    "2024-12-01T00:00:00.000000000"
                  ],
                  "y": [
                    10.01320804105603,
                    10.312111546991137,
                    10.611015052926241,
                    10.909918558861348,
                    11.208822064796452,
                    11.507725570731559,
                    11.806629076666663,
                    12.10553258260177,
                    12.404436088536874,
                    12.70333959447198,
                    13.002243100407085,
                    13.30114660634219,
                    13.600050112277296,
                    13.898953618212403,
                    14.197857124147507,
                    14.496760630082612,
                    14.795664136017718,
                    15.094567641952825,
                    15.39347114788793,
                    15.692374653823034,
                    15.99127815975814,
                    16.290181665693247,
                    16.58908517162835,
                    16.887988677563456,
                    17.18689218349856,
                    17.485795689433665,
                    17.784699195368773,
                    18.083602701303878,
                    18.382506207238983,
                    18.68140971317409,
                    18.980313219109195,
                    19.2792167250443,
                    19.578120230979405,
                    19.87702373691451,
                    20.175927242849617,
                    20.474830748784722,
                    20.773734254719827,
                    21.072637760654935,
                    21.371541266590036,
                    21.670444772525144,
                    21.96934827846025,
                    22.268251784395353,
                    22.56715529033046,
                    22.866058796265566,
                    23.16496230220067,
                    23.46386580813578,
                    23.76276931407088,
                    24.061672820005988,
                    24.360576325941093,
                    24.659479831876197,
                    24.958383337811306,
                    25.257286843746407,
                    25.556190349681515,
                    25.855093855616623,
                    26.153997361551724,
                    26.452900867486832,
                    26.751804373421933,
                    27.05070787935704,
                    27.34961138529215,
                    27.64851489122725,
                    27.94741839716236,
                    28.246321903097467,
                    28.545225409032568,
                    28.844128914967676,
                    29.143032420902777,
                    29.441935926837886,
                    29.740839432772994,
                    30.039742938708095,
                    30.338646444643203,
                    30.637549950578304,
                    30.936453456513412,
                    31.23535696244852,
                    31.53426046838362,
                    31.83316397431873,
                    32.13206748025384,
                    32.43097098618894,
                    32.72987449212405,
                    33.02877799805915,
                    33.327681503994256,
                    33.626585009929364,
                    33.925488515864465,
                    34.224392021799574,
                    34.523295527734675,
                    34.82219903366978,
                    35.12110253960489,
                    35.42000604553999,
                    35.7189095514751,
                    36.01781305741021,
                    36.31671656334531,
                    36.61562006928042,
                    36.91452357521552,
                    37.21342708115063,
                    37.512330587085735,
                    37.811234093020836,
                    38.110137598955944,
                    38.409041104891045,
                    38.707944610826154,
                    39.00684811676126,
                    39.30575162269636,
                    39.60465512863147,
                    39.90355863456658,
                    40.20246214050168,
                    40.50136564643679,
                    40.80026915237189,
                    41.099172658307,
                    41.398076164242106,
                    41.69697967017721,
                    41.995883176112315
                  ]
                },
                {
                  "line": {
                    "color": "purple"
                  },
                  "mode": "lines",
                  "name": "Full model",
                  "type": "scatter",
                  "x": [
                    "2016-01-01T00:00:00.000000000",
                    "2016-02-01T00:00:00.000000000",
                    "2016-03-01T00:00:00.000000000",
                    "2016-04-01T00:00:00.000000000",
                    "2016-05-01T00:00:00.000000000",
                    "2016-06-01T00:00:00.000000000",
                    "2016-07-01T00:00:00.000000000",
                    "2016-08-01T00:00:00.000000000",
                    "2016-09-01T00:00:00.000000000",
                    "2016-10-01T00:00:00.000000000",
                    "2016-11-01T00:00:00.000000000",
                    "2016-12-01T00:00:00.000000000",
                    "2017-01-01T00:00:00.000000000",
                    "2017-02-01T00:00:00.000000000",
                    "2017-03-01T00:00:00.000000000",
                    "2017-04-01T00:00:00.000000000",
                    "2017-05-01T00:00:00.000000000",
                    "2017-06-01T00:00:00.000000000",
                    "2017-07-01T00:00:00.000000000",
                    "2017-08-01T00:00:00.000000000",
                    "2017-09-01T00:00:00.000000000",
                    "2017-10-01T00:00:00.000000000",
                    "2017-11-01T00:00:00.000000000",
                    "2017-12-01T00:00:00.000000000",
                    "2018-01-01T00:00:00.000000000",
                    "2018-02-01T00:00:00.000000000",
                    "2018-03-01T00:00:00.000000000",
                    "2018-04-01T00:00:00.000000000",
                    "2018-05-01T00:00:00.000000000",
                    "2018-06-01T00:00:00.000000000",
                    "2018-07-01T00:00:00.000000000",
                    "2018-08-01T00:00:00.000000000",
                    "2018-09-01T00:00:00.000000000",
                    "2018-10-01T00:00:00.000000000",
                    "2018-11-01T00:00:00.000000000",
                    "2018-12-01T00:00:00.000000000",
                    "2019-01-01T00:00:00.000000000",
                    "2019-02-01T00:00:00.000000000",
                    "2019-03-01T00:00:00.000000000",
                    "2019-04-01T00:00:00.000000000",
                    "2019-05-01T00:00:00.000000000",
                    "2019-06-01T00:00:00.000000000",
                    "2019-07-01T00:00:00.000000000",
                    "2019-08-01T00:00:00.000000000",
                    "2019-09-01T00:00:00.000000000",
                    "2019-10-01T00:00:00.000000000",
                    "2019-11-01T00:00:00.000000000",
                    "2019-12-01T00:00:00.000000000",
                    "2020-01-01T00:00:00.000000000",
                    "2020-02-01T00:00:00.000000000",
                    "2020-03-01T00:00:00.000000000",
                    "2020-04-01T00:00:00.000000000",
                    "2020-05-01T00:00:00.000000000",
                    "2020-06-01T00:00:00.000000000",
                    "2020-07-01T00:00:00.000000000",
                    "2020-08-01T00:00:00.000000000",
                    "2020-09-01T00:00:00.000000000",
                    "2020-10-01T00:00:00.000000000",
                    "2020-11-01T00:00:00.000000000",
                    "2020-12-01T00:00:00.000000000",
                    "2021-01-01T00:00:00.000000000",
                    "2021-02-01T00:00:00.000000000",
                    "2021-03-01T00:00:00.000000000",
                    "2021-04-01T00:00:00.000000000",
                    "2021-05-01T00:00:00.000000000",
                    "2021-06-01T00:00:00.000000000",
                    "2021-07-01T00:00:00.000000000",
                    "2021-08-01T00:00:00.000000000",
                    "2021-09-01T00:00:00.000000000",
                    "2021-10-01T00:00:00.000000000",
                    "2021-11-01T00:00:00.000000000",
                    "2021-12-01T00:00:00.000000000",
                    "2022-01-01T00:00:00.000000000",
                    "2022-02-01T00:00:00.000000000",
                    "2022-03-01T00:00:00.000000000",
                    "2022-04-01T00:00:00.000000000",
                    "2022-05-01T00:00:00.000000000",
                    "2022-06-01T00:00:00.000000000",
                    "2022-07-01T00:00:00.000000000",
                    "2022-08-01T00:00:00.000000000",
                    "2022-09-01T00:00:00.000000000",
                    "2022-10-01T00:00:00.000000000",
                    "2022-11-01T00:00:00.000000000",
                    "2022-12-01T00:00:00.000000000",
                    "2023-01-01T00:00:00.000000000",
                    "2023-02-01T00:00:00.000000000",
                    "2023-03-01T00:00:00.000000000",
                    "2023-04-01T00:00:00.000000000",
                    "2023-05-01T00:00:00.000000000",
                    "2023-06-01T00:00:00.000000000",
                    "2023-07-01T00:00:00.000000000",
                    "2023-08-01T00:00:00.000000000",
                    "2023-09-01T00:00:00.000000000",
                    "2023-10-01T00:00:00.000000000",
                    "2023-11-01T00:00:00.000000000",
                    "2023-12-01T00:00:00.000000000",
                    "2024-01-01T00:00:00.000000000",
                    "2024-02-01T00:00:00.000000000",
                    "2024-03-01T00:00:00.000000000",
                    "2024-04-01T00:00:00.000000000",
                    "2024-05-01T00:00:00.000000000",
                    "2024-06-01T00:00:00.000000000",
                    "2024-07-01T00:00:00.000000000",
                    "2024-08-01T00:00:00.000000000",
                    "2024-09-01T00:00:00.000000000",
                    "2024-10-01T00:00:00.000000000",
                    "2024-11-01T00:00:00.000000000",
                    "2024-12-01T00:00:00.000000000"
                  ],
                  "y": [
                    10.01320804105603,
                    10.312111546991137,
                    10.611015052926241,
                    10.909918558861348,
                    11.208822064796452,
                    11.507725570731559,
                    11.806629076666663,
                    12.10553258260177,
                    12.404436088536874,
                    12.70333959447198,
                    13.002243100407085,
                    13.30114660634219,
                    13.600050112277296,
                    13.898953618212403,
                    14.197857124147507,
                    14.496760630082612,
                    14.795664136017718,
                    15.094567641952825,
                    15.39347114788793,
                    15.692374653823034,
                    15.99127815975814,
                    16.290181665693247,
                    16.58908517162835,
                    16.887988677563456,
                    17.18689218349856,
                    17.485795689433665,
                    17.784699195368773,
                    18.083602701303878,
                    18.382506207238983,
                    18.68140971317409,
                    18.980313219109195,
                    19.2792167250443,
                    19.578120230979405,
                    19.87702373691451,
                    20.175927242849617,
                    20.474830748784722,
                    20.773734254719827,
                    21.072637760654935,
                    21.371541266590036,
                    21.670444772525144,
                    21.96934827846025,
                    22.268251784395353,
                    22.56715529033046,
                    22.866058796265566,
                    23.16496230220067,
                    23.46386580813578,
                    23.76276931407088,
                    24.061672820005988,
                    24.360576325941093,
                    24.659479831876197,
                    24.958383337811306,
                    29.101372005516893,
                    29.004543723864455,
                    28.907715442212012,
                    28.810887160559567,
                    28.714058878907128,
                    28.617230597254682,
                    28.52040231560224,
                    28.4235740339498,
                    28.326745752297356,
                    28.229917470644914,
                    28.13308918899247,
                    28.03626090734003,
                    27.939432625687587,
                    27.84260434403514,
                    27.745776062382703,
                    27.64894778073026,
                    27.552119499077815,
                    27.455291217425376,
                    27.35846293577293,
                    27.261634654120492,
                    27.16480637246805,
                    27.067978090815604,
                    26.971149809163165,
                    26.874321527510727,
                    27.320426127102852,
                    27.510327575686553,
                    27.700229024270243,
                    27.890130472853944,
                    28.080031921437644,
                    28.269933370021338,
                    28.45983481860504,
                    28.64973626718873,
                    28.83963771577243,
                    29.02953916435613,
                    29.219440612939824,
                    29.409342061523525,
                    29.599243510107225,
                    29.789144958690915,
                    29.979046407274616,
                    30.16894785585831,
                    30.35884930444201,
                    30.54875075302571,
                    30.738652201609405,
                    30.928553650193102,
                    31.118455098776796,
                    31.308356547360496,
                    31.498257995944197,
                    31.68815944452789,
                    31.878060893111588,
                    32.06796234169529,
                    32.25786379027898,
                    32.44776523886268,
                    32.63766668744638,
                    32.827568136030074,
                    33.01746958461378,
                    33.20737103319747,
                    33.397272481781165
                  ]
                }
              ],
              "layout": {
                "annotations": [
                  {
                    "arrowhead": 2,
                    "ax": 30,
                    "ay": -40,
                    "showarrow": true,
                    "text": "Pandemia",
                    "x": "2020-04-01",
                    "y": 33.70667079457516
                  },
                  {
                    "arrowhead": 2,
                    "ax": 30,
                    "ay": -40,
                    "showarrow": true,
                    "text": "Pos Pandemia",
                    "x": "2022-04-01",
                    "y": 33.70667079457516
                  }
                ],
                "legend": {
                  "title": {
                    "text": "Legend"
                  }
                },
                "shapes": [
                  {
                    "line": {
                      "color": "black",
                      "dash": "dash"
                    },
                    "type": "line",
                    "x0": "2020-04-01",
                    "x1": "2020-04-01",
                    "y0": 10.74775003398551,
                    "y1": 33.70667079457516
                  },
                  {
                    "line": {
                      "color": "black",
                      "dash": "dash"
                    },
                    "type": "line",
                    "x0": "2022-04-01",
                    "x1": "2022-04-01",
                    "y0": 10.74775003398551,
                    "y1": 33.70667079457516
                  }
                ],
                "template": {
                  "data": {
                    "bar": [
                      {
                        "error_x": {
                          "color": "#2a3f5f"
                        },
                        "error_y": {
                          "color": "#2a3f5f"
                        },
                        "marker": {
                          "line": {
                            "color": "#E5ECF6",
                            "width": 0.5
                          },
                          "pattern": {
                            "fillmode": "overlay",
                            "size": 10,
                            "solidity": 0.2
                          }
                        },
                        "type": "bar"
                      }
                    ],
                    "barpolar": [
                      {
                        "marker": {
                          "line": {
                            "color": "#E5ECF6",
                            "width": 0.5
                          },
                          "pattern": {
                            "fillmode": "overlay",
                            "size": 10,
                            "solidity": 0.2
                          }
                        },
                        "type": "barpolar"
                      }
                    ],
                    "carpet": [
                      {
                        "aaxis": {
                          "endlinecolor": "#2a3f5f",
                          "gridcolor": "white",
                          "linecolor": "white",
                          "minorgridcolor": "white",
                          "startlinecolor": "#2a3f5f"
                        },
                        "baxis": {
                          "endlinecolor": "#2a3f5f",
                          "gridcolor": "white",
                          "linecolor": "white",
                          "minorgridcolor": "white",
                          "startlinecolor": "#2a3f5f"
                        },
                        "type": "carpet"
                      }
                    ],
                    "choropleth": [
                      {
                        "colorbar": {
                          "outlinewidth": 0,
                          "ticks": ""
                        },
                        "type": "choropleth"
                      }
                    ],
                    "contour": [
                      {
                        "colorbar": {
                          "outlinewidth": 0,
                          "ticks": ""
                        },
                        "colorscale": [
                          [
                            0,
                            "#0d0887"
                          ],
                          [
                            0.1111111111111111,
                            "#46039f"
                          ],
                          [
                            0.2222222222222222,
                            "#7201a8"
                          ],
                          [
                            0.3333333333333333,
                            "#9c179e"
                          ],
                          [
                            0.4444444444444444,
                            "#bd3786"
                          ],
                          [
                            0.5555555555555556,
                            "#d8576b"
                          ],
                          [
                            0.6666666666666666,
                            "#ed7953"
                          ],
                          [
                            0.7777777777777778,
                            "#fb9f3a"
                          ],
                          [
                            0.8888888888888888,
                            "#fdca26"
                          ],
                          [
                            1,
                            "#f0f921"
                          ]
                        ],
                        "type": "contour"
                      }
                    ],
                    "contourcarpet": [
                      {
                        "colorbar": {
                          "outlinewidth": 0,
                          "ticks": ""
                        },
                        "type": "contourcarpet"
                      }
                    ],
                    "heatmap": [
                      {
                        "colorbar": {
                          "outlinewidth": 0,
                          "ticks": ""
                        },
                        "colorscale": [
                          [
                            0,
                            "#0d0887"
                          ],
                          [
                            0.1111111111111111,
                            "#46039f"
                          ],
                          [
                            0.2222222222222222,
                            "#7201a8"
                          ],
                          [
                            0.3333333333333333,
                            "#9c179e"
                          ],
                          [
                            0.4444444444444444,
                            "#bd3786"
                          ],
                          [
                            0.5555555555555556,
                            "#d8576b"
                          ],
                          [
                            0.6666666666666666,
                            "#ed7953"
                          ],
                          [
                            0.7777777777777778,
                            "#fb9f3a"
                          ],
                          [
                            0.8888888888888888,
                            "#fdca26"
                          ],
                          [
                            1,
                            "#f0f921"
                          ]
                        ],
                        "type": "heatmap"
                      }
                    ],
                    "heatmapgl": [
                      {
                        "colorbar": {
                          "outlinewidth": 0,
                          "ticks": ""
                        },
                        "colorscale": [
                          [
                            0,
                            "#0d0887"
                          ],
                          [
                            0.1111111111111111,
                            "#46039f"
                          ],
                          [
                            0.2222222222222222,
                            "#7201a8"
                          ],
                          [
                            0.3333333333333333,
                            "#9c179e"
                          ],
                          [
                            0.4444444444444444,
                            "#bd3786"
                          ],
                          [
                            0.5555555555555556,
                            "#d8576b"
                          ],
                          [
                            0.6666666666666666,
                            "#ed7953"
                          ],
                          [
                            0.7777777777777778,
                            "#fb9f3a"
                          ],
                          [
                            0.8888888888888888,
                            "#fdca26"
                          ],
                          [
                            1,
                            "#f0f921"
                          ]
                        ],
                        "type": "heatmapgl"
                      }
                    ],
                    "histogram": [
                      {
                        "marker": {
                          "pattern": {
                            "fillmode": "overlay",
                            "size": 10,
                            "solidity": 0.2
                          }
                        },
                        "type": "histogram"
                      }
                    ],
                    "histogram2d": [
                      {
                        "colorbar": {
                          "outlinewidth": 0,
                          "ticks": ""
                        },
                        "colorscale": [
                          [
                            0,
                            "#0d0887"
                          ],
                          [
                            0.1111111111111111,
                            "#46039f"
                          ],
                          [
                            0.2222222222222222,
                            "#7201a8"
                          ],
                          [
                            0.3333333333333333,
                            "#9c179e"
                          ],
                          [
                            0.4444444444444444,
                            "#bd3786"
                          ],
                          [
                            0.5555555555555556,
                            "#d8576b"
                          ],
                          [
                            0.6666666666666666,
                            "#ed7953"
                          ],
                          [
                            0.7777777777777778,
                            "#fb9f3a"
                          ],
                          [
                            0.8888888888888888,
                            "#fdca26"
                          ],
                          [
                            1,
                            "#f0f921"
                          ]
                        ],
                        "type": "histogram2d"
                      }
                    ],
                    "histogram2dcontour": [
                      {
                        "colorbar": {
                          "outlinewidth": 0,
                          "ticks": ""
                        },
                        "colorscale": [
                          [
                            0,
                            "#0d0887"
                          ],
                          [
                            0.1111111111111111,
                            "#46039f"
                          ],
                          [
                            0.2222222222222222,
                            "#7201a8"
                          ],
                          [
                            0.3333333333333333,
                            "#9c179e"
                          ],
                          [
                            0.4444444444444444,
                            "#bd3786"
                          ],
                          [
                            0.5555555555555556,
                            "#d8576b"
                          ],
                          [
                            0.6666666666666666,
                            "#ed7953"
                          ],
                          [
                            0.7777777777777778,
                            "#fb9f3a"
                          ],
                          [
                            0.8888888888888888,
                            "#fdca26"
                          ],
                          [
                            1,
                            "#f0f921"
                          ]
                        ],
                        "type": "histogram2dcontour"
                      }
                    ],
                    "mesh3d": [
                      {
                        "colorbar": {
                          "outlinewidth": 0,
                          "ticks": ""
                        },
                        "type": "mesh3d"
                      }
                    ],
                    "parcoords": [
                      {
                        "line": {
                          "colorbar": {
                            "outlinewidth": 0,
                            "ticks": ""
                          }
                        },
                        "type": "parcoords"
                      }
                    ],
                    "pie": [
                      {
                        "automargin": true,
                        "type": "pie"
                      }
                    ],
                    "scatter": [
                      {
                        "fillpattern": {
                          "fillmode": "overlay",
                          "size": 10,
                          "solidity": 0.2
                        },
                        "type": "scatter"
                      }
                    ],
                    "scatter3d": [
                      {
                        "line": {
                          "colorbar": {
                            "outlinewidth": 0,
                            "ticks": ""
                          }
                        },
                        "marker": {
                          "colorbar": {
                            "outlinewidth": 0,
                            "ticks": ""
                          }
                        },
                        "type": "scatter3d"
                      }
                    ],
                    "scattercarpet": [
                      {
                        "marker": {
                          "colorbar": {
                            "outlinewidth": 0,
                            "ticks": ""
                          }
                        },
                        "type": "scattercarpet"
                      }
                    ],
                    "scattergeo": [
                      {
                        "marker": {
                          "colorbar": {
                            "outlinewidth": 0,
                            "ticks": ""
                          }
                        },
                        "type": "scattergeo"
                      }
                    ],
                    "scattergl": [
                      {
                        "marker": {
                          "colorbar": {
                            "outlinewidth": 0,
                            "ticks": ""
                          }
                        },
                        "type": "scattergl"
                      }
                    ],
                    "scattermapbox": [
                      {
                        "marker": {
                          "colorbar": {
                            "outlinewidth": 0,
                            "ticks": ""
                          }
                        },
                        "type": "scattermapbox"
                      }
                    ],
                    "scatterpolar": [
                      {
                        "marker": {
                          "colorbar": {
                            "outlinewidth": 0,
                            "ticks": ""
                          }
                        },
                        "type": "scatterpolar"
                      }
                    ],
                    "scatterpolargl": [
                      {
                        "marker": {
                          "colorbar": {
                            "outlinewidth": 0,
                            "ticks": ""
                          }
                        },
                        "type": "scatterpolargl"
                      }
                    ],
                    "scatterternary": [
                      {
                        "marker": {
                          "colorbar": {
                            "outlinewidth": 0,
                            "ticks": ""
                          }
                        },
                        "type": "scatterternary"
                      }
                    ],
                    "surface": [
                      {
                        "colorbar": {
                          "outlinewidth": 0,
                          "ticks": ""
                        },
                        "colorscale": [
                          [
                            0,
                            "#0d0887"
                          ],
                          [
                            0.1111111111111111,
                            "#46039f"
                          ],
                          [
                            0.2222222222222222,
                            "#7201a8"
                          ],
                          [
                            0.3333333333333333,
                            "#9c179e"
                          ],
                          [
                            0.4444444444444444,
                            "#bd3786"
                          ],
                          [
                            0.5555555555555556,
                            "#d8576b"
                          ],
                          [
                            0.6666666666666666,
                            "#ed7953"
                          ],
                          [
                            0.7777777777777778,
                            "#fb9f3a"
                          ],
                          [
                            0.8888888888888888,
                            "#fdca26"
                          ],
                          [
                            1,
                            "#f0f921"
                          ]
                        ],
                        "type": "surface"
                      }
                    ],
                    "table": [
                      {
                        "cells": {
                          "fill": {
                            "color": "#EBF0F8"
                          },
                          "line": {
                            "color": "white"
                          }
                        },
                        "header": {
                          "fill": {
                            "color": "#C8D4E3"
                          },
                          "line": {
                            "color": "white"
                          }
                        },
                        "type": "table"
                      }
                    ]
                  },
                  "layout": {
                    "annotationdefaults": {
                      "arrowcolor": "#2a3f5f",
                      "arrowhead": 0,
                      "arrowwidth": 1
                    },
                    "autotypenumbers": "strict",
                    "coloraxis": {
                      "colorbar": {
                        "outlinewidth": 0,
                        "ticks": ""
                      }
                    },
                    "colorscale": {
                      "diverging": [
                        [
                          0,
                          "#8e0152"
                        ],
                        [
                          0.1,
                          "#c51b7d"
                        ],
                        [
                          0.2,
                          "#de77ae"
                        ],
                        [
                          0.3,
                          "#f1b6da"
                        ],
                        [
                          0.4,
                          "#fde0ef"
                        ],
                        [
                          0.5,
                          "#f7f7f7"
                        ],
                        [
                          0.6,
                          "#e6f5d0"
                        ],
                        [
                          0.7,
                          "#b8e186"
                        ],
                        [
                          0.8,
                          "#7fbc41"
                        ],
                        [
                          0.9,
                          "#4d9221"
                        ],
                        [
                          1,
                          "#276419"
                        ]
                      ],
                      "sequential": [
                        [
                          0,
                          "#0d0887"
                        ],
                        [
                          0.1111111111111111,
                          "#46039f"
                        ],
                        [
                          0.2222222222222222,
                          "#7201a8"
                        ],
                        [
                          0.3333333333333333,
                          "#9c179e"
                        ],
                        [
                          0.4444444444444444,
                          "#bd3786"
                        ],
                        [
                          0.5555555555555556,
                          "#d8576b"
                        ],
                        [
                          0.6666666666666666,
                          "#ed7953"
                        ],
                        [
                          0.7777777777777778,
                          "#fb9f3a"
                        ],
                        [
                          0.8888888888888888,
                          "#fdca26"
                        ],
                        [
                          1,
                          "#f0f921"
                        ]
                      ],
                      "sequentialminus": [
                        [
                          0,
                          "#0d0887"
                        ],
                        [
                          0.1111111111111111,
                          "#46039f"
                        ],
                        [
                          0.2222222222222222,
                          "#7201a8"
                        ],
                        [
                          0.3333333333333333,
                          "#9c179e"
                        ],
                        [
                          0.4444444444444444,
                          "#bd3786"
                        ],
                        [
                          0.5555555555555556,
                          "#d8576b"
                        ],
                        [
                          0.6666666666666666,
                          "#ed7953"
                        ],
                        [
                          0.7777777777777778,
                          "#fb9f3a"
                        ],
                        [
                          0.8888888888888888,
                          "#fdca26"
                        ],
                        [
                          1,
                          "#f0f921"
                        ]
                      ]
                    },
                    "colorway": [
                      "#636efa",
                      "#EF553B",
                      "#00cc96",
                      "#ab63fa",
                      "#FFA15A",
                      "#19d3f3",
                      "#FF6692",
                      "#B6E880",
                      "#FF97FF",
                      "#FECB52"
                    ],
                    "font": {
                      "color": "#2a3f5f"
                    },
                    "geo": {
                      "bgcolor": "white",
                      "lakecolor": "white",
                      "landcolor": "#E5ECF6",
                      "showlakes": true,
                      "showland": true,
                      "subunitcolor": "white"
                    },
                    "hoverlabel": {
                      "align": "left"
                    },
                    "hovermode": "closest",
                    "mapbox": {
                      "style": "light"
                    },
                    "paper_bgcolor": "white",
                    "plot_bgcolor": "#E5ECF6",
                    "polar": {
                      "angularaxis": {
                        "gridcolor": "white",
                        "linecolor": "white",
                        "ticks": ""
                      },
                      "bgcolor": "#E5ECF6",
                      "radialaxis": {
                        "gridcolor": "white",
                        "linecolor": "white",
                        "ticks": ""
                      }
                    },
                    "scene": {
                      "xaxis": {
                        "backgroundcolor": "#E5ECF6",
                        "gridcolor": "white",
                        "gridwidth": 2,
                        "linecolor": "white",
                        "showbackground": true,
                        "ticks": "",
                        "zerolinecolor": "white"
                      },
                      "yaxis": {
                        "backgroundcolor": "#E5ECF6",
                        "gridcolor": "white",
                        "gridwidth": 2,
                        "linecolor": "white",
                        "showbackground": true,
                        "ticks": "",
                        "zerolinecolor": "white"
                      },
                      "zaxis": {
                        "backgroundcolor": "#E5ECF6",
                        "gridcolor": "white",
                        "gridwidth": 2,
                        "linecolor": "white",
                        "showbackground": true,
                        "ticks": "",
                        "zerolinecolor": "white"
                      }
                    },
                    "shapedefaults": {
                      "line": {
                        "color": "#2a3f5f"
                      }
                    },
                    "ternary": {
                      "aaxis": {
                        "gridcolor": "white",
                        "linecolor": "white",
                        "ticks": ""
                      },
                      "baxis": {
                        "gridcolor": "white",
                        "linecolor": "white",
                        "ticks": ""
                      },
                      "bgcolor": "#E5ECF6",
                      "caxis": {
                        "gridcolor": "white",
                        "linecolor": "white",
                        "ticks": ""
                      }
                    },
                    "title": {
                      "x": 0.05
                    },
                    "xaxis": {
                      "automargin": true,
                      "gridcolor": "white",
                      "linecolor": "white",
                      "ticks": "",
                      "title": {
                        "standoff": 15
                      },
                      "zerolinecolor": "white",
                      "zerolinewidth": 2
                    },
                    "yaxis": {
                      "automargin": true,
                      "gridcolor": "white",
                      "linecolor": "white",
                      "ticks": "",
                      "title": {
                        "standoff": 15
                      },
                      "zerolinecolor": "white",
                      "zerolinewidth": 2
                    }
                  }
                },
                "title": {
                  "text": "sudeste"
                },
                "xaxis": {
                  "title": {
                    "text": "Time"
                  }
                },
                "yaxis": {
                  "title": {
                    "text": "Value"
                  }
                }
              }
            }
          },
          "metadata": {},
          "output_type": "display_data"
        },
        {
          "data": {
            "application/vnd.plotly.v1+json": {
              "config": {
                "plotlyServerURL": "https://plot.ly"
              },
              "data": [
                {
                  "marker": {
                    "color": "black"
                  },
                  "mode": "markers",
                  "name": "Real",
                  "type": "scatter",
                  "x": [
                    "2016-01-01T00:00:00.000000000",
                    "2016-02-01T00:00:00.000000000",
                    "2016-03-01T00:00:00.000000000",
                    "2016-04-01T00:00:00.000000000",
                    "2016-05-01T00:00:00.000000000",
                    "2016-06-01T00:00:00.000000000",
                    "2016-07-01T00:00:00.000000000",
                    "2016-08-01T00:00:00.000000000",
                    "2016-09-01T00:00:00.000000000",
                    "2016-10-01T00:00:00.000000000",
                    "2016-11-01T00:00:00.000000000",
                    "2016-12-01T00:00:00.000000000",
                    "2017-01-01T00:00:00.000000000",
                    "2017-02-01T00:00:00.000000000",
                    "2017-03-01T00:00:00.000000000",
                    "2017-04-01T00:00:00.000000000",
                    "2017-05-01T00:00:00.000000000",
                    "2017-06-01T00:00:00.000000000",
                    "2017-07-01T00:00:00.000000000",
                    "2017-08-01T00:00:00.000000000",
                    "2017-09-01T00:00:00.000000000",
                    "2017-10-01T00:00:00.000000000",
                    "2017-11-01T00:00:00.000000000",
                    "2017-12-01T00:00:00.000000000",
                    "2018-01-01T00:00:00.000000000",
                    "2018-02-01T00:00:00.000000000",
                    "2018-03-01T00:00:00.000000000",
                    "2018-04-01T00:00:00.000000000",
                    "2018-05-01T00:00:00.000000000",
                    "2018-06-01T00:00:00.000000000",
                    "2018-07-01T00:00:00.000000000",
                    "2018-08-01T00:00:00.000000000",
                    "2018-09-01T00:00:00.000000000",
                    "2018-10-01T00:00:00.000000000",
                    "2018-11-01T00:00:00.000000000",
                    "2018-12-01T00:00:00.000000000",
                    "2019-01-01T00:00:00.000000000",
                    "2019-02-01T00:00:00.000000000",
                    "2019-03-01T00:00:00.000000000",
                    "2019-04-01T00:00:00.000000000",
                    "2019-05-01T00:00:00.000000000",
                    "2019-06-01T00:00:00.000000000",
                    "2019-07-01T00:00:00.000000000",
                    "2019-08-01T00:00:00.000000000",
                    "2019-09-01T00:00:00.000000000",
                    "2019-10-01T00:00:00.000000000",
                    "2019-11-01T00:00:00.000000000",
                    "2019-12-01T00:00:00.000000000",
                    "2020-01-01T00:00:00.000000000",
                    "2020-02-01T00:00:00.000000000",
                    "2020-03-01T00:00:00.000000000",
                    "2020-04-01T00:00:00.000000000",
                    "2020-05-01T00:00:00.000000000",
                    "2020-06-01T00:00:00.000000000",
                    "2020-07-01T00:00:00.000000000",
                    "2020-08-01T00:00:00.000000000",
                    "2020-09-01T00:00:00.000000000",
                    "2020-10-01T00:00:00.000000000",
                    "2020-11-01T00:00:00.000000000",
                    "2020-12-01T00:00:00.000000000",
                    "2021-01-01T00:00:00.000000000",
                    "2021-02-01T00:00:00.000000000",
                    "2021-03-01T00:00:00.000000000",
                    "2021-04-01T00:00:00.000000000",
                    "2021-05-01T00:00:00.000000000",
                    "2021-06-01T00:00:00.000000000",
                    "2021-07-01T00:00:00.000000000",
                    "2021-08-01T00:00:00.000000000",
                    "2021-09-01T00:00:00.000000000",
                    "2021-10-01T00:00:00.000000000",
                    "2021-11-01T00:00:00.000000000",
                    "2021-12-01T00:00:00.000000000",
                    "2022-01-01T00:00:00.000000000",
                    "2022-02-01T00:00:00.000000000",
                    "2022-03-01T00:00:00.000000000",
                    "2022-04-01T00:00:00.000000000",
                    "2022-05-01T00:00:00.000000000",
                    "2022-06-01T00:00:00.000000000",
                    "2022-07-01T00:00:00.000000000",
                    "2022-08-01T00:00:00.000000000",
                    "2022-09-01T00:00:00.000000000",
                    "2022-10-01T00:00:00.000000000",
                    "2022-11-01T00:00:00.000000000",
                    "2022-12-01T00:00:00.000000000",
                    "2023-01-01T00:00:00.000000000",
                    "2023-02-01T00:00:00.000000000",
                    "2023-03-01T00:00:00.000000000",
                    "2023-04-01T00:00:00.000000000",
                    "2023-05-01T00:00:00.000000000",
                    "2023-06-01T00:00:00.000000000",
                    "2023-07-01T00:00:00.000000000",
                    "2023-08-01T00:00:00.000000000",
                    "2023-09-01T00:00:00.000000000",
                    "2023-10-01T00:00:00.000000000",
                    "2023-11-01T00:00:00.000000000",
                    "2023-12-01T00:00:00.000000000",
                    "2024-01-01T00:00:00.000000000",
                    "2024-02-01T00:00:00.000000000",
                    "2024-03-01T00:00:00.000000000",
                    "2024-04-01T00:00:00.000000000",
                    "2024-05-01T00:00:00.000000000",
                    "2024-06-01T00:00:00.000000000",
                    "2024-07-01T00:00:00.000000000",
                    "2024-08-01T00:00:00.000000000",
                    "2024-09-01T00:00:00.000000000",
                    "2024-10-01T00:00:00.000000000",
                    "2024-11-01T00:00:00.000000000",
                    "2024-12-01T00:00:00.000000000"
                  ],
                  "y": [
                    5.946742295242025,
                    6.282080560599972,
                    5.749588998456467,
                    5.270734376769087,
                    5.774105374287252,
                    5.853646140297892,
                    5.820463368075251,
                    6.022456617897244,
                    6.074463563669807,
                    6.282226041604931,
                    5.648787204446263,
                    6.793883749100293,
                    5.6674780538125,
                    5.52117598003852,
                    5.789346006569311,
                    6.354995019331746,
                    6.566993159655165,
                    6.999759364234214,
                    7.363053505434842,
                    8.049273495070526,
                    8.412000579738152,
                    8.525509463499244,
                    8.634763390824384,
                    9.01394386959536,
                    8.426878377532496,
                    9.050068807384093,
                    8.67128636295594,
                    9.003563032092885,
                    8.946915263045474,
                    9.85363419072711,
                    10.18498462071654,
                    10.93943397939202,
                    11.12393624794146,
                    10.51460142528347,
                    10.53826304293151,
                    10.1086444204282,
                    9.362107703378983,
                    10.23760184618283,
                    9.994076723847575,
                    9.876069967851242,
                    10.5031117700733,
                    10.76431043835404,
                    11.15787009671675,
                    11.68303432636565,
                    11.57504450893173,
                    11.43590140042548,
                    11.3218819269249,
                    11.69453110301163,
                    11.44348074407114,
                    11.72749793708963,
                    12.48112114080995,
                    16.41169791383895,
                    14.93699256292307,
                    13.08196440700497,
                    12.38522172659647,
                    11.47179472172888,
                    11.72590457436471,
                    13.00458165652481,
                    13.08146777987525,
                    11.88752844942424,
                    10.94626999393923,
                    11.71584489933529,
                    12.21625000482322,
                    12.91208232066572,
                    12.92277955011887,
                    13.45435025955578,
                    14.21854183359691,
                    14.74692173650176,
                    16.0327135580898,
                    15.77560104485153,
                    15.35410940716806,
                    13.64475848939895,
                    11.4248020008585,
                    15.58832484499557,
                    16.44608981712346,
                    16.283862121541,
                    16.5680328466483,
                    15.49311605699172,
                    13.98745438109564,
                    16.2882985055335,
                    18.76634942281161,
                    17.57714366590432,
                    16.83442569398649,
                    16.26427375562621,
                    17.60421342430499,
                    17.96585094150507,
                    17.06535563678213,
                    17.44833545703531,
                    18.6659136437238,
                    18.79174383617419,
                    19.40603602429905,
                    20.64930826562128,
                    21.72522583191797,
                    21.74317528453239,
                    21.09626470929183,
                    20.74673632862094,
                    21.55884686022729,
                    22.14956484877846,
                    21.59064330970126,
                    21.54963233907448,
                    23.13370927442053,
                    23.51791938386824,
                    23.99369979141201,
                    24.44329735907107,
                    25.49793225231075,
                    26.3312160374557,
                    24.64300250591354,
                    24.77775239021014
                  ]
                },
                {
                  "line": {
                    "color": "black",
                    "dash": "dot"
                  },
                  "mode": "lines",
                  "name": "Baseline",
                  "type": "scatter",
                  "x": [
                    "2016-01-01T00:00:00.000000000",
                    "2016-02-01T00:00:00.000000000",
                    "2016-03-01T00:00:00.000000000",
                    "2016-04-01T00:00:00.000000000",
                    "2016-05-01T00:00:00.000000000",
                    "2016-06-01T00:00:00.000000000",
                    "2016-07-01T00:00:00.000000000",
                    "2016-08-01T00:00:00.000000000",
                    "2016-09-01T00:00:00.000000000",
                    "2016-10-01T00:00:00.000000000",
                    "2016-11-01T00:00:00.000000000",
                    "2016-12-01T00:00:00.000000000",
                    "2017-01-01T00:00:00.000000000",
                    "2017-02-01T00:00:00.000000000",
                    "2017-03-01T00:00:00.000000000",
                    "2017-04-01T00:00:00.000000000",
                    "2017-05-01T00:00:00.000000000",
                    "2017-06-01T00:00:00.000000000",
                    "2017-07-01T00:00:00.000000000",
                    "2017-08-01T00:00:00.000000000",
                    "2017-09-01T00:00:00.000000000",
                    "2017-10-01T00:00:00.000000000",
                    "2017-11-01T00:00:00.000000000",
                    "2017-12-01T00:00:00.000000000",
                    "2018-01-01T00:00:00.000000000",
                    "2018-02-01T00:00:00.000000000",
                    "2018-03-01T00:00:00.000000000",
                    "2018-04-01T00:00:00.000000000",
                    "2018-05-01T00:00:00.000000000",
                    "2018-06-01T00:00:00.000000000",
                    "2018-07-01T00:00:00.000000000",
                    "2018-08-01T00:00:00.000000000",
                    "2018-09-01T00:00:00.000000000",
                    "2018-10-01T00:00:00.000000000",
                    "2018-11-01T00:00:00.000000000",
                    "2018-12-01T00:00:00.000000000",
                    "2019-01-01T00:00:00.000000000",
                    "2019-02-01T00:00:00.000000000",
                    "2019-03-01T00:00:00.000000000",
                    "2019-04-01T00:00:00.000000000",
                    "2019-05-01T00:00:00.000000000",
                    "2019-06-01T00:00:00.000000000",
                    "2019-07-01T00:00:00.000000000",
                    "2019-08-01T00:00:00.000000000",
                    "2019-09-01T00:00:00.000000000",
                    "2019-10-01T00:00:00.000000000",
                    "2019-11-01T00:00:00.000000000",
                    "2019-12-01T00:00:00.000000000",
                    "2020-01-01T00:00:00.000000000",
                    "2020-02-01T00:00:00.000000000",
                    "2020-03-01T00:00:00.000000000",
                    "2020-04-01T00:00:00.000000000",
                    "2020-05-01T00:00:00.000000000",
                    "2020-06-01T00:00:00.000000000",
                    "2020-07-01T00:00:00.000000000",
                    "2020-08-01T00:00:00.000000000",
                    "2020-09-01T00:00:00.000000000",
                    "2020-10-01T00:00:00.000000000",
                    "2020-11-01T00:00:00.000000000",
                    "2020-12-01T00:00:00.000000000",
                    "2021-01-01T00:00:00.000000000",
                    "2021-02-01T00:00:00.000000000",
                    "2021-03-01T00:00:00.000000000",
                    "2021-04-01T00:00:00.000000000",
                    "2021-05-01T00:00:00.000000000",
                    "2021-06-01T00:00:00.000000000",
                    "2021-07-01T00:00:00.000000000",
                    "2021-08-01T00:00:00.000000000",
                    "2021-09-01T00:00:00.000000000",
                    "2021-10-01T00:00:00.000000000",
                    "2021-11-01T00:00:00.000000000",
                    "2021-12-01T00:00:00.000000000",
                    "2022-01-01T00:00:00.000000000",
                    "2022-02-01T00:00:00.000000000",
                    "2022-03-01T00:00:00.000000000",
                    "2022-04-01T00:00:00.000000000",
                    "2022-05-01T00:00:00.000000000",
                    "2022-06-01T00:00:00.000000000",
                    "2022-07-01T00:00:00.000000000",
                    "2022-08-01T00:00:00.000000000",
                    "2022-09-01T00:00:00.000000000",
                    "2022-10-01T00:00:00.000000000",
                    "2022-11-01T00:00:00.000000000",
                    "2022-12-01T00:00:00.000000000",
                    "2023-01-01T00:00:00.000000000",
                    "2023-02-01T00:00:00.000000000",
                    "2023-03-01T00:00:00.000000000",
                    "2023-04-01T00:00:00.000000000",
                    "2023-05-01T00:00:00.000000000",
                    "2023-06-01T00:00:00.000000000",
                    "2023-07-01T00:00:00.000000000",
                    "2023-08-01T00:00:00.000000000",
                    "2023-09-01T00:00:00.000000000",
                    "2023-10-01T00:00:00.000000000",
                    "2023-11-01T00:00:00.000000000",
                    "2023-12-01T00:00:00.000000000",
                    "2024-01-01T00:00:00.000000000",
                    "2024-02-01T00:00:00.000000000",
                    "2024-03-01T00:00:00.000000000",
                    "2024-04-01T00:00:00.000000000",
                    "2024-05-01T00:00:00.000000000",
                    "2024-06-01T00:00:00.000000000",
                    "2024-07-01T00:00:00.000000000",
                    "2024-08-01T00:00:00.000000000",
                    "2024-09-01T00:00:00.000000000",
                    "2024-10-01T00:00:00.000000000",
                    "2024-11-01T00:00:00.000000000",
                    "2024-12-01T00:00:00.000000000"
                  ],
                  "y": [
                    5.233386773825931,
                    5.361085586617471,
                    5.4887843994090115,
                    5.616483212200553,
                    5.744182024992093,
                    5.871880837783634,
                    5.999579650575174,
                    6.127278463366714,
                    6.254977276158255,
                    6.382676088949795,
                    6.510374901741336,
                    6.638073714532876,
                    6.765772527324417,
                    6.8934713401159575,
                    7.021170152907498,
                    7.148868965699038,
                    7.276567778490579,
                    7.404266591282119,
                    7.531965404073659,
                    7.659664216865201,
                    7.78736302965674,
                    7.9150618424482815,
                    8.042760655239821,
                    8.170459468031362,
                    8.298158280822904,
                    8.425857093614443,
                    8.553555906405984,
                    8.681254719197524,
                    8.808953531989065,
                    8.936652344780605,
                    9.064351157572146,
                    9.192049970363687,
                    9.319748783155227,
                    9.447447595946766,
                    9.575146408738307,
                    9.702845221529849,
                    9.830544034321388,
                    9.95824284711293,
                    10.08594165990447,
                    10.21364047269601,
                    10.34133928548755,
                    10.469038098279091,
                    10.596736911070632,
                    10.724435723862172,
                    10.852134536653713,
                    10.979833349445254,
                    11.107532162236794,
                    11.235230975028333,
                    11.362929787819875,
                    11.490628600611416,
                    11.618327413402955,
                    11.746026226194495,
                    11.873725038986038,
                    12.001423851777577,
                    12.129122664569117,
                    12.256821477360658,
                    12.3845202901522,
                    12.512219102943739,
                    12.639917915735278,
                    12.767616728526821,
                    12.89531554131836,
                    13.0230143541099,
                    13.15071316690144,
                    13.278411979692983,
                    13.406110792484522,
                    13.533809605276062,
                    13.661508418067605,
                    13.789207230859144,
                    13.916906043650684,
                    14.044604856442223,
                    14.172303669233766,
                    14.300002482025306,
                    14.427701294816845,
                    14.555400107608389,
                    14.683098920399928,
                    14.810797733191468,
                    14.938496545983007,
                    15.06619535877455,
                    15.19389417156609,
                    15.321592984357629,
                    15.449291797149172,
                    15.576990609940712,
                    15.704689422732251,
                    15.83238823552379,
                    15.960087048315334,
                    16.087785861106873,
                    16.215484673898413,
                    16.343183486689956,
                    16.470882299481495,
                    16.598581112273035,
                    16.726279925064574,
                    16.853978737856117,
                    16.981677550647657,
                    17.109376363439196,
                    17.237075176230736,
                    17.36477398902228,
                    17.49247280181382,
                    17.620171614605358,
                    17.7478704273969,
                    17.87556924018844,
                    18.00326805297998,
                    18.13096686577152,
                    18.258665678563062,
                    18.386364491354602,
                    18.51406330414614,
                    18.641762116937684,
                    18.769460929729224,
                    18.897159742520763
                  ]
                },
                {
                  "line": {
                    "color": "purple"
                  },
                  "mode": "lines",
                  "name": "Full model",
                  "type": "scatter",
                  "x": [
                    "2016-01-01T00:00:00.000000000",
                    "2016-02-01T00:00:00.000000000",
                    "2016-03-01T00:00:00.000000000",
                    "2016-04-01T00:00:00.000000000",
                    "2016-05-01T00:00:00.000000000",
                    "2016-06-01T00:00:00.000000000",
                    "2016-07-01T00:00:00.000000000",
                    "2016-08-01T00:00:00.000000000",
                    "2016-09-01T00:00:00.000000000",
                    "2016-10-01T00:00:00.000000000",
                    "2016-11-01T00:00:00.000000000",
                    "2016-12-01T00:00:00.000000000",
                    "2017-01-01T00:00:00.000000000",
                    "2017-02-01T00:00:00.000000000",
                    "2017-03-01T00:00:00.000000000",
                    "2017-04-01T00:00:00.000000000",
                    "2017-05-01T00:00:00.000000000",
                    "2017-06-01T00:00:00.000000000",
                    "2017-07-01T00:00:00.000000000",
                    "2017-08-01T00:00:00.000000000",
                    "2017-09-01T00:00:00.000000000",
                    "2017-10-01T00:00:00.000000000",
                    "2017-11-01T00:00:00.000000000",
                    "2017-12-01T00:00:00.000000000",
                    "2018-01-01T00:00:00.000000000",
                    "2018-02-01T00:00:00.000000000",
                    "2018-03-01T00:00:00.000000000",
                    "2018-04-01T00:00:00.000000000",
                    "2018-05-01T00:00:00.000000000",
                    "2018-06-01T00:00:00.000000000",
                    "2018-07-01T00:00:00.000000000",
                    "2018-08-01T00:00:00.000000000",
                    "2018-09-01T00:00:00.000000000",
                    "2018-10-01T00:00:00.000000000",
                    "2018-11-01T00:00:00.000000000",
                    "2018-12-01T00:00:00.000000000",
                    "2019-01-01T00:00:00.000000000",
                    "2019-02-01T00:00:00.000000000",
                    "2019-03-01T00:00:00.000000000",
                    "2019-04-01T00:00:00.000000000",
                    "2019-05-01T00:00:00.000000000",
                    "2019-06-01T00:00:00.000000000",
                    "2019-07-01T00:00:00.000000000",
                    "2019-08-01T00:00:00.000000000",
                    "2019-09-01T00:00:00.000000000",
                    "2019-10-01T00:00:00.000000000",
                    "2019-11-01T00:00:00.000000000",
                    "2019-12-01T00:00:00.000000000",
                    "2020-01-01T00:00:00.000000000",
                    "2020-02-01T00:00:00.000000000",
                    "2020-03-01T00:00:00.000000000",
                    "2020-04-01T00:00:00.000000000",
                    "2020-05-01T00:00:00.000000000",
                    "2020-06-01T00:00:00.000000000",
                    "2020-07-01T00:00:00.000000000",
                    "2020-08-01T00:00:00.000000000",
                    "2020-09-01T00:00:00.000000000",
                    "2020-10-01T00:00:00.000000000",
                    "2020-11-01T00:00:00.000000000",
                    "2020-12-01T00:00:00.000000000",
                    "2021-01-01T00:00:00.000000000",
                    "2021-02-01T00:00:00.000000000",
                    "2021-03-01T00:00:00.000000000",
                    "2021-04-01T00:00:00.000000000",
                    "2021-05-01T00:00:00.000000000",
                    "2021-06-01T00:00:00.000000000",
                    "2021-07-01T00:00:00.000000000",
                    "2021-08-01T00:00:00.000000000",
                    "2021-09-01T00:00:00.000000000",
                    "2021-10-01T00:00:00.000000000",
                    "2021-11-01T00:00:00.000000000",
                    "2021-12-01T00:00:00.000000000",
                    "2022-01-01T00:00:00.000000000",
                    "2022-02-01T00:00:00.000000000",
                    "2022-03-01T00:00:00.000000000",
                    "2022-04-01T00:00:00.000000000",
                    "2022-05-01T00:00:00.000000000",
                    "2022-06-01T00:00:00.000000000",
                    "2022-07-01T00:00:00.000000000",
                    "2022-08-01T00:00:00.000000000",
                    "2022-09-01T00:00:00.000000000",
                    "2022-10-01T00:00:00.000000000",
                    "2022-11-01T00:00:00.000000000",
                    "2022-12-01T00:00:00.000000000",
                    "2023-01-01T00:00:00.000000000",
                    "2023-02-01T00:00:00.000000000",
                    "2023-03-01T00:00:00.000000000",
                    "2023-04-01T00:00:00.000000000",
                    "2023-05-01T00:00:00.000000000",
                    "2023-06-01T00:00:00.000000000",
                    "2023-07-01T00:00:00.000000000",
                    "2023-08-01T00:00:00.000000000",
                    "2023-09-01T00:00:00.000000000",
                    "2023-10-01T00:00:00.000000000",
                    "2023-11-01T00:00:00.000000000",
                    "2023-12-01T00:00:00.000000000",
                    "2024-01-01T00:00:00.000000000",
                    "2024-02-01T00:00:00.000000000",
                    "2024-03-01T00:00:00.000000000",
                    "2024-04-01T00:00:00.000000000",
                    "2024-05-01T00:00:00.000000000",
                    "2024-06-01T00:00:00.000000000",
                    "2024-07-01T00:00:00.000000000",
                    "2024-08-01T00:00:00.000000000",
                    "2024-09-01T00:00:00.000000000",
                    "2024-10-01T00:00:00.000000000",
                    "2024-11-01T00:00:00.000000000",
                    "2024-12-01T00:00:00.000000000"
                  ],
                  "y": [
                    5.233386773825931,
                    5.361085586617471,
                    5.4887843994090115,
                    5.616483212200553,
                    5.744182024992093,
                    5.871880837783634,
                    5.999579650575174,
                    6.127278463366714,
                    6.254977276158255,
                    6.382676088949795,
                    6.510374901741336,
                    6.638073714532876,
                    6.765772527324417,
                    6.8934713401159575,
                    7.021170152907498,
                    7.148868965699038,
                    7.276567778490579,
                    7.404266591282119,
                    7.531965404073659,
                    7.659664216865201,
                    7.78736302965674,
                    7.9150618424482815,
                    8.042760655239821,
                    8.170459468031362,
                    8.298158280822904,
                    8.425857093614443,
                    8.553555906405984,
                    8.681254719197524,
                    8.808953531989065,
                    8.936652344780605,
                    9.064351157572146,
                    9.192049970363687,
                    9.319748783155227,
                    9.447447595946766,
                    9.575146408738307,
                    9.702845221529849,
                    9.830544034321388,
                    9.95824284711293,
                    10.08594165990447,
                    10.21364047269601,
                    10.34133928548755,
                    10.469038098279091,
                    10.596736911070632,
                    10.724435723862172,
                    10.852134536653713,
                    10.979833349445254,
                    11.107532162236794,
                    11.235230975028333,
                    11.362929787819875,
                    11.490628600611416,
                    11.618327413402955,
                    13.82132538486886,
                    13.843703341468323,
                    13.866081298067785,
                    13.888459254667247,
                    13.910837211266708,
                    13.933215167866171,
                    13.955593124465631,
                    13.977971081065093,
                    14.000349037664558,
                    14.022726994264017,
                    14.045104950863479,
                    14.067482907462939,
                    14.089860864062404,
                    14.112238820661865,
                    14.134616777261325,
                    14.15699473386079,
                    14.179372690460252,
                    14.20175064705971,
                    14.224128603659175,
                    14.246506560258638,
                    14.268884516858096,
                    14.29126247345756,
                    14.313640430057024,
                    14.336018386656482,
                    14.68655531011283,
                    15.019226046817572,
                    15.351896783522317,
                    15.68456752022706,
                    16.0172382569318,
                    16.349908993636546,
                    16.68257973034129,
                    17.01525046704603,
                    17.347921203750772,
                    17.680591940455518,
                    18.01326267716026,
                    18.345933413865,
                    18.678604150569747,
                    19.01127488727449,
                    19.34394562397923,
                    19.676616360683973,
                    20.009287097388718,
                    20.34195783409346,
                    20.674628570798205,
                    21.007299307502947,
                    21.33997004420769,
                    21.67264078091243,
                    22.005311517617173,
                    22.337982254321922,
                    22.670652991026664,
                    23.003323727731406,
                    23.335994464436148,
                    23.668665201140893,
                    24.001335937845635,
                    24.334006674550377,
                    24.666677411255122,
                    24.999348147959864,
                    25.332018884664606
                  ]
                }
              ],
              "layout": {
                "annotations": [
                  {
                    "arrowhead": 2,
                    "ax": 30,
                    "ay": -40,
                    "showarrow": true,
                    "text": "Pandemia",
                    "x": "2020-04-01",
                    "y": 26.3312160374557
                  },
                  {
                    "arrowhead": 2,
                    "ax": 30,
                    "ay": -40,
                    "showarrow": true,
                    "text": "Pos Pandemia",
                    "x": "2022-04-01",
                    "y": 26.3312160374557
                  }
                ],
                "legend": {
                  "title": {
                    "text": "Legend"
                  }
                },
                "shapes": [
                  {
                    "line": {
                      "color": "black",
                      "dash": "dash"
                    },
                    "type": "line",
                    "x0": "2020-04-01",
                    "x1": "2020-04-01",
                    "y0": 5.270734376769087,
                    "y1": 26.3312160374557
                  },
                  {
                    "line": {
                      "color": "black",
                      "dash": "dash"
                    },
                    "type": "line",
                    "x0": "2022-04-01",
                    "x1": "2022-04-01",
                    "y0": 5.270734376769087,
                    "y1": 26.3312160374557
                  }
                ],
                "template": {
                  "data": {
                    "bar": [
                      {
                        "error_x": {
                          "color": "#2a3f5f"
                        },
                        "error_y": {
                          "color": "#2a3f5f"
                        },
                        "marker": {
                          "line": {
                            "color": "#E5ECF6",
                            "width": 0.5
                          },
                          "pattern": {
                            "fillmode": "overlay",
                            "size": 10,
                            "solidity": 0.2
                          }
                        },
                        "type": "bar"
                      }
                    ],
                    "barpolar": [
                      {
                        "marker": {
                          "line": {
                            "color": "#E5ECF6",
                            "width": 0.5
                          },
                          "pattern": {
                            "fillmode": "overlay",
                            "size": 10,
                            "solidity": 0.2
                          }
                        },
                        "type": "barpolar"
                      }
                    ],
                    "carpet": [
                      {
                        "aaxis": {
                          "endlinecolor": "#2a3f5f",
                          "gridcolor": "white",
                          "linecolor": "white",
                          "minorgridcolor": "white",
                          "startlinecolor": "#2a3f5f"
                        },
                        "baxis": {
                          "endlinecolor": "#2a3f5f",
                          "gridcolor": "white",
                          "linecolor": "white",
                          "minorgridcolor": "white",
                          "startlinecolor": "#2a3f5f"
                        },
                        "type": "carpet"
                      }
                    ],
                    "choropleth": [
                      {
                        "colorbar": {
                          "outlinewidth": 0,
                          "ticks": ""
                        },
                        "type": "choropleth"
                      }
                    ],
                    "contour": [
                      {
                        "colorbar": {
                          "outlinewidth": 0,
                          "ticks": ""
                        },
                        "colorscale": [
                          [
                            0,
                            "#0d0887"
                          ],
                          [
                            0.1111111111111111,
                            "#46039f"
                          ],
                          [
                            0.2222222222222222,
                            "#7201a8"
                          ],
                          [
                            0.3333333333333333,
                            "#9c179e"
                          ],
                          [
                            0.4444444444444444,
                            "#bd3786"
                          ],
                          [
                            0.5555555555555556,
                            "#d8576b"
                          ],
                          [
                            0.6666666666666666,
                            "#ed7953"
                          ],
                          [
                            0.7777777777777778,
                            "#fb9f3a"
                          ],
                          [
                            0.8888888888888888,
                            "#fdca26"
                          ],
                          [
                            1,
                            "#f0f921"
                          ]
                        ],
                        "type": "contour"
                      }
                    ],
                    "contourcarpet": [
                      {
                        "colorbar": {
                          "outlinewidth": 0,
                          "ticks": ""
                        },
                        "type": "contourcarpet"
                      }
                    ],
                    "heatmap": [
                      {
                        "colorbar": {
                          "outlinewidth": 0,
                          "ticks": ""
                        },
                        "colorscale": [
                          [
                            0,
                            "#0d0887"
                          ],
                          [
                            0.1111111111111111,
                            "#46039f"
                          ],
                          [
                            0.2222222222222222,
                            "#7201a8"
                          ],
                          [
                            0.3333333333333333,
                            "#9c179e"
                          ],
                          [
                            0.4444444444444444,
                            "#bd3786"
                          ],
                          [
                            0.5555555555555556,
                            "#d8576b"
                          ],
                          [
                            0.6666666666666666,
                            "#ed7953"
                          ],
                          [
                            0.7777777777777778,
                            "#fb9f3a"
                          ],
                          [
                            0.8888888888888888,
                            "#fdca26"
                          ],
                          [
                            1,
                            "#f0f921"
                          ]
                        ],
                        "type": "heatmap"
                      }
                    ],
                    "heatmapgl": [
                      {
                        "colorbar": {
                          "outlinewidth": 0,
                          "ticks": ""
                        },
                        "colorscale": [
                          [
                            0,
                            "#0d0887"
                          ],
                          [
                            0.1111111111111111,
                            "#46039f"
                          ],
                          [
                            0.2222222222222222,
                            "#7201a8"
                          ],
                          [
                            0.3333333333333333,
                            "#9c179e"
                          ],
                          [
                            0.4444444444444444,
                            "#bd3786"
                          ],
                          [
                            0.5555555555555556,
                            "#d8576b"
                          ],
                          [
                            0.6666666666666666,
                            "#ed7953"
                          ],
                          [
                            0.7777777777777778,
                            "#fb9f3a"
                          ],
                          [
                            0.8888888888888888,
                            "#fdca26"
                          ],
                          [
                            1,
                            "#f0f921"
                          ]
                        ],
                        "type": "heatmapgl"
                      }
                    ],
                    "histogram": [
                      {
                        "marker": {
                          "pattern": {
                            "fillmode": "overlay",
                            "size": 10,
                            "solidity": 0.2
                          }
                        },
                        "type": "histogram"
                      }
                    ],
                    "histogram2d": [
                      {
                        "colorbar": {
                          "outlinewidth": 0,
                          "ticks": ""
                        },
                        "colorscale": [
                          [
                            0,
                            "#0d0887"
                          ],
                          [
                            0.1111111111111111,
                            "#46039f"
                          ],
                          [
                            0.2222222222222222,
                            "#7201a8"
                          ],
                          [
                            0.3333333333333333,
                            "#9c179e"
                          ],
                          [
                            0.4444444444444444,
                            "#bd3786"
                          ],
                          [
                            0.5555555555555556,
                            "#d8576b"
                          ],
                          [
                            0.6666666666666666,
                            "#ed7953"
                          ],
                          [
                            0.7777777777777778,
                            "#fb9f3a"
                          ],
                          [
                            0.8888888888888888,
                            "#fdca26"
                          ],
                          [
                            1,
                            "#f0f921"
                          ]
                        ],
                        "type": "histogram2d"
                      }
                    ],
                    "histogram2dcontour": [
                      {
                        "colorbar": {
                          "outlinewidth": 0,
                          "ticks": ""
                        },
                        "colorscale": [
                          [
                            0,
                            "#0d0887"
                          ],
                          [
                            0.1111111111111111,
                            "#46039f"
                          ],
                          [
                            0.2222222222222222,
                            "#7201a8"
                          ],
                          [
                            0.3333333333333333,
                            "#9c179e"
                          ],
                          [
                            0.4444444444444444,
                            "#bd3786"
                          ],
                          [
                            0.5555555555555556,
                            "#d8576b"
                          ],
                          [
                            0.6666666666666666,
                            "#ed7953"
                          ],
                          [
                            0.7777777777777778,
                            "#fb9f3a"
                          ],
                          [
                            0.8888888888888888,
                            "#fdca26"
                          ],
                          [
                            1,
                            "#f0f921"
                          ]
                        ],
                        "type": "histogram2dcontour"
                      }
                    ],
                    "mesh3d": [
                      {
                        "colorbar": {
                          "outlinewidth": 0,
                          "ticks": ""
                        },
                        "type": "mesh3d"
                      }
                    ],
                    "parcoords": [
                      {
                        "line": {
                          "colorbar": {
                            "outlinewidth": 0,
                            "ticks": ""
                          }
                        },
                        "type": "parcoords"
                      }
                    ],
                    "pie": [
                      {
                        "automargin": true,
                        "type": "pie"
                      }
                    ],
                    "scatter": [
                      {
                        "fillpattern": {
                          "fillmode": "overlay",
                          "size": 10,
                          "solidity": 0.2
                        },
                        "type": "scatter"
                      }
                    ],
                    "scatter3d": [
                      {
                        "line": {
                          "colorbar": {
                            "outlinewidth": 0,
                            "ticks": ""
                          }
                        },
                        "marker": {
                          "colorbar": {
                            "outlinewidth": 0,
                            "ticks": ""
                          }
                        },
                        "type": "scatter3d"
                      }
                    ],
                    "scattercarpet": [
                      {
                        "marker": {
                          "colorbar": {
                            "outlinewidth": 0,
                            "ticks": ""
                          }
                        },
                        "type": "scattercarpet"
                      }
                    ],
                    "scattergeo": [
                      {
                        "marker": {
                          "colorbar": {
                            "outlinewidth": 0,
                            "ticks": ""
                          }
                        },
                        "type": "scattergeo"
                      }
                    ],
                    "scattergl": [
                      {
                        "marker": {
                          "colorbar": {
                            "outlinewidth": 0,
                            "ticks": ""
                          }
                        },
                        "type": "scattergl"
                      }
                    ],
                    "scattermapbox": [
                      {
                        "marker": {
                          "colorbar": {
                            "outlinewidth": 0,
                            "ticks": ""
                          }
                        },
                        "type": "scattermapbox"
                      }
                    ],
                    "scatterpolar": [
                      {
                        "marker": {
                          "colorbar": {
                            "outlinewidth": 0,
                            "ticks": ""
                          }
                        },
                        "type": "scatterpolar"
                      }
                    ],
                    "scatterpolargl": [
                      {
                        "marker": {
                          "colorbar": {
                            "outlinewidth": 0,
                            "ticks": ""
                          }
                        },
                        "type": "scatterpolargl"
                      }
                    ],
                    "scatterternary": [
                      {
                        "marker": {
                          "colorbar": {
                            "outlinewidth": 0,
                            "ticks": ""
                          }
                        },
                        "type": "scatterternary"
                      }
                    ],
                    "surface": [
                      {
                        "colorbar": {
                          "outlinewidth": 0,
                          "ticks": ""
                        },
                        "colorscale": [
                          [
                            0,
                            "#0d0887"
                          ],
                          [
                            0.1111111111111111,
                            "#46039f"
                          ],
                          [
                            0.2222222222222222,
                            "#7201a8"
                          ],
                          [
                            0.3333333333333333,
                            "#9c179e"
                          ],
                          [
                            0.4444444444444444,
                            "#bd3786"
                          ],
                          [
                            0.5555555555555556,
                            "#d8576b"
                          ],
                          [
                            0.6666666666666666,
                            "#ed7953"
                          ],
                          [
                            0.7777777777777778,
                            "#fb9f3a"
                          ],
                          [
                            0.8888888888888888,
                            "#fdca26"
                          ],
                          [
                            1,
                            "#f0f921"
                          ]
                        ],
                        "type": "surface"
                      }
                    ],
                    "table": [
                      {
                        "cells": {
                          "fill": {
                            "color": "#EBF0F8"
                          },
                          "line": {
                            "color": "white"
                          }
                        },
                        "header": {
                          "fill": {
                            "color": "#C8D4E3"
                          },
                          "line": {
                            "color": "white"
                          }
                        },
                        "type": "table"
                      }
                    ]
                  },
                  "layout": {
                    "annotationdefaults": {
                      "arrowcolor": "#2a3f5f",
                      "arrowhead": 0,
                      "arrowwidth": 1
                    },
                    "autotypenumbers": "strict",
                    "coloraxis": {
                      "colorbar": {
                        "outlinewidth": 0,
                        "ticks": ""
                      }
                    },
                    "colorscale": {
                      "diverging": [
                        [
                          0,
                          "#8e0152"
                        ],
                        [
                          0.1,
                          "#c51b7d"
                        ],
                        [
                          0.2,
                          "#de77ae"
                        ],
                        [
                          0.3,
                          "#f1b6da"
                        ],
                        [
                          0.4,
                          "#fde0ef"
                        ],
                        [
                          0.5,
                          "#f7f7f7"
                        ],
                        [
                          0.6,
                          "#e6f5d0"
                        ],
                        [
                          0.7,
                          "#b8e186"
                        ],
                        [
                          0.8,
                          "#7fbc41"
                        ],
                        [
                          0.9,
                          "#4d9221"
                        ],
                        [
                          1,
                          "#276419"
                        ]
                      ],
                      "sequential": [
                        [
                          0,
                          "#0d0887"
                        ],
                        [
                          0.1111111111111111,
                          "#46039f"
                        ],
                        [
                          0.2222222222222222,
                          "#7201a8"
                        ],
                        [
                          0.3333333333333333,
                          "#9c179e"
                        ],
                        [
                          0.4444444444444444,
                          "#bd3786"
                        ],
                        [
                          0.5555555555555556,
                          "#d8576b"
                        ],
                        [
                          0.6666666666666666,
                          "#ed7953"
                        ],
                        [
                          0.7777777777777778,
                          "#fb9f3a"
                        ],
                        [
                          0.8888888888888888,
                          "#fdca26"
                        ],
                        [
                          1,
                          "#f0f921"
                        ]
                      ],
                      "sequentialminus": [
                        [
                          0,
                          "#0d0887"
                        ],
                        [
                          0.1111111111111111,
                          "#46039f"
                        ],
                        [
                          0.2222222222222222,
                          "#7201a8"
                        ],
                        [
                          0.3333333333333333,
                          "#9c179e"
                        ],
                        [
                          0.4444444444444444,
                          "#bd3786"
                        ],
                        [
                          0.5555555555555556,
                          "#d8576b"
                        ],
                        [
                          0.6666666666666666,
                          "#ed7953"
                        ],
                        [
                          0.7777777777777778,
                          "#fb9f3a"
                        ],
                        [
                          0.8888888888888888,
                          "#fdca26"
                        ],
                        [
                          1,
                          "#f0f921"
                        ]
                      ]
                    },
                    "colorway": [
                      "#636efa",
                      "#EF553B",
                      "#00cc96",
                      "#ab63fa",
                      "#FFA15A",
                      "#19d3f3",
                      "#FF6692",
                      "#B6E880",
                      "#FF97FF",
                      "#FECB52"
                    ],
                    "font": {
                      "color": "#2a3f5f"
                    },
                    "geo": {
                      "bgcolor": "white",
                      "lakecolor": "white",
                      "landcolor": "#E5ECF6",
                      "showlakes": true,
                      "showland": true,
                      "subunitcolor": "white"
                    },
                    "hoverlabel": {
                      "align": "left"
                    },
                    "hovermode": "closest",
                    "mapbox": {
                      "style": "light"
                    },
                    "paper_bgcolor": "white",
                    "plot_bgcolor": "#E5ECF6",
                    "polar": {
                      "angularaxis": {
                        "gridcolor": "white",
                        "linecolor": "white",
                        "ticks": ""
                      },
                      "bgcolor": "#E5ECF6",
                      "radialaxis": {
                        "gridcolor": "white",
                        "linecolor": "white",
                        "ticks": ""
                      }
                    },
                    "scene": {
                      "xaxis": {
                        "backgroundcolor": "#E5ECF6",
                        "gridcolor": "white",
                        "gridwidth": 2,
                        "linecolor": "white",
                        "showbackground": true,
                        "ticks": "",
                        "zerolinecolor": "white"
                      },
                      "yaxis": {
                        "backgroundcolor": "#E5ECF6",
                        "gridcolor": "white",
                        "gridwidth": 2,
                        "linecolor": "white",
                        "showbackground": true,
                        "ticks": "",
                        "zerolinecolor": "white"
                      },
                      "zaxis": {
                        "backgroundcolor": "#E5ECF6",
                        "gridcolor": "white",
                        "gridwidth": 2,
                        "linecolor": "white",
                        "showbackground": true,
                        "ticks": "",
                        "zerolinecolor": "white"
                      }
                    },
                    "shapedefaults": {
                      "line": {
                        "color": "#2a3f5f"
                      }
                    },
                    "ternary": {
                      "aaxis": {
                        "gridcolor": "white",
                        "linecolor": "white",
                        "ticks": ""
                      },
                      "baxis": {
                        "gridcolor": "white",
                        "linecolor": "white",
                        "ticks": ""
                      },
                      "bgcolor": "#E5ECF6",
                      "caxis": {
                        "gridcolor": "white",
                        "linecolor": "white",
                        "ticks": ""
                      }
                    },
                    "title": {
                      "x": 0.05
                    },
                    "xaxis": {
                      "automargin": true,
                      "gridcolor": "white",
                      "linecolor": "white",
                      "ticks": "",
                      "title": {
                        "standoff": 15
                      },
                      "zerolinecolor": "white",
                      "zerolinewidth": 2
                    },
                    "yaxis": {
                      "automargin": true,
                      "gridcolor": "white",
                      "linecolor": "white",
                      "ticks": "",
                      "title": {
                        "standoff": 15
                      },
                      "zerolinecolor": "white",
                      "zerolinewidth": 2
                    }
                  }
                },
                "title": {
                  "text": "norte"
                },
                "xaxis": {
                  "title": {
                    "text": "Time"
                  }
                },
                "yaxis": {
                  "title": {
                    "text": "Value"
                  }
                }
              }
            }
          },
          "metadata": {},
          "output_type": "display_data"
        },
        {
          "data": {
            "application/vnd.plotly.v1+json": {
              "config": {
                "plotlyServerURL": "https://plot.ly"
              },
              "data": [
                {
                  "marker": {
                    "color": "black"
                  },
                  "mode": "markers",
                  "name": "Real",
                  "type": "scatter",
                  "x": [
                    "2016-01-01T00:00:00.000000000",
                    "2016-02-01T00:00:00.000000000",
                    "2016-03-01T00:00:00.000000000",
                    "2016-04-01T00:00:00.000000000",
                    "2016-05-01T00:00:00.000000000",
                    "2016-06-01T00:00:00.000000000",
                    "2016-07-01T00:00:00.000000000",
                    "2016-08-01T00:00:00.000000000",
                    "2016-09-01T00:00:00.000000000",
                    "2016-10-01T00:00:00.000000000",
                    "2016-11-01T00:00:00.000000000",
                    "2016-12-01T00:00:00.000000000",
                    "2017-01-01T00:00:00.000000000",
                    "2017-02-01T00:00:00.000000000",
                    "2017-03-01T00:00:00.000000000",
                    "2017-04-01T00:00:00.000000000",
                    "2017-05-01T00:00:00.000000000",
                    "2017-06-01T00:00:00.000000000",
                    "2017-07-01T00:00:00.000000000",
                    "2017-08-01T00:00:00.000000000",
                    "2017-09-01T00:00:00.000000000",
                    "2017-10-01T00:00:00.000000000",
                    "2017-11-01T00:00:00.000000000",
                    "2017-12-01T00:00:00.000000000",
                    "2018-01-01T00:00:00.000000000",
                    "2018-02-01T00:00:00.000000000",
                    "2018-03-01T00:00:00.000000000",
                    "2018-04-01T00:00:00.000000000",
                    "2018-05-01T00:00:00.000000000",
                    "2018-06-01T00:00:00.000000000",
                    "2018-07-01T00:00:00.000000000",
                    "2018-08-01T00:00:00.000000000",
                    "2018-09-01T00:00:00.000000000",
                    "2018-10-01T00:00:00.000000000",
                    "2018-11-01T00:00:00.000000000",
                    "2018-12-01T00:00:00.000000000",
                    "2019-01-01T00:00:00.000000000",
                    "2019-02-01T00:00:00.000000000",
                    "2019-03-01T00:00:00.000000000",
                    "2019-04-01T00:00:00.000000000",
                    "2019-05-01T00:00:00.000000000",
                    "2019-06-01T00:00:00.000000000",
                    "2019-07-01T00:00:00.000000000",
                    "2019-08-01T00:00:00.000000000",
                    "2019-09-01T00:00:00.000000000",
                    "2019-10-01T00:00:00.000000000",
                    "2019-11-01T00:00:00.000000000",
                    "2019-12-01T00:00:00.000000000",
                    "2020-01-01T00:00:00.000000000",
                    "2020-02-01T00:00:00.000000000",
                    "2020-03-01T00:00:00.000000000",
                    "2020-04-01T00:00:00.000000000",
                    "2020-05-01T00:00:00.000000000",
                    "2020-06-01T00:00:00.000000000",
                    "2020-07-01T00:00:00.000000000",
                    "2020-08-01T00:00:00.000000000",
                    "2020-09-01T00:00:00.000000000",
                    "2020-10-01T00:00:00.000000000",
                    "2020-11-01T00:00:00.000000000",
                    "2020-12-01T00:00:00.000000000",
                    "2021-01-01T00:00:00.000000000",
                    "2021-02-01T00:00:00.000000000",
                    "2021-03-01T00:00:00.000000000",
                    "2021-04-01T00:00:00.000000000",
                    "2021-05-01T00:00:00.000000000",
                    "2021-06-01T00:00:00.000000000",
                    "2021-07-01T00:00:00.000000000",
                    "2021-08-01T00:00:00.000000000",
                    "2021-09-01T00:00:00.000000000",
                    "2021-10-01T00:00:00.000000000",
                    "2021-11-01T00:00:00.000000000",
                    "2021-12-01T00:00:00.000000000",
                    "2022-01-01T00:00:00.000000000",
                    "2022-02-01T00:00:00.000000000",
                    "2022-03-01T00:00:00.000000000",
                    "2022-04-01T00:00:00.000000000",
                    "2022-05-01T00:00:00.000000000",
                    "2022-06-01T00:00:00.000000000",
                    "2022-07-01T00:00:00.000000000",
                    "2022-08-01T00:00:00.000000000",
                    "2022-09-01T00:00:00.000000000",
                    "2022-10-01T00:00:00.000000000",
                    "2022-11-01T00:00:00.000000000",
                    "2022-12-01T00:00:00.000000000",
                    "2023-01-01T00:00:00.000000000",
                    "2023-02-01T00:00:00.000000000",
                    "2023-03-01T00:00:00.000000000",
                    "2023-04-01T00:00:00.000000000",
                    "2023-05-01T00:00:00.000000000",
                    "2023-06-01T00:00:00.000000000",
                    "2023-07-01T00:00:00.000000000",
                    "2023-08-01T00:00:00.000000000",
                    "2023-09-01T00:00:00.000000000",
                    "2023-10-01T00:00:00.000000000",
                    "2023-11-01T00:00:00.000000000",
                    "2023-12-01T00:00:00.000000000",
                    "2024-01-01T00:00:00.000000000",
                    "2024-02-01T00:00:00.000000000",
                    "2024-03-01T00:00:00.000000000",
                    "2024-04-01T00:00:00.000000000",
                    "2024-05-01T00:00:00.000000000",
                    "2024-06-01T00:00:00.000000000",
                    "2024-07-01T00:00:00.000000000",
                    "2024-08-01T00:00:00.000000000",
                    "2024-09-01T00:00:00.000000000",
                    "2024-10-01T00:00:00.000000000",
                    "2024-11-01T00:00:00.000000000",
                    "2024-12-01T00:00:00.000000000"
                  ],
                  "y": [
                    5.766457016415087,
                    5.516293322003957,
                    5.290365071949884,
                    5.603113142030877,
                    5.913417330779171,
                    6.170016808023145,
                    6.382247363127151,
                    6.481325584572769,
                    6.821882839663747,
                    7.182647347457138,
                    6.817950343562167,
                    8.169502968393399,
                    8.024569825948522,
                    6.930884629122515,
                    6.855759813516739,
                    6.915325136100731,
                    7.130363360733383,
                    7.799731339936104,
                    7.447395767956693,
                    7.912965509091176,
                    8.33124730818472,
                    8.767716996603022,
                    9.345974525965527,
                    10.25139212736242,
                    9.934924627615038,
                    10.36457227376237,
                    9.772812014353818,
                    9.794934171336442,
                    10.08804980967626,
                    10.94782138526698,
                    10.92295321873162,
                    11.08207170709641,
                    11.16207792951598,
                    11.21728151311601,
                    11.44841758265281,
                    12.23968505718936,
                    11.1290525301474,
                    11.19383990872161,
                    11.31259930357125,
                    10.28780295517633,
                    10.61307207281938,
                    11.40448641127023,
                    11.8984777090336,
                    12.55488209719218,
                    12.68474830051435,
                    13.06987892868546,
                    13.66554629540173,
                    15.2019319711563,
                    15.39650703464915,
                    15.42349443918599,
                    16.5184843319494,
                    22.83469258555841,
                    20.55225631690818,
                    19.43021795609856,
                    18.9408721181185,
                    19.02654126400163,
                    19.44903571485636,
                    18.63271189435737,
                    20.23060527123095,
                    22.00142104792553,
                    21.34479492970059,
                    19.84545040685421,
                    18.72317724093399,
                    18.92996766962941,
                    17.41273445499207,
                    19.04877270887256,
                    20.3711097764054,
                    21.13383084286374,
                    22.44708190676561,
                    21.569638132883,
                    21.15671818389749,
                    21.69527840326278,
                    18.18297035157528,
                    22.34628289387481,
                    22.42361165999409,
                    21.18838751273135,
                    21.64215794487427,
                    21.82567997639082,
                    21.98314718586636,
                    23.16219990823173,
                    26.40619947424684,
                    25.66454025643942,
                    24.5182172226167,
                    25.33609619639925,
                    28.41111643713134,
                    28.59386320226569,
                    25.77494573881397,
                    24.66280835239894,
                    28.66725433465402,
                    28.0828537141462,
                    28.5678802835419,
                    28.21496190543768,
                    31.0406552221982,
                    30.60476671347408,
                    30.34966970119551,
                    30.34913261078706,
                    34.30808238984768,
                    32.66218148909552,
                    29.40533652619916,
                    28.88171848548566,
                    32.56295122808777,
                    33.63656738396111,
                    34.07413152142058,
                    32.92455961680162,
                    33.47998116355968,
                    33.60305643924929,
                    33.46483801883145,
                    33.17171435314598
                  ]
                },
                {
                  "line": {
                    "color": "black",
                    "dash": "dot"
                  },
                  "mode": "lines",
                  "name": "Baseline",
                  "type": "scatter",
                  "x": [
                    "2016-01-01T00:00:00.000000000",
                    "2016-02-01T00:00:00.000000000",
                    "2016-03-01T00:00:00.000000000",
                    "2016-04-01T00:00:00.000000000",
                    "2016-05-01T00:00:00.000000000",
                    "2016-06-01T00:00:00.000000000",
                    "2016-07-01T00:00:00.000000000",
                    "2016-08-01T00:00:00.000000000",
                    "2016-09-01T00:00:00.000000000",
                    "2016-10-01T00:00:00.000000000",
                    "2016-11-01T00:00:00.000000000",
                    "2016-12-01T00:00:00.000000000",
                    "2017-01-01T00:00:00.000000000",
                    "2017-02-01T00:00:00.000000000",
                    "2017-03-01T00:00:00.000000000",
                    "2017-04-01T00:00:00.000000000",
                    "2017-05-01T00:00:00.000000000",
                    "2017-06-01T00:00:00.000000000",
                    "2017-07-01T00:00:00.000000000",
                    "2017-08-01T00:00:00.000000000",
                    "2017-09-01T00:00:00.000000000",
                    "2017-10-01T00:00:00.000000000",
                    "2017-11-01T00:00:00.000000000",
                    "2017-12-01T00:00:00.000000000",
                    "2018-01-01T00:00:00.000000000",
                    "2018-02-01T00:00:00.000000000",
                    "2018-03-01T00:00:00.000000000",
                    "2018-04-01T00:00:00.000000000",
                    "2018-05-01T00:00:00.000000000",
                    "2018-06-01T00:00:00.000000000",
                    "2018-07-01T00:00:00.000000000",
                    "2018-08-01T00:00:00.000000000",
                    "2018-09-01T00:00:00.000000000",
                    "2018-10-01T00:00:00.000000000",
                    "2018-11-01T00:00:00.000000000",
                    "2018-12-01T00:00:00.000000000",
                    "2019-01-01T00:00:00.000000000",
                    "2019-02-01T00:00:00.000000000",
                    "2019-03-01T00:00:00.000000000",
                    "2019-04-01T00:00:00.000000000",
                    "2019-05-01T00:00:00.000000000",
                    "2019-06-01T00:00:00.000000000",
                    "2019-07-01T00:00:00.000000000",
                    "2019-08-01T00:00:00.000000000",
                    "2019-09-01T00:00:00.000000000",
                    "2019-10-01T00:00:00.000000000",
                    "2019-11-01T00:00:00.000000000",
                    "2019-12-01T00:00:00.000000000",
                    "2020-01-01T00:00:00.000000000",
                    "2020-02-01T00:00:00.000000000",
                    "2020-03-01T00:00:00.000000000",
                    "2020-04-01T00:00:00.000000000",
                    "2020-05-01T00:00:00.000000000",
                    "2020-06-01T00:00:00.000000000",
                    "2020-07-01T00:00:00.000000000",
                    "2020-08-01T00:00:00.000000000",
                    "2020-09-01T00:00:00.000000000",
                    "2020-10-01T00:00:00.000000000",
                    "2020-11-01T00:00:00.000000000",
                    "2020-12-01T00:00:00.000000000",
                    "2021-01-01T00:00:00.000000000",
                    "2021-02-01T00:00:00.000000000",
                    "2021-03-01T00:00:00.000000000",
                    "2021-04-01T00:00:00.000000000",
                    "2021-05-01T00:00:00.000000000",
                    "2021-06-01T00:00:00.000000000",
                    "2021-07-01T00:00:00.000000000",
                    "2021-08-01T00:00:00.000000000",
                    "2021-09-01T00:00:00.000000000",
                    "2021-10-01T00:00:00.000000000",
                    "2021-11-01T00:00:00.000000000",
                    "2021-12-01T00:00:00.000000000",
                    "2022-01-01T00:00:00.000000000",
                    "2022-02-01T00:00:00.000000000",
                    "2022-03-01T00:00:00.000000000",
                    "2022-04-01T00:00:00.000000000",
                    "2022-05-01T00:00:00.000000000",
                    "2022-06-01T00:00:00.000000000",
                    "2022-07-01T00:00:00.000000000",
                    "2022-08-01T00:00:00.000000000",
                    "2022-09-01T00:00:00.000000000",
                    "2022-10-01T00:00:00.000000000",
                    "2022-11-01T00:00:00.000000000",
                    "2022-12-01T00:00:00.000000000",
                    "2023-01-01T00:00:00.000000000",
                    "2023-02-01T00:00:00.000000000",
                    "2023-03-01T00:00:00.000000000",
                    "2023-04-01T00:00:00.000000000",
                    "2023-05-01T00:00:00.000000000",
                    "2023-06-01T00:00:00.000000000",
                    "2023-07-01T00:00:00.000000000",
                    "2023-08-01T00:00:00.000000000",
                    "2023-09-01T00:00:00.000000000",
                    "2023-10-01T00:00:00.000000000",
                    "2023-11-01T00:00:00.000000000",
                    "2023-12-01T00:00:00.000000000",
                    "2024-01-01T00:00:00.000000000",
                    "2024-02-01T00:00:00.000000000",
                    "2024-03-01T00:00:00.000000000",
                    "2024-04-01T00:00:00.000000000",
                    "2024-05-01T00:00:00.000000000",
                    "2024-06-01T00:00:00.000000000",
                    "2024-07-01T00:00:00.000000000",
                    "2024-08-01T00:00:00.000000000",
                    "2024-09-01T00:00:00.000000000",
                    "2024-10-01T00:00:00.000000000",
                    "2024-11-01T00:00:00.000000000",
                    "2024-12-01T00:00:00.000000000"
                  ],
                  "y": [
                    4.93590106319112,
                    5.122903966838114,
                    5.309906870485109,
                    5.496909774132103,
                    5.683912677779096,
                    5.870915581426091,
                    6.057918485073085,
                    6.244921388720079,
                    6.431924292367073,
                    6.618927196014067,
                    6.805930099661062,
                    6.992933003308056,
                    7.17993590695505,
                    7.3669388106020435,
                    7.553941714249039,
                    7.740944617896032,
                    7.927947521543027,
                    8.11495042519002,
                    8.301953328837016,
                    8.488956232484009,
                    8.675959136131002,
                    8.862962039777997,
                    9.049964943424992,
                    9.236967847071986,
                    9.42397075071898,
                    9.610973654365974,
                    9.797976558012968,
                    9.984979461659961,
                    10.171982365306956,
                    10.358985268953951,
                    10.545988172600945,
                    10.732991076247938,
                    10.919993979894933,
                    11.106996883541928,
                    11.293999787188922,
                    11.481002690835915,
                    11.66800559448291,
                    11.855008498129903,
                    12.042011401776897,
                    12.229014305423892,
                    12.416017209070887,
                    12.60302011271788,
                    12.790023016364874,
                    12.977025920011869,
                    13.164028823658862,
                    13.351031727305857,
                    13.53803463095285,
                    13.725037534599846,
                    13.912040438246839,
                    14.099043341893834,
                    14.286046245540827,
                    14.473049149187823,
                    14.660052052834816,
                    14.84705495648181,
                    15.034057860128804,
                    15.221060763775798,
                    15.408063667422793,
                    15.595066571069786,
                    15.782069474716781,
                    15.969072378363775,
                    16.156075282010768,
                    16.343078185657763,
                    16.53008108930476,
                    16.71708399295175,
                    16.904086896598745,
                    17.09108980024574,
                    17.27809270389273,
                    17.46509560753973,
                    17.652098511186722,
                    17.839101414833717,
                    18.026104318480712,
                    18.213107222127704,
                    18.4001101257747,
                    18.587113029421694,
                    18.774115933068686,
                    18.96111883671568,
                    19.148121740362676,
                    19.335124644009667,
                    19.522127547656666,
                    19.709130451303658,
                    19.896133354950653,
                    20.083136258597648,
                    20.27013916224464,
                    20.457142065891635,
                    20.64414496953863,
                    20.83114787318562,
                    21.018150776832616,
                    21.20515368047961,
                    21.392156584126607,
                    21.579159487773598,
                    21.766162391420593,
                    21.95316529506759,
                    22.140168198714584,
                    22.327171102361575,
                    22.51417400600857,
                    22.701176909655565,
                    22.888179813302557,
                    23.075182716949552,
                    23.262185620596547,
                    23.449188524243542,
                    23.636191427890534,
                    23.82319433153753,
                    24.010197235184524,
                    24.19720013883152,
                    24.38420304247851,
                    24.571205946125506,
                    24.7582088497725,
                    24.945211753419493
                  ]
                },
                {
                  "line": {
                    "color": "purple"
                  },
                  "mode": "lines",
                  "name": "Full model",
                  "type": "scatter",
                  "x": [
                    "2016-01-01T00:00:00.000000000",
                    "2016-02-01T00:00:00.000000000",
                    "2016-03-01T00:00:00.000000000",
                    "2016-04-01T00:00:00.000000000",
                    "2016-05-01T00:00:00.000000000",
                    "2016-06-01T00:00:00.000000000",
                    "2016-07-01T00:00:00.000000000",
                    "2016-08-01T00:00:00.000000000",
                    "2016-09-01T00:00:00.000000000",
                    "2016-10-01T00:00:00.000000000",
                    "2016-11-01T00:00:00.000000000",
                    "2016-12-01T00:00:00.000000000",
                    "2017-01-01T00:00:00.000000000",
                    "2017-02-01T00:00:00.000000000",
                    "2017-03-01T00:00:00.000000000",
                    "2017-04-01T00:00:00.000000000",
                    "2017-05-01T00:00:00.000000000",
                    "2017-06-01T00:00:00.000000000",
                    "2017-07-01T00:00:00.000000000",
                    "2017-08-01T00:00:00.000000000",
                    "2017-09-01T00:00:00.000000000",
                    "2017-10-01T00:00:00.000000000",
                    "2017-11-01T00:00:00.000000000",
                    "2017-12-01T00:00:00.000000000",
                    "2018-01-01T00:00:00.000000000",
                    "2018-02-01T00:00:00.000000000",
                    "2018-03-01T00:00:00.000000000",
                    "2018-04-01T00:00:00.000000000",
                    "2018-05-01T00:00:00.000000000",
                    "2018-06-01T00:00:00.000000000",
                    "2018-07-01T00:00:00.000000000",
                    "2018-08-01T00:00:00.000000000",
                    "2018-09-01T00:00:00.000000000",
                    "2018-10-01T00:00:00.000000000",
                    "2018-11-01T00:00:00.000000000",
                    "2018-12-01T00:00:00.000000000",
                    "2019-01-01T00:00:00.000000000",
                    "2019-02-01T00:00:00.000000000",
                    "2019-03-01T00:00:00.000000000",
                    "2019-04-01T00:00:00.000000000",
                    "2019-05-01T00:00:00.000000000",
                    "2019-06-01T00:00:00.000000000",
                    "2019-07-01T00:00:00.000000000",
                    "2019-08-01T00:00:00.000000000",
                    "2019-09-01T00:00:00.000000000",
                    "2019-10-01T00:00:00.000000000",
                    "2019-11-01T00:00:00.000000000",
                    "2019-12-01T00:00:00.000000000",
                    "2020-01-01T00:00:00.000000000",
                    "2020-02-01T00:00:00.000000000",
                    "2020-03-01T00:00:00.000000000",
                    "2020-04-01T00:00:00.000000000",
                    "2020-05-01T00:00:00.000000000",
                    "2020-06-01T00:00:00.000000000",
                    "2020-07-01T00:00:00.000000000",
                    "2020-08-01T00:00:00.000000000",
                    "2020-09-01T00:00:00.000000000",
                    "2020-10-01T00:00:00.000000000",
                    "2020-11-01T00:00:00.000000000",
                    "2020-12-01T00:00:00.000000000",
                    "2021-01-01T00:00:00.000000000",
                    "2021-02-01T00:00:00.000000000",
                    "2021-03-01T00:00:00.000000000",
                    "2021-04-01T00:00:00.000000000",
                    "2021-05-01T00:00:00.000000000",
                    "2021-06-01T00:00:00.000000000",
                    "2021-07-01T00:00:00.000000000",
                    "2021-08-01T00:00:00.000000000",
                    "2021-09-01T00:00:00.000000000",
                    "2021-10-01T00:00:00.000000000",
                    "2021-11-01T00:00:00.000000000",
                    "2021-12-01T00:00:00.000000000",
                    "2022-01-01T00:00:00.000000000",
                    "2022-02-01T00:00:00.000000000",
                    "2022-03-01T00:00:00.000000000",
                    "2022-04-01T00:00:00.000000000",
                    "2022-05-01T00:00:00.000000000",
                    "2022-06-01T00:00:00.000000000",
                    "2022-07-01T00:00:00.000000000",
                    "2022-08-01T00:00:00.000000000",
                    "2022-09-01T00:00:00.000000000",
                    "2022-10-01T00:00:00.000000000",
                    "2022-11-01T00:00:00.000000000",
                    "2022-12-01T00:00:00.000000000",
                    "2023-01-01T00:00:00.000000000",
                    "2023-02-01T00:00:00.000000000",
                    "2023-03-01T00:00:00.000000000",
                    "2023-04-01T00:00:00.000000000",
                    "2023-05-01T00:00:00.000000000",
                    "2023-06-01T00:00:00.000000000",
                    "2023-07-01T00:00:00.000000000",
                    "2023-08-01T00:00:00.000000000",
                    "2023-09-01T00:00:00.000000000",
                    "2023-10-01T00:00:00.000000000",
                    "2023-11-01T00:00:00.000000000",
                    "2023-12-01T00:00:00.000000000",
                    "2024-01-01T00:00:00.000000000",
                    "2024-02-01T00:00:00.000000000",
                    "2024-03-01T00:00:00.000000000",
                    "2024-04-01T00:00:00.000000000",
                    "2024-05-01T00:00:00.000000000",
                    "2024-06-01T00:00:00.000000000",
                    "2024-07-01T00:00:00.000000000",
                    "2024-08-01T00:00:00.000000000",
                    "2024-09-01T00:00:00.000000000",
                    "2024-10-01T00:00:00.000000000",
                    "2024-11-01T00:00:00.000000000",
                    "2024-12-01T00:00:00.000000000"
                  ],
                  "y": [
                    4.93590106319112,
                    5.122903966838114,
                    5.309906870485109,
                    5.496909774132103,
                    5.683912677779096,
                    5.870915581426091,
                    6.057918485073085,
                    6.244921388720079,
                    6.431924292367073,
                    6.618927196014067,
                    6.805930099661062,
                    6.992933003308056,
                    7.17993590695505,
                    7.3669388106020435,
                    7.553941714249039,
                    7.740944617896032,
                    7.927947521543027,
                    8.11495042519002,
                    8.301953328837016,
                    8.488956232484009,
                    8.675959136131002,
                    8.862962039777997,
                    9.049964943424992,
                    9.236967847071986,
                    9.42397075071898,
                    9.610973654365974,
                    9.797976558012968,
                    9.984979461659961,
                    10.171982365306956,
                    10.358985268953951,
                    10.545988172600945,
                    10.732991076247938,
                    10.919993979894933,
                    11.106996883541928,
                    11.293999787188922,
                    11.481002690835915,
                    11.66800559448291,
                    11.855008498129903,
                    12.042011401776897,
                    12.229014305423892,
                    12.416017209070887,
                    12.60302011271788,
                    12.790023016364874,
                    12.977025920011869,
                    13.164028823658862,
                    13.351031727305857,
                    13.53803463095285,
                    13.725037534599846,
                    13.912040438246839,
                    14.099043341893834,
                    14.286046245540827,
                    19.692708535833052,
                    19.762495945934944,
                    19.832283356036843,
                    19.90207076613874,
                    19.971858176240634,
                    20.041645586342533,
                    20.111432996444428,
                    20.181220406546327,
                    20.25100781664822,
                    20.320795226750118,
                    20.390582636852017,
                    20.460370046953912,
                    20.530157457055807,
                    20.599944867157703,
                    20.6697322772596,
                    20.739519687361497,
                    20.809307097463396,
                    20.87909450756529,
                    20.94888191766719,
                    21.018669327769086,
                    21.08845673787098,
                    21.158244147972876,
                    21.228031558074775,
                    21.29781896817667,
                    22.126597872771516,
                    22.528360748570712,
                    22.930123624369905,
                    23.33188650016911,
                    23.7336493759683,
                    24.135412251767498,
                    24.537175127566694,
                    24.938938003365887,
                    25.340700879165084,
                    25.74246375496428,
                    26.144226630763477,
                    26.545989506562673,
                    26.94775238236187,
                    27.349515258161066,
                    27.75127813396026,
                    28.153041009759455,
                    28.554803885558652,
                    28.95656676135785,
                    29.35832963715704,
                    29.76009251295624,
                    30.161855388755438,
                    30.56361826455463,
                    30.965381140353827,
                    31.367144016153024,
                    31.76890689195222,
                    32.17066976775141,
                    32.57243264355061,
                    32.974195519349806,
                    33.375958395149006,
                    33.7777212709482,
                    34.1794841467474,
                    34.58124702254659,
                    34.983009898345784
                  ]
                }
              ],
              "layout": {
                "annotations": [
                  {
                    "arrowhead": 2,
                    "ax": 30,
                    "ay": -40,
                    "showarrow": true,
                    "text": "Pandemia",
                    "x": "2020-04-01",
                    "y": 34.30808238984768
                  },
                  {
                    "arrowhead": 2,
                    "ax": 30,
                    "ay": -40,
                    "showarrow": true,
                    "text": "Pos Pandemia",
                    "x": "2022-04-01",
                    "y": 34.30808238984768
                  }
                ],
                "legend": {
                  "title": {
                    "text": "Legend"
                  }
                },
                "shapes": [
                  {
                    "line": {
                      "color": "black",
                      "dash": "dash"
                    },
                    "type": "line",
                    "x0": "2020-04-01",
                    "x1": "2020-04-01",
                    "y0": 5.290365071949884,
                    "y1": 34.30808238984768
                  },
                  {
                    "line": {
                      "color": "black",
                      "dash": "dash"
                    },
                    "type": "line",
                    "x0": "2022-04-01",
                    "x1": "2022-04-01",
                    "y0": 5.290365071949884,
                    "y1": 34.30808238984768
                  }
                ],
                "template": {
                  "data": {
                    "bar": [
                      {
                        "error_x": {
                          "color": "#2a3f5f"
                        },
                        "error_y": {
                          "color": "#2a3f5f"
                        },
                        "marker": {
                          "line": {
                            "color": "#E5ECF6",
                            "width": 0.5
                          },
                          "pattern": {
                            "fillmode": "overlay",
                            "size": 10,
                            "solidity": 0.2
                          }
                        },
                        "type": "bar"
                      }
                    ],
                    "barpolar": [
                      {
                        "marker": {
                          "line": {
                            "color": "#E5ECF6",
                            "width": 0.5
                          },
                          "pattern": {
                            "fillmode": "overlay",
                            "size": 10,
                            "solidity": 0.2
                          }
                        },
                        "type": "barpolar"
                      }
                    ],
                    "carpet": [
                      {
                        "aaxis": {
                          "endlinecolor": "#2a3f5f",
                          "gridcolor": "white",
                          "linecolor": "white",
                          "minorgridcolor": "white",
                          "startlinecolor": "#2a3f5f"
                        },
                        "baxis": {
                          "endlinecolor": "#2a3f5f",
                          "gridcolor": "white",
                          "linecolor": "white",
                          "minorgridcolor": "white",
                          "startlinecolor": "#2a3f5f"
                        },
                        "type": "carpet"
                      }
                    ],
                    "choropleth": [
                      {
                        "colorbar": {
                          "outlinewidth": 0,
                          "ticks": ""
                        },
                        "type": "choropleth"
                      }
                    ],
                    "contour": [
                      {
                        "colorbar": {
                          "outlinewidth": 0,
                          "ticks": ""
                        },
                        "colorscale": [
                          [
                            0,
                            "#0d0887"
                          ],
                          [
                            0.1111111111111111,
                            "#46039f"
                          ],
                          [
                            0.2222222222222222,
                            "#7201a8"
                          ],
                          [
                            0.3333333333333333,
                            "#9c179e"
                          ],
                          [
                            0.4444444444444444,
                            "#bd3786"
                          ],
                          [
                            0.5555555555555556,
                            "#d8576b"
                          ],
                          [
                            0.6666666666666666,
                            "#ed7953"
                          ],
                          [
                            0.7777777777777778,
                            "#fb9f3a"
                          ],
                          [
                            0.8888888888888888,
                            "#fdca26"
                          ],
                          [
                            1,
                            "#f0f921"
                          ]
                        ],
                        "type": "contour"
                      }
                    ],
                    "contourcarpet": [
                      {
                        "colorbar": {
                          "outlinewidth": 0,
                          "ticks": ""
                        },
                        "type": "contourcarpet"
                      }
                    ],
                    "heatmap": [
                      {
                        "colorbar": {
                          "outlinewidth": 0,
                          "ticks": ""
                        },
                        "colorscale": [
                          [
                            0,
                            "#0d0887"
                          ],
                          [
                            0.1111111111111111,
                            "#46039f"
                          ],
                          [
                            0.2222222222222222,
                            "#7201a8"
                          ],
                          [
                            0.3333333333333333,
                            "#9c179e"
                          ],
                          [
                            0.4444444444444444,
                            "#bd3786"
                          ],
                          [
                            0.5555555555555556,
                            "#d8576b"
                          ],
                          [
                            0.6666666666666666,
                            "#ed7953"
                          ],
                          [
                            0.7777777777777778,
                            "#fb9f3a"
                          ],
                          [
                            0.8888888888888888,
                            "#fdca26"
                          ],
                          [
                            1,
                            "#f0f921"
                          ]
                        ],
                        "type": "heatmap"
                      }
                    ],
                    "heatmapgl": [
                      {
                        "colorbar": {
                          "outlinewidth": 0,
                          "ticks": ""
                        },
                        "colorscale": [
                          [
                            0,
                            "#0d0887"
                          ],
                          [
                            0.1111111111111111,
                            "#46039f"
                          ],
                          [
                            0.2222222222222222,
                            "#7201a8"
                          ],
                          [
                            0.3333333333333333,
                            "#9c179e"
                          ],
                          [
                            0.4444444444444444,
                            "#bd3786"
                          ],
                          [
                            0.5555555555555556,
                            "#d8576b"
                          ],
                          [
                            0.6666666666666666,
                            "#ed7953"
                          ],
                          [
                            0.7777777777777778,
                            "#fb9f3a"
                          ],
                          [
                            0.8888888888888888,
                            "#fdca26"
                          ],
                          [
                            1,
                            "#f0f921"
                          ]
                        ],
                        "type": "heatmapgl"
                      }
                    ],
                    "histogram": [
                      {
                        "marker": {
                          "pattern": {
                            "fillmode": "overlay",
                            "size": 10,
                            "solidity": 0.2
                          }
                        },
                        "type": "histogram"
                      }
                    ],
                    "histogram2d": [
                      {
                        "colorbar": {
                          "outlinewidth": 0,
                          "ticks": ""
                        },
                        "colorscale": [
                          [
                            0,
                            "#0d0887"
                          ],
                          [
                            0.1111111111111111,
                            "#46039f"
                          ],
                          [
                            0.2222222222222222,
                            "#7201a8"
                          ],
                          [
                            0.3333333333333333,
                            "#9c179e"
                          ],
                          [
                            0.4444444444444444,
                            "#bd3786"
                          ],
                          [
                            0.5555555555555556,
                            "#d8576b"
                          ],
                          [
                            0.6666666666666666,
                            "#ed7953"
                          ],
                          [
                            0.7777777777777778,
                            "#fb9f3a"
                          ],
                          [
                            0.8888888888888888,
                            "#fdca26"
                          ],
                          [
                            1,
                            "#f0f921"
                          ]
                        ],
                        "type": "histogram2d"
                      }
                    ],
                    "histogram2dcontour": [
                      {
                        "colorbar": {
                          "outlinewidth": 0,
                          "ticks": ""
                        },
                        "colorscale": [
                          [
                            0,
                            "#0d0887"
                          ],
                          [
                            0.1111111111111111,
                            "#46039f"
                          ],
                          [
                            0.2222222222222222,
                            "#7201a8"
                          ],
                          [
                            0.3333333333333333,
                            "#9c179e"
                          ],
                          [
                            0.4444444444444444,
                            "#bd3786"
                          ],
                          [
                            0.5555555555555556,
                            "#d8576b"
                          ],
                          [
                            0.6666666666666666,
                            "#ed7953"
                          ],
                          [
                            0.7777777777777778,
                            "#fb9f3a"
                          ],
                          [
                            0.8888888888888888,
                            "#fdca26"
                          ],
                          [
                            1,
                            "#f0f921"
                          ]
                        ],
                        "type": "histogram2dcontour"
                      }
                    ],
                    "mesh3d": [
                      {
                        "colorbar": {
                          "outlinewidth": 0,
                          "ticks": ""
                        },
                        "type": "mesh3d"
                      }
                    ],
                    "parcoords": [
                      {
                        "line": {
                          "colorbar": {
                            "outlinewidth": 0,
                            "ticks": ""
                          }
                        },
                        "type": "parcoords"
                      }
                    ],
                    "pie": [
                      {
                        "automargin": true,
                        "type": "pie"
                      }
                    ],
                    "scatter": [
                      {
                        "fillpattern": {
                          "fillmode": "overlay",
                          "size": 10,
                          "solidity": 0.2
                        },
                        "type": "scatter"
                      }
                    ],
                    "scatter3d": [
                      {
                        "line": {
                          "colorbar": {
                            "outlinewidth": 0,
                            "ticks": ""
                          }
                        },
                        "marker": {
                          "colorbar": {
                            "outlinewidth": 0,
                            "ticks": ""
                          }
                        },
                        "type": "scatter3d"
                      }
                    ],
                    "scattercarpet": [
                      {
                        "marker": {
                          "colorbar": {
                            "outlinewidth": 0,
                            "ticks": ""
                          }
                        },
                        "type": "scattercarpet"
                      }
                    ],
                    "scattergeo": [
                      {
                        "marker": {
                          "colorbar": {
                            "outlinewidth": 0,
                            "ticks": ""
                          }
                        },
                        "type": "scattergeo"
                      }
                    ],
                    "scattergl": [
                      {
                        "marker": {
                          "colorbar": {
                            "outlinewidth": 0,
                            "ticks": ""
                          }
                        },
                        "type": "scattergl"
                      }
                    ],
                    "scattermapbox": [
                      {
                        "marker": {
                          "colorbar": {
                            "outlinewidth": 0,
                            "ticks": ""
                          }
                        },
                        "type": "scattermapbox"
                      }
                    ],
                    "scatterpolar": [
                      {
                        "marker": {
                          "colorbar": {
                            "outlinewidth": 0,
                            "ticks": ""
                          }
                        },
                        "type": "scatterpolar"
                      }
                    ],
                    "scatterpolargl": [
                      {
                        "marker": {
                          "colorbar": {
                            "outlinewidth": 0,
                            "ticks": ""
                          }
                        },
                        "type": "scatterpolargl"
                      }
                    ],
                    "scatterternary": [
                      {
                        "marker": {
                          "colorbar": {
                            "outlinewidth": 0,
                            "ticks": ""
                          }
                        },
                        "type": "scatterternary"
                      }
                    ],
                    "surface": [
                      {
                        "colorbar": {
                          "outlinewidth": 0,
                          "ticks": ""
                        },
                        "colorscale": [
                          [
                            0,
                            "#0d0887"
                          ],
                          [
                            0.1111111111111111,
                            "#46039f"
                          ],
                          [
                            0.2222222222222222,
                            "#7201a8"
                          ],
                          [
                            0.3333333333333333,
                            "#9c179e"
                          ],
                          [
                            0.4444444444444444,
                            "#bd3786"
                          ],
                          [
                            0.5555555555555556,
                            "#d8576b"
                          ],
                          [
                            0.6666666666666666,
                            "#ed7953"
                          ],
                          [
                            0.7777777777777778,
                            "#fb9f3a"
                          ],
                          [
                            0.8888888888888888,
                            "#fdca26"
                          ],
                          [
                            1,
                            "#f0f921"
                          ]
                        ],
                        "type": "surface"
                      }
                    ],
                    "table": [
                      {
                        "cells": {
                          "fill": {
                            "color": "#EBF0F8"
                          },
                          "line": {
                            "color": "white"
                          }
                        },
                        "header": {
                          "fill": {
                            "color": "#C8D4E3"
                          },
                          "line": {
                            "color": "white"
                          }
                        },
                        "type": "table"
                      }
                    ]
                  },
                  "layout": {
                    "annotationdefaults": {
                      "arrowcolor": "#2a3f5f",
                      "arrowhead": 0,
                      "arrowwidth": 1
                    },
                    "autotypenumbers": "strict",
                    "coloraxis": {
                      "colorbar": {
                        "outlinewidth": 0,
                        "ticks": ""
                      }
                    },
                    "colorscale": {
                      "diverging": [
                        [
                          0,
                          "#8e0152"
                        ],
                        [
                          0.1,
                          "#c51b7d"
                        ],
                        [
                          0.2,
                          "#de77ae"
                        ],
                        [
                          0.3,
                          "#f1b6da"
                        ],
                        [
                          0.4,
                          "#fde0ef"
                        ],
                        [
                          0.5,
                          "#f7f7f7"
                        ],
                        [
                          0.6,
                          "#e6f5d0"
                        ],
                        [
                          0.7,
                          "#b8e186"
                        ],
                        [
                          0.8,
                          "#7fbc41"
                        ],
                        [
                          0.9,
                          "#4d9221"
                        ],
                        [
                          1,
                          "#276419"
                        ]
                      ],
                      "sequential": [
                        [
                          0,
                          "#0d0887"
                        ],
                        [
                          0.1111111111111111,
                          "#46039f"
                        ],
                        [
                          0.2222222222222222,
                          "#7201a8"
                        ],
                        [
                          0.3333333333333333,
                          "#9c179e"
                        ],
                        [
                          0.4444444444444444,
                          "#bd3786"
                        ],
                        [
                          0.5555555555555556,
                          "#d8576b"
                        ],
                        [
                          0.6666666666666666,
                          "#ed7953"
                        ],
                        [
                          0.7777777777777778,
                          "#fb9f3a"
                        ],
                        [
                          0.8888888888888888,
                          "#fdca26"
                        ],
                        [
                          1,
                          "#f0f921"
                        ]
                      ],
                      "sequentialminus": [
                        [
                          0,
                          "#0d0887"
                        ],
                        [
                          0.1111111111111111,
                          "#46039f"
                        ],
                        [
                          0.2222222222222222,
                          "#7201a8"
                        ],
                        [
                          0.3333333333333333,
                          "#9c179e"
                        ],
                        [
                          0.4444444444444444,
                          "#bd3786"
                        ],
                        [
                          0.5555555555555556,
                          "#d8576b"
                        ],
                        [
                          0.6666666666666666,
                          "#ed7953"
                        ],
                        [
                          0.7777777777777778,
                          "#fb9f3a"
                        ],
                        [
                          0.8888888888888888,
                          "#fdca26"
                        ],
                        [
                          1,
                          "#f0f921"
                        ]
                      ]
                    },
                    "colorway": [
                      "#636efa",
                      "#EF553B",
                      "#00cc96",
                      "#ab63fa",
                      "#FFA15A",
                      "#19d3f3",
                      "#FF6692",
                      "#B6E880",
                      "#FF97FF",
                      "#FECB52"
                    ],
                    "font": {
                      "color": "#2a3f5f"
                    },
                    "geo": {
                      "bgcolor": "white",
                      "lakecolor": "white",
                      "landcolor": "#E5ECF6",
                      "showlakes": true,
                      "showland": true,
                      "subunitcolor": "white"
                    },
                    "hoverlabel": {
                      "align": "left"
                    },
                    "hovermode": "closest",
                    "mapbox": {
                      "style": "light"
                    },
                    "paper_bgcolor": "white",
                    "plot_bgcolor": "#E5ECF6",
                    "polar": {
                      "angularaxis": {
                        "gridcolor": "white",
                        "linecolor": "white",
                        "ticks": ""
                      },
                      "bgcolor": "#E5ECF6",
                      "radialaxis": {
                        "gridcolor": "white",
                        "linecolor": "white",
                        "ticks": ""
                      }
                    },
                    "scene": {
                      "xaxis": {
                        "backgroundcolor": "#E5ECF6",
                        "gridcolor": "white",
                        "gridwidth": 2,
                        "linecolor": "white",
                        "showbackground": true,
                        "ticks": "",
                        "zerolinecolor": "white"
                      },
                      "yaxis": {
                        "backgroundcolor": "#E5ECF6",
                        "gridcolor": "white",
                        "gridwidth": 2,
                        "linecolor": "white",
                        "showbackground": true,
                        "ticks": "",
                        "zerolinecolor": "white"
                      },
                      "zaxis": {
                        "backgroundcolor": "#E5ECF6",
                        "gridcolor": "white",
                        "gridwidth": 2,
                        "linecolor": "white",
                        "showbackground": true,
                        "ticks": "",
                        "zerolinecolor": "white"
                      }
                    },
                    "shapedefaults": {
                      "line": {
                        "color": "#2a3f5f"
                      }
                    },
                    "ternary": {
                      "aaxis": {
                        "gridcolor": "white",
                        "linecolor": "white",
                        "ticks": ""
                      },
                      "baxis": {
                        "gridcolor": "white",
                        "linecolor": "white",
                        "ticks": ""
                      },
                      "bgcolor": "#E5ECF6",
                      "caxis": {
                        "gridcolor": "white",
                        "linecolor": "white",
                        "ticks": ""
                      }
                    },
                    "title": {
                      "x": 0.05
                    },
                    "xaxis": {
                      "automargin": true,
                      "gridcolor": "white",
                      "linecolor": "white",
                      "ticks": "",
                      "title": {
                        "standoff": 15
                      },
                      "zerolinecolor": "white",
                      "zerolinewidth": 2
                    },
                    "yaxis": {
                      "automargin": true,
                      "gridcolor": "white",
                      "linecolor": "white",
                      "ticks": "",
                      "title": {
                        "standoff": 15
                      },
                      "zerolinecolor": "white",
                      "zerolinewidth": 2
                    }
                  }
                },
                "title": {
                  "text": "nordeste"
                },
                "xaxis": {
                  "title": {
                    "text": "Time"
                  }
                },
                "yaxis": {
                  "title": {
                    "text": "Value"
                  }
                }
              }
            }
          },
          "metadata": {},
          "output_type": "display_data"
        },
        {
          "data": {
            "application/vnd.plotly.v1+json": {
              "config": {
                "plotlyServerURL": "https://plot.ly"
              },
              "data": [
                {
                  "marker": {
                    "color": "black"
                  },
                  "mode": "markers",
                  "name": "Real",
                  "type": "scatter",
                  "x": [
                    "2016-01-01T00:00:00.000000000",
                    "2016-02-01T00:00:00.000000000",
                    "2016-03-01T00:00:00.000000000",
                    "2016-04-01T00:00:00.000000000",
                    "2016-05-01T00:00:00.000000000",
                    "2016-06-01T00:00:00.000000000",
                    "2016-07-01T00:00:00.000000000",
                    "2016-08-01T00:00:00.000000000",
                    "2016-09-01T00:00:00.000000000",
                    "2016-10-01T00:00:00.000000000",
                    "2016-11-01T00:00:00.000000000",
                    "2016-12-01T00:00:00.000000000",
                    "2017-01-01T00:00:00.000000000",
                    "2017-02-01T00:00:00.000000000",
                    "2017-03-01T00:00:00.000000000",
                    "2017-04-01T00:00:00.000000000",
                    "2017-05-01T00:00:00.000000000",
                    "2017-06-01T00:00:00.000000000",
                    "2017-07-01T00:00:00.000000000",
                    "2017-08-01T00:00:00.000000000",
                    "2017-09-01T00:00:00.000000000",
                    "2017-10-01T00:00:00.000000000",
                    "2017-11-01T00:00:00.000000000",
                    "2017-12-01T00:00:00.000000000",
                    "2018-01-01T00:00:00.000000000",
                    "2018-02-01T00:00:00.000000000",
                    "2018-03-01T00:00:00.000000000",
                    "2018-04-01T00:00:00.000000000",
                    "2018-05-01T00:00:00.000000000",
                    "2018-06-01T00:00:00.000000000",
                    "2018-07-01T00:00:00.000000000",
                    "2018-08-01T00:00:00.000000000",
                    "2018-09-01T00:00:00.000000000",
                    "2018-10-01T00:00:00.000000000",
                    "2018-11-01T00:00:00.000000000",
                    "2018-12-01T00:00:00.000000000",
                    "2019-01-01T00:00:00.000000000",
                    "2019-02-01T00:00:00.000000000",
                    "2019-03-01T00:00:00.000000000",
                    "2019-04-01T00:00:00.000000000",
                    "2019-05-01T00:00:00.000000000",
                    "2019-06-01T00:00:00.000000000",
                    "2019-07-01T00:00:00.000000000",
                    "2019-08-01T00:00:00.000000000",
                    "2019-09-01T00:00:00.000000000",
                    "2019-10-01T00:00:00.000000000",
                    "2019-11-01T00:00:00.000000000",
                    "2019-12-01T00:00:00.000000000",
                    "2020-01-01T00:00:00.000000000",
                    "2020-02-01T00:00:00.000000000",
                    "2020-03-01T00:00:00.000000000",
                    "2020-04-01T00:00:00.000000000",
                    "2020-05-01T00:00:00.000000000",
                    "2020-06-01T00:00:00.000000000",
                    "2020-07-01T00:00:00.000000000",
                    "2020-08-01T00:00:00.000000000",
                    "2020-09-01T00:00:00.000000000",
                    "2020-10-01T00:00:00.000000000",
                    "2020-11-01T00:00:00.000000000",
                    "2020-12-01T00:00:00.000000000",
                    "2021-01-01T00:00:00.000000000",
                    "2021-02-01T00:00:00.000000000",
                    "2021-03-01T00:00:00.000000000",
                    "2021-04-01T00:00:00.000000000",
                    "2021-05-01T00:00:00.000000000",
                    "2021-06-01T00:00:00.000000000",
                    "2021-07-01T00:00:00.000000000",
                    "2021-08-01T00:00:00.000000000",
                    "2021-09-01T00:00:00.000000000",
                    "2021-10-01T00:00:00.000000000",
                    "2021-11-01T00:00:00.000000000",
                    "2021-12-01T00:00:00.000000000",
                    "2022-01-01T00:00:00.000000000",
                    "2022-02-01T00:00:00.000000000",
                    "2022-03-01T00:00:00.000000000",
                    "2022-04-01T00:00:00.000000000",
                    "2022-05-01T00:00:00.000000000",
                    "2022-06-01T00:00:00.000000000",
                    "2022-07-01T00:00:00.000000000",
                    "2022-08-01T00:00:00.000000000",
                    "2022-09-01T00:00:00.000000000",
                    "2022-10-01T00:00:00.000000000",
                    "2022-11-01T00:00:00.000000000",
                    "2022-12-01T00:00:00.000000000",
                    "2023-01-01T00:00:00.000000000",
                    "2023-02-01T00:00:00.000000000",
                    "2023-03-01T00:00:00.000000000",
                    "2023-04-01T00:00:00.000000000",
                    "2023-05-01T00:00:00.000000000",
                    "2023-06-01T00:00:00.000000000",
                    "2023-07-01T00:00:00.000000000",
                    "2023-08-01T00:00:00.000000000",
                    "2023-09-01T00:00:00.000000000",
                    "2023-10-01T00:00:00.000000000",
                    "2023-11-01T00:00:00.000000000",
                    "2023-12-01T00:00:00.000000000",
                    "2024-01-01T00:00:00.000000000",
                    "2024-02-01T00:00:00.000000000",
                    "2024-03-01T00:00:00.000000000",
                    "2024-04-01T00:00:00.000000000",
                    "2024-05-01T00:00:00.000000000",
                    "2024-06-01T00:00:00.000000000",
                    "2024-07-01T00:00:00.000000000",
                    "2024-08-01T00:00:00.000000000",
                    "2024-09-01T00:00:00.000000000",
                    "2024-10-01T00:00:00.000000000",
                    "2024-11-01T00:00:00.000000000",
                    "2024-12-01T00:00:00.000000000"
                  ],
                  "y": [
                    10.94140138935814,
                    11.15328950088905,
                    10.14758905562931,
                    10.44308980880159,
                    11.55083735896341,
                    11.95685296106196,
                    12.22283066210064,
                    12.05385659207865,
                    10.92216140369311,
                    12.10845663283263,
                    11.24456421169504,
                    11.47609852316225,
                    12.88323659257188,
                    13.1032856582817,
                    12.35336781907575,
                    12.88020271632866,
                    14.02622164361937,
                    14.72402408326935,
                    15.17299867199811,
                    16.74351799113445,
                    17.50080948783229,
                    18.55172512275677,
                    19.24970574031138,
                    19.01800430755296,
                    19.46595158061714,
                    20.15976295663337,
                    19.5755937946631,
                    18.94855506346339,
                    20.15326630623844,
                    22.43869993161474,
                    21.94833973527101,
                    22.20288933340647,
                    22.33010321743537,
                    22.09873934296177,
                    21.76821746001558,
                    21.6373515217586,
                    21.07423466406934,
                    21.67552708464263,
                    21.23759619107129,
                    19.9316636438358,
                    20.26943065317726,
                    21.23602606289089,
                    22.34085351006278,
                    24.30922820401304,
                    25.43228198261206,
                    25.11819516735495,
                    24.29750404133376,
                    24.97149009377163,
                    24.83673242467998,
                    24.13781817688348,
                    24.75752642998163,
                    30.65261778875609,
                    29.30167085828554,
                    27.19349012046812,
                    24.08971083654086,
                    23.74104219612153,
                    25.8040271595818,
                    26.77968851033053,
                    25.87867843836617,
                    24.1074706164223,
                    24.6740191716648,
                    25.34405108032609,
                    23.35680721884366,
                    25.01121970058513,
                    23.26195543586848,
                    25.29701485722184,
                    25.65159011900602,
                    27.5704057061705,
                    29.16117018095997,
                    28.00279767992944,
                    27.78879468166834,
                    25.40002259684501,
                    17.6181428963025,
                    23.84813931821445,
                    27.54613705762121,
                    27.30054765177304,
                    26.64035116454286,
                    22.90007569717366,
                    25.18426091216629,
                    29.10503793407317,
                    30.62601226921732,
                    28.648598238113,
                    27.25442111769045,
                    24.65804742760372,
                    29.3767082567674,
                    29.35335345089645,
                    27.47523146145193,
                    25.90432539246899,
                    27.49724158978332,
                    29.25956921751495,
                    29.95301692636741,
                    31.23975800511491,
                    32.12580544542293,
                    30.65647757713436,
                    30.30209761429681,
                    29.42344365830787,
                    29.99583327226321,
                    26.68997418777363,
                    25.75569553899327,
                    25.50803046568807,
                    26.94564098238045,
                    29.69432691172647,
                    30.674832310813,
                    30.99861280198531,
                    30.82455520280518,
                    31.49914319582232,
                    29.98598044981697,
                    29.58332957744388
                  ]
                },
                {
                  "line": {
                    "color": "black",
                    "dash": "dot"
                  },
                  "mode": "lines",
                  "name": "Baseline",
                  "type": "scatter",
                  "x": [
                    "2016-01-01T00:00:00.000000000",
                    "2016-02-01T00:00:00.000000000",
                    "2016-03-01T00:00:00.000000000",
                    "2016-04-01T00:00:00.000000000",
                    "2016-05-01T00:00:00.000000000",
                    "2016-06-01T00:00:00.000000000",
                    "2016-07-01T00:00:00.000000000",
                    "2016-08-01T00:00:00.000000000",
                    "2016-09-01T00:00:00.000000000",
                    "2016-10-01T00:00:00.000000000",
                    "2016-11-01T00:00:00.000000000",
                    "2016-12-01T00:00:00.000000000",
                    "2017-01-01T00:00:00.000000000",
                    "2017-02-01T00:00:00.000000000",
                    "2017-03-01T00:00:00.000000000",
                    "2017-04-01T00:00:00.000000000",
                    "2017-05-01T00:00:00.000000000",
                    "2017-06-01T00:00:00.000000000",
                    "2017-07-01T00:00:00.000000000",
                    "2017-08-01T00:00:00.000000000",
                    "2017-09-01T00:00:00.000000000",
                    "2017-10-01T00:00:00.000000000",
                    "2017-11-01T00:00:00.000000000",
                    "2017-12-01T00:00:00.000000000",
                    "2018-01-01T00:00:00.000000000",
                    "2018-02-01T00:00:00.000000000",
                    "2018-03-01T00:00:00.000000000",
                    "2018-04-01T00:00:00.000000000",
                    "2018-05-01T00:00:00.000000000",
                    "2018-06-01T00:00:00.000000000",
                    "2018-07-01T00:00:00.000000000",
                    "2018-08-01T00:00:00.000000000",
                    "2018-09-01T00:00:00.000000000",
                    "2018-10-01T00:00:00.000000000",
                    "2018-11-01T00:00:00.000000000",
                    "2018-12-01T00:00:00.000000000",
                    "2019-01-01T00:00:00.000000000",
                    "2019-02-01T00:00:00.000000000",
                    "2019-03-01T00:00:00.000000000",
                    "2019-04-01T00:00:00.000000000",
                    "2019-05-01T00:00:00.000000000",
                    "2019-06-01T00:00:00.000000000",
                    "2019-07-01T00:00:00.000000000",
                    "2019-08-01T00:00:00.000000000",
                    "2019-09-01T00:00:00.000000000",
                    "2019-10-01T00:00:00.000000000",
                    "2019-11-01T00:00:00.000000000",
                    "2019-12-01T00:00:00.000000000",
                    "2020-01-01T00:00:00.000000000",
                    "2020-02-01T00:00:00.000000000",
                    "2020-03-01T00:00:00.000000000",
                    "2020-04-01T00:00:00.000000000",
                    "2020-05-01T00:00:00.000000000",
                    "2020-06-01T00:00:00.000000000",
                    "2020-07-01T00:00:00.000000000",
                    "2020-08-01T00:00:00.000000000",
                    "2020-09-01T00:00:00.000000000",
                    "2020-10-01T00:00:00.000000000",
                    "2020-11-01T00:00:00.000000000",
                    "2020-12-01T00:00:00.000000000",
                    "2021-01-01T00:00:00.000000000",
                    "2021-02-01T00:00:00.000000000",
                    "2021-03-01T00:00:00.000000000",
                    "2021-04-01T00:00:00.000000000",
                    "2021-05-01T00:00:00.000000000",
                    "2021-06-01T00:00:00.000000000",
                    "2021-07-01T00:00:00.000000000",
                    "2021-08-01T00:00:00.000000000",
                    "2021-09-01T00:00:00.000000000",
                    "2021-10-01T00:00:00.000000000",
                    "2021-11-01T00:00:00.000000000",
                    "2021-12-01T00:00:00.000000000",
                    "2022-01-01T00:00:00.000000000",
                    "2022-02-01T00:00:00.000000000",
                    "2022-03-01T00:00:00.000000000",
                    "2022-04-01T00:00:00.000000000",
                    "2022-05-01T00:00:00.000000000",
                    "2022-06-01T00:00:00.000000000",
                    "2022-07-01T00:00:00.000000000",
                    "2022-08-01T00:00:00.000000000",
                    "2022-09-01T00:00:00.000000000",
                    "2022-10-01T00:00:00.000000000",
                    "2022-11-01T00:00:00.000000000",
                    "2022-12-01T00:00:00.000000000",
                    "2023-01-01T00:00:00.000000000",
                    "2023-02-01T00:00:00.000000000",
                    "2023-03-01T00:00:00.000000000",
                    "2023-04-01T00:00:00.000000000",
                    "2023-05-01T00:00:00.000000000",
                    "2023-06-01T00:00:00.000000000",
                    "2023-07-01T00:00:00.000000000",
                    "2023-08-01T00:00:00.000000000",
                    "2023-09-01T00:00:00.000000000",
                    "2023-10-01T00:00:00.000000000",
                    "2023-11-01T00:00:00.000000000",
                    "2023-12-01T00:00:00.000000000",
                    "2024-01-01T00:00:00.000000000",
                    "2024-02-01T00:00:00.000000000",
                    "2024-03-01T00:00:00.000000000",
                    "2024-04-01T00:00:00.000000000",
                    "2024-05-01T00:00:00.000000000",
                    "2024-06-01T00:00:00.000000000",
                    "2024-07-01T00:00:00.000000000",
                    "2024-08-01T00:00:00.000000000",
                    "2024-09-01T00:00:00.000000000",
                    "2024-10-01T00:00:00.000000000",
                    "2024-11-01T00:00:00.000000000",
                    "2024-12-01T00:00:00.000000000"
                  ],
                  "y": [
                    10.336294525224977,
                    10.634178157396043,
                    10.932061789567111,
                    11.229945421738178,
                    11.527829053909244,
                    11.825712686080312,
                    12.123596318251378,
                    12.421479950422444,
                    12.71936358259351,
                    13.017247214764577,
                    13.315130846935645,
                    13.613014479106711,
                    13.910898111277778,
                    14.208781743448846,
                    14.506665375619912,
                    14.804549007790978,
                    15.102432639962045,
                    15.40031627213311,
                    15.698199904304179,
                    15.996083536475245,
                    16.29396716864631,
                    16.59185080081738,
                    16.889734432988448,
                    17.187618065159512,
                    17.485501697330577,
                    17.783385329501645,
                    18.081268961672713,
                    18.379152593843777,
                    18.677036226014845,
                    18.974919858185913,
                    19.272803490356978,
                    19.570687122528046,
                    19.868570754699114,
                    20.16645438687018,
                    20.464338019041246,
                    20.762221651212315,
                    21.06010528338338,
                    21.357988915554447,
                    21.655872547725515,
                    21.95375617989658,
                    22.251639812067644,
                    22.549523444238712,
                    22.84740707640978,
                    23.145290708580845,
                    23.443174340751913,
                    23.74105797292298,
                    24.038941605094045,
                    24.336825237265113,
                    24.63470886943618,
                    24.932592501607246,
                    25.230476133778314,
                    25.528359765949382,
                    25.826243398120447,
                    26.124127030291515,
                    26.42201066246258,
                    26.719894294633647,
                    27.017777926804715,
                    27.31566155897578,
                    27.613545191146848,
                    27.911428823317916,
                    28.20931245548898,
                    28.50719608766005,
                    28.805079719831113,
                    29.10296335200218,
                    29.40084698417325,
                    29.698730616344314,
                    29.99661424851538,
                    30.294497880686446,
                    30.592381512857514,
                    30.890265145028582,
                    31.188148777199647,
                    31.486032409370715,
                    31.783916041541783,
                    32.08179967371285,
                    32.379683305883916,
                    32.67756693805498,
                    32.975450570226045,
                    33.273334202397116,
                    33.57121783456818,
                    33.86910146673925,
                    34.16698509891032,
                    34.46486873108138,
                    34.762752363252446,
                    35.06063599542351,
                    35.35851962759458,
                    35.65640325976565,
                    35.95428689193672,
                    36.25217052410778,
                    36.55005415627885,
                    36.84793778844991,
                    37.14582142062098,
                    37.443705052792055,
                    37.74158868496312,
                    38.039472317134184,
                    38.33735594930525,
                    38.63523958147631,
                    38.933123213647384,
                    39.23100684581845,
                    39.52889047798952,
                    39.826774110160585,
                    40.12465774233165,
                    40.422541374502714,
                    40.72042500667378,
                    41.01830863884485,
                    41.31619227101592,
                    41.614075903186986,
                    41.91195953535805,
                    42.209843167529115
                  ]
                },
                {
                  "line": {
                    "color": "purple"
                  },
                  "mode": "lines",
                  "name": "Full model",
                  "type": "scatter",
                  "x": [
                    "2016-01-01T00:00:00.000000000",
                    "2016-02-01T00:00:00.000000000",
                    "2016-03-01T00:00:00.000000000",
                    "2016-04-01T00:00:00.000000000",
                    "2016-05-01T00:00:00.000000000",
                    "2016-06-01T00:00:00.000000000",
                    "2016-07-01T00:00:00.000000000",
                    "2016-08-01T00:00:00.000000000",
                    "2016-09-01T00:00:00.000000000",
                    "2016-10-01T00:00:00.000000000",
                    "2016-11-01T00:00:00.000000000",
                    "2016-12-01T00:00:00.000000000",
                    "2017-01-01T00:00:00.000000000",
                    "2017-02-01T00:00:00.000000000",
                    "2017-03-01T00:00:00.000000000",
                    "2017-04-01T00:00:00.000000000",
                    "2017-05-01T00:00:00.000000000",
                    "2017-06-01T00:00:00.000000000",
                    "2017-07-01T00:00:00.000000000",
                    "2017-08-01T00:00:00.000000000",
                    "2017-09-01T00:00:00.000000000",
                    "2017-10-01T00:00:00.000000000",
                    "2017-11-01T00:00:00.000000000",
                    "2017-12-01T00:00:00.000000000",
                    "2018-01-01T00:00:00.000000000",
                    "2018-02-01T00:00:00.000000000",
                    "2018-03-01T00:00:00.000000000",
                    "2018-04-01T00:00:00.000000000",
                    "2018-05-01T00:00:00.000000000",
                    "2018-06-01T00:00:00.000000000",
                    "2018-07-01T00:00:00.000000000",
                    "2018-08-01T00:00:00.000000000",
                    "2018-09-01T00:00:00.000000000",
                    "2018-10-01T00:00:00.000000000",
                    "2018-11-01T00:00:00.000000000",
                    "2018-12-01T00:00:00.000000000",
                    "2019-01-01T00:00:00.000000000",
                    "2019-02-01T00:00:00.000000000",
                    "2019-03-01T00:00:00.000000000",
                    "2019-04-01T00:00:00.000000000",
                    "2019-05-01T00:00:00.000000000",
                    "2019-06-01T00:00:00.000000000",
                    "2019-07-01T00:00:00.000000000",
                    "2019-08-01T00:00:00.000000000",
                    "2019-09-01T00:00:00.000000000",
                    "2019-10-01T00:00:00.000000000",
                    "2019-11-01T00:00:00.000000000",
                    "2019-12-01T00:00:00.000000000",
                    "2020-01-01T00:00:00.000000000",
                    "2020-02-01T00:00:00.000000000",
                    "2020-03-01T00:00:00.000000000",
                    "2020-04-01T00:00:00.000000000",
                    "2020-05-01T00:00:00.000000000",
                    "2020-06-01T00:00:00.000000000",
                    "2020-07-01T00:00:00.000000000",
                    "2020-08-01T00:00:00.000000000",
                    "2020-09-01T00:00:00.000000000",
                    "2020-10-01T00:00:00.000000000",
                    "2020-11-01T00:00:00.000000000",
                    "2020-12-01T00:00:00.000000000",
                    "2021-01-01T00:00:00.000000000",
                    "2021-02-01T00:00:00.000000000",
                    "2021-03-01T00:00:00.000000000",
                    "2021-04-01T00:00:00.000000000",
                    "2021-05-01T00:00:00.000000000",
                    "2021-06-01T00:00:00.000000000",
                    "2021-07-01T00:00:00.000000000",
                    "2021-08-01T00:00:00.000000000",
                    "2021-09-01T00:00:00.000000000",
                    "2021-10-01T00:00:00.000000000",
                    "2021-11-01T00:00:00.000000000",
                    "2021-12-01T00:00:00.000000000",
                    "2022-01-01T00:00:00.000000000",
                    "2022-02-01T00:00:00.000000000",
                    "2022-03-01T00:00:00.000000000",
                    "2022-04-01T00:00:00.000000000",
                    "2022-05-01T00:00:00.000000000",
                    "2022-06-01T00:00:00.000000000",
                    "2022-07-01T00:00:00.000000000",
                    "2022-08-01T00:00:00.000000000",
                    "2022-09-01T00:00:00.000000000",
                    "2022-10-01T00:00:00.000000000",
                    "2022-11-01T00:00:00.000000000",
                    "2022-12-01T00:00:00.000000000",
                    "2023-01-01T00:00:00.000000000",
                    "2023-02-01T00:00:00.000000000",
                    "2023-03-01T00:00:00.000000000",
                    "2023-04-01T00:00:00.000000000",
                    "2023-05-01T00:00:00.000000000",
                    "2023-06-01T00:00:00.000000000",
                    "2023-07-01T00:00:00.000000000",
                    "2023-08-01T00:00:00.000000000",
                    "2023-09-01T00:00:00.000000000",
                    "2023-10-01T00:00:00.000000000",
                    "2023-11-01T00:00:00.000000000",
                    "2023-12-01T00:00:00.000000000",
                    "2024-01-01T00:00:00.000000000",
                    "2024-02-01T00:00:00.000000000",
                    "2024-03-01T00:00:00.000000000",
                    "2024-04-01T00:00:00.000000000",
                    "2024-05-01T00:00:00.000000000",
                    "2024-06-01T00:00:00.000000000",
                    "2024-07-01T00:00:00.000000000",
                    "2024-08-01T00:00:00.000000000",
                    "2024-09-01T00:00:00.000000000",
                    "2024-10-01T00:00:00.000000000",
                    "2024-11-01T00:00:00.000000000",
                    "2024-12-01T00:00:00.000000000"
                  ],
                  "y": [
                    10.336294525224977,
                    10.634178157396043,
                    10.932061789567111,
                    11.229945421738178,
                    11.527829053909244,
                    11.825712686080312,
                    12.123596318251378,
                    12.421479950422444,
                    12.71936358259351,
                    13.017247214764577,
                    13.315130846935645,
                    13.613014479106711,
                    13.910898111277778,
                    14.208781743448846,
                    14.506665375619912,
                    14.804549007790978,
                    15.102432639962045,
                    15.40031627213311,
                    15.698199904304179,
                    15.996083536475245,
                    16.29396716864631,
                    16.59185080081738,
                    16.889734432988448,
                    17.187618065159512,
                    17.485501697330577,
                    17.783385329501645,
                    18.081268961672713,
                    18.379152593843777,
                    18.677036226014845,
                    18.974919858185913,
                    19.272803490356978,
                    19.570687122528046,
                    19.868570754699114,
                    20.16645438687018,
                    20.464338019041246,
                    20.762221651212315,
                    21.06010528338338,
                    21.357988915554447,
                    21.655872547725515,
                    21.95375617989658,
                    22.251639812067644,
                    22.549523444238712,
                    22.84740707640978,
                    23.145290708580845,
                    23.443174340751913,
                    23.74105797292298,
                    24.038941605094045,
                    24.336825237265113,
                    24.63470886943618,
                    24.932592501607246,
                    25.230476133778314,
                    28.13858674506896,
                    27.99617220059162,
                    27.853757656114286,
                    27.71134311163695,
                    27.568928567159613,
                    27.42651402268228,
                    27.284099478204944,
                    27.141684933727607,
                    26.999270389250274,
                    26.856855844772937,
                    26.7144413002956,
                    26.572026755818264,
                    26.429612211340924,
                    26.287197666863594,
                    26.144783122386258,
                    26.002368577908918,
                    25.85995403343158,
                    25.71753948895425,
                    25.57512494447691,
                    25.432710399999575,
                    25.290295855522245,
                    25.147881311044905,
                    25.005466766567572,
                    24.86305222209024,
                    26.235732297100164,
                    26.366502485355824,
                    26.497272673611487,
                    26.628042861867144,
                    26.75881305012281,
                    26.889583238378467,
                    27.020353426634124,
                    27.15112361488978,
                    27.28189380314544,
                    27.412663991401104,
                    27.543434179656767,
                    27.674204367912424,
                    27.804974556168084,
                    27.93574474442374,
                    28.066514932679397,
                    28.197285120935064,
                    28.328055309190727,
                    28.458825497446384,
                    28.589595685702044,
                    28.720365873957697,
                    28.851136062213353,
                    28.981906250469024,
                    29.112676438724684,
                    29.24344662698034,
                    29.374216815235997,
                    29.504987003491657,
                    29.635757191747313,
                    29.76652738000297,
                    29.897297568258644,
                    30.0280677565143,
                    30.158837944769957,
                    30.289608133025617,
                    30.420378321281273
                  ]
                }
              ],
              "layout": {
                "annotations": [
                  {
                    "arrowhead": 2,
                    "ax": 30,
                    "ay": -40,
                    "showarrow": true,
                    "text": "Pandemia",
                    "x": "2020-04-01",
                    "y": 32.12580544542293
                  },
                  {
                    "arrowhead": 2,
                    "ax": 30,
                    "ay": -40,
                    "showarrow": true,
                    "text": "Pos Pandemia",
                    "x": "2022-04-01",
                    "y": 32.12580544542293
                  }
                ],
                "legend": {
                  "title": {
                    "text": "Legend"
                  }
                },
                "shapes": [
                  {
                    "line": {
                      "color": "black",
                      "dash": "dash"
                    },
                    "type": "line",
                    "x0": "2020-04-01",
                    "x1": "2020-04-01",
                    "y0": 10.14758905562931,
                    "y1": 32.12580544542293
                  },
                  {
                    "line": {
                      "color": "black",
                      "dash": "dash"
                    },
                    "type": "line",
                    "x0": "2022-04-01",
                    "x1": "2022-04-01",
                    "y0": 10.14758905562931,
                    "y1": 32.12580544542293
                  }
                ],
                "template": {
                  "data": {
                    "bar": [
                      {
                        "error_x": {
                          "color": "#2a3f5f"
                        },
                        "error_y": {
                          "color": "#2a3f5f"
                        },
                        "marker": {
                          "line": {
                            "color": "#E5ECF6",
                            "width": 0.5
                          },
                          "pattern": {
                            "fillmode": "overlay",
                            "size": 10,
                            "solidity": 0.2
                          }
                        },
                        "type": "bar"
                      }
                    ],
                    "barpolar": [
                      {
                        "marker": {
                          "line": {
                            "color": "#E5ECF6",
                            "width": 0.5
                          },
                          "pattern": {
                            "fillmode": "overlay",
                            "size": 10,
                            "solidity": 0.2
                          }
                        },
                        "type": "barpolar"
                      }
                    ],
                    "carpet": [
                      {
                        "aaxis": {
                          "endlinecolor": "#2a3f5f",
                          "gridcolor": "white",
                          "linecolor": "white",
                          "minorgridcolor": "white",
                          "startlinecolor": "#2a3f5f"
                        },
                        "baxis": {
                          "endlinecolor": "#2a3f5f",
                          "gridcolor": "white",
                          "linecolor": "white",
                          "minorgridcolor": "white",
                          "startlinecolor": "#2a3f5f"
                        },
                        "type": "carpet"
                      }
                    ],
                    "choropleth": [
                      {
                        "colorbar": {
                          "outlinewidth": 0,
                          "ticks": ""
                        },
                        "type": "choropleth"
                      }
                    ],
                    "contour": [
                      {
                        "colorbar": {
                          "outlinewidth": 0,
                          "ticks": ""
                        },
                        "colorscale": [
                          [
                            0,
                            "#0d0887"
                          ],
                          [
                            0.1111111111111111,
                            "#46039f"
                          ],
                          [
                            0.2222222222222222,
                            "#7201a8"
                          ],
                          [
                            0.3333333333333333,
                            "#9c179e"
                          ],
                          [
                            0.4444444444444444,
                            "#bd3786"
                          ],
                          [
                            0.5555555555555556,
                            "#d8576b"
                          ],
                          [
                            0.6666666666666666,
                            "#ed7953"
                          ],
                          [
                            0.7777777777777778,
                            "#fb9f3a"
                          ],
                          [
                            0.8888888888888888,
                            "#fdca26"
                          ],
                          [
                            1,
                            "#f0f921"
                          ]
                        ],
                        "type": "contour"
                      }
                    ],
                    "contourcarpet": [
                      {
                        "colorbar": {
                          "outlinewidth": 0,
                          "ticks": ""
                        },
                        "type": "contourcarpet"
                      }
                    ],
                    "heatmap": [
                      {
                        "colorbar": {
                          "outlinewidth": 0,
                          "ticks": ""
                        },
                        "colorscale": [
                          [
                            0,
                            "#0d0887"
                          ],
                          [
                            0.1111111111111111,
                            "#46039f"
                          ],
                          [
                            0.2222222222222222,
                            "#7201a8"
                          ],
                          [
                            0.3333333333333333,
                            "#9c179e"
                          ],
                          [
                            0.4444444444444444,
                            "#bd3786"
                          ],
                          [
                            0.5555555555555556,
                            "#d8576b"
                          ],
                          [
                            0.6666666666666666,
                            "#ed7953"
                          ],
                          [
                            0.7777777777777778,
                            "#fb9f3a"
                          ],
                          [
                            0.8888888888888888,
                            "#fdca26"
                          ],
                          [
                            1,
                            "#f0f921"
                          ]
                        ],
                        "type": "heatmap"
                      }
                    ],
                    "heatmapgl": [
                      {
                        "colorbar": {
                          "outlinewidth": 0,
                          "ticks": ""
                        },
                        "colorscale": [
                          [
                            0,
                            "#0d0887"
                          ],
                          [
                            0.1111111111111111,
                            "#46039f"
                          ],
                          [
                            0.2222222222222222,
                            "#7201a8"
                          ],
                          [
                            0.3333333333333333,
                            "#9c179e"
                          ],
                          [
                            0.4444444444444444,
                            "#bd3786"
                          ],
                          [
                            0.5555555555555556,
                            "#d8576b"
                          ],
                          [
                            0.6666666666666666,
                            "#ed7953"
                          ],
                          [
                            0.7777777777777778,
                            "#fb9f3a"
                          ],
                          [
                            0.8888888888888888,
                            "#fdca26"
                          ],
                          [
                            1,
                            "#f0f921"
                          ]
                        ],
                        "type": "heatmapgl"
                      }
                    ],
                    "histogram": [
                      {
                        "marker": {
                          "pattern": {
                            "fillmode": "overlay",
                            "size": 10,
                            "solidity": 0.2
                          }
                        },
                        "type": "histogram"
                      }
                    ],
                    "histogram2d": [
                      {
                        "colorbar": {
                          "outlinewidth": 0,
                          "ticks": ""
                        },
                        "colorscale": [
                          [
                            0,
                            "#0d0887"
                          ],
                          [
                            0.1111111111111111,
                            "#46039f"
                          ],
                          [
                            0.2222222222222222,
                            "#7201a8"
                          ],
                          [
                            0.3333333333333333,
                            "#9c179e"
                          ],
                          [
                            0.4444444444444444,
                            "#bd3786"
                          ],
                          [
                            0.5555555555555556,
                            "#d8576b"
                          ],
                          [
                            0.6666666666666666,
                            "#ed7953"
                          ],
                          [
                            0.7777777777777778,
                            "#fb9f3a"
                          ],
                          [
                            0.8888888888888888,
                            "#fdca26"
                          ],
                          [
                            1,
                            "#f0f921"
                          ]
                        ],
                        "type": "histogram2d"
                      }
                    ],
                    "histogram2dcontour": [
                      {
                        "colorbar": {
                          "outlinewidth": 0,
                          "ticks": ""
                        },
                        "colorscale": [
                          [
                            0,
                            "#0d0887"
                          ],
                          [
                            0.1111111111111111,
                            "#46039f"
                          ],
                          [
                            0.2222222222222222,
                            "#7201a8"
                          ],
                          [
                            0.3333333333333333,
                            "#9c179e"
                          ],
                          [
                            0.4444444444444444,
                            "#bd3786"
                          ],
                          [
                            0.5555555555555556,
                            "#d8576b"
                          ],
                          [
                            0.6666666666666666,
                            "#ed7953"
                          ],
                          [
                            0.7777777777777778,
                            "#fb9f3a"
                          ],
                          [
                            0.8888888888888888,
                            "#fdca26"
                          ],
                          [
                            1,
                            "#f0f921"
                          ]
                        ],
                        "type": "histogram2dcontour"
                      }
                    ],
                    "mesh3d": [
                      {
                        "colorbar": {
                          "outlinewidth": 0,
                          "ticks": ""
                        },
                        "type": "mesh3d"
                      }
                    ],
                    "parcoords": [
                      {
                        "line": {
                          "colorbar": {
                            "outlinewidth": 0,
                            "ticks": ""
                          }
                        },
                        "type": "parcoords"
                      }
                    ],
                    "pie": [
                      {
                        "automargin": true,
                        "type": "pie"
                      }
                    ],
                    "scatter": [
                      {
                        "fillpattern": {
                          "fillmode": "overlay",
                          "size": 10,
                          "solidity": 0.2
                        },
                        "type": "scatter"
                      }
                    ],
                    "scatter3d": [
                      {
                        "line": {
                          "colorbar": {
                            "outlinewidth": 0,
                            "ticks": ""
                          }
                        },
                        "marker": {
                          "colorbar": {
                            "outlinewidth": 0,
                            "ticks": ""
                          }
                        },
                        "type": "scatter3d"
                      }
                    ],
                    "scattercarpet": [
                      {
                        "marker": {
                          "colorbar": {
                            "outlinewidth": 0,
                            "ticks": ""
                          }
                        },
                        "type": "scattercarpet"
                      }
                    ],
                    "scattergeo": [
                      {
                        "marker": {
                          "colorbar": {
                            "outlinewidth": 0,
                            "ticks": ""
                          }
                        },
                        "type": "scattergeo"
                      }
                    ],
                    "scattergl": [
                      {
                        "marker": {
                          "colorbar": {
                            "outlinewidth": 0,
                            "ticks": ""
                          }
                        },
                        "type": "scattergl"
                      }
                    ],
                    "scattermapbox": [
                      {
                        "marker": {
                          "colorbar": {
                            "outlinewidth": 0,
                            "ticks": ""
                          }
                        },
                        "type": "scattermapbox"
                      }
                    ],
                    "scatterpolar": [
                      {
                        "marker": {
                          "colorbar": {
                            "outlinewidth": 0,
                            "ticks": ""
                          }
                        },
                        "type": "scatterpolar"
                      }
                    ],
                    "scatterpolargl": [
                      {
                        "marker": {
                          "colorbar": {
                            "outlinewidth": 0,
                            "ticks": ""
                          }
                        },
                        "type": "scatterpolargl"
                      }
                    ],
                    "scatterternary": [
                      {
                        "marker": {
                          "colorbar": {
                            "outlinewidth": 0,
                            "ticks": ""
                          }
                        },
                        "type": "scatterternary"
                      }
                    ],
                    "surface": [
                      {
                        "colorbar": {
                          "outlinewidth": 0,
                          "ticks": ""
                        },
                        "colorscale": [
                          [
                            0,
                            "#0d0887"
                          ],
                          [
                            0.1111111111111111,
                            "#46039f"
                          ],
                          [
                            0.2222222222222222,
                            "#7201a8"
                          ],
                          [
                            0.3333333333333333,
                            "#9c179e"
                          ],
                          [
                            0.4444444444444444,
                            "#bd3786"
                          ],
                          [
                            0.5555555555555556,
                            "#d8576b"
                          ],
                          [
                            0.6666666666666666,
                            "#ed7953"
                          ],
                          [
                            0.7777777777777778,
                            "#fb9f3a"
                          ],
                          [
                            0.8888888888888888,
                            "#fdca26"
                          ],
                          [
                            1,
                            "#f0f921"
                          ]
                        ],
                        "type": "surface"
                      }
                    ],
                    "table": [
                      {
                        "cells": {
                          "fill": {
                            "color": "#EBF0F8"
                          },
                          "line": {
                            "color": "white"
                          }
                        },
                        "header": {
                          "fill": {
                            "color": "#C8D4E3"
                          },
                          "line": {
                            "color": "white"
                          }
                        },
                        "type": "table"
                      }
                    ]
                  },
                  "layout": {
                    "annotationdefaults": {
                      "arrowcolor": "#2a3f5f",
                      "arrowhead": 0,
                      "arrowwidth": 1
                    },
                    "autotypenumbers": "strict",
                    "coloraxis": {
                      "colorbar": {
                        "outlinewidth": 0,
                        "ticks": ""
                      }
                    },
                    "colorscale": {
                      "diverging": [
                        [
                          0,
                          "#8e0152"
                        ],
                        [
                          0.1,
                          "#c51b7d"
                        ],
                        [
                          0.2,
                          "#de77ae"
                        ],
                        [
                          0.3,
                          "#f1b6da"
                        ],
                        [
                          0.4,
                          "#fde0ef"
                        ],
                        [
                          0.5,
                          "#f7f7f7"
                        ],
                        [
                          0.6,
                          "#e6f5d0"
                        ],
                        [
                          0.7,
                          "#b8e186"
                        ],
                        [
                          0.8,
                          "#7fbc41"
                        ],
                        [
                          0.9,
                          "#4d9221"
                        ],
                        [
                          1,
                          "#276419"
                        ]
                      ],
                      "sequential": [
                        [
                          0,
                          "#0d0887"
                        ],
                        [
                          0.1111111111111111,
                          "#46039f"
                        ],
                        [
                          0.2222222222222222,
                          "#7201a8"
                        ],
                        [
                          0.3333333333333333,
                          "#9c179e"
                        ],
                        [
                          0.4444444444444444,
                          "#bd3786"
                        ],
                        [
                          0.5555555555555556,
                          "#d8576b"
                        ],
                        [
                          0.6666666666666666,
                          "#ed7953"
                        ],
                        [
                          0.7777777777777778,
                          "#fb9f3a"
                        ],
                        [
                          0.8888888888888888,
                          "#fdca26"
                        ],
                        [
                          1,
                          "#f0f921"
                        ]
                      ],
                      "sequentialminus": [
                        [
                          0,
                          "#0d0887"
                        ],
                        [
                          0.1111111111111111,
                          "#46039f"
                        ],
                        [
                          0.2222222222222222,
                          "#7201a8"
                        ],
                        [
                          0.3333333333333333,
                          "#9c179e"
                        ],
                        [
                          0.4444444444444444,
                          "#bd3786"
                        ],
                        [
                          0.5555555555555556,
                          "#d8576b"
                        ],
                        [
                          0.6666666666666666,
                          "#ed7953"
                        ],
                        [
                          0.7777777777777778,
                          "#fb9f3a"
                        ],
                        [
                          0.8888888888888888,
                          "#fdca26"
                        ],
                        [
                          1,
                          "#f0f921"
                        ]
                      ]
                    },
                    "colorway": [
                      "#636efa",
                      "#EF553B",
                      "#00cc96",
                      "#ab63fa",
                      "#FFA15A",
                      "#19d3f3",
                      "#FF6692",
                      "#B6E880",
                      "#FF97FF",
                      "#FECB52"
                    ],
                    "font": {
                      "color": "#2a3f5f"
                    },
                    "geo": {
                      "bgcolor": "white",
                      "lakecolor": "white",
                      "landcolor": "#E5ECF6",
                      "showlakes": true,
                      "showland": true,
                      "subunitcolor": "white"
                    },
                    "hoverlabel": {
                      "align": "left"
                    },
                    "hovermode": "closest",
                    "mapbox": {
                      "style": "light"
                    },
                    "paper_bgcolor": "white",
                    "plot_bgcolor": "#E5ECF6",
                    "polar": {
                      "angularaxis": {
                        "gridcolor": "white",
                        "linecolor": "white",
                        "ticks": ""
                      },
                      "bgcolor": "#E5ECF6",
                      "radialaxis": {
                        "gridcolor": "white",
                        "linecolor": "white",
                        "ticks": ""
                      }
                    },
                    "scene": {
                      "xaxis": {
                        "backgroundcolor": "#E5ECF6",
                        "gridcolor": "white",
                        "gridwidth": 2,
                        "linecolor": "white",
                        "showbackground": true,
                        "ticks": "",
                        "zerolinecolor": "white"
                      },
                      "yaxis": {
                        "backgroundcolor": "#E5ECF6",
                        "gridcolor": "white",
                        "gridwidth": 2,
                        "linecolor": "white",
                        "showbackground": true,
                        "ticks": "",
                        "zerolinecolor": "white"
                      },
                      "zaxis": {
                        "backgroundcolor": "#E5ECF6",
                        "gridcolor": "white",
                        "gridwidth": 2,
                        "linecolor": "white",
                        "showbackground": true,
                        "ticks": "",
                        "zerolinecolor": "white"
                      }
                    },
                    "shapedefaults": {
                      "line": {
                        "color": "#2a3f5f"
                      }
                    },
                    "ternary": {
                      "aaxis": {
                        "gridcolor": "white",
                        "linecolor": "white",
                        "ticks": ""
                      },
                      "baxis": {
                        "gridcolor": "white",
                        "linecolor": "white",
                        "ticks": ""
                      },
                      "bgcolor": "#E5ECF6",
                      "caxis": {
                        "gridcolor": "white",
                        "linecolor": "white",
                        "ticks": ""
                      }
                    },
                    "title": {
                      "x": 0.05
                    },
                    "xaxis": {
                      "automargin": true,
                      "gridcolor": "white",
                      "linecolor": "white",
                      "ticks": "",
                      "title": {
                        "standoff": 15
                      },
                      "zerolinecolor": "white",
                      "zerolinewidth": 2
                    },
                    "yaxis": {
                      "automargin": true,
                      "gridcolor": "white",
                      "linecolor": "white",
                      "ticks": "",
                      "title": {
                        "standoff": 15
                      },
                      "zerolinecolor": "white",
                      "zerolinewidth": 2
                    }
                  }
                },
                "title": {
                  "text": "centro_oeste"
                },
                "xaxis": {
                  "title": {
                    "text": "Time"
                  }
                },
                "yaxis": {
                  "title": {
                    "text": "Value"
                  }
                }
              }
            }
          },
          "metadata": {},
          "output_type": "display_data"
        },
        {
          "data": {
            "application/vnd.plotly.v1+json": {
              "config": {
                "plotlyServerURL": "https://plot.ly"
              },
              "data": [
                {
                  "marker": {
                    "color": "black"
                  },
                  "mode": "markers",
                  "name": "Real",
                  "type": "scatter",
                  "x": [
                    "2016-01-01T00:00:00.000000000",
                    "2016-02-01T00:00:00.000000000",
                    "2016-03-01T00:00:00.000000000",
                    "2016-04-01T00:00:00.000000000",
                    "2016-05-01T00:00:00.000000000",
                    "2016-06-01T00:00:00.000000000",
                    "2016-07-01T00:00:00.000000000",
                    "2016-08-01T00:00:00.000000000",
                    "2016-09-01T00:00:00.000000000",
                    "2016-10-01T00:00:00.000000000",
                    "2016-11-01T00:00:00.000000000",
                    "2016-12-01T00:00:00.000000000",
                    "2017-01-01T00:00:00.000000000",
                    "2017-02-01T00:00:00.000000000",
                    "2017-03-01T00:00:00.000000000",
                    "2017-04-01T00:00:00.000000000",
                    "2017-05-01T00:00:00.000000000",
                    "2017-06-01T00:00:00.000000000",
                    "2017-07-01T00:00:00.000000000",
                    "2017-08-01T00:00:00.000000000",
                    "2017-09-01T00:00:00.000000000",
                    "2017-10-01T00:00:00.000000000",
                    "2017-11-01T00:00:00.000000000",
                    "2017-12-01T00:00:00.000000000",
                    "2018-01-01T00:00:00.000000000",
                    "2018-02-01T00:00:00.000000000",
                    "2018-03-01T00:00:00.000000000",
                    "2018-04-01T00:00:00.000000000",
                    "2018-05-01T00:00:00.000000000",
                    "2018-06-01T00:00:00.000000000",
                    "2018-07-01T00:00:00.000000000",
                    "2018-08-01T00:00:00.000000000",
                    "2018-09-01T00:00:00.000000000",
                    "2018-10-01T00:00:00.000000000",
                    "2018-11-01T00:00:00.000000000",
                    "2018-12-01T00:00:00.000000000",
                    "2019-01-01T00:00:00.000000000",
                    "2019-02-01T00:00:00.000000000",
                    "2019-03-01T00:00:00.000000000",
                    "2019-04-01T00:00:00.000000000",
                    "2019-05-01T00:00:00.000000000",
                    "2019-06-01T00:00:00.000000000",
                    "2019-07-01T00:00:00.000000000",
                    "2019-08-01T00:00:00.000000000",
                    "2019-09-01T00:00:00.000000000",
                    "2019-10-01T00:00:00.000000000",
                    "2019-11-01T00:00:00.000000000",
                    "2019-12-01T00:00:00.000000000",
                    "2020-01-01T00:00:00.000000000",
                    "2020-02-01T00:00:00.000000000",
                    "2020-03-01T00:00:00.000000000",
                    "2020-04-01T00:00:00.000000000",
                    "2020-05-01T00:00:00.000000000",
                    "2020-06-01T00:00:00.000000000",
                    "2020-07-01T00:00:00.000000000",
                    "2020-08-01T00:00:00.000000000",
                    "2020-09-01T00:00:00.000000000",
                    "2020-10-01T00:00:00.000000000",
                    "2020-11-01T00:00:00.000000000",
                    "2020-12-01T00:00:00.000000000",
                    "2021-01-01T00:00:00.000000000",
                    "2021-02-01T00:00:00.000000000",
                    "2021-03-01T00:00:00.000000000",
                    "2021-04-01T00:00:00.000000000",
                    "2021-05-01T00:00:00.000000000",
                    "2021-06-01T00:00:00.000000000",
                    "2021-07-01T00:00:00.000000000",
                    "2021-08-01T00:00:00.000000000",
                    "2021-09-01T00:00:00.000000000",
                    "2021-10-01T00:00:00.000000000",
                    "2021-11-01T00:00:00.000000000",
                    "2021-12-01T00:00:00.000000000",
                    "2022-01-01T00:00:00.000000000",
                    "2022-02-01T00:00:00.000000000",
                    "2022-03-01T00:00:00.000000000",
                    "2022-04-01T00:00:00.000000000",
                    "2022-05-01T00:00:00.000000000",
                    "2022-06-01T00:00:00.000000000",
                    "2022-07-01T00:00:00.000000000",
                    "2022-08-01T00:00:00.000000000",
                    "2022-09-01T00:00:00.000000000",
                    "2022-10-01T00:00:00.000000000",
                    "2022-11-01T00:00:00.000000000",
                    "2022-12-01T00:00:00.000000000",
                    "2023-01-01T00:00:00.000000000",
                    "2023-02-01T00:00:00.000000000",
                    "2023-03-01T00:00:00.000000000",
                    "2023-04-01T00:00:00.000000000",
                    "2023-05-01T00:00:00.000000000",
                    "2023-06-01T00:00:00.000000000",
                    "2023-07-01T00:00:00.000000000",
                    "2023-08-01T00:00:00.000000000",
                    "2023-09-01T00:00:00.000000000",
                    "2023-10-01T00:00:00.000000000",
                    "2023-11-01T00:00:00.000000000",
                    "2023-12-01T00:00:00.000000000",
                    "2024-01-01T00:00:00.000000000",
                    "2024-02-01T00:00:00.000000000",
                    "2024-03-01T00:00:00.000000000",
                    "2024-04-01T00:00:00.000000000",
                    "2024-05-01T00:00:00.000000000",
                    "2024-06-01T00:00:00.000000000",
                    "2024-07-01T00:00:00.000000000",
                    "2024-08-01T00:00:00.000000000",
                    "2024-09-01T00:00:00.000000000",
                    "2024-10-01T00:00:00.000000000",
                    "2024-11-01T00:00:00.000000000",
                    "2024-12-01T00:00:00.000000000"
                  ],
                  "y": [
                    13.491333507280263,
                    12.124306579825205,
                    11.411492827787312,
                    11.492224440694576,
                    11.701410385907677,
                    12.249352739691794,
                    12.56412920101406,
                    12.383132434206999,
                    12.91299528305369,
                    13.405705350250694,
                    13.704459760086426,
                    15.229921390327647,
                    14.118751936001305,
                    13.66692261599855,
                    13.595790478688976,
                    14.088462366107436,
                    13.558489111766301,
                    14.499502173522849,
                    14.322621294924698,
                    14.880335295777416,
                    15.899822277068907,
                    16.830491830823902,
                    16.826766372294138,
                    17.619794655417227,
                    16.87053411847006,
                    17.55021440409405,
                    16.87111187683952,
                    17.079568099894924,
                    16.849241324863495,
                    18.185498943737976,
                    17.781336510017898,
                    18.184054252662456,
                    18.528432957162202,
                    18.809953366681736,
                    18.931695030918835,
                    18.767265184773798,
                    17.5176211263095,
                    18.111987080711273,
                    19.117295660812978,
                    18.36959981997113,
                    18.55053543667368,
                    19.280303074341717,
                    19.963337889755348,
                    21.377673637841006,
                    21.372801357517076,
                    21.401995696464677,
                    21.792718000341456,
                    22.702188875815867,
                    22.434110259324033,
                    22.794440600026245,
                    23.13017004603683,
                    29.61341644766306,
                    27.984817304290043,
                    26.78920706592315,
                    24.73251368707704,
                    24.87299891704095,
                    25.94946930780557,
                    25.396592316724615,
                    25.130832616294782,
                    25.39158093668865,
                    24.433467109907447,
                    24.799845312692558,
                    23.68427453585575,
                    25.048406069920432,
                    23.157465827293702,
                    24.007072687577196,
                    25.400401130010685,
                    26.545137963892543,
                    27.562781466718555,
                    26.742580559278423,
                    26.27204653293438,
                    25.356316252283634,
                    19.272148218264114,
                    24.873580864721994,
                    26.451798691272167,
                    25.702799031052,
                    24.756384487644606,
                    23.93998708412234,
                    24.540505733093376,
                    26.105625142352466,
                    28.75304504122353,
                    27.83063498255684,
                    26.78379709085502,
                    26.747333493339685,
                    29.233691212191097,
                    29.949854981909972,
                    28.256342010204616,
                    27.25784981574385,
                    28.71085074304191,
                    29.374168157961616,
                    30.188317709881826,
                    30.943710777062105,
                    32.32330351676946,
                    31.58874078898992,
                    31.306379228123475,
                    31.295097118475084,
                    32.233346333158345,
                    30.837761193563477,
                    28.299900983147932,
                    28.42021515196115,
                    30.291790219323662,
                    31.58879663001754,
                    32.305180691058,
                    32.582705205154134,
                    32.6182269544765,
                    32.57653368640277,
                    32.44703520981015,
                    32.06729048932365
                  ]
                },
                {
                  "line": {
                    "color": "black",
                    "dash": "dot"
                  },
                  "mode": "lines",
                  "name": "Baseline",
                  "type": "scatter",
                  "x": [
                    "2016-01-01T00:00:00.000000000",
                    "2016-02-01T00:00:00.000000000",
                    "2016-03-01T00:00:00.000000000",
                    "2016-04-01T00:00:00.000000000",
                    "2016-05-01T00:00:00.000000000",
                    "2016-06-01T00:00:00.000000000",
                    "2016-07-01T00:00:00.000000000",
                    "2016-08-01T00:00:00.000000000",
                    "2016-09-01T00:00:00.000000000",
                    "2016-10-01T00:00:00.000000000",
                    "2016-11-01T00:00:00.000000000",
                    "2016-12-01T00:00:00.000000000",
                    "2017-01-01T00:00:00.000000000",
                    "2017-02-01T00:00:00.000000000",
                    "2017-03-01T00:00:00.000000000",
                    "2017-04-01T00:00:00.000000000",
                    "2017-05-01T00:00:00.000000000",
                    "2017-06-01T00:00:00.000000000",
                    "2017-07-01T00:00:00.000000000",
                    "2017-08-01T00:00:00.000000000",
                    "2017-09-01T00:00:00.000000000",
                    "2017-10-01T00:00:00.000000000",
                    "2017-11-01T00:00:00.000000000",
                    "2017-12-01T00:00:00.000000000",
                    "2018-01-01T00:00:00.000000000",
                    "2018-02-01T00:00:00.000000000",
                    "2018-03-01T00:00:00.000000000",
                    "2018-04-01T00:00:00.000000000",
                    "2018-05-01T00:00:00.000000000",
                    "2018-06-01T00:00:00.000000000",
                    "2018-07-01T00:00:00.000000000",
                    "2018-08-01T00:00:00.000000000",
                    "2018-09-01T00:00:00.000000000",
                    "2018-10-01T00:00:00.000000000",
                    "2018-11-01T00:00:00.000000000",
                    "2018-12-01T00:00:00.000000000",
                    "2019-01-01T00:00:00.000000000",
                    "2019-02-01T00:00:00.000000000",
                    "2019-03-01T00:00:00.000000000",
                    "2019-04-01T00:00:00.000000000",
                    "2019-05-01T00:00:00.000000000",
                    "2019-06-01T00:00:00.000000000",
                    "2019-07-01T00:00:00.000000000",
                    "2019-08-01T00:00:00.000000000",
                    "2019-09-01T00:00:00.000000000",
                    "2019-10-01T00:00:00.000000000",
                    "2019-11-01T00:00:00.000000000",
                    "2019-12-01T00:00:00.000000000",
                    "2020-01-01T00:00:00.000000000",
                    "2020-02-01T00:00:00.000000000",
                    "2020-03-01T00:00:00.000000000",
                    "2020-04-01T00:00:00.000000000",
                    "2020-05-01T00:00:00.000000000",
                    "2020-06-01T00:00:00.000000000",
                    "2020-07-01T00:00:00.000000000",
                    "2020-08-01T00:00:00.000000000",
                    "2020-09-01T00:00:00.000000000",
                    "2020-10-01T00:00:00.000000000",
                    "2020-11-01T00:00:00.000000000",
                    "2020-12-01T00:00:00.000000000",
                    "2021-01-01T00:00:00.000000000",
                    "2021-02-01T00:00:00.000000000",
                    "2021-03-01T00:00:00.000000000",
                    "2021-04-01T00:00:00.000000000",
                    "2021-05-01T00:00:00.000000000",
                    "2021-06-01T00:00:00.000000000",
                    "2021-07-01T00:00:00.000000000",
                    "2021-08-01T00:00:00.000000000",
                    "2021-09-01T00:00:00.000000000",
                    "2021-10-01T00:00:00.000000000",
                    "2021-11-01T00:00:00.000000000",
                    "2021-12-01T00:00:00.000000000",
                    "2022-01-01T00:00:00.000000000",
                    "2022-02-01T00:00:00.000000000",
                    "2022-03-01T00:00:00.000000000",
                    "2022-04-01T00:00:00.000000000",
                    "2022-05-01T00:00:00.000000000",
                    "2022-06-01T00:00:00.000000000",
                    "2022-07-01T00:00:00.000000000",
                    "2022-08-01T00:00:00.000000000",
                    "2022-09-01T00:00:00.000000000",
                    "2022-10-01T00:00:00.000000000",
                    "2022-11-01T00:00:00.000000000",
                    "2022-12-01T00:00:00.000000000",
                    "2023-01-01T00:00:00.000000000",
                    "2023-02-01T00:00:00.000000000",
                    "2023-03-01T00:00:00.000000000",
                    "2023-04-01T00:00:00.000000000",
                    "2023-05-01T00:00:00.000000000",
                    "2023-06-01T00:00:00.000000000",
                    "2023-07-01T00:00:00.000000000",
                    "2023-08-01T00:00:00.000000000",
                    "2023-09-01T00:00:00.000000000",
                    "2023-10-01T00:00:00.000000000",
                    "2023-11-01T00:00:00.000000000",
                    "2023-12-01T00:00:00.000000000",
                    "2024-01-01T00:00:00.000000000",
                    "2024-02-01T00:00:00.000000000",
                    "2024-03-01T00:00:00.000000000",
                    "2024-04-01T00:00:00.000000000",
                    "2024-05-01T00:00:00.000000000",
                    "2024-06-01T00:00:00.000000000",
                    "2024-07-01T00:00:00.000000000",
                    "2024-08-01T00:00:00.000000000",
                    "2024-09-01T00:00:00.000000000",
                    "2024-10-01T00:00:00.000000000",
                    "2024-11-01T00:00:00.000000000",
                    "2024-12-01T00:00:00.000000000"
                  ],
                  "y": [
                    11.072480061537897,
                    11.293363970421003,
                    11.514247879304111,
                    11.735131788187218,
                    11.956015697070324,
                    12.17689960595343,
                    12.397783514836537,
                    12.618667423719643,
                    12.839551332602749,
                    13.060435241485857,
                    13.281319150368963,
                    13.50220305925207,
                    13.723086968135176,
                    13.943970877018284,
                    14.16485478590139,
                    14.385738694784497,
                    14.606622603667603,
                    14.827506512550709,
                    15.048390421433815,
                    15.269274330316922,
                    15.490158239200028,
                    15.711042148083136,
                    15.931926056966242,
                    16.15280996584935,
                    16.373693874732457,
                    16.594577783615563,
                    16.81546169249867,
                    17.036345601381775,
                    17.25722951026488,
                    17.478113419147988,
                    17.698997328031094,
                    17.9198812369142,
                    18.140765145797307,
                    18.361649054680413,
                    18.582532963563523,
                    18.803416872446626,
                    19.024300781329735,
                    19.24518469021284,
                    19.466068599095948,
                    19.686952507979054,
                    19.90783641686216,
                    20.128720325745267,
                    20.349604234628373,
                    20.570488143511483,
                    20.791372052394586,
                    21.012255961277695,
                    21.233139870160798,
                    21.454023779043908,
                    21.67490768792701,
                    21.89579159681012,
                    22.116675505693227,
                    22.337559414576333,
                    22.55844332345944,
                    22.779327232342546,
                    23.000211141225652,
                    23.221095050108758,
                    23.441978958991868,
                    23.66286286787497,
                    23.88374677675808,
                    24.104630685641183,
                    24.325514594524293,
                    24.5463985034074,
                    24.767282412290506,
                    24.988166321173612,
                    25.209050230056718,
                    25.429934138939824,
                    25.65081804782293,
                    25.87170195670604,
                    26.092585865589143,
                    26.313469774472253,
                    26.534353683355356,
                    26.755237592238466,
                    26.97612150112157,
                    27.197005410004678,
                    27.41788931888778,
                    27.63877322777089,
                    27.859657136654,
                    28.080541045537103,
                    28.301424954420213,
                    28.522308863303316,
                    28.743192772186426,
                    28.96407668106953,
                    29.184960589952638,
                    29.40584449883574,
                    29.62672840771885,
                    29.847612316601953,
                    30.068496225485063,
                    30.289380134368173,
                    30.510264043251276,
                    30.731147952134386,
                    30.95203186101749,
                    31.172915769900598,
                    31.3937996787837,
                    31.61468358766681,
                    31.835567496549913,
                    32.05645140543302,
                    32.277335314316126,
                    32.498219223199236,
                    32.719103132082346,
                    32.93998704096545,
                    33.16087094984856,
                    33.38175485873166,
                    33.60263876761477,
                    33.82352267649787,
                    34.04440658538098,
                    34.265290494264086,
                    34.486174403147196,
                    34.7070583120303
                  ]
                },
                {
                  "line": {
                    "color": "purple"
                  },
                  "mode": "lines",
                  "name": "Full model",
                  "type": "scatter",
                  "x": [
                    "2016-01-01T00:00:00.000000000",
                    "2016-02-01T00:00:00.000000000",
                    "2016-03-01T00:00:00.000000000",
                    "2016-04-01T00:00:00.000000000",
                    "2016-05-01T00:00:00.000000000",
                    "2016-06-01T00:00:00.000000000",
                    "2016-07-01T00:00:00.000000000",
                    "2016-08-01T00:00:00.000000000",
                    "2016-09-01T00:00:00.000000000",
                    "2016-10-01T00:00:00.000000000",
                    "2016-11-01T00:00:00.000000000",
                    "2016-12-01T00:00:00.000000000",
                    "2017-01-01T00:00:00.000000000",
                    "2017-02-01T00:00:00.000000000",
                    "2017-03-01T00:00:00.000000000",
                    "2017-04-01T00:00:00.000000000",
                    "2017-05-01T00:00:00.000000000",
                    "2017-06-01T00:00:00.000000000",
                    "2017-07-01T00:00:00.000000000",
                    "2017-08-01T00:00:00.000000000",
                    "2017-09-01T00:00:00.000000000",
                    "2017-10-01T00:00:00.000000000",
                    "2017-11-01T00:00:00.000000000",
                    "2017-12-01T00:00:00.000000000",
                    "2018-01-01T00:00:00.000000000",
                    "2018-02-01T00:00:00.000000000",
                    "2018-03-01T00:00:00.000000000",
                    "2018-04-01T00:00:00.000000000",
                    "2018-05-01T00:00:00.000000000",
                    "2018-06-01T00:00:00.000000000",
                    "2018-07-01T00:00:00.000000000",
                    "2018-08-01T00:00:00.000000000",
                    "2018-09-01T00:00:00.000000000",
                    "2018-10-01T00:00:00.000000000",
                    "2018-11-01T00:00:00.000000000",
                    "2018-12-01T00:00:00.000000000",
                    "2019-01-01T00:00:00.000000000",
                    "2019-02-01T00:00:00.000000000",
                    "2019-03-01T00:00:00.000000000",
                    "2019-04-01T00:00:00.000000000",
                    "2019-05-01T00:00:00.000000000",
                    "2019-06-01T00:00:00.000000000",
                    "2019-07-01T00:00:00.000000000",
                    "2019-08-01T00:00:00.000000000",
                    "2019-09-01T00:00:00.000000000",
                    "2019-10-01T00:00:00.000000000",
                    "2019-11-01T00:00:00.000000000",
                    "2019-12-01T00:00:00.000000000",
                    "2020-01-01T00:00:00.000000000",
                    "2020-02-01T00:00:00.000000000",
                    "2020-03-01T00:00:00.000000000",
                    "2020-04-01T00:00:00.000000000",
                    "2020-05-01T00:00:00.000000000",
                    "2020-06-01T00:00:00.000000000",
                    "2020-07-01T00:00:00.000000000",
                    "2020-08-01T00:00:00.000000000",
                    "2020-09-01T00:00:00.000000000",
                    "2020-10-01T00:00:00.000000000",
                    "2020-11-01T00:00:00.000000000",
                    "2020-12-01T00:00:00.000000000",
                    "2021-01-01T00:00:00.000000000",
                    "2021-02-01T00:00:00.000000000",
                    "2021-03-01T00:00:00.000000000",
                    "2021-04-01T00:00:00.000000000",
                    "2021-05-01T00:00:00.000000000",
                    "2021-06-01T00:00:00.000000000",
                    "2021-07-01T00:00:00.000000000",
                    "2021-08-01T00:00:00.000000000",
                    "2021-09-01T00:00:00.000000000",
                    "2021-10-01T00:00:00.000000000",
                    "2021-11-01T00:00:00.000000000",
                    "2021-12-01T00:00:00.000000000",
                    "2022-01-01T00:00:00.000000000",
                    "2022-02-01T00:00:00.000000000",
                    "2022-03-01T00:00:00.000000000",
                    "2022-04-01T00:00:00.000000000",
                    "2022-05-01T00:00:00.000000000",
                    "2022-06-01T00:00:00.000000000",
                    "2022-07-01T00:00:00.000000000",
                    "2022-08-01T00:00:00.000000000",
                    "2022-09-01T00:00:00.000000000",
                    "2022-10-01T00:00:00.000000000",
                    "2022-11-01T00:00:00.000000000",
                    "2022-12-01T00:00:00.000000000",
                    "2023-01-01T00:00:00.000000000",
                    "2023-02-01T00:00:00.000000000",
                    "2023-03-01T00:00:00.000000000",
                    "2023-04-01T00:00:00.000000000",
                    "2023-05-01T00:00:00.000000000",
                    "2023-06-01T00:00:00.000000000",
                    "2023-07-01T00:00:00.000000000",
                    "2023-08-01T00:00:00.000000000",
                    "2023-09-01T00:00:00.000000000",
                    "2023-10-01T00:00:00.000000000",
                    "2023-11-01T00:00:00.000000000",
                    "2023-12-01T00:00:00.000000000",
                    "2024-01-01T00:00:00.000000000",
                    "2024-02-01T00:00:00.000000000",
                    "2024-03-01T00:00:00.000000000",
                    "2024-04-01T00:00:00.000000000",
                    "2024-05-01T00:00:00.000000000",
                    "2024-06-01T00:00:00.000000000",
                    "2024-07-01T00:00:00.000000000",
                    "2024-08-01T00:00:00.000000000",
                    "2024-09-01T00:00:00.000000000",
                    "2024-10-01T00:00:00.000000000",
                    "2024-11-01T00:00:00.000000000",
                    "2024-12-01T00:00:00.000000000"
                  ],
                  "y": [
                    11.072480061537897,
                    11.293363970421003,
                    11.514247879304111,
                    11.735131788187218,
                    11.956015697070324,
                    12.17689960595343,
                    12.397783514836537,
                    12.618667423719643,
                    12.839551332602749,
                    13.060435241485857,
                    13.281319150368963,
                    13.50220305925207,
                    13.723086968135176,
                    13.943970877018284,
                    14.16485478590139,
                    14.385738694784497,
                    14.606622603667603,
                    14.827506512550709,
                    15.048390421433815,
                    15.269274330316922,
                    15.490158239200028,
                    15.711042148083136,
                    15.931926056966242,
                    16.15280996584935,
                    16.373693874732457,
                    16.594577783615563,
                    16.81546169249867,
                    17.036345601381775,
                    17.25722951026488,
                    17.478113419147988,
                    17.698997328031094,
                    17.9198812369142,
                    18.140765145797307,
                    18.361649054680413,
                    18.582532963563523,
                    18.803416872446626,
                    19.024300781329735,
                    19.24518469021284,
                    19.466068599095948,
                    19.686952507979054,
                    19.90783641686216,
                    20.128720325745267,
                    20.349604234628373,
                    20.570488143511483,
                    20.791372052394586,
                    21.012255961277695,
                    21.233139870160798,
                    21.454023779043908,
                    21.67490768792701,
                    21.89579159681012,
                    22.116675505693227,
                    26.70145884166028,
                    26.613656032858156,
                    26.525853224056032,
                    26.438050415253908,
                    26.350247606451784,
                    26.262444797649664,
                    26.17464198884754,
                    26.08683918004542,
                    25.999036371243292,
                    25.911233562441172,
                    25.823430753639048,
                    25.735627944836924,
                    25.6478251360348,
                    25.560022327232677,
                    25.472219518430553,
                    25.38441670962843,
                    25.29661390082631,
                    25.208811092024185,
                    25.12100828322206,
                    25.033205474419937,
                    24.945402665617816,
                    24.85759985681569,
                    24.76979704801357,
                    24.68199423921144,
                    25.417920137978413,
                    25.660472568251024,
                    25.903024998523623,
                    26.145577428796233,
                    26.388129859068837,
                    26.630682289341443,
                    26.873234719614047,
                    27.115787149886657,
                    27.35833958015926,
                    27.60089201043187,
                    27.84344444070447,
                    28.08599687097708,
                    28.32854930124969,
                    28.57110173152229,
                    28.8136541617949,
                    29.056206592067504,
                    29.298759022340114,
                    29.541311452612717,
                    29.783863882885324,
                    30.026416313157927,
                    30.268968743430538,
                    30.511521173703137,
                    30.754073603975748,
                    30.996626034248358,
                    31.23917846452096,
                    31.48173089479357,
                    31.72428332506617,
                    31.96683575533878,
                    32.20938818561138,
                    32.45194061588399,
                    32.694493046156595,
                    32.937045476429205,
                    33.17959790670181
                  ]
                }
              ],
              "layout": {
                "annotations": [
                  {
                    "arrowhead": 2,
                    "ax": 30,
                    "ay": -40,
                    "showarrow": true,
                    "text": "Pandemia",
                    "x": "2020-04-01",
                    "y": 32.6182269544765
                  },
                  {
                    "arrowhead": 2,
                    "ax": 30,
                    "ay": -40,
                    "showarrow": true,
                    "text": "Pos Pandemia",
                    "x": "2022-04-01",
                    "y": 32.6182269544765
                  }
                ],
                "legend": {
                  "title": {
                    "text": "Legend"
                  }
                },
                "shapes": [
                  {
                    "line": {
                      "color": "black",
                      "dash": "dash"
                    },
                    "type": "line",
                    "x0": "2020-04-01",
                    "x1": "2020-04-01",
                    "y0": 11.411492827787312,
                    "y1": 32.6182269544765
                  },
                  {
                    "line": {
                      "color": "black",
                      "dash": "dash"
                    },
                    "type": "line",
                    "x0": "2022-04-01",
                    "x1": "2022-04-01",
                    "y0": 11.411492827787312,
                    "y1": 32.6182269544765
                  }
                ],
                "template": {
                  "data": {
                    "bar": [
                      {
                        "error_x": {
                          "color": "#2a3f5f"
                        },
                        "error_y": {
                          "color": "#2a3f5f"
                        },
                        "marker": {
                          "line": {
                            "color": "#E5ECF6",
                            "width": 0.5
                          },
                          "pattern": {
                            "fillmode": "overlay",
                            "size": 10,
                            "solidity": 0.2
                          }
                        },
                        "type": "bar"
                      }
                    ],
                    "barpolar": [
                      {
                        "marker": {
                          "line": {
                            "color": "#E5ECF6",
                            "width": 0.5
                          },
                          "pattern": {
                            "fillmode": "overlay",
                            "size": 10,
                            "solidity": 0.2
                          }
                        },
                        "type": "barpolar"
                      }
                    ],
                    "carpet": [
                      {
                        "aaxis": {
                          "endlinecolor": "#2a3f5f",
                          "gridcolor": "white",
                          "linecolor": "white",
                          "minorgridcolor": "white",
                          "startlinecolor": "#2a3f5f"
                        },
                        "baxis": {
                          "endlinecolor": "#2a3f5f",
                          "gridcolor": "white",
                          "linecolor": "white",
                          "minorgridcolor": "white",
                          "startlinecolor": "#2a3f5f"
                        },
                        "type": "carpet"
                      }
                    ],
                    "choropleth": [
                      {
                        "colorbar": {
                          "outlinewidth": 0,
                          "ticks": ""
                        },
                        "type": "choropleth"
                      }
                    ],
                    "contour": [
                      {
                        "colorbar": {
                          "outlinewidth": 0,
                          "ticks": ""
                        },
                        "colorscale": [
                          [
                            0,
                            "#0d0887"
                          ],
                          [
                            0.1111111111111111,
                            "#46039f"
                          ],
                          [
                            0.2222222222222222,
                            "#7201a8"
                          ],
                          [
                            0.3333333333333333,
                            "#9c179e"
                          ],
                          [
                            0.4444444444444444,
                            "#bd3786"
                          ],
                          [
                            0.5555555555555556,
                            "#d8576b"
                          ],
                          [
                            0.6666666666666666,
                            "#ed7953"
                          ],
                          [
                            0.7777777777777778,
                            "#fb9f3a"
                          ],
                          [
                            0.8888888888888888,
                            "#fdca26"
                          ],
                          [
                            1,
                            "#f0f921"
                          ]
                        ],
                        "type": "contour"
                      }
                    ],
                    "contourcarpet": [
                      {
                        "colorbar": {
                          "outlinewidth": 0,
                          "ticks": ""
                        },
                        "type": "contourcarpet"
                      }
                    ],
                    "heatmap": [
                      {
                        "colorbar": {
                          "outlinewidth": 0,
                          "ticks": ""
                        },
                        "colorscale": [
                          [
                            0,
                            "#0d0887"
                          ],
                          [
                            0.1111111111111111,
                            "#46039f"
                          ],
                          [
                            0.2222222222222222,
                            "#7201a8"
                          ],
                          [
                            0.3333333333333333,
                            "#9c179e"
                          ],
                          [
                            0.4444444444444444,
                            "#bd3786"
                          ],
                          [
                            0.5555555555555556,
                            "#d8576b"
                          ],
                          [
                            0.6666666666666666,
                            "#ed7953"
                          ],
                          [
                            0.7777777777777778,
                            "#fb9f3a"
                          ],
                          [
                            0.8888888888888888,
                            "#fdca26"
                          ],
                          [
                            1,
                            "#f0f921"
                          ]
                        ],
                        "type": "heatmap"
                      }
                    ],
                    "heatmapgl": [
                      {
                        "colorbar": {
                          "outlinewidth": 0,
                          "ticks": ""
                        },
                        "colorscale": [
                          [
                            0,
                            "#0d0887"
                          ],
                          [
                            0.1111111111111111,
                            "#46039f"
                          ],
                          [
                            0.2222222222222222,
                            "#7201a8"
                          ],
                          [
                            0.3333333333333333,
                            "#9c179e"
                          ],
                          [
                            0.4444444444444444,
                            "#bd3786"
                          ],
                          [
                            0.5555555555555556,
                            "#d8576b"
                          ],
                          [
                            0.6666666666666666,
                            "#ed7953"
                          ],
                          [
                            0.7777777777777778,
                            "#fb9f3a"
                          ],
                          [
                            0.8888888888888888,
                            "#fdca26"
                          ],
                          [
                            1,
                            "#f0f921"
                          ]
                        ],
                        "type": "heatmapgl"
                      }
                    ],
                    "histogram": [
                      {
                        "marker": {
                          "pattern": {
                            "fillmode": "overlay",
                            "size": 10,
                            "solidity": 0.2
                          }
                        },
                        "type": "histogram"
                      }
                    ],
                    "histogram2d": [
                      {
                        "colorbar": {
                          "outlinewidth": 0,
                          "ticks": ""
                        },
                        "colorscale": [
                          [
                            0,
                            "#0d0887"
                          ],
                          [
                            0.1111111111111111,
                            "#46039f"
                          ],
                          [
                            0.2222222222222222,
                            "#7201a8"
                          ],
                          [
                            0.3333333333333333,
                            "#9c179e"
                          ],
                          [
                            0.4444444444444444,
                            "#bd3786"
                          ],
                          [
                            0.5555555555555556,
                            "#d8576b"
                          ],
                          [
                            0.6666666666666666,
                            "#ed7953"
                          ],
                          [
                            0.7777777777777778,
                            "#fb9f3a"
                          ],
                          [
                            0.8888888888888888,
                            "#fdca26"
                          ],
                          [
                            1,
                            "#f0f921"
                          ]
                        ],
                        "type": "histogram2d"
                      }
                    ],
                    "histogram2dcontour": [
                      {
                        "colorbar": {
                          "outlinewidth": 0,
                          "ticks": ""
                        },
                        "colorscale": [
                          [
                            0,
                            "#0d0887"
                          ],
                          [
                            0.1111111111111111,
                            "#46039f"
                          ],
                          [
                            0.2222222222222222,
                            "#7201a8"
                          ],
                          [
                            0.3333333333333333,
                            "#9c179e"
                          ],
                          [
                            0.4444444444444444,
                            "#bd3786"
                          ],
                          [
                            0.5555555555555556,
                            "#d8576b"
                          ],
                          [
                            0.6666666666666666,
                            "#ed7953"
                          ],
                          [
                            0.7777777777777778,
                            "#fb9f3a"
                          ],
                          [
                            0.8888888888888888,
                            "#fdca26"
                          ],
                          [
                            1,
                            "#f0f921"
                          ]
                        ],
                        "type": "histogram2dcontour"
                      }
                    ],
                    "mesh3d": [
                      {
                        "colorbar": {
                          "outlinewidth": 0,
                          "ticks": ""
                        },
                        "type": "mesh3d"
                      }
                    ],
                    "parcoords": [
                      {
                        "line": {
                          "colorbar": {
                            "outlinewidth": 0,
                            "ticks": ""
                          }
                        },
                        "type": "parcoords"
                      }
                    ],
                    "pie": [
                      {
                        "automargin": true,
                        "type": "pie"
                      }
                    ],
                    "scatter": [
                      {
                        "fillpattern": {
                          "fillmode": "overlay",
                          "size": 10,
                          "solidity": 0.2
                        },
                        "type": "scatter"
                      }
                    ],
                    "scatter3d": [
                      {
                        "line": {
                          "colorbar": {
                            "outlinewidth": 0,
                            "ticks": ""
                          }
                        },
                        "marker": {
                          "colorbar": {
                            "outlinewidth": 0,
                            "ticks": ""
                          }
                        },
                        "type": "scatter3d"
                      }
                    ],
                    "scattercarpet": [
                      {
                        "marker": {
                          "colorbar": {
                            "outlinewidth": 0,
                            "ticks": ""
                          }
                        },
                        "type": "scattercarpet"
                      }
                    ],
                    "scattergeo": [
                      {
                        "marker": {
                          "colorbar": {
                            "outlinewidth": 0,
                            "ticks": ""
                          }
                        },
                        "type": "scattergeo"
                      }
                    ],
                    "scattergl": [
                      {
                        "marker": {
                          "colorbar": {
                            "outlinewidth": 0,
                            "ticks": ""
                          }
                        },
                        "type": "scattergl"
                      }
                    ],
                    "scattermapbox": [
                      {
                        "marker": {
                          "colorbar": {
                            "outlinewidth": 0,
                            "ticks": ""
                          }
                        },
                        "type": "scattermapbox"
                      }
                    ],
                    "scatterpolar": [
                      {
                        "marker": {
                          "colorbar": {
                            "outlinewidth": 0,
                            "ticks": ""
                          }
                        },
                        "type": "scatterpolar"
                      }
                    ],
                    "scatterpolargl": [
                      {
                        "marker": {
                          "colorbar": {
                            "outlinewidth": 0,
                            "ticks": ""
                          }
                        },
                        "type": "scatterpolargl"
                      }
                    ],
                    "scatterternary": [
                      {
                        "marker": {
                          "colorbar": {
                            "outlinewidth": 0,
                            "ticks": ""
                          }
                        },
                        "type": "scatterternary"
                      }
                    ],
                    "surface": [
                      {
                        "colorbar": {
                          "outlinewidth": 0,
                          "ticks": ""
                        },
                        "colorscale": [
                          [
                            0,
                            "#0d0887"
                          ],
                          [
                            0.1111111111111111,
                            "#46039f"
                          ],
                          [
                            0.2222222222222222,
                            "#7201a8"
                          ],
                          [
                            0.3333333333333333,
                            "#9c179e"
                          ],
                          [
                            0.4444444444444444,
                            "#bd3786"
                          ],
                          [
                            0.5555555555555556,
                            "#d8576b"
                          ],
                          [
                            0.6666666666666666,
                            "#ed7953"
                          ],
                          [
                            0.7777777777777778,
                            "#fb9f3a"
                          ],
                          [
                            0.8888888888888888,
                            "#fdca26"
                          ],
                          [
                            1,
                            "#f0f921"
                          ]
                        ],
                        "type": "surface"
                      }
                    ],
                    "table": [
                      {
                        "cells": {
                          "fill": {
                            "color": "#EBF0F8"
                          },
                          "line": {
                            "color": "white"
                          }
                        },
                        "header": {
                          "fill": {
                            "color": "#C8D4E3"
                          },
                          "line": {
                            "color": "white"
                          }
                        },
                        "type": "table"
                      }
                    ]
                  },
                  "layout": {
                    "annotationdefaults": {
                      "arrowcolor": "#2a3f5f",
                      "arrowhead": 0,
                      "arrowwidth": 1
                    },
                    "autotypenumbers": "strict",
                    "coloraxis": {
                      "colorbar": {
                        "outlinewidth": 0,
                        "ticks": ""
                      }
                    },
                    "colorscale": {
                      "diverging": [
                        [
                          0,
                          "#8e0152"
                        ],
                        [
                          0.1,
                          "#c51b7d"
                        ],
                        [
                          0.2,
                          "#de77ae"
                        ],
                        [
                          0.3,
                          "#f1b6da"
                        ],
                        [
                          0.4,
                          "#fde0ef"
                        ],
                        [
                          0.5,
                          "#f7f7f7"
                        ],
                        [
                          0.6,
                          "#e6f5d0"
                        ],
                        [
                          0.7,
                          "#b8e186"
                        ],
                        [
                          0.8,
                          "#7fbc41"
                        ],
                        [
                          0.9,
                          "#4d9221"
                        ],
                        [
                          1,
                          "#276419"
                        ]
                      ],
                      "sequential": [
                        [
                          0,
                          "#0d0887"
                        ],
                        [
                          0.1111111111111111,
                          "#46039f"
                        ],
                        [
                          0.2222222222222222,
                          "#7201a8"
                        ],
                        [
                          0.3333333333333333,
                          "#9c179e"
                        ],
                        [
                          0.4444444444444444,
                          "#bd3786"
                        ],
                        [
                          0.5555555555555556,
                          "#d8576b"
                        ],
                        [
                          0.6666666666666666,
                          "#ed7953"
                        ],
                        [
                          0.7777777777777778,
                          "#fb9f3a"
                        ],
                        [
                          0.8888888888888888,
                          "#fdca26"
                        ],
                        [
                          1,
                          "#f0f921"
                        ]
                      ],
                      "sequentialminus": [
                        [
                          0,
                          "#0d0887"
                        ],
                        [
                          0.1111111111111111,
                          "#46039f"
                        ],
                        [
                          0.2222222222222222,
                          "#7201a8"
                        ],
                        [
                          0.3333333333333333,
                          "#9c179e"
                        ],
                        [
                          0.4444444444444444,
                          "#bd3786"
                        ],
                        [
                          0.5555555555555556,
                          "#d8576b"
                        ],
                        [
                          0.6666666666666666,
                          "#ed7953"
                        ],
                        [
                          0.7777777777777778,
                          "#fb9f3a"
                        ],
                        [
                          0.8888888888888888,
                          "#fdca26"
                        ],
                        [
                          1,
                          "#f0f921"
                        ]
                      ]
                    },
                    "colorway": [
                      "#636efa",
                      "#EF553B",
                      "#00cc96",
                      "#ab63fa",
                      "#FFA15A",
                      "#19d3f3",
                      "#FF6692",
                      "#B6E880",
                      "#FF97FF",
                      "#FECB52"
                    ],
                    "font": {
                      "color": "#2a3f5f"
                    },
                    "geo": {
                      "bgcolor": "white",
                      "lakecolor": "white",
                      "landcolor": "#E5ECF6",
                      "showlakes": true,
                      "showland": true,
                      "subunitcolor": "white"
                    },
                    "hoverlabel": {
                      "align": "left"
                    },
                    "hovermode": "closest",
                    "mapbox": {
                      "style": "light"
                    },
                    "paper_bgcolor": "white",
                    "plot_bgcolor": "#E5ECF6",
                    "polar": {
                      "angularaxis": {
                        "gridcolor": "white",
                        "linecolor": "white",
                        "ticks": ""
                      },
                      "bgcolor": "#E5ECF6",
                      "radialaxis": {
                        "gridcolor": "white",
                        "linecolor": "white",
                        "ticks": ""
                      }
                    },
                    "scene": {
                      "xaxis": {
                        "backgroundcolor": "#E5ECF6",
                        "gridcolor": "white",
                        "gridwidth": 2,
                        "linecolor": "white",
                        "showbackground": true,
                        "ticks": "",
                        "zerolinecolor": "white"
                      },
                      "yaxis": {
                        "backgroundcolor": "#E5ECF6",
                        "gridcolor": "white",
                        "gridwidth": 2,
                        "linecolor": "white",
                        "showbackground": true,
                        "ticks": "",
                        "zerolinecolor": "white"
                      },
                      "zaxis": {
                        "backgroundcolor": "#E5ECF6",
                        "gridcolor": "white",
                        "gridwidth": 2,
                        "linecolor": "white",
                        "showbackground": true,
                        "ticks": "",
                        "zerolinecolor": "white"
                      }
                    },
                    "shapedefaults": {
                      "line": {
                        "color": "#2a3f5f"
                      }
                    },
                    "ternary": {
                      "aaxis": {
                        "gridcolor": "white",
                        "linecolor": "white",
                        "ticks": ""
                      },
                      "baxis": {
                        "gridcolor": "white",
                        "linecolor": "white",
                        "ticks": ""
                      },
                      "bgcolor": "#E5ECF6",
                      "caxis": {
                        "gridcolor": "white",
                        "linecolor": "white",
                        "ticks": ""
                      }
                    },
                    "title": {
                      "x": 0.05
                    },
                    "xaxis": {
                      "automargin": true,
                      "gridcolor": "white",
                      "linecolor": "white",
                      "ticks": "",
                      "title": {
                        "standoff": 15
                      },
                      "zerolinecolor": "white",
                      "zerolinewidth": 2
                    },
                    "yaxis": {
                      "automargin": true,
                      "gridcolor": "white",
                      "linecolor": "white",
                      "ticks": "",
                      "title": {
                        "standoff": 15
                      },
                      "zerolinecolor": "white",
                      "zerolinewidth": 2
                    }
                  }
                },
                "title": {
                  "text": "brasil"
                },
                "xaxis": {
                  "title": {
                    "text": "Time"
                  }
                },
                "yaxis": {
                  "title": {
                    "text": "Value"
                  }
                }
              }
            }
          },
          "metadata": {},
          "output_type": "display_data"
        }
      ],
      "source": [
        "for variable in results:\n",
        "    variable_result = results[variable]\n",
        "    variable_df = RegressionDF[RegressionDF[GROUP_COL_NAME] == variable]\n",
        "    plot_with_all_dummies(variable,\n",
        "                            variable_df,\n",
        "                            variable_result,\n",
        "                            exclude_coeffs_by_prefix=[\n",
        "                                \"month_\",\n",
        "                                'quarter_',\n",
        "                                'sin','cos'\n",
        "                                ],\n",
        "                            line_events = {\n",
        "                                #'Choque_Inicial':        [CHOQUE_INICIAL_START_DATE, CHOQUE_INICIAL_END_DATE, \"rgba(0, 0, 0, 0.25)\", False],\n",
        "                                #'Lockdown_2021':         [SECONDLOCKDOWN_START_DATE, SECONDLOCKDOWN_END_DATE, \"rgba(0, 0, 0, 0.25)\", False],\n",
        "                                'Pandemia':         [PANDEMIA_START_DATE, PANDEMIA_END_DATE, None, True],\n",
        "                                'Pos Pandemia':      [POS_PANDEMIA_START_DATE, END_DATE, None, True]\n",
        "                            },\n",
        "                            #real_serie_key=IR_VAR,\n",
        "                            #slope_coef_str='PrePandemia_Trend'\n",
        "\n",
        "\n",
        "\n",
        "                            )\n"
      ]
    }
  ],
  "metadata": {
    "colab": {
      "collapsed_sections": [
        "K8HZg-VlNIXd",
        "WcYnNsL4NIXl",
        "2IiKsqpaNIXu"
      ],
      "provenance": [],
      "toc_visible": true
    },
    "kernelspec": {
      "display_name": "Python 3",
      "name": "python3"
    },
    "language_info": {
      "codemirror_mode": {
        "name": "ipython",
        "version": 3
      },
      "file_extension": ".py",
      "mimetype": "text/x-python",
      "name": "python",
      "nbconvert_exporter": "python",
      "pygments_lexer": "ipython3",
      "version": "3.12.5"
    }
  },
  "nbformat": 4,
  "nbformat_minor": 0
}
